{
 "cells": [
  {
   "cell_type": "code",
   "execution_count": 1,
   "metadata": {},
   "outputs": [],
   "source": [
    "import os\n",
    "import pandas as pd\n",
    "import numpy as np\n",
    "import time, gc\n",
    "import cv2\n",
    "import matplotlib.pyplot as plt\n",
    "import torch\n",
    "import torch.nn as nn\n",
    "import torch.nn.functional as F\n",
    "import torch.optim as optim\n",
    "import pretrainedmodels\n",
    "from argparse import Namespace\n",
    "from sklearn.utils import shuffle\n",
    "from apex import amp\n",
    "from sklearn.model_selection import StratifiedKFold\n",
    "from efficientnet_pytorch import EfficientNet\n",
    "from cvcore.data.auto_augment import RandAugment\n",
    "from PIL import Image\n",
    "from utils import bn_update, moving_average, copy_model\n"
   ]
  },
  {
   "cell_type": "code",
   "execution_count": 2,
   "metadata": {},
   "outputs": [
    {
     "name": "stdout",
     "output_type": "stream",
     "text": [
      "class_map.csv\t\t       train.csv\r\n",
      "sample_submission.csv\t       train.csv.zip\r\n",
      "test.csv\t\t       train_image_data_0.parquet\r\n",
      "test_image_data_0.parquet      train_image_data_0.parquet.zip\r\n",
      "test_image_data_0.parquet.zip  train_image_data_1.parquet\r\n",
      "test_image_data_1.parquet      train_image_data_1.parquet.zip\r\n",
      "test_image_data_1.parquet.zip  train_image_data_2.parquet\r\n",
      "test_image_data_2.parquet      train_image_data_2.parquet.zip\r\n",
      "test_image_data_2.parquet.zip  train_image_data_3.parquet\r\n",
      "test_image_data_3.parquet      train_image_data_3.parquet.zip\r\n",
      "test_image_data_3.parquet.zip\r\n"
     ]
    }
   ],
   "source": [
    "!ls /home/chec/data/bengali"
   ]
  },
  {
   "cell_type": "code",
   "execution_count": 3,
   "metadata": {},
   "outputs": [],
   "source": [
    "#!ls /home/chec/data/bengali"
   ]
  },
  {
   "cell_type": "code",
   "execution_count": 4,
   "metadata": {},
   "outputs": [],
   "source": [
    "DATA_DIR = '/home/chec/data/bengali'"
   ]
  },
  {
   "cell_type": "code",
   "execution_count": 5,
   "metadata": {},
   "outputs": [],
   "source": [
    "train_df = pd.read_csv(f'{DATA_DIR}/train.csv')\n",
    "test_df = pd.read_csv(f'{DATA_DIR}/test.csv')\n",
    "class_map_df = pd.read_csv(f'{DATA_DIR}/class_map.csv')\n",
    "sample_sub_df = pd.read_csv(f'{DATA_DIR}/sample_submission.csv')"
   ]
  },
  {
   "cell_type": "code",
   "execution_count": 6,
   "metadata": {},
   "outputs": [
    {
     "data": {
      "text/html": [
       "<div>\n",
       "<style scoped>\n",
       "    .dataframe tbody tr th:only-of-type {\n",
       "        vertical-align: middle;\n",
       "    }\n",
       "\n",
       "    .dataframe tbody tr th {\n",
       "        vertical-align: top;\n",
       "    }\n",
       "\n",
       "    .dataframe thead th {\n",
       "        text-align: right;\n",
       "    }\n",
       "</style>\n",
       "<table border=\"1\" class=\"dataframe\">\n",
       "  <thead>\n",
       "    <tr style=\"text-align: right;\">\n",
       "      <th></th>\n",
       "      <th>image_id</th>\n",
       "      <th>grapheme_root</th>\n",
       "      <th>vowel_diacritic</th>\n",
       "      <th>consonant_diacritic</th>\n",
       "      <th>grapheme</th>\n",
       "    </tr>\n",
       "  </thead>\n",
       "  <tbody>\n",
       "    <tr>\n",
       "      <th>0</th>\n",
       "      <td>Train_0</td>\n",
       "      <td>15</td>\n",
       "      <td>9</td>\n",
       "      <td>5</td>\n",
       "      <td>ক্ট্রো</td>\n",
       "    </tr>\n",
       "    <tr>\n",
       "      <th>1</th>\n",
       "      <td>Train_1</td>\n",
       "      <td>159</td>\n",
       "      <td>0</td>\n",
       "      <td>0</td>\n",
       "      <td>হ</td>\n",
       "    </tr>\n",
       "    <tr>\n",
       "      <th>2</th>\n",
       "      <td>Train_2</td>\n",
       "      <td>22</td>\n",
       "      <td>3</td>\n",
       "      <td>5</td>\n",
       "      <td>খ্রী</td>\n",
       "    </tr>\n",
       "    <tr>\n",
       "      <th>3</th>\n",
       "      <td>Train_3</td>\n",
       "      <td>53</td>\n",
       "      <td>2</td>\n",
       "      <td>2</td>\n",
       "      <td>র্টি</td>\n",
       "    </tr>\n",
       "    <tr>\n",
       "      <th>4</th>\n",
       "      <td>Train_4</td>\n",
       "      <td>71</td>\n",
       "      <td>9</td>\n",
       "      <td>5</td>\n",
       "      <td>থ্রো</td>\n",
       "    </tr>\n",
       "  </tbody>\n",
       "</table>\n",
       "</div>"
      ],
      "text/plain": [
       "  image_id  grapheme_root  vowel_diacritic  consonant_diacritic grapheme\n",
       "0  Train_0             15                9                    5   ক্ট্রো\n",
       "1  Train_1            159                0                    0        হ\n",
       "2  Train_2             22                3                    5     খ্রী\n",
       "3  Train_3             53                2                    2     র্টি\n",
       "4  Train_4             71                9                    5     থ্রো"
      ]
     },
     "execution_count": 6,
     "metadata": {},
     "output_type": "execute_result"
    }
   ],
   "source": [
    "train_df.head()"
   ]
  },
  {
   "cell_type": "code",
   "execution_count": 7,
   "metadata": {},
   "outputs": [],
   "source": [
    "HEIGHT = 137\n",
    "WIDTH = 236"
   ]
  },
  {
   "cell_type": "code",
   "execution_count": 8,
   "metadata": {},
   "outputs": [],
   "source": [
    "from cvcore.data.auto_augment import Invert, RandAugment, AugmentAndMix\n",
    "from albumentations.core.transforms_interface import ImageOnlyTransform\n",
    "from augmix import RandomAugMix\n",
    "import albumentations as albu\n",
    "\n",
    "class RandAug(ImageOnlyTransform):\n",
    "    def __init__(self, always_apply=False, p=1.):\n",
    "        super().__init__(always_apply, p)\n",
    "        self.aug = RandAugment(n=2, m=27)\n",
    "\n",
    "    def apply(self, image, **params):\n",
    "        return np.asarray(self.aug(Image.fromarray(image))).astype(np.uint8)\n",
    "\n",
    "train_aug = albu.Compose([\n",
    "    RandAug(p=1.),\n",
    "    #RandomAugMix(severity=3, width=3, alpha=1., p=1.)\n",
    "])"
   ]
  },
  {
   "cell_type": "code",
   "execution_count": 9,
   "metadata": {},
   "outputs": [],
   "source": [
    "def get_train_augs():\n",
    "    #return RandAugment(n=2, m=27)\n",
    "    return train_aug"
   ]
  },
  {
   "cell_type": "code",
   "execution_count": 10,
   "metadata": {},
   "outputs": [],
   "source": [
    "#plt.imshow(x)"
   ]
  },
  {
   "cell_type": "code",
   "execution_count": 11,
   "metadata": {},
   "outputs": [],
   "source": [
    "#np.arange(10).copy()"
   ]
  },
  {
   "cell_type": "code",
   "execution_count": 12,
   "metadata": {},
   "outputs": [],
   "source": [
    "from torch.utils.data import DataLoader, Dataset\n",
    "from torchvision import transforms\n",
    "\n",
    "\n",
    "class BengaliDataset(Dataset):\n",
    "    def __init__(self, df, img_df, train_mode=True, test_mode=False):\n",
    "        self.df = df\n",
    "        self.img_df = img_df\n",
    "        self.train_mode = train_mode\n",
    "        self.test_mode = test_mode\n",
    "\n",
    "    def __getitem__(self, idx):\n",
    "        row = self.df.iloc[idx]\n",
    "        img = self.get_img(row.image_id)\n",
    "        orig_img = img.copy()\n",
    "        #print(img.shape)\n",
    "        if self.train_mode:\n",
    "            augs = get_train_augs()\n",
    "            img = augs(image=img)['image'].astype(np.uint8)\n",
    "            #img = np.asarray(augs(Image.fromarray(img)))\n",
    "        \n",
    "        img = np.expand_dims(img, axis=-1)\n",
    "        orig_img = np.expand_dims(orig_img, axis=-1)\n",
    "        \n",
    "        #print('###', img.shape)\n",
    "        #img = np.concatenate([img, img, img], 2)\n",
    "        #print('>>>', img.shape)\n",
    "        \n",
    "        # taken from https://www.kaggle.com/iafoss/image-preprocessing-128x128\n",
    "        #MEAN = [ 0.06922848809290576,  0.06922848809290576,  0.06922848809290576]\n",
    "        #STD = [ 0.20515700083327537,  0.20515700083327537,  0.20515700083327537]\n",
    "        \n",
    "        img = transforms.functional.to_tensor(img)\n",
    "        orig_img = transforms.functional.to_tensor(orig_img)\n",
    "        \n",
    "        #img = transforms.functional.normalize(img, mean=MEAN, std=STD)\n",
    "        \n",
    "        if self.test_mode:\n",
    "            return img\n",
    "        elif self.train_mode:\n",
    "            return img, orig_img, torch.tensor([row.grapheme_root, row.vowel_diacritic, row.consonant_diacritic, row.word_label])\n",
    "        else:\n",
    "            return img, torch.tensor([row.grapheme_root, row.vowel_diacritic, row.consonant_diacritic, row.word_label])\n",
    "                    \n",
    "    def get_img(self, img_id):\n",
    "        return 255 - self.img_df.loc[img_id].values.reshape(HEIGHT, WIDTH).astype(np.uint8)\n",
    "\n",
    "    def __len__(self):\n",
    "        return len(self.df)\n",
    "    \n",
    "def get_train_val_loaders(batch_size=4, val_batch_size=4, ifold=0, dev_mode=False):\n",
    "    train_df = pd.read_csv(f'{DATA_DIR}/train.csv')\n",
    "\n",
    "    train_df = shuffle(train_df, random_state=1234)\n",
    "\n",
    "    grapheme_words = np.unique(train_df.grapheme.values)\n",
    "    grapheme_words_dict = {grapheme: i for i, grapheme in enumerate(grapheme_words)}\n",
    "    train_df['word_label'] = train_df['grapheme'].map(lambda x: grapheme_words_dict[x])\n",
    "\n",
    "    print(train_df.shape)\n",
    "\n",
    "    if dev_mode:\n",
    "        img_df = pd.read_parquet(f'{DATA_DIR}/train_image_data_0.parquet').set_index('image_id')\n",
    "        train_df = train_df.iloc[:1000]\n",
    "    else:\n",
    "        img_dfs = [pd.read_parquet(f'{DATA_DIR}/train_image_data_{i}.parquet') for i in range(4)]\n",
    "        img_df = pd.concat(img_dfs, axis=0).set_index('image_id')\n",
    "    print(img_df.shape)\n",
    "    #split_index = int(len(train_df) * 0.9)\n",
    "    \n",
    "    #train = train_df.iloc[:split_index]\n",
    "    #val = train_df.iloc[split_index:]\n",
    "    \n",
    "    kf = StratifiedKFold(5, random_state=1234, shuffle=True)\n",
    "    for i, (train_idx, val_idx) in enumerate(kf.split(train_df, train_df['grapheme_root'].values)):\n",
    "        if i == ifold:\n",
    "            #print(val_idx)\n",
    "            train = train_df.iloc[train_idx]\n",
    "            val = train_df.iloc[val_idx]\n",
    "            break\n",
    "    assert i == ifold\n",
    "    print(train.shape, val.shape)\n",
    "    \n",
    "    train_ds = BengaliDataset(train, img_df, True, False)\n",
    "    val_ds = BengaliDataset(val, img_df, False, False)\n",
    "    \n",
    "    train_loader = DataLoader(train_ds, batch_size=batch_size, shuffle=True, num_workers=8, drop_last=True)\n",
    "    train_loader.num = len(train_ds)\n",
    "\n",
    "    val_loader = DataLoader(val_ds, batch_size=val_batch_size, shuffle=False, num_workers=8, drop_last=False)\n",
    "    val_loader.num = len(val_ds)\n",
    "\n",
    "    return train_loader, val_loader"
   ]
  },
  {
   "cell_type": "code",
   "execution_count": 13,
   "metadata": {},
   "outputs": [],
   "source": [
    "#train_loader, val_loader = get_train_val_loaders()"
   ]
  },
  {
   "cell_type": "code",
   "execution_count": 14,
   "metadata": {},
   "outputs": [],
   "source": [
    "#for x in train_loader:\n",
    "#    print(x)\n",
    "#    break"
   ]
  },
  {
   "cell_type": "markdown",
   "metadata": {},
   "source": [
    "# model"
   ]
  },
  {
   "cell_type": "code",
   "execution_count": 15,
   "metadata": {},
   "outputs": [],
   "source": [
    "#import pretrainedmodels"
   ]
  },
  {
   "cell_type": "code",
   "execution_count": 16,
   "metadata": {},
   "outputs": [],
   "source": [
    "#model_name = 'resnet50' # could be fbresnet152 or inceptionresnetv2\n",
    "#model = pretrainedmodels.__dict__[model_name](num_classes=1000, pretrained='imagenet').cuda()\n",
    "#model.eval()"
   ]
  },
  {
   "cell_type": "code",
   "execution_count": 17,
   "metadata": {},
   "outputs": [],
   "source": [
    "from argparse import Namespace\n",
    "import timm\n",
    "from timm.models.activations import Swish, Mish\n",
    "from timm.models.adaptive_avgmax_pool import SelectAdaptivePool2d"
   ]
  },
  {
   "cell_type": "code",
   "execution_count": 18,
   "metadata": {},
   "outputs": [],
   "source": [
    "MEAN = [ 0.06922848809290576 ]\n",
    "STD = [ 0.20515700083327537 ]"
   ]
  },
  {
   "cell_type": "code",
   "execution_count": 19,
   "metadata": {},
   "outputs": [],
   "source": [
    "MEAN = [ 0.06922848809290576 ]\n",
    "STD = [ 0.20515700083327537 ]\n",
    "import timm\n",
    "from timm.models.activations import Swish, Mish\n",
    "from timm.models.adaptive_avgmax_pool import SelectAdaptivePool2d\n",
    "\n",
    "class BengaliNet4(nn.Module):\n",
    "    def __init__(self, backbone_name='se_resnext50_32x4d'):\n",
    "        super(BengaliNet4, self).__init__()\n",
    "        self.n_grapheme = 168\n",
    "        self.n_vowel = 11\n",
    "        self.n_consonant = 7\n",
    "        self.n_word = 1295\n",
    "        self.backbone_name = backbone_name\n",
    "        \n",
    "        self.num_classes = self.n_grapheme + self.n_vowel + self.n_consonant + self.n_word\n",
    "        \n",
    "        self.backbone = pretrainedmodels.__dict__[self.backbone_name](num_classes=1000, pretrained='imagenet')\n",
    "        self.fc = nn.Linear(self.backbone.last_linear.in_features, self.num_classes)\n",
    "        \n",
    "        self.num_p2_features = self.backbone.layer2[-1].se_module.fc2.out_channels\n",
    "        self.num_p3_features = self.backbone.layer3[-1].se_module.fc2.out_channels\n",
    "        self.p2_head = nn.Conv2d(self.num_p2_features, self.num_p2_features * 4, kernel_size=(1, 1), stride=(1, 1), bias=False)\n",
    "        self.p3_head = nn.Conv2d(self.num_p3_features, self.num_p3_features * 4, kernel_size=(1, 1), stride=(1, 1), bias=False)\n",
    "        self.bn2 = nn.BatchNorm2d(self.num_p2_features * 4)\n",
    "        self.bn3 = nn.BatchNorm2d(self.num_p3_features * 4)\n",
    "        self.act2 = Swish()\n",
    "        self.act3 = Swish()\n",
    "        \n",
    "        self.fc_aux1 = nn.Linear(self.num_p3_features * 4, self.num_classes)\n",
    "        self.fc_aux2 = nn.Linear(self.num_p2_features * 4, self.num_classes)\n",
    "        \n",
    "        self.avg_pool = nn.AdaptiveAvgPool2d(1)\n",
    "        \n",
    "        for fc in [self.fc, self.fc_aux1, self.fc_aux2]:\n",
    "            nn.init.zeros_(fc.bias.data)\n",
    "\n",
    "        print('init model4')\n",
    "        \n",
    "    def features(self, x):\n",
    "        x = self.backbone.layer0(x); #print(x.size())\n",
    "        x = self.backbone.layer1(x); #print(x.size())\n",
    "        x = self.backbone.layer2(x); p2 = x; p2 = self.p2_head(p2); p2 = self.bn2(p2); p2 = self.act2(p2) #print(x.size())\n",
    "        x = self.backbone.layer3(x); p3 = x; p3 = self.p3_head(p3); p3 = self.bn3(p3); p3 = self.act3(p3) #print(x.size())\n",
    "        x = self.backbone.layer4(x); #print(x.size())\n",
    "        return x, p2, p3\n",
    "        \n",
    "    def logits(self, x, p2, p3):\n",
    "        x = self.avg_pool(x)\n",
    "        #x = F.dropout2d(x, 0.2, self.training)\n",
    "        x = torch.flatten(x, 1)\n",
    "        \n",
    "        p2 = self.avg_pool(p2)\n",
    "        p2 = torch.flatten(p2, 1)\n",
    "        \n",
    "        p3 = self.avg_pool(p3)\n",
    "        p3 = torch.flatten(p3, 1)\n",
    "        return self.fc(x), self.fc_aux1(p3), self.fc_aux2(p2)\n",
    "    \n",
    "    def forward(self, x):\n",
    "        x = F.interpolate(x, size=(224,224), mode='bilinear', align_corners=False)\n",
    "        for i in range(len(x)):\n",
    "            transforms.functional.normalize(x[i], mean=MEAN, std=STD, inplace=True)\n",
    "        x = torch.cat([x,x,x], 1)\n",
    "        #x = self.conv0(x)\n",
    "        #print(x.size())\n",
    "        x, p2, p3 = self.features(x)\n",
    "        x, logits_aux1, logits_aux2 = self.logits(x, p2, p3)\n",
    "\n",
    "        return x, logits_aux1, logits_aux2"
   ]
  },
  {
   "cell_type": "code",
   "execution_count": null,
   "metadata": {},
   "outputs": [],
   "source": []
  },
  {
   "cell_type": "code",
   "execution_count": 20,
   "metadata": {},
   "outputs": [],
   "source": [
    "MODEL_DIR = './model4-ckps'\n",
    "def create_model(args):\n",
    "    model = BengaliNet4(args.backbone)\n",
    "    model_file = os.path.join(MODEL_DIR, args.backbone, args.ckp_name)\n",
    "\n",
    "    parent_dir = os.path.dirname(model_file)\n",
    "    if not os.path.exists(parent_dir):\n",
    "        os.makedirs(parent_dir)\n",
    "\n",
    "    print('model file: {}, exist: {}'.format(model_file, os.path.exists(model_file)))\n",
    "\n",
    "    if os.path.exists(model_file):\n",
    "        print('loading {}...'.format(model_file))\n",
    "        model.load_state_dict(torch.load(model_file))\n",
    "    \n",
    "    return model, model_file"
   ]
  },
  {
   "cell_type": "code",
   "execution_count": 21,
   "metadata": {},
   "outputs": [],
   "source": [
    "#bnet = BengaliNet('se_resnext50_32x4d').cuda()"
   ]
  },
  {
   "cell_type": "code",
   "execution_count": 22,
   "metadata": {},
   "outputs": [],
   "source": [
    "#bnet(torch.randn((2, 1, 137, 236)).cuda()).size()"
   ]
  },
  {
   "cell_type": "markdown",
   "metadata": {},
   "source": [
    "# train"
   ]
  },
  {
   "cell_type": "code",
   "execution_count": 23,
   "metadata": {},
   "outputs": [
    {
     "data": {
      "text/plain": [
       "0.111111"
      ]
     },
     "execution_count": 23,
     "metadata": {},
     "output_type": "execute_result"
    }
   ],
   "source": [
    "round(1/9, 6)"
   ]
  },
  {
   "cell_type": "code",
   "execution_count": 24,
   "metadata": {},
   "outputs": [],
   "source": [
    "import numpy as np\n",
    "import sklearn.metrics\n",
    "import torch\n",
    "\n",
    "\n",
    "def calc_metrics(preds0, preds1, preds2, preds3, y):\n",
    "    assert len(y) == len(preds0) == len(preds1) == len(preds2) == len(preds3)\n",
    "\n",
    "    recall_grapheme = sklearn.metrics.recall_score(preds0, y[:, 0], average='macro')\n",
    "    recall_vowel = sklearn.metrics.recall_score(preds1, y[:, 1], average='macro')\n",
    "    recall_consonant = sklearn.metrics.recall_score(preds2, y[:, 2], average='macro')\n",
    "    recall_word = sklearn.metrics.recall_score(preds3, y[:, 3], average='macro')\n",
    "    \n",
    "    scores = [recall_grapheme, recall_vowel, recall_consonant]\n",
    "    final_recall_score = np.average(scores, weights=[2, 1, 1])\n",
    "    \n",
    "    metrics = {}\n",
    "    metrics['recall'] = round(final_recall_score, 6)\n",
    "    metrics['recall_grapheme'] = round(recall_grapheme, 6)\n",
    "    metrics['recall_vowel'] = round(recall_vowel, 6)\n",
    "    metrics['recall_consonant'] = round(recall_consonant, 6)\n",
    "    metrics['recall_word'] = round(recall_word, 6)\n",
    "    \n",
    "    metrics['acc_grapheme'] = round((preds0 == y[:, 0]).sum() / len(y), 6)\n",
    "    metrics['acc_vowel'] = round((preds1 == y[:, 1]).sum() / len(y), 6)\n",
    "    metrics['acc_consonant'] = round((preds2 == y[:, 2]).sum() / len(y), 6)\n",
    "    metrics['acc_word'] = round((preds3 == y[:, 3]).sum() / len(y), 6)    \n",
    "    \n",
    "    return metrics"
   ]
  },
  {
   "cell_type": "code",
   "execution_count": 25,
   "metadata": {},
   "outputs": [],
   "source": [
    "def criterion(outputs, y_true):\n",
    "    # outputs: (N, 182)\n",
    "    # y_true: (N, 3)\n",
    "    \n",
    "    outputs = torch.split(outputs, [168, 11, 7, 1295], dim=1)\n",
    "    loss0 = F.cross_entropy(outputs[0], y_true[:, 0], reduction='mean')\n",
    "    loss1 = F.cross_entropy(outputs[1], y_true[:, 1], reduction='mean')\n",
    "    loss2 = F.cross_entropy(outputs[2], y_true[:, 2], reduction='mean')\n",
    "    loss3 = F.cross_entropy(outputs[3], y_true[:, 3], reduction='mean')\n",
    "    \n",
    "    return loss0 + loss1 + loss2 + loss3 #, loss0.item(), loss1.item(), loss2.item()\n",
    "    #return loss3"
   ]
  },
  {
   "cell_type": "code",
   "execution_count": 26,
   "metadata": {},
   "outputs": [],
   "source": [
    "def validate(model, val_loader):\n",
    "    model.eval()\n",
    "    loss0, loss1, loss2, loss3 = 0., 0., 0., 0.\n",
    "    preds0, preds1, preds2, preds3 = [], [], [], []\n",
    "    y_true = []\n",
    "    with torch.no_grad():\n",
    "        for x, y in val_loader:\n",
    "            y_true.append(y)\n",
    "            x, y = x.cuda(), y.cuda()\n",
    "            outputs, outputs_aux1, outputs_aux2 = model(x)\n",
    "            #avg_outputs = torch.mean(torch.stack([outputs, outputs_aux1, outputs_aux2], 0), 0)\n",
    "            outputs = torch.split(outputs, [168, 11, 7, 1295], dim=1)\n",
    "            \n",
    "            preds0.append(torch.max(outputs[0], dim=1)[1])\n",
    "            preds1.append(torch.max(outputs[1], dim=1)[1])\n",
    "            preds2.append(torch.max(outputs[2], dim=1)[1])\n",
    "            preds3.append(torch.max(outputs[3], dim=1)[1])\n",
    "            loss0 += F.cross_entropy(outputs[0], y[:, 0], reduction='sum').item()\n",
    "            loss1 += F.cross_entropy(outputs[1], y[:, 1], reduction='sum').item()\n",
    "            loss2 += F.cross_entropy(outputs[2], y[:, 2], reduction='sum').item()\n",
    "            loss3 += F.cross_entropy(outputs[3], y[:, 3], reduction='sum').item()\n",
    "            \n",
    "            # for debug\n",
    "            #metrics = {}\n",
    "            #metrics['loss_grapheme'] =  F.cross_entropy(outputs[0], y[:, 0], reduction='mean').item()\n",
    "            #metrics['loss_vowel'] =  F.cross_entropy(outputs[1], y[:, 1], reduction='mean').item()\n",
    "            #metrics['loss_consonant'] =  F.cross_entropy(outputs[2], y[:, 2], reduction='mean').item()\n",
    "            #return metrics\n",
    "    \n",
    "    preds0 = torch.cat(preds0, 0).cpu().numpy()\n",
    "    preds1 = torch.cat(preds1, 0).cpu().numpy()\n",
    "    preds2 = torch.cat(preds2, 0).cpu().numpy()\n",
    "    preds3 = torch.cat(preds3, 0).cpu().numpy()\n",
    "    \n",
    "    y_true = torch.cat(y_true, 0).numpy()\n",
    "    \n",
    "    #print('y_true:', y_true.shape)\n",
    "    #print('preds0:', preds0.shape)\n",
    "    \n",
    "    metrics = calc_metrics(preds0, preds1, preds2, preds3, y_true)\n",
    "    metrics['loss_grapheme'] = round(loss0 / val_loader.num, 6)\n",
    "    metrics['loss_vowel'] = round(loss1 / val_loader.num, 6)\n",
    "    metrics['loss_consonant'] = round(loss2 / val_loader.num, 6)\n",
    "    metrics['loss_word'] = round(loss3 / val_loader.num, 6)\n",
    "    \n",
    "    return metrics\n",
    "            "
   ]
  },
  {
   "cell_type": "code",
   "execution_count": null,
   "metadata": {},
   "outputs": [],
   "source": []
  },
  {
   "cell_type": "code",
   "execution_count": 27,
   "metadata": {},
   "outputs": [],
   "source": [
    "def get_lrs(optimizer):\n",
    "    lrs = []\n",
    "    for pgs in optimizer.state_dict()['param_groups']:\n",
    "        lrs.append(pgs['lr'])\n",
    "    lrs = ['{:.6f}'.format(x) for x in lrs]\n",
    "    return lrs"
   ]
  },
  {
   "cell_type": "code",
   "execution_count": 28,
   "metadata": {},
   "outputs": [],
   "source": [
    "def save_model(model, model_file):\n",
    "    parent_dir = os.path.dirname(model_file)\n",
    "    if not os.path.exists(parent_dir):\n",
    "        os.makedirs(parent_dir)\n",
    "    if isinstance(model, nn.DataParallel):\n",
    "        torch.save(model.module.state_dict(), model_file)\n",
    "    else:\n",
    "        torch.save(model.state_dict(), model_file)"
   ]
  },
  {
   "cell_type": "code",
   "execution_count": 29,
   "metadata": {},
   "outputs": [],
   "source": [
    "def mixup(data, targets, alpha=1):\n",
    "    indices = torch.randperm(data.size(0))\n",
    "    shuffled_data = data[indices]\n",
    "    shuffled_targets = targets[indices]\n",
    "\n",
    "    lam = np.random.beta(alpha, alpha)\n",
    "    data = data * lam + shuffled_data * (1 - lam)\n",
    "    targets = (targets, shuffled_targets, lam)\n",
    "\n",
    "    return data, targets\n",
    "\n",
    "\n",
    "def mixup_criterion(outputs, targets):\n",
    "    targets1, targets2, lam = targets\n",
    "    #criterion = nn.CrossEntropyLoss(reduction='mean')\n",
    "    return lam * criterion(outputs, targets1) + (1 - lam) * criterion(outputs, targets2)"
   ]
  },
  {
   "cell_type": "code",
   "execution_count": 30,
   "metadata": {},
   "outputs": [],
   "source": [
    "def rand_bbox(size, lam):\n",
    "    W = size[2]\n",
    "    H = size[3]\n",
    "    cut_rat = np.sqrt(1. - lam)\n",
    "    cut_w = np.int(W * cut_rat)\n",
    "    cut_h = np.int(H * cut_rat)\n",
    "\n",
    "    # uniform\n",
    "    cx = np.random.randint(W)\n",
    "    cy = np.random.randint(H)\n",
    "\n",
    "    bbx1 = np.clip(cx - cut_w // 2, 0, W)\n",
    "    bby1 = np.clip(cy - cut_h // 2, 0, H)\n",
    "    bbx2 = np.clip(cx + cut_w // 2, 0, W)\n",
    "    bby2 = np.clip(cy + cut_h // 2, 0, H)\n",
    "\n",
    "    return bbx1, bby1, bbx2, bby2"
   ]
  },
  {
   "cell_type": "code",
   "execution_count": 31,
   "metadata": {},
   "outputs": [
    {
     "data": {
      "text/plain": [
       "0.7772486235599136"
      ]
     },
     "execution_count": 31,
     "metadata": {},
     "output_type": "execute_result"
    }
   ],
   "source": [
    "np.random.random()"
   ]
  },
  {
   "cell_type": "code",
   "execution_count": 32,
   "metadata": {},
   "outputs": [],
   "source": [
    "from over9000.over9000 import Over9000\n",
    "from over9000.radam import RAdam\n",
    "from gridmask import GridMask"
   ]
  },
  {
   "cell_type": "code",
   "execution_count": 33,
   "metadata": {},
   "outputs": [],
   "source": [
    "from cvcore.solver import WarmupCyclicalLR\n",
    "def make_optimizer(model, base_lr=4e-4, weight_decay=0., weight_decay_bias=0., epsilon=1e-3):\n",
    "    \"\"\"\n",
    "    Create optimizer with per-layer learning rate and weight decay.\n",
    "    \"\"\"\n",
    "    params = []\n",
    "    for key, value in model.named_parameters():\n",
    "        if not value.requires_grad:\n",
    "            continue\n",
    "        lr = base_lr\n",
    "        params += [{\"params\": [value], \"lr\": lr, \"weight_decay\": weight_decay_bias if 'bias' in key else weight_decay}]\n",
    "    \n",
    "    optimizer = torch.optim.AdamW(params, lr, eps=epsilon)\n",
    "    return optimizer"
   ]
  },
  {
   "cell_type": "code",
   "execution_count": 34,
   "metadata": {},
   "outputs": [],
   "source": [
    "def train_epoch(args, model, train_loader, epoch, optimizer, lr_scheduler, grid):\n",
    "    train_loss = 0\n",
    "\n",
    "    for batch_idx, (img, orig_img, targets) in enumerate(train_loader):\n",
    "        img, orig_img, targets  = img.cuda(), orig_img.cuda(), targets.cuda()\n",
    "        batch_size = img.size(0)\n",
    "        r = np.random.rand()\n",
    "\n",
    "        if r < 0.5:\n",
    "            # generate mixed sample\n",
    "            lam = np.random.beta(args.beta, args.beta)\n",
    "            rand_index = torch.randperm(img.size()[0]).cuda()\n",
    "            target_a = targets\n",
    "            target_b = targets[rand_index]\n",
    "            bbx1, bby1, bbx2, bby2 = rand_bbox(img.size(), lam)\n",
    "            #img[:, :, bby1:bby2, bbx1:bbx2] = img[rand_index, :, bby1:bby2, bbx1:bbx2] #for new cutmix\n",
    "            img[:, :, bbx1:bbx2, bby1:bby2] = img[rand_index, :, bbx1:bbx2, bby1:bby2]\n",
    "            \n",
    "            # adjust lambda to exactly match pixel ratio\n",
    "            lam = 1 - ((bbx2 - bbx1) * (bby2 - bby1) / (img.size()[-1] * img.size()[-2]))\n",
    "            # compute output\n",
    "            outputs, outputs_aux1, outputs_aux2 = model(img)\n",
    "            loss_primary = criterion(outputs, target_a) * lam + criterion(outputs, target_b) * (1. - lam)\n",
    "            loss_aux1 = criterion(outputs_aux1, target_a) * lam + criterion(outputs_aux1, target_b) * (1. - lam)\n",
    "            loss_aux2 = criterion(outputs_aux2, target_a) * lam + criterion(outputs_aux2, target_b) * (1. - lam)\n",
    "            loss = loss_primary + (loss_aux1 + loss_aux2)*0.8\n",
    "        elif r > 0.9: # normal train\n",
    "            outputs, outputs_aux1, outputs_aux2 = model(img)\n",
    "            loss_primary = criterion(outputs, targets)\n",
    "            loss_aux1 = criterion(outputs_aux1, targets)\n",
    "            loss_aux2 = criterion(outputs_aux2, targets)\n",
    "            loss = loss_primary + (loss_aux1 + loss_aux2)*0.8\n",
    "        elif r > 1.7: # grid mask\n",
    "            img = grid(img)\n",
    "            outputs, outputs_aux1, outputs_aux2 = model(img)\n",
    "            loss_primary = criterion(outputs, targets)\n",
    "            loss_aux1 = criterion(outputs_aux1, targets)\n",
    "            loss_aux2 = criterion(outputs_aux2, targets)\n",
    "            loss = loss_primary + (loss_aux1 + loss_aux2)*0.8\n",
    "        else: # mixup\n",
    "            orig_img, targets = mixup(orig_img, targets)\n",
    "            outputs, outputs_aux1, outputs_aux2 = model(orig_img)\n",
    "            loss_primary = mixup_criterion(outputs, targets)\n",
    "            loss_aux1 = mixup_criterion(outputs_aux1, targets)\n",
    "            loss_aux2 = mixup_criterion(outputs_aux2, targets)\n",
    "            loss = loss_primary + (loss_aux1 + loss_aux2)*0.8\n",
    "            #loss = criterion(outputs, targets)\n",
    "\n",
    "        optimizer.zero_grad()\n",
    "        with amp.scale_loss(loss, optimizer) as scaled_loss:\n",
    "            scaled_loss.backward()\n",
    "        #loss.backward()\n",
    "        lr_scheduler(optimizer, batch_idx, epoch)\n",
    "        optimizer.step()            \n",
    "        \n",
    "        current_lr = get_lrs(optimizer)\n",
    "\n",
    "        train_loss += loss.item()\n",
    "        print('\\r {:4d} | {:.6f} | {:06d}/{} | {:.4f} | {:.4f} |'.format(\n",
    "            epoch, float(current_lr[0]), batch_size*(batch_idx+1), train_loader.num, \n",
    "            loss.item(), train_loss/(batch_idx+1)), end='')\n"
   ]
  },
  {
   "cell_type": "code",
   "execution_count": 35,
   "metadata": {},
   "outputs": [],
   "source": [
    "best_metrics = 0.\n",
    "\n",
    "def validate_and_save(model, model_file, val_loader, save=False):\n",
    "    global best_metrics\n",
    "    best_key = 'recall'\n",
    "    val_metrics = validate(model, val_loader)\n",
    "    print('\\nval:', val_metrics)\n",
    "    \n",
    "    if val_metrics[best_key] > best_metrics:\n",
    "        best_metrics = val_metrics[best_key]\n",
    "        if save:\n",
    "            save_model(model, model_file)\n",
    "            print('###>>>>> saved', model_file)\n",
    "    model.train()\n",
    "    \n",
    "\n",
    "def train(args):\n",
    "    model, model_file = create_model(args)\n",
    "    model = model.cuda()\n",
    "\n",
    "    swa_model, _ = create_model(args)\n",
    "    swa_model = swa_model.cuda()\n",
    "    swa_model_file = model_file\n",
    "\n",
    "    optimizer = make_optimizer(model)\n",
    "    lr_scheduler = WarmupCyclicalLR(\n",
    "        \"cos\", args.base_lr, args.num_epochs, iters_per_epoch=len(train_loader), warmup_epochs=args.warmup_epochs)\n",
    "    \n",
    "    [model, swa_model], optimizer = amp.initialize([model, swa_model], optimizer, opt_level=\"O1\",verbosity=0)\n",
    "    \n",
    "    if torch.cuda.device_count() > 1:\n",
    "        model = nn.DataParallel(model)\n",
    "        swa_model = nn.DataParallel(swa_model)\n",
    "    \n",
    "    validate_and_save(model, model_file, val_loader, save=False)\n",
    "    \n",
    "    for cycle in range(1, args.num_cycles+1):\n",
    "        print('CYCLE:', cycle)\n",
    "        grid = GridMask(64, 128, rotate=15, ratio=0.6, mode=1, prob=1.)\n",
    "        #if os.path.exists(model_file):\n",
    "        #    print(f'loading {model_file}...')\n",
    "        #    model.module.load_state_dict(torch.load(model_file))\n",
    "\n",
    "        for epoch in range(args.start_epoch, args.num_epochs):\n",
    "            grid.set_prob(epoch, args.st_epochs)\n",
    "            train_epoch(args, model, train_loader, epoch, optimizer, lr_scheduler, grid)\n",
    "            validate_and_save(model, model_file, val_loader, save=True)\n",
    "            \n",
    "            if (epoch+1) == args.swa_start and cycle == 1:\n",
    "                copy_model(swa_model, model)\n",
    "                swa_n = 0\n",
    "            if (epoch+1) >= args.swa_start and (epoch+1) % args.swa_freq == 0:\n",
    "                print('SWA>>>:')\n",
    "                moving_average(swa_model, model, 1.0 / (swa_n + 1))\n",
    "                swa_n += 1\n",
    "                bn_update(train_loader, swa_model)\n",
    "                validate_and_save(swa_model, swa_model_file, val_loader, save=True)\n",
    "\n",
    "        #args.base_lr = 1.5e-4\n",
    "        #args.num_epochs = 80\n",
    "        #args.warmup_epochs = 10\n",
    "        # reset scheduler at each cycle\n",
    "        lr_scheduler = WarmupCyclicalLR(\n",
    "            \"cos\", args.base_lr, args.num_epochs, iters_per_epoch=len(train_loader), warmup_epochs=args.warmup_epochs)"
   ]
  },
  {
   "cell_type": "code",
   "execution_count": 36,
   "metadata": {},
   "outputs": [],
   "source": [
    "args = Namespace()\n",
    "args.backbone = 'se_resnext50_32x4d'\n",
    "args.ckp_name = 'model4_se_resnext50_fold2_224.pth'\n",
    "\n",
    "args.base_lr = 1.5e-4\n",
    "args.num_epochs = 80\n",
    "args.start_epoch = 0\n",
    "args.warmup_epochs = 10\n",
    "\n",
    "args.num_cycles = 100\n",
    "args.batch_size = 640\n",
    "args.val_batch_size = 1024\n",
    "args.st_epochs = 10\n",
    "\n",
    "args.swa_start = 20\n",
    "args.swa_freq = 3\n",
    "\n",
    "args.beta = 1.0\n",
    "args.cutmix_prob = 0.5"
   ]
  },
  {
   "cell_type": "code",
   "execution_count": 37,
   "metadata": {},
   "outputs": [
    {
     "name": "stdout",
     "output_type": "stream",
     "text": [
      "(200840, 6)\n",
      "(200840, 32332)\n",
      "(160678, 6) (40162, 6)\n"
     ]
    }
   ],
   "source": [
    "train_loader, val_loader = get_train_val_loaders(batch_size=args.batch_size, val_batch_size=args.val_batch_size, ifold=2)"
   ]
  },
  {
   "cell_type": "code",
   "execution_count": 38,
   "metadata": {},
   "outputs": [],
   "source": [
    "#for param in model.backbone.parameters():\n",
    "#    param.requires_grad = False"
   ]
  },
  {
   "cell_type": "code",
   "execution_count": 39,
   "metadata": {},
   "outputs": [],
   "source": [
    "#validate(nn.DataParallel(model), val_loader)"
   ]
  },
  {
   "cell_type": "code",
   "execution_count": 40,
   "metadata": {},
   "outputs": [
    {
     "name": "stdout",
     "output_type": "stream",
     "text": [
      "init model4\n",
      "model file: ./model4-ckps/se_resnext50_32x4d/model4_se_resnext50_fold2_224.pth, exist: True\n",
      "loading ./model4-ckps/se_resnext50_32x4d/model4_se_resnext50_fold2_224.pth...\n",
      "init model4\n",
      "model file: ./model4-ckps/se_resnext50_32x4d/model4_se_resnext50_fold2_224.pth, exist: True\n",
      "loading ./model4-ckps/se_resnext50_32x4d/model4_se_resnext50_fold2_224.pth...\n",
      "\n",
      "val: {'recall': 0.991426, 'recall_grapheme': 0.98865, 'recall_vowel': 0.996645, 'recall_consonant': 0.991761, 'recall_word': 0.987375, 'acc_grapheme': 0.988372, 'acc_vowel': 0.996688, 'acc_consonant': 0.996066, 'acc_word': 0.987326, 'loss_grapheme': 0.048293, 'loss_vowel': 0.014588, 'loss_consonant': 0.015423, 'loss_word': 0.050184}\n",
      "CYCLE: 1\n",
      "loading ./model4-ckps/se_resnext50_32x4d/model4_se_resnext50_fold2_224.pth...\n",
      "    0 | 0.000010 | 160640/160678 | 9.7394 | 10.5793 ||\n",
      "val: {'recall': 0.989598, 'recall_grapheme': 0.984942, 'recall_vowel': 0.995891, 'recall_consonant': 0.992616, 'recall_word': 0.983582, 'acc_grapheme': 0.984662, 'acc_vowel': 0.995941, 'acc_consonant': 0.995419, 'acc_word': 0.983467, 'loss_grapheme': 0.130292, 'loss_vowel': 0.109922, 'loss_consonant': 0.07268, 'loss_word': 0.110688}\n",
      "    1 | 0.000020 | 160640/160678 | 6.4772 | 9.4217 |||\n",
      "val: {'recall': 0.989285, 'recall_grapheme': 0.984883, 'recall_vowel': 0.995685, 'recall_consonant': 0.991689, 'recall_word': 0.983695, 'acc_grapheme': 0.984513, 'acc_vowel': 0.995817, 'acc_consonant': 0.99517, 'acc_word': 0.983542, 'loss_grapheme': 0.091696, 'loss_vowel': 0.066201, 'loss_consonant': 0.04592, 'loss_word': 0.083336}\n",
      "    2 | 0.000030 | 160640/160678 | 15.3205 | 10.9555 |\n",
      "val: {'recall': 0.989905, 'recall_grapheme': 0.985587, 'recall_vowel': 0.995885, 'recall_consonant': 0.992559, 'recall_word': 0.984632, 'acc_grapheme': 0.98516, 'acc_vowel': 0.995941, 'acc_consonant': 0.995394, 'acc_word': 0.984538, 'loss_grapheme': 0.142439, 'loss_vowel': 0.122285, 'loss_consonant': 0.082241, 'loss_word': 0.112752}\n",
      "    3 | 0.000040 | 160640/160678 | 7.3315 | 10.3932 ||\n",
      "val: {'recall': 0.989545, 'recall_grapheme': 0.984876, 'recall_vowel': 0.995883, 'recall_consonant': 0.992545, 'recall_word': 0.983834, 'acc_grapheme': 0.984363, 'acc_vowel': 0.995717, 'acc_consonant': 0.995244, 'acc_word': 0.983716, 'loss_grapheme': 0.135598, 'loss_vowel': 0.118421, 'loss_consonant': 0.079682, 'loss_word': 0.108309}\n",
      "    4 | 0.000049 | 160640/160678 | 0.7703 | 10.3284 ||\n",
      "val: {'recall': 0.989567, 'recall_grapheme': 0.985299, 'recall_vowel': 0.995346, 'recall_consonant': 0.992324, 'recall_word': 0.983942, 'acc_grapheme': 0.984936, 'acc_vowel': 0.995717, 'acc_consonant': 0.995145, 'acc_word': 0.983791, 'loss_grapheme': 0.10703, 'loss_vowel': 0.081434, 'loss_consonant': 0.056473, 'loss_word': 0.093013}\n",
      "    5 | 0.000059 | 160640/160678 | 8.0303 | 10.4430 ||\n",
      "val: {'recall': 0.989319, 'recall_grapheme': 0.984678, 'recall_vowel': 0.995208, 'recall_consonant': 0.992712, 'recall_word': 0.982536, 'acc_grapheme': 0.98404, 'acc_vowel': 0.995618, 'acc_consonant': 0.99512, 'acc_word': 0.982446, 'loss_grapheme': 0.116554, 'loss_vowel': 0.086689, 'loss_consonant': 0.062943, 'loss_word': 0.102447}\n",
      "    6 | 0.000069 | 160640/160678 | 7.4624 | 10.1136 ||\n",
      "val: {'recall': 0.989636, 'recall_grapheme': 0.98516, 'recall_vowel': 0.995576, 'recall_consonant': 0.992646, 'recall_word': 0.983542, 'acc_grapheme': 0.984637, 'acc_vowel': 0.995692, 'acc_consonant': 0.995244, 'acc_word': 0.983442, 'loss_grapheme': 0.150112, 'loss_vowel': 0.129274, 'loss_consonant': 0.087163, 'loss_word': 0.122416}\n",
      "    7 | 0.000078 | 160640/160678 | 17.9167 | 10.4236 |\n",
      "val: {'recall': 0.988389, 'recall_grapheme': 0.983578, 'recall_vowel': 0.995279, 'recall_consonant': 0.991122, 'recall_word': 0.981684, 'acc_grapheme': 0.982869, 'acc_vowel': 0.995369, 'acc_consonant': 0.994472, 'acc_word': 0.98145, 'loss_grapheme': 0.197612, 'loss_vowel': 0.172432, 'loss_consonant': 0.118314, 'loss_word': 0.157259}\n",
      "    8 | 0.000087 | 160640/160678 | 14.0287 | 10.0485 |\n",
      "val: {'recall': 0.989299, 'recall_grapheme': 0.985096, 'recall_vowel': 0.99537, 'recall_consonant': 0.991636, 'recall_word': 0.983699, 'acc_grapheme': 0.984612, 'acc_vowel': 0.995742, 'acc_consonant': 0.99512, 'acc_word': 0.983542, 'loss_grapheme': 0.104439, 'loss_vowel': 0.078809, 'loss_consonant': 0.052827, 'loss_word': 0.091229}\n",
      "    9 | 0.000096 | 160640/160678 | 7.0648 | 10.5920 ||\n",
      "val: {'recall': 0.988587, 'recall_grapheme': 0.984602, 'recall_vowel': 0.996099, 'recall_consonant': 0.989043, 'recall_word': 0.982526, 'acc_grapheme': 0.984587, 'acc_vowel': 0.995867, 'acc_consonant': 0.995294, 'acc_word': 0.982471, 'loss_grapheme': 0.117454, 'loss_vowel': 0.088577, 'loss_consonant': 0.059896, 'loss_word': 0.103435}\n",
      "   10 | 0.000095 | 160640/160678 | 9.9163 | 11.3141 ||\n",
      "val: {'recall': 0.987517, 'recall_grapheme': 0.981382, 'recall_vowel': 0.994579, 'recall_consonant': 0.992724, 'recall_word': 0.98174, 'acc_grapheme': 0.982297, 'acc_vowel': 0.99517, 'acc_consonant': 0.994746, 'acc_word': 0.981575, 'loss_grapheme': 0.192352, 'loss_vowel': 0.162749, 'loss_consonant': 0.106072, 'loss_word': 0.155106}\n",
      "   11 | 0.000095 | 160640/160678 | 21.1794 | 10.2521 |\n",
      "val: {'recall': 0.988684, 'recall_grapheme': 0.983242, 'recall_vowel': 0.995586, 'recall_consonant': 0.992665, 'recall_word': 0.982014, 'acc_grapheme': 0.983168, 'acc_vowel': 0.995493, 'acc_consonant': 0.994771, 'acc_word': 0.981799, 'loss_grapheme': 0.126028, 'loss_vowel': 0.102319, 'loss_consonant': 0.066922, 'loss_word': 0.112283}\n",
      "   12 | 0.000094 | 160640/160678 | 4.4680 | 10.2631 ||\n",
      "val: {'recall': 0.989368, 'recall_grapheme': 0.984924, 'recall_vowel': 0.995471, 'recall_consonant': 0.992155, 'recall_word': 0.983069, 'acc_grapheme': 0.984637, 'acc_vowel': 0.995767, 'acc_consonant': 0.995095, 'acc_word': 0.983019, 'loss_grapheme': 0.100875, 'loss_vowel': 0.080553, 'loss_consonant': 0.053374, 'loss_word': 0.090247}\n",
      "   13 | 0.000093 | 160640/160678 | 9.4563 | 10.8596 ||\n",
      "val: {'recall': 0.988849, 'recall_grapheme': 0.983984, 'recall_vowel': 0.995151, 'recall_consonant': 0.992279, 'recall_word': 0.98274, 'acc_grapheme': 0.983915, 'acc_vowel': 0.995568, 'acc_consonant': 0.994846, 'acc_word': 0.98262, 'loss_grapheme': 0.116414, 'loss_vowel': 0.089674, 'loss_consonant': 0.06016, 'loss_word': 0.099138}\n",
      "   14 | 0.000092 | 160640/160678 | 2.6793 | 10.2816 ||\n",
      "val: {'recall': 0.989053, 'recall_grapheme': 0.984219, 'recall_vowel': 0.995598, 'recall_consonant': 0.992176, 'recall_word': 0.983089, 'acc_grapheme': 0.984239, 'acc_vowel': 0.995991, 'acc_consonant': 0.995095, 'acc_word': 0.982919, 'loss_grapheme': 0.126908, 'loss_vowel': 0.100955, 'loss_consonant': 0.068103, 'loss_word': 0.108663}\n",
      "   15 | 0.000090 | 160640/160678 | 8.3813 | 10.5934 ||\n",
      "val: {'recall': 0.987967, 'recall_grapheme': 0.9827, 'recall_vowel': 0.994724, 'recall_consonant': 0.991744, 'recall_word': 0.981973, 'acc_grapheme': 0.98277, 'acc_vowel': 0.995219, 'acc_consonant': 0.994921, 'acc_word': 0.981824, 'loss_grapheme': 0.139039, 'loss_vowel': 0.10929, 'loss_consonant': 0.074164, 'loss_word': 0.120657}\n",
      "   16 | 0.000089 | 160640/160678 | 2.2998 | 10.0893 ||\n",
      "val: {'recall': 0.989706, 'recall_grapheme': 0.984985, 'recall_vowel': 0.99611, 'recall_consonant': 0.992743, 'recall_word': 0.983397, 'acc_grapheme': 0.98389, 'acc_vowel': 0.995767, 'acc_consonant': 0.995145, 'acc_word': 0.983268, 'loss_grapheme': 0.129824, 'loss_vowel': 0.104973, 'loss_consonant': 0.071255, 'loss_word': 0.110872}\n",
      "   17 | 0.000088 | 160640/160678 | 20.2286 | 10.9254 |\n",
      "val: {'recall': 0.988286, 'recall_grapheme': 0.982874, 'recall_vowel': 0.99593, 'recall_consonant': 0.991465, 'recall_word': 0.982975, 'acc_grapheme': 0.983093, 'acc_vowel': 0.995692, 'acc_consonant': 0.995319, 'acc_word': 0.982844, 'loss_grapheme': 0.196248, 'loss_vowel': 0.179991, 'loss_consonant': 0.119478, 'loss_word': 0.151947}\n",
      "   18 | 0.000087 | 160640/160678 | 20.1500 | 10.1291 |\n",
      "val: {'recall': 0.989076, 'recall_grapheme': 0.984337, 'recall_vowel': 0.995866, 'recall_consonant': 0.991765, 'recall_word': 0.982618, 'acc_grapheme': 0.984139, 'acc_vowel': 0.995767, 'acc_consonant': 0.995419, 'acc_word': 0.982496, 'loss_grapheme': 0.14207, 'loss_vowel': 0.114687, 'loss_consonant': 0.083057, 'loss_word': 0.123362}\n"
     ]
    },
    {
     "name": "stdout",
     "output_type": "stream",
     "text": [
      "   19 | 0.000085 | 160640/160678 | 7.9312 | 10.1379 ||\n",
      "val: {'recall': 0.988395, 'recall_grapheme': 0.982891, 'recall_vowel': 0.99521, 'recall_consonant': 0.992587, 'recall_word': 0.982949, 'acc_grapheme': 0.983741, 'acc_vowel': 0.995518, 'acc_consonant': 0.994522, 'acc_word': 0.98282, 'loss_grapheme': 0.161445, 'loss_vowel': 0.144657, 'loss_consonant': 0.092468, 'loss_word': 0.130782}\n",
      "   20 | 0.000084 | 160640/160678 | 0.9440 | 9.9005 |||"
     ]
    },
    {
     "name": "stderr",
     "output_type": "stream",
     "text": [
      "\r",
      "  0%|          | 0/251 [00:00<?, ?it/s]"
     ]
    },
    {
     "name": "stdout",
     "output_type": "stream",
     "text": [
      "\n",
      "val: {'recall': 0.98924, 'recall_grapheme': 0.983635, 'recall_vowel': 0.995647, 'recall_consonant': 0.994043, 'recall_word': 0.983426, 'acc_grapheme': 0.984587, 'acc_vowel': 0.995742, 'acc_consonant': 0.995294, 'acc_word': 0.983367, 'loss_grapheme': 0.104702, 'loss_vowel': 0.081542, 'loss_consonant': 0.056332, 'loss_word': 0.089558}\n",
      "SWA>>>:\n"
     ]
    },
    {
     "name": "stderr",
     "output_type": "stream",
     "text": [
      "100%|██████████| 251/251 [01:34<00:00,  3.01it/s]\n"
     ]
    },
    {
     "name": "stdout",
     "output_type": "stream",
     "text": [
      "\n",
      "val: {'recall': 0.990676, 'recall_grapheme': 0.987204, 'recall_vowel': 0.99614, 'recall_consonant': 0.992156, 'recall_word': 0.986762, 'acc_grapheme': 0.987501, 'acc_vowel': 0.996365, 'acc_consonant': 0.995618, 'acc_word': 0.986654, 'loss_grapheme': 0.050468, 'loss_vowel': 0.015363, 'loss_consonant': 0.016498, 'loss_word': 0.052305}\n",
      "   21 | 0.000082 | 160640/160678 | 21.3124 | 9.4949 ||\n",
      "val: {'recall': 0.988837, 'recall_grapheme': 0.983395, 'recall_vowel': 0.995873, 'recall_consonant': 0.992685, 'recall_word': 0.983216, 'acc_grapheme': 0.983766, 'acc_vowel': 0.995717, 'acc_consonant': 0.995145, 'acc_word': 0.983118, 'loss_grapheme': 0.128526, 'loss_vowel': 0.102638, 'loss_consonant': 0.07088, 'loss_word': 0.106363}\n",
      "   22 | 0.000081 | 160640/160678 | 13.5328 | 10.6147 |\n",
      "val: {'recall': 0.989797, 'recall_grapheme': 0.985389, 'recall_vowel': 0.995964, 'recall_consonant': 0.992445, 'recall_word': 0.984219, 'acc_grapheme': 0.98511, 'acc_vowel': 0.996066, 'acc_consonant': 0.995369, 'acc_word': 0.984015, 'loss_grapheme': 0.10978, 'loss_vowel': 0.079935, 'loss_consonant': 0.057236, 'loss_word': 0.094548}\n",
      "   23 | 0.000079 | 160640/160678 | 18.5637 | 10.3902 |"
     ]
    },
    {
     "name": "stderr",
     "output_type": "stream",
     "text": [
      "\r",
      "  0%|          | 0/251 [00:00<?, ?it/s]"
     ]
    },
    {
     "name": "stdout",
     "output_type": "stream",
     "text": [
      "\n",
      "val: {'recall': 0.989452, 'recall_grapheme': 0.98465, 'recall_vowel': 0.996111, 'recall_consonant': 0.992399, 'recall_word': 0.984195, 'acc_grapheme': 0.984687, 'acc_vowel': 0.996066, 'acc_consonant': 0.995294, 'acc_word': 0.984164, 'loss_grapheme': 0.164014, 'loss_vowel': 0.132858, 'loss_consonant': 0.090001, 'loss_word': 0.127206}\n",
      "SWA>>>:\n"
     ]
    },
    {
     "name": "stderr",
     "output_type": "stream",
     "text": [
      "100%|██████████| 251/251 [01:35<00:00,  2.96it/s]\n"
     ]
    },
    {
     "name": "stdout",
     "output_type": "stream",
     "text": [
      "\n",
      "val: {'recall': 0.991366, 'recall_grapheme': 0.987954, 'recall_vowel': 0.996942, 'recall_consonant': 0.992612, 'recall_word': 0.987507, 'acc_grapheme': 0.988223, 'acc_vowel': 0.996664, 'acc_consonant': 0.996016, 'acc_word': 0.987401, 'loss_grapheme': 0.049056, 'loss_vowel': 0.014561, 'loss_consonant': 0.015829, 'loss_word': 0.05051}\n",
      "   24 | 0.000078 | 160640/160678 | 3.7695 | 10.0839 ||\n",
      "val: {'recall': 0.98889, 'recall_grapheme': 0.983625, 'recall_vowel': 0.995766, 'recall_consonant': 0.992542, 'recall_word': 0.982364, 'acc_grapheme': 0.983243, 'acc_vowel': 0.995618, 'acc_consonant': 0.994921, 'acc_word': 0.982197, 'loss_grapheme': 0.139073, 'loss_vowel': 0.11587, 'loss_consonant': 0.079559, 'loss_word': 0.114927}\n",
      "   25 | 0.000076 | 160640/160678 | 8.6306 | 9.8040 |||\n",
      "val: {'recall': 0.988353, 'recall_grapheme': 0.983297, 'recall_vowel': 0.995128, 'recall_consonant': 0.991689, 'recall_word': 0.982525, 'acc_grapheme': 0.983417, 'acc_vowel': 0.995269, 'acc_consonant': 0.994672, 'acc_word': 0.982446, 'loss_grapheme': 0.125959, 'loss_vowel': 0.097328, 'loss_consonant': 0.067804, 'loss_word': 0.109893}\n",
      "   26 | 0.000074 | 160640/160678 | 7.7217 | 10.2392 ||"
     ]
    },
    {
     "name": "stderr",
     "output_type": "stream",
     "text": [
      "\r",
      "  0%|          | 0/251 [00:00<?, ?it/s]"
     ]
    },
    {
     "name": "stdout",
     "output_type": "stream",
     "text": [
      "\n",
      "val: {'recall': 0.988005, 'recall_grapheme': 0.982314, 'recall_vowel': 0.995226, 'recall_consonant': 0.992163, 'recall_word': 0.981708, 'acc_grapheme': 0.982795, 'acc_vowel': 0.995369, 'acc_consonant': 0.994721, 'acc_word': 0.981624, 'loss_grapheme': 0.132955, 'loss_vowel': 0.09684, 'loss_consonant': 0.070875, 'loss_word': 0.116015}\n",
      "SWA>>>:\n"
     ]
    },
    {
     "name": "stderr",
     "output_type": "stream",
     "text": [
      "100%|██████████| 251/251 [01:35<00:00,  2.94it/s]\n"
     ]
    },
    {
     "name": "stdout",
     "output_type": "stream",
     "text": [
      "\n",
      "val: {'recall': 0.991598, 'recall_grapheme': 0.988403, 'recall_vowel': 0.997059, 'recall_consonant': 0.992526, 'recall_word': 0.987574, 'acc_grapheme': 0.988546, 'acc_vowel': 0.996888, 'acc_consonant': 0.996016, 'acc_word': 0.987451, 'loss_grapheme': 0.048397, 'loss_vowel': 0.014151, 'loss_consonant': 0.015719, 'loss_word': 0.049731}\n",
      "###>>>>> saved ./model4-ckps/se_resnext50_32x4d/model4_se_resnext50_fold2_224.pth\n",
      "   27 | 0.000073 | 160640/160678 | 4.7149 | 9.8542 |||\n",
      "val: {'recall': 0.98931, 'recall_grapheme': 0.985178, 'recall_vowel': 0.995641, 'recall_consonant': 0.991245, 'recall_word': 0.983557, 'acc_grapheme': 0.984413, 'acc_vowel': 0.995668, 'acc_consonant': 0.99502, 'acc_word': 0.983367, 'loss_grapheme': 0.094391, 'loss_vowel': 0.069001, 'loss_consonant': 0.04883, 'loss_word': 0.084978}\n",
      "   28 | 0.000071 | 160640/160678 | 20.9397 | 9.7732 ||\n",
      "val: {'recall': 0.988889, 'recall_grapheme': 0.984159, 'recall_vowel': 0.995688, 'recall_consonant': 0.99155, 'recall_word': 0.983129, 'acc_grapheme': 0.984463, 'acc_vowel': 0.995842, 'acc_consonant': 0.99497, 'acc_word': 0.983019, 'loss_grapheme': 0.103797, 'loss_vowel': 0.083343, 'loss_consonant': 0.05947, 'loss_word': 0.090865}\n",
      "   29 | 0.000069 | 160640/160678 | 13.4888 | 10.2673 |"
     ]
    },
    {
     "name": "stderr",
     "output_type": "stream",
     "text": [
      "\r",
      "  0%|          | 0/251 [00:00<?, ?it/s]"
     ]
    },
    {
     "name": "stdout",
     "output_type": "stream",
     "text": [
      "\n",
      "val: {'recall': 0.98923, 'recall_grapheme': 0.984293, 'recall_vowel': 0.996039, 'recall_consonant': 0.992297, 'recall_word': 0.983239, 'acc_grapheme': 0.984189, 'acc_vowel': 0.995817, 'acc_consonant': 0.994721, 'acc_word': 0.983093, 'loss_grapheme': 0.116081, 'loss_vowel': 0.089175, 'loss_consonant': 0.063499, 'loss_word': 0.102455}\n",
      "SWA>>>:\n"
     ]
    },
    {
     "name": "stderr",
     "output_type": "stream",
     "text": [
      "100%|██████████| 251/251 [01:34<00:00,  2.98it/s]\n"
     ]
    },
    {
     "name": "stdout",
     "output_type": "stream",
     "text": [
      "\n",
      "val: {'recall': 0.991819, 'recall_grapheme': 0.98866, 'recall_vowel': 0.997313, 'recall_consonant': 0.992643, 'recall_word': 0.987887, 'acc_grapheme': 0.988497, 'acc_vowel': 0.996962, 'acc_consonant': 0.996041, 'acc_word': 0.98775, 'loss_grapheme': 0.047823, 'loss_vowel': 0.01387, 'loss_consonant': 0.015424, 'loss_word': 0.049004}\n",
      "###>>>>> saved ./model4-ckps/se_resnext50_32x4d/model4_se_resnext50_fold2_224.pth\n",
      "   30 | 0.000067 | 160640/160678 | 12.5970 | 10.0343 |\n",
      "val: {'recall': 0.988444, 'recall_grapheme': 0.98334, 'recall_vowel': 0.995203, 'recall_consonant': 0.991891, 'recall_word': 0.982514, 'acc_grapheme': 0.983691, 'acc_vowel': 0.995369, 'acc_consonant': 0.994995, 'acc_word': 0.982421, 'loss_grapheme': 0.137812, 'loss_vowel': 0.116565, 'loss_consonant': 0.080037, 'loss_word': 0.116397}\n",
      "   31 | 0.000065 | 160640/160678 | 2.4969 | 9.8196 |||\n",
      "val: {'recall': 0.9893, 'recall_grapheme': 0.984021, 'recall_vowel': 0.995434, 'recall_consonant': 0.993725, 'recall_word': 0.983563, 'acc_grapheme': 0.984065, 'acc_vowel': 0.995742, 'acc_consonant': 0.995244, 'acc_word': 0.983367, 'loss_grapheme': 0.12871, 'loss_vowel': 0.103604, 'loss_consonant': 0.072674, 'loss_word': 0.103803}\n",
      "   32 | 0.000064 | 160640/160678 | 12.8965 | 10.5599 |"
     ]
    },
    {
     "name": "stderr",
     "output_type": "stream",
     "text": [
      "\r",
      "  0%|          | 0/251 [00:00<?, ?it/s]"
     ]
    },
    {
     "name": "stdout",
     "output_type": "stream",
     "text": [
      "\n",
      "val: {'recall': 0.989685, 'recall_grapheme': 0.98515, 'recall_vowel': 0.995687, 'recall_consonant': 0.99275, 'recall_word': 0.98425, 'acc_grapheme': 0.985061, 'acc_vowel': 0.995817, 'acc_consonant': 0.995145, 'acc_word': 0.984114, 'loss_grapheme': 0.157475, 'loss_vowel': 0.135507, 'loss_consonant': 0.090542, 'loss_word': 0.128261}\n",
      "SWA>>>:\n"
     ]
    },
    {
     "name": "stderr",
     "output_type": "stream",
     "text": [
      "100%|██████████| 251/251 [01:36<00:00,  2.90it/s]\n"
     ]
    },
    {
     "name": "stdout",
     "output_type": "stream",
     "text": [
      "\n",
      "val: {'recall': 0.991769, 'recall_grapheme': 0.988518, 'recall_vowel': 0.997307, 'recall_consonant': 0.992732, 'recall_word': 0.987714, 'acc_grapheme': 0.988621, 'acc_vowel': 0.996962, 'acc_consonant': 0.996066, 'acc_word': 0.987625, 'loss_grapheme': 0.047464, 'loss_vowel': 0.01376, 'loss_consonant': 0.015351, 'loss_word': 0.048599}\n",
      "   33 | 0.000062 | 160640/160678 | 11.9099 | 9.9364 |\n",
      "val: {'recall': 0.989509, 'recall_grapheme': 0.984857, 'recall_vowel': 0.995823, 'recall_consonant': 0.9925, 'recall_word': 0.98455, 'acc_grapheme': 0.98511, 'acc_vowel': 0.995792, 'acc_consonant': 0.995194, 'acc_word': 0.984413, 'loss_grapheme': 0.146721, 'loss_vowel': 0.131743, 'loss_consonant': 0.088678, 'loss_word': 0.112042}\n",
      "   34 | 0.000060 | 160640/160678 | 7.5822 | 9.1797 |||\n",
      "val: {'recall': 0.989866, 'recall_grapheme': 0.985681, 'recall_vowel': 0.995913, 'recall_consonant': 0.992189, 'recall_word': 0.983316, 'acc_grapheme': 0.984737, 'acc_vowel': 0.995892, 'acc_consonant': 0.995568, 'acc_word': 0.983118, 'loss_grapheme': 0.100684, 'loss_vowel': 0.068383, 'loss_consonant': 0.047391, 'loss_word': 0.094199}\n",
      "   35 | 0.000058 | 160640/160678 | 6.4669 | 9.7513 |||"
     ]
    },
    {
     "name": "stderr",
     "output_type": "stream",
     "text": [
      "\r",
      "  0%|          | 0/251 [00:00<?, ?it/s]"
     ]
    },
    {
     "name": "stdout",
     "output_type": "stream",
     "text": [
      "\n",
      "val: {'recall': 0.989241, 'recall_grapheme': 0.984844, 'recall_vowel': 0.995331, 'recall_consonant': 0.991943, 'recall_word': 0.983119, 'acc_grapheme': 0.984139, 'acc_vowel': 0.995493, 'acc_consonant': 0.995194, 'acc_word': 0.982919, 'loss_grapheme': 0.100275, 'loss_vowel': 0.071585, 'loss_consonant': 0.052743, 'loss_word': 0.090829}\n",
      "SWA>>>:\n"
     ]
    },
    {
     "name": "stderr",
     "output_type": "stream",
     "text": [
      "100%|██████████| 251/251 [01:35<00:00,  2.95it/s]\n"
     ]
    },
    {
     "name": "stdout",
     "output_type": "stream",
     "text": [
      "\n",
      "val: {'recall': 0.991731, 'recall_grapheme': 0.988652, 'recall_vowel': 0.996977, 'recall_consonant': 0.992644, 'recall_word': 0.987992, 'acc_grapheme': 0.988596, 'acc_vowel': 0.996888, 'acc_consonant': 0.996041, 'acc_word': 0.987874, 'loss_grapheme': 0.047334, 'loss_vowel': 0.013697, 'loss_consonant': 0.015346, 'loss_word': 0.04856}\n",
      "   36 | 0.000056 | 160640/160678 | 0.6540 | 9.9211 |||\n",
      "val: {'recall': 0.989833, 'recall_grapheme': 0.986123, 'recall_vowel': 0.995953, 'recall_consonant': 0.991131, 'recall_word': 0.984507, 'acc_grapheme': 0.984836, 'acc_vowel': 0.996315, 'acc_consonant': 0.995618, 'acc_word': 0.984338, 'loss_grapheme': 0.103812, 'loss_vowel': 0.076641, 'loss_consonant': 0.054313, 'loss_word': 0.088799}\n",
      "   37 | 0.000054 | 160640/160678 | 16.5656 | 10.0977 |\n",
      "val: {'recall': 0.98878, 'recall_grapheme': 0.983606, 'recall_vowel': 0.995651, 'recall_consonant': 0.992256, 'recall_word': 0.983159, 'acc_grapheme': 0.983641, 'acc_vowel': 0.995892, 'acc_consonant': 0.995194, 'acc_word': 0.983093, 'loss_grapheme': 0.14878, 'loss_vowel': 0.131442, 'loss_consonant': 0.090668, 'loss_word': 0.12194}\n",
      "   38 | 0.000052 | 160640/160678 | 8.4114 | 10.6801 ||"
     ]
    },
    {
     "name": "stderr",
     "output_type": "stream",
     "text": [
      "\r",
      "  0%|          | 0/251 [00:00<?, ?it/s]"
     ]
    },
    {
     "name": "stdout",
     "output_type": "stream",
     "text": [
      "\n",
      "val: {'recall': 0.990064, 'recall_grapheme': 0.985893, 'recall_vowel': 0.995805, 'recall_consonant': 0.992665, 'recall_word': 0.985313, 'acc_grapheme': 0.985534, 'acc_vowel': 0.995892, 'acc_consonant': 0.995369, 'acc_word': 0.98516, 'loss_grapheme': 0.133036, 'loss_vowel': 0.109474, 'loss_consonant': 0.076175, 'loss_word': 0.107525}\n",
      "SWA>>>:\n"
     ]
    },
    {
     "name": "stderr",
     "output_type": "stream",
     "text": [
      "100%|██████████| 251/251 [01:36<00:00,  2.93it/s]\n"
     ]
    },
    {
     "name": "stdout",
     "output_type": "stream",
     "text": [
      "\n",
      "val: {'recall': 0.991767, 'recall_grapheme': 0.988653, 'recall_vowel': 0.997054, 'recall_consonant': 0.992708, 'recall_word': 0.987994, 'acc_grapheme': 0.988596, 'acc_vowel': 0.996888, 'acc_consonant': 0.996091, 'acc_word': 0.987874, 'loss_grapheme': 0.047119, 'loss_vowel': 0.013604, 'loss_consonant': 0.015262, 'loss_word': 0.048281}\n",
      "   39 | 0.000050 | 160640/160678 | 20.7532 | 10.1733 |\n",
      "val: {'recall': 0.989907, 'recall_grapheme': 0.985528, 'recall_vowel': 0.996024, 'recall_consonant': 0.992549, 'recall_word': 0.985098, 'acc_grapheme': 0.985509, 'acc_vowel': 0.99624, 'acc_consonant': 0.995319, 'acc_word': 0.984986, 'loss_grapheme': 0.12839, 'loss_vowel': 0.107738, 'loss_consonant': 0.075713, 'loss_word': 0.098119}\n",
      "   40 | 0.000048 | 160640/160678 | 8.0247 | 9.6081 ||\n",
      "val: {'recall': 0.989335, 'recall_grapheme': 0.984706, 'recall_vowel': 0.995803, 'recall_consonant': 0.992124, 'recall_word': 0.983123, 'acc_grapheme': 0.984164, 'acc_vowel': 0.995742, 'acc_consonant': 0.994945, 'acc_word': 0.982944, 'loss_grapheme': 0.133188, 'loss_vowel': 0.105727, 'loss_consonant': 0.070708, 'loss_word': 0.115228}\n",
      "   41 | 0.000046 | 160640/160678 | 9.2497 | 9.9790 |||"
     ]
    },
    {
     "name": "stderr",
     "output_type": "stream",
     "text": [
      "\r",
      "  0%|          | 0/251 [00:00<?, ?it/s]"
     ]
    },
    {
     "name": "stdout",
     "output_type": "stream",
     "text": [
      "\n",
      "val: {'recall': 0.98939, 'recall_grapheme': 0.984501, 'recall_vowel': 0.99586, 'recall_consonant': 0.992697, 'recall_word': 0.982878, 'acc_grapheme': 0.984388, 'acc_vowel': 0.995917, 'acc_consonant': 0.995145, 'acc_word': 0.982795, 'loss_grapheme': 0.112021, 'loss_vowel': 0.085644, 'loss_consonant': 0.057697, 'loss_word': 0.10121}\n",
      "SWA>>>:\n"
     ]
    },
    {
     "name": "stderr",
     "output_type": "stream",
     "text": [
      "100%|██████████| 251/251 [01:34<00:00,  2.84it/s]\n"
     ]
    },
    {
     "name": "stdout",
     "output_type": "stream",
     "text": [
      "\n",
      "val: {'recall': 0.991793, 'recall_grapheme': 0.988634, 'recall_vowel': 0.997203, 'recall_consonant': 0.992701, 'recall_word': 0.987726, 'acc_grapheme': 0.988571, 'acc_vowel': 0.996937, 'acc_consonant': 0.996066, 'acc_word': 0.987625, 'loss_grapheme': 0.047268, 'loss_vowel': 0.013621, 'loss_consonant': 0.015308, 'loss_word': 0.048509}\n",
      "   42 | 0.000044 | 160640/160678 | 7.2379 | 10.8312 ||\n",
      "val: {'recall': 0.989332, 'recall_grapheme': 0.984839, 'recall_vowel': 0.995259, 'recall_consonant': 0.992392, 'recall_word': 0.982925, 'acc_grapheme': 0.984363, 'acc_vowel': 0.995792, 'acc_consonant': 0.995394, 'acc_word': 0.98277, 'loss_grapheme': 0.140647, 'loss_vowel': 0.120799, 'loss_consonant': 0.082229, 'loss_word': 0.115946}\n",
      "   43 | 0.000042 | 160640/160678 | 18.5663 | 9.6384 ||\n",
      "val: {'recall': 0.989446, 'recall_grapheme': 0.984853, 'recall_vowel': 0.995626, 'recall_consonant': 0.992449, 'recall_word': 0.984585, 'acc_grapheme': 0.984538, 'acc_vowel': 0.995941, 'acc_consonant': 0.995369, 'acc_word': 0.984563, 'loss_grapheme': 0.161957, 'loss_vowel': 0.138454, 'loss_consonant': 0.093369, 'loss_word': 0.124007}\n",
      "   44 | 0.000040 | 160640/160678 | 8.4223 | 10.2195 ||"
     ]
    },
    {
     "name": "stderr",
     "output_type": "stream",
     "text": [
      "\r",
      "  0%|          | 0/251 [00:00<?, ?it/s]"
     ]
    },
    {
     "name": "stdout",
     "output_type": "stream",
     "text": [
      "\n",
      "val: {'recall': 0.989555, 'recall_grapheme': 0.985102, 'recall_vowel': 0.995722, 'recall_consonant': 0.992292, 'recall_word': 0.983675, 'acc_grapheme': 0.984538, 'acc_vowel': 0.995792, 'acc_consonant': 0.995269, 'acc_word': 0.983567, 'loss_grapheme': 0.106804, 'loss_vowel': 0.080597, 'loss_consonant': 0.055327, 'loss_word': 0.093564}\n",
      "SWA>>>:\n"
     ]
    },
    {
     "name": "stderr",
     "output_type": "stream",
     "text": [
      "100%|██████████| 251/251 [01:34<00:00,  2.94it/s]\n"
     ]
    },
    {
     "name": "stdout",
     "output_type": "stream",
     "text": [
      "\n",
      "val: {'recall': 0.991783, 'recall_grapheme': 0.988734, 'recall_vowel': 0.997049, 'recall_consonant': 0.992616, 'recall_word': 0.987937, 'acc_grapheme': 0.98877, 'acc_vowel': 0.996888, 'acc_consonant': 0.996041, 'acc_word': 0.987824, 'loss_grapheme': 0.047386, 'loss_vowel': 0.013561, 'loss_consonant': 0.015221, 'loss_word': 0.048512}\n",
      "   45 | 0.000038 | 160640/160678 | 0.8592 | 9.8782 |||\n",
      "val: {'recall': 0.989603, 'recall_grapheme': 0.985651, 'recall_vowel': 0.995596, 'recall_consonant': 0.991515, 'recall_word': 0.983994, 'acc_grapheme': 0.98521, 'acc_vowel': 0.996041, 'acc_consonant': 0.995194, 'acc_word': 0.98394, 'loss_grapheme': 0.098507, 'loss_vowel': 0.075335, 'loss_consonant': 0.052974, 'loss_word': 0.085885}\n",
      "   46 | 0.000036 | 160640/160678 | 19.6638 | 10.6438 |\n",
      "val: {'recall': 0.988956, 'recall_grapheme': 0.984084, 'recall_vowel': 0.995782, 'recall_consonant': 0.991874, 'recall_word': 0.983171, 'acc_grapheme': 0.983915, 'acc_vowel': 0.995966, 'acc_consonant': 0.995145, 'acc_word': 0.983093, 'loss_grapheme': 0.144796, 'loss_vowel': 0.126238, 'loss_consonant': 0.086823, 'loss_word': 0.117247}\n",
      "   47 | 0.000035 | 160640/160678 | 9.0648 | 9.7541 ||"
     ]
    },
    {
     "name": "stderr",
     "output_type": "stream",
     "text": [
      "\r",
      "  0%|          | 0/251 [00:00<?, ?it/s]"
     ]
    },
    {
     "name": "stdout",
     "output_type": "stream",
     "text": [
      "\n",
      "val: {'recall': 0.988689, 'recall_grapheme': 0.983204, 'recall_vowel': 0.995602, 'recall_consonant': 0.992745, 'recall_word': 0.982433, 'acc_grapheme': 0.983492, 'acc_vowel': 0.995792, 'acc_consonant': 0.994995, 'acc_word': 0.982297, 'loss_grapheme': 0.156043, 'loss_vowel': 0.138514, 'loss_consonant': 0.096039, 'loss_word': 0.125095}\n",
      "SWA>>>:\n"
     ]
    },
    {
     "name": "stderr",
     "output_type": "stream",
     "text": [
      "100%|██████████| 251/251 [01:35<00:00,  2.99it/s]\n"
     ]
    },
    {
     "name": "stdout",
     "output_type": "stream",
     "text": [
      "\n",
      "val: {'recall': 0.991923, 'recall_grapheme': 0.988805, 'recall_vowel': 0.997205, 'recall_consonant': 0.992877, 'recall_word': 0.987959, 'acc_grapheme': 0.988671, 'acc_vowel': 0.996962, 'acc_consonant': 0.99619, 'acc_word': 0.987874, 'loss_grapheme': 0.047298, 'loss_vowel': 0.013503, 'loss_consonant': 0.015236, 'loss_word': 0.048465}\n",
      "###>>>>> saved ./model4-ckps/se_resnext50_32x4d/model4_se_resnext50_fold2_224.pth\n",
      "   48 | 0.000033 | 160640/160678 | 0.8551 | 10.2891 ||\n",
      "val: {'recall': 0.990518, 'recall_grapheme': 0.986985, 'recall_vowel': 0.995959, 'recall_consonant': 0.992141, 'recall_word': 0.984892, 'acc_grapheme': 0.985783, 'acc_vowel': 0.996091, 'acc_consonant': 0.995219, 'acc_word': 0.984712, 'loss_grapheme': 0.097907, 'loss_vowel': 0.071055, 'loss_consonant': 0.050505, 'loss_word': 0.085149}\n",
      "   49 | 0.000031 | 160640/160678 | 15.5456 | 10.1232 |\n",
      "val: {'recall': 0.989342, 'recall_grapheme': 0.984743, 'recall_vowel': 0.995901, 'recall_consonant': 0.99198, 'recall_word': 0.984392, 'acc_grapheme': 0.985135, 'acc_vowel': 0.995991, 'acc_consonant': 0.995344, 'acc_word': 0.984314, 'loss_grapheme': 0.136909, 'loss_vowel': 0.115513, 'loss_consonant': 0.081379, 'loss_word': 0.106889}\n",
      "   50 | 0.000029 | 160640/160678 | 6.7466 | 9.6685 |||"
     ]
    },
    {
     "name": "stderr",
     "output_type": "stream",
     "text": [
      "\r",
      "  0%|          | 0/251 [00:00<?, ?it/s]"
     ]
    },
    {
     "name": "stdout",
     "output_type": "stream",
     "text": [
      "\n",
      "val: {'recall': 0.99058, 'recall_grapheme': 0.98654, 'recall_vowel': 0.995888, 'recall_consonant': 0.993351, 'recall_word': 0.984375, 'acc_grapheme': 0.985434, 'acc_vowel': 0.996091, 'acc_consonant': 0.995692, 'acc_word': 0.984338, 'loss_grapheme': 0.100649, 'loss_vowel': 0.078332, 'loss_consonant': 0.055588, 'loss_word': 0.090266}\n",
      "SWA>>>:\n"
     ]
    },
    {
     "name": "stderr",
     "output_type": "stream",
     "text": [
      "100%|██████████| 251/251 [01:34<00:00,  3.00it/s]\n"
     ]
    },
    {
     "name": "stdout",
     "output_type": "stream",
     "text": [
      "\n",
      "val: {'recall': 0.991911, 'recall_grapheme': 0.988732, 'recall_vowel': 0.997217, 'recall_consonant': 0.992963, 'recall_word': 0.987845, 'acc_grapheme': 0.988646, 'acc_vowel': 0.996987, 'acc_consonant': 0.996215, 'acc_word': 0.98775, 'loss_grapheme': 0.047226, 'loss_vowel': 0.013488, 'loss_consonant': 0.015231, 'loss_word': 0.04853}\n",
      "   51 | 0.000027 | 160640/160678 | 13.2132 | 11.1125 |\n",
      "val: {'recall': 0.989859, 'recall_grapheme': 0.985113, 'recall_vowel': 0.996035, 'recall_consonant': 0.993173, 'recall_word': 0.984516, 'acc_grapheme': 0.98526, 'acc_vowel': 0.996066, 'acc_consonant': 0.995493, 'acc_word': 0.984388, 'loss_grapheme': 0.141478, 'loss_vowel': 0.123996, 'loss_consonant': 0.085411, 'loss_word': 0.112474}\n",
      "   52 | 0.000026 | 160640/160678 | 8.6814 | 10.3046 ||\n",
      "val: {'recall': 0.98944, 'recall_grapheme': 0.984955, 'recall_vowel': 0.996101, 'recall_consonant': 0.991749, 'recall_word': 0.984167, 'acc_grapheme': 0.984662, 'acc_vowel': 0.996016, 'acc_consonant': 0.995344, 'acc_word': 0.984114, 'loss_grapheme': 0.157317, 'loss_vowel': 0.138854, 'loss_consonant': 0.094242, 'loss_word': 0.125994}\n",
      "   53 | 0.000024 | 160640/160678 | 5.0853 | 9.9382 |||"
     ]
    },
    {
     "name": "stderr",
     "output_type": "stream",
     "text": [
      "\r",
      "  0%|          | 0/251 [00:00<?, ?it/s]"
     ]
    },
    {
     "name": "stdout",
     "output_type": "stream",
     "text": [
      "\n",
      "val: {'recall': 0.990042, 'recall_grapheme': 0.985934, 'recall_vowel': 0.995372, 'recall_consonant': 0.992927, 'recall_word': 0.9841, 'acc_grapheme': 0.985061, 'acc_vowel': 0.995792, 'acc_consonant': 0.995468, 'acc_word': 0.98404, 'loss_grapheme': 0.119664, 'loss_vowel': 0.09972, 'loss_consonant': 0.068162, 'loss_word': 0.101692}\n",
      "SWA>>>:\n",
      "\n",
      "val: {'recall': 0.991985, 'recall_grapheme': 0.988869, 'recall_vowel': 0.997121, 'recall_consonant': 0.993082, 'recall_word': 0.987864, 'acc_grapheme': 0.988646, 'acc_vowel': 0.996987, 'acc_consonant': 0.996315, 'acc_word': 0.987775, 'loss_grapheme': 0.047201, 'loss_vowel': 0.013429, 'loss_consonant': 0.015132, 'loss_word': 0.048454}\n",
      "###>>>>> saved ./model4-ckps/se_resnext50_32x4d/model4_se_resnext50_fold2_224.pth\n",
      "   54 | 0.000022 | 160640/160678 | 17.5393 | 10.0617 |\n",
      "val: {'recall': 0.989464, 'recall_grapheme': 0.985102, 'recall_vowel': 0.995953, 'recall_consonant': 0.991698, 'recall_word': 0.983486, 'acc_grapheme': 0.984587, 'acc_vowel': 0.995892, 'acc_consonant': 0.995269, 'acc_word': 0.983442, 'loss_grapheme': 0.137903, 'loss_vowel': 0.125431, 'loss_consonant': 0.086345, 'loss_word': 0.111093}\n",
      "   55 | 0.000021 | 160640/160678 | 16.2488 | 11.1673 |\n",
      "val: {'recall': 0.989553, 'recall_grapheme': 0.985468, 'recall_vowel': 0.995931, 'recall_consonant': 0.991342, 'recall_word': 0.983968, 'acc_grapheme': 0.984961, 'acc_vowel': 0.996141, 'acc_consonant': 0.995394, 'acc_word': 0.98384, 'loss_grapheme': 0.120881, 'loss_vowel': 0.104094, 'loss_consonant': 0.073609, 'loss_word': 0.099892}\n",
      "   56 | 0.000019 | 160640/160678 | 2.4173 | 9.5998 |||"
     ]
    },
    {
     "name": "stderr",
     "output_type": "stream",
     "text": [
      "\r",
      "  0%|          | 0/251 [00:00<?, ?it/s]"
     ]
    },
    {
     "name": "stdout",
     "output_type": "stream",
     "text": [
      "\n",
      "val: {'recall': 0.98976, 'recall_grapheme': 0.985555, 'recall_vowel': 0.995838, 'recall_consonant': 0.992091, 'recall_word': 0.985182, 'acc_grapheme': 0.985583, 'acc_vowel': 0.996215, 'acc_consonant': 0.995792, 'acc_word': 0.985061, 'loss_grapheme': 0.095247, 'loss_vowel': 0.070364, 'loss_consonant': 0.04984, 'loss_word': 0.081093}\n",
      "SWA>>>:\n"
     ]
    },
    {
     "name": "stderr",
     "output_type": "stream",
     "text": [
      "100%|██████████| 251/251 [01:35<00:00,  2.97it/s]\n"
     ]
    },
    {
     "name": "stdout",
     "output_type": "stream",
     "text": [
      "\n",
      "val: {'recall': 0.99193, 'recall_grapheme': 0.98885, 'recall_vowel': 0.99708, 'recall_consonant': 0.992942, 'recall_word': 0.987925, 'acc_grapheme': 0.988746, 'acc_vowel': 0.996937, 'acc_consonant': 0.99634, 'acc_word': 0.987824, 'loss_grapheme': 0.047228, 'loss_vowel': 0.013506, 'loss_consonant': 0.015138, 'loss_word': 0.048576}\n",
      "   57 | 0.000018 | 160640/160678 | 8.8540 | 9.6437 |||\n",
      "val: {'recall': 0.990288, 'recall_grapheme': 0.986012, 'recall_vowel': 0.996122, 'recall_consonant': 0.993007, 'recall_word': 0.984413, 'acc_grapheme': 0.985708, 'acc_vowel': 0.996166, 'acc_consonant': 0.995692, 'acc_word': 0.984338, 'loss_grapheme': 0.09491, 'loss_vowel': 0.072785, 'loss_consonant': 0.051811, 'loss_word': 0.083233}\n",
      "   58 | 0.000016 | 160640/160678 | 20.0368 | 10.5559 |\n",
      "val: {'recall': 0.98968, 'recall_grapheme': 0.985439, 'recall_vowel': 0.995929, 'recall_consonant': 0.991915, 'recall_word': 0.984551, 'acc_grapheme': 0.985061, 'acc_vowel': 0.995966, 'acc_consonant': 0.995394, 'acc_word': 0.984438, 'loss_grapheme': 0.13923, 'loss_vowel': 0.12273, 'loss_consonant': 0.083614, 'loss_word': 0.113103}\n",
      "   59 | 0.000015 | 160640/160678 | 7.5951 | 10.2618 ||"
     ]
    },
    {
     "name": "stderr",
     "output_type": "stream",
     "text": [
      "\r",
      "  0%|          | 0/251 [00:00<?, ?it/s]"
     ]
    },
    {
     "name": "stdout",
     "output_type": "stream",
     "text": [
      "\n",
      "val: {'recall': 0.989295, 'recall_grapheme': 0.984495, 'recall_vowel': 0.995671, 'recall_consonant': 0.992519, 'recall_word': 0.982776, 'acc_grapheme': 0.984114, 'acc_vowel': 0.995892, 'acc_consonant': 0.994995, 'acc_word': 0.982695, 'loss_grapheme': 0.146699, 'loss_vowel': 0.127698, 'loss_consonant': 0.088515, 'loss_word': 0.124633}\n",
      "SWA>>>:\n"
     ]
    },
    {
     "name": "stderr",
     "output_type": "stream",
     "text": [
      "100%|██████████| 251/251 [01:33<00:00,  2.93it/s]\n"
     ]
    },
    {
     "name": "stdout",
     "output_type": "stream",
     "text": [
      "\n",
      "val: {'recall': 0.991954, 'recall_grapheme': 0.988821, 'recall_vowel': 0.99711, 'recall_consonant': 0.993062, 'recall_word': 0.987772, 'acc_grapheme': 0.988671, 'acc_vowel': 0.996962, 'acc_consonant': 0.996365, 'acc_word': 0.987675, 'loss_grapheme': 0.047196, 'loss_vowel': 0.013476, 'loss_consonant': 0.015134, 'loss_word': 0.04857}\n",
      "   60 | 0.000013 | 160640/160678 | 19.1431 | 10.3086 |\n",
      "val: {'recall': 0.988929, 'recall_grapheme': 0.983842, 'recall_vowel': 0.995746, 'recall_consonant': 0.992286, 'recall_word': 0.9834, 'acc_grapheme': 0.984214, 'acc_vowel': 0.995767, 'acc_consonant': 0.995344, 'acc_word': 0.983243, 'loss_grapheme': 0.129341, 'loss_vowel': 0.111243, 'loss_consonant': 0.077443, 'loss_word': 0.109201}\n",
      "   61 | 0.000012 | 160640/160678 | 19.1349 | 9.8439 ||\n",
      "val: {'recall': 0.989963, 'recall_grapheme': 0.985634, 'recall_vowel': 0.995909, 'recall_consonant': 0.992674, 'recall_word': 0.98493, 'acc_grapheme': 0.985708, 'acc_vowel': 0.996041, 'acc_consonant': 0.995742, 'acc_word': 0.984861, 'loss_grapheme': 0.117551, 'loss_vowel': 0.100261, 'loss_consonant': 0.069663, 'loss_word': 0.093856}\n",
      "   62 | 0.000011 | 160640/160678 | 11.7610 | 10.0601 |"
     ]
    },
    {
     "name": "stderr",
     "output_type": "stream",
     "text": [
      "\r",
      "  0%|          | 0/251 [00:00<?, ?it/s]"
     ]
    },
    {
     "name": "stdout",
     "output_type": "stream",
     "text": [
      "\n",
      "val: {'recall': 0.989502, 'recall_grapheme': 0.984826, 'recall_vowel': 0.995961, 'recall_consonant': 0.992393, 'recall_word': 0.983033, 'acc_grapheme': 0.984338, 'acc_vowel': 0.995917, 'acc_consonant': 0.99497, 'acc_word': 0.982919, 'loss_grapheme': 0.127282, 'loss_vowel': 0.104891, 'loss_consonant': 0.073619, 'loss_word': 0.110126}\n",
      "SWA>>>:\n"
     ]
    },
    {
     "name": "stderr",
     "output_type": "stream",
     "text": [
      "100%|██████████| 251/251 [01:32<00:00,  2.96it/s]\n"
     ]
    },
    {
     "name": "stdout",
     "output_type": "stream",
     "text": [
      "\n",
      "val: {'recall': 0.991871, 'recall_grapheme': 0.988746, 'recall_vowel': 0.996998, 'recall_consonant': 0.992992, 'recall_word': 0.987899, 'acc_grapheme': 0.988646, 'acc_vowel': 0.996937, 'acc_consonant': 0.996365, 'acc_word': 0.987799, 'loss_grapheme': 0.047252, 'loss_vowel': 0.013425, 'loss_consonant': 0.015102, 'loss_word': 0.048641}\n",
      "   63 | 0.000010 | 160640/160678 | 2.9445 | 9.5614 |||\n",
      "val: {'recall': 0.989787, 'recall_grapheme': 0.985506, 'recall_vowel': 0.995919, 'recall_consonant': 0.992216, 'recall_word': 0.984259, 'acc_grapheme': 0.984812, 'acc_vowel': 0.996016, 'acc_consonant': 0.995319, 'acc_word': 0.984139, 'loss_grapheme': 0.116725, 'loss_vowel': 0.094444, 'loss_consonant': 0.064905, 'loss_word': 0.101968}\n",
      "   64 | 0.000008 | 160640/160678 | 6.9008 | 9.1866 ||\n",
      "val: {'recall': 0.989363, 'recall_grapheme': 0.984542, 'recall_vowel': 0.995872, 'recall_consonant': 0.992496, 'recall_word': 0.983796, 'acc_grapheme': 0.984612, 'acc_vowel': 0.995966, 'acc_consonant': 0.995369, 'acc_word': 0.983691, 'loss_grapheme': 0.143054, 'loss_vowel': 0.120919, 'loss_consonant': 0.083793, 'loss_word': 0.115417}\n",
      "   65 | 0.000007 | 160640/160678 | 5.6856 | 10.5086 ||"
     ]
    },
    {
     "name": "stderr",
     "output_type": "stream",
     "text": [
      "\r",
      "  0%|          | 0/251 [00:00<?, ?it/s]"
     ]
    },
    {
     "name": "stdout",
     "output_type": "stream",
     "text": [
      "\n",
      "val: {'recall': 0.989917, 'recall_grapheme': 0.98565, 'recall_vowel': 0.995934, 'recall_consonant': 0.992436, 'recall_word': 0.985021, 'acc_grapheme': 0.985534, 'acc_vowel': 0.99619, 'acc_consonant': 0.995568, 'acc_word': 0.984911, 'loss_grapheme': 0.125091, 'loss_vowel': 0.104222, 'loss_consonant': 0.073792, 'loss_word': 0.099397}\n",
      "SWA>>>:\n"
     ]
    },
    {
     "name": "stderr",
     "output_type": "stream",
     "text": [
      "100%|██████████| 251/251 [01:34<00:00,  2.98it/s]\n"
     ]
    },
    {
     "name": "stdout",
     "output_type": "stream",
     "text": [
      "\n",
      "val: {'recall': 0.991883, 'recall_grapheme': 0.988824, 'recall_vowel': 0.997014, 'recall_consonant': 0.992871, 'recall_word': 0.987958, 'acc_grapheme': 0.988721, 'acc_vowel': 0.996962, 'acc_consonant': 0.996315, 'acc_word': 0.987849, 'loss_grapheme': 0.047244, 'loss_vowel': 0.013438, 'loss_consonant': 0.015098, 'loss_word': 0.048639}\n",
      "   66 | 0.000006 | 160640/160678 | 11.5432 | 9.6255 ||\n",
      "val: {'recall': 0.989516, 'recall_grapheme': 0.984771, 'recall_vowel': 0.995787, 'recall_consonant': 0.992734, 'recall_word': 0.982948, 'acc_grapheme': 0.984239, 'acc_vowel': 0.995892, 'acc_consonant': 0.99507, 'acc_word': 0.982844, 'loss_grapheme': 0.132728, 'loss_vowel': 0.112117, 'loss_consonant': 0.077152, 'loss_word': 0.114012}\n",
      "   67 | 0.000005 | 160640/160678 | 11.3380 | 10.5113 |\n",
      "val: {'recall': 0.990354, 'recall_grapheme': 0.986434, 'recall_vowel': 0.996144, 'recall_consonant': 0.992405, 'recall_word': 0.985108, 'acc_grapheme': 0.986007, 'acc_vowel': 0.99629, 'acc_consonant': 0.995643, 'acc_word': 0.984961, 'loss_grapheme': 0.091196, 'loss_vowel': 0.066643, 'loss_consonant': 0.046888, 'loss_word': 0.081336}\n",
      "   68 | 0.000005 | 160640/160678 | 13.7263 | 9.7779 ||"
     ]
    },
    {
     "name": "stderr",
     "output_type": "stream",
     "text": [
      "\r",
      "  0%|          | 0/251 [00:00<?, ?it/s]"
     ]
    },
    {
     "name": "stdout",
     "output_type": "stream",
     "text": [
      "\n",
      "val: {'recall': 0.990414, 'recall_grapheme': 0.986549, 'recall_vowel': 0.996171, 'recall_consonant': 0.992387, 'recall_word': 0.984834, 'acc_grapheme': 0.985982, 'acc_vowel': 0.996166, 'acc_consonant': 0.995668, 'acc_word': 0.984712, 'loss_grapheme': 0.092646, 'loss_vowel': 0.069152, 'loss_consonant': 0.048875, 'loss_word': 0.081882}\n",
      "SWA>>>:\n"
     ]
    },
    {
     "name": "stderr",
     "output_type": "stream",
     "text": [
      "100%|██████████| 251/251 [01:34<00:00,  2.94it/s]\n"
     ]
    },
    {
     "name": "stdout",
     "output_type": "stream",
     "text": [
      "\n",
      "val: {'recall': 0.991956, 'recall_grapheme': 0.988765, 'recall_vowel': 0.997154, 'recall_consonant': 0.99314, 'recall_word': 0.987912, 'acc_grapheme': 0.988646, 'acc_vowel': 0.997012, 'acc_consonant': 0.99639, 'acc_word': 0.987799, 'loss_grapheme': 0.047236, 'loss_vowel': 0.013425, 'loss_consonant': 0.015087, 'loss_word': 0.048708}\n",
      "   69 | 0.000004 | 160640/160678 | 15.3363 | 9.1995 ||\n",
      "val: {'recall': 0.989901, 'recall_grapheme': 0.985269, 'recall_vowel': 0.995932, 'recall_consonant': 0.993134, 'recall_word': 0.984047, 'acc_grapheme': 0.984836, 'acc_vowel': 0.996016, 'acc_consonant': 0.995518, 'acc_word': 0.983865, 'loss_grapheme': 0.137154, 'loss_vowel': 0.119264, 'loss_consonant': 0.081831, 'loss_word': 0.114087}\n",
      "   70 | 0.000003 | 160640/160678 | 14.4833 | 10.0967 |\n",
      "val: {'recall': 0.990343, 'recall_grapheme': 0.98617, 'recall_vowel': 0.996284, 'recall_consonant': 0.992748, 'recall_word': 0.985104, 'acc_grapheme': 0.985982, 'acc_vowel': 0.996265, 'acc_consonant': 0.995742, 'acc_word': 0.984986, 'loss_grapheme': 0.118946, 'loss_vowel': 0.096285, 'loss_consonant': 0.066629, 'loss_word': 0.09661}\n",
      "   71 | 0.000002 | 160640/160678 | 17.2030 | 9.3840 ||"
     ]
    },
    {
     "name": "stderr",
     "output_type": "stream",
     "text": [
      "\r",
      "  0%|          | 0/251 [00:00<?, ?it/s]"
     ]
    },
    {
     "name": "stdout",
     "output_type": "stream",
     "text": [
      "\n",
      "val: {'recall': 0.989797, 'recall_grapheme': 0.985229, 'recall_vowel': 0.995937, 'recall_consonant': 0.992796, 'recall_word': 0.983487, 'acc_grapheme': 0.984563, 'acc_vowel': 0.995941, 'acc_consonant': 0.995344, 'acc_word': 0.983342, 'loss_grapheme': 0.146496, 'loss_vowel': 0.128844, 'loss_consonant': 0.087904, 'loss_word': 0.121903}\n",
      "SWA>>>:\n"
     ]
    },
    {
     "name": "stderr",
     "output_type": "stream",
     "text": [
      "100%|██████████| 251/251 [01:35<00:00,  3.03it/s]\n"
     ]
    },
    {
     "name": "stdout",
     "output_type": "stream",
     "text": [
      "\n",
      "val: {'recall': 0.991856, 'recall_grapheme': 0.98869, 'recall_vowel': 0.997043, 'recall_consonant': 0.993003, 'recall_word': 0.987815, 'acc_grapheme': 0.988596, 'acc_vowel': 0.996987, 'acc_consonant': 0.996365, 'acc_word': 0.9877, 'loss_grapheme': 0.047154, 'loss_vowel': 0.013436, 'loss_consonant': 0.015056, 'loss_word': 0.048664}\n",
      "   72 | 0.000002 | 160640/160678 | 3.9119 | 10.0130 ||\n",
      "val: {'recall': 0.989736, 'recall_grapheme': 0.985085, 'recall_vowel': 0.995873, 'recall_consonant': 0.992902, 'recall_word': 0.984406, 'acc_grapheme': 0.984812, 'acc_vowel': 0.995966, 'acc_consonant': 0.995419, 'acc_word': 0.984264, 'loss_grapheme': 0.120367, 'loss_vowel': 0.102368, 'loss_consonant': 0.071228, 'loss_word': 0.099384}\n",
      "   73 | 0.000001 | 160640/160678 | 10.2057 | 9.7595 ||\n",
      "val: {'recall': 0.990379, 'recall_grapheme': 0.986249, 'recall_vowel': 0.996098, 'recall_consonant': 0.992919, 'recall_word': 0.984529, 'acc_grapheme': 0.985633, 'acc_vowel': 0.996166, 'acc_consonant': 0.995568, 'acc_word': 0.984388, 'loss_grapheme': 0.096461, 'loss_vowel': 0.073198, 'loss_consonant': 0.051971, 'loss_word': 0.085123}\n",
      "   74 | 0.000001 | 160640/160678 | 8.0068 | 9.4214 |||"
     ]
    },
    {
     "name": "stderr",
     "output_type": "stream",
     "text": [
      "\r",
      "  0%|          | 0/251 [00:00<?, ?it/s]"
     ]
    },
    {
     "name": "stdout",
     "output_type": "stream",
     "text": [
      "\n",
      "val: {'recall': 0.989837, 'recall_grapheme': 0.985506, 'recall_vowel': 0.99602, 'recall_consonant': 0.992316, 'recall_word': 0.983934, 'acc_grapheme': 0.984936, 'acc_vowel': 0.996091, 'acc_consonant': 0.995344, 'acc_word': 0.983791, 'loss_grapheme': 0.118339, 'loss_vowel': 0.094236, 'loss_consonant': 0.065533, 'loss_word': 0.101547}\n",
      "SWA>>>:\n"
     ]
    },
    {
     "name": "stderr",
     "output_type": "stream",
     "text": [
      "100%|██████████| 251/251 [01:36<00:00,  2.97it/s]\n"
     ]
    },
    {
     "name": "stdout",
     "output_type": "stream",
     "text": [
      "\n",
      "val: {'recall': 0.99187, 'recall_grapheme': 0.988749, 'recall_vowel': 0.997043, 'recall_consonant': 0.992939, 'recall_word': 0.987783, 'acc_grapheme': 0.988621, 'acc_vowel': 0.996987, 'acc_consonant': 0.99634, 'acc_word': 0.987675, 'loss_grapheme': 0.047221, 'loss_vowel': 0.013433, 'loss_consonant': 0.015072, 'loss_word': 0.048713}\n",
      "   75 | 0.000001 | 160640/160678 | 17.3077 | 10.5612 |\n",
      "val: {'recall': 0.989722, 'recall_grapheme': 0.985112, 'recall_vowel': 0.995939, 'recall_consonant': 0.992723, 'recall_word': 0.984633, 'acc_grapheme': 0.984961, 'acc_vowel': 0.995941, 'acc_consonant': 0.995543, 'acc_word': 0.984513, 'loss_grapheme': 0.12908, 'loss_vowel': 0.115, 'loss_consonant': 0.080845, 'loss_word': 0.099991}\n",
      "   76 | 0.000000 | 160640/160678 | 6.5594 | 9.3981 |||\n",
      "val: {'recall': 0.989734, 'recall_grapheme': 0.985374, 'recall_vowel': 0.996048, 'recall_consonant': 0.99214, 'recall_word': 0.985184, 'acc_grapheme': 0.985434, 'acc_vowel': 0.996066, 'acc_consonant': 0.995717, 'acc_word': 0.985085, 'loss_grapheme': 0.134316, 'loss_vowel': 0.111105, 'loss_consonant': 0.075722, 'loss_word': 0.110696}\n",
      "   77 | 0.000000 | 160640/160678 | 5.8471 | 9.7715 |||"
     ]
    },
    {
     "name": "stderr",
     "output_type": "stream",
     "text": [
      "\r",
      "  0%|          | 0/251 [00:00<?, ?it/s]"
     ]
    },
    {
     "name": "stdout",
     "output_type": "stream",
     "text": [
      "\n",
      "val: {'recall': 0.990034, 'recall_grapheme': 0.985746, 'recall_vowel': 0.995988, 'recall_consonant': 0.992656, 'recall_word': 0.985279, 'acc_grapheme': 0.985608, 'acc_vowel': 0.996091, 'acc_consonant': 0.995717, 'acc_word': 0.98521, 'loss_grapheme': 0.135916, 'loss_vowel': 0.116079, 'loss_consonant': 0.081329, 'loss_word': 0.105616}\n",
      "SWA>>>:\n"
     ]
    },
    {
     "name": "stderr",
     "output_type": "stream",
     "text": [
      "100%|██████████| 251/251 [01:35<00:00,  2.98it/s]\n"
     ]
    },
    {
     "name": "stdout",
     "output_type": "stream",
     "text": [
      "\n",
      "val: {'recall': 0.991908, 'recall_grapheme': 0.98877, 'recall_vowel': 0.997154, 'recall_consonant': 0.992938, 'recall_word': 0.987876, 'acc_grapheme': 0.988646, 'acc_vowel': 0.997012, 'acc_consonant': 0.996365, 'acc_word': 0.987775, 'loss_grapheme': 0.047193, 'loss_vowel': 0.013414, 'loss_consonant': 0.015075, 'loss_word': 0.048699}\n",
      "   78 | 0.000000 | 160640/160678 | 20.2444 | 10.1259 |\n",
      "val: {'recall': 0.989694, 'recall_grapheme': 0.985116, 'recall_vowel': 0.995948, 'recall_consonant': 0.992597, 'recall_word': 0.985014, 'acc_grapheme': 0.985036, 'acc_vowel': 0.995966, 'acc_consonant': 0.995568, 'acc_word': 0.984886, 'loss_grapheme': 0.169136, 'loss_vowel': 0.148832, 'loss_consonant': 0.102421, 'loss_word': 0.125148}\n",
      "   79 | 0.000000 | 160640/160678 | 9.3990 | 9.2131 |||\n",
      "val: {'recall': 0.990346, 'recall_grapheme': 0.986291, 'recall_vowel': 0.996312, 'recall_consonant': 0.99249, 'recall_word': 0.984502, 'acc_grapheme': 0.985932, 'acc_vowel': 0.996315, 'acc_consonant': 0.995543, 'acc_word': 0.984388, 'loss_grapheme': 0.098761, 'loss_vowel': 0.072975, 'loss_consonant': 0.051171, 'loss_word': 0.088829}\n",
      "CYCLE: 2\n",
      "loading ./model4-ckps/se_resnext50_32x4d/model4_se_resnext50_fold2_224.pth...\n",
      "    0 | 0.000010 | 160640/160678 | 4.5324 | 9.6377 |||\n",
      "val: {'recall': 0.990583, 'recall_grapheme': 0.986602, 'recall_vowel': 0.996371, 'recall_consonant': 0.992756, 'recall_word': 0.984727, 'acc_grapheme': 0.986305, 'acc_vowel': 0.996365, 'acc_consonant': 0.995468, 'acc_word': 0.984637, 'loss_grapheme': 0.078536, 'loss_vowel': 0.051393, 'loss_consonant': 0.037751, 'loss_word': 0.072857}\n",
      "    1 | 0.000020 | 160640/160678 | 5.9080 | 9.8858 |||\n",
      "val: {'recall': 0.989702, 'recall_grapheme': 0.985399, 'recall_vowel': 0.995708, 'recall_consonant': 0.992303, 'recall_word': 0.983195, 'acc_grapheme': 0.984488, 'acc_vowel': 0.995593, 'acc_consonant': 0.994945, 'acc_word': 0.983218, 'loss_grapheme': 0.119452, 'loss_vowel': 0.09508, 'loss_consonant': 0.066071, 'loss_word': 0.102792}\n",
      "    2 | 0.000030 | 160640/160678 | 16.2223 | 9.4926 ||\n",
      "val: {'recall': 0.989307, 'recall_grapheme': 0.984924, 'recall_vowel': 0.995454, 'recall_consonant': 0.991923, 'recall_word': 0.984106, 'acc_grapheme': 0.985135, 'acc_vowel': 0.995917, 'acc_consonant': 0.995443, 'acc_word': 0.98399, 'loss_grapheme': 0.145689, 'loss_vowel': 0.122106, 'loss_consonant': 0.081512, 'loss_word': 0.120927}\n",
      "    3 | 0.000040 | 160640/160678 | 7.4889 | 10.2517 ||\n",
      "val: {'recall': 0.989723, 'recall_grapheme': 0.985192, 'recall_vowel': 0.995824, 'recall_consonant': 0.992687, 'recall_word': 0.983322, 'acc_grapheme': 0.984861, 'acc_vowel': 0.995991, 'acc_consonant': 0.995095, 'acc_word': 0.983193, 'loss_grapheme': 0.114334, 'loss_vowel': 0.094381, 'loss_consonant': 0.065545, 'loss_word': 0.09898}\n",
      "    4 | 0.000049 | 160640/160678 | 5.9933 | 9.5031 |||\n",
      "val: {'recall': 0.988759, 'recall_grapheme': 0.983973, 'recall_vowel': 0.995578, 'recall_consonant': 0.991513, 'recall_word': 0.983334, 'acc_grapheme': 0.983766, 'acc_vowel': 0.995817, 'acc_consonant': 0.995194, 'acc_word': 0.983143, 'loss_grapheme': 0.128663, 'loss_vowel': 0.105143, 'loss_consonant': 0.070747, 'loss_word': 0.107652}\n",
      "    5 | 0.000059 | 160640/160678 | 5.1629 | 10.4347 ||\n",
      "val: {'recall': 0.988337, 'recall_grapheme': 0.982967, 'recall_vowel': 0.995518, 'recall_consonant': 0.991897, 'recall_word': 0.982251, 'acc_grapheme': 0.983019, 'acc_vowel': 0.995369, 'acc_consonant': 0.994522, 'acc_word': 0.982023, 'loss_grapheme': 0.154927, 'loss_vowel': 0.134051, 'loss_consonant': 0.090252, 'loss_word': 0.125615}\n",
      "    6 | 0.000069 | 160640/160678 | 17.4272 | 9.7411 ||\n",
      "val: {'recall': 0.9896, 'recall_grapheme': 0.984539, 'recall_vowel': 0.996086, 'recall_consonant': 0.993234, 'recall_word': 0.984196, 'acc_grapheme': 0.984836, 'acc_vowel': 0.996091, 'acc_consonant': 0.995443, 'acc_word': 0.984114, 'loss_grapheme': 0.108468, 'loss_vowel': 0.086951, 'loss_consonant': 0.058399, 'loss_word': 0.092868}\n",
      "    7 | 0.000078 | 160640/160678 | 1.0452 | 11.0348 ||\n",
      "val: {'recall': 0.989281, 'recall_grapheme': 0.984353, 'recall_vowel': 0.995613, 'recall_consonant': 0.992807, 'recall_word': 0.983892, 'acc_grapheme': 0.984612, 'acc_vowel': 0.995643, 'acc_consonant': 0.995468, 'acc_word': 0.983741, 'loss_grapheme': 0.139735, 'loss_vowel': 0.114569, 'loss_consonant': 0.077058, 'loss_word': 0.115779}\n",
      "    8 | 0.000087 | 160640/160678 | 2.0286 | 10.3075 ||\n",
      "val: {'recall': 0.990121, 'recall_grapheme': 0.985719, 'recall_vowel': 0.995816, 'recall_consonant': 0.99323, 'recall_word': 0.984091, 'acc_grapheme': 0.984936, 'acc_vowel': 0.99619, 'acc_consonant': 0.995244, 'acc_word': 0.983965, 'loss_grapheme': 0.105633, 'loss_vowel': 0.083646, 'loss_consonant': 0.058759, 'loss_word': 0.09067}\n",
      "    9 | 0.000096 | 160640/160678 | 4.3984 | 9.9875 | |\n",
      "val: {'recall': 0.989416, 'recall_grapheme': 0.984727, 'recall_vowel': 0.995104, 'recall_consonant': 0.993108, 'recall_word': 0.983107, 'acc_grapheme': 0.984363, 'acc_vowel': 0.995518, 'acc_consonant': 0.99512, 'acc_word': 0.982894, 'loss_grapheme': 0.148281, 'loss_vowel': 0.116116, 'loss_consonant': 0.082239, 'loss_word': 0.127215}\n",
      "   10 | 0.000095 | 160640/160678 | 0.8513 | 10.0179 ||\n",
      "val: {'recall': 0.989444, 'recall_grapheme': 0.984833, 'recall_vowel': 0.995583, 'recall_consonant': 0.992526, 'recall_word': 0.983241, 'acc_grapheme': 0.984762, 'acc_vowel': 0.995767, 'acc_consonant': 0.99507, 'acc_word': 0.983168, 'loss_grapheme': 0.104265, 'loss_vowel': 0.075155, 'loss_consonant': 0.052725, 'loss_word': 0.092818}\n",
      "   11 | 0.000095 | 160640/160678 | 20.6573 | 10.5652 |\n",
      "val: {'recall': 0.988833, 'recall_grapheme': 0.983858, 'recall_vowel': 0.995217, 'recall_consonant': 0.9924, 'recall_word': 0.982315, 'acc_grapheme': 0.983791, 'acc_vowel': 0.995593, 'acc_consonant': 0.994995, 'acc_word': 0.982122, 'loss_grapheme': 0.156355, 'loss_vowel': 0.13026, 'loss_consonant': 0.089797, 'loss_word': 0.130416}\n",
      "   12 | 0.000094 | 160640/160678 | 3.6663 | 10.5217 ||\n",
      "val: {'recall': 0.989104, 'recall_grapheme': 0.984231, 'recall_vowel': 0.995562, 'recall_consonant': 0.992394, 'recall_word': 0.983644, 'acc_grapheme': 0.984388, 'acc_vowel': 0.995792, 'acc_consonant': 0.99512, 'acc_word': 0.983517, 'loss_grapheme': 0.152305, 'loss_vowel': 0.133022, 'loss_consonant': 0.089546, 'loss_word': 0.12361}\n",
      "   13 | 0.000093 | 160640/160678 | 10.2254 | 10.5407 |\n",
      "val: {'recall': 0.989463, 'recall_grapheme': 0.984877, 'recall_vowel': 0.995616, 'recall_consonant': 0.992483, 'recall_word': 0.984041, 'acc_grapheme': 0.984836, 'acc_vowel': 0.995892, 'acc_consonant': 0.995294, 'acc_word': 0.984015, 'loss_grapheme': 0.120222, 'loss_vowel': 0.090777, 'loss_consonant': 0.062114, 'loss_word': 0.101848}\n",
      "   14 | 0.000092 | 160640/160678 | 8.4990 | 9.8471 |||\n",
      "val: {'recall': 0.988387, 'recall_grapheme': 0.983678, 'recall_vowel': 0.995656, 'recall_consonant': 0.990538, 'recall_word': 0.983339, 'acc_grapheme': 0.984488, 'acc_vowel': 0.995643, 'acc_consonant': 0.99512, 'acc_word': 0.983342, 'loss_grapheme': 0.09407, 'loss_vowel': 0.072774, 'loss_consonant': 0.051302, 'loss_word': 0.085679}\n",
      "   15 | 0.000090 | 160640/160678 | 18.7394 | 10.5961 |\n",
      "val: {'recall': 0.988762, 'recall_grapheme': 0.98433, 'recall_vowel': 0.995974, 'recall_consonant': 0.990414, 'recall_word': 0.983563, 'acc_grapheme': 0.98404, 'acc_vowel': 0.995966, 'acc_consonant': 0.995045, 'acc_word': 0.983268, 'loss_grapheme': 0.156601, 'loss_vowel': 0.127941, 'loss_consonant': 0.084177, 'loss_word': 0.123324}\n",
      "   16 | 0.000089 | 160640/160678 | 19.2913 | 10.1091 |\n",
      "val: {'recall': 0.989945, 'recall_grapheme': 0.985794, 'recall_vowel': 0.995786, 'recall_consonant': 0.992407, 'recall_word': 0.983979, 'acc_grapheme': 0.985036, 'acc_vowel': 0.996016, 'acc_consonant': 0.995194, 'acc_word': 0.983716, 'loss_grapheme': 0.101606, 'loss_vowel': 0.077868, 'loss_consonant': 0.054042, 'loss_word': 0.091596}\n",
      "   17 | 0.000088 | 160640/160678 | 16.5240 | 9.8389 ||\n",
      "val: {'recall': 0.988963, 'recall_grapheme': 0.983925, 'recall_vowel': 0.995643, 'recall_consonant': 0.99236, 'recall_word': 0.983581, 'acc_grapheme': 0.984164, 'acc_vowel': 0.995892, 'acc_consonant': 0.99512, 'acc_word': 0.983442, 'loss_grapheme': 0.104728, 'loss_vowel': 0.077397, 'loss_consonant': 0.054168, 'loss_word': 0.09225}\n"
     ]
    },
    {
     "name": "stdout",
     "output_type": "stream",
     "text": [
      "   18 | 0.000087 | 160640/160678 | 0.9520 | 9.5429 ||\n",
      "val: {'recall': 0.989335, 'recall_grapheme': 0.984638, 'recall_vowel': 0.995854, 'recall_consonant': 0.99221, 'recall_word': 0.98294, 'acc_grapheme': 0.984587, 'acc_vowel': 0.995941, 'acc_consonant': 0.99497, 'acc_word': 0.982745, 'loss_grapheme': 0.101277, 'loss_vowel': 0.076034, 'loss_consonant': 0.05186, 'loss_word': 0.093086}\n",
      "   19 | 0.000085 | 160640/160678 | 0.8091 | 10.2081 ||\n",
      "val: {'recall': 0.989129, 'recall_grapheme': 0.984552, 'recall_vowel': 0.995765, 'recall_consonant': 0.991647, 'recall_word': 0.983109, 'acc_grapheme': 0.984114, 'acc_vowel': 0.995717, 'acc_consonant': 0.995145, 'acc_word': 0.982795, 'loss_grapheme': 0.105067, 'loss_vowel': 0.07484, 'loss_consonant': 0.052785, 'loss_word': 0.094611}\n",
      "   20 | 0.000084 | 160640/160678 | 19.0775 | 10.2169 |"
     ]
    },
    {
     "name": "stderr",
     "output_type": "stream",
     "text": [
      "\r",
      "  0%|          | 0/251 [00:00<?, ?it/s]"
     ]
    },
    {
     "name": "stdout",
     "output_type": "stream",
     "text": [
      "\n",
      "val: {'recall': 0.989331, 'recall_grapheme': 0.984555, 'recall_vowel': 0.995869, 'recall_consonant': 0.992345, 'recall_word': 0.984286, 'acc_grapheme': 0.984737, 'acc_vowel': 0.995842, 'acc_consonant': 0.995269, 'acc_word': 0.98404, 'loss_grapheme': 0.128917, 'loss_vowel': 0.105659, 'loss_consonant': 0.073899, 'loss_word': 0.105833}\n",
      "SWA>>>:\n"
     ]
    },
    {
     "name": "stderr",
     "output_type": "stream",
     "text": [
      "100%|██████████| 251/251 [01:34<00:00,  2.92it/s]\n"
     ]
    },
    {
     "name": "stdout",
     "output_type": "stream",
     "text": [
      "\n",
      "val: {'recall': 0.99196, 'recall_grapheme': 0.988771, 'recall_vowel': 0.997142, 'recall_consonant': 0.993157, 'recall_word': 0.987969, 'acc_grapheme': 0.988621, 'acc_vowel': 0.996987, 'acc_consonant': 0.996464, 'acc_word': 0.987849, 'loss_grapheme': 0.047168, 'loss_vowel': 0.01346, 'loss_consonant': 0.015045, 'loss_word': 0.048687}\n",
      "   21 | 0.000082 | 160640/160678 | 8.0947 | 10.5477 ||\n",
      "val: {'recall': 0.988621, 'recall_grapheme': 0.983702, 'recall_vowel': 0.995165, 'recall_consonant': 0.991915, 'recall_word': 0.982562, 'acc_grapheme': 0.983666, 'acc_vowel': 0.995742, 'acc_consonant': 0.994796, 'acc_word': 0.982396, 'loss_grapheme': 0.137003, 'loss_vowel': 0.110037, 'loss_consonant': 0.077702, 'loss_word': 0.118156}\n",
      "   22 | 0.000081 | 160640/160678 | 7.8887 | 9.7114 |||\n",
      "val: {'recall': 0.989883, 'recall_grapheme': 0.986369, 'recall_vowel': 0.995872, 'recall_consonant': 0.990924, 'recall_word': 0.985231, 'acc_grapheme': 0.985758, 'acc_vowel': 0.996066, 'acc_consonant': 0.995767, 'acc_word': 0.985036, 'loss_grapheme': 0.110959, 'loss_vowel': 0.083763, 'loss_consonant': 0.058646, 'loss_word': 0.09471}\n",
      "   23 | 0.000079 | 160640/160678 | 3.1659 | 10.7969 ||"
     ]
    },
    {
     "name": "stderr",
     "output_type": "stream",
     "text": [
      "\r",
      "  0%|          | 0/251 [00:00<?, ?it/s]"
     ]
    },
    {
     "name": "stdout",
     "output_type": "stream",
     "text": [
      "\n",
      "val: {'recall': 0.98953, 'recall_grapheme': 0.985247, 'recall_vowel': 0.995698, 'recall_consonant': 0.991926, 'recall_word': 0.984651, 'acc_grapheme': 0.985285, 'acc_vowel': 0.995991, 'acc_consonant': 0.995543, 'acc_word': 0.984463, 'loss_grapheme': 0.098284, 'loss_vowel': 0.072788, 'loss_consonant': 0.0514, 'loss_word': 0.086545}\n",
      "SWA>>>:\n"
     ]
    },
    {
     "name": "stderr",
     "output_type": "stream",
     "text": [
      "100%|██████████| 251/251 [01:35<00:00,  2.95it/s]\n"
     ]
    },
    {
     "name": "stdout",
     "output_type": "stream",
     "text": [
      "\n",
      "val: {'recall': 0.991962, 'recall_grapheme': 0.988837, 'recall_vowel': 0.997154, 'recall_consonant': 0.993022, 'recall_word': 0.987935, 'acc_grapheme': 0.988746, 'acc_vowel': 0.997012, 'acc_consonant': 0.99639, 'acc_word': 0.987849, 'loss_grapheme': 0.047081, 'loss_vowel': 0.013448, 'loss_consonant': 0.015029, 'loss_word': 0.048602}\n",
      "   24 | 0.000078 | 160640/160678 | 6.7517 | 9.6862 |||\n",
      "val: {'recall': 0.989063, 'recall_grapheme': 0.983968, 'recall_vowel': 0.995801, 'recall_consonant': 0.992515, 'recall_word': 0.983741, 'acc_grapheme': 0.984587, 'acc_vowel': 0.995966, 'acc_consonant': 0.995269, 'acc_word': 0.983616, 'loss_grapheme': 0.119249, 'loss_vowel': 0.094995, 'loss_consonant': 0.06472, 'loss_word': 0.105607}\n",
      "   25 | 0.000076 | 160640/160678 | 8.7757 | 10.0884 ||\n",
      "val: {'recall': 0.989818, 'recall_grapheme': 0.985295, 'recall_vowel': 0.995857, 'recall_consonant': 0.992825, 'recall_word': 0.984444, 'acc_grapheme': 0.985061, 'acc_vowel': 0.995991, 'acc_consonant': 0.995618, 'acc_word': 0.984139, 'loss_grapheme': 0.141972, 'loss_vowel': 0.113602, 'loss_consonant': 0.079083, 'loss_word': 0.114486}\n",
      "   26 | 0.000074 | 160640/160678 | 6.9993 | 9.7659 |||"
     ]
    },
    {
     "name": "stderr",
     "output_type": "stream",
     "text": [
      "\r",
      "  0%|          | 0/251 [00:00<?, ?it/s]"
     ]
    },
    {
     "name": "stdout",
     "output_type": "stream",
     "text": [
      "\n",
      "val: {'recall': 0.988623, 'recall_grapheme': 0.983268, 'recall_vowel': 0.995716, 'recall_consonant': 0.99224, 'recall_word': 0.982856, 'acc_grapheme': 0.983268, 'acc_vowel': 0.995917, 'acc_consonant': 0.994896, 'acc_word': 0.982595, 'loss_grapheme': 0.138908, 'loss_vowel': 0.118375, 'loss_consonant': 0.082544, 'loss_word': 0.117239}\n",
      "SWA>>>:\n"
     ]
    },
    {
     "name": "stderr",
     "output_type": "stream",
     "text": [
      "100%|██████████| 251/251 [01:37<00:00,  2.99it/s]\n"
     ]
    },
    {
     "name": "stdout",
     "output_type": "stream",
     "text": [
      "\n",
      "val: {'recall': 0.992122, 'recall_grapheme': 0.988919, 'recall_vowel': 0.997165, 'recall_consonant': 0.993483, 'recall_word': 0.987895, 'acc_grapheme': 0.98882, 'acc_vowel': 0.997037, 'acc_consonant': 0.99634, 'acc_word': 0.987775, 'loss_grapheme': 0.047212, 'loss_vowel': 0.013498, 'loss_consonant': 0.015057, 'loss_word': 0.048787}\n",
      "###>>>>> saved ./model4-ckps/se_resnext50_32x4d/model4_se_resnext50_fold2_224.pth\n",
      "   27 | 0.000073 | 160640/160678 | 0.5712 | 8.7241 ||\n",
      "val: {'recall': 0.989561, 'recall_grapheme': 0.985117, 'recall_vowel': 0.995889, 'recall_consonant': 0.992122, 'recall_word': 0.98519, 'acc_grapheme': 0.985583, 'acc_vowel': 0.99619, 'acc_consonant': 0.995593, 'acc_word': 0.985011, 'loss_grapheme': 0.104657, 'loss_vowel': 0.079291, 'loss_consonant': 0.056656, 'loss_word': 0.087207}\n",
      "   28 | 0.000071 | 160640/160678 | 16.7143 | 10.4500 |\n",
      "val: {'recall': 0.990007, 'recall_grapheme': 0.985578, 'recall_vowel': 0.99584, 'recall_consonant': 0.993035, 'recall_word': 0.984878, 'acc_grapheme': 0.984961, 'acc_vowel': 0.995966, 'acc_consonant': 0.99517, 'acc_word': 0.984712, 'loss_grapheme': 0.127789, 'loss_vowel': 0.102906, 'loss_consonant': 0.071339, 'loss_word': 0.100663}\n",
      "   29 | 0.000069 | 160640/160678 | 18.6498 | 9.7950 ||"
     ]
    },
    {
     "name": "stderr",
     "output_type": "stream",
     "text": [
      "\r",
      "  0%|          | 0/251 [00:00<?, ?it/s]"
     ]
    },
    {
     "name": "stdout",
     "output_type": "stream",
     "text": [
      "\n",
      "val: {'recall': 0.989654, 'recall_grapheme': 0.985505, 'recall_vowel': 0.995839, 'recall_consonant': 0.991769, 'recall_word': 0.984098, 'acc_grapheme': 0.984488, 'acc_vowel': 0.995867, 'acc_consonant': 0.995344, 'acc_word': 0.983965, 'loss_grapheme': 0.137273, 'loss_vowel': 0.118367, 'loss_consonant': 0.082221, 'loss_word': 0.112498}\n",
      "SWA>>>:\n"
     ]
    },
    {
     "name": "stderr",
     "output_type": "stream",
     "text": [
      "100%|██████████| 251/251 [01:36<00:00,  2.85it/s]\n"
     ]
    },
    {
     "name": "stdout",
     "output_type": "stream",
     "text": [
      "\n",
      "val: {'recall': 0.992001, 'recall_grapheme': 0.988984, 'recall_vowel': 0.997044, 'recall_consonant': 0.992992, 'recall_word': 0.987988, 'acc_grapheme': 0.98892, 'acc_vowel': 0.997012, 'acc_consonant': 0.996365, 'acc_word': 0.987874, 'loss_grapheme': 0.047001, 'loss_vowel': 0.013479, 'loss_consonant': 0.015015, 'loss_word': 0.048573}\n",
      "   30 | 0.000067 | 160640/160678 | 2.5600 | 10.3826 ||\n",
      "val: {'recall': 0.989358, 'recall_grapheme': 0.984493, 'recall_vowel': 0.995711, 'recall_consonant': 0.992736, 'recall_word': 0.983735, 'acc_grapheme': 0.984214, 'acc_vowel': 0.995867, 'acc_consonant': 0.995095, 'acc_word': 0.983467, 'loss_grapheme': 0.11349, 'loss_vowel': 0.083696, 'loss_consonant': 0.059594, 'loss_word': 0.099841}\n",
      "   31 | 0.000065 | 160640/160678 | 12.5655 | 9.9279 ||\n",
      "val: {'recall': 0.989915, 'recall_grapheme': 0.985419, 'recall_vowel': 0.996095, 'recall_consonant': 0.992729, 'recall_word': 0.984598, 'acc_grapheme': 0.985036, 'acc_vowel': 0.99619, 'acc_consonant': 0.995593, 'acc_word': 0.984463, 'loss_grapheme': 0.128628, 'loss_vowel': 0.099779, 'loss_consonant': 0.067162, 'loss_word': 0.111388}\n",
      "   32 | 0.000064 | 160640/160678 | 16.9993 | 10.0464 |"
     ]
    },
    {
     "name": "stderr",
     "output_type": "stream",
     "text": [
      "\r",
      "  0%|          | 0/251 [00:00<?, ?it/s]"
     ]
    },
    {
     "name": "stdout",
     "output_type": "stream",
     "text": [
      "\n",
      "val: {'recall': 0.988616, 'recall_grapheme': 0.983787, 'recall_vowel': 0.995501, 'recall_consonant': 0.991389, 'recall_word': 0.982924, 'acc_grapheme': 0.983691, 'acc_vowel': 0.995643, 'acc_consonant': 0.995095, 'acc_word': 0.982795, 'loss_grapheme': 0.134603, 'loss_vowel': 0.110015, 'loss_consonant': 0.075528, 'loss_word': 0.113995}\n",
      "SWA>>>:\n"
     ]
    },
    {
     "name": "stderr",
     "output_type": "stream",
     "text": [
      "100%|██████████| 251/251 [01:37<00:00,  2.98it/s]\n"
     ]
    },
    {
     "name": "stdout",
     "output_type": "stream",
     "text": [
      "\n",
      "val: {'recall': 0.992092, 'recall_grapheme': 0.988899, 'recall_vowel': 0.997033, 'recall_consonant': 0.993538, 'recall_word': 0.988105, 'acc_grapheme': 0.98877, 'acc_vowel': 0.996987, 'acc_consonant': 0.996439, 'acc_word': 0.987999, 'loss_grapheme': 0.047114, 'loss_vowel': 0.01348, 'loss_consonant': 0.014971, 'loss_word': 0.048638}\n",
      "   33 | 0.000062 | 160640/160678 | 16.9571 | 9.9776 ||\n",
      "val: {'recall': 0.98892, 'recall_grapheme': 0.983963, 'recall_vowel': 0.995579, 'recall_consonant': 0.992176, 'recall_word': 0.982801, 'acc_grapheme': 0.984015, 'acc_vowel': 0.995867, 'acc_consonant': 0.994771, 'acc_word': 0.98267, 'loss_grapheme': 0.124627, 'loss_vowel': 0.101173, 'loss_consonant': 0.070569, 'loss_word': 0.107205}\n",
      "   34 | 0.000060 | 160640/160678 | 10.4185 | 10.3546 |\n",
      "val: {'recall': 0.989527, 'recall_grapheme': 0.984827, 'recall_vowel': 0.996323, 'recall_consonant': 0.992131, 'recall_word': 0.983566, 'acc_grapheme': 0.98404, 'acc_vowel': 0.996091, 'acc_consonant': 0.995493, 'acc_word': 0.983417, 'loss_grapheme': 0.109588, 'loss_vowel': 0.087429, 'loss_consonant': 0.058513, 'loss_word': 0.095464}\n",
      "   35 | 0.000058 | 160640/160678 | 14.6417 | 10.0982 |"
     ]
    },
    {
     "name": "stderr",
     "output_type": "stream",
     "text": [
      "\r",
      "  0%|          | 0/251 [00:00<?, ?it/s]"
     ]
    },
    {
     "name": "stdout",
     "output_type": "stream",
     "text": [
      "\n",
      "val: {'recall': 0.989485, 'recall_grapheme': 0.985188, 'recall_vowel': 0.996196, 'recall_consonant': 0.99137, 'recall_word': 0.983941, 'acc_grapheme': 0.984936, 'acc_vowel': 0.996166, 'acc_consonant': 0.995443, 'acc_word': 0.983741, 'loss_grapheme': 0.133411, 'loss_vowel': 0.117429, 'loss_consonant': 0.080748, 'loss_word': 0.110338}\n",
      "SWA>>>:\n"
     ]
    },
    {
     "name": "stderr",
     "output_type": "stream",
     "text": [
      "100%|██████████| 251/251 [01:33<00:00,  2.98it/s]\n"
     ]
    },
    {
     "name": "stdout",
     "output_type": "stream",
     "text": [
      "\n",
      "val: {'recall': 0.991931, 'recall_grapheme': 0.988903, 'recall_vowel': 0.997032, 'recall_consonant': 0.992883, 'recall_word': 0.988074, 'acc_grapheme': 0.98877, 'acc_vowel': 0.996987, 'acc_consonant': 0.99639, 'acc_word': 0.987974, 'loss_grapheme': 0.047035, 'loss_vowel': 0.013491, 'loss_consonant': 0.014971, 'loss_word': 0.048594}\n",
      "   36 | 0.000056 | 160640/160678 | 9.1320 | 10.0772 ||\n",
      "val: {'recall': 0.989275, 'recall_grapheme': 0.984305, 'recall_vowel': 0.995789, 'recall_consonant': 0.992701, 'recall_word': 0.982992, 'acc_grapheme': 0.984239, 'acc_vowel': 0.995717, 'acc_consonant': 0.995269, 'acc_word': 0.982795, 'loss_grapheme': 0.102499, 'loss_vowel': 0.071006, 'loss_consonant': 0.050478, 'loss_word': 0.093611}\n",
      "   37 | 0.000054 | 160640/160678 | 3.6232 | 9.5330 |||\n",
      "val: {'recall': 0.989558, 'recall_grapheme': 0.985237, 'recall_vowel': 0.995945, 'recall_consonant': 0.991812, 'recall_word': 0.984235, 'acc_grapheme': 0.984886, 'acc_vowel': 0.996116, 'acc_consonant': 0.995443, 'acc_word': 0.984015, 'loss_grapheme': 0.090588, 'loss_vowel': 0.064645, 'loss_consonant': 0.046836, 'loss_word': 0.081204}\n",
      "   38 | 0.000052 | 160640/160678 | 6.2277 | 10.0648 ||"
     ]
    },
    {
     "name": "stderr",
     "output_type": "stream",
     "text": [
      "\r",
      "  0%|          | 0/251 [00:00<?, ?it/s]"
     ]
    },
    {
     "name": "stdout",
     "output_type": "stream",
     "text": [
      "\n",
      "val: {'recall': 0.989466, 'recall_grapheme': 0.985246, 'recall_vowel': 0.996029, 'recall_consonant': 0.99134, 'recall_word': 0.984621, 'acc_grapheme': 0.985484, 'acc_vowel': 0.996141, 'acc_consonant': 0.995618, 'acc_word': 0.984563, 'loss_grapheme': 0.101545, 'loss_vowel': 0.082757, 'loss_consonant': 0.057914, 'loss_word': 0.084182}\n",
      "SWA>>>:\n"
     ]
    },
    {
     "name": "stderr",
     "output_type": "stream",
     "text": [
      "100%|██████████| 251/251 [01:34<00:00,  2.93it/s]\n"
     ]
    },
    {
     "name": "stdout",
     "output_type": "stream",
     "text": [
      "\n",
      "val: {'recall': 0.991969, 'recall_grapheme': 0.988905, 'recall_vowel': 0.997033, 'recall_consonant': 0.993032, 'recall_word': 0.988029, 'acc_grapheme': 0.988721, 'acc_vowel': 0.996987, 'acc_consonant': 0.996415, 'acc_word': 0.987949, 'loss_grapheme': 0.047192, 'loss_vowel': 0.013494, 'loss_consonant': 0.014992, 'loss_word': 0.048698}\n",
      "   39 | 0.000050 | 160640/160678 | 0.7306 | 9.6199 |||\n",
      "val: {'recall': 0.990139, 'recall_grapheme': 0.985992, 'recall_vowel': 0.996334, 'recall_consonant': 0.992236, 'recall_word': 0.985405, 'acc_grapheme': 0.985882, 'acc_vowel': 0.996365, 'acc_consonant': 0.995717, 'acc_word': 0.985235, 'loss_grapheme': 0.096296, 'loss_vowel': 0.07486, 'loss_consonant': 0.053912, 'loss_word': 0.081114}\n",
      "   40 | 0.000048 | 160640/160678 | 7.6074 | 10.4145 ||\n",
      "val: {'recall': 0.989703, 'recall_grapheme': 0.985021, 'recall_vowel': 0.996236, 'recall_consonant': 0.992533, 'recall_word': 0.984311, 'acc_grapheme': 0.984861, 'acc_vowel': 0.99619, 'acc_consonant': 0.995493, 'acc_word': 0.984089, 'loss_grapheme': 0.134789, 'loss_vowel': 0.115005, 'loss_consonant': 0.077974, 'loss_word': 0.110396}\n",
      "   41 | 0.000046 | 160640/160678 | 0.6570 | 10.0718 ||"
     ]
    },
    {
     "name": "stderr",
     "output_type": "stream",
     "text": [
      "\r",
      "  0%|          | 0/251 [00:00<?, ?it/s]"
     ]
    },
    {
     "name": "stdout",
     "output_type": "stream",
     "text": [
      "\n",
      "val: {'recall': 0.989665, 'recall_grapheme': 0.985082, 'recall_vowel': 0.996126, 'recall_consonant': 0.992369, 'recall_word': 0.984871, 'acc_grapheme': 0.98516, 'acc_vowel': 0.99619, 'acc_consonant': 0.995668, 'acc_word': 0.984737, 'loss_grapheme': 0.125192, 'loss_vowel': 0.103388, 'loss_consonant': 0.074188, 'loss_word': 0.096907}\n",
      "SWA>>>:\n"
     ]
    },
    {
     "name": "stderr",
     "output_type": "stream",
     "text": [
      "100%|██████████| 251/251 [01:34<00:00,  2.97it/s]\n"
     ]
    },
    {
     "name": "stdout",
     "output_type": "stream",
     "text": [
      "\n",
      "val: {'recall': 0.992086, 'recall_grapheme': 0.988934, 'recall_vowel': 0.997033, 'recall_consonant': 0.993442, 'recall_word': 0.988, 'acc_grapheme': 0.98877, 'acc_vowel': 0.996987, 'acc_consonant': 0.996415, 'acc_word': 0.987924, 'loss_grapheme': 0.04726, 'loss_vowel': 0.013465, 'loss_consonant': 0.014937, 'loss_word': 0.048741}\n",
      "   42 | 0.000044 | 160640/160678 | 16.9816 | 9.6820 ||\n",
      "val: {'recall': 0.989651, 'recall_grapheme': 0.985767, 'recall_vowel': 0.996518, 'recall_consonant': 0.990553, 'recall_word': 0.984772, 'acc_grapheme': 0.985309, 'acc_vowel': 0.99624, 'acc_consonant': 0.995593, 'acc_word': 0.984538, 'loss_grapheme': 0.100017, 'loss_vowel': 0.079381, 'loss_consonant': 0.053963, 'loss_word': 0.085696}\n",
      "   43 | 0.000042 | 160640/160678 | 8.8290 | 10.2688 ||\n",
      "val: {'recall': 0.989524, 'recall_grapheme': 0.985524, 'recall_vowel': 0.996256, 'recall_consonant': 0.990792, 'recall_word': 0.983739, 'acc_grapheme': 0.984687, 'acc_vowel': 0.996141, 'acc_consonant': 0.995095, 'acc_word': 0.983616, 'loss_grapheme': 0.140305, 'loss_vowel': 0.116692, 'loss_consonant': 0.080606, 'loss_word': 0.118606}\n",
      "   44 | 0.000040 | 160640/160678 | 1.4430 | 10.7386 ||"
     ]
    },
    {
     "name": "stderr",
     "output_type": "stream",
     "text": [
      "\r",
      "  0%|          | 0/251 [00:00<?, ?it/s]"
     ]
    },
    {
     "name": "stdout",
     "output_type": "stream",
     "text": [
      "\n",
      "val: {'recall': 0.989346, 'recall_grapheme': 0.985619, 'recall_vowel': 0.995862, 'recall_consonant': 0.990286, 'recall_word': 0.984673, 'acc_grapheme': 0.985384, 'acc_vowel': 0.996016, 'acc_consonant': 0.995518, 'acc_word': 0.984488, 'loss_grapheme': 0.100173, 'loss_vowel': 0.072116, 'loss_consonant': 0.050433, 'loss_word': 0.087667}\n",
      "SWA>>>:\n"
     ]
    },
    {
     "name": "stderr",
     "output_type": "stream",
     "text": [
      "100%|██████████| 251/251 [01:33<00:00,  2.97it/s]\n"
     ]
    },
    {
     "name": "stdout",
     "output_type": "stream",
     "text": [
      "\n",
      "val: {'recall': 0.991996, 'recall_grapheme': 0.988965, 'recall_vowel': 0.997045, 'recall_consonant': 0.993009, 'recall_word': 0.988129, 'acc_grapheme': 0.988746, 'acc_vowel': 0.997012, 'acc_consonant': 0.996439, 'acc_word': 0.988048, 'loss_grapheme': 0.047283, 'loss_vowel': 0.013473, 'loss_consonant': 0.014899, 'loss_word': 0.048758}\n",
      "   45 | 0.000038 | 160640/160678 | 15.4084 | 10.1625 |\n",
      "val: {'recall': 0.989538, 'recall_grapheme': 0.984937, 'recall_vowel': 0.996056, 'recall_consonant': 0.992223, 'recall_word': 0.983474, 'acc_grapheme': 0.984463, 'acc_vowel': 0.996016, 'acc_consonant': 0.995543, 'acc_word': 0.983342, 'loss_grapheme': 0.114409, 'loss_vowel': 0.091053, 'loss_consonant': 0.063418, 'loss_word': 0.097796}\n",
      "   46 | 0.000036 | 160640/160678 | 18.8107 | 9.7805 ||\n",
      "val: {'recall': 0.990432, 'recall_grapheme': 0.986755, 'recall_vowel': 0.996468, 'recall_consonant': 0.991751, 'recall_word': 0.986032, 'acc_grapheme': 0.986405, 'acc_vowel': 0.99634, 'acc_consonant': 0.995941, 'acc_word': 0.985932, 'loss_grapheme': 0.095991, 'loss_vowel': 0.074839, 'loss_consonant': 0.0535, 'loss_word': 0.077601}\n",
      "   47 | 0.000035 | 160640/160678 | 0.6330 | 10.2635 ||"
     ]
    },
    {
     "name": "stderr",
     "output_type": "stream",
     "text": [
      "\r",
      "  0%|          | 0/251 [00:00<?, ?it/s]"
     ]
    },
    {
     "name": "stdout",
     "output_type": "stream",
     "text": [
      "\n",
      "val: {'recall': 0.990024, 'recall_grapheme': 0.985791, 'recall_vowel': 0.995948, 'recall_consonant': 0.992565, 'recall_word': 0.984922, 'acc_grapheme': 0.985484, 'acc_vowel': 0.99619, 'acc_consonant': 0.995817, 'acc_word': 0.984787, 'loss_grapheme': 0.09245, 'loss_vowel': 0.067046, 'loss_consonant': 0.047207, 'loss_word': 0.080353}\n",
      "SWA>>>:\n"
     ]
    },
    {
     "name": "stderr",
     "output_type": "stream",
     "text": [
      "100%|██████████| 251/251 [01:34<00:00,  2.95it/s]\n"
     ]
    },
    {
     "name": "stdout",
     "output_type": "stream",
     "text": [
      "\n",
      "val: {'recall': 0.992026, 'recall_grapheme': 0.989028, 'recall_vowel': 0.997045, 'recall_consonant': 0.993003, 'recall_word': 0.98808, 'acc_grapheme': 0.98887, 'acc_vowel': 0.997012, 'acc_consonant': 0.996415, 'acc_word': 0.987999, 'loss_grapheme': 0.047322, 'loss_vowel': 0.013416, 'loss_consonant': 0.014889, 'loss_word': 0.048799}\n",
      "   48 | 0.000033 | 160640/160678 | 8.7350 | 10.1077 ||\n",
      "val: {'recall': 0.989867, 'recall_grapheme': 0.985449, 'recall_vowel': 0.996168, 'recall_consonant': 0.992401, 'recall_word': 0.984015, 'acc_grapheme': 0.984886, 'acc_vowel': 0.995966, 'acc_consonant': 0.995219, 'acc_word': 0.983791, 'loss_grapheme': 0.151967, 'loss_vowel': 0.13627, 'loss_consonant': 0.094939, 'loss_word': 0.121529}\n",
      "   49 | 0.000031 | 160640/160678 | 0.7315 | 9.8949 |||\n",
      "val: {'recall': 0.990513, 'recall_grapheme': 0.986483, 'recall_vowel': 0.996529, 'recall_consonant': 0.992555, 'recall_word': 0.98548, 'acc_grapheme': 0.986231, 'acc_vowel': 0.99639, 'acc_consonant': 0.995842, 'acc_word': 0.985359, 'loss_grapheme': 0.080528, 'loss_vowel': 0.053323, 'loss_consonant': 0.039, 'loss_word': 0.071883}\n",
      "   50 | 0.000029 | 160640/160678 | 8.7944 | 10.0842 ||"
     ]
    },
    {
     "name": "stderr",
     "output_type": "stream",
     "text": [
      "\r",
      "  0%|          | 0/251 [00:00<?, ?it/s]"
     ]
    },
    {
     "name": "stdout",
     "output_type": "stream",
     "text": [
      "\n",
      "val: {'recall': 0.990232, 'recall_grapheme': 0.986179, 'recall_vowel': 0.996325, 'recall_consonant': 0.992246, 'recall_word': 0.985007, 'acc_grapheme': 0.985957, 'acc_vowel': 0.99629, 'acc_consonant': 0.995692, 'acc_word': 0.984836, 'loss_grapheme': 0.114175, 'loss_vowel': 0.087627, 'loss_consonant': 0.061378, 'loss_word': 0.097613}\n",
      "SWA>>>:\n"
     ]
    },
    {
     "name": "stderr",
     "output_type": "stream",
     "text": [
      "100%|██████████| 251/251 [01:34<00:00,  2.92it/s]\n"
     ]
    },
    {
     "name": "stdout",
     "output_type": "stream",
     "text": [
      "\n",
      "val: {'recall': 0.992173, 'recall_grapheme': 0.989078, 'recall_vowel': 0.997073, 'recall_consonant': 0.993461, 'recall_word': 0.988096, 'acc_grapheme': 0.989019, 'acc_vowel': 0.997062, 'acc_consonant': 0.99639, 'acc_word': 0.988024, 'loss_grapheme': 0.047276, 'loss_vowel': 0.013397, 'loss_consonant': 0.014906, 'loss_word': 0.048808}\n",
      "###>>>>> saved ./model4-ckps/se_resnext50_32x4d/model4_se_resnext50_fold2_224.pth\n",
      "   51 | 0.000027 | 160640/160678 | 7.9056 | 10.5430 ||\n",
      "val: {'recall': 0.989059, 'recall_grapheme': 0.984063, 'recall_vowel': 0.995939, 'recall_consonant': 0.992171, 'recall_word': 0.98318, 'acc_grapheme': 0.984314, 'acc_vowel': 0.995867, 'acc_consonant': 0.995095, 'acc_word': 0.983019, 'loss_grapheme': 0.128953, 'loss_vowel': 0.112918, 'loss_consonant': 0.076151, 'loss_word': 0.109097}\n",
      "   52 | 0.000026 | 160640/160678 | 4.0446 | 10.1702 ||\n",
      "val: {'recall': 0.990058, 'recall_grapheme': 0.985936, 'recall_vowel': 0.99559, 'recall_consonant': 0.992768, 'recall_word': 0.983687, 'acc_grapheme': 0.984961, 'acc_vowel': 0.995941, 'acc_consonant': 0.995319, 'acc_word': 0.983492, 'loss_grapheme': 0.112444, 'loss_vowel': 0.089098, 'loss_consonant': 0.061359, 'loss_word': 0.099363}\n",
      "   53 | 0.000024 | 160640/160678 | 2.3141 | 9.5349 |||"
     ]
    },
    {
     "name": "stderr",
     "output_type": "stream",
     "text": [
      "\r",
      "  0%|          | 0/251 [00:00<?, ?it/s]"
     ]
    },
    {
     "name": "stdout",
     "output_type": "stream",
     "text": [
      "\n",
      "val: {'recall': 0.990246, 'recall_grapheme': 0.986274, 'recall_vowel': 0.995829, 'recall_consonant': 0.992608, 'recall_word': 0.984641, 'acc_grapheme': 0.985708, 'acc_vowel': 0.995991, 'acc_consonant': 0.995593, 'acc_word': 0.984513, 'loss_grapheme': 0.094198, 'loss_vowel': 0.06957, 'loss_consonant': 0.048254, 'loss_word': 0.085855}\n",
      "SWA>>>:\n"
     ]
    },
    {
     "name": "stderr",
     "output_type": "stream",
     "text": [
      "100%|██████████| 251/251 [01:34<00:00,  2.98it/s]\n"
     ]
    },
    {
     "name": "stdout",
     "output_type": "stream",
     "text": [
      "\n",
      "val: {'recall': 0.991893, 'recall_grapheme': 0.989067, 'recall_vowel': 0.997061, 'recall_consonant': 0.992377, 'recall_word': 0.988138, 'acc_grapheme': 0.988895, 'acc_vowel': 0.997037, 'acc_consonant': 0.99634, 'acc_word': 0.988048, 'loss_grapheme': 0.047474, 'loss_vowel': 0.013419, 'loss_consonant': 0.014876, 'loss_word': 0.049008}\n",
      "   54 | 0.000022 | 160640/160678 | 4.5611 | 9.7018 |||\n",
      "val: {'recall': 0.990386, 'recall_grapheme': 0.986217, 'recall_vowel': 0.996456, 'recall_consonant': 0.992657, 'recall_word': 0.985073, 'acc_grapheme': 0.986007, 'acc_vowel': 0.996415, 'acc_consonant': 0.995817, 'acc_word': 0.984861, 'loss_grapheme': 0.098498, 'loss_vowel': 0.076138, 'loss_consonant': 0.054397, 'loss_word': 0.085141}\n",
      "   55 | 0.000021 | 160640/160678 | 18.5469 | 9.7350 ||\n",
      "val: {'recall': 0.989391, 'recall_grapheme': 0.985013, 'recall_vowel': 0.99553, 'recall_consonant': 0.99201, 'recall_word': 0.983108, 'acc_grapheme': 0.984413, 'acc_vowel': 0.995867, 'acc_consonant': 0.99512, 'acc_word': 0.982919, 'loss_grapheme': 0.131184, 'loss_vowel': 0.113528, 'loss_consonant': 0.078312, 'loss_word': 0.112684}\n",
      "   56 | 0.000019 | 160640/160678 | 0.6703 | 10.2890 ||"
     ]
    },
    {
     "name": "stderr",
     "output_type": "stream",
     "text": [
      "\r",
      "  0%|          | 0/251 [00:00<?, ?it/s]"
     ]
    },
    {
     "name": "stdout",
     "output_type": "stream",
     "text": [
      "\n",
      "val: {'recall': 0.990501, 'recall_grapheme': 0.986586, 'recall_vowel': 0.996559, 'recall_consonant': 0.992273, 'recall_word': 0.986052, 'acc_grapheme': 0.98638, 'acc_vowel': 0.996439, 'acc_consonant': 0.995917, 'acc_word': 0.985832, 'loss_grapheme': 0.10019, 'loss_vowel': 0.081169, 'loss_consonant': 0.058984, 'loss_word': 0.082067}\n",
      "SWA>>>:\n"
     ]
    },
    {
     "name": "stderr",
     "output_type": "stream",
     "text": [
      "100%|██████████| 251/251 [01:34<00:00,  3.00it/s]\n"
     ]
    },
    {
     "name": "stdout",
     "output_type": "stream",
     "text": [
      "\n",
      "val: {'recall': 0.9919, 'recall_grapheme': 0.989036, 'recall_vowel': 0.997078, 'recall_consonant': 0.99245, 'recall_word': 0.988199, 'acc_grapheme': 0.98892, 'acc_vowel': 0.997062, 'acc_consonant': 0.996415, 'acc_word': 0.988098, 'loss_grapheme': 0.047254, 'loss_vowel': 0.013359, 'loss_consonant': 0.014808, 'loss_word': 0.048803}\n",
      "   57 | 0.000018 | 160640/160678 | 13.9359 | 9.8188 ||\n",
      "val: {'recall': 0.990389, 'recall_grapheme': 0.986497, 'recall_vowel': 0.996506, 'recall_consonant': 0.992055, 'recall_word': 0.985299, 'acc_grapheme': 0.986081, 'acc_vowel': 0.996514, 'acc_consonant': 0.995817, 'acc_word': 0.98511, 'loss_grapheme': 0.105437, 'loss_vowel': 0.080895, 'loss_consonant': 0.056087, 'loss_word': 0.092227}\n",
      "   58 | 0.000016 | 160640/160678 | 14.1373 | 9.5763 ||\n",
      "val: {'recall': 0.990311, 'recall_grapheme': 0.986395, 'recall_vowel': 0.996415, 'recall_consonant': 0.992039, 'recall_word': 0.98497, 'acc_grapheme': 0.985558, 'acc_vowel': 0.99634, 'acc_consonant': 0.995643, 'acc_word': 0.984787, 'loss_grapheme': 0.112416, 'loss_vowel': 0.091718, 'loss_consonant': 0.064351, 'loss_word': 0.094384}\n",
      "   59 | 0.000015 | 160640/160678 | 9.9047 | 9.6243 |||"
     ]
    },
    {
     "name": "stderr",
     "output_type": "stream",
     "text": [
      "\r",
      "  0%|          | 0/251 [00:00<?, ?it/s]"
     ]
    },
    {
     "name": "stdout",
     "output_type": "stream",
     "text": [
      "\n",
      "val: {'recall': 0.989342, 'recall_grapheme': 0.984415, 'recall_vowel': 0.995896, 'recall_consonant': 0.99264, 'recall_word': 0.983393, 'acc_grapheme': 0.984762, 'acc_vowel': 0.995991, 'acc_consonant': 0.994945, 'acc_word': 0.983268, 'loss_grapheme': 0.121484, 'loss_vowel': 0.100856, 'loss_consonant': 0.070583, 'loss_word': 0.10289}\n",
      "SWA>>>:\n"
     ]
    },
    {
     "name": "stderr",
     "output_type": "stream",
     "text": [
      "100%|██████████| 251/251 [01:34<00:00,  2.94it/s]\n"
     ]
    },
    {
     "name": "stdout",
     "output_type": "stream",
     "text": [
      "\n",
      "val: {'recall': 0.991947, 'recall_grapheme': 0.989048, 'recall_vowel': 0.997106, 'recall_consonant': 0.992585, 'recall_word': 0.988, 'acc_grapheme': 0.98892, 'acc_vowel': 0.997087, 'acc_consonant': 0.996489, 'acc_word': 0.987899, 'loss_grapheme': 0.047269, 'loss_vowel': 0.01333, 'loss_consonant': 0.01481, 'loss_word': 0.048846}\n",
      "   60 | 0.000013 | 160640/160678 | 17.8839 | 9.9326 ||\n",
      "val: {'recall': 0.990142, 'recall_grapheme': 0.986122, 'recall_vowel': 0.996214, 'recall_consonant': 0.992109, 'recall_word': 0.985667, 'acc_grapheme': 0.986056, 'acc_vowel': 0.99639, 'acc_consonant': 0.995643, 'acc_word': 0.985484, 'loss_grapheme': 0.099532, 'loss_vowel': 0.075728, 'loss_consonant': 0.05406, 'loss_word': 0.083084}\n",
      "   61 | 0.000012 | 160640/160678 | 18.4350 | 9.4349 ||\n",
      "val: {'recall': 0.989652, 'recall_grapheme': 0.98488, 'recall_vowel': 0.995894, 'recall_consonant': 0.992955, 'recall_word': 0.983541, 'acc_grapheme': 0.984687, 'acc_vowel': 0.996091, 'acc_consonant': 0.995319, 'acc_word': 0.983367, 'loss_grapheme': 0.124272, 'loss_vowel': 0.102778, 'loss_consonant': 0.070908, 'loss_word': 0.107023}\n",
      "   62 | 0.000011 | 160640/160678 | 19.3905 | 10.0171 |"
     ]
    },
    {
     "name": "stderr",
     "output_type": "stream",
     "text": [
      "\r",
      "  0%|          | 0/251 [00:00<?, ?it/s]"
     ]
    },
    {
     "name": "stdout",
     "output_type": "stream",
     "text": [
      "\n",
      "val: {'recall': 0.989224, 'recall_grapheme': 0.984464, 'recall_vowel': 0.995947, 'recall_consonant': 0.992021, 'recall_word': 0.983813, 'acc_grapheme': 0.984563, 'acc_vowel': 0.995941, 'acc_consonant': 0.995394, 'acc_word': 0.983641, 'loss_grapheme': 0.135778, 'loss_vowel': 0.117564, 'loss_consonant': 0.083959, 'loss_word': 0.109947}\n",
      "SWA>>>:\n"
     ]
    },
    {
     "name": "stderr",
     "output_type": "stream",
     "text": [
      "100%|██████████| 251/251 [01:33<00:00,  3.02it/s]\n"
     ]
    },
    {
     "name": "stdout",
     "output_type": "stream",
     "text": [
      "\n",
      "val: {'recall': 0.992192, 'recall_grapheme': 0.989064, 'recall_vowel': 0.997078, 'recall_consonant': 0.993562, 'recall_word': 0.988214, 'acc_grapheme': 0.98897, 'acc_vowel': 0.997062, 'acc_consonant': 0.996439, 'acc_word': 0.988098, 'loss_grapheme': 0.04728, 'loss_vowel': 0.01331, 'loss_consonant': 0.014773, 'loss_word': 0.048788}\n",
      "###>>>>> saved ./model4-ckps/se_resnext50_32x4d/model4_se_resnext50_fold2_224.pth\n",
      "   63 | 0.000010 | 160640/160678 | 18.4020 | 10.2692 |\n",
      "val: {'recall': 0.990476, 'recall_grapheme': 0.986312, 'recall_vowel': 0.996483, 'recall_consonant': 0.992798, 'recall_word': 0.986192, 'acc_grapheme': 0.98633, 'acc_vowel': 0.99634, 'acc_consonant': 0.995792, 'acc_word': 0.986032, 'loss_grapheme': 0.117479, 'loss_vowel': 0.098562, 'loss_consonant': 0.06996, 'loss_word': 0.090697}\n",
      "   64 | 0.000008 | 160640/160678 | 1.6469 | 9.2975 |||\n",
      "val: {'recall': 0.990328, 'recall_grapheme': 0.985974, 'recall_vowel': 0.995856, 'recall_consonant': 0.993507, 'recall_word': 0.984006, 'acc_grapheme': 0.985384, 'acc_vowel': 0.996141, 'acc_consonant': 0.995443, 'acc_word': 0.98389, 'loss_grapheme': 0.092744, 'loss_vowel': 0.062724, 'loss_consonant': 0.044912, 'loss_word': 0.085812}\n",
      "   65 | 0.000007 | 160640/160678 | 0.5244 | 10.0596 ||"
     ]
    },
    {
     "name": "stderr",
     "output_type": "stream",
     "text": [
      "\r",
      "  0%|          | 0/251 [00:00<?, ?it/s]"
     ]
    },
    {
     "name": "stdout",
     "output_type": "stream",
     "text": [
      "\n",
      "val: {'recall': 0.9906, 'recall_grapheme': 0.986665, 'recall_vowel': 0.996482, 'recall_consonant': 0.992589, 'recall_word': 0.985085, 'acc_grapheme': 0.986231, 'acc_vowel': 0.996514, 'acc_consonant': 0.995842, 'acc_word': 0.984961, 'loss_grapheme': 0.078918, 'loss_vowel': 0.050442, 'loss_consonant': 0.036831, 'loss_word': 0.072502}\n",
      "SWA>>>:\n"
     ]
    },
    {
     "name": "stderr",
     "output_type": "stream",
     "text": [
      "100%|██████████| 251/251 [01:35<00:00,  2.99it/s]\n"
     ]
    },
    {
     "name": "stdout",
     "output_type": "stream",
     "text": [
      "\n",
      "val: {'recall': 0.99195, 'recall_grapheme': 0.989107, 'recall_vowel': 0.997077, 'recall_consonant': 0.992512, 'recall_word': 0.988146, 'acc_grapheme': 0.988995, 'acc_vowel': 0.997062, 'acc_consonant': 0.996415, 'acc_word': 0.988048, 'loss_grapheme': 0.047316, 'loss_vowel': 0.013322, 'loss_consonant': 0.01473, 'loss_word': 0.048835}\n",
      "   66 | 0.000006 | 160640/160678 | 8.3785 | 9.4858 |||\n",
      "val: {'recall': 0.989587, 'recall_grapheme': 0.985189, 'recall_vowel': 0.99579, 'recall_consonant': 0.992179, 'recall_word': 0.983722, 'acc_grapheme': 0.984886, 'acc_vowel': 0.996066, 'acc_consonant': 0.995294, 'acc_word': 0.983567, 'loss_grapheme': 0.118576, 'loss_vowel': 0.092283, 'loss_consonant': 0.063851, 'loss_word': 0.10556}\n",
      "   67 | 0.000005 | 160640/160678 | 19.6549 | 10.2592 |\n",
      "val: {'recall': 0.990019, 'recall_grapheme': 0.985837, 'recall_vowel': 0.996288, 'recall_consonant': 0.992115, 'recall_word': 0.984624, 'acc_grapheme': 0.985534, 'acc_vowel': 0.99629, 'acc_consonant': 0.995593, 'acc_word': 0.984388, 'loss_grapheme': 0.120866, 'loss_vowel': 0.103609, 'loss_consonant': 0.071979, 'loss_word': 0.097913}\n",
      "   68 | 0.000005 | 160640/160678 | 17.9631 | 9.9966 ||"
     ]
    },
    {
     "name": "stderr",
     "output_type": "stream",
     "text": [
      "\r",
      "  0%|          | 0/251 [00:00<?, ?it/s]"
     ]
    },
    {
     "name": "stdout",
     "output_type": "stream",
     "text": [
      "\n",
      "val: {'recall': 0.989986, 'recall_grapheme': 0.985457, 'recall_vowel': 0.996343, 'recall_consonant': 0.992685, 'recall_word': 0.984452, 'acc_grapheme': 0.985061, 'acc_vowel': 0.99634, 'acc_consonant': 0.995593, 'acc_word': 0.984214, 'loss_grapheme': 0.141339, 'loss_vowel': 0.121387, 'loss_consonant': 0.08307, 'loss_word': 0.115353}\n",
      "SWA>>>:\n"
     ]
    },
    {
     "name": "stderr",
     "output_type": "stream",
     "text": [
      "100%|██████████| 251/251 [01:36<00:00,  2.90it/s]\n"
     ]
    },
    {
     "name": "stdout",
     "output_type": "stream",
     "text": [
      "\n",
      "val: {'recall': 0.991949, 'recall_grapheme': 0.989123, 'recall_vowel': 0.997101, 'recall_consonant': 0.99245, 'recall_word': 0.988289, 'acc_grapheme': 0.989019, 'acc_vowel': 0.997112, 'acc_consonant': 0.996415, 'acc_word': 0.988198, 'loss_grapheme': 0.047275, 'loss_vowel': 0.013297, 'loss_consonant': 0.014751, 'loss_word': 0.048782}\n",
      "   69 | 0.000004 | 160640/160678 | 14.2436 | 9.9106 ||\n",
      "val: {'recall': 0.990167, 'recall_grapheme': 0.985788, 'recall_vowel': 0.996437, 'recall_consonant': 0.992656, 'recall_word': 0.985252, 'acc_grapheme': 0.985633, 'acc_vowel': 0.996464, 'acc_consonant': 0.995643, 'acc_word': 0.98511, 'loss_grapheme': 0.118443, 'loss_vowel': 0.103242, 'loss_consonant': 0.073578, 'loss_word': 0.092394}\n",
      "   70 | 0.000003 | 160640/160678 | 17.4994 | 9.5600 ||\n",
      "val: {'recall': 0.990482, 'recall_grapheme': 0.986209, 'recall_vowel': 0.996639, 'recall_consonant': 0.992872, 'recall_word': 0.985258, 'acc_grapheme': 0.985982, 'acc_vowel': 0.996564, 'acc_consonant': 0.995917, 'acc_word': 0.985135, 'loss_grapheme': 0.112831, 'loss_vowel': 0.091171, 'loss_consonant': 0.063641, 'loss_word': 0.0926}\n",
      "   71 | 0.000002 | 160640/160678 | 9.5134 | 9.9112 |||"
     ]
    },
    {
     "name": "stderr",
     "output_type": "stream",
     "text": [
      "\r",
      "  0%|          | 0/251 [00:00<?, ?it/s]"
     ]
    },
    {
     "name": "stdout",
     "output_type": "stream",
     "text": [
      "\n",
      "val: {'recall': 0.989996, 'recall_grapheme': 0.9855, 'recall_vowel': 0.996382, 'recall_consonant': 0.992603, 'recall_word': 0.984488, 'acc_grapheme': 0.985359, 'acc_vowel': 0.99634, 'acc_consonant': 0.995643, 'acc_word': 0.984314, 'loss_grapheme': 0.117727, 'loss_vowel': 0.099071, 'loss_consonant': 0.070382, 'loss_word': 0.096913}\n",
      "SWA>>>:\n"
     ]
    },
    {
     "name": "stderr",
     "output_type": "stream",
     "text": [
      "100%|██████████| 251/251 [01:34<00:00,  2.89it/s]\n"
     ]
    },
    {
     "name": "stdout",
     "output_type": "stream",
     "text": [
      "\n",
      "val: {'recall': 0.991907, 'recall_grapheme': 0.989074, 'recall_vowel': 0.997089, 'recall_consonant': 0.992389, 'recall_word': 0.988221, 'acc_grapheme': 0.989019, 'acc_vowel': 0.997087, 'acc_consonant': 0.99639, 'acc_word': 0.988123, 'loss_grapheme': 0.047331, 'loss_vowel': 0.0133, 'loss_consonant': 0.014715, 'loss_word': 0.048864}\n",
      "   72 | 0.000002 | 160640/160678 | 11.7493 | 9.4808 ||\n",
      "val: {'recall': 0.99111, 'recall_grapheme': 0.987355, 'recall_vowel': 0.996503, 'recall_consonant': 0.99323, 'recall_word': 0.985646, 'acc_grapheme': 0.986878, 'acc_vowel': 0.996539, 'acc_consonant': 0.995966, 'acc_word': 0.985534, 'loss_grapheme': 0.068986, 'loss_vowel': 0.040339, 'loss_consonant': 0.030958, 'loss_word': 0.065359}\n",
      "   73 | 0.000001 | 160640/160678 | 6.1709 | 9.0300 |||\n",
      "val: {'recall': 0.990987, 'recall_grapheme': 0.98721, 'recall_vowel': 0.996644, 'recall_consonant': 0.992885, 'recall_word': 0.985723, 'acc_grapheme': 0.986779, 'acc_vowel': 0.996614, 'acc_consonant': 0.995892, 'acc_word': 0.985534, 'loss_grapheme': 0.067571, 'loss_vowel': 0.036806, 'loss_consonant': 0.028907, 'loss_word': 0.064982}\n",
      "   74 | 0.000001 | 160640/160678 | 8.5360 | 10.0378 ||"
     ]
    },
    {
     "name": "stderr",
     "output_type": "stream",
     "text": [
      "\r",
      "  0%|          | 0/251 [00:00<?, ?it/s]"
     ]
    },
    {
     "name": "stdout",
     "output_type": "stream",
     "text": [
      "\n",
      "val: {'recall': 0.989657, 'recall_grapheme': 0.98502, 'recall_vowel': 0.995912, 'recall_consonant': 0.992677, 'recall_word': 0.98316, 'acc_grapheme': 0.984612, 'acc_vowel': 0.995817, 'acc_consonant': 0.995095, 'acc_word': 0.983044, 'loss_grapheme': 0.129112, 'loss_vowel': 0.099125, 'loss_consonant': 0.070175, 'loss_word': 0.110244}\n",
      "SWA>>>:\n"
     ]
    },
    {
     "name": "stderr",
     "output_type": "stream",
     "text": [
      "100%|██████████| 251/251 [01:35<00:00,  2.98it/s]\n"
     ]
    },
    {
     "name": "stdout",
     "output_type": "stream",
     "text": [
      "\n",
      "val: {'recall': 0.991947, 'recall_grapheme': 0.989134, 'recall_vowel': 0.997101, 'recall_consonant': 0.992419, 'recall_word': 0.988168, 'acc_grapheme': 0.988945, 'acc_vowel': 0.997112, 'acc_consonant': 0.99639, 'acc_word': 0.988073, 'loss_grapheme': 0.047441, 'loss_vowel': 0.013307, 'loss_consonant': 0.014709, 'loss_word': 0.048975}\n",
      "   75 | 0.000001 | 160640/160678 | 6.1581 | 9.6822 |||\n",
      "val: {'recall': 0.989975, 'recall_grapheme': 0.985697, 'recall_vowel': 0.996113, 'recall_consonant': 0.992391, 'recall_word': 0.983938, 'acc_grapheme': 0.98511, 'acc_vowel': 0.996166, 'acc_consonant': 0.995394, 'acc_word': 0.983716, 'loss_grapheme': 0.106708, 'loss_vowel': 0.081188, 'loss_consonant': 0.057469, 'loss_word': 0.094632}\n",
      "   76 | 0.000000 | 160640/160678 | 5.2856 | 10.1080 ||\n",
      "val: {'recall': 0.990012, 'recall_grapheme': 0.985592, 'recall_vowel': 0.996314, 'recall_consonant': 0.992552, 'recall_word': 0.984594, 'acc_grapheme': 0.985309, 'acc_vowel': 0.996365, 'acc_consonant': 0.995493, 'acc_word': 0.984413, 'loss_grapheme': 0.109055, 'loss_vowel': 0.087821, 'loss_consonant': 0.061808, 'loss_word': 0.091329}\n",
      "   77 | 0.000000 | 160640/160678 | 18.3730 | 10.3388 |"
     ]
    },
    {
     "name": "stderr",
     "output_type": "stream",
     "text": [
      "\r",
      "  0%|          | 0/251 [00:00<?, ?it/s]"
     ]
    },
    {
     "name": "stdout",
     "output_type": "stream",
     "text": [
      "\n",
      "val: {'recall': 0.989899, 'recall_grapheme': 0.985231, 'recall_vowel': 0.996452, 'recall_consonant': 0.992681, 'recall_word': 0.984707, 'acc_grapheme': 0.985309, 'acc_vowel': 0.996489, 'acc_consonant': 0.995618, 'acc_word': 0.984538, 'loss_grapheme': 0.139845, 'loss_vowel': 0.120928, 'loss_consonant': 0.083584, 'loss_word': 0.112434}\n",
      "SWA>>>:\n"
     ]
    },
    {
     "name": "stderr",
     "output_type": "stream",
     "text": [
      "100%|██████████| 251/251 [01:33<00:00,  3.01it/s]\n"
     ]
    },
    {
     "name": "stdout",
     "output_type": "stream",
     "text": [
      "\n",
      "val: {'recall': 0.992197, 'recall_grapheme': 0.989067, 'recall_vowel': 0.997061, 'recall_consonant': 0.993596, 'recall_word': 0.98818, 'acc_grapheme': 0.98897, 'acc_vowel': 0.997062, 'acc_consonant': 0.996464, 'acc_word': 0.988073, 'loss_grapheme': 0.047452, 'loss_vowel': 0.013325, 'loss_consonant': 0.014763, 'loss_word': 0.049043}\n",
      "###>>>>> saved ./model4-ckps/se_resnext50_32x4d/model4_se_resnext50_fold2_224.pth\n",
      "   78 | 0.000000 | 160640/160678 | 7.5325 | 9.6811 |||\n",
      "val: {'recall': 0.990274, 'recall_grapheme': 0.986069, 'recall_vowel': 0.996364, 'recall_consonant': 0.992594, 'recall_word': 0.984879, 'acc_grapheme': 0.985733, 'acc_vowel': 0.996464, 'acc_consonant': 0.995593, 'acc_word': 0.984687, 'loss_grapheme': 0.115499, 'loss_vowel': 0.095649, 'loss_consonant': 0.066689, 'loss_word': 0.095745}\n",
      "   79 | 0.000000 | 160640/160678 | 18.0059 | 9.8727 ||\n",
      "val: {'recall': 0.990256, 'recall_grapheme': 0.9861, 'recall_vowel': 0.99649, 'recall_consonant': 0.992333, 'recall_word': 0.985058, 'acc_grapheme': 0.985708, 'acc_vowel': 0.996439, 'acc_consonant': 0.995842, 'acc_word': 0.984861, 'loss_grapheme': 0.1048, 'loss_vowel': 0.082368, 'loss_consonant': 0.059283, 'loss_word': 0.086624}\n",
      "CYCLE: 3\n",
      "loading ./model4-ckps/se_resnext50_32x4d/model4_se_resnext50_fold2_224.pth...\n",
      "    0 | 0.000010 | 160640/160678 | 19.9657 | 9.6995 |\n",
      "val: {'recall': 0.990099, 'recall_grapheme': 0.985844, 'recall_vowel': 0.996264, 'recall_consonant': 0.992446, 'recall_word': 0.984451, 'acc_grapheme': 0.985608, 'acc_vowel': 0.996141, 'acc_consonant': 0.995568, 'acc_word': 0.984289, 'loss_grapheme': 0.104334, 'loss_vowel': 0.085964, 'loss_consonant': 0.060267, 'loss_word': 0.088515}\n",
      "    1 | 0.000020 | 160640/160678 | 6.5619 | 10.0982 ||\n",
      "val: {'recall': 0.989965, 'recall_grapheme': 0.985664, 'recall_vowel': 0.996129, 'recall_consonant': 0.992403, 'recall_word': 0.984162, 'acc_grapheme': 0.98516, 'acc_vowel': 0.996041, 'acc_consonant': 0.995593, 'acc_word': 0.984015, 'loss_grapheme': 0.115442, 'loss_vowel': 0.093256, 'loss_consonant': 0.064381, 'loss_word': 0.098681}\n",
      "    2 | 0.000030 | 160640/160678 | 8.4687 | 10.9370 ||\n",
      "val: {'recall': 0.988792, 'recall_grapheme': 0.984284, 'recall_vowel': 0.995502, 'recall_consonant': 0.991099, 'recall_word': 0.982978, 'acc_grapheme': 0.984264, 'acc_vowel': 0.995717, 'acc_consonant': 0.99507, 'acc_word': 0.982745, 'loss_grapheme': 0.146873, 'loss_vowel': 0.133922, 'loss_consonant': 0.090816, 'loss_word': 0.125285}\n",
      "    3 | 0.000040 | 160640/160678 | 14.4516 | 10.1482 |\n",
      "val: {'recall': 0.989409, 'recall_grapheme': 0.984583, 'recall_vowel': 0.995648, 'recall_consonant': 0.992821, 'recall_word': 0.983073, 'acc_grapheme': 0.984612, 'acc_vowel': 0.995792, 'acc_consonant': 0.995045, 'acc_word': 0.98282, 'loss_grapheme': 0.12231, 'loss_vowel': 0.104225, 'loss_consonant': 0.07365, 'loss_word': 0.105137}\n",
      "    4 | 0.000049 | 160640/160678 | 7.2355 | 10.4044 ||\n",
      "val: {'recall': 0.988889, 'recall_grapheme': 0.984136, 'recall_vowel': 0.995601, 'recall_consonant': 0.991681, 'recall_word': 0.982855, 'acc_grapheme': 0.983965, 'acc_vowel': 0.995717, 'acc_consonant': 0.994497, 'acc_word': 0.982844, 'loss_grapheme': 0.131541, 'loss_vowel': 0.089957, 'loss_consonant': 0.067158, 'loss_word': 0.109298}\n",
      "    5 | 0.000059 | 160640/160678 | 9.7707 | 10.2133 ||\n",
      "val: {'recall': 0.98943, 'recall_grapheme': 0.985187, 'recall_vowel': 0.995434, 'recall_consonant': 0.991911, 'recall_word': 0.982266, 'acc_grapheme': 0.984139, 'acc_vowel': 0.995717, 'acc_consonant': 0.99497, 'acc_word': 0.982122, 'loss_grapheme': 0.105328, 'loss_vowel': 0.076754, 'loss_consonant': 0.053262, 'loss_word': 0.097005}\n",
      "    6 | 0.000069 | 160640/160678 | 8.2988 | 10.3097 ||\n",
      "val: {'recall': 0.989999, 'recall_grapheme': 0.985216, 'recall_vowel': 0.99601, 'recall_consonant': 0.993552, 'recall_word': 0.984478, 'acc_grapheme': 0.985608, 'acc_vowel': 0.996016, 'acc_consonant': 0.995493, 'acc_word': 0.984388, 'loss_grapheme': 0.113969, 'loss_vowel': 0.092459, 'loss_consonant': 0.063156, 'loss_word': 0.095228}\n",
      "    7 | 0.000078 | 160640/160678 | 18.3538 | 10.4179 |\n",
      "val: {'recall': 0.990072, 'recall_grapheme': 0.985821, 'recall_vowel': 0.996005, 'recall_consonant': 0.99264, 'recall_word': 0.984748, 'acc_grapheme': 0.98511, 'acc_vowel': 0.99619, 'acc_consonant': 0.995842, 'acc_word': 0.984563, 'loss_grapheme': 0.121998, 'loss_vowel': 0.09584, 'loss_consonant': 0.067995, 'loss_word': 0.099007}\n",
      "    8 | 0.000087 | 160640/160678 | 0.6611 | 10.3068 ||\n",
      "val: {'recall': 0.989173, 'recall_grapheme': 0.984197, 'recall_vowel': 0.995929, 'recall_consonant': 0.992367, 'recall_word': 0.984776, 'acc_grapheme': 0.984762, 'acc_vowel': 0.996116, 'acc_consonant': 0.995269, 'acc_word': 0.984612, 'loss_grapheme': 0.104244, 'loss_vowel': 0.077616, 'loss_consonant': 0.056372, 'loss_word': 0.087866}\n",
      "    9 | 0.000096 | 160640/160678 | 17.7524 | 10.1386 |\n",
      "val: {'recall': 0.990158, 'recall_grapheme': 0.985715, 'recall_vowel': 0.996225, 'recall_consonant': 0.992976, 'recall_word': 0.984631, 'acc_grapheme': 0.984886, 'acc_vowel': 0.996439, 'acc_consonant': 0.995543, 'acc_word': 0.984438, 'loss_grapheme': 0.136084, 'loss_vowel': 0.108116, 'loss_consonant': 0.072685, 'loss_word': 0.110499}\n",
      "   10 | 0.000095 | 160640/160678 | 2.5998 | 10.6007 ||\n",
      "val: {'recall': 0.989662, 'recall_grapheme': 0.985299, 'recall_vowel': 0.995648, 'recall_consonant': 0.992403, 'recall_word': 0.984156, 'acc_grapheme': 0.984787, 'acc_vowel': 0.995767, 'acc_consonant': 0.995443, 'acc_word': 0.984139, 'loss_grapheme': 0.113785, 'loss_vowel': 0.094755, 'loss_consonant': 0.065211, 'loss_word': 0.097572}\n",
      "   11 | 0.000095 | 160640/160678 | 8.3093 | 10.4202 ||\n",
      "val: {'recall': 0.989518, 'recall_grapheme': 0.985035, 'recall_vowel': 0.996169, 'recall_consonant': 0.991832, 'recall_word': 0.984231, 'acc_grapheme': 0.984812, 'acc_vowel': 0.995941, 'acc_consonant': 0.995269, 'acc_word': 0.983965, 'loss_grapheme': 0.142026, 'loss_vowel': 0.117669, 'loss_consonant': 0.080185, 'loss_word': 0.113323}\n",
      "   12 | 0.000094 | 160640/160678 | 7.6970 | 10.3461 ||\n",
      "val: {'recall': 0.989571, 'recall_grapheme': 0.9847, 'recall_vowel': 0.995866, 'recall_consonant': 0.993019, 'recall_word': 0.983979, 'acc_grapheme': 0.984139, 'acc_vowel': 0.995917, 'acc_consonant': 0.995244, 'acc_word': 0.983641, 'loss_grapheme': 0.155167, 'loss_vowel': 0.139283, 'loss_consonant': 0.094124, 'loss_word': 0.124906}\n",
      "   13 | 0.000093 | 112640/160678 | 2.4627 | 10.2414 ||\n",
      "val: {'recall': 0.988435, 'recall_grapheme': 0.983483, 'recall_vowel': 0.995615, 'recall_consonant': 0.99116, 'recall_word': 0.983246, 'acc_grapheme': 0.984264, 'acc_vowel': 0.996066, 'acc_consonant': 0.994746, 'acc_word': 0.983118, 'loss_grapheme': 0.105942, 'loss_vowel': 0.079379, 'loss_consonant': 0.055223, 'loss_word': 0.098889}\n",
      "   14 | 0.000092 | 160640/160678 | 11.4094 | 10.3496 |\n",
      "val: {'recall': 0.990032, 'recall_grapheme': 0.985984, 'recall_vowel': 0.995775, 'recall_consonant': 0.992386, 'recall_word': 0.98503, 'acc_grapheme': 0.985334, 'acc_vowel': 0.995842, 'acc_consonant': 0.995543, 'acc_word': 0.984886, 'loss_grapheme': 0.135006, 'loss_vowel': 0.11413, 'loss_consonant': 0.077815, 'loss_word': 0.108578}\n",
      "   15 | 0.000090 | 160640/160678 | 13.9649 | 9.7783 |\n",
      "val: {'recall': 0.989359, 'recall_grapheme': 0.98487, 'recall_vowel': 0.996001, 'recall_consonant': 0.991696, 'recall_word': 0.984561, 'acc_grapheme': 0.984812, 'acc_vowel': 0.996141, 'acc_consonant': 0.995045, 'acc_word': 0.984513, 'loss_grapheme': 0.136427, 'loss_vowel': 0.116436, 'loss_consonant': 0.0793, 'loss_word': 0.110964}\n",
      "   16 | 0.000089 | 160640/160678 | 19.6304 | 10.8843 |\n",
      "val: {'recall': 0.989473, 'recall_grapheme': 0.984607, 'recall_vowel': 0.995605, 'recall_consonant': 0.993071, 'recall_word': 0.984463, 'acc_grapheme': 0.984787, 'acc_vowel': 0.995643, 'acc_consonant': 0.995244, 'acc_word': 0.984463, 'loss_grapheme': 0.170128, 'loss_vowel': 0.161386, 'loss_consonant': 0.110543, 'loss_word': 0.128939}\n",
      "   17 | 0.000088 | 160640/160678 | 20.7220 | 10.4096 |\n",
      "val: {'recall': 0.989759, 'recall_grapheme': 0.985752, 'recall_vowel': 0.996115, 'recall_consonant': 0.991418, 'recall_word': 0.984676, 'acc_grapheme': 0.98511, 'acc_vowel': 0.996265, 'acc_consonant': 0.995319, 'acc_word': 0.984563, 'loss_grapheme': 0.126451, 'loss_vowel': 0.111891, 'loss_consonant': 0.075672, 'loss_word': 0.101858}\n"
     ]
    },
    {
     "name": "stdout",
     "output_type": "stream",
     "text": [
      "   18 | 0.000087 | 160640/160678 | 18.9867 | 10.0594 |\n",
      "val: {'recall': 0.989732, 'recall_grapheme': 0.985206, 'recall_vowel': 0.996031, 'recall_consonant': 0.992488, 'recall_word': 0.984837, 'acc_grapheme': 0.985135, 'acc_vowel': 0.995917, 'acc_consonant': 0.994771, 'acc_word': 0.984662, 'loss_grapheme': 0.159484, 'loss_vowel': 0.143133, 'loss_consonant': 0.103023, 'loss_word': 0.125225}\n",
      "   19 | 0.000085 | 160640/160678 | 21.1124 | 9.7306 ||\n",
      "val: {'recall': 0.990105, 'recall_grapheme': 0.985497, 'recall_vowel': 0.995864, 'recall_consonant': 0.993563, 'recall_word': 0.983924, 'acc_grapheme': 0.984961, 'acc_vowel': 0.995767, 'acc_consonant': 0.995344, 'acc_word': 0.983716, 'loss_grapheme': 0.126271, 'loss_vowel': 0.098727, 'loss_consonant': 0.072559, 'loss_word': 0.108786}\n",
      "   20 | 0.000084 | 160640/160678 | 20.0510 | 9.7380 ||"
     ]
    },
    {
     "name": "stderr",
     "output_type": "stream",
     "text": [
      "\r",
      "  0%|          | 0/251 [00:00<?, ?it/s]"
     ]
    },
    {
     "name": "stdout",
     "output_type": "stream",
     "text": [
      "\n",
      "val: {'recall': 0.988826, 'recall_grapheme': 0.984606, 'recall_vowel': 0.995877, 'recall_consonant': 0.990214, 'recall_word': 0.984751, 'acc_grapheme': 0.984662, 'acc_vowel': 0.995717, 'acc_consonant': 0.995568, 'acc_word': 0.984712, 'loss_grapheme': 0.162538, 'loss_vowel': 0.148096, 'loss_consonant': 0.103464, 'loss_word': 0.121161}\n",
      "SWA>>>:\n"
     ]
    },
    {
     "name": "stderr",
     "output_type": "stream",
     "text": [
      "100%|██████████| 251/251 [01:35<00:00,  2.99it/s]\n"
     ]
    },
    {
     "name": "stdout",
     "output_type": "stream",
     "text": [
      "\n",
      "val: {'recall': 0.992068, 'recall_grapheme': 0.989344, 'recall_vowel': 0.997101, 'recall_consonant': 0.992481, 'recall_word': 0.988181, 'acc_grapheme': 0.989169, 'acc_vowel': 0.997112, 'acc_consonant': 0.99639, 'acc_word': 0.988098, 'loss_grapheme': 0.047263, 'loss_vowel': 0.013321, 'loss_consonant': 0.014727, 'loss_word': 0.048839}\n",
      "   21 | 0.000082 | 160640/160678 | 17.6210 | 10.0009 |\n",
      "val: {'recall': 0.989673, 'recall_grapheme': 0.985501, 'recall_vowel': 0.995209, 'recall_consonant': 0.992481, 'recall_word': 0.984051, 'acc_grapheme': 0.985359, 'acc_vowel': 0.995742, 'acc_consonant': 0.995219, 'acc_word': 0.98389, 'loss_grapheme': 0.108822, 'loss_vowel': 0.090528, 'loss_consonant': 0.06445, 'loss_word': 0.097756}\n",
      "   22 | 0.000081 | 160640/160678 | 15.5415 | 9.8423 ||\n",
      "val: {'recall': 0.989391, 'recall_grapheme': 0.98412, 'recall_vowel': 0.995824, 'recall_consonant': 0.993498, 'recall_word': 0.983771, 'acc_grapheme': 0.984289, 'acc_vowel': 0.996041, 'acc_consonant': 0.995219, 'acc_word': 0.983691, 'loss_grapheme': 0.125847, 'loss_vowel': 0.103936, 'loss_consonant': 0.070986, 'loss_word': 0.106494}\n",
      "   23 | 0.000079 | 160640/160678 | 1.9946 | 9.7765 |||"
     ]
    },
    {
     "name": "stderr",
     "output_type": "stream",
     "text": [
      "\r",
      "  0%|          | 0/251 [00:00<?, ?it/s]"
     ]
    },
    {
     "name": "stdout",
     "output_type": "stream",
     "text": [
      "\n",
      "val: {'recall': 0.989267, 'recall_grapheme': 0.98524, 'recall_vowel': 0.995858, 'recall_consonant': 0.99073, 'recall_word': 0.983903, 'acc_grapheme': 0.984637, 'acc_vowel': 0.996141, 'acc_consonant': 0.995493, 'acc_word': 0.983791, 'loss_grapheme': 0.124496, 'loss_vowel': 0.099944, 'loss_consonant': 0.070601, 'loss_word': 0.103518}\n",
      "SWA>>>:\n"
     ]
    },
    {
     "name": "stderr",
     "output_type": "stream",
     "text": [
      "100%|██████████| 251/251 [01:33<00:00,  2.95it/s]\n"
     ]
    },
    {
     "name": "stdout",
     "output_type": "stream",
     "text": [
      "\n",
      "val: {'recall': 0.992029, 'recall_grapheme': 0.9893, 'recall_vowel': 0.997089, 'recall_consonant': 0.992425, 'recall_word': 0.988269, 'acc_grapheme': 0.989069, 'acc_vowel': 0.997087, 'acc_consonant': 0.996415, 'acc_word': 0.988173, 'loss_grapheme': 0.047258, 'loss_vowel': 0.01329, 'loss_consonant': 0.014697, 'loss_word': 0.048815}\n",
      "   24 | 0.000078 | 160640/160678 | 19.5306 | 9.3644 ||\n",
      "val: {'recall': 0.99022, 'recall_grapheme': 0.985582, 'recall_vowel': 0.996398, 'recall_consonant': 0.993316, 'recall_word': 0.984168, 'acc_grapheme': 0.984836, 'acc_vowel': 0.996141, 'acc_consonant': 0.995369, 'acc_word': 0.984114, 'loss_grapheme': 0.153646, 'loss_vowel': 0.130996, 'loss_consonant': 0.090909, 'loss_word': 0.126349}\n",
      "   25 | 0.000076 | 160640/160678 | 19.2882 | 10.2202 |\n",
      "val: {'recall': 0.99009, 'recall_grapheme': 0.985429, 'recall_vowel': 0.996249, 'recall_consonant': 0.993253, 'recall_word': 0.984766, 'acc_grapheme': 0.984861, 'acc_vowel': 0.996116, 'acc_consonant': 0.995543, 'acc_word': 0.984637, 'loss_grapheme': 0.128245, 'loss_vowel': 0.105609, 'loss_consonant': 0.07262, 'loss_word': 0.109233}\n",
      "   26 | 0.000074 | 160640/160678 | 0.9079 | 9.4922 |||"
     ]
    },
    {
     "name": "stderr",
     "output_type": "stream",
     "text": [
      "\r",
      "  0%|          | 0/251 [00:00<?, ?it/s]"
     ]
    },
    {
     "name": "stdout",
     "output_type": "stream",
     "text": [
      "\n",
      "val: {'recall': 0.98996, 'recall_grapheme': 0.985246, 'recall_vowel': 0.996463, 'recall_consonant': 0.992884, 'recall_word': 0.983851, 'acc_grapheme': 0.984911, 'acc_vowel': 0.99634, 'acc_consonant': 0.995394, 'acc_word': 0.983791, 'loss_grapheme': 0.112976, 'loss_vowel': 0.090326, 'loss_consonant': 0.064625, 'loss_word': 0.09904}\n",
      "SWA>>>:\n"
     ]
    },
    {
     "name": "stderr",
     "output_type": "stream",
     "text": [
      "100%|██████████| 251/251 [01:33<00:00,  2.97it/s]\n"
     ]
    },
    {
     "name": "stdout",
     "output_type": "stream",
     "text": [
      "\n",
      "val: {'recall': 0.992074, 'recall_grapheme': 0.989414, 'recall_vowel': 0.997077, 'recall_consonant': 0.992392, 'recall_word': 0.988306, 'acc_grapheme': 0.989219, 'acc_vowel': 0.997062, 'acc_consonant': 0.99639, 'acc_word': 0.988198, 'loss_grapheme': 0.047117, 'loss_vowel': 0.013344, 'loss_consonant': 0.014703, 'loss_word': 0.048671}\n",
      "   27 | 0.000073 | 160640/160678 | 13.6628 | 9.8246 ||\n",
      "val: {'recall': 0.990371, 'recall_grapheme': 0.986003, 'recall_vowel': 0.996294, 'recall_consonant': 0.993182, 'recall_word': 0.984941, 'acc_grapheme': 0.985509, 'acc_vowel': 0.99624, 'acc_consonant': 0.995717, 'acc_word': 0.984836, 'loss_grapheme': 0.134145, 'loss_vowel': 0.11368, 'loss_consonant': 0.081669, 'loss_word': 0.106997}\n",
      "   28 | 0.000071 | 160640/160678 | 8.0590 | 10.3727 ||\n",
      "val: {'recall': 0.989568, 'recall_grapheme': 0.984483, 'recall_vowel': 0.996251, 'recall_consonant': 0.993052, 'recall_word': 0.983038, 'acc_grapheme': 0.983741, 'acc_vowel': 0.995917, 'acc_consonant': 0.995194, 'acc_word': 0.982795, 'loss_grapheme': 0.128795, 'loss_vowel': 0.106203, 'loss_consonant': 0.078081, 'loss_word': 0.112697}\n",
      "   29 | 0.000069 | 160640/160678 | 0.8696 | 9.6821 |||"
     ]
    },
    {
     "name": "stderr",
     "output_type": "stream",
     "text": [
      "\r",
      "  0%|          | 0/251 [00:00<?, ?it/s]"
     ]
    },
    {
     "name": "stdout",
     "output_type": "stream",
     "text": [
      "\n",
      "val: {'recall': 0.989392, 'recall_grapheme': 0.983915, 'recall_vowel': 0.996175, 'recall_consonant': 0.993562, 'recall_word': 0.983429, 'acc_grapheme': 0.984563, 'acc_vowel': 0.996041, 'acc_consonant': 0.99517, 'acc_word': 0.983243, 'loss_grapheme': 0.113201, 'loss_vowel': 0.090658, 'loss_consonant': 0.063786, 'loss_word': 0.098814}\n",
      "SWA>>>:\n"
     ]
    },
    {
     "name": "stderr",
     "output_type": "stream",
     "text": [
      "100%|██████████| 251/251 [01:34<00:00,  3.02it/s]\n"
     ]
    },
    {
     "name": "stdout",
     "output_type": "stream",
     "text": [
      "\n",
      "val: {'recall': 0.992009, 'recall_grapheme': 0.989294, 'recall_vowel': 0.997089, 'recall_consonant': 0.992358, 'recall_word': 0.988281, 'acc_grapheme': 0.989169, 'acc_vowel': 0.997087, 'acc_consonant': 0.996365, 'acc_word': 0.988173, 'loss_grapheme': 0.047167, 'loss_vowel': 0.013278, 'loss_consonant': 0.014698, 'loss_word': 0.048711}\n",
      "   30 | 0.000067 | 160640/160678 | 0.6793 | 9.7196 |||\n",
      "val: {'recall': 0.98966, 'recall_grapheme': 0.985209, 'recall_vowel': 0.9962, 'recall_consonant': 0.992022, 'recall_word': 0.98429, 'acc_grapheme': 0.985409, 'acc_vowel': 0.996265, 'acc_consonant': 0.995593, 'acc_word': 0.984139, 'loss_grapheme': 0.085331, 'loss_vowel': 0.058771, 'loss_consonant': 0.042524, 'loss_word': 0.078174}\n",
      "   31 | 0.000065 | 160640/160678 | 1.7916 | 9.5059 |||\n",
      "val: {'recall': 0.990448, 'recall_grapheme': 0.985552, 'recall_vowel': 0.996477, 'recall_consonant': 0.994211, 'recall_word': 0.98467, 'acc_grapheme': 0.985434, 'acc_vowel': 0.99619, 'acc_consonant': 0.995543, 'acc_word': 0.984463, 'loss_grapheme': 0.101673, 'loss_vowel': 0.0748, 'loss_consonant': 0.050423, 'loss_word': 0.090886}\n",
      "   32 | 0.000064 | 160640/160678 | 17.5592 | 9.5424 ||"
     ]
    },
    {
     "name": "stderr",
     "output_type": "stream",
     "text": [
      "\r",
      "  0%|          | 0/251 [00:00<?, ?it/s]"
     ]
    },
    {
     "name": "stdout",
     "output_type": "stream",
     "text": [
      "\n",
      "val: {'recall': 0.99076, 'recall_grapheme': 0.986547, 'recall_vowel': 0.996187, 'recall_consonant': 0.993761, 'recall_word': 0.985329, 'acc_grapheme': 0.985932, 'acc_vowel': 0.99624, 'acc_consonant': 0.995767, 'acc_word': 0.985185, 'loss_grapheme': 0.100154, 'loss_vowel': 0.075138, 'loss_consonant': 0.053104, 'loss_word': 0.083703}\n",
      "SWA>>>:\n"
     ]
    },
    {
     "name": "stderr",
     "output_type": "stream",
     "text": [
      "100%|██████████| 251/251 [01:34<00:00,  2.95it/s]\n"
     ]
    },
    {
     "name": "stdout",
     "output_type": "stream",
     "text": [
      "\n",
      "val: {'recall': 0.991977, 'recall_grapheme': 0.989214, 'recall_vowel': 0.997089, 'recall_consonant': 0.992391, 'recall_word': 0.988252, 'acc_grapheme': 0.989169, 'acc_vowel': 0.997087, 'acc_consonant': 0.99639, 'acc_word': 0.988148, 'loss_grapheme': 0.047233, 'loss_vowel': 0.013309, 'loss_consonant': 0.014715, 'loss_word': 0.048787}\n",
      "   33 | 0.000062 | 160640/160678 | 15.2653 | 10.5642 |\n",
      "val: {'recall': 0.990824, 'recall_grapheme': 0.986232, 'recall_vowel': 0.996006, 'recall_consonant': 0.994826, 'recall_word': 0.985034, 'acc_grapheme': 0.985807, 'acc_vowel': 0.996066, 'acc_consonant': 0.995568, 'acc_word': 0.985011, 'loss_grapheme': 0.124065, 'loss_vowel': 0.102607, 'loss_consonant': 0.069875, 'loss_word': 0.096902}\n",
      "   34 | 0.000060 | 160640/160678 | 5.3570 | 10.0212 ||\n",
      "val: {'recall': 0.990122, 'recall_grapheme': 0.985317, 'recall_vowel': 0.996297, 'recall_consonant': 0.993558, 'recall_word': 0.983563, 'acc_grapheme': 0.985011, 'acc_vowel': 0.996166, 'acc_consonant': 0.995294, 'acc_word': 0.983417, 'loss_grapheme': 0.118144, 'loss_vowel': 0.094405, 'loss_consonant': 0.062733, 'loss_word': 0.102188}\n",
      "   35 | 0.000058 | 160640/160678 | 15.9258 | 10.2006 |"
     ]
    },
    {
     "name": "stderr",
     "output_type": "stream",
     "text": [
      "\r",
      "  0%|          | 0/251 [00:00<?, ?it/s]"
     ]
    },
    {
     "name": "stdout",
     "output_type": "stream",
     "text": [
      "\n",
      "val: {'recall': 0.990093, 'recall_grapheme': 0.985601, 'recall_vowel': 0.99643, 'recall_consonant': 0.992742, 'recall_word': 0.98521, 'acc_grapheme': 0.985434, 'acc_vowel': 0.99639, 'acc_consonant': 0.995767, 'acc_word': 0.98516, 'loss_grapheme': 0.137512, 'loss_vowel': 0.119707, 'loss_consonant': 0.084633, 'loss_word': 0.10907}\n",
      "SWA>>>:\n"
     ]
    },
    {
     "name": "stderr",
     "output_type": "stream",
     "text": [
      "100%|██████████| 251/251 [01:36<00:00,  3.01it/s]\n"
     ]
    },
    {
     "name": "stdout",
     "output_type": "stream",
     "text": [
      "\n",
      "val: {'recall': 0.991994, 'recall_grapheme': 0.989263, 'recall_vowel': 0.997065, 'recall_consonant': 0.992386, 'recall_word': 0.988142, 'acc_grapheme': 0.989144, 'acc_vowel': 0.997062, 'acc_consonant': 0.996365, 'acc_word': 0.988048, 'loss_grapheme': 0.047097, 'loss_vowel': 0.013326, 'loss_consonant': 0.014703, 'loss_word': 0.048663}\n",
      "   36 | 0.000056 | 160640/160678 | 4.7349 | 10.4131 ||\n",
      "val: {'recall': 0.989578, 'recall_grapheme': 0.984748, 'recall_vowel': 0.996136, 'recall_consonant': 0.99268, 'recall_word': 0.983984, 'acc_grapheme': 0.984637, 'acc_vowel': 0.996116, 'acc_consonant': 0.995219, 'acc_word': 0.983716, 'loss_grapheme': 0.139507, 'loss_vowel': 0.116123, 'loss_consonant': 0.08092, 'loss_word': 0.117904}\n",
      "   37 | 0.000054 | 160640/160678 | 9.2858 | 9.4170 ||\n",
      "val: {'recall': 0.989959, 'recall_grapheme': 0.985721, 'recall_vowel': 0.996433, 'recall_consonant': 0.991961, 'recall_word': 0.984347, 'acc_grapheme': 0.985085, 'acc_vowel': 0.996166, 'acc_consonant': 0.995269, 'acc_word': 0.984164, 'loss_grapheme': 0.100171, 'loss_vowel': 0.080189, 'loss_consonant': 0.05645, 'loss_word': 0.087874}\n",
      "   38 | 0.000052 | 160640/160678 | 13.7937 | 9.0858 ||"
     ]
    },
    {
     "name": "stderr",
     "output_type": "stream",
     "text": [
      "\r",
      "  0%|          | 0/251 [00:00<?, ?it/s]"
     ]
    },
    {
     "name": "stdout",
     "output_type": "stream",
     "text": [
      "\n",
      "val: {'recall': 0.990589, 'recall_grapheme': 0.986512, 'recall_vowel': 0.996366, 'recall_consonant': 0.992966, 'recall_word': 0.985675, 'acc_grapheme': 0.986281, 'acc_vowel': 0.996464, 'acc_consonant': 0.995792, 'acc_word': 0.985583, 'loss_grapheme': 0.099195, 'loss_vowel': 0.07554, 'loss_consonant': 0.052602, 'loss_word': 0.086952}\n",
      "SWA>>>:\n"
     ]
    },
    {
     "name": "stderr",
     "output_type": "stream",
     "text": [
      "100%|██████████| 251/251 [01:36<00:00,  3.02it/s]\n"
     ]
    },
    {
     "name": "stdout",
     "output_type": "stream",
     "text": [
      "\n",
      "val: {'recall': 0.991943, 'recall_grapheme': 0.989117, 'recall_vowel': 0.997075, 'recall_consonant': 0.992462, 'recall_word': 0.988289, 'acc_grapheme': 0.989019, 'acc_vowel': 0.997087, 'acc_consonant': 0.996464, 'acc_word': 0.988198, 'loss_grapheme': 0.047035, 'loss_vowel': 0.013251, 'loss_consonant': 0.014666, 'loss_word': 0.048554}\n",
      "   39 | 0.000050 | 160640/160678 | 4.6323 | 9.5552 |||\n",
      "val: {'recall': 0.989416, 'recall_grapheme': 0.984801, 'recall_vowel': 0.995734, 'recall_consonant': 0.992327, 'recall_word': 0.983014, 'acc_grapheme': 0.984463, 'acc_vowel': 0.996016, 'acc_consonant': 0.995319, 'acc_word': 0.982869, 'loss_grapheme': 0.121375, 'loss_vowel': 0.098602, 'loss_consonant': 0.067955, 'loss_word': 0.109499}\n",
      "   40 | 0.000048 | 160640/160678 | 11.1984 | 10.2251 |\n",
      "val: {'recall': 0.990421, 'recall_grapheme': 0.986207, 'recall_vowel': 0.99608, 'recall_consonant': 0.993192, 'recall_word': 0.984272, 'acc_grapheme': 0.985409, 'acc_vowel': 0.99634, 'acc_consonant': 0.995692, 'acc_word': 0.984015, 'loss_grapheme': 0.118996, 'loss_vowel': 0.100936, 'loss_consonant': 0.0672, 'loss_word': 0.101759}\n",
      "   41 | 0.000046 | 160640/160678 | 17.3741 | 9.1371 ||"
     ]
    },
    {
     "name": "stderr",
     "output_type": "stream",
     "text": [
      "\r",
      "  0%|          | 0/251 [00:00<?, ?it/s]"
     ]
    },
    {
     "name": "stdout",
     "output_type": "stream",
     "text": [
      "\n",
      "val: {'recall': 0.988809, 'recall_grapheme': 0.984374, 'recall_vowel': 0.995711, 'recall_consonant': 0.990776, 'recall_word': 0.982804, 'acc_grapheme': 0.984314, 'acc_vowel': 0.995867, 'acc_consonant': 0.99502, 'acc_word': 0.982645, 'loss_grapheme': 0.11353, 'loss_vowel': 0.088682, 'loss_consonant': 0.061007, 'loss_word': 0.102613}\n",
      "SWA>>>:\n"
     ]
    },
    {
     "name": "stderr",
     "output_type": "stream",
     "text": [
      "100%|██████████| 251/251 [01:34<00:00,  2.93it/s]\n"
     ]
    },
    {
     "name": "stdout",
     "output_type": "stream",
     "text": [
      "\n",
      "val: {'recall': 0.992089, 'recall_grapheme': 0.989355, 'recall_vowel': 0.997093, 'recall_consonant': 0.992551, 'recall_word': 0.988268, 'acc_grapheme': 0.989194, 'acc_vowel': 0.997087, 'acc_consonant': 0.996464, 'acc_word': 0.988173, 'loss_grapheme': 0.046934, 'loss_vowel': 0.013238, 'loss_consonant': 0.01467, 'loss_word': 0.04848}\n",
      "   42 | 0.000044 | 160640/160678 | 17.6225 | 9.7997 ||\n",
      "val: {'recall': 0.990425, 'recall_grapheme': 0.986231, 'recall_vowel': 0.996093, 'recall_consonant': 0.993145, 'recall_word': 0.984587, 'acc_grapheme': 0.985633, 'acc_vowel': 0.996166, 'acc_consonant': 0.995443, 'acc_word': 0.984438, 'loss_grapheme': 0.101972, 'loss_vowel': 0.081533, 'loss_consonant': 0.058301, 'loss_word': 0.089614}\n",
      "   43 | 0.000042 | 160640/160678 | 15.4491 | 10.2661 |\n",
      "val: {'recall': 0.990347, 'recall_grapheme': 0.985758, 'recall_vowel': 0.996448, 'recall_consonant': 0.993423, 'recall_word': 0.985806, 'acc_grapheme': 0.985907, 'acc_vowel': 0.996365, 'acc_consonant': 0.995742, 'acc_word': 0.985633, 'loss_grapheme': 0.120969, 'loss_vowel': 0.102461, 'loss_consonant': 0.072982, 'loss_word': 0.097352}\n",
      "   44 | 0.000040 | 160640/160678 | 7.2725 | 9.9953 | |"
     ]
    },
    {
     "name": "stderr",
     "output_type": "stream",
     "text": [
      "\r",
      "  0%|          | 0/251 [00:00<?, ?it/s]"
     ]
    },
    {
     "name": "stdout",
     "output_type": "stream",
     "text": [
      "\n",
      "val: {'recall': 0.989694, 'recall_grapheme': 0.984706, 'recall_vowel': 0.996287, 'recall_consonant': 0.993075, 'recall_word': 0.983658, 'acc_grapheme': 0.984911, 'acc_vowel': 0.996091, 'acc_consonant': 0.995344, 'acc_word': 0.983641, 'loss_grapheme': 0.135851, 'loss_vowel': 0.115034, 'loss_consonant': 0.07848, 'loss_word': 0.112913}\n",
      "SWA>>>:\n"
     ]
    },
    {
     "name": "stderr",
     "output_type": "stream",
     "text": [
      "100%|██████████| 251/251 [01:34<00:00,  2.99it/s]\n"
     ]
    },
    {
     "name": "stdout",
     "output_type": "stream",
     "text": [
      "\n",
      "val: {'recall': 0.992086, 'recall_grapheme': 0.989376, 'recall_vowel': 0.997071, 'recall_consonant': 0.992521, 'recall_word': 0.988429, 'acc_grapheme': 0.989219, 'acc_vowel': 0.997062, 'acc_consonant': 0.996439, 'acc_word': 0.988347, 'loss_grapheme': 0.046893, 'loss_vowel': 0.013256, 'loss_consonant': 0.014684, 'loss_word': 0.048476}\n",
      "   45 | 0.000038 | 160640/160678 | 0.6572 | 9.7793 |||\n",
      "val: {'recall': 0.990073, 'recall_grapheme': 0.986165, 'recall_vowel': 0.995918, 'recall_consonant': 0.992042, 'recall_word': 0.984418, 'acc_grapheme': 0.985484, 'acc_vowel': 0.996041, 'acc_consonant': 0.995319, 'acc_word': 0.984264, 'loss_grapheme': 0.089573, 'loss_vowel': 0.062288, 'loss_consonant': 0.044755, 'loss_word': 0.08043}\n",
      "   46 | 0.000036 | 160640/160678 | 9.1888 | 10.0041 ||\n",
      "val: {'recall': 0.990099, 'recall_grapheme': 0.985446, 'recall_vowel': 0.996213, 'recall_consonant': 0.993289, 'recall_word': 0.983915, 'acc_grapheme': 0.985085, 'acc_vowel': 0.99624, 'acc_consonant': 0.995518, 'acc_word': 0.983791, 'loss_grapheme': 0.124924, 'loss_vowel': 0.105766, 'loss_consonant': 0.071755, 'loss_word': 0.108155}\n",
      "   47 | 0.000035 | 160640/160678 | 0.6940 | 9.8727 |||"
     ]
    },
    {
     "name": "stderr",
     "output_type": "stream",
     "text": [
      "\r",
      "  0%|          | 0/251 [00:00<?, ?it/s]"
     ]
    },
    {
     "name": "stdout",
     "output_type": "stream",
     "text": [
      "\n",
      "val: {'recall': 0.990741, 'recall_grapheme': 0.987142, 'recall_vowel': 0.996198, 'recall_consonant': 0.992482, 'recall_word': 0.985241, 'acc_grapheme': 0.986231, 'acc_vowel': 0.99634, 'acc_consonant': 0.995668, 'acc_word': 0.985135, 'loss_grapheme': 0.098448, 'loss_vowel': 0.07914, 'loss_consonant': 0.0554, 'loss_word': 0.085233}\n",
      "SWA>>>:\n"
     ]
    },
    {
     "name": "stderr",
     "output_type": "stream",
     "text": [
      "100%|██████████| 251/251 [01:36<00:00,  3.04it/s]\n"
     ]
    },
    {
     "name": "stdout",
     "output_type": "stream",
     "text": [
      "\n",
      "val: {'recall': 0.992141, 'recall_grapheme': 0.989471, 'recall_vowel': 0.997065, 'recall_consonant': 0.992557, 'recall_word': 0.988366, 'acc_grapheme': 0.989244, 'acc_vowel': 0.997062, 'acc_consonant': 0.996489, 'acc_word': 0.988272, 'loss_grapheme': 0.046959, 'loss_vowel': 0.013258, 'loss_consonant': 0.01467, 'loss_word': 0.048478}\n",
      "   48 | 0.000033 | 160640/160678 | 2.9083 | 9.8090 |||\n",
      "val: {'recall': 0.991095, 'recall_grapheme': 0.986955, 'recall_vowel': 0.996514, 'recall_consonant': 0.993957, 'recall_word': 0.985701, 'acc_grapheme': 0.986032, 'acc_vowel': 0.996539, 'acc_consonant': 0.995817, 'acc_word': 0.985558, 'loss_grapheme': 0.121354, 'loss_vowel': 0.103363, 'loss_consonant': 0.071361, 'loss_word': 0.099855}\n",
      "   49 | 0.000031 | 160640/160678 | 13.2502 | 9.9846 ||\n",
      "val: {'recall': 0.991067, 'recall_grapheme': 0.986771, 'recall_vowel': 0.996688, 'recall_consonant': 0.994038, 'recall_word': 0.985521, 'acc_grapheme': 0.986181, 'acc_vowel': 0.996589, 'acc_consonant': 0.996066, 'acc_word': 0.985334, 'loss_grapheme': 0.091724, 'loss_vowel': 0.065556, 'loss_consonant': 0.045311, 'loss_word': 0.081124}\n",
      "   50 | 0.000029 | 160640/160678 | 3.6580 | 10.6583 ||"
     ]
    },
    {
     "name": "stderr",
     "output_type": "stream",
     "text": [
      "\r",
      "  0%|          | 0/251 [00:00<?, ?it/s]"
     ]
    },
    {
     "name": "stdout",
     "output_type": "stream",
     "text": [
      "\n",
      "val: {'recall': 0.990241, 'recall_grapheme': 0.985641, 'recall_vowel': 0.996099, 'recall_consonant': 0.993584, 'recall_word': 0.983907, 'acc_grapheme': 0.985036, 'acc_vowel': 0.996215, 'acc_consonant': 0.995294, 'acc_word': 0.983716, 'loss_grapheme': 0.094024, 'loss_vowel': 0.06513, 'loss_consonant': 0.048459, 'loss_word': 0.08576}\n",
      "SWA>>>:\n"
     ]
    },
    {
     "name": "stderr",
     "output_type": "stream",
     "text": [
      "100%|██████████| 251/251 [01:33<00:00,  3.02it/s]\n"
     ]
    },
    {
     "name": "stdout",
     "output_type": "stream",
     "text": [
      "\n",
      "val: {'recall': 0.99204, 'recall_grapheme': 0.989322, 'recall_vowel': 0.997053, 'recall_consonant': 0.992462, 'recall_word': 0.988243, 'acc_grapheme': 0.989144, 'acc_vowel': 0.997037, 'acc_consonant': 0.996464, 'acc_word': 0.988148, 'loss_grapheme': 0.046969, 'loss_vowel': 0.013293, 'loss_consonant': 0.014631, 'loss_word': 0.048517}\n",
      "   51 | 0.000027 | 160640/160678 | 6.8564 | 9.9952 |||\n",
      "val: {'recall': 0.990549, 'recall_grapheme': 0.986832, 'recall_vowel': 0.99642, 'recall_consonant': 0.992113, 'recall_word': 0.985583, 'acc_grapheme': 0.986231, 'acc_vowel': 0.996415, 'acc_consonant': 0.995593, 'acc_word': 0.985384, 'loss_grapheme': 0.099595, 'loss_vowel': 0.074926, 'loss_consonant': 0.053227, 'loss_word': 0.086923}\n",
      "   52 | 0.000026 | 160640/160678 | 8.5213 | 9.8905 |||\n",
      "val: {'recall': 0.990341, 'recall_grapheme': 0.986067, 'recall_vowel': 0.996499, 'recall_consonant': 0.992729, 'recall_word': 0.984895, 'acc_grapheme': 0.985708, 'acc_vowel': 0.99634, 'acc_consonant': 0.995842, 'acc_word': 0.984762, 'loss_grapheme': 0.109784, 'loss_vowel': 0.093265, 'loss_consonant': 0.064749, 'loss_word': 0.092433}\n",
      "   53 | 0.000024 | 160640/160678 | 3.6334 | 10.0113 ||"
     ]
    },
    {
     "name": "stderr",
     "output_type": "stream",
     "text": [
      "\r",
      "  0%|          | 0/251 [00:00<?, ?it/s]"
     ]
    },
    {
     "name": "stdout",
     "output_type": "stream",
     "text": [
      "\n",
      "val: {'recall': 0.989851, 'recall_grapheme': 0.985081, 'recall_vowel': 0.995751, 'recall_consonant': 0.993492, 'recall_word': 0.98389, 'acc_grapheme': 0.985334, 'acc_vowel': 0.995867, 'acc_consonant': 0.995244, 'acc_word': 0.983716, 'loss_grapheme': 0.126685, 'loss_vowel': 0.105041, 'loss_consonant': 0.074335, 'loss_word': 0.108319}\n",
      "SWA>>>:\n"
     ]
    },
    {
     "name": "stderr",
     "output_type": "stream",
     "text": [
      "100%|██████████| 251/251 [01:36<00:00,  2.96it/s]\n"
     ]
    },
    {
     "name": "stdout",
     "output_type": "stream",
     "text": [
      "\n",
      "val: {'recall': 0.992095, 'recall_grapheme': 0.989442, 'recall_vowel': 0.997066, 'recall_consonant': 0.992428, 'recall_word': 0.988313, 'acc_grapheme': 0.989194, 'acc_vowel': 0.997062, 'acc_consonant': 0.996439, 'acc_word': 0.988223, 'loss_grapheme': 0.04701, 'loss_vowel': 0.01332, 'loss_consonant': 0.014677, 'loss_word': 0.048564}\n",
      "   54 | 0.000022 | 160640/160678 | 1.2747 | 9.9571 |||\n",
      "val: {'recall': 0.990528, 'recall_grapheme': 0.986473, 'recall_vowel': 0.996386, 'recall_consonant': 0.99278, 'recall_word': 0.985215, 'acc_grapheme': 0.986032, 'acc_vowel': 0.996439, 'acc_consonant': 0.995892, 'acc_word': 0.985085, 'loss_grapheme': 0.113117, 'loss_vowel': 0.093192, 'loss_consonant': 0.063773, 'loss_word': 0.095885}\n",
      "   55 | 0.000021 | 160640/160678 | 19.8772 | 10.1720 |\n",
      "val: {'recall': 0.991212, 'recall_grapheme': 0.987584, 'recall_vowel': 0.996351, 'recall_consonant': 0.993327, 'recall_word': 0.986125, 'acc_grapheme': 0.986878, 'acc_vowel': 0.996439, 'acc_consonant': 0.995917, 'acc_word': 0.986032, 'loss_grapheme': 0.129066, 'loss_vowel': 0.11036, 'loss_consonant': 0.07768, 'loss_word': 0.101239}\n",
      "   56 | 0.000019 | 160640/160678 | 16.6127 | 10.3051 |"
     ]
    },
    {
     "name": "stderr",
     "output_type": "stream",
     "text": [
      "\r",
      "  0%|          | 0/251 [00:00<?, ?it/s]"
     ]
    },
    {
     "name": "stdout",
     "output_type": "stream",
     "text": [
      "\n",
      "val: {'recall': 0.990305, 'recall_grapheme': 0.98542, 'recall_vowel': 0.99672, 'recall_consonant': 0.993662, 'recall_word': 0.984609, 'acc_grapheme': 0.985484, 'acc_vowel': 0.996464, 'acc_consonant': 0.995668, 'acc_word': 0.984463, 'loss_grapheme': 0.110782, 'loss_vowel': 0.09433, 'loss_consonant': 0.064361, 'loss_word': 0.092975}\n",
      "SWA>>>:\n"
     ]
    },
    {
     "name": "stderr",
     "output_type": "stream",
     "text": [
      "100%|██████████| 251/251 [01:35<00:00,  3.03it/s]\n"
     ]
    },
    {
     "name": "stdout",
     "output_type": "stream",
     "text": [
      "\n",
      "val: {'recall': 0.99202, 'recall_grapheme': 0.989305, 'recall_vowel': 0.997104, 'recall_consonant': 0.992366, 'recall_word': 0.988275, 'acc_grapheme': 0.989119, 'acc_vowel': 0.997112, 'acc_consonant': 0.996439, 'acc_word': 0.988173, 'loss_grapheme': 0.047027, 'loss_vowel': 0.013287, 'loss_consonant': 0.01469, 'loss_word': 0.048593}\n",
      "   57 | 0.000018 | 160640/160678 | 16.9559 | 9.9160 ||\n",
      "val: {'recall': 0.989483, 'recall_grapheme': 0.984334, 'recall_vowel': 0.996063, 'recall_consonant': 0.9932, 'recall_word': 0.984054, 'acc_grapheme': 0.984637, 'acc_vowel': 0.996116, 'acc_consonant': 0.995443, 'acc_word': 0.983965, 'loss_grapheme': 0.138694, 'loss_vowel': 0.126834, 'loss_consonant': 0.08951, 'loss_word': 0.110036}\n",
      "   58 | 0.000016 | 160640/160678 | 4.8589 | 9.8505 |||\n",
      "val: {'recall': 0.99041, 'recall_grapheme': 0.98585, 'recall_vowel': 0.996286, 'recall_consonant': 0.993655, 'recall_word': 0.984137, 'acc_grapheme': 0.98526, 'acc_vowel': 0.996365, 'acc_consonant': 0.995443, 'acc_word': 0.98394, 'loss_grapheme': 0.122467, 'loss_vowel': 0.10392, 'loss_consonant': 0.07208, 'loss_word': 0.106011}\n",
      "   59 | 0.000015 | 160640/160678 | 6.8611 | 9.5869 |||"
     ]
    },
    {
     "name": "stderr",
     "output_type": "stream",
     "text": [
      "\r",
      "  0%|          | 0/251 [00:00<?, ?it/s]"
     ]
    },
    {
     "name": "stdout",
     "output_type": "stream",
     "text": [
      "\n",
      "val: {'recall': 0.990006, 'recall_grapheme': 0.98564, 'recall_vowel': 0.996241, 'recall_consonant': 0.992504, 'recall_word': 0.985156, 'acc_grapheme': 0.985783, 'acc_vowel': 0.99639, 'acc_consonant': 0.995518, 'acc_word': 0.985085, 'loss_grapheme': 0.126024, 'loss_vowel': 0.110568, 'loss_consonant': 0.077158, 'loss_word': 0.100648}\n",
      "SWA>>>:\n"
     ]
    },
    {
     "name": "stderr",
     "output_type": "stream",
     "text": [
      "100%|██████████| 251/251 [01:34<00:00,  2.96it/s]\n"
     ]
    },
    {
     "name": "stdout",
     "output_type": "stream",
     "text": [
      "\n",
      "val: {'recall': 0.992071, 'recall_grapheme': 0.989399, 'recall_vowel': 0.997053, 'recall_consonant': 0.992434, 'recall_word': 0.988332, 'acc_grapheme': 0.989144, 'acc_vowel': 0.997037, 'acc_consonant': 0.996464, 'acc_word': 0.988248, 'loss_grapheme': 0.046787, 'loss_vowel': 0.013241, 'loss_consonant': 0.014657, 'loss_word': 0.048342}\n",
      "   60 | 0.000013 | 160640/160678 | 18.6434 | 9.5414 ||\n",
      "val: {'recall': 0.99063, 'recall_grapheme': 0.986624, 'recall_vowel': 0.996474, 'recall_consonant': 0.992801, 'recall_word': 0.98581, 'acc_grapheme': 0.98633, 'acc_vowel': 0.996514, 'acc_consonant': 0.995892, 'acc_word': 0.985733, 'loss_grapheme': 0.124328, 'loss_vowel': 0.104403, 'loss_consonant': 0.072676, 'loss_word': 0.100129}\n",
      "   61 | 0.000012 | 160640/160678 | 2.1508 | 10.2248 ||\n",
      "val: {'recall': 0.9903, 'recall_grapheme': 0.986101, 'recall_vowel': 0.99632, 'recall_consonant': 0.99268, 'recall_word': 0.985075, 'acc_grapheme': 0.985608, 'acc_vowel': 0.99639, 'acc_consonant': 0.995717, 'acc_word': 0.984911, 'loss_grapheme': 0.124709, 'loss_vowel': 0.104451, 'loss_consonant': 0.072717, 'loss_word': 0.10466}\n",
      "   62 | 0.000011 | 160640/160678 | 19.7426 | 10.1971 |"
     ]
    },
    {
     "name": "stderr",
     "output_type": "stream",
     "text": [
      "\r",
      "  0%|          | 0/251 [00:00<?, ?it/s]"
     ]
    },
    {
     "name": "stdout",
     "output_type": "stream",
     "text": [
      "\n",
      "val: {'recall': 0.9901, 'recall_grapheme': 0.985685, 'recall_vowel': 0.996345, 'recall_consonant': 0.992686, 'recall_word': 0.984659, 'acc_grapheme': 0.985384, 'acc_vowel': 0.99634, 'acc_consonant': 0.995618, 'acc_word': 0.984463, 'loss_grapheme': 0.126623, 'loss_vowel': 0.111515, 'loss_consonant': 0.0794, 'loss_word': 0.102548}\n",
      "SWA>>>:\n"
     ]
    },
    {
     "name": "stderr",
     "output_type": "stream",
     "text": [
      "100%|██████████| 251/251 [01:33<00:00,  3.00it/s]\n"
     ]
    },
    {
     "name": "stdout",
     "output_type": "stream",
     "text": [
      "\n",
      "val: {'recall': 0.99214, 'recall_grapheme': 0.989451, 'recall_vowel': 0.9971, 'recall_consonant': 0.992557, 'recall_word': 0.988311, 'acc_grapheme': 0.989219, 'acc_vowel': 0.997087, 'acc_consonant': 0.996489, 'acc_word': 0.988223, 'loss_grapheme': 0.046774, 'loss_vowel': 0.013255, 'loss_consonant': 0.014625, 'loss_word': 0.048325}\n",
      "   63 | 0.000010 | 160640/160678 | 7.6149 | 10.1958 ||\n",
      "val: {'recall': 0.989894, 'recall_grapheme': 0.985236, 'recall_vowel': 0.995976, 'recall_consonant': 0.993127, 'recall_word': 0.98445, 'acc_grapheme': 0.985384, 'acc_vowel': 0.996141, 'acc_consonant': 0.995618, 'acc_word': 0.984264, 'loss_grapheme': 0.118375, 'loss_vowel': 0.101134, 'loss_consonant': 0.070114, 'loss_word': 0.101114}\n",
      "   64 | 0.000008 | 160640/160678 | 9.2717 | 9.6563 |||\n",
      "val: {'recall': 0.99067, 'recall_grapheme': 0.9867, 'recall_vowel': 0.996566, 'recall_consonant': 0.992715, 'recall_word': 0.985475, 'acc_grapheme': 0.986256, 'acc_vowel': 0.996539, 'acc_consonant': 0.995867, 'acc_word': 0.985384, 'loss_grapheme': 0.105299, 'loss_vowel': 0.085884, 'loss_consonant': 0.061431, 'loss_word': 0.086532}\n",
      "   65 | 0.000007 | 160640/160678 | 8.1347 | 9.8503 |||"
     ]
    },
    {
     "name": "stderr",
     "output_type": "stream",
     "text": [
      "\r",
      "  0%|          | 0/251 [00:00<?, ?it/s]"
     ]
    },
    {
     "name": "stdout",
     "output_type": "stream",
     "text": [
      "\n",
      "val: {'recall': 0.990468, 'recall_grapheme': 0.986181, 'recall_vowel': 0.996543, 'recall_consonant': 0.992967, 'recall_word': 0.984597, 'acc_grapheme': 0.985583, 'acc_vowel': 0.99639, 'acc_consonant': 0.995618, 'acc_word': 0.984388, 'loss_grapheme': 0.111217, 'loss_vowel': 0.087546, 'loss_consonant': 0.060737, 'loss_word': 0.098047}\n",
      "SWA>>>:\n"
     ]
    },
    {
     "name": "stderr",
     "output_type": "stream",
     "text": [
      "100%|██████████| 251/251 [01:32<00:00,  3.00it/s]\n"
     ]
    },
    {
     "name": "stdout",
     "output_type": "stream",
     "text": [
      "\n",
      "val: {'recall': 0.992083, 'recall_grapheme': 0.989359, 'recall_vowel': 0.997055, 'recall_consonant': 0.992557, 'recall_word': 0.98835, 'acc_grapheme': 0.989119, 'acc_vowel': 0.997037, 'acc_consonant': 0.996489, 'acc_word': 0.988272, 'loss_grapheme': 0.046933, 'loss_vowel': 0.013263, 'loss_consonant': 0.014657, 'loss_word': 0.04848}\n",
      "   66 | 0.000007 | 068480/160678 | 5.8950 | 10.1015 ||"
     ]
    },
    {
     "ename": "KeyboardInterrupt",
     "evalue": "",
     "output_type": "error",
     "traceback": [
      "\u001b[0;31m---------------------------------------------------------------------------\u001b[0m",
      "\u001b[0;31mKeyboardInterrupt\u001b[0m                         Traceback (most recent call last)",
      "\u001b[0;32m<ipython-input-40-aad596905035>\u001b[0m in \u001b[0;36m<module>\u001b[0;34m\u001b[0m\n\u001b[0;32m----> 1\u001b[0;31m \u001b[0mtrain\u001b[0m\u001b[0;34m(\u001b[0m\u001b[0margs\u001b[0m\u001b[0;34m)\u001b[0m\u001b[0;34m\u001b[0m\u001b[0;34m\u001b[0m\u001b[0m\n\u001b[0m",
      "\u001b[0;32m<ipython-input-35-b03a8b8d0225>\u001b[0m in \u001b[0;36mtrain\u001b[0;34m(args)\u001b[0m\n\u001b[1;32m     44\u001b[0m         \u001b[0;32mfor\u001b[0m \u001b[0mepoch\u001b[0m \u001b[0;32min\u001b[0m \u001b[0mrange\u001b[0m\u001b[0;34m(\u001b[0m\u001b[0margs\u001b[0m\u001b[0;34m.\u001b[0m\u001b[0mstart_epoch\u001b[0m\u001b[0;34m,\u001b[0m \u001b[0margs\u001b[0m\u001b[0;34m.\u001b[0m\u001b[0mnum_epochs\u001b[0m\u001b[0;34m)\u001b[0m\u001b[0;34m:\u001b[0m\u001b[0;34m\u001b[0m\u001b[0;34m\u001b[0m\u001b[0m\n\u001b[1;32m     45\u001b[0m             \u001b[0mgrid\u001b[0m\u001b[0;34m.\u001b[0m\u001b[0mset_prob\u001b[0m\u001b[0;34m(\u001b[0m\u001b[0mepoch\u001b[0m\u001b[0;34m,\u001b[0m \u001b[0margs\u001b[0m\u001b[0;34m.\u001b[0m\u001b[0mst_epochs\u001b[0m\u001b[0;34m)\u001b[0m\u001b[0;34m\u001b[0m\u001b[0;34m\u001b[0m\u001b[0m\n\u001b[0;32m---> 46\u001b[0;31m             \u001b[0mtrain_epoch\u001b[0m\u001b[0;34m(\u001b[0m\u001b[0margs\u001b[0m\u001b[0;34m,\u001b[0m \u001b[0mmodel\u001b[0m\u001b[0;34m,\u001b[0m \u001b[0mtrain_loader\u001b[0m\u001b[0;34m,\u001b[0m \u001b[0mepoch\u001b[0m\u001b[0;34m,\u001b[0m \u001b[0moptimizer\u001b[0m\u001b[0;34m,\u001b[0m \u001b[0mlr_scheduler\u001b[0m\u001b[0;34m,\u001b[0m \u001b[0mgrid\u001b[0m\u001b[0;34m)\u001b[0m\u001b[0;34m\u001b[0m\u001b[0;34m\u001b[0m\u001b[0m\n\u001b[0m\u001b[1;32m     47\u001b[0m             \u001b[0mvalidate_and_save\u001b[0m\u001b[0;34m(\u001b[0m\u001b[0mmodel\u001b[0m\u001b[0;34m,\u001b[0m \u001b[0mmodel_file\u001b[0m\u001b[0;34m,\u001b[0m \u001b[0mval_loader\u001b[0m\u001b[0;34m,\u001b[0m \u001b[0msave\u001b[0m\u001b[0;34m=\u001b[0m\u001b[0;32mTrue\u001b[0m\u001b[0;34m)\u001b[0m\u001b[0;34m\u001b[0m\u001b[0;34m\u001b[0m\u001b[0m\n\u001b[1;32m     48\u001b[0m \u001b[0;34m\u001b[0m\u001b[0m\n",
      "\u001b[0;32m<ipython-input-34-9640a5c428df>\u001b[0m in \u001b[0;36mtrain_epoch\u001b[0;34m(args, model, train_loader, epoch, optimizer, lr_scheduler, grid)\u001b[0m\n\u001b[1;32m     49\u001b[0m         \u001b[0moptimizer\u001b[0m\u001b[0;34m.\u001b[0m\u001b[0mzero_grad\u001b[0m\u001b[0;34m(\u001b[0m\u001b[0;34m)\u001b[0m\u001b[0;34m\u001b[0m\u001b[0;34m\u001b[0m\u001b[0m\n\u001b[1;32m     50\u001b[0m         \u001b[0;32mwith\u001b[0m \u001b[0mamp\u001b[0m\u001b[0;34m.\u001b[0m\u001b[0mscale_loss\u001b[0m\u001b[0;34m(\u001b[0m\u001b[0mloss\u001b[0m\u001b[0;34m,\u001b[0m \u001b[0moptimizer\u001b[0m\u001b[0;34m)\u001b[0m \u001b[0;32mas\u001b[0m \u001b[0mscaled_loss\u001b[0m\u001b[0;34m:\u001b[0m\u001b[0;34m\u001b[0m\u001b[0;34m\u001b[0m\u001b[0m\n\u001b[0;32m---> 51\u001b[0;31m             \u001b[0mscaled_loss\u001b[0m\u001b[0;34m.\u001b[0m\u001b[0mbackward\u001b[0m\u001b[0;34m(\u001b[0m\u001b[0;34m)\u001b[0m\u001b[0;34m\u001b[0m\u001b[0;34m\u001b[0m\u001b[0m\n\u001b[0m\u001b[1;32m     52\u001b[0m         \u001b[0;31m#loss.backward()\u001b[0m\u001b[0;34m\u001b[0m\u001b[0;34m\u001b[0m\u001b[0;34m\u001b[0m\u001b[0m\n\u001b[1;32m     53\u001b[0m         \u001b[0mlr_scheduler\u001b[0m\u001b[0;34m(\u001b[0m\u001b[0moptimizer\u001b[0m\u001b[0;34m,\u001b[0m \u001b[0mbatch_idx\u001b[0m\u001b[0;34m,\u001b[0m \u001b[0mepoch\u001b[0m\u001b[0;34m)\u001b[0m\u001b[0;34m\u001b[0m\u001b[0;34m\u001b[0m\u001b[0m\n",
      "\u001b[0;32m~/anaconda3/lib/python3.7/contextlib.py\u001b[0m in \u001b[0;36m__exit__\u001b[0;34m(self, type, value, traceback)\u001b[0m\n\u001b[1;32m    117\u001b[0m         \u001b[0;32mif\u001b[0m \u001b[0mtype\u001b[0m \u001b[0;32mis\u001b[0m \u001b[0;32mNone\u001b[0m\u001b[0;34m:\u001b[0m\u001b[0;34m\u001b[0m\u001b[0;34m\u001b[0m\u001b[0m\n\u001b[1;32m    118\u001b[0m             \u001b[0;32mtry\u001b[0m\u001b[0;34m:\u001b[0m\u001b[0;34m\u001b[0m\u001b[0;34m\u001b[0m\u001b[0m\n\u001b[0;32m--> 119\u001b[0;31m                 \u001b[0mnext\u001b[0m\u001b[0;34m(\u001b[0m\u001b[0mself\u001b[0m\u001b[0;34m.\u001b[0m\u001b[0mgen\u001b[0m\u001b[0;34m)\u001b[0m\u001b[0;34m\u001b[0m\u001b[0;34m\u001b[0m\u001b[0m\n\u001b[0m\u001b[1;32m    120\u001b[0m             \u001b[0;32mexcept\u001b[0m \u001b[0mStopIteration\u001b[0m\u001b[0;34m:\u001b[0m\u001b[0;34m\u001b[0m\u001b[0;34m\u001b[0m\u001b[0m\n\u001b[1;32m    121\u001b[0m                 \u001b[0;32mreturn\u001b[0m \u001b[0;32mFalse\u001b[0m\u001b[0;34m\u001b[0m\u001b[0;34m\u001b[0m\u001b[0m\n",
      "\u001b[0;32m~/anaconda3/lib/python3.7/site-packages/apex/amp/handle.py\u001b[0m in \u001b[0;36mscale_loss\u001b[0;34m(loss, optimizers, loss_id, model, delay_unscale, delay_overflow_check)\u001b[0m\n\u001b[1;32m    125\u001b[0m             \u001b[0;31m# For future fused optimizers that enable sync-free dynamic loss scaling,\u001b[0m\u001b[0;34m\u001b[0m\u001b[0;34m\u001b[0m\u001b[0;34m\u001b[0m\u001b[0m\n\u001b[1;32m    126\u001b[0m             \u001b[0;31m# should_skip will always be False.\u001b[0m\u001b[0;34m\u001b[0m\u001b[0;34m\u001b[0m\u001b[0;34m\u001b[0m\u001b[0m\n\u001b[0;32m--> 127\u001b[0;31m             \u001b[0mshould_skip\u001b[0m \u001b[0;34m=\u001b[0m \u001b[0;32mFalse\u001b[0m \u001b[0;32mif\u001b[0m \u001b[0mdelay_overflow_check\u001b[0m \u001b[0;32melse\u001b[0m \u001b[0mloss_scaler\u001b[0m\u001b[0;34m.\u001b[0m\u001b[0mupdate_scale\u001b[0m\u001b[0;34m(\u001b[0m\u001b[0;34m)\u001b[0m\u001b[0;34m\u001b[0m\u001b[0;34m\u001b[0m\u001b[0m\n\u001b[0m\u001b[1;32m    128\u001b[0m             \u001b[0;32mif\u001b[0m \u001b[0mshould_skip\u001b[0m\u001b[0;34m:\u001b[0m\u001b[0;34m\u001b[0m\u001b[0;34m\u001b[0m\u001b[0m\n\u001b[1;32m    129\u001b[0m                 \u001b[0;32mfor\u001b[0m \u001b[0moptimizer\u001b[0m \u001b[0;32min\u001b[0m \u001b[0moptimizers\u001b[0m\u001b[0;34m:\u001b[0m\u001b[0;34m\u001b[0m\u001b[0;34m\u001b[0m\u001b[0m\n",
      "\u001b[0;32m~/anaconda3/lib/python3.7/site-packages/apex/amp/scaler.py\u001b[0m in \u001b[0;36mupdate_scale\u001b[0;34m(self)\u001b[0m\n\u001b[1;32m    198\u001b[0m         \u001b[0;31m# If the fused kernel is available, we only need one D2H memcopy and sync.\u001b[0m\u001b[0;34m\u001b[0m\u001b[0;34m\u001b[0m\u001b[0;34m\u001b[0m\u001b[0m\n\u001b[1;32m    199\u001b[0m         \u001b[0;32mif\u001b[0m \u001b[0mLossScaler\u001b[0m\u001b[0;34m.\u001b[0m\u001b[0mhas_fused_kernel\u001b[0m \u001b[0;32mand\u001b[0m \u001b[0mself\u001b[0m\u001b[0;34m.\u001b[0m\u001b[0mdynamic\u001b[0m \u001b[0;32mand\u001b[0m \u001b[0;32mnot\u001b[0m \u001b[0mself\u001b[0m\u001b[0;34m.\u001b[0m\u001b[0m_has_overflow\u001b[0m\u001b[0;34m:\u001b[0m\u001b[0;34m\u001b[0m\u001b[0;34m\u001b[0m\u001b[0m\n\u001b[0;32m--> 200\u001b[0;31m             \u001b[0mself\u001b[0m\u001b[0;34m.\u001b[0m\u001b[0m_has_overflow\u001b[0m \u001b[0;34m=\u001b[0m \u001b[0mself\u001b[0m\u001b[0;34m.\u001b[0m\u001b[0m_overflow_buf\u001b[0m\u001b[0;34m.\u001b[0m\u001b[0mitem\u001b[0m\u001b[0;34m(\u001b[0m\u001b[0;34m)\u001b[0m\u001b[0;34m\u001b[0m\u001b[0;34m\u001b[0m\u001b[0m\n\u001b[0m\u001b[1;32m    201\u001b[0m \u001b[0;34m\u001b[0m\u001b[0m\n\u001b[1;32m    202\u001b[0m         \u001b[0;32mif\u001b[0m \u001b[0mself\u001b[0m\u001b[0;34m.\u001b[0m\u001b[0m_has_overflow\u001b[0m \u001b[0;32mand\u001b[0m \u001b[0mself\u001b[0m\u001b[0;34m.\u001b[0m\u001b[0mdynamic\u001b[0m\u001b[0;34m:\u001b[0m\u001b[0;34m\u001b[0m\u001b[0;34m\u001b[0m\u001b[0m\n",
      "\u001b[0;31mKeyboardInterrupt\u001b[0m: "
     ]
    }
   ],
   "source": [
    "train(args)"
   ]
  },
  {
   "cell_type": "code",
   "execution_count": null,
   "metadata": {},
   "outputs": [],
   "source": []
  },
  {
   "cell_type": "code",
   "execution_count": null,
   "metadata": {},
   "outputs": [],
   "source": [
    "train(args)"
   ]
  },
  {
   "cell_type": "code",
   "execution_count": null,
   "metadata": {},
   "outputs": [],
   "source": []
  },
  {
   "cell_type": "code",
   "execution_count": null,
   "metadata": {},
   "outputs": [],
   "source": []
  },
  {
   "cell_type": "code",
   "execution_count": null,
   "metadata": {},
   "outputs": [],
   "source": []
  },
  {
   "cell_type": "code",
   "execution_count": null,
   "metadata": {},
   "outputs": [],
   "source": []
  }
 ],
 "metadata": {
  "kernelspec": {
   "display_name": "Python 3",
   "language": "python",
   "name": "python3"
  }
 },
 "nbformat": 4,
 "nbformat_minor": 2
}
