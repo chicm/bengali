{
 "cells": [
  {
   "cell_type": "code",
   "execution_count": 1,
   "metadata": {},
   "outputs": [],
   "source": [
    "import os\n",
    "import pandas as pd\n",
    "import numpy as np\n",
    "import time, gc\n",
    "import cv2\n",
    "import matplotlib.pyplot as plt\n",
    "import torch\n",
    "import torch.nn as nn\n",
    "import torch.nn.functional as F\n",
    "import torch.optim as optim\n",
    "import pretrainedmodels\n",
    "from argparse import Namespace\n",
    "from sklearn.utils import shuffle\n",
    "from apex import amp\n",
    "from sklearn.model_selection import StratifiedKFold\n",
    "from efficientnet_pytorch import EfficientNet\n",
    "from utils import bn_update, moving_average, copy_model\n"
   ]
  },
  {
   "cell_type": "code",
   "execution_count": 2,
   "metadata": {},
   "outputs": [
    {
     "name": "stdout",
     "output_type": "stream",
     "text": [
      "class_map.csv\t\t       train.csv\r\n",
      "sample_submission.csv\t       train.csv.zip\r\n",
      "test.csv\t\t       train_image_data_0.parquet\r\n",
      "test_image_data_0.parquet      train_image_data_0.parquet.zip\r\n",
      "test_image_data_0.parquet.zip  train_image_data_1.parquet\r\n",
      "test_image_data_1.parquet      train_image_data_1.parquet.zip\r\n",
      "test_image_data_1.parquet.zip  train_image_data_2.parquet\r\n",
      "test_image_data_2.parquet      train_image_data_2.parquet.zip\r\n",
      "test_image_data_2.parquet.zip  train_image_data_3.parquet\r\n",
      "test_image_data_3.parquet      train_image_data_3.parquet.zip\r\n",
      "test_image_data_3.parquet.zip\r\n"
     ]
    }
   ],
   "source": [
    "!ls /home/chec/data/bengali"
   ]
  },
  {
   "cell_type": "code",
   "execution_count": 3,
   "metadata": {},
   "outputs": [],
   "source": [
    "#!ls /home/chec/data/bengali"
   ]
  },
  {
   "cell_type": "code",
   "execution_count": 4,
   "metadata": {},
   "outputs": [],
   "source": [
    "DATA_DIR = '/home/chec/data/bengali'"
   ]
  },
  {
   "cell_type": "code",
   "execution_count": 5,
   "metadata": {},
   "outputs": [],
   "source": [
    "train_df = pd.read_csv(f'{DATA_DIR}/train.csv')\n",
    "test_df = pd.read_csv(f'{DATA_DIR}/test.csv')\n",
    "class_map_df = pd.read_csv(f'{DATA_DIR}/class_map.csv')\n",
    "sample_sub_df = pd.read_csv(f'{DATA_DIR}/sample_submission.csv')"
   ]
  },
  {
   "cell_type": "code",
   "execution_count": 6,
   "metadata": {},
   "outputs": [
    {
     "data": {
      "text/html": [
       "<div>\n",
       "<style scoped>\n",
       "    .dataframe tbody tr th:only-of-type {\n",
       "        vertical-align: middle;\n",
       "    }\n",
       "\n",
       "    .dataframe tbody tr th {\n",
       "        vertical-align: top;\n",
       "    }\n",
       "\n",
       "    .dataframe thead th {\n",
       "        text-align: right;\n",
       "    }\n",
       "</style>\n",
       "<table border=\"1\" class=\"dataframe\">\n",
       "  <thead>\n",
       "    <tr style=\"text-align: right;\">\n",
       "      <th></th>\n",
       "      <th>image_id</th>\n",
       "      <th>grapheme_root</th>\n",
       "      <th>vowel_diacritic</th>\n",
       "      <th>consonant_diacritic</th>\n",
       "      <th>grapheme</th>\n",
       "    </tr>\n",
       "  </thead>\n",
       "  <tbody>\n",
       "    <tr>\n",
       "      <th>0</th>\n",
       "      <td>Train_0</td>\n",
       "      <td>15</td>\n",
       "      <td>9</td>\n",
       "      <td>5</td>\n",
       "      <td>ক্ট্রো</td>\n",
       "    </tr>\n",
       "    <tr>\n",
       "      <th>1</th>\n",
       "      <td>Train_1</td>\n",
       "      <td>159</td>\n",
       "      <td>0</td>\n",
       "      <td>0</td>\n",
       "      <td>হ</td>\n",
       "    </tr>\n",
       "    <tr>\n",
       "      <th>2</th>\n",
       "      <td>Train_2</td>\n",
       "      <td>22</td>\n",
       "      <td>3</td>\n",
       "      <td>5</td>\n",
       "      <td>খ্রী</td>\n",
       "    </tr>\n",
       "    <tr>\n",
       "      <th>3</th>\n",
       "      <td>Train_3</td>\n",
       "      <td>53</td>\n",
       "      <td>2</td>\n",
       "      <td>2</td>\n",
       "      <td>র্টি</td>\n",
       "    </tr>\n",
       "    <tr>\n",
       "      <th>4</th>\n",
       "      <td>Train_4</td>\n",
       "      <td>71</td>\n",
       "      <td>9</td>\n",
       "      <td>5</td>\n",
       "      <td>থ্রো</td>\n",
       "    </tr>\n",
       "  </tbody>\n",
       "</table>\n",
       "</div>"
      ],
      "text/plain": [
       "  image_id  grapheme_root  vowel_diacritic  consonant_diacritic grapheme\n",
       "0  Train_0             15                9                    5   ক্ট্রো\n",
       "1  Train_1            159                0                    0        হ\n",
       "2  Train_2             22                3                    5     খ্রী\n",
       "3  Train_3             53                2                    2     র্টি\n",
       "4  Train_4             71                9                    5     থ্রো"
      ]
     },
     "execution_count": 6,
     "metadata": {},
     "output_type": "execute_result"
    }
   ],
   "source": [
    "train_df.head()"
   ]
  },
  {
   "cell_type": "code",
   "execution_count": 7,
   "metadata": {},
   "outputs": [],
   "source": [
    "HEIGHT = 137\n",
    "WIDTH = 236"
   ]
  },
  {
   "cell_type": "code",
   "execution_count": 8,
   "metadata": {},
   "outputs": [],
   "source": [
    "import albumentations as albu\n",
    "\n",
    "def get_train_augs(p=1.):\n",
    "    return albu.Compose([\n",
    "        #albu.HorizontalFlip(.5),\n",
    "        albu.ShiftScaleRotate(shift_limit=0.05, scale_limit=0.05, rotate_limit=10, p=0.5 ),\n",
    "        albu.Blur(blur_limit=3, p=0.3),\n",
    "        albu.OpticalDistortion(p=0.3),\n",
    "        albu.GaussNoise(p=0.3)\n",
    "        #albu.GridDistortion(p=.33),\n",
    "        #albu.HueSaturationValue(p=.33) # not for grey scale\n",
    "    ], p=p)"
   ]
  },
  {
   "cell_type": "code",
   "execution_count": 9,
   "metadata": {},
   "outputs": [],
   "source": [
    "#plt.imshow(x)"
   ]
  },
  {
   "cell_type": "code",
   "execution_count": 10,
   "metadata": {},
   "outputs": [],
   "source": [
    "from torch.utils.data import DataLoader, Dataset\n",
    "from torchvision import transforms\n",
    "\n",
    "\n",
    "class BengaliDataset(Dataset):\n",
    "    def __init__(self, df, img_df, train_mode=True, test_mode=False):\n",
    "        self.df = df\n",
    "        self.img_df = img_df\n",
    "        self.train_mode = train_mode\n",
    "        self.test_mode = test_mode\n",
    "\n",
    "    def __getitem__(self, idx):\n",
    "        row = self.df.iloc[idx]\n",
    "        img = self.get_img(row.image_id)\n",
    "        orig_img = img.copy()\n",
    "        #print(img.shape)\n",
    "        #if self.train_mode:\n",
    "        #    augs = get_train_augs()\n",
    "        #    img = augs(image=img)['image']\n",
    "            #img = np.asarray(augs(Image.fromarray(img)))\n",
    "        \n",
    "        img = np.expand_dims(img, axis=-1)\n",
    "        orig_img = np.expand_dims(orig_img, axis=-1)\n",
    "        \n",
    "        #print('###', img.shape)\n",
    "        #img = np.concatenate([img, img, img], 2)\n",
    "        #print('>>>', img.shape)\n",
    "        \n",
    "        # taken from https://www.kaggle.com/iafoss/image-preprocessing-128x128\n",
    "        #MEAN = [ 0.06922848809290576,  0.06922848809290576,  0.06922848809290576]\n",
    "        #STD = [ 0.20515700083327537,  0.20515700083327537,  0.20515700083327537]\n",
    "        \n",
    "        img = transforms.functional.to_tensor(img)\n",
    "        orig_img = transforms.functional.to_tensor(orig_img)\n",
    "        \n",
    "        #img = transforms.functional.normalize(img, mean=MEAN, std=STD)\n",
    "        \n",
    "        if self.test_mode:\n",
    "            return img\n",
    "        elif self.train_mode:\n",
    "            return img, orig_img, torch.tensor([row.grapheme_root, row.vowel_diacritic, row.consonant_diacritic, row.word_label])\n",
    "        else:\n",
    "            return img, torch.tensor([row.grapheme_root, row.vowel_diacritic, row.consonant_diacritic, row.word_label])\n",
    "                    \n",
    "    def get_img(self, img_id):\n",
    "        return 255 - self.img_df.loc[img_id].values.reshape(HEIGHT, WIDTH).astype(np.uint8)\n",
    "\n",
    "    def __len__(self):\n",
    "        return len(self.df)\n",
    "    \n",
    "def get_train_val_loaders(batch_size=4, val_batch_size=4, ifold=0, dev_mode=False):\n",
    "    train_df = pd.read_csv(f'{DATA_DIR}/train.csv')\n",
    "\n",
    "    train_df = shuffle(train_df, random_state=1234)\n",
    "\n",
    "    grapheme_words = np.unique(train_df.grapheme.values)\n",
    "    grapheme_words_dict = {grapheme: i for i, grapheme in enumerate(grapheme_words)}\n",
    "    train_df['word_label'] = train_df['grapheme'].map(lambda x: grapheme_words_dict[x])\n",
    "\n",
    "    print(train_df.shape)\n",
    "\n",
    "    if dev_mode:\n",
    "        img_df = pd.read_parquet(f'{DATA_DIR}/train_image_data_0.parquet').set_index('image_id')\n",
    "        train_df = train_df.iloc[:1000]\n",
    "    else:\n",
    "        img_dfs = [pd.read_parquet(f'{DATA_DIR}/train_image_data_{i}.parquet') for i in range(4)]\n",
    "        img_df = pd.concat(img_dfs, axis=0).set_index('image_id')\n",
    "    print(img_df.shape)\n",
    "    #split_index = int(len(train_df) * 0.9)\n",
    "    \n",
    "    #train = train_df.iloc[:split_index]\n",
    "    #val = train_df.iloc[split_index:]\n",
    "    \n",
    "    kf = StratifiedKFold(5, random_state=1234, shuffle=True)\n",
    "    for i, (train_idx, val_idx) in enumerate(kf.split(train_df, train_df['grapheme_root'].values)):\n",
    "        if i == ifold:\n",
    "            #print(val_idx)\n",
    "            train = train_df.iloc[train_idx]\n",
    "            val = train_df.iloc[val_idx]\n",
    "            break\n",
    "    assert i == ifold\n",
    "    print(train.shape, val.shape)\n",
    "    \n",
    "    train_ds = BengaliDataset(train, img_df, True, False)\n",
    "    val_ds = BengaliDataset(val, img_df, False, False)\n",
    "    \n",
    "    train_loader = DataLoader(train_ds, batch_size=batch_size, shuffle=True, num_workers=8, drop_last=True)\n",
    "    train_loader.num = len(train_ds)\n",
    "\n",
    "    val_loader = DataLoader(val_ds, batch_size=val_batch_size, shuffle=False, num_workers=8, drop_last=False)\n",
    "    val_loader.num = len(val_ds)\n",
    "\n",
    "    return train_loader, val_loader"
   ]
  },
  {
   "cell_type": "code",
   "execution_count": 11,
   "metadata": {},
   "outputs": [],
   "source": [
    "#train_loader, val_loader = get_train_val_loaders(dev_mode=True)"
   ]
  },
  {
   "cell_type": "code",
   "execution_count": null,
   "metadata": {},
   "outputs": [],
   "source": []
  },
  {
   "cell_type": "markdown",
   "metadata": {},
   "source": [
    "# model"
   ]
  },
  {
   "cell_type": "code",
   "execution_count": 12,
   "metadata": {},
   "outputs": [],
   "source": [
    "#import pretrainedmodels"
   ]
  },
  {
   "cell_type": "code",
   "execution_count": 13,
   "metadata": {},
   "outputs": [
    {
     "name": "stdout",
     "output_type": "stream",
     "text": [
      "['fbresnet152', 'bninception', 'resnext101_32x4d', 'resnext101_64x4d', 'inceptionv4', 'inceptionresnetv2', 'alexnet', 'densenet121', 'densenet169', 'densenet201', 'densenet161', 'resnet18', 'resnet34', 'resnet50', 'resnet101', 'resnet152', 'inceptionv3', 'squeezenet1_0', 'squeezenet1_1', 'vgg11', 'vgg11_bn', 'vgg13', 'vgg13_bn', 'vgg16', 'vgg16_bn', 'vgg19_bn', 'vgg19', 'nasnetamobile', 'nasnetalarge', 'dpn68', 'dpn68b', 'dpn92', 'dpn98', 'dpn131', 'dpn107', 'xception', 'senet154', 'se_resnet50', 'se_resnet101', 'se_resnet152', 'se_resnext50_32x4d', 'se_resnext101_32x4d', 'cafferesnet101', 'pnasnet5large', 'polynet']\n"
     ]
    }
   ],
   "source": [
    "print(pretrainedmodels.model_names)"
   ]
  },
  {
   "cell_type": "code",
   "execution_count": 14,
   "metadata": {},
   "outputs": [],
   "source": [
    "#model_name = 'resnet50' # could be fbresnet152 or inceptionresnetv2\n",
    "#model = pretrainedmodels.__dict__[model_name](num_classes=1000, pretrained='imagenet').cuda()\n",
    "#model.eval()"
   ]
  },
  {
   "cell_type": "code",
   "execution_count": 15,
   "metadata": {},
   "outputs": [],
   "source": [
    "#model = pretrainedmodels.__dict__[model_name](num_classes=1000, pretrained=False).cuda()\n"
   ]
  },
  {
   "cell_type": "code",
   "execution_count": 16,
   "metadata": {},
   "outputs": [],
   "source": [
    "#model.features(torch.randn((2, 3, 137, 236)).cuda()).size()"
   ]
  },
  {
   "cell_type": "code",
   "execution_count": 17,
   "metadata": {},
   "outputs": [],
   "source": [
    "#model.last_linear.in_features"
   ]
  },
  {
   "cell_type": "code",
   "execution_count": 18,
   "metadata": {},
   "outputs": [],
   "source": [
    "MEAN = [ 0.06922848809290576 ]\n",
    "STD = [ 0.20515700083327537 ]\n",
    "\n",
    "class BengaliNet(nn.Module):\n",
    "    def __init__(self, backbone_name):\n",
    "        super(BengaliNet, self).__init__()\n",
    "        self.n_grapheme = 168\n",
    "        self.n_vowel = 11\n",
    "        self.n_consonant = 7\n",
    "        self.backbone_name = backbone_name\n",
    "        \n",
    "        self.num_classes = self.n_grapheme + self.n_vowel + self.n_consonant\n",
    "        \n",
    "        #self.conv0 = nn.Conv2d(1, 3, kernel_size=1, stride=1, padding=0)\n",
    "        \n",
    "        if self.backbone_name.startswith('efficient'):\n",
    "            self.backbone = EfficientNet.from_pretrained(self.backbone_name)\n",
    "            self.fc = nn.Linear(self.backbone._fc.in_features, self.num_classes)\n",
    "        else:\n",
    "            self.backbone = pretrainedmodels.__dict__[self.backbone_name](num_classes=1000, pretrained='imagenet')\n",
    "            self.fc = nn.Linear(self.backbone.last_linear.in_features, self.num_classes)\n",
    "\n",
    "        self.avg_pool = nn.AdaptiveAvgPool2d(1)\n",
    "        \n",
    "        #self.fix_input_layer()\n",
    "        \n",
    "    def fix_input_layer(self):\n",
    "        if self.backbone_name in ['se_resnext50_32x4d', 'se_resnext101_32x4d', 'se_resnet50', 'senet154', 'se_resnet152', 'nasnetmobile', 'mobilenet', 'nasnetalarge']:\n",
    "            #self.backbone = eval(backbone_name)()\n",
    "            #print(self.backbone.layer0.conv1)\n",
    "            w = self.backbone.layer0.conv1.weight.data\n",
    "            self.backbone.layer0.conv1 = nn.Conv2d(1, 64, kernel_size=7, stride=2, padding=3, bias=False)\n",
    "            #self.backbone.layer0.conv1.weight = torch.nn.Parameter(torch.cat((w, w[:, 2, :, :].unsqueeze(1)), dim=1))\n",
    "            self.backbone.layer0.conv1.weight = torch.nn.Parameter(w[:, 0, :, :].unsqueeze(1))\n",
    "        \n",
    "    def logits(self, x):\n",
    "        x = self.avg_pool(x)\n",
    "        #x = F.dropout2d(x, 0.2, self.training)\n",
    "        x = x.view(x.size(0), -1)\n",
    "        return self.fc(x)\n",
    "    \n",
    "    def forward(self, x):\n",
    "        x = F.interpolate(x, size=(224,224), mode='bilinear', align_corners=False)\n",
    "        for i in range(len(x)):\n",
    "            transforms.functional.normalize(x[i], mean=MEAN, std=STD, inplace=True)\n",
    "        x = torch.cat([x,x,x], 1)\n",
    "        #x = self.conv0(x)\n",
    "        #print(x.size())\n",
    "        if self.backbone_name.startswith('efficient'):\n",
    "            x = self.backbone.extract_features(x)\n",
    "        else:\n",
    "            x = self.backbone.features(x)\n",
    "        x = self.logits(x)\n",
    "\n",
    "        return x"
   ]
  },
  {
   "cell_type": "code",
   "execution_count": null,
   "metadata": {},
   "outputs": [],
   "source": []
  },
  {
   "cell_type": "code",
   "execution_count": 19,
   "metadata": {},
   "outputs": [],
   "source": [
    "MODEL_DIR = './models'\n",
    "def create_model(args):\n",
    "    model = BengaliNet(backbone_name=args.backbone)\n",
    "    model_file = os.path.join(MODEL_DIR, args.backbone, args.ckp_name)\n",
    "\n",
    "    parent_dir = os.path.dirname(model_file)\n",
    "    if not os.path.exists(parent_dir):\n",
    "        os.makedirs(parent_dir)\n",
    "\n",
    "    print('model file: {}, exist: {}'.format(model_file, os.path.exists(model_file)))\n",
    "\n",
    "    if os.path.exists(model_file):\n",
    "        print('loading {}...'.format(model_file))\n",
    "        model.load_state_dict(torch.load(model_file))\n",
    "    \n",
    "    return model, model_file"
   ]
  },
  {
   "cell_type": "code",
   "execution_count": 20,
   "metadata": {},
   "outputs": [],
   "source": [
    "#bnet = BengaliNet('se_resnext50_32x4d').cuda()"
   ]
  },
  {
   "cell_type": "code",
   "execution_count": 21,
   "metadata": {},
   "outputs": [],
   "source": [
    "#bnet(torch.randn((2, 1, 137, 236)).cuda()).size()"
   ]
  },
  {
   "cell_type": "markdown",
   "metadata": {},
   "source": [
    "# train"
   ]
  },
  {
   "cell_type": "code",
   "execution_count": 22,
   "metadata": {},
   "outputs": [
    {
     "data": {
      "text/plain": [
       "0.111111"
      ]
     },
     "execution_count": 22,
     "metadata": {},
     "output_type": "execute_result"
    }
   ],
   "source": [
    "round(1/9, 6)"
   ]
  },
  {
   "cell_type": "code",
   "execution_count": 23,
   "metadata": {},
   "outputs": [],
   "source": [
    "import numpy as np\n",
    "import sklearn.metrics\n",
    "import torch\n",
    "\n",
    "\n",
    "def calc_metrics(preds0, preds1, preds2, y):\n",
    "    assert len(y) == len(preds0) == len(preds1) == len(preds2)\n",
    "\n",
    "    recall_grapheme = sklearn.metrics.recall_score(preds0, y[:, 0], average='macro')\n",
    "    recall_vowel = sklearn.metrics.recall_score(preds1, y[:, 1], average='macro')\n",
    "    recall_consonant = sklearn.metrics.recall_score(preds2, y[:, 2], average='macro')\n",
    "    scores = [recall_grapheme, recall_vowel, recall_consonant]\n",
    "    final_recall_score = np.average(scores, weights=[2, 1, 1])\n",
    "    \n",
    "    metrics = {}\n",
    "    metrics['recall'] = round(final_recall_score, 6)\n",
    "    metrics['recall_grapheme'] = round(recall_grapheme, 6)\n",
    "    metrics['recall_vowel'] = round(recall_vowel, 6)\n",
    "    metrics['recall_consonant'] = round(recall_consonant, 6)\n",
    "    \n",
    "    metrics['acc_grapheme'] = round((preds0 == y[:, 0]).sum() / len(y), 6)\n",
    "    metrics['acc_vowel'] = round((preds1 == y[:, 1]).sum() / len(y), 6)\n",
    "    metrics['acc_consonant'] = round((preds2 == y[:, 2]).sum() / len(y), 6)\n",
    "    \n",
    "    \n",
    "    return metrics"
   ]
  },
  {
   "cell_type": "code",
   "execution_count": 24,
   "metadata": {},
   "outputs": [],
   "source": [
    "def criterion(outputs, y_true):\n",
    "    # outputs: (N, 182)\n",
    "    # y_true: (N, 3)\n",
    "    \n",
    "    outputs = torch.split(outputs, [168, 11, 7], dim=1)\n",
    "    loss0 = F.cross_entropy(outputs[0], y_true[:, 0], reduction='mean')\n",
    "    loss1 = F.cross_entropy(outputs[1], y_true[:, 1], reduction='mean')\n",
    "    loss2 = F.cross_entropy(outputs[2], y_true[:, 2], reduction='mean')\n",
    "    \n",
    "    return loss0 + loss1 + loss2 #, loss0.item(), loss1.item(), loss2.item()"
   ]
  },
  {
   "cell_type": "code",
   "execution_count": 25,
   "metadata": {},
   "outputs": [],
   "source": [
    "def validate(model, val_loader):\n",
    "    model.eval()\n",
    "    loss0, loss1, loss2 = 0., 0., 0.\n",
    "    preds0, preds1,preds2 = [], [], []\n",
    "    y_true = []\n",
    "    with torch.no_grad():\n",
    "        for x, y in val_loader:\n",
    "            y_true.append(y)\n",
    "            x, y = x.cuda(), y.cuda()\n",
    "            outputs = model(x)\n",
    "            outputs = torch.split(outputs, [168, 11, 7], dim=1)\n",
    "            \n",
    "            preds0.append(torch.max(outputs[0], dim=1)[1])\n",
    "            preds1.append(torch.max(outputs[1], dim=1)[1])\n",
    "            preds2.append(torch.max(outputs[2], dim=1)[1])\n",
    "            loss0 += F.cross_entropy(outputs[0], y[:, 0], reduction='sum').item()\n",
    "            loss1 += F.cross_entropy(outputs[1], y[:, 1], reduction='sum').item()\n",
    "            loss2 += F.cross_entropy(outputs[2], y[:, 2], reduction='sum').item()\n",
    "            \n",
    "            # for debug\n",
    "            #metrics = {}\n",
    "            #metrics['loss_grapheme'] =  F.cross_entropy(outputs[0], y[:, 0], reduction='mean').item()\n",
    "            #metrics['loss_vowel'] =  F.cross_entropy(outputs[1], y[:, 1], reduction='mean').item()\n",
    "            #metrics['loss_consonant'] =  F.cross_entropy(outputs[2], y[:, 2], reduction='mean').item()\n",
    "            #return metrics\n",
    "    \n",
    "    preds0 = torch.cat(preds0, 0).cpu().numpy()\n",
    "    preds1 = torch.cat(preds1, 0).cpu().numpy()\n",
    "    preds2 = torch.cat(preds2, 0).cpu().numpy()\n",
    "    y_true = torch.cat(y_true, 0).numpy()\n",
    "    \n",
    "    #print('y_true:', y_true.shape)\n",
    "    #print('preds0:', preds0.shape)\n",
    "    \n",
    "    metrics = calc_metrics(preds0, preds1, preds2, y_true)\n",
    "    metrics['loss_grapheme'] = round(loss0 / val_loader.num, 6)\n",
    "    metrics['loss_vowel'] = round(loss1 / val_loader.num, 6)\n",
    "    metrics['loss_consonant'] = round(loss2 / val_loader.num, 6)\n",
    "    \n",
    "    return metrics\n",
    "            "
   ]
  },
  {
   "cell_type": "code",
   "execution_count": null,
   "metadata": {},
   "outputs": [],
   "source": []
  },
  {
   "cell_type": "code",
   "execution_count": 26,
   "metadata": {},
   "outputs": [],
   "source": [
    "def get_lrs(optimizer):\n",
    "    lrs = []\n",
    "    for pgs in optimizer.state_dict()['param_groups']:\n",
    "        lrs.append(pgs['lr'])\n",
    "    lrs = ['{:.6f}'.format(x) for x in lrs]\n",
    "    return lrs"
   ]
  },
  {
   "cell_type": "code",
   "execution_count": 27,
   "metadata": {},
   "outputs": [],
   "source": [
    "def save_model(model, model_file):\n",
    "    parent_dir = os.path.dirname(model_file)\n",
    "    if not os.path.exists(parent_dir):\n",
    "        os.makedirs(parent_dir)\n",
    "    if isinstance(model, nn.DataParallel):\n",
    "        torch.save(model.module.state_dict(), model_file)\n",
    "    else:\n",
    "        torch.save(model.state_dict(), model_file)"
   ]
  },
  {
   "cell_type": "code",
   "execution_count": 28,
   "metadata": {},
   "outputs": [],
   "source": [
    "def mixup(data, targets, alpha=1):\n",
    "    indices = torch.randperm(data.size(0))\n",
    "    shuffled_data = data[indices]\n",
    "    shuffled_targets = targets[indices]\n",
    "\n",
    "    lam = np.random.beta(alpha, alpha)\n",
    "    data = data * lam + shuffled_data * (1 - lam)\n",
    "    targets = (targets, shuffled_targets, lam)\n",
    "\n",
    "    return data, targets\n",
    "\n",
    "\n",
    "def mixup_criterion(outputs, targets):\n",
    "    targets1, targets2, lam = targets\n",
    "    #criterion = nn.CrossEntropyLoss(reduction='mean')\n",
    "    return lam * criterion(outputs, targets1) + (1 - lam) * criterion(outputs, targets2)"
   ]
  },
  {
   "cell_type": "code",
   "execution_count": 29,
   "metadata": {},
   "outputs": [],
   "source": [
    "def rand_bbox(size, lam):\n",
    "    W = size[2]\n",
    "    H = size[3]\n",
    "    cut_rat = np.sqrt(1. - lam)\n",
    "    cut_w = np.int(W * cut_rat)\n",
    "    cut_h = np.int(H * cut_rat)\n",
    "\n",
    "    # uniform\n",
    "    cx = np.random.randint(W)\n",
    "    cy = np.random.randint(H)\n",
    "\n",
    "    bbx1 = np.clip(cx - cut_w // 2, 0, W)\n",
    "    bby1 = np.clip(cy - cut_h // 2, 0, H)\n",
    "    bbx2 = np.clip(cx + cut_w // 2, 0, W)\n",
    "    bby2 = np.clip(cy + cut_h // 2, 0, H)\n",
    "\n",
    "    return bbx1, bby1, bbx2, bby2"
   ]
  },
  {
   "cell_type": "code",
   "execution_count": 30,
   "metadata": {},
   "outputs": [
    {
     "data": {
      "text/plain": [
       "0.7001881309859282"
      ]
     },
     "execution_count": 30,
     "metadata": {},
     "output_type": "execute_result"
    }
   ],
   "source": [
    "np.random.random()"
   ]
  },
  {
   "cell_type": "code",
   "execution_count": 31,
   "metadata": {},
   "outputs": [],
   "source": [
    "from over9000.over9000 import Over9000\n",
    "from over9000.radam import RAdam\n",
    "from gridmask import GridMask"
   ]
  },
  {
   "cell_type": "code",
   "execution_count": 32,
   "metadata": {},
   "outputs": [],
   "source": [
    "from cvcore.solver import WarmupCyclicalLR\n",
    "def make_optimizer(model, base_lr=4e-4, weight_decay=0., weight_decay_bias=0., epsilon=1e-3):\n",
    "    \"\"\"\n",
    "    Create optimizer with per-layer learning rate and weight decay.\n",
    "    \"\"\"\n",
    "    params = []\n",
    "    for key, value in model.named_parameters():\n",
    "        if not value.requires_grad:\n",
    "            continue\n",
    "        lr = base_lr\n",
    "        params += [{\"params\": [value], \"lr\": lr, \"weight_decay\": weight_decay_bias if 'bias' in key else weight_decay}]\n",
    "    \n",
    "    optimizer = torch.optim.AdamW(params, lr, eps=epsilon)\n",
    "    return optimizer"
   ]
  },
  {
   "cell_type": "code",
   "execution_count": null,
   "metadata": {},
   "outputs": [],
   "source": []
  },
  {
   "cell_type": "code",
   "execution_count": 33,
   "metadata": {},
   "outputs": [],
   "source": [
    "def train_epoch(args, model, train_loader, epoch, optimizer, lr_scheduler, grid):\n",
    "    train_loss = 0\n",
    "\n",
    "    for batch_idx, (img, orig_img, targets) in enumerate(train_loader):\n",
    "        img, orig_img, targets  = img.cuda(), orig_img.cuda(), targets.cuda()\n",
    "        batch_size = img.size(0)\n",
    "        r = np.random.rand()\n",
    "\n",
    "        if r < 0.3:\n",
    "            # generate mixed sample\n",
    "            lam = np.random.beta(args.beta, args.beta)\n",
    "            rand_index = torch.randperm(img.size()[0]).cuda()\n",
    "            target_a = targets\n",
    "            target_b = targets[rand_index]\n",
    "            bbx1, bby1, bbx2, bby2 = rand_bbox(img.size(), lam)\n",
    "            img[:, :, bbx1:bbx2, bby1:bby2] = img[rand_index, :, bbx1:bbx2, bby1:bby2]\n",
    "            # adjust lambda to exactly match pixel ratio\n",
    "            lam = 1 - ((bbx2 - bbx1) * (bby2 - bby1) / (img.size()[-1] * img.size()[-2]))\n",
    "            # compute output\n",
    "            outputs = model(img)\n",
    "            loss = criterion(outputs, target_a) * lam + criterion(outputs, target_b) * (1. - lam)\n",
    "        elif r > 0.7: # grid mask\n",
    "            img = grid(img)\n",
    "            outputs = model(img)\n",
    "            loss = criterion(outputs, targets)\n",
    "        else:\n",
    "            orig_img, targets = mixup(orig_img, targets)\n",
    "            outputs = model(orig_img)\n",
    "            loss = mixup_criterion(outputs, targets)\n",
    "            #loss = criterion(outputs, targets)\n",
    "        '''\n",
    "        #if True:\n",
    "        if r < 0.3:\n",
    "            # generate mixed sample\n",
    "            lam = np.random.beta(args.beta, args.beta)\n",
    "            rand_index = torch.randperm(img.size()[0]).cuda()\n",
    "            target_a = targets\n",
    "            target_b = targets[rand_index]\n",
    "            bbx1, bby1, bbx2, bby2 = rand_bbox(img.size(), lam)\n",
    "            #img[:, :, bby1:bby2, bbx1:bbx2] = img[rand_index, :, bby1:bby2, bbx1:bbx2] #for new cutmix\n",
    "            img[:, :, bbx1:bbx2, bby1:bby2] = img[rand_index, :, bbx1:bbx2, bby1:bby2]\n",
    "            \n",
    "            # adjust lambda to exactly match pixel ratio\n",
    "            lam = 1 - ((bbx2 - bbx1) * (bby2 - bby1) / (img.size()[-1] * img.size()[-2]))\n",
    "            # compute output\n",
    "            outputs, outputs_aux1, outputs_aux2 = model(img)\n",
    "            loss_primary = criterion(outputs, target_a) * lam + criterion(outputs, target_b) * (1. - lam)\n",
    "            loss_aux1 = criterion(outputs_aux1, target_a) * lam + criterion(outputs_aux1, target_b) * (1. - lam)\n",
    "            loss_aux2 = criterion(outputs_aux2, target_a) * lam + criterion(outputs_aux2, target_b) * (1. - lam)\n",
    "            loss = loss_primary + (loss_aux1 + loss_aux2)*0.8\n",
    "        elif r > 0.7:\n",
    "            img = grid(img)\n",
    "            outputs, outputs_aux1, outputs_aux2 = model(img)\n",
    "            loss_primary = criterion(outputs, targets)\n",
    "            loss_aux1 = criterion(outputs_aux1, targets)\n",
    "            loss_aux2 = criterion(outputs_aux2, targets)\n",
    "            loss = loss_primary + (loss_aux1 + loss_aux2)*0.8\n",
    "        else:\n",
    "            orig_img, targets = mixup(orig_img, targets)\n",
    "            outputs, outputs_aux1, outputs_aux2 = model(orig_img)\n",
    "            loss_primary = mixup_criterion(outputs, targets)\n",
    "            loss_aux1 = mixup_criterion(outputs_aux1, targets)\n",
    "            loss_aux2 = mixup_criterion(outputs_aux2, targets)\n",
    "            loss = loss_primary + (loss_aux1 + loss_aux2)*0.8\n",
    "            #loss = criterion(outputs, targets)\n",
    "        '''\n",
    "\n",
    "        optimizer.zero_grad()\n",
    "        with amp.scale_loss(loss, optimizer) as scaled_loss:\n",
    "            scaled_loss.backward()\n",
    "        #loss.backward()\n",
    "        lr_scheduler(optimizer, batch_idx, epoch)\n",
    "        optimizer.step()            \n",
    "        \n",
    "        current_lr = get_lrs(optimizer)\n",
    "\n",
    "        train_loss += loss.item()\n",
    "        print('\\r {:4d} | {:.6f} | {:06d}/{} | {:.4f} | {:.4f} |'.format(\n",
    "            epoch, float(current_lr[0]), batch_size*(batch_idx+1), train_loader.num, \n",
    "            loss.item(), train_loss/(batch_idx+1)), end='')\n"
   ]
  },
  {
   "cell_type": "code",
   "execution_count": 34,
   "metadata": {},
   "outputs": [],
   "source": [
    "best_metrics = 0.\n",
    "\n",
    "def validate_and_save(model, model_file, val_loader, save=False):\n",
    "    global best_metrics\n",
    "    best_key = 'recall'\n",
    "    val_metrics = validate(model, val_loader)\n",
    "    print('\\nval:', val_metrics)\n",
    "    \n",
    "    if val_metrics[best_key] > best_metrics:\n",
    "        best_metrics = val_metrics[best_key]\n",
    "        if save:\n",
    "            save_model(model, model_file)\n",
    "            print('###>>>>> saved', model_file)\n",
    "    model.train()\n",
    "    \n",
    "\n",
    "def train(args):\n",
    "    model, model_file = create_model(args)\n",
    "    model = model.cuda()\n",
    "\n",
    "    swa_model, _ = create_model(args)\n",
    "    swa_model = swa_model.cuda()\n",
    "    swa_model_file = model_file + '_swa'\n",
    "\n",
    "    optimizer = make_optimizer(model)\n",
    "    lr_scheduler = WarmupCyclicalLR(\n",
    "        \"cos\", args.base_lr, args.num_epochs, iters_per_epoch=len(train_loader), warmup_epochs=args.warmup_epochs)\n",
    "    \n",
    "    [model, swa_model], optimizer = amp.initialize([model, swa_model], optimizer, opt_level=\"O1\",verbosity=0)\n",
    "    \n",
    "    if torch.cuda.device_count() > 1:\n",
    "        model = nn.DataParallel(model)\n",
    "        swa_model = nn.DataParallel(swa_model)\n",
    "    \n",
    "    validate_and_save(model, model_file, val_loader, save=False)\n",
    "    \n",
    "    for cycle in range(1, args.num_cycles+1):\n",
    "        print('CYCLE:', cycle)\n",
    "        grid = GridMask(64, 128, rotate=15, ratio=0.6, mode=1, prob=1.)\n",
    "\n",
    "        for epoch in range(args.num_epochs):\n",
    "            grid.set_prob(epoch, args.st_epochs)\n",
    "            train_epoch(args, model, train_loader, epoch, optimizer, lr_scheduler, grid)\n",
    "            validate_and_save(model, model_file, val_loader, save=True)\n",
    "            \n",
    "            if (epoch+1) == args.swa_start and cycle == 1:\n",
    "                copy_model(swa_model, model)\n",
    "                swa_n = 0\n",
    "            if (epoch+1) >= args.swa_start and (epoch+1) % args.swa_freq == 0:\n",
    "                print('SWA>>>:')\n",
    "                moving_average(swa_model, model, 1.0 / (swa_n + 1))\n",
    "                swa_n += 1\n",
    "                bn_update(train_loader, swa_model)\n",
    "                validate_and_save(swa_model, swa_model_file, val_loader, save=True)\n",
    "\n",
    "        #args.base_lr = 4e-4\n",
    "        #args.num_epochs = 80\n",
    "        #args.warmup_epochs = 100\n",
    "\n",
    "        # reset scheduler at each cycle\n",
    "        lr_scheduler = WarmupCyclicalLR(\n",
    "            \"cos\", args.base_lr, args.num_epochs, iters_per_epoch=len(train_loader), warmup_epochs=args.warmup_epochs)"
   ]
  },
  {
   "cell_type": "code",
   "execution_count": null,
   "metadata": {},
   "outputs": [],
   "source": []
  },
  {
   "cell_type": "code",
   "execution_count": 35,
   "metadata": {},
   "outputs": [],
   "source": [
    "args = Namespace()\n",
    "args.backbone = 'se_resnext50_32x4d'\n",
    "args.ckp_name = 'model3_se_resnext50_fold4_224_cyclic.pth'\n",
    "\n",
    "args.base_lr = 1e-4\n",
    "args.num_epochs = 80\n",
    "args.start_epoch = 0\n",
    "args.warmup_epochs = 5\n",
    "\n",
    "args.num_cycles = 100\n",
    "args.batch_size = 768\n",
    "args.val_batch_size = 1024\n",
    "args.st_epochs = 10\n",
    "\n",
    "args.swa_start = 15\n",
    "args.swa_freq = 3\n",
    "\n",
    "args.beta = 1.0\n",
    "args.cutmix_prob = 0.5"
   ]
  },
  {
   "cell_type": "code",
   "execution_count": 36,
   "metadata": {},
   "outputs": [
    {
     "name": "stdout",
     "output_type": "stream",
     "text": [
      "(200840, 6)\n",
      "(200840, 32332)\n",
      "(160735, 6) (40105, 6)\n"
     ]
    }
   ],
   "source": [
    "train_loader, val_loader = get_train_val_loaders(batch_size=args.batch_size, val_batch_size=args.val_batch_size, ifold=4)"
   ]
  },
  {
   "cell_type": "code",
   "execution_count": null,
   "metadata": {},
   "outputs": [
    {
     "name": "stdout",
     "output_type": "stream",
     "text": [
      "model file: ./models/se_resnext50_32x4d/model3_se_resnext50_fold4_224_cyclic.pth, exist: True\n",
      "loading ./models/se_resnext50_32x4d/model3_se_resnext50_fold4_224_cyclic.pth...\n",
      "model file: ./models/se_resnext50_32x4d/model3_se_resnext50_fold4_224_cyclic.pth, exist: True\n",
      "loading ./models/se_resnext50_32x4d/model3_se_resnext50_fold4_224_cyclic.pth...\n",
      "\n",
      "val: {'recall': 0.997501, 'recall_grapheme': 0.996235, 'recall_vowel': 0.998718, 'recall_consonant': 0.998817, 'acc_grapheme': 0.996085, 'acc_vowel': 0.998454, 'acc_consonant': 0.998529, 'loss_grapheme': 0.02314, 'loss_vowel': 0.014404, 'loss_consonant': 0.011319}\n",
      "CYCLE: 1\n",
      "    0 | 0.000020 | 160512/160735 | 1.4476 | 1.3112 |\n",
      "val: {'recall': 0.995659, 'recall_grapheme': 0.993353, 'recall_vowel': 0.998098, 'recall_consonant': 0.997831, 'acc_grapheme': 0.993417, 'acc_vowel': 0.997831, 'acc_consonant': 0.997856, 'loss_grapheme': 0.06344, 'loss_vowel': 0.046332, 'loss_consonant': 0.034227}\n",
      "    1 | 0.000040 | 160512/160735 | 3.0032 | 1.0590 |\n",
      "val: {'recall': 0.99702, 'recall_grapheme': 0.99566, 'recall_vowel': 0.998369, 'recall_consonant': 0.998389, 'acc_grapheme': 0.995537, 'acc_vowel': 0.998155, 'acc_consonant': 0.998354, 'loss_grapheme': 0.044747, 'loss_vowel': 0.030059, 'loss_consonant': 0.020251}\n",
      "    2 | 0.000060 | 160512/160735 | 2.1853 | 1.0713 |\n",
      "val: {'recall': 0.995194, 'recall_grapheme': 0.992694, 'recall_vowel': 0.997712, 'recall_consonant': 0.997678, 'acc_grapheme': 0.992121, 'acc_vowel': 0.997731, 'acc_consonant': 0.997531, 'loss_grapheme': 0.043435, 'loss_vowel': 0.024409, 'loss_consonant': 0.018724}\n",
      "    3 | 0.000079 | 160512/160735 | 1.4694 | 1.0926 |\n",
      "val: {'recall': 0.99617, 'recall_grapheme': 0.994298, 'recall_vowel': 0.997918, 'recall_consonant': 0.998164, 'acc_grapheme': 0.99419, 'acc_vowel': 0.997856, 'acc_consonant': 0.99818, 'loss_grapheme': 0.047059, 'loss_vowel': 0.028819, 'loss_consonant': 0.019447}\n",
      "    4 | 0.000099 | 160512/160735 | 0.2735 | 1.1362 |\n",
      "val: {'recall': 0.996768, 'recall_grapheme': 0.995301, 'recall_vowel': 0.998302, 'recall_consonant': 0.998168, 'acc_grapheme': 0.995113, 'acc_vowel': 0.998205, 'acc_consonant': 0.998304, 'loss_grapheme': 0.035947, 'loss_vowel': 0.022324, 'loss_consonant': 0.015016}\n",
      "    5 | 0.000099 | 160512/160735 | 1.6495 | 1.1000 |\n",
      "val: {'recall': 0.996087, 'recall_grapheme': 0.994407, 'recall_vowel': 0.997556, 'recall_consonant': 0.997979, 'acc_grapheme': 0.994165, 'acc_vowel': 0.997806, 'acc_consonant': 0.997781, 'loss_grapheme': 0.060511, 'loss_vowel': 0.032914, 'loss_consonant': 0.0251}\n",
      "    6 | 0.000098 | 160512/160735 | 2.6113 | 1.2350 |\n",
      "val: {'recall': 0.994889, 'recall_grapheme': 0.992667, 'recall_vowel': 0.997637, 'recall_consonant': 0.996585, 'acc_grapheme': 0.99242, 'acc_vowel': 0.997631, 'acc_consonant': 0.997631, 'loss_grapheme': 0.048412, 'loss_vowel': 0.026588, 'loss_consonant': 0.018821}\n",
      "    7 | 0.000098 | 160512/160735 | 0.0015 | 1.1024 |\n",
      "val: {'recall': 0.995972, 'recall_grapheme': 0.994109, 'recall_vowel': 0.998065, 'recall_consonant': 0.997605, 'acc_grapheme': 0.994041, 'acc_vowel': 0.99803, 'acc_consonant': 0.99798, 'loss_grapheme': 0.033089, 'loss_vowel': 0.019718, 'loss_consonant': 0.014144}\n",
      "    8 | 0.000097 | 160512/160735 | 2.9532 | 1.2685 |\n",
      "val: {'recall': 0.993345, 'recall_grapheme': 0.990365, 'recall_vowel': 0.996909, 'recall_consonant': 0.995739, 'acc_grapheme': 0.989602, 'acc_vowel': 0.997058, 'acc_consonant': 0.996384, 'loss_grapheme': 0.048194, 'loss_vowel': 0.020862, 'loss_consonant': 0.020519}\n",
      "    9 | 0.000096 | 160512/160735 | 1.8016 | 1.0924 |\n",
      "val: {'recall': 0.995418, 'recall_grapheme': 0.993188, 'recall_vowel': 0.997681, 'recall_consonant': 0.997615, 'acc_grapheme': 0.993193, 'acc_vowel': 0.997631, 'acc_consonant': 0.997556, 'loss_grapheme': 0.044145, 'loss_vowel': 0.023924, 'loss_consonant': 0.018251}\n",
      "   10 | 0.000095 | 160512/160735 | 0.0036 | 1.2548 |\n",
      "val: {'recall': 0.996263, 'recall_grapheme': 0.994303, 'recall_vowel': 0.997941, 'recall_consonant': 0.998508, 'acc_grapheme': 0.993617, 'acc_vowel': 0.997881, 'acc_consonant': 0.997881, 'loss_grapheme': 0.029154, 'loss_vowel': 0.014539, 'loss_consonant': 0.011313}\n",
      "   11 | 0.000095 | 160512/160735 | 0.9379 | 1.0966 |\n",
      "val: {'recall': 0.995722, 'recall_grapheme': 0.993262, 'recall_vowel': 0.997864, 'recall_consonant': 0.998501, 'acc_grapheme': 0.993093, 'acc_vowel': 0.997955, 'acc_consonant': 0.997905, 'loss_grapheme': 0.032055, 'loss_vowel': 0.014524, 'loss_consonant': 0.011102}\n",
      "   12 | 0.000094 | 160512/160735 | 2.4213 | 1.1811 |\n",
      "val: {'recall': 0.996396, 'recall_grapheme': 0.994381, 'recall_vowel': 0.998295, 'recall_consonant': 0.998524, 'acc_grapheme': 0.994315, 'acc_vowel': 0.998105, 'acc_consonant': 0.998155, 'loss_grapheme': 0.039064, 'loss_vowel': 0.023762, 'loss_consonant': 0.015741}\n",
      "   13 | 0.000093 | 160512/160735 | 1.7182 | 1.0898 |\n",
      "val: {'recall': 0.996194, 'recall_grapheme': 0.994055, 'recall_vowel': 0.998, 'recall_consonant': 0.998664, 'acc_grapheme': 0.993766, 'acc_vowel': 0.997905, 'acc_consonant': 0.997881, 'loss_grapheme': 0.032743, 'loss_vowel': 0.017373, 'loss_consonant': 0.01343}\n",
      "   14 | 0.000092 | 160512/160735 | 1.7982 | 1.0702 |"
     ]
    },
    {
     "name": "stderr",
     "output_type": "stream",
     "text": [
      "\r",
      "  0%|          | 0/209 [00:00<?, ?it/s]"
     ]
    },
    {
     "name": "stdout",
     "output_type": "stream",
     "text": [
      "\n",
      "val: {'recall': 0.994407, 'recall_grapheme': 0.991971, 'recall_vowel': 0.997415, 'recall_consonant': 0.996272, 'acc_grapheme': 0.99237, 'acc_vowel': 0.997531, 'acc_consonant': 0.997307, 'loss_grapheme': 0.056642, 'loss_vowel': 0.029614, 'loss_consonant': 0.024558}\n",
      "SWA>>>:\n"
     ]
    },
    {
     "name": "stderr",
     "output_type": "stream",
     "text": [
      "100%|██████████| 209/209 [01:14<00:00,  2.91it/s]\n"
     ]
    },
    {
     "name": "stdout",
     "output_type": "stream",
     "text": [
      "\n",
      "val: {'recall': 0.997871, 'recall_grapheme': 0.996938, 'recall_vowel': 0.998737, 'recall_consonant': 0.998871, 'acc_grapheme': 0.997008, 'acc_vowel': 0.998753, 'acc_consonant': 0.998629, 'loss_grapheme': 0.014872, 'loss_vowel': 0.007039, 'loss_consonant': 0.004985}\n",
      "###>>>>> saved ./models/se_resnext50_32x4d/model3_se_resnext50_fold4_224_cyclic.pth_swa\n",
      "   15 | 0.000090 | 160512/160735 | 0.6380 | 1.1132 |\n",
      "val: {'recall': 0.995602, 'recall_grapheme': 0.993479, 'recall_vowel': 0.997784, 'recall_consonant': 0.997666, 'acc_grapheme': 0.992644, 'acc_vowel': 0.997581, 'acc_consonant': 0.997357, 'loss_grapheme': 0.035865, 'loss_vowel': 0.016133, 'loss_consonant': 0.013851}\n",
      "   16 | 0.000089 | 160512/160735 | 1.6648 | 1.2117 |\n",
      "val: {'recall': 0.99536, 'recall_grapheme': 0.993414, 'recall_vowel': 0.997942, 'recall_consonant': 0.99667, 'acc_grapheme': 0.992769, 'acc_vowel': 0.99793, 'acc_consonant': 0.997531, 'loss_grapheme': 0.033772, 'loss_vowel': 0.014848, 'loss_consonant': 0.012491}\n",
      "   17 | 0.000088 | 160512/160735 | 0.0048 | 1.2095 |"
     ]
    },
    {
     "name": "stderr",
     "output_type": "stream",
     "text": [
      "\r",
      "  0%|          | 0/209 [00:00<?, ?it/s]"
     ]
    },
    {
     "name": "stdout",
     "output_type": "stream",
     "text": [
      "\n",
      "val: {'recall': 0.996134, 'recall_grapheme': 0.994079, 'recall_vowel': 0.998107, 'recall_consonant': 0.99827, 'acc_grapheme': 0.993941, 'acc_vowel': 0.99793, 'acc_consonant': 0.997881, 'loss_grapheme': 0.030761, 'loss_vowel': 0.014871, 'loss_consonant': 0.011293}\n",
      "SWA>>>:\n"
     ]
    },
    {
     "name": "stderr",
     "output_type": "stream",
     "text": [
      "100%|██████████| 209/209 [01:14<00:00,  2.92it/s]\n"
     ]
    },
    {
     "name": "stdout",
     "output_type": "stream",
     "text": [
      "\n",
      "val: {'recall': 0.998135, 'recall_grapheme': 0.997279, 'recall_vowel': 0.998881, 'recall_consonant': 0.9991, 'acc_grapheme': 0.997207, 'acc_vowel': 0.998728, 'acc_consonant': 0.998928, 'loss_grapheme': 0.014709, 'loss_vowel': 0.007081, 'loss_consonant': 0.004699}\n",
      "###>>>>> saved ./models/se_resnext50_32x4d/model3_se_resnext50_fold4_224_cyclic.pth_swa\n",
      "   18 | 0.000087 | 160512/160735 | 2.7574 | 1.1705 |\n",
      "val: {'recall': 0.994061, 'recall_grapheme': 0.991074, 'recall_vowel': 0.99701, 'recall_consonant': 0.997087, 'acc_grapheme': 0.990251, 'acc_vowel': 0.997108, 'acc_consonant': 0.996759, 'loss_grapheme': 0.063918, 'loss_vowel': 0.040915, 'loss_consonant': 0.031312}\n",
      "   19 | 0.000085 | 160512/160735 | 0.6801 | 1.1465 |\n",
      "val: {'recall': 0.991573, 'recall_grapheme': 0.988895, 'recall_vowel': 0.996521, 'recall_consonant': 0.991982, 'acc_grapheme': 0.988006, 'acc_vowel': 0.996808, 'acc_consonant': 0.995911, 'loss_grapheme': 0.050245, 'loss_vowel': 0.020182, 'loss_consonant': 0.019528}\n",
      "   20 | 0.000084 | 160512/160735 | 2.1146 | 1.1648 |"
     ]
    },
    {
     "name": "stderr",
     "output_type": "stream",
     "text": [
      "\r",
      "  0%|          | 0/209 [00:00<?, ?it/s]"
     ]
    },
    {
     "name": "stdout",
     "output_type": "stream",
     "text": [
      "\n",
      "val: {'recall': 0.994937, 'recall_grapheme': 0.992747, 'recall_vowel': 0.997213, 'recall_consonant': 0.997041, 'acc_grapheme': 0.992171, 'acc_vowel': 0.997257, 'acc_consonant': 0.996883, 'loss_grapheme': 0.042312, 'loss_vowel': 0.023123, 'loss_consonant': 0.018732}\n",
      "SWA>>>:\n"
     ]
    },
    {
     "name": "stderr",
     "output_type": "stream",
     "text": [
      "100%|██████████| 209/209 [01:14<00:00,  2.88it/s]\n"
     ]
    },
    {
     "name": "stdout",
     "output_type": "stream",
     "text": [
      "\n",
      "val: {'recall': 0.998031, 'recall_grapheme': 0.997056, 'recall_vowel': 0.998963, 'recall_consonant': 0.999048, 'acc_grapheme': 0.996983, 'acc_vowel': 0.998728, 'acc_consonant': 0.998928, 'loss_grapheme': 0.014638, 'loss_vowel': 0.007073, 'loss_consonant': 0.004746}\n",
      "   21 | 0.000082 | 160512/160735 | 0.0050 | 1.0987 |\n",
      "val: {'recall': 0.995005, 'recall_grapheme': 0.992727, 'recall_vowel': 0.997246, 'recall_consonant': 0.997321, 'acc_grapheme': 0.99222, 'acc_vowel': 0.997606, 'acc_consonant': 0.997108, 'loss_grapheme': 0.035576, 'loss_vowel': 0.01444, 'loss_consonant': 0.013165}\n",
      "   22 | 0.000081 | 160512/160735 | 0.0017 | 1.1315 |\n",
      "val: {'recall': 0.996802, 'recall_grapheme': 0.995305, 'recall_vowel': 0.998137, 'recall_consonant': 0.998463, 'acc_grapheme': 0.994589, 'acc_vowel': 0.998105, 'acc_consonant': 0.998005, 'loss_grapheme': 0.029334, 'loss_vowel': 0.015266, 'loss_consonant': 0.011637}\n",
      "   23 | 0.000079 | 160512/160735 | 3.0622 | 1.1324 |"
     ]
    },
    {
     "name": "stderr",
     "output_type": "stream",
     "text": [
      "\r",
      "  0%|          | 0/209 [00:00<?, ?it/s]"
     ]
    },
    {
     "name": "stdout",
     "output_type": "stream",
     "text": [
      "\n",
      "val: {'recall': 0.994986, 'recall_grapheme': 0.992663, 'recall_vowel': 0.997388, 'recall_consonant': 0.997229, 'acc_grapheme': 0.991971, 'acc_vowel': 0.997507, 'acc_consonant': 0.997232, 'loss_grapheme': 0.038205, 'loss_vowel': 0.016667, 'loss_consonant': 0.015017}\n",
      "SWA>>>:\n"
     ]
    },
    {
     "name": "stderr",
     "output_type": "stream",
     "text": [
      "100%|██████████| 209/209 [01:14<00:00,  2.91it/s]\n"
     ]
    },
    {
     "name": "stdout",
     "output_type": "stream",
     "text": [
      "\n",
      "val: {'recall': 0.998064, 'recall_grapheme': 0.997139, 'recall_vowel': 0.99893, 'recall_consonant': 0.999048, 'acc_grapheme': 0.997133, 'acc_vowel': 0.998678, 'acc_consonant': 0.998928, 'loss_grapheme': 0.01448, 'loss_vowel': 0.006922, 'loss_consonant': 0.004625}\n",
      "   24 | 0.000078 | 160512/160735 | 0.9434 | 1.0881 |\n",
      "val: {'recall': 0.996131, 'recall_grapheme': 0.994244, 'recall_vowel': 0.997938, 'recall_consonant': 0.998098, 'acc_grapheme': 0.993991, 'acc_vowel': 0.997905, 'acc_consonant': 0.997955, 'loss_grapheme': 0.037463, 'loss_vowel': 0.018589, 'loss_consonant': 0.01545}\n",
      "   25 | 0.000076 | 160512/160735 | 1.5751 | 1.2374 |\n",
      "val: {'recall': 0.995096, 'recall_grapheme': 0.992703, 'recall_vowel': 0.997329, 'recall_consonant': 0.997651, 'acc_grapheme': 0.99232, 'acc_vowel': 0.997432, 'acc_consonant': 0.997407, 'loss_grapheme': 0.040268, 'loss_vowel': 0.019077, 'loss_consonant': 0.016128}\n",
      "   26 | 0.000074 | 160512/160735 | 0.0073 | 1.0544 |"
     ]
    },
    {
     "name": "stderr",
     "output_type": "stream",
     "text": [
      "\r",
      "  0%|          | 0/209 [00:00<?, ?it/s]"
     ]
    },
    {
     "name": "stdout",
     "output_type": "stream",
     "text": [
      "\n",
      "val: {'recall': 0.996022, 'recall_grapheme': 0.993892, 'recall_vowel': 0.997843, 'recall_consonant': 0.998461, 'acc_grapheme': 0.993367, 'acc_vowel': 0.99798, 'acc_consonant': 0.997781, 'loss_grapheme': 0.0331, 'loss_vowel': 0.015997, 'loss_consonant': 0.012281}\n",
      "SWA>>>:\n"
     ]
    },
    {
     "name": "stderr",
     "output_type": "stream",
     "text": [
      "100%|██████████| 209/209 [01:14<00:00,  2.80it/s]\n"
     ]
    },
    {
     "name": "stdout",
     "output_type": "stream",
     "text": [
      "\n",
      "val: {'recall': 0.998051, 'recall_grapheme': 0.997102, 'recall_vowel': 0.998913, 'recall_consonant': 0.999087, 'acc_grapheme': 0.997083, 'acc_vowel': 0.998703, 'acc_consonant': 0.998978, 'loss_grapheme': 0.014487, 'loss_vowel': 0.006749, 'loss_consonant': 0.004543}\n",
      "   27 | 0.000073 | 160512/160735 | 0.0008 | 1.2239 |\n",
      "val: {'recall': 0.995406, 'recall_grapheme': 0.993363, 'recall_vowel': 0.997389, 'recall_consonant': 0.997508, 'acc_grapheme': 0.992171, 'acc_vowel': 0.997581, 'acc_consonant': 0.997257, 'loss_grapheme': 0.035907, 'loss_vowel': 0.014576, 'loss_consonant': 0.013566}\n",
      "   28 | 0.000071 | 160512/160735 | 0.0024 | 1.1207 |\n",
      "val: {'recall': 0.995637, 'recall_grapheme': 0.993682, 'recall_vowel': 0.997615, 'recall_consonant': 0.99757, 'acc_grapheme': 0.992944, 'acc_vowel': 0.997731, 'acc_consonant': 0.997681, 'loss_grapheme': 0.035387, 'loss_vowel': 0.015312, 'loss_consonant': 0.012641}\n",
      "   29 | 0.000069 | 160512/160735 | 3.3515 | 1.0992 |"
     ]
    },
    {
     "name": "stderr",
     "output_type": "stream",
     "text": [
      "\r",
      "  0%|          | 0/209 [00:00<?, ?it/s]"
     ]
    },
    {
     "name": "stdout",
     "output_type": "stream",
     "text": [
      "\n",
      "val: {'recall': 0.995649, 'recall_grapheme': 0.993393, 'recall_vowel': 0.99753, 'recall_consonant': 0.998278, 'acc_grapheme': 0.992894, 'acc_vowel': 0.997681, 'acc_consonant': 0.997656, 'loss_grapheme': 0.034558, 'loss_vowel': 0.017433, 'loss_consonant': 0.014158}\n",
      "SWA>>>:\n"
     ]
    },
    {
     "name": "stderr",
     "output_type": "stream",
     "text": [
      "100%|██████████| 209/209 [01:14<00:00,  2.94it/s]\n"
     ]
    },
    {
     "name": "stdout",
     "output_type": "stream",
     "text": [
      "\n",
      "val: {'recall': 0.997977, 'recall_grapheme': 0.996971, 'recall_vowel': 0.998842, 'recall_consonant': 0.999123, 'acc_grapheme': 0.997058, 'acc_vowel': 0.998703, 'acc_consonant': 0.999028, 'loss_grapheme': 0.014361, 'loss_vowel': 0.006635, 'loss_consonant': 0.004471}\n",
      "   30 | 0.000067 | 160512/160735 | 1.9362 | 1.1340 |\n",
      "val: {'recall': 0.996043, 'recall_grapheme': 0.994175, 'recall_vowel': 0.99779, 'recall_consonant': 0.998031, 'acc_grapheme': 0.993667, 'acc_vowel': 0.997955, 'acc_consonant': 0.99793, 'loss_grapheme': 0.045665, 'loss_vowel': 0.02753, 'loss_consonant': 0.019548}\n",
      "   31 | 0.000065 | 160512/160735 | 2.3495 | 1.0965 |\n",
      "val: {'recall': 0.993185, 'recall_grapheme': 0.990444, 'recall_vowel': 0.996105, 'recall_consonant': 0.995745, 'acc_grapheme': 0.989253, 'acc_vowel': 0.996684, 'acc_consonant': 0.99631, 'loss_grapheme': 0.046568, 'loss_vowel': 0.019931, 'loss_consonant': 0.01866}\n",
      "   32 | 0.000064 | 160512/160735 | 0.0055 | 1.1084 |"
     ]
    },
    {
     "name": "stderr",
     "output_type": "stream",
     "text": [
      "\r",
      "  0%|          | 0/209 [00:00<?, ?it/s]"
     ]
    },
    {
     "name": "stdout",
     "output_type": "stream",
     "text": [
      "\n",
      "val: {'recall': 0.996643, 'recall_grapheme': 0.994835, 'recall_vowel': 0.998192, 'recall_consonant': 0.998711, 'acc_grapheme': 0.994365, 'acc_vowel': 0.99828, 'acc_consonant': 0.99813, 'loss_grapheme': 0.04175, 'loss_vowel': 0.028178, 'loss_consonant': 0.01836}\n",
      "SWA>>>:\n"
     ]
    },
    {
     "name": "stderr",
     "output_type": "stream",
     "text": [
      "100%|██████████| 209/209 [01:14<00:00,  2.83it/s]\n"
     ]
    },
    {
     "name": "stdout",
     "output_type": "stream",
     "text": [
      "\n",
      "val: {'recall': 0.997994, 'recall_grapheme': 0.997067, 'recall_vowel': 0.998725, 'recall_consonant': 0.999117, 'acc_grapheme': 0.997083, 'acc_vowel': 0.998728, 'acc_consonant': 0.999003, 'loss_grapheme': 0.014283, 'loss_vowel': 0.006701, 'loss_consonant': 0.004484}\n",
      "   33 | 0.000062 | 160512/160735 | 1.2510 | 1.0531 |\n",
      "val: {'recall': 0.995975, 'recall_grapheme': 0.994059, 'recall_vowel': 0.997715, 'recall_consonant': 0.998067, 'acc_grapheme': 0.993442, 'acc_vowel': 0.997831, 'acc_consonant': 0.997606, 'loss_grapheme': 0.031612, 'loss_vowel': 0.013527, 'loss_consonant': 0.011318}\n",
      "   34 | 0.000060 | 160512/160735 | 1.2333 | 0.9879 |\n",
      "val: {'recall': 0.996299, 'recall_grapheme': 0.994412, 'recall_vowel': 0.997912, 'recall_consonant': 0.998461, 'acc_grapheme': 0.993866, 'acc_vowel': 0.99798, 'acc_consonant': 0.99793, 'loss_grapheme': 0.038469, 'loss_vowel': 0.021268, 'loss_consonant': 0.016356}\n",
      "   35 | 0.000058 | 160512/160735 | 1.8619 | 1.3349 |"
     ]
    },
    {
     "name": "stderr",
     "output_type": "stream",
     "text": [
      "\r",
      "  0%|          | 0/209 [00:00<?, ?it/s]"
     ]
    },
    {
     "name": "stdout",
     "output_type": "stream",
     "text": [
      "\n",
      "val: {'recall': 0.995634, 'recall_grapheme': 0.993687, 'recall_vowel': 0.997604, 'recall_consonant': 0.997558, 'acc_grapheme': 0.992619, 'acc_vowel': 0.997706, 'acc_consonant': 0.997432, 'loss_grapheme': 0.0355, 'loss_vowel': 0.015217, 'loss_consonant': 0.012133}\n",
      "SWA>>>:\n"
     ]
    },
    {
     "name": "stderr",
     "output_type": "stream",
     "text": [
      "100%|██████████| 209/209 [01:14<00:00,  2.93it/s]\n"
     ]
    },
    {
     "name": "stdout",
     "output_type": "stream",
     "text": [
      "\n",
      "val: {'recall': 0.997985, 'recall_grapheme': 0.996978, 'recall_vowel': 0.998866, 'recall_consonant': 0.99912, 'acc_grapheme': 0.996983, 'acc_vowel': 0.998753, 'acc_consonant': 0.999003, 'loss_grapheme': 0.014241, 'loss_vowel': 0.006635, 'loss_consonant': 0.004556}\n",
      "   36 | 0.000056 | 160512/160735 | 0.4703 | 1.0981 |\n",
      "val: {'recall': 0.996717, 'recall_grapheme': 0.995063, 'recall_vowel': 0.998058, 'recall_consonant': 0.998683, 'acc_grapheme': 0.994739, 'acc_vowel': 0.99808, 'acc_consonant': 0.99818, 'loss_grapheme': 0.046823, 'loss_vowel': 0.024737, 'loss_consonant': 0.018218}\n",
      "   37 | 0.000054 | 160512/160735 | 1.3423 | 1.1607 |\n",
      "val: {'recall': 0.995554, 'recall_grapheme': 0.993228, 'recall_vowel': 0.997711, 'recall_consonant': 0.99805, 'acc_grapheme': 0.992295, 'acc_vowel': 0.997581, 'acc_consonant': 0.997531, 'loss_grapheme': 0.043746, 'loss_vowel': 0.021593, 'loss_consonant': 0.017483}\n",
      "   38 | 0.000052 | 160512/160735 | 1.9182 | 1.0784 |"
     ]
    },
    {
     "name": "stderr",
     "output_type": "stream",
     "text": [
      "\r",
      "  0%|          | 0/209 [00:00<?, ?it/s]"
     ]
    },
    {
     "name": "stdout",
     "output_type": "stream",
     "text": [
      "\n",
      "val: {'recall': 0.993313, 'recall_grapheme': 0.989621, 'recall_vowel': 0.99672, 'recall_consonant': 0.997292, 'acc_grapheme': 0.988879, 'acc_vowel': 0.996783, 'acc_consonant': 0.99636, 'loss_grapheme': 0.044229, 'loss_vowel': 0.015264, 'loss_consonant': 0.01402}\n",
      "SWA>>>:\n"
     ]
    },
    {
     "name": "stderr",
     "output_type": "stream",
     "text": [
      "100%|██████████| 209/209 [01:14<00:00,  2.96it/s]\n"
     ]
    },
    {
     "name": "stdout",
     "output_type": "stream",
     "text": [
      "\n",
      "val: {'recall': 0.997959, 'recall_grapheme': 0.996982, 'recall_vowel': 0.998789, 'recall_consonant': 0.999081, 'acc_grapheme': 0.996983, 'acc_vowel': 0.998753, 'acc_consonant': 0.998953, 'loss_grapheme': 0.01427, 'loss_vowel': 0.006612, 'loss_consonant': 0.004562}\n",
      "   39 | 0.000050 | 160512/160735 | 0.0015 | 1.0541 |\n",
      "val: {'recall': 0.994614, 'recall_grapheme': 0.991786, 'recall_vowel': 0.997094, 'recall_consonant': 0.997791, 'acc_grapheme': 0.991223, 'acc_vowel': 0.997407, 'acc_consonant': 0.996983, 'loss_grapheme': 0.038414, 'loss_vowel': 0.013904, 'loss_consonant': 0.012532}\n",
      "   40 | 0.000048 | 160512/160735 | 1.5332 | 1.1773 |\n",
      "val: {'recall': 0.99534, 'recall_grapheme': 0.993082, 'recall_vowel': 0.997198, 'recall_consonant': 0.997998, 'acc_grapheme': 0.992171, 'acc_vowel': 0.997482, 'acc_consonant': 0.997182, 'loss_grapheme': 0.035611, 'loss_vowel': 0.014665, 'loss_consonant': 0.012352}\n",
      "   41 | 0.000046 | 160512/160735 | 0.7684 | 1.1494 |"
     ]
    },
    {
     "name": "stderr",
     "output_type": "stream",
     "text": [
      "\r",
      "  0%|          | 0/209 [00:00<?, ?it/s]"
     ]
    },
    {
     "name": "stdout",
     "output_type": "stream",
     "text": [
      "\n",
      "val: {'recall': 0.995398, 'recall_grapheme': 0.992983, 'recall_vowel': 0.997628, 'recall_consonant': 0.997998, 'acc_grapheme': 0.991996, 'acc_vowel': 0.997507, 'acc_consonant': 0.997307, 'loss_grapheme': 0.036116, 'loss_vowel': 0.013206, 'loss_consonant': 0.011344}\n",
      "SWA>>>:\n"
     ]
    },
    {
     "name": "stderr",
     "output_type": "stream",
     "text": [
      "100%|██████████| 209/209 [01:14<00:00,  2.92it/s]\n"
     ]
    },
    {
     "name": "stdout",
     "output_type": "stream",
     "text": [
      "\n",
      "val: {'recall': 0.997922, 'recall_grapheme': 0.99695, 'recall_vowel': 0.998708, 'recall_consonant': 0.999081, 'acc_grapheme': 0.996958, 'acc_vowel': 0.998778, 'acc_consonant': 0.998953, 'loss_grapheme': 0.014196, 'loss_vowel': 0.006557, 'loss_consonant': 0.004525}\n",
      "   42 | 0.000044 | 160512/160735 | 0.0005 | 1.0690 |\n",
      "val: {'recall': 0.995707, 'recall_grapheme': 0.9934, 'recall_vowel': 0.997807, 'recall_consonant': 0.998222, 'acc_grapheme': 0.993143, 'acc_vowel': 0.997781, 'acc_consonant': 0.997756, 'loss_grapheme': 0.037428, 'loss_vowel': 0.017441, 'loss_consonant': 0.014173}\n",
      "   43 | 0.000042 | 160512/160735 | 1.2245 | 1.2104 |\n",
      "val: {'recall': 0.994963, 'recall_grapheme': 0.992399, 'recall_vowel': 0.997362, 'recall_consonant': 0.997691, 'acc_grapheme': 0.992071, 'acc_vowel': 0.997581, 'acc_consonant': 0.997332, 'loss_grapheme': 0.037198, 'loss_vowel': 0.015076, 'loss_consonant': 0.013183}\n",
      "   44 | 0.000040 | 160512/160735 | 0.0026 | 1.0263 |"
     ]
    },
    {
     "name": "stderr",
     "output_type": "stream",
     "text": [
      "\r",
      "  0%|          | 0/209 [00:00<?, ?it/s]"
     ]
    },
    {
     "name": "stdout",
     "output_type": "stream",
     "text": [
      "\n",
      "val: {'recall': 0.996209, 'recall_grapheme': 0.994243, 'recall_vowel': 0.997984, 'recall_consonant': 0.998367, 'acc_grapheme': 0.994016, 'acc_vowel': 0.99803, 'acc_consonant': 0.997905, 'loss_grapheme': 0.038259, 'loss_vowel': 0.021267, 'loss_consonant': 0.01522}\n",
      "SWA>>>:\n"
     ]
    },
    {
     "name": "stderr",
     "output_type": "stream",
     "text": [
      "100%|██████████| 209/209 [01:14<00:00,  2.91it/s]\n"
     ]
    },
    {
     "name": "stdout",
     "output_type": "stream",
     "text": [
      "\n",
      "val: {'recall': 0.997933, 'recall_grapheme': 0.996983, 'recall_vowel': 0.998719, 'recall_consonant': 0.999045, 'acc_grapheme': 0.996983, 'acc_vowel': 0.998803, 'acc_consonant': 0.998928, 'loss_grapheme': 0.014204, 'loss_vowel': 0.006582, 'loss_consonant': 0.004554}\n",
      "   45 | 0.000038 | 160512/160735 | 1.9294 | 1.1727 |\n",
      "val: {'recall': 0.995664, 'recall_grapheme': 0.993344, 'recall_vowel': 0.997703, 'recall_consonant': 0.998266, 'acc_grapheme': 0.992894, 'acc_vowel': 0.997955, 'acc_consonant': 0.997656, 'loss_grapheme': 0.03505, 'loss_vowel': 0.015316, 'loss_consonant': 0.012246}\n",
      "   46 | 0.000036 | 160512/160735 | 1.5158 | 1.2092 |\n",
      "val: {'recall': 0.994923, 'recall_grapheme': 0.992012, 'recall_vowel': 0.997494, 'recall_consonant': 0.998175, 'acc_grapheme': 0.992021, 'acc_vowel': 0.997706, 'acc_consonant': 0.997531, 'loss_grapheme': 0.048474, 'loss_vowel': 0.023137, 'loss_consonant': 0.018719}\n",
      "   47 | 0.000035 | 160512/160735 | 0.0015 | 1.0941 |"
     ]
    },
    {
     "name": "stderr",
     "output_type": "stream",
     "text": [
      "\r",
      "  0%|          | 0/209 [00:00<?, ?it/s]"
     ]
    },
    {
     "name": "stdout",
     "output_type": "stream",
     "text": [
      "\n",
      "val: {'recall': 0.996176, 'recall_grapheme': 0.994558, 'recall_vowel': 0.997668, 'recall_consonant': 0.99792, 'acc_grapheme': 0.993966, 'acc_vowel': 0.997955, 'acc_consonant': 0.997831, 'loss_grapheme': 0.039431, 'loss_vowel': 0.018675, 'loss_consonant': 0.015014}\n",
      "SWA>>>:\n"
     ]
    },
    {
     "name": "stderr",
     "output_type": "stream",
     "text": [
      "100%|██████████| 209/209 [01:14<00:00,  2.96it/s]\n"
     ]
    },
    {
     "name": "stdout",
     "output_type": "stream",
     "text": [
      "\n",
      "val: {'recall': 0.997951, 'recall_grapheme': 0.997056, 'recall_vowel': 0.998708, 'recall_consonant': 0.998984, 'acc_grapheme': 0.997008, 'acc_vowel': 0.998778, 'acc_consonant': 0.998878, 'loss_grapheme': 0.014263, 'loss_vowel': 0.006593, 'loss_consonant': 0.004559}\n",
      "   48 | 0.000033 | 160512/160735 | 0.0015 | 1.1389 |\n",
      "val: {'recall': 0.995323, 'recall_grapheme': 0.992806, 'recall_vowel': 0.997493, 'recall_consonant': 0.998186, 'acc_grapheme': 0.992146, 'acc_vowel': 0.997806, 'acc_consonant': 0.997531, 'loss_grapheme': 0.036246, 'loss_vowel': 0.014774, 'loss_consonant': 0.012094}\n",
      "   49 | 0.000031 | 160512/160735 | 0.0005 | 1.1661 |\n",
      "val: {'recall': 0.995896, 'recall_grapheme': 0.993576, 'recall_vowel': 0.997905, 'recall_consonant': 0.998527, 'acc_grapheme': 0.993417, 'acc_vowel': 0.998105, 'acc_consonant': 0.998055, 'loss_grapheme': 0.032636, 'loss_vowel': 0.015881, 'loss_consonant': 0.011751}\n",
      "   50 | 0.000029 | 160512/160735 | 1.7307 | 1.0852 |"
     ]
    },
    {
     "name": "stderr",
     "output_type": "stream",
     "text": [
      "\r",
      "  0%|          | 0/209 [00:00<?, ?it/s]"
     ]
    },
    {
     "name": "stdout",
     "output_type": "stream",
     "text": [
      "\n",
      "val: {'recall': 0.995959, 'recall_grapheme': 0.993781, 'recall_vowel': 0.997743, 'recall_consonant': 0.998529, 'acc_grapheme': 0.993642, 'acc_vowel': 0.998005, 'acc_consonant': 0.997881, 'loss_grapheme': 0.037111, 'loss_vowel': 0.020681, 'loss_consonant': 0.015309}\n",
      "SWA>>>:\n"
     ]
    },
    {
     "name": "stderr",
     "output_type": "stream",
     "text": [
      "100%|██████████| 209/209 [01:14<00:00,  2.91it/s]\n"
     ]
    },
    {
     "name": "stdout",
     "output_type": "stream",
     "text": [
      "\n",
      "val: {'recall': 0.997957, 'recall_grapheme': 0.997063, 'recall_vowel': 0.998723, 'recall_consonant': 0.998978, 'acc_grapheme': 0.997058, 'acc_vowel': 0.998778, 'acc_consonant': 0.998853, 'loss_grapheme': 0.014218, 'loss_vowel': 0.006523, 'loss_consonant': 0.004556}\n",
      "   51 | 0.000027 | 160512/160735 | 1.1623 | 1.1286 |\n",
      "val: {'recall': 0.996576, 'recall_grapheme': 0.994685, 'recall_vowel': 0.998215, 'recall_consonant': 0.998721, 'acc_grapheme': 0.994265, 'acc_vowel': 0.998205, 'acc_consonant': 0.998255, 'loss_grapheme': 0.027683, 'loss_vowel': 0.012363, 'loss_consonant': 0.008979}\n",
      "   52 | 0.000026 | 160512/160735 | 1.3032 | 1.1040 |\n",
      "val: {'recall': 0.995787, 'recall_grapheme': 0.993477, 'recall_vowel': 0.997824, 'recall_consonant': 0.998369, 'acc_grapheme': 0.993293, 'acc_vowel': 0.99793, 'acc_consonant': 0.997781, 'loss_grapheme': 0.037618, 'loss_vowel': 0.018731, 'loss_consonant': 0.013913}\n",
      "   53 | 0.000024 | 160512/160735 | 2.8252 | 1.0429 |"
     ]
    },
    {
     "name": "stderr",
     "output_type": "stream",
     "text": [
      "\r",
      "  0%|          | 0/209 [00:00<?, ?it/s]"
     ]
    },
    {
     "name": "stdout",
     "output_type": "stream",
     "text": [
      "\n",
      "val: {'recall': 0.994246, 'recall_grapheme': 0.990999, 'recall_vowel': 0.997268, 'recall_consonant': 0.997716, 'acc_grapheme': 0.990276, 'acc_vowel': 0.997357, 'acc_consonant': 0.997182, 'loss_grapheme': 0.041064, 'loss_vowel': 0.015029, 'loss_consonant': 0.012953}\n",
      "SWA>>>:\n"
     ]
    },
    {
     "name": "stderr",
     "output_type": "stream",
     "text": [
      "100%|██████████| 209/209 [01:14<00:00,  2.91it/s]\n"
     ]
    },
    {
     "name": "stdout",
     "output_type": "stream",
     "text": [
      "\n",
      "val: {'recall': 0.997918, 'recall_grapheme': 0.996982, 'recall_vowel': 0.998734, 'recall_consonant': 0.998972, 'acc_grapheme': 0.997033, 'acc_vowel': 0.998803, 'acc_consonant': 0.998828, 'loss_grapheme': 0.014234, 'loss_vowel': 0.006518, 'loss_consonant': 0.004556}\n",
      "   54 | 0.000022 | 160512/160735 | 0.0025 | 1.0906 |\n",
      "val: {'recall': 0.996321, 'recall_grapheme': 0.994462, 'recall_vowel': 0.997908, 'recall_consonant': 0.998452, 'acc_grapheme': 0.994514, 'acc_vowel': 0.998205, 'acc_consonant': 0.99798, 'loss_grapheme': 0.030131, 'loss_vowel': 0.016287, 'loss_consonant': 0.011837}\n",
      "   55 | 0.000021 | 160512/160735 | 0.0025 | 1.0220 |\n",
      "val: {'recall': 0.996376, 'recall_grapheme': 0.99445, 'recall_vowel': 0.998118, 'recall_consonant': 0.998487, 'acc_grapheme': 0.994041, 'acc_vowel': 0.99813, 'acc_consonant': 0.99798, 'loss_grapheme': 0.028385, 'loss_vowel': 0.012914, 'loss_consonant': 0.009909}\n",
      "   56 | 0.000019 | 160512/160735 | 0.0009 | 1.0241 |"
     ]
    },
    {
     "name": "stderr",
     "output_type": "stream",
     "text": [
      "\r",
      "  0%|          | 0/209 [00:00<?, ?it/s]"
     ]
    },
    {
     "name": "stdout",
     "output_type": "stream",
     "text": [
      "\n",
      "val: {'recall': 0.996652, 'recall_grapheme': 0.994953, 'recall_vowel': 0.998108, 'recall_consonant': 0.998594, 'acc_grapheme': 0.994839, 'acc_vowel': 0.998205, 'acc_consonant': 0.99828, 'loss_grapheme': 0.023456, 'loss_vowel': 0.01055, 'loss_consonant': 0.007726}\n",
      "SWA>>>:\n"
     ]
    },
    {
     "name": "stderr",
     "output_type": "stream",
     "text": [
      "100%|██████████| 209/209 [01:14<00:00,  2.92it/s]\n"
     ]
    },
    {
     "name": "stdout",
     "output_type": "stream",
     "text": [
      "\n",
      "val: {'recall': 0.998014, 'recall_grapheme': 0.997177, 'recall_vowel': 0.998723, 'recall_consonant': 0.998978, 'acc_grapheme': 0.997108, 'acc_vowel': 0.998778, 'acc_consonant': 0.998853, 'loss_grapheme': 0.014187, 'loss_vowel': 0.006488, 'loss_consonant': 0.00454}\n",
      "   57 | 0.000018 | 160512/160735 | 0.7401 | 1.0976 |\n",
      "val: {'recall': 0.997178, 'recall_grapheme': 0.995757, 'recall_vowel': 0.998435, 'recall_consonant': 0.998764, 'acc_grapheme': 0.995512, 'acc_vowel': 0.998379, 'acc_consonant': 0.998429, 'loss_grapheme': 0.023629, 'loss_vowel': 0.012228, 'loss_consonant': 0.008424}\n",
      "   58 | 0.000016 | 160512/160735 | 0.6299 | 1.1345 |\n",
      "val: {'recall': 0.9949, 'recall_grapheme': 0.9922, 'recall_vowel': 0.997125, 'recall_consonant': 0.998073, 'acc_grapheme': 0.991298, 'acc_vowel': 0.997157, 'acc_consonant': 0.997307, 'loss_grapheme': 0.037693, 'loss_vowel': 0.013964, 'loss_consonant': 0.011629}\n",
      "   59 | 0.000015 | 160512/160735 | 1.3445 | 1.2180 |"
     ]
    },
    {
     "name": "stderr",
     "output_type": "stream",
     "text": [
      "\r",
      "  0%|          | 0/209 [00:00<?, ?it/s]"
     ]
    },
    {
     "name": "stdout",
     "output_type": "stream",
     "text": [
      "\n",
      "val: {'recall': 0.994673, 'recall_grapheme': 0.99201, 'recall_vowel': 0.9973, 'recall_consonant': 0.997371, 'acc_grapheme': 0.992121, 'acc_vowel': 0.997656, 'acc_consonant': 0.997382, 'loss_grapheme': 0.040861, 'loss_vowel': 0.017748, 'loss_consonant': 0.014255}\n",
      "SWA>>>:\n"
     ]
    },
    {
     "name": "stderr",
     "output_type": "stream",
     "text": [
      "100%|██████████| 209/209 [01:14<00:00,  2.95it/s]\n"
     ]
    },
    {
     "name": "stdout",
     "output_type": "stream",
     "text": [
      "\n",
      "val: {'recall': 0.998041, 'recall_grapheme': 0.997156, 'recall_vowel': 0.998875, 'recall_consonant': 0.998978, 'acc_grapheme': 0.997083, 'acc_vowel': 0.998828, 'acc_consonant': 0.998853, 'loss_grapheme': 0.014171, 'loss_vowel': 0.006456, 'loss_consonant': 0.004494}\n",
      "   60 | 0.000013 | 160512/160735 | 1.7073 | 1.1734 |\n",
      "val: {'recall': 0.994608, 'recall_grapheme': 0.991597, 'recall_vowel': 0.997292, 'recall_consonant': 0.997946, 'acc_grapheme': 0.991497, 'acc_vowel': 0.997482, 'acc_consonant': 0.997307, 'loss_grapheme': 0.043342, 'loss_vowel': 0.019971, 'loss_consonant': 0.015821}\n",
      "   61 | 0.000012 | 160512/160735 | 0.0020 | 1.0169 |\n",
      "val: {'recall': 0.996977, 'recall_grapheme': 0.99546, 'recall_vowel': 0.998282, 'recall_consonant': 0.998707, 'acc_grapheme': 0.995287, 'acc_vowel': 0.998304, 'acc_consonant': 0.998304, 'loss_grapheme': 0.023499, 'loss_vowel': 0.011432, 'loss_consonant': 0.008234}\n",
      "   62 | 0.000011 | 160512/160735 | 1.8423 | 1.1630 |"
     ]
    },
    {
     "name": "stderr",
     "output_type": "stream",
     "text": [
      "\r",
      "  0%|          | 0/209 [00:00<?, ?it/s]"
     ]
    },
    {
     "name": "stdout",
     "output_type": "stream",
     "text": [
      "\n",
      "val: {'recall': 0.993089, 'recall_grapheme': 0.989689, 'recall_vowel': 0.997122, 'recall_consonant': 0.995856, 'acc_grapheme': 0.990126, 'acc_vowel': 0.997332, 'acc_consonant': 0.996759, 'loss_grapheme': 0.051229, 'loss_vowel': 0.021442, 'loss_consonant': 0.018398}\n",
      "SWA>>>:\n"
     ]
    },
    {
     "name": "stderr",
     "output_type": "stream",
     "text": [
      "100%|██████████| 209/209 [01:14<00:00,  2.92it/s]\n"
     ]
    },
    {
     "name": "stdout",
     "output_type": "stream",
     "text": [
      "\n",
      "val: {'recall': 0.998051, 'recall_grapheme': 0.997175, 'recall_vowel': 0.998875, 'recall_consonant': 0.998978, 'acc_grapheme': 0.997108, 'acc_vowel': 0.998828, 'acc_consonant': 0.998853, 'loss_grapheme': 0.014134, 'loss_vowel': 0.006423, 'loss_consonant': 0.004506}\n",
      "   63 | 0.000010 | 160512/160735 | 2.3298 | 1.0880 |\n",
      "val: {'recall': 0.995127, 'recall_grapheme': 0.992681, 'recall_vowel': 0.997088, 'recall_consonant': 0.998056, 'acc_grapheme': 0.992195, 'acc_vowel': 0.997482, 'acc_consonant': 0.997432, 'loss_grapheme': 0.03649, 'loss_vowel': 0.015499, 'loss_consonant': 0.013148}\n",
      "   64 | 0.000008 | 160512/160735 | 0.5476 | 1.1258 |\n",
      "val: {'recall': 0.996055, 'recall_grapheme': 0.994072, 'recall_vowel': 0.997718, 'recall_consonant': 0.998358, 'acc_grapheme': 0.993517, 'acc_vowel': 0.997905, 'acc_consonant': 0.997806, 'loss_grapheme': 0.036266, 'loss_vowel': 0.016452, 'loss_consonant': 0.013538}\n",
      "   65 | 0.000007 | 160512/160735 | 0.6691 | 1.0648 |"
     ]
    },
    {
     "name": "stderr",
     "output_type": "stream",
     "text": [
      "\r",
      "  0%|          | 0/209 [00:00<?, ?it/s]"
     ]
    },
    {
     "name": "stdout",
     "output_type": "stream",
     "text": [
      "\n",
      "val: {'recall': 0.996212, 'recall_grapheme': 0.994263, 'recall_vowel': 0.997808, 'recall_consonant': 0.998514, 'acc_grapheme': 0.993741, 'acc_vowel': 0.997905, 'acc_consonant': 0.99803, 'loss_grapheme': 0.02904, 'loss_vowel': 0.011186, 'loss_consonant': 0.00867}\n",
      "SWA>>>:\n"
     ]
    },
    {
     "name": "stderr",
     "output_type": "stream",
     "text": [
      "100%|██████████| 209/209 [01:14<00:00,  2.92it/s]\n"
     ]
    },
    {
     "name": "stdout",
     "output_type": "stream",
     "text": [
      "\n",
      "val: {'recall': 0.997995, 'recall_grapheme': 0.997067, 'recall_vowel': 0.998864, 'recall_consonant': 0.998981, 'acc_grapheme': 0.997033, 'acc_vowel': 0.998803, 'acc_consonant': 0.998853, 'loss_grapheme': 0.014128, 'loss_vowel': 0.00641, 'loss_consonant': 0.004506}\n",
      "   66 | 0.000006 | 160512/160735 | 1.4332 | 1.1811 |\n",
      "val: {'recall': 0.994133, 'recall_grapheme': 0.991102, 'recall_vowel': 0.997105, 'recall_consonant': 0.99722, 'acc_grapheme': 0.990749, 'acc_vowel': 0.997432, 'acc_consonant': 0.997008, 'loss_grapheme': 0.050741, 'loss_vowel': 0.021255, 'loss_consonant': 0.018481}\n",
      "   67 | 0.000005 | 160512/160735 | 0.0051 | 1.0924 |\n",
      "val: {'recall': 0.996271, 'recall_grapheme': 0.994272, 'recall_vowel': 0.998009, 'recall_consonant': 0.99853, 'acc_grapheme': 0.994066, 'acc_vowel': 0.99808, 'acc_consonant': 0.99798, 'loss_grapheme': 0.032225, 'loss_vowel': 0.016507, 'loss_consonant': 0.012549}\n",
      "   68 | 0.000005 | 160512/160735 | 2.3198 | 1.1687 |"
     ]
    },
    {
     "name": "stderr",
     "output_type": "stream",
     "text": [
      "\r",
      "  0%|          | 0/209 [00:00<?, ?it/s]"
     ]
    },
    {
     "name": "stdout",
     "output_type": "stream",
     "text": [
      "\n",
      "val: {'recall': 0.995579, 'recall_grapheme': 0.99316, 'recall_vowel': 0.997696, 'recall_consonant': 0.9983, 'acc_grapheme': 0.992993, 'acc_vowel': 0.997806, 'acc_consonant': 0.997806, 'loss_grapheme': 0.034728, 'loss_vowel': 0.016425, 'loss_consonant': 0.012373}\n",
      "SWA>>>:\n"
     ]
    },
    {
     "name": "stderr",
     "output_type": "stream",
     "text": [
      "100%|██████████| 209/209 [01:14<00:00,  2.89it/s]\n"
     ]
    },
    {
     "name": "stdout",
     "output_type": "stream",
     "text": [
      "\n",
      "val: {'recall': 0.99807, 'recall_grapheme': 0.997212, 'recall_vowel': 0.998875, 'recall_consonant': 0.998981, 'acc_grapheme': 0.997157, 'acc_vowel': 0.998828, 'acc_consonant': 0.998853, 'loss_grapheme': 0.014149, 'loss_vowel': 0.006353, 'loss_consonant': 0.004493}\n",
      "   69 | 0.000004 | 160512/160735 | 1.7102 | 1.0859 |\n",
      "val: {'recall': 0.994899, 'recall_grapheme': 0.992383, 'recall_vowel': 0.997174, 'recall_consonant': 0.997654, 'acc_grapheme': 0.992495, 'acc_vowel': 0.997581, 'acc_consonant': 0.997457, 'loss_grapheme': 0.041136, 'loss_vowel': 0.018104, 'loss_consonant': 0.015019}\n",
      "   70 | 0.000003 | 160512/160735 | 0.0014 | 1.1587 |\n",
      "val: {'recall': 0.996448, 'recall_grapheme': 0.994734, 'recall_vowel': 0.997928, 'recall_consonant': 0.998398, 'acc_grapheme': 0.994564, 'acc_vowel': 0.998255, 'acc_consonant': 0.99793, 'loss_grapheme': 0.030454, 'loss_vowel': 0.016616, 'loss_consonant': 0.012695}\n",
      "   71 | 0.000002 | 160512/160735 | 2.0995 | 1.1644 |"
     ]
    },
    {
     "name": "stderr",
     "output_type": "stream",
     "text": [
      "\r",
      "  0%|          | 0/209 [00:00<?, ?it/s]"
     ]
    },
    {
     "name": "stdout",
     "output_type": "stream",
     "text": [
      "\n",
      "val: {'recall': 0.996156, 'recall_grapheme': 0.994117, 'recall_vowel': 0.997947, 'recall_consonant': 0.998442, 'acc_grapheme': 0.993692, 'acc_vowel': 0.998105, 'acc_consonant': 0.997856, 'loss_grapheme': 0.033937, 'loss_vowel': 0.018124, 'loss_consonant': 0.013811}\n",
      "SWA>>>:\n"
     ]
    },
    {
     "name": "stderr",
     "output_type": "stream",
     "text": [
      "100%|██████████| 209/209 [01:14<00:00,  2.96it/s]\n"
     ]
    },
    {
     "name": "stdout",
     "output_type": "stream",
     "text": [
      "\n",
      "val: {'recall': 0.998053, 'recall_grapheme': 0.997181, 'recall_vowel': 0.998875, 'recall_consonant': 0.998975, 'acc_grapheme': 0.997157, 'acc_vowel': 0.998828, 'acc_consonant': 0.998828, 'loss_grapheme': 0.014108, 'loss_vowel': 0.006382, 'loss_consonant': 0.004499}\n",
      "   72 | 0.000002 | 160512/160735 | 1.8466 | 1.0923 |\n",
      "val: {'recall': 0.995724, 'recall_grapheme': 0.993458, 'recall_vowel': 0.997688, 'recall_consonant': 0.998292, 'acc_grapheme': 0.993093, 'acc_vowel': 0.997831, 'acc_consonant': 0.997781, 'loss_grapheme': 0.037637, 'loss_vowel': 0.018953, 'loss_consonant': 0.014413}\n",
      "   73 | 0.000001 | 160512/160735 | 2.5099 | 1.0863 |\n",
      "val: {'recall': 0.992718, 'recall_grapheme': 0.988677, 'recall_vowel': 0.996396, 'recall_consonant': 0.997123, 'acc_grapheme': 0.987882, 'acc_vowel': 0.996409, 'acc_consonant': 0.996335, 'loss_grapheme': 0.048808, 'loss_vowel': 0.016231, 'loss_consonant': 0.015017}\n",
      "   74 | 0.000001 | 160512/160735 | 2.4057 | 1.2086 |"
     ]
    },
    {
     "name": "stderr",
     "output_type": "stream",
     "text": [
      "\r",
      "  0%|          | 0/209 [00:00<?, ?it/s]"
     ]
    },
    {
     "name": "stdout",
     "output_type": "stream",
     "text": [
      "\n",
      "val: {'recall': 0.995706, 'recall_grapheme': 0.993285, 'recall_vowel': 0.997811, 'recall_consonant': 0.998441, 'acc_grapheme': 0.992894, 'acc_vowel': 0.997905, 'acc_consonant': 0.997856, 'loss_grapheme': 0.03405, 'loss_vowel': 0.013823, 'loss_consonant': 0.011206}\n",
      "SWA>>>:\n"
     ]
    },
    {
     "name": "stderr",
     "output_type": "stream",
     "text": [
      "100%|██████████| 209/209 [01:14<00:00,  2.86it/s]\n"
     ]
    },
    {
     "name": "stdout",
     "output_type": "stream",
     "text": [
      "\n",
      "val: {'recall': 0.998013, 'recall_grapheme': 0.997098, 'recall_vowel': 0.998875, 'recall_consonant': 0.998981, 'acc_grapheme': 0.997108, 'acc_vowel': 0.998828, 'acc_consonant': 0.998853, 'loss_grapheme': 0.014102, 'loss_vowel': 0.006368, 'loss_consonant': 0.004489}\n",
      "   75 | 0.000001 | 160512/160735 | 0.1860 | 1.1195 |\n",
      "val: {'recall': 0.996263, 'recall_grapheme': 0.994285, 'recall_vowel': 0.997923, 'recall_consonant': 0.998558, 'acc_grapheme': 0.993941, 'acc_vowel': 0.997955, 'acc_consonant': 0.998005, 'loss_grapheme': 0.036689, 'loss_vowel': 0.01907, 'loss_consonant': 0.014047}\n",
      "   76 | 0.000000 | 160512/160735 | 0.0017 | 1.1783 |\n",
      "val: {'recall': 0.995803, 'recall_grapheme': 0.993583, 'recall_vowel': 0.997681, 'recall_consonant': 0.998367, 'acc_grapheme': 0.992968, 'acc_vowel': 0.997831, 'acc_consonant': 0.997856, 'loss_grapheme': 0.034347, 'loss_vowel': 0.015527, 'loss_consonant': 0.012189}\n",
      "   77 | 0.000000 | 160512/160735 | 0.0009 | 1.1710 |"
     ]
    },
    {
     "name": "stderr",
     "output_type": "stream",
     "text": [
      "\r",
      "  0%|          | 0/209 [00:00<?, ?it/s]"
     ]
    },
    {
     "name": "stdout",
     "output_type": "stream",
     "text": [
      "\n",
      "val: {'recall': 0.995616, 'recall_grapheme': 0.99325, 'recall_vowel': 0.997575, 'recall_consonant': 0.99839, 'acc_grapheme': 0.993018, 'acc_vowel': 0.997806, 'acc_consonant': 0.997881, 'loss_grapheme': 0.033277, 'loss_vowel': 0.013997, 'loss_consonant': 0.011096}\n",
      "SWA>>>:\n"
     ]
    },
    {
     "name": "stderr",
     "output_type": "stream",
     "text": [
      "100%|██████████| 209/209 [01:14<00:00,  2.96it/s]\n"
     ]
    },
    {
     "name": "stdout",
     "output_type": "stream",
     "text": [
      "\n",
      "val: {'recall': 0.998013, 'recall_grapheme': 0.997098, 'recall_vowel': 0.998875, 'recall_consonant': 0.998981, 'acc_grapheme': 0.997108, 'acc_vowel': 0.998828, 'acc_consonant': 0.998853, 'loss_grapheme': 0.014157, 'loss_vowel': 0.006365, 'loss_consonant': 0.004507}\n",
      "   78 | 0.000000 | 160512/160735 | 1.8136 | 1.0338 |\n",
      "val: {'recall': 0.996081, 'recall_grapheme': 0.994465, 'recall_vowel': 0.997497, 'recall_consonant': 0.997898, 'acc_grapheme': 0.994465, 'acc_vowel': 0.997706, 'acc_consonant': 0.997881, 'loss_grapheme': 0.037608, 'loss_vowel': 0.017377, 'loss_consonant': 0.013204}\n",
      "   79 | 0.000000 | 160512/160735 | 0.5143 | 1.1029 |\n",
      "val: {'recall': 0.995961, 'recall_grapheme': 0.99367, 'recall_vowel': 0.997965, 'recall_consonant': 0.998539, 'acc_grapheme': 0.993268, 'acc_vowel': 0.998055, 'acc_consonant': 0.99803, 'loss_grapheme': 0.033381, 'loss_vowel': 0.014639, 'loss_consonant': 0.011529}\n",
      "CYCLE: 2\n",
      "    0 | 0.000020 | 160512/160735 | 2.0227 | 1.1409 |\n",
      "val: {'recall': 0.996163, 'recall_grapheme': 0.994361, 'recall_vowel': 0.997926, 'recall_consonant': 0.998005, 'acc_grapheme': 0.994315, 'acc_vowel': 0.99793, 'acc_consonant': 0.99798, 'loss_grapheme': 0.048627, 'loss_vowel': 0.025557, 'loss_consonant': 0.018312}\n",
      "    1 | 0.000040 | 160512/160735 | 0.0004 | 1.0239 |\n",
      "val: {'recall': 0.996926, 'recall_grapheme': 0.995571, 'recall_vowel': 0.998404, 'recall_consonant': 0.998159, 'acc_grapheme': 0.995786, 'acc_vowel': 0.99828, 'acc_consonant': 0.998404, 'loss_grapheme': 0.038429, 'loss_vowel': 0.021736, 'loss_consonant': 0.014776}\n",
      "    2 | 0.000060 | 160512/160735 | 0.3350 | 1.0577 |\n",
      "val: {'recall': 0.997138, 'recall_grapheme': 0.995637, 'recall_vowel': 0.998455, 'recall_consonant': 0.998825, 'acc_grapheme': 0.995312, 'acc_vowel': 0.998404, 'acc_consonant': 0.998429, 'loss_grapheme': 0.030656, 'loss_vowel': 0.016482, 'loss_consonant': 0.011107}\n",
      "    3 | 0.000079 | 160512/160735 | 0.0004 | 1.1373 |\n",
      "val: {'recall': 0.996273, 'recall_grapheme': 0.994467, 'recall_vowel': 0.998081, 'recall_consonant': 0.998076, 'acc_grapheme': 0.99424, 'acc_vowel': 0.998304, 'acc_consonant': 0.998005, 'loss_grapheme': 0.048773, 'loss_vowel': 0.028111, 'loss_consonant': 0.019436}\n",
      "    4 | 0.000099 | 160512/160735 | 1.8458 | 1.0810 |\n",
      "val: {'recall': 0.995829, 'recall_grapheme': 0.993712, 'recall_vowel': 0.997501, 'recall_consonant': 0.998392, 'acc_grapheme': 0.992794, 'acc_vowel': 0.997756, 'acc_consonant': 0.997531, 'loss_grapheme': 0.044444, 'loss_vowel': 0.024301, 'loss_consonant': 0.018756}\n",
      "    5 | 0.000099 | 160512/160735 | 0.2418 | 1.0890 |\n",
      "val: {'recall': 0.995905, 'recall_grapheme': 0.994007, 'recall_vowel': 0.997814, 'recall_consonant': 0.997792, 'acc_grapheme': 0.993542, 'acc_vowel': 0.997881, 'acc_consonant': 0.997756, 'loss_grapheme': 0.039786, 'loss_vowel': 0.020033, 'loss_consonant': 0.014317}\n",
      "    6 | 0.000098 | 160512/160735 | 1.7035 | 1.0733 |\n",
      "val: {'recall': 0.995183, 'recall_grapheme': 0.992845, 'recall_vowel': 0.997444, 'recall_consonant': 0.9976, 'acc_grapheme': 0.992495, 'acc_vowel': 0.997531, 'acc_consonant': 0.997257, 'loss_grapheme': 0.074027, 'loss_vowel': 0.044122, 'loss_consonant': 0.029866}\n",
      "    7 | 0.000098 | 160512/160735 | 0.0018 | 1.1756 |\n",
      "val: {'recall': 0.996317, 'recall_grapheme': 0.994849, 'recall_vowel': 0.997737, 'recall_consonant': 0.997831, 'acc_grapheme': 0.994066, 'acc_vowel': 0.997756, 'acc_consonant': 0.997905, 'loss_grapheme': 0.036339, 'loss_vowel': 0.018113, 'loss_consonant': 0.012603}\n",
      "    8 | 0.000097 | 160512/160735 | 2.2527 | 1.2025 |\n",
      "val: {'recall': 0.994944, 'recall_grapheme': 0.992454, 'recall_vowel': 0.997605, 'recall_consonant': 0.997263, 'acc_grapheme': 0.991248, 'acc_vowel': 0.997482, 'acc_consonant': 0.997083, 'loss_grapheme': 0.042669, 'loss_vowel': 0.018744, 'loss_consonant': 0.015251}\n",
      "    9 | 0.000096 | 160512/160735 | 0.0023 | 1.1697 |\n",
      "val: {'recall': 0.995897, 'recall_grapheme': 0.994069, 'recall_vowel': 0.997576, 'recall_consonant': 0.997871, 'acc_grapheme': 0.993766, 'acc_vowel': 0.997905, 'acc_consonant': 0.997756, 'loss_grapheme': 0.033924, 'loss_vowel': 0.016898, 'loss_consonant': 0.012846}\n",
      "   10 | 0.000095 | 160512/160735 | 1.1735 | 1.1328 |\n",
      "val: {'recall': 0.993852, 'recall_grapheme': 0.990744, 'recall_vowel': 0.996768, 'recall_consonant': 0.997152, 'acc_grapheme': 0.989951, 'acc_vowel': 0.996883, 'acc_consonant': 0.996958, 'loss_grapheme': 0.043034, 'loss_vowel': 0.017581, 'loss_consonant': 0.014397}\n",
      "   11 | 0.000095 | 160512/160735 | 1.2564 | 1.1038 |\n",
      "val: {'recall': 0.995232, 'recall_grapheme': 0.993188, 'recall_vowel': 0.997029, 'recall_consonant': 0.997523, 'acc_grapheme': 0.991996, 'acc_vowel': 0.997507, 'acc_consonant': 0.997282, 'loss_grapheme': 0.037821, 'loss_vowel': 0.014654, 'loss_consonant': 0.012295}\n",
      "   12 | 0.000094 | 160512/160735 | 0.6431 | 1.0954 |\n",
      "val: {'recall': 0.996295, 'recall_grapheme': 0.994684, 'recall_vowel': 0.997909, 'recall_consonant': 0.997903, 'acc_grapheme': 0.993991, 'acc_vowel': 0.99803, 'acc_consonant': 0.99813, 'loss_grapheme': 0.042819, 'loss_vowel': 0.026356, 'loss_consonant': 0.018271}\n",
      "   13 | 0.000093 | 160512/160735 | 0.5656 | 1.1158 |\n",
      "val: {'recall': 0.996415, 'recall_grapheme': 0.994666, 'recall_vowel': 0.997881, 'recall_consonant': 0.998449, 'acc_grapheme': 0.993791, 'acc_vowel': 0.99803, 'acc_consonant': 0.998005, 'loss_grapheme': 0.034324, 'loss_vowel': 0.015221, 'loss_consonant': 0.01177}\n",
      "   14 | 0.000092 | 160512/160735 | 1.8590 | 1.0975 |"
     ]
    },
    {
     "name": "stderr",
     "output_type": "stream",
     "text": [
      "\r",
      "  0%|          | 0/209 [00:00<?, ?it/s]"
     ]
    },
    {
     "name": "stdout",
     "output_type": "stream",
     "text": [
      "\n",
      "val: {'recall': 0.996794, 'recall_grapheme': 0.995279, 'recall_vowel': 0.997995, 'recall_consonant': 0.998623, 'acc_grapheme': 0.994739, 'acc_vowel': 0.99803, 'acc_consonant': 0.998155, 'loss_grapheme': 0.031514, 'loss_vowel': 0.017812, 'loss_consonant': 0.012133}\n",
      "SWA>>>:\n"
     ]
    },
    {
     "name": "stderr",
     "output_type": "stream",
     "text": [
      "100%|██████████| 209/209 [01:14<00:00,  2.87it/s]\n"
     ]
    },
    {
     "name": "stdout",
     "output_type": "stream",
     "text": [
      "\n",
      "val: {'recall': 0.998124, 'recall_grapheme': 0.997318, 'recall_vowel': 0.998859, 'recall_consonant': 0.999002, 'acc_grapheme': 0.997133, 'acc_vowel': 0.998803, 'acc_consonant': 0.998828, 'loss_grapheme': 0.014073, 'loss_vowel': 0.006376, 'loss_consonant': 0.004507}\n",
      "   15 | 0.000090 | 160512/160735 | 2.9542 | 1.3017 |\n",
      "val: {'recall': 0.994635, 'recall_grapheme': 0.992157, 'recall_vowel': 0.996947, 'recall_consonant': 0.997278, 'acc_grapheme': 0.991173, 'acc_vowel': 0.997108, 'acc_consonant': 0.997157, 'loss_grapheme': 0.04437, 'loss_vowel': 0.02022, 'loss_consonant': 0.016895}\n",
      "   16 | 0.000089 | 160512/160735 | 0.0005 | 1.0122 |\n",
      "val: {'recall': 0.995141, 'recall_grapheme': 0.992914, 'recall_vowel': 0.997086, 'recall_consonant': 0.997651, 'acc_grapheme': 0.99232, 'acc_vowel': 0.997407, 'acc_consonant': 0.997432, 'loss_grapheme': 0.03965, 'loss_vowel': 0.019388, 'loss_consonant': 0.015099}\n",
      "   17 | 0.000088 | 160512/160735 | 0.0038 | 1.2002 |"
     ]
    },
    {
     "name": "stderr",
     "output_type": "stream",
     "text": [
      "\r",
      "  0%|          | 0/209 [00:00<?, ?it/s]"
     ]
    },
    {
     "name": "stdout",
     "output_type": "stream",
     "text": [
      "\n",
      "val: {'recall': 0.994351, 'recall_grapheme': 0.991427, 'recall_vowel': 0.997026, 'recall_consonant': 0.997525, 'acc_grapheme': 0.990874, 'acc_vowel': 0.997207, 'acc_consonant': 0.997083, 'loss_grapheme': 0.040966, 'loss_vowel': 0.016214, 'loss_consonant': 0.01446}\n",
      "SWA>>>:\n"
     ]
    },
    {
     "name": "stderr",
     "output_type": "stream",
     "text": [
      "100%|██████████| 209/209 [01:15<00:00,  2.82it/s]\n"
     ]
    },
    {
     "name": "stdout",
     "output_type": "stream",
     "text": [
      "\n",
      "val: {'recall': 0.99799, 'recall_grapheme': 0.997061, 'recall_vowel': 0.99887, 'recall_consonant': 0.998969, 'acc_grapheme': 0.997058, 'acc_vowel': 0.998828, 'acc_consonant': 0.998803, 'loss_grapheme': 0.013988, 'loss_vowel': 0.006332, 'loss_consonant': 0.004478}\n",
      "   18 | 0.000087 | 160512/160735 | 1.4162 | 1.1403 |\n",
      "val: {'recall': 0.995282, 'recall_grapheme': 0.99283, 'recall_vowel': 0.997431, 'recall_consonant': 0.998036, 'acc_grapheme': 0.99247, 'acc_vowel': 0.997656, 'acc_consonant': 0.997531, 'loss_grapheme': 0.034078, 'loss_vowel': 0.014028, 'loss_consonant': 0.011499}\n",
      "   19 | 0.000085 | 160512/160735 | 1.2232 | 1.1422 |\n",
      "val: {'recall': 0.994722, 'recall_grapheme': 0.992958, 'recall_vowel': 0.996882, 'recall_consonant': 0.996087, 'acc_grapheme': 0.991223, 'acc_vowel': 0.997058, 'acc_consonant': 0.997083, 'loss_grapheme': 0.037514, 'loss_vowel': 0.014901, 'loss_consonant': 0.011982}\n",
      "   20 | 0.000084 | 160512/160735 | 0.0017 | 1.1458 |"
     ]
    },
    {
     "name": "stderr",
     "output_type": "stream",
     "text": [
      "\r",
      "  0%|          | 0/209 [00:00<?, ?it/s]"
     ]
    },
    {
     "name": "stdout",
     "output_type": "stream",
     "text": [
      "\n",
      "val: {'recall': 0.995504, 'recall_grapheme': 0.993382, 'recall_vowel': 0.997665, 'recall_consonant': 0.997585, 'acc_grapheme': 0.992844, 'acc_vowel': 0.997781, 'acc_consonant': 0.997631, 'loss_grapheme': 0.034955, 'loss_vowel': 0.015189, 'loss_consonant': 0.012335}\n",
      "SWA>>>:\n"
     ]
    },
    {
     "name": "stderr",
     "output_type": "stream",
     "text": [
      "100%|██████████| 209/209 [01:14<00:00,  2.90it/s]\n"
     ]
    },
    {
     "name": "stdout",
     "output_type": "stream",
     "text": [
      "\n",
      "val: {'recall': 0.998075, 'recall_grapheme': 0.997165, 'recall_vowel': 0.99897, 'recall_consonant': 0.999002, 'acc_grapheme': 0.997083, 'acc_vowel': 0.998853, 'acc_consonant': 0.998828, 'loss_grapheme': 0.013955, 'loss_vowel': 0.006323, 'loss_consonant': 0.004462}\n",
      "   21 | 0.000082 | 160512/160735 | 0.0048 | 1.1969 |\n",
      "val: {'recall': 0.995155, 'recall_grapheme': 0.992741, 'recall_vowel': 0.997173, 'recall_consonant': 0.997965, 'acc_grapheme': 0.991772, 'acc_vowel': 0.997332, 'acc_consonant': 0.997332, 'loss_grapheme': 0.035256, 'loss_vowel': 0.014287, 'loss_consonant': 0.012066}\n",
      "   22 | 0.000081 | 160512/160735 | 1.2190 | 1.0934 |\n",
      "val: {'recall': 0.995643, 'recall_grapheme': 0.993628, 'recall_vowel': 0.997506, 'recall_consonant': 0.997811, 'acc_grapheme': 0.992968, 'acc_vowel': 0.997706, 'acc_consonant': 0.997606, 'loss_grapheme': 0.033334, 'loss_vowel': 0.014392, 'loss_consonant': 0.011946}\n",
      "   23 | 0.000079 | 160512/160735 | 1.2979 | 1.0470 |"
     ]
    },
    {
     "name": "stderr",
     "output_type": "stream",
     "text": [
      "\r",
      "  0%|          | 0/209 [00:00<?, ?it/s]"
     ]
    },
    {
     "name": "stdout",
     "output_type": "stream",
     "text": [
      "\n",
      "val: {'recall': 0.996342, 'recall_grapheme': 0.994424, 'recall_vowel': 0.998174, 'recall_consonant': 0.998347, 'acc_grapheme': 0.993991, 'acc_vowel': 0.998055, 'acc_consonant': 0.997806, 'loss_grapheme': 0.029932, 'loss_vowel': 0.013485, 'loss_consonant': 0.010882}\n",
      "SWA>>>:\n"
     ]
    },
    {
     "name": "stderr",
     "output_type": "stream",
     "text": [
      "100%|██████████| 209/209 [01:14<00:00,  2.88it/s]\n"
     ]
    },
    {
     "name": "stdout",
     "output_type": "stream",
     "text": [
      "\n",
      "val: {'recall': 0.998018, 'recall_grapheme': 0.997085, 'recall_vowel': 0.99887, 'recall_consonant': 0.999033, 'acc_grapheme': 0.997058, 'acc_vowel': 0.998828, 'acc_consonant': 0.998853, 'loss_grapheme': 0.013933, 'loss_vowel': 0.006373, 'loss_consonant': 0.004527}\n",
      "   24 | 0.000078 | 160512/160735 | 0.0045 | 1.1626 |\n",
      "val: {'recall': 0.995976, 'recall_grapheme': 0.993997, 'recall_vowel': 0.997583, 'recall_consonant': 0.99833, 'acc_grapheme': 0.993068, 'acc_vowel': 0.997806, 'acc_consonant': 0.997856, 'loss_grapheme': 0.031398, 'loss_vowel': 0.012722, 'loss_consonant': 0.010425}\n",
      "   25 | 0.000076 | 160512/160735 | 0.0021 | 1.1766 |\n",
      "val: {'recall': 0.994548, 'recall_grapheme': 0.991909, 'recall_vowel': 0.996908, 'recall_consonant': 0.997465, 'acc_grapheme': 0.99065, 'acc_vowel': 0.997357, 'acc_consonant': 0.997033, 'loss_grapheme': 0.04321, 'loss_vowel': 0.019102, 'loss_consonant': 0.015731}\n",
      "   26 | 0.000074 | 160512/160735 | 1.7523 | 1.1707 |"
     ]
    },
    {
     "name": "stderr",
     "output_type": "stream",
     "text": [
      "\r",
      "  0%|          | 0/209 [00:00<?, ?it/s]"
     ]
    },
    {
     "name": "stdout",
     "output_type": "stream",
     "text": [
      "\n",
      "val: {'recall': 0.995022, 'recall_grapheme': 0.9925, 'recall_vowel': 0.996964, 'recall_consonant': 0.998123, 'acc_grapheme': 0.991497, 'acc_vowel': 0.997282, 'acc_consonant': 0.997507, 'loss_grapheme': 0.039574, 'loss_vowel': 0.016036, 'loss_consonant': 0.012756}\n",
      "SWA>>>:\n"
     ]
    },
    {
     "name": "stderr",
     "output_type": "stream",
     "text": [
      "100%|██████████| 209/209 [01:14<00:00,  2.75it/s]\n"
     ]
    },
    {
     "name": "stdout",
     "output_type": "stream",
     "text": [
      "\n",
      "val: {'recall': 0.998013, 'recall_grapheme': 0.997083, 'recall_vowel': 0.998886, 'recall_consonant': 0.999, 'acc_grapheme': 0.997058, 'acc_vowel': 0.998853, 'acc_consonant': 0.998828, 'loss_grapheme': 0.014012, 'loss_vowel': 0.006406, 'loss_consonant': 0.004537}\n",
      "   27 | 0.000073 | 160512/160735 | 0.4468 | 1.1762 |\n",
      "val: {'recall': 0.995151, 'recall_grapheme': 0.992943, 'recall_vowel': 0.99721, 'recall_consonant': 0.997508, 'acc_grapheme': 0.992121, 'acc_vowel': 0.997407, 'acc_consonant': 0.997432, 'loss_grapheme': 0.038214, 'loss_vowel': 0.016089, 'loss_consonant': 0.01284}\n",
      "   28 | 0.000071 | 160512/160735 | 1.9118 | 1.0350 |\n",
      "val: {'recall': 0.995163, 'recall_grapheme': 0.992523, 'recall_vowel': 0.997436, 'recall_consonant': 0.998168, 'acc_grapheme': 0.991996, 'acc_vowel': 0.997556, 'acc_consonant': 0.997581, 'loss_grapheme': 0.03769, 'loss_vowel': 0.016268, 'loss_consonant': 0.013004}\n",
      "   29 | 0.000069 | 160512/160735 | 1.5120 | 1.1612 |"
     ]
    },
    {
     "name": "stderr",
     "output_type": "stream",
     "text": [
      "\r",
      "  0%|          | 0/209 [00:00<?, ?it/s]"
     ]
    },
    {
     "name": "stdout",
     "output_type": "stream",
     "text": [
      "\n",
      "val: {'recall': 0.995576, 'recall_grapheme': 0.993612, 'recall_vowel': 0.997458, 'recall_consonant': 0.997624, 'acc_grapheme': 0.992644, 'acc_vowel': 0.997681, 'acc_consonant': 0.997681, 'loss_grapheme': 0.036228, 'loss_vowel': 0.015649, 'loss_consonant': 0.012345}\n",
      "SWA>>>:\n"
     ]
    },
    {
     "name": "stderr",
     "output_type": "stream",
     "text": [
      "100%|██████████| 209/209 [01:14<00:00,  2.96it/s]\n"
     ]
    },
    {
     "name": "stdout",
     "output_type": "stream",
     "text": [
      "\n",
      "val: {'recall': 0.998051, 'recall_grapheme': 0.997158, 'recall_vowel': 0.998886, 'recall_consonant': 0.999, 'acc_grapheme': 0.997108, 'acc_vowel': 0.998853, 'acc_consonant': 0.998828, 'loss_grapheme': 0.013952, 'loss_vowel': 0.00637, 'loss_consonant': 0.004564}\n",
      "   30 | 0.000067 | 160512/160735 | 1.9516 | 0.9764 |\n",
      "val: {'recall': 0.995158, 'recall_grapheme': 0.992771, 'recall_vowel': 0.997398, 'recall_consonant': 0.997692, 'acc_grapheme': 0.991871, 'acc_vowel': 0.997531, 'acc_consonant': 0.997531, 'loss_grapheme': 0.038357, 'loss_vowel': 0.016815, 'loss_consonant': 0.013282}\n",
      "   31 | 0.000065 | 160512/160735 | 0.0021 | 1.1614 |\n",
      "val: {'recall': 0.995513, 'recall_grapheme': 0.993365, 'recall_vowel': 0.99727, 'recall_consonant': 0.998052, 'acc_grapheme': 0.992245, 'acc_vowel': 0.997556, 'acc_consonant': 0.997432, 'loss_grapheme': 0.036131, 'loss_vowel': 0.014901, 'loss_consonant': 0.011964}\n",
      "   32 | 0.000064 | 160512/160735 | 1.6279 | 1.2566 |"
     ]
    },
    {
     "name": "stderr",
     "output_type": "stream",
     "text": [
      "\r",
      "  0%|          | 0/209 [00:00<?, ?it/s]"
     ]
    },
    {
     "name": "stdout",
     "output_type": "stream",
     "text": [
      "\n",
      "val: {'recall': 0.993913, 'recall_grapheme': 0.990673, 'recall_vowel': 0.996842, 'recall_consonant': 0.997466, 'acc_grapheme': 0.990051, 'acc_vowel': 0.997133, 'acc_consonant': 0.996808, 'loss_grapheme': 0.044037, 'loss_vowel': 0.016946, 'loss_consonant': 0.014346}\n",
      "SWA>>>:\n"
     ]
    },
    {
     "name": "stderr",
     "output_type": "stream",
     "text": [
      "100%|██████████| 209/209 [01:14<00:00,  2.92it/s]\n"
     ]
    },
    {
     "name": "stdout",
     "output_type": "stream",
     "text": [
      "\n",
      "val: {'recall': 0.998002, 'recall_grapheme': 0.997063, 'recall_vowel': 0.998846, 'recall_consonant': 0.999036, 'acc_grapheme': 0.997033, 'acc_vowel': 0.998853, 'acc_consonant': 0.998878, 'loss_grapheme': 0.013865, 'loss_vowel': 0.006351, 'loss_consonant': 0.004512}\n",
      "   33 | 0.000062 | 160512/160735 | 0.0007 | 1.0605 |\n",
      "val: {'recall': 0.995504, 'recall_grapheme': 0.993562, 'recall_vowel': 0.997324, 'recall_consonant': 0.997567, 'acc_grapheme': 0.993043, 'acc_vowel': 0.997606, 'acc_consonant': 0.997581, 'loss_grapheme': 0.038331, 'loss_vowel': 0.020417, 'loss_consonant': 0.015455}\n",
      "   34 | 0.000060 | 160512/160735 | 1.0770 | 1.1138 |\n",
      "val: {'recall': 0.996496, 'recall_grapheme': 0.994989, 'recall_vowel': 0.998008, 'recall_consonant': 0.997995, 'acc_grapheme': 0.994514, 'acc_vowel': 0.998205, 'acc_consonant': 0.99808, 'loss_grapheme': 0.034773, 'loss_vowel': 0.019034, 'loss_consonant': 0.014004}\n",
      "   35 | 0.000058 | 160512/160735 | 0.0012 | 1.1403 |"
     ]
    },
    {
     "name": "stderr",
     "output_type": "stream",
     "text": [
      "\r",
      "  0%|          | 0/209 [00:00<?, ?it/s]"
     ]
    },
    {
     "name": "stdout",
     "output_type": "stream",
     "text": [
      "\n",
      "val: {'recall': 0.996502, 'recall_grapheme': 0.994761, 'recall_vowel': 0.998117, 'recall_consonant': 0.998371, 'acc_grapheme': 0.993941, 'acc_vowel': 0.99808, 'acc_consonant': 0.997905, 'loss_grapheme': 0.032304, 'loss_vowel': 0.014882, 'loss_consonant': 0.011388}\n",
      "SWA>>>:\n"
     ]
    },
    {
     "name": "stderr",
     "output_type": "stream",
     "text": [
      "100%|██████████| 209/209 [01:14<00:00,  2.88it/s]\n"
     ]
    },
    {
     "name": "stdout",
     "output_type": "stream",
     "text": [
      "\n",
      "val: {'recall': 0.998043, 'recall_grapheme': 0.997069, 'recall_vowel': 0.998999, 'recall_consonant': 0.999036, 'acc_grapheme': 0.997033, 'acc_vowel': 0.998878, 'acc_consonant': 0.998878, 'loss_grapheme': 0.013816, 'loss_vowel': 0.006321, 'loss_consonant': 0.004512}\n",
      "   36 | 0.000056 | 160512/160735 | 1.5625 | 1.1078 |\n",
      "val: {'recall': 0.995373, 'recall_grapheme': 0.9932, 'recall_vowel': 0.997605, 'recall_consonant': 0.997486, 'acc_grapheme': 0.991871, 'acc_vowel': 0.997706, 'acc_consonant': 0.997457, 'loss_grapheme': 0.042624, 'loss_vowel': 0.017974, 'loss_consonant': 0.014592}\n",
      "   37 | 0.000054 | 160512/160735 | 2.0334 | 1.1984 |\n",
      "val: {'recall': 0.994032, 'recall_grapheme': 0.991341, 'recall_vowel': 0.996463, 'recall_consonant': 0.996982, 'acc_grapheme': 0.990151, 'acc_vowel': 0.996933, 'acc_consonant': 0.996634, 'loss_grapheme': 0.045143, 'loss_vowel': 0.020589, 'loss_consonant': 0.01699}\n",
      "   38 | 0.000052 | 160512/160735 | 1.7790 | 1.0303 |"
     ]
    },
    {
     "name": "stderr",
     "output_type": "stream",
     "text": [
      "\r",
      "  0%|          | 0/209 [00:00<?, ?it/s]"
     ]
    },
    {
     "name": "stdout",
     "output_type": "stream",
     "text": [
      "\n",
      "val: {'recall': 0.995809, 'recall_grapheme': 0.993955, 'recall_vowel': 0.997484, 'recall_consonant': 0.997842, 'acc_grapheme': 0.992844, 'acc_vowel': 0.997905, 'acc_consonant': 0.997706, 'loss_grapheme': 0.032148, 'loss_vowel': 0.013517, 'loss_consonant': 0.010576}\n",
      "SWA>>>:\n"
     ]
    },
    {
     "name": "stderr",
     "output_type": "stream",
     "text": [
      "100%|██████████| 209/209 [01:14<00:00,  2.97it/s]\n"
     ]
    },
    {
     "name": "stdout",
     "output_type": "stream",
     "text": [
      "\n",
      "val: {'recall': 0.998024, 'recall_grapheme': 0.997101, 'recall_vowel': 0.998858, 'recall_consonant': 0.999036, 'acc_grapheme': 0.997083, 'acc_vowel': 0.998853, 'acc_consonant': 0.998878, 'loss_grapheme': 0.01384, 'loss_vowel': 0.00635, 'loss_consonant': 0.004494}\n",
      "   39 | 0.000050 | 160512/160735 | 0.0006 | 1.1667 |\n",
      "val: {'recall': 0.994841, 'recall_grapheme': 0.992254, 'recall_vowel': 0.9973, 'recall_consonant': 0.997557, 'acc_grapheme': 0.991298, 'acc_vowel': 0.997531, 'acc_consonant': 0.997282, 'loss_grapheme': 0.039996, 'loss_vowel': 0.01755, 'loss_consonant': 0.014299}\n",
      "   40 | 0.000048 | 160512/160735 | 0.0008 | 1.1764 |\n",
      "val: {'recall': 0.995053, 'recall_grapheme': 0.992677, 'recall_vowel': 0.997344, 'recall_consonant': 0.997511, 'acc_grapheme': 0.991996, 'acc_vowel': 0.997531, 'acc_consonant': 0.997457, 'loss_grapheme': 0.036622, 'loss_vowel': 0.014909, 'loss_consonant': 0.01191}\n",
      "   41 | 0.000046 | 160512/160735 | 0.0007 | 0.9816 |"
     ]
    },
    {
     "name": "stderr",
     "output_type": "stream",
     "text": [
      "\r",
      "  0%|          | 0/209 [00:00<?, ?it/s]"
     ]
    },
    {
     "name": "stdout",
     "output_type": "stream",
     "text": [
      "\n",
      "val: {'recall': 0.99485, 'recall_grapheme': 0.992672, 'recall_vowel': 0.996975, 'recall_consonant': 0.997082, 'acc_grapheme': 0.991323, 'acc_vowel': 0.997232, 'acc_consonant': 0.997033, 'loss_grapheme': 0.037809, 'loss_vowel': 0.014337, 'loss_consonant': 0.011793}\n",
      "SWA>>>:\n"
     ]
    },
    {
     "name": "stderr",
     "output_type": "stream",
     "text": [
      "100%|██████████| 209/209 [01:14<00:00,  2.86it/s]\n"
     ]
    },
    {
     "name": "stdout",
     "output_type": "stream",
     "text": [
      "\n",
      "val: {'recall': 0.998046, 'recall_grapheme': 0.997144, 'recall_vowel': 0.998858, 'recall_consonant': 0.999036, 'acc_grapheme': 0.997108, 'acc_vowel': 0.998853, 'acc_consonant': 0.998878, 'loss_grapheme': 0.013838, 'loss_vowel': 0.006354, 'loss_consonant': 0.004483}\n",
      "   42 | 0.000044 | 160512/160735 | 0.0010 | 1.1214 |\n",
      "val: {'recall': 0.995393, 'recall_grapheme': 0.993513, 'recall_vowel': 0.99707, 'recall_consonant': 0.997475, 'acc_grapheme': 0.992594, 'acc_vowel': 0.997457, 'acc_consonant': 0.997307, 'loss_grapheme': 0.034166, 'loss_vowel': 0.016094, 'loss_consonant': 0.012779}\n",
      "   43 | 0.000042 | 160512/160735 | 0.0067 | 1.1800 |\n",
      "val: {'recall': 0.995334, 'recall_grapheme': 0.993199, 'recall_vowel': 0.997055, 'recall_consonant': 0.997882, 'acc_grapheme': 0.99232, 'acc_vowel': 0.997332, 'acc_consonant': 0.997357, 'loss_grapheme': 0.034606, 'loss_vowel': 0.014574, 'loss_consonant': 0.012145}\n",
      "   44 | 0.000040 | 160512/160735 | 0.0028 | 1.0589 |"
     ]
    },
    {
     "name": "stderr",
     "output_type": "stream",
     "text": [
      "\r",
      "  0%|          | 0/209 [00:00<?, ?it/s]"
     ]
    },
    {
     "name": "stdout",
     "output_type": "stream",
     "text": [
      "\n",
      "val: {'recall': 0.996097, 'recall_grapheme': 0.994161, 'recall_vowel': 0.997626, 'recall_consonant': 0.998438, 'acc_grapheme': 0.993592, 'acc_vowel': 0.997881, 'acc_consonant': 0.998105, 'loss_grapheme': 0.030025, 'loss_vowel': 0.012877, 'loss_consonant': 0.00955}\n",
      "SWA>>>:\n"
     ]
    },
    {
     "name": "stderr",
     "output_type": "stream",
     "text": [
      "100%|██████████| 209/209 [01:14<00:00,  2.89it/s]\n"
     ]
    },
    {
     "name": "stdout",
     "output_type": "stream",
     "text": [
      "\n",
      "val: {'recall': 0.998065, 'recall_grapheme': 0.99718, 'recall_vowel': 0.998869, 'recall_consonant': 0.99903, 'acc_grapheme': 0.997133, 'acc_vowel': 0.998878, 'acc_consonant': 0.998853, 'loss_grapheme': 0.013797, 'loss_vowel': 0.006319, 'loss_consonant': 0.004485}\n",
      "   45 | 0.000038 | 160512/160735 | 0.5809 | 1.1961 |\n",
      "val: {'recall': 0.995526, 'recall_grapheme': 0.993419, 'recall_vowel': 0.997382, 'recall_consonant': 0.997881, 'acc_grapheme': 0.992769, 'acc_vowel': 0.997631, 'acc_consonant': 0.997781, 'loss_grapheme': 0.031697, 'loss_vowel': 0.011845, 'loss_consonant': 0.009786}\n",
      "   46 | 0.000036 | 160512/160735 | 0.1823 | 1.2104 |\n",
      "val: {'recall': 0.995866, 'recall_grapheme': 0.993943, 'recall_vowel': 0.997405, 'recall_consonant': 0.998171, 'acc_grapheme': 0.993018, 'acc_vowel': 0.997781, 'acc_consonant': 0.997432, 'loss_grapheme': 0.041303, 'loss_vowel': 0.024216, 'loss_consonant': 0.017872}\n",
      "   47 | 0.000035 | 160512/160735 | 0.0006 | 1.1175 |"
     ]
    },
    {
     "name": "stderr",
     "output_type": "stream",
     "text": [
      "\r",
      "  0%|          | 0/209 [00:00<?, ?it/s]"
     ]
    },
    {
     "name": "stdout",
     "output_type": "stream",
     "text": [
      "\n",
      "val: {'recall': 0.994084, 'recall_grapheme': 0.991977, 'recall_vowel': 0.99703, 'recall_consonant': 0.995354, 'acc_grapheme': 0.991123, 'acc_vowel': 0.997232, 'acc_consonant': 0.996709, 'loss_grapheme': 0.03965, 'loss_vowel': 0.01542, 'loss_consonant': 0.014003}\n",
      "SWA>>>:\n"
     ]
    },
    {
     "name": "stderr",
     "output_type": "stream",
     "text": [
      "100%|██████████| 209/209 [01:14<00:00,  2.93it/s]\n"
     ]
    },
    {
     "name": "stdout",
     "output_type": "stream",
     "text": [
      "\n",
      "val: {'recall': 0.998026, 'recall_grapheme': 0.997105, 'recall_vowel': 0.998858, 'recall_consonant': 0.999036, 'acc_grapheme': 0.997108, 'acc_vowel': 0.998853, 'acc_consonant': 0.998878, 'loss_grapheme': 0.013852, 'loss_vowel': 0.006327, 'loss_consonant': 0.004486}\n",
      "   48 | 0.000033 | 160512/160735 | 0.0116 | 1.0071 |\n",
      "val: {'recall': 0.996157, 'recall_grapheme': 0.994453, 'recall_vowel': 0.997591, 'recall_consonant': 0.998132, 'acc_grapheme': 0.993891, 'acc_vowel': 0.997856, 'acc_consonant': 0.997756, 'loss_grapheme': 0.029007, 'loss_vowel': 0.013369, 'loss_consonant': 0.010172}\n",
      "   49 | 0.000031 | 160512/160735 | 1.2133 | 1.0999 |\n",
      "val: {'recall': 0.995586, 'recall_grapheme': 0.9934, 'recall_vowel': 0.997305, 'recall_consonant': 0.998241, 'acc_grapheme': 0.99242, 'acc_vowel': 0.997531, 'acc_consonant': 0.997656, 'loss_grapheme': 0.039671, 'loss_vowel': 0.019816, 'loss_consonant': 0.015232}\n",
      "   50 | 0.000029 | 160512/160735 | 1.6935 | 1.0624 |"
     ]
    },
    {
     "name": "stderr",
     "output_type": "stream",
     "text": [
      "\r",
      "  0%|          | 0/209 [00:00<?, ?it/s]"
     ]
    },
    {
     "name": "stdout",
     "output_type": "stream",
     "text": [
      "\n",
      "val: {'recall': 0.994877, 'recall_grapheme': 0.992176, 'recall_vowel': 0.997161, 'recall_consonant': 0.997996, 'acc_grapheme': 0.991722, 'acc_vowel': 0.997382, 'acc_consonant': 0.997207, 'loss_grapheme': 0.037076, 'loss_vowel': 0.014756, 'loss_consonant': 0.012375}\n",
      "SWA>>>:\n"
     ]
    },
    {
     "name": "stderr",
     "output_type": "stream",
     "text": [
      "100%|██████████| 209/209 [01:14<00:00,  2.96it/s]\n"
     ]
    },
    {
     "name": "stdout",
     "output_type": "stream",
     "text": [
      "\n",
      "val: {'recall': 0.998067, 'recall_grapheme': 0.997175, 'recall_vowel': 0.998882, 'recall_consonant': 0.999036, 'acc_grapheme': 0.997182, 'acc_vowel': 0.998903, 'acc_consonant': 0.998878, 'loss_grapheme': 0.013839, 'loss_vowel': 0.00636, 'loss_consonant': 0.00445}\n",
      "   51 | 0.000027 | 160512/160735 | 0.0029 | 1.0778 |\n",
      "val: {'recall': 0.995687, 'recall_grapheme': 0.993517, 'recall_vowel': 0.997267, 'recall_consonant': 0.998449, 'acc_grapheme': 0.992869, 'acc_vowel': 0.997606, 'acc_consonant': 0.997631, 'loss_grapheme': 0.035028, 'loss_vowel': 0.016105, 'loss_consonant': 0.012992}\n",
      "   52 | 0.000026 | 160512/160735 | 0.0010 | 1.1816 |\n",
      "val: {'recall': 0.995703, 'recall_grapheme': 0.99346, 'recall_vowel': 0.997523, 'recall_consonant': 0.998368, 'acc_grapheme': 0.992769, 'acc_vowel': 0.997507, 'acc_consonant': 0.997756, 'loss_grapheme': 0.030776, 'loss_vowel': 0.012213, 'loss_consonant': 0.009549}\n",
      "   53 | 0.000024 | 160512/160735 | 2.0505 | 1.0762 |"
     ]
    },
    {
     "name": "stderr",
     "output_type": "stream",
     "text": [
      "\r",
      "  0%|          | 0/209 [00:00<?, ?it/s]"
     ]
    },
    {
     "name": "stdout",
     "output_type": "stream",
     "text": [
      "\n",
      "val: {'recall': 0.994141, 'recall_grapheme': 0.990903, 'recall_vowel': 0.997052, 'recall_consonant': 0.997706, 'acc_grapheme': 0.989852, 'acc_vowel': 0.997182, 'acc_consonant': 0.996883, 'loss_grapheme': 0.043525, 'loss_vowel': 0.016241, 'loss_consonant': 0.013557}\n",
      "SWA>>>:\n"
     ]
    },
    {
     "name": "stderr",
     "output_type": "stream",
     "text": [
      "100%|██████████| 209/209 [01:14<00:00,  2.91it/s]\n"
     ]
    },
    {
     "name": "stdout",
     "output_type": "stream",
     "text": [
      "\n",
      "val: {'recall': 0.998145, 'recall_grapheme': 0.997352, 'recall_vowel': 0.998869, 'recall_consonant': 0.999005, 'acc_grapheme': 0.997207, 'acc_vowel': 0.998878, 'acc_consonant': 0.998853, 'loss_grapheme': 0.013758, 'loss_vowel': 0.006334, 'loss_consonant': 0.004478}\n",
      "###>>>>> saved ./models/se_resnext50_32x4d/model3_se_resnext50_fold4_224_cyclic.pth_swa\n",
      "   54 | 0.000022 | 160512/160735 | 2.1687 | 1.1014 |\n",
      "val: {'recall': 0.995004, 'recall_grapheme': 0.992264, 'recall_vowel': 0.997438, 'recall_consonant': 0.998049, 'acc_grapheme': 0.991472, 'acc_vowel': 0.997507, 'acc_consonant': 0.997332, 'loss_grapheme': 0.037678, 'loss_vowel': 0.015387, 'loss_consonant': 0.012588}\n",
      "   55 | 0.000021 | 160512/160735 | 0.0028 | 1.0706 |\n",
      "val: {'recall': 0.995975, 'recall_grapheme': 0.993985, 'recall_vowel': 0.997699, 'recall_consonant': 0.998229, 'acc_grapheme': 0.993367, 'acc_vowel': 0.997781, 'acc_consonant': 0.997756, 'loss_grapheme': 0.030951, 'loss_vowel': 0.01365, 'loss_consonant': 0.01044}\n",
      "   56 | 0.000019 | 160512/160735 | 0.0008 | 1.1053 |"
     ]
    },
    {
     "name": "stderr",
     "output_type": "stream",
     "text": [
      "\r",
      "  0%|          | 0/209 [00:00<?, ?it/s]"
     ]
    },
    {
     "name": "stdout",
     "output_type": "stream",
     "text": [
      "\n",
      "val: {'recall': 0.997177, 'recall_grapheme': 0.995853, 'recall_vowel': 0.998263, 'recall_consonant': 0.998738, 'acc_grapheme': 0.995487, 'acc_vowel': 0.99823, 'acc_consonant': 0.998304, 'loss_grapheme': 0.028467, 'loss_vowel': 0.016519, 'loss_consonant': 0.011859}\n",
      "SWA>>>:\n"
     ]
    },
    {
     "name": "stderr",
     "output_type": "stream",
     "text": [
      "100%|██████████| 209/209 [01:14<00:00,  2.88it/s]\n"
     ]
    },
    {
     "name": "stdout",
     "output_type": "stream",
     "text": [
      "\n",
      "val: {'recall': 0.998201, 'recall_grapheme': 0.997453, 'recall_vowel': 0.998829, 'recall_consonant': 0.999069, 'acc_grapheme': 0.997257, 'acc_vowel': 0.998828, 'acc_consonant': 0.998903, 'loss_grapheme': 0.013809, 'loss_vowel': 0.00635, 'loss_consonant': 0.004469}\n",
      "###>>>>> saved ./models/se_resnext50_32x4d/model3_se_resnext50_fold4_224_cyclic.pth_swa\n",
      "   57 | 0.000018 | 160512/160735 | 0.4174 | 1.2183 |\n",
      "val: {'recall': 0.99597, 'recall_grapheme': 0.993839, 'recall_vowel': 0.997871, 'recall_consonant': 0.998329, 'acc_grapheme': 0.993068, 'acc_vowel': 0.997856, 'acc_consonant': 0.997831, 'loss_grapheme': 0.039545, 'loss_vowel': 0.017346, 'loss_consonant': 0.014004}\n",
      "   58 | 0.000016 | 160512/160735 | 0.9629 | 1.0013 |\n",
      "val: {'recall': 0.995684, 'recall_grapheme': 0.993529, 'recall_vowel': 0.997578, 'recall_consonant': 0.9981, 'acc_grapheme': 0.992993, 'acc_vowel': 0.997681, 'acc_consonant': 0.997606, 'loss_grapheme': 0.033291, 'loss_vowel': 0.014069, 'loss_consonant': 0.010918}\n",
      "   59 | 0.000015 | 145152/160735 | 1.4049 | 1.0594 |"
     ]
    },
    {
     "name": "stderr",
     "output_type": "stream",
     "text": [
      "100%|██████████| 209/209 [01:14<00:00,  2.88it/s]\n"
     ]
    },
    {
     "name": "stdout",
     "output_type": "stream",
     "text": [
      "\n",
      "val: {'recall': 0.998204, 'recall_grapheme': 0.997479, 'recall_vowel': 0.998854, 'recall_consonant': 0.999005, 'acc_grapheme': 0.997307, 'acc_vowel': 0.998878, 'acc_consonant': 0.998853, 'loss_grapheme': 0.01379, 'loss_vowel': 0.006368, 'loss_consonant': 0.004483}\n",
      "###>>>>> saved ./models/se_resnext50_32x4d/model3_se_resnext50_fold4_224_cyclic.pth_swa\n",
      "   60 | 0.000013 | 160512/160735 | 2.4142 | 1.1105 |\n",
      "val: {'recall': 0.996269, 'recall_grapheme': 0.994207, 'recall_vowel': 0.998113, 'recall_consonant': 0.998547, 'acc_grapheme': 0.993891, 'acc_vowel': 0.998055, 'acc_consonant': 0.998055, 'loss_grapheme': 0.036256, 'loss_vowel': 0.018635, 'loss_consonant': 0.013446}\n",
      "   61 | 0.000012 | 160512/160735 | 0.0003 | 1.1644 |\n",
      "val: {'recall': 0.996482, 'recall_grapheme': 0.994759, 'recall_vowel': 0.997747, 'recall_consonant': 0.998665, 'acc_grapheme': 0.994016, 'acc_vowel': 0.99793, 'acc_consonant': 0.998205, 'loss_grapheme': 0.02791, 'loss_vowel': 0.011648, 'loss_consonant': 0.008918}\n",
      "   62 | 0.000011 | 160512/160735 | 0.7653 | 1.1273 |"
     ]
    },
    {
     "name": "stderr",
     "output_type": "stream",
     "text": [
      "\r",
      "  0%|          | 0/209 [00:00<?, ?it/s]"
     ]
    },
    {
     "name": "stdout",
     "output_type": "stream",
     "text": [
      "\n",
      "val: {'recall': 0.99608, 'recall_grapheme': 0.99417, 'recall_vowel': 0.997604, 'recall_consonant': 0.998378, 'acc_grapheme': 0.993367, 'acc_vowel': 0.997656, 'acc_consonant': 0.997905, 'loss_grapheme': 0.030298, 'loss_vowel': 0.012586, 'loss_consonant': 0.009886}\n",
      "SWA>>>:\n"
     ]
    },
    {
     "name": "stderr",
     "output_type": "stream",
     "text": [
      "100%|██████████| 209/209 [01:14<00:00,  2.92it/s]\n"
     ]
    },
    {
     "name": "stdout",
     "output_type": "stream",
     "text": [
      "\n",
      "val: {'recall': 0.998069, 'recall_grapheme': 0.997214, 'recall_vowel': 0.998843, 'recall_consonant': 0.999005, 'acc_grapheme': 0.997232, 'acc_vowel': 0.998853, 'acc_consonant': 0.998853, 'loss_grapheme': 0.013734, 'loss_vowel': 0.006334, 'loss_consonant': 0.004492}\n",
      "   63 | 0.000010 | 160512/160735 | 0.0036 | 0.8924 |\n",
      "val: {'recall': 0.996416, 'recall_grapheme': 0.994735, 'recall_vowel': 0.99771, 'recall_consonant': 0.998484, 'acc_grapheme': 0.99424, 'acc_vowel': 0.99798, 'acc_consonant': 0.998005, 'loss_grapheme': 0.030127, 'loss_vowel': 0.014922, 'loss_consonant': 0.011448}\n",
      "   64 | 0.000008 | 160512/160735 | 2.1921 | 1.1278 |\n",
      "val: {'recall': 0.995461, 'recall_grapheme': 0.993111, 'recall_vowel': 0.997412, 'recall_consonant': 0.998209, 'acc_grapheme': 0.992195, 'acc_vowel': 0.997556, 'acc_consonant': 0.997531, 'loss_grapheme': 0.035692, 'loss_vowel': 0.015815, 'loss_consonant': 0.012612}\n",
      "   65 | 0.000007 | 160512/160735 | 1.9245 | 1.0956 |"
     ]
    },
    {
     "name": "stderr",
     "output_type": "stream",
     "text": [
      "\r",
      "  0%|          | 0/209 [00:00<?, ?it/s]"
     ]
    },
    {
     "name": "stdout",
     "output_type": "stream",
     "text": [
      "\n",
      "val: {'recall': 0.995778, 'recall_grapheme': 0.993589, 'recall_vowel': 0.997608, 'recall_consonant': 0.998326, 'acc_grapheme': 0.992719, 'acc_vowel': 0.997706, 'acc_consonant': 0.997681, 'loss_grapheme': 0.035533, 'loss_vowel': 0.014773, 'loss_consonant': 0.011692}\n",
      "SWA>>>:\n"
     ]
    },
    {
     "name": "stderr",
     "output_type": "stream",
     "text": [
      "100%|██████████| 209/209 [01:14<00:00,  2.90it/s]\n"
     ]
    },
    {
     "name": "stdout",
     "output_type": "stream",
     "text": [
      "\n",
      "val: {'recall': 0.998194, 'recall_grapheme': 0.997455, 'recall_vowel': 0.998825, 'recall_consonant': 0.999039, 'acc_grapheme': 0.997257, 'acc_vowel': 0.998853, 'acc_consonant': 0.998878, 'loss_grapheme': 0.013707, 'loss_vowel': 0.006362, 'loss_consonant': 0.004451}\n",
      "   66 | 0.000006 | 160512/160735 | 1.4458 | 1.1228 |\n",
      "val: {'recall': 0.995528, 'recall_grapheme': 0.993234, 'recall_vowel': 0.997472, 'recall_consonant': 0.998173, 'acc_grapheme': 0.99237, 'acc_vowel': 0.997507, 'acc_consonant': 0.997581, 'loss_grapheme': 0.036199, 'loss_vowel': 0.016185, 'loss_consonant': 0.012612}\n",
      "   67 | 0.000005 | 160512/160735 | 0.0019 | 1.1565 |\n",
      "val: {'recall': 0.994659, 'recall_grapheme': 0.991742, 'recall_vowel': 0.997204, 'recall_consonant': 0.997949, 'acc_grapheme': 0.991173, 'acc_vowel': 0.997307, 'acc_consonant': 0.997232, 'loss_grapheme': 0.038582, 'loss_vowel': 0.015555, 'loss_consonant': 0.012559}\n",
      "   68 | 0.000005 | 160512/160735 | 1.1828 | 1.1384 |"
     ]
    },
    {
     "name": "stderr",
     "output_type": "stream",
     "text": [
      "\r",
      "  0%|          | 0/209 [00:00<?, ?it/s]"
     ]
    },
    {
     "name": "stdout",
     "output_type": "stream",
     "text": [
      "\n",
      "val: {'recall': 0.994257, 'recall_grapheme': 0.991394, 'recall_vowel': 0.997052, 'recall_consonant': 0.997189, 'acc_grapheme': 0.990799, 'acc_vowel': 0.997207, 'acc_consonant': 0.996883, 'loss_grapheme': 0.039216, 'loss_vowel': 0.014763, 'loss_consonant': 0.012241}\n",
      "SWA>>>:\n"
     ]
    },
    {
     "name": "stderr",
     "output_type": "stream",
     "text": [
      "100%|██████████| 209/209 [01:14<00:00,  2.92it/s]\n"
     ]
    },
    {
     "name": "stdout",
     "output_type": "stream",
     "text": [
      "\n",
      "val: {'recall': 0.998211, 'recall_grapheme': 0.997458, 'recall_vowel': 0.998854, 'recall_consonant': 0.999072, 'acc_grapheme': 0.997257, 'acc_vowel': 0.998878, 'acc_consonant': 0.998903, 'loss_grapheme': 0.013717, 'loss_vowel': 0.006342, 'loss_consonant': 0.004451}\n",
      "###>>>>> saved ./models/se_resnext50_32x4d/model3_se_resnext50_fold4_224_cyclic.pth_swa\n",
      "   69 | 0.000004 | 160512/160735 | 0.0008 | 1.2214 |\n",
      "val: {'recall': 0.995796, 'recall_grapheme': 0.99364, 'recall_vowel': 0.997578, 'recall_consonant': 0.998325, 'acc_grapheme': 0.992919, 'acc_vowel': 0.997631, 'acc_consonant': 0.997806, 'loss_grapheme': 0.033036, 'loss_vowel': 0.014105, 'loss_consonant': 0.010928}\n",
      "   70 | 0.000003 | 160512/160735 | 1.8160 | 1.1630 |\n",
      "val: {'recall': 0.994537, 'recall_grapheme': 0.991876, 'recall_vowel': 0.996937, 'recall_consonant': 0.997457, 'acc_grapheme': 0.990924, 'acc_vowel': 0.997307, 'acc_consonant': 0.997108, 'loss_grapheme': 0.039403, 'loss_vowel': 0.017554, 'loss_consonant': 0.014429}\n",
      "   71 | 0.000002 | 160512/160735 | 0.0083 | 1.2067 |"
     ]
    },
    {
     "name": "stderr",
     "output_type": "stream",
     "text": [
      "\r",
      "  0%|          | 0/209 [00:00<?, ?it/s]"
     ]
    },
    {
     "name": "stdout",
     "output_type": "stream",
     "text": [
      "\n",
      "val: {'recall': 0.995415, 'recall_grapheme': 0.993064, 'recall_vowel': 0.997348, 'recall_consonant': 0.998182, 'acc_grapheme': 0.992171, 'acc_vowel': 0.997556, 'acc_consonant': 0.997531, 'loss_grapheme': 0.033966, 'loss_vowel': 0.01406, 'loss_consonant': 0.011557}\n",
      "SWA>>>:\n"
     ]
    },
    {
     "name": "stderr",
     "output_type": "stream",
     "text": [
      "100%|██████████| 209/209 [01:14<00:00,  2.93it/s]\n"
     ]
    },
    {
     "name": "stdout",
     "output_type": "stream",
     "text": [
      "\n",
      "val: {'recall': 0.998223, 'recall_grapheme': 0.997497, 'recall_vowel': 0.998825, 'recall_consonant': 0.999072, 'acc_grapheme': 0.997307, 'acc_vowel': 0.998853, 'acc_consonant': 0.998903, 'loss_grapheme': 0.01374, 'loss_vowel': 0.006342, 'loss_consonant': 0.00447}\n",
      "###>>>>> saved ./models/se_resnext50_32x4d/model3_se_resnext50_fold4_224_cyclic.pth_swa\n",
      "   72 | 0.000002 | 160512/160735 | 0.0010 | 0.9747 |\n",
      "val: {'recall': 0.996373, 'recall_grapheme': 0.994728, 'recall_vowel': 0.997567, 'recall_consonant': 0.998467, 'acc_grapheme': 0.994315, 'acc_vowel': 0.997831, 'acc_consonant': 0.99798, 'loss_grapheme': 0.029528, 'loss_vowel': 0.014809, 'loss_consonant': 0.010996}\n",
      "   73 | 0.000001 | 160512/160735 | 3.3762 | 1.0596 |\n",
      "val: {'recall': 0.995645, 'recall_grapheme': 0.993651, 'recall_vowel': 0.997495, 'recall_consonant': 0.997783, 'acc_grapheme': 0.992694, 'acc_vowel': 0.997706, 'acc_consonant': 0.997581, 'loss_grapheme': 0.037226, 'loss_vowel': 0.017469, 'loss_consonant': 0.013823}\n",
      "   74 | 0.000001 | 160512/160735 | 0.0026 | 1.0800 |"
     ]
    },
    {
     "name": "stderr",
     "output_type": "stream",
     "text": [
      "\r",
      "  0%|          | 0/209 [00:00<?, ?it/s]"
     ]
    },
    {
     "name": "stdout",
     "output_type": "stream",
     "text": [
      "\n",
      "val: {'recall': 0.99682, 'recall_grapheme': 0.995235, 'recall_vowel': 0.998112, 'recall_consonant': 0.998699, 'acc_grapheme': 0.994839, 'acc_vowel': 0.99813, 'acc_consonant': 0.998354, 'loss_grapheme': 0.026003, 'loss_vowel': 0.011805, 'loss_consonant': 0.008698}\n",
      "SWA>>>:\n"
     ]
    },
    {
     "name": "stderr",
     "output_type": "stream",
     "text": [
      "100%|██████████| 209/209 [01:14<00:00,  2.88it/s]\n"
     ]
    },
    {
     "name": "stdout",
     "output_type": "stream",
     "text": [
      "\n",
      "val: {'recall': 0.998219, 'recall_grapheme': 0.99749, 'recall_vowel': 0.998825, 'recall_consonant': 0.999072, 'acc_grapheme': 0.997282, 'acc_vowel': 0.998853, 'acc_consonant': 0.998903, 'loss_grapheme': 0.013808, 'loss_vowel': 0.006382, 'loss_consonant': 0.004477}\n",
      "   75 | 0.000001 | 160512/160735 | 0.2298 | 0.9741 |\n",
      "val: {'recall': 0.996573, 'recall_grapheme': 0.994875, 'recall_vowel': 0.99794, 'recall_consonant': 0.998601, 'acc_grapheme': 0.994465, 'acc_vowel': 0.99798, 'acc_consonant': 0.99818, 'loss_grapheme': 0.026563, 'loss_vowel': 0.012175, 'loss_consonant': 0.008962}\n",
      "   76 | 0.000000 | 160512/160735 | 1.6107 | 1.1034 |\n",
      "val: {'recall': 0.99574, 'recall_grapheme': 0.993798, 'recall_vowel': 0.997621, 'recall_consonant': 0.997742, 'acc_grapheme': 0.993692, 'acc_vowel': 0.997781, 'acc_consonant': 0.997756, 'loss_grapheme': 0.031333, 'loss_vowel': 0.013864, 'loss_consonant': 0.010714}\n",
      "   77 | 0.000000 | 160512/160735 | 1.2940 | 1.1200 |"
     ]
    },
    {
     "name": "stderr",
     "output_type": "stream",
     "text": [
      "\r",
      "  0%|          | 0/209 [00:00<?, ?it/s]"
     ]
    },
    {
     "name": "stdout",
     "output_type": "stream",
     "text": [
      "\n",
      "val: {'recall': 0.99584, 'recall_grapheme': 0.993761, 'recall_vowel': 0.997616, 'recall_consonant': 0.998222, 'acc_grapheme': 0.993143, 'acc_vowel': 0.997631, 'acc_consonant': 0.997831, 'loss_grapheme': 0.030121, 'loss_vowel': 0.01224, 'loss_consonant': 0.00937}\n",
      "SWA>>>:\n"
     ]
    },
    {
     "name": "stderr",
     "output_type": "stream",
     "text": [
      "100%|██████████| 209/209 [01:14<00:00,  2.93it/s]\n"
     ]
    },
    {
     "name": "stdout",
     "output_type": "stream",
     "text": [
      "\n",
      "val: {'recall': 0.998216, 'recall_grapheme': 0.99749, 'recall_vowel': 0.998813, 'recall_consonant': 0.999072, 'acc_grapheme': 0.997332, 'acc_vowel': 0.998828, 'acc_consonant': 0.998903, 'loss_grapheme': 0.013727, 'loss_vowel': 0.006344, 'loss_consonant': 0.004455}\n",
      "   78 | 0.000000 | 160512/160735 | 2.5203 | 1.1118 |\n",
      "val: {'recall': 0.995836, 'recall_grapheme': 0.993645, 'recall_vowel': 0.997725, 'recall_consonant': 0.998329, 'acc_grapheme': 0.992894, 'acc_vowel': 0.997681, 'acc_consonant': 0.997831, 'loss_grapheme': 0.034379, 'loss_vowel': 0.01416, 'loss_consonant': 0.011075}\n",
      "   79 | 0.000000 | 160512/160735 | 1.9155 | 1.1510 |\n",
      "val: {'recall': 0.995592, 'recall_grapheme': 0.993423, 'recall_vowel': 0.997363, 'recall_consonant': 0.998161, 'acc_grapheme': 0.99232, 'acc_vowel': 0.997457, 'acc_consonant': 0.997656, 'loss_grapheme': 0.032979, 'loss_vowel': 0.012784, 'loss_consonant': 0.010009}\n",
      "CYCLE: 3\n",
      "    0 | 0.000020 | 160512/160735 | 1.8447 | 1.0822 |\n",
      "val: {'recall': 0.996336, 'recall_grapheme': 0.994351, 'recall_vowel': 0.998091, 'recall_consonant': 0.998549, 'acc_grapheme': 0.993592, 'acc_vowel': 0.99803, 'acc_consonant': 0.998055, 'loss_grapheme': 0.041098, 'loss_vowel': 0.02153, 'loss_consonant': 0.015051}\n",
      "    1 | 0.000040 | 160512/160735 | 1.6150 | 1.0489 |\n",
      "val: {'recall': 0.995664, 'recall_grapheme': 0.9936, 'recall_vowel': 0.99766, 'recall_consonant': 0.997796, 'acc_grapheme': 0.993193, 'acc_vowel': 0.997806, 'acc_consonant': 0.997756, 'loss_grapheme': 0.038768, 'loss_vowel': 0.017596, 'loss_consonant': 0.0133}\n",
      "    2 | 0.000060 | 160512/160735 | 1.6236 | 1.0769 |\n",
      "val: {'recall': 0.997093, 'recall_grapheme': 0.995712, 'recall_vowel': 0.998318, 'recall_consonant': 0.998633, 'acc_grapheme': 0.995138, 'acc_vowel': 0.998255, 'acc_consonant': 0.998304, 'loss_grapheme': 0.036066, 'loss_vowel': 0.020823, 'loss_consonant': 0.012995}\n",
      "    3 | 0.000079 | 160512/160735 | 0.0003 | 0.9541 |\n",
      "val: {'recall': 0.996586, 'recall_grapheme': 0.995161, 'recall_vowel': 0.997793, 'recall_consonant': 0.998231, 'acc_grapheme': 0.994863, 'acc_vowel': 0.998005, 'acc_consonant': 0.998304, 'loss_grapheme': 0.036922, 'loss_vowel': 0.021165, 'loss_consonant': 0.013309}\n",
      "    4 | 0.000099 | 160512/160735 | 1.8837 | 0.9659 |\n",
      "val: {'recall': 0.996285, 'recall_grapheme': 0.994366, 'recall_vowel': 0.997881, 'recall_consonant': 0.998528, 'acc_grapheme': 0.993941, 'acc_vowel': 0.997905, 'acc_consonant': 0.99798, 'loss_grapheme': 0.041846, 'loss_vowel': 0.023623, 'loss_consonant': 0.015321}\n",
      "    5 | 0.000099 | 160512/160735 | 1.0114 | 1.1873 |\n",
      "val: {'recall': 0.993501, 'recall_grapheme': 0.990409, 'recall_vowel': 0.996229, 'recall_consonant': 0.996957, 'acc_grapheme': 0.989478, 'acc_vowel': 0.996584, 'acc_consonant': 0.996734, 'loss_grapheme': 0.043943, 'loss_vowel': 0.016154, 'loss_consonant': 0.013673}\n",
      "    6 | 0.000098 | 160512/160735 | 0.0024 | 0.9225 |\n",
      "val: {'recall': 0.996257, 'recall_grapheme': 0.994768, 'recall_vowel': 0.997836, 'recall_consonant': 0.997658, 'acc_grapheme': 0.994066, 'acc_vowel': 0.99798, 'acc_consonant': 0.997631, 'loss_grapheme': 0.035506, 'loss_vowel': 0.017044, 'loss_consonant': 0.012427}\n",
      "    7 | 0.000098 | 160512/160735 | 1.1424 | 0.9638 |\n",
      "val: {'recall': 0.996756, 'recall_grapheme': 0.995269, 'recall_vowel': 0.998468, 'recall_consonant': 0.99802, 'acc_grapheme': 0.994938, 'acc_vowel': 0.998304, 'acc_consonant': 0.997955, 'loss_grapheme': 0.031476, 'loss_vowel': 0.01811, 'loss_consonant': 0.012444}\n",
      "    8 | 0.000097 | 160512/160735 | 1.7225 | 1.0516 |\n",
      "val: {'recall': 0.995345, 'recall_grapheme': 0.993255, 'recall_vowel': 0.997313, 'recall_consonant': 0.997556, 'acc_grapheme': 0.992819, 'acc_vowel': 0.997432, 'acc_consonant': 0.997382, 'loss_grapheme': 0.045535, 'loss_vowel': 0.026248, 'loss_consonant': 0.018035}\n",
      "    9 | 0.000096 | 160512/160735 | 1.2072 | 1.1727 |\n",
      "val: {'recall': 0.994227, 'recall_grapheme': 0.991412, 'recall_vowel': 0.996877, 'recall_consonant': 0.997209, 'acc_grapheme': 0.991123, 'acc_vowel': 0.997083, 'acc_consonant': 0.997232, 'loss_grapheme': 0.042873, 'loss_vowel': 0.017692, 'loss_consonant': 0.014173}\n",
      "   10 | 0.000095 | 160512/160735 | 0.0048 | 1.1644 |\n",
      "val: {'recall': 0.995972, 'recall_grapheme': 0.994249, 'recall_vowel': 0.99778, 'recall_consonant': 0.99761, 'acc_grapheme': 0.993467, 'acc_vowel': 0.997756, 'acc_consonant': 0.997756, 'loss_grapheme': 0.031475, 'loss_vowel': 0.013465, 'loss_consonant': 0.010869}\n",
      "   11 | 0.000095 | 160512/160735 | 1.4420 | 1.0304 |\n",
      "val: {'recall': 0.997183, 'recall_grapheme': 0.995745, 'recall_vowel': 0.998542, 'recall_consonant': 0.9987, 'acc_grapheme': 0.995312, 'acc_vowel': 0.99818, 'acc_consonant': 0.998429, 'loss_grapheme': 0.033195, 'loss_vowel': 0.020261, 'loss_consonant': 0.013695}\n",
      "   12 | 0.000094 | 160512/160735 | 2.0593 | 1.0361 |\n",
      "val: {'recall': 0.99462, 'recall_grapheme': 0.99179, 'recall_vowel': 0.997433, 'recall_consonant': 0.997467, 'acc_grapheme': 0.991472, 'acc_vowel': 0.997581, 'acc_consonant': 0.997307, 'loss_grapheme': 0.04254, 'loss_vowel': 0.018785, 'loss_consonant': 0.014548}\n",
      "   13 | 0.000093 | 160512/160735 | 0.9442 | 1.0577 |\n",
      "val: {'recall': 0.995553, 'recall_grapheme': 0.993576, 'recall_vowel': 0.997397, 'recall_consonant': 0.997665, 'acc_grapheme': 0.993193, 'acc_vowel': 0.997706, 'acc_consonant': 0.997507, 'loss_grapheme': 0.038565, 'loss_vowel': 0.018813, 'loss_consonant': 0.013723}\n",
      "   14 | 0.000092 | 160512/160735 | 1.6140 | 1.1422 |"
     ]
    },
    {
     "name": "stderr",
     "output_type": "stream",
     "text": [
      "\r",
      "  0%|          | 0/209 [00:00<?, ?it/s]"
     ]
    },
    {
     "name": "stdout",
     "output_type": "stream",
     "text": [
      "\n",
      "val: {'recall': 0.994688, 'recall_grapheme': 0.991965, 'recall_vowel': 0.997371, 'recall_consonant': 0.997452, 'acc_grapheme': 0.991348, 'acc_vowel': 0.997507, 'acc_consonant': 0.997357, 'loss_grapheme': 0.043628, 'loss_vowel': 0.020563, 'loss_consonant': 0.016033}\n",
      "SWA>>>:\n"
     ]
    },
    {
     "name": "stderr",
     "output_type": "stream",
     "text": [
      "100%|██████████| 209/209 [01:15<00:00,  2.79it/s]\n"
     ]
    },
    {
     "name": "stdout",
     "output_type": "stream",
     "text": [
      "\n",
      "val: {'recall': 0.9982, 'recall_grapheme': 0.997468, 'recall_vowel': 0.998825, 'recall_consonant': 0.999039, 'acc_grapheme': 0.997282, 'acc_vowel': 0.998853, 'acc_consonant': 0.998878, 'loss_grapheme': 0.013736, 'loss_vowel': 0.006343, 'loss_consonant': 0.004443}\n",
      "   15 | 0.000090 | 160512/160735 | 0.0020 | 1.1736 |\n",
      "val: {'recall': 0.994941, 'recall_grapheme': 0.992433, 'recall_vowel': 0.997246, 'recall_consonant': 0.997651, 'acc_grapheme': 0.991173, 'acc_vowel': 0.997531, 'acc_consonant': 0.997606, 'loss_grapheme': 0.040267, 'loss_vowel': 0.014344, 'loss_consonant': 0.012249}\n",
      "   16 | 0.000089 | 160512/160735 | 2.2182 | 1.0401 |\n",
      "val: {'recall': 0.995893, 'recall_grapheme': 0.994051, 'recall_vowel': 0.997543, 'recall_consonant': 0.997928, 'acc_grapheme': 0.993318, 'acc_vowel': 0.997631, 'acc_consonant': 0.997831, 'loss_grapheme': 0.035555, 'loss_vowel': 0.017668, 'loss_consonant': 0.012833}\n",
      "   17 | 0.000088 | 155904/160735 | 0.0016 | 1.1276 |\n",
      "val: {'recall': 0.998202, 'recall_grapheme': 0.997473, 'recall_vowel': 0.998825, 'recall_consonant': 0.999039, 'acc_grapheme': 0.997282, 'acc_vowel': 0.998853, 'acc_consonant': 0.998878, 'loss_grapheme': 0.013724, 'loss_vowel': 0.006398, 'loss_consonant': 0.004473}\n",
      "   18 | 0.000087 | 160512/160735 | 1.4632 | 1.0437 |\n",
      "val: {'recall': 0.9949, 'recall_grapheme': 0.992523, 'recall_vowel': 0.997333, 'recall_consonant': 0.997222, 'acc_grapheme': 0.991996, 'acc_vowel': 0.997382, 'acc_consonant': 0.997207, 'loss_grapheme': 0.035816, 'loss_vowel': 0.013619, 'loss_consonant': 0.011933}\n",
      "   19 | 0.000085 | 160512/160735 | 0.0019 | 1.1436 |\n",
      "val: {'recall': 0.99607, 'recall_grapheme': 0.993896, 'recall_vowel': 0.997943, 'recall_consonant': 0.998546, 'acc_grapheme': 0.993667, 'acc_vowel': 0.997905, 'acc_consonant': 0.99798, 'loss_grapheme': 0.033708, 'loss_vowel': 0.017678, 'loss_consonant': 0.012849}\n",
      "   20 | 0.000084 | 160512/160735 | 0.0063 | 1.1706 |"
     ]
    },
    {
     "name": "stderr",
     "output_type": "stream",
     "text": [
      "\r",
      "  0%|          | 0/209 [00:00<?, ?it/s]"
     ]
    },
    {
     "name": "stdout",
     "output_type": "stream",
     "text": [
      "\n",
      "val: {'recall': 0.995679, 'recall_grapheme': 0.993695, 'recall_vowel': 0.997648, 'recall_consonant': 0.997679, 'acc_grapheme': 0.992694, 'acc_vowel': 0.997556, 'acc_consonant': 0.997781, 'loss_grapheme': 0.034344, 'loss_vowel': 0.014902, 'loss_consonant': 0.011874}\n",
      "SWA>>>:\n"
     ]
    },
    {
     "name": "stderr",
     "output_type": "stream",
     "text": [
      "100%|██████████| 209/209 [01:14<00:00,  2.93it/s]\n"
     ]
    },
    {
     "name": "stdout",
     "output_type": "stream",
     "text": [
      "\n",
      "val: {'recall': 0.998208, 'recall_grapheme': 0.997505, 'recall_vowel': 0.998813, 'recall_consonant': 0.999008, 'acc_grapheme': 0.997332, 'acc_vowel': 0.998828, 'acc_consonant': 0.998853, 'loss_grapheme': 0.013725, 'loss_vowel': 0.006385, 'loss_consonant': 0.004465}\n",
      "   21 | 0.000082 | 160512/160735 | 0.0007 | 1.0926 |\n",
      "val: {'recall': 0.995092, 'recall_grapheme': 0.992655, 'recall_vowel': 0.997553, 'recall_consonant': 0.997507, 'acc_grapheme': 0.992769, 'acc_vowel': 0.997606, 'acc_consonant': 0.997581, 'loss_grapheme': 0.034667, 'loss_vowel': 0.014837, 'loss_consonant': 0.011772}\n",
      "   22 | 0.000081 | 160512/160735 | 0.0110 | 1.1543 |\n",
      "val: {'recall': 0.994351, 'recall_grapheme': 0.992019, 'recall_vowel': 0.997125, 'recall_consonant': 0.996241, 'acc_grapheme': 0.991572, 'acc_vowel': 0.997357, 'acc_consonant': 0.997357, 'loss_grapheme': 0.040947, 'loss_vowel': 0.01702, 'loss_consonant': 0.014253}\n",
      "   23 | 0.000079 | 160512/160735 | 1.1905 | 1.1275 |"
     ]
    },
    {
     "name": "stderr",
     "output_type": "stream",
     "text": [
      "\r",
      "  0%|          | 0/209 [00:00<?, ?it/s]"
     ]
    },
    {
     "name": "stdout",
     "output_type": "stream",
     "text": [
      "\n",
      "val: {'recall': 0.994553, 'recall_grapheme': 0.991801, 'recall_vowel': 0.997215, 'recall_consonant': 0.997396, 'acc_grapheme': 0.991622, 'acc_vowel': 0.997507, 'acc_consonant': 0.997157, 'loss_grapheme': 0.044741, 'loss_vowel': 0.01957, 'loss_consonant': 0.016078}\n",
      "SWA>>>:\n"
     ]
    },
    {
     "name": "stderr",
     "output_type": "stream",
     "text": [
      "100%|██████████| 209/209 [01:14<00:00,  2.90it/s]\n"
     ]
    },
    {
     "name": "stdout",
     "output_type": "stream",
     "text": [
      "\n",
      "val: {'recall': 0.998242, 'recall_grapheme': 0.997513, 'recall_vowel': 0.998966, 'recall_consonant': 0.998975, 'acc_grapheme': 0.997332, 'acc_vowel': 0.998878, 'acc_consonant': 0.998828, 'loss_grapheme': 0.013686, 'loss_vowel': 0.006359, 'loss_consonant': 0.00446}\n",
      "###>>>>> saved ./models/se_resnext50_32x4d/model3_se_resnext50_fold4_224_cyclic.pth_swa\n",
      "   24 | 0.000078 | 160512/160735 | 0.0029 | 1.0939 |\n",
      "val: {'recall': 0.996499, 'recall_grapheme': 0.994684, 'recall_vowel': 0.998185, 'recall_consonant': 0.998443, 'acc_grapheme': 0.99419, 'acc_vowel': 0.998155, 'acc_consonant': 0.99803, 'loss_grapheme': 0.032521, 'loss_vowel': 0.016062, 'loss_consonant': 0.011891}\n",
      "   25 | 0.000076 | 160512/160735 | 0.9580 | 1.0734 |\n",
      "val: {'recall': 0.995737, 'recall_grapheme': 0.993349, 'recall_vowel': 0.998036, 'recall_consonant': 0.998214, 'acc_grapheme': 0.992769, 'acc_vowel': 0.997955, 'acc_consonant': 0.997856, 'loss_grapheme': 0.043824, 'loss_vowel': 0.022989, 'loss_consonant': 0.016314}\n",
      "   26 | 0.000074 | 160512/160735 | 1.6624 | 1.1984 |"
     ]
    },
    {
     "name": "stderr",
     "output_type": "stream",
     "text": [
      "\r",
      "  0%|          | 0/209 [00:00<?, ?it/s]"
     ]
    },
    {
     "name": "stdout",
     "output_type": "stream",
     "text": [
      "\n",
      "val: {'recall': 0.995732, 'recall_grapheme': 0.993419, 'recall_vowel': 0.99771, 'recall_consonant': 0.998378, 'acc_grapheme': 0.992545, 'acc_vowel': 0.99798, 'acc_consonant': 0.997656, 'loss_grapheme': 0.041422, 'loss_vowel': 0.021995, 'loss_consonant': 0.015923}\n",
      "SWA>>>:\n"
     ]
    },
    {
     "name": "stderr",
     "output_type": "stream",
     "text": [
      "100%|██████████| 209/209 [01:14<00:00,  2.80it/s]\n"
     ]
    },
    {
     "name": "stdout",
     "output_type": "stream",
     "text": [
      "\n",
      "val: {'recall': 0.998246, 'recall_grapheme': 0.997505, 'recall_vowel': 0.998966, 'recall_consonant': 0.999008, 'acc_grapheme': 0.997332, 'acc_vowel': 0.998878, 'acc_consonant': 0.998853, 'loss_grapheme': 0.013724, 'loss_vowel': 0.006382, 'loss_consonant': 0.004471}\n",
      "###>>>>> saved ./models/se_resnext50_32x4d/model3_se_resnext50_fold4_224_cyclic.pth_swa\n",
      "   27 | 0.000073 | 160512/160735 | 2.0993 | 1.0757 |\n",
      "val: {'recall': 0.997047, 'recall_grapheme': 0.995445, 'recall_vowel': 0.99847, 'recall_consonant': 0.99883, 'acc_grapheme': 0.995063, 'acc_vowel': 0.998329, 'acc_consonant': 0.998404, 'loss_grapheme': 0.030909, 'loss_vowel': 0.017127, 'loss_consonant': 0.011605}\n",
      "   28 | 0.000071 | 160512/160735 | 0.0010 | 1.0008 |\n",
      "val: {'recall': 0.99646, 'recall_grapheme': 0.994538, 'recall_vowel': 0.998163, 'recall_consonant': 0.998602, 'acc_grapheme': 0.994115, 'acc_vowel': 0.99818, 'acc_consonant': 0.99823, 'loss_grapheme': 0.028823, 'loss_vowel': 0.01293, 'loss_consonant': 0.009707}\n",
      "   29 | 0.000069 | 160512/160735 | 0.0053 | 1.1799 |"
     ]
    },
    {
     "name": "stderr",
     "output_type": "stream",
     "text": [
      "\r",
      "  0%|          | 0/209 [00:00<?, ?it/s]"
     ]
    },
    {
     "name": "stdout",
     "output_type": "stream",
     "text": [
      "\n",
      "val: {'recall': 0.995136, 'recall_grapheme': 0.992666, 'recall_vowel': 0.997034, 'recall_consonant': 0.998177, 'acc_grapheme': 0.991672, 'acc_vowel': 0.997332, 'acc_consonant': 0.997556, 'loss_grapheme': 0.037814, 'loss_vowel': 0.014225, 'loss_consonant': 0.011542}\n",
      "SWA>>>:\n"
     ]
    },
    {
     "name": "stderr",
     "output_type": "stream",
     "text": [
      "100%|██████████| 209/209 [01:14<00:00,  2.87it/s]\n"
     ]
    },
    {
     "name": "stdout",
     "output_type": "stream",
     "text": [
      "\n",
      "val: {'recall': 0.998248, 'recall_grapheme': 0.997509, 'recall_vowel': 0.998966, 'recall_consonant': 0.999008, 'acc_grapheme': 0.997332, 'acc_vowel': 0.998878, 'acc_consonant': 0.998853, 'loss_grapheme': 0.013688, 'loss_vowel': 0.006382, 'loss_consonant': 0.004463}\n",
      "###>>>>> saved ./models/se_resnext50_32x4d/model3_se_resnext50_fold4_224_cyclic.pth_swa\n",
      "   30 | 0.000067 | 160512/160735 | 1.7305 | 1.0711 |\n",
      "val: {'recall': 0.995872, 'recall_grapheme': 0.993807, 'recall_vowel': 0.997644, 'recall_consonant': 0.998231, 'acc_grapheme': 0.993143, 'acc_vowel': 0.997656, 'acc_consonant': 0.997731, 'loss_grapheme': 0.032936, 'loss_vowel': 0.013254, 'loss_consonant': 0.010152}\n",
      "   31 | 0.000065 | 160512/160735 | 0.0018 | 1.1640 |\n",
      "val: {'recall': 0.996389, 'recall_grapheme': 0.994585, 'recall_vowel': 0.997771, 'recall_consonant': 0.998616, 'acc_grapheme': 0.994415, 'acc_vowel': 0.997881, 'acc_consonant': 0.99828, 'loss_grapheme': 0.030244, 'loss_vowel': 0.014652, 'loss_consonant': 0.010216}\n",
      "   32 | 0.000064 | 160512/160735 | 1.4933 | 1.2234 |"
     ]
    },
    {
     "name": "stderr",
     "output_type": "stream",
     "text": [
      "\r",
      "  0%|          | 0/209 [00:00<?, ?it/s]"
     ]
    },
    {
     "name": "stdout",
     "output_type": "stream",
     "text": [
      "\n",
      "val: {'recall': 0.994393, 'recall_grapheme': 0.991579, 'recall_vowel': 0.996767, 'recall_consonant': 0.997645, 'acc_grapheme': 0.990475, 'acc_vowel': 0.997033, 'acc_consonant': 0.996958, 'loss_grapheme': 0.042227, 'loss_vowel': 0.015198, 'loss_consonant': 0.012513}\n",
      "SWA>>>:\n"
     ]
    },
    {
     "name": "stderr",
     "output_type": "stream",
     "text": [
      "100%|██████████| 209/209 [01:14<00:00,  2.96it/s]\n"
     ]
    },
    {
     "name": "stdout",
     "output_type": "stream",
     "text": [
      "\n",
      "val: {'recall': 0.99821, 'recall_grapheme': 0.997451, 'recall_vowel': 0.998953, 'recall_consonant': 0.998986, 'acc_grapheme': 0.997332, 'acc_vowel': 0.998853, 'acc_consonant': 0.998878, 'loss_grapheme': 0.013687, 'loss_vowel': 0.006393, 'loss_consonant': 0.004455}\n",
      "   33 | 0.000062 | 160512/160735 | 1.7661 | 1.1071 |\n",
      "val: {'recall': 0.996462, 'recall_grapheme': 0.994548, 'recall_vowel': 0.998262, 'recall_consonant': 0.998492, 'acc_grapheme': 0.993966, 'acc_vowel': 0.998105, 'acc_consonant': 0.99808, 'loss_grapheme': 0.031564, 'loss_vowel': 0.015054, 'loss_consonant': 0.010568}\n",
      "   34 | 0.000060 | 160512/160735 | 2.7679 | 1.0854 |\n",
      "val: {'recall': 0.995556, 'recall_grapheme': 0.993464, 'recall_vowel': 0.997397, 'recall_consonant': 0.997899, 'acc_grapheme': 0.992719, 'acc_vowel': 0.997606, 'acc_consonant': 0.997407, 'loss_grapheme': 0.034341, 'loss_vowel': 0.014979, 'loss_consonant': 0.011441}\n",
      "   35 | 0.000058 | 160512/160735 | 0.0005 | 1.2189 |"
     ]
    },
    {
     "name": "stderr",
     "output_type": "stream",
     "text": [
      "\r",
      "  0%|          | 0/209 [00:00<?, ?it/s]"
     ]
    },
    {
     "name": "stdout",
     "output_type": "stream",
     "text": [
      "\n",
      "val: {'recall': 0.996129, 'recall_grapheme': 0.994354, 'recall_vowel': 0.997791, 'recall_consonant': 0.998015, 'acc_grapheme': 0.993841, 'acc_vowel': 0.997806, 'acc_consonant': 0.997681, 'loss_grapheme': 0.036502, 'loss_vowel': 0.016673, 'loss_consonant': 0.012322}\n",
      "SWA>>>:\n"
     ]
    },
    {
     "name": "stderr",
     "output_type": "stream",
     "text": [
      "100%|██████████| 209/209 [01:14<00:00,  2.73it/s]\n"
     ]
    },
    {
     "name": "stdout",
     "output_type": "stream",
     "text": [
      "\n",
      "val: {'recall': 0.998255, 'recall_grapheme': 0.997518, 'recall_vowel': 0.998966, 'recall_consonant': 0.99902, 'acc_grapheme': 0.997357, 'acc_vowel': 0.998878, 'acc_consonant': 0.998903, 'loss_grapheme': 0.013669, 'loss_vowel': 0.006392, 'loss_consonant': 0.004435}\n",
      "###>>>>> saved ./models/se_resnext50_32x4d/model3_se_resnext50_fold4_224_cyclic.pth_swa\n",
      "   36 | 0.000056 | 160512/160735 | 0.0007 | 1.0659 |\n",
      "val: {'recall': 0.995094, 'recall_grapheme': 0.992699, 'recall_vowel': 0.99726, 'recall_consonant': 0.997717, 'acc_grapheme': 0.991921, 'acc_vowel': 0.997507, 'acc_consonant': 0.997581, 'loss_grapheme': 0.035197, 'loss_vowel': 0.013633, 'loss_consonant': 0.010854}\n",
      "   37 | 0.000054 | 160512/160735 | 2.0396 | 1.0921 |\n",
      "val: {'recall': 0.996467, 'recall_grapheme': 0.994668, 'recall_vowel': 0.998143, 'recall_consonant': 0.99839, 'acc_grapheme': 0.993966, 'acc_vowel': 0.99818, 'acc_consonant': 0.998005, 'loss_grapheme': 0.038593, 'loss_vowel': 0.019248, 'loss_consonant': 0.01432}\n",
      "   38 | 0.000052 | 160512/160735 | 1.8559 | 1.0797 |"
     ]
    },
    {
     "name": "stderr",
     "output_type": "stream",
     "text": [
      "\r",
      "  0%|          | 0/209 [00:00<?, ?it/s]"
     ]
    },
    {
     "name": "stdout",
     "output_type": "stream",
     "text": [
      "\n",
      "val: {'recall': 0.995271, 'recall_grapheme': 0.992925, 'recall_vowel': 0.997615, 'recall_consonant': 0.99762, 'acc_grapheme': 0.991747, 'acc_vowel': 0.997781, 'acc_consonant': 0.997157, 'loss_grapheme': 0.035799, 'loss_vowel': 0.012908, 'loss_consonant': 0.010738}\n",
      "SWA>>>:\n"
     ]
    },
    {
     "name": "stderr",
     "output_type": "stream",
     "text": [
      "100%|██████████| 209/209 [01:14<00:00,  2.92it/s]\n"
     ]
    },
    {
     "name": "stdout",
     "output_type": "stream",
     "text": [
      "\n",
      "val: {'recall': 0.998244, 'recall_grapheme': 0.997509, 'recall_vowel': 0.998941, 'recall_consonant': 0.99902, 'acc_grapheme': 0.997332, 'acc_vowel': 0.998828, 'acc_consonant': 0.998903, 'loss_grapheme': 0.013649, 'loss_vowel': 0.006365, 'loss_consonant': 0.004438}\n",
      "   39 | 0.000050 | 160512/160735 | 1.7992 | 1.2157 |\n",
      "val: {'recall': 0.992597, 'recall_grapheme': 0.989241, 'recall_vowel': 0.996629, 'recall_consonant': 0.995276, 'acc_grapheme': 0.988281, 'acc_vowel': 0.996933, 'acc_consonant': 0.99611, 'loss_grapheme': 0.053469, 'loss_vowel': 0.019847, 'loss_consonant': 0.017775}\n",
      "   40 | 0.000048 | 160512/160735 | 0.0031 | 1.1165 |\n",
      "val: {'recall': 0.996399, 'recall_grapheme': 0.994558, 'recall_vowel': 0.998079, 'recall_consonant': 0.998402, 'acc_grapheme': 0.99419, 'acc_vowel': 0.99798, 'acc_consonant': 0.998105, 'loss_grapheme': 0.035416, 'loss_vowel': 0.018812, 'loss_consonant': 0.013}\n",
      "   41 | 0.000046 | 160512/160735 | 0.0022 | 0.9900 |"
     ]
    },
    {
     "name": "stderr",
     "output_type": "stream",
     "text": [
      "\r",
      "  0%|          | 0/209 [00:00<?, ?it/s]"
     ]
    },
    {
     "name": "stdout",
     "output_type": "stream",
     "text": [
      "\n",
      "val: {'recall': 0.996347, 'recall_grapheme': 0.994519, 'recall_vowel': 0.997988, 'recall_consonant': 0.998363, 'acc_grapheme': 0.993791, 'acc_vowel': 0.997881, 'acc_consonant': 0.99798, 'loss_grapheme': 0.032694, 'loss_vowel': 0.014276, 'loss_consonant': 0.010733}\n",
      "SWA>>>:\n"
     ]
    },
    {
     "name": "stderr",
     "output_type": "stream",
     "text": [
      "100%|██████████| 209/209 [01:14<00:00,  2.89it/s]\n"
     ]
    },
    {
     "name": "stdout",
     "output_type": "stream",
     "text": [
      "\n",
      "val: {'recall': 0.998246, 'recall_grapheme': 0.997509, 'recall_vowel': 0.998953, 'recall_consonant': 0.999014, 'acc_grapheme': 0.997332, 'acc_vowel': 0.998853, 'acc_consonant': 0.998878, 'loss_grapheme': 0.013633, 'loss_vowel': 0.006382, 'loss_consonant': 0.004452}\n",
      "   42 | 0.000044 | 160512/160735 | 0.0005 | 1.1498 |\n",
      "val: {'recall': 0.997063, 'recall_grapheme': 0.995746, 'recall_vowel': 0.99815, 'recall_consonant': 0.998612, 'acc_grapheme': 0.995188, 'acc_vowel': 0.99818, 'acc_consonant': 0.998205, 'loss_grapheme': 0.026373, 'loss_vowel': 0.013362, 'loss_consonant': 0.009617}\n",
      "   43 | 0.000042 | 160512/160735 | 0.7393 | 1.1172 |\n",
      "val: {'recall': 0.996335, 'recall_grapheme': 0.994585, 'recall_vowel': 0.998067, 'recall_consonant': 0.998103, 'acc_grapheme': 0.993791, 'acc_vowel': 0.998055, 'acc_consonant': 0.997831, 'loss_grapheme': 0.029982, 'loss_vowel': 0.01204, 'loss_consonant': 0.009578}\n",
      "   44 | 0.000040 | 160512/160735 | 0.0015 | 1.0660 |"
     ]
    },
    {
     "name": "stderr",
     "output_type": "stream",
     "text": [
      "\r",
      "  0%|          | 0/209 [00:00<?, ?it/s]"
     ]
    },
    {
     "name": "stdout",
     "output_type": "stream",
     "text": [
      "\n",
      "val: {'recall': 0.99644, 'recall_grapheme': 0.994603, 'recall_vowel': 0.997948, 'recall_consonant': 0.998605, 'acc_grapheme': 0.994016, 'acc_vowel': 0.99798, 'acc_consonant': 0.99808, 'loss_grapheme': 0.031304, 'loss_vowel': 0.015404, 'loss_consonant': 0.010986}\n",
      "SWA>>>:\n"
     ]
    },
    {
     "name": "stderr",
     "output_type": "stream",
     "text": [
      "100%|██████████| 209/209 [01:14<00:00,  2.80it/s]\n"
     ]
    },
    {
     "name": "stdout",
     "output_type": "stream",
     "text": [
      "\n",
      "val: {'recall': 0.998292, 'recall_grapheme': 0.997602, 'recall_vowel': 0.998941, 'recall_consonant': 0.999025, 'acc_grapheme': 0.997332, 'acc_vowel': 0.998828, 'acc_consonant': 0.998928, 'loss_grapheme': 0.01364, 'loss_vowel': 0.006376, 'loss_consonant': 0.004455}\n",
      "###>>>>> saved ./models/se_resnext50_32x4d/model3_se_resnext50_fold4_224_cyclic.pth_swa\n",
      "   45 | 0.000038 | 160512/160735 | 0.9783 | 1.1795 |\n",
      "val: {'recall': 0.99275, 'recall_grapheme': 0.989699, 'recall_vowel': 0.996124, 'recall_consonant': 0.995477, 'acc_grapheme': 0.987932, 'acc_vowel': 0.996434, 'acc_consonant': 0.99606, 'loss_grapheme': 0.050525, 'loss_vowel': 0.017017, 'loss_consonant': 0.013952}\n",
      "   46 | 0.000036 | 160512/160735 | 0.0003 | 1.0772 |\n",
      "val: {'recall': 0.996264, 'recall_grapheme': 0.994357, 'recall_vowel': 0.997857, 'recall_consonant': 0.998484, 'acc_grapheme': 0.993991, 'acc_vowel': 0.997955, 'acc_consonant': 0.998055, 'loss_grapheme': 0.030977, 'loss_vowel': 0.015739, 'loss_consonant': 0.010785}\n",
      "   47 | 0.000035 | 160512/160735 | 1.9674 | 1.1464 |"
     ]
    },
    {
     "name": "stderr",
     "output_type": "stream",
     "text": [
      "\r",
      "  0%|          | 0/209 [00:00<?, ?it/s]"
     ]
    },
    {
     "name": "stdout",
     "output_type": "stream",
     "text": [
      "\n",
      "val: {'recall': 0.995208, 'recall_grapheme': 0.99267, 'recall_vowel': 0.997431, 'recall_consonant': 0.99806, 'acc_grapheme': 0.992121, 'acc_vowel': 0.997482, 'acc_consonant': 0.997606, 'loss_grapheme': 0.037704, 'loss_vowel': 0.013988, 'loss_consonant': 0.011148}\n",
      "SWA>>>:\n"
     ]
    },
    {
     "name": "stderr",
     "output_type": "stream",
     "text": [
      "100%|██████████| 209/209 [01:14<00:00,  2.93it/s]\n"
     ]
    },
    {
     "name": "stdout",
     "output_type": "stream",
     "text": [
      "\n",
      "val: {'recall': 0.998271, 'recall_grapheme': 0.997559, 'recall_vowel': 0.998953, 'recall_consonant': 0.999014, 'acc_grapheme': 0.997357, 'acc_vowel': 0.998853, 'acc_consonant': 0.998878, 'loss_grapheme': 0.013644, 'loss_vowel': 0.006381, 'loss_consonant': 0.004449}\n",
      "   48 | 0.000033 | 160512/160735 | 1.8306 | 1.1114 |\n",
      "val: {'recall': 0.995802, 'recall_grapheme': 0.993743, 'recall_vowel': 0.997563, 'recall_consonant': 0.998157, 'acc_grapheme': 0.993118, 'acc_vowel': 0.997731, 'acc_consonant': 0.997681, 'loss_grapheme': 0.035322, 'loss_vowel': 0.015472, 'loss_consonant': 0.011579}\n",
      "   49 | 0.000031 | 160512/160735 | 0.0007 | 1.1255 |\n",
      "val: {'recall': 0.99637, 'recall_grapheme': 0.994639, 'recall_vowel': 0.997861, 'recall_consonant': 0.998339, 'acc_grapheme': 0.994265, 'acc_vowel': 0.99798, 'acc_consonant': 0.99793, 'loss_grapheme': 0.040509, 'loss_vowel': 0.024645, 'loss_consonant': 0.016978}\n",
      "   50 | 0.000029 | 160512/160735 | 1.5793 | 1.1122 |"
     ]
    },
    {
     "name": "stderr",
     "output_type": "stream",
     "text": [
      "\r",
      "  0%|          | 0/209 [00:00<?, ?it/s]"
     ]
    },
    {
     "name": "stdout",
     "output_type": "stream",
     "text": [
      "\n",
      "val: {'recall': 0.994982, 'recall_grapheme': 0.993091, 'recall_vowel': 0.997091, 'recall_consonant': 0.996656, 'acc_grapheme': 0.992071, 'acc_vowel': 0.997332, 'acc_consonant': 0.997257, 'loss_grapheme': 0.039249, 'loss_vowel': 0.016204, 'loss_consonant': 0.013314}\n",
      "SWA>>>:\n"
     ]
    },
    {
     "name": "stderr",
     "output_type": "stream",
     "text": [
      "100%|██████████| 209/209 [01:14<00:00,  2.92it/s]\n"
     ]
    },
    {
     "name": "stdout",
     "output_type": "stream",
     "text": [
      "\n",
      "val: {'recall': 0.998273, 'recall_grapheme': 0.997553, 'recall_vowel': 0.998966, 'recall_consonant': 0.99902, 'acc_grapheme': 0.997332, 'acc_vowel': 0.998878, 'acc_consonant': 0.998903, 'loss_grapheme': 0.013668, 'loss_vowel': 0.006394, 'loss_consonant': 0.004453}\n",
      "   51 | 0.000027 | 160512/160735 | 1.7587 | 1.1561 |\n",
      "val: {'recall': 0.995158, 'recall_grapheme': 0.992425, 'recall_vowel': 0.997471, 'recall_consonant': 0.998313, 'acc_grapheme': 0.99222, 'acc_vowel': 0.997482, 'acc_consonant': 0.997656, 'loss_grapheme': 0.034862, 'loss_vowel': 0.014258, 'loss_consonant': 0.011276}\n",
      "   52 | 0.000026 | 160512/160735 | 1.6772 | 1.1610 |\n",
      "val: {'recall': 0.995512, 'recall_grapheme': 0.993114, 'recall_vowel': 0.997603, 'recall_consonant': 0.998218, 'acc_grapheme': 0.992694, 'acc_vowel': 0.997606, 'acc_consonant': 0.997681, 'loss_grapheme': 0.034091, 'loss_vowel': 0.013828, 'loss_consonant': 0.010683}\n",
      "   53 | 0.000024 | 160512/160735 | 1.7167 | 1.0910 |"
     ]
    },
    {
     "name": "stderr",
     "output_type": "stream",
     "text": [
      "\r",
      "  0%|          | 0/209 [00:00<?, ?it/s]"
     ]
    },
    {
     "name": "stdout",
     "output_type": "stream",
     "text": [
      "\n",
      "val: {'recall': 0.996292, 'recall_grapheme': 0.994288, 'recall_vowel': 0.998007, 'recall_consonant': 0.998588, 'acc_grapheme': 0.993766, 'acc_vowel': 0.997955, 'acc_consonant': 0.99813, 'loss_grapheme': 0.03027, 'loss_vowel': 0.01332, 'loss_consonant': 0.009872}\n",
      "SWA>>>:\n"
     ]
    },
    {
     "name": "stderr",
     "output_type": "stream",
     "text": [
      "100%|██████████| 209/209 [01:14<00:00,  2.89it/s]\n"
     ]
    },
    {
     "name": "stdout",
     "output_type": "stream",
     "text": [
      "\n",
      "val: {'recall': 0.998219, 'recall_grapheme': 0.99746, 'recall_vowel': 0.998941, 'recall_consonant': 0.999014, 'acc_grapheme': 0.997332, 'acc_vowel': 0.998828, 'acc_consonant': 0.998878, 'loss_grapheme': 0.013643, 'loss_vowel': 0.006375, 'loss_consonant': 0.004504}\n",
      "   54 | 0.000022 | 160512/160735 | 0.0019 | 1.0981 |\n",
      "val: {'recall': 0.996171, 'recall_grapheme': 0.99422, 'recall_vowel': 0.997823, 'recall_consonant': 0.99842, 'acc_grapheme': 0.993617, 'acc_vowel': 0.997905, 'acc_consonant': 0.99803, 'loss_grapheme': 0.030853, 'loss_vowel': 0.013598, 'loss_consonant': 0.00995}\n",
      "   55 | 0.000021 | 160512/160735 | 0.3613 | 1.0407 |\n",
      "val: {'recall': 0.995337, 'recall_grapheme': 0.993079, 'recall_vowel': 0.997193, 'recall_consonant': 0.997997, 'acc_grapheme': 0.991846, 'acc_vowel': 0.997531, 'acc_consonant': 0.997457, 'loss_grapheme': 0.039447, 'loss_vowel': 0.016579, 'loss_consonant': 0.012884}\n",
      "   56 | 0.000019 | 160512/160735 | 0.0008 | 0.9598 |"
     ]
    },
    {
     "name": "stderr",
     "output_type": "stream",
     "text": [
      "\r",
      "  0%|          | 0/209 [00:00<?, ?it/s]"
     ]
    },
    {
     "name": "stdout",
     "output_type": "stream",
     "text": [
      "\n",
      "val: {'recall': 0.996811, 'recall_grapheme': 0.995161, 'recall_vowel': 0.99831, 'recall_consonant': 0.998612, 'acc_grapheme': 0.994689, 'acc_vowel': 0.99808, 'acc_consonant': 0.998255, 'loss_grapheme': 0.025376, 'loss_vowel': 0.01134, 'loss_consonant': 0.008106}\n",
      "SWA>>>:\n"
     ]
    },
    {
     "name": "stderr",
     "output_type": "stream",
     "text": [
      "100%|██████████| 209/209 [01:14<00:00,  2.94it/s]\n"
     ]
    },
    {
     "name": "stdout",
     "output_type": "stream",
     "text": [
      "\n",
      "val: {'recall': 0.9983, 'recall_grapheme': 0.997599, 'recall_vowel': 0.998953, 'recall_consonant': 0.999047, 'acc_grapheme': 0.997332, 'acc_vowel': 0.998853, 'acc_consonant': 0.998903, 'loss_grapheme': 0.013642, 'loss_vowel': 0.006407, 'loss_consonant': 0.004473}\n",
      "###>>>>> saved ./models/se_resnext50_32x4d/model3_se_resnext50_fold4_224_cyclic.pth_swa\n",
      "   57 | 0.000018 | 160512/160735 | 1.0462 | 0.9917 |\n",
      "val: {'recall': 0.996386, 'recall_grapheme': 0.994643, 'recall_vowel': 0.997744, 'recall_consonant': 0.998513, 'acc_grapheme': 0.993791, 'acc_vowel': 0.997831, 'acc_consonant': 0.99808, 'loss_grapheme': 0.027996, 'loss_vowel': 0.012116, 'loss_consonant': 0.008962}\n",
      "   58 | 0.000016 | 160512/160735 | 1.0222 | 1.0103 |\n",
      "val: {'recall': 0.996171, 'recall_grapheme': 0.99419, 'recall_vowel': 0.99797, 'recall_consonant': 0.998334, 'acc_grapheme': 0.993467, 'acc_vowel': 0.99798, 'acc_consonant': 0.997905, 'loss_grapheme': 0.030191, 'loss_vowel': 0.012406, 'loss_consonant': 0.009501}\n",
      "   59 | 0.000015 | 160512/160735 | 0.0115 | 1.0516 |"
     ]
    },
    {
     "name": "stderr",
     "output_type": "stream",
     "text": [
      "\r",
      "  0%|          | 0/209 [00:00<?, ?it/s]"
     ]
    },
    {
     "name": "stdout",
     "output_type": "stream",
     "text": [
      "\n",
      "val: {'recall': 0.996043, 'recall_grapheme': 0.993833, 'recall_vowel': 0.997925, 'recall_consonant': 0.998581, 'acc_grapheme': 0.993716, 'acc_vowel': 0.997955, 'acc_consonant': 0.998105, 'loss_grapheme': 0.031835, 'loss_vowel': 0.01609, 'loss_consonant': 0.010976}\n",
      "SWA>>>:\n"
     ]
    },
    {
     "name": "stderr",
     "output_type": "stream",
     "text": [
      "100%|██████████| 209/209 [01:14<00:00,  2.96it/s]\n"
     ]
    },
    {
     "name": "stdout",
     "output_type": "stream",
     "text": [
      "\n",
      "val: {'recall': 0.998308, 'recall_grapheme': 0.997536, 'recall_vowel': 0.999052, 'recall_consonant': 0.999109, 'acc_grapheme': 0.997382, 'acc_vowel': 0.998903, 'acc_consonant': 0.998953, 'loss_grapheme': 0.013626, 'loss_vowel': 0.006377, 'loss_consonant': 0.004442}\n",
      "###>>>>> saved ./models/se_resnext50_32x4d/model3_se_resnext50_fold4_224_cyclic.pth_swa\n",
      "   60 | 0.000013 | 160512/160735 | 1.7516 | 1.0575 |\n",
      "val: {'recall': 0.996518, 'recall_grapheme': 0.994584, 'recall_vowel': 0.998239, 'recall_consonant': 0.998665, 'acc_grapheme': 0.994415, 'acc_vowel': 0.998155, 'acc_consonant': 0.99823, 'loss_grapheme': 0.036533, 'loss_vowel': 0.01833, 'loss_consonant': 0.012808}\n",
      "   61 | 0.000012 | 160512/160735 | 0.0088 | 1.0962 |\n",
      "val: {'recall': 0.996233, 'recall_grapheme': 0.994356, 'recall_vowel': 0.997801, 'recall_consonant': 0.998421, 'acc_grapheme': 0.993866, 'acc_vowel': 0.99793, 'acc_consonant': 0.998005, 'loss_grapheme': 0.034284, 'loss_vowel': 0.019932, 'loss_consonant': 0.013756}\n",
      "   62 | 0.000011 | 160512/160735 | 1.8363 | 1.2283 |"
     ]
    },
    {
     "name": "stderr",
     "output_type": "stream",
     "text": [
      "\r",
      "  0%|          | 0/209 [00:00<?, ?it/s]"
     ]
    },
    {
     "name": "stdout",
     "output_type": "stream",
     "text": [
      "\n",
      "val: {'recall': 0.995634, 'recall_grapheme': 0.993311, 'recall_vowel': 0.997709, 'recall_consonant': 0.998203, 'acc_grapheme': 0.99232, 'acc_vowel': 0.997681, 'acc_consonant': 0.997756, 'loss_grapheme': 0.040955, 'loss_vowel': 0.020243, 'loss_consonant': 0.015057}\n",
      "SWA>>>:\n"
     ]
    },
    {
     "name": "stderr",
     "output_type": "stream",
     "text": [
      "100%|██████████| 209/209 [01:14<00:00,  2.90it/s]\n"
     ]
    },
    {
     "name": "stdout",
     "output_type": "stream",
     "text": [
      "\n",
      "val: {'recall': 0.998289, 'recall_grapheme': 0.997552, 'recall_vowel': 0.999039, 'recall_consonant': 0.999014, 'acc_grapheme': 0.997357, 'acc_vowel': 0.998878, 'acc_consonant': 0.998878, 'loss_grapheme': 0.013621, 'loss_vowel': 0.006369, 'loss_consonant': 0.004467}\n",
      "   63 | 0.000010 | 160512/160735 | 1.7401 | 0.9843 |\n",
      "val: {'recall': 0.995832, 'recall_grapheme': 0.99372, 'recall_vowel': 0.997584, 'recall_consonant': 0.998302, 'acc_grapheme': 0.993218, 'acc_vowel': 0.997731, 'acc_consonant': 0.99793, 'loss_grapheme': 0.030373, 'loss_vowel': 0.011869, 'loss_consonant': 0.009168}\n",
      "   64 | 0.000008 | 160512/160735 | 1.6988 | 1.0676 |\n",
      "val: {'recall': 0.995486, 'recall_grapheme': 0.993082, 'recall_vowel': 0.997449, 'recall_consonant': 0.998328, 'acc_grapheme': 0.992644, 'acc_vowel': 0.997606, 'acc_consonant': 0.997831, 'loss_grapheme': 0.033307, 'loss_vowel': 0.01299, 'loss_consonant': 0.010109}\n",
      "   65 | 0.000007 | 160512/160735 | 1.7380 | 1.1528 |"
     ]
    },
    {
     "name": "stderr",
     "output_type": "stream",
     "text": [
      "\r",
      "  0%|          | 0/209 [00:00<?, ?it/s]"
     ]
    },
    {
     "name": "stdout",
     "output_type": "stream",
     "text": [
      "\n",
      "val: {'recall': 0.993096, 'recall_grapheme': 0.989736, 'recall_vowel': 0.996825, 'recall_consonant': 0.996086, 'acc_grapheme': 0.988979, 'acc_vowel': 0.996833, 'acc_consonant': 0.996534, 'loss_grapheme': 0.046655, 'loss_vowel': 0.016216, 'loss_consonant': 0.013678}\n",
      "SWA>>>:\n"
     ]
    },
    {
     "name": "stderr",
     "output_type": "stream",
     "text": [
      "100%|██████████| 209/209 [01:14<00:00,  2.91it/s]\n"
     ]
    },
    {
     "name": "stdout",
     "output_type": "stream",
     "text": [
      "\n",
      "val: {'recall': 0.998299, 'recall_grapheme': 0.997555, 'recall_vowel': 0.999039, 'recall_consonant': 0.999047, 'acc_grapheme': 0.997357, 'acc_vowel': 0.998878, 'acc_consonant': 0.998903, 'loss_grapheme': 0.013598, 'loss_vowel': 0.006401, 'loss_consonant': 0.004477}\n",
      "   66 | 0.000006 | 160512/160735 | 1.4448 | 1.0660 |\n",
      "val: {'recall': 0.995366, 'recall_grapheme': 0.992868, 'recall_vowel': 0.997463, 'recall_consonant': 0.998266, 'acc_grapheme': 0.99232, 'acc_vowel': 0.997631, 'acc_consonant': 0.997806, 'loss_grapheme': 0.034494, 'loss_vowel': 0.012871, 'loss_consonant': 0.010131}\n",
      "   67 | 0.000005 | 160512/160735 | 0.5327 | 1.1650 |\n",
      "val: {'recall': 0.996643, 'recall_grapheme': 0.994903, 'recall_vowel': 0.998142, 'recall_consonant': 0.998626, 'acc_grapheme': 0.994489, 'acc_vowel': 0.99808, 'acc_consonant': 0.99818, 'loss_grapheme': 0.027348, 'loss_vowel': 0.012808, 'loss_consonant': 0.009046}\n",
      "   68 | 0.000005 | 160512/160735 | 1.0218 | 1.1439 |"
     ]
    },
    {
     "name": "stderr",
     "output_type": "stream",
     "text": [
      "\r",
      "  0%|          | 0/209 [00:00<?, ?it/s]"
     ]
    },
    {
     "name": "stdout",
     "output_type": "stream",
     "text": [
      "\n",
      "val: {'recall': 0.996288, 'recall_grapheme': 0.994529, 'recall_vowel': 0.99779, 'recall_consonant': 0.998302, 'acc_grapheme': 0.993866, 'acc_vowel': 0.997905, 'acc_consonant': 0.99803, 'loss_grapheme': 0.029222, 'loss_vowel': 0.012492, 'loss_consonant': 0.009231}\n",
      "SWA>>>:\n"
     ]
    },
    {
     "name": "stderr",
     "output_type": "stream",
     "text": [
      "100%|██████████| 209/209 [01:15<00:00,  2.86it/s]\n"
     ]
    },
    {
     "name": "stdout",
     "output_type": "stream",
     "text": [
      "\n",
      "val: {'recall': 0.99832, 'recall_grapheme': 0.997566, 'recall_vowel': 0.999039, 'recall_consonant': 0.999109, 'acc_grapheme': 0.997407, 'acc_vowel': 0.998878, 'acc_consonant': 0.998953, 'loss_grapheme': 0.013625, 'loss_vowel': 0.0064, 'loss_consonant': 0.004442}\n",
      "###>>>>> saved ./models/se_resnext50_32x4d/model3_se_resnext50_fold4_224_cyclic.pth_swa\n",
      "   69 | 0.000004 | 160512/160735 | 1.9309 | 1.1816 |\n",
      "val: {'recall': 0.994925, 'recall_grapheme': 0.992118, 'recall_vowel': 0.997315, 'recall_consonant': 0.998151, 'acc_grapheme': 0.991522, 'acc_vowel': 0.997407, 'acc_consonant': 0.997457, 'loss_grapheme': 0.036061, 'loss_vowel': 0.013615, 'loss_consonant': 0.011003}\n",
      "   70 | 0.000003 | 160512/160735 | 1.0036 | 1.0981 |\n",
      "val: {'recall': 0.993046, 'recall_grapheme': 0.989885, 'recall_vowel': 0.996228, 'recall_consonant': 0.996184, 'acc_grapheme': 0.98848, 'acc_vowel': 0.996409, 'acc_consonant': 0.99631, 'loss_grapheme': 0.047657, 'loss_vowel': 0.016815, 'loss_consonant': 0.014831}\n",
      "   71 | 0.000002 | 160512/160735 | 0.1570 | 1.0604 |"
     ]
    },
    {
     "name": "stderr",
     "output_type": "stream",
     "text": [
      "\r",
      "  0%|          | 0/209 [00:00<?, ?it/s]"
     ]
    },
    {
     "name": "stdout",
     "output_type": "stream",
     "text": [
      "\n",
      "val: {'recall': 0.995644, 'recall_grapheme': 0.993357, 'recall_vowel': 0.997439, 'recall_consonant': 0.998422, 'acc_grapheme': 0.992894, 'acc_vowel': 0.997581, 'acc_consonant': 0.997881, 'loss_grapheme': 0.033922, 'loss_vowel': 0.014677, 'loss_consonant': 0.011114}\n",
      "SWA>>>:\n"
     ]
    },
    {
     "name": "stderr",
     "output_type": "stream",
     "text": [
      "100%|██████████| 209/209 [01:14<00:00,  2.89it/s]\n"
     ]
    },
    {
     "name": "stdout",
     "output_type": "stream",
     "text": [
      "\n",
      "val: {'recall': 0.998258, 'recall_grapheme': 0.997443, 'recall_vowel': 0.999039, 'recall_consonant': 0.999109, 'acc_grapheme': 0.997332, 'acc_vowel': 0.998878, 'acc_consonant': 0.998953, 'loss_grapheme': 0.013567, 'loss_vowel': 0.006376, 'loss_consonant': 0.004462}\n",
      "   72 | 0.000002 | 160512/160735 | 1.6126 | 1.0546 |\n",
      "val: {'recall': 0.995557, 'recall_grapheme': 0.993525, 'recall_vowel': 0.997422, 'recall_consonant': 0.997754, 'acc_grapheme': 0.992694, 'acc_vowel': 0.997556, 'acc_consonant': 0.997731, 'loss_grapheme': 0.038638, 'loss_vowel': 0.019755, 'loss_consonant': 0.014979}\n",
      "   73 | 0.000001 | 160512/160735 | 0.9724 | 1.1268 |\n",
      "val: {'recall': 0.995353, 'recall_grapheme': 0.99295, 'recall_vowel': 0.997365, 'recall_consonant': 0.998145, 'acc_grapheme': 0.99227, 'acc_vowel': 0.997556, 'acc_consonant': 0.997706, 'loss_grapheme': 0.033971, 'loss_vowel': 0.013049, 'loss_consonant': 0.010037}\n",
      "   74 | 0.000001 | 160512/160735 | 1.4033 | 1.1277 |"
     ]
    },
    {
     "name": "stderr",
     "output_type": "stream",
     "text": [
      "\r",
      "  0%|          | 0/209 [00:00<?, ?it/s]"
     ]
    },
    {
     "name": "stdout",
     "output_type": "stream",
     "text": [
      "\n",
      "val: {'recall': 0.994431, 'recall_grapheme': 0.991365, 'recall_vowel': 0.997015, 'recall_consonant': 0.99798, 'acc_grapheme': 0.990924, 'acc_vowel': 0.997207, 'acc_consonant': 0.997357, 'loss_grapheme': 0.038799, 'loss_vowel': 0.014337, 'loss_consonant': 0.011622}\n",
      "SWA>>>:\n"
     ]
    },
    {
     "name": "stderr",
     "output_type": "stream",
     "text": [
      "100%|██████████| 209/209 [01:14<00:00,  2.83it/s]\n"
     ]
    },
    {
     "name": "stdout",
     "output_type": "stream",
     "text": [
      "\n",
      "val: {'recall': 0.998329, 'recall_grapheme': 0.997578, 'recall_vowel': 0.999039, 'recall_consonant': 0.99912, 'acc_grapheme': 0.997407, 'acc_vowel': 0.998878, 'acc_consonant': 0.999003, 'loss_grapheme': 0.013584, 'loss_vowel': 0.006371, 'loss_consonant': 0.004453}\n",
      "###>>>>> saved ./models/se_resnext50_32x4d/model3_se_resnext50_fold4_224_cyclic.pth_swa\n",
      "   75 | 0.000001 | 160512/160735 | 3.0359 | 1.0784 |\n",
      "val: {'recall': 0.995893, 'recall_grapheme': 0.993789, 'recall_vowel': 0.997575, 'recall_consonant': 0.998418, 'acc_grapheme': 0.993143, 'acc_vowel': 0.997756, 'acc_consonant': 0.997881, 'loss_grapheme': 0.039647, 'loss_vowel': 0.021715, 'loss_consonant': 0.015586}\n",
      "   76 | 0.000000 | 160512/160735 | 0.0014 | 1.0121 |\n",
      "val: {'recall': 0.994946, 'recall_grapheme': 0.992093, 'recall_vowel': 0.997393, 'recall_consonant': 0.998206, 'acc_grapheme': 0.991497, 'acc_vowel': 0.997507, 'acc_consonant': 0.997706, 'loss_grapheme': 0.040317, 'loss_vowel': 0.016475, 'loss_consonant': 0.012808}\n",
      "   77 | 0.000000 | 160512/160735 | 1.4655 | 1.1294 |"
     ]
    },
    {
     "name": "stderr",
     "output_type": "stream",
     "text": [
      "\r",
      "  0%|          | 0/209 [00:00<?, ?it/s]"
     ]
    },
    {
     "name": "stdout",
     "output_type": "stream",
     "text": [
      "\n",
      "val: {'recall': 0.993317, 'recall_grapheme': 0.989696, 'recall_vowel': 0.996627, 'recall_consonant': 0.997246, 'acc_grapheme': 0.988829, 'acc_vowel': 0.996783, 'acc_consonant': 0.996659, 'loss_grapheme': 0.046724, 'loss_vowel': 0.016635, 'loss_consonant': 0.013938}\n",
      "SWA>>>:\n"
     ]
    },
    {
     "name": "stderr",
     "output_type": "stream",
     "text": [
      "100%|██████████| 209/209 [01:14<00:00,  2.89it/s]\n"
     ]
    },
    {
     "name": "stdout",
     "output_type": "stream",
     "text": [
      "\n",
      "val: {'recall': 0.99835, 'recall_grapheme': 0.997621, 'recall_vowel': 0.999039, 'recall_consonant': 0.99912, 'acc_grapheme': 0.997432, 'acc_vowel': 0.998878, 'acc_consonant': 0.999003, 'loss_grapheme': 0.013562, 'loss_vowel': 0.006394, 'loss_consonant': 0.004448}\n",
      "###>>>>> saved ./models/se_resnext50_32x4d/model3_se_resnext50_fold4_224_cyclic.pth_swa\n",
      "   78 | 0.000000 | 160512/160735 | 2.2049 | 1.0907 |\n",
      "val: {'recall': 0.995198, 'recall_grapheme': 0.992992, 'recall_vowel': 0.997219, 'recall_consonant': 0.997591, 'acc_grapheme': 0.992021, 'acc_vowel': 0.997531, 'acc_consonant': 0.997507, 'loss_grapheme': 0.038283, 'loss_vowel': 0.018827, 'loss_consonant': 0.01386}\n",
      "   79 | 0.000000 | 160512/160735 | 2.3064 | 1.1170 |\n",
      "val: {'recall': 0.992823, 'recall_grapheme': 0.989058, 'recall_vowel': 0.9961, 'recall_consonant': 0.997077, 'acc_grapheme': 0.988006, 'acc_vowel': 0.996509, 'acc_consonant': 0.996335, 'loss_grapheme': 0.050076, 'loss_vowel': 0.016705, 'loss_consonant': 0.014634}\n",
      "CYCLE: 4\n",
      "    0 | 0.000020 | 160512/160735 | 0.0004 | 1.1025 |\n",
      "val: {'recall': 0.996241, 'recall_grapheme': 0.994341, 'recall_vowel': 0.99803, 'recall_consonant': 0.998254, 'acc_grapheme': 0.993791, 'acc_vowel': 0.998005, 'acc_consonant': 0.997881, 'loss_grapheme': 0.040812, 'loss_vowel': 0.020392, 'loss_consonant': 0.013771}\n",
      "    1 | 0.000040 | 160512/160735 | 1.5392 | 1.0469 |\n",
      "val: {'recall': 0.997272, 'recall_grapheme': 0.99585, 'recall_vowel': 0.998582, 'recall_consonant': 0.998807, 'acc_grapheme': 0.995786, 'acc_vowel': 0.998354, 'acc_consonant': 0.998454, 'loss_grapheme': 0.029636, 'loss_vowel': 0.017715, 'loss_consonant': 0.010981}\n",
      "    2 | 0.000060 | 160512/160735 | 0.0002 | 1.0124 |\n",
      "val: {'recall': 0.996954, 'recall_grapheme': 0.995632, 'recall_vowel': 0.998305, 'recall_consonant': 0.998248, 'acc_grapheme': 0.995063, 'acc_vowel': 0.99818, 'acc_consonant': 0.998304, 'loss_grapheme': 0.039746, 'loss_vowel': 0.022295, 'loss_consonant': 0.014134}\n",
      "    3 | 0.000079 | 160512/160735 | 0.0127 | 1.1370 |\n",
      "val: {'recall': 0.997345, 'recall_grapheme': 0.996085, 'recall_vowel': 0.998376, 'recall_consonant': 0.998835, 'acc_grapheme': 0.99631, 'acc_vowel': 0.998354, 'acc_consonant': 0.998504, 'loss_grapheme': 0.029654, 'loss_vowel': 0.0186, 'loss_consonant': 0.011662}\n",
      "    4 | 0.000099 | 160512/160735 | 1.6791 | 1.0388 |\n",
      "val: {'recall': 0.996591, 'recall_grapheme': 0.994862, 'recall_vowel': 0.998028, 'recall_consonant': 0.998612, 'acc_grapheme': 0.994714, 'acc_vowel': 0.99808, 'acc_consonant': 0.99803, 'loss_grapheme': 0.032899, 'loss_vowel': 0.017512, 'loss_consonant': 0.012058}\n",
      "    5 | 0.000099 | 160512/160735 | 1.2164 | 1.0615 |\n",
      "val: {'recall': 0.994923, 'recall_grapheme': 0.992088, 'recall_vowel': 0.99746, 'recall_consonant': 0.998057, 'acc_grapheme': 0.99227, 'acc_vowel': 0.997581, 'acc_consonant': 0.997232, 'loss_grapheme': 0.04272, 'loss_vowel': 0.018241, 'loss_consonant': 0.014605}\n",
      "    6 | 0.000098 | 160512/160735 | 0.0016 | 1.0820 |\n",
      "val: {'recall': 0.994382, 'recall_grapheme': 0.991625, 'recall_vowel': 0.996749, 'recall_consonant': 0.997526, 'acc_grapheme': 0.991298, 'acc_vowel': 0.996983, 'acc_consonant': 0.997182, 'loss_grapheme': 0.064175, 'loss_vowel': 0.037373, 'loss_consonant': 0.024219}\n",
      "    7 | 0.000098 | 160512/160735 | 1.6541 | 1.0570 |\n",
      "val: {'recall': 0.995068, 'recall_grapheme': 0.992233, 'recall_vowel': 0.997673, 'recall_consonant': 0.998133, 'acc_grapheme': 0.991747, 'acc_vowel': 0.997531, 'acc_consonant': 0.997556, 'loss_grapheme': 0.05291, 'loss_vowel': 0.028079, 'loss_consonant': 0.018686}\n",
      "    8 | 0.000097 | 160512/160735 | 2.9486 | 1.1677 |\n",
      "val: {'recall': 0.995051, 'recall_grapheme': 0.992676, 'recall_vowel': 0.997217, 'recall_consonant': 0.997634, 'acc_grapheme': 0.991423, 'acc_vowel': 0.997382, 'acc_consonant': 0.997182, 'loss_grapheme': 0.03855, 'loss_vowel': 0.015146, 'loss_consonant': 0.012358}\n",
      "    9 | 0.000096 | 160512/160735 | 1.9987 | 1.0638 |\n",
      "val: {'recall': 0.99648, 'recall_grapheme': 0.994702, 'recall_vowel': 0.997959, 'recall_consonant': 0.998557, 'acc_grapheme': 0.994415, 'acc_vowel': 0.997905, 'acc_consonant': 0.998155, 'loss_grapheme': 0.030241, 'loss_vowel': 0.013586, 'loss_consonant': 0.009807}\n",
      "   10 | 0.000095 | 160512/160735 | 0.0019 | 1.0881 |\n",
      "val: {'recall': 0.995141, 'recall_grapheme': 0.992541, 'recall_vowel': 0.997354, 'recall_consonant': 0.998126, 'acc_grapheme': 0.991572, 'acc_vowel': 0.997556, 'acc_consonant': 0.997681, 'loss_grapheme': 0.036169, 'loss_vowel': 0.014289, 'loss_consonant': 0.011305}\n",
      "   11 | 0.000095 | 160512/160735 | 1.6862 | 1.0875 |\n",
      "val: {'recall': 0.994065, 'recall_grapheme': 0.991187, 'recall_vowel': 0.99676, 'recall_consonant': 0.997125, 'acc_grapheme': 0.990874, 'acc_vowel': 0.996833, 'acc_consonant': 0.996958, 'loss_grapheme': 0.039231, 'loss_vowel': 0.015402, 'loss_consonant': 0.012378}\n",
      "   12 | 0.000094 | 160512/160735 | 1.8282 | 1.1552 |\n",
      "val: {'recall': 0.994821, 'recall_grapheme': 0.992171, 'recall_vowel': 0.997228, 'recall_consonant': 0.997713, 'acc_grapheme': 0.992071, 'acc_vowel': 0.997581, 'acc_consonant': 0.997531, 'loss_grapheme': 0.036315, 'loss_vowel': 0.015302, 'loss_consonant': 0.011598}\n",
      "   13 | 0.000093 | 160512/160735 | 1.3518 | 1.0147 |\n",
      "val: {'recall': 0.996272, 'recall_grapheme': 0.994293, 'recall_vowel': 0.997992, 'recall_consonant': 0.998509, 'acc_grapheme': 0.993941, 'acc_vowel': 0.998055, 'acc_consonant': 0.99823, 'loss_grapheme': 0.032108, 'loss_vowel': 0.015151, 'loss_consonant': 0.010705}\n",
      "   14 | 0.000092 | 160512/160735 | 1.2716 | 1.0562 |"
     ]
    },
    {
     "name": "stderr",
     "output_type": "stream",
     "text": [
      "\r",
      "  0%|          | 0/209 [00:00<?, ?it/s]"
     ]
    },
    {
     "name": "stdout",
     "output_type": "stream",
     "text": [
      "\n",
      "val: {'recall': 0.996058, 'recall_grapheme': 0.994182, 'recall_vowel': 0.9979, 'recall_consonant': 0.997967, 'acc_grapheme': 0.993367, 'acc_vowel': 0.997856, 'acc_consonant': 0.997955, 'loss_grapheme': 0.032966, 'loss_vowel': 0.013264, 'loss_consonant': 0.010043}\n",
      "SWA>>>:\n"
     ]
    },
    {
     "name": "stderr",
     "output_type": "stream",
     "text": [
      "100%|██████████| 209/209 [01:14<00:00,  2.76it/s]\n"
     ]
    },
    {
     "name": "stdout",
     "output_type": "stream",
     "text": [
      "\n",
      "val: {'recall': 0.998346, 'recall_grapheme': 0.997618, 'recall_vowel': 0.999039, 'recall_consonant': 0.999109, 'acc_grapheme': 0.997407, 'acc_vowel': 0.998878, 'acc_consonant': 0.998953, 'loss_grapheme': 0.013554, 'loss_vowel': 0.006369, 'loss_consonant': 0.004441}\n",
      "   15 | 0.000090 | 160512/160735 | 1.7485 | 1.1653 |\n",
      "val: {'recall': 0.994415, 'recall_grapheme': 0.991736, 'recall_vowel': 0.997185, 'recall_consonant': 0.997003, 'acc_grapheme': 0.990425, 'acc_vowel': 0.997382, 'acc_consonant': 0.996783, 'loss_grapheme': 0.040821, 'loss_vowel': 0.0146, 'loss_consonant': 0.013119}\n",
      "   16 | 0.000089 | 160512/160735 | 1.9563 | 1.0612 |\n",
      "val: {'recall': 0.994798, 'recall_grapheme': 0.991945, 'recall_vowel': 0.997503, 'recall_consonant': 0.9978, 'acc_grapheme': 0.990874, 'acc_vowel': 0.997432, 'acc_consonant': 0.997133, 'loss_grapheme': 0.041639, 'loss_vowel': 0.015113, 'loss_consonant': 0.01285}\n",
      "   17 | 0.000088 | 160512/160735 | 1.1474 | 1.1071 |"
     ]
    },
    {
     "name": "stderr",
     "output_type": "stream",
     "text": [
      "\r",
      "  0%|          | 0/209 [00:00<?, ?it/s]"
     ]
    },
    {
     "name": "stdout",
     "output_type": "stream",
     "text": [
      "\n",
      "val: {'recall': 0.995808, 'recall_grapheme': 0.994428, 'recall_vowel': 0.99781, 'recall_consonant': 0.996565, 'acc_grapheme': 0.993517, 'acc_vowel': 0.997806, 'acc_consonant': 0.997656, 'loss_grapheme': 0.030582, 'loss_vowel': 0.012308, 'loss_consonant': 0.010313}\n",
      "SWA>>>:\n"
     ]
    },
    {
     "name": "stderr",
     "output_type": "stream",
     "text": [
      "100%|██████████| 209/209 [01:14<00:00,  2.90it/s]\n"
     ]
    },
    {
     "name": "stdout",
     "output_type": "stream",
     "text": [
      "\n",
      "val: {'recall': 0.998337, 'recall_grapheme': 0.997601, 'recall_vowel': 0.999039, 'recall_consonant': 0.999109, 'acc_grapheme': 0.997457, 'acc_vowel': 0.998878, 'acc_consonant': 0.998953, 'loss_grapheme': 0.01359, 'loss_vowel': 0.006392, 'loss_consonant': 0.004472}\n",
      "   18 | 0.000087 | 160512/160735 | 3.1211 | 1.1356 |\n",
      "val: {'recall': 0.994606, 'recall_grapheme': 0.991918, 'recall_vowel': 0.997241, 'recall_consonant': 0.997349, 'acc_grapheme': 0.991073, 'acc_vowel': 0.997382, 'acc_consonant': 0.997157, 'loss_grapheme': 0.043702, 'loss_vowel': 0.021068, 'loss_consonant': 0.01681}\n",
      "   19 | 0.000085 | 160512/160735 | 1.2270 | 1.0267 |\n",
      "val: {'recall': 0.995694, 'recall_grapheme': 0.99352, 'recall_vowel': 0.997828, 'recall_consonant': 0.997909, 'acc_grapheme': 0.992345, 'acc_vowel': 0.997706, 'acc_consonant': 0.997581, 'loss_grapheme': 0.036686, 'loss_vowel': 0.014409, 'loss_consonant': 0.012031}\n",
      "   20 | 0.000084 | 160512/160735 | 2.2267 | 1.0607 |"
     ]
    },
    {
     "name": "stderr",
     "output_type": "stream",
     "text": [
      "\r",
      "  0%|          | 0/209 [00:00<?, ?it/s]"
     ]
    },
    {
     "name": "stdout",
     "output_type": "stream",
     "text": [
      "\n",
      "val: {'recall': 0.996641, 'recall_grapheme': 0.994826, 'recall_vowel': 0.998261, 'recall_consonant': 0.998653, 'acc_grapheme': 0.994639, 'acc_vowel': 0.99823, 'acc_consonant': 0.99818, 'loss_grapheme': 0.024192, 'loss_vowel': 0.010719, 'loss_consonant': 0.008089}\n",
      "SWA>>>:\n"
     ]
    },
    {
     "name": "stderr",
     "output_type": "stream",
     "text": [
      "100%|██████████| 209/209 [01:14<00:00,  2.94it/s]\n"
     ]
    },
    {
     "name": "stdout",
     "output_type": "stream",
     "text": [
      "\n",
      "val: {'recall': 0.998336, 'recall_grapheme': 0.99759, 'recall_vowel': 0.999051, 'recall_consonant': 0.999114, 'acc_grapheme': 0.997432, 'acc_vowel': 0.998878, 'acc_consonant': 0.998978, 'loss_grapheme': 0.013607, 'loss_vowel': 0.006406, 'loss_consonant': 0.004493}\n",
      "   21 | 0.000082 | 160512/160735 | 1.5092 | 1.1049 |\n",
      "val: {'recall': 0.996617, 'recall_grapheme': 0.995142, 'recall_vowel': 0.998186, 'recall_consonant': 0.997996, 'acc_grapheme': 0.994465, 'acc_vowel': 0.998105, 'acc_consonant': 0.998005, 'loss_grapheme': 0.027017, 'loss_vowel': 0.01174, 'loss_consonant': 0.008577}\n",
      "   22 | 0.000081 | 160512/160735 | 1.1165 | 1.1549 |\n",
      "val: {'recall': 0.995556, 'recall_grapheme': 0.9933, 'recall_vowel': 0.998072, 'recall_consonant': 0.997551, 'acc_grapheme': 0.992395, 'acc_vowel': 0.997831, 'acc_consonant': 0.997507, 'loss_grapheme': 0.035668, 'loss_vowel': 0.013851, 'loss_consonant': 0.011069}\n",
      "   23 | 0.000079 | 160512/160735 | 0.0049 | 1.0632 |"
     ]
    },
    {
     "name": "stderr",
     "output_type": "stream",
     "text": [
      "\r",
      "  0%|          | 0/209 [00:00<?, ?it/s]"
     ]
    },
    {
     "name": "stdout",
     "output_type": "stream",
     "text": [
      "\n",
      "val: {'recall': 0.9961, 'recall_grapheme': 0.994156, 'recall_vowel': 0.998271, 'recall_consonant': 0.997818, 'acc_grapheme': 0.993841, 'acc_vowel': 0.998055, 'acc_consonant': 0.997831, 'loss_grapheme': 0.027891, 'loss_vowel': 0.012869, 'loss_consonant': 0.010115}\n",
      "SWA>>>:\n"
     ]
    },
    {
     "name": "stderr",
     "output_type": "stream",
     "text": [
      "100%|██████████| 209/209 [01:13<00:00,  2.92it/s]\n"
     ]
    },
    {
     "name": "stdout",
     "output_type": "stream",
     "text": [
      "\n",
      "val: {'recall': 0.998346, 'recall_grapheme': 0.997612, 'recall_vowel': 0.999039, 'recall_consonant': 0.99912, 'acc_grapheme': 0.997432, 'acc_vowel': 0.998878, 'acc_consonant': 0.999003, 'loss_grapheme': 0.013618, 'loss_vowel': 0.00639, 'loss_consonant': 0.004469}\n",
      "   24 | 0.000078 | 160512/160735 | 0.5047 | 1.0713 |\n",
      "val: {'recall': 0.995866, 'recall_grapheme': 0.993815, 'recall_vowel': 0.997805, 'recall_consonant': 0.998031, 'acc_grapheme': 0.993143, 'acc_vowel': 0.997731, 'acc_consonant': 0.99798, 'loss_grapheme': 0.047258, 'loss_vowel': 0.024148, 'loss_consonant': 0.017571}\n",
      "   25 | 0.000076 | 160512/160735 | 0.0020 | 1.0884 |\n",
      "val: {'recall': 0.995781, 'recall_grapheme': 0.993796, 'recall_vowel': 0.997645, 'recall_consonant': 0.99789, 'acc_grapheme': 0.993218, 'acc_vowel': 0.997806, 'acc_consonant': 0.99793, 'loss_grapheme': 0.032629, 'loss_vowel': 0.01314, 'loss_consonant': 0.010735}\n",
      "   26 | 0.000074 | 160512/160735 | 1.9123 | 1.0544 |"
     ]
    },
    {
     "name": "stderr",
     "output_type": "stream",
     "text": [
      "\r",
      "  0%|          | 0/209 [00:00<?, ?it/s]"
     ]
    },
    {
     "name": "stdout",
     "output_type": "stream",
     "text": [
      "\n",
      "val: {'recall': 0.995861, 'recall_grapheme': 0.993764, 'recall_vowel': 0.998152, 'recall_consonant': 0.997762, 'acc_grapheme': 0.993218, 'acc_vowel': 0.99803, 'acc_consonant': 0.997831, 'loss_grapheme': 0.031588, 'loss_vowel': 0.013903, 'loss_consonant': 0.010897}\n",
      "SWA>>>:\n"
     ]
    },
    {
     "name": "stderr",
     "output_type": "stream",
     "text": [
      "100%|██████████| 209/209 [01:14<00:00,  2.83it/s]\n"
     ]
    },
    {
     "name": "stdout",
     "output_type": "stream",
     "text": [
      "\n",
      "val: {'recall': 0.998371, 'recall_grapheme': 0.997659, 'recall_vowel': 0.999079, 'recall_consonant': 0.999089, 'acc_grapheme': 0.997432, 'acc_vowel': 0.998903, 'acc_consonant': 0.998978, 'loss_grapheme': 0.013592, 'loss_vowel': 0.006409, 'loss_consonant': 0.004477}\n",
      "###>>>>> saved ./models/se_resnext50_32x4d/model3_se_resnext50_fold4_224_cyclic.pth_swa\n",
      "   27 | 0.000073 | 160512/160735 | 0.0020 | 1.0777 |\n",
      "val: {'recall': 0.995802, 'recall_grapheme': 0.993874, 'recall_vowel': 0.997885, 'recall_consonant': 0.997574, 'acc_grapheme': 0.993542, 'acc_vowel': 0.99793, 'acc_consonant': 0.997831, 'loss_grapheme': 0.030444, 'loss_vowel': 0.012438, 'loss_consonant': 0.009777}\n",
      "   28 | 0.000071 | 160512/160735 | 0.0010 | 1.0131 |\n",
      "val: {'recall': 0.996826, 'recall_grapheme': 0.995553, 'recall_vowel': 0.998249, 'recall_consonant': 0.997947, 'acc_grapheme': 0.995013, 'acc_vowel': 0.998155, 'acc_consonant': 0.99813, 'loss_grapheme': 0.023636, 'loss_vowel': 0.010772, 'loss_consonant': 0.008162}\n",
      "   29 | 0.000069 | 160512/160735 | 1.5122 | 1.0494 |"
     ]
    },
    {
     "name": "stderr",
     "output_type": "stream",
     "text": [
      "\r",
      "  0%|          | 0/209 [00:00<?, ?it/s]"
     ]
    },
    {
     "name": "stdout",
     "output_type": "stream",
     "text": [
      "\n",
      "val: {'recall': 0.99524, 'recall_grapheme': 0.99277, 'recall_vowel': 0.997709, 'recall_consonant': 0.997713, 'acc_grapheme': 0.992171, 'acc_vowel': 0.997731, 'acc_consonant': 0.997407, 'loss_grapheme': 0.04309, 'loss_vowel': 0.020353, 'loss_consonant': 0.016427}\n",
      "SWA>>>:\n"
     ]
    },
    {
     "name": "stderr",
     "output_type": "stream",
     "text": [
      "100%|██████████| 209/209 [01:14<00:00,  2.94it/s]\n"
     ]
    },
    {
     "name": "stdout",
     "output_type": "stream",
     "text": [
      "\n",
      "val: {'recall': 0.998336, 'recall_grapheme': 0.997591, 'recall_vowel': 0.999079, 'recall_consonant': 0.999084, 'acc_grapheme': 0.997432, 'acc_vowel': 0.998903, 'acc_consonant': 0.998953, 'loss_grapheme': 0.013591, 'loss_vowel': 0.006413, 'loss_consonant': 0.004505}\n",
      "   30 | 0.000067 | 160512/160735 | 2.2729 | 1.0770 |\n",
      "val: {'recall': 0.993048, 'recall_grapheme': 0.989908, 'recall_vowel': 0.996251, 'recall_consonant': 0.996126, 'acc_grapheme': 0.988879, 'acc_vowel': 0.996659, 'acc_consonant': 0.99626, 'loss_grapheme': 0.047512, 'loss_vowel': 0.015999, 'loss_consonant': 0.014711}\n",
      "   31 | 0.000065 | 160512/160735 | 1.8661 | 1.1985 |\n",
      "val: {'recall': 0.994443, 'recall_grapheme': 0.991549, 'recall_vowel': 0.997246, 'recall_consonant': 0.997428, 'acc_grapheme': 0.991048, 'acc_vowel': 0.997482, 'acc_consonant': 0.997282, 'loss_grapheme': 0.037669, 'loss_vowel': 0.01316, 'loss_consonant': 0.011996}\n",
      "   32 | 0.000064 | 160512/160735 | 0.0006 | 1.1355 |"
     ]
    },
    {
     "name": "stderr",
     "output_type": "stream",
     "text": [
      "\r",
      "  0%|          | 0/209 [00:00<?, ?it/s]"
     ]
    },
    {
     "name": "stdout",
     "output_type": "stream",
     "text": [
      "\n",
      "val: {'recall': 0.995665, 'recall_grapheme': 0.993482, 'recall_vowel': 0.997583, 'recall_consonant': 0.998112, 'acc_grapheme': 0.993268, 'acc_vowel': 0.997856, 'acc_consonant': 0.997531, 'loss_grapheme': 0.035552, 'loss_vowel': 0.016807, 'loss_consonant': 0.013206}\n",
      "SWA>>>:\n"
     ]
    },
    {
     "name": "stderr",
     "output_type": "stream",
     "text": [
      "100%|██████████| 209/209 [01:14<00:00,  2.90it/s]\n"
     ]
    },
    {
     "name": "stdout",
     "output_type": "stream",
     "text": [
      "\n",
      "val: {'recall': 0.998382, 'recall_grapheme': 0.997697, 'recall_vowel': 0.999051, 'recall_consonant': 0.999084, 'acc_grapheme': 0.997482, 'acc_vowel': 0.998878, 'acc_consonant': 0.998953, 'loss_grapheme': 0.013601, 'loss_vowel': 0.006433, 'loss_consonant': 0.004497}\n",
      "###>>>>> saved ./models/se_resnext50_32x4d/model3_se_resnext50_fold4_224_cyclic.pth_swa\n",
      "   33 | 0.000062 | 160512/160735 | 0.8536 | 1.1575 |\n",
      "val: {'recall': 0.995081, 'recall_grapheme': 0.99257, 'recall_vowel': 0.997571, 'recall_consonant': 0.997612, 'acc_grapheme': 0.992345, 'acc_vowel': 0.997631, 'acc_consonant': 0.997432, 'loss_grapheme': 0.040922, 'loss_vowel': 0.019096, 'loss_consonant': 0.015034}\n",
      "   34 | 0.000060 | 160512/160735 | 2.1731 | 1.0303 |\n",
      "val: {'recall': 0.99638, 'recall_grapheme': 0.994564, 'recall_vowel': 0.998092, 'recall_consonant': 0.998298, 'acc_grapheme': 0.994739, 'acc_vowel': 0.998205, 'acc_consonant': 0.998005, 'loss_grapheme': 0.029295, 'loss_vowel': 0.015527, 'loss_consonant': 0.011829}\n",
      "   35 | 0.000058 | 160512/160735 | 1.7567 | 1.0706 |"
     ]
    },
    {
     "name": "stderr",
     "output_type": "stream",
     "text": [
      "\r",
      "  0%|          | 0/209 [00:00<?, ?it/s]"
     ]
    },
    {
     "name": "stdout",
     "output_type": "stream",
     "text": [
      "\n",
      "val: {'recall': 0.996436, 'recall_grapheme': 0.994855, 'recall_vowel': 0.997664, 'recall_consonant': 0.99837, 'acc_grapheme': 0.994415, 'acc_vowel': 0.997905, 'acc_consonant': 0.997856, 'loss_grapheme': 0.026532, 'loss_vowel': 0.011388, 'loss_consonant': 0.009095}\n",
      "SWA>>>:\n"
     ]
    },
    {
     "name": "stderr",
     "output_type": "stream",
     "text": [
      "100%|██████████| 209/209 [01:14<00:00,  2.92it/s]\n"
     ]
    },
    {
     "name": "stdout",
     "output_type": "stream",
     "text": [
      "\n",
      "val: {'recall': 0.998379, 'recall_grapheme': 0.997701, 'recall_vowel': 0.99904, 'recall_consonant': 0.999072, 'acc_grapheme': 0.997482, 'acc_vowel': 0.998853, 'acc_consonant': 0.998903, 'loss_grapheme': 0.013586, 'loss_vowel': 0.006439, 'loss_consonant': 0.004506}\n",
      "   36 | 0.000056 | 160512/160735 | 1.4949 | 0.9860 |\n",
      "val: {'recall': 0.995238, 'recall_grapheme': 0.99299, 'recall_vowel': 0.997337, 'recall_consonant': 0.997637, 'acc_grapheme': 0.99237, 'acc_vowel': 0.997656, 'acc_consonant': 0.997382, 'loss_grapheme': 0.034383, 'loss_vowel': 0.012775, 'loss_consonant': 0.011494}\n",
      "   37 | 0.000054 | 160512/160735 | 1.5542 | 1.1352 |\n",
      "val: {'recall': 0.99438, 'recall_grapheme': 0.991762, 'recall_vowel': 0.996758, 'recall_consonant': 0.997236, 'acc_grapheme': 0.990924, 'acc_vowel': 0.997282, 'acc_consonant': 0.997058, 'loss_grapheme': 0.036161, 'loss_vowel': 0.012617, 'loss_consonant': 0.011304}\n",
      "   38 | 0.000052 | 160512/160735 | 1.0404 | 1.0273 |"
     ]
    },
    {
     "name": "stderr",
     "output_type": "stream",
     "text": [
      "\r",
      "  0%|          | 0/209 [00:00<?, ?it/s]"
     ]
    },
    {
     "name": "stdout",
     "output_type": "stream",
     "text": [
      "\n",
      "val: {'recall': 0.99555, 'recall_grapheme': 0.993484, 'recall_vowel': 0.997642, 'recall_consonant': 0.997589, 'acc_grapheme': 0.992869, 'acc_vowel': 0.997731, 'acc_consonant': 0.997656, 'loss_grapheme': 0.030523, 'loss_vowel': 0.011662, 'loss_consonant': 0.009435}\n",
      "SWA>>>:\n"
     ]
    },
    {
     "name": "stderr",
     "output_type": "stream",
     "text": [
      "100%|██████████| 209/209 [01:14<00:00,  2.89it/s]\n"
     ]
    },
    {
     "name": "stdout",
     "output_type": "stream",
     "text": [
      "\n",
      "val: {'recall': 0.998372, 'recall_grapheme': 0.997665, 'recall_vowel': 0.99904, 'recall_consonant': 0.99912, 'acc_grapheme': 0.997432, 'acc_vowel': 0.998853, 'acc_consonant': 0.999003, 'loss_grapheme': 0.013602, 'loss_vowel': 0.006428, 'loss_consonant': 0.004524}\n",
      "   39 | 0.000050 | 160512/160735 | 1.8949 | 0.9814 |\n",
      "val: {'recall': 0.995041, 'recall_grapheme': 0.992758, 'recall_vowel': 0.997337, 'recall_consonant': 0.997312, 'acc_grapheme': 0.99222, 'acc_vowel': 0.997556, 'acc_consonant': 0.997108, 'loss_grapheme': 0.035551, 'loss_vowel': 0.014898, 'loss_consonant': 0.012896}\n",
      "   40 | 0.000048 | 160512/160735 | 3.1017 | 1.0773 |\n",
      "val: {'recall': 0.994643, 'recall_grapheme': 0.99207, 'recall_vowel': 0.997051, 'recall_consonant': 0.997383, 'acc_grapheme': 0.991547, 'acc_vowel': 0.997507, 'acc_consonant': 0.996983, 'loss_grapheme': 0.036356, 'loss_vowel': 0.013868, 'loss_consonant': 0.012884}\n",
      "   41 | 0.000046 | 160512/160735 | 1.9460 | 1.0259 |"
     ]
    },
    {
     "name": "stderr",
     "output_type": "stream",
     "text": [
      "\r",
      "  0%|          | 0/209 [00:00<?, ?it/s]"
     ]
    },
    {
     "name": "stdout",
     "output_type": "stream",
     "text": [
      "\n",
      "val: {'recall': 0.995224, 'recall_grapheme': 0.993153, 'recall_vowel': 0.997315, 'recall_consonant': 0.997277, 'acc_grapheme': 0.992345, 'acc_vowel': 0.997556, 'acc_consonant': 0.997232, 'loss_grapheme': 0.043468, 'loss_vowel': 0.022558, 'loss_consonant': 0.017166}\n",
      "SWA>>>:\n"
     ]
    },
    {
     "name": "stderr",
     "output_type": "stream",
     "text": [
      "100%|██████████| 209/209 [01:14<00:00,  2.92it/s]\n"
     ]
    },
    {
     "name": "stdout",
     "output_type": "stream",
     "text": [
      "\n",
      "val: {'recall': 0.998405, 'recall_grapheme': 0.997738, 'recall_vowel': 0.99904, 'recall_consonant': 0.999103, 'acc_grapheme': 0.997482, 'acc_vowel': 0.998853, 'acc_consonant': 0.998928, 'loss_grapheme': 0.013582, 'loss_vowel': 0.006385, 'loss_consonant': 0.004455}\n",
      "###>>>>> saved ./models/se_resnext50_32x4d/model3_se_resnext50_fold4_224_cyclic.pth_swa\n",
      "   42 | 0.000044 | 160512/160735 | 1.9094 | 1.1775 |\n",
      "val: {'recall': 0.991577, 'recall_grapheme': 0.988564, 'recall_vowel': 0.996325, 'recall_consonant': 0.992855, 'acc_grapheme': 0.986909, 'acc_vowel': 0.996559, 'acc_consonant': 0.995686, 'loss_grapheme': 0.055193, 'loss_vowel': 0.017597, 'loss_consonant': 0.017636}\n",
      "   43 | 0.000042 | 160512/160735 | 0.0053 | 0.9898 |\n",
      "val: {'recall': 0.996087, 'recall_grapheme': 0.994305, 'recall_vowel': 0.997825, 'recall_consonant': 0.99791, 'acc_grapheme': 0.993991, 'acc_vowel': 0.99793, 'acc_consonant': 0.99793, 'loss_grapheme': 0.028879, 'loss_vowel': 0.013667, 'loss_consonant': 0.009823}\n",
      "   44 | 0.000040 | 160512/160735 | 0.0023 | 1.1444 |"
     ]
    },
    {
     "name": "stderr",
     "output_type": "stream",
     "text": [
      "\r",
      "  0%|          | 0/209 [00:00<?, ?it/s]"
     ]
    },
    {
     "name": "stdout",
     "output_type": "stream",
     "text": [
      "\n",
      "val: {'recall': 0.993919, 'recall_grapheme': 0.991031, 'recall_vowel': 0.996682, 'recall_consonant': 0.996932, 'acc_grapheme': 0.990176, 'acc_vowel': 0.997058, 'acc_consonant': 0.996534, 'loss_grapheme': 0.041699, 'loss_vowel': 0.015339, 'loss_consonant': 0.014424}\n",
      "SWA>>>:\n"
     ]
    },
    {
     "name": "stderr",
     "output_type": "stream",
     "text": [
      "100%|██████████| 209/209 [01:14<00:00,  2.92it/s]\n"
     ]
    },
    {
     "name": "stdout",
     "output_type": "stream",
     "text": [
      "\n",
      "val: {'recall': 0.998361, 'recall_grapheme': 0.997658, 'recall_vowel': 0.99904, 'recall_consonant': 0.999089, 'acc_grapheme': 0.997407, 'acc_vowel': 0.998853, 'acc_consonant': 0.998978, 'loss_grapheme': 0.013641, 'loss_vowel': 0.006444, 'loss_consonant': 0.004509}\n",
      "   45 | 0.000038 | 160512/160735 | 1.4904 | 1.0335 |\n",
      "val: {'recall': 0.995696, 'recall_grapheme': 0.993752, 'recall_vowel': 0.997636, 'recall_consonant': 0.997643, 'acc_grapheme': 0.993467, 'acc_vowel': 0.997905, 'acc_consonant': 0.997606, 'loss_grapheme': 0.02848, 'loss_vowel': 0.011057, 'loss_consonant': 0.009455}\n",
      "   46 | 0.000036 | 160512/160735 | 1.6328 | 1.0609 |\n",
      "val: {'recall': 0.99628, 'recall_grapheme': 0.994307, 'recall_vowel': 0.998198, 'recall_consonant': 0.998308, 'acc_grapheme': 0.99444, 'acc_vowel': 0.998205, 'acc_consonant': 0.99823, 'loss_grapheme': 0.027934, 'loss_vowel': 0.012992, 'loss_consonant': 0.009473}\n",
      "   47 | 0.000035 | 160512/160735 | 0.4456 | 1.0438 |"
     ]
    },
    {
     "name": "stderr",
     "output_type": "stream",
     "text": [
      "\r",
      "  0%|          | 0/209 [00:00<?, ?it/s]"
     ]
    },
    {
     "name": "stdout",
     "output_type": "stream",
     "text": [
      "\n",
      "val: {'recall': 0.995916, 'recall_grapheme': 0.99384, 'recall_vowel': 0.9981, 'recall_consonant': 0.997884, 'acc_grapheme': 0.993467, 'acc_vowel': 0.998055, 'acc_consonant': 0.997856, 'loss_grapheme': 0.029319, 'loss_vowel': 0.012323, 'loss_consonant': 0.009823}\n",
      "SWA>>>:\n"
     ]
    },
    {
     "name": "stderr",
     "output_type": "stream",
     "text": [
      "100%|██████████| 209/209 [01:14<00:00,  2.94it/s]\n"
     ]
    },
    {
     "name": "stdout",
     "output_type": "stream",
     "text": [
      "\n",
      "val: {'recall': 0.998335, 'recall_grapheme': 0.997639, 'recall_vowel': 0.999022, 'recall_consonant': 0.999039, 'acc_grapheme': 0.997407, 'acc_vowel': 0.998828, 'acc_consonant': 0.998878, 'loss_grapheme': 0.013591, 'loss_vowel': 0.006423, 'loss_consonant': 0.004495}\n",
      "   48 | 0.000033 | 160512/160735 | 2.5022 | 1.1277 |\n",
      "val: {'recall': 0.993982, 'recall_grapheme': 0.990952, 'recall_vowel': 0.996966, 'recall_consonant': 0.997057, 'acc_grapheme': 0.990325, 'acc_vowel': 0.997182, 'acc_consonant': 0.996709, 'loss_grapheme': 0.043214, 'loss_vowel': 0.017262, 'loss_consonant': 0.015409}\n",
      "   49 | 0.000031 | 160512/160735 | 1.9862 | 1.1207 |\n",
      "val: {'recall': 0.994388, 'recall_grapheme': 0.991594, 'recall_vowel': 0.997132, 'recall_consonant': 0.99723, 'acc_grapheme': 0.991024, 'acc_vowel': 0.997282, 'acc_consonant': 0.996833, 'loss_grapheme': 0.038204, 'loss_vowel': 0.013717, 'loss_consonant': 0.012389}\n",
      "   50 | 0.000029 | 160512/160735 | 2.3373 | 1.1136 |"
     ]
    },
    {
     "name": "stderr",
     "output_type": "stream",
     "text": [
      "\r",
      "  0%|          | 0/209 [00:00<?, ?it/s]"
     ]
    },
    {
     "name": "stdout",
     "output_type": "stream",
     "text": [
      "\n",
      "val: {'recall': 0.995198, 'recall_grapheme': 0.992799, 'recall_vowel': 0.997603, 'recall_consonant': 0.997589, 'acc_grapheme': 0.99247, 'acc_vowel': 0.997781, 'acc_consonant': 0.997332, 'loss_grapheme': 0.034061, 'loss_vowel': 0.01412, 'loss_consonant': 0.011546}\n",
      "SWA>>>:\n"
     ]
    },
    {
     "name": "stderr",
     "output_type": "stream",
     "text": [
      "100%|██████████| 209/209 [01:14<00:00,  2.89it/s]\n"
     ]
    },
    {
     "name": "stdout",
     "output_type": "stream",
     "text": [
      "\n",
      "val: {'recall': 0.998334, 'recall_grapheme': 0.997621, 'recall_vowel': 0.99904, 'recall_consonant': 0.999056, 'acc_grapheme': 0.997432, 'acc_vowel': 0.998853, 'acc_consonant': 0.998953, 'loss_grapheme': 0.01357, 'loss_vowel': 0.006409, 'loss_consonant': 0.004486}\n",
      "   51 | 0.000027 | 160512/160735 | 1.9462 | 1.2282 |\n",
      "val: {'recall': 0.993791, 'recall_grapheme': 0.990615, 'recall_vowel': 0.997018, 'recall_consonant': 0.996915, 'acc_grapheme': 0.989378, 'acc_vowel': 0.997008, 'acc_consonant': 0.996684, 'loss_grapheme': 0.04479, 'loss_vowel': 0.015049, 'loss_consonant': 0.013493}\n",
      "   52 | 0.000026 | 160512/160735 | 0.0007 | 1.0861 |\n",
      "val: {'recall': 0.996172, 'recall_grapheme': 0.994485, 'recall_vowel': 0.997866, 'recall_consonant': 0.997852, 'acc_grapheme': 0.99419, 'acc_vowel': 0.998005, 'acc_consonant': 0.997955, 'loss_grapheme': 0.025962, 'loss_vowel': 0.010459, 'loss_consonant': 0.008318}\n",
      "   53 | 0.000024 | 160512/160735 | 2.1236 | 1.1056 |"
     ]
    },
    {
     "name": "stderr",
     "output_type": "stream",
     "text": [
      "\r",
      "  0%|          | 0/209 [00:00<?, ?it/s]"
     ]
    },
    {
     "name": "stdout",
     "output_type": "stream",
     "text": [
      "\n",
      "val: {'recall': 0.994462, 'recall_grapheme': 0.991982, 'recall_vowel': 0.99689, 'recall_consonant': 0.996995, 'acc_grapheme': 0.9904, 'acc_vowel': 0.996983, 'acc_consonant': 0.996609, 'loss_grapheme': 0.040367, 'loss_vowel': 0.014209, 'loss_consonant': 0.012707}\n",
      "SWA>>>:\n"
     ]
    },
    {
     "name": "stderr",
     "output_type": "stream",
     "text": [
      "100%|██████████| 209/209 [01:14<00:00,  2.85it/s]\n"
     ]
    },
    {
     "name": "stdout",
     "output_type": "stream",
     "text": [
      "\n",
      "val: {'recall': 0.998379, 'recall_grapheme': 0.997682, 'recall_vowel': 0.999055, 'recall_consonant': 0.999098, 'acc_grapheme': 0.997407, 'acc_vowel': 0.998878, 'acc_consonant': 0.999028, 'loss_grapheme': 0.013539, 'loss_vowel': 0.006375, 'loss_consonant': 0.004479}\n",
      "   54 | 0.000022 | 160512/160735 | 2.4754 | 1.0530 |\n",
      "val: {'recall': 0.995781, 'recall_grapheme': 0.993681, 'recall_vowel': 0.997859, 'recall_consonant': 0.997903, 'acc_grapheme': 0.992968, 'acc_vowel': 0.99793, 'acc_consonant': 0.997756, 'loss_grapheme': 0.033024, 'loss_vowel': 0.014404, 'loss_consonant': 0.011481}\n",
      "   55 | 0.000021 | 160512/160735 | 0.5187 | 0.9833 |\n",
      "val: {'recall': 0.995283, 'recall_grapheme': 0.993026, 'recall_vowel': 0.997542, 'recall_consonant': 0.997538, 'acc_grapheme': 0.991722, 'acc_vowel': 0.997457, 'acc_consonant': 0.997432, 'loss_grapheme': 0.036265, 'loss_vowel': 0.013448, 'loss_consonant': 0.011086}\n",
      "   56 | 0.000019 | 160512/160735 | 0.0004 | 0.9690 |"
     ]
    },
    {
     "name": "stderr",
     "output_type": "stream",
     "text": [
      "\r",
      "  0%|          | 0/209 [00:00<?, ?it/s]"
     ]
    },
    {
     "name": "stdout",
     "output_type": "stream",
     "text": [
      "\n",
      "val: {'recall': 0.99655, 'recall_grapheme': 0.995034, 'recall_vowel': 0.998113, 'recall_consonant': 0.998018, 'acc_grapheme': 0.994489, 'acc_vowel': 0.99818, 'acc_consonant': 0.99818, 'loss_grapheme': 0.024985, 'loss_vowel': 0.010683, 'loss_consonant': 0.008303}\n",
      "SWA>>>:\n"
     ]
    },
    {
     "name": "stderr",
     "output_type": "stream",
     "text": [
      "100%|██████████| 209/209 [01:14<00:00,  2.93it/s]\n"
     ]
    },
    {
     "name": "stdout",
     "output_type": "stream",
     "text": [
      "\n",
      "val: {'recall': 0.99838, 'recall_grapheme': 0.997696, 'recall_vowel': 0.999068, 'recall_consonant': 0.99906, 'acc_grapheme': 0.997457, 'acc_vowel': 0.998878, 'acc_consonant': 0.998978, 'loss_grapheme': 0.013567, 'loss_vowel': 0.006413, 'loss_consonant': 0.004489}\n",
      "   57 | 0.000018 | 160512/160735 | 1.7132 | 1.1342 |\n",
      "val: {'recall': 0.995593, 'recall_grapheme': 0.993941, 'recall_vowel': 0.996863, 'recall_consonant': 0.997625, 'acc_grapheme': 0.993467, 'acc_vowel': 0.997482, 'acc_consonant': 0.997457, 'loss_grapheme': 0.044723, 'loss_vowel': 0.020323, 'loss_consonant': 0.015542}\n",
      "   58 | 0.000016 | 160512/160735 | 0.0004 | 1.2008 |\n",
      "val: {'recall': 0.994368, 'recall_grapheme': 0.991707, 'recall_vowel': 0.996736, 'recall_consonant': 0.997322, 'acc_grapheme': 0.990924, 'acc_vowel': 0.997307, 'acc_consonant': 0.997133, 'loss_grapheme': 0.038272, 'loss_vowel': 0.01352, 'loss_consonant': 0.011993}\n",
      "   59 | 0.000015 | 160512/160735 | 0.0003 | 1.0144 |"
     ]
    },
    {
     "name": "stderr",
     "output_type": "stream",
     "text": [
      "\r",
      "  0%|          | 0/209 [00:00<?, ?it/s]"
     ]
    },
    {
     "name": "stdout",
     "output_type": "stream",
     "text": [
      "\n",
      "val: {'recall': 0.995755, 'recall_grapheme': 0.993849, 'recall_vowel': 0.997703, 'recall_consonant': 0.99762, 'acc_grapheme': 0.993243, 'acc_vowel': 0.997856, 'acc_consonant': 0.997706, 'loss_grapheme': 0.030726, 'loss_vowel': 0.013126, 'loss_consonant': 0.010304}\n",
      "SWA>>>:\n"
     ]
    },
    {
     "name": "stderr",
     "output_type": "stream",
     "text": [
      "100%|██████████| 209/209 [01:14<00:00,  2.92it/s]\n"
     ]
    },
    {
     "name": "stdout",
     "output_type": "stream",
     "text": [
      "\n",
      "val: {'recall': 0.998392, 'recall_grapheme': 0.997735, 'recall_vowel': 0.999016, 'recall_consonant': 0.999084, 'acc_grapheme': 0.997457, 'acc_vowel': 0.998828, 'acc_consonant': 0.998978, 'loss_grapheme': 0.013564, 'loss_vowel': 0.006433, 'loss_consonant': 0.004485}\n",
      "   60 | 0.000013 | 160512/160735 | 1.0006 | 1.1074 |\n",
      "val: {'recall': 0.995425, 'recall_grapheme': 0.993852, 'recall_vowel': 0.996694, 'recall_consonant': 0.997302, 'acc_grapheme': 0.993118, 'acc_vowel': 0.997382, 'acc_consonant': 0.997157, 'loss_grapheme': 0.044011, 'loss_vowel': 0.020392, 'loss_consonant': 0.017085}\n",
      "   61 | 0.000012 | 160512/160735 | 1.6785 | 1.0117 |\n",
      "val: {'recall': 0.995226, 'recall_grapheme': 0.993015, 'recall_vowel': 0.997268, 'recall_consonant': 0.997604, 'acc_grapheme': 0.99222, 'acc_vowel': 0.997581, 'acc_consonant': 0.997457, 'loss_grapheme': 0.034623, 'loss_vowel': 0.01316, 'loss_consonant': 0.011021}\n",
      "   62 | 0.000011 | 160512/160735 | 1.8903 | 1.0974 |"
     ]
    },
    {
     "name": "stderr",
     "output_type": "stream",
     "text": [
      "\r",
      "  0%|          | 0/209 [00:00<?, ?it/s]"
     ]
    },
    {
     "name": "stdout",
     "output_type": "stream",
     "text": [
      "\n",
      "val: {'recall': 0.993211, 'recall_grapheme': 0.990015, 'recall_vowel': 0.996093, 'recall_consonant': 0.996723, 'acc_grapheme': 0.988829, 'acc_vowel': 0.996684, 'acc_consonant': 0.99631, 'loss_grapheme': 0.046951, 'loss_vowel': 0.015782, 'loss_consonant': 0.014403}\n",
      "SWA>>>:\n"
     ]
    },
    {
     "name": "stderr",
     "output_type": "stream",
     "text": [
      "100%|██████████| 209/209 [01:14<00:00,  2.92it/s]\n"
     ]
    },
    {
     "name": "stdout",
     "output_type": "stream",
     "text": [
      "\n",
      "val: {'recall': 0.998347, 'recall_grapheme': 0.997653, 'recall_vowel': 0.99904, 'recall_consonant': 0.999042, 'acc_grapheme': 0.997482, 'acc_vowel': 0.998853, 'acc_consonant': 0.998903, 'loss_grapheme': 0.013526, 'loss_vowel': 0.006387, 'loss_consonant': 0.00447}\n",
      "   63 | 0.000010 | 160512/160735 | 1.7271 | 1.1520 |\n",
      "val: {'recall': 0.995551, 'recall_grapheme': 0.994078, 'recall_vowel': 0.996545, 'recall_consonant': 0.997502, 'acc_grapheme': 0.993268, 'acc_vowel': 0.997432, 'acc_consonant': 0.997357, 'loss_grapheme': 0.038529, 'loss_vowel': 0.016766, 'loss_consonant': 0.014126}\n",
      "   64 | 0.000008 | 160512/160735 | 2.1254 | 1.0657 |\n",
      "val: {'recall': 0.994469, 'recall_grapheme': 0.991727, 'recall_vowel': 0.996956, 'recall_consonant': 0.997464, 'acc_grapheme': 0.990774, 'acc_vowel': 0.997407, 'acc_consonant': 0.997157, 'loss_grapheme': 0.037731, 'loss_vowel': 0.013474, 'loss_consonant': 0.011581}\n",
      "   65 | 0.000007 | 160512/160735 | 0.0015 | 1.1120 |"
     ]
    },
    {
     "name": "stderr",
     "output_type": "stream",
     "text": [
      "\r",
      "  0%|          | 0/209 [00:00<?, ?it/s]"
     ]
    },
    {
     "name": "stdout",
     "output_type": "stream",
     "text": [
      "\n",
      "val: {'recall': 0.995044, 'recall_grapheme': 0.992628, 'recall_vowel': 0.99735, 'recall_consonant': 0.997573, 'acc_grapheme': 0.992146, 'acc_vowel': 0.997656, 'acc_consonant': 0.997507, 'loss_grapheme': 0.03469, 'loss_vowel': 0.015105, 'loss_consonant': 0.012341}\n",
      "SWA>>>:\n"
     ]
    },
    {
     "name": "stderr",
     "output_type": "stream",
     "text": [
      "100%|██████████| 209/209 [01:14<00:00,  2.89it/s]\n"
     ]
    },
    {
     "name": "stdout",
     "output_type": "stream",
     "text": [
      "\n",
      "val: {'recall': 0.998398, 'recall_grapheme': 0.997745, 'recall_vowel': 0.99904, 'recall_consonant': 0.999059, 'acc_grapheme': 0.997482, 'acc_vowel': 0.998853, 'acc_consonant': 0.998978, 'loss_grapheme': 0.013566, 'loss_vowel': 0.006388, 'loss_consonant': 0.004493}\n",
      "   66 | 0.000006 | 160512/160735 | 0.7979 | 1.2290 |\n",
      "val: {'recall': 0.994585, 'recall_grapheme': 0.991959, 'recall_vowel': 0.997032, 'recall_consonant': 0.99739, 'acc_grapheme': 0.991248, 'acc_vowel': 0.997357, 'acc_consonant': 0.997033, 'loss_grapheme': 0.041169, 'loss_vowel': 0.017937, 'loss_consonant': 0.015116}\n",
      "   67 | 0.000005 | 160512/160735 | 2.1687 | 1.0995 |\n",
      "val: {'recall': 0.995306, 'recall_grapheme': 0.992898, 'recall_vowel': 0.997506, 'recall_consonant': 0.997923, 'acc_grapheme': 0.992644, 'acc_vowel': 0.997881, 'acc_consonant': 0.997731, 'loss_grapheme': 0.037417, 'loss_vowel': 0.017211, 'loss_consonant': 0.01306}\n",
      "   68 | 0.000005 | 160512/160735 | 1.7774 | 1.0576 |"
     ]
    },
    {
     "name": "stderr",
     "output_type": "stream",
     "text": [
      "\r",
      "  0%|          | 0/209 [00:00<?, ?it/s]"
     ]
    },
    {
     "name": "stdout",
     "output_type": "stream",
     "text": [
      "\n",
      "val: {'recall': 0.994396, 'recall_grapheme': 0.991679, 'recall_vowel': 0.996803, 'recall_consonant': 0.997422, 'acc_grapheme': 0.990824, 'acc_vowel': 0.997207, 'acc_consonant': 0.996858, 'loss_grapheme': 0.038292, 'loss_vowel': 0.014114, 'loss_consonant': 0.012464}\n",
      "SWA>>>:\n"
     ]
    },
    {
     "name": "stderr",
     "output_type": "stream",
     "text": [
      "100%|██████████| 209/209 [01:14<00:00,  2.95it/s]\n"
     ]
    },
    {
     "name": "stdout",
     "output_type": "stream",
     "text": [
      "\n",
      "val: {'recall': 0.998386, 'recall_grapheme': 0.997706, 'recall_vowel': 0.99905, 'recall_consonant': 0.999081, 'acc_grapheme': 0.997432, 'acc_vowel': 0.998878, 'acc_consonant': 0.998953, 'loss_grapheme': 0.013577, 'loss_vowel': 0.006386, 'loss_consonant': 0.004469}\n",
      "   69 | 0.000004 | 160512/160735 | 2.0019 | 1.2651 |\n",
      "val: {'recall': 0.993739, 'recall_grapheme': 0.990521, 'recall_vowel': 0.996878, 'recall_consonant': 0.997038, 'acc_grapheme': 0.989328, 'acc_vowel': 0.997058, 'acc_consonant': 0.996559, 'loss_grapheme': 0.045355, 'loss_vowel': 0.015332, 'loss_consonant': 0.013656}\n",
      "   70 | 0.000003 | 160512/160735 | 0.9877 | 1.2078 |\n",
      "val: {'recall': 0.99464, 'recall_grapheme': 0.992127, 'recall_vowel': 0.996896, 'recall_consonant': 0.99741, 'acc_grapheme': 0.991248, 'acc_vowel': 0.997207, 'acc_consonant': 0.997058, 'loss_grapheme': 0.037204, 'loss_vowel': 0.013317, 'loss_consonant': 0.011763}\n",
      "   71 | 0.000002 | 160512/160735 | 0.0056 | 1.0288 |"
     ]
    },
    {
     "name": "stderr",
     "output_type": "stream",
     "text": [
      "\r",
      "  0%|          | 0/209 [00:00<?, ?it/s]"
     ]
    },
    {
     "name": "stdout",
     "output_type": "stream",
     "text": [
      "\n",
      "val: {'recall': 0.996185, 'recall_grapheme': 0.994464, 'recall_vowel': 0.99794, 'recall_consonant': 0.997873, 'acc_grapheme': 0.99439, 'acc_vowel': 0.998055, 'acc_consonant': 0.998005, 'loss_grapheme': 0.0396, 'loss_vowel': 0.026301, 'loss_consonant': 0.018243}\n",
      "SWA>>>:\n"
     ]
    },
    {
     "name": "stderr",
     "output_type": "stream",
     "text": [
      "100%|██████████| 209/209 [01:15<00:00,  2.88it/s]\n"
     ]
    },
    {
     "name": "stdout",
     "output_type": "stream",
     "text": [
      "\n",
      "val: {'recall': 0.998405, 'recall_grapheme': 0.99772, 'recall_vowel': 0.999055, 'recall_consonant': 0.999123, 'acc_grapheme': 0.997457, 'acc_vowel': 0.998878, 'acc_consonant': 0.999028, 'loss_grapheme': 0.013566, 'loss_vowel': 0.006354, 'loss_consonant': 0.004471}\n",
      "   72 | 0.000002 | 160512/160735 | 0.0021 | 1.0164 |\n",
      "val: {'recall': 0.99569, 'recall_grapheme': 0.993602, 'recall_vowel': 0.997756, 'recall_consonant': 0.997798, 'acc_grapheme': 0.992944, 'acc_vowel': 0.99798, 'acc_consonant': 0.997781, 'loss_grapheme': 0.03156, 'loss_vowel': 0.011933, 'loss_consonant': 0.009727}\n",
      "   73 | 0.000001 | 160512/160735 | 1.7149 | 1.1052 |\n",
      "val: {'recall': 0.995147, 'recall_grapheme': 0.992827, 'recall_vowel': 0.997034, 'recall_consonant': 0.997899, 'acc_grapheme': 0.992295, 'acc_vowel': 0.997556, 'acc_consonant': 0.997756, 'loss_grapheme': 0.035747, 'loss_vowel': 0.014708, 'loss_consonant': 0.011833}\n",
      "   74 | 0.000001 | 160512/160735 | 0.0012 | 1.0715 |"
     ]
    },
    {
     "name": "stderr",
     "output_type": "stream",
     "text": [
      "\r",
      "  0%|          | 0/209 [00:00<?, ?it/s]"
     ]
    },
    {
     "name": "stdout",
     "output_type": "stream",
     "text": [
      "\n",
      "val: {'recall': 0.99481, 'recall_grapheme': 0.992282, 'recall_vowel': 0.997032, 'recall_consonant': 0.997647, 'acc_grapheme': 0.991672, 'acc_vowel': 0.997482, 'acc_consonant': 0.997257, 'loss_grapheme': 0.036297, 'loss_vowel': 0.013211, 'loss_consonant': 0.011355}\n",
      "SWA>>>:\n"
     ]
    },
    {
     "name": "stderr",
     "output_type": "stream",
     "text": [
      "100%|██████████| 209/209 [01:14<00:00,  2.92it/s]\n"
     ]
    },
    {
     "name": "stdout",
     "output_type": "stream",
     "text": [
      "\n",
      "val: {'recall': 0.998397, 'recall_grapheme': 0.997706, 'recall_vowel': 0.999055, 'recall_consonant': 0.999123, 'acc_grapheme': 0.997432, 'acc_vowel': 0.998878, 'acc_consonant': 0.999028, 'loss_grapheme': 0.013586, 'loss_vowel': 0.006386, 'loss_consonant': 0.004467}\n",
      "   75 | 0.000001 | 160512/160735 | 0.0008 | 1.0578 |\n",
      "val: {'recall': 0.994598, 'recall_grapheme': 0.991964, 'recall_vowel': 0.997022, 'recall_consonant': 0.997443, 'acc_grapheme': 0.991148, 'acc_vowel': 0.997257, 'acc_consonant': 0.996958, 'loss_grapheme': 0.037097, 'loss_vowel': 0.013013, 'loss_consonant': 0.011543}\n",
      "   76 | 0.000000 | 160512/160735 | 0.0068 | 1.1086 |\n",
      "val: {'recall': 0.995567, 'recall_grapheme': 0.993447, 'recall_vowel': 0.997633, 'recall_consonant': 0.997741, 'acc_grapheme': 0.992894, 'acc_vowel': 0.997955, 'acc_consonant': 0.997781, 'loss_grapheme': 0.032332, 'loss_vowel': 0.013307, 'loss_consonant': 0.010683}\n",
      "   77 | 0.000000 | 160512/160735 | 1.8527 | 1.0890 |"
     ]
    },
    {
     "name": "stderr",
     "output_type": "stream",
     "text": [
      "\r",
      "  0%|          | 0/209 [00:00<?, ?it/s]"
     ]
    },
    {
     "name": "stdout",
     "output_type": "stream",
     "text": [
      "\n",
      "val: {'recall': 0.994653, 'recall_grapheme': 0.991957, 'recall_vowel': 0.997256, 'recall_consonant': 0.997442, 'acc_grapheme': 0.990999, 'acc_vowel': 0.997482, 'acc_consonant': 0.997257, 'loss_grapheme': 0.044723, 'loss_vowel': 0.019493, 'loss_consonant': 0.015429}\n",
      "SWA>>>:\n"
     ]
    },
    {
     "name": "stderr",
     "output_type": "stream",
     "text": [
      "100%|██████████| 209/209 [01:14<00:00,  2.90it/s]\n"
     ]
    },
    {
     "name": "stdout",
     "output_type": "stream",
     "text": [
      "\n",
      "val: {'recall': 0.998391, 'recall_grapheme': 0.997693, 'recall_vowel': 0.999068, 'recall_consonant': 0.999112, 'acc_grapheme': 0.997407, 'acc_vowel': 0.998903, 'acc_consonant': 0.998978, 'loss_grapheme': 0.013588, 'loss_vowel': 0.006363, 'loss_consonant': 0.004498}\n",
      "   78 | 0.000000 | 160512/160735 | 0.7257 | 1.1744 |\n",
      "val: {'recall': 0.995218, 'recall_grapheme': 0.992804, 'recall_vowel': 0.997571, 'recall_consonant': 0.997694, 'acc_grapheme': 0.991996, 'acc_vowel': 0.997706, 'acc_consonant': 0.997432, 'loss_grapheme': 0.035834, 'loss_vowel': 0.013248, 'loss_consonant': 0.011175}\n",
      "   79 | 0.000000 | 160512/160735 | 0.0008 | 1.0977 |\n",
      "val: {'recall': 0.996233, 'recall_grapheme': 0.994374, 'recall_vowel': 0.998279, 'recall_consonant': 0.997907, 'acc_grapheme': 0.993866, 'acc_vowel': 0.99818, 'acc_consonant': 0.997905, 'loss_grapheme': 0.027802, 'loss_vowel': 0.011274, 'loss_consonant': 0.008781}\n",
      "CYCLE: 5\n",
      "    0 | 0.000020 | 160512/160735 | 1.6538 | 1.2003 |\n",
      "val: {'recall': 0.995575, 'recall_grapheme': 0.993518, 'recall_vowel': 0.997505, 'recall_consonant': 0.997758, 'acc_grapheme': 0.992445, 'acc_vowel': 0.997631, 'acc_consonant': 0.997482, 'loss_grapheme': 0.035495, 'loss_vowel': 0.014222, 'loss_consonant': 0.011635}\n",
      "    1 | 0.000040 | 160512/160735 | 0.0003 | 1.0775 |\n",
      "val: {'recall': 0.997028, 'recall_grapheme': 0.995624, 'recall_vowel': 0.998491, 'recall_consonant': 0.998372, 'acc_grapheme': 0.995462, 'acc_vowel': 0.998454, 'acc_consonant': 0.998479, 'loss_grapheme': 0.042165, 'loss_vowel': 0.024541, 'loss_consonant': 0.015404}\n",
      "    2 | 0.000060 | 160512/160735 | 0.0029 | 1.1741 |\n",
      "val: {'recall': 0.996559, 'recall_grapheme': 0.995174, 'recall_vowel': 0.997987, 'recall_consonant': 0.997902, 'acc_grapheme': 0.994814, 'acc_vowel': 0.99808, 'acc_consonant': 0.998105, 'loss_grapheme': 0.046842, 'loss_vowel': 0.025146, 'loss_consonant': 0.016205}\n",
      "    3 | 0.000079 | 160512/160735 | 0.0002 | 1.1086 |\n",
      "val: {'recall': 0.99555, 'recall_grapheme': 0.993546, 'recall_vowel': 0.997547, 'recall_consonant': 0.997559, 'acc_grapheme': 0.992594, 'acc_vowel': 0.997756, 'acc_consonant': 0.997507, 'loss_grapheme': 0.036606, 'loss_vowel': 0.01573, 'loss_consonant': 0.012155}\n",
      "    4 | 0.000099 | 160512/160735 | 0.9317 | 1.1372 |\n",
      "val: {'recall': 0.994938, 'recall_grapheme': 0.992821, 'recall_vowel': 0.997338, 'recall_consonant': 0.996771, 'acc_grapheme': 0.991672, 'acc_vowel': 0.997457, 'acc_consonant': 0.997207, 'loss_grapheme': 0.037231, 'loss_vowel': 0.014002, 'loss_consonant': 0.011628}\n",
      "    5 | 0.000099 | 160512/160735 | 0.0025 | 1.1455 |\n",
      "val: {'recall': 0.995903, 'recall_grapheme': 0.993776, 'recall_vowel': 0.997968, 'recall_consonant': 0.998093, 'acc_grapheme': 0.993567, 'acc_vowel': 0.998155, 'acc_consonant': 0.998005, 'loss_grapheme': 0.041107, 'loss_vowel': 0.021126, 'loss_consonant': 0.013779}\n",
      "    6 | 0.000098 | 160512/160735 | 0.0054 | 1.1521 |\n",
      "val: {'recall': 0.995115, 'recall_grapheme': 0.992568, 'recall_vowel': 0.997491, 'recall_consonant': 0.997831, 'acc_grapheme': 0.992719, 'acc_vowel': 0.997781, 'acc_consonant': 0.997457, 'loss_grapheme': 0.042697, 'loss_vowel': 0.020713, 'loss_consonant': 0.016104}\n",
      "    7 | 0.000098 | 160512/160735 | 0.0055 | 1.1698 |\n",
      "val: {'recall': 0.993982, 'recall_grapheme': 0.991567, 'recall_vowel': 0.996737, 'recall_consonant': 0.996058, 'acc_grapheme': 0.990899, 'acc_vowel': 0.997232, 'acc_consonant': 0.996908, 'loss_grapheme': 0.038349, 'loss_vowel': 0.014793, 'loss_consonant': 0.012804}\n",
      "    8 | 0.000097 | 160512/160735 | 1.1818 | 1.1164 |\n",
      "val: {'recall': 0.995416, 'recall_grapheme': 0.993225, 'recall_vowel': 0.997558, 'recall_consonant': 0.997656, 'acc_grapheme': 0.99257, 'acc_vowel': 0.997631, 'acc_consonant': 0.997432, 'loss_grapheme': 0.035123, 'loss_vowel': 0.013068, 'loss_consonant': 0.011236}\n",
      "    9 | 0.000096 | 160512/160735 | 1.4704 | 1.0864 |\n",
      "val: {'recall': 0.995587, 'recall_grapheme': 0.993677, 'recall_vowel': 0.99757, 'recall_consonant': 0.997424, 'acc_grapheme': 0.993567, 'acc_vowel': 0.997731, 'acc_consonant': 0.997482, 'loss_grapheme': 0.032413, 'loss_vowel': 0.015602, 'loss_consonant': 0.012438}\n",
      "   10 | 0.000095 | 160512/160735 | 1.5497 | 1.3028 |\n",
      "val: {'recall': 0.992328, 'recall_grapheme': 0.989707, 'recall_vowel': 0.996352, 'recall_consonant': 0.993547, 'acc_grapheme': 0.988655, 'acc_vowel': 0.996634, 'acc_consonant': 0.995911, 'loss_grapheme': 0.048754, 'loss_vowel': 0.016429, 'loss_consonant': 0.017169}\n",
      "   11 | 0.000095 | 160512/160735 | 3.0605 | 1.1792 |\n",
      "val: {'recall': 0.993623, 'recall_grapheme': 0.990452, 'recall_vowel': 0.996588, 'recall_consonant': 0.996998, 'acc_grapheme': 0.989602, 'acc_vowel': 0.996933, 'acc_consonant': 0.996534, 'loss_grapheme': 0.045913, 'loss_vowel': 0.016771, 'loss_consonant': 0.015714}\n",
      "   12 | 0.000094 | 160512/160735 | 1.6236 | 1.0333 |\n",
      "val: {'recall': 0.995023, 'recall_grapheme': 0.992793, 'recall_vowel': 0.997067, 'recall_consonant': 0.997438, 'acc_grapheme': 0.991672, 'acc_vowel': 0.997581, 'acc_consonant': 0.997182, 'loss_grapheme': 0.03544, 'loss_vowel': 0.013434, 'loss_consonant': 0.011946}\n",
      "   13 | 0.000093 | 160512/160735 | 0.5190 | 1.1718 |\n",
      "val: {'recall': 0.995316, 'recall_grapheme': 0.993344, 'recall_vowel': 0.997587, 'recall_consonant': 0.99699, 'acc_grapheme': 0.992395, 'acc_vowel': 0.997656, 'acc_consonant': 0.997457, 'loss_grapheme': 0.036517, 'loss_vowel': 0.015998, 'loss_consonant': 0.013103}\n",
      "   14 | 0.000092 | 160512/160735 | 2.0590 | 1.0925 |"
     ]
    },
    {
     "name": "stderr",
     "output_type": "stream",
     "text": [
      "\r",
      "  0%|          | 0/209 [00:00<?, ?it/s]"
     ]
    },
    {
     "name": "stdout",
     "output_type": "stream",
     "text": [
      "\n",
      "val: {'recall': 0.992147, 'recall_grapheme': 0.989542, 'recall_vowel': 0.996208, 'recall_consonant': 0.993296, 'acc_grapheme': 0.988031, 'acc_vowel': 0.996459, 'acc_consonant': 0.99621, 'loss_grapheme': 0.049889, 'loss_vowel': 0.016501, 'loss_consonant': 0.015368}\n",
      "SWA>>>:\n"
     ]
    },
    {
     "name": "stderr",
     "output_type": "stream",
     "text": [
      "100%|██████████| 209/209 [01:14<00:00,  2.95it/s]\n"
     ]
    },
    {
     "name": "stdout",
     "output_type": "stream",
     "text": [
      "\n",
      "val: {'recall': 0.99839, 'recall_grapheme': 0.997711, 'recall_vowel': 0.999052, 'recall_consonant': 0.999087, 'acc_grapheme': 0.997432, 'acc_vowel': 0.998878, 'acc_consonant': 0.998978, 'loss_grapheme': 0.013533, 'loss_vowel': 0.006395, 'loss_consonant': 0.004486}\n",
      "   15 | 0.000090 | 160512/160735 | 1.9282 | 1.1015 |\n",
      "val: {'recall': 0.994523, 'recall_grapheme': 0.991809, 'recall_vowel': 0.997228, 'recall_consonant': 0.997248, 'acc_grapheme': 0.991123, 'acc_vowel': 0.997432, 'acc_consonant': 0.997108, 'loss_grapheme': 0.040692, 'loss_vowel': 0.016649, 'loss_consonant': 0.014223}\n",
      "   16 | 0.000089 | 160512/160735 | 0.3311 | 1.1206 |\n",
      "val: {'recall': 0.994788, 'recall_grapheme': 0.992362, 'recall_vowel': 0.99724, 'recall_consonant': 0.997185, 'acc_grapheme': 0.991672, 'acc_vowel': 0.997432, 'acc_consonant': 0.997182, 'loss_grapheme': 0.035765, 'loss_vowel': 0.014292, 'loss_consonant': 0.011857}\n",
      "   17 | 0.000088 | 160512/160735 | 1.1647 | 1.0811 |"
     ]
    },
    {
     "name": "stderr",
     "output_type": "stream",
     "text": [
      "\r",
      "  0%|          | 0/209 [00:00<?, ?it/s]"
     ]
    },
    {
     "name": "stdout",
     "output_type": "stream",
     "text": [
      "\n",
      "val: {'recall': 0.993963, 'recall_grapheme': 0.99221, 'recall_vowel': 0.996776, 'recall_consonant': 0.994655, 'acc_grapheme': 0.990674, 'acc_vowel': 0.996983, 'acc_consonant': 0.996409, 'loss_grapheme': 0.041153, 'loss_vowel': 0.015629, 'loss_consonant': 0.014868}\n",
      "SWA>>>:\n"
     ]
    },
    {
     "name": "stderr",
     "output_type": "stream",
     "text": [
      "100%|██████████| 209/209 [01:15<00:00,  2.89it/s]\n"
     ]
    },
    {
     "name": "stdout",
     "output_type": "stream",
     "text": [
      "\n",
      "val: {'recall': 0.998413, 'recall_grapheme': 0.997733, 'recall_vowel': 0.999068, 'recall_consonant': 0.999117, 'acc_grapheme': 0.997457, 'acc_vowel': 0.998903, 'acc_consonant': 0.999003, 'loss_grapheme': 0.013498, 'loss_vowel': 0.006341, 'loss_consonant': 0.004437}\n",
      "###>>>>> saved ./models/se_resnext50_32x4d/model3_se_resnext50_fold4_224_cyclic.pth_swa\n",
      "   18 | 0.000087 | 160512/160735 | 2.1668 | 1.0470 |\n",
      "val: {'recall': 0.995206, 'recall_grapheme': 0.992971, 'recall_vowel': 0.997387, 'recall_consonant': 0.997494, 'acc_grapheme': 0.992744, 'acc_vowel': 0.997731, 'acc_consonant': 0.997531, 'loss_grapheme': 0.032656, 'loss_vowel': 0.014853, 'loss_consonant': 0.012125}\n",
      "   19 | 0.000085 | 160512/160735 | 2.3396 | 1.1168 |\n",
      "val: {'recall': 0.995331, 'recall_grapheme': 0.993314, 'recall_vowel': 0.997076, 'recall_consonant': 0.997619, 'acc_grapheme': 0.99242, 'acc_vowel': 0.997407, 'acc_consonant': 0.997482, 'loss_grapheme': 0.034918, 'loss_vowel': 0.014646, 'loss_consonant': 0.011631}\n",
      "   20 | 0.000084 | 160512/160735 | 2.4713 | 1.1097 |"
     ]
    },
    {
     "name": "stderr",
     "output_type": "stream",
     "text": [
      "\r",
      "  0%|          | 0/209 [00:00<?, ?it/s]"
     ]
    },
    {
     "name": "stdout",
     "output_type": "stream",
     "text": [
      "\n",
      "val: {'recall': 0.993359, 'recall_grapheme': 0.990564, 'recall_vowel': 0.99662, 'recall_consonant': 0.995686, 'acc_grapheme': 0.989777, 'acc_vowel': 0.997033, 'acc_consonant': 0.996609, 'loss_grapheme': 0.043363, 'loss_vowel': 0.014542, 'loss_consonant': 0.013555}\n",
      "SWA>>>:\n"
     ]
    },
    {
     "name": "stderr",
     "output_type": "stream",
     "text": [
      "100%|██████████| 209/209 [01:14<00:00,  2.94it/s]\n"
     ]
    },
    {
     "name": "stdout",
     "output_type": "stream",
     "text": [
      "\n",
      "val: {'recall': 0.998396, 'recall_grapheme': 0.997697, 'recall_vowel': 0.999068, 'recall_consonant': 0.999123, 'acc_grapheme': 0.997407, 'acc_vowel': 0.998903, 'acc_consonant': 0.999028, 'loss_grapheme': 0.013527, 'loss_vowel': 0.006359, 'loss_consonant': 0.004464}\n",
      "   21 | 0.000082 | 160512/160735 | 2.7375 | 1.1358 |\n",
      "val: {'recall': 0.99255, 'recall_grapheme': 0.989106, 'recall_vowel': 0.996024, 'recall_consonant': 0.995965, 'acc_grapheme': 0.987682, 'acc_vowel': 0.996584, 'acc_consonant': 0.995936, 'loss_grapheme': 0.052504, 'loss_vowel': 0.018245, 'loss_consonant': 0.018335}\n",
      "   22 | 0.000081 | 160512/160735 | 2.2744 | 1.1071 |\n",
      "val: {'recall': 0.99466, 'recall_grapheme': 0.992033, 'recall_vowel': 0.997169, 'recall_consonant': 0.997405, 'acc_grapheme': 0.990874, 'acc_vowel': 0.997681, 'acc_consonant': 0.997182, 'loss_grapheme': 0.041781, 'loss_vowel': 0.015877, 'loss_consonant': 0.013113}\n",
      "   23 | 0.000079 | 160512/160735 | 1.8446 | 1.1272 |"
     ]
    },
    {
     "name": "stderr",
     "output_type": "stream",
     "text": [
      "\r",
      "  0%|          | 0/209 [00:00<?, ?it/s]"
     ]
    },
    {
     "name": "stdout",
     "output_type": "stream",
     "text": [
      "\n",
      "val: {'recall': 0.995582, 'recall_grapheme': 0.993245, 'recall_vowel': 0.997758, 'recall_consonant': 0.998079, 'acc_grapheme': 0.992769, 'acc_vowel': 0.997831, 'acc_consonant': 0.997581, 'loss_grapheme': 0.034213, 'loss_vowel': 0.014497, 'loss_consonant': 0.012275}\n",
      "SWA>>>:\n"
     ]
    },
    {
     "name": "stderr",
     "output_type": "stream",
     "text": [
      "100%|██████████| 209/209 [01:14<00:00,  2.93it/s]\n"
     ]
    },
    {
     "name": "stdout",
     "output_type": "stream",
     "text": [
      "\n",
      "val: {'recall': 0.998404, 'recall_grapheme': 0.997712, 'recall_vowel': 0.999068, 'recall_consonant': 0.999123, 'acc_grapheme': 0.997457, 'acc_vowel': 0.998903, 'acc_consonant': 0.999028, 'loss_grapheme': 0.013462, 'loss_vowel': 0.006329, 'loss_consonant': 0.004441}\n",
      "   24 | 0.000078 | 160512/160735 | 2.4104 | 1.1602 |\n",
      "val: {'recall': 0.993632, 'recall_grapheme': 0.990679, 'recall_vowel': 0.996688, 'recall_consonant': 0.99648, 'acc_grapheme': 0.989902, 'acc_vowel': 0.997058, 'acc_consonant': 0.996734, 'loss_grapheme': 0.045755, 'loss_vowel': 0.017893, 'loss_consonant': 0.015632}\n",
      "   25 | 0.000076 | 160512/160735 | 0.0023 | 0.8765 |\n",
      "val: {'recall': 0.996179, 'recall_grapheme': 0.994569, 'recall_vowel': 0.9979, 'recall_consonant': 0.997676, 'acc_grapheme': 0.994016, 'acc_vowel': 0.99793, 'acc_consonant': 0.997905, 'loss_grapheme': 0.030411, 'loss_vowel': 0.012703, 'loss_consonant': 0.010327}\n",
      "   26 | 0.000074 | 160512/160735 | 3.0443 | 1.0632 |"
     ]
    },
    {
     "name": "stderr",
     "output_type": "stream",
     "text": [
      "\r",
      "  0%|          | 0/209 [00:00<?, ?it/s]"
     ]
    },
    {
     "name": "stdout",
     "output_type": "stream",
     "text": [
      "\n",
      "val: {'recall': 0.995136, 'recall_grapheme': 0.992802, 'recall_vowel': 0.997658, 'recall_consonant': 0.997283, 'acc_grapheme': 0.991896, 'acc_vowel': 0.997781, 'acc_consonant': 0.997307, 'loss_grapheme': 0.036021, 'loss_vowel': 0.012749, 'loss_consonant': 0.011423}\n",
      "SWA>>>:\n"
     ]
    },
    {
     "name": "stderr",
     "output_type": "stream",
     "text": [
      "100%|██████████| 209/209 [01:14<00:00,  2.77it/s]\n"
     ]
    },
    {
     "name": "stdout",
     "output_type": "stream",
     "text": [
      "\n",
      "val: {'recall': 0.998404, 'recall_grapheme': 0.997704, 'recall_vowel': 0.999068, 'recall_consonant': 0.999142, 'acc_grapheme': 0.997432, 'acc_vowel': 0.998903, 'acc_consonant': 0.999003, 'loss_grapheme': 0.013519, 'loss_vowel': 0.006329, 'loss_consonant': 0.00445}\n",
      "   27 | 0.000073 | 160512/160735 | 0.7996 | 1.0988 |\n",
      "val: {'recall': 0.994641, 'recall_grapheme': 0.992212, 'recall_vowel': 0.997541, 'recall_consonant': 0.996597, 'acc_grapheme': 0.990999, 'acc_vowel': 0.997432, 'acc_consonant': 0.996908, 'loss_grapheme': 0.039652, 'loss_vowel': 0.013911, 'loss_consonant': 0.012852}\n",
      "   28 | 0.000071 | 160512/160735 | 3.1815 | 0.9936 |\n",
      "val: {'recall': 0.994851, 'recall_grapheme': 0.99275, 'recall_vowel': 0.996763, 'recall_consonant': 0.997143, 'acc_grapheme': 0.991921, 'acc_vowel': 0.997357, 'acc_consonant': 0.997307, 'loss_grapheme': 0.037358, 'loss_vowel': 0.015171, 'loss_consonant': 0.012566}\n",
      "   29 | 0.000069 | 160512/160735 | 2.9432 | 1.2038 |"
     ]
    },
    {
     "name": "stderr",
     "output_type": "stream",
     "text": [
      "\r",
      "  0%|          | 0/209 [00:00<?, ?it/s]"
     ]
    },
    {
     "name": "stdout",
     "output_type": "stream",
     "text": [
      "\n",
      "val: {'recall': 0.994065, 'recall_grapheme': 0.99115, 'recall_vowel': 0.996875, 'recall_consonant': 0.997087, 'acc_grapheme': 0.990625, 'acc_vowel': 0.997332, 'acc_consonant': 0.997033, 'loss_grapheme': 0.041033, 'loss_vowel': 0.016126, 'loss_consonant': 0.014141}\n",
      "SWA>>>:\n"
     ]
    },
    {
     "name": "stderr",
     "output_type": "stream",
     "text": [
      "100%|██████████| 209/209 [01:14<00:00,  2.92it/s]\n"
     ]
    },
    {
     "name": "stdout",
     "output_type": "stream",
     "text": [
      "\n",
      "val: {'recall': 0.998395, 'recall_grapheme': 0.997688, 'recall_vowel': 0.999068, 'recall_consonant': 0.999137, 'acc_grapheme': 0.997432, 'acc_vowel': 0.998903, 'acc_consonant': 0.998978, 'loss_grapheme': 0.013508, 'loss_vowel': 0.006335, 'loss_consonant': 0.004451}\n",
      "   30 | 0.000067 | 160512/160735 | 0.5034 | 1.1594 |\n",
      "val: {'recall': 0.99457, 'recall_grapheme': 0.992583, 'recall_vowel': 0.997362, 'recall_consonant': 0.995751, 'acc_grapheme': 0.991048, 'acc_vowel': 0.997357, 'acc_consonant': 0.996908, 'loss_grapheme': 0.038864, 'loss_vowel': 0.013649, 'loss_consonant': 0.012173}\n",
      "   31 | 0.000065 | 160512/160735 | 0.0024 | 1.0450 |\n",
      "val: {'recall': 0.995361, 'recall_grapheme': 0.993179, 'recall_vowel': 0.997553, 'recall_consonant': 0.997533, 'acc_grapheme': 0.992894, 'acc_vowel': 0.997681, 'acc_consonant': 0.997457, 'loss_grapheme': 0.041421, 'loss_vowel': 0.021537, 'loss_consonant': 0.016418}\n",
      "   32 | 0.000064 | 160512/160735 | 0.0023 | 1.0916 |"
     ]
    },
    {
     "name": "stderr",
     "output_type": "stream",
     "text": [
      "\r",
      "  0%|          | 0/209 [00:00<?, ?it/s]"
     ]
    },
    {
     "name": "stdout",
     "output_type": "stream",
     "text": [
      "\n",
      "val: {'recall': 0.994545, 'recall_grapheme': 0.991954, 'recall_vowel': 0.997127, 'recall_consonant': 0.997145, 'acc_grapheme': 0.991223, 'acc_vowel': 0.997357, 'acc_consonant': 0.996858, 'loss_grapheme': 0.038291, 'loss_vowel': 0.014319, 'loss_consonant': 0.013124}\n",
      "SWA>>>:\n"
     ]
    },
    {
     "name": "stderr",
     "output_type": "stream",
     "text": [
      "100%|██████████| 209/209 [01:14<00:00,  2.90it/s]\n"
     ]
    },
    {
     "name": "stdout",
     "output_type": "stream",
     "text": [
      "\n",
      "val: {'recall': 0.9984, 'recall_grapheme': 0.997718, 'recall_vowel': 0.99905, 'recall_consonant': 0.999112, 'acc_grapheme': 0.997457, 'acc_vowel': 0.998878, 'acc_consonant': 0.998978, 'loss_grapheme': 0.013518, 'loss_vowel': 0.006318, 'loss_consonant': 0.004453}\n",
      "   33 | 0.000062 | 160512/160735 | 0.3055 | 1.1343 |\n",
      "val: {'recall': 0.996089, 'recall_grapheme': 0.994192, 'recall_vowel': 0.99806, 'recall_consonant': 0.997912, 'acc_grapheme': 0.993866, 'acc_vowel': 0.99813, 'acc_consonant': 0.99793, 'loss_grapheme': 0.028581, 'loss_vowel': 0.012556, 'loss_consonant': 0.009879}\n",
      "   34 | 0.000060 | 160512/160735 | 0.0010 | 0.9926 |\n",
      "val: {'recall': 0.996032, 'recall_grapheme': 0.994317, 'recall_vowel': 0.997933, 'recall_consonant': 0.997562, 'acc_grapheme': 0.993617, 'acc_vowel': 0.997905, 'acc_consonant': 0.997531, 'loss_grapheme': 0.033296, 'loss_vowel': 0.017587, 'loss_consonant': 0.013583}\n",
      "   35 | 0.000058 | 160512/160735 | 1.1327 | 1.1223 |"
     ]
    },
    {
     "name": "stderr",
     "output_type": "stream",
     "text": [
      "\r",
      "  0%|          | 0/209 [00:00<?, ?it/s]"
     ]
    },
    {
     "name": "stdout",
     "output_type": "stream",
     "text": [
      "\n",
      "val: {'recall': 0.995208, 'recall_grapheme': 0.993106, 'recall_vowel': 0.997401, 'recall_consonant': 0.997219, 'acc_grapheme': 0.992121, 'acc_vowel': 0.997432, 'acc_consonant': 0.997133, 'loss_grapheme': 0.039571, 'loss_vowel': 0.018438, 'loss_consonant': 0.015595}\n",
      "SWA>>>:\n"
     ]
    },
    {
     "name": "stderr",
     "output_type": "stream",
     "text": [
      "100%|██████████| 209/209 [01:14<00:00,  2.91it/s]\n"
     ]
    },
    {
     "name": "stdout",
     "output_type": "stream",
     "text": [
      "\n",
      "val: {'recall': 0.998409, 'recall_grapheme': 0.997734, 'recall_vowel': 0.99905, 'recall_consonant': 0.999117, 'acc_grapheme': 0.997482, 'acc_vowel': 0.998878, 'acc_consonant': 0.999003, 'loss_grapheme': 0.013467, 'loss_vowel': 0.006319, 'loss_consonant': 0.004426}\n",
      "   36 | 0.000056 | 160512/160735 | 0.0006 | 1.1332 |\n",
      "val: {'recall': 0.996146, 'recall_grapheme': 0.994569, 'recall_vowel': 0.997677, 'recall_consonant': 0.997768, 'acc_grapheme': 0.993941, 'acc_vowel': 0.997831, 'acc_consonant': 0.997831, 'loss_grapheme': 0.028773, 'loss_vowel': 0.011716, 'loss_consonant': 0.00928}\n",
      "   37 | 0.000054 | 160512/160735 | 2.0886 | 1.0961 |\n",
      "val: {'recall': 0.996473, 'recall_grapheme': 0.994863, 'recall_vowel': 0.998312, 'recall_consonant': 0.997854, 'acc_grapheme': 0.994564, 'acc_vowel': 0.99823, 'acc_consonant': 0.997806, 'loss_grapheme': 0.031229, 'loss_vowel': 0.015928, 'loss_consonant': 0.012269}\n",
      "   38 | 0.000052 | 160512/160735 | 0.0019 | 1.1066 |"
     ]
    },
    {
     "name": "stderr",
     "output_type": "stream",
     "text": [
      "\r",
      "  0%|          | 0/209 [00:00<?, ?it/s]"
     ]
    },
    {
     "name": "stdout",
     "output_type": "stream",
     "text": [
      "\n",
      "val: {'recall': 0.995121, 'recall_grapheme': 0.992941, 'recall_vowel': 0.997322, 'recall_consonant': 0.997278, 'acc_grapheme': 0.992071, 'acc_vowel': 0.997631, 'acc_consonant': 0.997257, 'loss_grapheme': 0.050003, 'loss_vowel': 0.025758, 'loss_consonant': 0.018548}\n",
      "SWA>>>:\n"
     ]
    },
    {
     "name": "stderr",
     "output_type": "stream",
     "text": [
      "100%|██████████| 209/209 [01:15<00:00,  2.89it/s]\n"
     ]
    },
    {
     "name": "stdout",
     "output_type": "stream",
     "text": [
      "\n",
      "val: {'recall': 0.998409, 'recall_grapheme': 0.997734, 'recall_vowel': 0.99905, 'recall_consonant': 0.999117, 'acc_grapheme': 0.997482, 'acc_vowel': 0.998878, 'acc_consonant': 0.999003, 'loss_grapheme': 0.013466, 'loss_vowel': 0.006296, 'loss_consonant': 0.004438}\n",
      "   39 | 0.000050 | 160512/160735 | 0.8967 | 0.9325 |\n",
      "val: {'recall': 0.995811, 'recall_grapheme': 0.99467, 'recall_vowel': 0.997478, 'recall_consonant': 0.996429, 'acc_grapheme': 0.993966, 'acc_vowel': 0.997756, 'acc_consonant': 0.997556, 'loss_grapheme': 0.030204, 'loss_vowel': 0.013397, 'loss_consonant': 0.010785}\n",
      "   40 | 0.000048 | 160512/160735 | 0.0011 | 1.1249 |\n",
      "val: {'recall': 0.993884, 'recall_grapheme': 0.991773, 'recall_vowel': 0.99697, 'recall_consonant': 0.995022, 'acc_grapheme': 0.991048, 'acc_vowel': 0.997207, 'acc_consonant': 0.997033, 'loss_grapheme': 0.039195, 'loss_vowel': 0.014982, 'loss_consonant': 0.013339}\n",
      "   41 | 0.000046 | 160512/160735 | 0.0005 | 1.0603 |"
     ]
    },
    {
     "name": "stderr",
     "output_type": "stream",
     "text": [
      "\r",
      "  0%|          | 0/209 [00:00<?, ?it/s]"
     ]
    },
    {
     "name": "stdout",
     "output_type": "stream",
     "text": [
      "\n",
      "val: {'recall': 0.996444, 'recall_grapheme': 0.994895, 'recall_vowel': 0.99809, 'recall_consonant': 0.997896, 'acc_grapheme': 0.994589, 'acc_vowel': 0.99813, 'acc_consonant': 0.997905, 'loss_grapheme': 0.030662, 'loss_vowel': 0.016305, 'loss_consonant': 0.012302}\n",
      "SWA>>>:\n"
     ]
    },
    {
     "name": "stderr",
     "output_type": "stream",
     "text": [
      "100%|██████████| 209/209 [01:14<00:00,  2.89it/s]\n"
     ]
    },
    {
     "name": "stdout",
     "output_type": "stream",
     "text": [
      "\n",
      "val: {'recall': 0.998396, 'recall_grapheme': 0.997719, 'recall_vowel': 0.999035, 'recall_consonant': 0.999112, 'acc_grapheme': 0.997482, 'acc_vowel': 0.998853, 'acc_consonant': 0.998978, 'loss_grapheme': 0.013449, 'loss_vowel': 0.006298, 'loss_consonant': 0.004469}\n",
      "   42 | 0.000044 | 160512/160735 | 1.2548 | 1.1396 |\n",
      "val: {'recall': 0.996029, 'recall_grapheme': 0.994266, 'recall_vowel': 0.997576, 'recall_consonant': 0.998006, 'acc_grapheme': 0.993891, 'acc_vowel': 0.997831, 'acc_consonant': 0.99798, 'loss_grapheme': 0.028869, 'loss_vowel': 0.012164, 'loss_consonant': 0.009516}\n",
      "   43 | 0.000042 | 160512/160735 | 1.4583 | 1.1345 |\n",
      "val: {'recall': 0.993885, 'recall_grapheme': 0.990933, 'recall_vowel': 0.996939, 'recall_consonant': 0.996734, 'acc_grapheme': 0.989702, 'acc_vowel': 0.997083, 'acc_consonant': 0.996634, 'loss_grapheme': 0.04266, 'loss_vowel': 0.016635, 'loss_consonant': 0.015013}\n",
      "   44 | 0.000040 | 160512/160735 | 2.6798 | 1.0841 |"
     ]
    },
    {
     "name": "stderr",
     "output_type": "stream",
     "text": [
      "\r",
      "  0%|          | 0/209 [00:00<?, ?it/s]"
     ]
    },
    {
     "name": "stdout",
     "output_type": "stream",
     "text": [
      "\n",
      "val: {'recall': 0.99588, 'recall_grapheme': 0.994075, 'recall_vowel': 0.997724, 'recall_consonant': 0.997645, 'acc_grapheme': 0.993517, 'acc_vowel': 0.997781, 'acc_consonant': 0.997556, 'loss_grapheme': 0.038606, 'loss_vowel': 0.022236, 'loss_consonant': 0.016927}\n",
      "SWA>>>:\n"
     ]
    },
    {
     "name": "stderr",
     "output_type": "stream",
     "text": [
      "100%|██████████| 209/209 [01:14<00:00,  2.92it/s]\n"
     ]
    },
    {
     "name": "stdout",
     "output_type": "stream",
     "text": [
      "\n",
      "val: {'recall': 0.9984, 'recall_grapheme': 0.997718, 'recall_vowel': 0.999079, 'recall_consonant': 0.999087, 'acc_grapheme': 0.997457, 'acc_vowel': 0.998903, 'acc_consonant': 0.998978, 'loss_grapheme': 0.01346, 'loss_vowel': 0.006275, 'loss_consonant': 0.004443}\n",
      "   45 | 0.000038 | 160512/160735 | 0.0094 | 1.1873 |\n",
      "val: {'recall': 0.994983, 'recall_grapheme': 0.9926, 'recall_vowel': 0.997257, 'recall_consonant': 0.997475, 'acc_grapheme': 0.991672, 'acc_vowel': 0.997457, 'acc_consonant': 0.997332, 'loss_grapheme': 0.035136, 'loss_vowel': 0.013237, 'loss_consonant': 0.011605}\n",
      "   46 | 0.000036 | 160512/160735 | 1.7482 | 1.1130 |\n",
      "val: {'recall': 0.99413, 'recall_grapheme': 0.992385, 'recall_vowel': 0.997089, 'recall_consonant': 0.994661, 'acc_grapheme': 0.991298, 'acc_vowel': 0.997357, 'acc_consonant': 0.997157, 'loss_grapheme': 0.036354, 'loss_vowel': 0.014542, 'loss_consonant': 0.012376}\n",
      "   47 | 0.000035 | 160512/160735 | 3.1856 | 1.1768 |"
     ]
    },
    {
     "name": "stderr",
     "output_type": "stream",
     "text": [
      "\r",
      "  0%|          | 0/209 [00:00<?, ?it/s]"
     ]
    },
    {
     "name": "stdout",
     "output_type": "stream",
     "text": [
      "\n",
      "val: {'recall': 0.994947, 'recall_grapheme': 0.99259, 'recall_vowel': 0.997035, 'recall_consonant': 0.997573, 'acc_grapheme': 0.991921, 'acc_vowel': 0.997307, 'acc_consonant': 0.997282, 'loss_grapheme': 0.046083, 'loss_vowel': 0.022555, 'loss_consonant': 0.017188}\n",
      "SWA>>>:\n"
     ]
    },
    {
     "name": "stderr",
     "output_type": "stream",
     "text": [
      "100%|██████████| 209/209 [01:14<00:00,  2.92it/s]\n"
     ]
    },
    {
     "name": "stdout",
     "output_type": "stream",
     "text": [
      "\n",
      "val: {'recall': 0.998397, 'recall_grapheme': 0.997718, 'recall_vowel': 0.999035, 'recall_consonant': 0.999117, 'acc_grapheme': 0.997457, 'acc_vowel': 0.998853, 'acc_consonant': 0.999003, 'loss_grapheme': 0.013418, 'loss_vowel': 0.006281, 'loss_consonant': 0.004441}\n",
      "   48 | 0.000033 | 160512/160735 | 2.7022 | 1.0711 |\n",
      "val: {'recall': 0.995912, 'recall_grapheme': 0.994206, 'recall_vowel': 0.997526, 'recall_consonant': 0.997711, 'acc_grapheme': 0.993392, 'acc_vowel': 0.997656, 'acc_consonant': 0.997507, 'loss_grapheme': 0.03431, 'loss_vowel': 0.015802, 'loss_consonant': 0.01273}\n",
      "   49 | 0.000031 | 160512/160735 | 1.7012 | 1.0535 |\n",
      "val: {'recall': 0.994293, 'recall_grapheme': 0.992177, 'recall_vowel': 0.997033, 'recall_consonant': 0.995785, 'acc_grapheme': 0.991447, 'acc_vowel': 0.997232, 'acc_consonant': 0.997157, 'loss_grapheme': 0.039314, 'loss_vowel': 0.015431, 'loss_consonant': 0.013212}\n",
      "   50 | 0.000029 | 160512/160735 | 1.4277 | 1.0483 |"
     ]
    },
    {
     "name": "stderr",
     "output_type": "stream",
     "text": [
      "\r",
      "  0%|          | 0/209 [00:00<?, ?it/s]"
     ]
    },
    {
     "name": "stdout",
     "output_type": "stream",
     "text": [
      "\n",
      "val: {'recall': 0.996491, 'recall_grapheme': 0.99487, 'recall_vowel': 0.998141, 'recall_consonant': 0.998082, 'acc_grapheme': 0.99419, 'acc_vowel': 0.99813, 'acc_consonant': 0.997955, 'loss_grapheme': 0.028648, 'loss_vowel': 0.01248, 'loss_consonant': 0.01014}\n",
      "SWA>>>:\n"
     ]
    },
    {
     "name": "stderr",
     "output_type": "stream",
     "text": [
      "100%|██████████| 209/209 [01:14<00:00,  2.80it/s]\n"
     ]
    },
    {
     "name": "stdout",
     "output_type": "stream",
     "text": [
      "\n",
      "val: {'recall': 0.998415, 'recall_grapheme': 0.997745, 'recall_vowel': 0.99905, 'recall_consonant': 0.999117, 'acc_grapheme': 0.997507, 'acc_vowel': 0.998878, 'acc_consonant': 0.999003, 'loss_grapheme': 0.013431, 'loss_vowel': 0.006275, 'loss_consonant': 0.004446}\n",
      "###>>>>> saved ./models/se_resnext50_32x4d/model3_se_resnext50_fold4_224_cyclic.pth_swa\n",
      "   51 | 0.000027 | 160512/160735 | 0.0034 | 1.0349 |\n",
      "val: {'recall': 0.995847, 'recall_grapheme': 0.993779, 'recall_vowel': 0.997972, 'recall_consonant': 0.997858, 'acc_grapheme': 0.993268, 'acc_vowel': 0.99793, 'acc_consonant': 0.997806, 'loss_grapheme': 0.030591, 'loss_vowel': 0.012654, 'loss_consonant': 0.010278}\n",
      "   52 | 0.000026 | 160512/160735 | 0.0008 | 1.1384 |\n",
      "val: {'recall': 0.995921, 'recall_grapheme': 0.993985, 'recall_vowel': 0.997773, 'recall_consonant': 0.997941, 'acc_grapheme': 0.993592, 'acc_vowel': 0.997881, 'acc_consonant': 0.997681, 'loss_grapheme': 0.032609, 'loss_vowel': 0.0156, 'loss_consonant': 0.012044}\n",
      "   53 | 0.000024 | 160512/160735 | 0.9886 | 1.0223 |"
     ]
    },
    {
     "name": "stderr",
     "output_type": "stream",
     "text": [
      "\r",
      "  0%|          | 0/209 [00:00<?, ?it/s]"
     ]
    },
    {
     "name": "stdout",
     "output_type": "stream",
     "text": [
      "\n",
      "val: {'recall': 0.996266, 'recall_grapheme': 0.994482, 'recall_vowel': 0.998175, 'recall_consonant': 0.997926, 'acc_grapheme': 0.993741, 'acc_vowel': 0.99813, 'acc_consonant': 0.997856, 'loss_grapheme': 0.027706, 'loss_vowel': 0.01117, 'loss_consonant': 0.008826}\n",
      "SWA>>>:\n"
     ]
    },
    {
     "name": "stderr",
     "output_type": "stream",
     "text": [
      "100%|██████████| 209/209 [01:14<00:00,  2.90it/s]\n"
     ]
    },
    {
     "name": "stdout",
     "output_type": "stream",
     "text": [
      "\n",
      "val: {'recall': 0.998386, 'recall_grapheme': 0.997719, 'recall_vowel': 0.99905, 'recall_consonant': 0.999056, 'acc_grapheme': 0.997457, 'acc_vowel': 0.998878, 'acc_consonant': 0.998953, 'loss_grapheme': 0.013398, 'loss_vowel': 0.006261, 'loss_consonant': 0.004426}\n",
      "   54 | 0.000022 | 160512/160735 | 2.1904 | 1.0721 |\n",
      "val: {'recall': 0.995, 'recall_grapheme': 0.992525, 'recall_vowel': 0.997614, 'recall_consonant': 0.997336, 'acc_grapheme': 0.991223, 'acc_vowel': 0.997631, 'acc_consonant': 0.997083, 'loss_grapheme': 0.036252, 'loss_vowel': 0.012832, 'loss_consonant': 0.011085}\n",
      "   55 | 0.000021 | 160512/160735 | 2.3274 | 1.0782 |\n",
      "val: {'recall': 0.995777, 'recall_grapheme': 0.993696, 'recall_vowel': 0.997946, 'recall_consonant': 0.997769, 'acc_grapheme': 0.992968, 'acc_vowel': 0.997856, 'acc_consonant': 0.997656, 'loss_grapheme': 0.030732, 'loss_vowel': 0.011946, 'loss_consonant': 0.00972}\n",
      "   56 | 0.000019 | 160512/160735 | 1.3769 | 1.0025 |"
     ]
    },
    {
     "name": "stderr",
     "output_type": "stream",
     "text": [
      "\r",
      "  0%|          | 0/209 [00:00<?, ?it/s]"
     ]
    },
    {
     "name": "stdout",
     "output_type": "stream",
     "text": [
      "\n",
      "val: {'recall': 0.995861, 'recall_grapheme': 0.993995, 'recall_vowel': 0.997873, 'recall_consonant': 0.997582, 'acc_grapheme': 0.993293, 'acc_vowel': 0.99793, 'acc_consonant': 0.997606, 'loss_grapheme': 0.030563, 'loss_vowel': 0.012622, 'loss_consonant': 0.010242}\n",
      "SWA>>>:\n"
     ]
    },
    {
     "name": "stderr",
     "output_type": "stream",
     "text": [
      "100%|██████████| 209/209 [01:14<00:00,  2.91it/s]\n"
     ]
    },
    {
     "name": "stdout",
     "output_type": "stream",
     "text": [
      "\n",
      "val: {'recall': 0.998395, 'recall_grapheme': 0.997705, 'recall_vowel': 0.99905, 'recall_consonant': 0.999117, 'acc_grapheme': 0.997457, 'acc_vowel': 0.998878, 'acc_consonant': 0.999003, 'loss_grapheme': 0.013439, 'loss_vowel': 0.006275, 'loss_consonant': 0.004445}\n",
      "   57 | 0.000018 | 160512/160735 | 1.4666 | 1.1715 |\n",
      "val: {'recall': 0.995118, 'recall_grapheme': 0.992867, 'recall_vowel': 0.99722, 'recall_consonant': 0.997519, 'acc_grapheme': 0.991871, 'acc_vowel': 0.997382, 'acc_consonant': 0.997332, 'loss_grapheme': 0.034858, 'loss_vowel': 0.013511, 'loss_consonant': 0.01123}\n",
      "   58 | 0.000016 | 160512/160735 | 1.4212 | 0.9855 |\n",
      "val: {'recall': 0.995571, 'recall_grapheme': 0.993478, 'recall_vowel': 0.997593, 'recall_consonant': 0.997736, 'acc_grapheme': 0.992694, 'acc_vowel': 0.997905, 'acc_consonant': 0.997631, 'loss_grapheme': 0.036557, 'loss_vowel': 0.01663, 'loss_consonant': 0.012865}\n",
      "   59 | 0.000015 | 160512/160735 | 0.0006 | 1.0279 |"
     ]
    },
    {
     "name": "stderr",
     "output_type": "stream",
     "text": [
      "\r",
      "  0%|          | 0/209 [00:00<?, ?it/s]"
     ]
    },
    {
     "name": "stdout",
     "output_type": "stream",
     "text": [
      "\n",
      "val: {'recall': 0.99613, 'recall_grapheme': 0.994338, 'recall_vowel': 0.997939, 'recall_consonant': 0.997905, 'acc_grapheme': 0.993966, 'acc_vowel': 0.99808, 'acc_consonant': 0.998005, 'loss_grapheme': 0.026986, 'loss_vowel': 0.01159, 'loss_consonant': 0.008805}\n",
      "SWA>>>:\n"
     ]
    },
    {
     "name": "stderr",
     "output_type": "stream",
     "text": [
      "100%|██████████| 209/209 [01:14<00:00,  2.77it/s]\n"
     ]
    },
    {
     "name": "stdout",
     "output_type": "stream",
     "text": [
      "\n",
      "val: {'recall': 0.99838, 'recall_grapheme': 0.997691, 'recall_vowel': 0.99905, 'recall_consonant': 0.999087, 'acc_grapheme': 0.997432, 'acc_vowel': 0.998878, 'acc_consonant': 0.998978, 'loss_grapheme': 0.013433, 'loss_vowel': 0.006271, 'loss_consonant': 0.004417}\n",
      "   60 | 0.000013 | 160512/160735 | 0.9097 | 0.9815 |\n",
      "val: {'recall': 0.995899, 'recall_grapheme': 0.993978, 'recall_vowel': 0.997805, 'recall_consonant': 0.997836, 'acc_grapheme': 0.993567, 'acc_vowel': 0.997881, 'acc_consonant': 0.997831, 'loss_grapheme': 0.030621, 'loss_vowel': 0.013754, 'loss_consonant': 0.010469}\n",
      "   61 | 0.000012 | 160512/160735 | 1.8263 | 1.2382 |\n",
      "val: {'recall': 0.995668, 'recall_grapheme': 0.993689, 'recall_vowel': 0.997602, 'recall_consonant': 0.997692, 'acc_grapheme': 0.993018, 'acc_vowel': 0.997806, 'acc_consonant': 0.997581, 'loss_grapheme': 0.030841, 'loss_vowel': 0.012383, 'loss_consonant': 0.009979}\n",
      "   62 | 0.000011 | 160512/160735 | 1.2160 | 1.0722 |"
     ]
    },
    {
     "name": "stderr",
     "output_type": "stream",
     "text": [
      "\r",
      "  0%|          | 0/209 [00:00<?, ?it/s]"
     ]
    },
    {
     "name": "stdout",
     "output_type": "stream",
     "text": [
      "\n",
      "val: {'recall': 0.996519, 'recall_grapheme': 0.995048, 'recall_vowel': 0.99808, 'recall_consonant': 0.9979, 'acc_grapheme': 0.99414, 'acc_vowel': 0.998005, 'acc_consonant': 0.997881, 'loss_grapheme': 0.027578, 'loss_vowel': 0.011157, 'loss_consonant': 0.008854}\n",
      "SWA>>>:\n"
     ]
    },
    {
     "name": "stderr",
     "output_type": "stream",
     "text": [
      "100%|██████████| 209/209 [01:14<00:00,  2.83it/s]\n"
     ]
    },
    {
     "name": "stdout",
     "output_type": "stream",
     "text": [
      "\n",
      "val: {'recall': 0.998383, 'recall_grapheme': 0.997721, 'recall_vowel': 0.999035, 'recall_consonant': 0.999056, 'acc_grapheme': 0.997457, 'acc_vowel': 0.998853, 'acc_consonant': 0.998953, 'loss_grapheme': 0.013431, 'loss_vowel': 0.006279, 'loss_consonant': 0.004435}\n",
      "   63 | 0.000010 | 160512/160735 | 0.8883 | 1.0863 |\n",
      "val: {'recall': 0.994371, 'recall_grapheme': 0.991738, 'recall_vowel': 0.996893, 'recall_consonant': 0.997113, 'acc_grapheme': 0.990325, 'acc_vowel': 0.997058, 'acc_consonant': 0.996933, 'loss_grapheme': 0.040296, 'loss_vowel': 0.014285, 'loss_consonant': 0.012592}\n",
      "   64 | 0.000008 | 160512/160735 | 1.6056 | 1.0789 |\n",
      "val: {'recall': 0.995493, 'recall_grapheme': 0.993383, 'recall_vowel': 0.997513, 'recall_consonant': 0.997693, 'acc_grapheme': 0.992968, 'acc_vowel': 0.997756, 'acc_consonant': 0.997581, 'loss_grapheme': 0.031003, 'loss_vowel': 0.012185, 'loss_consonant': 0.009974}\n",
      "   65 | 0.000007 | 160512/160735 | 0.0099 | 1.1106 |"
     ]
    },
    {
     "name": "stderr",
     "output_type": "stream",
     "text": [
      "\r",
      "  0%|          | 0/209 [00:00<?, ?it/s]"
     ]
    },
    {
     "name": "stdout",
     "output_type": "stream",
     "text": [
      "\n",
      "val: {'recall': 0.996087, 'recall_grapheme': 0.99435, 'recall_vowel': 0.997746, 'recall_consonant': 0.997903, 'acc_grapheme': 0.993617, 'acc_vowel': 0.997881, 'acc_consonant': 0.997881, 'loss_grapheme': 0.031814, 'loss_vowel': 0.014946, 'loss_consonant': 0.0113}\n",
      "SWA>>>:\n"
     ]
    },
    {
     "name": "stderr",
     "output_type": "stream",
     "text": [
      "100%|██████████| 209/209 [01:14<00:00,  2.85it/s]\n"
     ]
    },
    {
     "name": "stdout",
     "output_type": "stream",
     "text": [
      "\n",
      "val: {'recall': 0.998383, 'recall_grapheme': 0.997697, 'recall_vowel': 0.99905, 'recall_consonant': 0.999087, 'acc_grapheme': 0.997457, 'acc_vowel': 0.998878, 'acc_consonant': 0.998978, 'loss_grapheme': 0.013427, 'loss_vowel': 0.006258, 'loss_consonant': 0.004428}\n",
      "   66 | 0.000006 | 160512/160735 | 0.0086 | 1.0716 |\n",
      "val: {'recall': 0.99493, 'recall_grapheme': 0.99254, 'recall_vowel': 0.997195, 'recall_consonant': 0.997446, 'acc_grapheme': 0.991797, 'acc_vowel': 0.997432, 'acc_consonant': 0.997257, 'loss_grapheme': 0.035327, 'loss_vowel': 0.013071, 'loss_consonant': 0.011209}\n",
      "   67 | 0.000005 | 160512/160735 | 1.5771 | 1.0635 |\n",
      "val: {'recall': 0.994167, 'recall_grapheme': 0.992489, 'recall_vowel': 0.997127, 'recall_consonant': 0.994561, 'acc_grapheme': 0.992071, 'acc_vowel': 0.997432, 'acc_consonant': 0.997108, 'loss_grapheme': 0.034776, 'loss_vowel': 0.013491, 'loss_consonant': 0.012302}\n",
      "   68 | 0.000005 | 160512/160735 | 0.0025 | 1.0200 |"
     ]
    },
    {
     "name": "stderr",
     "output_type": "stream",
     "text": [
      "\r",
      "  0%|          | 0/209 [00:00<?, ?it/s]"
     ]
    },
    {
     "name": "stdout",
     "output_type": "stream",
     "text": [
      "\n",
      "val: {'recall': 0.996324, 'recall_grapheme': 0.994571, 'recall_vowel': 0.998132, 'recall_consonant': 0.99802, 'acc_grapheme': 0.993866, 'acc_vowel': 0.998105, 'acc_consonant': 0.997905, 'loss_grapheme': 0.033073, 'loss_vowel': 0.016436, 'loss_consonant': 0.012514}\n",
      "SWA>>>:\n"
     ]
    },
    {
     "name": "stderr",
     "output_type": "stream",
     "text": [
      "100%|██████████| 209/209 [01:14<00:00,  2.88it/s]\n"
     ]
    },
    {
     "name": "stdout",
     "output_type": "stream",
     "text": [
      "\n",
      "val: {'recall': 0.998368, 'recall_grapheme': 0.99766, 'recall_vowel': 0.999024, 'recall_consonant': 0.999129, 'acc_grapheme': 0.997407, 'acc_vowel': 0.998828, 'acc_consonant': 0.999052, 'loss_grapheme': 0.013409, 'loss_vowel': 0.006279, 'loss_consonant': 0.004428}\n",
      "   69 | 0.000004 | 160512/160735 | 1.1926 | 1.0347 |\n",
      "val: {'recall': 0.993247, 'recall_grapheme': 0.991643, 'recall_vowel': 0.996614, 'recall_consonant': 0.993088, 'acc_grapheme': 0.990051, 'acc_vowel': 0.996883, 'acc_consonant': 0.996584, 'loss_grapheme': 0.041742, 'loss_vowel': 0.015096, 'loss_consonant': 0.01403}\n",
      "   70 | 0.000003 | 160512/160735 | 1.7338 | 1.1416 |\n",
      "val: {'recall': 0.993879, 'recall_grapheme': 0.990884, 'recall_vowel': 0.996877, 'recall_consonant': 0.996873, 'acc_grapheme': 0.989278, 'acc_vowel': 0.997058, 'acc_consonant': 0.996709, 'loss_grapheme': 0.044357, 'loss_vowel': 0.015296, 'loss_consonant': 0.013816}\n",
      "   71 | 0.000002 | 160512/160735 | 1.8311 | 1.2231 |"
     ]
    },
    {
     "name": "stderr",
     "output_type": "stream",
     "text": [
      "\r",
      "  0%|          | 0/209 [00:00<?, ?it/s]"
     ]
    },
    {
     "name": "stdout",
     "output_type": "stream",
     "text": [
      "\n",
      "val: {'recall': 0.993775, 'recall_grapheme': 0.990589, 'recall_vowel': 0.996891, 'recall_consonant': 0.997032, 'acc_grapheme': 0.989652, 'acc_vowel': 0.997108, 'acc_consonant': 0.996709, 'loss_grapheme': 0.044265, 'loss_vowel': 0.016033, 'loss_consonant': 0.013977}\n",
      "SWA>>>:\n"
     ]
    },
    {
     "name": "stderr",
     "output_type": "stream",
     "text": [
      "100%|██████████| 209/209 [01:14<00:00,  2.91it/s]\n"
     ]
    },
    {
     "name": "stdout",
     "output_type": "stream",
     "text": [
      "\n",
      "val: {'recall': 0.998387, 'recall_grapheme': 0.997708, 'recall_vowel': 0.99905, 'recall_consonant': 0.999081, 'acc_grapheme': 0.997457, 'acc_vowel': 0.998878, 'acc_consonant': 0.998953, 'loss_grapheme': 0.01341, 'loss_vowel': 0.006246, 'loss_consonant': 0.004433}\n",
      "   72 | 0.000002 | 160512/160735 | 0.2342 | 1.2140 |\n",
      "val: {'recall': 0.995477, 'recall_grapheme': 0.99347, 'recall_vowel': 0.997382, 'recall_consonant': 0.997585, 'acc_grapheme': 0.992445, 'acc_vowel': 0.997531, 'acc_consonant': 0.997432, 'loss_grapheme': 0.037373, 'loss_vowel': 0.018516, 'loss_consonant': 0.014332}\n",
      "   73 | 0.000001 | 160512/160735 | 0.0006 | 1.0835 |\n",
      "val: {'recall': 0.996057, 'recall_grapheme': 0.994283, 'recall_vowel': 0.997718, 'recall_consonant': 0.997946, 'acc_grapheme': 0.993716, 'acc_vowel': 0.998005, 'acc_consonant': 0.997831, 'loss_grapheme': 0.031724, 'loss_vowel': 0.015013, 'loss_consonant': 0.011399}\n",
      "   74 | 0.000001 | 160512/160735 | 1.4607 | 1.1681 |"
     ]
    },
    {
     "name": "stderr",
     "output_type": "stream",
     "text": [
      "\r",
      "  0%|          | 0/209 [00:00<?, ?it/s]"
     ]
    },
    {
     "name": "stdout",
     "output_type": "stream",
     "text": [
      "\n",
      "val: {'recall': 0.995653, 'recall_grapheme': 0.993636, 'recall_vowel': 0.997654, 'recall_consonant': 0.997685, 'acc_grapheme': 0.993243, 'acc_vowel': 0.997831, 'acc_consonant': 0.997706, 'loss_grapheme': 0.030199, 'loss_vowel': 0.011677, 'loss_consonant': 0.009643}\n",
      "SWA>>>:\n"
     ]
    },
    {
     "name": "stderr",
     "output_type": "stream",
     "text": [
      "100%|██████████| 209/209 [01:14<00:00,  2.93it/s]\n"
     ]
    },
    {
     "name": "stdout",
     "output_type": "stream",
     "text": [
      "\n",
      "val: {'recall': 0.998377, 'recall_grapheme': 0.997685, 'recall_vowel': 0.99905, 'recall_consonant': 0.999087, 'acc_grapheme': 0.997457, 'acc_vowel': 0.998878, 'acc_consonant': 0.998978, 'loss_grapheme': 0.013383, 'loss_vowel': 0.006203, 'loss_consonant': 0.004414}\n",
      "   75 | 0.000001 | 160512/160735 | 0.5948 | 1.1042 |\n",
      "val: {'recall': 0.996681, 'recall_grapheme': 0.99515, 'recall_vowel': 0.9982, 'recall_consonant': 0.998222, 'acc_grapheme': 0.995088, 'acc_vowel': 0.998255, 'acc_consonant': 0.998205, 'loss_grapheme': 0.031481, 'loss_vowel': 0.017098, 'loss_consonant': 0.01179}\n",
      "   76 | 0.000000 | 160512/160735 | 0.0029 | 1.1083 |\n",
      "val: {'recall': 0.996474, 'recall_grapheme': 0.99482, 'recall_vowel': 0.998259, 'recall_consonant': 0.997997, 'acc_grapheme': 0.994215, 'acc_vowel': 0.998105, 'acc_consonant': 0.99793, 'loss_grapheme': 0.034295, 'loss_vowel': 0.01696, 'loss_consonant': 0.01283}\n",
      "   77 | 0.000000 | 160512/160735 | 1.4642 | 1.1432 |"
     ]
    },
    {
     "name": "stderr",
     "output_type": "stream",
     "text": [
      "\r",
      "  0%|          | 0/209 [00:00<?, ?it/s]"
     ]
    },
    {
     "name": "stdout",
     "output_type": "stream",
     "text": [
      "\n",
      "val: {'recall': 0.994963, 'recall_grapheme': 0.992532, 'recall_vowel': 0.997299, 'recall_consonant': 0.99749, 'acc_grapheme': 0.991622, 'acc_vowel': 0.997507, 'acc_consonant': 0.997307, 'loss_grapheme': 0.035386, 'loss_vowel': 0.013265, 'loss_consonant': 0.011386}\n",
      "SWA>>>:\n"
     ]
    },
    {
     "name": "stderr",
     "output_type": "stream",
     "text": [
      "100%|██████████| 209/209 [01:14<00:00,  2.92it/s]\n"
     ]
    },
    {
     "name": "stdout",
     "output_type": "stream",
     "text": [
      "\n",
      "val: {'recall': 0.998371, 'recall_grapheme': 0.997679, 'recall_vowel': 0.999039, 'recall_consonant': 0.999087, 'acc_grapheme': 0.997432, 'acc_vowel': 0.998853, 'acc_consonant': 0.998978, 'loss_grapheme': 0.013394, 'loss_vowel': 0.006218, 'loss_consonant': 0.004417}\n",
      "   78 | 0.000000 | 160512/160735 | 2.4411 | 1.1784 |\n",
      "val: {'recall': 0.995373, 'recall_grapheme': 0.993237, 'recall_vowel': 0.997366, 'recall_consonant': 0.997651, 'acc_grapheme': 0.99247, 'acc_vowel': 0.997681, 'acc_consonant': 0.997631, 'loss_grapheme': 0.034542, 'loss_vowel': 0.013675, 'loss_consonant': 0.011292}\n",
      "   79 | 0.000000 | 160512/160735 | 0.5149 | 1.0818 |\n",
      "val: {'recall': 0.995185, 'recall_grapheme': 0.992874, 'recall_vowel': 0.997339, 'recall_consonant': 0.997652, 'acc_grapheme': 0.992096, 'acc_vowel': 0.997507, 'acc_consonant': 0.997407, 'loss_grapheme': 0.03436, 'loss_vowel': 0.013185, 'loss_consonant': 0.010942}\n",
      "CYCLE: 6\n",
      "    0 | 0.000020 | 160512/160735 | 0.0004 | 1.1600 |\n",
      "val: {'recall': 0.99563, 'recall_grapheme': 0.993677, 'recall_vowel': 0.99754, 'recall_consonant': 0.997627, 'acc_grapheme': 0.993367, 'acc_vowel': 0.997781, 'acc_consonant': 0.997681, 'loss_grapheme': 0.038311, 'loss_vowel': 0.017304, 'loss_consonant': 0.013016}\n",
      "    1 | 0.000040 | 160512/160735 | 0.3942 | 1.0017 |\n",
      "val: {'recall': 0.997, 'recall_grapheme': 0.995749, 'recall_vowel': 0.998075, 'recall_consonant': 0.998427, 'acc_grapheme': 0.995362, 'acc_vowel': 0.99823, 'acc_consonant': 0.998354, 'loss_grapheme': 0.033949, 'loss_vowel': 0.01784, 'loss_consonant': 0.011664}\n",
      "    2 | 0.000060 | 160512/160735 | 0.3572 | 1.0801 |\n",
      "val: {'recall': 0.997014, 'recall_grapheme': 0.995946, 'recall_vowel': 0.997992, 'recall_consonant': 0.998169, 'acc_grapheme': 0.995213, 'acc_vowel': 0.998155, 'acc_consonant': 0.998304, 'loss_grapheme': 0.028619, 'loss_vowel': 0.01336, 'loss_consonant': 0.009614}\n",
      "    3 | 0.000079 | 160512/160735 | 0.0002 | 1.1266 |\n",
      "val: {'recall': 0.995638, 'recall_grapheme': 0.993484, 'recall_vowel': 0.997752, 'recall_consonant': 0.997833, 'acc_grapheme': 0.992993, 'acc_vowel': 0.997806, 'acc_consonant': 0.997606, 'loss_grapheme': 0.040989, 'loss_vowel': 0.019789, 'loss_consonant': 0.015233}\n",
      "    4 | 0.000099 | 160512/160735 | 0.6366 | 1.0704 |\n",
      "val: {'recall': 0.995563, 'recall_grapheme': 0.993505, 'recall_vowel': 0.997515, 'recall_consonant': 0.997727, 'acc_grapheme': 0.992769, 'acc_vowel': 0.997731, 'acc_consonant': 0.997507, 'loss_grapheme': 0.042629, 'loss_vowel': 0.020657, 'loss_consonant': 0.016381}\n",
      "    5 | 0.000099 | 160512/160735 | 0.0010 | 1.0995 |\n",
      "val: {'recall': 0.995633, 'recall_grapheme': 0.993613, 'recall_vowel': 0.997716, 'recall_consonant': 0.997593, 'acc_grapheme': 0.993268, 'acc_vowel': 0.997856, 'acc_consonant': 0.997432, 'loss_grapheme': 0.044042, 'loss_vowel': 0.023362, 'loss_consonant': 0.016594}\n",
      "    6 | 0.000098 | 160512/160735 | 0.9154 | 1.1091 |\n",
      "val: {'recall': 0.996146, 'recall_grapheme': 0.994328, 'recall_vowel': 0.998079, 'recall_consonant': 0.997849, 'acc_grapheme': 0.993941, 'acc_vowel': 0.998055, 'acc_consonant': 0.997905, 'loss_grapheme': 0.033144, 'loss_vowel': 0.014989, 'loss_consonant': 0.011272}\n",
      "    7 | 0.000098 | 160512/160735 | 1.9048 | 1.1903 |\n",
      "val: {'recall': 0.994633, 'recall_grapheme': 0.99223, 'recall_vowel': 0.997145, 'recall_consonant': 0.996927, 'acc_grapheme': 0.991173, 'acc_vowel': 0.997382, 'acc_consonant': 0.996858, 'loss_grapheme': 0.03928, 'loss_vowel': 0.013843, 'loss_consonant': 0.012852}\n",
      "    8 | 0.000097 | 160512/160735 | 0.0024 | 1.2180 |\n",
      "val: {'recall': 0.995198, 'recall_grapheme': 0.992663, 'recall_vowel': 0.997878, 'recall_consonant': 0.997588, 'acc_grapheme': 0.992894, 'acc_vowel': 0.997781, 'acc_consonant': 0.997457, 'loss_grapheme': 0.037864, 'loss_vowel': 0.018881, 'loss_consonant': 0.013982}\n",
      "    9 | 0.000096 | 160512/160735 | 0.0039 | 0.9705 |\n",
      "val: {'recall': 0.99649, 'recall_grapheme': 0.994744, 'recall_vowel': 0.998477, 'recall_consonant': 0.997995, 'acc_grapheme': 0.994415, 'acc_vowel': 0.99828, 'acc_consonant': 0.998155, 'loss_grapheme': 0.027605, 'loss_vowel': 0.011608, 'loss_consonant': 0.009089}\n",
      "   10 | 0.000095 | 160512/160735 | 1.2798 | 1.1162 |\n",
      "val: {'recall': 0.994133, 'recall_grapheme': 0.991659, 'recall_vowel': 0.997176, 'recall_consonant': 0.996038, 'acc_grapheme': 0.991198, 'acc_vowel': 0.997332, 'acc_consonant': 0.996734, 'loss_grapheme': 0.055106, 'loss_vowel': 0.032053, 'loss_consonant': 0.025706}\n",
      "   11 | 0.000095 | 160512/160735 | 2.2697 | 1.0508 |\n",
      "val: {'recall': 0.994016, 'recall_grapheme': 0.99111, 'recall_vowel': 0.997311, 'recall_consonant': 0.996532, 'acc_grapheme': 0.99055, 'acc_vowel': 0.997257, 'acc_consonant': 0.996883, 'loss_grapheme': 0.043088, 'loss_vowel': 0.017117, 'loss_consonant': 0.014604}\n",
      "   12 | 0.000094 | 160512/160735 | 0.0003 | 0.9754 |\n",
      "val: {'recall': 0.994236, 'recall_grapheme': 0.99129, 'recall_vowel': 0.997271, 'recall_consonant': 0.997094, 'acc_grapheme': 0.990201, 'acc_vowel': 0.997182, 'acc_consonant': 0.996858, 'loss_grapheme': 0.045668, 'loss_vowel': 0.016997, 'loss_consonant': 0.015091}\n",
      "   13 | 0.000093 | 160512/160735 | 0.0008 | 1.1520 |\n",
      "val: {'recall': 0.995194, 'recall_grapheme': 0.992916, 'recall_vowel': 0.997546, 'recall_consonant': 0.997396, 'acc_grapheme': 0.992445, 'acc_vowel': 0.997606, 'acc_consonant': 0.997282, 'loss_grapheme': 0.036772, 'loss_vowel': 0.014351, 'loss_consonant': 0.012714}\n",
      "   14 | 0.000092 | 160512/160735 | 1.1052 | 1.0981 |"
     ]
    },
    {
     "name": "stderr",
     "output_type": "stream",
     "text": [
      "\r",
      "  0%|          | 0/209 [00:00<?, ?it/s]"
     ]
    },
    {
     "name": "stdout",
     "output_type": "stream",
     "text": [
      "\n",
      "val: {'recall': 0.994292, 'recall_grapheme': 0.99162, 'recall_vowel': 0.996857, 'recall_consonant': 0.997072, 'acc_grapheme': 0.990026, 'acc_vowel': 0.997108, 'acc_consonant': 0.996534, 'loss_grapheme': 0.044131, 'loss_vowel': 0.015009, 'loss_consonant': 0.014439}\n",
      "SWA>>>:\n"
     ]
    },
    {
     "name": "stderr",
     "output_type": "stream",
     "text": [
      "100%|██████████| 209/209 [01:14<00:00,  2.85it/s]\n"
     ]
    },
    {
     "name": "stdout",
     "output_type": "stream",
     "text": [
      "\n",
      "val: {'recall': 0.998378, 'recall_grapheme': 0.997679, 'recall_vowel': 0.999068, 'recall_consonant': 0.999087, 'acc_grapheme': 0.997432, 'acc_vowel': 0.998878, 'acc_consonant': 0.998978, 'loss_grapheme': 0.013418, 'loss_vowel': 0.006209, 'loss_consonant': 0.004412}\n",
      "   15 | 0.000090 | 160512/160735 | 1.5159 | 1.0015 |\n",
      "val: {'recall': 0.993714, 'recall_grapheme': 0.991157, 'recall_vowel': 0.996394, 'recall_consonant': 0.996146, 'acc_grapheme': 0.989877, 'acc_vowel': 0.996933, 'acc_consonant': 0.996285, 'loss_grapheme': 0.04323, 'loss_vowel': 0.01529, 'loss_consonant': 0.015331}\n",
      "   16 | 0.000089 | 160512/160735 | 0.0021 | 1.0255 |\n",
      "val: {'recall': 0.994574, 'recall_grapheme': 0.992032, 'recall_vowel': 0.996845, 'recall_consonant': 0.997387, 'acc_grapheme': 0.990974, 'acc_vowel': 0.997058, 'acc_consonant': 0.996833, 'loss_grapheme': 0.040342, 'loss_vowel': 0.016129, 'loss_consonant': 0.014491}\n",
      "   17 | 0.000088 | 160512/160735 | 2.1060 | 1.1453 |"
     ]
    },
    {
     "name": "stderr",
     "output_type": "stream",
     "text": [
      "\r",
      "  0%|          | 0/209 [00:00<?, ?it/s]"
     ]
    },
    {
     "name": "stdout",
     "output_type": "stream",
     "text": [
      "\n",
      "val: {'recall': 0.99484, 'recall_grapheme': 0.992854, 'recall_vowel': 0.997104, 'recall_consonant': 0.996546, 'acc_grapheme': 0.991697, 'acc_vowel': 0.997407, 'acc_consonant': 0.997482, 'loss_grapheme': 0.036861, 'loss_vowel': 0.013568, 'loss_consonant': 0.01126}\n",
      "SWA>>>:\n"
     ]
    },
    {
     "name": "stderr",
     "output_type": "stream",
     "text": [
      "100%|██████████| 209/209 [01:14<00:00,  2.94it/s]\n"
     ]
    },
    {
     "name": "stdout",
     "output_type": "stream",
     "text": [
      "\n",
      "val: {'recall': 0.9984, 'recall_grapheme': 0.99774, 'recall_vowel': 0.999039, 'recall_consonant': 0.999081, 'acc_grapheme': 0.997482, 'acc_vowel': 0.998853, 'acc_consonant': 0.998953, 'loss_grapheme': 0.013428, 'loss_vowel': 0.006239, 'loss_consonant': 0.004409}\n",
      "   18 | 0.000087 | 160512/160735 | 2.0581 | 1.0806 |\n",
      "val: {'recall': 0.992223, 'recall_grapheme': 0.988662, 'recall_vowel': 0.995986, 'recall_consonant': 0.995581, 'acc_grapheme': 0.987109, 'acc_vowel': 0.996335, 'acc_consonant': 0.995836, 'loss_grapheme': 0.053413, 'loss_vowel': 0.019849, 'loss_consonant': 0.01811}\n",
      "   19 | 0.000085 | 160512/160735 | 1.7985 | 1.0212 |\n",
      "val: {'recall': 0.995439, 'recall_grapheme': 0.994069, 'recall_vowel': 0.997375, 'recall_consonant': 0.996244, 'acc_grapheme': 0.992619, 'acc_vowel': 0.997507, 'acc_consonant': 0.997232, 'loss_grapheme': 0.040683, 'loss_vowel': 0.017251, 'loss_consonant': 0.01478}\n",
      "   20 | 0.000084 | 160512/160735 | 1.6242 | 1.1040 |"
     ]
    },
    {
     "name": "stderr",
     "output_type": "stream",
     "text": [
      "\r",
      "  0%|          | 0/209 [00:00<?, ?it/s]"
     ]
    },
    {
     "name": "stdout",
     "output_type": "stream",
     "text": [
      "\n",
      "val: {'recall': 0.995134, 'recall_grapheme': 0.992936, 'recall_vowel': 0.997415, 'recall_consonant': 0.997248, 'acc_grapheme': 0.99242, 'acc_vowel': 0.997482, 'acc_consonant': 0.997656, 'loss_grapheme': 0.033175, 'loss_vowel': 0.012933, 'loss_consonant': 0.010301}\n",
      "SWA>>>:\n"
     ]
    },
    {
     "name": "stderr",
     "output_type": "stream",
     "text": [
      "100%|██████████| 209/209 [01:14<00:00,  2.93it/s]\n"
     ]
    },
    {
     "name": "stdout",
     "output_type": "stream",
     "text": [
      "\n",
      "val: {'recall': 0.998389, 'recall_grapheme': 0.997714, 'recall_vowel': 0.999035, 'recall_consonant': 0.999093, 'acc_grapheme': 0.997482, 'acc_vowel': 0.998853, 'acc_consonant': 0.999003, 'loss_grapheme': 0.013399, 'loss_vowel': 0.006237, 'loss_consonant': 0.00442}\n",
      "   21 | 0.000082 | 160512/160735 | 0.4810 | 1.0976 |\n",
      "val: {'recall': 0.99531, 'recall_grapheme': 0.993689, 'recall_vowel': 0.997046, 'recall_consonant': 0.996816, 'acc_grapheme': 0.992944, 'acc_vowel': 0.997457, 'acc_consonant': 0.997556, 'loss_grapheme': 0.037093, 'loss_vowel': 0.015438, 'loss_consonant': 0.012866}\n",
      "   22 | 0.000081 | 160512/160735 | 2.3655 | 1.0950 |\n",
      "val: {'recall': 0.994262, 'recall_grapheme': 0.991991, 'recall_vowel': 0.99659, 'recall_consonant': 0.996477, 'acc_grapheme': 0.991423, 'acc_vowel': 0.997133, 'acc_consonant': 0.996783, 'loss_grapheme': 0.050958, 'loss_vowel': 0.024935, 'loss_consonant': 0.018939}\n",
      "   23 | 0.000079 | 160512/160735 | 0.7886 | 1.1297 |"
     ]
    },
    {
     "name": "stderr",
     "output_type": "stream",
     "text": [
      "\r",
      "  0%|          | 0/209 [00:00<?, ?it/s]"
     ]
    },
    {
     "name": "stdout",
     "output_type": "stream",
     "text": [
      "\n",
      "val: {'recall': 0.995147, 'recall_grapheme': 0.992785, 'recall_vowel': 0.997521, 'recall_consonant': 0.997496, 'acc_grapheme': 0.992121, 'acc_vowel': 0.997432, 'acc_consonant': 0.997332, 'loss_grapheme': 0.036621, 'loss_vowel': 0.013221, 'loss_consonant': 0.012547}\n",
      "SWA>>>:\n"
     ]
    },
    {
     "name": "stderr",
     "output_type": "stream",
     "text": [
      "100%|██████████| 209/209 [01:14<00:00,  2.89it/s]\n"
     ]
    },
    {
     "name": "stdout",
     "output_type": "stream",
     "text": [
      "\n",
      "val: {'recall': 0.998385, 'recall_grapheme': 0.997705, 'recall_vowel': 0.99905, 'recall_consonant': 0.999081, 'acc_grapheme': 0.997457, 'acc_vowel': 0.998878, 'acc_consonant': 0.998953, 'loss_grapheme': 0.013385, 'loss_vowel': 0.006198, 'loss_consonant': 0.00441}\n",
      "   24 | 0.000078 | 160512/160735 | 1.4150 | 1.2217 |\n",
      "val: {'recall': 0.994767, 'recall_grapheme': 0.993122, 'recall_vowel': 0.99708, 'recall_consonant': 0.995742, 'acc_grapheme': 0.991797, 'acc_vowel': 0.997232, 'acc_consonant': 0.997157, 'loss_grapheme': 0.036586, 'loss_vowel': 0.014571, 'loss_consonant': 0.011555}\n",
      "   25 | 0.000076 | 160512/160735 | 2.2456 | 1.2243 |\n",
      "val: {'recall': 0.992392, 'recall_grapheme': 0.988673, 'recall_vowel': 0.996141, 'recall_consonant': 0.996082, 'acc_grapheme': 0.987932, 'acc_vowel': 0.99636, 'acc_consonant': 0.996235, 'loss_grapheme': 0.050904, 'loss_vowel': 0.018612, 'loss_consonant': 0.015918}\n",
      "   26 | 0.000074 | 160512/160735 | 0.0024 | 1.1921 |"
     ]
    },
    {
     "name": "stderr",
     "output_type": "stream",
     "text": [
      "\r",
      "  0%|          | 0/209 [00:00<?, ?it/s]"
     ]
    },
    {
     "name": "stdout",
     "output_type": "stream",
     "text": [
      "\n",
      "val: {'recall': 0.996032, 'recall_grapheme': 0.994319, 'recall_vowel': 0.997572, 'recall_consonant': 0.997915, 'acc_grapheme': 0.993741, 'acc_vowel': 0.997681, 'acc_consonant': 0.997955, 'loss_grapheme': 0.029699, 'loss_vowel': 0.012519, 'loss_consonant': 0.00929}\n",
      "SWA>>>:\n"
     ]
    },
    {
     "name": "stderr",
     "output_type": "stream",
     "text": [
      "100%|██████████| 209/209 [01:14<00:00,  2.95it/s]\n"
     ]
    },
    {
     "name": "stdout",
     "output_type": "stream",
     "text": [
      "\n",
      "val: {'recall': 0.998386, 'recall_grapheme': 0.997686, 'recall_vowel': 0.99905, 'recall_consonant': 0.99912, 'acc_grapheme': 0.997407, 'acc_vowel': 0.998878, 'acc_consonant': 0.999003, 'loss_grapheme': 0.0134, 'loss_vowel': 0.006226, 'loss_consonant': 0.004412}\n",
      "   27 | 0.000073 | 160512/160735 | 1.9493 | 1.0513 |\n",
      "val: {'recall': 0.994566, 'recall_grapheme': 0.992276, 'recall_vowel': 0.996879, 'recall_consonant': 0.996833, 'acc_grapheme': 0.990849, 'acc_vowel': 0.997083, 'acc_consonant': 0.997108, 'loss_grapheme': 0.039964, 'loss_vowel': 0.015456, 'loss_consonant': 0.012107}\n",
      "   28 | 0.000071 | 160512/160735 | 1.8157 | 1.0832 |\n",
      "val: {'recall': 0.995608, 'recall_grapheme': 0.994003, 'recall_vowel': 0.997533, 'recall_consonant': 0.996894, 'acc_grapheme': 0.993766, 'acc_vowel': 0.997881, 'acc_consonant': 0.997531, 'loss_grapheme': 0.033904, 'loss_vowel': 0.01832, 'loss_consonant': 0.014565}\n",
      "   29 | 0.000069 | 160512/160735 | 1.6922 | 1.0827 |"
     ]
    },
    {
     "name": "stderr",
     "output_type": "stream",
     "text": [
      "\r",
      "  0%|          | 0/209 [00:00<?, ?it/s]"
     ]
    },
    {
     "name": "stdout",
     "output_type": "stream",
     "text": [
      "\n",
      "val: {'recall': 0.995279, 'recall_grapheme': 0.993094, 'recall_vowel': 0.997261, 'recall_consonant': 0.997668, 'acc_grapheme': 0.992345, 'acc_vowel': 0.997357, 'acc_consonant': 0.997581, 'loss_grapheme': 0.038867, 'loss_vowel': 0.018051, 'loss_consonant': 0.014167}\n",
      "SWA>>>:\n"
     ]
    },
    {
     "name": "stderr",
     "output_type": "stream",
     "text": [
      "100%|██████████| 209/209 [01:14<00:00,  2.83it/s]\n"
     ]
    },
    {
     "name": "stdout",
     "output_type": "stream",
     "text": [
      "\n",
      "val: {'recall': 0.998409, 'recall_grapheme': 0.99775, 'recall_vowel': 0.99905, 'recall_consonant': 0.999087, 'acc_grapheme': 0.997482, 'acc_vowel': 0.998878, 'acc_consonant': 0.998978, 'loss_grapheme': 0.01337, 'loss_vowel': 0.006207, 'loss_consonant': 0.004393}\n",
      "   30 | 0.000067 | 160512/160735 | 0.0023 | 1.0908 |\n",
      "val: {'recall': 0.995649, 'recall_grapheme': 0.993869, 'recall_vowel': 0.997547, 'recall_consonant': 0.997313, 'acc_grapheme': 0.993018, 'acc_vowel': 0.997581, 'acc_consonant': 0.997706, 'loss_grapheme': 0.032237, 'loss_vowel': 0.013326, 'loss_consonant': 0.010893}\n",
      "   31 | 0.000065 | 160512/160735 | 0.0005 | 1.1783 |\n",
      "val: {'recall': 0.993316, 'recall_grapheme': 0.990071, 'recall_vowel': 0.996585, 'recall_consonant': 0.996538, 'acc_grapheme': 0.988705, 'acc_vowel': 0.996833, 'acc_consonant': 0.996634, 'loss_grapheme': 0.046599, 'loss_vowel': 0.017759, 'loss_consonant': 0.014605}\n",
      "   32 | 0.000064 | 160512/160735 | 1.7488 | 1.2009 |"
     ]
    },
    {
     "name": "stderr",
     "output_type": "stream",
     "text": [
      "\r",
      "  0%|          | 0/209 [00:00<?, ?it/s]"
     ]
    },
    {
     "name": "stdout",
     "output_type": "stream",
     "text": [
      "\n",
      "val: {'recall': 0.993866, 'recall_grapheme': 0.991963, 'recall_vowel': 0.996839, 'recall_consonant': 0.9947, 'acc_grapheme': 0.991024, 'acc_vowel': 0.997058, 'acc_consonant': 0.997108, 'loss_grapheme': 0.040032, 'loss_vowel': 0.015478, 'loss_consonant': 0.012775}\n",
      "SWA>>>:\n"
     ]
    },
    {
     "name": "stderr",
     "output_type": "stream",
     "text": [
      "100%|██████████| 209/209 [01:15<00:00,  2.90it/s]\n"
     ]
    },
    {
     "name": "stdout",
     "output_type": "stream",
     "text": [
      "\n",
      "val: {'recall': 0.998393, 'recall_grapheme': 0.997723, 'recall_vowel': 0.999035, 'recall_consonant': 0.999093, 'acc_grapheme': 0.997457, 'acc_vowel': 0.998853, 'acc_consonant': 0.999003, 'loss_grapheme': 0.013322, 'loss_vowel': 0.006195, 'loss_consonant': 0.004408}\n",
      "   33 | 0.000062 | 160512/160735 | 1.9277 | 1.1204 |\n",
      "val: {'recall': 0.993578, 'recall_grapheme': 0.990808, 'recall_vowel': 0.996749, 'recall_consonant': 0.995948, 'acc_grapheme': 0.989877, 'acc_vowel': 0.996958, 'acc_consonant': 0.996509, 'loss_grapheme': 0.042437, 'loss_vowel': 0.015441, 'loss_consonant': 0.014597}\n",
      "   34 | 0.000060 | 160512/160735 | 2.8919 | 1.1501 |\n",
      "val: {'recall': 0.994283, 'recall_grapheme': 0.99222, 'recall_vowel': 0.996725, 'recall_consonant': 0.995967, 'acc_grapheme': 0.991248, 'acc_vowel': 0.997033, 'acc_consonant': 0.996584, 'loss_grapheme': 0.039933, 'loss_vowel': 0.015086, 'loss_consonant': 0.01427}\n",
      "   35 | 0.000058 | 160512/160735 | 2.1439 | 0.9710 |"
     ]
    },
    {
     "name": "stderr",
     "output_type": "stream",
     "text": [
      "\r",
      "  0%|          | 0/209 [00:00<?, ?it/s]"
     ]
    },
    {
     "name": "stdout",
     "output_type": "stream",
     "text": [
      "\n",
      "val: {'recall': 0.995081, 'recall_grapheme': 0.99278, 'recall_vowel': 0.997045, 'recall_consonant': 0.99772, 'acc_grapheme': 0.992195, 'acc_vowel': 0.997457, 'acc_consonant': 0.997556, 'loss_grapheme': 0.037201, 'loss_vowel': 0.017447, 'loss_consonant': 0.013356}\n",
      "SWA>>>:\n"
     ]
    },
    {
     "name": "stderr",
     "output_type": "stream",
     "text": [
      "100%|██████████| 209/209 [01:14<00:00,  2.93it/s]\n"
     ]
    },
    {
     "name": "stdout",
     "output_type": "stream",
     "text": [
      "\n",
      "val: {'recall': 0.998419, 'recall_grapheme': 0.997769, 'recall_vowel': 0.99905, 'recall_consonant': 0.999087, 'acc_grapheme': 0.997482, 'acc_vowel': 0.998878, 'acc_consonant': 0.998978, 'loss_grapheme': 0.013339, 'loss_vowel': 0.006209, 'loss_consonant': 0.004421}\n",
      "###>>>>> saved ./models/se_resnext50_32x4d/model3_se_resnext50_fold4_224_cyclic.pth_swa\n",
      "   36 | 0.000056 | 160512/160735 | 0.7231 | 1.1019 |\n",
      "val: {'recall': 0.995788, 'recall_grapheme': 0.994033, 'recall_vowel': 0.99746, 'recall_consonant': 0.997626, 'acc_grapheme': 0.993093, 'acc_vowel': 0.997706, 'acc_consonant': 0.997531, 'loss_grapheme': 0.03464, 'loss_vowel': 0.015722, 'loss_consonant': 0.012276}\n",
      "   37 | 0.000054 | 160512/160735 | 0.0003 | 0.9840 |\n",
      "val: {'recall': 0.996898, 'recall_grapheme': 0.995421, 'recall_vowel': 0.997953, 'recall_consonant': 0.998797, 'acc_grapheme': 0.994564, 'acc_vowel': 0.997955, 'acc_consonant': 0.99823, 'loss_grapheme': 0.025751, 'loss_vowel': 0.010741, 'loss_consonant': 0.008426}\n",
      "   38 | 0.000052 | 160512/160735 | 1.0106 | 1.1125 |"
     ]
    },
    {
     "name": "stderr",
     "output_type": "stream",
     "text": [
      "\r",
      "  0%|          | 0/209 [00:00<?, ?it/s]"
     ]
    },
    {
     "name": "stdout",
     "output_type": "stream",
     "text": [
      "\n",
      "val: {'recall': 0.996034, 'recall_grapheme': 0.994131, 'recall_vowel': 0.997839, 'recall_consonant': 0.998035, 'acc_grapheme': 0.993492, 'acc_vowel': 0.997681, 'acc_consonant': 0.99798, 'loss_grapheme': 0.030117, 'loss_vowel': 0.012189, 'loss_consonant': 0.009339}\n",
      "SWA>>>:\n"
     ]
    },
    {
     "name": "stderr",
     "output_type": "stream",
     "text": [
      "100%|██████████| 209/209 [01:14<00:00,  2.92it/s]\n"
     ]
    },
    {
     "name": "stdout",
     "output_type": "stream",
     "text": [
      "\n",
      "val: {'recall': 0.998414, 'recall_grapheme': 0.997753, 'recall_vowel': 0.99905, 'recall_consonant': 0.999098, 'acc_grapheme': 0.997507, 'acc_vowel': 0.998878, 'acc_consonant': 0.999028, 'loss_grapheme': 0.013337, 'loss_vowel': 0.006175, 'loss_consonant': 0.004408}\n",
      "   39 | 0.000050 | 160512/160735 | 1.2269 | 1.0378 |\n",
      "val: {'recall': 0.992347, 'recall_grapheme': 0.989214, 'recall_vowel': 0.996517, 'recall_consonant': 0.994445, 'acc_grapheme': 0.988181, 'acc_vowel': 0.996609, 'acc_consonant': 0.996285, 'loss_grapheme': 0.049055, 'loss_vowel': 0.017497, 'loss_consonant': 0.015184}\n",
      "   40 | 0.000048 | 160512/160735 | 0.2832 | 1.1500 |\n",
      "val: {'recall': 0.995496, 'recall_grapheme': 0.993262, 'recall_vowel': 0.997363, 'recall_consonant': 0.998095, 'acc_grapheme': 0.992395, 'acc_vowel': 0.997507, 'acc_consonant': 0.997332, 'loss_grapheme': 0.04045, 'loss_vowel': 0.018397, 'loss_consonant': 0.014947}\n",
      "   41 | 0.000046 | 160512/160735 | 0.0038 | 1.0915 |"
     ]
    },
    {
     "name": "stderr",
     "output_type": "stream",
     "text": [
      "\r",
      "  0%|          | 0/209 [00:00<?, ?it/s]"
     ]
    },
    {
     "name": "stdout",
     "output_type": "stream",
     "text": [
      "\n",
      "val: {'recall': 0.995442, 'recall_grapheme': 0.993167, 'recall_vowel': 0.997658, 'recall_consonant': 0.997774, 'acc_grapheme': 0.992794, 'acc_vowel': 0.997731, 'acc_consonant': 0.997806, 'loss_grapheme': 0.034882, 'loss_vowel': 0.015137, 'loss_consonant': 0.011679}\n",
      "SWA>>>:\n"
     ]
    },
    {
     "name": "stderr",
     "output_type": "stream",
     "text": [
      "100%|██████████| 209/209 [01:14<00:00,  2.93it/s]\n"
     ]
    },
    {
     "name": "stdout",
     "output_type": "stream",
     "text": [
      "\n",
      "val: {'recall': 0.998417, 'recall_grapheme': 0.997763, 'recall_vowel': 0.99905, 'recall_consonant': 0.999093, 'acc_grapheme': 0.997507, 'acc_vowel': 0.998878, 'acc_consonant': 0.999003, 'loss_grapheme': 0.013321, 'loss_vowel': 0.006166, 'loss_consonant': 0.004404}\n",
      "   42 | 0.000044 | 160512/160735 | 0.0027 | 1.1918 |\n",
      "val: {'recall': 0.99391, 'recall_grapheme': 0.990833, 'recall_vowel': 0.996745, 'recall_consonant': 0.997231, 'acc_grapheme': 0.989951, 'acc_vowel': 0.997108, 'acc_consonant': 0.996933, 'loss_grapheme': 0.043788, 'loss_vowel': 0.017854, 'loss_consonant': 0.014195}\n",
      "   43 | 0.000042 | 160512/160735 | 2.1151 | 1.1083 |\n",
      "val: {'recall': 0.994574, 'recall_grapheme': 0.993153, 'recall_vowel': 0.996647, 'recall_consonant': 0.995341, 'acc_grapheme': 0.992171, 'acc_vowel': 0.997058, 'acc_consonant': 0.996509, 'loss_grapheme': 0.03539, 'loss_vowel': 0.014892, 'loss_consonant': 0.014275}\n",
      "   44 | 0.000040 | 160512/160735 | 1.1502 | 1.1326 |"
     ]
    },
    {
     "name": "stderr",
     "output_type": "stream",
     "text": [
      "\r",
      "  0%|          | 0/209 [00:00<?, ?it/s]"
     ]
    },
    {
     "name": "stdout",
     "output_type": "stream",
     "text": [
      "\n",
      "val: {'recall': 0.994883, 'recall_grapheme': 0.992328, 'recall_vowel': 0.997064, 'recall_consonant': 0.997813, 'acc_grapheme': 0.990799, 'acc_vowel': 0.997232, 'acc_consonant': 0.997008, 'loss_grapheme': 0.040523, 'loss_vowel': 0.014672, 'loss_consonant': 0.012357}\n",
      "SWA>>>:\n"
     ]
    },
    {
     "name": "stderr",
     "output_type": "stream",
     "text": [
      "100%|██████████| 209/209 [01:14<00:00,  2.96it/s]\n"
     ]
    },
    {
     "name": "stdout",
     "output_type": "stream",
     "text": [
      "\n",
      "val: {'recall': 0.998411, 'recall_grapheme': 0.99775, 'recall_vowel': 0.99905, 'recall_consonant': 0.999093, 'acc_grapheme': 0.997482, 'acc_vowel': 0.998878, 'acc_consonant': 0.999003, 'loss_grapheme': 0.013379, 'loss_vowel': 0.006208, 'loss_consonant': 0.00441}\n",
      "   45 | 0.000038 | 160512/160735 | 0.0015 | 1.0643 |\n",
      "val: {'recall': 0.996763, 'recall_grapheme': 0.995173, 'recall_vowel': 0.997982, 'recall_consonant': 0.998722, 'acc_grapheme': 0.994315, 'acc_vowel': 0.998005, 'acc_consonant': 0.99823, 'loss_grapheme': 0.029634, 'loss_vowel': 0.013086, 'loss_consonant': 0.009768}\n",
      "   46 | 0.000036 | 160512/160735 | 0.0054 | 1.1110 |\n",
      "val: {'recall': 0.995805, 'recall_grapheme': 0.993709, 'recall_vowel': 0.997545, 'recall_consonant': 0.998257, 'acc_grapheme': 0.993018, 'acc_vowel': 0.997681, 'acc_consonant': 0.997756, 'loss_grapheme': 0.031612, 'loss_vowel': 0.012934, 'loss_consonant': 0.009965}\n",
      "   47 | 0.000035 | 160512/160735 | 1.7607 | 1.0130 |"
     ]
    },
    {
     "name": "stderr",
     "output_type": "stream",
     "text": [
      "\r",
      "  0%|          | 0/209 [00:00<?, ?it/s]"
     ]
    },
    {
     "name": "stdout",
     "output_type": "stream",
     "text": [
      "\n",
      "val: {'recall': 0.993978, 'recall_grapheme': 0.991042, 'recall_vowel': 0.996403, 'recall_consonant': 0.997426, 'acc_grapheme': 0.989602, 'acc_vowel': 0.996858, 'acc_consonant': 0.996634, 'loss_grapheme': 0.044997, 'loss_vowel': 0.016331, 'loss_consonant': 0.01373}\n",
      "SWA>>>:\n"
     ]
    },
    {
     "name": "stderr",
     "output_type": "stream",
     "text": [
      "100%|██████████| 209/209 [01:14<00:00,  2.92it/s]\n"
     ]
    },
    {
     "name": "stdout",
     "output_type": "stream",
     "text": [
      "\n",
      "val: {'recall': 0.998415, 'recall_grapheme': 0.997741, 'recall_vowel': 0.99905, 'recall_consonant': 0.999126, 'acc_grapheme': 0.997482, 'acc_vowel': 0.998878, 'acc_consonant': 0.999028, 'loss_grapheme': 0.0133, 'loss_vowel': 0.006172, 'loss_consonant': 0.004407}\n",
      "   48 | 0.000033 | 160512/160735 | 2.5567 | 1.0933 |\n",
      "val: {'recall': 0.993931, 'recall_grapheme': 0.990966, 'recall_vowel': 0.996439, 'recall_consonant': 0.997352, 'acc_grapheme': 0.989478, 'acc_vowel': 0.996958, 'acc_consonant': 0.996584, 'loss_grapheme': 0.044746, 'loss_vowel': 0.016254, 'loss_consonant': 0.013281}\n",
      "   49 | 0.000031 | 160512/160735 | 1.2963 | 1.0449 |\n",
      "val: {'recall': 0.995194, 'recall_grapheme': 0.992791, 'recall_vowel': 0.997097, 'recall_consonant': 0.998098, 'acc_grapheme': 0.991722, 'acc_vowel': 0.997307, 'acc_consonant': 0.997432, 'loss_grapheme': 0.036487, 'loss_vowel': 0.013947, 'loss_consonant': 0.011462}\n",
      "   50 | 0.000029 | 160512/160735 | 1.1916 | 1.0799 |"
     ]
    },
    {
     "name": "stderr",
     "output_type": "stream",
     "text": [
      "\r",
      "  0%|          | 0/209 [00:00<?, ?it/s]"
     ]
    },
    {
     "name": "stdout",
     "output_type": "stream",
     "text": [
      "\n",
      "val: {'recall': 0.995145, 'recall_grapheme': 0.992705, 'recall_vowel': 0.997162, 'recall_consonant': 0.998006, 'acc_grapheme': 0.991946, 'acc_vowel': 0.997482, 'acc_consonant': 0.997382, 'loss_grapheme': 0.034208, 'loss_vowel': 0.013026, 'loss_consonant': 0.011027}\n",
      "SWA>>>:\n"
     ]
    },
    {
     "name": "stderr",
     "output_type": "stream",
     "text": [
      "100%|██████████| 209/209 [01:14<00:00,  2.91it/s]\n"
     ]
    },
    {
     "name": "stdout",
     "output_type": "stream",
     "text": [
      "\n",
      "val: {'recall': 0.99841, 'recall_grapheme': 0.997746, 'recall_vowel': 0.99905, 'recall_consonant': 0.999098, 'acc_grapheme': 0.997482, 'acc_vowel': 0.998878, 'acc_consonant': 0.999028, 'loss_grapheme': 0.013297, 'loss_vowel': 0.006176, 'loss_consonant': 0.004412}\n",
      "   51 | 0.000027 | 160512/160735 | 1.4572 | 1.0169 |\n",
      "val: {'recall': 0.994917, 'recall_grapheme': 0.992991, 'recall_vowel': 0.997185, 'recall_consonant': 0.996501, 'acc_grapheme': 0.991747, 'acc_vowel': 0.997457, 'acc_consonant': 0.997357, 'loss_grapheme': 0.036133, 'loss_vowel': 0.013604, 'loss_consonant': 0.011471}\n",
      "   53 | 0.000024 | 160512/160735 | 1.3703 | 1.0880 |"
     ]
    },
    {
     "name": "stderr",
     "output_type": "stream",
     "text": [
      "\r",
      "  0%|          | 0/209 [00:00<?, ?it/s]"
     ]
    },
    {
     "name": "stdout",
     "output_type": "stream",
     "text": [
      "\n",
      "val: {'recall': 0.994288, 'recall_grapheme': 0.99136, 'recall_vowel': 0.996663, 'recall_consonant': 0.99777, 'acc_grapheme': 0.990051, 'acc_vowel': 0.997033, 'acc_consonant': 0.996833, 'loss_grapheme': 0.042901, 'loss_vowel': 0.016182, 'loss_consonant': 0.014087}\n",
      "SWA>>>:\n"
     ]
    },
    {
     "name": "stderr",
     "output_type": "stream",
     "text": [
      "100%|██████████| 209/209 [01:14<00:00,  2.88it/s]\n"
     ]
    },
    {
     "name": "stdout",
     "output_type": "stream",
     "text": [
      "\n",
      "val: {'recall': 0.998424, 'recall_grapheme': 0.997763, 'recall_vowel': 0.99905, 'recall_consonant': 0.99912, 'acc_grapheme': 0.997507, 'acc_vowel': 0.998878, 'acc_consonant': 0.999003, 'loss_grapheme': 0.01332, 'loss_vowel': 0.006168, 'loss_consonant': 0.004401}\n",
      "###>>>>> saved ./models/se_resnext50_32x4d/model3_se_resnext50_fold4_224_cyclic.pth_swa\n",
      "   54 | 0.000022 | 160512/160735 | 1.5193 | 0.9664 |\n",
      "val: {'recall': 0.994718, 'recall_grapheme': 0.992192, 'recall_vowel': 0.996935, 'recall_consonant': 0.997552, 'acc_grapheme': 0.991772, 'acc_vowel': 0.997482, 'acc_consonant': 0.997382, 'loss_grapheme': 0.035293, 'loss_vowel': 0.012973, 'loss_consonant': 0.010943}\n",
      "   55 | 0.000021 | 160512/160735 | 2.1582 | 1.0622 |\n",
      "val: {'recall': 0.994103, 'recall_grapheme': 0.991454, 'recall_vowel': 0.996862, 'recall_consonant': 0.996642, 'acc_grapheme': 0.989602, 'acc_vowel': 0.997108, 'acc_consonant': 0.996759, 'loss_grapheme': 0.043915, 'loss_vowel': 0.015464, 'loss_consonant': 0.013158}\n",
      "   56 | 0.000019 | 160512/160735 | 0.0015 | 1.0560 |"
     ]
    },
    {
     "name": "stderr",
     "output_type": "stream",
     "text": [
      "\r",
      "  0%|          | 0/209 [00:00<?, ?it/s]"
     ]
    },
    {
     "name": "stdout",
     "output_type": "stream",
     "text": [
      "\n",
      "val: {'recall': 0.996258, 'recall_grapheme': 0.994443, 'recall_vowel': 0.997608, 'recall_consonant': 0.998537, 'acc_grapheme': 0.993716, 'acc_vowel': 0.99798, 'acc_consonant': 0.99813, 'loss_grapheme': 0.02844, 'loss_vowel': 0.01135, 'loss_consonant': 0.008642}\n",
      "SWA>>>:\n"
     ]
    },
    {
     "name": "stderr",
     "output_type": "stream",
     "text": [
      "100%|██████████| 209/209 [01:14<00:00,  2.89it/s]\n"
     ]
    },
    {
     "name": "stdout",
     "output_type": "stream",
     "text": [
      "\n",
      "val: {'recall': 0.998405, 'recall_grapheme': 0.997741, 'recall_vowel': 0.99905, 'recall_consonant': 0.999087, 'acc_grapheme': 0.997482, 'acc_vowel': 0.998878, 'acc_consonant': 0.998978, 'loss_grapheme': 0.013297, 'loss_vowel': 0.006157, 'loss_consonant': 0.004394}\n",
      "   57 | 0.000018 | 160512/160735 | 1.9813 | 1.0638 |\n",
      "val: {'recall': 0.995471, 'recall_grapheme': 0.993195, 'recall_vowel': 0.997204, 'recall_consonant': 0.99829, 'acc_grapheme': 0.992071, 'acc_vowel': 0.997606, 'acc_consonant': 0.997681, 'loss_grapheme': 0.033592, 'loss_vowel': 0.012182, 'loss_consonant': 0.010103}\n",
      "   58 | 0.000016 | 160512/160735 | 0.9388 | 1.0698 |"
     ]
    }
   ],
   "source": [
    "train(args)"
   ]
  },
  {
   "cell_type": "code",
   "execution_count": null,
   "metadata": {},
   "outputs": [],
   "source": []
  },
  {
   "cell_type": "code",
   "execution_count": null,
   "metadata": {},
   "outputs": [],
   "source": []
  },
  {
   "cell_type": "code",
   "execution_count": null,
   "metadata": {},
   "outputs": [],
   "source": []
  },
  {
   "cell_type": "code",
   "execution_count": null,
   "metadata": {},
   "outputs": [],
   "source": []
  }
 ],
 "metadata": {
  "kernelspec": {
   "display_name": "Python 3",
   "language": "python",
   "name": "python3"
  },
  "language_info": {
   "codemirror_mode": {
    "name": "ipython",
    "version": 3
   },
   "file_extension": ".py",
   "mimetype": "text/x-python",
   "name": "python",
   "nbconvert_exporter": "python",
   "pygments_lexer": "ipython3",
   "version": "3.7.3"
  }
 },
 "nbformat": 4,
 "nbformat_minor": 2
}
