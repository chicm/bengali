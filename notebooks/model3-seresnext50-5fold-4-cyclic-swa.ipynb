{
 "cells": [
  {
   "cell_type": "code",
   "execution_count": 1,
   "metadata": {},
   "outputs": [],
   "source": [
    "import os\n",
    "import pandas as pd\n",
    "import numpy as np\n",
    "import time, gc\n",
    "import cv2\n",
    "import matplotlib.pyplot as plt\n",
    "import torch\n",
    "import torch.nn as nn\n",
    "import torch.nn.functional as F\n",
    "import torch.optim as optim\n",
    "import pretrainedmodels\n",
    "from argparse import Namespace\n",
    "from sklearn.utils import shuffle\n",
    "from apex import amp\n",
    "from sklearn.model_selection import StratifiedKFold\n",
    "from efficientnet_pytorch import EfficientNet\n",
    "from utils import bn_update, moving_average, copy_model\n"
   ]
  },
  {
   "cell_type": "code",
   "execution_count": 2,
   "metadata": {},
   "outputs": [
    {
     "name": "stdout",
     "output_type": "stream",
     "text": [
      "class_map.csv\t\t       train.csv\r\n",
      "sample_submission.csv\t       train.csv.zip\r\n",
      "test.csv\t\t       train_image_data_0.parquet\r\n",
      "test_image_data_0.parquet      train_image_data_0.parquet.zip\r\n",
      "test_image_data_0.parquet.zip  train_image_data_1.parquet\r\n",
      "test_image_data_1.parquet      train_image_data_1.parquet.zip\r\n",
      "test_image_data_1.parquet.zip  train_image_data_2.parquet\r\n",
      "test_image_data_2.parquet      train_image_data_2.parquet.zip\r\n",
      "test_image_data_2.parquet.zip  train_image_data_3.parquet\r\n",
      "test_image_data_3.parquet      train_image_data_3.parquet.zip\r\n",
      "test_image_data_3.parquet.zip\r\n"
     ]
    }
   ],
   "source": [
    "!ls /home/chec/data/bengali"
   ]
  },
  {
   "cell_type": "code",
   "execution_count": 3,
   "metadata": {},
   "outputs": [],
   "source": [
    "#!ls /home/chec/data/bengali"
   ]
  },
  {
   "cell_type": "code",
   "execution_count": 4,
   "metadata": {},
   "outputs": [],
   "source": [
    "DATA_DIR = '/home/chec/data/bengali'"
   ]
  },
  {
   "cell_type": "code",
   "execution_count": 5,
   "metadata": {},
   "outputs": [],
   "source": [
    "train_df = pd.read_csv(f'{DATA_DIR}/train.csv')\n",
    "test_df = pd.read_csv(f'{DATA_DIR}/test.csv')\n",
    "class_map_df = pd.read_csv(f'{DATA_DIR}/class_map.csv')\n",
    "sample_sub_df = pd.read_csv(f'{DATA_DIR}/sample_submission.csv')"
   ]
  },
  {
   "cell_type": "code",
   "execution_count": 6,
   "metadata": {},
   "outputs": [
    {
     "data": {
      "text/html": [
       "<div>\n",
       "<style scoped>\n",
       "    .dataframe tbody tr th:only-of-type {\n",
       "        vertical-align: middle;\n",
       "    }\n",
       "\n",
       "    .dataframe tbody tr th {\n",
       "        vertical-align: top;\n",
       "    }\n",
       "\n",
       "    .dataframe thead th {\n",
       "        text-align: right;\n",
       "    }\n",
       "</style>\n",
       "<table border=\"1\" class=\"dataframe\">\n",
       "  <thead>\n",
       "    <tr style=\"text-align: right;\">\n",
       "      <th></th>\n",
       "      <th>image_id</th>\n",
       "      <th>grapheme_root</th>\n",
       "      <th>vowel_diacritic</th>\n",
       "      <th>consonant_diacritic</th>\n",
       "      <th>grapheme</th>\n",
       "    </tr>\n",
       "  </thead>\n",
       "  <tbody>\n",
       "    <tr>\n",
       "      <th>0</th>\n",
       "      <td>Train_0</td>\n",
       "      <td>15</td>\n",
       "      <td>9</td>\n",
       "      <td>5</td>\n",
       "      <td>ক্ট্রো</td>\n",
       "    </tr>\n",
       "    <tr>\n",
       "      <th>1</th>\n",
       "      <td>Train_1</td>\n",
       "      <td>159</td>\n",
       "      <td>0</td>\n",
       "      <td>0</td>\n",
       "      <td>হ</td>\n",
       "    </tr>\n",
       "    <tr>\n",
       "      <th>2</th>\n",
       "      <td>Train_2</td>\n",
       "      <td>22</td>\n",
       "      <td>3</td>\n",
       "      <td>5</td>\n",
       "      <td>খ্রী</td>\n",
       "    </tr>\n",
       "    <tr>\n",
       "      <th>3</th>\n",
       "      <td>Train_3</td>\n",
       "      <td>53</td>\n",
       "      <td>2</td>\n",
       "      <td>2</td>\n",
       "      <td>র্টি</td>\n",
       "    </tr>\n",
       "    <tr>\n",
       "      <th>4</th>\n",
       "      <td>Train_4</td>\n",
       "      <td>71</td>\n",
       "      <td>9</td>\n",
       "      <td>5</td>\n",
       "      <td>থ্রো</td>\n",
       "    </tr>\n",
       "  </tbody>\n",
       "</table>\n",
       "</div>"
      ],
      "text/plain": [
       "  image_id  grapheme_root  vowel_diacritic  consonant_diacritic grapheme\n",
       "0  Train_0             15                9                    5   ক্ট্রো\n",
       "1  Train_1            159                0                    0        হ\n",
       "2  Train_2             22                3                    5     খ্রী\n",
       "3  Train_3             53                2                    2     র্টি\n",
       "4  Train_4             71                9                    5     থ্রো"
      ]
     },
     "execution_count": 6,
     "metadata": {},
     "output_type": "execute_result"
    }
   ],
   "source": [
    "train_df.head()"
   ]
  },
  {
   "cell_type": "code",
   "execution_count": 7,
   "metadata": {},
   "outputs": [],
   "source": [
    "HEIGHT = 137\n",
    "WIDTH = 236"
   ]
  },
  {
   "cell_type": "code",
   "execution_count": 8,
   "metadata": {},
   "outputs": [],
   "source": [
    "import albumentations as albu\n",
    "\n",
    "def get_train_augs(p=1.):\n",
    "    return albu.Compose([\n",
    "        #albu.HorizontalFlip(.5),\n",
    "        albu.ShiftScaleRotate(shift_limit=0.05, scale_limit=0.05, rotate_limit=10, p=0.5 ),\n",
    "        albu.Blur(blur_limit=3, p=0.3),\n",
    "        albu.OpticalDistortion(p=0.3),\n",
    "        albu.GaussNoise(p=0.3)\n",
    "        #albu.GridDistortion(p=.33),\n",
    "        #albu.HueSaturationValue(p=.33) # not for grey scale\n",
    "    ], p=p)"
   ]
  },
  {
   "cell_type": "code",
   "execution_count": 9,
   "metadata": {},
   "outputs": [],
   "source": [
    "#plt.imshow(x)"
   ]
  },
  {
   "cell_type": "code",
   "execution_count": 10,
   "metadata": {},
   "outputs": [],
   "source": [
    "from torch.utils.data import DataLoader, Dataset\n",
    "from torchvision import transforms\n",
    "\n",
    "\n",
    "class BengaliDataset(Dataset):\n",
    "    def __init__(self, df, img_df, train_mode=True, test_mode=False):\n",
    "        self.df = df\n",
    "        self.img_df = img_df\n",
    "        self.train_mode = train_mode\n",
    "        self.test_mode = test_mode\n",
    "\n",
    "    def __getitem__(self, idx):\n",
    "        row = self.df.iloc[idx]\n",
    "        img = self.get_img(row.image_id)\n",
    "        orig_img = img.copy()\n",
    "        #print(img.shape)\n",
    "        #if self.train_mode:\n",
    "        #    augs = get_train_augs()\n",
    "        #    img = augs(image=img)['image']\n",
    "            #img = np.asarray(augs(Image.fromarray(img)))\n",
    "        \n",
    "        img = np.expand_dims(img, axis=-1)\n",
    "        orig_img = np.expand_dims(orig_img, axis=-1)\n",
    "        \n",
    "        #print('###', img.shape)\n",
    "        #img = np.concatenate([img, img, img], 2)\n",
    "        #print('>>>', img.shape)\n",
    "        \n",
    "        # taken from https://www.kaggle.com/iafoss/image-preprocessing-128x128\n",
    "        #MEAN = [ 0.06922848809290576,  0.06922848809290576,  0.06922848809290576]\n",
    "        #STD = [ 0.20515700083327537,  0.20515700083327537,  0.20515700083327537]\n",
    "        \n",
    "        img = transforms.functional.to_tensor(img)\n",
    "        orig_img = transforms.functional.to_tensor(orig_img)\n",
    "        \n",
    "        #img = transforms.functional.normalize(img, mean=MEAN, std=STD)\n",
    "        \n",
    "        if self.test_mode:\n",
    "            return img\n",
    "        elif self.train_mode:\n",
    "            return img, orig_img, torch.tensor([row.grapheme_root, row.vowel_diacritic, row.consonant_diacritic, row.word_label])\n",
    "        else:\n",
    "            return img, torch.tensor([row.grapheme_root, row.vowel_diacritic, row.consonant_diacritic, row.word_label])\n",
    "                    \n",
    "    def get_img(self, img_id):\n",
    "        return 255 - self.img_df.loc[img_id].values.reshape(HEIGHT, WIDTH).astype(np.uint8)\n",
    "\n",
    "    def __len__(self):\n",
    "        return len(self.df)\n",
    "    \n",
    "def get_train_val_loaders(batch_size=4, val_batch_size=4, ifold=0, dev_mode=False):\n",
    "    train_df = pd.read_csv(f'{DATA_DIR}/train.csv')\n",
    "\n",
    "    train_df = shuffle(train_df, random_state=1234)\n",
    "\n",
    "    grapheme_words = np.unique(train_df.grapheme.values)\n",
    "    grapheme_words_dict = {grapheme: i for i, grapheme in enumerate(grapheme_words)}\n",
    "    train_df['word_label'] = train_df['grapheme'].map(lambda x: grapheme_words_dict[x])\n",
    "\n",
    "    print(train_df.shape)\n",
    "\n",
    "    if dev_mode:\n",
    "        img_df = pd.read_parquet(f'{DATA_DIR}/train_image_data_0.parquet').set_index('image_id')\n",
    "        train_df = train_df.iloc[:1000]\n",
    "    else:\n",
    "        img_dfs = [pd.read_parquet(f'{DATA_DIR}/train_image_data_{i}.parquet') for i in range(4)]\n",
    "        img_df = pd.concat(img_dfs, axis=0).set_index('image_id')\n",
    "    print(img_df.shape)\n",
    "    #split_index = int(len(train_df) * 0.9)\n",
    "    \n",
    "    #train = train_df.iloc[:split_index]\n",
    "    #val = train_df.iloc[split_index:]\n",
    "    \n",
    "    kf = StratifiedKFold(5, random_state=1234, shuffle=True)\n",
    "    for i, (train_idx, val_idx) in enumerate(kf.split(train_df, train_df['grapheme_root'].values)):\n",
    "        if i == ifold:\n",
    "            #print(val_idx)\n",
    "            train = train_df.iloc[train_idx]\n",
    "            val = train_df.iloc[val_idx]\n",
    "            break\n",
    "    assert i == ifold\n",
    "    print(train.shape, val.shape)\n",
    "    \n",
    "    train_ds = BengaliDataset(train, img_df, True, False)\n",
    "    val_ds = BengaliDataset(val, img_df, False, False)\n",
    "    \n",
    "    train_loader = DataLoader(train_ds, batch_size=batch_size, shuffle=True, num_workers=8, drop_last=True)\n",
    "    train_loader.num = len(train_ds)\n",
    "\n",
    "    val_loader = DataLoader(val_ds, batch_size=val_batch_size, shuffle=False, num_workers=8, drop_last=False)\n",
    "    val_loader.num = len(val_ds)\n",
    "\n",
    "    return train_loader, val_loader"
   ]
  },
  {
   "cell_type": "code",
   "execution_count": 11,
   "metadata": {},
   "outputs": [],
   "source": [
    "#train_loader, val_loader = get_train_val_loaders(dev_mode=True)"
   ]
  },
  {
   "cell_type": "code",
   "execution_count": null,
   "metadata": {},
   "outputs": [],
   "source": []
  },
  {
   "cell_type": "markdown",
   "metadata": {},
   "source": [
    "# model"
   ]
  },
  {
   "cell_type": "code",
   "execution_count": 12,
   "metadata": {},
   "outputs": [],
   "source": [
    "#import pretrainedmodels"
   ]
  },
  {
   "cell_type": "code",
   "execution_count": 13,
   "metadata": {},
   "outputs": [
    {
     "name": "stdout",
     "output_type": "stream",
     "text": [
      "['fbresnet152', 'bninception', 'resnext101_32x4d', 'resnext101_64x4d', 'inceptionv4', 'inceptionresnetv2', 'alexnet', 'densenet121', 'densenet169', 'densenet201', 'densenet161', 'resnet18', 'resnet34', 'resnet50', 'resnet101', 'resnet152', 'inceptionv3', 'squeezenet1_0', 'squeezenet1_1', 'vgg11', 'vgg11_bn', 'vgg13', 'vgg13_bn', 'vgg16', 'vgg16_bn', 'vgg19_bn', 'vgg19', 'nasnetamobile', 'nasnetalarge', 'dpn68', 'dpn68b', 'dpn92', 'dpn98', 'dpn131', 'dpn107', 'xception', 'senet154', 'se_resnet50', 'se_resnet101', 'se_resnet152', 'se_resnext50_32x4d', 'se_resnext101_32x4d', 'cafferesnet101', 'pnasnet5large', 'polynet']\n"
     ]
    }
   ],
   "source": [
    "print(pretrainedmodels.model_names)"
   ]
  },
  {
   "cell_type": "code",
   "execution_count": 14,
   "metadata": {},
   "outputs": [],
   "source": [
    "#model_name = 'resnet50' # could be fbresnet152 or inceptionresnetv2\n",
    "#model = pretrainedmodels.__dict__[model_name](num_classes=1000, pretrained='imagenet').cuda()\n",
    "#model.eval()"
   ]
  },
  {
   "cell_type": "code",
   "execution_count": 15,
   "metadata": {},
   "outputs": [],
   "source": [
    "#model = pretrainedmodels.__dict__[model_name](num_classes=1000, pretrained=False).cuda()\n"
   ]
  },
  {
   "cell_type": "code",
   "execution_count": 16,
   "metadata": {},
   "outputs": [],
   "source": [
    "#model.features(torch.randn((2, 3, 137, 236)).cuda()).size()"
   ]
  },
  {
   "cell_type": "code",
   "execution_count": 17,
   "metadata": {},
   "outputs": [],
   "source": [
    "#model.last_linear.in_features"
   ]
  },
  {
   "cell_type": "code",
   "execution_count": 18,
   "metadata": {},
   "outputs": [],
   "source": [
    "MEAN = [ 0.06922848809290576 ]\n",
    "STD = [ 0.20515700083327537 ]\n",
    "\n",
    "class BengaliNet(nn.Module):\n",
    "    def __init__(self, backbone_name):\n",
    "        super(BengaliNet, self).__init__()\n",
    "        self.n_grapheme = 168\n",
    "        self.n_vowel = 11\n",
    "        self.n_consonant = 7\n",
    "        self.backbone_name = backbone_name\n",
    "        \n",
    "        self.num_classes = self.n_grapheme + self.n_vowel + self.n_consonant\n",
    "        \n",
    "        #self.conv0 = nn.Conv2d(1, 3, kernel_size=1, stride=1, padding=0)\n",
    "        \n",
    "        if self.backbone_name.startswith('efficient'):\n",
    "            self.backbone = EfficientNet.from_pretrained(self.backbone_name)\n",
    "            self.fc = nn.Linear(self.backbone._fc.in_features, self.num_classes)\n",
    "        else:\n",
    "            self.backbone = pretrainedmodels.__dict__[self.backbone_name](num_classes=1000, pretrained='imagenet')\n",
    "            self.fc = nn.Linear(self.backbone.last_linear.in_features, self.num_classes)\n",
    "\n",
    "        self.avg_pool = nn.AdaptiveAvgPool2d(1)\n",
    "        \n",
    "        #self.fix_input_layer()\n",
    "        \n",
    "    def fix_input_layer(self):\n",
    "        if self.backbone_name in ['se_resnext50_32x4d', 'se_resnext101_32x4d', 'se_resnet50', 'senet154', 'se_resnet152', 'nasnetmobile', 'mobilenet', 'nasnetalarge']:\n",
    "            #self.backbone = eval(backbone_name)()\n",
    "            #print(self.backbone.layer0.conv1)\n",
    "            w = self.backbone.layer0.conv1.weight.data\n",
    "            self.backbone.layer0.conv1 = nn.Conv2d(1, 64, kernel_size=7, stride=2, padding=3, bias=False)\n",
    "            #self.backbone.layer0.conv1.weight = torch.nn.Parameter(torch.cat((w, w[:, 2, :, :].unsqueeze(1)), dim=1))\n",
    "            self.backbone.layer0.conv1.weight = torch.nn.Parameter(w[:, 0, :, :].unsqueeze(1))\n",
    "        \n",
    "    def logits(self, x):\n",
    "        x = self.avg_pool(x)\n",
    "        #x = F.dropout2d(x, 0.2, self.training)\n",
    "        x = x.view(x.size(0), -1)\n",
    "        return self.fc(x)\n",
    "    \n",
    "    def forward(self, x):\n",
    "        x = F.interpolate(x, size=(224,224), mode='bilinear', align_corners=False)\n",
    "        for i in range(len(x)):\n",
    "            transforms.functional.normalize(x[i], mean=MEAN, std=STD, inplace=True)\n",
    "        x = torch.cat([x,x,x], 1)\n",
    "        #x = self.conv0(x)\n",
    "        #print(x.size())\n",
    "        if self.backbone_name.startswith('efficient'):\n",
    "            x = self.backbone.extract_features(x)\n",
    "        else:\n",
    "            x = self.backbone.features(x)\n",
    "        x = self.logits(x)\n",
    "\n",
    "        return x"
   ]
  },
  {
   "cell_type": "code",
   "execution_count": null,
   "metadata": {},
   "outputs": [],
   "source": []
  },
  {
   "cell_type": "code",
   "execution_count": 19,
   "metadata": {},
   "outputs": [],
   "source": [
    "MODEL_DIR = './models'\n",
    "def create_model(args):\n",
    "    model = BengaliNet(backbone_name=args.backbone)\n",
    "    model_file = os.path.join(MODEL_DIR, args.backbone, args.ckp_name)\n",
    "\n",
    "    parent_dir = os.path.dirname(model_file)\n",
    "    if not os.path.exists(parent_dir):\n",
    "        os.makedirs(parent_dir)\n",
    "\n",
    "    print('model file: {}, exist: {}'.format(model_file, os.path.exists(model_file)))\n",
    "\n",
    "    if os.path.exists(model_file):\n",
    "        print('loading {}...'.format(model_file))\n",
    "        model.load_state_dict(torch.load(model_file))\n",
    "    \n",
    "    return model, model_file"
   ]
  },
  {
   "cell_type": "code",
   "execution_count": 20,
   "metadata": {},
   "outputs": [],
   "source": [
    "#bnet = BengaliNet('se_resnext50_32x4d').cuda()"
   ]
  },
  {
   "cell_type": "code",
   "execution_count": 21,
   "metadata": {},
   "outputs": [],
   "source": [
    "#bnet(torch.randn((2, 1, 137, 236)).cuda()).size()"
   ]
  },
  {
   "cell_type": "markdown",
   "metadata": {},
   "source": [
    "# train"
   ]
  },
  {
   "cell_type": "code",
   "execution_count": 22,
   "metadata": {},
   "outputs": [
    {
     "data": {
      "text/plain": [
       "0.111111"
      ]
     },
     "execution_count": 22,
     "metadata": {},
     "output_type": "execute_result"
    }
   ],
   "source": [
    "round(1/9, 6)"
   ]
  },
  {
   "cell_type": "code",
   "execution_count": 23,
   "metadata": {},
   "outputs": [],
   "source": [
    "import numpy as np\n",
    "import sklearn.metrics\n",
    "import torch\n",
    "\n",
    "\n",
    "def calc_metrics(preds0, preds1, preds2, y):\n",
    "    assert len(y) == len(preds0) == len(preds1) == len(preds2)\n",
    "\n",
    "    recall_grapheme = sklearn.metrics.recall_score(preds0, y[:, 0], average='macro')\n",
    "    recall_vowel = sklearn.metrics.recall_score(preds1, y[:, 1], average='macro')\n",
    "    recall_consonant = sklearn.metrics.recall_score(preds2, y[:, 2], average='macro')\n",
    "    scores = [recall_grapheme, recall_vowel, recall_consonant]\n",
    "    final_recall_score = np.average(scores, weights=[2, 1, 1])\n",
    "    \n",
    "    metrics = {}\n",
    "    metrics['recall'] = round(final_recall_score, 6)\n",
    "    metrics['recall_grapheme'] = round(recall_grapheme, 6)\n",
    "    metrics['recall_vowel'] = round(recall_vowel, 6)\n",
    "    metrics['recall_consonant'] = round(recall_consonant, 6)\n",
    "    \n",
    "    metrics['acc_grapheme'] = round((preds0 == y[:, 0]).sum() / len(y), 6)\n",
    "    metrics['acc_vowel'] = round((preds1 == y[:, 1]).sum() / len(y), 6)\n",
    "    metrics['acc_consonant'] = round((preds2 == y[:, 2]).sum() / len(y), 6)\n",
    "    \n",
    "    \n",
    "    return metrics"
   ]
  },
  {
   "cell_type": "code",
   "execution_count": 24,
   "metadata": {},
   "outputs": [],
   "source": [
    "def criterion(outputs, y_true):\n",
    "    # outputs: (N, 182)\n",
    "    # y_true: (N, 3)\n",
    "    \n",
    "    outputs = torch.split(outputs, [168, 11, 7], dim=1)\n",
    "    loss0 = F.cross_entropy(outputs[0], y_true[:, 0], reduction='mean')\n",
    "    loss1 = F.cross_entropy(outputs[1], y_true[:, 1], reduction='mean')\n",
    "    loss2 = F.cross_entropy(outputs[2], y_true[:, 2], reduction='mean')\n",
    "    \n",
    "    return loss0 + loss1 + loss2 #, loss0.item(), loss1.item(), loss2.item()"
   ]
  },
  {
   "cell_type": "code",
   "execution_count": 25,
   "metadata": {},
   "outputs": [],
   "source": [
    "def validate(model, val_loader):\n",
    "    model.eval()\n",
    "    loss0, loss1, loss2 = 0., 0., 0.\n",
    "    preds0, preds1,preds2 = [], [], []\n",
    "    y_true = []\n",
    "    with torch.no_grad():\n",
    "        for x, y in val_loader:\n",
    "            y_true.append(y)\n",
    "            x, y = x.cuda(), y.cuda()\n",
    "            outputs = model(x)\n",
    "            outputs = torch.split(outputs, [168, 11, 7], dim=1)\n",
    "            \n",
    "            preds0.append(torch.max(outputs[0], dim=1)[1])\n",
    "            preds1.append(torch.max(outputs[1], dim=1)[1])\n",
    "            preds2.append(torch.max(outputs[2], dim=1)[1])\n",
    "            loss0 += F.cross_entropy(outputs[0], y[:, 0], reduction='sum').item()\n",
    "            loss1 += F.cross_entropy(outputs[1], y[:, 1], reduction='sum').item()\n",
    "            loss2 += F.cross_entropy(outputs[2], y[:, 2], reduction='sum').item()\n",
    "            \n",
    "            # for debug\n",
    "            #metrics = {}\n",
    "            #metrics['loss_grapheme'] =  F.cross_entropy(outputs[0], y[:, 0], reduction='mean').item()\n",
    "            #metrics['loss_vowel'] =  F.cross_entropy(outputs[1], y[:, 1], reduction='mean').item()\n",
    "            #metrics['loss_consonant'] =  F.cross_entropy(outputs[2], y[:, 2], reduction='mean').item()\n",
    "            #return metrics\n",
    "    \n",
    "    preds0 = torch.cat(preds0, 0).cpu().numpy()\n",
    "    preds1 = torch.cat(preds1, 0).cpu().numpy()\n",
    "    preds2 = torch.cat(preds2, 0).cpu().numpy()\n",
    "    y_true = torch.cat(y_true, 0).numpy()\n",
    "    \n",
    "    #print('y_true:', y_true.shape)\n",
    "    #print('preds0:', preds0.shape)\n",
    "    \n",
    "    metrics = calc_metrics(preds0, preds1, preds2, y_true)\n",
    "    metrics['loss_grapheme'] = round(loss0 / val_loader.num, 6)\n",
    "    metrics['loss_vowel'] = round(loss1 / val_loader.num, 6)\n",
    "    metrics['loss_consonant'] = round(loss2 / val_loader.num, 6)\n",
    "    \n",
    "    return metrics\n",
    "            "
   ]
  },
  {
   "cell_type": "code",
   "execution_count": null,
   "metadata": {},
   "outputs": [],
   "source": []
  },
  {
   "cell_type": "code",
   "execution_count": 26,
   "metadata": {},
   "outputs": [],
   "source": [
    "def get_lrs(optimizer):\n",
    "    lrs = []\n",
    "    for pgs in optimizer.state_dict()['param_groups']:\n",
    "        lrs.append(pgs['lr'])\n",
    "    lrs = ['{:.6f}'.format(x) for x in lrs]\n",
    "    return lrs"
   ]
  },
  {
   "cell_type": "code",
   "execution_count": 27,
   "metadata": {},
   "outputs": [],
   "source": [
    "def save_model(model, model_file):\n",
    "    parent_dir = os.path.dirname(model_file)\n",
    "    if not os.path.exists(parent_dir):\n",
    "        os.makedirs(parent_dir)\n",
    "    if isinstance(model, nn.DataParallel):\n",
    "        torch.save(model.module.state_dict(), model_file)\n",
    "    else:\n",
    "        torch.save(model.state_dict(), model_file)"
   ]
  },
  {
   "cell_type": "code",
   "execution_count": 28,
   "metadata": {},
   "outputs": [],
   "source": [
    "def mixup(data, targets, alpha=1):\n",
    "    indices = torch.randperm(data.size(0))\n",
    "    shuffled_data = data[indices]\n",
    "    shuffled_targets = targets[indices]\n",
    "\n",
    "    lam = np.random.beta(alpha, alpha)\n",
    "    data = data * lam + shuffled_data * (1 - lam)\n",
    "    targets = (targets, shuffled_targets, lam)\n",
    "\n",
    "    return data, targets\n",
    "\n",
    "\n",
    "def mixup_criterion(outputs, targets):\n",
    "    targets1, targets2, lam = targets\n",
    "    #criterion = nn.CrossEntropyLoss(reduction='mean')\n",
    "    return lam * criterion(outputs, targets1) + (1 - lam) * criterion(outputs, targets2)"
   ]
  },
  {
   "cell_type": "code",
   "execution_count": 29,
   "metadata": {},
   "outputs": [],
   "source": [
    "def rand_bbox(size, lam):\n",
    "    W = size[2]\n",
    "    H = size[3]\n",
    "    cut_rat = np.sqrt(1. - lam)\n",
    "    cut_w = np.int(W * cut_rat)\n",
    "    cut_h = np.int(H * cut_rat)\n",
    "\n",
    "    # uniform\n",
    "    cx = np.random.randint(W)\n",
    "    cy = np.random.randint(H)\n",
    "\n",
    "    bbx1 = np.clip(cx - cut_w // 2, 0, W)\n",
    "    bby1 = np.clip(cy - cut_h // 2, 0, H)\n",
    "    bbx2 = np.clip(cx + cut_w // 2, 0, W)\n",
    "    bby2 = np.clip(cy + cut_h // 2, 0, H)\n",
    "\n",
    "    return bbx1, bby1, bbx2, bby2"
   ]
  },
  {
   "cell_type": "code",
   "execution_count": 30,
   "metadata": {},
   "outputs": [
    {
     "data": {
      "text/plain": [
       "0.7001881309859282"
      ]
     },
     "execution_count": 30,
     "metadata": {},
     "output_type": "execute_result"
    }
   ],
   "source": [
    "np.random.random()"
   ]
  },
  {
   "cell_type": "code",
   "execution_count": 31,
   "metadata": {},
   "outputs": [],
   "source": [
    "from over9000.over9000 import Over9000\n",
    "from over9000.radam import RAdam\n",
    "from gridmask import GridMask"
   ]
  },
  {
   "cell_type": "code",
   "execution_count": 32,
   "metadata": {},
   "outputs": [],
   "source": [
    "from cvcore.solver import WarmupCyclicalLR\n",
    "def make_optimizer(model, base_lr=4e-4, weight_decay=0., weight_decay_bias=0., epsilon=1e-3):\n",
    "    \"\"\"\n",
    "    Create optimizer with per-layer learning rate and weight decay.\n",
    "    \"\"\"\n",
    "    params = []\n",
    "    for key, value in model.named_parameters():\n",
    "        if not value.requires_grad:\n",
    "            continue\n",
    "        lr = base_lr\n",
    "        params += [{\"params\": [value], \"lr\": lr, \"weight_decay\": weight_decay_bias if 'bias' in key else weight_decay}]\n",
    "    \n",
    "    optimizer = torch.optim.AdamW(params, lr, eps=epsilon)\n",
    "    return optimizer"
   ]
  },
  {
   "cell_type": "code",
   "execution_count": null,
   "metadata": {},
   "outputs": [],
   "source": []
  },
  {
   "cell_type": "code",
   "execution_count": 33,
   "metadata": {},
   "outputs": [],
   "source": [
    "def train_epoch(args, model, train_loader, epoch, optimizer, lr_scheduler, grid):\n",
    "    train_loss = 0\n",
    "\n",
    "    for batch_idx, (img, orig_img, targets) in enumerate(train_loader):\n",
    "        img, orig_img, targets  = img.cuda(), orig_img.cuda(), targets.cuda()\n",
    "        batch_size = img.size(0)\n",
    "        r = np.random.rand()\n",
    "\n",
    "        if r < 0.3:\n",
    "            # generate mixed sample\n",
    "            lam = np.random.beta(args.beta, args.beta)\n",
    "            rand_index = torch.randperm(img.size()[0]).cuda()\n",
    "            target_a = targets\n",
    "            target_b = targets[rand_index]\n",
    "            bbx1, bby1, bbx2, bby2 = rand_bbox(img.size(), lam)\n",
    "            img[:, :, bbx1:bbx2, bby1:bby2] = img[rand_index, :, bbx1:bbx2, bby1:bby2]\n",
    "            # adjust lambda to exactly match pixel ratio\n",
    "            lam = 1 - ((bbx2 - bbx1) * (bby2 - bby1) / (img.size()[-1] * img.size()[-2]))\n",
    "            # compute output\n",
    "            outputs = model(img)\n",
    "            loss = criterion(outputs, target_a) * lam + criterion(outputs, target_b) * (1. - lam)\n",
    "        elif r > 0.7: # grid mask\n",
    "            img = grid(img)\n",
    "            outputs = model(img)\n",
    "            loss = criterion(outputs, targets)\n",
    "        else:\n",
    "            orig_img, targets = mixup(orig_img, targets)\n",
    "            outputs = model(orig_img)\n",
    "            loss = mixup_criterion(outputs, targets)\n",
    "            #loss = criterion(outputs, targets)\n",
    "        '''\n",
    "        #if True:\n",
    "        if r < 0.3:\n",
    "            # generate mixed sample\n",
    "            lam = np.random.beta(args.beta, args.beta)\n",
    "            rand_index = torch.randperm(img.size()[0]).cuda()\n",
    "            target_a = targets\n",
    "            target_b = targets[rand_index]\n",
    "            bbx1, bby1, bbx2, bby2 = rand_bbox(img.size(), lam)\n",
    "            #img[:, :, bby1:bby2, bbx1:bbx2] = img[rand_index, :, bby1:bby2, bbx1:bbx2] #for new cutmix\n",
    "            img[:, :, bbx1:bbx2, bby1:bby2] = img[rand_index, :, bbx1:bbx2, bby1:bby2]\n",
    "            \n",
    "            # adjust lambda to exactly match pixel ratio\n",
    "            lam = 1 - ((bbx2 - bbx1) * (bby2 - bby1) / (img.size()[-1] * img.size()[-2]))\n",
    "            # compute output\n",
    "            outputs, outputs_aux1, outputs_aux2 = model(img)\n",
    "            loss_primary = criterion(outputs, target_a) * lam + criterion(outputs, target_b) * (1. - lam)\n",
    "            loss_aux1 = criterion(outputs_aux1, target_a) * lam + criterion(outputs_aux1, target_b) * (1. - lam)\n",
    "            loss_aux2 = criterion(outputs_aux2, target_a) * lam + criterion(outputs_aux2, target_b) * (1. - lam)\n",
    "            loss = loss_primary + (loss_aux1 + loss_aux2)*0.8\n",
    "        elif r > 0.7:\n",
    "            img = grid(img)\n",
    "            outputs, outputs_aux1, outputs_aux2 = model(img)\n",
    "            loss_primary = criterion(outputs, targets)\n",
    "            loss_aux1 = criterion(outputs_aux1, targets)\n",
    "            loss_aux2 = criterion(outputs_aux2, targets)\n",
    "            loss = loss_primary + (loss_aux1 + loss_aux2)*0.8\n",
    "        else:\n",
    "            orig_img, targets = mixup(orig_img, targets)\n",
    "            outputs, outputs_aux1, outputs_aux2 = model(orig_img)\n",
    "            loss_primary = mixup_criterion(outputs, targets)\n",
    "            loss_aux1 = mixup_criterion(outputs_aux1, targets)\n",
    "            loss_aux2 = mixup_criterion(outputs_aux2, targets)\n",
    "            loss = loss_primary + (loss_aux1 + loss_aux2)*0.8\n",
    "            #loss = criterion(outputs, targets)\n",
    "        '''\n",
    "\n",
    "        optimizer.zero_grad()\n",
    "        with amp.scale_loss(loss, optimizer) as scaled_loss:\n",
    "            scaled_loss.backward()\n",
    "        #loss.backward()\n",
    "        lr_scheduler(optimizer, batch_idx, epoch)\n",
    "        optimizer.step()            \n",
    "        \n",
    "        current_lr = get_lrs(optimizer)\n",
    "\n",
    "        train_loss += loss.item()\n",
    "        print('\\r {:4d} | {:.6f} | {:06d}/{} | {:.4f} | {:.4f} |'.format(\n",
    "            epoch, float(current_lr[0]), batch_size*(batch_idx+1), train_loader.num, \n",
    "            loss.item(), train_loss/(batch_idx+1)), end='')\n"
   ]
  },
  {
   "cell_type": "code",
   "execution_count": 34,
   "metadata": {},
   "outputs": [],
   "source": [
    "best_metrics = 0.\n",
    "\n",
    "def validate_and_save(model, model_file, val_loader, save=False):\n",
    "    global best_metrics\n",
    "    best_key = 'recall'\n",
    "    val_metrics = validate(model, val_loader)\n",
    "    print('\\nval:', val_metrics)\n",
    "    \n",
    "    if val_metrics[best_key] > best_metrics:\n",
    "        best_metrics = val_metrics[best_key]\n",
    "        if save:\n",
    "            save_model(model, model_file)\n",
    "            print('###>>>>> saved', model_file)\n",
    "    model.train()\n",
    "    \n",
    "\n",
    "def train(args):\n",
    "    model, model_file = create_model(args)\n",
    "    model = model.cuda()\n",
    "\n",
    "    swa_model, _ = create_model(args)\n",
    "    swa_model = swa_model.cuda()\n",
    "    swa_model_file = model_file + '_swa'\n",
    "\n",
    "    optimizer = make_optimizer(model)\n",
    "    lr_scheduler = WarmupCyclicalLR(\n",
    "        \"cos\", args.base_lr, args.num_epochs, iters_per_epoch=len(train_loader), warmup_epochs=args.warmup_epochs)\n",
    "    \n",
    "    [model, swa_model], optimizer = amp.initialize([model, swa_model], optimizer, opt_level=\"O1\",verbosity=0)\n",
    "    \n",
    "    if torch.cuda.device_count() > 1:\n",
    "        model = nn.DataParallel(model)\n",
    "        swa_model = nn.DataParallel(swa_model)\n",
    "    \n",
    "    validate_and_save(model, model_file, val_loader, save=False)\n",
    "    \n",
    "    for cycle in range(1, args.num_cycles+1):\n",
    "        print('CYCLE:', cycle)\n",
    "        grid = GridMask(64, 128, rotate=15, ratio=0.6, mode=1, prob=1.)\n",
    "\n",
    "        for epoch in range(args.num_epochs):\n",
    "            grid.set_prob(epoch, args.st_epochs)\n",
    "            train_epoch(args, model, train_loader, epoch, optimizer, lr_scheduler, grid)\n",
    "            validate_and_save(model, model_file, val_loader, save=True)\n",
    "            \n",
    "            if (epoch+1) == args.swa_start and cycle == 1:\n",
    "                copy_model(swa_model, model)\n",
    "                swa_n = 0\n",
    "            if (epoch+1) >= args.swa_start and (epoch+1) % args.swa_freq == 0:\n",
    "                print('SWA>>>:')\n",
    "                moving_average(swa_model, model, 1.0 / (swa_n + 1))\n",
    "                swa_n += 1\n",
    "                bn_update(train_loader, swa_model)\n",
    "                validate_and_save(swa_model, swa_model_file, val_loader, save=True)\n",
    "\n",
    "        #args.base_lr = 4e-4\n",
    "        #args.num_epochs = 80\n",
    "        #args.warmup_epochs = 100\n",
    "\n",
    "        # reset scheduler at each cycle\n",
    "        lr_scheduler = WarmupCyclicalLR(\n",
    "            \"cos\", args.base_lr, args.num_epochs, iters_per_epoch=len(train_loader), warmup_epochs=args.warmup_epochs)"
   ]
  },
  {
   "cell_type": "code",
   "execution_count": null,
   "metadata": {},
   "outputs": [],
   "source": []
  },
  {
   "cell_type": "code",
   "execution_count": 35,
   "metadata": {},
   "outputs": [],
   "source": [
    "args = Namespace()\n",
    "args.backbone = 'se_resnext50_32x4d'\n",
    "args.ckp_name = 'model3_se_resnext50_fold4_224_cyclic.pth'\n",
    "\n",
    "args.base_lr = 1e-4\n",
    "args.num_epochs = 80\n",
    "args.start_epoch = 0\n",
    "args.warmup_epochs = 5\n",
    "\n",
    "args.num_cycles = 100\n",
    "args.batch_size = 768\n",
    "args.val_batch_size = 1024\n",
    "args.st_epochs = 10\n",
    "\n",
    "args.swa_start = 15\n",
    "args.swa_freq = 3\n",
    "\n",
    "args.beta = 1.0\n",
    "args.cutmix_prob = 0.5"
   ]
  },
  {
   "cell_type": "code",
   "execution_count": 36,
   "metadata": {},
   "outputs": [
    {
     "name": "stdout",
     "output_type": "stream",
     "text": [
      "(200840, 6)\n",
      "(200840, 32332)\n",
      "(160735, 6) (40105, 6)\n"
     ]
    }
   ],
   "source": [
    "train_loader, val_loader = get_train_val_loaders(batch_size=args.batch_size, val_batch_size=args.val_batch_size, ifold=4)"
   ]
  },
  {
   "cell_type": "code",
   "execution_count": null,
   "metadata": {},
   "outputs": [
    {
     "name": "stdout",
     "output_type": "stream",
     "text": [
      "model file: ./models/se_resnext50_32x4d/model3_se_resnext50_fold4_224_cyclic.pth, exist: True\n",
      "loading ./models/se_resnext50_32x4d/model3_se_resnext50_fold4_224_cyclic.pth...\n",
      "model file: ./models/se_resnext50_32x4d/model3_se_resnext50_fold4_224_cyclic.pth, exist: True\n",
      "loading ./models/se_resnext50_32x4d/model3_se_resnext50_fold4_224_cyclic.pth...\n",
      "\n",
      "val: {'recall': 0.997501, 'recall_grapheme': 0.996235, 'recall_vowel': 0.998718, 'recall_consonant': 0.998817, 'acc_grapheme': 0.996085, 'acc_vowel': 0.998454, 'acc_consonant': 0.998529, 'loss_grapheme': 0.02314, 'loss_vowel': 0.014404, 'loss_consonant': 0.011319}\n",
      "CYCLE: 1\n",
      "    0 | 0.000020 | 160512/160735 | 1.4476 | 1.3112 |\n",
      "val: {'recall': 0.995659, 'recall_grapheme': 0.993353, 'recall_vowel': 0.998098, 'recall_consonant': 0.997831, 'acc_grapheme': 0.993417, 'acc_vowel': 0.997831, 'acc_consonant': 0.997856, 'loss_grapheme': 0.06344, 'loss_vowel': 0.046332, 'loss_consonant': 0.034227}\n",
      "    1 | 0.000040 | 160512/160735 | 3.0032 | 1.0590 |\n",
      "val: {'recall': 0.99702, 'recall_grapheme': 0.99566, 'recall_vowel': 0.998369, 'recall_consonant': 0.998389, 'acc_grapheme': 0.995537, 'acc_vowel': 0.998155, 'acc_consonant': 0.998354, 'loss_grapheme': 0.044747, 'loss_vowel': 0.030059, 'loss_consonant': 0.020251}\n",
      "    2 | 0.000060 | 160512/160735 | 2.1853 | 1.0713 |\n",
      "val: {'recall': 0.995194, 'recall_grapheme': 0.992694, 'recall_vowel': 0.997712, 'recall_consonant': 0.997678, 'acc_grapheme': 0.992121, 'acc_vowel': 0.997731, 'acc_consonant': 0.997531, 'loss_grapheme': 0.043435, 'loss_vowel': 0.024409, 'loss_consonant': 0.018724}\n",
      "    3 | 0.000079 | 160512/160735 | 1.4694 | 1.0926 |\n",
      "val: {'recall': 0.99617, 'recall_grapheme': 0.994298, 'recall_vowel': 0.997918, 'recall_consonant': 0.998164, 'acc_grapheme': 0.99419, 'acc_vowel': 0.997856, 'acc_consonant': 0.99818, 'loss_grapheme': 0.047059, 'loss_vowel': 0.028819, 'loss_consonant': 0.019447}\n",
      "    4 | 0.000099 | 160512/160735 | 0.2735 | 1.1362 |\n",
      "val: {'recall': 0.996768, 'recall_grapheme': 0.995301, 'recall_vowel': 0.998302, 'recall_consonant': 0.998168, 'acc_grapheme': 0.995113, 'acc_vowel': 0.998205, 'acc_consonant': 0.998304, 'loss_grapheme': 0.035947, 'loss_vowel': 0.022324, 'loss_consonant': 0.015016}\n",
      "    5 | 0.000099 | 160512/160735 | 1.6495 | 1.1000 |\n",
      "val: {'recall': 0.996087, 'recall_grapheme': 0.994407, 'recall_vowel': 0.997556, 'recall_consonant': 0.997979, 'acc_grapheme': 0.994165, 'acc_vowel': 0.997806, 'acc_consonant': 0.997781, 'loss_grapheme': 0.060511, 'loss_vowel': 0.032914, 'loss_consonant': 0.0251}\n",
      "    6 | 0.000098 | 160512/160735 | 2.6113 | 1.2350 |\n",
      "val: {'recall': 0.994889, 'recall_grapheme': 0.992667, 'recall_vowel': 0.997637, 'recall_consonant': 0.996585, 'acc_grapheme': 0.99242, 'acc_vowel': 0.997631, 'acc_consonant': 0.997631, 'loss_grapheme': 0.048412, 'loss_vowel': 0.026588, 'loss_consonant': 0.018821}\n",
      "    7 | 0.000098 | 160512/160735 | 0.0015 | 1.1024 |\n",
      "val: {'recall': 0.995972, 'recall_grapheme': 0.994109, 'recall_vowel': 0.998065, 'recall_consonant': 0.997605, 'acc_grapheme': 0.994041, 'acc_vowel': 0.99803, 'acc_consonant': 0.99798, 'loss_grapheme': 0.033089, 'loss_vowel': 0.019718, 'loss_consonant': 0.014144}\n",
      "    8 | 0.000097 | 160512/160735 | 2.9532 | 1.2685 |\n",
      "val: {'recall': 0.993345, 'recall_grapheme': 0.990365, 'recall_vowel': 0.996909, 'recall_consonant': 0.995739, 'acc_grapheme': 0.989602, 'acc_vowel': 0.997058, 'acc_consonant': 0.996384, 'loss_grapheme': 0.048194, 'loss_vowel': 0.020862, 'loss_consonant': 0.020519}\n",
      "    9 | 0.000096 | 160512/160735 | 1.8016 | 1.0924 |\n",
      "val: {'recall': 0.995418, 'recall_grapheme': 0.993188, 'recall_vowel': 0.997681, 'recall_consonant': 0.997615, 'acc_grapheme': 0.993193, 'acc_vowel': 0.997631, 'acc_consonant': 0.997556, 'loss_grapheme': 0.044145, 'loss_vowel': 0.023924, 'loss_consonant': 0.018251}\n",
      "   10 | 0.000095 | 160512/160735 | 0.0036 | 1.2548 |\n",
      "val: {'recall': 0.996263, 'recall_grapheme': 0.994303, 'recall_vowel': 0.997941, 'recall_consonant': 0.998508, 'acc_grapheme': 0.993617, 'acc_vowel': 0.997881, 'acc_consonant': 0.997881, 'loss_grapheme': 0.029154, 'loss_vowel': 0.014539, 'loss_consonant': 0.011313}\n",
      "   11 | 0.000095 | 160512/160735 | 0.9379 | 1.0966 |\n",
      "val: {'recall': 0.995722, 'recall_grapheme': 0.993262, 'recall_vowel': 0.997864, 'recall_consonant': 0.998501, 'acc_grapheme': 0.993093, 'acc_vowel': 0.997955, 'acc_consonant': 0.997905, 'loss_grapheme': 0.032055, 'loss_vowel': 0.014524, 'loss_consonant': 0.011102}\n",
      "   12 | 0.000094 | 160512/160735 | 2.4213 | 1.1811 |\n",
      "val: {'recall': 0.996396, 'recall_grapheme': 0.994381, 'recall_vowel': 0.998295, 'recall_consonant': 0.998524, 'acc_grapheme': 0.994315, 'acc_vowel': 0.998105, 'acc_consonant': 0.998155, 'loss_grapheme': 0.039064, 'loss_vowel': 0.023762, 'loss_consonant': 0.015741}\n",
      "   13 | 0.000093 | 160512/160735 | 1.7182 | 1.0898 |\n",
      "val: {'recall': 0.996194, 'recall_grapheme': 0.994055, 'recall_vowel': 0.998, 'recall_consonant': 0.998664, 'acc_grapheme': 0.993766, 'acc_vowel': 0.997905, 'acc_consonant': 0.997881, 'loss_grapheme': 0.032743, 'loss_vowel': 0.017373, 'loss_consonant': 0.01343}\n",
      "   14 | 0.000092 | 160512/160735 | 1.7982 | 1.0702 |"
     ]
    },
    {
     "name": "stderr",
     "output_type": "stream",
     "text": [
      "\r",
      "  0%|          | 0/209 [00:00<?, ?it/s]"
     ]
    },
    {
     "name": "stdout",
     "output_type": "stream",
     "text": [
      "\n",
      "val: {'recall': 0.994407, 'recall_grapheme': 0.991971, 'recall_vowel': 0.997415, 'recall_consonant': 0.996272, 'acc_grapheme': 0.99237, 'acc_vowel': 0.997531, 'acc_consonant': 0.997307, 'loss_grapheme': 0.056642, 'loss_vowel': 0.029614, 'loss_consonant': 0.024558}\n",
      "SWA>>>:\n"
     ]
    },
    {
     "name": "stderr",
     "output_type": "stream",
     "text": [
      "100%|██████████| 209/209 [01:14<00:00,  2.91it/s]\n"
     ]
    },
    {
     "name": "stdout",
     "output_type": "stream",
     "text": [
      "\n",
      "val: {'recall': 0.997871, 'recall_grapheme': 0.996938, 'recall_vowel': 0.998737, 'recall_consonant': 0.998871, 'acc_grapheme': 0.997008, 'acc_vowel': 0.998753, 'acc_consonant': 0.998629, 'loss_grapheme': 0.014872, 'loss_vowel': 0.007039, 'loss_consonant': 0.004985}\n",
      "###>>>>> saved ./models/se_resnext50_32x4d/model3_se_resnext50_fold4_224_cyclic.pth_swa\n",
      "   15 | 0.000090 | 160512/160735 | 0.6380 | 1.1132 |\n",
      "val: {'recall': 0.995602, 'recall_grapheme': 0.993479, 'recall_vowel': 0.997784, 'recall_consonant': 0.997666, 'acc_grapheme': 0.992644, 'acc_vowel': 0.997581, 'acc_consonant': 0.997357, 'loss_grapheme': 0.035865, 'loss_vowel': 0.016133, 'loss_consonant': 0.013851}\n",
      "   16 | 0.000089 | 160512/160735 | 1.6648 | 1.2117 |\n",
      "val: {'recall': 0.99536, 'recall_grapheme': 0.993414, 'recall_vowel': 0.997942, 'recall_consonant': 0.99667, 'acc_grapheme': 0.992769, 'acc_vowel': 0.99793, 'acc_consonant': 0.997531, 'loss_grapheme': 0.033772, 'loss_vowel': 0.014848, 'loss_consonant': 0.012491}\n",
      "   17 | 0.000088 | 160512/160735 | 0.0048 | 1.2095 |"
     ]
    },
    {
     "name": "stderr",
     "output_type": "stream",
     "text": [
      "\r",
      "  0%|          | 0/209 [00:00<?, ?it/s]"
     ]
    },
    {
     "name": "stdout",
     "output_type": "stream",
     "text": [
      "\n",
      "val: {'recall': 0.996134, 'recall_grapheme': 0.994079, 'recall_vowel': 0.998107, 'recall_consonant': 0.99827, 'acc_grapheme': 0.993941, 'acc_vowel': 0.99793, 'acc_consonant': 0.997881, 'loss_grapheme': 0.030761, 'loss_vowel': 0.014871, 'loss_consonant': 0.011293}\n",
      "SWA>>>:\n"
     ]
    },
    {
     "name": "stderr",
     "output_type": "stream",
     "text": [
      "100%|██████████| 209/209 [01:14<00:00,  2.92it/s]\n"
     ]
    },
    {
     "name": "stdout",
     "output_type": "stream",
     "text": [
      "\n",
      "val: {'recall': 0.998135, 'recall_grapheme': 0.997279, 'recall_vowel': 0.998881, 'recall_consonant': 0.9991, 'acc_grapheme': 0.997207, 'acc_vowel': 0.998728, 'acc_consonant': 0.998928, 'loss_grapheme': 0.014709, 'loss_vowel': 0.007081, 'loss_consonant': 0.004699}\n",
      "###>>>>> saved ./models/se_resnext50_32x4d/model3_se_resnext50_fold4_224_cyclic.pth_swa\n",
      "   18 | 0.000087 | 160512/160735 | 2.7574 | 1.1705 |\n",
      "val: {'recall': 0.994061, 'recall_grapheme': 0.991074, 'recall_vowel': 0.99701, 'recall_consonant': 0.997087, 'acc_grapheme': 0.990251, 'acc_vowel': 0.997108, 'acc_consonant': 0.996759, 'loss_grapheme': 0.063918, 'loss_vowel': 0.040915, 'loss_consonant': 0.031312}\n",
      "   19 | 0.000085 | 160512/160735 | 0.6801 | 1.1465 |\n",
      "val: {'recall': 0.991573, 'recall_grapheme': 0.988895, 'recall_vowel': 0.996521, 'recall_consonant': 0.991982, 'acc_grapheme': 0.988006, 'acc_vowel': 0.996808, 'acc_consonant': 0.995911, 'loss_grapheme': 0.050245, 'loss_vowel': 0.020182, 'loss_consonant': 0.019528}\n",
      "   20 | 0.000084 | 160512/160735 | 2.1146 | 1.1648 |"
     ]
    },
    {
     "name": "stderr",
     "output_type": "stream",
     "text": [
      "\r",
      "  0%|          | 0/209 [00:00<?, ?it/s]"
     ]
    },
    {
     "name": "stdout",
     "output_type": "stream",
     "text": [
      "\n",
      "val: {'recall': 0.994937, 'recall_grapheme': 0.992747, 'recall_vowel': 0.997213, 'recall_consonant': 0.997041, 'acc_grapheme': 0.992171, 'acc_vowel': 0.997257, 'acc_consonant': 0.996883, 'loss_grapheme': 0.042312, 'loss_vowel': 0.023123, 'loss_consonant': 0.018732}\n",
      "SWA>>>:\n"
     ]
    },
    {
     "name": "stderr",
     "output_type": "stream",
     "text": [
      "100%|██████████| 209/209 [01:14<00:00,  2.88it/s]\n"
     ]
    },
    {
     "name": "stdout",
     "output_type": "stream",
     "text": [
      "\n",
      "val: {'recall': 0.998031, 'recall_grapheme': 0.997056, 'recall_vowel': 0.998963, 'recall_consonant': 0.999048, 'acc_grapheme': 0.996983, 'acc_vowel': 0.998728, 'acc_consonant': 0.998928, 'loss_grapheme': 0.014638, 'loss_vowel': 0.007073, 'loss_consonant': 0.004746}\n",
      "   21 | 0.000082 | 160512/160735 | 0.0050 | 1.0987 |\n",
      "val: {'recall': 0.995005, 'recall_grapheme': 0.992727, 'recall_vowel': 0.997246, 'recall_consonant': 0.997321, 'acc_grapheme': 0.99222, 'acc_vowel': 0.997606, 'acc_consonant': 0.997108, 'loss_grapheme': 0.035576, 'loss_vowel': 0.01444, 'loss_consonant': 0.013165}\n",
      "   22 | 0.000081 | 160512/160735 | 0.0017 | 1.1315 |\n",
      "val: {'recall': 0.996802, 'recall_grapheme': 0.995305, 'recall_vowel': 0.998137, 'recall_consonant': 0.998463, 'acc_grapheme': 0.994589, 'acc_vowel': 0.998105, 'acc_consonant': 0.998005, 'loss_grapheme': 0.029334, 'loss_vowel': 0.015266, 'loss_consonant': 0.011637}\n",
      "   23 | 0.000079 | 160512/160735 | 3.0622 | 1.1324 |"
     ]
    },
    {
     "name": "stderr",
     "output_type": "stream",
     "text": [
      "\r",
      "  0%|          | 0/209 [00:00<?, ?it/s]"
     ]
    },
    {
     "name": "stdout",
     "output_type": "stream",
     "text": [
      "\n",
      "val: {'recall': 0.994986, 'recall_grapheme': 0.992663, 'recall_vowel': 0.997388, 'recall_consonant': 0.997229, 'acc_grapheme': 0.991971, 'acc_vowel': 0.997507, 'acc_consonant': 0.997232, 'loss_grapheme': 0.038205, 'loss_vowel': 0.016667, 'loss_consonant': 0.015017}\n",
      "SWA>>>:\n"
     ]
    },
    {
     "name": "stderr",
     "output_type": "stream",
     "text": [
      "100%|██████████| 209/209 [01:14<00:00,  2.91it/s]\n"
     ]
    },
    {
     "name": "stdout",
     "output_type": "stream",
     "text": [
      "\n",
      "val: {'recall': 0.998064, 'recall_grapheme': 0.997139, 'recall_vowel': 0.99893, 'recall_consonant': 0.999048, 'acc_grapheme': 0.997133, 'acc_vowel': 0.998678, 'acc_consonant': 0.998928, 'loss_grapheme': 0.01448, 'loss_vowel': 0.006922, 'loss_consonant': 0.004625}\n",
      "   24 | 0.000078 | 160512/160735 | 0.9434 | 1.0881 |\n",
      "val: {'recall': 0.996131, 'recall_grapheme': 0.994244, 'recall_vowel': 0.997938, 'recall_consonant': 0.998098, 'acc_grapheme': 0.993991, 'acc_vowel': 0.997905, 'acc_consonant': 0.997955, 'loss_grapheme': 0.037463, 'loss_vowel': 0.018589, 'loss_consonant': 0.01545}\n",
      "   25 | 0.000076 | 160512/160735 | 1.5751 | 1.2374 |\n",
      "val: {'recall': 0.995096, 'recall_grapheme': 0.992703, 'recall_vowel': 0.997329, 'recall_consonant': 0.997651, 'acc_grapheme': 0.99232, 'acc_vowel': 0.997432, 'acc_consonant': 0.997407, 'loss_grapheme': 0.040268, 'loss_vowel': 0.019077, 'loss_consonant': 0.016128}\n",
      "   26 | 0.000074 | 160512/160735 | 0.0073 | 1.0544 |"
     ]
    },
    {
     "name": "stderr",
     "output_type": "stream",
     "text": [
      "\r",
      "  0%|          | 0/209 [00:00<?, ?it/s]"
     ]
    },
    {
     "name": "stdout",
     "output_type": "stream",
     "text": [
      "\n",
      "val: {'recall': 0.996022, 'recall_grapheme': 0.993892, 'recall_vowel': 0.997843, 'recall_consonant': 0.998461, 'acc_grapheme': 0.993367, 'acc_vowel': 0.99798, 'acc_consonant': 0.997781, 'loss_grapheme': 0.0331, 'loss_vowel': 0.015997, 'loss_consonant': 0.012281}\n",
      "SWA>>>:\n"
     ]
    },
    {
     "name": "stderr",
     "output_type": "stream",
     "text": [
      "100%|██████████| 209/209 [01:14<00:00,  2.80it/s]\n"
     ]
    },
    {
     "name": "stdout",
     "output_type": "stream",
     "text": [
      "\n",
      "val: {'recall': 0.998051, 'recall_grapheme': 0.997102, 'recall_vowel': 0.998913, 'recall_consonant': 0.999087, 'acc_grapheme': 0.997083, 'acc_vowel': 0.998703, 'acc_consonant': 0.998978, 'loss_grapheme': 0.014487, 'loss_vowel': 0.006749, 'loss_consonant': 0.004543}\n",
      "   27 | 0.000073 | 160512/160735 | 0.0008 | 1.2239 |\n",
      "val: {'recall': 0.995406, 'recall_grapheme': 0.993363, 'recall_vowel': 0.997389, 'recall_consonant': 0.997508, 'acc_grapheme': 0.992171, 'acc_vowel': 0.997581, 'acc_consonant': 0.997257, 'loss_grapheme': 0.035907, 'loss_vowel': 0.014576, 'loss_consonant': 0.013566}\n",
      "   28 | 0.000071 | 160512/160735 | 0.0024 | 1.1207 |\n",
      "val: {'recall': 0.995637, 'recall_grapheme': 0.993682, 'recall_vowel': 0.997615, 'recall_consonant': 0.99757, 'acc_grapheme': 0.992944, 'acc_vowel': 0.997731, 'acc_consonant': 0.997681, 'loss_grapheme': 0.035387, 'loss_vowel': 0.015312, 'loss_consonant': 0.012641}\n",
      "   29 | 0.000069 | 160512/160735 | 3.3515 | 1.0992 |"
     ]
    },
    {
     "name": "stderr",
     "output_type": "stream",
     "text": [
      "\r",
      "  0%|          | 0/209 [00:00<?, ?it/s]"
     ]
    },
    {
     "name": "stdout",
     "output_type": "stream",
     "text": [
      "\n",
      "val: {'recall': 0.995649, 'recall_grapheme': 0.993393, 'recall_vowel': 0.99753, 'recall_consonant': 0.998278, 'acc_grapheme': 0.992894, 'acc_vowel': 0.997681, 'acc_consonant': 0.997656, 'loss_grapheme': 0.034558, 'loss_vowel': 0.017433, 'loss_consonant': 0.014158}\n",
      "SWA>>>:\n"
     ]
    },
    {
     "name": "stderr",
     "output_type": "stream",
     "text": [
      "100%|██████████| 209/209 [01:14<00:00,  2.94it/s]\n"
     ]
    },
    {
     "name": "stdout",
     "output_type": "stream",
     "text": [
      "\n",
      "val: {'recall': 0.997977, 'recall_grapheme': 0.996971, 'recall_vowel': 0.998842, 'recall_consonant': 0.999123, 'acc_grapheme': 0.997058, 'acc_vowel': 0.998703, 'acc_consonant': 0.999028, 'loss_grapheme': 0.014361, 'loss_vowel': 0.006635, 'loss_consonant': 0.004471}\n",
      "   30 | 0.000067 | 160512/160735 | 1.9362 | 1.1340 |\n",
      "val: {'recall': 0.996043, 'recall_grapheme': 0.994175, 'recall_vowel': 0.99779, 'recall_consonant': 0.998031, 'acc_grapheme': 0.993667, 'acc_vowel': 0.997955, 'acc_consonant': 0.99793, 'loss_grapheme': 0.045665, 'loss_vowel': 0.02753, 'loss_consonant': 0.019548}\n",
      "   31 | 0.000065 | 160512/160735 | 2.3495 | 1.0965 |\n",
      "val: {'recall': 0.993185, 'recall_grapheme': 0.990444, 'recall_vowel': 0.996105, 'recall_consonant': 0.995745, 'acc_grapheme': 0.989253, 'acc_vowel': 0.996684, 'acc_consonant': 0.99631, 'loss_grapheme': 0.046568, 'loss_vowel': 0.019931, 'loss_consonant': 0.01866}\n",
      "   32 | 0.000064 | 160512/160735 | 0.0055 | 1.1084 |"
     ]
    },
    {
     "name": "stderr",
     "output_type": "stream",
     "text": [
      "\r",
      "  0%|          | 0/209 [00:00<?, ?it/s]"
     ]
    },
    {
     "name": "stdout",
     "output_type": "stream",
     "text": [
      "\n",
      "val: {'recall': 0.996643, 'recall_grapheme': 0.994835, 'recall_vowel': 0.998192, 'recall_consonant': 0.998711, 'acc_grapheme': 0.994365, 'acc_vowel': 0.99828, 'acc_consonant': 0.99813, 'loss_grapheme': 0.04175, 'loss_vowel': 0.028178, 'loss_consonant': 0.01836}\n",
      "SWA>>>:\n"
     ]
    },
    {
     "name": "stderr",
     "output_type": "stream",
     "text": [
      "100%|██████████| 209/209 [01:14<00:00,  2.83it/s]\n"
     ]
    },
    {
     "name": "stdout",
     "output_type": "stream",
     "text": [
      "\n",
      "val: {'recall': 0.997994, 'recall_grapheme': 0.997067, 'recall_vowel': 0.998725, 'recall_consonant': 0.999117, 'acc_grapheme': 0.997083, 'acc_vowel': 0.998728, 'acc_consonant': 0.999003, 'loss_grapheme': 0.014283, 'loss_vowel': 0.006701, 'loss_consonant': 0.004484}\n",
      "   33 | 0.000062 | 160512/160735 | 1.2510 | 1.0531 |\n",
      "val: {'recall': 0.995975, 'recall_grapheme': 0.994059, 'recall_vowel': 0.997715, 'recall_consonant': 0.998067, 'acc_grapheme': 0.993442, 'acc_vowel': 0.997831, 'acc_consonant': 0.997606, 'loss_grapheme': 0.031612, 'loss_vowel': 0.013527, 'loss_consonant': 0.011318}\n",
      "   34 | 0.000060 | 160512/160735 | 1.2333 | 0.9879 |\n",
      "val: {'recall': 0.996299, 'recall_grapheme': 0.994412, 'recall_vowel': 0.997912, 'recall_consonant': 0.998461, 'acc_grapheme': 0.993866, 'acc_vowel': 0.99798, 'acc_consonant': 0.99793, 'loss_grapheme': 0.038469, 'loss_vowel': 0.021268, 'loss_consonant': 0.016356}\n",
      "   35 | 0.000058 | 160512/160735 | 1.8619 | 1.3349 |"
     ]
    },
    {
     "name": "stderr",
     "output_type": "stream",
     "text": [
      "\r",
      "  0%|          | 0/209 [00:00<?, ?it/s]"
     ]
    },
    {
     "name": "stdout",
     "output_type": "stream",
     "text": [
      "\n",
      "val: {'recall': 0.995634, 'recall_grapheme': 0.993687, 'recall_vowel': 0.997604, 'recall_consonant': 0.997558, 'acc_grapheme': 0.992619, 'acc_vowel': 0.997706, 'acc_consonant': 0.997432, 'loss_grapheme': 0.0355, 'loss_vowel': 0.015217, 'loss_consonant': 0.012133}\n",
      "SWA>>>:\n"
     ]
    },
    {
     "name": "stderr",
     "output_type": "stream",
     "text": [
      "100%|██████████| 209/209 [01:14<00:00,  2.93it/s]\n"
     ]
    },
    {
     "name": "stdout",
     "output_type": "stream",
     "text": [
      "\n",
      "val: {'recall': 0.997985, 'recall_grapheme': 0.996978, 'recall_vowel': 0.998866, 'recall_consonant': 0.99912, 'acc_grapheme': 0.996983, 'acc_vowel': 0.998753, 'acc_consonant': 0.999003, 'loss_grapheme': 0.014241, 'loss_vowel': 0.006635, 'loss_consonant': 0.004556}\n",
      "   36 | 0.000056 | 160512/160735 | 0.4703 | 1.0981 |\n",
      "val: {'recall': 0.996717, 'recall_grapheme': 0.995063, 'recall_vowel': 0.998058, 'recall_consonant': 0.998683, 'acc_grapheme': 0.994739, 'acc_vowel': 0.99808, 'acc_consonant': 0.99818, 'loss_grapheme': 0.046823, 'loss_vowel': 0.024737, 'loss_consonant': 0.018218}\n",
      "   37 | 0.000054 | 160512/160735 | 1.3423 | 1.1607 |\n",
      "val: {'recall': 0.995554, 'recall_grapheme': 0.993228, 'recall_vowel': 0.997711, 'recall_consonant': 0.99805, 'acc_grapheme': 0.992295, 'acc_vowel': 0.997581, 'acc_consonant': 0.997531, 'loss_grapheme': 0.043746, 'loss_vowel': 0.021593, 'loss_consonant': 0.017483}\n",
      "   38 | 0.000052 | 160512/160735 | 1.9182 | 1.0784 |"
     ]
    },
    {
     "name": "stderr",
     "output_type": "stream",
     "text": [
      "\r",
      "  0%|          | 0/209 [00:00<?, ?it/s]"
     ]
    },
    {
     "name": "stdout",
     "output_type": "stream",
     "text": [
      "\n",
      "val: {'recall': 0.993313, 'recall_grapheme': 0.989621, 'recall_vowel': 0.99672, 'recall_consonant': 0.997292, 'acc_grapheme': 0.988879, 'acc_vowel': 0.996783, 'acc_consonant': 0.99636, 'loss_grapheme': 0.044229, 'loss_vowel': 0.015264, 'loss_consonant': 0.01402}\n",
      "SWA>>>:\n"
     ]
    },
    {
     "name": "stderr",
     "output_type": "stream",
     "text": [
      "100%|██████████| 209/209 [01:14<00:00,  2.96it/s]\n"
     ]
    },
    {
     "name": "stdout",
     "output_type": "stream",
     "text": [
      "\n",
      "val: {'recall': 0.997959, 'recall_grapheme': 0.996982, 'recall_vowel': 0.998789, 'recall_consonant': 0.999081, 'acc_grapheme': 0.996983, 'acc_vowel': 0.998753, 'acc_consonant': 0.998953, 'loss_grapheme': 0.01427, 'loss_vowel': 0.006612, 'loss_consonant': 0.004562}\n",
      "   39 | 0.000050 | 160512/160735 | 0.0015 | 1.0541 |\n",
      "val: {'recall': 0.994614, 'recall_grapheme': 0.991786, 'recall_vowel': 0.997094, 'recall_consonant': 0.997791, 'acc_grapheme': 0.991223, 'acc_vowel': 0.997407, 'acc_consonant': 0.996983, 'loss_grapheme': 0.038414, 'loss_vowel': 0.013904, 'loss_consonant': 0.012532}\n",
      "   40 | 0.000048 | 160512/160735 | 1.5332 | 1.1773 |\n",
      "val: {'recall': 0.99534, 'recall_grapheme': 0.993082, 'recall_vowel': 0.997198, 'recall_consonant': 0.997998, 'acc_grapheme': 0.992171, 'acc_vowel': 0.997482, 'acc_consonant': 0.997182, 'loss_grapheme': 0.035611, 'loss_vowel': 0.014665, 'loss_consonant': 0.012352}\n",
      "   41 | 0.000046 | 160512/160735 | 0.7684 | 1.1494 |"
     ]
    },
    {
     "name": "stderr",
     "output_type": "stream",
     "text": [
      "\r",
      "  0%|          | 0/209 [00:00<?, ?it/s]"
     ]
    },
    {
     "name": "stdout",
     "output_type": "stream",
     "text": [
      "\n",
      "val: {'recall': 0.995398, 'recall_grapheme': 0.992983, 'recall_vowel': 0.997628, 'recall_consonant': 0.997998, 'acc_grapheme': 0.991996, 'acc_vowel': 0.997507, 'acc_consonant': 0.997307, 'loss_grapheme': 0.036116, 'loss_vowel': 0.013206, 'loss_consonant': 0.011344}\n",
      "SWA>>>:\n"
     ]
    },
    {
     "name": "stderr",
     "output_type": "stream",
     "text": [
      "100%|██████████| 209/209 [01:14<00:00,  2.92it/s]\n"
     ]
    },
    {
     "name": "stdout",
     "output_type": "stream",
     "text": [
      "\n",
      "val: {'recall': 0.997922, 'recall_grapheme': 0.99695, 'recall_vowel': 0.998708, 'recall_consonant': 0.999081, 'acc_grapheme': 0.996958, 'acc_vowel': 0.998778, 'acc_consonant': 0.998953, 'loss_grapheme': 0.014196, 'loss_vowel': 0.006557, 'loss_consonant': 0.004525}\n",
      "   42 | 0.000044 | 160512/160735 | 0.0005 | 1.0690 |\n",
      "val: {'recall': 0.995707, 'recall_grapheme': 0.9934, 'recall_vowel': 0.997807, 'recall_consonant': 0.998222, 'acc_grapheme': 0.993143, 'acc_vowel': 0.997781, 'acc_consonant': 0.997756, 'loss_grapheme': 0.037428, 'loss_vowel': 0.017441, 'loss_consonant': 0.014173}\n",
      "   43 | 0.000042 | 160512/160735 | 1.2245 | 1.2104 |\n",
      "val: {'recall': 0.994963, 'recall_grapheme': 0.992399, 'recall_vowel': 0.997362, 'recall_consonant': 0.997691, 'acc_grapheme': 0.992071, 'acc_vowel': 0.997581, 'acc_consonant': 0.997332, 'loss_grapheme': 0.037198, 'loss_vowel': 0.015076, 'loss_consonant': 0.013183}\n",
      "   44 | 0.000040 | 160512/160735 | 0.0026 | 1.0263 |"
     ]
    },
    {
     "name": "stderr",
     "output_type": "stream",
     "text": [
      "\r",
      "  0%|          | 0/209 [00:00<?, ?it/s]"
     ]
    },
    {
     "name": "stdout",
     "output_type": "stream",
     "text": [
      "\n",
      "val: {'recall': 0.996209, 'recall_grapheme': 0.994243, 'recall_vowel': 0.997984, 'recall_consonant': 0.998367, 'acc_grapheme': 0.994016, 'acc_vowel': 0.99803, 'acc_consonant': 0.997905, 'loss_grapheme': 0.038259, 'loss_vowel': 0.021267, 'loss_consonant': 0.01522}\n",
      "SWA>>>:\n"
     ]
    },
    {
     "name": "stderr",
     "output_type": "stream",
     "text": [
      "100%|██████████| 209/209 [01:14<00:00,  2.91it/s]\n"
     ]
    },
    {
     "name": "stdout",
     "output_type": "stream",
     "text": [
      "\n",
      "val: {'recall': 0.997933, 'recall_grapheme': 0.996983, 'recall_vowel': 0.998719, 'recall_consonant': 0.999045, 'acc_grapheme': 0.996983, 'acc_vowel': 0.998803, 'acc_consonant': 0.998928, 'loss_grapheme': 0.014204, 'loss_vowel': 0.006582, 'loss_consonant': 0.004554}\n",
      "   45 | 0.000038 | 160512/160735 | 1.9294 | 1.1727 |\n",
      "val: {'recall': 0.995664, 'recall_grapheme': 0.993344, 'recall_vowel': 0.997703, 'recall_consonant': 0.998266, 'acc_grapheme': 0.992894, 'acc_vowel': 0.997955, 'acc_consonant': 0.997656, 'loss_grapheme': 0.03505, 'loss_vowel': 0.015316, 'loss_consonant': 0.012246}\n",
      "   46 | 0.000036 | 160512/160735 | 1.5158 | 1.2092 |\n",
      "val: {'recall': 0.994923, 'recall_grapheme': 0.992012, 'recall_vowel': 0.997494, 'recall_consonant': 0.998175, 'acc_grapheme': 0.992021, 'acc_vowel': 0.997706, 'acc_consonant': 0.997531, 'loss_grapheme': 0.048474, 'loss_vowel': 0.023137, 'loss_consonant': 0.018719}\n",
      "   47 | 0.000035 | 160512/160735 | 0.0015 | 1.0941 |"
     ]
    },
    {
     "name": "stderr",
     "output_type": "stream",
     "text": [
      "\r",
      "  0%|          | 0/209 [00:00<?, ?it/s]"
     ]
    },
    {
     "name": "stdout",
     "output_type": "stream",
     "text": [
      "\n",
      "val: {'recall': 0.996176, 'recall_grapheme': 0.994558, 'recall_vowel': 0.997668, 'recall_consonant': 0.99792, 'acc_grapheme': 0.993966, 'acc_vowel': 0.997955, 'acc_consonant': 0.997831, 'loss_grapheme': 0.039431, 'loss_vowel': 0.018675, 'loss_consonant': 0.015014}\n",
      "SWA>>>:\n"
     ]
    },
    {
     "name": "stderr",
     "output_type": "stream",
     "text": [
      "100%|██████████| 209/209 [01:14<00:00,  2.96it/s]\n"
     ]
    },
    {
     "name": "stdout",
     "output_type": "stream",
     "text": [
      "\n",
      "val: {'recall': 0.997951, 'recall_grapheme': 0.997056, 'recall_vowel': 0.998708, 'recall_consonant': 0.998984, 'acc_grapheme': 0.997008, 'acc_vowel': 0.998778, 'acc_consonant': 0.998878, 'loss_grapheme': 0.014263, 'loss_vowel': 0.006593, 'loss_consonant': 0.004559}\n",
      "   48 | 0.000033 | 160512/160735 | 0.0015 | 1.1389 |\n",
      "val: {'recall': 0.995323, 'recall_grapheme': 0.992806, 'recall_vowel': 0.997493, 'recall_consonant': 0.998186, 'acc_grapheme': 0.992146, 'acc_vowel': 0.997806, 'acc_consonant': 0.997531, 'loss_grapheme': 0.036246, 'loss_vowel': 0.014774, 'loss_consonant': 0.012094}\n",
      "   49 | 0.000031 | 160512/160735 | 0.0005 | 1.1661 |\n",
      "val: {'recall': 0.995896, 'recall_grapheme': 0.993576, 'recall_vowel': 0.997905, 'recall_consonant': 0.998527, 'acc_grapheme': 0.993417, 'acc_vowel': 0.998105, 'acc_consonant': 0.998055, 'loss_grapheme': 0.032636, 'loss_vowel': 0.015881, 'loss_consonant': 0.011751}\n",
      "   50 | 0.000029 | 160512/160735 | 1.7307 | 1.0852 |"
     ]
    },
    {
     "name": "stderr",
     "output_type": "stream",
     "text": [
      "\r",
      "  0%|          | 0/209 [00:00<?, ?it/s]"
     ]
    },
    {
     "name": "stdout",
     "output_type": "stream",
     "text": [
      "\n",
      "val: {'recall': 0.995959, 'recall_grapheme': 0.993781, 'recall_vowel': 0.997743, 'recall_consonant': 0.998529, 'acc_grapheme': 0.993642, 'acc_vowel': 0.998005, 'acc_consonant': 0.997881, 'loss_grapheme': 0.037111, 'loss_vowel': 0.020681, 'loss_consonant': 0.015309}\n",
      "SWA>>>:\n"
     ]
    },
    {
     "name": "stderr",
     "output_type": "stream",
     "text": [
      "100%|██████████| 209/209 [01:14<00:00,  2.91it/s]\n"
     ]
    },
    {
     "name": "stdout",
     "output_type": "stream",
     "text": [
      "\n",
      "val: {'recall': 0.997957, 'recall_grapheme': 0.997063, 'recall_vowel': 0.998723, 'recall_consonant': 0.998978, 'acc_grapheme': 0.997058, 'acc_vowel': 0.998778, 'acc_consonant': 0.998853, 'loss_grapheme': 0.014218, 'loss_vowel': 0.006523, 'loss_consonant': 0.004556}\n",
      "   51 | 0.000027 | 160512/160735 | 1.1623 | 1.1286 |\n",
      "val: {'recall': 0.996576, 'recall_grapheme': 0.994685, 'recall_vowel': 0.998215, 'recall_consonant': 0.998721, 'acc_grapheme': 0.994265, 'acc_vowel': 0.998205, 'acc_consonant': 0.998255, 'loss_grapheme': 0.027683, 'loss_vowel': 0.012363, 'loss_consonant': 0.008979}\n",
      "   52 | 0.000026 | 160512/160735 | 1.3032 | 1.1040 |\n",
      "val: {'recall': 0.995787, 'recall_grapheme': 0.993477, 'recall_vowel': 0.997824, 'recall_consonant': 0.998369, 'acc_grapheme': 0.993293, 'acc_vowel': 0.99793, 'acc_consonant': 0.997781, 'loss_grapheme': 0.037618, 'loss_vowel': 0.018731, 'loss_consonant': 0.013913}\n",
      "   53 | 0.000024 | 160512/160735 | 2.8252 | 1.0429 |"
     ]
    },
    {
     "name": "stderr",
     "output_type": "stream",
     "text": [
      "\r",
      "  0%|          | 0/209 [00:00<?, ?it/s]"
     ]
    },
    {
     "name": "stdout",
     "output_type": "stream",
     "text": [
      "\n",
      "val: {'recall': 0.994246, 'recall_grapheme': 0.990999, 'recall_vowel': 0.997268, 'recall_consonant': 0.997716, 'acc_grapheme': 0.990276, 'acc_vowel': 0.997357, 'acc_consonant': 0.997182, 'loss_grapheme': 0.041064, 'loss_vowel': 0.015029, 'loss_consonant': 0.012953}\n",
      "SWA>>>:\n"
     ]
    },
    {
     "name": "stderr",
     "output_type": "stream",
     "text": [
      "100%|██████████| 209/209 [01:14<00:00,  2.91it/s]\n"
     ]
    },
    {
     "name": "stdout",
     "output_type": "stream",
     "text": [
      "\n",
      "val: {'recall': 0.997918, 'recall_grapheme': 0.996982, 'recall_vowel': 0.998734, 'recall_consonant': 0.998972, 'acc_grapheme': 0.997033, 'acc_vowel': 0.998803, 'acc_consonant': 0.998828, 'loss_grapheme': 0.014234, 'loss_vowel': 0.006518, 'loss_consonant': 0.004556}\n",
      "   54 | 0.000022 | 160512/160735 | 0.0025 | 1.0906 |\n",
      "val: {'recall': 0.996321, 'recall_grapheme': 0.994462, 'recall_vowel': 0.997908, 'recall_consonant': 0.998452, 'acc_grapheme': 0.994514, 'acc_vowel': 0.998205, 'acc_consonant': 0.99798, 'loss_grapheme': 0.030131, 'loss_vowel': 0.016287, 'loss_consonant': 0.011837}\n",
      "   55 | 0.000021 | 160512/160735 | 0.0025 | 1.0220 |\n",
      "val: {'recall': 0.996376, 'recall_grapheme': 0.99445, 'recall_vowel': 0.998118, 'recall_consonant': 0.998487, 'acc_grapheme': 0.994041, 'acc_vowel': 0.99813, 'acc_consonant': 0.99798, 'loss_grapheme': 0.028385, 'loss_vowel': 0.012914, 'loss_consonant': 0.009909}\n",
      "   56 | 0.000019 | 160512/160735 | 0.0009 | 1.0241 |"
     ]
    },
    {
     "name": "stderr",
     "output_type": "stream",
     "text": [
      "\r",
      "  0%|          | 0/209 [00:00<?, ?it/s]"
     ]
    },
    {
     "name": "stdout",
     "output_type": "stream",
     "text": [
      "\n",
      "val: {'recall': 0.996652, 'recall_grapheme': 0.994953, 'recall_vowel': 0.998108, 'recall_consonant': 0.998594, 'acc_grapheme': 0.994839, 'acc_vowel': 0.998205, 'acc_consonant': 0.99828, 'loss_grapheme': 0.023456, 'loss_vowel': 0.01055, 'loss_consonant': 0.007726}\n",
      "SWA>>>:\n"
     ]
    },
    {
     "name": "stderr",
     "output_type": "stream",
     "text": [
      "100%|██████████| 209/209 [01:14<00:00,  2.92it/s]\n"
     ]
    },
    {
     "name": "stdout",
     "output_type": "stream",
     "text": [
      "\n",
      "val: {'recall': 0.998014, 'recall_grapheme': 0.997177, 'recall_vowel': 0.998723, 'recall_consonant': 0.998978, 'acc_grapheme': 0.997108, 'acc_vowel': 0.998778, 'acc_consonant': 0.998853, 'loss_grapheme': 0.014187, 'loss_vowel': 0.006488, 'loss_consonant': 0.00454}\n",
      "   57 | 0.000018 | 160512/160735 | 0.7401 | 1.0976 |\n",
      "val: {'recall': 0.997178, 'recall_grapheme': 0.995757, 'recall_vowel': 0.998435, 'recall_consonant': 0.998764, 'acc_grapheme': 0.995512, 'acc_vowel': 0.998379, 'acc_consonant': 0.998429, 'loss_grapheme': 0.023629, 'loss_vowel': 0.012228, 'loss_consonant': 0.008424}\n",
      "   58 | 0.000016 | 160512/160735 | 0.6299 | 1.1345 |\n",
      "val: {'recall': 0.9949, 'recall_grapheme': 0.9922, 'recall_vowel': 0.997125, 'recall_consonant': 0.998073, 'acc_grapheme': 0.991298, 'acc_vowel': 0.997157, 'acc_consonant': 0.997307, 'loss_grapheme': 0.037693, 'loss_vowel': 0.013964, 'loss_consonant': 0.011629}\n",
      "   59 | 0.000015 | 160512/160735 | 1.3445 | 1.2180 |"
     ]
    },
    {
     "name": "stderr",
     "output_type": "stream",
     "text": [
      "\r",
      "  0%|          | 0/209 [00:00<?, ?it/s]"
     ]
    },
    {
     "name": "stdout",
     "output_type": "stream",
     "text": [
      "\n",
      "val: {'recall': 0.994673, 'recall_grapheme': 0.99201, 'recall_vowel': 0.9973, 'recall_consonant': 0.997371, 'acc_grapheme': 0.992121, 'acc_vowel': 0.997656, 'acc_consonant': 0.997382, 'loss_grapheme': 0.040861, 'loss_vowel': 0.017748, 'loss_consonant': 0.014255}\n",
      "SWA>>>:\n"
     ]
    },
    {
     "name": "stderr",
     "output_type": "stream",
     "text": [
      "100%|██████████| 209/209 [01:14<00:00,  2.95it/s]\n"
     ]
    },
    {
     "name": "stdout",
     "output_type": "stream",
     "text": [
      "\n",
      "val: {'recall': 0.998041, 'recall_grapheme': 0.997156, 'recall_vowel': 0.998875, 'recall_consonant': 0.998978, 'acc_grapheme': 0.997083, 'acc_vowel': 0.998828, 'acc_consonant': 0.998853, 'loss_grapheme': 0.014171, 'loss_vowel': 0.006456, 'loss_consonant': 0.004494}\n",
      "   60 | 0.000013 | 160512/160735 | 1.7073 | 1.1734 |\n",
      "val: {'recall': 0.994608, 'recall_grapheme': 0.991597, 'recall_vowel': 0.997292, 'recall_consonant': 0.997946, 'acc_grapheme': 0.991497, 'acc_vowel': 0.997482, 'acc_consonant': 0.997307, 'loss_grapheme': 0.043342, 'loss_vowel': 0.019971, 'loss_consonant': 0.015821}\n",
      "   61 | 0.000012 | 160512/160735 | 0.0020 | 1.0169 |\n",
      "val: {'recall': 0.996977, 'recall_grapheme': 0.99546, 'recall_vowel': 0.998282, 'recall_consonant': 0.998707, 'acc_grapheme': 0.995287, 'acc_vowel': 0.998304, 'acc_consonant': 0.998304, 'loss_grapheme': 0.023499, 'loss_vowel': 0.011432, 'loss_consonant': 0.008234}\n",
      "   62 | 0.000011 | 160512/160735 | 1.8423 | 1.1630 |"
     ]
    },
    {
     "name": "stderr",
     "output_type": "stream",
     "text": [
      "\r",
      "  0%|          | 0/209 [00:00<?, ?it/s]"
     ]
    },
    {
     "name": "stdout",
     "output_type": "stream",
     "text": [
      "\n",
      "val: {'recall': 0.993089, 'recall_grapheme': 0.989689, 'recall_vowel': 0.997122, 'recall_consonant': 0.995856, 'acc_grapheme': 0.990126, 'acc_vowel': 0.997332, 'acc_consonant': 0.996759, 'loss_grapheme': 0.051229, 'loss_vowel': 0.021442, 'loss_consonant': 0.018398}\n",
      "SWA>>>:\n"
     ]
    },
    {
     "name": "stderr",
     "output_type": "stream",
     "text": [
      "100%|██████████| 209/209 [01:14<00:00,  2.92it/s]\n"
     ]
    },
    {
     "name": "stdout",
     "output_type": "stream",
     "text": [
      "\n",
      "val: {'recall': 0.998051, 'recall_grapheme': 0.997175, 'recall_vowel': 0.998875, 'recall_consonant': 0.998978, 'acc_grapheme': 0.997108, 'acc_vowel': 0.998828, 'acc_consonant': 0.998853, 'loss_grapheme': 0.014134, 'loss_vowel': 0.006423, 'loss_consonant': 0.004506}\n",
      "   63 | 0.000010 | 160512/160735 | 2.3298 | 1.0880 |\n",
      "val: {'recall': 0.995127, 'recall_grapheme': 0.992681, 'recall_vowel': 0.997088, 'recall_consonant': 0.998056, 'acc_grapheme': 0.992195, 'acc_vowel': 0.997482, 'acc_consonant': 0.997432, 'loss_grapheme': 0.03649, 'loss_vowel': 0.015499, 'loss_consonant': 0.013148}\n",
      "   64 | 0.000008 | 160512/160735 | 0.5476 | 1.1258 |\n",
      "val: {'recall': 0.996055, 'recall_grapheme': 0.994072, 'recall_vowel': 0.997718, 'recall_consonant': 0.998358, 'acc_grapheme': 0.993517, 'acc_vowel': 0.997905, 'acc_consonant': 0.997806, 'loss_grapheme': 0.036266, 'loss_vowel': 0.016452, 'loss_consonant': 0.013538}\n",
      "   65 | 0.000007 | 160512/160735 | 0.6691 | 1.0648 |"
     ]
    },
    {
     "name": "stderr",
     "output_type": "stream",
     "text": [
      "\r",
      "  0%|          | 0/209 [00:00<?, ?it/s]"
     ]
    },
    {
     "name": "stdout",
     "output_type": "stream",
     "text": [
      "\n",
      "val: {'recall': 0.996212, 'recall_grapheme': 0.994263, 'recall_vowel': 0.997808, 'recall_consonant': 0.998514, 'acc_grapheme': 0.993741, 'acc_vowel': 0.997905, 'acc_consonant': 0.99803, 'loss_grapheme': 0.02904, 'loss_vowel': 0.011186, 'loss_consonant': 0.00867}\n",
      "SWA>>>:\n"
     ]
    },
    {
     "name": "stderr",
     "output_type": "stream",
     "text": [
      "100%|██████████| 209/209 [01:14<00:00,  2.92it/s]\n"
     ]
    },
    {
     "name": "stdout",
     "output_type": "stream",
     "text": [
      "\n",
      "val: {'recall': 0.997995, 'recall_grapheme': 0.997067, 'recall_vowel': 0.998864, 'recall_consonant': 0.998981, 'acc_grapheme': 0.997033, 'acc_vowel': 0.998803, 'acc_consonant': 0.998853, 'loss_grapheme': 0.014128, 'loss_vowel': 0.00641, 'loss_consonant': 0.004506}\n",
      "   66 | 0.000006 | 160512/160735 | 1.4332 | 1.1811 |\n",
      "val: {'recall': 0.994133, 'recall_grapheme': 0.991102, 'recall_vowel': 0.997105, 'recall_consonant': 0.99722, 'acc_grapheme': 0.990749, 'acc_vowel': 0.997432, 'acc_consonant': 0.997008, 'loss_grapheme': 0.050741, 'loss_vowel': 0.021255, 'loss_consonant': 0.018481}\n",
      "   67 | 0.000005 | 160512/160735 | 0.0051 | 1.0924 |\n",
      "val: {'recall': 0.996271, 'recall_grapheme': 0.994272, 'recall_vowel': 0.998009, 'recall_consonant': 0.99853, 'acc_grapheme': 0.994066, 'acc_vowel': 0.99808, 'acc_consonant': 0.99798, 'loss_grapheme': 0.032225, 'loss_vowel': 0.016507, 'loss_consonant': 0.012549}\n",
      "   68 | 0.000005 | 160512/160735 | 2.3198 | 1.1687 |"
     ]
    },
    {
     "name": "stderr",
     "output_type": "stream",
     "text": [
      "\r",
      "  0%|          | 0/209 [00:00<?, ?it/s]"
     ]
    },
    {
     "name": "stdout",
     "output_type": "stream",
     "text": [
      "\n",
      "val: {'recall': 0.995579, 'recall_grapheme': 0.99316, 'recall_vowel': 0.997696, 'recall_consonant': 0.9983, 'acc_grapheme': 0.992993, 'acc_vowel': 0.997806, 'acc_consonant': 0.997806, 'loss_grapheme': 0.034728, 'loss_vowel': 0.016425, 'loss_consonant': 0.012373}\n",
      "SWA>>>:\n"
     ]
    },
    {
     "name": "stderr",
     "output_type": "stream",
     "text": [
      "100%|██████████| 209/209 [01:14<00:00,  2.89it/s]\n"
     ]
    },
    {
     "name": "stdout",
     "output_type": "stream",
     "text": [
      "\n",
      "val: {'recall': 0.99807, 'recall_grapheme': 0.997212, 'recall_vowel': 0.998875, 'recall_consonant': 0.998981, 'acc_grapheme': 0.997157, 'acc_vowel': 0.998828, 'acc_consonant': 0.998853, 'loss_grapheme': 0.014149, 'loss_vowel': 0.006353, 'loss_consonant': 0.004493}\n",
      "   69 | 0.000004 | 160512/160735 | 1.7102 | 1.0859 |\n",
      "val: {'recall': 0.994899, 'recall_grapheme': 0.992383, 'recall_vowel': 0.997174, 'recall_consonant': 0.997654, 'acc_grapheme': 0.992495, 'acc_vowel': 0.997581, 'acc_consonant': 0.997457, 'loss_grapheme': 0.041136, 'loss_vowel': 0.018104, 'loss_consonant': 0.015019}\n",
      "   70 | 0.000003 | 160512/160735 | 0.0014 | 1.1587 |\n",
      "val: {'recall': 0.996448, 'recall_grapheme': 0.994734, 'recall_vowel': 0.997928, 'recall_consonant': 0.998398, 'acc_grapheme': 0.994564, 'acc_vowel': 0.998255, 'acc_consonant': 0.99793, 'loss_grapheme': 0.030454, 'loss_vowel': 0.016616, 'loss_consonant': 0.012695}\n",
      "   71 | 0.000002 | 160512/160735 | 2.0995 | 1.1644 |"
     ]
    },
    {
     "name": "stderr",
     "output_type": "stream",
     "text": [
      "\r",
      "  0%|          | 0/209 [00:00<?, ?it/s]"
     ]
    },
    {
     "name": "stdout",
     "output_type": "stream",
     "text": [
      "\n",
      "val: {'recall': 0.996156, 'recall_grapheme': 0.994117, 'recall_vowel': 0.997947, 'recall_consonant': 0.998442, 'acc_grapheme': 0.993692, 'acc_vowel': 0.998105, 'acc_consonant': 0.997856, 'loss_grapheme': 0.033937, 'loss_vowel': 0.018124, 'loss_consonant': 0.013811}\n",
      "SWA>>>:\n"
     ]
    },
    {
     "name": "stderr",
     "output_type": "stream",
     "text": [
      "100%|██████████| 209/209 [01:14<00:00,  2.96it/s]\n"
     ]
    },
    {
     "name": "stdout",
     "output_type": "stream",
     "text": [
      "\n",
      "val: {'recall': 0.998053, 'recall_grapheme': 0.997181, 'recall_vowel': 0.998875, 'recall_consonant': 0.998975, 'acc_grapheme': 0.997157, 'acc_vowel': 0.998828, 'acc_consonant': 0.998828, 'loss_grapheme': 0.014108, 'loss_vowel': 0.006382, 'loss_consonant': 0.004499}\n",
      "   72 | 0.000002 | 160512/160735 | 1.8466 | 1.0923 |\n",
      "val: {'recall': 0.995724, 'recall_grapheme': 0.993458, 'recall_vowel': 0.997688, 'recall_consonant': 0.998292, 'acc_grapheme': 0.993093, 'acc_vowel': 0.997831, 'acc_consonant': 0.997781, 'loss_grapheme': 0.037637, 'loss_vowel': 0.018953, 'loss_consonant': 0.014413}\n",
      "   73 | 0.000001 | 160512/160735 | 2.5099 | 1.0863 |\n",
      "val: {'recall': 0.992718, 'recall_grapheme': 0.988677, 'recall_vowel': 0.996396, 'recall_consonant': 0.997123, 'acc_grapheme': 0.987882, 'acc_vowel': 0.996409, 'acc_consonant': 0.996335, 'loss_grapheme': 0.048808, 'loss_vowel': 0.016231, 'loss_consonant': 0.015017}\n",
      "   74 | 0.000001 | 160512/160735 | 2.4057 | 1.2086 |"
     ]
    },
    {
     "name": "stderr",
     "output_type": "stream",
     "text": [
      "\r",
      "  0%|          | 0/209 [00:00<?, ?it/s]"
     ]
    },
    {
     "name": "stdout",
     "output_type": "stream",
     "text": [
      "\n",
      "val: {'recall': 0.995706, 'recall_grapheme': 0.993285, 'recall_vowel': 0.997811, 'recall_consonant': 0.998441, 'acc_grapheme': 0.992894, 'acc_vowel': 0.997905, 'acc_consonant': 0.997856, 'loss_grapheme': 0.03405, 'loss_vowel': 0.013823, 'loss_consonant': 0.011206}\n",
      "SWA>>>:\n"
     ]
    },
    {
     "name": "stderr",
     "output_type": "stream",
     "text": [
      "100%|██████████| 209/209 [01:14<00:00,  2.86it/s]\n"
     ]
    },
    {
     "name": "stdout",
     "output_type": "stream",
     "text": [
      "\n",
      "val: {'recall': 0.998013, 'recall_grapheme': 0.997098, 'recall_vowel': 0.998875, 'recall_consonant': 0.998981, 'acc_grapheme': 0.997108, 'acc_vowel': 0.998828, 'acc_consonant': 0.998853, 'loss_grapheme': 0.014102, 'loss_vowel': 0.006368, 'loss_consonant': 0.004489}\n",
      "   75 | 0.000001 | 160512/160735 | 0.1860 | 1.1195 |\n",
      "val: {'recall': 0.996263, 'recall_grapheme': 0.994285, 'recall_vowel': 0.997923, 'recall_consonant': 0.998558, 'acc_grapheme': 0.993941, 'acc_vowel': 0.997955, 'acc_consonant': 0.998005, 'loss_grapheme': 0.036689, 'loss_vowel': 0.01907, 'loss_consonant': 0.014047}\n",
      "   76 | 0.000000 | 160512/160735 | 0.0017 | 1.1783 |\n",
      "val: {'recall': 0.995803, 'recall_grapheme': 0.993583, 'recall_vowel': 0.997681, 'recall_consonant': 0.998367, 'acc_grapheme': 0.992968, 'acc_vowel': 0.997831, 'acc_consonant': 0.997856, 'loss_grapheme': 0.034347, 'loss_vowel': 0.015527, 'loss_consonant': 0.012189}\n",
      "   77 | 0.000000 | 160512/160735 | 0.0009 | 1.1710 |"
     ]
    },
    {
     "name": "stderr",
     "output_type": "stream",
     "text": [
      "\r",
      "  0%|          | 0/209 [00:00<?, ?it/s]"
     ]
    },
    {
     "name": "stdout",
     "output_type": "stream",
     "text": [
      "\n",
      "val: {'recall': 0.995616, 'recall_grapheme': 0.99325, 'recall_vowel': 0.997575, 'recall_consonant': 0.99839, 'acc_grapheme': 0.993018, 'acc_vowel': 0.997806, 'acc_consonant': 0.997881, 'loss_grapheme': 0.033277, 'loss_vowel': 0.013997, 'loss_consonant': 0.011096}\n",
      "SWA>>>:\n"
     ]
    },
    {
     "name": "stderr",
     "output_type": "stream",
     "text": [
      "100%|██████████| 209/209 [01:14<00:00,  2.96it/s]\n"
     ]
    },
    {
     "name": "stdout",
     "output_type": "stream",
     "text": [
      "\n",
      "val: {'recall': 0.998013, 'recall_grapheme': 0.997098, 'recall_vowel': 0.998875, 'recall_consonant': 0.998981, 'acc_grapheme': 0.997108, 'acc_vowel': 0.998828, 'acc_consonant': 0.998853, 'loss_grapheme': 0.014157, 'loss_vowel': 0.006365, 'loss_consonant': 0.004507}\n",
      "   78 | 0.000000 | 160512/160735 | 1.8136 | 1.0338 |\n",
      "val: {'recall': 0.996081, 'recall_grapheme': 0.994465, 'recall_vowel': 0.997497, 'recall_consonant': 0.997898, 'acc_grapheme': 0.994465, 'acc_vowel': 0.997706, 'acc_consonant': 0.997881, 'loss_grapheme': 0.037608, 'loss_vowel': 0.017377, 'loss_consonant': 0.013204}\n",
      "   79 | 0.000000 | 160512/160735 | 0.5143 | 1.1029 |\n",
      "val: {'recall': 0.995961, 'recall_grapheme': 0.99367, 'recall_vowel': 0.997965, 'recall_consonant': 0.998539, 'acc_grapheme': 0.993268, 'acc_vowel': 0.998055, 'acc_consonant': 0.99803, 'loss_grapheme': 0.033381, 'loss_vowel': 0.014639, 'loss_consonant': 0.011529}\n",
      "CYCLE: 2\n",
      "    0 | 0.000020 | 160512/160735 | 2.0227 | 1.1409 |\n",
      "val: {'recall': 0.996163, 'recall_grapheme': 0.994361, 'recall_vowel': 0.997926, 'recall_consonant': 0.998005, 'acc_grapheme': 0.994315, 'acc_vowel': 0.99793, 'acc_consonant': 0.99798, 'loss_grapheme': 0.048627, 'loss_vowel': 0.025557, 'loss_consonant': 0.018312}\n",
      "    1 | 0.000040 | 160512/160735 | 0.0004 | 1.0239 |\n",
      "val: {'recall': 0.996926, 'recall_grapheme': 0.995571, 'recall_vowel': 0.998404, 'recall_consonant': 0.998159, 'acc_grapheme': 0.995786, 'acc_vowel': 0.99828, 'acc_consonant': 0.998404, 'loss_grapheme': 0.038429, 'loss_vowel': 0.021736, 'loss_consonant': 0.014776}\n",
      "    2 | 0.000060 | 160512/160735 | 0.3350 | 1.0577 |\n",
      "val: {'recall': 0.997138, 'recall_grapheme': 0.995637, 'recall_vowel': 0.998455, 'recall_consonant': 0.998825, 'acc_grapheme': 0.995312, 'acc_vowel': 0.998404, 'acc_consonant': 0.998429, 'loss_grapheme': 0.030656, 'loss_vowel': 0.016482, 'loss_consonant': 0.011107}\n",
      "    3 | 0.000079 | 160512/160735 | 0.0004 | 1.1373 |\n",
      "val: {'recall': 0.996273, 'recall_grapheme': 0.994467, 'recall_vowel': 0.998081, 'recall_consonant': 0.998076, 'acc_grapheme': 0.99424, 'acc_vowel': 0.998304, 'acc_consonant': 0.998005, 'loss_grapheme': 0.048773, 'loss_vowel': 0.028111, 'loss_consonant': 0.019436}\n",
      "    4 | 0.000099 | 160512/160735 | 1.8458 | 1.0810 |\n",
      "val: {'recall': 0.995829, 'recall_grapheme': 0.993712, 'recall_vowel': 0.997501, 'recall_consonant': 0.998392, 'acc_grapheme': 0.992794, 'acc_vowel': 0.997756, 'acc_consonant': 0.997531, 'loss_grapheme': 0.044444, 'loss_vowel': 0.024301, 'loss_consonant': 0.018756}\n",
      "    5 | 0.000099 | 160512/160735 | 0.2418 | 1.0890 |\n",
      "val: {'recall': 0.995905, 'recall_grapheme': 0.994007, 'recall_vowel': 0.997814, 'recall_consonant': 0.997792, 'acc_grapheme': 0.993542, 'acc_vowel': 0.997881, 'acc_consonant': 0.997756, 'loss_grapheme': 0.039786, 'loss_vowel': 0.020033, 'loss_consonant': 0.014317}\n",
      "    6 | 0.000098 | 160512/160735 | 1.7035 | 1.0733 |\n",
      "val: {'recall': 0.995183, 'recall_grapheme': 0.992845, 'recall_vowel': 0.997444, 'recall_consonant': 0.9976, 'acc_grapheme': 0.992495, 'acc_vowel': 0.997531, 'acc_consonant': 0.997257, 'loss_grapheme': 0.074027, 'loss_vowel': 0.044122, 'loss_consonant': 0.029866}\n",
      "    7 | 0.000098 | 160512/160735 | 0.0018 | 1.1756 |\n",
      "val: {'recall': 0.996317, 'recall_grapheme': 0.994849, 'recall_vowel': 0.997737, 'recall_consonant': 0.997831, 'acc_grapheme': 0.994066, 'acc_vowel': 0.997756, 'acc_consonant': 0.997905, 'loss_grapheme': 0.036339, 'loss_vowel': 0.018113, 'loss_consonant': 0.012603}\n",
      "    8 | 0.000097 | 160512/160735 | 2.2527 | 1.2025 |\n",
      "val: {'recall': 0.994944, 'recall_grapheme': 0.992454, 'recall_vowel': 0.997605, 'recall_consonant': 0.997263, 'acc_grapheme': 0.991248, 'acc_vowel': 0.997482, 'acc_consonant': 0.997083, 'loss_grapheme': 0.042669, 'loss_vowel': 0.018744, 'loss_consonant': 0.015251}\n",
      "    9 | 0.000096 | 160512/160735 | 0.0023 | 1.1697 |\n",
      "val: {'recall': 0.995897, 'recall_grapheme': 0.994069, 'recall_vowel': 0.997576, 'recall_consonant': 0.997871, 'acc_grapheme': 0.993766, 'acc_vowel': 0.997905, 'acc_consonant': 0.997756, 'loss_grapheme': 0.033924, 'loss_vowel': 0.016898, 'loss_consonant': 0.012846}\n",
      "   10 | 0.000095 | 160512/160735 | 1.1735 | 1.1328 |\n",
      "val: {'recall': 0.993852, 'recall_grapheme': 0.990744, 'recall_vowel': 0.996768, 'recall_consonant': 0.997152, 'acc_grapheme': 0.989951, 'acc_vowel': 0.996883, 'acc_consonant': 0.996958, 'loss_grapheme': 0.043034, 'loss_vowel': 0.017581, 'loss_consonant': 0.014397}\n",
      "   11 | 0.000095 | 160512/160735 | 1.2564 | 1.1038 |\n",
      "val: {'recall': 0.995232, 'recall_grapheme': 0.993188, 'recall_vowel': 0.997029, 'recall_consonant': 0.997523, 'acc_grapheme': 0.991996, 'acc_vowel': 0.997507, 'acc_consonant': 0.997282, 'loss_grapheme': 0.037821, 'loss_vowel': 0.014654, 'loss_consonant': 0.012295}\n",
      "   12 | 0.000094 | 160512/160735 | 0.6431 | 1.0954 |\n",
      "val: {'recall': 0.996295, 'recall_grapheme': 0.994684, 'recall_vowel': 0.997909, 'recall_consonant': 0.997903, 'acc_grapheme': 0.993991, 'acc_vowel': 0.99803, 'acc_consonant': 0.99813, 'loss_grapheme': 0.042819, 'loss_vowel': 0.026356, 'loss_consonant': 0.018271}\n",
      "   13 | 0.000093 | 160512/160735 | 0.5656 | 1.1158 |\n",
      "val: {'recall': 0.996415, 'recall_grapheme': 0.994666, 'recall_vowel': 0.997881, 'recall_consonant': 0.998449, 'acc_grapheme': 0.993791, 'acc_vowel': 0.99803, 'acc_consonant': 0.998005, 'loss_grapheme': 0.034324, 'loss_vowel': 0.015221, 'loss_consonant': 0.01177}\n",
      "   14 | 0.000092 | 160512/160735 | 1.8590 | 1.0975 |"
     ]
    },
    {
     "name": "stderr",
     "output_type": "stream",
     "text": [
      "\r",
      "  0%|          | 0/209 [00:00<?, ?it/s]"
     ]
    },
    {
     "name": "stdout",
     "output_type": "stream",
     "text": [
      "\n",
      "val: {'recall': 0.996794, 'recall_grapheme': 0.995279, 'recall_vowel': 0.997995, 'recall_consonant': 0.998623, 'acc_grapheme': 0.994739, 'acc_vowel': 0.99803, 'acc_consonant': 0.998155, 'loss_grapheme': 0.031514, 'loss_vowel': 0.017812, 'loss_consonant': 0.012133}\n",
      "SWA>>>:\n"
     ]
    },
    {
     "name": "stderr",
     "output_type": "stream",
     "text": [
      "100%|██████████| 209/209 [01:14<00:00,  2.87it/s]\n"
     ]
    },
    {
     "name": "stdout",
     "output_type": "stream",
     "text": [
      "\n",
      "val: {'recall': 0.998124, 'recall_grapheme': 0.997318, 'recall_vowel': 0.998859, 'recall_consonant': 0.999002, 'acc_grapheme': 0.997133, 'acc_vowel': 0.998803, 'acc_consonant': 0.998828, 'loss_grapheme': 0.014073, 'loss_vowel': 0.006376, 'loss_consonant': 0.004507}\n",
      "   15 | 0.000090 | 160512/160735 | 2.9542 | 1.3017 |\n",
      "val: {'recall': 0.994635, 'recall_grapheme': 0.992157, 'recall_vowel': 0.996947, 'recall_consonant': 0.997278, 'acc_grapheme': 0.991173, 'acc_vowel': 0.997108, 'acc_consonant': 0.997157, 'loss_grapheme': 0.04437, 'loss_vowel': 0.02022, 'loss_consonant': 0.016895}\n",
      "   16 | 0.000089 | 160512/160735 | 0.0005 | 1.0122 |\n",
      "val: {'recall': 0.995141, 'recall_grapheme': 0.992914, 'recall_vowel': 0.997086, 'recall_consonant': 0.997651, 'acc_grapheme': 0.99232, 'acc_vowel': 0.997407, 'acc_consonant': 0.997432, 'loss_grapheme': 0.03965, 'loss_vowel': 0.019388, 'loss_consonant': 0.015099}\n",
      "   17 | 0.000088 | 160512/160735 | 0.0038 | 1.2002 |"
     ]
    },
    {
     "name": "stderr",
     "output_type": "stream",
     "text": [
      "\r",
      "  0%|          | 0/209 [00:00<?, ?it/s]"
     ]
    },
    {
     "name": "stdout",
     "output_type": "stream",
     "text": [
      "\n",
      "val: {'recall': 0.994351, 'recall_grapheme': 0.991427, 'recall_vowel': 0.997026, 'recall_consonant': 0.997525, 'acc_grapheme': 0.990874, 'acc_vowel': 0.997207, 'acc_consonant': 0.997083, 'loss_grapheme': 0.040966, 'loss_vowel': 0.016214, 'loss_consonant': 0.01446}\n",
      "SWA>>>:\n"
     ]
    },
    {
     "name": "stderr",
     "output_type": "stream",
     "text": [
      "100%|██████████| 209/209 [01:15<00:00,  2.82it/s]\n"
     ]
    },
    {
     "name": "stdout",
     "output_type": "stream",
     "text": [
      "\n",
      "val: {'recall': 0.99799, 'recall_grapheme': 0.997061, 'recall_vowel': 0.99887, 'recall_consonant': 0.998969, 'acc_grapheme': 0.997058, 'acc_vowel': 0.998828, 'acc_consonant': 0.998803, 'loss_grapheme': 0.013988, 'loss_vowel': 0.006332, 'loss_consonant': 0.004478}\n",
      "   18 | 0.000087 | 160512/160735 | 1.4162 | 1.1403 |\n",
      "val: {'recall': 0.995282, 'recall_grapheme': 0.99283, 'recall_vowel': 0.997431, 'recall_consonant': 0.998036, 'acc_grapheme': 0.99247, 'acc_vowel': 0.997656, 'acc_consonant': 0.997531, 'loss_grapheme': 0.034078, 'loss_vowel': 0.014028, 'loss_consonant': 0.011499}\n",
      "   19 | 0.000085 | 160512/160735 | 1.2232 | 1.1422 |\n",
      "val: {'recall': 0.994722, 'recall_grapheme': 0.992958, 'recall_vowel': 0.996882, 'recall_consonant': 0.996087, 'acc_grapheme': 0.991223, 'acc_vowel': 0.997058, 'acc_consonant': 0.997083, 'loss_grapheme': 0.037514, 'loss_vowel': 0.014901, 'loss_consonant': 0.011982}\n",
      "   20 | 0.000084 | 160512/160735 | 0.0017 | 1.1458 |"
     ]
    },
    {
     "name": "stderr",
     "output_type": "stream",
     "text": [
      "\r",
      "  0%|          | 0/209 [00:00<?, ?it/s]"
     ]
    },
    {
     "name": "stdout",
     "output_type": "stream",
     "text": [
      "\n",
      "val: {'recall': 0.995504, 'recall_grapheme': 0.993382, 'recall_vowel': 0.997665, 'recall_consonant': 0.997585, 'acc_grapheme': 0.992844, 'acc_vowel': 0.997781, 'acc_consonant': 0.997631, 'loss_grapheme': 0.034955, 'loss_vowel': 0.015189, 'loss_consonant': 0.012335}\n",
      "SWA>>>:\n"
     ]
    },
    {
     "name": "stderr",
     "output_type": "stream",
     "text": [
      "100%|██████████| 209/209 [01:14<00:00,  2.90it/s]\n"
     ]
    },
    {
     "name": "stdout",
     "output_type": "stream",
     "text": [
      "\n",
      "val: {'recall': 0.998075, 'recall_grapheme': 0.997165, 'recall_vowel': 0.99897, 'recall_consonant': 0.999002, 'acc_grapheme': 0.997083, 'acc_vowel': 0.998853, 'acc_consonant': 0.998828, 'loss_grapheme': 0.013955, 'loss_vowel': 0.006323, 'loss_consonant': 0.004462}\n",
      "   21 | 0.000082 | 160512/160735 | 0.0048 | 1.1969 |\n",
      "val: {'recall': 0.995155, 'recall_grapheme': 0.992741, 'recall_vowel': 0.997173, 'recall_consonant': 0.997965, 'acc_grapheme': 0.991772, 'acc_vowel': 0.997332, 'acc_consonant': 0.997332, 'loss_grapheme': 0.035256, 'loss_vowel': 0.014287, 'loss_consonant': 0.012066}\n",
      "   22 | 0.000081 | 160512/160735 | 1.2190 | 1.0934 |\n",
      "val: {'recall': 0.995643, 'recall_grapheme': 0.993628, 'recall_vowel': 0.997506, 'recall_consonant': 0.997811, 'acc_grapheme': 0.992968, 'acc_vowel': 0.997706, 'acc_consonant': 0.997606, 'loss_grapheme': 0.033334, 'loss_vowel': 0.014392, 'loss_consonant': 0.011946}\n",
      "   23 | 0.000079 | 160512/160735 | 1.2979 | 1.0470 |"
     ]
    },
    {
     "name": "stderr",
     "output_type": "stream",
     "text": [
      "\r",
      "  0%|          | 0/209 [00:00<?, ?it/s]"
     ]
    },
    {
     "name": "stdout",
     "output_type": "stream",
     "text": [
      "\n",
      "val: {'recall': 0.996342, 'recall_grapheme': 0.994424, 'recall_vowel': 0.998174, 'recall_consonant': 0.998347, 'acc_grapheme': 0.993991, 'acc_vowel': 0.998055, 'acc_consonant': 0.997806, 'loss_grapheme': 0.029932, 'loss_vowel': 0.013485, 'loss_consonant': 0.010882}\n",
      "SWA>>>:\n"
     ]
    },
    {
     "name": "stderr",
     "output_type": "stream",
     "text": [
      "100%|██████████| 209/209 [01:14<00:00,  2.88it/s]\n"
     ]
    },
    {
     "name": "stdout",
     "output_type": "stream",
     "text": [
      "\n",
      "val: {'recall': 0.998018, 'recall_grapheme': 0.997085, 'recall_vowel': 0.99887, 'recall_consonant': 0.999033, 'acc_grapheme': 0.997058, 'acc_vowel': 0.998828, 'acc_consonant': 0.998853, 'loss_grapheme': 0.013933, 'loss_vowel': 0.006373, 'loss_consonant': 0.004527}\n",
      "   24 | 0.000078 | 160512/160735 | 0.0045 | 1.1626 |\n",
      "val: {'recall': 0.995976, 'recall_grapheme': 0.993997, 'recall_vowel': 0.997583, 'recall_consonant': 0.99833, 'acc_grapheme': 0.993068, 'acc_vowel': 0.997806, 'acc_consonant': 0.997856, 'loss_grapheme': 0.031398, 'loss_vowel': 0.012722, 'loss_consonant': 0.010425}\n",
      "   25 | 0.000076 | 160512/160735 | 0.0021 | 1.1766 |\n",
      "val: {'recall': 0.994548, 'recall_grapheme': 0.991909, 'recall_vowel': 0.996908, 'recall_consonant': 0.997465, 'acc_grapheme': 0.99065, 'acc_vowel': 0.997357, 'acc_consonant': 0.997033, 'loss_grapheme': 0.04321, 'loss_vowel': 0.019102, 'loss_consonant': 0.015731}\n",
      "   26 | 0.000074 | 160512/160735 | 1.7523 | 1.1707 |"
     ]
    },
    {
     "name": "stderr",
     "output_type": "stream",
     "text": [
      "\r",
      "  0%|          | 0/209 [00:00<?, ?it/s]"
     ]
    },
    {
     "name": "stdout",
     "output_type": "stream",
     "text": [
      "\n",
      "val: {'recall': 0.995022, 'recall_grapheme': 0.9925, 'recall_vowel': 0.996964, 'recall_consonant': 0.998123, 'acc_grapheme': 0.991497, 'acc_vowel': 0.997282, 'acc_consonant': 0.997507, 'loss_grapheme': 0.039574, 'loss_vowel': 0.016036, 'loss_consonant': 0.012756}\n",
      "SWA>>>:\n"
     ]
    },
    {
     "name": "stderr",
     "output_type": "stream",
     "text": [
      "100%|██████████| 209/209 [01:14<00:00,  2.75it/s]\n"
     ]
    },
    {
     "name": "stdout",
     "output_type": "stream",
     "text": [
      "\n",
      "val: {'recall': 0.998013, 'recall_grapheme': 0.997083, 'recall_vowel': 0.998886, 'recall_consonant': 0.999, 'acc_grapheme': 0.997058, 'acc_vowel': 0.998853, 'acc_consonant': 0.998828, 'loss_grapheme': 0.014012, 'loss_vowel': 0.006406, 'loss_consonant': 0.004537}\n",
      "   27 | 0.000073 | 160512/160735 | 0.4468 | 1.1762 |\n",
      "val: {'recall': 0.995151, 'recall_grapheme': 0.992943, 'recall_vowel': 0.99721, 'recall_consonant': 0.997508, 'acc_grapheme': 0.992121, 'acc_vowel': 0.997407, 'acc_consonant': 0.997432, 'loss_grapheme': 0.038214, 'loss_vowel': 0.016089, 'loss_consonant': 0.01284}\n",
      "   28 | 0.000071 | 160512/160735 | 1.9118 | 1.0350 |\n",
      "val: {'recall': 0.995163, 'recall_grapheme': 0.992523, 'recall_vowel': 0.997436, 'recall_consonant': 0.998168, 'acc_grapheme': 0.991996, 'acc_vowel': 0.997556, 'acc_consonant': 0.997581, 'loss_grapheme': 0.03769, 'loss_vowel': 0.016268, 'loss_consonant': 0.013004}\n",
      "   29 | 0.000069 | 160512/160735 | 1.5120 | 1.1612 |"
     ]
    },
    {
     "name": "stderr",
     "output_type": "stream",
     "text": [
      "\r",
      "  0%|          | 0/209 [00:00<?, ?it/s]"
     ]
    },
    {
     "name": "stdout",
     "output_type": "stream",
     "text": [
      "\n",
      "val: {'recall': 0.995576, 'recall_grapheme': 0.993612, 'recall_vowel': 0.997458, 'recall_consonant': 0.997624, 'acc_grapheme': 0.992644, 'acc_vowel': 0.997681, 'acc_consonant': 0.997681, 'loss_grapheme': 0.036228, 'loss_vowel': 0.015649, 'loss_consonant': 0.012345}\n",
      "SWA>>>:\n"
     ]
    },
    {
     "name": "stderr",
     "output_type": "stream",
     "text": [
      "100%|██████████| 209/209 [01:14<00:00,  2.96it/s]\n"
     ]
    },
    {
     "name": "stdout",
     "output_type": "stream",
     "text": [
      "\n",
      "val: {'recall': 0.998051, 'recall_grapheme': 0.997158, 'recall_vowel': 0.998886, 'recall_consonant': 0.999, 'acc_grapheme': 0.997108, 'acc_vowel': 0.998853, 'acc_consonant': 0.998828, 'loss_grapheme': 0.013952, 'loss_vowel': 0.00637, 'loss_consonant': 0.004564}\n",
      "   30 | 0.000067 | 160512/160735 | 1.9516 | 0.9764 |\n",
      "val: {'recall': 0.995158, 'recall_grapheme': 0.992771, 'recall_vowel': 0.997398, 'recall_consonant': 0.997692, 'acc_grapheme': 0.991871, 'acc_vowel': 0.997531, 'acc_consonant': 0.997531, 'loss_grapheme': 0.038357, 'loss_vowel': 0.016815, 'loss_consonant': 0.013282}\n",
      "   31 | 0.000065 | 160512/160735 | 0.0021 | 1.1614 |\n",
      "val: {'recall': 0.995513, 'recall_grapheme': 0.993365, 'recall_vowel': 0.99727, 'recall_consonant': 0.998052, 'acc_grapheme': 0.992245, 'acc_vowel': 0.997556, 'acc_consonant': 0.997432, 'loss_grapheme': 0.036131, 'loss_vowel': 0.014901, 'loss_consonant': 0.011964}\n",
      "   32 | 0.000064 | 160512/160735 | 1.6279 | 1.2566 |"
     ]
    },
    {
     "name": "stderr",
     "output_type": "stream",
     "text": [
      "\r",
      "  0%|          | 0/209 [00:00<?, ?it/s]"
     ]
    },
    {
     "name": "stdout",
     "output_type": "stream",
     "text": [
      "\n",
      "val: {'recall': 0.993913, 'recall_grapheme': 0.990673, 'recall_vowel': 0.996842, 'recall_consonant': 0.997466, 'acc_grapheme': 0.990051, 'acc_vowel': 0.997133, 'acc_consonant': 0.996808, 'loss_grapheme': 0.044037, 'loss_vowel': 0.016946, 'loss_consonant': 0.014346}\n",
      "SWA>>>:\n"
     ]
    },
    {
     "name": "stderr",
     "output_type": "stream",
     "text": [
      "100%|██████████| 209/209 [01:14<00:00,  2.92it/s]\n"
     ]
    },
    {
     "name": "stdout",
     "output_type": "stream",
     "text": [
      "\n",
      "val: {'recall': 0.998002, 'recall_grapheme': 0.997063, 'recall_vowel': 0.998846, 'recall_consonant': 0.999036, 'acc_grapheme': 0.997033, 'acc_vowel': 0.998853, 'acc_consonant': 0.998878, 'loss_grapheme': 0.013865, 'loss_vowel': 0.006351, 'loss_consonant': 0.004512}\n",
      "   33 | 0.000062 | 160512/160735 | 0.0007 | 1.0605 |\n",
      "val: {'recall': 0.995504, 'recall_grapheme': 0.993562, 'recall_vowel': 0.997324, 'recall_consonant': 0.997567, 'acc_grapheme': 0.993043, 'acc_vowel': 0.997606, 'acc_consonant': 0.997581, 'loss_grapheme': 0.038331, 'loss_vowel': 0.020417, 'loss_consonant': 0.015455}\n",
      "   34 | 0.000060 | 160512/160735 | 1.0770 | 1.1138 |\n",
      "val: {'recall': 0.996496, 'recall_grapheme': 0.994989, 'recall_vowel': 0.998008, 'recall_consonant': 0.997995, 'acc_grapheme': 0.994514, 'acc_vowel': 0.998205, 'acc_consonant': 0.99808, 'loss_grapheme': 0.034773, 'loss_vowel': 0.019034, 'loss_consonant': 0.014004}\n",
      "   35 | 0.000058 | 160512/160735 | 0.0012 | 1.1403 |"
     ]
    },
    {
     "name": "stderr",
     "output_type": "stream",
     "text": [
      "\r",
      "  0%|          | 0/209 [00:00<?, ?it/s]"
     ]
    },
    {
     "name": "stdout",
     "output_type": "stream",
     "text": [
      "\n",
      "val: {'recall': 0.996502, 'recall_grapheme': 0.994761, 'recall_vowel': 0.998117, 'recall_consonant': 0.998371, 'acc_grapheme': 0.993941, 'acc_vowel': 0.99808, 'acc_consonant': 0.997905, 'loss_grapheme': 0.032304, 'loss_vowel': 0.014882, 'loss_consonant': 0.011388}\n",
      "SWA>>>:\n"
     ]
    },
    {
     "name": "stderr",
     "output_type": "stream",
     "text": [
      "100%|██████████| 209/209 [01:14<00:00,  2.88it/s]\n"
     ]
    },
    {
     "name": "stdout",
     "output_type": "stream",
     "text": [
      "\n",
      "val: {'recall': 0.998043, 'recall_grapheme': 0.997069, 'recall_vowel': 0.998999, 'recall_consonant': 0.999036, 'acc_grapheme': 0.997033, 'acc_vowel': 0.998878, 'acc_consonant': 0.998878, 'loss_grapheme': 0.013816, 'loss_vowel': 0.006321, 'loss_consonant': 0.004512}\n",
      "   36 | 0.000056 | 160512/160735 | 1.5625 | 1.1078 |\n",
      "val: {'recall': 0.995373, 'recall_grapheme': 0.9932, 'recall_vowel': 0.997605, 'recall_consonant': 0.997486, 'acc_grapheme': 0.991871, 'acc_vowel': 0.997706, 'acc_consonant': 0.997457, 'loss_grapheme': 0.042624, 'loss_vowel': 0.017974, 'loss_consonant': 0.014592}\n",
      "   37 | 0.000054 | 160512/160735 | 2.0334 | 1.1984 |\n",
      "val: {'recall': 0.994032, 'recall_grapheme': 0.991341, 'recall_vowel': 0.996463, 'recall_consonant': 0.996982, 'acc_grapheme': 0.990151, 'acc_vowel': 0.996933, 'acc_consonant': 0.996634, 'loss_grapheme': 0.045143, 'loss_vowel': 0.020589, 'loss_consonant': 0.01699}\n",
      "   38 | 0.000052 | 160512/160735 | 1.7790 | 1.0303 |"
     ]
    },
    {
     "name": "stderr",
     "output_type": "stream",
     "text": [
      "\r",
      "  0%|          | 0/209 [00:00<?, ?it/s]"
     ]
    },
    {
     "name": "stdout",
     "output_type": "stream",
     "text": [
      "\n",
      "val: {'recall': 0.995809, 'recall_grapheme': 0.993955, 'recall_vowel': 0.997484, 'recall_consonant': 0.997842, 'acc_grapheme': 0.992844, 'acc_vowel': 0.997905, 'acc_consonant': 0.997706, 'loss_grapheme': 0.032148, 'loss_vowel': 0.013517, 'loss_consonant': 0.010576}\n",
      "SWA>>>:\n"
     ]
    },
    {
     "name": "stderr",
     "output_type": "stream",
     "text": [
      "100%|██████████| 209/209 [01:14<00:00,  2.97it/s]\n"
     ]
    },
    {
     "name": "stdout",
     "output_type": "stream",
     "text": [
      "\n",
      "val: {'recall': 0.998024, 'recall_grapheme': 0.997101, 'recall_vowel': 0.998858, 'recall_consonant': 0.999036, 'acc_grapheme': 0.997083, 'acc_vowel': 0.998853, 'acc_consonant': 0.998878, 'loss_grapheme': 0.01384, 'loss_vowel': 0.00635, 'loss_consonant': 0.004494}\n",
      "   39 | 0.000050 | 160512/160735 | 0.0006 | 1.1667 |\n",
      "val: {'recall': 0.994841, 'recall_grapheme': 0.992254, 'recall_vowel': 0.9973, 'recall_consonant': 0.997557, 'acc_grapheme': 0.991298, 'acc_vowel': 0.997531, 'acc_consonant': 0.997282, 'loss_grapheme': 0.039996, 'loss_vowel': 0.01755, 'loss_consonant': 0.014299}\n",
      "   40 | 0.000048 | 160512/160735 | 0.0008 | 1.1764 |\n",
      "val: {'recall': 0.995053, 'recall_grapheme': 0.992677, 'recall_vowel': 0.997344, 'recall_consonant': 0.997511, 'acc_grapheme': 0.991996, 'acc_vowel': 0.997531, 'acc_consonant': 0.997457, 'loss_grapheme': 0.036622, 'loss_vowel': 0.014909, 'loss_consonant': 0.01191}\n",
      "   41 | 0.000046 | 160512/160735 | 0.0007 | 0.9816 |"
     ]
    },
    {
     "name": "stderr",
     "output_type": "stream",
     "text": [
      "\r",
      "  0%|          | 0/209 [00:00<?, ?it/s]"
     ]
    },
    {
     "name": "stdout",
     "output_type": "stream",
     "text": [
      "\n",
      "val: {'recall': 0.99485, 'recall_grapheme': 0.992672, 'recall_vowel': 0.996975, 'recall_consonant': 0.997082, 'acc_grapheme': 0.991323, 'acc_vowel': 0.997232, 'acc_consonant': 0.997033, 'loss_grapheme': 0.037809, 'loss_vowel': 0.014337, 'loss_consonant': 0.011793}\n",
      "SWA>>>:\n"
     ]
    },
    {
     "name": "stderr",
     "output_type": "stream",
     "text": [
      "100%|██████████| 209/209 [01:14<00:00,  2.86it/s]\n"
     ]
    },
    {
     "name": "stdout",
     "output_type": "stream",
     "text": [
      "\n",
      "val: {'recall': 0.998046, 'recall_grapheme': 0.997144, 'recall_vowel': 0.998858, 'recall_consonant': 0.999036, 'acc_grapheme': 0.997108, 'acc_vowel': 0.998853, 'acc_consonant': 0.998878, 'loss_grapheme': 0.013838, 'loss_vowel': 0.006354, 'loss_consonant': 0.004483}\n",
      "   42 | 0.000044 | 160512/160735 | 0.0010 | 1.1214 |\n",
      "val: {'recall': 0.995393, 'recall_grapheme': 0.993513, 'recall_vowel': 0.99707, 'recall_consonant': 0.997475, 'acc_grapheme': 0.992594, 'acc_vowel': 0.997457, 'acc_consonant': 0.997307, 'loss_grapheme': 0.034166, 'loss_vowel': 0.016094, 'loss_consonant': 0.012779}\n",
      "   43 | 0.000042 | 160512/160735 | 0.0067 | 1.1800 |\n",
      "val: {'recall': 0.995334, 'recall_grapheme': 0.993199, 'recall_vowel': 0.997055, 'recall_consonant': 0.997882, 'acc_grapheme': 0.99232, 'acc_vowel': 0.997332, 'acc_consonant': 0.997357, 'loss_grapheme': 0.034606, 'loss_vowel': 0.014574, 'loss_consonant': 0.012145}\n",
      "   44 | 0.000040 | 160512/160735 | 0.0028 | 1.0589 |"
     ]
    },
    {
     "name": "stderr",
     "output_type": "stream",
     "text": [
      "\r",
      "  0%|          | 0/209 [00:00<?, ?it/s]"
     ]
    },
    {
     "name": "stdout",
     "output_type": "stream",
     "text": [
      "\n",
      "val: {'recall': 0.996097, 'recall_grapheme': 0.994161, 'recall_vowel': 0.997626, 'recall_consonant': 0.998438, 'acc_grapheme': 0.993592, 'acc_vowel': 0.997881, 'acc_consonant': 0.998105, 'loss_grapheme': 0.030025, 'loss_vowel': 0.012877, 'loss_consonant': 0.00955}\n",
      "SWA>>>:\n"
     ]
    },
    {
     "name": "stderr",
     "output_type": "stream",
     "text": [
      "100%|██████████| 209/209 [01:14<00:00,  2.89it/s]\n"
     ]
    },
    {
     "name": "stdout",
     "output_type": "stream",
     "text": [
      "\n",
      "val: {'recall': 0.998065, 'recall_grapheme': 0.99718, 'recall_vowel': 0.998869, 'recall_consonant': 0.99903, 'acc_grapheme': 0.997133, 'acc_vowel': 0.998878, 'acc_consonant': 0.998853, 'loss_grapheme': 0.013797, 'loss_vowel': 0.006319, 'loss_consonant': 0.004485}\n",
      "   45 | 0.000038 | 160512/160735 | 0.5809 | 1.1961 |\n",
      "val: {'recall': 0.995526, 'recall_grapheme': 0.993419, 'recall_vowel': 0.997382, 'recall_consonant': 0.997881, 'acc_grapheme': 0.992769, 'acc_vowel': 0.997631, 'acc_consonant': 0.997781, 'loss_grapheme': 0.031697, 'loss_vowel': 0.011845, 'loss_consonant': 0.009786}\n",
      "   46 | 0.000036 | 160512/160735 | 0.1823 | 1.2104 |\n",
      "val: {'recall': 0.995866, 'recall_grapheme': 0.993943, 'recall_vowel': 0.997405, 'recall_consonant': 0.998171, 'acc_grapheme': 0.993018, 'acc_vowel': 0.997781, 'acc_consonant': 0.997432, 'loss_grapheme': 0.041303, 'loss_vowel': 0.024216, 'loss_consonant': 0.017872}\n",
      "   47 | 0.000035 | 160512/160735 | 0.0006 | 1.1175 |"
     ]
    },
    {
     "name": "stderr",
     "output_type": "stream",
     "text": [
      "\r",
      "  0%|          | 0/209 [00:00<?, ?it/s]"
     ]
    },
    {
     "name": "stdout",
     "output_type": "stream",
     "text": [
      "\n",
      "val: {'recall': 0.994084, 'recall_grapheme': 0.991977, 'recall_vowel': 0.99703, 'recall_consonant': 0.995354, 'acc_grapheme': 0.991123, 'acc_vowel': 0.997232, 'acc_consonant': 0.996709, 'loss_grapheme': 0.03965, 'loss_vowel': 0.01542, 'loss_consonant': 0.014003}\n",
      "SWA>>>:\n"
     ]
    },
    {
     "name": "stderr",
     "output_type": "stream",
     "text": [
      "100%|██████████| 209/209 [01:14<00:00,  2.93it/s]\n"
     ]
    },
    {
     "name": "stdout",
     "output_type": "stream",
     "text": [
      "\n",
      "val: {'recall': 0.998026, 'recall_grapheme': 0.997105, 'recall_vowel': 0.998858, 'recall_consonant': 0.999036, 'acc_grapheme': 0.997108, 'acc_vowel': 0.998853, 'acc_consonant': 0.998878, 'loss_grapheme': 0.013852, 'loss_vowel': 0.006327, 'loss_consonant': 0.004486}\n",
      "   48 | 0.000033 | 160512/160735 | 0.0116 | 1.0071 |\n",
      "val: {'recall': 0.996157, 'recall_grapheme': 0.994453, 'recall_vowel': 0.997591, 'recall_consonant': 0.998132, 'acc_grapheme': 0.993891, 'acc_vowel': 0.997856, 'acc_consonant': 0.997756, 'loss_grapheme': 0.029007, 'loss_vowel': 0.013369, 'loss_consonant': 0.010172}\n",
      "   49 | 0.000031 | 160512/160735 | 1.2133 | 1.0999 |\n",
      "val: {'recall': 0.995586, 'recall_grapheme': 0.9934, 'recall_vowel': 0.997305, 'recall_consonant': 0.998241, 'acc_grapheme': 0.99242, 'acc_vowel': 0.997531, 'acc_consonant': 0.997656, 'loss_grapheme': 0.039671, 'loss_vowel': 0.019816, 'loss_consonant': 0.015232}\n",
      "   50 | 0.000029 | 160512/160735 | 1.6935 | 1.0624 |"
     ]
    },
    {
     "name": "stderr",
     "output_type": "stream",
     "text": [
      "\r",
      "  0%|          | 0/209 [00:00<?, ?it/s]"
     ]
    },
    {
     "name": "stdout",
     "output_type": "stream",
     "text": [
      "\n",
      "val: {'recall': 0.994877, 'recall_grapheme': 0.992176, 'recall_vowel': 0.997161, 'recall_consonant': 0.997996, 'acc_grapheme': 0.991722, 'acc_vowel': 0.997382, 'acc_consonant': 0.997207, 'loss_grapheme': 0.037076, 'loss_vowel': 0.014756, 'loss_consonant': 0.012375}\n",
      "SWA>>>:\n"
     ]
    },
    {
     "name": "stderr",
     "output_type": "stream",
     "text": [
      "100%|██████████| 209/209 [01:14<00:00,  2.96it/s]\n"
     ]
    },
    {
     "name": "stdout",
     "output_type": "stream",
     "text": [
      "\n",
      "val: {'recall': 0.998067, 'recall_grapheme': 0.997175, 'recall_vowel': 0.998882, 'recall_consonant': 0.999036, 'acc_grapheme': 0.997182, 'acc_vowel': 0.998903, 'acc_consonant': 0.998878, 'loss_grapheme': 0.013839, 'loss_vowel': 0.00636, 'loss_consonant': 0.00445}\n",
      "   51 | 0.000027 | 160512/160735 | 0.0029 | 1.0778 |\n",
      "val: {'recall': 0.995687, 'recall_grapheme': 0.993517, 'recall_vowel': 0.997267, 'recall_consonant': 0.998449, 'acc_grapheme': 0.992869, 'acc_vowel': 0.997606, 'acc_consonant': 0.997631, 'loss_grapheme': 0.035028, 'loss_vowel': 0.016105, 'loss_consonant': 0.012992}\n",
      "   52 | 0.000026 | 160512/160735 | 0.0010 | 1.1816 |\n",
      "val: {'recall': 0.995703, 'recall_grapheme': 0.99346, 'recall_vowel': 0.997523, 'recall_consonant': 0.998368, 'acc_grapheme': 0.992769, 'acc_vowel': 0.997507, 'acc_consonant': 0.997756, 'loss_grapheme': 0.030776, 'loss_vowel': 0.012213, 'loss_consonant': 0.009549}\n",
      "   53 | 0.000024 | 160512/160735 | 2.0505 | 1.0762 |"
     ]
    },
    {
     "name": "stderr",
     "output_type": "stream",
     "text": [
      "\r",
      "  0%|          | 0/209 [00:00<?, ?it/s]"
     ]
    },
    {
     "name": "stdout",
     "output_type": "stream",
     "text": [
      "\n",
      "val: {'recall': 0.994141, 'recall_grapheme': 0.990903, 'recall_vowel': 0.997052, 'recall_consonant': 0.997706, 'acc_grapheme': 0.989852, 'acc_vowel': 0.997182, 'acc_consonant': 0.996883, 'loss_grapheme': 0.043525, 'loss_vowel': 0.016241, 'loss_consonant': 0.013557}\n",
      "SWA>>>:\n"
     ]
    },
    {
     "name": "stderr",
     "output_type": "stream",
     "text": [
      "100%|██████████| 209/209 [01:14<00:00,  2.91it/s]\n"
     ]
    },
    {
     "name": "stdout",
     "output_type": "stream",
     "text": [
      "\n",
      "val: {'recall': 0.998145, 'recall_grapheme': 0.997352, 'recall_vowel': 0.998869, 'recall_consonant': 0.999005, 'acc_grapheme': 0.997207, 'acc_vowel': 0.998878, 'acc_consonant': 0.998853, 'loss_grapheme': 0.013758, 'loss_vowel': 0.006334, 'loss_consonant': 0.004478}\n",
      "###>>>>> saved ./models/se_resnext50_32x4d/model3_se_resnext50_fold4_224_cyclic.pth_swa\n",
      "   54 | 0.000022 | 160512/160735 | 2.1687 | 1.1014 |\n",
      "val: {'recall': 0.995004, 'recall_grapheme': 0.992264, 'recall_vowel': 0.997438, 'recall_consonant': 0.998049, 'acc_grapheme': 0.991472, 'acc_vowel': 0.997507, 'acc_consonant': 0.997332, 'loss_grapheme': 0.037678, 'loss_vowel': 0.015387, 'loss_consonant': 0.012588}\n",
      "   55 | 0.000021 | 160512/160735 | 0.0028 | 1.0706 |\n",
      "val: {'recall': 0.995975, 'recall_grapheme': 0.993985, 'recall_vowel': 0.997699, 'recall_consonant': 0.998229, 'acc_grapheme': 0.993367, 'acc_vowel': 0.997781, 'acc_consonant': 0.997756, 'loss_grapheme': 0.030951, 'loss_vowel': 0.01365, 'loss_consonant': 0.01044}\n",
      "   56 | 0.000019 | 160512/160735 | 0.0008 | 1.1053 |"
     ]
    },
    {
     "name": "stderr",
     "output_type": "stream",
     "text": [
      "\r",
      "  0%|          | 0/209 [00:00<?, ?it/s]"
     ]
    },
    {
     "name": "stdout",
     "output_type": "stream",
     "text": [
      "\n",
      "val: {'recall': 0.997177, 'recall_grapheme': 0.995853, 'recall_vowel': 0.998263, 'recall_consonant': 0.998738, 'acc_grapheme': 0.995487, 'acc_vowel': 0.99823, 'acc_consonant': 0.998304, 'loss_grapheme': 0.028467, 'loss_vowel': 0.016519, 'loss_consonant': 0.011859}\n",
      "SWA>>>:\n"
     ]
    },
    {
     "name": "stderr",
     "output_type": "stream",
     "text": [
      "100%|██████████| 209/209 [01:14<00:00,  2.88it/s]\n"
     ]
    },
    {
     "name": "stdout",
     "output_type": "stream",
     "text": [
      "\n",
      "val: {'recall': 0.998201, 'recall_grapheme': 0.997453, 'recall_vowel': 0.998829, 'recall_consonant': 0.999069, 'acc_grapheme': 0.997257, 'acc_vowel': 0.998828, 'acc_consonant': 0.998903, 'loss_grapheme': 0.013809, 'loss_vowel': 0.00635, 'loss_consonant': 0.004469}\n",
      "###>>>>> saved ./models/se_resnext50_32x4d/model3_se_resnext50_fold4_224_cyclic.pth_swa\n",
      "   57 | 0.000018 | 160512/160735 | 0.4174 | 1.2183 |\n",
      "val: {'recall': 0.99597, 'recall_grapheme': 0.993839, 'recall_vowel': 0.997871, 'recall_consonant': 0.998329, 'acc_grapheme': 0.993068, 'acc_vowel': 0.997856, 'acc_consonant': 0.997831, 'loss_grapheme': 0.039545, 'loss_vowel': 0.017346, 'loss_consonant': 0.014004}\n",
      "   58 | 0.000016 | 160512/160735 | 0.9629 | 1.0013 |\n",
      "val: {'recall': 0.995684, 'recall_grapheme': 0.993529, 'recall_vowel': 0.997578, 'recall_consonant': 0.9981, 'acc_grapheme': 0.992993, 'acc_vowel': 0.997681, 'acc_consonant': 0.997606, 'loss_grapheme': 0.033291, 'loss_vowel': 0.014069, 'loss_consonant': 0.010918}\n",
      "   59 | 0.000015 | 145152/160735 | 1.4049 | 1.0594 |"
     ]
    },
    {
     "name": "stderr",
     "output_type": "stream",
     "text": [
      "100%|██████████| 209/209 [01:14<00:00,  2.88it/s]\n"
     ]
    },
    {
     "name": "stdout",
     "output_type": "stream",
     "text": [
      "\n",
      "val: {'recall': 0.998204, 'recall_grapheme': 0.997479, 'recall_vowel': 0.998854, 'recall_consonant': 0.999005, 'acc_grapheme': 0.997307, 'acc_vowel': 0.998878, 'acc_consonant': 0.998853, 'loss_grapheme': 0.01379, 'loss_vowel': 0.006368, 'loss_consonant': 0.004483}\n",
      "###>>>>> saved ./models/se_resnext50_32x4d/model3_se_resnext50_fold4_224_cyclic.pth_swa\n",
      "   60 | 0.000013 | 160512/160735 | 2.4142 | 1.1105 |\n",
      "val: {'recall': 0.996269, 'recall_grapheme': 0.994207, 'recall_vowel': 0.998113, 'recall_consonant': 0.998547, 'acc_grapheme': 0.993891, 'acc_vowel': 0.998055, 'acc_consonant': 0.998055, 'loss_grapheme': 0.036256, 'loss_vowel': 0.018635, 'loss_consonant': 0.013446}\n",
      "   61 | 0.000012 | 160512/160735 | 0.0003 | 1.1644 |\n",
      "val: {'recall': 0.996482, 'recall_grapheme': 0.994759, 'recall_vowel': 0.997747, 'recall_consonant': 0.998665, 'acc_grapheme': 0.994016, 'acc_vowel': 0.99793, 'acc_consonant': 0.998205, 'loss_grapheme': 0.02791, 'loss_vowel': 0.011648, 'loss_consonant': 0.008918}\n",
      "   62 | 0.000011 | 160512/160735 | 0.7653 | 1.1273 |"
     ]
    },
    {
     "name": "stderr",
     "output_type": "stream",
     "text": [
      "\r",
      "  0%|          | 0/209 [00:00<?, ?it/s]"
     ]
    },
    {
     "name": "stdout",
     "output_type": "stream",
     "text": [
      "\n",
      "val: {'recall': 0.99608, 'recall_grapheme': 0.99417, 'recall_vowel': 0.997604, 'recall_consonant': 0.998378, 'acc_grapheme': 0.993367, 'acc_vowel': 0.997656, 'acc_consonant': 0.997905, 'loss_grapheme': 0.030298, 'loss_vowel': 0.012586, 'loss_consonant': 0.009886}\n",
      "SWA>>>:\n"
     ]
    },
    {
     "name": "stderr",
     "output_type": "stream",
     "text": [
      "100%|██████████| 209/209 [01:14<00:00,  2.92it/s]\n"
     ]
    },
    {
     "name": "stdout",
     "output_type": "stream",
     "text": [
      "\n",
      "val: {'recall': 0.998069, 'recall_grapheme': 0.997214, 'recall_vowel': 0.998843, 'recall_consonant': 0.999005, 'acc_grapheme': 0.997232, 'acc_vowel': 0.998853, 'acc_consonant': 0.998853, 'loss_grapheme': 0.013734, 'loss_vowel': 0.006334, 'loss_consonant': 0.004492}\n",
      "   63 | 0.000010 | 160512/160735 | 0.0036 | 0.8924 |\n",
      "val: {'recall': 0.996416, 'recall_grapheme': 0.994735, 'recall_vowel': 0.99771, 'recall_consonant': 0.998484, 'acc_grapheme': 0.99424, 'acc_vowel': 0.99798, 'acc_consonant': 0.998005, 'loss_grapheme': 0.030127, 'loss_vowel': 0.014922, 'loss_consonant': 0.011448}\n",
      "   64 | 0.000008 | 160512/160735 | 2.1921 | 1.1278 |\n",
      "val: {'recall': 0.995461, 'recall_grapheme': 0.993111, 'recall_vowel': 0.997412, 'recall_consonant': 0.998209, 'acc_grapheme': 0.992195, 'acc_vowel': 0.997556, 'acc_consonant': 0.997531, 'loss_grapheme': 0.035692, 'loss_vowel': 0.015815, 'loss_consonant': 0.012612}\n",
      "   65 | 0.000007 | 160512/160735 | 1.9245 | 1.0956 |"
     ]
    },
    {
     "name": "stderr",
     "output_type": "stream",
     "text": [
      "\r",
      "  0%|          | 0/209 [00:00<?, ?it/s]"
     ]
    },
    {
     "name": "stdout",
     "output_type": "stream",
     "text": [
      "\n",
      "val: {'recall': 0.995778, 'recall_grapheme': 0.993589, 'recall_vowel': 0.997608, 'recall_consonant': 0.998326, 'acc_grapheme': 0.992719, 'acc_vowel': 0.997706, 'acc_consonant': 0.997681, 'loss_grapheme': 0.035533, 'loss_vowel': 0.014773, 'loss_consonant': 0.011692}\n",
      "SWA>>>:\n"
     ]
    },
    {
     "name": "stderr",
     "output_type": "stream",
     "text": [
      "100%|██████████| 209/209 [01:14<00:00,  2.90it/s]\n"
     ]
    },
    {
     "name": "stdout",
     "output_type": "stream",
     "text": [
      "\n",
      "val: {'recall': 0.998194, 'recall_grapheme': 0.997455, 'recall_vowel': 0.998825, 'recall_consonant': 0.999039, 'acc_grapheme': 0.997257, 'acc_vowel': 0.998853, 'acc_consonant': 0.998878, 'loss_grapheme': 0.013707, 'loss_vowel': 0.006362, 'loss_consonant': 0.004451}\n",
      "   66 | 0.000006 | 160512/160735 | 1.4458 | 1.1228 |\n",
      "val: {'recall': 0.995528, 'recall_grapheme': 0.993234, 'recall_vowel': 0.997472, 'recall_consonant': 0.998173, 'acc_grapheme': 0.99237, 'acc_vowel': 0.997507, 'acc_consonant': 0.997581, 'loss_grapheme': 0.036199, 'loss_vowel': 0.016185, 'loss_consonant': 0.012612}\n",
      "   67 | 0.000005 | 160512/160735 | 0.0019 | 1.1565 |\n",
      "val: {'recall': 0.994659, 'recall_grapheme': 0.991742, 'recall_vowel': 0.997204, 'recall_consonant': 0.997949, 'acc_grapheme': 0.991173, 'acc_vowel': 0.997307, 'acc_consonant': 0.997232, 'loss_grapheme': 0.038582, 'loss_vowel': 0.015555, 'loss_consonant': 0.012559}\n",
      "   68 | 0.000005 | 160512/160735 | 1.1828 | 1.1384 |"
     ]
    },
    {
     "name": "stderr",
     "output_type": "stream",
     "text": [
      "\r",
      "  0%|          | 0/209 [00:00<?, ?it/s]"
     ]
    },
    {
     "name": "stdout",
     "output_type": "stream",
     "text": [
      "\n",
      "val: {'recall': 0.994257, 'recall_grapheme': 0.991394, 'recall_vowel': 0.997052, 'recall_consonant': 0.997189, 'acc_grapheme': 0.990799, 'acc_vowel': 0.997207, 'acc_consonant': 0.996883, 'loss_grapheme': 0.039216, 'loss_vowel': 0.014763, 'loss_consonant': 0.012241}\n",
      "SWA>>>:\n"
     ]
    },
    {
     "name": "stderr",
     "output_type": "stream",
     "text": [
      "100%|██████████| 209/209 [01:14<00:00,  2.92it/s]\n"
     ]
    },
    {
     "name": "stdout",
     "output_type": "stream",
     "text": [
      "\n",
      "val: {'recall': 0.998211, 'recall_grapheme': 0.997458, 'recall_vowel': 0.998854, 'recall_consonant': 0.999072, 'acc_grapheme': 0.997257, 'acc_vowel': 0.998878, 'acc_consonant': 0.998903, 'loss_grapheme': 0.013717, 'loss_vowel': 0.006342, 'loss_consonant': 0.004451}\n",
      "###>>>>> saved ./models/se_resnext50_32x4d/model3_se_resnext50_fold4_224_cyclic.pth_swa\n",
      "   69 | 0.000004 | 160512/160735 | 0.0008 | 1.2214 |\n",
      "val: {'recall': 0.995796, 'recall_grapheme': 0.99364, 'recall_vowel': 0.997578, 'recall_consonant': 0.998325, 'acc_grapheme': 0.992919, 'acc_vowel': 0.997631, 'acc_consonant': 0.997806, 'loss_grapheme': 0.033036, 'loss_vowel': 0.014105, 'loss_consonant': 0.010928}\n",
      "   70 | 0.000003 | 160512/160735 | 1.8160 | 1.1630 |\n",
      "val: {'recall': 0.994537, 'recall_grapheme': 0.991876, 'recall_vowel': 0.996937, 'recall_consonant': 0.997457, 'acc_grapheme': 0.990924, 'acc_vowel': 0.997307, 'acc_consonant': 0.997108, 'loss_grapheme': 0.039403, 'loss_vowel': 0.017554, 'loss_consonant': 0.014429}\n",
      "   71 | 0.000002 | 160512/160735 | 0.0083 | 1.2067 |"
     ]
    },
    {
     "name": "stderr",
     "output_type": "stream",
     "text": [
      "\r",
      "  0%|          | 0/209 [00:00<?, ?it/s]"
     ]
    },
    {
     "name": "stdout",
     "output_type": "stream",
     "text": [
      "\n",
      "val: {'recall': 0.995415, 'recall_grapheme': 0.993064, 'recall_vowel': 0.997348, 'recall_consonant': 0.998182, 'acc_grapheme': 0.992171, 'acc_vowel': 0.997556, 'acc_consonant': 0.997531, 'loss_grapheme': 0.033966, 'loss_vowel': 0.01406, 'loss_consonant': 0.011557}\n",
      "SWA>>>:\n"
     ]
    },
    {
     "name": "stderr",
     "output_type": "stream",
     "text": [
      "100%|██████████| 209/209 [01:14<00:00,  2.93it/s]\n"
     ]
    },
    {
     "name": "stdout",
     "output_type": "stream",
     "text": [
      "\n",
      "val: {'recall': 0.998223, 'recall_grapheme': 0.997497, 'recall_vowel': 0.998825, 'recall_consonant': 0.999072, 'acc_grapheme': 0.997307, 'acc_vowel': 0.998853, 'acc_consonant': 0.998903, 'loss_grapheme': 0.01374, 'loss_vowel': 0.006342, 'loss_consonant': 0.00447}\n",
      "###>>>>> saved ./models/se_resnext50_32x4d/model3_se_resnext50_fold4_224_cyclic.pth_swa\n",
      "   72 | 0.000002 | 160512/160735 | 0.0010 | 0.9747 |\n",
      "val: {'recall': 0.996373, 'recall_grapheme': 0.994728, 'recall_vowel': 0.997567, 'recall_consonant': 0.998467, 'acc_grapheme': 0.994315, 'acc_vowel': 0.997831, 'acc_consonant': 0.99798, 'loss_grapheme': 0.029528, 'loss_vowel': 0.014809, 'loss_consonant': 0.010996}\n",
      "   73 | 0.000001 | 160512/160735 | 3.3762 | 1.0596 |\n",
      "val: {'recall': 0.995645, 'recall_grapheme': 0.993651, 'recall_vowel': 0.997495, 'recall_consonant': 0.997783, 'acc_grapheme': 0.992694, 'acc_vowel': 0.997706, 'acc_consonant': 0.997581, 'loss_grapheme': 0.037226, 'loss_vowel': 0.017469, 'loss_consonant': 0.013823}\n",
      "   74 | 0.000001 | 160512/160735 | 0.0026 | 1.0800 |"
     ]
    },
    {
     "name": "stderr",
     "output_type": "stream",
     "text": [
      "\r",
      "  0%|          | 0/209 [00:00<?, ?it/s]"
     ]
    },
    {
     "name": "stdout",
     "output_type": "stream",
     "text": [
      "\n",
      "val: {'recall': 0.99682, 'recall_grapheme': 0.995235, 'recall_vowel': 0.998112, 'recall_consonant': 0.998699, 'acc_grapheme': 0.994839, 'acc_vowel': 0.99813, 'acc_consonant': 0.998354, 'loss_grapheme': 0.026003, 'loss_vowel': 0.011805, 'loss_consonant': 0.008698}\n",
      "SWA>>>:\n"
     ]
    },
    {
     "name": "stderr",
     "output_type": "stream",
     "text": [
      "100%|██████████| 209/209 [01:14<00:00,  2.88it/s]\n"
     ]
    },
    {
     "name": "stdout",
     "output_type": "stream",
     "text": [
      "\n",
      "val: {'recall': 0.998219, 'recall_grapheme': 0.99749, 'recall_vowel': 0.998825, 'recall_consonant': 0.999072, 'acc_grapheme': 0.997282, 'acc_vowel': 0.998853, 'acc_consonant': 0.998903, 'loss_grapheme': 0.013808, 'loss_vowel': 0.006382, 'loss_consonant': 0.004477}\n",
      "   75 | 0.000001 | 160512/160735 | 0.2298 | 0.9741 |\n",
      "val: {'recall': 0.996573, 'recall_grapheme': 0.994875, 'recall_vowel': 0.99794, 'recall_consonant': 0.998601, 'acc_grapheme': 0.994465, 'acc_vowel': 0.99798, 'acc_consonant': 0.99818, 'loss_grapheme': 0.026563, 'loss_vowel': 0.012175, 'loss_consonant': 0.008962}\n",
      "   76 | 0.000000 | 160512/160735 | 1.6107 | 1.1034 |\n",
      "val: {'recall': 0.99574, 'recall_grapheme': 0.993798, 'recall_vowel': 0.997621, 'recall_consonant': 0.997742, 'acc_grapheme': 0.993692, 'acc_vowel': 0.997781, 'acc_consonant': 0.997756, 'loss_grapheme': 0.031333, 'loss_vowel': 0.013864, 'loss_consonant': 0.010714}\n",
      "   77 | 0.000000 | 160512/160735 | 1.2940 | 1.1200 |"
     ]
    },
    {
     "name": "stderr",
     "output_type": "stream",
     "text": [
      "\r",
      "  0%|          | 0/209 [00:00<?, ?it/s]"
     ]
    },
    {
     "name": "stdout",
     "output_type": "stream",
     "text": [
      "\n",
      "val: {'recall': 0.99584, 'recall_grapheme': 0.993761, 'recall_vowel': 0.997616, 'recall_consonant': 0.998222, 'acc_grapheme': 0.993143, 'acc_vowel': 0.997631, 'acc_consonant': 0.997831, 'loss_grapheme': 0.030121, 'loss_vowel': 0.01224, 'loss_consonant': 0.00937}\n",
      "SWA>>>:\n"
     ]
    },
    {
     "name": "stderr",
     "output_type": "stream",
     "text": [
      "100%|██████████| 209/209 [01:14<00:00,  2.93it/s]\n"
     ]
    },
    {
     "name": "stdout",
     "output_type": "stream",
     "text": [
      "\n",
      "val: {'recall': 0.998216, 'recall_grapheme': 0.99749, 'recall_vowel': 0.998813, 'recall_consonant': 0.999072, 'acc_grapheme': 0.997332, 'acc_vowel': 0.998828, 'acc_consonant': 0.998903, 'loss_grapheme': 0.013727, 'loss_vowel': 0.006344, 'loss_consonant': 0.004455}\n",
      "   78 | 0.000000 | 160512/160735 | 2.5203 | 1.1118 |\n",
      "val: {'recall': 0.995836, 'recall_grapheme': 0.993645, 'recall_vowel': 0.997725, 'recall_consonant': 0.998329, 'acc_grapheme': 0.992894, 'acc_vowel': 0.997681, 'acc_consonant': 0.997831, 'loss_grapheme': 0.034379, 'loss_vowel': 0.01416, 'loss_consonant': 0.011075}\n",
      "   79 | 0.000000 | 160512/160735 | 1.9155 | 1.1510 |\n",
      "val: {'recall': 0.995592, 'recall_grapheme': 0.993423, 'recall_vowel': 0.997363, 'recall_consonant': 0.998161, 'acc_grapheme': 0.99232, 'acc_vowel': 0.997457, 'acc_consonant': 0.997656, 'loss_grapheme': 0.032979, 'loss_vowel': 0.012784, 'loss_consonant': 0.010009}\n",
      "CYCLE: 3\n",
      "    0 | 0.000020 | 160512/160735 | 1.8447 | 1.0822 |\n",
      "val: {'recall': 0.996336, 'recall_grapheme': 0.994351, 'recall_vowel': 0.998091, 'recall_consonant': 0.998549, 'acc_grapheme': 0.993592, 'acc_vowel': 0.99803, 'acc_consonant': 0.998055, 'loss_grapheme': 0.041098, 'loss_vowel': 0.02153, 'loss_consonant': 0.015051}\n",
      "    1 | 0.000040 | 160512/160735 | 1.6150 | 1.0489 |\n",
      "val: {'recall': 0.995664, 'recall_grapheme': 0.9936, 'recall_vowel': 0.99766, 'recall_consonant': 0.997796, 'acc_grapheme': 0.993193, 'acc_vowel': 0.997806, 'acc_consonant': 0.997756, 'loss_grapheme': 0.038768, 'loss_vowel': 0.017596, 'loss_consonant': 0.0133}\n",
      "    2 | 0.000060 | 160512/160735 | 1.6236 | 1.0769 |\n",
      "val: {'recall': 0.997093, 'recall_grapheme': 0.995712, 'recall_vowel': 0.998318, 'recall_consonant': 0.998633, 'acc_grapheme': 0.995138, 'acc_vowel': 0.998255, 'acc_consonant': 0.998304, 'loss_grapheme': 0.036066, 'loss_vowel': 0.020823, 'loss_consonant': 0.012995}\n",
      "    3 | 0.000079 | 160512/160735 | 0.0003 | 0.9541 |\n",
      "val: {'recall': 0.996586, 'recall_grapheme': 0.995161, 'recall_vowel': 0.997793, 'recall_consonant': 0.998231, 'acc_grapheme': 0.994863, 'acc_vowel': 0.998005, 'acc_consonant': 0.998304, 'loss_grapheme': 0.036922, 'loss_vowel': 0.021165, 'loss_consonant': 0.013309}\n",
      "    4 | 0.000099 | 160512/160735 | 1.8837 | 0.9659 |\n",
      "val: {'recall': 0.996285, 'recall_grapheme': 0.994366, 'recall_vowel': 0.997881, 'recall_consonant': 0.998528, 'acc_grapheme': 0.993941, 'acc_vowel': 0.997905, 'acc_consonant': 0.99798, 'loss_grapheme': 0.041846, 'loss_vowel': 0.023623, 'loss_consonant': 0.015321}\n",
      "    5 | 0.000099 | 160512/160735 | 1.0114 | 1.1873 |\n",
      "val: {'recall': 0.993501, 'recall_grapheme': 0.990409, 'recall_vowel': 0.996229, 'recall_consonant': 0.996957, 'acc_grapheme': 0.989478, 'acc_vowel': 0.996584, 'acc_consonant': 0.996734, 'loss_grapheme': 0.043943, 'loss_vowel': 0.016154, 'loss_consonant': 0.013673}\n",
      "    6 | 0.000098 | 160512/160735 | 0.0024 | 0.9225 |\n",
      "val: {'recall': 0.996257, 'recall_grapheme': 0.994768, 'recall_vowel': 0.997836, 'recall_consonant': 0.997658, 'acc_grapheme': 0.994066, 'acc_vowel': 0.99798, 'acc_consonant': 0.997631, 'loss_grapheme': 0.035506, 'loss_vowel': 0.017044, 'loss_consonant': 0.012427}\n",
      "    7 | 0.000098 | 160512/160735 | 1.1424 | 0.9638 |\n",
      "val: {'recall': 0.996756, 'recall_grapheme': 0.995269, 'recall_vowel': 0.998468, 'recall_consonant': 0.99802, 'acc_grapheme': 0.994938, 'acc_vowel': 0.998304, 'acc_consonant': 0.997955, 'loss_grapheme': 0.031476, 'loss_vowel': 0.01811, 'loss_consonant': 0.012444}\n",
      "    8 | 0.000097 | 160512/160735 | 1.7225 | 1.0516 |\n",
      "val: {'recall': 0.995345, 'recall_grapheme': 0.993255, 'recall_vowel': 0.997313, 'recall_consonant': 0.997556, 'acc_grapheme': 0.992819, 'acc_vowel': 0.997432, 'acc_consonant': 0.997382, 'loss_grapheme': 0.045535, 'loss_vowel': 0.026248, 'loss_consonant': 0.018035}\n",
      "    9 | 0.000096 | 160512/160735 | 1.2072 | 1.1727 |"
     ]
    }
   ],
   "source": [
    "train(args)"
   ]
  },
  {
   "cell_type": "code",
   "execution_count": null,
   "metadata": {},
   "outputs": [],
   "source": []
  },
  {
   "cell_type": "code",
   "execution_count": null,
   "metadata": {},
   "outputs": [],
   "source": []
  },
  {
   "cell_type": "code",
   "execution_count": null,
   "metadata": {},
   "outputs": [],
   "source": []
  },
  {
   "cell_type": "code",
   "execution_count": null,
   "metadata": {},
   "outputs": [],
   "source": []
  }
 ],
 "metadata": {
  "kernelspec": {
   "display_name": "Python 3",
   "language": "python",
   "name": "python3"
  },
  "language_info": {
   "codemirror_mode": {
    "name": "ipython",
    "version": 3
   },
   "file_extension": ".py",
   "mimetype": "text/x-python",
   "name": "python",
   "nbconvert_exporter": "python",
   "pygments_lexer": "ipython3",
   "version": "3.7.3"
  }
 },
 "nbformat": 4,
 "nbformat_minor": 2
}
