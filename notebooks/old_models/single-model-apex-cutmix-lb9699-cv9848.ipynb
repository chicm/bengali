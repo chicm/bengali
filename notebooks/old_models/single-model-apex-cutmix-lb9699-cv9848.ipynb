{
 "cells": [
  {
   "cell_type": "code",
   "execution_count": 1,
   "metadata": {},
   "outputs": [],
   "source": [
    "import os\n",
    "import pandas as pd\n",
    "import numpy as np\n",
    "import time, gc\n",
    "import cv2\n",
    "import matplotlib.pyplot as plt\n",
    "import torch\n",
    "import torch.nn as nn\n",
    "import torch.nn.functional as F\n",
    "import torch.optim as optim\n",
    "import pretrainedmodels\n",
    "from argparse import Namespace\n",
    "from sklearn.utils import shuffle\n",
    "from apex import amp"
   ]
  },
  {
   "cell_type": "code",
   "execution_count": 2,
   "metadata": {},
   "outputs": [
    {
     "data": {
      "text/plain": [
       "'\\n!pip install opencv-python\\n!pip install fastparquet\\n!pip install pyarrow\\n!pip install snappy\\n!conda install python-snappy -y\\n'"
      ]
     },
     "execution_count": 2,
     "metadata": {},
     "output_type": "execute_result"
    }
   ],
   "source": [
    "'''\n",
    "!pip install opencv-python\n",
    "!pip install fastparquet\n",
    "!pip install pyarrow\n",
    "!pip install snappy\n",
    "!conda install python-snappy -y\n",
    "'''"
   ]
  },
  {
   "cell_type": "code",
   "execution_count": 3,
   "metadata": {},
   "outputs": [
    {
     "name": "stdout",
     "output_type": "stream",
     "text": [
      "bengaliai-cv19.zip\t   test_image_data_3.parquet\r\n",
      "class_map.csv\t\t   train.csv\r\n",
      "sample_submission.csv\t   train_image_data_0.parquet\r\n",
      "test.csv\t\t   train_image_data_1.parquet\r\n",
      "test_image_data_0.parquet  train_image_data_2.parquet\r\n",
      "test_image_data_1.parquet  train_image_data_3.parquet\r\n",
      "test_image_data_2.parquet\r\n"
     ]
    }
   ],
   "source": [
    "!ls /mnt/chicm/data/bengali"
   ]
  },
  {
   "cell_type": "code",
   "execution_count": 2,
   "metadata": {},
   "outputs": [
    {
     "name": "stdout",
     "output_type": "stream",
     "text": [
      "class_map.csv\t\t       test_image_data_3.parquet.zip\r\n",
      "sample_submission.csv\t       train.csv.zip\r\n",
      "test.csv\t\t       train_image_data_0.parquet.zip\r\n",
      "test_image_data_0.parquet.zip  train_image_data_1.parquet.zip\r\n",
      "test_image_data_1.parquet.zip  train_image_data_2.parquet.zip\r\n",
      "test_image_data_2.parquet.zip  train_image_data_3.parquet.zip\r\n"
     ]
    }
   ],
   "source": [
    "!ls /home/chec/data/bengali"
   ]
  },
  {
   "cell_type": "code",
   "execution_count": 2,
   "metadata": {},
   "outputs": [],
   "source": [
    "DATA_DIR = '/home/chec/data/bengali'"
   ]
  },
  {
   "cell_type": "code",
   "execution_count": 3,
   "metadata": {},
   "outputs": [],
   "source": [
    "train_df = pd.read_csv(f'{DATA_DIR}/train.csv')\n",
    "test_df = pd.read_csv(f'{DATA_DIR}/test.csv')\n",
    "class_map_df = pd.read_csv(f'{DATA_DIR}/class_map.csv')\n",
    "sample_sub_df = pd.read_csv(f'{DATA_DIR}/sample_submission.csv')"
   ]
  },
  {
   "cell_type": "code",
   "execution_count": null,
   "metadata": {},
   "outputs": [],
   "source": [
    "train_df.head()"
   ]
  },
  {
   "cell_type": "code",
   "execution_count": 9,
   "metadata": {},
   "outputs": [
    {
     "data": {
      "text/plain": [
       "(200840, 5)"
      ]
     },
     "execution_count": 9,
     "metadata": {},
     "output_type": "execute_result"
    }
   ],
   "source": [
    "train_df.shape"
   ]
  },
  {
   "cell_type": "code",
   "execution_count": 10,
   "metadata": {},
   "outputs": [
    {
     "data": {
      "text/plain": [
       "200840"
      ]
     },
     "execution_count": 10,
     "metadata": {},
     "output_type": "execute_result"
    }
   ],
   "source": [
    "len(train_df.image_id.unique())"
   ]
  },
  {
   "cell_type": "code",
   "execution_count": 11,
   "metadata": {},
   "outputs": [
    {
     "data": {
      "text/plain": [
       "72     5736\n",
       "64     5596\n",
       "13     5420\n",
       "107    5321\n",
       "23     5149\n",
       "       ... \n",
       "130     144\n",
       "158     143\n",
       "102     141\n",
       "33      136\n",
       "73      130\n",
       "Name: grapheme_root, Length: 168, dtype: int64"
      ]
     },
     "execution_count": 11,
     "metadata": {},
     "output_type": "execute_result"
    }
   ],
   "source": [
    "train_df.grapheme_root.value_counts()"
   ]
  },
  {
   "cell_type": "code",
   "execution_count": 22,
   "metadata": {},
   "outputs": [
    {
     "data": {
      "text/html": [
       "<div>\n",
       "<style scoped>\n",
       "    .dataframe tbody tr th:only-of-type {\n",
       "        vertical-align: middle;\n",
       "    }\n",
       "\n",
       "    .dataframe tbody tr th {\n",
       "        vertical-align: top;\n",
       "    }\n",
       "\n",
       "    .dataframe thead th {\n",
       "        text-align: right;\n",
       "    }\n",
       "</style>\n",
       "<table border=\"1\" class=\"dataframe\">\n",
       "  <thead>\n",
       "    <tr style=\"text-align: right;\">\n",
       "      <th></th>\n",
       "      <th>image_id</th>\n",
       "      <th>0</th>\n",
       "      <th>1</th>\n",
       "      <th>2</th>\n",
       "      <th>3</th>\n",
       "      <th>4</th>\n",
       "      <th>5</th>\n",
       "      <th>6</th>\n",
       "      <th>7</th>\n",
       "      <th>8</th>\n",
       "      <th>...</th>\n",
       "      <th>32322</th>\n",
       "      <th>32323</th>\n",
       "      <th>32324</th>\n",
       "      <th>32325</th>\n",
       "      <th>32326</th>\n",
       "      <th>32327</th>\n",
       "      <th>32328</th>\n",
       "      <th>32329</th>\n",
       "      <th>32330</th>\n",
       "      <th>32331</th>\n",
       "    </tr>\n",
       "  </thead>\n",
       "  <tbody>\n",
       "    <tr>\n",
       "      <th>0</th>\n",
       "      <td>Train_0</td>\n",
       "      <td>254</td>\n",
       "      <td>253</td>\n",
       "      <td>252</td>\n",
       "      <td>253</td>\n",
       "      <td>251</td>\n",
       "      <td>252</td>\n",
       "      <td>253</td>\n",
       "      <td>251</td>\n",
       "      <td>251</td>\n",
       "      <td>...</td>\n",
       "      <td>253</td>\n",
       "      <td>253</td>\n",
       "      <td>253</td>\n",
       "      <td>253</td>\n",
       "      <td>253</td>\n",
       "      <td>253</td>\n",
       "      <td>253</td>\n",
       "      <td>253</td>\n",
       "      <td>253</td>\n",
       "      <td>251</td>\n",
       "    </tr>\n",
       "    <tr>\n",
       "      <th>1</th>\n",
       "      <td>Train_1</td>\n",
       "      <td>251</td>\n",
       "      <td>244</td>\n",
       "      <td>238</td>\n",
       "      <td>245</td>\n",
       "      <td>248</td>\n",
       "      <td>246</td>\n",
       "      <td>246</td>\n",
       "      <td>247</td>\n",
       "      <td>251</td>\n",
       "      <td>...</td>\n",
       "      <td>255</td>\n",
       "      <td>255</td>\n",
       "      <td>255</td>\n",
       "      <td>255</td>\n",
       "      <td>255</td>\n",
       "      <td>255</td>\n",
       "      <td>255</td>\n",
       "      <td>255</td>\n",
       "      <td>255</td>\n",
       "      <td>254</td>\n",
       "    </tr>\n",
       "    <tr>\n",
       "      <th>2</th>\n",
       "      <td>Train_2</td>\n",
       "      <td>251</td>\n",
       "      <td>250</td>\n",
       "      <td>249</td>\n",
       "      <td>250</td>\n",
       "      <td>249</td>\n",
       "      <td>245</td>\n",
       "      <td>247</td>\n",
       "      <td>252</td>\n",
       "      <td>252</td>\n",
       "      <td>...</td>\n",
       "      <td>254</td>\n",
       "      <td>253</td>\n",
       "      <td>252</td>\n",
       "      <td>252</td>\n",
       "      <td>253</td>\n",
       "      <td>253</td>\n",
       "      <td>253</td>\n",
       "      <td>253</td>\n",
       "      <td>251</td>\n",
       "      <td>249</td>\n",
       "    </tr>\n",
       "    <tr>\n",
       "      <th>3</th>\n",
       "      <td>Train_3</td>\n",
       "      <td>247</td>\n",
       "      <td>247</td>\n",
       "      <td>249</td>\n",
       "      <td>253</td>\n",
       "      <td>253</td>\n",
       "      <td>252</td>\n",
       "      <td>251</td>\n",
       "      <td>251</td>\n",
       "      <td>250</td>\n",
       "      <td>...</td>\n",
       "      <td>254</td>\n",
       "      <td>254</td>\n",
       "      <td>254</td>\n",
       "      <td>254</td>\n",
       "      <td>254</td>\n",
       "      <td>253</td>\n",
       "      <td>253</td>\n",
       "      <td>252</td>\n",
       "      <td>251</td>\n",
       "      <td>252</td>\n",
       "    </tr>\n",
       "    <tr>\n",
       "      <th>4</th>\n",
       "      <td>Train_4</td>\n",
       "      <td>249</td>\n",
       "      <td>248</td>\n",
       "      <td>246</td>\n",
       "      <td>246</td>\n",
       "      <td>248</td>\n",
       "      <td>244</td>\n",
       "      <td>242</td>\n",
       "      <td>242</td>\n",
       "      <td>229</td>\n",
       "      <td>...</td>\n",
       "      <td>255</td>\n",
       "      <td>255</td>\n",
       "      <td>255</td>\n",
       "      <td>255</td>\n",
       "      <td>255</td>\n",
       "      <td>255</td>\n",
       "      <td>255</td>\n",
       "      <td>255</td>\n",
       "      <td>255</td>\n",
       "      <td>255</td>\n",
       "    </tr>\n",
       "  </tbody>\n",
       "</table>\n",
       "<p>5 rows × 32333 columns</p>\n",
       "</div>"
      ],
      "text/plain": [
       "  image_id    0    1    2    3    4    5    6    7    8  ...  32322  32323  \\\n",
       "0  Train_0  254  253  252  253  251  252  253  251  251  ...    253    253   \n",
       "1  Train_1  251  244  238  245  248  246  246  247  251  ...    255    255   \n",
       "2  Train_2  251  250  249  250  249  245  247  252  252  ...    254    253   \n",
       "3  Train_3  247  247  249  253  253  252  251  251  250  ...    254    254   \n",
       "4  Train_4  249  248  246  246  248  244  242  242  229  ...    255    255   \n",
       "\n",
       "   32324  32325  32326  32327  32328  32329  32330  32331  \n",
       "0    253    253    253    253    253    253    253    251  \n",
       "1    255    255    255    255    255    255    255    254  \n",
       "2    252    252    253    253    253    253    251    249  \n",
       "3    254    254    254    253    253    252    251    252  \n",
       "4    255    255    255    255    255    255    255    255  \n",
       "\n",
       "[5 rows x 32333 columns]"
      ]
     },
     "execution_count": 22,
     "metadata": {},
     "output_type": "execute_result"
    }
   ],
   "source": [
    "df = pd.read_parquet(f'{DATA_DIR}/train_image_data_0.parquet')\n",
    "df.head()"
   ]
  },
  {
   "cell_type": "code",
   "execution_count": 13,
   "metadata": {},
   "outputs": [
    {
     "data": {
      "text/plain": [
       "(50210, 32333)"
      ]
     },
     "execution_count": 13,
     "metadata": {},
     "output_type": "execute_result"
    }
   ],
   "source": [
    "df.shape"
   ]
  },
  {
   "cell_type": "code",
   "execution_count": 14,
   "metadata": {},
   "outputs": [],
   "source": [
    "df2 = df.set_index('image_id')"
   ]
  },
  {
   "cell_type": "code",
   "execution_count": 15,
   "metadata": {},
   "outputs": [
    {
     "data": {
      "text/html": [
       "<div>\n",
       "<style scoped>\n",
       "    .dataframe tbody tr th:only-of-type {\n",
       "        vertical-align: middle;\n",
       "    }\n",
       "\n",
       "    .dataframe tbody tr th {\n",
       "        vertical-align: top;\n",
       "    }\n",
       "\n",
       "    .dataframe thead th {\n",
       "        text-align: right;\n",
       "    }\n",
       "</style>\n",
       "<table border=\"1\" class=\"dataframe\">\n",
       "  <thead>\n",
       "    <tr style=\"text-align: right;\">\n",
       "      <th></th>\n",
       "      <th>0</th>\n",
       "      <th>1</th>\n",
       "      <th>2</th>\n",
       "      <th>3</th>\n",
       "      <th>4</th>\n",
       "      <th>5</th>\n",
       "      <th>6</th>\n",
       "      <th>7</th>\n",
       "      <th>8</th>\n",
       "      <th>9</th>\n",
       "      <th>...</th>\n",
       "      <th>32322</th>\n",
       "      <th>32323</th>\n",
       "      <th>32324</th>\n",
       "      <th>32325</th>\n",
       "      <th>32326</th>\n",
       "      <th>32327</th>\n",
       "      <th>32328</th>\n",
       "      <th>32329</th>\n",
       "      <th>32330</th>\n",
       "      <th>32331</th>\n",
       "    </tr>\n",
       "    <tr>\n",
       "      <th>image_id</th>\n",
       "      <th></th>\n",
       "      <th></th>\n",
       "      <th></th>\n",
       "      <th></th>\n",
       "      <th></th>\n",
       "      <th></th>\n",
       "      <th></th>\n",
       "      <th></th>\n",
       "      <th></th>\n",
       "      <th></th>\n",
       "      <th></th>\n",
       "      <th></th>\n",
       "      <th></th>\n",
       "      <th></th>\n",
       "      <th></th>\n",
       "      <th></th>\n",
       "      <th></th>\n",
       "      <th></th>\n",
       "      <th></th>\n",
       "      <th></th>\n",
       "      <th></th>\n",
       "    </tr>\n",
       "  </thead>\n",
       "  <tbody>\n",
       "    <tr>\n",
       "      <td>Train_0</td>\n",
       "      <td>254</td>\n",
       "      <td>253</td>\n",
       "      <td>252</td>\n",
       "      <td>253</td>\n",
       "      <td>251</td>\n",
       "      <td>252</td>\n",
       "      <td>253</td>\n",
       "      <td>251</td>\n",
       "      <td>251</td>\n",
       "      <td>253</td>\n",
       "      <td>...</td>\n",
       "      <td>253</td>\n",
       "      <td>253</td>\n",
       "      <td>253</td>\n",
       "      <td>253</td>\n",
       "      <td>253</td>\n",
       "      <td>253</td>\n",
       "      <td>253</td>\n",
       "      <td>253</td>\n",
       "      <td>253</td>\n",
       "      <td>251</td>\n",
       "    </tr>\n",
       "    <tr>\n",
       "      <td>Train_1</td>\n",
       "      <td>251</td>\n",
       "      <td>244</td>\n",
       "      <td>238</td>\n",
       "      <td>245</td>\n",
       "      <td>248</td>\n",
       "      <td>246</td>\n",
       "      <td>246</td>\n",
       "      <td>247</td>\n",
       "      <td>251</td>\n",
       "      <td>252</td>\n",
       "      <td>...</td>\n",
       "      <td>255</td>\n",
       "      <td>255</td>\n",
       "      <td>255</td>\n",
       "      <td>255</td>\n",
       "      <td>255</td>\n",
       "      <td>255</td>\n",
       "      <td>255</td>\n",
       "      <td>255</td>\n",
       "      <td>255</td>\n",
       "      <td>254</td>\n",
       "    </tr>\n",
       "    <tr>\n",
       "      <td>Train_2</td>\n",
       "      <td>251</td>\n",
       "      <td>250</td>\n",
       "      <td>249</td>\n",
       "      <td>250</td>\n",
       "      <td>249</td>\n",
       "      <td>245</td>\n",
       "      <td>247</td>\n",
       "      <td>252</td>\n",
       "      <td>252</td>\n",
       "      <td>252</td>\n",
       "      <td>...</td>\n",
       "      <td>254</td>\n",
       "      <td>253</td>\n",
       "      <td>252</td>\n",
       "      <td>252</td>\n",
       "      <td>253</td>\n",
       "      <td>253</td>\n",
       "      <td>253</td>\n",
       "      <td>253</td>\n",
       "      <td>251</td>\n",
       "      <td>249</td>\n",
       "    </tr>\n",
       "    <tr>\n",
       "      <td>Train_3</td>\n",
       "      <td>247</td>\n",
       "      <td>247</td>\n",
       "      <td>249</td>\n",
       "      <td>253</td>\n",
       "      <td>253</td>\n",
       "      <td>252</td>\n",
       "      <td>251</td>\n",
       "      <td>251</td>\n",
       "      <td>250</td>\n",
       "      <td>250</td>\n",
       "      <td>...</td>\n",
       "      <td>254</td>\n",
       "      <td>254</td>\n",
       "      <td>254</td>\n",
       "      <td>254</td>\n",
       "      <td>254</td>\n",
       "      <td>253</td>\n",
       "      <td>253</td>\n",
       "      <td>252</td>\n",
       "      <td>251</td>\n",
       "      <td>252</td>\n",
       "    </tr>\n",
       "    <tr>\n",
       "      <td>Train_4</td>\n",
       "      <td>249</td>\n",
       "      <td>248</td>\n",
       "      <td>246</td>\n",
       "      <td>246</td>\n",
       "      <td>248</td>\n",
       "      <td>244</td>\n",
       "      <td>242</td>\n",
       "      <td>242</td>\n",
       "      <td>229</td>\n",
       "      <td>225</td>\n",
       "      <td>...</td>\n",
       "      <td>255</td>\n",
       "      <td>255</td>\n",
       "      <td>255</td>\n",
       "      <td>255</td>\n",
       "      <td>255</td>\n",
       "      <td>255</td>\n",
       "      <td>255</td>\n",
       "      <td>255</td>\n",
       "      <td>255</td>\n",
       "      <td>255</td>\n",
       "    </tr>\n",
       "  </tbody>\n",
       "</table>\n",
       "<p>5 rows × 32332 columns</p>\n",
       "</div>"
      ],
      "text/plain": [
       "            0    1    2    3    4    5    6    7    8    9  ...  32322  32323  \\\n",
       "image_id                                                    ...                 \n",
       "Train_0   254  253  252  253  251  252  253  251  251  253  ...    253    253   \n",
       "Train_1   251  244  238  245  248  246  246  247  251  252  ...    255    255   \n",
       "Train_2   251  250  249  250  249  245  247  252  252  252  ...    254    253   \n",
       "Train_3   247  247  249  253  253  252  251  251  250  250  ...    254    254   \n",
       "Train_4   249  248  246  246  248  244  242  242  229  225  ...    255    255   \n",
       "\n",
       "          32324  32325  32326  32327  32328  32329  32330  32331  \n",
       "image_id                                                          \n",
       "Train_0     253    253    253    253    253    253    253    251  \n",
       "Train_1     255    255    255    255    255    255    255    254  \n",
       "Train_2     252    252    253    253    253    253    251    249  \n",
       "Train_3     254    254    254    253    253    252    251    252  \n",
       "Train_4     255    255    255    255    255    255    255    255  \n",
       "\n",
       "[5 rows x 32332 columns]"
      ]
     },
     "execution_count": 15,
     "metadata": {},
     "output_type": "execute_result"
    }
   ],
   "source": [
    "df2.head()"
   ]
  },
  {
   "cell_type": "code",
   "execution_count": 50,
   "metadata": {},
   "outputs": [
    {
     "data": {
      "text/plain": [
       "Index(['Train_0', 'Train_1', 'Train_2', 'Train_3', 'Train_4', 'Train_5',\n",
       "       'Train_6', 'Train_7', 'Train_8', 'Train_9',\n",
       "       ...\n",
       "       'Train_50200', 'Train_50201', 'Train_50202', 'Train_50203',\n",
       "       'Train_50204', 'Train_50205', 'Train_50206', 'Train_50207',\n",
       "       'Train_50208', 'Train_50209'],\n",
       "      dtype='object', name='image_id', length=50210)"
      ]
     },
     "execution_count": 50,
     "metadata": {},
     "output_type": "execute_result"
    }
   ],
   "source": [
    "df2.index"
   ]
  },
  {
   "cell_type": "code",
   "execution_count": 4,
   "metadata": {},
   "outputs": [],
   "source": [
    "HEIGHT = 137\n",
    "WIDTH = 236"
   ]
  },
  {
   "cell_type": "code",
   "execution_count": 23,
   "metadata": {},
   "outputs": [
    {
     "data": {
      "text/plain": [
       "<matplotlib.image.AxesImage at 0x7fb36d4a4f98>"
      ]
     },
     "execution_count": 23,
     "metadata": {},
     "output_type": "execute_result"
    },
    {
     "data": {
      "image/png": "[encoded data removed]",
      "text/plain": [
       "<Figure size 432x288 with 1 Axes>"
      ]
     },
     "metadata": {
      "needs_background": "light"
     },
     "output_type": "display_data"
    }
   ],
   "source": [
    "img = 255 - df.iloc[10, 1:].values.reshape(HEIGHT, WIDTH).astype(np.uint8)\n",
    "plt.imshow(img)"
   ]
  },
  {
   "cell_type": "code",
   "execution_count": 8,
   "metadata": {},
   "outputs": [],
   "source": [
    "#img2 = cv2.resize(img, (256, 128))\n",
    "#plt.imshow(img2)"
   ]
  },
  {
   "cell_type": "code",
   "execution_count": 24,
   "metadata": {},
   "outputs": [],
   "source": []
  },
  {
   "cell_type": "code",
   "execution_count": null,
   "metadata": {},
   "outputs": [],
   "source": []
  },
  {
   "cell_type": "code",
   "execution_count": 4,
   "metadata": {},
   "outputs": [],
   "source": [
    "import albumentations as albu\n",
    "\n",
    "def get_train_augs(p=1.):\n",
    "    return albu.Compose([\n",
    "        #albu.HorizontalFlip(.5),\n",
    "        albu.ShiftScaleRotate(shift_limit=0.05, scale_limit=0.05, rotate_limit=10, p=0.5 ),\n",
    "        albu.Blur(blur_limit=3, p=0.3),\n",
    "        albu.OpticalDistortion(p=0.3),\n",
    "        albu.GaussNoise(p=0.3)\n",
    "        #albu.GridDistortion(p=.33),\n",
    "        #albu.HueSaturationValue(p=.33) # not for grey scale\n",
    "    ], p=p)"
   ]
  },
  {
   "cell_type": "code",
   "execution_count": 8,
   "metadata": {},
   "outputs": [],
   "source": [
    "augs = get_train_augs(1.0)"
   ]
  },
  {
   "cell_type": "code",
   "execution_count": 9,
   "metadata": {},
   "outputs": [
    {
     "ename": "NameError",
     "evalue": "name 'img' is not defined",
     "output_type": "error",
     "traceback": [
      "\u001b[0;31m---------------------------------------------------------------------------\u001b[0m",
      "\u001b[0;31mNameError\u001b[0m                                 Traceback (most recent call last)",
      "\u001b[0;32m<ipython-input-9-32ad6cb7aa56>\u001b[0m in \u001b[0;36m<module>\u001b[0;34m\u001b[0m\n\u001b[0;32m----> 1\u001b[0;31m \u001b[0mimg\u001b[0m\u001b[0;34m.\u001b[0m\u001b[0mshape\u001b[0m\u001b[0;34m\u001b[0m\u001b[0;34m\u001b[0m\u001b[0m\n\u001b[0m",
      "\u001b[0;31mNameError\u001b[0m: name 'img' is not defined"
     ]
    }
   ],
   "source": [
    "img.shape"
   ]
  },
  {
   "cell_type": "code",
   "execution_count": 10,
   "metadata": {},
   "outputs": [],
   "source": [
    "#x=augs(image=img)['image']"
   ]
  },
  {
   "cell_type": "code",
   "execution_count": 11,
   "metadata": {},
   "outputs": [],
   "source": [
    "#plt.imshow(x)"
   ]
  },
  {
   "cell_type": "code",
   "execution_count": 5,
   "metadata": {},
   "outputs": [],
   "source": [
    "from torch.utils.data import DataLoader, Dataset\n",
    "from torchvision import transforms\n",
    "\n",
    "HEIGHT = 137\n",
    "WIDTH = 236\n",
    "\n",
    "class BengaliDataset(Dataset):\n",
    "    def __init__(self, df, img_df, train_mode=True, test_mode=False):\n",
    "        self.df = df\n",
    "        self.img_df = img_df\n",
    "        self.train_mode = train_mode\n",
    "        self.test_mode = test_mode\n",
    "\n",
    "    def __getitem__(self, idx):\n",
    "        row = self.df.iloc[idx]\n",
    "        img = self.get_img(row.image_id)\n",
    "        #print(img.shape)\n",
    "        if self.train_mode:\n",
    "            augs = get_train_augs()\n",
    "            img = augs(image=img)['image']\n",
    "        \n",
    "        img = np.expand_dims(img, axis=-1)\n",
    "        \n",
    "        img = transforms.functional.to_tensor(img)\n",
    "        #img = transforms.functional.normalize(img, mean=[0.485, 0.456, 0.406], std=[0.229, 0.224, 0.225])\n",
    "        \n",
    "        if self.test_mode:\n",
    "            return img\n",
    "        else:\n",
    "            return img, torch.tensor([row.grapheme_root, row.vowel_diacritic, row.consonant_diacritic])\n",
    "\n",
    "    def get_img(self, img_id):\n",
    "        return 255 - self.img_df.loc[img_id].values.reshape(HEIGHT, WIDTH).astype(np.uint8)\n",
    "\n",
    "    def __len__(self):\n",
    "        return len(self.df)\n",
    "    \n",
    "def get_train_val_loaders(batch_size=4, val_batch_size=4, dev_mode=False):\n",
    "    train_df = pd.read_csv(f'{DATA_DIR}/train.csv')\n",
    "    train_df = shuffle(train_df, random_state=1234)\n",
    "    print(train_df.shape)\n",
    "\n",
    "    if dev_mode:\n",
    "        img_df = pd.read_parquet(f'{DATA_DIR}/train_image_data_0.parquet').set_index('image_id')\n",
    "        train_df = train_df.iloc[:1000]\n",
    "    else:\n",
    "        img_dfs = [pd.read_parquet(f'{DATA_DIR}/train_image_data_{i}.parquet') for i in range(4)]\n",
    "        img_df = pd.concat(img_dfs, axis=0).set_index('image_id')\n",
    "    print(img_df.shape)\n",
    "    split_index = int(len(train_df) * 0.9)\n",
    "    \n",
    "    train = train_df.iloc[:split_index]\n",
    "    val = train_df.iloc[split_index:]\n",
    "    print(train.shape, val.shape)\n",
    "    \n",
    "    train_ds = BengaliDataset(train, img_df, True, False)\n",
    "    val_ds = BengaliDataset(val, img_df, False, False)\n",
    "    \n",
    "    train_loader = DataLoader(train_ds, batch_size=batch_size, shuffle=True, num_workers=8, drop_last=True)\n",
    "    train_loader.num = len(train_ds)\n",
    "\n",
    "    val_loader = DataLoader(val_ds, batch_size=val_batch_size, shuffle=False, num_workers=8, drop_last=False)\n",
    "    val_loader.num = len(val_ds)\n",
    "\n",
    "    return train_loader, val_loader"
   ]
  },
  {
   "cell_type": "code",
   "execution_count": 13,
   "metadata": {},
   "outputs": [],
   "source": [
    "#train_loader, val_loader = get_train_val_loaders(dev_mode=True)"
   ]
  },
  {
   "cell_type": "code",
   "execution_count": 14,
   "metadata": {},
   "outputs": [
    {
     "data": {
      "text/plain": [
       "'\\nfor img, y in train_loader:\\n    print(img.size(), y.size())\\n    print(y)\\n    #print(img)\\n    #plt.imshow(img.squeeze()[0].numpy())\\n    break\\n'"
      ]
     },
     "execution_count": 14,
     "metadata": {},
     "output_type": "execute_result"
    }
   ],
   "source": [
    "'''\n",
    "for img, y in train_loader:\n",
    "    print(img.size(), y.size())\n",
    "    print(y)\n",
    "    #print(img)\n",
    "    #plt.imshow(img.squeeze()[0].numpy())\n",
    "    break\n",
    "'''"
   ]
  },
  {
   "cell_type": "markdown",
   "metadata": {},
   "source": [
    "# model"
   ]
  },
  {
   "cell_type": "code",
   "execution_count": 8,
   "metadata": {},
   "outputs": [],
   "source": [
    "#import pretrainedmodels"
   ]
  },
  {
   "cell_type": "code",
   "execution_count": 11,
   "metadata": {},
   "outputs": [
    {
     "name": "stdout",
     "output_type": "stream",
     "text": [
      "['fbresnet152', 'bninception', 'resnext101_32x4d', 'resnext101_64x4d', 'inceptionv4', 'inceptionresnetv2', 'alexnet', 'densenet121', 'densenet169', 'densenet201', 'densenet161', 'resnet18', 'resnet34', 'resnet50', 'resnet101', 'resnet152', 'inceptionv3', 'squeezenet1_0', 'squeezenet1_1', 'vgg11', 'vgg11_bn', 'vgg13', 'vgg13_bn', 'vgg16', 'vgg16_bn', 'vgg19_bn', 'vgg19', 'nasnetamobile', 'nasnetalarge', 'dpn68', 'dpn68b', 'dpn92', 'dpn98', 'dpn131', 'dpn107', 'xception', 'senet154', 'se_resnet50', 'se_resnet101', 'se_resnet152', 'se_resnext50_32x4d', 'se_resnext101_32x4d', 'cafferesnet101', 'pnasnet5large', 'polynet']\n"
     ]
    }
   ],
   "source": [
    "print(pretrainedmodels.model_names)"
   ]
  },
  {
   "cell_type": "code",
   "execution_count": 81,
   "metadata": {},
   "outputs": [],
   "source": [
    "#model_name = 'resnet50' # could be fbresnet152 or inceptionresnetv2\n",
    "#model = pretrainedmodels.__dict__[model_name](num_classes=1000, pretrained='imagenet').cuda()\n",
    "#model.eval()"
   ]
  },
  {
   "cell_type": "code",
   "execution_count": 82,
   "metadata": {},
   "outputs": [],
   "source": [
    "#model = pretrainedmodels.__dict__[model_name](num_classes=1000, pretrained=False).cuda()\n"
   ]
  },
  {
   "cell_type": "code",
   "execution_count": 83,
   "metadata": {},
   "outputs": [
    {
     "data": {
      "text/plain": [
       "torch.Size([2, 2048, 5, 8])"
      ]
     },
     "execution_count": 83,
     "metadata": {},
     "output_type": "execute_result"
    }
   ],
   "source": [
    "#model.features(torch.randn((2, 3, 137, 236)).cuda()).size()"
   ]
  },
  {
   "cell_type": "code",
   "execution_count": 84,
   "metadata": {},
   "outputs": [
    {
     "data": {
      "text/plain": [
       "2048"
      ]
     },
     "execution_count": 84,
     "metadata": {},
     "output_type": "execute_result"
    }
   ],
   "source": [
    "#model.last_linear.in_features"
   ]
  },
  {
   "cell_type": "code",
   "execution_count": 6,
   "metadata": {},
   "outputs": [],
   "source": [
    "class BengaliNet(nn.Module):\n",
    "    def __init__(self, backbone_name):\n",
    "        super(BengaliNet, self).__init__()\n",
    "        self.n_grapheme = 168\n",
    "        self.n_vowel = 11\n",
    "        self.n_consonant = 7\n",
    "        \n",
    "        self.num_classes = self.n_grapheme + self.n_vowel + self.n_consonant\n",
    "        \n",
    "        self.conv0 = nn.Conv2d(1, 3, kernel_size=1, stride=1, padding=0)\n",
    "        \n",
    "        self.backbone = pretrainedmodels.__dict__[backbone_name](num_classes=1000, pretrained='imagenet')\n",
    "        self.avg_pool = nn.AdaptiveAvgPool2d(1)\n",
    "        self.fc = nn.Linear(self.backbone.last_linear.in_features, self.num_classes)\n",
    "\n",
    "    def logits(self, x):\n",
    "        x = self.avg_pool(x)\n",
    "        x = F.dropout2d(x, 0.2, self.training)\n",
    "        x = x.view(x.size(0), -1)\n",
    "        return self.fc(x)\n",
    "    \n",
    "    def forward(self, x):\n",
    "        x = self.conv0(x)\n",
    "        #print(x.size())\n",
    "        x = self.backbone.features(x)\n",
    "        x = self.logits(x)\n",
    "\n",
    "        return x"
   ]
  },
  {
   "cell_type": "code",
   "execution_count": 7,
   "metadata": {},
   "outputs": [],
   "source": [
    "MODEL_DIR = './models'\n",
    "def create_model(args):\n",
    "    model = BengaliNet(backbone_name=args.backbone)\n",
    "    model_file = os.path.join(MODEL_DIR, args.backbone, args.ckp_name)\n",
    "\n",
    "    parent_dir = os.path.dirname(model_file)\n",
    "    if not os.path.exists(parent_dir):\n",
    "        os.makedirs(parent_dir)\n",
    "\n",
    "    print('model file: {}, exist: {}'.format(model_file, os.path.exists(model_file)))\n",
    "\n",
    "    if args.predict and (not os.path.exists(model_file)):\n",
    "        raise AttributeError('model file does not exist: {}'.format(model_file))\n",
    "\n",
    "    if os.path.exists(model_file):\n",
    "        print('loading {}...'.format(model_file))\n",
    "        model.load_state_dict(torch.load(model_file))\n",
    "    \n",
    "    return model, model_file"
   ]
  },
  {
   "cell_type": "code",
   "execution_count": 11,
   "metadata": {},
   "outputs": [
    {
     "data": {
      "text/plain": [
       "\"\\nargs = Namespace()\\nargs.backbone = 'se_resnext50_32x4d'\\nargs.ckp_name = 'best_model.pth'\\nargs.predict = False\\n\\nbnet = create_model(args)[0].cuda()\\n\""
      ]
     },
     "execution_count": 11,
     "metadata": {},
     "output_type": "execute_result"
    }
   ],
   "source": [
    "'''\n",
    "args = Namespace()\n",
    "args.backbone = 'se_resnext50_32x4d'\n",
    "args.ckp_name = 'best_model.pth'\n",
    "args.predict = False\n",
    "\n",
    "bnet = create_model(args)[0].cuda()\n",
    "'''"
   ]
  },
  {
   "cell_type": "code",
   "execution_count": 103,
   "metadata": {},
   "outputs": [],
   "source": [
    "#bnet = BengaliNet('se_resnext50_32x4d').cuda()"
   ]
  },
  {
   "cell_type": "code",
   "execution_count": 108,
   "metadata": {},
   "outputs": [
    {
     "name": "stdout",
     "output_type": "stream",
     "text": [
      "torch.Size([2, 3, 137, 236])\n"
     ]
    },
    {
     "data": {
      "text/plain": [
       "torch.Size([2, 186])"
      ]
     },
     "execution_count": 108,
     "metadata": {},
     "output_type": "execute_result"
    }
   ],
   "source": [
    "#bnet(torch.randn((2, 1, 137, 236)).cuda()).size()"
   ]
  },
  {
   "cell_type": "markdown",
   "metadata": {},
   "source": [
    "# train"
   ]
  },
  {
   "cell_type": "code",
   "execution_count": 40,
   "metadata": {},
   "outputs": [
    {
     "data": {
      "text/plain": [
       "0.111111"
      ]
     },
     "execution_count": 40,
     "metadata": {},
     "output_type": "execute_result"
    }
   ],
   "source": [
    "round(1/9, 6)"
   ]
  },
  {
   "cell_type": "code",
   "execution_count": 8,
   "metadata": {},
   "outputs": [],
   "source": [
    "import numpy as np\n",
    "import sklearn.metrics\n",
    "import torch\n",
    "\n",
    "\n",
    "def macro_recall(pred_y, y, n_grapheme=168, n_vowel=11, n_consonant=7):\n",
    "    pred_y = torch.split(pred_y, [n_grapheme, n_vowel, n_consonant], dim=1)\n",
    "    pred_labels = [torch.argmax(py, dim=1).cpu().numpy() for py in pred_y]\n",
    "\n",
    "    #y = y.cpu().numpy()\n",
    "    # pred_y = [p.cpu().numpy() for p in pred_y]\n",
    "\n",
    "    recall_grapheme = sklearn.metrics.recall_score(pred_labels[0], y_grapheme, average='macro')\n",
    "    recall_vowel = sklearn.metrics.recall_score(pred_labels[1], y_vowel, average='macro')\n",
    "    recall_consonant = sklearn.metrics.recall_score(pred_labels[2], y_consonant, average='macro')\n",
    "    scores = [recall_grapheme, recall_vowel, recall_consonant]\n",
    "    final_score = np.average(scores, weights=[2, 1, 1])\n",
    "    # print(f'recall: grapheme {recall_grapheme}, vowel {recall_vowel}, consonant {recall_consonant}, '\n",
    "    #       f'total {final_score}, y {y.shape}')\n",
    "    return final_score\n",
    "\n",
    "def calc_metrics(preds0, preds1, preds2, y):\n",
    "    assert len(y) == len(preds0) == len(preds1) == len(preds2)\n",
    "\n",
    "    recall_grapheme = sklearn.metrics.recall_score(preds0, y[:, 0], average='macro')\n",
    "    recall_vowel = sklearn.metrics.recall_score(preds1, y[:, 1], average='macro')\n",
    "    recall_consonant = sklearn.metrics.recall_score(preds2, y[:, 2], average='macro')\n",
    "    scores = [recall_grapheme, recall_vowel, recall_consonant]\n",
    "    final_recall_score = np.average(scores, weights=[2, 1, 1])\n",
    "    \n",
    "    metrics = {}\n",
    "    metrics['recall'] = round(final_recall_score, 6)\n",
    "    metrics['recall_grapheme'] = round(recall_grapheme, 6)\n",
    "    metrics['recall_vowel'] = round(recall_vowel, 6)\n",
    "    metrics['recall_consonant'] = round(recall_consonant, 6)\n",
    "    \n",
    "    metrics['acc_grapheme'] = round((preds0 == y[:, 0]).sum() / len(y), 6)\n",
    "    metrics['acc_vowel'] = round((preds1 == y[:, 1]).sum() / len(y), 6)\n",
    "    metrics['acc_consonant'] = round((preds2 == y[:, 2]).sum() / len(y), 6)\n",
    "    \n",
    "    \n",
    "    return metrics"
   ]
  },
  {
   "cell_type": "code",
   "execution_count": 9,
   "metadata": {},
   "outputs": [],
   "source": [
    "def accuracy(output, label, topk=(1,)):\n",
    "    maxk = max(topk)\n",
    "\n",
    "    _, pred = output.topk(maxk, 1, True, True)\n",
    "    pred = pred.t()\n",
    "    correct = pred.eq(label.view(1, -1).expand_as(pred))\n",
    "\n",
    "    res = []\n",
    "    for k in topk:\n",
    "        correct_k = correct[:k].view(-1).sum().item()\n",
    "        res.append(correct_k)\n",
    "    return res"
   ]
  },
  {
   "cell_type": "code",
   "execution_count": 10,
   "metadata": {},
   "outputs": [],
   "source": [
    "def criterion(outputs, y_true):\n",
    "    # outputs: (N, 182)\n",
    "    # y_true: (N, 3)\n",
    "    \n",
    "    outputs = torch.split(outputs, [168, 11, 7], dim=1)\n",
    "    loss0 = F.cross_entropy(outputs[0], y_true[:, 0], reduction='mean')\n",
    "    loss1 = F.cross_entropy(outputs[1], y_true[:, 1], reduction='mean')\n",
    "    loss2 = F.cross_entropy(outputs[2], y_true[:, 2], reduction='mean')\n",
    "    \n",
    "    return loss0 + loss1 + loss2 #, loss0.item(), loss1.item(), loss2.item()"
   ]
  },
  {
   "cell_type": "code",
   "execution_count": 11,
   "metadata": {},
   "outputs": [],
   "source": [
    "def validate(model, val_loader):\n",
    "    model.eval()\n",
    "    loss0, loss1, loss2 = 0., 0., 0.\n",
    "    preds0, preds1,preds2 = [], [], []\n",
    "    y_true = []\n",
    "    with torch.no_grad():\n",
    "        for x, y in val_loader:\n",
    "            y_true.append(y)\n",
    "            x, y = x.cuda(), y.cuda()\n",
    "            outputs = model(x)\n",
    "            outputs = torch.split(outputs, [168, 11, 7], dim=1)\n",
    "            \n",
    "            preds0.append(torch.max(outputs[0], dim=1)[1])\n",
    "            preds1.append(torch.max(outputs[1], dim=1)[1])\n",
    "            preds2.append(torch.max(outputs[2], dim=1)[1])\n",
    "            loss0 += F.cross_entropy(outputs[0], y[:, 0], reduction='sum').item()\n",
    "            loss1 += F.cross_entropy(outputs[1], y[:, 1], reduction='sum').item()\n",
    "            loss2 += F.cross_entropy(outputs[2], y[:, 2], reduction='sum').item()\n",
    "            \n",
    "            # for debug\n",
    "            #metrics = {}\n",
    "            #metrics['loss_grapheme'] =  F.cross_entropy(outputs[0], y[:, 0], reduction='mean').item()\n",
    "            #metrics['loss_vowel'] =  F.cross_entropy(outputs[1], y[:, 1], reduction='mean').item()\n",
    "            #metrics['loss_consonant'] =  F.cross_entropy(outputs[2], y[:, 2], reduction='mean').item()\n",
    "            #return metrics\n",
    "    \n",
    "    preds0 = torch.cat(preds0, 0).cpu().numpy()\n",
    "    preds1 = torch.cat(preds1, 0).cpu().numpy()\n",
    "    preds2 = torch.cat(preds2, 0).cpu().numpy()\n",
    "    y_true = torch.cat(y_true, 0).numpy()\n",
    "    \n",
    "    #print('y_true:', y_true.shape)\n",
    "    #print('preds0:', preds0.shape)\n",
    "    \n",
    "    metrics = calc_metrics(preds0, preds1, preds2, y_true)\n",
    "    metrics['loss_grapheme'] = round(loss0 / val_loader.num, 6)\n",
    "    metrics['loss_vowel'] = round(loss1 / val_loader.num, 6)\n",
    "    metrics['loss_consonant'] = round(loss2 / val_loader.num, 6)\n",
    "    \n",
    "    return metrics\n",
    "            "
   ]
  },
  {
   "cell_type": "code",
   "execution_count": 21,
   "metadata": {},
   "outputs": [],
   "source": [
    "#train_loader, val_loader = get_train_val_loaders(batch_size=32, val_batch_size=128, dev_mode=True)"
   ]
  },
  {
   "cell_type": "code",
   "execution_count": null,
   "metadata": {},
   "outputs": [],
   "source": []
  },
  {
   "cell_type": "code",
   "execution_count": 62,
   "metadata": {},
   "outputs": [
    {
     "name": "stdout",
     "output_type": "stream",
     "text": [
      "(200840, 5)\n",
      "(200840, 32332)\n",
      "(180756, 5) (20084, 5)\n"
     ]
    }
   ],
   "source": []
  },
  {
   "cell_type": "code",
   "execution_count": 77,
   "metadata": {},
   "outputs": [
    {
     "name": "stdout",
     "output_type": "stream",
     "text": [
      "model file: ./models/se_resnext50_32x4d/best_model.pth, exist: False\n"
     ]
    }
   ],
   "source": []
  },
  {
   "cell_type": "code",
   "execution_count": 12,
   "metadata": {},
   "outputs": [],
   "source": [
    "def get_lrs(optimizer):\n",
    "    lrs = []\n",
    "    for pgs in optimizer.state_dict()['param_groups']:\n",
    "        lrs.append(pgs['lr'])\n",
    "    lrs = ['{:.6f}'.format(x) for x in lrs]\n",
    "    return lrs"
   ]
  },
  {
   "cell_type": "code",
   "execution_count": 13,
   "metadata": {},
   "outputs": [],
   "source": [
    "def save_model(model, model_file):\n",
    "    parent_dir = os.path.dirname(model_file)\n",
    "    if not os.path.exists(parent_dir):\n",
    "        os.makedirs(parent_dir)\n",
    "    if isinstance(model, nn.DataParallel):\n",
    "        torch.save(model.module.state_dict(), model_file)\n",
    "    else:\n",
    "        torch.save(model.state_dict(), model_file)"
   ]
  },
  {
   "cell_type": "code",
   "execution_count": 14,
   "metadata": {},
   "outputs": [],
   "source": [
    "def mixup(data, targets, alpha=1):\n",
    "    indices = torch.randperm(data.size(0))\n",
    "    shuffled_data = data[indices]\n",
    "    shuffled_targets = targets[indices]\n",
    "\n",
    "    lam = np.random.beta(alpha, alpha)\n",
    "    data = data * lam + shuffled_data * (1 - lam)\n",
    "    targets = (targets, shuffled_targets, lam)\n",
    "\n",
    "    return data, targets\n",
    "\n",
    "\n",
    "def mixup_criterion(outputs, targets):\n",
    "    targets1, targets2, lam = targets\n",
    "    #criterion = nn.CrossEntropyLoss(reduction='mean')\n",
    "    return lam * criterion(outputs, targets1) + (1 - lam) * criterion(outputs, targets2)"
   ]
  },
  {
   "cell_type": "code",
   "execution_count": 15,
   "metadata": {},
   "outputs": [],
   "source": [
    "def rand_bbox(size, lam):\n",
    "    W = size[2]\n",
    "    H = size[3]\n",
    "    cut_rat = np.sqrt(1. - lam)\n",
    "    cut_w = np.int(W * cut_rat)\n",
    "    cut_h = np.int(H * cut_rat)\n",
    "\n",
    "    # uniform\n",
    "    cx = np.random.randint(W)\n",
    "    cy = np.random.randint(H)\n",
    "\n",
    "    bbx1 = np.clip(cx - cut_w // 2, 0, W)\n",
    "    bby1 = np.clip(cy - cut_h // 2, 0, H)\n",
    "    bbx2 = np.clip(cx + cut_w // 2, 0, W)\n",
    "    bby2 = np.clip(cy + cut_h // 2, 0, H)\n",
    "\n",
    "    return bbx1, bby1, bbx2, bby2"
   ]
  },
  {
   "cell_type": "code",
   "execution_count": 25,
   "metadata": {},
   "outputs": [
    {
     "data": {
      "text/plain": [
       "0.9400341889163127"
      ]
     },
     "execution_count": 25,
     "metadata": {},
     "output_type": "execute_result"
    }
   ],
   "source": [
    "np.random.random()"
   ]
  },
  {
   "cell_type": "code",
   "execution_count": 16,
   "metadata": {},
   "outputs": [],
   "source": [
    "def train(args):\n",
    "    global model\n",
    "\n",
    "    if args.optim == 'Adam':\n",
    "        optimizer = optim.Adam(model.parameters(), lr=args.lr, weight_decay=0.0001)\n",
    "    else:\n",
    "        optimizer = optim.SGD(model.parameters(), lr=args.lr, momentum=0.9, weight_decay=0.0001)\n",
    "\n",
    "    if args.lrs == 'plateau':\n",
    "        lr_scheduler = optim.lr_scheduler.ReduceLROnPlateau(optimizer, mode='max', factor=args.factor, patience=args.patience, min_lr=args.min_lr)\n",
    "    else:\n",
    "        lr_scheduler = optim.lr_scheduler.CosineAnnealingLR(optimizer, args.t_max, eta_min=args.min_lr)\n",
    "        \n",
    "    model, optimizer = amp.initialize(model, optimizer, opt_level=\"O1\",verbosity=0)\n",
    "    \n",
    "    if torch.cuda.device_count() > 1:\n",
    "        model = nn.DataParallel(model)\n",
    "\n",
    "    best_metrics = 0.\n",
    "    best_key = 'recall'\n",
    "    \n",
    "    val_metrics = validate(model, val_loader)\n",
    "    print(val_metrics)\n",
    "    best_metrics = val_metrics[best_key]\n",
    "    \n",
    "    model.train()\n",
    "    #optimizer.zero_grad()\n",
    "\n",
    "    #if args.lrs == 'plateau':\n",
    "    #    lr_scheduler.step(best_metrics)\n",
    "    #else:\n",
    "    #    lr_scheduler.step()\n",
    "    train_iter = 0\n",
    "\n",
    "    for epoch in range(args.num_epochs):\n",
    "        train_loss = 0\n",
    "\n",
    "        current_lr = get_lrs(optimizer)\n",
    "        bg = time.time()\n",
    "        for batch_idx, (img, targets) in enumerate(train_loader):\n",
    "            train_iter += 1\n",
    "            img, targets  = img.cuda(), targets.cuda()\n",
    "            #do_mixup = False #(np.random.random() < 0.4)\n",
    "            \n",
    "            #if do_mixup:\n",
    "            #    img, targets = mixup(img, targets)\n",
    "            batch_size = img.size(0)\n",
    "          \n",
    "            \n",
    "            \n",
    "            #if do_mixup:\n",
    "            #    loss = mixup_criterion(outputs, targets)\n",
    "            #else:\n",
    "            #    loss = criterion(outputs, targets)\n",
    "            r = np.random.rand(1)\n",
    "            if args.beta > 0 and r < args.cutmix_prob:\n",
    "                # generate mixed sample\n",
    "                lam = np.random.beta(args.beta, args.beta)\n",
    "                rand_index = torch.randperm(img.size()[0]).cuda()\n",
    "                target_a = targets\n",
    "                target_b = targets[rand_index]\n",
    "                bbx1, bby1, bbx2, bby2 = rand_bbox(img.size(), lam)\n",
    "                img[:, :, bbx1:bbx2, bby1:bby2] = img[rand_index, :, bbx1:bbx2, bby1:bby2]\n",
    "                # adjust lambda to exactly match pixel ratio\n",
    "                lam = 1 - ((bbx2 - bbx1) * (bby2 - bby1) / (img.size()[-1] * img.size()[-2]))\n",
    "                # compute output\n",
    "                outputs = model(img)\n",
    "                loss = criterion(outputs, target_a) * lam + criterion(outputs, target_b) * (1. - lam)\n",
    "            else:\n",
    "                outputs = model(img)\n",
    "                loss = criterion(outputs, targets)\n",
    "            \n",
    "            with amp.scale_loss(loss, optimizer) as scaled_loss:\n",
    "                scaled_loss.backward()\n",
    "            \n",
    "            #loss.backward()\n",
    "            optimizer.step()\n",
    "            optimizer.zero_grad()\n",
    "\n",
    "            \n",
    "            #if batch_idx % 4 == 0:\n",
    "            #    optimizer.step()\n",
    "            #    optimizer.zero_grad()\n",
    "\n",
    "            train_loss += loss.item()\n",
    "            print('\\r {:4d} | {:.6f} | {:06d}/{} | {:.4f} | {:.4f} |'.format(\n",
    "                epoch, float(current_lr[0]), batch_size*(batch_idx+1), train_loader.num, \n",
    "                loss.item(), train_loss/(batch_idx+1)), end='')\n",
    "\n",
    "            if train_iter > 0 and train_iter % args.iter_val == 0:\n",
    "                #outputs = torch.split(outputs, [168, 11, 7], dim=1)\n",
    "            \n",
    "                #preds0 = (torch.max(outputs[0], dim=1)[1]).cpu().numpy()\n",
    "                #preds1 = (torch.max(outputs[1], dim=1)[1]).cpu().numpy()\n",
    "                #preds2 = (torch.max(outputs[2], dim=1)[1]).cpu().numpy()\n",
    "                #train_metrics = calc_metrics(preds0, preds1, preds2, targets.cpu().numpy())\n",
    "                #print('train:', train_metrics)\n",
    "                #save_model(model, model_file+'_latest')\n",
    "                val_metrics = validate(model, val_loader)\n",
    "                print('\\nval:', val_metrics)\n",
    "                \n",
    "                if val_metrics[best_key] > best_metrics:\n",
    "                    best_metrics = val_metrics[best_key]\n",
    "                    save_model(model, model_file)\n",
    "                    print('** saved')\n",
    "                \n",
    "                model.train()\n",
    "                \n",
    "                if args.lrs == 'plateau':\n",
    "                    lr_scheduler.step(best_metrics)\n",
    "                else:\n",
    "                    lr_scheduler.step()\n",
    "                current_lr = get_lrs(optimizer)\n",
    "        \n",
    "    "
   ]
  },
  {
   "cell_type": "code",
   "execution_count": 22,
   "metadata": {},
   "outputs": [],
   "source": [
    "args = Namespace()\n",
    "args.backbone = 'se_resnext50_32x4d'\n",
    "args.ckp_name = 'best_model.pth'\n",
    "args.predict = False\n",
    "args.optim = 'Adam'\n",
    "args.lr = 2e-5\n",
    "args.lrs = 'cosine'\n",
    "args.t_max = 12\n",
    "args.factor = 0.6\n",
    "args.patience = 3\n",
    "args.min_lr = 1e-6\n",
    "args.iter_val = 200\n",
    "args.num_epochs = 1000\n",
    "args.batch_size = 1024\n",
    "args.val_batch_size = 1024\n",
    "\n",
    "args.beta = 1.0\n",
    "args.cutmix_prob = 0.5"
   ]
  },
  {
   "cell_type": "code",
   "execution_count": 18,
   "metadata": {},
   "outputs": [
    {
     "name": "stdout",
     "output_type": "stream",
     "text": [
      "(200840, 5)\n",
      "(200840, 32332)\n",
      "(180756, 5) (20084, 5)\n"
     ]
    }
   ],
   "source": [
    "train_loader, val_loader = get_train_val_loaders(batch_size=args.batch_size, val_batch_size=args.val_batch_size)"
   ]
  },
  {
   "cell_type": "code",
   "execution_count": 23,
   "metadata": {},
   "outputs": [
    {
     "name": "stdout",
     "output_type": "stream",
     "text": [
      "model file: ./models/se_resnext50_32x4d/best_model.pth, exist: True\n",
      "loading ./models/se_resnext50_32x4d/best_model.pth...\n"
     ]
    }
   ],
   "source": [
    "model, model_file = create_model(args)\n",
    "#if torch.cuda.device_count() > 1:\n",
    "#    model = nn.DataParallel(model)\n",
    "model = model.cuda()\n"
   ]
  },
  {
   "cell_type": "code",
   "execution_count": 20,
   "metadata": {},
   "outputs": [
    {
     "name": "stdout",
     "output_type": "stream",
     "text": [
      "{'recall': 0.98278, 'recall_grapheme': 0.97471, 'recall_vowel': 0.989058, 'recall_consonant': 0.992641, 'acc_grapheme': 0.972515, 'acc_vowel': 0.991087, 'acc_consonant': 0.992083, 'loss_grapheme': 0.125625, 'loss_vowel': 0.048492, 'loss_consonant': 0.03828}\n",
      "    1 | 0.001000 | 024576/180756 | 0.0091 | 0.0110 |\n",
      "val: {'recall': 0.982589, 'recall_grapheme': 0.974199, 'recall_vowel': 0.989074, 'recall_consonant': 0.992885, 'acc_grapheme': 0.972316, 'acc_vowel': 0.991187, 'acc_consonant': 0.992233, 'loss_grapheme': 0.127412, 'loss_vowel': 0.047139, 'loss_consonant': 0.037564}\n"
     ]
    },
    {
     "name": "stderr",
     "output_type": "stream",
     "text": [
      "/home/chec/anaconda3/lib/python3.7/site-packages/torch/optim/lr_scheduler.py:73: UserWarning: Seems like `optimizer.step()` has been overridden after learning rate scheduler initialization. Please, make sure to call `optimizer.step()` before `lr_scheduler.step()`. See more details at https://pytorch.org/docs/stable/optim.html#how-to-adjust-learning-rate\n",
      "  \"https://pytorch.org/docs/stable/optim.html#how-to-adjust-learning-rate\", UserWarning)\n"
     ]
    },
    {
     "name": "stdout",
     "output_type": "stream",
     "text": [
      "    2 | 0.000983 | 049152/180756 | 0.0094 | 0.0099 |\n",
      "val: {'recall': 0.98198, 'recall_grapheme': 0.973916, 'recall_vowel': 0.989265, 'recall_consonant': 0.990823, 'acc_grapheme': 0.972316, 'acc_vowel': 0.991287, 'acc_consonant': 0.992282, 'loss_grapheme': 0.127194, 'loss_vowel': 0.047015, 'loss_consonant': 0.037335}\n",
      "    3 | 0.000934 | 073728/180756 | 0.0078 | 0.0089 |\n",
      "val: {'recall': 0.982108, 'recall_grapheme': 0.974109, 'recall_vowel': 0.989456, 'recall_consonant': 0.990757, 'acc_grapheme': 0.972466, 'acc_vowel': 0.991386, 'acc_consonant': 0.992233, 'loss_grapheme': 0.125939, 'loss_vowel': 0.047146, 'loss_consonant': 0.037474}\n",
      "    4 | 0.000855 | 098304/180756 | 0.0137 | 0.0098 |\n",
      "val: {'recall': 0.98273, 'recall_grapheme': 0.974335, 'recall_vowel': 0.989329, 'recall_consonant': 0.992921, 'acc_grapheme': 0.973013, 'acc_vowel': 0.991436, 'acc_consonant': 0.991984, 'loss_grapheme': 0.12551, 'loss_vowel': 0.047683, 'loss_consonant': 0.038022}\n",
      "    5 | 0.000753 | 122880/180756 | 0.0095 | 0.0091 |\n",
      "val: {'recall': 0.982246, 'recall_grapheme': 0.973383, 'recall_vowel': 0.989154, 'recall_consonant': 0.993064, 'acc_grapheme': 0.972167, 'acc_vowel': 0.991237, 'acc_consonant': 0.992133, 'loss_grapheme': 0.125864, 'loss_vowel': 0.047902, 'loss_consonant': 0.037465}\n",
      "    6 | 0.000633 | 147456/180756 | 0.0098 | 0.0086 |\n",
      "val: {'recall': 0.982519, 'recall_grapheme': 0.973945, 'recall_vowel': 0.989097, 'recall_consonant': 0.993088, 'acc_grapheme': 0.972515, 'acc_vowel': 0.991336, 'acc_consonant': 0.992033, 'loss_grapheme': 0.125873, 'loss_vowel': 0.047714, 'loss_consonant': 0.037658}\n",
      "    7 | 0.000505 | 172032/180756 | 0.0040 | 0.0080 |\n",
      "val: {'recall': 0.982553, 'recall_grapheme': 0.974107, 'recall_vowel': 0.989007, 'recall_consonant': 0.992993, 'acc_grapheme': 0.972914, 'acc_vowel': 0.991287, 'acc_consonant': 0.991834, 'loss_grapheme': 0.126271, 'loss_vowel': 0.04745, 'loss_consonant': 0.038047}\n",
      "    9 | 0.000377 | 016384/180756 | 0.0047 | 0.0075 |\n",
      "val: {'recall': 0.98283, 'recall_grapheme': 0.974687, 'recall_vowel': 0.989021, 'recall_consonant': 0.992925, 'acc_grapheme': 0.973063, 'acc_vowel': 0.991386, 'acc_consonant': 0.991785, 'loss_grapheme': 0.126528, 'loss_vowel': 0.047623, 'loss_consonant': 0.038275}\n",
      "** saved\n",
      "   10 | 0.000258 | 040960/180756 | 0.0076 | 0.0073 |\n",
      "val: {'recall': 0.982894, 'recall_grapheme': 0.974732, 'recall_vowel': 0.989132, 'recall_consonant': 0.992981, 'acc_grapheme': 0.973163, 'acc_vowel': 0.991336, 'acc_consonant': 0.992233, 'loss_grapheme': 0.127112, 'loss_vowel': 0.048006, 'loss_consonant': 0.037871}\n",
      "** saved\n",
      "   11 | 0.000155 | 065536/180756 | 0.0047 | 0.0078 |\n",
      "val: {'recall': 0.982892, 'recall_grapheme': 0.974654, 'recall_vowel': 0.989156, 'recall_consonant': 0.993106, 'acc_grapheme': 0.973113, 'acc_vowel': 0.991386, 'acc_consonant': 0.992282, 'loss_grapheme': 0.126271, 'loss_vowel': 0.04764, 'loss_consonant': 0.037735}\n",
      "   12 | 0.000076 | 090112/180756 | 0.0060 | 0.0081 |\n",
      "val: {'recall': 0.983147, 'recall_grapheme': 0.974909, 'recall_vowel': 0.989674, 'recall_consonant': 0.993094, 'acc_grapheme': 0.973063, 'acc_vowel': 0.991585, 'acc_consonant': 0.992233, 'loss_grapheme': 0.126519, 'loss_vowel': 0.047432, 'loss_consonant': 0.037929}\n",
      "** saved\n",
      "   13 | 0.000027 | 114688/180756 | 0.0079 | 0.0081 |\n",
      "val: {'recall': 0.982254, 'recall_grapheme': 0.974581, 'recall_vowel': 0.989179, 'recall_consonant': 0.990674, 'acc_grapheme': 0.973063, 'acc_vowel': 0.991436, 'acc_consonant': 0.992083, 'loss_grapheme': 0.126432, 'loss_vowel': 0.047605, 'loss_consonant': 0.037877}\n",
      "   14 | 0.000010 | 139264/180756 | 0.0070 | 0.0085 |\n",
      "val: {'recall': 0.982779, 'recall_grapheme': 0.974581, 'recall_vowel': 0.988871, 'recall_consonant': 0.993084, 'acc_grapheme': 0.973013, 'acc_vowel': 0.991287, 'acc_consonant': 0.992183, 'loss_grapheme': 0.126815, 'loss_vowel': 0.047502, 'loss_consonant': 0.037908}\n",
      "   15 | 0.000027 | 163840/180756 | 0.0101 | 0.0082 |\n",
      "val: {'recall': 0.982964, 'recall_grapheme': 0.974612, 'recall_vowel': 0.989592, 'recall_consonant': 0.993041, 'acc_grapheme': 0.972964, 'acc_vowel': 0.991486, 'acc_consonant': 0.992233, 'loss_grapheme': 0.126115, 'loss_vowel': 0.047411, 'loss_consonant': 0.037707}\n",
      "   17 | 0.000076 | 008192/180756 | 0.0076 | 0.0067 |\n",
      "val: {'recall': 0.98231, 'recall_grapheme': 0.974738, 'recall_vowel': 0.98901, 'recall_consonant': 0.990754, 'acc_grapheme': 0.972964, 'acc_vowel': 0.991436, 'acc_consonant': 0.992183, 'loss_grapheme': 0.127424, 'loss_vowel': 0.047722, 'loss_consonant': 0.038031}\n",
      "   18 | 0.000155 | 032768/180756 | 0.0073 | 0.0078 |\n",
      "val: {'recall': 0.982704, 'recall_grapheme': 0.974284, 'recall_vowel': 0.989188, 'recall_consonant': 0.993059, 'acc_grapheme': 0.972764, 'acc_vowel': 0.991436, 'acc_consonant': 0.992083, 'loss_grapheme': 0.126771, 'loss_vowel': 0.048038, 'loss_consonant': 0.038202}\n",
      "   19 | 0.000257 | 057344/180756 | 0.0067 | 0.0079 |\n",
      "val: {'recall': 0.982663, 'recall_grapheme': 0.974432, 'recall_vowel': 0.988811, 'recall_consonant': 0.992975, 'acc_grapheme': 0.972715, 'acc_vowel': 0.991386, 'acc_consonant': 0.991984, 'loss_grapheme': 0.127188, 'loss_vowel': 0.047941, 'loss_consonant': 0.03808}\n",
      "   20 | 0.000377 | 081920/180756 | 0.0072 | 0.0080 |\n",
      "val: {'recall': 0.981963, 'recall_grapheme': 0.973811, 'recall_vowel': 0.989478, 'recall_consonant': 0.990752, 'acc_grapheme': 0.972565, 'acc_vowel': 0.991486, 'acc_consonant': 0.991984, 'loss_grapheme': 0.125951, 'loss_vowel': 0.047338, 'loss_consonant': 0.037699}\n",
      "   21 | 0.000505 | 106496/180756 | 0.0066 | 0.0081 |\n",
      "val: {'recall': 0.981794, 'recall_grapheme': 0.973741, 'recall_vowel': 0.988962, 'recall_consonant': 0.990731, 'acc_grapheme': 0.972764, 'acc_vowel': 0.991237, 'acc_consonant': 0.992083, 'loss_grapheme': 0.128246, 'loss_vowel': 0.048141, 'loss_consonant': 0.038245}\n",
      "   22 | 0.000633 | 131072/180756 | 0.0109 | 0.0076 |\n",
      "val: {'recall': 0.981986, 'recall_grapheme': 0.974175, 'recall_vowel': 0.988825, 'recall_consonant': 0.99077, 'acc_grapheme': 0.972615, 'acc_vowel': 0.991287, 'acc_consonant': 0.992083, 'loss_grapheme': 0.127083, 'loss_vowel': 0.047982, 'loss_consonant': 0.038379}\n",
      "   23 | 0.000753 | 155648/180756 | 0.0094 | 0.0079 |\n",
      "val: {'recall': 0.981968, 'recall_grapheme': 0.974002, 'recall_vowel': 0.989518, 'recall_consonant': 0.990351, 'acc_grapheme': 0.972715, 'acc_vowel': 0.991386, 'acc_consonant': 0.991984, 'loss_grapheme': 0.126449, 'loss_vowel': 0.047563, 'loss_consonant': 0.038219}\n",
      "   24 | 0.000855 | 180224/180756 | 0.0067 | 0.0076 |\n",
      "val: {'recall': 0.982145, 'recall_grapheme': 0.974478, 'recall_vowel': 0.989172, 'recall_consonant': 0.990454, 'acc_grapheme': 0.972715, 'acc_vowel': 0.991336, 'acc_consonant': 0.992083, 'loss_grapheme': 0.1278, 'loss_vowel': 0.048132, 'loss_consonant': 0.038251}\n",
      "   26 | 0.000934 | 024576/180756 | 0.0097 | 0.0080 |\n",
      "val: {'recall': 0.982837, 'recall_grapheme': 0.974757, 'recall_vowel': 0.989177, 'recall_consonant': 0.992658, 'acc_grapheme': 0.973013, 'acc_vowel': 0.991486, 'acc_consonant': 0.992233, 'loss_grapheme': 0.127085, 'loss_vowel': 0.04807, 'loss_consonant': 0.038047}\n",
      "   27 | 0.000983 | 049152/180756 | 0.0053 | 0.0074 |\n",
      "val: {'recall': 0.982201, 'recall_grapheme': 0.974461, 'recall_vowel': 0.989315, 'recall_consonant': 0.990567, 'acc_grapheme': 0.972615, 'acc_vowel': 0.991436, 'acc_consonant': 0.992233, 'loss_grapheme': 0.126891, 'loss_vowel': 0.048164, 'loss_consonant': 0.038529}\n",
      "   28 | 0.001000 | 073728/180756 | 0.0035 | 0.0074 |\n",
      "val: {'recall': 0.982721, 'recall_grapheme': 0.975379, 'recall_vowel': 0.989396, 'recall_consonant': 0.990731, 'acc_grapheme': 0.973312, 'acc_vowel': 0.991386, 'acc_consonant': 0.992133, 'loss_grapheme': 0.126975, 'loss_vowel': 0.048255, 'loss_consonant': 0.039085}\n",
      "   29 | 0.000983 | 098304/180756 | 0.0082 | 0.0068 |\n",
      "val: {'recall': 0.981863, 'recall_grapheme': 0.973623, 'recall_vowel': 0.989231, 'recall_consonant': 0.990976, 'acc_grapheme': 0.972565, 'acc_vowel': 0.991436, 'acc_consonant': 0.992233, 'loss_grapheme': 0.128911, 'loss_vowel': 0.04873, 'loss_consonant': 0.039034}\n",
      "   30 | 0.000934 | 122880/180756 | 0.0066 | 0.0073 |\n",
      "val: {'recall': 0.982097, 'recall_grapheme': 0.974447, 'recall_vowel': 0.988945, 'recall_consonant': 0.990549, 'acc_grapheme': 0.973163, 'acc_vowel': 0.991386, 'acc_consonant': 0.992133, 'loss_grapheme': 0.126832, 'loss_vowel': 0.048471, 'loss_consonant': 0.038841}\n"
     ]
    },
    {
     "name": "stdout",
     "output_type": "stream",
     "text": [
      "   31 | 0.000855 | 147456/180756 | 0.0055 | 0.0069 |\n",
      "val: {'recall': 0.982343, 'recall_grapheme': 0.974947, 'recall_vowel': 0.988645, 'recall_consonant': 0.99083, 'acc_grapheme': 0.973163, 'acc_vowel': 0.991336, 'acc_consonant': 0.992083, 'loss_grapheme': 0.128791, 'loss_vowel': 0.048498, 'loss_consonant': 0.038961}\n",
      "   32 | 0.000753 | 172032/180756 | 0.0087 | 0.0067 |\n",
      "val: {'recall': 0.982393, 'recall_grapheme': 0.97391, 'recall_vowel': 0.988781, 'recall_consonant': 0.992972, 'acc_grapheme': 0.972615, 'acc_vowel': 0.991187, 'acc_consonant': 0.992083, 'loss_grapheme': 0.128445, 'loss_vowel': 0.049022, 'loss_consonant': 0.039081}\n",
      "   34 | 0.000633 | 016384/180756 | 0.0081 | 0.0060 |\n",
      "val: {'recall': 0.982606, 'recall_grapheme': 0.974088, 'recall_vowel': 0.98931, 'recall_consonant': 0.992935, 'acc_grapheme': 0.972814, 'acc_vowel': 0.991336, 'acc_consonant': 0.992382, 'loss_grapheme': 0.128876, 'loss_vowel': 0.049043, 'loss_consonant': 0.039166}\n",
      "   35 | 0.000505 | 040960/180756 | 0.0042 | 0.0068 |\n",
      "val: {'recall': 0.982345, 'recall_grapheme': 0.974885, 'recall_vowel': 0.989027, 'recall_consonant': 0.990583, 'acc_grapheme': 0.973013, 'acc_vowel': 0.991187, 'acc_consonant': 0.992233, 'loss_grapheme': 0.12773, 'loss_vowel': 0.048431, 'loss_consonant': 0.038926}\n",
      "   36 | 0.000377 | 065536/180756 | 0.0050 | 0.0066 |\n",
      "val: {'recall': 0.982, 'recall_grapheme': 0.974038, 'recall_vowel': 0.98937, 'recall_consonant': 0.990553, 'acc_grapheme': 0.972764, 'acc_vowel': 0.991386, 'acc_consonant': 0.992133, 'loss_grapheme': 0.128605, 'loss_vowel': 0.048385, 'loss_consonant': 0.038829}\n",
      "   37 | 0.000258 | 090112/180756 | 0.0105 | 0.0066 |\n",
      "val: {'recall': 0.982376, 'recall_grapheme': 0.974763, 'recall_vowel': 0.989372, 'recall_consonant': 0.990608, 'acc_grapheme': 0.972864, 'acc_vowel': 0.991486, 'acc_consonant': 0.992133, 'loss_grapheme': 0.128096, 'loss_vowel': 0.0483, 'loss_consonant': 0.038841}\n",
      "   38 | 0.000155 | 114688/180756 | 0.0047 | 0.0062 |\n",
      "val: {'recall': 0.982547, 'recall_grapheme': 0.974034, 'recall_vowel': 0.989109, 'recall_consonant': 0.993011, 'acc_grapheme': 0.973063, 'acc_vowel': 0.991336, 'acc_consonant': 0.992233, 'loss_grapheme': 0.127662, 'loss_vowel': 0.048382, 'loss_consonant': 0.038733}\n",
      "   39 | 0.000076 | 139264/180756 | 0.0090 | 0.0066 |\n",
      "val: {'recall': 0.982015, 'recall_grapheme': 0.974183, 'recall_vowel': 0.989342, 'recall_consonant': 0.990351, 'acc_grapheme': 0.972864, 'acc_vowel': 0.991436, 'acc_consonant': 0.992083, 'loss_grapheme': 0.127956, 'loss_vowel': 0.048541, 'loss_consonant': 0.038791}\n",
      "   40 | 0.000027 | 163840/180756 | 0.0048 | 0.0059 |\n",
      "val: {'recall': 0.982185, 'recall_grapheme': 0.974376, 'recall_vowel': 0.989345, 'recall_consonant': 0.990644, 'acc_grapheme': 0.972964, 'acc_vowel': 0.991436, 'acc_consonant': 0.992083, 'loss_grapheme': 0.127382, 'loss_vowel': 0.0482, 'loss_consonant': 0.038864}\n",
      "   42 | 0.000010 | 008192/180756 | 0.0046 | 0.0063 |\n",
      "val: {'recall': 0.982289, 'recall_grapheme': 0.974771, 'recall_vowel': 0.98917, 'recall_consonant': 0.990447, 'acc_grapheme': 0.973063, 'acc_vowel': 0.991336, 'acc_consonant': 0.992033, 'loss_grapheme': 0.127744, 'loss_vowel': 0.048464, 'loss_consonant': 0.038839}\n",
      "   43 | 0.000027 | 032768/180756 | 0.0058 | 0.0065 |\n",
      "val: {'recall': 0.982244, 'recall_grapheme': 0.974731, 'recall_vowel': 0.989109, 'recall_consonant': 0.990404, 'acc_grapheme': 0.972964, 'acc_vowel': 0.991336, 'acc_consonant': 0.992083, 'loss_grapheme': 0.127664, 'loss_vowel': 0.048187, 'loss_consonant': 0.038664}\n",
      "   44 | 0.000076 | 057344/180756 | 0.0070 | 0.0059 |\n",
      "val: {'recall': 0.982897, 'recall_grapheme': 0.974382, 'recall_vowel': 0.989748, 'recall_consonant': 0.993076, 'acc_grapheme': 0.973013, 'acc_vowel': 0.991536, 'acc_consonant': 0.992183, 'loss_grapheme': 0.127075, 'loss_vowel': 0.048266, 'loss_consonant': 0.038808}\n",
      "   45 | 0.000155 | 081920/180756 | 0.0084 | 0.0059 |\n",
      "val: {'recall': 0.981763, 'recall_grapheme': 0.973472, 'recall_vowel': 0.989471, 'recall_consonant': 0.990638, 'acc_grapheme': 0.972764, 'acc_vowel': 0.991486, 'acc_consonant': 0.992083, 'loss_grapheme': 0.127448, 'loss_vowel': 0.04843, 'loss_consonant': 0.03921}\n",
      "   46 | 0.000258 | 106496/180756 | 0.0061 | 0.0062 |\n",
      "val: {'recall': 0.982184, 'recall_grapheme': 0.974376, 'recall_vowel': 0.989393, 'recall_consonant': 0.990589, 'acc_grapheme': 0.972615, 'acc_vowel': 0.991436, 'acc_consonant': 0.992083, 'loss_grapheme': 0.129112, 'loss_vowel': 0.048628, 'loss_consonant': 0.038989}\n",
      "   47 | 0.000377 | 131072/180756 | 0.0052 | 0.0062 |\n",
      "val: {'recall': 0.982348, 'recall_grapheme': 0.974501, 'recall_vowel': 0.989582, 'recall_consonant': 0.990808, 'acc_grapheme': 0.972515, 'acc_vowel': 0.991336, 'acc_consonant': 0.992233, 'loss_grapheme': 0.128149, 'loss_vowel': 0.04856, 'loss_consonant': 0.0392}\n",
      "   48 | 0.000505 | 155648/180756 | 0.0058 | 0.0061 |\n",
      "val: {'recall': 0.982215, 'recall_grapheme': 0.974651, 'recall_vowel': 0.989168, 'recall_consonant': 0.990392, 'acc_grapheme': 0.972914, 'acc_vowel': 0.991386, 'acc_consonant': 0.992033, 'loss_grapheme': 0.128122, 'loss_vowel': 0.048758, 'loss_consonant': 0.038862}\n",
      "   49 | 0.000633 | 180224/180756 | 0.0043 | 0.0063 |\n",
      "val: {'recall': 0.982353, 'recall_grapheme': 0.975044, 'recall_vowel': 0.988943, 'recall_consonant': 0.99038, 'acc_grapheme': 0.972665, 'acc_vowel': 0.991137, 'acc_consonant': 0.992083, 'loss_grapheme': 0.130031, 'loss_vowel': 0.049223, 'loss_consonant': 0.039186}\n",
      "   51 | 0.000752 | 024576/180756 | 0.0043 | 0.0054 |\n",
      "val: {'recall': 0.982894, 'recall_grapheme': 0.975017, 'recall_vowel': 0.988735, 'recall_consonant': 0.992808, 'acc_grapheme': 0.972964, 'acc_vowel': 0.991137, 'acc_consonant': 0.992083, 'loss_grapheme': 0.127329, 'loss_vowel': 0.048731, 'loss_consonant': 0.039282}\n",
      "   52 | 0.000855 | 049152/180756 | 0.0036 | 0.0074 |\n",
      "val: {'recall': 0.982596, 'recall_grapheme': 0.974159, 'recall_vowel': 0.98918, 'recall_consonant': 0.992885, 'acc_grapheme': 0.972466, 'acc_vowel': 0.991237, 'acc_consonant': 0.992133, 'loss_grapheme': 0.130043, 'loss_vowel': 0.048967, 'loss_consonant': 0.039076}\n",
      "   53 | 0.000934 | 073728/180756 | 0.0053 | 0.0065 |\n",
      "val: {'recall': 0.982847, 'recall_grapheme': 0.974344, 'recall_vowel': 0.989632, 'recall_consonant': 0.99307, 'acc_grapheme': 0.972814, 'acc_vowel': 0.991386, 'acc_consonant': 0.992233, 'loss_grapheme': 0.128273, 'loss_vowel': 0.048227, 'loss_consonant': 0.038974}\n",
      "   54 | 0.000983 | 098304/180756 | 0.0070 | 0.0064 |\n",
      "val: {'recall': 0.983049, 'recall_grapheme': 0.974999, 'recall_vowel': 0.989438, 'recall_consonant': 0.992758, 'acc_grapheme': 0.972914, 'acc_vowel': 0.991436, 'acc_consonant': 0.992282, 'loss_grapheme': 0.12804, 'loss_vowel': 0.048306, 'loss_consonant': 0.038691}\n",
      "   55 | 0.001000 | 122880/180756 | 0.0048 | 0.0058 |\n",
      "val: {'recall': 0.982692, 'recall_grapheme': 0.974137, 'recall_vowel': 0.989548, 'recall_consonant': 0.992945, 'acc_grapheme': 0.972964, 'acc_vowel': 0.991336, 'acc_consonant': 0.992382, 'loss_grapheme': 0.130369, 'loss_vowel': 0.0487, 'loss_consonant': 0.039539}\n",
      "   56 | 0.000983 | 147456/180756 | 0.0032 | 0.0058 |\n",
      "val: {'recall': 0.982984, 'recall_grapheme': 0.974616, 'recall_vowel': 0.989759, 'recall_consonant': 0.992946, 'acc_grapheme': 0.972864, 'acc_vowel': 0.991287, 'acc_consonant': 0.992382, 'loss_grapheme': 0.128861, 'loss_vowel': 0.048951, 'loss_consonant': 0.040152}\n",
      "   57 | 0.000934 | 172032/180756 | 0.0069 | 0.0059 |\n",
      "val: {'recall': 0.982498, 'recall_grapheme': 0.973832, 'recall_vowel': 0.989566, 'recall_consonant': 0.992762, 'acc_grapheme': 0.972466, 'acc_vowel': 0.991486, 'acc_consonant': 0.992083, 'loss_grapheme': 0.130093, 'loss_vowel': 0.048601, 'loss_consonant': 0.039682}\n",
      "   59 | 0.000855 | 016384/180756 | 0.0052 | 0.0058 |\n",
      "val: {'recall': 0.982575, 'recall_grapheme': 0.973837, 'recall_vowel': 0.989658, 'recall_consonant': 0.992967, 'acc_grapheme': 0.972565, 'acc_vowel': 0.991386, 'acc_consonant': 0.992033, 'loss_grapheme': 0.129326, 'loss_vowel': 0.048765, 'loss_consonant': 0.040678}\n",
      "   60 | 0.000753 | 040960/180756 | 0.0076 | 0.0062 |\n",
      "val: {'recall': 0.982504, 'recall_grapheme': 0.973984, 'recall_vowel': 0.989307, 'recall_consonant': 0.992739, 'acc_grapheme': 0.972665, 'acc_vowel': 0.991287, 'acc_consonant': 0.991984, 'loss_grapheme': 0.130033, 'loss_vowel': 0.048871, 'loss_consonant': 0.040204}\n"
     ]
    },
    {
     "name": "stdout",
     "output_type": "stream",
     "text": [
      "   61 | 0.000633 | 065536/180756 | 0.0110 | 0.0052 |\n",
      "val: {'recall': 0.982469, 'recall_grapheme': 0.973893, 'recall_vowel': 0.989394, 'recall_consonant': 0.992695, 'acc_grapheme': 0.972316, 'acc_vowel': 0.991336, 'acc_consonant': 0.991834, 'loss_grapheme': 0.129449, 'loss_vowel': 0.049014, 'loss_consonant': 0.040352}\n",
      "   62 | 0.000505 | 090112/180756 | 0.0028 | 0.0059 |\n",
      "val: {'recall': 0.98264, 'recall_grapheme': 0.973971, 'recall_vowel': 0.98992, 'recall_consonant': 0.992697, 'acc_grapheme': 0.972515, 'acc_vowel': 0.991635, 'acc_consonant': 0.991834, 'loss_grapheme': 0.129308, 'loss_vowel': 0.048557, 'loss_consonant': 0.040261}\n",
      "   63 | 0.000377 | 114688/180756 | 0.0059 | 0.0056 |\n",
      "val: {'recall': 0.982804, 'recall_grapheme': 0.974671, 'recall_vowel': 0.989057, 'recall_consonant': 0.992818, 'acc_grapheme': 0.972665, 'acc_vowel': 0.991287, 'acc_consonant': 0.991884, 'loss_grapheme': 0.130004, 'loss_vowel': 0.049055, 'loss_consonant': 0.040358}\n",
      "   64 | 0.000258 | 139264/180756 | 0.0071 | 0.0058 |\n",
      "val: {'recall': 0.983022, 'recall_grapheme': 0.974836, 'recall_vowel': 0.989639, 'recall_consonant': 0.992775, 'acc_grapheme': 0.973063, 'acc_vowel': 0.991386, 'acc_consonant': 0.991934, 'loss_grapheme': 0.129215, 'loss_vowel': 0.049047, 'loss_consonant': 0.040063}\n",
      "   65 | 0.000155 | 163840/180756 | 0.0041 | 0.0054 |\n",
      "val: {'recall': 0.982625, 'recall_grapheme': 0.974248, 'recall_vowel': 0.989294, 'recall_consonant': 0.992708, 'acc_grapheme': 0.972764, 'acc_vowel': 0.991237, 'acc_consonant': 0.991884, 'loss_grapheme': 0.129341, 'loss_vowel': 0.049399, 'loss_consonant': 0.040231}\n",
      "   67 | 0.000076 | 008192/180756 | 0.0021 | 0.0042 |\n",
      "val: {'recall': 0.982813, 'recall_grapheme': 0.974569, 'recall_vowel': 0.989416, 'recall_consonant': 0.992697, 'acc_grapheme': 0.973013, 'acc_vowel': 0.991436, 'acc_consonant': 0.991834, 'loss_grapheme': 0.129461, 'loss_vowel': 0.04899, 'loss_consonant': 0.040094}\n",
      "   68 | 0.000027 | 032768/180756 | 0.0042 | 0.0059 |\n",
      "val: {'recall': 0.982964, 'recall_grapheme': 0.974469, 'recall_vowel': 0.989943, 'recall_consonant': 0.992975, 'acc_grapheme': 0.972764, 'acc_vowel': 0.991635, 'acc_consonant': 0.992083, 'loss_grapheme': 0.129324, 'loss_vowel': 0.049024, 'loss_consonant': 0.040218}\n",
      "   69 | 0.000010 | 057344/180756 | 0.0033 | 0.0051 |\n",
      "val: {'recall': 0.982625, 'recall_grapheme': 0.974007, 'recall_vowel': 0.989656, 'recall_consonant': 0.992829, 'acc_grapheme': 0.972615, 'acc_vowel': 0.991386, 'acc_consonant': 0.991934, 'loss_grapheme': 0.128793, 'loss_vowel': 0.049089, 'loss_consonant': 0.039975}\n",
      "   70 | 0.000027 | 081920/180756 | 0.0023 | 0.0056 |\n",
      "val: {'recall': 0.982893, 'recall_grapheme': 0.974542, 'recall_vowel': 0.989675, 'recall_consonant': 0.992813, 'acc_grapheme': 0.972914, 'acc_vowel': 0.991436, 'acc_consonant': 0.992083, 'loss_grapheme': 0.129383, 'loss_vowel': 0.049136, 'loss_consonant': 0.040235}\n",
      "   71 | 0.000076 | 106496/180756 | 0.0022 | 0.0052 |\n",
      "val: {'recall': 0.982819, 'recall_grapheme': 0.974429, 'recall_vowel': 0.989628, 'recall_consonant': 0.992789, 'acc_grapheme': 0.973163, 'acc_vowel': 0.991386, 'acc_consonant': 0.991984, 'loss_grapheme': 0.129112, 'loss_vowel': 0.049315, 'loss_consonant': 0.040167}\n",
      "   72 | 0.000155 | 131072/180756 | 0.0066 | 0.0054 |\n",
      "val: {'recall': 0.982664, 'recall_grapheme': 0.974105, 'recall_vowel': 0.989671, 'recall_consonant': 0.992775, 'acc_grapheme': 0.972615, 'acc_vowel': 0.991436, 'acc_consonant': 0.991934, 'loss_grapheme': 0.129255, 'loss_vowel': 0.048862, 'loss_consonant': 0.040088}\n",
      "   73 | 0.000257 | 155648/180756 | 0.0083 | 0.0056 |\n",
      "val: {'recall': 0.98258, 'recall_grapheme': 0.974066, 'recall_vowel': 0.989402, 'recall_consonant': 0.992787, 'acc_grapheme': 0.972665, 'acc_vowel': 0.991386, 'acc_consonant': 0.991984, 'loss_grapheme': 0.128802, 'loss_vowel': 0.049082, 'loss_consonant': 0.040083}\n",
      "   74 | 0.000377 | 180224/180756 | 0.0024 | 0.0052 |\n",
      "val: {'recall': 0.982751, 'recall_grapheme': 0.974274, 'recall_vowel': 0.989592, 'recall_consonant': 0.992865, 'acc_grapheme': 0.972466, 'acc_vowel': 0.991386, 'acc_consonant': 0.992083, 'loss_grapheme': 0.12956, 'loss_vowel': 0.048864, 'loss_consonant': 0.040139}\n",
      "   75 | 0.000505 | 137216/180756 | 0.0076 | 0.0057 |"
     ]
    },
    {
     "name": "stderr",
     "output_type": "stream",
     "text": [
      "ERROR:root:Internal Python error in the inspect module.\n",
      "Below is the traceback from this internal error.\n",
      "\n"
     ]
    },
    {
     "name": "stdout",
     "output_type": "stream",
     "text": [
      "Traceback (most recent call last):\n",
      "  File \"/home/chec/anaconda3/lib/python3.7/site-packages/IPython/core/interactiveshell.py\", line 3325, in run_code\n",
      "    exec(code_obj, self.user_global_ns, self.user_ns)\n",
      "  File \"<ipython-input-20-4a92867c1c07>\", line 1, in <module>\n",
      "    train(args) # Apex SGD\n",
      "  File \"<ipython-input-16-81569c8b0ae7>\", line 57, in train\n",
      "    scaled_loss.backward()\n",
      "  File \"/home/chec/anaconda3/lib/python3.7/contextlib.py\", line 119, in __exit__\n",
      "    next(self.gen)\n",
      "  File \"/home/chec/anaconda3/lib/python3.7/site-packages/apex/amp/handle.py\", line 127, in scale_loss\n",
      "    should_skip = False if delay_overflow_check else loss_scaler.update_scale()\n",
      "  File \"/home/chec/anaconda3/lib/python3.7/site-packages/apex/amp/scaler.py\", line 200, in update_scale\n",
      "    self._has_overflow = self._overflow_buf.item()\n",
      "KeyboardInterrupt\n",
      "\n",
      "During handling of the above exception, another exception occurred:\n",
      "\n",
      "Traceback (most recent call last):\n",
      "  File \"/home/chec/anaconda3/lib/python3.7/site-packages/IPython/core/interactiveshell.py\", line 2039, in showtraceback\n",
      "    stb = value._render_traceback_()\n",
      "AttributeError: 'KeyboardInterrupt' object has no attribute '_render_traceback_'\n",
      "\n",
      "During handling of the above exception, another exception occurred:\n",
      "\n",
      "Traceback (most recent call last):\n",
      "  File \"/home/chec/anaconda3/lib/python3.7/site-packages/IPython/core/ultratb.py\", line 1101, in get_records\n",
      "    return _fixed_getinnerframes(etb, number_of_lines_of_context, tb_offset)\n",
      "  File \"/home/chec/anaconda3/lib/python3.7/site-packages/IPython/core/ultratb.py\", line 319, in wrapped\n",
      "    return f(*args, **kwargs)\n",
      "  File \"/home/chec/anaconda3/lib/python3.7/site-packages/IPython/core/ultratb.py\", line 353, in _fixed_getinnerframes\n",
      "    records = fix_frame_records_filenames(inspect.getinnerframes(etb, context))\n",
      "  File \"/home/chec/anaconda3/lib/python3.7/inspect.py\", line 1502, in getinnerframes\n",
      "    frameinfo = (tb.tb_frame,) + getframeinfo(tb, context)\n",
      "  File \"/home/chec/anaconda3/lib/python3.7/inspect.py\", line 1460, in getframeinfo\n",
      "    filename = getsourcefile(frame) or getfile(frame)\n",
      "  File \"/home/chec/anaconda3/lib/python3.7/inspect.py\", line 696, in getsourcefile\n",
      "    if getattr(getmodule(object, filename), '__loader__', None) is not None:\n",
      "  File \"/home/chec/anaconda3/lib/python3.7/inspect.py\", line 739, in getmodule\n",
      "    f = getabsfile(module)\n",
      "  File \"/home/chec/anaconda3/lib/python3.7/inspect.py\", line 708, in getabsfile\n",
      "    _filename = getsourcefile(object) or getfile(object)\n",
      "  File \"/home/chec/anaconda3/lib/python3.7/inspect.py\", line 693, in getsourcefile\n",
      "    if os.path.exists(filename):\n",
      "  File \"/home/chec/anaconda3/lib/python3.7/genericpath.py\", line 19, in exists\n",
      "    os.stat(path)\n",
      "KeyboardInterrupt\n"
     ]
    },
    {
     "ename": "KeyboardInterrupt",
     "evalue": "",
     "output_type": "error",
     "traceback": [
      "\u001b[0;31m---------------------------------------------------------------------------\u001b[0m"
     ]
    }
   ],
   "source": [
    "train(args) # Apex SGD"
   ]
  },
  {
   "cell_type": "code",
   "execution_count": null,
   "metadata": {},
   "outputs": [
    {
     "name": "stdout",
     "output_type": "stream",
     "text": [
      "{'recall': 0.983147, 'recall_grapheme': 0.974909, 'recall_vowel': 0.989674, 'recall_consonant': 0.993094, 'acc_grapheme': 0.973063, 'acc_vowel': 0.991585, 'acc_consonant': 0.992233, 'loss_grapheme': 0.126519, 'loss_vowel': 0.047432, 'loss_consonant': 0.037929}\n",
      "    1 | 0.000020 | 024576/180756 | 5.7210 | 2.6666 ||\n",
      "val: {'recall': 0.981172, 'recall_grapheme': 0.971893, 'recall_vowel': 0.989702, 'recall_consonant': 0.991199, 'acc_grapheme': 0.967885, 'acc_vowel': 0.989544, 'acc_consonant': 0.99039, 'loss_grapheme': 0.263436, 'loss_vowel': 0.153146, 'loss_consonant': 0.100355}\n",
      "    2 | 0.000020 | 049152/180756 | 0.0783 | 2.3923 |\n",
      "val: {'recall': 0.97954, 'recall_grapheme': 0.971556, 'recall_vowel': 0.987062, 'recall_consonant': 0.987986, 'acc_grapheme': 0.969478, 'acc_vowel': 0.989295, 'acc_consonant': 0.990888, 'loss_grapheme': 0.186489, 'loss_vowel': 0.101806, 'loss_consonant': 0.071031}\n",
      "    3 | 0.000019 | 073728/180756 | 0.0364 | 1.9414 |\n",
      "val: {'recall': 0.980825, 'recall_grapheme': 0.972274, 'recall_vowel': 0.988009, 'recall_consonant': 0.990745, 'acc_grapheme': 0.969677, 'acc_vowel': 0.990042, 'acc_consonant': 0.991187, 'loss_grapheme': 0.159714, 'loss_vowel': 0.08184, 'loss_consonant': 0.060258}\n",
      "    4 | 0.000017 | 098304/180756 | 4.7777 | 2.1867 |\n",
      "val: {'recall': 0.981354, 'recall_grapheme': 0.972059, 'recall_vowel': 0.987415, 'recall_consonant': 0.993886, 'acc_grapheme': 0.969727, 'acc_vowel': 0.989494, 'acc_consonant': 0.990988, 'loss_grapheme': 0.229348, 'loss_vowel': 0.140723, 'loss_consonant': 0.096207}\n",
      "    5 | 0.000015 | 122880/180756 | 5.1612 | 2.3132 |\n",
      "val: {'recall': 0.979441, 'recall_grapheme': 0.971156, 'recall_vowel': 0.986906, 'recall_consonant': 0.988543, 'acc_grapheme': 0.969777, 'acc_vowel': 0.989146, 'acc_consonant': 0.990938, 'loss_grapheme': 0.226605, 'loss_vowel': 0.125271, 'loss_consonant': 0.087773}\n",
      "    6 | 0.000013 | 147456/180756 | 1.7588 | 1.8441 |\n",
      "val: {'recall': 0.980657, 'recall_grapheme': 0.97301, 'recall_vowel': 0.985512, 'recall_consonant': 0.991098, 'acc_grapheme': 0.970773, 'acc_vowel': 0.989345, 'acc_consonant': 0.991336, 'loss_grapheme': 0.144521, 'loss_vowel': 0.073766, 'loss_consonant': 0.053556}\n",
      "    7 | 0.000011 | 172032/180756 | 4.5104 | 2.0455 |\n",
      "val: {'recall': 0.978401, 'recall_grapheme': 0.969391, 'recall_vowel': 0.986196, 'recall_consonant': 0.988625, 'acc_grapheme': 0.969528, 'acc_vowel': 0.989892, 'acc_consonant': 0.991585, 'loss_grapheme': 0.133008, 'loss_vowel': 0.058397, 'loss_consonant': 0.044096}\n",
      "    9 | 0.000008 | 016384/180756 | 0.0347 | 1.1092 |\n",
      "val: {'recall': 0.980587, 'recall_grapheme': 0.97238, 'recall_vowel': 0.986334, 'recall_consonant': 0.991254, 'acc_grapheme': 0.969877, 'acc_vowel': 0.990141, 'acc_consonant': 0.991585, 'loss_grapheme': 0.124083, 'loss_vowel': 0.052069, 'loss_consonant': 0.041259}\n",
      "   10 | 0.000006 | 040960/180756 | 0.0323 | 2.2172 |\n",
      "val: {'recall': 0.979898, 'recall_grapheme': 0.971157, 'recall_vowel': 0.985933, 'recall_consonant': 0.991347, 'acc_grapheme': 0.969877, 'acc_vowel': 0.989544, 'acc_consonant': 0.991735, 'loss_grapheme': 0.131472, 'loss_vowel': 0.059063, 'loss_consonant': 0.044057}\n",
      "   11 | 0.000004 | 065536/180756 | 0.0264 | 2.1348 |\n",
      "val: {'recall': 0.980057, 'recall_grapheme': 0.971312, 'recall_vowel': 0.986648, 'recall_consonant': 0.990955, 'acc_grapheme': 0.970374, 'acc_vowel': 0.990092, 'acc_consonant': 0.991486, 'loss_grapheme': 0.126286, 'loss_vowel': 0.054138, 'loss_consonant': 0.041921}\n",
      "   12 | 0.000002 | 090112/180756 | 3.7557 | 2.2101 |\n",
      "val: {'recall': 0.980211, 'recall_grapheme': 0.971297, 'recall_vowel': 0.986684, 'recall_consonant': 0.991565, 'acc_grapheme': 0.969827, 'acc_vowel': 0.990042, 'acc_consonant': 0.991785, 'loss_grapheme': 0.169182, 'loss_vowel': 0.09207, 'loss_consonant': 0.065932}\n",
      "   13 | 0.000001 | 114688/180756 | 5.7814 | 1.7651 |\n",
      "val: {'recall': 0.980666, 'recall_grapheme': 0.971879, 'recall_vowel': 0.987311, 'recall_consonant': 0.991594, 'acc_grapheme': 0.970325, 'acc_vowel': 0.990341, 'acc_consonant': 0.991884, 'loss_grapheme': 0.148539, 'loss_vowel': 0.079459, 'loss_consonant': 0.058335}\n",
      "   14 | 0.000001 | 139264/180756 | 0.0435 | 1.9546 |\n",
      "val: {'recall': 0.980703, 'recall_grapheme': 0.972232, 'recall_vowel': 0.98684, 'recall_consonant': 0.991509, 'acc_grapheme': 0.970574, 'acc_vowel': 0.990141, 'acc_consonant': 0.991984, 'loss_grapheme': 0.13883, 'loss_vowel': 0.068233, 'loss_consonant': 0.049492}\n",
      "   15 | 0.000001 | 163840/180756 | 4.7184 | 1.7433 |\n",
      "val: {'recall': 0.97977, 'recall_grapheme': 0.970823, 'recall_vowel': 0.986336, 'recall_consonant': 0.991097, 'acc_grapheme': 0.970026, 'acc_vowel': 0.990042, 'acc_consonant': 0.991834, 'loss_grapheme': 0.136173, 'loss_vowel': 0.063677, 'loss_consonant': 0.046795}\n",
      "   17 | 0.000002 | 008192/180756 | 0.0207 | 1.6865 |\n",
      "val: {'recall': 0.980329, 'recall_grapheme': 0.971263, 'recall_vowel': 0.987173, 'recall_consonant': 0.991616, 'acc_grapheme': 0.970125, 'acc_vowel': 0.99044, 'acc_consonant': 0.992033, 'loss_grapheme': 0.136684, 'loss_vowel': 0.067016, 'loss_consonant': 0.050068}\n",
      "   18 | 0.000004 | 032768/180756 | 0.0247 | 1.5158 |\n",
      "val: {'recall': 0.978548, 'recall_grapheme': 0.969751, 'recall_vowel': 0.985882, 'recall_consonant': 0.988806, 'acc_grapheme': 0.970275, 'acc_vowel': 0.989892, 'acc_consonant': 0.991785, 'loss_grapheme': 0.126632, 'loss_vowel': 0.052969, 'loss_consonant': 0.040924}\n",
      "   19 | 0.000006 | 057344/180756 | 0.0273 | 1.8586 |\n",
      "val: {'recall': 0.979753, 'recall_grapheme': 0.970471, 'recall_vowel': 0.986609, 'recall_consonant': 0.991459, 'acc_grapheme': 0.969976, 'acc_vowel': 0.990141, 'acc_consonant': 0.991934, 'loss_grapheme': 0.133773, 'loss_vowel': 0.060572, 'loss_consonant': 0.045625}\n",
      "   20 | 0.000008 | 081920/180756 | 0.0248 | 1.8640 |\n",
      "val: {'recall': 0.98092, 'recall_grapheme': 0.972678, 'recall_vowel': 0.986334, 'recall_consonant': 0.991989, 'acc_grapheme': 0.969777, 'acc_vowel': 0.990042, 'acc_consonant': 0.992482, 'loss_grapheme': 0.141792, 'loss_vowel': 0.070504, 'loss_consonant': 0.050719}\n",
      "   21 | 0.000010 | 106496/180756 | 1.7182 | 1.8276 |\n",
      "val: {'recall': 0.97995, 'recall_grapheme': 0.970655, 'recall_vowel': 0.987008, 'recall_consonant': 0.991484, 'acc_grapheme': 0.969329, 'acc_vowel': 0.990141, 'acc_consonant': 0.992282, 'loss_grapheme': 0.136043, 'loss_vowel': 0.061291, 'loss_consonant': 0.046879}\n",
      "   22 | 0.000013 | 131072/180756 | 0.0207 | 2.0717 |\n",
      "val: {'recall': 0.978664, 'recall_grapheme': 0.970286, 'recall_vowel': 0.986449, 'recall_consonant': 0.987633, 'acc_grapheme': 0.969827, 'acc_vowel': 0.990092, 'acc_consonant': 0.991934, 'loss_grapheme': 0.12273, 'loss_vowel': 0.046219, 'loss_consonant': 0.036127}\n",
      "   23 | 0.000015 | 155648/180756 | 4.1131 | 1.8198 |\n",
      "val: {'recall': 0.980578, 'recall_grapheme': 0.971991, 'recall_vowel': 0.986621, 'recall_consonant': 0.991708, 'acc_grapheme': 0.970374, 'acc_vowel': 0.990341, 'acc_consonant': 0.992083, 'loss_grapheme': 0.149199, 'loss_vowel': 0.072937, 'loss_consonant': 0.053953}\n",
      "   24 | 0.000017 | 180224/180756 | 0.0360 | 1.9572 |\n",
      "val: {'recall': 0.979935, 'recall_grapheme': 0.972348, 'recall_vowel': 0.987287, 'recall_consonant': 0.987755, 'acc_grapheme': 0.969478, 'acc_vowel': 0.99044, 'acc_consonant': 0.991884, 'loss_grapheme': 0.171643, 'loss_vowel': 0.086729, 'loss_consonant': 0.060056}\n",
      "   26 | 0.000019 | 024576/180756 | 4.7124 | 1.5345 |\n",
      "val: {'recall': 0.980912, 'recall_grapheme': 0.972766, 'recall_vowel': 0.987334, 'recall_consonant': 0.990782, 'acc_grapheme': 0.971271, 'acc_vowel': 0.99059, 'acc_consonant': 0.992183, 'loss_grapheme': 0.12728, 'loss_vowel': 0.052048, 'loss_consonant': 0.038694}\n",
      "   27 | 0.000020 | 049152/180756 | 0.0382 | 2.2631 |\n",
      "val: {'recall': 0.980532, 'recall_grapheme': 0.973382, 'recall_vowel': 0.98625, 'recall_consonant': 0.989115, 'acc_grapheme': 0.970872, 'acc_vowel': 0.990639, 'acc_consonant': 0.992382, 'loss_grapheme': 0.122796, 'loss_vowel': 0.051893, 'loss_consonant': 0.03874}\n",
      "   28 | 0.000020 | 073728/180756 | 4.2419 | 1.8179 |\n",
      "val: {'recall': 0.981265, 'recall_grapheme': 0.973066, 'recall_vowel': 0.987885, 'recall_consonant': 0.991044, 'acc_grapheme': 0.970872, 'acc_vowel': 0.990938, 'acc_consonant': 0.992083, 'loss_grapheme': 0.140114, 'loss_vowel': 0.066292, 'loss_consonant': 0.046088}\n"
     ]
    },
    {
     "name": "stdout",
     "output_type": "stream",
     "text": [
      "   29 | 0.000020 | 098304/180756 | 4.6064 | 1.9091 |\n",
      "val: {'recall': 0.980497, 'recall_grapheme': 0.972465, 'recall_vowel': 0.988301, 'recall_consonant': 0.988756, 'acc_grapheme': 0.970773, 'acc_vowel': 0.990988, 'acc_consonant': 0.992083, 'loss_grapheme': 0.189531, 'loss_vowel': 0.114053, 'loss_consonant': 0.077719}\n",
      "   30 | 0.000019 | 122880/180756 | 0.0282 | 1.7532 |\n",
      "val: {'recall': 0.979144, 'recall_grapheme': 0.971385, 'recall_vowel': 0.987786, 'recall_consonant': 0.986019, 'acc_grapheme': 0.971071, 'acc_vowel': 0.990789, 'acc_consonant': 0.992083, 'loss_grapheme': 0.137733, 'loss_vowel': 0.071594, 'loss_consonant': 0.050003}\n",
      "   31 | 0.000017 | 147456/180756 | 0.0310 | 1.6442 |\n",
      "val: {'recall': 0.9809, 'recall_grapheme': 0.972822, 'recall_vowel': 0.989427, 'recall_consonant': 0.988531, 'acc_grapheme': 0.97142, 'acc_vowel': 0.991536, 'acc_consonant': 0.991984, 'loss_grapheme': 0.126061, 'loss_vowel': 0.056273, 'loss_consonant': 0.041668}\n",
      "   32 | 0.000015 | 172032/180756 | 0.0191 | 1.8586 |\n",
      "val: {'recall': 0.980843, 'recall_grapheme': 0.973886, 'recall_vowel': 0.987566, 'recall_consonant': 0.988036, 'acc_grapheme': 0.97132, 'acc_vowel': 0.991137, 'acc_consonant': 0.992183, 'loss_grapheme': 0.122365, 'loss_vowel': 0.050469, 'loss_consonant': 0.037819}\n",
      "   34 | 0.000013 | 016384/180756 | 4.8193 | 1.7918 |\n",
      "val: {'recall': 0.980703, 'recall_grapheme': 0.973123, 'recall_vowel': 0.987832, 'recall_consonant': 0.988733, 'acc_grapheme': 0.970922, 'acc_vowel': 0.991087, 'acc_consonant': 0.992482, 'loss_grapheme': 0.132588, 'loss_vowel': 0.065754, 'loss_consonant': 0.048559}\n",
      "   35 | 0.000011 | 040960/180756 | 0.0201 | 1.6110 |\n",
      "val: {'recall': 0.983081, 'recall_grapheme': 0.975009, 'recall_vowel': 0.989102, 'recall_consonant': 0.993204, 'acc_grapheme': 0.971968, 'acc_vowel': 0.991785, 'acc_consonant': 0.992183, 'loss_grapheme': 0.120753, 'loss_vowel': 0.047159, 'loss_consonant': 0.036576}\n",
      "   36 | 0.000008 | 065536/180756 | 4.6924 | 1.4636 |\n",
      "val: {'recall': 0.982304, 'recall_grapheme': 0.974765, 'recall_vowel': 0.988555, 'recall_consonant': 0.99113, 'acc_grapheme': 0.972067, 'acc_vowel': 0.991536, 'acc_consonant': 0.992233, 'loss_grapheme': 0.12247, 'loss_vowel': 0.049769, 'loss_consonant': 0.037817}\n",
      "   37 | 0.000006 | 090112/180756 | 0.7131 | 1.8793 |\n",
      "val: {'recall': 0.981891, 'recall_grapheme': 0.974076, 'recall_vowel': 0.988526, 'recall_consonant': 0.990887, 'acc_grapheme': 0.972366, 'acc_vowel': 0.991486, 'acc_consonant': 0.992631, 'loss_grapheme': 0.117705, 'loss_vowel': 0.046588, 'loss_consonant': 0.03608}\n",
      "   38 | 0.000004 | 114688/180756 | 0.0223 | 1.7880 |\n",
      "val: {'recall': 0.98264, 'recall_grapheme': 0.975034, 'recall_vowel': 0.989247, 'recall_consonant': 0.991243, 'acc_grapheme': 0.972366, 'acc_vowel': 0.991536, 'acc_consonant': 0.992631, 'loss_grapheme': 0.122063, 'loss_vowel': 0.050762, 'loss_consonant': 0.03869}\n",
      "   39 | 0.000002 | 139264/180756 | 0.0248 | 1.9989 |\n",
      "val: {'recall': 0.981713, 'recall_grapheme': 0.974767, 'recall_vowel': 0.98873, 'recall_consonant': 0.988589, 'acc_grapheme': 0.972366, 'acc_vowel': 0.991585, 'acc_consonant': 0.992432, 'loss_grapheme': 0.112593, 'loss_vowel': 0.040269, 'loss_consonant': 0.032121}\n",
      "   40 | 0.000001 | 163840/180756 | 5.2384 | 1.8376 |\n",
      "val: {'recall': 0.982344, 'recall_grapheme': 0.97477, 'recall_vowel': 0.98877, 'recall_consonant': 0.991067, 'acc_grapheme': 0.972018, 'acc_vowel': 0.991486, 'acc_consonant': 0.992332, 'loss_grapheme': 0.131889, 'loss_vowel': 0.06211, 'loss_consonant': 0.044905}\n",
      "   42 | 0.000001 | 008192/180756 | 0.0126 | 2.3171 |\n",
      "val: {'recall': 0.98229, 'recall_grapheme': 0.974662, 'recall_vowel': 0.988651, 'recall_consonant': 0.991187, 'acc_grapheme': 0.971968, 'acc_vowel': 0.991336, 'acc_consonant': 0.992432, 'loss_grapheme': 0.133654, 'loss_vowel': 0.064977, 'loss_consonant': 0.04686}\n",
      "   43 | 0.000001 | 032768/180756 | 3.1012 | 1.5604 |\n",
      "val: {'recall': 0.982527, 'recall_grapheme': 0.974995, 'recall_vowel': 0.988763, 'recall_consonant': 0.991354, 'acc_grapheme': 0.972266, 'acc_vowel': 0.991386, 'acc_consonant': 0.992482, 'loss_grapheme': 0.123717, 'loss_vowel': 0.053996, 'loss_consonant': 0.040496}\n",
      "   44 | 0.000002 | 057344/180756 | 0.0139 | 1.6088 |\n",
      "val: {'recall': 0.981851, 'recall_grapheme': 0.97485, 'recall_vowel': 0.988768, 'recall_consonant': 0.988936, 'acc_grapheme': 0.972366, 'acc_vowel': 0.991187, 'acc_consonant': 0.992332, 'loss_grapheme': 0.122827, 'loss_vowel': 0.052342, 'loss_consonant': 0.039364}\n",
      "   45 | 0.000004 | 081920/180756 | 0.0109 | 1.4173 |\n",
      "val: {'recall': 0.981457, 'recall_grapheme': 0.974323, 'recall_vowel': 0.9888, 'recall_consonant': 0.988384, 'acc_grapheme': 0.972565, 'acc_vowel': 0.991486, 'acc_consonant': 0.992282, 'loss_grapheme': 0.111965, 'loss_vowel': 0.038723, 'loss_consonant': 0.031672}\n",
      "   46 | 0.000006 | 106496/180756 | 0.0167 | 1.4549 |\n",
      "val: {'recall': 0.98204, 'recall_grapheme': 0.974684, 'recall_vowel': 0.987688, 'recall_consonant': 0.991104, 'acc_grapheme': 0.972266, 'acc_vowel': 0.991038, 'acc_consonant': 0.992531, 'loss_grapheme': 0.122149, 'loss_vowel': 0.052549, 'loss_consonant': 0.038903}\n",
      "   47 | 0.000008 | 131072/180756 | 0.0196 | 1.7254 |\n",
      "val: {'recall': 0.982353, 'recall_grapheme': 0.97469, 'recall_vowel': 0.988974, 'recall_consonant': 0.991057, 'acc_grapheme': 0.971619, 'acc_vowel': 0.991237, 'acc_consonant': 0.992282, 'loss_grapheme': 0.128187, 'loss_vowel': 0.060337, 'loss_consonant': 0.043788}\n",
      "   48 | 0.000010 | 155648/180756 | 4.8148 | 1.6653 |\n",
      "val: {'recall': 0.982044, 'recall_grapheme': 0.97385, 'recall_vowel': 0.98935, 'recall_consonant': 0.991126, 'acc_grapheme': 0.971619, 'acc_vowel': 0.991287, 'acc_consonant': 0.992432, 'loss_grapheme': 0.140264, 'loss_vowel': 0.07107, 'loss_consonant': 0.050222}\n",
      "   49 | 0.000013 | 180224/180756 | 1.5268 | 1.5423 |\n",
      "val: {'recall': 0.981622, 'recall_grapheme': 0.973857, 'recall_vowel': 0.98774, 'recall_consonant': 0.991034, 'acc_grapheme': 0.972615, 'acc_vowel': 0.991436, 'acc_consonant': 0.992631, 'loss_grapheme': 0.112313, 'loss_vowel': 0.041929, 'loss_consonant': 0.033115}\n",
      "   51 | 0.000015 | 024576/180756 | 0.0148 | 1.7354 |\n",
      "val: {'recall': 0.982548, 'recall_grapheme': 0.974033, 'recall_vowel': 0.98938, 'recall_consonant': 0.992746, 'acc_grapheme': 0.971569, 'acc_vowel': 0.991386, 'acc_consonant': 0.992282, 'loss_grapheme': 0.122525, 'loss_vowel': 0.054101, 'loss_consonant': 0.040272}\n",
      "   52 | 0.000017 | 049152/180756 | 0.0099 | 1.3681 |\n",
      "val: {'recall': 0.981094, 'recall_grapheme': 0.974292, 'recall_vowel': 0.989084, 'recall_consonant': 0.986708, 'acc_grapheme': 0.972515, 'acc_vowel': 0.991336, 'acc_consonant': 0.99288, 'loss_grapheme': 0.114407, 'loss_vowel': 0.044444, 'loss_consonant': 0.03501}\n",
      "   53 | 0.000019 | 073728/180756 | 0.0125 | 1.6431 |\n",
      "val: {'recall': 0.981754, 'recall_grapheme': 0.973534, 'recall_vowel': 0.989659, 'recall_consonant': 0.99029, 'acc_grapheme': 0.970972, 'acc_vowel': 0.991536, 'acc_consonant': 0.991884, 'loss_grapheme': 0.132947, 'loss_vowel': 0.062265, 'loss_consonant': 0.043718}\n",
      "   54 | 0.000020 | 098304/180756 | 4.2901 | 1.4734 |\n",
      "val: {'recall': 0.981691, 'recall_grapheme': 0.974271, 'recall_vowel': 0.989471, 'recall_consonant': 0.988751, 'acc_grapheme': 0.971868, 'acc_vowel': 0.991585, 'acc_consonant': 0.992631, 'loss_grapheme': 0.122, 'loss_vowel': 0.050573, 'loss_consonant': 0.039116}\n",
      "   55 | 0.000020 | 122880/180756 | 0.0140 | 1.7884 |\n",
      "val: {'recall': 0.979725, 'recall_grapheme': 0.972282, 'recall_vowel': 0.987354, 'recall_consonant': 0.986982, 'acc_grapheme': 0.97152, 'acc_vowel': 0.990838, 'acc_consonant': 0.991884, 'loss_grapheme': 0.13867, 'loss_vowel': 0.065554, 'loss_consonant': 0.04528}\n",
      "   56 | 0.000020 | 147456/180756 | 0.0248 | 1.8547 |\n",
      "val: {'recall': 0.980923, 'recall_grapheme': 0.973316, 'recall_vowel': 0.988426, 'recall_consonant': 0.988635, 'acc_grapheme': 0.971769, 'acc_vowel': 0.991287, 'acc_consonant': 0.992183, 'loss_grapheme': 0.124962, 'loss_vowel': 0.056681, 'loss_consonant': 0.043513}\n",
      "   57 | 0.000019 | 172032/180756 | 4.7919 | 1.7964 |\n",
      "val: {'recall': 0.982395, 'recall_grapheme': 0.974884, 'recall_vowel': 0.988699, 'recall_consonant': 0.991112, 'acc_grapheme': 0.971818, 'acc_vowel': 0.991187, 'acc_consonant': 0.992482, 'loss_grapheme': 0.128219, 'loss_vowel': 0.063249, 'loss_consonant': 0.046984}\n"
     ]
    },
    {
     "name": "stdout",
     "output_type": "stream",
     "text": [
      "   59 | 0.000017 | 016384/180756 | 0.0127 | 1.4066 |\n",
      "val: {'recall': 0.982532, 'recall_grapheme': 0.97377, 'recall_vowel': 0.989026, 'recall_consonant': 0.993561, 'acc_grapheme': 0.972764, 'acc_vowel': 0.991536, 'acc_consonant': 0.99283, 'loss_grapheme': 0.117088, 'loss_vowel': 0.046748, 'loss_consonant': 0.036595}\n",
      "   60 | 0.000015 | 040960/180756 | 4.1500 | 1.3401 |\n",
      "val: {'recall': 0.983276, 'recall_grapheme': 0.975226, 'recall_vowel': 0.989766, 'recall_consonant': 0.992887, 'acc_grapheme': 0.972466, 'acc_vowel': 0.991785, 'acc_consonant': 0.99288, 'loss_grapheme': 0.125649, 'loss_vowel': 0.05701, 'loss_consonant': 0.039446}\n",
      "** saved\n",
      "   61 | 0.000013 | 065536/180756 | 0.0131 | 1.5901 |\n",
      "val: {'recall': 0.981627, 'recall_grapheme': 0.973876, 'recall_vowel': 0.988431, 'recall_consonant': 0.990327, 'acc_grapheme': 0.972117, 'acc_vowel': 0.991486, 'acc_consonant': 0.992531, 'loss_grapheme': 0.128967, 'loss_vowel': 0.059829, 'loss_consonant': 0.043109}\n",
      "   62 | 0.000011 | 090112/180756 | 0.0124 | 1.6696 |\n",
      "val: {'recall': 0.983562, 'recall_grapheme': 0.97583, 'recall_vowel': 0.989461, 'recall_consonant': 0.993126, 'acc_grapheme': 0.972565, 'acc_vowel': 0.991785, 'acc_consonant': 0.99288, 'loss_grapheme': 0.136919, 'loss_vowel': 0.065982, 'loss_consonant': 0.047158}\n",
      "** saved\n",
      "   63 | 0.000008 | 114688/180756 | 4.4235 | 1.7143 |\n",
      "val: {'recall': 0.983621, 'recall_grapheme': 0.975973, 'recall_vowel': 0.989311, 'recall_consonant': 0.993225, 'acc_grapheme': 0.972565, 'acc_vowel': 0.991585, 'acc_consonant': 0.99283, 'loss_grapheme': 0.128939, 'loss_vowel': 0.061073, 'loss_consonant': 0.045605}\n",
      "** saved\n",
      "   64 | 0.000006 | 139264/180756 | 0.0120 | 1.8280 |\n",
      "val: {'recall': 0.983458, 'recall_grapheme': 0.975656, 'recall_vowel': 0.989368, 'recall_consonant': 0.99315, 'acc_grapheme': 0.973213, 'acc_vowel': 0.991884, 'acc_consonant': 0.99288, 'loss_grapheme': 0.110431, 'loss_vowel': 0.04217, 'loss_consonant': 0.032239}\n",
      "   65 | 0.000004 | 163840/180756 | 0.0123 | 1.7730 |\n",
      "val: {'recall': 0.983279, 'recall_grapheme': 0.975287, 'recall_vowel': 0.989142, 'recall_consonant': 0.9934, 'acc_grapheme': 0.972764, 'acc_vowel': 0.991585, 'acc_consonant': 0.99293, 'loss_grapheme': 0.132917, 'loss_vowel': 0.067892, 'loss_consonant': 0.046669}\n",
      "   67 | 0.000002 | 008192/180756 | 0.0105 | 1.4552 |\n",
      "val: {'recall': 0.983796, 'recall_grapheme': 0.975759, 'recall_vowel': 0.990334, 'recall_consonant': 0.993331, 'acc_grapheme': 0.972914, 'acc_vowel': 0.992033, 'acc_consonant': 0.99288, 'loss_grapheme': 0.120466, 'loss_vowel': 0.052798, 'loss_consonant': 0.039091}\n",
      "** saved\n",
      "   68 | 0.000001 | 032768/180756 | 4.1761 | 1.2069 |\n",
      "val: {'recall': 0.983634, 'recall_grapheme': 0.975975, 'recall_vowel': 0.98954, 'recall_consonant': 0.993046, 'acc_grapheme': 0.972814, 'acc_vowel': 0.991884, 'acc_consonant': 0.992979, 'loss_grapheme': 0.11474, 'loss_vowel': 0.046508, 'loss_consonant': 0.034976}\n",
      "   69 | 0.000001 | 057344/180756 | 0.0085 | 1.4262 |\n",
      "val: {'recall': 0.983678, 'recall_grapheme': 0.976049, 'recall_vowel': 0.989603, 'recall_consonant': 0.993011, 'acc_grapheme': 0.973013, 'acc_vowel': 0.991884, 'acc_consonant': 0.99288, 'loss_grapheme': 0.111733, 'loss_vowel': 0.042266, 'loss_consonant': 0.032546}\n",
      "   70 | 0.000001 | 081920/180756 | 3.8866 | 1.6380 |\n",
      "val: {'recall': 0.983468, 'recall_grapheme': 0.975474, 'recall_vowel': 0.989301, 'recall_consonant': 0.993622, 'acc_grapheme': 0.972515, 'acc_vowel': 0.991685, 'acc_consonant': 0.993079, 'loss_grapheme': 0.131609, 'loss_vowel': 0.065551, 'loss_consonant': 0.046318}\n",
      "   71 | 0.000002 | 106496/180756 | 0.8196 | 1.6246 |\n",
      "val: {'recall': 0.983424, 'recall_grapheme': 0.975075, 'recall_vowel': 0.989742, 'recall_consonant': 0.993802, 'acc_grapheme': 0.972466, 'acc_vowel': 0.991635, 'acc_consonant': 0.99288, 'loss_grapheme': 0.140885, 'loss_vowel': 0.074192, 'loss_consonant': 0.05056}\n",
      "   72 | 0.000004 | 131072/180756 | 4.4905 | 1.4911 |\n",
      "val: {'recall': 0.983228, 'recall_grapheme': 0.974997, 'recall_vowel': 0.989704, 'recall_consonant': 0.993214, 'acc_grapheme': 0.972715, 'acc_vowel': 0.991884, 'acc_consonant': 0.99288, 'loss_grapheme': 0.116815, 'loss_vowel': 0.050608, 'loss_consonant': 0.036933}\n",
      "   73 | 0.000006 | 155648/180756 | 0.0174 | 1.5329 |\n",
      "val: {'recall': 0.983419, 'recall_grapheme': 0.975394, 'recall_vowel': 0.989667, 'recall_consonant': 0.993221, 'acc_grapheme': 0.972665, 'acc_vowel': 0.991934, 'acc_consonant': 0.992979, 'loss_grapheme': 0.116654, 'loss_vowel': 0.049876, 'loss_consonant': 0.037308}\n",
      "   74 | 0.000008 | 180224/180756 | 3.6943 | 1.7369 |\n",
      "val: {'recall': 0.983343, 'recall_grapheme': 0.975102, 'recall_vowel': 0.989833, 'recall_consonant': 0.993335, 'acc_grapheme': 0.972914, 'acc_vowel': 0.991984, 'acc_consonant': 0.992979, 'loss_grapheme': 0.122183, 'loss_vowel': 0.05497, 'loss_consonant': 0.03991}\n",
      "   76 | 0.000011 | 024576/180756 | 0.0138 | 1.5619 |\n",
      "val: {'recall': 0.982938, 'recall_grapheme': 0.974108, 'recall_vowel': 0.990517, 'recall_consonant': 0.993017, 'acc_grapheme': 0.972266, 'acc_vowel': 0.992083, 'acc_consonant': 0.992681, 'loss_grapheme': 0.119184, 'loss_vowel': 0.051293, 'loss_consonant': 0.038899}\n",
      "   77 | 0.000013 | 049152/180756 | 2.4787 | 1.9918 |\n",
      "val: {'recall': 0.983592, 'recall_grapheme': 0.974872, 'recall_vowel': 0.990234, 'recall_consonant': 0.994391, 'acc_grapheme': 0.972316, 'acc_vowel': 0.992332, 'acc_consonant': 0.99283, 'loss_grapheme': 0.152029, 'loss_vowel': 0.084383, 'loss_consonant': 0.058328}\n",
      "   78 | 0.000015 | 073728/180756 | 0.0085 | 1.5004 |\n",
      "val: {'recall': 0.983573, 'recall_grapheme': 0.97623, 'recall_vowel': 0.988778, 'recall_consonant': 0.993053, 'acc_grapheme': 0.973262, 'acc_vowel': 0.991486, 'acc_consonant': 0.99283, 'loss_grapheme': 0.118335, 'loss_vowel': 0.054297, 'loss_consonant': 0.039671}\n",
      "   79 | 0.000017 | 098304/180756 | 0.9989 | 1.6883 |\n",
      "val: {'recall': 0.983967, 'recall_grapheme': 0.976806, 'recall_vowel': 0.989194, 'recall_consonant': 0.993065, 'acc_grapheme': 0.974208, 'acc_vowel': 0.991536, 'acc_consonant': 0.99288, 'loss_grapheme': 0.125411, 'loss_vowel': 0.058226, 'loss_consonant': 0.043518}\n",
      "** saved\n",
      "   80 | 0.000019 | 122880/180756 | 0.0096 | 1.4905 |\n",
      "val: {'recall': 0.983479, 'recall_grapheme': 0.975692, 'recall_vowel': 0.989295, 'recall_consonant': 0.993237, 'acc_grapheme': 0.974009, 'acc_vowel': 0.992083, 'acc_consonant': 0.993079, 'loss_grapheme': 0.11425, 'loss_vowel': 0.04798, 'loss_consonant': 0.035089}\n",
      "   81 | 0.000020 | 147456/180756 | 3.3672 | 1.6055 |\n",
      "val: {'recall': 0.982258, 'recall_grapheme': 0.973346, 'recall_vowel': 0.98849, 'recall_consonant': 0.99385, 'acc_grapheme': 0.971868, 'acc_vowel': 0.991585, 'acc_consonant': 0.99283, 'loss_grapheme': 0.146389, 'loss_vowel': 0.079944, 'loss_consonant': 0.056782}\n",
      "   82 | 0.000020 | 172032/180756 | 3.7190 | 1.7289 |\n",
      "val: {'recall': 0.98169, 'recall_grapheme': 0.974316, 'recall_vowel': 0.988842, 'recall_consonant': 0.989286, 'acc_grapheme': 0.972067, 'acc_vowel': 0.991685, 'acc_consonant': 0.992979, 'loss_grapheme': 0.131124, 'loss_vowel': 0.064826, 'loss_consonant': 0.045861}\n",
      "   84 | 0.000020 | 016384/180756 | 0.0201 | 0.5213 |\n",
      "val: {'recall': 0.982203, 'recall_grapheme': 0.974641, 'recall_vowel': 0.98869, 'recall_consonant': 0.99084, 'acc_grapheme': 0.972964, 'acc_vowel': 0.991336, 'acc_consonant': 0.993029, 'loss_grapheme': 0.108745, 'loss_vowel': 0.03875, 'loss_consonant': 0.031311}\n",
      "   85 | 0.000019 | 040960/180756 | 4.0867 | 1.8957 |\n",
      "val: {'recall': 0.981076, 'recall_grapheme': 0.974412, 'recall_vowel': 0.988501, 'recall_consonant': 0.986979, 'acc_grapheme': 0.972914, 'acc_vowel': 0.991585, 'acc_consonant': 0.99288, 'loss_grapheme': 0.201631, 'loss_vowel': 0.129556, 'loss_consonant': 0.08584}\n",
      "   86 | 0.000017 | 065536/180756 | 2.3855 | 1.7395 |\n",
      "val: {'recall': 0.982317, 'recall_grapheme': 0.974534, 'recall_vowel': 0.98914, 'recall_consonant': 0.991058, 'acc_grapheme': 0.972018, 'acc_vowel': 0.991635, 'acc_consonant': 0.99283, 'loss_grapheme': 0.130904, 'loss_vowel': 0.064578, 'loss_consonant': 0.046723}\n",
      "   87 | 0.000015 | 090112/180756 | 3.8733 | 1.6421 |\n",
      "val: {'recall': 0.983126, 'recall_grapheme': 0.97526, 'recall_vowel': 0.988586, 'recall_consonant': 0.993396, 'acc_grapheme': 0.972964, 'acc_vowel': 0.991785, 'acc_consonant': 0.993079, 'loss_grapheme': 0.118194, 'loss_vowel': 0.050351, 'loss_consonant': 0.037707}\n"
     ]
    },
    {
     "name": "stdout",
     "output_type": "stream",
     "text": [
      "   88 | 0.000013 | 114688/180756 | 2.3007 | 1.7852 |\n",
      "val: {'recall': 0.98212, 'recall_grapheme': 0.975123, 'recall_vowel': 0.989579, 'recall_consonant': 0.988658, 'acc_grapheme': 0.972715, 'acc_vowel': 0.991486, 'acc_consonant': 0.99288, 'loss_grapheme': 0.124455, 'loss_vowel': 0.057698, 'loss_consonant': 0.041985}\n",
      "   89 | 0.000011 | 139264/180756 | 3.6168 | 1.4883 |\n",
      "val: {'recall': 0.981982, 'recall_grapheme': 0.974774, 'recall_vowel': 0.989547, 'recall_consonant': 0.988834, 'acc_grapheme': 0.972814, 'acc_vowel': 0.991934, 'acc_consonant': 0.99288, 'loss_grapheme': 0.109523, 'loss_vowel': 0.039566, 'loss_consonant': 0.031646}\n",
      "   90 | 0.000008 | 163840/180756 | 0.0146 | 1.5629 |\n",
      "val: {'recall': 0.98364, 'recall_grapheme': 0.975531, 'recall_vowel': 0.989839, 'recall_consonant': 0.993661, 'acc_grapheme': 0.972565, 'acc_vowel': 0.991884, 'acc_consonant': 0.993079, 'loss_grapheme': 0.12262, 'loss_vowel': 0.055701, 'loss_consonant': 0.041536}\n",
      "   92 | 0.000006 | 008192/180756 | 4.2423 | 1.8922 |\n",
      "val: {'recall': 0.983329, 'recall_grapheme': 0.97496, 'recall_vowel': 0.989682, 'recall_consonant': 0.993716, 'acc_grapheme': 0.972466, 'acc_vowel': 0.991934, 'acc_consonant': 0.993428, 'loss_grapheme': 0.127036, 'loss_vowel': 0.060471, 'loss_consonant': 0.043743}\n",
      "   93 | 0.000004 | 032768/180756 | 1.8997 | 1.9515 |\n",
      "val: {'recall': 0.982995, 'recall_grapheme': 0.975282, 'recall_vowel': 0.989669, 'recall_consonant': 0.991746, 'acc_grapheme': 0.972515, 'acc_vowel': 0.991934, 'acc_consonant': 0.993378, 'loss_grapheme': 0.142402, 'loss_vowel': 0.075783, 'loss_consonant': 0.052923}\n",
      "   94 | 0.000002 | 057344/180756 | 0.0250 | 1.4884 |\n",
      "val: {'recall': 0.983494, 'recall_grapheme': 0.975621, 'recall_vowel': 0.989284, 'recall_consonant': 0.993449, 'acc_grapheme': 0.973213, 'acc_vowel': 0.991834, 'acc_consonant': 0.993079, 'loss_grapheme': 0.119971, 'loss_vowel': 0.055503, 'loss_consonant': 0.041072}\n",
      "   95 | 0.000001 | 081920/180756 | 1.1613 | 1.1852 |\n",
      "val: {'recall': 0.983638, 'recall_grapheme': 0.975989, 'recall_vowel': 0.989206, 'recall_consonant': 0.993367, 'acc_grapheme': 0.973412, 'acc_vowel': 0.991834, 'acc_consonant': 0.993079, 'loss_grapheme': 0.1139, 'loss_vowel': 0.047743, 'loss_consonant': 0.035656}\n",
      "   96 | 0.000001 | 106496/180756 | 0.0058 | 1.7614 |\n",
      "val: {'recall': 0.983618, 'recall_grapheme': 0.975669, 'recall_vowel': 0.989589, 'recall_consonant': 0.993546, 'acc_grapheme': 0.973013, 'acc_vowel': 0.991834, 'acc_consonant': 0.993278, 'loss_grapheme': 0.122414, 'loss_vowel': 0.056296, 'loss_consonant': 0.041214}\n",
      "   97 | 0.000001 | 131072/180756 | 4.3147 | 1.7198 |\n",
      "val: {'recall': 0.982775, 'recall_grapheme': 0.975304, 'recall_vowel': 0.989127, 'recall_consonant': 0.991364, 'acc_grapheme': 0.972764, 'acc_vowel': 0.991536, 'acc_consonant': 0.993029, 'loss_grapheme': 0.165393, 'loss_vowel': 0.099164, 'loss_consonant': 0.067142}\n",
      "   98 | 0.000002 | 155648/180756 | 4.1433 | 1.6557 |\n",
      "val: {'recall': 0.983015, 'recall_grapheme': 0.975591, 'recall_vowel': 0.98921, 'recall_consonant': 0.991669, 'acc_grapheme': 0.972615, 'acc_vowel': 0.991635, 'acc_consonant': 0.993228, 'loss_grapheme': 0.150059, 'loss_vowel': 0.083575, 'loss_consonant': 0.057187}\n",
      "   99 | 0.000004 | 180224/180756 | 0.0140 | 1.6267 |\n",
      "val: {'recall': 0.982929, 'recall_grapheme': 0.975313, 'recall_vowel': 0.989262, 'recall_consonant': 0.991827, 'acc_grapheme': 0.973013, 'acc_vowel': 0.991785, 'acc_consonant': 0.993278, 'loss_grapheme': 0.167359, 'loss_vowel': 0.097084, 'loss_consonant': 0.064444}\n",
      "  101 | 0.000006 | 024576/180756 | 2.9901 | 1.8812 |\n",
      "val: {'recall': 0.982984, 'recall_grapheme': 0.974324, 'recall_vowel': 0.989493, 'recall_consonant': 0.993797, 'acc_grapheme': 0.972416, 'acc_vowel': 0.991735, 'acc_consonant': 0.993129, 'loss_grapheme': 0.131449, 'loss_vowel': 0.065668, 'loss_consonant': 0.046901}\n",
      "  102 | 0.000008 | 049152/180756 | 0.0138 | 1.2913 |\n",
      "val: {'recall': 0.982247, 'recall_grapheme': 0.975222, 'recall_vowel': 0.98992, 'recall_consonant': 0.988624, 'acc_grapheme': 0.973213, 'acc_vowel': 0.991984, 'acc_consonant': 0.99283, 'loss_grapheme': 0.11103, 'loss_vowel': 0.04295, 'loss_consonant': 0.033528}\n",
      "  103 | 0.000011 | 073728/180756 | 0.0091 | 1.5946 |\n",
      "val: {'recall': 0.983988, 'recall_grapheme': 0.976325, 'recall_vowel': 0.989933, 'recall_consonant': 0.993371, 'acc_grapheme': 0.973959, 'acc_vowel': 0.992083, 'acc_consonant': 0.99283, 'loss_grapheme': 0.112067, 'loss_vowel': 0.044426, 'loss_consonant': 0.034143}\n",
      "** saved\n",
      "  104 | 0.000013 | 098304/180756 | 0.0081 | 1.1579 |\n",
      "val: {'recall': 0.982662, 'recall_grapheme': 0.975346, 'recall_vowel': 0.989331, 'recall_consonant': 0.990627, 'acc_grapheme': 0.973661, 'acc_vowel': 0.991735, 'acc_consonant': 0.992731, 'loss_grapheme': 0.106666, 'loss_vowel': 0.039319, 'loss_consonant': 0.030853}\n",
      "  105 | 0.000015 | 122880/180756 | 4.5175 | 1.3327 |\n",
      "val: {'recall': 0.982665, 'recall_grapheme': 0.974596, 'recall_vowel': 0.988688, 'recall_consonant': 0.99278, 'acc_grapheme': 0.972814, 'acc_vowel': 0.991685, 'acc_consonant': 0.99288, 'loss_grapheme': 0.129809, 'loss_vowel': 0.065846, 'loss_consonant': 0.049968}\n",
      "  106 | 0.000017 | 147456/180756 | 4.4684 | 1.4351 |\n",
      "val: {'recall': 0.983649, 'recall_grapheme': 0.976123, 'recall_vowel': 0.988863, 'recall_consonant': 0.993487, 'acc_grapheme': 0.973213, 'acc_vowel': 0.991735, 'acc_consonant': 0.99278, 'loss_grapheme': 0.121348, 'loss_vowel': 0.056918, 'loss_consonant': 0.044073}\n",
      "  107 | 0.000019 | 172032/180756 | 0.0065 | 1.6730 |\n",
      "val: {'recall': 0.981158, 'recall_grapheme': 0.974379, 'recall_vowel': 0.989077, 'recall_consonant': 0.986796, 'acc_grapheme': 0.972366, 'acc_vowel': 0.991585, 'acc_consonant': 0.992581, 'loss_grapheme': 0.141873, 'loss_vowel': 0.071871, 'loss_consonant': 0.052862}\n",
      "  109 | 0.000020 | 016384/180756 | 0.0095 | 1.9876 |\n",
      "val: {'recall': 0.982058, 'recall_grapheme': 0.97443, 'recall_vowel': 0.989643, 'recall_consonant': 0.98973, 'acc_grapheme': 0.972814, 'acc_vowel': 0.991984, 'acc_consonant': 0.992581, 'loss_grapheme': 0.149108, 'loss_vowel': 0.081003, 'loss_consonant': 0.055774}\n",
      "  110 | 0.000020 | 040960/180756 | 1.8966 | 2.1099 |\n",
      "val: {'recall': 0.982908, 'recall_grapheme': 0.975861, 'recall_vowel': 0.988627, 'recall_consonant': 0.991284, 'acc_grapheme': 0.97381, 'acc_vowel': 0.991785, 'acc_consonant': 0.99283, 'loss_grapheme': 0.124119, 'loss_vowel': 0.061502, 'loss_consonant': 0.045187}\n",
      "  111 | 0.000020 | 065536/180756 | 0.0091 | 1.4515 |\n",
      "val: {'recall': 0.983079, 'recall_grapheme': 0.976291, 'recall_vowel': 0.989214, 'recall_consonant': 0.99052, 'acc_grapheme': 0.973959, 'acc_vowel': 0.992033, 'acc_consonant': 0.992581, 'loss_grapheme': 0.10653, 'loss_vowel': 0.039163, 'loss_consonant': 0.031209}\n",
      "  112 | 0.000019 | 090112/180756 | 3.1121 | 2.0364 |\n",
      "val: {'recall': 0.982747, 'recall_grapheme': 0.974311, 'recall_vowel': 0.989394, 'recall_consonant': 0.992971, 'acc_grapheme': 0.973113, 'acc_vowel': 0.991984, 'acc_consonant': 0.992681, 'loss_grapheme': 0.13062, 'loss_vowel': 0.065297, 'loss_consonant': 0.04828}\n",
      "  113 | 0.000017 | 114688/180756 | 3.9662 | 1.7850 |\n",
      "val: {'recall': 0.983302, 'recall_grapheme': 0.975485, 'recall_vowel': 0.98944, 'recall_consonant': 0.992797, 'acc_grapheme': 0.973113, 'acc_vowel': 0.991884, 'acc_consonant': 0.992531, 'loss_grapheme': 0.156987, 'loss_vowel': 0.091515, 'loss_consonant': 0.065132}\n",
      "  114 | 0.000015 | 139264/180756 | 0.0091 | 1.5631 |\n",
      "val: {'recall': 0.983204, 'recall_grapheme': 0.975092, 'recall_vowel': 0.989511, 'recall_consonant': 0.993121, 'acc_grapheme': 0.973461, 'acc_vowel': 0.991984, 'acc_consonant': 0.993029, 'loss_grapheme': 0.122511, 'loss_vowel': 0.05666, 'loss_consonant': 0.041315}\n",
      "  115 | 0.000013 | 163840/180756 | 2.9819 | 1.5404 |\n",
      "val: {'recall': 0.98276, 'recall_grapheme': 0.974282, 'recall_vowel': 0.98894, 'recall_consonant': 0.993537, 'acc_grapheme': 0.973113, 'acc_vowel': 0.991785, 'acc_consonant': 0.99278, 'loss_grapheme': 0.126582, 'loss_vowel': 0.062243, 'loss_consonant': 0.047075}\n",
      "  117 | 0.000011 | 008192/180756 | 4.0322 | 1.5079 |\n",
      "val: {'recall': 0.983415, 'recall_grapheme': 0.975343, 'recall_vowel': 0.989771, 'recall_consonant': 0.993205, 'acc_grapheme': 0.973461, 'acc_vowel': 0.991884, 'acc_consonant': 0.992681, 'loss_grapheme': 0.12767, 'loss_vowel': 0.062382, 'loss_consonant': 0.045251}\n"
     ]
    },
    {
     "name": "stdout",
     "output_type": "stream",
     "text": [
      "  118 | 0.000008 | 032768/180756 | 1.0997 | 1.9548 |\n",
      "val: {'recall': 0.983783, 'recall_grapheme': 0.975969, 'recall_vowel': 0.989711, 'recall_consonant': 0.993484, 'acc_grapheme': 0.972964, 'acc_vowel': 0.992133, 'acc_consonant': 0.99288, 'loss_grapheme': 0.156604, 'loss_vowel': 0.088063, 'loss_consonant': 0.059664}\n",
      "  119 | 0.000006 | 057344/180756 | 2.3413 | 2.1154 |\n",
      "val: {'recall': 0.982804, 'recall_grapheme': 0.97419, 'recall_vowel': 0.989431, 'recall_consonant': 0.993405, 'acc_grapheme': 0.972764, 'acc_vowel': 0.991884, 'acc_consonant': 0.993029, 'loss_grapheme': 0.130602, 'loss_vowel': 0.066407, 'loss_consonant': 0.048046}\n",
      "  120 | 0.000004 | 081920/180756 | 4.5694 | 1.3260 |\n",
      "val: {'recall': 0.983733, 'recall_grapheme': 0.97578, 'recall_vowel': 0.989921, 'recall_consonant': 0.993449, 'acc_grapheme': 0.973661, 'acc_vowel': 0.991984, 'acc_consonant': 0.992979, 'loss_grapheme': 0.132431, 'loss_vowel': 0.066628, 'loss_consonant': 0.04863}\n",
      "  121 | 0.000002 | 106496/180756 | 3.8855 | 1.4843 |\n",
      "val: {'recall': 0.98338, 'recall_grapheme': 0.974894, 'recall_vowel': 0.990108, 'recall_consonant': 0.993623, 'acc_grapheme': 0.973511, 'acc_vowel': 0.992133, 'acc_consonant': 0.993179, 'loss_grapheme': 0.126692, 'loss_vowel': 0.063076, 'loss_consonant': 0.045719}\n",
      "  122 | 0.000001 | 131072/180756 | 0.0054 | 1.5607 |\n",
      "val: {'recall': 0.983569, 'recall_grapheme': 0.975425, 'recall_vowel': 0.990222, 'recall_consonant': 0.993202, 'acc_grapheme': 0.973511, 'acc_vowel': 0.992233, 'acc_consonant': 0.99288, 'loss_grapheme': 0.117445, 'loss_vowel': 0.054053, 'loss_consonant': 0.040088}\n",
      "  123 | 0.000001 | 155648/180756 | 4.8534 | 2.0330 |\n",
      "val: {'recall': 0.983676, 'recall_grapheme': 0.975727, 'recall_vowel': 0.98971, 'recall_consonant': 0.993539, 'acc_grapheme': 0.973113, 'acc_vowel': 0.992033, 'acc_consonant': 0.99288, 'loss_grapheme': 0.216559, 'loss_vowel': 0.141625, 'loss_consonant': 0.091824}\n",
      "  124 | 0.000001 | 180224/180756 | 1.8629 | 1.3740 |\n",
      "val: {'recall': 0.98397, 'recall_grapheme': 0.976236, 'recall_vowel': 0.990315, 'recall_consonant': 0.993093, 'acc_grapheme': 0.974407, 'acc_vowel': 0.992133, 'acc_consonant': 0.99288, 'loss_grapheme': 0.108674, 'loss_vowel': 0.043395, 'loss_consonant': 0.034136}\n",
      "  126 | 0.000002 | 024576/180756 | 3.8361 | 2.0313 |\n",
      "val: {'recall': 0.983574, 'recall_grapheme': 0.975525, 'recall_vowel': 0.989922, 'recall_consonant': 0.993322, 'acc_grapheme': 0.973661, 'acc_vowel': 0.992183, 'acc_consonant': 0.992979, 'loss_grapheme': 0.119492, 'loss_vowel': 0.054968, 'loss_consonant': 0.040452}\n",
      "  127 | 0.000004 | 049152/180756 | 2.6917 | 2.1707 |\n",
      "val: {'recall': 0.983562, 'recall_grapheme': 0.975256, 'recall_vowel': 0.990013, 'recall_consonant': 0.993723, 'acc_grapheme': 0.973412, 'acc_vowel': 0.992083, 'acc_consonant': 0.992979, 'loss_grapheme': 0.155267, 'loss_vowel': 0.086614, 'loss_consonant': 0.062276}\n",
      "  128 | 0.000006 | 073728/180756 | 0.0087 | 1.8415 |\n",
      "val: {'recall': 0.984524, 'recall_grapheme': 0.977354, 'recall_vowel': 0.990479, 'recall_consonant': 0.992911, 'acc_grapheme': 0.974457, 'acc_vowel': 0.992282, 'acc_consonant': 0.99283, 'loss_grapheme': 0.112679, 'loss_vowel': 0.047945, 'loss_consonant': 0.035956}\n",
      "** saved\n",
      "  129 | 0.000008 | 098304/180756 | 0.0080 | 1.4503 |\n",
      "val: {'recall': 0.9845, 'recall_grapheme': 0.977653, 'recall_vowel': 0.990072, 'recall_consonant': 0.99262, 'acc_grapheme': 0.974407, 'acc_vowel': 0.992332, 'acc_consonant': 0.992531, 'loss_grapheme': 0.10645, 'loss_vowel': 0.038028, 'loss_consonant': 0.03079}\n",
      "  130 | 0.000010 | 122880/180756 | 0.0066 | 1.4941 |\n",
      "val: {'recall': 0.982381, 'recall_grapheme': 0.974368, 'recall_vowel': 0.989813, 'recall_consonant': 0.990975, 'acc_grapheme': 0.972864, 'acc_vowel': 0.992083, 'acc_consonant': 0.992531, 'loss_grapheme': 0.129875, 'loss_vowel': 0.063221, 'loss_consonant': 0.044174}\n",
      "  131 | 0.000013 | 147456/180756 | 0.0075 | 1.4331 |\n",
      "val: {'recall': 0.983447, 'recall_grapheme': 0.975232, 'recall_vowel': 0.989708, 'recall_consonant': 0.993616, 'acc_grapheme': 0.973163, 'acc_vowel': 0.992183, 'acc_consonant': 0.993029, 'loss_grapheme': 0.119235, 'loss_vowel': 0.052582, 'loss_consonant': 0.038914}\n",
      "  132 | 0.000015 | 172032/180756 | 3.2184 | 1.6209 |\n",
      "val: {'recall': 0.983367, 'recall_grapheme': 0.975016, 'recall_vowel': 0.990009, 'recall_consonant': 0.993425, 'acc_grapheme': 0.974009, 'acc_vowel': 0.992133, 'acc_consonant': 0.993179, 'loss_grapheme': 0.108739, 'loss_vowel': 0.042027, 'loss_consonant': 0.033012}\n",
      "  134 | 0.000017 | 016384/180756 | 0.7374 | 1.6863 |\n",
      "val: {'recall': 0.983042, 'recall_grapheme': 0.975377, 'recall_vowel': 0.990551, 'recall_consonant': 0.990862, 'acc_grapheme': 0.973661, 'acc_vowel': 0.992183, 'acc_consonant': 0.99283, 'loss_grapheme': 0.125778, 'loss_vowel': 0.058935, 'loss_consonant': 0.042192}\n",
      "  135 | 0.000019 | 040960/180756 | 3.1370 | 1.4602 |\n",
      "val: {'recall': 0.983659, 'recall_grapheme': 0.975557, 'recall_vowel': 0.990226, 'recall_consonant': 0.993297, 'acc_grapheme': 0.974059, 'acc_vowel': 0.992482, 'acc_consonant': 0.992531, 'loss_grapheme': 0.121831, 'loss_vowel': 0.059078, 'loss_consonant': 0.044425}\n",
      "  136 | 0.000020 | 065536/180756 | 0.6388 | 1.7740 |\n",
      "val: {'recall': 0.983261, 'recall_grapheme': 0.976438, 'recall_vowel': 0.990357, 'recall_consonant': 0.989812, 'acc_grapheme': 0.973511, 'acc_vowel': 0.992482, 'acc_consonant': 0.992979, 'loss_grapheme': 0.156779, 'loss_vowel': 0.082514, 'loss_consonant': 0.057881}\n",
      "  137 | 0.000020 | 090112/180756 | 0.2434 | 1.3499 |\n",
      "val: {'recall': 0.983745, 'recall_grapheme': 0.975812, 'recall_vowel': 0.989956, 'recall_consonant': 0.9934, 'acc_grapheme': 0.973461, 'acc_vowel': 0.992233, 'acc_consonant': 0.992531, 'loss_grapheme': 0.119356, 'loss_vowel': 0.052159, 'loss_consonant': 0.040069}\n",
      "  138 | 0.000020 | 114688/180756 | 0.0088 | 1.4839 |\n",
      "val: {'recall': 0.984713, 'recall_grapheme': 0.976501, 'recall_vowel': 0.991343, 'recall_consonant': 0.994507, 'acc_grapheme': 0.974059, 'acc_vowel': 0.992482, 'acc_consonant': 0.99278, 'loss_grapheme': 0.116648, 'loss_vowel': 0.049702, 'loss_consonant': 0.037657}\n",
      "** saved\n",
      "  139 | 0.000019 | 139264/180756 | 0.0114 | 1.5287 |\n",
      "val: {'recall': 0.982676, 'recall_grapheme': 0.975788, 'recall_vowel': 0.990379, 'recall_consonant': 0.988748, 'acc_grapheme': 0.97376, 'acc_vowel': 0.992332, 'acc_consonant': 0.99278, 'loss_grapheme': 0.110914, 'loss_vowel': 0.04208, 'loss_consonant': 0.033298}\n",
      "  140 | 0.000017 | 163840/180756 | 1.4102 | 1.6154 |\n",
      "val: {'recall': 0.984127, 'recall_grapheme': 0.977636, 'recall_vowel': 0.990299, 'recall_consonant': 0.990936, 'acc_grapheme': 0.974656, 'acc_vowel': 0.992531, 'acc_consonant': 0.992979, 'loss_grapheme': 0.167683, 'loss_vowel': 0.095258, 'loss_consonant': 0.06632}\n",
      "  142 | 0.000015 | 008192/180756 | 1.7928 | 1.2605 |\n",
      "val: {'recall': 0.983816, 'recall_grapheme': 0.975586, 'recall_vowel': 0.990892, 'recall_consonant': 0.993202, 'acc_grapheme': 0.973959, 'acc_vowel': 0.992482, 'acc_consonant': 0.992979, 'loss_grapheme': 0.142042, 'loss_vowel': 0.077346, 'loss_consonant': 0.05419}\n",
      "  143 | 0.000013 | 032768/180756 | 3.0620 | 1.3079 |\n",
      "val: {'recall': 0.984454, 'recall_grapheme': 0.977017, 'recall_vowel': 0.990416, 'recall_consonant': 0.993366, 'acc_grapheme': 0.974457, 'acc_vowel': 0.992631, 'acc_consonant': 0.99288, 'loss_grapheme': 0.112614, 'loss_vowel': 0.046367, 'loss_consonant': 0.036034}\n",
      "  144 | 0.000010 | 057344/180756 | 0.0073 | 1.9453 |\n",
      "val: {'recall': 0.984096, 'recall_grapheme': 0.976196, 'recall_vowel': 0.990661, 'recall_consonant': 0.993331, 'acc_grapheme': 0.974557, 'acc_vowel': 0.992681, 'acc_consonant': 0.992979, 'loss_grapheme': 0.111578, 'loss_vowel': 0.048191, 'loss_consonant': 0.037128}\n",
      "  145 | 0.000008 | 081920/180756 | 0.0129 | 1.5552 |\n",
      "val: {'recall': 0.983732, 'recall_grapheme': 0.975774, 'recall_vowel': 0.989674, 'recall_consonant': 0.993706, 'acc_grapheme': 0.97391, 'acc_vowel': 0.992282, 'acc_consonant': 0.993029, 'loss_grapheme': 0.125273, 'loss_vowel': 0.060807, 'loss_consonant': 0.044757}\n",
      "  146 | 0.000006 | 106496/180756 | 3.3660 | 1.3579 |\n",
      "val: {'recall': 0.983599, 'recall_grapheme': 0.975481, 'recall_vowel': 0.990352, 'recall_consonant': 0.993083, 'acc_grapheme': 0.974159, 'acc_vowel': 0.992482, 'acc_consonant': 0.99283, 'loss_grapheme': 0.124621, 'loss_vowel': 0.06108, 'loss_consonant': 0.044049}\n"
     ]
    },
    {
     "name": "stdout",
     "output_type": "stream",
     "text": [
      "  147 | 0.000004 | 131072/180756 | 4.1204 | 1.5475 |\n",
      "val: {'recall': 0.984067, 'recall_grapheme': 0.976653, 'recall_vowel': 0.98975, 'recall_consonant': 0.993211, 'acc_grapheme': 0.974358, 'acc_vowel': 0.992382, 'acc_consonant': 0.993029, 'loss_grapheme': 0.12185, 'loss_vowel': 0.058907, 'loss_consonant': 0.043257}\n",
      "  148 | 0.000002 | 155648/180756 | 0.0091 | 1.5314 |\n",
      "val: {'recall': 0.984625, 'recall_grapheme': 0.977494, 'recall_vowel': 0.989876, 'recall_consonant': 0.993635, 'acc_grapheme': 0.975105, 'acc_vowel': 0.992382, 'acc_consonant': 0.993228, 'loss_grapheme': 0.113991, 'loss_vowel': 0.050487, 'loss_consonant': 0.037383}\n",
      "  149 | 0.000001 | 180224/180756 | 4.1525 | 1.7902 |\n",
      "val: {'recall': 0.984235, 'recall_grapheme': 0.976629, 'recall_vowel': 0.990195, 'recall_consonant': 0.993486, 'acc_grapheme': 0.975055, 'acc_vowel': 0.992382, 'acc_consonant': 0.993228, 'loss_grapheme': 0.12951, 'loss_vowel': 0.067328, 'loss_consonant': 0.048215}\n",
      "  151 | 0.000001 | 024576/180756 | 4.2593 | 1.6225 |\n",
      "val: {'recall': 0.983775, 'recall_grapheme': 0.975609, 'recall_vowel': 0.990252, 'recall_consonant': 0.993629, 'acc_grapheme': 0.974507, 'acc_vowel': 0.992482, 'acc_consonant': 0.993179, 'loss_grapheme': 0.124493, 'loss_vowel': 0.062335, 'loss_consonant': 0.045045}\n",
      "  152 | 0.000001 | 049152/180756 | 0.0088 | 1.2061 |\n",
      "val: {'recall': 0.984292, 'recall_grapheme': 0.976493, 'recall_vowel': 0.990445, 'recall_consonant': 0.993737, 'acc_grapheme': 0.974806, 'acc_vowel': 0.992581, 'acc_consonant': 0.993228, 'loss_grapheme': 0.115297, 'loss_vowel': 0.052706, 'loss_consonant': 0.038925}\n",
      "  153 | 0.000002 | 073728/180756 | 0.0058 | 1.4560 |\n",
      "val: {'recall': 0.98405, 'recall_grapheme': 0.976541, 'recall_vowel': 0.990242, 'recall_consonant': 0.992875, 'acc_grapheme': 0.974905, 'acc_vowel': 0.992482, 'acc_consonant': 0.992731, 'loss_grapheme': 0.105892, 'loss_vowel': 0.041773, 'loss_consonant': 0.032538}\n",
      "  154 | 0.000004 | 098304/180756 | 0.0057 | 1.6822 |\n",
      "val: {'recall': 0.984063, 'recall_grapheme': 0.976301, 'recall_vowel': 0.990233, 'recall_consonant': 0.993415, 'acc_grapheme': 0.974806, 'acc_vowel': 0.992581, 'acc_consonant': 0.993029, 'loss_grapheme': 0.117047, 'loss_vowel': 0.055736, 'loss_consonant': 0.040802}\n",
      "  155 | 0.000006 | 122880/180756 | 3.6183 | 1.5768 |\n",
      "val: {'recall': 0.984213, 'recall_grapheme': 0.976665, 'recall_vowel': 0.990096, 'recall_consonant': 0.993426, 'acc_grapheme': 0.974856, 'acc_vowel': 0.992332, 'acc_consonant': 0.99283, 'loss_grapheme': 0.128992, 'loss_vowel': 0.066847, 'loss_consonant': 0.048605}\n",
      "  156 | 0.000008 | 147456/180756 | 4.4169 | 1.7505 |\n",
      "val: {'recall': 0.983855, 'recall_grapheme': 0.97585, 'recall_vowel': 0.990204, 'recall_consonant': 0.993514, 'acc_grapheme': 0.973561, 'acc_vowel': 0.992731, 'acc_consonant': 0.99288, 'loss_grapheme': 0.166915, 'loss_vowel': 0.102439, 'loss_consonant': 0.070964}\n",
      "  157 | 0.000010 | 172032/180756 | 0.0098 | 1.7243 |\n",
      "val: {'recall': 0.984256, 'recall_grapheme': 0.977036, 'recall_vowel': 0.989442, 'recall_consonant': 0.993508, 'acc_grapheme': 0.974955, 'acc_vowel': 0.992382, 'acc_consonant': 0.993129, 'loss_grapheme': 0.132956, 'loss_vowel': 0.073146, 'loss_consonant': 0.052773}\n",
      "  159 | 0.000013 | 016384/180756 | 0.0051 | 2.1123 |\n",
      "val: {'recall': 0.984009, 'recall_grapheme': 0.976517, 'recall_vowel': 0.989776, 'recall_consonant': 0.993228, 'acc_grapheme': 0.974258, 'acc_vowel': 0.992581, 'acc_consonant': 0.993079, 'loss_grapheme': 0.131731, 'loss_vowel': 0.067888, 'loss_consonant': 0.050841}\n",
      "  160 | 0.000015 | 040960/180756 | 4.6401 | 1.8175 |\n",
      "val: {'recall': 0.984498, 'recall_grapheme': 0.976667, 'recall_vowel': 0.9908, 'recall_consonant': 0.993857, 'acc_grapheme': 0.974905, 'acc_vowel': 0.992382, 'acc_consonant': 0.993129, 'loss_grapheme': 0.135643, 'loss_vowel': 0.072145, 'loss_consonant': 0.05253}\n",
      "  161 | 0.000017 | 065536/180756 | 4.5259 | 1.3019 |\n",
      "val: {'recall': 0.983544, 'recall_grapheme': 0.97589, 'recall_vowel': 0.988918, 'recall_consonant': 0.99348, 'acc_grapheme': 0.97376, 'acc_vowel': 0.992531, 'acc_consonant': 0.99293, 'loss_grapheme': 0.122344, 'loss_vowel': 0.057446, 'loss_consonant': 0.042617}\n",
      "  162 | 0.000019 | 090112/180756 | 0.0064 | 1.2879 |\n",
      "val: {'recall': 0.983739, 'recall_grapheme': 0.975374, 'recall_vowel': 0.989876, 'recall_consonant': 0.994333, 'acc_grapheme': 0.97391, 'acc_vowel': 0.992332, 'acc_consonant': 0.99278, 'loss_grapheme': 0.1093, 'loss_vowel': 0.041655, 'loss_consonant': 0.033519}\n",
      "  163 | 0.000020 | 114688/180756 | 3.9051 | 1.2626 |\n",
      "val: {'recall': 0.9831, 'recall_grapheme': 0.974851, 'recall_vowel': 0.989417, 'recall_consonant': 0.993281, 'acc_grapheme': 0.973412, 'acc_vowel': 0.992432, 'acc_consonant': 0.99288, 'loss_grapheme': 0.118072, 'loss_vowel': 0.05342, 'loss_consonant': 0.039562}\n",
      "  164 | 0.000020 | 139264/180756 | 0.0127 | 1.5046 |\n",
      "val: {'recall': 0.983368, 'recall_grapheme': 0.974991, 'recall_vowel': 0.990392, 'recall_consonant': 0.993099, 'acc_grapheme': 0.973511, 'acc_vowel': 0.992731, 'acc_consonant': 0.993278, 'loss_grapheme': 0.1223, 'loss_vowel': 0.055167, 'loss_consonant': 0.04055}\n",
      "  165 | 0.000020 | 163840/180756 | 0.5803 | 1.4693 |\n",
      "val: {'recall': 0.983349, 'recall_grapheme': 0.975329, 'recall_vowel': 0.989617, 'recall_consonant': 0.993121, 'acc_grapheme': 0.974009, 'acc_vowel': 0.992183, 'acc_consonant': 0.99293, 'loss_grapheme': 0.123423, 'loss_vowel': 0.060037, 'loss_consonant': 0.044196}\n",
      "  167 | 0.000019 | 008192/180756 | 4.5731 | 2.1708 |\n",
      "val: {'recall': 0.98326, 'recall_grapheme': 0.975339, 'recall_vowel': 0.989362, 'recall_consonant': 0.993002, 'acc_grapheme': 0.973511, 'acc_vowel': 0.992133, 'acc_consonant': 0.993029, 'loss_grapheme': 0.150462, 'loss_vowel': 0.088004, 'loss_consonant': 0.059122}\n",
      "  168 | 0.000017 | 032768/180756 | 0.0086 | 1.1701 |\n",
      "val: {'recall': 0.983874, 'recall_grapheme': 0.976023, 'recall_vowel': 0.990003, 'recall_consonant': 0.993447, 'acc_grapheme': 0.97386, 'acc_vowel': 0.992133, 'acc_consonant': 0.99288, 'loss_grapheme': 0.10927, 'loss_vowel': 0.040794, 'loss_consonant': 0.033436}\n",
      "  169 | 0.000015 | 057344/180756 | 0.0116 | 1.4927 |\n",
      "val: {'recall': 0.984207, 'recall_grapheme': 0.977384, 'recall_vowel': 0.991145, 'recall_consonant': 0.990915, 'acc_grapheme': 0.974955, 'acc_vowel': 0.99283, 'acc_consonant': 0.99278, 'loss_grapheme': 0.106227, 'loss_vowel': 0.041719, 'loss_consonant': 0.03318}\n",
      "  170 | 0.000013 | 081920/180756 | 0.0065 | 1.5400 |\n",
      "val: {'recall': 0.983631, 'recall_grapheme': 0.975822, 'recall_vowel': 0.99045, 'recall_consonant': 0.992431, 'acc_grapheme': 0.974059, 'acc_vowel': 0.992183, 'acc_consonant': 0.993129, 'loss_grapheme': 0.138507, 'loss_vowel': 0.071158, 'loss_consonant': 0.051524}\n",
      "  171 | 0.000010 | 106496/180756 | 2.3122 | 1.3944 |\n",
      "val: {'recall': 0.984585, 'recall_grapheme': 0.976736, 'recall_vowel': 0.991108, 'recall_consonant': 0.99376, 'acc_grapheme': 0.974856, 'acc_vowel': 0.99278, 'acc_consonant': 0.993179, 'loss_grapheme': 0.12036, 'loss_vowel': 0.059079, 'loss_consonant': 0.042339}\n",
      "  172 | 0.000008 | 131072/180756 | 3.4083 | 1.4887 |\n",
      "val: {'recall': 0.984011, 'recall_grapheme': 0.975797, 'recall_vowel': 0.990399, 'recall_consonant': 0.994051, 'acc_grapheme': 0.974009, 'acc_vowel': 0.992482, 'acc_consonant': 0.993129, 'loss_grapheme': 0.153625, 'loss_vowel': 0.090913, 'loss_consonant': 0.061339}\n",
      "  173 | 0.000006 | 155648/180756 | 0.0055 | 1.7471 |\n",
      "val: {'recall': 0.984735, 'recall_grapheme': 0.977183, 'recall_vowel': 0.991017, 'recall_consonant': 0.993558, 'acc_grapheme': 0.974607, 'acc_vowel': 0.992731, 'acc_consonant': 0.993179, 'loss_grapheme': 0.122883, 'loss_vowel': 0.060819, 'loss_consonant': 0.044075}\n",
      "** saved\n",
      "  174 | 0.000004 | 180224/180756 | 2.2033 | 1.5436 |\n",
      "val: {'recall': 0.984076, 'recall_grapheme': 0.976337, 'recall_vowel': 0.990167, 'recall_consonant': 0.993465, 'acc_grapheme': 0.974457, 'acc_vowel': 0.992282, 'acc_consonant': 0.993029, 'loss_grapheme': 0.108951, 'loss_vowel': 0.043809, 'loss_consonant': 0.034708}\n",
      "  176 | 0.000002 | 024576/180756 | 2.3755 | 1.8808 |\n",
      "val: {'recall': 0.984472, 'recall_grapheme': 0.97677, 'recall_vowel': 0.990836, 'recall_consonant': 0.993514, 'acc_grapheme': 0.974358, 'acc_vowel': 0.992681, 'acc_consonant': 0.993179, 'loss_grapheme': 0.138374, 'loss_vowel': 0.075373, 'loss_consonant': 0.0529}\n"
     ]
    },
    {
     "name": "stdout",
     "output_type": "stream",
     "text": [
      "  177 | 0.000001 | 049152/180756 | 0.0036 | 1.4538 |\n",
      "val: {'recall': 0.984508, 'recall_grapheme': 0.97635, 'recall_vowel': 0.99159, 'recall_consonant': 0.993742, 'acc_grapheme': 0.974806, 'acc_vowel': 0.99283, 'acc_consonant': 0.993079, 'loss_grapheme': 0.117264, 'loss_vowel': 0.05499, 'loss_consonant': 0.041177}\n",
      "  178 | 0.000001 | 073728/180756 | 0.0042 | 1.3943 |\n",
      "val: {'recall': 0.984653, 'recall_grapheme': 0.976954, 'recall_vowel': 0.991547, 'recall_consonant': 0.993158, 'acc_grapheme': 0.974955, 'acc_vowel': 0.992979, 'acc_consonant': 0.993029, 'loss_grapheme': 0.104766, 'loss_vowel': 0.038982, 'loss_consonant': 0.031834}\n",
      "  179 | 0.000001 | 098304/180756 | 3.1054 | 1.5740 |\n",
      "val: {'recall': 0.98401, 'recall_grapheme': 0.976375, 'recall_vowel': 0.990003, 'recall_consonant': 0.993288, 'acc_grapheme': 0.974308, 'acc_vowel': 0.992681, 'acc_consonant': 0.992631, 'loss_grapheme': 0.175404, 'loss_vowel': 0.110286, 'loss_consonant': 0.073892}\n",
      "  180 | 0.000002 | 122880/180756 | 0.0097 | 1.6864 |\n",
      "val: {'recall': 0.984328, 'recall_grapheme': 0.976679, 'recall_vowel': 0.990566, 'recall_consonant': 0.993387, 'acc_grapheme': 0.974507, 'acc_vowel': 0.99278, 'acc_consonant': 0.993079, 'loss_grapheme': 0.134586, 'loss_vowel': 0.069547, 'loss_consonant': 0.050477}\n",
      "  181 | 0.000004 | 147456/180756 | 0.0038 | 1.3811 |\n",
      "val: {'recall': 0.984889, 'recall_grapheme': 0.977411, 'recall_vowel': 0.991337, 'recall_consonant': 0.993398, 'acc_grapheme': 0.975154, 'acc_vowel': 0.99293, 'acc_consonant': 0.992979, 'loss_grapheme': 0.112702, 'loss_vowel': 0.050404, 'loss_consonant': 0.038372}\n",
      "** saved\n",
      "  182 | 0.000006 | 172032/180756 | 0.0069 | 1.6201 |\n",
      "val: {'recall': 0.984254, 'recall_grapheme': 0.976518, 'recall_vowel': 0.990309, 'recall_consonant': 0.99367, 'acc_grapheme': 0.975154, 'acc_vowel': 0.992681, 'acc_consonant': 0.993029, 'loss_grapheme': 0.118616, 'loss_vowel': 0.056029, 'loss_consonant': 0.04154}\n",
      "  184 | 0.000008 | 016384/180756 | 0.0073 | 1.9444 |\n",
      "val: {'recall': 0.984126, 'recall_grapheme': 0.976027, 'recall_vowel': 0.990882, 'recall_consonant': 0.993569, 'acc_grapheme': 0.974358, 'acc_vowel': 0.992681, 'acc_consonant': 0.99278, 'loss_grapheme': 0.127591, 'loss_vowel': 0.066319, 'loss_consonant': 0.046686}\n",
      "  185 | 0.000010 | 040960/180756 | 4.1107 | 1.7673 |\n",
      "val: {'recall': 0.984057, 'recall_grapheme': 0.975856, 'recall_vowel': 0.990957, 'recall_consonant': 0.993559, 'acc_grapheme': 0.974258, 'acc_vowel': 0.99288, 'acc_consonant': 0.993079, 'loss_grapheme': 0.131189, 'loss_vowel': 0.067366, 'loss_consonant': 0.048659}\n",
      "  186 | 0.000013 | 065536/180756 | 0.0064 | 1.6357 |\n",
      "val: {'recall': 0.984862, 'recall_grapheme': 0.977336, 'recall_vowel': 0.991221, 'recall_consonant': 0.993555, 'acc_grapheme': 0.974507, 'acc_vowel': 0.99288, 'acc_consonant': 0.993029, 'loss_grapheme': 0.112858, 'loss_vowel': 0.046899, 'loss_consonant': 0.036126}\n",
      "  187 | 0.000015 | 090112/180756 | 3.5233 | 1.6981 |\n",
      "val: {'recall': 0.98487, 'recall_grapheme': 0.977307, 'recall_vowel': 0.990904, 'recall_consonant': 0.993964, 'acc_grapheme': 0.974856, 'acc_vowel': 0.99293, 'acc_consonant': 0.993278, 'loss_grapheme': 0.172985, 'loss_vowel': 0.108596, 'loss_consonant': 0.06905}\n",
      "  188 | 0.000017 | 114688/180756 | 3.8927 | 1.5219 |\n",
      "val: {'recall': 0.984184, 'recall_grapheme': 0.976829, 'recall_vowel': 0.989559, 'recall_consonant': 0.993521, 'acc_grapheme': 0.974407, 'acc_vowel': 0.992332, 'acc_consonant': 0.993179, 'loss_grapheme': 0.15668, 'loss_vowel': 0.090378, 'loss_consonant': 0.06278}\n",
      "  189 | 0.000019 | 139264/180756 | 0.6162 | 1.5302 |\n",
      "val: {'recall': 0.983673, 'recall_grapheme': 0.975293, 'recall_vowel': 0.990829, 'recall_consonant': 0.993278, 'acc_grapheme': 0.973611, 'acc_vowel': 0.992482, 'acc_consonant': 0.992731, 'loss_grapheme': 0.175903, 'loss_vowel': 0.107029, 'loss_consonant': 0.072441}\n",
      "  190 | 0.000020 | 163840/180756 | 1.3650 | 1.3957 |\n",
      "val: {'recall': 0.984585, 'recall_grapheme': 0.977154, 'recall_vowel': 0.990283, 'recall_consonant': 0.993748, 'acc_grapheme': 0.975204, 'acc_vowel': 0.992531, 'acc_consonant': 0.993179, 'loss_grapheme': 0.1526, 'loss_vowel': 0.081423, 'loss_consonant': 0.058209}\n",
      "  192 | 0.000020 | 008192/180756 | 0.0066 | 1.1761 |\n",
      "val: {'recall': 0.984219, 'recall_grapheme': 0.977966, 'recall_vowel': 0.99065, 'recall_consonant': 0.990294, 'acc_grapheme': 0.975702, 'acc_vowel': 0.99283, 'acc_consonant': 0.993228, 'loss_grapheme': 0.120448, 'loss_vowel': 0.056379, 'loss_consonant': 0.042479}\n",
      "  193 | 0.000020 | 032768/180756 | 0.0097 | 1.3503 |\n",
      "val: {'recall': 0.984444, 'recall_grapheme': 0.976687, 'recall_vowel': 0.990777, 'recall_consonant': 0.993625, 'acc_grapheme': 0.975154, 'acc_vowel': 0.992432, 'acc_consonant': 0.99288, 'loss_grapheme': 0.114266, 'loss_vowel': 0.04881, 'loss_consonant': 0.037047}\n",
      "  194 | 0.000019 | 057344/180756 | 0.0069 | 1.3213 |\n",
      "val: {'recall': 0.984962, 'recall_grapheme': 0.977437, 'recall_vowel': 0.991461, 'recall_consonant': 0.993514, 'acc_grapheme': 0.974756, 'acc_vowel': 0.992482, 'acc_consonant': 0.993029, 'loss_grapheme': 0.116578, 'loss_vowel': 0.053022, 'loss_consonant': 0.039678}\n",
      "** saved\n",
      "  195 | 0.000017 | 081920/180756 | 3.4377 | 1.6510 |\n",
      "val: {'recall': 0.984441, 'recall_grapheme': 0.976745, 'recall_vowel': 0.990475, 'recall_consonant': 0.993802, 'acc_grapheme': 0.974507, 'acc_vowel': 0.992631, 'acc_consonant': 0.993179, 'loss_grapheme': 0.116007, 'loss_vowel': 0.05103, 'loss_consonant': 0.038393}\n",
      "  196 | 0.000015 | 106496/180756 | 4.1768 | 1.2716 |\n",
      "val: {'recall': 0.9836, 'recall_grapheme': 0.977128, 'recall_vowel': 0.99112, 'recall_consonant': 0.989027, 'acc_grapheme': 0.975055, 'acc_vowel': 0.992979, 'acc_consonant': 0.993129, 'loss_grapheme': 0.116656, 'loss_vowel': 0.054291, 'loss_consonant': 0.041269}\n",
      "  197 | 0.000013 | 131072/180756 | 0.0049 | 1.4643 |\n",
      "val: {'recall': 0.983672, 'recall_grapheme': 0.97645, 'recall_vowel': 0.990448, 'recall_consonant': 0.99134, 'acc_grapheme': 0.974457, 'acc_vowel': 0.99293, 'acc_consonant': 0.993278, 'loss_grapheme': 0.115124, 'loss_vowel': 0.04923, 'loss_consonant': 0.038043}\n",
      "  198 | 0.000011 | 155648/180756 | 0.0062 | 1.5378 |\n",
      "val: {'recall': 0.984302, 'recall_grapheme': 0.976443, 'recall_vowel': 0.990743, 'recall_consonant': 0.993579, 'acc_grapheme': 0.975105, 'acc_vowel': 0.99283, 'acc_consonant': 0.993079, 'loss_grapheme': 0.103406, 'loss_vowel': 0.036042, 'loss_consonant': 0.030473}\n",
      "  199 | 0.000008 | 035840/180756 | 0.0058 | 1.0137 |"
     ]
    }
   ],
   "source": [
    "train(args) # Apex cutmix"
   ]
  },
  {
   "cell_type": "code",
   "execution_count": null,
   "metadata": {},
   "outputs": [],
   "source": []
  },
  {
   "cell_type": "code",
   "execution_count": 70,
   "metadata": {},
   "outputs": [],
   "source": [
    "#save_model(model, model_file)"
   ]
  },
  {
   "cell_type": "code",
   "execution_count": 21,
   "metadata": {},
   "outputs": [],
   "source": [
    "del model"
   ]
  },
  {
   "cell_type": "code",
   "execution_count": 73,
   "metadata": {},
   "outputs": [
    {
     "name": "stdout",
     "output_type": "stream",
     "text": [
      "best_model.pth\r\n"
     ]
    }
   ],
   "source": [
    "!ls ./models/se_resnext50_32x4d"
   ]
  },
  {
   "cell_type": "code",
   "execution_count": null,
   "metadata": {},
   "outputs": [],
   "source": []
  }
 ],
 "metadata": {
  "kernelspec": {
   "display_name": "Python 3",
   "language": "python",
   "name": "python3"
  },
  "language_info": {
   "codemirror_mode": {
    "name": "ipython",
    "version": 3
   },
   "file_extension": ".py",
   "mimetype": "text/x-python",
   "name": "python",
   "nbconvert_exporter": "python",
   "pygments_lexer": "ipython3",
   "version": "3.7.3"
  }
 },
 "nbformat": 4,
 "nbformat_minor": 2
}
