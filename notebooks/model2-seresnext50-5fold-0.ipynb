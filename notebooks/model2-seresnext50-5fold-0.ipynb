{
 "cells": [
  {
   "cell_type": "code",
   "execution_count": 1,
   "metadata": {},
   "outputs": [],
   "source": [
    "import os\n",
    "import pandas as pd\n",
    "import numpy as np\n",
    "import time, gc\n",
    "import cv2\n",
    "import matplotlib.pyplot as plt\n",
    "import torch\n",
    "import torch.nn as nn\n",
    "import torch.nn.functional as F\n",
    "import torch.optim as optim\n",
    "import pretrainedmodels\n",
    "from argparse import Namespace\n",
    "from sklearn.utils import shuffle\n",
    "from apex import amp\n",
    "from sklearn.model_selection import StratifiedKFold\n",
    "from efficientnet_pytorch import EfficientNet"
   ]
  },
  {
   "cell_type": "code",
   "execution_count": 2,
   "metadata": {},
   "outputs": [
    {
     "name": "stdout",
     "output_type": "stream",
     "text": [
      "bengaliai-cv19.zip\t   test_image_data_3.parquet\r\n",
      "class_map.csv\t\t   train.csv\r\n",
      "sample_submission.csv\t   train_image_data_0.parquet\r\n",
      "test.csv\t\t   train_image_data_1.parquet\r\n",
      "test_image_data_0.parquet  train_image_data_2.parquet\r\n",
      "test_image_data_1.parquet  train_image_data_3.parquet\r\n",
      "test_image_data_2.parquet\r\n"
     ]
    }
   ],
   "source": [
    "!ls /mnt/chicm/data/bengali"
   ]
  },
  {
   "cell_type": "code",
   "execution_count": 3,
   "metadata": {},
   "outputs": [],
   "source": [
    "#!ls /home/chec/data/bengali"
   ]
  },
  {
   "cell_type": "code",
   "execution_count": 4,
   "metadata": {},
   "outputs": [],
   "source": [
    "DATA_DIR = '/mnt/chicm/data/bengali'"
   ]
  },
  {
   "cell_type": "code",
   "execution_count": 5,
   "metadata": {},
   "outputs": [],
   "source": [
    "train_df = pd.read_csv(f'{DATA_DIR}/train.csv')\n",
    "test_df = pd.read_csv(f'{DATA_DIR}/test.csv')\n",
    "class_map_df = pd.read_csv(f'{DATA_DIR}/class_map.csv')\n",
    "sample_sub_df = pd.read_csv(f'{DATA_DIR}/sample_submission.csv')"
   ]
  },
  {
   "cell_type": "code",
   "execution_count": 6,
   "metadata": {},
   "outputs": [
    {
     "data": {
      "text/html": [
       "<div>\n",
       "<style scoped>\n",
       "    .dataframe tbody tr th:only-of-type {\n",
       "        vertical-align: middle;\n",
       "    }\n",
       "\n",
       "    .dataframe tbody tr th {\n",
       "        vertical-align: top;\n",
       "    }\n",
       "\n",
       "    .dataframe thead th {\n",
       "        text-align: right;\n",
       "    }\n",
       "</style>\n",
       "<table border=\"1\" class=\"dataframe\">\n",
       "  <thead>\n",
       "    <tr style=\"text-align: right;\">\n",
       "      <th></th>\n",
       "      <th>image_id</th>\n",
       "      <th>grapheme_root</th>\n",
       "      <th>vowel_diacritic</th>\n",
       "      <th>consonant_diacritic</th>\n",
       "      <th>grapheme</th>\n",
       "    </tr>\n",
       "  </thead>\n",
       "  <tbody>\n",
       "    <tr>\n",
       "      <td>0</td>\n",
       "      <td>Train_0</td>\n",
       "      <td>15</td>\n",
       "      <td>9</td>\n",
       "      <td>5</td>\n",
       "      <td>ক্ট্রো</td>\n",
       "    </tr>\n",
       "    <tr>\n",
       "      <td>1</td>\n",
       "      <td>Train_1</td>\n",
       "      <td>159</td>\n",
       "      <td>0</td>\n",
       "      <td>0</td>\n",
       "      <td>হ</td>\n",
       "    </tr>\n",
       "    <tr>\n",
       "      <td>2</td>\n",
       "      <td>Train_2</td>\n",
       "      <td>22</td>\n",
       "      <td>3</td>\n",
       "      <td>5</td>\n",
       "      <td>খ্রী</td>\n",
       "    </tr>\n",
       "    <tr>\n",
       "      <td>3</td>\n",
       "      <td>Train_3</td>\n",
       "      <td>53</td>\n",
       "      <td>2</td>\n",
       "      <td>2</td>\n",
       "      <td>র্টি</td>\n",
       "    </tr>\n",
       "    <tr>\n",
       "      <td>4</td>\n",
       "      <td>Train_4</td>\n",
       "      <td>71</td>\n",
       "      <td>9</td>\n",
       "      <td>5</td>\n",
       "      <td>থ্রো</td>\n",
       "    </tr>\n",
       "  </tbody>\n",
       "</table>\n",
       "</div>"
      ],
      "text/plain": [
       "  image_id  grapheme_root  vowel_diacritic  consonant_diacritic grapheme\n",
       "0  Train_0             15                9                    5   ক্ট্রো\n",
       "1  Train_1            159                0                    0        হ\n",
       "2  Train_2             22                3                    5     খ্রী\n",
       "3  Train_3             53                2                    2     র্টি\n",
       "4  Train_4             71                9                    5     থ্রো"
      ]
     },
     "execution_count": 6,
     "metadata": {},
     "output_type": "execute_result"
    }
   ],
   "source": [
    "train_df.head()"
   ]
  },
  {
   "cell_type": "code",
   "execution_count": null,
   "metadata": {},
   "outputs": [],
   "source": []
  },
  {
   "cell_type": "code",
   "execution_count": 7,
   "metadata": {},
   "outputs": [],
   "source": [
    "import albumentations as albu\n",
    "\n",
    "def get_train_augs(p=1.):\n",
    "    return albu.Compose([\n",
    "        #albu.HorizontalFlip(.5),\n",
    "        albu.ShiftScaleRotate(shift_limit=0.05, scale_limit=0.05, rotate_limit=10, p=0.5 ),\n",
    "        albu.Blur(blur_limit=3, p=0.3),\n",
    "        albu.OpticalDistortion(p=0.3),\n",
    "        albu.GaussNoise(p=0.3)\n",
    "        #albu.GridDistortion(p=.33),\n",
    "        #albu.HueSaturationValue(p=.33) # not for grey scale\n",
    "    ], p=p)"
   ]
  },
  {
   "cell_type": "code",
   "execution_count": 8,
   "metadata": {},
   "outputs": [],
   "source": [
    "#plt.imshow(x)"
   ]
  },
  {
   "cell_type": "code",
   "execution_count": 9,
   "metadata": {},
   "outputs": [],
   "source": [
    "from torch.utils.data import DataLoader, Dataset\n",
    "from torchvision import transforms\n",
    "\n",
    "HEIGHT = 137\n",
    "WIDTH = 236\n",
    "\n",
    "class BengaliDataset(Dataset):\n",
    "    def __init__(self, df, img_df, train_mode=True, test_mode=False):\n",
    "        self.df = df\n",
    "        self.img_df = img_df\n",
    "        self.train_mode = train_mode\n",
    "        self.test_mode = test_mode\n",
    "\n",
    "    def __getitem__(self, idx):\n",
    "        row = self.df.iloc[idx]\n",
    "        img = self.get_img(row.image_id)\n",
    "        #print(img.shape)\n",
    "        if self.train_mode:\n",
    "            augs = get_train_augs()\n",
    "            img = augs(image=img)['image']\n",
    "        \n",
    "        img = np.expand_dims(img, axis=-1)\n",
    "        \n",
    "        img = transforms.functional.to_tensor(img)\n",
    "        #img = transforms.functional.normalize(img, mean=[0.485, 0.456, 0.406], std=[0.229, 0.224, 0.225])\n",
    "        \n",
    "        if self.test_mode:\n",
    "            return img\n",
    "        else:\n",
    "            return img, torch.tensor([row.grapheme_root, row.vowel_diacritic, row.consonant_diacritic])\n",
    "\n",
    "    def get_img(self, img_id):\n",
    "        return 255 - self.img_df.loc[img_id].values.reshape(HEIGHT, WIDTH).astype(np.uint8)\n",
    "\n",
    "    def __len__(self):\n",
    "        return len(self.df)\n",
    "    \n",
    "def get_train_val_loaders(batch_size=4, val_batch_size=4, ifold=0, dev_mode=False):\n",
    "    train_df = pd.read_csv(f'{DATA_DIR}/train.csv')\n",
    "    train_df = shuffle(train_df, random_state=1234)\n",
    "    print(train_df.shape)\n",
    "\n",
    "    if dev_mode:\n",
    "        img_df = pd.read_parquet(f'{DATA_DIR}/train_image_data_0.parquet').set_index('image_id')\n",
    "        train_df = train_df.iloc[:1000]\n",
    "    else:\n",
    "        img_dfs = [pd.read_parquet(f'{DATA_DIR}/train_image_data_{i}.parquet') for i in range(4)]\n",
    "        img_df = pd.concat(img_dfs, axis=0).set_index('image_id')\n",
    "    print(img_df.shape)\n",
    "    #split_index = int(len(train_df) * 0.9)\n",
    "    \n",
    "    #train = train_df.iloc[:split_index]\n",
    "    #val = train_df.iloc[split_index:]\n",
    "    \n",
    "    kf = StratifiedKFold(5, random_state=1234, shuffle=True)\n",
    "    for i, (train_idx, val_idx) in enumerate(kf.split(train_df, train_df['grapheme_root'].values)):\n",
    "        if i == ifold:\n",
    "            #print(val_idx)\n",
    "            train = train_df.iloc[train_idx]\n",
    "            val = train_df.iloc[val_idx]\n",
    "            break\n",
    "    assert i == ifold\n",
    "    print(train.shape, val.shape)\n",
    "    \n",
    "    train_ds = BengaliDataset(train, img_df, True, False)\n",
    "    val_ds = BengaliDataset(val, img_df, False, False)\n",
    "    \n",
    "    train_loader = DataLoader(train_ds, batch_size=batch_size, shuffle=True, num_workers=8, drop_last=True)\n",
    "    train_loader.num = len(train_ds)\n",
    "\n",
    "    val_loader = DataLoader(val_ds, batch_size=val_batch_size, shuffle=False, num_workers=8, drop_last=False)\n",
    "    val_loader.num = len(val_ds)\n",
    "\n",
    "    return train_loader, val_loader"
   ]
  },
  {
   "cell_type": "code",
   "execution_count": 10,
   "metadata": {},
   "outputs": [],
   "source": [
    "#train_loader, val_loader = get_train_val_loaders(dev_mode=True)"
   ]
  },
  {
   "cell_type": "markdown",
   "metadata": {},
   "source": [
    "# model"
   ]
  },
  {
   "cell_type": "code",
   "execution_count": 11,
   "metadata": {},
   "outputs": [],
   "source": [
    "#import pretrainedmodels"
   ]
  },
  {
   "cell_type": "code",
   "execution_count": 12,
   "metadata": {},
   "outputs": [
    {
     "name": "stdout",
     "output_type": "stream",
     "text": [
      "['fbresnet152', 'bninception', 'resnext101_32x4d', 'resnext101_64x4d', 'inceptionv4', 'inceptionresnetv2', 'alexnet', 'densenet121', 'densenet169', 'densenet201', 'densenet161', 'resnet18', 'resnet34', 'resnet50', 'resnet101', 'resnet152', 'inceptionv3', 'squeezenet1_0', 'squeezenet1_1', 'vgg11', 'vgg11_bn', 'vgg13', 'vgg13_bn', 'vgg16', 'vgg16_bn', 'vgg19_bn', 'vgg19', 'nasnetamobile', 'nasnetalarge', 'dpn68', 'dpn68b', 'dpn92', 'dpn98', 'dpn131', 'dpn107', 'xception', 'senet154', 'se_resnet50', 'se_resnet101', 'se_resnet152', 'se_resnext50_32x4d', 'se_resnext101_32x4d', 'cafferesnet101', 'pnasnet5large', 'polynet']\n"
     ]
    }
   ],
   "source": [
    "print(pretrainedmodels.model_names)"
   ]
  },
  {
   "cell_type": "code",
   "execution_count": 13,
   "metadata": {},
   "outputs": [],
   "source": [
    "#model_name = 'resnet50' # could be fbresnet152 or inceptionresnetv2\n",
    "#model = pretrainedmodels.__dict__[model_name](num_classes=1000, pretrained='imagenet').cuda()\n",
    "#model.eval()"
   ]
  },
  {
   "cell_type": "code",
   "execution_count": 14,
   "metadata": {},
   "outputs": [],
   "source": [
    "#model = pretrainedmodels.__dict__[model_name](num_classes=1000, pretrained=False).cuda()\n"
   ]
  },
  {
   "cell_type": "code",
   "execution_count": 15,
   "metadata": {},
   "outputs": [],
   "source": [
    "#model.features(torch.randn((2, 3, 137, 236)).cuda()).size()"
   ]
  },
  {
   "cell_type": "code",
   "execution_count": 16,
   "metadata": {},
   "outputs": [],
   "source": [
    "#model.last_linear.in_features"
   ]
  },
  {
   "cell_type": "code",
   "execution_count": 17,
   "metadata": {},
   "outputs": [],
   "source": [
    "class BengaliNet_1(nn.Module):\n",
    "    def __init__(self, backbone_name):\n",
    "        super(BengaliNet, self).__init__()\n",
    "        self.n_grapheme = 168\n",
    "        self.n_vowel = 11\n",
    "        self.n_consonant = 7\n",
    "        self.backbone_name = backbone_name\n",
    "        \n",
    "        self.num_classes = self.n_grapheme + self.n_vowel + self.n_consonant\n",
    "        \n",
    "        self.conv0 = nn.Conv2d(1, 3, kernel_size=1, stride=1, padding=0)\n",
    "        \n",
    "        if self.backbone_name.startswith('efficient'):\n",
    "            self.backbone = EfficientNet.from_pretrained(self.backbone_name)\n",
    "            self.fc = nn.Linear(self.backbone._fc.in_features, self.num_classes)\n",
    "        else:\n",
    "            self.backbone = pretrainedmodels.__dict__[self.backbone_name](num_classes=1000, pretrained='imagenet')\n",
    "            self.fc = nn.Linear(self.backbone.last_linear.in_features, self.num_classes)\n",
    "\n",
    "        self.avg_pool = nn.AdaptiveAvgPool2d(1)\n",
    "        \n",
    "    def logits(self, x):\n",
    "        x = self.avg_pool(x)\n",
    "        x = F.dropout2d(x, 0.2, self.training)\n",
    "        x = x.view(x.size(0), -1)\n",
    "        return self.fc(x)\n",
    "    \n",
    "    def forward(self, x):\n",
    "        x = self.conv0(x)\n",
    "        #print(x.size())\n",
    "        if self.backbone_name.startswith('efficient'):\n",
    "            x = self.backbone.extract_features(x)\n",
    "        else:\n",
    "            x = self.backbone.features(x)\n",
    "        x = self.logits(x)\n",
    "\n",
    "        return x"
   ]
  },
  {
   "cell_type": "code",
   "execution_count": 18,
   "metadata": {},
   "outputs": [],
   "source": [
    "class BengaliNet(nn.Module):\n",
    "    def __init__(self, backbone_name):\n",
    "        super(BengaliNet, self).__init__()\n",
    "        self.n_grapheme = 168\n",
    "        self.n_vowel = 11\n",
    "        self.n_consonant = 7\n",
    "        self.backbone_name = backbone_name\n",
    "        \n",
    "        self.num_classes = self.n_grapheme + self.n_vowel + self.n_consonant\n",
    "        \n",
    "        #self.conv0 = nn.Conv2d(1, 3, kernel_size=1, stride=1, padding=0)\n",
    "        \n",
    "        if self.backbone_name.startswith('efficient'):\n",
    "            self.backbone = EfficientNet.from_pretrained(self.backbone_name)\n",
    "            self.fc = nn.Linear(self.backbone._fc.in_features, self.num_classes)\n",
    "        else:\n",
    "            self.backbone = pretrainedmodels.__dict__[self.backbone_name](num_classes=1000, pretrained='imagenet')\n",
    "            self.fc = nn.Linear(self.backbone.last_linear.in_features, self.num_classes)\n",
    "\n",
    "        self.avg_pool = nn.AdaptiveAvgPool2d(1)\n",
    "        \n",
    "        self.fix_input_layer()\n",
    "        \n",
    "    def fix_input_layer(self):\n",
    "        if self.backbone_name in ['se_resnext50_32x4d', 'se_resnext101_32x4d', 'se_resnet50', 'senet154', 'se_resnet152', 'nasnetmobile', 'mobilenet', 'nasnetalarge']:\n",
    "            #self.backbone = eval(backbone_name)()\n",
    "            #print(self.backbone.layer0.conv1)\n",
    "            w = self.backbone.layer0.conv1.weight.data\n",
    "            self.backbone.layer0.conv1 = nn.Conv2d(1, 64, kernel_size=7, stride=2, padding=3, bias=False)\n",
    "            #self.backbone.layer0.conv1.weight = torch.nn.Parameter(torch.cat((w, w[:, 2, :, :].unsqueeze(1)), dim=1))\n",
    "            self.backbone.layer0.conv1.weight = torch.nn.Parameter(w[:, 0, :, :].unsqueeze(1))\n",
    "        \n",
    "    def logits(self, x):\n",
    "        x = self.avg_pool(x)\n",
    "        x = F.dropout2d(x, 0.2, self.training)\n",
    "        x = x.view(x.size(0), -1)\n",
    "        return self.fc(x)\n",
    "    \n",
    "    def forward(self, x):\n",
    "        #x = self.conv0(x)\n",
    "        #print(x.size())\n",
    "        if self.backbone_name.startswith('efficient'):\n",
    "            x = self.backbone.extract_features(x)\n",
    "        else:\n",
    "            x = self.backbone.features(x)\n",
    "        x = self.logits(x)\n",
    "\n",
    "        return x"
   ]
  },
  {
   "cell_type": "code",
   "execution_count": null,
   "metadata": {},
   "outputs": [],
   "source": []
  },
  {
   "cell_type": "code",
   "execution_count": 19,
   "metadata": {},
   "outputs": [],
   "source": [
    "MODEL_DIR = './models'\n",
    "def create_model(args):\n",
    "    model = BengaliNet(backbone_name=args.backbone)\n",
    "    model_file = os.path.join(MODEL_DIR, args.backbone, args.ckp_name)\n",
    "\n",
    "    parent_dir = os.path.dirname(model_file)\n",
    "    if not os.path.exists(parent_dir):\n",
    "        os.makedirs(parent_dir)\n",
    "\n",
    "    print('model file: {}, exist: {}'.format(model_file, os.path.exists(model_file)))\n",
    "\n",
    "    if args.predict and (not os.path.exists(model_file)):\n",
    "        raise AttributeError('model file does not exist: {}'.format(model_file))\n",
    "\n",
    "    if os.path.exists(model_file):\n",
    "        print('loading {}...'.format(model_file))\n",
    "        model.load_state_dict(torch.load(model_file))\n",
    "    \n",
    "    return model, model_file"
   ]
  },
  {
   "cell_type": "code",
   "execution_count": 20,
   "metadata": {},
   "outputs": [],
   "source": [
    "#bnet = BengaliNet('se_resnext50_32x4d').cuda()"
   ]
  },
  {
   "cell_type": "code",
   "execution_count": 21,
   "metadata": {},
   "outputs": [],
   "source": [
    "#bnet(torch.randn((2, 1, 137, 236)).cuda()).size()"
   ]
  },
  {
   "cell_type": "markdown",
   "metadata": {},
   "source": [
    "# train"
   ]
  },
  {
   "cell_type": "code",
   "execution_count": 22,
   "metadata": {},
   "outputs": [
    {
     "data": {
      "text/plain": [
       "0.111111"
      ]
     },
     "execution_count": 22,
     "metadata": {},
     "output_type": "execute_result"
    }
   ],
   "source": [
    "round(1/9, 6)"
   ]
  },
  {
   "cell_type": "code",
   "execution_count": 23,
   "metadata": {},
   "outputs": [],
   "source": [
    "import numpy as np\n",
    "import sklearn.metrics\n",
    "import torch\n",
    "\n",
    "\n",
    "def macro_recall(pred_y, y, n_grapheme=168, n_vowel=11, n_consonant=7):\n",
    "    pred_y = torch.split(pred_y, [n_grapheme, n_vowel, n_consonant], dim=1)\n",
    "    pred_labels = [torch.argmax(py, dim=1).cpu().numpy() for py in pred_y]\n",
    "\n",
    "    #y = y.cpu().numpy()\n",
    "    # pred_y = [p.cpu().numpy() for p in pred_y]\n",
    "\n",
    "    recall_grapheme = sklearn.metrics.recall_score(pred_labels[0], y_grapheme, average='macro')\n",
    "    recall_vowel = sklearn.metrics.recall_score(pred_labels[1], y_vowel, average='macro')\n",
    "    recall_consonant = sklearn.metrics.recall_score(pred_labels[2], y_consonant, average='macro')\n",
    "    scores = [recall_grapheme, recall_vowel, recall_consonant]\n",
    "    final_score = np.average(scores, weights=[2, 1, 1])\n",
    "    # print(f'recall: grapheme {recall_grapheme}, vowel {recall_vowel}, consonant {recall_consonant}, '\n",
    "    #       f'total {final_score}, y {y.shape}')\n",
    "    return final_score\n",
    "\n",
    "def calc_metrics(preds0, preds1, preds2, y):\n",
    "    assert len(y) == len(preds0) == len(preds1) == len(preds2)\n",
    "\n",
    "    recall_grapheme = sklearn.metrics.recall_score(preds0, y[:, 0], average='macro')\n",
    "    recall_vowel = sklearn.metrics.recall_score(preds1, y[:, 1], average='macro')\n",
    "    recall_consonant = sklearn.metrics.recall_score(preds2, y[:, 2], average='macro')\n",
    "    scores = [recall_grapheme, recall_vowel, recall_consonant]\n",
    "    final_recall_score = np.average(scores, weights=[2, 1, 1])\n",
    "    \n",
    "    metrics = {}\n",
    "    metrics['recall'] = round(final_recall_score, 6)\n",
    "    metrics['recall_grapheme'] = round(recall_grapheme, 6)\n",
    "    metrics['recall_vowel'] = round(recall_vowel, 6)\n",
    "    metrics['recall_consonant'] = round(recall_consonant, 6)\n",
    "    \n",
    "    metrics['acc_grapheme'] = round((preds0 == y[:, 0]).sum() / len(y), 6)\n",
    "    metrics['acc_vowel'] = round((preds1 == y[:, 1]).sum() / len(y), 6)\n",
    "    metrics['acc_consonant'] = round((preds2 == y[:, 2]).sum() / len(y), 6)\n",
    "    \n",
    "    \n",
    "    return metrics"
   ]
  },
  {
   "cell_type": "code",
   "execution_count": 24,
   "metadata": {},
   "outputs": [],
   "source": [
    "def criterion(outputs, y_true):\n",
    "    # outputs: (N, 182)\n",
    "    # y_true: (N, 3)\n",
    "    \n",
    "    outputs = torch.split(outputs, [168, 11, 7], dim=1)\n",
    "    loss0 = F.cross_entropy(outputs[0], y_true[:, 0], reduction='mean')\n",
    "    loss1 = F.cross_entropy(outputs[1], y_true[:, 1], reduction='mean')\n",
    "    loss2 = F.cross_entropy(outputs[2], y_true[:, 2], reduction='mean')\n",
    "    \n",
    "    return loss0 + loss1 + loss2 #, loss0.item(), loss1.item(), loss2.item()"
   ]
  },
  {
   "cell_type": "code",
   "execution_count": 25,
   "metadata": {},
   "outputs": [],
   "source": [
    "def validate(model, val_loader):\n",
    "    model.eval()\n",
    "    loss0, loss1, loss2 = 0., 0., 0.\n",
    "    preds0, preds1,preds2 = [], [], []\n",
    "    y_true = []\n",
    "    with torch.no_grad():\n",
    "        for x, y in val_loader:\n",
    "            y_true.append(y)\n",
    "            x, y = x.cuda(), y.cuda()\n",
    "            outputs = model(x)\n",
    "            outputs = torch.split(outputs, [168, 11, 7], dim=1)\n",
    "            \n",
    "            preds0.append(torch.max(outputs[0], dim=1)[1])\n",
    "            preds1.append(torch.max(outputs[1], dim=1)[1])\n",
    "            preds2.append(torch.max(outputs[2], dim=1)[1])\n",
    "            loss0 += F.cross_entropy(outputs[0], y[:, 0], reduction='sum').item()\n",
    "            loss1 += F.cross_entropy(outputs[1], y[:, 1], reduction='sum').item()\n",
    "            loss2 += F.cross_entropy(outputs[2], y[:, 2], reduction='sum').item()\n",
    "            \n",
    "            # for debug\n",
    "            #metrics = {}\n",
    "            #metrics['loss_grapheme'] =  F.cross_entropy(outputs[0], y[:, 0], reduction='mean').item()\n",
    "            #metrics['loss_vowel'] =  F.cross_entropy(outputs[1], y[:, 1], reduction='mean').item()\n",
    "            #metrics['loss_consonant'] =  F.cross_entropy(outputs[2], y[:, 2], reduction='mean').item()\n",
    "            #return metrics\n",
    "    \n",
    "    preds0 = torch.cat(preds0, 0).cpu().numpy()\n",
    "    preds1 = torch.cat(preds1, 0).cpu().numpy()\n",
    "    preds2 = torch.cat(preds2, 0).cpu().numpy()\n",
    "    y_true = torch.cat(y_true, 0).numpy()\n",
    "    \n",
    "    #print('y_true:', y_true.shape)\n",
    "    #print('preds0:', preds0.shape)\n",
    "    \n",
    "    metrics = calc_metrics(preds0, preds1, preds2, y_true)\n",
    "    metrics['loss_grapheme'] = round(loss0 / val_loader.num, 6)\n",
    "    metrics['loss_vowel'] = round(loss1 / val_loader.num, 6)\n",
    "    metrics['loss_consonant'] = round(loss2 / val_loader.num, 6)\n",
    "    \n",
    "    return metrics\n",
    "            "
   ]
  },
  {
   "cell_type": "code",
   "execution_count": null,
   "metadata": {},
   "outputs": [],
   "source": []
  },
  {
   "cell_type": "code",
   "execution_count": 26,
   "metadata": {},
   "outputs": [],
   "source": [
    "def get_lrs(optimizer):\n",
    "    lrs = []\n",
    "    for pgs in optimizer.state_dict()['param_groups']:\n",
    "        lrs.append(pgs['lr'])\n",
    "    lrs = ['{:.6f}'.format(x) for x in lrs]\n",
    "    return lrs"
   ]
  },
  {
   "cell_type": "code",
   "execution_count": 27,
   "metadata": {},
   "outputs": [],
   "source": [
    "def save_model(model, model_file):\n",
    "    parent_dir = os.path.dirname(model_file)\n",
    "    if not os.path.exists(parent_dir):\n",
    "        os.makedirs(parent_dir)\n",
    "    if isinstance(model, nn.DataParallel):\n",
    "        torch.save(model.module.state_dict(), model_file)\n",
    "    else:\n",
    "        torch.save(model.state_dict(), model_file)"
   ]
  },
  {
   "cell_type": "code",
   "execution_count": 28,
   "metadata": {},
   "outputs": [],
   "source": [
    "def mixup(data, targets, alpha=1):\n",
    "    indices = torch.randperm(data.size(0))\n",
    "    shuffled_data = data[indices]\n",
    "    shuffled_targets = targets[indices]\n",
    "\n",
    "    lam = np.random.beta(alpha, alpha)\n",
    "    data = data * lam + shuffled_data * (1 - lam)\n",
    "    targets = (targets, shuffled_targets, lam)\n",
    "\n",
    "    return data, targets\n",
    "\n",
    "\n",
    "def mixup_criterion(outputs, targets):\n",
    "    targets1, targets2, lam = targets\n",
    "    #criterion = nn.CrossEntropyLoss(reduction='mean')\n",
    "    return lam * criterion(outputs, targets1) + (1 - lam) * criterion(outputs, targets2)"
   ]
  },
  {
   "cell_type": "code",
   "execution_count": 29,
   "metadata": {},
   "outputs": [],
   "source": [
    "def rand_bbox(size, lam):\n",
    "    W = size[2]\n",
    "    H = size[3]\n",
    "    cut_rat = np.sqrt(1. - lam)\n",
    "    cut_w = np.int(W * cut_rat)\n",
    "    cut_h = np.int(H * cut_rat)\n",
    "\n",
    "    # uniform\n",
    "    cx = np.random.randint(W)\n",
    "    cy = np.random.randint(H)\n",
    "\n",
    "    bbx1 = np.clip(cx - cut_w // 2, 0, W)\n",
    "    bby1 = np.clip(cy - cut_h // 2, 0, H)\n",
    "    bbx2 = np.clip(cx + cut_w // 2, 0, W)\n",
    "    bby2 = np.clip(cy + cut_h // 2, 0, H)\n",
    "\n",
    "    return bbx1, bby1, bbx2, bby2"
   ]
  },
  {
   "cell_type": "code",
   "execution_count": 30,
   "metadata": {},
   "outputs": [
    {
     "data": {
      "text/plain": [
       "0.3660004616960876"
      ]
     },
     "execution_count": 30,
     "metadata": {},
     "output_type": "execute_result"
    }
   ],
   "source": [
    "np.random.random()"
   ]
  },
  {
   "cell_type": "code",
   "execution_count": 31,
   "metadata": {},
   "outputs": [],
   "source": [
    "from over9000.over9000 import Over9000\n",
    "from over9000.radam import RAdam"
   ]
  },
  {
   "cell_type": "code",
   "execution_count": 32,
   "metadata": {},
   "outputs": [],
   "source": [
    "def train(args):\n",
    "    global model\n",
    "\n",
    "    if args.optim == 'Adam':\n",
    "        optimizer = optim.Adam(model.parameters(), lr=args.lr, weight_decay=0.0001)\n",
    "    elif args.optim == 'RAdam':\n",
    "        optimizer = RAdam(model.parameters(), lr=args.lr)\n",
    "    elif args.optim == 'Over9000':\n",
    "        optimizer = Over9000(model.parameters(), lr=args.lr)\n",
    "    else:\n",
    "        optimizer = optim.SGD(model.parameters(), lr=args.lr, momentum=0.9, weight_decay=0.0001)\n",
    "\n",
    "    if args.lrs == 'plateau':\n",
    "        lr_scheduler = optim.lr_scheduler.ReduceLROnPlateau(optimizer, mode='max', factor=args.factor, patience=args.patience, min_lr=args.min_lr)\n",
    "    else:\n",
    "        lr_scheduler = optim.lr_scheduler.CosineAnnealingLR(optimizer, args.t_max, eta_min=args.min_lr)\n",
    "        \n",
    "    model, optimizer = amp.initialize(model, optimizer, opt_level=\"O1\",verbosity=0)\n",
    "    \n",
    "    if torch.cuda.device_count() > 1:\n",
    "        model = nn.DataParallel(model)\n",
    "\n",
    "    best_metrics = 0.\n",
    "    best_key = 'recall'\n",
    "    \n",
    "    val_metrics = validate(model, val_loader)\n",
    "    print(val_metrics)\n",
    "    best_metrics = val_metrics[best_key]\n",
    "    \n",
    "    model.train()\n",
    "    #optimizer.zero_grad()\n",
    "\n",
    "    #if args.lrs == 'plateau':\n",
    "    #    lr_scheduler.step(best_metrics)\n",
    "    #else:\n",
    "    #    lr_scheduler.step()\n",
    "    train_iter = 0\n",
    "\n",
    "    for epoch in range(args.num_epochs):\n",
    "        train_loss = 0\n",
    "\n",
    "        current_lr = get_lrs(optimizer)\n",
    "        bg = time.time()\n",
    "        for batch_idx, (img, targets) in enumerate(train_loader):\n",
    "            train_iter += 1\n",
    "            img, targets  = img.cuda(), targets.cuda()\n",
    "            #do_mixup = False #(np.random.random() < 0.4)\n",
    "            \n",
    "            #if do_mixup:\n",
    "            #    img, targets = mixup(img, targets)\n",
    "            batch_size = img.size(0)\n",
    "          \n",
    "            \n",
    "            \n",
    "            #if do_mixup:\n",
    "            #    loss = mixup_criterion(outputs, targets)\n",
    "            #else:\n",
    "            #    loss = criterion(outputs, targets)\n",
    "            r = np.random.rand()\n",
    "            #if args.beta > 0 and r < args.cutmix_prob:\n",
    "            if r < 0.5:\n",
    "                # generate mixed sample\n",
    "                lam = np.random.beta(args.beta, args.beta)\n",
    "                rand_index = torch.randperm(img.size()[0]).cuda()\n",
    "                target_a = targets\n",
    "                target_b = targets[rand_index]\n",
    "                bbx1, bby1, bbx2, bby2 = rand_bbox(img.size(), lam)\n",
    "                img[:, :, bbx1:bbx2, bby1:bby2] = img[rand_index, :, bbx1:bbx2, bby1:bby2]\n",
    "                # adjust lambda to exactly match pixel ratio\n",
    "                lam = 1 - ((bbx2 - bbx1) * (bby2 - bby1) / (img.size()[-1] * img.size()[-2]))\n",
    "                # compute output\n",
    "                outputs = model(img)\n",
    "                loss = criterion(outputs, target_a) * lam + criterion(outputs, target_b) * (1. - lam)\n",
    "            else:\n",
    "                #img, targets = mixup(img, targets)\n",
    "                outputs = model(img)\n",
    "                #loss = mixup_criterion(outputs, targets)\n",
    "                loss = criterion(outputs, targets)\n",
    "            \n",
    "            with amp.scale_loss(loss, optimizer) as scaled_loss:\n",
    "                scaled_loss.backward()\n",
    "            \n",
    "            #loss.backward()\n",
    "            optimizer.step()\n",
    "            optimizer.zero_grad()\n",
    "\n",
    "            \n",
    "            #if batch_idx % 4 == 0:\n",
    "            #    optimizer.step()\n",
    "            #    optimizer.zero_grad()\n",
    "\n",
    "            train_loss += loss.item()\n",
    "            print('\\r {:4d} | {:.6f} | {:06d}/{} | {:.4f} | {:.4f} |'.format(\n",
    "                epoch, float(current_lr[0]), batch_size*(batch_idx+1), train_loader.num, \n",
    "                loss.item(), train_loss/(batch_idx+1)), end='')\n",
    "\n",
    "            if train_iter > 0 and train_iter % args.iter_val == 0:\n",
    "                #outputs = torch.split(outputs, [168, 11, 7], dim=1)\n",
    "            \n",
    "                #preds0 = (torch.max(outputs[0], dim=1)[1]).cpu().numpy()\n",
    "                #preds1 = (torch.max(outputs[1], dim=1)[1]).cpu().numpy()\n",
    "                #preds2 = (torch.max(outputs[2], dim=1)[1]).cpu().numpy()\n",
    "                #train_metrics = calc_metrics(preds0, preds1, preds2, targets.cpu().numpy())\n",
    "                #print('train:', train_metrics)\n",
    "                #save_model(model, model_file+'_latest')\n",
    "                val_metrics = validate(model, val_loader)\n",
    "                print('\\nval:', val_metrics)\n",
    "                \n",
    "                if val_metrics[best_key] > best_metrics:\n",
    "                    best_metrics = val_metrics[best_key]\n",
    "                    save_model(model, model_file)\n",
    "                    print('** saved')\n",
    "                \n",
    "                model.train()\n",
    "                \n",
    "                if args.lrs == 'plateau':\n",
    "                    lr_scheduler.step(best_metrics)\n",
    "                else:\n",
    "                    lr_scheduler.step()\n",
    "                current_lr = get_lrs(optimizer)\n",
    "        \n",
    "    "
   ]
  },
  {
   "cell_type": "code",
   "execution_count": 33,
   "metadata": {},
   "outputs": [],
   "source": [
    "args = Namespace()\n",
    "args.backbone = 'se_resnext50_32x4d'\n",
    "args.ckp_name = 'model2_se_resnext50_fold0.pth'\n",
    "args.predict = False\n",
    "args.optim = 'RAdam'\n",
    "args.lr = 2e-5\n",
    "args.lrs = 'cosine'\n",
    "args.t_max = 15\n",
    "args.factor = 0.6\n",
    "args.patience = 0\n",
    "args.min_lr = 1e-6\n",
    "args.iter_val = 200\n",
    "args.num_epochs = 100000\n",
    "args.batch_size = 1024\n",
    "args.val_batch_size = 1024\n",
    "\n",
    "args.beta = 1.0\n",
    "args.cutmix_prob = 0.5"
   ]
  },
  {
   "cell_type": "code",
   "execution_count": 34,
   "metadata": {},
   "outputs": [
    {
     "name": "stdout",
     "output_type": "stream",
     "text": [
      "(200840, 5)\n",
      "(200840, 32332)\n",
      "(160596, 5) (40244, 5)\n"
     ]
    }
   ],
   "source": [
    "train_loader, val_loader = get_train_val_loaders(batch_size=args.batch_size, val_batch_size=args.val_batch_size, ifold=0)"
   ]
  },
  {
   "cell_type": "code",
   "execution_count": 35,
   "metadata": {},
   "outputs": [
    {
     "name": "stdout",
     "output_type": "stream",
     "text": [
      "model file: ./models/se_resnext50_32x4d/model2_se_resnext50_fold0.pth, exist: True\n",
      "loading ./models/se_resnext50_32x4d/model2_se_resnext50_fold0.pth...\n"
     ]
    }
   ],
   "source": [
    "model, model_file = create_model(args)\n",
    "#if torch.cuda.device_count() > 1:\n",
    "#    model = nn.DataParallel(model)\n",
    "model = model.cuda()\n"
   ]
  },
  {
   "cell_type": "code",
   "execution_count": null,
   "metadata": {},
   "outputs": [
    {
     "name": "stdout",
     "output_type": "stream",
     "text": [
      "{'recall': 0.98213, 'recall_grapheme': 0.9727, 'recall_vowel': 0.990763, 'recall_consonant': 0.992358, 'acc_grapheme': 0.974878, 'acc_vowel': 0.992322, 'acc_consonant': 0.991353, 'loss_grapheme': 0.09996, 'loss_vowel': 0.038796, 'loss_consonant': 0.036455}\n",
      "    1 | 0.000020 | 045056/160596 | 3.8520 | 1.5681 |\n",
      "val: {'recall': 0.981732, 'recall_grapheme': 0.972032, 'recall_vowel': 0.990823, 'recall_consonant': 0.992043, 'acc_grapheme': 0.974158, 'acc_vowel': 0.992297, 'acc_consonant': 0.991055, 'loss_grapheme': 0.11556, 'loss_vowel': 0.055904, 'loss_consonant': 0.048619}\n"
     ]
    },
    {
     "name": "stderr",
     "output_type": "stream",
     "text": [
      "/mnt/chicm/anaconda3/lib/python3.7/site-packages/torch/optim/lr_scheduler.py:73: UserWarning: Seems like `optimizer.step()` has been overridden after learning rate scheduler initialization. Please, make sure to call `optimizer.step()` before `lr_scheduler.step()`. See more details at https://pytorch.org/docs/stable/optim.html#how-to-adjust-learning-rate\n",
      "  \"https://pytorch.org/docs/stable/optim.html#how-to-adjust-learning-rate\", UserWarning)\n"
     ]
    },
    {
     "name": "stdout",
     "output_type": "stream",
     "text": [
      "    2 | 0.000020 | 090112/160596 | 0.0116 | 1.5583 |\n",
      "val: {'recall': 0.981472, 'recall_grapheme': 0.971554, 'recall_vowel': 0.990365, 'recall_consonant': 0.992418, 'acc_grapheme': 0.973189, 'acc_vowel': 0.992098, 'acc_consonant': 0.990806, 'loss_grapheme': 0.162569, 'loss_vowel': 0.099336, 'loss_consonant': 0.078764}\n",
      "    3 | 0.000019 | 135168/160596 | 0.0104 | 1.5188 |\n",
      "val: {'recall': 0.981652, 'recall_grapheme': 0.971992, 'recall_vowel': 0.99017, 'recall_consonant': 0.992454, 'acc_grapheme': 0.973213, 'acc_vowel': 0.991949, 'acc_consonant': 0.99098, 'loss_grapheme': 0.143441, 'loss_vowel': 0.083762, 'loss_consonant': 0.066712}\n",
      "    5 | 0.000018 | 020480/160596 | 4.5529 | 2.2100 |\n",
      "val: {'recall': 0.981492, 'recall_grapheme': 0.971757, 'recall_vowel': 0.990222, 'recall_consonant': 0.992231, 'acc_grapheme': 0.973189, 'acc_vowel': 0.991924, 'acc_consonant': 0.990707, 'loss_grapheme': 0.189168, 'loss_vowel': 0.121868, 'loss_consonant': 0.094003}\n",
      "    6 | 0.000017 | 065536/160596 | 0.0105 | 1.1125 |\n",
      "val: {'recall': 0.982497, 'recall_grapheme': 0.9735, 'recall_vowel': 0.991, 'recall_consonant': 0.991989, 'acc_grapheme': 0.974655, 'acc_vowel': 0.992446, 'acc_consonant': 0.991452, 'loss_grapheme': 0.104576, 'loss_vowel': 0.044134, 'loss_consonant': 0.039814}\n",
      "** saved\n",
      "    7 | 0.000015 | 110592/160596 | 2.9744 | 1.5110 |\n",
      "val: {'recall': 0.982247, 'recall_grapheme': 0.97307, 'recall_vowel': 0.990566, 'recall_consonant': 0.992282, 'acc_grapheme': 0.974481, 'acc_vowel': 0.992247, 'acc_consonant': 0.99098, 'loss_grapheme': 0.10904, 'loss_vowel': 0.048158, 'loss_consonant': 0.043987}\n",
      "    8 | 0.000013 | 155648/160596 | 0.0184 | 1.3154 |\n",
      "val: {'recall': 0.982314, 'recall_grapheme': 0.973, 'recall_vowel': 0.990988, 'recall_consonant': 0.992268, 'acc_grapheme': 0.974779, 'acc_vowel': 0.992496, 'acc_consonant': 0.991328, 'loss_grapheme': 0.100714, 'loss_vowel': 0.039446, 'loss_consonant': 0.03669}\n",
      "   10 | 0.000011 | 040960/160596 | 3.8494 | 1.9974 |\n",
      "val: {'recall': 0.98143, 'recall_grapheme': 0.971571, 'recall_vowel': 0.990218, 'recall_consonant': 0.992361, 'acc_grapheme': 0.973462, 'acc_vowel': 0.992073, 'acc_consonant': 0.99103, 'loss_grapheme': 0.167065, 'loss_vowel': 0.103308, 'loss_consonant': 0.081289}\n",
      "   11 | 0.000010 | 086016/160596 | 3.6987 | 2.0165 |\n",
      "val: {'recall': 0.981289, 'recall_grapheme': 0.971347, 'recall_vowel': 0.98998, 'recall_consonant': 0.992482, 'acc_grapheme': 0.973015, 'acc_vowel': 0.991924, 'acc_consonant': 0.990632, 'loss_grapheme': 0.240525, 'loss_vowel': 0.158293, 'loss_consonant': 0.115659}\n",
      "   12 | 0.000008 | 131072/160596 | 0.0143 | 1.5469 |\n",
      "val: {'recall': 0.982443, 'recall_grapheme': 0.973271, 'recall_vowel': 0.99092, 'recall_consonant': 0.992313, 'acc_grapheme': 0.974928, 'acc_vowel': 0.992521, 'acc_consonant': 0.991552, 'loss_grapheme': 0.101109, 'loss_vowel': 0.040296, 'loss_consonant': 0.037676}\n",
      "   14 | 0.000006 | 016384/160596 | 4.5168 | 1.4749 |\n",
      "val: {'recall': 0.982229, 'recall_grapheme': 0.972862, 'recall_vowel': 0.990833, 'recall_consonant': 0.99236, 'acc_grapheme': 0.974605, 'acc_vowel': 0.992421, 'acc_consonant': 0.991303, 'loss_grapheme': 0.11385, 'loss_vowel': 0.054189, 'loss_consonant': 0.047317}\n",
      "   15 | 0.000004 | 061440/160596 | 4.8777 | 1.6079 |\n",
      "val: {'recall': 0.981566, 'recall_grapheme': 0.971721, 'recall_vowel': 0.990486, 'recall_consonant': 0.992333, 'acc_grapheme': 0.97381, 'acc_vowel': 0.992198, 'acc_consonant': 0.990905, 'loss_grapheme': 0.144724, 'loss_vowel': 0.085879, 'loss_consonant': 0.068546}\n",
      "   16 | 0.000003 | 106496/160596 | 4.5494 | 1.6012 |\n",
      "val: {'recall': 0.981768, 'recall_grapheme': 0.972275, 'recall_vowel': 0.99038, 'recall_consonant': 0.992141, 'acc_grapheme': 0.974108, 'acc_vowel': 0.992098, 'acc_consonant': 0.990707, 'loss_grapheme': 0.131097, 'loss_vowel': 0.070508, 'loss_consonant': 0.059155}\n",
      "   17 | 0.000002 | 151552/160596 | 3.5401 | 1.6293 |\n",
      "val: {'recall': 0.982194, 'recall_grapheme': 0.972896, 'recall_vowel': 0.990769, 'recall_consonant': 0.992216, 'acc_grapheme': 0.974655, 'acc_vowel': 0.992421, 'acc_consonant': 0.991079, 'loss_grapheme': 0.110793, 'loss_vowel': 0.05241, 'loss_consonant': 0.045721}\n",
      "   19 | 0.000001 | 036864/160596 | 0.0101 | 0.9338 |\n",
      "val: {'recall': 0.982386, 'recall_grapheme': 0.973033, 'recall_vowel': 0.991084, 'recall_consonant': 0.992396, 'acc_grapheme': 0.974953, 'acc_vowel': 0.99257, 'acc_consonant': 0.991452, 'loss_grapheme': 0.10052, 'loss_vowel': 0.040079, 'loss_consonant': 0.037233}\n",
      "   20 | 0.000001 | 081920/160596 | 4.8101 | 1.7302 |\n",
      "val: {'recall': 0.982468, 'recall_grapheme': 0.973368, 'recall_vowel': 0.990795, 'recall_consonant': 0.992341, 'acc_grapheme': 0.974878, 'acc_vowel': 0.992545, 'acc_consonant': 0.991378, 'loss_grapheme': 0.104323, 'loss_vowel': 0.044423, 'loss_consonant': 0.040673}\n",
      "   21 | 0.000001 | 126976/160596 | 0.0150 | 1.4888 |\n",
      "val: {'recall': 0.982606, 'recall_grapheme': 0.973554, 'recall_vowel': 0.990993, 'recall_consonant': 0.992323, 'acc_grapheme': 0.974953, 'acc_vowel': 0.99257, 'acc_consonant': 0.991278, 'loss_grapheme': 0.102555, 'loss_vowel': 0.041891, 'loss_consonant': 0.038961}\n",
      "** saved\n",
      "   23 | 0.000002 | 012288/160596 | 4.3248 | 1.8470 |\n",
      "val: {'recall': 0.981899, 'recall_grapheme': 0.972345, 'recall_vowel': 0.990611, 'recall_consonant': 0.992296, 'acc_grapheme': 0.974158, 'acc_vowel': 0.992272, 'acc_consonant': 0.99098, 'loss_grapheme': 0.121852, 'loss_vowel': 0.064531, 'loss_consonant': 0.054556}\n",
      "   24 | 0.000003 | 057344/160596 | 4.6653 | 1.5164 |\n",
      "val: {'recall': 0.982037, 'recall_grapheme': 0.972522, 'recall_vowel': 0.990976, 'recall_consonant': 0.992129, 'acc_grapheme': 0.974481, 'acc_vowel': 0.992247, 'acc_consonant': 0.991079, 'loss_grapheme': 0.113889, 'loss_vowel': 0.055985, 'loss_consonant': 0.048984}\n",
      "   25 | 0.000004 | 102400/160596 | 4.3648 | 1.4486 |\n",
      "val: {'recall': 0.981961, 'recall_grapheme': 0.972471, 'recall_vowel': 0.990647, 'recall_consonant': 0.992257, 'acc_grapheme': 0.974332, 'acc_vowel': 0.992123, 'acc_consonant': 0.99103, 'loss_grapheme': 0.119902, 'loss_vowel': 0.061123, 'loss_consonant': 0.052517}\n",
      "   26 | 0.000006 | 147456/160596 | 3.1853 | 1.8400 |\n",
      "val: {'recall': 0.981729, 'recall_grapheme': 0.971968, 'recall_vowel': 0.99052, 'recall_consonant': 0.992461, 'acc_grapheme': 0.973661, 'acc_vowel': 0.992073, 'acc_consonant': 0.990707, 'loss_grapheme': 0.157787, 'loss_vowel': 0.097834, 'loss_consonant': 0.077812}\n",
      "   28 | 0.000008 | 032768/160596 | 3.5711 | 1.7009 |\n",
      "val: {'recall': 0.981813, 'recall_grapheme': 0.972187, 'recall_vowel': 0.990756, 'recall_consonant': 0.992124, 'acc_grapheme': 0.973512, 'acc_vowel': 0.992247, 'acc_consonant': 0.990781, 'loss_grapheme': 0.137232, 'loss_vowel': 0.079468, 'loss_consonant': 0.065111}\n",
      "   29 | 0.000010 | 077824/160596 | 0.0164 | 1.8666 |\n",
      "val: {'recall': 0.981989, 'recall_grapheme': 0.97255, 'recall_vowel': 0.990552, 'recall_consonant': 0.992303, 'acc_grapheme': 0.974158, 'acc_vowel': 0.992421, 'acc_consonant': 0.990856, 'loss_grapheme': 0.118084, 'loss_vowel': 0.058219, 'loss_consonant': 0.051335}\n",
      "   30 | 0.000011 | 122880/160596 | 0.0138 | 1.7096 |\n",
      "val: {'recall': 0.982635, 'recall_grapheme': 0.973881, 'recall_vowel': 0.990374, 'recall_consonant': 0.992405, 'acc_grapheme': 0.975102, 'acc_vowel': 0.992272, 'acc_consonant': 0.991402, 'loss_grapheme': 0.104126, 'loss_vowel': 0.042943, 'loss_consonant': 0.039694}\n",
      "** saved\n",
      "   32 | 0.000013 | 008192/160596 | 3.8615 | 2.2712 |\n",
      "val: {'recall': 0.98188, 'recall_grapheme': 0.972308, 'recall_vowel': 0.990584, 'recall_consonant': 0.992321, 'acc_grapheme': 0.973362, 'acc_vowel': 0.992198, 'acc_consonant': 0.990781, 'loss_grapheme': 0.163033, 'loss_vowel': 0.10251, 'loss_consonant': 0.080783}\n",
      "   33 | 0.000015 | 053248/160596 | 2.0785 | 2.0554 |\n",
      "val: {'recall': 0.982188, 'recall_grapheme': 0.972842, 'recall_vowel': 0.990894, 'recall_consonant': 0.992173, 'acc_grapheme': 0.974207, 'acc_vowel': 0.992173, 'acc_consonant': 0.990856, 'loss_grapheme': 0.118345, 'loss_vowel': 0.059365, 'loss_consonant': 0.052122}\n",
      "   34 | 0.000017 | 098304/160596 | 0.0099 | 1.5785 |\n",
      "val: {'recall': 0.982615, 'recall_grapheme': 0.97361, 'recall_vowel': 0.990938, 'recall_consonant': 0.992303, 'acc_grapheme': 0.974655, 'acc_vowel': 0.992396, 'acc_consonant': 0.991204, 'loss_grapheme': 0.115781, 'loss_vowel': 0.057191, 'loss_consonant': 0.048844}\n"
     ]
    },
    {
     "name": "stdout",
     "output_type": "stream",
     "text": [
      "   35 | 0.000018 | 143360/160596 | 4.1131 | 1.8110 |\n",
      "val: {'recall': 0.98208, 'recall_grapheme': 0.972535, 'recall_vowel': 0.990844, 'recall_consonant': 0.992404, 'acc_grapheme': 0.973835, 'acc_vowel': 0.992446, 'acc_consonant': 0.991378, 'loss_grapheme': 0.148978, 'loss_vowel': 0.084875, 'loss_consonant': 0.068412}\n",
      "   37 | 0.000019 | 028672/160596 | 2.6233 | 1.5760 |\n",
      "val: {'recall': 0.98188, 'recall_grapheme': 0.97207, 'recall_vowel': 0.991346, 'recall_consonant': 0.992034, 'acc_grapheme': 0.974058, 'acc_vowel': 0.992446, 'acc_consonant': 0.991378, 'loss_grapheme': 0.112496, 'loss_vowel': 0.053568, 'loss_consonant': 0.045383}\n",
      "   38 | 0.000020 | 073728/160596 | 0.0235 | 1.6251 |\n",
      "val: {'recall': 0.982452, 'recall_grapheme': 0.973136, 'recall_vowel': 0.991149, 'recall_consonant': 0.992388, 'acc_grapheme': 0.975301, 'acc_vowel': 0.992918, 'acc_consonant': 0.991676, 'loss_grapheme': 0.099788, 'loss_vowel': 0.037113, 'loss_consonant': 0.035303}\n",
      "   39 | 0.000020 | 118784/160596 | 3.3927 | 1.4419 |\n",
      "val: {'recall': 0.981985, 'recall_grapheme': 0.972822, 'recall_vowel': 0.990245, 'recall_consonant': 0.992052, 'acc_grapheme': 0.974431, 'acc_vowel': 0.992049, 'acc_consonant': 0.991402, 'loss_grapheme': 0.127196, 'loss_vowel': 0.069041, 'loss_consonant': 0.056816}\n",
      "   41 | 0.000020 | 004096/160596 | 0.0097 | 0.7146 |\n",
      "val: {'recall': 0.982228, 'recall_grapheme': 0.972764, 'recall_vowel': 0.991071, 'recall_consonant': 0.992311, 'acc_grapheme': 0.974655, 'acc_vowel': 0.992521, 'acc_consonant': 0.991477, 'loss_grapheme': 0.105471, 'loss_vowel': 0.044592, 'loss_consonant': 0.040095}\n",
      "   42 | 0.000019 | 049152/160596 | 4.4147 | 1.6085 |\n",
      "val: {'recall': 0.981576, 'recall_grapheme': 0.971964, 'recall_vowel': 0.990023, 'recall_consonant': 0.992351, 'acc_grapheme': 0.974133, 'acc_vowel': 0.992347, 'acc_consonant': 0.991229, 'loss_grapheme': 0.114725, 'loss_vowel': 0.057081, 'loss_consonant': 0.049554}\n",
      "   43 | 0.000018 | 094208/160596 | 0.0080 | 1.6048 |\n",
      "val: {'recall': 0.982416, 'recall_grapheme': 0.973597, 'recall_vowel': 0.990336, 'recall_consonant': 0.992134, 'acc_grapheme': 0.974605, 'acc_vowel': 0.992247, 'acc_consonant': 0.990707, 'loss_grapheme': 0.126341, 'loss_vowel': 0.069695, 'loss_consonant': 0.057816}\n",
      "   44 | 0.000017 | 139264/160596 | 2.6641 | 1.5388 |\n",
      "val: {'recall': 0.982682, 'recall_grapheme': 0.973982, 'recall_vowel': 0.990755, 'recall_consonant': 0.992009, 'acc_grapheme': 0.975425, 'acc_vowel': 0.992496, 'acc_consonant': 0.991527, 'loss_grapheme': 0.099008, 'loss_vowel': 0.038631, 'loss_consonant': 0.035626}\n",
      "** saved\n",
      "   46 | 0.000015 | 024576/160596 | 3.8836 | 2.0529 |\n",
      "val: {'recall': 0.982612, 'recall_grapheme': 0.973464, 'recall_vowel': 0.991361, 'recall_consonant': 0.99216, 'acc_grapheme': 0.974679, 'acc_vowel': 0.992471, 'acc_consonant': 0.991527, 'loss_grapheme': 0.123277, 'loss_vowel': 0.067771, 'loss_consonant': 0.055824}\n",
      "   47 | 0.000013 | 069632/160596 | 0.0128 | 1.6723 |\n",
      "val: {'recall': 0.98241, 'recall_grapheme': 0.973175, 'recall_vowel': 0.991014, 'recall_consonant': 0.992278, 'acc_grapheme': 0.974207, 'acc_vowel': 0.992496, 'acc_consonant': 0.991005, 'loss_grapheme': 0.1416, 'loss_vowel': 0.083857, 'loss_consonant': 0.065187}\n",
      "   48 | 0.000011 | 114688/160596 | 0.0112 | 1.4007 |\n",
      "val: {'recall': 0.983189, 'recall_grapheme': 0.974478, 'recall_vowel': 0.991336, 'recall_consonant': 0.992467, 'acc_grapheme': 0.97535, 'acc_vowel': 0.992869, 'acc_consonant': 0.99185, 'loss_grapheme': 0.09936, 'loss_vowel': 0.037894, 'loss_consonant': 0.035422}\n",
      "** saved\n",
      "   49 | 0.000010 | 103424/160596 | 0.4487 | 1.6303 |"
     ]
    }
   ],
   "source": [
    "train(args)"
   ]
  },
  {
   "cell_type": "code",
   "execution_count": null,
   "metadata": {},
   "outputs": [],
   "source": []
  },
  {
   "cell_type": "code",
   "execution_count": null,
   "metadata": {},
   "outputs": [],
   "source": []
  },
  {
   "cell_type": "code",
   "execution_count": null,
   "metadata": {},
   "outputs": [],
   "source": [
    "train(args)"
   ]
  },
  {
   "cell_type": "code",
   "execution_count": null,
   "metadata": {},
   "outputs": [],
   "source": []
  },
  {
   "cell_type": "code",
   "execution_count": null,
   "metadata": {},
   "outputs": [],
   "source": []
  },
  {
   "cell_type": "code",
   "execution_count": null,
   "metadata": {},
   "outputs": [],
   "source": []
  },
  {
   "cell_type": "code",
   "execution_count": null,
   "metadata": {},
   "outputs": [],
   "source": [
    "#save_model(model, model_file)"
   ]
  },
  {
   "cell_type": "code",
   "execution_count": null,
   "metadata": {},
   "outputs": [],
   "source": [
    "del model"
   ]
  },
  {
   "cell_type": "code",
   "execution_count": null,
   "metadata": {},
   "outputs": [],
   "source": []
  },
  {
   "cell_type": "code",
   "execution_count": null,
   "metadata": {},
   "outputs": [],
   "source": []
  }
 ],
 "metadata": {
  "kernelspec": {
   "display_name": "Python 3",
   "language": "python",
   "name": "python3"
  },
  "language_info": {
   "codemirror_mode": {
    "name": "ipython",
    "version": 3
   },
   "file_extension": ".py",
   "mimetype": "text/x-python",
   "name": "python",
   "nbconvert_exporter": "python",
   "pygments_lexer": "ipython3",
   "version": "3.7.4"
  }
 },
 "nbformat": 4,
 "nbformat_minor": 2
}
