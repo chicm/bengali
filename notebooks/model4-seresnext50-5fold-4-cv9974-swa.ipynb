{
 "cells": [
  {
   "cell_type": "code",
   "execution_count": 1,
   "metadata": {},
   "outputs": [],
   "source": [
    "import os\n",
    "import pandas as pd\n",
    "import numpy as np\n",
    "import time, gc\n",
    "import cv2\n",
    "import matplotlib.pyplot as plt\n",
    "import torch\n",
    "import torch.nn as nn\n",
    "import torch.nn.functional as F\n",
    "import torch.optim as optim\n",
    "import pretrainedmodels\n",
    "from argparse import Namespace\n",
    "from sklearn.utils import shuffle\n",
    "from apex import amp\n",
    "from sklearn.model_selection import StratifiedKFold\n",
    "from efficientnet_pytorch import EfficientNet\n",
    "from cvcore.data.auto_augment import RandAugment\n",
    "from PIL import Image\n",
    "from utils import bn_update, moving_average, copy_model"
   ]
  },
  {
   "cell_type": "code",
   "execution_count": 2,
   "metadata": {},
   "outputs": [
    {
     "name": "stdout",
     "output_type": "stream",
     "text": [
      "class_map.csv\t\t       train.csv\r\n",
      "sample_submission.csv\t       train.csv.zip\r\n",
      "test.csv\t\t       train_image_data_0.parquet\r\n",
      "test_image_data_0.parquet      train_image_data_0.parquet.zip\r\n",
      "test_image_data_0.parquet.zip  train_image_data_1.parquet\r\n",
      "test_image_data_1.parquet      train_image_data_1.parquet.zip\r\n",
      "test_image_data_1.parquet.zip  train_image_data_2.parquet\r\n",
      "test_image_data_2.parquet      train_image_data_2.parquet.zip\r\n",
      "test_image_data_2.parquet.zip  train_image_data_3.parquet\r\n",
      "test_image_data_3.parquet      train_image_data_3.parquet.zip\r\n",
      "test_image_data_3.parquet.zip\r\n"
     ]
    }
   ],
   "source": [
    "!ls /home/chec/data/bengali"
   ]
  },
  {
   "cell_type": "code",
   "execution_count": 3,
   "metadata": {},
   "outputs": [],
   "source": [
    "#!ls /home/chec/data/bengali"
   ]
  },
  {
   "cell_type": "code",
   "execution_count": 4,
   "metadata": {},
   "outputs": [],
   "source": [
    "DATA_DIR = '/home/chec/data/bengali'"
   ]
  },
  {
   "cell_type": "code",
   "execution_count": 5,
   "metadata": {},
   "outputs": [],
   "source": [
    "train_df = pd.read_csv(f'{DATA_DIR}/train.csv')\n",
    "test_df = pd.read_csv(f'{DATA_DIR}/test.csv')\n",
    "class_map_df = pd.read_csv(f'{DATA_DIR}/class_map.csv')\n",
    "sample_sub_df = pd.read_csv(f'{DATA_DIR}/sample_submission.csv')"
   ]
  },
  {
   "cell_type": "code",
   "execution_count": 6,
   "metadata": {},
   "outputs": [
    {
     "data": {
      "text/html": [
       "<div>\n",
       "<style scoped>\n",
       "    .dataframe tbody tr th:only-of-type {\n",
       "        vertical-align: middle;\n",
       "    }\n",
       "\n",
       "    .dataframe tbody tr th {\n",
       "        vertical-align: top;\n",
       "    }\n",
       "\n",
       "    .dataframe thead th {\n",
       "        text-align: right;\n",
       "    }\n",
       "</style>\n",
       "<table border=\"1\" class=\"dataframe\">\n",
       "  <thead>\n",
       "    <tr style=\"text-align: right;\">\n",
       "      <th></th>\n",
       "      <th>image_id</th>\n",
       "      <th>grapheme_root</th>\n",
       "      <th>vowel_diacritic</th>\n",
       "      <th>consonant_diacritic</th>\n",
       "      <th>grapheme</th>\n",
       "    </tr>\n",
       "  </thead>\n",
       "  <tbody>\n",
       "    <tr>\n",
       "      <th>0</th>\n",
       "      <td>Train_0</td>\n",
       "      <td>15</td>\n",
       "      <td>9</td>\n",
       "      <td>5</td>\n",
       "      <td>ক্ট্রো</td>\n",
       "    </tr>\n",
       "    <tr>\n",
       "      <th>1</th>\n",
       "      <td>Train_1</td>\n",
       "      <td>159</td>\n",
       "      <td>0</td>\n",
       "      <td>0</td>\n",
       "      <td>হ</td>\n",
       "    </tr>\n",
       "    <tr>\n",
       "      <th>2</th>\n",
       "      <td>Train_2</td>\n",
       "      <td>22</td>\n",
       "      <td>3</td>\n",
       "      <td>5</td>\n",
       "      <td>খ্রী</td>\n",
       "    </tr>\n",
       "    <tr>\n",
       "      <th>3</th>\n",
       "      <td>Train_3</td>\n",
       "      <td>53</td>\n",
       "      <td>2</td>\n",
       "      <td>2</td>\n",
       "      <td>র্টি</td>\n",
       "    </tr>\n",
       "    <tr>\n",
       "      <th>4</th>\n",
       "      <td>Train_4</td>\n",
       "      <td>71</td>\n",
       "      <td>9</td>\n",
       "      <td>5</td>\n",
       "      <td>থ্রো</td>\n",
       "    </tr>\n",
       "  </tbody>\n",
       "</table>\n",
       "</div>"
      ],
      "text/plain": [
       "  image_id  grapheme_root  vowel_diacritic  consonant_diacritic grapheme\n",
       "0  Train_0             15                9                    5   ক্ট্রো\n",
       "1  Train_1            159                0                    0        হ\n",
       "2  Train_2             22                3                    5     খ্রী\n",
       "3  Train_3             53                2                    2     র্টি\n",
       "4  Train_4             71                9                    5     থ্রো"
      ]
     },
     "execution_count": 6,
     "metadata": {},
     "output_type": "execute_result"
    }
   ],
   "source": [
    "train_df.head()"
   ]
  },
  {
   "cell_type": "code",
   "execution_count": 7,
   "metadata": {},
   "outputs": [],
   "source": [
    "HEIGHT = 137\n",
    "WIDTH = 236"
   ]
  },
  {
   "cell_type": "code",
   "execution_count": 8,
   "metadata": {},
   "outputs": [],
   "source": [
    "#import albumentations as albu\n",
    "def get_train_augs():\n",
    "    return RandAugment(n=2, m=27)"
   ]
  },
  {
   "cell_type": "code",
   "execution_count": 9,
   "metadata": {},
   "outputs": [],
   "source": [
    "#plt.imshow(x)"
   ]
  },
  {
   "cell_type": "code",
   "execution_count": 10,
   "metadata": {},
   "outputs": [],
   "source": [
    "#np.arange(10).copy()"
   ]
  },
  {
   "cell_type": "code",
   "execution_count": 11,
   "metadata": {},
   "outputs": [],
   "source": [
    "from torch.utils.data import DataLoader, Dataset\n",
    "from torchvision import transforms\n",
    "\n",
    "\n",
    "class BengaliDataset(Dataset):\n",
    "    def __init__(self, df, img_df, train_mode=True, test_mode=False):\n",
    "        self.df = df\n",
    "        self.img_df = img_df\n",
    "        self.train_mode = train_mode\n",
    "        self.test_mode = test_mode\n",
    "\n",
    "    def __getitem__(self, idx):\n",
    "        row = self.df.iloc[idx]\n",
    "        img = self.get_img(row.image_id)\n",
    "        orig_img = img.copy()\n",
    "        #print(img.shape)\n",
    "        if self.train_mode:\n",
    "            augs = get_train_augs()\n",
    "            #img = augs(image=img)['image']\n",
    "            img = np.asarray(augs(Image.fromarray(img)))\n",
    "        \n",
    "        img = np.expand_dims(img, axis=-1)\n",
    "        orig_img = np.expand_dims(orig_img, axis=-1)\n",
    "        \n",
    "        #print('###', img.shape)\n",
    "        #img = np.concatenate([img, img, img], 2)\n",
    "        #print('>>>', img.shape)\n",
    "        \n",
    "        # taken from https://www.kaggle.com/iafoss/image-preprocessing-128x128\n",
    "        #MEAN = [ 0.06922848809290576,  0.06922848809290576,  0.06922848809290576]\n",
    "        #STD = [ 0.20515700083327537,  0.20515700083327537,  0.20515700083327537]\n",
    "        \n",
    "        img = transforms.functional.to_tensor(img)\n",
    "        orig_img = transforms.functional.to_tensor(orig_img)\n",
    "        \n",
    "        #img = transforms.functional.normalize(img, mean=MEAN, std=STD)\n",
    "        \n",
    "        if self.test_mode:\n",
    "            return img\n",
    "        elif self.train_mode:\n",
    "            return img, orig_img, torch.tensor([row.grapheme_root, row.vowel_diacritic, row.consonant_diacritic, row.word_label])\n",
    "        else:\n",
    "            return img, torch.tensor([row.grapheme_root, row.vowel_diacritic, row.consonant_diacritic, row.word_label])\n",
    "                    \n",
    "    def get_img(self, img_id):\n",
    "        return 255 - self.img_df.loc[img_id].values.reshape(HEIGHT, WIDTH).astype(np.uint8)\n",
    "\n",
    "    def __len__(self):\n",
    "        return len(self.df)\n",
    "    \n",
    "def get_train_val_loaders(batch_size=4, val_batch_size=4, ifold=0, dev_mode=False):\n",
    "    train_df = pd.read_csv(f'{DATA_DIR}/train.csv')\n",
    "\n",
    "    train_df = shuffle(train_df, random_state=1234)\n",
    "\n",
    "    grapheme_words = np.unique(train_df.grapheme.values)\n",
    "    grapheme_words_dict = {grapheme: i for i, grapheme in enumerate(grapheme_words)}\n",
    "    train_df['word_label'] = train_df['grapheme'].map(lambda x: grapheme_words_dict[x])\n",
    "\n",
    "    print(train_df.shape)\n",
    "\n",
    "    if dev_mode:\n",
    "        img_df = pd.read_parquet(f'{DATA_DIR}/train_image_data_0.parquet').set_index('image_id')\n",
    "        train_df = train_df.iloc[:1000]\n",
    "    else:\n",
    "        img_dfs = [pd.read_parquet(f'{DATA_DIR}/train_image_data_{i}.parquet') for i in range(4)]\n",
    "        img_df = pd.concat(img_dfs, axis=0).set_index('image_id')\n",
    "    print(img_df.shape)\n",
    "    #split_index = int(len(train_df) * 0.9)\n",
    "    \n",
    "    #train = train_df.iloc[:split_index]\n",
    "    #val = train_df.iloc[split_index:]\n",
    "    \n",
    "    kf = StratifiedKFold(5, random_state=1234, shuffle=True)\n",
    "    for i, (train_idx, val_idx) in enumerate(kf.split(train_df, train_df['grapheme_root'].values)):\n",
    "        if i == ifold:\n",
    "            #print(val_idx)\n",
    "            train = train_df.iloc[train_idx]\n",
    "            val = train_df.iloc[val_idx]\n",
    "            break\n",
    "    assert i == ifold\n",
    "    print(train.shape, val.shape)\n",
    "    \n",
    "    train_ds = BengaliDataset(train, img_df, True, False)\n",
    "    val_ds = BengaliDataset(val, img_df, False, False)\n",
    "    \n",
    "    train_loader = DataLoader(train_ds, batch_size=batch_size, shuffle=True, num_workers=8, drop_last=True)\n",
    "    train_loader.num = len(train_ds)\n",
    "\n",
    "    val_loader = DataLoader(val_ds, batch_size=val_batch_size, shuffle=False, num_workers=8, drop_last=False)\n",
    "    val_loader.num = len(val_ds)\n",
    "\n",
    "    return train_loader, val_loader"
   ]
  },
  {
   "cell_type": "code",
   "execution_count": 12,
   "metadata": {},
   "outputs": [],
   "source": [
    "#train_loader, val_loader = get_train_val_loaders()"
   ]
  },
  {
   "cell_type": "code",
   "execution_count": 13,
   "metadata": {},
   "outputs": [],
   "source": [
    "#for x in train_loader:\n",
    "#    print(x)\n",
    "#    break"
   ]
  },
  {
   "cell_type": "markdown",
   "metadata": {},
   "source": [
    "# model"
   ]
  },
  {
   "cell_type": "code",
   "execution_count": 14,
   "metadata": {},
   "outputs": [],
   "source": [
    "#import pretrainedmodels"
   ]
  },
  {
   "cell_type": "code",
   "execution_count": 15,
   "metadata": {},
   "outputs": [],
   "source": [
    "#model_name = 'resnet50' # could be fbresnet152 or inceptionresnetv2\n",
    "#model = pretrainedmodels.__dict__[model_name](num_classes=1000, pretrained='imagenet').cuda()\n",
    "#model.eval()"
   ]
  },
  {
   "cell_type": "code",
   "execution_count": 16,
   "metadata": {},
   "outputs": [],
   "source": [
    "from argparse import Namespace\n",
    "import timm\n",
    "from timm.models.activations import Swish, Mish\n",
    "from timm.models.adaptive_avgmax_pool import SelectAdaptivePool2d"
   ]
  },
  {
   "cell_type": "code",
   "execution_count": 17,
   "metadata": {},
   "outputs": [],
   "source": [
    "MEAN = [ 0.06922848809290576 ]\n",
    "STD = [ 0.20515700083327537 ]"
   ]
  },
  {
   "cell_type": "code",
   "execution_count": 18,
   "metadata": {},
   "outputs": [],
   "source": [
    "class BengaliNet4(nn.Module):\n",
    "    def __init__(self, backbone_name='se_resnext50_32x4d'):\n",
    "        super(BengaliNet4, self).__init__()\n",
    "        self.n_grapheme = 168\n",
    "        self.n_vowel = 11\n",
    "        self.n_consonant = 7\n",
    "        self.n_word = 1295\n",
    "        self.backbone_name = backbone_name\n",
    "        \n",
    "        self.num_classes = self.n_grapheme + self.n_vowel + self.n_consonant + self.n_word\n",
    "        \n",
    "        self.backbone = pretrainedmodels.__dict__[self.backbone_name](num_classes=1000, pretrained='imagenet')\n",
    "        self.fc = nn.Linear(self.backbone.last_linear.in_features, self.num_classes)\n",
    "        \n",
    "        self.num_p2_features = self.backbone.layer2[-1].se_module.fc2.out_channels\n",
    "        self.num_p3_features = self.backbone.layer3[-1].se_module.fc2.out_channels\n",
    "        self.p2_head = nn.Conv2d(self.num_p2_features, self.num_p2_features * 4, kernel_size=(1, 1), stride=(1, 1), bias=False)\n",
    "        self.p3_head = nn.Conv2d(self.num_p3_features, self.num_p3_features * 4, kernel_size=(1, 1), stride=(1, 1), bias=False)\n",
    "        self.bn2 = nn.BatchNorm2d(self.num_p2_features * 4)\n",
    "        self.bn3 = nn.BatchNorm2d(self.num_p3_features * 4)\n",
    "        self.act2 = Swish()\n",
    "        self.act3 = Swish()\n",
    "        \n",
    "        self.fc_aux1 = nn.Linear(self.num_p3_features * 4, self.num_classes)\n",
    "        self.fc_aux2 = nn.Linear(self.num_p2_features * 4, self.num_classes)\n",
    "        \n",
    "        self.avg_pool = nn.AdaptiveAvgPool2d(1)\n",
    "        \n",
    "        for fc in [self.fc, self.fc_aux1, self.fc_aux2]:\n",
    "            nn.init.zeros_(fc.bias.data)\n",
    "\n",
    "        print('init model4')\n",
    "        \n",
    "    def features(self, x):\n",
    "        x = self.backbone.layer0(x); #print(x.size())\n",
    "        x = self.backbone.layer1(x); #print(x.size())\n",
    "        x = self.backbone.layer2(x); p2 = x; p2 = self.p2_head(p2); p2 = self.bn2(p2); p2 = self.act2(p2) #print(x.size())\n",
    "        x = self.backbone.layer3(x); p3 = x; p3 = self.p3_head(p3); p3 = self.bn3(p3); p3 = self.act3(p3) #print(x.size())\n",
    "        x = self.backbone.layer4(x); #print(x.size())\n",
    "        return x, p2, p3\n",
    "        \n",
    "    def logits(self, x, p2, p3):\n",
    "        x = self.avg_pool(x)\n",
    "        #x = F.dropout2d(x, 0.2, self.training)\n",
    "        x = torch.flatten(x, 1)\n",
    "        \n",
    "        p2 = self.avg_pool(p2)\n",
    "        p2 = torch.flatten(p2, 1)\n",
    "        \n",
    "        p3 = self.avg_pool(p3)\n",
    "        p3 = torch.flatten(p3, 1)\n",
    "        return self.fc(x), self.fc_aux1(p3), self.fc_aux2(p2)\n",
    "    \n",
    "    def forward(self, x):\n",
    "        x = F.interpolate(x, size=(224,224), mode='bilinear', align_corners=False)\n",
    "        for i in range(len(x)):\n",
    "            transforms.functional.normalize(x[i], mean=MEAN, std=STD, inplace=True)\n",
    "        x = torch.cat([x,x,x], 1)\n",
    "        #x = self.conv0(x)\n",
    "        #print(x.size())\n",
    "        x, p2, p3 = self.features(x)\n",
    "        x, logits_aux1, logits_aux2 = self.logits(x, p2, p3)\n",
    "\n",
    "        return x, logits_aux1, logits_aux2"
   ]
  },
  {
   "cell_type": "code",
   "execution_count": null,
   "metadata": {},
   "outputs": [],
   "source": []
  },
  {
   "cell_type": "code",
   "execution_count": 19,
   "metadata": {},
   "outputs": [],
   "source": [
    "MODEL_DIR = './model4-ckps'\n",
    "def create_model(args):\n",
    "    model = BengaliNet4(args.backbone)\n",
    "    model_file = os.path.join(MODEL_DIR, args.backbone, args.ckp_name)\n",
    "\n",
    "    parent_dir = os.path.dirname(model_file)\n",
    "    if not os.path.exists(parent_dir):\n",
    "        os.makedirs(parent_dir)\n",
    "\n",
    "    print('model file: {}, exist: {}'.format(model_file, os.path.exists(model_file)))\n",
    "\n",
    "    if os.path.exists(model_file):\n",
    "        print('loading {}...'.format(model_file))\n",
    "        model.load_state_dict(torch.load(model_file))\n",
    "    \n",
    "    return model, model_file"
   ]
  },
  {
   "cell_type": "code",
   "execution_count": 20,
   "metadata": {},
   "outputs": [],
   "source": [
    "#bnet = BengaliNet('se_resnext50_32x4d').cuda()"
   ]
  },
  {
   "cell_type": "code",
   "execution_count": 21,
   "metadata": {},
   "outputs": [],
   "source": [
    "#bnet(torch.randn((2, 1, 137, 236)).cuda()).size()"
   ]
  },
  {
   "cell_type": "markdown",
   "metadata": {},
   "source": [
    "# train"
   ]
  },
  {
   "cell_type": "code",
   "execution_count": 22,
   "metadata": {},
   "outputs": [
    {
     "data": {
      "text/plain": [
       "0.111111"
      ]
     },
     "execution_count": 22,
     "metadata": {},
     "output_type": "execute_result"
    }
   ],
   "source": [
    "round(1/9, 6)"
   ]
  },
  {
   "cell_type": "code",
   "execution_count": 23,
   "metadata": {},
   "outputs": [],
   "source": [
    "import numpy as np\n",
    "import sklearn.metrics\n",
    "import torch\n",
    "\n",
    "\n",
    "def calc_metrics(preds0, preds1, preds2, preds3, y):\n",
    "    assert len(y) == len(preds0) == len(preds1) == len(preds2) == len(preds3)\n",
    "\n",
    "    recall_grapheme = sklearn.metrics.recall_score(preds0, y[:, 0], average='macro')\n",
    "    recall_vowel = sklearn.metrics.recall_score(preds1, y[:, 1], average='macro')\n",
    "    recall_consonant = sklearn.metrics.recall_score(preds2, y[:, 2], average='macro')\n",
    "    recall_word = sklearn.metrics.recall_score(preds3, y[:, 3], average='macro')\n",
    "    \n",
    "    scores = [recall_grapheme, recall_vowel, recall_consonant]\n",
    "    final_recall_score = np.average(scores, weights=[2, 1, 1])\n",
    "    \n",
    "    metrics = {}\n",
    "    metrics['recall'] = round(final_recall_score, 6)\n",
    "    metrics['recall_grapheme'] = round(recall_grapheme, 6)\n",
    "    metrics['recall_vowel'] = round(recall_vowel, 6)\n",
    "    metrics['recall_consonant'] = round(recall_consonant, 6)\n",
    "    metrics['recall_word'] = round(recall_word, 6)\n",
    "    \n",
    "    metrics['acc_grapheme'] = round((preds0 == y[:, 0]).sum() / len(y), 6)\n",
    "    metrics['acc_vowel'] = round((preds1 == y[:, 1]).sum() / len(y), 6)\n",
    "    metrics['acc_consonant'] = round((preds2 == y[:, 2]).sum() / len(y), 6)\n",
    "    metrics['acc_word'] = round((preds3 == y[:, 3]).sum() / len(y), 6)    \n",
    "    \n",
    "    return metrics"
   ]
  },
  {
   "cell_type": "code",
   "execution_count": 24,
   "metadata": {},
   "outputs": [],
   "source": [
    "def criterion(outputs, y_true):\n",
    "    # outputs: (N, 182)\n",
    "    # y_true: (N, 3)\n",
    "    \n",
    "    outputs = torch.split(outputs, [168, 11, 7, 1295], dim=1)\n",
    "    loss0 = F.cross_entropy(outputs[0], y_true[:, 0], reduction='mean')\n",
    "    loss1 = F.cross_entropy(outputs[1], y_true[:, 1], reduction='mean')\n",
    "    loss2 = F.cross_entropy(outputs[2], y_true[:, 2], reduction='mean')\n",
    "    loss3 = F.cross_entropy(outputs[3], y_true[:, 3], reduction='mean')\n",
    "    \n",
    "    return loss0 + loss1 + loss2 + loss3 #, loss0.item(), loss1.item(), loss2.item()\n",
    "    #return loss3"
   ]
  },
  {
   "cell_type": "code",
   "execution_count": 25,
   "metadata": {},
   "outputs": [],
   "source": [
    "def validate(model, val_loader):\n",
    "    model.eval()\n",
    "    loss0, loss1, loss2, loss3 = 0., 0., 0., 0.\n",
    "    preds0, preds1, preds2, preds3 = [], [], [], []\n",
    "    y_true = []\n",
    "    with torch.no_grad():\n",
    "        for x, y in val_loader:\n",
    "            y_true.append(y)\n",
    "            x, y = x.cuda(), y.cuda()\n",
    "            outputs, outputs_aux1, outputs_aux2 = model(x)\n",
    "            #avg_outputs = torch.mean(torch.stack([outputs, outputs_aux1, outputs_aux2], 0), 0)\n",
    "            outputs = torch.split(outputs, [168, 11, 7, 1295], dim=1)\n",
    "            \n",
    "            preds0.append(torch.max(outputs[0], dim=1)[1])\n",
    "            preds1.append(torch.max(outputs[1], dim=1)[1])\n",
    "            preds2.append(torch.max(outputs[2], dim=1)[1])\n",
    "            preds3.append(torch.max(outputs[3], dim=1)[1])\n",
    "            loss0 += F.cross_entropy(outputs[0], y[:, 0], reduction='sum').item()\n",
    "            loss1 += F.cross_entropy(outputs[1], y[:, 1], reduction='sum').item()\n",
    "            loss2 += F.cross_entropy(outputs[2], y[:, 2], reduction='sum').item()\n",
    "            loss3 += F.cross_entropy(outputs[3], y[:, 3], reduction='sum').item()\n",
    "            \n",
    "            # for debug\n",
    "            #metrics = {}\n",
    "            #metrics['loss_grapheme'] =  F.cross_entropy(outputs[0], y[:, 0], reduction='mean').item()\n",
    "            #metrics['loss_vowel'] =  F.cross_entropy(outputs[1], y[:, 1], reduction='mean').item()\n",
    "            #metrics['loss_consonant'] =  F.cross_entropy(outputs[2], y[:, 2], reduction='mean').item()\n",
    "            #return metrics\n",
    "    \n",
    "    preds0 = torch.cat(preds0, 0).cpu().numpy()\n",
    "    preds1 = torch.cat(preds1, 0).cpu().numpy()\n",
    "    preds2 = torch.cat(preds2, 0).cpu().numpy()\n",
    "    preds3 = torch.cat(preds3, 0).cpu().numpy()\n",
    "    \n",
    "    y_true = torch.cat(y_true, 0).numpy()\n",
    "    \n",
    "    #print('y_true:', y_true.shape)\n",
    "    #print('preds0:', preds0.shape)\n",
    "    \n",
    "    metrics = calc_metrics(preds0, preds1, preds2, preds3, y_true)\n",
    "    metrics['loss_grapheme'] = round(loss0 / val_loader.num, 6)\n",
    "    metrics['loss_vowel'] = round(loss1 / val_loader.num, 6)\n",
    "    metrics['loss_consonant'] = round(loss2 / val_loader.num, 6)\n",
    "    metrics['loss_word'] = round(loss3 / val_loader.num, 6)\n",
    "    \n",
    "    return metrics\n",
    "            "
   ]
  },
  {
   "cell_type": "code",
   "execution_count": null,
   "metadata": {},
   "outputs": [],
   "source": []
  },
  {
   "cell_type": "code",
   "execution_count": 26,
   "metadata": {},
   "outputs": [],
   "source": [
    "def get_lrs(optimizer):\n",
    "    lrs = []\n",
    "    for pgs in optimizer.state_dict()['param_groups']:\n",
    "        lrs.append(pgs['lr'])\n",
    "    lrs = ['{:.6f}'.format(x) for x in lrs]\n",
    "    return lrs"
   ]
  },
  {
   "cell_type": "code",
   "execution_count": 27,
   "metadata": {},
   "outputs": [],
   "source": [
    "def save_model(model, model_file):\n",
    "    parent_dir = os.path.dirname(model_file)\n",
    "    if not os.path.exists(parent_dir):\n",
    "        os.makedirs(parent_dir)\n",
    "    if isinstance(model, nn.DataParallel):\n",
    "        torch.save(model.module.state_dict(), model_file)\n",
    "    else:\n",
    "        torch.save(model.state_dict(), model_file)"
   ]
  },
  {
   "cell_type": "code",
   "execution_count": 28,
   "metadata": {},
   "outputs": [],
   "source": [
    "def mixup(data, targets, alpha=1):\n",
    "    indices = torch.randperm(data.size(0))\n",
    "    shuffled_data = data[indices]\n",
    "    shuffled_targets = targets[indices]\n",
    "\n",
    "    lam = np.random.beta(alpha, alpha)\n",
    "    data = data * lam + shuffled_data * (1 - lam)\n",
    "    targets = (targets, shuffled_targets, lam)\n",
    "\n",
    "    return data, targets\n",
    "\n",
    "\n",
    "def mixup_criterion(outputs, targets):\n",
    "    targets1, targets2, lam = targets\n",
    "    #criterion = nn.CrossEntropyLoss(reduction='mean')\n",
    "    return lam * criterion(outputs, targets1) + (1 - lam) * criterion(outputs, targets2)"
   ]
  },
  {
   "cell_type": "code",
   "execution_count": 29,
   "metadata": {},
   "outputs": [],
   "source": [
    "def rand_bbox(size, lam):\n",
    "    W = size[2]\n",
    "    H = size[3]\n",
    "    cut_rat = np.sqrt(1. - lam)\n",
    "    cut_w = np.int(W * cut_rat)\n",
    "    cut_h = np.int(H * cut_rat)\n",
    "\n",
    "    # uniform\n",
    "    cx = np.random.randint(W)\n",
    "    cy = np.random.randint(H)\n",
    "\n",
    "    bbx1 = np.clip(cx - cut_w // 2, 0, W)\n",
    "    bby1 = np.clip(cy - cut_h // 2, 0, H)\n",
    "    bbx2 = np.clip(cx + cut_w // 2, 0, W)\n",
    "    bby2 = np.clip(cy + cut_h // 2, 0, H)\n",
    "\n",
    "    return bbx1, bby1, bbx2, bby2"
   ]
  },
  {
   "cell_type": "code",
   "execution_count": 30,
   "metadata": {},
   "outputs": [
    {
     "data": {
      "text/plain": [
       "0.6713446480549948"
      ]
     },
     "execution_count": 30,
     "metadata": {},
     "output_type": "execute_result"
    }
   ],
   "source": [
    "np.random.random()"
   ]
  },
  {
   "cell_type": "code",
   "execution_count": 31,
   "metadata": {},
   "outputs": [],
   "source": [
    "from over9000.over9000 import Over9000\n",
    "from over9000.radam import RAdam\n",
    "from gridmask import GridMask"
   ]
  },
  {
   "cell_type": "code",
   "execution_count": 32,
   "metadata": {},
   "outputs": [],
   "source": [
    "from cvcore.solver import WarmupCyclicalLR\n",
    "def make_optimizer(model, base_lr=4e-4, weight_decay=0., weight_decay_bias=0., epsilon=1e-3):\n",
    "    \"\"\"\n",
    "    Create optimizer with per-layer learning rate and weight decay.\n",
    "    \"\"\"\n",
    "    params = []\n",
    "    for key, value in model.named_parameters():\n",
    "        if not value.requires_grad:\n",
    "            continue\n",
    "        lr = base_lr\n",
    "        params += [{\"params\": [value], \"lr\": lr, \"weight_decay\": weight_decay_bias if 'bias' in key else weight_decay}]\n",
    "    \n",
    "    optimizer = torch.optim.AdamW(params, lr, eps=epsilon)\n",
    "    return optimizer"
   ]
  },
  {
   "cell_type": "code",
   "execution_count": 33,
   "metadata": {},
   "outputs": [],
   "source": [
    "def train_epoch(args, model, train_loader, epoch, optimizer, lr_scheduler, grid):\n",
    "    train_loss = 0\n",
    "\n",
    "    for batch_idx, (img, orig_img, targets) in enumerate(train_loader):\n",
    "        img, orig_img, targets  = img.cuda(), orig_img.cuda(), targets.cuda()\n",
    "        batch_size = img.size(0)\n",
    "        r = np.random.rand()\n",
    "\n",
    "        if r < 0.3:\n",
    "            # generate mixed sample\n",
    "            lam = np.random.beta(args.beta, args.beta)\n",
    "            rand_index = torch.randperm(img.size()[0]).cuda()\n",
    "            target_a = targets\n",
    "            target_b = targets[rand_index]\n",
    "            bbx1, bby1, bbx2, bby2 = rand_bbox(img.size(), lam)\n",
    "            #img[:, :, bby1:bby2, bbx1:bbx2] = img[rand_index, :, bby1:bby2, bbx1:bbx2] #for new cutmix\n",
    "            img[:, :, bbx1:bbx2, bby1:bby2] = img[rand_index, :, bbx1:bbx2, bby1:bby2]\n",
    "            \n",
    "            # adjust lambda to exactly match pixel ratio\n",
    "            lam = 1 - ((bbx2 - bbx1) * (bby2 - bby1) / (img.size()[-1] * img.size()[-2]))\n",
    "            # compute output\n",
    "            outputs, outputs_aux1, outputs_aux2 = model(img)\n",
    "            loss_primary = criterion(outputs, target_a) * lam + criterion(outputs, target_b) * (1. - lam)\n",
    "            loss_aux1 = criterion(outputs_aux1, target_a) * lam + criterion(outputs_aux1, target_b) * (1. - lam)\n",
    "            loss_aux2 = criterion(outputs_aux2, target_a) * lam + criterion(outputs_aux2, target_b) * (1. - lam)\n",
    "            loss = loss_primary + (loss_aux1 + loss_aux2)*0.8\n",
    "        elif r > 0.7:\n",
    "            img = grid(img)\n",
    "            outputs, outputs_aux1, outputs_aux2 = model(img)\n",
    "            loss_primary = criterion(outputs, targets)\n",
    "            loss_aux1 = criterion(outputs_aux1, targets)\n",
    "            loss_aux2 = criterion(outputs_aux2, targets)\n",
    "            loss = loss_primary + (loss_aux1 + loss_aux2)*0.8\n",
    "        else:\n",
    "            orig_img, targets = mixup(orig_img, targets)\n",
    "            outputs, outputs_aux1, outputs_aux2 = model(orig_img)\n",
    "            loss_primary = mixup_criterion(outputs, targets)\n",
    "            loss_aux1 = mixup_criterion(outputs_aux1, targets)\n",
    "            loss_aux2 = mixup_criterion(outputs_aux2, targets)\n",
    "            loss = loss_primary + (loss_aux1 + loss_aux2)*0.8\n",
    "            #loss = criterion(outputs, targets)\n",
    "\n",
    "        optimizer.zero_grad()\n",
    "        with amp.scale_loss(loss, optimizer) as scaled_loss:\n",
    "            scaled_loss.backward()\n",
    "        #loss.backward()\n",
    "        lr_scheduler(optimizer, batch_idx, epoch)\n",
    "        optimizer.step()            \n",
    "        \n",
    "        current_lr = get_lrs(optimizer)\n",
    "\n",
    "        train_loss += loss.item()\n",
    "        print('\\r {:4d} | {:.6f} | {:06d}/{} | {:.4f} | {:.4f} |'.format(\n",
    "            epoch, float(current_lr[0]), batch_size*(batch_idx+1), train_loader.num, \n",
    "            loss.item(), train_loss/(batch_idx+1)), end='')\n"
   ]
  },
  {
   "cell_type": "code",
   "execution_count": 34,
   "metadata": {},
   "outputs": [],
   "source": [
    "import copy\n",
    "best_metrics = 0.\n",
    "best_metrics_swa = 0.\n",
    "\n",
    "\n",
    "def validate_and_save(model, model_file, val_loader, save=False):\n",
    "    global best_metrics\n",
    "    best_key = 'recall'\n",
    "    val_metrics = validate(model, val_loader)\n",
    "    print('\\nval:', val_metrics)\n",
    "    \n",
    "    if val_metrics[best_key] > best_metrics:\n",
    "        best_metrics = val_metrics[best_key]\n",
    "        if save:\n",
    "            save_model(model, model_file)\n",
    "            print('###>>>>> saved', model_file)\n",
    "    model.train()\n",
    "\n",
    "def validate_and_save_swa(model, model_file, val_loader, save=False):\n",
    "    global best_metrics_swa\n",
    "    best_key = 'recall'\n",
    "    val_metrics = validate(model, val_loader)\n",
    "    print('\\nval:', val_metrics)\n",
    "    \n",
    "    if val_metrics[best_key] > best_metrics_swa:\n",
    "        best_metrics_swa = val_metrics[best_key]\n",
    "        if save:\n",
    "            save_model(model, model_file)\n",
    "            print('###>>>>> saved', model_file)\n",
    "    model.train()\n",
    "\n",
    "\n",
    "def train(args):\n",
    "    model, model_file = create_model(args)\n",
    "    model = model.cuda()\n",
    "\n",
    "    swa_args = copy.deepcopy(args)\n",
    "    swa_args.ckp_name = args.ckp_name + '_swa'\n",
    "    swa_model, swa_model_file = create_model(swa_args)\n",
    "    swa_model = swa_model.cuda()\n",
    "\n",
    "    optimizer = make_optimizer(model)\n",
    "    lr_scheduler = WarmupCyclicalLR(\n",
    "        \"cos\", args.base_lr, args.num_epochs, iters_per_epoch=len(train_loader), warmup_epochs=args.warmup_epochs)\n",
    "    \n",
    "    [model, swa_model], optimizer = amp.initialize([model, swa_model], optimizer, opt_level=\"O1\",verbosity=0)\n",
    "    \n",
    "    if torch.cuda.device_count() > 1:\n",
    "        model = nn.DataParallel(model)\n",
    "        swa_model = nn.DataParallel(swa_model)\n",
    "    \n",
    "    validate_and_save(model, model_file, val_loader, save=False)\n",
    "\n",
    "    swa_model_loaded = False\n",
    "    if os.path.exists(swa_model_file):\n",
    "        swa_model_loaded = True\n",
    "        validate_and_save_swa(swa_model, swa_model_file, val_loader, save=False)\n",
    "    \n",
    "    for cycle in range(1, args.num_cycles+1):\n",
    "        print('CYCLE:', cycle)\n",
    "        grid = GridMask(64, 128, rotate=15, ratio=0.6, mode=1, prob=1.)\n",
    "\n",
    "        for epoch in range(args.start_epoch, args.num_epochs):\n",
    "            grid.set_prob(epoch, args.st_epochs)\n",
    "            train_epoch(args, model, train_loader, epoch, optimizer, lr_scheduler, grid)\n",
    "            validate_and_save(model, model_file, val_loader, save=True)\n",
    "            \n",
    "            if (epoch+1) == args.swa_start and cycle == 1:\n",
    "                if not swa_model_loaded:\n",
    "                    copy_model(swa_model, model)\n",
    "                swa_n = args.swa_n\n",
    "            if (epoch+1) >= args.swa_start and (epoch+1) % args.swa_freq == 0:\n",
    "                print('SWA>>>:')\n",
    "                moving_average(swa_model, model, 1.0 / (swa_n + 1))\n",
    "                swa_n += 1\n",
    "                bn_update(train_loader, swa_model)\n",
    "                validate_and_save_swa(swa_model, swa_model_file, val_loader, save=True)\n",
    "\n",
    "        #args.base_lr = 4e-4\n",
    "        #args.num_epochs = 60\n",
    "        #args.warmup_epochs = 3\n",
    "\n",
    "        # reset scheduler at each cycle\n",
    "        lr_scheduler = WarmupCyclicalLR(\n",
    "            \"cos\", args.base_lr, args.num_epochs, iters_per_epoch=len(train_loader), warmup_epochs=args.warmup_epochs)"
   ]
  },
  {
   "cell_type": "code",
   "execution_count": 35,
   "metadata": {},
   "outputs": [],
   "source": [
    "args = Namespace()\n",
    "args.backbone = 'se_resnext50_32x4d'\n",
    "args.ckp_name = 'model4_se_resnext50_fold4_224.pth'\n",
    "\n",
    "args.base_lr = 1e-4\n",
    "args.num_epochs = 60\n",
    "args.start_epoch = 0\n",
    "args.warmup_epochs = 5\n",
    "\n",
    "args.num_cycles = 100\n",
    "args.batch_size = 640\n",
    "args.val_batch_size = 1024\n",
    "args.st_epochs = 10\n",
    "\n",
    "args.swa_start = 15\n",
    "args.swa_freq = 4\n",
    "args.swa_n = 0\n",
    "\n",
    "args.beta = 1.0\n",
    "args.cutmix_prob = 0.5"
   ]
  },
  {
   "cell_type": "code",
   "execution_count": 36,
   "metadata": {},
   "outputs": [],
   "source": [
    "torch.backends.cudnn.deterministic = True\n",
    "torch.backends.cudnn.benchmark = False"
   ]
  },
  {
   "cell_type": "code",
   "execution_count": 37,
   "metadata": {},
   "outputs": [
    {
     "name": "stdout",
     "output_type": "stream",
     "text": [
      "(200840, 6)\n",
      "(200840, 32332)\n",
      "(160735, 6) (40105, 6)\n"
     ]
    }
   ],
   "source": [
    "train_loader, val_loader = get_train_val_loaders(batch_size=args.batch_size, val_batch_size=args.val_batch_size, ifold=4)"
   ]
  },
  {
   "cell_type": "code",
   "execution_count": null,
   "metadata": {},
   "outputs": [],
   "source": [
    "train(args)"
   ]
  },
  {
   "cell_type": "code",
   "execution_count": null,
   "metadata": {},
   "outputs": [],
   "source": []
  },
  {
   "cell_type": "code",
   "execution_count": 37,
   "metadata": {},
   "outputs": [
    {
     "name": "stdout",
     "output_type": "stream",
     "text": [
      "init model4\n",
      "model file: ./model4-ckps/se_resnext50_32x4d/model4_se_resnext50_fold4_224.pth, exist: True\n",
      "loading ./model4-ckps/se_resnext50_32x4d/model4_se_resnext50_fold4_224.pth...\n",
      "init model4\n",
      "model file: ./model4-ckps/se_resnext50_32x4d/model4_se_resnext50_fold4_224.pth_swa, exist: False\n",
      "\n",
      "val: {'recall': 0.997979, 'recall_grapheme': 0.997128, 'recall_vowel': 0.998817, 'recall_consonant': 0.998844, 'recall_word': 0.996412, 'acc_grapheme': 0.996883, 'acc_vowel': 0.998678, 'acc_consonant': 0.998703, 'acc_word': 0.996384, 'loss_grapheme': 0.013433, 'loss_vowel': 0.006937, 'loss_consonant': 0.005918, 'loss_word': 0.015887}\n",
      "CYCLE: 1\n",
      "    0 | 0.000020 | 160640/160735 | 22.8353 | 10.1248 |\n",
      "val: {'recall': 0.996718, 'recall_grapheme': 0.994916, 'recall_vowel': 0.998495, 'recall_consonant': 0.998547, 'recall_word': 0.994972, 'acc_grapheme': 0.995337, 'acc_vowel': 0.998504, 'acc_consonant': 0.998454, 'acc_word': 0.994888, 'loss_grapheme': 0.089975, 'loss_vowel': 0.064574, 'loss_consonant': 0.04556, 'loss_word': 0.060745}\n",
      "    1 | 0.000040 | 160640/160735 | 19.9841 | 10.2500 |\n",
      "val: {'recall': 0.997072, 'recall_grapheme': 0.995421, 'recall_vowel': 0.998753, 'recall_consonant': 0.998693, 'recall_word': 0.99554, 'acc_grapheme': 0.995836, 'acc_vowel': 0.998703, 'acc_consonant': 0.998654, 'acc_word': 0.995487, 'loss_grapheme': 0.057345, 'loss_vowel': 0.042034, 'loss_consonant': 0.030822, 'loss_word': 0.04042}\n",
      "    2 | 0.000060 | 160640/160735 | 15.8056 | 9.9243 ||\n",
      "val: {'recall': 0.997188, 'recall_grapheme': 0.995649, 'recall_vowel': 0.998867, 'recall_consonant': 0.998587, 'recall_word': 0.995459, 'acc_grapheme': 0.995986, 'acc_vowel': 0.998629, 'acc_consonant': 0.998554, 'acc_word': 0.995412, 'loss_grapheme': 0.05047, 'loss_vowel': 0.034633, 'loss_consonant': 0.025218, 'loss_word': 0.037899}\n",
      "    3 | 0.000079 | 160640/160735 | 2.8367 | 9.4075 |||\n",
      "val: {'recall': 0.996653, 'recall_grapheme': 0.994981, 'recall_vowel': 0.998437, 'recall_consonant': 0.998212, 'recall_word': 0.994938, 'acc_grapheme': 0.995462, 'acc_vowel': 0.998354, 'acc_consonant': 0.998554, 'acc_word': 0.994888, 'loss_grapheme': 0.061614, 'loss_vowel': 0.043902, 'loss_consonant': 0.03192, 'loss_word': 0.045877}\n",
      "    4 | 0.000098 | 160640/160735 | 2.8958 | 9.5216 |||\n",
      "val: {'recall': 0.996676, 'recall_grapheme': 0.994732, 'recall_vowel': 0.998639, 'recall_consonant': 0.998602, 'recall_word': 0.994836, 'acc_grapheme': 0.995213, 'acc_vowel': 0.998429, 'acc_consonant': 0.998504, 'acc_word': 0.994764, 'loss_grapheme': 0.056107, 'loss_vowel': 0.039139, 'loss_consonant': 0.02897, 'loss_word': 0.0426}\n",
      "    5 | 0.000098 | 160640/160735 | 24.5861 | 9.7964 ||\n",
      "val: {'recall': 0.996157, 'recall_grapheme': 0.99397, 'recall_vowel': 0.998565, 'recall_consonant': 0.998123, 'recall_word': 0.994401, 'acc_grapheme': 0.994789, 'acc_vowel': 0.998429, 'acc_consonant': 0.998429, 'acc_word': 0.99429, 'loss_grapheme': 0.092766, 'loss_vowel': 0.064173, 'loss_consonant': 0.044858, 'loss_word': 0.065161}\n",
      "    6 | 0.000097 | 160640/160735 | 2.8647 | 10.2943 ||\n",
      "val: {'recall': 0.996758, 'recall_grapheme': 0.99497, 'recall_vowel': 0.998541, 'recall_consonant': 0.998553, 'recall_word': 0.994883, 'acc_grapheme': 0.995437, 'acc_vowel': 0.998429, 'acc_consonant': 0.998379, 'acc_word': 0.994839, 'loss_grapheme': 0.041756, 'loss_vowel': 0.027314, 'loss_consonant': 0.021547, 'loss_word': 0.033885}\n",
      "    7 | 0.000096 | 160640/160735 | 2.5096 | 10.5872 ||\n",
      "val: {'recall': 0.996394, 'recall_grapheme': 0.994611, 'recall_vowel': 0.998344, 'recall_consonant': 0.998009, 'recall_word': 0.994333, 'acc_grapheme': 0.995063, 'acc_vowel': 0.998105, 'acc_consonant': 0.998454, 'acc_word': 0.99429, 'loss_grapheme': 0.044085, 'loss_vowel': 0.027644, 'loss_consonant': 0.020549, 'loss_word': 0.035343}\n",
      "    8 | 0.000095 | 160640/160735 | 12.6508 | 10.4349 |\n",
      "val: {'recall': 0.99585, 'recall_grapheme': 0.99373, 'recall_vowel': 0.998156, 'recall_consonant': 0.997786, 'recall_word': 0.993356, 'acc_grapheme': 0.994091, 'acc_vowel': 0.998055, 'acc_consonant': 0.998055, 'acc_word': 0.993293, 'loss_grapheme': 0.074934, 'loss_vowel': 0.047539, 'loss_consonant': 0.036035, 'loss_word': 0.055916}\n",
      "    9 | 0.000093 | 160640/160735 | 10.6898 | 9.0637 |\n",
      "val: {'recall': 0.996003, 'recall_grapheme': 0.993798, 'recall_vowel': 0.99802, 'recall_consonant': 0.998397, 'recall_word': 0.994074, 'acc_grapheme': 0.994863, 'acc_vowel': 0.997955, 'acc_consonant': 0.998105, 'acc_word': 0.993991, 'loss_grapheme': 0.062334, 'loss_vowel': 0.036179, 'loss_consonant': 0.028695, 'loss_word': 0.048501}\n",
      "   10 | 0.000092 | 160640/160735 | 7.9503 | 10.3124 ||\n",
      "val: {'recall': 0.997124, 'recall_grapheme': 0.995847, 'recall_vowel': 0.998414, 'recall_consonant': 0.998387, 'recall_word': 0.994692, 'acc_grapheme': 0.995711, 'acc_vowel': 0.998379, 'acc_consonant': 0.998379, 'acc_word': 0.994689, 'loss_grapheme': 0.064943, 'loss_vowel': 0.04305, 'loss_consonant': 0.031583, 'loss_word': 0.049912}\n",
      "   11 | 0.000090 | 160640/160735 | 6.2088 | 9.6896 |||\n",
      "val: {'recall': 0.995676, 'recall_grapheme': 0.993577, 'recall_vowel': 0.997444, 'recall_consonant': 0.998105, 'recall_word': 0.99311, 'acc_grapheme': 0.994041, 'acc_vowel': 0.997831, 'acc_consonant': 0.998005, 'acc_word': 0.992968, 'loss_grapheme': 0.048541, 'loss_vowel': 0.031719, 'loss_consonant': 0.023639, 'loss_word': 0.041726}\n",
      "   12 | 0.000089 | 160640/160735 | 3.2215 | 9.5895 |||\n",
      "val: {'recall': 0.995598, 'recall_grapheme': 0.993233, 'recall_vowel': 0.998, 'recall_consonant': 0.997927, 'recall_word': 0.993201, 'acc_grapheme': 0.993941, 'acc_vowel': 0.997731, 'acc_consonant': 0.997881, 'acc_word': 0.992993, 'loss_grapheme': 0.072856, 'loss_vowel': 0.047032, 'loss_consonant': 0.035113, 'loss_word': 0.054272}\n",
      "   13 | 0.000087 | 160640/160735 | 3.2248 | 9.4807 |||\n",
      "val: {'recall': 0.996965, 'recall_grapheme': 0.99568, 'recall_vowel': 0.998509, 'recall_consonant': 0.997991, 'recall_word': 0.994455, 'acc_grapheme': 0.995462, 'acc_vowel': 0.998255, 'acc_consonant': 0.998379, 'acc_word': 0.994365, 'loss_grapheme': 0.050209, 'loss_vowel': 0.031304, 'loss_consonant': 0.023896, 'loss_word': 0.040483}\n",
      "   14 | 0.000085 | 160640/160735 | 8.8556 | 9.9966 |||"
     ]
    },
    {
     "name": "stderr",
     "output_type": "stream",
     "text": [
      "\r",
      "  0%|          | 0/251 [00:00<?, ?it/s]"
     ]
    },
    {
     "name": "stdout",
     "output_type": "stream",
     "text": [
      "\n",
      "val: {'recall': 0.99647, 'recall_grapheme': 0.994668, 'recall_vowel': 0.998191, 'recall_consonant': 0.998353, 'recall_word': 0.993595, 'acc_grapheme': 0.994589, 'acc_vowel': 0.998105, 'acc_consonant': 0.997955, 'acc_word': 0.993517, 'loss_grapheme': 0.06916, 'loss_vowel': 0.038495, 'loss_consonant': 0.031316, 'loss_word': 0.055051}\n",
      "SWA>>>:\n"
     ]
    },
    {
     "name": "stderr",
     "output_type": "stream",
     "text": [
      "100%|██████████| 251/251 [01:26<00:00,  3.06it/s]\n"
     ]
    },
    {
     "name": "stdout",
     "output_type": "stream",
     "text": [
      "\n",
      "val: {'recall': 0.997572, 'recall_grapheme': 0.996415, 'recall_vowel': 0.998864, 'recall_consonant': 0.998595, 'recall_word': 0.995847, 'acc_grapheme': 0.996684, 'acc_vowel': 0.998678, 'acc_consonant': 0.998604, 'acc_word': 0.995811, 'loss_grapheme': 0.01359, 'loss_vowel': 0.006105, 'loss_consonant': 0.005671, 'loss_word': 0.016081}\n",
      "###>>>>> saved ./model4-ckps/se_resnext50_32x4d/model4_se_resnext50_fold4_224.pth_swa\n",
      "   15 | 0.000083 | 160640/160735 | 3.2960 | 9.6870 ||\n",
      "val: {'recall': 0.996801, 'recall_grapheme': 0.995255, 'recall_vowel': 0.998149, 'recall_consonant': 0.998543, 'recall_word': 0.994615, 'acc_grapheme': 0.995287, 'acc_vowel': 0.99823, 'acc_consonant': 0.998379, 'acc_word': 0.994539, 'loss_grapheme': 0.041962, 'loss_vowel': 0.028188, 'loss_consonant': 0.022855, 'loss_word': 0.033869}\n",
      "   16 | 0.000081 | 160640/160735 | 6.4200 | 9.3428 |||\n",
      "val: {'recall': 0.996257, 'recall_grapheme': 0.994192, 'recall_vowel': 0.998465, 'recall_consonant': 0.998178, 'recall_word': 0.993958, 'acc_grapheme': 0.994489, 'acc_vowel': 0.998255, 'acc_consonant': 0.998055, 'acc_word': 0.993791, 'loss_grapheme': 0.075494, 'loss_vowel': 0.04201, 'loss_consonant': 0.033853, 'loss_word': 0.061431}\n",
      "   17 | 0.000079 | 160640/160735 | 7.4719 | 10.0211 ||"
     ]
    },
    {
     "name": "stderr",
     "output_type": "stream",
     "text": [
      "\r",
      "  0%|          | 0/251 [00:00<?, ?it/s]"
     ]
    },
    {
     "name": "stdout",
     "output_type": "stream",
     "text": [
      "\n",
      "val: {'recall': 0.996441, 'recall_grapheme': 0.994386, 'recall_vowel': 0.998342, 'recall_consonant': 0.998649, 'recall_word': 0.994002, 'acc_grapheme': 0.994839, 'acc_vowel': 0.998005, 'acc_consonant': 0.998404, 'acc_word': 0.993866, 'loss_grapheme': 0.054886, 'loss_vowel': 0.034019, 'loss_consonant': 0.027232, 'loss_word': 0.041738}\n",
      "SWA>>>:\n"
     ]
    },
    {
     "name": "stderr",
     "output_type": "stream",
     "text": [
      "100%|██████████| 251/251 [01:26<00:00,  3.02it/s]\n"
     ]
    },
    {
     "name": "stdout",
     "output_type": "stream",
     "text": [
      "\n",
      "val: {'recall': 0.997728, 'recall_grapheme': 0.996668, 'recall_vowel': 0.998829, 'recall_consonant': 0.998746, 'recall_word': 0.995983, 'acc_grapheme': 0.996659, 'acc_vowel': 0.998703, 'acc_consonant': 0.998778, 'acc_word': 0.995961, 'loss_grapheme': 0.013042, 'loss_vowel': 0.005945, 'loss_consonant': 0.005042, 'loss_word': 0.015068}\n",
      "###>>>>> saved ./model4-ckps/se_resnext50_32x4d/model4_se_resnext50_fold4_224.pth_swa\n",
      "   18 | 0.000077 | 160640/160735 | 19.5862 | 10.1918 |\n",
      "val: {'recall': 0.996353, 'recall_grapheme': 0.994472, 'recall_vowel': 0.998635, 'recall_consonant': 0.997833, 'recall_word': 0.994284, 'acc_grapheme': 0.994814, 'acc_vowel': 0.998429, 'acc_consonant': 0.99813, 'acc_word': 0.994091, 'loss_grapheme': 0.075686, 'loss_vowel': 0.047195, 'loss_consonant': 0.035641, 'loss_word': 0.057813}\n",
      "   19 | 0.000075 | 160640/160735 | 9.5869 | 9.8296 |||\n",
      "val: {'recall': 0.996629, 'recall_grapheme': 0.994698, 'recall_vowel': 0.998499, 'recall_consonant': 0.998621, 'recall_word': 0.993986, 'acc_grapheme': 0.995038, 'acc_vowel': 0.998255, 'acc_consonant': 0.998155, 'acc_word': 0.993841, 'loss_grapheme': 0.053047, 'loss_vowel': 0.031629, 'loss_consonant': 0.024978, 'loss_word': 0.04127}\n",
      "   20 | 0.000073 | 160640/160735 | 3.5563 | 9.3281 ||"
     ]
    },
    {
     "name": "stderr",
     "output_type": "stream",
     "text": [
      "\r",
      "  0%|          | 0/251 [00:00<?, ?it/s]"
     ]
    },
    {
     "name": "stdout",
     "output_type": "stream",
     "text": [
      "\n",
      "val: {'recall': 0.99701, 'recall_grapheme': 0.995326, 'recall_vowel': 0.998602, 'recall_consonant': 0.998787, 'recall_word': 0.994581, 'acc_grapheme': 0.995287, 'acc_vowel': 0.998529, 'acc_consonant': 0.998379, 'acc_word': 0.994564, 'loss_grapheme': 0.076354, 'loss_vowel': 0.05265, 'loss_consonant': 0.03926, 'loss_word': 0.053228}\n",
      "SWA>>>:\n"
     ]
    },
    {
     "name": "stderr",
     "output_type": "stream",
     "text": [
      "100%|██████████| 251/251 [01:26<00:00,  3.02it/s]\n"
     ]
    },
    {
     "name": "stdout",
     "output_type": "stream",
     "text": [
      "\n",
      "val: {'recall': 0.99793, 'recall_grapheme': 0.996935, 'recall_vowel': 0.999105, 'recall_consonant': 0.998743, 'recall_word': 0.996173, 'acc_grapheme': 0.997008, 'acc_vowel': 0.998828, 'acc_consonant': 0.998778, 'acc_word': 0.99616, 'loss_grapheme': 0.012213, 'loss_vowel': 0.005719, 'loss_consonant': 0.004916, 'loss_word': 0.014509}\n",
      "###>>>>> saved ./model4-ckps/se_resnext50_32x4d/model4_se_resnext50_fold4_224.pth_swa\n",
      "   21 | 0.000070 | 160640/160735 | 2.7805 | 9.4666 |||\n",
      "val: {'recall': 0.997482, 'recall_grapheme': 0.996319, 'recall_vowel': 0.998789, 'recall_consonant': 0.9985, 'recall_word': 0.995483, 'acc_grapheme': 0.996484, 'acc_vowel': 0.998529, 'acc_consonant': 0.998529, 'acc_word': 0.995387, 'loss_grapheme': 0.027663, 'loss_vowel': 0.018712, 'loss_consonant': 0.014245, 'loss_word': 0.023076}\n",
      "   22 | 0.000068 | 160640/160735 | 20.3623 | 9.1133 |\n",
      "val: {'recall': 0.996411, 'recall_grapheme': 0.994491, 'recall_vowel': 0.998284, 'recall_consonant': 0.998379, 'recall_word': 0.994379, 'acc_grapheme': 0.994739, 'acc_vowel': 0.998304, 'acc_consonant': 0.99823, 'acc_word': 0.994265, 'loss_grapheme': 0.063488, 'loss_vowel': 0.044388, 'loss_consonant': 0.032966, 'loss_word': 0.04674}\n",
      "   23 | 0.000065 | 160640/160735 | 9.9350 | 9.8430 |||"
     ]
    },
    {
     "name": "stderr",
     "output_type": "stream",
     "text": [
      "\r",
      "  0%|          | 0/251 [00:00<?, ?it/s]"
     ]
    },
    {
     "name": "stdout",
     "output_type": "stream",
     "text": [
      "\n",
      "val: {'recall': 0.996082, 'recall_grapheme': 0.994163, 'recall_vowel': 0.998122, 'recall_consonant': 0.997881, 'recall_word': 0.993502, 'acc_grapheme': 0.994365, 'acc_vowel': 0.99803, 'acc_consonant': 0.99818, 'acc_word': 0.993442, 'loss_grapheme': 0.080263, 'loss_vowel': 0.05336, 'loss_consonant': 0.03982, 'loss_word': 0.056144}\n",
      "SWA>>>:\n"
     ]
    },
    {
     "name": "stderr",
     "output_type": "stream",
     "text": [
      "100%|██████████| 251/251 [01:26<00:00,  3.02it/s]\n"
     ]
    },
    {
     "name": "stdout",
     "output_type": "stream",
     "text": [
      "\n",
      "val: {'recall': 0.997999, 'recall_grapheme': 0.997149, 'recall_vowel': 0.998959, 'recall_consonant': 0.998737, 'recall_word': 0.996405, 'acc_grapheme': 0.997058, 'acc_vowel': 0.998778, 'acc_consonant': 0.998753, 'acc_word': 0.99636, 'loss_grapheme': 0.01202, 'loss_vowel': 0.005686, 'loss_consonant': 0.004853, 'loss_word': 0.014271}\n",
      "###>>>>> saved ./model4-ckps/se_resnext50_32x4d/model4_se_resnext50_fold4_224.pth_swa\n",
      "   24 | 0.000063 | 160640/160735 | 7.5774 | 9.4632 |||\n",
      "val: {'recall': 0.996673, 'recall_grapheme': 0.995097, 'recall_vowel': 0.99834, 'recall_consonant': 0.998158, 'recall_word': 0.994483, 'acc_grapheme': 0.994913, 'acc_vowel': 0.998329, 'acc_consonant': 0.998504, 'acc_word': 0.994315, 'loss_grapheme': 0.051969, 'loss_vowel': 0.029419, 'loss_consonant': 0.024199, 'loss_word': 0.039176}\n",
      "   25 | 0.000060 | 160640/160735 | 2.6222 | 9.6644 |||\n",
      "val: {'recall': 0.99718, 'recall_grapheme': 0.995678, 'recall_vowel': 0.998568, 'recall_consonant': 0.998794, 'recall_word': 0.995102, 'acc_grapheme': 0.995911, 'acc_vowel': 0.998579, 'acc_consonant': 0.998654, 'acc_word': 0.995013, 'loss_grapheme': 0.038543, 'loss_vowel': 0.027116, 'loss_consonant': 0.020679, 'loss_word': 0.028887}\n",
      "   26 | 0.000058 | 160640/160735 | 10.8660 | 8.9889 ||"
     ]
    },
    {
     "name": "stderr",
     "output_type": "stream",
     "text": [
      "\r",
      "  0%|          | 0/251 [00:00<?, ?it/s]"
     ]
    },
    {
     "name": "stdout",
     "output_type": "stream",
     "text": [
      "\n",
      "val: {'recall': 0.996723, 'recall_grapheme': 0.995007, 'recall_vowel': 0.99821, 'recall_consonant': 0.998666, 'recall_word': 0.994383, 'acc_grapheme': 0.995113, 'acc_vowel': 0.998429, 'acc_consonant': 0.998304, 'acc_word': 0.99434, 'loss_grapheme': 0.079996, 'loss_vowel': 0.051995, 'loss_consonant': 0.037695, 'loss_word': 0.051595}\n",
      "SWA>>>:\n"
     ]
    },
    {
     "name": "stderr",
     "output_type": "stream",
     "text": [
      "100%|██████████| 251/251 [01:26<00:00,  3.00it/s]\n"
     ]
    },
    {
     "name": "stdout",
     "output_type": "stream",
     "text": [
      "\n",
      "val: {'recall': 0.997898, 'recall_grapheme': 0.996957, 'recall_vowel': 0.998892, 'recall_consonant': 0.998787, 'recall_word': 0.996535, 'acc_grapheme': 0.996958, 'acc_vowel': 0.998803, 'acc_consonant': 0.998753, 'acc_word': 0.996484, 'loss_grapheme': 0.012036, 'loss_vowel': 0.00579, 'loss_consonant': 0.004962, 'loss_word': 0.014239}\n",
      "   27 | 0.000055 | 160640/160735 | 19.3105 | 9.0840 ||\n",
      "val: {'recall': 0.997323, 'recall_grapheme': 0.995891, 'recall_vowel': 0.998719, 'recall_consonant': 0.99879, 'recall_word': 0.995182, 'acc_grapheme': 0.995836, 'acc_vowel': 0.998554, 'acc_consonant': 0.998678, 'acc_word': 0.995113, 'loss_grapheme': 0.050133, 'loss_vowel': 0.033001, 'loss_consonant': 0.025939, 'loss_word': 0.03425}\n",
      "   28 | 0.000053 | 160640/160735 | 9.9015 | 9.3244 ||\n",
      "val: {'recall': 0.996869, 'recall_grapheme': 0.995048, 'recall_vowel': 0.998667, 'recall_consonant': 0.998711, 'recall_word': 0.994964, 'acc_grapheme': 0.995512, 'acc_vowel': 0.998529, 'acc_consonant': 0.998604, 'acc_word': 0.994938, 'loss_grapheme': 0.058558, 'loss_vowel': 0.038169, 'loss_consonant': 0.029902, 'loss_word': 0.038843}\n",
      "   29 | 0.000050 | 160640/160735 | 5.1700 | 9.5288 |||"
     ]
    },
    {
     "name": "stderr",
     "output_type": "stream",
     "text": [
      "\r",
      "  0%|          | 0/251 [00:00<?, ?it/s]"
     ]
    },
    {
     "name": "stdout",
     "output_type": "stream",
     "text": [
      "\n",
      "val: {'recall': 0.99728, 'recall_grapheme': 0.995787, 'recall_vowel': 0.998674, 'recall_consonant': 0.998875, 'recall_word': 0.995097, 'acc_grapheme': 0.995911, 'acc_vowel': 0.998629, 'acc_consonant': 0.998654, 'acc_word': 0.995088, 'loss_grapheme': 0.0439, 'loss_vowel': 0.028199, 'loss_consonant': 0.022134, 'loss_word': 0.031552}\n",
      "SWA>>>:\n"
     ]
    },
    {
     "name": "stderr",
     "output_type": "stream",
     "text": [
      "100%|██████████| 251/251 [01:26<00:00,  2.93it/s]\n"
     ]
    },
    {
     "name": "stdout",
     "output_type": "stream",
     "text": [
      "\n",
      "val: {'recall': 0.998003, 'recall_grapheme': 0.997075, 'recall_vowel': 0.999039, 'recall_consonant': 0.998823, 'recall_word': 0.996658, 'acc_grapheme': 0.997083, 'acc_vowel': 0.998853, 'acc_consonant': 0.998803, 'acc_word': 0.996609, 'loss_grapheme': 0.011796, 'loss_vowel': 0.005599, 'loss_consonant': 0.004831, 'loss_word': 0.013945}\n",
      "###>>>>> saved ./model4-ckps/se_resnext50_32x4d/model4_se_resnext50_fold4_224.pth_swa\n",
      "   30 | 0.000047 | 160640/160735 | 2.5467 | 9.1748 ||\n",
      "val: {'recall': 0.997245, 'recall_grapheme': 0.995743, 'recall_vowel': 0.99874, 'recall_consonant': 0.998756, 'recall_word': 0.994962, 'acc_grapheme': 0.995562, 'acc_vowel': 0.998604, 'acc_consonant': 0.998604, 'acc_word': 0.994913, 'loss_grapheme': 0.049209, 'loss_vowel': 0.032565, 'loss_consonant': 0.025507, 'loss_word': 0.035569}\n",
      "   31 | 0.000045 | 160640/160735 | 2.6536 | 8.7284 ||\n",
      "val: {'recall': 0.99758, 'recall_grapheme': 0.996255, 'recall_vowel': 0.998895, 'recall_consonant': 0.998915, 'recall_word': 0.995561, 'acc_grapheme': 0.99636, 'acc_vowel': 0.998803, 'acc_consonant': 0.998778, 'acc_word': 0.995487, 'loss_grapheme': 0.022586, 'loss_vowel': 0.012794, 'loss_consonant': 0.011395, 'loss_word': 0.020212}\n",
      "   32 | 0.000042 | 160640/160735 | 19.1963 | 9.3564 ||"
     ]
    },
    {
     "name": "stderr",
     "output_type": "stream",
     "text": [
      "\r",
      "  0%|          | 0/251 [00:00<?, ?it/s]"
     ]
    },
    {
     "name": "stdout",
     "output_type": "stream",
     "text": [
      "\n",
      "val: {'recall': 0.997443, 'recall_grapheme': 0.996164, 'recall_vowel': 0.998635, 'recall_consonant': 0.998811, 'recall_word': 0.99581, 'acc_grapheme': 0.996035, 'acc_vowel': 0.998703, 'acc_consonant': 0.998703, 'acc_word': 0.995811, 'loss_grapheme': 0.057562, 'loss_vowel': 0.038254, 'loss_consonant': 0.028512, 'loss_word': 0.038669}\n",
      "SWA>>>:\n"
     ]
    },
    {
     "name": "stderr",
     "output_type": "stream",
     "text": [
      "100%|██████████| 251/251 [01:26<00:00,  3.01it/s]\n"
     ]
    },
    {
     "name": "stdout",
     "output_type": "stream",
     "text": [
      "\n",
      "val: {'recall': 0.998037, 'recall_grapheme': 0.997138, 'recall_vowel': 0.998981, 'recall_consonant': 0.99889, 'recall_word': 0.996748, 'acc_grapheme': 0.997108, 'acc_vowel': 0.998953, 'acc_consonant': 0.998853, 'acc_word': 0.996709, 'loss_grapheme': 0.011751, 'loss_vowel': 0.005594, 'loss_consonant': 0.004749, 'loss_word': 0.013851}\n",
      "###>>>>> saved ./model4-ckps/se_resnext50_32x4d/model4_se_resnext50_fold4_224.pth_swa\n",
      "   33 | 0.000040 | 160640/160735 | 12.7744 | 9.0881 ||\n",
      "val: {'recall': 0.997308, 'recall_grapheme': 0.996044, 'recall_vowel': 0.998504, 'recall_consonant': 0.99864, 'recall_word': 0.995357, 'acc_grapheme': 0.995636, 'acc_vowel': 0.998504, 'acc_consonant': 0.998529, 'acc_word': 0.995312, 'loss_grapheme': 0.074259, 'loss_vowel': 0.049368, 'loss_consonant': 0.037102, 'loss_word': 0.04864}\n",
      "   34 | 0.000037 | 160640/160735 | 17.6422 | 9.6374 ||\n",
      "val: {'recall': 0.997583, 'recall_grapheme': 0.996284, 'recall_vowel': 0.99892, 'recall_consonant': 0.998846, 'recall_word': 0.995678, 'acc_grapheme': 0.99621, 'acc_vowel': 0.998753, 'acc_consonant': 0.998778, 'acc_word': 0.995636, 'loss_grapheme': 0.05181, 'loss_vowel': 0.03824, 'loss_consonant': 0.027961, 'loss_word': 0.032833}\n",
      "   35 | 0.000035 | 160640/160735 | 10.2232 | 9.2804 ||"
     ]
    },
    {
     "name": "stderr",
     "output_type": "stream",
     "text": [
      "\r",
      "  0%|          | 0/251 [00:00<?, ?it/s]"
     ]
    },
    {
     "name": "stdout",
     "output_type": "stream",
     "text": [
      "\n",
      "val: {'recall': 0.99747, 'recall_grapheme': 0.996176, 'recall_vowel': 0.998677, 'recall_consonant': 0.998851, 'recall_word': 0.995613, 'acc_grapheme': 0.99616, 'acc_vowel': 0.998554, 'acc_consonant': 0.998629, 'acc_word': 0.995537, 'loss_grapheme': 0.042815, 'loss_vowel': 0.025885, 'loss_consonant': 0.020827, 'loss_word': 0.031569}\n",
      "SWA>>>:\n"
     ]
    },
    {
     "name": "stderr",
     "output_type": "stream",
     "text": [
      "100%|██████████| 251/251 [01:26<00:00,  2.99it/s]\n"
     ]
    },
    {
     "name": "stdout",
     "output_type": "stream",
     "text": [
      "\n",
      "val: {'recall': 0.998061, 'recall_grapheme': 0.99716, 'recall_vowel': 0.998998, 'recall_consonant': 0.998926, 'recall_word': 0.99678, 'acc_grapheme': 0.997157, 'acc_vowel': 0.998953, 'acc_consonant': 0.998903, 'acc_word': 0.996734, 'loss_grapheme': 0.011679, 'loss_vowel': 0.005566, 'loss_consonant': 0.004688, 'loss_word': 0.013742}\n",
      "###>>>>> saved ./model4-ckps/se_resnext50_32x4d/model4_se_resnext50_fold4_224.pth_swa\n",
      "   36 | 0.000032 | 160640/160735 | 2.1120 | 8.9453 |||\n",
      "val: {'recall': 0.997529, 'recall_grapheme': 0.996274, 'recall_vowel': 0.998907, 'recall_consonant': 0.998664, 'recall_word': 0.995789, 'acc_grapheme': 0.996484, 'acc_vowel': 0.998703, 'acc_consonant': 0.998678, 'acc_word': 0.995711, 'loss_grapheme': 0.030781, 'loss_vowel': 0.018687, 'loss_consonant': 0.014898, 'loss_word': 0.024495}\n",
      "   37 | 0.000030 | 160640/160735 | 9.7218 | 9.9691 |||\n",
      "val: {'recall': 0.997222, 'recall_grapheme': 0.99579, 'recall_vowel': 0.998504, 'recall_consonant': 0.998805, 'recall_word': 0.995207, 'acc_grapheme': 0.995686, 'acc_vowel': 0.998529, 'acc_consonant': 0.998654, 'acc_word': 0.995163, 'loss_grapheme': 0.053158, 'loss_vowel': 0.034888, 'loss_consonant': 0.02773, 'loss_word': 0.036401}\n",
      "   38 | 0.000027 | 160640/160735 | 6.1878 | 8.9544 |||"
     ]
    },
    {
     "name": "stderr",
     "output_type": "stream",
     "text": [
      "\r",
      "  0%|          | 0/251 [00:00<?, ?it/s]"
     ]
    },
    {
     "name": "stdout",
     "output_type": "stream",
     "text": [
      "\n",
      "val: {'recall': 0.996745, 'recall_grapheme': 0.994785, 'recall_vowel': 0.998539, 'recall_consonant': 0.998869, 'recall_word': 0.994382, 'acc_grapheme': 0.994963, 'acc_vowel': 0.998504, 'acc_consonant': 0.998529, 'acc_word': 0.99434, 'loss_grapheme': 0.062261, 'loss_vowel': 0.034669, 'loss_consonant': 0.028525, 'loss_word': 0.044181}\n",
      "SWA>>>:\n"
     ]
    },
    {
     "name": "stderr",
     "output_type": "stream",
     "text": [
      "100%|██████████| 251/251 [01:26<00:00,  3.02it/s]\n"
     ]
    },
    {
     "name": "stdout",
     "output_type": "stream",
     "text": [
      "\n",
      "val: {'recall': 0.998151, 'recall_grapheme': 0.997312, 'recall_vowel': 0.999055, 'recall_consonant': 0.998926, 'recall_word': 0.996752, 'acc_grapheme': 0.997257, 'acc_vowel': 0.998903, 'acc_consonant': 0.998903, 'acc_word': 0.996709, 'loss_grapheme': 0.011628, 'loss_vowel': 0.005541, 'loss_consonant': 0.004603, 'loss_word': 0.013742}\n",
      "###>>>>> saved ./model4-ckps/se_resnext50_32x4d/model4_se_resnext50_fold4_224.pth_swa\n",
      "   39 | 0.000025 | 160640/160735 | 11.2310 | 9.4967 |\n",
      "val: {'recall': 0.996327, 'recall_grapheme': 0.994393, 'recall_vowel': 0.998478, 'recall_consonant': 0.998044, 'recall_word': 0.99409, 'acc_grapheme': 0.994839, 'acc_vowel': 0.998429, 'acc_consonant': 0.998354, 'acc_word': 0.993966, 'loss_grapheme': 0.06065, 'loss_vowel': 0.037916, 'loss_consonant': 0.031347, 'loss_word': 0.04284}\n",
      "   40 | 0.000023 | 160640/160735 | 12.6553 | 8.7962 ||\n",
      "val: {'recall': 0.997439, 'recall_grapheme': 0.99619, 'recall_vowel': 0.998615, 'recall_consonant': 0.998761, 'recall_word': 0.995366, 'acc_grapheme': 0.99611, 'acc_vowel': 0.998579, 'acc_consonant': 0.998728, 'acc_word': 0.995312, 'loss_grapheme': 0.041269, 'loss_vowel': 0.025608, 'loss_consonant': 0.020633, 'loss_word': 0.029682}\n",
      "   41 | 0.000021 | 160640/160735 | 2.1780 | 8.6685 |||"
     ]
    },
    {
     "name": "stderr",
     "output_type": "stream",
     "text": [
      "\r",
      "  0%|          | 0/251 [00:00<?, ?it/s]"
     ]
    },
    {
     "name": "stdout",
     "output_type": "stream",
     "text": [
      "\n",
      "val: {'recall': 0.997336, 'recall_grapheme': 0.99589, 'recall_vowel': 0.998873, 'recall_consonant': 0.99869, 'recall_word': 0.99511, 'acc_grapheme': 0.995861, 'acc_vowel': 0.998604, 'acc_consonant': 0.998554, 'acc_word': 0.995038, 'loss_grapheme': 0.044936, 'loss_vowel': 0.027547, 'loss_consonant': 0.021943, 'loss_word': 0.034182}\n",
      "SWA>>>:\n"
     ]
    },
    {
     "name": "stderr",
     "output_type": "stream",
     "text": [
      "100%|██████████| 251/251 [01:26<00:00,  2.94it/s]\n"
     ]
    },
    {
     "name": "stdout",
     "output_type": "stream",
     "text": [
      "\n",
      "val: {'recall': 0.998151, 'recall_grapheme': 0.997305, 'recall_vowel': 0.999066, 'recall_consonant': 0.998926, 'recall_word': 0.996779, 'acc_grapheme': 0.997257, 'acc_vowel': 0.998928, 'acc_consonant': 0.998903, 'acc_word': 0.996734, 'loss_grapheme': 0.011665, 'loss_vowel': 0.005511, 'loss_consonant': 0.004551, 'loss_word': 0.013785}\n",
      "   42 | 0.000019 | 160640/160735 | 2.4300 | 9.2587 |||\n",
      "val: {'recall': 0.99737, 'recall_grapheme': 0.995906, 'recall_vowel': 0.99883, 'recall_consonant': 0.998837, 'recall_word': 0.995208, 'acc_grapheme': 0.995836, 'acc_vowel': 0.998678, 'acc_consonant': 0.998629, 'acc_word': 0.995138, 'loss_grapheme': 0.037961, 'loss_vowel': 0.026022, 'loss_consonant': 0.020654, 'loss_word': 0.027546}\n",
      "   43 | 0.000017 | 160640/160735 | 6.5385 | 9.3325 |||\n",
      "val: {'recall': 0.996729, 'recall_grapheme': 0.995279, 'recall_vowel': 0.998296, 'recall_consonant': 0.998063, 'recall_word': 0.994068, 'acc_grapheme': 0.994863, 'acc_vowel': 0.998255, 'acc_consonant': 0.998454, 'acc_word': 0.994016, 'loss_grapheme': 0.088145, 'loss_vowel': 0.057715, 'loss_consonant': 0.043822, 'loss_word': 0.060615}\n",
      "   44 | 0.000015 | 160640/160735 | 2.3223 | 8.9540 |||"
     ]
    },
    {
     "name": "stderr",
     "output_type": "stream",
     "text": [
      "\r",
      "  0%|          | 0/251 [00:00<?, ?it/s]"
     ]
    },
    {
     "name": "stdout",
     "output_type": "stream",
     "text": [
      "\n",
      "val: {'recall': 0.997915, 'recall_grapheme': 0.996823, 'recall_vowel': 0.99911, 'recall_consonant': 0.998903, 'recall_word': 0.996022, 'acc_grapheme': 0.996584, 'acc_vowel': 0.998803, 'acc_consonant': 0.998803, 'acc_word': 0.995936, 'loss_grapheme': 0.041873, 'loss_vowel': 0.029434, 'loss_consonant': 0.021895, 'loss_word': 0.02875}\n",
      "SWA>>>:\n"
     ]
    },
    {
     "name": "stderr",
     "output_type": "stream",
     "text": [
      "100%|██████████| 251/251 [01:26<00:00,  3.00it/s]\n"
     ]
    },
    {
     "name": "stdout",
     "output_type": "stream",
     "text": [
      "\n",
      "val: {'recall': 0.998167, 'recall_grapheme': 0.997353, 'recall_vowel': 0.999054, 'recall_consonant': 0.998907, 'recall_word': 0.996786, 'acc_grapheme': 0.997232, 'acc_vowel': 0.998903, 'acc_consonant': 0.998928, 'acc_word': 0.996734, 'loss_grapheme': 0.011636, 'loss_vowel': 0.005542, 'loss_consonant': 0.004536, 'loss_word': 0.01375}\n",
      "###>>>>> saved ./model4-ckps/se_resnext50_32x4d/model4_se_resnext50_fold4_224.pth_swa\n",
      "   45 | 0.000013 | 160640/160735 | 15.3199 | 9.3209 |\n",
      "val: {'recall': 0.997031, 'recall_grapheme': 0.995416, 'recall_vowel': 0.998577, 'recall_consonant': 0.998715, 'recall_word': 0.994753, 'acc_grapheme': 0.995487, 'acc_vowel': 0.998604, 'acc_consonant': 0.998554, 'acc_word': 0.994714, 'loss_grapheme': 0.06242, 'loss_vowel': 0.037151, 'loss_consonant': 0.031071, 'loss_word': 0.046987}\n",
      "   46 | 0.000011 | 160640/160735 | 2.2984 | 9.5815 |||\n",
      "val: {'recall': 0.997714, 'recall_grapheme': 0.996492, 'recall_vowel': 0.998959, 'recall_consonant': 0.998914, 'recall_word': 0.995529, 'acc_grapheme': 0.99631, 'acc_vowel': 0.998728, 'acc_consonant': 0.998828, 'acc_word': 0.995462, 'loss_grapheme': 0.034734, 'loss_vowel': 0.022525, 'loss_consonant': 0.017844, 'loss_word': 0.026156}\n",
      "   47 | 0.000010 | 160640/160735 | 4.0335 | 8.2420 ||"
     ]
    },
    {
     "name": "stderr",
     "output_type": "stream",
     "text": [
      "\r",
      "  0%|          | 0/251 [00:00<?, ?it/s]"
     ]
    },
    {
     "name": "stdout",
     "output_type": "stream",
     "text": [
      "\n",
      "val: {'recall': 0.997406, 'recall_grapheme': 0.995887, 'recall_vowel': 0.998866, 'recall_consonant': 0.998982, 'recall_word': 0.99521, 'acc_grapheme': 0.995936, 'acc_vowel': 0.998604, 'acc_consonant': 0.998753, 'acc_word': 0.995138, 'loss_grapheme': 0.032042, 'loss_vowel': 0.018921, 'loss_consonant': 0.015783, 'loss_word': 0.025425}\n",
      "SWA>>>:\n"
     ]
    },
    {
     "name": "stderr",
     "output_type": "stream",
     "text": [
      "100%|██████████| 251/251 [01:26<00:00,  3.01it/s]\n"
     ]
    },
    {
     "name": "stdout",
     "output_type": "stream",
     "text": [
      "\n",
      "val: {'recall': 0.998076, 'recall_grapheme': 0.997181, 'recall_vowel': 0.99903, 'recall_consonant': 0.998913, 'recall_word': 0.996721, 'acc_grapheme': 0.997182, 'acc_vowel': 0.998878, 'acc_consonant': 0.998953, 'acc_word': 0.996684, 'loss_grapheme': 0.011657, 'loss_vowel': 0.005578, 'loss_consonant': 0.004527, 'loss_word': 0.01377}\n",
      "   48 | 0.000008 | 160640/160735 | 10.8195 | 9.2022 ||\n",
      "val: {'recall': 0.997242, 'recall_grapheme': 0.995727, 'recall_vowel': 0.998712, 'recall_consonant': 0.9988, 'recall_word': 0.995117, 'acc_grapheme': 0.995886, 'acc_vowel': 0.998479, 'acc_consonant': 0.998703, 'acc_word': 0.995038, 'loss_grapheme': 0.053066, 'loss_vowel': 0.033285, 'loss_consonant': 0.026265, 'loss_word': 0.036562}\n",
      "   49 | 0.000007 | 160640/160735 | 9.4671 | 8.7500 |||\n",
      "val: {'recall': 0.997641, 'recall_grapheme': 0.996393, 'recall_vowel': 0.999011, 'recall_consonant': 0.998767, 'recall_word': 0.995926, 'acc_grapheme': 0.996409, 'acc_vowel': 0.998903, 'acc_consonant': 0.998753, 'acc_word': 0.995861, 'loss_grapheme': 0.049318, 'loss_vowel': 0.035285, 'loss_consonant': 0.02625, 'loss_word': 0.032673}\n",
      "   50 | 0.000005 | 160640/160735 | 14.0670 | 9.0485 ||\n",
      "val: {'recall': 0.998062, 'recall_grapheme': 0.99715, 'recall_vowel': 0.999135, 'recall_consonant': 0.998815, 'recall_word': 0.996232, 'acc_grapheme': 0.996833, 'acc_vowel': 0.998928, 'acc_consonant': 0.998853, 'acc_word': 0.996185, 'loss_grapheme': 0.042986, 'loss_vowel': 0.028714, 'loss_consonant': 0.020858, 'loss_word': 0.029363}\n"
     ]
    },
    {
     "name": "stderr",
     "output_type": "stream",
     "text": [
      "\r",
      "  0%|          | 0/251 [00:00<?, ?it/s]"
     ]
    },
    {
     "name": "stdout",
     "output_type": "stream",
     "text": [
      "###>>>>> saved ./model4-ckps/se_resnext50_32x4d/model4_se_resnext50_fold4_224.pth\n",
      "SWA>>>:\n"
     ]
    },
    {
     "name": "stderr",
     "output_type": "stream",
     "text": [
      "100%|██████████| 251/251 [01:26<00:00,  3.02it/s]\n"
     ]
    },
    {
     "name": "stdout",
     "output_type": "stream",
     "text": [
      "\n",
      "val: {'recall': 0.998158, 'recall_grapheme': 0.997331, 'recall_vowel': 0.999058, 'recall_consonant': 0.998913, 'recall_word': 0.99672, 'acc_grapheme': 0.997282, 'acc_vowel': 0.998903, 'acc_consonant': 0.998953, 'acc_word': 0.996684, 'loss_grapheme': 0.01166, 'loss_vowel': 0.005481, 'loss_consonant': 0.004476, 'loss_word': 0.013804}\n",
      "   51 | 0.000004 | 160640/160735 | 8.0882 | 8.6830 ||\n",
      "val: {'recall': 0.997694, 'recall_grapheme': 0.996478, 'recall_vowel': 0.999001, 'recall_consonant': 0.99882, 'recall_word': 0.996244, 'acc_grapheme': 0.996559, 'acc_vowel': 0.998828, 'acc_consonant': 0.998778, 'acc_word': 0.99616, 'loss_grapheme': 0.047185, 'loss_vowel': 0.031772, 'loss_consonant': 0.023678, 'loss_word': 0.032027}\n",
      "   52 | 0.000003 | 160640/160735 | 19.7972 | 9.0453 ||\n",
      "val: {'recall': 0.997116, 'recall_grapheme': 0.995599, 'recall_vowel': 0.998534, 'recall_consonant': 0.998733, 'recall_word': 0.994865, 'acc_grapheme': 0.995612, 'acc_vowel': 0.998479, 'acc_consonant': 0.998629, 'acc_word': 0.994814, 'loss_grapheme': 0.065916, 'loss_vowel': 0.03988, 'loss_consonant': 0.032215, 'loss_word': 0.046477}\n",
      "   53 | 0.000002 | 160640/160735 | 2.2557 | 9.0114 ||"
     ]
    },
    {
     "name": "stderr",
     "output_type": "stream",
     "text": [
      "\r",
      "  0%|          | 0/251 [00:00<?, ?it/s]"
     ]
    },
    {
     "name": "stdout",
     "output_type": "stream",
     "text": [
      "\n",
      "val: {'recall': 0.997034, 'recall_grapheme': 0.995356, 'recall_vowel': 0.998705, 'recall_consonant': 0.998719, 'recall_word': 0.995242, 'acc_grapheme': 0.995711, 'acc_vowel': 0.998629, 'acc_consonant': 0.998579, 'acc_word': 0.995188, 'loss_grapheme': 0.055815, 'loss_vowel': 0.034447, 'loss_consonant': 0.028299, 'loss_word': 0.036435}\n",
      "SWA>>>:\n"
     ]
    },
    {
     "name": "stderr",
     "output_type": "stream",
     "text": [
      "100%|██████████| 251/251 [01:27<00:00,  2.99it/s]\n"
     ]
    },
    {
     "name": "stdout",
     "output_type": "stream",
     "text": [
      "\n",
      "val: {'recall': 0.998142, 'recall_grapheme': 0.997281, 'recall_vowel': 0.999099, 'recall_consonant': 0.998907, 'recall_word': 0.996792, 'acc_grapheme': 0.997232, 'acc_vowel': 0.998953, 'acc_consonant': 0.998928, 'acc_word': 0.996759, 'loss_grapheme': 0.011699, 'loss_vowel': 0.005488, 'loss_consonant': 0.004499, 'loss_word': 0.01378}\n",
      "   54 | 0.000002 | 160640/160735 | 2.5087 | 9.2166 |||\n",
      "val: {'recall': 0.996818, 'recall_grapheme': 0.995329, 'recall_vowel': 0.998473, 'recall_consonant': 0.998141, 'recall_word': 0.994807, 'acc_grapheme': 0.995262, 'acc_vowel': 0.998404, 'acc_consonant': 0.998429, 'acc_word': 0.994764, 'loss_grapheme': 0.070404, 'loss_vowel': 0.042258, 'loss_consonant': 0.032813, 'loss_word': 0.04774}\n",
      "   55 | 0.000001 | 160640/160735 | 2.1921 | 8.7636 |||\n",
      "val: {'recall': 0.99769, 'recall_grapheme': 0.996392, 'recall_vowel': 0.99896, 'recall_consonant': 0.999014, 'recall_word': 0.995689, 'acc_grapheme': 0.996335, 'acc_vowel': 0.998803, 'acc_consonant': 0.998878, 'acc_word': 0.995612, 'loss_grapheme': 0.034306, 'loss_vowel': 0.02135, 'loss_consonant': 0.017612, 'loss_word': 0.026192}\n",
      "   56 | 0.000001 | 160640/160735 | 2.3859 | 8.7552 |||"
     ]
    },
    {
     "name": "stderr",
     "output_type": "stream",
     "text": [
      "\r",
      "  0%|          | 0/251 [00:00<?, ?it/s]"
     ]
    },
    {
     "name": "stdout",
     "output_type": "stream",
     "text": [
      "\n",
      "val: {'recall': 0.997699, 'recall_grapheme': 0.996541, 'recall_vowel': 0.998833, 'recall_consonant': 0.99888, 'recall_word': 0.995498, 'acc_grapheme': 0.99621, 'acc_vowel': 0.998654, 'acc_consonant': 0.998803, 'acc_word': 0.995437, 'loss_grapheme': 0.039776, 'loss_vowel': 0.023978, 'loss_consonant': 0.019854, 'loss_word': 0.030091}\n",
      "SWA>>>:\n"
     ]
    },
    {
     "name": "stderr",
     "output_type": "stream",
     "text": [
      "100%|██████████| 251/251 [01:26<00:00,  3.00it/s]\n"
     ]
    },
    {
     "name": "stdout",
     "output_type": "stream",
     "text": [
      "\n",
      "val: {'recall': 0.998179, 'recall_grapheme': 0.997328, 'recall_vowel': 0.999052, 'recall_consonant': 0.999009, 'recall_word': 0.996764, 'acc_grapheme': 0.997257, 'acc_vowel': 0.998903, 'acc_consonant': 0.998978, 'acc_word': 0.996734, 'loss_grapheme': 0.011741, 'loss_vowel': 0.005495, 'loss_consonant': 0.004512, 'loss_word': 0.013795}\n",
      "###>>>>> saved ./model4-ckps/se_resnext50_32x4d/model4_se_resnext50_fold4_224.pth_swa\n",
      "   57 | 0.000000 | 160640/160735 | 2.1634 | 8.7631 |||\n",
      "val: {'recall': 0.997693, 'recall_grapheme': 0.996432, 'recall_vowel': 0.998962, 'recall_consonant': 0.998945, 'recall_word': 0.99612, 'acc_grapheme': 0.996459, 'acc_vowel': 0.998928, 'acc_consonant': 0.998853, 'acc_word': 0.996035, 'loss_grapheme': 0.041369, 'loss_vowel': 0.026242, 'loss_consonant': 0.020904, 'loss_word': 0.029013}\n",
      "   58 | 0.000000 | 160640/160735 | 19.3099 | 9.1287 |\n",
      "val: {'recall': 0.997187, 'recall_grapheme': 0.995688, 'recall_vowel': 0.998557, 'recall_consonant': 0.998814, 'recall_word': 0.995225, 'acc_grapheme': 0.995786, 'acc_vowel': 0.998554, 'acc_consonant': 0.998753, 'acc_word': 0.995188, 'loss_grapheme': 0.059228, 'loss_vowel': 0.036692, 'loss_consonant': 0.0295, 'loss_word': 0.040649}\n",
      "   59 | 0.000000 | 160640/160735 | 4.1623 | 8.3347 ||"
     ]
    },
    {
     "name": "stderr",
     "output_type": "stream",
     "text": [
      "\r",
      "  0%|          | 0/251 [00:00<?, ?it/s]"
     ]
    },
    {
     "name": "stdout",
     "output_type": "stream",
     "text": [
      "\n",
      "val: {'recall': 0.99773, 'recall_grapheme': 0.996595, 'recall_vowel': 0.998849, 'recall_consonant': 0.99888, 'recall_word': 0.995827, 'acc_grapheme': 0.996384, 'acc_vowel': 0.998728, 'acc_consonant': 0.998803, 'acc_word': 0.995761, 'loss_grapheme': 0.055367, 'loss_vowel': 0.037902, 'loss_consonant': 0.028458, 'loss_word': 0.036224}\n",
      "SWA>>>:\n"
     ]
    },
    {
     "name": "stderr",
     "output_type": "stream",
     "text": [
      "100%|██████████| 251/251 [01:26<00:00,  3.00it/s]\n"
     ]
    },
    {
     "name": "stdout",
     "output_type": "stream",
     "text": [
      "\n",
      "val: {'recall': 0.998275, 'recall_grapheme': 0.997508, 'recall_vowel': 0.99908, 'recall_consonant': 0.999004, 'recall_word': 0.996793, 'acc_grapheme': 0.997407, 'acc_vowel': 0.998928, 'acc_consonant': 0.998953, 'acc_word': 0.996759, 'loss_grapheme': 0.011733, 'loss_vowel': 0.005498, 'loss_consonant': 0.004498, 'loss_word': 0.013799}\n",
      "###>>>>> saved ./model4-ckps/se_resnext50_32x4d/model4_se_resnext50_fold4_224.pth_swa\n",
      "CYCLE: 2\n",
      "    0 | 0.000020 | 160640/160735 | 11.4618 | 9.4858 ||\n",
      "val: {'recall': 0.996934, 'recall_grapheme': 0.995533, 'recall_vowel': 0.998595, 'recall_consonant': 0.998075, 'recall_word': 0.995034, 'acc_grapheme': 0.995562, 'acc_vowel': 0.998579, 'acc_consonant': 0.998379, 'acc_word': 0.994988, 'loss_grapheme': 0.088917, 'loss_vowel': 0.056539, 'loss_consonant': 0.041939, 'loss_word': 0.053893}\n",
      "    1 | 0.000040 | 160640/160735 | 6.8138 | 8.4874 |||\n",
      "val: {'recall': 0.997236, 'recall_grapheme': 0.995736, 'recall_vowel': 0.998637, 'recall_consonant': 0.998837, 'recall_word': 0.995038, 'acc_grapheme': 0.995886, 'acc_vowel': 0.998479, 'acc_consonant': 0.998579, 'acc_word': 0.994988, 'loss_grapheme': 0.061187, 'loss_vowel': 0.037792, 'loss_consonant': 0.028985, 'loss_word': 0.044934}\n",
      "    2 | 0.000060 | 160640/160735 | 11.5635 | 9.0718 ||\n",
      "val: {'recall': 0.997751, 'recall_grapheme': 0.996585, 'recall_vowel': 0.998891, 'recall_consonant': 0.998942, 'recall_word': 0.995705, 'acc_grapheme': 0.995961, 'acc_vowel': 0.998778, 'acc_consonant': 0.998853, 'acc_word': 0.995636, 'loss_grapheme': 0.067674, 'loss_vowel': 0.046765, 'loss_consonant': 0.034467, 'loss_word': 0.041415}\n",
      "    3 | 0.000079 | 160640/160735 | 1.8876 | 9.2785 ||\n",
      "val: {'recall': 0.996593, 'recall_grapheme': 0.994686, 'recall_vowel': 0.998381, 'recall_consonant': 0.99862, 'recall_word': 0.994127, 'acc_grapheme': 0.994639, 'acc_vowel': 0.99823, 'acc_consonant': 0.998554, 'acc_word': 0.994091, 'loss_grapheme': 0.064719, 'loss_vowel': 0.04385, 'loss_consonant': 0.033812, 'loss_word': 0.04321}\n",
      "    4 | 0.000098 | 160640/160735 | 6.1907 | 9.4937 |||\n",
      "val: {'recall': 0.996443, 'recall_grapheme': 0.994944, 'recall_vowel': 0.997994, 'recall_consonant': 0.99789, 'recall_word': 0.99347, 'acc_grapheme': 0.994514, 'acc_vowel': 0.998005, 'acc_consonant': 0.99823, 'acc_word': 0.993392, 'loss_grapheme': 0.069481, 'loss_vowel': 0.042556, 'loss_consonant': 0.032609, 'loss_word': 0.048438}\n",
      "    5 | 0.000098 | 160640/160735 | 4.7468 | 9.2743 |||\n",
      "val: {'recall': 0.996324, 'recall_grapheme': 0.994739, 'recall_vowel': 0.99818, 'recall_consonant': 0.997637, 'recall_word': 0.994126, 'acc_grapheme': 0.994764, 'acc_vowel': 0.99808, 'acc_consonant': 0.997905, 'acc_word': 0.994115, 'loss_grapheme': 0.073979, 'loss_vowel': 0.044213, 'loss_consonant': 0.035004, 'loss_word': 0.051654}\n",
      "    6 | 0.000097 | 160640/160735 | 21.1062 | 9.6256 ||\n",
      "val: {'recall': 0.996146, 'recall_grapheme': 0.994502, 'recall_vowel': 0.998158, 'recall_consonant': 0.997423, 'recall_word': 0.994218, 'acc_grapheme': 0.994614, 'acc_vowel': 0.998304, 'acc_consonant': 0.998329, 'acc_word': 0.99414, 'loss_grapheme': 0.070663, 'loss_vowel': 0.046856, 'loss_consonant': 0.036558, 'loss_word': 0.048213}\n",
      "    7 | 0.000096 | 160640/160735 | 18.9914 | 9.5400 ||\n",
      "val: {'recall': 0.995465, 'recall_grapheme': 0.993182, 'recall_vowel': 0.99805, 'recall_consonant': 0.997446, 'recall_word': 0.993247, 'acc_grapheme': 0.993667, 'acc_vowel': 0.998155, 'acc_consonant': 0.998105, 'acc_word': 0.993143, 'loss_grapheme': 0.094907, 'loss_vowel': 0.056005, 'loss_consonant': 0.044127, 'loss_word': 0.064875}\n",
      "    8 | 0.000095 | 160640/160735 | 18.4903 | 8.8351 |\n",
      "val: {'recall': 0.996212, 'recall_grapheme': 0.994415, 'recall_vowel': 0.998482, 'recall_consonant': 0.997536, 'recall_word': 0.994138, 'acc_grapheme': 0.994639, 'acc_vowel': 0.998404, 'acc_consonant': 0.99823, 'acc_word': 0.994016, 'loss_grapheme': 0.067138, 'loss_vowel': 0.045599, 'loss_consonant': 0.034749, 'loss_word': 0.043811}\n",
      "    9 | 0.000093 | 160640/160735 | 11.1260 | 9.9469 ||\n",
      "val: {'recall': 0.995913, 'recall_grapheme': 0.994284, 'recall_vowel': 0.998114, 'recall_consonant': 0.996971, 'recall_word': 0.993453, 'acc_grapheme': 0.99429, 'acc_vowel': 0.998055, 'acc_consonant': 0.99813, 'acc_word': 0.993342, 'loss_grapheme': 0.078528, 'loss_vowel': 0.042639, 'loss_consonant': 0.034653, 'loss_word': 0.05158}\n",
      "   10 | 0.000092 | 160640/160735 | 8.5424 | 9.4806 |||\n",
      "val: {'recall': 0.996608, 'recall_grapheme': 0.995055, 'recall_vowel': 0.998075, 'recall_consonant': 0.998246, 'recall_word': 0.993834, 'acc_grapheme': 0.994888, 'acc_vowel': 0.998155, 'acc_consonant': 0.998479, 'acc_word': 0.993766, 'loss_grapheme': 0.066373, 'loss_vowel': 0.041006, 'loss_consonant': 0.031085, 'loss_word': 0.046358}\n",
      "   11 | 0.000090 | 160640/160735 | 11.0283 | 8.9140 ||\n",
      "val: {'recall': 0.996573, 'recall_grapheme': 0.994917, 'recall_vowel': 0.998458, 'recall_consonant': 0.998, 'recall_word': 0.994143, 'acc_grapheme': 0.994938, 'acc_vowel': 0.998255, 'acc_consonant': 0.998255, 'acc_word': 0.99414, 'loss_grapheme': 0.057535, 'loss_vowel': 0.037824, 'loss_consonant': 0.028424, 'loss_word': 0.038276}\n",
      "   12 | 0.000089 | 160640/160735 | 11.2157 | 9.0282 ||\n",
      "val: {'recall': 0.996621, 'recall_grapheme': 0.99487, 'recall_vowel': 0.998139, 'recall_consonant': 0.998605, 'recall_word': 0.994573, 'acc_grapheme': 0.994888, 'acc_vowel': 0.998205, 'acc_consonant': 0.998454, 'acc_word': 0.994539, 'loss_grapheme': 0.077276, 'loss_vowel': 0.046136, 'loss_consonant': 0.037738, 'loss_word': 0.046804}\n",
      "   13 | 0.000087 | 160640/160735 | 11.6586 | 8.5410 ||\n",
      "val: {'recall': 0.997454, 'recall_grapheme': 0.996113, 'recall_vowel': 0.998591, 'recall_consonant': 0.998997, 'recall_word': 0.995209, 'acc_grapheme': 0.995836, 'acc_vowel': 0.998529, 'acc_consonant': 0.998629, 'acc_word': 0.995188, 'loss_grapheme': 0.033694, 'loss_vowel': 0.019983, 'loss_consonant': 0.01645, 'loss_word': 0.026627}\n",
      "   14 | 0.000085 | 160640/160735 | 22.6075 | 8.7816 ||"
     ]
    },
    {
     "name": "stderr",
     "output_type": "stream",
     "text": [
      "\r",
      "  0%|          | 0/251 [00:00<?, ?it/s]"
     ]
    },
    {
     "name": "stdout",
     "output_type": "stream",
     "text": [
      "\n",
      "val: {'recall': 0.997035, 'recall_grapheme': 0.995491, 'recall_vowel': 0.998484, 'recall_consonant': 0.998675, 'recall_word': 0.994916, 'acc_grapheme': 0.995462, 'acc_vowel': 0.998579, 'acc_consonant': 0.998554, 'acc_word': 0.994789, 'loss_grapheme': 0.074547, 'loss_vowel': 0.049719, 'loss_consonant': 0.03793, 'loss_word': 0.049095}\n",
      "SWA>>>:\n"
     ]
    },
    {
     "name": "stderr",
     "output_type": "stream",
     "text": [
      "100%|██████████| 251/251 [01:26<00:00,  2.96it/s]\n"
     ]
    },
    {
     "name": "stdout",
     "output_type": "stream",
     "text": [
      "\n",
      "val: {'recall': 0.998246, 'recall_grapheme': 0.997491, 'recall_vowel': 0.999091, 'recall_consonant': 0.998913, 'recall_word': 0.996803, 'acc_grapheme': 0.997407, 'acc_vowel': 0.998928, 'acc_consonant': 0.998953, 'acc_word': 0.996759, 'loss_grapheme': 0.011626, 'loss_vowel': 0.005421, 'loss_consonant': 0.004445, 'loss_word': 0.013772}\n",
      "   15 | 0.000083 | 160640/160735 | 20.5609 | 8.8876 ||\n",
      "val: {'recall': 0.996837, 'recall_grapheme': 0.995602, 'recall_vowel': 0.998101, 'recall_consonant': 0.998043, 'recall_word': 0.994476, 'acc_grapheme': 0.995262, 'acc_vowel': 0.99828, 'acc_consonant': 0.998479, 'acc_word': 0.99439, 'loss_grapheme': 0.046297, 'loss_vowel': 0.025522, 'loss_consonant': 0.02196, 'loss_word': 0.036509}\n",
      "   16 | 0.000081 | 160640/160735 | 2.2036 | 9.1997 |||\n",
      "val: {'recall': 0.997241, 'recall_grapheme': 0.99608, 'recall_vowel': 0.99835, 'recall_consonant': 0.998452, 'recall_word': 0.995131, 'acc_grapheme': 0.995836, 'acc_vowel': 0.998429, 'acc_consonant': 0.998629, 'acc_word': 0.995013, 'loss_grapheme': 0.057227, 'loss_vowel': 0.034318, 'loss_consonant': 0.027077, 'loss_word': 0.040772}\n",
      "   17 | 0.000079 | 160640/160735 | 10.9754 | 9.0824 ||"
     ]
    },
    {
     "name": "stderr",
     "output_type": "stream",
     "text": [
      "\r",
      "  0%|          | 0/251 [00:00<?, ?it/s]"
     ]
    },
    {
     "name": "stdout",
     "output_type": "stream",
     "text": [
      "\n",
      "val: {'recall': 0.996162, 'recall_grapheme': 0.994406, 'recall_vowel': 0.998605, 'recall_consonant': 0.99723, 'recall_word': 0.993766, 'acc_grapheme': 0.994739, 'acc_vowel': 0.998404, 'acc_consonant': 0.998404, 'acc_word': 0.993642, 'loss_grapheme': 0.058387, 'loss_vowel': 0.034183, 'loss_consonant': 0.027819, 'loss_word': 0.038317}\n",
      "SWA>>>:\n"
     ]
    },
    {
     "name": "stderr",
     "output_type": "stream",
     "text": [
      "100%|██████████| 251/251 [01:27<00:00,  2.99it/s]\n"
     ]
    },
    {
     "name": "stdout",
     "output_type": "stream",
     "text": [
      "\n",
      "val: {'recall': 0.998259, 'recall_grapheme': 0.997503, 'recall_vowel': 0.999021, 'recall_consonant': 0.999009, 'recall_word': 0.996775, 'acc_grapheme': 0.997382, 'acc_vowel': 0.998853, 'acc_consonant': 0.998978, 'acc_word': 0.996734, 'loss_grapheme': 0.011591, 'loss_vowel': 0.005436, 'loss_consonant': 0.004384, 'loss_word': 0.013717}\n",
      "   18 | 0.000077 | 160640/160735 | 2.2049 | 9.2721 |||\n",
      "val: {'recall': 0.996946, 'recall_grapheme': 0.9954, 'recall_vowel': 0.998734, 'recall_consonant': 0.998249, 'recall_word': 0.995456, 'acc_grapheme': 0.995587, 'acc_vowel': 0.998604, 'acc_consonant': 0.998554, 'acc_word': 0.995412, 'loss_grapheme': 0.034851, 'loss_vowel': 0.022338, 'loss_consonant': 0.018638, 'loss_word': 0.025647}\n",
      "   19 | 0.000075 | 160640/160735 | 2.1053 | 8.2697 |||\n",
      "val: {'recall': 0.997566, 'recall_grapheme': 0.996507, 'recall_vowel': 0.99852, 'recall_consonant': 0.998732, 'recall_word': 0.995781, 'acc_grapheme': 0.996285, 'acc_vowel': 0.998504, 'acc_consonant': 0.998479, 'acc_word': 0.995711, 'loss_grapheme': 0.016195, 'loss_vowel': 0.008443, 'loss_consonant': 0.007256, 'loss_word': 0.017094}\n",
      "   20 | 0.000073 | 160640/160735 | 11.9771 | 9.0979 ||"
     ]
    },
    {
     "name": "stderr",
     "output_type": "stream",
     "text": [
      "\r",
      "  0%|          | 0/251 [00:00<?, ?it/s]"
     ]
    },
    {
     "name": "stdout",
     "output_type": "stream",
     "text": [
      "\n",
      "val: {'recall': 0.997292, 'recall_grapheme': 0.996128, 'recall_vowel': 0.998498, 'recall_consonant': 0.998415, 'recall_word': 0.995321, 'acc_grapheme': 0.995936, 'acc_vowel': 0.998554, 'acc_consonant': 0.998454, 'acc_word': 0.995262, 'loss_grapheme': 0.041491, 'loss_vowel': 0.03078, 'loss_consonant': 0.023329, 'loss_word': 0.029332}\n",
      "SWA>>>:\n"
     ]
    },
    {
     "name": "stderr",
     "output_type": "stream",
     "text": [
      "100%|██████████| 251/251 [01:27<00:00,  2.97it/s]\n"
     ]
    },
    {
     "name": "stdout",
     "output_type": "stream",
     "text": [
      "\n",
      "val: {'recall': 0.998285, 'recall_grapheme': 0.997529, 'recall_vowel': 0.999073, 'recall_consonant': 0.999009, 'recall_word': 0.996826, 'acc_grapheme': 0.997407, 'acc_vowel': 0.998903, 'acc_consonant': 0.998978, 'acc_word': 0.996783, 'loss_grapheme': 0.011577, 'loss_vowel': 0.005381, 'loss_consonant': 0.004329, 'loss_word': 0.013658}\n",
      "###>>>>> saved ./model4-ckps/se_resnext50_32x4d/model4_se_resnext50_fold4_224.pth_swa\n",
      "   21 | 0.000070 | 160640/160735 | 2.2553 | 8.9345 |||\n",
      "val: {'recall': 0.997684, 'recall_grapheme': 0.996657, 'recall_vowel': 0.998611, 'recall_consonant': 0.998813, 'recall_word': 0.995231, 'acc_grapheme': 0.995936, 'acc_vowel': 0.998479, 'acc_consonant': 0.998728, 'acc_word': 0.995163, 'loss_grapheme': 0.029175, 'loss_vowel': 0.017473, 'loss_consonant': 0.013594, 'loss_word': 0.02353}\n",
      "   22 | 0.000068 | 160640/160735 | 20.1152 | 8.7435 ||\n",
      "val: {'recall': 0.996987, 'recall_grapheme': 0.995338, 'recall_vowel': 0.998461, 'recall_consonant': 0.998809, 'recall_word': 0.994678, 'acc_grapheme': 0.995238, 'acc_vowel': 0.998529, 'acc_consonant': 0.998479, 'acc_word': 0.994639, 'loss_grapheme': 0.05601, 'loss_vowel': 0.034435, 'loss_consonant': 0.028845, 'loss_word': 0.037779}\n",
      "   23 | 0.000065 | 160640/160735 | 4.6649 | 9.6260 |||"
     ]
    },
    {
     "name": "stderr",
     "output_type": "stream",
     "text": [
      "\r",
      "  0%|          | 0/251 [00:00<?, ?it/s]"
     ]
    },
    {
     "name": "stdout",
     "output_type": "stream",
     "text": [
      "\n",
      "val: {'recall': 0.996938, 'recall_grapheme': 0.995559, 'recall_vowel': 0.99856, 'recall_consonant': 0.998074, 'recall_word': 0.994952, 'acc_grapheme': 0.995312, 'acc_vowel': 0.998579, 'acc_consonant': 0.998454, 'acc_word': 0.994938, 'loss_grapheme': 0.058991, 'loss_vowel': 0.036205, 'loss_consonant': 0.028742, 'loss_word': 0.041466}\n",
      "SWA>>>:\n"
     ]
    },
    {
     "name": "stderr",
     "output_type": "stream",
     "text": [
      "100%|██████████| 251/251 [01:26<00:00,  2.99it/s]\n"
     ]
    },
    {
     "name": "stdout",
     "output_type": "stream",
     "text": [
      "\n",
      "val: {'recall': 0.998244, 'recall_grapheme': 0.997438, 'recall_vowel': 0.999085, 'recall_consonant': 0.999015, 'recall_word': 0.996934, 'acc_grapheme': 0.997382, 'acc_vowel': 0.998928, 'acc_consonant': 0.999003, 'acc_word': 0.996883, 'loss_grapheme': 0.011556, 'loss_vowel': 0.005339, 'loss_consonant': 0.004306, 'loss_word': 0.01363}\n",
      "   24 | 0.000063 | 160640/160735 | 2.0642 | 8.5400 ||\n",
      "val: {'recall': 0.997271, 'recall_grapheme': 0.996281, 'recall_vowel': 0.998397, 'recall_consonant': 0.998125, 'recall_word': 0.995485, 'acc_grapheme': 0.995786, 'acc_vowel': 0.998554, 'acc_consonant': 0.998579, 'acc_word': 0.995412, 'loss_grapheme': 0.061392, 'loss_vowel': 0.041772, 'loss_consonant': 0.030113, 'loss_word': 0.039003}\n",
      "   25 | 0.000060 | 160640/160735 | 1.8833 | 8.9443 |||\n",
      "val: {'recall': 0.997071, 'recall_grapheme': 0.9957, 'recall_vowel': 0.99862, 'recall_consonant': 0.998265, 'recall_word': 0.994923, 'acc_grapheme': 0.995537, 'acc_vowel': 0.998404, 'acc_consonant': 0.998479, 'acc_word': 0.994888, 'loss_grapheme': 0.052747, 'loss_vowel': 0.033445, 'loss_consonant': 0.026878, 'loss_word': 0.037574}\n",
      "   26 | 0.000058 | 160640/160735 | 2.2394 | 8.9759 ||"
     ]
    },
    {
     "name": "stderr",
     "output_type": "stream",
     "text": [
      "\r",
      "  0%|          | 0/251 [00:00<?, ?it/s]"
     ]
    },
    {
     "name": "stdout",
     "output_type": "stream",
     "text": [
      "\n",
      "val: {'recall': 0.997232, 'recall_grapheme': 0.99574, 'recall_vowel': 0.998622, 'recall_consonant': 0.998825, 'recall_word': 0.994921, 'acc_grapheme': 0.995487, 'acc_vowel': 0.998654, 'acc_consonant': 0.998654, 'acc_word': 0.994888, 'loss_grapheme': 0.036295, 'loss_vowel': 0.022698, 'loss_consonant': 0.018855, 'loss_word': 0.026911}\n",
      "SWA>>>:\n"
     ]
    },
    {
     "name": "stderr",
     "output_type": "stream",
     "text": [
      "100%|██████████| 251/251 [01:26<00:00,  2.96it/s]\n"
     ]
    },
    {
     "name": "stdout",
     "output_type": "stream",
     "text": [
      "\n",
      "val: {'recall': 0.998251, 'recall_grapheme': 0.997463, 'recall_vowel': 0.999061, 'recall_consonant': 0.999015, 'recall_word': 0.996888, 'acc_grapheme': 0.997382, 'acc_vowel': 0.998903, 'acc_consonant': 0.999003, 'acc_word': 0.996858, 'loss_grapheme': 0.011595, 'loss_vowel': 0.005366, 'loss_consonant': 0.004353, 'loss_word': 0.013619}\n",
      "   27 | 0.000055 | 160640/160735 | 19.0948 | 8.7570 ||\n",
      "val: {'recall': 0.996797, 'recall_grapheme': 0.995415, 'recall_vowel': 0.998247, 'recall_consonant': 0.998113, 'recall_word': 0.994518, 'acc_grapheme': 0.994888, 'acc_vowel': 0.998379, 'acc_consonant': 0.998379, 'acc_word': 0.994465, 'loss_grapheme': 0.04961, 'loss_vowel': 0.027386, 'loss_consonant': 0.022752, 'loss_word': 0.040745}\n",
      "   28 | 0.000053 | 160640/160735 | 1.9000 | 7.8475 ||\n",
      "val: {'recall': 0.99659, 'recall_grapheme': 0.995065, 'recall_vowel': 0.998594, 'recall_consonant': 0.997637, 'recall_word': 0.994715, 'acc_grapheme': 0.995188, 'acc_vowel': 0.998579, 'acc_consonant': 0.99828, 'acc_word': 0.994589, 'loss_grapheme': 0.06268, 'loss_vowel': 0.034536, 'loss_consonant': 0.02832, 'loss_word': 0.041424}\n",
      "   29 | 0.000050 | 160640/160735 | 9.5515 | 9.5598 |||"
     ]
    },
    {
     "name": "stderr",
     "output_type": "stream",
     "text": [
      "\r",
      "  0%|          | 0/251 [00:00<?, ?it/s]"
     ]
    },
    {
     "name": "stdout",
     "output_type": "stream",
     "text": [
      "\n",
      "val: {'recall': 0.996625, 'recall_grapheme': 0.994961, 'recall_vowel': 0.998519, 'recall_consonant': 0.998061, 'recall_word': 0.994249, 'acc_grapheme': 0.994938, 'acc_vowel': 0.998429, 'acc_consonant': 0.998354, 'acc_word': 0.994115, 'loss_grapheme': 0.050031, 'loss_vowel': 0.028268, 'loss_consonant': 0.023594, 'loss_word': 0.036224}\n",
      "SWA>>>:\n"
     ]
    },
    {
     "name": "stderr",
     "output_type": "stream",
     "text": [
      "100%|██████████| 251/251 [01:26<00:00,  2.97it/s]\n"
     ]
    },
    {
     "name": "stdout",
     "output_type": "stream",
     "text": [
      "\n",
      "val: {'recall': 0.998172, 'recall_grapheme': 0.997369, 'recall_vowel': 0.999061, 'recall_consonant': 0.99889, 'recall_word': 0.996853, 'acc_grapheme': 0.997357, 'acc_vowel': 0.998903, 'acc_consonant': 0.998953, 'acc_word': 0.996833, 'loss_grapheme': 0.011499, 'loss_vowel': 0.005289, 'loss_consonant': 0.00427, 'loss_word': 0.013577}\n",
      "   30 | 0.000047 | 160640/160735 | 1.6985 | 8.4972 ||\n",
      "val: {'recall': 0.997544, 'recall_grapheme': 0.996523, 'recall_vowel': 0.998799, 'recall_consonant': 0.998332, 'recall_word': 0.995634, 'acc_grapheme': 0.996035, 'acc_vowel': 0.998678, 'acc_consonant': 0.998629, 'acc_word': 0.995537, 'loss_grapheme': 0.039731, 'loss_vowel': 0.025777, 'loss_consonant': 0.020665, 'loss_word': 0.02786}\n",
      "   31 | 0.000045 | 160640/160735 | 17.3211 | 8.4385 ||\n",
      "val: {'recall': 0.997495, 'recall_grapheme': 0.996242, 'recall_vowel': 0.998619, 'recall_consonant': 0.998876, 'recall_word': 0.995459, 'acc_grapheme': 0.995711, 'acc_vowel': 0.998728, 'acc_consonant': 0.998678, 'acc_word': 0.995362, 'loss_grapheme': 0.047952, 'loss_vowel': 0.030249, 'loss_consonant': 0.024205, 'loss_word': 0.032225}\n",
      "   32 | 0.000042 | 160640/160735 | 1.8897 | 9.0566 ||"
     ]
    },
    {
     "name": "stderr",
     "output_type": "stream",
     "text": [
      "\r",
      "  0%|          | 0/251 [00:00<?, ?it/s]"
     ]
    },
    {
     "name": "stdout",
     "output_type": "stream",
     "text": [
      "\n",
      "val: {'recall': 0.997184, 'recall_grapheme': 0.995754, 'recall_vowel': 0.998859, 'recall_consonant': 0.99837, 'recall_word': 0.995311, 'acc_grapheme': 0.995512, 'acc_vowel': 0.998654, 'acc_consonant': 0.998678, 'acc_word': 0.995213, 'loss_grapheme': 0.061584, 'loss_vowel': 0.040577, 'loss_consonant': 0.03158, 'loss_word': 0.037744}\n",
      "SWA>>>:\n"
     ]
    },
    {
     "name": "stderr",
     "output_type": "stream",
     "text": [
      "100%|██████████| 251/251 [01:26<00:00,  2.99it/s]\n"
     ]
    },
    {
     "name": "stdout",
     "output_type": "stream",
     "text": [
      "\n",
      "val: {'recall': 0.998183, 'recall_grapheme': 0.997369, 'recall_vowel': 0.999036, 'recall_consonant': 0.998959, 'recall_word': 0.99681, 'acc_grapheme': 0.997357, 'acc_vowel': 0.998853, 'acc_consonant': 0.998978, 'acc_word': 0.996783, 'loss_grapheme': 0.011549, 'loss_vowel': 0.00532, 'loss_consonant': 0.004291, 'loss_word': 0.013597}\n",
      "   33 | 0.000040 | 160640/160735 | 9.7878 | 8.3373 ||\n",
      "val: {'recall': 0.997148, 'recall_grapheme': 0.995833, 'recall_vowel': 0.998678, 'recall_consonant': 0.998247, 'recall_word': 0.995284, 'acc_grapheme': 0.995636, 'acc_vowel': 0.998629, 'acc_consonant': 0.998454, 'acc_word': 0.995238, 'loss_grapheme': 0.057634, 'loss_vowel': 0.036535, 'loss_consonant': 0.029416, 'loss_word': 0.038523}\n",
      "   34 | 0.000037 | 160640/160735 | 21.5124 | 8.2773 ||\n",
      "val: {'recall': 0.99751, 'recall_grapheme': 0.996165, 'recall_vowel': 0.998918, 'recall_consonant': 0.998791, 'recall_word': 0.995482, 'acc_grapheme': 0.995936, 'acc_vowel': 0.998654, 'acc_consonant': 0.998629, 'acc_word': 0.995362, 'loss_grapheme': 0.046658, 'loss_vowel': 0.029101, 'loss_consonant': 0.023198, 'loss_word': 0.031317}\n",
      "   35 | 0.000035 | 160640/160735 | 9.7296 | 8.6210 ||"
     ]
    },
    {
     "name": "stderr",
     "output_type": "stream",
     "text": [
      "\r",
      "  0%|          | 0/251 [00:00<?, ?it/s]"
     ]
    },
    {
     "name": "stdout",
     "output_type": "stream",
     "text": [
      "\n",
      "val: {'recall': 0.996795, 'recall_grapheme': 0.99516, 'recall_vowel': 0.998604, 'recall_consonant': 0.998256, 'recall_word': 0.99477, 'acc_grapheme': 0.995312, 'acc_vowel': 0.998479, 'acc_consonant': 0.998404, 'acc_word': 0.994614, 'loss_grapheme': 0.063653, 'loss_vowel': 0.035284, 'loss_consonant': 0.028297, 'loss_word': 0.046772}\n",
      "SWA>>>:\n"
     ]
    },
    {
     "name": "stderr",
     "output_type": "stream",
     "text": [
      "100%|██████████| 251/251 [01:26<00:00,  2.91it/s]\n"
     ]
    },
    {
     "name": "stdout",
     "output_type": "stream",
     "text": [
      "\n",
      "val: {'recall': 0.998203, 'recall_grapheme': 0.997386, 'recall_vowel': 0.999055, 'recall_consonant': 0.998987, 'recall_word': 0.996802, 'acc_grapheme': 0.997357, 'acc_vowel': 0.998878, 'acc_consonant': 0.998978, 'acc_word': 0.996783, 'loss_grapheme': 0.011544, 'loss_vowel': 0.00529, 'loss_consonant': 0.0043, 'loss_word': 0.01358}\n",
      "   36 | 0.000032 | 160640/160735 | 0.8440 | 8.8123 ||\n",
      "val: {'recall': 0.997134, 'recall_grapheme': 0.996105, 'recall_vowel': 0.99868, 'recall_consonant': 0.997646, 'recall_word': 0.995294, 'acc_grapheme': 0.995786, 'acc_vowel': 0.998629, 'acc_consonant': 0.998479, 'acc_word': 0.995238, 'loss_grapheme': 0.069632, 'loss_vowel': 0.043506, 'loss_consonant': 0.032744, 'loss_word': 0.043359}\n",
      "   37 | 0.000030 | 160640/160735 | 1.9417 | 8.2878 |||\n",
      "val: {'recall': 0.997361, 'recall_grapheme': 0.996, 'recall_vowel': 0.998823, 'recall_consonant': 0.998619, 'recall_word': 0.994834, 'acc_grapheme': 0.995512, 'acc_vowel': 0.998678, 'acc_consonant': 0.998454, 'acc_word': 0.994789, 'loss_grapheme': 0.047725, 'loss_vowel': 0.028291, 'loss_consonant': 0.023446, 'loss_word': 0.030947}\n",
      "   38 | 0.000027 | 160640/160735 | 11.9834 | 8.0767 |"
     ]
    },
    {
     "name": "stderr",
     "output_type": "stream",
     "text": [
      "\r",
      "  0%|          | 0/251 [00:00<?, ?it/s]"
     ]
    },
    {
     "name": "stdout",
     "output_type": "stream",
     "text": [
      "\n",
      "val: {'recall': 0.997328, 'recall_grapheme': 0.996458, 'recall_vowel': 0.998661, 'recall_consonant': 0.997736, 'recall_word': 0.995296, 'acc_grapheme': 0.995961, 'acc_vowel': 0.998529, 'acc_consonant': 0.998504, 'acc_word': 0.995188, 'loss_grapheme': 0.060219, 'loss_vowel': 0.036799, 'loss_consonant': 0.028628, 'loss_word': 0.040901}\n",
      "SWA>>>:\n"
     ]
    },
    {
     "name": "stderr",
     "output_type": "stream",
     "text": [
      "100%|██████████| 251/251 [01:26<00:00,  2.98it/s]\n"
     ]
    },
    {
     "name": "stdout",
     "output_type": "stream",
     "text": [
      "\n",
      "val: {'recall': 0.998231, 'recall_grapheme': 0.997478, 'recall_vowel': 0.999042, 'recall_consonant': 0.998924, 'recall_word': 0.9968, 'acc_grapheme': 0.997382, 'acc_vowel': 0.998853, 'acc_consonant': 0.998978, 'acc_word': 0.996783, 'loss_grapheme': 0.011561, 'loss_vowel': 0.00533, 'loss_consonant': 0.004334, 'loss_word': 0.013564}\n",
      "   39 | 0.000025 | 160640/160735 | 10.8635 | 8.0016 |\n",
      "val: {'recall': 0.996347, 'recall_grapheme': 0.994752, 'recall_vowel': 0.998418, 'recall_consonant': 0.997464, 'recall_word': 0.994323, 'acc_grapheme': 0.994789, 'acc_vowel': 0.998379, 'acc_consonant': 0.998205, 'acc_word': 0.99424, 'loss_grapheme': 0.072505, 'loss_vowel': 0.041755, 'loss_consonant': 0.03262, 'loss_word': 0.047062}\n",
      "   40 | 0.000023 | 160640/160735 | 2.0505 | 8.0178 |||\n",
      "val: {'recall': 0.996853, 'recall_grapheme': 0.995644, 'recall_vowel': 0.998481, 'recall_consonant': 0.997642, 'recall_word': 0.994815, 'acc_grapheme': 0.995387, 'acc_vowel': 0.998454, 'acc_consonant': 0.998479, 'acc_word': 0.994764, 'loss_grapheme': 0.037325, 'loss_vowel': 0.021666, 'loss_consonant': 0.017765, 'loss_word': 0.028546}\n",
      "   41 | 0.000021 | 160640/160735 | 5.1652 | 8.1475 |||"
     ]
    },
    {
     "name": "stderr",
     "output_type": "stream",
     "text": [
      "\r",
      "  0%|          | 0/251 [00:00<?, ?it/s]"
     ]
    },
    {
     "name": "stdout",
     "output_type": "stream",
     "text": [
      "\n",
      "val: {'recall': 0.997166, 'recall_grapheme': 0.996518, 'recall_vowel': 0.998899, 'recall_consonant': 0.996728, 'recall_word': 0.995706, 'acc_grapheme': 0.996135, 'acc_vowel': 0.998803, 'acc_consonant': 0.998703, 'acc_word': 0.995636, 'loss_grapheme': 0.037333, 'loss_vowel': 0.021992, 'loss_consonant': 0.01749, 'loss_word': 0.026235}\n",
      "SWA>>>:\n"
     ]
    },
    {
     "name": "stderr",
     "output_type": "stream",
     "text": [
      "100%|██████████| 251/251 [01:26<00:00,  3.02it/s]\n"
     ]
    },
    {
     "name": "stdout",
     "output_type": "stream",
     "text": [
      "\n",
      "val: {'recall': 0.998222, 'recall_grapheme': 0.997453, 'recall_vowel': 0.999053, 'recall_consonant': 0.99893, 'recall_word': 0.996799, 'acc_grapheme': 0.997357, 'acc_vowel': 0.998878, 'acc_consonant': 0.999003, 'acc_word': 0.996783, 'loss_grapheme': 0.011543, 'loss_vowel': 0.005277, 'loss_consonant': 0.004292, 'loss_word': 0.013559}\n",
      "   42 | 0.000019 | 160640/160735 | 18.6044 | 8.5980 |\n",
      "val: {'recall': 0.996934, 'recall_grapheme': 0.995672, 'recall_vowel': 0.998691, 'recall_consonant': 0.9977, 'recall_word': 0.995012, 'acc_grapheme': 0.995487, 'acc_vowel': 0.998604, 'acc_consonant': 0.998479, 'acc_word': 0.994963, 'loss_grapheme': 0.04566, 'loss_vowel': 0.026219, 'loss_consonant': 0.02194, 'loss_word': 0.033852}\n",
      "   43 | 0.000017 | 160640/160735 | 21.2465 | 8.7137 |\n",
      "val: {'recall': 0.99663, 'recall_grapheme': 0.995668, 'recall_vowel': 0.998485, 'recall_consonant': 0.996699, 'recall_word': 0.99492, 'acc_grapheme': 0.995362, 'acc_vowel': 0.998579, 'acc_consonant': 0.998604, 'acc_word': 0.994839, 'loss_grapheme': 0.064536, 'loss_vowel': 0.042909, 'loss_consonant': 0.032485, 'loss_word': 0.040315}\n",
      "   44 | 0.000015 | 160640/160735 | 20.1894 | 9.2488 ||"
     ]
    },
    {
     "name": "stderr",
     "output_type": "stream",
     "text": [
      "\r",
      "  0%|          | 0/251 [00:00<?, ?it/s]"
     ]
    },
    {
     "name": "stdout",
     "output_type": "stream",
     "text": [
      "\n",
      "val: {'recall': 0.997128, 'recall_grapheme': 0.995966, 'recall_vowel': 0.998709, 'recall_consonant': 0.99787, 'recall_word': 0.995503, 'acc_grapheme': 0.995836, 'acc_vowel': 0.998654, 'acc_consonant': 0.998629, 'acc_word': 0.995412, 'loss_grapheme': 0.057812, 'loss_vowel': 0.037901, 'loss_consonant': 0.029662, 'loss_word': 0.035513}\n",
      "SWA>>>:\n"
     ]
    },
    {
     "name": "stderr",
     "output_type": "stream",
     "text": [
      "100%|██████████| 251/251 [01:26<00:00,  2.98it/s]\n"
     ]
    },
    {
     "name": "stdout",
     "output_type": "stream",
     "text": [
      "\n",
      "val: {'recall': 0.998217, 'recall_grapheme': 0.997489, 'recall_vowel': 0.999027, 'recall_consonant': 0.998866, 'recall_word': 0.996851, 'acc_grapheme': 0.997432, 'acc_vowel': 0.998853, 'acc_consonant': 0.998953, 'acc_word': 0.996833, 'loss_grapheme': 0.01153, 'loss_vowel': 0.005255, 'loss_consonant': 0.004253, 'loss_word': 0.013558}\n",
      "   45 | 0.000013 | 160640/160735 | 1.8851 | 8.6364 |||\n",
      "val: {'recall': 0.997477, 'recall_grapheme': 0.996694, 'recall_vowel': 0.998766, 'recall_consonant': 0.997754, 'recall_word': 0.995781, 'acc_grapheme': 0.99631, 'acc_vowel': 0.998753, 'acc_consonant': 0.998629, 'acc_word': 0.995711, 'loss_grapheme': 0.037334, 'loss_vowel': 0.025589, 'loss_consonant': 0.020396, 'loss_word': 0.024731}\n",
      "   46 | 0.000011 | 160640/160735 | 1.8059 | 8.2534 |||\n",
      "val: {'recall': 0.99759, 'recall_grapheme': 0.996563, 'recall_vowel': 0.998825, 'recall_consonant': 0.998409, 'recall_word': 0.995777, 'acc_grapheme': 0.996409, 'acc_vowel': 0.998803, 'acc_consonant': 0.998728, 'acc_word': 0.995711, 'loss_grapheme': 0.032934, 'loss_vowel': 0.02107, 'loss_consonant': 0.01628, 'loss_word': 0.023734}\n",
      "   47 | 0.000010 | 160640/160735 | 2.0094 | 9.2737 ||"
     ]
    },
    {
     "name": "stderr",
     "output_type": "stream",
     "text": [
      "\r",
      "  0%|          | 0/251 [00:00<?, ?it/s]"
     ]
    },
    {
     "name": "stdout",
     "output_type": "stream",
     "text": [
      "\n",
      "val: {'recall': 0.997874, 'recall_grapheme': 0.997036, 'recall_vowel': 0.998847, 'recall_consonant': 0.998577, 'recall_word': 0.996183, 'acc_grapheme': 0.996759, 'acc_vowel': 0.998853, 'acc_consonant': 0.998853, 'acc_word': 0.996135, 'loss_grapheme': 0.03489, 'loss_vowel': 0.022757, 'loss_consonant': 0.017983, 'loss_word': 0.023759}\n",
      "SWA>>>:\n"
     ]
    },
    {
     "name": "stderr",
     "output_type": "stream",
     "text": [
      "100%|██████████| 251/251 [01:27<00:00,  3.03it/s]\n"
     ]
    },
    {
     "name": "stdout",
     "output_type": "stream",
     "text": [
      "\n",
      "val: {'recall': 0.998257, 'recall_grapheme': 0.997555, 'recall_vowel': 0.999025, 'recall_consonant': 0.998893, 'recall_word': 0.996879, 'acc_grapheme': 0.997482, 'acc_vowel': 0.998853, 'acc_consonant': 0.998953, 'acc_word': 0.996858, 'loss_grapheme': 0.01148, 'loss_vowel': 0.005254, 'loss_consonant': 0.004287, 'loss_word': 0.0135}\n",
      "   48 | 0.000008 | 160640/160735 | 18.9547 | 8.4731 |\n",
      "val: {'recall': 0.997525, 'recall_grapheme': 0.996377, 'recall_vowel': 0.998907, 'recall_consonant': 0.99844, 'recall_word': 0.995932, 'acc_grapheme': 0.99616, 'acc_vowel': 0.998928, 'acc_consonant': 0.998753, 'acc_word': 0.995836, 'loss_grapheme': 0.056716, 'loss_vowel': 0.038294, 'loss_consonant': 0.028061, 'loss_word': 0.034458}\n",
      "   49 | 0.000007 | 160640/160735 | 10.5945 | 8.4905 ||\n",
      "val: {'recall': 0.99702, 'recall_grapheme': 0.995784, 'recall_vowel': 0.998515, 'recall_consonant': 0.997997, 'recall_word': 0.995228, 'acc_grapheme': 0.995636, 'acc_vowel': 0.998579, 'acc_consonant': 0.998678, 'acc_word': 0.995163, 'loss_grapheme': 0.054849, 'loss_vowel': 0.033641, 'loss_consonant': 0.026636, 'loss_word': 0.038612}\n",
      "   50 | 0.000005 | 160640/160735 | 1.7387 | 8.2689 |||"
     ]
    },
    {
     "name": "stderr",
     "output_type": "stream",
     "text": [
      "\r",
      "  0%|          | 0/251 [00:00<?, ?it/s]"
     ]
    },
    {
     "name": "stdout",
     "output_type": "stream",
     "text": [
      "\n",
      "val: {'recall': 0.997747, 'recall_grapheme': 0.996796, 'recall_vowel': 0.998849, 'recall_consonant': 0.998545, 'recall_word': 0.995914, 'acc_grapheme': 0.996509, 'acc_vowel': 0.998853, 'acc_consonant': 0.998803, 'acc_word': 0.995886, 'loss_grapheme': 0.029271, 'loss_vowel': 0.017841, 'loss_consonant': 0.013932, 'loss_word': 0.022568}\n",
      "SWA>>>:\n"
     ]
    },
    {
     "name": "stderr",
     "output_type": "stream",
     "text": [
      "100%|██████████| 251/251 [01:26<00:00,  2.99it/s]\n"
     ]
    },
    {
     "name": "stdout",
     "output_type": "stream",
     "text": [
      "\n",
      "val: {'recall': 0.998193, 'recall_grapheme': 0.997494, 'recall_vowel': 0.998914, 'recall_consonant': 0.998871, 'recall_word': 0.996824, 'acc_grapheme': 0.997457, 'acc_vowel': 0.998853, 'acc_consonant': 0.998978, 'acc_word': 0.996808, 'loss_grapheme': 0.011565, 'loss_vowel': 0.005303, 'loss_consonant': 0.004295, 'loss_word': 0.013522}\n",
      "   51 | 0.000004 | 160640/160735 | 1.8751 | 8.4610 |||\n",
      "val: {'recall': 0.997734, 'recall_grapheme': 0.99679, 'recall_vowel': 0.99887, 'recall_consonant': 0.998487, 'recall_word': 0.99587, 'acc_grapheme': 0.996609, 'acc_vowel': 0.998903, 'acc_consonant': 0.998828, 'acc_word': 0.995811, 'loss_grapheme': 0.031166, 'loss_vowel': 0.020356, 'loss_consonant': 0.016617, 'loss_word': 0.022411}\n",
      "   52 | 0.000003 | 160640/160735 | 8.6583 | 7.7452 |||\n",
      "val: {'recall': 0.996787, 'recall_grapheme': 0.995325, 'recall_vowel': 0.998606, 'recall_consonant': 0.99789, 'recall_word': 0.995084, 'acc_grapheme': 0.995462, 'acc_vowel': 0.998579, 'acc_consonant': 0.998454, 'acc_word': 0.995013, 'loss_grapheme': 0.055211, 'loss_vowel': 0.030876, 'loss_consonant': 0.026678, 'loss_word': 0.038557}\n",
      "   53 | 0.000002 | 160640/160735 | 9.6400 | 8.5658 |||"
     ]
    },
    {
     "name": "stderr",
     "output_type": "stream",
     "text": [
      "\r",
      "  0%|          | 0/251 [00:00<?, ?it/s]"
     ]
    },
    {
     "name": "stdout",
     "output_type": "stream",
     "text": [
      "\n",
      "val: {'recall': 0.996812, 'recall_grapheme': 0.995409, 'recall_vowel': 0.998476, 'recall_consonant': 0.997952, 'recall_word': 0.99484, 'acc_grapheme': 0.995362, 'acc_vowel': 0.998529, 'acc_consonant': 0.998604, 'acc_word': 0.994764, 'loss_grapheme': 0.059383, 'loss_vowel': 0.034251, 'loss_consonant': 0.027419, 'loss_word': 0.042765}\n",
      "SWA>>>:\n"
     ]
    },
    {
     "name": "stderr",
     "output_type": "stream",
     "text": [
      "100%|██████████| 251/251 [01:26<00:00,  2.95it/s]\n"
     ]
    },
    {
     "name": "stdout",
     "output_type": "stream",
     "text": [
      "\n",
      "val: {'recall': 0.998185, 'recall_grapheme': 0.997427, 'recall_vowel': 0.998919, 'recall_consonant': 0.998968, 'recall_word': 0.996877, 'acc_grapheme': 0.997382, 'acc_vowel': 0.998853, 'acc_consonant': 0.999003, 'acc_word': 0.996858, 'loss_grapheme': 0.011534, 'loss_vowel': 0.005274, 'loss_consonant': 0.004298, 'loss_word': 0.013507}\n",
      "   54 | 0.000002 | 160640/160735 | 5.9337 | 8.2804 |||\n",
      "val: {'recall': 0.997778, 'recall_grapheme': 0.996892, 'recall_vowel': 0.998907, 'recall_consonant': 0.99842, 'recall_word': 0.996077, 'acc_grapheme': 0.996634, 'acc_vowel': 0.998953, 'acc_consonant': 0.998778, 'acc_word': 0.996035, 'loss_grapheme': 0.039406, 'loss_vowel': 0.02611, 'loss_consonant': 0.019857, 'loss_word': 0.026244}\n",
      "   55 | 0.000001 | 160640/160735 | 19.7557 | 8.5607 |\n",
      "val: {'recall': 0.997119, 'recall_grapheme': 0.995958, 'recall_vowel': 0.998676, 'recall_consonant': 0.997884, 'recall_word': 0.995421, 'acc_grapheme': 0.995562, 'acc_vowel': 0.998728, 'acc_consonant': 0.998703, 'acc_word': 0.995312, 'loss_grapheme': 0.067793, 'loss_vowel': 0.045907, 'loss_consonant': 0.035526, 'loss_word': 0.043683}\n",
      "   56 | 0.000001 | 160640/160735 | 9.4506 | 8.1296 ||"
     ]
    },
    {
     "name": "stderr",
     "output_type": "stream",
     "text": [
      "\r",
      "  0%|          | 0/251 [00:00<?, ?it/s]"
     ]
    },
    {
     "name": "stdout",
     "output_type": "stream",
     "text": [
      "\n",
      "val: {'recall': 0.997305, 'recall_grapheme': 0.996063, 'recall_vowel': 0.998711, 'recall_consonant': 0.998384, 'recall_word': 0.995442, 'acc_grapheme': 0.995961, 'acc_vowel': 0.998778, 'acc_consonant': 0.998654, 'acc_word': 0.995362, 'loss_grapheme': 0.04927, 'loss_vowel': 0.031168, 'loss_consonant': 0.025136, 'loss_word': 0.031617}\n",
      "SWA>>>:\n"
     ]
    },
    {
     "name": "stderr",
     "output_type": "stream",
     "text": [
      "100%|██████████| 251/251 [01:27<00:00,  2.84it/s]\n"
     ]
    },
    {
     "name": "stdout",
     "output_type": "stream",
     "text": [
      "\n",
      "val: {'recall': 0.99814, 'recall_grapheme': 0.997368, 'recall_vowel': 0.998919, 'recall_consonant': 0.998905, 'recall_word': 0.996883, 'acc_grapheme': 0.997332, 'acc_vowel': 0.998853, 'acc_consonant': 0.999003, 'acc_word': 0.996858, 'loss_grapheme': 0.011572, 'loss_vowel': 0.005297, 'loss_consonant': 0.004307, 'loss_word': 0.013506}\n",
      "   57 | 0.000000 | 160640/160735 | 14.5155 | 8.6104 ||\n",
      "val: {'recall': 0.99688, 'recall_grapheme': 0.995601, 'recall_vowel': 0.998422, 'recall_consonant': 0.997894, 'recall_word': 0.995213, 'acc_grapheme': 0.995487, 'acc_vowel': 0.998579, 'acc_consonant': 0.998629, 'acc_word': 0.995163, 'loss_grapheme': 0.055931, 'loss_vowel': 0.03186, 'loss_consonant': 0.026205, 'loss_word': 0.041555}\n",
      "   58 | 0.000000 | 160640/160735 | 20.1257 | 8.8964 |\n",
      "val: {'recall': 0.99708, 'recall_grapheme': 0.995942, 'recall_vowel': 0.998563, 'recall_consonant': 0.997873, 'recall_word': 0.995392, 'acc_grapheme': 0.995836, 'acc_vowel': 0.998654, 'acc_consonant': 0.998654, 'acc_word': 0.995337, 'loss_grapheme': 0.053172, 'loss_vowel': 0.032696, 'loss_consonant': 0.026224, 'loss_word': 0.035424}\n",
      "   59 | 0.000000 | 160640/160735 | 10.2355 | 8.7679 ||"
     ]
    },
    {
     "name": "stderr",
     "output_type": "stream",
     "text": [
      "\r",
      "  0%|          | 0/251 [00:00<?, ?it/s]"
     ]
    },
    {
     "name": "stdout",
     "output_type": "stream",
     "text": [
      "\n",
      "val: {'recall': 0.996706, 'recall_grapheme': 0.995575, 'recall_vowel': 0.998516, 'recall_consonant': 0.997158, 'recall_word': 0.995031, 'acc_grapheme': 0.995686, 'acc_vowel': 0.998504, 'acc_consonant': 0.998329, 'acc_word': 0.994938, 'loss_grapheme': 0.063209, 'loss_vowel': 0.037902, 'loss_consonant': 0.029242, 'loss_word': 0.038318}\n",
      "SWA>>>:\n"
     ]
    },
    {
     "name": "stderr",
     "output_type": "stream",
     "text": [
      "100%|██████████| 251/251 [01:27<00:00,  3.01it/s]\n"
     ]
    },
    {
     "name": "stdout",
     "output_type": "stream",
     "text": [
      "\n",
      "val: {'recall': 0.998156, 'recall_grapheme': 0.9974, 'recall_vowel': 0.998919, 'recall_consonant': 0.998905, 'recall_word': 0.996884, 'acc_grapheme': 0.997357, 'acc_vowel': 0.998853, 'acc_consonant': 0.999003, 'acc_word': 0.996858, 'loss_grapheme': 0.011606, 'loss_vowel': 0.005311, 'loss_consonant': 0.00432, 'loss_word': 0.013554}\n",
      "CYCLE: 3\n",
      "    0 | 0.000020 | 160640/160735 | 7.5517 | 8.2391 |||\n",
      "val: {'recall': 0.997635, 'recall_grapheme': 0.99667, 'recall_vowel': 0.998707, 'recall_consonant': 0.998492, 'recall_word': 0.995853, 'acc_grapheme': 0.996459, 'acc_vowel': 0.998753, 'acc_consonant': 0.998753, 'acc_word': 0.995761, 'loss_grapheme': 0.049273, 'loss_vowel': 0.030895, 'loss_consonant': 0.024599, 'loss_word': 0.031326}\n",
      "    1 | 0.000040 | 160640/160735 | 1.0927 | 8.1679 ||\n",
      "val: {'recall': 0.997873, 'recall_grapheme': 0.996777, 'recall_vowel': 0.998973, 'recall_consonant': 0.998964, 'recall_word': 0.996195, 'acc_grapheme': 0.996559, 'acc_vowel': 0.998928, 'acc_consonant': 0.998828, 'acc_word': 0.996135, 'loss_grapheme': 0.039484, 'loss_vowel': 0.026338, 'loss_consonant': 0.01963, 'loss_word': 0.025223}\n",
      "    2 | 0.000060 | 160640/160735 | 7.9864 | 8.2902 |||\n",
      "val: {'recall': 0.997643, 'recall_grapheme': 0.996648, 'recall_vowel': 0.998567, 'recall_consonant': 0.998708, 'recall_word': 0.995608, 'acc_grapheme': 0.99611, 'acc_vowel': 0.998703, 'acc_consonant': 0.998579, 'acc_word': 0.995562, 'loss_grapheme': 0.058256, 'loss_vowel': 0.041167, 'loss_consonant': 0.029185, 'loss_word': 0.035011}\n",
      "    3 | 0.000079 | 160640/160735 | 4.6471 | 8.3636 ||\n",
      "val: {'recall': 0.996858, 'recall_grapheme': 0.995198, 'recall_vowel': 0.998514, 'recall_consonant': 0.998523, 'recall_word': 0.994417, 'acc_grapheme': 0.995063, 'acc_vowel': 0.998604, 'acc_consonant': 0.998304, 'acc_word': 0.994365, 'loss_grapheme': 0.075965, 'loss_vowel': 0.045785, 'loss_consonant': 0.033661, 'loss_word': 0.04703}\n",
      "    4 | 0.000098 | 160640/160735 | 7.0299 | 8.3463 ||\n",
      "val: {'recall': 0.996385, 'recall_grapheme': 0.994962, 'recall_vowel': 0.99821, 'recall_consonant': 0.997406, 'recall_word': 0.994154, 'acc_grapheme': 0.994913, 'acc_vowel': 0.998155, 'acc_consonant': 0.99818, 'acc_word': 0.994016, 'loss_grapheme': 0.086986, 'loss_vowel': 0.052354, 'loss_consonant': 0.038158, 'loss_word': 0.05719}\n",
      "    5 | 0.000098 | 160640/160735 | 10.0872 | 8.2106 |\n",
      "val: {'recall': 0.996171, 'recall_grapheme': 0.995068, 'recall_vowel': 0.99832, 'recall_consonant': 0.996226, 'recall_word': 0.994511, 'acc_grapheme': 0.994938, 'acc_vowel': 0.998329, 'acc_consonant': 0.998055, 'acc_word': 0.994365, 'loss_grapheme': 0.060307, 'loss_vowel': 0.034813, 'loss_consonant': 0.028546, 'loss_word': 0.039359}\n",
      "    6 | 0.000097 | 160640/160735 | 1.7132 | 8.6011 |||\n",
      "val: {'recall': 0.996807, 'recall_grapheme': 0.995705, 'recall_vowel': 0.998302, 'recall_consonant': 0.997515, 'recall_word': 0.994742, 'acc_grapheme': 0.995337, 'acc_vowel': 0.99823, 'acc_consonant': 0.998329, 'acc_word': 0.994639, 'loss_grapheme': 0.056852, 'loss_vowel': 0.033546, 'loss_consonant': 0.025651, 'loss_word': 0.039894}\n",
      "    7 | 0.000096 | 160640/160735 | 1.8925 | 8.5958 |||\n",
      "val: {'recall': 0.996646, 'recall_grapheme': 0.995626, 'recall_vowel': 0.998525, 'recall_consonant': 0.996805, 'recall_word': 0.995401, 'acc_grapheme': 0.995711, 'acc_vowel': 0.998629, 'acc_consonant': 0.998429, 'acc_word': 0.995262, 'loss_grapheme': 0.051987, 'loss_vowel': 0.03654, 'loss_consonant': 0.025946, 'loss_word': 0.034005}\n",
      "    8 | 0.000095 | 160640/160735 | 7.1534 | 8.4224 |||\n",
      "val: {'recall': 0.996608, 'recall_grapheme': 0.995411, 'recall_vowel': 0.998539, 'recall_consonant': 0.997072, 'recall_word': 0.994661, 'acc_grapheme': 0.995312, 'acc_vowel': 0.998654, 'acc_consonant': 0.998479, 'acc_word': 0.994689, 'loss_grapheme': 0.045485, 'loss_vowel': 0.027118, 'loss_consonant': 0.02067, 'loss_word': 0.033887}\n",
      "    9 | 0.000093 | 160640/160735 | 0.9526 | 8.6858 |||\n",
      "val: {'recall': 0.997139, 'recall_grapheme': 0.995761, 'recall_vowel': 0.998662, 'recall_consonant': 0.99837, 'recall_word': 0.994577, 'acc_grapheme': 0.995387, 'acc_vowel': 0.998504, 'acc_consonant': 0.998604, 'acc_word': 0.994539, 'loss_grapheme': 0.060267, 'loss_vowel': 0.036332, 'loss_consonant': 0.028871, 'loss_word': 0.040093}\n",
      "   10 | 0.000092 | 160640/160735 | 1.8039 | 8.1508 |||\n",
      "val: {'recall': 0.997317, 'recall_grapheme': 0.996116, 'recall_vowel': 0.998763, 'recall_consonant': 0.998273, 'recall_word': 0.995585, 'acc_grapheme': 0.99611, 'acc_vowel': 0.998778, 'acc_consonant': 0.998654, 'acc_word': 0.995537, 'loss_grapheme': 0.034686, 'loss_vowel': 0.024253, 'loss_consonant': 0.018387, 'loss_word': 0.024945}\n",
      "   11 | 0.000090 | 160640/160735 | 1.9295 | 8.4553 |||\n",
      "val: {'recall': 0.996735, 'recall_grapheme': 0.994956, 'recall_vowel': 0.998899, 'recall_consonant': 0.998127, 'recall_word': 0.994636, 'acc_grapheme': 0.995063, 'acc_vowel': 0.998629, 'acc_consonant': 0.99828, 'acc_word': 0.994589, 'loss_grapheme': 0.063019, 'loss_vowel': 0.037894, 'loss_consonant': 0.02984, 'loss_word': 0.042588}\n",
      "   12 | 0.000089 | 160640/160735 | 1.8068 | 9.3320 |||\n",
      "val: {'recall': 0.996929, 'recall_grapheme': 0.995352, 'recall_vowel': 0.998625, 'recall_consonant': 0.998386, 'recall_word': 0.994734, 'acc_grapheme': 0.995163, 'acc_vowel': 0.998703, 'acc_consonant': 0.998654, 'acc_word': 0.994764, 'loss_grapheme': 0.040749, 'loss_vowel': 0.025109, 'loss_consonant': 0.021144, 'loss_word': 0.028422}\n",
      "   13 | 0.000087 | 160640/160735 | 19.2912 | 9.0373 ||\n",
      "val: {'recall': 0.996415, 'recall_grapheme': 0.995197, 'recall_vowel': 0.998406, 'recall_consonant': 0.99686, 'recall_word': 0.994405, 'acc_grapheme': 0.994764, 'acc_vowel': 0.998529, 'acc_consonant': 0.998354, 'acc_word': 0.99444, 'loss_grapheme': 0.058468, 'loss_vowel': 0.034553, 'loss_consonant': 0.028893, 'loss_word': 0.042263}\n",
      "   14 | 0.000085 | 160640/160735 | 19.4549 | 8.7451 ||"
     ]
    },
    {
     "name": "stderr",
     "output_type": "stream",
     "text": [
      "\r",
      "  0%|          | 0/251 [00:00<?, ?it/s]"
     ]
    },
    {
     "name": "stdout",
     "output_type": "stream",
     "text": [
      "\n",
      "val: {'recall': 0.9967, 'recall_grapheme': 0.995122, 'recall_vowel': 0.998425, 'recall_consonant': 0.99813, 'recall_word': 0.994415, 'acc_grapheme': 0.994863, 'acc_vowel': 0.998554, 'acc_consonant': 0.998429, 'acc_word': 0.994415, 'loss_grapheme': 0.054425, 'loss_vowel': 0.033298, 'loss_consonant': 0.026665, 'loss_word': 0.042033}\n",
      "SWA>>>:\n"
     ]
    },
    {
     "name": "stderr",
     "output_type": "stream",
     "text": [
      "100%|██████████| 251/251 [01:26<00:00,  3.00it/s]\n"
     ]
    },
    {
     "name": "stdout",
     "output_type": "stream",
     "text": [
      "\n",
      "val: {'recall': 0.998183, 'recall_grapheme': 0.997406, 'recall_vowel': 0.998919, 'recall_consonant': 0.999001, 'recall_word': 0.996837, 'acc_grapheme': 0.997432, 'acc_vowel': 0.998853, 'acc_consonant': 0.999028, 'acc_word': 0.996808, 'loss_grapheme': 0.011556, 'loss_vowel': 0.005304, 'loss_consonant': 0.004309, 'loss_word': 0.013492}\n",
      "   15 | 0.000083 | 160640/160735 | 9.7383 | 7.9478 ||\n",
      "val: {'recall': 0.996844, 'recall_grapheme': 0.99568, 'recall_vowel': 0.998229, 'recall_consonant': 0.997787, 'recall_word': 0.995276, 'acc_grapheme': 0.995786, 'acc_vowel': 0.998404, 'acc_consonant': 0.998479, 'acc_word': 0.995287, 'loss_grapheme': 0.037155, 'loss_vowel': 0.023427, 'loss_consonant': 0.017504, 'loss_word': 0.026995}\n",
      "   16 | 0.000081 | 160640/160735 | 10.2796 | 7.8561 ||\n",
      "val: {'recall': 0.997169, 'recall_grapheme': 0.996379, 'recall_vowel': 0.998312, 'recall_consonant': 0.997607, 'recall_word': 0.995019, 'acc_grapheme': 0.995911, 'acc_vowel': 0.998554, 'acc_consonant': 0.998329, 'acc_word': 0.994913, 'loss_grapheme': 0.058205, 'loss_vowel': 0.035473, 'loss_consonant': 0.025688, 'loss_word': 0.041051}\n",
      "   17 | 0.000079 | 160640/160735 | 4.1758 | 7.7120 ||"
     ]
    },
    {
     "name": "stderr",
     "output_type": "stream",
     "text": [
      "\r",
      "  0%|          | 0/251 [00:00<?, ?it/s]"
     ]
    },
    {
     "name": "stdout",
     "output_type": "stream",
     "text": [
      "\n",
      "val: {'recall': 0.997014, 'recall_grapheme': 0.995983, 'recall_vowel': 0.998573, 'recall_consonant': 0.997518, 'recall_word': 0.995584, 'acc_grapheme': 0.99601, 'acc_vowel': 0.998554, 'acc_consonant': 0.998404, 'acc_word': 0.995587, 'loss_grapheme': 0.038374, 'loss_vowel': 0.026166, 'loss_consonant': 0.019615, 'loss_word': 0.026776}\n",
      "SWA>>>:\n"
     ]
    },
    {
     "name": "stderr",
     "output_type": "stream",
     "text": [
      "100%|██████████| 251/251 [01:26<00:00,  2.96it/s]\n"
     ]
    },
    {
     "name": "stdout",
     "output_type": "stream",
     "text": [
      "\n",
      "val: {'recall': 0.998148, 'recall_grapheme': 0.997338, 'recall_vowel': 0.998948, 'recall_consonant': 0.998968, 'recall_word': 0.996855, 'acc_grapheme': 0.997357, 'acc_vowel': 0.998878, 'acc_consonant': 0.999003, 'acc_word': 0.996808, 'loss_grapheme': 0.011525, 'loss_vowel': 0.005298, 'loss_consonant': 0.004315, 'loss_word': 0.013484}\n",
      "   18 | 0.000077 | 160640/160735 | 10.0841 | 8.2434 |\n",
      "val: {'recall': 0.995731, 'recall_grapheme': 0.993997, 'recall_vowel': 0.998039, 'recall_consonant': 0.996892, 'recall_word': 0.994386, 'acc_grapheme': 0.994789, 'acc_vowel': 0.998329, 'acc_consonant': 0.998329, 'acc_word': 0.994315, 'loss_grapheme': 0.0776, 'loss_vowel': 0.046604, 'loss_consonant': 0.033777, 'loss_word': 0.049798}\n",
      "   19 | 0.000075 | 160640/160735 | 2.1588 | 8.5639 |||\n",
      "val: {'recall': 0.996823, 'recall_grapheme': 0.995652, 'recall_vowel': 0.998584, 'recall_consonant': 0.997404, 'recall_word': 0.994416, 'acc_grapheme': 0.995038, 'acc_vowel': 0.998329, 'acc_consonant': 0.998579, 'acc_word': 0.99434, 'loss_grapheme': 0.034737, 'loss_vowel': 0.021867, 'loss_consonant': 0.016301, 'loss_word': 0.028082}\n",
      "   20 | 0.000073 | 160640/160735 | 2.2553 | 8.4240 |||"
     ]
    },
    {
     "name": "stderr",
     "output_type": "stream",
     "text": [
      "\r",
      "  0%|          | 0/251 [00:00<?, ?it/s]"
     ]
    },
    {
     "name": "stdout",
     "output_type": "stream",
     "text": [
      "\n",
      "val: {'recall': 0.996863, 'recall_grapheme': 0.99569, 'recall_vowel': 0.998607, 'recall_consonant': 0.997466, 'recall_word': 0.995266, 'acc_grapheme': 0.995736, 'acc_vowel': 0.998579, 'acc_consonant': 0.998504, 'acc_word': 0.995188, 'loss_grapheme': 0.041234, 'loss_vowel': 0.024525, 'loss_consonant': 0.021044, 'loss_word': 0.029405}\n",
      "SWA>>>:\n"
     ]
    },
    {
     "name": "stderr",
     "output_type": "stream",
     "text": [
      "100%|██████████| 251/251 [01:26<00:00,  3.05it/s]\n"
     ]
    },
    {
     "name": "stdout",
     "output_type": "stream",
     "text": [
      "\n",
      "val: {'recall': 0.998129, 'recall_grapheme': 0.997293, 'recall_vowel': 0.998931, 'recall_consonant': 0.999001, 'recall_word': 0.996818, 'acc_grapheme': 0.997307, 'acc_vowel': 0.998853, 'acc_consonant': 0.999028, 'acc_word': 0.996783, 'loss_grapheme': 0.011496, 'loss_vowel': 0.005286, 'loss_consonant': 0.004302, 'loss_word': 0.013464}\n",
      "   21 | 0.000070 | 160640/160735 | 1.8519 | 8.6692 |||\n",
      "val: {'recall': 0.996998, 'recall_grapheme': 0.995603, 'recall_vowel': 0.998453, 'recall_consonant': 0.998333, 'recall_word': 0.994816, 'acc_grapheme': 0.995612, 'acc_vowel': 0.998379, 'acc_consonant': 0.998354, 'acc_word': 0.994764, 'loss_grapheme': 0.058013, 'loss_vowel': 0.032881, 'loss_consonant': 0.026901, 'loss_word': 0.041299}\n",
      "   22 | 0.000068 | 160640/160735 | 7.8579 | 8.7435 |||\n",
      "val: {'recall': 0.996958, 'recall_grapheme': 0.995807, 'recall_vowel': 0.998475, 'recall_consonant': 0.997744, 'recall_word': 0.995025, 'acc_grapheme': 0.995412, 'acc_vowel': 0.998529, 'acc_consonant': 0.998529, 'acc_word': 0.994938, 'loss_grapheme': 0.065691, 'loss_vowel': 0.041954, 'loss_consonant': 0.032139, 'loss_word': 0.04057}\n",
      "   23 | 0.000065 | 160640/160735 | 1.8069 | 8.2037 |||"
     ]
    },
    {
     "name": "stderr",
     "output_type": "stream",
     "text": [
      "\r",
      "  0%|          | 0/251 [00:00<?, ?it/s]"
     ]
    },
    {
     "name": "stdout",
     "output_type": "stream",
     "text": [
      "\n",
      "val: {'recall': 0.997203, 'recall_grapheme': 0.995924, 'recall_vowel': 0.99858, 'recall_consonant': 0.998385, 'recall_word': 0.995507, 'acc_grapheme': 0.995961, 'acc_vowel': 0.998604, 'acc_consonant': 0.998654, 'acc_word': 0.995437, 'loss_grapheme': 0.045565, 'loss_vowel': 0.031209, 'loss_consonant': 0.022975, 'loss_word': 0.029592}\n",
      "SWA>>>:\n"
     ]
    },
    {
     "name": "stderr",
     "output_type": "stream",
     "text": [
      "100%|██████████| 251/251 [01:26<00:00,  2.79it/s]\n"
     ]
    },
    {
     "name": "stdout",
     "output_type": "stream",
     "text": [
      "\n",
      "val: {'recall': 0.998067, 'recall_grapheme': 0.997221, 'recall_vowel': 0.998961, 'recall_consonant': 0.998866, 'recall_word': 0.996822, 'acc_grapheme': 0.997332, 'acc_vowel': 0.998903, 'acc_consonant': 0.998953, 'acc_word': 0.996783, 'loss_grapheme': 0.011497, 'loss_vowel': 0.005282, 'loss_consonant': 0.004264, 'loss_word': 0.013418}\n",
      "   24 | 0.000063 | 160640/160735 | 17.6150 | 8.5942 ||\n",
      "val: {'recall': 0.995948, 'recall_grapheme': 0.994687, 'recall_vowel': 0.998084, 'recall_consonant': 0.996336, 'recall_word': 0.993463, 'acc_grapheme': 0.99439, 'acc_vowel': 0.998205, 'acc_consonant': 0.99793, 'acc_word': 0.993367, 'loss_grapheme': 0.063349, 'loss_vowel': 0.036277, 'loss_consonant': 0.030715, 'loss_word': 0.045723}\n",
      "   25 | 0.000060 | 160640/160735 | 1.5788 | 8.8569 |||\n",
      "val: {'recall': 0.997095, 'recall_grapheme': 0.995948, 'recall_vowel': 0.998749, 'recall_consonant': 0.997737, 'recall_word': 0.995093, 'acc_grapheme': 0.995836, 'acc_vowel': 0.998703, 'acc_consonant': 0.998529, 'acc_word': 0.995088, 'loss_grapheme': 0.061947, 'loss_vowel': 0.037035, 'loss_consonant': 0.028654, 'loss_word': 0.03979}\n",
      "   26 | 0.000058 | 160640/160735 | 8.7624 | 7.8914 ||"
     ]
    },
    {
     "name": "stderr",
     "output_type": "stream",
     "text": [
      "\r",
      "  0%|          | 0/251 [00:00<?, ?it/s]"
     ]
    },
    {
     "name": "stdout",
     "output_type": "stream",
     "text": [
      "\n",
      "val: {'recall': 0.996936, 'recall_grapheme': 0.995632, 'recall_vowel': 0.998514, 'recall_consonant': 0.997966, 'recall_word': 0.995011, 'acc_grapheme': 0.995711, 'acc_vowel': 0.998604, 'acc_consonant': 0.998629, 'acc_word': 0.994988, 'loss_grapheme': 0.056537, 'loss_vowel': 0.03147, 'loss_consonant': 0.024096, 'loss_word': 0.038231}\n",
      "SWA>>>:\n"
     ]
    },
    {
     "name": "stderr",
     "output_type": "stream",
     "text": [
      "100%|██████████| 251/251 [01:27<00:00,  2.95it/s]\n"
     ]
    },
    {
     "name": "stdout",
     "output_type": "stream",
     "text": [
      "\n",
      "val: {'recall': 0.998143, 'recall_grapheme': 0.99731, 'recall_vowel': 0.998944, 'recall_consonant': 0.999007, 'recall_word': 0.996867, 'acc_grapheme': 0.997357, 'acc_vowel': 0.998853, 'acc_consonant': 0.999052, 'acc_word': 0.996833, 'loss_grapheme': 0.011433, 'loss_vowel': 0.005202, 'loss_consonant': 0.004223, 'loss_word': 0.013401}\n",
      "   27 | 0.000055 | 160640/160735 | 1.6466 | 8.6365 ||\n",
      "val: {'recall': 0.996614, 'recall_grapheme': 0.995368, 'recall_vowel': 0.998265, 'recall_consonant': 0.997454, 'recall_word': 0.994956, 'acc_grapheme': 0.995437, 'acc_vowel': 0.998255, 'acc_consonant': 0.998429, 'acc_word': 0.994913, 'loss_grapheme': 0.056179, 'loss_vowel': 0.033656, 'loss_consonant': 0.026419, 'loss_word': 0.036692}\n",
      "   28 | 0.000053 | 160640/160735 | 10.1130 | 7.8843 ||\n",
      "val: {'recall': 0.996729, 'recall_grapheme': 0.995237, 'recall_vowel': 0.998723, 'recall_consonant': 0.997719, 'recall_word': 0.994857, 'acc_grapheme': 0.995287, 'acc_vowel': 0.998654, 'acc_consonant': 0.998429, 'acc_word': 0.994839, 'loss_grapheme': 0.070982, 'loss_vowel': 0.047206, 'loss_consonant': 0.035054, 'loss_word': 0.043484}\n",
      "   29 | 0.000050 | 160640/160735 | 1.8862 | 8.0318 |||"
     ]
    },
    {
     "name": "stderr",
     "output_type": "stream",
     "text": [
      "\r",
      "  0%|          | 0/251 [00:00<?, ?it/s]"
     ]
    },
    {
     "name": "stdout",
     "output_type": "stream",
     "text": [
      "\n",
      "val: {'recall': 0.9966, 'recall_grapheme': 0.9961, 'recall_vowel': 0.998188, 'recall_consonant': 0.996013, 'recall_word': 0.995016, 'acc_grapheme': 0.995636, 'acc_vowel': 0.998379, 'acc_consonant': 0.998429, 'acc_word': 0.995038, 'loss_grapheme': 0.051477, 'loss_vowel': 0.030301, 'loss_consonant': 0.02503, 'loss_word': 0.035431}\n",
      "SWA>>>:\n"
     ]
    },
    {
     "name": "stderr",
     "output_type": "stream",
     "text": [
      "100%|██████████| 251/251 [01:26<00:00,  2.82it/s]\n"
     ]
    },
    {
     "name": "stdout",
     "output_type": "stream",
     "text": [
      "\n",
      "val: {'recall': 0.998148, 'recall_grapheme': 0.997328, 'recall_vowel': 0.998933, 'recall_consonant': 0.999005, 'recall_word': 0.996836, 'acc_grapheme': 0.997357, 'acc_vowel': 0.998853, 'acc_consonant': 0.999052, 'acc_word': 0.996783, 'loss_grapheme': 0.011397, 'loss_vowel': 0.005214, 'loss_consonant': 0.004215, 'loss_word': 0.013385}\n",
      "   30 | 0.000047 | 160640/160735 | 11.1588 | 8.7513 ||\n",
      "val: {'recall': 0.996192, 'recall_grapheme': 0.995149, 'recall_vowel': 0.997827, 'recall_consonant': 0.996641, 'recall_word': 0.994204, 'acc_grapheme': 0.995063, 'acc_vowel': 0.99818, 'acc_consonant': 0.998105, 'acc_word': 0.99414, 'loss_grapheme': 0.106334, 'loss_vowel': 0.06721, 'loss_consonant': 0.048901, 'loss_word': 0.069678}\n",
      "   31 | 0.000045 | 160640/160735 | 6.4704 | 8.4395 ||\n",
      "val: {'recall': 0.996852, 'recall_grapheme': 0.996095, 'recall_vowel': 0.998598, 'recall_consonant': 0.996621, 'recall_word': 0.995439, 'acc_grapheme': 0.995761, 'acc_vowel': 0.998678, 'acc_consonant': 0.998629, 'acc_word': 0.995437, 'loss_grapheme': 0.031914, 'loss_vowel': 0.018723, 'loss_consonant': 0.016248, 'loss_word': 0.024421}\n",
      "   32 | 0.000042 | 160640/160735 | 1.5864 | 8.1465 ||"
     ]
    },
    {
     "name": "stderr",
     "output_type": "stream",
     "text": [
      "\r",
      "  0%|          | 0/251 [00:00<?, ?it/s]"
     ]
    },
    {
     "name": "stdout",
     "output_type": "stream",
     "text": [
      "\n",
      "val: {'recall': 0.997052, 'recall_grapheme': 0.995848, 'recall_vowel': 0.998666, 'recall_consonant': 0.997846, 'recall_word': 0.995603, 'acc_grapheme': 0.995711, 'acc_vowel': 0.998554, 'acc_consonant': 0.998678, 'acc_word': 0.995587, 'loss_grapheme': 0.040775, 'loss_vowel': 0.024525, 'loss_consonant': 0.018818, 'loss_word': 0.028833}\n",
      "SWA>>>:\n"
     ]
    },
    {
     "name": "stderr",
     "output_type": "stream",
     "text": [
      "100%|██████████| 251/251 [01:26<00:00,  3.01it/s]\n"
     ]
    },
    {
     "name": "stdout",
     "output_type": "stream",
     "text": [
      "\n",
      "val: {'recall': 0.998159, 'recall_grapheme': 0.997329, 'recall_vowel': 0.99892, 'recall_consonant': 0.999059, 'recall_word': 0.996825, 'acc_grapheme': 0.997332, 'acc_vowel': 0.998828, 'acc_consonant': 0.999052, 'acc_word': 0.996783, 'loss_grapheme': 0.01146, 'loss_vowel': 0.005262, 'loss_consonant': 0.00425, 'loss_word': 0.013381}\n",
      "   33 | 0.000040 | 160640/160735 | 5.9599 | 8.0539 |||\n",
      "val: {'recall': 0.996631, 'recall_grapheme': 0.995419, 'recall_vowel': 0.9985, 'recall_consonant': 0.997188, 'recall_word': 0.994832, 'acc_grapheme': 0.995537, 'acc_vowel': 0.998529, 'acc_consonant': 0.998629, 'acc_word': 0.994789, 'loss_grapheme': 0.050135, 'loss_vowel': 0.028909, 'loss_consonant': 0.024337, 'loss_word': 0.037641}\n",
      "   34 | 0.000037 | 160640/160735 | 20.3096 | 8.3704 |\n",
      "val: {'recall': 0.996938, 'recall_grapheme': 0.996041, 'recall_vowel': 0.9986, 'recall_consonant': 0.99707, 'recall_word': 0.995702, 'acc_grapheme': 0.996135, 'acc_vowel': 0.998703, 'acc_consonant': 0.998803, 'acc_word': 0.995661, 'loss_grapheme': 0.048625, 'loss_vowel': 0.029031, 'loss_consonant': 0.021776, 'loss_word': 0.033959}\n",
      "   35 | 0.000035 | 160640/160735 | 1.3278 | 8.0302 ||"
     ]
    },
    {
     "name": "stderr",
     "output_type": "stream",
     "text": [
      "\r",
      "  0%|          | 0/251 [00:00<?, ?it/s]"
     ]
    },
    {
     "name": "stdout",
     "output_type": "stream",
     "text": [
      "\n",
      "val: {'recall': 0.996931, 'recall_grapheme': 0.996153, 'recall_vowel': 0.998851, 'recall_consonant': 0.996568, 'recall_word': 0.995606, 'acc_grapheme': 0.99606, 'acc_vowel': 0.998778, 'acc_consonant': 0.998629, 'acc_word': 0.995562, 'loss_grapheme': 0.036035, 'loss_vowel': 0.024363, 'loss_consonant': 0.019067, 'loss_word': 0.024962}\n",
      "SWA>>>:\n"
     ]
    },
    {
     "name": "stderr",
     "output_type": "stream",
     "text": [
      "100%|██████████| 251/251 [01:26<00:00,  3.00it/s]\n"
     ]
    },
    {
     "name": "stdout",
     "output_type": "stream",
     "text": [
      "\n",
      "val: {'recall': 0.998198, 'recall_grapheme': 0.997385, 'recall_vowel': 0.998961, 'recall_consonant': 0.999059, 'recall_word': 0.996897, 'acc_grapheme': 0.997357, 'acc_vowel': 0.998878, 'acc_consonant': 0.999052, 'acc_word': 0.996858, 'loss_grapheme': 0.011446, 'loss_vowel': 0.005278, 'loss_consonant': 0.004254, 'loss_word': 0.013389}\n",
      "   36 | 0.000032 | 160640/160735 | 16.8305 | 8.1338 |\n",
      "val: {'recall': 0.997478, 'recall_grapheme': 0.996889, 'recall_vowel': 0.998798, 'recall_consonant': 0.997336, 'recall_word': 0.996081, 'acc_grapheme': 0.996734, 'acc_vowel': 0.998728, 'acc_consonant': 0.998853, 'acc_word': 0.996085, 'loss_grapheme': 0.041359, 'loss_vowel': 0.027933, 'loss_consonant': 0.020977, 'loss_word': 0.027056}\n",
      "   37 | 0.000030 | 160640/160735 | 1.7447 | 7.7457 ||\n",
      "val: {'recall': 0.997482, 'recall_grapheme': 0.996422, 'recall_vowel': 0.998912, 'recall_consonant': 0.998171, 'recall_word': 0.996051, 'acc_grapheme': 0.996559, 'acc_vowel': 0.998953, 'acc_consonant': 0.998953, 'acc_word': 0.99606, 'loss_grapheme': 0.043154, 'loss_vowel': 0.028704, 'loss_consonant': 0.020708, 'loss_word': 0.028237}\n",
      "   38 | 0.000027 | 160640/160735 | 8.2202 | 8.6560 |||"
     ]
    },
    {
     "name": "stderr",
     "output_type": "stream",
     "text": [
      "\r",
      "  0%|          | 0/251 [00:00<?, ?it/s]"
     ]
    },
    {
     "name": "stdout",
     "output_type": "stream",
     "text": [
      "\n",
      "val: {'recall': 0.997082, 'recall_grapheme': 0.995821, 'recall_vowel': 0.99865, 'recall_consonant': 0.998035, 'recall_word': 0.995315, 'acc_grapheme': 0.995786, 'acc_vowel': 0.998753, 'acc_consonant': 0.998803, 'acc_word': 0.995312, 'loss_grapheme': 0.039681, 'loss_vowel': 0.023617, 'loss_consonant': 0.018907, 'loss_word': 0.029111}\n",
      "SWA>>>:\n"
     ]
    },
    {
     "name": "stderr",
     "output_type": "stream",
     "text": [
      "100%|██████████| 251/251 [01:26<00:00,  3.04it/s]\n"
     ]
    },
    {
     "name": "stdout",
     "output_type": "stream",
     "text": [
      "\n",
      "val: {'recall': 0.998124, 'recall_grapheme': 0.997269, 'recall_vowel': 0.998964, 'recall_consonant': 0.998993, 'recall_word': 0.996931, 'acc_grapheme': 0.997257, 'acc_vowel': 0.998878, 'acc_consonant': 0.999003, 'acc_word': 0.996883, 'loss_grapheme': 0.011479, 'loss_vowel': 0.005256, 'loss_consonant': 0.004252, 'loss_word': 0.013358}\n",
      "   39 | 0.000025 | 160640/160735 | 9.8173 | 7.6590 ||\n",
      "val: {'recall': 0.997217, 'recall_grapheme': 0.996182, 'recall_vowel': 0.998585, 'recall_consonant': 0.99792, 'recall_word': 0.995243, 'acc_grapheme': 0.995686, 'acc_vowel': 0.998703, 'acc_consonant': 0.998678, 'acc_word': 0.995238, 'loss_grapheme': 0.04527, 'loss_vowel': 0.026072, 'loss_consonant': 0.020034, 'loss_word': 0.034395}\n",
      "   40 | 0.000023 | 160640/160735 | 6.5204 | 8.5980 |||\n",
      "val: {'recall': 0.996672, 'recall_grapheme': 0.995702, 'recall_vowel': 0.99849, 'recall_consonant': 0.996793, 'recall_word': 0.995336, 'acc_grapheme': 0.995562, 'acc_vowel': 0.998629, 'acc_consonant': 0.998629, 'acc_word': 0.995238, 'loss_grapheme': 0.068529, 'loss_vowel': 0.041728, 'loss_consonant': 0.031252, 'loss_word': 0.044038}\n",
      "   41 | 0.000021 | 160640/160735 | 10.1735 | 7.8850 ||"
     ]
    },
    {
     "name": "stderr",
     "output_type": "stream",
     "text": [
      "\r",
      "  0%|          | 0/251 [00:00<?, ?it/s]"
     ]
    },
    {
     "name": "stdout",
     "output_type": "stream",
     "text": [
      "\n",
      "val: {'recall': 0.99725, 'recall_grapheme': 0.996243, 'recall_vowel': 0.998595, 'recall_consonant': 0.997919, 'recall_word': 0.995553, 'acc_grapheme': 0.995986, 'acc_vowel': 0.998629, 'acc_consonant': 0.998678, 'acc_word': 0.995512, 'loss_grapheme': 0.051241, 'loss_vowel': 0.032192, 'loss_consonant': 0.025257, 'loss_word': 0.03307}\n",
      "SWA>>>:\n"
     ]
    },
    {
     "name": "stderr",
     "output_type": "stream",
     "text": [
      "100%|██████████| 251/251 [01:27<00:00,  2.99it/s]\n"
     ]
    },
    {
     "name": "stdout",
     "output_type": "stream",
     "text": [
      "\n",
      "val: {'recall': 0.998113, 'recall_grapheme': 0.997238, 'recall_vowel': 0.998957, 'recall_consonant': 0.99902, 'recall_word': 0.996902, 'acc_grapheme': 0.997207, 'acc_vowel': 0.998878, 'acc_consonant': 0.999003, 'acc_word': 0.996858, 'loss_grapheme': 0.011426, 'loss_vowel': 0.005272, 'loss_consonant': 0.004232, 'loss_word': 0.013338}\n",
      "   42 | 0.000019 | 160640/160735 | 4.0034 | 8.4037 ||\n",
      "val: {'recall': 0.996931, 'recall_grapheme': 0.996072, 'recall_vowel': 0.998613, 'recall_consonant': 0.996968, 'recall_word': 0.995557, 'acc_grapheme': 0.99601, 'acc_vowel': 0.998753, 'acc_consonant': 0.998753, 'acc_word': 0.995487, 'loss_grapheme': 0.052952, 'loss_vowel': 0.031382, 'loss_consonant': 0.023903, 'loss_word': 0.035801}\n",
      "   43 | 0.000017 | 160640/160735 | 4.1480 | 7.6741 |||\n",
      "val: {'recall': 0.997789, 'recall_grapheme': 0.997077, 'recall_vowel': 0.998907, 'recall_consonant': 0.998094, 'recall_word': 0.996471, 'acc_grapheme': 0.996958, 'acc_vowel': 0.998828, 'acc_consonant': 0.998928, 'acc_word': 0.996434, 'loss_grapheme': 0.023333, 'loss_vowel': 0.015455, 'loss_consonant': 0.01214, 'loss_word': 0.018409}\n",
      "   44 | 0.000015 | 160640/160735 | 18.6268 | 7.9950 ||"
     ]
    },
    {
     "name": "stderr",
     "output_type": "stream",
     "text": [
      "\r",
      "  0%|          | 0/251 [00:00<?, ?it/s]"
     ]
    },
    {
     "name": "stdout",
     "output_type": "stream",
     "text": [
      "\n",
      "val: {'recall': 0.997494, 'recall_grapheme': 0.99663, 'recall_vowel': 0.99874, 'recall_consonant': 0.997978, 'recall_word': 0.996081, 'acc_grapheme': 0.996434, 'acc_vowel': 0.998803, 'acc_consonant': 0.998778, 'acc_word': 0.99606, 'loss_grapheme': 0.045021, 'loss_vowel': 0.029144, 'loss_consonant': 0.022757, 'loss_word': 0.028419}\n",
      "SWA>>>:\n"
     ]
    },
    {
     "name": "stderr",
     "output_type": "stream",
     "text": [
      "100%|██████████| 251/251 [01:27<00:00,  2.83it/s]\n"
     ]
    },
    {
     "name": "stdout",
     "output_type": "stream",
     "text": [
      "\n",
      "val: {'recall': 0.998101, 'recall_grapheme': 0.997203, 'recall_vowel': 0.998961, 'recall_consonant': 0.999038, 'recall_word': 0.996951, 'acc_grapheme': 0.997207, 'acc_vowel': 0.998878, 'acc_consonant': 0.999077, 'acc_word': 0.996908, 'loss_grapheme': 0.011442, 'loss_vowel': 0.005269, 'loss_consonant': 0.004257, 'loss_word': 0.013329}\n",
      "   45 | 0.000013 | 160640/160735 | 1.6127 | 7.9158 ||\n",
      "val: {'recall': 0.996884, 'recall_grapheme': 0.996094, 'recall_vowel': 0.998587, 'recall_consonant': 0.99676, 'recall_word': 0.995305, 'acc_grapheme': 0.995886, 'acc_vowel': 0.998678, 'acc_consonant': 0.998554, 'acc_word': 0.995213, 'loss_grapheme': 0.043415, 'loss_vowel': 0.025347, 'loss_consonant': 0.019611, 'loss_word': 0.031792}\n",
      "   46 | 0.000011 | 160640/160735 | 10.2367 | 8.8154 ||\n",
      "val: {'recall': 0.997211, 'recall_grapheme': 0.996191, 'recall_vowel': 0.998605, 'recall_consonant': 0.997859, 'recall_word': 0.995372, 'acc_grapheme': 0.995786, 'acc_vowel': 0.998654, 'acc_consonant': 0.998703, 'acc_word': 0.995312, 'loss_grapheme': 0.048563, 'loss_vowel': 0.026388, 'loss_consonant': 0.021108, 'loss_word': 0.036976}\n",
      "   47 | 0.000010 | 160640/160735 | 10.9967 | 7.8039 ||"
     ]
    },
    {
     "name": "stderr",
     "output_type": "stream",
     "text": [
      "\r",
      "  0%|          | 0/251 [00:00<?, ?it/s]"
     ]
    },
    {
     "name": "stdout",
     "output_type": "stream",
     "text": [
      "\n",
      "val: {'recall': 0.997222, 'recall_grapheme': 0.995927, 'recall_vowel': 0.998619, 'recall_consonant': 0.998415, 'recall_word': 0.994993, 'acc_grapheme': 0.995711, 'acc_vowel': 0.998629, 'acc_consonant': 0.998579, 'acc_word': 0.994938, 'loss_grapheme': 0.071519, 'loss_vowel': 0.047178, 'loss_consonant': 0.035467, 'loss_word': 0.044058}\n",
      "SWA>>>:\n"
     ]
    },
    {
     "name": "stderr",
     "output_type": "stream",
     "text": [
      "100%|██████████| 251/251 [01:26<00:00,  2.97it/s]\n"
     ]
    },
    {
     "name": "stdout",
     "output_type": "stream",
     "text": [
      "\n",
      "val: {'recall': 0.998093, 'recall_grapheme': 0.997204, 'recall_vowel': 0.998944, 'recall_consonant': 0.99902, 'recall_word': 0.996903, 'acc_grapheme': 0.997207, 'acc_vowel': 0.998853, 'acc_consonant': 0.999003, 'acc_word': 0.996858, 'loss_grapheme': 0.011501, 'loss_vowel': 0.005283, 'loss_consonant': 0.004258, 'loss_word': 0.013398}\n",
      "   48 | 0.000008 | 160640/160735 | 10.9164 | 8.0269 |\n",
      "val: {'recall': 0.997249, 'recall_grapheme': 0.9963, 'recall_vowel': 0.998565, 'recall_consonant': 0.997831, 'recall_word': 0.995588, 'acc_grapheme': 0.99606, 'acc_vowel': 0.998654, 'acc_consonant': 0.998678, 'acc_word': 0.995562, 'loss_grapheme': 0.041418, 'loss_vowel': 0.024138, 'loss_consonant': 0.019074, 'loss_word': 0.030823}\n",
      "   49 | 0.000007 | 160640/160735 | 17.5898 | 8.5797 ||\n",
      "val: {'recall': 0.997634, 'recall_grapheme': 0.996835, 'recall_vowel': 0.998885, 'recall_consonant': 0.997982, 'recall_word': 0.996638, 'acc_grapheme': 0.996808, 'acc_vowel': 0.998928, 'acc_consonant': 0.998878, 'acc_word': 0.996584, 'loss_grapheme': 0.047582, 'loss_vowel': 0.03124, 'loss_consonant': 0.022973, 'loss_word': 0.029668}\n",
      "   50 | 0.000005 | 160640/160735 | 3.3669 | 7.8175 ||"
     ]
    },
    {
     "name": "stderr",
     "output_type": "stream",
     "text": [
      "\r",
      "  0%|          | 0/251 [00:00<?, ?it/s]"
     ]
    },
    {
     "name": "stdout",
     "output_type": "stream",
     "text": [
      "\n",
      "val: {'recall': 0.997619, 'recall_grapheme': 0.996716, 'recall_vowel': 0.998874, 'recall_consonant': 0.998171, 'recall_word': 0.996251, 'acc_grapheme': 0.996634, 'acc_vowel': 0.998903, 'acc_consonant': 0.998928, 'acc_word': 0.99621, 'loss_grapheme': 0.032706, 'loss_vowel': 0.01953, 'loss_consonant': 0.015601, 'loss_word': 0.023619}\n",
      "SWA>>>:\n"
     ]
    },
    {
     "name": "stderr",
     "output_type": "stream",
     "text": [
      "100%|██████████| 251/251 [01:27<00:00,  3.00it/s]\n"
     ]
    },
    {
     "name": "stdout",
     "output_type": "stream",
     "text": [
      "\n",
      "val: {'recall': 0.998111, 'recall_grapheme': 0.997223, 'recall_vowel': 0.998944, 'recall_consonant': 0.999054, 'recall_word': 0.996879, 'acc_grapheme': 0.997232, 'acc_vowel': 0.998853, 'acc_consonant': 0.999028, 'acc_word': 0.996833, 'loss_grapheme': 0.011478, 'loss_vowel': 0.005268, 'loss_consonant': 0.004234, 'loss_word': 0.013343}\n",
      "   51 | 0.000004 | 160640/160735 | 1.6603 | 7.5864 ||\n",
      "val: {'recall': 0.997304, 'recall_grapheme': 0.99625, 'recall_vowel': 0.998675, 'recall_consonant': 0.998042, 'recall_word': 0.995949, 'acc_grapheme': 0.996285, 'acc_vowel': 0.998803, 'acc_consonant': 0.998853, 'acc_word': 0.995886, 'loss_grapheme': 0.049197, 'loss_vowel': 0.032278, 'loss_consonant': 0.024843, 'loss_word': 0.031096}\n",
      "   52 | 0.000003 | 160640/160735 | 9.5320 | 8.1748 |||\n",
      "val: {'recall': 0.99675, 'recall_grapheme': 0.995912, 'recall_vowel': 0.998407, 'recall_consonant': 0.996768, 'recall_word': 0.995329, 'acc_grapheme': 0.995886, 'acc_vowel': 0.998579, 'acc_consonant': 0.998604, 'acc_word': 0.995287, 'loss_grapheme': 0.049289, 'loss_vowel': 0.026933, 'loss_consonant': 0.021784, 'loss_word': 0.037356}\n",
      "   53 | 0.000002 | 160640/160735 | 1.4619 | 8.0557 |||"
     ]
    },
    {
     "name": "stderr",
     "output_type": "stream",
     "text": [
      "\r",
      "  0%|          | 0/251 [00:00<?, ?it/s]"
     ]
    },
    {
     "name": "stdout",
     "output_type": "stream",
     "text": [
      "\n",
      "val: {'recall': 0.997699, 'recall_grapheme': 0.99685, 'recall_vowel': 0.998925, 'recall_consonant': 0.998171, 'recall_word': 0.996329, 'acc_grapheme': 0.996858, 'acc_vowel': 0.998953, 'acc_consonant': 0.998928, 'acc_word': 0.996285, 'loss_grapheme': 0.036903, 'loss_vowel': 0.025434, 'loss_consonant': 0.019203, 'loss_word': 0.023477}\n",
      "SWA>>>:\n"
     ]
    },
    {
     "name": "stderr",
     "output_type": "stream",
     "text": [
      "100%|██████████| 251/251 [01:26<00:00,  2.98it/s]\n"
     ]
    },
    {
     "name": "stdout",
     "output_type": "stream",
     "text": [
      "\n",
      "val: {'recall': 0.998117, 'recall_grapheme': 0.997223, 'recall_vowel': 0.998932, 'recall_consonant': 0.99909, 'recall_word': 0.996945, 'acc_grapheme': 0.997232, 'acc_vowel': 0.998828, 'acc_consonant': 0.999028, 'acc_word': 0.996908, 'loss_grapheme': 0.011412, 'loss_vowel': 0.005248, 'loss_consonant': 0.004221, 'loss_word': 0.013322}\n",
      "   54 | 0.000002 | 160640/160735 | 1.6746 | 8.0908 ||\n",
      "val: {'recall': 0.997337, 'recall_grapheme': 0.996314, 'recall_vowel': 0.99879, 'recall_consonant': 0.997931, 'recall_word': 0.995899, 'acc_grapheme': 0.99636, 'acc_vowel': 0.998853, 'acc_consonant': 0.998728, 'acc_word': 0.995836, 'loss_grapheme': 0.044365, 'loss_vowel': 0.028393, 'loss_consonant': 0.021503, 'loss_word': 0.028141}\n",
      "   55 | 0.000001 | 160640/160735 | 9.3229 | 8.1958 ||\n",
      "val: {'recall': 0.997401, 'recall_grapheme': 0.996349, 'recall_vowel': 0.998798, 'recall_consonant': 0.998109, 'recall_word': 0.996053, 'acc_grapheme': 0.996484, 'acc_vowel': 0.998903, 'acc_consonant': 0.998903, 'acc_word': 0.996035, 'loss_grapheme': 0.034592, 'loss_vowel': 0.022091, 'loss_consonant': 0.017379, 'loss_word': 0.023866}\n",
      "   56 | 0.000001 | 160640/160735 | 1.7163 | 8.7011 |||"
     ]
    },
    {
     "name": "stderr",
     "output_type": "stream",
     "text": [
      "\r",
      "  0%|          | 0/251 [00:00<?, ?it/s]"
     ]
    },
    {
     "name": "stdout",
     "output_type": "stream",
     "text": [
      "\n",
      "val: {'recall': 0.997412, 'recall_grapheme': 0.996422, 'recall_vowel': 0.998771, 'recall_consonant': 0.998034, 'recall_word': 0.995879, 'acc_grapheme': 0.99636, 'acc_vowel': 0.998878, 'acc_consonant': 0.998828, 'acc_word': 0.995836, 'loss_grapheme': 0.040754, 'loss_vowel': 0.025695, 'loss_consonant': 0.019805, 'loss_word': 0.026647}\n",
      "SWA>>>:\n"
     ]
    },
    {
     "name": "stderr",
     "output_type": "stream",
     "text": [
      "100%|██████████| 251/251 [01:26<00:00,  2.98it/s]\n"
     ]
    },
    {
     "name": "stdout",
     "output_type": "stream",
     "text": [
      "\n",
      "val: {'recall': 0.998106, 'recall_grapheme': 0.997213, 'recall_vowel': 0.998944, 'recall_consonant': 0.999054, 'recall_word': 0.996875, 'acc_grapheme': 0.997207, 'acc_vowel': 0.998853, 'acc_consonant': 0.999028, 'acc_word': 0.996833, 'loss_grapheme': 0.011414, 'loss_vowel': 0.005289, 'loss_consonant': 0.004231, 'loss_word': 0.013307}\n",
      "   57 | 0.000000 | 160640/160735 | 6.6094 | 7.9599 ||\n",
      "val: {'recall': 0.997213, 'recall_grapheme': 0.996098, 'recall_vowel': 0.998625, 'recall_consonant': 0.998031, 'recall_word': 0.995768, 'acc_grapheme': 0.99606, 'acc_vowel': 0.998753, 'acc_consonant': 0.998803, 'acc_word': 0.995686, 'loss_grapheme': 0.048045, 'loss_vowel': 0.029026, 'loss_consonant': 0.022462, 'loss_word': 0.034149}\n",
      "   58 | 0.000000 | 160640/160735 | 1.6327 | 8.2746 |||\n",
      "val: {'recall': 0.997191, 'recall_grapheme': 0.996084, 'recall_vowel': 0.998617, 'recall_consonant': 0.997979, 'recall_word': 0.995555, 'acc_grapheme': 0.99611, 'acc_vowel': 0.998728, 'acc_consonant': 0.998728, 'acc_word': 0.995487, 'loss_grapheme': 0.046713, 'loss_vowel': 0.027584, 'loss_consonant': 0.021809, 'loss_word': 0.032381}\n",
      "   59 | 0.000000 | 160640/160735 | 9.6459 | 8.0307 |||"
     ]
    },
    {
     "name": "stderr",
     "output_type": "stream",
     "text": [
      "\r",
      "  0%|          | 0/251 [00:00<?, ?it/s]"
     ]
    },
    {
     "name": "stdout",
     "output_type": "stream",
     "text": [
      "\n",
      "val: {'recall': 0.997495, 'recall_grapheme': 0.996469, 'recall_vowel': 0.998909, 'recall_consonant': 0.998134, 'recall_word': 0.996179, 'acc_grapheme': 0.996559, 'acc_vowel': 0.998953, 'acc_consonant': 0.998878, 'acc_word': 0.99616, 'loss_grapheme': 0.034854, 'loss_vowel': 0.023356, 'loss_consonant': 0.018244, 'loss_word': 0.023516}\n",
      "SWA>>>:\n"
     ]
    },
    {
     "name": "stderr",
     "output_type": "stream",
     "text": [
      "100%|██████████| 251/251 [01:26<00:00,  3.01it/s]\n"
     ]
    },
    {
     "name": "stdout",
     "output_type": "stream",
     "text": [
      "\n",
      "val: {'recall': 0.998116, 'recall_grapheme': 0.997234, 'recall_vowel': 0.998944, 'recall_consonant': 0.999054, 'recall_word': 0.996904, 'acc_grapheme': 0.997257, 'acc_vowel': 0.998853, 'acc_consonant': 0.999028, 'acc_word': 0.996858, 'loss_grapheme': 0.011452, 'loss_vowel': 0.005295, 'loss_consonant': 0.004228, 'loss_word': 0.01332}\n",
      "CYCLE: 4\n",
      "    0 | 0.000020 | 160640/160735 | 12.5413 | 8.4985 ||\n",
      "val: {'recall': 0.997313, 'recall_grapheme': 0.995842, 'recall_vowel': 0.998671, 'recall_consonant': 0.998898, 'recall_word': 0.995263, 'acc_grapheme': 0.995587, 'acc_vowel': 0.998828, 'acc_consonant': 0.998703, 'acc_word': 0.995213, 'loss_grapheme': 0.05939, 'loss_vowel': 0.037807, 'loss_consonant': 0.029833, 'loss_word': 0.040345}\n",
      "    1 | 0.000040 | 160640/160735 | 18.4201 | 7.8972 ||\n",
      "val: {'recall': 0.996921, 'recall_grapheme': 0.995653, 'recall_vowel': 0.998088, 'recall_consonant': 0.99829, 'recall_word': 0.994689, 'acc_grapheme': 0.995088, 'acc_vowel': 0.998329, 'acc_consonant': 0.998529, 'acc_word': 0.994639, 'loss_grapheme': 0.05082, 'loss_vowel': 0.029818, 'loss_consonant': 0.024672, 'loss_word': 0.038793}\n",
      "    2 | 0.000060 | 160640/160735 | 3.5021 | 7.8614 |||\n",
      "val: {'recall': 0.997565, 'recall_grapheme': 0.996693, 'recall_vowel': 0.99878, 'recall_consonant': 0.998096, 'recall_word': 0.996136, 'acc_grapheme': 0.996659, 'acc_vowel': 0.998654, 'acc_consonant': 0.998878, 'acc_word': 0.996085, 'loss_grapheme': 0.024768, 'loss_vowel': 0.01453, 'loss_consonant': 0.011578, 'loss_word': 0.020028}\n",
      "    3 | 0.000079 | 160640/160735 | 1.2349 | 7.9607 |||\n",
      "val: {'recall': 0.997328, 'recall_grapheme': 0.996347, 'recall_vowel': 0.998754, 'recall_consonant': 0.997864, 'recall_word': 0.995929, 'acc_grapheme': 0.996509, 'acc_vowel': 0.998778, 'acc_consonant': 0.998604, 'acc_word': 0.995861, 'loss_grapheme': 0.037869, 'loss_vowel': 0.024741, 'loss_consonant': 0.019233, 'loss_word': 0.025577}\n",
      "    4 | 0.000098 | 160640/160735 | 14.6007 | 7.3743 ||\n",
      "val: {'recall': 0.995832, 'recall_grapheme': 0.99414, 'recall_vowel': 0.998215, 'recall_consonant': 0.996834, 'recall_word': 0.993223, 'acc_grapheme': 0.993841, 'acc_vowel': 0.998304, 'acc_consonant': 0.99798, 'acc_word': 0.993143, 'loss_grapheme': 0.063621, 'loss_vowel': 0.035673, 'loss_consonant': 0.030682, 'loss_word': 0.049019}\n",
      "    5 | 0.000098 | 160640/160735 | 4.1019 | 8.5497 |||\n",
      "val: {'recall': 0.997069, 'recall_grapheme': 0.995903, 'recall_vowel': 0.998409, 'recall_consonant': 0.998062, 'recall_word': 0.994667, 'acc_grapheme': 0.995362, 'acc_vowel': 0.998504, 'acc_consonant': 0.998404, 'acc_word': 0.994664, 'loss_grapheme': 0.049267, 'loss_vowel': 0.028476, 'loss_consonant': 0.020865, 'loss_word': 0.035119}\n",
      "    6 | 0.000097 | 160640/160735 | 8.6137 | 7.3642 ||\n",
      "val: {'recall': 0.996785, 'recall_grapheme': 0.995257, 'recall_vowel': 0.99812, 'recall_consonant': 0.998506, 'recall_word': 0.994244, 'acc_grapheme': 0.995013, 'acc_vowel': 0.998304, 'acc_consonant': 0.998055, 'acc_word': 0.994215, 'loss_grapheme': 0.099157, 'loss_vowel': 0.061327, 'loss_consonant': 0.042165, 'loss_word': 0.057205}\n",
      "    7 | 0.000096 | 160640/160735 | 9.5081 | 8.3382 ||\n",
      "val: {'recall': 0.996273, 'recall_grapheme': 0.994534, 'recall_vowel': 0.998329, 'recall_consonant': 0.997694, 'recall_word': 0.993914, 'acc_grapheme': 0.994839, 'acc_vowel': 0.99823, 'acc_consonant': 0.998155, 'acc_word': 0.993816, 'loss_grapheme': 0.051339, 'loss_vowel': 0.027438, 'loss_consonant': 0.022861, 'loss_word': 0.035204}\n",
      "    8 | 0.000095 | 160640/160735 | 19.6692 | 8.2339 ||\n",
      "val: {'recall': 0.996883, 'recall_grapheme': 0.995558, 'recall_vowel': 0.998754, 'recall_consonant': 0.997659, 'recall_word': 0.994985, 'acc_grapheme': 0.995412, 'acc_vowel': 0.998579, 'acc_consonant': 0.99828, 'acc_word': 0.994913, 'loss_grapheme': 0.063093, 'loss_vowel': 0.03824, 'loss_consonant': 0.029025, 'loss_word': 0.040172}\n",
      "    9 | 0.000093 | 160640/160735 | 7.4406 | 8.5449 |||\n",
      "val: {'recall': 0.997117, 'recall_grapheme': 0.996123, 'recall_vowel': 0.998519, 'recall_consonant': 0.997704, 'recall_word': 0.995204, 'acc_grapheme': 0.995711, 'acc_vowel': 0.998479, 'acc_consonant': 0.998529, 'acc_word': 0.995163, 'loss_grapheme': 0.066298, 'loss_vowel': 0.038709, 'loss_consonant': 0.029828, 'loss_word': 0.04685}\n",
      "   10 | 0.000092 | 160640/160735 | 0.4969 | 8.3512 |||\n",
      "val: {'recall': 0.997362, 'recall_grapheme': 0.996074, 'recall_vowel': 0.998593, 'recall_consonant': 0.998707, 'recall_word': 0.995118, 'acc_grapheme': 0.995711, 'acc_vowel': 0.998529, 'acc_consonant': 0.998529, 'acc_word': 0.995113, 'loss_grapheme': 0.045057, 'loss_vowel': 0.02648, 'loss_consonant': 0.02151, 'loss_word': 0.032319}\n",
      "   11 | 0.000090 | 160640/160735 | 9.2955 | 8.1778 |||\n",
      "val: {'recall': 0.99679, 'recall_grapheme': 0.99549, 'recall_vowel': 0.998624, 'recall_consonant': 0.997558, 'recall_word': 0.995059, 'acc_grapheme': 0.995462, 'acc_vowel': 0.998479, 'acc_consonant': 0.998529, 'acc_word': 0.995013, 'loss_grapheme': 0.054387, 'loss_vowel': 0.032179, 'loss_consonant': 0.023137, 'loss_word': 0.038165}\n",
      "   12 | 0.000089 | 160640/160735 | 1.7491 | 8.5652 ||\n",
      "val: {'recall': 0.997398, 'recall_grapheme': 0.996245, 'recall_vowel': 0.998554, 'recall_consonant': 0.998547, 'recall_word': 0.995543, 'acc_grapheme': 0.996335, 'acc_vowel': 0.998629, 'acc_consonant': 0.998803, 'acc_word': 0.995462, 'loss_grapheme': 0.045676, 'loss_vowel': 0.027582, 'loss_consonant': 0.022537, 'loss_word': 0.031078}\n",
      "   13 | 0.000087 | 160640/160735 | 1.6742 | 8.2558 ||\n",
      "val: {'recall': 0.996891, 'recall_grapheme': 0.995951, 'recall_vowel': 0.998426, 'recall_consonant': 0.997234, 'recall_word': 0.995604, 'acc_grapheme': 0.995886, 'acc_vowel': 0.998554, 'acc_consonant': 0.998728, 'acc_word': 0.995587, 'loss_grapheme': 0.045841, 'loss_vowel': 0.027456, 'loss_consonant': 0.020741, 'loss_word': 0.030467}\n",
      "   14 | 0.000085 | 160640/160735 | 8.0239 | 8.3723 |||"
     ]
    },
    {
     "name": "stderr",
     "output_type": "stream",
     "text": [
      "\r",
      "  0%|          | 0/251 [00:00<?, ?it/s]"
     ]
    },
    {
     "name": "stdout",
     "output_type": "stream",
     "text": [
      "\n",
      "val: {'recall': 0.996766, 'recall_grapheme': 0.995724, 'recall_vowel': 0.998589, 'recall_consonant': 0.997025, 'recall_word': 0.99516, 'acc_grapheme': 0.995711, 'acc_vowel': 0.998678, 'acc_consonant': 0.998429, 'acc_word': 0.995088, 'loss_grapheme': 0.068902, 'loss_vowel': 0.041615, 'loss_consonant': 0.031189, 'loss_word': 0.047303}\n",
      "SWA>>>:\n"
     ]
    },
    {
     "name": "stderr",
     "output_type": "stream",
     "text": [
      "100%|██████████| 251/251 [01:26<00:00,  2.99it/s]\n"
     ]
    },
    {
     "name": "stdout",
     "output_type": "stream",
     "text": [
      "\n",
      "val: {'recall': 0.998147, 'recall_grapheme': 0.99728, 'recall_vowel': 0.998972, 'recall_consonant': 0.999054, 'recall_word': 0.99696, 'acc_grapheme': 0.997332, 'acc_vowel': 0.998903, 'acc_consonant': 0.999028, 'acc_word': 0.996908, 'loss_grapheme': 0.01141, 'loss_vowel': 0.00527, 'loss_consonant': 0.004202, 'loss_word': 0.013286}\n",
      "   15 | 0.000083 | 160640/160735 | 19.3811 | 8.9765 ||\n",
      "val: {'recall': 0.996836, 'recall_grapheme': 0.995928, 'recall_vowel': 0.998592, 'recall_consonant': 0.996898, 'recall_word': 0.995482, 'acc_grapheme': 0.995936, 'acc_vowel': 0.998554, 'acc_consonant': 0.998379, 'acc_word': 0.995462, 'loss_grapheme': 0.053991, 'loss_vowel': 0.037975, 'loss_consonant': 0.028325, 'loss_word': 0.033091}\n",
      "   16 | 0.000081 | 160640/160735 | 10.8188 | 8.6881 ||\n",
      "val: {'recall': 0.99637, 'recall_grapheme': 0.99512, 'recall_vowel': 0.998249, 'recall_consonant': 0.996991, 'recall_word': 0.994616, 'acc_grapheme': 0.995387, 'acc_vowel': 0.998354, 'acc_consonant': 0.998329, 'acc_word': 0.994564, 'loss_grapheme': 0.071903, 'loss_vowel': 0.043589, 'loss_consonant': 0.031156, 'loss_word': 0.046692}\n",
      "   17 | 0.000079 | 160640/160735 | 1.7919 | 8.2076 |||"
     ]
    },
    {
     "name": "stderr",
     "output_type": "stream",
     "text": [
      "\r",
      "  0%|          | 0/251 [00:00<?, ?it/s]"
     ]
    },
    {
     "name": "stdout",
     "output_type": "stream",
     "text": [
      "\n",
      "val: {'recall': 0.997145, 'recall_grapheme': 0.996085, 'recall_vowel': 0.998703, 'recall_consonant': 0.997708, 'recall_word': 0.995246, 'acc_grapheme': 0.995761, 'acc_vowel': 0.998678, 'acc_consonant': 0.998853, 'acc_word': 0.995188, 'loss_grapheme': 0.055384, 'loss_vowel': 0.036551, 'loss_consonant': 0.025905, 'loss_word': 0.033628}\n",
      "SWA>>>:\n"
     ]
    },
    {
     "name": "stderr",
     "output_type": "stream",
     "text": [
      "100%|██████████| 251/251 [01:26<00:00,  2.97it/s]\n"
     ]
    },
    {
     "name": "stdout",
     "output_type": "stream",
     "text": [
      "\n",
      "val: {'recall': 0.998119, 'recall_grapheme': 0.99722, 'recall_vowel': 0.998947, 'recall_consonant': 0.99909, 'recall_word': 0.99693, 'acc_grapheme': 0.997232, 'acc_vowel': 0.998853, 'acc_consonant': 0.999028, 'acc_word': 0.996883, 'loss_grapheme': 0.011381, 'loss_vowel': 0.005247, 'loss_consonant': 0.004212, 'loss_word': 0.013293}\n",
      "   18 | 0.000077 | 160640/160735 | 11.0830 | 8.5362 ||\n",
      "val: {'recall': 0.996814, 'recall_grapheme': 0.99563, 'recall_vowel': 0.998336, 'recall_consonant': 0.997662, 'recall_word': 0.994649, 'acc_grapheme': 0.995337, 'acc_vowel': 0.998529, 'acc_consonant': 0.998654, 'acc_word': 0.994589, 'loss_grapheme': 0.055715, 'loss_vowel': 0.033486, 'loss_consonant': 0.025152, 'loss_word': 0.039425}\n",
      "   19 | 0.000075 | 160640/160735 | 10.8171 | 8.2943 ||\n",
      "val: {'recall': 0.997088, 'recall_grapheme': 0.996026, 'recall_vowel': 0.998413, 'recall_consonant': 0.997886, 'recall_word': 0.995231, 'acc_grapheme': 0.995612, 'acc_vowel': 0.998678, 'acc_consonant': 0.998853, 'acc_word': 0.995213, 'loss_grapheme': 0.0664, 'loss_vowel': 0.045678, 'loss_consonant': 0.033537, 'loss_word': 0.04001}\n",
      "   20 | 0.000073 | 160640/160735 | 4.7977 | 8.1330 ||"
     ]
    },
    {
     "name": "stderr",
     "output_type": "stream",
     "text": [
      "\r",
      "  0%|          | 0/251 [00:00<?, ?it/s]"
     ]
    },
    {
     "name": "stdout",
     "output_type": "stream",
     "text": [
      "\n",
      "val: {'recall': 0.996459, 'recall_grapheme': 0.995006, 'recall_vowel': 0.998544, 'recall_consonant': 0.997277, 'recall_word': 0.994088, 'acc_grapheme': 0.994814, 'acc_vowel': 0.998554, 'acc_consonant': 0.998579, 'acc_word': 0.994066, 'loss_grapheme': 0.049926, 'loss_vowel': 0.027811, 'loss_consonant': 0.023193, 'loss_word': 0.038346}\n",
      "SWA>>>:\n"
     ]
    },
    {
     "name": "stderr",
     "output_type": "stream",
     "text": [
      "100%|██████████| 251/251 [01:26<00:00,  3.02it/s]\n"
     ]
    },
    {
     "name": "stdout",
     "output_type": "stream",
     "text": [
      "\n",
      "val: {'recall': 0.998121, 'recall_grapheme': 0.997249, 'recall_vowel': 0.99896, 'recall_consonant': 0.999026, 'recall_word': 0.996951, 'acc_grapheme': 0.997257, 'acc_vowel': 0.998878, 'acc_consonant': 0.999028, 'acc_word': 0.996908, 'loss_grapheme': 0.011398, 'loss_vowel': 0.005282, 'loss_consonant': 0.00421, 'loss_word': 0.013248}\n",
      "   21 | 0.000070 | 160640/160735 | 1.5708 | 8.0815 |||\n",
      "val: {'recall': 0.997034, 'recall_grapheme': 0.996411, 'recall_vowel': 0.998546, 'recall_consonant': 0.996768, 'recall_word': 0.995681, 'acc_grapheme': 0.996584, 'acc_vowel': 0.998803, 'acc_consonant': 0.998728, 'acc_word': 0.995686, 'loss_grapheme': 0.048048, 'loss_vowel': 0.03157, 'loss_consonant': 0.02424, 'loss_word': 0.029447}\n",
      "   22 | 0.000068 | 160640/160735 | 4.5741 | 7.5642 ||\n",
      "val: {'recall': 0.996802, 'recall_grapheme': 0.995981, 'recall_vowel': 0.998597, 'recall_consonant': 0.996649, 'recall_word': 0.995329, 'acc_grapheme': 0.995911, 'acc_vowel': 0.998554, 'acc_consonant': 0.998579, 'acc_word': 0.995312, 'loss_grapheme': 0.04477, 'loss_vowel': 0.026868, 'loss_consonant': 0.020859, 'loss_word': 0.031324}\n",
      "   23 | 0.000065 | 160640/160735 | 13.1241 | 7.8564 |"
     ]
    },
    {
     "name": "stderr",
     "output_type": "stream",
     "text": [
      "\r",
      "  0%|          | 0/251 [00:00<?, ?it/s]"
     ]
    },
    {
     "name": "stdout",
     "output_type": "stream",
     "text": [
      "\n",
      "val: {'recall': 0.996966, 'recall_grapheme': 0.995951, 'recall_vowel': 0.998515, 'recall_consonant': 0.997446, 'recall_word': 0.99479, 'acc_grapheme': 0.995686, 'acc_vowel': 0.998429, 'acc_consonant': 0.998429, 'acc_word': 0.994739, 'loss_grapheme': 0.04343, 'loss_vowel': 0.029028, 'loss_consonant': 0.022212, 'loss_word': 0.034776}\n",
      "SWA>>>:\n"
     ]
    },
    {
     "name": "stderr",
     "output_type": "stream",
     "text": [
      "100%|██████████| 251/251 [01:26<00:00,  2.97it/s]\n"
     ]
    },
    {
     "name": "stdout",
     "output_type": "stream",
     "text": [
      "\n",
      "val: {'recall': 0.998125, 'recall_grapheme': 0.997263, 'recall_vowel': 0.998947, 'recall_consonant': 0.999026, 'recall_word': 0.996926, 'acc_grapheme': 0.997282, 'acc_vowel': 0.998853, 'acc_consonant': 0.999028, 'acc_word': 0.996883, 'loss_grapheme': 0.011368, 'loss_vowel': 0.005272, 'loss_consonant': 0.004199, 'loss_word': 0.013254}\n",
      "   24 | 0.000063 | 160640/160735 | 3.9838 | 7.9216 ||\n",
      "val: {'recall': 0.996873, 'recall_grapheme': 0.995869, 'recall_vowel': 0.998839, 'recall_consonant': 0.996914, 'recall_word': 0.994468, 'acc_grapheme': 0.995287, 'acc_vowel': 0.998579, 'acc_consonant': 0.998379, 'acc_word': 0.994365, 'loss_grapheme': 0.035565, 'loss_vowel': 0.018514, 'loss_consonant': 0.015076, 'loss_word': 0.030757}\n",
      "   25 | 0.000060 | 160640/160735 | 1.6510 | 8.1418 |||\n",
      "val: {'recall': 0.997293, 'recall_grapheme': 0.996452, 'recall_vowel': 0.998983, 'recall_consonant': 0.997285, 'recall_word': 0.995687, 'acc_grapheme': 0.996235, 'acc_vowel': 0.998928, 'acc_consonant': 0.998728, 'acc_word': 0.995686, 'loss_grapheme': 0.05485, 'loss_vowel': 0.039038, 'loss_consonant': 0.027667, 'loss_word': 0.032997}\n",
      "   26 | 0.000058 | 160640/160735 | 17.7539 | 8.1725 |"
     ]
    },
    {
     "name": "stderr",
     "output_type": "stream",
     "text": [
      "\r",
      "  0%|          | 0/251 [00:00<?, ?it/s]"
     ]
    },
    {
     "name": "stdout",
     "output_type": "stream",
     "text": [
      "\n",
      "val: {'recall': 0.996182, 'recall_grapheme': 0.994422, 'recall_vowel': 0.998653, 'recall_consonant': 0.997231, 'recall_word': 0.994621, 'acc_grapheme': 0.995113, 'acc_vowel': 0.998554, 'acc_consonant': 0.998554, 'acc_word': 0.994564, 'loss_grapheme': 0.044369, 'loss_vowel': 0.026124, 'loss_consonant': 0.020076, 'loss_word': 0.032898}\n",
      "SWA>>>:\n"
     ]
    },
    {
     "name": "stderr",
     "output_type": "stream",
     "text": [
      "100%|██████████| 251/251 [01:27<00:00,  2.96it/s]\n"
     ]
    },
    {
     "name": "stdout",
     "output_type": "stream",
     "text": [
      "\n",
      "val: {'recall': 0.99817, 'recall_grapheme': 0.997291, 'recall_vowel': 0.998943, 'recall_consonant': 0.999156, 'recall_word': 0.996953, 'acc_grapheme': 0.997257, 'acc_vowel': 0.998853, 'acc_consonant': 0.999077, 'acc_word': 0.996908, 'loss_grapheme': 0.011361, 'loss_vowel': 0.005225, 'loss_consonant': 0.004173, 'loss_word': 0.013258}\n",
      "   27 | 0.000055 | 160640/160735 | 1.6819 | 8.7217 |||\n",
      "val: {'recall': 0.997222, 'recall_grapheme': 0.99572, 'recall_vowel': 0.998673, 'recall_consonant': 0.998775, 'recall_word': 0.995594, 'acc_grapheme': 0.995811, 'acc_vowel': 0.998629, 'acc_consonant': 0.998803, 'acc_word': 0.995562, 'loss_grapheme': 0.047404, 'loss_vowel': 0.029947, 'loss_consonant': 0.021597, 'loss_word': 0.031631}\n",
      "   28 | 0.000053 | 160640/160735 | 9.9133 | 8.2209 ||\n",
      "val: {'recall': 0.99704, 'recall_grapheme': 0.995376, 'recall_vowel': 0.998534, 'recall_consonant': 0.998875, 'recall_word': 0.994972, 'acc_grapheme': 0.995686, 'acc_vowel': 0.998629, 'acc_consonant': 0.998778, 'acc_word': 0.994888, 'loss_grapheme': 0.038827, 'loss_vowel': 0.023898, 'loss_consonant': 0.017695, 'loss_word': 0.026898}\n",
      "   29 | 0.000050 | 160640/160735 | 13.4024 | 8.0196 ||"
     ]
    },
    {
     "name": "stderr",
     "output_type": "stream",
     "text": [
      "\r",
      "  0%|          | 0/251 [00:00<?, ?it/s]"
     ]
    },
    {
     "name": "stdout",
     "output_type": "stream",
     "text": [
      "\n",
      "val: {'recall': 0.996898, 'recall_grapheme': 0.995895, 'recall_vowel': 0.998661, 'recall_consonant': 0.997144, 'recall_word': 0.995539, 'acc_grapheme': 0.995861, 'acc_vowel': 0.998678, 'acc_consonant': 0.998678, 'acc_word': 0.995437, 'loss_grapheme': 0.044073, 'loss_vowel': 0.029832, 'loss_consonant': 0.021278, 'loss_word': 0.028738}\n",
      "SWA>>>:\n"
     ]
    },
    {
     "name": "stderr",
     "output_type": "stream",
     "text": [
      "100%|██████████| 251/251 [01:27<00:00,  2.91it/s]\n"
     ]
    },
    {
     "name": "stdout",
     "output_type": "stream",
     "text": [
      "\n",
      "val: {'recall': 0.998195, 'recall_grapheme': 0.99735, 'recall_vowel': 0.99893, 'recall_consonant': 0.99915, 'recall_word': 0.996945, 'acc_grapheme': 0.997332, 'acc_vowel': 0.998853, 'acc_consonant': 0.999052, 'acc_word': 0.996908, 'loss_grapheme': 0.011303, 'loss_vowel': 0.005205, 'loss_consonant': 0.004182, 'loss_word': 0.013208}\n",
      "   30 | 0.000047 | 160640/160735 | 10.4304 | 8.0987 |\n",
      "val: {'recall': 0.996219, 'recall_grapheme': 0.99464, 'recall_vowel': 0.99841, 'recall_consonant': 0.997186, 'recall_word': 0.994791, 'acc_grapheme': 0.995262, 'acc_vowel': 0.998554, 'acc_consonant': 0.998579, 'acc_word': 0.994714, 'loss_grapheme': 0.057108, 'loss_vowel': 0.03124, 'loss_consonant': 0.023566, 'loss_word': 0.040758}\n",
      "   31 | 0.000045 | 160640/160735 | 15.6219 | 8.4133 |\n",
      "val: {'recall': 0.996815, 'recall_grapheme': 0.995819, 'recall_vowel': 0.998504, 'recall_consonant': 0.997119, 'recall_word': 0.995294, 'acc_grapheme': 0.996035, 'acc_vowel': 0.998579, 'acc_consonant': 0.998728, 'acc_word': 0.995238, 'loss_grapheme': 0.046802, 'loss_vowel': 0.030436, 'loss_consonant': 0.022189, 'loss_word': 0.030635}\n",
      "   32 | 0.000042 | 160640/160735 | 1.5105 | 7.5619 |||"
     ]
    },
    {
     "name": "stderr",
     "output_type": "stream",
     "text": [
      "\r",
      "  0%|          | 0/251 [00:00<?, ?it/s]"
     ]
    },
    {
     "name": "stdout",
     "output_type": "stream",
     "text": [
      "\n",
      "val: {'recall': 0.997552, 'recall_grapheme': 0.996773, 'recall_vowel': 0.998795, 'recall_consonant': 0.997865, 'recall_word': 0.996047, 'acc_grapheme': 0.996559, 'acc_vowel': 0.998778, 'acc_consonant': 0.998903, 'acc_word': 0.996035, 'loss_grapheme': 0.032737, 'loss_vowel': 0.022846, 'loss_consonant': 0.0168, 'loss_word': 0.021914}\n",
      "SWA>>>:\n"
     ]
    },
    {
     "name": "stderr",
     "output_type": "stream",
     "text": [
      "100%|██████████| 251/251 [01:26<00:00,  2.96it/s]\n"
     ]
    },
    {
     "name": "stdout",
     "output_type": "stream",
     "text": [
      "\n",
      "val: {'recall': 0.998151, 'recall_grapheme': 0.997251, 'recall_vowel': 0.998918, 'recall_consonant': 0.999184, 'recall_word': 0.996946, 'acc_grapheme': 0.997257, 'acc_vowel': 0.998828, 'acc_consonant': 0.999077, 'acc_word': 0.996908, 'loss_grapheme': 0.011288, 'loss_vowel': 0.005152, 'loss_consonant': 0.00414, 'loss_word': 0.013159}\n",
      "   33 | 0.000040 | 160640/160735 | 9.4247 | 8.1663 |||\n",
      "val: {'recall': 0.997187, 'recall_grapheme': 0.996261, 'recall_vowel': 0.998705, 'recall_consonant': 0.997521, 'recall_word': 0.99564, 'acc_grapheme': 0.99611, 'acc_vowel': 0.998703, 'acc_consonant': 0.998878, 'acc_word': 0.995636, 'loss_grapheme': 0.046595, 'loss_vowel': 0.028454, 'loss_consonant': 0.021902, 'loss_word': 0.032208}\n",
      "   34 | 0.000037 | 160640/160735 | 10.1659 | 7.5471 |\n",
      "val: {'recall': 0.996738, 'recall_grapheme': 0.995683, 'recall_vowel': 0.998485, 'recall_consonant': 0.9971, 'recall_word': 0.995373, 'acc_grapheme': 0.995961, 'acc_vowel': 0.998529, 'acc_consonant': 0.998579, 'acc_word': 0.995312, 'loss_grapheme': 0.050166, 'loss_vowel': 0.028702, 'loss_consonant': 0.023653, 'loss_word': 0.034816}\n",
      "   35 | 0.000035 | 160640/160735 | 15.6961 | 8.4433 |"
     ]
    },
    {
     "name": "stderr",
     "output_type": "stream",
     "text": [
      "\r",
      "  0%|          | 0/251 [00:00<?, ?it/s]"
     ]
    },
    {
     "name": "stdout",
     "output_type": "stream",
     "text": [
      "\n",
      "val: {'recall': 0.997275, 'recall_grapheme': 0.996266, 'recall_vowel': 0.998876, 'recall_consonant': 0.99769, 'recall_word': 0.996144, 'acc_grapheme': 0.99636, 'acc_vowel': 0.998778, 'acc_consonant': 0.998803, 'acc_word': 0.99611, 'loss_grapheme': 0.060272, 'loss_vowel': 0.042086, 'loss_consonant': 0.030747, 'loss_word': 0.03612}\n",
      "SWA>>>:\n"
     ]
    },
    {
     "name": "stderr",
     "output_type": "stream",
     "text": [
      " 43%|████▎     | 107/251 [00:39<00:46,  3.08it/s]"
     ]
    },
    {
     "name": "stdout",
     "output_type": "stream",
     "text": [
      "   36 | 0.000032 | 160640/160735 | 1.5805 | 8.2642 ||\n",
      "val: {'recall': 0.9972, 'recall_grapheme': 0.996536, 'recall_vowel': 0.998482, 'recall_consonant': 0.997246, 'recall_word': 0.995818, 'acc_grapheme': 0.99636, 'acc_vowel': 0.998753, 'acc_consonant': 0.998703, 'acc_word': 0.995786, 'loss_grapheme': 0.045309, 'loss_vowel': 0.027778, 'loss_consonant': 0.021562, 'loss_word': 0.030827}\n",
      "   37 | 0.000030 | 160640/160735 | 1.5970 | 7.6564 ||\n",
      "val: {'recall': 0.996945, 'recall_grapheme': 0.9958, 'recall_vowel': 0.998649, 'recall_consonant': 0.997529, 'recall_word': 0.995519, 'acc_grapheme': 0.995986, 'acc_vowel': 0.998629, 'acc_consonant': 0.998454, 'acc_word': 0.995412, 'loss_grapheme': 0.080427, 'loss_vowel': 0.049365, 'loss_consonant': 0.033408, 'loss_word': 0.048914}\n",
      "   38 | 0.000027 | 160640/160735 | 8.1329 | 7.4557 ||"
     ]
    },
    {
     "name": "stderr",
     "output_type": "stream",
     "text": [
      "\r",
      "  0%|          | 0/251 [00:00<?, ?it/s]"
     ]
    },
    {
     "name": "stdout",
     "output_type": "stream",
     "text": [
      "\n",
      "val: {'recall': 0.996502, 'recall_grapheme': 0.995352, 'recall_vowel': 0.998669, 'recall_consonant': 0.996635, 'recall_word': 0.994976, 'acc_grapheme': 0.995362, 'acc_vowel': 0.998654, 'acc_consonant': 0.998604, 'acc_word': 0.994913, 'loss_grapheme': 0.06139, 'loss_vowel': 0.039059, 'loss_consonant': 0.028992, 'loss_word': 0.046082}\n",
      "SWA>>>:\n"
     ]
    },
    {
     "name": "stderr",
     "output_type": "stream",
     "text": [
      "100%|██████████| 251/251 [01:26<00:00,  2.88it/s]\n"
     ]
    },
    {
     "name": "stdout",
     "output_type": "stream",
     "text": [
      "\n",
      "val: {'recall': 0.998192, 'recall_grapheme': 0.997321, 'recall_vowel': 0.998941, 'recall_consonant': 0.999183, 'recall_word': 0.997025, 'acc_grapheme': 0.997282, 'acc_vowel': 0.998878, 'acc_consonant': 0.999077, 'acc_word': 0.996983, 'loss_grapheme': 0.011296, 'loss_vowel': 0.005201, 'loss_consonant': 0.00415, 'loss_word': 0.013178}\n",
      "   39 | 0.000025 | 160640/160735 | 1.3586 | 7.7663 |||\n",
      "val: {'recall': 0.997005, 'recall_grapheme': 0.996245, 'recall_vowel': 0.998858, 'recall_consonant': 0.996673, 'recall_word': 0.995804, 'acc_grapheme': 0.996285, 'acc_vowel': 0.998753, 'acc_consonant': 0.998629, 'acc_word': 0.995786, 'loss_grapheme': 0.044147, 'loss_vowel': 0.027622, 'loss_consonant': 0.021507, 'loss_word': 0.028266}\n",
      "   40 | 0.000023 | 160640/160735 | 19.6533 | 7.5081 ||\n",
      "val: {'recall': 0.996734, 'recall_grapheme': 0.995881, 'recall_vowel': 0.998548, 'recall_consonant': 0.996626, 'recall_word': 0.99583, 'acc_grapheme': 0.99601, 'acc_vowel': 0.998654, 'acc_consonant': 0.998728, 'acc_word': 0.995811, 'loss_grapheme': 0.04637, 'loss_vowel': 0.028679, 'loss_consonant': 0.021329, 'loss_word': 0.030417}\n",
      "   41 | 0.000021 | 160640/160735 | 1.2669 | 8.2054 |||"
     ]
    },
    {
     "name": "stderr",
     "output_type": "stream",
     "text": [
      "\r",
      "  0%|          | 0/251 [00:00<?, ?it/s]"
     ]
    },
    {
     "name": "stdout",
     "output_type": "stream",
     "text": [
      "\n",
      "val: {'recall': 0.996789, 'recall_grapheme': 0.995851, 'recall_vowel': 0.998826, 'recall_consonant': 0.996629, 'recall_word': 0.995399, 'acc_grapheme': 0.996085, 'acc_vowel': 0.998703, 'acc_consonant': 0.998654, 'acc_word': 0.995387, 'loss_grapheme': 0.048004, 'loss_vowel': 0.028292, 'loss_consonant': 0.020964, 'loss_word': 0.03368}\n",
      "SWA>>>:\n"
     ]
    },
    {
     "name": "stderr",
     "output_type": "stream",
     "text": [
      "100%|██████████| 251/251 [01:26<00:00,  2.96it/s]\n"
     ]
    },
    {
     "name": "stdout",
     "output_type": "stream",
     "text": [
      "\n",
      "val: {'recall': 0.998217, 'recall_grapheme': 0.997392, 'recall_vowel': 0.998941, 'recall_consonant': 0.999144, 'recall_word': 0.997026, 'acc_grapheme': 0.997332, 'acc_vowel': 0.998878, 'acc_consonant': 0.999028, 'acc_word': 0.996983, 'loss_grapheme': 0.01131, 'loss_vowel': 0.005229, 'loss_consonant': 0.004173, 'loss_word': 0.013156}\n",
      "   42 | 0.000019 | 160640/160735 | 8.9897 | 8.2901 ||\n",
      "val: {'recall': 0.997442, 'recall_grapheme': 0.996557, 'recall_vowel': 0.998788, 'recall_consonant': 0.997868, 'recall_word': 0.995807, 'acc_grapheme': 0.99636, 'acc_vowel': 0.998878, 'acc_consonant': 0.998903, 'acc_word': 0.995761, 'loss_grapheme': 0.043681, 'loss_vowel': 0.026784, 'loss_consonant': 0.020563, 'loss_word': 0.029355}\n",
      "   43 | 0.000017 | 160640/160735 | 15.2837 | 8.2429 ||\n",
      "val: {'recall': 0.997141, 'recall_grapheme': 0.996277, 'recall_vowel': 0.998736, 'recall_consonant': 0.997273, 'recall_word': 0.995752, 'acc_grapheme': 0.99606, 'acc_vowel': 0.998803, 'acc_consonant': 0.998828, 'acc_word': 0.995661, 'loss_grapheme': 0.075468, 'loss_vowel': 0.053672, 'loss_consonant': 0.036772, 'loss_word': 0.045134}\n",
      "   44 | 0.000015 | 160640/160735 | 3.8393 | 8.4866 |||"
     ]
    },
    {
     "name": "stderr",
     "output_type": "stream",
     "text": [
      "\r",
      "  0%|          | 0/251 [00:00<?, ?it/s]"
     ]
    },
    {
     "name": "stdout",
     "output_type": "stream",
     "text": [
      "\n",
      "val: {'recall': 0.996894, 'recall_grapheme': 0.996055, 'recall_vowel': 0.998735, 'recall_consonant': 0.996733, 'recall_word': 0.995086, 'acc_grapheme': 0.995861, 'acc_vowel': 0.998604, 'acc_consonant': 0.998703, 'acc_word': 0.995063, 'loss_grapheme': 0.044095, 'loss_vowel': 0.02482, 'loss_consonant': 0.018608, 'loss_word': 0.034279}\n",
      "SWA>>>:\n"
     ]
    },
    {
     "name": "stderr",
     "output_type": "stream",
     "text": [
      "100%|██████████| 251/251 [01:26<00:00,  2.97it/s]\n"
     ]
    },
    {
     "name": "stdout",
     "output_type": "stream",
     "text": [
      "\n",
      "val: {'recall': 0.998217, 'recall_grapheme': 0.99738, 'recall_vowel': 0.998952, 'recall_consonant': 0.999156, 'recall_word': 0.996993, 'acc_grapheme': 0.997307, 'acc_vowel': 0.998903, 'acc_consonant': 0.999077, 'acc_word': 0.996958, 'loss_grapheme': 0.011254, 'loss_vowel': 0.005158, 'loss_consonant': 0.004113, 'loss_word': 0.013142}\n",
      "   45 | 0.000014 | 014080/160735 | 3.7795 | 7.1898 |||"
     ]
    },
    {
     "name": "stderr",
     "output_type": "stream",
     "text": [
      "IOPub message rate exceeded.\n",
      "The notebook server will temporarily stop sending output\n",
      "to the client in order to avoid crashing it.\n",
      "To change this limit, set the config variable\n",
      "`--NotebookApp.iopub_msg_rate_limit`.\n",
      "\n",
      "Current values:\n",
      "NotebookApp.iopub_msg_rate_limit=1000.0 (msgs/sec)\n",
      "NotebookApp.rate_limit_window=3.0 (secs)\n",
      "\n"
     ]
    },
    {
     "name": "stdout",
     "output_type": "stream",
     "text": [
      "    5 | 0.000098 | 160640/160735 | 15.7543 | 8.4944 |\n",
      "val: {'recall': 0.996798, 'recall_grapheme': 0.996004, 'recall_vowel': 0.99856, 'recall_consonant': 0.996627, 'recall_word': 0.995566, 'acc_grapheme': 0.995986, 'acc_vowel': 0.998678, 'acc_consonant': 0.998629, 'acc_word': 0.995512, 'loss_grapheme': 0.064951, 'loss_vowel': 0.041586, 'loss_consonant': 0.031396, 'loss_word': 0.041414}\n",
      "    6 | 0.000097 | 160640/160735 | 8.0979 | 7.7007 ||\n",
      "val: {'recall': 0.996378, 'recall_grapheme': 0.995055, 'recall_vowel': 0.998481, 'recall_consonant': 0.996919, 'recall_word': 0.994768, 'acc_grapheme': 0.995213, 'acc_vowel': 0.998479, 'acc_consonant': 0.998454, 'acc_word': 0.994789, 'loss_grapheme': 0.044975, 'loss_vowel': 0.027534, 'loss_consonant': 0.020323, 'loss_word': 0.033524}\n",
      "    7 | 0.000096 | 160640/160735 | 1.3686 | 7.4315 |||\n",
      "val: {'recall': 0.997429, 'recall_grapheme': 0.996296, 'recall_vowel': 0.998672, 'recall_consonant': 0.99845, 'recall_word': 0.995841, 'acc_grapheme': 0.996335, 'acc_vowel': 0.998654, 'acc_consonant': 0.998728, 'acc_word': 0.995836, 'loss_grapheme': 0.016653, 'loss_vowel': 0.008989, 'loss_consonant': 0.00684, 'loss_word': 0.017007}\n",
      "    8 | 0.000095 | 160640/160735 | 8.6538 | 7.8597 |||\n",
      "val: {'recall': 0.997019, 'recall_grapheme': 0.99576, 'recall_vowel': 0.998676, 'recall_consonant': 0.99788, 'recall_word': 0.995163, 'acc_grapheme': 0.995686, 'acc_vowel': 0.998529, 'acc_consonant': 0.998828, 'acc_word': 0.995113, 'loss_grapheme': 0.051396, 'loss_vowel': 0.033024, 'loss_consonant': 0.023352, 'loss_word': 0.03325}\n",
      "    9 | 0.000093 | 160640/160735 | 18.1872 | 8.1276 ||\n",
      "val: {'recall': 0.996966, 'recall_grapheme': 0.996111, 'recall_vowel': 0.998673, 'recall_consonant': 0.996967, 'recall_word': 0.995702, 'acc_grapheme': 0.99621, 'acc_vowel': 0.998654, 'acc_consonant': 0.998529, 'acc_word': 0.995612, 'loss_grapheme': 0.040058, 'loss_vowel': 0.028848, 'loss_consonant': 0.02086, 'loss_word': 0.026174}\n",
      "   10 | 0.000092 | 160640/160735 | 1.5528 | 8.0203 |||\n",
      "val: {'recall': 0.997236, 'recall_grapheme': 0.996051, 'recall_vowel': 0.998661, 'recall_consonant': 0.998179, 'recall_word': 0.99564, 'acc_grapheme': 0.995986, 'acc_vowel': 0.998703, 'acc_consonant': 0.998678, 'acc_word': 0.995587, 'loss_grapheme': 0.02911, 'loss_vowel': 0.016727, 'loss_consonant': 0.013228, 'loss_word': 0.021718}\n",
      "   11 | 0.000090 | 160640/160735 | 1.7869 | 8.2586 |||\n",
      "val: {'recall': 0.996886, 'recall_grapheme': 0.995669, 'recall_vowel': 0.998642, 'recall_consonant': 0.997563, 'recall_word': 0.994927, 'acc_grapheme': 0.995537, 'acc_vowel': 0.998629, 'acc_consonant': 0.998554, 'acc_word': 0.994963, 'loss_grapheme': 0.054428, 'loss_vowel': 0.035411, 'loss_consonant': 0.025645, 'loss_word': 0.034431}\n",
      "   12 | 0.000089 | 160640/160735 | 1.6271 | 7.8961 ||\n",
      "val: {'recall': 0.996262, 'recall_grapheme': 0.99512, 'recall_vowel': 0.998383, 'recall_consonant': 0.996424, 'recall_word': 0.994593, 'acc_grapheme': 0.995337, 'acc_vowel': 0.998304, 'acc_consonant': 0.998379, 'acc_word': 0.994564, 'loss_grapheme': 0.051892, 'loss_vowel': 0.03178, 'loss_consonant': 0.022977, 'loss_word': 0.034826}\n",
      "   13 | 0.000087 | 160640/160735 | 6.0495 | 7.4473 ||\n",
      "val: {'recall': 0.996892, 'recall_grapheme': 0.995496, 'recall_vowel': 0.998285, 'recall_consonant': 0.998291, 'recall_word': 0.995185, 'acc_grapheme': 0.995562, 'acc_vowel': 0.998404, 'acc_consonant': 0.998554, 'acc_word': 0.995163, 'loss_grapheme': 0.035984, 'loss_vowel': 0.02143, 'loss_consonant': 0.015819, 'loss_word': 0.028734}\n",
      "   14 | 0.000085 | 160640/160735 | 1.4728 | 8.7226 |||"
     ]
    },
    {
     "name": "stderr",
     "output_type": "stream",
     "text": [
      "\r",
      "  0%|          | 0/251 [00:00<?, ?it/s]"
     ]
    },
    {
     "name": "stdout",
     "output_type": "stream",
     "text": [
      "\n",
      "val: {'recall': 0.997148, 'recall_grapheme': 0.996194, 'recall_vowel': 0.998443, 'recall_consonant': 0.997762, 'recall_word': 0.995313, 'acc_grapheme': 0.995836, 'acc_vowel': 0.998604, 'acc_consonant': 0.998654, 'acc_word': 0.995312, 'loss_grapheme': 0.038911, 'loss_vowel': 0.023582, 'loss_consonant': 0.017867, 'loss_word': 0.026442}\n",
      "SWA>>>:\n"
     ]
    },
    {
     "name": "stderr",
     "output_type": "stream",
     "text": [
      "100%|██████████| 251/251 [01:26<00:00,  2.95it/s]\n"
     ]
    },
    {
     "name": "stdout",
     "output_type": "stream",
     "text": [
      "\n",
      "val: {'recall': 0.998223, 'recall_grapheme': 0.997395, 'recall_vowel': 0.998941, 'recall_consonant': 0.999162, 'recall_word': 0.997045, 'acc_grapheme': 0.997307, 'acc_vowel': 0.998878, 'acc_consonant': 0.999102, 'acc_word': 0.997008, 'loss_grapheme': 0.011259, 'loss_vowel': 0.005174, 'loss_consonant': 0.0041, 'loss_word': 0.013132}\n",
      "   15 | 0.000083 | 160640/160735 | 1.4149 | 7.6625 |||\n",
      "val: {'recall': 0.997099, 'recall_grapheme': 0.996564, 'recall_vowel': 0.998624, 'recall_consonant': 0.996646, 'recall_word': 0.995523, 'acc_grapheme': 0.996235, 'acc_vowel': 0.998629, 'acc_consonant': 0.998579, 'acc_word': 0.995537, 'loss_grapheme': 0.028392, 'loss_vowel': 0.0157, 'loss_consonant': 0.01209, 'loss_word': 0.022097}\n",
      "   16 | 0.000083 | 004480/160735 | 8.8948 | 4.4857 |"
     ]
    },
    {
     "name": "stderr",
     "output_type": "stream",
     "text": [
      "IOPub message rate exceeded.\n",
      "The notebook server will temporarily stop sending output\n",
      "to the client in order to avoid crashing it.\n",
      "To change this limit, set the config variable\n",
      "`--NotebookApp.iopub_msg_rate_limit`.\n",
      "\n",
      "Current values:\n",
      "NotebookApp.iopub_msg_rate_limit=1000.0 (msgs/sec)\n",
      "NotebookApp.rate_limit_window=3.0 (secs)\n",
      "\n"
     ]
    },
    {
     "name": "stdout",
     "output_type": "stream",
     "text": [
      "   25 | 0.000060 | 160640/160735 | 6.0744 | 7.7156 ||\n",
      "val: {'recall': 0.996774, 'recall_grapheme': 0.995686, 'recall_vowel': 0.998907, 'recall_consonant': 0.996819, 'recall_word': 0.995673, 'acc_grapheme': 0.995886, 'acc_vowel': 0.998778, 'acc_consonant': 0.998753, 'acc_word': 0.995636, 'loss_grapheme': 0.04627, 'loss_vowel': 0.028523, 'loss_consonant': 0.020345, 'loss_word': 0.031535}\n",
      "   26 | 0.000058 | 160640/160735 | 17.4505 | 7.8547 |"
     ]
    },
    {
     "name": "stderr",
     "output_type": "stream",
     "text": [
      "\r",
      "  0%|          | 0/251 [00:00<?, ?it/s]"
     ]
    },
    {
     "name": "stdout",
     "output_type": "stream",
     "text": [
      "\n",
      "val: {'recall': 0.996873, 'recall_grapheme': 0.995998, 'recall_vowel': 0.99868, 'recall_consonant': 0.996815, 'recall_word': 0.995593, 'acc_grapheme': 0.995911, 'acc_vowel': 0.998678, 'acc_consonant': 0.998803, 'acc_word': 0.995562, 'loss_grapheme': 0.038563, 'loss_vowel': 0.026348, 'loss_consonant': 0.019112, 'loss_word': 0.025533}\n",
      "SWA>>>:\n"
     ]
    },
    {
     "name": "stderr",
     "output_type": "stream",
     "text": [
      "100%|██████████| 251/251 [01:27<00:00,  2.95it/s]\n"
     ]
    },
    {
     "name": "stdout",
     "output_type": "stream",
     "text": [
      "\n",
      "val: {'recall': 0.99822, 'recall_grapheme': 0.997371, 'recall_vowel': 0.99898, 'recall_consonant': 0.999156, 'recall_word': 0.997053, 'acc_grapheme': 0.997282, 'acc_vowel': 0.998928, 'acc_consonant': 0.999077, 'acc_word': 0.997008, 'loss_grapheme': 0.011213, 'loss_vowel': 0.005147, 'loss_consonant': 0.00407, 'loss_word': 0.013048}\n",
      "   27 | 0.000055 | 160640/160735 | 1.4927 | 7.9831 ||\n",
      "val: {'recall': 0.997248, 'recall_grapheme': 0.996687, 'recall_vowel': 0.998747, 'recall_consonant': 0.996872, 'recall_word': 0.996367, 'acc_grapheme': 0.996684, 'acc_vowel': 0.998753, 'acc_consonant': 0.998903, 'acc_word': 0.99631, 'loss_grapheme': 0.039888, 'loss_vowel': 0.028223, 'loss_consonant': 0.020528, 'loss_word': 0.02385}\n",
      "   28 | 0.000053 | 160640/160735 | 9.6772 | 7.9063 |||\n",
      "val: {'recall': 0.99684, 'recall_grapheme': 0.995452, 'recall_vowel': 0.998617, 'recall_consonant': 0.99784, 'recall_word': 0.995386, 'acc_grapheme': 0.995711, 'acc_vowel': 0.998778, 'acc_consonant': 0.998878, 'acc_word': 0.995362, 'loss_grapheme': 0.051181, 'loss_vowel': 0.032022, 'loss_consonant': 0.023282, 'loss_word': 0.032689}\n",
      "   29 | 0.000050 | 160640/160735 | 1.4285 | 7.1718 ||"
     ]
    },
    {
     "name": "stderr",
     "output_type": "stream",
     "text": [
      "\r",
      "  0%|          | 0/251 [00:00<?, ?it/s]"
     ]
    },
    {
     "name": "stdout",
     "output_type": "stream",
     "text": [
      "\n",
      "val: {'recall': 0.997134, 'recall_grapheme': 0.996008, 'recall_vowel': 0.998675, 'recall_consonant': 0.997845, 'recall_word': 0.995306, 'acc_grapheme': 0.995861, 'acc_vowel': 0.998703, 'acc_consonant': 0.998604, 'acc_word': 0.995312, 'loss_grapheme': 0.028248, 'loss_vowel': 0.0152, 'loss_consonant': 0.012703, 'loss_word': 0.022773}\n",
      "SWA>>>:\n"
     ]
    },
    {
     "name": "stderr",
     "output_type": "stream",
     "text": [
      "100%|██████████| 251/251 [01:26<00:00,  2.96it/s]\n"
     ]
    },
    {
     "name": "stdout",
     "output_type": "stream",
     "text": [
      "\n",
      "val: {'recall': 0.99822, 'recall_grapheme': 0.99738, 'recall_vowel': 0.998993, 'recall_consonant': 0.999125, 'recall_word': 0.997001, 'acc_grapheme': 0.997257, 'acc_vowel': 0.998953, 'acc_consonant': 0.999052, 'acc_word': 0.996958, 'loss_grapheme': 0.011217, 'loss_vowel': 0.005195, 'loss_consonant': 0.004096, 'loss_word': 0.013039}\n",
      "   30 | 0.000047 | 160640/160735 | 1.3447 | 7.5281 ||\n",
      "val: {'recall': 0.997322, 'recall_grapheme': 0.996246, 'recall_vowel': 0.998752, 'recall_consonant': 0.998042, 'recall_word': 0.995891, 'acc_grapheme': 0.996335, 'acc_vowel': 0.998753, 'acc_consonant': 0.999028, 'acc_word': 0.995836, 'loss_grapheme': 0.035533, 'loss_vowel': 0.02194, 'loss_consonant': 0.015954, 'loss_word': 0.025479}\n",
      "   31 | 0.000045 | 160640/160735 | 1.3007 | 7.3993 |||\n",
      "val: {'recall': 0.996936, 'recall_grapheme': 0.995735, 'recall_vowel': 0.998272, 'recall_consonant': 0.998, 'recall_word': 0.995094, 'acc_grapheme': 0.995786, 'acc_vowel': 0.998479, 'acc_consonant': 0.998778, 'acc_word': 0.995038, 'loss_grapheme': 0.025306, 'loss_vowel': 0.012752, 'loss_consonant': 0.010336, 'loss_word': 0.021953}\n",
      "   32 | 0.000042 | 160640/160735 | 16.2698 | 8.0817 |"
     ]
    },
    {
     "name": "stderr",
     "output_type": "stream",
     "text": [
      "\r",
      "  0%|          | 0/251 [00:00<?, ?it/s]"
     ]
    },
    {
     "name": "stdout",
     "output_type": "stream",
     "text": [
      "\n",
      "val: {'recall': 0.996973, 'recall_grapheme': 0.995698, 'recall_vowel': 0.998544, 'recall_consonant': 0.997951, 'recall_word': 0.995232, 'acc_grapheme': 0.995437, 'acc_vowel': 0.998703, 'acc_consonant': 0.998678, 'acc_word': 0.995138, 'loss_grapheme': 0.042455, 'loss_vowel': 0.024658, 'loss_consonant': 0.018637, 'loss_word': 0.03291}\n",
      "SWA>>>:\n"
     ]
    },
    {
     "name": "stderr",
     "output_type": "stream",
     "text": [
      "100%|██████████| 251/251 [01:26<00:00,  2.99it/s]\n"
     ]
    },
    {
     "name": "stdout",
     "output_type": "stream",
     "text": [
      "\n",
      "val: {'recall': 0.998252, 'recall_grapheme': 0.997442, 'recall_vowel': 0.998993, 'recall_consonant': 0.999128, 'recall_word': 0.997028, 'acc_grapheme': 0.997332, 'acc_vowel': 0.998953, 'acc_consonant': 0.999077, 'acc_word': 0.996983, 'loss_grapheme': 0.011247, 'loss_vowel': 0.00519, 'loss_consonant': 0.004089, 'loss_word': 0.013049}\n",
      "   33 | 0.000040 | 160640/160735 | 1.3889 | 8.1637 |||\n",
      "val: {'recall': 0.997019, 'recall_grapheme': 0.995522, 'recall_vowel': 0.998566, 'recall_consonant': 0.998466, 'recall_word': 0.994696, 'acc_grapheme': 0.995213, 'acc_vowel': 0.998703, 'acc_consonant': 0.998703, 'acc_word': 0.994664, 'loss_grapheme': 0.040493, 'loss_vowel': 0.023917, 'loss_consonant': 0.017899, 'loss_word': 0.029267}\n",
      "   34 | 0.000037 | 160640/160735 | 10.6537 | 7.4766 ||\n",
      "val: {'recall': 0.996486, 'recall_grapheme': 0.995382, 'recall_vowel': 0.997997, 'recall_consonant': 0.997183, 'recall_word': 0.994898, 'acc_grapheme': 0.995337, 'acc_vowel': 0.998529, 'acc_consonant': 0.998404, 'acc_word': 0.994814, 'loss_grapheme': 0.038196, 'loss_vowel': 0.021132, 'loss_consonant': 0.015594, 'loss_word': 0.031341}\n",
      "   35 | 0.000035 | 160640/160735 | 1.7346 | 7.7665 ||"
     ]
    },
    {
     "name": "stderr",
     "output_type": "stream",
     "text": [
      "\r",
      "  0%|          | 0/251 [00:00<?, ?it/s]"
     ]
    },
    {
     "name": "stdout",
     "output_type": "stream",
     "text": [
      "\n",
      "val: {'recall': 0.997332, 'recall_grapheme': 0.996065, 'recall_vowel': 0.998733, 'recall_consonant': 0.998463, 'recall_word': 0.995711, 'acc_grapheme': 0.99621, 'acc_vowel': 0.998753, 'acc_consonant': 0.998728, 'acc_word': 0.995661, 'loss_grapheme': 0.032296, 'loss_vowel': 0.020305, 'loss_consonant': 0.015413, 'loss_word': 0.023317}\n",
      "SWA>>>:\n"
     ]
    },
    {
     "name": "stderr",
     "output_type": "stream",
     "text": [
      "100%|██████████| 251/251 [01:26<00:00,  2.96it/s]\n"
     ]
    },
    {
     "name": "stdout",
     "output_type": "stream",
     "text": [
      "\n",
      "val: {'recall': 0.998243, 'recall_grapheme': 0.997451, 'recall_vowel': 0.998977, 'recall_consonant': 0.999092, 'recall_word': 0.997068, 'acc_grapheme': 0.997332, 'acc_vowel': 0.998928, 'acc_consonant': 0.999028, 'acc_word': 0.997033, 'loss_grapheme': 0.01119, 'loss_vowel': 0.005178, 'loss_consonant': 0.004058, 'loss_word': 0.01302}\n",
      "   36 | 0.000032 | 160640/160735 | 2.0185 | 7.4486 ||\n",
      "val: {'recall': 0.997977, 'recall_grapheme': 0.997269, 'recall_vowel': 0.998998, 'recall_consonant': 0.99837, 'recall_word': 0.99645, 'acc_grapheme': 0.996933, 'acc_vowel': 0.998928, 'acc_consonant': 0.998878, 'acc_word': 0.996434, 'loss_grapheme': 0.019652, 'loss_vowel': 0.011573, 'loss_consonant': 0.009, 'loss_word': 0.017006}\n",
      "   37 | 0.000030 | 160640/160735 | 4.6018 | 7.7726 ||\n",
      "val: {'recall': 0.996767, 'recall_grapheme': 0.996013, 'recall_vowel': 0.998288, 'recall_consonant': 0.996754, 'recall_word': 0.994985, 'acc_grapheme': 0.995636, 'acc_vowel': 0.998529, 'acc_consonant': 0.998678, 'acc_word': 0.994913, 'loss_grapheme': 0.032298, 'loss_vowel': 0.016939, 'loss_consonant': 0.013119, 'loss_word': 0.027232}\n",
      "   38 | 0.000027 | 160640/160735 | 1.3607 | 7.7528 ||"
     ]
    },
    {
     "name": "stderr",
     "output_type": "stream",
     "text": [
      "\r",
      "  0%|          | 0/251 [00:00<?, ?it/s]"
     ]
    },
    {
     "name": "stdout",
     "output_type": "stream",
     "text": [
      "\n",
      "val: {'recall': 0.996651, 'recall_grapheme': 0.995252, 'recall_vowel': 0.998123, 'recall_consonant': 0.997976, 'recall_word': 0.99453, 'acc_grapheme': 0.995113, 'acc_vowel': 0.998404, 'acc_consonant': 0.998529, 'acc_word': 0.99444, 'loss_grapheme': 0.043339, 'loss_vowel': 0.02442, 'loss_consonant': 0.018065, 'loss_word': 0.034596}\n",
      "SWA>>>:\n"
     ]
    },
    {
     "name": "stderr",
     "output_type": "stream",
     "text": [
      "100%|██████████| 251/251 [01:26<00:00,  2.95it/s]\n"
     ]
    },
    {
     "name": "stdout",
     "output_type": "stream",
     "text": [
      "\n",
      "val: {'recall': 0.998193, 'recall_grapheme': 0.997407, 'recall_vowel': 0.998971, 'recall_consonant': 0.998989, 'recall_word': 0.997047, 'acc_grapheme': 0.997307, 'acc_vowel': 0.998903, 'acc_consonant': 0.998978, 'acc_word': 0.997008, 'loss_grapheme': 0.01115, 'loss_vowel': 0.005164, 'loss_consonant': 0.004027, 'loss_word': 0.012968}\n",
      "   39 | 0.000025 | 160640/160735 | 7.0732 | 7.3526 ||\n",
      "val: {'recall': 0.996953, 'recall_grapheme': 0.995639, 'recall_vowel': 0.998158, 'recall_consonant': 0.998377, 'recall_word': 0.995249, 'acc_grapheme': 0.995811, 'acc_vowel': 0.998579, 'acc_consonant': 0.998678, 'acc_word': 0.995188, 'loss_grapheme': 0.041766, 'loss_vowel': 0.024614, 'loss_consonant': 0.017844, 'loss_word': 0.030702}\n",
      "   40 | 0.000023 | 160640/160735 | 1.3171 | 7.2192 ||\n",
      "val: {'recall': 0.997316, 'recall_grapheme': 0.99611, 'recall_vowel': 0.998598, 'recall_consonant': 0.998446, 'recall_word': 0.995915, 'acc_grapheme': 0.99606, 'acc_vowel': 0.998803, 'acc_consonant': 0.998753, 'acc_word': 0.995861, 'loss_grapheme': 0.028178, 'loss_vowel': 0.016311, 'loss_consonant': 0.012617, 'loss_word': 0.021691}\n",
      "   41 | 0.000021 | 160640/160735 | 6.6198 | 7.9778 ||"
     ]
    },
    {
     "name": "stderr",
     "output_type": "stream",
     "text": [
      "\r",
      "  0%|          | 0/251 [00:00<?, ?it/s]"
     ]
    },
    {
     "name": "stdout",
     "output_type": "stream",
     "text": [
      "\n",
      "val: {'recall': 0.996535, 'recall_grapheme': 0.995508, 'recall_vowel': 0.998458, 'recall_consonant': 0.996664, 'recall_word': 0.995051, 'acc_grapheme': 0.995337, 'acc_vowel': 0.998554, 'acc_consonant': 0.998479, 'acc_word': 0.994988, 'loss_grapheme': 0.034133, 'loss_vowel': 0.017286, 'loss_consonant': 0.013543, 'loss_word': 0.030955}\n",
      "SWA>>>:\n"
     ]
    },
    {
     "name": "stderr",
     "output_type": "stream",
     "text": [
      "100%|██████████| 251/251 [01:28<00:00,  2.95it/s]\n"
     ]
    },
    {
     "name": "stdout",
     "output_type": "stream",
     "text": [
      "\n",
      "val: {'recall': 0.998215, 'recall_grapheme': 0.99739, 'recall_vowel': 0.998993, 'recall_consonant': 0.999086, 'recall_word': 0.996985, 'acc_grapheme': 0.997282, 'acc_vowel': 0.998953, 'acc_consonant': 0.999003, 'acc_word': 0.996933, 'loss_grapheme': 0.011245, 'loss_vowel': 0.005206, 'loss_consonant': 0.004065, 'loss_word': 0.013076}\n",
      "   42 | 0.000019 | 160640/160735 | 8.4885 | 7.4426 |||\n",
      "val: {'recall': 0.997506, 'recall_grapheme': 0.996453, 'recall_vowel': 0.998716, 'recall_consonant': 0.998401, 'recall_word': 0.995786, 'acc_grapheme': 0.996135, 'acc_vowel': 0.998803, 'acc_consonant': 0.998803, 'acc_word': 0.995736, 'loss_grapheme': 0.040352, 'loss_vowel': 0.026714, 'loss_consonant': 0.019659, 'loss_word': 0.026043}\n",
      "   43 | 0.000017 | 160640/160735 | 16.2966 | 8.2930 ||\n",
      "val: {'recall': 0.99765, 'recall_grapheme': 0.996752, 'recall_vowel': 0.998685, 'recall_consonant': 0.99841, 'recall_word': 0.996148, 'acc_grapheme': 0.996609, 'acc_vowel': 0.998803, 'acc_consonant': 0.998878, 'acc_word': 0.99611, 'loss_grapheme': 0.032083, 'loss_vowel': 0.020407, 'loss_consonant': 0.015529, 'loss_word': 0.02275}\n",
      "   44 | 0.000015 | 160640/160735 | 12.1059 | 7.8016 |"
     ]
    },
    {
     "name": "stderr",
     "output_type": "stream",
     "text": [
      "\r",
      "  0%|          | 0/251 [00:00<?, ?it/s]"
     ]
    },
    {
     "name": "stdout",
     "output_type": "stream",
     "text": [
      "\n",
      "val: {'recall': 0.997696, 'recall_grapheme': 0.996727, 'recall_vowel': 0.998714, 'recall_consonant': 0.998617, 'recall_word': 0.996206, 'acc_grapheme': 0.996858, 'acc_vowel': 0.998853, 'acc_consonant': 0.999028, 'acc_word': 0.996185, 'loss_grapheme': 0.027889, 'loss_vowel': 0.018355, 'loss_consonant': 0.013931, 'loss_word': 0.020219}\n",
      "SWA>>>:\n"
     ]
    },
    {
     "name": "stderr",
     "output_type": "stream",
     "text": [
      "100%|██████████| 251/251 [01:26<00:00,  2.94it/s]\n"
     ]
    },
    {
     "name": "stdout",
     "output_type": "stream",
     "text": [
      "\n",
      "val: {'recall': 0.998222, 'recall_grapheme': 0.997418, 'recall_vowel': 0.998958, 'recall_consonant': 0.999092, 'recall_word': 0.996937, 'acc_grapheme': 0.997332, 'acc_vowel': 0.998903, 'acc_consonant': 0.999028, 'acc_word': 0.996883, 'loss_grapheme': 0.011196, 'loss_vowel': 0.005176, 'loss_consonant': 0.004045, 'loss_word': 0.01301}\n",
      "   45 | 0.000013 | 160640/160735 | 1.4200 | 8.1941 |||\n",
      "val: {'recall': 0.997297, 'recall_grapheme': 0.996123, 'recall_vowel': 0.998459, 'recall_consonant': 0.998482, 'recall_word': 0.995469, 'acc_grapheme': 0.99601, 'acc_vowel': 0.998703, 'acc_consonant': 0.998728, 'acc_word': 0.995412, 'loss_grapheme': 0.034077, 'loss_vowel': 0.018374, 'loss_consonant': 0.014511, 'loss_word': 0.02678}\n",
      "   46 | 0.000011 | 160640/160735 | 1.2787 | 7.3787 |||\n",
      "val: {'recall': 0.99767, 'recall_grapheme': 0.99662, 'recall_vowel': 0.998854, 'recall_consonant': 0.998586, 'recall_word': 0.996107, 'acc_grapheme': 0.996634, 'acc_vowel': 0.998853, 'acc_consonant': 0.998903, 'acc_word': 0.99606, 'loss_grapheme': 0.021151, 'loss_vowel': 0.012715, 'loss_consonant': 0.009709, 'loss_word': 0.017558}\n",
      "   47 | 0.000010 | 160640/160735 | 4.5320 | 7.5021 ||"
     ]
    },
    {
     "name": "stderr",
     "output_type": "stream",
     "text": [
      "\r",
      "  0%|          | 0/251 [00:00<?, ?it/s]"
     ]
    },
    {
     "name": "stdout",
     "output_type": "stream",
     "text": [
      "\n",
      "val: {'recall': 0.997647, 'recall_grapheme': 0.996741, 'recall_vowel': 0.998715, 'recall_consonant': 0.998393, 'recall_word': 0.995913, 'acc_grapheme': 0.996285, 'acc_vowel': 0.998753, 'acc_consonant': 0.998803, 'acc_word': 0.995861, 'loss_grapheme': 0.030144, 'loss_vowel': 0.017871, 'loss_consonant': 0.013113, 'loss_word': 0.023481}\n",
      "SWA>>>:\n"
     ]
    },
    {
     "name": "stderr",
     "output_type": "stream",
     "text": [
      "100%|██████████| 251/251 [01:26<00:00,  2.94it/s]\n"
     ]
    },
    {
     "name": "stdout",
     "output_type": "stream",
     "text": [
      "\n",
      "val: {'recall': 0.998202, 'recall_grapheme': 0.997403, 'recall_vowel': 0.998947, 'recall_consonant': 0.999053, 'recall_word': 0.996996, 'acc_grapheme': 0.997307, 'acc_vowel': 0.998878, 'acc_consonant': 0.999028, 'acc_word': 0.996958, 'loss_grapheme': 0.011223, 'loss_vowel': 0.005195, 'loss_consonant': 0.004048, 'loss_word': 0.01304}\n",
      "   48 | 0.000008 | 160640/160735 | 1.3685 | 7.4365 |||\n",
      "val: {'recall': 0.997352, 'recall_grapheme': 0.996233, 'recall_vowel': 0.998454, 'recall_consonant': 0.998488, 'recall_word': 0.995477, 'acc_grapheme': 0.99611, 'acc_vowel': 0.998803, 'acc_consonant': 0.998803, 'acc_word': 0.995437, 'loss_grapheme': 0.031606, 'loss_vowel': 0.018232, 'loss_consonant': 0.013769, 'loss_word': 0.023863}\n",
      "   49 | 0.000007 | 160640/160735 | 2.5554 | 8.3257 ||\n",
      "val: {'recall': 0.997128, 'recall_grapheme': 0.995815, 'recall_vowel': 0.998465, 'recall_consonant': 0.998417, 'recall_word': 0.995255, 'acc_grapheme': 0.995612, 'acc_vowel': 0.998728, 'acc_consonant': 0.998604, 'acc_word': 0.995188, 'loss_grapheme': 0.049892, 'loss_vowel': 0.029535, 'loss_consonant': 0.021101, 'loss_word': 0.035294}\n",
      "   50 | 0.000005 | 160640/160735 | 1.2940 | 8.0159 |||\n",
      "val: {'recall': 0.998145, 'recall_grapheme': 0.997477, 'recall_vowel': 0.999052, 'recall_consonant': 0.998576, 'recall_word': 0.996571, 'acc_grapheme': 0.997182, 'acc_vowel': 0.999028, 'acc_consonant': 0.998978, 'acc_word': 0.996534, 'loss_grapheme': 0.020695, 'loss_vowel': 0.014684, 'loss_consonant': 0.010983, 'loss_word': 0.01608}\n"
     ]
    },
    {
     "name": "stderr",
     "output_type": "stream",
     "text": [
      "\r",
      "  0%|          | 0/251 [00:00<?, ?it/s]"
     ]
    },
    {
     "name": "stdout",
     "output_type": "stream",
     "text": [
      "###>>>>> saved ./model4-ckps/se_resnext50_32x4d/model4_se_resnext50_fold4_224.pth\n",
      "SWA>>>:\n"
     ]
    },
    {
     "name": "stderr",
     "output_type": "stream",
     "text": [
      "100%|██████████| 251/251 [01:26<00:00,  2.98it/s]\n"
     ]
    },
    {
     "name": "stdout",
     "output_type": "stream",
     "text": [
      "\n",
      "val: {'recall': 0.998227, 'recall_grapheme': 0.997418, 'recall_vowel': 0.998947, 'recall_consonant': 0.999125, 'recall_word': 0.996963, 'acc_grapheme': 0.997332, 'acc_vowel': 0.998878, 'acc_consonant': 0.999052, 'acc_word': 0.996908, 'loss_grapheme': 0.011178, 'loss_vowel': 0.005148, 'loss_consonant': 0.00403, 'loss_word': 0.013014}\n",
      "   51 | 0.000004 | 160640/160735 | 13.7467 | 7.6108 ||\n",
      "val: {'recall': 0.997306, 'recall_grapheme': 0.996109, 'recall_vowel': 0.998484, 'recall_consonant': 0.998522, 'recall_word': 0.995578, 'acc_grapheme': 0.99616, 'acc_vowel': 0.998728, 'acc_consonant': 0.998853, 'acc_word': 0.995512, 'loss_grapheme': 0.038812, 'loss_vowel': 0.02368, 'loss_consonant': 0.01778, 'loss_word': 0.027282}\n",
      "   52 | 0.000003 | 160640/160735 | 1.2370 | 7.2206 ||\n",
      "val: {'recall': 0.997868, 'recall_grapheme': 0.997022, 'recall_vowel': 0.998916, 'recall_consonant': 0.998512, 'recall_word': 0.996381, 'acc_grapheme': 0.996858, 'acc_vowel': 0.998953, 'acc_consonant': 0.998928, 'acc_word': 0.99636, 'loss_grapheme': 0.018699, 'loss_vowel': 0.011829, 'loss_consonant': 0.009237, 'loss_word': 0.01602}\n",
      "   53 | 0.000002 | 160640/160735 | 6.8677 | 7.4218 |||"
     ]
    },
    {
     "name": "stderr",
     "output_type": "stream",
     "text": [
      "\r",
      "  0%|          | 0/251 [00:00<?, ?it/s]"
     ]
    },
    {
     "name": "stdout",
     "output_type": "stream",
     "text": [
      "\n",
      "val: {'recall': 0.997471, 'recall_grapheme': 0.996382, 'recall_vowel': 0.998541, 'recall_consonant': 0.998581, 'recall_word': 0.995595, 'acc_grapheme': 0.996085, 'acc_vowel': 0.998803, 'acc_consonant': 0.998878, 'acc_word': 0.995562, 'loss_grapheme': 0.031819, 'loss_vowel': 0.01838, 'loss_consonant': 0.014039, 'loss_word': 0.024955}\n",
      "SWA>>>:\n"
     ]
    },
    {
     "name": "stderr",
     "output_type": "stream",
     "text": [
      "100%|██████████| 251/251 [01:26<00:00,  3.00it/s]\n"
     ]
    },
    {
     "name": "stdout",
     "output_type": "stream",
     "text": [
      "\n",
      "val: {'recall': 0.998113, 'recall_grapheme': 0.997239, 'recall_vowel': 0.998919, 'recall_consonant': 0.999053, 'recall_word': 0.996985, 'acc_grapheme': 0.997332, 'acc_vowel': 0.998853, 'acc_consonant': 0.999028, 'acc_word': 0.996933, 'loss_grapheme': 0.01119, 'loss_vowel': 0.005134, 'loss_consonant': 0.004046, 'loss_word': 0.012965}\n",
      "   54 | 0.000002 | 160640/160735 | 9.6137 | 8.2722 |||\n",
      "val: {'recall': 0.997217, 'recall_grapheme': 0.996046, 'recall_vowel': 0.998335, 'recall_consonant': 0.99844, 'recall_word': 0.995393, 'acc_grapheme': 0.996135, 'acc_vowel': 0.998678, 'acc_consonant': 0.998703, 'acc_word': 0.995337, 'loss_grapheme': 0.03774, 'loss_vowel': 0.023382, 'loss_consonant': 0.017223, 'loss_word': 0.025958}\n",
      "   55 | 0.000001 | 160640/160735 | 5.5152 | 8.1855 ||\n",
      "val: {'recall': 0.997799, 'recall_grapheme': 0.99683, 'recall_vowel': 0.99884, 'recall_consonant': 0.998695, 'recall_word': 0.996185, 'acc_grapheme': 0.996709, 'acc_vowel': 0.998903, 'acc_consonant': 0.999028, 'acc_word': 0.996135, 'loss_grapheme': 0.037646, 'loss_vowel': 0.024216, 'loss_consonant': 0.017145, 'loss_word': 0.026051}\n",
      "   56 | 0.000001 | 160640/160735 | 16.8246 | 7.8444 |"
     ]
    },
    {
     "name": "stderr",
     "output_type": "stream",
     "text": [
      "\r",
      "  0%|          | 0/251 [00:00<?, ?it/s]"
     ]
    },
    {
     "name": "stdout",
     "output_type": "stream",
     "text": [
      "\n",
      "val: {'recall': 0.997649, 'recall_grapheme': 0.996616, 'recall_vowel': 0.998728, 'recall_consonant': 0.998636, 'recall_word': 0.996239, 'acc_grapheme': 0.996509, 'acc_vowel': 0.998853, 'acc_consonant': 0.999003, 'acc_word': 0.996185, 'loss_grapheme': 0.031168, 'loss_vowel': 0.019713, 'loss_consonant': 0.01441, 'loss_word': 0.022378}\n",
      "SWA>>>:\n"
     ]
    },
    {
     "name": "stderr",
     "output_type": "stream",
     "text": [
      "100%|██████████| 251/251 [01:26<00:00,  2.95it/s]\n"
     ]
    },
    {
     "name": "stdout",
     "output_type": "stream",
     "text": [
      "\n",
      "val: {'recall': 0.998207, 'recall_grapheme': 0.997431, 'recall_vowel': 0.998942, 'recall_consonant': 0.999023, 'recall_word': 0.996939, 'acc_grapheme': 0.997357, 'acc_vowel': 0.998878, 'acc_consonant': 0.999003, 'acc_word': 0.996883, 'loss_grapheme': 0.011195, 'loss_vowel': 0.005157, 'loss_consonant': 0.004052, 'loss_word': 0.012983}\n",
      "   57 | 0.000000 | 160640/160735 | 9.7045 | 8.2327 |||\n",
      "val: {'recall': 0.996921, 'recall_grapheme': 0.995579, 'recall_vowel': 0.998297, 'recall_consonant': 0.998228, 'recall_word': 0.995054, 'acc_grapheme': 0.995512, 'acc_vowel': 0.998678, 'acc_consonant': 0.998529, 'acc_word': 0.995013, 'loss_grapheme': 0.044078, 'loss_vowel': 0.025845, 'loss_consonant': 0.019009, 'loss_word': 0.032097}\n",
      "   58 | 0.000000 | 160640/160735 | 1.4650 | 7.3614 ||\n",
      "val: {'recall': 0.99725, 'recall_grapheme': 0.996066, 'recall_vowel': 0.998458, 'recall_consonant': 0.99841, 'recall_word': 0.99539, 'acc_grapheme': 0.995936, 'acc_vowel': 0.998654, 'acc_consonant': 0.998703, 'acc_word': 0.995362, 'loss_grapheme': 0.039554, 'loss_vowel': 0.022434, 'loss_consonant': 0.016187, 'loss_word': 0.03086}\n",
      "   59 | 0.000000 | 160640/160735 | 1.3069 | 8.0591 |||"
     ]
    },
    {
     "name": "stderr",
     "output_type": "stream",
     "text": [
      "\r",
      "  0%|          | 0/251 [00:00<?, ?it/s]"
     ]
    },
    {
     "name": "stdout",
     "output_type": "stream",
     "text": [
      "\n",
      "val: {'recall': 0.99799, 'recall_grapheme': 0.997148, 'recall_vowel': 0.999066, 'recall_consonant': 0.998599, 'recall_word': 0.996513, 'acc_grapheme': 0.997083, 'acc_vowel': 0.999028, 'acc_consonant': 0.999077, 'acc_word': 0.996484, 'loss_grapheme': 0.023372, 'loss_vowel': 0.017022, 'loss_consonant': 0.012768, 'loss_word': 0.017019}\n",
      "SWA>>>:\n"
     ]
    },
    {
     "name": "stderr",
     "output_type": "stream",
     "text": [
      "100%|██████████| 251/251 [01:26<00:00,  3.04it/s]\n"
     ]
    },
    {
     "name": "stdout",
     "output_type": "stream",
     "text": [
      "\n",
      "val: {'recall': 0.99808, 'recall_grapheme': 0.997183, 'recall_vowel': 0.99893, 'recall_consonant': 0.999023, 'recall_word': 0.99696, 'acc_grapheme': 0.997257, 'acc_vowel': 0.998878, 'acc_consonant': 0.999003, 'acc_word': 0.996908, 'loss_grapheme': 0.011188, 'loss_vowel': 0.005148, 'loss_consonant': 0.004052, 'loss_word': 0.012971}\n",
      "CYCLE: 6\n",
      "    0 | 0.000020 | 160640/160735 | 20.0142 | 7.4007 |\n",
      "val: {'recall': 0.997782, 'recall_grapheme': 0.996857, 'recall_vowel': 0.998749, 'recall_consonant': 0.998667, 'recall_word': 0.996251, 'acc_grapheme': 0.996709, 'acc_vowel': 0.998903, 'acc_consonant': 0.999028, 'acc_word': 0.99621, 'loss_grapheme': 0.038373, 'loss_vowel': 0.026774, 'loss_consonant': 0.019496, 'loss_word': 0.023452}\n",
      "    1 | 0.000040 | 160640/160735 | 0.8121 | 7.1350 |||\n",
      "val: {'recall': 0.996567, 'recall_grapheme': 0.995277, 'recall_vowel': 0.998389, 'recall_consonant': 0.997324, 'recall_word': 0.995267, 'acc_grapheme': 0.995487, 'acc_vowel': 0.998479, 'acc_consonant': 0.998404, 'acc_word': 0.995113, 'loss_grapheme': 0.065691, 'loss_vowel': 0.036747, 'loss_consonant': 0.026587, 'loss_word': 0.043164}\n",
      "    2 | 0.000060 | 160640/160735 | 11.9730 | 7.5187 |\n",
      "val: {'recall': 0.997107, 'recall_grapheme': 0.996281, 'recall_vowel': 0.998515, 'recall_consonant': 0.997351, 'recall_word': 0.995798, 'acc_grapheme': 0.996235, 'acc_vowel': 0.998678, 'acc_consonant': 0.998753, 'acc_word': 0.995711, 'loss_grapheme': 0.055572, 'loss_vowel': 0.035025, 'loss_consonant': 0.024691, 'loss_word': 0.036986}\n",
      "    3 | 0.000079 | 160640/160735 | 9.3559 | 7.9076 |||\n",
      "val: {'recall': 0.996518, 'recall_grapheme': 0.995595, 'recall_vowel': 0.998318, 'recall_consonant': 0.996565, 'recall_word': 0.994879, 'acc_grapheme': 0.995287, 'acc_vowel': 0.998479, 'acc_consonant': 0.998479, 'acc_word': 0.994839, 'loss_grapheme': 0.043125, 'loss_vowel': 0.023585, 'loss_consonant': 0.017102, 'loss_word': 0.032147}\n",
      "    4 | 0.000098 | 160640/160735 | 8.9098 | 7.6233 |||\n",
      "val: {'recall': 0.996786, 'recall_grapheme': 0.995946, 'recall_vowel': 0.998539, 'recall_consonant': 0.996712, 'recall_word': 0.995599, 'acc_grapheme': 0.996235, 'acc_vowel': 0.998703, 'acc_consonant': 0.998579, 'acc_word': 0.995537, 'loss_grapheme': 0.065203, 'loss_vowel': 0.038876, 'loss_consonant': 0.027377, 'loss_word': 0.041947}\n",
      "    5 | 0.000098 | 160640/160735 | 16.3286 | 7.7136 |\n",
      "val: {'recall': 0.997203, 'recall_grapheme': 0.996194, 'recall_vowel': 0.998726, 'recall_consonant': 0.997697, 'recall_word': 0.994972, 'acc_grapheme': 0.995686, 'acc_vowel': 0.998579, 'acc_consonant': 0.998529, 'acc_word': 0.994988, 'loss_grapheme': 0.045949, 'loss_vowel': 0.030376, 'loss_consonant': 0.021009, 'loss_word': 0.030908}\n",
      "    6 | 0.000097 | 160640/160735 | 7.6531 | 8.0250 |||\n",
      "val: {'recall': 0.996306, 'recall_grapheme': 0.995283, 'recall_vowel': 0.998171, 'recall_consonant': 0.996488, 'recall_word': 0.994129, 'acc_grapheme': 0.994714, 'acc_vowel': 0.99823, 'acc_consonant': 0.998304, 'acc_word': 0.994041, 'loss_grapheme': 0.053507, 'loss_vowel': 0.030139, 'loss_consonant': 0.022656, 'loss_word': 0.039653}\n",
      "    7 | 0.000096 | 160640/160735 | 1.2348 | 8.4940 |||\n",
      "val: {'recall': 0.997259, 'recall_grapheme': 0.996215, 'recall_vowel': 0.998737, 'recall_consonant': 0.997868, 'recall_word': 0.995636, 'acc_grapheme': 0.99601, 'acc_vowel': 0.998678, 'acc_consonant': 0.998678, 'acc_word': 0.995612, 'loss_grapheme': 0.038052, 'loss_vowel': 0.023712, 'loss_consonant': 0.016552, 'loss_word': 0.027069}\n",
      "    8 | 0.000095 | 160640/160735 | 10.8481 | 7.7031 ||\n",
      "val: {'recall': 0.996715, 'recall_grapheme': 0.995886, 'recall_vowel': 0.998428, 'recall_consonant': 0.99666, 'recall_word': 0.995009, 'acc_grapheme': 0.995686, 'acc_vowel': 0.998479, 'acc_consonant': 0.998529, 'acc_word': 0.994988, 'loss_grapheme': 0.059067, 'loss_vowel': 0.037959, 'loss_consonant': 0.026006, 'loss_word': 0.038156}\n",
      "    9 | 0.000093 | 160640/160735 | 1.4055 | 7.1850 ||\n",
      "val: {'recall': 0.997551, 'recall_grapheme': 0.997047, 'recall_vowel': 0.998811, 'recall_consonant': 0.997302, 'recall_word': 0.996286, 'acc_grapheme': 0.996783, 'acc_vowel': 0.998903, 'acc_consonant': 0.998803, 'acc_word': 0.99626, 'loss_grapheme': 0.031104, 'loss_vowel': 0.023363, 'loss_consonant': 0.016695, 'loss_word': 0.021035}\n",
      "   10 | 0.000092 | 160640/160735 | 20.5991 | 7.9346 ||\n",
      "val: {'recall': 0.99743, 'recall_grapheme': 0.996334, 'recall_vowel': 0.998798, 'recall_consonant': 0.998253, 'recall_word': 0.995518, 'acc_grapheme': 0.99611, 'acc_vowel': 0.998728, 'acc_consonant': 0.998604, 'acc_word': 0.995512, 'loss_grapheme': 0.042469, 'loss_vowel': 0.025219, 'loss_consonant': 0.018163, 'loss_word': 0.030045}\n",
      "   11 | 0.000091 | 094080/160735 | 1.5552 | 8.4052 ||"
     ]
    },
    {
     "ename": "KeyboardInterrupt",
     "evalue": "",
     "output_type": "error",
     "traceback": [
      "\u001b[0;31m---------------------------------------------------------------------------\u001b[0m",
      "\u001b[0;31mKeyboardInterrupt\u001b[0m                         Traceback (most recent call last)",
      "\u001b[0;32m<ipython-input-37-aad596905035>\u001b[0m in \u001b[0;36m<module>\u001b[0;34m\u001b[0m\n\u001b[0;32m----> 1\u001b[0;31m \u001b[0mtrain\u001b[0m\u001b[0;34m(\u001b[0m\u001b[0margs\u001b[0m\u001b[0;34m)\u001b[0m\u001b[0;34m\u001b[0m\u001b[0;34m\u001b[0m\u001b[0m\n\u001b[0m",
      "\u001b[0;32m<ipython-input-34-f06a7b6a88b3>\u001b[0m in \u001b[0;36mtrain\u001b[0;34m(args)\u001b[0m\n\u001b[1;32m     63\u001b[0m         \u001b[0;32mfor\u001b[0m \u001b[0mepoch\u001b[0m \u001b[0;32min\u001b[0m \u001b[0mrange\u001b[0m\u001b[0;34m(\u001b[0m\u001b[0margs\u001b[0m\u001b[0;34m.\u001b[0m\u001b[0mstart_epoch\u001b[0m\u001b[0;34m,\u001b[0m \u001b[0margs\u001b[0m\u001b[0;34m.\u001b[0m\u001b[0mnum_epochs\u001b[0m\u001b[0;34m)\u001b[0m\u001b[0;34m:\u001b[0m\u001b[0;34m\u001b[0m\u001b[0;34m\u001b[0m\u001b[0m\n\u001b[1;32m     64\u001b[0m             \u001b[0mgrid\u001b[0m\u001b[0;34m.\u001b[0m\u001b[0mset_prob\u001b[0m\u001b[0;34m(\u001b[0m\u001b[0mepoch\u001b[0m\u001b[0;34m,\u001b[0m \u001b[0margs\u001b[0m\u001b[0;34m.\u001b[0m\u001b[0mst_epochs\u001b[0m\u001b[0;34m)\u001b[0m\u001b[0;34m\u001b[0m\u001b[0;34m\u001b[0m\u001b[0m\n\u001b[0;32m---> 65\u001b[0;31m             \u001b[0mtrain_epoch\u001b[0m\u001b[0;34m(\u001b[0m\u001b[0margs\u001b[0m\u001b[0;34m,\u001b[0m \u001b[0mmodel\u001b[0m\u001b[0;34m,\u001b[0m \u001b[0mtrain_loader\u001b[0m\u001b[0;34m,\u001b[0m \u001b[0mepoch\u001b[0m\u001b[0;34m,\u001b[0m \u001b[0moptimizer\u001b[0m\u001b[0;34m,\u001b[0m \u001b[0mlr_scheduler\u001b[0m\u001b[0;34m,\u001b[0m \u001b[0mgrid\u001b[0m\u001b[0;34m)\u001b[0m\u001b[0;34m\u001b[0m\u001b[0;34m\u001b[0m\u001b[0m\n\u001b[0m\u001b[1;32m     66\u001b[0m             \u001b[0mvalidate_and_save\u001b[0m\u001b[0;34m(\u001b[0m\u001b[0mmodel\u001b[0m\u001b[0;34m,\u001b[0m \u001b[0mmodel_file\u001b[0m\u001b[0;34m,\u001b[0m \u001b[0mval_loader\u001b[0m\u001b[0;34m,\u001b[0m \u001b[0msave\u001b[0m\u001b[0;34m=\u001b[0m\u001b[0;32mTrue\u001b[0m\u001b[0;34m)\u001b[0m\u001b[0;34m\u001b[0m\u001b[0;34m\u001b[0m\u001b[0m\n\u001b[1;32m     67\u001b[0m \u001b[0;34m\u001b[0m\u001b[0m\n",
      "\u001b[0;32m<ipython-input-33-433613421c48>\u001b[0m in \u001b[0;36mtrain_epoch\u001b[0;34m(args, model, train_loader, epoch, optimizer, lr_scheduler, grid)\u001b[0m\n\u001b[1;32m     43\u001b[0m         \u001b[0moptimizer\u001b[0m\u001b[0;34m.\u001b[0m\u001b[0mzero_grad\u001b[0m\u001b[0;34m(\u001b[0m\u001b[0;34m)\u001b[0m\u001b[0;34m\u001b[0m\u001b[0;34m\u001b[0m\u001b[0m\n\u001b[1;32m     44\u001b[0m         \u001b[0;32mwith\u001b[0m \u001b[0mamp\u001b[0m\u001b[0;34m.\u001b[0m\u001b[0mscale_loss\u001b[0m\u001b[0;34m(\u001b[0m\u001b[0mloss\u001b[0m\u001b[0;34m,\u001b[0m \u001b[0moptimizer\u001b[0m\u001b[0;34m)\u001b[0m \u001b[0;32mas\u001b[0m \u001b[0mscaled_loss\u001b[0m\u001b[0;34m:\u001b[0m\u001b[0;34m\u001b[0m\u001b[0;34m\u001b[0m\u001b[0m\n\u001b[0;32m---> 45\u001b[0;31m             \u001b[0mscaled_loss\u001b[0m\u001b[0;34m.\u001b[0m\u001b[0mbackward\u001b[0m\u001b[0;34m(\u001b[0m\u001b[0;34m)\u001b[0m\u001b[0;34m\u001b[0m\u001b[0;34m\u001b[0m\u001b[0m\n\u001b[0m\u001b[1;32m     46\u001b[0m         \u001b[0;31m#loss.backward()\u001b[0m\u001b[0;34m\u001b[0m\u001b[0;34m\u001b[0m\u001b[0;34m\u001b[0m\u001b[0m\n\u001b[1;32m     47\u001b[0m         \u001b[0mlr_scheduler\u001b[0m\u001b[0;34m(\u001b[0m\u001b[0moptimizer\u001b[0m\u001b[0;34m,\u001b[0m \u001b[0mbatch_idx\u001b[0m\u001b[0;34m,\u001b[0m \u001b[0mepoch\u001b[0m\u001b[0;34m)\u001b[0m\u001b[0;34m\u001b[0m\u001b[0;34m\u001b[0m\u001b[0m\n",
      "\u001b[0;32m~/anaconda3/lib/python3.7/contextlib.py\u001b[0m in \u001b[0;36m__exit__\u001b[0;34m(self, type, value, traceback)\u001b[0m\n\u001b[1;32m    117\u001b[0m         \u001b[0;32mif\u001b[0m \u001b[0mtype\u001b[0m \u001b[0;32mis\u001b[0m \u001b[0;32mNone\u001b[0m\u001b[0;34m:\u001b[0m\u001b[0;34m\u001b[0m\u001b[0;34m\u001b[0m\u001b[0m\n\u001b[1;32m    118\u001b[0m             \u001b[0;32mtry\u001b[0m\u001b[0;34m:\u001b[0m\u001b[0;34m\u001b[0m\u001b[0;34m\u001b[0m\u001b[0m\n\u001b[0;32m--> 119\u001b[0;31m                 \u001b[0mnext\u001b[0m\u001b[0;34m(\u001b[0m\u001b[0mself\u001b[0m\u001b[0;34m.\u001b[0m\u001b[0mgen\u001b[0m\u001b[0;34m)\u001b[0m\u001b[0;34m\u001b[0m\u001b[0;34m\u001b[0m\u001b[0m\n\u001b[0m\u001b[1;32m    120\u001b[0m             \u001b[0;32mexcept\u001b[0m \u001b[0mStopIteration\u001b[0m\u001b[0;34m:\u001b[0m\u001b[0;34m\u001b[0m\u001b[0;34m\u001b[0m\u001b[0m\n\u001b[1;32m    121\u001b[0m                 \u001b[0;32mreturn\u001b[0m \u001b[0;32mFalse\u001b[0m\u001b[0;34m\u001b[0m\u001b[0;34m\u001b[0m\u001b[0m\n",
      "\u001b[0;32m~/anaconda3/lib/python3.7/site-packages/apex/amp/handle.py\u001b[0m in \u001b[0;36mscale_loss\u001b[0;34m(loss, optimizers, loss_id, model, delay_unscale, delay_overflow_check)\u001b[0m\n\u001b[1;32m    125\u001b[0m             \u001b[0;31m# For future fused optimizers that enable sync-free dynamic loss scaling,\u001b[0m\u001b[0;34m\u001b[0m\u001b[0;34m\u001b[0m\u001b[0;34m\u001b[0m\u001b[0m\n\u001b[1;32m    126\u001b[0m             \u001b[0;31m# should_skip will always be False.\u001b[0m\u001b[0;34m\u001b[0m\u001b[0;34m\u001b[0m\u001b[0;34m\u001b[0m\u001b[0m\n\u001b[0;32m--> 127\u001b[0;31m             \u001b[0mshould_skip\u001b[0m \u001b[0;34m=\u001b[0m \u001b[0;32mFalse\u001b[0m \u001b[0;32mif\u001b[0m \u001b[0mdelay_overflow_check\u001b[0m \u001b[0;32melse\u001b[0m \u001b[0mloss_scaler\u001b[0m\u001b[0;34m.\u001b[0m\u001b[0mupdate_scale\u001b[0m\u001b[0;34m(\u001b[0m\u001b[0;34m)\u001b[0m\u001b[0;34m\u001b[0m\u001b[0;34m\u001b[0m\u001b[0m\n\u001b[0m\u001b[1;32m    128\u001b[0m             \u001b[0;32mif\u001b[0m \u001b[0mshould_skip\u001b[0m\u001b[0;34m:\u001b[0m\u001b[0;34m\u001b[0m\u001b[0;34m\u001b[0m\u001b[0m\n\u001b[1;32m    129\u001b[0m                 \u001b[0;32mfor\u001b[0m \u001b[0moptimizer\u001b[0m \u001b[0;32min\u001b[0m \u001b[0moptimizers\u001b[0m\u001b[0;34m:\u001b[0m\u001b[0;34m\u001b[0m\u001b[0;34m\u001b[0m\u001b[0m\n",
      "\u001b[0;32m~/anaconda3/lib/python3.7/site-packages/apex/amp/scaler.py\u001b[0m in \u001b[0;36mupdate_scale\u001b[0;34m(self)\u001b[0m\n\u001b[1;32m    198\u001b[0m         \u001b[0;31m# If the fused kernel is available, we only need one D2H memcopy and sync.\u001b[0m\u001b[0;34m\u001b[0m\u001b[0;34m\u001b[0m\u001b[0;34m\u001b[0m\u001b[0m\n\u001b[1;32m    199\u001b[0m         \u001b[0;32mif\u001b[0m \u001b[0mLossScaler\u001b[0m\u001b[0;34m.\u001b[0m\u001b[0mhas_fused_kernel\u001b[0m \u001b[0;32mand\u001b[0m \u001b[0mself\u001b[0m\u001b[0;34m.\u001b[0m\u001b[0mdynamic\u001b[0m \u001b[0;32mand\u001b[0m \u001b[0;32mnot\u001b[0m \u001b[0mself\u001b[0m\u001b[0;34m.\u001b[0m\u001b[0m_has_overflow\u001b[0m\u001b[0;34m:\u001b[0m\u001b[0;34m\u001b[0m\u001b[0;34m\u001b[0m\u001b[0m\n\u001b[0;32m--> 200\u001b[0;31m             \u001b[0mself\u001b[0m\u001b[0;34m.\u001b[0m\u001b[0m_has_overflow\u001b[0m \u001b[0;34m=\u001b[0m \u001b[0mself\u001b[0m\u001b[0;34m.\u001b[0m\u001b[0m_overflow_buf\u001b[0m\u001b[0;34m.\u001b[0m\u001b[0mitem\u001b[0m\u001b[0;34m(\u001b[0m\u001b[0;34m)\u001b[0m\u001b[0;34m\u001b[0m\u001b[0;34m\u001b[0m\u001b[0m\n\u001b[0m\u001b[1;32m    201\u001b[0m \u001b[0;34m\u001b[0m\u001b[0m\n\u001b[1;32m    202\u001b[0m         \u001b[0;32mif\u001b[0m \u001b[0mself\u001b[0m\u001b[0;34m.\u001b[0m\u001b[0m_has_overflow\u001b[0m \u001b[0;32mand\u001b[0m \u001b[0mself\u001b[0m\u001b[0;34m.\u001b[0m\u001b[0mdynamic\u001b[0m\u001b[0;34m:\u001b[0m\u001b[0;34m\u001b[0m\u001b[0;34m\u001b[0m\u001b[0m\n",
      "\u001b[0;31mKeyboardInterrupt\u001b[0m: "
     ]
    }
   ],
   "source": [
    "train(args)"
   ]
  },
  {
   "cell_type": "code",
   "execution_count": null,
   "metadata": {},
   "outputs": [],
   "source": []
  },
  {
   "cell_type": "code",
   "execution_count": 37,
   "metadata": {},
   "outputs": [],
   "source": [
    "#for param in model.backbone.parameters():\n",
    "#    param.requires_grad = False"
   ]
  },
  {
   "cell_type": "code",
   "execution_count": 38,
   "metadata": {},
   "outputs": [],
   "source": [
    "#validate(nn.DataParallel(model), val_loader)"
   ]
  },
  {
   "cell_type": "code",
   "execution_count": 39,
   "metadata": {
    "scrolled": true
   },
   "outputs": [
    {
     "name": "stdout",
     "output_type": "stream",
     "text": [
      "init model4\n",
      "model file: ./model4-ckps/se_resnext50_32x4d/model4_se_resnext50_fold4_224.pth, exist: True\n",
      "loading ./model4-ckps/se_resnext50_32x4d/model4_se_resnext50_fold4_224.pth...\n",
      "init model4\n",
      "model file: ./model4-ckps/se_resnext50_32x4d/model4_se_resnext50_fold4_224.pth, exist: True\n",
      "loading ./model4-ckps/se_resnext50_32x4d/model4_se_resnext50_fold4_224.pth...\n",
      "\n",
      "val: {'recall': 0.997996, 'recall_grapheme': 0.99697, 'recall_vowel': 0.998936, 'recall_consonant': 0.999109, 'recall_word': 0.996648, 'acc_grapheme': 0.996883, 'acc_vowel': 0.998728, 'acc_consonant': 0.999052, 'acc_word': 0.996609, 'loss_grapheme': 0.012523, 'loss_vowel': 0.00635, 'loss_consonant': 0.005016, 'loss_word': 0.014546}\n",
      "CYCLE: 1\n",
      "    0 | 0.000020 | 160640/160735 | 7.2063 | 8.9963 ||\n",
      "val: {'recall': 0.996887, 'recall_grapheme': 0.995296, 'recall_vowel': 0.998344, 'recall_consonant': 0.998611, 'recall_word': 0.994477, 'acc_grapheme': 0.995188, 'acc_vowel': 0.998304, 'acc_consonant': 0.998504, 'acc_word': 0.99444, 'loss_grapheme': 0.092351, 'loss_vowel': 0.057241, 'loss_consonant': 0.046277, 'loss_word': 0.065656}\n",
      "    1 | 0.000040 | 160640/160735 | 6.9019 | 9.1035 |||\n",
      "val: {'recall': 0.996345, 'recall_grapheme': 0.994431, 'recall_vowel': 0.99823, 'recall_consonant': 0.998285, 'recall_word': 0.994105, 'acc_grapheme': 0.994739, 'acc_vowel': 0.998205, 'acc_consonant': 0.998479, 'acc_word': 0.994041, 'loss_grapheme': 0.097285, 'loss_vowel': 0.061309, 'loss_consonant': 0.048026, 'loss_word': 0.068595}\n",
      "    2 | 0.000060 | 160640/160735 | 2.2789 | 9.6976 |||\n",
      "val: {'recall': 0.996482, 'recall_grapheme': 0.994438, 'recall_vowel': 0.998507, 'recall_consonant': 0.998545, 'recall_word': 0.993983, 'acc_grapheme': 0.994764, 'acc_vowel': 0.998329, 'acc_consonant': 0.998329, 'acc_word': 0.993841, 'loss_grapheme': 0.074785, 'loss_vowel': 0.05014, 'loss_consonant': 0.037198, 'loss_word': 0.051902}\n",
      "    3 | 0.000080 | 160640/160735 | 10.5095 | 10.7770 |\n",
      "val: {'recall': 0.99592, 'recall_grapheme': 0.993749, 'recall_vowel': 0.997834, 'recall_consonant': 0.998347, 'recall_word': 0.993368, 'acc_grapheme': 0.99429, 'acc_vowel': 0.998055, 'acc_consonant': 0.99798, 'acc_word': 0.993243, 'loss_grapheme': 0.080324, 'loss_vowel': 0.050191, 'loss_consonant': 0.036257, 'loss_word': 0.060048}\n",
      "    4 | 0.000099 | 160640/160735 | 5.8896 | 9.9594 |||\n",
      "val: {'recall': 0.996842, 'recall_grapheme': 0.995631, 'recall_vowel': 0.998411, 'recall_consonant': 0.997693, 'recall_word': 0.995136, 'acc_grapheme': 0.995636, 'acc_vowel': 0.998554, 'acc_consonant': 0.998678, 'acc_word': 0.995063, 'loss_grapheme': 0.054658, 'loss_vowel': 0.037807, 'loss_consonant': 0.026532, 'loss_word': 0.040307}\n",
      "    5 | 0.000099 | 160640/160735 | 20.5468 | 9.9925 ||\n",
      "val: {'recall': 0.996085, 'recall_grapheme': 0.994611, 'recall_vowel': 0.99803, 'recall_consonant': 0.997086, 'recall_word': 0.993738, 'acc_grapheme': 0.994564, 'acc_vowel': 0.99803, 'acc_consonant': 0.99813, 'acc_word': 0.993642, 'loss_grapheme': 0.090255, 'loss_vowel': 0.057196, 'loss_consonant': 0.041073, 'loss_word': 0.065977}\n",
      "    6 | 0.000099 | 160640/160735 | 12.4363 | 10.1224 |\n",
      "val: {'recall': 0.996465, 'recall_grapheme': 0.994835, 'recall_vowel': 0.998027, 'recall_consonant': 0.998165, 'recall_word': 0.994149, 'acc_grapheme': 0.994714, 'acc_vowel': 0.99803, 'acc_consonant': 0.998404, 'acc_word': 0.994066, 'loss_grapheme': 0.068357, 'loss_vowel': 0.04186, 'loss_consonant': 0.030883, 'loss_word': 0.048283}\n",
      "    7 | 0.000098 | 160640/160735 | 2.8188 | 10.0546 ||\n",
      "val: {'recall': 0.997323, 'recall_grapheme': 0.995884, 'recall_vowel': 0.998528, 'recall_consonant': 0.998997, 'recall_word': 0.995077, 'acc_grapheme': 0.99606, 'acc_vowel': 0.998454, 'acc_consonant': 0.998629, 'acc_word': 0.995063, 'loss_grapheme': 0.040604, 'loss_vowel': 0.026866, 'loss_consonant': 0.021067, 'loss_word': 0.030635}\n",
      "    8 | 0.000098 | 160640/160735 | 3.1324 | 9.6344 ||\n",
      "val: {'recall': 0.996448, 'recall_grapheme': 0.994631, 'recall_vowel': 0.998368, 'recall_consonant': 0.99816, 'recall_word': 0.993967, 'acc_grapheme': 0.994465, 'acc_vowel': 0.998205, 'acc_consonant': 0.997905, 'acc_word': 0.993791, 'loss_grapheme': 0.087407, 'loss_vowel': 0.058145, 'loss_consonant': 0.045073, 'loss_word': 0.058272}\n",
      "    9 | 0.000098 | 160640/160735 | 3.0511 | 10.0904 ||\n",
      "val: {'recall': 0.996751, 'recall_grapheme': 0.995095, 'recall_vowel': 0.998022, 'recall_consonant': 0.998793, 'recall_word': 0.994762, 'acc_grapheme': 0.995387, 'acc_vowel': 0.998304, 'acc_consonant': 0.998529, 'acc_word': 0.994689, 'loss_grapheme': 0.049006, 'loss_vowel': 0.030435, 'loss_consonant': 0.024793, 'loss_word': 0.036618}\n",
      "   10 | 0.000097 | 160640/160735 | 2.9399 | 10.1761 ||\n",
      "val: {'recall': 0.996584, 'recall_grapheme': 0.994752, 'recall_vowel': 0.998281, 'recall_consonant': 0.998552, 'recall_word': 0.99441, 'acc_grapheme': 0.994888, 'acc_vowel': 0.998329, 'acc_consonant': 0.998329, 'acc_word': 0.994265, 'loss_grapheme': 0.069979, 'loss_vowel': 0.044185, 'loss_consonant': 0.036117, 'loss_word': 0.049894}\n",
      "   11 | 0.000096 | 160640/160735 | 3.1088 | 9.9225 |||\n",
      "val: {'recall': 0.995825, 'recall_grapheme': 0.993604, 'recall_vowel': 0.99837, 'recall_consonant': 0.997722, 'recall_word': 0.993831, 'acc_grapheme': 0.99419, 'acc_vowel': 0.998205, 'acc_consonant': 0.998479, 'acc_word': 0.993692, 'loss_grapheme': 0.059429, 'loss_vowel': 0.038939, 'loss_consonant': 0.030685, 'loss_word': 0.043003}\n",
      "   12 | 0.000096 | 160640/160735 | 21.3361 | 9.9668 ||\n",
      "val: {'recall': 0.995867, 'recall_grapheme': 0.993682, 'recall_vowel': 0.998163, 'recall_consonant': 0.997941, 'recall_word': 0.993507, 'acc_grapheme': 0.994265, 'acc_vowel': 0.998005, 'acc_consonant': 0.998105, 'acc_word': 0.993392, 'loss_grapheme': 0.078349, 'loss_vowel': 0.045929, 'loss_consonant': 0.042968, 'loss_word': 0.058256}\n",
      "   13 | 0.000095 | 160640/160735 | 2.8224 | 9.6503 |||\n",
      "val: {'recall': 0.996554, 'recall_grapheme': 0.995245, 'recall_vowel': 0.997892, 'recall_consonant': 0.997834, 'recall_word': 0.994473, 'acc_grapheme': 0.995138, 'acc_vowel': 0.99813, 'acc_consonant': 0.998205, 'acc_word': 0.994365, 'loss_grapheme': 0.08214, 'loss_vowel': 0.060768, 'loss_consonant': 0.042771, 'loss_word': 0.052296}\n",
      "   14 | 0.000095 | 160640/160735 | 7.7353 | 9.8421 |||\n",
      "val: {'recall': 0.996797, 'recall_grapheme': 0.995203, 'recall_vowel': 0.998697, 'recall_consonant': 0.998087, 'recall_word': 0.994794, 'acc_grapheme': 0.995337, 'acc_vowel': 0.998454, 'acc_consonant': 0.998479, 'acc_word': 0.994739, 'loss_grapheme': 0.04539, 'loss_vowel': 0.029843, 'loss_consonant': 0.023928, 'loss_word': 0.033408}\n",
      "   15 | 0.000094 | 160640/160735 | 23.5063 | 9.8647 ||\n",
      "val: {'recall': 0.995387, 'recall_grapheme': 0.992476, 'recall_vowel': 0.99816, 'recall_consonant': 0.998437, 'recall_word': 0.992332, 'acc_grapheme': 0.992894, 'acc_vowel': 0.997756, 'acc_consonant': 0.99818, 'acc_word': 0.992096, 'loss_grapheme': 0.086044, 'loss_vowel': 0.049893, 'loss_consonant': 0.039005, 'loss_word': 0.06658}\n",
      "   16 | 0.000093 | 160640/160735 | 10.5427 | 9.6380 ||\n",
      "val: {'recall': 0.996788, 'recall_grapheme': 0.995011, 'recall_vowel': 0.998485, 'recall_consonant': 0.998644, 'recall_word': 0.994245, 'acc_grapheme': 0.994963, 'acc_vowel': 0.998329, 'acc_consonant': 0.998255, 'acc_word': 0.994165, 'loss_grapheme': 0.067502, 'loss_vowel': 0.041417, 'loss_consonant': 0.033465, 'loss_word': 0.047626}\n",
      "   17 | 0.000092 | 160640/160735 | 7.8437 | 9.4359 ||\n",
      "val: {'recall': 0.996468, 'recall_grapheme': 0.994378, 'recall_vowel': 0.998346, 'recall_consonant': 0.99877, 'recall_word': 0.994526, 'acc_grapheme': 0.995213, 'acc_vowel': 0.998379, 'acc_consonant': 0.998454, 'acc_word': 0.994539, 'loss_grapheme': 0.0556, 'loss_vowel': 0.03968, 'loss_consonant': 0.029244, 'loss_word': 0.037826}\n",
      "   18 | 0.000091 | 160640/160735 | 7.3108 | 10.2153 ||\n",
      "val: {'recall': 0.995238, 'recall_grapheme': 0.992884, 'recall_vowel': 0.998128, 'recall_consonant': 0.997057, 'recall_word': 0.993033, 'acc_grapheme': 0.993542, 'acc_vowel': 0.998055, 'acc_consonant': 0.997881, 'acc_word': 0.992993, 'loss_grapheme': 0.091014, 'loss_vowel': 0.06239, 'loss_consonant': 0.048533, 'loss_word': 0.069166}\n",
      "   19 | 0.000090 | 160640/160735 | 2.8944 | 10.3272 ||"
     ]
    },
    {
     "name": "stderr",
     "output_type": "stream",
     "text": [
      "\r",
      "  0%|          | 0/251 [00:00<?, ?it/s]"
     ]
    },
    {
     "name": "stdout",
     "output_type": "stream",
     "text": [
      "\n",
      "val: {'recall': 0.996736, 'recall_grapheme': 0.995015, 'recall_vowel': 0.998763, 'recall_consonant': 0.99815, 'recall_word': 0.995207, 'acc_grapheme': 0.995587, 'acc_vowel': 0.998454, 'acc_consonant': 0.998255, 'acc_word': 0.995138, 'loss_grapheme': 0.048455, 'loss_vowel': 0.03448, 'loss_consonant': 0.02715, 'loss_word': 0.035359}\n",
      "SWA>>>:\n"
     ]
    },
    {
     "name": "stderr",
     "output_type": "stream",
     "text": [
      "100%|██████████| 251/251 [01:26<00:00,  2.99it/s]\n"
     ]
    },
    {
     "name": "stdout",
     "output_type": "stream",
     "text": [
      "\n",
      "val: {'recall': 0.997661, 'recall_grapheme': 0.996518, 'recall_vowel': 0.998785, 'recall_consonant': 0.998825, 'recall_word': 0.99593, 'acc_grapheme': 0.996734, 'acc_vowel': 0.998604, 'acc_consonant': 0.998604, 'acc_word': 0.995911, 'loss_grapheme': 0.014654, 'loss_vowel': 0.006566, 'loss_consonant': 0.005967, 'loss_word': 0.017012}\n",
      "   20 | 0.000090 | 160640/160735 | 2.7408 | 9.8741 |||\n",
      "val: {'recall': 0.996216, 'recall_grapheme': 0.994165, 'recall_vowel': 0.998325, 'recall_consonant': 0.998209, 'recall_word': 0.99393, 'acc_grapheme': 0.994689, 'acc_vowel': 0.99818, 'acc_consonant': 0.998005, 'acc_word': 0.993841, 'loss_grapheme': 0.071171, 'loss_vowel': 0.050296, 'loss_consonant': 0.035578, 'loss_word': 0.046127}\n",
      "   21 | 0.000089 | 160640/160735 | 11.0795 | 9.5905 ||\n",
      "val: {'recall': 0.996013, 'recall_grapheme': 0.994075, 'recall_vowel': 0.998554, 'recall_consonant': 0.997348, 'recall_word': 0.99395, 'acc_grapheme': 0.994465, 'acc_vowel': 0.998354, 'acc_consonant': 0.998105, 'acc_word': 0.993791, 'loss_grapheme': 0.083916, 'loss_vowel': 0.053358, 'loss_consonant': 0.041388, 'loss_word': 0.057141}\n",
      "   22 | 0.000088 | 160640/160735 | 2.9177 | 10.3787 ||\n",
      "val: {'recall': 0.996602, 'recall_grapheme': 0.994952, 'recall_vowel': 0.998246, 'recall_consonant': 0.99826, 'recall_word': 0.993952, 'acc_grapheme': 0.995013, 'acc_vowel': 0.99808, 'acc_consonant': 0.998055, 'acc_word': 0.993866, 'loss_grapheme': 0.048227, 'loss_vowel': 0.031233, 'loss_consonant': 0.024595, 'loss_word': 0.036344}\n",
      "   23 | 0.000086 | 160640/160735 | 2.7116 | 8.7228 |||"
     ]
    },
    {
     "name": "stderr",
     "output_type": "stream",
     "text": [
      "\r",
      "  0%|          | 0/251 [00:00<?, ?it/s]"
     ]
    },
    {
     "name": "stdout",
     "output_type": "stream",
     "text": [
      "\n",
      "val: {'recall': 0.996745, 'recall_grapheme': 0.995293, 'recall_vowel': 0.998726, 'recall_consonant': 0.997669, 'recall_word': 0.995217, 'acc_grapheme': 0.995686, 'acc_vowel': 0.998604, 'acc_consonant': 0.998529, 'acc_word': 0.995138, 'loss_grapheme': 0.039229, 'loss_vowel': 0.025224, 'loss_consonant': 0.02021, 'loss_word': 0.030821}\n",
      "SWA>>>:\n"
     ]
    },
    {
     "name": "stderr",
     "output_type": "stream",
     "text": [
      "100%|██████████| 251/251 [01:27<00:00,  3.02it/s]\n"
     ]
    },
    {
     "name": "stdout",
     "output_type": "stream",
     "text": [
      "\n",
      "val: {'recall': 0.99779, 'recall_grapheme': 0.996722, 'recall_vowel': 0.998771, 'recall_consonant': 0.998945, 'recall_word': 0.996381, 'acc_grapheme': 0.996858, 'acc_vowel': 0.998803, 'acc_consonant': 0.998778, 'acc_word': 0.99636, 'loss_grapheme': 0.013412, 'loss_vowel': 0.006075, 'loss_consonant': 0.005278, 'loss_word': 0.015595}\n",
      "   24 | 0.000085 | 160640/160735 | 2.6623 | 8.8956 ||\n",
      "val: {'recall': 0.996228, 'recall_grapheme': 0.994168, 'recall_vowel': 0.998183, 'recall_consonant': 0.998392, 'recall_word': 0.994012, 'acc_grapheme': 0.994564, 'acc_vowel': 0.998105, 'acc_consonant': 0.998055, 'acc_word': 0.993841, 'loss_grapheme': 0.081853, 'loss_vowel': 0.051156, 'loss_consonant': 0.038242, 'loss_word': 0.056635}\n",
      "   25 | 0.000084 | 160640/160735 | 20.2366 | 9.2726 ||\n",
      "val: {'recall': 0.996541, 'recall_grapheme': 0.995087, 'recall_vowel': 0.998324, 'recall_consonant': 0.997669, 'recall_word': 0.99467, 'acc_grapheme': 0.995312, 'acc_vowel': 0.998454, 'acc_consonant': 0.998554, 'acc_word': 0.994589, 'loss_grapheme': 0.045965, 'loss_vowel': 0.031826, 'loss_consonant': 0.025106, 'loss_word': 0.033505}\n",
      "   26 | 0.000083 | 160640/160735 | 16.0780 | 8.9808 ||\n",
      "val: {'recall': 0.996587, 'recall_grapheme': 0.994894, 'recall_vowel': 0.998304, 'recall_consonant': 0.998255, 'recall_word': 0.994811, 'acc_grapheme': 0.995312, 'acc_vowel': 0.998404, 'acc_consonant': 0.998479, 'acc_word': 0.994764, 'loss_grapheme': 0.054475, 'loss_vowel': 0.036777, 'loss_consonant': 0.028218, 'loss_word': 0.038255}\n",
      "   27 | 0.000082 | 160640/160735 | 6.8925 | 9.2161 |||"
     ]
    },
    {
     "name": "stderr",
     "output_type": "stream",
     "text": [
      "\r",
      "  0%|          | 0/251 [00:00<?, ?it/s]"
     ]
    },
    {
     "name": "stdout",
     "output_type": "stream",
     "text": [
      "\n",
      "val: {'recall': 0.997166, 'recall_grapheme': 0.995674, 'recall_vowel': 0.998526, 'recall_consonant': 0.99879, 'recall_word': 0.995209, 'acc_grapheme': 0.995587, 'acc_vowel': 0.998678, 'acc_consonant': 0.998554, 'acc_word': 0.995163, 'loss_grapheme': 0.055813, 'loss_vowel': 0.038727, 'loss_consonant': 0.029452, 'loss_word': 0.037052}\n",
      "SWA>>>:\n"
     ]
    },
    {
     "name": "stderr",
     "output_type": "stream",
     "text": [
      "100%|██████████| 251/251 [01:26<00:00,  2.94it/s]\n"
     ]
    },
    {
     "name": "stdout",
     "output_type": "stream",
     "text": [
      "\n",
      "val: {'recall': 0.997949, 'recall_grapheme': 0.996859, 'recall_vowel': 0.999044, 'recall_consonant': 0.999034, 'recall_word': 0.996498, 'acc_grapheme': 0.997008, 'acc_vowel': 0.998903, 'acc_consonant': 0.998928, 'acc_word': 0.996459, 'loss_grapheme': 0.01306, 'loss_vowel': 0.006098, 'loss_consonant': 0.005131, 'loss_word': 0.014867}\n",
      "   28 | 0.000081 | 160640/160735 | 3.0009 | 8.7068 |||\n",
      "val: {'recall': 0.996876, 'recall_grapheme': 0.995209, 'recall_vowel': 0.998565, 'recall_consonant': 0.998523, 'recall_word': 0.994809, 'acc_grapheme': 0.995163, 'acc_vowel': 0.998554, 'acc_consonant': 0.998304, 'acc_word': 0.994839, 'loss_grapheme': 0.072575, 'loss_vowel': 0.049707, 'loss_consonant': 0.034532, 'loss_word': 0.048046}\n",
      "   29 | 0.000079 | 160640/160735 | 2.7516 | 9.3475 |||\n",
      "val: {'recall': 0.99648, 'recall_grapheme': 0.994482, 'recall_vowel': 0.998183, 'recall_consonant': 0.998773, 'recall_word': 0.994156, 'acc_grapheme': 0.994814, 'acc_vowel': 0.998304, 'acc_consonant': 0.998529, 'acc_word': 0.994115, 'loss_grapheme': 0.055324, 'loss_vowel': 0.037108, 'loss_consonant': 0.025528, 'loss_word': 0.040562}\n",
      "   30 | 0.000078 | 160640/160735 | 11.0669 | 8.8887 ||\n",
      "val: {'recall': 0.996463, 'recall_grapheme': 0.994972, 'recall_vowel': 0.998505, 'recall_consonant': 0.997403, 'recall_word': 0.994755, 'acc_grapheme': 0.995138, 'acc_vowel': 0.998429, 'acc_consonant': 0.998379, 'acc_word': 0.994714, 'loss_grapheme': 0.070957, 'loss_vowel': 0.050057, 'loss_consonant': 0.035094, 'loss_word': 0.044574}\n",
      "   31 | 0.000077 | 160640/160735 | 11.1037 | 10.1026 |"
     ]
    },
    {
     "name": "stderr",
     "output_type": "stream",
     "text": [
      "\r",
      "  0%|          | 0/251 [00:00<?, ?it/s]"
     ]
    },
    {
     "name": "stdout",
     "output_type": "stream",
     "text": [
      "\n",
      "val: {'recall': 0.995878, 'recall_grapheme': 0.993621, 'recall_vowel': 0.998462, 'recall_consonant': 0.997808, 'recall_word': 0.993379, 'acc_grapheme': 0.994265, 'acc_vowel': 0.99828, 'acc_consonant': 0.997955, 'acc_word': 0.993243, 'loss_grapheme': 0.07361, 'loss_vowel': 0.051162, 'loss_consonant': 0.039372, 'loss_word': 0.048875}\n",
      "SWA>>>:\n"
     ]
    },
    {
     "name": "stderr",
     "output_type": "stream",
     "text": [
      "100%|██████████| 251/251 [01:26<00:00,  2.94it/s]\n"
     ]
    },
    {
     "name": "stdout",
     "output_type": "stream",
     "text": [
      "\n",
      "val: {'recall': 0.997958, 'recall_grapheme': 0.996877, 'recall_vowel': 0.999031, 'recall_consonant': 0.999048, 'recall_word': 0.996642, 'acc_grapheme': 0.996983, 'acc_vowel': 0.998878, 'acc_consonant': 0.998978, 'acc_word': 0.996634, 'loss_grapheme': 0.012878, 'loss_vowel': 0.006123, 'loss_consonant': 0.005088, 'loss_word': 0.014622}\n",
      "   32 | 0.000075 | 160640/160735 | 10.1188 | 10.2896 |\n",
      "val: {'recall': 0.996206, 'recall_grapheme': 0.994184, 'recall_vowel': 0.998406, 'recall_consonant': 0.99805, 'recall_word': 0.994384, 'acc_grapheme': 0.994764, 'acc_vowel': 0.99823, 'acc_consonant': 0.998205, 'acc_word': 0.99424, 'loss_grapheme': 0.067127, 'loss_vowel': 0.041262, 'loss_consonant': 0.031707, 'loss_word': 0.052903}\n",
      "   33 | 0.000074 | 160640/160735 | 10.7510 | 9.0113 ||\n",
      "val: {'recall': 0.997059, 'recall_grapheme': 0.995609, 'recall_vowel': 0.998302, 'recall_consonant': 0.998716, 'recall_word': 0.994906, 'acc_grapheme': 0.995487, 'acc_vowel': 0.998529, 'acc_consonant': 0.998554, 'acc_word': 0.994863, 'loss_grapheme': 0.081519, 'loss_vowel': 0.060171, 'loss_consonant': 0.041886, 'loss_word': 0.05319}\n",
      "   34 | 0.000073 | 160640/160735 | 5.9358 | 9.2631 |||\n",
      "val: {'recall': 0.996824, 'recall_grapheme': 0.995184, 'recall_vowel': 0.998548, 'recall_consonant': 0.99838, 'recall_word': 0.994404, 'acc_grapheme': 0.994988, 'acc_vowel': 0.998479, 'acc_consonant': 0.99828, 'acc_word': 0.994315, 'loss_grapheme': 0.076744, 'loss_vowel': 0.05214, 'loss_consonant': 0.038925, 'loss_word': 0.052814}\n",
      "   35 | 0.000071 | 160640/160735 | 2.6247 | 8.6681 |||"
     ]
    },
    {
     "name": "stderr",
     "output_type": "stream",
     "text": [
      "\r",
      "  0%|          | 0/251 [00:00<?, ?it/s]"
     ]
    },
    {
     "name": "stdout",
     "output_type": "stream",
     "text": [
      "\n",
      "val: {'recall': 0.997405, 'recall_grapheme': 0.996084, 'recall_vowel': 0.998628, 'recall_consonant': 0.998826, 'recall_word': 0.995534, 'acc_grapheme': 0.996085, 'acc_vowel': 0.998604, 'acc_consonant': 0.998629, 'acc_word': 0.995462, 'loss_grapheme': 0.040426, 'loss_vowel': 0.025269, 'loss_consonant': 0.020582, 'loss_word': 0.028131}\n",
      "SWA>>>:\n"
     ]
    },
    {
     "name": "stderr",
     "output_type": "stream",
     "text": [
      "100%|██████████| 251/251 [01:26<00:00,  2.99it/s]\n"
     ]
    },
    {
     "name": "stdout",
     "output_type": "stream",
     "text": [
      "\n",
      "val: {'recall': 0.997847, 'recall_grapheme': 0.996747, 'recall_vowel': 0.998923, 'recall_consonant': 0.998973, 'recall_word': 0.996515, 'acc_grapheme': 0.996983, 'acc_vowel': 0.998828, 'acc_consonant': 0.998928, 'acc_word': 0.996459, 'loss_grapheme': 0.012444, 'loss_vowel': 0.005792, 'loss_consonant': 0.004789, 'loss_word': 0.014392}\n",
      "   36 | 0.000070 | 160640/160735 | 2.4591 | 9.5849 ||\n",
      "val: {'recall': 0.997051, 'recall_grapheme': 0.99551, 'recall_vowel': 0.998442, 'recall_consonant': 0.998743, 'recall_word': 0.994736, 'acc_grapheme': 0.995312, 'acc_vowel': 0.998429, 'acc_consonant': 0.998529, 'acc_word': 0.994664, 'loss_grapheme': 0.058091, 'loss_vowel': 0.039995, 'loss_consonant': 0.030726, 'loss_word': 0.038259}\n",
      "   37 | 0.000068 | 160640/160735 | 17.0201 | 9.0888 ||\n",
      "val: {'recall': 0.996949, 'recall_grapheme': 0.995763, 'recall_vowel': 0.998537, 'recall_consonant': 0.997732, 'recall_word': 0.994914, 'acc_grapheme': 0.995512, 'acc_vowel': 0.998479, 'acc_consonant': 0.998604, 'acc_word': 0.994814, 'loss_grapheme': 0.077722, 'loss_vowel': 0.052659, 'loss_consonant': 0.039194, 'loss_word': 0.05046}\n",
      "   38 | 0.000067 | 160640/160735 | 2.4074 | 8.9806 |||\n",
      "val: {'recall': 0.996733, 'recall_grapheme': 0.995018, 'recall_vowel': 0.998639, 'recall_consonant': 0.998259, 'recall_word': 0.994479, 'acc_grapheme': 0.994913, 'acc_vowel': 0.998504, 'acc_consonant': 0.998354, 'acc_word': 0.99439, 'loss_grapheme': 0.064055, 'loss_vowel': 0.040935, 'loss_consonant': 0.031582, 'loss_word': 0.041632}\n",
      "   39 | 0.000065 | 160640/160735 | 10.8676 | 8.6267 ||"
     ]
    },
    {
     "name": "stderr",
     "output_type": "stream",
     "text": [
      "\r",
      "  0%|          | 0/251 [00:00<?, ?it/s]"
     ]
    },
    {
     "name": "stdout",
     "output_type": "stream",
     "text": [
      "\n",
      "val: {'recall': 0.997206, 'recall_grapheme': 0.996034, 'recall_vowel': 0.998674, 'recall_consonant': 0.998083, 'recall_word': 0.995191, 'acc_grapheme': 0.995811, 'acc_vowel': 0.998479, 'acc_consonant': 0.998479, 'acc_word': 0.995088, 'loss_grapheme': 0.046189, 'loss_vowel': 0.031545, 'loss_consonant': 0.023767, 'loss_word': 0.031001}\n",
      "SWA>>>:\n"
     ]
    },
    {
     "name": "stderr",
     "output_type": "stream",
     "text": [
      "100%|██████████| 251/251 [01:26<00:00,  2.99it/s]\n"
     ]
    },
    {
     "name": "stdout",
     "output_type": "stream",
     "text": [
      "\n",
      "val: {'recall': 0.997987, 'recall_grapheme': 0.996987, 'recall_vowel': 0.998986, 'recall_consonant': 0.99899, 'recall_word': 0.996622, 'acc_grapheme': 0.997133, 'acc_vowel': 0.998928, 'acc_consonant': 0.999003, 'acc_word': 0.996584, 'loss_grapheme': 0.012166, 'loss_vowel': 0.005628, 'loss_consonant': 0.004617, 'loss_word': 0.014131}\n",
      "   40 | 0.000064 | 160640/160735 | 17.0889 | 9.2321 ||\n",
      "val: {'recall': 0.997512, 'recall_grapheme': 0.996708, 'recall_vowel': 0.998819, 'recall_consonant': 0.997813, 'recall_word': 0.995937, 'acc_grapheme': 0.996559, 'acc_vowel': 0.998678, 'acc_consonant': 0.998678, 'acc_word': 0.995911, 'loss_grapheme': 0.035443, 'loss_vowel': 0.024669, 'loss_consonant': 0.018746, 'loss_word': 0.024647}\n",
      "   41 | 0.000062 | 160640/160735 | 7.8566 | 9.4581 |||\n",
      "val: {'recall': 0.99641, 'recall_grapheme': 0.994994, 'recall_vowel': 0.998443, 'recall_consonant': 0.997209, 'recall_word': 0.994488, 'acc_grapheme': 0.994963, 'acc_vowel': 0.998454, 'acc_consonant': 0.998429, 'acc_word': 0.99439, 'loss_grapheme': 0.06134, 'loss_vowel': 0.037556, 'loss_consonant': 0.029721, 'loss_word': 0.041023}\n",
      "   42 | 0.000061 | 160640/160735 | 2.8893 | 9.4877 |||\n",
      "val: {'recall': 0.996764, 'recall_grapheme': 0.995706, 'recall_vowel': 0.998606, 'recall_consonant': 0.997039, 'recall_word': 0.995186, 'acc_grapheme': 0.995562, 'acc_vowel': 0.998479, 'acc_consonant': 0.998479, 'acc_word': 0.995113, 'loss_grapheme': 0.062713, 'loss_vowel': 0.041252, 'loss_consonant': 0.030595, 'loss_word': 0.040557}\n",
      "   43 | 0.000059 | 160640/160735 | 2.2778 | 8.8193 |||"
     ]
    },
    {
     "name": "stderr",
     "output_type": "stream",
     "text": [
      "\r",
      "  0%|          | 0/251 [00:00<?, ?it/s]"
     ]
    },
    {
     "name": "stdout",
     "output_type": "stream",
     "text": [
      "\n",
      "val: {'recall': 0.996923, 'recall_grapheme': 0.995416, 'recall_vowel': 0.99868, 'recall_consonant': 0.998182, 'recall_word': 0.994917, 'acc_grapheme': 0.995711, 'acc_vowel': 0.998629, 'acc_consonant': 0.998654, 'acc_word': 0.994863, 'loss_grapheme': 0.036051, 'loss_vowel': 0.025018, 'loss_consonant': 0.019061, 'loss_word': 0.026532}\n",
      "SWA>>>:\n"
     ]
    },
    {
     "name": "stderr",
     "output_type": "stream",
     "text": [
      "100%|██████████| 251/251 [01:26<00:00,  2.99it/s]\n"
     ]
    },
    {
     "name": "stdout",
     "output_type": "stream",
     "text": [
      "\n",
      "val: {'recall': 0.997947, 'recall_grapheme': 0.996928, 'recall_vowel': 0.998948, 'recall_consonant': 0.998984, 'recall_word': 0.996735, 'acc_grapheme': 0.997108, 'acc_vowel': 0.998878, 'acc_consonant': 0.998978, 'acc_word': 0.996709, 'loss_grapheme': 0.012128, 'loss_vowel': 0.00565, 'loss_consonant': 0.00461, 'loss_word': 0.014042}\n",
      "   44 | 0.000058 | 160640/160735 | 2.3755 | 8.5588 |||\n",
      "val: {'recall': 0.996975, 'recall_grapheme': 0.995373, 'recall_vowel': 0.998651, 'recall_consonant': 0.998501, 'recall_word': 0.994901, 'acc_grapheme': 0.995262, 'acc_vowel': 0.998554, 'acc_consonant': 0.998604, 'acc_word': 0.994814, 'loss_grapheme': 0.057497, 'loss_vowel': 0.038481, 'loss_consonant': 0.029004, 'loss_word': 0.03859}\n",
      "   45 | 0.000056 | 160640/160735 | 20.9787 | 9.3497 ||\n",
      "val: {'recall': 0.995576, 'recall_grapheme': 0.993757, 'recall_vowel': 0.998092, 'recall_consonant': 0.996695, 'recall_word': 0.992603, 'acc_grapheme': 0.993417, 'acc_vowel': 0.998055, 'acc_consonant': 0.99798, 'acc_word': 0.992495, 'loss_grapheme': 0.064153, 'loss_vowel': 0.038115, 'loss_consonant': 0.031569, 'loss_word': 0.054519}\n",
      "   46 | 0.000055 | 160640/160735 | 11.1138 | 9.2417 |\n",
      "val: {'recall': 0.996764, 'recall_grapheme': 0.99499, 'recall_vowel': 0.998686, 'recall_consonant': 0.998389, 'recall_word': 0.99419, 'acc_grapheme': 0.994789, 'acc_vowel': 0.998529, 'acc_consonant': 0.998554, 'acc_word': 0.994041, 'loss_grapheme': 0.07786, 'loss_vowel': 0.049741, 'loss_consonant': 0.036872, 'loss_word': 0.053375}\n",
      "   47 | 0.000053 | 160640/160735 | 14.8232 | 8.9709 ||"
     ]
    },
    {
     "name": "stderr",
     "output_type": "stream",
     "text": [
      "\r",
      "  0%|          | 0/251 [00:00<?, ?it/s]"
     ]
    },
    {
     "name": "stdout",
     "output_type": "stream",
     "text": [
      "\n",
      "val: {'recall': 0.997584, 'recall_grapheme': 0.996608, 'recall_vowel': 0.998616, 'recall_consonant': 0.998502, 'recall_word': 0.995698, 'acc_grapheme': 0.99626, 'acc_vowel': 0.998554, 'acc_consonant': 0.998629, 'acc_word': 0.995612, 'loss_grapheme': 0.052856, 'loss_vowel': 0.03688, 'loss_consonant': 0.028794, 'loss_word': 0.033856}\n",
      "SWA>>>:\n"
     ]
    },
    {
     "name": "stderr",
     "output_type": "stream",
     "text": [
      "100%|██████████| 251/251 [01:27<00:00,  2.96it/s]\n"
     ]
    },
    {
     "name": "stdout",
     "output_type": "stream",
     "text": [
      "\n",
      "val: {'recall': 0.997968, 'recall_grapheme': 0.997015, 'recall_vowel': 0.998852, 'recall_consonant': 0.99899, 'recall_word': 0.99668, 'acc_grapheme': 0.997133, 'acc_vowel': 0.998878, 'acc_consonant': 0.999003, 'acc_word': 0.996659, 'loss_grapheme': 0.01199, 'loss_vowel': 0.005575, 'loss_consonant': 0.004537, 'loss_word': 0.013973}\n",
      "   48 | 0.000052 | 160640/160735 | 2.3749 | 8.9976 |||\n",
      "val: {'recall': 0.997627, 'recall_grapheme': 0.996359, 'recall_vowel': 0.998783, 'recall_consonant': 0.999007, 'recall_word': 0.995528, 'acc_grapheme': 0.99626, 'acc_vowel': 0.998629, 'acc_consonant': 0.998778, 'acc_word': 0.995512, 'loss_grapheme': 0.047333, 'loss_vowel': 0.033324, 'loss_consonant': 0.025439, 'loss_word': 0.030223}\n",
      "   49 | 0.000050 | 160640/160735 | 20.2220 | 8.9018 ||\n",
      "val: {'recall': 0.997156, 'recall_grapheme': 0.995824, 'recall_vowel': 0.998549, 'recall_consonant': 0.998427, 'recall_word': 0.995003, 'acc_grapheme': 0.995861, 'acc_vowel': 0.998479, 'acc_consonant': 0.998629, 'acc_word': 0.994988, 'loss_grapheme': 0.042712, 'loss_vowel': 0.026388, 'loss_consonant': 0.020726, 'loss_word': 0.031784}\n",
      "   50 | 0.000048 | 160640/160735 | 15.7975 | 8.5876 ||\n",
      "val: {'recall': 0.997446, 'recall_grapheme': 0.996232, 'recall_vowel': 0.998856, 'recall_consonant': 0.998463, 'recall_word': 0.995912, 'acc_grapheme': 0.99631, 'acc_vowel': 0.998678, 'acc_consonant': 0.998753, 'acc_word': 0.995911, 'loss_grapheme': 0.04751, 'loss_vowel': 0.033216, 'loss_consonant': 0.023768, 'loss_word': 0.031112}\n",
      "   51 | 0.000047 | 160640/160735 | 9.0128 | 8.9981 |||"
     ]
    },
    {
     "name": "stderr",
     "output_type": "stream",
     "text": [
      "\r",
      "  0%|          | 0/251 [00:00<?, ?it/s]"
     ]
    },
    {
     "name": "stdout",
     "output_type": "stream",
     "text": [
      "\n",
      "val: {'recall': 0.996258, 'recall_grapheme': 0.994695, 'recall_vowel': 0.998617, 'recall_consonant': 0.997027, 'recall_word': 0.994127, 'acc_grapheme': 0.994639, 'acc_vowel': 0.998404, 'acc_consonant': 0.99823, 'acc_word': 0.994066, 'loss_grapheme': 0.071948, 'loss_vowel': 0.039318, 'loss_consonant': 0.032135, 'loss_word': 0.057442}\n",
      "SWA>>>:\n"
     ]
    },
    {
     "name": "stderr",
     "output_type": "stream",
     "text": [
      "100%|██████████| 251/251 [01:26<00:00,  2.91it/s]\n"
     ]
    },
    {
     "name": "stdout",
     "output_type": "stream",
     "text": [
      "\n",
      "val: {'recall': 0.998016, 'recall_grapheme': 0.997124, 'recall_vowel': 0.998858, 'recall_consonant': 0.998959, 'recall_word': 0.996751, 'acc_grapheme': 0.997182, 'acc_vowel': 0.998878, 'acc_consonant': 0.998978, 'acc_word': 0.996709, 'loss_grapheme': 0.012, 'loss_vowel': 0.005573, 'loss_consonant': 0.004552, 'loss_word': 0.01395}\n",
      "###>>>>> saved ./model4-ckps/se_resnext50_32x4d/model4_se_resnext50_fold4_224.pth\n",
      "   52 | 0.000045 | 160640/160735 | 20.0081 | 9.2368 |\n",
      "val: {'recall': 0.997487, 'recall_grapheme': 0.996309, 'recall_vowel': 0.998962, 'recall_consonant': 0.998367, 'recall_word': 0.995203, 'acc_grapheme': 0.995836, 'acc_vowel': 0.998654, 'acc_consonant': 0.998604, 'acc_word': 0.995138, 'loss_grapheme': 0.046585, 'loss_vowel': 0.029439, 'loss_consonant': 0.023378, 'loss_word': 0.032892}\n",
      "   53 | 0.000044 | 160640/160735 | 4.9275 | 9.0875 |||\n",
      "val: {'recall': 0.997215, 'recall_grapheme': 0.995551, 'recall_vowel': 0.998968, 'recall_consonant': 0.998789, 'recall_word': 0.995171, 'acc_grapheme': 0.995462, 'acc_vowel': 0.998604, 'acc_consonant': 0.998529, 'acc_word': 0.995063, 'loss_grapheme': 0.057652, 'loss_vowel': 0.036213, 'loss_consonant': 0.027111, 'loss_word': 0.039551}\n",
      "   54 | 0.000042 | 160640/160735 | 2.4205 | 9.6498 |||\n",
      "val: {'recall': 0.997408, 'recall_grapheme': 0.996047, 'recall_vowel': 0.99873, 'recall_consonant': 0.99881, 'recall_word': 0.995286, 'acc_grapheme': 0.995936, 'acc_vowel': 0.998604, 'acc_consonant': 0.998678, 'acc_word': 0.995188, 'loss_grapheme': 0.028636, 'loss_vowel': 0.01725, 'loss_consonant': 0.013646, 'loss_word': 0.022801}\n",
      "   55 | 0.000041 | 160640/160735 | 10.1007 | 8.7695 ||"
     ]
    },
    {
     "name": "stderr",
     "output_type": "stream",
     "text": [
      "\r",
      "  0%|          | 0/251 [00:00<?, ?it/s]"
     ]
    },
    {
     "name": "stdout",
     "output_type": "stream",
     "text": [
      "\n",
      "val: {'recall': 0.997244, 'recall_grapheme': 0.996072, 'recall_vowel': 0.998603, 'recall_consonant': 0.998227, 'recall_word': 0.995128, 'acc_grapheme': 0.995786, 'acc_vowel': 0.998629, 'acc_consonant': 0.998504, 'acc_word': 0.995088, 'loss_grapheme': 0.036971, 'loss_vowel': 0.022222, 'loss_consonant': 0.017496, 'loss_word': 0.026749}\n",
      "SWA>>>:\n"
     ]
    },
    {
     "name": "stderr",
     "output_type": "stream",
     "text": [
      "100%|██████████| 251/251 [01:26<00:00,  2.81it/s]\n"
     ]
    },
    {
     "name": "stdout",
     "output_type": "stream",
     "text": [
      "\n",
      "val: {'recall': 0.998065, 'recall_grapheme': 0.997172, 'recall_vowel': 0.998924, 'recall_consonant': 0.99899, 'recall_word': 0.996666, 'acc_grapheme': 0.997182, 'acc_vowel': 0.998828, 'acc_consonant': 0.999003, 'acc_word': 0.996634, 'loss_grapheme': 0.012032, 'loss_vowel': 0.005597, 'loss_consonant': 0.004496, 'loss_word': 0.013968}\n",
      "###>>>>> saved ./model4-ckps/se_resnext50_32x4d/model4_se_resnext50_fold4_224.pth\n",
      "   56 | 0.000039 | 160640/160735 | 2.4012 | 9.0481 |||\n",
      "val: {'recall': 0.996776, 'recall_grapheme': 0.994924, 'recall_vowel': 0.998905, 'recall_consonant': 0.998353, 'recall_word': 0.994663, 'acc_grapheme': 0.995262, 'acc_vowel': 0.998629, 'acc_consonant': 0.998554, 'acc_word': 0.994564, 'loss_grapheme': 0.067465, 'loss_vowel': 0.042019, 'loss_consonant': 0.031543, 'loss_word': 0.043291}\n",
      "   57 | 0.000038 | 160640/160735 | 12.1311 | 9.5808 ||\n",
      "val: {'recall': 0.996007, 'recall_grapheme': 0.993806, 'recall_vowel': 0.998231, 'recall_consonant': 0.998187, 'recall_word': 0.993946, 'acc_grapheme': 0.99429, 'acc_vowel': 0.99798, 'acc_consonant': 0.998005, 'acc_word': 0.993816, 'loss_grapheme': 0.108259, 'loss_vowel': 0.05876, 'loss_consonant': 0.042543, 'loss_word': 0.064642}\n",
      "   58 | 0.000036 | 160640/160735 | 19.9818 | 8.7020 ||\n",
      "val: {'recall': 0.997015, 'recall_grapheme': 0.995306, 'recall_vowel': 0.998551, 'recall_consonant': 0.998898, 'recall_word': 0.994619, 'acc_grapheme': 0.995337, 'acc_vowel': 0.998429, 'acc_consonant': 0.998579, 'acc_word': 0.994489, 'loss_grapheme': 0.060146, 'loss_vowel': 0.039164, 'loss_consonant': 0.030107, 'loss_word': 0.039071}\n",
      "   59 | 0.000035 | 160640/160735 | 15.7186 | 8.8500 ||"
     ]
    },
    {
     "name": "stderr",
     "output_type": "stream",
     "text": [
      "\r",
      "  0%|          | 0/251 [00:00<?, ?it/s]"
     ]
    },
    {
     "name": "stdout",
     "output_type": "stream",
     "text": [
      "\n",
      "val: {'recall': 0.996647, 'recall_grapheme': 0.994538, 'recall_vowel': 0.998715, 'recall_consonant': 0.998795, 'recall_word': 0.993757, 'acc_grapheme': 0.994415, 'acc_vowel': 0.998429, 'acc_consonant': 0.998379, 'acc_word': 0.993642, 'loss_grapheme': 0.090655, 'loss_vowel': 0.056546, 'loss_consonant': 0.041791, 'loss_word': 0.058677}\n",
      "SWA>>>:\n"
     ]
    },
    {
     "name": "stderr",
     "output_type": "stream",
     "text": [
      "100%|██████████| 251/251 [01:26<00:00,  2.98it/s]\n"
     ]
    },
    {
     "name": "stdout",
     "output_type": "stream",
     "text": [
      "\n",
      "val: {'recall': 0.998025, 'recall_grapheme': 0.997108, 'recall_vowel': 0.998918, 'recall_consonant': 0.998965, 'recall_word': 0.996712, 'acc_grapheme': 0.997282, 'acc_vowel': 0.998828, 'acc_consonant': 0.999003, 'acc_word': 0.996684, 'loss_grapheme': 0.011892, 'loss_vowel': 0.005579, 'loss_consonant': 0.004442, 'loss_word': 0.013836}\n",
      "   60 | 0.000033 | 160640/160735 | 15.3656 | 8.1899 ||\n",
      "val: {'recall': 0.997484, 'recall_grapheme': 0.996054, 'recall_vowel': 0.998721, 'recall_consonant': 0.999108, 'recall_word': 0.995791, 'acc_grapheme': 0.99626, 'acc_vowel': 0.998753, 'acc_consonant': 0.998903, 'acc_word': 0.995736, 'loss_grapheme': 0.041781, 'loss_vowel': 0.030703, 'loss_consonant': 0.022011, 'loss_word': 0.027359}\n",
      "   61 | 0.000032 | 160640/160735 | 6.4781 | 9.0502 |||\n",
      "val: {'recall': 0.996754, 'recall_grapheme': 0.994647, 'recall_vowel': 0.998871, 'recall_consonant': 0.998851, 'recall_word': 0.994159, 'acc_grapheme': 0.994664, 'acc_vowel': 0.998429, 'acc_consonant': 0.998304, 'acc_word': 0.993991, 'loss_grapheme': 0.08409, 'loss_vowel': 0.048296, 'loss_consonant': 0.0363, 'loss_word': 0.057434}\n",
      "   62 | 0.000030 | 160640/160735 | 2.2369 | 9.0765 |||\n",
      "val: {'recall': 0.997333, 'recall_grapheme': 0.995811, 'recall_vowel': 0.998714, 'recall_consonant': 0.998996, 'recall_word': 0.995171, 'acc_grapheme': 0.995761, 'acc_vowel': 0.998579, 'acc_consonant': 0.998753, 'acc_word': 0.995113, 'loss_grapheme': 0.053354, 'loss_vowel': 0.035891, 'loss_consonant': 0.026257, 'loss_word': 0.035048}\n",
      "   63 | 0.000029 | 160640/160735 | 8.2373 | 8.6280 |||"
     ]
    },
    {
     "name": "stderr",
     "output_type": "stream",
     "text": [
      "\r",
      "  0%|          | 0/251 [00:00<?, ?it/s]"
     ]
    },
    {
     "name": "stdout",
     "output_type": "stream",
     "text": [
      "\n",
      "val: {'recall': 0.997016, 'recall_grapheme': 0.995294, 'recall_vowel': 0.998634, 'recall_consonant': 0.998842, 'recall_word': 0.99488, 'acc_grapheme': 0.995512, 'acc_vowel': 0.998579, 'acc_consonant': 0.998554, 'acc_word': 0.994839, 'loss_grapheme': 0.050531, 'loss_vowel': 0.030571, 'loss_consonant': 0.024269, 'loss_word': 0.036587}\n",
      "SWA>>>:\n"
     ]
    },
    {
     "name": "stderr",
     "output_type": "stream",
     "text": [
      "100%|██████████| 251/251 [01:26<00:00,  2.96it/s]\n"
     ]
    },
    {
     "name": "stdout",
     "output_type": "stream",
     "text": [
      "\n",
      "val: {'recall': 0.99802, 'recall_grapheme': 0.997051, 'recall_vowel': 0.998918, 'recall_consonant': 0.999062, 'recall_word': 0.996658, 'acc_grapheme': 0.997108, 'acc_vowel': 0.998828, 'acc_consonant': 0.999028, 'acc_word': 0.996634, 'loss_grapheme': 0.011997, 'loss_vowel': 0.005654, 'loss_consonant': 0.004505, 'loss_word': 0.013893}\n",
      "   64 | 0.000027 | 160640/160735 | 21.8352 | 9.1280 ||\n",
      "val: {'recall': 0.997013, 'recall_grapheme': 0.995243, 'recall_vowel': 0.998672, 'recall_consonant': 0.998893, 'recall_word': 0.994905, 'acc_grapheme': 0.995188, 'acc_vowel': 0.998529, 'acc_consonant': 0.998654, 'acc_word': 0.994814, 'loss_grapheme': 0.060236, 'loss_vowel': 0.036134, 'loss_consonant': 0.028753, 'loss_word': 0.039993}\n",
      "   65 | 0.000026 | 160640/160735 | 11.2755 | 9.1909 ||\n",
      "val: {'recall': 0.997129, 'recall_grapheme': 0.995635, 'recall_vowel': 0.99866, 'recall_consonant': 0.998587, 'recall_word': 0.995194, 'acc_grapheme': 0.995636, 'acc_vowel': 0.998554, 'acc_consonant': 0.998778, 'acc_word': 0.995063, 'loss_grapheme': 0.058647, 'loss_vowel': 0.037971, 'loss_consonant': 0.029799, 'loss_word': 0.038241}\n",
      "   66 | 0.000025 | 160640/160735 | 7.6136 | 8.2275 |||\n",
      "val: {'recall': 0.997286, 'recall_grapheme': 0.996086, 'recall_vowel': 0.998579, 'recall_consonant': 0.998392, 'recall_word': 0.99488, 'acc_grapheme': 0.995686, 'acc_vowel': 0.998554, 'acc_consonant': 0.998629, 'acc_word': 0.994739, 'loss_grapheme': 0.05219, 'loss_vowel': 0.032264, 'loss_consonant': 0.025293, 'loss_word': 0.036565}\n",
      "   67 | 0.000023 | 160640/160735 | 7.6662 | 9.3353 |||"
     ]
    },
    {
     "name": "stderr",
     "output_type": "stream",
     "text": [
      "\r",
      "  0%|          | 0/251 [00:00<?, ?it/s]"
     ]
    },
    {
     "name": "stdout",
     "output_type": "stream",
     "text": [
      "\n",
      "val: {'recall': 0.996966, 'recall_grapheme': 0.995301, 'recall_vowel': 0.998901, 'recall_consonant': 0.998362, 'recall_word': 0.994668, 'acc_grapheme': 0.995213, 'acc_vowel': 0.998604, 'acc_consonant': 0.998479, 'acc_word': 0.994465, 'loss_grapheme': 0.053789, 'loss_vowel': 0.031313, 'loss_consonant': 0.024193, 'loss_word': 0.038026}\n",
      "SWA>>>:\n"
     ]
    },
    {
     "name": "stderr",
     "output_type": "stream",
     "text": [
      "100%|██████████| 251/251 [01:26<00:00,  2.98it/s]\n"
     ]
    },
    {
     "name": "stdout",
     "output_type": "stream",
     "text": [
      "\n",
      "val: {'recall': 0.997974, 'recall_grapheme': 0.997068, 'recall_vowel': 0.998794, 'recall_consonant': 0.998965, 'recall_word': 0.996688, 'acc_grapheme': 0.997157, 'acc_vowel': 0.998803, 'acc_consonant': 0.999003, 'acc_word': 0.996659, 'loss_grapheme': 0.011955, 'loss_vowel': 0.00564, 'loss_consonant': 0.004495, 'loss_word': 0.013896}\n",
      "   68 | 0.000022 | 160640/160735 | 1.9978 | 8.9245 |||\n",
      "val: {'recall': 0.997038, 'recall_grapheme': 0.995451, 'recall_vowel': 0.998845, 'recall_consonant': 0.998405, 'recall_word': 0.9948, 'acc_grapheme': 0.995487, 'acc_vowel': 0.998554, 'acc_consonant': 0.998554, 'acc_word': 0.994639, 'loss_grapheme': 0.044183, 'loss_vowel': 0.024446, 'loss_consonant': 0.020402, 'loss_word': 0.031456}\n",
      "   69 | 0.000021 | 160640/160735 | 21.1337 | 8.4095 ||\n",
      "val: {'recall': 0.996927, 'recall_grapheme': 0.995515, 'recall_vowel': 0.998414, 'recall_consonant': 0.998264, 'recall_word': 0.994736, 'acc_grapheme': 0.995213, 'acc_vowel': 0.998354, 'acc_consonant': 0.998529, 'acc_word': 0.994589, 'loss_grapheme': 0.049525, 'loss_vowel': 0.027836, 'loss_consonant': 0.023422, 'loss_word': 0.038369}\n",
      "   70 | 0.000019 | 160640/160735 | 20.1163 | 8.8851 ||\n",
      "val: {'recall': 0.9978, 'recall_grapheme': 0.996927, 'recall_vowel': 0.998926, 'recall_consonant': 0.998419, 'recall_word': 0.99603, 'acc_grapheme': 0.996459, 'acc_vowel': 0.998728, 'acc_consonant': 0.998828, 'acc_word': 0.995986, 'loss_grapheme': 0.038109, 'loss_vowel': 0.026575, 'loss_consonant': 0.019645, 'loss_word': 0.026023}\n",
      "   71 | 0.000018 | 160640/160735 | 11.8021 | 8.9410 ||"
     ]
    },
    {
     "name": "stderr",
     "output_type": "stream",
     "text": [
      "\r",
      "  0%|          | 0/251 [00:00<?, ?it/s]"
     ]
    },
    {
     "name": "stdout",
     "output_type": "stream",
     "text": [
      "\n",
      "val: {'recall': 0.997463, 'recall_grapheme': 0.996272, 'recall_vowel': 0.998771, 'recall_consonant': 0.998537, 'recall_word': 0.99553, 'acc_grapheme': 0.99601, 'acc_vowel': 0.998654, 'acc_consonant': 0.998778, 'acc_word': 0.995412, 'loss_grapheme': 0.050821, 'loss_vowel': 0.034892, 'loss_consonant': 0.026241, 'loss_word': 0.032325}\n",
      "SWA>>>:\n"
     ]
    },
    {
     "name": "stderr",
     "output_type": "stream",
     "text": [
      "100%|██████████| 251/251 [01:26<00:00,  2.97it/s]\n"
     ]
    },
    {
     "name": "stdout",
     "output_type": "stream",
     "text": [
      "\n",
      "val: {'recall': 0.998052, 'recall_grapheme': 0.9971, 'recall_vowel': 0.998946, 'recall_consonant': 0.999062, 'recall_word': 0.996703, 'acc_grapheme': 0.997182, 'acc_vowel': 0.998853, 'acc_consonant': 0.999028, 'acc_word': 0.996684, 'loss_grapheme': 0.011912, 'loss_vowel': 0.005565, 'loss_consonant': 0.004457, 'loss_word': 0.01384}\n",
      "   72 | 0.000017 | 160640/160735 | 2.0109 | 8.9994 |||\n",
      "val: {'recall': 0.997586, 'recall_grapheme': 0.996245, 'recall_vowel': 0.99888, 'recall_consonant': 0.998975, 'recall_word': 0.995973, 'acc_grapheme': 0.996335, 'acc_vowel': 0.998803, 'acc_consonant': 0.998828, 'acc_word': 0.995886, 'loss_grapheme': 0.050827, 'loss_vowel': 0.033973, 'loss_consonant': 0.025404, 'loss_word': 0.031093}\n",
      "   73 | 0.000016 | 160640/160735 | 7.4387 | 8.8468 |||\n",
      "val: {'recall': 0.996989, 'recall_grapheme': 0.995392, 'recall_vowel': 0.99878, 'recall_consonant': 0.998391, 'recall_word': 0.995023, 'acc_grapheme': 0.995387, 'acc_vowel': 0.998604, 'acc_consonant': 0.998678, 'acc_word': 0.994913, 'loss_grapheme': 0.070664, 'loss_vowel': 0.044417, 'loss_consonant': 0.033055, 'loss_word': 0.047374}\n",
      "   74 | 0.000015 | 160640/160735 | 2.1403 | 8.8592 |||\n",
      "val: {'recall': 0.997188, 'recall_grapheme': 0.995704, 'recall_vowel': 0.998804, 'recall_consonant': 0.998542, 'recall_word': 0.995167, 'acc_grapheme': 0.995562, 'acc_vowel': 0.998703, 'acc_consonant': 0.998703, 'acc_word': 0.995063, 'loss_grapheme': 0.042593, 'loss_vowel': 0.025321, 'loss_consonant': 0.020188, 'loss_word': 0.030365}\n",
      "   75 | 0.000014 | 160640/160735 | 8.5010 | 8.8427 |||"
     ]
    },
    {
     "name": "stderr",
     "output_type": "stream",
     "text": [
      "\r",
      "  0%|          | 0/251 [00:00<?, ?it/s]"
     ]
    },
    {
     "name": "stdout",
     "output_type": "stream",
     "text": [
      "\n",
      "val: {'recall': 0.997394, 'recall_grapheme': 0.996177, 'recall_vowel': 0.998738, 'recall_consonant': 0.998485, 'recall_word': 0.995365, 'acc_grapheme': 0.995986, 'acc_vowel': 0.998604, 'acc_consonant': 0.998803, 'acc_word': 0.995238, 'loss_grapheme': 0.050408, 'loss_vowel': 0.032651, 'loss_consonant': 0.024473, 'loss_word': 0.033021}\n",
      "SWA>>>:\n"
     ]
    },
    {
     "name": "stderr",
     "output_type": "stream",
     "text": [
      "100%|██████████| 251/251 [01:27<00:00,  2.97it/s]\n"
     ]
    },
    {
     "name": "stdout",
     "output_type": "stream",
     "text": [
      "\n",
      "val: {'recall': 0.998044, 'recall_grapheme': 0.997128, 'recall_vowel': 0.998889, 'recall_consonant': 0.999031, 'recall_word': 0.996583, 'acc_grapheme': 0.997207, 'acc_vowel': 0.998803, 'acc_consonant': 0.999003, 'acc_word': 0.996559, 'loss_grapheme': 0.011925, 'loss_vowel': 0.00564, 'loss_consonant': 0.004484, 'loss_word': 0.013817}\n",
      "   76 | 0.000012 | 160640/160735 | 1.8405 | 8.8291 |||\n",
      "val: {'recall': 0.997465, 'recall_grapheme': 0.996347, 'recall_vowel': 0.998739, 'recall_consonant': 0.998428, 'recall_word': 0.995685, 'acc_grapheme': 0.996185, 'acc_vowel': 0.998629, 'acc_consonant': 0.998828, 'acc_word': 0.995636, 'loss_grapheme': 0.039625, 'loss_vowel': 0.028298, 'loss_consonant': 0.020769, 'loss_word': 0.026639}\n",
      "   77 | 0.000011 | 160640/160735 | 9.6821 | 9.0363 |||\n",
      "val: {'recall': 0.9973, 'recall_grapheme': 0.996012, 'recall_vowel': 0.998773, 'recall_consonant': 0.998404, 'recall_word': 0.995172, 'acc_grapheme': 0.995886, 'acc_vowel': 0.998678, 'acc_consonant': 0.998728, 'acc_word': 0.995038, 'loss_grapheme': 0.057538, 'loss_vowel': 0.034168, 'loss_consonant': 0.025667, 'loss_word': 0.040158}\n",
      "   78 | 0.000010 | 160640/160735 | 11.5792 | 8.5832 |\n",
      "val: {'recall': 0.996394, 'recall_grapheme': 0.994613, 'recall_vowel': 0.998214, 'recall_consonant': 0.998134, 'recall_word': 0.994192, 'acc_grapheme': 0.994814, 'acc_vowel': 0.99828, 'acc_consonant': 0.998255, 'acc_word': 0.994041, 'loss_grapheme': 0.096892, 'loss_vowel': 0.052126, 'loss_consonant': 0.0383, 'loss_word': 0.057486}\n",
      "   79 | 0.000010 | 160640/160735 | 21.9437 | 8.2446 ||"
     ]
    },
    {
     "name": "stderr",
     "output_type": "stream",
     "text": [
      "\r",
      "  0%|          | 0/251 [00:00<?, ?it/s]"
     ]
    },
    {
     "name": "stdout",
     "output_type": "stream",
     "text": [
      "\n",
      "val: {'recall': 0.997681, 'recall_grapheme': 0.996498, 'recall_vowel': 0.998694, 'recall_consonant': 0.999035, 'recall_word': 0.9959, 'acc_grapheme': 0.996384, 'acc_vowel': 0.998678, 'acc_consonant': 0.998853, 'acc_word': 0.995811, 'loss_grapheme': 0.035235, 'loss_vowel': 0.02512, 'loss_consonant': 0.019056, 'loss_word': 0.023799}\n",
      "SWA>>>:\n"
     ]
    },
    {
     "name": "stderr",
     "output_type": "stream",
     "text": [
      "100%|██████████| 251/251 [01:26<00:00,  2.95it/s]\n"
     ]
    },
    {
     "name": "stdout",
     "output_type": "stream",
     "text": [
      "\n",
      "val: {'recall': 0.998011, 'recall_grapheme': 0.997048, 'recall_vowel': 0.998918, 'recall_consonant': 0.999031, 'recall_word': 0.996656, 'acc_grapheme': 0.997207, 'acc_vowel': 0.998828, 'acc_consonant': 0.999003, 'acc_word': 0.996634, 'loss_grapheme': 0.011908, 'loss_vowel': 0.005572, 'loss_consonant': 0.004451, 'loss_word': 0.013828}\n",
      "   80 | 0.000009 | 160640/160735 | 2.3450 | 8.8601 |||\n",
      "val: {'recall': 0.997899, 'recall_grapheme': 0.996805, 'recall_vowel': 0.998877, 'recall_consonant': 0.999109, 'recall_word': 0.996164, 'acc_grapheme': 0.996559, 'acc_vowel': 0.998803, 'acc_consonant': 0.998953, 'acc_word': 0.996085, 'loss_grapheme': 0.054379, 'loss_vowel': 0.039566, 'loss_consonant': 0.028069, 'loss_word': 0.031889}\n",
      "   81 | 0.000008 | 160640/160735 | 1.9835 | 8.6459 |||\n",
      "val: {'recall': 0.997901, 'recall_grapheme': 0.996782, 'recall_vowel': 0.998808, 'recall_consonant': 0.999233, 'recall_word': 0.99619, 'acc_grapheme': 0.996634, 'acc_vowel': 0.998803, 'acc_consonant': 0.999077, 'acc_word': 0.996135, 'loss_grapheme': 0.040842, 'loss_vowel': 0.027611, 'loss_consonant': 0.020288, 'loss_word': 0.026552}\n",
      "   82 | 0.000007 | 160640/160735 | 1.8516 | 8.7672 ||\n",
      "val: {'recall': 0.996834, 'recall_grapheme': 0.995352, 'recall_vowel': 0.998754, 'recall_consonant': 0.997879, 'recall_word': 0.994888, 'acc_grapheme': 0.995362, 'acc_vowel': 0.998604, 'acc_consonant': 0.998504, 'acc_word': 0.994739, 'loss_grapheme': 0.083443, 'loss_vowel': 0.050922, 'loss_consonant': 0.038978, 'loss_word': 0.054421}\n",
      "   83 | 0.000006 | 160640/160735 | 2.3070 | 8.6041 |||"
     ]
    },
    {
     "name": "stderr",
     "output_type": "stream",
     "text": [
      "\r",
      "  0%|          | 0/251 [00:00<?, ?it/s]"
     ]
    },
    {
     "name": "stdout",
     "output_type": "stream",
     "text": [
      "\n",
      "val: {'recall': 0.997848, 'recall_grapheme': 0.996644, 'recall_vowel': 0.998916, 'recall_consonant': 0.999187, 'recall_word': 0.996059, 'acc_grapheme': 0.996484, 'acc_vowel': 0.998878, 'acc_consonant': 0.999052, 'acc_word': 0.995986, 'loss_grapheme': 0.025879, 'loss_vowel': 0.017047, 'loss_consonant': 0.013309, 'loss_word': 0.019901}\n",
      "SWA>>>:\n"
     ]
    },
    {
     "name": "stderr",
     "output_type": "stream",
     "text": [
      "100%|██████████| 251/251 [01:26<00:00,  2.92it/s]\n"
     ]
    },
    {
     "name": "stdout",
     "output_type": "stream",
     "text": [
      "\n",
      "val: {'recall': 0.997948, 'recall_grapheme': 0.997028, 'recall_vowel': 0.998671, 'recall_consonant': 0.999064, 'recall_word': 0.996607, 'acc_grapheme': 0.997157, 'acc_vowel': 0.998778, 'acc_consonant': 0.999028, 'acc_word': 0.996584, 'loss_grapheme': 0.011929, 'loss_vowel': 0.005588, 'loss_consonant': 0.004468, 'loss_word': 0.013834}\n",
      "   84 | 0.000005 | 160640/160735 | 16.1408 | 9.0102 ||\n",
      "val: {'recall': 0.997673, 'recall_grapheme': 0.996392, 'recall_vowel': 0.998874, 'recall_consonant': 0.999035, 'recall_word': 0.995477, 'acc_grapheme': 0.99606, 'acc_vowel': 0.998678, 'acc_consonant': 0.998828, 'acc_word': 0.995387, 'loss_grapheme': 0.042132, 'loss_vowel': 0.024127, 'loss_consonant': 0.019311, 'loss_word': 0.032291}\n",
      "   85 | 0.000005 | 160640/160735 | 19.9550 | 8.9163 ||\n",
      "val: {'recall': 0.997968, 'recall_grapheme': 0.996921, 'recall_vowel': 0.998807, 'recall_consonant': 0.99922, 'recall_word': 0.996111, 'acc_grapheme': 0.996634, 'acc_vowel': 0.998753, 'acc_consonant': 0.999052, 'acc_word': 0.996035, 'loss_grapheme': 0.044552, 'loss_vowel': 0.029784, 'loss_consonant': 0.021825, 'loss_word': 0.029211}\n",
      "   86 | 0.000004 | 160640/160735 | 8.5420 | 9.5426 |||\n",
      "val: {'recall': 0.996969, 'recall_grapheme': 0.995546, 'recall_vowel': 0.998732, 'recall_consonant': 0.998052, 'recall_word': 0.994914, 'acc_grapheme': 0.995412, 'acc_vowel': 0.998579, 'acc_consonant': 0.998579, 'acc_word': 0.994789, 'loss_grapheme': 0.06677, 'loss_vowel': 0.0396, 'loss_consonant': 0.030913, 'loss_word': 0.044593}\n",
      "   87 | 0.000004 | 160640/160735 | 19.2979 | 9.2974 |"
     ]
    },
    {
     "name": "stderr",
     "output_type": "stream",
     "text": [
      "\r",
      "  0%|          | 0/251 [00:00<?, ?it/s]"
     ]
    },
    {
     "name": "stdout",
     "output_type": "stream",
     "text": [
      "\n",
      "val: {'recall': 0.996942, 'recall_grapheme': 0.995337, 'recall_vowel': 0.99868, 'recall_consonant': 0.998414, 'recall_word': 0.995118, 'acc_grapheme': 0.995537, 'acc_vowel': 0.998629, 'acc_consonant': 0.998604, 'acc_word': 0.995038, 'loss_grapheme': 0.066001, 'loss_vowel': 0.044753, 'loss_consonant': 0.033921, 'loss_word': 0.041416}\n",
      "SWA>>>:\n"
     ]
    },
    {
     "name": "stderr",
     "output_type": "stream",
     "text": [
      "100%|██████████| 251/251 [01:26<00:00,  2.98it/s]\n"
     ]
    },
    {
     "name": "stdout",
     "output_type": "stream",
     "text": [
      "\n",
      "val: {'recall': 0.997927, 'recall_grapheme': 0.997059, 'recall_vowel': 0.998627, 'recall_consonant': 0.998962, 'recall_word': 0.996657, 'acc_grapheme': 0.997182, 'acc_vowel': 0.998753, 'acc_consonant': 0.998978, 'acc_word': 0.996634, 'loss_grapheme': 0.011901, 'loss_vowel': 0.005614, 'loss_consonant': 0.004458, 'loss_word': 0.013799}\n",
      "   88 | 0.000003 | 160640/160735 | 19.2199 | 8.5160 ||\n",
      "val: {'recall': 0.998046, 'recall_grapheme': 0.99711, 'recall_vowel': 0.998797, 'recall_consonant': 0.999167, 'recall_word': 0.996344, 'acc_grapheme': 0.996883, 'acc_vowel': 0.998778, 'acc_consonant': 0.999077, 'acc_word': 0.99631, 'loss_grapheme': 0.037586, 'loss_vowel': 0.028347, 'loss_consonant': 0.020161, 'loss_word': 0.023736}\n",
      "   89 | 0.000002 | 160640/160735 | 18.0060 | 8.6625 |\n",
      "val: {'recall': 0.997872, 'recall_grapheme': 0.996743, 'recall_vowel': 0.998886, 'recall_consonant': 0.999116, 'recall_word': 0.996147, 'acc_grapheme': 0.996584, 'acc_vowel': 0.998803, 'acc_consonant': 0.998978, 'acc_word': 0.996085, 'loss_grapheme': 0.04489, 'loss_vowel': 0.030936, 'loss_consonant': 0.023228, 'loss_word': 0.027972}\n",
      "   90 | 0.000002 | 160640/160735 | 9.8619 | 9.1502 |||\n",
      "val: {'recall': 0.996906, 'recall_grapheme': 0.995403, 'recall_vowel': 0.998873, 'recall_consonant': 0.997945, 'recall_word': 0.994816, 'acc_grapheme': 0.995262, 'acc_vowel': 0.998629, 'acc_consonant': 0.998454, 'acc_word': 0.994689, 'loss_grapheme': 0.067034, 'loss_vowel': 0.039414, 'loss_consonant': 0.030584, 'loss_word': 0.046119}\n",
      "   91 | 0.000002 | 160640/160735 | 2.1033 | 7.8890 |||"
     ]
    },
    {
     "name": "stderr",
     "output_type": "stream",
     "text": [
      "\r",
      "  0%|          | 0/251 [00:00<?, ?it/s]"
     ]
    },
    {
     "name": "stdout",
     "output_type": "stream",
     "text": [
      "\n",
      "val: {'recall': 0.997911, 'recall_grapheme': 0.996754, 'recall_vowel': 0.998926, 'recall_consonant': 0.999211, 'recall_word': 0.996026, 'acc_grapheme': 0.996559, 'acc_vowel': 0.998903, 'acc_consonant': 0.999003, 'acc_word': 0.995936, 'loss_grapheme': 0.032284, 'loss_vowel': 0.021595, 'loss_consonant': 0.01666, 'loss_word': 0.022384}\n",
      "SWA>>>:\n"
     ]
    },
    {
     "name": "stderr",
     "output_type": "stream",
     "text": [
      "100%|██████████| 251/251 [01:26<00:00,  3.01it/s]\n"
     ]
    },
    {
     "name": "stdout",
     "output_type": "stream",
     "text": [
      "\n",
      "val: {'recall': 0.997988, 'recall_grapheme': 0.997049, 'recall_vowel': 0.998791, 'recall_consonant': 0.999064, 'recall_word': 0.996647, 'acc_grapheme': 0.997232, 'acc_vowel': 0.998828, 'acc_consonant': 0.999028, 'acc_word': 0.996634, 'loss_grapheme': 0.01191, 'loss_vowel': 0.005572, 'loss_consonant': 0.004438, 'loss_word': 0.013755}\n",
      "   92 | 0.000001 | 160640/160735 | 1.9749 | 8.6161 |||\n",
      "val: {'recall': 0.997185, 'recall_grapheme': 0.995699, 'recall_vowel': 0.998799, 'recall_consonant': 0.998542, 'recall_word': 0.994931, 'acc_grapheme': 0.995636, 'acc_vowel': 0.998678, 'acc_consonant': 0.998703, 'acc_word': 0.994789, 'loss_grapheme': 0.056269, 'loss_vowel': 0.035707, 'loss_consonant': 0.02702, 'loss_word': 0.037141}\n",
      "   93 | 0.000001 | 160640/160735 | 1.8694 | 8.2980 |||\n",
      "val: {'recall': 0.997616, 'recall_grapheme': 0.996274, 'recall_vowel': 0.998866, 'recall_consonant': 0.999048, 'recall_word': 0.995651, 'acc_grapheme': 0.99631, 'acc_vowel': 0.998828, 'acc_consonant': 0.998928, 'acc_word': 0.995562, 'loss_grapheme': 0.019701, 'loss_vowel': 0.010698, 'loss_consonant': 0.009311, 'loss_word': 0.01828}\n",
      "   94 | 0.000001 | 160640/160735 | 3.1445 | 8.2975 |||\n",
      "val: {'recall': 0.997706, 'recall_grapheme': 0.996612, 'recall_vowel': 0.99874, 'recall_consonant': 0.998861, 'recall_word': 0.995938, 'acc_grapheme': 0.996509, 'acc_vowel': 0.998728, 'acc_consonant': 0.998828, 'acc_word': 0.995886, 'loss_grapheme': 0.059546, 'loss_vowel': 0.043825, 'loss_consonant': 0.030605, 'loss_word': 0.034156}\n",
      "   95 | 0.000000 | 160640/160735 | 2.0680 | 9.0446 |||\n",
      "val: {'recall': 0.998075, 'recall_grapheme': 0.997116, 'recall_vowel': 0.99888, 'recall_consonant': 0.999186, 'recall_word': 0.996332, 'acc_grapheme': 0.996858, 'acc_vowel': 0.998828, 'acc_consonant': 0.999052, 'acc_word': 0.996285, 'loss_grapheme': 0.036512, 'loss_vowel': 0.024296, 'loss_consonant': 0.017471, 'loss_word': 0.024723}\n"
     ]
    },
    {
     "name": "stderr",
     "output_type": "stream",
     "text": [
      "\r",
      "  0%|          | 0/251 [00:00<?, ?it/s]"
     ]
    },
    {
     "name": "stdout",
     "output_type": "stream",
     "text": [
      "###>>>>> saved ./model4-ckps/se_resnext50_32x4d/model4_se_resnext50_fold4_224.pth\n",
      "SWA>>>:\n"
     ]
    },
    {
     "name": "stderr",
     "output_type": "stream",
     "text": [
      "100%|██████████| 251/251 [01:26<00:00,  3.02it/s]\n"
     ]
    },
    {
     "name": "stdout",
     "output_type": "stream",
     "text": [
      "\n",
      "val: {'recall': 0.997943, 'recall_grapheme': 0.997016, 'recall_vowel': 0.998685, 'recall_consonant': 0.999053, 'recall_word': 0.996635, 'acc_grapheme': 0.997133, 'acc_vowel': 0.998828, 'acc_consonant': 0.998978, 'acc_word': 0.996609, 'loss_grapheme': 0.011976, 'loss_vowel': 0.005607, 'loss_consonant': 0.004486, 'loss_word': 0.013822}\n",
      "   96 | 0.000000 | 160640/160735 | 9.8643 | 9.0044 |||\n",
      "val: {'recall': 0.997682, 'recall_grapheme': 0.996641, 'recall_vowel': 0.998941, 'recall_consonant': 0.998506, 'recall_word': 0.995735, 'acc_grapheme': 0.99636, 'acc_vowel': 0.998778, 'acc_consonant': 0.998803, 'acc_word': 0.995661, 'loss_grapheme': 0.059761, 'loss_vowel': 0.039104, 'loss_consonant': 0.029299, 'loss_word': 0.038818}\n",
      "   97 | 0.000000 | 160640/160735 | 19.9404 | 8.4928 |\n",
      "val: {'recall': 0.997563, 'recall_grapheme': 0.996465, 'recall_vowel': 0.998837, 'recall_consonant': 0.998485, 'recall_word': 0.995742, 'acc_grapheme': 0.996135, 'acc_vowel': 0.998778, 'acc_consonant': 0.998828, 'acc_word': 0.995661, 'loss_grapheme': 0.055361, 'loss_vowel': 0.03997, 'loss_consonant': 0.028606, 'loss_word': 0.032515}\n",
      "   98 | 0.000000 | 160640/160735 | 11.5351 | 8.4553 ||\n",
      "val: {'recall': 0.997489, 'recall_grapheme': 0.996153, 'recall_vowel': 0.998661, 'recall_consonant': 0.998988, 'recall_word': 0.995201, 'acc_grapheme': 0.995786, 'acc_vowel': 0.998629, 'acc_consonant': 0.998728, 'acc_word': 0.995113, 'loss_grapheme': 0.049526, 'loss_vowel': 0.029056, 'loss_consonant': 0.02308, 'loss_word': 0.03469}\n",
      "   99 | 0.000000 | 160640/160735 | 2.2293 | 8.5496 |||"
     ]
    },
    {
     "name": "stderr",
     "output_type": "stream",
     "text": [
      "\r",
      "  0%|          | 0/251 [00:00<?, ?it/s]"
     ]
    },
    {
     "name": "stdout",
     "output_type": "stream",
     "text": [
      "\n",
      "val: {'recall': 0.997499, 'recall_grapheme': 0.99629, 'recall_vowel': 0.998846, 'recall_consonant': 0.998568, 'recall_word': 0.995497, 'acc_grapheme': 0.995911, 'acc_vowel': 0.998753, 'acc_consonant': 0.998828, 'acc_word': 0.995387, 'loss_grapheme': 0.047245, 'loss_vowel': 0.028728, 'loss_consonant': 0.022107, 'loss_word': 0.035053}\n",
      "SWA>>>:\n"
     ]
    },
    {
     "name": "stderr",
     "output_type": "stream",
     "text": [
      "100%|██████████| 251/251 [01:26<00:00,  3.00it/s]\n"
     ]
    },
    {
     "name": "stdout",
     "output_type": "stream",
     "text": [
      "\n",
      "val: {'recall': 0.998023, 'recall_grapheme': 0.997158, 'recall_vowel': 0.998808, 'recall_consonant': 0.998968, 'recall_word': 0.996716, 'acc_grapheme': 0.997282, 'acc_vowel': 0.998853, 'acc_consonant': 0.999003, 'acc_word': 0.996709, 'loss_grapheme': 0.011901, 'loss_vowel': 0.005588, 'loss_consonant': 0.004438, 'loss_word': 0.01375}\n",
      "CYCLE: 2\n",
      "    0 | 0.000020 | 160640/160735 | 1.3444 | 7.8680 |||\n",
      "val: {'recall': 0.997816, 'recall_grapheme': 0.996632, 'recall_vowel': 0.998872, 'recall_consonant': 0.999127, 'recall_word': 0.995885, 'acc_grapheme': 0.996409, 'acc_vowel': 0.998853, 'acc_consonant': 0.998878, 'acc_word': 0.995786, 'loss_grapheme': 0.056062, 'loss_vowel': 0.040345, 'loss_consonant': 0.029166, 'loss_word': 0.033006}\n",
      "    1 | 0.000040 | 160640/160735 | 10.3740 | 8.8890 ||\n",
      "val: {'recall': 0.99692, 'recall_grapheme': 0.995254, 'recall_vowel': 0.998737, 'recall_consonant': 0.998434, 'recall_word': 0.995173, 'acc_grapheme': 0.995711, 'acc_vowel': 0.998604, 'acc_consonant': 0.998728, 'acc_word': 0.995113, 'loss_grapheme': 0.073826, 'loss_vowel': 0.047549, 'loss_consonant': 0.03393, 'loss_word': 0.043367}\n",
      "    2 | 0.000060 | 160640/160735 | 7.9529 | 7.9951 ||"
     ]
    },
    {
     "ename": "KeyboardInterrupt",
     "evalue": "",
     "output_type": "error",
     "traceback": [
      "\u001b[0;31m---------------------------------------------------------------------------\u001b[0m",
      "\u001b[0;31mKeyboardInterrupt\u001b[0m                         Traceback (most recent call last)",
      "\u001b[0;32m<ipython-input-39-aad596905035>\u001b[0m in \u001b[0;36m<module>\u001b[0;34m\u001b[0m\n\u001b[0;32m----> 1\u001b[0;31m \u001b[0mtrain\u001b[0m\u001b[0;34m(\u001b[0m\u001b[0margs\u001b[0m\u001b[0;34m)\u001b[0m\u001b[0;34m\u001b[0m\u001b[0;34m\u001b[0m\u001b[0m\n\u001b[0m",
      "\u001b[0;32m<ipython-input-34-b2c1bf117c1f>\u001b[0m in \u001b[0;36mtrain\u001b[0;34m(args)\u001b[0m\n\u001b[1;32m     45\u001b[0m             \u001b[0mgrid\u001b[0m\u001b[0;34m.\u001b[0m\u001b[0mset_prob\u001b[0m\u001b[0;34m(\u001b[0m\u001b[0mepoch\u001b[0m\u001b[0;34m,\u001b[0m \u001b[0margs\u001b[0m\u001b[0;34m.\u001b[0m\u001b[0mst_epochs\u001b[0m\u001b[0;34m)\u001b[0m\u001b[0;34m\u001b[0m\u001b[0;34m\u001b[0m\u001b[0m\n\u001b[1;32m     46\u001b[0m             \u001b[0mtrain_epoch\u001b[0m\u001b[0;34m(\u001b[0m\u001b[0margs\u001b[0m\u001b[0;34m,\u001b[0m \u001b[0mmodel\u001b[0m\u001b[0;34m,\u001b[0m \u001b[0mtrain_loader\u001b[0m\u001b[0;34m,\u001b[0m \u001b[0mepoch\u001b[0m\u001b[0;34m,\u001b[0m \u001b[0moptimizer\u001b[0m\u001b[0;34m,\u001b[0m \u001b[0mlr_scheduler\u001b[0m\u001b[0;34m,\u001b[0m \u001b[0mgrid\u001b[0m\u001b[0;34m)\u001b[0m\u001b[0;34m\u001b[0m\u001b[0;34m\u001b[0m\u001b[0m\n\u001b[0;32m---> 47\u001b[0;31m             \u001b[0mvalidate_and_save\u001b[0m\u001b[0;34m(\u001b[0m\u001b[0mmodel\u001b[0m\u001b[0;34m,\u001b[0m \u001b[0mmodel_file\u001b[0m\u001b[0;34m,\u001b[0m \u001b[0mval_loader\u001b[0m\u001b[0;34m,\u001b[0m \u001b[0msave\u001b[0m\u001b[0;34m=\u001b[0m\u001b[0;32mTrue\u001b[0m\u001b[0;34m)\u001b[0m\u001b[0;34m\u001b[0m\u001b[0;34m\u001b[0m\u001b[0m\n\u001b[0m\u001b[1;32m     48\u001b[0m \u001b[0;34m\u001b[0m\u001b[0m\n\u001b[1;32m     49\u001b[0m             \u001b[0;32mif\u001b[0m \u001b[0;34m(\u001b[0m\u001b[0mepoch\u001b[0m\u001b[0;34m+\u001b[0m\u001b[0;36m1\u001b[0m\u001b[0;34m)\u001b[0m \u001b[0;34m==\u001b[0m \u001b[0margs\u001b[0m\u001b[0;34m.\u001b[0m\u001b[0mswa_start\u001b[0m \u001b[0;32mand\u001b[0m \u001b[0mcycle\u001b[0m \u001b[0;34m==\u001b[0m \u001b[0;36m1\u001b[0m\u001b[0;34m:\u001b[0m\u001b[0;34m\u001b[0m\u001b[0;34m\u001b[0m\u001b[0m\n",
      "\u001b[0;32m<ipython-input-34-b2c1bf117c1f>\u001b[0m in \u001b[0;36mvalidate_and_save\u001b[0;34m(model, model_file, val_loader, save)\u001b[0m\n\u001b[1;32m      4\u001b[0m     \u001b[0;32mglobal\u001b[0m \u001b[0mbest_metrics\u001b[0m\u001b[0;34m\u001b[0m\u001b[0;34m\u001b[0m\u001b[0m\n\u001b[1;32m      5\u001b[0m     \u001b[0mbest_key\u001b[0m \u001b[0;34m=\u001b[0m \u001b[0;34m'recall'\u001b[0m\u001b[0;34m\u001b[0m\u001b[0;34m\u001b[0m\u001b[0m\n\u001b[0;32m----> 6\u001b[0;31m     \u001b[0mval_metrics\u001b[0m \u001b[0;34m=\u001b[0m \u001b[0mvalidate\u001b[0m\u001b[0;34m(\u001b[0m\u001b[0mmodel\u001b[0m\u001b[0;34m,\u001b[0m \u001b[0mval_loader\u001b[0m\u001b[0;34m)\u001b[0m\u001b[0;34m\u001b[0m\u001b[0;34m\u001b[0m\u001b[0m\n\u001b[0m\u001b[1;32m      7\u001b[0m     \u001b[0mprint\u001b[0m\u001b[0;34m(\u001b[0m\u001b[0;34m'\\nval:'\u001b[0m\u001b[0;34m,\u001b[0m \u001b[0mval_metrics\u001b[0m\u001b[0;34m)\u001b[0m\u001b[0;34m\u001b[0m\u001b[0;34m\u001b[0m\u001b[0m\n\u001b[1;32m      8\u001b[0m \u001b[0;34m\u001b[0m\u001b[0m\n",
      "\u001b[0;32m<ipython-input-25-d19374fd65cb>\u001b[0m in \u001b[0;36mvalidate\u001b[0;34m(model, val_loader)\u001b[0m\n\u001b[1;32m     16\u001b[0m             \u001b[0mpreds2\u001b[0m\u001b[0;34m.\u001b[0m\u001b[0mappend\u001b[0m\u001b[0;34m(\u001b[0m\u001b[0mtorch\u001b[0m\u001b[0;34m.\u001b[0m\u001b[0mmax\u001b[0m\u001b[0;34m(\u001b[0m\u001b[0moutputs\u001b[0m\u001b[0;34m[\u001b[0m\u001b[0;36m2\u001b[0m\u001b[0;34m]\u001b[0m\u001b[0;34m,\u001b[0m \u001b[0mdim\u001b[0m\u001b[0;34m=\u001b[0m\u001b[0;36m1\u001b[0m\u001b[0;34m)\u001b[0m\u001b[0;34m[\u001b[0m\u001b[0;36m1\u001b[0m\u001b[0;34m]\u001b[0m\u001b[0;34m)\u001b[0m\u001b[0;34m\u001b[0m\u001b[0;34m\u001b[0m\u001b[0m\n\u001b[1;32m     17\u001b[0m             \u001b[0mpreds3\u001b[0m\u001b[0;34m.\u001b[0m\u001b[0mappend\u001b[0m\u001b[0;34m(\u001b[0m\u001b[0mtorch\u001b[0m\u001b[0;34m.\u001b[0m\u001b[0mmax\u001b[0m\u001b[0;34m(\u001b[0m\u001b[0moutputs\u001b[0m\u001b[0;34m[\u001b[0m\u001b[0;36m3\u001b[0m\u001b[0;34m]\u001b[0m\u001b[0;34m,\u001b[0m \u001b[0mdim\u001b[0m\u001b[0;34m=\u001b[0m\u001b[0;36m1\u001b[0m\u001b[0;34m)\u001b[0m\u001b[0;34m[\u001b[0m\u001b[0;36m1\u001b[0m\u001b[0;34m]\u001b[0m\u001b[0;34m)\u001b[0m\u001b[0;34m\u001b[0m\u001b[0;34m\u001b[0m\u001b[0m\n\u001b[0;32m---> 18\u001b[0;31m             \u001b[0mloss0\u001b[0m \u001b[0;34m+=\u001b[0m \u001b[0mF\u001b[0m\u001b[0;34m.\u001b[0m\u001b[0mcross_entropy\u001b[0m\u001b[0;34m(\u001b[0m\u001b[0moutputs\u001b[0m\u001b[0;34m[\u001b[0m\u001b[0;36m0\u001b[0m\u001b[0;34m]\u001b[0m\u001b[0;34m,\u001b[0m \u001b[0my\u001b[0m\u001b[0;34m[\u001b[0m\u001b[0;34m:\u001b[0m\u001b[0;34m,\u001b[0m \u001b[0;36m0\u001b[0m\u001b[0;34m]\u001b[0m\u001b[0;34m,\u001b[0m \u001b[0mreduction\u001b[0m\u001b[0;34m=\u001b[0m\u001b[0;34m'sum'\u001b[0m\u001b[0;34m)\u001b[0m\u001b[0;34m.\u001b[0m\u001b[0mitem\u001b[0m\u001b[0;34m(\u001b[0m\u001b[0;34m)\u001b[0m\u001b[0;34m\u001b[0m\u001b[0;34m\u001b[0m\u001b[0m\n\u001b[0m\u001b[1;32m     19\u001b[0m             \u001b[0mloss1\u001b[0m \u001b[0;34m+=\u001b[0m \u001b[0mF\u001b[0m\u001b[0;34m.\u001b[0m\u001b[0mcross_entropy\u001b[0m\u001b[0;34m(\u001b[0m\u001b[0moutputs\u001b[0m\u001b[0;34m[\u001b[0m\u001b[0;36m1\u001b[0m\u001b[0;34m]\u001b[0m\u001b[0;34m,\u001b[0m \u001b[0my\u001b[0m\u001b[0;34m[\u001b[0m\u001b[0;34m:\u001b[0m\u001b[0;34m,\u001b[0m \u001b[0;36m1\u001b[0m\u001b[0;34m]\u001b[0m\u001b[0;34m,\u001b[0m \u001b[0mreduction\u001b[0m\u001b[0;34m=\u001b[0m\u001b[0;34m'sum'\u001b[0m\u001b[0;34m)\u001b[0m\u001b[0;34m.\u001b[0m\u001b[0mitem\u001b[0m\u001b[0;34m(\u001b[0m\u001b[0;34m)\u001b[0m\u001b[0;34m\u001b[0m\u001b[0;34m\u001b[0m\u001b[0m\n\u001b[1;32m     20\u001b[0m             \u001b[0mloss2\u001b[0m \u001b[0;34m+=\u001b[0m \u001b[0mF\u001b[0m\u001b[0;34m.\u001b[0m\u001b[0mcross_entropy\u001b[0m\u001b[0;34m(\u001b[0m\u001b[0moutputs\u001b[0m\u001b[0;34m[\u001b[0m\u001b[0;36m2\u001b[0m\u001b[0;34m]\u001b[0m\u001b[0;34m,\u001b[0m \u001b[0my\u001b[0m\u001b[0;34m[\u001b[0m\u001b[0;34m:\u001b[0m\u001b[0;34m,\u001b[0m \u001b[0;36m2\u001b[0m\u001b[0;34m]\u001b[0m\u001b[0;34m,\u001b[0m \u001b[0mreduction\u001b[0m\u001b[0;34m=\u001b[0m\u001b[0;34m'sum'\u001b[0m\u001b[0;34m)\u001b[0m\u001b[0;34m.\u001b[0m\u001b[0mitem\u001b[0m\u001b[0;34m(\u001b[0m\u001b[0;34m)\u001b[0m\u001b[0;34m\u001b[0m\u001b[0;34m\u001b[0m\u001b[0m\n",
      "\u001b[0;31mKeyboardInterrupt\u001b[0m: "
     ]
    }
   ],
   "source": [
    "train(args)"
   ]
  },
  {
   "cell_type": "code",
   "execution_count": null,
   "metadata": {},
   "outputs": [],
   "source": []
  },
  {
   "cell_type": "code",
   "execution_count": null,
   "metadata": {},
   "outputs": [],
   "source": []
  },
  {
   "cell_type": "code",
   "execution_count": null,
   "metadata": {},
   "outputs": [],
   "source": [
    "#save_model(model, model_file)"
   ]
  },
  {
   "cell_type": "code",
   "execution_count": null,
   "metadata": {},
   "outputs": [],
   "source": []
  },
  {
   "cell_type": "code",
   "execution_count": null,
   "metadata": {},
   "outputs": [],
   "source": []
  }
 ],
 "metadata": {
  "kernelspec": {
   "display_name": "Python 3",
   "language": "python",
   "name": "python3"
  },
  "language_info": {
   "codemirror_mode": {
    "name": "ipython",
    "version": 3
   },
   "file_extension": ".py",
   "mimetype": "text/x-python",
   "name": "python",
   "nbconvert_exporter": "python",
   "pygments_lexer": "ipython3",
   "version": "3.7.3"
  }
 },
 "nbformat": 4,
 "nbformat_minor": 2
}
