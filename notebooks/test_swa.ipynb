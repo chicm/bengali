{
 "cells": [
  {
   "cell_type": "code",
   "execution_count": 1,
   "metadata": {},
   "outputs": [],
   "source": [
    "import torch\n",
    "import torch.nn as nn\n",
    "import torch.nn.functional as F\n",
    "import torch.optim as optim\n",
    "from utils import bn_update, moving_average, copy_model\n",
    "\n",
    "class Model(nn.Module):\n",
    "    def __init__(self):\n",
    "        super(Model, self).__init__()\n",
    "        self.conv1 = nn.Conv2d(3, 8, kernel_size=3, padding=1)\n",
    "        self.bn1 = nn.BatchNorm2d(8)\n",
    "        self.pool = nn.AdaptiveAvgPool2d(1)\n",
    "        self.fc = nn.Linear(8, 2)\n",
    "    def forward(self, x):\n",
    "        return self.fc(self.pool(self.bn1(self.conv1(x))).view(x.size(0), -1))"
   ]
  },
  {
   "cell_type": "code",
   "execution_count": 2,
   "metadata": {},
   "outputs": [],
   "source": [
    "model = nn.DataParallel(Model().cuda())\n",
    "swa_model = nn.DataParallel(Model().cuda())"
   ]
  },
  {
   "cell_type": "code",
   "execution_count": 6,
   "metadata": {},
   "outputs": [
    {
     "data": {
      "text/plain": [
       "Parameter containing:\n",
       "tensor([[ 0.0019,  0.3173, -0.1361,  0.1433, -0.1931, -0.2400, -0.0885,  0.0504],\n",
       "        [-0.1701,  0.0804, -0.0250,  0.1087,  0.2881,  0.2766,  0.0864, -0.3460]],\n",
       "       device='cuda:0', requires_grad=True)"
      ]
     },
     "execution_count": 6,
     "metadata": {},
     "output_type": "execute_result"
    }
   ],
   "source": [
    "model.module.fc.weight"
   ]
  },
  {
   "cell_type": "code",
   "execution_count": 7,
   "metadata": {},
   "outputs": [
    {
     "data": {
      "text/plain": [
       "Parameter containing:\n",
       "tensor([[ 0.1641, -0.2650, -0.1659, -0.3285, -0.0103,  0.3482,  0.2182,  0.1476],\n",
       "        [-0.1733, -0.3198, -0.1745, -0.2578, -0.1778, -0.1134,  0.3263,  0.2625]],\n",
       "       device='cuda:0', requires_grad=True)"
      ]
     },
     "execution_count": 7,
     "metadata": {},
     "output_type": "execute_result"
    }
   ],
   "source": [
    "swa_model.module.fc.weight"
   ]
  },
  {
   "cell_type": "code",
   "execution_count": 8,
   "metadata": {},
   "outputs": [],
   "source": [
    "SWA_START = 5\n",
    "SWA_FREQ = 5"
   ]
  },
  {
   "cell_type": "code",
   "execution_count": 9,
   "metadata": {},
   "outputs": [],
   "source": [
    "for cycle in range(2):\n",
    "    for epoch in range(20):\n",
    "            if (epoch+1) == SWA_START:\n",
    "                copy_model(swa_model, model)\n",
    "                swa_n = 0\n",
    "            if ((epoch+1) >= SWA_START) and ((epoch+1) % SWA_FREQ == 0):\n",
    "                moving_average(swa_model, model, 1.0 / (swa_n + 1))\n",
    "                swa_n += 1\n",
    "                #bn_update(train_loader, swa_model)\n",
    "                #best_metric = valid_model(logger.info, cfg, swa_model,\n",
    "                #                          valid_loader, optimizer,\n",
    "                #                          epoch, None,\n",
    "                #                          best_metric, True)\n"
   ]
  },
  {
   "cell_type": "code",
   "execution_count": 11,
   "metadata": {},
   "outputs": [
    {
     "data": {
      "text/plain": [
       "Parameter containing:\n",
       "tensor([[ 0.0019,  0.3173, -0.1361,  0.1433, -0.1931, -0.2400, -0.0885,  0.0504],\n",
       "        [-0.1701,  0.0804, -0.0250,  0.1087,  0.2881,  0.2766,  0.0864, -0.3460]],\n",
       "       device='cuda:0', requires_grad=True)"
      ]
     },
     "execution_count": 11,
     "metadata": {},
     "output_type": "execute_result"
    }
   ],
   "source": [
    "model.module.fc.weight"
   ]
  },
  {
   "cell_type": "code",
   "execution_count": 12,
   "metadata": {},
   "outputs": [
    {
     "data": {
      "text/plain": [
       "Parameter containing:\n",
       "tensor([[ 0.0019,  0.3173, -0.1361,  0.1433, -0.1931, -0.2400, -0.0885,  0.0504],\n",
       "        [-0.1701,  0.0804, -0.0250,  0.1087,  0.2881,  0.2766,  0.0864, -0.3460]],\n",
       "       device='cuda:0', requires_grad=True)"
      ]
     },
     "execution_count": 12,
     "metadata": {},
     "output_type": "execute_result"
    }
   ],
   "source": [
    "swa_model.module.fc.weight"
   ]
  },
  {
   "cell_type": "code",
   "execution_count": null,
   "metadata": {},
   "outputs": [],
   "source": []
  }
 ],
 "metadata": {
  "kernelspec": {
   "display_name": "Python 3",
   "language": "python",
   "name": "python3"
  },
  "language_info": {
   "codemirror_mode": {
    "name": "ipython",
    "version": 3
   },
   "file_extension": ".py",
   "mimetype": "text/x-python",
   "name": "python",
   "nbconvert_exporter": "python",
   "pygments_lexer": "ipython3",
   "version": "3.7.3"
  }
 },
 "nbformat": 4,
 "nbformat_minor": 2
}
