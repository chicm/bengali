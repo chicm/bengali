{
 "cells": [
  {
   "cell_type": "code",
   "execution_count": 1,
   "metadata": {},
   "outputs": [],
   "source": [
    "import os\n",
    "import pandas as pd\n",
    "import numpy as np\n",
    "import time, gc\n",
    "import cv2\n",
    "import matplotlib.pyplot as plt\n",
    "import torch\n",
    "import torch.nn as nn\n",
    "import torch.nn.functional as F\n",
    "import torch.optim as optim\n",
    "import pretrainedmodels\n",
    "from argparse import Namespace\n",
    "from sklearn.utils import shuffle\n",
    "from apex import amp\n",
    "from sklearn.model_selection import StratifiedKFold\n",
    "from efficientnet_pytorch import EfficientNet\n",
    "from cvcore.data.auto_augment import RandAugment\n",
    "from PIL import Image\n",
    "from utils import bn_update, moving_average, copy_model\n"
   ]
  },
  {
   "cell_type": "code",
   "execution_count": 2,
   "metadata": {},
   "outputs": [
    {
     "name": "stdout",
     "output_type": "stream",
     "text": [
      "class_map.csv\t\t       train.csv\r\n",
      "sample_submission.csv\t       train.csv.zip\r\n",
      "test.csv\t\t       train_image_data_0.parquet\r\n",
      "test_image_data_0.parquet      train_image_data_0.parquet.zip\r\n",
      "test_image_data_0.parquet.zip  train_image_data_1.parquet\r\n",
      "test_image_data_1.parquet      train_image_data_1.parquet.zip\r\n",
      "test_image_data_1.parquet.zip  train_image_data_2.parquet\r\n",
      "test_image_data_2.parquet      train_image_data_2.parquet.zip\r\n",
      "test_image_data_2.parquet.zip  train_image_data_3.parquet\r\n",
      "test_image_data_3.parquet      train_image_data_3.parquet.zip\r\n",
      "test_image_data_3.parquet.zip\r\n"
     ]
    }
   ],
   "source": [
    "!ls /home/chec/data/bengali"
   ]
  },
  {
   "cell_type": "code",
   "execution_count": 3,
   "metadata": {},
   "outputs": [],
   "source": [
    "#!ls /home/chec/data/bengali"
   ]
  },
  {
   "cell_type": "code",
   "execution_count": 4,
   "metadata": {},
   "outputs": [],
   "source": [
    "DATA_DIR = '/home/chec/data/bengali'"
   ]
  },
  {
   "cell_type": "code",
   "execution_count": 5,
   "metadata": {},
   "outputs": [],
   "source": [
    "train_df = pd.read_csv(f'{DATA_DIR}/train.csv')\n",
    "test_df = pd.read_csv(f'{DATA_DIR}/test.csv')\n",
    "class_map_df = pd.read_csv(f'{DATA_DIR}/class_map.csv')\n",
    "sample_sub_df = pd.read_csv(f'{DATA_DIR}/sample_submission.csv')"
   ]
  },
  {
   "cell_type": "code",
   "execution_count": 6,
   "metadata": {},
   "outputs": [
    {
     "data": {
      "text/html": [
       "<div>\n",
       "<style scoped>\n",
       "    .dataframe tbody tr th:only-of-type {\n",
       "        vertical-align: middle;\n",
       "    }\n",
       "\n",
       "    .dataframe tbody tr th {\n",
       "        vertical-align: top;\n",
       "    }\n",
       "\n",
       "    .dataframe thead th {\n",
       "        text-align: right;\n",
       "    }\n",
       "</style>\n",
       "<table border=\"1\" class=\"dataframe\">\n",
       "  <thead>\n",
       "    <tr style=\"text-align: right;\">\n",
       "      <th></th>\n",
       "      <th>image_id</th>\n",
       "      <th>grapheme_root</th>\n",
       "      <th>vowel_diacritic</th>\n",
       "      <th>consonant_diacritic</th>\n",
       "      <th>grapheme</th>\n",
       "    </tr>\n",
       "  </thead>\n",
       "  <tbody>\n",
       "    <tr>\n",
       "      <th>0</th>\n",
       "      <td>Train_0</td>\n",
       "      <td>15</td>\n",
       "      <td>9</td>\n",
       "      <td>5</td>\n",
       "      <td>ক্ট্রো</td>\n",
       "    </tr>\n",
       "    <tr>\n",
       "      <th>1</th>\n",
       "      <td>Train_1</td>\n",
       "      <td>159</td>\n",
       "      <td>0</td>\n",
       "      <td>0</td>\n",
       "      <td>হ</td>\n",
       "    </tr>\n",
       "    <tr>\n",
       "      <th>2</th>\n",
       "      <td>Train_2</td>\n",
       "      <td>22</td>\n",
       "      <td>3</td>\n",
       "      <td>5</td>\n",
       "      <td>খ্রী</td>\n",
       "    </tr>\n",
       "    <tr>\n",
       "      <th>3</th>\n",
       "      <td>Train_3</td>\n",
       "      <td>53</td>\n",
       "      <td>2</td>\n",
       "      <td>2</td>\n",
       "      <td>র্টি</td>\n",
       "    </tr>\n",
       "    <tr>\n",
       "      <th>4</th>\n",
       "      <td>Train_4</td>\n",
       "      <td>71</td>\n",
       "      <td>9</td>\n",
       "      <td>5</td>\n",
       "      <td>থ্রো</td>\n",
       "    </tr>\n",
       "  </tbody>\n",
       "</table>\n",
       "</div>"
      ],
      "text/plain": [
       "  image_id  grapheme_root  vowel_diacritic  consonant_diacritic grapheme\n",
       "0  Train_0             15                9                    5   ক্ট্রো\n",
       "1  Train_1            159                0                    0        হ\n",
       "2  Train_2             22                3                    5     খ্রী\n",
       "3  Train_3             53                2                    2     র্টি\n",
       "4  Train_4             71                9                    5     থ্রো"
      ]
     },
     "execution_count": 6,
     "metadata": {},
     "output_type": "execute_result"
    }
   ],
   "source": [
    "train_df.head()"
   ]
  },
  {
   "cell_type": "code",
   "execution_count": 7,
   "metadata": {},
   "outputs": [],
   "source": [
    "HEIGHT = 137\n",
    "WIDTH = 236"
   ]
  },
  {
   "cell_type": "code",
   "execution_count": 8,
   "metadata": {},
   "outputs": [],
   "source": [
    "#import albumentations as albu\n",
    "def get_train_augs():\n",
    "    return RandAugment(n=2, m=27)"
   ]
  },
  {
   "cell_type": "code",
   "execution_count": 9,
   "metadata": {},
   "outputs": [],
   "source": [
    "#plt.imshow(x)"
   ]
  },
  {
   "cell_type": "code",
   "execution_count": 10,
   "metadata": {},
   "outputs": [],
   "source": [
    "#np.arange(10).copy()"
   ]
  },
  {
   "cell_type": "code",
   "execution_count": 11,
   "metadata": {},
   "outputs": [],
   "source": [
    "from torch.utils.data import DataLoader, Dataset\n",
    "from torchvision import transforms\n",
    "\n",
    "\n",
    "class BengaliDataset(Dataset):\n",
    "    def __init__(self, df, img_df, train_mode=True, test_mode=False):\n",
    "        self.df = df\n",
    "        self.img_df = img_df\n",
    "        self.train_mode = train_mode\n",
    "        self.test_mode = test_mode\n",
    "\n",
    "    def __getitem__(self, idx):\n",
    "        row = self.df.iloc[idx]\n",
    "        img = self.get_img(row.image_id)\n",
    "        orig_img = img.copy()\n",
    "        #print(img.shape)\n",
    "        if self.train_mode:\n",
    "            augs = get_train_augs()\n",
    "            #img = augs(image=img)['image']\n",
    "            img = np.asarray(augs(Image.fromarray(img)))\n",
    "        \n",
    "        img = np.expand_dims(img, axis=-1)\n",
    "        orig_img = np.expand_dims(orig_img, axis=-1)\n",
    "        \n",
    "        #print('###', img.shape)\n",
    "        #img = np.concatenate([img, img, img], 2)\n",
    "        #print('>>>', img.shape)\n",
    "        \n",
    "        # taken from https://www.kaggle.com/iafoss/image-preprocessing-128x128\n",
    "        #MEAN = [ 0.06922848809290576,  0.06922848809290576,  0.06922848809290576]\n",
    "        #STD = [ 0.20515700083327537,  0.20515700083327537,  0.20515700083327537]\n",
    "        \n",
    "        img = transforms.functional.to_tensor(img)\n",
    "        orig_img = transforms.functional.to_tensor(orig_img)\n",
    "        \n",
    "        #img = transforms.functional.normalize(img, mean=MEAN, std=STD)\n",
    "        \n",
    "        if self.test_mode:\n",
    "            return img\n",
    "        elif self.train_mode:\n",
    "            return img, orig_img, torch.tensor([row.grapheme_root, row.vowel_diacritic, row.consonant_diacritic, row.word_label])\n",
    "        else:\n",
    "            return img, torch.tensor([row.grapheme_root, row.vowel_diacritic, row.consonant_diacritic, row.word_label])\n",
    "                    \n",
    "    def get_img(self, img_id):\n",
    "        return 255 - self.img_df.loc[img_id].values.reshape(HEIGHT, WIDTH).astype(np.uint8)\n",
    "\n",
    "    def __len__(self):\n",
    "        return len(self.df)\n",
    "    \n",
    "def get_train_val_loaders(batch_size=4, val_batch_size=4, ifold=0, dev_mode=False):\n",
    "    train_df = pd.read_csv(f'{DATA_DIR}/train.csv')\n",
    "\n",
    "    train_df = shuffle(train_df, random_state=1234)\n",
    "\n",
    "    grapheme_words = np.unique(train_df.grapheme.values)\n",
    "    grapheme_words_dict = {grapheme: i for i, grapheme in enumerate(grapheme_words)}\n",
    "    train_df['word_label'] = train_df['grapheme'].map(lambda x: grapheme_words_dict[x])\n",
    "\n",
    "    print(train_df.shape)\n",
    "\n",
    "    if dev_mode:\n",
    "        img_df = pd.read_parquet(f'{DATA_DIR}/train_image_data_0.parquet').set_index('image_id')\n",
    "        train_df = train_df.iloc[:1000]\n",
    "    else:\n",
    "        img_dfs = [pd.read_parquet(f'{DATA_DIR}/train_image_data_{i}.parquet') for i in range(4)]\n",
    "        img_df = pd.concat(img_dfs, axis=0).set_index('image_id')\n",
    "    print(img_df.shape)\n",
    "    #split_index = int(len(train_df) * 0.9)\n",
    "    \n",
    "    #train = train_df.iloc[:split_index]\n",
    "    #val = train_df.iloc[split_index:]\n",
    "    \n",
    "    kf = StratifiedKFold(5, random_state=1234, shuffle=True)\n",
    "    for i, (train_idx, val_idx) in enumerate(kf.split(train_df, train_df['grapheme_root'].values)):\n",
    "        if i == ifold:\n",
    "            #print(val_idx)\n",
    "            train = train_df.iloc[train_idx]\n",
    "            val = train_df.iloc[val_idx]\n",
    "            break\n",
    "    assert i == ifold\n",
    "    print(train.shape, val.shape)\n",
    "    \n",
    "    train_ds = BengaliDataset(train, img_df, True, False)\n",
    "    val_ds = BengaliDataset(val, img_df, False, False)\n",
    "    \n",
    "    train_loader = DataLoader(train_ds, batch_size=batch_size, shuffle=True, num_workers=8, drop_last=True)\n",
    "    train_loader.num = len(train_ds)\n",
    "\n",
    "    val_loader = DataLoader(val_ds, batch_size=val_batch_size, shuffle=False, num_workers=8, drop_last=False)\n",
    "    val_loader.num = len(val_ds)\n",
    "\n",
    "    return train_loader, val_loader"
   ]
  },
  {
   "cell_type": "code",
   "execution_count": 12,
   "metadata": {},
   "outputs": [],
   "source": [
    "#train_loader, val_loader = get_train_val_loaders()"
   ]
  },
  {
   "cell_type": "code",
   "execution_count": 13,
   "metadata": {},
   "outputs": [],
   "source": [
    "#for x in train_loader:\n",
    "#    print(x)\n",
    "#    break"
   ]
  },
  {
   "cell_type": "markdown",
   "metadata": {},
   "source": [
    "# model"
   ]
  },
  {
   "cell_type": "code",
   "execution_count": 14,
   "metadata": {},
   "outputs": [],
   "source": [
    "#import pretrainedmodels"
   ]
  },
  {
   "cell_type": "code",
   "execution_count": 15,
   "metadata": {},
   "outputs": [],
   "source": [
    "#model_name = 'resnet50' # could be fbresnet152 or inceptionresnetv2\n",
    "#model = pretrainedmodels.__dict__[model_name](num_classes=1000, pretrained='imagenet').cuda()\n",
    "#model.eval()"
   ]
  },
  {
   "cell_type": "code",
   "execution_count": 16,
   "metadata": {},
   "outputs": [],
   "source": [
    "from argparse import Namespace\n",
    "import timm\n",
    "from timm.models.activations import Swish, Mish\n",
    "from timm.models.adaptive_avgmax_pool import SelectAdaptivePool2d"
   ]
  },
  {
   "cell_type": "code",
   "execution_count": 17,
   "metadata": {},
   "outputs": [],
   "source": [
    "MEAN = [ 0.06922848809290576 ]\n",
    "STD = [ 0.20515700083327537 ]"
   ]
  },
  {
   "cell_type": "code",
   "execution_count": 18,
   "metadata": {},
   "outputs": [],
   "source": [
    "MEAN = [ 0.06922848809290576 ]\n",
    "STD = [ 0.20515700083327537 ]\n",
    "import timm\n",
    "from timm.models.activations import Swish, Mish\n",
    "from timm.models.adaptive_avgmax_pool import SelectAdaptivePool2d\n",
    "\n",
    "class BengaliNet4(nn.Module):\n",
    "    def __init__(self, backbone_name='se_resnext50_32x4d'):\n",
    "        super(BengaliNet4, self).__init__()\n",
    "        self.n_grapheme = 168\n",
    "        self.n_vowel = 11\n",
    "        self.n_consonant = 7\n",
    "        self.n_word = 1295\n",
    "        self.backbone_name = backbone_name\n",
    "        \n",
    "        self.num_classes = self.n_grapheme + self.n_vowel + self.n_consonant + self.n_word\n",
    "        \n",
    "        self.backbone = pretrainedmodels.__dict__[self.backbone_name](num_classes=1000, pretrained='imagenet')\n",
    "        self.fc = nn.Linear(self.backbone.last_linear.in_features, self.num_classes)\n",
    "        \n",
    "        self.num_p2_features = self.backbone.layer2[-1].se_module.fc2.out_channels\n",
    "        self.num_p3_features = self.backbone.layer3[-1].se_module.fc2.out_channels\n",
    "        self.p2_head = nn.Conv2d(self.num_p2_features, self.num_p2_features * 4, kernel_size=(1, 1), stride=(1, 1), bias=False)\n",
    "        self.p3_head = nn.Conv2d(self.num_p3_features, self.num_p3_features * 4, kernel_size=(1, 1), stride=(1, 1), bias=False)\n",
    "        self.bn2 = nn.BatchNorm2d(self.num_p2_features * 4)\n",
    "        self.bn3 = nn.BatchNorm2d(self.num_p3_features * 4)\n",
    "        self.act2 = Swish()\n",
    "        self.act3 = Swish()\n",
    "        \n",
    "        self.fc_aux1 = nn.Linear(self.num_p3_features * 4, self.num_classes)\n",
    "        self.fc_aux2 = nn.Linear(self.num_p2_features * 4, self.num_classes)\n",
    "        \n",
    "        self.avg_pool = nn.AdaptiveAvgPool2d(1)\n",
    "        \n",
    "        for fc in [self.fc, self.fc_aux1, self.fc_aux2]:\n",
    "            nn.init.zeros_(fc.bias.data)\n",
    "\n",
    "        print('init model4')\n",
    "        \n",
    "    def features(self, x):\n",
    "        x = self.backbone.layer0(x); #print(x.size())\n",
    "        x = self.backbone.layer1(x); #print(x.size())\n",
    "        x = self.backbone.layer2(x); p2 = x; p2 = self.p2_head(p2); p2 = self.bn2(p2); p2 = self.act2(p2) #print(x.size())\n",
    "        x = self.backbone.layer3(x); p3 = x; p3 = self.p3_head(p3); p3 = self.bn3(p3); p3 = self.act3(p3) #print(x.size())\n",
    "        x = self.backbone.layer4(x); #print(x.size())\n",
    "        return x, p2, p3\n",
    "        \n",
    "    def logits(self, x, p2, p3):\n",
    "        x = self.avg_pool(x)\n",
    "        #x = F.dropout2d(x, 0.2, self.training)\n",
    "        x = torch.flatten(x, 1)\n",
    "        \n",
    "        p2 = self.avg_pool(p2)\n",
    "        p2 = torch.flatten(p2, 1)\n",
    "        \n",
    "        p3 = self.avg_pool(p3)\n",
    "        p3 = torch.flatten(p3, 1)\n",
    "        return self.fc(x), self.fc_aux1(p3), self.fc_aux2(p2)\n",
    "    \n",
    "    def forward(self, x):\n",
    "        x = F.interpolate(x, size=(224,224), mode='bilinear', align_corners=False)\n",
    "        for i in range(len(x)):\n",
    "            transforms.functional.normalize(x[i], mean=MEAN, std=STD, inplace=True)\n",
    "        x = torch.cat([x,x,x], 1)\n",
    "        #x = self.conv0(x)\n",
    "        #print(x.size())\n",
    "        x, p2, p3 = self.features(x)\n",
    "        x, logits_aux1, logits_aux2 = self.logits(x, p2, p3)\n",
    "\n",
    "        return x, logits_aux1, logits_aux2"
   ]
  },
  {
   "cell_type": "code",
   "execution_count": null,
   "metadata": {},
   "outputs": [],
   "source": []
  },
  {
   "cell_type": "code",
   "execution_count": 19,
   "metadata": {},
   "outputs": [],
   "source": [
    "MODEL_DIR = './model4-ckps'\n",
    "def create_model(args):\n",
    "    model = BengaliNet4(args.backbone)\n",
    "    model_file = os.path.join(MODEL_DIR, args.backbone, args.ckp_name)\n",
    "\n",
    "    parent_dir = os.path.dirname(model_file)\n",
    "    if not os.path.exists(parent_dir):\n",
    "        os.makedirs(parent_dir)\n",
    "\n",
    "    print('model file: {}, exist: {}'.format(model_file, os.path.exists(model_file)))\n",
    "\n",
    "    if os.path.exists(model_file):\n",
    "        print('loading {}...'.format(model_file))\n",
    "        model.load_state_dict(torch.load(model_file))\n",
    "    \n",
    "    return model, model_file"
   ]
  },
  {
   "cell_type": "code",
   "execution_count": 20,
   "metadata": {},
   "outputs": [],
   "source": [
    "#bnet = BengaliNet('se_resnext50_32x4d').cuda()"
   ]
  },
  {
   "cell_type": "code",
   "execution_count": 21,
   "metadata": {},
   "outputs": [],
   "source": [
    "#bnet(torch.randn((2, 1, 137, 236)).cuda()).size()"
   ]
  },
  {
   "cell_type": "markdown",
   "metadata": {},
   "source": [
    "# train"
   ]
  },
  {
   "cell_type": "code",
   "execution_count": 22,
   "metadata": {},
   "outputs": [
    {
     "data": {
      "text/plain": [
       "0.111111"
      ]
     },
     "execution_count": 22,
     "metadata": {},
     "output_type": "execute_result"
    }
   ],
   "source": [
    "round(1/9, 6)"
   ]
  },
  {
   "cell_type": "code",
   "execution_count": 23,
   "metadata": {},
   "outputs": [],
   "source": [
    "import numpy as np\n",
    "import sklearn.metrics\n",
    "import torch\n",
    "\n",
    "\n",
    "def calc_metrics(preds0, preds1, preds2, preds3, y):\n",
    "    assert len(y) == len(preds0) == len(preds1) == len(preds2) == len(preds3)\n",
    "\n",
    "    recall_grapheme = sklearn.metrics.recall_score(preds0, y[:, 0], average='macro')\n",
    "    recall_vowel = sklearn.metrics.recall_score(preds1, y[:, 1], average='macro')\n",
    "    recall_consonant = sklearn.metrics.recall_score(preds2, y[:, 2], average='macro')\n",
    "    recall_word = sklearn.metrics.recall_score(preds3, y[:, 3], average='macro')\n",
    "    \n",
    "    scores = [recall_grapheme, recall_vowel, recall_consonant]\n",
    "    final_recall_score = np.average(scores, weights=[2, 1, 1])\n",
    "    \n",
    "    metrics = {}\n",
    "    metrics['recall'] = round(final_recall_score, 6)\n",
    "    metrics['recall_grapheme'] = round(recall_grapheme, 6)\n",
    "    metrics['recall_vowel'] = round(recall_vowel, 6)\n",
    "    metrics['recall_consonant'] = round(recall_consonant, 6)\n",
    "    metrics['recall_word'] = round(recall_word, 6)\n",
    "    \n",
    "    metrics['acc_grapheme'] = round((preds0 == y[:, 0]).sum() / len(y), 6)\n",
    "    metrics['acc_vowel'] = round((preds1 == y[:, 1]).sum() / len(y), 6)\n",
    "    metrics['acc_consonant'] = round((preds2 == y[:, 2]).sum() / len(y), 6)\n",
    "    metrics['acc_word'] = round((preds3 == y[:, 3]).sum() / len(y), 6)    \n",
    "    \n",
    "    return metrics"
   ]
  },
  {
   "cell_type": "code",
   "execution_count": 24,
   "metadata": {},
   "outputs": [],
   "source": [
    "def criterion(outputs, y_true):\n",
    "    # outputs: (N, 182)\n",
    "    # y_true: (N, 3)\n",
    "    \n",
    "    outputs = torch.split(outputs, [168, 11, 7, 1295], dim=1)\n",
    "    loss0 = F.cross_entropy(outputs[0], y_true[:, 0], reduction='mean')\n",
    "    loss1 = F.cross_entropy(outputs[1], y_true[:, 1], reduction='mean')\n",
    "    loss2 = F.cross_entropy(outputs[2], y_true[:, 2], reduction='mean')\n",
    "    loss3 = F.cross_entropy(outputs[3], y_true[:, 3], reduction='mean')\n",
    "    \n",
    "    return loss0 + loss1 + loss2 + loss3 #, loss0.item(), loss1.item(), loss2.item()\n",
    "    #return loss3"
   ]
  },
  {
   "cell_type": "code",
   "execution_count": 25,
   "metadata": {},
   "outputs": [],
   "source": [
    "def validate(model, val_loader):\n",
    "    model.eval()\n",
    "    loss0, loss1, loss2, loss3 = 0., 0., 0., 0.\n",
    "    preds0, preds1, preds2, preds3 = [], [], [], []\n",
    "    y_true = []\n",
    "    with torch.no_grad():\n",
    "        for x, y in val_loader:\n",
    "            y_true.append(y)\n",
    "            x, y = x.cuda(), y.cuda()\n",
    "            outputs, outputs_aux1, outputs_aux2 = model(x)\n",
    "            #avg_outputs = torch.mean(torch.stack([outputs, outputs_aux1, outputs_aux2], 0), 0)\n",
    "            outputs = torch.split(outputs, [168, 11, 7, 1295], dim=1)\n",
    "            \n",
    "            preds0.append(torch.max(outputs[0], dim=1)[1])\n",
    "            preds1.append(torch.max(outputs[1], dim=1)[1])\n",
    "            preds2.append(torch.max(outputs[2], dim=1)[1])\n",
    "            preds3.append(torch.max(outputs[3], dim=1)[1])\n",
    "            loss0 += F.cross_entropy(outputs[0], y[:, 0], reduction='sum').item()\n",
    "            loss1 += F.cross_entropy(outputs[1], y[:, 1], reduction='sum').item()\n",
    "            loss2 += F.cross_entropy(outputs[2], y[:, 2], reduction='sum').item()\n",
    "            loss3 += F.cross_entropy(outputs[3], y[:, 3], reduction='sum').item()\n",
    "            \n",
    "            # for debug\n",
    "            #metrics = {}\n",
    "            #metrics['loss_grapheme'] =  F.cross_entropy(outputs[0], y[:, 0], reduction='mean').item()\n",
    "            #metrics['loss_vowel'] =  F.cross_entropy(outputs[1], y[:, 1], reduction='mean').item()\n",
    "            #metrics['loss_consonant'] =  F.cross_entropy(outputs[2], y[:, 2], reduction='mean').item()\n",
    "            #return metrics\n",
    "    \n",
    "    preds0 = torch.cat(preds0, 0).cpu().numpy()\n",
    "    preds1 = torch.cat(preds1, 0).cpu().numpy()\n",
    "    preds2 = torch.cat(preds2, 0).cpu().numpy()\n",
    "    preds3 = torch.cat(preds3, 0).cpu().numpy()\n",
    "    \n",
    "    y_true = torch.cat(y_true, 0).numpy()\n",
    "    \n",
    "    #print('y_true:', y_true.shape)\n",
    "    #print('preds0:', preds0.shape)\n",
    "    \n",
    "    metrics = calc_metrics(preds0, preds1, preds2, preds3, y_true)\n",
    "    metrics['loss_grapheme'] = round(loss0 / val_loader.num, 6)\n",
    "    metrics['loss_vowel'] = round(loss1 / val_loader.num, 6)\n",
    "    metrics['loss_consonant'] = round(loss2 / val_loader.num, 6)\n",
    "    metrics['loss_word'] = round(loss3 / val_loader.num, 6)\n",
    "    \n",
    "    return metrics\n",
    "            "
   ]
  },
  {
   "cell_type": "code",
   "execution_count": null,
   "metadata": {},
   "outputs": [],
   "source": []
  },
  {
   "cell_type": "code",
   "execution_count": 26,
   "metadata": {},
   "outputs": [],
   "source": [
    "def get_lrs(optimizer):\n",
    "    lrs = []\n",
    "    for pgs in optimizer.state_dict()['param_groups']:\n",
    "        lrs.append(pgs['lr'])\n",
    "    lrs = ['{:.6f}'.format(x) for x in lrs]\n",
    "    return lrs"
   ]
  },
  {
   "cell_type": "code",
   "execution_count": 27,
   "metadata": {},
   "outputs": [],
   "source": [
    "def save_model(model, model_file):\n",
    "    parent_dir = os.path.dirname(model_file)\n",
    "    if not os.path.exists(parent_dir):\n",
    "        os.makedirs(parent_dir)\n",
    "    if isinstance(model, nn.DataParallel):\n",
    "        torch.save(model.module.state_dict(), model_file)\n",
    "    else:\n",
    "        torch.save(model.state_dict(), model_file)"
   ]
  },
  {
   "cell_type": "code",
   "execution_count": 28,
   "metadata": {},
   "outputs": [],
   "source": [
    "def mixup(data, targets, alpha=1):\n",
    "    indices = torch.randperm(data.size(0))\n",
    "    shuffled_data = data[indices]\n",
    "    shuffled_targets = targets[indices]\n",
    "\n",
    "    lam = np.random.beta(alpha, alpha)\n",
    "    data = data * lam + shuffled_data * (1 - lam)\n",
    "    targets = (targets, shuffled_targets, lam)\n",
    "\n",
    "    return data, targets\n",
    "\n",
    "\n",
    "def mixup_criterion(outputs, targets):\n",
    "    targets1, targets2, lam = targets\n",
    "    #criterion = nn.CrossEntropyLoss(reduction='mean')\n",
    "    return lam * criterion(outputs, targets1) + (1 - lam) * criterion(outputs, targets2)"
   ]
  },
  {
   "cell_type": "code",
   "execution_count": 29,
   "metadata": {},
   "outputs": [],
   "source": [
    "def rand_bbox(size, lam):\n",
    "    W = size[2]\n",
    "    H = size[3]\n",
    "    cut_rat = np.sqrt(1. - lam)\n",
    "    cut_w = np.int(W * cut_rat)\n",
    "    cut_h = np.int(H * cut_rat)\n",
    "\n",
    "    # uniform\n",
    "    cx = np.random.randint(W)\n",
    "    cy = np.random.randint(H)\n",
    "\n",
    "    bbx1 = np.clip(cx - cut_w // 2, 0, W)\n",
    "    bby1 = np.clip(cy - cut_h // 2, 0, H)\n",
    "    bbx2 = np.clip(cx + cut_w // 2, 0, W)\n",
    "    bby2 = np.clip(cy + cut_h // 2, 0, H)\n",
    "\n",
    "    return bbx1, bby1, bbx2, bby2"
   ]
  },
  {
   "cell_type": "code",
   "execution_count": 30,
   "metadata": {},
   "outputs": [
    {
     "data": {
      "text/plain": [
       "0.6943253159557043"
      ]
     },
     "execution_count": 30,
     "metadata": {},
     "output_type": "execute_result"
    }
   ],
   "source": [
    "np.random.random()"
   ]
  },
  {
   "cell_type": "code",
   "execution_count": 31,
   "metadata": {},
   "outputs": [],
   "source": [
    "from over9000.over9000 import Over9000\n",
    "from over9000.radam import RAdam\n",
    "from gridmask import GridMask"
   ]
  },
  {
   "cell_type": "code",
   "execution_count": 32,
   "metadata": {},
   "outputs": [],
   "source": [
    "from cvcore.solver import WarmupCyclicalLR\n",
    "def make_optimizer(model, base_lr=4e-4, weight_decay=0., weight_decay_bias=0., epsilon=1e-3):\n",
    "    \"\"\"\n",
    "    Create optimizer with per-layer learning rate and weight decay.\n",
    "    \"\"\"\n",
    "    params = []\n",
    "    for key, value in model.named_parameters():\n",
    "        if not value.requires_grad:\n",
    "            continue\n",
    "        lr = base_lr\n",
    "        params += [{\"params\": [value], \"lr\": lr, \"weight_decay\": weight_decay_bias if 'bias' in key else weight_decay}]\n",
    "    \n",
    "    optimizer = torch.optim.AdamW(params, lr, eps=epsilon)\n",
    "    return optimizer"
   ]
  },
  {
   "cell_type": "code",
   "execution_count": 33,
   "metadata": {},
   "outputs": [],
   "source": [
    "def train_epoch(args, model, train_loader, epoch, optimizer, lr_scheduler, grid):\n",
    "    train_loss = 0\n",
    "\n",
    "    for batch_idx, (img, orig_img, targets) in enumerate(train_loader):\n",
    "        img, orig_img, targets  = img.cuda(), orig_img.cuda(), targets.cuda()\n",
    "        batch_size = img.size(0)\n",
    "        r = np.random.rand()\n",
    "\n",
    "        if r < 0.3:\n",
    "            # generate mixed sample\n",
    "            lam = np.random.beta(args.beta, args.beta)\n",
    "            rand_index = torch.randperm(img.size()[0]).cuda()\n",
    "            target_a = targets\n",
    "            target_b = targets[rand_index]\n",
    "            bbx1, bby1, bbx2, bby2 = rand_bbox(img.size(), lam)\n",
    "            #img[:, :, bby1:bby2, bbx1:bbx2] = img[rand_index, :, bby1:bby2, bbx1:bbx2] #for new cutmix\n",
    "            img[:, :, bbx1:bbx2, bby1:bby2] = img[rand_index, :, bbx1:bbx2, bby1:bby2]\n",
    "            \n",
    "            # adjust lambda to exactly match pixel ratio\n",
    "            lam = 1 - ((bbx2 - bbx1) * (bby2 - bby1) / (img.size()[-1] * img.size()[-2]))\n",
    "            # compute output\n",
    "            outputs, outputs_aux1, outputs_aux2 = model(img)\n",
    "            loss_primary = criterion(outputs, target_a) * lam + criterion(outputs, target_b) * (1. - lam)\n",
    "            loss_aux1 = criterion(outputs_aux1, target_a) * lam + criterion(outputs_aux1, target_b) * (1. - lam)\n",
    "            loss_aux2 = criterion(outputs_aux2, target_a) * lam + criterion(outputs_aux2, target_b) * (1. - lam)\n",
    "            loss = loss_primary + (loss_aux1 + loss_aux2)*0.8\n",
    "        elif r > 0.7:\n",
    "            img = grid(img)\n",
    "            outputs, outputs_aux1, outputs_aux2 = model(img)\n",
    "            loss_primary = criterion(outputs, targets)\n",
    "            loss_aux1 = criterion(outputs_aux1, targets)\n",
    "            loss_aux2 = criterion(outputs_aux2, targets)\n",
    "            loss = loss_primary + (loss_aux1 + loss_aux2)*0.8\n",
    "        else:\n",
    "            orig_img, targets = mixup(orig_img, targets)\n",
    "            outputs, outputs_aux1, outputs_aux2 = model(orig_img)\n",
    "            loss_primary = mixup_criterion(outputs, targets)\n",
    "            loss_aux1 = mixup_criterion(outputs_aux1, targets)\n",
    "            loss_aux2 = mixup_criterion(outputs_aux2, targets)\n",
    "            loss = loss_primary + (loss_aux1 + loss_aux2)*0.8\n",
    "            #loss = criterion(outputs, targets)\n",
    "\n",
    "        optimizer.zero_grad()\n",
    "        with amp.scale_loss(loss, optimizer) as scaled_loss:\n",
    "            scaled_loss.backward()\n",
    "        #loss.backward()\n",
    "        lr_scheduler(optimizer, batch_idx, epoch)\n",
    "        optimizer.step()            \n",
    "        \n",
    "        current_lr = get_lrs(optimizer)\n",
    "\n",
    "        train_loss += loss.item()\n",
    "        print('\\r {:4d} | {:.6f} | {:06d}/{} | {:.4f} | {:.4f} |'.format(\n",
    "            epoch, float(current_lr[0]), batch_size*(batch_idx+1), train_loader.num, \n",
    "            loss.item(), train_loss/(batch_idx+1)), end='')\n"
   ]
  },
  {
   "cell_type": "code",
   "execution_count": 34,
   "metadata": {},
   "outputs": [],
   "source": [
    "import copy\n",
    "best_metrics = 0.\n",
    "best_metrics_swa = 0.\n",
    "\n",
    "\n",
    "def validate_and_save(model, model_file, val_loader, save=False):\n",
    "    global best_metrics\n",
    "    best_key = 'recall'\n",
    "    val_metrics = validate(model, val_loader)\n",
    "    print('\\nval:', val_metrics)\n",
    "    \n",
    "    if val_metrics[best_key] > best_metrics:\n",
    "        best_metrics = val_metrics[best_key]\n",
    "        if save:\n",
    "            save_model(model, model_file)\n",
    "            print('###>>>>> saved', model_file)\n",
    "    model.train()\n",
    "\n",
    "def validate_and_save_swa(model, model_file, val_loader, save=False):\n",
    "    global best_metrics_swa\n",
    "    best_key = 'recall'\n",
    "    val_metrics = validate(model, val_loader)\n",
    "    print('\\nval:', val_metrics)\n",
    "    \n",
    "    if val_metrics[best_key] > best_metrics_swa:\n",
    "        best_metrics_swa = val_metrics[best_key]\n",
    "        if save:\n",
    "            save_model(model, model_file)\n",
    "            print('###>>>>> saved', model_file)\n",
    "    model.train()\n",
    "\n",
    "\n",
    "def train(args):\n",
    "    model, model_file = create_model(args)\n",
    "    model = model.cuda()\n",
    "\n",
    "    swa_args = copy.deepcopy(args)\n",
    "    swa_args.ckp_name = args.ckp_name + '_swa'\n",
    "    swa_model, swa_model_file = create_model(swa_args)\n",
    "    swa_model = swa_model.cuda()\n",
    "\n",
    "    optimizer = make_optimizer(model)\n",
    "    lr_scheduler = WarmupCyclicalLR(\n",
    "        \"cos\", args.base_lr, args.num_epochs, iters_per_epoch=len(train_loader), warmup_epochs=args.warmup_epochs)\n",
    "    \n",
    "    [model, swa_model], optimizer = amp.initialize([model, swa_model], optimizer, opt_level=\"O1\",verbosity=0)\n",
    "    \n",
    "    if torch.cuda.device_count() > 1:\n",
    "        model = nn.DataParallel(model)\n",
    "        swa_model = nn.DataParallel(swa_model)\n",
    "    \n",
    "    validate_and_save(model, model_file, val_loader, save=False)\n",
    "\n",
    "    swa_model_loaded = False\n",
    "    if os.path.exists(swa_model_file):\n",
    "        swa_model_loaded = True\n",
    "        validate_and_save_swa(swa_model, swa_model_file, val_loader, save=False)\n",
    "    \n",
    "    for cycle in range(1, args.num_cycles+1):\n",
    "        print('CYCLE:', cycle)\n",
    "        grid = GridMask(64, 128, rotate=15, ratio=0.6, mode=1, prob=1.)\n",
    "\n",
    "        for epoch in range(args.start_epoch, args.num_epochs):\n",
    "            grid.set_prob(epoch, args.st_epochs)\n",
    "            train_epoch(args, model, train_loader, epoch, optimizer, lr_scheduler, grid)\n",
    "            validate_and_save(model, model_file, val_loader, save=True)\n",
    "            \n",
    "            if (epoch+1) == args.swa_start and cycle == 1:\n",
    "                if not swa_model_loaded:\n",
    "                    copy_model(swa_model, model)\n",
    "                swa_n = args.swa_n\n",
    "            if (epoch+1) >= args.swa_start and (epoch+1) % args.swa_freq == 0:\n",
    "                print('SWA>>>:')\n",
    "                moving_average(swa_model, model, 1.0 / (swa_n + 1))\n",
    "                swa_n += 1\n",
    "                bn_update(train_loader, swa_model)\n",
    "                validate_and_save_swa(swa_model, swa_model_file, val_loader, save=True)\n",
    "\n",
    "        #args.base_lr = 4e-4\n",
    "        #args.num_epochs = 60\n",
    "        #args.warmup_epochs = 3\n",
    "\n",
    "        # reset scheduler at each cycle\n",
    "        lr_scheduler = WarmupCyclicalLR(\n",
    "            \"cos\", args.base_lr, args.num_epochs, iters_per_epoch=len(train_loader), warmup_epochs=args.warmup_epochs)"
   ]
  },
  {
   "cell_type": "code",
   "execution_count": 35,
   "metadata": {},
   "outputs": [],
   "source": [
    "args = Namespace()\n",
    "args.backbone = 'se_resnext50_32x4d'\n",
    "args.ckp_name = 'model4_se_resnext50_fold0_224.pth'\n",
    "\n",
    "args.base_lr = 1e-4\n",
    "args.num_epochs = 60\n",
    "args.start_epoch = 0\n",
    "args.warmup_epochs = 5\n",
    "\n",
    "args.num_cycles = 100\n",
    "args.batch_size = 640\n",
    "args.val_batch_size = 1024\n",
    "args.st_epochs = 10\n",
    "\n",
    "args.swa_start = 15\n",
    "args.swa_freq = 3\n",
    "args.swa_n = 10\n",
    "\n",
    "args.beta = 1.0\n",
    "args.cutmix_prob = 0.5"
   ]
  },
  {
   "cell_type": "code",
   "execution_count": 36,
   "metadata": {},
   "outputs": [
    {
     "name": "stdout",
     "output_type": "stream",
     "text": [
      "(200840, 6)\n",
      "(200840, 32332)\n",
      "(160596, 6) (40244, 6)\n"
     ]
    }
   ],
   "source": [
    "train_loader, val_loader = get_train_val_loaders(batch_size=args.batch_size, val_batch_size=args.val_batch_size, ifold=0)"
   ]
  },
  {
   "cell_type": "code",
   "execution_count": 37,
   "metadata": {},
   "outputs": [
    {
     "name": "stdout",
     "output_type": "stream",
     "text": [
      "init model4\n",
      "model file: ./model4-ckps/se_resnext50_32x4d/model4_se_resnext50_fold0_224.pth, exist: True\n",
      "loading ./model4-ckps/se_resnext50_32x4d/model4_se_resnext50_fold0_224.pth...\n",
      "init model4\n",
      "model file: ./model4-ckps/se_resnext50_32x4d/model4_se_resnext50_fold0_224.pth_swa, exist: True\n",
      "loading ./model4-ckps/se_resnext50_32x4d/model4_se_resnext50_fold0_224.pth_swa...\n",
      "\n",
      "val: {'recall': 0.997891, 'recall_grapheme': 0.997361, 'recall_vowel': 0.998719, 'recall_consonant': 0.998121, 'recall_word': 0.996619, 'acc_grapheme': 0.996993, 'acc_vowel': 0.998882, 'acc_consonant': 0.998907, 'acc_word': 0.996695, 'loss_grapheme': 0.029212, 'loss_vowel': 0.020441, 'loss_consonant': 0.016688, 'loss_word': 0.019529}\n",
      "\n",
      "val: {'recall': 0.998211, 'recall_grapheme': 0.99791, 'recall_vowel': 0.998928, 'recall_consonant': 0.998095, 'recall_word': 0.996816, 'acc_grapheme': 0.997292, 'acc_vowel': 0.998882, 'acc_consonant': 0.998857, 'acc_word': 0.996919, 'loss_grapheme': 0.012241, 'loss_vowel': 0.005872, 'loss_consonant': 0.004407, 'loss_word': 0.012649}\n",
      "CYCLE: 1\n",
      "    0 | 0.000020 | 160000/160596 | 7.0073 | 8.2862 |||\n",
      "val: {'recall': 0.997239, 'recall_grapheme': 0.99684, 'recall_vowel': 0.997856, 'recall_consonant': 0.99742, 'recall_word': 0.995641, 'acc_grapheme': 0.996322, 'acc_vowel': 0.998385, 'acc_consonant': 0.998435, 'acc_word': 0.995726, 'loss_grapheme': 0.088924, 'loss_vowel': 0.054922, 'loss_consonant': 0.047095, 'loss_word': 0.051858}\n",
      "    1 | 0.000040 | 160000/160596 | 0.9676 | 7.0106 |||\n",
      "val: {'recall': 0.997718, 'recall_grapheme': 0.997074, 'recall_vowel': 0.998557, 'recall_consonant': 0.998166, 'recall_word': 0.996601, 'acc_grapheme': 0.996869, 'acc_vowel': 0.998758, 'acc_consonant': 0.998758, 'acc_word': 0.996645, 'loss_grapheme': 0.029823, 'loss_vowel': 0.020881, 'loss_consonant': 0.016022, 'loss_word': 0.021049}\n",
      "    2 | 0.000060 | 160000/160596 | 9.2060 | 7.9448 |||\n",
      "val: {'recall': 0.997135, 'recall_grapheme': 0.996688, 'recall_vowel': 0.997878, 'recall_consonant': 0.997287, 'recall_word': 0.995334, 'acc_grapheme': 0.995925, 'acc_vowel': 0.998335, 'acc_consonant': 0.99841, 'acc_word': 0.995453, 'loss_grapheme': 0.083324, 'loss_vowel': 0.052788, 'loss_consonant': 0.039437, 'loss_word': 0.051516}\n",
      "    3 | 0.000079 | 160000/160596 | 1.0776 | 7.5633 ||\n",
      "val: {'recall': 0.997391, 'recall_grapheme': 0.996816, 'recall_vowel': 0.99825, 'recall_consonant': 0.99768, 'recall_word': 0.995432, 'acc_grapheme': 0.996024, 'acc_vowel': 0.998459, 'acc_consonant': 0.998236, 'acc_word': 0.995527, 'loss_grapheme': 0.050603, 'loss_vowel': 0.034781, 'loss_consonant': 0.025892, 'loss_word': 0.034965}\n",
      "    4 | 0.000098 | 160000/160596 | 14.8010 | 8.1725 |\n",
      "val: {'recall': 0.997247, 'recall_grapheme': 0.996399, 'recall_vowel': 0.998494, 'recall_consonant': 0.997695, 'recall_word': 0.996219, 'acc_grapheme': 0.996273, 'acc_vowel': 0.998658, 'acc_consonant': 0.998484, 'acc_word': 0.996248, 'loss_grapheme': 0.093881, 'loss_vowel': 0.063895, 'loss_consonant': 0.046381, 'loss_word': 0.053791}\n",
      "    5 | 0.000098 | 160000/160596 | 16.1747 | 7.7980 ||\n",
      "val: {'recall': 0.997228, 'recall_grapheme': 0.99652, 'recall_vowel': 0.997996, 'recall_consonant': 0.997875, 'recall_word': 0.995667, 'acc_grapheme': 0.996198, 'acc_vowel': 0.99836, 'acc_consonant': 0.998509, 'acc_word': 0.995751, 'loss_grapheme': 0.068963, 'loss_vowel': 0.055609, 'loss_consonant': 0.04126, 'loss_word': 0.038079}\n",
      "    6 | 0.000097 | 160000/160596 | 3.6425 | 7.7751 ||\n",
      "val: {'recall': 0.997117, 'recall_grapheme': 0.996692, 'recall_vowel': 0.997934, 'recall_consonant': 0.99715, 'recall_word': 0.995438, 'acc_grapheme': 0.996198, 'acc_vowel': 0.998161, 'acc_consonant': 0.99836, 'acc_word': 0.995577, 'loss_grapheme': 0.042043, 'loss_vowel': 0.026838, 'loss_consonant': 0.020609, 'loss_word': 0.029635}\n",
      "    7 | 0.000096 | 160000/160596 | 17.3081 | 7.8654 ||\n",
      "val: {'recall': 0.996922, 'recall_grapheme': 0.995782, 'recall_vowel': 0.998274, 'recall_consonant': 0.997848, 'recall_word': 0.995407, 'acc_grapheme': 0.9959, 'acc_vowel': 0.998633, 'acc_consonant': 0.998509, 'acc_word': 0.995527, 'loss_grapheme': 0.060891, 'loss_vowel': 0.039145, 'loss_consonant': 0.030063, 'loss_word': 0.039717}\n",
      "    8 | 0.000095 | 160000/160596 | 1.5917 | 7.4985 ||\n",
      "val: {'recall': 0.997326, 'recall_grapheme': 0.996725, 'recall_vowel': 0.998313, 'recall_consonant': 0.99754, 'recall_word': 0.99597, 'acc_grapheme': 0.996198, 'acc_vowel': 0.998509, 'acc_consonant': 0.998633, 'acc_word': 0.996049, 'loss_grapheme': 0.042177, 'loss_vowel': 0.025906, 'loss_consonant': 0.019561, 'loss_word': 0.029464}\n",
      "    9 | 0.000093 | 160000/160596 | 9.4592 | 8.0421 ||\n",
      "val: {'recall': 0.997329, 'recall_grapheme': 0.996451, 'recall_vowel': 0.998394, 'recall_consonant': 0.99802, 'recall_word': 0.995526, 'acc_grapheme': 0.996024, 'acc_vowel': 0.998236, 'acc_consonant': 0.998608, 'acc_word': 0.995676, 'loss_grapheme': 0.079547, 'loss_vowel': 0.050984, 'loss_consonant': 0.041517, 'loss_word': 0.049416}\n",
      "   10 | 0.000092 | 160000/160596 | 11.0856 | 8.0577 ||\n",
      "val: {'recall': 0.996717, 'recall_grapheme': 0.995619, 'recall_vowel': 0.998046, 'recall_consonant': 0.997585, 'recall_word': 0.994813, 'acc_grapheme': 0.995577, 'acc_vowel': 0.99831, 'acc_consonant': 0.998136, 'acc_word': 0.994956, 'loss_grapheme': 0.117439, 'loss_vowel': 0.072743, 'loss_consonant': 0.054418, 'loss_word': 0.070938}\n",
      "   11 | 0.000090 | 160000/160596 | 1.9329 | 7.2983 ||\n",
      "val: {'recall': 0.99663, 'recall_grapheme': 0.995602, 'recall_vowel': 0.998395, 'recall_consonant': 0.996922, 'recall_word': 0.995075, 'acc_grapheme': 0.995776, 'acc_vowel': 0.998484, 'acc_consonant': 0.998211, 'acc_word': 0.995179, 'loss_grapheme': 0.049221, 'loss_vowel': 0.032507, 'loss_consonant': 0.02558, 'loss_word': 0.034144}\n",
      "   12 | 0.000089 | 160000/160596 | 3.3732 | 8.5575 |||\n",
      "val: {'recall': 0.997186, 'recall_grapheme': 0.996217, 'recall_vowel': 0.998453, 'recall_consonant': 0.997857, 'recall_word': 0.99564, 'acc_grapheme': 0.99585, 'acc_vowel': 0.998633, 'acc_consonant': 0.998509, 'acc_word': 0.995776, 'loss_grapheme': 0.067081, 'loss_vowel': 0.048685, 'loss_consonant': 0.038468, 'loss_word': 0.040084}\n",
      "   13 | 0.000087 | 160000/160596 | 8.7838 | 7.6640 ||\n",
      "val: {'recall': 0.99708, 'recall_grapheme': 0.995982, 'recall_vowel': 0.9984, 'recall_consonant': 0.997956, 'recall_word': 0.99564, 'acc_grapheme': 0.996173, 'acc_vowel': 0.998584, 'acc_consonant': 0.998658, 'acc_word': 0.995701, 'loss_grapheme': 0.055994, 'loss_vowel': 0.038327, 'loss_consonant': 0.03223, 'loss_word': 0.036206}\n",
      "   14 | 0.000085 | 160000/160596 | 11.0650 | 7.4474 |"
     ]
    },
    {
     "name": "stderr",
     "output_type": "stream",
     "text": [
      "\r",
      "  0%|          | 0/250 [00:00<?, ?it/s]"
     ]
    },
    {
     "name": "stdout",
     "output_type": "stream",
     "text": [
      "\n",
      "val: {'recall': 0.996991, 'recall_grapheme': 0.995907, 'recall_vowel': 0.998297, 'recall_consonant': 0.997853, 'recall_word': 0.995243, 'acc_grapheme': 0.995726, 'acc_vowel': 0.998435, 'acc_consonant': 0.99831, 'acc_word': 0.995328, 'loss_grapheme': 0.066748, 'loss_vowel': 0.046505, 'loss_consonant': 0.038753, 'loss_word': 0.040924}\n",
      "SWA>>>:\n"
     ]
    },
    {
     "name": "stderr",
     "output_type": "stream",
     "text": [
      "100%|██████████| 250/250 [01:25<00:00,  3.07it/s]\n"
     ]
    },
    {
     "name": "stdout",
     "output_type": "stream",
     "text": [
      "\n",
      "val: {'recall': 0.998022, 'recall_grapheme': 0.997633, 'recall_vowel': 0.998762, 'recall_consonant': 0.998059, 'recall_word': 0.996893, 'acc_grapheme': 0.997292, 'acc_vowel': 0.998832, 'acc_consonant': 0.998807, 'acc_word': 0.996968, 'loss_grapheme': 0.012194, 'loss_vowel': 0.005771, 'loss_consonant': 0.004378, 'loss_word': 0.012638}\n",
      "   15 | 0.000083 | 160000/160596 | 1.5846 | 7.4776 ||\n",
      "val: {'recall': 0.99757, 'recall_grapheme': 0.99685, 'recall_vowel': 0.998725, 'recall_consonant': 0.997856, 'recall_word': 0.995902, 'acc_grapheme': 0.996496, 'acc_vowel': 0.998733, 'acc_consonant': 0.998584, 'acc_word': 0.995975, 'loss_grapheme': 0.024634, 'loss_vowel': 0.014759, 'loss_consonant': 0.013595, 'loss_word': 0.019522}\n",
      "   16 | 0.000081 | 160000/160596 | 1.5796 | 8.6269 |||\n",
      "val: {'recall': 0.996829, 'recall_grapheme': 0.995873, 'recall_vowel': 0.998206, 'recall_consonant': 0.997366, 'recall_word': 0.995122, 'acc_grapheme': 0.99585, 'acc_vowel': 0.998459, 'acc_consonant': 0.998285, 'acc_word': 0.995179, 'loss_grapheme': 0.070496, 'loss_vowel': 0.042778, 'loss_consonant': 0.036797, 'loss_word': 0.044643}\n",
      "   17 | 0.000079 | 160000/160596 | 18.5414 | 7.5577 |"
     ]
    },
    {
     "name": "stderr",
     "output_type": "stream",
     "text": [
      "\r",
      "  0%|          | 0/250 [00:00<?, ?it/s]"
     ]
    },
    {
     "name": "stdout",
     "output_type": "stream",
     "text": [
      "\n",
      "val: {'recall': 0.996857, 'recall_grapheme': 0.996074, 'recall_vowel': 0.998276, 'recall_consonant': 0.997004, 'recall_word': 0.995109, 'acc_grapheme': 0.995701, 'acc_vowel': 0.99841, 'acc_consonant': 0.998236, 'acc_word': 0.995155, 'loss_grapheme': 0.092875, 'loss_vowel': 0.057858, 'loss_consonant': 0.047808, 'loss_word': 0.056606}\n",
      "SWA>>>:\n"
     ]
    },
    {
     "name": "stderr",
     "output_type": "stream",
     "text": [
      "100%|██████████| 250/250 [01:26<00:00,  3.06it/s]\n"
     ]
    },
    {
     "name": "stdout",
     "output_type": "stream",
     "text": [
      "\n",
      "val: {'recall': 0.998178, 'recall_grapheme': 0.997931, 'recall_vowel': 0.998818, 'recall_consonant': 0.998032, 'recall_word': 0.99685, 'acc_grapheme': 0.997316, 'acc_vowel': 0.998882, 'acc_consonant': 0.998807, 'acc_word': 0.996944, 'loss_grapheme': 0.012163, 'loss_vowel': 0.005775, 'loss_consonant': 0.004423, 'loss_word': 0.012633}\n",
      "   18 | 0.000077 | 160000/160596 | 8.3364 | 7.2641 |||\n",
      "val: {'recall': 0.996816, 'recall_grapheme': 0.996149, 'recall_vowel': 0.997906, 'recall_consonant': 0.997063, 'recall_word': 0.994895, 'acc_grapheme': 0.995652, 'acc_vowel': 0.998161, 'acc_consonant': 0.998062, 'acc_word': 0.994956, 'loss_grapheme': 0.060171, 'loss_vowel': 0.039878, 'loss_consonant': 0.033599, 'loss_word': 0.039818}\n",
      "   19 | 0.000075 | 160000/160596 | 8.5846 | 8.2032 |||\n",
      "val: {'recall': 0.997298, 'recall_grapheme': 0.996649, 'recall_vowel': 0.99879, 'recall_consonant': 0.997104, 'recall_word': 0.995612, 'acc_grapheme': 0.996099, 'acc_vowel': 0.998708, 'acc_consonant': 0.99841, 'acc_word': 0.995701, 'loss_grapheme': 0.064348, 'loss_vowel': 0.042519, 'loss_consonant': 0.032711, 'loss_word': 0.039961}\n",
      "   20 | 0.000073 | 160000/160596 | 7.1123 | 8.3214 ||"
     ]
    },
    {
     "name": "stderr",
     "output_type": "stream",
     "text": [
      "\r",
      "  0%|          | 0/250 [00:00<?, ?it/s]"
     ]
    },
    {
     "name": "stdout",
     "output_type": "stream",
     "text": [
      "\n",
      "val: {'recall': 0.996987, 'recall_grapheme': 0.996221, 'recall_vowel': 0.998312, 'recall_consonant': 0.997194, 'recall_word': 0.995503, 'acc_grapheme': 0.996173, 'acc_vowel': 0.998435, 'acc_consonant': 0.998335, 'acc_word': 0.995627, 'loss_grapheme': 0.089351, 'loss_vowel': 0.062614, 'loss_consonant': 0.044881, 'loss_word': 0.055725}\n",
      "SWA>>>:\n"
     ]
    },
    {
     "name": "stderr",
     "output_type": "stream",
     "text": [
      "100%|██████████| 250/250 [01:26<00:00,  2.98it/s]\n"
     ]
    },
    {
     "name": "stdout",
     "output_type": "stream",
     "text": [
      "\n",
      "val: {'recall': 0.998099, 'recall_grapheme': 0.997749, 'recall_vowel': 0.998829, 'recall_consonant': 0.998069, 'recall_word': 0.996732, 'acc_grapheme': 0.997366, 'acc_vowel': 0.998907, 'acc_consonant': 0.998832, 'acc_word': 0.996819, 'loss_grapheme': 0.01212, 'loss_vowel': 0.00572, 'loss_consonant': 0.004481, 'loss_word': 0.012622}\n",
      "   21 | 0.000070 | 160000/160596 | 8.8459 | 7.7804 |||\n",
      "val: {'recall': 0.9976, 'recall_grapheme': 0.996859, 'recall_vowel': 0.998742, 'recall_consonant': 0.99794, 'recall_word': 0.995777, 'acc_grapheme': 0.996422, 'acc_vowel': 0.998758, 'acc_consonant': 0.998459, 'acc_word': 0.995875, 'loss_grapheme': 0.045661, 'loss_vowel': 0.031898, 'loss_consonant': 0.026305, 'loss_word': 0.029241}\n",
      "   22 | 0.000068 | 160000/160596 | 8.8647 | 7.6621 ||\n",
      "val: {'recall': 0.99732, 'recall_grapheme': 0.996426, 'recall_vowel': 0.99839, 'recall_consonant': 0.998037, 'recall_word': 0.995802, 'acc_grapheme': 0.996372, 'acc_vowel': 0.998509, 'acc_consonant': 0.998633, 'acc_word': 0.9959, 'loss_grapheme': 0.03305, 'loss_vowel': 0.023291, 'loss_consonant': 0.019897, 'loss_word': 0.023009}\n",
      "   23 | 0.000065 | 160000/160596 | 1.4982 | 7.5369 |||"
     ]
    },
    {
     "name": "stderr",
     "output_type": "stream",
     "text": [
      "\r",
      "  0%|          | 0/250 [00:00<?, ?it/s]"
     ]
    },
    {
     "name": "stdout",
     "output_type": "stream",
     "text": [
      "\n",
      "val: {'recall': 0.996923, 'recall_grapheme': 0.995912, 'recall_vowel': 0.998427, 'recall_consonant': 0.997441, 'recall_word': 0.995743, 'acc_grapheme': 0.996173, 'acc_vowel': 0.99841, 'acc_consonant': 0.998559, 'acc_word': 0.995801, 'loss_grapheme': 0.041826, 'loss_vowel': 0.029471, 'loss_consonant': 0.022965, 'loss_word': 0.028465}\n",
      "SWA>>>:\n"
     ]
    },
    {
     "name": "stderr",
     "output_type": "stream",
     "text": [
      "100%|██████████| 250/250 [01:25<00:00,  2.95it/s]\n"
     ]
    },
    {
     "name": "stdout",
     "output_type": "stream",
     "text": [
      "\n",
      "val: {'recall': 0.997995, 'recall_grapheme': 0.997553, 'recall_vowel': 0.998813, 'recall_consonant': 0.998063, 'recall_word': 0.996744, 'acc_grapheme': 0.997316, 'acc_vowel': 0.998882, 'acc_consonant': 0.998807, 'acc_word': 0.996844, 'loss_grapheme': 0.012067, 'loss_vowel': 0.005683, 'loss_consonant': 0.00449, 'loss_word': 0.012588}\n",
      "   24 | 0.000063 | 160000/160596 | 10.2704 | 7.9168 |\n",
      "val: {'recall': 0.997005, 'recall_grapheme': 0.996366, 'recall_vowel': 0.99818, 'recall_consonant': 0.99711, 'recall_word': 0.995364, 'acc_grapheme': 0.995925, 'acc_vowel': 0.99841, 'acc_consonant': 0.998261, 'acc_word': 0.995453, 'loss_grapheme': 0.044135, 'loss_vowel': 0.031111, 'loss_consonant': 0.025837, 'loss_word': 0.029087}\n",
      "   25 | 0.000060 | 160000/160596 | 1.4559 | 7.2849 ||\n",
      "val: {'recall': 0.99739, 'recall_grapheme': 0.997113, 'recall_vowel': 0.997915, 'recall_consonant': 0.997418, 'recall_word': 0.995818, 'acc_grapheme': 0.996347, 'acc_vowel': 0.998534, 'acc_consonant': 0.998459, 'acc_word': 0.995925, 'loss_grapheme': 0.031641, 'loss_vowel': 0.02265, 'loss_consonant': 0.018717, 'loss_word': 0.022446}\n",
      "   26 | 0.000058 | 160000/160596 | 5.4132 | 7.6834 |||"
     ]
    },
    {
     "name": "stderr",
     "output_type": "stream",
     "text": [
      "\r",
      "  0%|          | 0/250 [00:00<?, ?it/s]"
     ]
    },
    {
     "name": "stdout",
     "output_type": "stream",
     "text": [
      "\n",
      "val: {'recall': 0.997706, 'recall_grapheme': 0.997023, 'recall_vowel': 0.998661, 'recall_consonant': 0.998117, 'recall_word': 0.99637, 'acc_grapheme': 0.996521, 'acc_vowel': 0.998658, 'acc_consonant': 0.998782, 'acc_word': 0.996472, 'loss_grapheme': 0.023044, 'loss_vowel': 0.014624, 'loss_consonant': 0.012117, 'loss_word': 0.018249}\n",
      "SWA>>>:\n"
     ]
    },
    {
     "name": "stderr",
     "output_type": "stream",
     "text": [
      "100%|██████████| 250/250 [01:25<00:00,  3.03it/s]\n"
     ]
    },
    {
     "name": "stdout",
     "output_type": "stream",
     "text": [
      "\n",
      "val: {'recall': 0.998115, 'recall_grapheme': 0.997795, 'recall_vowel': 0.998775, 'recall_consonant': 0.998093, 'recall_word': 0.996831, 'acc_grapheme': 0.997441, 'acc_vowel': 0.998832, 'acc_consonant': 0.998832, 'acc_word': 0.996919, 'loss_grapheme': 0.011985, 'loss_vowel': 0.00571, 'loss_consonant': 0.004456, 'loss_word': 0.01252}\n",
      "   27 | 0.000055 | 160000/160596 | 7.1499 | 7.7678 ||\n",
      "val: {'recall': 0.99739, 'recall_grapheme': 0.996576, 'recall_vowel': 0.998509, 'recall_consonant': 0.997899, 'recall_word': 0.995934, 'acc_grapheme': 0.996372, 'acc_vowel': 0.998584, 'acc_consonant': 0.998633, 'acc_word': 0.996024, 'loss_grapheme': 0.053152, 'loss_vowel': 0.037961, 'loss_consonant': 0.027421, 'loss_word': 0.033326}\n",
      "   28 | 0.000053 | 160000/160596 | 16.0476 | 7.0030 |\n",
      "val: {'recall': 0.997394, 'recall_grapheme': 0.996608, 'recall_vowel': 0.998569, 'recall_consonant': 0.997791, 'recall_word': 0.995885, 'acc_grapheme': 0.996298, 'acc_vowel': 0.998658, 'acc_consonant': 0.998534, 'acc_word': 0.995999, 'loss_grapheme': 0.046099, 'loss_vowel': 0.032028, 'loss_consonant': 0.024212, 'loss_word': 0.028298}\n",
      "   29 | 0.000050 | 160000/160596 | 17.5258 | 7.6610 ||"
     ]
    },
    {
     "name": "stderr",
     "output_type": "stream",
     "text": [
      "\r",
      "  0%|          | 0/250 [00:00<?, ?it/s]"
     ]
    },
    {
     "name": "stdout",
     "output_type": "stream",
     "text": [
      "\n",
      "val: {'recall': 0.997549, 'recall_grapheme': 0.996807, 'recall_vowel': 0.998466, 'recall_consonant': 0.998115, 'recall_word': 0.996238, 'acc_grapheme': 0.99667, 'acc_vowel': 0.998584, 'acc_consonant': 0.998807, 'acc_word': 0.996347, 'loss_grapheme': 0.027199, 'loss_vowel': 0.018749, 'loss_consonant': 0.015522, 'loss_word': 0.020389}\n",
      "SWA>>>:\n"
     ]
    },
    {
     "name": "stderr",
     "output_type": "stream",
     "text": [
      "100%|██████████| 250/250 [01:25<00:00,  2.94it/s]\n"
     ]
    },
    {
     "name": "stdout",
     "output_type": "stream",
     "text": [
      "\n",
      "val: {'recall': 0.998033, 'recall_grapheme': 0.997618, 'recall_vowel': 0.99879, 'recall_consonant': 0.998107, 'recall_word': 0.99673, 'acc_grapheme': 0.997416, 'acc_vowel': 0.998857, 'acc_consonant': 0.998882, 'acc_word': 0.996819, 'loss_grapheme': 0.011891, 'loss_vowel': 0.005618, 'loss_consonant': 0.004452, 'loss_word': 0.012419}\n",
      "   30 | 0.000047 | 160000/160596 | 1.5351 | 7.4908 |||\n",
      "val: {'recall': 0.99752, 'recall_grapheme': 0.9969, 'recall_vowel': 0.998332, 'recall_consonant': 0.997947, 'recall_word': 0.996122, 'acc_grapheme': 0.996521, 'acc_vowel': 0.998608, 'acc_consonant': 0.998608, 'acc_word': 0.996198, 'loss_grapheme': 0.034095, 'loss_vowel': 0.024047, 'loss_consonant': 0.019471, 'loss_word': 0.022681}\n",
      "   31 | 0.000045 | 160000/160596 | 8.2022 | 8.2077 |||\n",
      "val: {'recall': 0.997106, 'recall_grapheme': 0.996431, 'recall_vowel': 0.997704, 'recall_consonant': 0.997858, 'recall_word': 0.994984, 'acc_grapheme': 0.9959, 'acc_vowel': 0.998211, 'acc_consonant': 0.99836, 'acc_word': 0.99513, 'loss_grapheme': 0.12445, 'loss_vowel': 0.072906, 'loss_consonant': 0.057872, 'loss_word': 0.078007}\n",
      "   32 | 0.000042 | 160000/160596 | 17.6022 | 8.0212 |"
     ]
    },
    {
     "name": "stderr",
     "output_type": "stream",
     "text": [
      "\r",
      "  0%|          | 0/250 [00:00<?, ?it/s]"
     ]
    },
    {
     "name": "stdout",
     "output_type": "stream",
     "text": [
      "\n",
      "val: {'recall': 0.997488, 'recall_grapheme': 0.99683, 'recall_vowel': 0.998312, 'recall_consonant': 0.997983, 'recall_word': 0.995866, 'acc_grapheme': 0.996248, 'acc_vowel': 0.998559, 'acc_consonant': 0.998608, 'acc_word': 0.99595, 'loss_grapheme': 0.053088, 'loss_vowel': 0.034774, 'loss_consonant': 0.026219, 'loss_word': 0.034371}\n",
      "SWA>>>:\n"
     ]
    },
    {
     "name": "stderr",
     "output_type": "stream",
     "text": [
      "100%|██████████| 250/250 [01:25<00:00,  3.04it/s]\n"
     ]
    },
    {
     "name": "stdout",
     "output_type": "stream",
     "text": [
      "\n",
      "val: {'recall': 0.998122, 'recall_grapheme': 0.997793, 'recall_vowel': 0.998775, 'recall_consonant': 0.998126, 'recall_word': 0.996881, 'acc_grapheme': 0.997416, 'acc_vowel': 0.998832, 'acc_consonant': 0.998857, 'acc_word': 0.996968, 'loss_grapheme': 0.01188, 'loss_vowel': 0.005635, 'loss_consonant': 0.004498, 'loss_word': 0.012413}\n",
      "   33 | 0.000040 | 160000/160596 | 4.5732 | 8.0773 |||\n",
      "val: {'recall': 0.997348, 'recall_grapheme': 0.996716, 'recall_vowel': 0.998018, 'recall_consonant': 0.99794, 'recall_word': 0.995213, 'acc_grapheme': 0.995999, 'acc_vowel': 0.99841, 'acc_consonant': 0.998559, 'acc_word': 0.995378, 'loss_grapheme': 0.085127, 'loss_vowel': 0.06147, 'loss_consonant': 0.042179, 'loss_word': 0.049232}\n",
      "   34 | 0.000037 | 160000/160596 | 1.7016 | 8.1473 ||\n",
      "val: {'recall': 0.997781, 'recall_grapheme': 0.997287, 'recall_vowel': 0.998419, 'recall_consonant': 0.998132, 'recall_word': 0.996229, 'acc_grapheme': 0.996596, 'acc_vowel': 0.998608, 'acc_consonant': 0.998708, 'acc_word': 0.996298, 'loss_grapheme': 0.057737, 'loss_vowel': 0.040666, 'loss_consonant': 0.03112, 'loss_word': 0.032982}\n",
      "   35 | 0.000035 | 160000/160596 | 1.2851 | 7.7921 |||"
     ]
    },
    {
     "name": "stderr",
     "output_type": "stream",
     "text": [
      "\r",
      "  0%|          | 0/250 [00:00<?, ?it/s]"
     ]
    },
    {
     "name": "stdout",
     "output_type": "stream",
     "text": [
      "\n",
      "val: {'recall': 0.997808, 'recall_grapheme': 0.997386, 'recall_vowel': 0.998342, 'recall_consonant': 0.998119, 'recall_word': 0.996249, 'acc_grapheme': 0.996695, 'acc_vowel': 0.998584, 'acc_consonant': 0.998782, 'acc_word': 0.996347, 'loss_grapheme': 0.041755, 'loss_vowel': 0.028524, 'loss_consonant': 0.022585, 'loss_word': 0.026888}\n",
      "SWA>>>:\n"
     ]
    },
    {
     "name": "stderr",
     "output_type": "stream",
     "text": [
      "100%|██████████| 250/250 [01:25<00:00,  2.95it/s]\n"
     ]
    },
    {
     "name": "stdout",
     "output_type": "stream",
     "text": [
      "\n",
      "val: {'recall': 0.998107, 'recall_grapheme': 0.997774, 'recall_vowel': 0.998764, 'recall_consonant': 0.998119, 'recall_word': 0.996845, 'acc_grapheme': 0.997391, 'acc_vowel': 0.998807, 'acc_consonant': 0.998932, 'acc_word': 0.996919, 'loss_grapheme': 0.011919, 'loss_vowel': 0.005648, 'loss_consonant': 0.004523, 'loss_word': 0.012431}\n",
      "   36 | 0.000032 | 160000/160596 | 8.9739 | 7.7453 ||\n",
      "val: {'recall': 0.996803, 'recall_grapheme': 0.995948, 'recall_vowel': 0.997796, 'recall_consonant': 0.997519, 'recall_word': 0.995037, 'acc_grapheme': 0.995577, 'acc_vowel': 0.998186, 'acc_consonant': 0.998385, 'acc_word': 0.99513, 'loss_grapheme': 0.086757, 'loss_vowel': 0.057624, 'loss_consonant': 0.047382, 'loss_word': 0.049707}\n",
      "   37 | 0.000030 | 160000/160596 | 19.4661 | 7.6088 ||\n",
      "val: {'recall': 0.997717, 'recall_grapheme': 0.997257, 'recall_vowel': 0.998232, 'recall_consonant': 0.998121, 'recall_word': 0.996343, 'acc_grapheme': 0.996621, 'acc_vowel': 0.998584, 'acc_consonant': 0.998807, 'acc_word': 0.996422, 'loss_grapheme': 0.044264, 'loss_vowel': 0.030283, 'loss_consonant': 0.024759, 'loss_word': 0.027225}\n",
      "   38 | 0.000027 | 160000/160596 | 5.7644 | 8.3351 |||"
     ]
    },
    {
     "name": "stderr",
     "output_type": "stream",
     "text": [
      "\r",
      "  0%|          | 0/250 [00:00<?, ?it/s]"
     ]
    },
    {
     "name": "stdout",
     "output_type": "stream",
     "text": [
      "\n",
      "val: {'recall': 0.997417, 'recall_grapheme': 0.996721, 'recall_vowel': 0.998243, 'recall_consonant': 0.997984, 'recall_word': 0.995958, 'acc_grapheme': 0.996397, 'acc_vowel': 0.998608, 'acc_consonant': 0.998534, 'acc_word': 0.996024, 'loss_grapheme': 0.058543, 'loss_vowel': 0.038576, 'loss_consonant': 0.03061, 'loss_word': 0.035124}\n",
      "SWA>>>:\n"
     ]
    },
    {
     "name": "stderr",
     "output_type": "stream",
     "text": [
      "100%|██████████| 250/250 [01:25<00:00,  3.07it/s]\n"
     ]
    },
    {
     "name": "stdout",
     "output_type": "stream",
     "text": [
      "\n",
      "val: {'recall': 0.998176, 'recall_grapheme': 0.997849, 'recall_vowel': 0.998893, 'recall_consonant': 0.998113, 'recall_word': 0.99683, 'acc_grapheme': 0.997465, 'acc_vowel': 0.998832, 'acc_consonant': 0.998907, 'acc_word': 0.996919, 'loss_grapheme': 0.01184, 'loss_vowel': 0.005557, 'loss_consonant': 0.004519, 'loss_word': 0.012371}\n",
      "   39 | 0.000025 | 160000/160596 | 1.7709 | 7.3360 |||\n",
      "val: {'recall': 0.997697, 'recall_grapheme': 0.997119, 'recall_vowel': 0.998602, 'recall_consonant': 0.997947, 'recall_word': 0.996091, 'acc_grapheme': 0.996621, 'acc_vowel': 0.998683, 'acc_consonant': 0.998658, 'acc_word': 0.996173, 'loss_grapheme': 0.028844, 'loss_vowel': 0.018276, 'loss_consonant': 0.015686, 'loss_word': 0.021599}\n",
      "   40 | 0.000023 | 160000/160596 | 1.4301 | 8.0411 ||\n",
      "val: {'recall': 0.997976, 'recall_grapheme': 0.997423, 'recall_vowel': 0.998984, 'recall_consonant': 0.998075, 'recall_word': 0.996695, 'acc_grapheme': 0.997192, 'acc_vowel': 0.998882, 'acc_consonant': 0.998956, 'acc_word': 0.996795, 'loss_grapheme': 0.015999, 'loss_vowel': 0.009396, 'loss_consonant': 0.008114, 'loss_word': 0.014277}\n",
      "###>>>>> saved ./model4-ckps/se_resnext50_32x4d/model4_se_resnext50_fold0_224.pth\n",
      "   41 | 0.000021 | 160000/160596 | 1.4356 | 7.9242 |||"
     ]
    },
    {
     "name": "stderr",
     "output_type": "stream",
     "text": [
      "\r",
      "  0%|          | 0/250 [00:00<?, ?it/s]"
     ]
    },
    {
     "name": "stdout",
     "output_type": "stream",
     "text": [
      "\n",
      "val: {'recall': 0.997699, 'recall_grapheme': 0.997422, 'recall_vowel': 0.998317, 'recall_consonant': 0.997636, 'recall_word': 0.996546, 'acc_grapheme': 0.996819, 'acc_vowel': 0.998633, 'acc_consonant': 0.998758, 'acc_word': 0.996645, 'loss_grapheme': 0.02942, 'loss_vowel': 0.019801, 'loss_consonant': 0.016922, 'loss_word': 0.020847}\n",
      "SWA>>>:\n"
     ]
    },
    {
     "name": "stderr",
     "output_type": "stream",
     "text": [
      "100%|██████████| 250/250 [01:26<00:00,  3.02it/s]\n"
     ]
    },
    {
     "name": "stdout",
     "output_type": "stream",
     "text": [
      "\n",
      "val: {'recall': 0.99813, 'recall_grapheme': 0.997817, 'recall_vowel': 0.998781, 'recall_consonant': 0.998107, 'recall_word': 0.996888, 'acc_grapheme': 0.997465, 'acc_vowel': 0.998807, 'acc_consonant': 0.998882, 'acc_word': 0.996968, 'loss_grapheme': 0.011843, 'loss_vowel': 0.005574, 'loss_consonant': 0.004514, 'loss_word': 0.012339}\n",
      "   42 | 0.000019 | 160000/160596 | 7.0465 | 8.5513 |||\n",
      "val: {'recall': 0.997415, 'recall_grapheme': 0.996975, 'recall_vowel': 0.998237, 'recall_consonant': 0.997474, 'recall_word': 0.995778, 'acc_grapheme': 0.996521, 'acc_vowel': 0.998608, 'acc_consonant': 0.998559, 'acc_word': 0.995875, 'loss_grapheme': 0.052131, 'loss_vowel': 0.036025, 'loss_consonant': 0.029171, 'loss_word': 0.031763}\n",
      "   43 | 0.000017 | 160000/160596 | 4.0250 | 7.4602 ||\n",
      "val: {'recall': 0.99752, 'recall_grapheme': 0.997078, 'recall_vowel': 0.998046, 'recall_consonant': 0.997877, 'recall_word': 0.995953, 'acc_grapheme': 0.996621, 'acc_vowel': 0.998435, 'acc_consonant': 0.998534, 'acc_word': 0.996024, 'loss_grapheme': 0.043528, 'loss_vowel': 0.028895, 'loss_consonant': 0.024398, 'loss_word': 0.029107}\n",
      "   44 | 0.000015 | 160000/160596 | 1.5486 | 7.8011 |||"
     ]
    },
    {
     "name": "stderr",
     "output_type": "stream",
     "text": [
      "\r",
      "  0%|          | 0/250 [00:00<?, ?it/s]"
     ]
    },
    {
     "name": "stdout",
     "output_type": "stream",
     "text": [
      "\n",
      "val: {'recall': 0.997629, 'recall_grapheme': 0.997096, 'recall_vowel': 0.99813, 'recall_consonant': 0.998195, 'recall_word': 0.996505, 'acc_grapheme': 0.996919, 'acc_vowel': 0.998559, 'acc_consonant': 0.998882, 'acc_word': 0.996596, 'loss_grapheme': 0.028048, 'loss_vowel': 0.017972, 'loss_consonant': 0.015204, 'loss_word': 0.020176}\n",
      "SWA>>>:\n"
     ]
    },
    {
     "name": "stderr",
     "output_type": "stream",
     "text": [
      "100%|██████████| 250/250 [01:25<00:00,  3.00it/s]\n"
     ]
    },
    {
     "name": "stdout",
     "output_type": "stream",
     "text": [
      "\n",
      "val: {'recall': 0.998147, 'recall_grapheme': 0.99785, 'recall_vowel': 0.998781, 'recall_consonant': 0.998107, 'recall_word': 0.99687, 'acc_grapheme': 0.997465, 'acc_vowel': 0.998807, 'acc_consonant': 0.998882, 'acc_word': 0.996968, 'loss_grapheme': 0.011851, 'loss_vowel': 0.005615, 'loss_consonant': 0.004547, 'loss_word': 0.012365}\n",
      "   45 | 0.000013 | 160000/160596 | 7.8688 | 7.8120 |||\n",
      "val: {'recall': 0.997287, 'recall_grapheme': 0.996829, 'recall_vowel': 0.998156, 'recall_consonant': 0.997335, 'recall_word': 0.995826, 'acc_grapheme': 0.996298, 'acc_vowel': 0.998385, 'acc_consonant': 0.998484, 'acc_word': 0.995925, 'loss_grapheme': 0.050872, 'loss_vowel': 0.032847, 'loss_consonant': 0.028116, 'loss_word': 0.03291}\n",
      "   46 | 0.000011 | 160000/160596 | 18.8186 | 7.5803 ||\n",
      "val: {'recall': 0.997616, 'recall_grapheme': 0.99705, 'recall_vowel': 0.998434, 'recall_consonant': 0.997932, 'recall_word': 0.996044, 'acc_grapheme': 0.996472, 'acc_vowel': 0.998633, 'acc_consonant': 0.998658, 'acc_word': 0.996124, 'loss_grapheme': 0.085619, 'loss_vowel': 0.060115, 'loss_consonant': 0.044021, 'loss_word': 0.048928}\n",
      "   47 | 0.000010 | 160000/160596 | 1.5716 | 8.1886 |||"
     ]
    },
    {
     "name": "stderr",
     "output_type": "stream",
     "text": [
      "\r",
      "  0%|          | 0/250 [00:00<?, ?it/s]"
     ]
    },
    {
     "name": "stdout",
     "output_type": "stream",
     "text": [
      "\n",
      "val: {'recall': 0.997729, 'recall_grapheme': 0.997218, 'recall_vowel': 0.998442, 'recall_consonant': 0.998036, 'recall_word': 0.996539, 'acc_grapheme': 0.996869, 'acc_vowel': 0.998658, 'acc_consonant': 0.998758, 'acc_word': 0.996596, 'loss_grapheme': 0.037789, 'loss_vowel': 0.027301, 'loss_consonant': 0.0223, 'loss_word': 0.024759}\n",
      "SWA>>>:\n"
     ]
    },
    {
     "name": "stderr",
     "output_type": "stream",
     "text": [
      "100%|██████████| 250/250 [01:26<00:00,  3.01it/s]\n"
     ]
    },
    {
     "name": "stdout",
     "output_type": "stream",
     "text": [
      "\n",
      "val: {'recall': 0.998129, 'recall_grapheme': 0.997825, 'recall_vowel': 0.998792, 'recall_consonant': 0.998075, 'recall_word': 0.996903, 'acc_grapheme': 0.997416, 'acc_vowel': 0.998832, 'acc_consonant': 0.998857, 'acc_word': 0.996993, 'loss_grapheme': 0.011884, 'loss_vowel': 0.005624, 'loss_consonant': 0.004573, 'loss_word': 0.012392}\n",
      "   48 | 0.000008 | 160000/160596 | 1.5996 | 7.9014 ||\n",
      "val: {'recall': 0.997701, 'recall_grapheme': 0.997356, 'recall_vowel': 0.998431, 'recall_consonant': 0.99766, 'recall_word': 0.996236, 'acc_grapheme': 0.99672, 'acc_vowel': 0.998584, 'acc_consonant': 0.998758, 'acc_word': 0.996322, 'loss_grapheme': 0.034781, 'loss_vowel': 0.024765, 'loss_consonant': 0.021179, 'loss_word': 0.02387}\n",
      "   49 | 0.000007 | 160000/160596 | 12.3060 | 7.0089 ||\n",
      "val: {'recall': 0.997546, 'recall_grapheme': 0.996826, 'recall_vowel': 0.998485, 'recall_consonant': 0.998046, 'recall_word': 0.996254, 'acc_grapheme': 0.996621, 'acc_vowel': 0.998658, 'acc_consonant': 0.998708, 'acc_word': 0.996347, 'loss_grapheme': 0.043254, 'loss_vowel': 0.029813, 'loss_consonant': 0.022879, 'loss_word': 0.027612}\n",
      "   50 | 0.000005 | 160000/160596 | 1.3492 | 7.4789 |||"
     ]
    },
    {
     "name": "stderr",
     "output_type": "stream",
     "text": [
      "\r",
      "  0%|          | 0/250 [00:00<?, ?it/s]"
     ]
    },
    {
     "name": "stdout",
     "output_type": "stream",
     "text": [
      "\n",
      "val: {'recall': 0.997556, 'recall_grapheme': 0.996903, 'recall_vowel': 0.998469, 'recall_consonant': 0.997947, 'recall_word': 0.996156, 'acc_grapheme': 0.996571, 'acc_vowel': 0.998584, 'acc_consonant': 0.998608, 'acc_word': 0.996248, 'loss_grapheme': 0.048315, 'loss_vowel': 0.033254, 'loss_consonant': 0.026597, 'loss_word': 0.030745}\n",
      "SWA>>>:\n"
     ]
    },
    {
     "name": "stderr",
     "output_type": "stream",
     "text": [
      "100%|██████████| 250/250 [01:25<00:00,  3.06it/s]\n"
     ]
    },
    {
     "name": "stdout",
     "output_type": "stream",
     "text": [
      "\n",
      "val: {'recall': 0.998166, 'recall_grapheme': 0.997835, 'recall_vowel': 0.998921, 'recall_consonant': 0.998075, 'recall_word': 0.996903, 'acc_grapheme': 0.997441, 'acc_vowel': 0.998857, 'acc_consonant': 0.998857, 'acc_word': 0.996993, 'loss_grapheme': 0.01185, 'loss_vowel': 0.005587, 'loss_consonant': 0.004583, 'loss_word': 0.012364}\n",
      "   51 | 0.000004 | 160000/160596 | 12.9459 | 8.0877 |\n",
      "val: {'recall': 0.997447, 'recall_grapheme': 0.996776, 'recall_vowel': 0.998298, 'recall_consonant': 0.997938, 'recall_word': 0.996054, 'acc_grapheme': 0.996422, 'acc_vowel': 0.998534, 'acc_consonant': 0.998584, 'acc_word': 0.996148, 'loss_grapheme': 0.106779, 'loss_vowel': 0.073253, 'loss_consonant': 0.055816, 'loss_word': 0.059477}\n",
      "   52 | 0.000003 | 160000/160596 | 5.1662 | 7.4087 |||\n",
      "val: {'recall': 0.997767, 'recall_grapheme': 0.997372, 'recall_vowel': 0.998356, 'recall_consonant': 0.997969, 'recall_word': 0.996234, 'acc_grapheme': 0.996795, 'acc_vowel': 0.998584, 'acc_consonant': 0.998584, 'acc_word': 0.996322, 'loss_grapheme': 0.028651, 'loss_vowel': 0.019143, 'loss_consonant': 0.016081, 'loss_word': 0.021118}\n",
      "   53 | 0.000002 | 160000/160596 | 10.4851 | 7.5440 |"
     ]
    },
    {
     "name": "stderr",
     "output_type": "stream",
     "text": [
      "\r",
      "  0%|          | 0/250 [00:00<?, ?it/s]"
     ]
    },
    {
     "name": "stdout",
     "output_type": "stream",
     "text": [
      "\n",
      "val: {'recall': 0.997557, 'recall_grapheme': 0.99695, 'recall_vowel': 0.99841, 'recall_consonant': 0.997918, 'recall_word': 0.996196, 'acc_grapheme': 0.996521, 'acc_vowel': 0.998683, 'acc_consonant': 0.998608, 'acc_word': 0.996298, 'loss_grapheme': 0.062435, 'loss_vowel': 0.044119, 'loss_consonant': 0.034379, 'loss_word': 0.037582}\n",
      "SWA>>>:\n"
     ]
    },
    {
     "name": "stderr",
     "output_type": "stream",
     "text": [
      "100%|██████████| 250/250 [01:26<00:00,  2.91it/s]\n"
     ]
    },
    {
     "name": "stdout",
     "output_type": "stream",
     "text": [
      "\n",
      "val: {'recall': 0.998159, 'recall_grapheme': 0.997843, 'recall_vowel': 0.998907, 'recall_consonant': 0.998042, 'recall_word': 0.996933, 'acc_grapheme': 0.997416, 'acc_vowel': 0.998832, 'acc_consonant': 0.998832, 'acc_word': 0.997018, 'loss_grapheme': 0.011854, 'loss_vowel': 0.005608, 'loss_consonant': 0.004584, 'loss_word': 0.012411}\n",
      "   54 | 0.000002 | 160000/160596 | 14.9572 | 6.9917 |\n",
      "val: {'recall': 0.997783, 'recall_grapheme': 0.997177, 'recall_vowel': 0.998614, 'recall_consonant': 0.998165, 'recall_word': 0.996737, 'acc_grapheme': 0.996919, 'acc_vowel': 0.998807, 'acc_consonant': 0.998857, 'acc_word': 0.996795, 'loss_grapheme': 0.053962, 'loss_vowel': 0.039422, 'loss_consonant': 0.030782, 'loss_word': 0.031723}\n",
      "   55 | 0.000001 | 160000/160596 | 1.4291 | 7.3527 |||\n",
      "val: {'recall': 0.997593, 'recall_grapheme': 0.997209, 'recall_vowel': 0.998573, 'recall_consonant': 0.997381, 'recall_word': 0.99599, 'acc_grapheme': 0.996621, 'acc_vowel': 0.998708, 'acc_consonant': 0.998484, 'acc_word': 0.996074, 'loss_grapheme': 0.031101, 'loss_vowel': 0.019595, 'loss_consonant': 0.016716, 'loss_word': 0.022829}\n",
      "   56 | 0.000001 | 160000/160596 | 5.8551 | 7.2654 ||"
     ]
    },
    {
     "name": "stderr",
     "output_type": "stream",
     "text": [
      "\r",
      "  0%|          | 0/250 [00:00<?, ?it/s]"
     ]
    },
    {
     "name": "stdout",
     "output_type": "stream",
     "text": [
      "\n",
      "val: {'recall': 0.99745, 'recall_grapheme': 0.997005, 'recall_vowel': 0.998387, 'recall_consonant': 0.997401, 'recall_word': 0.995607, 'acc_grapheme': 0.996273, 'acc_vowel': 0.998335, 'acc_consonant': 0.998435, 'acc_word': 0.995676, 'loss_grapheme': 0.054462, 'loss_vowel': 0.037275, 'loss_consonant': 0.031252, 'loss_word': 0.035804}\n",
      "SWA>>>:\n"
     ]
    },
    {
     "name": "stderr",
     "output_type": "stream",
     "text": [
      "100%|██████████| 250/250 [01:25<00:00,  3.05it/s]\n"
     ]
    },
    {
     "name": "stdout",
     "output_type": "stream",
     "text": [
      "\n",
      "val: {'recall': 0.998144, 'recall_grapheme': 0.997807, 'recall_vowel': 0.998921, 'recall_consonant': 0.998042, 'recall_word': 0.99696, 'acc_grapheme': 0.997366, 'acc_vowel': 0.998857, 'acc_consonant': 0.998832, 'acc_word': 0.997043, 'loss_grapheme': 0.011839, 'loss_vowel': 0.005597, 'loss_consonant': 0.004606, 'loss_word': 0.012361}\n",
      "   57 | 0.000000 | 160000/160596 | 8.4270 | 7.8913 |||\n",
      "val: {'recall': 0.997977, 'recall_grapheme': 0.997672, 'recall_vowel': 0.998455, 'recall_consonant': 0.998109, 'recall_word': 0.996644, 'acc_grapheme': 0.997093, 'acc_vowel': 0.998633, 'acc_consonant': 0.998733, 'acc_word': 0.996695, 'loss_grapheme': 0.023209, 'loss_vowel': 0.014679, 'loss_consonant': 0.012705, 'loss_word': 0.018242}\n",
      "###>>>>> saved ./model4-ckps/se_resnext50_32x4d/model4_se_resnext50_fold0_224.pth\n",
      "   58 | 0.000000 | 160000/160596 | 1.7300 | 7.4731 ||\n",
      "val: {'recall': 0.99782, 'recall_grapheme': 0.997285, 'recall_vowel': 0.998592, 'recall_consonant': 0.998118, 'recall_word': 0.99662, 'acc_grapheme': 0.997043, 'acc_vowel': 0.998683, 'acc_consonant': 0.998782, 'acc_word': 0.99667, 'loss_grapheme': 0.031781, 'loss_vowel': 0.02201, 'loss_consonant': 0.018517, 'loss_word': 0.021325}\n",
      "   59 | 0.000000 | 160000/160596 | 1.6282 | 7.8827 |||"
     ]
    },
    {
     "name": "stderr",
     "output_type": "stream",
     "text": [
      "\r",
      "  0%|          | 0/250 [00:00<?, ?it/s]"
     ]
    },
    {
     "name": "stdout",
     "output_type": "stream",
     "text": [
      "\n",
      "val: {'recall': 0.99771, 'recall_grapheme': 0.997157, 'recall_vowel': 0.998477, 'recall_consonant': 0.998049, 'recall_word': 0.996255, 'acc_grapheme': 0.996745, 'acc_vowel': 0.998733, 'acc_consonant': 0.998708, 'acc_word': 0.996372, 'loss_grapheme': 0.052708, 'loss_vowel': 0.037354, 'loss_consonant': 0.029988, 'loss_word': 0.031935}\n",
      "SWA>>>:\n"
     ]
    },
    {
     "name": "stderr",
     "output_type": "stream",
     "text": [
      "100%|██████████| 250/250 [01:25<00:00,  2.86it/s]\n"
     ]
    },
    {
     "name": "stdout",
     "output_type": "stream",
     "text": [
      "\n",
      "val: {'recall': 0.998151, 'recall_grapheme': 0.997801, 'recall_vowel': 0.998895, 'recall_consonant': 0.99811, 'recall_word': 0.996913, 'acc_grapheme': 0.997341, 'acc_vowel': 0.998807, 'acc_consonant': 0.998857, 'acc_word': 0.996993, 'loss_grapheme': 0.011844, 'loss_vowel': 0.005553, 'loss_consonant': 0.004608, 'loss_word': 0.012364}\n",
      "CYCLE: 2\n",
      "    0 | 0.000020 | 160000/160596 | 16.5274 | 7.9823 |\n",
      "val: {'recall': 0.997416, 'recall_grapheme': 0.996567, 'recall_vowel': 0.998417, 'recall_consonant': 0.998112, 'recall_word': 0.996356, 'acc_grapheme': 0.996546, 'acc_vowel': 0.998683, 'acc_consonant': 0.998758, 'acc_word': 0.996447, 'loss_grapheme': 0.06831, 'loss_vowel': 0.049501, 'loss_consonant': 0.0373, 'loss_word': 0.038209}\n",
      "    1 | 0.000040 | 160000/160596 | 12.3289 | 7.6000 ||\n",
      "val: {'recall': 0.997381, 'recall_grapheme': 0.996561, 'recall_vowel': 0.998289, 'recall_consonant': 0.998112, 'recall_word': 0.996385, 'acc_grapheme': 0.996695, 'acc_vowel': 0.998708, 'acc_consonant': 0.998758, 'acc_word': 0.996472, 'loss_grapheme': 0.03905, 'loss_vowel': 0.028514, 'loss_consonant': 0.021836, 'loss_word': 0.024766}\n",
      "    2 | 0.000060 | 160000/160596 | 1.0019 | 7.0997 ||\n",
      "val: {'recall': 0.99784, 'recall_grapheme': 0.997405, 'recall_vowel': 0.998476, 'recall_consonant': 0.998073, 'recall_word': 0.996229, 'acc_grapheme': 0.996795, 'acc_vowel': 0.998683, 'acc_consonant': 0.998683, 'acc_word': 0.996322, 'loss_grapheme': 0.030384, 'loss_vowel': 0.020433, 'loss_consonant': 0.017886, 'loss_word': 0.022315}\n",
      "    3 | 0.000079 | 160000/160596 | 3.8050 | 6.6401 |||\n",
      "val: {'recall': 0.997227, 'recall_grapheme': 0.996486, 'recall_vowel': 0.998268, 'recall_consonant': 0.99767, 'recall_word': 0.995242, 'acc_grapheme': 0.995925, 'acc_vowel': 0.998385, 'acc_consonant': 0.998211, 'acc_word': 0.995328, 'loss_grapheme': 0.056584, 'loss_vowel': 0.03876, 'loss_consonant': 0.030202, 'loss_word': 0.035661}\n",
      "    4 | 0.000098 | 160000/160596 | 6.6132 | 7.7473 ||\n",
      "val: {'recall': 0.996632, 'recall_grapheme': 0.995575, 'recall_vowel': 0.99843, 'recall_consonant': 0.996949, 'recall_word': 0.994289, 'acc_grapheme': 0.994807, 'acc_vowel': 0.998285, 'acc_consonant': 0.998012, 'acc_word': 0.994434, 'loss_grapheme': 0.073035, 'loss_vowel': 0.049237, 'loss_consonant': 0.036877, 'loss_word': 0.046686}\n",
      "    5 | 0.000098 | 160000/160596 | 10.1683 | 7.7176 |\n",
      "val: {'recall': 0.996722, 'recall_grapheme': 0.995785, 'recall_vowel': 0.997832, 'recall_consonant': 0.997485, 'recall_word': 0.994875, 'acc_grapheme': 0.995403, 'acc_vowel': 0.998161, 'acc_consonant': 0.998261, 'acc_word': 0.994956, 'loss_grapheme': 0.066822, 'loss_vowel': 0.047496, 'loss_consonant': 0.039107, 'loss_word': 0.04151}\n",
      "    6 | 0.000097 | 160000/160596 | 19.3767 | 7.6111 |\n",
      "val: {'recall': 0.99721, 'recall_grapheme': 0.996522, 'recall_vowel': 0.998422, 'recall_consonant': 0.997372, 'recall_word': 0.995463, 'acc_grapheme': 0.996074, 'acc_vowel': 0.998484, 'acc_consonant': 0.998385, 'acc_word': 0.995577, 'loss_grapheme': 0.049583, 'loss_vowel': 0.032284, 'loss_consonant': 0.026683, 'loss_word': 0.033147}\n",
      "    7 | 0.000096 | 160000/160596 | 7.6422 | 7.2638 |||\n",
      "val: {'recall': 0.997079, 'recall_grapheme': 0.996174, 'recall_vowel': 0.998435, 'recall_consonant': 0.997533, 'recall_word': 0.995814, 'acc_grapheme': 0.996223, 'acc_vowel': 0.99841, 'acc_consonant': 0.99831, 'acc_word': 0.99585, 'loss_grapheme': 0.034754, 'loss_vowel': 0.021818, 'loss_consonant': 0.018755, 'loss_word': 0.023927}\n",
      "    8 | 0.000095 | 160000/160596 | 7.0920 | 8.2892 ||\n",
      "val: {'recall': 0.996563, 'recall_grapheme': 0.995555, 'recall_vowel': 0.997624, 'recall_consonant': 0.997518, 'recall_word': 0.994615, 'acc_grapheme': 0.995527, 'acc_vowel': 0.998211, 'acc_consonant': 0.998211, 'acc_word': 0.994732, 'loss_grapheme': 0.058987, 'loss_vowel': 0.038966, 'loss_consonant': 0.033067, 'loss_word': 0.037612}\n",
      "    9 | 0.000093 | 160000/160596 | 1.3528 | 8.0992 ||\n",
      "val: {'recall': 0.997557, 'recall_grapheme': 0.996966, 'recall_vowel': 0.998245, 'recall_consonant': 0.998048, 'recall_word': 0.996088, 'acc_grapheme': 0.996496, 'acc_vowel': 0.998633, 'acc_consonant': 0.998683, 'acc_word': 0.996148, 'loss_grapheme': 0.022874, 'loss_vowel': 0.014188, 'loss_consonant': 0.012796, 'loss_word': 0.017533}\n",
      "   10 | 0.000092 | 160000/160596 | 1.3836 | 7.6406 |||\n",
      "val: {'recall': 0.99753, 'recall_grapheme': 0.997006, 'recall_vowel': 0.998145, 'recall_consonant': 0.997964, 'recall_word': 0.99588, 'acc_grapheme': 0.996347, 'acc_vowel': 0.998435, 'acc_consonant': 0.998608, 'acc_word': 0.995975, 'loss_grapheme': 0.041626, 'loss_vowel': 0.027289, 'loss_consonant': 0.023239, 'loss_word': 0.026301}\n",
      "   11 | 0.000090 | 160000/160596 | 19.5929 | 7.1721 ||\n",
      "val: {'recall': 0.997028, 'recall_grapheme': 0.996217, 'recall_vowel': 0.998132, 'recall_consonant': 0.997546, 'recall_word': 0.99532, 'acc_grapheme': 0.99585, 'acc_vowel': 0.99836, 'acc_consonant': 0.998285, 'acc_word': 0.995428, 'loss_grapheme': 0.058191, 'loss_vowel': 0.034446, 'loss_consonant': 0.03117, 'loss_word': 0.036669}\n",
      "   12 | 0.000089 | 160000/160596 | 16.3775 | 7.8657 ||\n",
      "val: {'recall': 0.997139, 'recall_grapheme': 0.99599, 'recall_vowel': 0.998659, 'recall_consonant': 0.997917, 'recall_word': 0.995426, 'acc_grapheme': 0.995801, 'acc_vowel': 0.998683, 'acc_consonant': 0.998559, 'acc_word': 0.995527, 'loss_grapheme': 0.044859, 'loss_vowel': 0.02777, 'loss_consonant': 0.021473, 'loss_word': 0.030797}\n",
      "   13 | 0.000087 | 160000/160596 | 1.3589 | 7.3964 |||\n",
      "val: {'recall': 0.997421, 'recall_grapheme': 0.996698, 'recall_vowel': 0.998271, 'recall_consonant': 0.998016, 'recall_word': 0.995838, 'acc_grapheme': 0.996397, 'acc_vowel': 0.998385, 'acc_consonant': 0.998435, 'acc_word': 0.99595, 'loss_grapheme': 0.029528, 'loss_vowel': 0.018355, 'loss_consonant': 0.016208, 'loss_word': 0.022064}\n",
      "   14 | 0.000085 | 160000/160596 | 1.6093 | 7.8720 ||"
     ]
    },
    {
     "name": "stderr",
     "output_type": "stream",
     "text": [
      "\r",
      "  0%|          | 0/250 [00:00<?, ?it/s]"
     ]
    },
    {
     "name": "stdout",
     "output_type": "stream",
     "text": [
      "\n",
      "val: {'recall': 0.997264, 'recall_grapheme': 0.996539, 'recall_vowel': 0.998282, 'recall_consonant': 0.997697, 'recall_word': 0.995746, 'acc_grapheme': 0.996198, 'acc_vowel': 0.998484, 'acc_consonant': 0.998285, 'acc_word': 0.995801, 'loss_grapheme': 0.045665, 'loss_vowel': 0.031166, 'loss_consonant': 0.025957, 'loss_word': 0.029713}\n",
      "SWA>>>:\n"
     ]
    },
    {
     "name": "stderr",
     "output_type": "stream",
     "text": [
      "100%|██████████| 250/250 [01:25<00:00,  3.05it/s]\n"
     ]
    },
    {
     "name": "stdout",
     "output_type": "stream",
     "text": [
      "\n",
      "val: {'recall': 0.99812, 'recall_grapheme': 0.997759, 'recall_vowel': 0.998919, 'recall_consonant': 0.998042, 'recall_word': 0.996935, 'acc_grapheme': 0.997341, 'acc_vowel': 0.998857, 'acc_consonant': 0.998832, 'acc_word': 0.997018, 'loss_grapheme': 0.01185, 'loss_vowel': 0.005571, 'loss_consonant': 0.004613, 'loss_word': 0.012385}\n",
      "   15 | 0.000083 | 160000/160596 | 6.4163 | 7.8349 |||\n",
      "val: {'recall': 0.99725, 'recall_grapheme': 0.996466, 'recall_vowel': 0.998297, 'recall_consonant': 0.997769, 'recall_word': 0.995515, 'acc_grapheme': 0.996223, 'acc_vowel': 0.998559, 'acc_consonant': 0.99841, 'acc_word': 0.995577, 'loss_grapheme': 0.054174, 'loss_vowel': 0.031378, 'loss_consonant': 0.027559, 'loss_word': 0.034921}\n",
      "   16 | 0.000081 | 160000/160596 | 16.4337 | 7.6846 ||\n",
      "val: {'recall': 0.997703, 'recall_grapheme': 0.997083, 'recall_vowel': 0.99855, 'recall_consonant': 0.998097, 'recall_word': 0.99623, 'acc_grapheme': 0.99672, 'acc_vowel': 0.998733, 'acc_consonant': 0.998559, 'acc_word': 0.996372, 'loss_grapheme': 0.043539, 'loss_vowel': 0.029598, 'loss_consonant': 0.024944, 'loss_word': 0.028279}\n",
      "   17 | 0.000079 | 160000/160596 | 7.6118 | 7.9622 ||"
     ]
    },
    {
     "name": "stderr",
     "output_type": "stream",
     "text": [
      "\r",
      "  0%|          | 0/250 [00:00<?, ?it/s]"
     ]
    },
    {
     "name": "stdout",
     "output_type": "stream",
     "text": [
      "\n",
      "val: {'recall': 0.996413, 'recall_grapheme': 0.995205, 'recall_vowel': 0.997908, 'recall_consonant': 0.997336, 'recall_word': 0.99446, 'acc_grapheme': 0.994956, 'acc_vowel': 0.998087, 'acc_consonant': 0.998236, 'acc_word': 0.994558, 'loss_grapheme': 0.141594, 'loss_vowel': 0.087595, 'loss_consonant': 0.07068, 'loss_word': 0.089633}\n",
      "SWA>>>:\n"
     ]
    },
    {
     "name": "stderr",
     "output_type": "stream",
     "text": [
      "100%|██████████| 250/250 [01:25<00:00,  2.99it/s]\n"
     ]
    },
    {
     "name": "stdout",
     "output_type": "stream",
     "text": [
      "\n",
      "val: {'recall': 0.998125, 'recall_grapheme': 0.997773, 'recall_vowel': 0.998919, 'recall_consonant': 0.998036, 'recall_word': 0.99696, 'acc_grapheme': 0.997366, 'acc_vowel': 0.998857, 'acc_consonant': 0.998807, 'acc_word': 0.997043, 'loss_grapheme': 0.011862, 'loss_vowel': 0.005538, 'loss_consonant': 0.004606, 'loss_word': 0.012386}\n",
      "   18 | 0.000077 | 160000/160596 | 9.0587 | 7.6690 ||\n",
      "val: {'recall': 0.997728, 'recall_grapheme': 0.997221, 'recall_vowel': 0.998438, 'recall_consonant': 0.998032, 'recall_word': 0.995914, 'acc_grapheme': 0.996422, 'acc_vowel': 0.998633, 'acc_consonant': 0.998584, 'acc_word': 0.995999, 'loss_grapheme': 0.034772, 'loss_vowel': 0.0238, 'loss_consonant': 0.020323, 'loss_word': 0.02425}\n",
      "   19 | 0.000075 | 160000/160596 | 5.5100 | 7.8546 |||\n",
      "val: {'recall': 0.997611, 'recall_grapheme': 0.996928, 'recall_vowel': 0.998467, 'recall_consonant': 0.998122, 'recall_word': 0.995662, 'acc_grapheme': 0.996397, 'acc_vowel': 0.998459, 'acc_consonant': 0.998608, 'acc_word': 0.995776, 'loss_grapheme': 0.086504, 'loss_vowel': 0.05955, 'loss_consonant': 0.047477, 'loss_word': 0.052364}\n",
      "   20 | 0.000073 | 160000/160596 | 18.3804 | 7.4544 |"
     ]
    },
    {
     "name": "stderr",
     "output_type": "stream",
     "text": [
      "\r",
      "  0%|          | 0/250 [00:00<?, ?it/s]"
     ]
    },
    {
     "name": "stdout",
     "output_type": "stream",
     "text": [
      "\n",
      "val: {'recall': 0.997272, 'recall_grapheme': 0.996447, 'recall_vowel': 0.998357, 'recall_consonant': 0.997837, 'recall_word': 0.99596, 'acc_grapheme': 0.996397, 'acc_vowel': 0.998633, 'acc_consonant': 0.998509, 'acc_word': 0.996074, 'loss_grapheme': 0.05048, 'loss_vowel': 0.034308, 'loss_consonant': 0.028585, 'loss_word': 0.031652}\n",
      "SWA>>>:\n"
     ]
    },
    {
     "name": "stderr",
     "output_type": "stream",
     "text": [
      "100%|██████████| 250/250 [01:25<00:00,  3.01it/s]\n"
     ]
    },
    {
     "name": "stdout",
     "output_type": "stream",
     "text": [
      "\n",
      "val: {'recall': 0.99819, 'recall_grapheme': 0.997887, 'recall_vowel': 0.998923, 'recall_consonant': 0.998063, 'recall_word': 0.996915, 'acc_grapheme': 0.997441, 'acc_vowel': 0.998857, 'acc_consonant': 0.998807, 'acc_word': 0.996993, 'loss_grapheme': 0.011726, 'loss_vowel': 0.005503, 'loss_consonant': 0.004562, 'loss_word': 0.012282}\n",
      "   21 | 0.000070 | 160000/160596 | 18.4370 | 7.2866 |\n",
      "val: {'recall': 0.997316, 'recall_grapheme': 0.996364, 'recall_vowel': 0.998619, 'recall_consonant': 0.997916, 'recall_word': 0.99637, 'acc_grapheme': 0.996621, 'acc_vowel': 0.998733, 'acc_consonant': 0.998509, 'acc_word': 0.996496, 'loss_grapheme': 0.042926, 'loss_vowel': 0.028589, 'loss_consonant': 0.024806, 'loss_word': 0.025796}\n",
      "   22 | 0.000068 | 160000/160596 | 1.4538 | 8.0524 ||\n",
      "val: {'recall': 0.997732, 'recall_grapheme': 0.997119, 'recall_vowel': 0.998674, 'recall_consonant': 0.998018, 'recall_word': 0.996316, 'acc_grapheme': 0.99677, 'acc_vowel': 0.998857, 'acc_consonant': 0.998683, 'acc_word': 0.996397, 'loss_grapheme': 0.037183, 'loss_vowel': 0.026625, 'loss_consonant': 0.021253, 'loss_word': 0.024644}\n",
      "   23 | 0.000065 | 160000/160596 | 7.5412 | 7.6886 ||"
     ]
    },
    {
     "name": "stderr",
     "output_type": "stream",
     "text": [
      "\r",
      "  0%|          | 0/250 [00:00<?, ?it/s]"
     ]
    },
    {
     "name": "stdout",
     "output_type": "stream",
     "text": [
      "\n",
      "val: {'recall': 0.99684, 'recall_grapheme': 0.9959, 'recall_vowel': 0.997819, 'recall_consonant': 0.997738, 'recall_word': 0.9947, 'acc_grapheme': 0.995502, 'acc_vowel': 0.998211, 'acc_consonant': 0.998211, 'acc_word': 0.994856, 'loss_grapheme': 0.097775, 'loss_vowel': 0.05894, 'loss_consonant': 0.043147, 'loss_word': 0.064196}\n",
      "SWA>>>:\n"
     ]
    },
    {
     "name": "stderr",
     "output_type": "stream",
     "text": [
      "100%|██████████| 250/250 [01:25<00:00,  3.03it/s]\n"
     ]
    },
    {
     "name": "stdout",
     "output_type": "stream",
     "text": [
      "\n",
      "val: {'recall': 0.998184, 'recall_grapheme': 0.99788, 'recall_vowel': 0.998908, 'recall_consonant': 0.998069, 'recall_word': 0.996931, 'acc_grapheme': 0.997416, 'acc_vowel': 0.998832, 'acc_consonant': 0.998832, 'acc_word': 0.997018, 'loss_grapheme': 0.011797, 'loss_vowel': 0.005474, 'loss_consonant': 0.004611, 'loss_word': 0.012285}\n",
      "   24 | 0.000063 | 160000/160596 | 1.4863 | 7.5498 |||\n",
      "val: {'recall': 0.997373, 'recall_grapheme': 0.996738, 'recall_vowel': 0.998076, 'recall_consonant': 0.99794, 'recall_word': 0.996139, 'acc_grapheme': 0.996621, 'acc_vowel': 0.998459, 'acc_consonant': 0.998534, 'acc_word': 0.996273, 'loss_grapheme': 0.042377, 'loss_vowel': 0.02845, 'loss_consonant': 0.02408, 'loss_word': 0.026563}\n",
      "   25 | 0.000060 | 160000/160596 | 6.1908 | 7.6541 ||\n",
      "val: {'recall': 0.996825, 'recall_grapheme': 0.996136, 'recall_vowel': 0.997954, 'recall_consonant': 0.997076, 'recall_word': 0.995214, 'acc_grapheme': 0.995602, 'acc_vowel': 0.998385, 'acc_consonant': 0.998161, 'acc_word': 0.995304, 'loss_grapheme': 0.044324, 'loss_vowel': 0.026613, 'loss_consonant': 0.024117, 'loss_word': 0.030958}\n",
      "   26 | 0.000058 | 160000/160596 | 1.5068 | 7.9564 ||"
     ]
    },
    {
     "name": "stderr",
     "output_type": "stream",
     "text": [
      "\r",
      "  0%|          | 0/250 [00:00<?, ?it/s]"
     ]
    },
    {
     "name": "stdout",
     "output_type": "stream",
     "text": [
      "\n",
      "val: {'recall': 0.997222, 'recall_grapheme': 0.996424, 'recall_vowel': 0.99807, 'recall_consonant': 0.997972, 'recall_word': 0.995788, 'acc_grapheme': 0.996198, 'acc_vowel': 0.998484, 'acc_consonant': 0.998559, 'acc_word': 0.995875, 'loss_grapheme': 0.045695, 'loss_vowel': 0.029086, 'loss_consonant': 0.025269, 'loss_word': 0.029816}\n",
      "SWA>>>:\n"
     ]
    },
    {
     "name": "stderr",
     "output_type": "stream",
     "text": [
      "100%|██████████| 250/250 [01:25<00:00,  2.79it/s]\n"
     ]
    },
    {
     "name": "stdout",
     "output_type": "stream",
     "text": [
      "\n",
      "val: {'recall': 0.998189, 'recall_grapheme': 0.997863, 'recall_vowel': 0.99896, 'recall_consonant': 0.998069, 'recall_word': 0.996958, 'acc_grapheme': 0.997391, 'acc_vowel': 0.998907, 'acc_consonant': 0.998832, 'acc_word': 0.997043, 'loss_grapheme': 0.011804, 'loss_vowel': 0.005495, 'loss_consonant': 0.004619, 'loss_word': 0.012284}\n",
      "   27 | 0.000055 | 160000/160596 | 1.4370 | 7.6291 ||\n",
      "val: {'recall': 0.997562, 'recall_grapheme': 0.996919, 'recall_vowel': 0.998432, 'recall_consonant': 0.997978, 'recall_word': 0.995946, 'acc_grapheme': 0.996347, 'acc_vowel': 0.998683, 'acc_consonant': 0.998608, 'acc_word': 0.996049, 'loss_grapheme': 0.031532, 'loss_vowel': 0.019648, 'loss_consonant': 0.01659, 'loss_word': 0.022492}\n",
      "   28 | 0.000053 | 160000/160596 | 2.4981 | 7.4280 ||\n",
      "val: {'recall': 0.9977, 'recall_grapheme': 0.997182, 'recall_vowel': 0.998431, 'recall_consonant': 0.998004, 'recall_word': 0.996157, 'acc_grapheme': 0.996521, 'acc_vowel': 0.998608, 'acc_consonant': 0.998608, 'acc_word': 0.996273, 'loss_grapheme': 0.025862, 'loss_vowel': 0.014761, 'loss_consonant': 0.013809, 'loss_word': 0.020226}\n",
      "   29 | 0.000050 | 160000/160596 | 1.4651 | 7.4878 ||"
     ]
    },
    {
     "name": "stderr",
     "output_type": "stream",
     "text": [
      "\r",
      "  0%|          | 0/250 [00:00<?, ?it/s]"
     ]
    },
    {
     "name": "stdout",
     "output_type": "stream",
     "text": [
      "\n",
      "val: {'recall': 0.997417, 'recall_grapheme': 0.996752, 'recall_vowel': 0.998393, 'recall_consonant': 0.997772, 'recall_word': 0.995592, 'acc_grapheme': 0.996173, 'acc_vowel': 0.998633, 'acc_consonant': 0.99841, 'acc_word': 0.995701, 'loss_grapheme': 0.033583, 'loss_vowel': 0.020405, 'loss_consonant': 0.017449, 'loss_word': 0.025344}\n",
      "SWA>>>:\n"
     ]
    },
    {
     "name": "stderr",
     "output_type": "stream",
     "text": [
      "100%|██████████| 250/250 [01:25<00:00,  2.91it/s]\n"
     ]
    },
    {
     "name": "stdout",
     "output_type": "stream",
     "text": [
      "\n",
      "val: {'recall': 0.998187, 'recall_grapheme': 0.997858, 'recall_vowel': 0.998974, 'recall_consonant': 0.998058, 'recall_word': 0.996966, 'acc_grapheme': 0.997391, 'acc_vowel': 0.998907, 'acc_consonant': 0.998782, 'acc_word': 0.997043, 'loss_grapheme': 0.011766, 'loss_vowel': 0.005482, 'loss_consonant': 0.004606, 'loss_word': 0.012228}\n",
      "   30 | 0.000047 | 160000/160596 | 1.3581 | 6.9828 |||\n",
      "val: {'recall': 0.997604, 'recall_grapheme': 0.997298, 'recall_vowel': 0.998335, 'recall_consonant': 0.997485, 'recall_word': 0.995956, 'acc_grapheme': 0.99672, 'acc_vowel': 0.998534, 'acc_consonant': 0.998559, 'acc_word': 0.996024, 'loss_grapheme': 0.024279, 'loss_vowel': 0.014915, 'loss_consonant': 0.013242, 'loss_word': 0.019366}\n",
      "   31 | 0.000045 | 160000/160596 | 14.4168 | 6.7924 ||\n",
      "val: {'recall': 0.997361, 'recall_grapheme': 0.996768, 'recall_vowel': 0.997995, 'recall_consonant': 0.997911, 'recall_word': 0.995764, 'acc_grapheme': 0.996397, 'acc_vowel': 0.998484, 'acc_consonant': 0.998459, 'acc_word': 0.99585, 'loss_grapheme': 0.038948, 'loss_vowel': 0.027301, 'loss_consonant': 0.021409, 'loss_word': 0.027459}\n",
      "   32 | 0.000042 | 160000/160596 | 1.5682 | 8.1839 |||"
     ]
    },
    {
     "name": "stderr",
     "output_type": "stream",
     "text": [
      "\r",
      "  0%|          | 0/250 [00:00<?, ?it/s]"
     ]
    },
    {
     "name": "stdout",
     "output_type": "stream",
     "text": [
      "\n",
      "val: {'recall': 0.997392, 'recall_grapheme': 0.996685, 'recall_vowel': 0.998299, 'recall_consonant': 0.9979, 'recall_word': 0.995899, 'acc_grapheme': 0.996372, 'acc_vowel': 0.998509, 'acc_consonant': 0.998484, 'acc_word': 0.996024, 'loss_grapheme': 0.049537, 'loss_vowel': 0.032442, 'loss_consonant': 0.028389, 'loss_word': 0.030813}\n",
      "SWA>>>:\n"
     ]
    },
    {
     "name": "stderr",
     "output_type": "stream",
     "text": [
      "100%|██████████| 250/250 [01:26<00:00,  2.98it/s]\n"
     ]
    },
    {
     "name": "stdout",
     "output_type": "stream",
     "text": [
      "\n",
      "val: {'recall': 0.998194, 'recall_grapheme': 0.997887, 'recall_vowel': 0.998938, 'recall_consonant': 0.998064, 'recall_word': 0.996966, 'acc_grapheme': 0.997441, 'acc_vowel': 0.998857, 'acc_consonant': 0.998807, 'acc_word': 0.997043, 'loss_grapheme': 0.011755, 'loss_vowel': 0.005467, 'loss_consonant': 0.004628, 'loss_word': 0.012223}\n",
      "   33 | 0.000040 | 160000/160596 | 15.7202 | 7.3498 ||\n",
      "val: {'recall': 0.997312, 'recall_grapheme': 0.996719, 'recall_vowel': 0.998179, 'recall_consonant': 0.997633, 'recall_word': 0.995891, 'acc_grapheme': 0.996273, 'acc_vowel': 0.998459, 'acc_consonant': 0.998285, 'acc_word': 0.996049, 'loss_grapheme': 0.088957, 'loss_vowel': 0.057246, 'loss_consonant': 0.044562, 'loss_word': 0.05522}\n",
      "   34 | 0.000037 | 160000/160596 | 7.4258 | 7.9426 ||\n",
      "val: {'recall': 0.997584, 'recall_grapheme': 0.997386, 'recall_vowel': 0.997828, 'recall_consonant': 0.997736, 'recall_word': 0.995623, 'acc_grapheme': 0.996322, 'acc_vowel': 0.99841, 'acc_consonant': 0.99836, 'acc_word': 0.995726, 'loss_grapheme': 0.059605, 'loss_vowel': 0.036816, 'loss_consonant': 0.029015, 'loss_word': 0.038582}\n",
      "   35 | 0.000035 | 160000/160596 | 1.3101 | 7.6441 ||"
     ]
    },
    {
     "name": "stderr",
     "output_type": "stream",
     "text": [
      "\r",
      "  0%|          | 0/250 [00:00<?, ?it/s]"
     ]
    },
    {
     "name": "stdout",
     "output_type": "stream",
     "text": [
      "\n",
      "val: {'recall': 0.997459, 'recall_grapheme': 0.99695, 'recall_vowel': 0.998031, 'recall_consonant': 0.997906, 'recall_word': 0.995968, 'acc_grapheme': 0.996397, 'acc_vowel': 0.998534, 'acc_consonant': 0.998534, 'acc_word': 0.996049, 'loss_grapheme': 0.037699, 'loss_vowel': 0.024658, 'loss_consonant': 0.020912, 'loss_word': 0.024452}\n",
      "SWA>>>:\n"
     ]
    },
    {
     "name": "stderr",
     "output_type": "stream",
     "text": [
      "100%|██████████| 250/250 [01:25<00:00,  3.06it/s]\n"
     ]
    },
    {
     "name": "stdout",
     "output_type": "stream",
     "text": [
      "\n",
      "val: {'recall': 0.99818, 'recall_grapheme': 0.997854, 'recall_vowel': 0.998949, 'recall_consonant': 0.998064, 'recall_word': 0.996993, 'acc_grapheme': 0.997391, 'acc_vowel': 0.998882, 'acc_consonant': 0.998807, 'acc_word': 0.997068, 'loss_grapheme': 0.011766, 'loss_vowel': 0.005468, 'loss_consonant': 0.004633, 'loss_word': 0.012245}\n",
      "   36 | 0.000032 | 160000/160596 | 1.5554 | 7.7097 |||\n",
      "val: {'recall': 0.997502, 'recall_grapheme': 0.997431, 'recall_vowel': 0.997904, 'recall_consonant': 0.997241, 'recall_word': 0.995802, 'acc_grapheme': 0.996496, 'acc_vowel': 0.998335, 'acc_consonant': 0.998385, 'acc_word': 0.9959, 'loss_grapheme': 0.029941, 'loss_vowel': 0.017474, 'loss_consonant': 0.015641, 'loss_word': 0.023507}\n",
      "   37 | 0.000030 | 160000/160596 | 1.4409 | 8.1598 ||\n",
      "val: {'recall': 0.997135, 'recall_grapheme': 0.996434, 'recall_vowel': 0.997933, 'recall_consonant': 0.997738, 'recall_word': 0.995682, 'acc_grapheme': 0.996148, 'acc_vowel': 0.99836, 'acc_consonant': 0.99836, 'acc_word': 0.995776, 'loss_grapheme': 0.047828, 'loss_vowel': 0.031767, 'loss_consonant': 0.026013, 'loss_word': 0.031674}\n",
      "   38 | 0.000027 | 160000/160596 | 6.8064 | 7.2537 ||"
     ]
    },
    {
     "name": "stderr",
     "output_type": "stream",
     "text": [
      "\r",
      "  0%|          | 0/250 [00:00<?, ?it/s]"
     ]
    },
    {
     "name": "stdout",
     "output_type": "stream",
     "text": [
      "\n",
      "val: {'recall': 0.99765, 'recall_grapheme': 0.997213, 'recall_vowel': 0.998263, 'recall_consonant': 0.997911, 'recall_word': 0.996171, 'acc_grapheme': 0.996645, 'acc_vowel': 0.998435, 'acc_consonant': 0.998534, 'acc_word': 0.996248, 'loss_grapheme': 0.023132, 'loss_vowel': 0.013649, 'loss_consonant': 0.012149, 'loss_word': 0.019002}\n",
      "SWA>>>:\n"
     ]
    },
    {
     "name": "stderr",
     "output_type": "stream",
     "text": [
      "100%|██████████| 250/250 [01:25<00:00,  3.08it/s]\n"
     ]
    },
    {
     "name": "stdout",
     "output_type": "stream",
     "text": [
      "\n",
      "val: {'recall': 0.998207, 'recall_grapheme': 0.997895, 'recall_vowel': 0.998974, 'recall_consonant': 0.998064, 'recall_word': 0.997014, 'acc_grapheme': 0.997416, 'acc_vowel': 0.998907, 'acc_consonant': 0.998807, 'acc_word': 0.997093, 'loss_grapheme': 0.011706, 'loss_vowel': 0.005489, 'loss_consonant': 0.004617, 'loss_word': 0.012177}\n",
      "   39 | 0.000025 | 160000/160596 | 9.9931 | 6.8336 ||\n",
      "val: {'recall': 0.997173, 'recall_grapheme': 0.99641, 'recall_vowel': 0.998062, 'recall_consonant': 0.997808, 'recall_word': 0.995476, 'acc_grapheme': 0.996099, 'acc_vowel': 0.998385, 'acc_consonant': 0.998509, 'acc_word': 0.995602, 'loss_grapheme': 0.060922, 'loss_vowel': 0.040754, 'loss_consonant': 0.033313, 'loss_word': 0.037862}\n",
      "   40 | 0.000023 | 160000/160596 | 5.3516 | 7.9336 |||\n",
      "val: {'recall': 0.997355, 'recall_grapheme': 0.996837, 'recall_vowel': 0.998051, 'recall_consonant': 0.997695, 'recall_word': 0.995532, 'acc_grapheme': 0.996347, 'acc_vowel': 0.99831, 'acc_consonant': 0.998335, 'acc_word': 0.995627, 'loss_grapheme': 0.031624, 'loss_vowel': 0.019552, 'loss_consonant': 0.017308, 'loss_word': 0.024218}\n",
      "   41 | 0.000021 | 160000/160596 | 1.6722 | 8.0772 |||"
     ]
    },
    {
     "name": "stderr",
     "output_type": "stream",
     "text": [
      "\r",
      "  0%|          | 0/250 [00:00<?, ?it/s]"
     ]
    },
    {
     "name": "stdout",
     "output_type": "stream",
     "text": [
      "\n",
      "val: {'recall': 0.997787, 'recall_grapheme': 0.997408, 'recall_vowel': 0.998345, 'recall_consonant': 0.997986, 'recall_word': 0.996505, 'acc_grapheme': 0.996819, 'acc_vowel': 0.998509, 'acc_consonant': 0.998658, 'acc_word': 0.996621, 'loss_grapheme': 0.027727, 'loss_vowel': 0.017908, 'loss_consonant': 0.015074, 'loss_word': 0.020217}\n",
      "SWA>>>:\n"
     ]
    },
    {
     "name": "stderr",
     "output_type": "stream",
     "text": [
      "100%|██████████| 250/250 [01:26<00:00,  2.89it/s]\n"
     ]
    },
    {
     "name": "stdout",
     "output_type": "stream",
     "text": [
      "\n",
      "val: {'recall': 0.998273, 'recall_grapheme': 0.99803, 'recall_vowel': 0.998974, 'recall_consonant': 0.998058, 'recall_word': 0.996993, 'acc_grapheme': 0.997391, 'acc_vowel': 0.998907, 'acc_consonant': 0.998782, 'acc_word': 0.997068, 'loss_grapheme': 0.011721, 'loss_vowel': 0.005452, 'loss_consonant': 0.004646, 'loss_word': 0.012192}\n",
      "###>>>>> saved ./model4-ckps/se_resnext50_32x4d/model4_se_resnext50_fold0_224.pth_swa\n",
      "   42 | 0.000019 | 160000/160596 | 12.5680 | 7.6251 |\n",
      "val: {'recall': 0.997619, 'recall_grapheme': 0.997044, 'recall_vowel': 0.998347, 'recall_consonant': 0.998042, 'recall_word': 0.996373, 'acc_grapheme': 0.996745, 'acc_vowel': 0.998509, 'acc_consonant': 0.998658, 'acc_word': 0.996447, 'loss_grapheme': 0.044559, 'loss_vowel': 0.030154, 'loss_consonant': 0.023247, 'loss_word': 0.028881}\n",
      "   43 | 0.000017 | 160000/160596 | 16.7369 | 7.5497 |\n",
      "val: {'recall': 0.997549, 'recall_grapheme': 0.996969, 'recall_vowel': 0.998274, 'recall_consonant': 0.997985, 'recall_word': 0.996292, 'acc_grapheme': 0.996621, 'acc_vowel': 0.998484, 'acc_consonant': 0.998633, 'acc_word': 0.996397, 'loss_grapheme': 0.04188, 'loss_vowel': 0.02862, 'loss_consonant': 0.023369, 'loss_word': 0.026514}\n",
      "   44 | 0.000015 | 160000/160596 | 14.1238 | 7.9587 ||"
     ]
    },
    {
     "name": "stderr",
     "output_type": "stream",
     "text": [
      "\r",
      "  0%|          | 0/250 [00:00<?, ?it/s]"
     ]
    },
    {
     "name": "stdout",
     "output_type": "stream",
     "text": [
      "\n",
      "val: {'recall': 0.997721, 'recall_grapheme': 0.997292, 'recall_vowel': 0.998328, 'recall_consonant': 0.99797, 'recall_word': 0.996239, 'acc_grapheme': 0.996795, 'acc_vowel': 0.998534, 'acc_consonant': 0.998584, 'acc_word': 0.996372, 'loss_grapheme': 0.033475, 'loss_vowel': 0.022661, 'loss_consonant': 0.019162, 'loss_word': 0.022503}\n",
      "SWA>>>:\n"
     ]
    },
    {
     "name": "stderr",
     "output_type": "stream",
     "text": [
      "100%|██████████| 250/250 [01:25<00:00,  2.97it/s]\n"
     ]
    },
    {
     "name": "stdout",
     "output_type": "stream",
     "text": [
      "\n",
      "val: {'recall': 0.998267, 'recall_grapheme': 0.998057, 'recall_vowel': 0.998829, 'recall_consonant': 0.998126, 'recall_word': 0.997038, 'acc_grapheme': 0.997441, 'acc_vowel': 0.998857, 'acc_consonant': 0.998807, 'acc_word': 0.997118, 'loss_grapheme': 0.011707, 'loss_vowel': 0.005488, 'loss_consonant': 0.004635, 'loss_word': 0.0122}\n",
      "   45 | 0.000013 | 160000/160596 | 1.6762 | 6.9452 |||\n",
      "val: {'recall': 0.997322, 'recall_grapheme': 0.996722, 'recall_vowel': 0.998088, 'recall_consonant': 0.997755, 'recall_word': 0.995399, 'acc_grapheme': 0.996198, 'acc_vowel': 0.99841, 'acc_consonant': 0.998435, 'acc_word': 0.995552, 'loss_grapheme': 0.065572, 'loss_vowel': 0.040222, 'loss_consonant': 0.030297, 'loss_word': 0.043148}\n",
      "   46 | 0.000011 | 160000/160596 | 1.2424 | 7.6475 |||\n",
      "val: {'recall': 0.997366, 'recall_grapheme': 0.996741, 'recall_vowel': 0.998213, 'recall_consonant': 0.997769, 'recall_word': 0.995589, 'acc_grapheme': 0.996223, 'acc_vowel': 0.99841, 'acc_consonant': 0.998435, 'acc_word': 0.995701, 'loss_grapheme': 0.052526, 'loss_vowel': 0.034716, 'loss_consonant': 0.027833, 'loss_word': 0.034279}\n",
      "   47 | 0.000010 | 160000/160596 | 13.7086 | 7.2773 ||"
     ]
    },
    {
     "name": "stderr",
     "output_type": "stream",
     "text": [
      "\r",
      "  0%|          | 0/250 [00:00<?, ?it/s]"
     ]
    },
    {
     "name": "stdout",
     "output_type": "stream",
     "text": [
      "\n",
      "val: {'recall': 0.997435, 'recall_grapheme': 0.996875, 'recall_vowel': 0.99808, 'recall_consonant': 0.997912, 'recall_word': 0.995787, 'acc_grapheme': 0.996397, 'acc_vowel': 0.998435, 'acc_consonant': 0.998435, 'acc_word': 0.995875, 'loss_grapheme': 0.039665, 'loss_vowel': 0.025629, 'loss_consonant': 0.022446, 'loss_word': 0.026579}\n",
      "SWA>>>:\n"
     ]
    },
    {
     "name": "stderr",
     "output_type": "stream",
     "text": [
      "100%|██████████| 250/250 [01:25<00:00,  2.98it/s]\n"
     ]
    },
    {
     "name": "stdout",
     "output_type": "stream",
     "text": [
      "\n",
      "val: {'recall': 0.99827, 'recall_grapheme': 0.998059, 'recall_vowel': 0.998834, 'recall_consonant': 0.99813, 'recall_word': 0.996991, 'acc_grapheme': 0.997441, 'acc_vowel': 0.998857, 'acc_consonant': 0.998807, 'acc_word': 0.997068, 'loss_grapheme': 0.011729, 'loss_vowel': 0.005467, 'loss_consonant': 0.004604, 'loss_word': 0.012185}\n",
      "   48 | 0.000008 | 160000/160596 | 2.9430 | 8.2031 ||\n",
      "val: {'recall': 0.997092, 'recall_grapheme': 0.996321, 'recall_vowel': 0.997929, 'recall_consonant': 0.997795, 'recall_word': 0.995349, 'acc_grapheme': 0.996024, 'acc_vowel': 0.998335, 'acc_consonant': 0.998385, 'acc_word': 0.995478, 'loss_grapheme': 0.071978, 'loss_vowel': 0.04643, 'loss_consonant': 0.03642, 'loss_word': 0.04335}\n",
      "   49 | 0.000007 | 160000/160596 | 1.2490 | 6.8757 ||\n",
      "val: {'recall': 0.997493, 'recall_grapheme': 0.997003, 'recall_vowel': 0.998205, 'recall_consonant': 0.997761, 'recall_word': 0.996339, 'acc_grapheme': 0.99672, 'acc_vowel': 0.998459, 'acc_consonant': 0.998435, 'acc_word': 0.996447, 'loss_grapheme': 0.020982, 'loss_vowel': 0.012507, 'loss_consonant': 0.011136, 'loss_word': 0.017318}\n",
      "   50 | 0.000005 | 160000/160596 | 1.2692 | 8.4418 ||"
     ]
    },
    {
     "name": "stderr",
     "output_type": "stream",
     "text": [
      "\r",
      "  0%|          | 0/250 [00:00<?, ?it/s]"
     ]
    },
    {
     "name": "stdout",
     "output_type": "stream",
     "text": [
      "\n",
      "val: {'recall': 0.997639, 'recall_grapheme': 0.997181, 'recall_vowel': 0.998251, 'recall_consonant': 0.997944, 'recall_word': 0.996309, 'acc_grapheme': 0.99672, 'acc_vowel': 0.998435, 'acc_consonant': 0.998559, 'acc_word': 0.996422, 'loss_grapheme': 0.025952, 'loss_vowel': 0.016707, 'loss_consonant': 0.014942, 'loss_word': 0.01978}\n",
      "SWA>>>:\n"
     ]
    },
    {
     "name": "stderr",
     "output_type": "stream",
     "text": [
      "100%|██████████| 250/250 [01:26<00:00,  3.06it/s]\n"
     ]
    },
    {
     "name": "stdout",
     "output_type": "stream",
     "text": [
      "\n",
      "val: {'recall': 0.998243, 'recall_grapheme': 0.998054, 'recall_vowel': 0.998834, 'recall_consonant': 0.998031, 'recall_word': 0.997065, 'acc_grapheme': 0.997441, 'acc_vowel': 0.998857, 'acc_consonant': 0.998782, 'acc_word': 0.997142, 'loss_grapheme': 0.011706, 'loss_vowel': 0.00548, 'loss_consonant': 0.004587, 'loss_word': 0.012158}\n",
      "   51 | 0.000004 | 160000/160596 | 12.9171 | 7.4484 ||\n",
      "val: {'recall': 0.997755, 'recall_grapheme': 0.997094, 'recall_vowel': 0.998658, 'recall_consonant': 0.998175, 'recall_word': 0.996741, 'acc_grapheme': 0.996919, 'acc_vowel': 0.998807, 'acc_consonant': 0.998758, 'acc_word': 0.996819, 'loss_grapheme': 0.027983, 'loss_vowel': 0.0185, 'loss_consonant': 0.01547, 'loss_word': 0.019976}\n",
      "   52 | 0.000003 | 160000/160596 | 1.4134 | 7.3621 |||\n",
      "val: {'recall': 0.997649, 'recall_grapheme': 0.997306, 'recall_vowel': 0.99832, 'recall_consonant': 0.997663, 'recall_word': 0.996138, 'acc_grapheme': 0.996645, 'acc_vowel': 0.998534, 'acc_consonant': 0.998385, 'acc_word': 0.996248, 'loss_grapheme': 0.035463, 'loss_vowel': 0.022203, 'loss_consonant': 0.019626, 'loss_word': 0.024145}\n",
      "   53 | 0.000002 | 160000/160596 | 19.3680 | 7.4204 |"
     ]
    },
    {
     "name": "stderr",
     "output_type": "stream",
     "text": [
      "\r",
      "  0%|          | 0/250 [00:00<?, ?it/s]"
     ]
    },
    {
     "name": "stdout",
     "output_type": "stream",
     "text": [
      "\n",
      "val: {'recall': 0.997148, 'recall_grapheme': 0.996438, 'recall_vowel': 0.998068, 'recall_consonant': 0.997648, 'recall_word': 0.995737, 'acc_grapheme': 0.996173, 'acc_vowel': 0.998385, 'acc_consonant': 0.99831, 'acc_word': 0.995825, 'loss_grapheme': 0.080074, 'loss_vowel': 0.051018, 'loss_consonant': 0.039522, 'loss_word': 0.049073}\n",
      "SWA>>>:\n"
     ]
    },
    {
     "name": "stderr",
     "output_type": "stream",
     "text": [
      "100%|██████████| 250/250 [01:25<00:00,  3.03it/s]\n"
     ]
    },
    {
     "name": "stdout",
     "output_type": "stream",
     "text": [
      "\n",
      "val: {'recall': 0.998258, 'recall_grapheme': 0.998048, 'recall_vowel': 0.998811, 'recall_consonant': 0.998126, 'recall_word': 0.996969, 'acc_grapheme': 0.997441, 'acc_vowel': 0.998857, 'acc_consonant': 0.998807, 'acc_word': 0.997043, 'loss_grapheme': 0.011704, 'loss_vowel': 0.005466, 'loss_consonant': 0.004596, 'loss_word': 0.012187}\n",
      "   54 | 0.000002 | 160000/160596 | 6.4492 | 8.3216 |||\n",
      "val: {'recall': 0.997253, 'recall_grapheme': 0.996634, 'recall_vowel': 0.998084, 'recall_consonant': 0.997661, 'recall_word': 0.995694, 'acc_grapheme': 0.996273, 'acc_vowel': 0.99841, 'acc_consonant': 0.99831, 'acc_word': 0.995801, 'loss_grapheme': 0.059702, 'loss_vowel': 0.038438, 'loss_consonant': 0.032461, 'loss_word': 0.036668}\n",
      "   55 | 0.000001 | 160000/160596 | 1.1723 | 7.8702 ||\n",
      "val: {'recall': 0.99747, 'recall_grapheme': 0.996828, 'recall_vowel': 0.998333, 'recall_consonant': 0.997891, 'recall_word': 0.995954, 'acc_grapheme': 0.996472, 'acc_vowel': 0.998534, 'acc_consonant': 0.998459, 'acc_word': 0.996049, 'loss_grapheme': 0.049874, 'loss_vowel': 0.034122, 'loss_consonant': 0.029833, 'loss_word': 0.030864}\n",
      "   56 | 0.000001 | 160000/160596 | 17.3372 | 7.3159 |"
     ]
    },
    {
     "name": "stderr",
     "output_type": "stream",
     "text": [
      "\r",
      "  0%|          | 0/250 [00:00<?, ?it/s]"
     ]
    },
    {
     "name": "stdout",
     "output_type": "stream",
     "text": [
      "\n",
      "val: {'recall': 0.997549, 'recall_grapheme': 0.99707, 'recall_vowel': 0.998219, 'recall_consonant': 0.997836, 'recall_word': 0.996007, 'acc_grapheme': 0.996521, 'acc_vowel': 0.998509, 'acc_consonant': 0.998435, 'acc_word': 0.996099, 'loss_grapheme': 0.048463, 'loss_vowel': 0.032003, 'loss_consonant': 0.02641, 'loss_word': 0.030115}\n",
      "SWA>>>:\n"
     ]
    },
    {
     "name": "stderr",
     "output_type": "stream",
     "text": [
      "100%|██████████| 250/250 [01:25<00:00,  3.03it/s]\n"
     ]
    },
    {
     "name": "stdout",
     "output_type": "stream",
     "text": [
      "\n",
      "val: {'recall': 0.998272, 'recall_grapheme': 0.998054, 'recall_vowel': 0.998818, 'recall_consonant': 0.998162, 'recall_word': 0.996986, 'acc_grapheme': 0.997441, 'acc_vowel': 0.998832, 'acc_consonant': 0.998832, 'acc_word': 0.997068, 'loss_grapheme': 0.011707, 'loss_vowel': 0.005499, 'loss_consonant': 0.004605, 'loss_word': 0.012203}\n",
      "   57 | 0.000000 | 160000/160596 | 14.5393 | 7.2322 ||\n",
      "val: {'recall': 0.997692, 'recall_grapheme': 0.997252, 'recall_vowel': 0.998273, 'recall_consonant': 0.997991, 'recall_word': 0.996404, 'acc_grapheme': 0.996894, 'acc_vowel': 0.998584, 'acc_consonant': 0.998658, 'acc_word': 0.996546, 'loss_grapheme': 0.023448, 'loss_vowel': 0.014898, 'loss_consonant': 0.013406, 'loss_word': 0.017861}\n",
      "   58 | 0.000000 | 160000/160596 | 14.3198 | 7.9515 ||\n",
      "val: {'recall': 0.997611, 'recall_grapheme': 0.996974, 'recall_vowel': 0.998484, 'recall_consonant': 0.998013, 'recall_word': 0.996398, 'acc_grapheme': 0.99667, 'acc_vowel': 0.998658, 'acc_consonant': 0.998658, 'acc_word': 0.996496, 'loss_grapheme': 0.039486, 'loss_vowel': 0.02792, 'loss_consonant': 0.022812, 'loss_word': 0.025249}\n",
      "   59 | 0.000000 | 160000/160596 | 12.4399 | 8.0318 ||"
     ]
    },
    {
     "name": "stderr",
     "output_type": "stream",
     "text": [
      "\r",
      "  0%|          | 0/250 [00:00<?, ?it/s]"
     ]
    },
    {
     "name": "stdout",
     "output_type": "stream",
     "text": [
      "\n",
      "val: {'recall': 0.99752, 'recall_grapheme': 0.996881, 'recall_vowel': 0.998433, 'recall_consonant': 0.997884, 'recall_word': 0.996276, 'acc_grapheme': 0.996472, 'acc_vowel': 0.998608, 'acc_consonant': 0.998559, 'acc_word': 0.996372, 'loss_grapheme': 0.060923, 'loss_vowel': 0.04082, 'loss_consonant': 0.030854, 'loss_word': 0.038345}\n",
      "SWA>>>:\n"
     ]
    },
    {
     "name": "stderr",
     "output_type": "stream",
     "text": [
      "100%|██████████| 250/250 [01:25<00:00,  2.89it/s]\n"
     ]
    },
    {
     "name": "stdout",
     "output_type": "stream",
     "text": [
      "\n",
      "val: {'recall': 0.998228, 'recall_grapheme': 0.998006, 'recall_vowel': 0.998776, 'recall_consonant': 0.998126, 'recall_word': 0.996971, 'acc_grapheme': 0.997416, 'acc_vowel': 0.998807, 'acc_consonant': 0.998807, 'acc_word': 0.997043, 'loss_grapheme': 0.011746, 'loss_vowel': 0.005534, 'loss_consonant': 0.004605, 'loss_word': 0.012229}\n",
      "CYCLE: 3\n",
      "    0 | 0.000020 | 160000/160596 | 10.4404 | 7.5825 |\n",
      "val: {'recall': 0.997499, 'recall_grapheme': 0.996834, 'recall_vowel': 0.998406, 'recall_consonant': 0.997923, 'recall_word': 0.996102, 'acc_grapheme': 0.996496, 'acc_vowel': 0.998608, 'acc_consonant': 0.998509, 'acc_word': 0.996248, 'loss_grapheme': 0.049891, 'loss_vowel': 0.034595, 'loss_consonant': 0.028304, 'loss_word': 0.03219}\n",
      "    1 | 0.000040 | 160000/160596 | 0.8480 | 7.5296 |||\n",
      "val: {'recall': 0.997783, 'recall_grapheme': 0.997299, 'recall_vowel': 0.998367, 'recall_consonant': 0.998166, 'recall_word': 0.996394, 'acc_grapheme': 0.99677, 'acc_vowel': 0.998608, 'acc_consonant': 0.998733, 'acc_word': 0.996496, 'loss_grapheme': 0.026175, 'loss_vowel': 0.016506, 'loss_consonant': 0.014008, 'loss_word': 0.019955}\n",
      "    2 | 0.000060 | 160000/160596 | 1.1076 | 7.3838 |||\n",
      "val: {'recall': 0.997369, 'recall_grapheme': 0.99699, 'recall_vowel': 0.998328, 'recall_consonant': 0.997167, 'recall_word': 0.995787, 'acc_grapheme': 0.996248, 'acc_vowel': 0.99836, 'acc_consonant': 0.998435, 'acc_word': 0.995801, 'loss_grapheme': 0.034074, 'loss_vowel': 0.023212, 'loss_consonant': 0.018678, 'loss_word': 0.025499}\n",
      "    3 | 0.000079 | 160000/160596 | 0.9302 | 7.1679 |||\n",
      "val: {'recall': 0.996671, 'recall_grapheme': 0.995684, 'recall_vowel': 0.998115, 'recall_consonant': 0.997201, 'recall_word': 0.994775, 'acc_grapheme': 0.995304, 'acc_vowel': 0.998261, 'acc_consonant': 0.99836, 'acc_word': 0.994807, 'loss_grapheme': 0.057947, 'loss_vowel': 0.034975, 'loss_consonant': 0.028385, 'loss_word': 0.040687}\n",
      "    4 | 0.000098 | 160000/160596 | 10.7980 | 7.9478 ||\n",
      "val: {'recall': 0.997163, 'recall_grapheme': 0.996221, 'recall_vowel': 0.998336, 'recall_consonant': 0.997874, 'recall_word': 0.995257, 'acc_grapheme': 0.9959, 'acc_vowel': 0.99841, 'acc_consonant': 0.998534, 'acc_word': 0.995428, 'loss_grapheme': 0.056963, 'loss_vowel': 0.033238, 'loss_consonant': 0.028275, 'loss_word': 0.037038}\n",
      "    5 | 0.000098 | 160000/160596 | 18.0540 | 7.3649 ||\n",
      "val: {'recall': 0.997142, 'recall_grapheme': 0.996446, 'recall_vowel': 0.998019, 'recall_consonant': 0.997656, 'recall_word': 0.995858, 'acc_grapheme': 0.996223, 'acc_vowel': 0.998534, 'acc_consonant': 0.998484, 'acc_word': 0.99595, 'loss_grapheme': 0.037812, 'loss_vowel': 0.026053, 'loss_consonant': 0.020366, 'loss_word': 0.026359}\n",
      "    6 | 0.000097 | 160000/160596 | 10.7437 | 7.8402 ||\n",
      "val: {'recall': 0.997125, 'recall_grapheme': 0.996405, 'recall_vowel': 0.998401, 'recall_consonant': 0.997289, 'recall_word': 0.99529, 'acc_grapheme': 0.995975, 'acc_vowel': 0.998435, 'acc_consonant': 0.99841, 'acc_word': 0.995403, 'loss_grapheme': 0.036006, 'loss_vowel': 0.023342, 'loss_consonant': 0.019116, 'loss_word': 0.02609}\n",
      "    7 | 0.000096 | 160000/160596 | 8.5256 | 7.9005 |||\n",
      "val: {'recall': 0.996924, 'recall_grapheme': 0.995972, 'recall_vowel': 0.998068, 'recall_consonant': 0.997684, 'recall_word': 0.995031, 'acc_grapheme': 0.995353, 'acc_vowel': 0.99836, 'acc_consonant': 0.998385, 'acc_word': 0.99513, 'loss_grapheme': 0.067704, 'loss_vowel': 0.048697, 'loss_consonant': 0.038435, 'loss_word': 0.042404}\n",
      "    8 | 0.000095 | 160000/160596 | 1.2570 | 7.5490 ||\n",
      "val: {'recall': 0.997281, 'recall_grapheme': 0.996492, 'recall_vowel': 0.998581, 'recall_consonant': 0.997558, 'recall_word': 0.996273, 'acc_grapheme': 0.996472, 'acc_vowel': 0.998683, 'acc_consonant': 0.998534, 'acc_word': 0.996397, 'loss_grapheme': 0.024018, 'loss_vowel': 0.015623, 'loss_consonant': 0.013236, 'loss_word': 0.019169}\n",
      "    9 | 0.000093 | 160000/160596 | 4.4456 | 8.0378 |||\n",
      "val: {'recall': 0.997265, 'recall_grapheme': 0.99652, 'recall_vowel': 0.998514, 'recall_consonant': 0.997504, 'recall_word': 0.995889, 'acc_grapheme': 0.996148, 'acc_vowel': 0.998559, 'acc_consonant': 0.998385, 'acc_word': 0.9959, 'loss_grapheme': 0.028408, 'loss_vowel': 0.017937, 'loss_consonant': 0.015517, 'loss_word': 0.022224}\n",
      "   10 | 0.000092 | 160000/160596 | 5.3207 | 7.8941 ||\n",
      "val: {'recall': 0.997412, 'recall_grapheme': 0.996858, 'recall_vowel': 0.998135, 'recall_consonant': 0.997795, 'recall_word': 0.995631, 'acc_grapheme': 0.996148, 'acc_vowel': 0.998261, 'acc_consonant': 0.998335, 'acc_word': 0.995726, 'loss_grapheme': 0.052187, 'loss_vowel': 0.036356, 'loss_consonant': 0.031694, 'loss_word': 0.032441}\n",
      "   11 | 0.000090 | 160000/160596 | 17.1630 | 7.7995 |\n",
      "val: {'recall': 0.996814, 'recall_grapheme': 0.995887, 'recall_vowel': 0.997926, 'recall_consonant': 0.997556, 'recall_word': 0.994972, 'acc_grapheme': 0.995353, 'acc_vowel': 0.998161, 'acc_consonant': 0.998211, 'acc_word': 0.99508, 'loss_grapheme': 0.066694, 'loss_vowel': 0.040706, 'loss_consonant': 0.033156, 'loss_word': 0.042382}\n",
      "   13 | 0.000087 | 160000/160596 | 1.3950 | 7.9605 |||\n",
      "val: {'recall': 0.996541, 'recall_grapheme': 0.995569, 'recall_vowel': 0.997808, 'recall_consonant': 0.997217, 'recall_word': 0.994436, 'acc_grapheme': 0.995005, 'acc_vowel': 0.998136, 'acc_consonant': 0.998062, 'acc_word': 0.994484, 'loss_grapheme': 0.054501, 'loss_vowel': 0.037123, 'loss_consonant': 0.030628, 'loss_word': 0.036181}\n",
      "   14 | 0.000085 | 160000/160596 | 8.2986 | 7.3198 ||"
     ]
    },
    {
     "name": "stderr",
     "output_type": "stream",
     "text": [
      "\r",
      "  0%|          | 0/250 [00:00<?, ?it/s]"
     ]
    },
    {
     "name": "stdout",
     "output_type": "stream",
     "text": [
      "\n",
      "val: {'recall': 0.997444, 'recall_grapheme': 0.996716, 'recall_vowel': 0.998453, 'recall_consonant': 0.997891, 'recall_word': 0.995824, 'acc_grapheme': 0.996173, 'acc_vowel': 0.998683, 'acc_consonant': 0.998608, 'acc_word': 0.995875, 'loss_grapheme': 0.058026, 'loss_vowel': 0.036803, 'loss_consonant': 0.031505, 'loss_word': 0.036996}\n",
      "SWA>>>:\n"
     ]
    },
    {
     "name": "stderr",
     "output_type": "stream",
     "text": [
      "100%|██████████| 250/250 [01:25<00:00,  3.05it/s]\n"
     ]
    },
    {
     "name": "stdout",
     "output_type": "stream",
     "text": [
      "\n",
      "val: {'recall': 0.998264, 'recall_grapheme': 0.998061, 'recall_vowel': 0.998807, 'recall_consonant': 0.998126, 'recall_word': 0.996996, 'acc_grapheme': 0.997465, 'acc_vowel': 0.998807, 'acc_consonant': 0.998807, 'acc_word': 0.997068, 'loss_grapheme': 0.011711, 'loss_vowel': 0.005474, 'loss_consonant': 0.004596, 'loss_word': 0.012181}\n",
      "   15 | 0.000083 | 160000/160596 | 1.5551 | 6.9454 ||\n",
      "val: {'recall': 0.997451, 'recall_grapheme': 0.996841, 'recall_vowel': 0.998326, 'recall_consonant': 0.997798, 'recall_word': 0.995839, 'acc_grapheme': 0.996173, 'acc_vowel': 0.998584, 'acc_consonant': 0.998459, 'acc_word': 0.995925, 'loss_grapheme': 0.038984, 'loss_vowel': 0.025026, 'loss_consonant': 0.019818, 'loss_word': 0.028048}\n",
      "   16 | 0.000081 | 160000/160596 | 18.6516 | 7.4403 ||\n",
      "val: {'recall': 0.997052, 'recall_grapheme': 0.996282, 'recall_vowel': 0.997865, 'recall_consonant': 0.997782, 'recall_word': 0.995317, 'acc_grapheme': 0.99585, 'acc_vowel': 0.998136, 'acc_consonant': 0.998335, 'acc_word': 0.995378, 'loss_grapheme': 0.070209, 'loss_vowel': 0.045395, 'loss_consonant': 0.036634, 'loss_word': 0.045686}\n",
      "   17 | 0.000079 | 160000/160596 | 3.2665 | 7.5743 |||"
     ]
    },
    {
     "name": "stderr",
     "output_type": "stream",
     "text": [
      "\r",
      "  0%|          | 0/250 [00:00<?, ?it/s]"
     ]
    },
    {
     "name": "stdout",
     "output_type": "stream",
     "text": [
      "\n",
      "val: {'recall': 0.997376, 'recall_grapheme': 0.996595, 'recall_vowel': 0.99843, 'recall_consonant': 0.997885, 'recall_word': 0.996132, 'acc_grapheme': 0.996447, 'acc_vowel': 0.998435, 'acc_consonant': 0.998534, 'acc_word': 0.996148, 'loss_grapheme': 0.050467, 'loss_vowel': 0.033005, 'loss_consonant': 0.026459, 'loss_word': 0.033227}\n",
      "SWA>>>:\n"
     ]
    },
    {
     "name": "stderr",
     "output_type": "stream",
     "text": [
      "100%|██████████| 250/250 [01:25<00:00,  3.06it/s]\n"
     ]
    },
    {
     "name": "stdout",
     "output_type": "stream",
     "text": [
      "\n",
      "val: {'recall': 0.998221, 'recall_grapheme': 0.997996, 'recall_vowel': 0.998834, 'recall_consonant': 0.998058, 'recall_word': 0.997066, 'acc_grapheme': 0.997391, 'acc_vowel': 0.998857, 'acc_consonant': 0.998782, 'acc_word': 0.997142, 'loss_grapheme': 0.01169, 'loss_vowel': 0.005463, 'loss_consonant': 0.004623, 'loss_word': 0.012162}\n",
      "   18 | 0.000077 | 160000/160596 | 7.0269 | 7.6041 ||\n",
      "val: {'recall': 0.997364, 'recall_grapheme': 0.996749, 'recall_vowel': 0.998189, 'recall_consonant': 0.997769, 'recall_word': 0.995805, 'acc_grapheme': 0.996124, 'acc_vowel': 0.998459, 'acc_consonant': 0.998484, 'acc_word': 0.995875, 'loss_grapheme': 0.048868, 'loss_vowel': 0.031934, 'loss_consonant': 0.025595, 'loss_word': 0.032643}\n",
      "   19 | 0.000075 | 160000/160596 | 17.3159 | 7.0748 ||\n",
      "val: {'recall': 0.997542, 'recall_grapheme': 0.996758, 'recall_vowel': 0.998452, 'recall_consonant': 0.998199, 'recall_word': 0.996166, 'acc_grapheme': 0.996645, 'acc_vowel': 0.998608, 'acc_consonant': 0.998758, 'acc_word': 0.996298, 'loss_grapheme': 0.026257, 'loss_vowel': 0.015612, 'loss_consonant': 0.0134, 'loss_word': 0.020894}\n",
      "   20 | 0.000073 | 160000/160596 | 17.4951 | 7.0242 |"
     ]
    },
    {
     "name": "stderr",
     "output_type": "stream",
     "text": [
      "\r",
      "  0%|          | 0/250 [00:00<?, ?it/s]"
     ]
    },
    {
     "name": "stdout",
     "output_type": "stream",
     "text": [
      "\n",
      "val: {'recall': 0.997249, 'recall_grapheme': 0.996377, 'recall_vowel': 0.998481, 'recall_consonant': 0.997763, 'recall_word': 0.995765, 'acc_grapheme': 0.996148, 'acc_vowel': 0.998559, 'acc_consonant': 0.998459, 'acc_word': 0.99585, 'loss_grapheme': 0.053575, 'loss_vowel': 0.032209, 'loss_consonant': 0.02869, 'loss_word': 0.033001}\n",
      "SWA>>>:\n"
     ]
    },
    {
     "name": "stderr",
     "output_type": "stream",
     "text": [
      "100%|██████████| 250/250 [01:25<00:00,  3.02it/s]\n"
     ]
    },
    {
     "name": "stdout",
     "output_type": "stream",
     "text": [
      "\n",
      "val: {'recall': 0.998228, 'recall_grapheme': 0.998026, 'recall_vowel': 0.998789, 'recall_consonant': 0.998069, 'recall_word': 0.996997, 'acc_grapheme': 0.997391, 'acc_vowel': 0.998807, 'acc_consonant': 0.998832, 'acc_word': 0.997068, 'loss_grapheme': 0.011784, 'loss_vowel': 0.005519, 'loss_consonant': 0.004647, 'loss_word': 0.012236}\n",
      "   21 | 0.000070 | 160000/160596 | 1.6165 | 6.9784 |||\n",
      "val: {'recall': 0.99739, 'recall_grapheme': 0.996498, 'recall_vowel': 0.99864, 'recall_consonant': 0.997925, 'recall_word': 0.995751, 'acc_grapheme': 0.996198, 'acc_vowel': 0.998683, 'acc_consonant': 0.998484, 'acc_word': 0.995825, 'loss_grapheme': 0.048914, 'loss_vowel': 0.031129, 'loss_consonant': 0.024376, 'loss_word': 0.031262}\n",
      "   22 | 0.000068 | 160000/160596 | 8.8941 | 8.0093 |||\n",
      "val: {'recall': 0.997663, 'recall_grapheme': 0.996915, 'recall_vowel': 0.99873, 'recall_consonant': 0.998092, 'recall_word': 0.99628, 'acc_grapheme': 0.996695, 'acc_vowel': 0.998758, 'acc_consonant': 0.998758, 'acc_word': 0.996347, 'loss_grapheme': 0.038358, 'loss_vowel': 0.024846, 'loss_consonant': 0.022013, 'loss_word': 0.025289}\n",
      "   23 | 0.000065 | 160000/160596 | 14.3342 | 7.4032 |"
     ]
    },
    {
     "name": "stderr",
     "output_type": "stream",
     "text": [
      "\r",
      "  0%|          | 0/250 [00:00<?, ?it/s]"
     ]
    },
    {
     "name": "stdout",
     "output_type": "stream",
     "text": [
      "\n",
      "val: {'recall': 0.997173, 'recall_grapheme': 0.996321, 'recall_vowel': 0.998135, 'recall_consonant': 0.997913, 'recall_word': 0.995669, 'acc_grapheme': 0.995999, 'acc_vowel': 0.998534, 'acc_consonant': 0.998584, 'acc_word': 0.995751, 'loss_grapheme': 0.091254, 'loss_vowel': 0.063978, 'loss_consonant': 0.048589, 'loss_word': 0.055539}\n",
      "SWA>>>:\n"
     ]
    },
    {
     "name": "stderr",
     "output_type": "stream",
     "text": [
      "100%|██████████| 250/250 [01:25<00:00,  3.02it/s]\n"
     ]
    },
    {
     "name": "stdout",
     "output_type": "stream",
     "text": [
      "\n",
      "val: {'recall': 0.99821, 'recall_grapheme': 0.998009, 'recall_vowel': 0.998716, 'recall_consonant': 0.998106, 'recall_word': 0.997141, 'acc_grapheme': 0.997341, 'acc_vowel': 0.998857, 'acc_consonant': 0.998857, 'acc_word': 0.997217, 'loss_grapheme': 0.011675, 'loss_vowel': 0.005426, 'loss_consonant': 0.004593, 'loss_word': 0.01213}\n",
      "   24 | 0.000063 | 160000/160596 | 5.9058 | 7.8351 |||\n",
      "val: {'recall': 0.997694, 'recall_grapheme': 0.997143, 'recall_vowel': 0.998471, 'recall_consonant': 0.998019, 'recall_word': 0.996209, 'acc_grapheme': 0.996571, 'acc_vowel': 0.998559, 'acc_consonant': 0.998658, 'acc_word': 0.996273, 'loss_grapheme': 0.026393, 'loss_vowel': 0.017191, 'loss_consonant': 0.014886, 'loss_word': 0.01951}\n",
      "   25 | 0.000060 | 160000/160596 | 1.2884 | 7.0720 ||\n",
      "val: {'recall': 0.997048, 'recall_grapheme': 0.996081, 'recall_vowel': 0.998287, 'recall_consonant': 0.997746, 'recall_word': 0.995329, 'acc_grapheme': 0.996049, 'acc_vowel': 0.998459, 'acc_consonant': 0.99836, 'acc_word': 0.995453, 'loss_grapheme': 0.035239, 'loss_vowel': 0.02126, 'loss_consonant': 0.018251, 'loss_word': 0.026584}\n",
      "   26 | 0.000058 | 160000/160596 | 1.4074 | 8.2008 |||"
     ]
    },
    {
     "name": "stderr",
     "output_type": "stream",
     "text": [
      "\r",
      "  0%|          | 0/250 [00:00<?, ?it/s]"
     ]
    },
    {
     "name": "stdout",
     "output_type": "stream",
     "text": [
      "\n",
      "val: {'recall': 0.997111, 'recall_grapheme': 0.9959, 'recall_vowel': 0.998777, 'recall_consonant': 0.997866, 'recall_word': 0.995196, 'acc_grapheme': 0.995825, 'acc_vowel': 0.998559, 'acc_consonant': 0.998385, 'acc_word': 0.995328, 'loss_grapheme': 0.050647, 'loss_vowel': 0.032572, 'loss_consonant': 0.029822, 'loss_word': 0.033798}\n",
      "SWA>>>:\n"
     ]
    },
    {
     "name": "stderr",
     "output_type": "stream",
     "text": [
      "100%|██████████| 250/250 [01:25<00:00,  3.00it/s]\n"
     ]
    },
    {
     "name": "stdout",
     "output_type": "stream",
     "text": [
      "\n",
      "val: {'recall': 0.998223, 'recall_grapheme': 0.998075, 'recall_vowel': 0.998698, 'recall_consonant': 0.998042, 'recall_word': 0.997142, 'acc_grapheme': 0.997416, 'acc_vowel': 0.998857, 'acc_consonant': 0.998832, 'acc_word': 0.997217, 'loss_grapheme': 0.011671, 'loss_vowel': 0.005411, 'loss_consonant': 0.004568, 'loss_word': 0.01214}\n",
      "   27 | 0.000055 | 160000/160596 | 16.3843 | 7.4496 ||\n",
      "val: {'recall': 0.997255, 'recall_grapheme': 0.996414, 'recall_vowel': 0.998301, 'recall_consonant': 0.99789, 'recall_word': 0.996044, 'acc_grapheme': 0.995999, 'acc_vowel': 0.998608, 'acc_consonant': 0.998559, 'acc_word': 0.996124, 'loss_grapheme': 0.04142, 'loss_vowel': 0.028498, 'loss_consonant': 0.024273, 'loss_word': 0.025732}\n",
      "   28 | 0.000053 | 160000/160596 | 1.4729 | 7.4801 ||\n",
      "val: {'recall': 0.997453, 'recall_grapheme': 0.9968, 'recall_vowel': 0.998338, 'recall_consonant': 0.997875, 'recall_word': 0.995836, 'acc_grapheme': 0.996347, 'acc_vowel': 0.998633, 'acc_consonant': 0.998484, 'acc_word': 0.995925, 'loss_grapheme': 0.041371, 'loss_vowel': 0.027921, 'loss_consonant': 0.022825, 'loss_word': 0.027006}\n",
      "   29 | 0.000050 | 160000/160596 | 8.5929 | 7.5782 |||"
     ]
    },
    {
     "name": "stderr",
     "output_type": "stream",
     "text": [
      "\r",
      "  0%|          | 0/250 [00:00<?, ?it/s]"
     ]
    },
    {
     "name": "stdout",
     "output_type": "stream",
     "text": [
      "\n",
      "val: {'recall': 0.99707, 'recall_grapheme': 0.996092, 'recall_vowel': 0.998268, 'recall_consonant': 0.997829, 'recall_word': 0.995167, 'acc_grapheme': 0.995999, 'acc_vowel': 0.99841, 'acc_consonant': 0.998385, 'acc_word': 0.995229, 'loss_grapheme': 0.058534, 'loss_vowel': 0.037251, 'loss_consonant': 0.032284, 'loss_word': 0.037755}\n",
      "SWA>>>:\n"
     ]
    },
    {
     "name": "stderr",
     "output_type": "stream",
     "text": [
      "100%|██████████| 250/250 [01:25<00:00,  3.00it/s]\n"
     ]
    },
    {
     "name": "stdout",
     "output_type": "stream",
     "text": [
      "\n",
      "val: {'recall': 0.998198, 'recall_grapheme': 0.998012, 'recall_vowel': 0.998705, 'recall_consonant': 0.998063, 'recall_word': 0.997014, 'acc_grapheme': 0.997366, 'acc_vowel': 0.998832, 'acc_consonant': 0.998807, 'acc_word': 0.997093, 'loss_grapheme': 0.011744, 'loss_vowel': 0.005429, 'loss_consonant': 0.004674, 'loss_word': 0.012152}\n",
      "   30 | 0.000047 | 160000/160596 | 3.8784 | 7.8504 |||\n",
      "val: {'recall': 0.997393, 'recall_grapheme': 0.996604, 'recall_vowel': 0.998617, 'recall_consonant': 0.997746, 'recall_word': 0.995831, 'acc_grapheme': 0.996074, 'acc_vowel': 0.998708, 'acc_consonant': 0.99841, 'acc_word': 0.9959, 'loss_grapheme': 0.064018, 'loss_vowel': 0.04177, 'loss_consonant': 0.032101, 'loss_word': 0.039083}\n",
      "   31 | 0.000045 | 160000/160596 | 8.8226 | 7.0862 |||\n",
      "val: {'recall': 0.997395, 'recall_grapheme': 0.996543, 'recall_vowel': 0.998613, 'recall_consonant': 0.997879, 'recall_word': 0.996054, 'acc_grapheme': 0.996273, 'acc_vowel': 0.998559, 'acc_consonant': 0.998435, 'acc_word': 0.996124, 'loss_grapheme': 0.026389, 'loss_vowel': 0.016569, 'loss_consonant': 0.014937, 'loss_word': 0.020941}\n",
      "   32 | 0.000042 | 160000/160596 | 8.6144 | 7.5390 |||"
     ]
    },
    {
     "name": "stderr",
     "output_type": "stream",
     "text": [
      "\r",
      "  0%|          | 0/250 [00:00<?, ?it/s]"
     ]
    },
    {
     "name": "stdout",
     "output_type": "stream",
     "text": [
      "\n",
      "val: {'recall': 0.99747, 'recall_grapheme': 0.996665, 'recall_vowel': 0.99887, 'recall_consonant': 0.997681, 'recall_word': 0.996181, 'acc_grapheme': 0.996447, 'acc_vowel': 0.998758, 'acc_consonant': 0.99836, 'acc_word': 0.996248, 'loss_grapheme': 0.033743, 'loss_vowel': 0.022065, 'loss_consonant': 0.019178, 'loss_word': 0.022901}\n",
      "SWA>>>:\n"
     ]
    },
    {
     "name": "stderr",
     "output_type": "stream",
     "text": [
      "100%|██████████| 250/250 [01:25<00:00,  2.89it/s]\n"
     ]
    },
    {
     "name": "stdout",
     "output_type": "stream",
     "text": [
      "\n",
      "val: {'recall': 0.998223, 'recall_grapheme': 0.998014, 'recall_vowel': 0.998788, 'recall_consonant': 0.998075, 'recall_word': 0.99702, 'acc_grapheme': 0.997366, 'acc_vowel': 0.998832, 'acc_consonant': 0.998857, 'acc_word': 0.997093, 'loss_grapheme': 0.011655, 'loss_vowel': 0.005403, 'loss_consonant': 0.004603, 'loss_word': 0.012105}\n",
      "   33 | 0.000040 | 160000/160596 | 17.1216 | 7.2592 |\n",
      "val: {'recall': 0.997402, 'recall_grapheme': 0.996729, 'recall_vowel': 0.998451, 'recall_consonant': 0.9977, 'recall_word': 0.996179, 'acc_grapheme': 0.996372, 'acc_vowel': 0.998633, 'acc_consonant': 0.998459, 'acc_word': 0.996198, 'loss_grapheme': 0.050191, 'loss_vowel': 0.032225, 'loss_consonant': 0.025436, 'loss_word': 0.033737}\n",
      "   34 | 0.000037 | 160000/160596 | 1.3008 | 7.6212 |||\n",
      "val: {'recall': 0.997604, 'recall_grapheme': 0.996805, 'recall_vowel': 0.99877, 'recall_consonant': 0.998037, 'recall_word': 0.996378, 'acc_grapheme': 0.996621, 'acc_vowel': 0.998758, 'acc_consonant': 0.998633, 'acc_word': 0.996472, 'loss_grapheme': 0.043403, 'loss_vowel': 0.027882, 'loss_consonant': 0.02319, 'loss_word': 0.02718}\n",
      "   35 | 0.000035 | 160000/160596 | 1.3461 | 8.1430 ||"
     ]
    },
    {
     "name": "stderr",
     "output_type": "stream",
     "text": [
      "\r",
      "  0%|          | 0/250 [00:00<?, ?it/s]"
     ]
    },
    {
     "name": "stdout",
     "output_type": "stream",
     "text": [
      "\n",
      "val: {'recall': 0.997377, 'recall_grapheme': 0.996439, 'recall_vowel': 0.998719, 'recall_consonant': 0.997911, 'recall_word': 0.996095, 'acc_grapheme': 0.996372, 'acc_vowel': 0.998658, 'acc_consonant': 0.998633, 'acc_word': 0.996198, 'loss_grapheme': 0.037711, 'loss_vowel': 0.025635, 'loss_consonant': 0.021213, 'loss_word': 0.026518}\n",
      "SWA>>>:\n"
     ]
    },
    {
     "name": "stderr",
     "output_type": "stream",
     "text": [
      "100%|██████████| 250/250 [01:26<00:00,  2.98it/s]\n"
     ]
    },
    {
     "name": "stdout",
     "output_type": "stream",
     "text": [
      "\n",
      "val: {'recall': 0.998233, 'recall_grapheme': 0.998023, 'recall_vowel': 0.998816, 'recall_consonant': 0.998069, 'recall_word': 0.997006, 'acc_grapheme': 0.997391, 'acc_vowel': 0.998857, 'acc_consonant': 0.998832, 'acc_word': 0.997093, 'loss_grapheme': 0.011708, 'loss_vowel': 0.005396, 'loss_consonant': 0.004688, 'loss_word': 0.012142}\n",
      "   36 | 0.000032 | 160000/160596 | 3.9053 | 7.5932 |||\n",
      "val: {'recall': 0.997686, 'recall_grapheme': 0.997174, 'recall_vowel': 0.998524, 'recall_consonant': 0.997874, 'recall_word': 0.996204, 'acc_grapheme': 0.996521, 'acc_vowel': 0.998559, 'acc_consonant': 0.998584, 'acc_word': 0.996298, 'loss_grapheme': 0.027308, 'loss_vowel': 0.01578, 'loss_consonant': 0.014266, 'loss_word': 0.0207}\n",
      "   37 | 0.000030 | 160000/160596 | 8.2047 | 7.4835 |||\n",
      "val: {'recall': 0.997367, 'recall_grapheme': 0.99664, 'recall_vowel': 0.99844, 'recall_consonant': 0.997749, 'recall_word': 0.996158, 'acc_grapheme': 0.996496, 'acc_vowel': 0.998559, 'acc_consonant': 0.998385, 'acc_word': 0.996248, 'loss_grapheme': 0.033342, 'loss_vowel': 0.021882, 'loss_consonant': 0.01786, 'loss_word': 0.023311}\n",
      "   38 | 0.000027 | 160000/160596 | 1.2977 | 6.8997 |||"
     ]
    },
    {
     "name": "stderr",
     "output_type": "stream",
     "text": [
      "\r",
      "  0%|          | 0/250 [00:00<?, ?it/s]"
     ]
    },
    {
     "name": "stdout",
     "output_type": "stream",
     "text": [
      "\n",
      "val: {'recall': 0.997389, 'recall_grapheme': 0.996514, 'recall_vowel': 0.998684, 'recall_consonant': 0.997843, 'recall_word': 0.995761, 'acc_grapheme': 0.996198, 'acc_vowel': 0.998608, 'acc_consonant': 0.998484, 'acc_word': 0.995825, 'loss_grapheme': 0.034917, 'loss_vowel': 0.022724, 'loss_consonant': 0.018942, 'loss_word': 0.025357}\n",
      "SWA>>>:\n"
     ]
    },
    {
     "name": "stderr",
     "output_type": "stream",
     "text": [
      "100%|██████████| 250/250 [01:25<00:00,  2.88it/s]\n"
     ]
    },
    {
     "name": "stdout",
     "output_type": "stream",
     "text": [
      "\n",
      "val: {'recall': 0.998227, 'recall_grapheme': 0.998016, 'recall_vowel': 0.9988, 'recall_consonant': 0.998075, 'recall_word': 0.997013, 'acc_grapheme': 0.997366, 'acc_vowel': 0.998857, 'acc_consonant': 0.998857, 'acc_word': 0.997093, 'loss_grapheme': 0.011643, 'loss_vowel': 0.005415, 'loss_consonant': 0.004617, 'loss_word': 0.012099}\n",
      "   39 | 0.000025 | 160000/160596 | 12.8640 | 7.2871 ||\n",
      "val: {'recall': 0.99699, 'recall_grapheme': 0.996, 'recall_vowel': 0.99814, 'recall_consonant': 0.997817, 'recall_word': 0.995066, 'acc_grapheme': 0.995701, 'acc_vowel': 0.99836, 'acc_consonant': 0.998385, 'acc_word': 0.995229, 'loss_grapheme': 0.085923, 'loss_vowel': 0.051934, 'loss_consonant': 0.044851, 'loss_word': 0.051627}\n",
      "   40 | 0.000023 | 160000/160596 | 9.0140 | 6.8061 ||\n",
      "val: {'recall': 0.997546, 'recall_grapheme': 0.996915, 'recall_vowel': 0.998544, 'recall_consonant': 0.99781, 'recall_word': 0.995955, 'acc_grapheme': 0.996397, 'acc_vowel': 0.998608, 'acc_consonant': 0.998509, 'acc_word': 0.996049, 'loss_grapheme': 0.041227, 'loss_vowel': 0.025634, 'loss_consonant': 0.022702, 'loss_word': 0.028107}\n",
      "   41 | 0.000021 | 141440/160596 | 6.9753 | 7.2544 ||"
     ]
    },
    {
     "ename": "KeyboardInterrupt",
     "evalue": "",
     "output_type": "error",
     "traceback": [
      "\u001b[0;31m---------------------------------------------------------------------------\u001b[0m",
      "\u001b[0;31mKeyboardInterrupt\u001b[0m                         Traceback (most recent call last)",
      "\u001b[0;32m<ipython-input-37-aad596905035>\u001b[0m in \u001b[0;36m<module>\u001b[0;34m\u001b[0m\n\u001b[0;32m----> 1\u001b[0;31m \u001b[0mtrain\u001b[0m\u001b[0;34m(\u001b[0m\u001b[0margs\u001b[0m\u001b[0;34m)\u001b[0m\u001b[0;34m\u001b[0m\u001b[0;34m\u001b[0m\u001b[0m\n\u001b[0m",
      "\u001b[0;32m<ipython-input-34-f06a7b6a88b3>\u001b[0m in \u001b[0;36mtrain\u001b[0;34m(args)\u001b[0m\n\u001b[1;32m     63\u001b[0m         \u001b[0;32mfor\u001b[0m \u001b[0mepoch\u001b[0m \u001b[0;32min\u001b[0m \u001b[0mrange\u001b[0m\u001b[0;34m(\u001b[0m\u001b[0margs\u001b[0m\u001b[0;34m.\u001b[0m\u001b[0mstart_epoch\u001b[0m\u001b[0;34m,\u001b[0m \u001b[0margs\u001b[0m\u001b[0;34m.\u001b[0m\u001b[0mnum_epochs\u001b[0m\u001b[0;34m)\u001b[0m\u001b[0;34m:\u001b[0m\u001b[0;34m\u001b[0m\u001b[0;34m\u001b[0m\u001b[0m\n\u001b[1;32m     64\u001b[0m             \u001b[0mgrid\u001b[0m\u001b[0;34m.\u001b[0m\u001b[0mset_prob\u001b[0m\u001b[0;34m(\u001b[0m\u001b[0mepoch\u001b[0m\u001b[0;34m,\u001b[0m \u001b[0margs\u001b[0m\u001b[0;34m.\u001b[0m\u001b[0mst_epochs\u001b[0m\u001b[0;34m)\u001b[0m\u001b[0;34m\u001b[0m\u001b[0;34m\u001b[0m\u001b[0m\n\u001b[0;32m---> 65\u001b[0;31m             \u001b[0mtrain_epoch\u001b[0m\u001b[0;34m(\u001b[0m\u001b[0margs\u001b[0m\u001b[0;34m,\u001b[0m \u001b[0mmodel\u001b[0m\u001b[0;34m,\u001b[0m \u001b[0mtrain_loader\u001b[0m\u001b[0;34m,\u001b[0m \u001b[0mepoch\u001b[0m\u001b[0;34m,\u001b[0m \u001b[0moptimizer\u001b[0m\u001b[0;34m,\u001b[0m \u001b[0mlr_scheduler\u001b[0m\u001b[0;34m,\u001b[0m \u001b[0mgrid\u001b[0m\u001b[0;34m)\u001b[0m\u001b[0;34m\u001b[0m\u001b[0;34m\u001b[0m\u001b[0m\n\u001b[0m\u001b[1;32m     66\u001b[0m             \u001b[0mvalidate_and_save\u001b[0m\u001b[0;34m(\u001b[0m\u001b[0mmodel\u001b[0m\u001b[0;34m,\u001b[0m \u001b[0mmodel_file\u001b[0m\u001b[0;34m,\u001b[0m \u001b[0mval_loader\u001b[0m\u001b[0;34m,\u001b[0m \u001b[0msave\u001b[0m\u001b[0;34m=\u001b[0m\u001b[0;32mTrue\u001b[0m\u001b[0;34m)\u001b[0m\u001b[0;34m\u001b[0m\u001b[0;34m\u001b[0m\u001b[0m\n\u001b[1;32m     67\u001b[0m \u001b[0;34m\u001b[0m\u001b[0m\n",
      "\u001b[0;32m<ipython-input-33-433613421c48>\u001b[0m in \u001b[0;36mtrain_epoch\u001b[0;34m(args, model, train_loader, epoch, optimizer, lr_scheduler, grid)\u001b[0m\n\u001b[1;32m     43\u001b[0m         \u001b[0moptimizer\u001b[0m\u001b[0;34m.\u001b[0m\u001b[0mzero_grad\u001b[0m\u001b[0;34m(\u001b[0m\u001b[0;34m)\u001b[0m\u001b[0;34m\u001b[0m\u001b[0;34m\u001b[0m\u001b[0m\n\u001b[1;32m     44\u001b[0m         \u001b[0;32mwith\u001b[0m \u001b[0mamp\u001b[0m\u001b[0;34m.\u001b[0m\u001b[0mscale_loss\u001b[0m\u001b[0;34m(\u001b[0m\u001b[0mloss\u001b[0m\u001b[0;34m,\u001b[0m \u001b[0moptimizer\u001b[0m\u001b[0;34m)\u001b[0m \u001b[0;32mas\u001b[0m \u001b[0mscaled_loss\u001b[0m\u001b[0;34m:\u001b[0m\u001b[0;34m\u001b[0m\u001b[0;34m\u001b[0m\u001b[0m\n\u001b[0;32m---> 45\u001b[0;31m             \u001b[0mscaled_loss\u001b[0m\u001b[0;34m.\u001b[0m\u001b[0mbackward\u001b[0m\u001b[0;34m(\u001b[0m\u001b[0;34m)\u001b[0m\u001b[0;34m\u001b[0m\u001b[0;34m\u001b[0m\u001b[0m\n\u001b[0m\u001b[1;32m     46\u001b[0m         \u001b[0;31m#loss.backward()\u001b[0m\u001b[0;34m\u001b[0m\u001b[0;34m\u001b[0m\u001b[0;34m\u001b[0m\u001b[0m\n\u001b[1;32m     47\u001b[0m         \u001b[0mlr_scheduler\u001b[0m\u001b[0;34m(\u001b[0m\u001b[0moptimizer\u001b[0m\u001b[0;34m,\u001b[0m \u001b[0mbatch_idx\u001b[0m\u001b[0;34m,\u001b[0m \u001b[0mepoch\u001b[0m\u001b[0;34m)\u001b[0m\u001b[0;34m\u001b[0m\u001b[0;34m\u001b[0m\u001b[0m\n",
      "\u001b[0;32m~/anaconda3/lib/python3.7/contextlib.py\u001b[0m in \u001b[0;36m__exit__\u001b[0;34m(self, type, value, traceback)\u001b[0m\n\u001b[1;32m    117\u001b[0m         \u001b[0;32mif\u001b[0m \u001b[0mtype\u001b[0m \u001b[0;32mis\u001b[0m \u001b[0;32mNone\u001b[0m\u001b[0;34m:\u001b[0m\u001b[0;34m\u001b[0m\u001b[0;34m\u001b[0m\u001b[0m\n\u001b[1;32m    118\u001b[0m             \u001b[0;32mtry\u001b[0m\u001b[0;34m:\u001b[0m\u001b[0;34m\u001b[0m\u001b[0;34m\u001b[0m\u001b[0m\n\u001b[0;32m--> 119\u001b[0;31m                 \u001b[0mnext\u001b[0m\u001b[0;34m(\u001b[0m\u001b[0mself\u001b[0m\u001b[0;34m.\u001b[0m\u001b[0mgen\u001b[0m\u001b[0;34m)\u001b[0m\u001b[0;34m\u001b[0m\u001b[0;34m\u001b[0m\u001b[0m\n\u001b[0m\u001b[1;32m    120\u001b[0m             \u001b[0;32mexcept\u001b[0m \u001b[0mStopIteration\u001b[0m\u001b[0;34m:\u001b[0m\u001b[0;34m\u001b[0m\u001b[0;34m\u001b[0m\u001b[0m\n\u001b[1;32m    121\u001b[0m                 \u001b[0;32mreturn\u001b[0m \u001b[0;32mFalse\u001b[0m\u001b[0;34m\u001b[0m\u001b[0;34m\u001b[0m\u001b[0m\n",
      "\u001b[0;32m~/anaconda3/lib/python3.7/site-packages/apex/amp/handle.py\u001b[0m in \u001b[0;36mscale_loss\u001b[0;34m(loss, optimizers, loss_id, model, delay_unscale, delay_overflow_check)\u001b[0m\n\u001b[1;32m    125\u001b[0m             \u001b[0;31m# For future fused optimizers that enable sync-free dynamic loss scaling,\u001b[0m\u001b[0;34m\u001b[0m\u001b[0;34m\u001b[0m\u001b[0;34m\u001b[0m\u001b[0m\n\u001b[1;32m    126\u001b[0m             \u001b[0;31m# should_skip will always be False.\u001b[0m\u001b[0;34m\u001b[0m\u001b[0;34m\u001b[0m\u001b[0;34m\u001b[0m\u001b[0m\n\u001b[0;32m--> 127\u001b[0;31m             \u001b[0mshould_skip\u001b[0m \u001b[0;34m=\u001b[0m \u001b[0;32mFalse\u001b[0m \u001b[0;32mif\u001b[0m \u001b[0mdelay_overflow_check\u001b[0m \u001b[0;32melse\u001b[0m \u001b[0mloss_scaler\u001b[0m\u001b[0;34m.\u001b[0m\u001b[0mupdate_scale\u001b[0m\u001b[0;34m(\u001b[0m\u001b[0;34m)\u001b[0m\u001b[0;34m\u001b[0m\u001b[0;34m\u001b[0m\u001b[0m\n\u001b[0m\u001b[1;32m    128\u001b[0m             \u001b[0;32mif\u001b[0m \u001b[0mshould_skip\u001b[0m\u001b[0;34m:\u001b[0m\u001b[0;34m\u001b[0m\u001b[0;34m\u001b[0m\u001b[0m\n\u001b[1;32m    129\u001b[0m                 \u001b[0;32mfor\u001b[0m \u001b[0moptimizer\u001b[0m \u001b[0;32min\u001b[0m \u001b[0moptimizers\u001b[0m\u001b[0;34m:\u001b[0m\u001b[0;34m\u001b[0m\u001b[0;34m\u001b[0m\u001b[0m\n",
      "\u001b[0;32m~/anaconda3/lib/python3.7/site-packages/apex/amp/scaler.py\u001b[0m in \u001b[0;36mupdate_scale\u001b[0;34m(self)\u001b[0m\n\u001b[1;32m    198\u001b[0m         \u001b[0;31m# If the fused kernel is available, we only need one D2H memcopy and sync.\u001b[0m\u001b[0;34m\u001b[0m\u001b[0;34m\u001b[0m\u001b[0;34m\u001b[0m\u001b[0m\n\u001b[1;32m    199\u001b[0m         \u001b[0;32mif\u001b[0m \u001b[0mLossScaler\u001b[0m\u001b[0;34m.\u001b[0m\u001b[0mhas_fused_kernel\u001b[0m \u001b[0;32mand\u001b[0m \u001b[0mself\u001b[0m\u001b[0;34m.\u001b[0m\u001b[0mdynamic\u001b[0m \u001b[0;32mand\u001b[0m \u001b[0;32mnot\u001b[0m \u001b[0mself\u001b[0m\u001b[0;34m.\u001b[0m\u001b[0m_has_overflow\u001b[0m\u001b[0;34m:\u001b[0m\u001b[0;34m\u001b[0m\u001b[0;34m\u001b[0m\u001b[0m\n\u001b[0;32m--> 200\u001b[0;31m             \u001b[0mself\u001b[0m\u001b[0;34m.\u001b[0m\u001b[0m_has_overflow\u001b[0m \u001b[0;34m=\u001b[0m \u001b[0mself\u001b[0m\u001b[0;34m.\u001b[0m\u001b[0m_overflow_buf\u001b[0m\u001b[0;34m.\u001b[0m\u001b[0mitem\u001b[0m\u001b[0;34m(\u001b[0m\u001b[0;34m)\u001b[0m\u001b[0;34m\u001b[0m\u001b[0;34m\u001b[0m\u001b[0m\n\u001b[0m\u001b[1;32m    201\u001b[0m \u001b[0;34m\u001b[0m\u001b[0m\n\u001b[1;32m    202\u001b[0m         \u001b[0;32mif\u001b[0m \u001b[0mself\u001b[0m\u001b[0;34m.\u001b[0m\u001b[0m_has_overflow\u001b[0m \u001b[0;32mand\u001b[0m \u001b[0mself\u001b[0m\u001b[0;34m.\u001b[0m\u001b[0mdynamic\u001b[0m\u001b[0;34m:\u001b[0m\u001b[0;34m\u001b[0m\u001b[0;34m\u001b[0m\u001b[0m\n",
      "\u001b[0;31mKeyboardInterrupt\u001b[0m: "
     ]
    }
   ],
   "source": [
    "train(args)"
   ]
  },
  {
   "cell_type": "code",
   "execution_count": null,
   "metadata": {},
   "outputs": [],
   "source": []
  },
  {
   "cell_type": "code",
   "execution_count": 37,
   "metadata": {},
   "outputs": [
    {
     "name": "stdout",
     "output_type": "stream",
     "text": [
      "init model4\n",
      "model file: ./model4-ckps/se_resnext50_32x4d/model4_se_resnext50_fold0_224.pth, exist: True\n",
      "loading ./model4-ckps/se_resnext50_32x4d/model4_se_resnext50_fold0_224.pth...\n",
      "init model4\n",
      "model file: ./model4-ckps/se_resnext50_32x4d/model4_se_resnext50_fold0_224.pth_swa, exist: False\n",
      "\n",
      "val: {'recall': 0.997627, 'recall_grapheme': 0.997045, 'recall_vowel': 0.998395, 'recall_consonant': 0.998022, 'recall_word': 0.996112, 'acc_grapheme': 0.996546, 'acc_vowel': 0.998658, 'acc_consonant': 0.998584, 'acc_word': 0.996223, 'loss_grapheme': 0.076319, 'loss_vowel': 0.051092, 'loss_consonant': 0.037538, 'loss_word': 0.048984}\n",
      "CYCLE: 1\n",
      "    0 | 0.000020 | 160000/160596 | 12.3382 | 7.6499 ||\n",
      "val: {'recall': 0.997427, 'recall_grapheme': 0.996786, 'recall_vowel': 0.998392, 'recall_consonant': 0.997744, 'recall_word': 0.995858, 'acc_grapheme': 0.996472, 'acc_vowel': 0.998608, 'acc_consonant': 0.998459, 'acc_word': 0.995925, 'loss_grapheme': 0.067789, 'loss_vowel': 0.044436, 'loss_consonant': 0.033543, 'loss_word': 0.044994}\n",
      "    1 | 0.000040 | 160000/160596 | 19.2817 | 8.4521 ||\n",
      "val: {'recall': 0.997277, 'recall_grapheme': 0.996518, 'recall_vowel': 0.998265, 'recall_consonant': 0.997809, 'recall_word': 0.996228, 'acc_grapheme': 0.996521, 'acc_vowel': 0.998683, 'acc_consonant': 0.998484, 'acc_word': 0.996273, 'loss_grapheme': 0.063925, 'loss_vowel': 0.041727, 'loss_consonant': 0.032009, 'loss_word': 0.038335}\n",
      "    2 | 0.000060 | 160000/160596 | 9.9152 | 8.2260 |||\n",
      "val: {'recall': 0.997285, 'recall_grapheme': 0.99667, 'recall_vowel': 0.99799, 'recall_consonant': 0.997808, 'recall_word': 0.99567, 'acc_grapheme': 0.996347, 'acc_vowel': 0.998435, 'acc_consonant': 0.99836, 'acc_word': 0.995751, 'loss_grapheme': 0.049764, 'loss_vowel': 0.033583, 'loss_consonant': 0.027427, 'loss_word': 0.03238}\n",
      "    3 | 0.000079 | 160000/160596 | 1.5283 | 8.1479 |||\n",
      "val: {'recall': 0.996866, 'recall_grapheme': 0.996205, 'recall_vowel': 0.99775, 'recall_consonant': 0.997306, 'recall_word': 0.995098, 'acc_grapheme': 0.995751, 'acc_vowel': 0.998236, 'acc_consonant': 0.998335, 'acc_word': 0.995155, 'loss_grapheme': 0.058791, 'loss_vowel': 0.038252, 'loss_consonant': 0.030721, 'loss_word': 0.037681}\n",
      "    4 | 0.000098 | 160000/160596 | 4.4187 | 8.2784 |||\n",
      "val: {'recall': 0.997392, 'recall_grapheme': 0.996523, 'recall_vowel': 0.998688, 'recall_consonant': 0.997834, 'recall_word': 0.99605, 'acc_grapheme': 0.996422, 'acc_vowel': 0.998807, 'acc_consonant': 0.998484, 'acc_word': 0.996074, 'loss_grapheme': 0.040567, 'loss_vowel': 0.024953, 'loss_consonant': 0.019305, 'loss_word': 0.030718}\n",
      "    5 | 0.000098 | 160000/160596 | 2.1541 | 8.0976 |||\n",
      "val: {'recall': 0.997038, 'recall_grapheme': 0.996438, 'recall_vowel': 0.998087, 'recall_consonant': 0.997189, 'recall_word': 0.995438, 'acc_grapheme': 0.996099, 'acc_vowel': 0.99841, 'acc_consonant': 0.99831, 'acc_word': 0.995453, 'loss_grapheme': 0.082797, 'loss_vowel': 0.054099, 'loss_consonant': 0.038295, 'loss_word': 0.051207}\n",
      "    6 | 0.000097 | 160000/160596 | 10.9871 | 7.6452 ||\n",
      "val: {'recall': 0.997074, 'recall_grapheme': 0.996294, 'recall_vowel': 0.998274, 'recall_consonant': 0.997436, 'recall_word': 0.995393, 'acc_grapheme': 0.995875, 'acc_vowel': 0.998236, 'acc_consonant': 0.998062, 'acc_word': 0.995453, 'loss_grapheme': 0.109503, 'loss_vowel': 0.059624, 'loss_consonant': 0.046887, 'loss_word': 0.068251}\n",
      "    7 | 0.000096 | 160000/160596 | 8.4128 | 7.9877 |||\n",
      "val: {'recall': 0.997058, 'recall_grapheme': 0.996288, 'recall_vowel': 0.998318, 'recall_consonant': 0.997338, 'recall_word': 0.995533, 'acc_grapheme': 0.9959, 'acc_vowel': 0.998285, 'acc_consonant': 0.99841, 'acc_word': 0.995577, 'loss_grapheme': 0.064179, 'loss_vowel': 0.039825, 'loss_consonant': 0.031005, 'loss_word': 0.043064}\n",
      "    8 | 0.000095 | 160000/160596 | 9.2695 | 7.3089 |||\n",
      "val: {'recall': 0.99683, 'recall_grapheme': 0.995811, 'recall_vowel': 0.998445, 'recall_consonant': 0.997251, 'recall_word': 0.995447, 'acc_grapheme': 0.995999, 'acc_vowel': 0.998584, 'acc_consonant': 0.998385, 'acc_word': 0.995552, 'loss_grapheme': 0.062285, 'loss_vowel': 0.03897, 'loss_consonant': 0.031383, 'loss_word': 0.041324}\n",
      "    9 | 0.000093 | 160000/160596 | 11.2603 | 8.0149 ||\n",
      "val: {'recall': 0.996613, 'recall_grapheme': 0.995643, 'recall_vowel': 0.997856, 'recall_consonant': 0.997308, 'recall_word': 0.994987, 'acc_grapheme': 0.995627, 'acc_vowel': 0.998211, 'acc_consonant': 0.998435, 'acc_word': 0.995055, 'loss_grapheme': 0.042621, 'loss_vowel': 0.025861, 'loss_consonant': 0.021672, 'loss_word': 0.030998}\n",
      "   10 | 0.000092 | 160000/160596 | 12.4392 | 8.1322 ||\n",
      "val: {'recall': 0.997269, 'recall_grapheme': 0.996544, 'recall_vowel': 0.998295, 'recall_consonant': 0.997694, 'recall_word': 0.995692, 'acc_grapheme': 0.996074, 'acc_vowel': 0.998459, 'acc_consonant': 0.998335, 'acc_word': 0.995676, 'loss_grapheme': 0.068608, 'loss_vowel': 0.043657, 'loss_consonant': 0.035433, 'loss_word': 0.04324}\n",
      "   11 | 0.000090 | 160000/160596 | 11.8329 | 8.4775 ||\n",
      "val: {'recall': 0.997072, 'recall_grapheme': 0.996418, 'recall_vowel': 0.997699, 'recall_consonant': 0.997753, 'recall_word': 0.995562, 'acc_grapheme': 0.996124, 'acc_vowel': 0.998261, 'acc_consonant': 0.99841, 'acc_word': 0.995652, 'loss_grapheme': 0.059839, 'loss_vowel': 0.037888, 'loss_consonant': 0.033162, 'loss_word': 0.036911}\n",
      "   12 | 0.000089 | 160000/160596 | 2.1261 | 8.8138 |||\n",
      "val: {'recall': 0.99704, 'recall_grapheme': 0.996273, 'recall_vowel': 0.997847, 'recall_consonant': 0.997766, 'recall_word': 0.995814, 'acc_grapheme': 0.996099, 'acc_vowel': 0.99831, 'acc_consonant': 0.99831, 'acc_word': 0.995875, 'loss_grapheme': 0.059496, 'loss_vowel': 0.037407, 'loss_consonant': 0.032385, 'loss_word': 0.034821}\n",
      "   13 | 0.000087 | 160000/160596 | 9.1040 | 8.0339 ||\n",
      "val: {'recall': 0.997129, 'recall_grapheme': 0.996215, 'recall_vowel': 0.998176, 'recall_consonant': 0.99791, 'recall_word': 0.995207, 'acc_grapheme': 0.996049, 'acc_vowel': 0.998435, 'acc_consonant': 0.998484, 'acc_word': 0.995304, 'loss_grapheme': 0.048517, 'loss_vowel': 0.028962, 'loss_consonant': 0.021753, 'loss_word': 0.034863}\n",
      "   14 | 0.000085 | 160000/160596 | 1.8756 | 8.3206 ||"
     ]
    },
    {
     "name": "stderr",
     "output_type": "stream",
     "text": [
      "\r",
      "  0%|          | 0/250 [00:00<?, ?it/s]"
     ]
    },
    {
     "name": "stdout",
     "output_type": "stream",
     "text": [
      "\n",
      "val: {'recall': 0.997563, 'recall_grapheme': 0.997073, 'recall_vowel': 0.998593, 'recall_consonant': 0.997515, 'recall_word': 0.996069, 'acc_grapheme': 0.996596, 'acc_vowel': 0.998782, 'acc_consonant': 0.998608, 'acc_word': 0.996124, 'loss_grapheme': 0.043161, 'loss_vowel': 0.026244, 'loss_consonant': 0.021546, 'loss_word': 0.029395}\n",
      "SWA>>>:\n"
     ]
    },
    {
     "name": "stderr",
     "output_type": "stream",
     "text": [
      "100%|██████████| 250/250 [01:26<00:00,  3.04it/s]\n"
     ]
    },
    {
     "name": "stdout",
     "output_type": "stream",
     "text": [
      "\n",
      "val: {'recall': 0.997889, 'recall_grapheme': 0.99737, 'recall_vowel': 0.998763, 'recall_consonant': 0.998055, 'recall_word': 0.996526, 'acc_grapheme': 0.996944, 'acc_vowel': 0.998733, 'acc_consonant': 0.998758, 'acc_word': 0.996546, 'loss_grapheme': 0.014027, 'loss_vowel': 0.006092, 'loss_consonant': 0.005158, 'loss_word': 0.014519}\n",
      "###>>>>> saved ./model4-ckps/se_resnext50_32x4d/model4_se_resnext50_fold0_224.pth_swa\n",
      "   15 | 0.000083 | 160000/160596 | 1.7672 | 8.0767 ||\n",
      "val: {'recall': 0.997475, 'recall_grapheme': 0.997144, 'recall_vowel': 0.998114, 'recall_consonant': 0.997496, 'recall_word': 0.996385, 'acc_grapheme': 0.99677, 'acc_vowel': 0.998608, 'acc_consonant': 0.998559, 'acc_word': 0.996472, 'loss_grapheme': 0.045554, 'loss_vowel': 0.028491, 'loss_consonant': 0.024071, 'loss_word': 0.029917}\n",
      "   16 | 0.000081 | 160000/160596 | 11.3628 | 8.2643 |\n",
      "val: {'recall': 0.997121, 'recall_grapheme': 0.996732, 'recall_vowel': 0.997685, 'recall_consonant': 0.997332, 'recall_word': 0.995528, 'acc_grapheme': 0.996322, 'acc_vowel': 0.998236, 'acc_consonant': 0.998385, 'acc_word': 0.995552, 'loss_grapheme': 0.057121, 'loss_vowel': 0.037004, 'loss_consonant': 0.029128, 'loss_word': 0.035123}\n",
      "   17 | 0.000079 | 160000/160596 | 16.3432 | 8.9157 |"
     ]
    },
    {
     "name": "stderr",
     "output_type": "stream",
     "text": [
      "\r",
      "  0%|          | 0/250 [00:00<?, ?it/s]"
     ]
    },
    {
     "name": "stdout",
     "output_type": "stream",
     "text": [
      "\n",
      "val: {'recall': 0.996887, 'recall_grapheme': 0.996157, 'recall_vowel': 0.997933, 'recall_consonant': 0.997301, 'recall_word': 0.995431, 'acc_grapheme': 0.995975, 'acc_vowel': 0.99836, 'acc_consonant': 0.998261, 'acc_word': 0.995527, 'loss_grapheme': 0.08167, 'loss_vowel': 0.048864, 'loss_consonant': 0.043187, 'loss_word': 0.048883}\n",
      "SWA>>>:\n"
     ]
    },
    {
     "name": "stderr",
     "output_type": "stream",
     "text": [
      "100%|██████████| 250/250 [01:26<00:00,  3.00it/s]\n"
     ]
    },
    {
     "name": "stdout",
     "output_type": "stream",
     "text": [
      "\n",
      "val: {'recall': 0.997744, 'recall_grapheme': 0.99728, 'recall_vowel': 0.99864, 'recall_consonant': 0.997775, 'recall_word': 0.996755, 'acc_grapheme': 0.997242, 'acc_vowel': 0.998733, 'acc_consonant': 0.998832, 'acc_word': 0.996844, 'loss_grapheme': 0.012962, 'loss_vowel': 0.006061, 'loss_consonant': 0.004748, 'loss_word': 0.013501}\n",
      "   18 | 0.000077 | 160000/160596 | 2.0647 | 8.0780 |||\n",
      "val: {'recall': 0.996977, 'recall_grapheme': 0.996408, 'recall_vowel': 0.997608, 'recall_consonant': 0.997483, 'recall_word': 0.995885, 'acc_grapheme': 0.996397, 'acc_vowel': 0.998335, 'acc_consonant': 0.998584, 'acc_word': 0.995925, 'loss_grapheme': 0.052356, 'loss_vowel': 0.032917, 'loss_consonant': 0.025472, 'loss_word': 0.035249}\n",
      "   19 | 0.000075 | 160000/160596 | 19.7911 | 8.0188 |\n",
      "val: {'recall': 0.99725, 'recall_grapheme': 0.996501, 'recall_vowel': 0.998153, 'recall_consonant': 0.997842, 'recall_word': 0.996177, 'acc_grapheme': 0.996447, 'acc_vowel': 0.998633, 'acc_consonant': 0.998459, 'acc_word': 0.996273, 'loss_grapheme': 0.043684, 'loss_vowel': 0.028583, 'loss_consonant': 0.024428, 'loss_word': 0.027704}\n",
      "   20 | 0.000073 | 160000/160596 | 1.6544 | 7.7821 ||"
     ]
    },
    {
     "name": "stderr",
     "output_type": "stream",
     "text": [
      "\r",
      "  0%|          | 0/250 [00:00<?, ?it/s]"
     ]
    },
    {
     "name": "stdout",
     "output_type": "stream",
     "text": [
      "\n",
      "val: {'recall': 0.997102, 'recall_grapheme': 0.996412, 'recall_vowel': 0.998223, 'recall_consonant': 0.99736, 'recall_word': 0.995554, 'acc_grapheme': 0.996372, 'acc_vowel': 0.998459, 'acc_consonant': 0.998534, 'acc_word': 0.995627, 'loss_grapheme': 0.047323, 'loss_vowel': 0.031851, 'loss_consonant': 0.023603, 'loss_word': 0.031375}\n",
      "SWA>>>:\n"
     ]
    },
    {
     "name": "stderr",
     "output_type": "stream",
     "text": [
      "100%|██████████| 250/250 [01:26<00:00,  3.00it/s]\n"
     ]
    },
    {
     "name": "stdout",
     "output_type": "stream",
     "text": [
      "\n",
      "val: {'recall': 0.997703, 'recall_grapheme': 0.997344, 'recall_vowel': 0.998573, 'recall_consonant': 0.997551, 'recall_word': 0.996914, 'acc_grapheme': 0.997217, 'acc_vowel': 0.998782, 'acc_consonant': 0.998658, 'acc_word': 0.996993, 'loss_grapheme': 0.012695, 'loss_vowel': 0.006084, 'loss_consonant': 0.004767, 'loss_word': 0.013269}\n",
      "   21 | 0.000070 | 160000/160596 | 10.0046 | 9.0380 ||\n",
      "val: {'recall': 0.996571, 'recall_grapheme': 0.995573, 'recall_vowel': 0.99782, 'recall_consonant': 0.997317, 'recall_word': 0.994671, 'acc_grapheme': 0.995502, 'acc_vowel': 0.998136, 'acc_consonant': 0.998211, 'acc_word': 0.994732, 'loss_grapheme': 0.126947, 'loss_vowel': 0.078661, 'loss_consonant': 0.065844, 'loss_word': 0.078226}\n",
      "   22 | 0.000068 | 160000/160596 | 16.5344 | 7.5684 ||\n",
      "val: {'recall': 0.997409, 'recall_grapheme': 0.996912, 'recall_vowel': 0.998324, 'recall_consonant': 0.997489, 'recall_word': 0.99627, 'acc_grapheme': 0.99667, 'acc_vowel': 0.998559, 'acc_consonant': 0.998658, 'acc_word': 0.996397, 'loss_grapheme': 0.037899, 'loss_vowel': 0.024586, 'loss_consonant': 0.019599, 'loss_word': 0.024574}\n",
      "   23 | 0.000065 | 160000/160596 | 1.9080 | 7.1079 |||\n",
      "val: {'recall': 0.997806, 'recall_grapheme': 0.99745, 'recall_vowel': 0.998421, 'recall_consonant': 0.997903, 'recall_word': 0.996189, 'acc_grapheme': 0.99667, 'acc_vowel': 0.998608, 'acc_consonant': 0.998584, 'acc_word': 0.996322, 'loss_grapheme': 0.023791, 'loss_vowel': 0.014207, 'loss_consonant': 0.011393, 'loss_word': 0.018946}\n"
     ]
    },
    {
     "name": "stderr",
     "output_type": "stream",
     "text": [
      "\r",
      "  0%|          | 0/250 [00:00<?, ?it/s]"
     ]
    },
    {
     "name": "stdout",
     "output_type": "stream",
     "text": [
      "###>>>>> saved ./model4-ckps/se_resnext50_32x4d/model4_se_resnext50_fold0_224.pth\n",
      "SWA>>>:\n"
     ]
    },
    {
     "name": "stderr",
     "output_type": "stream",
     "text": [
      "100%|██████████| 250/250 [01:27<00:00,  2.95it/s]\n"
     ]
    },
    {
     "name": "stdout",
     "output_type": "stream",
     "text": [
      "\n",
      "val: {'recall': 0.99789, 'recall_grapheme': 0.997585, 'recall_vowel': 0.998774, 'recall_consonant': 0.997617, 'recall_word': 0.996865, 'acc_grapheme': 0.997192, 'acc_vowel': 0.998807, 'acc_consonant': 0.998733, 'acc_word': 0.996968, 'loss_grapheme': 0.012753, 'loss_vowel': 0.006054, 'loss_consonant': 0.004744, 'loss_word': 0.013142}\n",
      "###>>>>> saved ./model4-ckps/se_resnext50_32x4d/model4_se_resnext50_fold0_224.pth_swa\n",
      "   24 | 0.000063 | 160000/160596 | 8.8796 | 8.5473 |||\n",
      "val: {'recall': 0.997366, 'recall_grapheme': 0.99678, 'recall_vowel': 0.998109, 'recall_consonant': 0.997795, 'recall_word': 0.99563, 'acc_grapheme': 0.996198, 'acc_vowel': 0.998459, 'acc_consonant': 0.99841, 'acc_word': 0.995751, 'loss_grapheme': 0.086937, 'loss_vowel': 0.053313, 'loss_consonant': 0.043272, 'loss_word': 0.052895}\n",
      "   25 | 0.000060 | 160000/160596 | 1.8439 | 7.3198 |||\n",
      "val: {'recall': 0.997685, 'recall_grapheme': 0.996926, 'recall_vowel': 0.99891, 'recall_consonant': 0.997978, 'recall_word': 0.995986, 'acc_grapheme': 0.996422, 'acc_vowel': 0.998708, 'acc_consonant': 0.998633, 'acc_word': 0.996049, 'loss_grapheme': 0.04735, 'loss_vowel': 0.030715, 'loss_consonant': 0.021823, 'loss_word': 0.031568}\n",
      "   26 | 0.000058 | 160000/160596 | 1.9134 | 8.0139 |||"
     ]
    },
    {
     "name": "stderr",
     "output_type": "stream",
     "text": [
      "\r",
      "  0%|          | 0/250 [00:00<?, ?it/s]"
     ]
    },
    {
     "name": "stdout",
     "output_type": "stream",
     "text": [
      "\n",
      "val: {'recall': 0.997673, 'recall_grapheme': 0.996809, 'recall_vowel': 0.998983, 'recall_consonant': 0.998091, 'recall_word': 0.996323, 'acc_grapheme': 0.996621, 'acc_vowel': 0.998956, 'acc_consonant': 0.998758, 'acc_word': 0.996372, 'loss_grapheme': 0.031983, 'loss_vowel': 0.018949, 'loss_consonant': 0.016138, 'loss_word': 0.022435}\n",
      "SWA>>>:\n"
     ]
    },
    {
     "name": "stderr",
     "output_type": "stream",
     "text": [
      "100%|██████████| 250/250 [01:26<00:00,  2.99it/s]\n"
     ]
    },
    {
     "name": "stdout",
     "output_type": "stream",
     "text": [
      "\n",
      "val: {'recall': 0.997797, 'recall_grapheme': 0.997409, 'recall_vowel': 0.998746, 'recall_consonant': 0.997622, 'recall_word': 0.996717, 'acc_grapheme': 0.997192, 'acc_vowel': 0.998782, 'acc_consonant': 0.998758, 'acc_word': 0.996819, 'loss_grapheme': 0.012717, 'loss_vowel': 0.006015, 'loss_consonant': 0.004666, 'loss_word': 0.013153}\n",
      "   27 | 0.000055 | 160000/160596 | 7.0012 | 8.4623 ||\n",
      "val: {'recall': 0.997758, 'recall_grapheme': 0.997336, 'recall_vowel': 0.9984, 'recall_consonant': 0.997961, 'recall_word': 0.996322, 'acc_grapheme': 0.996645, 'acc_vowel': 0.998633, 'acc_consonant': 0.998584, 'acc_word': 0.996397, 'loss_grapheme': 0.059215, 'loss_vowel': 0.040522, 'loss_consonant': 0.031011, 'loss_word': 0.036554}\n",
      "   28 | 0.000053 | 160000/160596 | 8.9177 | 8.2052 |||\n",
      "val: {'recall': 0.997318, 'recall_grapheme': 0.996538, 'recall_vowel': 0.998195, 'recall_consonant': 0.998003, 'recall_word': 0.995712, 'acc_grapheme': 0.996298, 'acc_vowel': 0.998509, 'acc_consonant': 0.998633, 'acc_word': 0.995801, 'loss_grapheme': 0.039092, 'loss_vowel': 0.024434, 'loss_consonant': 0.020657, 'loss_word': 0.02739}\n",
      "   29 | 0.000050 | 160000/160596 | 1.8615 | 7.8691 ||"
     ]
    },
    {
     "name": "stderr",
     "output_type": "stream",
     "text": [
      "\r",
      "  0%|          | 0/250 [00:00<?, ?it/s]"
     ]
    },
    {
     "name": "stdout",
     "output_type": "stream",
     "text": [
      "\n",
      "val: {'recall': 0.997644, 'recall_grapheme': 0.997028, 'recall_vowel': 0.998593, 'recall_consonant': 0.997928, 'recall_word': 0.996201, 'acc_grapheme': 0.996546, 'acc_vowel': 0.998708, 'acc_consonant': 0.998708, 'acc_word': 0.996273, 'loss_grapheme': 0.041937, 'loss_vowel': 0.027524, 'loss_consonant': 0.021123, 'loss_word': 0.028177}\n",
      "SWA>>>:\n"
     ]
    },
    {
     "name": "stderr",
     "output_type": "stream",
     "text": [
      "100%|██████████| 250/250 [01:26<00:00,  2.95it/s]\n"
     ]
    },
    {
     "name": "stdout",
     "output_type": "stream",
     "text": [
      "\n",
      "val: {'recall': 0.997765, 'recall_grapheme': 0.997343, 'recall_vowel': 0.998723, 'recall_consonant': 0.99765, 'recall_word': 0.996775, 'acc_grapheme': 0.997217, 'acc_vowel': 0.998733, 'acc_consonant': 0.998782, 'acc_word': 0.996894, 'loss_grapheme': 0.012637, 'loss_vowel': 0.005931, 'loss_consonant': 0.004566, 'loss_word': 0.013024}\n",
      "   30 | 0.000047 | 160000/160596 | 1.8607 | 7.3167 |||\n",
      "val: {'recall': 0.997373, 'recall_grapheme': 0.99702, 'recall_vowel': 0.998193, 'recall_consonant': 0.997258, 'recall_word': 0.99588, 'acc_grapheme': 0.996521, 'acc_vowel': 0.998385, 'acc_consonant': 0.99841, 'acc_word': 0.995975, 'loss_grapheme': 0.044959, 'loss_vowel': 0.027931, 'loss_consonant': 0.024269, 'loss_word': 0.031327}\n",
      "   31 | 0.000045 | 160000/160596 | 16.8921 | 8.0976 ||\n",
      "val: {'recall': 0.997531, 'recall_grapheme': 0.99695, 'recall_vowel': 0.998176, 'recall_consonant': 0.998049, 'recall_word': 0.996238, 'acc_grapheme': 0.99667, 'acc_vowel': 0.998584, 'acc_consonant': 0.998584, 'acc_word': 0.996322, 'loss_grapheme': 0.070534, 'loss_vowel': 0.041355, 'loss_consonant': 0.032829, 'loss_word': 0.046755}\n",
      "   32 | 0.000042 | 160000/160596 | 19.5199 | 8.5475 ||"
     ]
    },
    {
     "name": "stderr",
     "output_type": "stream",
     "text": [
      "\r",
      "  0%|          | 0/250 [00:00<?, ?it/s]"
     ]
    },
    {
     "name": "stdout",
     "output_type": "stream",
     "text": [
      "\n",
      "val: {'recall': 0.997648, 'recall_grapheme': 0.997272, 'recall_vowel': 0.998038, 'recall_consonant': 0.998011, 'recall_word': 0.99615, 'acc_grapheme': 0.996596, 'acc_vowel': 0.998584, 'acc_consonant': 0.998733, 'acc_word': 0.996248, 'loss_grapheme': 0.0704, 'loss_vowel': 0.049295, 'loss_consonant': 0.037352, 'loss_word': 0.042181}\n",
      "SWA>>>:\n"
     ]
    },
    {
     "name": "stderr",
     "output_type": "stream",
     "text": [
      "100%|██████████| 250/250 [01:26<00:00,  2.90it/s]\n"
     ]
    },
    {
     "name": "stdout",
     "output_type": "stream",
     "text": [
      "\n",
      "val: {'recall': 0.997959, 'recall_grapheme': 0.997466, 'recall_vowel': 0.998757, 'recall_consonant': 0.998147, 'recall_word': 0.996775, 'acc_grapheme': 0.997366, 'acc_vowel': 0.998807, 'acc_consonant': 0.998832, 'acc_word': 0.996894, 'loss_grapheme': 0.012489, 'loss_vowel': 0.005908, 'loss_consonant': 0.004506, 'loss_word': 0.012891}\n",
      "###>>>>> saved ./model4-ckps/se_resnext50_32x4d/model4_se_resnext50_fold0_224.pth_swa\n",
      "   33 | 0.000040 | 160000/160596 | 8.1570 | 8.3447 ||\n",
      "val: {'recall': 0.997463, 'recall_grapheme': 0.996972, 'recall_vowel': 0.998001, 'recall_consonant': 0.997909, 'recall_word': 0.996093, 'acc_grapheme': 0.996496, 'acc_vowel': 0.998633, 'acc_consonant': 0.998534, 'acc_word': 0.996173, 'loss_grapheme': 0.053107, 'loss_vowel': 0.034884, 'loss_consonant': 0.028785, 'loss_word': 0.033347}\n",
      "   34 | 0.000037 | 160000/160596 | 1.7698 | 8.3791 |||\n",
      "val: {'recall': 0.997608, 'recall_grapheme': 0.997102, 'recall_vowel': 0.998348, 'recall_consonant': 0.997881, 'recall_word': 0.995879, 'acc_grapheme': 0.996322, 'acc_vowel': 0.998534, 'acc_consonant': 0.998584, 'acc_word': 0.99595, 'loss_grapheme': 0.038283, 'loss_vowel': 0.025155, 'loss_consonant': 0.02123, 'loss_word': 0.026936}\n",
      "   35 | 0.000035 | 160000/160596 | 1.9220 | 7.4555 ||\n",
      "val: {'recall': 0.997826, 'recall_grapheme': 0.997402, 'recall_vowel': 0.998423, 'recall_consonant': 0.998075, 'recall_word': 0.996391, 'acc_grapheme': 0.99667, 'acc_vowel': 0.998708, 'acc_consonant': 0.998683, 'acc_word': 0.996496, 'loss_grapheme': 0.035491, 'loss_vowel': 0.02365, 'loss_consonant': 0.020861, 'loss_word': 0.02427}\n"
     ]
    },
    {
     "name": "stderr",
     "output_type": "stream",
     "text": [
      "\r",
      "  0%|          | 0/250 [00:00<?, ?it/s]"
     ]
    },
    {
     "name": "stdout",
     "output_type": "stream",
     "text": [
      "###>>>>> saved ./model4-ckps/se_resnext50_32x4d/model4_se_resnext50_fold0_224.pth\n",
      "SWA>>>:\n"
     ]
    },
    {
     "name": "stderr",
     "output_type": "stream",
     "text": [
      "100%|██████████| 250/250 [01:26<00:00,  3.02it/s]\n"
     ]
    },
    {
     "name": "stdout",
     "output_type": "stream",
     "text": [
      "\n",
      "val: {'recall': 0.997873, 'recall_grapheme': 0.997297, 'recall_vowel': 0.998746, 'recall_consonant': 0.998153, 'recall_word': 0.996772, 'acc_grapheme': 0.997316, 'acc_vowel': 0.998782, 'acc_consonant': 0.998857, 'acc_word': 0.996894, 'loss_grapheme': 0.012426, 'loss_vowel': 0.005857, 'loss_consonant': 0.004448, 'loss_word': 0.012885}\n",
      "   36 | 0.000032 | 160000/160596 | 9.1874 | 7.6853 ||\n",
      "val: {'recall': 0.997568, 'recall_grapheme': 0.99707, 'recall_vowel': 0.998161, 'recall_consonant': 0.99797, 'recall_word': 0.995996, 'acc_grapheme': 0.996496, 'acc_vowel': 0.998534, 'acc_consonant': 0.998584, 'acc_word': 0.996124, 'loss_grapheme': 0.046784, 'loss_vowel': 0.028925, 'loss_consonant': 0.024874, 'loss_word': 0.030051}\n",
      "   37 | 0.000030 | 160000/160596 | 1.8554 | 7.7890 ||\n",
      "val: {'recall': 0.997601, 'recall_grapheme': 0.996845, 'recall_vowel': 0.998612, 'recall_consonant': 0.998101, 'recall_word': 0.996481, 'acc_grapheme': 0.996745, 'acc_vowel': 0.998683, 'acc_consonant': 0.998683, 'acc_word': 0.996571, 'loss_grapheme': 0.030391, 'loss_vowel': 0.019557, 'loss_consonant': 0.016343, 'loss_word': 0.021917}\n",
      "   38 | 0.000027 | 160000/160596 | 8.5970 | 7.9536 ||\n",
      "val: {'recall': 0.997864, 'recall_grapheme': 0.997513, 'recall_vowel': 0.998408, 'recall_consonant': 0.998021, 'recall_word': 0.996358, 'acc_grapheme': 0.996795, 'acc_vowel': 0.998758, 'acc_consonant': 0.998683, 'acc_word': 0.996447, 'loss_grapheme': 0.041779, 'loss_vowel': 0.028064, 'loss_consonant': 0.022422, 'loss_word': 0.028019}\n"
     ]
    },
    {
     "name": "stderr",
     "output_type": "stream",
     "text": [
      "\r",
      "  0%|          | 0/250 [00:00<?, ?it/s]"
     ]
    },
    {
     "name": "stdout",
     "output_type": "stream",
     "text": [
      "###>>>>> saved ./model4-ckps/se_resnext50_32x4d/model4_se_resnext50_fold0_224.pth\n",
      "SWA>>>:\n"
     ]
    },
    {
     "name": "stderr",
     "output_type": "stream",
     "text": [
      "100%|██████████| 250/250 [01:26<00:00,  3.00it/s]\n"
     ]
    },
    {
     "name": "stdout",
     "output_type": "stream",
     "text": [
      "\n",
      "val: {'recall': 0.997871, 'recall_grapheme': 0.997279, 'recall_vowel': 0.998769, 'recall_consonant': 0.998159, 'recall_word': 0.996678, 'acc_grapheme': 0.997267, 'acc_vowel': 0.998782, 'acc_consonant': 0.998882, 'acc_word': 0.996795, 'loss_grapheme': 0.012463, 'loss_vowel': 0.005881, 'loss_consonant': 0.004448, 'loss_word': 0.012851}\n",
      "   39 | 0.000025 | 160000/160596 | 6.7743 | 7.8825 |||\n",
      "val: {'recall': 0.997481, 'recall_grapheme': 0.997221, 'recall_vowel': 0.998036, 'recall_consonant': 0.997445, 'recall_word': 0.995583, 'acc_grapheme': 0.996347, 'acc_vowel': 0.998385, 'acc_consonant': 0.998509, 'acc_word': 0.995701, 'loss_grapheme': 0.073845, 'loss_vowel': 0.046452, 'loss_consonant': 0.036737, 'loss_word': 0.047688}\n",
      "   40 | 0.000023 | 160000/160596 | 6.4092 | 8.3948 |||\n",
      "val: {'recall': 0.997498, 'recall_grapheme': 0.996983, 'recall_vowel': 0.998187, 'recall_consonant': 0.997839, 'recall_word': 0.995973, 'acc_grapheme': 0.996447, 'acc_vowel': 0.998584, 'acc_consonant': 0.998484, 'acc_word': 0.996099, 'loss_grapheme': 0.066924, 'loss_vowel': 0.041959, 'loss_consonant': 0.034119, 'loss_word': 0.040464}\n",
      "   41 | 0.000021 | 160000/160596 | 16.1152 | 8.2525 ||"
     ]
    },
    {
     "name": "stderr",
     "output_type": "stream",
     "text": [
      "\r",
      "  0%|          | 0/250 [00:00<?, ?it/s]"
     ]
    },
    {
     "name": "stdout",
     "output_type": "stream",
     "text": [
      "\n",
      "val: {'recall': 0.997086, 'recall_grapheme': 0.996333, 'recall_vowel': 0.997968, 'recall_consonant': 0.997708, 'recall_word': 0.995324, 'acc_grapheme': 0.99585, 'acc_vowel': 0.998385, 'acc_consonant': 0.998236, 'acc_word': 0.995478, 'loss_grapheme': 0.129103, 'loss_vowel': 0.075355, 'loss_consonant': 0.056475, 'loss_word': 0.07488}\n",
      "SWA>>>:\n"
     ]
    },
    {
     "name": "stderr",
     "output_type": "stream",
     "text": [
      "100%|██████████| 250/250 [01:26<00:00,  2.95it/s]\n"
     ]
    },
    {
     "name": "stdout",
     "output_type": "stream",
     "text": [
      "\n",
      "val: {'recall': 0.997968, 'recall_grapheme': 0.997455, 'recall_vowel': 0.998779, 'recall_consonant': 0.998183, 'recall_word': 0.996784, 'acc_grapheme': 0.997292, 'acc_vowel': 0.998807, 'acc_consonant': 0.998882, 'acc_word': 0.996894, 'loss_grapheme': 0.012466, 'loss_vowel': 0.005869, 'loss_consonant': 0.004454, 'loss_word': 0.012822}\n",
      "###>>>>> saved ./model4-ckps/se_resnext50_32x4d/model4_se_resnext50_fold0_224.pth_swa\n",
      "   42 | 0.000019 | 160000/160596 | 8.1723 | 7.9559 |||\n",
      "val: {'recall': 0.997116, 'recall_grapheme': 0.996721, 'recall_vowel': 0.997972, 'recall_consonant': 0.997048, 'recall_word': 0.995218, 'acc_grapheme': 0.996074, 'acc_vowel': 0.998335, 'acc_consonant': 0.998136, 'acc_word': 0.995328, 'loss_grapheme': 0.071884, 'loss_vowel': 0.045291, 'loss_consonant': 0.039038, 'loss_word': 0.045918}\n",
      "   43 | 0.000017 | 160000/160596 | 20.7052 | 8.0397 |\n",
      "val: {'recall': 0.997303, 'recall_grapheme': 0.996494, 'recall_vowel': 0.998293, 'recall_consonant': 0.99793, 'recall_word': 0.996219, 'acc_grapheme': 0.996298, 'acc_vowel': 0.998633, 'acc_consonant': 0.998534, 'acc_word': 0.996298, 'loss_grapheme': 0.063693, 'loss_vowel': 0.042133, 'loss_consonant': 0.033959, 'loss_word': 0.036416}\n",
      "   44 | 0.000015 | 160000/160596 | 20.1782 | 8.6574 ||"
     ]
    },
    {
     "name": "stderr",
     "output_type": "stream",
     "text": [
      "\r",
      "  0%|          | 0/250 [00:00<?, ?it/s]"
     ]
    },
    {
     "name": "stdout",
     "output_type": "stream",
     "text": [
      "\n",
      "val: {'recall': 0.997508, 'recall_grapheme': 0.996826, 'recall_vowel': 0.998533, 'recall_consonant': 0.997847, 'recall_word': 0.996033, 'acc_grapheme': 0.996248, 'acc_vowel': 0.998608, 'acc_consonant': 0.998509, 'acc_word': 0.996148, 'loss_grapheme': 0.077446, 'loss_vowel': 0.049496, 'loss_consonant': 0.040146, 'loss_word': 0.043819}\n",
      "SWA>>>:\n"
     ]
    },
    {
     "name": "stderr",
     "output_type": "stream",
     "text": [
      "100%|██████████| 250/250 [01:26<00:00,  3.00it/s]\n"
     ]
    },
    {
     "name": "stdout",
     "output_type": "stream",
     "text": [
      "\n",
      "val: {'recall': 0.998045, 'recall_grapheme': 0.997613, 'recall_vowel': 0.998767, 'recall_consonant': 0.998189, 'recall_word': 0.996786, 'acc_grapheme': 0.997316, 'acc_vowel': 0.998807, 'acc_consonant': 0.998907, 'acc_word': 0.996894, 'loss_grapheme': 0.012504, 'loss_vowel': 0.005907, 'loss_consonant': 0.004431, 'loss_word': 0.012871}\n",
      "###>>>>> saved ./model4-ckps/se_resnext50_32x4d/model4_se_resnext50_fold0_224.pth_swa\n",
      "   45 | 0.000013 | 160000/160596 | 3.1769 | 8.5166 |||\n",
      "val: {'recall': 0.997483, 'recall_grapheme': 0.996994, 'recall_vowel': 0.99811, 'recall_consonant': 0.997834, 'recall_word': 0.995758, 'acc_grapheme': 0.996298, 'acc_vowel': 0.998484, 'acc_consonant': 0.998459, 'acc_word': 0.9959, 'loss_grapheme': 0.068071, 'loss_vowel': 0.042489, 'loss_consonant': 0.035124, 'loss_word': 0.042135}\n",
      "   46 | 0.000011 | 160000/160596 | 16.3620 | 7.6163 ||\n",
      "val: {'recall': 0.997239, 'recall_grapheme': 0.996626, 'recall_vowel': 0.997832, 'recall_consonant': 0.997872, 'recall_word': 0.995641, 'acc_grapheme': 0.996198, 'acc_vowel': 0.998385, 'acc_consonant': 0.998509, 'acc_word': 0.995776, 'loss_grapheme': 0.088624, 'loss_vowel': 0.057443, 'loss_consonant': 0.045349, 'loss_word': 0.053414}\n",
      "   47 | 0.000010 | 160000/160596 | 1.6542 | 7.2960 |||"
     ]
    },
    {
     "name": "stderr",
     "output_type": "stream",
     "text": [
      "\r",
      "  0%|          | 0/250 [00:00<?, ?it/s]"
     ]
    },
    {
     "name": "stdout",
     "output_type": "stream",
     "text": [
      "\n",
      "val: {'recall': 0.997849, 'recall_grapheme': 0.997499, 'recall_vowel': 0.998388, 'recall_consonant': 0.99801, 'recall_word': 0.996506, 'acc_grapheme': 0.996993, 'acc_vowel': 0.998633, 'acc_consonant': 0.998633, 'acc_word': 0.996596, 'loss_grapheme': 0.027391, 'loss_vowel': 0.017891, 'loss_consonant': 0.014312, 'loss_word': 0.020764}\n",
      "SWA>>>:\n"
     ]
    },
    {
     "name": "stderr",
     "output_type": "stream",
     "text": [
      "100%|██████████| 250/250 [01:26<00:00,  2.97it/s]\n"
     ]
    },
    {
     "name": "stdout",
     "output_type": "stream",
     "text": [
      "\n",
      "val: {'recall': 0.998025, 'recall_grapheme': 0.997595, 'recall_vowel': 0.998728, 'recall_consonant': 0.998183, 'recall_word': 0.996793, 'acc_grapheme': 0.997316, 'acc_vowel': 0.998758, 'acc_consonant': 0.998882, 'acc_word': 0.996894, 'loss_grapheme': 0.012489, 'loss_vowel': 0.00595, 'loss_consonant': 0.004451, 'loss_word': 0.012863}\n",
      "   48 | 0.000008 | 160000/160596 | 1.6945 | 7.7319 ||\n",
      "val: {'recall': 0.997203, 'recall_grapheme': 0.996785, 'recall_vowel': 0.997902, 'recall_consonant': 0.997342, 'recall_word': 0.995458, 'acc_grapheme': 0.996298, 'acc_vowel': 0.998285, 'acc_consonant': 0.998285, 'acc_word': 0.995552, 'loss_grapheme': 0.064264, 'loss_vowel': 0.040656, 'loss_consonant': 0.035635, 'loss_word': 0.040369}\n",
      "   49 | 0.000007 | 160000/160596 | 1.8609 | 8.6909 ||\n",
      "val: {'recall': 0.99753, 'recall_grapheme': 0.99706, 'recall_vowel': 0.998083, 'recall_consonant': 0.997919, 'recall_word': 0.996209, 'acc_grapheme': 0.996546, 'acc_vowel': 0.998608, 'acc_consonant': 0.998584, 'acc_word': 0.996273, 'loss_grapheme': 0.069213, 'loss_vowel': 0.046526, 'loss_consonant': 0.037722, 'loss_word': 0.03996}\n",
      "   50 | 0.000005 | 160000/160596 | 1.6699 | 8.1002 ||"
     ]
    },
    {
     "name": "stderr",
     "output_type": "stream",
     "text": [
      "\r",
      "  0%|          | 0/250 [00:00<?, ?it/s]"
     ]
    },
    {
     "name": "stdout",
     "output_type": "stream",
     "text": [
      "\n",
      "val: {'recall': 0.99785, 'recall_grapheme': 0.997565, 'recall_vowel': 0.998295, 'recall_consonant': 0.997974, 'recall_word': 0.996508, 'acc_grapheme': 0.997018, 'acc_vowel': 0.998633, 'acc_consonant': 0.998608, 'acc_word': 0.996596, 'loss_grapheme': 0.029863, 'loss_vowel': 0.018655, 'loss_consonant': 0.015871, 'loss_word': 0.021184}\n",
      "SWA>>>:\n"
     ]
    },
    {
     "name": "stderr",
     "output_type": "stream",
     "text": [
      "100%|██████████| 250/250 [01:26<00:00,  3.02it/s]\n"
     ]
    },
    {
     "name": "stdout",
     "output_type": "stream",
     "text": [
      "\n",
      "val: {'recall': 0.998032, 'recall_grapheme': 0.997607, 'recall_vowel': 0.998756, 'recall_consonant': 0.998159, 'recall_word': 0.996763, 'acc_grapheme': 0.997341, 'acc_vowel': 0.998782, 'acc_consonant': 0.998882, 'acc_word': 0.996869, 'loss_grapheme': 0.01248, 'loss_vowel': 0.005918, 'loss_consonant': 0.004418, 'loss_word': 0.012853}\n",
      "   51 | 0.000004 | 160000/160596 | 1.7036 | 8.5230 ||\n",
      "val: {'recall': 0.997766, 'recall_grapheme': 0.997391, 'recall_vowel': 0.99814, 'recall_consonant': 0.998141, 'recall_word': 0.996435, 'acc_grapheme': 0.996968, 'acc_vowel': 0.998608, 'acc_consonant': 0.998733, 'acc_word': 0.996546, 'loss_grapheme': 0.034589, 'loss_vowel': 0.022482, 'loss_consonant': 0.017736, 'loss_word': 0.02379}\n",
      "   52 | 0.000003 | 160000/160596 | 3.7734 | 7.9531 ||\n",
      "val: {'recall': 0.997696, 'recall_grapheme': 0.997142, 'recall_vowel': 0.998481, 'recall_consonant': 0.998018, 'recall_word': 0.99628, 'acc_grapheme': 0.996795, 'acc_vowel': 0.998758, 'acc_consonant': 0.998683, 'acc_word': 0.996372, 'loss_grapheme': 0.065386, 'loss_vowel': 0.04103, 'loss_consonant': 0.031809, 'loss_word': 0.03853}\n",
      "   53 | 0.000002 | 160000/160596 | 1.8491 | 8.4114 ||"
     ]
    },
    {
     "name": "stderr",
     "output_type": "stream",
     "text": [
      "\r",
      "  0%|          | 0/250 [00:00<?, ?it/s]"
     ]
    },
    {
     "name": "stdout",
     "output_type": "stream",
     "text": [
      "\n",
      "val: {'recall': 0.997791, 'recall_grapheme': 0.997283, 'recall_vowel': 0.998502, 'recall_consonant': 0.998095, 'recall_word': 0.996396, 'acc_grapheme': 0.996819, 'acc_vowel': 0.998782, 'acc_consonant': 0.998782, 'acc_word': 0.996496, 'loss_grapheme': 0.052004, 'loss_vowel': 0.033163, 'loss_consonant': 0.026079, 'loss_word': 0.031759}\n",
      "SWA>>>:\n"
     ]
    },
    {
     "name": "stderr",
     "output_type": "stream",
     "text": [
      "100%|██████████| 250/250 [01:26<00:00,  2.96it/s]\n"
     ]
    },
    {
     "name": "stdout",
     "output_type": "stream",
     "text": [
      "\n",
      "val: {'recall': 0.998019, 'recall_grapheme': 0.9975, 'recall_vowel': 0.998924, 'recall_consonant': 0.998153, 'recall_word': 0.996741, 'acc_grapheme': 0.997292, 'acc_vowel': 0.998857, 'acc_consonant': 0.998857, 'acc_word': 0.996844, 'loss_grapheme': 0.012489, 'loss_vowel': 0.005921, 'loss_consonant': 0.004438, 'loss_word': 0.012845}\n",
      "   54 | 0.000002 | 160000/160596 | 1.7149 | 8.0439 |||\n",
      "val: {'recall': 0.997519, 'recall_grapheme': 0.997098, 'recall_vowel': 0.998368, 'recall_consonant': 0.997513, 'recall_word': 0.99596, 'acc_grapheme': 0.996546, 'acc_vowel': 0.998509, 'acc_consonant': 0.998484, 'acc_word': 0.996049, 'loss_grapheme': 0.041455, 'loss_vowel': 0.025961, 'loss_consonant': 0.021771, 'loss_word': 0.029167}\n",
      "   55 | 0.000001 | 160000/160596 | 16.2416 | 7.9609 |\n",
      "val: {'recall': 0.997699, 'recall_grapheme': 0.997093, 'recall_vowel': 0.998518, 'recall_consonant': 0.998092, 'recall_word': 0.996457, 'acc_grapheme': 0.99677, 'acc_vowel': 0.998807, 'acc_consonant': 0.998758, 'acc_word': 0.996546, 'loss_grapheme': 0.056076, 'loss_vowel': 0.034936, 'loss_consonant': 0.029546, 'loss_word': 0.032604}\n",
      "   56 | 0.000001 | 160000/160596 | 9.6619 | 8.0107 |||"
     ]
    },
    {
     "name": "stderr",
     "output_type": "stream",
     "text": [
      "\r",
      "  0%|          | 0/250 [00:00<?, ?it/s]"
     ]
    },
    {
     "name": "stdout",
     "output_type": "stream",
     "text": [
      "\n",
      "val: {'recall': 0.997472, 'recall_grapheme': 0.997204, 'recall_vowel': 0.998067, 'recall_consonant': 0.997415, 'recall_word': 0.995991, 'acc_grapheme': 0.99667, 'acc_vowel': 0.998435, 'acc_consonant': 0.998484, 'acc_word': 0.996099, 'loss_grapheme': 0.055373, 'loss_vowel': 0.034936, 'loss_consonant': 0.029788, 'loss_word': 0.034133}\n",
      "SWA>>>:\n"
     ]
    },
    {
     "name": "stderr",
     "output_type": "stream",
     "text": [
      "100%|██████████| 250/250 [01:26<00:00,  2.91it/s]\n"
     ]
    },
    {
     "name": "stdout",
     "output_type": "stream",
     "text": [
      "\n",
      "val: {'recall': 0.998014, 'recall_grapheme': 0.997489, 'recall_vowel': 0.998896, 'recall_consonant': 0.998183, 'recall_word': 0.996735, 'acc_grapheme': 0.997292, 'acc_vowel': 0.998832, 'acc_consonant': 0.998882, 'acc_word': 0.996819, 'loss_grapheme': 0.012478, 'loss_vowel': 0.005928, 'loss_consonant': 0.004451, 'loss_word': 0.012871}\n",
      "   57 | 0.000000 | 160000/160596 | 1.6173 | 7.6600 ||\n",
      "val: {'recall': 0.997838, 'recall_grapheme': 0.997383, 'recall_vowel': 0.998472, 'recall_consonant': 0.998111, 'recall_word': 0.996405, 'acc_grapheme': 0.996944, 'acc_vowel': 0.998683, 'acc_consonant': 0.998733, 'acc_word': 0.996496, 'loss_grapheme': 0.034897, 'loss_vowel': 0.022494, 'loss_consonant': 0.018479, 'loss_word': 0.023405}\n",
      "   58 | 0.000000 | 160000/160596 | 6.8419 | 7.6657 |||\n",
      "val: {'recall': 0.997811, 'recall_grapheme': 0.997492, 'recall_vowel': 0.998399, 'recall_consonant': 0.997862, 'recall_word': 0.996469, 'acc_grapheme': 0.996919, 'acc_vowel': 0.998658, 'acc_consonant': 0.998559, 'acc_word': 0.996571, 'loss_grapheme': 0.034569, 'loss_vowel': 0.021771, 'loss_consonant': 0.018422, 'loss_word': 0.023655}\n",
      "   59 | 0.000000 | 160000/160596 | 18.6431 | 8.4460 |"
     ]
    },
    {
     "name": "stderr",
     "output_type": "stream",
     "text": [
      "\r",
      "  0%|          | 0/250 [00:00<?, ?it/s]"
     ]
    },
    {
     "name": "stdout",
     "output_type": "stream",
     "text": [
      "\n",
      "val: {'recall': 0.997593, 'recall_grapheme': 0.997193, 'recall_vowel': 0.998056, 'recall_consonant': 0.997931, 'recall_word': 0.996264, 'acc_grapheme': 0.99667, 'acc_vowel': 0.998534, 'acc_consonant': 0.998633, 'acc_word': 0.996372, 'loss_grapheme': 0.054359, 'loss_vowel': 0.034822, 'loss_consonant': 0.028291, 'loss_word': 0.032563}\n",
      "SWA>>>:\n"
     ]
    },
    {
     "name": "stderr",
     "output_type": "stream",
     "text": [
      "100%|██████████| 250/250 [01:26<00:00,  2.97it/s]\n"
     ]
    },
    {
     "name": "stdout",
     "output_type": "stream",
     "text": [
      "\n",
      "val: {'recall': 0.997992, 'recall_grapheme': 0.997461, 'recall_vowel': 0.998896, 'recall_consonant': 0.99815, 'recall_word': 0.996784, 'acc_grapheme': 0.997267, 'acc_vowel': 0.998832, 'acc_consonant': 0.998857, 'acc_word': 0.996869, 'loss_grapheme': 0.012507, 'loss_vowel': 0.005943, 'loss_consonant': 0.004435, 'loss_word': 0.012894}\n",
      "CYCLE: 2\n",
      "    0 | 0.000020 | 160000/160596 | 1.0162 | 7.0419 |||\n",
      "val: {'recall': 0.997891, 'recall_grapheme': 0.997361, 'recall_vowel': 0.998719, 'recall_consonant': 0.998121, 'recall_word': 0.996619, 'acc_grapheme': 0.996993, 'acc_vowel': 0.998882, 'acc_consonant': 0.998907, 'acc_word': 0.996695, 'loss_grapheme': 0.029212, 'loss_vowel': 0.020441, 'loss_consonant': 0.016688, 'loss_word': 0.019529}\n",
      "###>>>>> saved ./model4-ckps/se_resnext50_32x4d/model4_se_resnext50_fold0_224.pth\n",
      "    1 | 0.000040 | 160000/160596 | 16.9517 | 8.2640 ||\n",
      "val: {'recall': 0.997513, 'recall_grapheme': 0.996938, 'recall_vowel': 0.998298, 'recall_consonant': 0.997878, 'recall_word': 0.996078, 'acc_grapheme': 0.996496, 'acc_vowel': 0.998608, 'acc_consonant': 0.998534, 'acc_word': 0.996198, 'loss_grapheme': 0.054918, 'loss_vowel': 0.037451, 'loss_consonant': 0.029874, 'loss_word': 0.032471}\n",
      "    2 | 0.000060 | 160000/160596 | 8.5787 | 7.4120 |||\n",
      "val: {'recall': 0.997819, 'recall_grapheme': 0.997298, 'recall_vowel': 0.998671, 'recall_consonant': 0.998009, 'recall_word': 0.996481, 'acc_grapheme': 0.996968, 'acc_vowel': 0.998782, 'acc_consonant': 0.998658, 'acc_word': 0.996571, 'loss_grapheme': 0.022024, 'loss_vowel': 0.01376, 'loss_consonant': 0.011772, 'loss_word': 0.018299}\n",
      "    3 | 0.000079 | 160000/160596 | 1.3578 | 7.6803 ||\n",
      "val: {'recall': 0.997063, 'recall_grapheme': 0.995991, 'recall_vowel': 0.998438, 'recall_consonant': 0.997833, 'recall_word': 0.995863, 'acc_grapheme': 0.996124, 'acc_vowel': 0.998584, 'acc_consonant': 0.99836, 'acc_word': 0.995999, 'loss_grapheme': 0.061546, 'loss_vowel': 0.047014, 'loss_consonant': 0.036995, 'loss_word': 0.033276}\n",
      "    4 | 0.000098 | 160000/160596 | 5.8077 | 7.7911 ||\n",
      "val: {'recall': 0.997012, 'recall_grapheme': 0.996228, 'recall_vowel': 0.998127, 'recall_consonant': 0.997467, 'recall_word': 0.995144, 'acc_grapheme': 0.99585, 'acc_vowel': 0.99841, 'acc_consonant': 0.998484, 'acc_word': 0.995204, 'loss_grapheme': 0.048174, 'loss_vowel': 0.032923, 'loss_consonant': 0.027268, 'loss_word': 0.031222}\n",
      "    5 | 0.000098 | 160000/160596 | 5.7952 | 8.2722 |||\n",
      "val: {'recall': 0.996766, 'recall_grapheme': 0.995907, 'recall_vowel': 0.997989, 'recall_consonant': 0.997262, 'recall_word': 0.995103, 'acc_grapheme': 0.99585, 'acc_vowel': 0.99841, 'acc_consonant': 0.998285, 'acc_word': 0.995204, 'loss_grapheme': 0.112969, 'loss_vowel': 0.07045, 'loss_consonant': 0.053939, 'loss_word': 0.064302}\n",
      "    6 | 0.000097 | 160000/160596 | 1.3594 | 7.4422 |||\n",
      "val: {'recall': 0.997319, 'recall_grapheme': 0.996435, 'recall_vowel': 0.998586, 'recall_consonant': 0.99782, 'recall_word': 0.995691, 'acc_grapheme': 0.996198, 'acc_vowel': 0.998683, 'acc_consonant': 0.998658, 'acc_word': 0.995825, 'loss_grapheme': 0.057514, 'loss_vowel': 0.036325, 'loss_consonant': 0.030113, 'loss_word': 0.035911}\n",
      "    7 | 0.000096 | 160000/160596 | 9.9381 | 8.1141 ||\n",
      "val: {'recall': 0.99731, 'recall_grapheme': 0.996487, 'recall_vowel': 0.998339, 'recall_consonant': 0.997926, 'recall_word': 0.995602, 'acc_grapheme': 0.996024, 'acc_vowel': 0.998559, 'acc_consonant': 0.998658, 'acc_word': 0.995751, 'loss_grapheme': 0.062472, 'loss_vowel': 0.04104, 'loss_consonant': 0.031924, 'loss_word': 0.037966}\n",
      "    8 | 0.000095 | 160000/160596 | 13.1894 | 8.3703 ||\n",
      "val: {'recall': 0.997288, 'recall_grapheme': 0.996736, 'recall_vowel': 0.998043, 'recall_consonant': 0.997636, 'recall_word': 0.995652, 'acc_grapheme': 0.996148, 'acc_vowel': 0.998509, 'acc_consonant': 0.99841, 'acc_word': 0.995751, 'loss_grapheme': 0.04481, 'loss_vowel': 0.029327, 'loss_consonant': 0.021017, 'loss_word': 0.031757}\n",
      "    9 | 0.000093 | 160000/160596 | 1.7847 | 7.7334 ||\n",
      "val: {'recall': 0.997127, 'recall_grapheme': 0.996447, 'recall_vowel': 0.997775, 'recall_consonant': 0.997842, 'recall_word': 0.995888, 'acc_grapheme': 0.996024, 'acc_vowel': 0.99831, 'acc_consonant': 0.998459, 'acc_word': 0.99595, 'loss_grapheme': 0.055332, 'loss_vowel': 0.034616, 'loss_consonant': 0.027936, 'loss_word': 0.036097}\n",
      "   10 | 0.000092 | 160000/160596 | 8.2260 | 8.0256 |||\n",
      "val: {'recall': 0.997354, 'recall_grapheme': 0.996492, 'recall_vowel': 0.998484, 'recall_consonant': 0.99795, 'recall_word': 0.995776, 'acc_grapheme': 0.996422, 'acc_vowel': 0.998559, 'acc_consonant': 0.998509, 'acc_word': 0.995875, 'loss_grapheme': 0.05122, 'loss_vowel': 0.035947, 'loss_consonant': 0.027826, 'loss_word': 0.033395}\n",
      "   11 | 0.000090 | 160000/160596 | 7.9764 | 8.1384 |||\n",
      "val: {'recall': 0.996966, 'recall_grapheme': 0.996155, 'recall_vowel': 0.998272, 'recall_consonant': 0.997281, 'recall_word': 0.995072, 'acc_grapheme': 0.99585, 'acc_vowel': 0.998112, 'acc_consonant': 0.998335, 'acc_word': 0.99513, 'loss_grapheme': 0.070047, 'loss_vowel': 0.045404, 'loss_consonant': 0.035431, 'loss_word': 0.045015}\n",
      "   12 | 0.000089 | 160000/160596 | 8.5971 | 7.6380 |||\n",
      "val: {'recall': 0.997256, 'recall_grapheme': 0.996353, 'recall_vowel': 0.998483, 'recall_consonant': 0.997836, 'recall_word': 0.995632, 'acc_grapheme': 0.996124, 'acc_vowel': 0.998683, 'acc_consonant': 0.998534, 'acc_word': 0.995776, 'loss_grapheme': 0.037489, 'loss_vowel': 0.025088, 'loss_consonant': 0.020121, 'loss_word': 0.026532}\n",
      "   13 | 0.000087 | 160000/160596 | 1.6762 | 8.1222 |||\n",
      "val: {'recall': 0.997823, 'recall_grapheme': 0.99743, 'recall_vowel': 0.998549, 'recall_consonant': 0.997884, 'recall_word': 0.996399, 'acc_grapheme': 0.996919, 'acc_vowel': 0.998658, 'acc_consonant': 0.998584, 'acc_word': 0.996447, 'loss_grapheme': 0.024889, 'loss_vowel': 0.015065, 'loss_consonant': 0.012382, 'loss_word': 0.020403}\n",
      "   14 | 0.000085 | 160000/160596 | 11.1287 | 7.3125 |"
     ]
    },
    {
     "name": "stderr",
     "output_type": "stream",
     "text": [
      "\r",
      "  0%|          | 0/250 [00:00<?, ?it/s]"
     ]
    },
    {
     "name": "stdout",
     "output_type": "stream",
     "text": [
      "\n",
      "val: {'recall': 0.997421, 'recall_grapheme': 0.996928, 'recall_vowel': 0.99813, 'recall_consonant': 0.997696, 'recall_word': 0.995681, 'acc_grapheme': 0.996223, 'acc_vowel': 0.998509, 'acc_consonant': 0.99831, 'acc_word': 0.995875, 'loss_grapheme': 0.03999, 'loss_vowel': 0.024517, 'loss_consonant': 0.021236, 'loss_word': 0.026974}\n",
      "SWA>>>:\n"
     ]
    },
    {
     "name": "stderr",
     "output_type": "stream",
     "text": [
      "100%|██████████| 250/250 [01:26<00:00,  3.00it/s]\n"
     ]
    },
    {
     "name": "stdout",
     "output_type": "stream",
     "text": [
      "\n",
      "val: {'recall': 0.998052, 'recall_grapheme': 0.997575, 'recall_vowel': 0.998907, 'recall_consonant': 0.998152, 'recall_word': 0.996788, 'acc_grapheme': 0.997316, 'acc_vowel': 0.998857, 'acc_consonant': 0.998882, 'acc_word': 0.996869, 'loss_grapheme': 0.012399, 'loss_vowel': 0.005907, 'loss_consonant': 0.004397, 'loss_word': 0.012812}\n",
      "###>>>>> saved ./model4-ckps/se_resnext50_32x4d/model4_se_resnext50_fold0_224.pth_swa\n",
      "   15 | 0.000083 | 160000/160596 | 1.7918 | 7.8796 ||\n",
      "val: {'recall': 0.996775, 'recall_grapheme': 0.99586, 'recall_vowel': 0.9977, 'recall_consonant': 0.997679, 'recall_word': 0.994594, 'acc_grapheme': 0.995602, 'acc_vowel': 0.998012, 'acc_consonant': 0.998161, 'acc_word': 0.994707, 'loss_grapheme': 0.060013, 'loss_vowel': 0.037284, 'loss_consonant': 0.030408, 'loss_word': 0.041055}\n",
      "   16 | 0.000081 | 160000/160596 | 1.9406 | 7.6907 |||\n",
      "val: {'recall': 0.997089, 'recall_grapheme': 0.996356, 'recall_vowel': 0.997973, 'recall_consonant': 0.997672, 'recall_word': 0.995808, 'acc_grapheme': 0.996248, 'acc_vowel': 0.998435, 'acc_consonant': 0.99836, 'acc_word': 0.9959, 'loss_grapheme': 0.046655, 'loss_vowel': 0.030831, 'loss_consonant': 0.024539, 'loss_word': 0.029639}\n",
      "   17 | 0.000079 | 160000/160596 | 13.7829 | 7.6821 |"
     ]
    },
    {
     "name": "stderr",
     "output_type": "stream",
     "text": [
      "\r",
      "  0%|          | 0/250 [00:00<?, ?it/s]"
     ]
    },
    {
     "name": "stdout",
     "output_type": "stream",
     "text": [
      "\n",
      "val: {'recall': 0.997315, 'recall_grapheme': 0.99671, 'recall_vowel': 0.997978, 'recall_consonant': 0.997862, 'recall_word': 0.995296, 'acc_grapheme': 0.996124, 'acc_vowel': 0.998236, 'acc_consonant': 0.99836, 'acc_word': 0.995378, 'loss_grapheme': 0.040816, 'loss_vowel': 0.027603, 'loss_consonant': 0.021893, 'loss_word': 0.028889}\n",
      "SWA>>>:\n"
     ]
    },
    {
     "name": "stderr",
     "output_type": "stream",
     "text": [
      "100%|██████████| 250/250 [01:26<00:00,  3.02it/s]\n"
     ]
    },
    {
     "name": "stdout",
     "output_type": "stream",
     "text": [
      "\n",
      "val: {'recall': 0.998155, 'recall_grapheme': 0.997739, 'recall_vowel': 0.998948, 'recall_consonant': 0.998194, 'recall_word': 0.996801, 'acc_grapheme': 0.997292, 'acc_vowel': 0.998907, 'acc_consonant': 0.998932, 'acc_word': 0.996869, 'loss_grapheme': 0.012423, 'loss_vowel': 0.005886, 'loss_consonant': 0.004395, 'loss_word': 0.012782}\n",
      "###>>>>> saved ./model4-ckps/se_resnext50_32x4d/model4_se_resnext50_fold0_224.pth_swa\n",
      "   18 | 0.000077 | 160000/160596 | 9.2017 | 6.9361 ||\n",
      "val: {'recall': 0.996862, 'recall_grapheme': 0.996117, 'recall_vowel': 0.997986, 'recall_consonant': 0.997227, 'recall_word': 0.994741, 'acc_grapheme': 0.99585, 'acc_vowel': 0.998285, 'acc_consonant': 0.998211, 'acc_word': 0.994856, 'loss_grapheme': 0.090638, 'loss_vowel': 0.056541, 'loss_consonant': 0.042115, 'loss_word': 0.057303}\n",
      "   19 | 0.000075 | 160000/160596 | 7.1176 | 8.0478 |||\n",
      "val: {'recall': 0.997097, 'recall_grapheme': 0.996329, 'recall_vowel': 0.997968, 'recall_consonant': 0.997764, 'recall_word': 0.995373, 'acc_grapheme': 0.996024, 'acc_vowel': 0.998435, 'acc_consonant': 0.99831, 'acc_word': 0.995527, 'loss_grapheme': 0.040905, 'loss_vowel': 0.027484, 'loss_consonant': 0.022015, 'loss_word': 0.029351}\n",
      "   20 | 0.000073 | 160000/160596 | 6.9860 | 8.0378 |||"
     ]
    },
    {
     "name": "stderr",
     "output_type": "stream",
     "text": [
      "\r",
      "  0%|          | 0/250 [00:00<?, ?it/s]"
     ]
    },
    {
     "name": "stdout",
     "output_type": "stream",
     "text": [
      "\n",
      "val: {'recall': 0.997583, 'recall_grapheme': 0.997125, 'recall_vowel': 0.99828, 'recall_consonant': 0.9978, 'recall_word': 0.995927, 'acc_grapheme': 0.996472, 'acc_vowel': 0.998633, 'acc_consonant': 0.998534, 'acc_word': 0.996024, 'loss_grapheme': 0.043468, 'loss_vowel': 0.030742, 'loss_consonant': 0.023045, 'loss_word': 0.030207}\n",
      "SWA>>>:\n"
     ]
    },
    {
     "name": "stderr",
     "output_type": "stream",
     "text": [
      "100%|██████████| 250/250 [01:26<00:00,  2.94it/s]\n"
     ]
    },
    {
     "name": "stdout",
     "output_type": "stream",
     "text": [
      "\n",
      "val: {'recall': 0.998051, 'recall_grapheme': 0.997575, 'recall_vowel': 0.998958, 'recall_consonant': 0.998095, 'recall_word': 0.996795, 'acc_grapheme': 0.997217, 'acc_vowel': 0.998932, 'acc_consonant': 0.998857, 'acc_word': 0.996869, 'loss_grapheme': 0.012413, 'loss_vowel': 0.005926, 'loss_consonant': 0.004424, 'loss_word': 0.012823}\n",
      "   21 | 0.000070 | 160000/160596 | 8.8916 | 7.9323 |||\n",
      "val: {'recall': 0.997053, 'recall_grapheme': 0.996326, 'recall_vowel': 0.998128, 'recall_consonant': 0.997432, 'recall_word': 0.995142, 'acc_grapheme': 0.996049, 'acc_vowel': 0.998484, 'acc_consonant': 0.99836, 'acc_word': 0.995254, 'loss_grapheme': 0.067537, 'loss_vowel': 0.041808, 'loss_consonant': 0.036585, 'loss_word': 0.040476}\n",
      "   22 | 0.000068 | 160000/160596 | 9.8992 | 8.2314 ||\n",
      "val: {'recall': 0.997055, 'recall_grapheme': 0.99639, 'recall_vowel': 0.997983, 'recall_consonant': 0.997454, 'recall_word': 0.995193, 'acc_grapheme': 0.995676, 'acc_vowel': 0.998335, 'acc_consonant': 0.998112, 'acc_word': 0.995304, 'loss_grapheme': 0.100207, 'loss_vowel': 0.059852, 'loss_consonant': 0.048312, 'loss_word': 0.060912}\n",
      "   23 | 0.000065 | 160000/160596 | 1.5838 | 7.6741 |||"
     ]
    },
    {
     "name": "stderr",
     "output_type": "stream",
     "text": [
      "\r",
      "  0%|          | 0/250 [00:00<?, ?it/s]"
     ]
    },
    {
     "name": "stdout",
     "output_type": "stream",
     "text": [
      "\n",
      "val: {'recall': 0.99758, 'recall_grapheme': 0.996897, 'recall_vowel': 0.99866, 'recall_consonant': 0.997864, 'recall_word': 0.996309, 'acc_grapheme': 0.99667, 'acc_vowel': 0.998608, 'acc_consonant': 0.998459, 'acc_word': 0.996347, 'loss_grapheme': 0.062134, 'loss_vowel': 0.04076, 'loss_consonant': 0.033008, 'loss_word': 0.03725}\n",
      "SWA>>>:\n"
     ]
    },
    {
     "name": "stderr",
     "output_type": "stream",
     "text": [
      "100%|██████████| 250/250 [01:27<00:00,  3.00it/s]\n"
     ]
    },
    {
     "name": "stdout",
     "output_type": "stream",
     "text": [
      "\n",
      "val: {'recall': 0.99799, 'recall_grapheme': 0.997454, 'recall_vowel': 0.998958, 'recall_consonant': 0.998095, 'recall_word': 0.9968, 'acc_grapheme': 0.997217, 'acc_vowel': 0.998932, 'acc_consonant': 0.998857, 'acc_word': 0.996869, 'loss_grapheme': 0.012403, 'loss_vowel': 0.005905, 'loss_consonant': 0.004415, 'loss_word': 0.012783}\n",
      "   24 | 0.000063 | 160000/160596 | 1.4921 | 8.2528 ||\n",
      "val: {'recall': 0.997643, 'recall_grapheme': 0.997189, 'recall_vowel': 0.99825, 'recall_consonant': 0.997943, 'recall_word': 0.996564, 'acc_grapheme': 0.997018, 'acc_vowel': 0.998608, 'acc_consonant': 0.998658, 'acc_word': 0.996621, 'loss_grapheme': 0.019986, 'loss_vowel': 0.011382, 'loss_consonant': 0.010038, 'loss_word': 0.016553}\n",
      "   25 | 0.000060 | 160000/160596 | 2.3853 | 7.4132 ||\n",
      "val: {'recall': 0.997247, 'recall_grapheme': 0.996602, 'recall_vowel': 0.998148, 'recall_consonant': 0.997634, 'recall_word': 0.995769, 'acc_grapheme': 0.996099, 'acc_vowel': 0.998459, 'acc_consonant': 0.998261, 'acc_word': 0.99585, 'loss_grapheme': 0.051611, 'loss_vowel': 0.031421, 'loss_consonant': 0.02416, 'loss_word': 0.034351}\n",
      "   26 | 0.000058 | 160000/160596 | 1.6203 | 7.9178 ||"
     ]
    },
    {
     "name": "stderr",
     "output_type": "stream",
     "text": [
      "\r",
      "  0%|          | 0/250 [00:00<?, ?it/s]"
     ]
    },
    {
     "name": "stdout",
     "output_type": "stream",
     "text": [
      "\n",
      "val: {'recall': 0.996963, 'recall_grapheme': 0.996074, 'recall_vowel': 0.99803, 'recall_consonant': 0.997675, 'recall_word': 0.995293, 'acc_grapheme': 0.995726, 'acc_vowel': 0.998559, 'acc_consonant': 0.998285, 'acc_word': 0.995453, 'loss_grapheme': 0.053853, 'loss_vowel': 0.034973, 'loss_consonant': 0.028342, 'loss_word': 0.034998}\n",
      "SWA>>>:\n"
     ]
    },
    {
     "name": "stderr",
     "output_type": "stream",
     "text": [
      "100%|██████████| 250/250 [01:27<00:00,  3.00it/s]\n"
     ]
    },
    {
     "name": "stdout",
     "output_type": "stream",
     "text": [
      "\n",
      "val: {'recall': 0.998082, 'recall_grapheme': 0.997637, 'recall_vowel': 0.998958, 'recall_consonant': 0.998095, 'recall_word': 0.996777, 'acc_grapheme': 0.997242, 'acc_vowel': 0.998932, 'acc_consonant': 0.998857, 'acc_word': 0.996869, 'loss_grapheme': 0.01237, 'loss_vowel': 0.00592, 'loss_consonant': 0.004447, 'loss_word': 0.012786}\n",
      "   27 | 0.000055 | 160000/160596 | 1.5599 | 7.0787 |||\n",
      "val: {'recall': 0.997518, 'recall_grapheme': 0.997046, 'recall_vowel': 0.998523, 'recall_consonant': 0.997458, 'recall_word': 0.996001, 'acc_grapheme': 0.996571, 'acc_vowel': 0.998559, 'acc_consonant': 0.998608, 'acc_word': 0.996124, 'loss_grapheme': 0.029212, 'loss_vowel': 0.019311, 'loss_consonant': 0.016004, 'loss_word': 0.021872}\n",
      "   28 | 0.000053 | 160000/160596 | 8.6134 | 8.2453 |||\n",
      "val: {'recall': 0.997331, 'recall_grapheme': 0.996483, 'recall_vowel': 0.998361, 'recall_consonant': 0.997996, 'recall_word': 0.996199, 'acc_grapheme': 0.996372, 'acc_vowel': 0.998683, 'acc_consonant': 0.998559, 'acc_word': 0.996248, 'loss_grapheme': 0.048681, 'loss_vowel': 0.032001, 'loss_consonant': 0.025759, 'loss_word': 0.03015}\n",
      "   29 | 0.000050 | 160000/160596 | 11.8732 | 7.9776 ||"
     ]
    },
    {
     "name": "stderr",
     "output_type": "stream",
     "text": [
      "\r",
      "  0%|          | 0/250 [00:00<?, ?it/s]"
     ]
    },
    {
     "name": "stdout",
     "output_type": "stream",
     "text": [
      "\n",
      "val: {'recall': 0.997178, 'recall_grapheme': 0.996234, 'recall_vowel': 0.998438, 'recall_consonant': 0.997805, 'recall_word': 0.995949, 'acc_grapheme': 0.996148, 'acc_vowel': 0.998633, 'acc_consonant': 0.998484, 'acc_word': 0.996024, 'loss_grapheme': 0.093363, 'loss_vowel': 0.062601, 'loss_consonant': 0.047011, 'loss_word': 0.049936}\n",
      "SWA>>>:\n"
     ]
    },
    {
     "name": "stderr",
     "output_type": "stream",
     "text": [
      "100%|██████████| 250/250 [01:27<00:00,  3.01it/s]\n"
     ]
    },
    {
     "name": "stdout",
     "output_type": "stream",
     "text": [
      "\n",
      "val: {'recall': 0.998099, 'recall_grapheme': 0.997693, 'recall_vowel': 0.998915, 'recall_consonant': 0.998095, 'recall_word': 0.996791, 'acc_grapheme': 0.997267, 'acc_vowel': 0.998882, 'acc_consonant': 0.998857, 'acc_word': 0.996894, 'loss_grapheme': 0.012276, 'loss_vowel': 0.005847, 'loss_consonant': 0.00438, 'loss_word': 0.012701}\n",
      "   30 | 0.000047 | 160000/160596 | 1.7184 | 8.7822 |||\n",
      "val: {'recall': 0.997342, 'recall_grapheme': 0.996451, 'recall_vowel': 0.998471, 'recall_consonant': 0.997995, 'recall_word': 0.996122, 'acc_grapheme': 0.996521, 'acc_vowel': 0.998608, 'acc_consonant': 0.998559, 'acc_word': 0.996223, 'loss_grapheme': 0.031734, 'loss_vowel': 0.02174, 'loss_consonant': 0.019355, 'loss_word': 0.021667}\n",
      "   31 | 0.000045 | 160000/160596 | 1.6383 | 7.6322 |||\n",
      "val: {'recall': 0.9976, 'recall_grapheme': 0.997092, 'recall_vowel': 0.998356, 'recall_consonant': 0.997861, 'recall_word': 0.996148, 'acc_grapheme': 0.996322, 'acc_vowel': 0.998459, 'acc_consonant': 0.998534, 'acc_word': 0.996198, 'loss_grapheme': 0.026824, 'loss_vowel': 0.016066, 'loss_consonant': 0.013329, 'loss_word': 0.020952}\n",
      "   32 | 0.000042 | 160000/160596 | 13.7247 | 8.3582 |"
     ]
    },
    {
     "name": "stderr",
     "output_type": "stream",
     "text": [
      "\r",
      "  0%|          | 0/250 [00:00<?, ?it/s]"
     ]
    },
    {
     "name": "stdout",
     "output_type": "stream",
     "text": [
      "\n",
      "val: {'recall': 0.997037, 'recall_grapheme': 0.996424, 'recall_vowel': 0.998192, 'recall_consonant': 0.997109, 'recall_word': 0.995336, 'acc_grapheme': 0.995999, 'acc_vowel': 0.998509, 'acc_consonant': 0.998236, 'acc_word': 0.995478, 'loss_grapheme': 0.127484, 'loss_vowel': 0.077734, 'loss_consonant': 0.056946, 'loss_word': 0.076578}\n",
      "SWA>>>:\n"
     ]
    },
    {
     "name": "stderr",
     "output_type": "stream",
     "text": [
      "100%|██████████| 250/250 [01:27<00:00,  2.96it/s]\n"
     ]
    },
    {
     "name": "stdout",
     "output_type": "stream",
     "text": [
      "\n",
      "val: {'recall': 0.998211, 'recall_grapheme': 0.99791, 'recall_vowel': 0.998928, 'recall_consonant': 0.998095, 'recall_word': 0.996816, 'acc_grapheme': 0.997292, 'acc_vowel': 0.998882, 'acc_consonant': 0.998857, 'acc_word': 0.996919, 'loss_grapheme': 0.012241, 'loss_vowel': 0.005872, 'loss_consonant': 0.004407, 'loss_word': 0.012649}\n",
      "###>>>>> saved ./model4-ckps/se_resnext50_32x4d/model4_se_resnext50_fold0_224.pth_swa\n",
      "   33 | 0.000040 | 160000/160596 | 1.7019 | 7.8025 |||\n",
      "val: {'recall': 0.997789, 'recall_grapheme': 0.99738, 'recall_vowel': 0.998485, 'recall_consonant': 0.997914, 'recall_word': 0.996237, 'acc_grapheme': 0.996745, 'acc_vowel': 0.998633, 'acc_consonant': 0.998559, 'acc_word': 0.996273, 'loss_grapheme': 0.047952, 'loss_vowel': 0.033688, 'loss_consonant': 0.026009, 'loss_word': 0.030616}\n",
      "   34 | 0.000037 | 160000/160596 | 8.5231 | 7.3275 |||\n",
      "val: {'recall': 0.996923, 'recall_grapheme': 0.996311, 'recall_vowel': 0.997896, 'recall_consonant': 0.997175, 'recall_word': 0.995248, 'acc_grapheme': 0.99595, 'acc_vowel': 0.998385, 'acc_consonant': 0.998261, 'acc_word': 0.995403, 'loss_grapheme': 0.080504, 'loss_vowel': 0.049637, 'loss_consonant': 0.040732, 'loss_word': 0.050083}\n",
      "   35 | 0.000035 | 160000/160596 | 1.4260 | 7.5912 |||"
     ]
    },
    {
     "name": "stderr",
     "output_type": "stream",
     "text": [
      "\r",
      "  0%|          | 0/250 [00:00<?, ?it/s]"
     ]
    },
    {
     "name": "stdout",
     "output_type": "stream",
     "text": [
      "\n",
      "val: {'recall': 0.997658, 'recall_grapheme': 0.997147, 'recall_vowel': 0.998463, 'recall_consonant': 0.997876, 'recall_word': 0.996256, 'acc_grapheme': 0.996546, 'acc_vowel': 0.998708, 'acc_consonant': 0.998559, 'acc_word': 0.996273, 'loss_grapheme': 0.039876, 'loss_vowel': 0.026382, 'loss_consonant': 0.021152, 'loss_word': 0.027038}\n",
      "SWA>>>:\n"
     ]
    },
    {
     "name": "stderr",
     "output_type": "stream",
     "text": [
      "100%|██████████| 250/250 [01:26<00:00,  2.97it/s]\n"
     ]
    },
    {
     "name": "stdout",
     "output_type": "stream",
     "text": [
      "\n",
      "val: {'recall': 0.998096, 'recall_grapheme': 0.997683, 'recall_vowel': 0.998915, 'recall_consonant': 0.998101, 'recall_word': 0.996769, 'acc_grapheme': 0.997267, 'acc_vowel': 0.998882, 'acc_consonant': 0.998857, 'acc_word': 0.996869, 'loss_grapheme': 0.012257, 'loss_vowel': 0.005825, 'loss_consonant': 0.004408, 'loss_word': 0.012675}\n",
      "   36 | 0.000032 | 160000/160596 | 9.7269 | 7.9384 ||\n",
      "val: {'recall': 0.997344, 'recall_grapheme': 0.996712, 'recall_vowel': 0.998188, 'recall_consonant': 0.997762, 'recall_word': 0.995502, 'acc_grapheme': 0.996099, 'acc_vowel': 0.998484, 'acc_consonant': 0.998335, 'acc_word': 0.995627, 'loss_grapheme': 0.108081, 'loss_vowel': 0.069022, 'loss_consonant': 0.052973, 'loss_word': 0.066205}\n",
      "   37 | 0.000030 | 160000/160596 | 19.8758 | 7.4672 |\n",
      "val: {'recall': 0.997609, 'recall_grapheme': 0.996935, 'recall_vowel': 0.998427, 'recall_consonant': 0.998139, 'recall_word': 0.996685, 'acc_grapheme': 0.996894, 'acc_vowel': 0.998683, 'acc_consonant': 0.998733, 'acc_word': 0.996745, 'loss_grapheme': 0.026142, 'loss_vowel': 0.017485, 'loss_consonant': 0.014907, 'loss_word': 0.019133}\n",
      "   38 | 0.000027 | 160000/160596 | 6.5631 | 7.8424 ||"
     ]
    },
    {
     "name": "stderr",
     "output_type": "stream",
     "text": [
      "\r",
      "  0%|          | 0/250 [00:00<?, ?it/s]"
     ]
    },
    {
     "name": "stdout",
     "output_type": "stream",
     "text": [
      "\n",
      "val: {'recall': 0.997044, 'recall_grapheme': 0.996615, 'recall_vowel': 0.9976, 'recall_consonant': 0.997348, 'recall_word': 0.995014, 'acc_grapheme': 0.995925, 'acc_vowel': 0.998211, 'acc_consonant': 0.99831, 'acc_word': 0.99513, 'loss_grapheme': 0.084763, 'loss_vowel': 0.053683, 'loss_consonant': 0.045044, 'loss_word': 0.052284}\n",
      "SWA>>>:\n"
     ]
    },
    {
     "name": "stderr",
     "output_type": "stream",
     "text": [
      "100%|██████████| 250/250 [01:26<00:00,  2.81it/s]\n"
     ]
    },
    {
     "name": "stdout",
     "output_type": "stream",
     "text": [
      "\n",
      "val: {'recall': 0.998146, 'recall_grapheme': 0.997851, 'recall_vowel': 0.998785, 'recall_consonant': 0.998095, 'recall_word': 0.996844, 'acc_grapheme': 0.997242, 'acc_vowel': 0.998857, 'acc_consonant': 0.998857, 'acc_word': 0.996944, 'loss_grapheme': 0.012179, 'loss_vowel': 0.005804, 'loss_consonant': 0.004382, 'loss_word': 0.01263}\n",
      "   39 | 0.000025 | 160000/160596 | 1.6517 | 7.9898 ||\n",
      "val: {'recall': 0.9977, 'recall_grapheme': 0.997129, 'recall_vowel': 0.998408, 'recall_consonant': 0.998135, 'recall_word': 0.996516, 'acc_grapheme': 0.996944, 'acc_vowel': 0.998708, 'acc_consonant': 0.998708, 'acc_word': 0.996596, 'loss_grapheme': 0.025871, 'loss_vowel': 0.017258, 'loss_consonant': 0.014344, 'loss_word': 0.018575}\n",
      "   40 | 0.000023 | 160000/160596 | 1.4455 | 7.8234 |||\n",
      "val: {'recall': 0.99748, 'recall_grapheme': 0.996838, 'recall_vowel': 0.998341, 'recall_consonant': 0.997902, 'recall_word': 0.995888, 'acc_grapheme': 0.996372, 'acc_vowel': 0.998559, 'acc_consonant': 0.998484, 'acc_word': 0.995999, 'loss_grapheme': 0.055572, 'loss_vowel': 0.039058, 'loss_consonant': 0.030671, 'loss_word': 0.032936}\n",
      "   41 | 0.000021 | 160000/160596 | 6.1355 | 8.1202 |||"
     ]
    },
    {
     "name": "stderr",
     "output_type": "stream",
     "text": [
      "\r",
      "  0%|          | 0/250 [00:00<?, ?it/s]"
     ]
    },
    {
     "name": "stdout",
     "output_type": "stream",
     "text": [
      "\n",
      "val: {'recall': 0.997135, 'recall_grapheme': 0.996706, 'recall_vowel': 0.997892, 'recall_consonant': 0.997239, 'recall_word': 0.995245, 'acc_grapheme': 0.995999, 'acc_vowel': 0.99841, 'acc_consonant': 0.998385, 'acc_word': 0.995403, 'loss_grapheme': 0.079195, 'loss_vowel': 0.047264, 'loss_consonant': 0.038092, 'loss_word': 0.047659}\n",
      "SWA>>>:\n"
     ]
    },
    {
     "name": "stderr",
     "output_type": "stream",
     "text": [
      "100%|██████████| 250/250 [01:26<00:00,  3.00it/s]\n"
     ]
    },
    {
     "name": "stdout",
     "output_type": "stream",
     "text": [
      "\n",
      "val: {'recall': 0.998081, 'recall_grapheme': 0.99771, 'recall_vowel': 0.998773, 'recall_consonant': 0.998131, 'recall_word': 0.996795, 'acc_grapheme': 0.997217, 'acc_vowel': 0.998807, 'acc_consonant': 0.998882, 'acc_word': 0.996894, 'loss_grapheme': 0.012265, 'loss_vowel': 0.005884, 'loss_consonant': 0.004414, 'loss_word': 0.012713}\n",
      "   42 | 0.000019 | 160000/160596 | 5.5698 | 7.7467 ||\n",
      "val: {'recall': 0.997512, 'recall_grapheme': 0.996919, 'recall_vowel': 0.998726, 'recall_consonant': 0.997486, 'recall_word': 0.9964, 'acc_grapheme': 0.99672, 'acc_vowel': 0.998733, 'acc_consonant': 0.998658, 'acc_word': 0.996496, 'loss_grapheme': 0.019642, 'loss_vowel': 0.011612, 'loss_consonant': 0.009817, 'loss_word': 0.016571}\n",
      "   43 | 0.000017 | 160000/160596 | 5.3030 | 7.5826 |||\n",
      "val: {'recall': 0.99738, 'recall_grapheme': 0.996917, 'recall_vowel': 0.998398, 'recall_consonant': 0.997287, 'recall_word': 0.99568, 'acc_grapheme': 0.996322, 'acc_vowel': 0.998608, 'acc_consonant': 0.99836, 'acc_word': 0.99585, 'loss_grapheme': 0.051163, 'loss_vowel': 0.03323, 'loss_consonant': 0.026795, 'loss_word': 0.032031}\n",
      "   44 | 0.000015 | 160000/160596 | 17.4598 | 7.3719 |"
     ]
    },
    {
     "name": "stderr",
     "output_type": "stream",
     "text": [
      "\r",
      "  0%|          | 0/250 [00:00<?, ?it/s]"
     ]
    },
    {
     "name": "stdout",
     "output_type": "stream",
     "text": [
      "\n",
      "val: {'recall': 0.997423, 'recall_grapheme': 0.996795, 'recall_vowel': 0.998232, 'recall_consonant': 0.997872, 'recall_word': 0.99611, 'acc_grapheme': 0.996621, 'acc_vowel': 0.998683, 'acc_consonant': 0.998484, 'acc_word': 0.996223, 'loss_grapheme': 0.044621, 'loss_vowel': 0.029904, 'loss_consonant': 0.023787, 'loss_word': 0.02768}\n",
      "SWA>>>:\n"
     ]
    },
    {
     "name": "stderr",
     "output_type": "stream",
     "text": [
      " 16%|█▌        | 40/250 [00:18<01:08,  3.07it/s]"
     ]
    },
    {
     "name": "stdout",
     "output_type": "stream",
     "text": [
      "   45 | 0.000013 | 160000/160596 | 1.7654 | 7.3973 |||\n",
      "val: {'recall': 0.997536, 'recall_grapheme': 0.996919, 'recall_vowel': 0.998456, 'recall_consonant': 0.997851, 'recall_word': 0.996223, 'acc_grapheme': 0.996546, 'acc_vowel': 0.998584, 'acc_consonant': 0.998534, 'acc_word': 0.996298, 'loss_grapheme': 0.034822, 'loss_vowel': 0.022729, 'loss_consonant': 0.019026, 'loss_word': 0.02455}\n",
      "   46 | 0.000011 | 160000/160596 | 1.4586 | 7.3581 |||\n",
      "val: {'recall': 0.997582, 'recall_grapheme': 0.996893, 'recall_vowel': 0.998546, 'recall_consonant': 0.997994, 'recall_word': 0.996349, 'acc_grapheme': 0.996695, 'acc_vowel': 0.998683, 'acc_consonant': 0.998683, 'acc_word': 0.996447, 'loss_grapheme': 0.02616, 'loss_vowel': 0.016754, 'loss_consonant': 0.013805, 'loss_word': 0.01982}\n",
      "   47 | 0.000010 | 160000/160596 | 0.7537 | 7.6951 ||"
     ]
    },
    {
     "name": "stderr",
     "output_type": "stream",
     "text": [
      "\r",
      "  0%|          | 0/250 [00:00<?, ?it/s]"
     ]
    },
    {
     "name": "stdout",
     "output_type": "stream",
     "text": [
      "\n",
      "val: {'recall': 0.997658, 'recall_grapheme': 0.997244, 'recall_vowel': 0.998251, 'recall_consonant': 0.997895, 'recall_word': 0.996464, 'acc_grapheme': 0.996819, 'acc_vowel': 0.998633, 'acc_consonant': 0.998584, 'acc_word': 0.996546, 'loss_grapheme': 0.025714, 'loss_vowel': 0.015939, 'loss_consonant': 0.012988, 'loss_word': 0.01949}\n",
      "SWA>>>:\n"
     ]
    },
    {
     "name": "stderr",
     "output_type": "stream",
     "text": [
      "100%|██████████| 250/250 [01:26<00:00,  3.02it/s]\n"
     ]
    },
    {
     "name": "stdout",
     "output_type": "stream",
     "text": [
      "\n",
      "val: {'recall': 0.998052, 'recall_grapheme': 0.997616, 'recall_vowel': 0.998782, 'recall_consonant': 0.998194, 'recall_word': 0.996843, 'acc_grapheme': 0.997217, 'acc_vowel': 0.998857, 'acc_consonant': 0.998882, 'acc_word': 0.996944, 'loss_grapheme': 0.012171, 'loss_vowel': 0.005801, 'loss_consonant': 0.004441, 'loss_word': 0.012631}\n",
      "   48 | 0.000008 | 160000/160596 | 7.5418 | 7.1368 ||\n",
      "val: {'recall': 0.997506, 'recall_grapheme': 0.996926, 'recall_vowel': 0.998307, 'recall_consonant': 0.997866, 'recall_word': 0.99589, 'acc_grapheme': 0.996472, 'acc_vowel': 0.998559, 'acc_consonant': 0.998459, 'acc_word': 0.996024, 'loss_grapheme': 0.041326, 'loss_vowel': 0.029517, 'loss_consonant': 0.024662, 'loss_word': 0.027151}\n",
      "   49 | 0.000007 | 160000/160596 | 16.8765 | 7.5407 |\n",
      "val: {'recall': 0.997533, 'recall_grapheme': 0.996869, 'recall_vowel': 0.998316, 'recall_consonant': 0.998078, 'recall_word': 0.996498, 'acc_grapheme': 0.996993, 'acc_vowel': 0.998658, 'acc_consonant': 0.998733, 'acc_word': 0.996571, 'loss_grapheme': 0.02829, 'loss_vowel': 0.018066, 'loss_consonant': 0.015268, 'loss_word': 0.019731}\n",
      "   50 | 0.000005 | 160000/160596 | 20.0866 | 7.4378 ||"
     ]
    },
    {
     "name": "stderr",
     "output_type": "stream",
     "text": [
      "\r",
      "  0%|          | 0/250 [00:00<?, ?it/s]"
     ]
    },
    {
     "name": "stdout",
     "output_type": "stream",
     "text": [
      "\n",
      "val: {'recall': 0.997642, 'recall_grapheme': 0.996907, 'recall_vowel': 0.998551, 'recall_consonant': 0.998205, 'recall_word': 0.996469, 'acc_grapheme': 0.996919, 'acc_vowel': 0.998758, 'acc_consonant': 0.998807, 'acc_word': 0.996571, 'loss_grapheme': 0.023952, 'loss_vowel': 0.015857, 'loss_consonant': 0.013676, 'loss_word': 0.017972}\n",
      "SWA>>>:\n"
     ]
    },
    {
     "name": "stderr",
     "output_type": "stream",
     "text": [
      "100%|██████████| 250/250 [01:26<00:00,  2.95it/s]\n"
     ]
    },
    {
     "name": "stdout",
     "output_type": "stream",
     "text": [
      "\n",
      "val: {'recall': 0.99801, 'recall_grapheme': 0.997537, 'recall_vowel': 0.998771, 'recall_consonant': 0.998194, 'recall_word': 0.996818, 'acc_grapheme': 0.997267, 'acc_vowel': 0.998832, 'acc_consonant': 0.998882, 'acc_word': 0.996919, 'loss_grapheme': 0.012214, 'loss_vowel': 0.005867, 'loss_consonant': 0.004432, 'loss_word': 0.012717}\n",
      "   51 | 0.000004 | 160000/160596 | 14.2524 | 7.4877 |\n",
      "val: {'recall': 0.997338, 'recall_grapheme': 0.996994, 'recall_vowel': 0.998511, 'recall_consonant': 0.996856, 'recall_word': 0.996577, 'acc_grapheme': 0.997043, 'acc_vowel': 0.998758, 'acc_consonant': 0.998708, 'acc_word': 0.996645, 'loss_grapheme': 0.027478, 'loss_vowel': 0.019121, 'loss_consonant': 0.015834, 'loss_word': 0.019801}\n",
      "   52 | 0.000003 | 160000/160596 | 8.8183 | 7.8405 |||\n",
      "val: {'recall': 0.99738, 'recall_grapheme': 0.996954, 'recall_vowel': 0.998193, 'recall_consonant': 0.997419, 'recall_word': 0.996051, 'acc_grapheme': 0.996397, 'acc_vowel': 0.998484, 'acc_consonant': 0.998509, 'acc_word': 0.996148, 'loss_grapheme': 0.039218, 'loss_vowel': 0.025011, 'loss_consonant': 0.021812, 'loss_word': 0.026337}\n",
      "   53 | 0.000002 | 160000/160596 | 9.1245 | 7.2450 ||"
     ]
    },
    {
     "name": "stderr",
     "output_type": "stream",
     "text": [
      "\r",
      "  0%|          | 0/250 [00:00<?, ?it/s]"
     ]
    },
    {
     "name": "stdout",
     "output_type": "stream",
     "text": [
      "\n",
      "val: {'recall': 0.99745, 'recall_grapheme': 0.996762, 'recall_vowel': 0.998368, 'recall_consonant': 0.997908, 'recall_word': 0.995926, 'acc_grapheme': 0.996521, 'acc_vowel': 0.998584, 'acc_consonant': 0.998534, 'acc_word': 0.996049, 'loss_grapheme': 0.043414, 'loss_vowel': 0.029019, 'loss_consonant': 0.024335, 'loss_word': 0.027514}\n",
      "SWA>>>:\n"
     ]
    },
    {
     "name": "stderr",
     "output_type": "stream",
     "text": [
      " 95%|█████████▍| 237/250 [01:22<00:04,  3.11it/s]IOPub message rate exceeded.\n",
      "The notebook server will temporarily stop sending output\n",
      "to the client in order to avoid crashing it.\n",
      "To change this limit, set the config variable\n",
      "`--NotebookApp.iopub_msg_rate_limit`.\n",
      "\n",
      "Current values:\n",
      "NotebookApp.iopub_msg_rate_limit=1000.0 (msgs/sec)\n",
      "NotebookApp.rate_limit_window=3.0 (secs)\n",
      "\n"
     ]
    },
    {
     "name": "stdout",
     "output_type": "stream",
     "text": [
      "    7 | 0.000096 | 160000/160596 | 8.7048 | 7.8077 ||\n",
      "val: {'recall': 0.997412, 'recall_grapheme': 0.996922, 'recall_vowel': 0.997834, 'recall_consonant': 0.997972, 'recall_word': 0.995752, 'acc_grapheme': 0.996322, 'acc_vowel': 0.99841, 'acc_consonant': 0.998435, 'acc_word': 0.99585, 'loss_grapheme': 0.057744, 'loss_vowel': 0.035491, 'loss_consonant': 0.028932, 'loss_word': 0.038661}\n",
      "    8 | 0.000095 | 160000/160596 | 16.4653 | 7.0821 |\n",
      "val: {'recall': 0.997278, 'recall_grapheme': 0.996564, 'recall_vowel': 0.998066, 'recall_consonant': 0.997918, 'recall_word': 0.99599, 'acc_grapheme': 0.996198, 'acc_vowel': 0.998435, 'acc_consonant': 0.998484, 'acc_word': 0.996099, 'loss_grapheme': 0.061909, 'loss_vowel': 0.041544, 'loss_consonant': 0.029071, 'loss_word': 0.042015}\n",
      "    9 | 0.000093 | 160000/160596 | 1.5267 | 7.0195 |||\n",
      "val: {'recall': 0.99703, 'recall_grapheme': 0.996061, 'recall_vowel': 0.998138, 'recall_consonant': 0.997861, 'recall_word': 0.995184, 'acc_grapheme': 0.996049, 'acc_vowel': 0.99831, 'acc_consonant': 0.998136, 'acc_word': 0.995328, 'loss_grapheme': 0.025748, 'loss_vowel': 0.014024, 'loss_consonant': 0.0136, 'loss_word': 0.022598}\n",
      "   10 | 0.000092 | 160000/160596 | 16.8977 | 7.9854 ||\n",
      "val: {'recall': 0.99719, 'recall_grapheme': 0.996291, 'recall_vowel': 0.998087, 'recall_consonant': 0.998092, 'recall_word': 0.995854, 'acc_grapheme': 0.996198, 'acc_vowel': 0.998559, 'acc_consonant': 0.998534, 'acc_word': 0.996049, 'loss_grapheme': 0.061699, 'loss_vowel': 0.045383, 'loss_consonant': 0.034918, 'loss_word': 0.036307}\n",
      "   11 | 0.000092 | 046080/160596 | 6.7667 | 7.7511 |||"
     ]
    },
    {
     "ename": "KeyboardInterrupt",
     "evalue": "",
     "output_type": "error",
     "traceback": [
      "\u001b[0;31m---------------------------------------------------------------------------\u001b[0m",
      "\u001b[0;31mKeyboardInterrupt\u001b[0m                         Traceback (most recent call last)",
      "\u001b[0;32m<ipython-input-37-aad596905035>\u001b[0m in \u001b[0;36m<module>\u001b[0;34m\u001b[0m\n\u001b[0;32m----> 1\u001b[0;31m \u001b[0mtrain\u001b[0m\u001b[0;34m(\u001b[0m\u001b[0margs\u001b[0m\u001b[0;34m)\u001b[0m\u001b[0;34m\u001b[0m\u001b[0;34m\u001b[0m\u001b[0m\n\u001b[0m",
      "\u001b[0;32m<ipython-input-34-f06a7b6a88b3>\u001b[0m in \u001b[0;36mtrain\u001b[0;34m(args)\u001b[0m\n\u001b[1;32m     63\u001b[0m         \u001b[0;32mfor\u001b[0m \u001b[0mepoch\u001b[0m \u001b[0;32min\u001b[0m \u001b[0mrange\u001b[0m\u001b[0;34m(\u001b[0m\u001b[0margs\u001b[0m\u001b[0;34m.\u001b[0m\u001b[0mstart_epoch\u001b[0m\u001b[0;34m,\u001b[0m \u001b[0margs\u001b[0m\u001b[0;34m.\u001b[0m\u001b[0mnum_epochs\u001b[0m\u001b[0;34m)\u001b[0m\u001b[0;34m:\u001b[0m\u001b[0;34m\u001b[0m\u001b[0;34m\u001b[0m\u001b[0m\n\u001b[1;32m     64\u001b[0m             \u001b[0mgrid\u001b[0m\u001b[0;34m.\u001b[0m\u001b[0mset_prob\u001b[0m\u001b[0;34m(\u001b[0m\u001b[0mepoch\u001b[0m\u001b[0;34m,\u001b[0m \u001b[0margs\u001b[0m\u001b[0;34m.\u001b[0m\u001b[0mst_epochs\u001b[0m\u001b[0;34m)\u001b[0m\u001b[0;34m\u001b[0m\u001b[0;34m\u001b[0m\u001b[0m\n\u001b[0;32m---> 65\u001b[0;31m             \u001b[0mtrain_epoch\u001b[0m\u001b[0;34m(\u001b[0m\u001b[0margs\u001b[0m\u001b[0;34m,\u001b[0m \u001b[0mmodel\u001b[0m\u001b[0;34m,\u001b[0m \u001b[0mtrain_loader\u001b[0m\u001b[0;34m,\u001b[0m \u001b[0mepoch\u001b[0m\u001b[0;34m,\u001b[0m \u001b[0moptimizer\u001b[0m\u001b[0;34m,\u001b[0m \u001b[0mlr_scheduler\u001b[0m\u001b[0;34m,\u001b[0m \u001b[0mgrid\u001b[0m\u001b[0;34m)\u001b[0m\u001b[0;34m\u001b[0m\u001b[0;34m\u001b[0m\u001b[0m\n\u001b[0m\u001b[1;32m     66\u001b[0m             \u001b[0mvalidate_and_save\u001b[0m\u001b[0;34m(\u001b[0m\u001b[0mmodel\u001b[0m\u001b[0;34m,\u001b[0m \u001b[0mmodel_file\u001b[0m\u001b[0;34m,\u001b[0m \u001b[0mval_loader\u001b[0m\u001b[0;34m,\u001b[0m \u001b[0msave\u001b[0m\u001b[0;34m=\u001b[0m\u001b[0;32mTrue\u001b[0m\u001b[0;34m)\u001b[0m\u001b[0;34m\u001b[0m\u001b[0;34m\u001b[0m\u001b[0m\n\u001b[1;32m     67\u001b[0m \u001b[0;34m\u001b[0m\u001b[0m\n",
      "\u001b[0;32m<ipython-input-33-433613421c48>\u001b[0m in \u001b[0;36mtrain_epoch\u001b[0;34m(args, model, train_loader, epoch, optimizer, lr_scheduler, grid)\u001b[0m\n\u001b[1;32m     20\u001b[0m             \u001b[0mlam\u001b[0m \u001b[0;34m=\u001b[0m \u001b[0;36m1\u001b[0m \u001b[0;34m-\u001b[0m \u001b[0;34m(\u001b[0m\u001b[0;34m(\u001b[0m\u001b[0mbbx2\u001b[0m \u001b[0;34m-\u001b[0m \u001b[0mbbx1\u001b[0m\u001b[0;34m)\u001b[0m \u001b[0;34m*\u001b[0m \u001b[0;34m(\u001b[0m\u001b[0mbby2\u001b[0m \u001b[0;34m-\u001b[0m \u001b[0mbby1\u001b[0m\u001b[0;34m)\u001b[0m \u001b[0;34m/\u001b[0m \u001b[0;34m(\u001b[0m\u001b[0mimg\u001b[0m\u001b[0;34m.\u001b[0m\u001b[0msize\u001b[0m\u001b[0;34m(\u001b[0m\u001b[0;34m)\u001b[0m\u001b[0;34m[\u001b[0m\u001b[0;34m-\u001b[0m\u001b[0;36m1\u001b[0m\u001b[0;34m]\u001b[0m \u001b[0;34m*\u001b[0m \u001b[0mimg\u001b[0m\u001b[0;34m.\u001b[0m\u001b[0msize\u001b[0m\u001b[0;34m(\u001b[0m\u001b[0;34m)\u001b[0m\u001b[0;34m[\u001b[0m\u001b[0;34m-\u001b[0m\u001b[0;36m2\u001b[0m\u001b[0;34m]\u001b[0m\u001b[0;34m)\u001b[0m\u001b[0;34m)\u001b[0m\u001b[0;34m\u001b[0m\u001b[0;34m\u001b[0m\u001b[0m\n\u001b[1;32m     21\u001b[0m             \u001b[0;31m# compute output\u001b[0m\u001b[0;34m\u001b[0m\u001b[0;34m\u001b[0m\u001b[0;34m\u001b[0m\u001b[0m\n\u001b[0;32m---> 22\u001b[0;31m             \u001b[0moutputs\u001b[0m\u001b[0;34m,\u001b[0m \u001b[0moutputs_aux1\u001b[0m\u001b[0;34m,\u001b[0m \u001b[0moutputs_aux2\u001b[0m \u001b[0;34m=\u001b[0m \u001b[0mmodel\u001b[0m\u001b[0;34m(\u001b[0m\u001b[0mimg\u001b[0m\u001b[0;34m)\u001b[0m\u001b[0;34m\u001b[0m\u001b[0;34m\u001b[0m\u001b[0m\n\u001b[0m\u001b[1;32m     23\u001b[0m             \u001b[0mloss_primary\u001b[0m \u001b[0;34m=\u001b[0m \u001b[0mcriterion\u001b[0m\u001b[0;34m(\u001b[0m\u001b[0moutputs\u001b[0m\u001b[0;34m,\u001b[0m \u001b[0mtarget_a\u001b[0m\u001b[0;34m)\u001b[0m \u001b[0;34m*\u001b[0m \u001b[0mlam\u001b[0m \u001b[0;34m+\u001b[0m \u001b[0mcriterion\u001b[0m\u001b[0;34m(\u001b[0m\u001b[0moutputs\u001b[0m\u001b[0;34m,\u001b[0m \u001b[0mtarget_b\u001b[0m\u001b[0;34m)\u001b[0m \u001b[0;34m*\u001b[0m \u001b[0;34m(\u001b[0m\u001b[0;36m1.\u001b[0m \u001b[0;34m-\u001b[0m \u001b[0mlam\u001b[0m\u001b[0;34m)\u001b[0m\u001b[0;34m\u001b[0m\u001b[0;34m\u001b[0m\u001b[0m\n\u001b[1;32m     24\u001b[0m             \u001b[0mloss_aux1\u001b[0m \u001b[0;34m=\u001b[0m \u001b[0mcriterion\u001b[0m\u001b[0;34m(\u001b[0m\u001b[0moutputs_aux1\u001b[0m\u001b[0;34m,\u001b[0m \u001b[0mtarget_a\u001b[0m\u001b[0;34m)\u001b[0m \u001b[0;34m*\u001b[0m \u001b[0mlam\u001b[0m \u001b[0;34m+\u001b[0m \u001b[0mcriterion\u001b[0m\u001b[0;34m(\u001b[0m\u001b[0moutputs_aux1\u001b[0m\u001b[0;34m,\u001b[0m \u001b[0mtarget_b\u001b[0m\u001b[0;34m)\u001b[0m \u001b[0;34m*\u001b[0m \u001b[0;34m(\u001b[0m\u001b[0;36m1.\u001b[0m \u001b[0;34m-\u001b[0m \u001b[0mlam\u001b[0m\u001b[0;34m)\u001b[0m\u001b[0;34m\u001b[0m\u001b[0;34m\u001b[0m\u001b[0m\n",
      "\u001b[0;32m~/anaconda3/lib/python3.7/site-packages/torch/nn/modules/module.py\u001b[0m in \u001b[0;36m__call__\u001b[0;34m(self, *input, **kwargs)\u001b[0m\n\u001b[1;32m    545\u001b[0m             \u001b[0mresult\u001b[0m \u001b[0;34m=\u001b[0m \u001b[0mself\u001b[0m\u001b[0;34m.\u001b[0m\u001b[0m_slow_forward\u001b[0m\u001b[0;34m(\u001b[0m\u001b[0;34m*\u001b[0m\u001b[0minput\u001b[0m\u001b[0;34m,\u001b[0m \u001b[0;34m**\u001b[0m\u001b[0mkwargs\u001b[0m\u001b[0;34m)\u001b[0m\u001b[0;34m\u001b[0m\u001b[0;34m\u001b[0m\u001b[0m\n\u001b[1;32m    546\u001b[0m         \u001b[0;32melse\u001b[0m\u001b[0;34m:\u001b[0m\u001b[0;34m\u001b[0m\u001b[0;34m\u001b[0m\u001b[0m\n\u001b[0;32m--> 547\u001b[0;31m             \u001b[0mresult\u001b[0m \u001b[0;34m=\u001b[0m \u001b[0mself\u001b[0m\u001b[0;34m.\u001b[0m\u001b[0mforward\u001b[0m\u001b[0;34m(\u001b[0m\u001b[0;34m*\u001b[0m\u001b[0minput\u001b[0m\u001b[0;34m,\u001b[0m \u001b[0;34m**\u001b[0m\u001b[0mkwargs\u001b[0m\u001b[0;34m)\u001b[0m\u001b[0;34m\u001b[0m\u001b[0;34m\u001b[0m\u001b[0m\n\u001b[0m\u001b[1;32m    548\u001b[0m         \u001b[0;32mfor\u001b[0m \u001b[0mhook\u001b[0m \u001b[0;32min\u001b[0m \u001b[0mself\u001b[0m\u001b[0;34m.\u001b[0m\u001b[0m_forward_hooks\u001b[0m\u001b[0;34m.\u001b[0m\u001b[0mvalues\u001b[0m\u001b[0;34m(\u001b[0m\u001b[0;34m)\u001b[0m\u001b[0;34m:\u001b[0m\u001b[0;34m\u001b[0m\u001b[0;34m\u001b[0m\u001b[0m\n\u001b[1;32m    549\u001b[0m             \u001b[0mhook_result\u001b[0m \u001b[0;34m=\u001b[0m \u001b[0mhook\u001b[0m\u001b[0;34m(\u001b[0m\u001b[0mself\u001b[0m\u001b[0;34m,\u001b[0m \u001b[0minput\u001b[0m\u001b[0;34m,\u001b[0m \u001b[0mresult\u001b[0m\u001b[0;34m)\u001b[0m\u001b[0;34m\u001b[0m\u001b[0;34m\u001b[0m\u001b[0m\n",
      "\u001b[0;32m~/anaconda3/lib/python3.7/site-packages/torch/nn/parallel/data_parallel.py\u001b[0m in \u001b[0;36mforward\u001b[0;34m(self, *inputs, **kwargs)\u001b[0m\n\u001b[1;32m    149\u001b[0m         \u001b[0;32mif\u001b[0m \u001b[0mlen\u001b[0m\u001b[0;34m(\u001b[0m\u001b[0mself\u001b[0m\u001b[0;34m.\u001b[0m\u001b[0mdevice_ids\u001b[0m\u001b[0;34m)\u001b[0m \u001b[0;34m==\u001b[0m \u001b[0;36m1\u001b[0m\u001b[0;34m:\u001b[0m\u001b[0;34m\u001b[0m\u001b[0;34m\u001b[0m\u001b[0m\n\u001b[1;32m    150\u001b[0m             \u001b[0;32mreturn\u001b[0m \u001b[0mself\u001b[0m\u001b[0;34m.\u001b[0m\u001b[0mmodule\u001b[0m\u001b[0;34m(\u001b[0m\u001b[0;34m*\u001b[0m\u001b[0minputs\u001b[0m\u001b[0;34m[\u001b[0m\u001b[0;36m0\u001b[0m\u001b[0;34m]\u001b[0m\u001b[0;34m,\u001b[0m \u001b[0;34m**\u001b[0m\u001b[0mkwargs\u001b[0m\u001b[0;34m[\u001b[0m\u001b[0;36m0\u001b[0m\u001b[0;34m]\u001b[0m\u001b[0;34m)\u001b[0m\u001b[0;34m\u001b[0m\u001b[0;34m\u001b[0m\u001b[0m\n\u001b[0;32m--> 151\u001b[0;31m         \u001b[0mreplicas\u001b[0m \u001b[0;34m=\u001b[0m \u001b[0mself\u001b[0m\u001b[0;34m.\u001b[0m\u001b[0mreplicate\u001b[0m\u001b[0;34m(\u001b[0m\u001b[0mself\u001b[0m\u001b[0;34m.\u001b[0m\u001b[0mmodule\u001b[0m\u001b[0;34m,\u001b[0m \u001b[0mself\u001b[0m\u001b[0;34m.\u001b[0m\u001b[0mdevice_ids\u001b[0m\u001b[0;34m[\u001b[0m\u001b[0;34m:\u001b[0m\u001b[0mlen\u001b[0m\u001b[0;34m(\u001b[0m\u001b[0minputs\u001b[0m\u001b[0;34m)\u001b[0m\u001b[0;34m]\u001b[0m\u001b[0;34m)\u001b[0m\u001b[0;34m\u001b[0m\u001b[0;34m\u001b[0m\u001b[0m\n\u001b[0m\u001b[1;32m    152\u001b[0m         \u001b[0moutputs\u001b[0m \u001b[0;34m=\u001b[0m \u001b[0mself\u001b[0m\u001b[0;34m.\u001b[0m\u001b[0mparallel_apply\u001b[0m\u001b[0;34m(\u001b[0m\u001b[0mreplicas\u001b[0m\u001b[0;34m,\u001b[0m \u001b[0minputs\u001b[0m\u001b[0;34m,\u001b[0m \u001b[0mkwargs\u001b[0m\u001b[0;34m)\u001b[0m\u001b[0;34m\u001b[0m\u001b[0;34m\u001b[0m\u001b[0m\n\u001b[1;32m    153\u001b[0m         \u001b[0;32mreturn\u001b[0m \u001b[0mself\u001b[0m\u001b[0;34m.\u001b[0m\u001b[0mgather\u001b[0m\u001b[0;34m(\u001b[0m\u001b[0moutputs\u001b[0m\u001b[0;34m,\u001b[0m \u001b[0mself\u001b[0m\u001b[0;34m.\u001b[0m\u001b[0moutput_device\u001b[0m\u001b[0;34m)\u001b[0m\u001b[0;34m\u001b[0m\u001b[0;34m\u001b[0m\u001b[0m\n",
      "\u001b[0;32m~/anaconda3/lib/python3.7/site-packages/torch/nn/parallel/data_parallel.py\u001b[0m in \u001b[0;36mreplicate\u001b[0;34m(self, module, device_ids)\u001b[0m\n\u001b[1;32m    154\u001b[0m \u001b[0;34m\u001b[0m\u001b[0m\n\u001b[1;32m    155\u001b[0m     \u001b[0;32mdef\u001b[0m \u001b[0mreplicate\u001b[0m\u001b[0;34m(\u001b[0m\u001b[0mself\u001b[0m\u001b[0;34m,\u001b[0m \u001b[0mmodule\u001b[0m\u001b[0;34m,\u001b[0m \u001b[0mdevice_ids\u001b[0m\u001b[0;34m)\u001b[0m\u001b[0;34m:\u001b[0m\u001b[0;34m\u001b[0m\u001b[0;34m\u001b[0m\u001b[0m\n\u001b[0;32m--> 156\u001b[0;31m         \u001b[0;32mreturn\u001b[0m \u001b[0mreplicate\u001b[0m\u001b[0;34m(\u001b[0m\u001b[0mmodule\u001b[0m\u001b[0;34m,\u001b[0m \u001b[0mdevice_ids\u001b[0m\u001b[0;34m,\u001b[0m \u001b[0;32mnot\u001b[0m \u001b[0mtorch\u001b[0m\u001b[0;34m.\u001b[0m\u001b[0mis_grad_enabled\u001b[0m\u001b[0;34m(\u001b[0m\u001b[0;34m)\u001b[0m\u001b[0;34m)\u001b[0m\u001b[0;34m\u001b[0m\u001b[0;34m\u001b[0m\u001b[0m\n\u001b[0m\u001b[1;32m    157\u001b[0m \u001b[0;34m\u001b[0m\u001b[0m\n\u001b[1;32m    158\u001b[0m     \u001b[0;32mdef\u001b[0m \u001b[0mscatter\u001b[0m\u001b[0;34m(\u001b[0m\u001b[0mself\u001b[0m\u001b[0;34m,\u001b[0m \u001b[0minputs\u001b[0m\u001b[0;34m,\u001b[0m \u001b[0mkwargs\u001b[0m\u001b[0;34m,\u001b[0m \u001b[0mdevice_ids\u001b[0m\u001b[0;34m)\u001b[0m\u001b[0;34m:\u001b[0m\u001b[0;34m\u001b[0m\u001b[0;34m\u001b[0m\u001b[0m\n",
      "\u001b[0;32m~/anaconda3/lib/python3.7/site-packages/torch/nn/parallel/replicate.py\u001b[0m in \u001b[0;36mreplicate\u001b[0;34m(network, devices, detach)\u001b[0m\n\u001b[1;32m    109\u001b[0m \u001b[0;34m\u001b[0m\u001b[0m\n\u001b[1;32m    110\u001b[0m     \u001b[0mbuffer_copies_rg\u001b[0m \u001b[0;34m=\u001b[0m \u001b[0m_broadcast_coalesced_reshape\u001b[0m\u001b[0;34m(\u001b[0m\u001b[0mbuffers_rg\u001b[0m\u001b[0;34m,\u001b[0m \u001b[0mdevices\u001b[0m\u001b[0;34m,\u001b[0m \u001b[0mdetach\u001b[0m\u001b[0;34m=\u001b[0m\u001b[0mdetach\u001b[0m\u001b[0;34m)\u001b[0m\u001b[0;34m\u001b[0m\u001b[0;34m\u001b[0m\u001b[0m\n\u001b[0;32m--> 111\u001b[0;31m     \u001b[0mbuffer_copies_not_rg\u001b[0m \u001b[0;34m=\u001b[0m \u001b[0m_broadcast_coalesced_reshape\u001b[0m\u001b[0;34m(\u001b[0m\u001b[0mbuffers_not_rg\u001b[0m\u001b[0;34m,\u001b[0m \u001b[0mdevices\u001b[0m\u001b[0;34m,\u001b[0m \u001b[0mdetach\u001b[0m\u001b[0;34m=\u001b[0m\u001b[0;32mTrue\u001b[0m\u001b[0;34m)\u001b[0m\u001b[0;34m\u001b[0m\u001b[0;34m\u001b[0m\u001b[0m\n\u001b[0m\u001b[1;32m    112\u001b[0m \u001b[0;34m\u001b[0m\u001b[0m\n\u001b[1;32m    113\u001b[0m     \u001b[0mmodules\u001b[0m \u001b[0;34m=\u001b[0m \u001b[0mlist\u001b[0m\u001b[0;34m(\u001b[0m\u001b[0mnetwork\u001b[0m\u001b[0;34m.\u001b[0m\u001b[0mmodules\u001b[0m\u001b[0;34m(\u001b[0m\u001b[0;34m)\u001b[0m\u001b[0;34m)\u001b[0m\u001b[0;34m\u001b[0m\u001b[0;34m\u001b[0m\u001b[0m\n",
      "\u001b[0;32m~/anaconda3/lib/python3.7/site-packages/torch/nn/parallel/replicate.py\u001b[0m in \u001b[0;36m_broadcast_coalesced_reshape\u001b[0;34m(tensors, devices, detach)\u001b[0m\n\u001b[1;32m     73\u001b[0m     \u001b[0;32mfrom\u001b[0m \u001b[0;34m.\u001b[0m\u001b[0m_functions\u001b[0m \u001b[0;32mimport\u001b[0m \u001b[0mBroadcast\u001b[0m\u001b[0;34m\u001b[0m\u001b[0;34m\u001b[0m\u001b[0m\n\u001b[1;32m     74\u001b[0m     \u001b[0;32mif\u001b[0m \u001b[0mdetach\u001b[0m\u001b[0;34m:\u001b[0m\u001b[0;34m\u001b[0m\u001b[0;34m\u001b[0m\u001b[0m\n\u001b[0;32m---> 75\u001b[0;31m         \u001b[0;32mreturn\u001b[0m \u001b[0mcomm\u001b[0m\u001b[0;34m.\u001b[0m\u001b[0mbroadcast_coalesced\u001b[0m\u001b[0;34m(\u001b[0m\u001b[0mtensors\u001b[0m\u001b[0;34m,\u001b[0m \u001b[0mdevices\u001b[0m\u001b[0;34m)\u001b[0m\u001b[0;34m\u001b[0m\u001b[0;34m\u001b[0m\u001b[0m\n\u001b[0m\u001b[1;32m     76\u001b[0m     \u001b[0;32melse\u001b[0m\u001b[0;34m:\u001b[0m\u001b[0;34m\u001b[0m\u001b[0;34m\u001b[0m\u001b[0m\n\u001b[1;32m     77\u001b[0m         \u001b[0;31m# Use the autograd function to broadcast if not detach\u001b[0m\u001b[0;34m\u001b[0m\u001b[0;34m\u001b[0m\u001b[0;34m\u001b[0m\u001b[0m\n",
      "\u001b[0;32m~/anaconda3/lib/python3.7/site-packages/torch/cuda/comm.py\u001b[0m in \u001b[0;36mbroadcast_coalesced\u001b[0;34m(tensors, devices, buffer_size)\u001b[0m\n\u001b[1;32m     37\u001b[0m         \u001b[0mcorresponding\u001b[0m \u001b[0mto\u001b[0m \u001b[0mindices\u001b[0m \u001b[0;32mfrom\u001b[0m\u001b[0;31m \u001b[0m\u001b[0;31m`\u001b[0m\u001b[0;31m`\u001b[0m\u001b[0mdevices\u001b[0m\u001b[0;31m`\u001b[0m\u001b[0;31m`\u001b[0m\u001b[0;34m.\u001b[0m\u001b[0;34m\u001b[0m\u001b[0;34m\u001b[0m\u001b[0m\n\u001b[1;32m     38\u001b[0m     \"\"\"\n\u001b[0;32m---> 39\u001b[0;31m     \u001b[0;32mreturn\u001b[0m \u001b[0mtorch\u001b[0m\u001b[0;34m.\u001b[0m\u001b[0m_C\u001b[0m\u001b[0;34m.\u001b[0m\u001b[0m_broadcast_coalesced\u001b[0m\u001b[0;34m(\u001b[0m\u001b[0mtensors\u001b[0m\u001b[0;34m,\u001b[0m \u001b[0mdevices\u001b[0m\u001b[0;34m,\u001b[0m \u001b[0mbuffer_size\u001b[0m\u001b[0;34m)\u001b[0m\u001b[0;34m\u001b[0m\u001b[0;34m\u001b[0m\u001b[0m\n\u001b[0m\u001b[1;32m     40\u001b[0m \u001b[0;34m\u001b[0m\u001b[0m\n\u001b[1;32m     41\u001b[0m \u001b[0;34m\u001b[0m\u001b[0m\n",
      "\u001b[0;31mKeyboardInterrupt\u001b[0m: "
     ]
    }
   ],
   "source": [
    "train(args)"
   ]
  },
  {
   "cell_type": "code",
   "execution_count": null,
   "metadata": {},
   "outputs": [],
   "source": []
  },
  {
   "cell_type": "code",
   "execution_count": 37,
   "metadata": {},
   "outputs": [],
   "source": [
    "#for param in model.backbone.parameters():\n",
    "#    param.requires_grad = False"
   ]
  },
  {
   "cell_type": "code",
   "execution_count": 38,
   "metadata": {},
   "outputs": [],
   "source": [
    "#validate(nn.DataParallel(model), val_loader)"
   ]
  },
  {
   "cell_type": "code",
   "execution_count": 39,
   "metadata": {},
   "outputs": [
    {
     "name": "stdout",
     "output_type": "stream",
     "text": [
      "init model4\n",
      "model file: ./model4-ckps/se_resnext50_32x4d/model4_se_resnext50_fold0_224.pth, exist: True\n",
      "loading ./model4-ckps/se_resnext50_32x4d/model4_se_resnext50_fold0_224.pth...\n",
      "init model4\n",
      "model file: ./model4-ckps/se_resnext50_32x4d/model4_se_resnext50_fold0_224.pth, exist: True\n",
      "loading ./model4-ckps/se_resnext50_32x4d/model4_se_resnext50_fold0_224.pth...\n",
      "\n",
      "val: {'recall': 0.998106, 'recall_grapheme': 0.997877, 'recall_vowel': 0.998523, 'recall_consonant': 0.998147, 'recall_word': 0.997093, 'acc_grapheme': 0.997391, 'acc_vowel': 0.998683, 'acc_consonant': 0.998807, 'acc_word': 0.997217, 'loss_grapheme': 0.01219, 'loss_vowel': 0.005514, 'loss_consonant': 0.004544, 'loss_word': 0.012465}\n",
      "CYCLE: 1\n",
      "   19 | 0.000068 | 160000/160596 | 1.0700 | 8.1689 |||"
     ]
    },
    {
     "name": "stderr",
     "output_type": "stream",
     "text": [
      "\r",
      "  0%|          | 0/250 [00:00<?, ?it/s]"
     ]
    },
    {
     "name": "stdout",
     "output_type": "stream",
     "text": [
      "\n",
      "val: {'recall': 0.997691, 'recall_grapheme': 0.99708, 'recall_vowel': 0.998611, 'recall_consonant': 0.997992, 'recall_word': 0.996728, 'acc_grapheme': 0.996993, 'acc_vowel': 0.998708, 'acc_consonant': 0.998758, 'acc_word': 0.996844, 'loss_grapheme': 0.026619, 'loss_vowel': 0.018161, 'loss_consonant': 0.01498, 'loss_word': 0.018931}\n",
      "SWA>>>:\n"
     ]
    },
    {
     "name": "stderr",
     "output_type": "stream",
     "text": [
      "100%|██████████| 250/250 [01:27<00:00,  2.98it/s]\n"
     ]
    },
    {
     "name": "stdout",
     "output_type": "stream",
     "text": [
      "\n",
      "val: {'recall': 0.99786, 'recall_grapheme': 0.997545, 'recall_vowel': 0.998446, 'recall_consonant': 0.997903, 'recall_word': 0.996715, 'acc_grapheme': 0.997018, 'acc_vowel': 0.998683, 'acc_consonant': 0.998683, 'acc_word': 0.996844, 'loss_grapheme': 0.012877, 'loss_vowel': 0.005653, 'loss_consonant': 0.004641, 'loss_word': 0.013015}\n",
      "   20 | 0.000067 | 160000/160596 | 4.0042 | 7.1472 ||\n",
      "val: {'recall': 0.997762, 'recall_grapheme': 0.997242, 'recall_vowel': 0.998623, 'recall_consonant': 0.997942, 'recall_word': 0.99666, 'acc_grapheme': 0.996944, 'acc_vowel': 0.998658, 'acc_consonant': 0.998608, 'acc_word': 0.996745, 'loss_grapheme': 0.028523, 'loss_vowel': 0.017524, 'loss_consonant': 0.014712, 'loss_word': 0.021564}\n",
      "   21 | 0.000066 | 160000/160596 | 2.2736 | 7.6636 |||"
     ]
    },
    {
     "name": "stderr",
     "output_type": "stream",
     "text": [
      "\r",
      "  0%|          | 0/250 [00:00<?, ?it/s]"
     ]
    },
    {
     "name": "stdout",
     "output_type": "stream",
     "text": [
      "\n",
      "val: {'recall': 0.997602, 'recall_grapheme': 0.996863, 'recall_vowel': 0.998731, 'recall_consonant': 0.997949, 'recall_word': 0.996485, 'acc_grapheme': 0.996745, 'acc_vowel': 0.998832, 'acc_consonant': 0.998658, 'acc_word': 0.996571, 'loss_grapheme': 0.071363, 'loss_vowel': 0.046929, 'loss_consonant': 0.035549, 'loss_word': 0.044541}\n",
      "SWA>>>:\n"
     ]
    },
    {
     "name": "stderr",
     "output_type": "stream",
     "text": [
      "100%|██████████| 250/250 [01:28<00:00,  2.98it/s]\n"
     ]
    },
    {
     "name": "stdout",
     "output_type": "stream",
     "text": [
      "\n",
      "val: {'recall': 0.997968, 'recall_grapheme': 0.997697, 'recall_vowel': 0.998562, 'recall_consonant': 0.997917, 'recall_word': 0.996879, 'acc_grapheme': 0.997242, 'acc_vowel': 0.998758, 'acc_consonant': 0.998758, 'acc_word': 0.996993, 'loss_grapheme': 0.012726, 'loss_vowel': 0.005734, 'loss_consonant': 0.004588, 'loss_word': 0.012872}\n",
      "   22 | 0.000065 | 160000/160596 | 1.3654 | 6.8976 ||\n",
      "val: {'recall': 0.997404, 'recall_grapheme': 0.997035, 'recall_vowel': 0.998001, 'recall_consonant': 0.997547, 'recall_word': 0.996032, 'acc_grapheme': 0.996645, 'acc_vowel': 0.99841, 'acc_consonant': 0.998608, 'acc_word': 0.996148, 'loss_grapheme': 0.035348, 'loss_vowel': 0.024273, 'loss_consonant': 0.018896, 'loss_word': 0.025392}\n",
      "   23 | 0.000064 | 160000/160596 | 19.5791 | 7.3241 ||"
     ]
    },
    {
     "name": "stderr",
     "output_type": "stream",
     "text": [
      "\r",
      "  0%|          | 0/250 [00:00<?, ?it/s]"
     ]
    },
    {
     "name": "stdout",
     "output_type": "stream",
     "text": [
      "\n",
      "val: {'recall': 0.99756, 'recall_grapheme': 0.996909, 'recall_vowel': 0.998511, 'recall_consonant': 0.997911, 'recall_word': 0.996452, 'acc_grapheme': 0.99667, 'acc_vowel': 0.998658, 'acc_consonant': 0.998484, 'acc_word': 0.996546, 'loss_grapheme': 0.072542, 'loss_vowel': 0.045721, 'loss_consonant': 0.034304, 'loss_word': 0.047645}\n",
      "SWA>>>:\n"
     ]
    },
    {
     "name": "stderr",
     "output_type": "stream",
     "text": [
      "100%|██████████| 250/250 [01:27<00:00,  2.79it/s]\n"
     ]
    },
    {
     "name": "stdout",
     "output_type": "stream",
     "text": [
      "\n",
      "val: {'recall': 0.997994, 'recall_grapheme': 0.997695, 'recall_vowel': 0.998522, 'recall_consonant': 0.998063, 'recall_word': 0.996964, 'acc_grapheme': 0.997217, 'acc_vowel': 0.998708, 'acc_consonant': 0.998782, 'acc_word': 0.997043, 'loss_grapheme': 0.012242, 'loss_vowel': 0.005629, 'loss_consonant': 0.004503, 'loss_word': 0.012535}\n",
      "   24 | 0.000062 | 160000/160596 | 1.3527 | 7.2692 ||\n",
      "val: {'recall': 0.997449, 'recall_grapheme': 0.996624, 'recall_vowel': 0.998577, 'recall_consonant': 0.997969, 'recall_word': 0.996069, 'acc_grapheme': 0.996645, 'acc_vowel': 0.998559, 'acc_consonant': 0.998608, 'acc_word': 0.996198, 'loss_grapheme': 0.034463, 'loss_vowel': 0.021324, 'loss_consonant': 0.018752, 'loss_word': 0.023038}\n",
      "   25 | 0.000061 | 160000/160596 | 9.4318 | 7.6110 |||"
     ]
    },
    {
     "name": "stderr",
     "output_type": "stream",
     "text": [
      "\r",
      "  0%|          | 0/250 [00:00<?, ?it/s]"
     ]
    },
    {
     "name": "stdout",
     "output_type": "stream",
     "text": [
      "\n",
      "val: {'recall': 0.997591, 'recall_grapheme': 0.996971, 'recall_vowel': 0.998324, 'recall_consonant': 0.998098, 'recall_word': 0.99633, 'acc_grapheme': 0.996894, 'acc_vowel': 0.998559, 'acc_consonant': 0.998683, 'acc_word': 0.996422, 'loss_grapheme': 0.028025, 'loss_vowel': 0.018164, 'loss_consonant': 0.015097, 'loss_word': 0.021197}\n",
      "SWA>>>:\n"
     ]
    },
    {
     "name": "stderr",
     "output_type": "stream",
     "text": [
      "100%|██████████| 250/250 [01:27<00:00,  2.94it/s]\n"
     ]
    },
    {
     "name": "stdout",
     "output_type": "stream",
     "text": [
      "\n",
      "val: {'recall': 0.998044, 'recall_grapheme': 0.99776, 'recall_vowel': 0.998564, 'recall_consonant': 0.998091, 'recall_word': 0.997037, 'acc_grapheme': 0.997316, 'acc_vowel': 0.998708, 'acc_consonant': 0.998782, 'acc_word': 0.997142, 'loss_grapheme': 0.012112, 'loss_vowel': 0.00557, 'loss_consonant': 0.004459, 'loss_word': 0.012509}\n",
      "   26 | 0.000060 | 160000/160596 | 1.2393 | 7.6547 ||\n",
      "val: {'recall': 0.99718, 'recall_grapheme': 0.996269, 'recall_vowel': 0.998391, 'recall_consonant': 0.997793, 'recall_word': 0.99547, 'acc_grapheme': 0.996124, 'acc_vowel': 0.998559, 'acc_consonant': 0.99836, 'acc_word': 0.995527, 'loss_grapheme': 0.052218, 'loss_vowel': 0.031523, 'loss_consonant': 0.028451, 'loss_word': 0.034083}\n",
      "   27 | 0.000058 | 160000/160596 | 2.9560 | 6.8399 |||"
     ]
    },
    {
     "name": "stderr",
     "output_type": "stream",
     "text": [
      "\r",
      "  0%|          | 0/250 [00:00<?, ?it/s]"
     ]
    },
    {
     "name": "stdout",
     "output_type": "stream",
     "text": [
      "\n",
      "val: {'recall': 0.997519, 'recall_grapheme': 0.996906, 'recall_vowel': 0.998486, 'recall_consonant': 0.997779, 'recall_word': 0.996139, 'acc_grapheme': 0.996447, 'acc_vowel': 0.998708, 'acc_consonant': 0.998509, 'acc_word': 0.996223, 'loss_grapheme': 0.030715, 'loss_vowel': 0.017932, 'loss_consonant': 0.01622, 'loss_word': 0.022092}\n",
      "SWA>>>:\n"
     ]
    },
    {
     "name": "stderr",
     "output_type": "stream",
     "text": [
      "100%|██████████| 250/250 [01:27<00:00,  2.93it/s]\n"
     ]
    },
    {
     "name": "stdout",
     "output_type": "stream",
     "text": [
      "\n",
      "val: {'recall': 0.998052, 'recall_grapheme': 0.997723, 'recall_vowel': 0.998605, 'recall_consonant': 0.998157, 'recall_word': 0.996977, 'acc_grapheme': 0.997267, 'acc_vowel': 0.998758, 'acc_consonant': 0.998857, 'acc_word': 0.997093, 'loss_grapheme': 0.012153, 'loss_vowel': 0.005512, 'loss_consonant': 0.004486, 'loss_word': 0.012562}\n",
      "   28 | 0.000057 | 160000/160596 | 1.2870 | 8.1509 ||\n",
      "val: {'recall': 0.997512, 'recall_grapheme': 0.996755, 'recall_vowel': 0.998583, 'recall_consonant': 0.997954, 'recall_word': 0.996291, 'acc_grapheme': 0.996347, 'acc_vowel': 0.998683, 'acc_consonant': 0.998633, 'acc_word': 0.996372, 'loss_grapheme': 0.041842, 'loss_vowel': 0.028342, 'loss_consonant': 0.023475, 'loss_word': 0.026151}\n",
      "   29 | 0.000055 | 160000/160596 | 8.5666 | 7.8906 ||"
     ]
    },
    {
     "name": "stderr",
     "output_type": "stream",
     "text": [
      "\r",
      "  0%|          | 0/250 [00:00<?, ?it/s]"
     ]
    },
    {
     "name": "stdout",
     "output_type": "stream",
     "text": [
      "\n",
      "val: {'recall': 0.996856, 'recall_grapheme': 0.995897, 'recall_vowel': 0.998259, 'recall_consonant': 0.997369, 'recall_word': 0.995702, 'acc_grapheme': 0.995801, 'acc_vowel': 0.99836, 'acc_consonant': 0.998509, 'acc_word': 0.995776, 'loss_grapheme': 0.029624, 'loss_vowel': 0.017204, 'loss_consonant': 0.015921, 'loss_word': 0.022914}\n",
      "SWA>>>:\n"
     ]
    },
    {
     "name": "stderr",
     "output_type": "stream",
     "text": [
      "100%|██████████| 250/250 [01:27<00:00,  2.95it/s]\n"
     ]
    },
    {
     "name": "stdout",
     "output_type": "stream",
     "text": [
      "\n",
      "val: {'recall': 0.998075, 'recall_grapheme': 0.997789, 'recall_vowel': 0.998592, 'recall_consonant': 0.998129, 'recall_word': 0.997036, 'acc_grapheme': 0.997292, 'acc_vowel': 0.998733, 'acc_consonant': 0.998857, 'acc_word': 0.997167, 'loss_grapheme': 0.012105, 'loss_vowel': 0.005417, 'loss_consonant': 0.004486, 'loss_word': 0.012484}\n",
      "   30 | 0.000054 | 160000/160596 | 1.4019 | 7.6719 ||\n",
      "val: {'recall': 0.997059, 'recall_grapheme': 0.995864, 'recall_vowel': 0.998569, 'recall_consonant': 0.99794, 'recall_word': 0.995728, 'acc_grapheme': 0.996148, 'acc_vowel': 0.998509, 'acc_consonant': 0.998534, 'acc_word': 0.99585, 'loss_grapheme': 0.03181, 'loss_vowel': 0.020259, 'loss_consonant': 0.016414, 'loss_word': 0.023395}\n",
      "   31 | 0.000052 | 160000/160596 | 6.9644 | 7.5352 |||"
     ]
    },
    {
     "name": "stderr",
     "output_type": "stream",
     "text": [
      "\r",
      "  0%|          | 0/250 [00:00<?, ?it/s]"
     ]
    },
    {
     "name": "stdout",
     "output_type": "stream",
     "text": [
      "\n",
      "val: {'recall': 0.997493, 'recall_grapheme': 0.99675, 'recall_vowel': 0.99848, 'recall_consonant': 0.997994, 'recall_word': 0.996368, 'acc_grapheme': 0.99672, 'acc_vowel': 0.998633, 'acc_consonant': 0.998608, 'acc_word': 0.996472, 'loss_grapheme': 0.052863, 'loss_vowel': 0.034921, 'loss_consonant': 0.030056, 'loss_word': 0.031119}\n",
      "SWA>>>:\n"
     ]
    },
    {
     "name": "stderr",
     "output_type": "stream",
     "text": [
      "100%|██████████| 250/250 [01:27<00:00,  2.95it/s]\n"
     ]
    },
    {
     "name": "stdout",
     "output_type": "stream",
     "text": [
      "\n",
      "val: {'recall': 0.998036, 'recall_grapheme': 0.997761, 'recall_vowel': 0.998499, 'recall_consonant': 0.998123, 'recall_word': 0.996987, 'acc_grapheme': 0.997316, 'acc_vowel': 0.998708, 'acc_consonant': 0.998832, 'acc_word': 0.997118, 'loss_grapheme': 0.01207, 'loss_vowel': 0.005424, 'loss_consonant': 0.004547, 'loss_word': 0.012534}\n",
      "   32 | 0.000051 | 160000/160596 | 4.6645 | 7.3964 |||\n",
      "val: {'recall': 0.997381, 'recall_grapheme': 0.996645, 'recall_vowel': 0.998472, 'recall_consonant': 0.997762, 'recall_word': 0.996111, 'acc_grapheme': 0.996397, 'acc_vowel': 0.998534, 'acc_consonant': 0.998484, 'acc_word': 0.996198, 'loss_grapheme': 0.051414, 'loss_vowel': 0.033122, 'loss_consonant': 0.028112, 'loss_word': 0.032938}\n",
      "   33 | 0.000049 | 160000/160596 | 19.4564 | 7.1770 |"
     ]
    },
    {
     "name": "stderr",
     "output_type": "stream",
     "text": [
      "\r",
      "  0%|          | 0/250 [00:00<?, ?it/s]"
     ]
    },
    {
     "name": "stdout",
     "output_type": "stream",
     "text": [
      "\n",
      "val: {'recall': 0.997169, 'recall_grapheme': 0.996091, 'recall_vowel': 0.998581, 'recall_consonant': 0.997914, 'recall_word': 0.996135, 'acc_grapheme': 0.996447, 'acc_vowel': 0.998633, 'acc_consonant': 0.998633, 'acc_word': 0.996223, 'loss_grapheme': 0.058479, 'loss_vowel': 0.039309, 'loss_consonant': 0.034239, 'loss_word': 0.034985}\n",
      "SWA>>>:\n"
     ]
    },
    {
     "name": "stderr",
     "output_type": "stream",
     "text": [
      "100%|██████████| 250/250 [01:27<00:00,  3.00it/s]\n"
     ]
    },
    {
     "name": "stdout",
     "output_type": "stream",
     "text": [
      "\n",
      "val: {'recall': 0.998037, 'recall_grapheme': 0.997759, 'recall_vowel': 0.998513, 'recall_consonant': 0.998118, 'recall_word': 0.996995, 'acc_grapheme': 0.997341, 'acc_vowel': 0.998733, 'acc_consonant': 0.998807, 'acc_word': 0.997142, 'loss_grapheme': 0.012054, 'loss_vowel': 0.005454, 'loss_consonant': 0.004584, 'loss_word': 0.012519}\n",
      "   34 | 0.000048 | 160000/160596 | 1.2332 | 7.1488 ||\n",
      "val: {'recall': 0.997324, 'recall_grapheme': 0.996588, 'recall_vowel': 0.998294, 'recall_consonant': 0.997826, 'recall_word': 0.995863, 'acc_grapheme': 0.996322, 'acc_vowel': 0.99841, 'acc_consonant': 0.998534, 'acc_word': 0.995975, 'loss_grapheme': 0.049598, 'loss_vowel': 0.033616, 'loss_consonant': 0.026442, 'loss_word': 0.034286}\n",
      "   35 | 0.000046 | 160000/160596 | 8.3905 | 7.7448 ||"
     ]
    },
    {
     "name": "stderr",
     "output_type": "stream",
     "text": [
      "\r",
      "  0%|          | 0/250 [00:00<?, ?it/s]"
     ]
    },
    {
     "name": "stdout",
     "output_type": "stream",
     "text": [
      "\n",
      "val: {'recall': 0.997426, 'recall_grapheme': 0.996662, 'recall_vowel': 0.998519, 'recall_consonant': 0.99786, 'recall_word': 0.996194, 'acc_grapheme': 0.996472, 'acc_vowel': 0.998633, 'acc_consonant': 0.998584, 'acc_word': 0.996273, 'loss_grapheme': 0.062661, 'loss_vowel': 0.040562, 'loss_consonant': 0.030187, 'loss_word': 0.04023}\n",
      "SWA>>>:\n"
     ]
    },
    {
     "name": "stderr",
     "output_type": "stream",
     "text": [
      "100%|██████████| 250/250 [01:27<00:00,  2.92it/s]\n"
     ]
    },
    {
     "name": "stdout",
     "output_type": "stream",
     "text": [
      "\n",
      "val: {'recall': 0.998026, 'recall_grapheme': 0.997773, 'recall_vowel': 0.998496, 'recall_consonant': 0.998062, 'recall_word': 0.997022, 'acc_grapheme': 0.997416, 'acc_vowel': 0.998708, 'acc_consonant': 0.998832, 'acc_word': 0.997167, 'loss_grapheme': 0.012111, 'loss_vowel': 0.005466, 'loss_consonant': 0.004582, 'loss_word': 0.012604}\n",
      "   36 | 0.000045 | 160000/160596 | 5.8843 | 7.4330 |||\n",
      "val: {'recall': 0.99761, 'recall_grapheme': 0.997052, 'recall_vowel': 0.998444, 'recall_consonant': 0.997892, 'recall_word': 0.996018, 'acc_grapheme': 0.996645, 'acc_vowel': 0.998608, 'acc_consonant': 0.998559, 'acc_word': 0.996099, 'loss_grapheme': 0.046399, 'loss_vowel': 0.029674, 'loss_consonant': 0.025427, 'loss_word': 0.030054}\n",
      "   37 | 0.000043 | 160000/160596 | 3.7677 | 7.7999 ||"
     ]
    },
    {
     "name": "stderr",
     "output_type": "stream",
     "text": [
      "\r",
      "  0%|          | 0/250 [00:00<?, ?it/s]"
     ]
    },
    {
     "name": "stdout",
     "output_type": "stream",
     "text": [
      "\n",
      "val: {'recall': 0.997714, 'recall_grapheme': 0.997077, 'recall_vowel': 0.998789, 'recall_consonant': 0.997912, 'recall_word': 0.996573, 'acc_grapheme': 0.996844, 'acc_vowel': 0.998807, 'acc_consonant': 0.998559, 'acc_word': 0.99667, 'loss_grapheme': 0.0255, 'loss_vowel': 0.01609, 'loss_consonant': 0.014375, 'loss_word': 0.019139}\n",
      "SWA>>>:\n"
     ]
    },
    {
     "name": "stderr",
     "output_type": "stream",
     "text": [
      "100%|██████████| 250/250 [01:27<00:00,  2.88it/s]\n"
     ]
    },
    {
     "name": "stdout",
     "output_type": "stream",
     "text": [
      "\n",
      "val: {'recall': 0.998084, 'recall_grapheme': 0.997818, 'recall_vowel': 0.998548, 'recall_consonant': 0.998151, 'recall_word': 0.997085, 'acc_grapheme': 0.997366, 'acc_vowel': 0.998782, 'acc_consonant': 0.998832, 'acc_word': 0.997217, 'loss_grapheme': 0.012152, 'loss_vowel': 0.005431, 'loss_consonant': 0.004621, 'loss_word': 0.012641}\n",
      "   38 | 0.000042 | 160000/160596 | 1.1430 | 7.3024 ||\n",
      "val: {'recall': 0.997814, 'recall_grapheme': 0.997224, 'recall_vowel': 0.99883, 'recall_consonant': 0.997977, 'recall_word': 0.996843, 'acc_grapheme': 0.996944, 'acc_vowel': 0.998832, 'acc_consonant': 0.998733, 'acc_word': 0.996919, 'loss_grapheme': 0.037434, 'loss_vowel': 0.026568, 'loss_consonant': 0.021686, 'loss_word': 0.024787}\n",
      "   39 | 0.000040 | 160000/160596 | 9.6642 | 7.9055 |||"
     ]
    },
    {
     "name": "stderr",
     "output_type": "stream",
     "text": [
      "\r",
      "  0%|          | 0/250 [00:00<?, ?it/s]"
     ]
    },
    {
     "name": "stdout",
     "output_type": "stream",
     "text": [
      "\n",
      "val: {'recall': 0.997266, 'recall_grapheme': 0.9964, 'recall_vowel': 0.998556, 'recall_consonant': 0.997705, 'recall_word': 0.996141, 'acc_grapheme': 0.996397, 'acc_vowel': 0.998559, 'acc_consonant': 0.998459, 'acc_word': 0.996198, 'loss_grapheme': 0.067977, 'loss_vowel': 0.047537, 'loss_consonant': 0.036583, 'loss_word': 0.041038}\n",
      "SWA>>>:\n"
     ]
    },
    {
     "name": "stderr",
     "output_type": "stream",
     "text": [
      "100%|██████████| 250/250 [01:27<00:00,  3.00it/s]\n"
     ]
    },
    {
     "name": "stdout",
     "output_type": "stream",
     "text": [
      "\n",
      "val: {'recall': 0.998075, 'recall_grapheme': 0.99776, 'recall_vowel': 0.998568, 'recall_consonant': 0.998214, 'recall_word': 0.996987, 'acc_grapheme': 0.997292, 'acc_vowel': 0.998708, 'acc_consonant': 0.998882, 'acc_word': 0.997118, 'loss_grapheme': 0.012298, 'loss_vowel': 0.005478, 'loss_consonant': 0.004663, 'loss_word': 0.01273}\n",
      "   40 | 0.000038 | 160000/160596 | 16.5399 | 7.3940 ||\n",
      "val: {'recall': 0.997636, 'recall_grapheme': 0.996911, 'recall_vowel': 0.998631, 'recall_consonant': 0.998091, 'recall_word': 0.996459, 'acc_grapheme': 0.99667, 'acc_vowel': 0.998782, 'acc_consonant': 0.998782, 'acc_word': 0.996521, 'loss_grapheme': 0.038388, 'loss_vowel': 0.02858, 'loss_consonant': 0.024406, 'loss_word': 0.024664}\n",
      "   41 | 0.000037 | 160000/160596 | 1.4103 | 8.0028 ||"
     ]
    },
    {
     "name": "stderr",
     "output_type": "stream",
     "text": [
      "\r",
      "  0%|          | 0/250 [00:00<?, ?it/s]"
     ]
    },
    {
     "name": "stdout",
     "output_type": "stream",
     "text": [
      "\n",
      "val: {'recall': 0.99769, 'recall_grapheme': 0.997064, 'recall_vowel': 0.998747, 'recall_consonant': 0.997887, 'recall_word': 0.996386, 'acc_grapheme': 0.99667, 'acc_vowel': 0.998807, 'acc_consonant': 0.998683, 'acc_word': 0.996472, 'loss_grapheme': 0.032385, 'loss_vowel': 0.0216, 'loss_consonant': 0.01733, 'loss_word': 0.022483}\n",
      "SWA>>>:\n"
     ]
    },
    {
     "name": "stderr",
     "output_type": "stream",
     "text": [
      "100%|██████████| 250/250 [01:27<00:00,  2.96it/s]\n"
     ]
    },
    {
     "name": "stdout",
     "output_type": "stream",
     "text": [
      "\n",
      "val: {'recall': 0.99811, 'recall_grapheme': 0.997844, 'recall_vowel': 0.998537, 'recall_consonant': 0.998214, 'recall_word': 0.997017, 'acc_grapheme': 0.997416, 'acc_vowel': 0.998758, 'acc_consonant': 0.998882, 'acc_word': 0.997142, 'loss_grapheme': 0.012201, 'loss_vowel': 0.005451, 'loss_consonant': 0.004655, 'loss_word': 0.012656}\n",
      "###>>>>> saved ./model4-ckps/se_resnext50_32x4d/model4_se_resnext50_fold0_224.pth\n",
      "   42 | 0.000035 | 160000/160596 | 8.3432 | 7.5116 ||\n",
      "val: {'recall': 0.997799, 'recall_grapheme': 0.997409, 'recall_vowel': 0.998477, 'recall_consonant': 0.997899, 'recall_word': 0.99612, 'acc_grapheme': 0.996596, 'acc_vowel': 0.998658, 'acc_consonant': 0.998534, 'acc_word': 0.996223, 'loss_grapheme': 0.041529, 'loss_vowel': 0.027861, 'loss_consonant': 0.024989, 'loss_word': 0.026756}\n",
      "   43 | 0.000034 | 160000/160596 | 10.6670 | 7.3037 |"
     ]
    },
    {
     "name": "stderr",
     "output_type": "stream",
     "text": [
      "\r",
      "  0%|          | 0/250 [00:00<?, ?it/s]"
     ]
    },
    {
     "name": "stdout",
     "output_type": "stream",
     "text": [
      "\n",
      "val: {'recall': 0.997801, 'recall_grapheme': 0.997376, 'recall_vowel': 0.998693, 'recall_consonant': 0.997761, 'recall_word': 0.99636, 'acc_grapheme': 0.996795, 'acc_vowel': 0.998733, 'acc_consonant': 0.998559, 'acc_word': 0.996447, 'loss_grapheme': 0.029061, 'loss_vowel': 0.019908, 'loss_consonant': 0.017249, 'loss_word': 0.02087}\n",
      "SWA>>>:\n"
     ]
    },
    {
     "name": "stderr",
     "output_type": "stream",
     "text": [
      "100%|██████████| 250/250 [01:27<00:00,  2.88it/s]\n"
     ]
    },
    {
     "name": "stdout",
     "output_type": "stream",
     "text": [
      "\n",
      "val: {'recall': 0.998064, 'recall_grapheme': 0.997745, 'recall_vowel': 0.998613, 'recall_consonant': 0.998151, 'recall_word': 0.996972, 'acc_grapheme': 0.997341, 'acc_vowel': 0.998758, 'acc_consonant': 0.998832, 'acc_word': 0.997093, 'loss_grapheme': 0.012361, 'loss_vowel': 0.005514, 'loss_consonant': 0.004691, 'loss_word': 0.012766}\n",
      "   44 | 0.000032 | 160000/160596 | 19.5078 | 7.0991 ||\n",
      "val: {'recall': 0.997551, 'recall_grapheme': 0.996723, 'recall_vowel': 0.998881, 'recall_consonant': 0.997877, 'recall_word': 0.9964, 'acc_grapheme': 0.996422, 'acc_vowel': 0.998807, 'acc_consonant': 0.998633, 'acc_word': 0.996521, 'loss_grapheme': 0.03826, 'loss_vowel': 0.024265, 'loss_consonant': 0.02241, 'loss_word': 0.02546}\n",
      "   45 | 0.000031 | 160000/160596 | 1.2673 | 7.5567 |||"
     ]
    },
    {
     "name": "stderr",
     "output_type": "stream",
     "text": [
      "\r",
      "  0%|          | 0/250 [00:00<?, ?it/s]"
     ]
    },
    {
     "name": "stdout",
     "output_type": "stream",
     "text": [
      "\n",
      "val: {'recall': 0.997589, 'recall_grapheme': 0.997125, 'recall_vowel': 0.998757, 'recall_consonant': 0.997349, 'recall_word': 0.996875, 'acc_grapheme': 0.996894, 'acc_vowel': 0.998782, 'acc_consonant': 0.998658, 'acc_word': 0.996944, 'loss_grapheme': 0.027274, 'loss_vowel': 0.017647, 'loss_consonant': 0.015301, 'loss_word': 0.019797}\n",
      "SWA>>>:\n"
     ]
    },
    {
     "name": "stderr",
     "output_type": "stream",
     "text": [
      "100%|██████████| 250/250 [01:27<00:00,  2.95it/s]\n"
     ]
    },
    {
     "name": "stdout",
     "output_type": "stream",
     "text": [
      "\n",
      "val: {'recall': 0.998074, 'recall_grapheme': 0.997758, 'recall_vowel': 0.998628, 'recall_consonant': 0.998151, 'recall_word': 0.996978, 'acc_grapheme': 0.997341, 'acc_vowel': 0.998782, 'acc_consonant': 0.998832, 'acc_word': 0.997093, 'loss_grapheme': 0.012375, 'loss_vowel': 0.005506, 'loss_consonant': 0.004687, 'loss_word': 0.01276}\n",
      "   46 | 0.000029 | 160000/160596 | 1.0490 | 7.0534 |||\n",
      "val: {'recall': 0.99803, 'recall_grapheme': 0.997621, 'recall_vowel': 0.998803, 'recall_consonant': 0.998076, 'recall_word': 0.997084, 'acc_grapheme': 0.997242, 'acc_vowel': 0.998807, 'acc_consonant': 0.998807, 'acc_word': 0.997192, 'loss_grapheme': 0.017784, 'loss_vowel': 0.011007, 'loss_consonant': 0.009875, 'loss_word': 0.014792}\n",
      "   47 | 0.000028 | 160000/160596 | 13.4434 | 7.0913 ||"
     ]
    },
    {
     "name": "stderr",
     "output_type": "stream",
     "text": [
      "\r",
      "  0%|          | 0/250 [00:00<?, ?it/s]"
     ]
    },
    {
     "name": "stdout",
     "output_type": "stream",
     "text": [
      "\n",
      "val: {'recall': 0.997649, 'recall_grapheme': 0.997034, 'recall_vowel': 0.998554, 'recall_consonant': 0.997971, 'recall_word': 0.996379, 'acc_grapheme': 0.99672, 'acc_vowel': 0.998758, 'acc_consonant': 0.998708, 'acc_word': 0.996472, 'loss_grapheme': 0.034282, 'loss_vowel': 0.022736, 'loss_consonant': 0.02082, 'loss_word': 0.023362}\n",
      "SWA>>>:\n"
     ]
    },
    {
     "name": "stderr",
     "output_type": "stream",
     "text": [
      "100%|██████████| 250/250 [01:27<00:00,  2.97it/s]\n"
     ]
    },
    {
     "name": "stdout",
     "output_type": "stream",
     "text": [
      "\n",
      "val: {'recall': 0.998074, 'recall_grapheme': 0.997767, 'recall_vowel': 0.99861, 'recall_consonant': 0.998151, 'recall_word': 0.996985, 'acc_grapheme': 0.997341, 'acc_vowel': 0.998758, 'acc_consonant': 0.998832, 'acc_word': 0.997118, 'loss_grapheme': 0.012343, 'loss_vowel': 0.005495, 'loss_consonant': 0.004656, 'loss_word': 0.012747}\n",
      "   48 | 0.000026 | 160000/160596 | 5.2461 | 7.1820 |||\n",
      "val: {'recall': 0.997952, 'recall_grapheme': 0.997359, 'recall_vowel': 0.998912, 'recall_consonant': 0.998177, 'recall_word': 0.996756, 'acc_grapheme': 0.996944, 'acc_vowel': 0.998907, 'acc_consonant': 0.998882, 'acc_word': 0.996844, 'loss_grapheme': 0.019305, 'loss_vowel': 0.01194, 'loss_consonant': 0.01084, 'loss_word': 0.015854}\n",
      "   49 | 0.000025 | 160000/160596 | 1.0738 | 6.8327 |||"
     ]
    },
    {
     "name": "stderr",
     "output_type": "stream",
     "text": [
      "\r",
      "  0%|          | 0/250 [00:00<?, ?it/s]"
     ]
    },
    {
     "name": "stdout",
     "output_type": "stream",
     "text": [
      "\n",
      "val: {'recall': 0.997768, 'recall_grapheme': 0.997309, 'recall_vowel': 0.998689, 'recall_consonant': 0.997764, 'recall_word': 0.996153, 'acc_grapheme': 0.996546, 'acc_vowel': 0.998658, 'acc_consonant': 0.998608, 'acc_word': 0.996223, 'loss_grapheme': 0.042801, 'loss_vowel': 0.027826, 'loss_consonant': 0.023433, 'loss_word': 0.028734}\n",
      "SWA>>>:\n"
     ]
    },
    {
     "name": "stderr",
     "output_type": "stream",
     "text": [
      "100%|██████████| 250/250 [01:27<00:00,  2.96it/s]\n"
     ]
    },
    {
     "name": "stdout",
     "output_type": "stream",
     "text": [
      "\n",
      "val: {'recall': 0.998027, 'recall_grapheme': 0.997666, 'recall_vowel': 0.998624, 'recall_consonant': 0.998151, 'recall_word': 0.997003, 'acc_grapheme': 0.997341, 'acc_vowel': 0.998782, 'acc_consonant': 0.998832, 'acc_word': 0.997118, 'loss_grapheme': 0.012458, 'loss_vowel': 0.005533, 'loss_consonant': 0.004705, 'loss_word': 0.012813}\n",
      "   50 | 0.000023 | 160000/160596 | 8.5581 | 6.8650 |||\n",
      "val: {'recall': 0.997405, 'recall_grapheme': 0.996587, 'recall_vowel': 0.998649, 'recall_consonant': 0.997798, 'recall_word': 0.996016, 'acc_grapheme': 0.996372, 'acc_vowel': 0.998683, 'acc_consonant': 0.998559, 'acc_word': 0.996049, 'loss_grapheme': 0.066769, 'loss_vowel': 0.042172, 'loss_consonant': 0.032849, 'loss_word': 0.043689}\n",
      "   51 | 0.000022 | 160000/160596 | 1.3531 | 7.4086 ||"
     ]
    },
    {
     "name": "stderr",
     "output_type": "stream",
     "text": [
      "\r",
      "  0%|          | 0/250 [00:00<?, ?it/s]"
     ]
    },
    {
     "name": "stdout",
     "output_type": "stream",
     "text": [
      "\n",
      "val: {'recall': 0.998057, 'recall_grapheme': 0.997616, 'recall_vowel': 0.998909, 'recall_consonant': 0.998085, 'recall_word': 0.996924, 'acc_grapheme': 0.997093, 'acc_vowel': 0.998832, 'acc_consonant': 0.998882, 'acc_word': 0.997018, 'loss_grapheme': 0.027337, 'loss_vowel': 0.019196, 'loss_consonant': 0.015233, 'loss_word': 0.019289}\n",
      "SWA>>>:\n"
     ]
    },
    {
     "name": "stderr",
     "output_type": "stream",
     "text": [
      "100%|██████████| 250/250 [01:27<00:00,  2.94it/s]\n"
     ]
    },
    {
     "name": "stdout",
     "output_type": "stream",
     "text": [
      "\n",
      "val: {'recall': 0.998054, 'recall_grapheme': 0.997666, 'recall_vowel': 0.998733, 'recall_consonant': 0.998151, 'recall_word': 0.997064, 'acc_grapheme': 0.997341, 'acc_vowel': 0.998807, 'acc_consonant': 0.998832, 'acc_word': 0.997167, 'loss_grapheme': 0.012516, 'loss_vowel': 0.005574, 'loss_consonant': 0.004705, 'loss_word': 0.012853}\n",
      "   52 | 0.000020 | 160000/160596 | 8.0678 | 7.3002 ||\n",
      "val: {'recall': 0.997357, 'recall_grapheme': 0.996573, 'recall_vowel': 0.998592, 'recall_consonant': 0.997687, 'recall_word': 0.995916, 'acc_grapheme': 0.996148, 'acc_vowel': 0.998658, 'acc_consonant': 0.998509, 'acc_word': 0.995975, 'loss_grapheme': 0.069628, 'loss_vowel': 0.042576, 'loss_consonant': 0.03656, 'loss_word': 0.04355}\n",
      "   53 | 0.000019 | 160000/160596 | 1.1668 | 7.3670 |||"
     ]
    },
    {
     "name": "stderr",
     "output_type": "stream",
     "text": [
      "\r",
      "  0%|          | 0/250 [00:00<?, ?it/s]"
     ]
    },
    {
     "name": "stdout",
     "output_type": "stream",
     "text": [
      "\n",
      "val: {'recall': 0.997626, 'recall_grapheme': 0.996986, 'recall_vowel': 0.998717, 'recall_consonant': 0.997816, 'recall_word': 0.996402, 'acc_grapheme': 0.99672, 'acc_vowel': 0.998683, 'acc_consonant': 0.998584, 'acc_word': 0.996496, 'loss_grapheme': 0.027514, 'loss_vowel': 0.017973, 'loss_consonant': 0.015822, 'loss_word': 0.019701}\n",
      "SWA>>>:\n"
     ]
    },
    {
     "name": "stderr",
     "output_type": "stream",
     "text": [
      "100%|██████████| 250/250 [01:27<00:00,  2.92it/s]\n"
     ]
    },
    {
     "name": "stdout",
     "output_type": "stream",
     "text": [
      "\n",
      "val: {'recall': 0.998084, 'recall_grapheme': 0.99773, 'recall_vowel': 0.998726, 'recall_consonant': 0.998151, 'recall_word': 0.997078, 'acc_grapheme': 0.997416, 'acc_vowel': 0.998807, 'acc_consonant': 0.998832, 'acc_word': 0.997192, 'loss_grapheme': 0.012476, 'loss_vowel': 0.00554, 'loss_consonant': 0.004656, 'loss_word': 0.0128}\n",
      "   54 | 0.000018 | 160000/160596 | 1.2684 | 6.8234 ||\n",
      "val: {'recall': 0.997615, 'recall_grapheme': 0.996811, 'recall_vowel': 0.998758, 'recall_consonant': 0.998079, 'recall_word': 0.996862, 'acc_grapheme': 0.996869, 'acc_vowel': 0.998782, 'acc_consonant': 0.998758, 'acc_word': 0.996968, 'loss_grapheme': 0.018192, 'loss_vowel': 0.011117, 'loss_consonant': 0.009827, 'loss_word': 0.015173}\n",
      "   55 | 0.000017 | 119680/160596 | 8.8762 | 7.0344 ||"
     ]
    },
    {
     "name": "stderr",
     "output_type": "stream",
     "text": [
      "Exception ignored in: <function _MultiProcessingDataLoaderIter.__del__ at 0x7ff618a560d0>\n",
      "Traceback (most recent call last):\n",
      "  File \"/home/chec/anaconda3/lib/python3.7/site-packages/torch/utils/data/dataloader.py\", line 926, in __del__\n",
      "    self._shutdown_workers()\n",
      "  File \"/home/chec/anaconda3/lib/python3.7/site-packages/torch/utils/data/dataloader.py\", line 906, in _shutdown_workers\n",
      "    w.join()\n",
      "  File \"/home/chec/anaconda3/lib/python3.7/multiprocessing/process.py\", line 140, in join\n",
      "    res = self._popen.wait(timeout)\n",
      "  File \"/home/chec/anaconda3/lib/python3.7/multiprocessing/popen_fork.py\", line 48, in wait\n",
      "    return self.poll(os.WNOHANG if timeout == 0.0 else 0)\n",
      "  File \"/home/chec/anaconda3/lib/python3.7/multiprocessing/popen_fork.py\", line 28, in poll\n",
      "    pid, sts = os.waitpid(self.pid, flag)\n",
      "KeyboardInterrupt: \n"
     ]
    },
    {
     "ename": "KeyboardInterrupt",
     "evalue": "",
     "output_type": "error",
     "traceback": [
      "\u001b[0;31m---------------------------------------------------------------------------\u001b[0m",
      "\u001b[0;31mKeyboardInterrupt\u001b[0m                         Traceback (most recent call last)",
      "\u001b[0;32m<ipython-input-39-aad596905035>\u001b[0m in \u001b[0;36m<module>\u001b[0;34m\u001b[0m\n\u001b[0;32m----> 1\u001b[0;31m \u001b[0mtrain\u001b[0m\u001b[0;34m(\u001b[0m\u001b[0margs\u001b[0m\u001b[0;34m)\u001b[0m\u001b[0;34m\u001b[0m\u001b[0;34m\u001b[0m\u001b[0m\n\u001b[0m",
      "\u001b[0;32m<ipython-input-34-d84675b5ebd3>\u001b[0m in \u001b[0;36mtrain\u001b[0;34m(args)\u001b[0m\n\u001b[1;32m     41\u001b[0m         \u001b[0;32mfor\u001b[0m \u001b[0mepoch\u001b[0m \u001b[0;32min\u001b[0m \u001b[0mrange\u001b[0m\u001b[0;34m(\u001b[0m\u001b[0margs\u001b[0m\u001b[0;34m.\u001b[0m\u001b[0mstart_epoch\u001b[0m\u001b[0;34m,\u001b[0m \u001b[0margs\u001b[0m\u001b[0;34m.\u001b[0m\u001b[0mnum_epochs\u001b[0m\u001b[0;34m)\u001b[0m\u001b[0;34m:\u001b[0m\u001b[0;34m\u001b[0m\u001b[0;34m\u001b[0m\u001b[0m\n\u001b[1;32m     42\u001b[0m             \u001b[0mgrid\u001b[0m\u001b[0;34m.\u001b[0m\u001b[0mset_prob\u001b[0m\u001b[0;34m(\u001b[0m\u001b[0mepoch\u001b[0m\u001b[0;34m,\u001b[0m \u001b[0margs\u001b[0m\u001b[0;34m.\u001b[0m\u001b[0mst_epochs\u001b[0m\u001b[0;34m)\u001b[0m\u001b[0;34m\u001b[0m\u001b[0;34m\u001b[0m\u001b[0m\n\u001b[0;32m---> 43\u001b[0;31m             \u001b[0mtrain_epoch\u001b[0m\u001b[0;34m(\u001b[0m\u001b[0margs\u001b[0m\u001b[0;34m,\u001b[0m \u001b[0mmodel\u001b[0m\u001b[0;34m,\u001b[0m \u001b[0mtrain_loader\u001b[0m\u001b[0;34m,\u001b[0m \u001b[0mepoch\u001b[0m\u001b[0;34m,\u001b[0m \u001b[0moptimizer\u001b[0m\u001b[0;34m,\u001b[0m \u001b[0mlr_scheduler\u001b[0m\u001b[0;34m,\u001b[0m \u001b[0mgrid\u001b[0m\u001b[0;34m)\u001b[0m\u001b[0;34m\u001b[0m\u001b[0;34m\u001b[0m\u001b[0m\n\u001b[0m\u001b[1;32m     44\u001b[0m             \u001b[0mvalidate_and_save\u001b[0m\u001b[0;34m(\u001b[0m\u001b[0mmodel\u001b[0m\u001b[0;34m,\u001b[0m \u001b[0mmodel_file\u001b[0m\u001b[0;34m,\u001b[0m \u001b[0mval_loader\u001b[0m\u001b[0;34m,\u001b[0m \u001b[0msave\u001b[0m\u001b[0;34m=\u001b[0m\u001b[0;32mTrue\u001b[0m\u001b[0;34m)\u001b[0m\u001b[0;34m\u001b[0m\u001b[0;34m\u001b[0m\u001b[0m\n\u001b[1;32m     45\u001b[0m \u001b[0;34m\u001b[0m\u001b[0m\n",
      "\u001b[0;32m<ipython-input-33-433613421c48>\u001b[0m in \u001b[0;36mtrain_epoch\u001b[0;34m(args, model, train_loader, epoch, optimizer, lr_scheduler, grid)\u001b[0m\n\u001b[1;32m     34\u001b[0m         \u001b[0;32melse\u001b[0m\u001b[0;34m:\u001b[0m\u001b[0;34m\u001b[0m\u001b[0;34m\u001b[0m\u001b[0m\n\u001b[1;32m     35\u001b[0m             \u001b[0morig_img\u001b[0m\u001b[0;34m,\u001b[0m \u001b[0mtargets\u001b[0m \u001b[0;34m=\u001b[0m \u001b[0mmixup\u001b[0m\u001b[0;34m(\u001b[0m\u001b[0morig_img\u001b[0m\u001b[0;34m,\u001b[0m \u001b[0mtargets\u001b[0m\u001b[0;34m)\u001b[0m\u001b[0;34m\u001b[0m\u001b[0;34m\u001b[0m\u001b[0m\n\u001b[0;32m---> 36\u001b[0;31m             \u001b[0moutputs\u001b[0m\u001b[0;34m,\u001b[0m \u001b[0moutputs_aux1\u001b[0m\u001b[0;34m,\u001b[0m \u001b[0moutputs_aux2\u001b[0m \u001b[0;34m=\u001b[0m \u001b[0mmodel\u001b[0m\u001b[0;34m(\u001b[0m\u001b[0morig_img\u001b[0m\u001b[0;34m)\u001b[0m\u001b[0;34m\u001b[0m\u001b[0;34m\u001b[0m\u001b[0m\n\u001b[0m\u001b[1;32m     37\u001b[0m             \u001b[0mloss_primary\u001b[0m \u001b[0;34m=\u001b[0m \u001b[0mmixup_criterion\u001b[0m\u001b[0;34m(\u001b[0m\u001b[0moutputs\u001b[0m\u001b[0;34m,\u001b[0m \u001b[0mtargets\u001b[0m\u001b[0;34m)\u001b[0m\u001b[0;34m\u001b[0m\u001b[0;34m\u001b[0m\u001b[0m\n\u001b[1;32m     38\u001b[0m             \u001b[0mloss_aux1\u001b[0m \u001b[0;34m=\u001b[0m \u001b[0mmixup_criterion\u001b[0m\u001b[0;34m(\u001b[0m\u001b[0moutputs_aux1\u001b[0m\u001b[0;34m,\u001b[0m \u001b[0mtargets\u001b[0m\u001b[0;34m)\u001b[0m\u001b[0;34m\u001b[0m\u001b[0;34m\u001b[0m\u001b[0m\n",
      "\u001b[0;32m~/anaconda3/lib/python3.7/site-packages/torch/nn/modules/module.py\u001b[0m in \u001b[0;36m__call__\u001b[0;34m(self, *input, **kwargs)\u001b[0m\n\u001b[1;32m    545\u001b[0m             \u001b[0mresult\u001b[0m \u001b[0;34m=\u001b[0m \u001b[0mself\u001b[0m\u001b[0;34m.\u001b[0m\u001b[0m_slow_forward\u001b[0m\u001b[0;34m(\u001b[0m\u001b[0;34m*\u001b[0m\u001b[0minput\u001b[0m\u001b[0;34m,\u001b[0m \u001b[0;34m**\u001b[0m\u001b[0mkwargs\u001b[0m\u001b[0;34m)\u001b[0m\u001b[0;34m\u001b[0m\u001b[0;34m\u001b[0m\u001b[0m\n\u001b[1;32m    546\u001b[0m         \u001b[0;32melse\u001b[0m\u001b[0;34m:\u001b[0m\u001b[0;34m\u001b[0m\u001b[0;34m\u001b[0m\u001b[0m\n\u001b[0;32m--> 547\u001b[0;31m             \u001b[0mresult\u001b[0m \u001b[0;34m=\u001b[0m \u001b[0mself\u001b[0m\u001b[0;34m.\u001b[0m\u001b[0mforward\u001b[0m\u001b[0;34m(\u001b[0m\u001b[0;34m*\u001b[0m\u001b[0minput\u001b[0m\u001b[0;34m,\u001b[0m \u001b[0;34m**\u001b[0m\u001b[0mkwargs\u001b[0m\u001b[0;34m)\u001b[0m\u001b[0;34m\u001b[0m\u001b[0;34m\u001b[0m\u001b[0m\n\u001b[0m\u001b[1;32m    548\u001b[0m         \u001b[0;32mfor\u001b[0m \u001b[0mhook\u001b[0m \u001b[0;32min\u001b[0m \u001b[0mself\u001b[0m\u001b[0;34m.\u001b[0m\u001b[0m_forward_hooks\u001b[0m\u001b[0;34m.\u001b[0m\u001b[0mvalues\u001b[0m\u001b[0;34m(\u001b[0m\u001b[0;34m)\u001b[0m\u001b[0;34m:\u001b[0m\u001b[0;34m\u001b[0m\u001b[0;34m\u001b[0m\u001b[0m\n\u001b[1;32m    549\u001b[0m             \u001b[0mhook_result\u001b[0m \u001b[0;34m=\u001b[0m \u001b[0mhook\u001b[0m\u001b[0;34m(\u001b[0m\u001b[0mself\u001b[0m\u001b[0;34m,\u001b[0m \u001b[0minput\u001b[0m\u001b[0;34m,\u001b[0m \u001b[0mresult\u001b[0m\u001b[0;34m)\u001b[0m\u001b[0;34m\u001b[0m\u001b[0;34m\u001b[0m\u001b[0m\n",
      "\u001b[0;32m~/anaconda3/lib/python3.7/site-packages/torch/nn/parallel/data_parallel.py\u001b[0m in \u001b[0;36mforward\u001b[0;34m(self, *inputs, **kwargs)\u001b[0m\n\u001b[1;32m    150\u001b[0m             \u001b[0;32mreturn\u001b[0m \u001b[0mself\u001b[0m\u001b[0;34m.\u001b[0m\u001b[0mmodule\u001b[0m\u001b[0;34m(\u001b[0m\u001b[0;34m*\u001b[0m\u001b[0minputs\u001b[0m\u001b[0;34m[\u001b[0m\u001b[0;36m0\u001b[0m\u001b[0;34m]\u001b[0m\u001b[0;34m,\u001b[0m \u001b[0;34m**\u001b[0m\u001b[0mkwargs\u001b[0m\u001b[0;34m[\u001b[0m\u001b[0;36m0\u001b[0m\u001b[0;34m]\u001b[0m\u001b[0;34m)\u001b[0m\u001b[0;34m\u001b[0m\u001b[0;34m\u001b[0m\u001b[0m\n\u001b[1;32m    151\u001b[0m         \u001b[0mreplicas\u001b[0m \u001b[0;34m=\u001b[0m \u001b[0mself\u001b[0m\u001b[0;34m.\u001b[0m\u001b[0mreplicate\u001b[0m\u001b[0;34m(\u001b[0m\u001b[0mself\u001b[0m\u001b[0;34m.\u001b[0m\u001b[0mmodule\u001b[0m\u001b[0;34m,\u001b[0m \u001b[0mself\u001b[0m\u001b[0;34m.\u001b[0m\u001b[0mdevice_ids\u001b[0m\u001b[0;34m[\u001b[0m\u001b[0;34m:\u001b[0m\u001b[0mlen\u001b[0m\u001b[0;34m(\u001b[0m\u001b[0minputs\u001b[0m\u001b[0;34m)\u001b[0m\u001b[0;34m]\u001b[0m\u001b[0;34m)\u001b[0m\u001b[0;34m\u001b[0m\u001b[0;34m\u001b[0m\u001b[0m\n\u001b[0;32m--> 152\u001b[0;31m         \u001b[0moutputs\u001b[0m \u001b[0;34m=\u001b[0m \u001b[0mself\u001b[0m\u001b[0;34m.\u001b[0m\u001b[0mparallel_apply\u001b[0m\u001b[0;34m(\u001b[0m\u001b[0mreplicas\u001b[0m\u001b[0;34m,\u001b[0m \u001b[0minputs\u001b[0m\u001b[0;34m,\u001b[0m \u001b[0mkwargs\u001b[0m\u001b[0;34m)\u001b[0m\u001b[0;34m\u001b[0m\u001b[0;34m\u001b[0m\u001b[0m\n\u001b[0m\u001b[1;32m    153\u001b[0m         \u001b[0;32mreturn\u001b[0m \u001b[0mself\u001b[0m\u001b[0;34m.\u001b[0m\u001b[0mgather\u001b[0m\u001b[0;34m(\u001b[0m\u001b[0moutputs\u001b[0m\u001b[0;34m,\u001b[0m \u001b[0mself\u001b[0m\u001b[0;34m.\u001b[0m\u001b[0moutput_device\u001b[0m\u001b[0;34m)\u001b[0m\u001b[0;34m\u001b[0m\u001b[0;34m\u001b[0m\u001b[0m\n\u001b[1;32m    154\u001b[0m \u001b[0;34m\u001b[0m\u001b[0m\n",
      "\u001b[0;32m~/anaconda3/lib/python3.7/site-packages/torch/nn/parallel/data_parallel.py\u001b[0m in \u001b[0;36mparallel_apply\u001b[0;34m(self, replicas, inputs, kwargs)\u001b[0m\n\u001b[1;32m    160\u001b[0m \u001b[0;34m\u001b[0m\u001b[0m\n\u001b[1;32m    161\u001b[0m     \u001b[0;32mdef\u001b[0m \u001b[0mparallel_apply\u001b[0m\u001b[0;34m(\u001b[0m\u001b[0mself\u001b[0m\u001b[0;34m,\u001b[0m \u001b[0mreplicas\u001b[0m\u001b[0;34m,\u001b[0m \u001b[0minputs\u001b[0m\u001b[0;34m,\u001b[0m \u001b[0mkwargs\u001b[0m\u001b[0;34m)\u001b[0m\u001b[0;34m:\u001b[0m\u001b[0;34m\u001b[0m\u001b[0;34m\u001b[0m\u001b[0m\n\u001b[0;32m--> 162\u001b[0;31m         \u001b[0;32mreturn\u001b[0m \u001b[0mparallel_apply\u001b[0m\u001b[0;34m(\u001b[0m\u001b[0mreplicas\u001b[0m\u001b[0;34m,\u001b[0m \u001b[0minputs\u001b[0m\u001b[0;34m,\u001b[0m \u001b[0mkwargs\u001b[0m\u001b[0;34m,\u001b[0m \u001b[0mself\u001b[0m\u001b[0;34m.\u001b[0m\u001b[0mdevice_ids\u001b[0m\u001b[0;34m[\u001b[0m\u001b[0;34m:\u001b[0m\u001b[0mlen\u001b[0m\u001b[0;34m(\u001b[0m\u001b[0mreplicas\u001b[0m\u001b[0;34m)\u001b[0m\u001b[0;34m]\u001b[0m\u001b[0;34m)\u001b[0m\u001b[0;34m\u001b[0m\u001b[0;34m\u001b[0m\u001b[0m\n\u001b[0m\u001b[1;32m    163\u001b[0m \u001b[0;34m\u001b[0m\u001b[0m\n\u001b[1;32m    164\u001b[0m     \u001b[0;32mdef\u001b[0m \u001b[0mgather\u001b[0m\u001b[0;34m(\u001b[0m\u001b[0mself\u001b[0m\u001b[0;34m,\u001b[0m \u001b[0moutputs\u001b[0m\u001b[0;34m,\u001b[0m \u001b[0moutput_device\u001b[0m\u001b[0;34m)\u001b[0m\u001b[0;34m:\u001b[0m\u001b[0;34m\u001b[0m\u001b[0;34m\u001b[0m\u001b[0m\n",
      "\u001b[0;32m~/anaconda3/lib/python3.7/site-packages/torch/nn/parallel/parallel_apply.py\u001b[0m in \u001b[0;36mparallel_apply\u001b[0;34m(modules, inputs, kwargs_tup, devices)\u001b[0m\n\u001b[1;32m     75\u001b[0m             \u001b[0mthread\u001b[0m\u001b[0;34m.\u001b[0m\u001b[0mstart\u001b[0m\u001b[0;34m(\u001b[0m\u001b[0;34m)\u001b[0m\u001b[0;34m\u001b[0m\u001b[0;34m\u001b[0m\u001b[0m\n\u001b[1;32m     76\u001b[0m         \u001b[0;32mfor\u001b[0m \u001b[0mthread\u001b[0m \u001b[0;32min\u001b[0m \u001b[0mthreads\u001b[0m\u001b[0;34m:\u001b[0m\u001b[0;34m\u001b[0m\u001b[0;34m\u001b[0m\u001b[0m\n\u001b[0;32m---> 77\u001b[0;31m             \u001b[0mthread\u001b[0m\u001b[0;34m.\u001b[0m\u001b[0mjoin\u001b[0m\u001b[0;34m(\u001b[0m\u001b[0;34m)\u001b[0m\u001b[0;34m\u001b[0m\u001b[0;34m\u001b[0m\u001b[0m\n\u001b[0m\u001b[1;32m     78\u001b[0m     \u001b[0;32melse\u001b[0m\u001b[0;34m:\u001b[0m\u001b[0;34m\u001b[0m\u001b[0;34m\u001b[0m\u001b[0m\n\u001b[1;32m     79\u001b[0m         \u001b[0m_worker\u001b[0m\u001b[0;34m(\u001b[0m\u001b[0;36m0\u001b[0m\u001b[0;34m,\u001b[0m \u001b[0mmodules\u001b[0m\u001b[0;34m[\u001b[0m\u001b[0;36m0\u001b[0m\u001b[0;34m]\u001b[0m\u001b[0;34m,\u001b[0m \u001b[0minputs\u001b[0m\u001b[0;34m[\u001b[0m\u001b[0;36m0\u001b[0m\u001b[0;34m]\u001b[0m\u001b[0;34m,\u001b[0m \u001b[0mkwargs_tup\u001b[0m\u001b[0;34m[\u001b[0m\u001b[0;36m0\u001b[0m\u001b[0;34m]\u001b[0m\u001b[0;34m,\u001b[0m \u001b[0mdevices\u001b[0m\u001b[0;34m[\u001b[0m\u001b[0;36m0\u001b[0m\u001b[0;34m]\u001b[0m\u001b[0;34m)\u001b[0m\u001b[0;34m\u001b[0m\u001b[0;34m\u001b[0m\u001b[0m\n",
      "\u001b[0;32m~/anaconda3/lib/python3.7/threading.py\u001b[0m in \u001b[0;36mjoin\u001b[0;34m(self, timeout)\u001b[0m\n\u001b[1;32m   1030\u001b[0m \u001b[0;34m\u001b[0m\u001b[0m\n\u001b[1;32m   1031\u001b[0m         \u001b[0;32mif\u001b[0m \u001b[0mtimeout\u001b[0m \u001b[0;32mis\u001b[0m \u001b[0;32mNone\u001b[0m\u001b[0;34m:\u001b[0m\u001b[0;34m\u001b[0m\u001b[0;34m\u001b[0m\u001b[0m\n\u001b[0;32m-> 1032\u001b[0;31m             \u001b[0mself\u001b[0m\u001b[0;34m.\u001b[0m\u001b[0m_wait_for_tstate_lock\u001b[0m\u001b[0;34m(\u001b[0m\u001b[0;34m)\u001b[0m\u001b[0;34m\u001b[0m\u001b[0;34m\u001b[0m\u001b[0m\n\u001b[0m\u001b[1;32m   1033\u001b[0m         \u001b[0;32melse\u001b[0m\u001b[0;34m:\u001b[0m\u001b[0;34m\u001b[0m\u001b[0;34m\u001b[0m\u001b[0m\n\u001b[1;32m   1034\u001b[0m             \u001b[0;31m# the behavior of a negative timeout isn't documented, but\u001b[0m\u001b[0;34m\u001b[0m\u001b[0;34m\u001b[0m\u001b[0;34m\u001b[0m\u001b[0m\n",
      "\u001b[0;32m~/anaconda3/lib/python3.7/threading.py\u001b[0m in \u001b[0;36m_wait_for_tstate_lock\u001b[0;34m(self, block, timeout)\u001b[0m\n\u001b[1;32m   1046\u001b[0m         \u001b[0;32mif\u001b[0m \u001b[0mlock\u001b[0m \u001b[0;32mis\u001b[0m \u001b[0;32mNone\u001b[0m\u001b[0;34m:\u001b[0m  \u001b[0;31m# already determined that the C code is done\u001b[0m\u001b[0;34m\u001b[0m\u001b[0;34m\u001b[0m\u001b[0m\n\u001b[1;32m   1047\u001b[0m             \u001b[0;32massert\u001b[0m \u001b[0mself\u001b[0m\u001b[0;34m.\u001b[0m\u001b[0m_is_stopped\u001b[0m\u001b[0;34m\u001b[0m\u001b[0;34m\u001b[0m\u001b[0m\n\u001b[0;32m-> 1048\u001b[0;31m         \u001b[0;32melif\u001b[0m \u001b[0mlock\u001b[0m\u001b[0;34m.\u001b[0m\u001b[0macquire\u001b[0m\u001b[0;34m(\u001b[0m\u001b[0mblock\u001b[0m\u001b[0;34m,\u001b[0m \u001b[0mtimeout\u001b[0m\u001b[0;34m)\u001b[0m\u001b[0;34m:\u001b[0m\u001b[0;34m\u001b[0m\u001b[0;34m\u001b[0m\u001b[0m\n\u001b[0m\u001b[1;32m   1049\u001b[0m             \u001b[0mlock\u001b[0m\u001b[0;34m.\u001b[0m\u001b[0mrelease\u001b[0m\u001b[0;34m(\u001b[0m\u001b[0;34m)\u001b[0m\u001b[0;34m\u001b[0m\u001b[0;34m\u001b[0m\u001b[0m\n\u001b[1;32m   1050\u001b[0m             \u001b[0mself\u001b[0m\u001b[0;34m.\u001b[0m\u001b[0m_stop\u001b[0m\u001b[0;34m(\u001b[0m\u001b[0;34m)\u001b[0m\u001b[0;34m\u001b[0m\u001b[0;34m\u001b[0m\u001b[0m\n",
      "\u001b[0;31mKeyboardInterrupt\u001b[0m: "
     ]
    }
   ],
   "source": [
    "train(args)"
   ]
  },
  {
   "cell_type": "code",
   "execution_count": null,
   "metadata": {},
   "outputs": [],
   "source": []
  },
  {
   "cell_type": "code",
   "execution_count": null,
   "metadata": {},
   "outputs": [],
   "source": []
  },
  {
   "cell_type": "code",
   "execution_count": null,
   "metadata": {},
   "outputs": [],
   "source": [
    "#save_model(model, model_file)"
   ]
  },
  {
   "cell_type": "code",
   "execution_count": null,
   "metadata": {},
   "outputs": [],
   "source": [
    "del model"
   ]
  },
  {
   "cell_type": "code",
   "execution_count": null,
   "metadata": {},
   "outputs": [],
   "source": []
  },
  {
   "cell_type": "code",
   "execution_count": null,
   "metadata": {},
   "outputs": [],
   "source": []
  }
 ],
 "metadata": {
  "kernelspec": {
   "display_name": "Python 3",
   "language": "python",
   "name": "python3"
  },
  "language_info": {
   "codemirror_mode": {
    "name": "ipython",
    "version": 3
   },
   "file_extension": ".py",
   "mimetype": "text/x-python",
   "name": "python",
   "nbconvert_exporter": "python",
   "pygments_lexer": "ipython3",
   "version": "3.7.3"
  }
 },
 "nbformat": 4,
 "nbformat_minor": 2
}
