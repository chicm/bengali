{
 "cells": [
  {
   "cell_type": "code",
   "execution_count": 1,
   "metadata": {},
   "outputs": [],
   "source": [
    "import os\n",
    "import pandas as pd\n",
    "import numpy as np\n",
    "import time, gc\n",
    "import cv2\n",
    "import matplotlib.pyplot as plt\n",
    "import torch\n",
    "import torch.nn as nn\n",
    "import torch.nn.functional as F\n",
    "import torch.optim as optim\n",
    "import pretrainedmodels\n",
    "from argparse import Namespace\n",
    "from sklearn.utils import shuffle\n",
    "from apex import amp\n",
    "from sklearn.model_selection import StratifiedKFold\n",
    "from efficientnet_pytorch import EfficientNet\n",
    "from cvcore.data.auto_augment import RandAugment\n",
    "from PIL import Image\n",
    "from utils import bn_update, moving_average, copy_model\n"
   ]
  },
  {
   "cell_type": "code",
   "execution_count": 2,
   "metadata": {},
   "outputs": [
    {
     "name": "stdout",
     "output_type": "stream",
     "text": [
      "class_map.csv\t\t       train.csv\r\n",
      "sample_submission.csv\t       train.csv.zip\r\n",
      "test.csv\t\t       train_image_data_0.parquet\r\n",
      "test_image_data_0.parquet      train_image_data_0.parquet.zip\r\n",
      "test_image_data_0.parquet.zip  train_image_data_1.parquet\r\n",
      "test_image_data_1.parquet      train_image_data_1.parquet.zip\r\n",
      "test_image_data_1.parquet.zip  train_image_data_2.parquet\r\n",
      "test_image_data_2.parquet      train_image_data_2.parquet.zip\r\n",
      "test_image_data_2.parquet.zip  train_image_data_3.parquet\r\n",
      "test_image_data_3.parquet      train_image_data_3.parquet.zip\r\n",
      "test_image_data_3.parquet.zip\r\n"
     ]
    }
   ],
   "source": [
    "!ls /home/chec/data/bengali"
   ]
  },
  {
   "cell_type": "code",
   "execution_count": 3,
   "metadata": {},
   "outputs": [],
   "source": [
    "#!ls /home/chec/data/bengali"
   ]
  },
  {
   "cell_type": "code",
   "execution_count": 4,
   "metadata": {},
   "outputs": [],
   "source": [
    "DATA_DIR = '/home/chec/data/bengali'"
   ]
  },
  {
   "cell_type": "code",
   "execution_count": 5,
   "metadata": {},
   "outputs": [],
   "source": [
    "train_df = pd.read_csv(f'{DATA_DIR}/train.csv')\n",
    "test_df = pd.read_csv(f'{DATA_DIR}/test.csv')\n",
    "class_map_df = pd.read_csv(f'{DATA_DIR}/class_map.csv')\n",
    "sample_sub_df = pd.read_csv(f'{DATA_DIR}/sample_submission.csv')"
   ]
  },
  {
   "cell_type": "code",
   "execution_count": 6,
   "metadata": {},
   "outputs": [
    {
     "data": {
      "text/html": [
       "<div>\n",
       "<style scoped>\n",
       "    .dataframe tbody tr th:only-of-type {\n",
       "        vertical-align: middle;\n",
       "    }\n",
       "\n",
       "    .dataframe tbody tr th {\n",
       "        vertical-align: top;\n",
       "    }\n",
       "\n",
       "    .dataframe thead th {\n",
       "        text-align: right;\n",
       "    }\n",
       "</style>\n",
       "<table border=\"1\" class=\"dataframe\">\n",
       "  <thead>\n",
       "    <tr style=\"text-align: right;\">\n",
       "      <th></th>\n",
       "      <th>image_id</th>\n",
       "      <th>grapheme_root</th>\n",
       "      <th>vowel_diacritic</th>\n",
       "      <th>consonant_diacritic</th>\n",
       "      <th>grapheme</th>\n",
       "    </tr>\n",
       "  </thead>\n",
       "  <tbody>\n",
       "    <tr>\n",
       "      <th>0</th>\n",
       "      <td>Train_0</td>\n",
       "      <td>15</td>\n",
       "      <td>9</td>\n",
       "      <td>5</td>\n",
       "      <td>ক্ট্রো</td>\n",
       "    </tr>\n",
       "    <tr>\n",
       "      <th>1</th>\n",
       "      <td>Train_1</td>\n",
       "      <td>159</td>\n",
       "      <td>0</td>\n",
       "      <td>0</td>\n",
       "      <td>হ</td>\n",
       "    </tr>\n",
       "    <tr>\n",
       "      <th>2</th>\n",
       "      <td>Train_2</td>\n",
       "      <td>22</td>\n",
       "      <td>3</td>\n",
       "      <td>5</td>\n",
       "      <td>খ্রী</td>\n",
       "    </tr>\n",
       "    <tr>\n",
       "      <th>3</th>\n",
       "      <td>Train_3</td>\n",
       "      <td>53</td>\n",
       "      <td>2</td>\n",
       "      <td>2</td>\n",
       "      <td>র্টি</td>\n",
       "    </tr>\n",
       "    <tr>\n",
       "      <th>4</th>\n",
       "      <td>Train_4</td>\n",
       "      <td>71</td>\n",
       "      <td>9</td>\n",
       "      <td>5</td>\n",
       "      <td>থ্রো</td>\n",
       "    </tr>\n",
       "  </tbody>\n",
       "</table>\n",
       "</div>"
      ],
      "text/plain": [
       "  image_id  grapheme_root  vowel_diacritic  consonant_diacritic grapheme\n",
       "0  Train_0             15                9                    5   ক্ট্রো\n",
       "1  Train_1            159                0                    0        হ\n",
       "2  Train_2             22                3                    5     খ্রী\n",
       "3  Train_3             53                2                    2     র্টি\n",
       "4  Train_4             71                9                    5     থ্রো"
      ]
     },
     "execution_count": 6,
     "metadata": {},
     "output_type": "execute_result"
    }
   ],
   "source": [
    "train_df.head()"
   ]
  },
  {
   "cell_type": "code",
   "execution_count": 7,
   "metadata": {},
   "outputs": [],
   "source": [
    "HEIGHT = 137\n",
    "WIDTH = 236"
   ]
  },
  {
   "cell_type": "code",
   "execution_count": 8,
   "metadata": {},
   "outputs": [],
   "source": [
    "#import albumentations as albu\n",
    "def get_train_augs():\n",
    "    return RandAugment(n=2, m=27)"
   ]
  },
  {
   "cell_type": "code",
   "execution_count": 9,
   "metadata": {},
   "outputs": [],
   "source": [
    "#plt.imshow(x)"
   ]
  },
  {
   "cell_type": "code",
   "execution_count": 10,
   "metadata": {},
   "outputs": [],
   "source": [
    "#np.arange(10).copy()"
   ]
  },
  {
   "cell_type": "code",
   "execution_count": 11,
   "metadata": {},
   "outputs": [],
   "source": [
    "from torch.utils.data import DataLoader, Dataset\n",
    "from torchvision import transforms\n",
    "\n",
    "\n",
    "class BengaliDataset(Dataset):\n",
    "    def __init__(self, df, img_df, train_mode=True, test_mode=False):\n",
    "        self.df = df\n",
    "        self.img_df = img_df\n",
    "        self.train_mode = train_mode\n",
    "        self.test_mode = test_mode\n",
    "\n",
    "    def __getitem__(self, idx):\n",
    "        row = self.df.iloc[idx]\n",
    "        img = self.get_img(row.image_id)\n",
    "        orig_img = img.copy()\n",
    "        #print(img.shape)\n",
    "        if self.train_mode:\n",
    "            augs = get_train_augs()\n",
    "            #img = augs(image=img)['image']\n",
    "            img = np.asarray(augs(Image.fromarray(img)))\n",
    "        \n",
    "        img = np.expand_dims(img, axis=-1)\n",
    "        orig_img = np.expand_dims(orig_img, axis=-1)\n",
    "        \n",
    "        #print('###', img.shape)\n",
    "        #img = np.concatenate([img, img, img], 2)\n",
    "        #print('>>>', img.shape)\n",
    "        \n",
    "        # taken from https://www.kaggle.com/iafoss/image-preprocessing-128x128\n",
    "        #MEAN = [ 0.06922848809290576,  0.06922848809290576,  0.06922848809290576]\n",
    "        #STD = [ 0.20515700083327537,  0.20515700083327537,  0.20515700083327537]\n",
    "        \n",
    "        img = transforms.functional.to_tensor(img)\n",
    "        orig_img = transforms.functional.to_tensor(orig_img)\n",
    "        \n",
    "        #img = transforms.functional.normalize(img, mean=MEAN, std=STD)\n",
    "        \n",
    "        if self.test_mode:\n",
    "            return img\n",
    "        elif self.train_mode:\n",
    "            return img, orig_img, torch.tensor([row.grapheme_root, row.vowel_diacritic, row.consonant_diacritic, row.word_label])\n",
    "        else:\n",
    "            return img, torch.tensor([row.grapheme_root, row.vowel_diacritic, row.consonant_diacritic, row.word_label])\n",
    "                    \n",
    "    def get_img(self, img_id):\n",
    "        return 255 - self.img_df.loc[img_id].values.reshape(HEIGHT, WIDTH).astype(np.uint8)\n",
    "\n",
    "    def __len__(self):\n",
    "        return len(self.df)\n",
    "    \n",
    "def get_train_val_loaders(batch_size=4, val_batch_size=4, ifold=0, dev_mode=False):\n",
    "    train_df = pd.read_csv(f'{DATA_DIR}/train.csv')\n",
    "\n",
    "    train_df = shuffle(train_df, random_state=1234)\n",
    "\n",
    "    grapheme_words = np.unique(train_df.grapheme.values)\n",
    "    grapheme_words_dict = {grapheme: i for i, grapheme in enumerate(grapheme_words)}\n",
    "    train_df['word_label'] = train_df['grapheme'].map(lambda x: grapheme_words_dict[x])\n",
    "\n",
    "    print(train_df.shape)\n",
    "\n",
    "    if dev_mode:\n",
    "        img_df = pd.read_parquet(f'{DATA_DIR}/train_image_data_0.parquet').set_index('image_id')\n",
    "        train_df = train_df.iloc[:1000]\n",
    "    else:\n",
    "        img_dfs = [pd.read_parquet(f'{DATA_DIR}/train_image_data_{i}.parquet') for i in range(4)]\n",
    "        img_df = pd.concat(img_dfs, axis=0).set_index('image_id')\n",
    "    print(img_df.shape)\n",
    "    #split_index = int(len(train_df) * 0.9)\n",
    "    \n",
    "    #train = train_df.iloc[:split_index]\n",
    "    #val = train_df.iloc[split_index:]\n",
    "    \n",
    "    kf = StratifiedKFold(5, random_state=1234, shuffle=True)\n",
    "    for i, (train_idx, val_idx) in enumerate(kf.split(train_df, train_df['grapheme_root'].values)):\n",
    "        if i == ifold:\n",
    "            #print(val_idx)\n",
    "            train = train_df.iloc[train_idx]\n",
    "            val = train_df.iloc[val_idx]\n",
    "            break\n",
    "    assert i == ifold\n",
    "    print(train.shape, val.shape)\n",
    "    \n",
    "    train_ds = BengaliDataset(train, img_df, True, False)\n",
    "    val_ds = BengaliDataset(val, img_df, False, False)\n",
    "    \n",
    "    train_loader = DataLoader(train_ds, batch_size=batch_size, shuffle=True, num_workers=8, drop_last=True)\n",
    "    train_loader.num = len(train_ds)\n",
    "\n",
    "    val_loader = DataLoader(val_ds, batch_size=val_batch_size, shuffle=False, num_workers=8, drop_last=False)\n",
    "    val_loader.num = len(val_ds)\n",
    "\n",
    "    return train_loader, val_loader"
   ]
  },
  {
   "cell_type": "code",
   "execution_count": 12,
   "metadata": {},
   "outputs": [],
   "source": [
    "#train_loader, val_loader = get_train_val_loaders()"
   ]
  },
  {
   "cell_type": "code",
   "execution_count": 13,
   "metadata": {},
   "outputs": [],
   "source": [
    "#for x in train_loader:\n",
    "#    print(x)\n",
    "#    break"
   ]
  },
  {
   "cell_type": "markdown",
   "metadata": {},
   "source": [
    "# model"
   ]
  },
  {
   "cell_type": "code",
   "execution_count": 14,
   "metadata": {},
   "outputs": [],
   "source": [
    "#import pretrainedmodels"
   ]
  },
  {
   "cell_type": "code",
   "execution_count": 15,
   "metadata": {},
   "outputs": [],
   "source": [
    "#model_name = 'resnet50' # could be fbresnet152 or inceptionresnetv2\n",
    "#model = pretrainedmodels.__dict__[model_name](num_classes=1000, pretrained='imagenet').cuda()\n",
    "#model.eval()"
   ]
  },
  {
   "cell_type": "code",
   "execution_count": 16,
   "metadata": {},
   "outputs": [],
   "source": [
    "from argparse import Namespace\n",
    "import timm\n",
    "from timm.models.activations import Swish, Mish\n",
    "from timm.models.adaptive_avgmax_pool import SelectAdaptivePool2d"
   ]
  },
  {
   "cell_type": "code",
   "execution_count": 17,
   "metadata": {},
   "outputs": [],
   "source": [
    "MEAN = [ 0.06922848809290576 ]\n",
    "STD = [ 0.20515700083327537 ]"
   ]
  },
  {
   "cell_type": "code",
   "execution_count": 18,
   "metadata": {},
   "outputs": [],
   "source": [
    "MEAN = [ 0.06922848809290576 ]\n",
    "STD = [ 0.20515700083327537 ]\n",
    "import timm\n",
    "from timm.models.activations import Swish, Mish\n",
    "from timm.models.adaptive_avgmax_pool import SelectAdaptivePool2d\n",
    "\n",
    "class BengaliNet4(nn.Module):\n",
    "    def __init__(self, backbone_name='se_resnext50_32x4d'):\n",
    "        super(BengaliNet4, self).__init__()\n",
    "        self.n_grapheme = 168\n",
    "        self.n_vowel = 11\n",
    "        self.n_consonant = 7\n",
    "        self.n_word = 1295\n",
    "        self.backbone_name = backbone_name\n",
    "        \n",
    "        self.num_classes = self.n_grapheme + self.n_vowel + self.n_consonant + self.n_word\n",
    "        \n",
    "        self.backbone = pretrainedmodels.__dict__[self.backbone_name](num_classes=1000, pretrained='imagenet')\n",
    "        self.fc = nn.Linear(self.backbone.last_linear.in_features, self.num_classes)\n",
    "        \n",
    "        self.num_p2_features = self.backbone.layer2[-1].se_module.fc2.out_channels\n",
    "        self.num_p3_features = self.backbone.layer3[-1].se_module.fc2.out_channels\n",
    "        self.p2_head = nn.Conv2d(self.num_p2_features, self.num_p2_features * 4, kernel_size=(1, 1), stride=(1, 1), bias=False)\n",
    "        self.p3_head = nn.Conv2d(self.num_p3_features, self.num_p3_features * 4, kernel_size=(1, 1), stride=(1, 1), bias=False)\n",
    "        self.bn2 = nn.BatchNorm2d(self.num_p2_features * 4)\n",
    "        self.bn3 = nn.BatchNorm2d(self.num_p3_features * 4)\n",
    "        self.act2 = Swish()\n",
    "        self.act3 = Swish()\n",
    "        \n",
    "        self.fc_aux1 = nn.Linear(self.num_p3_features * 4, self.num_classes)\n",
    "        self.fc_aux2 = nn.Linear(self.num_p2_features * 4, self.num_classes)\n",
    "        \n",
    "        self.avg_pool = nn.AdaptiveAvgPool2d(1)\n",
    "        \n",
    "        for fc in [self.fc, self.fc_aux1, self.fc_aux2]:\n",
    "            nn.init.zeros_(fc.bias.data)\n",
    "\n",
    "        print('init model4')\n",
    "        \n",
    "    def features(self, x):\n",
    "        x = self.backbone.layer0(x); #print(x.size())\n",
    "        x = self.backbone.layer1(x); #print(x.size())\n",
    "        x = self.backbone.layer2(x); p2 = x; p2 = self.p2_head(p2); p2 = self.bn2(p2); p2 = self.act2(p2) #print(x.size())\n",
    "        x = self.backbone.layer3(x); p3 = x; p3 = self.p3_head(p3); p3 = self.bn3(p3); p3 = self.act3(p3) #print(x.size())\n",
    "        x = self.backbone.layer4(x); #print(x.size())\n",
    "        return x, p2, p3\n",
    "        \n",
    "    def logits(self, x, p2, p3):\n",
    "        x = self.avg_pool(x)\n",
    "        #x = F.dropout2d(x, 0.2, self.training)\n",
    "        x = torch.flatten(x, 1)\n",
    "        \n",
    "        p2 = self.avg_pool(p2)\n",
    "        p2 = torch.flatten(p2, 1)\n",
    "        \n",
    "        p3 = self.avg_pool(p3)\n",
    "        p3 = torch.flatten(p3, 1)\n",
    "        return self.fc(x), self.fc_aux1(p3), self.fc_aux2(p2)\n",
    "    \n",
    "    def forward(self, x):\n",
    "        x = F.interpolate(x, size=(224,224), mode='bilinear', align_corners=False)\n",
    "        for i in range(len(x)):\n",
    "            transforms.functional.normalize(x[i], mean=MEAN, std=STD, inplace=True)\n",
    "        x = torch.cat([x,x,x], 1)\n",
    "        #x = self.conv0(x)\n",
    "        #print(x.size())\n",
    "        x, p2, p3 = self.features(x)\n",
    "        x, logits_aux1, logits_aux2 = self.logits(x, p2, p3)\n",
    "\n",
    "        return x, logits_aux1, logits_aux2"
   ]
  },
  {
   "cell_type": "code",
   "execution_count": null,
   "metadata": {},
   "outputs": [],
   "source": []
  },
  {
   "cell_type": "code",
   "execution_count": 19,
   "metadata": {},
   "outputs": [],
   "source": [
    "MODEL_DIR = './model4-ckps'\n",
    "def create_model(args):\n",
    "    model = BengaliNet4(args.backbone)\n",
    "    model_file = os.path.join(MODEL_DIR, args.backbone, args.ckp_name)\n",
    "\n",
    "    parent_dir = os.path.dirname(model_file)\n",
    "    if not os.path.exists(parent_dir):\n",
    "        os.makedirs(parent_dir)\n",
    "\n",
    "    print('model file: {}, exist: {}'.format(model_file, os.path.exists(model_file)))\n",
    "\n",
    "    if os.path.exists(model_file):\n",
    "        print('loading {}...'.format(model_file))\n",
    "        model.load_state_dict(torch.load(model_file))\n",
    "    \n",
    "    return model, model_file"
   ]
  },
  {
   "cell_type": "code",
   "execution_count": 20,
   "metadata": {},
   "outputs": [],
   "source": [
    "#bnet = BengaliNet('se_resnext50_32x4d').cuda()"
   ]
  },
  {
   "cell_type": "code",
   "execution_count": 21,
   "metadata": {},
   "outputs": [],
   "source": [
    "#bnet(torch.randn((2, 1, 137, 236)).cuda()).size()"
   ]
  },
  {
   "cell_type": "markdown",
   "metadata": {},
   "source": [
    "# train"
   ]
  },
  {
   "cell_type": "code",
   "execution_count": 22,
   "metadata": {},
   "outputs": [
    {
     "data": {
      "text/plain": [
       "0.111111"
      ]
     },
     "execution_count": 22,
     "metadata": {},
     "output_type": "execute_result"
    }
   ],
   "source": [
    "round(1/9, 6)"
   ]
  },
  {
   "cell_type": "code",
   "execution_count": 23,
   "metadata": {},
   "outputs": [],
   "source": [
    "import numpy as np\n",
    "import sklearn.metrics\n",
    "import torch\n",
    "\n",
    "\n",
    "def calc_metrics(preds0, preds1, preds2, preds3, y):\n",
    "    assert len(y) == len(preds0) == len(preds1) == len(preds2) == len(preds3)\n",
    "\n",
    "    recall_grapheme = sklearn.metrics.recall_score(preds0, y[:, 0], average='macro')\n",
    "    recall_vowel = sklearn.metrics.recall_score(preds1, y[:, 1], average='macro')\n",
    "    recall_consonant = sklearn.metrics.recall_score(preds2, y[:, 2], average='macro')\n",
    "    recall_word = sklearn.metrics.recall_score(preds3, y[:, 3], average='macro')\n",
    "    \n",
    "    scores = [recall_grapheme, recall_vowel, recall_consonant]\n",
    "    final_recall_score = np.average(scores, weights=[2, 1, 1])\n",
    "    \n",
    "    metrics = {}\n",
    "    metrics['recall'] = round(final_recall_score, 6)\n",
    "    metrics['recall_grapheme'] = round(recall_grapheme, 6)\n",
    "    metrics['recall_vowel'] = round(recall_vowel, 6)\n",
    "    metrics['recall_consonant'] = round(recall_consonant, 6)\n",
    "    metrics['recall_word'] = round(recall_word, 6)\n",
    "    \n",
    "    metrics['acc_grapheme'] = round((preds0 == y[:, 0]).sum() / len(y), 6)\n",
    "    metrics['acc_vowel'] = round((preds1 == y[:, 1]).sum() / len(y), 6)\n",
    "    metrics['acc_consonant'] = round((preds2 == y[:, 2]).sum() / len(y), 6)\n",
    "    metrics['acc_word'] = round((preds3 == y[:, 3]).sum() / len(y), 6)    \n",
    "    \n",
    "    return metrics"
   ]
  },
  {
   "cell_type": "code",
   "execution_count": 24,
   "metadata": {},
   "outputs": [],
   "source": [
    "def criterion(outputs, y_true):\n",
    "    # outputs: (N, 182)\n",
    "    # y_true: (N, 3)\n",
    "    \n",
    "    outputs = torch.split(outputs, [168, 11, 7, 1295], dim=1)\n",
    "    loss0 = F.cross_entropy(outputs[0], y_true[:, 0], reduction='mean')\n",
    "    loss1 = F.cross_entropy(outputs[1], y_true[:, 1], reduction='mean')\n",
    "    loss2 = F.cross_entropy(outputs[2], y_true[:, 2], reduction='mean')\n",
    "    loss3 = F.cross_entropy(outputs[3], y_true[:, 3], reduction='mean')\n",
    "    \n",
    "    return loss0 + loss1 + loss2 + loss3 #, loss0.item(), loss1.item(), loss2.item()\n",
    "    #return loss3"
   ]
  },
  {
   "cell_type": "code",
   "execution_count": 25,
   "metadata": {},
   "outputs": [],
   "source": [
    "def validate(model, val_loader):\n",
    "    model.eval()\n",
    "    loss0, loss1, loss2, loss3 = 0., 0., 0., 0.\n",
    "    preds0, preds1, preds2, preds3 = [], [], [], []\n",
    "    y_true = []\n",
    "    with torch.no_grad():\n",
    "        for x, y in val_loader:\n",
    "            y_true.append(y)\n",
    "            x, y = x.cuda(), y.cuda()\n",
    "            outputs, outputs_aux1, outputs_aux2 = model(x)\n",
    "            #avg_outputs = torch.mean(torch.stack([outputs, outputs_aux1, outputs_aux2], 0), 0)\n",
    "            outputs = torch.split(outputs, [168, 11, 7, 1295], dim=1)\n",
    "            \n",
    "            preds0.append(torch.max(outputs[0], dim=1)[1])\n",
    "            preds1.append(torch.max(outputs[1], dim=1)[1])\n",
    "            preds2.append(torch.max(outputs[2], dim=1)[1])\n",
    "            preds3.append(torch.max(outputs[3], dim=1)[1])\n",
    "            loss0 += F.cross_entropy(outputs[0], y[:, 0], reduction='sum').item()\n",
    "            loss1 += F.cross_entropy(outputs[1], y[:, 1], reduction='sum').item()\n",
    "            loss2 += F.cross_entropy(outputs[2], y[:, 2], reduction='sum').item()\n",
    "            loss3 += F.cross_entropy(outputs[3], y[:, 3], reduction='sum').item()\n",
    "            \n",
    "            # for debug\n",
    "            #metrics = {}\n",
    "            #metrics['loss_grapheme'] =  F.cross_entropy(outputs[0], y[:, 0], reduction='mean').item()\n",
    "            #metrics['loss_vowel'] =  F.cross_entropy(outputs[1], y[:, 1], reduction='mean').item()\n",
    "            #metrics['loss_consonant'] =  F.cross_entropy(outputs[2], y[:, 2], reduction='mean').item()\n",
    "            #return metrics\n",
    "    \n",
    "    preds0 = torch.cat(preds0, 0).cpu().numpy()\n",
    "    preds1 = torch.cat(preds1, 0).cpu().numpy()\n",
    "    preds2 = torch.cat(preds2, 0).cpu().numpy()\n",
    "    preds3 = torch.cat(preds3, 0).cpu().numpy()\n",
    "    \n",
    "    y_true = torch.cat(y_true, 0).numpy()\n",
    "    \n",
    "    #print('y_true:', y_true.shape)\n",
    "    #print('preds0:', preds0.shape)\n",
    "    \n",
    "    metrics = calc_metrics(preds0, preds1, preds2, preds3, y_true)\n",
    "    metrics['loss_grapheme'] = round(loss0 / val_loader.num, 6)\n",
    "    metrics['loss_vowel'] = round(loss1 / val_loader.num, 6)\n",
    "    metrics['loss_consonant'] = round(loss2 / val_loader.num, 6)\n",
    "    metrics['loss_word'] = round(loss3 / val_loader.num, 6)\n",
    "    \n",
    "    return metrics\n",
    "            "
   ]
  },
  {
   "cell_type": "code",
   "execution_count": null,
   "metadata": {},
   "outputs": [],
   "source": []
  },
  {
   "cell_type": "code",
   "execution_count": 26,
   "metadata": {},
   "outputs": [],
   "source": [
    "def get_lrs(optimizer):\n",
    "    lrs = []\n",
    "    for pgs in optimizer.state_dict()['param_groups']:\n",
    "        lrs.append(pgs['lr'])\n",
    "    lrs = ['{:.6f}'.format(x) for x in lrs]\n",
    "    return lrs"
   ]
  },
  {
   "cell_type": "code",
   "execution_count": 27,
   "metadata": {},
   "outputs": [],
   "source": [
    "def save_model(model, model_file):\n",
    "    parent_dir = os.path.dirname(model_file)\n",
    "    if not os.path.exists(parent_dir):\n",
    "        os.makedirs(parent_dir)\n",
    "    if isinstance(model, nn.DataParallel):\n",
    "        torch.save(model.module.state_dict(), model_file)\n",
    "    else:\n",
    "        torch.save(model.state_dict(), model_file)"
   ]
  },
  {
   "cell_type": "code",
   "execution_count": 28,
   "metadata": {},
   "outputs": [],
   "source": [
    "def mixup(data, targets, alpha=1):\n",
    "    indices = torch.randperm(data.size(0))\n",
    "    shuffled_data = data[indices]\n",
    "    shuffled_targets = targets[indices]\n",
    "\n",
    "    lam = np.random.beta(alpha, alpha)\n",
    "    data = data * lam + shuffled_data * (1 - lam)\n",
    "    targets = (targets, shuffled_targets, lam)\n",
    "\n",
    "    return data, targets\n",
    "\n",
    "\n",
    "def mixup_criterion(outputs, targets):\n",
    "    targets1, targets2, lam = targets\n",
    "    #criterion = nn.CrossEntropyLoss(reduction='mean')\n",
    "    return lam * criterion(outputs, targets1) + (1 - lam) * criterion(outputs, targets2)"
   ]
  },
  {
   "cell_type": "code",
   "execution_count": 29,
   "metadata": {},
   "outputs": [],
   "source": [
    "def rand_bbox(size, lam):\n",
    "    W = size[2]\n",
    "    H = size[3]\n",
    "    cut_rat = np.sqrt(1. - lam)\n",
    "    cut_w = np.int(W * cut_rat)\n",
    "    cut_h = np.int(H * cut_rat)\n",
    "\n",
    "    # uniform\n",
    "    cx = np.random.randint(W)\n",
    "    cy = np.random.randint(H)\n",
    "\n",
    "    bbx1 = np.clip(cx - cut_w // 2, 0, W)\n",
    "    bby1 = np.clip(cy - cut_h // 2, 0, H)\n",
    "    bbx2 = np.clip(cx + cut_w // 2, 0, W)\n",
    "    bby2 = np.clip(cy + cut_h // 2, 0, H)\n",
    "\n",
    "    return bbx1, bby1, bbx2, bby2"
   ]
  },
  {
   "cell_type": "code",
   "execution_count": 30,
   "metadata": {},
   "outputs": [
    {
     "data": {
      "text/plain": [
       "0.2899083686064823"
      ]
     },
     "execution_count": 30,
     "metadata": {},
     "output_type": "execute_result"
    }
   ],
   "source": [
    "np.random.random()"
   ]
  },
  {
   "cell_type": "code",
   "execution_count": 31,
   "metadata": {},
   "outputs": [],
   "source": [
    "from over9000.over9000 import Over9000\n",
    "from over9000.radam import RAdam\n",
    "from gridmask import GridMask"
   ]
  },
  {
   "cell_type": "code",
   "execution_count": 32,
   "metadata": {},
   "outputs": [],
   "source": [
    "from cvcore.solver import WarmupCyclicalLR\n",
    "def make_optimizer(model, base_lr=4e-4, weight_decay=0., weight_decay_bias=0., epsilon=1e-3):\n",
    "    \"\"\"\n",
    "    Create optimizer with per-layer learning rate and weight decay.\n",
    "    \"\"\"\n",
    "    params = []\n",
    "    for key, value in model.named_parameters():\n",
    "        if not value.requires_grad:\n",
    "            continue\n",
    "        lr = base_lr\n",
    "        params += [{\"params\": [value], \"lr\": lr, \"weight_decay\": weight_decay_bias if 'bias' in key else weight_decay}]\n",
    "    \n",
    "    optimizer = torch.optim.AdamW(params, lr, eps=epsilon)\n",
    "    return optimizer"
   ]
  },
  {
   "cell_type": "code",
   "execution_count": 33,
   "metadata": {},
   "outputs": [],
   "source": [
    "def train_epoch(args, model, train_loader, epoch, optimizer, lr_scheduler, grid):\n",
    "    train_loss = 0\n",
    "\n",
    "    for batch_idx, (img, orig_img, targets) in enumerate(train_loader):\n",
    "        img, orig_img, targets  = img.cuda(), orig_img.cuda(), targets.cuda()\n",
    "        batch_size = img.size(0)\n",
    "        r = np.random.rand()\n",
    "\n",
    "        if r < 0.3:\n",
    "            # generate mixed sample\n",
    "            lam = np.random.beta(args.beta, args.beta)\n",
    "            rand_index = torch.randperm(img.size()[0]).cuda()\n",
    "            target_a = targets\n",
    "            target_b = targets[rand_index]\n",
    "            bbx1, bby1, bbx2, bby2 = rand_bbox(img.size(), lam)\n",
    "            #img[:, :, bby1:bby2, bbx1:bbx2] = img[rand_index, :, bby1:bby2, bbx1:bbx2] #for new cutmix\n",
    "            img[:, :, bbx1:bbx2, bby1:bby2] = img[rand_index, :, bbx1:bbx2, bby1:bby2]\n",
    "            \n",
    "            # adjust lambda to exactly match pixel ratio\n",
    "            lam = 1 - ((bbx2 - bbx1) * (bby2 - bby1) / (img.size()[-1] * img.size()[-2]))\n",
    "            # compute output\n",
    "            outputs, outputs_aux1, outputs_aux2 = model(img)\n",
    "            loss_primary = criterion(outputs, target_a) * lam + criterion(outputs, target_b) * (1. - lam)\n",
    "            loss_aux1 = criterion(outputs_aux1, target_a) * lam + criterion(outputs_aux1, target_b) * (1. - lam)\n",
    "            loss_aux2 = criterion(outputs_aux2, target_a) * lam + criterion(outputs_aux2, target_b) * (1. - lam)\n",
    "            loss = loss_primary + (loss_aux1 + loss_aux2)*0.8\n",
    "        elif r > 0.7:\n",
    "            img = grid(img)\n",
    "            outputs, outputs_aux1, outputs_aux2 = model(img)\n",
    "            loss_primary = criterion(outputs, targets)\n",
    "            loss_aux1 = criterion(outputs_aux1, targets)\n",
    "            loss_aux2 = criterion(outputs_aux2, targets)\n",
    "            loss = loss_primary + (loss_aux1 + loss_aux2)*0.8\n",
    "        else:\n",
    "            orig_img, targets = mixup(orig_img, targets)\n",
    "            outputs, outputs_aux1, outputs_aux2 = model(orig_img)\n",
    "            loss_primary = mixup_criterion(outputs, targets)\n",
    "            loss_aux1 = mixup_criterion(outputs_aux1, targets)\n",
    "            loss_aux2 = mixup_criterion(outputs_aux2, targets)\n",
    "            loss = loss_primary + (loss_aux1 + loss_aux2)*0.8\n",
    "            #loss = criterion(outputs, targets)\n",
    "\n",
    "        optimizer.zero_grad()\n",
    "        with amp.scale_loss(loss, optimizer) as scaled_loss:\n",
    "            scaled_loss.backward()\n",
    "        #loss.backward()\n",
    "        lr_scheduler(optimizer, batch_idx, epoch)\n",
    "        optimizer.step()            \n",
    "        \n",
    "        current_lr = get_lrs(optimizer)\n",
    "\n",
    "        train_loss += loss.item()\n",
    "        print('\\r {:4d} | {:.6f} | {:06d}/{} | {:.4f} | {:.4f} |'.format(\n",
    "            epoch, float(current_lr[0]), batch_size*(batch_idx+1), train_loader.num, \n",
    "            loss.item(), train_loss/(batch_idx+1)), end='')\n"
   ]
  },
  {
   "cell_type": "code",
   "execution_count": 34,
   "metadata": {},
   "outputs": [],
   "source": [
    "best_metrics = 0.\n",
    "\n",
    "def validate_and_save(model, model_file, val_loader, save=False):\n",
    "    global best_metrics\n",
    "    best_key = 'recall'\n",
    "    val_metrics = validate(model, val_loader)\n",
    "    print('\\nval:', val_metrics)\n",
    "    \n",
    "    if val_metrics[best_key] > best_metrics:\n",
    "        best_metrics = val_metrics[best_key]\n",
    "        if save:\n",
    "            save_model(model, model_file)\n",
    "            print('###>>>>> saved', model_file)\n",
    "    model.train()\n",
    "    \n",
    "\n",
    "def train(args):\n",
    "    model, model_file = create_model(args)\n",
    "    model = model.cuda()\n",
    "\n",
    "    swa_model, _ = create_model(args)\n",
    "    swa_model = swa_model.cuda()\n",
    "    swa_model_file = model_file\n",
    "\n",
    "    optimizer = make_optimizer(model)\n",
    "    lr_scheduler = WarmupCyclicalLR(\n",
    "        \"cos\", args.base_lr, args.num_epochs, iters_per_epoch=len(train_loader), warmup_epochs=args.warmup_epochs)\n",
    "    \n",
    "    [model, swa_model], optimizer = amp.initialize([model, swa_model], optimizer, opt_level=\"O1\",verbosity=0)\n",
    "    \n",
    "    if torch.cuda.device_count() > 1:\n",
    "        model = nn.DataParallel(model)\n",
    "        swa_model = nn.DataParallel(swa_model)\n",
    "    \n",
    "    validate_and_save(model, model_file, val_loader, save=False)\n",
    "    \n",
    "    for cycle in range(1, args.num_cycles+1):\n",
    "        print('CYCLE:', cycle)\n",
    "        grid = GridMask(64, 128, rotate=15, ratio=0.6, mode=1, prob=1.)\n",
    "\n",
    "        for epoch in range(args.start_epoch, args.num_epochs):\n",
    "            grid.set_prob(epoch, args.st_epochs)\n",
    "            train_epoch(args, model, train_loader, epoch, optimizer, lr_scheduler, grid)\n",
    "            validate_and_save(model, model_file, val_loader, save=True)\n",
    "            \n",
    "            if (epoch+1) == args.swa_start and cycle == 1:\n",
    "                copy_model(swa_model, model)\n",
    "                swa_n = 0\n",
    "            if (epoch+1) >= args.swa_start and (epoch+1) % args.swa_freq == 0:\n",
    "                print('SWA>>>:')\n",
    "                moving_average(swa_model, model, 1.0 / (swa_n + 1))\n",
    "                swa_n += 1\n",
    "                bn_update(train_loader, swa_model)\n",
    "                validate_and_save(swa_model, swa_model_file, val_loader, save=True)\n",
    "\n",
    "        # reset scheduler at each cycle\n",
    "        lr_scheduler = WarmupCyclicalLR(\n",
    "            \"cos\", args.base_lr, args.num_epochs, iters_per_epoch=len(train_loader), warmup_epochs=args.warmup_epochs)"
   ]
  },
  {
   "cell_type": "code",
   "execution_count": 35,
   "metadata": {},
   "outputs": [],
   "source": [
    "args = Namespace()\n",
    "args.backbone = 'se_resnext50_32x4d'\n",
    "args.ckp_name = 'model4_se_resnext50_fold0_224.pth'\n",
    "\n",
    "args.base_lr = 8e-5\n",
    "args.num_epochs = 80\n",
    "args.start_epoch = 19\n",
    "args.warmup_epochs = 5\n",
    "\n",
    "args.num_cycles = 100\n",
    "args.batch_size = 640\n",
    "args.val_batch_size = 1024\n",
    "args.st_epochs = 10\n",
    "\n",
    "args.swa_start = 20\n",
    "args.swa_freq = 2\n",
    "\n",
    "args.beta = 1.0\n",
    "args.cutmix_prob = 0.5"
   ]
  },
  {
   "cell_type": "code",
   "execution_count": 36,
   "metadata": {},
   "outputs": [
    {
     "name": "stdout",
     "output_type": "stream",
     "text": [
      "(200840, 6)\n",
      "(200840, 32332)\n",
      "(160596, 6) (40244, 6)\n"
     ]
    }
   ],
   "source": [
    "train_loader, val_loader = get_train_val_loaders(batch_size=args.batch_size, val_batch_size=args.val_batch_size, ifold=0)"
   ]
  },
  {
   "cell_type": "code",
   "execution_count": 37,
   "metadata": {},
   "outputs": [],
   "source": [
    "#for param in model.backbone.parameters():\n",
    "#    param.requires_grad = False"
   ]
  },
  {
   "cell_type": "code",
   "execution_count": 38,
   "metadata": {},
   "outputs": [],
   "source": [
    "#validate(nn.DataParallel(model), val_loader)"
   ]
  },
  {
   "cell_type": "code",
   "execution_count": null,
   "metadata": {},
   "outputs": [
    {
     "name": "stdout",
     "output_type": "stream",
     "text": [
      "init model4\n",
      "model file: ./model4-ckps/se_resnext50_32x4d/model4_se_resnext50_fold0_224.pth, exist: True\n",
      "loading ./model4-ckps/se_resnext50_32x4d/model4_se_resnext50_fold0_224.pth...\n",
      "init model4\n",
      "model file: ./model4-ckps/se_resnext50_32x4d/model4_se_resnext50_fold0_224.pth, exist: True\n",
      "loading ./model4-ckps/se_resnext50_32x4d/model4_se_resnext50_fold0_224.pth...\n",
      "\n",
      "val: {'recall': 0.998106, 'recall_grapheme': 0.997877, 'recall_vowel': 0.998523, 'recall_consonant': 0.998147, 'recall_word': 0.997093, 'acc_grapheme': 0.997391, 'acc_vowel': 0.998683, 'acc_consonant': 0.998807, 'acc_word': 0.997217, 'loss_grapheme': 0.01219, 'loss_vowel': 0.005514, 'loss_consonant': 0.004544, 'loss_word': 0.012465}\n",
      "CYCLE: 1\n",
      "   19 | 0.000068 | 160000/160596 | 1.0700 | 8.1689 |||"
     ]
    },
    {
     "name": "stderr",
     "output_type": "stream",
     "text": [
      "\r",
      "  0%|          | 0/250 [00:00<?, ?it/s]"
     ]
    },
    {
     "name": "stdout",
     "output_type": "stream",
     "text": [
      "\n",
      "val: {'recall': 0.997691, 'recall_grapheme': 0.99708, 'recall_vowel': 0.998611, 'recall_consonant': 0.997992, 'recall_word': 0.996728, 'acc_grapheme': 0.996993, 'acc_vowel': 0.998708, 'acc_consonant': 0.998758, 'acc_word': 0.996844, 'loss_grapheme': 0.026619, 'loss_vowel': 0.018161, 'loss_consonant': 0.01498, 'loss_word': 0.018931}\n",
      "SWA>>>:\n"
     ]
    },
    {
     "name": "stderr",
     "output_type": "stream",
     "text": [
      "100%|██████████| 250/250 [01:27<00:00,  2.98it/s]\n"
     ]
    },
    {
     "name": "stdout",
     "output_type": "stream",
     "text": [
      "\n",
      "val: {'recall': 0.99786, 'recall_grapheme': 0.997545, 'recall_vowel': 0.998446, 'recall_consonant': 0.997903, 'recall_word': 0.996715, 'acc_grapheme': 0.997018, 'acc_vowel': 0.998683, 'acc_consonant': 0.998683, 'acc_word': 0.996844, 'loss_grapheme': 0.012877, 'loss_vowel': 0.005653, 'loss_consonant': 0.004641, 'loss_word': 0.013015}\n",
      "   20 | 0.000067 | 160000/160596 | 4.0042 | 7.1472 ||\n",
      "val: {'recall': 0.997762, 'recall_grapheme': 0.997242, 'recall_vowel': 0.998623, 'recall_consonant': 0.997942, 'recall_word': 0.99666, 'acc_grapheme': 0.996944, 'acc_vowel': 0.998658, 'acc_consonant': 0.998608, 'acc_word': 0.996745, 'loss_grapheme': 0.028523, 'loss_vowel': 0.017524, 'loss_consonant': 0.014712, 'loss_word': 0.021564}\n",
      "   21 | 0.000066 | 160000/160596 | 2.2736 | 7.6636 |||"
     ]
    },
    {
     "name": "stderr",
     "output_type": "stream",
     "text": [
      "\r",
      "  0%|          | 0/250 [00:00<?, ?it/s]"
     ]
    },
    {
     "name": "stdout",
     "output_type": "stream",
     "text": [
      "\n",
      "val: {'recall': 0.997602, 'recall_grapheme': 0.996863, 'recall_vowel': 0.998731, 'recall_consonant': 0.997949, 'recall_word': 0.996485, 'acc_grapheme': 0.996745, 'acc_vowel': 0.998832, 'acc_consonant': 0.998658, 'acc_word': 0.996571, 'loss_grapheme': 0.071363, 'loss_vowel': 0.046929, 'loss_consonant': 0.035549, 'loss_word': 0.044541}\n",
      "SWA>>>:\n"
     ]
    },
    {
     "name": "stderr",
     "output_type": "stream",
     "text": [
      "100%|██████████| 250/250 [01:28<00:00,  2.98it/s]\n"
     ]
    },
    {
     "name": "stdout",
     "output_type": "stream",
     "text": [
      "\n",
      "val: {'recall': 0.997968, 'recall_grapheme': 0.997697, 'recall_vowel': 0.998562, 'recall_consonant': 0.997917, 'recall_word': 0.996879, 'acc_grapheme': 0.997242, 'acc_vowel': 0.998758, 'acc_consonant': 0.998758, 'acc_word': 0.996993, 'loss_grapheme': 0.012726, 'loss_vowel': 0.005734, 'loss_consonant': 0.004588, 'loss_word': 0.012872}\n",
      "   22 | 0.000065 | 160000/160596 | 1.3654 | 6.8976 ||\n",
      "val: {'recall': 0.997404, 'recall_grapheme': 0.997035, 'recall_vowel': 0.998001, 'recall_consonant': 0.997547, 'recall_word': 0.996032, 'acc_grapheme': 0.996645, 'acc_vowel': 0.99841, 'acc_consonant': 0.998608, 'acc_word': 0.996148, 'loss_grapheme': 0.035348, 'loss_vowel': 0.024273, 'loss_consonant': 0.018896, 'loss_word': 0.025392}\n",
      "   23 | 0.000064 | 160000/160596 | 19.5791 | 7.3241 ||"
     ]
    },
    {
     "name": "stderr",
     "output_type": "stream",
     "text": [
      "\r",
      "  0%|          | 0/250 [00:00<?, ?it/s]"
     ]
    },
    {
     "name": "stdout",
     "output_type": "stream",
     "text": [
      "\n",
      "val: {'recall': 0.99756, 'recall_grapheme': 0.996909, 'recall_vowel': 0.998511, 'recall_consonant': 0.997911, 'recall_word': 0.996452, 'acc_grapheme': 0.99667, 'acc_vowel': 0.998658, 'acc_consonant': 0.998484, 'acc_word': 0.996546, 'loss_grapheme': 0.072542, 'loss_vowel': 0.045721, 'loss_consonant': 0.034304, 'loss_word': 0.047645}\n",
      "SWA>>>:\n"
     ]
    },
    {
     "name": "stderr",
     "output_type": "stream",
     "text": [
      "100%|██████████| 250/250 [01:27<00:00,  2.79it/s]\n"
     ]
    },
    {
     "name": "stdout",
     "output_type": "stream",
     "text": [
      "\n",
      "val: {'recall': 0.997994, 'recall_grapheme': 0.997695, 'recall_vowel': 0.998522, 'recall_consonant': 0.998063, 'recall_word': 0.996964, 'acc_grapheme': 0.997217, 'acc_vowel': 0.998708, 'acc_consonant': 0.998782, 'acc_word': 0.997043, 'loss_grapheme': 0.012242, 'loss_vowel': 0.005629, 'loss_consonant': 0.004503, 'loss_word': 0.012535}\n",
      "   24 | 0.000062 | 160000/160596 | 1.3527 | 7.2692 ||\n",
      "val: {'recall': 0.997449, 'recall_grapheme': 0.996624, 'recall_vowel': 0.998577, 'recall_consonant': 0.997969, 'recall_word': 0.996069, 'acc_grapheme': 0.996645, 'acc_vowel': 0.998559, 'acc_consonant': 0.998608, 'acc_word': 0.996198, 'loss_grapheme': 0.034463, 'loss_vowel': 0.021324, 'loss_consonant': 0.018752, 'loss_word': 0.023038}\n",
      "   25 | 0.000061 | 160000/160596 | 9.4318 | 7.6110 |||"
     ]
    },
    {
     "name": "stderr",
     "output_type": "stream",
     "text": [
      "\r",
      "  0%|          | 0/250 [00:00<?, ?it/s]"
     ]
    },
    {
     "name": "stdout",
     "output_type": "stream",
     "text": [
      "\n",
      "val: {'recall': 0.997591, 'recall_grapheme': 0.996971, 'recall_vowel': 0.998324, 'recall_consonant': 0.998098, 'recall_word': 0.99633, 'acc_grapheme': 0.996894, 'acc_vowel': 0.998559, 'acc_consonant': 0.998683, 'acc_word': 0.996422, 'loss_grapheme': 0.028025, 'loss_vowel': 0.018164, 'loss_consonant': 0.015097, 'loss_word': 0.021197}\n",
      "SWA>>>:\n"
     ]
    },
    {
     "name": "stderr",
     "output_type": "stream",
     "text": [
      "100%|██████████| 250/250 [01:27<00:00,  2.94it/s]\n"
     ]
    },
    {
     "name": "stdout",
     "output_type": "stream",
     "text": [
      "\n",
      "val: {'recall': 0.998044, 'recall_grapheme': 0.99776, 'recall_vowel': 0.998564, 'recall_consonant': 0.998091, 'recall_word': 0.997037, 'acc_grapheme': 0.997316, 'acc_vowel': 0.998708, 'acc_consonant': 0.998782, 'acc_word': 0.997142, 'loss_grapheme': 0.012112, 'loss_vowel': 0.00557, 'loss_consonant': 0.004459, 'loss_word': 0.012509}\n",
      "   26 | 0.000060 | 160000/160596 | 1.2393 | 7.6547 ||\n",
      "val: {'recall': 0.99718, 'recall_grapheme': 0.996269, 'recall_vowel': 0.998391, 'recall_consonant': 0.997793, 'recall_word': 0.99547, 'acc_grapheme': 0.996124, 'acc_vowel': 0.998559, 'acc_consonant': 0.99836, 'acc_word': 0.995527, 'loss_grapheme': 0.052218, 'loss_vowel': 0.031523, 'loss_consonant': 0.028451, 'loss_word': 0.034083}\n",
      "   27 | 0.000058 | 160000/160596 | 2.9560 | 6.8399 |||"
     ]
    },
    {
     "name": "stderr",
     "output_type": "stream",
     "text": [
      "\r",
      "  0%|          | 0/250 [00:00<?, ?it/s]"
     ]
    },
    {
     "name": "stdout",
     "output_type": "stream",
     "text": [
      "\n",
      "val: {'recall': 0.997519, 'recall_grapheme': 0.996906, 'recall_vowel': 0.998486, 'recall_consonant': 0.997779, 'recall_word': 0.996139, 'acc_grapheme': 0.996447, 'acc_vowel': 0.998708, 'acc_consonant': 0.998509, 'acc_word': 0.996223, 'loss_grapheme': 0.030715, 'loss_vowel': 0.017932, 'loss_consonant': 0.01622, 'loss_word': 0.022092}\n",
      "SWA>>>:\n"
     ]
    },
    {
     "name": "stderr",
     "output_type": "stream",
     "text": [
      "100%|██████████| 250/250 [01:27<00:00,  2.93it/s]\n"
     ]
    },
    {
     "name": "stdout",
     "output_type": "stream",
     "text": [
      "\n",
      "val: {'recall': 0.998052, 'recall_grapheme': 0.997723, 'recall_vowel': 0.998605, 'recall_consonant': 0.998157, 'recall_word': 0.996977, 'acc_grapheme': 0.997267, 'acc_vowel': 0.998758, 'acc_consonant': 0.998857, 'acc_word': 0.997093, 'loss_grapheme': 0.012153, 'loss_vowel': 0.005512, 'loss_consonant': 0.004486, 'loss_word': 0.012562}\n",
      "   28 | 0.000057 | 160000/160596 | 1.2870 | 8.1509 ||\n",
      "val: {'recall': 0.997512, 'recall_grapheme': 0.996755, 'recall_vowel': 0.998583, 'recall_consonant': 0.997954, 'recall_word': 0.996291, 'acc_grapheme': 0.996347, 'acc_vowel': 0.998683, 'acc_consonant': 0.998633, 'acc_word': 0.996372, 'loss_grapheme': 0.041842, 'loss_vowel': 0.028342, 'loss_consonant': 0.023475, 'loss_word': 0.026151}\n",
      "   29 | 0.000055 | 160000/160596 | 8.5666 | 7.8906 ||"
     ]
    },
    {
     "name": "stderr",
     "output_type": "stream",
     "text": [
      "\r",
      "  0%|          | 0/250 [00:00<?, ?it/s]"
     ]
    },
    {
     "name": "stdout",
     "output_type": "stream",
     "text": [
      "\n",
      "val: {'recall': 0.996856, 'recall_grapheme': 0.995897, 'recall_vowel': 0.998259, 'recall_consonant': 0.997369, 'recall_word': 0.995702, 'acc_grapheme': 0.995801, 'acc_vowel': 0.99836, 'acc_consonant': 0.998509, 'acc_word': 0.995776, 'loss_grapheme': 0.029624, 'loss_vowel': 0.017204, 'loss_consonant': 0.015921, 'loss_word': 0.022914}\n",
      "SWA>>>:\n"
     ]
    },
    {
     "name": "stderr",
     "output_type": "stream",
     "text": [
      "100%|██████████| 250/250 [01:27<00:00,  2.95it/s]\n"
     ]
    },
    {
     "name": "stdout",
     "output_type": "stream",
     "text": [
      "\n",
      "val: {'recall': 0.998075, 'recall_grapheme': 0.997789, 'recall_vowel': 0.998592, 'recall_consonant': 0.998129, 'recall_word': 0.997036, 'acc_grapheme': 0.997292, 'acc_vowel': 0.998733, 'acc_consonant': 0.998857, 'acc_word': 0.997167, 'loss_grapheme': 0.012105, 'loss_vowel': 0.005417, 'loss_consonant': 0.004486, 'loss_word': 0.012484}\n",
      "   30 | 0.000054 | 160000/160596 | 1.4019 | 7.6719 ||\n",
      "val: {'recall': 0.997059, 'recall_grapheme': 0.995864, 'recall_vowel': 0.998569, 'recall_consonant': 0.99794, 'recall_word': 0.995728, 'acc_grapheme': 0.996148, 'acc_vowel': 0.998509, 'acc_consonant': 0.998534, 'acc_word': 0.99585, 'loss_grapheme': 0.03181, 'loss_vowel': 0.020259, 'loss_consonant': 0.016414, 'loss_word': 0.023395}\n",
      "   31 | 0.000052 | 160000/160596 | 6.9644 | 7.5352 |||"
     ]
    },
    {
     "name": "stderr",
     "output_type": "stream",
     "text": [
      "\r",
      "  0%|          | 0/250 [00:00<?, ?it/s]"
     ]
    },
    {
     "name": "stdout",
     "output_type": "stream",
     "text": [
      "\n",
      "val: {'recall': 0.997493, 'recall_grapheme': 0.99675, 'recall_vowel': 0.99848, 'recall_consonant': 0.997994, 'recall_word': 0.996368, 'acc_grapheme': 0.99672, 'acc_vowel': 0.998633, 'acc_consonant': 0.998608, 'acc_word': 0.996472, 'loss_grapheme': 0.052863, 'loss_vowel': 0.034921, 'loss_consonant': 0.030056, 'loss_word': 0.031119}\n",
      "SWA>>>:\n"
     ]
    },
    {
     "name": "stderr",
     "output_type": "stream",
     "text": [
      "100%|██████████| 250/250 [01:27<00:00,  2.95it/s]\n"
     ]
    },
    {
     "name": "stdout",
     "output_type": "stream",
     "text": [
      "\n",
      "val: {'recall': 0.998036, 'recall_grapheme': 0.997761, 'recall_vowel': 0.998499, 'recall_consonant': 0.998123, 'recall_word': 0.996987, 'acc_grapheme': 0.997316, 'acc_vowel': 0.998708, 'acc_consonant': 0.998832, 'acc_word': 0.997118, 'loss_grapheme': 0.01207, 'loss_vowel': 0.005424, 'loss_consonant': 0.004547, 'loss_word': 0.012534}\n",
      "   32 | 0.000051 | 160000/160596 | 4.6645 | 7.3964 |||\n",
      "val: {'recall': 0.997381, 'recall_grapheme': 0.996645, 'recall_vowel': 0.998472, 'recall_consonant': 0.997762, 'recall_word': 0.996111, 'acc_grapheme': 0.996397, 'acc_vowel': 0.998534, 'acc_consonant': 0.998484, 'acc_word': 0.996198, 'loss_grapheme': 0.051414, 'loss_vowel': 0.033122, 'loss_consonant': 0.028112, 'loss_word': 0.032938}\n",
      "   33 | 0.000049 | 160000/160596 | 19.4564 | 7.1770 |"
     ]
    },
    {
     "name": "stderr",
     "output_type": "stream",
     "text": [
      "\r",
      "  0%|          | 0/250 [00:00<?, ?it/s]"
     ]
    },
    {
     "name": "stdout",
     "output_type": "stream",
     "text": [
      "\n",
      "val: {'recall': 0.997169, 'recall_grapheme': 0.996091, 'recall_vowel': 0.998581, 'recall_consonant': 0.997914, 'recall_word': 0.996135, 'acc_grapheme': 0.996447, 'acc_vowel': 0.998633, 'acc_consonant': 0.998633, 'acc_word': 0.996223, 'loss_grapheme': 0.058479, 'loss_vowel': 0.039309, 'loss_consonant': 0.034239, 'loss_word': 0.034985}\n",
      "SWA>>>:\n"
     ]
    },
    {
     "name": "stderr",
     "output_type": "stream",
     "text": [
      "100%|██████████| 250/250 [01:27<00:00,  3.00it/s]\n"
     ]
    },
    {
     "name": "stdout",
     "output_type": "stream",
     "text": [
      "\n",
      "val: {'recall': 0.998037, 'recall_grapheme': 0.997759, 'recall_vowel': 0.998513, 'recall_consonant': 0.998118, 'recall_word': 0.996995, 'acc_grapheme': 0.997341, 'acc_vowel': 0.998733, 'acc_consonant': 0.998807, 'acc_word': 0.997142, 'loss_grapheme': 0.012054, 'loss_vowel': 0.005454, 'loss_consonant': 0.004584, 'loss_word': 0.012519}\n",
      "   34 | 0.000048 | 160000/160596 | 1.2332 | 7.1488 ||\n",
      "val: {'recall': 0.997324, 'recall_grapheme': 0.996588, 'recall_vowel': 0.998294, 'recall_consonant': 0.997826, 'recall_word': 0.995863, 'acc_grapheme': 0.996322, 'acc_vowel': 0.99841, 'acc_consonant': 0.998534, 'acc_word': 0.995975, 'loss_grapheme': 0.049598, 'loss_vowel': 0.033616, 'loss_consonant': 0.026442, 'loss_word': 0.034286}\n",
      "   35 | 0.000046 | 160000/160596 | 8.3905 | 7.7448 ||"
     ]
    },
    {
     "name": "stderr",
     "output_type": "stream",
     "text": [
      "\r",
      "  0%|          | 0/250 [00:00<?, ?it/s]"
     ]
    },
    {
     "name": "stdout",
     "output_type": "stream",
     "text": [
      "\n",
      "val: {'recall': 0.997426, 'recall_grapheme': 0.996662, 'recall_vowel': 0.998519, 'recall_consonant': 0.99786, 'recall_word': 0.996194, 'acc_grapheme': 0.996472, 'acc_vowel': 0.998633, 'acc_consonant': 0.998584, 'acc_word': 0.996273, 'loss_grapheme': 0.062661, 'loss_vowel': 0.040562, 'loss_consonant': 0.030187, 'loss_word': 0.04023}\n",
      "SWA>>>:\n"
     ]
    },
    {
     "name": "stderr",
     "output_type": "stream",
     "text": [
      "100%|██████████| 250/250 [01:27<00:00,  2.92it/s]\n"
     ]
    },
    {
     "name": "stdout",
     "output_type": "stream",
     "text": [
      "\n",
      "val: {'recall': 0.998026, 'recall_grapheme': 0.997773, 'recall_vowel': 0.998496, 'recall_consonant': 0.998062, 'recall_word': 0.997022, 'acc_grapheme': 0.997416, 'acc_vowel': 0.998708, 'acc_consonant': 0.998832, 'acc_word': 0.997167, 'loss_grapheme': 0.012111, 'loss_vowel': 0.005466, 'loss_consonant': 0.004582, 'loss_word': 0.012604}\n",
      "   36 | 0.000045 | 160000/160596 | 5.8843 | 7.4330 |||\n",
      "val: {'recall': 0.99761, 'recall_grapheme': 0.997052, 'recall_vowel': 0.998444, 'recall_consonant': 0.997892, 'recall_word': 0.996018, 'acc_grapheme': 0.996645, 'acc_vowel': 0.998608, 'acc_consonant': 0.998559, 'acc_word': 0.996099, 'loss_grapheme': 0.046399, 'loss_vowel': 0.029674, 'loss_consonant': 0.025427, 'loss_word': 0.030054}\n",
      "   37 | 0.000043 | 160000/160596 | 3.7677 | 7.7999 ||"
     ]
    },
    {
     "name": "stderr",
     "output_type": "stream",
     "text": [
      "\r",
      "  0%|          | 0/250 [00:00<?, ?it/s]"
     ]
    },
    {
     "name": "stdout",
     "output_type": "stream",
     "text": [
      "\n",
      "val: {'recall': 0.997714, 'recall_grapheme': 0.997077, 'recall_vowel': 0.998789, 'recall_consonant': 0.997912, 'recall_word': 0.996573, 'acc_grapheme': 0.996844, 'acc_vowel': 0.998807, 'acc_consonant': 0.998559, 'acc_word': 0.99667, 'loss_grapheme': 0.0255, 'loss_vowel': 0.01609, 'loss_consonant': 0.014375, 'loss_word': 0.019139}\n",
      "SWA>>>:\n"
     ]
    },
    {
     "name": "stderr",
     "output_type": "stream",
     "text": [
      "100%|██████████| 250/250 [01:27<00:00,  2.88it/s]\n"
     ]
    },
    {
     "name": "stdout",
     "output_type": "stream",
     "text": [
      "\n",
      "val: {'recall': 0.998084, 'recall_grapheme': 0.997818, 'recall_vowel': 0.998548, 'recall_consonant': 0.998151, 'recall_word': 0.997085, 'acc_grapheme': 0.997366, 'acc_vowel': 0.998782, 'acc_consonant': 0.998832, 'acc_word': 0.997217, 'loss_grapheme': 0.012152, 'loss_vowel': 0.005431, 'loss_consonant': 0.004621, 'loss_word': 0.012641}\n",
      "   38 | 0.000042 | 160000/160596 | 1.1430 | 7.3024 ||\n",
      "val: {'recall': 0.997814, 'recall_grapheme': 0.997224, 'recall_vowel': 0.99883, 'recall_consonant': 0.997977, 'recall_word': 0.996843, 'acc_grapheme': 0.996944, 'acc_vowel': 0.998832, 'acc_consonant': 0.998733, 'acc_word': 0.996919, 'loss_grapheme': 0.037434, 'loss_vowel': 0.026568, 'loss_consonant': 0.021686, 'loss_word': 0.024787}\n",
      "   39 | 0.000040 | 160000/160596 | 9.6642 | 7.9055 |||"
     ]
    },
    {
     "name": "stderr",
     "output_type": "stream",
     "text": [
      "\r",
      "  0%|          | 0/250 [00:00<?, ?it/s]"
     ]
    },
    {
     "name": "stdout",
     "output_type": "stream",
     "text": [
      "\n",
      "val: {'recall': 0.997266, 'recall_grapheme': 0.9964, 'recall_vowel': 0.998556, 'recall_consonant': 0.997705, 'recall_word': 0.996141, 'acc_grapheme': 0.996397, 'acc_vowel': 0.998559, 'acc_consonant': 0.998459, 'acc_word': 0.996198, 'loss_grapheme': 0.067977, 'loss_vowel': 0.047537, 'loss_consonant': 0.036583, 'loss_word': 0.041038}\n",
      "SWA>>>:\n"
     ]
    },
    {
     "name": "stderr",
     "output_type": "stream",
     "text": [
      "100%|██████████| 250/250 [01:27<00:00,  3.00it/s]\n"
     ]
    },
    {
     "name": "stdout",
     "output_type": "stream",
     "text": [
      "\n",
      "val: {'recall': 0.998075, 'recall_grapheme': 0.99776, 'recall_vowel': 0.998568, 'recall_consonant': 0.998214, 'recall_word': 0.996987, 'acc_grapheme': 0.997292, 'acc_vowel': 0.998708, 'acc_consonant': 0.998882, 'acc_word': 0.997118, 'loss_grapheme': 0.012298, 'loss_vowel': 0.005478, 'loss_consonant': 0.004663, 'loss_word': 0.01273}\n",
      "   40 | 0.000038 | 160000/160596 | 16.5399 | 7.3940 ||\n",
      "val: {'recall': 0.997636, 'recall_grapheme': 0.996911, 'recall_vowel': 0.998631, 'recall_consonant': 0.998091, 'recall_word': 0.996459, 'acc_grapheme': 0.99667, 'acc_vowel': 0.998782, 'acc_consonant': 0.998782, 'acc_word': 0.996521, 'loss_grapheme': 0.038388, 'loss_vowel': 0.02858, 'loss_consonant': 0.024406, 'loss_word': 0.024664}\n",
      "   41 | 0.000037 | 160000/160596 | 1.4103 | 8.0028 ||"
     ]
    },
    {
     "name": "stderr",
     "output_type": "stream",
     "text": [
      "\r",
      "  0%|          | 0/250 [00:00<?, ?it/s]"
     ]
    },
    {
     "name": "stdout",
     "output_type": "stream",
     "text": [
      "\n",
      "val: {'recall': 0.99769, 'recall_grapheme': 0.997064, 'recall_vowel': 0.998747, 'recall_consonant': 0.997887, 'recall_word': 0.996386, 'acc_grapheme': 0.99667, 'acc_vowel': 0.998807, 'acc_consonant': 0.998683, 'acc_word': 0.996472, 'loss_grapheme': 0.032385, 'loss_vowel': 0.0216, 'loss_consonant': 0.01733, 'loss_word': 0.022483}\n",
      "SWA>>>:\n"
     ]
    },
    {
     "name": "stderr",
     "output_type": "stream",
     "text": [
      "100%|██████████| 250/250 [01:27<00:00,  2.96it/s]\n"
     ]
    },
    {
     "name": "stdout",
     "output_type": "stream",
     "text": [
      "\n",
      "val: {'recall': 0.99811, 'recall_grapheme': 0.997844, 'recall_vowel': 0.998537, 'recall_consonant': 0.998214, 'recall_word': 0.997017, 'acc_grapheme': 0.997416, 'acc_vowel': 0.998758, 'acc_consonant': 0.998882, 'acc_word': 0.997142, 'loss_grapheme': 0.012201, 'loss_vowel': 0.005451, 'loss_consonant': 0.004655, 'loss_word': 0.012656}\n",
      "###>>>>> saved ./model4-ckps/se_resnext50_32x4d/model4_se_resnext50_fold0_224.pth\n",
      "   42 | 0.000035 | 160000/160596 | 8.3432 | 7.5116 ||\n",
      "val: {'recall': 0.997799, 'recall_grapheme': 0.997409, 'recall_vowel': 0.998477, 'recall_consonant': 0.997899, 'recall_word': 0.99612, 'acc_grapheme': 0.996596, 'acc_vowel': 0.998658, 'acc_consonant': 0.998534, 'acc_word': 0.996223, 'loss_grapheme': 0.041529, 'loss_vowel': 0.027861, 'loss_consonant': 0.024989, 'loss_word': 0.026756}\n",
      "   43 | 0.000034 | 160000/160596 | 10.6670 | 7.3037 |"
     ]
    },
    {
     "name": "stderr",
     "output_type": "stream",
     "text": [
      "\r",
      "  0%|          | 0/250 [00:00<?, ?it/s]"
     ]
    },
    {
     "name": "stdout",
     "output_type": "stream",
     "text": [
      "\n",
      "val: {'recall': 0.997801, 'recall_grapheme': 0.997376, 'recall_vowel': 0.998693, 'recall_consonant': 0.997761, 'recall_word': 0.99636, 'acc_grapheme': 0.996795, 'acc_vowel': 0.998733, 'acc_consonant': 0.998559, 'acc_word': 0.996447, 'loss_grapheme': 0.029061, 'loss_vowel': 0.019908, 'loss_consonant': 0.017249, 'loss_word': 0.02087}\n",
      "SWA>>>:\n"
     ]
    },
    {
     "name": "stderr",
     "output_type": "stream",
     "text": [
      "100%|██████████| 250/250 [01:27<00:00,  2.88it/s]\n"
     ]
    },
    {
     "name": "stdout",
     "output_type": "stream",
     "text": [
      "\n",
      "val: {'recall': 0.998064, 'recall_grapheme': 0.997745, 'recall_vowel': 0.998613, 'recall_consonant': 0.998151, 'recall_word': 0.996972, 'acc_grapheme': 0.997341, 'acc_vowel': 0.998758, 'acc_consonant': 0.998832, 'acc_word': 0.997093, 'loss_grapheme': 0.012361, 'loss_vowel': 0.005514, 'loss_consonant': 0.004691, 'loss_word': 0.012766}\n",
      "   44 | 0.000032 | 160000/160596 | 19.5078 | 7.0991 ||\n",
      "val: {'recall': 0.997551, 'recall_grapheme': 0.996723, 'recall_vowel': 0.998881, 'recall_consonant': 0.997877, 'recall_word': 0.9964, 'acc_grapheme': 0.996422, 'acc_vowel': 0.998807, 'acc_consonant': 0.998633, 'acc_word': 0.996521, 'loss_grapheme': 0.03826, 'loss_vowel': 0.024265, 'loss_consonant': 0.02241, 'loss_word': 0.02546}\n",
      "   45 | 0.000031 | 160000/160596 | 1.2673 | 7.5567 |||"
     ]
    },
    {
     "name": "stderr",
     "output_type": "stream",
     "text": [
      "\r",
      "  0%|          | 0/250 [00:00<?, ?it/s]"
     ]
    },
    {
     "name": "stdout",
     "output_type": "stream",
     "text": [
      "\n",
      "val: {'recall': 0.997589, 'recall_grapheme': 0.997125, 'recall_vowel': 0.998757, 'recall_consonant': 0.997349, 'recall_word': 0.996875, 'acc_grapheme': 0.996894, 'acc_vowel': 0.998782, 'acc_consonant': 0.998658, 'acc_word': 0.996944, 'loss_grapheme': 0.027274, 'loss_vowel': 0.017647, 'loss_consonant': 0.015301, 'loss_word': 0.019797}\n",
      "SWA>>>:\n"
     ]
    },
    {
     "name": "stderr",
     "output_type": "stream",
     "text": [
      "100%|██████████| 250/250 [01:27<00:00,  2.95it/s]\n"
     ]
    },
    {
     "name": "stdout",
     "output_type": "stream",
     "text": [
      "\n",
      "val: {'recall': 0.998074, 'recall_grapheme': 0.997758, 'recall_vowel': 0.998628, 'recall_consonant': 0.998151, 'recall_word': 0.996978, 'acc_grapheme': 0.997341, 'acc_vowel': 0.998782, 'acc_consonant': 0.998832, 'acc_word': 0.997093, 'loss_grapheme': 0.012375, 'loss_vowel': 0.005506, 'loss_consonant': 0.004687, 'loss_word': 0.01276}\n",
      "   46 | 0.000029 | 160000/160596 | 1.0490 | 7.0534 |||\n",
      "val: {'recall': 0.99803, 'recall_grapheme': 0.997621, 'recall_vowel': 0.998803, 'recall_consonant': 0.998076, 'recall_word': 0.997084, 'acc_grapheme': 0.997242, 'acc_vowel': 0.998807, 'acc_consonant': 0.998807, 'acc_word': 0.997192, 'loss_grapheme': 0.017784, 'loss_vowel': 0.011007, 'loss_consonant': 0.009875, 'loss_word': 0.014792}\n",
      "   47 | 0.000028 | 160000/160596 | 13.4434 | 7.0913 ||"
     ]
    },
    {
     "name": "stderr",
     "output_type": "stream",
     "text": [
      "\r",
      "  0%|          | 0/250 [00:00<?, ?it/s]"
     ]
    },
    {
     "name": "stdout",
     "output_type": "stream",
     "text": [
      "\n",
      "val: {'recall': 0.997649, 'recall_grapheme': 0.997034, 'recall_vowel': 0.998554, 'recall_consonant': 0.997971, 'recall_word': 0.996379, 'acc_grapheme': 0.99672, 'acc_vowel': 0.998758, 'acc_consonant': 0.998708, 'acc_word': 0.996472, 'loss_grapheme': 0.034282, 'loss_vowel': 0.022736, 'loss_consonant': 0.02082, 'loss_word': 0.023362}\n",
      "SWA>>>:\n"
     ]
    },
    {
     "name": "stderr",
     "output_type": "stream",
     "text": [
      "100%|██████████| 250/250 [01:27<00:00,  2.97it/s]\n"
     ]
    },
    {
     "name": "stdout",
     "output_type": "stream",
     "text": [
      "\n",
      "val: {'recall': 0.998074, 'recall_grapheme': 0.997767, 'recall_vowel': 0.99861, 'recall_consonant': 0.998151, 'recall_word': 0.996985, 'acc_grapheme': 0.997341, 'acc_vowel': 0.998758, 'acc_consonant': 0.998832, 'acc_word': 0.997118, 'loss_grapheme': 0.012343, 'loss_vowel': 0.005495, 'loss_consonant': 0.004656, 'loss_word': 0.012747}\n",
      "   48 | 0.000026 | 160000/160596 | 5.2461 | 7.1820 |||\n",
      "val: {'recall': 0.997952, 'recall_grapheme': 0.997359, 'recall_vowel': 0.998912, 'recall_consonant': 0.998177, 'recall_word': 0.996756, 'acc_grapheme': 0.996944, 'acc_vowel': 0.998907, 'acc_consonant': 0.998882, 'acc_word': 0.996844, 'loss_grapheme': 0.019305, 'loss_vowel': 0.01194, 'loss_consonant': 0.01084, 'loss_word': 0.015854}\n",
      "   49 | 0.000025 | 133760/160596 | 5.3375 | 6.8006 |||"
     ]
    }
   ],
   "source": [
    "train(args)"
   ]
  },
  {
   "cell_type": "code",
   "execution_count": null,
   "metadata": {},
   "outputs": [],
   "source": []
  },
  {
   "cell_type": "code",
   "execution_count": null,
   "metadata": {},
   "outputs": [],
   "source": []
  },
  {
   "cell_type": "code",
   "execution_count": null,
   "metadata": {},
   "outputs": [],
   "source": [
    "#save_model(model, model_file)"
   ]
  },
  {
   "cell_type": "code",
   "execution_count": null,
   "metadata": {},
   "outputs": [],
   "source": [
    "del model"
   ]
  },
  {
   "cell_type": "code",
   "execution_count": null,
   "metadata": {},
   "outputs": [],
   "source": []
  },
  {
   "cell_type": "code",
   "execution_count": null,
   "metadata": {},
   "outputs": [],
   "source": []
  }
 ],
 "metadata": {
  "kernelspec": {
   "display_name": "Python 3",
   "language": "python",
   "name": "python3"
  },
  "language_info": {
   "codemirror_mode": {
    "name": "ipython",
    "version": 3
   },
   "file_extension": ".py",
   "mimetype": "text/x-python",
   "name": "python",
   "nbconvert_exporter": "python",
   "pygments_lexer": "ipython3",
   "version": "3.7.3"
  }
 },
 "nbformat": 4,
 "nbformat_minor": 2
}
