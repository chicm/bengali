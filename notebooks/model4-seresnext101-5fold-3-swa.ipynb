{
 "cells": [
  {
   "cell_type": "code",
   "execution_count": 1,
   "metadata": {},
   "outputs": [],
   "source": [
    "import os\n",
    "import pandas as pd\n",
    "import numpy as np\n",
    "import time, gc\n",
    "import cv2\n",
    "import matplotlib.pyplot as plt\n",
    "import torch\n",
    "import torch.nn as nn\n",
    "import torch.nn.functional as F\n",
    "import torch.optim as optim\n",
    "import pretrainedmodels\n",
    "from argparse import Namespace\n",
    "from sklearn.utils import shuffle\n",
    "from apex import amp\n",
    "from sklearn.model_selection import StratifiedKFold\n",
    "from efficientnet_pytorch import EfficientNet\n",
    "from cvcore.data.auto_augment import RandAugment\n",
    "from PIL import Image\n",
    "from utils import bn_update, moving_average, copy_model\n",
    "from augmix import RandomAugMix"
   ]
  },
  {
   "cell_type": "code",
   "execution_count": 2,
   "metadata": {},
   "outputs": [
    {
     "name": "stdout",
     "output_type": "stream",
     "text": [
      "class_map.csv\t\t       train.csv\r\n",
      "sample_submission.csv\t       train.csv.zip\r\n",
      "test.csv\t\t       train_image_data_0.parquet\r\n",
      "test_image_data_0.parquet      train_image_data_0.parquet.zip\r\n",
      "test_image_data_0.parquet.zip  train_image_data_1.parquet\r\n",
      "test_image_data_1.parquet      train_image_data_1.parquet.zip\r\n",
      "test_image_data_1.parquet.zip  train_image_data_2.parquet\r\n",
      "test_image_data_2.parquet      train_image_data_2.parquet.zip\r\n",
      "test_image_data_2.parquet.zip  train_image_data_3.parquet\r\n",
      "test_image_data_3.parquet      train_image_data_3.parquet.zip\r\n",
      "test_image_data_3.parquet.zip\r\n"
     ]
    }
   ],
   "source": [
    "!ls /home/chec/data/bengali"
   ]
  },
  {
   "cell_type": "code",
   "execution_count": 3,
   "metadata": {},
   "outputs": [],
   "source": [
    "#!ls /home/chec/data/bengali"
   ]
  },
  {
   "cell_type": "code",
   "execution_count": 4,
   "metadata": {},
   "outputs": [],
   "source": [
    "DATA_DIR = '/home/chec/data/bengali'"
   ]
  },
  {
   "cell_type": "code",
   "execution_count": 5,
   "metadata": {},
   "outputs": [],
   "source": [
    "train_df = pd.read_csv(f'{DATA_DIR}/train.csv')\n",
    "test_df = pd.read_csv(f'{DATA_DIR}/test.csv')\n",
    "class_map_df = pd.read_csv(f'{DATA_DIR}/class_map.csv')\n",
    "sample_sub_df = pd.read_csv(f'{DATA_DIR}/sample_submission.csv')"
   ]
  },
  {
   "cell_type": "code",
   "execution_count": 6,
   "metadata": {},
   "outputs": [
    {
     "data": {
      "text/html": [
       "<div>\n",
       "<style scoped>\n",
       "    .dataframe tbody tr th:only-of-type {\n",
       "        vertical-align: middle;\n",
       "    }\n",
       "\n",
       "    .dataframe tbody tr th {\n",
       "        vertical-align: top;\n",
       "    }\n",
       "\n",
       "    .dataframe thead th {\n",
       "        text-align: right;\n",
       "    }\n",
       "</style>\n",
       "<table border=\"1\" class=\"dataframe\">\n",
       "  <thead>\n",
       "    <tr style=\"text-align: right;\">\n",
       "      <th></th>\n",
       "      <th>image_id</th>\n",
       "      <th>grapheme_root</th>\n",
       "      <th>vowel_diacritic</th>\n",
       "      <th>consonant_diacritic</th>\n",
       "      <th>grapheme</th>\n",
       "    </tr>\n",
       "  </thead>\n",
       "  <tbody>\n",
       "    <tr>\n",
       "      <th>0</th>\n",
       "      <td>Train_0</td>\n",
       "      <td>15</td>\n",
       "      <td>9</td>\n",
       "      <td>5</td>\n",
       "      <td>ক্ট্রো</td>\n",
       "    </tr>\n",
       "    <tr>\n",
       "      <th>1</th>\n",
       "      <td>Train_1</td>\n",
       "      <td>159</td>\n",
       "      <td>0</td>\n",
       "      <td>0</td>\n",
       "      <td>হ</td>\n",
       "    </tr>\n",
       "    <tr>\n",
       "      <th>2</th>\n",
       "      <td>Train_2</td>\n",
       "      <td>22</td>\n",
       "      <td>3</td>\n",
       "      <td>5</td>\n",
       "      <td>খ্রী</td>\n",
       "    </tr>\n",
       "    <tr>\n",
       "      <th>3</th>\n",
       "      <td>Train_3</td>\n",
       "      <td>53</td>\n",
       "      <td>2</td>\n",
       "      <td>2</td>\n",
       "      <td>র্টি</td>\n",
       "    </tr>\n",
       "    <tr>\n",
       "      <th>4</th>\n",
       "      <td>Train_4</td>\n",
       "      <td>71</td>\n",
       "      <td>9</td>\n",
       "      <td>5</td>\n",
       "      <td>থ্রো</td>\n",
       "    </tr>\n",
       "  </tbody>\n",
       "</table>\n",
       "</div>"
      ],
      "text/plain": [
       "  image_id  grapheme_root  vowel_diacritic  consonant_diacritic grapheme\n",
       "0  Train_0             15                9                    5   ক্ট্রো\n",
       "1  Train_1            159                0                    0        হ\n",
       "2  Train_2             22                3                    5     খ্রী\n",
       "3  Train_3             53                2                    2     র্টি\n",
       "4  Train_4             71                9                    5     থ্রো"
      ]
     },
     "execution_count": 6,
     "metadata": {},
     "output_type": "execute_result"
    }
   ],
   "source": [
    "train_df.head()"
   ]
  },
  {
   "cell_type": "code",
   "execution_count": 7,
   "metadata": {},
   "outputs": [
    {
     "data": {
      "text/plain": [
       "0.7561780036871144"
      ]
     },
     "execution_count": 7,
     "metadata": {},
     "output_type": "execute_result"
    }
   ],
   "source": [
    "np.random.rand()"
   ]
  },
  {
   "cell_type": "code",
   "execution_count": 8,
   "metadata": {},
   "outputs": [],
   "source": [
    "HEIGHT = 137\n",
    "WIDTH = 236"
   ]
  },
  {
   "cell_type": "code",
   "execution_count": 9,
   "metadata": {},
   "outputs": [],
   "source": [
    "#import albumentations as albu\n",
    "augmix = RandomAugMix(severity=3, width=3, alpha=1., p=1.)\n",
    "\n",
    "def get_train_augs():\n",
    "    #if np.random.rand() > 1.6:\n",
    "    #    return RandAugment(n=2, m=27), 1\n",
    "    #else:\n",
    "    #    return augmix, 2\n",
    "    return RandAugment(n=2, m=27)"
   ]
  },
  {
   "cell_type": "code",
   "execution_count": 10,
   "metadata": {},
   "outputs": [],
   "source": [
    "#plt.imshow(x)"
   ]
  },
  {
   "cell_type": "code",
   "execution_count": 11,
   "metadata": {},
   "outputs": [],
   "source": [
    "#np.arange(10).copy()"
   ]
  },
  {
   "cell_type": "code",
   "execution_count": 12,
   "metadata": {},
   "outputs": [],
   "source": [
    "from torch.utils.data import DataLoader, Dataset\n",
    "from torchvision import transforms\n",
    "\n",
    "\n",
    "class BengaliDataset(Dataset):\n",
    "    def __init__(self, df, img_df, train_mode=True, test_mode=False):\n",
    "        self.df = df\n",
    "        self.img_df = img_df\n",
    "        self.train_mode = train_mode\n",
    "        self.test_mode = test_mode\n",
    "\n",
    "    def __getitem__(self, idx):\n",
    "        row = self.df.iloc[idx]\n",
    "        img = self.get_img(row.image_id)\n",
    "        orig_img = img.copy()\n",
    "        #print(img.shape)\n",
    "        if self.train_mode:\n",
    "            augs = get_train_augs()\n",
    "            #img = augs(image=img)['image']\n",
    "            #if aug_type == 1:\n",
    "            img = np.asarray(augs(Image.fromarray(img)))\n",
    "            #elif aug_type == 2:\n",
    "            #    img = augs(image=img)['image'].astype(np.uint8)\n",
    "            #else:\n",
    "            #    raise RuntimeError('error aug_type')\n",
    "        \n",
    "        img = np.expand_dims(img, axis=-1)\n",
    "        orig_img = np.expand_dims(orig_img, axis=-1)\n",
    "        \n",
    "        #print('###', img.shape)\n",
    "        #img = np.concatenate([img, img, img], 2)\n",
    "        #print('>>>', img.shape)\n",
    "        \n",
    "        # taken from https://www.kaggle.com/iafoss/image-preprocessing-128x128\n",
    "        #MEAN = [ 0.06922848809290576,  0.06922848809290576,  0.06922848809290576]\n",
    "        #STD = [ 0.20515700083327537,  0.20515700083327537,  0.20515700083327537]\n",
    "        \n",
    "        img = transforms.functional.to_tensor(img)\n",
    "        orig_img = transforms.functional.to_tensor(orig_img)\n",
    "        \n",
    "        #img = transforms.functional.normalize(img, mean=MEAN, std=STD)\n",
    "        \n",
    "        if self.test_mode:\n",
    "            return img\n",
    "        elif self.train_mode:\n",
    "            return img, orig_img, torch.tensor([row.grapheme_root, row.vowel_diacritic, row.consonant_diacritic, row.word_label])\n",
    "        else:\n",
    "            return img, torch.tensor([row.grapheme_root, row.vowel_diacritic, row.consonant_diacritic, row.word_label])\n",
    "                    \n",
    "    def get_img(self, img_id):\n",
    "        return 255 - self.img_df.loc[img_id].values.reshape(HEIGHT, WIDTH).astype(np.uint8)\n",
    "\n",
    "    def __len__(self):\n",
    "        return len(self.df)\n",
    "    \n",
    "def get_train_val_loaders(batch_size=4, val_batch_size=4, ifold=0, dev_mode=False):\n",
    "    train_df = pd.read_csv(f'{DATA_DIR}/train.csv')\n",
    "\n",
    "    train_df = shuffle(train_df, random_state=1234)\n",
    "\n",
    "    grapheme_words = np.unique(train_df.grapheme.values)\n",
    "    grapheme_words_dict = {grapheme: i for i, grapheme in enumerate(grapheme_words)}\n",
    "    train_df['word_label'] = train_df['grapheme'].map(lambda x: grapheme_words_dict[x])\n",
    "\n",
    "    print(train_df.shape)\n",
    "\n",
    "    if dev_mode:\n",
    "        img_df = pd.read_parquet(f'{DATA_DIR}/train_image_data_0.parquet').set_index('image_id')\n",
    "        train_df = train_df.iloc[:1000]\n",
    "    else:\n",
    "        img_dfs = [pd.read_parquet(f'{DATA_DIR}/train_image_data_{i}.parquet') for i in range(4)]\n",
    "        img_df = pd.concat(img_dfs, axis=0).set_index('image_id')\n",
    "    print(img_df.shape)\n",
    "    #split_index = int(len(train_df) * 0.9)\n",
    "    \n",
    "    #train = train_df.iloc[:split_index]\n",
    "    #val = train_df.iloc[split_index:]\n",
    "    \n",
    "    kf = StratifiedKFold(5, random_state=1234, shuffle=True)\n",
    "    for i, (train_idx, val_idx) in enumerate(kf.split(train_df, train_df['grapheme_root'].values)):\n",
    "        if i == ifold:\n",
    "            #print(val_idx)\n",
    "            train = train_df.iloc[train_idx]\n",
    "            val = train_df.iloc[val_idx]\n",
    "            break\n",
    "    assert i == ifold\n",
    "    print(train.shape, val.shape)\n",
    "    \n",
    "    train_ds = BengaliDataset(train, img_df, True, False)\n",
    "    val_ds = BengaliDataset(val, img_df, False, False)\n",
    "    \n",
    "    train_loader = DataLoader(train_ds, batch_size=batch_size, shuffle=True, num_workers=8, drop_last=True)\n",
    "    train_loader.num = len(train_ds)\n",
    "\n",
    "    val_loader = DataLoader(val_ds, batch_size=val_batch_size, shuffle=False, num_workers=8, drop_last=False)\n",
    "    val_loader.num = len(val_ds)\n",
    "\n",
    "    return train_loader, val_loader"
   ]
  },
  {
   "cell_type": "code",
   "execution_count": 13,
   "metadata": {},
   "outputs": [],
   "source": [
    "#train_loader, val_loader = get_train_val_loaders()"
   ]
  },
  {
   "cell_type": "code",
   "execution_count": 14,
   "metadata": {},
   "outputs": [],
   "source": [
    "#for x in train_loader:\n",
    "#    print(x)\n",
    "#    break"
   ]
  },
  {
   "cell_type": "markdown",
   "metadata": {},
   "source": [
    "# model"
   ]
  },
  {
   "cell_type": "code",
   "execution_count": 15,
   "metadata": {},
   "outputs": [],
   "source": [
    "#import pretrainedmodels"
   ]
  },
  {
   "cell_type": "code",
   "execution_count": 16,
   "metadata": {},
   "outputs": [],
   "source": [
    "#model_name = 'resnet50' # could be fbresnet152 or inceptionresnetv2\n",
    "#model = pretrainedmodels.__dict__[model_name](num_classes=1000, pretrained='imagenet').cuda()\n",
    "#model.eval()"
   ]
  },
  {
   "cell_type": "code",
   "execution_count": 17,
   "metadata": {},
   "outputs": [],
   "source": [
    "from argparse import Namespace\n",
    "import timm\n",
    "from timm.models.activations import Swish, Mish\n",
    "from timm.models.adaptive_avgmax_pool import SelectAdaptivePool2d"
   ]
  },
  {
   "cell_type": "code",
   "execution_count": 18,
   "metadata": {},
   "outputs": [],
   "source": [
    "MEAN = [ 0.06922848809290576 ]\n",
    "STD = [ 0.20515700083327537 ]"
   ]
  },
  {
   "cell_type": "code",
   "execution_count": 19,
   "metadata": {},
   "outputs": [],
   "source": [
    "class BengaliNet4(nn.Module):\n",
    "    def __init__(self, backbone_name='se_resnext101_32x4d'):\n",
    "        super(BengaliNet4, self).__init__()\n",
    "        self.n_grapheme = 168\n",
    "        self.n_vowel = 11\n",
    "        self.n_consonant = 7\n",
    "        self.n_word = 1295\n",
    "        self.backbone_name = backbone_name\n",
    "        \n",
    "        self.num_classes = self.n_grapheme + self.n_vowel + self.n_consonant + self.n_word\n",
    "        \n",
    "        self.backbone = pretrainedmodels.__dict__[self.backbone_name](num_classes=1000, pretrained='imagenet')\n",
    "        self.fc = nn.Linear(self.backbone.last_linear.in_features, self.num_classes)\n",
    "        \n",
    "        self.num_p2_features = self.backbone.layer2[-1].se_module.fc2.out_channels\n",
    "        self.num_p3_features = self.backbone.layer3[-1].se_module.fc2.out_channels\n",
    "        self.p2_head = nn.Conv2d(self.num_p2_features, self.num_p2_features * 4, kernel_size=(1, 1), stride=(1, 1), bias=False)\n",
    "        self.p3_head = nn.Conv2d(self.num_p3_features, self.num_p3_features * 4, kernel_size=(1, 1), stride=(1, 1), bias=False)\n",
    "        self.bn2 = nn.BatchNorm2d(self.num_p2_features * 4)\n",
    "        self.bn3 = nn.BatchNorm2d(self.num_p3_features * 4)\n",
    "        self.act2 = Swish()\n",
    "        self.act3 = Swish()\n",
    "        \n",
    "        self.fc_aux1 = nn.Linear(self.num_p3_features * 4, self.num_classes)\n",
    "        self.fc_aux2 = nn.Linear(self.num_p2_features * 4, self.num_classes)\n",
    "        \n",
    "        self.avg_pool = nn.AdaptiveAvgPool2d(1)\n",
    "        \n",
    "        for fc in [self.fc, self.fc_aux1, self.fc_aux2]:\n",
    "            nn.init.zeros_(fc.bias.data)\n",
    "\n",
    "        print('init model4')\n",
    "        \n",
    "    def features(self, x):\n",
    "        x = self.backbone.layer0(x); #print(x.size())\n",
    "        x = self.backbone.layer1(x); #print(x.size())\n",
    "        x = self.backbone.layer2(x); p2 = x; p2 = self.p2_head(p2); p2 = self.bn2(p2); p2 = self.act2(p2) #print(x.size())\n",
    "        x = self.backbone.layer3(x); p3 = x; p3 = self.p3_head(p3); p3 = self.bn3(p3); p3 = self.act3(p3) #print(x.size())\n",
    "        x = self.backbone.layer4(x); #print(x.size())\n",
    "        return x, p2, p3\n",
    "        \n",
    "    def logits(self, x, p2, p3):\n",
    "        x = self.avg_pool(x)\n",
    "        #x = F.dropout2d(x, 0.2, self.training)\n",
    "        x = torch.flatten(x, 1)\n",
    "        \n",
    "        p2 = self.avg_pool(p2)\n",
    "        p2 = torch.flatten(p2, 1)\n",
    "        \n",
    "        p3 = self.avg_pool(p3)\n",
    "        p3 = torch.flatten(p3, 1)\n",
    "        return self.fc(x), self.fc_aux1(p3), self.fc_aux2(p2)\n",
    "    \n",
    "    def forward(self, x):\n",
    "        x = F.interpolate(x, size=(224,224), mode='bilinear', align_corners=False)\n",
    "        for i in range(len(x)):\n",
    "            transforms.functional.normalize(x[i], mean=MEAN, std=STD, inplace=True)\n",
    "        x = torch.cat([x,x,x], 1)\n",
    "        #x = self.conv0(x)\n",
    "        #print(x.size())\n",
    "        x, p2, p3 = self.features(x)\n",
    "        x, logits_aux1, logits_aux2 = self.logits(x, p2, p3)\n",
    "\n",
    "        return x, logits_aux1, logits_aux2"
   ]
  },
  {
   "cell_type": "code",
   "execution_count": null,
   "metadata": {},
   "outputs": [],
   "source": []
  },
  {
   "cell_type": "code",
   "execution_count": 20,
   "metadata": {},
   "outputs": [],
   "source": [
    "MODEL_DIR = './model4-ckps'\n",
    "def create_model(args):\n",
    "    model = BengaliNet4(args.backbone)\n",
    "    model_file = os.path.join(MODEL_DIR, args.backbone, args.ckp_name)\n",
    "\n",
    "    parent_dir = os.path.dirname(model_file)\n",
    "    if not os.path.exists(parent_dir):\n",
    "        os.makedirs(parent_dir)\n",
    "\n",
    "    print('model file: {}, exist: {}'.format(model_file, os.path.exists(model_file)))\n",
    "\n",
    "    if os.path.exists(model_file):\n",
    "        print('loading {}...'.format(model_file))\n",
    "        model.load_state_dict(torch.load(model_file))\n",
    "    \n",
    "    return model, model_file"
   ]
  },
  {
   "cell_type": "code",
   "execution_count": 21,
   "metadata": {},
   "outputs": [],
   "source": [
    "#bnet = BengaliNet('se_resnext50_32x4d').cuda()"
   ]
  },
  {
   "cell_type": "code",
   "execution_count": 22,
   "metadata": {},
   "outputs": [],
   "source": [
    "#bnet(torch.randn((2, 1, 137, 236)).cuda()).size()"
   ]
  },
  {
   "cell_type": "markdown",
   "metadata": {},
   "source": [
    "# train"
   ]
  },
  {
   "cell_type": "code",
   "execution_count": 23,
   "metadata": {},
   "outputs": [
    {
     "data": {
      "text/plain": [
       "0.111111"
      ]
     },
     "execution_count": 23,
     "metadata": {},
     "output_type": "execute_result"
    }
   ],
   "source": [
    "round(1/9, 6)"
   ]
  },
  {
   "cell_type": "code",
   "execution_count": 24,
   "metadata": {},
   "outputs": [],
   "source": [
    "import numpy as np\n",
    "import sklearn.metrics\n",
    "import torch\n",
    "\n",
    "\n",
    "def calc_metrics(preds0, preds1, preds2, preds3, y):\n",
    "    assert len(y) == len(preds0) == len(preds1) == len(preds2) == len(preds3)\n",
    "\n",
    "    recall_grapheme = sklearn.metrics.recall_score(preds0, y[:, 0], average='macro')\n",
    "    recall_vowel = sklearn.metrics.recall_score(preds1, y[:, 1], average='macro')\n",
    "    recall_consonant = sklearn.metrics.recall_score(preds2, y[:, 2], average='macro')\n",
    "    recall_word = sklearn.metrics.recall_score(preds3, y[:, 3], average='macro')\n",
    "    \n",
    "    scores = [recall_grapheme, recall_vowel, recall_consonant]\n",
    "    final_recall_score = np.average(scores, weights=[2, 1, 1])\n",
    "    \n",
    "    metrics = {}\n",
    "    metrics['recall'] = round(final_recall_score, 6)\n",
    "    metrics['recall_grapheme'] = round(recall_grapheme, 6)\n",
    "    metrics['recall_vowel'] = round(recall_vowel, 6)\n",
    "    metrics['recall_consonant'] = round(recall_consonant, 6)\n",
    "    metrics['recall_word'] = round(recall_word, 6)\n",
    "    \n",
    "    metrics['acc_grapheme'] = round((preds0 == y[:, 0]).sum() / len(y), 6)\n",
    "    metrics['acc_vowel'] = round((preds1 == y[:, 1]).sum() / len(y), 6)\n",
    "    metrics['acc_consonant'] = round((preds2 == y[:, 2]).sum() / len(y), 6)\n",
    "    metrics['acc_word'] = round((preds3 == y[:, 3]).sum() / len(y), 6)    \n",
    "    \n",
    "    return metrics"
   ]
  },
  {
   "cell_type": "code",
   "execution_count": 25,
   "metadata": {},
   "outputs": [],
   "source": [
    "def criterion(outputs, y_true):\n",
    "    # outputs: (N, 182)\n",
    "    # y_true: (N, 3)\n",
    "    \n",
    "    outputs = torch.split(outputs, [168, 11, 7, 1295], dim=1)\n",
    "    loss0 = F.cross_entropy(outputs[0], y_true[:, 0], reduction='mean')\n",
    "    loss1 = F.cross_entropy(outputs[1], y_true[:, 1], reduction='mean')\n",
    "    loss2 = F.cross_entropy(outputs[2], y_true[:, 2], reduction='mean')\n",
    "    loss3 = F.cross_entropy(outputs[3], y_true[:, 3], reduction='mean')\n",
    "    \n",
    "    return loss0 + loss1 + loss2 + loss3 #, loss0.item(), loss1.item(), loss2.item()\n",
    "    #return loss3"
   ]
  },
  {
   "cell_type": "code",
   "execution_count": 26,
   "metadata": {},
   "outputs": [],
   "source": [
    "def validate(model, val_loader):\n",
    "    model.eval()\n",
    "    loss0, loss1, loss2, loss3 = 0., 0., 0., 0.\n",
    "    preds0, preds1, preds2, preds3 = [], [], [], []\n",
    "    y_true = []\n",
    "    with torch.no_grad():\n",
    "        for x, y in val_loader:\n",
    "            y_true.append(y)\n",
    "            x, y = x.cuda(), y.cuda()\n",
    "            outputs, outputs_aux1, outputs_aux2 = model(x)\n",
    "            #avg_outputs = torch.mean(torch.stack([outputs, outputs_aux1, outputs_aux2], 0), 0)\n",
    "            outputs = torch.split(outputs, [168, 11, 7, 1295], dim=1)\n",
    "            \n",
    "            preds0.append(torch.max(outputs[0], dim=1)[1])\n",
    "            preds1.append(torch.max(outputs[1], dim=1)[1])\n",
    "            preds2.append(torch.max(outputs[2], dim=1)[1])\n",
    "            preds3.append(torch.max(outputs[3], dim=1)[1])\n",
    "            loss0 += F.cross_entropy(outputs[0], y[:, 0], reduction='sum').item()\n",
    "            loss1 += F.cross_entropy(outputs[1], y[:, 1], reduction='sum').item()\n",
    "            loss2 += F.cross_entropy(outputs[2], y[:, 2], reduction='sum').item()\n",
    "            loss3 += F.cross_entropy(outputs[3], y[:, 3], reduction='sum').item()\n",
    "            \n",
    "            # for debug\n",
    "            #metrics = {}\n",
    "            #metrics['loss_grapheme'] =  F.cross_entropy(outputs[0], y[:, 0], reduction='mean').item()\n",
    "            #metrics['loss_vowel'] =  F.cross_entropy(outputs[1], y[:, 1], reduction='mean').item()\n",
    "            #metrics['loss_consonant'] =  F.cross_entropy(outputs[2], y[:, 2], reduction='mean').item()\n",
    "            #return metrics\n",
    "    \n",
    "    preds0 = torch.cat(preds0, 0).cpu().numpy()\n",
    "    preds1 = torch.cat(preds1, 0).cpu().numpy()\n",
    "    preds2 = torch.cat(preds2, 0).cpu().numpy()\n",
    "    preds3 = torch.cat(preds3, 0).cpu().numpy()\n",
    "    \n",
    "    y_true = torch.cat(y_true, 0).numpy()\n",
    "    \n",
    "    #print('y_true:', y_true.shape)\n",
    "    #print('preds0:', preds0.shape)\n",
    "    \n",
    "    metrics = calc_metrics(preds0, preds1, preds2, preds3, y_true)\n",
    "    metrics['loss_grapheme'] = round(loss0 / val_loader.num, 6)\n",
    "    metrics['loss_vowel'] = round(loss1 / val_loader.num, 6)\n",
    "    metrics['loss_consonant'] = round(loss2 / val_loader.num, 6)\n",
    "    metrics['loss_word'] = round(loss3 / val_loader.num, 6)\n",
    "    \n",
    "    return metrics\n",
    "            "
   ]
  },
  {
   "cell_type": "code",
   "execution_count": null,
   "metadata": {},
   "outputs": [],
   "source": []
  },
  {
   "cell_type": "code",
   "execution_count": 27,
   "metadata": {},
   "outputs": [],
   "source": [
    "def get_lrs(optimizer):\n",
    "    lrs = []\n",
    "    for pgs in optimizer.state_dict()['param_groups']:\n",
    "        lrs.append(pgs['lr'])\n",
    "    lrs = ['{:.6f}'.format(x) for x in lrs]\n",
    "    return lrs"
   ]
  },
  {
   "cell_type": "code",
   "execution_count": 28,
   "metadata": {},
   "outputs": [],
   "source": [
    "def save_model(model, model_file):\n",
    "    parent_dir = os.path.dirname(model_file)\n",
    "    if not os.path.exists(parent_dir):\n",
    "        os.makedirs(parent_dir)\n",
    "    if isinstance(model, nn.DataParallel):\n",
    "        torch.save(model.module.state_dict(), model_file)\n",
    "    else:\n",
    "        torch.save(model.state_dict(), model_file)"
   ]
  },
  {
   "cell_type": "code",
   "execution_count": 29,
   "metadata": {},
   "outputs": [],
   "source": [
    "def mixup(data, targets, alpha=1):\n",
    "    indices = torch.randperm(data.size(0))\n",
    "    shuffled_data = data[indices]\n",
    "    shuffled_targets = targets[indices]\n",
    "\n",
    "    lam = np.random.beta(alpha, alpha)\n",
    "    data = data * lam + shuffled_data * (1 - lam)\n",
    "    targets = (targets, shuffled_targets, lam)\n",
    "\n",
    "    return data, targets\n",
    "\n",
    "\n",
    "def mixup_criterion(outputs, targets):\n",
    "    targets1, targets2, lam = targets\n",
    "    #criterion = nn.CrossEntropyLoss(reduction='mean')\n",
    "    return lam * criterion(outputs, targets1) + (1 - lam) * criterion(outputs, targets2)"
   ]
  },
  {
   "cell_type": "code",
   "execution_count": 30,
   "metadata": {},
   "outputs": [],
   "source": [
    "def rand_bbox_old(size, lam):\n",
    "    W = size[2]\n",
    "    H = size[3]\n",
    "    cut_rat = np.sqrt(1. - lam)\n",
    "    cut_w = np.int(W * cut_rat)\n",
    "    cut_h = np.int(H * cut_rat)\n",
    "\n",
    "    # uniform\n",
    "    cx = np.random.randint(W)\n",
    "    cy = np.random.randint(H)\n",
    "\n",
    "    bbx1 = np.clip(cx - cut_w // 2, 0, W)\n",
    "    bby1 = np.clip(cy - cut_h // 2, 0, H)\n",
    "    bbx2 = np.clip(cx + cut_w // 2, 0, W)\n",
    "    bby2 = np.clip(cy + cut_h // 2, 0, H)\n",
    "\n",
    "    return bbx1, bby1, bbx2, bby2"
   ]
  },
  {
   "cell_type": "code",
   "execution_count": 31,
   "metadata": {},
   "outputs": [],
   "source": [
    "def rand_bbox(size, lam):\n",
    "    H = size[2]\n",
    "    W = size[3]\n",
    "\n",
    "    x_margin_rate = 0.2\n",
    "\n",
    "    cut_rat = np.sqrt(1. - lam)\n",
    "    cut_w = np.int(W * (1-x_margin_rate*2) * cut_rat)\n",
    "    cut_h = np.int(H * cut_rat)\n",
    "    \n",
    "    min_x_center = np.int(W * x_margin_rate + cut_w / 2)\n",
    "    max_x_center = np.int(W * (1-x_margin_rate) - cut_w / 2)\n",
    "    #print(min_x_center, max_x_center, lam, cut_w)\n",
    "    min_y_center = cut_h // 2\n",
    "    max_y_center = H - cut_h // 2\n",
    "    if max_y_center == min_y_center:\n",
    "        max_y_center += 1\n",
    "\n",
    "    # uniform\n",
    "    cx = np.random.randint(min_x_center, max_x_center)\n",
    "    cy = np.random.randint(min_y_center, max_y_center)\n",
    "\n",
    "    bbx1 = np.clip(cx - cut_w // 2, 0, W)\n",
    "    bby1 = np.clip(cy - cut_h // 2, 0, H)\n",
    "    bbx2 = np.clip(cx + cut_w // 2, 0, W)\n",
    "    bby2 = np.clip(cy + cut_h // 2, 0, H)\n",
    "    \n",
    "    #print(bbx1, bbx2, bby1, bby2)\n",
    "\n",
    "    return bbx1, bby1, bbx2, bby2"
   ]
  },
  {
   "cell_type": "code",
   "execution_count": 32,
   "metadata": {},
   "outputs": [
    {
     "data": {
      "text/plain": [
       "0.433672207615737"
      ]
     },
     "execution_count": 32,
     "metadata": {},
     "output_type": "execute_result"
    }
   ],
   "source": [
    "np.random.random()"
   ]
  },
  {
   "cell_type": "code",
   "execution_count": 33,
   "metadata": {},
   "outputs": [],
   "source": [
    "from over9000.over9000 import Over9000\n",
    "from over9000.radam import RAdam\n",
    "from gridmask import GridMask"
   ]
  },
  {
   "cell_type": "code",
   "execution_count": 34,
   "metadata": {},
   "outputs": [],
   "source": [
    "from cvcore.solver import WarmupCyclicalLR\n",
    "def make_optimizer(model, base_lr=4e-4, weight_decay=0., weight_decay_bias=0., epsilon=1e-3):\n",
    "    \"\"\"\n",
    "    Create optimizer with per-layer learning rate and weight decay.\n",
    "    \"\"\"\n",
    "    params = []\n",
    "    for key, value in model.named_parameters():\n",
    "        if not value.requires_grad:\n",
    "            continue\n",
    "        lr = base_lr\n",
    "        params += [{\"params\": [value], \"lr\": lr, \"weight_decay\": weight_decay_bias if 'bias' in key else weight_decay}]\n",
    "    \n",
    "    optimizer = torch.optim.AdamW(params, lr, eps=epsilon)\n",
    "    return optimizer"
   ]
  },
  {
   "cell_type": "code",
   "execution_count": 35,
   "metadata": {},
   "outputs": [],
   "source": [
    "def train_epoch(args, model, train_loader, epoch, optimizer, lr_scheduler, grid):\n",
    "    train_loss = 0\n",
    "\n",
    "    for batch_idx, (img, orig_img, targets) in enumerate(train_loader):\n",
    "        img, orig_img, targets  = img.cuda(), orig_img.cuda(), targets.cuda()\n",
    "        batch_size = img.size(0)\n",
    "        r = np.random.rand()\n",
    "\n",
    "        if r < 0.6:\n",
    "            # generate mixed sample\n",
    "            lam = np.random.beta(args.beta, args.beta)\n",
    "            rand_index = torch.randperm(img.size()[0]).cuda()\n",
    "            target_a = targets\n",
    "            target_b = targets[rand_index]\n",
    "            bbx1, bby1, bbx2, bby2 = rand_bbox(img.size(), lam)\n",
    "            img[:, :, bby1:bby2, bbx1:bbx2] = img[rand_index, :, bby1:bby2, bbx1:bbx2] #for new cutmix\n",
    "            #img[:, :, bbx1:bbx2, bby1:bby2] = img[rand_index, :, bbx1:bbx2, bby1:bby2]\n",
    "            \n",
    "            # adjust lambda to exactly match pixel ratio\n",
    "            lam = 1 - ((bbx2 - bbx1) * (bby2 - bby1) / (img.size()[-1] * img.size()[-2]))\n",
    "            # compute output\n",
    "            outputs, outputs_aux1, outputs_aux2 = model(img)\n",
    "            loss_primary = criterion(outputs, target_a) * lam + criterion(outputs, target_b) * (1. - lam)\n",
    "            loss_aux1 = criterion(outputs_aux1, target_a) * lam + criterion(outputs_aux1, target_b) * (1. - lam)\n",
    "            loss_aux2 = criterion(outputs_aux2, target_a) * lam + criterion(outputs_aux2, target_b) * (1. - lam)\n",
    "            loss = loss_primary + (loss_aux1 + loss_aux2)*0.8\n",
    "        elif r > 1.7:\n",
    "            img = grid(img)\n",
    "            outputs, outputs_aux1, outputs_aux2 = model(img)\n",
    "            loss_primary = criterion(outputs, targets)\n",
    "            loss_aux1 = criterion(outputs_aux1, targets)\n",
    "            loss_aux2 = criterion(outputs_aux2, targets)\n",
    "            loss = loss_primary + (loss_aux1 + loss_aux2)*0.8\n",
    "        else:\n",
    "            orig_img, targets = mixup(orig_img, targets)\n",
    "            outputs, outputs_aux1, outputs_aux2 = model(orig_img)\n",
    "            loss_primary = mixup_criterion(outputs, targets)\n",
    "            loss_aux1 = mixup_criterion(outputs_aux1, targets)\n",
    "            loss_aux2 = mixup_criterion(outputs_aux2, targets)\n",
    "            loss = loss_primary + (loss_aux1 + loss_aux2)*0.8\n",
    "            #loss = criterion(outputs, targets)\n",
    "\n",
    "        optimizer.zero_grad()\n",
    "        with amp.scale_loss(loss, optimizer) as scaled_loss:\n",
    "            scaled_loss.backward()\n",
    "        #loss.backward()\n",
    "        lr_scheduler(optimizer, batch_idx, epoch)\n",
    "        optimizer.step()            \n",
    "        \n",
    "        current_lr = get_lrs(optimizer)\n",
    "\n",
    "        train_loss += loss.item()\n",
    "        print('\\r {:4d} | {:.6f} | {:06d}/{} | {:.4f} | {:.4f} |'.format(\n",
    "            epoch, float(current_lr[0]), batch_size*(batch_idx+1), train_loader.num, \n",
    "            loss.item(), train_loss/(batch_idx+1)), end='')\n"
   ]
  },
  {
   "cell_type": "code",
   "execution_count": 36,
   "metadata": {},
   "outputs": [],
   "source": [
    "best_metrics = 0.\n",
    "\n",
    "def validate_and_save(model, model_file, val_loader, save=False):\n",
    "    global best_metrics\n",
    "    best_key = 'recall'\n",
    "    val_metrics = validate(model, val_loader)\n",
    "    print('\\nval:', val_metrics)\n",
    "    \n",
    "    if val_metrics[best_key] > best_metrics:\n",
    "        best_metrics = val_metrics[best_key]\n",
    "        if save:\n",
    "            save_model(model, model_file)\n",
    "            print('###>>>>> saved', model_file)\n",
    "    model.train()\n",
    "    \n",
    "\n",
    "def train(args):\n",
    "    model, model_file = create_model(args)\n",
    "    model = model.cuda()\n",
    "    \n",
    "    #for param in model.backbone.parameters():\n",
    "    #    param.requires_grad = False\n",
    "\n",
    "    swa_model, _ = create_model(args)\n",
    "    swa_model = swa_model.cuda()\n",
    "    swa_model_file = model_file\n",
    "\n",
    "    optimizer = make_optimizer(model)\n",
    "    lr_scheduler = WarmupCyclicalLR(\n",
    "        \"cos\", args.base_lr, args.num_epochs, iters_per_epoch=len(train_loader), warmup_epochs=args.warmup_epochs)\n",
    "    \n",
    "    [model, swa_model], optimizer = amp.initialize([model, swa_model], optimizer, opt_level=\"O1\",verbosity=0)\n",
    "    \n",
    "    if torch.cuda.device_count() > 1:\n",
    "        model = nn.DataParallel(model)\n",
    "        swa_model = nn.DataParallel(swa_model)\n",
    "    \n",
    "    validate_and_save(model, model_file, val_loader, save=False)\n",
    "    \n",
    "    for cycle in range(1, args.num_cycles+1):\n",
    "        print('CYCLE:', cycle)\n",
    "        grid = GridMask(64, 128, rotate=15, ratio=0.6, mode=1, prob=1.)\n",
    "\n",
    "        for epoch in range(args.start_epoch, args.num_epochs):\n",
    "            grid.set_prob(epoch, args.st_epochs)\n",
    "            train_epoch(args, model, train_loader, epoch, optimizer, lr_scheduler, grid)\n",
    "            validate_and_save(model, model_file, val_loader, save=True)\n",
    "            \n",
    "            if (epoch+1) == args.swa_start and cycle == 1:\n",
    "                copy_model(swa_model, model)\n",
    "                swa_n = 0\n",
    "            if (epoch+1) >= args.swa_start and (epoch+1) % args.swa_freq == 0:\n",
    "                print('SWA>>>:')\n",
    "                moving_average(swa_model, model, 1.0 / (swa_n + 1))\n",
    "                swa_n += 1\n",
    "                bn_update(train_loader, swa_model)\n",
    "                validate_and_save(swa_model, swa_model_file, val_loader, save=True)\n",
    "\n",
    "        # reset scheduler at each cycle\n",
    "        lr_scheduler = WarmupCyclicalLR(\n",
    "            \"cos\", args.base_lr, args.num_epochs, iters_per_epoch=len(train_loader), warmup_epochs=args.warmup_epochs)"
   ]
  },
  {
   "cell_type": "code",
   "execution_count": 37,
   "metadata": {},
   "outputs": [],
   "source": [
    "args = Namespace()\n",
    "args.backbone = 'se_resnext101_32x4d'\n",
    "args.ckp_name = 'model4_se_resnext101_fold3_224.pth'\n",
    "\n",
    "args.base_lr = 1.5e-4\n",
    "\n",
    "args.num_epochs = 60\n",
    "args.warmup_epochs = 10\n",
    "args.start_epoch = 0\n",
    "\n",
    "args.swa_start = 1000\n",
    "args.swa_freq = 4\n",
    "\n",
    "args.num_cycles = 100\n",
    "args.batch_size = 440\n",
    "args.val_batch_size = 1024\n",
    "args.st_epochs = 10\n",
    "\n",
    "args.beta = 1.0\n",
    "args.cutmix_prob = 0.5"
   ]
  },
  {
   "cell_type": "code",
   "execution_count": 38,
   "metadata": {},
   "outputs": [
    {
     "name": "stdout",
     "output_type": "stream",
     "text": [
      "(200840, 6)\n",
      "(200840, 32332)\n",
      "(160716, 6) (40124, 6)\n"
     ]
    }
   ],
   "source": [
    "train_loader, val_loader = get_train_val_loaders(batch_size=args.batch_size, val_batch_size=args.val_batch_size, ifold=3)"
   ]
  },
  {
   "cell_type": "code",
   "execution_count": 39,
   "metadata": {},
   "outputs": [],
   "source": [
    "#for param in model.backbone.parameters():\n",
    "#    param.requires_grad = False"
   ]
  },
  {
   "cell_type": "code",
   "execution_count": 40,
   "metadata": {},
   "outputs": [],
   "source": [
    "#validate(nn.DataParallel(model), val_loader)"
   ]
  },
  {
   "cell_type": "code",
   "execution_count": 41,
   "metadata": {
    "scrolled": true
   },
   "outputs": [
    {
     "name": "stdout",
     "output_type": "stream",
     "text": [
      "init model4\n",
      "model file: ./model4-ckps/se_resnext101_32x4d/model4_se_resnext101_fold3_224.pth, exist: True\n",
      "loading ./model4-ckps/se_resnext101_32x4d/model4_se_resnext101_fold3_224.pth...\n",
      "init model4\n",
      "model file: ./model4-ckps/se_resnext101_32x4d/model4_se_resnext101_fold3_224.pth, exist: True\n",
      "loading ./model4-ckps/se_resnext101_32x4d/model4_se_resnext101_fold3_224.pth...\n",
      "\n",
      "val: {'recall': 0.995777, 'recall_grapheme': 0.994077, 'recall_vowel': 0.996846, 'recall_consonant': 0.99811, 'recall_word': 0.99307, 'acc_grapheme': 0.99347, 'acc_vowel': 0.997059, 'acc_consonant': 0.997682, 'acc_word': 0.993047, 'loss_grapheme': 0.0246, 'loss_vowel': 0.012441, 'loss_consonant': 0.008668, 'loss_word': 0.02692}\n",
      "CYCLE: 1\n",
      "    0 | 0.000015 | 160600/160716 | 1.9527 | 12.0129 ||\n",
      "val: {'recall': 0.992213, 'recall_grapheme': 0.988496, 'recall_vowel': 0.995465, 'recall_consonant': 0.996394, 'recall_word': 0.98645, 'acc_grapheme': 0.988037, 'acc_vowel': 0.996012, 'acc_consonant': 0.995763, 'acc_word': 0.986317, 'loss_grapheme': 0.082455, 'loss_vowel': 0.06918, 'loss_consonant': 0.053365, 'loss_word': 0.073632}\n",
      "    1 | 0.000030 | 160600/160716 | 17.9707 | 11.5853 |\n",
      "val: {'recall': 0.992857, 'recall_grapheme': 0.989524, 'recall_vowel': 0.995875, 'recall_consonant': 0.996505, 'recall_word': 0.987725, 'acc_grapheme': 0.98876, 'acc_vowel': 0.995987, 'acc_consonant': 0.995913, 'acc_word': 0.987539, 'loss_grapheme': 0.086435, 'loss_vowel': 0.07847, 'loss_consonant': 0.059214, 'loss_word': 0.074878}\n",
      "    2 | 0.000045 | 160600/160716 | 20.7364 | 12.4012 |\n",
      "val: {'recall': 0.992697, 'recall_grapheme': 0.989479, 'recall_vowel': 0.995378, 'recall_consonant': 0.996453, 'recall_word': 0.987398, 'acc_grapheme': 0.988386, 'acc_vowel': 0.995913, 'acc_consonant': 0.996062, 'acc_word': 0.987289, 'loss_grapheme': 0.083874, 'loss_vowel': 0.075178, 'loss_consonant': 0.056502, 'loss_word': 0.073393}\n",
      "    3 | 0.000059 | 160600/160716 | 18.6038 | 12.3818 |\n",
      "val: {'recall': 0.992324, 'recall_grapheme': 0.988672, 'recall_vowel': 0.995846, 'recall_consonant': 0.996105, 'recall_word': 0.987234, 'acc_grapheme': 0.988112, 'acc_vowel': 0.995938, 'acc_consonant': 0.996037, 'acc_word': 0.98709, 'loss_grapheme': 0.093457, 'loss_vowel': 0.086879, 'loss_consonant': 0.062944, 'loss_word': 0.08069}\n",
      "    4 | 0.000074 | 160600/160716 | 0.8492 | 12.1740 ||\n",
      "val: {'recall': 0.993083, 'recall_grapheme': 0.98949, 'recall_vowel': 0.996097, 'recall_consonant': 0.997258, 'recall_word': 0.988482, 'acc_grapheme': 0.98876, 'acc_vowel': 0.996212, 'acc_consonant': 0.996311, 'acc_word': 0.988336, 'loss_grapheme': 0.067174, 'loss_vowel': 0.059875, 'loss_consonant': 0.044093, 'loss_word': 0.06132}\n",
      "    5 | 0.000088 | 160600/160716 | 3.8895 | 12.5137 ||\n",
      "val: {'recall': 0.99195, 'recall_grapheme': 0.98818, 'recall_vowel': 0.995371, 'recall_consonant': 0.996069, 'recall_word': 0.986257, 'acc_grapheme': 0.987763, 'acc_vowel': 0.995863, 'acc_consonant': 0.995987, 'acc_word': 0.986118, 'loss_grapheme': 0.076243, 'loss_vowel': 0.063291, 'loss_consonant': 0.047558, 'loss_word': 0.071323}\n",
      "    6 | 0.000101 | 160600/160716 | 20.5675 | 12.3185 |\n",
      "val: {'recall': 0.992479, 'recall_grapheme': 0.988624, 'recall_vowel': 0.995984, 'recall_consonant': 0.996686, 'recall_word': 0.988529, 'acc_grapheme': 0.988386, 'acc_vowel': 0.995938, 'acc_consonant': 0.996336, 'acc_word': 0.988461, 'loss_grapheme': 0.096668, 'loss_vowel': 0.092671, 'loss_consonant': 0.067271, 'loss_word': 0.076673}\n",
      "    7 | 0.000115 | 160600/160716 | 20.5747 | 12.5078 |\n",
      "val: {'recall': 0.990866, 'recall_grapheme': 0.986348, 'recall_vowel': 0.994824, 'recall_consonant': 0.995946, 'recall_word': 0.984891, 'acc_grapheme': 0.985919, 'acc_vowel': 0.99529, 'acc_consonant': 0.99524, 'acc_word': 0.984847, 'loss_grapheme': 0.104864, 'loss_vowel': 0.08627, 'loss_consonant': 0.066961, 'loss_word': 0.08749}\n",
      "    8 | 0.000128 | 160600/160716 | 16.8590 | 13.0703 |\n",
      "val: {'recall': 0.992898, 'recall_grapheme': 0.989631, 'recall_vowel': 0.995346, 'recall_consonant': 0.996984, 'recall_word': 0.988591, 'acc_grapheme': 0.98886, 'acc_vowel': 0.995838, 'acc_consonant': 0.995738, 'acc_word': 0.988461, 'loss_grapheme': 0.097666, 'loss_vowel': 0.087932, 'loss_consonant': 0.061648, 'loss_word': 0.080636}\n",
      "    9 | 0.000140 | 160600/160716 | 20.2234 | 12.7743 |\n",
      "val: {'recall': 0.991839, 'recall_grapheme': 0.987923, 'recall_vowel': 0.995469, 'recall_consonant': 0.996043, 'recall_word': 0.985905, 'acc_grapheme': 0.986766, 'acc_vowel': 0.995614, 'acc_consonant': 0.995738, 'acc_word': 0.985819, 'loss_grapheme': 0.101851, 'loss_vowel': 0.084429, 'loss_consonant': 0.063496, 'loss_word': 0.082784}\n",
      "   10 | 0.000138 | 160600/160716 | 3.5801 | 12.3786 ||\n",
      "val: {'recall': 0.99179, 'recall_grapheme': 0.988031, 'recall_vowel': 0.994414, 'recall_consonant': 0.996682, 'recall_word': 0.987235, 'acc_grapheme': 0.98714, 'acc_vowel': 0.995738, 'acc_consonant': 0.996012, 'acc_word': 0.987065, 'loss_grapheme': 0.088611, 'loss_vowel': 0.076509, 'loss_consonant': 0.060397, 'loss_word': 0.075894}\n",
      "   11 | 0.000136 | 160600/160716 | 6.8641 | 12.4698 ||\n",
      "val: {'recall': 0.993449, 'recall_grapheme': 0.990103, 'recall_vowel': 0.996278, 'recall_consonant': 0.997313, 'recall_word': 0.988556, 'acc_grapheme': 0.989383, 'acc_vowel': 0.996237, 'acc_consonant': 0.995913, 'acc_word': 0.988486, 'loss_grapheme': 0.088643, 'loss_vowel': 0.087421, 'loss_consonant': 0.062573, 'loss_word': 0.074454}\n",
      "   12 | 0.000133 | 160600/160716 | 20.9748 | 12.5303 |\n",
      "val: {'recall': 0.99278, 'recall_grapheme': 0.989581, 'recall_vowel': 0.99505, 'recall_consonant': 0.996907, 'recall_word': 0.988327, 'acc_grapheme': 0.98861, 'acc_vowel': 0.995938, 'acc_consonant': 0.996137, 'acc_word': 0.988162, 'loss_grapheme': 0.091454, 'loss_vowel': 0.090356, 'loss_consonant': 0.067038, 'loss_word': 0.076784}\n",
      "   13 | 0.000131 | 160600/160716 | 21.3200 | 12.5804 |\n",
      "val: {'recall': 0.992159, 'recall_grapheme': 0.988521, 'recall_vowel': 0.995207, 'recall_consonant': 0.996388, 'recall_word': 0.987412, 'acc_grapheme': 0.987314, 'acc_vowel': 0.995614, 'acc_consonant': 0.995713, 'acc_word': 0.98714, 'loss_grapheme': 0.10445, 'loss_vowel': 0.10299, 'loss_consonant': 0.074005, 'loss_word': 0.083693}\n",
      "   14 | 0.000128 | 160600/160716 | 7.2501 | 11.8166 ||\n",
      "val: {'recall': 0.991823, 'recall_grapheme': 0.988202, 'recall_vowel': 0.995221, 'recall_consonant': 0.995667, 'recall_word': 0.986356, 'acc_grapheme': 0.987613, 'acc_vowel': 0.995838, 'acc_consonant': 0.996012, 'acc_word': 0.986218, 'loss_grapheme': 0.083338, 'loss_vowel': 0.068276, 'loss_consonant': 0.053221, 'loss_word': 0.075108}\n",
      "   15 | 0.000125 | 160600/160716 | 17.0834 | 11.9679 |\n",
      "val: {'recall': 0.993086, 'recall_grapheme': 0.989856, 'recall_vowel': 0.995566, 'recall_consonant': 0.997066, 'recall_word': 0.988762, 'acc_grapheme': 0.988884, 'acc_vowel': 0.995888, 'acc_consonant': 0.996037, 'acc_word': 0.988635, 'loss_grapheme': 0.098301, 'loss_vowel': 0.099606, 'loss_consonant': 0.069307, 'loss_word': 0.076475}\n",
      "   16 | 0.000122 | 160600/160716 | 20.9062 | 12.1304 |\n",
      "val: {'recall': 0.992324, 'recall_grapheme': 0.988888, 'recall_vowel': 0.994895, 'recall_consonant': 0.996626, 'recall_word': 0.98748, 'acc_grapheme': 0.988286, 'acc_vowel': 0.995938, 'acc_consonant': 0.996112, 'acc_word': 0.987464, 'loss_grapheme': 0.074621, 'loss_vowel': 0.068201, 'loss_consonant': 0.053853, 'loss_word': 0.065039}\n",
      "   17 | 0.000119 | 160600/160716 | 20.9323 | 12.3977 |\n",
      "val: {'recall': 0.993135, 'recall_grapheme': 0.989852, 'recall_vowel': 0.995591, 'recall_consonant': 0.997244, 'recall_word': 0.989205, 'acc_grapheme': 0.989333, 'acc_vowel': 0.996012, 'acc_consonant': 0.996561, 'acc_word': 0.989134, 'loss_grapheme': 0.080396, 'loss_vowel': 0.079534, 'loss_consonant': 0.058093, 'loss_word': 0.065033}\n",
      "   18 | 0.000116 | 160600/160716 | 20.7899 | 11.9689 |\n",
      "val: {'recall': 0.992433, 'recall_grapheme': 0.988852, 'recall_vowel': 0.994755, 'recall_consonant': 0.997274, 'recall_word': 0.987955, 'acc_grapheme': 0.988635, 'acc_vowel': 0.995738, 'acc_consonant': 0.996386, 'acc_word': 0.987863, 'loss_grapheme': 0.081173, 'loss_vowel': 0.073517, 'loss_consonant': 0.05322, 'loss_word': 0.072305}\n",
      "   19 | 0.000113 | 160600/160716 | 8.6902 | 12.1632 ||\n",
      "val: {'recall': 0.992599, 'recall_grapheme': 0.988573, 'recall_vowel': 0.996077, 'recall_consonant': 0.997173, 'recall_word': 0.986991, 'acc_grapheme': 0.988212, 'acc_vowel': 0.996037, 'acc_consonant': 0.996062, 'acc_word': 0.986841, 'loss_grapheme': 0.086934, 'loss_vowel': 0.074505, 'loss_consonant': 0.055405, 'loss_word': 0.076862}\n"
     ]
    },
    {
     "name": "stdout",
     "output_type": "stream",
     "text": [
      "   20 | 0.000109 | 160600/160716 | 12.8580 | 12.4901 |\n",
      "val: {'recall': 0.992932, 'recall_grapheme': 0.989504, 'recall_vowel': 0.99572, 'recall_consonant': 0.996999, 'recall_word': 0.98799, 'acc_grapheme': 0.988486, 'acc_vowel': 0.996237, 'acc_consonant': 0.996137, 'acc_word': 0.987863, 'loss_grapheme': 0.091197, 'loss_vowel': 0.081313, 'loss_consonant': 0.059179, 'loss_word': 0.077822}\n",
      "   21 | 0.000106 | 160600/160716 | 21.4262 | 11.8378 |\n",
      "val: {'recall': 0.991404, 'recall_grapheme': 0.987282, 'recall_vowel': 0.995096, 'recall_consonant': 0.995958, 'recall_word': 0.984981, 'acc_grapheme': 0.986367, 'acc_vowel': 0.995788, 'acc_consonant': 0.995514, 'acc_word': 0.984772, 'loss_grapheme': 0.08523, 'loss_vowel': 0.068181, 'loss_consonant': 0.052766, 'loss_word': 0.078215}\n",
      "   22 | 0.000102 | 160600/160716 | 18.5419 | 11.5148 |\n",
      "val: {'recall': 0.992849, 'recall_grapheme': 0.98917, 'recall_vowel': 0.996185, 'recall_consonant': 0.996869, 'recall_word': 0.987154, 'acc_grapheme': 0.98861, 'acc_vowel': 0.996361, 'acc_consonant': 0.996411, 'acc_word': 0.987065, 'loss_grapheme': 0.067574, 'loss_vowel': 0.051863, 'loss_consonant': 0.040811, 'loss_word': 0.0661}\n",
      "   23 | 0.000098 | 160600/160716 | 15.9050 | 12.2798 |\n",
      "val: {'recall': 0.992218, 'recall_grapheme': 0.988567, 'recall_vowel': 0.995422, 'recall_consonant': 0.996314, 'recall_word': 0.987413, 'acc_grapheme': 0.988685, 'acc_vowel': 0.996012, 'acc_consonant': 0.996012, 'acc_word': 0.987289, 'loss_grapheme': 0.077397, 'loss_vowel': 0.067708, 'loss_consonant': 0.050019, 'loss_word': 0.068686}\n",
      "   24 | 0.000094 | 160600/160716 | 21.3232 | 12.0582 |\n",
      "val: {'recall': 0.99276, 'recall_grapheme': 0.98983, 'recall_vowel': 0.995059, 'recall_consonant': 0.996323, 'recall_word': 0.987946, 'acc_grapheme': 0.989184, 'acc_vowel': 0.995738, 'acc_consonant': 0.996212, 'acc_word': 0.987838, 'loss_grapheme': 0.078572, 'loss_vowel': 0.073213, 'loss_consonant': 0.053275, 'loss_word': 0.069531}\n",
      "   25 | 0.000091 | 160600/160716 | 6.9535 | 11.7301 ||\n",
      "val: {'recall': 0.992013, 'recall_grapheme': 0.988017, 'recall_vowel': 0.9951, 'recall_consonant': 0.996919, 'recall_word': 0.986262, 'acc_grapheme': 0.987738, 'acc_vowel': 0.995639, 'acc_consonant': 0.996087, 'acc_word': 0.986193, 'loss_grapheme': 0.076189, 'loss_vowel': 0.066543, 'loss_consonant': 0.049435, 'loss_word': 0.070078}\n",
      "   26 | 0.000087 | 160600/160716 | 19.6532 | 12.4137 |\n",
      "val: {'recall': 0.994103, 'recall_grapheme': 0.991619, 'recall_vowel': 0.995561, 'recall_consonant': 0.997611, 'recall_word': 0.989106, 'acc_grapheme': 0.99043, 'acc_vowel': 0.996137, 'acc_consonant': 0.996411, 'acc_word': 0.988909, 'loss_grapheme': 0.074174, 'loss_vowel': 0.072768, 'loss_consonant': 0.05343, 'loss_word': 0.064007}\n",
      "   27 | 0.000083 | 160600/160716 | 1.7071 | 11.8384 ||\n",
      "val: {'recall': 0.992512, 'recall_grapheme': 0.989315, 'recall_vowel': 0.994986, 'recall_consonant': 0.99643, 'recall_word': 0.987186, 'acc_grapheme': 0.988461, 'acc_vowel': 0.995813, 'acc_consonant': 0.996262, 'acc_word': 0.987015, 'loss_grapheme': 0.079611, 'loss_vowel': 0.068266, 'loss_consonant': 0.051436, 'loss_word': 0.074334}\n",
      "   28 | 0.000079 | 160600/160716 | 6.7468 | 11.6960 ||\n",
      "val: {'recall': 0.992833, 'recall_grapheme': 0.989211, 'recall_vowel': 0.995687, 'recall_consonant': 0.997222, 'recall_word': 0.98668, 'acc_grapheme': 0.988112, 'acc_vowel': 0.995987, 'acc_consonant': 0.995987, 'acc_word': 0.986592, 'loss_grapheme': 0.075919, 'loss_vowel': 0.063291, 'loss_consonant': 0.049908, 'loss_word': 0.06992}\n",
      "   29 | 0.000075 | 160600/160716 | 21.3569 | 12.3102 |\n",
      "val: {'recall': 0.992252, 'recall_grapheme': 0.988255, 'recall_vowel': 0.995424, 'recall_consonant': 0.997076, 'recall_word': 0.986225, 'acc_grapheme': 0.987688, 'acc_vowel': 0.995863, 'acc_consonant': 0.995888, 'acc_word': 0.986143, 'loss_grapheme': 0.077506, 'loss_vowel': 0.061731, 'loss_consonant': 0.049565, 'loss_word': 0.07051}\n",
      "   30 | 0.000071 | 160600/160716 | 18.8522 | 12.3704 |\n",
      "val: {'recall': 0.993287, 'recall_grapheme': 0.990033, 'recall_vowel': 0.995658, 'recall_consonant': 0.997424, 'recall_word': 0.989241, 'acc_grapheme': 0.989358, 'acc_vowel': 0.996212, 'acc_consonant': 0.996685, 'acc_word': 0.989134, 'loss_grapheme': 0.083029, 'loss_vowel': 0.083824, 'loss_consonant': 0.060434, 'loss_word': 0.069779}\n",
      "   31 | 0.000067 | 160600/160716 | 6.9992 | 12.3257 ||\n",
      "val: {'recall': 0.99112, 'recall_grapheme': 0.987209, 'recall_vowel': 0.995528, 'recall_consonant': 0.994536, 'recall_word': 0.985203, 'acc_grapheme': 0.986691, 'acc_vowel': 0.995813, 'acc_consonant': 0.995464, 'acc_word': 0.985121, 'loss_grapheme': 0.088964, 'loss_vowel': 0.0705, 'loss_consonant': 0.054817, 'loss_word': 0.076908}\n",
      "   32 | 0.000063 | 160600/160716 | 7.6967 | 12.4723 ||\n",
      "val: {'recall': 0.993555, 'recall_grapheme': 0.990648, 'recall_vowel': 0.995514, 'recall_consonant': 0.997412, 'recall_word': 0.988841, 'acc_grapheme': 0.989856, 'acc_vowel': 0.996162, 'acc_consonant': 0.996735, 'acc_word': 0.988785, 'loss_grapheme': 0.06662, 'loss_vowel': 0.060738, 'loss_consonant': 0.044713, 'loss_word': 0.06125}\n",
      "   33 | 0.000059 | 160600/160716 | 11.1515 | 11.7923 |\n",
      "val: {'recall': 0.993976, 'recall_grapheme': 0.991093, 'recall_vowel': 0.996192, 'recall_consonant': 0.997527, 'recall_word': 0.989324, 'acc_grapheme': 0.99018, 'acc_vowel': 0.996212, 'acc_consonant': 0.99671, 'acc_word': 0.989159, 'loss_grapheme': 0.065067, 'loss_vowel': 0.059514, 'loss_consonant': 0.043087, 'loss_word': 0.060665}\n",
      "   34 | 0.000056 | 160600/160716 | 9.0273 | 11.9409 ||\n",
      "val: {'recall': 0.992394, 'recall_grapheme': 0.989265, 'recall_vowel': 0.995475, 'recall_consonant': 0.99557, 'recall_word': 0.986626, 'acc_grapheme': 0.987962, 'acc_vowel': 0.995863, 'acc_consonant': 0.996287, 'acc_word': 0.986542, 'loss_grapheme': 0.077369, 'loss_vowel': 0.06813, 'loss_consonant': 0.052525, 'loss_word': 0.067972}\n",
      "   35 | 0.000052 | 160600/160716 | 7.6230 | 11.8212 ||\n",
      "val: {'recall': 0.992989, 'recall_grapheme': 0.989554, 'recall_vowel': 0.995318, 'recall_consonant': 0.997532, 'recall_word': 0.987776, 'acc_grapheme': 0.988735, 'acc_vowel': 0.995938, 'acc_consonant': 0.996237, 'acc_word': 0.987564, 'loss_grapheme': 0.071791, 'loss_vowel': 0.062897, 'loss_consonant': 0.048328, 'loss_word': 0.066209}\n",
      "   36 | 0.000048 | 160600/160716 | 19.1467 | 12.0890 |\n",
      "val: {'recall': 0.993211, 'recall_grapheme': 0.990281, 'recall_vowel': 0.996235, 'recall_consonant': 0.996045, 'recall_word': 0.988318, 'acc_grapheme': 0.989532, 'acc_vowel': 0.996411, 'acc_consonant': 0.99676, 'acc_word': 0.988187, 'loss_grapheme': 0.069127, 'loss_vowel': 0.059535, 'loss_consonant': 0.045633, 'loss_word': 0.064343}\n",
      "   37 | 0.000045 | 160600/160716 | 20.3674 | 11.5136 |\n",
      "val: {'recall': 0.992573, 'recall_grapheme': 0.989061, 'recall_vowel': 0.995746, 'recall_consonant': 0.996423, 'recall_word': 0.986994, 'acc_grapheme': 0.988012, 'acc_vowel': 0.996112, 'acc_consonant': 0.996511, 'acc_word': 0.986866, 'loss_grapheme': 0.076973, 'loss_vowel': 0.065886, 'loss_consonant': 0.051253, 'loss_word': 0.069056}\n",
      "   38 | 0.000041 | 160600/160716 | 19.8976 | 12.2497 |\n",
      "val: {'recall': 0.993436, 'recall_grapheme': 0.990447, 'recall_vowel': 0.996316, 'recall_consonant': 0.996533, 'recall_word': 0.988296, 'acc_grapheme': 0.989682, 'acc_vowel': 0.996436, 'acc_consonant': 0.996586, 'acc_word': 0.988112, 'loss_grapheme': 0.071324, 'loss_vowel': 0.064818, 'loss_consonant': 0.049926, 'loss_word': 0.06484}\n",
      "   39 | 0.000038 | 160600/160716 | 13.4699 | 11.8916 |\n",
      "val: {'recall': 0.992928, 'recall_grapheme': 0.989668, 'recall_vowel': 0.995916, 'recall_consonant': 0.996462, 'recall_word': 0.987528, 'acc_grapheme': 0.988884, 'acc_vowel': 0.996212, 'acc_consonant': 0.996336, 'acc_word': 0.987364, 'loss_grapheme': 0.069106, 'loss_vowel': 0.056199, 'loss_consonant': 0.044899, 'loss_word': 0.0644}\n",
      "   40 | 0.000034 | 160600/160716 | 17.5395 | 11.9140 |\n",
      "val: {'recall': 0.99405, 'recall_grapheme': 0.9911, 'recall_vowel': 0.996251, 'recall_consonant': 0.99775, 'recall_word': 0.988802, 'acc_grapheme': 0.989807, 'acc_vowel': 0.996336, 'acc_consonant': 0.99676, 'acc_word': 0.988585, 'loss_grapheme': 0.076408, 'loss_vowel': 0.073745, 'loss_consonant': 0.054509, 'loss_word': 0.067081}\n"
     ]
    },
    {
     "name": "stdout",
     "output_type": "stream",
     "text": [
      "   41 | 0.000031 | 160600/160716 | 4.2393 | 11.7289 ||\n",
      "val: {'recall': 0.992444, 'recall_grapheme': 0.988987, 'recall_vowel': 0.995932, 'recall_consonant': 0.99587, 'recall_word': 0.986379, 'acc_grapheme': 0.987937, 'acc_vowel': 0.996162, 'acc_consonant': 0.996062, 'acc_word': 0.986218, 'loss_grapheme': 0.075943, 'loss_vowel': 0.053815, 'loss_consonant': 0.042673, 'loss_word': 0.06999}\n",
      "   42 | 0.000028 | 160600/160716 | 20.6966 | 11.6732 |\n",
      "val: {'recall': 0.992795, 'recall_grapheme': 0.989017, 'recall_vowel': 0.995607, 'recall_consonant': 0.997537, 'recall_word': 0.986842, 'acc_grapheme': 0.988536, 'acc_vowel': 0.996012, 'acc_consonant': 0.996411, 'acc_word': 0.986616, 'loss_grapheme': 0.075072, 'loss_vowel': 0.06406, 'loss_consonant': 0.048939, 'loss_word': 0.068606}\n",
      "   43 | 0.000025 | 160600/160716 | 17.5353 | 11.5847 |\n",
      "val: {'recall': 0.993747, 'recall_grapheme': 0.990533, 'recall_vowel': 0.99606, 'recall_consonant': 0.997862, 'recall_word': 0.988498, 'acc_grapheme': 0.989582, 'acc_vowel': 0.996561, 'acc_consonant': 0.99686, 'acc_word': 0.988261, 'loss_grapheme': 0.07299, 'loss_vowel': 0.067508, 'loss_consonant': 0.051682, 'loss_word': 0.066874}\n",
      "   44 | 0.000022 | 160600/160716 | 5.3467 | 11.9887 ||\n",
      "val: {'recall': 0.992248, 'recall_grapheme': 0.988028, 'recall_vowel': 0.995608, 'recall_consonant': 0.997329, 'recall_word': 0.985881, 'acc_grapheme': 0.987564, 'acc_vowel': 0.996087, 'acc_consonant': 0.996212, 'acc_word': 0.985744, 'loss_grapheme': 0.077822, 'loss_vowel': 0.058226, 'loss_consonant': 0.047295, 'loss_word': 0.071351}\n",
      "   45 | 0.000019 | 160600/160716 | 2.3381 | 11.8392 ||\n",
      "val: {'recall': 0.992748, 'recall_grapheme': 0.988967, 'recall_vowel': 0.995608, 'recall_consonant': 0.997451, 'recall_word': 0.986917, 'acc_grapheme': 0.988461, 'acc_vowel': 0.996262, 'acc_consonant': 0.996361, 'acc_word': 0.986766, 'loss_grapheme': 0.070164, 'loss_vowel': 0.055356, 'loss_consonant': 0.044495, 'loss_word': 0.064551}\n",
      "   46 | 0.000017 | 160600/160716 | 2.6611 | 11.8358 ||\n",
      "val: {'recall': 0.992936, 'recall_grapheme': 0.989229, 'recall_vowel': 0.995685, 'recall_consonant': 0.997603, 'recall_word': 0.986947, 'acc_grapheme': 0.988461, 'acc_vowel': 0.995987, 'acc_consonant': 0.996436, 'acc_word': 0.986891, 'loss_grapheme': 0.070484, 'loss_vowel': 0.055586, 'loss_consonant': 0.044091, 'loss_word': 0.065221}\n",
      "   47 | 0.000014 | 160600/160716 | 1.8078 | 11.5339 ||\n",
      "val: {'recall': 0.993619, 'recall_grapheme': 0.990226, 'recall_vowel': 0.996227, 'recall_consonant': 0.997796, 'recall_word': 0.98831, 'acc_grapheme': 0.989657, 'acc_vowel': 0.996411, 'acc_consonant': 0.99681, 'acc_word': 0.988236, 'loss_grapheme': 0.062961, 'loss_vowel': 0.051271, 'loss_consonant': 0.03945, 'loss_word': 0.060238}\n",
      "   48 | 0.000012 | 160600/160716 | 2.9675 | 11.8938 ||\n",
      "val: {'recall': 0.994276, 'recall_grapheme': 0.991425, 'recall_vowel': 0.996327, 'recall_consonant': 0.997927, 'recall_word': 0.989098, 'acc_grapheme': 0.990355, 'acc_vowel': 0.996586, 'acc_consonant': 0.997059, 'acc_word': 0.988959, 'loss_grapheme': 0.061696, 'loss_vowel': 0.055637, 'loss_consonant': 0.041405, 'loss_word': 0.058099}\n",
      "   49 | 0.000010 | 160600/160716 | 19.1487 | 11.9649 |\n",
      "val: {'recall': 0.993717, 'recall_grapheme': 0.990381, 'recall_vowel': 0.996335, 'recall_consonant': 0.997772, 'recall_word': 0.98811, 'acc_grapheme': 0.989532, 'acc_vowel': 0.996311, 'acc_consonant': 0.99666, 'acc_word': 0.988037, 'loss_grapheme': 0.071715, 'loss_vowel': 0.065527, 'loss_consonant': 0.050868, 'loss_word': 0.064341}\n",
      "   50 | 0.000008 | 160600/160716 | 17.1120 | 12.2664 |\n",
      "val: {'recall': 0.994094, 'recall_grapheme': 0.99107, 'recall_vowel': 0.996327, 'recall_consonant': 0.99791, 'recall_word': 0.989444, 'acc_grapheme': 0.990405, 'acc_vowel': 0.996586, 'acc_consonant': 0.997034, 'acc_word': 0.989333, 'loss_grapheme': 0.071173, 'loss_vowel': 0.06903, 'loss_consonant': 0.050873, 'loss_word': 0.064891}\n",
      "   51 | 0.000006 | 160600/160716 | 8.3956 | 11.2748 ||\n",
      "val: {'recall': 0.992432, 'recall_grapheme': 0.988547, 'recall_vowel': 0.995944, 'recall_consonant': 0.99669, 'recall_word': 0.986149, 'acc_grapheme': 0.987738, 'acc_vowel': 0.996037, 'acc_consonant': 0.995963, 'acc_word': 0.986093, 'loss_grapheme': 0.085711, 'loss_vowel': 0.068486, 'loss_consonant': 0.054903, 'loss_word': 0.0749}\n",
      "   52 | 0.000005 | 160600/160716 | 9.8796 | 11.0458 ||\n",
      "val: {'recall': 0.993731, 'recall_grapheme': 0.990309, 'recall_vowel': 0.996384, 'recall_consonant': 0.99792, 'recall_word': 0.988233, 'acc_grapheme': 0.989807, 'acc_vowel': 0.996311, 'acc_consonant': 0.99691, 'acc_word': 0.988162, 'loss_grapheme': 0.065796, 'loss_vowel': 0.055845, 'loss_consonant': 0.042759, 'loss_word': 0.062336}\n",
      "   53 | 0.000004 | 160600/160716 | 20.8151 | 11.6957 |\n",
      "val: {'recall': 0.993748, 'recall_grapheme': 0.990326, 'recall_vowel': 0.996392, 'recall_consonant': 0.997947, 'recall_word': 0.988196, 'acc_grapheme': 0.989807, 'acc_vowel': 0.996461, 'acc_consonant': 0.99691, 'acc_word': 0.988112, 'loss_grapheme': 0.0677, 'loss_vowel': 0.056483, 'loss_consonant': 0.043878, 'loss_word': 0.063959}\n",
      "   54 | 0.000003 | 160600/160716 | 19.5643 | 11.2399 |\n",
      "val: {'recall': 0.994089, 'recall_grapheme': 0.99109, 'recall_vowel': 0.996381, 'recall_consonant': 0.997795, 'recall_word': 0.98936, 'acc_grapheme': 0.989981, 'acc_vowel': 0.996511, 'acc_consonant': 0.996885, 'acc_word': 0.989208, 'loss_grapheme': 0.075085, 'loss_vowel': 0.073788, 'loss_consonant': 0.055646, 'loss_word': 0.066207}\n",
      "   55 | 0.000002 | 160600/160716 | 20.4341 | 11.3526 |\n",
      "val: {'recall': 0.993831, 'recall_grapheme': 0.990608, 'recall_vowel': 0.996322, 'recall_consonant': 0.997784, 'recall_word': 0.988673, 'acc_grapheme': 0.989732, 'acc_vowel': 0.996386, 'acc_consonant': 0.99671, 'acc_word': 0.98856, 'loss_grapheme': 0.075924, 'loss_vowel': 0.073879, 'loss_consonant': 0.055656, 'loss_word': 0.066235}\n",
      "   56 | 0.000001 | 160600/160716 | 16.5190 | 11.6747 |\n",
      "val: {'recall': 0.994189, 'recall_grapheme': 0.991243, 'recall_vowel': 0.99625, 'recall_consonant': 0.998021, 'recall_word': 0.989537, 'acc_grapheme': 0.990305, 'acc_vowel': 0.996536, 'acc_consonant': 0.997009, 'acc_word': 0.989383, 'loss_grapheme': 0.073363, 'loss_vowel': 0.074133, 'loss_consonant': 0.055022, 'loss_word': 0.062606}\n",
      "   57 | 0.000000 | 160600/160716 | 20.3821 | 11.7235 |\n",
      "val: {'recall': 0.993634, 'recall_grapheme': 0.990167, 'recall_vowel': 0.996366, 'recall_consonant': 0.997836, 'recall_word': 0.988332, 'acc_grapheme': 0.989508, 'acc_vowel': 0.996436, 'acc_consonant': 0.996685, 'acc_word': 0.988187, 'loss_grapheme': 0.067412, 'loss_vowel': 0.058849, 'loss_consonant': 0.045633, 'loss_word': 0.062094}\n",
      "   58 | 0.000000 | 160600/160716 | 1.8298 | 11.3104 ||\n",
      "val: {'recall': 0.994082, 'recall_grapheme': 0.990912, 'recall_vowel': 0.996463, 'recall_consonant': 0.99804, 'recall_word': 0.988688, 'acc_grapheme': 0.990106, 'acc_vowel': 0.996685, 'acc_consonant': 0.997084, 'acc_word': 0.98856, 'loss_grapheme': 0.059955, 'loss_vowel': 0.048395, 'loss_consonant': 0.037502, 'loss_word': 0.05828}\n",
      "   59 | 0.000000 | 160600/160716 | 12.2206 | 11.8528 |\n",
      "val: {'recall': 0.993947, 'recall_grapheme': 0.990814, 'recall_vowel': 0.996237, 'recall_consonant': 0.997925, 'recall_word': 0.988802, 'acc_grapheme': 0.990031, 'acc_vowel': 0.996436, 'acc_consonant': 0.99681, 'acc_word': 0.988735, 'loss_grapheme': 0.068298, 'loss_vowel': 0.06335, 'loss_consonant': 0.048498, 'loss_word': 0.061822}\n",
      "CYCLE: 2\n",
      "    0 | 0.000015 | 160600/160716 | 3.5354 | 11.9033 ||\n",
      "val: {'recall': 0.992039, 'recall_grapheme': 0.9882, 'recall_vowel': 0.99583, 'recall_consonant': 0.995924, 'recall_word': 0.985947, 'acc_grapheme': 0.987539, 'acc_vowel': 0.995938, 'acc_consonant': 0.995913, 'acc_word': 0.985844, 'loss_grapheme': 0.081415, 'loss_vowel': 0.062208, 'loss_consonant': 0.050522, 'loss_word': 0.072203}\n",
      "    1 | 0.000030 | 160600/160716 | 5.7630 | 11.6101 ||\n",
      "val: {'recall': 0.991894, 'recall_grapheme': 0.988306, 'recall_vowel': 0.995536, 'recall_consonant': 0.995429, 'recall_word': 0.985398, 'acc_grapheme': 0.987564, 'acc_vowel': 0.995863, 'acc_consonant': 0.995813, 'acc_word': 0.98537, 'loss_grapheme': 0.081032, 'loss_vowel': 0.058503, 'loss_consonant': 0.048225, 'loss_word': 0.073108}\n"
     ]
    },
    {
     "name": "stdout",
     "output_type": "stream",
     "text": [
      "    2 | 0.000045 | 160600/160716 | 6.3126 | 11.7465 ||\n",
      "val: {'recall': 0.992897, 'recall_grapheme': 0.989372, 'recall_vowel': 0.995471, 'recall_consonant': 0.997373, 'recall_word': 0.987215, 'acc_grapheme': 0.988685, 'acc_vowel': 0.996162, 'acc_consonant': 0.996361, 'acc_word': 0.98709, 'loss_grapheme': 0.072414, 'loss_vowel': 0.062011, 'loss_consonant': 0.048047, 'loss_word': 0.06711}\n",
      "    3 | 0.000059 | 160600/160716 | 5.7804 | 11.6953 ||\n",
      "val: {'recall': 0.992867, 'recall_grapheme': 0.989194, 'recall_vowel': 0.9957, 'recall_consonant': 0.997381, 'recall_word': 0.987, 'acc_grapheme': 0.988486, 'acc_vowel': 0.995813, 'acc_consonant': 0.996212, 'acc_word': 0.986791, 'loss_grapheme': 0.070728, 'loss_vowel': 0.055763, 'loss_consonant': 0.044861, 'loss_word': 0.068359}\n",
      "    4 | 0.000074 | 160600/160716 | 20.0910 | 12.2234 |\n",
      "val: {'recall': 0.993096, 'recall_grapheme': 0.98954, 'recall_vowel': 0.995603, 'recall_consonant': 0.9977, 'recall_word': 0.986765, 'acc_grapheme': 0.988461, 'acc_vowel': 0.995838, 'acc_consonant': 0.996486, 'acc_word': 0.986542, 'loss_grapheme': 0.076906, 'loss_vowel': 0.069484, 'loss_consonant': 0.053104, 'loss_word': 0.070164}\n",
      "    5 | 0.000088 | 160600/160716 | 20.7939 | 11.9841 |\n",
      "val: {'recall': 0.992874, 'recall_grapheme': 0.989223, 'recall_vowel': 0.995865, 'recall_consonant': 0.997183, 'recall_word': 0.98736, 'acc_grapheme': 0.98881, 'acc_vowel': 0.995938, 'acc_consonant': 0.995987, 'acc_word': 0.987215, 'loss_grapheme': 0.07172, 'loss_vowel': 0.061408, 'loss_consonant': 0.046861, 'loss_word': 0.06604}\n",
      "    6 | 0.000101 | 160600/160716 | 15.4941 | 12.1950 |\n",
      "val: {'recall': 0.993481, 'recall_grapheme': 0.990295, 'recall_vowel': 0.995877, 'recall_consonant': 0.997458, 'recall_word': 0.987781, 'acc_grapheme': 0.988884, 'acc_vowel': 0.996311, 'acc_consonant': 0.996436, 'acc_word': 0.987564, 'loss_grapheme': 0.074941, 'loss_vowel': 0.07292, 'loss_consonant': 0.05314, 'loss_word': 0.06838}\n",
      "    7 | 0.000115 | 160600/160716 | 6.5406 | 11.5644 ||\n",
      "val: {'recall': 0.991698, 'recall_grapheme': 0.987495, 'recall_vowel': 0.994886, 'recall_consonant': 0.996915, 'recall_word': 0.985754, 'acc_grapheme': 0.98714, 'acc_vowel': 0.995763, 'acc_consonant': 0.995838, 'acc_word': 0.985645, 'loss_grapheme': 0.088921, 'loss_vowel': 0.07613, 'loss_consonant': 0.058449, 'loss_word': 0.076947}\n",
      "    8 | 0.000128 | 160600/160716 | 18.5975 | 12.1717 |\n",
      "val: {'recall': 0.993617, 'recall_grapheme': 0.990667, 'recall_vowel': 0.995921, 'recall_consonant': 0.997216, 'recall_word': 0.989228, 'acc_grapheme': 0.990081, 'acc_vowel': 0.996287, 'acc_consonant': 0.99666, 'acc_word': 0.989059, 'loss_grapheme': 0.068305, 'loss_vowel': 0.058409, 'loss_consonant': 0.044691, 'loss_word': 0.063633}\n",
      "    9 | 0.000140 | 160600/160716 | 1.0394 | 12.2490 ||\n",
      "val: {'recall': 0.993617, 'recall_grapheme': 0.990487, 'recall_vowel': 0.99597, 'recall_consonant': 0.997522, 'recall_word': 0.988195, 'acc_grapheme': 0.988959, 'acc_vowel': 0.996237, 'acc_consonant': 0.996361, 'acc_word': 0.987962, 'loss_grapheme': 0.065814, 'loss_vowel': 0.05333, 'loss_consonant': 0.040168, 'loss_word': 0.064123}\n",
      "   10 | 0.000139 | 090640/160716 | 0.8830 | 11.5729 ||"
     ]
    },
    {
     "ename": "KeyboardInterrupt",
     "evalue": "",
     "output_type": "error",
     "traceback": [
      "\u001b[0;31m---------------------------------------------------------------------------\u001b[0m",
      "\u001b[0;31mKeyboardInterrupt\u001b[0m                         Traceback (most recent call last)",
      "\u001b[0;32m<ipython-input-41-aad596905035>\u001b[0m in \u001b[0;36m<module>\u001b[0;34m\u001b[0m\n\u001b[0;32m----> 1\u001b[0;31m \u001b[0mtrain\u001b[0m\u001b[0;34m(\u001b[0m\u001b[0margs\u001b[0m\u001b[0;34m)\u001b[0m\u001b[0;34m\u001b[0m\u001b[0;34m\u001b[0m\u001b[0m\n\u001b[0m",
      "\u001b[0;32m<ipython-input-36-b2c1bf117c1f>\u001b[0m in \u001b[0;36mtrain\u001b[0;34m(args)\u001b[0m\n\u001b[1;32m     44\u001b[0m         \u001b[0;32mfor\u001b[0m \u001b[0mepoch\u001b[0m \u001b[0;32min\u001b[0m \u001b[0mrange\u001b[0m\u001b[0;34m(\u001b[0m\u001b[0margs\u001b[0m\u001b[0;34m.\u001b[0m\u001b[0mstart_epoch\u001b[0m\u001b[0;34m,\u001b[0m \u001b[0margs\u001b[0m\u001b[0;34m.\u001b[0m\u001b[0mnum_epochs\u001b[0m\u001b[0;34m)\u001b[0m\u001b[0;34m:\u001b[0m\u001b[0;34m\u001b[0m\u001b[0;34m\u001b[0m\u001b[0m\n\u001b[1;32m     45\u001b[0m             \u001b[0mgrid\u001b[0m\u001b[0;34m.\u001b[0m\u001b[0mset_prob\u001b[0m\u001b[0;34m(\u001b[0m\u001b[0mepoch\u001b[0m\u001b[0;34m,\u001b[0m \u001b[0margs\u001b[0m\u001b[0;34m.\u001b[0m\u001b[0mst_epochs\u001b[0m\u001b[0;34m)\u001b[0m\u001b[0;34m\u001b[0m\u001b[0;34m\u001b[0m\u001b[0m\n\u001b[0;32m---> 46\u001b[0;31m             \u001b[0mtrain_epoch\u001b[0m\u001b[0;34m(\u001b[0m\u001b[0margs\u001b[0m\u001b[0;34m,\u001b[0m \u001b[0mmodel\u001b[0m\u001b[0;34m,\u001b[0m \u001b[0mtrain_loader\u001b[0m\u001b[0;34m,\u001b[0m \u001b[0mepoch\u001b[0m\u001b[0;34m,\u001b[0m \u001b[0moptimizer\u001b[0m\u001b[0;34m,\u001b[0m \u001b[0mlr_scheduler\u001b[0m\u001b[0;34m,\u001b[0m \u001b[0mgrid\u001b[0m\u001b[0;34m)\u001b[0m\u001b[0;34m\u001b[0m\u001b[0;34m\u001b[0m\u001b[0m\n\u001b[0m\u001b[1;32m     47\u001b[0m             \u001b[0mvalidate_and_save\u001b[0m\u001b[0;34m(\u001b[0m\u001b[0mmodel\u001b[0m\u001b[0;34m,\u001b[0m \u001b[0mmodel_file\u001b[0m\u001b[0;34m,\u001b[0m \u001b[0mval_loader\u001b[0m\u001b[0;34m,\u001b[0m \u001b[0msave\u001b[0m\u001b[0;34m=\u001b[0m\u001b[0;32mTrue\u001b[0m\u001b[0;34m)\u001b[0m\u001b[0;34m\u001b[0m\u001b[0;34m\u001b[0m\u001b[0m\n\u001b[1;32m     48\u001b[0m \u001b[0;34m\u001b[0m\u001b[0m\n",
      "\u001b[0;32m<ipython-input-35-14841a105de8>\u001b[0m in \u001b[0;36mtrain_epoch\u001b[0;34m(args, model, train_loader, epoch, optimizer, lr_scheduler, grid)\u001b[0m\n\u001b[1;32m     42\u001b[0m \u001b[0;34m\u001b[0m\u001b[0m\n\u001b[1;32m     43\u001b[0m         \u001b[0moptimizer\u001b[0m\u001b[0;34m.\u001b[0m\u001b[0mzero_grad\u001b[0m\u001b[0;34m(\u001b[0m\u001b[0;34m)\u001b[0m\u001b[0;34m\u001b[0m\u001b[0;34m\u001b[0m\u001b[0m\n\u001b[0;32m---> 44\u001b[0;31m         \u001b[0;32mwith\u001b[0m \u001b[0mamp\u001b[0m\u001b[0;34m.\u001b[0m\u001b[0mscale_loss\u001b[0m\u001b[0;34m(\u001b[0m\u001b[0mloss\u001b[0m\u001b[0;34m,\u001b[0m \u001b[0moptimizer\u001b[0m\u001b[0;34m)\u001b[0m \u001b[0;32mas\u001b[0m \u001b[0mscaled_loss\u001b[0m\u001b[0;34m:\u001b[0m\u001b[0;34m\u001b[0m\u001b[0;34m\u001b[0m\u001b[0m\n\u001b[0m\u001b[1;32m     45\u001b[0m             \u001b[0mscaled_loss\u001b[0m\u001b[0;34m.\u001b[0m\u001b[0mbackward\u001b[0m\u001b[0;34m(\u001b[0m\u001b[0;34m)\u001b[0m\u001b[0;34m\u001b[0m\u001b[0;34m\u001b[0m\u001b[0m\n\u001b[1;32m     46\u001b[0m         \u001b[0;31m#loss.backward()\u001b[0m\u001b[0;34m\u001b[0m\u001b[0;34m\u001b[0m\u001b[0;34m\u001b[0m\u001b[0m\n",
      "\u001b[0;32m~/anaconda3/lib/python3.7/contextlib.py\u001b[0m in \u001b[0;36m__enter__\u001b[0;34m(self)\u001b[0m\n\u001b[1;32m    110\u001b[0m         \u001b[0;32mdel\u001b[0m \u001b[0mself\u001b[0m\u001b[0;34m.\u001b[0m\u001b[0margs\u001b[0m\u001b[0;34m,\u001b[0m \u001b[0mself\u001b[0m\u001b[0;34m.\u001b[0m\u001b[0mkwds\u001b[0m\u001b[0;34m,\u001b[0m \u001b[0mself\u001b[0m\u001b[0;34m.\u001b[0m\u001b[0mfunc\u001b[0m\u001b[0;34m\u001b[0m\u001b[0;34m\u001b[0m\u001b[0m\n\u001b[1;32m    111\u001b[0m         \u001b[0;32mtry\u001b[0m\u001b[0;34m:\u001b[0m\u001b[0;34m\u001b[0m\u001b[0;34m\u001b[0m\u001b[0m\n\u001b[0;32m--> 112\u001b[0;31m             \u001b[0;32mreturn\u001b[0m \u001b[0mnext\u001b[0m\u001b[0;34m(\u001b[0m\u001b[0mself\u001b[0m\u001b[0;34m.\u001b[0m\u001b[0mgen\u001b[0m\u001b[0;34m)\u001b[0m\u001b[0;34m\u001b[0m\u001b[0;34m\u001b[0m\u001b[0m\n\u001b[0m\u001b[1;32m    113\u001b[0m         \u001b[0;32mexcept\u001b[0m \u001b[0mStopIteration\u001b[0m\u001b[0;34m:\u001b[0m\u001b[0;34m\u001b[0m\u001b[0;34m\u001b[0m\u001b[0m\n\u001b[1;32m    114\u001b[0m             \u001b[0;32mraise\u001b[0m \u001b[0mRuntimeError\u001b[0m\u001b[0;34m(\u001b[0m\u001b[0;34m\"generator didn't yield\"\u001b[0m\u001b[0;34m)\u001b[0m \u001b[0;32mfrom\u001b[0m \u001b[0;32mNone\u001b[0m\u001b[0;34m\u001b[0m\u001b[0;34m\u001b[0m\u001b[0m\n",
      "\u001b[0;32m~/anaconda3/lib/python3.7/site-packages/apex/amp/handle.py\u001b[0m in \u001b[0;36mscale_loss\u001b[0;34m(loss, optimizers, loss_id, model, delay_unscale, delay_overflow_check)\u001b[0m\n\u001b[1;32m    109\u001b[0m             \u001b[0;32mfor\u001b[0m \u001b[0moptimizer\u001b[0m \u001b[0;32min\u001b[0m \u001b[0moptimizers\u001b[0m\u001b[0;34m:\u001b[0m\u001b[0;34m\u001b[0m\u001b[0;34m\u001b[0m\u001b[0m\n\u001b[1;32m    110\u001b[0m                 \u001b[0;32mif\u001b[0m \u001b[0;32mnot\u001b[0m \u001b[0moptimizer\u001b[0m\u001b[0;34m.\u001b[0m\u001b[0m_amp_stash\u001b[0m\u001b[0;34m.\u001b[0m\u001b[0mparams_have_scaled_gradients\u001b[0m\u001b[0;34m:\u001b[0m\u001b[0;34m\u001b[0m\u001b[0;34m\u001b[0m\u001b[0m\n\u001b[0;32m--> 111\u001b[0;31m                     \u001b[0moptimizer\u001b[0m\u001b[0;34m.\u001b[0m\u001b[0m_prepare_amp_backward\u001b[0m\u001b[0;34m(\u001b[0m\u001b[0;34m)\u001b[0m\u001b[0;34m\u001b[0m\u001b[0;34m\u001b[0m\u001b[0m\n\u001b[0m\u001b[1;32m    112\u001b[0m \u001b[0;34m\u001b[0m\u001b[0m\n\u001b[1;32m    113\u001b[0m     \u001b[0;32myield\u001b[0m \u001b[0;34m(\u001b[0m\u001b[0mloss\u001b[0m\u001b[0;34m.\u001b[0m\u001b[0mfloat\u001b[0m\u001b[0;34m(\u001b[0m\u001b[0;34m)\u001b[0m\u001b[0;34m)\u001b[0m\u001b[0;34m*\u001b[0m\u001b[0mloss_scale\u001b[0m\u001b[0;34m\u001b[0m\u001b[0;34m\u001b[0m\u001b[0m\n",
      "\u001b[0;32m~/anaconda3/lib/python3.7/site-packages/apex/amp/_process_optimizer.py\u001b[0m in \u001b[0;36mprepare_backward_no_master_weights\u001b[0;34m(self)\u001b[0m\n\u001b[1;32m    227\u001b[0m         \u001b[0mstash\u001b[0m\u001b[0;34m.\u001b[0m\u001b[0mall_fp32_grad_stash\u001b[0m\u001b[0;34m[\u001b[0m\u001b[0mi\u001b[0m\u001b[0;34m]\u001b[0m \u001b[0;34m=\u001b[0m \u001b[0mparam\u001b[0m\u001b[0;34m.\u001b[0m\u001b[0mgrad\u001b[0m\u001b[0;34m\u001b[0m\u001b[0;34m\u001b[0m\u001b[0m\n\u001b[1;32m    228\u001b[0m         \u001b[0;31m# Set up to leverage grad copy elision:\u001b[0m\u001b[0;34m\u001b[0m\u001b[0;34m\u001b[0m\u001b[0;34m\u001b[0m\u001b[0m\n\u001b[0;32m--> 229\u001b[0;31m         \u001b[0mparam\u001b[0m\u001b[0;34m.\u001b[0m\u001b[0mgrad\u001b[0m \u001b[0;34m=\u001b[0m \u001b[0;32mNone\u001b[0m\u001b[0;34m\u001b[0m\u001b[0;34m\u001b[0m\u001b[0m\n\u001b[0m\u001b[1;32m    230\u001b[0m \u001b[0;34m\u001b[0m\u001b[0m\n\u001b[1;32m    231\u001b[0m \u001b[0;34m\u001b[0m\u001b[0m\n",
      "\u001b[0;31mKeyboardInterrupt\u001b[0m: "
     ]
    }
   ],
   "source": [
    "train(args)"
   ]
  },
  {
   "cell_type": "code",
   "execution_count": null,
   "metadata": {},
   "outputs": [],
   "source": []
  },
  {
   "cell_type": "code",
   "execution_count": null,
   "metadata": {},
   "outputs": [],
   "source": []
  },
  {
   "cell_type": "code",
   "execution_count": null,
   "metadata": {},
   "outputs": [],
   "source": [
    "#save_model(model, model_file)"
   ]
  },
  {
   "cell_type": "code",
   "execution_count": null,
   "metadata": {},
   "outputs": [],
   "source": []
  },
  {
   "cell_type": "code",
   "execution_count": null,
   "metadata": {},
   "outputs": [],
   "source": []
  }
 ],
 "metadata": {
  "kernelspec": {
   "display_name": "Python 3",
   "language": "python",
   "name": "python3"
  },
  "language_info": {
   "codemirror_mode": {
    "name": "ipython",
    "version": 3
   },
   "file_extension": ".py",
   "mimetype": "text/x-python",
   "name": "python",
   "nbconvert_exporter": "python",
   "pygments_lexer": "ipython3",
   "version": "3.7.3"
  }
 },
 "nbformat": 4,
 "nbformat_minor": 2
}
