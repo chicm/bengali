{
 "cells": [
  {
   "cell_type": "code",
   "execution_count": 1,
   "metadata": {},
   "outputs": [],
   "source": [
    "import os\n",
    "import pandas as pd\n",
    "import numpy as np\n",
    "import time, gc\n",
    "import cv2\n",
    "import matplotlib.pyplot as plt\n",
    "import torch\n",
    "import torch.nn as nn\n",
    "import torch.nn.functional as F\n",
    "import torch.optim as optim\n",
    "import pretrainedmodels\n",
    "from argparse import Namespace\n",
    "from sklearn.utils import shuffle\n",
    "from apex import amp\n",
    "from sklearn.model_selection import StratifiedKFold\n",
    "from efficientnet_pytorch import EfficientNet\n",
    "from cvcore.data.auto_augment import RandAugment\n",
    "from PIL import Image\n",
    "from utils import bn_update, moving_average, copy_model\n"
   ]
  },
  {
   "cell_type": "code",
   "execution_count": 2,
   "metadata": {},
   "outputs": [
    {
     "name": "stdout",
     "output_type": "stream",
     "text": [
      "class_map.csv\t\t       train.csv\r\n",
      "sample_submission.csv\t       train.csv.zip\r\n",
      "test.csv\t\t       train_image_data_0.parquet\r\n",
      "test_image_data_0.parquet      train_image_data_0.parquet.zip\r\n",
      "test_image_data_0.parquet.zip  train_image_data_1.parquet\r\n",
      "test_image_data_1.parquet      train_image_data_1.parquet.zip\r\n",
      "test_image_data_1.parquet.zip  train_image_data_2.parquet\r\n",
      "test_image_data_2.parquet      train_image_data_2.parquet.zip\r\n",
      "test_image_data_2.parquet.zip  train_image_data_3.parquet\r\n",
      "test_image_data_3.parquet      train_image_data_3.parquet.zip\r\n",
      "test_image_data_3.parquet.zip\r\n"
     ]
    }
   ],
   "source": [
    "!ls /home/chec/data/bengali"
   ]
  },
  {
   "cell_type": "code",
   "execution_count": 3,
   "metadata": {},
   "outputs": [],
   "source": [
    "#!ls /home/chec/data/bengali"
   ]
  },
  {
   "cell_type": "code",
   "execution_count": 4,
   "metadata": {},
   "outputs": [],
   "source": [
    "DATA_DIR = '/home/chec/data/bengali'"
   ]
  },
  {
   "cell_type": "code",
   "execution_count": 5,
   "metadata": {},
   "outputs": [],
   "source": [
    "train_df = pd.read_csv(f'{DATA_DIR}/train.csv')\n",
    "test_df = pd.read_csv(f'{DATA_DIR}/test.csv')\n",
    "class_map_df = pd.read_csv(f'{DATA_DIR}/class_map.csv')\n",
    "sample_sub_df = pd.read_csv(f'{DATA_DIR}/sample_submission.csv')"
   ]
  },
  {
   "cell_type": "code",
   "execution_count": 6,
   "metadata": {},
   "outputs": [
    {
     "data": {
      "text/html": [
       "<div>\n",
       "<style scoped>\n",
       "    .dataframe tbody tr th:only-of-type {\n",
       "        vertical-align: middle;\n",
       "    }\n",
       "\n",
       "    .dataframe tbody tr th {\n",
       "        vertical-align: top;\n",
       "    }\n",
       "\n",
       "    .dataframe thead th {\n",
       "        text-align: right;\n",
       "    }\n",
       "</style>\n",
       "<table border=\"1\" class=\"dataframe\">\n",
       "  <thead>\n",
       "    <tr style=\"text-align: right;\">\n",
       "      <th></th>\n",
       "      <th>image_id</th>\n",
       "      <th>grapheme_root</th>\n",
       "      <th>vowel_diacritic</th>\n",
       "      <th>consonant_diacritic</th>\n",
       "      <th>grapheme</th>\n",
       "    </tr>\n",
       "  </thead>\n",
       "  <tbody>\n",
       "    <tr>\n",
       "      <th>0</th>\n",
       "      <td>Train_0</td>\n",
       "      <td>15</td>\n",
       "      <td>9</td>\n",
       "      <td>5</td>\n",
       "      <td>ক্ট্রো</td>\n",
       "    </tr>\n",
       "    <tr>\n",
       "      <th>1</th>\n",
       "      <td>Train_1</td>\n",
       "      <td>159</td>\n",
       "      <td>0</td>\n",
       "      <td>0</td>\n",
       "      <td>হ</td>\n",
       "    </tr>\n",
       "    <tr>\n",
       "      <th>2</th>\n",
       "      <td>Train_2</td>\n",
       "      <td>22</td>\n",
       "      <td>3</td>\n",
       "      <td>5</td>\n",
       "      <td>খ্রী</td>\n",
       "    </tr>\n",
       "    <tr>\n",
       "      <th>3</th>\n",
       "      <td>Train_3</td>\n",
       "      <td>53</td>\n",
       "      <td>2</td>\n",
       "      <td>2</td>\n",
       "      <td>র্টি</td>\n",
       "    </tr>\n",
       "    <tr>\n",
       "      <th>4</th>\n",
       "      <td>Train_4</td>\n",
       "      <td>71</td>\n",
       "      <td>9</td>\n",
       "      <td>5</td>\n",
       "      <td>থ্রো</td>\n",
       "    </tr>\n",
       "  </tbody>\n",
       "</table>\n",
       "</div>"
      ],
      "text/plain": [
       "  image_id  grapheme_root  vowel_diacritic  consonant_diacritic grapheme\n",
       "0  Train_0             15                9                    5   ক্ট্রো\n",
       "1  Train_1            159                0                    0        হ\n",
       "2  Train_2             22                3                    5     খ্রী\n",
       "3  Train_3             53                2                    2     র্টি\n",
       "4  Train_4             71                9                    5     থ্রো"
      ]
     },
     "execution_count": 6,
     "metadata": {},
     "output_type": "execute_result"
    }
   ],
   "source": [
    "train_df.head()"
   ]
  },
  {
   "cell_type": "code",
   "execution_count": 7,
   "metadata": {},
   "outputs": [],
   "source": [
    "HEIGHT = 137\n",
    "WIDTH = 236"
   ]
  },
  {
   "cell_type": "code",
   "execution_count": 8,
   "metadata": {},
   "outputs": [],
   "source": [
    "#import albumentations as albu\n",
    "def get_train_augs():\n",
    "    return RandAugment(n=2, m=27)"
   ]
  },
  {
   "cell_type": "code",
   "execution_count": 9,
   "metadata": {},
   "outputs": [],
   "source": [
    "#plt.imshow(x)"
   ]
  },
  {
   "cell_type": "code",
   "execution_count": 10,
   "metadata": {},
   "outputs": [],
   "source": [
    "from torch.utils.data import DataLoader, Dataset\n",
    "from torchvision import transforms\n",
    "\n",
    "\n",
    "class BengaliDataset(Dataset):\n",
    "    def __init__(self, df, img_df, train_mode=True, test_mode=False):\n",
    "        self.df = df\n",
    "        self.img_df = img_df\n",
    "        self.train_mode = train_mode\n",
    "        self.test_mode = test_mode\n",
    "\n",
    "    def __getitem__(self, idx):\n",
    "        row = self.df.iloc[idx]\n",
    "        img = self.get_img(row.image_id)\n",
    "        orig_img = img.copy()\n",
    "        #print(img.shape)\n",
    "        if self.train_mode:\n",
    "            augs = get_train_augs()\n",
    "            #img = augs(image=img)['image']\n",
    "            img = np.asarray(augs(Image.fromarray(img)))\n",
    "        \n",
    "        img = np.expand_dims(img, axis=-1)\n",
    "        orig_img = np.expand_dims(orig_img, axis=-1)\n",
    "        \n",
    "        #print('###', img.shape)\n",
    "        #img = np.concatenate([img, img, img], 2)\n",
    "        #print('>>>', img.shape)\n",
    "        \n",
    "        # taken from https://www.kaggle.com/iafoss/image-preprocessing-128x128\n",
    "        #MEAN = [ 0.06922848809290576,  0.06922848809290576,  0.06922848809290576]\n",
    "        #STD = [ 0.20515700083327537,  0.20515700083327537,  0.20515700083327537]\n",
    "        \n",
    "        img = transforms.functional.to_tensor(img)\n",
    "        orig_img = transforms.functional.to_tensor(orig_img)\n",
    "        \n",
    "        #img = transforms.functional.normalize(img, mean=MEAN, std=STD)\n",
    "        \n",
    "        if self.test_mode:\n",
    "            return img\n",
    "        elif self.train_mode:\n",
    "            return img, orig_img, torch.tensor([row.grapheme_root, row.vowel_diacritic, row.consonant_diacritic, row.word_label])\n",
    "        else:\n",
    "            return img, torch.tensor([row.grapheme_root, row.vowel_diacritic, row.consonant_diacritic, row.word_label])\n",
    "                    \n",
    "    def get_img(self, img_id):\n",
    "        return 255 - self.img_df.loc[img_id].values.reshape(HEIGHT, WIDTH).astype(np.uint8)\n",
    "\n",
    "    def __len__(self):\n",
    "        return len(self.df)\n",
    "    \n",
    "def get_train_val_loaders(batch_size=4, val_batch_size=4, ifold=0, dev_mode=False):\n",
    "    train_df = pd.read_csv(f'{DATA_DIR}/train.csv')\n",
    "\n",
    "    train_df = shuffle(train_df, random_state=1234)\n",
    "\n",
    "    grapheme_words = np.unique(train_df.grapheme.values)\n",
    "    grapheme_words_dict = {grapheme: i for i, grapheme in enumerate(grapheme_words)}\n",
    "    train_df['word_label'] = train_df['grapheme'].map(lambda x: grapheme_words_dict[x])\n",
    "\n",
    "    print(train_df.shape)\n",
    "\n",
    "    if dev_mode:\n",
    "        img_df = pd.read_parquet(f'{DATA_DIR}/train_image_data_0.parquet').set_index('image_id')\n",
    "        train_df = train_df.iloc[:1000]\n",
    "    else:\n",
    "        img_dfs = [pd.read_parquet(f'{DATA_DIR}/train_image_data_{i}.parquet') for i in range(4)]\n",
    "        img_df = pd.concat(img_dfs, axis=0).set_index('image_id')\n",
    "    print(img_df.shape)\n",
    "    #split_index = int(len(train_df) * 0.9)\n",
    "    \n",
    "    #train = train_df.iloc[:split_index]\n",
    "    #val = train_df.iloc[split_index:]\n",
    "    \n",
    "    kf = StratifiedKFold(5, random_state=1234, shuffle=True)\n",
    "    for i, (train_idx, val_idx) in enumerate(kf.split(train_df, train_df['grapheme_root'].values)):\n",
    "        if i == ifold:\n",
    "            #print(val_idx)\n",
    "            train = train_df.iloc[train_idx]\n",
    "            val = train_df.iloc[val_idx]\n",
    "            break\n",
    "    assert i == ifold\n",
    "    print(train.shape, val.shape)\n",
    "    \n",
    "    train_ds = BengaliDataset(train, img_df, True, False)\n",
    "    val_ds = BengaliDataset(val, img_df, False, False)\n",
    "    \n",
    "    train_loader = DataLoader(train_ds, batch_size=batch_size, shuffle=True, num_workers=8, drop_last=True)\n",
    "    train_loader.num = len(train_ds)\n",
    "\n",
    "    val_loader = DataLoader(val_ds, batch_size=val_batch_size, shuffle=False, num_workers=8, drop_last=False)\n",
    "    val_loader.num = len(val_ds)\n",
    "\n",
    "    return train_loader, val_loader"
   ]
  },
  {
   "cell_type": "code",
   "execution_count": 11,
   "metadata": {},
   "outputs": [],
   "source": [
    "#train_loader, val_loader = get_train_val_loaders()"
   ]
  },
  {
   "cell_type": "code",
   "execution_count": 12,
   "metadata": {},
   "outputs": [],
   "source": [
    "#for x in train_loader:\n",
    "#    print(x)\n",
    "#    break"
   ]
  },
  {
   "cell_type": "markdown",
   "metadata": {},
   "source": [
    "# model"
   ]
  },
  {
   "cell_type": "code",
   "execution_count": 13,
   "metadata": {},
   "outputs": [],
   "source": [
    "#import pretrainedmodels"
   ]
  },
  {
   "cell_type": "code",
   "execution_count": 14,
   "metadata": {},
   "outputs": [],
   "source": [
    "#model_name = 'resnet50' # could be fbresnet152 or inceptionresnetv2\n",
    "#model = pretrainedmodels.__dict__[model_name](num_classes=1000, pretrained='imagenet').cuda()\n",
    "#model.eval()"
   ]
  },
  {
   "cell_type": "code",
   "execution_count": null,
   "metadata": {},
   "outputs": [],
   "source": []
  },
  {
   "cell_type": "code",
   "execution_count": 15,
   "metadata": {},
   "outputs": [],
   "source": [
    "from argparse import Namespace\n",
    "import timm\n",
    "from timm.models.activations import Swish, Mish\n",
    "from timm.models.adaptive_avgmax_pool import SelectAdaptivePool2d\n",
    "\n",
    "MEAN = [ 0.06922848809290576 ]\n",
    "STD = [ 0.20515700083327537 ]\n",
    "\n",
    "class BengaliNet(nn.Module):\n",
    "    \"\"\"\n",
    "    EfficientNet B0-B8.\n",
    "    Args:\n",
    "        cfg (CfgNode): configs\n",
    "    \"\"\"\n",
    "    def __init__(self, cfg):\n",
    "        super(BengaliNet, self).__init__()\n",
    "        model_name = cfg.MODEL_NAME\n",
    "        pretrained = cfg.PRETRAINED\n",
    "        input_channels = cfg.IN_CHANNELS\n",
    "        pool_type = cfg.POOL_TYPE\n",
    "        drop_connect_rate = cfg.DROP_CONNECT\n",
    "        self.drop_rate = cfg.DROPOUT\n",
    "        cls_head = cfg.CLS_HEAD\n",
    "        num_total_classes = cfg.NUM_GRAPHEME_CLASSES + cfg.NUM_VOWEL_CLASSES + cfg.NUM_CONSONANT_CLASSES \\\n",
    "            + cfg.NUM_WORD_CLASSES\n",
    "\n",
    "        backbone = timm.create_model(\n",
    "            model_name=model_name,\n",
    "            pretrained=pretrained,\n",
    "            in_chans=input_channels,\n",
    "            drop_connect_rate=drop_connect_rate,\n",
    "        )\n",
    "        self.conv_stem = backbone.conv_stem\n",
    "        self.bn1 = backbone.bn1\n",
    "        self.act1 = backbone.act1\n",
    "        ### Original blocks ###\n",
    "        for i in range(len((backbone.blocks))):\n",
    "            setattr(self, \"block{}\".format(str(i)), backbone.blocks[i])\n",
    "        self.conv_head = backbone.conv_head\n",
    "        self.bn2 = backbone.bn2\n",
    "        self.act2 = backbone.act2\n",
    "        self.aux_block5 = backbone.blocks[5]\n",
    "        self.aux_num_features = self.block5[-1].bn3.num_features\n",
    "        self.aux_head4 = nn.Conv2d(self.aux_num_features, self.aux_num_features * 4, kernel_size=(1, 1), stride=(1, 1), bias=False)\n",
    "        self.bn4 = nn.BatchNorm2d(self.aux_num_features * 4)\n",
    "        self.act4 = Swish()\n",
    "        self.aux_head5 = nn.Conv2d(self.aux_num_features, self.aux_num_features * 4, kernel_size=(1, 1), stride=(1, 1), bias=False)\n",
    "        self.bn5 = nn.BatchNorm2d(self.aux_num_features * 4)\n",
    "        self.act5 = Swish()\n",
    "        self.global_pool = SelectAdaptivePool2d(pool_type=pool_type)\n",
    "        self.num_features = backbone.num_features * self.global_pool.feat_mult()\n",
    "        assert cls_head == 'linear'\n",
    "        if cls_head == \"linear\":\n",
    "            ### Baseline head ###\n",
    "            self.fc = nn.Linear(self.num_features, num_total_classes)            \n",
    "            self.aux_fc1 = nn.Linear(self.aux_num_features*4, num_total_classes)\n",
    "            self.aux_fc2 = nn.Linear(self.aux_num_features*4, num_total_classes)\n",
    "            \n",
    "            for fc in [self.fc, self.aux_fc1, self.aux_fc2]:\n",
    "                nn.init.zeros_(fc.bias.data)\n",
    "        elif cls_head == \"norm_softmax\":\n",
    "            ### NormSoftmax ###\n",
    "            self.grapheme_fc = NormSoftmax(self.num_features, num_grapheme_classes)\n",
    "            self.consonant_fc = NormSoftmax(self.num_features, num_consonant_classes)\n",
    "            self.vowel_fc = NormSoftmax(self.num_features, num_vowel_classes)\n",
    "        # Replace with Mish activation\n",
    "        if cfg.MODEL_ACTIVATION == \"mish\":\n",
    "            convert_swish_to_mish(self)\n",
    "        del backbone\n",
    "\n",
    "    def _features(self, x):\n",
    "        x = self.conv_stem(x)\n",
    "        x = self.bn1(x)\n",
    "        x = self.act1(x)\n",
    "        x = self.block0(x)\n",
    "        x = self.block1(x)\n",
    "        x = self.block2(x)\n",
    "        x = self.block3(x)\n",
    "        x = self.block4(x); b4 = x\n",
    "        x = self.block5(x); b4 = self.aux_block5(b4); b5 = x\n",
    "        x = self.block6(x)\n",
    "        x = self.conv_head(x); b4 = self.aux_head4(b4); b5 = self.aux_head5(b5)\n",
    "        x = self.bn2(x); b4 = self.bn4(b4); b5 = self.bn5(b5)\n",
    "        x = self.act2(x); b4 = self.act4(b4); b5 = self.act5(b5)\n",
    "        return b4, b5, x\n",
    "\n",
    "    def forward(self, x):\n",
    "        x = F.interpolate(x, size=(380, 380), mode='bilinear', align_corners=False)\n",
    "        for i in range(len(x)):\n",
    "            transforms.functional.normalize(x[i], mean=MEAN, std=STD, inplace=True)\n",
    "\n",
    "        # _, _, x = self._features(x)\n",
    "        b4, b5, x = self._features(x)\n",
    "        x = self.global_pool(x); b4 = self.global_pool(b4); b5 = self.global_pool(b5)\n",
    "        x = torch.flatten(x, 1); b4 = torch.flatten(b4, 1); b5 = torch.flatten(b5, 1)\n",
    "        if self.drop_rate > 0.:\n",
    "            x = F.dropout(x, p=self.drop_rate, training=self.training)\n",
    "        logits = self.fc(x)\n",
    "        \n",
    "        aux_logits1 = self.aux_fc1(b4)\n",
    "        aux_logits2 = self.aux_fc2(b5)\n",
    "        \n",
    "        return logits, aux_logits1, aux_logits2"
   ]
  },
  {
   "cell_type": "code",
   "execution_count": null,
   "metadata": {},
   "outputs": [],
   "source": []
  },
  {
   "cell_type": "code",
   "execution_count": 16,
   "metadata": {},
   "outputs": [],
   "source": [
    "MODEL_DIR = './model4-ckps'\n",
    "def create_model(cfg):\n",
    "    model = BengaliNet(cfg)\n",
    "    model_file = os.path.join(MODEL_DIR, cfg.MODEL_NAME, cfg.CKP_NAME)\n",
    "\n",
    "    parent_dir = os.path.dirname(model_file)\n",
    "    if not os.path.exists(parent_dir):\n",
    "        os.makedirs(parent_dir)\n",
    "\n",
    "    print('model file: {}, exist: {}'.format(model_file, os.path.exists(model_file)))\n",
    "\n",
    "    if os.path.exists(model_file):\n",
    "        print('loading {}...'.format(model_file))\n",
    "        model.load_state_dict(torch.load(model_file))\n",
    "    \n",
    "    return model, model_file"
   ]
  },
  {
   "cell_type": "code",
   "execution_count": 17,
   "metadata": {},
   "outputs": [],
   "source": [
    "#bnet = BengaliNet('se_resnext50_32x4d').cuda()"
   ]
  },
  {
   "cell_type": "code",
   "execution_count": 18,
   "metadata": {},
   "outputs": [],
   "source": [
    "#bnet(torch.randn((2, 1, 137, 236)).cuda()).size()"
   ]
  },
  {
   "cell_type": "markdown",
   "metadata": {},
   "source": [
    "# train"
   ]
  },
  {
   "cell_type": "code",
   "execution_count": 19,
   "metadata": {},
   "outputs": [
    {
     "data": {
      "text/plain": [
       "0.111111"
      ]
     },
     "execution_count": 19,
     "metadata": {},
     "output_type": "execute_result"
    }
   ],
   "source": [
    "round(1/9, 6)"
   ]
  },
  {
   "cell_type": "code",
   "execution_count": 20,
   "metadata": {},
   "outputs": [],
   "source": [
    "import numpy as np\n",
    "import sklearn.metrics\n",
    "import torch\n",
    "\n",
    "\n",
    "def calc_metrics(preds0, preds1, preds2, preds3, y):\n",
    "    assert len(y) == len(preds0) == len(preds1) == len(preds2) == len(preds3)\n",
    "\n",
    "    recall_grapheme = sklearn.metrics.recall_score(preds0, y[:, 0], average='macro')\n",
    "    recall_vowel = sklearn.metrics.recall_score(preds1, y[:, 1], average='macro')\n",
    "    recall_consonant = sklearn.metrics.recall_score(preds2, y[:, 2], average='macro')\n",
    "    recall_word = sklearn.metrics.recall_score(preds3, y[:, 3], average='macro')\n",
    "    \n",
    "    scores = [recall_grapheme, recall_vowel, recall_consonant]\n",
    "    final_recall_score = np.average(scores, weights=[2, 1, 1])\n",
    "    \n",
    "    metrics = {}\n",
    "    metrics['recall'] = round(final_recall_score, 6)\n",
    "    metrics['recall_grapheme'] = round(recall_grapheme, 6)\n",
    "    metrics['recall_vowel'] = round(recall_vowel, 6)\n",
    "    metrics['recall_consonant'] = round(recall_consonant, 6)\n",
    "    metrics['recall_word'] = round(recall_word, 6)\n",
    "    \n",
    "    metrics['acc_grapheme'] = round((preds0 == y[:, 0]).sum() / len(y), 6)\n",
    "    metrics['acc_vowel'] = round((preds1 == y[:, 1]).sum() / len(y), 6)\n",
    "    metrics['acc_consonant'] = round((preds2 == y[:, 2]).sum() / len(y), 6)\n",
    "    metrics['acc_word'] = round((preds3 == y[:, 3]).sum() / len(y), 6)    \n",
    "    \n",
    "    return metrics"
   ]
  },
  {
   "cell_type": "code",
   "execution_count": 21,
   "metadata": {},
   "outputs": [],
   "source": [
    "def criterion(outputs, y_true):\n",
    "    # outputs: (N, 182)\n",
    "    # y_true: (N, 3)\n",
    "    \n",
    "    outputs = torch.split(outputs, [168, 11, 7, 1295], dim=1)\n",
    "    loss0 = F.cross_entropy(outputs[0], y_true[:, 0], reduction='mean')\n",
    "    loss1 = F.cross_entropy(outputs[1], y_true[:, 1], reduction='mean')\n",
    "    loss2 = F.cross_entropy(outputs[2], y_true[:, 2], reduction='mean')\n",
    "    loss3 = F.cross_entropy(outputs[3], y_true[:, 3], reduction='mean')\n",
    "    \n",
    "    return loss0 + loss1 + loss2 + loss3 #, loss0.item(), loss1.item(), loss2.item()"
   ]
  },
  {
   "cell_type": "code",
   "execution_count": 22,
   "metadata": {},
   "outputs": [],
   "source": [
    "def validate(model, val_loader):\n",
    "    model.eval()\n",
    "    loss0, loss1, loss2, loss3 = 0., 0., 0., 0.\n",
    "    preds0, preds1, preds2, preds3 = [], [], [], []\n",
    "    y_true = []\n",
    "    with torch.no_grad():\n",
    "        for x, y in val_loader:\n",
    "            y_true.append(y)\n",
    "            x, y = x.cuda(), y.cuda()\n",
    "            outputs, _, _ = model(x)\n",
    "            outputs = torch.split(outputs, [168, 11, 7, 1295], dim=1)\n",
    "            \n",
    "            preds0.append(torch.max(outputs[0], dim=1)[1])\n",
    "            preds1.append(torch.max(outputs[1], dim=1)[1])\n",
    "            preds2.append(torch.max(outputs[2], dim=1)[1])\n",
    "            preds3.append(torch.max(outputs[3], dim=1)[1])\n",
    "            loss0 += F.cross_entropy(outputs[0], y[:, 0], reduction='sum').item()\n",
    "            loss1 += F.cross_entropy(outputs[1], y[:, 1], reduction='sum').item()\n",
    "            loss2 += F.cross_entropy(outputs[2], y[:, 2], reduction='sum').item()\n",
    "            loss3 += F.cross_entropy(outputs[3], y[:, 3], reduction='sum').item()\n",
    "            \n",
    "            # for debug\n",
    "            #metrics = {}\n",
    "            #metrics['loss_grapheme'] =  F.cross_entropy(outputs[0], y[:, 0], reduction='mean').item()\n",
    "            #metrics['loss_vowel'] =  F.cross_entropy(outputs[1], y[:, 1], reduction='mean').item()\n",
    "            #metrics['loss_consonant'] =  F.cross_entropy(outputs[2], y[:, 2], reduction='mean').item()\n",
    "            #return metrics\n",
    "    \n",
    "    preds0 = torch.cat(preds0, 0).cpu().numpy()\n",
    "    preds1 = torch.cat(preds1, 0).cpu().numpy()\n",
    "    preds2 = torch.cat(preds2, 0).cpu().numpy()\n",
    "    preds3 = torch.cat(preds3, 0).cpu().numpy()\n",
    "    \n",
    "    y_true = torch.cat(y_true, 0).numpy()\n",
    "    \n",
    "    #print('y_true:', y_true.shape)\n",
    "    #print('preds0:', preds0.shape)\n",
    "    \n",
    "    metrics = calc_metrics(preds0, preds1, preds2, preds3, y_true)\n",
    "    metrics['loss_grapheme'] = round(loss0 / val_loader.num, 6)\n",
    "    metrics['loss_vowel'] = round(loss1 / val_loader.num, 6)\n",
    "    metrics['loss_consonant'] = round(loss2 / val_loader.num, 6)\n",
    "    metrics['loss_word'] = round(loss3 / val_loader.num, 6)\n",
    "    \n",
    "    return metrics\n",
    "            "
   ]
  },
  {
   "cell_type": "code",
   "execution_count": null,
   "metadata": {},
   "outputs": [],
   "source": []
  },
  {
   "cell_type": "code",
   "execution_count": 23,
   "metadata": {},
   "outputs": [],
   "source": [
    "def get_lrs(optimizer):\n",
    "    lrs = []\n",
    "    for pgs in optimizer.state_dict()['param_groups']:\n",
    "        lrs.append(pgs['lr'])\n",
    "    lrs = ['{:.6f}'.format(x) for x in lrs]\n",
    "    return lrs"
   ]
  },
  {
   "cell_type": "code",
   "execution_count": 24,
   "metadata": {},
   "outputs": [],
   "source": [
    "def save_model(model, model_file):\n",
    "    parent_dir = os.path.dirname(model_file)\n",
    "    if not os.path.exists(parent_dir):\n",
    "        os.makedirs(parent_dir)\n",
    "    if isinstance(model, nn.DataParallel):\n",
    "        torch.save(model.module.state_dict(), model_file)\n",
    "    else:\n",
    "        torch.save(model.state_dict(), model_file)"
   ]
  },
  {
   "cell_type": "code",
   "execution_count": 25,
   "metadata": {},
   "outputs": [],
   "source": [
    "def mixup(data, targets, alpha=1):\n",
    "    indices = torch.randperm(data.size(0))\n",
    "    shuffled_data = data[indices]\n",
    "    shuffled_targets = targets[indices]\n",
    "\n",
    "    lam = np.random.beta(alpha, alpha)\n",
    "    data = data * lam + shuffled_data * (1 - lam)\n",
    "    targets = (targets, shuffled_targets, lam)\n",
    "\n",
    "    return data, targets\n",
    "\n",
    "\n",
    "def mixup_criterion(outputs, targets):\n",
    "    targets1, targets2, lam = targets\n",
    "    #criterion = nn.CrossEntropyLoss(reduction='mean')\n",
    "    return lam * criterion(outputs, targets1) + (1 - lam) * criterion(outputs, targets2)"
   ]
  },
  {
   "cell_type": "code",
   "execution_count": 26,
   "metadata": {},
   "outputs": [],
   "source": [
    "def rand_bbox(size, lam):\n",
    "    W = size[2]\n",
    "    H = size[3]\n",
    "    cut_rat = np.sqrt(1. - lam)\n",
    "    cut_w = np.int(W * cut_rat)\n",
    "    cut_h = np.int(H * cut_rat)\n",
    "\n",
    "    # uniform\n",
    "    cx = np.random.randint(W)\n",
    "    cy = np.random.randint(H)\n",
    "\n",
    "    bbx1 = np.clip(cx - cut_w // 2, 0, W)\n",
    "    bby1 = np.clip(cy - cut_h // 2, 0, H)\n",
    "    bbx2 = np.clip(cx + cut_w // 2, 0, W)\n",
    "    bby2 = np.clip(cy + cut_h // 2, 0, H)\n",
    "\n",
    "    return bbx1, bby1, bbx2, bby2"
   ]
  },
  {
   "cell_type": "code",
   "execution_count": 27,
   "metadata": {},
   "outputs": [],
   "source": [
    "def rand_bbox_new(size, lam):\n",
    "    H = size[2]\n",
    "    W = size[3]\n",
    "\n",
    "    x_margin_rate = 0.2\n",
    "\n",
    "    cut_rat = np.sqrt(1. - lam)\n",
    "    cut_w = np.int(W * (1-x_margin_rate*2) * cut_rat)\n",
    "    cut_h = np.int(H * cut_rat)\n",
    "    \n",
    "    min_x_center = np.int(W * x_margin_rate + cut_w / 2)\n",
    "    max_x_center = np.int(W * (1-x_margin_rate) - cut_w / 2)\n",
    "    #print(min_x_center, max_x_center, lam, cut_w)\n",
    "    min_y_center = cut_h // 2\n",
    "    max_y_center = H - cut_h // 2\n",
    "    if max_y_center == min_y_center:\n",
    "        max_y_center += 1\n",
    "\n",
    "    # uniform\n",
    "    cx = np.random.randint(min_x_center, max_x_center)\n",
    "    cy = np.random.randint(min_y_center, max_y_center)\n",
    "\n",
    "    bbx1 = np.clip(cx - cut_w // 2, 0, W)\n",
    "    bby1 = np.clip(cy - cut_h // 2, 0, H)\n",
    "    bbx2 = np.clip(cx + cut_w // 2, 0, W)\n",
    "    bby2 = np.clip(cy + cut_h // 2, 0, H)\n",
    "    \n",
    "    #print(bbx1, bbx2, bby1, bby2)\n",
    "\n",
    "    return bbx1, bby1, bbx2, bby2"
   ]
  },
  {
   "cell_type": "code",
   "execution_count": 28,
   "metadata": {},
   "outputs": [
    {
     "data": {
      "text/plain": [
       "0.029572411820954048"
      ]
     },
     "execution_count": 28,
     "metadata": {},
     "output_type": "execute_result"
    }
   ],
   "source": [
    "np.random.random()"
   ]
  },
  {
   "cell_type": "code",
   "execution_count": 29,
   "metadata": {},
   "outputs": [],
   "source": [
    "from over9000.over9000 import Over9000\n",
    "from over9000.radam import RAdam\n",
    "from gridmask import GridMask"
   ]
  },
  {
   "cell_type": "code",
   "execution_count": 30,
   "metadata": {},
   "outputs": [],
   "source": [
    "from cvcore.solver import WarmupCyclicalLR\n",
    "def make_optimizer(model, base_lr=4e-4, weight_decay=0., weight_decay_bias=0., epsilon=1e-3):\n",
    "    \"\"\"\n",
    "    Create optimizer with per-layer learning rate and weight decay.\n",
    "    \"\"\"\n",
    "    params = []\n",
    "    for key, value in model.named_parameters():\n",
    "        if not value.requires_grad:\n",
    "            continue\n",
    "        lr = base_lr\n",
    "        params += [{\"params\": [value], \"lr\": lr, \"weight_decay\": weight_decay_bias if 'bias' in key else weight_decay}]\n",
    "    \n",
    "    optimizer = torch.optim.AdamW(params, lr, eps=epsilon)\n",
    "    return optimizer"
   ]
  },
  {
   "cell_type": "code",
   "execution_count": 31,
   "metadata": {},
   "outputs": [],
   "source": [
    "import time\n",
    "def train_epoch(args, model, train_loader, epoch, optimizer, lr_scheduler, grid):\n",
    "    train_loss = 0\n",
    "    bg = time.time()\n",
    "\n",
    "    for batch_idx, (img, orig_img, targets) in enumerate(train_loader):\n",
    "        img, orig_img, targets  = img.cuda(), orig_img.cuda(), targets.cuda()\n",
    "        batch_size = img.size(0)\n",
    "        r = np.random.rand()\n",
    "\n",
    "        if r < 0.3:\n",
    "            # generate mixed sample\n",
    "            lam = np.random.beta(args.beta, args.beta)\n",
    "            rand_index = torch.randperm(img.size()[0]).cuda()\n",
    "            target_a = targets\n",
    "            target_b = targets[rand_index]\n",
    "            bbx1, bby1, bbx2, bby2 = rand_bbox(img.size(), lam)\n",
    "            #img[:, :, bby1:bby2, bbx1:bbx2] = img[rand_index, :, bby1:bby2, bbx1:bbx2] #for new cutmix\n",
    "            img[:, :, bbx1:bbx2, bby1:bby2] = img[rand_index, :, bbx1:bbx2, bby1:bby2]\n",
    "            \n",
    "            # adjust lambda to exactly match pixel ratio\n",
    "            lam = 1 - ((bbx2 - bbx1) * (bby2 - bby1) / (img.size()[-1] * img.size()[-2]))\n",
    "            # compute output\n",
    "            outputs, outputs_aux1, outputs_aux2 = model(img)\n",
    "            loss_primary = criterion(outputs, target_a) * lam + criterion(outputs, target_b) * (1. - lam)\n",
    "            loss_aux1 = criterion(outputs_aux1, target_a) * lam + criterion(outputs_aux1, target_b) * (1. - lam)\n",
    "            loss_aux2 = criterion(outputs_aux2, target_a) * lam + criterion(outputs_aux2, target_b) * (1. - lam)\n",
    "            loss = loss_primary + (loss_aux1 + loss_aux2)*0.8\n",
    "        elif r > 0.7:\n",
    "            img = grid(img)\n",
    "            outputs, outputs_aux1, outputs_aux2 = model(img)\n",
    "            loss_primary = criterion(outputs, targets)\n",
    "            loss_aux1 = criterion(outputs_aux1, targets)\n",
    "            loss_aux2 = criterion(outputs_aux2, targets)\n",
    "            loss = loss_primary + (loss_aux1 + loss_aux2)*0.8\n",
    "        else:\n",
    "            orig_img, targets = mixup(orig_img, targets)\n",
    "            outputs, outputs_aux1, outputs_aux2 = model(orig_img)\n",
    "            loss_primary = mixup_criterion(outputs, targets)\n",
    "            loss_aux1 = mixup_criterion(outputs_aux1, targets)\n",
    "            loss_aux2 = mixup_criterion(outputs_aux2, targets)\n",
    "            loss = loss_primary + (loss_aux1 + loss_aux2)*0.8\n",
    "            #loss = criterion(outputs, targets)\n",
    "\n",
    "        optimizer.zero_grad()\n",
    "        with amp.scale_loss(loss, optimizer) as scaled_loss:\n",
    "            scaled_loss.backward()\n",
    "        #loss.backward()\n",
    "        lr_scheduler(optimizer, batch_idx, epoch)\n",
    "        optimizer.step()            \n",
    "        \n",
    "        current_lr = get_lrs(optimizer)\n",
    "\n",
    "        train_loss += loss.item()\n",
    "        print('\\r {:4d} | {:.6f} | {:06d}/{} | {:.4f} | {:.4f} | {:.2f} |'.format(\n",
    "            epoch, float(current_lr[0]), batch_size*(batch_idx+1), train_loader.num, \n",
    "            loss.item(), train_loss/(batch_idx+1), (time.time() - bg) / 60), end='')\n"
   ]
  },
  {
   "cell_type": "code",
   "execution_count": 32,
   "metadata": {},
   "outputs": [],
   "source": [
    "import copy\n",
    "best_metrics = 0.\n",
    "best_metrics_swa = 0.\n",
    "\n",
    "\n",
    "def validate_and_save(model, model_file, val_loader, save=False):\n",
    "    global best_metrics\n",
    "    best_key = 'recall'\n",
    "    val_metrics = validate(model, val_loader)\n",
    "    print('\\nval:', val_metrics)\n",
    "    \n",
    "    if val_metrics[best_key] > best_metrics:\n",
    "        best_metrics = val_metrics[best_key]\n",
    "        if save:\n",
    "            save_model(model, model_file)\n",
    "            print('###>>>>> saved', model_file)\n",
    "    model.train()\n",
    "\n",
    "def validate_and_save_swa(model, model_file, val_loader, save=False):\n",
    "    global best_metrics_swa\n",
    "    best_key = 'recall'\n",
    "    val_metrics = validate(model, val_loader)\n",
    "    print('\\nval:', val_metrics)\n",
    "    \n",
    "    if val_metrics[best_key] > best_metrics_swa:\n",
    "        best_metrics_swa = val_metrics[best_key]\n",
    "        if save:\n",
    "            save_model(model, model_file)\n",
    "            print('###>>>>> saved', model_file)\n",
    "    model.train()\n",
    "\n",
    "\n",
    "def train(args):\n",
    "    model, model_file = create_model(cfg)\n",
    "    model = model.cuda()\n",
    "\n",
    "    swa_cfg = copy.deepcopy(cfg)\n",
    "    swa_cfg.CKP_NAME = cfg.CKP_NAME + '_swa'\n",
    "    swa_model, swa_model_file = create_model(swa_cfg)\n",
    "    swa_model = swa_model.cuda()\n",
    "\n",
    "    optimizer = make_optimizer(model)\n",
    "    lr_scheduler = WarmupCyclicalLR(\n",
    "        \"cos\", args.base_lr, args.num_epochs, iters_per_epoch=len(train_loader), warmup_epochs=args.warmup_epochs)\n",
    "    \n",
    "    [model, swa_model], optimizer = amp.initialize([model, swa_model], optimizer, opt_level=\"O1\",verbosity=0)\n",
    "    \n",
    "    if torch.cuda.device_count() > 1:\n",
    "        model = nn.DataParallel(model)\n",
    "        swa_model = nn.DataParallel(swa_model)\n",
    "    \n",
    "    validate_and_save(model, model_file, val_loader, save=False)\n",
    "\n",
    "    swa_model_loaded = False\n",
    "    if os.path.exists(swa_model_file):\n",
    "        swa_model_loaded = True\n",
    "        validate_and_save_swa(swa_model, swa_model_file, val_loader, save=False)\n",
    "    \n",
    "    for cycle in range(1, args.num_cycles+1):\n",
    "        print('CYCLE:', cycle)\n",
    "        grid = GridMask(64, 128, rotate=15, ratio=0.6, mode=1, prob=1.)\n",
    "\n",
    "        for epoch in range(args.start_epoch, args.num_epochs):\n",
    "            grid.set_prob(epoch, args.st_epochs)\n",
    "            train_epoch(args, model, train_loader, epoch, optimizer, lr_scheduler, grid)\n",
    "            validate_and_save(model, model_file, val_loader, save=True)\n",
    "            \n",
    "            if (epoch+1) == args.swa_start and cycle == 1:\n",
    "                if not swa_model_loaded:\n",
    "                    copy_model(swa_model, model)\n",
    "                swa_n = args.swa_n\n",
    "            if (epoch+1) >= args.swa_start and (epoch+1) % args.swa_freq == 0:\n",
    "                print('SWA>>>:')\n",
    "                moving_average(swa_model, model, 1.0 / (swa_n + 1))\n",
    "                swa_n += 1\n",
    "                bn_update(train_loader, swa_model)\n",
    "                validate_and_save_swa(swa_model, swa_model_file, val_loader, save=True)\n",
    "\n",
    "        #args.base_lr = 4e-4\n",
    "        #args.num_epochs = 60\n",
    "        #args.warmup_epochs = 3\n",
    "\n",
    "        # reset scheduler at each cycle\n",
    "        lr_scheduler = WarmupCyclicalLR(\n",
    "            \"cos\", args.base_lr, args.num_epochs, iters_per_epoch=len(train_loader), warmup_epochs=args.warmup_epochs)"
   ]
  },
  {
   "cell_type": "code",
   "execution_count": null,
   "metadata": {},
   "outputs": [],
   "source": []
  },
  {
   "cell_type": "code",
   "execution_count": 33,
   "metadata": {},
   "outputs": [],
   "source": [
    "cfg = Namespace()\n",
    "cfg.MODEL_NAME = 'tf_efficientnet_b4'\n",
    "cfg.PRETRAINED = True\n",
    "cfg.IN_CHANNELS = 1\n",
    "cfg.POOL_TYPE = 'avg'\n",
    "cfg.CLS_HEAD = 'linear'\n",
    "cfg.MODEL_ACTIVATION = 'swish'\n",
    "cfg.DROP_CONNECT = 0.2\n",
    "cfg.DROPOUT= 0.\n",
    "cfg.NUM_WORD_CLASSES = 1295\n",
    "cfg.NUM_GRAPHEME_CLASSES = 168\n",
    "cfg.NUM_VOWEL_CLASSES = 11\n",
    "cfg.NUM_CONSONANT_CLASSES = 7\n",
    "cfg.CKP_NAME = 'model4_eb4_fold3_380.pth'"
   ]
  },
  {
   "cell_type": "code",
   "execution_count": 34,
   "metadata": {},
   "outputs": [],
   "source": [
    "#model, model_file = create_model(cfg)\n",
    "#model(torch.randn(2,1,137,236))[0].size()"
   ]
  },
  {
   "cell_type": "code",
   "execution_count": 35,
   "metadata": {},
   "outputs": [],
   "source": [
    "args = Namespace()\n",
    "\n",
    "args.base_lr = 3e-4\n",
    "args.num_epochs = 60\n",
    "args.start_epoch = 0\n",
    "args.warmup_epochs = 10\n",
    "args.num_cycles = 100\n",
    "args.batch_size = 128\n",
    "args.val_batch_size = 512\n",
    "args.st_epochs = 5\n",
    "\n",
    "args.swa_start = 2\n",
    "args.swa_freq = 3\n",
    "args.swa_n = 3\n",
    "\n",
    "args.beta = 1.0\n",
    "args.cutmix_prob = 0.5"
   ]
  },
  {
   "cell_type": "code",
   "execution_count": 36,
   "metadata": {},
   "outputs": [
    {
     "name": "stdout",
     "output_type": "stream",
     "text": [
      "(200840, 6)\n",
      "(200840, 32332)\n",
      "(160716, 6) (40124, 6)\n"
     ]
    }
   ],
   "source": [
    "train_loader, val_loader = get_train_val_loaders(batch_size=args.batch_size, val_batch_size=args.val_batch_size, ifold=3)"
   ]
  },
  {
   "cell_type": "code",
   "execution_count": null,
   "metadata": {},
   "outputs": [
    {
     "name": "stdout",
     "output_type": "stream",
     "text": [
      "model file: ./model4-ckps/tf_efficientnet_b4/model4_eb4_fold3_380.pth, exist: True\n",
      "loading ./model4-ckps/tf_efficientnet_b4/model4_eb4_fold3_380.pth...\n",
      "model file: ./model4-ckps/tf_efficientnet_b4/model4_eb4_fold3_380.pth_swa, exist: True\n",
      "loading ./model4-ckps/tf_efficientnet_b4/model4_eb4_fold3_380.pth_swa...\n",
      "\n",
      "val: {'recall': 0.998467, 'recall_grapheme': 0.99772, 'recall_vowel': 0.998871, 'recall_consonant': 0.999558, 'recall_word': 0.99743, 'acc_grapheme': 0.997582, 'acc_vowel': 0.998704, 'acc_consonant': 0.999477, 'acc_word': 0.997458, 'loss_grapheme': 0.012791, 'loss_vowel': 0.006768, 'loss_consonant': 0.002529, 'loss_word': 0.01347}\n",
      "\n",
      "val: {'recall': 0.998677, 'recall_grapheme': 0.998053, 'recall_vowel': 0.998936, 'recall_consonant': 0.999667, 'recall_word': 0.997745, 'acc_grapheme': 0.998056, 'acc_vowel': 0.998829, 'acc_consonant': 0.999477, 'acc_word': 0.997732, 'loss_grapheme': 0.011116, 'loss_vowel': 0.005994, 'loss_consonant': 0.002174, 'loss_word': 0.012167}\n",
      "CYCLE: 1\n",
      "    0 | 0.000030 | 160640/160716 | 0.2616 | 4.9850 | 13.87 ||\n",
      "val: {'recall': 0.998319, 'recall_grapheme': 0.997505, 'recall_vowel': 0.998767, 'recall_consonant': 0.999501, 'recall_word': 0.997221, 'acc_grapheme': 0.997358, 'acc_vowel': 0.998679, 'acc_consonant': 0.999327, 'acc_word': 0.997283, 'loss_grapheme': 0.013726, 'loss_vowel': 0.007152, 'loss_consonant': 0.002669, 'loss_word': 0.01469}\n",
      "    2 | 0.000089 | 160640/160716 | 0.0234 | 5.2577 | 14.08 ||"
     ]
    },
    {
     "name": "stderr",
     "output_type": "stream",
     "text": [
      "\r",
      "  0%|          | 0/1255 [00:00<?, ?it/s]"
     ]
    },
    {
     "name": "stdout",
     "output_type": "stream",
     "text": [
      "\n",
      "val: {'recall': 0.998139, 'recall_grapheme': 0.997313, 'recall_vowel': 0.998481, 'recall_consonant': 0.999447, 'recall_word': 0.997014, 'acc_grapheme': 0.997209, 'acc_vowel': 0.99853, 'acc_consonant': 0.999227, 'acc_word': 0.997009, 'loss_grapheme': 0.01459, 'loss_vowel': 0.006974, 'loss_consonant': 0.003406, 'loss_word': 0.014635}\n",
      "SWA>>>:\n"
     ]
    },
    {
     "name": "stderr",
     "output_type": "stream",
     "text": [
      "100%|██████████| 1255/1255 [07:07<00:00,  2.90it/s]\n"
     ]
    },
    {
     "name": "stdout",
     "output_type": "stream",
     "text": [
      "\n",
      "val: {'recall': 0.998648, 'recall_grapheme': 0.998056, 'recall_vowel': 0.99884, 'recall_consonant': 0.999639, 'recall_word': 0.997759, 'acc_grapheme': 0.998056, 'acc_vowel': 0.998829, 'acc_consonant': 0.999477, 'acc_word': 0.997732, 'loss_grapheme': 0.011008, 'loss_vowel': 0.005916, 'loss_consonant': 0.00213, 'loss_word': 0.012015}\n",
      "    3 | 0.000119 | 160640/160716 | 0.0217 | 5.2222 | 14.18 ||\n",
      "val: {'recall': 0.998229, 'recall_grapheme': 0.997337, 'recall_vowel': 0.998754, 'recall_consonant': 0.999489, 'recall_word': 0.997086, 'acc_grapheme': 0.997358, 'acc_vowel': 0.998579, 'acc_consonant': 0.999302, 'acc_word': 0.997134, 'loss_grapheme': 0.01389, 'loss_vowel': 0.007072, 'loss_consonant': 0.003256, 'loss_word': 0.01489}\n",
      "    4 | 0.000147 | 160640/160716 | 0.1496 | 5.0842 | 14.36 ||\n",
      "val: {'recall': 0.997871, 'recall_grapheme': 0.996877, 'recall_vowel': 0.998279, 'recall_consonant': 0.99945, 'recall_word': 0.996458, 'acc_grapheme': 0.996685, 'acc_vowel': 0.99828, 'acc_consonant': 0.999128, 'acc_word': 0.996486, 'loss_grapheme': 0.016575, 'loss_vowel': 0.007983, 'loss_consonant': 0.003802, 'loss_word': 0.017256}\n",
      "    5 | 0.000176 | 160640/160716 | 1.0790 | 5.0878 | 14.40 ||"
     ]
    },
    {
     "name": "stderr",
     "output_type": "stream",
     "text": [
      "\r",
      "  0%|          | 0/1255 [00:00<?, ?it/s]"
     ]
    },
    {
     "name": "stdout",
     "output_type": "stream",
     "text": [
      "\n",
      "val: {'recall': 0.997897, 'recall_grapheme': 0.996845, 'recall_vowel': 0.998511, 'recall_consonant': 0.999387, 'recall_word': 0.996457, 'acc_grapheme': 0.996885, 'acc_vowel': 0.99848, 'acc_consonant': 0.999078, 'acc_word': 0.996436, 'loss_grapheme': 0.016478, 'loss_vowel': 0.008389, 'loss_consonant': 0.004269, 'loss_word': 0.018029}\n",
      "SWA>>>:\n"
     ]
    },
    {
     "name": "stderr",
     "output_type": "stream",
     "text": [
      "100%|██████████| 1255/1255 [07:02<00:00,  2.92it/s]\n"
     ]
    },
    {
     "name": "stdout",
     "output_type": "stream",
     "text": [
      "\n",
      "val: {'recall': 0.998631, 'recall_grapheme': 0.998019, 'recall_vowel': 0.998826, 'recall_consonant': 0.999661, 'recall_word': 0.997683, 'acc_grapheme': 0.997956, 'acc_vowel': 0.998829, 'acc_consonant': 0.999452, 'acc_word': 0.997657, 'loss_grapheme': 0.011307, 'loss_vowel': 0.006126, 'loss_consonant': 0.00227, 'loss_word': 0.012407}\n",
      "    6 | 0.000203 | 160640/160716 | 0.3573 | 5.2923 | 14.43 ||\n",
      "val: {'recall': 0.997851, 'recall_grapheme': 0.997002, 'recall_vowel': 0.998393, 'recall_consonant': 0.999005, 'recall_word': 0.996364, 'acc_grapheme': 0.996735, 'acc_vowel': 0.99843, 'acc_consonant': 0.998829, 'acc_word': 0.996386, 'loss_grapheme': 0.016211, 'loss_vowel': 0.007998, 'loss_consonant': 0.004733, 'loss_word': 0.01706}\n",
      "    7 | 0.000230 | 160640/160716 | 0.0862 | 5.2428 | 14.45 ||\n",
      "val: {'recall': 0.99754, 'recall_grapheme': 0.996247, 'recall_vowel': 0.998315, 'recall_consonant': 0.99935, 'recall_word': 0.996234, 'acc_grapheme': 0.996685, 'acc_vowel': 0.99848, 'acc_consonant': 0.998928, 'acc_word': 0.996262, 'loss_grapheme': 0.016209, 'loss_vowel': 0.007831, 'loss_consonant': 0.004975, 'loss_word': 0.016844}\n",
      "    8 | 0.000255 | 160640/160716 | 3.2691 | 5.3109 | 14.46 ||"
     ]
    },
    {
     "name": "stderr",
     "output_type": "stream",
     "text": [
      "\r",
      "  0%|          | 0/1255 [00:00<?, ?it/s]"
     ]
    },
    {
     "name": "stdout",
     "output_type": "stream",
     "text": [
      "\n",
      "val: {'recall': 0.997588, 'recall_grapheme': 0.996698, 'recall_vowel': 0.997703, 'recall_consonant': 0.999253, 'recall_word': 0.995994, 'acc_grapheme': 0.996361, 'acc_vowel': 0.997882, 'acc_consonant': 0.998978, 'acc_word': 0.995963, 'loss_grapheme': 0.018018, 'loss_vowel': 0.008825, 'loss_consonant': 0.004723, 'loss_word': 0.019284}\n",
      "SWA>>>:\n"
     ]
    },
    {
     "name": "stderr",
     "output_type": "stream",
     "text": [
      "100%|██████████| 1255/1255 [07:09<00:00,  2.83it/s]\n"
     ]
    },
    {
     "name": "stdout",
     "output_type": "stream",
     "text": [
      "\n",
      "val: {'recall': 0.998573, 'recall_grapheme': 0.997902, 'recall_vowel': 0.998823, 'recall_consonant': 0.999667, 'recall_word': 0.997751, 'acc_grapheme': 0.997832, 'acc_vowel': 0.998804, 'acc_consonant': 0.999477, 'acc_word': 0.997732, 'loss_grapheme': 0.011292, 'loss_vowel': 0.00607, 'loss_consonant': 0.002166, 'loss_word': 0.012427}\n",
      "    9 | 0.000280 | 160640/160716 | 0.8170 | 5.4379 | 14.44 ||\n",
      "val: {'recall': 0.997248, 'recall_grapheme': 0.996205, 'recall_vowel': 0.998304, 'recall_consonant': 0.998277, 'recall_word': 0.995014, 'acc_grapheme': 0.996012, 'acc_vowel': 0.998081, 'acc_consonant': 0.99828, 'acc_word': 0.994941, 'loss_grapheme': 0.019828, 'loss_vowel': 0.010113, 'loss_consonant': 0.007176, 'loss_word': 0.024107}\n",
      "   10 | 0.000276 | 160640/160716 | 0.1469 | 5.3271 | 14.41 ||\n",
      "val: {'recall': 0.997746, 'recall_grapheme': 0.996686, 'recall_vowel': 0.998384, 'recall_consonant': 0.99923, 'recall_word': 0.996459, 'acc_grapheme': 0.996785, 'acc_vowel': 0.998405, 'acc_consonant': 0.999103, 'acc_word': 0.996511, 'loss_grapheme': 0.015378, 'loss_vowel': 0.007789, 'loss_consonant': 0.004138, 'loss_word': 0.016341}\n",
      "   11 | 0.000271 | 160640/160716 | 3.3232 | 5.4765 | 14.47 ||"
     ]
    },
    {
     "name": "stderr",
     "output_type": "stream",
     "text": [
      "\r",
      "  0%|          | 0/1255 [00:00<?, ?it/s]"
     ]
    },
    {
     "name": "stdout",
     "output_type": "stream",
     "text": [
      "\n",
      "val: {'recall': 0.997604, 'recall_grapheme': 0.996775, 'recall_vowel': 0.998181, 'recall_consonant': 0.998685, 'recall_word': 0.996225, 'acc_grapheme': 0.996586, 'acc_vowel': 0.998031, 'acc_consonant': 0.999028, 'acc_word': 0.996212, 'loss_grapheme': 0.016219, 'loss_vowel': 0.008863, 'loss_consonant': 0.004369, 'loss_word': 0.017492}\n",
      "SWA>>>:\n"
     ]
    },
    {
     "name": "stderr",
     "output_type": "stream",
     "text": [
      "100%|██████████| 1255/1255 [07:10<00:00,  2.80it/s]\n"
     ]
    },
    {
     "name": "stdout",
     "output_type": "stream",
     "text": [
      "\n",
      "val: {'recall': 0.998613, 'recall_grapheme': 0.997923, 'recall_vowel': 0.998899, 'recall_consonant': 0.999706, 'recall_word': 0.997718, 'acc_grapheme': 0.997857, 'acc_vowel': 0.998903, 'acc_consonant': 0.999526, 'acc_word': 0.997682, 'loss_grapheme': 0.011301, 'loss_vowel': 0.006171, 'loss_consonant': 0.002185, 'loss_word': 0.012525}\n",
      "   12 | 0.000267 | 160640/160716 | 0.7925 | 5.2547 | 14.47 ||\n",
      "val: {'recall': 0.997558, 'recall_grapheme': 0.996561, 'recall_vowel': 0.998552, 'recall_consonant': 0.99856, 'recall_word': 0.9962, 'acc_grapheme': 0.996536, 'acc_vowel': 0.998405, 'acc_consonant': 0.998779, 'acc_word': 0.996237, 'loss_grapheme': 0.016791, 'loss_vowel': 0.007631, 'loss_consonant': 0.004435, 'loss_word': 0.017615}\n",
      "   13 | 0.000261 | 160640/160716 | 6.8214 | 5.5810 | 14.43 ||\n",
      "val: {'recall': 0.997958, 'recall_grapheme': 0.997171, 'recall_vowel': 0.998488, 'recall_consonant': 0.999003, 'recall_word': 0.996637, 'acc_grapheme': 0.997059, 'acc_vowel': 0.998181, 'acc_consonant': 0.998854, 'acc_word': 0.996635, 'loss_grapheme': 0.015339, 'loss_vowel': 0.008576, 'loss_consonant': 0.004671, 'loss_word': 0.016758}\n",
      "   14 | 0.000256 | 160640/160716 | 15.1137 | 5.3831 | 14.46 |"
     ]
    },
    {
     "name": "stderr",
     "output_type": "stream",
     "text": [
      "\r",
      "  0%|          | 0/1255 [00:00<?, ?it/s]"
     ]
    },
    {
     "name": "stdout",
     "output_type": "stream",
     "text": [
      "\n",
      "val: {'recall': 0.997666, 'recall_grapheme': 0.996767, 'recall_vowel': 0.998333, 'recall_consonant': 0.998798, 'recall_word': 0.996232, 'acc_grapheme': 0.996635, 'acc_vowel': 0.99833, 'acc_consonant': 0.998754, 'acc_word': 0.996262, 'loss_grapheme': 0.018253, 'loss_vowel': 0.009038, 'loss_consonant': 0.005094, 'loss_word': 0.018969}\n",
      "SWA>>>:\n"
     ]
    },
    {
     "name": "stderr",
     "output_type": "stream",
     "text": [
      " 90%|████████▉ | 1126/1255 [06:25<00:43,  2.94it/s]"
     ]
    }
   ],
   "source": [
    "train(args)"
   ]
  },
  {
   "cell_type": "code",
   "execution_count": null,
   "metadata": {},
   "outputs": [],
   "source": []
  },
  {
   "cell_type": "code",
   "execution_count": 73,
   "metadata": {},
   "outputs": [
    {
     "name": "stdout",
     "output_type": "stream",
     "text": [
      "model file: ./model4-ckps/tf_efficientnet_b4/model4_eb4_fold3_380.pth, exist: True\n",
      "loading ./model4-ckps/tf_efficientnet_b4/model4_eb4_fold3_380.pth...\n",
      "model file: ./model4-ckps/tf_efficientnet_b4/model4_eb4_fold3_380.pth_swa, exist: True\n",
      "loading ./model4-ckps/tf_efficientnet_b4/model4_eb4_fold3_380.pth_swa...\n",
      "\n",
      "val: {'recall': 0.998467, 'recall_grapheme': 0.99772, 'recall_vowel': 0.998871, 'recall_consonant': 0.999558, 'recall_word': 0.99743, 'acc_grapheme': 0.997582, 'acc_vowel': 0.998704, 'acc_consonant': 0.999477, 'acc_word': 0.997458, 'loss_grapheme': 0.012791, 'loss_vowel': 0.006768, 'loss_consonant': 0.002529, 'loss_word': 0.01347}\n",
      "\n",
      "val: {'recall': 0.998671, 'recall_grapheme': 0.998067, 'recall_vowel': 0.998935, 'recall_consonant': 0.999613, 'recall_word': 0.997673, 'acc_grapheme': 0.997981, 'acc_vowel': 0.998829, 'acc_consonant': 0.999477, 'acc_word': 0.997632, 'loss_grapheme': 0.011121, 'loss_vowel': 0.006063, 'loss_consonant': 0.002289, 'loss_word': 0.012252}\n",
      "CYCLE: 1\n",
      "    0 | 0.000025 | 160640/160716 | 0.0300 | 5.0572 | 13.85 ||\n",
      "val: {'recall': 0.998168, 'recall_grapheme': 0.99727, 'recall_vowel': 0.998697, 'recall_consonant': 0.999435, 'recall_word': 0.996848, 'acc_grapheme': 0.997159, 'acc_vowel': 0.998629, 'acc_consonant': 0.999302, 'acc_word': 0.996935, 'loss_grapheme': 0.014356, 'loss_vowel': 0.007086, 'loss_consonant': 0.002685, 'loss_word': 0.01555}\n",
      "    1 | 0.000050 | 160640/160716 | 0.0386 | 5.0505 | 14.00 ||\n",
      "val: {'recall': 0.998075, 'recall_grapheme': 0.997174, 'recall_vowel': 0.998579, 'recall_consonant': 0.999372, 'recall_word': 0.996744, 'acc_grapheme': 0.997084, 'acc_vowel': 0.99848, 'acc_consonant': 0.999252, 'acc_word': 0.99681, 'loss_grapheme': 0.014284, 'loss_vowel': 0.007307, 'loss_consonant': 0.0028, 'loss_word': 0.01584}\n",
      "    2 | 0.000075 | 160640/160716 | 6.0753 | 5.1054 | 14.12 ||"
     ]
    },
    {
     "name": "stderr",
     "output_type": "stream",
     "text": [
      "\r",
      "  0%|          | 0/1255 [00:00<?, ?it/s]"
     ]
    },
    {
     "name": "stdout",
     "output_type": "stream",
     "text": [
      "\n",
      "val: {'recall': 0.997929, 'recall_grapheme': 0.996827, 'recall_vowel': 0.998736, 'recall_consonant': 0.999326, 'recall_word': 0.996394, 'acc_grapheme': 0.996885, 'acc_vowel': 0.99848, 'acc_consonant': 0.999178, 'acc_word': 0.996411, 'loss_grapheme': 0.01605, 'loss_vowel': 0.007821, 'loss_consonant': 0.003694, 'loss_word': 0.017375}\n",
      "SWA>>>:\n"
     ]
    },
    {
     "name": "stderr",
     "output_type": "stream",
     "text": [
      "100%|██████████| 1255/1255 [07:05<00:00,  2.83it/s]\n"
     ]
    },
    {
     "name": "stdout",
     "output_type": "stream",
     "text": [
      "\n",
      "val: {'recall': 0.998568, 'recall_grapheme': 0.997907, 'recall_vowel': 0.998851, 'recall_consonant': 0.999607, 'recall_word': 0.997571, 'acc_grapheme': 0.997857, 'acc_vowel': 0.998779, 'acc_consonant': 0.999452, 'acc_word': 0.997558, 'loss_grapheme': 0.011218, 'loss_vowel': 0.006183, 'loss_consonant': 0.00223, 'loss_word': 0.012368}\n",
      "    3 | 0.000099 | 160640/160716 | 0.0395 | 5.0809 | 14.22 ||\n",
      "val: {'recall': 0.998415, 'recall_grapheme': 0.9975, 'recall_vowel': 0.999015, 'recall_consonant': 0.999644, 'recall_word': 0.997189, 'acc_grapheme': 0.997458, 'acc_vowel': 0.998729, 'acc_consonant': 0.999477, 'acc_word': 0.997184, 'loss_grapheme': 0.014277, 'loss_vowel': 0.00677, 'loss_consonant': 0.002857, 'loss_word': 0.014951}\n",
      "    4 | 0.000123 | 160640/160716 | 13.6762 | 5.1560 | 14.33 |\n",
      "val: {'recall': 0.99774, 'recall_grapheme': 0.996756, 'recall_vowel': 0.998246, 'recall_consonant': 0.999204, 'recall_word': 0.996235, 'acc_grapheme': 0.99666, 'acc_vowel': 0.998455, 'acc_consonant': 0.998978, 'acc_word': 0.996212, 'loss_grapheme': 0.016892, 'loss_vowel': 0.008004, 'loss_consonant': 0.004282, 'loss_word': 0.018144}\n",
      "    5 | 0.000146 | 160640/160716 | 0.3067 | 5.3159 | 14.43 ||"
     ]
    },
    {
     "name": "stderr",
     "output_type": "stream",
     "text": [
      "\r",
      "  0%|          | 0/1255 [00:00<?, ?it/s]"
     ]
    },
    {
     "name": "stdout",
     "output_type": "stream",
     "text": [
      "\n",
      "val: {'recall': 0.997823, 'recall_grapheme': 0.996758, 'recall_vowel': 0.998445, 'recall_consonant': 0.999332, 'recall_word': 0.99619, 'acc_grapheme': 0.99671, 'acc_vowel': 0.99848, 'acc_consonant': 0.999202, 'acc_word': 0.996212, 'loss_grapheme': 0.016203, 'loss_vowel': 0.008032, 'loss_consonant': 0.003702, 'loss_word': 0.01693}\n",
      "SWA>>>:\n"
     ]
    },
    {
     "name": "stderr",
     "output_type": "stream",
     "text": [
      "100%|██████████| 1255/1255 [07:09<00:00,  2.81it/s]\n"
     ]
    },
    {
     "name": "stdout",
     "output_type": "stream",
     "text": [
      "\n",
      "val: {'recall': 0.998574, 'recall_grapheme': 0.997924, 'recall_vowel': 0.998848, 'recall_consonant': 0.999601, 'recall_word': 0.997588, 'acc_grapheme': 0.997981, 'acc_vowel': 0.998829, 'acc_consonant': 0.999427, 'acc_word': 0.997558, 'loss_grapheme': 0.011157, 'loss_vowel': 0.006187, 'loss_consonant': 0.002199, 'loss_word': 0.012292}\n",
      "    6 | 0.000169 | 160640/160716 | 7.2262 | 5.1593 | 14.42 ||\n",
      "val: {'recall': 0.997885, 'recall_grapheme': 0.996916, 'recall_vowel': 0.998423, 'recall_consonant': 0.999285, 'recall_word': 0.996174, 'acc_grapheme': 0.99676, 'acc_vowel': 0.998255, 'acc_consonant': 0.999128, 'acc_word': 0.996237, 'loss_grapheme': 0.015642, 'loss_vowel': 0.008357, 'loss_consonant': 0.003476, 'loss_word': 0.017584}\n",
      "    7 | 0.000191 | 160640/160716 | 12.8021 | 5.1535 | 14.45 |\n",
      "val: {'recall': 0.99791, 'recall_grapheme': 0.996892, 'recall_vowel': 0.998532, 'recall_consonant': 0.999326, 'recall_word': 0.996456, 'acc_grapheme': 0.99691, 'acc_vowel': 0.998455, 'acc_consonant': 0.999277, 'acc_word': 0.996511, 'loss_grapheme': 0.015947, 'loss_vowel': 0.007974, 'loss_consonant': 0.003272, 'loss_word': 0.016703}\n",
      "    8 | 0.000213 | 160640/160716 | 0.5090 | 5.1662 | 14.47 ||"
     ]
    },
    {
     "name": "stderr",
     "output_type": "stream",
     "text": [
      "\r",
      "  0%|          | 0/1255 [00:00<?, ?it/s]"
     ]
    },
    {
     "name": "stdout",
     "output_type": "stream",
     "text": [
      "\n",
      "val: {'recall': 0.99792, 'recall_grapheme': 0.99707, 'recall_vowel': 0.998497, 'recall_consonant': 0.999042, 'recall_word': 0.996734, 'acc_grapheme': 0.997059, 'acc_vowel': 0.998305, 'acc_consonant': 0.998854, 'acc_word': 0.996735, 'loss_grapheme': 0.014721, 'loss_vowel': 0.007574, 'loss_consonant': 0.004414, 'loss_word': 0.015663}\n",
      "SWA>>>:\n"
     ]
    },
    {
     "name": "stderr",
     "output_type": "stream",
     "text": [
      "100%|██████████| 1255/1255 [07:10<00:00,  2.80it/s]\n"
     ]
    },
    {
     "name": "stdout",
     "output_type": "stream",
     "text": [
      "\n",
      "val: {'recall': 0.998605, 'recall_grapheme': 0.998002, 'recall_vowel': 0.998856, 'recall_consonant': 0.999562, 'recall_word': 0.997798, 'acc_grapheme': 0.998056, 'acc_vowel': 0.998829, 'acc_consonant': 0.999377, 'acc_word': 0.997782, 'loss_grapheme': 0.011096, 'loss_vowel': 0.006089, 'loss_consonant': 0.002204, 'loss_word': 0.012253}\n",
      "    9 | 0.000233 | 160640/160716 | 6.6431 | 5.3578 | 14.50 ||\n",
      "val: {'recall': 0.997706, 'recall_grapheme': 0.996497, 'recall_vowel': 0.998644, 'recall_consonant': 0.999186, 'recall_word': 0.995945, 'acc_grapheme': 0.996187, 'acc_vowel': 0.998455, 'acc_consonant': 0.998654, 'acc_word': 0.995913, 'loss_grapheme': 0.017225, 'loss_vowel': 0.008495, 'loss_consonant': 0.005929, 'loss_word': 0.018355}\n",
      "   10 | 0.000230 | 160640/160716 | 5.6780 | 5.3569 | 14.48 ||\n",
      "val: {'recall': 0.99699, 'recall_grapheme': 0.9955, 'recall_vowel': 0.998359, 'recall_consonant': 0.9986, 'recall_word': 0.995426, 'acc_grapheme': 0.995713, 'acc_vowel': 0.99823, 'acc_consonant': 0.99843, 'acc_word': 0.995414, 'loss_grapheme': 0.020553, 'loss_vowel': 0.009724, 'loss_consonant': 0.005853, 'loss_word': 0.022158}\n",
      "   11 | 0.000226 | 160640/160716 | 2.7822 | 5.2740 | 14.45 ||"
     ]
    },
    {
     "name": "stderr",
     "output_type": "stream",
     "text": [
      "\r",
      "  0%|          | 0/1255 [00:00<?, ?it/s]"
     ]
    },
    {
     "name": "stdout",
     "output_type": "stream",
     "text": [
      "\n",
      "val: {'recall': 0.997188, 'recall_grapheme': 0.995769, 'recall_vowel': 0.998227, 'recall_consonant': 0.998985, 'recall_word': 0.995359, 'acc_grapheme': 0.995963, 'acc_vowel': 0.997981, 'acc_consonant': 0.998729, 'acc_word': 0.995339, 'loss_grapheme': 0.019265, 'loss_vowel': 0.009449, 'loss_consonant': 0.005073, 'loss_word': 0.020637}\n",
      "SWA>>>:\n"
     ]
    },
    {
     "name": "stderr",
     "output_type": "stream",
     "text": [
      "100%|██████████| 1255/1255 [07:14<00:00,  2.75it/s]\n"
     ]
    },
    {
     "name": "stdout",
     "output_type": "stream",
     "text": [
      "\n",
      "val: {'recall': 0.998647, 'recall_grapheme': 0.998052, 'recall_vowel': 0.998884, 'recall_consonant': 0.999599, 'recall_word': 0.997738, 'acc_grapheme': 0.998006, 'acc_vowel': 0.998854, 'acc_consonant': 0.999427, 'acc_word': 0.997732, 'loss_grapheme': 0.01104, 'loss_vowel': 0.006097, 'loss_consonant': 0.002218, 'loss_word': 0.012258}\n",
      "   12 | 0.000222 | 160640/160716 | 16.2454 | 5.5822 | 14.48 |\n",
      "val: {'recall': 0.9975, 'recall_grapheme': 0.99633, 'recall_vowel': 0.998262, 'recall_consonant': 0.999079, 'recall_word': 0.995858, 'acc_grapheme': 0.996262, 'acc_vowel': 0.998131, 'acc_consonant': 0.998804, 'acc_word': 0.995763, 'loss_grapheme': 0.018952, 'loss_vowel': 0.00942, 'loss_consonant': 0.004836, 'loss_word': 0.019586}\n",
      "   13 | 0.000218 | 160640/160716 | 0.3368 | 5.3145 | 14.48 ||\n",
      "val: {'recall': 0.997204, 'recall_grapheme': 0.996028, 'recall_vowel': 0.998272, 'recall_consonant': 0.99849, 'recall_word': 0.995943, 'acc_grapheme': 0.996237, 'acc_vowel': 0.998106, 'acc_consonant': 0.998804, 'acc_word': 0.995987, 'loss_grapheme': 0.017503, 'loss_vowel': 0.008673, 'loss_consonant': 0.004791, 'loss_word': 0.018689}\n",
      "   14 | 0.000213 | 160640/160716 | 4.1118 | 5.3005 | 14.47 ||"
     ]
    },
    {
     "name": "stderr",
     "output_type": "stream",
     "text": [
      "\r",
      "  0%|          | 0/1255 [00:00<?, ?it/s]"
     ]
    },
    {
     "name": "stdout",
     "output_type": "stream",
     "text": [
      "\n",
      "val: {'recall': 0.99792, 'recall_grapheme': 0.996964, 'recall_vowel': 0.998274, 'recall_consonant': 0.999478, 'recall_word': 0.996082, 'acc_grapheme': 0.99671, 'acc_vowel': 0.998405, 'acc_consonant': 0.999227, 'acc_word': 0.996037, 'loss_grapheme': 0.016199, 'loss_vowel': 0.008154, 'loss_consonant': 0.003945, 'loss_word': 0.016963}\n",
      "SWA>>>:\n"
     ]
    },
    {
     "name": "stderr",
     "output_type": "stream",
     "text": [
      "100%|██████████| 1255/1255 [07:14<00:00,  2.73it/s]\n"
     ]
    },
    {
     "name": "stdout",
     "output_type": "stream",
     "text": [
      "\n",
      "val: {'recall': 0.998634, 'recall_grapheme': 0.998031, 'recall_vowel': 0.99884, 'recall_consonant': 0.999633, 'recall_word': 0.997796, 'acc_grapheme': 0.998006, 'acc_vowel': 0.998804, 'acc_consonant': 0.999452, 'acc_word': 0.997782, 'loss_grapheme': 0.011023, 'loss_vowel': 0.006025, 'loss_consonant': 0.002173, 'loss_word': 0.012158}\n",
      "   15 | 0.000209 | 160640/160716 | 13.5670 | 5.3744 | 14.54 |\n",
      "val: {'recall': 0.997963, 'recall_grapheme': 0.997155, 'recall_vowel': 0.998624, 'recall_consonant': 0.998917, 'recall_word': 0.996396, 'acc_grapheme': 0.99686, 'acc_vowel': 0.998405, 'acc_consonant': 0.998829, 'acc_word': 0.996386, 'loss_grapheme': 0.017125, 'loss_vowel': 0.008523, 'loss_consonant': 0.005554, 'loss_word': 0.018057}\n",
      "   16 | 0.000204 | 160640/160716 | 6.4968 | 5.3727 | 14.51 ||\n",
      "val: {'recall': 0.997707, 'recall_grapheme': 0.996683, 'recall_vowel': 0.998422, 'recall_consonant': 0.999042, 'recall_word': 0.99607, 'acc_grapheme': 0.996461, 'acc_vowel': 0.998206, 'acc_consonant': 0.998779, 'acc_word': 0.996062, 'loss_grapheme': 0.016123, 'loss_vowel': 0.00806, 'loss_consonant': 0.004742, 'loss_word': 0.017409}\n",
      "   17 | 0.000198 | 160640/160716 | 5.9494 | 5.0884 | 14.55 ||"
     ]
    },
    {
     "name": "stderr",
     "output_type": "stream",
     "text": [
      "\r",
      "  0%|          | 0/1255 [00:00<?, ?it/s]"
     ]
    },
    {
     "name": "stdout",
     "output_type": "stream",
     "text": [
      "\n",
      "val: {'recall': 0.997826, 'recall_grapheme': 0.996922, 'recall_vowel': 0.998365, 'recall_consonant': 0.999096, 'recall_word': 0.996222, 'acc_grapheme': 0.996885, 'acc_vowel': 0.998355, 'acc_consonant': 0.998779, 'acc_word': 0.996262, 'loss_grapheme': 0.01677, 'loss_vowel': 0.008484, 'loss_consonant': 0.004376, 'loss_word': 0.018535}\n",
      "SWA>>>:\n"
     ]
    },
    {
     "name": "stderr",
     "output_type": "stream",
     "text": [
      "100%|██████████| 1255/1255 [07:16<00:00,  2.84it/s]\n"
     ]
    },
    {
     "name": "stdout",
     "output_type": "stream",
     "text": [
      "\n",
      "val: {'recall': 0.998635, 'recall_grapheme': 0.998033, 'recall_vowel': 0.998839, 'recall_consonant': 0.999633, 'recall_word': 0.997759, 'acc_grapheme': 0.998031, 'acc_vowel': 0.998804, 'acc_consonant': 0.999452, 'acc_word': 0.997757, 'loss_grapheme': 0.011052, 'loss_vowel': 0.006, 'loss_consonant': 0.002137, 'loss_word': 0.012162}\n",
      "   18 | 0.000193 | 160640/160716 | 0.8590 | 5.0676 | 14.54 ||\n",
      "val: {'recall': 0.99774, 'recall_grapheme': 0.996462, 'recall_vowel': 0.998735, 'recall_consonant': 0.999299, 'recall_word': 0.996562, 'acc_grapheme': 0.99671, 'acc_vowel': 0.998505, 'acc_consonant': 0.999053, 'acc_word': 0.996511, 'loss_grapheme': 0.016121, 'loss_vowel': 0.007137, 'loss_consonant': 0.003849, 'loss_word': 0.016973}\n",
      "   19 | 0.000188 | 160640/160716 | 0.6320 | 5.1046 | 14.50 ||\n",
      "val: {'recall': 0.99815, 'recall_grapheme': 0.997473, 'recall_vowel': 0.998558, 'recall_consonant': 0.999097, 'recall_word': 0.996611, 'acc_grapheme': 0.997159, 'acc_vowel': 0.998579, 'acc_consonant': 0.998978, 'acc_word': 0.996561, 'loss_grapheme': 0.01425, 'loss_vowel': 0.007595, 'loss_consonant': 0.004472, 'loss_word': 0.016015}\n",
      "   20 | 0.000182 | 160640/160716 | 14.5443 | 5.1261 | 14.51 |"
     ]
    },
    {
     "name": "stderr",
     "output_type": "stream",
     "text": [
      "\r",
      "  0%|          | 0/1255 [00:00<?, ?it/s]"
     ]
    },
    {
     "name": "stdout",
     "output_type": "stream",
     "text": [
      "\n",
      "val: {'recall': 0.997545, 'recall_grapheme': 0.996086, 'recall_vowel': 0.998577, 'recall_consonant': 0.99943, 'recall_word': 0.996166, 'acc_grapheme': 0.996162, 'acc_vowel': 0.99853, 'acc_consonant': 0.999153, 'acc_word': 0.996137, 'loss_grapheme': 0.018638, 'loss_vowel': 0.008447, 'loss_consonant': 0.004687, 'loss_word': 0.019072}\n",
      "SWA>>>:\n"
     ]
    },
    {
     "name": "stderr",
     "output_type": "stream",
     "text": [
      "100%|██████████| 1255/1255 [07:12<00:00,  2.68it/s]\n"
     ]
    },
    {
     "name": "stdout",
     "output_type": "stream",
     "text": [
      "\n",
      "val: {'recall': 0.998677, 'recall_grapheme': 0.998053, 'recall_vowel': 0.998936, 'recall_consonant': 0.999667, 'recall_word': 0.997745, 'acc_grapheme': 0.998056, 'acc_vowel': 0.998829, 'acc_consonant': 0.999477, 'acc_word': 0.997732, 'loss_grapheme': 0.011116, 'loss_vowel': 0.005994, 'loss_consonant': 0.002174, 'loss_word': 0.012167}\n",
      "###>>>>> saved ./model4-ckps/tf_efficientnet_b4/model4_eb4_fold3_380.pth_swa\n",
      "   21 | 0.000176 | 160640/160716 | 5.8294 | 5.3271 | 14.50 ||\n",
      "val: {'recall': 0.99806, 'recall_grapheme': 0.997219, 'recall_vowel': 0.998524, 'recall_consonant': 0.999279, 'recall_word': 0.996654, 'acc_grapheme': 0.99691, 'acc_vowel': 0.99848, 'acc_consonant': 0.998978, 'acc_word': 0.99666, 'loss_grapheme': 0.015699, 'loss_vowel': 0.007105, 'loss_consonant': 0.004086, 'loss_word': 0.016024}\n",
      "   22 | 0.000170 | 160640/160716 | 8.3119 | 5.3733 | 14.50 ||\n",
      "val: {'recall': 0.997961, 'recall_grapheme': 0.997014, 'recall_vowel': 0.998598, 'recall_consonant': 0.999218, 'recall_word': 0.99641, 'acc_grapheme': 0.996461, 'acc_vowel': 0.998405, 'acc_consonant': 0.999028, 'acc_word': 0.996436, 'loss_grapheme': 0.016725, 'loss_vowel': 0.007587, 'loss_consonant': 0.004175, 'loss_word': 0.017099}\n",
      "   23 | 0.000164 | 160640/160716 | 0.2852 | 5.1986 | 14.50 ||"
     ]
    },
    {
     "name": "stderr",
     "output_type": "stream",
     "text": [
      "\r",
      "  0%|          | 0/1255 [00:00<?, ?it/s]"
     ]
    },
    {
     "name": "stdout",
     "output_type": "stream",
     "text": [
      "\n",
      "val: {'recall': 0.997604, 'recall_grapheme': 0.996295, 'recall_vowel': 0.998396, 'recall_consonant': 0.999431, 'recall_word': 0.996437, 'acc_grapheme': 0.996436, 'acc_vowel': 0.998455, 'acc_consonant': 0.999277, 'acc_word': 0.996461, 'loss_grapheme': 0.017045, 'loss_vowel': 0.007897, 'loss_consonant': 0.003531, 'loss_word': 0.017318}\n",
      "SWA>>>:\n"
     ]
    },
    {
     "name": "stderr",
     "output_type": "stream",
     "text": [
      "100%|██████████| 1255/1255 [07:13<00:00,  2.79it/s]\n"
     ]
    },
    {
     "name": "stdout",
     "output_type": "stream",
     "text": [
      "\n",
      "val: {'recall': 0.998621, 'recall_grapheme': 0.997951, 'recall_vowel': 0.998909, 'recall_consonant': 0.999673, 'recall_word': 0.997848, 'acc_grapheme': 0.997981, 'acc_vowel': 0.998779, 'acc_consonant': 0.999502, 'acc_word': 0.997832, 'loss_grapheme': 0.011083, 'loss_vowel': 0.005991, 'loss_consonant': 0.002155, 'loss_word': 0.012108}\n",
      "   24 | 0.000157 | 160640/160716 | 0.4895 | 5.3430 | 14.49 ||\n",
      "val: {'recall': 0.998313, 'recall_grapheme': 0.99758, 'recall_vowel': 0.99887, 'recall_consonant': 0.999222, 'recall_word': 0.997385, 'acc_grapheme': 0.997582, 'acc_vowel': 0.998729, 'acc_consonant': 0.999202, 'acc_word': 0.997408, 'loss_grapheme': 0.012997, 'loss_vowel': 0.006227, 'loss_consonant': 0.002802, 'loss_word': 0.013524}\n",
      "   25 | 0.000151 | 160640/160716 | 6.4776 | 5.2904 | 14.44 ||\n",
      "val: {'recall': 0.997704, 'recall_grapheme': 0.996643, 'recall_vowel': 0.998487, 'recall_consonant': 0.999042, 'recall_word': 0.99635, 'acc_grapheme': 0.996635, 'acc_vowel': 0.998455, 'acc_consonant': 0.998953, 'acc_word': 0.996336, 'loss_grapheme': 0.016489, 'loss_vowel': 0.008352, 'loss_consonant': 0.004455, 'loss_word': 0.018091}\n",
      "   26 | 0.000145 | 160640/160716 | 0.4465 | 5.0682 | 14.52 ||"
     ]
    },
    {
     "name": "stderr",
     "output_type": "stream",
     "text": [
      "\r",
      "  0%|          | 0/1255 [00:00<?, ?it/s]"
     ]
    },
    {
     "name": "stdout",
     "output_type": "stream",
     "text": [
      "\n",
      "val: {'recall': 0.997827, 'recall_grapheme': 0.996792, 'recall_vowel': 0.998617, 'recall_consonant': 0.999108, 'recall_word': 0.996717, 'acc_grapheme': 0.997009, 'acc_vowel': 0.99853, 'acc_consonant': 0.999053, 'acc_word': 0.996685, 'loss_grapheme': 0.014325, 'loss_vowel': 0.007184, 'loss_consonant': 0.003566, 'loss_word': 0.015148}\n",
      "SWA>>>:\n"
     ]
    },
    {
     "name": "stderr",
     "output_type": "stream",
     "text": [
      "100%|██████████| 1255/1255 [07:13<00:00,  2.86it/s]\n"
     ]
    },
    {
     "name": "stdout",
     "output_type": "stream",
     "text": [
      "\n",
      "val: {'recall': 0.998669, 'recall_grapheme': 0.998026, 'recall_vowel': 0.998947, 'recall_consonant': 0.999678, 'recall_word': 0.997777, 'acc_grapheme': 0.997981, 'acc_vowel': 0.998854, 'acc_consonant': 0.999526, 'acc_word': 0.997757, 'loss_grapheme': 0.011045, 'loss_vowel': 0.00599, 'loss_consonant': 0.002171, 'loss_word': 0.012043}\n",
      "   27 | 0.000138 | 160640/160716 | 6.4620 | 5.1066 | 14.51 ||\n",
      "val: {'recall': 0.997921, 'recall_grapheme': 0.996925, 'recall_vowel': 0.998639, 'recall_consonant': 0.999195, 'recall_word': 0.996466, 'acc_grapheme': 0.996835, 'acc_vowel': 0.998505, 'acc_consonant': 0.999078, 'acc_word': 0.996486, 'loss_grapheme': 0.015346, 'loss_vowel': 0.007633, 'loss_consonant': 0.003778, 'loss_word': 0.016378}\n",
      "   28 | 0.000132 | 160640/160716 | 0.5793 | 5.3266 | 14.54 ||\n",
      "val: {'recall': 0.998056, 'recall_grapheme': 0.997215, 'recall_vowel': 0.9985, 'recall_consonant': 0.999292, 'recall_word': 0.996847, 'acc_grapheme': 0.997134, 'acc_vowel': 0.998629, 'acc_consonant': 0.999153, 'acc_word': 0.996835, 'loss_grapheme': 0.014654, 'loss_vowel': 0.007102, 'loss_consonant': 0.003814, 'loss_word': 0.015528}\n",
      "   29 | 0.000125 | 160640/160716 | 5.0624 | 5.2247 | 14.50 ||"
     ]
    },
    {
     "name": "stderr",
     "output_type": "stream",
     "text": [
      "\r",
      "  0%|          | 0/1255 [00:00<?, ?it/s]"
     ]
    },
    {
     "name": "stdout",
     "output_type": "stream",
     "text": [
      "\n",
      "val: {'recall': 0.997197, 'recall_grapheme': 0.99598, 'recall_vowel': 0.998239, 'recall_consonant': 0.998586, 'recall_word': 0.995552, 'acc_grapheme': 0.996237, 'acc_vowel': 0.998305, 'acc_consonant': 0.998878, 'acc_word': 0.995514, 'loss_grapheme': 0.019121, 'loss_vowel': 0.008618, 'loss_consonant': 0.004418, 'loss_word': 0.020419}\n",
      "SWA>>>:\n"
     ]
    },
    {
     "name": "stderr",
     "output_type": "stream",
     "text": [
      "100%|██████████| 1255/1255 [07:12<00:00,  2.86it/s]\n"
     ]
    },
    {
     "name": "stdout",
     "output_type": "stream",
     "text": [
      "\n",
      "val: {'recall': 0.998637, 'recall_grapheme': 0.997964, 'recall_vowel': 0.998908, 'recall_consonant': 0.999712, 'recall_word': 0.997781, 'acc_grapheme': 0.997931, 'acc_vowel': 0.998804, 'acc_consonant': 0.999551, 'acc_word': 0.997757, 'loss_grapheme': 0.011091, 'loss_vowel': 0.005975, 'loss_consonant': 0.00215, 'loss_word': 0.012016}\n",
      "   30 | 0.000118 | 160640/160716 | 7.0751 | 4.9872 | 14.52 ||\n",
      "val: {'recall': 0.997728, 'recall_grapheme': 0.996649, 'recall_vowel': 0.998314, 'recall_consonant': 0.999299, 'recall_word': 0.996537, 'acc_grapheme': 0.99666, 'acc_vowel': 0.998505, 'acc_consonant': 0.999028, 'acc_word': 0.996511, 'loss_grapheme': 0.015987, 'loss_vowel': 0.007748, 'loss_consonant': 0.004148, 'loss_word': 0.017278}\n",
      "   31 | 0.000112 | 160640/160716 | 0.2606 | 5.1547 | 14.50 ||\n",
      "val: {'recall': 0.997877, 'recall_grapheme': 0.997057, 'recall_vowel': 0.998085, 'recall_consonant': 0.999312, 'recall_word': 0.996855, 'acc_grapheme': 0.997184, 'acc_vowel': 0.998355, 'acc_consonant': 0.999103, 'acc_word': 0.996935, 'loss_grapheme': 0.0144, 'loss_vowel': 0.007542, 'loss_consonant': 0.003964, 'loss_word': 0.015528}\n",
      "   32 | 0.000105 | 160640/160716 | 12.8318 | 5.1233 | 14.51 |"
     ]
    },
    {
     "name": "stderr",
     "output_type": "stream",
     "text": [
      "\r",
      "  0%|          | 0/1255 [00:00<?, ?it/s]"
     ]
    },
    {
     "name": "stdout",
     "output_type": "stream",
     "text": [
      "\n",
      "val: {'recall': 0.997735, 'recall_grapheme': 0.996718, 'recall_vowel': 0.998295, 'recall_consonant': 0.999207, 'recall_word': 0.99659, 'acc_grapheme': 0.996785, 'acc_vowel': 0.998455, 'acc_consonant': 0.998978, 'acc_word': 0.996611, 'loss_grapheme': 0.014797, 'loss_vowel': 0.007557, 'loss_consonant': 0.003945, 'loss_word': 0.015789}\n",
      "SWA>>>:\n"
     ]
    },
    {
     "name": "stderr",
     "output_type": "stream",
     "text": [
      "100%|██████████| 1255/1255 [07:11<00:00,  2.65it/s]\n"
     ]
    },
    {
     "name": "stdout",
     "output_type": "stream",
     "text": [
      "\n",
      "val: {'recall': 0.998607, 'recall_grapheme': 0.997887, 'recall_vowel': 0.998908, 'recall_consonant': 0.999745, 'recall_word': 0.997838, 'acc_grapheme': 0.997857, 'acc_vowel': 0.998804, 'acc_consonant': 0.999576, 'acc_word': 0.997807, 'loss_grapheme': 0.011003, 'loss_vowel': 0.005988, 'loss_consonant': 0.002185, 'loss_word': 0.011948}\n",
      "   33 | 0.000099 | 160640/160716 | 4.2286 | 5.1531 | 14.51 ||\n",
      "val: {'recall': 0.99755, 'recall_grapheme': 0.99639, 'recall_vowel': 0.998298, 'recall_consonant': 0.99912, 'recall_word': 0.99605, 'acc_grapheme': 0.99671, 'acc_vowel': 0.99838, 'acc_consonant': 0.998903, 'acc_word': 0.996087, 'loss_grapheme': 0.016542, 'loss_vowel': 0.008004, 'loss_consonant': 0.00457, 'loss_word': 0.018624}\n",
      "   34 | 0.000093 | 160640/160716 | 0.2114 | 5.1639 | 14.50 ||\n",
      "val: {'recall': 0.99799, 'recall_grapheme': 0.997104, 'recall_vowel': 0.998639, 'recall_consonant': 0.999113, 'recall_word': 0.996723, 'acc_grapheme': 0.997009, 'acc_vowel': 0.998654, 'acc_consonant': 0.998978, 'acc_word': 0.996735, 'loss_grapheme': 0.014977, 'loss_vowel': 0.007067, 'loss_consonant': 0.004391, 'loss_word': 0.016009}\n",
      "   35 | 0.000086 | 160640/160716 | 7.4819 | 5.1375 | 14.53 ||"
     ]
    },
    {
     "name": "stderr",
     "output_type": "stream",
     "text": [
      "\r",
      "  0%|          | 0/1255 [00:00<?, ?it/s]"
     ]
    },
    {
     "name": "stdout",
     "output_type": "stream",
     "text": [
      "\n",
      "val: {'recall': 0.997746, 'recall_grapheme': 0.996595, 'recall_vowel': 0.998488, 'recall_consonant': 0.999307, 'recall_word': 0.996472, 'acc_grapheme': 0.99681, 'acc_vowel': 0.998455, 'acc_consonant': 0.999103, 'acc_word': 0.996486, 'loss_grapheme': 0.015331, 'loss_vowel': 0.007914, 'loss_consonant': 0.003679, 'loss_word': 0.016674}\n",
      "SWA>>>:\n"
     ]
    },
    {
     "name": "stderr",
     "output_type": "stream",
     "text": [
      "100%|██████████| 1255/1255 [07:13<00:00,  2.69it/s]\n"
     ]
    },
    {
     "name": "stdout",
     "output_type": "stream",
     "text": [
      "\n",
      "val: {'recall': 0.998601, 'recall_grapheme': 0.997905, 'recall_vowel': 0.998885, 'recall_consonant': 0.999711, 'recall_word': 0.997782, 'acc_grapheme': 0.997882, 'acc_vowel': 0.998779, 'acc_consonant': 0.999551, 'acc_word': 0.997757, 'loss_grapheme': 0.011018, 'loss_vowel': 0.005959, 'loss_consonant': 0.002179, 'loss_word': 0.011939}\n",
      "   37 | 0.000074 | 160640/160716 | 14.7694 | 4.9844 | 14.52 |\n",
      "val: {'recall': 0.997874, 'recall_grapheme': 0.996762, 'recall_vowel': 0.99869, 'recall_consonant': 0.999282, 'recall_word': 0.996696, 'acc_grapheme': 0.996885, 'acc_vowel': 0.998554, 'acc_consonant': 0.999078, 'acc_word': 0.99671, 'loss_grapheme': 0.015923, 'loss_vowel': 0.007434, 'loss_consonant': 0.003739, 'loss_word': 0.016728}\n",
      "   38 | 0.000068 | 160640/160716 | 6.6289 | 5.1155 | 14.53 ||"
     ]
    },
    {
     "name": "stderr",
     "output_type": "stream",
     "text": [
      "\r",
      "  0%|          | 0/1255 [00:00<?, ?it/s]"
     ]
    },
    {
     "name": "stdout",
     "output_type": "stream",
     "text": [
      "\n",
      "val: {'recall': 0.997745, 'recall_grapheme': 0.996513, 'recall_vowel': 0.998892, 'recall_consonant': 0.999063, 'recall_word': 0.996235, 'acc_grapheme': 0.99666, 'acc_vowel': 0.998629, 'acc_consonant': 0.999028, 'acc_word': 0.996212, 'loss_grapheme': 0.017023, 'loss_vowel': 0.008293, 'loss_consonant': 0.004125, 'loss_word': 0.018726}\n",
      "SWA>>>:\n"
     ]
    },
    {
     "name": "stderr",
     "output_type": "stream",
     "text": [
      "100%|██████████| 1255/1255 [07:13<00:00,  2.75it/s]\n"
     ]
    },
    {
     "name": "stdout",
     "output_type": "stream",
     "text": [
      "\n",
      "val: {'recall': 0.99865, 'recall_grapheme': 0.998, 'recall_vowel': 0.998884, 'recall_consonant': 0.999717, 'recall_word': 0.997781, 'acc_grapheme': 0.997931, 'acc_vowel': 0.998804, 'acc_consonant': 0.999576, 'acc_word': 0.997757, 'loss_grapheme': 0.011035, 'loss_vowel': 0.005972, 'loss_consonant': 0.002188, 'loss_word': 0.011967}\n",
      "   39 | 0.000063 | 160640/160716 | 0.3335 | 5.1259 | 14.54 ||\n",
      "val: {'recall': 0.998234, 'recall_grapheme': 0.997406, 'recall_vowel': 0.998873, 'recall_consonant': 0.999253, 'recall_word': 0.997072, 'acc_grapheme': 0.997483, 'acc_vowel': 0.998754, 'acc_consonant': 0.999202, 'acc_word': 0.997109, 'loss_grapheme': 0.012875, 'loss_vowel': 0.006456, 'loss_consonant': 0.003111, 'loss_word': 0.013731}\n",
      "   40 | 0.000057 | 160640/160716 | 5.1725 | 5.0304 | 14.51 ||\n",
      "val: {'recall': 0.997948, 'recall_grapheme': 0.996947, 'recall_vowel': 0.998668, 'recall_consonant': 0.999227, 'recall_word': 0.996481, 'acc_grapheme': 0.99686, 'acc_vowel': 0.998579, 'acc_consonant': 0.999078, 'acc_word': 0.996536, 'loss_grapheme': 0.015243, 'loss_vowel': 0.00764, 'loss_consonant': 0.003447, 'loss_word': 0.016339}\n",
      "   41 | 0.000052 | 160640/160716 | 0.1885 | 5.1148 | 14.54 ||"
     ]
    },
    {
     "name": "stderr",
     "output_type": "stream",
     "text": [
      "\r",
      "  0%|          | 0/1255 [00:00<?, ?it/s]"
     ]
    },
    {
     "name": "stdout",
     "output_type": "stream",
     "text": [
      "\n",
      "val: {'recall': 0.998068, 'recall_grapheme': 0.997123, 'recall_vowel': 0.998645, 'recall_consonant': 0.999379, 'recall_word': 0.997084, 'acc_grapheme': 0.997134, 'acc_vowel': 0.998604, 'acc_consonant': 0.999277, 'acc_word': 0.997134, 'loss_grapheme': 0.013369, 'loss_vowel': 0.007044, 'loss_consonant': 0.00299, 'loss_word': 0.014333}\n",
      "SWA>>>:\n"
     ]
    },
    {
     "name": "stderr",
     "output_type": "stream",
     "text": [
      "100%|██████████| 1255/1255 [07:13<00:00,  2.81it/s]\n"
     ]
    },
    {
     "name": "stdout",
     "output_type": "stream",
     "text": [
      "\n",
      "val: {'recall': 0.998663, 'recall_grapheme': 0.998025, 'recall_vowel': 0.998884, 'recall_consonant': 0.999717, 'recall_word': 0.997781, 'acc_grapheme': 0.997981, 'acc_vowel': 0.998804, 'acc_consonant': 0.999576, 'acc_word': 0.997757, 'loss_grapheme': 0.010994, 'loss_vowel': 0.005981, 'loss_consonant': 0.002189, 'loss_word': 0.011923}\n",
      "   42 | 0.000046 | 160640/160716 | 9.6541 | 5.0548 | 14.48 ||\n",
      "val: {'recall': 0.997971, 'recall_grapheme': 0.997023, 'recall_vowel': 0.998578, 'recall_consonant': 0.999261, 'recall_word': 0.996606, 'acc_grapheme': 0.996984, 'acc_vowel': 0.99853, 'acc_consonant': 0.999128, 'acc_word': 0.996586, 'loss_grapheme': 0.015175, 'loss_vowel': 0.00744, 'loss_consonant': 0.003526, 'loss_word': 0.016027}\n",
      "   43 | 0.000041 | 160640/160716 | 0.4952 | 5.0505 | 14.52 ||\n",
      "val: {'recall': 0.998173, 'recall_grapheme': 0.997281, 'recall_vowel': 0.998713, 'recall_consonant': 0.99942, 'recall_word': 0.997091, 'acc_grapheme': 0.997383, 'acc_vowel': 0.998654, 'acc_consonant': 0.999227, 'acc_word': 0.997159, 'loss_grapheme': 0.013447, 'loss_vowel': 0.006863, 'loss_consonant': 0.002866, 'loss_word': 0.014153}\n",
      "   44 | 0.000037 | 160640/160716 | 3.5528 | 4.8665 | 14.54 ||"
     ]
    },
    {
     "name": "stderr",
     "output_type": "stream",
     "text": [
      "\r",
      "  0%|          | 0/1255 [00:00<?, ?it/s]"
     ]
    },
    {
     "name": "stdout",
     "output_type": "stream",
     "text": [
      "\n",
      "val: {'recall': 0.998031, 'recall_grapheme': 0.996973, 'recall_vowel': 0.998634, 'recall_consonant': 0.999546, 'recall_word': 0.996625, 'acc_grapheme': 0.996935, 'acc_vowel': 0.998679, 'acc_consonant': 0.999302, 'acc_word': 0.996635, 'loss_grapheme': 0.015263, 'loss_vowel': 0.007387, 'loss_consonant': 0.003292, 'loss_word': 0.016521}\n",
      "SWA>>>:\n"
     ]
    },
    {
     "name": "stderr",
     "output_type": "stream",
     "text": [
      "100%|██████████| 1255/1255 [07:12<00:00,  2.86it/s]\n"
     ]
    },
    {
     "name": "stdout",
     "output_type": "stream",
     "text": [
      "\n",
      "val: {'recall': 0.998644, 'recall_grapheme': 0.997961, 'recall_vowel': 0.998903, 'recall_consonant': 0.999751, 'recall_word': 0.997802, 'acc_grapheme': 0.997956, 'acc_vowel': 0.998804, 'acc_consonant': 0.999601, 'acc_word': 0.997782, 'loss_grapheme': 0.011001, 'loss_vowel': 0.005979, 'loss_consonant': 0.002175, 'loss_word': 0.01192}\n",
      "   45 | 0.000034 | 108544/160716 | 3.6602 | 5.2251 | 9.82 ||"
     ]
    },
    {
     "ename": "KeyboardInterrupt",
     "evalue": "",
     "output_type": "error",
     "traceback": [
      "\u001b[0;31m---------------------------------------------------------------------------\u001b[0m",
      "\u001b[0;31mKeyboardInterrupt\u001b[0m                         Traceback (most recent call last)",
      "\u001b[0;32m<ipython-input-73-aad596905035>\u001b[0m in \u001b[0;36m<module>\u001b[0;34m\u001b[0m\n\u001b[0;32m----> 1\u001b[0;31m \u001b[0mtrain\u001b[0m\u001b[0;34m(\u001b[0m\u001b[0margs\u001b[0m\u001b[0;34m)\u001b[0m\u001b[0;34m\u001b[0m\u001b[0;34m\u001b[0m\u001b[0m\n\u001b[0m",
      "\u001b[0;32m<ipython-input-68-957ddf49a6a9>\u001b[0m in \u001b[0;36mtrain\u001b[0;34m(args)\u001b[0m\n\u001b[1;32m     63\u001b[0m         \u001b[0;32mfor\u001b[0m \u001b[0mepoch\u001b[0m \u001b[0;32min\u001b[0m \u001b[0mrange\u001b[0m\u001b[0;34m(\u001b[0m\u001b[0margs\u001b[0m\u001b[0;34m.\u001b[0m\u001b[0mstart_epoch\u001b[0m\u001b[0;34m,\u001b[0m \u001b[0margs\u001b[0m\u001b[0;34m.\u001b[0m\u001b[0mnum_epochs\u001b[0m\u001b[0;34m)\u001b[0m\u001b[0;34m:\u001b[0m\u001b[0;34m\u001b[0m\u001b[0;34m\u001b[0m\u001b[0m\n\u001b[1;32m     64\u001b[0m             \u001b[0mgrid\u001b[0m\u001b[0;34m.\u001b[0m\u001b[0mset_prob\u001b[0m\u001b[0;34m(\u001b[0m\u001b[0mepoch\u001b[0m\u001b[0;34m,\u001b[0m \u001b[0margs\u001b[0m\u001b[0;34m.\u001b[0m\u001b[0mst_epochs\u001b[0m\u001b[0;34m)\u001b[0m\u001b[0;34m\u001b[0m\u001b[0;34m\u001b[0m\u001b[0m\n\u001b[0;32m---> 65\u001b[0;31m             \u001b[0mtrain_epoch\u001b[0m\u001b[0;34m(\u001b[0m\u001b[0margs\u001b[0m\u001b[0;34m,\u001b[0m \u001b[0mmodel\u001b[0m\u001b[0;34m,\u001b[0m \u001b[0mtrain_loader\u001b[0m\u001b[0;34m,\u001b[0m \u001b[0mepoch\u001b[0m\u001b[0;34m,\u001b[0m \u001b[0moptimizer\u001b[0m\u001b[0;34m,\u001b[0m \u001b[0mlr_scheduler\u001b[0m\u001b[0;34m,\u001b[0m \u001b[0mgrid\u001b[0m\u001b[0;34m)\u001b[0m\u001b[0;34m\u001b[0m\u001b[0;34m\u001b[0m\u001b[0m\n\u001b[0m\u001b[1;32m     66\u001b[0m             \u001b[0mvalidate_and_save\u001b[0m\u001b[0;34m(\u001b[0m\u001b[0mmodel\u001b[0m\u001b[0;34m,\u001b[0m \u001b[0mmodel_file\u001b[0m\u001b[0;34m,\u001b[0m \u001b[0mval_loader\u001b[0m\u001b[0;34m,\u001b[0m \u001b[0msave\u001b[0m\u001b[0;34m=\u001b[0m\u001b[0;32mTrue\u001b[0m\u001b[0;34m)\u001b[0m\u001b[0;34m\u001b[0m\u001b[0;34m\u001b[0m\u001b[0m\n\u001b[1;32m     67\u001b[0m \u001b[0;34m\u001b[0m\u001b[0m\n",
      "\u001b[0;32m<ipython-input-67-16e5a4d95497>\u001b[0m in \u001b[0;36mtrain_epoch\u001b[0;34m(args, model, train_loader, epoch, optimizer, lr_scheduler, grid)\u001b[0m\n\u001b[1;32m     36\u001b[0m         \u001b[0;32melse\u001b[0m\u001b[0;34m:\u001b[0m\u001b[0;34m\u001b[0m\u001b[0;34m\u001b[0m\u001b[0m\n\u001b[1;32m     37\u001b[0m             \u001b[0morig_img\u001b[0m\u001b[0;34m,\u001b[0m \u001b[0mtargets\u001b[0m \u001b[0;34m=\u001b[0m \u001b[0mmixup\u001b[0m\u001b[0;34m(\u001b[0m\u001b[0morig_img\u001b[0m\u001b[0;34m,\u001b[0m \u001b[0mtargets\u001b[0m\u001b[0;34m)\u001b[0m\u001b[0;34m\u001b[0m\u001b[0;34m\u001b[0m\u001b[0m\n\u001b[0;32m---> 38\u001b[0;31m             \u001b[0moutputs\u001b[0m\u001b[0;34m,\u001b[0m \u001b[0moutputs_aux1\u001b[0m\u001b[0;34m,\u001b[0m \u001b[0moutputs_aux2\u001b[0m \u001b[0;34m=\u001b[0m \u001b[0mmodel\u001b[0m\u001b[0;34m(\u001b[0m\u001b[0morig_img\u001b[0m\u001b[0;34m)\u001b[0m\u001b[0;34m\u001b[0m\u001b[0;34m\u001b[0m\u001b[0m\n\u001b[0m\u001b[1;32m     39\u001b[0m             \u001b[0mloss_primary\u001b[0m \u001b[0;34m=\u001b[0m \u001b[0mmixup_criterion\u001b[0m\u001b[0;34m(\u001b[0m\u001b[0moutputs\u001b[0m\u001b[0;34m,\u001b[0m \u001b[0mtargets\u001b[0m\u001b[0;34m)\u001b[0m\u001b[0;34m\u001b[0m\u001b[0;34m\u001b[0m\u001b[0m\n\u001b[1;32m     40\u001b[0m             \u001b[0mloss_aux1\u001b[0m \u001b[0;34m=\u001b[0m \u001b[0mmixup_criterion\u001b[0m\u001b[0;34m(\u001b[0m\u001b[0moutputs_aux1\u001b[0m\u001b[0;34m,\u001b[0m \u001b[0mtargets\u001b[0m\u001b[0;34m)\u001b[0m\u001b[0;34m\u001b[0m\u001b[0;34m\u001b[0m\u001b[0m\n",
      "\u001b[0;32m~/anaconda3/lib/python3.7/site-packages/torch/nn/modules/module.py\u001b[0m in \u001b[0;36m__call__\u001b[0;34m(self, *input, **kwargs)\u001b[0m\n\u001b[1;32m    545\u001b[0m             \u001b[0mresult\u001b[0m \u001b[0;34m=\u001b[0m \u001b[0mself\u001b[0m\u001b[0;34m.\u001b[0m\u001b[0m_slow_forward\u001b[0m\u001b[0;34m(\u001b[0m\u001b[0;34m*\u001b[0m\u001b[0minput\u001b[0m\u001b[0;34m,\u001b[0m \u001b[0;34m**\u001b[0m\u001b[0mkwargs\u001b[0m\u001b[0;34m)\u001b[0m\u001b[0;34m\u001b[0m\u001b[0;34m\u001b[0m\u001b[0m\n\u001b[1;32m    546\u001b[0m         \u001b[0;32melse\u001b[0m\u001b[0;34m:\u001b[0m\u001b[0;34m\u001b[0m\u001b[0;34m\u001b[0m\u001b[0m\n\u001b[0;32m--> 547\u001b[0;31m             \u001b[0mresult\u001b[0m \u001b[0;34m=\u001b[0m \u001b[0mself\u001b[0m\u001b[0;34m.\u001b[0m\u001b[0mforward\u001b[0m\u001b[0;34m(\u001b[0m\u001b[0;34m*\u001b[0m\u001b[0minput\u001b[0m\u001b[0;34m,\u001b[0m \u001b[0;34m**\u001b[0m\u001b[0mkwargs\u001b[0m\u001b[0;34m)\u001b[0m\u001b[0;34m\u001b[0m\u001b[0;34m\u001b[0m\u001b[0m\n\u001b[0m\u001b[1;32m    548\u001b[0m         \u001b[0;32mfor\u001b[0m \u001b[0mhook\u001b[0m \u001b[0;32min\u001b[0m \u001b[0mself\u001b[0m\u001b[0;34m.\u001b[0m\u001b[0m_forward_hooks\u001b[0m\u001b[0;34m.\u001b[0m\u001b[0mvalues\u001b[0m\u001b[0;34m(\u001b[0m\u001b[0;34m)\u001b[0m\u001b[0;34m:\u001b[0m\u001b[0;34m\u001b[0m\u001b[0;34m\u001b[0m\u001b[0m\n\u001b[1;32m    549\u001b[0m             \u001b[0mhook_result\u001b[0m \u001b[0;34m=\u001b[0m \u001b[0mhook\u001b[0m\u001b[0;34m(\u001b[0m\u001b[0mself\u001b[0m\u001b[0;34m,\u001b[0m \u001b[0minput\u001b[0m\u001b[0;34m,\u001b[0m \u001b[0mresult\u001b[0m\u001b[0;34m)\u001b[0m\u001b[0;34m\u001b[0m\u001b[0;34m\u001b[0m\u001b[0m\n",
      "\u001b[0;32m~/anaconda3/lib/python3.7/site-packages/torch/nn/parallel/data_parallel.py\u001b[0m in \u001b[0;36mforward\u001b[0;34m(self, *inputs, **kwargs)\u001b[0m\n\u001b[1;32m    150\u001b[0m             \u001b[0;32mreturn\u001b[0m \u001b[0mself\u001b[0m\u001b[0;34m.\u001b[0m\u001b[0mmodule\u001b[0m\u001b[0;34m(\u001b[0m\u001b[0;34m*\u001b[0m\u001b[0minputs\u001b[0m\u001b[0;34m[\u001b[0m\u001b[0;36m0\u001b[0m\u001b[0;34m]\u001b[0m\u001b[0;34m,\u001b[0m \u001b[0;34m**\u001b[0m\u001b[0mkwargs\u001b[0m\u001b[0;34m[\u001b[0m\u001b[0;36m0\u001b[0m\u001b[0;34m]\u001b[0m\u001b[0;34m)\u001b[0m\u001b[0;34m\u001b[0m\u001b[0;34m\u001b[0m\u001b[0m\n\u001b[1;32m    151\u001b[0m         \u001b[0mreplicas\u001b[0m \u001b[0;34m=\u001b[0m \u001b[0mself\u001b[0m\u001b[0;34m.\u001b[0m\u001b[0mreplicate\u001b[0m\u001b[0;34m(\u001b[0m\u001b[0mself\u001b[0m\u001b[0;34m.\u001b[0m\u001b[0mmodule\u001b[0m\u001b[0;34m,\u001b[0m \u001b[0mself\u001b[0m\u001b[0;34m.\u001b[0m\u001b[0mdevice_ids\u001b[0m\u001b[0;34m[\u001b[0m\u001b[0;34m:\u001b[0m\u001b[0mlen\u001b[0m\u001b[0;34m(\u001b[0m\u001b[0minputs\u001b[0m\u001b[0;34m)\u001b[0m\u001b[0;34m]\u001b[0m\u001b[0;34m)\u001b[0m\u001b[0;34m\u001b[0m\u001b[0;34m\u001b[0m\u001b[0m\n\u001b[0;32m--> 152\u001b[0;31m         \u001b[0moutputs\u001b[0m \u001b[0;34m=\u001b[0m \u001b[0mself\u001b[0m\u001b[0;34m.\u001b[0m\u001b[0mparallel_apply\u001b[0m\u001b[0;34m(\u001b[0m\u001b[0mreplicas\u001b[0m\u001b[0;34m,\u001b[0m \u001b[0minputs\u001b[0m\u001b[0;34m,\u001b[0m \u001b[0mkwargs\u001b[0m\u001b[0;34m)\u001b[0m\u001b[0;34m\u001b[0m\u001b[0;34m\u001b[0m\u001b[0m\n\u001b[0m\u001b[1;32m    153\u001b[0m         \u001b[0;32mreturn\u001b[0m \u001b[0mself\u001b[0m\u001b[0;34m.\u001b[0m\u001b[0mgather\u001b[0m\u001b[0;34m(\u001b[0m\u001b[0moutputs\u001b[0m\u001b[0;34m,\u001b[0m \u001b[0mself\u001b[0m\u001b[0;34m.\u001b[0m\u001b[0moutput_device\u001b[0m\u001b[0;34m)\u001b[0m\u001b[0;34m\u001b[0m\u001b[0;34m\u001b[0m\u001b[0m\n\u001b[1;32m    154\u001b[0m \u001b[0;34m\u001b[0m\u001b[0m\n",
      "\u001b[0;32m~/anaconda3/lib/python3.7/site-packages/torch/nn/parallel/data_parallel.py\u001b[0m in \u001b[0;36mparallel_apply\u001b[0;34m(self, replicas, inputs, kwargs)\u001b[0m\n\u001b[1;32m    160\u001b[0m \u001b[0;34m\u001b[0m\u001b[0m\n\u001b[1;32m    161\u001b[0m     \u001b[0;32mdef\u001b[0m \u001b[0mparallel_apply\u001b[0m\u001b[0;34m(\u001b[0m\u001b[0mself\u001b[0m\u001b[0;34m,\u001b[0m \u001b[0mreplicas\u001b[0m\u001b[0;34m,\u001b[0m \u001b[0minputs\u001b[0m\u001b[0;34m,\u001b[0m \u001b[0mkwargs\u001b[0m\u001b[0;34m)\u001b[0m\u001b[0;34m:\u001b[0m\u001b[0;34m\u001b[0m\u001b[0;34m\u001b[0m\u001b[0m\n\u001b[0;32m--> 162\u001b[0;31m         \u001b[0;32mreturn\u001b[0m \u001b[0mparallel_apply\u001b[0m\u001b[0;34m(\u001b[0m\u001b[0mreplicas\u001b[0m\u001b[0;34m,\u001b[0m \u001b[0minputs\u001b[0m\u001b[0;34m,\u001b[0m \u001b[0mkwargs\u001b[0m\u001b[0;34m,\u001b[0m \u001b[0mself\u001b[0m\u001b[0;34m.\u001b[0m\u001b[0mdevice_ids\u001b[0m\u001b[0;34m[\u001b[0m\u001b[0;34m:\u001b[0m\u001b[0mlen\u001b[0m\u001b[0;34m(\u001b[0m\u001b[0mreplicas\u001b[0m\u001b[0;34m)\u001b[0m\u001b[0;34m]\u001b[0m\u001b[0;34m)\u001b[0m\u001b[0;34m\u001b[0m\u001b[0;34m\u001b[0m\u001b[0m\n\u001b[0m\u001b[1;32m    163\u001b[0m \u001b[0;34m\u001b[0m\u001b[0m\n\u001b[1;32m    164\u001b[0m     \u001b[0;32mdef\u001b[0m \u001b[0mgather\u001b[0m\u001b[0;34m(\u001b[0m\u001b[0mself\u001b[0m\u001b[0;34m,\u001b[0m \u001b[0moutputs\u001b[0m\u001b[0;34m,\u001b[0m \u001b[0moutput_device\u001b[0m\u001b[0;34m)\u001b[0m\u001b[0;34m:\u001b[0m\u001b[0;34m\u001b[0m\u001b[0;34m\u001b[0m\u001b[0m\n",
      "\u001b[0;32m~/anaconda3/lib/python3.7/site-packages/torch/nn/parallel/parallel_apply.py\u001b[0m in \u001b[0;36mparallel_apply\u001b[0;34m(modules, inputs, kwargs_tup, devices)\u001b[0m\n\u001b[1;32m     75\u001b[0m             \u001b[0mthread\u001b[0m\u001b[0;34m.\u001b[0m\u001b[0mstart\u001b[0m\u001b[0;34m(\u001b[0m\u001b[0;34m)\u001b[0m\u001b[0;34m\u001b[0m\u001b[0;34m\u001b[0m\u001b[0m\n\u001b[1;32m     76\u001b[0m         \u001b[0;32mfor\u001b[0m \u001b[0mthread\u001b[0m \u001b[0;32min\u001b[0m \u001b[0mthreads\u001b[0m\u001b[0;34m:\u001b[0m\u001b[0;34m\u001b[0m\u001b[0;34m\u001b[0m\u001b[0m\n\u001b[0;32m---> 77\u001b[0;31m             \u001b[0mthread\u001b[0m\u001b[0;34m.\u001b[0m\u001b[0mjoin\u001b[0m\u001b[0;34m(\u001b[0m\u001b[0;34m)\u001b[0m\u001b[0;34m\u001b[0m\u001b[0;34m\u001b[0m\u001b[0m\n\u001b[0m\u001b[1;32m     78\u001b[0m     \u001b[0;32melse\u001b[0m\u001b[0;34m:\u001b[0m\u001b[0;34m\u001b[0m\u001b[0;34m\u001b[0m\u001b[0m\n\u001b[1;32m     79\u001b[0m         \u001b[0m_worker\u001b[0m\u001b[0;34m(\u001b[0m\u001b[0;36m0\u001b[0m\u001b[0;34m,\u001b[0m \u001b[0mmodules\u001b[0m\u001b[0;34m[\u001b[0m\u001b[0;36m0\u001b[0m\u001b[0;34m]\u001b[0m\u001b[0;34m,\u001b[0m \u001b[0minputs\u001b[0m\u001b[0;34m[\u001b[0m\u001b[0;36m0\u001b[0m\u001b[0;34m]\u001b[0m\u001b[0;34m,\u001b[0m \u001b[0mkwargs_tup\u001b[0m\u001b[0;34m[\u001b[0m\u001b[0;36m0\u001b[0m\u001b[0;34m]\u001b[0m\u001b[0;34m,\u001b[0m \u001b[0mdevices\u001b[0m\u001b[0;34m[\u001b[0m\u001b[0;36m0\u001b[0m\u001b[0;34m]\u001b[0m\u001b[0;34m)\u001b[0m\u001b[0;34m\u001b[0m\u001b[0;34m\u001b[0m\u001b[0m\n",
      "\u001b[0;32m~/anaconda3/lib/python3.7/threading.py\u001b[0m in \u001b[0;36mjoin\u001b[0;34m(self, timeout)\u001b[0m\n\u001b[1;32m   1030\u001b[0m \u001b[0;34m\u001b[0m\u001b[0m\n\u001b[1;32m   1031\u001b[0m         \u001b[0;32mif\u001b[0m \u001b[0mtimeout\u001b[0m \u001b[0;32mis\u001b[0m \u001b[0;32mNone\u001b[0m\u001b[0;34m:\u001b[0m\u001b[0;34m\u001b[0m\u001b[0;34m\u001b[0m\u001b[0m\n\u001b[0;32m-> 1032\u001b[0;31m             \u001b[0mself\u001b[0m\u001b[0;34m.\u001b[0m\u001b[0m_wait_for_tstate_lock\u001b[0m\u001b[0;34m(\u001b[0m\u001b[0;34m)\u001b[0m\u001b[0;34m\u001b[0m\u001b[0;34m\u001b[0m\u001b[0m\n\u001b[0m\u001b[1;32m   1033\u001b[0m         \u001b[0;32melse\u001b[0m\u001b[0;34m:\u001b[0m\u001b[0;34m\u001b[0m\u001b[0;34m\u001b[0m\u001b[0m\n\u001b[1;32m   1034\u001b[0m             \u001b[0;31m# the behavior of a negative timeout isn't documented, but\u001b[0m\u001b[0;34m\u001b[0m\u001b[0;34m\u001b[0m\u001b[0;34m\u001b[0m\u001b[0m\n",
      "\u001b[0;32m~/anaconda3/lib/python3.7/threading.py\u001b[0m in \u001b[0;36m_wait_for_tstate_lock\u001b[0;34m(self, block, timeout)\u001b[0m\n\u001b[1;32m   1046\u001b[0m         \u001b[0;32mif\u001b[0m \u001b[0mlock\u001b[0m \u001b[0;32mis\u001b[0m \u001b[0;32mNone\u001b[0m\u001b[0;34m:\u001b[0m  \u001b[0;31m# already determined that the C code is done\u001b[0m\u001b[0;34m\u001b[0m\u001b[0;34m\u001b[0m\u001b[0m\n\u001b[1;32m   1047\u001b[0m             \u001b[0;32massert\u001b[0m \u001b[0mself\u001b[0m\u001b[0;34m.\u001b[0m\u001b[0m_is_stopped\u001b[0m\u001b[0;34m\u001b[0m\u001b[0;34m\u001b[0m\u001b[0m\n\u001b[0;32m-> 1048\u001b[0;31m         \u001b[0;32melif\u001b[0m \u001b[0mlock\u001b[0m\u001b[0;34m.\u001b[0m\u001b[0macquire\u001b[0m\u001b[0;34m(\u001b[0m\u001b[0mblock\u001b[0m\u001b[0;34m,\u001b[0m \u001b[0mtimeout\u001b[0m\u001b[0;34m)\u001b[0m\u001b[0;34m:\u001b[0m\u001b[0;34m\u001b[0m\u001b[0;34m\u001b[0m\u001b[0m\n\u001b[0m\u001b[1;32m   1049\u001b[0m             \u001b[0mlock\u001b[0m\u001b[0;34m.\u001b[0m\u001b[0mrelease\u001b[0m\u001b[0;34m(\u001b[0m\u001b[0;34m)\u001b[0m\u001b[0;34m\u001b[0m\u001b[0;34m\u001b[0m\u001b[0m\n\u001b[1;32m   1050\u001b[0m             \u001b[0mself\u001b[0m\u001b[0;34m.\u001b[0m\u001b[0m_stop\u001b[0m\u001b[0;34m(\u001b[0m\u001b[0;34m)\u001b[0m\u001b[0;34m\u001b[0m\u001b[0;34m\u001b[0m\u001b[0m\n",
      "\u001b[0;31mKeyboardInterrupt\u001b[0m: "
     ]
    }
   ],
   "source": [
    "train(args)"
   ]
  },
  {
   "cell_type": "code",
   "execution_count": null,
   "metadata": {},
   "outputs": [],
   "source": []
  },
  {
   "cell_type": "code",
   "execution_count": 37,
   "metadata": {},
   "outputs": [
    {
     "name": "stdout",
     "output_type": "stream",
     "text": [
      "model file: ./model4-ckps/tf_efficientnet_b4/model4_eb4_fold3_380.pth, exist: True\n",
      "loading ./model4-ckps/tf_efficientnet_b4/model4_eb4_fold3_380.pth...\n",
      "model file: ./model4-ckps/tf_efficientnet_b4/model4_eb4_fold3_380.pth_swa, exist: True\n",
      "loading ./model4-ckps/tf_efficientnet_b4/model4_eb4_fold3_380.pth_swa...\n",
      "\n",
      "val: {'recall': 0.998467, 'recall_grapheme': 0.99772, 'recall_vowel': 0.998871, 'recall_consonant': 0.999558, 'recall_word': 0.99743, 'acc_grapheme': 0.997582, 'acc_vowel': 0.998704, 'acc_consonant': 0.999477, 'acc_word': 0.997458, 'loss_grapheme': 0.012791, 'loss_vowel': 0.006768, 'loss_consonant': 0.002529, 'loss_word': 0.01347}\n",
      "\n",
      "val: {'recall': 0.998648, 'recall_grapheme': 0.998048, 'recall_vowel': 0.998873, 'recall_consonant': 0.999623, 'recall_word': 0.997515, 'acc_grapheme': 0.997931, 'acc_vowel': 0.998704, 'acc_consonant': 0.999402, 'acc_word': 0.997483, 'loss_grapheme': 0.011498, 'loss_vowel': 0.00635, 'loss_consonant': 0.002381, 'loss_word': 0.012641}\n",
      "CYCLE: 1\n",
      "   14 | 0.000238 | 160640/160716 | 0.0653 | 5.4413 | 14.45 ||"
     ]
    },
    {
     "name": "stderr",
     "output_type": "stream",
     "text": [
      "\r",
      "  0%|          | 0/1255 [00:00<?, ?it/s]"
     ]
    },
    {
     "name": "stdout",
     "output_type": "stream",
     "text": [
      "\n",
      "val: {'recall': 0.997934, 'recall_grapheme': 0.997128, 'recall_vowel': 0.998158, 'recall_consonant': 0.999324, 'recall_word': 0.996713, 'acc_grapheme': 0.99686, 'acc_vowel': 0.99843, 'acc_consonant': 0.999028, 'acc_word': 0.99671, 'loss_grapheme': 0.014749, 'loss_vowel': 0.007822, 'loss_consonant': 0.003959, 'loss_word': 0.015996}\n",
      "SWA>>>:\n"
     ]
    },
    {
     "name": "stderr",
     "output_type": "stream",
     "text": [
      "100%|██████████| 1255/1255 [07:12<00:00,  2.93it/s]\n"
     ]
    },
    {
     "name": "stdout",
     "output_type": "stream",
     "text": [
      "\n",
      "val: {'recall': 0.998589, 'recall_grapheme': 0.997942, 'recall_vowel': 0.998871, 'recall_consonant': 0.999601, 'recall_word': 0.997536, 'acc_grapheme': 0.997832, 'acc_vowel': 0.998704, 'acc_consonant': 0.999427, 'acc_word': 0.997508, 'loss_grapheme': 0.011495, 'loss_vowel': 0.006407, 'loss_consonant': 0.002351, 'loss_word': 0.012667}\n",
      "   16 | 0.000222 | 160640/160716 | 5.9235 | 5.1297 | 14.50 ||\n",
      "val: {'recall': 0.997779, 'recall_grapheme': 0.996753, 'recall_vowel': 0.998259, 'recall_consonant': 0.999351, 'recall_word': 0.996096, 'acc_grapheme': 0.996785, 'acc_vowel': 0.998355, 'acc_consonant': 0.999128, 'acc_word': 0.996137, 'loss_grapheme': 0.016279, 'loss_vowel': 0.008563, 'loss_consonant': 0.004194, 'loss_word': 0.017798}\n",
      "   17 | 0.000214 | 160640/160716 | 5.4592 | 5.3904 | 14.49 ||"
     ]
    },
    {
     "name": "stderr",
     "output_type": "stream",
     "text": [
      "\r",
      "  0%|          | 0/1255 [00:00<?, ?it/s]"
     ]
    },
    {
     "name": "stdout",
     "output_type": "stream",
     "text": [
      "\n",
      "val: {'recall': 0.997841, 'recall_grapheme': 0.996981, 'recall_vowel': 0.998284, 'recall_consonant': 0.999117, 'recall_word': 0.996532, 'acc_grapheme': 0.996835, 'acc_vowel': 0.99828, 'acc_consonant': 0.999103, 'acc_word': 0.996611, 'loss_grapheme': 0.015392, 'loss_vowel': 0.008287, 'loss_consonant': 0.003979, 'loss_word': 0.016326}\n",
      "SWA>>>:\n"
     ]
    },
    {
     "name": "stderr",
     "output_type": "stream",
     "text": [
      "100%|██████████| 1255/1255 [07:10<00:00,  2.89it/s]\n"
     ]
    },
    {
     "name": "stdout",
     "output_type": "stream",
     "text": [
      "\n",
      "val: {'recall': 0.998594, 'recall_grapheme': 0.997931, 'recall_vowel': 0.998906, 'recall_consonant': 0.999607, 'recall_word': 0.997449, 'acc_grapheme': 0.997857, 'acc_vowel': 0.998754, 'acc_consonant': 0.999452, 'acc_word': 0.997433, 'loss_grapheme': 0.011374, 'loss_vowel': 0.006303, 'loss_consonant': 0.002279, 'loss_word': 0.012532}\n",
      "   18 | 0.000205 | 160640/160716 | 10.3424 | 5.1799 | 14.54 |\n",
      "val: {'recall': 0.99775, 'recall_grapheme': 0.996814, 'recall_vowel': 0.998338, 'recall_consonant': 0.999034, 'recall_word': 0.996463, 'acc_grapheme': 0.996511, 'acc_vowel': 0.99833, 'acc_consonant': 0.998903, 'acc_word': 0.996511, 'loss_grapheme': 0.016413, 'loss_vowel': 0.008755, 'loss_consonant': 0.004326, 'loss_word': 0.017831}\n",
      "   19 | 0.000196 | 160640/160716 | 1.5417 | 5.3063 | 14.54 ||\n",
      "val: {'recall': 0.997805, 'recall_grapheme': 0.996718, 'recall_vowel': 0.998455, 'recall_consonant': 0.999332, 'recall_word': 0.996169, 'acc_grapheme': 0.99671, 'acc_vowel': 0.998455, 'acc_consonant': 0.998978, 'acc_word': 0.996212, 'loss_grapheme': 0.0159, 'loss_vowel': 0.007676, 'loss_consonant': 0.004038, 'loss_word': 0.016665}\n",
      "   20 | 0.000190 | 112640/160716 | 5.9258 | 5.5101 | 10.19 ||"
     ]
    },
    {
     "name": "stderr",
     "output_type": "stream",
     "text": [
      "IOPub message rate exceeded.\n",
      "The notebook server will temporarily stop sending output\n",
      "to the client in order to avoid crashing it.\n",
      "To change this limit, set the config variable\n",
      "`--NotebookApp.iopub_msg_rate_limit`.\n",
      "\n",
      "Current values:\n",
      "NotebookApp.iopub_msg_rate_limit=1000.0 (msgs/sec)\n",
      "NotebookApp.rate_limit_window=3.0 (secs)\n",
      "\n",
      "100%|██████████| 1255/1255 [07:12<00:00,  2.91it/s]\n"
     ]
    },
    {
     "name": "stdout",
     "output_type": "stream",
     "text": [
      "\n",
      "val: {'recall': 0.998603, 'recall_grapheme': 0.997946, 'recall_vowel': 0.998913, 'recall_consonant': 0.999607, 'recall_word': 0.997618, 'acc_grapheme': 0.997906, 'acc_vowel': 0.998779, 'acc_consonant': 0.999452, 'acc_word': 0.997582, 'loss_grapheme': 0.011231, 'loss_vowel': 0.006189, 'loss_consonant': 0.00226, 'loss_word': 0.012382}\n",
      "   21 | 0.000178 | 160640/160716 | 8.1772 | 5.2105 | 14.58 ||\n",
      "val: {'recall': 0.997631, 'recall_grapheme': 0.996458, 'recall_vowel': 0.99835, 'recall_consonant': 0.999259, 'recall_word': 0.995943, 'acc_grapheme': 0.996586, 'acc_vowel': 0.99833, 'acc_consonant': 0.998903, 'acc_word': 0.995987, 'loss_grapheme': 0.016753, 'loss_vowel': 0.00862, 'loss_consonant': 0.004507, 'loss_word': 0.01891}\n",
      "   22 | 0.000169 | 160640/160716 | 0.1809 | 5.3621 | 14.56 ||\n",
      "val: {'recall': 0.997651, 'recall_grapheme': 0.996472, 'recall_vowel': 0.998477, 'recall_consonant': 0.999185, 'recall_word': 0.996148, 'acc_grapheme': 0.996361, 'acc_vowel': 0.998405, 'acc_consonant': 0.999028, 'acc_word': 0.996162, 'loss_grapheme': 0.016495, 'loss_vowel': 0.008481, 'loss_consonant': 0.004499, 'loss_word': 0.017526}\n",
      "   23 | 0.000159 | 160640/160716 | 0.1178 | 5.3681 | 14.55 ||"
     ]
    },
    {
     "name": "stderr",
     "output_type": "stream",
     "text": [
      "\r",
      "  0%|          | 0/1255 [00:00<?, ?it/s]"
     ]
    },
    {
     "name": "stdout",
     "output_type": "stream",
     "text": [
      "\n",
      "val: {'recall': 0.997909, 'recall_grapheme': 0.996883, 'recall_vowel': 0.998679, 'recall_consonant': 0.99919, 'recall_word': 0.996454, 'acc_grapheme': 0.996835, 'acc_vowel': 0.998604, 'acc_consonant': 0.999003, 'acc_word': 0.996486, 'loss_grapheme': 0.015161, 'loss_vowel': 0.006839, 'loss_consonant': 0.004194, 'loss_word': 0.015728}\n",
      "SWA>>>:\n"
     ]
    },
    {
     "name": "stderr",
     "output_type": "stream",
     "text": [
      "100%|██████████| 1255/1255 [07:18<00:00,  2.75it/s]\n"
     ]
    },
    {
     "name": "stdout",
     "output_type": "stream",
     "text": [
      "\n",
      "val: {'recall': 0.998671, 'recall_grapheme': 0.998067, 'recall_vowel': 0.998935, 'recall_consonant': 0.999613, 'recall_word': 0.997673, 'acc_grapheme': 0.997981, 'acc_vowel': 0.998829, 'acc_consonant': 0.999477, 'acc_word': 0.997632, 'loss_grapheme': 0.011121, 'loss_vowel': 0.006063, 'loss_consonant': 0.002289, 'loss_word': 0.012252}\n",
      "###>>>>> saved ./model4-ckps/tf_efficientnet_b4/model4_eb4_fold3_380.pth_swa\n",
      "   24 | 0.000150 | 160640/160716 | 10.0296 | 5.5424 | 14.56 |\n",
      "val: {'recall': 0.997565, 'recall_grapheme': 0.996235, 'recall_vowel': 0.998493, 'recall_consonant': 0.999299, 'recall_word': 0.995786, 'acc_grapheme': 0.996187, 'acc_vowel': 0.998305, 'acc_consonant': 0.999028, 'acc_word': 0.995788, 'loss_grapheme': 0.018083, 'loss_vowel': 0.008531, 'loss_consonant': 0.004728, 'loss_word': 0.019326}\n",
      "   25 | 0.000141 | 160640/160716 | 5.8276 | 5.3461 | 14.60 ||\n",
      "val: {'recall': 0.997903, 'recall_grapheme': 0.996834, 'recall_vowel': 0.998681, 'recall_consonant': 0.999262, 'recall_word': 0.996311, 'acc_grapheme': 0.996785, 'acc_vowel': 0.998505, 'acc_consonant': 0.999003, 'acc_word': 0.996311, 'loss_grapheme': 0.015906, 'loss_vowel': 0.007065, 'loss_consonant': 0.004423, 'loss_word': 0.016755}\n",
      "   26 | 0.000131 | 160640/160716 | 0.2180 | 5.1356 | 14.59 ||"
     ]
    },
    {
     "name": "stderr",
     "output_type": "stream",
     "text": [
      "\r",
      "  0%|          | 0/1255 [00:00<?, ?it/s]"
     ]
    },
    {
     "name": "stdout",
     "output_type": "stream",
     "text": [
      "\n",
      "val: {'recall': 0.997982, 'recall_grapheme': 0.997164, 'recall_vowel': 0.998331, 'recall_consonant': 0.999268, 'recall_word': 0.996433, 'acc_grapheme': 0.996984, 'acc_vowel': 0.99838, 'acc_consonant': 0.999053, 'acc_word': 0.996436, 'loss_grapheme': 0.015066, 'loss_vowel': 0.008072, 'loss_consonant': 0.004001, 'loss_word': 0.016695}\n",
      "SWA>>>:\n"
     ]
    },
    {
     "name": "stderr",
     "output_type": "stream",
     "text": [
      "100%|██████████| 1255/1255 [07:13<00:00,  2.82it/s]\n"
     ]
    },
    {
     "name": "stdout",
     "output_type": "stream",
     "text": [
      "\n",
      "val: {'recall': 0.998645, 'recall_grapheme': 0.998016, 'recall_vowel': 0.998935, 'recall_consonant': 0.999613, 'recall_word': 0.99763, 'acc_grapheme': 0.997956, 'acc_vowel': 0.998829, 'acc_consonant': 0.999477, 'acc_word': 0.997607, 'loss_grapheme': 0.011158, 'loss_vowel': 0.006084, 'loss_consonant': 0.002287, 'loss_word': 0.012287}\n",
      "   27 | 0.000122 | 160640/160716 | 6.4880 | 5.0670 | 14.61 ||\n",
      "val: {'recall': 0.998084, 'recall_grapheme': 0.997065, 'recall_vowel': 0.998993, 'recall_consonant': 0.999213, 'recall_word': 0.996894, 'acc_grapheme': 0.996984, 'acc_vowel': 0.998679, 'acc_consonant': 0.999028, 'acc_word': 0.99691, 'loss_grapheme': 0.013763, 'loss_vowel': 0.006327, 'loss_consonant': 0.003847, 'loss_word': 0.013997}\n",
      "   28 | 0.000113 | 160640/160716 | 7.2772 | 5.1226 | 14.60 ||\n",
      "val: {'recall': 0.997667, 'recall_grapheme': 0.996463, 'recall_vowel': 0.998454, 'recall_consonant': 0.999288, 'recall_word': 0.996373, 'acc_grapheme': 0.996536, 'acc_vowel': 0.998505, 'acc_consonant': 0.999128, 'acc_word': 0.996411, 'loss_grapheme': 0.015989, 'loss_vowel': 0.007134, 'loss_consonant': 0.004194, 'loss_word': 0.016797}\n",
      "   29 | 0.000104 | 160640/160716 | 0.3728 | 5.1992 | 14.61 ||"
     ]
    },
    {
     "name": "stderr",
     "output_type": "stream",
     "text": [
      "\r",
      "  0%|          | 0/1255 [00:00<?, ?it/s]"
     ]
    },
    {
     "name": "stdout",
     "output_type": "stream",
     "text": [
      "\n",
      "val: {'recall': 0.997972, 'recall_grapheme': 0.996977, 'recall_vowel': 0.998579, 'recall_consonant': 0.999355, 'recall_word': 0.99664, 'acc_grapheme': 0.997059, 'acc_vowel': 0.99848, 'acc_consonant': 0.999178, 'acc_word': 0.996685, 'loss_grapheme': 0.014802, 'loss_vowel': 0.007591, 'loss_consonant': 0.003747, 'loss_word': 0.016135}\n",
      "SWA>>>:\n"
     ]
    },
    {
     "name": "stderr",
     "output_type": "stream",
     "text": [
      "100%|██████████| 1255/1255 [07:18<00:00,  2.88it/s]\n"
     ]
    },
    {
     "name": "stdout",
     "output_type": "stream",
     "text": [
      "\n",
      "val: {'recall': 0.998645, 'recall_grapheme': 0.998016, 'recall_vowel': 0.998935, 'recall_consonant': 0.999613, 'recall_word': 0.997595, 'acc_grapheme': 0.997956, 'acc_vowel': 0.998829, 'acc_consonant': 0.999477, 'acc_word': 0.997582, 'loss_grapheme': 0.011158, 'loss_vowel': 0.006139, 'loss_consonant': 0.002295, 'loss_word': 0.012315}\n",
      "   30 | 0.000095 | 160640/160716 | 14.4458 | 5.0728 | 14.60 |\n",
      "val: {'recall': 0.99779, 'recall_grapheme': 0.996688, 'recall_vowel': 0.998344, 'recall_consonant': 0.999441, 'recall_word': 0.996278, 'acc_grapheme': 0.99676, 'acc_vowel': 0.99838, 'acc_consonant': 0.999202, 'acc_word': 0.996336, 'loss_grapheme': 0.015519, 'loss_vowel': 0.008178, 'loss_consonant': 0.003434, 'loss_word': 0.016567}\n",
      "   31 | 0.000086 | 160640/160716 | 15.0001 | 5.1902 | 14.59 |\n",
      "val: {'recall': 0.998016, 'recall_grapheme': 0.997071, 'recall_vowel': 0.998591, 'recall_consonant': 0.99933, 'recall_word': 0.996361, 'acc_grapheme': 0.997034, 'acc_vowel': 0.99838, 'acc_consonant': 0.999178, 'acc_word': 0.996386, 'loss_grapheme': 0.015556, 'loss_vowel': 0.00867, 'loss_consonant': 0.003772, 'loss_word': 0.017452}\n",
      "   32 | 0.000078 | 160640/160716 | 0.1087 | 5.2832 | 14.54 ||"
     ]
    },
    {
     "name": "stderr",
     "output_type": "stream",
     "text": [
      "\r",
      "  0%|          | 0/1255 [00:00<?, ?it/s]"
     ]
    },
    {
     "name": "stdout",
     "output_type": "stream",
     "text": [
      "\n",
      "val: {'recall': 0.998138, 'recall_grapheme': 0.997253, 'recall_vowel': 0.998715, 'recall_consonant': 0.999331, 'recall_word': 0.996983, 'acc_grapheme': 0.997134, 'acc_vowel': 0.99848, 'acc_consonant': 0.999178, 'acc_word': 0.997059, 'loss_grapheme': 0.014476, 'loss_vowel': 0.007179, 'loss_consonant': 0.003493, 'loss_word': 0.015795}\n",
      "SWA>>>:\n"
     ]
    },
    {
     "name": "stderr",
     "output_type": "stream",
     "text": [
      "100%|██████████| 1255/1255 [07:15<00:00,  2.85it/s]\n"
     ]
    },
    {
     "name": "stdout",
     "output_type": "stream",
     "text": [
      "\n",
      "val: {'recall': 0.998649, 'recall_grapheme': 0.998024, 'recall_vowel': 0.998935, 'recall_consonant': 0.999613, 'recall_word': 0.997574, 'acc_grapheme': 0.997956, 'acc_vowel': 0.998829, 'acc_consonant': 0.999477, 'acc_word': 0.997558, 'loss_grapheme': 0.0111, 'loss_vowel': 0.006074, 'loss_consonant': 0.002277, 'loss_word': 0.012222}\n",
      "   33 | 0.000070 | 160640/160716 | 4.2696 | 5.0962 | 14.59 ||\n",
      "val: {'recall': 0.997711, 'recall_grapheme': 0.996661, 'recall_vowel': 0.998127, 'recall_consonant': 0.999396, 'recall_word': 0.996236, 'acc_grapheme': 0.996785, 'acc_vowel': 0.998305, 'acc_consonant': 0.999227, 'acc_word': 0.996311, 'loss_grapheme': 0.015705, 'loss_vowel': 0.007955, 'loss_consonant': 0.003737, 'loss_word': 0.016994}\n",
      "   34 | 0.000062 | 160640/160716 | 5.6416 | 4.9282 | 14.65 ||\n",
      "val: {'recall': 0.997979, 'recall_grapheme': 0.997111, 'recall_vowel': 0.998403, 'recall_consonant': 0.99929, 'recall_word': 0.996401, 'acc_grapheme': 0.996835, 'acc_vowel': 0.998455, 'acc_consonant': 0.999128, 'acc_word': 0.996486, 'loss_grapheme': 0.015733, 'loss_vowel': 0.007554, 'loss_consonant': 0.003609, 'loss_word': 0.017094}\n",
      "   35 | 0.000054 | 160640/160716 | 3.7369 | 5.1301 | 14.60 ||"
     ]
    },
    {
     "name": "stderr",
     "output_type": "stream",
     "text": [
      "\r",
      "  0%|          | 0/1255 [00:00<?, ?it/s]"
     ]
    },
    {
     "name": "stdout",
     "output_type": "stream",
     "text": [
      "\n",
      "val: {'recall': 0.997466, 'recall_grapheme': 0.996239, 'recall_vowel': 0.997975, 'recall_consonant': 0.999411, 'recall_word': 0.996281, 'acc_grapheme': 0.996611, 'acc_vowel': 0.998305, 'acc_consonant': 0.999178, 'acc_word': 0.996361, 'loss_grapheme': 0.016078, 'loss_vowel': 0.008395, 'loss_consonant': 0.003901, 'loss_word': 0.017902}\n",
      "SWA>>>:\n"
     ]
    },
    {
     "name": "stderr",
     "output_type": "stream",
     "text": [
      "100%|██████████| 1255/1255 [07:15<00:00,  2.87it/s]\n"
     ]
    },
    {
     "name": "stdout",
     "output_type": "stream",
     "text": [
      "\n",
      "val: {'recall': 0.998629, 'recall_grapheme': 0.997998, 'recall_vowel': 0.998907, 'recall_consonant': 0.999613, 'recall_word': 0.997644, 'acc_grapheme': 0.997956, 'acc_vowel': 0.998804, 'acc_consonant': 0.999477, 'acc_word': 0.997632, 'loss_grapheme': 0.011099, 'loss_vowel': 0.006072, 'loss_consonant': 0.002283, 'loss_word': 0.012234}\n",
      "   36 | 0.000047 | 160640/160716 | 0.1572 | 4.8740 | 14.62 ||\n",
      "val: {'recall': 0.998092, 'recall_grapheme': 0.997225, 'recall_vowel': 0.998601, 'recall_consonant': 0.999316, 'recall_word': 0.996614, 'acc_grapheme': 0.997184, 'acc_vowel': 0.99853, 'acc_consonant': 0.999103, 'acc_word': 0.99671, 'loss_grapheme': 0.01443, 'loss_vowel': 0.007236, 'loss_consonant': 0.003541, 'loss_word': 0.016065}\n",
      "   37 | 0.000041 | 160640/160716 | 10.6130 | 5.0171 | 14.58 |\n",
      "val: {'recall': 0.997979, 'recall_grapheme': 0.997051, 'recall_vowel': 0.998485, 'recall_consonant': 0.999327, 'recall_word': 0.996642, 'acc_grapheme': 0.997109, 'acc_vowel': 0.998604, 'acc_consonant': 0.999153, 'acc_word': 0.99671, 'loss_grapheme': 0.014557, 'loss_vowel': 0.007437, 'loss_consonant': 0.003422, 'loss_word': 0.015819}\n",
      "   38 | 0.000034 | 160640/160716 | 10.3095 | 5.0491 | 14.53 |"
     ]
    },
    {
     "name": "stderr",
     "output_type": "stream",
     "text": [
      "\r",
      "  0%|          | 0/1255 [00:00<?, ?it/s]"
     ]
    },
    {
     "name": "stdout",
     "output_type": "stream",
     "text": [
      "\n",
      "val: {'recall': 0.997757, 'recall_grapheme': 0.99677, 'recall_vowel': 0.998158, 'recall_consonant': 0.99933, 'recall_word': 0.996466, 'acc_grapheme': 0.996835, 'acc_vowel': 0.998505, 'acc_consonant': 0.999202, 'acc_word': 0.996511, 'loss_grapheme': 0.015931, 'loss_vowel': 0.008076, 'loss_consonant': 0.003841, 'loss_word': 0.017682}\n",
      "SWA>>>:\n"
     ]
    },
    {
     "name": "stderr",
     "output_type": "stream",
     "text": [
      "100%|██████████| 1255/1255 [07:17<00:00,  2.75it/s]\n"
     ]
    },
    {
     "name": "stdout",
     "output_type": "stream",
     "text": [
      "   39 | 0.000029 | 160640/160716 | 5.5000 | 4.9362 | 14.54 ||\n",
      "val: {'recall': 0.998016, 'recall_grapheme': 0.997107, 'recall_vowel': 0.998442, 'recall_consonant': 0.999409, 'recall_word': 0.996583, 'acc_grapheme': 0.997034, 'acc_vowel': 0.99848, 'acc_consonant': 0.999302, 'acc_word': 0.996635, 'loss_grapheme': 0.015601, 'loss_vowel': 0.007675, 'loss_consonant': 0.003668, 'loss_word': 0.017253}\n",
      "   40 | 0.000023 | 160640/160716 | 0.2301 | 5.0696 | 14.56 ||\n",
      "val: {'recall': 0.99831, 'recall_grapheme': 0.997554, 'recall_vowel': 0.99866, 'recall_consonant': 0.999473, 'recall_word': 0.997267, 'acc_grapheme': 0.997632, 'acc_vowel': 0.998704, 'acc_consonant': 0.999327, 'acc_word': 0.997283, 'loss_grapheme': 0.012165, 'loss_vowel': 0.006354, 'loss_consonant': 0.002903, 'loss_word': 0.013325}\n",
      "   41 | 0.000019 | 160640/160716 | 4.6941 | 5.0980 | 14.58 ||"
     ]
    },
    {
     "name": "stderr",
     "output_type": "stream",
     "text": [
      "\r",
      "  0%|          | 0/1255 [00:00<?, ?it/s]"
     ]
    },
    {
     "name": "stdout",
     "output_type": "stream",
     "text": [
      "\n",
      "val: {'recall': 0.997915, 'recall_grapheme': 0.996847, 'recall_vowel': 0.998599, 'recall_consonant': 0.99937, 'recall_word': 0.996576, 'acc_grapheme': 0.996935, 'acc_vowel': 0.998505, 'acc_consonant': 0.999227, 'acc_word': 0.996611, 'loss_grapheme': 0.015353, 'loss_vowel': 0.007471, 'loss_consonant': 0.00361, 'loss_word': 0.016937}\n",
      "SWA>>>:\n"
     ]
    },
    {
     "name": "stderr",
     "output_type": "stream",
     "text": [
      " 21%|██▏       | 269/1255 [01:36<05:38,  2.91it/s]"
     ]
    },
    {
     "ename": "KeyboardInterrupt",
     "evalue": "",
     "output_type": "error",
     "traceback": [
      "\u001b[0;31m---------------------------------------------------------------------------\u001b[0m",
      "\u001b[0;31mKeyboardInterrupt\u001b[0m                         Traceback (most recent call last)",
      "\u001b[0;32m<ipython-input-37-aad596905035>\u001b[0m in \u001b[0;36m<module>\u001b[0;34m\u001b[0m\n\u001b[0;32m----> 1\u001b[0;31m \u001b[0mtrain\u001b[0m\u001b[0;34m(\u001b[0m\u001b[0margs\u001b[0m\u001b[0;34m)\u001b[0m\u001b[0;34m\u001b[0m\u001b[0;34m\u001b[0m\u001b[0m\n\u001b[0m",
      "\u001b[0;32m<ipython-input-32-957ddf49a6a9>\u001b[0m in \u001b[0;36mtrain\u001b[0;34m(args)\u001b[0m\n\u001b[1;32m     74\u001b[0m                 \u001b[0mmoving_average\u001b[0m\u001b[0;34m(\u001b[0m\u001b[0mswa_model\u001b[0m\u001b[0;34m,\u001b[0m \u001b[0mmodel\u001b[0m\u001b[0;34m,\u001b[0m \u001b[0;36m1.0\u001b[0m \u001b[0;34m/\u001b[0m \u001b[0;34m(\u001b[0m\u001b[0mswa_n\u001b[0m \u001b[0;34m+\u001b[0m \u001b[0;36m1\u001b[0m\u001b[0;34m)\u001b[0m\u001b[0;34m)\u001b[0m\u001b[0;34m\u001b[0m\u001b[0;34m\u001b[0m\u001b[0m\n\u001b[1;32m     75\u001b[0m                 \u001b[0mswa_n\u001b[0m \u001b[0;34m+=\u001b[0m \u001b[0;36m1\u001b[0m\u001b[0;34m\u001b[0m\u001b[0;34m\u001b[0m\u001b[0m\n\u001b[0;32m---> 76\u001b[0;31m                 \u001b[0mbn_update\u001b[0m\u001b[0;34m(\u001b[0m\u001b[0mtrain_loader\u001b[0m\u001b[0;34m,\u001b[0m \u001b[0mswa_model\u001b[0m\u001b[0;34m)\u001b[0m\u001b[0;34m\u001b[0m\u001b[0;34m\u001b[0m\u001b[0m\n\u001b[0m\u001b[1;32m     77\u001b[0m                 \u001b[0mvalidate_and_save_swa\u001b[0m\u001b[0;34m(\u001b[0m\u001b[0mswa_model\u001b[0m\u001b[0;34m,\u001b[0m \u001b[0mswa_model_file\u001b[0m\u001b[0;34m,\u001b[0m \u001b[0mval_loader\u001b[0m\u001b[0;34m,\u001b[0m \u001b[0msave\u001b[0m\u001b[0;34m=\u001b[0m\u001b[0;32mTrue\u001b[0m\u001b[0;34m)\u001b[0m\u001b[0;34m\u001b[0m\u001b[0;34m\u001b[0m\u001b[0m\n\u001b[1;32m     78\u001b[0m \u001b[0;34m\u001b[0m\u001b[0m\n",
      "\u001b[0;32m~/bengali/notebooks/utils.py\u001b[0m in \u001b[0;36mbn_update\u001b[0;34m(loader, model)\u001b[0m\n\u001b[1;32m     73\u001b[0m             \u001b[0mmodule\u001b[0m\u001b[0;34m.\u001b[0m\u001b[0mmomentum\u001b[0m \u001b[0;34m=\u001b[0m \u001b[0mmomentum\u001b[0m\u001b[0;34m\u001b[0m\u001b[0;34m\u001b[0m\u001b[0m\n\u001b[1;32m     74\u001b[0m \u001b[0;34m\u001b[0m\u001b[0m\n\u001b[0;32m---> 75\u001b[0;31m         \u001b[0mmodel\u001b[0m\u001b[0;34m(\u001b[0m\u001b[0minput_var\u001b[0m\u001b[0;34m)\u001b[0m\u001b[0;34m\u001b[0m\u001b[0;34m\u001b[0m\u001b[0m\n\u001b[0m\u001b[1;32m     76\u001b[0m         \u001b[0mn\u001b[0m \u001b[0;34m+=\u001b[0m \u001b[0mb\u001b[0m\u001b[0;34m\u001b[0m\u001b[0;34m\u001b[0m\u001b[0m\n\u001b[1;32m     77\u001b[0m \u001b[0;34m\u001b[0m\u001b[0m\n",
      "\u001b[0;32m~/anaconda3/lib/python3.7/site-packages/torch/nn/modules/module.py\u001b[0m in \u001b[0;36m__call__\u001b[0;34m(self, *input, **kwargs)\u001b[0m\n\u001b[1;32m    545\u001b[0m             \u001b[0mresult\u001b[0m \u001b[0;34m=\u001b[0m \u001b[0mself\u001b[0m\u001b[0;34m.\u001b[0m\u001b[0m_slow_forward\u001b[0m\u001b[0;34m(\u001b[0m\u001b[0;34m*\u001b[0m\u001b[0minput\u001b[0m\u001b[0;34m,\u001b[0m \u001b[0;34m**\u001b[0m\u001b[0mkwargs\u001b[0m\u001b[0;34m)\u001b[0m\u001b[0;34m\u001b[0m\u001b[0;34m\u001b[0m\u001b[0m\n\u001b[1;32m    546\u001b[0m         \u001b[0;32melse\u001b[0m\u001b[0;34m:\u001b[0m\u001b[0;34m\u001b[0m\u001b[0;34m\u001b[0m\u001b[0m\n\u001b[0;32m--> 547\u001b[0;31m             \u001b[0mresult\u001b[0m \u001b[0;34m=\u001b[0m \u001b[0mself\u001b[0m\u001b[0;34m.\u001b[0m\u001b[0mforward\u001b[0m\u001b[0;34m(\u001b[0m\u001b[0;34m*\u001b[0m\u001b[0minput\u001b[0m\u001b[0;34m,\u001b[0m \u001b[0;34m**\u001b[0m\u001b[0mkwargs\u001b[0m\u001b[0;34m)\u001b[0m\u001b[0;34m\u001b[0m\u001b[0;34m\u001b[0m\u001b[0m\n\u001b[0m\u001b[1;32m    548\u001b[0m         \u001b[0;32mfor\u001b[0m \u001b[0mhook\u001b[0m \u001b[0;32min\u001b[0m \u001b[0mself\u001b[0m\u001b[0;34m.\u001b[0m\u001b[0m_forward_hooks\u001b[0m\u001b[0;34m.\u001b[0m\u001b[0mvalues\u001b[0m\u001b[0;34m(\u001b[0m\u001b[0;34m)\u001b[0m\u001b[0;34m:\u001b[0m\u001b[0;34m\u001b[0m\u001b[0;34m\u001b[0m\u001b[0m\n\u001b[1;32m    549\u001b[0m             \u001b[0mhook_result\u001b[0m \u001b[0;34m=\u001b[0m \u001b[0mhook\u001b[0m\u001b[0;34m(\u001b[0m\u001b[0mself\u001b[0m\u001b[0;34m,\u001b[0m \u001b[0minput\u001b[0m\u001b[0;34m,\u001b[0m \u001b[0mresult\u001b[0m\u001b[0;34m)\u001b[0m\u001b[0;34m\u001b[0m\u001b[0;34m\u001b[0m\u001b[0m\n",
      "\u001b[0;32m~/anaconda3/lib/python3.7/site-packages/torch/nn/parallel/data_parallel.py\u001b[0m in \u001b[0;36mforward\u001b[0;34m(self, *inputs, **kwargs)\u001b[0m\n\u001b[1;32m    149\u001b[0m         \u001b[0;32mif\u001b[0m \u001b[0mlen\u001b[0m\u001b[0;34m(\u001b[0m\u001b[0mself\u001b[0m\u001b[0;34m.\u001b[0m\u001b[0mdevice_ids\u001b[0m\u001b[0;34m)\u001b[0m \u001b[0;34m==\u001b[0m \u001b[0;36m1\u001b[0m\u001b[0;34m:\u001b[0m\u001b[0;34m\u001b[0m\u001b[0;34m\u001b[0m\u001b[0m\n\u001b[1;32m    150\u001b[0m             \u001b[0;32mreturn\u001b[0m \u001b[0mself\u001b[0m\u001b[0;34m.\u001b[0m\u001b[0mmodule\u001b[0m\u001b[0;34m(\u001b[0m\u001b[0;34m*\u001b[0m\u001b[0minputs\u001b[0m\u001b[0;34m[\u001b[0m\u001b[0;36m0\u001b[0m\u001b[0;34m]\u001b[0m\u001b[0;34m,\u001b[0m \u001b[0;34m**\u001b[0m\u001b[0mkwargs\u001b[0m\u001b[0;34m[\u001b[0m\u001b[0;36m0\u001b[0m\u001b[0;34m]\u001b[0m\u001b[0;34m)\u001b[0m\u001b[0;34m\u001b[0m\u001b[0;34m\u001b[0m\u001b[0m\n\u001b[0;32m--> 151\u001b[0;31m         \u001b[0mreplicas\u001b[0m \u001b[0;34m=\u001b[0m \u001b[0mself\u001b[0m\u001b[0;34m.\u001b[0m\u001b[0mreplicate\u001b[0m\u001b[0;34m(\u001b[0m\u001b[0mself\u001b[0m\u001b[0;34m.\u001b[0m\u001b[0mmodule\u001b[0m\u001b[0;34m,\u001b[0m \u001b[0mself\u001b[0m\u001b[0;34m.\u001b[0m\u001b[0mdevice_ids\u001b[0m\u001b[0;34m[\u001b[0m\u001b[0;34m:\u001b[0m\u001b[0mlen\u001b[0m\u001b[0;34m(\u001b[0m\u001b[0minputs\u001b[0m\u001b[0;34m)\u001b[0m\u001b[0;34m]\u001b[0m\u001b[0;34m)\u001b[0m\u001b[0;34m\u001b[0m\u001b[0;34m\u001b[0m\u001b[0m\n\u001b[0m\u001b[1;32m    152\u001b[0m         \u001b[0moutputs\u001b[0m \u001b[0;34m=\u001b[0m \u001b[0mself\u001b[0m\u001b[0;34m.\u001b[0m\u001b[0mparallel_apply\u001b[0m\u001b[0;34m(\u001b[0m\u001b[0mreplicas\u001b[0m\u001b[0;34m,\u001b[0m \u001b[0minputs\u001b[0m\u001b[0;34m,\u001b[0m \u001b[0mkwargs\u001b[0m\u001b[0;34m)\u001b[0m\u001b[0;34m\u001b[0m\u001b[0;34m\u001b[0m\u001b[0m\n\u001b[1;32m    153\u001b[0m         \u001b[0;32mreturn\u001b[0m \u001b[0mself\u001b[0m\u001b[0;34m.\u001b[0m\u001b[0mgather\u001b[0m\u001b[0;34m(\u001b[0m\u001b[0moutputs\u001b[0m\u001b[0;34m,\u001b[0m \u001b[0mself\u001b[0m\u001b[0;34m.\u001b[0m\u001b[0moutput_device\u001b[0m\u001b[0;34m)\u001b[0m\u001b[0;34m\u001b[0m\u001b[0;34m\u001b[0m\u001b[0m\n",
      "\u001b[0;32m~/anaconda3/lib/python3.7/site-packages/torch/nn/parallel/data_parallel.py\u001b[0m in \u001b[0;36mreplicate\u001b[0;34m(self, module, device_ids)\u001b[0m\n\u001b[1;32m    154\u001b[0m \u001b[0;34m\u001b[0m\u001b[0m\n\u001b[1;32m    155\u001b[0m     \u001b[0;32mdef\u001b[0m \u001b[0mreplicate\u001b[0m\u001b[0;34m(\u001b[0m\u001b[0mself\u001b[0m\u001b[0;34m,\u001b[0m \u001b[0mmodule\u001b[0m\u001b[0;34m,\u001b[0m \u001b[0mdevice_ids\u001b[0m\u001b[0;34m)\u001b[0m\u001b[0;34m:\u001b[0m\u001b[0;34m\u001b[0m\u001b[0;34m\u001b[0m\u001b[0m\n\u001b[0;32m--> 156\u001b[0;31m         \u001b[0;32mreturn\u001b[0m \u001b[0mreplicate\u001b[0m\u001b[0;34m(\u001b[0m\u001b[0mmodule\u001b[0m\u001b[0;34m,\u001b[0m \u001b[0mdevice_ids\u001b[0m\u001b[0;34m,\u001b[0m \u001b[0;32mnot\u001b[0m \u001b[0mtorch\u001b[0m\u001b[0;34m.\u001b[0m\u001b[0mis_grad_enabled\u001b[0m\u001b[0;34m(\u001b[0m\u001b[0;34m)\u001b[0m\u001b[0;34m)\u001b[0m\u001b[0;34m\u001b[0m\u001b[0;34m\u001b[0m\u001b[0m\n\u001b[0m\u001b[1;32m    157\u001b[0m \u001b[0;34m\u001b[0m\u001b[0m\n\u001b[1;32m    158\u001b[0m     \u001b[0;32mdef\u001b[0m \u001b[0mscatter\u001b[0m\u001b[0;34m(\u001b[0m\u001b[0mself\u001b[0m\u001b[0;34m,\u001b[0m \u001b[0minputs\u001b[0m\u001b[0;34m,\u001b[0m \u001b[0mkwargs\u001b[0m\u001b[0;34m,\u001b[0m \u001b[0mdevice_ids\u001b[0m\u001b[0;34m)\u001b[0m\u001b[0;34m:\u001b[0m\u001b[0;34m\u001b[0m\u001b[0;34m\u001b[0m\u001b[0m\n",
      "\u001b[0;32m~/anaconda3/lib/python3.7/site-packages/torch/nn/parallel/replicate.py\u001b[0m in \u001b[0;36mreplicate\u001b[0;34m(network, devices, detach)\u001b[0m\n\u001b[1;32m     94\u001b[0m     \u001b[0mparams\u001b[0m \u001b[0;34m=\u001b[0m \u001b[0mlist\u001b[0m\u001b[0;34m(\u001b[0m\u001b[0mnetwork\u001b[0m\u001b[0;34m.\u001b[0m\u001b[0mparameters\u001b[0m\u001b[0;34m(\u001b[0m\u001b[0;34m)\u001b[0m\u001b[0;34m)\u001b[0m\u001b[0;34m\u001b[0m\u001b[0;34m\u001b[0m\u001b[0m\n\u001b[1;32m     95\u001b[0m     \u001b[0mparam_indices\u001b[0m \u001b[0;34m=\u001b[0m \u001b[0;34m{\u001b[0m\u001b[0mparam\u001b[0m\u001b[0;34m:\u001b[0m \u001b[0midx\u001b[0m \u001b[0;32mfor\u001b[0m \u001b[0midx\u001b[0m\u001b[0;34m,\u001b[0m \u001b[0mparam\u001b[0m \u001b[0;32min\u001b[0m \u001b[0menumerate\u001b[0m\u001b[0;34m(\u001b[0m\u001b[0mparams\u001b[0m\u001b[0;34m)\u001b[0m\u001b[0;34m}\u001b[0m\u001b[0;34m\u001b[0m\u001b[0;34m\u001b[0m\u001b[0m\n\u001b[0;32m---> 96\u001b[0;31m     \u001b[0mparam_copies\u001b[0m \u001b[0;34m=\u001b[0m \u001b[0m_broadcast_coalesced_reshape\u001b[0m\u001b[0;34m(\u001b[0m\u001b[0mparams\u001b[0m\u001b[0;34m,\u001b[0m \u001b[0mdevices\u001b[0m\u001b[0;34m,\u001b[0m \u001b[0mdetach\u001b[0m\u001b[0;34m)\u001b[0m\u001b[0;34m\u001b[0m\u001b[0;34m\u001b[0m\u001b[0m\n\u001b[0m\u001b[1;32m     97\u001b[0m \u001b[0;34m\u001b[0m\u001b[0m\n\u001b[1;32m     98\u001b[0m     \u001b[0mbuffers\u001b[0m \u001b[0;34m=\u001b[0m \u001b[0mlist\u001b[0m\u001b[0;34m(\u001b[0m\u001b[0mnetwork\u001b[0m\u001b[0;34m.\u001b[0m\u001b[0mbuffers\u001b[0m\u001b[0;34m(\u001b[0m\u001b[0;34m)\u001b[0m\u001b[0;34m)\u001b[0m\u001b[0;34m\u001b[0m\u001b[0;34m\u001b[0m\u001b[0m\n",
      "\u001b[0;32m~/anaconda3/lib/python3.7/site-packages/torch/nn/parallel/replicate.py\u001b[0m in \u001b[0;36m_broadcast_coalesced_reshape\u001b[0;34m(tensors, devices, detach)\u001b[0m\n\u001b[1;32m     77\u001b[0m         \u001b[0;31m# Use the autograd function to broadcast if not detach\u001b[0m\u001b[0;34m\u001b[0m\u001b[0;34m\u001b[0m\u001b[0;34m\u001b[0m\u001b[0m\n\u001b[1;32m     78\u001b[0m         \u001b[0;32mif\u001b[0m \u001b[0mlen\u001b[0m\u001b[0;34m(\u001b[0m\u001b[0mtensors\u001b[0m\u001b[0;34m)\u001b[0m \u001b[0;34m>\u001b[0m \u001b[0;36m0\u001b[0m\u001b[0;34m:\u001b[0m\u001b[0;34m\u001b[0m\u001b[0;34m\u001b[0m\u001b[0m\n\u001b[0;32m---> 79\u001b[0;31m             \u001b[0mtensor_copies\u001b[0m \u001b[0;34m=\u001b[0m \u001b[0mBroadcast\u001b[0m\u001b[0;34m.\u001b[0m\u001b[0mapply\u001b[0m\u001b[0;34m(\u001b[0m\u001b[0mdevices\u001b[0m\u001b[0;34m,\u001b[0m \u001b[0;34m*\u001b[0m\u001b[0mtensors\u001b[0m\u001b[0;34m)\u001b[0m\u001b[0;34m\u001b[0m\u001b[0;34m\u001b[0m\u001b[0m\n\u001b[0m\u001b[1;32m     80\u001b[0m             return [tensor_copies[i:i + len(tensors)]\n\u001b[1;32m     81\u001b[0m                     for i in range(0, len(tensor_copies), len(tensors))]\n",
      "\u001b[0;32m~/anaconda3/lib/python3.7/site-packages/torch/nn/parallel/_functions.py\u001b[0m in \u001b[0;36mforward\u001b[0;34m(ctx, target_gpus, *inputs)\u001b[0m\n\u001b[1;32m     19\u001b[0m         \u001b[0mctx\u001b[0m\u001b[0;34m.\u001b[0m\u001b[0mnum_inputs\u001b[0m \u001b[0;34m=\u001b[0m \u001b[0mlen\u001b[0m\u001b[0;34m(\u001b[0m\u001b[0minputs\u001b[0m\u001b[0;34m)\u001b[0m\u001b[0;34m\u001b[0m\u001b[0;34m\u001b[0m\u001b[0m\n\u001b[1;32m     20\u001b[0m         \u001b[0mctx\u001b[0m\u001b[0;34m.\u001b[0m\u001b[0minput_device\u001b[0m \u001b[0;34m=\u001b[0m \u001b[0minputs\u001b[0m\u001b[0;34m[\u001b[0m\u001b[0;36m0\u001b[0m\u001b[0;34m]\u001b[0m\u001b[0;34m.\u001b[0m\u001b[0mget_device\u001b[0m\u001b[0;34m(\u001b[0m\u001b[0;34m)\u001b[0m\u001b[0;34m\u001b[0m\u001b[0;34m\u001b[0m\u001b[0m\n\u001b[0;32m---> 21\u001b[0;31m         \u001b[0moutputs\u001b[0m \u001b[0;34m=\u001b[0m \u001b[0mcomm\u001b[0m\u001b[0;34m.\u001b[0m\u001b[0mbroadcast_coalesced\u001b[0m\u001b[0;34m(\u001b[0m\u001b[0minputs\u001b[0m\u001b[0;34m,\u001b[0m \u001b[0mctx\u001b[0m\u001b[0;34m.\u001b[0m\u001b[0mtarget_gpus\u001b[0m\u001b[0;34m)\u001b[0m\u001b[0;34m\u001b[0m\u001b[0;34m\u001b[0m\u001b[0m\n\u001b[0m\u001b[1;32m     22\u001b[0m         \u001b[0mnon_differentiables\u001b[0m \u001b[0;34m=\u001b[0m \u001b[0;34m[\u001b[0m\u001b[0;34m]\u001b[0m\u001b[0;34m\u001b[0m\u001b[0;34m\u001b[0m\u001b[0m\n\u001b[1;32m     23\u001b[0m         \u001b[0;32mfor\u001b[0m \u001b[0midx\u001b[0m\u001b[0;34m,\u001b[0m \u001b[0minput_requires_grad\u001b[0m \u001b[0;32min\u001b[0m \u001b[0menumerate\u001b[0m\u001b[0;34m(\u001b[0m\u001b[0mctx\u001b[0m\u001b[0;34m.\u001b[0m\u001b[0mneeds_input_grad\u001b[0m\u001b[0;34m[\u001b[0m\u001b[0;36m1\u001b[0m\u001b[0;34m:\u001b[0m\u001b[0;34m]\u001b[0m\u001b[0;34m)\u001b[0m\u001b[0;34m:\u001b[0m\u001b[0;34m\u001b[0m\u001b[0;34m\u001b[0m\u001b[0m\n",
      "\u001b[0;32m~/anaconda3/lib/python3.7/site-packages/torch/cuda/comm.py\u001b[0m in \u001b[0;36mbroadcast_coalesced\u001b[0;34m(tensors, devices, buffer_size)\u001b[0m\n\u001b[1;32m     37\u001b[0m         \u001b[0mcorresponding\u001b[0m \u001b[0mto\u001b[0m \u001b[0mindices\u001b[0m \u001b[0;32mfrom\u001b[0m\u001b[0;31m \u001b[0m\u001b[0;31m`\u001b[0m\u001b[0;31m`\u001b[0m\u001b[0mdevices\u001b[0m\u001b[0;31m`\u001b[0m\u001b[0;31m`\u001b[0m\u001b[0;34m.\u001b[0m\u001b[0;34m\u001b[0m\u001b[0;34m\u001b[0m\u001b[0m\n\u001b[1;32m     38\u001b[0m     \"\"\"\n\u001b[0;32m---> 39\u001b[0;31m     \u001b[0;32mreturn\u001b[0m \u001b[0mtorch\u001b[0m\u001b[0;34m.\u001b[0m\u001b[0m_C\u001b[0m\u001b[0;34m.\u001b[0m\u001b[0m_broadcast_coalesced\u001b[0m\u001b[0;34m(\u001b[0m\u001b[0mtensors\u001b[0m\u001b[0;34m,\u001b[0m \u001b[0mdevices\u001b[0m\u001b[0;34m,\u001b[0m \u001b[0mbuffer_size\u001b[0m\u001b[0;34m)\u001b[0m\u001b[0;34m\u001b[0m\u001b[0;34m\u001b[0m\u001b[0m\n\u001b[0m\u001b[1;32m     40\u001b[0m \u001b[0;34m\u001b[0m\u001b[0m\n\u001b[1;32m     41\u001b[0m \u001b[0;34m\u001b[0m\u001b[0m\n",
      "\u001b[0;31mKeyboardInterrupt\u001b[0m: "
     ]
    }
   ],
   "source": [
    "train(args)"
   ]
  },
  {
   "cell_type": "code",
   "execution_count": null,
   "metadata": {},
   "outputs": [],
   "source": []
  },
  {
   "cell_type": "code",
   "execution_count": 39,
   "metadata": {},
   "outputs": [
    {
     "name": "stdout",
     "output_type": "stream",
     "text": [
      "model file: ./model4-ckps/tf_efficientnet_b4/model4_eb4_fold3_380.pth, exist: True\n",
      "loading ./model4-ckps/tf_efficientnet_b4/model4_eb4_fold3_380.pth...\n",
      "model file: ./model4-ckps/tf_efficientnet_b4/model4_eb4_fold3_380.pth_swa, exist: True\n",
      "loading ./model4-ckps/tf_efficientnet_b4/model4_eb4_fold3_380.pth_swa...\n",
      "\n",
      "val: {'recall': 0.998314, 'recall_grapheme': 0.997668, 'recall_vowel': 0.998427, 'recall_consonant': 0.99949, 'recall_word': 0.99722, 'acc_grapheme': 0.997333, 'acc_vowel': 0.998654, 'acc_consonant': 0.999302, 'acc_word': 0.997234, 'loss_grapheme': 0.012546, 'loss_vowel': 0.006781, 'loss_consonant': 0.002767, 'loss_word': 0.013686}\n",
      "\n",
      "val: {'recall': 0.998499, 'recall_grapheme': 0.997926, 'recall_vowel': 0.998543, 'recall_consonant': 0.999602, 'recall_word': 0.997673, 'acc_grapheme': 0.997882, 'acc_vowel': 0.998779, 'acc_consonant': 0.999427, 'acc_word': 0.997657, 'loss_grapheme': 0.010988, 'loss_vowel': 0.006149, 'loss_consonant': 0.00255, 'loss_word': 0.011906}\n",
      "CYCLE: 1\n",
      "    8 | 0.000277 | 160640/160716 | 11.4646 | 5.3488 | 16.04 |\n",
      "val: {'recall': 0.997219, 'recall_grapheme': 0.995909, 'recall_vowel': 0.99834, 'recall_consonant': 0.998717, 'recall_word': 0.995662, 'acc_grapheme': 0.995963, 'acc_vowel': 0.998181, 'acc_consonant': 0.998604, 'acc_word': 0.995713, 'loss_grapheme': 0.01909, 'loss_vowel': 0.009164, 'loss_consonant': 0.006138, 'loss_word': 0.020682}\n",
      "    9 | 0.000271 | 160640/160716 | 5.3706 | 5.6433 | 16.04 ||"
     ]
    },
    {
     "name": "stderr",
     "output_type": "stream",
     "text": [
      "\r",
      "  0%|          | 0/1255 [00:00<?, ?it/s]"
     ]
    },
    {
     "name": "stdout",
     "output_type": "stream",
     "text": [
      "\n",
      "val: {'recall': 0.997023, 'recall_grapheme': 0.99578, 'recall_vowel': 0.997481, 'recall_consonant': 0.999051, 'recall_word': 0.995257, 'acc_grapheme': 0.995788, 'acc_vowel': 0.997882, 'acc_consonant': 0.998928, 'acc_word': 0.995265, 'loss_grapheme': 0.019129, 'loss_vowel': 0.010337, 'loss_consonant': 0.005143, 'loss_word': 0.020291}\n",
      "SWA>>>:\n"
     ]
    },
    {
     "name": "stderr",
     "output_type": "stream",
     "text": [
      "100%|██████████| 1255/1255 [08:40<00:00,  2.45it/s]\n"
     ]
    },
    {
     "name": "stdout",
     "output_type": "stream",
     "text": [
      "\n",
      "val: {'recall': 0.997864, 'recall_grapheme': 0.997037, 'recall_vowel': 0.998158, 'recall_consonant': 0.999223, 'recall_word': 0.996839, 'acc_grapheme': 0.997084, 'acc_vowel': 0.998405, 'acc_consonant': 0.999103, 'acc_word': 0.99681, 'loss_grapheme': 0.013349, 'loss_vowel': 0.007275, 'loss_consonant': 0.003111, 'loss_word': 0.014714}\n",
      "   10 | 0.000266 | 160640/160716 | 0.5633 | 5.5519 | 16.03 ||\n",
      "val: {'recall': 0.997647, 'recall_grapheme': 0.996431, 'recall_vowel': 0.998337, 'recall_consonant': 0.999389, 'recall_word': 0.996037, 'acc_grapheme': 0.996461, 'acc_vowel': 0.99843, 'acc_consonant': 0.998978, 'acc_word': 0.996062, 'loss_grapheme': 0.016803, 'loss_vowel': 0.008233, 'loss_consonant': 0.004633, 'loss_word': 0.017464}\n",
      "   11 | 0.000259 | 160640/160716 | 13.2253 | 5.4043 | 16.07 |"
     ]
    },
    {
     "name": "stderr",
     "output_type": "stream",
     "text": [
      "\r",
      "  0%|          | 0/1255 [00:00<?, ?it/s]"
     ]
    },
    {
     "name": "stdout",
     "output_type": "stream",
     "text": [
      "\n",
      "val: {'recall': 0.997343, 'recall_grapheme': 0.996182, 'recall_vowel': 0.998469, 'recall_consonant': 0.99854, 'recall_word': 0.995881, 'acc_grapheme': 0.996037, 'acc_vowel': 0.99838, 'acc_consonant': 0.998903, 'acc_word': 0.995838, 'loss_grapheme': 0.019492, 'loss_vowel': 0.009028, 'loss_consonant': 0.005488, 'loss_word': 0.020716}\n",
      "SWA>>>:\n"
     ]
    },
    {
     "name": "stderr",
     "output_type": "stream",
     "text": [
      "100%|██████████| 1255/1255 [08:32<00:00,  2.43it/s]\n"
     ]
    },
    {
     "name": "stdout",
     "output_type": "stream",
     "text": [
      "\n",
      "val: {'recall': 0.998228, 'recall_grapheme': 0.997371, 'recall_vowel': 0.998693, 'recall_consonant': 0.999476, 'recall_word': 0.997346, 'acc_grapheme': 0.997508, 'acc_vowel': 0.998729, 'acc_consonant': 0.999402, 'acc_word': 0.997333, 'loss_grapheme': 0.01217, 'loss_vowel': 0.006704, 'loss_consonant': 0.002375, 'loss_word': 0.013331}\n",
      "   12 | 0.000253 | 160640/160716 | 6.3436 | 5.6027 | 16.06 ||\n",
      "val: {'recall': 0.997346, 'recall_grapheme': 0.996081, 'recall_vowel': 0.99841, 'recall_consonant': 0.998815, 'recall_word': 0.995531, 'acc_grapheme': 0.996262, 'acc_vowel': 0.998131, 'acc_consonant': 0.998629, 'acc_word': 0.995564, 'loss_grapheme': 0.017862, 'loss_vowel': 0.008967, 'loss_consonant': 0.004795, 'loss_word': 0.019365}\n",
      "   13 | 0.000246 | 160640/160716 | 14.4517 | 5.5571 | 15.99 |"
     ]
    },
    {
     "name": "stderr",
     "output_type": "stream",
     "text": [
      "\r",
      "  0%|          | 0/1255 [00:00<?, ?it/s]"
     ]
    },
    {
     "name": "stdout",
     "output_type": "stream",
     "text": [
      "\n",
      "val: {'recall': 0.99736, 'recall_grapheme': 0.995899, 'recall_vowel': 0.99826, 'recall_consonant': 0.999382, 'recall_word': 0.996185, 'acc_grapheme': 0.995987, 'acc_vowel': 0.99823, 'acc_consonant': 0.999078, 'acc_word': 0.996187, 'loss_grapheme': 0.017413, 'loss_vowel': 0.008114, 'loss_consonant': 0.004311, 'loss_word': 0.017833}\n",
      "SWA>>>:\n"
     ]
    },
    {
     "name": "stderr",
     "output_type": "stream",
     "text": [
      "100%|██████████| 1255/1255 [08:37<00:00,  2.32it/s]\n"
     ]
    },
    {
     "name": "stdout",
     "output_type": "stream",
     "text": [
      "\n",
      "val: {'recall': 0.998332, 'recall_grapheme': 0.997375, 'recall_vowel': 0.998917, 'recall_consonant': 0.999661, 'recall_word': 0.997426, 'acc_grapheme': 0.997558, 'acc_vowel': 0.998878, 'acc_consonant': 0.999452, 'acc_word': 0.997383, 'loss_grapheme': 0.011828, 'loss_vowel': 0.006312, 'loss_consonant': 0.002348, 'loss_word': 0.012956}\n",
      "   14 | 0.000238 | 160640/160716 | 0.3471 | 5.5145 | 16.05 ||\n",
      "val: {'recall': 0.99784, 'recall_grapheme': 0.996568, 'recall_vowel': 0.99885, 'recall_consonant': 0.999372, 'recall_word': 0.996157, 'acc_grapheme': 0.996386, 'acc_vowel': 0.99853, 'acc_consonant': 0.999128, 'acc_word': 0.996187, 'loss_grapheme': 0.0159, 'loss_vowel': 0.007829, 'loss_consonant': 0.003677, 'loss_word': 0.016348}\n",
      "   15 | 0.000230 | 160640/160716 | 1.8412 | 5.4672 | 16.06 ||"
     ]
    },
    {
     "name": "stderr",
     "output_type": "stream",
     "text": [
      "\r",
      "  0%|          | 0/1255 [00:00<?, ?it/s]"
     ]
    },
    {
     "name": "stdout",
     "output_type": "stream",
     "text": [
      "\n",
      "val: {'recall': 0.996671, 'recall_grapheme': 0.995455, 'recall_vowel': 0.997886, 'recall_consonant': 0.997888, 'recall_word': 0.995511, 'acc_grapheme': 0.995713, 'acc_vowel': 0.998206, 'acc_consonant': 0.998629, 'acc_word': 0.995589, 'loss_grapheme': 0.018582, 'loss_vowel': 0.008699, 'loss_consonant': 0.00577, 'loss_word': 0.019296}\n",
      "SWA>>>:\n"
     ]
    },
    {
     "name": "stderr",
     "output_type": "stream",
     "text": [
      "100%|██████████| 1255/1255 [08:32<00:00,  2.30it/s]\n"
     ]
    },
    {
     "name": "stdout",
     "output_type": "stream",
     "text": [
      "\n",
      "val: {'recall': 0.998269, 'recall_grapheme': 0.997405, 'recall_vowel': 0.998612, 'recall_consonant': 0.999655, 'recall_word': 0.997403, 'acc_grapheme': 0.997558, 'acc_vowel': 0.998754, 'acc_consonant': 0.999427, 'acc_word': 0.997408, 'loss_grapheme': 0.011518, 'loss_vowel': 0.006268, 'loss_consonant': 0.002487, 'loss_word': 0.012579}\n",
      "   16 | 0.000222 | 160640/160716 | 2.6604 | 5.5776 | 16.06 ||\n",
      "val: {'recall': 0.99736, 'recall_grapheme': 0.996393, 'recall_vowel': 0.998284, 'recall_consonant': 0.998369, 'recall_word': 0.996448, 'acc_grapheme': 0.996486, 'acc_vowel': 0.998355, 'acc_consonant': 0.998829, 'acc_word': 0.996436, 'loss_grapheme': 0.01643, 'loss_vowel': 0.008154, 'loss_consonant': 0.004427, 'loss_word': 0.017147}\n",
      "   17 | 0.000214 | 160640/160716 | 15.8123 | 5.0732 | 16.11 |"
     ]
    },
    {
     "name": "stderr",
     "output_type": "stream",
     "text": [
      "\r",
      "  0%|          | 0/1255 [00:00<?, ?it/s]"
     ]
    },
    {
     "name": "stdout",
     "output_type": "stream",
     "text": [
      "\n",
      "val: {'recall': 0.997399, 'recall_grapheme': 0.996385, 'recall_vowel': 0.998242, 'recall_consonant': 0.998584, 'recall_word': 0.996009, 'acc_grapheme': 0.996386, 'acc_vowel': 0.99833, 'acc_consonant': 0.998804, 'acc_word': 0.996037, 'loss_grapheme': 0.017644, 'loss_vowel': 0.007433, 'loss_consonant': 0.004672, 'loss_word': 0.018}\n",
      "SWA>>>:\n"
     ]
    },
    {
     "name": "stderr",
     "output_type": "stream",
     "text": [
      "100%|██████████| 1255/1255 [08:43<00:00,  2.43it/s]\n"
     ]
    },
    {
     "name": "stdout",
     "output_type": "stream",
     "text": [
      "\n",
      "val: {'recall': 0.998407, 'recall_grapheme': 0.99764, 'recall_vowel': 0.998681, 'recall_consonant': 0.999666, 'recall_word': 0.997379, 'acc_grapheme': 0.997707, 'acc_vowel': 0.998754, 'acc_consonant': 0.999477, 'acc_word': 0.997358, 'loss_grapheme': 0.01134, 'loss_vowel': 0.005986, 'loss_consonant': 0.002358, 'loss_word': 0.012217}\n",
      "   18 | 0.000205 | 160640/160716 | 11.9932 | 5.2639 | 16.12 |\n",
      "val: {'recall': 0.997502, 'recall_grapheme': 0.996274, 'recall_vowel': 0.998148, 'recall_consonant': 0.999315, 'recall_word': 0.996095, 'acc_grapheme': 0.996287, 'acc_vowel': 0.998405, 'acc_consonant': 0.999103, 'acc_word': 0.996087, 'loss_grapheme': 0.017495, 'loss_vowel': 0.008109, 'loss_consonant': 0.004539, 'loss_word': 0.017828}\n",
      "   19 | 0.000196 | 160640/160716 | 12.1270 | 5.3155 | 16.08 |"
     ]
    },
    {
     "name": "stderr",
     "output_type": "stream",
     "text": [
      "\r",
      "  0%|          | 0/1255 [00:00<?, ?it/s]"
     ]
    },
    {
     "name": "stdout",
     "output_type": "stream",
     "text": [
      "\n",
      "val: {'recall': 0.997252, 'recall_grapheme': 0.996814, 'recall_vowel': 0.997523, 'recall_consonant': 0.997854, 'recall_word': 0.995928, 'acc_grapheme': 0.996536, 'acc_vowel': 0.997582, 'acc_consonant': 0.998953, 'acc_word': 0.995663, 'loss_grapheme': 0.017319, 'loss_vowel': 0.010803, 'loss_consonant': 0.004248, 'loss_word': 0.018817}\n",
      "SWA>>>:\n"
     ]
    },
    {
     "name": "stderr",
     "output_type": "stream",
     "text": [
      "100%|██████████| 1255/1255 [08:28<00:00,  2.39it/s]\n"
     ]
    },
    {
     "name": "stdout",
     "output_type": "stream",
     "text": [
      "\n",
      "val: {'recall': 0.998456, 'recall_grapheme': 0.997696, 'recall_vowel': 0.998795, 'recall_consonant': 0.999639, 'recall_word': 0.99746, 'acc_grapheme': 0.997732, 'acc_vowel': 0.998804, 'acc_consonant': 0.999477, 'acc_word': 0.997433, 'loss_grapheme': 0.011272, 'loss_vowel': 0.005925, 'loss_consonant': 0.002281, 'loss_word': 0.012134}\n",
      "   20 | 0.000187 | 160640/160716 | 0.0737 | 5.3117 | 16.05 ||\n",
      "val: {'recall': 0.997434, 'recall_grapheme': 0.995993, 'recall_vowel': 0.998636, 'recall_consonant': 0.999117, 'recall_word': 0.995592, 'acc_grapheme': 0.996162, 'acc_vowel': 0.998405, 'acc_consonant': 0.998928, 'acc_word': 0.995564, 'loss_grapheme': 0.017545, 'loss_vowel': 0.008295, 'loss_consonant': 0.003748, 'loss_word': 0.018542}\n",
      "   21 | 0.000178 | 160640/160716 | 3.6846 | 5.2597 | 16.05 ||"
     ]
    },
    {
     "name": "stderr",
     "output_type": "stream",
     "text": [
      "\r",
      "  0%|          | 0/1255 [00:00<?, ?it/s]"
     ]
    },
    {
     "name": "stdout",
     "output_type": "stream",
     "text": [
      "\n",
      "val: {'recall': 0.997413, 'recall_grapheme': 0.996226, 'recall_vowel': 0.998158, 'recall_consonant': 0.999041, 'recall_word': 0.995715, 'acc_grapheme': 0.996212, 'acc_vowel': 0.99833, 'acc_consonant': 0.998854, 'acc_word': 0.995788, 'loss_grapheme': 0.018031, 'loss_vowel': 0.009006, 'loss_consonant': 0.004541, 'loss_word': 0.019222}\n",
      "SWA>>>:\n"
     ]
    },
    {
     "name": "stderr",
     "output_type": "stream",
     "text": [
      "100%|██████████| 1255/1255 [08:41<00:00,  2.32it/s]\n"
     ]
    },
    {
     "name": "stdout",
     "output_type": "stream",
     "text": [
      "\n",
      "val: {'recall': 0.998482, 'recall_grapheme': 0.997753, 'recall_vowel': 0.998778, 'recall_consonant': 0.999644, 'recall_word': 0.997521, 'acc_grapheme': 0.997732, 'acc_vowel': 0.998779, 'acc_consonant': 0.999502, 'acc_word': 0.997508, 'loss_grapheme': 0.011234, 'loss_vowel': 0.005853, 'loss_consonant': 0.002295, 'loss_word': 0.012114}\n",
      "   22 | 0.000169 | 160640/160716 | 16.0230 | 5.2556 | 16.11 |\n",
      "val: {'recall': 0.99773, 'recall_grapheme': 0.996721, 'recall_vowel': 0.998459, 'recall_consonant': 0.999021, 'recall_word': 0.996348, 'acc_grapheme': 0.996536, 'acc_vowel': 0.998505, 'acc_consonant': 0.999028, 'acc_word': 0.996386, 'loss_grapheme': 0.016491, 'loss_vowel': 0.008414, 'loss_consonant': 0.004069, 'loss_word': 0.01733}\n",
      "   23 | 0.000159 | 160640/160716 | 0.4771 | 5.1352 | 16.10 ||"
     ]
    },
    {
     "name": "stderr",
     "output_type": "stream",
     "text": [
      "\r",
      "  0%|          | 0/1255 [00:00<?, ?it/s]"
     ]
    },
    {
     "name": "stdout",
     "output_type": "stream",
     "text": [
      "\n",
      "val: {'recall': 0.997767, 'recall_grapheme': 0.996743, 'recall_vowel': 0.998276, 'recall_consonant': 0.999305, 'recall_word': 0.996555, 'acc_grapheme': 0.996685, 'acc_vowel': 0.99843, 'acc_consonant': 0.999078, 'acc_word': 0.996536, 'loss_grapheme': 0.015842, 'loss_vowel': 0.007957, 'loss_consonant': 0.004414, 'loss_word': 0.01687}\n",
      "SWA>>>:\n"
     ]
    },
    {
     "name": "stderr",
     "output_type": "stream",
     "text": [
      "100%|██████████| 1255/1255 [08:38<00:00,  2.38it/s]\n"
     ]
    },
    {
     "name": "stdout",
     "output_type": "stream",
     "text": [
      "\n",
      "val: {'recall': 0.998518, 'recall_grapheme': 0.997844, 'recall_vowel': 0.998708, 'recall_consonant': 0.999678, 'recall_word': 0.997684, 'acc_grapheme': 0.997757, 'acc_vowel': 0.998779, 'acc_consonant': 0.999526, 'acc_word': 0.997657, 'loss_grapheme': 0.011229, 'loss_vowel': 0.00584, 'loss_consonant': 0.002278, 'loss_word': 0.012071}\n",
      "###>>>>> saved ./model4-ckps/tf_efficientnet_b4/model4_eb4_fold3_380.pth_swa\n",
      "   24 | 0.000150 | 160640/160716 | 14.5408 | 5.2286 | 16.14 |\n",
      "val: {'recall': 0.997873, 'recall_grapheme': 0.99689, 'recall_vowel': 0.998314, 'recall_consonant': 0.999399, 'recall_word': 0.996185, 'acc_grapheme': 0.99666, 'acc_vowel': 0.99848, 'acc_consonant': 0.999128, 'acc_word': 0.996187, 'loss_grapheme': 0.015515, 'loss_vowel': 0.007073, 'loss_consonant': 0.003943, 'loss_word': 0.015717}\n",
      "   25 | 0.000141 | 160640/160716 | 0.4484 | 5.3143 | 16.07 ||"
     ]
    },
    {
     "name": "stderr",
     "output_type": "stream",
     "text": [
      "\r",
      "  0%|          | 0/1255 [00:00<?, ?it/s]"
     ]
    },
    {
     "name": "stdout",
     "output_type": "stream",
     "text": [
      "\n",
      "val: {'recall': 0.99785, 'recall_grapheme': 0.996825, 'recall_vowel': 0.99839, 'recall_consonant': 0.999359, 'recall_word': 0.996567, 'acc_grapheme': 0.996785, 'acc_vowel': 0.99828, 'acc_consonant': 0.999227, 'acc_word': 0.996536, 'loss_grapheme': 0.01558, 'loss_vowel': 0.007513, 'loss_consonant': 0.003653, 'loss_word': 0.016288}\n",
      "SWA>>>:\n"
     ]
    },
    {
     "name": "stderr",
     "output_type": "stream",
     "text": [
      "100%|██████████| 1255/1255 [08:33<00:00,  2.27it/s]\n"
     ]
    },
    {
     "name": "stdout",
     "output_type": "stream",
     "text": [
      "\n",
      "val: {'recall': 0.998524, 'recall_grapheme': 0.997859, 'recall_vowel': 0.998708, 'recall_consonant': 0.999672, 'recall_word': 0.997566, 'acc_grapheme': 0.997782, 'acc_vowel': 0.998779, 'acc_consonant': 0.999502, 'acc_word': 0.997533, 'loss_grapheme': 0.011266, 'loss_vowel': 0.005879, 'loss_consonant': 0.002248, 'loss_word': 0.01208}\n",
      "###>>>>> saved ./model4-ckps/tf_efficientnet_b4/model4_eb4_fold3_380.pth_swa\n",
      "   26 | 0.000131 | 160640/160716 | 5.4508 | 5.1905 | 16.10 ||\n",
      "val: {'recall': 0.99799, 'recall_grapheme': 0.997105, 'recall_vowel': 0.998451, 'recall_consonant': 0.9993, 'recall_word': 0.996095, 'acc_grapheme': 0.99681, 'acc_vowel': 0.99843, 'acc_consonant': 0.998928, 'acc_word': 0.996137, 'loss_grapheme': 0.016655, 'loss_vowel': 0.007651, 'loss_consonant': 0.004298, 'loss_word': 0.018038}\n",
      "   27 | 0.000122 | 160640/160716 | 12.4592 | 5.3977 | 16.09 |"
     ]
    },
    {
     "name": "stderr",
     "output_type": "stream",
     "text": [
      "\r",
      "  0%|          | 0/1255 [00:00<?, ?it/s]"
     ]
    },
    {
     "name": "stdout",
     "output_type": "stream",
     "text": [
      "\n",
      "val: {'recall': 0.998046, 'recall_grapheme': 0.997158, 'recall_vowel': 0.998521, 'recall_consonant': 0.999349, 'recall_word': 0.996664, 'acc_grapheme': 0.996935, 'acc_vowel': 0.998505, 'acc_consonant': 0.999128, 'acc_word': 0.996635, 'loss_grapheme': 0.017051, 'loss_vowel': 0.00898, 'loss_consonant': 0.00475, 'loss_word': 0.017172}\n",
      "SWA>>>:\n"
     ]
    },
    {
     "name": "stderr",
     "output_type": "stream",
     "text": [
      "100%|██████████| 1255/1255 [08:30<00:00,  2.34it/s]\n"
     ]
    },
    {
     "name": "stdout",
     "output_type": "stream",
     "text": [
      "\n",
      "val: {'recall': 0.99857, 'recall_grapheme': 0.997908, 'recall_vowel': 0.998794, 'recall_consonant': 0.999672, 'recall_word': 0.997609, 'acc_grapheme': 0.997782, 'acc_vowel': 0.998804, 'acc_consonant': 0.999502, 'acc_word': 0.997582, 'loss_grapheme': 0.01127, 'loss_vowel': 0.005837, 'loss_consonant': 0.00223, 'loss_word': 0.012033}\n",
      "###>>>>> saved ./model4-ckps/tf_efficientnet_b4/model4_eb4_fold3_380.pth_swa\n",
      "   28 | 0.000113 | 160640/160716 | 0.8240 | 5.3540 | 16.08 ||\n",
      "val: {'recall': 0.997964, 'recall_grapheme': 0.996908, 'recall_vowel': 0.998607, 'recall_consonant': 0.999433, 'recall_word': 0.996375, 'acc_grapheme': 0.996685, 'acc_vowel': 0.998405, 'acc_consonant': 0.999153, 'acc_word': 0.996411, 'loss_grapheme': 0.01628, 'loss_vowel': 0.00843, 'loss_consonant': 0.003598, 'loss_word': 0.017308}\n",
      "   29 | 0.000104 | 160640/160716 | 3.5427 | 5.1854 | 16.11 ||"
     ]
    },
    {
     "name": "stderr",
     "output_type": "stream",
     "text": [
      "\r",
      "  0%|          | 0/1255 [00:00<?, ?it/s]"
     ]
    },
    {
     "name": "stdout",
     "output_type": "stream",
     "text": [
      "\n",
      "val: {'recall': 0.997792, 'recall_grapheme': 0.996707, 'recall_vowel': 0.998275, 'recall_consonant': 0.999477, 'recall_word': 0.99593, 'acc_grapheme': 0.996685, 'acc_vowel': 0.998181, 'acc_consonant': 0.999227, 'acc_word': 0.996012, 'loss_grapheme': 0.016549, 'loss_vowel': 0.00877, 'loss_consonant': 0.003773, 'loss_word': 0.017984}\n",
      "SWA>>>:\n"
     ]
    },
    {
     "name": "stderr",
     "output_type": "stream",
     "text": [
      "100%|██████████| 1255/1255 [08:31<00:00,  2.36it/s]\n"
     ]
    },
    {
     "name": "stdout",
     "output_type": "stream",
     "text": [
      "\n",
      "val: {'recall': 0.99855, 'recall_grapheme': 0.997863, 'recall_vowel': 0.998806, 'recall_consonant': 0.999666, 'recall_word': 0.997592, 'acc_grapheme': 0.997782, 'acc_vowel': 0.998804, 'acc_consonant': 0.999477, 'acc_word': 0.997558, 'loss_grapheme': 0.011258, 'loss_vowel': 0.005915, 'loss_consonant': 0.002205, 'loss_word': 0.012035}\n",
      "   30 | 0.000095 | 160640/160716 | 0.3515 | 5.2043 | 16.12 ||\n",
      "val: {'recall': 0.997969, 'recall_grapheme': 0.996945, 'recall_vowel': 0.99861, 'recall_consonant': 0.999377, 'recall_word': 0.996506, 'acc_grapheme': 0.996959, 'acc_vowel': 0.998505, 'acc_consonant': 0.999128, 'acc_word': 0.996561, 'loss_grapheme': 0.015022, 'loss_vowel': 0.007563, 'loss_consonant': 0.003652, 'loss_word': 0.01587}\n",
      "   31 | 0.000086 | 160640/160716 | 8.8605 | 5.0298 | 16.13 ||"
     ]
    },
    {
     "name": "stderr",
     "output_type": "stream",
     "text": [
      "\r",
      "  0%|          | 0/1255 [00:00<?, ?it/s]"
     ]
    },
    {
     "name": "stdout",
     "output_type": "stream",
     "text": [
      "\n",
      "val: {'recall': 0.997954, 'recall_grapheme': 0.996983, 'recall_vowel': 0.998349, 'recall_consonant': 0.999502, 'recall_word': 0.996655, 'acc_grapheme': 0.996959, 'acc_vowel': 0.99838, 'acc_consonant': 0.999352, 'acc_word': 0.99666, 'loss_grapheme': 0.015801, 'loss_vowel': 0.00839, 'loss_consonant': 0.003174, 'loss_word': 0.01699}\n",
      "SWA>>>:\n"
     ]
    },
    {
     "name": "stderr",
     "output_type": "stream",
     "text": [
      "100%|██████████| 1255/1255 [08:30<00:00,  2.34it/s]\n"
     ]
    },
    {
     "name": "stdout",
     "output_type": "stream",
     "text": [
      "\n",
      "val: {'recall': 0.998545, 'recall_grapheme': 0.997881, 'recall_vowel': 0.998721, 'recall_consonant': 0.9997, 'recall_word': 0.997534, 'acc_grapheme': 0.997757, 'acc_vowel': 0.998779, 'acc_consonant': 0.999502, 'acc_word': 0.997508, 'loss_grapheme': 0.011303, 'loss_vowel': 0.006018, 'loss_consonant': 0.002173, 'loss_word': 0.012114}\n",
      "   32 | 0.000078 | 160640/160716 | 0.6722 | 5.0400 | 16.11 ||\n",
      "val: {'recall': 0.997847, 'recall_grapheme': 0.996744, 'recall_vowel': 0.99848, 'recall_consonant': 0.99942, 'recall_word': 0.996333, 'acc_grapheme': 0.996635, 'acc_vowel': 0.998554, 'acc_consonant': 0.999128, 'acc_word': 0.996361, 'loss_grapheme': 0.016663, 'loss_vowel': 0.008271, 'loss_consonant': 0.003911, 'loss_word': 0.017654}\n",
      "   33 | 0.000070 | 160640/160716 | 6.9233 | 5.1518 | 16.11 ||"
     ]
    },
    {
     "name": "stderr",
     "output_type": "stream",
     "text": [
      "\r",
      "  0%|          | 0/1255 [00:00<?, ?it/s]"
     ]
    },
    {
     "name": "stdout",
     "output_type": "stream",
     "text": [
      "\n",
      "val: {'recall': 0.997836, 'recall_grapheme': 0.996742, 'recall_vowel': 0.998477, 'recall_consonant': 0.999381, 'recall_word': 0.996723, 'acc_grapheme': 0.996935, 'acc_vowel': 0.998405, 'acc_consonant': 0.999178, 'acc_word': 0.996735, 'loss_grapheme': 0.015752, 'loss_vowel': 0.008143, 'loss_consonant': 0.003521, 'loss_word': 0.017075}\n",
      "SWA>>>:\n"
     ]
    },
    {
     "name": "stderr",
     "output_type": "stream",
     "text": [
      "100%|██████████| 1255/1255 [08:42<00:00,  2.27it/s]\n"
     ]
    },
    {
     "name": "stdout",
     "output_type": "stream",
     "text": [
      "\n",
      "val: {'recall': 0.998566, 'recall_grapheme': 0.997872, 'recall_vowel': 0.998819, 'recall_consonant': 0.9997, 'recall_word': 0.99758, 'acc_grapheme': 0.997782, 'acc_vowel': 0.998829, 'acc_consonant': 0.999502, 'acc_word': 0.997558, 'loss_grapheme': 0.011263, 'loss_vowel': 0.006068, 'loss_consonant': 0.002155, 'loss_word': 0.012094}\n",
      "   34 | 0.000062 | 160640/160716 | 0.3612 | 5.0283 | 16.13 ||\n",
      "val: {'recall': 0.998127, 'recall_grapheme': 0.997118, 'recall_vowel': 0.998809, 'recall_consonant': 0.999463, 'recall_word': 0.996851, 'acc_grapheme': 0.997034, 'acc_vowel': 0.998654, 'acc_consonant': 0.999302, 'acc_word': 0.99686, 'loss_grapheme': 0.014864, 'loss_vowel': 0.007955, 'loss_consonant': 0.003343, 'loss_word': 0.015897}\n",
      "   35 | 0.000054 | 160640/160716 | 7.2340 | 5.0855 | 16.11 ||"
     ]
    },
    {
     "name": "stderr",
     "output_type": "stream",
     "text": [
      "\r",
      "  0%|          | 0/1255 [00:00<?, ?it/s]"
     ]
    },
    {
     "name": "stdout",
     "output_type": "stream",
     "text": [
      "\n",
      "val: {'recall': 0.998223, 'recall_grapheme': 0.99738, 'recall_vowel': 0.998863, 'recall_consonant': 0.999269, 'recall_word': 0.996903, 'acc_grapheme': 0.997234, 'acc_vowel': 0.998629, 'acc_consonant': 0.999153, 'acc_word': 0.996885, 'loss_grapheme': 0.014779, 'loss_vowel': 0.007705, 'loss_consonant': 0.003196, 'loss_word': 0.015804}\n",
      "SWA>>>:\n"
     ]
    },
    {
     "name": "stderr",
     "output_type": "stream",
     "text": [
      "100%|██████████| 1255/1255 [08:40<00:00,  2.31it/s]\n"
     ]
    },
    {
     "name": "stdout",
     "output_type": "stream",
     "text": [
      "\n",
      "val: {'recall': 0.998538, 'recall_grapheme': 0.997818, 'recall_vowel': 0.998819, 'recall_consonant': 0.9997, 'recall_word': 0.997602, 'acc_grapheme': 0.997757, 'acc_vowel': 0.998829, 'acc_consonant': 0.999502, 'acc_word': 0.997582, 'loss_grapheme': 0.011209, 'loss_vowel': 0.006007, 'loss_consonant': 0.002147, 'loss_word': 0.012036}\n",
      "   36 | 0.000047 | 160640/160716 | 6.2500 | 5.3409 | 16.12 ||\n",
      "val: {'recall': 0.997945, 'recall_grapheme': 0.997061, 'recall_vowel': 0.998397, 'recall_consonant': 0.999259, 'recall_word': 0.996747, 'acc_grapheme': 0.996984, 'acc_vowel': 0.998405, 'acc_consonant': 0.999128, 'acc_word': 0.996785, 'loss_grapheme': 0.015625, 'loss_vowel': 0.008049, 'loss_consonant': 0.003691, 'loss_word': 0.016892}\n",
      "   37 | 0.000041 | 160640/160716 | 0.2279 | 5.2630 | 16.13 ||"
     ]
    },
    {
     "name": "stderr",
     "output_type": "stream",
     "text": [
      "\r",
      "  0%|          | 0/1255 [00:00<?, ?it/s]"
     ]
    },
    {
     "name": "stdout",
     "output_type": "stream",
     "text": [
      "\n",
      "val: {'recall': 0.998071, 'recall_grapheme': 0.997039, 'recall_vowel': 0.998573, 'recall_consonant': 0.999632, 'recall_word': 0.996803, 'acc_grapheme': 0.997009, 'acc_vowel': 0.998554, 'acc_consonant': 0.999327, 'acc_word': 0.996835, 'loss_grapheme': 0.015373, 'loss_vowel': 0.007592, 'loss_consonant': 0.003083, 'loss_word': 0.016246}\n",
      "SWA>>>:\n"
     ]
    },
    {
     "name": "stderr",
     "output_type": "stream",
     "text": [
      "100%|██████████| 1255/1255 [08:35<00:00,  2.33it/s]\n"
     ]
    },
    {
     "name": "stdout",
     "output_type": "stream",
     "text": [
      "\n",
      "val: {'recall': 0.998539, 'recall_grapheme': 0.997805, 'recall_vowel': 0.998846, 'recall_consonant': 0.9997, 'recall_word': 0.997602, 'acc_grapheme': 0.997732, 'acc_vowel': 0.998854, 'acc_consonant': 0.999502, 'acc_word': 0.997582, 'loss_grapheme': 0.01124, 'loss_vowel': 0.00602, 'loss_consonant': 0.00216, 'loss_word': 0.012079}\n",
      "   38 | 0.000034 | 160640/160716 | 4.1157 | 5.2583 | 16.08 ||\n",
      "val: {'recall': 0.997863, 'recall_grapheme': 0.996857, 'recall_vowel': 0.998417, 'recall_consonant': 0.999318, 'recall_word': 0.996428, 'acc_grapheme': 0.99681, 'acc_vowel': 0.998405, 'acc_consonant': 0.999128, 'acc_word': 0.996436, 'loss_grapheme': 0.015862, 'loss_vowel': 0.008381, 'loss_consonant': 0.003228, 'loss_word': 0.017209}\n",
      "   39 | 0.000029 | 160640/160716 | 3.4274 | 5.2515 | 16.14 ||"
     ]
    },
    {
     "name": "stderr",
     "output_type": "stream",
     "text": [
      "\r",
      "  0%|          | 0/1255 [00:00<?, ?it/s]"
     ]
    },
    {
     "name": "stdout",
     "output_type": "stream",
     "text": [
      "\n",
      "val: {'recall': 0.997918, 'recall_grapheme': 0.996776, 'recall_vowel': 0.998631, 'recall_consonant': 0.999489, 'recall_word': 0.996776, 'acc_grapheme': 0.996984, 'acc_vowel': 0.998579, 'acc_consonant': 0.999302, 'acc_word': 0.99681, 'loss_grapheme': 0.015416, 'loss_vowel': 0.007891, 'loss_consonant': 0.003029, 'loss_word': 0.016762}\n",
      "SWA>>>:\n"
     ]
    },
    {
     "name": "stderr",
     "output_type": "stream",
     "text": [
      "100%|██████████| 1255/1255 [08:45<00:00,  2.35it/s]\n"
     ]
    },
    {
     "name": "stdout",
     "output_type": "stream",
     "text": [
      "\n",
      "val: {'recall': 0.998554, 'recall_grapheme': 0.997837, 'recall_vowel': 0.998875, 'recall_consonant': 0.999669, 'recall_word': 0.997595, 'acc_grapheme': 0.997782, 'acc_vowel': 0.998878, 'acc_consonant': 0.999477, 'acc_word': 0.997582, 'loss_grapheme': 0.011221, 'loss_vowel': 0.006036, 'loss_consonant': 0.002145, 'loss_word': 0.012089}\n",
      "   40 | 0.000023 | 160640/160716 | 3.8719 | 5.0517 | 16.11 ||\n",
      "val: {'recall': 0.998126, 'recall_grapheme': 0.997174, 'recall_vowel': 0.998672, 'recall_consonant': 0.999484, 'recall_word': 0.996761, 'acc_grapheme': 0.997109, 'acc_vowel': 0.99848, 'acc_consonant': 0.999277, 'acc_word': 0.99681, 'loss_grapheme': 0.015341, 'loss_vowel': 0.007959, 'loss_consonant': 0.002954, 'loss_word': 0.016735}\n",
      "   41 | 0.000019 | 160640/160716 | 4.3443 | 4.9051 | 16.14 ||"
     ]
    },
    {
     "name": "stderr",
     "output_type": "stream",
     "text": [
      "\r",
      "  0%|          | 0/1255 [00:00<?, ?it/s]"
     ]
    },
    {
     "name": "stdout",
     "output_type": "stream",
     "text": [
      "\n",
      "val: {'recall': 0.998053, 'recall_grapheme': 0.996967, 'recall_vowel': 0.998797, 'recall_consonant': 0.999479, 'recall_word': 0.996773, 'acc_grapheme': 0.997034, 'acc_vowel': 0.998505, 'acc_consonant': 0.999252, 'acc_word': 0.996835, 'loss_grapheme': 0.016114, 'loss_vowel': 0.008419, 'loss_consonant': 0.003258, 'loss_word': 0.017378}\n",
      "SWA>>>:\n"
     ]
    },
    {
     "name": "stderr",
     "output_type": "stream",
     "text": [
      "100%|██████████| 1255/1255 [08:41<00:00,  2.31it/s]\n"
     ]
    },
    {
     "name": "stdout",
     "output_type": "stream",
     "text": [
      "\n",
      "val: {'recall': 0.998558, 'recall_grapheme': 0.997837, 'recall_vowel': 0.998891, 'recall_consonant': 0.999669, 'recall_word': 0.9977, 'acc_grapheme': 0.997782, 'acc_vowel': 0.998903, 'acc_consonant': 0.999477, 'acc_word': 0.997682, 'loss_grapheme': 0.011156, 'loss_vowel': 0.006048, 'loss_consonant': 0.002149, 'loss_word': 0.012063}\n",
      "   42 | 0.000014 | 160640/160716 | 0.3771 | 4.8242 | 16.14 ||\n",
      "val: {'recall': 0.998467, 'recall_grapheme': 0.99772, 'recall_vowel': 0.998871, 'recall_consonant': 0.999558, 'recall_word': 0.99743, 'acc_grapheme': 0.997582, 'acc_vowel': 0.998704, 'acc_consonant': 0.999477, 'acc_word': 0.997458, 'loss_grapheme': 0.012791, 'loss_vowel': 0.006768, 'loss_consonant': 0.002529, 'loss_word': 0.01347}\n",
      "###>>>>> saved ./model4-ckps/tf_efficientnet_b4/model4_eb4_fold3_380.pth\n",
      "   43 | 0.000011 | 160640/160716 | 3.9523 | 4.9743 | 16.15 ||"
     ]
    },
    {
     "name": "stderr",
     "output_type": "stream",
     "text": [
      "\r",
      "  0%|          | 0/1255 [00:00<?, ?it/s]"
     ]
    },
    {
     "name": "stdout",
     "output_type": "stream",
     "text": [
      "\n",
      "val: {'recall': 0.998207, 'recall_grapheme': 0.997238, 'recall_vowel': 0.998828, 'recall_consonant': 0.999523, 'recall_word': 0.996918, 'acc_grapheme': 0.997159, 'acc_vowel': 0.998604, 'acc_consonant': 0.999327, 'acc_word': 0.996959, 'loss_grapheme': 0.014628, 'loss_vowel': 0.007673, 'loss_consonant': 0.002754, 'loss_word': 0.015494}\n",
      "SWA>>>:\n"
     ]
    },
    {
     "name": "stderr",
     "output_type": "stream",
     "text": [
      "100%|██████████| 1255/1255 [08:40<00:00,  2.34it/s]\n"
     ]
    },
    {
     "name": "stdout",
     "output_type": "stream",
     "text": [
      "\n",
      "val: {'recall': 0.998568, 'recall_grapheme': 0.997876, 'recall_vowel': 0.998848, 'recall_consonant': 0.999674, 'recall_word': 0.997676, 'acc_grapheme': 0.997832, 'acc_vowel': 0.998829, 'acc_consonant': 0.999502, 'acc_word': 0.997657, 'loss_grapheme': 0.011135, 'loss_vowel': 0.006058, 'loss_consonant': 0.002144, 'loss_word': 0.012055}\n",
      "   44 | 0.000007 | 160640/160716 | 0.5697 | 4.9785 | 16.18 ||\n",
      "val: {'recall': 0.998177, 'recall_grapheme': 0.997137, 'recall_vowel': 0.998833, 'recall_consonant': 0.999602, 'recall_word': 0.99685, 'acc_grapheme': 0.997134, 'acc_vowel': 0.998704, 'acc_consonant': 0.999427, 'acc_word': 0.996885, 'loss_grapheme': 0.014332, 'loss_vowel': 0.007566, 'loss_consonant': 0.002667, 'loss_word': 0.015301}\n",
      "   45 | 0.000005 | 160640/160716 | 0.0739 | 4.7403 | 16.22 ||"
     ]
    },
    {
     "name": "stderr",
     "output_type": "stream",
     "text": [
      "\r",
      "  0%|          | 0/1255 [00:00<?, ?it/s]"
     ]
    },
    {
     "name": "stdout",
     "output_type": "stream",
     "text": [
      "\n",
      "val: {'recall': 0.998363, 'recall_grapheme': 0.997425, 'recall_vowel': 0.998947, 'recall_consonant': 0.999653, 'recall_word': 0.997166, 'acc_grapheme': 0.997383, 'acc_vowel': 0.998804, 'acc_consonant': 0.999526, 'acc_word': 0.997209, 'loss_grapheme': 0.012887, 'loss_vowel': 0.006701, 'loss_consonant': 0.002318, 'loss_word': 0.013874}\n",
      "SWA>>>:\n"
     ]
    },
    {
     "name": "stderr",
     "output_type": "stream",
     "text": [
      "100%|██████████| 1255/1255 [08:39<00:00,  2.27it/s]\n"
     ]
    },
    {
     "name": "stdout",
     "output_type": "stream",
     "text": [
      "\n",
      "val: {'recall': 0.998582, 'recall_grapheme': 0.997895, 'recall_vowel': 0.998864, 'recall_consonant': 0.999674, 'recall_word': 0.997676, 'acc_grapheme': 0.997857, 'acc_vowel': 0.998854, 'acc_consonant': 0.999502, 'acc_word': 0.997657, 'loss_grapheme': 0.011109, 'loss_vowel': 0.00605, 'loss_consonant': 0.002146, 'loss_word': 0.012047}\n",
      "###>>>>> saved ./model4-ckps/tf_efficientnet_b4/model4_eb4_fold3_380.pth_swa\n",
      "   46 | 0.000003 | 160640/160716 | 0.0599 | 4.8403 | 16.15 ||\n",
      "val: {'recall': 0.998356, 'recall_grapheme': 0.997452, 'recall_vowel': 0.998853, 'recall_consonant': 0.999666, 'recall_word': 0.997137, 'acc_grapheme': 0.997333, 'acc_vowel': 0.998679, 'acc_consonant': 0.999477, 'acc_word': 0.997184, 'loss_grapheme': 0.013702, 'loss_vowel': 0.006931, 'loss_consonant': 0.002468, 'loss_word': 0.014774}\n",
      "   47 | 0.000001 | 160640/160716 | 0.4723 | 5.0340 | 16.13 ||"
     ]
    },
    {
     "name": "stderr",
     "output_type": "stream",
     "text": [
      "\r",
      "  0%|          | 0/1255 [00:00<?, ?it/s]"
     ]
    },
    {
     "name": "stdout",
     "output_type": "stream",
     "text": [
      "\n",
      "val: {'recall': 0.998401, 'recall_grapheme': 0.997593, 'recall_vowel': 0.998776, 'recall_consonant': 0.999641, 'recall_word': 0.997085, 'acc_grapheme': 0.997508, 'acc_vowel': 0.998654, 'acc_consonant': 0.999477, 'acc_word': 0.997134, 'loss_grapheme': 0.013401, 'loss_vowel': 0.007086, 'loss_consonant': 0.002666, 'loss_word': 0.014299}\n",
      "SWA>>>:\n"
     ]
    },
    {
     "name": "stderr",
     "output_type": "stream",
     "text": [
      "100%|██████████| 1255/1255 [08:36<00:00,  2.38it/s]\n"
     ]
    },
    {
     "name": "stdout",
     "output_type": "stream",
     "text": [
      "\n",
      "val: {'recall': 0.998585, 'recall_grapheme': 0.997886, 'recall_vowel': 0.998864, 'recall_consonant': 0.999705, 'recall_word': 0.997799, 'acc_grapheme': 0.997857, 'acc_vowel': 0.998854, 'acc_consonant': 0.999526, 'acc_word': 0.997782, 'loss_grapheme': 0.011071, 'loss_vowel': 0.006032, 'loss_consonant': 0.002132, 'loss_word': 0.012017}\n",
      "###>>>>> saved ./model4-ckps/tf_efficientnet_b4/model4_eb4_fold3_380.pth_swa\n",
      "   48 | 0.000000 | 160640/160716 | 0.5877 | 5.2533 | 16.12 ||\n",
      "val: {'recall': 0.998292, 'recall_grapheme': 0.997347, 'recall_vowel': 0.998857, 'recall_consonant': 0.999618, 'recall_word': 0.997044, 'acc_grapheme': 0.997234, 'acc_vowel': 0.998654, 'acc_consonant': 0.999377, 'acc_word': 0.997084, 'loss_grapheme': 0.013832, 'loss_vowel': 0.007252, 'loss_consonant': 0.002743, 'loss_word': 0.01471}\n",
      "   49 | 0.000000 | 160640/160716 | 0.0397 | 5.1841 | 16.10 ||"
     ]
    },
    {
     "name": "stderr",
     "output_type": "stream",
     "text": [
      "\r",
      "  0%|          | 0/1255 [00:00<?, ?it/s]"
     ]
    },
    {
     "name": "stdout",
     "output_type": "stream",
     "text": [
      "\n",
      "val: {'recall': 0.998167, 'recall_grapheme': 0.99721, 'recall_vowel': 0.998744, 'recall_consonant': 0.999507, 'recall_word': 0.996852, 'acc_grapheme': 0.997134, 'acc_vowel': 0.998554, 'acc_consonant': 0.999352, 'acc_word': 0.996885, 'loss_grapheme': 0.014699, 'loss_vowel': 0.007775, 'loss_consonant': 0.002981, 'loss_word': 0.015285}\n",
      "SWA>>>:\n"
     ]
    },
    {
     "name": "stderr",
     "output_type": "stream",
     "text": [
      "100%|██████████| 1255/1255 [08:36<00:00,  2.30it/s]\n"
     ]
    },
    {
     "name": "stdout",
     "output_type": "stream",
     "text": [
      "\n",
      "val: {'recall': 0.99859, 'recall_grapheme': 0.997891, 'recall_vowel': 0.998875, 'recall_consonant': 0.999705, 'recall_word': 0.997727, 'acc_grapheme': 0.997857, 'acc_vowel': 0.998878, 'acc_consonant': 0.999526, 'acc_word': 0.997707, 'loss_grapheme': 0.011106, 'loss_vowel': 0.006066, 'loss_consonant': 0.002153, 'loss_word': 0.012075}\n",
      "###>>>>> saved ./model4-ckps/tf_efficientnet_b4/model4_eb4_fold3_380.pth_swa\n",
      "CYCLE: 2\n",
      "    8 | 0.000277 | 160640/160716 | 10.1806 | 5.2999 | 16.13 |\n",
      "val: {'recall': 0.997233, 'recall_grapheme': 0.995683, 'recall_vowel': 0.998407, 'recall_consonant': 0.99916, 'recall_word': 0.995581, 'acc_grapheme': 0.995639, 'acc_vowel': 0.998255, 'acc_consonant': 0.999003, 'acc_word': 0.995564, 'loss_grapheme': 0.018449, 'loss_vowel': 0.008664, 'loss_consonant': 0.003902, 'loss_word': 0.018997}\n",
      "    9 | 0.000271 | 160640/160716 | 7.4838 | 5.4551 | 16.14 ||"
     ]
    },
    {
     "name": "stderr",
     "output_type": "stream",
     "text": [
      "\r",
      "  0%|          | 0/1255 [00:00<?, ?it/s]"
     ]
    },
    {
     "name": "stdout",
     "output_type": "stream",
     "text": [
      "\n",
      "val: {'recall': 0.997595, 'recall_grapheme': 0.996199, 'recall_vowel': 0.998607, 'recall_consonant': 0.999375, 'recall_word': 0.996147, 'acc_grapheme': 0.996411, 'acc_vowel': 0.998405, 'acc_consonant': 0.998928, 'acc_word': 0.996137, 'loss_grapheme': 0.017194, 'loss_vowel': 0.007709, 'loss_consonant': 0.005101, 'loss_word': 0.017654}\n",
      "SWA>>>:\n"
     ]
    },
    {
     "name": "stderr",
     "output_type": "stream",
     "text": [
      "100%|██████████| 1255/1255 [08:40<00:00,  2.29it/s]\n"
     ]
    },
    {
     "name": "stdout",
     "output_type": "stream",
     "text": [
      "\n",
      "val: {'recall': 0.998589, 'recall_grapheme': 0.997888, 'recall_vowel': 0.998875, 'recall_consonant': 0.999705, 'recall_word': 0.997811, 'acc_grapheme': 0.997857, 'acc_vowel': 0.998878, 'acc_consonant': 0.999526, 'acc_word': 0.997782, 'loss_grapheme': 0.011042, 'loss_vowel': 0.006001, 'loss_consonant': 0.002163, 'loss_word': 0.012028}\n",
      "   10 | 0.000266 | 160640/160716 | 1.4577 | 5.2489 | 16.14 ||\n",
      "val: {'recall': 0.997704, 'recall_grapheme': 0.996388, 'recall_vowel': 0.998795, 'recall_consonant': 0.999247, 'recall_word': 0.996381, 'acc_grapheme': 0.99671, 'acc_vowel': 0.998754, 'acc_consonant': 0.998928, 'acc_word': 0.996336, 'loss_grapheme': 0.019258, 'loss_vowel': 0.009315, 'loss_consonant': 0.006259, 'loss_word': 0.018882}\n",
      "   11 | 0.000263 | 063872/160716 | 12.7251 | 5.5997 | 6.42 |"
     ]
    },
    {
     "ename": "KeyboardInterrupt",
     "evalue": "",
     "output_type": "error",
     "traceback": [
      "\u001b[0;31m---------------------------------------------------------------------------\u001b[0m",
      "\u001b[0;31mKeyboardInterrupt\u001b[0m                         Traceback (most recent call last)",
      "\u001b[0;32m<ipython-input-39-aad596905035>\u001b[0m in \u001b[0;36m<module>\u001b[0;34m\u001b[0m\n\u001b[0;32m----> 1\u001b[0;31m \u001b[0mtrain\u001b[0m\u001b[0;34m(\u001b[0m\u001b[0margs\u001b[0m\u001b[0;34m)\u001b[0m\u001b[0;34m\u001b[0m\u001b[0;34m\u001b[0m\u001b[0m\n\u001b[0m",
      "\u001b[0;32m<ipython-input-32-188d9a179c09>\u001b[0m in \u001b[0;36mtrain\u001b[0;34m(args)\u001b[0m\n\u001b[1;32m     63\u001b[0m         \u001b[0;32mfor\u001b[0m \u001b[0mepoch\u001b[0m \u001b[0;32min\u001b[0m \u001b[0mrange\u001b[0m\u001b[0;34m(\u001b[0m\u001b[0margs\u001b[0m\u001b[0;34m.\u001b[0m\u001b[0mstart_epoch\u001b[0m\u001b[0;34m,\u001b[0m \u001b[0margs\u001b[0m\u001b[0;34m.\u001b[0m\u001b[0mnum_epochs\u001b[0m\u001b[0;34m)\u001b[0m\u001b[0;34m:\u001b[0m\u001b[0;34m\u001b[0m\u001b[0;34m\u001b[0m\u001b[0m\n\u001b[1;32m     64\u001b[0m             \u001b[0mgrid\u001b[0m\u001b[0;34m.\u001b[0m\u001b[0mset_prob\u001b[0m\u001b[0;34m(\u001b[0m\u001b[0mepoch\u001b[0m\u001b[0;34m,\u001b[0m \u001b[0margs\u001b[0m\u001b[0;34m.\u001b[0m\u001b[0mst_epochs\u001b[0m\u001b[0;34m)\u001b[0m\u001b[0;34m\u001b[0m\u001b[0;34m\u001b[0m\u001b[0m\n\u001b[0;32m---> 65\u001b[0;31m             \u001b[0mtrain_epoch\u001b[0m\u001b[0;34m(\u001b[0m\u001b[0margs\u001b[0m\u001b[0;34m,\u001b[0m \u001b[0mmodel\u001b[0m\u001b[0;34m,\u001b[0m \u001b[0mtrain_loader\u001b[0m\u001b[0;34m,\u001b[0m \u001b[0mepoch\u001b[0m\u001b[0;34m,\u001b[0m \u001b[0moptimizer\u001b[0m\u001b[0;34m,\u001b[0m \u001b[0mlr_scheduler\u001b[0m\u001b[0;34m,\u001b[0m \u001b[0mgrid\u001b[0m\u001b[0;34m)\u001b[0m\u001b[0;34m\u001b[0m\u001b[0;34m\u001b[0m\u001b[0m\n\u001b[0m\u001b[1;32m     66\u001b[0m             \u001b[0mvalidate_and_save\u001b[0m\u001b[0;34m(\u001b[0m\u001b[0mmodel\u001b[0m\u001b[0;34m,\u001b[0m \u001b[0mmodel_file\u001b[0m\u001b[0;34m,\u001b[0m \u001b[0mval_loader\u001b[0m\u001b[0;34m,\u001b[0m \u001b[0msave\u001b[0m\u001b[0;34m=\u001b[0m\u001b[0;32mTrue\u001b[0m\u001b[0;34m)\u001b[0m\u001b[0;34m\u001b[0m\u001b[0;34m\u001b[0m\u001b[0m\n\u001b[1;32m     67\u001b[0m \u001b[0;34m\u001b[0m\u001b[0m\n",
      "\u001b[0;32m<ipython-input-31-16e5a4d95497>\u001b[0m in \u001b[0;36mtrain_epoch\u001b[0;34m(args, model, train_loader, epoch, optimizer, lr_scheduler, grid)\u001b[0m\n\u001b[1;32m     48\u001b[0m         \u001b[0;31m#loss.backward()\u001b[0m\u001b[0;34m\u001b[0m\u001b[0;34m\u001b[0m\u001b[0;34m\u001b[0m\u001b[0m\n\u001b[1;32m     49\u001b[0m         \u001b[0mlr_scheduler\u001b[0m\u001b[0;34m(\u001b[0m\u001b[0moptimizer\u001b[0m\u001b[0;34m,\u001b[0m \u001b[0mbatch_idx\u001b[0m\u001b[0;34m,\u001b[0m \u001b[0mepoch\u001b[0m\u001b[0;34m)\u001b[0m\u001b[0;34m\u001b[0m\u001b[0;34m\u001b[0m\u001b[0m\n\u001b[0;32m---> 50\u001b[0;31m         \u001b[0moptimizer\u001b[0m\u001b[0;34m.\u001b[0m\u001b[0mstep\u001b[0m\u001b[0;34m(\u001b[0m\u001b[0;34m)\u001b[0m\u001b[0;34m\u001b[0m\u001b[0;34m\u001b[0m\u001b[0m\n\u001b[0m\u001b[1;32m     51\u001b[0m \u001b[0;34m\u001b[0m\u001b[0m\n\u001b[1;32m     52\u001b[0m         \u001b[0mcurrent_lr\u001b[0m \u001b[0;34m=\u001b[0m \u001b[0mget_lrs\u001b[0m\u001b[0;34m(\u001b[0m\u001b[0moptimizer\u001b[0m\u001b[0;34m)\u001b[0m\u001b[0;34m\u001b[0m\u001b[0;34m\u001b[0m\u001b[0m\n",
      "\u001b[0;32m~/anaconda3/lib/python3.7/site-packages/apex/amp/_initialize.py\u001b[0m in \u001b[0;36mnew_step\u001b[0;34m(self, *args, **kwargs)\u001b[0m\n\u001b[1;32m    240\u001b[0m                 \u001b[0;32mdef\u001b[0m \u001b[0mnew_step\u001b[0m\u001b[0;34m(\u001b[0m\u001b[0mself\u001b[0m\u001b[0;34m,\u001b[0m \u001b[0;34m*\u001b[0m\u001b[0margs\u001b[0m\u001b[0;34m,\u001b[0m \u001b[0;34m**\u001b[0m\u001b[0mkwargs\u001b[0m\u001b[0;34m)\u001b[0m\u001b[0;34m:\u001b[0m\u001b[0;34m\u001b[0m\u001b[0;34m\u001b[0m\u001b[0m\n\u001b[1;32m    241\u001b[0m                     \u001b[0;32mwith\u001b[0m \u001b[0mdisable_casts\u001b[0m\u001b[0;34m(\u001b[0m\u001b[0;34m)\u001b[0m\u001b[0;34m:\u001b[0m\u001b[0;34m\u001b[0m\u001b[0;34m\u001b[0m\u001b[0m\n\u001b[0;32m--> 242\u001b[0;31m                         \u001b[0moutput\u001b[0m \u001b[0;34m=\u001b[0m \u001b[0mold_step\u001b[0m\u001b[0;34m(\u001b[0m\u001b[0;34m*\u001b[0m\u001b[0margs\u001b[0m\u001b[0;34m,\u001b[0m \u001b[0;34m**\u001b[0m\u001b[0mkwargs\u001b[0m\u001b[0;34m)\u001b[0m\u001b[0;34m\u001b[0m\u001b[0;34m\u001b[0m\u001b[0m\n\u001b[0m\u001b[1;32m    243\u001b[0m                     \u001b[0;32mreturn\u001b[0m \u001b[0moutput\u001b[0m\u001b[0;34m\u001b[0m\u001b[0;34m\u001b[0m\u001b[0m\n\u001b[1;32m    244\u001b[0m                 \u001b[0;32mreturn\u001b[0m \u001b[0mnew_step\u001b[0m\u001b[0;34m\u001b[0m\u001b[0;34m\u001b[0m\u001b[0m\n",
      "\u001b[0;32m~/anaconda3/lib/python3.7/site-packages/torch/optim/adamw.py\u001b[0m in \u001b[0;36mstep\u001b[0;34m(self, closure)\u001b[0m\n\u001b[1;32m    104\u001b[0m                     \u001b[0mdenom\u001b[0m \u001b[0;34m=\u001b[0m \u001b[0mmax_exp_avg_sq\u001b[0m\u001b[0;34m.\u001b[0m\u001b[0msqrt\u001b[0m\u001b[0;34m(\u001b[0m\u001b[0;34m)\u001b[0m\u001b[0;34m.\u001b[0m\u001b[0madd_\u001b[0m\u001b[0;34m(\u001b[0m\u001b[0mgroup\u001b[0m\u001b[0;34m[\u001b[0m\u001b[0;34m'eps'\u001b[0m\u001b[0;34m]\u001b[0m\u001b[0;34m)\u001b[0m\u001b[0;34m\u001b[0m\u001b[0;34m\u001b[0m\u001b[0m\n\u001b[1;32m    105\u001b[0m                 \u001b[0;32melse\u001b[0m\u001b[0;34m:\u001b[0m\u001b[0;34m\u001b[0m\u001b[0;34m\u001b[0m\u001b[0m\n\u001b[0;32m--> 106\u001b[0;31m                     \u001b[0mdenom\u001b[0m \u001b[0;34m=\u001b[0m \u001b[0mexp_avg_sq\u001b[0m\u001b[0;34m.\u001b[0m\u001b[0msqrt\u001b[0m\u001b[0;34m(\u001b[0m\u001b[0;34m)\u001b[0m\u001b[0;34m.\u001b[0m\u001b[0madd_\u001b[0m\u001b[0;34m(\u001b[0m\u001b[0mgroup\u001b[0m\u001b[0;34m[\u001b[0m\u001b[0;34m'eps'\u001b[0m\u001b[0;34m]\u001b[0m\u001b[0;34m)\u001b[0m\u001b[0;34m\u001b[0m\u001b[0;34m\u001b[0m\u001b[0m\n\u001b[0m\u001b[1;32m    107\u001b[0m \u001b[0;34m\u001b[0m\u001b[0m\n\u001b[1;32m    108\u001b[0m                 \u001b[0mbias_correction1\u001b[0m \u001b[0;34m=\u001b[0m \u001b[0;36m1\u001b[0m \u001b[0;34m-\u001b[0m \u001b[0mbeta1\u001b[0m \u001b[0;34m**\u001b[0m \u001b[0mstate\u001b[0m\u001b[0;34m[\u001b[0m\u001b[0;34m'step'\u001b[0m\u001b[0;34m]\u001b[0m\u001b[0;34m\u001b[0m\u001b[0;34m\u001b[0m\u001b[0m\n",
      "\u001b[0;31mKeyboardInterrupt\u001b[0m: "
     ]
    }
   ],
   "source": [
    "train(args)"
   ]
  },
  {
   "cell_type": "code",
   "execution_count": null,
   "metadata": {},
   "outputs": [],
   "source": []
  },
  {
   "cell_type": "code",
   "execution_count": null,
   "metadata": {},
   "outputs": [
    {
     "name": "stdout",
     "output_type": "stream",
     "text": [
      "model file: ./model4-ckps/tf_efficientnet_b4/model4_eb4_fold3_380.pth, exist: True\n",
      "loading ./model4-ckps/tf_efficientnet_b4/model4_eb4_fold3_380.pth...\n",
      "model file: ./model4-ckps/tf_efficientnet_b4/model4_eb4_fold3_380.pth_swa, exist: False\n",
      "\n",
      "val: {'recall': 0.998018, 'recall_grapheme': 0.997036, 'recall_vowel': 0.998639, 'recall_consonant': 0.999361, 'recall_word': 0.996448, 'acc_grapheme': 0.99691, 'acc_vowel': 0.998629, 'acc_consonant': 0.999202, 'acc_word': 0.996461, 'loss_grapheme': 0.014569, 'loss_vowel': 0.006717, 'loss_consonant': 0.003164, 'loss_word': 0.015258}\n",
      "CYCLE: 1\n",
      "    0 | 0.000150 | 160640/160716 | 12.2697 | 5.3472 | 14.08 |\n",
      "val: {'recall': 0.998146, 'recall_grapheme': 0.997216, 'recall_vowel': 0.998845, 'recall_consonant': 0.999307, 'recall_word': 0.996611, 'acc_grapheme': 0.996959, 'acc_vowel': 0.998579, 'acc_consonant': 0.999103, 'acc_word': 0.996685, 'loss_grapheme': 0.01638, 'loss_vowel': 0.007743, 'loss_consonant': 0.004658, 'loss_word': 0.016503}\n",
      "###>>>>> saved ./model4-ckps/tf_efficientnet_b4/model4_eb4_fold3_380.pth\n",
      "    1 | 0.000299 | 160640/160716 | 12.9665 | 5.6522 | 14.20 |\n",
      "val: {'recall': 0.99755, 'recall_grapheme': 0.996485, 'recall_vowel': 0.998455, 'recall_consonant': 0.998777, 'recall_word': 0.995428, 'acc_grapheme': 0.995963, 'acc_vowel': 0.998255, 'acc_consonant': 0.998505, 'acc_word': 0.995439, 'loss_grapheme': 0.025765, 'loss_vowel': 0.01383, 'loss_consonant': 0.009227, 'loss_word': 0.024252}\n",
      "    2 | 0.000297 | 160640/160716 | 4.9592 | 5.6687 | 14.28 ||\n",
      "val: {'recall': 0.996995, 'recall_grapheme': 0.995549, 'recall_vowel': 0.998187, 'recall_consonant': 0.998695, 'recall_word': 0.99533, 'acc_grapheme': 0.995738, 'acc_vowel': 0.998255, 'acc_consonant': 0.998604, 'acc_word': 0.99524, 'loss_grapheme': 0.027927, 'loss_vowel': 0.015563, 'loss_consonant': 0.010918, 'loss_word': 0.026089}\n",
      "    3 | 0.000295 | 160640/160716 | 3.8790 | 5.7793 | 14.37 ||\n",
      "val: {'recall': 0.997179, 'recall_grapheme': 0.995812, 'recall_vowel': 0.998137, 'recall_consonant': 0.998955, 'recall_word': 0.995159, 'acc_grapheme': 0.995639, 'acc_vowel': 0.998131, 'acc_consonant': 0.998455, 'acc_word': 0.99509, 'loss_grapheme': 0.021337, 'loss_vowel': 0.010139, 'loss_consonant': 0.007061, 'loss_word': 0.022818}\n",
      "    4 | 0.000293 | 160640/160716 | 8.2601 | 5.6079 | 14.51 ||\n",
      "val: {'recall': 0.996929, 'recall_grapheme': 0.995485, 'recall_vowel': 0.997873, 'recall_consonant': 0.998873, 'recall_word': 0.995671, 'acc_grapheme': 0.995863, 'acc_vowel': 0.998031, 'acc_consonant': 0.998579, 'acc_word': 0.995663, 'loss_grapheme': 0.018484, 'loss_vowel': 0.008862, 'loss_consonant': 0.006309, 'loss_word': 0.019878}\n",
      "    5 | 0.000289 | 160640/160716 | 10.9203 | 5.8765 | 14.60 |\n",
      "val: {'recall': 0.997344, 'recall_grapheme': 0.996268, 'recall_vowel': 0.998127, 'recall_consonant': 0.998712, 'recall_word': 0.995763, 'acc_grapheme': 0.996162, 'acc_vowel': 0.998206, 'acc_consonant': 0.998629, 'acc_word': 0.995763, 'loss_grapheme': 0.019528, 'loss_vowel': 0.010493, 'loss_consonant': 0.007059, 'loss_word': 0.019761}\n",
      "    6 | 0.000286 | 160640/160716 | 0.2592 | 5.7147 | 14.66 ||\n",
      "val: {'recall': 0.996812, 'recall_grapheme': 0.995755, 'recall_vowel': 0.997485, 'recall_consonant': 0.998251, 'recall_word': 0.995195, 'acc_grapheme': 0.995489, 'acc_vowel': 0.998006, 'acc_consonant': 0.998505, 'acc_word': 0.995115, 'loss_grapheme': 0.020759, 'loss_vowel': 0.01096, 'loss_consonant': 0.007042, 'loss_word': 0.021817}\n",
      "    7 | 0.000281 | 160640/160716 | 16.9169 | 5.9009 | 14.64 |\n",
      "val: {'recall': 0.996841, 'recall_grapheme': 0.99573, 'recall_vowel': 0.998075, 'recall_consonant': 0.997828, 'recall_word': 0.995664, 'acc_grapheme': 0.995738, 'acc_vowel': 0.998106, 'acc_consonant': 0.998779, 'acc_word': 0.995589, 'loss_grapheme': 0.023501, 'loss_vowel': 0.01211, 'loss_consonant': 0.00692, 'loss_word': 0.02103}\n",
      "    8 | 0.000277 | 160640/160716 | 3.6382 | 5.6776 | 14.63 ||\n",
      "val: {'recall': 0.99727, 'recall_grapheme': 0.996015, 'recall_vowel': 0.998039, 'recall_consonant': 0.999012, 'recall_word': 0.995714, 'acc_grapheme': 0.996237, 'acc_vowel': 0.998156, 'acc_consonant': 0.998629, 'acc_word': 0.995688, 'loss_grapheme': 0.017557, 'loss_vowel': 0.009562, 'loss_consonant': 0.005275, 'loss_word': 0.01938}\n",
      "    9 | 0.000271 | 160640/160716 | 0.4613 | 5.7509 | 14.58 ||"
     ]
    },
    {
     "name": "stderr",
     "output_type": "stream",
     "text": [
      "\r",
      "  0%|          | 0/1255 [00:00<?, ?it/s]"
     ]
    },
    {
     "name": "stdout",
     "output_type": "stream",
     "text": [
      "\n",
      "val: {'recall': 0.99752, 'recall_grapheme': 0.996393, 'recall_vowel': 0.998183, 'recall_consonant': 0.99911, 'recall_word': 0.995869, 'acc_grapheme': 0.996187, 'acc_vowel': 0.99823, 'acc_consonant': 0.998878, 'acc_word': 0.995838, 'loss_grapheme': 0.021373, 'loss_vowel': 0.012239, 'loss_consonant': 0.007318, 'loss_word': 0.020206}\n",
      "SWA>>>:\n"
     ]
    },
    {
     "name": "stderr",
     "output_type": "stream",
     "text": [
      "100%|██████████| 1255/1255 [07:33<00:00,  2.68it/s]\n"
     ]
    },
    {
     "name": "stdout",
     "output_type": "stream",
     "text": [
      "\n",
      "val: {'recall': 0.997533, 'recall_grapheme': 0.996394, 'recall_vowel': 0.998198, 'recall_consonant': 0.999147, 'recall_word': 0.996213, 'acc_grapheme': 0.996361, 'acc_vowel': 0.998255, 'acc_consonant': 0.998903, 'acc_word': 0.996112, 'loss_grapheme': 0.015758, 'loss_vowel': 0.008725, 'loss_consonant': 0.00417, 'loss_word': 0.017115}\n",
      "###>>>>> saved ./model4-ckps/tf_efficientnet_b4/model4_eb4_fold3_380.pth_swa\n",
      "   10 | 0.000266 | 160640/160716 | 0.7321 | 5.7232 | 14.63 ||\n",
      "val: {'recall': 0.996911, 'recall_grapheme': 0.99547, 'recall_vowel': 0.998028, 'recall_consonant': 0.998674, 'recall_word': 0.995199, 'acc_grapheme': 0.995514, 'acc_vowel': 0.998081, 'acc_consonant': 0.998604, 'acc_word': 0.99509, 'loss_grapheme': 0.021331, 'loss_vowel': 0.010744, 'loss_consonant': 0.006966, 'loss_word': 0.022242}\n",
      "   11 | 0.000259 | 160640/160716 | 5.5887 | 5.7066 | 14.59 ||"
     ]
    },
    {
     "name": "stderr",
     "output_type": "stream",
     "text": [
      "\r",
      "  0%|          | 0/1255 [00:00<?, ?it/s]"
     ]
    },
    {
     "name": "stdout",
     "output_type": "stream",
     "text": [
      "\n",
      "val: {'recall': 0.997106, 'recall_grapheme': 0.995695, 'recall_vowel': 0.998054, 'recall_consonant': 0.998979, 'recall_word': 0.995321, 'acc_grapheme': 0.995813, 'acc_vowel': 0.998131, 'acc_consonant': 0.998804, 'acc_word': 0.995265, 'loss_grapheme': 0.021846, 'loss_vowel': 0.012191, 'loss_consonant': 0.007208, 'loss_word': 0.021108}\n",
      "SWA>>>:\n"
     ]
    },
    {
     "name": "stderr",
     "output_type": "stream",
     "text": [
      " 80%|███████▉  | 1001/1255 [06:00<01:28,  2.87it/s]"
     ]
    },
    {
     "name": "stdout",
     "output_type": "stream",
     "text": [
      "\n",
      "val: {'recall': 0.998053, 'recall_grapheme': 0.997278, 'recall_vowel': 0.998432, 'recall_consonant': 0.999222, 'recall_word': 0.997079, 'acc_grapheme': 0.997358, 'acc_vowel': 0.99848, 'acc_consonant': 0.999053, 'acc_word': 0.997059, 'loss_grapheme': 0.012955, 'loss_vowel': 0.007658, 'loss_consonant': 0.00334, 'loss_word': 0.014221}\n",
      "###>>>>> saved ./model4-ckps/tf_efficientnet_b4/model4_eb4_fold3_380.pth_swa\n",
      "   12 | 0.000253 | 160640/160716 | 7.0308 | 5.5489 | 14.65 ||\n",
      "val: {'recall': 0.997123, 'recall_grapheme': 0.995739, 'recall_vowel': 0.998187, 'recall_consonant': 0.998829, 'recall_word': 0.994984, 'acc_grapheme': 0.995614, 'acc_vowel': 0.998081, 'acc_consonant': 0.998654, 'acc_word': 0.99504, 'loss_grapheme': 0.02126, 'loss_vowel': 0.010248, 'loss_consonant': 0.006952, 'loss_word': 0.021844}\n",
      "   13 | 0.000246 | 160640/160716 | 0.3061 | 5.6740 | 14.62 ||"
     ]
    },
    {
     "name": "stderr",
     "output_type": "stream",
     "text": [
      "\r",
      "  0%|          | 0/1255 [00:00<?, ?it/s]"
     ]
    },
    {
     "name": "stdout",
     "output_type": "stream",
     "text": [
      "\n",
      "val: {'recall': 0.997407, 'recall_grapheme': 0.996143, 'recall_vowel': 0.998339, 'recall_consonant': 0.999001, 'recall_word': 0.995697, 'acc_grapheme': 0.996311, 'acc_vowel': 0.99833, 'acc_consonant': 0.998704, 'acc_word': 0.995738, 'loss_grapheme': 0.018386, 'loss_vowel': 0.008741, 'loss_consonant': 0.006187, 'loss_word': 0.019451}\n",
      "SWA>>>:\n"
     ]
    },
    {
     "name": "stderr",
     "output_type": "stream",
     "text": [
      " 39%|███▊      | 485/1255 [02:56<04:32,  2.83it/s]IOPub message rate exceeded.\n",
      "The notebook server will temporarily stop sending output\n",
      "to the client in order to avoid crashing it.\n",
      "To change this limit, set the config variable\n",
      "`--NotebookApp.iopub_msg_rate_limit`.\n",
      "\n",
      "Current values:\n",
      "NotebookApp.iopub_msg_rate_limit=1000.0 (msgs/sec)\n",
      "NotebookApp.rate_limit_window=3.0 (secs)\n",
      "\n"
     ]
    },
    {
     "name": "stdout",
     "output_type": "stream",
     "text": [
      "   17 | 0.000214 | 160640/160716 | 0.6688 | 5.4221 | 14.65 ||"
     ]
    },
    {
     "name": "stderr",
     "output_type": "stream",
     "text": [
      "\r",
      "  0%|          | 0/1255 [00:00<?, ?it/s]"
     ]
    },
    {
     "name": "stdout",
     "output_type": "stream",
     "text": [
      "\n",
      "val: {'recall': 0.997572, 'recall_grapheme': 0.996537, 'recall_vowel': 0.998222, 'recall_consonant': 0.998991, 'recall_word': 0.996372, 'acc_grapheme': 0.996536, 'acc_vowel': 0.998206, 'acc_consonant': 0.998903, 'acc_word': 0.996336, 'loss_grapheme': 0.016323, 'loss_vowel': 0.008043, 'loss_consonant': 0.003894, 'loss_word': 0.016926}\n",
      "SWA>>>:\n"
     ]
    },
    {
     "name": "stderr",
     "output_type": "stream",
     "text": [
      "100%|██████████| 1255/1255 [07:34<00:00,  2.74it/s]\n"
     ]
    },
    {
     "name": "stdout",
     "output_type": "stream",
     "text": [
      "\n",
      "val: {'recall': 0.998281, 'recall_grapheme': 0.997461, 'recall_vowel': 0.998732, 'recall_consonant': 0.999472, 'recall_word': 0.997331, 'acc_grapheme': 0.997757, 'acc_vowel': 0.998704, 'acc_consonant': 0.999327, 'acc_word': 0.997333, 'loss_grapheme': 0.011914, 'loss_vowel': 0.006443, 'loss_consonant': 0.003048, 'loss_word': 0.012786}\n",
      "###>>>>> saved ./model4-ckps/tf_efficientnet_b4/model4_eb4_fold3_380.pth_swa\n",
      "   18 | 0.000207 | 120064/160716 | 5.3635 | 5.5932 | 10.97 ||"
     ]
    },
    {
     "name": "stderr",
     "output_type": "stream",
     "text": [
      "IOPub message rate exceeded.\n",
      "The notebook server will temporarily stop sending output\n",
      "to the client in order to avoid crashing it.\n",
      "To change this limit, set the config variable\n",
      "`--NotebookApp.iopub_msg_rate_limit`.\n",
      "\n",
      "Current values:\n",
      "NotebookApp.iopub_msg_rate_limit=1000.0 (msgs/sec)\n",
      "NotebookApp.rate_limit_window=3.0 (secs)\n",
      "\n",
      "100%|██████████| 1255/1255 [07:31<00:00,  2.74it/s]\n"
     ]
    },
    {
     "name": "stdout",
     "output_type": "stream",
     "text": [
      "\n",
      "val: {'recall': 0.99828, 'recall_grapheme': 0.997523, 'recall_vowel': 0.998581, 'recall_consonant': 0.999493, 'recall_word': 0.997424, 'acc_grapheme': 0.997657, 'acc_vowel': 0.998729, 'acc_consonant': 0.999302, 'acc_word': 0.997383, 'loss_grapheme': 0.011711, 'loss_vowel': 0.006383, 'loss_consonant': 0.003019, 'loss_word': 0.012573}\n",
      "   22 | 0.000169 | 160640/160716 | 11.8752 | 5.4375 | 14.66 |\n",
      "val: {'recall': 0.997365, 'recall_grapheme': 0.996354, 'recall_vowel': 0.998112, 'recall_consonant': 0.998639, 'recall_word': 0.996268, 'acc_grapheme': 0.996386, 'acc_vowel': 0.998255, 'acc_consonant': 0.998928, 'acc_word': 0.996262, 'loss_grapheme': 0.01757, 'loss_vowel': 0.008387, 'loss_consonant': 0.004676, 'loss_word': 0.017935}\n",
      "   23 | 0.000159 | 160640/160716 | 0.4429 | 5.1324 | 14.69 ||"
     ]
    },
    {
     "name": "stderr",
     "output_type": "stream",
     "text": [
      "\r",
      "  0%|          | 0/1255 [00:00<?, ?it/s]"
     ]
    },
    {
     "name": "stdout",
     "output_type": "stream",
     "text": [
      "\n",
      "val: {'recall': 0.997946, 'recall_grapheme': 0.997161, 'recall_vowel': 0.998156, 'recall_consonant': 0.999304, 'recall_word': 0.996665, 'acc_grapheme': 0.997009, 'acc_vowel': 0.99838, 'acc_consonant': 0.999078, 'acc_word': 0.99666, 'loss_grapheme': 0.014482, 'loss_vowel': 0.007627, 'loss_consonant': 0.003492, 'loss_word': 0.015458}\n",
      "SWA>>>:\n"
     ]
    },
    {
     "name": "stderr",
     "output_type": "stream",
     "text": [
      " 14%|█▍        | 178/1255 [01:06<06:24,  2.80it/s]IOPub message rate exceeded.\n",
      "The notebook server will temporarily stop sending output\n",
      "to the client in order to avoid crashing it.\n",
      "To change this limit, set the config variable\n",
      "`--NotebookApp.iopub_msg_rate_limit`.\n",
      "\n",
      "Current values:\n",
      "NotebookApp.iopub_msg_rate_limit=1000.0 (msgs/sec)\n",
      "NotebookApp.rate_limit_window=3.0 (secs)\n",
      "\n"
     ]
    },
    {
     "name": "stdout",
     "output_type": "stream",
     "text": [
      "\n",
      "val: {'recall': 0.997453, 'recall_grapheme': 0.99633, 'recall_vowel': 0.998296, 'recall_consonant': 0.998854, 'recall_word': 0.996198, 'acc_grapheme': 0.996586, 'acc_vowel': 0.99843, 'acc_consonant': 0.998779, 'acc_word': 0.996212, 'loss_grapheme': 0.016974, 'loss_vowel': 0.008299, 'loss_consonant': 0.005154, 'loss_word': 0.018682}\n",
      "   25 | 0.000141 | 160640/160716 | 7.9934 | 5.3348 | 14.64 ||"
     ]
    },
    {
     "name": "stderr",
     "output_type": "stream",
     "text": [
      "\r",
      "  0%|          | 0/1255 [00:00<?, ?it/s]"
     ]
    },
    {
     "name": "stdout",
     "output_type": "stream",
     "text": [
      "\n",
      "val: {'recall': 0.997439, 'recall_grapheme': 0.9963, 'recall_vowel': 0.99826, 'recall_consonant': 0.998898, 'recall_word': 0.996202, 'acc_grapheme': 0.996486, 'acc_vowel': 0.99823, 'acc_consonant': 0.998829, 'acc_word': 0.996212, 'loss_grapheme': 0.016073, 'loss_vowel': 0.008319, 'loss_consonant': 0.004999, 'loss_word': 0.018246}\n",
      "SWA>>>:\n"
     ]
    },
    {
     "name": "stderr",
     "output_type": "stream",
     "text": [
      "100%|██████████| 1255/1255 [07:33<00:00,  2.81it/s]\n"
     ]
    },
    {
     "name": "stdout",
     "output_type": "stream",
     "text": [
      "\n",
      "val: {'recall': 0.998446, 'recall_grapheme': 0.997724, 'recall_vowel': 0.998765, 'recall_consonant': 0.999571, 'recall_word': 0.99756, 'acc_grapheme': 0.997782, 'acc_vowel': 0.998804, 'acc_consonant': 0.999402, 'acc_word': 0.997533, 'loss_grapheme': 0.011375, 'loss_vowel': 0.00623, 'loss_consonant': 0.002964, 'loss_word': 0.012269}\n",
      "###>>>>> saved ./model4-ckps/tf_efficientnet_b4/model4_eb4_fold3_380.pth_swa\n",
      "   26 | 0.000131 | 160640/160716 | 0.5803 | 5.3239 | 14.67 ||\n",
      "val: {'recall': 0.997887, 'recall_grapheme': 0.996917, 'recall_vowel': 0.998516, 'recall_consonant': 0.999198, 'recall_word': 0.996382, 'acc_grapheme': 0.99681, 'acc_vowel': 0.99848, 'acc_consonant': 0.998953, 'acc_word': 0.996361, 'loss_grapheme': 0.016106, 'loss_vowel': 0.00807, 'loss_consonant': 0.004505, 'loss_word': 0.017375}\n",
      "   27 | 0.000122 | 160640/160716 | 4.1229 | 5.4939 | 14.65 ||"
     ]
    },
    {
     "name": "stderr",
     "output_type": "stream",
     "text": [
      "\r",
      "  0%|          | 0/1255 [00:00<?, ?it/s]"
     ]
    },
    {
     "name": "stdout",
     "output_type": "stream",
     "text": [
      "\n",
      "val: {'recall': 0.997739, 'recall_grapheme': 0.996677, 'recall_vowel': 0.998346, 'recall_consonant': 0.999254, 'recall_word': 0.996145, 'acc_grapheme': 0.996586, 'acc_vowel': 0.99848, 'acc_consonant': 0.999103, 'acc_word': 0.996187, 'loss_grapheme': 0.01536, 'loss_vowel': 0.007826, 'loss_consonant': 0.004286, 'loss_word': 0.016651}\n",
      "SWA>>>:\n"
     ]
    },
    {
     "name": "stderr",
     "output_type": "stream",
     "text": [
      "100%|██████████| 1255/1255 [07:37<00:00,  2.85it/s]\n"
     ]
    },
    {
     "name": "stdout",
     "output_type": "stream",
     "text": [
      "\n",
      "val: {'recall': 0.998429, 'recall_grapheme': 0.997778, 'recall_vowel': 0.998595, 'recall_consonant': 0.999566, 'recall_word': 0.99761, 'acc_grapheme': 0.997857, 'acc_vowel': 0.998754, 'acc_consonant': 0.999377, 'acc_word': 0.997582, 'loss_grapheme': 0.01121, 'loss_vowel': 0.006232, 'loss_consonant': 0.002917, 'loss_word': 0.012151}\n",
      "   28 | 0.000113 | 160640/160716 | 0.2682 | 5.3714 | 14.60 ||\n",
      "val: {'recall': 0.997801, 'recall_grapheme': 0.996991, 'recall_vowel': 0.998102, 'recall_consonant': 0.99912, 'recall_word': 0.996217, 'acc_grapheme': 0.99681, 'acc_vowel': 0.998405, 'acc_consonant': 0.998953, 'acc_word': 0.996187, 'loss_grapheme': 0.015583, 'loss_vowel': 0.007711, 'loss_consonant': 0.004309, 'loss_word': 0.016699}\n",
      "   29 | 0.000104 | 160640/160716 | 6.5037 | 5.2576 | 14.63 ||"
     ]
    },
    {
     "name": "stderr",
     "output_type": "stream",
     "text": [
      "\r",
      "  0%|          | 0/1255 [00:00<?, ?it/s]"
     ]
    },
    {
     "name": "stdout",
     "output_type": "stream",
     "text": [
      "\n",
      "val: {'recall': 0.997678, 'recall_grapheme': 0.996821, 'recall_vowel': 0.998133, 'recall_consonant': 0.998937, 'recall_word': 0.996014, 'acc_grapheme': 0.996461, 'acc_vowel': 0.998554, 'acc_consonant': 0.998854, 'acc_word': 0.996087, 'loss_grapheme': 0.016655, 'loss_vowel': 0.007869, 'loss_consonant': 0.004726, 'loss_word': 0.018406}\n",
      "SWA>>>:\n"
     ]
    },
    {
     "name": "stderr",
     "output_type": "stream",
     "text": [
      "100%|██████████| 1255/1255 [07:34<00:00,  2.89it/s]\n"
     ]
    },
    {
     "name": "stdout",
     "output_type": "stream",
     "text": [
      "\n",
      "val: {'recall': 0.998463, 'recall_grapheme': 0.997819, 'recall_vowel': 0.998614, 'recall_consonant': 0.999599, 'recall_word': 0.997682, 'acc_grapheme': 0.997906, 'acc_vowel': 0.998779, 'acc_consonant': 0.999402, 'acc_word': 0.997657, 'loss_grapheme': 0.011152, 'loss_vowel': 0.006184, 'loss_consonant': 0.002847, 'loss_word': 0.012094}\n",
      "###>>>>> saved ./model4-ckps/tf_efficientnet_b4/model4_eb4_fold3_380.pth_swa\n",
      "   30 | 0.000095 | 160640/160716 | 12.3763 | 5.2593 | 14.65 |\n",
      "val: {'recall': 0.997905, 'recall_grapheme': 0.996998, 'recall_vowel': 0.998412, 'recall_consonant': 0.99921, 'recall_word': 0.996671, 'acc_grapheme': 0.996885, 'acc_vowel': 0.998255, 'acc_consonant': 0.999128, 'acc_word': 0.99666, 'loss_grapheme': 0.015048, 'loss_vowel': 0.008466, 'loss_consonant': 0.003443, 'loss_word': 0.016293}\n",
      "   31 | 0.000086 | 160640/160716 | 0.7063 | 4.9486 | 14.69 ||"
     ]
    },
    {
     "name": "stderr",
     "output_type": "stream",
     "text": [
      "\r",
      "  0%|          | 0/1255 [00:00<?, ?it/s]"
     ]
    },
    {
     "name": "stdout",
     "output_type": "stream",
     "text": [
      "\n",
      "val: {'recall': 0.998127, 'recall_grapheme': 0.99735, 'recall_vowel': 0.998582, 'recall_consonant': 0.999226, 'recall_word': 0.996857, 'acc_grapheme': 0.99686, 'acc_vowel': 0.998654, 'acc_consonant': 0.999078, 'acc_word': 0.99686, 'loss_grapheme': 0.013294, 'loss_vowel': 0.006519, 'loss_consonant': 0.003173, 'loss_word': 0.014166}\n",
      "SWA>>>:\n"
     ]
    },
    {
     "name": "stderr",
     "output_type": "stream",
     "text": [
      "100%|██████████| 1255/1255 [07:32<00:00,  2.75it/s]\n"
     ]
    },
    {
     "name": "stdout",
     "output_type": "stream",
     "text": [
      "\n",
      "val: {'recall': 0.998461, 'recall_grapheme': 0.997829, 'recall_vowel': 0.998614, 'recall_consonant': 0.999571, 'recall_word': 0.997779, 'acc_grapheme': 0.997906, 'acc_vowel': 0.998779, 'acc_consonant': 0.999402, 'acc_word': 0.997757, 'loss_grapheme': 0.011028, 'loss_vowel': 0.006144, 'loss_consonant': 0.002748, 'loss_word': 0.011955}\n",
      "   32 | 0.000078 | 160640/160716 | 13.7737 | 5.3346 | 14.64 |\n",
      "val: {'recall': 0.997574, 'recall_grapheme': 0.996358, 'recall_vowel': 0.998473, 'recall_consonant': 0.999109, 'recall_word': 0.996272, 'acc_grapheme': 0.996361, 'acc_vowel': 0.998505, 'acc_consonant': 0.998928, 'acc_word': 0.996262, 'loss_grapheme': 0.016124, 'loss_vowel': 0.008289, 'loss_consonant': 0.003885, 'loss_word': 0.016889}\n",
      "   33 | 0.000070 | 160640/160716 | 0.3994 | 5.2867 | 14.67 ||"
     ]
    },
    {
     "name": "stderr",
     "output_type": "stream",
     "text": [
      "\r",
      "  0%|          | 0/1255 [00:00<?, ?it/s]"
     ]
    },
    {
     "name": "stdout",
     "output_type": "stream",
     "text": [
      "\n",
      "val: {'recall': 0.997951, 'recall_grapheme': 0.997003, 'recall_vowel': 0.9985, 'recall_consonant': 0.999297, 'recall_word': 0.99661, 'acc_grapheme': 0.996835, 'acc_vowel': 0.99848, 'acc_consonant': 0.999153, 'acc_word': 0.99666, 'loss_grapheme': 0.014162, 'loss_vowel': 0.00712, 'loss_consonant': 0.003515, 'loss_word': 0.0152}\n",
      "SWA>>>:\n"
     ]
    },
    {
     "name": "stderr",
     "output_type": "stream",
     "text": [
      "100%|██████████| 1255/1255 [07:34<00:00,  2.83it/s]\n"
     ]
    },
    {
     "name": "stdout",
     "output_type": "stream",
     "text": [
      "\n",
      "val: {'recall': 0.99847, 'recall_grapheme': 0.997859, 'recall_vowel': 0.998592, 'recall_consonant': 0.999571, 'recall_word': 0.997705, 'acc_grapheme': 0.997956, 'acc_vowel': 0.998779, 'acc_consonant': 0.999402, 'acc_word': 0.997682, 'loss_grapheme': 0.011005, 'loss_vowel': 0.006131, 'loss_consonant': 0.002715, 'loss_word': 0.011928}\n",
      "###>>>>> saved ./model4-ckps/tf_efficientnet_b4/model4_eb4_fold3_380.pth_swa\n",
      "   34 | 0.000062 | 160640/160716 | 7.8940 | 5.4673 | 14.59 ||\n",
      "val: {'recall': 0.99791, 'recall_grapheme': 0.997038, 'recall_vowel': 0.998356, 'recall_consonant': 0.99921, 'recall_word': 0.996355, 'acc_grapheme': 0.99681, 'acc_vowel': 0.99848, 'acc_consonant': 0.999003, 'acc_word': 0.996361, 'loss_grapheme': 0.014869, 'loss_vowel': 0.007765, 'loss_consonant': 0.004008, 'loss_word': 0.016383}\n",
      "   35 | 0.000054 | 160640/160716 | 9.0463 | 5.1709 | 14.66 ||"
     ]
    },
    {
     "name": "stderr",
     "output_type": "stream",
     "text": [
      "\r",
      "  0%|          | 0/1255 [00:00<?, ?it/s]"
     ]
    },
    {
     "name": "stdout",
     "output_type": "stream",
     "text": [
      "\n",
      "val: {'recall': 0.997952, 'recall_grapheme': 0.997056, 'recall_vowel': 0.998498, 'recall_consonant': 0.999199, 'recall_word': 0.996643, 'acc_grapheme': 0.996885, 'acc_vowel': 0.998629, 'acc_consonant': 0.998978, 'acc_word': 0.996611, 'loss_grapheme': 0.015582, 'loss_vowel': 0.007655, 'loss_consonant': 0.004191, 'loss_word': 0.016741}\n",
      "SWA>>>:\n"
     ]
    },
    {
     "name": "stderr",
     "output_type": "stream",
     "text": [
      "100%|██████████| 1255/1255 [07:36<00:00,  2.72it/s]\n"
     ]
    },
    {
     "name": "stdout",
     "output_type": "stream",
     "text": [
      "\n",
      "val: {'recall': 0.998468, 'recall_grapheme': 0.997849, 'recall_vowel': 0.998602, 'recall_consonant': 0.999571, 'recall_word': 0.997609, 'acc_grapheme': 0.997931, 'acc_vowel': 0.998779, 'acc_consonant': 0.999402, 'acc_word': 0.997582, 'loss_grapheme': 0.011009, 'loss_vowel': 0.006135, 'loss_consonant': 0.002685, 'loss_word': 0.01194}\n",
      "   36 | 0.000047 | 160640/160716 | 7.2906 | 5.5424 | 14.61 ||\n",
      "val: {'recall': 0.997965, 'recall_grapheme': 0.99708, 'recall_vowel': 0.998521, 'recall_consonant': 0.999179, 'recall_word': 0.996669, 'acc_grapheme': 0.996885, 'acc_vowel': 0.998654, 'acc_consonant': 0.998978, 'acc_word': 0.996685, 'loss_grapheme': 0.013918, 'loss_vowel': 0.006891, 'loss_consonant': 0.00331, 'loss_word': 0.014968}\n",
      "   37 | 0.000041 | 160640/160716 | 0.1630 | 5.1517 | 14.67 ||"
     ]
    },
    {
     "name": "stderr",
     "output_type": "stream",
     "text": [
      "\r",
      "  0%|          | 0/1255 [00:00<?, ?it/s]"
     ]
    },
    {
     "name": "stdout",
     "output_type": "stream",
     "text": [
      "\n",
      "val: {'recall': 0.99808, 'recall_grapheme': 0.997258, 'recall_vowel': 0.998578, 'recall_consonant': 0.999227, 'recall_word': 0.99666, 'acc_grapheme': 0.997084, 'acc_vowel': 0.998654, 'acc_consonant': 0.999078, 'acc_word': 0.99671, 'loss_grapheme': 0.014431, 'loss_vowel': 0.007316, 'loss_consonant': 0.003423, 'loss_word': 0.016057}\n",
      "SWA>>>:\n"
     ]
    },
    {
     "name": "stderr",
     "output_type": "stream",
     "text": [
      "100%|██████████| 1255/1255 [07:34<00:00,  2.83it/s]\n"
     ]
    },
    {
     "name": "stdout",
     "output_type": "stream",
     "text": [
      "\n",
      "val: {'recall': 0.998487, 'recall_grapheme': 0.997882, 'recall_vowel': 0.998613, 'recall_consonant': 0.999571, 'recall_word': 0.997656, 'acc_grapheme': 0.997882, 'acc_vowel': 0.998804, 'acc_consonant': 0.999402, 'acc_word': 0.997632, 'loss_grapheme': 0.011027, 'loss_vowel': 0.006146, 'loss_consonant': 0.002644, 'loss_word': 0.01195}\n",
      "###>>>>> saved ./model4-ckps/tf_efficientnet_b4/model4_eb4_fold3_380.pth_swa\n",
      "   38 | 0.000034 | 160640/160716 | 6.3363 | 5.1558 | 14.66 ||\n",
      "val: {'recall': 0.997826, 'recall_grapheme': 0.996821, 'recall_vowel': 0.998474, 'recall_consonant': 0.999189, 'recall_word': 0.996387, 'acc_grapheme': 0.996611, 'acc_vowel': 0.99848, 'acc_consonant': 0.998928, 'acc_word': 0.996411, 'loss_grapheme': 0.015475, 'loss_vowel': 0.007582, 'loss_consonant': 0.003711, 'loss_word': 0.016895}\n",
      "   39 | 0.000029 | 160640/160716 | 4.1006 | 5.2178 | 14.74 ||"
     ]
    },
    {
     "name": "stderr",
     "output_type": "stream",
     "text": [
      "\r",
      "  0%|          | 0/1255 [00:00<?, ?it/s]"
     ]
    },
    {
     "name": "stdout",
     "output_type": "stream",
     "text": [
      "\n",
      "val: {'recall': 0.997868, 'recall_grapheme': 0.996824, 'recall_vowel': 0.998614, 'recall_consonant': 0.999209, 'recall_word': 0.996654, 'acc_grapheme': 0.996885, 'acc_vowel': 0.998629, 'acc_consonant': 0.999003, 'acc_word': 0.996735, 'loss_grapheme': 0.014271, 'loss_vowel': 0.007163, 'loss_consonant': 0.003271, 'loss_word': 0.015567}\n",
      "SWA>>>:\n"
     ]
    },
    {
     "name": "stderr",
     "output_type": "stream",
     "text": [
      "100%|██████████| 1255/1255 [07:33<00:00,  2.86it/s]\n"
     ]
    },
    {
     "name": "stdout",
     "output_type": "stream",
     "text": [
      "\n",
      "val: {'recall': 0.998477, 'recall_grapheme': 0.997876, 'recall_vowel': 0.998554, 'recall_consonant': 0.999602, 'recall_word': 0.997616, 'acc_grapheme': 0.997857, 'acc_vowel': 0.998804, 'acc_consonant': 0.999427, 'acc_word': 0.997607, 'loss_grapheme': 0.011004, 'loss_vowel': 0.006136, 'loss_consonant': 0.002593, 'loss_word': 0.011916}\n",
      "   40 | 0.000023 | 160640/160716 | 5.2387 | 5.0428 | 14.70 ||\n",
      "val: {'recall': 0.997599, 'recall_grapheme': 0.996436, 'recall_vowel': 0.998378, 'recall_consonant': 0.999148, 'recall_word': 0.996277, 'acc_grapheme': 0.996386, 'acc_vowel': 0.998505, 'acc_consonant': 0.999003, 'acc_word': 0.996287, 'loss_grapheme': 0.015697, 'loss_vowel': 0.007876, 'loss_consonant': 0.004117, 'loss_word': 0.017314}\n",
      "   41 | 0.000019 | 160640/160716 | 6.8449 | 4.8242 | 14.71 ||"
     ]
    },
    {
     "name": "stderr",
     "output_type": "stream",
     "text": [
      "\r",
      "  0%|          | 0/1255 [00:00<?, ?it/s]"
     ]
    },
    {
     "name": "stdout",
     "output_type": "stream",
     "text": [
      "\n",
      "val: {'recall': 0.997839, 'recall_grapheme': 0.996943, 'recall_vowel': 0.998297, 'recall_consonant': 0.999173, 'recall_word': 0.996488, 'acc_grapheme': 0.996835, 'acc_vowel': 0.998505, 'acc_consonant': 0.998978, 'acc_word': 0.996486, 'loss_grapheme': 0.015381, 'loss_vowel': 0.008155, 'loss_consonant': 0.004105, 'loss_word': 0.017035}\n",
      "SWA>>>:\n"
     ]
    },
    {
     "name": "stderr",
     "output_type": "stream",
     "text": [
      "100%|██████████| 1255/1255 [07:35<00:00,  2.82it/s]\n"
     ]
    },
    {
     "name": "stdout",
     "output_type": "stream",
     "text": [
      "\n",
      "val: {'recall': 0.998499, 'recall_grapheme': 0.997926, 'recall_vowel': 0.998543, 'recall_consonant': 0.999602, 'recall_word': 0.997673, 'acc_grapheme': 0.997882, 'acc_vowel': 0.998779, 'acc_consonant': 0.999427, 'acc_word': 0.997657, 'loss_grapheme': 0.010988, 'loss_vowel': 0.006149, 'loss_consonant': 0.00255, 'loss_word': 0.011906}\n",
      "###>>>>> saved ./model4-ckps/tf_efficientnet_b4/model4_eb4_fold3_380.pth_swa\n",
      "   42 | 0.000016 | 111872/160716 | 0.1516 | 5.0661 | 10.24 ||"
     ]
    },
    {
     "name": "stderr",
     "output_type": "stream",
     "text": [
      "IOPub message rate exceeded.\n",
      "The notebook server will temporarily stop sending output\n",
      "to the client in order to avoid crashing it.\n",
      "To change this limit, set the config variable\n",
      "`--NotebookApp.iopub_msg_rate_limit`.\n",
      "\n",
      "Current values:\n",
      "NotebookApp.iopub_msg_rate_limit=1000.0 (msgs/sec)\n",
      "NotebookApp.rate_limit_window=3.0 (secs)\n",
      "\n"
     ]
    },
    {
     "name": "stdout",
     "output_type": "stream",
     "text": [
      "   43 | 0.000011 | 160640/160716 | 0.1909 | 5.0122 | 14.72 ||"
     ]
    },
    {
     "name": "stderr",
     "output_type": "stream",
     "text": [
      "\r",
      "  0%|          | 0/1255 [00:00<?, ?it/s]"
     ]
    },
    {
     "name": "stdout",
     "output_type": "stream",
     "text": [
      "\n",
      "val: {'recall': 0.9979, 'recall_grapheme': 0.996928, 'recall_vowel': 0.998495, 'recall_consonant': 0.999249, 'recall_word': 0.996696, 'acc_grapheme': 0.99691, 'acc_vowel': 0.998679, 'acc_consonant': 0.999078, 'acc_word': 0.99671, 'loss_grapheme': 0.014327, 'loss_vowel': 0.007493, 'loss_consonant': 0.003395, 'loss_word': 0.015556}\n",
      "SWA>>>:\n"
     ]
    },
    {
     "name": "stderr",
     "output_type": "stream",
     "text": [
      "100%|██████████| 1255/1255 [07:38<00:00,  2.87it/s]\n"
     ]
    },
    {
     "name": "stdout",
     "output_type": "stream",
     "text": [
      "\n",
      "val: {'recall': 0.998445, 'recall_grapheme': 0.997875, 'recall_vowel': 0.998425, 'recall_consonant': 0.999602, 'recall_word': 0.997624, 'acc_grapheme': 0.997857, 'acc_vowel': 0.998779, 'acc_consonant': 0.999427, 'acc_word': 0.997607, 'loss_grapheme': 0.010971, 'loss_vowel': 0.006117, 'loss_consonant': 0.002521, 'loss_word': 0.011874}\n",
      "   44 | 0.000007 | 160640/160716 | 0.2340 | 5.2228 | 14.72 ||\n",
      "val: {'recall': 0.997859, 'recall_grapheme': 0.996893, 'recall_vowel': 0.99846, 'recall_consonant': 0.99919, 'recall_word': 0.996524, 'acc_grapheme': 0.996835, 'acc_vowel': 0.998679, 'acc_consonant': 0.999053, 'acc_word': 0.996561, 'loss_grapheme': 0.014782, 'loss_vowel': 0.007684, 'loss_consonant': 0.003487, 'loss_word': 0.016547}\n",
      "   45 | 0.000005 | 160640/160716 | 5.6404 | 5.1102 | 14.66 ||\n",
      "val: {'recall': 0.998172, 'recall_grapheme': 0.997521, 'recall_vowel': 0.99839, 'recall_consonant': 0.999254, 'recall_word': 0.99687, 'acc_grapheme': 0.997109, 'acc_vowel': 0.998654, 'acc_consonant': 0.999103, 'acc_word': 0.99691, 'loss_grapheme': 0.013979, 'loss_vowel': 0.007594, 'loss_consonant': 0.003257, 'loss_word': 0.015314}\n"
     ]
    },
    {
     "name": "stderr",
     "output_type": "stream",
     "text": [
      "\r",
      "  0%|          | 0/1255 [00:00<?, ?it/s]"
     ]
    },
    {
     "name": "stdout",
     "output_type": "stream",
     "text": [
      "###>>>>> saved ./model4-ckps/tf_efficientnet_b4/model4_eb4_fold3_380.pth\n",
      "SWA>>>:\n"
     ]
    },
    {
     "name": "stderr",
     "output_type": "stream",
     "text": [
      "100%|██████████| 1255/1255 [07:37<00:00,  2.76it/s]\n"
     ]
    },
    {
     "name": "stdout",
     "output_type": "stream",
     "text": [
      "\n",
      "val: {'recall': 0.998418, 'recall_grapheme': 0.997885, 'recall_vowel': 0.998298, 'recall_consonant': 0.999602, 'recall_word': 0.997674, 'acc_grapheme': 0.997882, 'acc_vowel': 0.998729, 'acc_consonant': 0.999427, 'acc_word': 0.997632, 'loss_grapheme': 0.010954, 'loss_vowel': 0.006123, 'loss_consonant': 0.0025, 'loss_word': 0.011891}\n",
      "   46 | 0.000003 | 160640/160716 | 7.5181 | 5.0467 | 14.73 ||\n",
      "val: {'recall': 0.998119, 'recall_grapheme': 0.997374, 'recall_vowel': 0.998458, 'recall_consonant': 0.999271, 'recall_word': 0.996728, 'acc_grapheme': 0.997034, 'acc_vowel': 0.998604, 'acc_consonant': 0.999178, 'acc_word': 0.996735, 'loss_grapheme': 0.014356, 'loss_vowel': 0.007716, 'loss_consonant': 0.003529, 'loss_word': 0.015543}\n",
      "   47 | 0.000001 | 160640/160716 | 0.0369 | 5.3343 | 14.65 ||\n",
      "val: {'recall': 0.998314, 'recall_grapheme': 0.997668, 'recall_vowel': 0.998427, 'recall_consonant': 0.99949, 'recall_word': 0.99722, 'acc_grapheme': 0.997333, 'acc_vowel': 0.998654, 'acc_consonant': 0.999302, 'acc_word': 0.997234, 'loss_grapheme': 0.012546, 'loss_vowel': 0.006781, 'loss_consonant': 0.002767, 'loss_word': 0.013686}\n"
     ]
    },
    {
     "name": "stderr",
     "output_type": "stream",
     "text": [
      "\r",
      "  0%|          | 0/1255 [00:00<?, ?it/s]"
     ]
    },
    {
     "name": "stdout",
     "output_type": "stream",
     "text": [
      "###>>>>> saved ./model4-ckps/tf_efficientnet_b4/model4_eb4_fold3_380.pth\n",
      "SWA>>>:\n"
     ]
    },
    {
     "name": "stderr",
     "output_type": "stream",
     "text": [
      "100%|██████████| 1255/1255 [07:37<00:00,  2.69it/s]\n"
     ]
    },
    {
     "name": "stdout",
     "output_type": "stream",
     "text": [
      "\n",
      "val: {'recall': 0.998427, 'recall_grapheme': 0.997885, 'recall_vowel': 0.998303, 'recall_consonant': 0.999635, 'recall_word': 0.997612, 'acc_grapheme': 0.997882, 'acc_vowel': 0.998729, 'acc_consonant': 0.999452, 'acc_word': 0.997582, 'loss_grapheme': 0.01097, 'loss_vowel': 0.006126, 'loss_consonant': 0.002464, 'loss_word': 0.01187}\n",
      "   48 | 0.000000 | 160640/160716 | 2.1133 | 5.2048 | 14.68 ||\n",
      "val: {'recall': 0.998108, 'recall_grapheme': 0.997342, 'recall_vowel': 0.998362, 'recall_consonant': 0.999386, 'recall_word': 0.996799, 'acc_grapheme': 0.997084, 'acc_vowel': 0.998629, 'acc_consonant': 0.999202, 'acc_word': 0.99686, 'loss_grapheme': 0.01433, 'loss_vowel': 0.007816, 'loss_consonant': 0.003238, 'loss_word': 0.015761}\n",
      "   49 | 0.000000 | 160640/160716 | 13.2333 | 5.0441 | 14.73 |"
     ]
    },
    {
     "name": "stderr",
     "output_type": "stream",
     "text": [
      "\r",
      "  0%|          | 0/1255 [00:00<?, ?it/s]"
     ]
    },
    {
     "name": "stdout",
     "output_type": "stream",
     "text": [
      "\n",
      "val: {'recall': 0.997921, 'recall_grapheme': 0.99699, 'recall_vowel': 0.998526, 'recall_consonant': 0.999179, 'recall_word': 0.996649, 'acc_grapheme': 0.996835, 'acc_vowel': 0.998654, 'acc_consonant': 0.999003, 'acc_word': 0.996685, 'loss_grapheme': 0.014779, 'loss_vowel': 0.008082, 'loss_consonant': 0.003597, 'loss_word': 0.016215}\n",
      "SWA>>>:\n"
     ]
    },
    {
     "name": "stderr",
     "output_type": "stream",
     "text": [
      "100%|██████████| 1255/1255 [07:39<00:00,  2.70it/s]\n"
     ]
    },
    {
     "name": "stdout",
     "output_type": "stream",
     "text": [
      "\n",
      "val: {'recall': 0.998449, 'recall_grapheme': 0.997936, 'recall_vowel': 0.998287, 'recall_consonant': 0.999635, 'recall_word': 0.997677, 'acc_grapheme': 0.997906, 'acc_vowel': 0.998704, 'acc_consonant': 0.999452, 'acc_word': 0.997632, 'loss_grapheme': 0.010934, 'loss_vowel': 0.006118, 'loss_consonant': 0.002438, 'loss_word': 0.011852}\n",
      "CYCLE: 2\n",
      "    0 | 0.000150 | 160640/160716 | 6.1674 | 5.2896 | 14.20 ||\n",
      "val: {'recall': 0.997694, 'recall_grapheme': 0.996673, 'recall_vowel': 0.998375, 'recall_consonant': 0.999054, 'recall_word': 0.996153, 'acc_grapheme': 0.996635, 'acc_vowel': 0.998405, 'acc_consonant': 0.998779, 'acc_word': 0.996162, 'loss_grapheme': 0.016575, 'loss_vowel': 0.008763, 'loss_consonant': 0.004649, 'loss_word': 0.018412}\n",
      "    1 | 0.000299 | 160640/160716 | 11.3982 | 5.3649 | 14.31 |\n",
      "val: {'recall': 0.997435, 'recall_grapheme': 0.996553, 'recall_vowel': 0.997768, 'recall_consonant': 0.998867, 'recall_word': 0.995956, 'acc_grapheme': 0.996162, 'acc_vowel': 0.998106, 'acc_consonant': 0.998604, 'acc_word': 0.995863, 'loss_grapheme': 0.018247, 'loss_vowel': 0.009596, 'loss_consonant': 0.005912, 'loss_word': 0.019556}\n",
      "    2 | 0.000297 | 160640/160716 | 14.2849 | 5.2296 | 14.41 |\n",
      "val: {'recall': 0.997373, 'recall_grapheme': 0.9964, 'recall_vowel': 0.997882, 'recall_consonant': 0.99881, 'recall_word': 0.995637, 'acc_grapheme': 0.995963, 'acc_vowel': 0.997857, 'acc_consonant': 0.998654, 'acc_word': 0.995564, 'loss_grapheme': 0.019313, 'loss_vowel': 0.010687, 'loss_consonant': 0.005588, 'loss_word': 0.021108}\n",
      "    3 | 0.000295 | 160640/160716 | 0.1326 | 5.5012 | 14.49 ||\n",
      "val: {'recall': 0.997811, 'recall_grapheme': 0.997042, 'recall_vowel': 0.998094, 'recall_consonant': 0.999065, 'recall_word': 0.996153, 'acc_grapheme': 0.996611, 'acc_vowel': 0.998181, 'acc_consonant': 0.998654, 'acc_word': 0.996087, 'loss_grapheme': 0.018725, 'loss_vowel': 0.011268, 'loss_consonant': 0.006656, 'loss_word': 0.018978}\n",
      "    4 | 0.000293 | 160640/160716 | 1.4469 | 5.4356 | 14.58 ||\n",
      "val: {'recall': 0.997139, 'recall_grapheme': 0.996164, 'recall_vowel': 0.9979, 'recall_consonant': 0.998329, 'recall_word': 0.995603, 'acc_grapheme': 0.995987, 'acc_vowel': 0.99833, 'acc_consonant': 0.998654, 'acc_word': 0.995564, 'loss_grapheme': 0.017978, 'loss_vowel': 0.008511, 'loss_consonant': 0.005635, 'loss_word': 0.019645}\n",
      "    5 | 0.000289 | 160640/160716 | 11.9138 | 5.6487 | 14.71 |\n",
      "val: {'recall': 0.997386, 'recall_grapheme': 0.996394, 'recall_vowel': 0.997944, 'recall_consonant': 0.998811, 'recall_word': 0.995066, 'acc_grapheme': 0.995713, 'acc_vowel': 0.998081, 'acc_consonant': 0.998829, 'acc_word': 0.995115, 'loss_grapheme': 0.019481, 'loss_vowel': 0.009875, 'loss_consonant': 0.004737, 'loss_word': 0.020562}\n",
      "    6 | 0.000286 | 135552/160716 | 6.8202 | 5.6351 | 12.42 ||"
     ]
    }
   ],
   "source": [
    "train(args)"
   ]
  },
  {
   "cell_type": "code",
   "execution_count": null,
   "metadata": {},
   "outputs": [],
   "source": []
  },
  {
   "cell_type": "code",
   "execution_count": 37,
   "metadata": {},
   "outputs": [
    {
     "name": "stdout",
     "output_type": "stream",
     "text": [
      "model file: ./model4-ckps/tf_efficientnet_b4/model4_eb4_fold3_380.pth, exist: True\n",
      "loading ./model4-ckps/tf_efficientnet_b4/model4_eb4_fold3_380.pth...\n",
      "model file: ./model4-ckps/tf_efficientnet_b4/model4_eb4_fold3_380.pth_swa, exist: False\n",
      "\n",
      "val: {'recall': 0.997597, 'recall_grapheme': 0.996428, 'recall_vowel': 0.998394, 'recall_consonant': 0.999137, 'recall_word': 0.996368, 'acc_grapheme': 0.996735, 'acc_vowel': 0.99843, 'acc_consonant': 0.998953, 'acc_word': 0.996361, 'loss_grapheme': 0.018075, 'loss_vowel': 0.010609, 'loss_consonant': 0.006052, 'loss_word': 0.017806}\n",
      "CYCLE: 1\n",
      "    0 | 0.000200 | 160640/160716 | 6.2135 | 5.5802 | 14.02 ||\n",
      "val: {'recall': 0.996769, 'recall_grapheme': 0.995271, 'recall_vowel': 0.997749, 'recall_consonant': 0.998786, 'recall_word': 0.995084, 'acc_grapheme': 0.995464, 'acc_vowel': 0.997807, 'acc_consonant': 0.998679, 'acc_word': 0.995065, 'loss_grapheme': 0.027358, 'loss_vowel': 0.016393, 'loss_consonant': 0.011132, 'loss_word': 0.02422}\n",
      "    1 | 0.000199 | 160640/160716 | 6.3127 | 5.7500 | 14.12 ||\n",
      "val: {'recall': 0.996864, 'recall_grapheme': 0.99547, 'recall_vowel': 0.997705, 'recall_consonant': 0.99881, 'recall_word': 0.995204, 'acc_grapheme': 0.995663, 'acc_vowel': 0.997956, 'acc_consonant': 0.998629, 'acc_word': 0.995215, 'loss_grapheme': 0.020707, 'loss_vowel': 0.012334, 'loss_consonant': 0.007367, 'loss_word': 0.021993}\n",
      "    2 | 0.000197 | 160640/160716 | 2.5587 | 5.7746 | 14.24 ||\n",
      "val: {'recall': 0.99688, 'recall_grapheme': 0.995792, 'recall_vowel': 0.997459, 'recall_consonant': 0.998475, 'recall_word': 0.995153, 'acc_grapheme': 0.995763, 'acc_vowel': 0.997906, 'acc_consonant': 0.99833, 'acc_word': 0.99514, 'loss_grapheme': 0.019033, 'loss_vowel': 0.010093, 'loss_consonant': 0.006352, 'loss_word': 0.020871}\n",
      "    3 | 0.000195 | 160640/160716 | 6.3884 | 5.8452 | 14.40 ||\n",
      "val: {'recall': 0.996349, 'recall_grapheme': 0.994829, 'recall_vowel': 0.997471, 'recall_consonant': 0.998266, 'recall_word': 0.99415, 'acc_grapheme': 0.994791, 'acc_vowel': 0.997682, 'acc_consonant': 0.998505, 'acc_word': 0.994118, 'loss_grapheme': 0.027241, 'loss_vowel': 0.016609, 'loss_consonant': 0.011331, 'loss_word': 0.028391}\n",
      "    4 | 0.000192 | 160640/160716 | 1.0980 | 5.6431 | 14.52 ||\n",
      "val: {'recall': 0.997239, 'recall_grapheme': 0.995888, 'recall_vowel': 0.998074, 'recall_consonant': 0.999108, 'recall_word': 0.995788, 'acc_grapheme': 0.996262, 'acc_vowel': 0.998181, 'acc_consonant': 0.998704, 'acc_word': 0.995813, 'loss_grapheme': 0.019826, 'loss_vowel': 0.010383, 'loss_consonant': 0.007182, 'loss_word': 0.02077}\n",
      "    5 | 0.000189 | 160640/160716 | 0.2566 | 5.7498 | 14.67 ||\n",
      "val: {'recall': 0.997052, 'recall_grapheme': 0.995617, 'recall_vowel': 0.998044, 'recall_consonant': 0.998929, 'recall_word': 0.995465, 'acc_grapheme': 0.995738, 'acc_vowel': 0.99823, 'acc_consonant': 0.998604, 'acc_word': 0.995489, 'loss_grapheme': 0.019574, 'loss_vowel': 0.009858, 'loss_consonant': 0.006233, 'loss_word': 0.020779}\n",
      "    6 | 0.000185 | 160640/160716 | 5.0872 | 5.8207 | 14.67 ||\n",
      "val: {'recall': 0.996911, 'recall_grapheme': 0.995549, 'recall_vowel': 0.997758, 'recall_consonant': 0.998789, 'recall_word': 0.995106, 'acc_grapheme': 0.995564, 'acc_vowel': 0.998081, 'acc_consonant': 0.998604, 'acc_word': 0.995015, 'loss_grapheme': 0.022837, 'loss_vowel': 0.011929, 'loss_consonant': 0.008487, 'loss_word': 0.023242}\n",
      "    7 | 0.000181 | 160640/160716 | 3.6379 | 5.7614 | 14.63 ||\n",
      "val: {'recall': 0.997082, 'recall_grapheme': 0.995748, 'recall_vowel': 0.997975, 'recall_consonant': 0.998857, 'recall_word': 0.995203, 'acc_grapheme': 0.995863, 'acc_vowel': 0.998006, 'acc_consonant': 0.998654, 'acc_word': 0.99519, 'loss_grapheme': 0.020377, 'loss_vowel': 0.010835, 'loss_consonant': 0.006843, 'loss_word': 0.021874}\n",
      "    8 | 0.000176 | 160640/160716 | 13.1883 | 5.7254 | 14.68 |\n",
      "val: {'recall': 0.997246, 'recall_grapheme': 0.995901, 'recall_vowel': 0.99819, 'recall_consonant': 0.998991, 'recall_word': 0.995816, 'acc_grapheme': 0.996262, 'acc_vowel': 0.998206, 'acc_consonant': 0.998854, 'acc_word': 0.995813, 'loss_grapheme': 0.018389, 'loss_vowel': 0.009451, 'loss_consonant': 0.006101, 'loss_word': 0.019293}\n",
      "    9 | 0.000171 | 160640/160716 | 11.4941 | 5.6454 | 14.65 |\n",
      "val: {'recall': 0.996722, 'recall_grapheme': 0.995281, 'recall_vowel': 0.997716, 'recall_consonant': 0.998611, 'recall_word': 0.994433, 'acc_grapheme': 0.99524, 'acc_vowel': 0.997782, 'acc_consonant': 0.998405, 'acc_word': 0.994467, 'loss_grapheme': 0.02648, 'loss_vowel': 0.014613, 'loss_consonant': 0.010946, 'loss_word': 0.02781}\n",
      "   10 | 0.000165 | 160640/160716 | 11.7858 | 5.6329 | 14.66 |\n",
      "val: {'recall': 0.997296, 'recall_grapheme': 0.996042, 'recall_vowel': 0.998229, 'recall_consonant': 0.998871, 'recall_word': 0.995416, 'acc_grapheme': 0.996012, 'acc_vowel': 0.99838, 'acc_consonant': 0.998629, 'acc_word': 0.995464, 'loss_grapheme': 0.018948, 'loss_vowel': 0.009257, 'loss_consonant': 0.006944, 'loss_word': 0.020342}\n",
      "   11 | 0.000159 | 160640/160716 | 0.2576 | 5.7537 | 14.64 ||\n",
      "val: {'recall': 0.996784, 'recall_grapheme': 0.99525, 'recall_vowel': 0.997567, 'recall_consonant': 0.999069, 'recall_word': 0.995258, 'acc_grapheme': 0.996087, 'acc_vowel': 0.997882, 'acc_consonant': 0.998829, 'acc_word': 0.995364, 'loss_grapheme': 0.020247, 'loss_vowel': 0.011539, 'loss_consonant': 0.007372, 'loss_word': 0.021855}\n",
      "   12 | 0.000152 | 160640/160716 | 4.7785 | 5.8009 | 14.64 ||\n",
      "val: {'recall': 0.997261, 'recall_grapheme': 0.996132, 'recall_vowel': 0.997764, 'recall_consonant': 0.999018, 'recall_word': 0.995689, 'acc_grapheme': 0.996187, 'acc_vowel': 0.998206, 'acc_consonant': 0.998779, 'acc_word': 0.995713, 'loss_grapheme': 0.018159, 'loss_vowel': 0.008779, 'loss_consonant': 0.005543, 'loss_word': 0.019027}\n",
      "   13 | 0.000145 | 160640/160716 | 2.2663 | 5.5280 | 14.71 ||\n",
      "val: {'recall': 0.997379, 'recall_grapheme': 0.996045, 'recall_vowel': 0.998168, 'recall_consonant': 0.99926, 'recall_word': 0.996227, 'acc_grapheme': 0.996586, 'acc_vowel': 0.99853, 'acc_consonant': 0.998978, 'acc_word': 0.996262, 'loss_grapheme': 0.018876, 'loss_vowel': 0.010564, 'loss_consonant': 0.006584, 'loss_word': 0.018206}\n",
      "   14 | 0.000138 | 160640/160716 | 0.4470 | 5.6740 | 14.68 ||\n",
      "val: {'recall': 0.99779, 'recall_grapheme': 0.996743, 'recall_vowel': 0.998464, 'recall_consonant': 0.999212, 'recall_word': 0.996383, 'acc_grapheme': 0.99681, 'acc_vowel': 0.998604, 'acc_consonant': 0.998878, 'acc_word': 0.996386, 'loss_grapheme': 0.015916, 'loss_vowel': 0.007499, 'loss_consonant': 0.004269, 'loss_word': 0.016859}\n",
      "###>>>>> saved ./model4-ckps/tf_efficientnet_b4/model4_eb4_fold3_380.pth\n",
      "   15 | 0.000131 | 160640/160716 | 6.5656 | 5.3159 | 14.74 ||\n",
      "val: {'recall': 0.997555, 'recall_grapheme': 0.996374, 'recall_vowel': 0.998474, 'recall_consonant': 0.998999, 'recall_word': 0.996091, 'acc_grapheme': 0.996486, 'acc_vowel': 0.99853, 'acc_consonant': 0.998829, 'acc_word': 0.996112, 'loss_grapheme': 0.017283, 'loss_vowel': 0.008388, 'loss_consonant': 0.005506, 'loss_word': 0.018054}\n",
      "   16 | 0.000123 | 160640/160716 | 0.2150 | 5.6255 | 14.68 ||\n",
      "val: {'recall': 0.997713, 'recall_grapheme': 0.99663, 'recall_vowel': 0.99863, 'recall_consonant': 0.99896, 'recall_word': 0.996123, 'acc_grapheme': 0.996611, 'acc_vowel': 0.99828, 'acc_consonant': 0.998978, 'acc_word': 0.996162, 'loss_grapheme': 0.016286, 'loss_vowel': 0.008644, 'loss_consonant': 0.004948, 'loss_word': 0.017101}\n",
      "   17 | 0.000116 | 160640/160716 | 15.0408 | 5.4696 | 14.70 |\n",
      "val: {'recall': 0.997362, 'recall_grapheme': 0.99619, 'recall_vowel': 0.998293, 'recall_consonant': 0.998776, 'recall_word': 0.995558, 'acc_grapheme': 0.995963, 'acc_vowel': 0.998255, 'acc_consonant': 0.998679, 'acc_word': 0.995614, 'loss_grapheme': 0.01845, 'loss_vowel': 0.009791, 'loss_consonant': 0.005883, 'loss_word': 0.019795}\n",
      "   18 | 0.000108 | 160640/160716 | 0.3430 | 5.5031 | 14.65 ||\n",
      "val: {'recall': 0.997726, 'recall_grapheme': 0.996537, 'recall_vowel': 0.998556, 'recall_consonant': 0.999274, 'recall_word': 0.996197, 'acc_grapheme': 0.996685, 'acc_vowel': 0.998405, 'acc_consonant': 0.999053, 'acc_word': 0.996287, 'loss_grapheme': 0.016548, 'loss_vowel': 0.009182, 'loss_consonant': 0.00469, 'loss_word': 0.017451}\n",
      "   19 | 0.000100 | 160640/160716 | 4.8934 | 5.3861 | 14.67 ||\n",
      "val: {'recall': 0.997464, 'recall_grapheme': 0.996127, 'recall_vowel': 0.998561, 'recall_consonant': 0.999039, 'recall_word': 0.995675, 'acc_grapheme': 0.996162, 'acc_vowel': 0.99848, 'acc_consonant': 0.998854, 'acc_word': 0.995713, 'loss_grapheme': 0.018247, 'loss_vowel': 0.008623, 'loss_consonant': 0.005464, 'loss_word': 0.019741}\n",
      "   20 | 0.000092 | 160640/160716 | 5.7073 | 5.5415 | 14.64 ||\n",
      "val: {'recall': 0.997349, 'recall_grapheme': 0.996093, 'recall_vowel': 0.998302, 'recall_consonant': 0.998906, 'recall_word': 0.995398, 'acc_grapheme': 0.996062, 'acc_vowel': 0.998255, 'acc_consonant': 0.998679, 'acc_word': 0.995389, 'loss_grapheme': 0.01863, 'loss_vowel': 0.009095, 'loss_consonant': 0.005563, 'loss_word': 0.020422}\n",
      "   21 | 0.000084 | 160640/160716 | 0.6803 | 5.5604 | 14.71 ||\n",
      "val: {'recall': 0.997693, 'recall_grapheme': 0.996565, 'recall_vowel': 0.998439, 'recall_consonant': 0.999205, 'recall_word': 0.996182, 'acc_grapheme': 0.996785, 'acc_vowel': 0.998405, 'acc_consonant': 0.998903, 'acc_word': 0.996212, 'loss_grapheme': 0.014947, 'loss_vowel': 0.007511, 'loss_consonant': 0.00406, 'loss_word': 0.016647}\n",
      "   22 | 0.000077 | 160640/160716 | 3.1953 | 5.4655 | 14.71 ||\n",
      "val: {'recall': 0.997614, 'recall_grapheme': 0.996457, 'recall_vowel': 0.99854, 'recall_consonant': 0.999002, 'recall_word': 0.995896, 'acc_grapheme': 0.996635, 'acc_vowel': 0.998579, 'acc_consonant': 0.998878, 'acc_word': 0.995938, 'loss_grapheme': 0.016818, 'loss_vowel': 0.00781, 'loss_consonant': 0.004629, 'loss_word': 0.018192}\n",
      "   23 | 0.000069 | 160640/160716 | 0.1198 | 5.3642 | 14.73 ||\n",
      "val: {'recall': 0.997672, 'recall_grapheme': 0.996479, 'recall_vowel': 0.998515, 'recall_consonant': 0.999215, 'recall_word': 0.995894, 'acc_grapheme': 0.996611, 'acc_vowel': 0.998455, 'acc_consonant': 0.998928, 'acc_word': 0.995963, 'loss_grapheme': 0.016299, 'loss_vowel': 0.008293, 'loss_consonant': 0.005111, 'loss_word': 0.018155}\n",
      "   24 | 0.000062 | 160640/160716 | 0.2480 | 5.4104 | 14.72 ||\n",
      "val: {'recall': 0.997727, 'recall_grapheme': 0.996549, 'recall_vowel': 0.998633, 'recall_consonant': 0.999176, 'recall_word': 0.996206, 'acc_grapheme': 0.99676, 'acc_vowel': 0.998604, 'acc_consonant': 0.998978, 'acc_word': 0.996262, 'loss_grapheme': 0.015837, 'loss_vowel': 0.007648, 'loss_consonant': 0.004101, 'loss_word': 0.017277}\n",
      "   25 | 0.000055 | 160640/160716 | 13.5026 | 5.5048 | 14.70 |\n",
      "val: {'recall': 0.997732, 'recall_grapheme': 0.996638, 'recall_vowel': 0.998365, 'recall_consonant': 0.999285, 'recall_word': 0.996284, 'acc_grapheme': 0.996611, 'acc_vowel': 0.998405, 'acc_consonant': 0.999103, 'acc_word': 0.996336, 'loss_grapheme': 0.016536, 'loss_vowel': 0.008462, 'loss_consonant': 0.004532, 'loss_word': 0.017213}\n",
      "   26 | 0.000048 | 160640/160716 | 3.8927 | 5.2740 | 14.72 ||\n",
      "val: {'recall': 0.997245, 'recall_grapheme': 0.995881, 'recall_vowel': 0.998325, 'recall_consonant': 0.998892, 'recall_word': 0.99553, 'acc_grapheme': 0.996137, 'acc_vowel': 0.998405, 'acc_consonant': 0.998704, 'acc_word': 0.995539, 'loss_grapheme': 0.020028, 'loss_vowel': 0.009649, 'loss_consonant': 0.005966, 'loss_word': 0.02181}\n",
      "   27 | 0.000041 | 160640/160716 | 0.2036 | 5.1843 | 14.75 ||\n",
      "val: {'recall': 0.99797, 'recall_grapheme': 0.996996, 'recall_vowel': 0.998596, 'recall_consonant': 0.999291, 'recall_word': 0.99657, 'acc_grapheme': 0.997009, 'acc_vowel': 0.99848, 'acc_consonant': 0.999178, 'acc_word': 0.996586, 'loss_grapheme': 0.014175, 'loss_vowel': 0.007429, 'loss_consonant': 0.003554, 'loss_word': 0.015401}\n",
      "###>>>>> saved ./model4-ckps/tf_efficientnet_b4/model4_eb4_fold3_380.pth\n",
      "   28 | 0.000035 | 160640/160716 | 0.0582 | 5.4284 | 14.71 ||\n",
      "val: {'recall': 0.997888, 'recall_grapheme': 0.996874, 'recall_vowel': 0.998529, 'recall_consonant': 0.999275, 'recall_word': 0.996377, 'acc_grapheme': 0.996959, 'acc_vowel': 0.998505, 'acc_consonant': 0.999178, 'acc_word': 0.996411, 'loss_grapheme': 0.014574, 'loss_vowel': 0.007396, 'loss_consonant': 0.003567, 'loss_word': 0.016136}\n",
      "   29 | 0.000029 | 160640/160716 | 0.4170 | 5.3076 | 14.71 ||\n",
      "val: {'recall': 0.997877, 'recall_grapheme': 0.996858, 'recall_vowel': 0.998603, 'recall_consonant': 0.999188, 'recall_word': 0.996314, 'acc_grapheme': 0.996935, 'acc_vowel': 0.998604, 'acc_consonant': 0.999053, 'acc_word': 0.996361, 'loss_grapheme': 0.015371, 'loss_vowel': 0.007361, 'loss_consonant': 0.003952, 'loss_word': 0.016257}\n",
      "   30 | 0.000024 | 160640/160716 | 4.5693 | 5.3356 | 14.71 ||\n",
      "val: {'recall': 0.997797, 'recall_grapheme': 0.99677, 'recall_vowel': 0.998453, 'recall_consonant': 0.999196, 'recall_word': 0.996147, 'acc_grapheme': 0.996511, 'acc_vowel': 0.99853, 'acc_consonant': 0.998978, 'acc_word': 0.996187, 'loss_grapheme': 0.015931, 'loss_vowel': 0.007747, 'loss_consonant': 0.003942, 'loss_word': 0.017637}\n",
      "   31 | 0.000019 | 160640/160716 | 0.5724 | 4.9127 | 14.72 ||\n",
      "val: {'recall': 0.997979, 'recall_grapheme': 0.996982, 'recall_vowel': 0.998655, 'recall_consonant': 0.999294, 'recall_word': 0.996609, 'acc_grapheme': 0.99691, 'acc_vowel': 0.998679, 'acc_consonant': 0.999153, 'acc_word': 0.996635, 'loss_grapheme': 0.015124, 'loss_vowel': 0.007527, 'loss_consonant': 0.004026, 'loss_word': 0.015711}\n",
      "###>>>>> saved ./model4-ckps/tf_efficientnet_b4/model4_eb4_fold3_380.pth\n",
      "   32 | 0.000015 | 160640/160716 | 6.7391 | 5.3860 | 14.74 ||\n",
      "val: {'recall': 0.998018, 'recall_grapheme': 0.997036, 'recall_vowel': 0.998639, 'recall_consonant': 0.999361, 'recall_word': 0.996448, 'acc_grapheme': 0.99691, 'acc_vowel': 0.998629, 'acc_consonant': 0.999202, 'acc_word': 0.996461, 'loss_grapheme': 0.014569, 'loss_vowel': 0.006717, 'loss_consonant': 0.003164, 'loss_word': 0.015258}\n",
      "###>>>>> saved ./model4-ckps/tf_efficientnet_b4/model4_eb4_fold3_380.pth\n",
      "   33 | 0.000011 | 160640/160716 | 2.3185 | 5.0155 | 14.76 ||\n",
      "val: {'recall': 0.997834, 'recall_grapheme': 0.99676, 'recall_vowel': 0.998538, 'recall_consonant': 0.999277, 'recall_word': 0.996341, 'acc_grapheme': 0.99666, 'acc_vowel': 0.998554, 'acc_consonant': 0.999078, 'acc_word': 0.996361, 'loss_grapheme': 0.01596, 'loss_vowel': 0.00759, 'loss_consonant': 0.003767, 'loss_word': 0.016863}\n",
      "   34 | 0.000008 | 160640/160716 | 0.1417 | 5.3027 | 14.70 ||\n",
      "val: {'recall': 0.997856, 'recall_grapheme': 0.996824, 'recall_vowel': 0.998418, 'recall_consonant': 0.999361, 'recall_word': 0.996425, 'acc_grapheme': 0.996785, 'acc_vowel': 0.99853, 'acc_consonant': 0.999202, 'acc_word': 0.996411, 'loss_grapheme': 0.015895, 'loss_vowel': 0.007754, 'loss_consonant': 0.003795, 'loss_word': 0.016771}\n",
      "   35 | 0.000005 | 160640/160716 | 0.2007 | 5.2028 | 14.75 ||\n",
      "val: {'recall': 0.997903, 'recall_grapheme': 0.996933, 'recall_vowel': 0.998414, 'recall_consonant': 0.999331, 'recall_word': 0.99654, 'acc_grapheme': 0.996959, 'acc_vowel': 0.99853, 'acc_consonant': 0.999202, 'acc_word': 0.996536, 'loss_grapheme': 0.014993, 'loss_vowel': 0.007491, 'loss_consonant': 0.003596, 'loss_word': 0.015907}\n",
      "   36 | 0.000003 | 160640/160716 | 3.0373 | 5.2301 | 14.71 ||\n",
      "val: {'recall': 0.997868, 'recall_grapheme': 0.996884, 'recall_vowel': 0.998411, 'recall_consonant': 0.999294, 'recall_word': 0.996393, 'acc_grapheme': 0.996959, 'acc_vowel': 0.998554, 'acc_consonant': 0.999153, 'acc_word': 0.996436, 'loss_grapheme': 0.015041, 'loss_vowel': 0.007263, 'loss_consonant': 0.003261, 'loss_word': 0.016198}\n",
      "   37 | 0.000002 | 033152/160716 | 6.0819 | 5.4596 | 3.07 |||"
     ]
    },
    {
     "ename": "KeyboardInterrupt",
     "evalue": "",
     "output_type": "error",
     "traceback": [
      "\u001b[0;31m---------------------------------------------------------------------------\u001b[0m",
      "\u001b[0;31mKeyboardInterrupt\u001b[0m                         Traceback (most recent call last)",
      "\u001b[0;32m<ipython-input-37-aad596905035>\u001b[0m in \u001b[0;36m<module>\u001b[0;34m\u001b[0m\n\u001b[0;32m----> 1\u001b[0;31m \u001b[0mtrain\u001b[0m\u001b[0;34m(\u001b[0m\u001b[0margs\u001b[0m\u001b[0;34m)\u001b[0m\u001b[0;34m\u001b[0m\u001b[0;34m\u001b[0m\u001b[0m\n\u001b[0m",
      "\u001b[0;32m<ipython-input-32-677febbde538>\u001b[0m in \u001b[0;36mtrain\u001b[0;34m(args)\u001b[0m\n\u001b[1;32m     63\u001b[0m         \u001b[0;32mfor\u001b[0m \u001b[0mepoch\u001b[0m \u001b[0;32min\u001b[0m \u001b[0mrange\u001b[0m\u001b[0;34m(\u001b[0m\u001b[0margs\u001b[0m\u001b[0;34m.\u001b[0m\u001b[0mnum_epochs\u001b[0m\u001b[0;34m)\u001b[0m\u001b[0;34m:\u001b[0m\u001b[0;34m\u001b[0m\u001b[0;34m\u001b[0m\u001b[0m\n\u001b[1;32m     64\u001b[0m             \u001b[0mgrid\u001b[0m\u001b[0;34m.\u001b[0m\u001b[0mset_prob\u001b[0m\u001b[0;34m(\u001b[0m\u001b[0mepoch\u001b[0m\u001b[0;34m,\u001b[0m \u001b[0margs\u001b[0m\u001b[0;34m.\u001b[0m\u001b[0mst_epochs\u001b[0m\u001b[0;34m)\u001b[0m\u001b[0;34m\u001b[0m\u001b[0;34m\u001b[0m\u001b[0m\n\u001b[0;32m---> 65\u001b[0;31m             \u001b[0mtrain_epoch\u001b[0m\u001b[0;34m(\u001b[0m\u001b[0margs\u001b[0m\u001b[0;34m,\u001b[0m \u001b[0mmodel\u001b[0m\u001b[0;34m,\u001b[0m \u001b[0mtrain_loader\u001b[0m\u001b[0;34m,\u001b[0m \u001b[0mepoch\u001b[0m\u001b[0;34m,\u001b[0m \u001b[0moptimizer\u001b[0m\u001b[0;34m,\u001b[0m \u001b[0mlr_scheduler\u001b[0m\u001b[0;34m,\u001b[0m \u001b[0mgrid\u001b[0m\u001b[0;34m)\u001b[0m\u001b[0;34m\u001b[0m\u001b[0;34m\u001b[0m\u001b[0m\n\u001b[0m\u001b[1;32m     66\u001b[0m             \u001b[0mvalidate_and_save\u001b[0m\u001b[0;34m(\u001b[0m\u001b[0mmodel\u001b[0m\u001b[0;34m,\u001b[0m \u001b[0mmodel_file\u001b[0m\u001b[0;34m,\u001b[0m \u001b[0mval_loader\u001b[0m\u001b[0;34m,\u001b[0m \u001b[0msave\u001b[0m\u001b[0;34m=\u001b[0m\u001b[0;32mTrue\u001b[0m\u001b[0;34m)\u001b[0m\u001b[0;34m\u001b[0m\u001b[0;34m\u001b[0m\u001b[0m\n\u001b[1;32m     67\u001b[0m \u001b[0;34m\u001b[0m\u001b[0m\n",
      "\u001b[0;32m<ipython-input-31-16e5a4d95497>\u001b[0m in \u001b[0;36mtrain_epoch\u001b[0;34m(args, model, train_loader, epoch, optimizer, lr_scheduler, grid)\u001b[0m\n\u001b[1;32m     45\u001b[0m         \u001b[0moptimizer\u001b[0m\u001b[0;34m.\u001b[0m\u001b[0mzero_grad\u001b[0m\u001b[0;34m(\u001b[0m\u001b[0;34m)\u001b[0m\u001b[0;34m\u001b[0m\u001b[0;34m\u001b[0m\u001b[0m\n\u001b[1;32m     46\u001b[0m         \u001b[0;32mwith\u001b[0m \u001b[0mamp\u001b[0m\u001b[0;34m.\u001b[0m\u001b[0mscale_loss\u001b[0m\u001b[0;34m(\u001b[0m\u001b[0mloss\u001b[0m\u001b[0;34m,\u001b[0m \u001b[0moptimizer\u001b[0m\u001b[0;34m)\u001b[0m \u001b[0;32mas\u001b[0m \u001b[0mscaled_loss\u001b[0m\u001b[0;34m:\u001b[0m\u001b[0;34m\u001b[0m\u001b[0;34m\u001b[0m\u001b[0m\n\u001b[0;32m---> 47\u001b[0;31m             \u001b[0mscaled_loss\u001b[0m\u001b[0;34m.\u001b[0m\u001b[0mbackward\u001b[0m\u001b[0;34m(\u001b[0m\u001b[0;34m)\u001b[0m\u001b[0;34m\u001b[0m\u001b[0;34m\u001b[0m\u001b[0m\n\u001b[0m\u001b[1;32m     48\u001b[0m         \u001b[0;31m#loss.backward()\u001b[0m\u001b[0;34m\u001b[0m\u001b[0;34m\u001b[0m\u001b[0;34m\u001b[0m\u001b[0m\n\u001b[1;32m     49\u001b[0m         \u001b[0mlr_scheduler\u001b[0m\u001b[0;34m(\u001b[0m\u001b[0moptimizer\u001b[0m\u001b[0;34m,\u001b[0m \u001b[0mbatch_idx\u001b[0m\u001b[0;34m,\u001b[0m \u001b[0mepoch\u001b[0m\u001b[0;34m)\u001b[0m\u001b[0;34m\u001b[0m\u001b[0;34m\u001b[0m\u001b[0m\n",
      "\u001b[0;32m~/anaconda3/lib/python3.7/site-packages/torch/tensor.py\u001b[0m in \u001b[0;36mbackward\u001b[0;34m(self, gradient, retain_graph, create_graph)\u001b[0m\n\u001b[1;32m    116\u001b[0m                 \u001b[0mproducts\u001b[0m\u001b[0;34m.\u001b[0m \u001b[0mDefaults\u001b[0m \u001b[0mto\u001b[0m\u001b[0;31m \u001b[0m\u001b[0;31m`\u001b[0m\u001b[0;31m`\u001b[0m\u001b[0;32mFalse\u001b[0m\u001b[0;31m`\u001b[0m\u001b[0;31m`\u001b[0m\u001b[0;34m.\u001b[0m\u001b[0;34m\u001b[0m\u001b[0;34m\u001b[0m\u001b[0m\n\u001b[1;32m    117\u001b[0m         \"\"\"\n\u001b[0;32m--> 118\u001b[0;31m         \u001b[0mtorch\u001b[0m\u001b[0;34m.\u001b[0m\u001b[0mautograd\u001b[0m\u001b[0;34m.\u001b[0m\u001b[0mbackward\u001b[0m\u001b[0;34m(\u001b[0m\u001b[0mself\u001b[0m\u001b[0;34m,\u001b[0m \u001b[0mgradient\u001b[0m\u001b[0;34m,\u001b[0m \u001b[0mretain_graph\u001b[0m\u001b[0;34m,\u001b[0m \u001b[0mcreate_graph\u001b[0m\u001b[0;34m)\u001b[0m\u001b[0;34m\u001b[0m\u001b[0;34m\u001b[0m\u001b[0m\n\u001b[0m\u001b[1;32m    119\u001b[0m \u001b[0;34m\u001b[0m\u001b[0m\n\u001b[1;32m    120\u001b[0m     \u001b[0;32mdef\u001b[0m \u001b[0mregister_hook\u001b[0m\u001b[0;34m(\u001b[0m\u001b[0mself\u001b[0m\u001b[0;34m,\u001b[0m \u001b[0mhook\u001b[0m\u001b[0;34m)\u001b[0m\u001b[0;34m:\u001b[0m\u001b[0;34m\u001b[0m\u001b[0;34m\u001b[0m\u001b[0m\n",
      "\u001b[0;32m~/anaconda3/lib/python3.7/site-packages/torch/autograd/__init__.py\u001b[0m in \u001b[0;36mbackward\u001b[0;34m(tensors, grad_tensors, retain_graph, create_graph, grad_variables)\u001b[0m\n\u001b[1;32m     91\u001b[0m     Variable._execution_engine.run_backward(\n\u001b[1;32m     92\u001b[0m         \u001b[0mtensors\u001b[0m\u001b[0;34m,\u001b[0m \u001b[0mgrad_tensors\u001b[0m\u001b[0;34m,\u001b[0m \u001b[0mretain_graph\u001b[0m\u001b[0;34m,\u001b[0m \u001b[0mcreate_graph\u001b[0m\u001b[0;34m,\u001b[0m\u001b[0;34m\u001b[0m\u001b[0;34m\u001b[0m\u001b[0m\n\u001b[0;32m---> 93\u001b[0;31m         allow_unreachable=True)  # allow_unreachable flag\n\u001b[0m\u001b[1;32m     94\u001b[0m \u001b[0;34m\u001b[0m\u001b[0m\n\u001b[1;32m     95\u001b[0m \u001b[0;34m\u001b[0m\u001b[0m\n",
      "\u001b[0;31mKeyboardInterrupt\u001b[0m: "
     ]
    }
   ],
   "source": [
    "train(args)"
   ]
  },
  {
   "cell_type": "code",
   "execution_count": null,
   "metadata": {},
   "outputs": [],
   "source": []
  },
  {
   "cell_type": "code",
   "execution_count": 37,
   "metadata": {},
   "outputs": [
    {
     "name": "stdout",
     "output_type": "stream",
     "text": [
      "model file: ./model4-ckps/tf_efficientnet_b4/model4_eb4_fold3_380.pth, exist: True\n",
      "loading ./model4-ckps/tf_efficientnet_b4/model4_eb4_fold3_380.pth...\n",
      "model file: ./model4-ckps/tf_efficientnet_b4/model4_eb4_fold3_380.pth_swa, exist: False\n",
      "\n",
      "val: {'recall': 0.796988, 'recall_grapheme': 0.763845, 'recall_vowel': 0.863414, 'recall_consonant': 0.796848, 'recall_word': 0.762264, 'acc_grapheme': 0.493819, 'acc_vowel': 0.788904, 'acc_consonant': 0.767645, 'acc_word': 0.316245, 'loss_grapheme': 1.992506, 'loss_vowel': 0.626105, 'loss_consonant': 0.522644, 'loss_word': 3.290409}\n",
      "CYCLE: 1\n"
     ]
    },
    {
     "name": "stderr",
     "output_type": "stream",
     "text": [
      "/home/chec/anaconda3/lib/python3.7/site-packages/sklearn/metrics/classification.py:1439: UndefinedMetricWarning: Recall is ill-defined and being set to 0.0 in labels with no true samples.\n",
      "  'recall', 'true', average, warn_for)\n"
     ]
    },
    {
     "name": "stdout",
     "output_type": "stream",
     "text": [
      "    0 | 0.000292 | 160640/160716 | 6.7174 | 10.7151 | 13.99 ||\n",
      "val: {'recall': 0.992886, 'recall_grapheme': 0.989107, 'recall_vowel': 0.996141, 'recall_consonant': 0.997187, 'recall_word': 0.9882, 'acc_grapheme': 0.989607, 'acc_vowel': 0.996087, 'acc_consonant': 0.996087, 'acc_word': 0.988212, 'loss_grapheme': 0.129831, 'loss_vowel': 0.068911, 'loss_consonant': 0.05198, 'loss_word': 0.144907}\n",
      "###>>>>> saved ./model4-ckps/tf_efficientnet_b4/model4_eb4_fold3_380.pth\n",
      "    1 | 0.000543 | 160640/160716 | 7.1504 | 7.3232 | 14.15 ||\n",
      "val: {'recall': 0.992768, 'recall_grapheme': 0.989784, 'recall_vowel': 0.995191, 'recall_consonant': 0.996311, 'recall_word': 0.989335, 'acc_grapheme': 0.99018, 'acc_vowel': 0.995364, 'acc_consonant': 0.995464, 'acc_word': 0.988884, 'loss_grapheme': 0.069323, 'loss_vowel': 0.043396, 'loss_consonant': 0.0354, 'loss_word': 0.072684}\n",
      "    2 | 0.000476 | 160640/160716 | 16.1799 | 6.6101 | 14.24 |\n",
      "val: {'recall': 0.994403, 'recall_grapheme': 0.992025, 'recall_vowel': 0.996674, 'recall_consonant': 0.996886, 'recall_word': 0.992539, 'acc_grapheme': 0.992498, 'acc_vowel': 0.996486, 'acc_consonant': 0.99686, 'acc_word': 0.992299, 'loss_grapheme': 0.043576, 'loss_vowel': 0.027332, 'loss_consonant': 0.023003, 'loss_word': 0.041019}\n",
      "###>>>>> saved ./model4-ckps/tf_efficientnet_b4/model4_eb4_fold3_380.pth\n",
      "    3 | 0.000393 | 160640/160716 | 0.9650 | 6.9003 | 14.31 ||\n",
      "val: {'recall': 0.995804, 'recall_grapheme': 0.993698, 'recall_vowel': 0.997668, 'recall_consonant': 0.998151, 'recall_word': 0.993684, 'acc_grapheme': 0.993869, 'acc_vowel': 0.997308, 'acc_consonant': 0.997857, 'acc_word': 0.993645, 'loss_grapheme': 0.036312, 'loss_vowel': 0.018685, 'loss_consonant': 0.015354, 'loss_word': 0.03357}\n",
      "###>>>>> saved ./model4-ckps/tf_efficientnet_b4/model4_eb4_fold3_380.pth\n",
      "    4 | 0.000300 | 160640/160716 | 0.7891 | 6.5326 | 14.39 ||\n",
      "val: {'recall': 0.99667, 'recall_grapheme': 0.995389, 'recall_vowel': 0.997441, 'recall_consonant': 0.99846, 'recall_word': 0.994988, 'acc_grapheme': 0.99529, 'acc_vowel': 0.997732, 'acc_consonant': 0.99828, 'acc_word': 0.994966, 'loss_grapheme': 0.02539, 'loss_vowel': 0.014059, 'loss_consonant': 0.00927, 'loss_word': 0.024518}\n",
      "###>>>>> saved ./model4-ckps/tf_efficientnet_b4/model4_eb4_fold3_380.pth\n",
      "    5 | 0.000207 | 160640/160716 | 4.0624 | 6.0675 | 14.53 ||\n",
      "val: {'recall': 0.997223, 'recall_grapheme': 0.995809, 'recall_vowel': 0.998285, 'recall_consonant': 0.998987, 'recall_word': 0.995372, 'acc_grapheme': 0.995763, 'acc_vowel': 0.998081, 'acc_consonant': 0.998804, 'acc_word': 0.995364, 'loss_grapheme': 0.026658, 'loss_vowel': 0.016551, 'loss_consonant': 0.0111, 'loss_word': 0.024834}\n",
      "###>>>>> saved ./model4-ckps/tf_efficientnet_b4/model4_eb4_fold3_380.pth\n",
      "    6 | 0.000124 | 160640/160716 | 0.2344 | 6.0926 | 14.55 ||\n",
      "val: {'recall': 0.997462, 'recall_grapheme': 0.996485, 'recall_vowel': 0.997904, 'recall_consonant': 0.998974, 'recall_word': 0.995902, 'acc_grapheme': 0.996411, 'acc_vowel': 0.997931, 'acc_consonant': 0.998953, 'acc_word': 0.995913, 'loss_grapheme': 0.017905, 'loss_vowel': 0.010713, 'loss_consonant': 0.006275, 'loss_word': 0.018051}\n",
      "###>>>>> saved ./model4-ckps/tf_efficientnet_b4/model4_eb4_fold3_380.pth\n",
      "    7 | 0.000057 | 160640/160716 | 4.9114 | 5.7432 | 14.61 ||\n",
      "val: {'recall': 0.997225, 'recall_grapheme': 0.99577, 'recall_vowel': 0.998459, 'recall_consonant': 0.998899, 'recall_word': 0.995639, 'acc_grapheme': 0.995987, 'acc_vowel': 0.998255, 'acc_consonant': 0.998854, 'acc_word': 0.995614, 'loss_grapheme': 0.01913, 'loss_vowel': 0.010592, 'loss_consonant': 0.006204, 'loss_word': 0.020083}\n",
      "    8 | 0.000015 | 160640/160716 | 0.1540 | 5.8037 | 14.59 ||\n",
      "val: {'recall': 0.997597, 'recall_grapheme': 0.996428, 'recall_vowel': 0.998394, 'recall_consonant': 0.999137, 'recall_word': 0.996368, 'acc_grapheme': 0.996735, 'acc_vowel': 0.99843, 'acc_consonant': 0.998953, 'acc_word': 0.996361, 'loss_grapheme': 0.018075, 'loss_vowel': 0.010609, 'loss_consonant': 0.006052, 'loss_word': 0.017806}\n",
      "###>>>>> saved ./model4-ckps/tf_efficientnet_b4/model4_eb4_fold3_380.pth\n",
      "    9 | 0.000000 | 160640/160716 | 5.9176 | 5.2732 | 14.64 ||\n",
      "val: {'recall': 0.997146, 'recall_grapheme': 0.995898, 'recall_vowel': 0.998289, 'recall_consonant': 0.998501, 'recall_word': 0.995932, 'acc_grapheme': 0.996237, 'acc_vowel': 0.99823, 'acc_consonant': 0.998804, 'acc_word': 0.995938, 'loss_grapheme': 0.019165, 'loss_vowel': 0.010365, 'loss_consonant': 0.006386, 'loss_word': 0.019683}\n",
      "CYCLE: 2\n",
      "    0 | 0.000001 | 001152/160716 | 6.0654 | 4.3986 | 0.14 ||"
     ]
    },
    {
     "ename": "KeyboardInterrupt",
     "evalue": "",
     "output_type": "error",
     "traceback": [
      "\u001b[0;31m---------------------------------------------------------------------------\u001b[0m",
      "\u001b[0;31mKeyboardInterrupt\u001b[0m                         Traceback (most recent call last)",
      "\u001b[0;32m<ipython-input-37-aad596905035>\u001b[0m in \u001b[0;36m<module>\u001b[0;34m\u001b[0m\n\u001b[0;32m----> 1\u001b[0;31m \u001b[0mtrain\u001b[0m\u001b[0;34m(\u001b[0m\u001b[0margs\u001b[0m\u001b[0;34m)\u001b[0m\u001b[0;34m\u001b[0m\u001b[0;34m\u001b[0m\u001b[0m\n\u001b[0m",
      "\u001b[0;32m<ipython-input-32-f9be614ddf4d>\u001b[0m in \u001b[0;36mtrain\u001b[0;34m(args)\u001b[0m\n\u001b[1;32m     63\u001b[0m         \u001b[0;32mfor\u001b[0m \u001b[0mepoch\u001b[0m \u001b[0;32min\u001b[0m \u001b[0mrange\u001b[0m\u001b[0;34m(\u001b[0m\u001b[0margs\u001b[0m\u001b[0;34m.\u001b[0m\u001b[0mnum_epochs\u001b[0m\u001b[0;34m)\u001b[0m\u001b[0;34m:\u001b[0m\u001b[0;34m\u001b[0m\u001b[0;34m\u001b[0m\u001b[0m\n\u001b[1;32m     64\u001b[0m             \u001b[0mgrid\u001b[0m\u001b[0;34m.\u001b[0m\u001b[0mset_prob\u001b[0m\u001b[0;34m(\u001b[0m\u001b[0mepoch\u001b[0m\u001b[0;34m,\u001b[0m \u001b[0margs\u001b[0m\u001b[0;34m.\u001b[0m\u001b[0mst_epochs\u001b[0m\u001b[0;34m)\u001b[0m\u001b[0;34m\u001b[0m\u001b[0;34m\u001b[0m\u001b[0m\n\u001b[0;32m---> 65\u001b[0;31m             \u001b[0mtrain_epoch\u001b[0m\u001b[0;34m(\u001b[0m\u001b[0margs\u001b[0m\u001b[0;34m,\u001b[0m \u001b[0mmodel\u001b[0m\u001b[0;34m,\u001b[0m \u001b[0mtrain_loader\u001b[0m\u001b[0;34m,\u001b[0m \u001b[0mepoch\u001b[0m\u001b[0;34m,\u001b[0m \u001b[0moptimizer\u001b[0m\u001b[0;34m,\u001b[0m \u001b[0mlr_scheduler\u001b[0m\u001b[0;34m,\u001b[0m \u001b[0mgrid\u001b[0m\u001b[0;34m)\u001b[0m\u001b[0;34m\u001b[0m\u001b[0;34m\u001b[0m\u001b[0m\n\u001b[0m\u001b[1;32m     66\u001b[0m             \u001b[0mvalidate_and_save\u001b[0m\u001b[0;34m(\u001b[0m\u001b[0mmodel\u001b[0m\u001b[0;34m,\u001b[0m \u001b[0mmodel_file\u001b[0m\u001b[0;34m,\u001b[0m \u001b[0mval_loader\u001b[0m\u001b[0;34m,\u001b[0m \u001b[0msave\u001b[0m\u001b[0;34m=\u001b[0m\u001b[0;32mTrue\u001b[0m\u001b[0;34m)\u001b[0m\u001b[0;34m\u001b[0m\u001b[0;34m\u001b[0m\u001b[0m\n\u001b[1;32m     67\u001b[0m \u001b[0;34m\u001b[0m\u001b[0m\n",
      "\u001b[0;32m<ipython-input-31-16e5a4d95497>\u001b[0m in \u001b[0;36mtrain_epoch\u001b[0;34m(args, model, train_loader, epoch, optimizer, lr_scheduler, grid)\u001b[0m\n\u001b[1;32m     45\u001b[0m         \u001b[0moptimizer\u001b[0m\u001b[0;34m.\u001b[0m\u001b[0mzero_grad\u001b[0m\u001b[0;34m(\u001b[0m\u001b[0;34m)\u001b[0m\u001b[0;34m\u001b[0m\u001b[0;34m\u001b[0m\u001b[0m\n\u001b[1;32m     46\u001b[0m         \u001b[0;32mwith\u001b[0m \u001b[0mamp\u001b[0m\u001b[0;34m.\u001b[0m\u001b[0mscale_loss\u001b[0m\u001b[0;34m(\u001b[0m\u001b[0mloss\u001b[0m\u001b[0;34m,\u001b[0m \u001b[0moptimizer\u001b[0m\u001b[0;34m)\u001b[0m \u001b[0;32mas\u001b[0m \u001b[0mscaled_loss\u001b[0m\u001b[0;34m:\u001b[0m\u001b[0;34m\u001b[0m\u001b[0;34m\u001b[0m\u001b[0m\n\u001b[0;32m---> 47\u001b[0;31m             \u001b[0mscaled_loss\u001b[0m\u001b[0;34m.\u001b[0m\u001b[0mbackward\u001b[0m\u001b[0;34m(\u001b[0m\u001b[0;34m)\u001b[0m\u001b[0;34m\u001b[0m\u001b[0;34m\u001b[0m\u001b[0m\n\u001b[0m\u001b[1;32m     48\u001b[0m         \u001b[0;31m#loss.backward()\u001b[0m\u001b[0;34m\u001b[0m\u001b[0;34m\u001b[0m\u001b[0;34m\u001b[0m\u001b[0m\n\u001b[1;32m     49\u001b[0m         \u001b[0mlr_scheduler\u001b[0m\u001b[0;34m(\u001b[0m\u001b[0moptimizer\u001b[0m\u001b[0;34m,\u001b[0m \u001b[0mbatch_idx\u001b[0m\u001b[0;34m,\u001b[0m \u001b[0mepoch\u001b[0m\u001b[0;34m)\u001b[0m\u001b[0;34m\u001b[0m\u001b[0;34m\u001b[0m\u001b[0m\n",
      "\u001b[0;32m~/anaconda3/lib/python3.7/site-packages/torch/tensor.py\u001b[0m in \u001b[0;36mbackward\u001b[0;34m(self, gradient, retain_graph, create_graph)\u001b[0m\n\u001b[1;32m    116\u001b[0m                 \u001b[0mproducts\u001b[0m\u001b[0;34m.\u001b[0m \u001b[0mDefaults\u001b[0m \u001b[0mto\u001b[0m\u001b[0;31m \u001b[0m\u001b[0;31m`\u001b[0m\u001b[0;31m`\u001b[0m\u001b[0;32mFalse\u001b[0m\u001b[0;31m`\u001b[0m\u001b[0;31m`\u001b[0m\u001b[0;34m.\u001b[0m\u001b[0;34m\u001b[0m\u001b[0;34m\u001b[0m\u001b[0m\n\u001b[1;32m    117\u001b[0m         \"\"\"\n\u001b[0;32m--> 118\u001b[0;31m         \u001b[0mtorch\u001b[0m\u001b[0;34m.\u001b[0m\u001b[0mautograd\u001b[0m\u001b[0;34m.\u001b[0m\u001b[0mbackward\u001b[0m\u001b[0;34m(\u001b[0m\u001b[0mself\u001b[0m\u001b[0;34m,\u001b[0m \u001b[0mgradient\u001b[0m\u001b[0;34m,\u001b[0m \u001b[0mretain_graph\u001b[0m\u001b[0;34m,\u001b[0m \u001b[0mcreate_graph\u001b[0m\u001b[0;34m)\u001b[0m\u001b[0;34m\u001b[0m\u001b[0;34m\u001b[0m\u001b[0m\n\u001b[0m\u001b[1;32m    119\u001b[0m \u001b[0;34m\u001b[0m\u001b[0m\n\u001b[1;32m    120\u001b[0m     \u001b[0;32mdef\u001b[0m \u001b[0mregister_hook\u001b[0m\u001b[0;34m(\u001b[0m\u001b[0mself\u001b[0m\u001b[0;34m,\u001b[0m \u001b[0mhook\u001b[0m\u001b[0;34m)\u001b[0m\u001b[0;34m:\u001b[0m\u001b[0;34m\u001b[0m\u001b[0;34m\u001b[0m\u001b[0m\n",
      "\u001b[0;32m~/anaconda3/lib/python3.7/site-packages/torch/autograd/__init__.py\u001b[0m in \u001b[0;36mbackward\u001b[0;34m(tensors, grad_tensors, retain_graph, create_graph, grad_variables)\u001b[0m\n\u001b[1;32m     91\u001b[0m     Variable._execution_engine.run_backward(\n\u001b[1;32m     92\u001b[0m         \u001b[0mtensors\u001b[0m\u001b[0;34m,\u001b[0m \u001b[0mgrad_tensors\u001b[0m\u001b[0;34m,\u001b[0m \u001b[0mretain_graph\u001b[0m\u001b[0;34m,\u001b[0m \u001b[0mcreate_graph\u001b[0m\u001b[0;34m,\u001b[0m\u001b[0;34m\u001b[0m\u001b[0;34m\u001b[0m\u001b[0m\n\u001b[0;32m---> 93\u001b[0;31m         allow_unreachable=True)  # allow_unreachable flag\n\u001b[0m\u001b[1;32m     94\u001b[0m \u001b[0;34m\u001b[0m\u001b[0m\n\u001b[1;32m     95\u001b[0m \u001b[0;34m\u001b[0m\u001b[0m\n",
      "\u001b[0;31mKeyboardInterrupt\u001b[0m: "
     ]
    }
   ],
   "source": [
    "train(args)"
   ]
  },
  {
   "cell_type": "code",
   "execution_count": 44,
   "metadata": {},
   "outputs": [
    {
     "data": {
      "text/plain": [
       "1582104595.1300395"
      ]
     },
     "execution_count": 44,
     "metadata": {},
     "output_type": "execute_result"
    }
   ],
   "source": [
    "time.time()"
   ]
  },
  {
   "cell_type": "code",
   "execution_count": null,
   "metadata": {},
   "outputs": [],
   "source": []
  },
  {
   "cell_type": "code",
   "execution_count": null,
   "metadata": {},
   "outputs": [],
   "source": []
  },
  {
   "cell_type": "code",
   "execution_count": null,
   "metadata": {},
   "outputs": [],
   "source": []
  },
  {
   "cell_type": "code",
   "execution_count": null,
   "metadata": {},
   "outputs": [],
   "source": []
  },
  {
   "cell_type": "code",
   "execution_count": null,
   "metadata": {},
   "outputs": [],
   "source": []
  },
  {
   "cell_type": "code",
   "execution_count": null,
   "metadata": {},
   "outputs": [],
   "source": [
    "#save_model(model, model_file)"
   ]
  },
  {
   "cell_type": "code",
   "execution_count": null,
   "metadata": {},
   "outputs": [],
   "source": [
    "del model"
   ]
  },
  {
   "cell_type": "code",
   "execution_count": null,
   "metadata": {},
   "outputs": [],
   "source": []
  },
  {
   "cell_type": "code",
   "execution_count": null,
   "metadata": {},
   "outputs": [],
   "source": []
  }
 ],
 "metadata": {
  "kernelspec": {
   "display_name": "Python 3",
   "language": "python",
   "name": "python3"
  },
  "language_info": {
   "codemirror_mode": {
    "name": "ipython",
    "version": 3
   },
   "file_extension": ".py",
   "mimetype": "text/x-python",
   "name": "python",
   "nbconvert_exporter": "python",
   "pygments_lexer": "ipython3",
   "version": "3.7.3"
  }
 },
 "nbformat": 4,
 "nbformat_minor": 2
}
