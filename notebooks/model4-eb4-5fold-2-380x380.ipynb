{
 "cells": [
  {
   "cell_type": "code",
   "execution_count": 1,
   "metadata": {},
   "outputs": [],
   "source": [
    "import os\n",
    "import pandas as pd\n",
    "import numpy as np\n",
    "import time, gc\n",
    "import cv2\n",
    "import matplotlib.pyplot as plt\n",
    "import torch\n",
    "import torch.nn as nn\n",
    "import torch.nn.functional as F\n",
    "import torch.optim as optim\n",
    "import pretrainedmodels\n",
    "from argparse import Namespace\n",
    "from sklearn.utils import shuffle\n",
    "from apex import amp\n",
    "from sklearn.model_selection import StratifiedKFold\n",
    "from efficientnet_pytorch import EfficientNet\n",
    "from cvcore.data.auto_augment import RandAugment\n",
    "from PIL import Image\n",
    "from utils import bn_update, moving_average, copy_model\n"
   ]
  },
  {
   "cell_type": "code",
   "execution_count": 2,
   "metadata": {},
   "outputs": [
    {
     "name": "stdout",
     "output_type": "stream",
     "text": [
      "class_map.csv\t\t       train.csv\r\n",
      "sample_submission.csv\t       train.csv.zip\r\n",
      "test.csv\t\t       train_image_data_0.parquet\r\n",
      "test_image_data_0.parquet      train_image_data_0.parquet.zip\r\n",
      "test_image_data_0.parquet.zip  train_image_data_1.parquet\r\n",
      "test_image_data_1.parquet      train_image_data_1.parquet.zip\r\n",
      "test_image_data_1.parquet.zip  train_image_data_2.parquet\r\n",
      "test_image_data_2.parquet      train_image_data_2.parquet.zip\r\n",
      "test_image_data_2.parquet.zip  train_image_data_3.parquet\r\n",
      "test_image_data_3.parquet      train_image_data_3.parquet.zip\r\n",
      "test_image_data_3.parquet.zip\r\n"
     ]
    }
   ],
   "source": [
    "!ls /home/chec/data/bengali"
   ]
  },
  {
   "cell_type": "code",
   "execution_count": 3,
   "metadata": {},
   "outputs": [],
   "source": [
    "#!ls /home/chec/data/bengali"
   ]
  },
  {
   "cell_type": "code",
   "execution_count": 4,
   "metadata": {},
   "outputs": [],
   "source": [
    "DATA_DIR = '/home/chec/data/bengali'"
   ]
  },
  {
   "cell_type": "code",
   "execution_count": 5,
   "metadata": {},
   "outputs": [],
   "source": [
    "train_df = pd.read_csv(f'{DATA_DIR}/train.csv')\n",
    "test_df = pd.read_csv(f'{DATA_DIR}/test.csv')\n",
    "class_map_df = pd.read_csv(f'{DATA_DIR}/class_map.csv')\n",
    "sample_sub_df = pd.read_csv(f'{DATA_DIR}/sample_submission.csv')"
   ]
  },
  {
   "cell_type": "code",
   "execution_count": 6,
   "metadata": {},
   "outputs": [
    {
     "data": {
      "text/html": [
       "<div>\n",
       "<style scoped>\n",
       "    .dataframe tbody tr th:only-of-type {\n",
       "        vertical-align: middle;\n",
       "    }\n",
       "\n",
       "    .dataframe tbody tr th {\n",
       "        vertical-align: top;\n",
       "    }\n",
       "\n",
       "    .dataframe thead th {\n",
       "        text-align: right;\n",
       "    }\n",
       "</style>\n",
       "<table border=\"1\" class=\"dataframe\">\n",
       "  <thead>\n",
       "    <tr style=\"text-align: right;\">\n",
       "      <th></th>\n",
       "      <th>image_id</th>\n",
       "      <th>grapheme_root</th>\n",
       "      <th>vowel_diacritic</th>\n",
       "      <th>consonant_diacritic</th>\n",
       "      <th>grapheme</th>\n",
       "    </tr>\n",
       "  </thead>\n",
       "  <tbody>\n",
       "    <tr>\n",
       "      <th>0</th>\n",
       "      <td>Train_0</td>\n",
       "      <td>15</td>\n",
       "      <td>9</td>\n",
       "      <td>5</td>\n",
       "      <td>ক্ট্রো</td>\n",
       "    </tr>\n",
       "    <tr>\n",
       "      <th>1</th>\n",
       "      <td>Train_1</td>\n",
       "      <td>159</td>\n",
       "      <td>0</td>\n",
       "      <td>0</td>\n",
       "      <td>হ</td>\n",
       "    </tr>\n",
       "    <tr>\n",
       "      <th>2</th>\n",
       "      <td>Train_2</td>\n",
       "      <td>22</td>\n",
       "      <td>3</td>\n",
       "      <td>5</td>\n",
       "      <td>খ্রী</td>\n",
       "    </tr>\n",
       "    <tr>\n",
       "      <th>3</th>\n",
       "      <td>Train_3</td>\n",
       "      <td>53</td>\n",
       "      <td>2</td>\n",
       "      <td>2</td>\n",
       "      <td>র্টি</td>\n",
       "    </tr>\n",
       "    <tr>\n",
       "      <th>4</th>\n",
       "      <td>Train_4</td>\n",
       "      <td>71</td>\n",
       "      <td>9</td>\n",
       "      <td>5</td>\n",
       "      <td>থ্রো</td>\n",
       "    </tr>\n",
       "  </tbody>\n",
       "</table>\n",
       "</div>"
      ],
      "text/plain": [
       "  image_id  grapheme_root  vowel_diacritic  consonant_diacritic grapheme\n",
       "0  Train_0             15                9                    5   ক্ট্রো\n",
       "1  Train_1            159                0                    0        হ\n",
       "2  Train_2             22                3                    5     খ্রী\n",
       "3  Train_3             53                2                    2     র্টি\n",
       "4  Train_4             71                9                    5     থ্রো"
      ]
     },
     "execution_count": 6,
     "metadata": {},
     "output_type": "execute_result"
    }
   ],
   "source": [
    "train_df.head()"
   ]
  },
  {
   "cell_type": "code",
   "execution_count": 7,
   "metadata": {},
   "outputs": [],
   "source": [
    "HEIGHT = 137\n",
    "WIDTH = 236"
   ]
  },
  {
   "cell_type": "code",
   "execution_count": 8,
   "metadata": {},
   "outputs": [],
   "source": [
    "#import albumentations as albu\n",
    "def get_train_augs():\n",
    "    return RandAugment(n=2, m=27)"
   ]
  },
  {
   "cell_type": "code",
   "execution_count": 9,
   "metadata": {},
   "outputs": [],
   "source": [
    "#plt.imshow(x)"
   ]
  },
  {
   "cell_type": "code",
   "execution_count": 10,
   "metadata": {},
   "outputs": [],
   "source": [
    "from torch.utils.data import DataLoader, Dataset\n",
    "from torchvision import transforms\n",
    "\n",
    "\n",
    "class BengaliDataset(Dataset):\n",
    "    def __init__(self, df, img_df, train_mode=True, test_mode=False):\n",
    "        self.df = df\n",
    "        self.img_df = img_df\n",
    "        self.train_mode = train_mode\n",
    "        self.test_mode = test_mode\n",
    "\n",
    "    def __getitem__(self, idx):\n",
    "        row = self.df.iloc[idx]\n",
    "        img = self.get_img(row.image_id)\n",
    "        orig_img = img.copy()\n",
    "        #print(img.shape)\n",
    "        if self.train_mode:\n",
    "            augs = get_train_augs()\n",
    "            #img = augs(image=img)['image']\n",
    "            img = np.asarray(augs(Image.fromarray(img)))\n",
    "        \n",
    "        img = np.expand_dims(img, axis=-1)\n",
    "        orig_img = np.expand_dims(orig_img, axis=-1)\n",
    "        \n",
    "        #print('###', img.shape)\n",
    "        #img = np.concatenate([img, img, img], 2)\n",
    "        #print('>>>', img.shape)\n",
    "        \n",
    "        # taken from https://www.kaggle.com/iafoss/image-preprocessing-128x128\n",
    "        #MEAN = [ 0.06922848809290576,  0.06922848809290576,  0.06922848809290576]\n",
    "        #STD = [ 0.20515700083327537,  0.20515700083327537,  0.20515700083327537]\n",
    "        \n",
    "        img = transforms.functional.to_tensor(img)\n",
    "        orig_img = transforms.functional.to_tensor(orig_img)\n",
    "        \n",
    "        #img = transforms.functional.normalize(img, mean=MEAN, std=STD)\n",
    "        \n",
    "        if self.test_mode:\n",
    "            return img\n",
    "        elif self.train_mode:\n",
    "            return img, orig_img, torch.tensor([row.grapheme_root, row.vowel_diacritic, row.consonant_diacritic, row.word_label])\n",
    "        else:\n",
    "            return img, torch.tensor([row.grapheme_root, row.vowel_diacritic, row.consonant_diacritic, row.word_label])\n",
    "                    \n",
    "    def get_img(self, img_id):\n",
    "        return 255 - self.img_df.loc[img_id].values.reshape(HEIGHT, WIDTH).astype(np.uint8)\n",
    "\n",
    "    def __len__(self):\n",
    "        return len(self.df)\n",
    "    \n",
    "def get_train_val_loaders(batch_size=4, val_batch_size=4, ifold=0, dev_mode=False):\n",
    "    train_df = pd.read_csv(f'{DATA_DIR}/train.csv')\n",
    "\n",
    "    train_df = shuffle(train_df, random_state=1234)\n",
    "\n",
    "    grapheme_words = np.unique(train_df.grapheme.values)\n",
    "    grapheme_words_dict = {grapheme: i for i, grapheme in enumerate(grapheme_words)}\n",
    "    train_df['word_label'] = train_df['grapheme'].map(lambda x: grapheme_words_dict[x])\n",
    "\n",
    "    print(train_df.shape)\n",
    "\n",
    "    if dev_mode:\n",
    "        img_df = pd.read_parquet(f'{DATA_DIR}/train_image_data_0.parquet').set_index('image_id')\n",
    "        train_df = train_df.iloc[:1000]\n",
    "    else:\n",
    "        img_dfs = [pd.read_parquet(f'{DATA_DIR}/train_image_data_{i}.parquet') for i in range(4)]\n",
    "        img_df = pd.concat(img_dfs, axis=0).set_index('image_id')\n",
    "    print(img_df.shape)\n",
    "    #split_index = int(len(train_df) * 0.9)\n",
    "    \n",
    "    #train = train_df.iloc[:split_index]\n",
    "    #val = train_df.iloc[split_index:]\n",
    "    \n",
    "    kf = StratifiedKFold(5, random_state=1234, shuffle=True)\n",
    "    for i, (train_idx, val_idx) in enumerate(kf.split(train_df, train_df['grapheme_root'].values)):\n",
    "        if i == ifold:\n",
    "            #print(val_idx)\n",
    "            train = train_df.iloc[train_idx]\n",
    "            val = train_df.iloc[val_idx]\n",
    "            break\n",
    "    assert i == ifold\n",
    "    print(train.shape, val.shape)\n",
    "    \n",
    "    train_ds = BengaliDataset(train, img_df, True, False)\n",
    "    val_ds = BengaliDataset(val, img_df, False, False)\n",
    "    \n",
    "    train_loader = DataLoader(train_ds, batch_size=batch_size, shuffle=True, num_workers=8, drop_last=True)\n",
    "    train_loader.num = len(train_ds)\n",
    "\n",
    "    val_loader = DataLoader(val_ds, batch_size=val_batch_size, shuffle=False, num_workers=8, drop_last=False)\n",
    "    val_loader.num = len(val_ds)\n",
    "\n",
    "    return train_loader, val_loader"
   ]
  },
  {
   "cell_type": "code",
   "execution_count": 11,
   "metadata": {},
   "outputs": [],
   "source": [
    "#train_loader, val_loader = get_train_val_loaders()"
   ]
  },
  {
   "cell_type": "code",
   "execution_count": 12,
   "metadata": {},
   "outputs": [],
   "source": [
    "#for x in train_loader:\n",
    "#    print(x)\n",
    "#    break"
   ]
  },
  {
   "cell_type": "markdown",
   "metadata": {},
   "source": [
    "# model"
   ]
  },
  {
   "cell_type": "code",
   "execution_count": 13,
   "metadata": {},
   "outputs": [],
   "source": [
    "#import pretrainedmodels"
   ]
  },
  {
   "cell_type": "code",
   "execution_count": 14,
   "metadata": {},
   "outputs": [],
   "source": [
    "#model_name = 'resnet50' # could be fbresnet152 or inceptionresnetv2\n",
    "#model = pretrainedmodels.__dict__[model_name](num_classes=1000, pretrained='imagenet').cuda()\n",
    "#model.eval()"
   ]
  },
  {
   "cell_type": "code",
   "execution_count": null,
   "metadata": {},
   "outputs": [],
   "source": []
  },
  {
   "cell_type": "code",
   "execution_count": 15,
   "metadata": {},
   "outputs": [],
   "source": [
    "from argparse import Namespace\n",
    "import timm\n",
    "from timm.models.activations import Swish, Mish\n",
    "from timm.models.adaptive_avgmax_pool import SelectAdaptivePool2d\n",
    "\n",
    "MEAN = [ 0.06922848809290576 ]\n",
    "STD = [ 0.20515700083327537 ]\n",
    "\n",
    "class BengaliNet(nn.Module):\n",
    "    \"\"\"\n",
    "    EfficientNet B0-B8.\n",
    "    Args:\n",
    "        cfg (CfgNode): configs\n",
    "    \"\"\"\n",
    "    def __init__(self, cfg):\n",
    "        super(BengaliNet, self).__init__()\n",
    "        model_name = cfg.MODEL_NAME\n",
    "        pretrained = cfg.PRETRAINED\n",
    "        input_channels = cfg.IN_CHANNELS\n",
    "        pool_type = cfg.POOL_TYPE\n",
    "        drop_connect_rate = cfg.DROP_CONNECT\n",
    "        self.drop_rate = cfg.DROPOUT\n",
    "        cls_head = cfg.CLS_HEAD\n",
    "        num_total_classes = cfg.NUM_GRAPHEME_CLASSES + cfg.NUM_VOWEL_CLASSES + cfg.NUM_CONSONANT_CLASSES \\\n",
    "            + cfg.NUM_WORD_CLASSES\n",
    "\n",
    "        backbone = timm.create_model(\n",
    "            model_name=model_name,\n",
    "            pretrained=pretrained,\n",
    "            in_chans=input_channels,\n",
    "            drop_connect_rate=drop_connect_rate,\n",
    "        )\n",
    "        self.conv_stem = backbone.conv_stem\n",
    "        self.bn1 = backbone.bn1\n",
    "        self.act1 = backbone.act1\n",
    "        ### Original blocks ###\n",
    "        for i in range(len((backbone.blocks))):\n",
    "            setattr(self, \"block{}\".format(str(i)), backbone.blocks[i])\n",
    "        self.conv_head = backbone.conv_head\n",
    "        self.bn2 = backbone.bn2\n",
    "        self.act2 = backbone.act2\n",
    "        self.aux_block5 = backbone.blocks[5]\n",
    "        self.aux_num_features = self.block5[-1].bn3.num_features\n",
    "        self.aux_head4 = nn.Conv2d(self.aux_num_features, self.aux_num_features * 4, kernel_size=(1, 1), stride=(1, 1), bias=False)\n",
    "        self.bn4 = nn.BatchNorm2d(self.aux_num_features * 4)\n",
    "        self.act4 = Swish()\n",
    "        self.aux_head5 = nn.Conv2d(self.aux_num_features, self.aux_num_features * 4, kernel_size=(1, 1), stride=(1, 1), bias=False)\n",
    "        self.bn5 = nn.BatchNorm2d(self.aux_num_features * 4)\n",
    "        self.act5 = Swish()\n",
    "        self.global_pool = SelectAdaptivePool2d(pool_type=pool_type)\n",
    "        self.num_features = backbone.num_features * self.global_pool.feat_mult()\n",
    "        assert cls_head == 'linear'\n",
    "        if cls_head == \"linear\":\n",
    "            ### Baseline head ###\n",
    "            self.fc = nn.Linear(self.num_features, num_total_classes)            \n",
    "            self.aux_fc1 = nn.Linear(self.aux_num_features*4, num_total_classes)\n",
    "            self.aux_fc2 = nn.Linear(self.aux_num_features*4, num_total_classes)\n",
    "            \n",
    "            for fc in [self.fc, self.aux_fc1, self.aux_fc2]:\n",
    "                nn.init.zeros_(fc.bias.data)\n",
    "        elif cls_head == \"norm_softmax\":\n",
    "            ### NormSoftmax ###\n",
    "            self.grapheme_fc = NormSoftmax(self.num_features, num_grapheme_classes)\n",
    "            self.consonant_fc = NormSoftmax(self.num_features, num_consonant_classes)\n",
    "            self.vowel_fc = NormSoftmax(self.num_features, num_vowel_classes)\n",
    "        # Replace with Mish activation\n",
    "        if cfg.MODEL_ACTIVATION == \"mish\":\n",
    "            convert_swish_to_mish(self)\n",
    "        del backbone\n",
    "\n",
    "    def _features(self, x):\n",
    "        x = self.conv_stem(x)\n",
    "        x = self.bn1(x)\n",
    "        x = self.act1(x)\n",
    "        x = self.block0(x)\n",
    "        x = self.block1(x)\n",
    "        x = self.block2(x)\n",
    "        x = self.block3(x)\n",
    "        x = self.block4(x); b4 = x\n",
    "        x = self.block5(x); b4 = self.aux_block5(b4); b5 = x\n",
    "        x = self.block6(x)\n",
    "        x = self.conv_head(x); b4 = self.aux_head4(b4); b5 = self.aux_head5(b5)\n",
    "        x = self.bn2(x); b4 = self.bn4(b4); b5 = self.bn5(b5)\n",
    "        x = self.act2(x); b4 = self.act4(b4); b5 = self.act5(b5)\n",
    "        return b4, b5, x\n",
    "\n",
    "    def forward(self, x):\n",
    "        x = F.interpolate(x, size=(380, 380), mode='bilinear', align_corners=False)\n",
    "        for i in range(len(x)):\n",
    "            transforms.functional.normalize(x[i], mean=MEAN, std=STD, inplace=True)\n",
    "\n",
    "        # _, _, x = self._features(x)\n",
    "        b4, b5, x = self._features(x)\n",
    "        x = self.global_pool(x); b4 = self.global_pool(b4); b5 = self.global_pool(b5)\n",
    "        x = torch.flatten(x, 1); b4 = torch.flatten(b4, 1); b5 = torch.flatten(b5, 1)\n",
    "        if self.drop_rate > 0.:\n",
    "            x = F.dropout(x, p=self.drop_rate, training=self.training)\n",
    "        logits = self.fc(x)\n",
    "        \n",
    "        aux_logits1 = self.aux_fc1(b4)\n",
    "        aux_logits2 = self.aux_fc2(b5)\n",
    "        \n",
    "        return logits, aux_logits1, aux_logits2"
   ]
  },
  {
   "cell_type": "code",
   "execution_count": null,
   "metadata": {},
   "outputs": [],
   "source": []
  },
  {
   "cell_type": "code",
   "execution_count": 16,
   "metadata": {},
   "outputs": [],
   "source": [
    "MODEL_DIR = './model4-ckps'\n",
    "def create_model(cfg):\n",
    "    model = BengaliNet(cfg)\n",
    "    model_file = os.path.join(MODEL_DIR, cfg.MODEL_NAME, cfg.CKP_NAME)\n",
    "\n",
    "    parent_dir = os.path.dirname(model_file)\n",
    "    if not os.path.exists(parent_dir):\n",
    "        os.makedirs(parent_dir)\n",
    "\n",
    "    print('model file: {}, exist: {}'.format(model_file, os.path.exists(model_file)))\n",
    "\n",
    "    if os.path.exists(model_file):\n",
    "        print('loading {}...'.format(model_file))\n",
    "        model.load_state_dict(torch.load(model_file))\n",
    "    \n",
    "    return model, model_file"
   ]
  },
  {
   "cell_type": "code",
   "execution_count": 17,
   "metadata": {},
   "outputs": [],
   "source": [
    "#bnet = BengaliNet('se_resnext50_32x4d').cuda()"
   ]
  },
  {
   "cell_type": "code",
   "execution_count": 18,
   "metadata": {},
   "outputs": [],
   "source": [
    "#bnet(torch.randn((2, 1, 137, 236)).cuda()).size()"
   ]
  },
  {
   "cell_type": "markdown",
   "metadata": {},
   "source": [
    "# train"
   ]
  },
  {
   "cell_type": "code",
   "execution_count": 19,
   "metadata": {},
   "outputs": [
    {
     "data": {
      "text/plain": [
       "0.111111"
      ]
     },
     "execution_count": 19,
     "metadata": {},
     "output_type": "execute_result"
    }
   ],
   "source": [
    "round(1/9, 6)"
   ]
  },
  {
   "cell_type": "code",
   "execution_count": 20,
   "metadata": {},
   "outputs": [],
   "source": [
    "import numpy as np\n",
    "import sklearn.metrics\n",
    "import torch\n",
    "\n",
    "\n",
    "def calc_metrics(preds0, preds1, preds2, preds3, y):\n",
    "    assert len(y) == len(preds0) == len(preds1) == len(preds2) == len(preds3)\n",
    "\n",
    "    recall_grapheme = sklearn.metrics.recall_score(preds0, y[:, 0], average='macro')\n",
    "    recall_vowel = sklearn.metrics.recall_score(preds1, y[:, 1], average='macro')\n",
    "    recall_consonant = sklearn.metrics.recall_score(preds2, y[:, 2], average='macro')\n",
    "    recall_word = sklearn.metrics.recall_score(preds3, y[:, 3], average='macro')\n",
    "    \n",
    "    scores = [recall_grapheme, recall_vowel, recall_consonant]\n",
    "    final_recall_score = np.average(scores, weights=[2, 1, 1])\n",
    "    \n",
    "    metrics = {}\n",
    "    metrics['recall'] = round(final_recall_score, 6)\n",
    "    metrics['recall_grapheme'] = round(recall_grapheme, 6)\n",
    "    metrics['recall_vowel'] = round(recall_vowel, 6)\n",
    "    metrics['recall_consonant'] = round(recall_consonant, 6)\n",
    "    metrics['recall_word'] = round(recall_word, 6)\n",
    "    \n",
    "    metrics['acc_grapheme'] = round((preds0 == y[:, 0]).sum() / len(y), 6)\n",
    "    metrics['acc_vowel'] = round((preds1 == y[:, 1]).sum() / len(y), 6)\n",
    "    metrics['acc_consonant'] = round((preds2 == y[:, 2]).sum() / len(y), 6)\n",
    "    metrics['acc_word'] = round((preds3 == y[:, 3]).sum() / len(y), 6)    \n",
    "    \n",
    "    return metrics"
   ]
  },
  {
   "cell_type": "code",
   "execution_count": 21,
   "metadata": {},
   "outputs": [],
   "source": [
    "def criterion(outputs, y_true):\n",
    "    # outputs: (N, 182)\n",
    "    # y_true: (N, 3)\n",
    "    \n",
    "    outputs = torch.split(outputs, [168, 11, 7, 1295], dim=1)\n",
    "    loss0 = F.cross_entropy(outputs[0], y_true[:, 0], reduction='mean')\n",
    "    loss1 = F.cross_entropy(outputs[1], y_true[:, 1], reduction='mean')\n",
    "    loss2 = F.cross_entropy(outputs[2], y_true[:, 2], reduction='mean')\n",
    "    loss3 = F.cross_entropy(outputs[3], y_true[:, 3], reduction='mean')\n",
    "    \n",
    "    return loss0 + loss1 + loss2 + loss3 #, loss0.item(), loss1.item(), loss2.item()"
   ]
  },
  {
   "cell_type": "code",
   "execution_count": 22,
   "metadata": {},
   "outputs": [],
   "source": [
    "def validate(model, val_loader):\n",
    "    model.eval()\n",
    "    loss0, loss1, loss2, loss3 = 0., 0., 0., 0.\n",
    "    preds0, preds1, preds2, preds3 = [], [], [], []\n",
    "    y_true = []\n",
    "    with torch.no_grad():\n",
    "        for x, y in val_loader:\n",
    "            y_true.append(y)\n",
    "            x, y = x.cuda(), y.cuda()\n",
    "            outputs, _, _ = model(x)\n",
    "            outputs = torch.split(outputs, [168, 11, 7, 1295], dim=1)\n",
    "            \n",
    "            preds0.append(torch.max(outputs[0], dim=1)[1])\n",
    "            preds1.append(torch.max(outputs[1], dim=1)[1])\n",
    "            preds2.append(torch.max(outputs[2], dim=1)[1])\n",
    "            preds3.append(torch.max(outputs[3], dim=1)[1])\n",
    "            loss0 += F.cross_entropy(outputs[0], y[:, 0], reduction='sum').item()\n",
    "            loss1 += F.cross_entropy(outputs[1], y[:, 1], reduction='sum').item()\n",
    "            loss2 += F.cross_entropy(outputs[2], y[:, 2], reduction='sum').item()\n",
    "            loss3 += F.cross_entropy(outputs[3], y[:, 3], reduction='sum').item()\n",
    "            \n",
    "            # for debug\n",
    "            #metrics = {}\n",
    "            #metrics['loss_grapheme'] =  F.cross_entropy(outputs[0], y[:, 0], reduction='mean').item()\n",
    "            #metrics['loss_vowel'] =  F.cross_entropy(outputs[1], y[:, 1], reduction='mean').item()\n",
    "            #metrics['loss_consonant'] =  F.cross_entropy(outputs[2], y[:, 2], reduction='mean').item()\n",
    "            #return metrics\n",
    "    \n",
    "    preds0 = torch.cat(preds0, 0).cpu().numpy()\n",
    "    preds1 = torch.cat(preds1, 0).cpu().numpy()\n",
    "    preds2 = torch.cat(preds2, 0).cpu().numpy()\n",
    "    preds3 = torch.cat(preds3, 0).cpu().numpy()\n",
    "    \n",
    "    y_true = torch.cat(y_true, 0).numpy()\n",
    "    \n",
    "    #print('y_true:', y_true.shape)\n",
    "    #print('preds0:', preds0.shape)\n",
    "    \n",
    "    metrics = calc_metrics(preds0, preds1, preds2, preds3, y_true)\n",
    "    metrics['loss_grapheme'] = round(loss0 / val_loader.num, 6)\n",
    "    metrics['loss_vowel'] = round(loss1 / val_loader.num, 6)\n",
    "    metrics['loss_consonant'] = round(loss2 / val_loader.num, 6)\n",
    "    metrics['loss_word'] = round(loss3 / val_loader.num, 6)\n",
    "    \n",
    "    return metrics\n",
    "            "
   ]
  },
  {
   "cell_type": "code",
   "execution_count": null,
   "metadata": {},
   "outputs": [],
   "source": []
  },
  {
   "cell_type": "code",
   "execution_count": 23,
   "metadata": {},
   "outputs": [],
   "source": [
    "def get_lrs(optimizer):\n",
    "    lrs = []\n",
    "    for pgs in optimizer.state_dict()['param_groups']:\n",
    "        lrs.append(pgs['lr'])\n",
    "    lrs = ['{:.6f}'.format(x) for x in lrs]\n",
    "    return lrs"
   ]
  },
  {
   "cell_type": "code",
   "execution_count": 24,
   "metadata": {},
   "outputs": [],
   "source": [
    "def save_model(model, model_file):\n",
    "    parent_dir = os.path.dirname(model_file)\n",
    "    if not os.path.exists(parent_dir):\n",
    "        os.makedirs(parent_dir)\n",
    "    if isinstance(model, nn.DataParallel):\n",
    "        torch.save(model.module.state_dict(), model_file)\n",
    "    else:\n",
    "        torch.save(model.state_dict(), model_file)"
   ]
  },
  {
   "cell_type": "code",
   "execution_count": 25,
   "metadata": {},
   "outputs": [],
   "source": [
    "def mixup(data, targets, alpha=1):\n",
    "    indices = torch.randperm(data.size(0))\n",
    "    shuffled_data = data[indices]\n",
    "    shuffled_targets = targets[indices]\n",
    "\n",
    "    lam = np.random.beta(alpha, alpha)\n",
    "    data = data * lam + shuffled_data * (1 - lam)\n",
    "    targets = (targets, shuffled_targets, lam)\n",
    "\n",
    "    return data, targets\n",
    "\n",
    "\n",
    "def mixup_criterion(outputs, targets):\n",
    "    targets1, targets2, lam = targets\n",
    "    #criterion = nn.CrossEntropyLoss(reduction='mean')\n",
    "    return lam * criterion(outputs, targets1) + (1 - lam) * criterion(outputs, targets2)"
   ]
  },
  {
   "cell_type": "code",
   "execution_count": 26,
   "metadata": {},
   "outputs": [],
   "source": [
    "def rand_bbox(size, lam):\n",
    "    W = size[2]\n",
    "    H = size[3]\n",
    "    cut_rat = np.sqrt(1. - lam)\n",
    "    cut_w = np.int(W * cut_rat)\n",
    "    cut_h = np.int(H * cut_rat)\n",
    "\n",
    "    # uniform\n",
    "    cx = np.random.randint(W)\n",
    "    cy = np.random.randint(H)\n",
    "\n",
    "    bbx1 = np.clip(cx - cut_w // 2, 0, W)\n",
    "    bby1 = np.clip(cy - cut_h // 2, 0, H)\n",
    "    bbx2 = np.clip(cx + cut_w // 2, 0, W)\n",
    "    bby2 = np.clip(cy + cut_h // 2, 0, H)\n",
    "\n",
    "    return bbx1, bby1, bbx2, bby2"
   ]
  },
  {
   "cell_type": "code",
   "execution_count": 27,
   "metadata": {},
   "outputs": [],
   "source": [
    "def rand_bbox_new(size, lam):\n",
    "    H = size[2]\n",
    "    W = size[3]\n",
    "\n",
    "    x_margin_rate = 0.2\n",
    "\n",
    "    cut_rat = np.sqrt(1. - lam)\n",
    "    cut_w = np.int(W * (1-x_margin_rate*2) * cut_rat)\n",
    "    cut_h = np.int(H * cut_rat)\n",
    "    \n",
    "    min_x_center = np.int(W * x_margin_rate + cut_w / 2)\n",
    "    max_x_center = np.int(W * (1-x_margin_rate) - cut_w / 2)\n",
    "    #print(min_x_center, max_x_center, lam, cut_w)\n",
    "    min_y_center = cut_h // 2\n",
    "    max_y_center = H - cut_h // 2\n",
    "    if max_y_center == min_y_center:\n",
    "        max_y_center += 1\n",
    "\n",
    "    # uniform\n",
    "    cx = np.random.randint(min_x_center, max_x_center)\n",
    "    cy = np.random.randint(min_y_center, max_y_center)\n",
    "\n",
    "    bbx1 = np.clip(cx - cut_w // 2, 0, W)\n",
    "    bby1 = np.clip(cy - cut_h // 2, 0, H)\n",
    "    bbx2 = np.clip(cx + cut_w // 2, 0, W)\n",
    "    bby2 = np.clip(cy + cut_h // 2, 0, H)\n",
    "    \n",
    "    #print(bbx1, bbx2, bby1, bby2)\n",
    "\n",
    "    return bbx1, bby1, bbx2, bby2"
   ]
  },
  {
   "cell_type": "code",
   "execution_count": 28,
   "metadata": {},
   "outputs": [
    {
     "data": {
      "text/plain": [
       "0.24730402016717357"
      ]
     },
     "execution_count": 28,
     "metadata": {},
     "output_type": "execute_result"
    }
   ],
   "source": [
    "np.random.random()"
   ]
  },
  {
   "cell_type": "code",
   "execution_count": 29,
   "metadata": {},
   "outputs": [],
   "source": [
    "from over9000.over9000 import Over9000\n",
    "from over9000.radam import RAdam\n",
    "from gridmask import GridMask"
   ]
  },
  {
   "cell_type": "code",
   "execution_count": 30,
   "metadata": {},
   "outputs": [],
   "source": [
    "from cvcore.solver import WarmupCyclicalLR\n",
    "def make_optimizer(model, base_lr=4e-4, weight_decay=0., weight_decay_bias=0., epsilon=1e-3):\n",
    "    \"\"\"\n",
    "    Create optimizer with per-layer learning rate and weight decay.\n",
    "    \"\"\"\n",
    "    params = []\n",
    "    for key, value in model.named_parameters():\n",
    "        if not value.requires_grad:\n",
    "            continue\n",
    "        lr = base_lr\n",
    "        params += [{\"params\": [value], \"lr\": lr, \"weight_decay\": weight_decay_bias if 'bias' in key else weight_decay}]\n",
    "    \n",
    "    optimizer = torch.optim.AdamW(params, lr, eps=epsilon)\n",
    "    return optimizer"
   ]
  },
  {
   "cell_type": "code",
   "execution_count": 31,
   "metadata": {},
   "outputs": [],
   "source": [
    "import time\n",
    "def train_epoch(args, model, train_loader, epoch, optimizer, lr_scheduler, grid):\n",
    "    train_loss = 0\n",
    "    bg = time.time()\n",
    "\n",
    "    for batch_idx, (img, orig_img, targets) in enumerate(train_loader):\n",
    "        img, orig_img, targets  = img.cuda(), orig_img.cuda(), targets.cuda()\n",
    "        batch_size = img.size(0)\n",
    "        r = np.random.rand()\n",
    "\n",
    "        if r < 0.3:\n",
    "            # generate mixed sample\n",
    "            lam = np.random.beta(args.beta, args.beta)\n",
    "            rand_index = torch.randperm(img.size()[0]).cuda()\n",
    "            target_a = targets\n",
    "            target_b = targets[rand_index]\n",
    "            bbx1, bby1, bbx2, bby2 = rand_bbox(img.size(), lam)\n",
    "            #img[:, :, bby1:bby2, bbx1:bbx2] = img[rand_index, :, bby1:bby2, bbx1:bbx2] #for new cutmix\n",
    "            img[:, :, bbx1:bbx2, bby1:bby2] = img[rand_index, :, bbx1:bbx2, bby1:bby2]\n",
    "            \n",
    "            # adjust lambda to exactly match pixel ratio\n",
    "            lam = 1 - ((bbx2 - bbx1) * (bby2 - bby1) / (img.size()[-1] * img.size()[-2]))\n",
    "            # compute output\n",
    "            outputs, outputs_aux1, outputs_aux2 = model(img)\n",
    "            loss_primary = criterion(outputs, target_a) * lam + criterion(outputs, target_b) * (1. - lam)\n",
    "            loss_aux1 = criterion(outputs_aux1, target_a) * lam + criterion(outputs_aux1, target_b) * (1. - lam)\n",
    "            loss_aux2 = criterion(outputs_aux2, target_a) * lam + criterion(outputs_aux2, target_b) * (1. - lam)\n",
    "            loss = loss_primary + (loss_aux1 + loss_aux2)*0.8\n",
    "        elif r > 0.7:\n",
    "            img = grid(img)\n",
    "            outputs, outputs_aux1, outputs_aux2 = model(img)\n",
    "            loss_primary = criterion(outputs, targets)\n",
    "            loss_aux1 = criterion(outputs_aux1, targets)\n",
    "            loss_aux2 = criterion(outputs_aux2, targets)\n",
    "            loss = loss_primary + (loss_aux1 + loss_aux2)*0.8\n",
    "        else:\n",
    "            orig_img, targets = mixup(orig_img, targets)\n",
    "            outputs, outputs_aux1, outputs_aux2 = model(orig_img)\n",
    "            loss_primary = mixup_criterion(outputs, targets)\n",
    "            loss_aux1 = mixup_criterion(outputs_aux1, targets)\n",
    "            loss_aux2 = mixup_criterion(outputs_aux2, targets)\n",
    "            loss = loss_primary + (loss_aux1 + loss_aux2)*0.8\n",
    "            #loss = criterion(outputs, targets)\n",
    "\n",
    "        optimizer.zero_grad()\n",
    "        with amp.scale_loss(loss, optimizer) as scaled_loss:\n",
    "            scaled_loss.backward()\n",
    "        #loss.backward()\n",
    "        lr_scheduler(optimizer, batch_idx, epoch)\n",
    "        optimizer.step()            \n",
    "        \n",
    "        current_lr = get_lrs(optimizer)\n",
    "\n",
    "        train_loss += loss.item()\n",
    "        print('\\r {:4d} | {:.6f} | {:06d}/{} | {:.4f} | {:.4f} | {:.2f} |'.format(\n",
    "            epoch, float(current_lr[0]), batch_size*(batch_idx+1), train_loader.num, \n",
    "            loss.item(), train_loss/(batch_idx+1), (time.time() - bg) / 60), end='')\n"
   ]
  },
  {
   "cell_type": "code",
   "execution_count": 32,
   "metadata": {},
   "outputs": [],
   "source": [
    "import copy\n",
    "best_metrics = 0.\n",
    "best_metrics_swa = 0.\n",
    "\n",
    "\n",
    "def validate_and_save(model, model_file, val_loader, save=False):\n",
    "    global best_metrics\n",
    "    best_key = 'recall'\n",
    "    val_metrics = validate(model, val_loader)\n",
    "    print('\\nval:', val_metrics)\n",
    "    \n",
    "    if val_metrics[best_key] > best_metrics:\n",
    "        best_metrics = val_metrics[best_key]\n",
    "        if save:\n",
    "            save_model(model, model_file)\n",
    "            print('###>>>>> saved', model_file)\n",
    "    model.train()\n",
    "\n",
    "def validate_and_save_swa(model, model_file, val_loader, save=False):\n",
    "    global best_metrics_swa\n",
    "    best_key = 'recall'\n",
    "    val_metrics = validate(model, val_loader)\n",
    "    print('\\nval:', val_metrics)\n",
    "    \n",
    "    if val_metrics[best_key] > best_metrics_swa:\n",
    "        best_metrics_swa = val_metrics[best_key]\n",
    "        if save:\n",
    "            save_model(model, model_file)\n",
    "            print('###>>>>> saved', model_file)\n",
    "    model.train()\n",
    "\n",
    "\n",
    "def train(args):\n",
    "    model, model_file = create_model(cfg)\n",
    "    model = model.cuda()\n",
    "\n",
    "    swa_cfg = copy.deepcopy(cfg)\n",
    "    swa_cfg.CKP_NAME = cfg.CKP_NAME + '_swa'\n",
    "    swa_model, swa_model_file = create_model(swa_cfg)\n",
    "    swa_model = swa_model.cuda()\n",
    "\n",
    "    optimizer = make_optimizer(model)\n",
    "    lr_scheduler = WarmupCyclicalLR(\n",
    "        \"cos\", args.base_lr, args.num_epochs, iters_per_epoch=len(train_loader), warmup_epochs=args.warmup_epochs)\n",
    "    \n",
    "    [model, swa_model], optimizer = amp.initialize([model, swa_model], optimizer, opt_level=\"O1\",verbosity=0)\n",
    "    #[model, swa_model], optimizer = amp.initialize(\n",
    "    #    [model, swa_model], optimizer, opt_level=\"O2\",verbosity=0, keep_batchnorm_fp32=True)\n",
    "    \n",
    "    #opt_level=\"O2\", keep_batchnorm_fp32=True\n",
    "    \n",
    "    if torch.cuda.device_count() > 1:\n",
    "        model = nn.DataParallel(model)\n",
    "        swa_model = nn.DataParallel(swa_model)\n",
    "    \n",
    "    validate_and_save(model, model_file, val_loader, save=False)\n",
    "\n",
    "    swa_model_loaded = False\n",
    "    if os.path.exists(swa_model_file):\n",
    "        swa_model_loaded = True\n",
    "        validate_and_save_swa(swa_model, swa_model_file, val_loader, save=False)\n",
    "    \n",
    "    for cycle in range(1, args.num_cycles+1):\n",
    "        print('CYCLE:', cycle)\n",
    "        grid = GridMask(64, 128, rotate=15, ratio=0.6, mode=1, prob=1.)\n",
    "\n",
    "        for epoch in range(args.start_epoch, args.num_epochs):\n",
    "            grid.set_prob(epoch, args.st_epochs)\n",
    "            train_epoch(args, model, train_loader, epoch, optimizer, lr_scheduler, grid)\n",
    "            validate_and_save(model, model_file, val_loader, save=True)\n",
    "            \n",
    "            if (epoch+1) == args.swa_start and cycle == 1:\n",
    "                if not swa_model_loaded:\n",
    "                    copy_model(swa_model, model)\n",
    "                #swa_n = 0\n",
    "                swa_n = args.swa_n\n",
    "            if (epoch+1) >= args.swa_start and (epoch+1) % args.swa_freq == 0:\n",
    "                print('SWA>>>:')\n",
    "                moving_average(swa_model, model, 1.0 / (swa_n + 1))\n",
    "                swa_n += 1\n",
    "                bn_update(train_loader, swa_model)\n",
    "                validate_and_save_swa(swa_model, swa_model_file, val_loader, save=True)\n",
    "\n",
    "        #args.base_lr = 2e-4\n",
    "        #args.num_epochs = 40\n",
    "        #args.warmup_epochs = 1\n",
    "\n",
    "        # reset scheduler at each cycle\n",
    "        lr_scheduler = WarmupCyclicalLR(\n",
    "            \"cos\", args.base_lr, args.num_epochs, iters_per_epoch=len(train_loader), warmup_epochs=args.warmup_epochs)"
   ]
  },
  {
   "cell_type": "code",
   "execution_count": null,
   "metadata": {},
   "outputs": [],
   "source": []
  },
  {
   "cell_type": "code",
   "execution_count": 33,
   "metadata": {},
   "outputs": [],
   "source": [
    "cfg = Namespace()\n",
    "cfg.MODEL_NAME = 'tf_efficientnet_b4'\n",
    "cfg.PRETRAINED = True\n",
    "cfg.IN_CHANNELS = 1\n",
    "cfg.POOL_TYPE = 'avg'\n",
    "cfg.CLS_HEAD = 'linear'\n",
    "cfg.MODEL_ACTIVATION = 'swish'\n",
    "cfg.DROP_CONNECT = 0.2\n",
    "cfg.DROPOUT= 0.\n",
    "cfg.NUM_WORD_CLASSES = 1295\n",
    "cfg.NUM_GRAPHEME_CLASSES = 168\n",
    "cfg.NUM_VOWEL_CLASSES = 11\n",
    "cfg.NUM_CONSONANT_CLASSES = 7\n",
    "cfg.CKP_NAME = 'model4_eb4_fold2_380.pth'"
   ]
  },
  {
   "cell_type": "code",
   "execution_count": 34,
   "metadata": {},
   "outputs": [],
   "source": [
    "#model, model_file = create_model(cfg)\n",
    "#model(torch.randn(2,1,137,236))[0].size()"
   ]
  },
  {
   "cell_type": "code",
   "execution_count": 35,
   "metadata": {},
   "outputs": [],
   "source": [
    "args = Namespace()\n",
    "\n",
    "args.base_lr = 2e-4\n",
    "args.num_epochs = 60\n",
    "args.start_epoch = 0\n",
    "args.warmup_epochs = 5\n",
    "args.num_cycles = 100\n",
    "args.batch_size = 128\n",
    "args.val_batch_size = 512\n",
    "args.st_epochs = 5\n",
    "\n",
    "args.swa_start = 2\n",
    "args.swa_freq = 3\n",
    "args.swa_n = 3\n",
    "\n",
    "args.beta = 1.0\n",
    "args.cutmix_prob = 0.5"
   ]
  },
  {
   "cell_type": "code",
   "execution_count": 36,
   "metadata": {},
   "outputs": [
    {
     "name": "stdout",
     "output_type": "stream",
     "text": [
      "(200840, 6)\n",
      "(200840, 32332)\n",
      "(160678, 6) (40162, 6)\n"
     ]
    }
   ],
   "source": [
    "train_loader, val_loader = get_train_val_loaders(batch_size=args.batch_size, val_batch_size=args.val_batch_size, ifold=2)"
   ]
  },
  {
   "cell_type": "code",
   "execution_count": null,
   "metadata": {},
   "outputs": [],
   "source": []
  },
  {
   "cell_type": "code",
   "execution_count": 37,
   "metadata": {},
   "outputs": [
    {
     "name": "stdout",
     "output_type": "stream",
     "text": [
      "model file: ./model4-ckps/tf_efficientnet_b4/model4_eb4_fold2_380.pth, exist: True\n",
      "loading ./model4-ckps/tf_efficientnet_b4/model4_eb4_fold2_380.pth...\n",
      "model file: ./model4-ckps/tf_efficientnet_b4/model4_eb4_fold2_380.pth_swa, exist: True\n",
      "loading ./model4-ckps/tf_efficientnet_b4/model4_eb4_fold2_380.pth_swa...\n"
     ]
    },
    {
     "ename": "RuntimeError",
     "evalue": "Caught RuntimeError in replica 1 on device 1.\nOriginal Traceback (most recent call last):\n  File \"/home/chec/anaconda3/lib/python3.7/site-packages/torch/nn/parallel/parallel_apply.py\", line 60, in _worker\n    output = module(*input, **kwargs)\n  File \"/home/chec/anaconda3/lib/python3.7/site-packages/torch/nn/modules/module.py\", line 547, in __call__\n    result = self.forward(*input, **kwargs)\n  File \"/home/chec/anaconda3/lib/python3.7/site-packages/apex/amp/_initialize.py\", line 197, in new_fwd\n    **applier(kwargs, input_caster))\n  File \"<ipython-input-15-5c2f38447e47>\", line 93, in forward\n    b4, b5, x = self._features(x)\n  File \"<ipython-input-15-5c2f38447e47>\", line 72, in _features\n    x = self.conv_stem(x)\n  File \"/home/chec/anaconda3/lib/python3.7/site-packages/torch/nn/modules/module.py\", line 547, in __call__\n    result = self.forward(*input, **kwargs)\n  File \"/home/chec/anaconda3/lib/python3.7/site-packages/timm/models/conv2d_layers.py\", line 67, in forward\n    return conv2d_same(x, self.weight, self.bias, self.stride, self.padding, self.dilation, self.groups)\n  File \"/home/chec/anaconda3/lib/python3.7/site-packages/timm/models/conv2d_layers.py\", line 53, in conv2d_same\n    return F.conv2d(x, weight, bias, stride, (0, 0), dilation, groups)\nRuntimeError: Expected tensor for argument #1 'input' to have the same device as tensor for argument #2 'weight'; but device 1 does not equal 0 (while checking arguments for cudnn_convolution)\n",
     "output_type": "error",
     "traceback": [
      "\u001b[0;31m---------------------------------------------------------------------------\u001b[0m",
      "\u001b[0;31mRuntimeError\u001b[0m                              Traceback (most recent call last)",
      "\u001b[0;32m<ipython-input-37-aad596905035>\u001b[0m in \u001b[0;36m<module>\u001b[0;34m\u001b[0m\n\u001b[0;32m----> 1\u001b[0;31m \u001b[0mtrain\u001b[0m\u001b[0;34m(\u001b[0m\u001b[0margs\u001b[0m\u001b[0;34m)\u001b[0m\u001b[0;34m\u001b[0m\u001b[0;34m\u001b[0m\u001b[0m\n\u001b[0m",
      "\u001b[0;32m<ipython-input-32-e528cab4de8c>\u001b[0m in \u001b[0;36mtrain\u001b[0;34m(args)\u001b[0m\n\u001b[1;32m     54\u001b[0m         \u001b[0mswa_model\u001b[0m \u001b[0;34m=\u001b[0m \u001b[0mnn\u001b[0m\u001b[0;34m.\u001b[0m\u001b[0mDataParallel\u001b[0m\u001b[0;34m(\u001b[0m\u001b[0mswa_model\u001b[0m\u001b[0;34m)\u001b[0m\u001b[0;34m\u001b[0m\u001b[0;34m\u001b[0m\u001b[0m\n\u001b[1;32m     55\u001b[0m \u001b[0;34m\u001b[0m\u001b[0m\n\u001b[0;32m---> 56\u001b[0;31m     \u001b[0mvalidate_and_save\u001b[0m\u001b[0;34m(\u001b[0m\u001b[0mmodel\u001b[0m\u001b[0;34m,\u001b[0m \u001b[0mmodel_file\u001b[0m\u001b[0;34m,\u001b[0m \u001b[0mval_loader\u001b[0m\u001b[0;34m,\u001b[0m \u001b[0msave\u001b[0m\u001b[0;34m=\u001b[0m\u001b[0;32mFalse\u001b[0m\u001b[0;34m)\u001b[0m\u001b[0;34m\u001b[0m\u001b[0;34m\u001b[0m\u001b[0m\n\u001b[0m\u001b[1;32m     57\u001b[0m \u001b[0;34m\u001b[0m\u001b[0m\n\u001b[1;32m     58\u001b[0m     \u001b[0mswa_model_loaded\u001b[0m \u001b[0;34m=\u001b[0m \u001b[0;32mFalse\u001b[0m\u001b[0;34m\u001b[0m\u001b[0;34m\u001b[0m\u001b[0m\n",
      "\u001b[0;32m<ipython-input-32-e528cab4de8c>\u001b[0m in \u001b[0;36mvalidate_and_save\u001b[0;34m(model, model_file, val_loader, save)\u001b[0m\n\u001b[1;32m      7\u001b[0m     \u001b[0;32mglobal\u001b[0m \u001b[0mbest_metrics\u001b[0m\u001b[0;34m\u001b[0m\u001b[0;34m\u001b[0m\u001b[0m\n\u001b[1;32m      8\u001b[0m     \u001b[0mbest_key\u001b[0m \u001b[0;34m=\u001b[0m \u001b[0;34m'recall'\u001b[0m\u001b[0;34m\u001b[0m\u001b[0;34m\u001b[0m\u001b[0m\n\u001b[0;32m----> 9\u001b[0;31m     \u001b[0mval_metrics\u001b[0m \u001b[0;34m=\u001b[0m \u001b[0mvalidate\u001b[0m\u001b[0;34m(\u001b[0m\u001b[0mmodel\u001b[0m\u001b[0;34m,\u001b[0m \u001b[0mval_loader\u001b[0m\u001b[0;34m)\u001b[0m\u001b[0;34m\u001b[0m\u001b[0;34m\u001b[0m\u001b[0m\n\u001b[0m\u001b[1;32m     10\u001b[0m     \u001b[0mprint\u001b[0m\u001b[0;34m(\u001b[0m\u001b[0;34m'\\nval:'\u001b[0m\u001b[0;34m,\u001b[0m \u001b[0mval_metrics\u001b[0m\u001b[0;34m)\u001b[0m\u001b[0;34m\u001b[0m\u001b[0;34m\u001b[0m\u001b[0m\n\u001b[1;32m     11\u001b[0m \u001b[0;34m\u001b[0m\u001b[0m\n",
      "\u001b[0;32m<ipython-input-22-5ca1aeb200dd>\u001b[0m in \u001b[0;36mvalidate\u001b[0;34m(model, val_loader)\u001b[0m\n\u001b[1;32m      8\u001b[0m             \u001b[0my_true\u001b[0m\u001b[0;34m.\u001b[0m\u001b[0mappend\u001b[0m\u001b[0;34m(\u001b[0m\u001b[0my\u001b[0m\u001b[0;34m)\u001b[0m\u001b[0;34m\u001b[0m\u001b[0;34m\u001b[0m\u001b[0m\n\u001b[1;32m      9\u001b[0m             \u001b[0mx\u001b[0m\u001b[0;34m,\u001b[0m \u001b[0my\u001b[0m \u001b[0;34m=\u001b[0m \u001b[0mx\u001b[0m\u001b[0;34m.\u001b[0m\u001b[0mcuda\u001b[0m\u001b[0;34m(\u001b[0m\u001b[0;34m)\u001b[0m\u001b[0;34m,\u001b[0m \u001b[0my\u001b[0m\u001b[0;34m.\u001b[0m\u001b[0mcuda\u001b[0m\u001b[0;34m(\u001b[0m\u001b[0;34m)\u001b[0m\u001b[0;34m\u001b[0m\u001b[0;34m\u001b[0m\u001b[0m\n\u001b[0;32m---> 10\u001b[0;31m             \u001b[0moutputs\u001b[0m\u001b[0;34m,\u001b[0m \u001b[0m_\u001b[0m\u001b[0;34m,\u001b[0m \u001b[0m_\u001b[0m \u001b[0;34m=\u001b[0m \u001b[0mmodel\u001b[0m\u001b[0;34m(\u001b[0m\u001b[0mx\u001b[0m\u001b[0;34m)\u001b[0m\u001b[0;34m\u001b[0m\u001b[0;34m\u001b[0m\u001b[0m\n\u001b[0m\u001b[1;32m     11\u001b[0m             \u001b[0moutputs\u001b[0m \u001b[0;34m=\u001b[0m \u001b[0mtorch\u001b[0m\u001b[0;34m.\u001b[0m\u001b[0msplit\u001b[0m\u001b[0;34m(\u001b[0m\u001b[0moutputs\u001b[0m\u001b[0;34m,\u001b[0m \u001b[0;34m[\u001b[0m\u001b[0;36m168\u001b[0m\u001b[0;34m,\u001b[0m \u001b[0;36m11\u001b[0m\u001b[0;34m,\u001b[0m \u001b[0;36m7\u001b[0m\u001b[0;34m,\u001b[0m \u001b[0;36m1295\u001b[0m\u001b[0;34m]\u001b[0m\u001b[0;34m,\u001b[0m \u001b[0mdim\u001b[0m\u001b[0;34m=\u001b[0m\u001b[0;36m1\u001b[0m\u001b[0;34m)\u001b[0m\u001b[0;34m\u001b[0m\u001b[0;34m\u001b[0m\u001b[0m\n\u001b[1;32m     12\u001b[0m \u001b[0;34m\u001b[0m\u001b[0m\n",
      "\u001b[0;32m~/anaconda3/lib/python3.7/site-packages/torch/nn/modules/module.py\u001b[0m in \u001b[0;36m__call__\u001b[0;34m(self, *input, **kwargs)\u001b[0m\n\u001b[1;32m    545\u001b[0m             \u001b[0mresult\u001b[0m \u001b[0;34m=\u001b[0m \u001b[0mself\u001b[0m\u001b[0;34m.\u001b[0m\u001b[0m_slow_forward\u001b[0m\u001b[0;34m(\u001b[0m\u001b[0;34m*\u001b[0m\u001b[0minput\u001b[0m\u001b[0;34m,\u001b[0m \u001b[0;34m**\u001b[0m\u001b[0mkwargs\u001b[0m\u001b[0;34m)\u001b[0m\u001b[0;34m\u001b[0m\u001b[0;34m\u001b[0m\u001b[0m\n\u001b[1;32m    546\u001b[0m         \u001b[0;32melse\u001b[0m\u001b[0;34m:\u001b[0m\u001b[0;34m\u001b[0m\u001b[0;34m\u001b[0m\u001b[0m\n\u001b[0;32m--> 547\u001b[0;31m             \u001b[0mresult\u001b[0m \u001b[0;34m=\u001b[0m \u001b[0mself\u001b[0m\u001b[0;34m.\u001b[0m\u001b[0mforward\u001b[0m\u001b[0;34m(\u001b[0m\u001b[0;34m*\u001b[0m\u001b[0minput\u001b[0m\u001b[0;34m,\u001b[0m \u001b[0;34m**\u001b[0m\u001b[0mkwargs\u001b[0m\u001b[0;34m)\u001b[0m\u001b[0;34m\u001b[0m\u001b[0;34m\u001b[0m\u001b[0m\n\u001b[0m\u001b[1;32m    548\u001b[0m         \u001b[0;32mfor\u001b[0m \u001b[0mhook\u001b[0m \u001b[0;32min\u001b[0m \u001b[0mself\u001b[0m\u001b[0;34m.\u001b[0m\u001b[0m_forward_hooks\u001b[0m\u001b[0;34m.\u001b[0m\u001b[0mvalues\u001b[0m\u001b[0;34m(\u001b[0m\u001b[0;34m)\u001b[0m\u001b[0;34m:\u001b[0m\u001b[0;34m\u001b[0m\u001b[0;34m\u001b[0m\u001b[0m\n\u001b[1;32m    549\u001b[0m             \u001b[0mhook_result\u001b[0m \u001b[0;34m=\u001b[0m \u001b[0mhook\u001b[0m\u001b[0;34m(\u001b[0m\u001b[0mself\u001b[0m\u001b[0;34m,\u001b[0m \u001b[0minput\u001b[0m\u001b[0;34m,\u001b[0m \u001b[0mresult\u001b[0m\u001b[0;34m)\u001b[0m\u001b[0;34m\u001b[0m\u001b[0;34m\u001b[0m\u001b[0m\n",
      "\u001b[0;32m~/anaconda3/lib/python3.7/site-packages/torch/nn/parallel/data_parallel.py\u001b[0m in \u001b[0;36mforward\u001b[0;34m(self, *inputs, **kwargs)\u001b[0m\n\u001b[1;32m    150\u001b[0m             \u001b[0;32mreturn\u001b[0m \u001b[0mself\u001b[0m\u001b[0;34m.\u001b[0m\u001b[0mmodule\u001b[0m\u001b[0;34m(\u001b[0m\u001b[0;34m*\u001b[0m\u001b[0minputs\u001b[0m\u001b[0;34m[\u001b[0m\u001b[0;36m0\u001b[0m\u001b[0;34m]\u001b[0m\u001b[0;34m,\u001b[0m \u001b[0;34m**\u001b[0m\u001b[0mkwargs\u001b[0m\u001b[0;34m[\u001b[0m\u001b[0;36m0\u001b[0m\u001b[0;34m]\u001b[0m\u001b[0;34m)\u001b[0m\u001b[0;34m\u001b[0m\u001b[0;34m\u001b[0m\u001b[0m\n\u001b[1;32m    151\u001b[0m         \u001b[0mreplicas\u001b[0m \u001b[0;34m=\u001b[0m \u001b[0mself\u001b[0m\u001b[0;34m.\u001b[0m\u001b[0mreplicate\u001b[0m\u001b[0;34m(\u001b[0m\u001b[0mself\u001b[0m\u001b[0;34m.\u001b[0m\u001b[0mmodule\u001b[0m\u001b[0;34m,\u001b[0m \u001b[0mself\u001b[0m\u001b[0;34m.\u001b[0m\u001b[0mdevice_ids\u001b[0m\u001b[0;34m[\u001b[0m\u001b[0;34m:\u001b[0m\u001b[0mlen\u001b[0m\u001b[0;34m(\u001b[0m\u001b[0minputs\u001b[0m\u001b[0;34m)\u001b[0m\u001b[0;34m]\u001b[0m\u001b[0;34m)\u001b[0m\u001b[0;34m\u001b[0m\u001b[0;34m\u001b[0m\u001b[0m\n\u001b[0;32m--> 152\u001b[0;31m         \u001b[0moutputs\u001b[0m \u001b[0;34m=\u001b[0m \u001b[0mself\u001b[0m\u001b[0;34m.\u001b[0m\u001b[0mparallel_apply\u001b[0m\u001b[0;34m(\u001b[0m\u001b[0mreplicas\u001b[0m\u001b[0;34m,\u001b[0m \u001b[0minputs\u001b[0m\u001b[0;34m,\u001b[0m \u001b[0mkwargs\u001b[0m\u001b[0;34m)\u001b[0m\u001b[0;34m\u001b[0m\u001b[0;34m\u001b[0m\u001b[0m\n\u001b[0m\u001b[1;32m    153\u001b[0m         \u001b[0;32mreturn\u001b[0m \u001b[0mself\u001b[0m\u001b[0;34m.\u001b[0m\u001b[0mgather\u001b[0m\u001b[0;34m(\u001b[0m\u001b[0moutputs\u001b[0m\u001b[0;34m,\u001b[0m \u001b[0mself\u001b[0m\u001b[0;34m.\u001b[0m\u001b[0moutput_device\u001b[0m\u001b[0;34m)\u001b[0m\u001b[0;34m\u001b[0m\u001b[0;34m\u001b[0m\u001b[0m\n\u001b[1;32m    154\u001b[0m \u001b[0;34m\u001b[0m\u001b[0m\n",
      "\u001b[0;32m~/anaconda3/lib/python3.7/site-packages/torch/nn/parallel/data_parallel.py\u001b[0m in \u001b[0;36mparallel_apply\u001b[0;34m(self, replicas, inputs, kwargs)\u001b[0m\n\u001b[1;32m    160\u001b[0m \u001b[0;34m\u001b[0m\u001b[0m\n\u001b[1;32m    161\u001b[0m     \u001b[0;32mdef\u001b[0m \u001b[0mparallel_apply\u001b[0m\u001b[0;34m(\u001b[0m\u001b[0mself\u001b[0m\u001b[0;34m,\u001b[0m \u001b[0mreplicas\u001b[0m\u001b[0;34m,\u001b[0m \u001b[0minputs\u001b[0m\u001b[0;34m,\u001b[0m \u001b[0mkwargs\u001b[0m\u001b[0;34m)\u001b[0m\u001b[0;34m:\u001b[0m\u001b[0;34m\u001b[0m\u001b[0;34m\u001b[0m\u001b[0m\n\u001b[0;32m--> 162\u001b[0;31m         \u001b[0;32mreturn\u001b[0m \u001b[0mparallel_apply\u001b[0m\u001b[0;34m(\u001b[0m\u001b[0mreplicas\u001b[0m\u001b[0;34m,\u001b[0m \u001b[0minputs\u001b[0m\u001b[0;34m,\u001b[0m \u001b[0mkwargs\u001b[0m\u001b[0;34m,\u001b[0m \u001b[0mself\u001b[0m\u001b[0;34m.\u001b[0m\u001b[0mdevice_ids\u001b[0m\u001b[0;34m[\u001b[0m\u001b[0;34m:\u001b[0m\u001b[0mlen\u001b[0m\u001b[0;34m(\u001b[0m\u001b[0mreplicas\u001b[0m\u001b[0;34m)\u001b[0m\u001b[0;34m]\u001b[0m\u001b[0;34m)\u001b[0m\u001b[0;34m\u001b[0m\u001b[0;34m\u001b[0m\u001b[0m\n\u001b[0m\u001b[1;32m    163\u001b[0m \u001b[0;34m\u001b[0m\u001b[0m\n\u001b[1;32m    164\u001b[0m     \u001b[0;32mdef\u001b[0m \u001b[0mgather\u001b[0m\u001b[0;34m(\u001b[0m\u001b[0mself\u001b[0m\u001b[0;34m,\u001b[0m \u001b[0moutputs\u001b[0m\u001b[0;34m,\u001b[0m \u001b[0moutput_device\u001b[0m\u001b[0;34m)\u001b[0m\u001b[0;34m:\u001b[0m\u001b[0;34m\u001b[0m\u001b[0;34m\u001b[0m\u001b[0m\n",
      "\u001b[0;32m~/anaconda3/lib/python3.7/site-packages/torch/nn/parallel/parallel_apply.py\u001b[0m in \u001b[0;36mparallel_apply\u001b[0;34m(modules, inputs, kwargs_tup, devices)\u001b[0m\n\u001b[1;32m     83\u001b[0m         \u001b[0moutput\u001b[0m \u001b[0;34m=\u001b[0m \u001b[0mresults\u001b[0m\u001b[0;34m[\u001b[0m\u001b[0mi\u001b[0m\u001b[0;34m]\u001b[0m\u001b[0;34m\u001b[0m\u001b[0;34m\u001b[0m\u001b[0m\n\u001b[1;32m     84\u001b[0m         \u001b[0;32mif\u001b[0m \u001b[0misinstance\u001b[0m\u001b[0;34m(\u001b[0m\u001b[0moutput\u001b[0m\u001b[0;34m,\u001b[0m \u001b[0mExceptionWrapper\u001b[0m\u001b[0;34m)\u001b[0m\u001b[0;34m:\u001b[0m\u001b[0;34m\u001b[0m\u001b[0;34m\u001b[0m\u001b[0m\n\u001b[0;32m---> 85\u001b[0;31m             \u001b[0moutput\u001b[0m\u001b[0;34m.\u001b[0m\u001b[0mreraise\u001b[0m\u001b[0;34m(\u001b[0m\u001b[0;34m)\u001b[0m\u001b[0;34m\u001b[0m\u001b[0;34m\u001b[0m\u001b[0m\n\u001b[0m\u001b[1;32m     86\u001b[0m         \u001b[0moutputs\u001b[0m\u001b[0;34m.\u001b[0m\u001b[0mappend\u001b[0m\u001b[0;34m(\u001b[0m\u001b[0moutput\u001b[0m\u001b[0;34m)\u001b[0m\u001b[0;34m\u001b[0m\u001b[0;34m\u001b[0m\u001b[0m\n\u001b[1;32m     87\u001b[0m     \u001b[0;32mreturn\u001b[0m \u001b[0moutputs\u001b[0m\u001b[0;34m\u001b[0m\u001b[0;34m\u001b[0m\u001b[0m\n",
      "\u001b[0;32m~/anaconda3/lib/python3.7/site-packages/torch/_utils.py\u001b[0m in \u001b[0;36mreraise\u001b[0;34m(self)\u001b[0m\n\u001b[1;32m    367\u001b[0m             \u001b[0;31m# (https://bugs.python.org/issue2651), so we work around it.\u001b[0m\u001b[0;34m\u001b[0m\u001b[0;34m\u001b[0m\u001b[0;34m\u001b[0m\u001b[0m\n\u001b[1;32m    368\u001b[0m             \u001b[0mmsg\u001b[0m \u001b[0;34m=\u001b[0m \u001b[0mKeyErrorMessage\u001b[0m\u001b[0;34m(\u001b[0m\u001b[0mmsg\u001b[0m\u001b[0;34m)\u001b[0m\u001b[0;34m\u001b[0m\u001b[0;34m\u001b[0m\u001b[0m\n\u001b[0;32m--> 369\u001b[0;31m         \u001b[0;32mraise\u001b[0m \u001b[0mself\u001b[0m\u001b[0;34m.\u001b[0m\u001b[0mexc_type\u001b[0m\u001b[0;34m(\u001b[0m\u001b[0mmsg\u001b[0m\u001b[0;34m)\u001b[0m\u001b[0;34m\u001b[0m\u001b[0;34m\u001b[0m\u001b[0m\n\u001b[0m",
      "\u001b[0;31mRuntimeError\u001b[0m: Caught RuntimeError in replica 1 on device 1.\nOriginal Traceback (most recent call last):\n  File \"/home/chec/anaconda3/lib/python3.7/site-packages/torch/nn/parallel/parallel_apply.py\", line 60, in _worker\n    output = module(*input, **kwargs)\n  File \"/home/chec/anaconda3/lib/python3.7/site-packages/torch/nn/modules/module.py\", line 547, in __call__\n    result = self.forward(*input, **kwargs)\n  File \"/home/chec/anaconda3/lib/python3.7/site-packages/apex/amp/_initialize.py\", line 197, in new_fwd\n    **applier(kwargs, input_caster))\n  File \"<ipython-input-15-5c2f38447e47>\", line 93, in forward\n    b4, b5, x = self._features(x)\n  File \"<ipython-input-15-5c2f38447e47>\", line 72, in _features\n    x = self.conv_stem(x)\n  File \"/home/chec/anaconda3/lib/python3.7/site-packages/torch/nn/modules/module.py\", line 547, in __call__\n    result = self.forward(*input, **kwargs)\n  File \"/home/chec/anaconda3/lib/python3.7/site-packages/timm/models/conv2d_layers.py\", line 67, in forward\n    return conv2d_same(x, self.weight, self.bias, self.stride, self.padding, self.dilation, self.groups)\n  File \"/home/chec/anaconda3/lib/python3.7/site-packages/timm/models/conv2d_layers.py\", line 53, in conv2d_same\n    return F.conv2d(x, weight, bias, stride, (0, 0), dilation, groups)\nRuntimeError: Expected tensor for argument #1 'input' to have the same device as tensor for argument #2 'weight'; but device 1 does not equal 0 (while checking arguments for cudnn_convolution)\n"
     ]
    }
   ],
   "source": [
    "train(args)"
   ]
  },
  {
   "cell_type": "code",
   "execution_count": null,
   "metadata": {},
   "outputs": [],
   "source": []
  },
  {
   "cell_type": "code",
   "execution_count": 37,
   "metadata": {},
   "outputs": [
    {
     "name": "stdout",
     "output_type": "stream",
     "text": [
      "model file: ./model4-ckps/tf_efficientnet_b4/model4_eb4_fold2_380.pth, exist: True\n",
      "loading ./model4-ckps/tf_efficientnet_b4/model4_eb4_fold2_380.pth...\n",
      "model file: ./model4-ckps/tf_efficientnet_b4/model4_eb4_fold2_380.pth_swa, exist: True\n",
      "loading ./model4-ckps/tf_efficientnet_b4/model4_eb4_fold2_380.pth_swa...\n",
      "\n",
      "val: {'recall': 0.998635, 'recall_grapheme': 0.998031, 'recall_vowel': 0.999094, 'recall_consonant': 0.999381, 'recall_word': 0.99789, 'acc_grapheme': 0.998008, 'acc_vowel': 0.999178, 'acc_consonant': 0.999303, 'acc_word': 0.997809, 'loss_grapheme': 0.010964, 'loss_vowel': 0.005378, 'loss_consonant': 0.003544, 'loss_word': 0.011642}\n",
      "\n",
      "val: {'recall': 0.998894, 'recall_grapheme': 0.9984, 'recall_vowel': 0.999307, 'recall_consonant': 0.999469, 'recall_word': 0.998212, 'acc_grapheme': 0.998282, 'acc_vowel': 0.999328, 'acc_consonant': 0.999452, 'acc_word': 0.998182, 'loss_grapheme': 0.008724, 'loss_vowel': 0.004496, 'loss_consonant': 0.002706, 'loss_word': 0.009823}\n",
      "CYCLE: 1\n",
      "    0 | 0.000000 | 001792/160678 | 2.2197 | 6.0491 | 0.22 |||"
     ]
    },
    {
     "ename": "KeyboardInterrupt",
     "evalue": "",
     "output_type": "error",
     "traceback": [
      "\u001b[0;31m---------------------------------------------------------------------------\u001b[0m",
      "\u001b[0;31mKeyboardInterrupt\u001b[0m                         Traceback (most recent call last)",
      "\u001b[0;32m<ipython-input-37-aad596905035>\u001b[0m in \u001b[0;36m<module>\u001b[0;34m\u001b[0m\n\u001b[0;32m----> 1\u001b[0;31m \u001b[0mtrain\u001b[0m\u001b[0;34m(\u001b[0m\u001b[0margs\u001b[0m\u001b[0;34m)\u001b[0m\u001b[0;34m\u001b[0m\u001b[0;34m\u001b[0m\u001b[0m\n\u001b[0m",
      "\u001b[0;32m<ipython-input-32-73207cee3d84>\u001b[0m in \u001b[0;36mtrain\u001b[0;34m(args)\u001b[0m\n\u001b[1;32m     63\u001b[0m         \u001b[0;32mfor\u001b[0m \u001b[0mepoch\u001b[0m \u001b[0;32min\u001b[0m \u001b[0mrange\u001b[0m\u001b[0;34m(\u001b[0m\u001b[0margs\u001b[0m\u001b[0;34m.\u001b[0m\u001b[0mstart_epoch\u001b[0m\u001b[0;34m,\u001b[0m \u001b[0margs\u001b[0m\u001b[0;34m.\u001b[0m\u001b[0mnum_epochs\u001b[0m\u001b[0;34m)\u001b[0m\u001b[0;34m:\u001b[0m\u001b[0;34m\u001b[0m\u001b[0;34m\u001b[0m\u001b[0m\n\u001b[1;32m     64\u001b[0m             \u001b[0mgrid\u001b[0m\u001b[0;34m.\u001b[0m\u001b[0mset_prob\u001b[0m\u001b[0;34m(\u001b[0m\u001b[0mepoch\u001b[0m\u001b[0;34m,\u001b[0m \u001b[0margs\u001b[0m\u001b[0;34m.\u001b[0m\u001b[0mst_epochs\u001b[0m\u001b[0;34m)\u001b[0m\u001b[0;34m\u001b[0m\u001b[0;34m\u001b[0m\u001b[0m\n\u001b[0;32m---> 65\u001b[0;31m             \u001b[0mtrain_epoch\u001b[0m\u001b[0;34m(\u001b[0m\u001b[0margs\u001b[0m\u001b[0;34m,\u001b[0m \u001b[0mmodel\u001b[0m\u001b[0;34m,\u001b[0m \u001b[0mtrain_loader\u001b[0m\u001b[0;34m,\u001b[0m \u001b[0mepoch\u001b[0m\u001b[0;34m,\u001b[0m \u001b[0moptimizer\u001b[0m\u001b[0;34m,\u001b[0m \u001b[0mlr_scheduler\u001b[0m\u001b[0;34m,\u001b[0m \u001b[0mgrid\u001b[0m\u001b[0;34m)\u001b[0m\u001b[0;34m\u001b[0m\u001b[0;34m\u001b[0m\u001b[0m\n\u001b[0m\u001b[1;32m     66\u001b[0m             \u001b[0mvalidate_and_save\u001b[0m\u001b[0;34m(\u001b[0m\u001b[0mmodel\u001b[0m\u001b[0;34m,\u001b[0m \u001b[0mmodel_file\u001b[0m\u001b[0;34m,\u001b[0m \u001b[0mval_loader\u001b[0m\u001b[0;34m,\u001b[0m \u001b[0msave\u001b[0m\u001b[0;34m=\u001b[0m\u001b[0;32mTrue\u001b[0m\u001b[0;34m)\u001b[0m\u001b[0;34m\u001b[0m\u001b[0;34m\u001b[0m\u001b[0m\n\u001b[1;32m     67\u001b[0m \u001b[0;34m\u001b[0m\u001b[0m\n",
      "\u001b[0;32m<ipython-input-31-16e5a4d95497>\u001b[0m in \u001b[0;36mtrain_epoch\u001b[0;34m(args, model, train_loader, epoch, optimizer, lr_scheduler, grid)\u001b[0m\n\u001b[1;32m     22\u001b[0m             \u001b[0mlam\u001b[0m \u001b[0;34m=\u001b[0m \u001b[0;36m1\u001b[0m \u001b[0;34m-\u001b[0m \u001b[0;34m(\u001b[0m\u001b[0;34m(\u001b[0m\u001b[0mbbx2\u001b[0m \u001b[0;34m-\u001b[0m \u001b[0mbbx1\u001b[0m\u001b[0;34m)\u001b[0m \u001b[0;34m*\u001b[0m \u001b[0;34m(\u001b[0m\u001b[0mbby2\u001b[0m \u001b[0;34m-\u001b[0m \u001b[0mbby1\u001b[0m\u001b[0;34m)\u001b[0m \u001b[0;34m/\u001b[0m \u001b[0;34m(\u001b[0m\u001b[0mimg\u001b[0m\u001b[0;34m.\u001b[0m\u001b[0msize\u001b[0m\u001b[0;34m(\u001b[0m\u001b[0;34m)\u001b[0m\u001b[0;34m[\u001b[0m\u001b[0;34m-\u001b[0m\u001b[0;36m1\u001b[0m\u001b[0;34m]\u001b[0m \u001b[0;34m*\u001b[0m \u001b[0mimg\u001b[0m\u001b[0;34m.\u001b[0m\u001b[0msize\u001b[0m\u001b[0;34m(\u001b[0m\u001b[0;34m)\u001b[0m\u001b[0;34m[\u001b[0m\u001b[0;34m-\u001b[0m\u001b[0;36m2\u001b[0m\u001b[0;34m]\u001b[0m\u001b[0;34m)\u001b[0m\u001b[0;34m)\u001b[0m\u001b[0;34m\u001b[0m\u001b[0;34m\u001b[0m\u001b[0m\n\u001b[1;32m     23\u001b[0m             \u001b[0;31m# compute output\u001b[0m\u001b[0;34m\u001b[0m\u001b[0;34m\u001b[0m\u001b[0;34m\u001b[0m\u001b[0m\n\u001b[0;32m---> 24\u001b[0;31m             \u001b[0moutputs\u001b[0m\u001b[0;34m,\u001b[0m \u001b[0moutputs_aux1\u001b[0m\u001b[0;34m,\u001b[0m \u001b[0moutputs_aux2\u001b[0m \u001b[0;34m=\u001b[0m \u001b[0mmodel\u001b[0m\u001b[0;34m(\u001b[0m\u001b[0mimg\u001b[0m\u001b[0;34m)\u001b[0m\u001b[0;34m\u001b[0m\u001b[0;34m\u001b[0m\u001b[0m\n\u001b[0m\u001b[1;32m     25\u001b[0m             \u001b[0mloss_primary\u001b[0m \u001b[0;34m=\u001b[0m \u001b[0mcriterion\u001b[0m\u001b[0;34m(\u001b[0m\u001b[0moutputs\u001b[0m\u001b[0;34m,\u001b[0m \u001b[0mtarget_a\u001b[0m\u001b[0;34m)\u001b[0m \u001b[0;34m*\u001b[0m \u001b[0mlam\u001b[0m \u001b[0;34m+\u001b[0m \u001b[0mcriterion\u001b[0m\u001b[0;34m(\u001b[0m\u001b[0moutputs\u001b[0m\u001b[0;34m,\u001b[0m \u001b[0mtarget_b\u001b[0m\u001b[0;34m)\u001b[0m \u001b[0;34m*\u001b[0m \u001b[0;34m(\u001b[0m\u001b[0;36m1.\u001b[0m \u001b[0;34m-\u001b[0m \u001b[0mlam\u001b[0m\u001b[0;34m)\u001b[0m\u001b[0;34m\u001b[0m\u001b[0;34m\u001b[0m\u001b[0m\n\u001b[1;32m     26\u001b[0m             \u001b[0mloss_aux1\u001b[0m \u001b[0;34m=\u001b[0m \u001b[0mcriterion\u001b[0m\u001b[0;34m(\u001b[0m\u001b[0moutputs_aux1\u001b[0m\u001b[0;34m,\u001b[0m \u001b[0mtarget_a\u001b[0m\u001b[0;34m)\u001b[0m \u001b[0;34m*\u001b[0m \u001b[0mlam\u001b[0m \u001b[0;34m+\u001b[0m \u001b[0mcriterion\u001b[0m\u001b[0;34m(\u001b[0m\u001b[0moutputs_aux1\u001b[0m\u001b[0;34m,\u001b[0m \u001b[0mtarget_b\u001b[0m\u001b[0;34m)\u001b[0m \u001b[0;34m*\u001b[0m \u001b[0;34m(\u001b[0m\u001b[0;36m1.\u001b[0m \u001b[0;34m-\u001b[0m \u001b[0mlam\u001b[0m\u001b[0;34m)\u001b[0m\u001b[0;34m\u001b[0m\u001b[0;34m\u001b[0m\u001b[0m\n",
      "\u001b[0;32m~/anaconda3/lib/python3.7/site-packages/torch/nn/modules/module.py\u001b[0m in \u001b[0;36m__call__\u001b[0;34m(self, *input, **kwargs)\u001b[0m\n\u001b[1;32m    545\u001b[0m             \u001b[0mresult\u001b[0m \u001b[0;34m=\u001b[0m \u001b[0mself\u001b[0m\u001b[0;34m.\u001b[0m\u001b[0m_slow_forward\u001b[0m\u001b[0;34m(\u001b[0m\u001b[0;34m*\u001b[0m\u001b[0minput\u001b[0m\u001b[0;34m,\u001b[0m \u001b[0;34m**\u001b[0m\u001b[0mkwargs\u001b[0m\u001b[0;34m)\u001b[0m\u001b[0;34m\u001b[0m\u001b[0;34m\u001b[0m\u001b[0m\n\u001b[1;32m    546\u001b[0m         \u001b[0;32melse\u001b[0m\u001b[0;34m:\u001b[0m\u001b[0;34m\u001b[0m\u001b[0;34m\u001b[0m\u001b[0m\n\u001b[0;32m--> 547\u001b[0;31m             \u001b[0mresult\u001b[0m \u001b[0;34m=\u001b[0m \u001b[0mself\u001b[0m\u001b[0;34m.\u001b[0m\u001b[0mforward\u001b[0m\u001b[0;34m(\u001b[0m\u001b[0;34m*\u001b[0m\u001b[0minput\u001b[0m\u001b[0;34m,\u001b[0m \u001b[0;34m**\u001b[0m\u001b[0mkwargs\u001b[0m\u001b[0;34m)\u001b[0m\u001b[0;34m\u001b[0m\u001b[0;34m\u001b[0m\u001b[0m\n\u001b[0m\u001b[1;32m    548\u001b[0m         \u001b[0;32mfor\u001b[0m \u001b[0mhook\u001b[0m \u001b[0;32min\u001b[0m \u001b[0mself\u001b[0m\u001b[0;34m.\u001b[0m\u001b[0m_forward_hooks\u001b[0m\u001b[0;34m.\u001b[0m\u001b[0mvalues\u001b[0m\u001b[0;34m(\u001b[0m\u001b[0;34m)\u001b[0m\u001b[0;34m:\u001b[0m\u001b[0;34m\u001b[0m\u001b[0;34m\u001b[0m\u001b[0m\n\u001b[1;32m    549\u001b[0m             \u001b[0mhook_result\u001b[0m \u001b[0;34m=\u001b[0m \u001b[0mhook\u001b[0m\u001b[0;34m(\u001b[0m\u001b[0mself\u001b[0m\u001b[0;34m,\u001b[0m \u001b[0minput\u001b[0m\u001b[0;34m,\u001b[0m \u001b[0mresult\u001b[0m\u001b[0;34m)\u001b[0m\u001b[0;34m\u001b[0m\u001b[0;34m\u001b[0m\u001b[0m\n",
      "\u001b[0;32m~/anaconda3/lib/python3.7/site-packages/torch/nn/parallel/data_parallel.py\u001b[0m in \u001b[0;36mforward\u001b[0;34m(self, *inputs, **kwargs)\u001b[0m\n\u001b[1;32m    150\u001b[0m             \u001b[0;32mreturn\u001b[0m \u001b[0mself\u001b[0m\u001b[0;34m.\u001b[0m\u001b[0mmodule\u001b[0m\u001b[0;34m(\u001b[0m\u001b[0;34m*\u001b[0m\u001b[0minputs\u001b[0m\u001b[0;34m[\u001b[0m\u001b[0;36m0\u001b[0m\u001b[0;34m]\u001b[0m\u001b[0;34m,\u001b[0m \u001b[0;34m**\u001b[0m\u001b[0mkwargs\u001b[0m\u001b[0;34m[\u001b[0m\u001b[0;36m0\u001b[0m\u001b[0;34m]\u001b[0m\u001b[0;34m)\u001b[0m\u001b[0;34m\u001b[0m\u001b[0;34m\u001b[0m\u001b[0m\n\u001b[1;32m    151\u001b[0m         \u001b[0mreplicas\u001b[0m \u001b[0;34m=\u001b[0m \u001b[0mself\u001b[0m\u001b[0;34m.\u001b[0m\u001b[0mreplicate\u001b[0m\u001b[0;34m(\u001b[0m\u001b[0mself\u001b[0m\u001b[0;34m.\u001b[0m\u001b[0mmodule\u001b[0m\u001b[0;34m,\u001b[0m \u001b[0mself\u001b[0m\u001b[0;34m.\u001b[0m\u001b[0mdevice_ids\u001b[0m\u001b[0;34m[\u001b[0m\u001b[0;34m:\u001b[0m\u001b[0mlen\u001b[0m\u001b[0;34m(\u001b[0m\u001b[0minputs\u001b[0m\u001b[0;34m)\u001b[0m\u001b[0;34m]\u001b[0m\u001b[0;34m)\u001b[0m\u001b[0;34m\u001b[0m\u001b[0;34m\u001b[0m\u001b[0m\n\u001b[0;32m--> 152\u001b[0;31m         \u001b[0moutputs\u001b[0m \u001b[0;34m=\u001b[0m \u001b[0mself\u001b[0m\u001b[0;34m.\u001b[0m\u001b[0mparallel_apply\u001b[0m\u001b[0;34m(\u001b[0m\u001b[0mreplicas\u001b[0m\u001b[0;34m,\u001b[0m \u001b[0minputs\u001b[0m\u001b[0;34m,\u001b[0m \u001b[0mkwargs\u001b[0m\u001b[0;34m)\u001b[0m\u001b[0;34m\u001b[0m\u001b[0;34m\u001b[0m\u001b[0m\n\u001b[0m\u001b[1;32m    153\u001b[0m         \u001b[0;32mreturn\u001b[0m \u001b[0mself\u001b[0m\u001b[0;34m.\u001b[0m\u001b[0mgather\u001b[0m\u001b[0;34m(\u001b[0m\u001b[0moutputs\u001b[0m\u001b[0;34m,\u001b[0m \u001b[0mself\u001b[0m\u001b[0;34m.\u001b[0m\u001b[0moutput_device\u001b[0m\u001b[0;34m)\u001b[0m\u001b[0;34m\u001b[0m\u001b[0;34m\u001b[0m\u001b[0m\n\u001b[1;32m    154\u001b[0m \u001b[0;34m\u001b[0m\u001b[0m\n",
      "\u001b[0;32m~/anaconda3/lib/python3.7/site-packages/torch/nn/parallel/data_parallel.py\u001b[0m in \u001b[0;36mparallel_apply\u001b[0;34m(self, replicas, inputs, kwargs)\u001b[0m\n\u001b[1;32m    160\u001b[0m \u001b[0;34m\u001b[0m\u001b[0m\n\u001b[1;32m    161\u001b[0m     \u001b[0;32mdef\u001b[0m \u001b[0mparallel_apply\u001b[0m\u001b[0;34m(\u001b[0m\u001b[0mself\u001b[0m\u001b[0;34m,\u001b[0m \u001b[0mreplicas\u001b[0m\u001b[0;34m,\u001b[0m \u001b[0minputs\u001b[0m\u001b[0;34m,\u001b[0m \u001b[0mkwargs\u001b[0m\u001b[0;34m)\u001b[0m\u001b[0;34m:\u001b[0m\u001b[0;34m\u001b[0m\u001b[0;34m\u001b[0m\u001b[0m\n\u001b[0;32m--> 162\u001b[0;31m         \u001b[0;32mreturn\u001b[0m \u001b[0mparallel_apply\u001b[0m\u001b[0;34m(\u001b[0m\u001b[0mreplicas\u001b[0m\u001b[0;34m,\u001b[0m \u001b[0minputs\u001b[0m\u001b[0;34m,\u001b[0m \u001b[0mkwargs\u001b[0m\u001b[0;34m,\u001b[0m \u001b[0mself\u001b[0m\u001b[0;34m.\u001b[0m\u001b[0mdevice_ids\u001b[0m\u001b[0;34m[\u001b[0m\u001b[0;34m:\u001b[0m\u001b[0mlen\u001b[0m\u001b[0;34m(\u001b[0m\u001b[0mreplicas\u001b[0m\u001b[0;34m)\u001b[0m\u001b[0;34m]\u001b[0m\u001b[0;34m)\u001b[0m\u001b[0;34m\u001b[0m\u001b[0;34m\u001b[0m\u001b[0m\n\u001b[0m\u001b[1;32m    163\u001b[0m \u001b[0;34m\u001b[0m\u001b[0m\n\u001b[1;32m    164\u001b[0m     \u001b[0;32mdef\u001b[0m \u001b[0mgather\u001b[0m\u001b[0;34m(\u001b[0m\u001b[0mself\u001b[0m\u001b[0;34m,\u001b[0m \u001b[0moutputs\u001b[0m\u001b[0;34m,\u001b[0m \u001b[0moutput_device\u001b[0m\u001b[0;34m)\u001b[0m\u001b[0;34m:\u001b[0m\u001b[0;34m\u001b[0m\u001b[0;34m\u001b[0m\u001b[0m\n",
      "\u001b[0;32m~/anaconda3/lib/python3.7/site-packages/torch/nn/parallel/parallel_apply.py\u001b[0m in \u001b[0;36mparallel_apply\u001b[0;34m(modules, inputs, kwargs_tup, devices)\u001b[0m\n\u001b[1;32m     75\u001b[0m             \u001b[0mthread\u001b[0m\u001b[0;34m.\u001b[0m\u001b[0mstart\u001b[0m\u001b[0;34m(\u001b[0m\u001b[0;34m)\u001b[0m\u001b[0;34m\u001b[0m\u001b[0;34m\u001b[0m\u001b[0m\n\u001b[1;32m     76\u001b[0m         \u001b[0;32mfor\u001b[0m \u001b[0mthread\u001b[0m \u001b[0;32min\u001b[0m \u001b[0mthreads\u001b[0m\u001b[0;34m:\u001b[0m\u001b[0;34m\u001b[0m\u001b[0;34m\u001b[0m\u001b[0m\n\u001b[0;32m---> 77\u001b[0;31m             \u001b[0mthread\u001b[0m\u001b[0;34m.\u001b[0m\u001b[0mjoin\u001b[0m\u001b[0;34m(\u001b[0m\u001b[0;34m)\u001b[0m\u001b[0;34m\u001b[0m\u001b[0;34m\u001b[0m\u001b[0m\n\u001b[0m\u001b[1;32m     78\u001b[0m     \u001b[0;32melse\u001b[0m\u001b[0;34m:\u001b[0m\u001b[0;34m\u001b[0m\u001b[0;34m\u001b[0m\u001b[0m\n\u001b[1;32m     79\u001b[0m         \u001b[0m_worker\u001b[0m\u001b[0;34m(\u001b[0m\u001b[0;36m0\u001b[0m\u001b[0;34m,\u001b[0m \u001b[0mmodules\u001b[0m\u001b[0;34m[\u001b[0m\u001b[0;36m0\u001b[0m\u001b[0;34m]\u001b[0m\u001b[0;34m,\u001b[0m \u001b[0minputs\u001b[0m\u001b[0;34m[\u001b[0m\u001b[0;36m0\u001b[0m\u001b[0;34m]\u001b[0m\u001b[0;34m,\u001b[0m \u001b[0mkwargs_tup\u001b[0m\u001b[0;34m[\u001b[0m\u001b[0;36m0\u001b[0m\u001b[0;34m]\u001b[0m\u001b[0;34m,\u001b[0m \u001b[0mdevices\u001b[0m\u001b[0;34m[\u001b[0m\u001b[0;36m0\u001b[0m\u001b[0;34m]\u001b[0m\u001b[0;34m)\u001b[0m\u001b[0;34m\u001b[0m\u001b[0;34m\u001b[0m\u001b[0m\n",
      "\u001b[0;32m~/anaconda3/lib/python3.7/threading.py\u001b[0m in \u001b[0;36mjoin\u001b[0;34m(self, timeout)\u001b[0m\n\u001b[1;32m   1030\u001b[0m \u001b[0;34m\u001b[0m\u001b[0m\n\u001b[1;32m   1031\u001b[0m         \u001b[0;32mif\u001b[0m \u001b[0mtimeout\u001b[0m \u001b[0;32mis\u001b[0m \u001b[0;32mNone\u001b[0m\u001b[0;34m:\u001b[0m\u001b[0;34m\u001b[0m\u001b[0;34m\u001b[0m\u001b[0m\n\u001b[0;32m-> 1032\u001b[0;31m             \u001b[0mself\u001b[0m\u001b[0;34m.\u001b[0m\u001b[0m_wait_for_tstate_lock\u001b[0m\u001b[0;34m(\u001b[0m\u001b[0;34m)\u001b[0m\u001b[0;34m\u001b[0m\u001b[0;34m\u001b[0m\u001b[0m\n\u001b[0m\u001b[1;32m   1033\u001b[0m         \u001b[0;32melse\u001b[0m\u001b[0;34m:\u001b[0m\u001b[0;34m\u001b[0m\u001b[0;34m\u001b[0m\u001b[0m\n\u001b[1;32m   1034\u001b[0m             \u001b[0;31m# the behavior of a negative timeout isn't documented, but\u001b[0m\u001b[0;34m\u001b[0m\u001b[0;34m\u001b[0m\u001b[0;34m\u001b[0m\u001b[0m\n",
      "\u001b[0;32m~/anaconda3/lib/python3.7/threading.py\u001b[0m in \u001b[0;36m_wait_for_tstate_lock\u001b[0;34m(self, block, timeout)\u001b[0m\n\u001b[1;32m   1046\u001b[0m         \u001b[0;32mif\u001b[0m \u001b[0mlock\u001b[0m \u001b[0;32mis\u001b[0m \u001b[0;32mNone\u001b[0m\u001b[0;34m:\u001b[0m  \u001b[0;31m# already determined that the C code is done\u001b[0m\u001b[0;34m\u001b[0m\u001b[0;34m\u001b[0m\u001b[0m\n\u001b[1;32m   1047\u001b[0m             \u001b[0;32massert\u001b[0m \u001b[0mself\u001b[0m\u001b[0;34m.\u001b[0m\u001b[0m_is_stopped\u001b[0m\u001b[0;34m\u001b[0m\u001b[0;34m\u001b[0m\u001b[0m\n\u001b[0;32m-> 1048\u001b[0;31m         \u001b[0;32melif\u001b[0m \u001b[0mlock\u001b[0m\u001b[0;34m.\u001b[0m\u001b[0macquire\u001b[0m\u001b[0;34m(\u001b[0m\u001b[0mblock\u001b[0m\u001b[0;34m,\u001b[0m \u001b[0mtimeout\u001b[0m\u001b[0;34m)\u001b[0m\u001b[0;34m:\u001b[0m\u001b[0;34m\u001b[0m\u001b[0;34m\u001b[0m\u001b[0m\n\u001b[0m\u001b[1;32m   1049\u001b[0m             \u001b[0mlock\u001b[0m\u001b[0;34m.\u001b[0m\u001b[0mrelease\u001b[0m\u001b[0;34m(\u001b[0m\u001b[0;34m)\u001b[0m\u001b[0;34m\u001b[0m\u001b[0;34m\u001b[0m\u001b[0m\n\u001b[1;32m   1050\u001b[0m             \u001b[0mself\u001b[0m\u001b[0;34m.\u001b[0m\u001b[0m_stop\u001b[0m\u001b[0;34m(\u001b[0m\u001b[0;34m)\u001b[0m\u001b[0;34m\u001b[0m\u001b[0;34m\u001b[0m\u001b[0m\n",
      "\u001b[0;31mKeyboardInterrupt\u001b[0m: "
     ]
    }
   ],
   "source": [
    "train(args)"
   ]
  },
  {
   "cell_type": "code",
   "execution_count": null,
   "metadata": {},
   "outputs": [],
   "source": []
  },
  {
   "cell_type": "code",
   "execution_count": 37,
   "metadata": {},
   "outputs": [
    {
     "name": "stdout",
     "output_type": "stream",
     "text": [
      "model file: ./model4-ckps/tf_efficientnet_b4/model4_eb4_fold2_380.pth, exist: True\n",
      "loading ./model4-ckps/tf_efficientnet_b4/model4_eb4_fold2_380.pth...\n",
      "model file: ./model4-ckps/tf_efficientnet_b4/model4_eb4_fold2_380.pth_swa, exist: True\n",
      "loading ./model4-ckps/tf_efficientnet_b4/model4_eb4_fold2_380.pth_swa...\n",
      "\n",
      "val: {'recall': 0.998635, 'recall_grapheme': 0.998031, 'recall_vowel': 0.999094, 'recall_consonant': 0.999381, 'recall_word': 0.99789, 'acc_grapheme': 0.998008, 'acc_vowel': 0.999178, 'acc_consonant': 0.999303, 'acc_word': 0.997809, 'loss_grapheme': 0.010964, 'loss_vowel': 0.005378, 'loss_consonant': 0.003544, 'loss_word': 0.011642}\n",
      "\n",
      "val: {'recall': 0.998894, 'recall_grapheme': 0.9984, 'recall_vowel': 0.999307, 'recall_consonant': 0.999469, 'recall_word': 0.998212, 'acc_grapheme': 0.998282, 'acc_vowel': 0.999328, 'acc_consonant': 0.999452, 'acc_word': 0.998182, 'loss_grapheme': 0.008724, 'loss_vowel': 0.004496, 'loss_consonant': 0.002706, 'loss_word': 0.009823}\n",
      "CYCLE: 1\n",
      "    0 | 0.000040 | 160640/160678 | 6.0334 | 5.0953 | 13.73 ||\n",
      "val: {'recall': 0.99783, 'recall_grapheme': 0.996573, 'recall_vowel': 0.998957, 'recall_consonant': 0.999216, 'recall_word': 0.997092, 'acc_grapheme': 0.996987, 'acc_vowel': 0.999029, 'acc_consonant': 0.999178, 'acc_word': 0.997037, 'loss_grapheme': 0.014314, 'loss_vowel': 0.006752, 'loss_consonant': 0.004, 'loss_word': 0.01478}\n",
      "    1 | 0.000080 | 160640/160678 | 0.2596 | 5.0311 | 13.85 ||\n",
      "val: {'recall': 0.998118, 'recall_grapheme': 0.997076, 'recall_vowel': 0.998977, 'recall_consonant': 0.999342, 'recall_word': 0.997424, 'acc_grapheme': 0.997435, 'acc_vowel': 0.999079, 'acc_consonant': 0.999278, 'acc_word': 0.997361, 'loss_grapheme': 0.011372, 'loss_vowel': 0.005202, 'loss_consonant': 0.003461, 'loss_word': 0.012129}\n",
      "    2 | 0.000119 | 160640/160678 | 6.1068 | 5.2625 | 13.92 ||"
     ]
    },
    {
     "name": "stderr",
     "output_type": "stream",
     "text": [
      "\r",
      "  0%|          | 0/1255 [00:00<?, ?it/s]"
     ]
    },
    {
     "name": "stdout",
     "output_type": "stream",
     "text": [
      "\n",
      "val: {'recall': 0.998153, 'recall_grapheme': 0.997244, 'recall_vowel': 0.998818, 'recall_consonant': 0.999304, 'recall_word': 0.997294, 'acc_grapheme': 0.99741, 'acc_vowel': 0.999054, 'acc_consonant': 0.999278, 'acc_word': 0.997236, 'loss_grapheme': 0.012261, 'loss_vowel': 0.005854, 'loss_consonant': 0.003568, 'loss_word': 0.013006}\n",
      "SWA>>>:\n"
     ]
    },
    {
     "name": "stderr",
     "output_type": "stream",
     "text": [
      "100%|██████████| 1255/1255 [07:08<00:00,  2.91it/s]\n"
     ]
    },
    {
     "name": "stdout",
     "output_type": "stream",
     "text": [
      "\n",
      "val: {'recall': 0.998664, 'recall_grapheme': 0.99798, 'recall_vowel': 0.99932, 'recall_consonant': 0.999377, 'recall_word': 0.998081, 'acc_grapheme': 0.998182, 'acc_vowel': 0.999353, 'acc_consonant': 0.999402, 'acc_word': 0.998033, 'loss_grapheme': 0.00864, 'loss_vowel': 0.004549, 'loss_consonant': 0.002757, 'loss_word': 0.009867}\n",
      "    3 | 0.000152 | 134400/160678 | 9.8910 | 5.1330 | 11.73 ||"
     ]
    },
    {
     "ename": "KeyboardInterrupt",
     "evalue": "",
     "output_type": "error",
     "traceback": [
      "\u001b[0;31m---------------------------------------------------------------------------\u001b[0m",
      "\u001b[0;31mKeyboardInterrupt\u001b[0m                         Traceback (most recent call last)",
      "\u001b[0;32m<ipython-input-37-aad596905035>\u001b[0m in \u001b[0;36m<module>\u001b[0;34m\u001b[0m\n\u001b[0;32m----> 1\u001b[0;31m \u001b[0mtrain\u001b[0m\u001b[0;34m(\u001b[0m\u001b[0margs\u001b[0m\u001b[0;34m)\u001b[0m\u001b[0;34m\u001b[0m\u001b[0;34m\u001b[0m\u001b[0m\n\u001b[0m",
      "\u001b[0;32m<ipython-input-32-73207cee3d84>\u001b[0m in \u001b[0;36mtrain\u001b[0;34m(args)\u001b[0m\n\u001b[1;32m     63\u001b[0m         \u001b[0;32mfor\u001b[0m \u001b[0mepoch\u001b[0m \u001b[0;32min\u001b[0m \u001b[0mrange\u001b[0m\u001b[0;34m(\u001b[0m\u001b[0margs\u001b[0m\u001b[0;34m.\u001b[0m\u001b[0mstart_epoch\u001b[0m\u001b[0;34m,\u001b[0m \u001b[0margs\u001b[0m\u001b[0;34m.\u001b[0m\u001b[0mnum_epochs\u001b[0m\u001b[0;34m)\u001b[0m\u001b[0;34m:\u001b[0m\u001b[0;34m\u001b[0m\u001b[0;34m\u001b[0m\u001b[0m\n\u001b[1;32m     64\u001b[0m             \u001b[0mgrid\u001b[0m\u001b[0;34m.\u001b[0m\u001b[0mset_prob\u001b[0m\u001b[0;34m(\u001b[0m\u001b[0mepoch\u001b[0m\u001b[0;34m,\u001b[0m \u001b[0margs\u001b[0m\u001b[0;34m.\u001b[0m\u001b[0mst_epochs\u001b[0m\u001b[0;34m)\u001b[0m\u001b[0;34m\u001b[0m\u001b[0;34m\u001b[0m\u001b[0m\n\u001b[0;32m---> 65\u001b[0;31m             \u001b[0mtrain_epoch\u001b[0m\u001b[0;34m(\u001b[0m\u001b[0margs\u001b[0m\u001b[0;34m,\u001b[0m \u001b[0mmodel\u001b[0m\u001b[0;34m,\u001b[0m \u001b[0mtrain_loader\u001b[0m\u001b[0;34m,\u001b[0m \u001b[0mepoch\u001b[0m\u001b[0;34m,\u001b[0m \u001b[0moptimizer\u001b[0m\u001b[0;34m,\u001b[0m \u001b[0mlr_scheduler\u001b[0m\u001b[0;34m,\u001b[0m \u001b[0mgrid\u001b[0m\u001b[0;34m)\u001b[0m\u001b[0;34m\u001b[0m\u001b[0;34m\u001b[0m\u001b[0m\n\u001b[0m\u001b[1;32m     66\u001b[0m             \u001b[0mvalidate_and_save\u001b[0m\u001b[0;34m(\u001b[0m\u001b[0mmodel\u001b[0m\u001b[0;34m,\u001b[0m \u001b[0mmodel_file\u001b[0m\u001b[0;34m,\u001b[0m \u001b[0mval_loader\u001b[0m\u001b[0;34m,\u001b[0m \u001b[0msave\u001b[0m\u001b[0;34m=\u001b[0m\u001b[0;32mTrue\u001b[0m\u001b[0;34m)\u001b[0m\u001b[0;34m\u001b[0m\u001b[0;34m\u001b[0m\u001b[0m\n\u001b[1;32m     67\u001b[0m \u001b[0;34m\u001b[0m\u001b[0m\n",
      "\u001b[0;32m<ipython-input-31-16e5a4d95497>\u001b[0m in \u001b[0;36mtrain_epoch\u001b[0;34m(args, model, train_loader, epoch, optimizer, lr_scheduler, grid)\u001b[0m\n\u001b[1;32m     45\u001b[0m         \u001b[0moptimizer\u001b[0m\u001b[0;34m.\u001b[0m\u001b[0mzero_grad\u001b[0m\u001b[0;34m(\u001b[0m\u001b[0;34m)\u001b[0m\u001b[0;34m\u001b[0m\u001b[0;34m\u001b[0m\u001b[0m\n\u001b[1;32m     46\u001b[0m         \u001b[0;32mwith\u001b[0m \u001b[0mamp\u001b[0m\u001b[0;34m.\u001b[0m\u001b[0mscale_loss\u001b[0m\u001b[0;34m(\u001b[0m\u001b[0mloss\u001b[0m\u001b[0;34m,\u001b[0m \u001b[0moptimizer\u001b[0m\u001b[0;34m)\u001b[0m \u001b[0;32mas\u001b[0m \u001b[0mscaled_loss\u001b[0m\u001b[0;34m:\u001b[0m\u001b[0;34m\u001b[0m\u001b[0;34m\u001b[0m\u001b[0m\n\u001b[0;32m---> 47\u001b[0;31m             \u001b[0mscaled_loss\u001b[0m\u001b[0;34m.\u001b[0m\u001b[0mbackward\u001b[0m\u001b[0;34m(\u001b[0m\u001b[0;34m)\u001b[0m\u001b[0;34m\u001b[0m\u001b[0;34m\u001b[0m\u001b[0m\n\u001b[0m\u001b[1;32m     48\u001b[0m         \u001b[0;31m#loss.backward()\u001b[0m\u001b[0;34m\u001b[0m\u001b[0;34m\u001b[0m\u001b[0;34m\u001b[0m\u001b[0m\n\u001b[1;32m     49\u001b[0m         \u001b[0mlr_scheduler\u001b[0m\u001b[0;34m(\u001b[0m\u001b[0moptimizer\u001b[0m\u001b[0;34m,\u001b[0m \u001b[0mbatch_idx\u001b[0m\u001b[0;34m,\u001b[0m \u001b[0mepoch\u001b[0m\u001b[0;34m)\u001b[0m\u001b[0;34m\u001b[0m\u001b[0;34m\u001b[0m\u001b[0m\n",
      "\u001b[0;32m~/anaconda3/lib/python3.7/contextlib.py\u001b[0m in \u001b[0;36m__exit__\u001b[0;34m(self, type, value, traceback)\u001b[0m\n\u001b[1;32m    117\u001b[0m         \u001b[0;32mif\u001b[0m \u001b[0mtype\u001b[0m \u001b[0;32mis\u001b[0m \u001b[0;32mNone\u001b[0m\u001b[0;34m:\u001b[0m\u001b[0;34m\u001b[0m\u001b[0;34m\u001b[0m\u001b[0m\n\u001b[1;32m    118\u001b[0m             \u001b[0;32mtry\u001b[0m\u001b[0;34m:\u001b[0m\u001b[0;34m\u001b[0m\u001b[0;34m\u001b[0m\u001b[0m\n\u001b[0;32m--> 119\u001b[0;31m                 \u001b[0mnext\u001b[0m\u001b[0;34m(\u001b[0m\u001b[0mself\u001b[0m\u001b[0;34m.\u001b[0m\u001b[0mgen\u001b[0m\u001b[0;34m)\u001b[0m\u001b[0;34m\u001b[0m\u001b[0;34m\u001b[0m\u001b[0m\n\u001b[0m\u001b[1;32m    120\u001b[0m             \u001b[0;32mexcept\u001b[0m \u001b[0mStopIteration\u001b[0m\u001b[0;34m:\u001b[0m\u001b[0;34m\u001b[0m\u001b[0;34m\u001b[0m\u001b[0m\n\u001b[1;32m    121\u001b[0m                 \u001b[0;32mreturn\u001b[0m \u001b[0;32mFalse\u001b[0m\u001b[0;34m\u001b[0m\u001b[0;34m\u001b[0m\u001b[0m\n",
      "\u001b[0;32m~/anaconda3/lib/python3.7/site-packages/apex/amp/handle.py\u001b[0m in \u001b[0;36mscale_loss\u001b[0;34m(loss, optimizers, loss_id, model, delay_unscale, delay_overflow_check)\u001b[0m\n\u001b[1;32m    125\u001b[0m             \u001b[0;31m# For future fused optimizers that enable sync-free dynamic loss scaling,\u001b[0m\u001b[0;34m\u001b[0m\u001b[0;34m\u001b[0m\u001b[0;34m\u001b[0m\u001b[0m\n\u001b[1;32m    126\u001b[0m             \u001b[0;31m# should_skip will always be False.\u001b[0m\u001b[0;34m\u001b[0m\u001b[0;34m\u001b[0m\u001b[0;34m\u001b[0m\u001b[0m\n\u001b[0;32m--> 127\u001b[0;31m             \u001b[0mshould_skip\u001b[0m \u001b[0;34m=\u001b[0m \u001b[0;32mFalse\u001b[0m \u001b[0;32mif\u001b[0m \u001b[0mdelay_overflow_check\u001b[0m \u001b[0;32melse\u001b[0m \u001b[0mloss_scaler\u001b[0m\u001b[0;34m.\u001b[0m\u001b[0mupdate_scale\u001b[0m\u001b[0;34m(\u001b[0m\u001b[0;34m)\u001b[0m\u001b[0;34m\u001b[0m\u001b[0;34m\u001b[0m\u001b[0m\n\u001b[0m\u001b[1;32m    128\u001b[0m             \u001b[0;32mif\u001b[0m \u001b[0mshould_skip\u001b[0m\u001b[0;34m:\u001b[0m\u001b[0;34m\u001b[0m\u001b[0;34m\u001b[0m\u001b[0m\n\u001b[1;32m    129\u001b[0m                 \u001b[0;32mfor\u001b[0m \u001b[0moptimizer\u001b[0m \u001b[0;32min\u001b[0m \u001b[0moptimizers\u001b[0m\u001b[0;34m:\u001b[0m\u001b[0;34m\u001b[0m\u001b[0;34m\u001b[0m\u001b[0m\n",
      "\u001b[0;32m~/anaconda3/lib/python3.7/site-packages/apex/amp/scaler.py\u001b[0m in \u001b[0;36mupdate_scale\u001b[0;34m(self)\u001b[0m\n\u001b[1;32m    198\u001b[0m         \u001b[0;31m# If the fused kernel is available, we only need one D2H memcopy and sync.\u001b[0m\u001b[0;34m\u001b[0m\u001b[0;34m\u001b[0m\u001b[0;34m\u001b[0m\u001b[0m\n\u001b[1;32m    199\u001b[0m         \u001b[0;32mif\u001b[0m \u001b[0mLossScaler\u001b[0m\u001b[0;34m.\u001b[0m\u001b[0mhas_fused_kernel\u001b[0m \u001b[0;32mand\u001b[0m \u001b[0mself\u001b[0m\u001b[0;34m.\u001b[0m\u001b[0mdynamic\u001b[0m \u001b[0;32mand\u001b[0m \u001b[0;32mnot\u001b[0m \u001b[0mself\u001b[0m\u001b[0;34m.\u001b[0m\u001b[0m_has_overflow\u001b[0m\u001b[0;34m:\u001b[0m\u001b[0;34m\u001b[0m\u001b[0;34m\u001b[0m\u001b[0m\n\u001b[0;32m--> 200\u001b[0;31m             \u001b[0mself\u001b[0m\u001b[0;34m.\u001b[0m\u001b[0m_has_overflow\u001b[0m \u001b[0;34m=\u001b[0m \u001b[0mself\u001b[0m\u001b[0;34m.\u001b[0m\u001b[0m_overflow_buf\u001b[0m\u001b[0;34m.\u001b[0m\u001b[0mitem\u001b[0m\u001b[0;34m(\u001b[0m\u001b[0;34m)\u001b[0m\u001b[0;34m\u001b[0m\u001b[0;34m\u001b[0m\u001b[0m\n\u001b[0m\u001b[1;32m    201\u001b[0m \u001b[0;34m\u001b[0m\u001b[0m\n\u001b[1;32m    202\u001b[0m         \u001b[0;32mif\u001b[0m \u001b[0mself\u001b[0m\u001b[0;34m.\u001b[0m\u001b[0m_has_overflow\u001b[0m \u001b[0;32mand\u001b[0m \u001b[0mself\u001b[0m\u001b[0;34m.\u001b[0m\u001b[0mdynamic\u001b[0m\u001b[0;34m:\u001b[0m\u001b[0;34m\u001b[0m\u001b[0;34m\u001b[0m\u001b[0m\n",
      "\u001b[0;31mKeyboardInterrupt\u001b[0m: "
     ]
    }
   ],
   "source": [
    "train(args)"
   ]
  },
  {
   "cell_type": "code",
   "execution_count": null,
   "metadata": {},
   "outputs": [],
   "source": []
  },
  {
   "cell_type": "code",
   "execution_count": 37,
   "metadata": {},
   "outputs": [
    {
     "name": "stdout",
     "output_type": "stream",
     "text": [
      "model file: ./model4-ckps/tf_efficientnet_b4/model4_eb4_fold2_380.pth, exist: True\n",
      "loading ./model4-ckps/tf_efficientnet_b4/model4_eb4_fold2_380.pth...\n",
      "model file: ./model4-ckps/tf_efficientnet_b4/model4_eb4_fold2_380.pth_swa, exist: True\n",
      "loading ./model4-ckps/tf_efficientnet_b4/model4_eb4_fold2_380.pth_swa...\n",
      "\n",
      "val: {'recall': 0.998635, 'recall_grapheme': 0.998031, 'recall_vowel': 0.999094, 'recall_consonant': 0.999381, 'recall_word': 0.99789, 'acc_grapheme': 0.998008, 'acc_vowel': 0.999178, 'acc_consonant': 0.999303, 'acc_word': 0.997809, 'loss_grapheme': 0.010964, 'loss_vowel': 0.005378, 'loss_consonant': 0.003544, 'loss_word': 0.011642}\n",
      "\n",
      "val: {'recall': 0.99877, 'recall_grapheme': 0.998213, 'recall_vowel': 0.999307, 'recall_consonant': 0.999345, 'recall_word': 0.998201, 'acc_grapheme': 0.998232, 'acc_vowel': 0.999328, 'acc_consonant': 0.999427, 'acc_word': 0.998182, 'loss_grapheme': 0.008726, 'loss_vowel': 0.004444, 'loss_consonant': 0.002708, 'loss_word': 0.009676}\n",
      "CYCLE: 1\n",
      "    0 | 0.000025 | 160640/160678 | 6.4262 | 5.0586 | 13.92 ||\n",
      "val: {'recall': 0.998015, 'recall_grapheme': 0.996963, 'recall_vowel': 0.998921, 'recall_consonant': 0.999213, 'recall_word': 0.997279, 'acc_grapheme': 0.997336, 'acc_vowel': 0.998979, 'acc_consonant': 0.999203, 'acc_word': 0.997211, 'loss_grapheme': 0.013082, 'loss_vowel': 0.005981, 'loss_consonant': 0.003877, 'loss_word': 0.013562}\n",
      "    1 | 0.000050 | 160640/160678 | 1.1615 | 4.9713 | 14.02 ||\n",
      "val: {'recall': 0.998097, 'recall_grapheme': 0.997073, 'recall_vowel': 0.999025, 'recall_consonant': 0.999216, 'recall_word': 0.997272, 'acc_grapheme': 0.997211, 'acc_vowel': 0.999079, 'acc_consonant': 0.999203, 'acc_word': 0.997186, 'loss_grapheme': 0.014108, 'loss_vowel': 0.006055, 'loss_consonant': 0.003991, 'loss_word': 0.014589}\n",
      "    2 | 0.000075 | 160640/160678 | 5.8802 | 5.1199 | 14.11 ||"
     ]
    },
    {
     "name": "stderr",
     "output_type": "stream",
     "text": [
      "\r",
      "  0%|          | 0/1255 [00:00<?, ?it/s]"
     ]
    },
    {
     "name": "stdout",
     "output_type": "stream",
     "text": [
      "\n",
      "val: {'recall': 0.998362, 'recall_grapheme': 0.99774, 'recall_vowel': 0.998866, 'recall_consonant': 0.999104, 'recall_word': 0.997574, 'acc_grapheme': 0.997759, 'acc_vowel': 0.999104, 'acc_consonant': 0.999278, 'acc_word': 0.99751, 'loss_grapheme': 0.012019, 'loss_vowel': 0.005669, 'loss_consonant': 0.003796, 'loss_word': 0.012675}\n",
      "SWA>>>:\n"
     ]
    },
    {
     "name": "stderr",
     "output_type": "stream",
     "text": [
      "100%|██████████| 1255/1255 [07:06<00:00,  2.79it/s]\n"
     ]
    },
    {
     "name": "stdout",
     "output_type": "stream",
     "text": [
      "\n",
      "val: {'recall': 0.998835, 'recall_grapheme': 0.99834, 'recall_vowel': 0.999223, 'recall_consonant': 0.999435, 'recall_word': 0.998161, 'acc_grapheme': 0.998207, 'acc_vowel': 0.999303, 'acc_consonant': 0.999427, 'acc_word': 0.998133, 'loss_grapheme': 0.008634, 'loss_vowel': 0.004441, 'loss_consonant': 0.002688, 'loss_word': 0.009663}\n",
      "###>>>>> saved ./model4-ckps/tf_efficientnet_b4/model4_eb4_fold2_380.pth_swa\n",
      "    3 | 0.000099 | 160640/160678 | 5.7569 | 5.0590 | 14.22 ||\n",
      "val: {'recall': 0.998404, 'recall_grapheme': 0.997578, 'recall_vowel': 0.999013, 'recall_consonant': 0.999446, 'recall_word': 0.997654, 'acc_grapheme': 0.997635, 'acc_vowel': 0.999129, 'acc_consonant': 0.999353, 'acc_word': 0.997585, 'loss_grapheme': 0.010987, 'loss_vowel': 0.005414, 'loss_consonant': 0.003538, 'loss_word': 0.011809}\n",
      "    4 | 0.000123 | 160640/160678 | 0.1739 | 5.1097 | 14.33 ||\n",
      "val: {'recall': 0.998144, 'recall_grapheme': 0.997111, 'recall_vowel': 0.999064, 'recall_consonant': 0.999288, 'recall_word': 0.997269, 'acc_grapheme': 0.997435, 'acc_vowel': 0.999104, 'acc_consonant': 0.999303, 'acc_word': 0.997186, 'loss_grapheme': 0.012112, 'loss_vowel': 0.00602, 'loss_consonant': 0.003919, 'loss_word': 0.01321}\n",
      "    5 | 0.000146 | 160640/160678 | 0.0911 | 5.0886 | 14.49 ||"
     ]
    },
    {
     "name": "stderr",
     "output_type": "stream",
     "text": [
      "\r",
      "  0%|          | 0/1255 [00:00<?, ?it/s]"
     ]
    },
    {
     "name": "stdout",
     "output_type": "stream",
     "text": [
      "\n",
      "val: {'recall': 0.998297, 'recall_grapheme': 0.997452, 'recall_vowel': 0.999172, 'recall_consonant': 0.999114, 'recall_word': 0.997514, 'acc_grapheme': 0.997535, 'acc_vowel': 0.999104, 'acc_consonant': 0.999178, 'acc_word': 0.997435, 'loss_grapheme': 0.012643, 'loss_vowel': 0.006185, 'loss_consonant': 0.003926, 'loss_word': 0.013328}\n",
      "SWA>>>:\n"
     ]
    },
    {
     "name": "stderr",
     "output_type": "stream",
     "text": [
      "100%|██████████| 1255/1255 [07:03<00:00,  2.84it/s]\n"
     ]
    },
    {
     "name": "stdout",
     "output_type": "stream",
     "text": [
      "\n",
      "val: {'recall': 0.99881, 'recall_grapheme': 0.998377, 'recall_vowel': 0.999085, 'recall_consonant': 0.999399, 'recall_word': 0.998097, 'acc_grapheme': 0.998232, 'acc_vowel': 0.999278, 'acc_consonant': 0.999378, 'acc_word': 0.998058, 'loss_grapheme': 0.008602, 'loss_vowel': 0.00454, 'loss_consonant': 0.002689, 'loss_word': 0.009655}\n",
      "    6 | 0.000169 | 160640/160678 | 5.8427 | 5.3537 | 14.42 ||\n",
      "val: {'recall': 0.997977, 'recall_grapheme': 0.99688, 'recall_vowel': 0.998886, 'recall_consonant': 0.999262, 'recall_word': 0.996985, 'acc_grapheme': 0.997062, 'acc_vowel': 0.998929, 'acc_consonant': 0.999253, 'acc_word': 0.996937, 'loss_grapheme': 0.014331, 'loss_vowel': 0.006769, 'loss_consonant': 0.004349, 'loss_word': 0.014645}\n",
      "    7 | 0.000191 | 160640/160678 | 0.0991 | 5.5513 | 14.43 ||\n",
      "val: {'recall': 0.997988, 'recall_grapheme': 0.996773, 'recall_vowel': 0.999041, 'recall_consonant': 0.999368, 'recall_word': 0.997099, 'acc_grapheme': 0.997087, 'acc_vowel': 0.998979, 'acc_consonant': 0.999228, 'acc_word': 0.997112, 'loss_grapheme': 0.012866, 'loss_vowel': 0.006243, 'loss_consonant': 0.003901, 'loss_word': 0.013355}\n",
      "    8 | 0.000213 | 160640/160678 | 5.4717 | 5.3437 | 14.52 ||"
     ]
    },
    {
     "name": "stderr",
     "output_type": "stream",
     "text": [
      "\r",
      "  0%|          | 0/1255 [00:00<?, ?it/s]"
     ]
    },
    {
     "name": "stdout",
     "output_type": "stream",
     "text": [
      "\n",
      "val: {'recall': 0.998026, 'recall_grapheme': 0.997298, 'recall_vowel': 0.998271, 'recall_consonant': 0.999238, 'recall_word': 0.996853, 'acc_grapheme': 0.997186, 'acc_vowel': 0.99873, 'acc_consonant': 0.999029, 'acc_word': 0.996813, 'loss_grapheme': 0.014271, 'loss_vowel': 0.006655, 'loss_consonant': 0.004533, 'loss_word': 0.015287}\n",
      "SWA>>>:\n"
     ]
    },
    {
     "name": "stderr",
     "output_type": "stream",
     "text": [
      "100%|██████████| 1255/1255 [07:06<00:00,  2.82it/s]\n"
     ]
    },
    {
     "name": "stdout",
     "output_type": "stream",
     "text": [
      "\n",
      "val: {'recall': 0.998691, 'recall_grapheme': 0.998226, 'recall_vowel': 0.998888, 'recall_consonant': 0.999423, 'recall_word': 0.998109, 'acc_grapheme': 0.998182, 'acc_vowel': 0.999253, 'acc_consonant': 0.999378, 'acc_word': 0.998083, 'loss_grapheme': 0.008493, 'loss_vowel': 0.004623, 'loss_consonant': 0.002754, 'loss_word': 0.009615}\n",
      "    9 | 0.000233 | 160640/160678 | 4.8243 | 5.2710 | 14.51 ||\n",
      "val: {'recall': 0.997738, 'recall_grapheme': 0.996525, 'recall_vowel': 0.998662, 'recall_consonant': 0.999239, 'recall_word': 0.996476, 'acc_grapheme': 0.996788, 'acc_vowel': 0.998755, 'acc_consonant': 0.998979, 'acc_word': 0.996489, 'loss_grapheme': 0.015549, 'loss_vowel': 0.007562, 'loss_consonant': 0.005052, 'loss_word': 0.016828}\n",
      "   10 | 0.000230 | 160640/160678 | 6.4223 | 5.4189 | 14.50 ||\n",
      "val: {'recall': 0.997293, 'recall_grapheme': 0.996757, 'recall_vowel': 0.998689, 'recall_consonant': 0.996971, 'recall_word': 0.996398, 'acc_grapheme': 0.996688, 'acc_vowel': 0.998755, 'acc_consonant': 0.998855, 'acc_word': 0.996365, 'loss_grapheme': 0.017466, 'loss_vowel': 0.006978, 'loss_consonant': 0.0055, 'loss_word': 0.017798}\n",
      "   11 | 0.000226 | 160640/160678 | 0.0395 | 5.3441 | 14.45 ||"
     ]
    },
    {
     "name": "stderr",
     "output_type": "stream",
     "text": [
      "\r",
      "  0%|          | 0/1255 [00:00<?, ?it/s]"
     ]
    },
    {
     "name": "stdout",
     "output_type": "stream",
     "text": [
      "\n",
      "val: {'recall': 0.997804, 'recall_grapheme': 0.997381, 'recall_vowel': 0.999018, 'recall_consonant': 0.997434, 'recall_word': 0.997146, 'acc_grapheme': 0.997435, 'acc_vowel': 0.999054, 'acc_consonant': 0.999129, 'acc_word': 0.997112, 'loss_grapheme': 0.012354, 'loss_vowel': 0.005647, 'loss_consonant': 0.004298, 'loss_word': 0.012441}\n",
      "SWA>>>:\n"
     ]
    },
    {
     "name": "stderr",
     "output_type": "stream",
     "text": [
      "100%|██████████| 1255/1255 [07:08<00:00,  2.84it/s]\n"
     ]
    },
    {
     "name": "stdout",
     "output_type": "stream",
     "text": [
      "\n",
      "val: {'recall': 0.998688, 'recall_grapheme': 0.99811, 'recall_vowel': 0.999109, 'recall_consonant': 0.999423, 'recall_word': 0.998136, 'acc_grapheme': 0.998182, 'acc_vowel': 0.999303, 'acc_consonant': 0.999378, 'acc_word': 0.998108, 'loss_grapheme': 0.00858, 'loss_vowel': 0.004545, 'loss_consonant': 0.002727, 'loss_word': 0.009684}\n",
      "   12 | 0.000222 | 160640/160678 | 12.9064 | 5.3147 | 14.52 |\n",
      "val: {'recall': 0.997297, 'recall_grapheme': 0.996619, 'recall_vowel': 0.998917, 'recall_consonant': 0.997035, 'recall_word': 0.996755, 'acc_grapheme': 0.996539, 'acc_vowel': 0.998904, 'acc_consonant': 0.999029, 'acc_word': 0.996688, 'loss_grapheme': 0.015785, 'loss_vowel': 0.006133, 'loss_consonant': 0.004614, 'loss_word': 0.015385}\n",
      "   13 | 0.000218 | 160640/160678 | 5.7532 | 5.4844 | 14.50 ||\n",
      "val: {'recall': 0.997229, 'recall_grapheme': 0.996568, 'recall_vowel': 0.9987, 'recall_consonant': 0.997081, 'recall_word': 0.99627, 'acc_grapheme': 0.996439, 'acc_vowel': 0.99873, 'acc_consonant': 0.99873, 'acc_word': 0.99619, 'loss_grapheme': 0.016491, 'loss_vowel': 0.006498, 'loss_consonant': 0.005157, 'loss_word': 0.01694}\n",
      "   14 | 0.000213 | 160640/160678 | 4.1211 | 5.1634 | 14.50 ||"
     ]
    },
    {
     "name": "stderr",
     "output_type": "stream",
     "text": [
      "\r",
      "  0%|          | 0/1255 [00:00<?, ?it/s]"
     ]
    },
    {
     "name": "stdout",
     "output_type": "stream",
     "text": [
      "\n",
      "val: {'recall': 0.997287, 'recall_grapheme': 0.996385, 'recall_vowel': 0.998603, 'recall_consonant': 0.997776, 'recall_word': 0.996783, 'acc_grapheme': 0.996937, 'acc_vowel': 0.998705, 'acc_consonant': 0.999004, 'acc_word': 0.996738, 'loss_grapheme': 0.01501, 'loss_vowel': 0.006952, 'loss_consonant': 0.004553, 'loss_word': 0.015881}\n",
      "SWA>>>:\n"
     ]
    },
    {
     "name": "stderr",
     "output_type": "stream",
     "text": [
      "100%|██████████| 1255/1255 [07:05<00:00,  2.85it/s]\n"
     ]
    },
    {
     "name": "stdout",
     "output_type": "stream",
     "text": [
      "\n",
      "val: {'recall': 0.998695, 'recall_grapheme': 0.998134, 'recall_vowel': 0.999109, 'recall_consonant': 0.999401, 'recall_word': 0.998119, 'acc_grapheme': 0.998207, 'acc_vowel': 0.999303, 'acc_consonant': 0.999402, 'acc_word': 0.998083, 'loss_grapheme': 0.008411, 'loss_vowel': 0.004557, 'loss_consonant': 0.002717, 'loss_word': 0.009555}\n",
      "   15 | 0.000209 | 160640/160678 | 0.0310 | 5.5186 | 14.48 ||\n",
      "val: {'recall': 0.997954, 'recall_grapheme': 0.99711, 'recall_vowel': 0.998585, 'recall_consonant': 0.999011, 'recall_word': 0.997161, 'acc_grapheme': 0.997311, 'acc_vowel': 0.998755, 'acc_consonant': 0.999104, 'acc_word': 0.997087, 'loss_grapheme': 0.012888, 'loss_vowel': 0.006928, 'loss_consonant': 0.004507, 'loss_word': 0.013909}\n",
      "   16 | 0.000204 | 160640/160678 | 6.2653 | 5.1914 | 14.51 ||\n",
      "val: {'recall': 0.997505, 'recall_grapheme': 0.996128, 'recall_vowel': 0.998752, 'recall_consonant': 0.999014, 'recall_word': 0.996921, 'acc_grapheme': 0.996763, 'acc_vowel': 0.998755, 'acc_consonant': 0.999054, 'acc_word': 0.996863, 'loss_grapheme': 0.015273, 'loss_vowel': 0.006127, 'loss_consonant': 0.004784, 'loss_word': 0.014869}\n",
      "   17 | 0.000198 | 160640/160678 | 0.2816 | 5.3790 | 14.50 ||"
     ]
    },
    {
     "name": "stderr",
     "output_type": "stream",
     "text": [
      "\r",
      "  0%|          | 0/1255 [00:00<?, ?it/s]"
     ]
    },
    {
     "name": "stdout",
     "output_type": "stream",
     "text": [
      "\n",
      "val: {'recall': 0.997696, 'recall_grapheme': 0.99636, 'recall_vowel': 0.998977, 'recall_consonant': 0.999087, 'recall_word': 0.996722, 'acc_grapheme': 0.996763, 'acc_vowel': 0.999054, 'acc_consonant': 0.999178, 'acc_word': 0.996688, 'loss_grapheme': 0.015776, 'loss_vowel': 0.006023, 'loss_consonant': 0.004079, 'loss_word': 0.015886}\n",
      "SWA>>>:\n"
     ]
    },
    {
     "name": "stderr",
     "output_type": "stream",
     "text": [
      "100%|██████████| 1255/1255 [07:08<00:00,  2.70it/s]\n"
     ]
    },
    {
     "name": "stdout",
     "output_type": "stream",
     "text": [
      "\n",
      "val: {'recall': 0.998713, 'recall_grapheme': 0.998159, 'recall_vowel': 0.999109, 'recall_consonant': 0.999423, 'recall_word': 0.998173, 'acc_grapheme': 0.998257, 'acc_vowel': 0.999303, 'acc_consonant': 0.999378, 'acc_word': 0.998157, 'loss_grapheme': 0.00843, 'loss_vowel': 0.004532, 'loss_consonant': 0.002714, 'loss_word': 0.009534}\n",
      "   18 | 0.000193 | 160640/160678 | 0.4835 | 5.1266 | 14.57 ||\n",
      "val: {'recall': 0.997618, 'recall_grapheme': 0.996743, 'recall_vowel': 0.998825, 'recall_consonant': 0.998162, 'recall_word': 0.997383, 'acc_grapheme': 0.997286, 'acc_vowel': 0.999004, 'acc_consonant': 0.999178, 'acc_word': 0.997361, 'loss_grapheme': 0.011219, 'loss_vowel': 0.005272, 'loss_consonant': 0.00354, 'loss_word': 0.012251}\n",
      "   19 | 0.000188 | 160640/160678 | 0.3892 | 5.3676 | 14.53 ||\n",
      "val: {'recall': 0.997904, 'recall_grapheme': 0.996896, 'recall_vowel': 0.998584, 'recall_consonant': 0.999238, 'recall_word': 0.996796, 'acc_grapheme': 0.997062, 'acc_vowel': 0.998705, 'acc_consonant': 0.999178, 'acc_word': 0.996763, 'loss_grapheme': 0.013303, 'loss_vowel': 0.006685, 'loss_consonant': 0.004177, 'loss_word': 0.014415}\n",
      "   20 | 0.000182 | 160640/160678 | 0.6365 | 5.2778 | 14.56 ||"
     ]
    },
    {
     "name": "stderr",
     "output_type": "stream",
     "text": [
      "\r",
      "  0%|          | 0/1255 [00:00<?, ?it/s]"
     ]
    },
    {
     "name": "stdout",
     "output_type": "stream",
     "text": [
      "\n",
      "val: {'recall': 0.998052, 'recall_grapheme': 0.997298, 'recall_vowel': 0.998786, 'recall_consonant': 0.998825, 'recall_word': 0.996943, 'acc_grapheme': 0.997037, 'acc_vowel': 0.998755, 'acc_consonant': 0.998929, 'acc_word': 0.996888, 'loss_grapheme': 0.014448, 'loss_vowel': 0.006678, 'loss_consonant': 0.005034, 'loss_word': 0.014347}\n",
      "SWA>>>:\n"
     ]
    },
    {
     "name": "stderr",
     "output_type": "stream",
     "text": [
      "100%|██████████| 1255/1255 [07:11<00:00,  2.87it/s]\n"
     ]
    },
    {
     "name": "stdout",
     "output_type": "stream",
     "text": [
      "\n",
      "val: {'recall': 0.998676, 'recall_grapheme': 0.998143, 'recall_vowel': 0.999085, 'recall_consonant': 0.999334, 'recall_word': 0.998148, 'acc_grapheme': 0.998257, 'acc_vowel': 0.999278, 'acc_consonant': 0.999378, 'acc_word': 0.998133, 'loss_grapheme': 0.008501, 'loss_vowel': 0.004557, 'loss_consonant': 0.002792, 'loss_word': 0.009579}\n",
      "   21 | 0.000176 | 160640/160678 | 10.6470 | 5.3034 | 14.53 |\n",
      "val: {'recall': 0.997495, 'recall_grapheme': 0.996807, 'recall_vowel': 0.998584, 'recall_consonant': 0.997783, 'recall_word': 0.996647, 'acc_grapheme': 0.996439, 'acc_vowel': 0.998755, 'acc_consonant': 0.998855, 'acc_word': 0.996564, 'loss_grapheme': 0.017559, 'loss_vowel': 0.007631, 'loss_consonant': 0.005591, 'loss_word': 0.017103}\n",
      "   22 | 0.000170 | 160640/160678 | 0.6231 | 5.4009 | 14.49 ||\n",
      "val: {'recall': 0.997624, 'recall_grapheme': 0.996431, 'recall_vowel': 0.998802, 'recall_consonant': 0.998832, 'recall_word': 0.996984, 'acc_grapheme': 0.997012, 'acc_vowel': 0.99888, 'acc_consonant': 0.998904, 'acc_word': 0.996937, 'loss_grapheme': 0.018046, 'loss_vowel': 0.010559, 'loss_consonant': 0.007046, 'loss_word': 0.016326}\n",
      "   23 | 0.000164 | 160640/160678 | 12.8062 | 5.1961 | 14.51 |"
     ]
    },
    {
     "name": "stderr",
     "output_type": "stream",
     "text": [
      "\r",
      "  0%|          | 0/1255 [00:00<?, ?it/s]"
     ]
    },
    {
     "name": "stdout",
     "output_type": "stream",
     "text": [
      "\n",
      "val: {'recall': 0.997836, 'recall_grapheme': 0.996844, 'recall_vowel': 0.998737, 'recall_consonant': 0.998919, 'recall_word': 0.99717, 'acc_grapheme': 0.997336, 'acc_vowel': 0.99883, 'acc_consonant': 0.999054, 'acc_word': 0.997137, 'loss_grapheme': 0.012433, 'loss_vowel': 0.006681, 'loss_consonant': 0.00448, 'loss_word': 0.01352}\n",
      "SWA>>>:\n"
     ]
    },
    {
     "name": "stderr",
     "output_type": "stream",
     "text": [
      "100%|██████████| 1255/1255 [07:09<00:00,  2.92it/s]\n"
     ]
    },
    {
     "name": "stdout",
     "output_type": "stream",
     "text": [
      "\n",
      "val: {'recall': 0.998638, 'recall_grapheme': 0.998007, 'recall_vowel': 0.999169, 'recall_consonant': 0.999367, 'recall_word': 0.998153, 'acc_grapheme': 0.998182, 'acc_vowel': 0.999303, 'acc_consonant': 0.999402, 'acc_word': 0.998133, 'loss_grapheme': 0.008465, 'loss_vowel': 0.004499, 'loss_consonant': 0.002796, 'loss_word': 0.009531}\n",
      "   24 | 0.000157 | 160640/160678 | 6.5433 | 5.2514 | 14.51 ||\n",
      "val: {'recall': 0.997719, 'recall_grapheme': 0.996362, 'recall_vowel': 0.99892, 'recall_consonant': 0.999231, 'recall_word': 0.996919, 'acc_grapheme': 0.997087, 'acc_vowel': 0.998979, 'acc_consonant': 0.999228, 'acc_word': 0.996888, 'loss_grapheme': 0.013398, 'loss_vowel': 0.00608, 'loss_consonant': 0.00423, 'loss_word': 0.013578}\n",
      "   25 | 0.000151 | 160640/160678 | 8.9119 | 5.2050 | 14.51 ||\n",
      "val: {'recall': 0.997976, 'recall_grapheme': 0.996898, 'recall_vowel': 0.998985, 'recall_consonant': 0.999123, 'recall_word': 0.997149, 'acc_grapheme': 0.997286, 'acc_vowel': 0.999054, 'acc_consonant': 0.999253, 'acc_word': 0.997112, 'loss_grapheme': 0.012777, 'loss_vowel': 0.005622, 'loss_consonant': 0.003743, 'loss_word': 0.013173}\n",
      "   26 | 0.000145 | 160640/160678 | 6.5103 | 5.2450 | 14.55 ||"
     ]
    },
    {
     "name": "stderr",
     "output_type": "stream",
     "text": [
      "\r",
      "  0%|          | 0/1255 [00:00<?, ?it/s]"
     ]
    },
    {
     "name": "stdout",
     "output_type": "stream",
     "text": [
      "\n",
      "val: {'recall': 0.997916, 'recall_grapheme': 0.996739, 'recall_vowel': 0.999088, 'recall_consonant': 0.999098, 'recall_word': 0.996817, 'acc_grapheme': 0.996913, 'acc_vowel': 0.999004, 'acc_consonant': 0.999228, 'acc_word': 0.996813, 'loss_grapheme': 0.014415, 'loss_vowel': 0.005726, 'loss_consonant': 0.00394, 'loss_word': 0.014763}\n",
      "SWA>>>:\n"
     ]
    },
    {
     "name": "stderr",
     "output_type": "stream",
     "text": [
      "100%|██████████| 1255/1255 [07:10<00:00,  2.87it/s]\n"
     ]
    },
    {
     "name": "stdout",
     "output_type": "stream",
     "text": [
      "\n",
      "val: {'recall': 0.998661, 'recall_grapheme': 0.998046, 'recall_vowel': 0.999185, 'recall_consonant': 0.999367, 'recall_word': 0.998141, 'acc_grapheme': 0.998257, 'acc_vowel': 0.999303, 'acc_consonant': 0.999402, 'acc_word': 0.998133, 'loss_grapheme': 0.008368, 'loss_vowel': 0.004443, 'loss_consonant': 0.002757, 'loss_word': 0.009435}\n",
      "   27 | 0.000138 | 160640/160678 | 11.2563 | 5.3930 | 14.50 |\n",
      "val: {'recall': 0.998212, 'recall_grapheme': 0.997371, 'recall_vowel': 0.999039, 'recall_consonant': 0.999065, 'recall_word': 0.997252, 'acc_grapheme': 0.99746, 'acc_vowel': 0.999004, 'acc_consonant': 0.999203, 'acc_word': 0.997211, 'loss_grapheme': 0.012841, 'loss_vowel': 0.006172, 'loss_consonant': 0.003623, 'loss_word': 0.013512}\n",
      "   28 | 0.000132 | 160640/160678 | 4.3173 | 5.1741 | 14.55 ||\n",
      "val: {'recall': 0.997943, 'recall_grapheme': 0.9967, 'recall_vowel': 0.999137, 'recall_consonant': 0.999234, 'recall_word': 0.997096, 'acc_grapheme': 0.997137, 'acc_vowel': 0.999054, 'acc_consonant': 0.999278, 'acc_word': 0.997012, 'loss_grapheme': 0.014562, 'loss_vowel': 0.005831, 'loss_consonant': 0.00382, 'loss_word': 0.014889}\n",
      "   29 | 0.000125 | 160640/160678 | 9.6711 | 5.2414 | 14.54 ||"
     ]
    },
    {
     "name": "stderr",
     "output_type": "stream",
     "text": [
      "\r",
      "  0%|          | 0/1255 [00:00<?, ?it/s]"
     ]
    },
    {
     "name": "stdout",
     "output_type": "stream",
     "text": [
      "\n",
      "val: {'recall': 0.99807, 'recall_grapheme': 0.99712, 'recall_vowel': 0.99894, 'recall_consonant': 0.999102, 'recall_word': 0.997234, 'acc_grapheme': 0.997161, 'acc_vowel': 0.999079, 'acc_consonant': 0.999203, 'acc_word': 0.997186, 'loss_grapheme': 0.013471, 'loss_vowel': 0.005891, 'loss_consonant': 0.003915, 'loss_word': 0.014032}\n",
      "SWA>>>:\n"
     ]
    },
    {
     "name": "stderr",
     "output_type": "stream",
     "text": [
      "100%|██████████| 1255/1255 [07:10<00:00,  2.83it/s]\n"
     ]
    },
    {
     "name": "stdout",
     "output_type": "stream",
     "text": [
      "\n",
      "val: {'recall': 0.998664, 'recall_grapheme': 0.99806, 'recall_vowel': 0.999169, 'recall_consonant': 0.999367, 'recall_word': 0.998146, 'acc_grapheme': 0.998232, 'acc_vowel': 0.999278, 'acc_consonant': 0.999402, 'acc_word': 0.998133, 'loss_grapheme': 0.008362, 'loss_vowel': 0.004434, 'loss_consonant': 0.002749, 'loss_word': 0.009404}\n",
      "   30 | 0.000118 | 160640/160678 | 10.6236 | 5.2862 | 14.55 |\n",
      "val: {'recall': 0.998268, 'recall_grapheme': 0.997479, 'recall_vowel': 0.998972, 'recall_consonant': 0.999142, 'recall_word': 0.99724, 'acc_grapheme': 0.997535, 'acc_vowel': 0.99888, 'acc_consonant': 0.999203, 'acc_word': 0.997211, 'loss_grapheme': 0.012191, 'loss_vowel': 0.006194, 'loss_consonant': 0.003694, 'loss_word': 0.013015}\n",
      "   31 | 0.000112 | 160640/160678 | 0.0449 | 5.2187 | 14.53 ||\n",
      "val: {'recall': 0.998297, 'recall_grapheme': 0.997438, 'recall_vowel': 0.999195, 'recall_consonant': 0.999116, 'recall_word': 0.997543, 'acc_grapheme': 0.997635, 'acc_vowel': 0.999104, 'acc_consonant': 0.999278, 'acc_word': 0.99746, 'loss_grapheme': 0.011443, 'loss_vowel': 0.005918, 'loss_consonant': 0.003468, 'loss_word': 0.012161}\n",
      "   32 | 0.000105 | 160640/160678 | 5.3765 | 5.2445 | 14.55 ||"
     ]
    },
    {
     "name": "stderr",
     "output_type": "stream",
     "text": [
      "\r",
      "  0%|          | 0/1255 [00:00<?, ?it/s]"
     ]
    },
    {
     "name": "stdout",
     "output_type": "stream",
     "text": [
      "\n",
      "val: {'recall': 0.997842, 'recall_grapheme': 0.996827, 'recall_vowel': 0.998926, 'recall_consonant': 0.998788, 'recall_word': 0.997023, 'acc_grapheme': 0.997087, 'acc_vowel': 0.998904, 'acc_consonant': 0.999129, 'acc_word': 0.996962, 'loss_grapheme': 0.014925, 'loss_vowel': 0.006424, 'loss_consonant': 0.003951, 'loss_word': 0.014168}\n",
      "SWA>>>:\n"
     ]
    },
    {
     "name": "stderr",
     "output_type": "stream",
     "text": [
      "100%|██████████| 1255/1255 [07:12<00:00,  2.83it/s]\n"
     ]
    },
    {
     "name": "stdout",
     "output_type": "stream",
     "text": [
      "\n",
      "val: {'recall': 0.998655, 'recall_grapheme': 0.998036, 'recall_vowel': 0.999181, 'recall_consonant': 0.999367, 'recall_word': 0.998071, 'acc_grapheme': 0.998232, 'acc_vowel': 0.999278, 'acc_consonant': 0.999402, 'acc_word': 0.998058, 'loss_grapheme': 0.008365, 'loss_vowel': 0.004428, 'loss_consonant': 0.002735, 'loss_word': 0.009399}\n",
      "   33 | 0.000099 | 160640/160678 | 5.5048 | 4.9637 | 14.57 ||\n",
      "val: {'recall': 0.997511, 'recall_grapheme': 0.9963, 'recall_vowel': 0.998547, 'recall_consonant': 0.998896, 'recall_word': 0.996973, 'acc_grapheme': 0.996888, 'acc_vowel': 0.998531, 'acc_consonant': 0.999079, 'acc_word': 0.996937, 'loss_grapheme': 0.014194, 'loss_vowel': 0.007255, 'loss_consonant': 0.004481, 'loss_word': 0.014282}\n",
      "   34 | 0.000093 | 160640/160678 | 7.2348 | 5.2418 | 14.52 ||\n",
      "val: {'recall': 0.998416, 'recall_grapheme': 0.997607, 'recall_vowel': 0.999101, 'recall_consonant': 0.99935, 'recall_word': 0.997628, 'acc_grapheme': 0.99756, 'acc_vowel': 0.999029, 'acc_consonant': 0.999328, 'acc_word': 0.997535, 'loss_grapheme': 0.011817, 'loss_vowel': 0.005694, 'loss_consonant': 0.003505, 'loss_word': 0.012445}\n",
      "   35 | 0.000086 | 160640/160678 | 3.5061 | 5.1468 | 14.58 ||"
     ]
    },
    {
     "name": "stderr",
     "output_type": "stream",
     "text": [
      "\r",
      "  0%|          | 0/1255 [00:00<?, ?it/s]"
     ]
    },
    {
     "name": "stdout",
     "output_type": "stream",
     "text": [
      "\n",
      "val: {'recall': 0.998287, 'recall_grapheme': 0.997458, 'recall_vowel': 0.998978, 'recall_consonant': 0.999255, 'recall_word': 0.997451, 'acc_grapheme': 0.99751, 'acc_vowel': 0.999004, 'acc_consonant': 0.999303, 'acc_word': 0.997386, 'loss_grapheme': 0.01233, 'loss_vowel': 0.006133, 'loss_consonant': 0.003771, 'loss_word': 0.013084}\n",
      "SWA>>>:\n"
     ]
    },
    {
     "name": "stderr",
     "output_type": "stream",
     "text": [
      "100%|██████████| 1255/1255 [07:16<00:00,  2.80it/s]\n"
     ]
    },
    {
     "name": "stdout",
     "output_type": "stream",
     "text": [
      "\n",
      "val: {'recall': 0.998687, 'recall_grapheme': 0.9981, 'recall_vowel': 0.999181, 'recall_consonant': 0.999367, 'recall_word': 0.998098, 'acc_grapheme': 0.998257, 'acc_vowel': 0.999278, 'acc_consonant': 0.999402, 'acc_word': 0.998083, 'loss_grapheme': 0.008379, 'loss_vowel': 0.00443, 'loss_consonant': 0.002735, 'loss_word': 0.009427}\n",
      "   36 | 0.000080 | 160640/160678 | 2.6641 | 4.9609 | 14.59 ||\n",
      "val: {'recall': 0.997963, 'recall_grapheme': 0.996947, 'recall_vowel': 0.998795, 'recall_consonant': 0.999163, 'recall_word': 0.997358, 'acc_grapheme': 0.997311, 'acc_vowel': 0.998855, 'acc_consonant': 0.999253, 'acc_word': 0.997286, 'loss_grapheme': 0.014549, 'loss_vowel': 0.006712, 'loss_consonant': 0.003693, 'loss_word': 0.014851}\n",
      "   37 | 0.000074 | 160640/160678 | 6.5058 | 5.1514 | 14.56 ||\n",
      "val: {'recall': 0.9978, 'recall_grapheme': 0.99668, 'recall_vowel': 0.998709, 'recall_consonant': 0.99913, 'recall_word': 0.996864, 'acc_grapheme': 0.996813, 'acc_vowel': 0.99878, 'acc_consonant': 0.999153, 'acc_word': 0.996788, 'loss_grapheme': 0.01532, 'loss_vowel': 0.007072, 'loss_consonant': 0.003909, 'loss_word': 0.014845}\n",
      "   38 | 0.000068 | 160640/160678 | 0.2236 | 5.0248 | 14.60 ||"
     ]
    },
    {
     "name": "stderr",
     "output_type": "stream",
     "text": [
      "\r",
      "  0%|          | 0/1255 [00:00<?, ?it/s]"
     ]
    },
    {
     "name": "stdout",
     "output_type": "stream",
     "text": [
      "\n",
      "val: {'recall': 0.998354, 'recall_grapheme': 0.997501, 'recall_vowel': 0.998999, 'recall_consonant': 0.999417, 'recall_word': 0.997551, 'acc_grapheme': 0.997734, 'acc_vowel': 0.999004, 'acc_consonant': 0.999378, 'acc_word': 0.99751, 'loss_grapheme': 0.011244, 'loss_vowel': 0.005993, 'loss_consonant': 0.003242, 'loss_word': 0.012168}\n",
      "SWA>>>:\n"
     ]
    },
    {
     "name": "stderr",
     "output_type": "stream",
     "text": [
      " 96%|█████████▌| 1200/1255 [06:51<00:18,  2.92it/s]IOPub message rate exceeded.\n",
      "The notebook server will temporarily stop sending output\n",
      "to the client in order to avoid crashing it.\n",
      "To change this limit, set the config variable\n",
      "`--NotebookApp.iopub_msg_rate_limit`.\n",
      "\n",
      "Current values:\n",
      "NotebookApp.iopub_msg_rate_limit=1000.0 (msgs/sec)\n",
      "NotebookApp.rate_limit_window=3.0 (secs)\n",
      "\n"
     ]
    },
    {
     "name": "stdout",
     "output_type": "stream",
     "text": [
      "   39 | 0.000063 | 160640/160678 | 0.5817 | 5.1170 | 14.59 ||\n",
      "val: {'recall': 0.998401, 'recall_grapheme': 0.99756, 'recall_vowel': 0.999098, 'recall_consonant': 0.999386, 'recall_word': 0.997519, 'acc_grapheme': 0.99761, 'acc_vowel': 0.998979, 'acc_consonant': 0.999378, 'acc_word': 0.99746, 'loss_grapheme': 0.012282, 'loss_vowel': 0.005884, 'loss_consonant': 0.003171, 'loss_word': 0.01325}\n",
      "   40 | 0.000057 | 160640/160678 | 4.8003 | 4.9751 | 14.60 ||\n",
      "val: {'recall': 0.99822, 'recall_grapheme': 0.997178, 'recall_vowel': 0.99909, 'recall_consonant': 0.999434, 'recall_word': 0.997488, 'acc_grapheme': 0.99741, 'acc_vowel': 0.998979, 'acc_consonant': 0.999278, 'acc_word': 0.99741, 'loss_grapheme': 0.012117, 'loss_vowel': 0.00626, 'loss_consonant': 0.003302, 'loss_word': 0.012936}\n",
      "   41 | 0.000052 | 160640/160678 | 0.0239 | 5.2305 | 14.59 ||"
     ]
    },
    {
     "name": "stderr",
     "output_type": "stream",
     "text": [
      "\r",
      "  0%|          | 0/1255 [00:00<?, ?it/s]"
     ]
    },
    {
     "name": "stdout",
     "output_type": "stream",
     "text": [
      "\n",
      "val: {'recall': 0.99828, 'recall_grapheme': 0.997505, 'recall_vowel': 0.998879, 'recall_consonant': 0.999232, 'recall_word': 0.997508, 'acc_grapheme': 0.99756, 'acc_vowel': 0.998904, 'acc_consonant': 0.999328, 'acc_word': 0.997435, 'loss_grapheme': 0.012251, 'loss_vowel': 0.006127, 'loss_consonant': 0.003465, 'loss_word': 0.012766}\n",
      "SWA>>>:\n"
     ]
    },
    {
     "name": "stderr",
     "output_type": "stream",
     "text": [
      "100%|██████████| 1255/1255 [07:14<00:00,  2.86it/s]\n"
     ]
    },
    {
     "name": "stdout",
     "output_type": "stream",
     "text": [
      "\n",
      "val: {'recall': 0.998665, 'recall_grapheme': 0.998012, 'recall_vowel': 0.999267, 'recall_consonant': 0.999367, 'recall_word': 0.998148, 'acc_grapheme': 0.998232, 'acc_vowel': 0.999278, 'acc_consonant': 0.999402, 'acc_word': 0.998133, 'loss_grapheme': 0.008334, 'loss_vowel': 0.004414, 'loss_consonant': 0.002699, 'loss_word': 0.009401}\n",
      "   42 | 0.000046 | 160640/160678 | 6.1952 | 4.7572 | 14.60 ||\n",
      "val: {'recall': 0.998068, 'recall_grapheme': 0.997093, 'recall_vowel': 0.998856, 'recall_consonant': 0.99923, 'recall_word': 0.997205, 'acc_grapheme': 0.997236, 'acc_vowel': 0.998904, 'acc_consonant': 0.999278, 'acc_word': 0.997161, 'loss_grapheme': 0.012601, 'loss_vowel': 0.006109, 'loss_consonant': 0.00349, 'loss_word': 0.013101}\n",
      "   43 | 0.000041 | 160640/160678 | 3.8122 | 5.1541 | 14.57 ||\n",
      "val: {'recall': 0.998138, 'recall_grapheme': 0.997338, 'recall_vowel': 0.99885, 'recall_consonant': 0.999025, 'recall_word': 0.99733, 'acc_grapheme': 0.997286, 'acc_vowel': 0.998929, 'acc_consonant': 0.999178, 'acc_word': 0.997261, 'loss_grapheme': 0.013436, 'loss_vowel': 0.006219, 'loss_consonant': 0.003671, 'loss_word': 0.013773}\n",
      "   44 | 0.000037 | 160640/160678 | 0.1693 | 4.9693 | 14.59 ||"
     ]
    },
    {
     "name": "stderr",
     "output_type": "stream",
     "text": [
      "\r",
      "  0%|          | 0/1255 [00:00<?, ?it/s]"
     ]
    },
    {
     "name": "stdout",
     "output_type": "stream",
     "text": [
      "\n",
      "val: {'recall': 0.998477, 'recall_grapheme': 0.997627, 'recall_vowel': 0.999149, 'recall_consonant': 0.999504, 'recall_word': 0.997792, 'acc_grapheme': 0.997859, 'acc_vowel': 0.999104, 'acc_consonant': 0.999378, 'acc_word': 0.997734, 'loss_grapheme': 0.010453, 'loss_vowel': 0.005473, 'loss_consonant': 0.003032, 'loss_word': 0.011557}\n",
      "SWA>>>:\n"
     ]
    },
    {
     "name": "stderr",
     "output_type": "stream",
     "text": [
      "100%|██████████| 1255/1255 [07:11<00:00,  2.69it/s]\n"
     ]
    },
    {
     "name": "stdout",
     "output_type": "stream",
     "text": [
      "\n",
      "val: {'recall': 0.998724, 'recall_grapheme': 0.998133, 'recall_vowel': 0.999292, 'recall_consonant': 0.999339, 'recall_word': 0.998104, 'acc_grapheme': 0.998282, 'acc_vowel': 0.999303, 'acc_consonant': 0.999402, 'acc_word': 0.998083, 'loss_grapheme': 0.008308, 'loss_vowel': 0.004388, 'loss_consonant': 0.002688, 'loss_word': 0.009364}\n",
      "   45 | 0.000032 | 157312/160678 | 10.9290 | 5.0613 | 14.27 |"
     ]
    },
    {
     "ename": "KeyboardInterrupt",
     "evalue": "",
     "output_type": "error",
     "traceback": [
      "\u001b[0;31m---------------------------------------------------------------------------\u001b[0m",
      "\u001b[0;31mKeyboardInterrupt\u001b[0m                         Traceback (most recent call last)",
      "\u001b[0;32m<ipython-input-37-aad596905035>\u001b[0m in \u001b[0;36m<module>\u001b[0;34m\u001b[0m\n\u001b[0;32m----> 1\u001b[0;31m \u001b[0mtrain\u001b[0m\u001b[0;34m(\u001b[0m\u001b[0margs\u001b[0m\u001b[0;34m)\u001b[0m\u001b[0;34m\u001b[0m\u001b[0;34m\u001b[0m\u001b[0m\n\u001b[0m",
      "\u001b[0;32m<ipython-input-32-73207cee3d84>\u001b[0m in \u001b[0;36mtrain\u001b[0;34m(args)\u001b[0m\n\u001b[1;32m     63\u001b[0m         \u001b[0;32mfor\u001b[0m \u001b[0mepoch\u001b[0m \u001b[0;32min\u001b[0m \u001b[0mrange\u001b[0m\u001b[0;34m(\u001b[0m\u001b[0margs\u001b[0m\u001b[0;34m.\u001b[0m\u001b[0mstart_epoch\u001b[0m\u001b[0;34m,\u001b[0m \u001b[0margs\u001b[0m\u001b[0;34m.\u001b[0m\u001b[0mnum_epochs\u001b[0m\u001b[0;34m)\u001b[0m\u001b[0;34m:\u001b[0m\u001b[0;34m\u001b[0m\u001b[0;34m\u001b[0m\u001b[0m\n\u001b[1;32m     64\u001b[0m             \u001b[0mgrid\u001b[0m\u001b[0;34m.\u001b[0m\u001b[0mset_prob\u001b[0m\u001b[0;34m(\u001b[0m\u001b[0mepoch\u001b[0m\u001b[0;34m,\u001b[0m \u001b[0margs\u001b[0m\u001b[0;34m.\u001b[0m\u001b[0mst_epochs\u001b[0m\u001b[0;34m)\u001b[0m\u001b[0;34m\u001b[0m\u001b[0;34m\u001b[0m\u001b[0m\n\u001b[0;32m---> 65\u001b[0;31m             \u001b[0mtrain_epoch\u001b[0m\u001b[0;34m(\u001b[0m\u001b[0margs\u001b[0m\u001b[0;34m,\u001b[0m \u001b[0mmodel\u001b[0m\u001b[0;34m,\u001b[0m \u001b[0mtrain_loader\u001b[0m\u001b[0;34m,\u001b[0m \u001b[0mepoch\u001b[0m\u001b[0;34m,\u001b[0m \u001b[0moptimizer\u001b[0m\u001b[0;34m,\u001b[0m \u001b[0mlr_scheduler\u001b[0m\u001b[0;34m,\u001b[0m \u001b[0mgrid\u001b[0m\u001b[0;34m)\u001b[0m\u001b[0;34m\u001b[0m\u001b[0;34m\u001b[0m\u001b[0m\n\u001b[0m\u001b[1;32m     66\u001b[0m             \u001b[0mvalidate_and_save\u001b[0m\u001b[0;34m(\u001b[0m\u001b[0mmodel\u001b[0m\u001b[0;34m,\u001b[0m \u001b[0mmodel_file\u001b[0m\u001b[0;34m,\u001b[0m \u001b[0mval_loader\u001b[0m\u001b[0;34m,\u001b[0m \u001b[0msave\u001b[0m\u001b[0;34m=\u001b[0m\u001b[0;32mTrue\u001b[0m\u001b[0;34m)\u001b[0m\u001b[0;34m\u001b[0m\u001b[0;34m\u001b[0m\u001b[0m\n\u001b[1;32m     67\u001b[0m \u001b[0;34m\u001b[0m\u001b[0m\n",
      "\u001b[0;32m<ipython-input-31-16e5a4d95497>\u001b[0m in \u001b[0;36mtrain_epoch\u001b[0;34m(args, model, train_loader, epoch, optimizer, lr_scheduler, grid)\u001b[0m\n\u001b[1;32m     22\u001b[0m             \u001b[0mlam\u001b[0m \u001b[0;34m=\u001b[0m \u001b[0;36m1\u001b[0m \u001b[0;34m-\u001b[0m \u001b[0;34m(\u001b[0m\u001b[0;34m(\u001b[0m\u001b[0mbbx2\u001b[0m \u001b[0;34m-\u001b[0m \u001b[0mbbx1\u001b[0m\u001b[0;34m)\u001b[0m \u001b[0;34m*\u001b[0m \u001b[0;34m(\u001b[0m\u001b[0mbby2\u001b[0m \u001b[0;34m-\u001b[0m \u001b[0mbby1\u001b[0m\u001b[0;34m)\u001b[0m \u001b[0;34m/\u001b[0m \u001b[0;34m(\u001b[0m\u001b[0mimg\u001b[0m\u001b[0;34m.\u001b[0m\u001b[0msize\u001b[0m\u001b[0;34m(\u001b[0m\u001b[0;34m)\u001b[0m\u001b[0;34m[\u001b[0m\u001b[0;34m-\u001b[0m\u001b[0;36m1\u001b[0m\u001b[0;34m]\u001b[0m \u001b[0;34m*\u001b[0m \u001b[0mimg\u001b[0m\u001b[0;34m.\u001b[0m\u001b[0msize\u001b[0m\u001b[0;34m(\u001b[0m\u001b[0;34m)\u001b[0m\u001b[0;34m[\u001b[0m\u001b[0;34m-\u001b[0m\u001b[0;36m2\u001b[0m\u001b[0;34m]\u001b[0m\u001b[0;34m)\u001b[0m\u001b[0;34m)\u001b[0m\u001b[0;34m\u001b[0m\u001b[0;34m\u001b[0m\u001b[0m\n\u001b[1;32m     23\u001b[0m             \u001b[0;31m# compute output\u001b[0m\u001b[0;34m\u001b[0m\u001b[0;34m\u001b[0m\u001b[0;34m\u001b[0m\u001b[0m\n\u001b[0;32m---> 24\u001b[0;31m             \u001b[0moutputs\u001b[0m\u001b[0;34m,\u001b[0m \u001b[0moutputs_aux1\u001b[0m\u001b[0;34m,\u001b[0m \u001b[0moutputs_aux2\u001b[0m \u001b[0;34m=\u001b[0m \u001b[0mmodel\u001b[0m\u001b[0;34m(\u001b[0m\u001b[0mimg\u001b[0m\u001b[0;34m)\u001b[0m\u001b[0;34m\u001b[0m\u001b[0;34m\u001b[0m\u001b[0m\n\u001b[0m\u001b[1;32m     25\u001b[0m             \u001b[0mloss_primary\u001b[0m \u001b[0;34m=\u001b[0m \u001b[0mcriterion\u001b[0m\u001b[0;34m(\u001b[0m\u001b[0moutputs\u001b[0m\u001b[0;34m,\u001b[0m \u001b[0mtarget_a\u001b[0m\u001b[0;34m)\u001b[0m \u001b[0;34m*\u001b[0m \u001b[0mlam\u001b[0m \u001b[0;34m+\u001b[0m \u001b[0mcriterion\u001b[0m\u001b[0;34m(\u001b[0m\u001b[0moutputs\u001b[0m\u001b[0;34m,\u001b[0m \u001b[0mtarget_b\u001b[0m\u001b[0;34m)\u001b[0m \u001b[0;34m*\u001b[0m \u001b[0;34m(\u001b[0m\u001b[0;36m1.\u001b[0m \u001b[0;34m-\u001b[0m \u001b[0mlam\u001b[0m\u001b[0;34m)\u001b[0m\u001b[0;34m\u001b[0m\u001b[0;34m\u001b[0m\u001b[0m\n\u001b[1;32m     26\u001b[0m             \u001b[0mloss_aux1\u001b[0m \u001b[0;34m=\u001b[0m \u001b[0mcriterion\u001b[0m\u001b[0;34m(\u001b[0m\u001b[0moutputs_aux1\u001b[0m\u001b[0;34m,\u001b[0m \u001b[0mtarget_a\u001b[0m\u001b[0;34m)\u001b[0m \u001b[0;34m*\u001b[0m \u001b[0mlam\u001b[0m \u001b[0;34m+\u001b[0m \u001b[0mcriterion\u001b[0m\u001b[0;34m(\u001b[0m\u001b[0moutputs_aux1\u001b[0m\u001b[0;34m,\u001b[0m \u001b[0mtarget_b\u001b[0m\u001b[0;34m)\u001b[0m \u001b[0;34m*\u001b[0m \u001b[0;34m(\u001b[0m\u001b[0;36m1.\u001b[0m \u001b[0;34m-\u001b[0m \u001b[0mlam\u001b[0m\u001b[0;34m)\u001b[0m\u001b[0;34m\u001b[0m\u001b[0;34m\u001b[0m\u001b[0m\n",
      "\u001b[0;32m~/anaconda3/lib/python3.7/site-packages/torch/nn/modules/module.py\u001b[0m in \u001b[0;36m__call__\u001b[0;34m(self, *input, **kwargs)\u001b[0m\n\u001b[1;32m    545\u001b[0m             \u001b[0mresult\u001b[0m \u001b[0;34m=\u001b[0m \u001b[0mself\u001b[0m\u001b[0;34m.\u001b[0m\u001b[0m_slow_forward\u001b[0m\u001b[0;34m(\u001b[0m\u001b[0;34m*\u001b[0m\u001b[0minput\u001b[0m\u001b[0;34m,\u001b[0m \u001b[0;34m**\u001b[0m\u001b[0mkwargs\u001b[0m\u001b[0;34m)\u001b[0m\u001b[0;34m\u001b[0m\u001b[0;34m\u001b[0m\u001b[0m\n\u001b[1;32m    546\u001b[0m         \u001b[0;32melse\u001b[0m\u001b[0;34m:\u001b[0m\u001b[0;34m\u001b[0m\u001b[0;34m\u001b[0m\u001b[0m\n\u001b[0;32m--> 547\u001b[0;31m             \u001b[0mresult\u001b[0m \u001b[0;34m=\u001b[0m \u001b[0mself\u001b[0m\u001b[0;34m.\u001b[0m\u001b[0mforward\u001b[0m\u001b[0;34m(\u001b[0m\u001b[0;34m*\u001b[0m\u001b[0minput\u001b[0m\u001b[0;34m,\u001b[0m \u001b[0;34m**\u001b[0m\u001b[0mkwargs\u001b[0m\u001b[0;34m)\u001b[0m\u001b[0;34m\u001b[0m\u001b[0;34m\u001b[0m\u001b[0m\n\u001b[0m\u001b[1;32m    548\u001b[0m         \u001b[0;32mfor\u001b[0m \u001b[0mhook\u001b[0m \u001b[0;32min\u001b[0m \u001b[0mself\u001b[0m\u001b[0;34m.\u001b[0m\u001b[0m_forward_hooks\u001b[0m\u001b[0;34m.\u001b[0m\u001b[0mvalues\u001b[0m\u001b[0;34m(\u001b[0m\u001b[0;34m)\u001b[0m\u001b[0;34m:\u001b[0m\u001b[0;34m\u001b[0m\u001b[0;34m\u001b[0m\u001b[0m\n\u001b[1;32m    549\u001b[0m             \u001b[0mhook_result\u001b[0m \u001b[0;34m=\u001b[0m \u001b[0mhook\u001b[0m\u001b[0;34m(\u001b[0m\u001b[0mself\u001b[0m\u001b[0;34m,\u001b[0m \u001b[0minput\u001b[0m\u001b[0;34m,\u001b[0m \u001b[0mresult\u001b[0m\u001b[0;34m)\u001b[0m\u001b[0;34m\u001b[0m\u001b[0;34m\u001b[0m\u001b[0m\n",
      "\u001b[0;32m~/anaconda3/lib/python3.7/site-packages/torch/nn/parallel/data_parallel.py\u001b[0m in \u001b[0;36mforward\u001b[0;34m(self, *inputs, **kwargs)\u001b[0m\n\u001b[1;32m    150\u001b[0m             \u001b[0;32mreturn\u001b[0m \u001b[0mself\u001b[0m\u001b[0;34m.\u001b[0m\u001b[0mmodule\u001b[0m\u001b[0;34m(\u001b[0m\u001b[0;34m*\u001b[0m\u001b[0minputs\u001b[0m\u001b[0;34m[\u001b[0m\u001b[0;36m0\u001b[0m\u001b[0;34m]\u001b[0m\u001b[0;34m,\u001b[0m \u001b[0;34m**\u001b[0m\u001b[0mkwargs\u001b[0m\u001b[0;34m[\u001b[0m\u001b[0;36m0\u001b[0m\u001b[0;34m]\u001b[0m\u001b[0;34m)\u001b[0m\u001b[0;34m\u001b[0m\u001b[0;34m\u001b[0m\u001b[0m\n\u001b[1;32m    151\u001b[0m         \u001b[0mreplicas\u001b[0m \u001b[0;34m=\u001b[0m \u001b[0mself\u001b[0m\u001b[0;34m.\u001b[0m\u001b[0mreplicate\u001b[0m\u001b[0;34m(\u001b[0m\u001b[0mself\u001b[0m\u001b[0;34m.\u001b[0m\u001b[0mmodule\u001b[0m\u001b[0;34m,\u001b[0m \u001b[0mself\u001b[0m\u001b[0;34m.\u001b[0m\u001b[0mdevice_ids\u001b[0m\u001b[0;34m[\u001b[0m\u001b[0;34m:\u001b[0m\u001b[0mlen\u001b[0m\u001b[0;34m(\u001b[0m\u001b[0minputs\u001b[0m\u001b[0;34m)\u001b[0m\u001b[0;34m]\u001b[0m\u001b[0;34m)\u001b[0m\u001b[0;34m\u001b[0m\u001b[0;34m\u001b[0m\u001b[0m\n\u001b[0;32m--> 152\u001b[0;31m         \u001b[0moutputs\u001b[0m \u001b[0;34m=\u001b[0m \u001b[0mself\u001b[0m\u001b[0;34m.\u001b[0m\u001b[0mparallel_apply\u001b[0m\u001b[0;34m(\u001b[0m\u001b[0mreplicas\u001b[0m\u001b[0;34m,\u001b[0m \u001b[0minputs\u001b[0m\u001b[0;34m,\u001b[0m \u001b[0mkwargs\u001b[0m\u001b[0;34m)\u001b[0m\u001b[0;34m\u001b[0m\u001b[0;34m\u001b[0m\u001b[0m\n\u001b[0m\u001b[1;32m    153\u001b[0m         \u001b[0;32mreturn\u001b[0m \u001b[0mself\u001b[0m\u001b[0;34m.\u001b[0m\u001b[0mgather\u001b[0m\u001b[0;34m(\u001b[0m\u001b[0moutputs\u001b[0m\u001b[0;34m,\u001b[0m \u001b[0mself\u001b[0m\u001b[0;34m.\u001b[0m\u001b[0moutput_device\u001b[0m\u001b[0;34m)\u001b[0m\u001b[0;34m\u001b[0m\u001b[0;34m\u001b[0m\u001b[0m\n\u001b[1;32m    154\u001b[0m \u001b[0;34m\u001b[0m\u001b[0m\n",
      "\u001b[0;32m~/anaconda3/lib/python3.7/site-packages/torch/nn/parallel/data_parallel.py\u001b[0m in \u001b[0;36mparallel_apply\u001b[0;34m(self, replicas, inputs, kwargs)\u001b[0m\n\u001b[1;32m    160\u001b[0m \u001b[0;34m\u001b[0m\u001b[0m\n\u001b[1;32m    161\u001b[0m     \u001b[0;32mdef\u001b[0m \u001b[0mparallel_apply\u001b[0m\u001b[0;34m(\u001b[0m\u001b[0mself\u001b[0m\u001b[0;34m,\u001b[0m \u001b[0mreplicas\u001b[0m\u001b[0;34m,\u001b[0m \u001b[0minputs\u001b[0m\u001b[0;34m,\u001b[0m \u001b[0mkwargs\u001b[0m\u001b[0;34m)\u001b[0m\u001b[0;34m:\u001b[0m\u001b[0;34m\u001b[0m\u001b[0;34m\u001b[0m\u001b[0m\n\u001b[0;32m--> 162\u001b[0;31m         \u001b[0;32mreturn\u001b[0m \u001b[0mparallel_apply\u001b[0m\u001b[0;34m(\u001b[0m\u001b[0mreplicas\u001b[0m\u001b[0;34m,\u001b[0m \u001b[0minputs\u001b[0m\u001b[0;34m,\u001b[0m \u001b[0mkwargs\u001b[0m\u001b[0;34m,\u001b[0m \u001b[0mself\u001b[0m\u001b[0;34m.\u001b[0m\u001b[0mdevice_ids\u001b[0m\u001b[0;34m[\u001b[0m\u001b[0;34m:\u001b[0m\u001b[0mlen\u001b[0m\u001b[0;34m(\u001b[0m\u001b[0mreplicas\u001b[0m\u001b[0;34m)\u001b[0m\u001b[0;34m]\u001b[0m\u001b[0;34m)\u001b[0m\u001b[0;34m\u001b[0m\u001b[0;34m\u001b[0m\u001b[0m\n\u001b[0m\u001b[1;32m    163\u001b[0m \u001b[0;34m\u001b[0m\u001b[0m\n\u001b[1;32m    164\u001b[0m     \u001b[0;32mdef\u001b[0m \u001b[0mgather\u001b[0m\u001b[0;34m(\u001b[0m\u001b[0mself\u001b[0m\u001b[0;34m,\u001b[0m \u001b[0moutputs\u001b[0m\u001b[0;34m,\u001b[0m \u001b[0moutput_device\u001b[0m\u001b[0;34m)\u001b[0m\u001b[0;34m:\u001b[0m\u001b[0;34m\u001b[0m\u001b[0;34m\u001b[0m\u001b[0m\n",
      "\u001b[0;32m~/anaconda3/lib/python3.7/site-packages/torch/nn/parallel/parallel_apply.py\u001b[0m in \u001b[0;36mparallel_apply\u001b[0;34m(modules, inputs, kwargs_tup, devices)\u001b[0m\n\u001b[1;32m     75\u001b[0m             \u001b[0mthread\u001b[0m\u001b[0;34m.\u001b[0m\u001b[0mstart\u001b[0m\u001b[0;34m(\u001b[0m\u001b[0;34m)\u001b[0m\u001b[0;34m\u001b[0m\u001b[0;34m\u001b[0m\u001b[0m\n\u001b[1;32m     76\u001b[0m         \u001b[0;32mfor\u001b[0m \u001b[0mthread\u001b[0m \u001b[0;32min\u001b[0m \u001b[0mthreads\u001b[0m\u001b[0;34m:\u001b[0m\u001b[0;34m\u001b[0m\u001b[0;34m\u001b[0m\u001b[0m\n\u001b[0;32m---> 77\u001b[0;31m             \u001b[0mthread\u001b[0m\u001b[0;34m.\u001b[0m\u001b[0mjoin\u001b[0m\u001b[0;34m(\u001b[0m\u001b[0;34m)\u001b[0m\u001b[0;34m\u001b[0m\u001b[0;34m\u001b[0m\u001b[0m\n\u001b[0m\u001b[1;32m     78\u001b[0m     \u001b[0;32melse\u001b[0m\u001b[0;34m:\u001b[0m\u001b[0;34m\u001b[0m\u001b[0;34m\u001b[0m\u001b[0m\n\u001b[1;32m     79\u001b[0m         \u001b[0m_worker\u001b[0m\u001b[0;34m(\u001b[0m\u001b[0;36m0\u001b[0m\u001b[0;34m,\u001b[0m \u001b[0mmodules\u001b[0m\u001b[0;34m[\u001b[0m\u001b[0;36m0\u001b[0m\u001b[0;34m]\u001b[0m\u001b[0;34m,\u001b[0m \u001b[0minputs\u001b[0m\u001b[0;34m[\u001b[0m\u001b[0;36m0\u001b[0m\u001b[0;34m]\u001b[0m\u001b[0;34m,\u001b[0m \u001b[0mkwargs_tup\u001b[0m\u001b[0;34m[\u001b[0m\u001b[0;36m0\u001b[0m\u001b[0;34m]\u001b[0m\u001b[0;34m,\u001b[0m \u001b[0mdevices\u001b[0m\u001b[0;34m[\u001b[0m\u001b[0;36m0\u001b[0m\u001b[0;34m]\u001b[0m\u001b[0;34m)\u001b[0m\u001b[0;34m\u001b[0m\u001b[0;34m\u001b[0m\u001b[0m\n",
      "\u001b[0;32m~/anaconda3/lib/python3.7/threading.py\u001b[0m in \u001b[0;36mjoin\u001b[0;34m(self, timeout)\u001b[0m\n\u001b[1;32m   1030\u001b[0m \u001b[0;34m\u001b[0m\u001b[0m\n\u001b[1;32m   1031\u001b[0m         \u001b[0;32mif\u001b[0m \u001b[0mtimeout\u001b[0m \u001b[0;32mis\u001b[0m \u001b[0;32mNone\u001b[0m\u001b[0;34m:\u001b[0m\u001b[0;34m\u001b[0m\u001b[0;34m\u001b[0m\u001b[0m\n\u001b[0;32m-> 1032\u001b[0;31m             \u001b[0mself\u001b[0m\u001b[0;34m.\u001b[0m\u001b[0m_wait_for_tstate_lock\u001b[0m\u001b[0;34m(\u001b[0m\u001b[0;34m)\u001b[0m\u001b[0;34m\u001b[0m\u001b[0;34m\u001b[0m\u001b[0m\n\u001b[0m\u001b[1;32m   1033\u001b[0m         \u001b[0;32melse\u001b[0m\u001b[0;34m:\u001b[0m\u001b[0;34m\u001b[0m\u001b[0;34m\u001b[0m\u001b[0m\n\u001b[1;32m   1034\u001b[0m             \u001b[0;31m# the behavior of a negative timeout isn't documented, but\u001b[0m\u001b[0;34m\u001b[0m\u001b[0;34m\u001b[0m\u001b[0;34m\u001b[0m\u001b[0m\n",
      "\u001b[0;32m~/anaconda3/lib/python3.7/threading.py\u001b[0m in \u001b[0;36m_wait_for_tstate_lock\u001b[0;34m(self, block, timeout)\u001b[0m\n\u001b[1;32m   1046\u001b[0m         \u001b[0;32mif\u001b[0m \u001b[0mlock\u001b[0m \u001b[0;32mis\u001b[0m \u001b[0;32mNone\u001b[0m\u001b[0;34m:\u001b[0m  \u001b[0;31m# already determined that the C code is done\u001b[0m\u001b[0;34m\u001b[0m\u001b[0;34m\u001b[0m\u001b[0m\n\u001b[1;32m   1047\u001b[0m             \u001b[0;32massert\u001b[0m \u001b[0mself\u001b[0m\u001b[0;34m.\u001b[0m\u001b[0m_is_stopped\u001b[0m\u001b[0;34m\u001b[0m\u001b[0;34m\u001b[0m\u001b[0m\n\u001b[0;32m-> 1048\u001b[0;31m         \u001b[0;32melif\u001b[0m \u001b[0mlock\u001b[0m\u001b[0;34m.\u001b[0m\u001b[0macquire\u001b[0m\u001b[0;34m(\u001b[0m\u001b[0mblock\u001b[0m\u001b[0;34m,\u001b[0m \u001b[0mtimeout\u001b[0m\u001b[0;34m)\u001b[0m\u001b[0;34m:\u001b[0m\u001b[0;34m\u001b[0m\u001b[0;34m\u001b[0m\u001b[0m\n\u001b[0m\u001b[1;32m   1049\u001b[0m             \u001b[0mlock\u001b[0m\u001b[0;34m.\u001b[0m\u001b[0mrelease\u001b[0m\u001b[0;34m(\u001b[0m\u001b[0;34m)\u001b[0m\u001b[0;34m\u001b[0m\u001b[0;34m\u001b[0m\u001b[0m\n\u001b[1;32m   1050\u001b[0m             \u001b[0mself\u001b[0m\u001b[0;34m.\u001b[0m\u001b[0m_stop\u001b[0m\u001b[0;34m(\u001b[0m\u001b[0;34m)\u001b[0m\u001b[0;34m\u001b[0m\u001b[0;34m\u001b[0m\u001b[0m\n",
      "\u001b[0;31mKeyboardInterrupt\u001b[0m: "
     ]
    }
   ],
   "source": [
    "train(args)"
   ]
  },
  {
   "cell_type": "code",
   "execution_count": null,
   "metadata": {},
   "outputs": [],
   "source": []
  },
  {
   "cell_type": "code",
   "execution_count": 37,
   "metadata": {},
   "outputs": [
    {
     "name": "stdout",
     "output_type": "stream",
     "text": [
      "model file: ./model4-ckps/tf_efficientnet_b4/model4_eb4_fold2_380.pth, exist: True\n",
      "loading ./model4-ckps/tf_efficientnet_b4/model4_eb4_fold2_380.pth...\n",
      "model file: ./model4-ckps/tf_efficientnet_b4/model4_eb4_fold2_380.pth_swa, exist: True\n",
      "loading ./model4-ckps/tf_efficientnet_b4/model4_eb4_fold2_380.pth_swa...\n",
      "\n",
      "val: {'recall': 0.998635, 'recall_grapheme': 0.998031, 'recall_vowel': 0.999094, 'recall_consonant': 0.999381, 'recall_word': 0.99789, 'acc_grapheme': 0.998008, 'acc_vowel': 0.999178, 'acc_consonant': 0.999303, 'acc_word': 0.997809, 'loss_grapheme': 0.010964, 'loss_vowel': 0.005378, 'loss_consonant': 0.003544, 'loss_word': 0.011642}\n",
      "\n",
      "val: {'recall': 0.998699, 'recall_grapheme': 0.998145, 'recall_vowel': 0.999195, 'recall_consonant': 0.999311, 'recall_word': 0.998223, 'acc_grapheme': 0.998157, 'acc_vowel': 0.999278, 'acc_consonant': 0.999402, 'acc_word': 0.998207, 'loss_grapheme': 0.00876, 'loss_vowel': 0.004544, 'loss_consonant': 0.002715, 'loss_word': 0.00971}\n",
      "CYCLE: 1\n",
      "    0 | 0.000100 | 160640/160678 | 0.2146 | 5.0039 | 13.73 ||\n",
      "val: {'recall': 0.998211, 'recall_grapheme': 0.997202, 'recall_vowel': 0.99905, 'recall_consonant': 0.999391, 'recall_word': 0.997666, 'acc_grapheme': 0.997684, 'acc_vowel': 0.999129, 'acc_consonant': 0.999278, 'acc_word': 0.997585, 'loss_grapheme': 0.012024, 'loss_vowel': 0.005671, 'loss_consonant': 0.00355, 'loss_word': 0.012871}\n",
      "    1 | 0.000198 | 160640/160678 | 6.5142 | 5.1570 | 13.84 ||"
     ]
    },
    {
     "name": "stderr",
     "output_type": "stream",
     "text": [
      "\r",
      "  0%|          | 0/1255 [00:00<?, ?it/s]"
     ]
    },
    {
     "name": "stdout",
     "output_type": "stream",
     "text": [
      "\n",
      "val: {'recall': 0.997923, 'recall_grapheme': 0.997141, 'recall_vowel': 0.998443, 'recall_consonant': 0.998969, 'recall_word': 0.996917, 'acc_grapheme': 0.996788, 'acc_vowel': 0.998705, 'acc_consonant': 0.998979, 'acc_word': 0.996838, 'loss_grapheme': 0.015744, 'loss_vowel': 0.006867, 'loss_consonant': 0.004946, 'loss_word': 0.015373}\n",
      "SWA>>>:\n"
     ]
    },
    {
     "name": "stderr",
     "output_type": "stream",
     "text": [
      "100%|██████████| 1255/1255 [07:08<00:00,  2.82it/s]\n"
     ]
    },
    {
     "name": "stdout",
     "output_type": "stream",
     "text": [
      "\n",
      "val: {'recall': 0.99877, 'recall_grapheme': 0.998213, 'recall_vowel': 0.999307, 'recall_consonant': 0.999345, 'recall_word': 0.998201, 'acc_grapheme': 0.998232, 'acc_vowel': 0.999328, 'acc_consonant': 0.999427, 'acc_word': 0.998182, 'loss_grapheme': 0.008726, 'loss_vowel': 0.004444, 'loss_consonant': 0.002708, 'loss_word': 0.009676}\n",
      "###>>>>> saved ./model4-ckps/tf_efficientnet_b4/model4_eb4_fold2_380.pth_swa\n",
      "    2 | 0.000195 | 160640/160678 | 6.1217 | 5.1876 | 13.95 ||"
     ]
    },
    {
     "name": "stderr",
     "output_type": "stream",
     "text": [
      "\r",
      "  0%|          | 0/1255 [00:00<?, ?it/s]"
     ]
    },
    {
     "name": "stdout",
     "output_type": "stream",
     "text": [
      "\n",
      "val: {'recall': 0.997975, 'recall_grapheme': 0.997399, 'recall_vowel': 0.998919, 'recall_consonant': 0.998184, 'recall_word': 0.997361, 'acc_grapheme': 0.99741, 'acc_vowel': 0.998929, 'acc_consonant': 0.999129, 'acc_word': 0.997311, 'loss_grapheme': 0.012436, 'loss_vowel': 0.006761, 'loss_consonant': 0.004337, 'loss_word': 0.013756}\n",
      "SWA>>>:\n"
     ]
    },
    {
     "name": "stderr",
     "output_type": "stream",
     "text": [
      "100%|██████████| 1255/1255 [07:07<00:00,  2.90it/s]\n"
     ]
    },
    {
     "name": "stdout",
     "output_type": "stream",
     "text": [
      "\n",
      "val: {'recall': 0.998696, 'recall_grapheme': 0.998152, 'recall_vowel': 0.999073, 'recall_consonant': 0.999407, 'recall_word': 0.998206, 'acc_grapheme': 0.998157, 'acc_vowel': 0.999253, 'acc_consonant': 0.999427, 'acc_word': 0.998182, 'loss_grapheme': 0.008611, 'loss_vowel': 0.004636, 'loss_consonant': 0.002711, 'loss_word': 0.009674}\n",
      "    3 | 0.000191 | 160640/160678 | 0.6315 | 5.0384 | 14.05 ||"
     ]
    },
    {
     "name": "stderr",
     "output_type": "stream",
     "text": [
      "\r",
      "  0%|          | 0/1255 [00:00<?, ?it/s]"
     ]
    },
    {
     "name": "stdout",
     "output_type": "stream",
     "text": [
      "\n",
      "val: {'recall': 0.99816, 'recall_grapheme': 0.997198, 'recall_vowel': 0.998924, 'recall_consonant': 0.999318, 'recall_word': 0.997163, 'acc_grapheme': 0.997311, 'acc_vowel': 0.998979, 'acc_consonant': 0.999178, 'acc_word': 0.997137, 'loss_grapheme': 0.013195, 'loss_vowel': 0.006487, 'loss_consonant': 0.0043, 'loss_word': 0.013692}\n",
      "SWA>>>:\n"
     ]
    },
    {
     "name": "stderr",
     "output_type": "stream",
     "text": [
      "100%|██████████| 1255/1255 [07:00<00:00,  2.88it/s]\n"
     ]
    },
    {
     "name": "stdout",
     "output_type": "stream",
     "text": [
      "\n",
      "val: {'recall': 0.998646, 'recall_grapheme': 0.99804, 'recall_vowel': 0.999097, 'recall_consonant': 0.999407, 'recall_word': 0.998208, 'acc_grapheme': 0.998207, 'acc_vowel': 0.999278, 'acc_consonant': 0.999427, 'acc_word': 0.998182, 'loss_grapheme': 0.008511, 'loss_vowel': 0.004617, 'loss_consonant': 0.002616, 'loss_word': 0.009548}\n",
      "    4 | 0.000187 | 160640/160678 | 5.3596 | 5.2192 | 14.18 ||"
     ]
    },
    {
     "name": "stderr",
     "output_type": "stream",
     "text": [
      "\r",
      "  0%|          | 0/1255 [00:00<?, ?it/s]"
     ]
    },
    {
     "name": "stdout",
     "output_type": "stream",
     "text": [
      "\n",
      "val: {'recall': 0.997575, 'recall_grapheme': 0.996647, 'recall_vowel': 0.998802, 'recall_consonant': 0.998205, 'recall_word': 0.997022, 'acc_grapheme': 0.997087, 'acc_vowel': 0.99883, 'acc_consonant': 0.999153, 'acc_word': 0.996962, 'loss_grapheme': 0.013874, 'loss_vowel': 0.007573, 'loss_consonant': 0.004432, 'loss_word': 0.0155}\n",
      "SWA>>>:\n"
     ]
    },
    {
     "name": "stderr",
     "output_type": "stream",
     "text": [
      "100%|██████████| 1255/1255 [07:06<00:00,  2.83it/s]\n"
     ]
    },
    {
     "name": "stdout",
     "output_type": "stream",
     "text": [
      "\n",
      "val: {'recall': 0.998707, 'recall_grapheme': 0.998073, 'recall_vowel': 0.999181, 'recall_consonant': 0.999499, 'recall_word': 0.99824, 'acc_grapheme': 0.998207, 'acc_vowel': 0.999303, 'acc_consonant': 0.999477, 'acc_word': 0.998207, 'loss_grapheme': 0.008539, 'loss_vowel': 0.004695, 'loss_consonant': 0.002574, 'loss_word': 0.009687}\n",
      "    5 | 0.000181 | 160640/160678 | 0.1329 | 5.3490 | 14.29 ||"
     ]
    },
    {
     "name": "stderr",
     "output_type": "stream",
     "text": [
      "\r",
      "  0%|          | 0/1255 [00:00<?, ?it/s]"
     ]
    },
    {
     "name": "stdout",
     "output_type": "stream",
     "text": [
      "\n",
      "val: {'recall': 0.998107, 'recall_grapheme': 0.997296, 'recall_vowel': 0.998884, 'recall_consonant': 0.99895, 'recall_word': 0.997125, 'acc_grapheme': 0.997311, 'acc_vowel': 0.998929, 'acc_consonant': 0.999079, 'acc_word': 0.997037, 'loss_grapheme': 0.01306, 'loss_vowel': 0.006658, 'loss_consonant': 0.00459, 'loss_word': 0.013936}\n",
      "SWA>>>:\n"
     ]
    },
    {
     "name": "stderr",
     "output_type": "stream",
     "text": [
      "100%|██████████| 1255/1255 [07:04<00:00,  2.89it/s]\n"
     ]
    },
    {
     "name": "stdout",
     "output_type": "stream",
     "text": [
      "\n",
      "val: {'recall': 0.998659, 'recall_grapheme': 0.997983, 'recall_vowel': 0.99917, 'recall_consonant': 0.999499, 'recall_word': 0.998235, 'acc_grapheme': 0.998232, 'acc_vowel': 0.999278, 'acc_consonant': 0.999477, 'acc_word': 0.998207, 'loss_grapheme': 0.008521, 'loss_vowel': 0.004618, 'loss_consonant': 0.002588, 'loss_word': 0.009628}\n",
      "    6 | 0.000175 | 150528/160678 | 0.1704 | 5.2703 | 13.41 ||"
     ]
    },
    {
     "ename": "KeyboardInterrupt",
     "evalue": "",
     "output_type": "error",
     "traceback": [
      "\u001b[0;31m---------------------------------------------------------------------------\u001b[0m",
      "\u001b[0;31mKeyboardInterrupt\u001b[0m                         Traceback (most recent call last)",
      "\u001b[0;32m<ipython-input-37-aad596905035>\u001b[0m in \u001b[0;36m<module>\u001b[0;34m\u001b[0m\n\u001b[0;32m----> 1\u001b[0;31m \u001b[0mtrain\u001b[0m\u001b[0;34m(\u001b[0m\u001b[0margs\u001b[0m\u001b[0;34m)\u001b[0m\u001b[0;34m\u001b[0m\u001b[0;34m\u001b[0m\u001b[0m\n\u001b[0m",
      "\u001b[0;32m<ipython-input-32-73207cee3d84>\u001b[0m in \u001b[0;36mtrain\u001b[0;34m(args)\u001b[0m\n\u001b[1;32m     63\u001b[0m         \u001b[0;32mfor\u001b[0m \u001b[0mepoch\u001b[0m \u001b[0;32min\u001b[0m \u001b[0mrange\u001b[0m\u001b[0;34m(\u001b[0m\u001b[0margs\u001b[0m\u001b[0;34m.\u001b[0m\u001b[0mstart_epoch\u001b[0m\u001b[0;34m,\u001b[0m \u001b[0margs\u001b[0m\u001b[0;34m.\u001b[0m\u001b[0mnum_epochs\u001b[0m\u001b[0;34m)\u001b[0m\u001b[0;34m:\u001b[0m\u001b[0;34m\u001b[0m\u001b[0;34m\u001b[0m\u001b[0m\n\u001b[1;32m     64\u001b[0m             \u001b[0mgrid\u001b[0m\u001b[0;34m.\u001b[0m\u001b[0mset_prob\u001b[0m\u001b[0;34m(\u001b[0m\u001b[0mepoch\u001b[0m\u001b[0;34m,\u001b[0m \u001b[0margs\u001b[0m\u001b[0;34m.\u001b[0m\u001b[0mst_epochs\u001b[0m\u001b[0;34m)\u001b[0m\u001b[0;34m\u001b[0m\u001b[0;34m\u001b[0m\u001b[0m\n\u001b[0;32m---> 65\u001b[0;31m             \u001b[0mtrain_epoch\u001b[0m\u001b[0;34m(\u001b[0m\u001b[0margs\u001b[0m\u001b[0;34m,\u001b[0m \u001b[0mmodel\u001b[0m\u001b[0;34m,\u001b[0m \u001b[0mtrain_loader\u001b[0m\u001b[0;34m,\u001b[0m \u001b[0mepoch\u001b[0m\u001b[0;34m,\u001b[0m \u001b[0moptimizer\u001b[0m\u001b[0;34m,\u001b[0m \u001b[0mlr_scheduler\u001b[0m\u001b[0;34m,\u001b[0m \u001b[0mgrid\u001b[0m\u001b[0;34m)\u001b[0m\u001b[0;34m\u001b[0m\u001b[0;34m\u001b[0m\u001b[0m\n\u001b[0m\u001b[1;32m     66\u001b[0m             \u001b[0mvalidate_and_save\u001b[0m\u001b[0;34m(\u001b[0m\u001b[0mmodel\u001b[0m\u001b[0;34m,\u001b[0m \u001b[0mmodel_file\u001b[0m\u001b[0;34m,\u001b[0m \u001b[0mval_loader\u001b[0m\u001b[0;34m,\u001b[0m \u001b[0msave\u001b[0m\u001b[0;34m=\u001b[0m\u001b[0;32mTrue\u001b[0m\u001b[0;34m)\u001b[0m\u001b[0;34m\u001b[0m\u001b[0;34m\u001b[0m\u001b[0m\n\u001b[1;32m     67\u001b[0m \u001b[0;34m\u001b[0m\u001b[0m\n",
      "\u001b[0;32m<ipython-input-31-16e5a4d95497>\u001b[0m in \u001b[0;36mtrain_epoch\u001b[0;34m(args, model, train_loader, epoch, optimizer, lr_scheduler, grid)\u001b[0m\n\u001b[1;32m     36\u001b[0m         \u001b[0;32melse\u001b[0m\u001b[0;34m:\u001b[0m\u001b[0;34m\u001b[0m\u001b[0;34m\u001b[0m\u001b[0m\n\u001b[1;32m     37\u001b[0m             \u001b[0morig_img\u001b[0m\u001b[0;34m,\u001b[0m \u001b[0mtargets\u001b[0m \u001b[0;34m=\u001b[0m \u001b[0mmixup\u001b[0m\u001b[0;34m(\u001b[0m\u001b[0morig_img\u001b[0m\u001b[0;34m,\u001b[0m \u001b[0mtargets\u001b[0m\u001b[0;34m)\u001b[0m\u001b[0;34m\u001b[0m\u001b[0;34m\u001b[0m\u001b[0m\n\u001b[0;32m---> 38\u001b[0;31m             \u001b[0moutputs\u001b[0m\u001b[0;34m,\u001b[0m \u001b[0moutputs_aux1\u001b[0m\u001b[0;34m,\u001b[0m \u001b[0moutputs_aux2\u001b[0m \u001b[0;34m=\u001b[0m \u001b[0mmodel\u001b[0m\u001b[0;34m(\u001b[0m\u001b[0morig_img\u001b[0m\u001b[0;34m)\u001b[0m\u001b[0;34m\u001b[0m\u001b[0;34m\u001b[0m\u001b[0m\n\u001b[0m\u001b[1;32m     39\u001b[0m             \u001b[0mloss_primary\u001b[0m \u001b[0;34m=\u001b[0m \u001b[0mmixup_criterion\u001b[0m\u001b[0;34m(\u001b[0m\u001b[0moutputs\u001b[0m\u001b[0;34m,\u001b[0m \u001b[0mtargets\u001b[0m\u001b[0;34m)\u001b[0m\u001b[0;34m\u001b[0m\u001b[0;34m\u001b[0m\u001b[0m\n\u001b[1;32m     40\u001b[0m             \u001b[0mloss_aux1\u001b[0m \u001b[0;34m=\u001b[0m \u001b[0mmixup_criterion\u001b[0m\u001b[0;34m(\u001b[0m\u001b[0moutputs_aux1\u001b[0m\u001b[0;34m,\u001b[0m \u001b[0mtargets\u001b[0m\u001b[0;34m)\u001b[0m\u001b[0;34m\u001b[0m\u001b[0;34m\u001b[0m\u001b[0m\n",
      "\u001b[0;32m~/anaconda3/lib/python3.7/site-packages/torch/nn/modules/module.py\u001b[0m in \u001b[0;36m__call__\u001b[0;34m(self, *input, **kwargs)\u001b[0m\n\u001b[1;32m    545\u001b[0m             \u001b[0mresult\u001b[0m \u001b[0;34m=\u001b[0m \u001b[0mself\u001b[0m\u001b[0;34m.\u001b[0m\u001b[0m_slow_forward\u001b[0m\u001b[0;34m(\u001b[0m\u001b[0;34m*\u001b[0m\u001b[0minput\u001b[0m\u001b[0;34m,\u001b[0m \u001b[0;34m**\u001b[0m\u001b[0mkwargs\u001b[0m\u001b[0;34m)\u001b[0m\u001b[0;34m\u001b[0m\u001b[0;34m\u001b[0m\u001b[0m\n\u001b[1;32m    546\u001b[0m         \u001b[0;32melse\u001b[0m\u001b[0;34m:\u001b[0m\u001b[0;34m\u001b[0m\u001b[0;34m\u001b[0m\u001b[0m\n\u001b[0;32m--> 547\u001b[0;31m             \u001b[0mresult\u001b[0m \u001b[0;34m=\u001b[0m \u001b[0mself\u001b[0m\u001b[0;34m.\u001b[0m\u001b[0mforward\u001b[0m\u001b[0;34m(\u001b[0m\u001b[0;34m*\u001b[0m\u001b[0minput\u001b[0m\u001b[0;34m,\u001b[0m \u001b[0;34m**\u001b[0m\u001b[0mkwargs\u001b[0m\u001b[0;34m)\u001b[0m\u001b[0;34m\u001b[0m\u001b[0;34m\u001b[0m\u001b[0m\n\u001b[0m\u001b[1;32m    548\u001b[0m         \u001b[0;32mfor\u001b[0m \u001b[0mhook\u001b[0m \u001b[0;32min\u001b[0m \u001b[0mself\u001b[0m\u001b[0;34m.\u001b[0m\u001b[0m_forward_hooks\u001b[0m\u001b[0;34m.\u001b[0m\u001b[0mvalues\u001b[0m\u001b[0;34m(\u001b[0m\u001b[0;34m)\u001b[0m\u001b[0;34m:\u001b[0m\u001b[0;34m\u001b[0m\u001b[0;34m\u001b[0m\u001b[0m\n\u001b[1;32m    549\u001b[0m             \u001b[0mhook_result\u001b[0m \u001b[0;34m=\u001b[0m \u001b[0mhook\u001b[0m\u001b[0;34m(\u001b[0m\u001b[0mself\u001b[0m\u001b[0;34m,\u001b[0m \u001b[0minput\u001b[0m\u001b[0;34m,\u001b[0m \u001b[0mresult\u001b[0m\u001b[0;34m)\u001b[0m\u001b[0;34m\u001b[0m\u001b[0;34m\u001b[0m\u001b[0m\n",
      "\u001b[0;32m~/anaconda3/lib/python3.7/site-packages/torch/nn/parallel/data_parallel.py\u001b[0m in \u001b[0;36mforward\u001b[0;34m(self, *inputs, **kwargs)\u001b[0m\n\u001b[1;32m    150\u001b[0m             \u001b[0;32mreturn\u001b[0m \u001b[0mself\u001b[0m\u001b[0;34m.\u001b[0m\u001b[0mmodule\u001b[0m\u001b[0;34m(\u001b[0m\u001b[0;34m*\u001b[0m\u001b[0minputs\u001b[0m\u001b[0;34m[\u001b[0m\u001b[0;36m0\u001b[0m\u001b[0;34m]\u001b[0m\u001b[0;34m,\u001b[0m \u001b[0;34m**\u001b[0m\u001b[0mkwargs\u001b[0m\u001b[0;34m[\u001b[0m\u001b[0;36m0\u001b[0m\u001b[0;34m]\u001b[0m\u001b[0;34m)\u001b[0m\u001b[0;34m\u001b[0m\u001b[0;34m\u001b[0m\u001b[0m\n\u001b[1;32m    151\u001b[0m         \u001b[0mreplicas\u001b[0m \u001b[0;34m=\u001b[0m \u001b[0mself\u001b[0m\u001b[0;34m.\u001b[0m\u001b[0mreplicate\u001b[0m\u001b[0;34m(\u001b[0m\u001b[0mself\u001b[0m\u001b[0;34m.\u001b[0m\u001b[0mmodule\u001b[0m\u001b[0;34m,\u001b[0m \u001b[0mself\u001b[0m\u001b[0;34m.\u001b[0m\u001b[0mdevice_ids\u001b[0m\u001b[0;34m[\u001b[0m\u001b[0;34m:\u001b[0m\u001b[0mlen\u001b[0m\u001b[0;34m(\u001b[0m\u001b[0minputs\u001b[0m\u001b[0;34m)\u001b[0m\u001b[0;34m]\u001b[0m\u001b[0;34m)\u001b[0m\u001b[0;34m\u001b[0m\u001b[0;34m\u001b[0m\u001b[0m\n\u001b[0;32m--> 152\u001b[0;31m         \u001b[0moutputs\u001b[0m \u001b[0;34m=\u001b[0m \u001b[0mself\u001b[0m\u001b[0;34m.\u001b[0m\u001b[0mparallel_apply\u001b[0m\u001b[0;34m(\u001b[0m\u001b[0mreplicas\u001b[0m\u001b[0;34m,\u001b[0m \u001b[0minputs\u001b[0m\u001b[0;34m,\u001b[0m \u001b[0mkwargs\u001b[0m\u001b[0;34m)\u001b[0m\u001b[0;34m\u001b[0m\u001b[0;34m\u001b[0m\u001b[0m\n\u001b[0m\u001b[1;32m    153\u001b[0m         \u001b[0;32mreturn\u001b[0m \u001b[0mself\u001b[0m\u001b[0;34m.\u001b[0m\u001b[0mgather\u001b[0m\u001b[0;34m(\u001b[0m\u001b[0moutputs\u001b[0m\u001b[0;34m,\u001b[0m \u001b[0mself\u001b[0m\u001b[0;34m.\u001b[0m\u001b[0moutput_device\u001b[0m\u001b[0;34m)\u001b[0m\u001b[0;34m\u001b[0m\u001b[0;34m\u001b[0m\u001b[0m\n\u001b[1;32m    154\u001b[0m \u001b[0;34m\u001b[0m\u001b[0m\n",
      "\u001b[0;32m~/anaconda3/lib/python3.7/site-packages/torch/nn/parallel/data_parallel.py\u001b[0m in \u001b[0;36mparallel_apply\u001b[0;34m(self, replicas, inputs, kwargs)\u001b[0m\n\u001b[1;32m    160\u001b[0m \u001b[0;34m\u001b[0m\u001b[0m\n\u001b[1;32m    161\u001b[0m     \u001b[0;32mdef\u001b[0m \u001b[0mparallel_apply\u001b[0m\u001b[0;34m(\u001b[0m\u001b[0mself\u001b[0m\u001b[0;34m,\u001b[0m \u001b[0mreplicas\u001b[0m\u001b[0;34m,\u001b[0m \u001b[0minputs\u001b[0m\u001b[0;34m,\u001b[0m \u001b[0mkwargs\u001b[0m\u001b[0;34m)\u001b[0m\u001b[0;34m:\u001b[0m\u001b[0;34m\u001b[0m\u001b[0;34m\u001b[0m\u001b[0m\n\u001b[0;32m--> 162\u001b[0;31m         \u001b[0;32mreturn\u001b[0m \u001b[0mparallel_apply\u001b[0m\u001b[0;34m(\u001b[0m\u001b[0mreplicas\u001b[0m\u001b[0;34m,\u001b[0m \u001b[0minputs\u001b[0m\u001b[0;34m,\u001b[0m \u001b[0mkwargs\u001b[0m\u001b[0;34m,\u001b[0m \u001b[0mself\u001b[0m\u001b[0;34m.\u001b[0m\u001b[0mdevice_ids\u001b[0m\u001b[0;34m[\u001b[0m\u001b[0;34m:\u001b[0m\u001b[0mlen\u001b[0m\u001b[0;34m(\u001b[0m\u001b[0mreplicas\u001b[0m\u001b[0;34m)\u001b[0m\u001b[0;34m]\u001b[0m\u001b[0;34m)\u001b[0m\u001b[0;34m\u001b[0m\u001b[0;34m\u001b[0m\u001b[0m\n\u001b[0m\u001b[1;32m    163\u001b[0m \u001b[0;34m\u001b[0m\u001b[0m\n\u001b[1;32m    164\u001b[0m     \u001b[0;32mdef\u001b[0m \u001b[0mgather\u001b[0m\u001b[0;34m(\u001b[0m\u001b[0mself\u001b[0m\u001b[0;34m,\u001b[0m \u001b[0moutputs\u001b[0m\u001b[0;34m,\u001b[0m \u001b[0moutput_device\u001b[0m\u001b[0;34m)\u001b[0m\u001b[0;34m:\u001b[0m\u001b[0;34m\u001b[0m\u001b[0;34m\u001b[0m\u001b[0m\n",
      "\u001b[0;32m~/anaconda3/lib/python3.7/site-packages/torch/nn/parallel/parallel_apply.py\u001b[0m in \u001b[0;36mparallel_apply\u001b[0;34m(modules, inputs, kwargs_tup, devices)\u001b[0m\n\u001b[1;32m     75\u001b[0m             \u001b[0mthread\u001b[0m\u001b[0;34m.\u001b[0m\u001b[0mstart\u001b[0m\u001b[0;34m(\u001b[0m\u001b[0;34m)\u001b[0m\u001b[0;34m\u001b[0m\u001b[0;34m\u001b[0m\u001b[0m\n\u001b[1;32m     76\u001b[0m         \u001b[0;32mfor\u001b[0m \u001b[0mthread\u001b[0m \u001b[0;32min\u001b[0m \u001b[0mthreads\u001b[0m\u001b[0;34m:\u001b[0m\u001b[0;34m\u001b[0m\u001b[0;34m\u001b[0m\u001b[0m\n\u001b[0;32m---> 77\u001b[0;31m             \u001b[0mthread\u001b[0m\u001b[0;34m.\u001b[0m\u001b[0mjoin\u001b[0m\u001b[0;34m(\u001b[0m\u001b[0;34m)\u001b[0m\u001b[0;34m\u001b[0m\u001b[0;34m\u001b[0m\u001b[0m\n\u001b[0m\u001b[1;32m     78\u001b[0m     \u001b[0;32melse\u001b[0m\u001b[0;34m:\u001b[0m\u001b[0;34m\u001b[0m\u001b[0;34m\u001b[0m\u001b[0m\n\u001b[1;32m     79\u001b[0m         \u001b[0m_worker\u001b[0m\u001b[0;34m(\u001b[0m\u001b[0;36m0\u001b[0m\u001b[0;34m,\u001b[0m \u001b[0mmodules\u001b[0m\u001b[0;34m[\u001b[0m\u001b[0;36m0\u001b[0m\u001b[0;34m]\u001b[0m\u001b[0;34m,\u001b[0m \u001b[0minputs\u001b[0m\u001b[0;34m[\u001b[0m\u001b[0;36m0\u001b[0m\u001b[0;34m]\u001b[0m\u001b[0;34m,\u001b[0m \u001b[0mkwargs_tup\u001b[0m\u001b[0;34m[\u001b[0m\u001b[0;36m0\u001b[0m\u001b[0;34m]\u001b[0m\u001b[0;34m,\u001b[0m \u001b[0mdevices\u001b[0m\u001b[0;34m[\u001b[0m\u001b[0;36m0\u001b[0m\u001b[0;34m]\u001b[0m\u001b[0;34m)\u001b[0m\u001b[0;34m\u001b[0m\u001b[0;34m\u001b[0m\u001b[0m\n",
      "\u001b[0;32m~/anaconda3/lib/python3.7/threading.py\u001b[0m in \u001b[0;36mjoin\u001b[0;34m(self, timeout)\u001b[0m\n\u001b[1;32m   1030\u001b[0m \u001b[0;34m\u001b[0m\u001b[0m\n\u001b[1;32m   1031\u001b[0m         \u001b[0;32mif\u001b[0m \u001b[0mtimeout\u001b[0m \u001b[0;32mis\u001b[0m \u001b[0;32mNone\u001b[0m\u001b[0;34m:\u001b[0m\u001b[0;34m\u001b[0m\u001b[0;34m\u001b[0m\u001b[0m\n\u001b[0;32m-> 1032\u001b[0;31m             \u001b[0mself\u001b[0m\u001b[0;34m.\u001b[0m\u001b[0m_wait_for_tstate_lock\u001b[0m\u001b[0;34m(\u001b[0m\u001b[0;34m)\u001b[0m\u001b[0;34m\u001b[0m\u001b[0;34m\u001b[0m\u001b[0m\n\u001b[0m\u001b[1;32m   1033\u001b[0m         \u001b[0;32melse\u001b[0m\u001b[0;34m:\u001b[0m\u001b[0;34m\u001b[0m\u001b[0;34m\u001b[0m\u001b[0m\n\u001b[1;32m   1034\u001b[0m             \u001b[0;31m# the behavior of a negative timeout isn't documented, but\u001b[0m\u001b[0;34m\u001b[0m\u001b[0;34m\u001b[0m\u001b[0;34m\u001b[0m\u001b[0m\n",
      "\u001b[0;32m~/anaconda3/lib/python3.7/threading.py\u001b[0m in \u001b[0;36m_wait_for_tstate_lock\u001b[0;34m(self, block, timeout)\u001b[0m\n\u001b[1;32m   1046\u001b[0m         \u001b[0;32mif\u001b[0m \u001b[0mlock\u001b[0m \u001b[0;32mis\u001b[0m \u001b[0;32mNone\u001b[0m\u001b[0;34m:\u001b[0m  \u001b[0;31m# already determined that the C code is done\u001b[0m\u001b[0;34m\u001b[0m\u001b[0;34m\u001b[0m\u001b[0m\n\u001b[1;32m   1047\u001b[0m             \u001b[0;32massert\u001b[0m \u001b[0mself\u001b[0m\u001b[0;34m.\u001b[0m\u001b[0m_is_stopped\u001b[0m\u001b[0;34m\u001b[0m\u001b[0;34m\u001b[0m\u001b[0m\n\u001b[0;32m-> 1048\u001b[0;31m         \u001b[0;32melif\u001b[0m \u001b[0mlock\u001b[0m\u001b[0;34m.\u001b[0m\u001b[0macquire\u001b[0m\u001b[0;34m(\u001b[0m\u001b[0mblock\u001b[0m\u001b[0;34m,\u001b[0m \u001b[0mtimeout\u001b[0m\u001b[0;34m)\u001b[0m\u001b[0;34m:\u001b[0m\u001b[0;34m\u001b[0m\u001b[0;34m\u001b[0m\u001b[0m\n\u001b[0m\u001b[1;32m   1049\u001b[0m             \u001b[0mlock\u001b[0m\u001b[0;34m.\u001b[0m\u001b[0mrelease\u001b[0m\u001b[0;34m(\u001b[0m\u001b[0;34m)\u001b[0m\u001b[0;34m\u001b[0m\u001b[0;34m\u001b[0m\u001b[0m\n\u001b[1;32m   1050\u001b[0m             \u001b[0mself\u001b[0m\u001b[0;34m.\u001b[0m\u001b[0m_stop\u001b[0m\u001b[0;34m(\u001b[0m\u001b[0;34m)\u001b[0m\u001b[0;34m\u001b[0m\u001b[0;34m\u001b[0m\u001b[0m\n",
      "\u001b[0;31mKeyboardInterrupt\u001b[0m: "
     ]
    }
   ],
   "source": [
    "train(args)"
   ]
  },
  {
   "cell_type": "code",
   "execution_count": null,
   "metadata": {},
   "outputs": [],
   "source": []
  },
  {
   "cell_type": "code",
   "execution_count": 37,
   "metadata": {},
   "outputs": [
    {
     "name": "stdout",
     "output_type": "stream",
     "text": [
      "model file: ./model4-ckps/tf_efficientnet_b4/model4_eb4_fold2_380.pth, exist: True\n",
      "loading ./model4-ckps/tf_efficientnet_b4/model4_eb4_fold2_380.pth...\n",
      "model file: ./model4-ckps/tf_efficientnet_b4/model4_eb4_fold2_380.pth_swa, exist: True\n",
      "loading ./model4-ckps/tf_efficientnet_b4/model4_eb4_fold2_380.pth_swa...\n",
      "\n",
      "val: {'recall': 0.998333, 'recall_grapheme': 0.99753, 'recall_vowel': 0.99891, 'recall_consonant': 0.999362, 'recall_word': 0.997679, 'acc_grapheme': 0.997859, 'acc_vowel': 0.999104, 'acc_consonant': 0.999378, 'acc_word': 0.997585, 'loss_grapheme': 0.011018, 'loss_vowel': 0.005305, 'loss_consonant': 0.003185, 'loss_word': 0.011873}\n",
      "\n",
      "val: {'recall': 0.998693, 'recall_grapheme': 0.998173, 'recall_vowel': 0.999111, 'recall_consonant': 0.999317, 'recall_word': 0.998115, 'acc_grapheme': 0.998133, 'acc_vowel': 0.999228, 'acc_consonant': 0.999427, 'acc_word': 0.998083, 'loss_grapheme': 0.009206, 'loss_vowel': 0.004678, 'loss_consonant': 0.002865, 'loss_word': 0.010286}\n",
      "CYCLE: 1\n",
      "   14 | 0.000238 | 160640/160678 | 7.9374 | 5.4008 | 14.26 ||"
     ]
    },
    {
     "name": "stderr",
     "output_type": "stream",
     "text": [
      "\r",
      "  0%|          | 0/1255 [00:00<?, ?it/s]"
     ]
    },
    {
     "name": "stdout",
     "output_type": "stream",
     "text": [
      "\n",
      "val: {'recall': 0.997335, 'recall_grapheme': 0.995933, 'recall_vowel': 0.998453, 'recall_consonant': 0.999021, 'recall_word': 0.996675, 'acc_grapheme': 0.996489, 'acc_vowel': 0.998655, 'acc_consonant': 0.999004, 'acc_word': 0.996614, 'loss_grapheme': 0.017132, 'loss_vowel': 0.007924, 'loss_consonant': 0.004922, 'loss_word': 0.016749}\n",
      "SWA>>>:\n"
     ]
    },
    {
     "name": "stderr",
     "output_type": "stream",
     "text": [
      "100%|██████████| 1255/1255 [07:00<00:00,  2.89it/s]\n"
     ]
    },
    {
     "name": "stdout",
     "output_type": "stream",
     "text": [
      "\n",
      "val: {'recall': 0.998679, 'recall_grapheme': 0.998159, 'recall_vowel': 0.999113, 'recall_consonant': 0.999283, 'recall_word': 0.998124, 'acc_grapheme': 0.998182, 'acc_vowel': 0.999203, 'acc_consonant': 0.999402, 'acc_word': 0.998108, 'loss_grapheme': 0.009091, 'loss_vowel': 0.00466, 'loss_consonant': 0.002802, 'loss_word': 0.010135}\n",
      "   15 | 0.000230 | 160640/160678 | 0.7302 | 5.2954 | 14.26 ||\n",
      "val: {'recall': 0.997845, 'recall_grapheme': 0.996834, 'recall_vowel': 0.998844, 'recall_consonant': 0.998867, 'recall_word': 0.996814, 'acc_grapheme': 0.996713, 'acc_vowel': 0.99883, 'acc_consonant': 0.999004, 'acc_word': 0.996763, 'loss_grapheme': 0.015115, 'loss_vowel': 0.006485, 'loss_consonant': 0.004953, 'loss_word': 0.015424}\n",
      "   16 | 0.000222 | 160640/160678 | 2.3889 | 5.3610 | 14.23 ||\n",
      "val: {'recall': 0.997374, 'recall_grapheme': 0.996045, 'recall_vowel': 0.998492, 'recall_consonant': 0.998916, 'recall_word': 0.996365, 'acc_grapheme': 0.996464, 'acc_vowel': 0.998382, 'acc_consonant': 0.999029, 'acc_word': 0.996365, 'loss_grapheme': 0.015936, 'loss_vowel': 0.007716, 'loss_consonant': 0.004781, 'loss_word': 0.015974}\n",
      "   17 | 0.000214 | 160640/160678 | 12.9813 | 5.5289 | 14.24 |"
     ]
    },
    {
     "name": "stderr",
     "output_type": "stream",
     "text": [
      "\r",
      "  0%|          | 0/1255 [00:00<?, ?it/s]"
     ]
    },
    {
     "name": "stdout",
     "output_type": "stream",
     "text": [
      "\n",
      "val: {'recall': 0.997296, 'recall_grapheme': 0.996153, 'recall_vowel': 0.99845, 'recall_consonant': 0.998429, 'recall_word': 0.996447, 'acc_grapheme': 0.996514, 'acc_vowel': 0.998805, 'acc_consonant': 0.998929, 'acc_word': 0.996365, 'loss_grapheme': 0.016766, 'loss_vowel': 0.007273, 'loss_consonant': 0.004961, 'loss_word': 0.01594}\n",
      "SWA>>>:\n"
     ]
    },
    {
     "name": "stderr",
     "output_type": "stream",
     "text": [
      "100%|██████████| 1255/1255 [06:57<00:00,  2.73it/s]\n"
     ]
    },
    {
     "name": "stdout",
     "output_type": "stream",
     "text": [
      "\n",
      "val: {'recall': 0.998645, 'recall_grapheme': 0.998105, 'recall_vowel': 0.999052, 'recall_consonant': 0.999317, 'recall_word': 0.998098, 'acc_grapheme': 0.998133, 'acc_vowel': 0.999228, 'acc_consonant': 0.999427, 'acc_word': 0.998083, 'loss_grapheme': 0.009157, 'loss_vowel': 0.00469, 'loss_consonant': 0.002806, 'loss_word': 0.010149}\n",
      "   18 | 0.000205 | 160640/160678 | 0.3231 | 5.5125 | 14.21 ||\n",
      "val: {'recall': 0.997979, 'recall_grapheme': 0.997036, 'recall_vowel': 0.998783, 'recall_consonant': 0.999061, 'recall_word': 0.997073, 'acc_grapheme': 0.996913, 'acc_vowel': 0.999004, 'acc_consonant': 0.999054, 'acc_word': 0.997037, 'loss_grapheme': 0.012922, 'loss_vowel': 0.005699, 'loss_consonant': 0.004861, 'loss_word': 0.013208}\n",
      "   19 | 0.000196 | 160640/160678 | 15.0756 | 5.1278 | 14.24 |\n",
      "val: {'recall': 0.997745, 'recall_grapheme': 0.996598, 'recall_vowel': 0.9988, 'recall_consonant': 0.998986, 'recall_word': 0.996517, 'acc_grapheme': 0.99639, 'acc_vowel': 0.998805, 'acc_consonant': 0.999029, 'acc_word': 0.996365, 'loss_grapheme': 0.016562, 'loss_vowel': 0.006888, 'loss_consonant': 0.004389, 'loss_word': 0.015008}\n",
      "   20 | 0.000187 | 160640/160678 | 6.5071 | 5.3985 | 14.27 ||"
     ]
    },
    {
     "name": "stderr",
     "output_type": "stream",
     "text": [
      "\r",
      "  0%|          | 0/1255 [00:00<?, ?it/s]"
     ]
    },
    {
     "name": "stdout",
     "output_type": "stream",
     "text": [
      "\n",
      "val: {'recall': 0.997402, 'recall_grapheme': 0.995941, 'recall_vowel': 0.998662, 'recall_consonant': 0.999065, 'recall_word': 0.996625, 'acc_grapheme': 0.996713, 'acc_vowel': 0.99873, 'acc_consonant': 0.999153, 'acc_word': 0.996564, 'loss_grapheme': 0.01558, 'loss_vowel': 0.006996, 'loss_consonant': 0.004196, 'loss_word': 0.016121}\n",
      "SWA>>>:\n"
     ]
    },
    {
     "name": "stderr",
     "output_type": "stream",
     "text": [
      "100%|██████████| 1255/1255 [07:00<00:00,  2.89it/s]\n"
     ]
    },
    {
     "name": "stdout",
     "output_type": "stream",
     "text": [
      "\n",
      "val: {'recall': 0.998649, 'recall_grapheme': 0.998123, 'recall_vowel': 0.999072, 'recall_consonant': 0.99928, 'recall_word': 0.998153, 'acc_grapheme': 0.998182, 'acc_vowel': 0.999228, 'acc_consonant': 0.999402, 'acc_word': 0.998133, 'loss_grapheme': 0.009019, 'loss_vowel': 0.004649, 'loss_consonant': 0.002781, 'loss_word': 0.010026}\n",
      "   21 | 0.000178 | 160640/160678 | 0.5266 | 5.2032 | 14.29 ||\n",
      "val: {'recall': 0.997814, 'recall_grapheme': 0.996566, 'recall_vowel': 0.998904, 'recall_consonant': 0.999222, 'recall_word': 0.99699, 'acc_grapheme': 0.996913, 'acc_vowel': 0.998929, 'acc_consonant': 0.999228, 'acc_word': 0.996913, 'loss_grapheme': 0.014154, 'loss_vowel': 0.006299, 'loss_consonant': 0.004039, 'loss_word': 0.014068}\n",
      "   22 | 0.000169 | 160640/160678 | 6.6175 | 5.4540 | 14.25 ||\n",
      "val: {'recall': 0.997519, 'recall_grapheme': 0.996161, 'recall_vowel': 0.998926, 'recall_consonant': 0.998829, 'recall_word': 0.996913, 'acc_grapheme': 0.996489, 'acc_vowel': 0.998855, 'acc_consonant': 0.999004, 'acc_word': 0.996937, 'loss_grapheme': 0.01588, 'loss_vowel': 0.006491, 'loss_consonant': 0.004717, 'loss_word': 0.015166}\n",
      "   23 | 0.000159 | 160640/160678 | 11.8408 | 5.2594 | 14.29 |"
     ]
    },
    {
     "name": "stderr",
     "output_type": "stream",
     "text": [
      "\r",
      "  0%|          | 0/1255 [00:00<?, ?it/s]"
     ]
    },
    {
     "name": "stdout",
     "output_type": "stream",
     "text": [
      "\n",
      "val: {'recall': 0.998191, 'recall_grapheme': 0.99739, 'recall_vowel': 0.998808, 'recall_consonant': 0.999176, 'recall_word': 0.997629, 'acc_grapheme': 0.997435, 'acc_vowel': 0.999029, 'acc_consonant': 0.999228, 'acc_word': 0.997585, 'loss_grapheme': 0.011968, 'loss_vowel': 0.005496, 'loss_consonant': 0.004013, 'loss_word': 0.012078}\n",
      "SWA>>>:\n"
     ]
    },
    {
     "name": "stderr",
     "output_type": "stream",
     "text": [
      "100%|██████████| 1255/1255 [07:01<00:00,  2.82it/s]\n"
     ]
    },
    {
     "name": "stdout",
     "output_type": "stream",
     "text": [
      "\n",
      "val: {'recall': 0.998661, 'recall_grapheme': 0.998121, 'recall_vowel': 0.999056, 'recall_consonant': 0.999348, 'recall_word': 0.998177, 'acc_grapheme': 0.998157, 'acc_vowel': 0.999228, 'acc_consonant': 0.999452, 'acc_word': 0.998157, 'loss_grapheme': 0.008959, 'loss_vowel': 0.00458, 'loss_consonant': 0.002757, 'loss_word': 0.009929}\n",
      "   24 | 0.000150 | 160640/160678 | 14.0821 | 5.3786 | 14.27 |\n",
      "val: {'recall': 0.997268, 'recall_grapheme': 0.996295, 'recall_vowel': 0.998629, 'recall_consonant': 0.997851, 'recall_word': 0.99665, 'acc_grapheme': 0.996639, 'acc_vowel': 0.998755, 'acc_consonant': 0.999029, 'acc_word': 0.996589, 'loss_grapheme': 0.014659, 'loss_vowel': 0.006548, 'loss_consonant': 0.004481, 'loss_word': 0.014718}\n",
      "   25 | 0.000141 | 160640/160678 | 0.3014 | 5.2575 | 14.28 ||\n",
      "val: {'recall': 0.997658, 'recall_grapheme': 0.996281, 'recall_vowel': 0.999041, 'recall_consonant': 0.999029, 'recall_word': 0.997048, 'acc_grapheme': 0.996913, 'acc_vowel': 0.999029, 'acc_consonant': 0.999129, 'acc_word': 0.996937, 'loss_grapheme': 0.01333, 'loss_vowel': 0.005458, 'loss_consonant': 0.003765, 'loss_word': 0.013381}\n",
      "   26 | 0.000131 | 160640/160678 | 5.3747 | 5.2703 | 14.30 ||"
     ]
    },
    {
     "name": "stderr",
     "output_type": "stream",
     "text": [
      "\r",
      "  0%|          | 0/1255 [00:00<?, ?it/s]"
     ]
    },
    {
     "name": "stdout",
     "output_type": "stream",
     "text": [
      "\n",
      "val: {'recall': 0.997941, 'recall_grapheme': 0.996887, 'recall_vowel': 0.998789, 'recall_consonant': 0.999201, 'recall_word': 0.997053, 'acc_grapheme': 0.996913, 'acc_vowel': 0.99883, 'acc_consonant': 0.999153, 'acc_word': 0.996987, 'loss_grapheme': 0.01497, 'loss_vowel': 0.006762, 'loss_consonant': 0.004143, 'loss_word': 0.01535}\n",
      "SWA>>>:\n"
     ]
    },
    {
     "name": "stderr",
     "output_type": "stream",
     "text": [
      "100%|██████████| 1255/1255 [07:04<00:00,  2.83it/s]\n"
     ]
    },
    {
     "name": "stdout",
     "output_type": "stream",
     "text": [
      "\n",
      "val: {'recall': 0.99866, 'recall_grapheme': 0.998121, 'recall_vowel': 0.999084, 'recall_consonant': 0.999314, 'recall_word': 0.998124, 'acc_grapheme': 0.998157, 'acc_vowel': 0.999253, 'acc_consonant': 0.999427, 'acc_word': 0.998108, 'loss_grapheme': 0.00894, 'loss_vowel': 0.00458, 'loss_consonant': 0.002743, 'loss_word': 0.009877}\n",
      "   27 | 0.000122 | 160640/160678 | 0.6731 | 5.1430 | 14.33 ||\n",
      "val: {'recall': 0.997824, 'recall_grapheme': 0.997132, 'recall_vowel': 0.998871, 'recall_consonant': 0.998161, 'recall_word': 0.997137, 'acc_grapheme': 0.997186, 'acc_vowel': 0.998954, 'acc_consonant': 0.999228, 'acc_word': 0.997037, 'loss_grapheme': 0.013161, 'loss_vowel': 0.006296, 'loss_consonant': 0.00392, 'loss_word': 0.013682}\n",
      "   28 | 0.000113 | 160640/160678 | 3.4613 | 5.3021 | 14.31 ||\n",
      "val: {'recall': 0.9978, 'recall_grapheme': 0.997051, 'recall_vowel': 0.998997, 'recall_consonant': 0.998102, 'recall_word': 0.997122, 'acc_grapheme': 0.997186, 'acc_vowel': 0.999029, 'acc_consonant': 0.999253, 'acc_word': 0.996987, 'loss_grapheme': 0.013445, 'loss_vowel': 0.006117, 'loss_consonant': 0.003918, 'loss_word': 0.014099}\n",
      "   29 | 0.000104 | 160640/160678 | 6.6582 | 5.3433 | 14.28 ||"
     ]
    },
    {
     "name": "stderr",
     "output_type": "stream",
     "text": [
      "\r",
      "  0%|          | 0/1255 [00:00<?, ?it/s]"
     ]
    },
    {
     "name": "stdout",
     "output_type": "stream",
     "text": [
      "\n",
      "val: {'recall': 0.99815, 'recall_grapheme': 0.997119, 'recall_vowel': 0.998991, 'recall_consonant': 0.999368, 'recall_word': 0.997346, 'acc_grapheme': 0.997062, 'acc_vowel': 0.999104, 'acc_consonant': 0.999353, 'acc_word': 0.997236, 'loss_grapheme': 0.013996, 'loss_vowel': 0.006047, 'loss_consonant': 0.003697, 'loss_word': 0.014135}\n",
      "SWA>>>:\n"
     ]
    },
    {
     "name": "stderr",
     "output_type": "stream",
     "text": [
      "100%|██████████| 1255/1255 [07:02<00:00,  2.89it/s]\n"
     ]
    },
    {
     "name": "stdout",
     "output_type": "stream",
     "text": [
      "\n",
      "val: {'recall': 0.998684, 'recall_grapheme': 0.998114, 'recall_vowel': 0.999195, 'recall_consonant': 0.999314, 'recall_word': 0.998174, 'acc_grapheme': 0.998133, 'acc_vowel': 0.999278, 'acc_consonant': 0.999427, 'acc_word': 0.998157, 'loss_grapheme': 0.008877, 'loss_vowel': 0.004577, 'loss_consonant': 0.002729, 'loss_word': 0.009808}\n",
      "   30 | 0.000095 | 160640/160678 | 0.5284 | 4.9906 | 14.30 ||\n",
      "val: {'recall': 0.998069, 'recall_grapheme': 0.997005, 'recall_vowel': 0.998973, 'recall_consonant': 0.999291, 'recall_word': 0.997226, 'acc_grapheme': 0.997286, 'acc_vowel': 0.999054, 'acc_consonant': 0.999353, 'acc_word': 0.997137, 'loss_grapheme': 0.012121, 'loss_vowel': 0.005826, 'loss_consonant': 0.003594, 'loss_word': 0.012926}\n",
      "   31 | 0.000086 | 160640/160678 | 7.2720 | 5.0306 | 14.36 ||\n",
      "val: {'recall': 0.998432, 'recall_grapheme': 0.997733, 'recall_vowel': 0.999009, 'recall_consonant': 0.999252, 'recall_word': 0.997442, 'acc_grapheme': 0.997684, 'acc_vowel': 0.999054, 'acc_consonant': 0.999278, 'acc_word': 0.997435, 'loss_grapheme': 0.011189, 'loss_vowel': 0.005824, 'loss_consonant': 0.003599, 'loss_word': 0.012382}\n",
      "###>>>>> saved ./model4-ckps/tf_efficientnet_b4/model4_eb4_fold2_380.pth\n",
      "   32 | 0.000078 | 160640/160678 | 6.9243 | 5.2205 | 14.34 ||"
     ]
    },
    {
     "name": "stderr",
     "output_type": "stream",
     "text": [
      "\r",
      "  0%|          | 0/1255 [00:00<?, ?it/s]"
     ]
    },
    {
     "name": "stdout",
     "output_type": "stream",
     "text": [
      "\n",
      "val: {'recall': 0.997701, 'recall_grapheme': 0.996908, 'recall_vowel': 0.9987, 'recall_consonant': 0.998286, 'recall_word': 0.996905, 'acc_grapheme': 0.996913, 'acc_vowel': 0.998805, 'acc_consonant': 0.999004, 'acc_word': 0.996888, 'loss_grapheme': 0.01527, 'loss_vowel': 0.006938, 'loss_consonant': 0.005066, 'loss_word': 0.015668}\n",
      "SWA>>>:\n"
     ]
    },
    {
     "name": "stderr",
     "output_type": "stream",
     "text": [
      "100%|██████████| 1255/1255 [07:02<00:00,  2.78it/s]\n"
     ]
    },
    {
     "name": "stdout",
     "output_type": "stream",
     "text": [
      "\n",
      "val: {'recall': 0.998675, 'recall_grapheme': 0.998098, 'recall_vowel': 0.999195, 'recall_consonant': 0.999308, 'recall_word': 0.998197, 'acc_grapheme': 0.998133, 'acc_vowel': 0.999278, 'acc_consonant': 0.999402, 'acc_word': 0.998182, 'loss_grapheme': 0.008812, 'loss_vowel': 0.004559, 'loss_consonant': 0.002725, 'loss_word': 0.009755}\n",
      "   33 | 0.000070 | 160640/160678 | 3.7949 | 5.3404 | 14.29 ||\n",
      "val: {'recall': 0.998445, 'recall_grapheme': 0.997878, 'recall_vowel': 0.998936, 'recall_consonant': 0.999086, 'recall_word': 0.997539, 'acc_grapheme': 0.997734, 'acc_vowel': 0.999004, 'acc_consonant': 0.999178, 'acc_word': 0.99751, 'loss_grapheme': 0.01196, 'loss_vowel': 0.00603, 'loss_consonant': 0.003903, 'loss_word': 0.012519}\n",
      "###>>>>> saved ./model4-ckps/tf_efficientnet_b4/model4_eb4_fold2_380.pth\n",
      "   34 | 0.000062 | 160640/160678 | 7.3520 | 5.2046 | 14.35 ||\n",
      "val: {'recall': 0.998023, 'recall_grapheme': 0.99711, 'recall_vowel': 0.998932, 'recall_consonant': 0.99894, 'recall_word': 0.997441, 'acc_grapheme': 0.997485, 'acc_vowel': 0.999079, 'acc_consonant': 0.999079, 'acc_word': 0.997386, 'loss_grapheme': 0.013284, 'loss_vowel': 0.0062, 'loss_consonant': 0.004625, 'loss_word': 0.014263}\n",
      "   35 | 0.000054 | 160640/160678 | 0.6106 | 5.0693 | 14.34 ||\n",
      "val: {'recall': 0.998612, 'recall_grapheme': 0.998045, 'recall_vowel': 0.999011, 'recall_consonant': 0.999348, 'recall_word': 0.997691, 'acc_grapheme': 0.997933, 'acc_vowel': 0.999104, 'acc_consonant': 0.999303, 'acc_word': 0.997635, 'loss_grapheme': 0.010642, 'loss_vowel': 0.005324, 'loss_consonant': 0.003365, 'loss_word': 0.01158}\n"
     ]
    },
    {
     "name": "stderr",
     "output_type": "stream",
     "text": [
      "\r",
      "  0%|          | 0/1255 [00:00<?, ?it/s]"
     ]
    },
    {
     "name": "stdout",
     "output_type": "stream",
     "text": [
      "###>>>>> saved ./model4-ckps/tf_efficientnet_b4/model4_eb4_fold2_380.pth\n",
      "SWA>>>:\n"
     ]
    },
    {
     "name": "stderr",
     "output_type": "stream",
     "text": [
      "100%|██████████| 1255/1255 [07:03<00:00,  2.86it/s]\n"
     ]
    },
    {
     "name": "stdout",
     "output_type": "stream",
     "text": [
      "\n",
      "val: {'recall': 0.998699, 'recall_grapheme': 0.998145, 'recall_vowel': 0.999195, 'recall_consonant': 0.999311, 'recall_word': 0.998223, 'acc_grapheme': 0.998157, 'acc_vowel': 0.999278, 'acc_consonant': 0.999402, 'acc_word': 0.998207, 'loss_grapheme': 0.00876, 'loss_vowel': 0.004544, 'loss_consonant': 0.002715, 'loss_word': 0.00971}\n",
      "###>>>>> saved ./model4-ckps/tf_efficientnet_b4/model4_eb4_fold2_380.pth_swa\n",
      "   36 | 0.000047 | 160640/160678 | 6.2847 | 4.9712 | 14.31 ||\n",
      "val: {'recall': 0.997978, 'recall_grapheme': 0.996977, 'recall_vowel': 0.998726, 'recall_consonant': 0.999232, 'recall_word': 0.997248, 'acc_grapheme': 0.997435, 'acc_vowel': 0.998929, 'acc_consonant': 0.999153, 'acc_word': 0.997186, 'loss_grapheme': 0.012675, 'loss_vowel': 0.006403, 'loss_consonant': 0.003889, 'loss_word': 0.013268}\n",
      "   37 | 0.000041 | 160640/160678 | 0.2475 | 4.9343 | 14.37 ||\n",
      "val: {'recall': 0.99854, 'recall_grapheme': 0.997905, 'recall_vowel': 0.999032, 'recall_consonant': 0.999316, 'recall_word': 0.997915, 'acc_grapheme': 0.997859, 'acc_vowel': 0.999054, 'acc_consonant': 0.999303, 'acc_word': 0.997859, 'loss_grapheme': 0.009788, 'loss_vowel': 0.005293, 'loss_consonant': 0.003164, 'loss_word': 0.010682}\n",
      "   38 | 0.000034 | 160640/160678 | 6.7270 | 5.0971 | 14.31 ||"
     ]
    },
    {
     "name": "stderr",
     "output_type": "stream",
     "text": [
      "\r",
      "  0%|          | 0/1255 [00:00<?, ?it/s]"
     ]
    },
    {
     "name": "stdout",
     "output_type": "stream",
     "text": [
      "\n",
      "val: {'recall': 0.998168, 'recall_grapheme': 0.997426, 'recall_vowel': 0.998948, 'recall_consonant': 0.998871, 'recall_word': 0.997451, 'acc_grapheme': 0.99751, 'acc_vowel': 0.999054, 'acc_consonant': 0.999129, 'acc_word': 0.997361, 'loss_grapheme': 0.01266, 'loss_vowel': 0.006071, 'loss_consonant': 0.003706, 'loss_word': 0.013156}\n",
      "SWA>>>:\n"
     ]
    },
    {
     "name": "stderr",
     "output_type": "stream",
     "text": [
      "100%|██████████| 1255/1255 [07:07<00:00,  2.84it/s]\n"
     ]
    },
    {
     "name": "stdout",
     "output_type": "stream",
     "text": [
      "\n",
      "val: {'recall': 0.998674, 'recall_grapheme': 0.998093, 'recall_vowel': 0.999195, 'recall_consonant': 0.999317, 'recall_word': 0.998161, 'acc_grapheme': 0.998108, 'acc_vowel': 0.999278, 'acc_consonant': 0.999427, 'acc_word': 0.998133, 'loss_grapheme': 0.008754, 'loss_vowel': 0.004538, 'loss_consonant': 0.002696, 'loss_word': 0.009696}\n",
      "   39 | 0.000029 | 160640/160678 | 6.3169 | 4.9090 | 14.37 ||\n",
      "val: {'recall': 0.99814, 'recall_grapheme': 0.997195, 'recall_vowel': 0.998929, 'recall_consonant': 0.999241, 'recall_word': 0.99731, 'acc_grapheme': 0.997386, 'acc_vowel': 0.999079, 'acc_consonant': 0.999203, 'acc_word': 0.997211, 'loss_grapheme': 0.012578, 'loss_vowel': 0.006002, 'loss_consonant': 0.004154, 'loss_word': 0.013199}\n",
      "   40 | 0.000023 | 160640/160678 | 5.1075 | 5.0208 | 14.37 ||\n",
      "val: {'recall': 0.998635, 'recall_grapheme': 0.998031, 'recall_vowel': 0.999094, 'recall_consonant': 0.999381, 'recall_word': 0.99789, 'acc_grapheme': 0.998008, 'acc_vowel': 0.999178, 'acc_consonant': 0.999303, 'acc_word': 0.997809, 'loss_grapheme': 0.010964, 'loss_vowel': 0.005378, 'loss_consonant': 0.003544, 'loss_word': 0.011642}\n",
      "###>>>>> saved ./model4-ckps/tf_efficientnet_b4/model4_eb4_fold2_380.pth\n",
      "   41 | 0.000019 | 160640/160678 | 0.0289 | 5.0058 | 14.31 ||"
     ]
    },
    {
     "name": "stderr",
     "output_type": "stream",
     "text": [
      "\r",
      "  0%|          | 0/1255 [00:00<?, ?it/s]"
     ]
    },
    {
     "name": "stdout",
     "output_type": "stream",
     "text": [
      "\n",
      "val: {'recall': 0.998493, 'recall_grapheme': 0.997845, 'recall_vowel': 0.99894, 'recall_consonant': 0.999342, 'recall_word': 0.997745, 'acc_grapheme': 0.997784, 'acc_vowel': 0.999104, 'acc_consonant': 0.999253, 'acc_word': 0.997684, 'loss_grapheme': 0.011661, 'loss_vowel': 0.005512, 'loss_consonant': 0.00357, 'loss_word': 0.012132}\n",
      "SWA>>>:\n"
     ]
    },
    {
     "name": "stderr",
     "output_type": "stream",
     "text": [
      "100%|██████████| 1255/1255 [07:06<00:00,  2.88it/s]\n"
     ]
    },
    {
     "name": "stdout",
     "output_type": "stream",
     "text": [
      "\n",
      "val: {'recall': 0.998681, 'recall_grapheme': 0.998093, 'recall_vowel': 0.999195, 'recall_consonant': 0.999345, 'recall_word': 0.998133, 'acc_grapheme': 0.998108, 'acc_vowel': 0.999278, 'acc_consonant': 0.999427, 'acc_word': 0.998108, 'loss_grapheme': 0.008722, 'loss_vowel': 0.004525, 'loss_consonant': 0.002692, 'loss_word': 0.009677}\n",
      "   42 | 0.000014 | 160640/160678 | 0.2194 | 5.0817 | 14.32 ||\n",
      "val: {'recall': 0.998551, 'recall_grapheme': 0.997912, 'recall_vowel': 0.998945, 'recall_consonant': 0.999437, 'recall_word': 0.997717, 'acc_grapheme': 0.997834, 'acc_vowel': 0.999104, 'acc_consonant': 0.999303, 'acc_word': 0.997635, 'loss_grapheme': 0.011008, 'loss_vowel': 0.005124, 'loss_consonant': 0.003353, 'loss_word': 0.011561}\n",
      "   43 | 0.000011 | 160640/160678 | 0.0357 | 5.0163 | 14.37 ||\n",
      "val: {'recall': 0.998549, 'recall_grapheme': 0.997832, 'recall_vowel': 0.99909, 'recall_consonant': 0.999442, 'recall_word': 0.997813, 'acc_grapheme': 0.997834, 'acc_vowel': 0.999178, 'acc_consonant': 0.999353, 'acc_word': 0.997734, 'loss_grapheme': 0.010254, 'loss_vowel': 0.004992, 'loss_consonant': 0.003374, 'loss_word': 0.011133}\n",
      "   44 | 0.000007 | 160640/160678 | 11.0167 | 5.0585 | 14.32 |"
     ]
    },
    {
     "name": "stderr",
     "output_type": "stream",
     "text": [
      "\r",
      "  0%|          | 0/1255 [00:00<?, ?it/s]"
     ]
    },
    {
     "name": "stdout",
     "output_type": "stream",
     "text": [
      "\n",
      "val: {'recall': 0.998461, 'recall_grapheme': 0.997827, 'recall_vowel': 0.998904, 'recall_consonant': 0.999286, 'recall_word': 0.997761, 'acc_grapheme': 0.997734, 'acc_vowel': 0.999029, 'acc_consonant': 0.999278, 'acc_word': 0.997684, 'loss_grapheme': 0.011131, 'loss_vowel': 0.005547, 'loss_consonant': 0.003633, 'loss_word': 0.011709}\n",
      "SWA>>>:\n"
     ]
    },
    {
     "name": "stderr",
     "output_type": "stream",
     "text": [
      "100%|██████████| 1255/1255 [07:06<00:00,  2.82it/s]\n"
     ]
    },
    {
     "name": "stdout",
     "output_type": "stream",
     "text": [
      "\n",
      "val: {'recall': 0.998684, 'recall_grapheme': 0.998103, 'recall_vowel': 0.999184, 'recall_consonant': 0.999345, 'recall_word': 0.998161, 'acc_grapheme': 0.998133, 'acc_vowel': 0.999253, 'acc_consonant': 0.999427, 'acc_word': 0.998133, 'loss_grapheme': 0.00873, 'loss_vowel': 0.004539, 'loss_consonant': 0.002699, 'loss_word': 0.009694}\n",
      "   45 | 0.000005 | 160640/160678 | 7.3381 | 5.2069 | 14.30 ||\n",
      "val: {'recall': 0.998233, 'recall_grapheme': 0.99732, 'recall_vowel': 0.998974, 'recall_consonant': 0.999317, 'recall_word': 0.99744, 'acc_grapheme': 0.997386, 'acc_vowel': 0.999029, 'acc_consonant': 0.999253, 'acc_word': 0.997336, 'loss_grapheme': 0.01287, 'loss_vowel': 0.00583, 'loss_consonant': 0.003914, 'loss_word': 0.013365}\n",
      "   46 | 0.000005 | 003840/160678 | 6.0223 | 5.7321 | 0.39 ||"
     ]
    },
    {
     "ename": "KeyboardInterrupt",
     "evalue": "",
     "output_type": "error",
     "traceback": [
      "\u001b[0;31m---------------------------------------------------------------------------\u001b[0m",
      "\u001b[0;31mKeyboardInterrupt\u001b[0m                         Traceback (most recent call last)",
      "\u001b[0;32m<ipython-input-37-aad596905035>\u001b[0m in \u001b[0;36m<module>\u001b[0;34m\u001b[0m\n\u001b[0;32m----> 1\u001b[0;31m \u001b[0mtrain\u001b[0m\u001b[0;34m(\u001b[0m\u001b[0margs\u001b[0m\u001b[0;34m)\u001b[0m\u001b[0;34m\u001b[0m\u001b[0;34m\u001b[0m\u001b[0m\n\u001b[0m",
      "\u001b[0;32m<ipython-input-32-73207cee3d84>\u001b[0m in \u001b[0;36mtrain\u001b[0;34m(args)\u001b[0m\n\u001b[1;32m     63\u001b[0m         \u001b[0;32mfor\u001b[0m \u001b[0mepoch\u001b[0m \u001b[0;32min\u001b[0m \u001b[0mrange\u001b[0m\u001b[0;34m(\u001b[0m\u001b[0margs\u001b[0m\u001b[0;34m.\u001b[0m\u001b[0mstart_epoch\u001b[0m\u001b[0;34m,\u001b[0m \u001b[0margs\u001b[0m\u001b[0;34m.\u001b[0m\u001b[0mnum_epochs\u001b[0m\u001b[0;34m)\u001b[0m\u001b[0;34m:\u001b[0m\u001b[0;34m\u001b[0m\u001b[0;34m\u001b[0m\u001b[0m\n\u001b[1;32m     64\u001b[0m             \u001b[0mgrid\u001b[0m\u001b[0;34m.\u001b[0m\u001b[0mset_prob\u001b[0m\u001b[0;34m(\u001b[0m\u001b[0mepoch\u001b[0m\u001b[0;34m,\u001b[0m \u001b[0margs\u001b[0m\u001b[0;34m.\u001b[0m\u001b[0mst_epochs\u001b[0m\u001b[0;34m)\u001b[0m\u001b[0;34m\u001b[0m\u001b[0;34m\u001b[0m\u001b[0m\n\u001b[0;32m---> 65\u001b[0;31m             \u001b[0mtrain_epoch\u001b[0m\u001b[0;34m(\u001b[0m\u001b[0margs\u001b[0m\u001b[0;34m,\u001b[0m \u001b[0mmodel\u001b[0m\u001b[0;34m,\u001b[0m \u001b[0mtrain_loader\u001b[0m\u001b[0;34m,\u001b[0m \u001b[0mepoch\u001b[0m\u001b[0;34m,\u001b[0m \u001b[0moptimizer\u001b[0m\u001b[0;34m,\u001b[0m \u001b[0mlr_scheduler\u001b[0m\u001b[0;34m,\u001b[0m \u001b[0mgrid\u001b[0m\u001b[0;34m)\u001b[0m\u001b[0;34m\u001b[0m\u001b[0;34m\u001b[0m\u001b[0m\n\u001b[0m\u001b[1;32m     66\u001b[0m             \u001b[0mvalidate_and_save\u001b[0m\u001b[0;34m(\u001b[0m\u001b[0mmodel\u001b[0m\u001b[0;34m,\u001b[0m \u001b[0mmodel_file\u001b[0m\u001b[0;34m,\u001b[0m \u001b[0mval_loader\u001b[0m\u001b[0;34m,\u001b[0m \u001b[0msave\u001b[0m\u001b[0;34m=\u001b[0m\u001b[0;32mTrue\u001b[0m\u001b[0;34m)\u001b[0m\u001b[0;34m\u001b[0m\u001b[0;34m\u001b[0m\u001b[0m\n\u001b[1;32m     67\u001b[0m \u001b[0;34m\u001b[0m\u001b[0m\n",
      "\u001b[0;32m<ipython-input-31-16e5a4d95497>\u001b[0m in \u001b[0;36mtrain_epoch\u001b[0;34m(args, model, train_loader, epoch, optimizer, lr_scheduler, grid)\u001b[0m\n\u001b[1;32m     36\u001b[0m         \u001b[0;32melse\u001b[0m\u001b[0;34m:\u001b[0m\u001b[0;34m\u001b[0m\u001b[0;34m\u001b[0m\u001b[0m\n\u001b[1;32m     37\u001b[0m             \u001b[0morig_img\u001b[0m\u001b[0;34m,\u001b[0m \u001b[0mtargets\u001b[0m \u001b[0;34m=\u001b[0m \u001b[0mmixup\u001b[0m\u001b[0;34m(\u001b[0m\u001b[0morig_img\u001b[0m\u001b[0;34m,\u001b[0m \u001b[0mtargets\u001b[0m\u001b[0;34m)\u001b[0m\u001b[0;34m\u001b[0m\u001b[0;34m\u001b[0m\u001b[0m\n\u001b[0;32m---> 38\u001b[0;31m             \u001b[0moutputs\u001b[0m\u001b[0;34m,\u001b[0m \u001b[0moutputs_aux1\u001b[0m\u001b[0;34m,\u001b[0m \u001b[0moutputs_aux2\u001b[0m \u001b[0;34m=\u001b[0m \u001b[0mmodel\u001b[0m\u001b[0;34m(\u001b[0m\u001b[0morig_img\u001b[0m\u001b[0;34m)\u001b[0m\u001b[0;34m\u001b[0m\u001b[0;34m\u001b[0m\u001b[0m\n\u001b[0m\u001b[1;32m     39\u001b[0m             \u001b[0mloss_primary\u001b[0m \u001b[0;34m=\u001b[0m \u001b[0mmixup_criterion\u001b[0m\u001b[0;34m(\u001b[0m\u001b[0moutputs\u001b[0m\u001b[0;34m,\u001b[0m \u001b[0mtargets\u001b[0m\u001b[0;34m)\u001b[0m\u001b[0;34m\u001b[0m\u001b[0;34m\u001b[0m\u001b[0m\n\u001b[1;32m     40\u001b[0m             \u001b[0mloss_aux1\u001b[0m \u001b[0;34m=\u001b[0m \u001b[0mmixup_criterion\u001b[0m\u001b[0;34m(\u001b[0m\u001b[0moutputs_aux1\u001b[0m\u001b[0;34m,\u001b[0m \u001b[0mtargets\u001b[0m\u001b[0;34m)\u001b[0m\u001b[0;34m\u001b[0m\u001b[0;34m\u001b[0m\u001b[0m\n",
      "\u001b[0;32m~/anaconda3/lib/python3.7/site-packages/torch/nn/modules/module.py\u001b[0m in \u001b[0;36m__call__\u001b[0;34m(self, *input, **kwargs)\u001b[0m\n\u001b[1;32m    545\u001b[0m             \u001b[0mresult\u001b[0m \u001b[0;34m=\u001b[0m \u001b[0mself\u001b[0m\u001b[0;34m.\u001b[0m\u001b[0m_slow_forward\u001b[0m\u001b[0;34m(\u001b[0m\u001b[0;34m*\u001b[0m\u001b[0minput\u001b[0m\u001b[0;34m,\u001b[0m \u001b[0;34m**\u001b[0m\u001b[0mkwargs\u001b[0m\u001b[0;34m)\u001b[0m\u001b[0;34m\u001b[0m\u001b[0;34m\u001b[0m\u001b[0m\n\u001b[1;32m    546\u001b[0m         \u001b[0;32melse\u001b[0m\u001b[0;34m:\u001b[0m\u001b[0;34m\u001b[0m\u001b[0;34m\u001b[0m\u001b[0m\n\u001b[0;32m--> 547\u001b[0;31m             \u001b[0mresult\u001b[0m \u001b[0;34m=\u001b[0m \u001b[0mself\u001b[0m\u001b[0;34m.\u001b[0m\u001b[0mforward\u001b[0m\u001b[0;34m(\u001b[0m\u001b[0;34m*\u001b[0m\u001b[0minput\u001b[0m\u001b[0;34m,\u001b[0m \u001b[0;34m**\u001b[0m\u001b[0mkwargs\u001b[0m\u001b[0;34m)\u001b[0m\u001b[0;34m\u001b[0m\u001b[0;34m\u001b[0m\u001b[0m\n\u001b[0m\u001b[1;32m    548\u001b[0m         \u001b[0;32mfor\u001b[0m \u001b[0mhook\u001b[0m \u001b[0;32min\u001b[0m \u001b[0mself\u001b[0m\u001b[0;34m.\u001b[0m\u001b[0m_forward_hooks\u001b[0m\u001b[0;34m.\u001b[0m\u001b[0mvalues\u001b[0m\u001b[0;34m(\u001b[0m\u001b[0;34m)\u001b[0m\u001b[0;34m:\u001b[0m\u001b[0;34m\u001b[0m\u001b[0;34m\u001b[0m\u001b[0m\n\u001b[1;32m    549\u001b[0m             \u001b[0mhook_result\u001b[0m \u001b[0;34m=\u001b[0m \u001b[0mhook\u001b[0m\u001b[0;34m(\u001b[0m\u001b[0mself\u001b[0m\u001b[0;34m,\u001b[0m \u001b[0minput\u001b[0m\u001b[0;34m,\u001b[0m \u001b[0mresult\u001b[0m\u001b[0;34m)\u001b[0m\u001b[0;34m\u001b[0m\u001b[0;34m\u001b[0m\u001b[0m\n",
      "\u001b[0;32m~/anaconda3/lib/python3.7/site-packages/torch/nn/parallel/data_parallel.py\u001b[0m in \u001b[0;36mforward\u001b[0;34m(self, *inputs, **kwargs)\u001b[0m\n\u001b[1;32m    149\u001b[0m         \u001b[0;32mif\u001b[0m \u001b[0mlen\u001b[0m\u001b[0;34m(\u001b[0m\u001b[0mself\u001b[0m\u001b[0;34m.\u001b[0m\u001b[0mdevice_ids\u001b[0m\u001b[0;34m)\u001b[0m \u001b[0;34m==\u001b[0m \u001b[0;36m1\u001b[0m\u001b[0;34m:\u001b[0m\u001b[0;34m\u001b[0m\u001b[0;34m\u001b[0m\u001b[0m\n\u001b[1;32m    150\u001b[0m             \u001b[0;32mreturn\u001b[0m \u001b[0mself\u001b[0m\u001b[0;34m.\u001b[0m\u001b[0mmodule\u001b[0m\u001b[0;34m(\u001b[0m\u001b[0;34m*\u001b[0m\u001b[0minputs\u001b[0m\u001b[0;34m[\u001b[0m\u001b[0;36m0\u001b[0m\u001b[0;34m]\u001b[0m\u001b[0;34m,\u001b[0m \u001b[0;34m**\u001b[0m\u001b[0mkwargs\u001b[0m\u001b[0;34m[\u001b[0m\u001b[0;36m0\u001b[0m\u001b[0;34m]\u001b[0m\u001b[0;34m)\u001b[0m\u001b[0;34m\u001b[0m\u001b[0;34m\u001b[0m\u001b[0m\n\u001b[0;32m--> 151\u001b[0;31m         \u001b[0mreplicas\u001b[0m \u001b[0;34m=\u001b[0m \u001b[0mself\u001b[0m\u001b[0;34m.\u001b[0m\u001b[0mreplicate\u001b[0m\u001b[0;34m(\u001b[0m\u001b[0mself\u001b[0m\u001b[0;34m.\u001b[0m\u001b[0mmodule\u001b[0m\u001b[0;34m,\u001b[0m \u001b[0mself\u001b[0m\u001b[0;34m.\u001b[0m\u001b[0mdevice_ids\u001b[0m\u001b[0;34m[\u001b[0m\u001b[0;34m:\u001b[0m\u001b[0mlen\u001b[0m\u001b[0;34m(\u001b[0m\u001b[0minputs\u001b[0m\u001b[0;34m)\u001b[0m\u001b[0;34m]\u001b[0m\u001b[0;34m)\u001b[0m\u001b[0;34m\u001b[0m\u001b[0;34m\u001b[0m\u001b[0m\n\u001b[0m\u001b[1;32m    152\u001b[0m         \u001b[0moutputs\u001b[0m \u001b[0;34m=\u001b[0m \u001b[0mself\u001b[0m\u001b[0;34m.\u001b[0m\u001b[0mparallel_apply\u001b[0m\u001b[0;34m(\u001b[0m\u001b[0mreplicas\u001b[0m\u001b[0;34m,\u001b[0m \u001b[0minputs\u001b[0m\u001b[0;34m,\u001b[0m \u001b[0mkwargs\u001b[0m\u001b[0;34m)\u001b[0m\u001b[0;34m\u001b[0m\u001b[0;34m\u001b[0m\u001b[0m\n\u001b[1;32m    153\u001b[0m         \u001b[0;32mreturn\u001b[0m \u001b[0mself\u001b[0m\u001b[0;34m.\u001b[0m\u001b[0mgather\u001b[0m\u001b[0;34m(\u001b[0m\u001b[0moutputs\u001b[0m\u001b[0;34m,\u001b[0m \u001b[0mself\u001b[0m\u001b[0;34m.\u001b[0m\u001b[0moutput_device\u001b[0m\u001b[0;34m)\u001b[0m\u001b[0;34m\u001b[0m\u001b[0;34m\u001b[0m\u001b[0m\n",
      "\u001b[0;32m~/anaconda3/lib/python3.7/site-packages/torch/nn/parallel/data_parallel.py\u001b[0m in \u001b[0;36mreplicate\u001b[0;34m(self, module, device_ids)\u001b[0m\n\u001b[1;32m    154\u001b[0m \u001b[0;34m\u001b[0m\u001b[0m\n\u001b[1;32m    155\u001b[0m     \u001b[0;32mdef\u001b[0m \u001b[0mreplicate\u001b[0m\u001b[0;34m(\u001b[0m\u001b[0mself\u001b[0m\u001b[0;34m,\u001b[0m \u001b[0mmodule\u001b[0m\u001b[0;34m,\u001b[0m \u001b[0mdevice_ids\u001b[0m\u001b[0;34m)\u001b[0m\u001b[0;34m:\u001b[0m\u001b[0;34m\u001b[0m\u001b[0;34m\u001b[0m\u001b[0m\n\u001b[0;32m--> 156\u001b[0;31m         \u001b[0;32mreturn\u001b[0m \u001b[0mreplicate\u001b[0m\u001b[0;34m(\u001b[0m\u001b[0mmodule\u001b[0m\u001b[0;34m,\u001b[0m \u001b[0mdevice_ids\u001b[0m\u001b[0;34m,\u001b[0m \u001b[0;32mnot\u001b[0m \u001b[0mtorch\u001b[0m\u001b[0;34m.\u001b[0m\u001b[0mis_grad_enabled\u001b[0m\u001b[0;34m(\u001b[0m\u001b[0;34m)\u001b[0m\u001b[0;34m)\u001b[0m\u001b[0;34m\u001b[0m\u001b[0;34m\u001b[0m\u001b[0m\n\u001b[0m\u001b[1;32m    157\u001b[0m \u001b[0;34m\u001b[0m\u001b[0m\n\u001b[1;32m    158\u001b[0m     \u001b[0;32mdef\u001b[0m \u001b[0mscatter\u001b[0m\u001b[0;34m(\u001b[0m\u001b[0mself\u001b[0m\u001b[0;34m,\u001b[0m \u001b[0minputs\u001b[0m\u001b[0;34m,\u001b[0m \u001b[0mkwargs\u001b[0m\u001b[0;34m,\u001b[0m \u001b[0mdevice_ids\u001b[0m\u001b[0;34m)\u001b[0m\u001b[0;34m:\u001b[0m\u001b[0;34m\u001b[0m\u001b[0;34m\u001b[0m\u001b[0m\n",
      "\u001b[0;32m~/anaconda3/lib/python3.7/site-packages/torch/nn/parallel/replicate.py\u001b[0m in \u001b[0;36mreplicate\u001b[0;34m(network, devices, detach)\u001b[0m\n\u001b[1;32m    137\u001b[0m                 \u001b[0mreplica\u001b[0m \u001b[0;34m=\u001b[0m \u001b[0mmodule\u001b[0m\u001b[0;34m.\u001b[0m\u001b[0m__new__\u001b[0m\u001b[0;34m(\u001b[0m\u001b[0mtype\u001b[0m\u001b[0;34m(\u001b[0m\u001b[0mmodule\u001b[0m\u001b[0;34m)\u001b[0m\u001b[0;34m)\u001b[0m\u001b[0;34m\u001b[0m\u001b[0;34m\u001b[0m\u001b[0m\n\u001b[1;32m    138\u001b[0m                 \u001b[0mreplica\u001b[0m\u001b[0;34m.\u001b[0m\u001b[0m__dict__\u001b[0m \u001b[0;34m=\u001b[0m \u001b[0mmodule\u001b[0m\u001b[0;34m.\u001b[0m\u001b[0m__dict__\u001b[0m\u001b[0;34m.\u001b[0m\u001b[0mcopy\u001b[0m\u001b[0;34m(\u001b[0m\u001b[0;34m)\u001b[0m\u001b[0;34m\u001b[0m\u001b[0;34m\u001b[0m\u001b[0m\n\u001b[0;32m--> 139\u001b[0;31m                 \u001b[0mreplica\u001b[0m\u001b[0;34m.\u001b[0m\u001b[0m_parameters\u001b[0m \u001b[0;34m=\u001b[0m \u001b[0mreplica\u001b[0m\u001b[0;34m.\u001b[0m\u001b[0m_parameters\u001b[0m\u001b[0;34m.\u001b[0m\u001b[0mcopy\u001b[0m\u001b[0;34m(\u001b[0m\u001b[0;34m)\u001b[0m\u001b[0;34m\u001b[0m\u001b[0;34m\u001b[0m\u001b[0m\n\u001b[0m\u001b[1;32m    140\u001b[0m                 \u001b[0mreplica\u001b[0m\u001b[0;34m.\u001b[0m\u001b[0m_buffers\u001b[0m \u001b[0;34m=\u001b[0m \u001b[0mreplica\u001b[0m\u001b[0;34m.\u001b[0m\u001b[0m_buffers\u001b[0m\u001b[0;34m.\u001b[0m\u001b[0mcopy\u001b[0m\u001b[0;34m(\u001b[0m\u001b[0;34m)\u001b[0m\u001b[0;34m\u001b[0m\u001b[0;34m\u001b[0m\u001b[0m\n\u001b[1;32m    141\u001b[0m                 \u001b[0mreplica\u001b[0m\u001b[0;34m.\u001b[0m\u001b[0m_modules\u001b[0m \u001b[0;34m=\u001b[0m \u001b[0mreplica\u001b[0m\u001b[0;34m.\u001b[0m\u001b[0m_modules\u001b[0m\u001b[0;34m.\u001b[0m\u001b[0mcopy\u001b[0m\u001b[0;34m(\u001b[0m\u001b[0;34m)\u001b[0m\u001b[0;34m\u001b[0m\u001b[0;34m\u001b[0m\u001b[0m\n",
      "\u001b[0;32m~/anaconda3/lib/python3.7/site-packages/torch/nn/modules/module.py\u001b[0m in \u001b[0;36m__setattr__\u001b[0;34m(self, name, value)\u001b[0m\n\u001b[1;32m    611\u001b[0m             \u001b[0mself\u001b[0m\u001b[0;34m.\u001b[0m\u001b[0mregister_parameter\u001b[0m\u001b[0;34m(\u001b[0m\u001b[0mname\u001b[0m\u001b[0;34m,\u001b[0m \u001b[0mvalue\u001b[0m\u001b[0;34m)\u001b[0m\u001b[0;34m\u001b[0m\u001b[0;34m\u001b[0m\u001b[0m\n\u001b[1;32m    612\u001b[0m         \u001b[0;32melse\u001b[0m\u001b[0;34m:\u001b[0m\u001b[0;34m\u001b[0m\u001b[0;34m\u001b[0m\u001b[0m\n\u001b[0;32m--> 613\u001b[0;31m             \u001b[0mmodules\u001b[0m \u001b[0;34m=\u001b[0m \u001b[0mself\u001b[0m\u001b[0;34m.\u001b[0m\u001b[0m__dict__\u001b[0m\u001b[0;34m.\u001b[0m\u001b[0mget\u001b[0m\u001b[0;34m(\u001b[0m\u001b[0;34m'_modules'\u001b[0m\u001b[0;34m)\u001b[0m\u001b[0;34m\u001b[0m\u001b[0;34m\u001b[0m\u001b[0m\n\u001b[0m\u001b[1;32m    614\u001b[0m             \u001b[0;32mif\u001b[0m \u001b[0misinstance\u001b[0m\u001b[0;34m(\u001b[0m\u001b[0mvalue\u001b[0m\u001b[0;34m,\u001b[0m \u001b[0mModule\u001b[0m\u001b[0;34m)\u001b[0m\u001b[0;34m:\u001b[0m\u001b[0;34m\u001b[0m\u001b[0;34m\u001b[0m\u001b[0m\n\u001b[1;32m    615\u001b[0m                 \u001b[0;32mif\u001b[0m \u001b[0mmodules\u001b[0m \u001b[0;32mis\u001b[0m \u001b[0;32mNone\u001b[0m\u001b[0;34m:\u001b[0m\u001b[0;34m\u001b[0m\u001b[0;34m\u001b[0m\u001b[0m\n",
      "\u001b[0;31mKeyboardInterrupt\u001b[0m: "
     ]
    }
   ],
   "source": [
    "train(args)"
   ]
  },
  {
   "cell_type": "code",
   "execution_count": null,
   "metadata": {},
   "outputs": [],
   "source": []
  },
  {
   "cell_type": "code",
   "execution_count": 38,
   "metadata": {},
   "outputs": [
    {
     "name": "stdout",
     "output_type": "stream",
     "text": [
      "model file: ./model4-ckps/tf_efficientnet_b4/model4_eb4_fold2_380.pth, exist: True\n",
      "loading ./model4-ckps/tf_efficientnet_b4/model4_eb4_fold2_380.pth...\n",
      "model file: ./model4-ckps/tf_efficientnet_b4/model4_eb4_fold2_380.pth_swa, exist: True\n",
      "loading ./model4-ckps/tf_efficientnet_b4/model4_eb4_fold2_380.pth_swa...\n",
      "\n",
      "val: {'recall': 0.998268, 'recall_grapheme': 0.997585, 'recall_vowel': 0.998839, 'recall_consonant': 0.999061, 'recall_word': 0.997331, 'acc_grapheme': 0.99746, 'acc_vowel': 0.999104, 'acc_consonant': 0.999228, 'acc_word': 0.997286, 'loss_grapheme': 0.012183, 'loss_vowel': 0.005558, 'loss_consonant': 0.0036, 'loss_word': 0.012152}\n",
      "\n",
      "val: {'recall': 0.99858, 'recall_grapheme': 0.997991, 'recall_vowel': 0.999056, 'recall_consonant': 0.99928, 'recall_word': 0.997955, 'acc_grapheme': 0.998008, 'acc_vowel': 0.999228, 'acc_consonant': 0.999402, 'acc_word': 0.997933, 'loss_grapheme': 0.009319, 'loss_vowel': 0.004726, 'loss_consonant': 0.002979, 'loss_word': 0.010399}\n",
      "CYCLE: 1\n",
      "   14 | 0.000238 | 160640/160678 | 0.3655 | 5.2751 | 14.41 ||"
     ]
    },
    {
     "name": "stderr",
     "output_type": "stream",
     "text": [
      "\r",
      "  0%|          | 0/1255 [00:00<?, ?it/s]"
     ]
    },
    {
     "name": "stdout",
     "output_type": "stream",
     "text": [
      "\n",
      "val: {'recall': 0.997629, 'recall_grapheme': 0.996466, 'recall_vowel': 0.998614, 'recall_consonant': 0.998971, 'recall_word': 0.996339, 'acc_grapheme': 0.996564, 'acc_vowel': 0.998755, 'acc_consonant': 0.999029, 'acc_word': 0.99629, 'loss_grapheme': 0.015955, 'loss_vowel': 0.006842, 'loss_consonant': 0.004633, 'loss_word': 0.015611}\n",
      "SWA>>>:\n"
     ]
    },
    {
     "name": "stderr",
     "output_type": "stream",
     "text": [
      "100%|██████████| 1255/1255 [07:19<00:00,  2.87it/s]\n"
     ]
    },
    {
     "name": "stdout",
     "output_type": "stream",
     "text": [
      "\n",
      "val: {'recall': 0.998625, 'recall_grapheme': 0.998087, 'recall_vowel': 0.999044, 'recall_consonant': 0.99928, 'recall_word': 0.997929, 'acc_grapheme': 0.998033, 'acc_vowel': 0.999228, 'acc_consonant': 0.999402, 'acc_word': 0.997908, 'loss_grapheme': 0.009307, 'loss_vowel': 0.004739, 'loss_consonant': 0.002963, 'loss_word': 0.010409}\n",
      "###>>>>> saved ./model4-ckps/tf_efficientnet_b4/model4_eb4_fold2_380.pth_swa\n",
      "   15 | 0.000230 | 160640/160678 | 13.9007 | 5.8293 | 14.33 |\n",
      "val: {'recall': 0.997549, 'recall_grapheme': 0.996796, 'recall_vowel': 0.998846, 'recall_consonant': 0.997757, 'recall_word': 0.996716, 'acc_grapheme': 0.996788, 'acc_vowel': 0.998929, 'acc_consonant': 0.998805, 'acc_word': 0.996688, 'loss_grapheme': 0.017405, 'loss_vowel': 0.009103, 'loss_consonant': 0.007679, 'loss_word': 0.01575}\n",
      "   16 | 0.000222 | 160640/160678 | 3.7559 | 5.4858 | 14.41 ||\n",
      "val: {'recall': 0.996871, 'recall_grapheme': 0.996295, 'recall_vowel': 0.998393, 'recall_consonant': 0.9965, 'recall_word': 0.996573, 'acc_grapheme': 0.996738, 'acc_vowel': 0.998581, 'acc_consonant': 0.998755, 'acc_word': 0.996539, 'loss_grapheme': 0.015709, 'loss_vowel': 0.007324, 'loss_consonant': 0.005763, 'loss_word': 0.016023}\n",
      "   17 | 0.000214 | 160640/160678 | 13.6573 | 5.3129 | 14.45 |"
     ]
    },
    {
     "name": "stderr",
     "output_type": "stream",
     "text": [
      "\r",
      "  0%|          | 0/1255 [00:00<?, ?it/s]"
     ]
    },
    {
     "name": "stdout",
     "output_type": "stream",
     "text": [
      "\n",
      "val: {'recall': 0.997155, 'recall_grapheme': 0.995669, 'recall_vowel': 0.998639, 'recall_consonant': 0.998646, 'recall_word': 0.996465, 'acc_grapheme': 0.996514, 'acc_vowel': 0.99878, 'acc_consonant': 0.99878, 'acc_word': 0.99639, 'loss_grapheme': 0.015976, 'loss_vowel': 0.007017, 'loss_consonant': 0.005186, 'loss_word': 0.016498}\n",
      "SWA>>>:\n"
     ]
    },
    {
     "name": "stderr",
     "output_type": "stream",
     "text": [
      "100%|██████████| 1255/1255 [07:25<00:00,  2.91it/s]\n"
     ]
    },
    {
     "name": "stdout",
     "output_type": "stream",
     "text": [
      "\n",
      "val: {'recall': 0.99863, 'recall_grapheme': 0.998102, 'recall_vowel': 0.999068, 'recall_consonant': 0.99925, 'recall_word': 0.99799, 'acc_grapheme': 0.998083, 'acc_vowel': 0.999253, 'acc_consonant': 0.999378, 'acc_word': 0.997983, 'loss_grapheme': 0.009297, 'loss_vowel': 0.004718, 'loss_consonant': 0.002913, 'loss_word': 0.010393}\n",
      "###>>>>> saved ./model4-ckps/tf_efficientnet_b4/model4_eb4_fold2_380.pth_swa\n",
      "   18 | 0.000205 | 160640/160678 | 5.4541 | 5.4631 | 14.44 ||\n",
      "val: {'recall': 0.997027, 'recall_grapheme': 0.996197, 'recall_vowel': 0.998418, 'recall_consonant': 0.997297, 'recall_word': 0.996598, 'acc_grapheme': 0.996539, 'acc_vowel': 0.99873, 'acc_consonant': 0.998904, 'acc_word': 0.996614, 'loss_grapheme': 0.015664, 'loss_vowel': 0.006621, 'loss_consonant': 0.005375, 'loss_word': 0.01569}\n",
      "   19 | 0.000196 | 160640/160678 | 3.6985 | 5.3618 | 14.41 ||\n",
      "val: {'recall': 0.996948, 'recall_grapheme': 0.996174, 'recall_vowel': 0.998897, 'recall_consonant': 0.996547, 'recall_word': 0.996601, 'acc_grapheme': 0.996365, 'acc_vowel': 0.998805, 'acc_consonant': 0.998904, 'acc_word': 0.996539, 'loss_grapheme': 0.017005, 'loss_vowel': 0.006997, 'loss_consonant': 0.005877, 'loss_word': 0.016452}\n",
      "   20 | 0.000194 | 039680/160678 | 10.4894 | 5.4113 | 3.61 |"
     ]
    },
    {
     "name": "stderr",
     "output_type": "stream",
     "text": [
      "IOPub message rate exceeded.\n",
      "The notebook server will temporarily stop sending output\n",
      "to the client in order to avoid crashing it.\n",
      "To change this limit, set the config variable\n",
      "`--NotebookApp.iopub_msg_rate_limit`.\n",
      "\n",
      "Current values:\n",
      "NotebookApp.iopub_msg_rate_limit=1000.0 (msgs/sec)\n",
      "NotebookApp.rate_limit_window=3.0 (secs)\n",
      "\n"
     ]
    },
    {
     "name": "stdout",
     "output_type": "stream",
     "text": [
      "   20 | 0.000187 | 160640/160678 | 11.2710 | 5.4096 | 14.47 |"
     ]
    },
    {
     "name": "stderr",
     "output_type": "stream",
     "text": [
      "\r",
      "  0%|          | 0/1255 [00:00<?, ?it/s]"
     ]
    },
    {
     "name": "stdout",
     "output_type": "stream",
     "text": [
      "\n",
      "val: {'recall': 0.998071, 'recall_grapheme': 0.997315, 'recall_vowel': 0.998682, 'recall_consonant': 0.998971, 'recall_word': 0.996768, 'acc_grapheme': 0.996962, 'acc_vowel': 0.998705, 'acc_consonant': 0.998929, 'acc_word': 0.996713, 'loss_grapheme': 0.015383, 'loss_vowel': 0.007967, 'loss_consonant': 0.0055, 'loss_word': 0.01498}\n",
      "SWA>>>:\n"
     ]
    },
    {
     "name": "stderr",
     "output_type": "stream",
     "text": [
      "100%|██████████| 1255/1255 [07:31<00:00,  2.93it/s]\n"
     ]
    },
    {
     "name": "stdout",
     "output_type": "stream",
     "text": [
      "\n",
      "val: {'recall': 0.998663, 'recall_grapheme': 0.998182, 'recall_vowel': 0.999128, 'recall_consonant': 0.99916, 'recall_word': 0.998067, 'acc_grapheme': 0.998108, 'acc_vowel': 0.999253, 'acc_consonant': 0.999378, 'acc_word': 0.998033, 'loss_grapheme': 0.009251, 'loss_vowel': 0.004671, 'loss_consonant': 0.0029, 'loss_word': 0.010318}\n",
      "###>>>>> saved ./model4-ckps/tf_efficientnet_b4/model4_eb4_fold2_380.pth_swa\n",
      "   21 | 0.000178 | 160640/160678 | 12.5309 | 5.5076 | 14.43 |\n",
      "val: {'recall': 0.997697, 'recall_grapheme': 0.996614, 'recall_vowel': 0.998612, 'recall_consonant': 0.99895, 'recall_word': 0.996739, 'acc_grapheme': 0.996838, 'acc_vowel': 0.998805, 'acc_consonant': 0.999004, 'acc_word': 0.996688, 'loss_grapheme': 0.015249, 'loss_vowel': 0.007159, 'loss_consonant': 0.004438, 'loss_word': 0.015519}\n",
      "   22 | 0.000169 | 160640/160678 | 0.2651 | 5.2955 | 14.52 ||\n",
      "val: {'recall': 0.997539, 'recall_grapheme': 0.996806, 'recall_vowel': 0.998602, 'recall_consonant': 0.997944, 'recall_word': 0.996885, 'acc_grapheme': 0.996863, 'acc_vowel': 0.998655, 'acc_consonant': 0.998904, 'acc_word': 0.996838, 'loss_grapheme': 0.014022, 'loss_vowel': 0.007008, 'loss_consonant': 0.004401, 'loss_word': 0.01453}\n",
      "   23 | 0.000159 | 160640/160678 | 15.7661 | 5.4472 | 14.46 |"
     ]
    },
    {
     "name": "stderr",
     "output_type": "stream",
     "text": [
      "\r",
      "  0%|          | 0/1255 [00:00<?, ?it/s]"
     ]
    },
    {
     "name": "stdout",
     "output_type": "stream",
     "text": [
      "\n",
      "val: {'recall': 0.997331, 'recall_grapheme': 0.996773, 'recall_vowel': 0.998477, 'recall_consonant': 0.997302, 'recall_word': 0.99679, 'acc_grapheme': 0.997112, 'acc_vowel': 0.998556, 'acc_consonant': 0.998855, 'acc_word': 0.996763, 'loss_grapheme': 0.014144, 'loss_vowel': 0.007499, 'loss_consonant': 0.004817, 'loss_word': 0.014549}\n",
      "SWA>>>:\n"
     ]
    },
    {
     "name": "stderr",
     "output_type": "stream",
     "text": [
      "100%|██████████| 1255/1255 [07:30<00:00,  2.70it/s]\n"
     ]
    },
    {
     "name": "stdout",
     "output_type": "stream",
     "text": [
      "\n",
      "val: {'recall': 0.998675, 'recall_grapheme': 0.998165, 'recall_vowel': 0.999115, 'recall_consonant': 0.999255, 'recall_word': 0.998068, 'acc_grapheme': 0.998108, 'acc_vowel': 0.999228, 'acc_consonant': 0.999402, 'acc_word': 0.998033, 'loss_grapheme': 0.00917, 'loss_vowel': 0.004674, 'loss_consonant': 0.002878, 'loss_word': 0.010282}\n",
      "###>>>>> saved ./model4-ckps/tf_efficientnet_b4/model4_eb4_fold2_380.pth_swa\n",
      "   24 | 0.000150 | 160640/160678 | 6.6417 | 5.2441 | 14.46 ||\n",
      "val: {'recall': 0.997259, 'recall_grapheme': 0.996574, 'recall_vowel': 0.998941, 'recall_consonant': 0.996949, 'recall_word': 0.997221, 'acc_grapheme': 0.997037, 'acc_vowel': 0.999029, 'acc_consonant': 0.999054, 'acc_word': 0.997112, 'loss_grapheme': 0.013763, 'loss_vowel': 0.0062, 'loss_consonant': 0.0046, 'loss_word': 0.013484}\n",
      "   25 | 0.000141 | 160640/160678 | 0.6903 | 5.4493 | 14.42 ||\n",
      "val: {'recall': 0.997648, 'recall_grapheme': 0.9968, 'recall_vowel': 0.998817, 'recall_consonant': 0.998173, 'recall_word': 0.997194, 'acc_grapheme': 0.997211, 'acc_vowel': 0.99883, 'acc_consonant': 0.999079, 'acc_word': 0.997112, 'loss_grapheme': 0.013081, 'loss_vowel': 0.00611, 'loss_consonant': 0.004198, 'loss_word': 0.013288}\n",
      "   26 | 0.000131 | 160640/160678 | 0.3860 | 5.3388 | 14.43 ||"
     ]
    },
    {
     "name": "stderr",
     "output_type": "stream",
     "text": [
      "\r",
      "  0%|          | 0/1255 [00:00<?, ?it/s]"
     ]
    },
    {
     "name": "stdout",
     "output_type": "stream",
     "text": [
      "\n",
      "val: {'recall': 0.997928, 'recall_grapheme': 0.996799, 'recall_vowel': 0.998909, 'recall_consonant': 0.999204, 'recall_word': 0.997057, 'acc_grapheme': 0.997037, 'acc_vowel': 0.99888, 'acc_consonant': 0.999203, 'acc_word': 0.996987, 'loss_grapheme': 0.014454, 'loss_vowel': 0.006616, 'loss_consonant': 0.00442, 'loss_word': 0.014306}\n",
      "SWA>>>:\n"
     ]
    },
    {
     "name": "stderr",
     "output_type": "stream",
     "text": [
      "100%|██████████| 1255/1255 [07:27<00:00,  2.86it/s]\n"
     ]
    },
    {
     "name": "stdout",
     "output_type": "stream",
     "text": [
      "\n",
      "val: {'recall': 0.998674, 'recall_grapheme': 0.998173, 'recall_vowel': 0.9991, 'recall_consonant': 0.99925, 'recall_word': 0.99809, 'acc_grapheme': 0.998133, 'acc_vowel': 0.999203, 'acc_consonant': 0.999378, 'acc_word': 0.998058, 'loss_grapheme': 0.009199, 'loss_vowel': 0.004672, 'loss_consonant': 0.002878, 'loss_word': 0.010275}\n",
      "   27 | 0.000122 | 160640/160678 | 5.5732 | 5.3044 | 14.48 ||\n",
      "val: {'recall': 0.997805, 'recall_grapheme': 0.996674, 'recall_vowel': 0.998666, 'recall_consonant': 0.999204, 'recall_word': 0.997077, 'acc_grapheme': 0.997112, 'acc_vowel': 0.998755, 'acc_consonant': 0.999203, 'acc_word': 0.996987, 'loss_grapheme': 0.013126, 'loss_vowel': 0.006107, 'loss_consonant': 0.004092, 'loss_word': 0.013229}\n",
      "   28 | 0.000113 | 160640/160678 | 6.8696 | 5.3479 | 14.44 ||\n",
      "val: {'recall': 0.997893, 'recall_grapheme': 0.996795, 'recall_vowel': 0.998771, 'recall_consonant': 0.999213, 'recall_word': 0.997119, 'acc_grapheme': 0.997012, 'acc_vowel': 0.99888, 'acc_consonant': 0.999203, 'acc_word': 0.997087, 'loss_grapheme': 0.014768, 'loss_vowel': 0.006273, 'loss_consonant': 0.004251, 'loss_word': 0.014628}\n",
      "   29 | 0.000104 | 160640/160678 | 12.0465 | 5.3137 | 14.44 |"
     ]
    },
    {
     "name": "stderr",
     "output_type": "stream",
     "text": [
      "\r",
      "  0%|          | 0/1255 [00:00<?, ?it/s]"
     ]
    },
    {
     "name": "stdout",
     "output_type": "stream",
     "text": [
      "\n",
      "val: {'recall': 0.997129, 'recall_grapheme': 0.995879, 'recall_vowel': 0.998592, 'recall_consonant': 0.998166, 'recall_word': 0.996444, 'acc_grapheme': 0.996464, 'acc_vowel': 0.998606, 'acc_consonant': 0.998805, 'acc_word': 0.99634, 'loss_grapheme': 0.017397, 'loss_vowel': 0.007623, 'loss_consonant': 0.005113, 'loss_word': 0.016864}\n",
      "SWA>>>:\n"
     ]
    },
    {
     "name": "stderr",
     "output_type": "stream",
     "text": [
      "100%|██████████| 1255/1255 [07:26<00:00,  2.76it/s]\n"
     ]
    },
    {
     "name": "stdout",
     "output_type": "stream",
     "text": [
      "\n",
      "val: {'recall': 0.998693, 'recall_grapheme': 0.998173, 'recall_vowel': 0.999111, 'recall_consonant': 0.999317, 'recall_word': 0.998115, 'acc_grapheme': 0.998133, 'acc_vowel': 0.999228, 'acc_consonant': 0.999427, 'acc_word': 0.998083, 'loss_grapheme': 0.009206, 'loss_vowel': 0.004678, 'loss_consonant': 0.002865, 'loss_word': 0.010286}\n",
      "###>>>>> saved ./model4-ckps/tf_efficientnet_b4/model4_eb4_fold2_380.pth_swa\n",
      "   30 | 0.000095 | 160640/160678 | 0.1409 | 5.0472 | 14.55 ||\n",
      "val: {'recall': 0.997939, 'recall_grapheme': 0.997178, 'recall_vowel': 0.998883, 'recall_consonant': 0.998517, 'recall_word': 0.997268, 'acc_grapheme': 0.997336, 'acc_vowel': 0.998904, 'acc_consonant': 0.999203, 'acc_word': 0.997161, 'loss_grapheme': 0.013143, 'loss_vowel': 0.00621, 'loss_consonant': 0.003996, 'loss_word': 0.013588}\n",
      "   31 | 0.000086 | 160640/160678 | 5.3479 | 5.3397 | 14.44 ||\n",
      "val: {'recall': 0.997589, 'recall_grapheme': 0.996406, 'recall_vowel': 0.998638, 'recall_consonant': 0.998904, 'recall_word': 0.996818, 'acc_grapheme': 0.996788, 'acc_vowel': 0.998705, 'acc_consonant': 0.999004, 'acc_word': 0.996738, 'loss_grapheme': 0.014765, 'loss_vowel': 0.007171, 'loss_consonant': 0.004503, 'loss_word': 0.014681}\n",
      "   32 | 0.000078 | 160640/160678 | 6.3192 | 5.0119 | 14.53 ||"
     ]
    },
    {
     "name": "stderr",
     "output_type": "stream",
     "text": [
      "\r",
      "  0%|          | 0/1255 [00:00<?, ?it/s]"
     ]
    },
    {
     "name": "stdout",
     "output_type": "stream",
     "text": [
      "\n",
      "val: {'recall': 0.997661, 'recall_grapheme': 0.996447, 'recall_vowel': 0.998589, 'recall_consonant': 0.999161, 'recall_word': 0.997075, 'acc_grapheme': 0.996937, 'acc_vowel': 0.998705, 'acc_consonant': 0.999153, 'acc_word': 0.997012, 'loss_grapheme': 0.014886, 'loss_vowel': 0.007092, 'loss_consonant': 0.004173, 'loss_word': 0.014879}\n",
      "SWA>>>:\n"
     ]
    },
    {
     "name": "stderr",
     "output_type": "stream",
     "text": [
      " 82%|████████▏ | 1025/1255 [06:05<01:23,  2.74it/s]"
     ]
    },
    {
     "name": "stdout",
     "output_type": "stream",
     "text": [
      "\n",
      "val: {'recall': 0.998631, 'recall_grapheme': 0.99809, 'recall_vowel': 0.999026, 'recall_consonant': 0.999317, 'recall_word': 0.998066, 'acc_grapheme': 0.998108, 'acc_vowel': 0.999203, 'acc_consonant': 0.999427, 'acc_word': 0.998033, 'loss_grapheme': 0.009239, 'loss_vowel': 0.004681, 'loss_consonant': 0.002872, 'loss_word': 0.010289}\n",
      "   33 | 0.000070 | 160640/160678 | 6.6393 | 5.3573 | 14.43 ||\n",
      "val: {'recall': 0.997507, 'recall_grapheme': 0.996098, 'recall_vowel': 0.998758, 'recall_consonant': 0.999075, 'recall_word': 0.996947, 'acc_grapheme': 0.996763, 'acc_vowel': 0.99888, 'acc_consonant': 0.999153, 'acc_word': 0.996838, 'loss_grapheme': 0.014728, 'loss_vowel': 0.006658, 'loss_consonant': 0.004127, 'loss_word': 0.014681}\n",
      "   34 | 0.000062 | 160640/160678 | 12.7309 | 5.4813 | 14.47 |\n",
      "val: {'recall': 0.997559, 'recall_grapheme': 0.996341, 'recall_vowel': 0.998682, 'recall_consonant': 0.998873, 'recall_word': 0.996883, 'acc_grapheme': 0.997137, 'acc_vowel': 0.99883, 'acc_consonant': 0.999054, 'acc_word': 0.996888, 'loss_grapheme': 0.014026, 'loss_vowel': 0.007067, 'loss_consonant': 0.0042, 'loss_word': 0.014408}\n",
      "   35 | 0.000054 | 160640/160678 | 13.5530 | 5.3104 | 14.47 |"
     ]
    },
    {
     "name": "stderr",
     "output_type": "stream",
     "text": [
      "\r",
      "  0%|          | 0/1255 [00:00<?, ?it/s]"
     ]
    },
    {
     "name": "stdout",
     "output_type": "stream",
     "text": [
      "\n",
      "val: {'recall': 0.99778, 'recall_grapheme': 0.996646, 'recall_vowel': 0.998771, 'recall_consonant': 0.999055, 'recall_word': 0.997545, 'acc_grapheme': 0.997236, 'acc_vowel': 0.99888, 'acc_consonant': 0.999178, 'acc_word': 0.99746, 'loss_grapheme': 0.01372, 'loss_vowel': 0.006417, 'loss_consonant': 0.004061, 'loss_word': 0.013845}\n",
      "SWA>>>:\n"
     ]
    },
    {
     "name": "stderr",
     "output_type": "stream",
     "text": [
      "100%|██████████| 1255/1255 [07:29<00:00,  2.82it/s]\n"
     ]
    },
    {
     "name": "stdout",
     "output_type": "stream",
     "text": [
      "\n",
      "val: {'recall': 0.998675, 'recall_grapheme': 0.998149, 'recall_vowel': 0.999055, 'recall_consonant': 0.999347, 'recall_word': 0.99809, 'acc_grapheme': 0.998157, 'acc_vowel': 0.999253, 'acc_consonant': 0.999452, 'acc_word': 0.998058, 'loss_grapheme': 0.00924, 'loss_vowel': 0.00472, 'loss_consonant': 0.002889, 'loss_word': 0.010288}\n",
      "   36 | 0.000047 | 160640/160678 | 0.1079 | 5.0609 | 14.50 ||\n",
      "val: {'recall': 0.998157, 'recall_grapheme': 0.997147, 'recall_vowel': 0.999004, 'recall_consonant': 0.99933, 'recall_word': 0.997362, 'acc_grapheme': 0.997236, 'acc_vowel': 0.999029, 'acc_consonant': 0.999253, 'acc_word': 0.997286, 'loss_grapheme': 0.013283, 'loss_vowel': 0.005893, 'loss_consonant': 0.003939, 'loss_word': 0.01377}\n",
      "   37 | 0.000041 | 160640/160678 | 0.2853 | 5.3799 | 14.47 ||\n",
      "val: {'recall': 0.997933, 'recall_grapheme': 0.997307, 'recall_vowel': 0.998944, 'recall_consonant': 0.998175, 'recall_word': 0.997476, 'acc_grapheme': 0.997585, 'acc_vowel': 0.999004, 'acc_consonant': 0.999303, 'acc_word': 0.99741, 'loss_grapheme': 0.011674, 'loss_vowel': 0.005708, 'loss_consonant': 0.003571, 'loss_word': 0.012591}\n",
      "   38 | 0.000035 | 157184/160678 | 12.2897 | 5.0864 | 14.17 |"
     ]
    },
    {
     "name": "stderr",
     "output_type": "stream",
     "text": [
      "100%|██████████| 1255/1255 [07:30<00:00,  2.86it/s]\n"
     ]
    },
    {
     "name": "stdout",
     "output_type": "stream",
     "text": [
      "\n",
      "val: {'recall': 0.998663, 'recall_grapheme': 0.998131, 'recall_vowel': 0.999042, 'recall_consonant': 0.999347, 'recall_word': 0.998063, 'acc_grapheme': 0.998133, 'acc_vowel': 0.999228, 'acc_consonant': 0.999452, 'acc_word': 0.998033, 'loss_grapheme': 0.009242, 'loss_vowel': 0.004746, 'loss_consonant': 0.002904, 'loss_word': 0.010307}\n",
      "   40 | 0.000023 | 160640/160678 | 9.8059 | 5.0913 | 14.48 ||\n",
      "val: {'recall': 0.997666, 'recall_grapheme': 0.997019, 'recall_vowel': 0.998793, 'recall_consonant': 0.997832, 'recall_word': 0.997305, 'acc_grapheme': 0.997161, 'acc_vowel': 0.998904, 'acc_consonant': 0.999129, 'acc_word': 0.997211, 'loss_grapheme': 0.014669, 'loss_vowel': 0.006743, 'loss_consonant': 0.004553, 'loss_word': 0.014631}\n",
      "   41 | 0.000019 | 160640/160678 | 9.5720 | 5.1584 | 14.44 ||"
     ]
    },
    {
     "name": "stderr",
     "output_type": "stream",
     "text": [
      "\r",
      "  0%|          | 0/1255 [00:00<?, ?it/s]"
     ]
    },
    {
     "name": "stdout",
     "output_type": "stream",
     "text": [
      "\n",
      "val: {'recall': 0.998077, 'recall_grapheme': 0.997759, 'recall_vowel': 0.998751, 'recall_consonant': 0.998038, 'recall_word': 0.997716, 'acc_grapheme': 0.997734, 'acc_vowel': 0.998954, 'acc_consonant': 0.999203, 'acc_word': 0.997635, 'loss_grapheme': 0.011949, 'loss_vowel': 0.005873, 'loss_consonant': 0.00346, 'loss_word': 0.012346}\n",
      "SWA>>>:\n"
     ]
    },
    {
     "name": "stderr",
     "output_type": "stream",
     "text": [
      "100%|██████████| 1255/1255 [07:31<00:00,  2.73it/s]\n"
     ]
    },
    {
     "name": "stdout",
     "output_type": "stream",
     "text": [
      "\n",
      "val: {'recall': 0.998681, 'recall_grapheme': 0.998168, 'recall_vowel': 0.999042, 'recall_consonant': 0.999347, 'recall_word': 0.998105, 'acc_grapheme': 0.998182, 'acc_vowel': 0.999228, 'acc_consonant': 0.999452, 'acc_word': 0.998083, 'loss_grapheme': 0.009251, 'loss_vowel': 0.004735, 'loss_consonant': 0.002906, 'loss_word': 0.010311}\n",
      "   42 | 0.000014 | 160640/160678 | 5.5592 | 4.8911 | 14.57 ||\n",
      "val: {'recall': 0.998099, 'recall_grapheme': 0.997771, 'recall_vowel': 0.998806, 'recall_consonant': 0.998049, 'recall_word': 0.997687, 'acc_grapheme': 0.997784, 'acc_vowel': 0.998954, 'acc_consonant': 0.999253, 'acc_word': 0.99761, 'loss_grapheme': 0.011273, 'loss_vowel': 0.006081, 'loss_consonant': 0.003277, 'loss_word': 0.011993}\n",
      "   43 | 0.000011 | 160640/160678 | 4.8980 | 4.8186 | 14.49 ||\n",
      "val: {'recall': 0.997788, 'recall_grapheme': 0.997215, 'recall_vowel': 0.998765, 'recall_consonant': 0.997957, 'recall_word': 0.997463, 'acc_grapheme': 0.99741, 'acc_vowel': 0.998904, 'acc_consonant': 0.999203, 'acc_word': 0.997361, 'loss_grapheme': 0.013103, 'loss_vowel': 0.00641, 'loss_consonant': 0.003867, 'loss_word': 0.013396}\n",
      "   44 | 0.000007 | 160640/160678 | 2.1975 | 5.0253 | 14.52 ||"
     ]
    },
    {
     "name": "stderr",
     "output_type": "stream",
     "text": [
      "\r",
      "  0%|          | 0/1255 [00:00<?, ?it/s]"
     ]
    },
    {
     "name": "stdout",
     "output_type": "stream",
     "text": [
      "\n",
      "val: {'recall': 0.998225, 'recall_grapheme': 0.997497, 'recall_vowel': 0.998799, 'recall_consonant': 0.999109, 'recall_word': 0.997708, 'acc_grapheme': 0.997759, 'acc_vowel': 0.998929, 'acc_consonant': 0.999303, 'acc_word': 0.99761, 'loss_grapheme': 0.012283, 'loss_vowel': 0.006046, 'loss_consonant': 0.003455, 'loss_word': 0.012875}\n",
      "SWA>>>:\n"
     ]
    },
    {
     "name": "stderr",
     "output_type": "stream",
     "text": [
      "100%|██████████| 1255/1255 [07:29<00:00,  2.84it/s]\n"
     ]
    },
    {
     "name": "stdout",
     "output_type": "stream",
     "text": [
      "\n",
      "val: {'recall': 0.998678, 'recall_grapheme': 0.998178, 'recall_vowel': 0.999042, 'recall_consonant': 0.999314, 'recall_word': 0.998099, 'acc_grapheme': 0.998207, 'acc_vowel': 0.999228, 'acc_consonant': 0.999427, 'acc_word': 0.998083, 'loss_grapheme': 0.009247, 'loss_vowel': 0.004746, 'loss_consonant': 0.002901, 'loss_word': 0.010305}\n",
      "   45 | 0.000005 | 160640/160678 | 0.4216 | 5.1773 | 14.50 ||\n",
      "val: {'recall': 0.998333, 'recall_grapheme': 0.99753, 'recall_vowel': 0.99891, 'recall_consonant': 0.999362, 'recall_word': 0.997679, 'acc_grapheme': 0.997859, 'acc_vowel': 0.999104, 'acc_consonant': 0.999378, 'acc_word': 0.997585, 'loss_grapheme': 0.011018, 'loss_vowel': 0.005305, 'loss_consonant': 0.003185, 'loss_word': 0.011873}\n",
      "###>>>>> saved ./model4-ckps/tf_efficientnet_b4/model4_eb4_fold2_380.pth\n",
      "   46 | 0.000003 | 160640/160678 | 5.0941 | 5.1105 | 14.48 ||\n",
      "val: {'recall': 0.997824, 'recall_grapheme': 0.996936, 'recall_vowel': 0.99864, 'recall_consonant': 0.998785, 'recall_word': 0.997354, 'acc_grapheme': 0.997186, 'acc_vowel': 0.998855, 'acc_consonant': 0.999079, 'acc_word': 0.997286, 'loss_grapheme': 0.014287, 'loss_vowel': 0.006875, 'loss_consonant': 0.004384, 'loss_word': 0.014236}\n",
      "   47 | 0.000001 | 160640/160678 | 2.8552 | 5.2209 | 14.46 ||"
     ]
    },
    {
     "name": "stderr",
     "output_type": "stream",
     "text": [
      "\r",
      "  0%|          | 0/1255 [00:00<?, ?it/s]"
     ]
    },
    {
     "name": "stdout",
     "output_type": "stream",
     "text": [
      "\n",
      "val: {'recall': 0.997973, 'recall_grapheme': 0.997041, 'recall_vowel': 0.998768, 'recall_consonant': 0.999043, 'recall_word': 0.997601, 'acc_grapheme': 0.997336, 'acc_vowel': 0.998904, 'acc_consonant': 0.999228, 'acc_word': 0.997485, 'loss_grapheme': 0.013219, 'loss_vowel': 0.006202, 'loss_consonant': 0.003792, 'loss_word': 0.013352}\n",
      "SWA>>>:\n"
     ]
    },
    {
     "name": "stderr",
     "output_type": "stream",
     "text": [
      "100%|██████████| 1255/1255 [07:29<00:00,  2.85it/s]\n"
     ]
    },
    {
     "name": "stdout",
     "output_type": "stream",
     "text": [
      "\n",
      "val: {'recall': 0.998678, 'recall_grapheme': 0.998178, 'recall_vowel': 0.999042, 'recall_consonant': 0.999314, 'recall_word': 0.998126, 'acc_grapheme': 0.998207, 'acc_vowel': 0.999228, 'acc_consonant': 0.999427, 'acc_word': 0.998108, 'loss_grapheme': 0.009265, 'loss_vowel': 0.004755, 'loss_consonant': 0.002907, 'loss_word': 0.010317}\n",
      "   48 | 0.000000 | 160640/160678 | 0.1413 | 5.0579 | 14.49 ||\n",
      "val: {'recall': 0.998158, 'recall_grapheme': 0.997671, 'recall_vowel': 0.999014, 'recall_consonant': 0.998276, 'recall_word': 0.997761, 'acc_grapheme': 0.997809, 'acc_vowel': 0.999079, 'acc_consonant': 0.999353, 'acc_word': 0.997659, 'loss_grapheme': 0.010846, 'loss_vowel': 0.005292, 'loss_consonant': 0.003221, 'loss_word': 0.011692}\n",
      "   49 | 0.000000 | 160640/160678 | 3.5076 | 5.0581 | 14.48 ||\n",
      "val: {'recall': 0.998133, 'recall_grapheme': 0.997196, 'recall_vowel': 0.998812, 'recall_consonant': 0.999328, 'recall_word': 0.997427, 'acc_grapheme': 0.997311, 'acc_vowel': 0.998929, 'acc_consonant': 0.999353, 'acc_word': 0.997336, 'loss_grapheme': 0.013123, 'loss_vowel': 0.00606, 'loss_consonant': 0.0036, 'loss_word': 0.013636}\n",
      "CYCLE: 2\n",
      "   14 | 0.000238 | 160640/160678 | 7.1200 | 5.1916 | 14.54 ||"
     ]
    },
    {
     "name": "stderr",
     "output_type": "stream",
     "text": [
      "\r",
      "  0%|          | 0/1255 [00:00<?, ?it/s]"
     ]
    },
    {
     "name": "stdout",
     "output_type": "stream",
     "text": [
      "\n",
      "val: {'recall': 0.997136, 'recall_grapheme': 0.99654, 'recall_vowel': 0.998793, 'recall_consonant': 0.996672, 'recall_word': 0.996705, 'acc_grapheme': 0.996589, 'acc_vowel': 0.99873, 'acc_consonant': 0.998929, 'acc_word': 0.996639, 'loss_grapheme': 0.015674, 'loss_vowel': 0.007459, 'loss_consonant': 0.00529, 'loss_word': 0.016239}\n",
      "SWA>>>:\n"
     ]
    },
    {
     "name": "stderr",
     "output_type": "stream",
     "text": [
      "100%|██████████| 1255/1255 [07:29<00:00,  2.86it/s]\n"
     ]
    },
    {
     "name": "stdout",
     "output_type": "stream",
     "text": [
      "\n",
      "val: {'recall': 0.998683, 'recall_grapheme': 0.998168, 'recall_vowel': 0.999083, 'recall_consonant': 0.999314, 'recall_word': 0.99812, 'acc_grapheme': 0.998182, 'acc_vowel': 0.999278, 'acc_consonant': 0.999427, 'acc_word': 0.998108, 'loss_grapheme': 0.009257, 'loss_vowel': 0.004745, 'loss_consonant': 0.002933, 'loss_word': 0.010313}\n",
      "   15 | 0.000230 | 160640/160678 | 0.5164 | 5.2248 | 14.51 ||\n",
      "val: {'recall': 0.997882, 'recall_grapheme': 0.997067, 'recall_vowel': 0.998849, 'recall_consonant': 0.998545, 'recall_word': 0.996845, 'acc_grapheme': 0.997037, 'acc_vowel': 0.99883, 'acc_consonant': 0.998979, 'acc_word': 0.996788, 'loss_grapheme': 0.014204, 'loss_vowel': 0.006026, 'loss_consonant': 0.004558, 'loss_word': 0.014394}\n",
      "   16 | 0.000222 | 160640/160678 | 6.1086 | 5.2927 | 14.62 ||\n",
      "val: {'recall': 0.997296, 'recall_grapheme': 0.995805, 'recall_vowel': 0.99871, 'recall_consonant': 0.998863, 'recall_word': 0.996004, 'acc_grapheme': 0.996091, 'acc_vowel': 0.99873, 'acc_consonant': 0.99888, 'acc_word': 0.995941, 'loss_grapheme': 0.018708, 'loss_vowel': 0.007217, 'loss_consonant': 0.005241, 'loss_word': 0.019064}\n",
      "   17 | 0.000214 | 160640/160678 | 5.7583 | 5.4337 | 14.52 ||"
     ]
    },
    {
     "name": "stderr",
     "output_type": "stream",
     "text": [
      "\r",
      "  0%|          | 0/1255 [00:00<?, ?it/s]"
     ]
    },
    {
     "name": "stdout",
     "output_type": "stream",
     "text": [
      "\n",
      "val: {'recall': 0.997579, 'recall_grapheme': 0.996901, 'recall_vowel': 0.998452, 'recall_consonant': 0.998059, 'recall_word': 0.996906, 'acc_grapheme': 0.997087, 'acc_vowel': 0.998755, 'acc_consonant': 0.999029, 'acc_word': 0.996788, 'loss_grapheme': 0.013683, 'loss_vowel': 0.006352, 'loss_consonant': 0.004681, 'loss_word': 0.014654}\n",
      "SWA>>>:\n"
     ]
    },
    {
     "name": "stderr",
     "output_type": "stream",
     "text": [
      "100%|██████████| 1255/1255 [07:36<00:00,  2.70it/s]\n"
     ]
    },
    {
     "name": "stdout",
     "output_type": "stream",
     "text": [
      "\n",
      "val: {'recall': 0.998665, 'recall_grapheme': 0.998145, 'recall_vowel': 0.999083, 'recall_consonant': 0.999286, 'recall_word': 0.998094, 'acc_grapheme': 0.998157, 'acc_vowel': 0.999278, 'acc_consonant': 0.999427, 'acc_word': 0.998083, 'loss_grapheme': 0.009226, 'loss_vowel': 0.004718, 'loss_consonant': 0.002935, 'loss_word': 0.010285}\n",
      "   18 | 0.000205 | 160640/160678 | 10.5958 | 5.3964 | 14.52 |\n",
      "val: {'recall': 0.997309, 'recall_grapheme': 0.99578, 'recall_vowel': 0.998788, 'recall_consonant': 0.998885, 'recall_word': 0.996592, 'acc_grapheme': 0.996713, 'acc_vowel': 0.998929, 'acc_consonant': 0.999029, 'acc_word': 0.996564, 'loss_grapheme': 0.014628, 'loss_vowel': 0.007128, 'loss_consonant': 0.004362, 'loss_word': 0.014304}\n",
      "   19 | 0.000196 | 160640/160678 | 0.7100 | 5.2141 | 14.53 ||\n",
      "val: {'recall': 0.997397, 'recall_grapheme': 0.996567, 'recall_vowel': 0.99859, 'recall_consonant': 0.997864, 'recall_word': 0.996636, 'acc_grapheme': 0.996664, 'acc_vowel': 0.99868, 'acc_consonant': 0.998904, 'acc_word': 0.996589, 'loss_grapheme': 0.01542, 'loss_vowel': 0.007321, 'loss_consonant': 0.004884, 'loss_word': 0.015272}\n",
      "   20 | 0.000187 | 160640/160678 | 13.9409 | 5.3372 | 14.49 |"
     ]
    },
    {
     "name": "stderr",
     "output_type": "stream",
     "text": [
      "\r",
      "  0%|          | 0/1255 [00:00<?, ?it/s]"
     ]
    },
    {
     "name": "stdout",
     "output_type": "stream",
     "text": [
      "\n",
      "val: {'recall': 0.997179, 'recall_grapheme': 0.996089, 'recall_vowel': 0.998756, 'recall_consonant': 0.997782, 'recall_word': 0.996618, 'acc_grapheme': 0.996614, 'acc_vowel': 0.99883, 'acc_consonant': 0.99873, 'acc_word': 0.996514, 'loss_grapheme': 0.017554, 'loss_vowel': 0.007191, 'loss_consonant': 0.00592, 'loss_word': 0.017446}\n",
      "SWA>>>:\n"
     ]
    },
    {
     "name": "stderr",
     "output_type": "stream",
     "text": [
      "100%|██████████| 1255/1255 [07:29<00:00,  2.79it/s]\n"
     ]
    },
    {
     "name": "stdout",
     "output_type": "stream",
     "text": [
      "\n",
      "val: {'recall': 0.998662, 'recall_grapheme': 0.998145, 'recall_vowel': 0.999071, 'recall_consonant': 0.999286, 'recall_word': 0.998094, 'acc_grapheme': 0.998157, 'acc_vowel': 0.999253, 'acc_consonant': 0.999427, 'acc_word': 0.998083, 'loss_grapheme': 0.009256, 'loss_vowel': 0.004733, 'loss_consonant': 0.002929, 'loss_word': 0.010298}\n",
      "   21 | 0.000178 | 160640/160678 | 4.3599 | 5.4885 | 14.47 ||\n",
      "val: {'recall': 0.997731, 'recall_grapheme': 0.996469, 'recall_vowel': 0.99887, 'recall_consonant': 0.999117, 'recall_word': 0.997149, 'acc_grapheme': 0.997012, 'acc_vowel': 0.998855, 'acc_consonant': 0.999029, 'acc_word': 0.997087, 'loss_grapheme': 0.015353, 'loss_vowel': 0.006978, 'loss_consonant': 0.004377, 'loss_word': 0.014902}\n",
      "   22 | 0.000169 | 160640/160678 | 0.4126 | 5.4459 | 14.48 ||\n",
      "val: {'recall': 0.997691, 'recall_grapheme': 0.996581, 'recall_vowel': 0.998571, 'recall_consonant': 0.999032, 'recall_word': 0.996705, 'acc_grapheme': 0.996788, 'acc_vowel': 0.998755, 'acc_consonant': 0.999129, 'acc_word': 0.996589, 'loss_grapheme': 0.015531, 'loss_vowel': 0.006724, 'loss_consonant': 0.003966, 'loss_word': 0.015343}\n",
      "   23 | 0.000159 | 160640/160678 | 6.4118 | 5.1750 | 14.47 ||"
     ]
    },
    {
     "name": "stderr",
     "output_type": "stream",
     "text": [
      "\r",
      "  0%|          | 0/1255 [00:00<?, ?it/s]"
     ]
    },
    {
     "name": "stdout",
     "output_type": "stream",
     "text": [
      "\n",
      "val: {'recall': 0.997874, 'recall_grapheme': 0.996941, 'recall_vowel': 0.998916, 'recall_consonant': 0.998698, 'recall_word': 0.996945, 'acc_grapheme': 0.996937, 'acc_vowel': 0.998954, 'acc_consonant': 0.999079, 'acc_word': 0.996913, 'loss_grapheme': 0.015842, 'loss_vowel': 0.006548, 'loss_consonant': 0.004328, 'loss_word': 0.014929}\n",
      "SWA>>>:\n"
     ]
    },
    {
     "name": "stderr",
     "output_type": "stream",
     "text": [
      "100%|██████████| 1255/1255 [07:26<00:00,  2.82it/s]\n"
     ]
    },
    {
     "name": "stdout",
     "output_type": "stream",
     "text": [
      "\n",
      "val: {'recall': 0.998685, 'recall_grapheme': 0.998191, 'recall_vowel': 0.999083, 'recall_consonant': 0.999275, 'recall_word': 0.998124, 'acc_grapheme': 0.998207, 'acc_vowel': 0.999278, 'acc_consonant': 0.999378, 'acc_word': 0.998108, 'loss_grapheme': 0.009227, 'loss_vowel': 0.004701, 'loss_consonant': 0.002924, 'loss_word': 0.010262}\n",
      "   24 | 0.000150 | 160640/160678 | 10.3455 | 5.2598 | 14.54 |\n",
      "val: {'recall': 0.997841, 'recall_grapheme': 0.997057, 'recall_vowel': 0.998619, 'recall_consonant': 0.998631, 'recall_word': 0.997266, 'acc_grapheme': 0.997087, 'acc_vowel': 0.998805, 'acc_consonant': 0.999104, 'acc_word': 0.997186, 'loss_grapheme': 0.01513, 'loss_vowel': 0.006716, 'loss_consonant': 0.004704, 'loss_word': 0.015115}\n",
      "   25 | 0.000141 | 160640/160678 | 5.6906 | 5.0647 | 14.56 ||\n",
      "val: {'recall': 0.997627, 'recall_grapheme': 0.996484, 'recall_vowel': 0.998566, 'recall_consonant': 0.998975, 'recall_word': 0.996856, 'acc_grapheme': 0.996788, 'acc_vowel': 0.99878, 'acc_consonant': 0.999004, 'acc_word': 0.996813, 'loss_grapheme': 0.015722, 'loss_vowel': 0.007014, 'loss_consonant': 0.004959, 'loss_word': 0.016027}\n",
      "   26 | 0.000131 | 160640/160678 | 5.9441 | 5.3150 | 14.49 ||"
     ]
    },
    {
     "name": "stderr",
     "output_type": "stream",
     "text": [
      "\r",
      "  0%|          | 0/1255 [00:00<?, ?it/s]"
     ]
    },
    {
     "name": "stdout",
     "output_type": "stream",
     "text": [
      "\n",
      "val: {'recall': 0.997654, 'recall_grapheme': 0.996522, 'recall_vowel': 0.998607, 'recall_consonant': 0.998964, 'recall_word': 0.996799, 'acc_grapheme': 0.996813, 'acc_vowel': 0.998805, 'acc_consonant': 0.999079, 'acc_word': 0.996738, 'loss_grapheme': 0.016087, 'loss_vowel': 0.006706, 'loss_consonant': 0.004175, 'loss_word': 0.015579}\n",
      "SWA>>>:\n"
     ]
    },
    {
     "name": "stderr",
     "output_type": "stream",
     "text": [
      "100%|██████████| 1255/1255 [07:35<00:00,  2.84it/s]\n"
     ]
    },
    {
     "name": "stdout",
     "output_type": "stream",
     "text": [
      "\n",
      "val: {'recall': 0.998677, 'recall_grapheme': 0.998172, 'recall_vowel': 0.999083, 'recall_consonant': 0.99928, 'recall_word': 0.998098, 'acc_grapheme': 0.998207, 'acc_vowel': 0.999278, 'acc_consonant': 0.999402, 'acc_word': 0.998083, 'loss_grapheme': 0.009246, 'loss_vowel': 0.004707, 'loss_consonant': 0.002913, 'loss_word': 0.010292}\n",
      "   27 | 0.000122 | 160640/160678 | 0.2263 | 5.2864 | 14.51 ||\n",
      "val: {'recall': 0.997813, 'recall_grapheme': 0.996634, 'recall_vowel': 0.998887, 'recall_consonant': 0.999096, 'recall_word': 0.997282, 'acc_grapheme': 0.997261, 'acc_vowel': 0.999004, 'acc_consonant': 0.999178, 'acc_word': 0.997236, 'loss_grapheme': 0.013065, 'loss_vowel': 0.005998, 'loss_consonant': 0.004054, 'loss_word': 0.013361}\n",
      "   28 | 0.000113 | 160640/160678 | 0.0326 | 5.3469 | 14.44 ||\n",
      "val: {'recall': 0.998143, 'recall_grapheme': 0.997263, 'recall_vowel': 0.998833, 'recall_consonant': 0.999215, 'recall_word': 0.997316, 'acc_grapheme': 0.997386, 'acc_vowel': 0.99888, 'acc_consonant': 0.999303, 'acc_word': 0.997261, 'loss_grapheme': 0.013352, 'loss_vowel': 0.006357, 'loss_consonant': 0.003615, 'loss_word': 0.013566}\n",
      "   29 | 0.000104 | 160640/160678 | 7.9908 | 5.2697 | 14.48 ||"
     ]
    },
    {
     "name": "stderr",
     "output_type": "stream",
     "text": [
      "\r",
      "  0%|          | 0/1255 [00:00<?, ?it/s]"
     ]
    },
    {
     "name": "stdout",
     "output_type": "stream",
     "text": [
      "\n",
      "val: {'recall': 0.997805, 'recall_grapheme': 0.996926, 'recall_vowel': 0.998699, 'recall_consonant': 0.998671, 'recall_word': 0.997108, 'acc_grapheme': 0.997087, 'acc_vowel': 0.998855, 'acc_consonant': 0.998954, 'acc_word': 0.997087, 'loss_grapheme': 0.014715, 'loss_vowel': 0.006973, 'loss_consonant': 0.004651, 'loss_word': 0.014557}\n",
      "SWA>>>:\n"
     ]
    },
    {
     "name": "stderr",
     "output_type": "stream",
     "text": [
      "100%|██████████| 1255/1255 [07:31<00:00,  2.76it/s]\n"
     ]
    },
    {
     "name": "stdout",
     "output_type": "stream",
     "text": [
      "\n",
      "val: {'recall': 0.998689, 'recall_grapheme': 0.998205, 'recall_vowel': 0.999071, 'recall_consonant': 0.999275, 'recall_word': 0.998098, 'acc_grapheme': 0.998257, 'acc_vowel': 0.999253, 'acc_consonant': 0.999378, 'acc_word': 0.998083, 'loss_grapheme': 0.009214, 'loss_vowel': 0.004671, 'loss_consonant': 0.002913, 'loss_word': 0.01023}\n",
      "   30 | 0.000095 | 160640/160678 | 0.4890 | 5.0663 | 14.52 ||\n",
      "val: {'recall': 0.997606, 'recall_grapheme': 0.99674, 'recall_vowel': 0.998862, 'recall_consonant': 0.998084, 'recall_word': 0.997176, 'acc_grapheme': 0.996987, 'acc_vowel': 0.998929, 'acc_consonant': 0.999203, 'acc_word': 0.997137, 'loss_grapheme': 0.01409, 'loss_vowel': 0.00592, 'loss_consonant': 0.004008, 'loss_word': 0.014213}\n",
      "   31 | 0.000086 | 160640/160678 | 4.4006 | 5.0510 | 14.57 ||\n",
      "val: {'recall': 0.997843, 'recall_grapheme': 0.996659, 'recall_vowel': 0.998905, 'recall_consonant': 0.999148, 'recall_word': 0.997106, 'acc_grapheme': 0.997186, 'acc_vowel': 0.999004, 'acc_consonant': 0.999153, 'acc_word': 0.997112, 'loss_grapheme': 0.014532, 'loss_vowel': 0.005925, 'loss_consonant': 0.004421, 'loss_word': 0.014283}\n",
      "   32 | 0.000078 | 160640/160678 | 0.0583 | 4.8791 | 14.55 ||"
     ]
    },
    {
     "name": "stderr",
     "output_type": "stream",
     "text": [
      "\r",
      "  0%|          | 0/1255 [00:00<?, ?it/s]"
     ]
    },
    {
     "name": "stdout",
     "output_type": "stream",
     "text": [
      "\n",
      "val: {'recall': 0.998071, 'recall_grapheme': 0.997151, 'recall_vowel': 0.998729, 'recall_consonant': 0.999255, 'recall_word': 0.997553, 'acc_grapheme': 0.99761, 'acc_vowel': 0.999004, 'acc_consonant': 0.999278, 'acc_word': 0.99751, 'loss_grapheme': 0.012577, 'loss_vowel': 0.005745, 'loss_consonant': 0.003198, 'loss_word': 0.013072}\n",
      "SWA>>>:\n"
     ]
    },
    {
     "name": "stderr",
     "output_type": "stream",
     "text": [
      "100%|██████████| 1255/1255 [07:30<00:00,  2.78it/s]\n"
     ]
    },
    {
     "name": "stdout",
     "output_type": "stream",
     "text": [
      "\n",
      "val: {'recall': 0.998665, 'recall_grapheme': 0.998165, 'recall_vowel': 0.999055, 'recall_consonant': 0.999275, 'recall_word': 0.998098, 'acc_grapheme': 0.998257, 'acc_vowel': 0.999228, 'acc_consonant': 0.999378, 'acc_word': 0.998083, 'loss_grapheme': 0.009232, 'loss_vowel': 0.004671, 'loss_consonant': 0.002901, 'loss_word': 0.010244}\n",
      "   33 | 0.000070 | 160640/160678 | 10.0970 | 5.3108 | 14.49 |\n",
      "val: {'recall': 0.998132, 'recall_grapheme': 0.997275, 'recall_vowel': 0.99888, 'recall_consonant': 0.999098, 'recall_word': 0.997563, 'acc_grapheme': 0.997684, 'acc_vowel': 0.999153, 'acc_consonant': 0.999253, 'acc_word': 0.99751, 'loss_grapheme': 0.012275, 'loss_vowel': 0.005423, 'loss_consonant': 0.003501, 'loss_word': 0.012497}\n",
      "   34 | 0.000062 | 160640/160678 | 3.5376 | 5.3721 | 14.50 ||\n",
      "val: {'recall': 0.997322, 'recall_grapheme': 0.996334, 'recall_vowel': 0.998822, 'recall_consonant': 0.997796, 'recall_word': 0.997072, 'acc_grapheme': 0.996913, 'acc_vowel': 0.998929, 'acc_consonant': 0.999029, 'acc_word': 0.997037, 'loss_grapheme': 0.016557, 'loss_vowel': 0.007205, 'loss_consonant': 0.004778, 'loss_word': 0.016116}\n",
      "   35 | 0.000059 | 060800/160678 | 0.1150 | 4.8739 | 5.53 ||"
     ]
    },
    {
     "name": "stderr",
     "output_type": "stream",
     "text": [
      "IOPub message rate exceeded.\n",
      "The notebook server will temporarily stop sending output\n",
      "to the client in order to avoid crashing it.\n",
      "To change this limit, set the config variable\n",
      "`--NotebookApp.iopub_msg_rate_limit`.\n",
      "\n",
      "Current values:\n",
      "NotebookApp.iopub_msg_rate_limit=1000.0 (msgs/sec)\n",
      "NotebookApp.rate_limit_window=3.0 (secs)\n",
      "\n",
      "100%|██████████| 1255/1255 [07:29<00:00,  2.83it/s]\n"
     ]
    },
    {
     "name": "stdout",
     "output_type": "stream",
     "text": [
      "\n",
      "val: {'recall': 0.998642, 'recall_grapheme': 0.998135, 'recall_vowel': 0.999055, 'recall_consonant': 0.999244, 'recall_word': 0.998099, 'acc_grapheme': 0.998207, 'acc_vowel': 0.999228, 'acc_consonant': 0.999353, 'acc_word': 0.998083, 'loss_grapheme': 0.009189, 'loss_vowel': 0.004649, 'loss_consonant': 0.002898, 'loss_word': 0.010201}\n",
      "   39 | 0.000031 | 086784/160678 | 6.6328 | 5.1872 | 7.83 ||"
     ]
    },
    {
     "ename": "KeyboardInterrupt",
     "evalue": "",
     "output_type": "error",
     "traceback": [
      "\u001b[0;31m---------------------------------------------------------------------------\u001b[0m",
      "\u001b[0;31mKeyboardInterrupt\u001b[0m                         Traceback (most recent call last)",
      "\u001b[0;32m<ipython-input-38-aad596905035>\u001b[0m in \u001b[0;36m<module>\u001b[0;34m\u001b[0m\n\u001b[0;32m----> 1\u001b[0;31m \u001b[0mtrain\u001b[0m\u001b[0;34m(\u001b[0m\u001b[0margs\u001b[0m\u001b[0;34m)\u001b[0m\u001b[0;34m\u001b[0m\u001b[0;34m\u001b[0m\u001b[0m\n\u001b[0m",
      "\u001b[0;32m<ipython-input-32-73207cee3d84>\u001b[0m in \u001b[0;36mtrain\u001b[0;34m(args)\u001b[0m\n\u001b[1;32m     63\u001b[0m         \u001b[0;32mfor\u001b[0m \u001b[0mepoch\u001b[0m \u001b[0;32min\u001b[0m \u001b[0mrange\u001b[0m\u001b[0;34m(\u001b[0m\u001b[0margs\u001b[0m\u001b[0;34m.\u001b[0m\u001b[0mstart_epoch\u001b[0m\u001b[0;34m,\u001b[0m \u001b[0margs\u001b[0m\u001b[0;34m.\u001b[0m\u001b[0mnum_epochs\u001b[0m\u001b[0;34m)\u001b[0m\u001b[0;34m:\u001b[0m\u001b[0;34m\u001b[0m\u001b[0;34m\u001b[0m\u001b[0m\n\u001b[1;32m     64\u001b[0m             \u001b[0mgrid\u001b[0m\u001b[0;34m.\u001b[0m\u001b[0mset_prob\u001b[0m\u001b[0;34m(\u001b[0m\u001b[0mepoch\u001b[0m\u001b[0;34m,\u001b[0m \u001b[0margs\u001b[0m\u001b[0;34m.\u001b[0m\u001b[0mst_epochs\u001b[0m\u001b[0;34m)\u001b[0m\u001b[0;34m\u001b[0m\u001b[0;34m\u001b[0m\u001b[0m\n\u001b[0;32m---> 65\u001b[0;31m             \u001b[0mtrain_epoch\u001b[0m\u001b[0;34m(\u001b[0m\u001b[0margs\u001b[0m\u001b[0;34m,\u001b[0m \u001b[0mmodel\u001b[0m\u001b[0;34m,\u001b[0m \u001b[0mtrain_loader\u001b[0m\u001b[0;34m,\u001b[0m \u001b[0mepoch\u001b[0m\u001b[0;34m,\u001b[0m \u001b[0moptimizer\u001b[0m\u001b[0;34m,\u001b[0m \u001b[0mlr_scheduler\u001b[0m\u001b[0;34m,\u001b[0m \u001b[0mgrid\u001b[0m\u001b[0;34m)\u001b[0m\u001b[0;34m\u001b[0m\u001b[0;34m\u001b[0m\u001b[0m\n\u001b[0m\u001b[1;32m     66\u001b[0m             \u001b[0mvalidate_and_save\u001b[0m\u001b[0;34m(\u001b[0m\u001b[0mmodel\u001b[0m\u001b[0;34m,\u001b[0m \u001b[0mmodel_file\u001b[0m\u001b[0;34m,\u001b[0m \u001b[0mval_loader\u001b[0m\u001b[0;34m,\u001b[0m \u001b[0msave\u001b[0m\u001b[0;34m=\u001b[0m\u001b[0;32mTrue\u001b[0m\u001b[0;34m)\u001b[0m\u001b[0;34m\u001b[0m\u001b[0;34m\u001b[0m\u001b[0m\n\u001b[1;32m     67\u001b[0m \u001b[0;34m\u001b[0m\u001b[0m\n",
      "\u001b[0;32m<ipython-input-31-16e5a4d95497>\u001b[0m in \u001b[0;36mtrain_epoch\u001b[0;34m(args, model, train_loader, epoch, optimizer, lr_scheduler, grid)\u001b[0m\n\u001b[1;32m     22\u001b[0m             \u001b[0mlam\u001b[0m \u001b[0;34m=\u001b[0m \u001b[0;36m1\u001b[0m \u001b[0;34m-\u001b[0m \u001b[0;34m(\u001b[0m\u001b[0;34m(\u001b[0m\u001b[0mbbx2\u001b[0m \u001b[0;34m-\u001b[0m \u001b[0mbbx1\u001b[0m\u001b[0;34m)\u001b[0m \u001b[0;34m*\u001b[0m \u001b[0;34m(\u001b[0m\u001b[0mbby2\u001b[0m \u001b[0;34m-\u001b[0m \u001b[0mbby1\u001b[0m\u001b[0;34m)\u001b[0m \u001b[0;34m/\u001b[0m \u001b[0;34m(\u001b[0m\u001b[0mimg\u001b[0m\u001b[0;34m.\u001b[0m\u001b[0msize\u001b[0m\u001b[0;34m(\u001b[0m\u001b[0;34m)\u001b[0m\u001b[0;34m[\u001b[0m\u001b[0;34m-\u001b[0m\u001b[0;36m1\u001b[0m\u001b[0;34m]\u001b[0m \u001b[0;34m*\u001b[0m \u001b[0mimg\u001b[0m\u001b[0;34m.\u001b[0m\u001b[0msize\u001b[0m\u001b[0;34m(\u001b[0m\u001b[0;34m)\u001b[0m\u001b[0;34m[\u001b[0m\u001b[0;34m-\u001b[0m\u001b[0;36m2\u001b[0m\u001b[0;34m]\u001b[0m\u001b[0;34m)\u001b[0m\u001b[0;34m)\u001b[0m\u001b[0;34m\u001b[0m\u001b[0;34m\u001b[0m\u001b[0m\n\u001b[1;32m     23\u001b[0m             \u001b[0;31m# compute output\u001b[0m\u001b[0;34m\u001b[0m\u001b[0;34m\u001b[0m\u001b[0;34m\u001b[0m\u001b[0m\n\u001b[0;32m---> 24\u001b[0;31m             \u001b[0moutputs\u001b[0m\u001b[0;34m,\u001b[0m \u001b[0moutputs_aux1\u001b[0m\u001b[0;34m,\u001b[0m \u001b[0moutputs_aux2\u001b[0m \u001b[0;34m=\u001b[0m \u001b[0mmodel\u001b[0m\u001b[0;34m(\u001b[0m\u001b[0mimg\u001b[0m\u001b[0;34m)\u001b[0m\u001b[0;34m\u001b[0m\u001b[0;34m\u001b[0m\u001b[0m\n\u001b[0m\u001b[1;32m     25\u001b[0m             \u001b[0mloss_primary\u001b[0m \u001b[0;34m=\u001b[0m \u001b[0mcriterion\u001b[0m\u001b[0;34m(\u001b[0m\u001b[0moutputs\u001b[0m\u001b[0;34m,\u001b[0m \u001b[0mtarget_a\u001b[0m\u001b[0;34m)\u001b[0m \u001b[0;34m*\u001b[0m \u001b[0mlam\u001b[0m \u001b[0;34m+\u001b[0m \u001b[0mcriterion\u001b[0m\u001b[0;34m(\u001b[0m\u001b[0moutputs\u001b[0m\u001b[0;34m,\u001b[0m \u001b[0mtarget_b\u001b[0m\u001b[0;34m)\u001b[0m \u001b[0;34m*\u001b[0m \u001b[0;34m(\u001b[0m\u001b[0;36m1.\u001b[0m \u001b[0;34m-\u001b[0m \u001b[0mlam\u001b[0m\u001b[0;34m)\u001b[0m\u001b[0;34m\u001b[0m\u001b[0;34m\u001b[0m\u001b[0m\n\u001b[1;32m     26\u001b[0m             \u001b[0mloss_aux1\u001b[0m \u001b[0;34m=\u001b[0m \u001b[0mcriterion\u001b[0m\u001b[0;34m(\u001b[0m\u001b[0moutputs_aux1\u001b[0m\u001b[0;34m,\u001b[0m \u001b[0mtarget_a\u001b[0m\u001b[0;34m)\u001b[0m \u001b[0;34m*\u001b[0m \u001b[0mlam\u001b[0m \u001b[0;34m+\u001b[0m \u001b[0mcriterion\u001b[0m\u001b[0;34m(\u001b[0m\u001b[0moutputs_aux1\u001b[0m\u001b[0;34m,\u001b[0m \u001b[0mtarget_b\u001b[0m\u001b[0;34m)\u001b[0m \u001b[0;34m*\u001b[0m \u001b[0;34m(\u001b[0m\u001b[0;36m1.\u001b[0m \u001b[0;34m-\u001b[0m \u001b[0mlam\u001b[0m\u001b[0;34m)\u001b[0m\u001b[0;34m\u001b[0m\u001b[0;34m\u001b[0m\u001b[0m\n",
      "\u001b[0;32m~/anaconda3/lib/python3.7/site-packages/torch/nn/modules/module.py\u001b[0m in \u001b[0;36m__call__\u001b[0;34m(self, *input, **kwargs)\u001b[0m\n\u001b[1;32m    545\u001b[0m             \u001b[0mresult\u001b[0m \u001b[0;34m=\u001b[0m \u001b[0mself\u001b[0m\u001b[0;34m.\u001b[0m\u001b[0m_slow_forward\u001b[0m\u001b[0;34m(\u001b[0m\u001b[0;34m*\u001b[0m\u001b[0minput\u001b[0m\u001b[0;34m,\u001b[0m \u001b[0;34m**\u001b[0m\u001b[0mkwargs\u001b[0m\u001b[0;34m)\u001b[0m\u001b[0;34m\u001b[0m\u001b[0;34m\u001b[0m\u001b[0m\n\u001b[1;32m    546\u001b[0m         \u001b[0;32melse\u001b[0m\u001b[0;34m:\u001b[0m\u001b[0;34m\u001b[0m\u001b[0;34m\u001b[0m\u001b[0m\n\u001b[0;32m--> 547\u001b[0;31m             \u001b[0mresult\u001b[0m \u001b[0;34m=\u001b[0m \u001b[0mself\u001b[0m\u001b[0;34m.\u001b[0m\u001b[0mforward\u001b[0m\u001b[0;34m(\u001b[0m\u001b[0;34m*\u001b[0m\u001b[0minput\u001b[0m\u001b[0;34m,\u001b[0m \u001b[0;34m**\u001b[0m\u001b[0mkwargs\u001b[0m\u001b[0;34m)\u001b[0m\u001b[0;34m\u001b[0m\u001b[0;34m\u001b[0m\u001b[0m\n\u001b[0m\u001b[1;32m    548\u001b[0m         \u001b[0;32mfor\u001b[0m \u001b[0mhook\u001b[0m \u001b[0;32min\u001b[0m \u001b[0mself\u001b[0m\u001b[0;34m.\u001b[0m\u001b[0m_forward_hooks\u001b[0m\u001b[0;34m.\u001b[0m\u001b[0mvalues\u001b[0m\u001b[0;34m(\u001b[0m\u001b[0;34m)\u001b[0m\u001b[0;34m:\u001b[0m\u001b[0;34m\u001b[0m\u001b[0;34m\u001b[0m\u001b[0m\n\u001b[1;32m    549\u001b[0m             \u001b[0mhook_result\u001b[0m \u001b[0;34m=\u001b[0m \u001b[0mhook\u001b[0m\u001b[0;34m(\u001b[0m\u001b[0mself\u001b[0m\u001b[0;34m,\u001b[0m \u001b[0minput\u001b[0m\u001b[0;34m,\u001b[0m \u001b[0mresult\u001b[0m\u001b[0;34m)\u001b[0m\u001b[0;34m\u001b[0m\u001b[0;34m\u001b[0m\u001b[0m\n",
      "\u001b[0;32m~/anaconda3/lib/python3.7/site-packages/torch/nn/parallel/data_parallel.py\u001b[0m in \u001b[0;36mforward\u001b[0;34m(self, *inputs, **kwargs)\u001b[0m\n\u001b[1;32m    150\u001b[0m             \u001b[0;32mreturn\u001b[0m \u001b[0mself\u001b[0m\u001b[0;34m.\u001b[0m\u001b[0mmodule\u001b[0m\u001b[0;34m(\u001b[0m\u001b[0;34m*\u001b[0m\u001b[0minputs\u001b[0m\u001b[0;34m[\u001b[0m\u001b[0;36m0\u001b[0m\u001b[0;34m]\u001b[0m\u001b[0;34m,\u001b[0m \u001b[0;34m**\u001b[0m\u001b[0mkwargs\u001b[0m\u001b[0;34m[\u001b[0m\u001b[0;36m0\u001b[0m\u001b[0;34m]\u001b[0m\u001b[0;34m)\u001b[0m\u001b[0;34m\u001b[0m\u001b[0;34m\u001b[0m\u001b[0m\n\u001b[1;32m    151\u001b[0m         \u001b[0mreplicas\u001b[0m \u001b[0;34m=\u001b[0m \u001b[0mself\u001b[0m\u001b[0;34m.\u001b[0m\u001b[0mreplicate\u001b[0m\u001b[0;34m(\u001b[0m\u001b[0mself\u001b[0m\u001b[0;34m.\u001b[0m\u001b[0mmodule\u001b[0m\u001b[0;34m,\u001b[0m \u001b[0mself\u001b[0m\u001b[0;34m.\u001b[0m\u001b[0mdevice_ids\u001b[0m\u001b[0;34m[\u001b[0m\u001b[0;34m:\u001b[0m\u001b[0mlen\u001b[0m\u001b[0;34m(\u001b[0m\u001b[0minputs\u001b[0m\u001b[0;34m)\u001b[0m\u001b[0;34m]\u001b[0m\u001b[0;34m)\u001b[0m\u001b[0;34m\u001b[0m\u001b[0;34m\u001b[0m\u001b[0m\n\u001b[0;32m--> 152\u001b[0;31m         \u001b[0moutputs\u001b[0m \u001b[0;34m=\u001b[0m \u001b[0mself\u001b[0m\u001b[0;34m.\u001b[0m\u001b[0mparallel_apply\u001b[0m\u001b[0;34m(\u001b[0m\u001b[0mreplicas\u001b[0m\u001b[0;34m,\u001b[0m \u001b[0minputs\u001b[0m\u001b[0;34m,\u001b[0m \u001b[0mkwargs\u001b[0m\u001b[0;34m)\u001b[0m\u001b[0;34m\u001b[0m\u001b[0;34m\u001b[0m\u001b[0m\n\u001b[0m\u001b[1;32m    153\u001b[0m         \u001b[0;32mreturn\u001b[0m \u001b[0mself\u001b[0m\u001b[0;34m.\u001b[0m\u001b[0mgather\u001b[0m\u001b[0;34m(\u001b[0m\u001b[0moutputs\u001b[0m\u001b[0;34m,\u001b[0m \u001b[0mself\u001b[0m\u001b[0;34m.\u001b[0m\u001b[0moutput_device\u001b[0m\u001b[0;34m)\u001b[0m\u001b[0;34m\u001b[0m\u001b[0;34m\u001b[0m\u001b[0m\n\u001b[1;32m    154\u001b[0m \u001b[0;34m\u001b[0m\u001b[0m\n",
      "\u001b[0;32m~/anaconda3/lib/python3.7/site-packages/torch/nn/parallel/data_parallel.py\u001b[0m in \u001b[0;36mparallel_apply\u001b[0;34m(self, replicas, inputs, kwargs)\u001b[0m\n\u001b[1;32m    160\u001b[0m \u001b[0;34m\u001b[0m\u001b[0m\n\u001b[1;32m    161\u001b[0m     \u001b[0;32mdef\u001b[0m \u001b[0mparallel_apply\u001b[0m\u001b[0;34m(\u001b[0m\u001b[0mself\u001b[0m\u001b[0;34m,\u001b[0m \u001b[0mreplicas\u001b[0m\u001b[0;34m,\u001b[0m \u001b[0minputs\u001b[0m\u001b[0;34m,\u001b[0m \u001b[0mkwargs\u001b[0m\u001b[0;34m)\u001b[0m\u001b[0;34m:\u001b[0m\u001b[0;34m\u001b[0m\u001b[0;34m\u001b[0m\u001b[0m\n\u001b[0;32m--> 162\u001b[0;31m         \u001b[0;32mreturn\u001b[0m \u001b[0mparallel_apply\u001b[0m\u001b[0;34m(\u001b[0m\u001b[0mreplicas\u001b[0m\u001b[0;34m,\u001b[0m \u001b[0minputs\u001b[0m\u001b[0;34m,\u001b[0m \u001b[0mkwargs\u001b[0m\u001b[0;34m,\u001b[0m \u001b[0mself\u001b[0m\u001b[0;34m.\u001b[0m\u001b[0mdevice_ids\u001b[0m\u001b[0;34m[\u001b[0m\u001b[0;34m:\u001b[0m\u001b[0mlen\u001b[0m\u001b[0;34m(\u001b[0m\u001b[0mreplicas\u001b[0m\u001b[0;34m)\u001b[0m\u001b[0;34m]\u001b[0m\u001b[0;34m)\u001b[0m\u001b[0;34m\u001b[0m\u001b[0;34m\u001b[0m\u001b[0m\n\u001b[0m\u001b[1;32m    163\u001b[0m \u001b[0;34m\u001b[0m\u001b[0m\n\u001b[1;32m    164\u001b[0m     \u001b[0;32mdef\u001b[0m \u001b[0mgather\u001b[0m\u001b[0;34m(\u001b[0m\u001b[0mself\u001b[0m\u001b[0;34m,\u001b[0m \u001b[0moutputs\u001b[0m\u001b[0;34m,\u001b[0m \u001b[0moutput_device\u001b[0m\u001b[0;34m)\u001b[0m\u001b[0;34m:\u001b[0m\u001b[0;34m\u001b[0m\u001b[0;34m\u001b[0m\u001b[0m\n",
      "\u001b[0;32m~/anaconda3/lib/python3.7/site-packages/torch/nn/parallel/parallel_apply.py\u001b[0m in \u001b[0;36mparallel_apply\u001b[0;34m(modules, inputs, kwargs_tup, devices)\u001b[0m\n\u001b[1;32m     75\u001b[0m             \u001b[0mthread\u001b[0m\u001b[0;34m.\u001b[0m\u001b[0mstart\u001b[0m\u001b[0;34m(\u001b[0m\u001b[0;34m)\u001b[0m\u001b[0;34m\u001b[0m\u001b[0;34m\u001b[0m\u001b[0m\n\u001b[1;32m     76\u001b[0m         \u001b[0;32mfor\u001b[0m \u001b[0mthread\u001b[0m \u001b[0;32min\u001b[0m \u001b[0mthreads\u001b[0m\u001b[0;34m:\u001b[0m\u001b[0;34m\u001b[0m\u001b[0;34m\u001b[0m\u001b[0m\n\u001b[0;32m---> 77\u001b[0;31m             \u001b[0mthread\u001b[0m\u001b[0;34m.\u001b[0m\u001b[0mjoin\u001b[0m\u001b[0;34m(\u001b[0m\u001b[0;34m)\u001b[0m\u001b[0;34m\u001b[0m\u001b[0;34m\u001b[0m\u001b[0m\n\u001b[0m\u001b[1;32m     78\u001b[0m     \u001b[0;32melse\u001b[0m\u001b[0;34m:\u001b[0m\u001b[0;34m\u001b[0m\u001b[0;34m\u001b[0m\u001b[0m\n\u001b[1;32m     79\u001b[0m         \u001b[0m_worker\u001b[0m\u001b[0;34m(\u001b[0m\u001b[0;36m0\u001b[0m\u001b[0;34m,\u001b[0m \u001b[0mmodules\u001b[0m\u001b[0;34m[\u001b[0m\u001b[0;36m0\u001b[0m\u001b[0;34m]\u001b[0m\u001b[0;34m,\u001b[0m \u001b[0minputs\u001b[0m\u001b[0;34m[\u001b[0m\u001b[0;36m0\u001b[0m\u001b[0;34m]\u001b[0m\u001b[0;34m,\u001b[0m \u001b[0mkwargs_tup\u001b[0m\u001b[0;34m[\u001b[0m\u001b[0;36m0\u001b[0m\u001b[0;34m]\u001b[0m\u001b[0;34m,\u001b[0m \u001b[0mdevices\u001b[0m\u001b[0;34m[\u001b[0m\u001b[0;36m0\u001b[0m\u001b[0;34m]\u001b[0m\u001b[0;34m)\u001b[0m\u001b[0;34m\u001b[0m\u001b[0;34m\u001b[0m\u001b[0m\n",
      "\u001b[0;32m~/anaconda3/lib/python3.7/threading.py\u001b[0m in \u001b[0;36mjoin\u001b[0;34m(self, timeout)\u001b[0m\n\u001b[1;32m   1030\u001b[0m \u001b[0;34m\u001b[0m\u001b[0m\n\u001b[1;32m   1031\u001b[0m         \u001b[0;32mif\u001b[0m \u001b[0mtimeout\u001b[0m \u001b[0;32mis\u001b[0m \u001b[0;32mNone\u001b[0m\u001b[0;34m:\u001b[0m\u001b[0;34m\u001b[0m\u001b[0;34m\u001b[0m\u001b[0m\n\u001b[0;32m-> 1032\u001b[0;31m             \u001b[0mself\u001b[0m\u001b[0;34m.\u001b[0m\u001b[0m_wait_for_tstate_lock\u001b[0m\u001b[0;34m(\u001b[0m\u001b[0;34m)\u001b[0m\u001b[0;34m\u001b[0m\u001b[0;34m\u001b[0m\u001b[0m\n\u001b[0m\u001b[1;32m   1033\u001b[0m         \u001b[0;32melse\u001b[0m\u001b[0;34m:\u001b[0m\u001b[0;34m\u001b[0m\u001b[0;34m\u001b[0m\u001b[0m\n\u001b[1;32m   1034\u001b[0m             \u001b[0;31m# the behavior of a negative timeout isn't documented, but\u001b[0m\u001b[0;34m\u001b[0m\u001b[0;34m\u001b[0m\u001b[0;34m\u001b[0m\u001b[0m\n",
      "\u001b[0;32m~/anaconda3/lib/python3.7/threading.py\u001b[0m in \u001b[0;36m_wait_for_tstate_lock\u001b[0;34m(self, block, timeout)\u001b[0m\n\u001b[1;32m   1046\u001b[0m         \u001b[0;32mif\u001b[0m \u001b[0mlock\u001b[0m \u001b[0;32mis\u001b[0m \u001b[0;32mNone\u001b[0m\u001b[0;34m:\u001b[0m  \u001b[0;31m# already determined that the C code is done\u001b[0m\u001b[0;34m\u001b[0m\u001b[0;34m\u001b[0m\u001b[0m\n\u001b[1;32m   1047\u001b[0m             \u001b[0;32massert\u001b[0m \u001b[0mself\u001b[0m\u001b[0;34m.\u001b[0m\u001b[0m_is_stopped\u001b[0m\u001b[0;34m\u001b[0m\u001b[0;34m\u001b[0m\u001b[0m\n\u001b[0;32m-> 1048\u001b[0;31m         \u001b[0;32melif\u001b[0m \u001b[0mlock\u001b[0m\u001b[0;34m.\u001b[0m\u001b[0macquire\u001b[0m\u001b[0;34m(\u001b[0m\u001b[0mblock\u001b[0m\u001b[0;34m,\u001b[0m \u001b[0mtimeout\u001b[0m\u001b[0;34m)\u001b[0m\u001b[0;34m:\u001b[0m\u001b[0;34m\u001b[0m\u001b[0;34m\u001b[0m\u001b[0m\n\u001b[0m\u001b[1;32m   1049\u001b[0m             \u001b[0mlock\u001b[0m\u001b[0;34m.\u001b[0m\u001b[0mrelease\u001b[0m\u001b[0;34m(\u001b[0m\u001b[0;34m)\u001b[0m\u001b[0;34m\u001b[0m\u001b[0;34m\u001b[0m\u001b[0m\n\u001b[1;32m   1050\u001b[0m             \u001b[0mself\u001b[0m\u001b[0;34m.\u001b[0m\u001b[0m_stop\u001b[0m\u001b[0;34m(\u001b[0m\u001b[0;34m)\u001b[0m\u001b[0;34m\u001b[0m\u001b[0;34m\u001b[0m\u001b[0m\n",
      "\u001b[0;31mKeyboardInterrupt\u001b[0m: "
     ]
    }
   ],
   "source": [
    "train(args)"
   ]
  },
  {
   "cell_type": "code",
   "execution_count": null,
   "metadata": {},
   "outputs": [],
   "source": []
  },
  {
   "cell_type": "code",
   "execution_count": 37,
   "metadata": {},
   "outputs": [
    {
     "name": "stdout",
     "output_type": "stream",
     "text": [
      "model file: ./model4-ckps/tf_efficientnet_b4/model4_eb4_fold2_380.pth, exist: True\n",
      "loading ./model4-ckps/tf_efficientnet_b4/model4_eb4_fold2_380.pth...\n",
      "model file: ./model4-ckps/tf_efficientnet_b4/model4_eb4_fold2_380.pth_swa, exist: False\n",
      "\n",
      "val: {'recall': 0.997777, 'recall_grapheme': 0.997203, 'recall_vowel': 0.9987, 'recall_consonant': 0.998002, 'recall_word': 0.997111, 'acc_grapheme': 0.997311, 'acc_vowel': 0.99888, 'acc_consonant': 0.999104, 'acc_word': 0.997037, 'loss_grapheme': 0.014067, 'loss_vowel': 0.006681, 'loss_consonant': 0.004011, 'loss_word': 0.014713}\n",
      "CYCLE: 1\n",
      "    8 | 0.000277 | 160640/160678 | 17.6224 | 5.4163 | 14.52 |\n",
      "val: {'recall': 0.997021, 'recall_grapheme': 0.995488, 'recall_vowel': 0.998185, 'recall_consonant': 0.998923, 'recall_word': 0.995881, 'acc_grapheme': 0.996091, 'acc_vowel': 0.998531, 'acc_consonant': 0.998805, 'acc_word': 0.995817, 'loss_grapheme': 0.018216, 'loss_vowel': 0.008646, 'loss_consonant': 0.005926, 'loss_word': 0.018805}\n",
      "    9 | 0.000271 | 160640/160678 | 5.5910 | 5.6269 | 14.50 ||"
     ]
    },
    {
     "name": "stderr",
     "output_type": "stream",
     "text": [
      "\r",
      "  0%|          | 0/1255 [00:00<?, ?it/s]"
     ]
    },
    {
     "name": "stdout",
     "output_type": "stream",
     "text": [
      "\n",
      "val: {'recall': 0.996452, 'recall_grapheme': 0.995173, 'recall_vowel': 0.99805, 'recall_consonant': 0.997411, 'recall_word': 0.995446, 'acc_grapheme': 0.995692, 'acc_vowel': 0.998282, 'acc_consonant': 0.998357, 'acc_word': 0.995443, 'loss_grapheme': 0.020047, 'loss_vowel': 0.008777, 'loss_consonant': 0.007031, 'loss_word': 0.020246}\n",
      "SWA>>>:\n"
     ]
    },
    {
     "name": "stderr",
     "output_type": "stream",
     "text": [
      "100%|██████████| 1255/1255 [07:22<00:00,  2.74it/s]\n"
     ]
    },
    {
     "name": "stdout",
     "output_type": "stream",
     "text": [
      "\n",
      "val: {'recall': 0.996948, 'recall_grapheme': 0.995878, 'recall_vowel': 0.998365, 'recall_consonant': 0.997671, 'recall_word': 0.996224, 'acc_grapheme': 0.996365, 'acc_vowel': 0.998606, 'acc_consonant': 0.99873, 'acc_word': 0.996166, 'loss_grapheme': 0.014388, 'loss_vowel': 0.006843, 'loss_consonant': 0.005331, 'loss_word': 0.015355}\n",
      "###>>>>> saved ./model4-ckps/tf_efficientnet_b4/model4_eb4_fold2_380.pth_swa\n",
      "   10 | 0.000266 | 160640/160678 | 0.7395 | 5.6629 | 14.55 ||\n",
      "val: {'recall': 0.996777, 'recall_grapheme': 0.995017, 'recall_vowel': 0.998473, 'recall_consonant': 0.9986, 'recall_word': 0.995581, 'acc_grapheme': 0.995817, 'acc_vowel': 0.998456, 'acc_consonant': 0.998531, 'acc_word': 0.995543, 'loss_grapheme': 0.01995, 'loss_vowel': 0.008123, 'loss_consonant': 0.006372, 'loss_word': 0.018806}\n",
      "   11 | 0.000259 | 160640/160678 | 3.3898 | 5.8648 | 14.48 ||"
     ]
    },
    {
     "name": "stderr",
     "output_type": "stream",
     "text": [
      "\r",
      "  0%|          | 0/1255 [00:00<?, ?it/s]"
     ]
    },
    {
     "name": "stdout",
     "output_type": "stream",
     "text": [
      "\n",
      "val: {'recall': 0.997052, 'recall_grapheme': 0.995819, 'recall_vowel': 0.998293, 'recall_consonant': 0.998278, 'recall_word': 0.996098, 'acc_grapheme': 0.996116, 'acc_vowel': 0.998481, 'acc_consonant': 0.998705, 'acc_word': 0.996066, 'loss_grapheme': 0.019854, 'loss_vowel': 0.009025, 'loss_consonant': 0.006829, 'loss_word': 0.017836}\n",
      "SWA>>>:\n"
     ]
    },
    {
     "name": "stderr",
     "output_type": "stream",
     "text": [
      "100%|██████████| 1255/1255 [07:22<00:00,  2.88it/s]\n"
     ]
    },
    {
     "name": "stdout",
     "output_type": "stream",
     "text": [
      "\n",
      "val: {'recall': 0.997659, 'recall_grapheme': 0.9972, 'recall_vowel': 0.998749, 'recall_consonant': 0.997486, 'recall_word': 0.997172, 'acc_grapheme': 0.997361, 'acc_vowel': 0.99888, 'acc_consonant': 0.999079, 'acc_word': 0.997137, 'loss_grapheme': 0.010937, 'loss_vowel': 0.005405, 'loss_consonant': 0.003997, 'loss_word': 0.011897}\n",
      "###>>>>> saved ./model4-ckps/tf_efficientnet_b4/model4_eb4_fold2_380.pth_swa\n",
      "   12 | 0.000253 | 160640/160678 | 7.8424 | 5.6098 | 14.51 ||\n",
      "val: {'recall': 0.99691, 'recall_grapheme': 0.995702, 'recall_vowel': 0.998172, 'recall_consonant': 0.998065, 'recall_word': 0.996142, 'acc_grapheme': 0.996141, 'acc_vowel': 0.998531, 'acc_consonant': 0.998855, 'acc_word': 0.996116, 'loss_grapheme': 0.01899, 'loss_vowel': 0.007375, 'loss_consonant': 0.005545, 'loss_word': 0.017601}\n",
      "   13 | 0.000246 | 160640/160678 | 0.5989 | 5.5960 | 14.54 ||"
     ]
    },
    {
     "name": "stderr",
     "output_type": "stream",
     "text": [
      "\r",
      "  0%|          | 0/1255 [00:00<?, ?it/s]"
     ]
    },
    {
     "name": "stdout",
     "output_type": "stream",
     "text": [
      "\n",
      "val: {'recall': 0.99723, 'recall_grapheme': 0.995767, 'recall_vowel': 0.998427, 'recall_consonant': 0.99896, 'recall_word': 0.996256, 'acc_grapheme': 0.99624, 'acc_vowel': 0.998755, 'acc_consonant': 0.998805, 'acc_word': 0.996215, 'loss_grapheme': 0.01634, 'loss_vowel': 0.006459, 'loss_consonant': 0.005056, 'loss_word': 0.015936}\n",
      "SWA>>>:\n"
     ]
    },
    {
     "name": "stderr",
     "output_type": "stream",
     "text": [
      "100%|██████████| 1255/1255 [07:23<00:00,  2.82it/s]\n"
     ]
    },
    {
     "name": "stdout",
     "output_type": "stream",
     "text": [
      "\n",
      "val: {'recall': 0.998279, 'recall_grapheme': 0.997482, 'recall_vowel': 0.99894, 'recall_consonant': 0.999211, 'recall_word': 0.997412, 'acc_grapheme': 0.997734, 'acc_vowel': 0.999054, 'acc_consonant': 0.999303, 'acc_word': 0.997336, 'loss_grapheme': 0.010136, 'loss_vowel': 0.005108, 'loss_consonant': 0.003642, 'loss_word': 0.010995}\n",
      "###>>>>> saved ./model4-ckps/tf_efficientnet_b4/model4_eb4_fold2_380.pth_swa\n",
      "   14 | 0.000238 | 160640/160678 | 0.9021 | 5.4465 | 14.59 ||\n",
      "val: {'recall': 0.997424, 'recall_grapheme': 0.996629, 'recall_vowel': 0.998472, 'recall_consonant': 0.997967, 'recall_word': 0.996573, 'acc_grapheme': 0.996788, 'acc_vowel': 0.998755, 'acc_consonant': 0.998855, 'acc_word': 0.996539, 'loss_grapheme': 0.014499, 'loss_vowel': 0.006752, 'loss_consonant': 0.005164, 'loss_word': 0.015201}\n",
      "   15 | 0.000230 | 160640/160678 | 0.2959 | 5.4533 | 14.58 ||"
     ]
    },
    {
     "name": "stderr",
     "output_type": "stream",
     "text": [
      "\r",
      "  0%|          | 0/1255 [00:00<?, ?it/s]"
     ]
    },
    {
     "name": "stdout",
     "output_type": "stream",
     "text": [
      "\n",
      "val: {'recall': 0.997111, 'recall_grapheme': 0.996052, 'recall_vowel': 0.998064, 'recall_consonant': 0.998275, 'recall_word': 0.99635, 'acc_grapheme': 0.996589, 'acc_vowel': 0.998506, 'acc_consonant': 0.99878, 'acc_word': 0.99629, 'loss_grapheme': 0.015419, 'loss_vowel': 0.007114, 'loss_consonant': 0.004932, 'loss_word': 0.015244}\n",
      "SWA>>>:\n"
     ]
    },
    {
     "name": "stderr",
     "output_type": "stream",
     "text": [
      "100%|██████████| 1255/1255 [07:25<00:00,  2.88it/s]\n"
     ]
    },
    {
     "name": "stdout",
     "output_type": "stream",
     "text": [
      "\n",
      "val: {'recall': 0.998272, 'recall_grapheme': 0.997468, 'recall_vowel': 0.998916, 'recall_consonant': 0.999236, 'recall_word': 0.997627, 'acc_grapheme': 0.997834, 'acc_vowel': 0.999029, 'acc_consonant': 0.999303, 'acc_word': 0.99756, 'loss_grapheme': 0.00945, 'loss_vowel': 0.004925, 'loss_consonant': 0.003254, 'loss_word': 0.010409}\n",
      "   16 | 0.000222 | 160640/160678 | 10.8112 | 5.4566 | 14.58 |\n",
      "val: {'recall': 0.9971, 'recall_grapheme': 0.996088, 'recall_vowel': 0.998334, 'recall_consonant': 0.99789, 'recall_word': 0.996763, 'acc_grapheme': 0.996639, 'acc_vowel': 0.998606, 'acc_consonant': 0.998979, 'acc_word': 0.996738, 'loss_grapheme': 0.016413, 'loss_vowel': 0.007198, 'loss_consonant': 0.005118, 'loss_word': 0.015594}\n",
      "   17 | 0.000214 | 160640/160678 | 1.0638 | 5.5931 | 14.57 ||"
     ]
    },
    {
     "name": "stderr",
     "output_type": "stream",
     "text": [
      "\r",
      "  0%|          | 0/1255 [00:00<?, ?it/s]"
     ]
    },
    {
     "name": "stdout",
     "output_type": "stream",
     "text": [
      "\n",
      "val: {'recall': 0.997485, 'recall_grapheme': 0.99627, 'recall_vowel': 0.998553, 'recall_consonant': 0.998849, 'recall_word': 0.996588, 'acc_grapheme': 0.996415, 'acc_vowel': 0.998655, 'acc_consonant': 0.998805, 'acc_word': 0.996514, 'loss_grapheme': 0.016593, 'loss_vowel': 0.006738, 'loss_consonant': 0.004625, 'loss_word': 0.016071}\n",
      "SWA>>>:\n"
     ]
    },
    {
     "name": "stderr",
     "output_type": "stream",
     "text": [
      "100%|██████████| 1255/1255 [07:25<00:00,  2.79it/s]\n"
     ]
    },
    {
     "name": "stdout",
     "output_type": "stream",
     "text": [
      "\n",
      "val: {'recall': 0.998293, 'recall_grapheme': 0.997527, 'recall_vowel': 0.998817, 'recall_consonant': 0.9993, 'recall_word': 0.997691, 'acc_grapheme': 0.997784, 'acc_vowel': 0.999004, 'acc_consonant': 0.999353, 'acc_word': 0.997635, 'loss_grapheme': 0.009491, 'loss_vowel': 0.004963, 'loss_consonant': 0.003214, 'loss_word': 0.010376}\n",
      "###>>>>> saved ./model4-ckps/tf_efficientnet_b4/model4_eb4_fold2_380.pth_swa\n",
      "   18 | 0.000205 | 160640/160678 | 7.0467 | 5.5238 | 14.56 ||\n",
      "val: {'recall': 0.997625, 'recall_grapheme': 0.996493, 'recall_vowel': 0.998441, 'recall_consonant': 0.999073, 'recall_word': 0.996895, 'acc_grapheme': 0.996813, 'acc_vowel': 0.998481, 'acc_consonant': 0.998755, 'acc_word': 0.996838, 'loss_grapheme': 0.016372, 'loss_vowel': 0.007979, 'loss_consonant': 0.005166, 'loss_word': 0.015654}\n",
      "   19 | 0.000196 | 160640/160678 | 3.4533 | 5.4238 | 14.60 ||"
     ]
    },
    {
     "name": "stderr",
     "output_type": "stream",
     "text": [
      "\r",
      "  0%|          | 0/1255 [00:00<?, ?it/s]"
     ]
    },
    {
     "name": "stdout",
     "output_type": "stream",
     "text": [
      "\n",
      "val: {'recall': 0.99692, 'recall_grapheme': 0.995621, 'recall_vowel': 0.998479, 'recall_consonant': 0.997959, 'recall_word': 0.99645, 'acc_grapheme': 0.996664, 'acc_vowel': 0.99873, 'acc_consonant': 0.998929, 'acc_word': 0.996365, 'loss_grapheme': 0.016834, 'loss_vowel': 0.008012, 'loss_consonant': 0.005066, 'loss_word': 0.017097}\n",
      "SWA>>>:\n"
     ]
    },
    {
     "name": "stderr",
     "output_type": "stream",
     "text": [
      "100%|██████████| 1255/1255 [07:27<00:00,  2.74it/s]\n"
     ]
    },
    {
     "name": "stdout",
     "output_type": "stream",
     "text": [
      "\n",
      "val: {'recall': 0.99816, 'recall_grapheme': 0.99789, 'recall_vowel': 0.998713, 'recall_consonant': 0.998148, 'recall_word': 0.997754, 'acc_grapheme': 0.997933, 'acc_vowel': 0.998954, 'acc_consonant': 0.999253, 'acc_word': 0.997684, 'loss_grapheme': 0.009345, 'loss_vowel': 0.004971, 'loss_consonant': 0.003197, 'loss_word': 0.01029}\n",
      "   20 | 0.000187 | 160640/160678 | 0.1724 | 5.5307 | 14.58 ||\n",
      "val: {'recall': 0.997614, 'recall_grapheme': 0.996261, 'recall_vowel': 0.998878, 'recall_consonant': 0.999056, 'recall_word': 0.99668, 'acc_grapheme': 0.996639, 'acc_vowel': 0.998855, 'acc_consonant': 0.998979, 'acc_word': 0.996688, 'loss_grapheme': 0.014644, 'loss_vowel': 0.006527, 'loss_consonant': 0.004221, 'loss_word': 0.014517}\n",
      "   21 | 0.000178 | 160640/160678 | 5.8060 | 5.4238 | 14.58 ||"
     ]
    },
    {
     "name": "stderr",
     "output_type": "stream",
     "text": [
      "\r",
      "  0%|          | 0/1255 [00:00<?, ?it/s]"
     ]
    },
    {
     "name": "stdout",
     "output_type": "stream",
     "text": [
      "\n",
      "val: {'recall': 0.997168, 'recall_grapheme': 0.995851, 'recall_vowel': 0.998182, 'recall_consonant': 0.998788, 'recall_word': 0.996638, 'acc_grapheme': 0.996688, 'acc_vowel': 0.998581, 'acc_consonant': 0.998929, 'acc_word': 0.996614, 'loss_grapheme': 0.016731, 'loss_vowel': 0.007349, 'loss_consonant': 0.005529, 'loss_word': 0.015817}\n",
      "SWA>>>:\n"
     ]
    },
    {
     "name": "stderr",
     "output_type": "stream",
     "text": [
      "100%|██████████| 1255/1255 [07:25<00:00,  2.85it/s]\n"
     ]
    },
    {
     "name": "stdout",
     "output_type": "stream",
     "text": [
      "\n",
      "val: {'recall': 0.998163, 'recall_grapheme': 0.997843, 'recall_vowel': 0.99882, 'recall_consonant': 0.998148, 'recall_word': 0.997786, 'acc_grapheme': 0.997933, 'acc_vowel': 0.999054, 'acc_consonant': 0.999253, 'acc_word': 0.997734, 'loss_grapheme': 0.009366, 'loss_vowel': 0.004833, 'loss_consonant': 0.003136, 'loss_word': 0.010248}\n",
      "   22 | 0.000169 | 160640/160678 | 0.4853 | 5.6410 | 14.54 ||\n",
      "val: {'recall': 0.997365, 'recall_grapheme': 0.996448, 'recall_vowel': 0.998528, 'recall_consonant': 0.998038, 'recall_word': 0.996706, 'acc_grapheme': 0.996838, 'acc_vowel': 0.99868, 'acc_consonant': 0.999029, 'acc_word': 0.996688, 'loss_grapheme': 0.014289, 'loss_vowel': 0.006897, 'loss_consonant': 0.004664, 'loss_word': 0.014415}\n",
      "   23 | 0.000159 | 160640/160678 | 0.5007 | 5.3476 | 14.63 ||"
     ]
    },
    {
     "name": "stderr",
     "output_type": "stream",
     "text": [
      "\r",
      "  0%|          | 0/1255 [00:00<?, ?it/s]"
     ]
    },
    {
     "name": "stdout",
     "output_type": "stream",
     "text": [
      "\n",
      "val: {'recall': 0.997548, 'recall_grapheme': 0.996134, 'recall_vowel': 0.998889, 'recall_consonant': 0.999033, 'recall_word': 0.996602, 'acc_grapheme': 0.996713, 'acc_vowel': 0.99873, 'acc_consonant': 0.998929, 'acc_word': 0.996489, 'loss_grapheme': 0.013565, 'loss_vowel': 0.006413, 'loss_consonant': 0.004768, 'loss_word': 0.014008}\n",
      "SWA>>>:\n"
     ]
    },
    {
     "name": "stderr",
     "output_type": "stream",
     "text": [
      "100%|██████████| 1255/1255 [07:26<00:00,  2.82it/s]\n"
     ]
    },
    {
     "name": "stdout",
     "output_type": "stream",
     "text": [
      "\n",
      "val: {'recall': 0.998111, 'recall_grapheme': 0.997599, 'recall_vowel': 0.998997, 'recall_consonant': 0.998249, 'recall_word': 0.997787, 'acc_grapheme': 0.997908, 'acc_vowel': 0.999129, 'acc_consonant': 0.999328, 'acc_word': 0.997734, 'loss_grapheme': 0.009398, 'loss_vowel': 0.004793, 'loss_consonant': 0.003064, 'loss_word': 0.010248}\n",
      "   24 | 0.000150 | 160640/160678 | 4.1812 | 5.4920 | 14.53 ||\n",
      "val: {'recall': 0.997489, 'recall_grapheme': 0.996161, 'recall_vowel': 0.998651, 'recall_consonant': 0.998982, 'recall_word': 0.996339, 'acc_grapheme': 0.996514, 'acc_vowel': 0.99878, 'acc_consonant': 0.998954, 'acc_word': 0.99629, 'loss_grapheme': 0.018486, 'loss_vowel': 0.007118, 'loss_consonant': 0.005611, 'loss_word': 0.018274}\n",
      "   25 | 0.000141 | 160640/160678 | 0.3945 | 5.3263 | 14.55 ||"
     ]
    },
    {
     "name": "stderr",
     "output_type": "stream",
     "text": [
      "\r",
      "  0%|          | 0/1255 [00:00<?, ?it/s]"
     ]
    },
    {
     "name": "stdout",
     "output_type": "stream",
     "text": [
      "\n",
      "val: {'recall': 0.997532, 'recall_grapheme': 0.996112, 'recall_vowel': 0.998809, 'recall_consonant': 0.999096, 'recall_word': 0.996716, 'acc_grapheme': 0.996888, 'acc_vowel': 0.998805, 'acc_consonant': 0.999153, 'acc_word': 0.996664, 'loss_grapheme': 0.014281, 'loss_vowel': 0.007193, 'loss_consonant': 0.003904, 'loss_word': 0.014757}\n",
      "SWA>>>:\n"
     ]
    },
    {
     "name": "stderr",
     "output_type": "stream",
     "text": [
      "100%|██████████| 1255/1255 [07:25<00:00,  2.74it/s]\n"
     ]
    },
    {
     "name": "stdout",
     "output_type": "stream",
     "text": [
      "\n",
      "val: {'recall': 0.998078, 'recall_grapheme': 0.997529, 'recall_vowel': 0.99904, 'recall_consonant': 0.998215, 'recall_word': 0.997784, 'acc_grapheme': 0.997834, 'acc_vowel': 0.999129, 'acc_consonant': 0.999303, 'acc_word': 0.997734, 'loss_grapheme': 0.009424, 'loss_vowel': 0.004763, 'loss_consonant': 0.003038, 'loss_word': 0.01031}\n",
      "   26 | 0.000131 | 160640/160678 | 6.5092 | 5.3686 | 14.53 ||\n",
      "val: {'recall': 0.998148, 'recall_grapheme': 0.997199, 'recall_vowel': 0.998979, 'recall_consonant': 0.999214, 'recall_word': 0.997097, 'acc_grapheme': 0.997161, 'acc_vowel': 0.999004, 'acc_consonant': 0.999303, 'acc_word': 0.997012, 'loss_grapheme': 0.013813, 'loss_vowel': 0.00617, 'loss_consonant': 0.003575, 'loss_word': 0.014154}\n",
      "###>>>>> saved ./model4-ckps/tf_efficientnet_b4/model4_eb4_fold2_380.pth\n",
      "   27 | 0.000122 | 160640/160678 | 2.1280 | 5.3695 | 14.53 ||"
     ]
    },
    {
     "name": "stderr",
     "output_type": "stream",
     "text": [
      "\r",
      "  0%|          | 0/1255 [00:00<?, ?it/s]"
     ]
    },
    {
     "name": "stdout",
     "output_type": "stream",
     "text": [
      "\n",
      "val: {'recall': 0.997558, 'recall_grapheme': 0.996641, 'recall_vowel': 0.998874, 'recall_consonant': 0.998077, 'recall_word': 0.996967, 'acc_grapheme': 0.996913, 'acc_vowel': 0.999004, 'acc_consonant': 0.999029, 'acc_word': 0.996888, 'loss_grapheme': 0.015472, 'loss_vowel': 0.005969, 'loss_consonant': 0.004342, 'loss_word': 0.015308}\n",
      "SWA>>>:\n"
     ]
    },
    {
     "name": "stderr",
     "output_type": "stream",
     "text": [
      "100%|██████████| 1255/1255 [07:26<00:00,  2.80it/s]\n"
     ]
    },
    {
     "name": "stdout",
     "output_type": "stream",
     "text": [
      "\n",
      "val: {'recall': 0.997982, 'recall_grapheme': 0.997361, 'recall_vowel': 0.998929, 'recall_consonant': 0.998277, 'recall_word': 0.997726, 'acc_grapheme': 0.997809, 'acc_vowel': 0.999129, 'acc_consonant': 0.999328, 'acc_word': 0.997659, 'loss_grapheme': 0.009388, 'loss_vowel': 0.00465, 'loss_consonant': 0.003021, 'loss_word': 0.010281}\n",
      "   28 | 0.000113 | 160640/160678 | 6.4669 | 5.1745 | 14.57 ||\n",
      "val: {'recall': 0.997363, 'recall_grapheme': 0.995762, 'recall_vowel': 0.998714, 'recall_consonant': 0.999213, 'recall_word': 0.996578, 'acc_grapheme': 0.996415, 'acc_vowel': 0.99888, 'acc_consonant': 0.999178, 'acc_word': 0.996564, 'loss_grapheme': 0.016631, 'loss_vowel': 0.006573, 'loss_consonant': 0.00435, 'loss_word': 0.016137}\n",
      "   29 | 0.000104 | 160640/160678 | 3.5526 | 5.4778 | 14.53 ||"
     ]
    },
    {
     "name": "stderr",
     "output_type": "stream",
     "text": [
      "\r",
      "  0%|          | 0/1255 [00:00<?, ?it/s]"
     ]
    },
    {
     "name": "stdout",
     "output_type": "stream",
     "text": [
      "\n",
      "val: {'recall': 0.997784, 'recall_grapheme': 0.996369, 'recall_vowel': 0.998917, 'recall_consonant': 0.999481, 'recall_word': 0.997117, 'acc_grapheme': 0.997087, 'acc_vowel': 0.99888, 'acc_consonant': 0.999253, 'acc_word': 0.997087, 'loss_grapheme': 0.013385, 'loss_vowel': 0.00576, 'loss_consonant': 0.00373, 'loss_word': 0.013619}\n",
      "SWA>>>:\n"
     ]
    },
    {
     "name": "stderr",
     "output_type": "stream",
     "text": [
      "100%|██████████| 1255/1255 [07:27<00:00,  2.78it/s]\n"
     ]
    },
    {
     "name": "stdout",
     "output_type": "stream",
     "text": [
      "\n",
      "val: {'recall': 0.997958, 'recall_grapheme': 0.997244, 'recall_vowel': 0.999031, 'recall_consonant': 0.998313, 'recall_word': 0.997818, 'acc_grapheme': 0.997809, 'acc_vowel': 0.999153, 'acc_consonant': 0.999378, 'acc_word': 0.997759, 'loss_grapheme': 0.009371, 'loss_vowel': 0.004609, 'loss_consonant': 0.002973, 'loss_word': 0.010263}\n",
      "   30 | 0.000095 | 160640/160678 | 0.2567 | 5.2458 | 14.57 ||\n",
      "val: {'recall': 0.997458, 'recall_grapheme': 0.996076, 'recall_vowel': 0.998504, 'recall_consonant': 0.999177, 'recall_word': 0.996873, 'acc_grapheme': 0.996863, 'acc_vowel': 0.998855, 'acc_consonant': 0.999153, 'acc_word': 0.996863, 'loss_grapheme': 0.01391, 'loss_vowel': 0.006248, 'loss_consonant': 0.00431, 'loss_word': 0.013823}\n",
      "   31 | 0.000086 | 160640/160678 | 5.5823 | 5.3276 | 14.60 ||"
     ]
    },
    {
     "name": "stderr",
     "output_type": "stream",
     "text": [
      "\r",
      "  0%|          | 0/1255 [00:00<?, ?it/s]"
     ]
    },
    {
     "name": "stdout",
     "output_type": "stream",
     "text": [
      "\n",
      "val: {'recall': 0.997125, 'recall_grapheme': 0.995724, 'recall_vowel': 0.998909, 'recall_consonant': 0.998144, 'recall_word': 0.996994, 'acc_grapheme': 0.996937, 'acc_vowel': 0.999029, 'acc_consonant': 0.999104, 'acc_word': 0.996913, 'loss_grapheme': 0.013782, 'loss_vowel': 0.006047, 'loss_consonant': 0.004345, 'loss_word': 0.014376}\n",
      "SWA>>>:\n"
     ]
    },
    {
     "name": "stderr",
     "output_type": "stream",
     "text": [
      "100%|██████████| 1255/1255 [07:26<00:00,  2.79it/s]\n"
     ]
    },
    {
     "name": "stdout",
     "output_type": "stream",
     "text": [
      "\n",
      "val: {'recall': 0.998041, 'recall_grapheme': 0.99742, 'recall_vowel': 0.998975, 'recall_consonant': 0.998349, 'recall_word': 0.997769, 'acc_grapheme': 0.997859, 'acc_vowel': 0.999153, 'acc_consonant': 0.999427, 'acc_word': 0.997709, 'loss_grapheme': 0.009282, 'loss_vowel': 0.004571, 'loss_consonant': 0.002991, 'loss_word': 0.010217}\n",
      "   32 | 0.000078 | 160640/160678 | 0.5919 | 5.2410 | 14.64 ||\n",
      "val: {'recall': 0.997941, 'recall_grapheme': 0.996732, 'recall_vowel': 0.999022, 'recall_consonant': 0.999277, 'recall_word': 0.997319, 'acc_grapheme': 0.997535, 'acc_vowel': 0.999054, 'acc_consonant': 0.999253, 'acc_word': 0.997236, 'loss_grapheme': 0.011815, 'loss_vowel': 0.005973, 'loss_consonant': 0.004206, 'loss_word': 0.01213}\n",
      "   33 | 0.000070 | 160640/160678 | 10.1644 | 5.4185 | 14.60 |"
     ]
    },
    {
     "name": "stderr",
     "output_type": "stream",
     "text": [
      "\r",
      "  0%|          | 0/1255 [00:00<?, ?it/s]"
     ]
    },
    {
     "name": "stdout",
     "output_type": "stream",
     "text": [
      "\n",
      "val: {'recall': 0.997816, 'recall_grapheme': 0.996792, 'recall_vowel': 0.998615, 'recall_consonant': 0.999067, 'recall_word': 0.996946, 'acc_grapheme': 0.997236, 'acc_vowel': 0.998855, 'acc_consonant': 0.999054, 'acc_word': 0.996913, 'loss_grapheme': 0.013915, 'loss_vowel': 0.006617, 'loss_consonant': 0.004566, 'loss_word': 0.014077}\n",
      "SWA>>>:\n"
     ]
    },
    {
     "name": "stderr",
     "output_type": "stream",
     "text": [
      "100%|██████████| 1255/1255 [07:26<00:00,  2.79it/s]\n"
     ]
    },
    {
     "name": "stdout",
     "output_type": "stream",
     "text": [
      "\n",
      "val: {'recall': 0.998109, 'recall_grapheme': 0.997543, 'recall_vowel': 0.999002, 'recall_consonant': 0.998349, 'recall_word': 0.997843, 'acc_grapheme': 0.997884, 'acc_vowel': 0.999203, 'acc_consonant': 0.999427, 'acc_word': 0.997784, 'loss_grapheme': 0.009255, 'loss_vowel': 0.004585, 'loss_consonant': 0.002982, 'loss_word': 0.010173}\n",
      "   34 | 0.000062 | 160640/160678 | 0.3335 | 5.1165 | 14.51 ||\n",
      "val: {'recall': 0.99808, 'recall_grapheme': 0.997194, 'recall_vowel': 0.998808, 'recall_consonant': 0.999125, 'recall_word': 0.997242, 'acc_grapheme': 0.997435, 'acc_vowel': 0.999004, 'acc_consonant': 0.999104, 'acc_word': 0.997211, 'loss_grapheme': 0.012228, 'loss_vowel': 0.005703, 'loss_consonant': 0.004255, 'loss_word': 0.012804}\n",
      "   35 | 0.000054 | 160640/160678 | 0.3949 | 5.3013 | 14.56 ||"
     ]
    },
    {
     "name": "stderr",
     "output_type": "stream",
     "text": [
      "\r",
      "  0%|          | 0/1255 [00:00<?, ?it/s]"
     ]
    },
    {
     "name": "stdout",
     "output_type": "stream",
     "text": [
      "\n",
      "val: {'recall': 0.998103, 'recall_grapheme': 0.99719, 'recall_vowel': 0.998927, 'recall_consonant': 0.999106, 'recall_word': 0.99711, 'acc_grapheme': 0.997161, 'acc_vowel': 0.998979, 'acc_consonant': 0.999129, 'acc_word': 0.997037, 'loss_grapheme': 0.013102, 'loss_vowel': 0.005594, 'loss_consonant': 0.004074, 'loss_word': 0.013366}\n",
      "SWA>>>:\n"
     ]
    },
    {
     "name": "stderr",
     "output_type": "stream",
     "text": [
      "100%|██████████| 1255/1255 [07:25<00:00,  2.74it/s]\n"
     ]
    },
    {
     "name": "stdout",
     "output_type": "stream",
     "text": [
      "\n",
      "val: {'recall': 0.99812, 'recall_grapheme': 0.997522, 'recall_vowel': 0.999086, 'recall_consonant': 0.998349, 'recall_word': 0.997829, 'acc_grapheme': 0.997884, 'acc_vowel': 0.999228, 'acc_consonant': 0.999427, 'acc_word': 0.997759, 'loss_grapheme': 0.009242, 'loss_vowel': 0.004549, 'loss_consonant': 0.002976, 'loss_word': 0.01017}\n",
      "   36 | 0.000047 | 160640/160678 | 0.2078 | 4.8793 | 14.68 ||\n",
      "val: {'recall': 0.998102, 'recall_grapheme': 0.997193, 'recall_vowel': 0.998795, 'recall_consonant': 0.999224, 'recall_word': 0.997163, 'acc_grapheme': 0.997261, 'acc_vowel': 0.998954, 'acc_consonant': 0.999253, 'acc_word': 0.997112, 'loss_grapheme': 0.011946, 'loss_vowel': 0.005578, 'loss_consonant': 0.003887, 'loss_word': 0.012467}\n",
      "   37 | 0.000041 | 160640/160678 | 3.3179 | 5.2388 | 14.56 ||\n",
      "val: {'recall': 0.99818, 'recall_grapheme': 0.997343, 'recall_vowel': 0.998791, 'recall_consonant': 0.99924, 'recall_word': 0.997164, 'acc_grapheme': 0.997336, 'acc_vowel': 0.998904, 'acc_consonant': 0.999228, 'acc_word': 0.997112, 'loss_grapheme': 0.01345, 'loss_vowel': 0.006076, 'loss_consonant': 0.003821, 'loss_word': 0.01327}\n"
     ]
    },
    {
     "name": "stderr",
     "output_type": "stream",
     "text": [
      "\r",
      "  0%|          | 0/1255 [00:00<?, ?it/s]"
     ]
    },
    {
     "name": "stdout",
     "output_type": "stream",
     "text": [
      "###>>>>> saved ./model4-ckps/tf_efficientnet_b4/model4_eb4_fold2_380.pth\n",
      "SWA>>>:\n"
     ]
    },
    {
     "name": "stderr",
     "output_type": "stream",
     "text": [
      "100%|██████████| 1255/1255 [07:25<00:00,  2.87it/s]\n"
     ]
    },
    {
     "name": "stdout",
     "output_type": "stream",
     "text": [
      "\n",
      "val: {'recall': 0.99812, 'recall_grapheme': 0.997522, 'recall_vowel': 0.999086, 'recall_consonant': 0.998349, 'recall_word': 0.99789, 'acc_grapheme': 0.997884, 'acc_vowel': 0.999228, 'acc_consonant': 0.999427, 'acc_word': 0.997834, 'loss_grapheme': 0.009227, 'loss_vowel': 0.004542, 'loss_consonant': 0.002948, 'loss_word': 0.010151}\n",
      "   38 | 0.000034 | 160640/160678 | 6.3619 | 5.0688 | 14.67 ||\n",
      "val: {'recall': 0.997851, 'recall_grapheme': 0.996699, 'recall_vowel': 0.998863, 'recall_consonant': 0.999145, 'recall_word': 0.996965, 'acc_grapheme': 0.997112, 'acc_vowel': 0.999029, 'acc_consonant': 0.999203, 'acc_word': 0.996913, 'loss_grapheme': 0.013457, 'loss_vowel': 0.005713, 'loss_consonant': 0.003765, 'loss_word': 0.013643}\n",
      "   39 | 0.000029 | 160640/160678 | 0.1548 | 4.9497 | 14.65 ||"
     ]
    },
    {
     "name": "stderr",
     "output_type": "stream",
     "text": [
      "\r",
      "  0%|          | 0/1255 [00:00<?, ?it/s]"
     ]
    },
    {
     "name": "stdout",
     "output_type": "stream",
     "text": [
      "\n",
      "val: {'recall': 0.997767, 'recall_grapheme': 0.996576, 'recall_vowel': 0.998777, 'recall_consonant': 0.999137, 'recall_word': 0.997026, 'acc_grapheme': 0.997161, 'acc_vowel': 0.999029, 'acc_consonant': 0.999278, 'acc_word': 0.996962, 'loss_grapheme': 0.013439, 'loss_vowel': 0.005828, 'loss_consonant': 0.003872, 'loss_word': 0.01343}\n",
      "SWA>>>:\n"
     ]
    },
    {
     "name": "stderr",
     "output_type": "stream",
     "text": [
      "100%|██████████| 1255/1255 [07:28<00:00,  2.85it/s]\n"
     ]
    },
    {
     "name": "stdout",
     "output_type": "stream",
     "text": [
      "\n",
      "val: {'recall': 0.998414, 'recall_grapheme': 0.997569, 'recall_vowel': 0.999086, 'recall_consonant': 0.999431, 'recall_word': 0.99789, 'acc_grapheme': 0.997908, 'acc_vowel': 0.999228, 'acc_consonant': 0.999452, 'acc_word': 0.997834, 'loss_grapheme': 0.009208, 'loss_vowel': 0.004521, 'loss_consonant': 0.002917, 'loss_word': 0.010137}\n",
      "###>>>>> saved ./model4-ckps/tf_efficientnet_b4/model4_eb4_fold2_380.pth_swa\n",
      "   40 | 0.000023 | 160640/160678 | 0.1099 | 5.2530 | 14.59 ||\n",
      "val: {'recall': 0.998044, 'recall_grapheme': 0.997001, 'recall_vowel': 0.998917, 'recall_consonant': 0.999258, 'recall_word': 0.997205, 'acc_grapheme': 0.997161, 'acc_vowel': 0.999079, 'acc_consonant': 0.999278, 'acc_word': 0.997137, 'loss_grapheme': 0.013107, 'loss_vowel': 0.00523, 'loss_consonant': 0.003554, 'loss_word': 0.013355}\n",
      "   41 | 0.000019 | 160640/160678 | 6.3527 | 5.0418 | 14.64 ||"
     ]
    },
    {
     "name": "stderr",
     "output_type": "stream",
     "text": [
      "\r",
      "  0%|          | 0/1255 [00:00<?, ?it/s]"
     ]
    },
    {
     "name": "stdout",
     "output_type": "stream",
     "text": [
      "\n",
      "val: {'recall': 0.997956, 'recall_grapheme': 0.996988, 'recall_vowel': 0.998758, 'recall_consonant': 0.999092, 'recall_word': 0.997318, 'acc_grapheme': 0.997386, 'acc_vowel': 0.999004, 'acc_consonant': 0.999203, 'acc_word': 0.997261, 'loss_grapheme': 0.012335, 'loss_vowel': 0.005705, 'loss_consonant': 0.00362, 'loss_word': 0.01248}\n",
      "SWA>>>:\n"
     ]
    },
    {
     "name": "stderr",
     "output_type": "stream",
     "text": [
      "100%|██████████| 1255/1255 [07:26<00:00,  2.87it/s]\n"
     ]
    },
    {
     "name": "stdout",
     "output_type": "stream",
     "text": [
      "\n",
      "val: {'recall': 0.998413, 'recall_grapheme': 0.997562, 'recall_vowel': 0.999098, 'recall_consonant': 0.999431, 'recall_word': 0.997919, 'acc_grapheme': 0.997884, 'acc_vowel': 0.999253, 'acc_consonant': 0.999452, 'acc_word': 0.997859, 'loss_grapheme': 0.009221, 'loss_vowel': 0.0045, 'loss_consonant': 0.002919, 'loss_word': 0.010149}\n",
      "   42 | 0.000014 | 160640/160678 | 10.6267 | 5.1114 | 14.64 |\n",
      "val: {'recall': 0.997724, 'recall_grapheme': 0.996545, 'recall_vowel': 0.998823, 'recall_consonant': 0.998982, 'recall_word': 0.997079, 'acc_grapheme': 0.997186, 'acc_vowel': 0.999079, 'acc_consonant': 0.999129, 'acc_word': 0.997012, 'loss_grapheme': 0.013765, 'loss_vowel': 0.00582, 'loss_consonant': 0.004092, 'loss_word': 0.013788}\n",
      "   43 | 0.000011 | 160640/160678 | 1.4242 | 5.1521 | 14.61 ||"
     ]
    },
    {
     "name": "stderr",
     "output_type": "stream",
     "text": [
      "\r",
      "  0%|          | 0/1255 [00:00<?, ?it/s]"
     ]
    },
    {
     "name": "stdout",
     "output_type": "stream",
     "text": [
      "\n",
      "val: {'recall': 0.998102, 'recall_grapheme': 0.997162, 'recall_vowel': 0.998811, 'recall_consonant': 0.999274, 'recall_word': 0.997238, 'acc_grapheme': 0.997311, 'acc_vowel': 0.999029, 'acc_consonant': 0.999253, 'acc_word': 0.997186, 'loss_grapheme': 0.012514, 'loss_vowel': 0.005523, 'loss_consonant': 0.003409, 'loss_word': 0.012822}\n",
      "SWA>>>:\n"
     ]
    },
    {
     "name": "stderr",
     "output_type": "stream",
     "text": [
      "100%|██████████| 1255/1255 [07:30<00:00,  2.78it/s]\n"
     ]
    },
    {
     "name": "stdout",
     "output_type": "stream",
     "text": [
      "\n",
      "val: {'recall': 0.998492, 'recall_grapheme': 0.997737, 'recall_vowel': 0.999091, 'recall_consonant': 0.999403, 'recall_word': 0.997962, 'acc_grapheme': 0.997933, 'acc_vowel': 0.999228, 'acc_consonant': 0.999452, 'acc_word': 0.997908, 'loss_grapheme': 0.009206, 'loss_vowel': 0.004505, 'loss_consonant': 0.002902, 'loss_word': 0.010147}\n",
      "###>>>>> saved ./model4-ckps/tf_efficientnet_b4/model4_eb4_fold2_380.pth_swa\n",
      "   44 | 0.000007 | 160640/160678 | 3.1264 | 5.0192 | 14.64 ||\n",
      "val: {'recall': 0.997855, 'recall_grapheme': 0.996737, 'recall_vowel': 0.998836, 'recall_consonant': 0.999111, 'recall_word': 0.997119, 'acc_grapheme': 0.996962, 'acc_vowel': 0.999079, 'acc_consonant': 0.999178, 'acc_word': 0.997087, 'loss_grapheme': 0.013595, 'loss_vowel': 0.00566, 'loss_consonant': 0.003851, 'loss_word': 0.013519}\n",
      "   45 | 0.000005 | 160640/160678 | 5.7163 | 5.3286 | 14.60 ||"
     ]
    },
    {
     "name": "stderr",
     "output_type": "stream",
     "text": [
      "\r",
      "  0%|          | 0/1255 [00:00<?, ?it/s]"
     ]
    },
    {
     "name": "stdout",
     "output_type": "stream",
     "text": [
      "\n",
      "val: {'recall': 0.997352, 'recall_grapheme': 0.996286, 'recall_vowel': 0.998744, 'recall_consonant': 0.99809, 'recall_word': 0.996978, 'acc_grapheme': 0.996763, 'acc_vowel': 0.998954, 'acc_consonant': 0.999153, 'acc_word': 0.996913, 'loss_grapheme': 0.015288, 'loss_vowel': 0.006136, 'loss_consonant': 0.004212, 'loss_word': 0.015159}\n",
      "SWA>>>:\n"
     ]
    },
    {
     "name": "stderr",
     "output_type": "stream",
     "text": [
      "100%|██████████| 1255/1255 [07:30<00:00,  2.85it/s]\n"
     ]
    },
    {
     "name": "stdout",
     "output_type": "stream",
     "text": [
      "\n",
      "val: {'recall': 0.998482, 'recall_grapheme': 0.997711, 'recall_vowel': 0.999103, 'recall_consonant': 0.999403, 'recall_word': 0.997983, 'acc_grapheme': 0.997908, 'acc_vowel': 0.999253, 'acc_consonant': 0.999452, 'acc_word': 0.997933, 'loss_grapheme': 0.009179, 'loss_vowel': 0.004486, 'loss_consonant': 0.002888, 'loss_word': 0.010123}\n",
      "   46 | 0.000003 | 160640/160678 | 6.3207 | 5.0260 | 14.68 ||\n",
      "val: {'recall': 0.997789, 'recall_grapheme': 0.996593, 'recall_vowel': 0.998826, 'recall_consonant': 0.999145, 'recall_word': 0.997141, 'acc_grapheme': 0.996937, 'acc_vowel': 0.999054, 'acc_consonant': 0.999178, 'acc_word': 0.997087, 'loss_grapheme': 0.014154, 'loss_vowel': 0.00571, 'loss_consonant': 0.003957, 'loss_word': 0.014027}\n",
      "   47 | 0.000001 | 160640/160678 | 5.0727 | 5.3185 | 14.67 ||\n",
      "val: {'recall': 0.998268, 'recall_grapheme': 0.997585, 'recall_vowel': 0.998839, 'recall_consonant': 0.999061, 'recall_word': 0.997331, 'acc_grapheme': 0.99746, 'acc_vowel': 0.999104, 'acc_consonant': 0.999228, 'acc_word': 0.997286, 'loss_grapheme': 0.012183, 'loss_vowel': 0.005558, 'loss_consonant': 0.0036, 'loss_word': 0.012152}\n"
     ]
    },
    {
     "name": "stderr",
     "output_type": "stream",
     "text": [
      "\r",
      "  0%|          | 0/1255 [00:00<?, ?it/s]"
     ]
    },
    {
     "name": "stdout",
     "output_type": "stream",
     "text": [
      "###>>>>> saved ./model4-ckps/tf_efficientnet_b4/model4_eb4_fold2_380.pth\n",
      "SWA>>>:\n"
     ]
    },
    {
     "name": "stderr",
     "output_type": "stream",
     "text": [
      "100%|██████████| 1255/1255 [07:30<00:00,  2.77it/s]\n"
     ]
    },
    {
     "name": "stdout",
     "output_type": "stream",
     "text": [
      "\n",
      "val: {'recall': 0.998482, 'recall_grapheme': 0.997711, 'recall_vowel': 0.999103, 'recall_consonant': 0.999403, 'recall_word': 0.997959, 'acc_grapheme': 0.997908, 'acc_vowel': 0.999253, 'acc_consonant': 0.999452, 'acc_word': 0.997908, 'loss_grapheme': 0.009157, 'loss_vowel': 0.004456, 'loss_consonant': 0.002886, 'loss_word': 0.010102}\n",
      "   48 | 0.000000 | 160640/160678 | 5.1759 | 5.0752 | 14.69 ||\n",
      "val: {'recall': 0.99797, 'recall_grapheme': 0.996977, 'recall_vowel': 0.998855, 'recall_consonant': 0.999073, 'recall_word': 0.997216, 'acc_grapheme': 0.997186, 'acc_vowel': 0.999129, 'acc_consonant': 0.999278, 'acc_word': 0.997161, 'loss_grapheme': 0.012723, 'loss_vowel': 0.005318, 'loss_consonant': 0.00351, 'loss_word': 0.01265}\n",
      "   49 | 0.000000 | 160640/160678 | 10.3980 | 5.2344 | 14.67 |"
     ]
    },
    {
     "name": "stderr",
     "output_type": "stream",
     "text": [
      "\r",
      "  0%|          | 0/1255 [00:00<?, ?it/s]"
     ]
    },
    {
     "name": "stdout",
     "output_type": "stream",
     "text": [
      "\n",
      "val: {'recall': 0.998145, 'recall_grapheme': 0.997263, 'recall_vowel': 0.998961, 'recall_consonant': 0.999095, 'recall_word': 0.99734, 'acc_grapheme': 0.99746, 'acc_vowel': 0.999153, 'acc_consonant': 0.999253, 'acc_word': 0.997286, 'loss_grapheme': 0.011741, 'loss_vowel': 0.005311, 'loss_consonant': 0.003502, 'loss_word': 0.011915}\n",
      "SWA>>>:\n"
     ]
    },
    {
     "name": "stderr",
     "output_type": "stream",
     "text": [
      "100%|██████████| 1255/1255 [07:30<00:00,  2.70it/s]\n"
     ]
    },
    {
     "name": "stdout",
     "output_type": "stream",
     "text": [
      "\n",
      "val: {'recall': 0.998554, 'recall_grapheme': 0.997807, 'recall_vowel': 0.999103, 'recall_consonant': 0.999499, 'recall_word': 0.997983, 'acc_grapheme': 0.997933, 'acc_vowel': 0.999253, 'acc_consonant': 0.999477, 'acc_word': 0.997933, 'loss_grapheme': 0.009159, 'loss_vowel': 0.004458, 'loss_consonant': 0.002894, 'loss_word': 0.01011}\n",
      "###>>>>> saved ./model4-ckps/tf_efficientnet_b4/model4_eb4_fold2_380.pth_swa\n",
      "CYCLE: 2\n",
      "    8 | 0.000277 | 160640/160678 | 6.5008 | 5.4948 | 14.68 ||\n",
      "val: {'recall': 0.996787, 'recall_grapheme': 0.996248, 'recall_vowel': 0.998255, 'recall_consonant': 0.996396, 'recall_word': 0.996018, 'acc_grapheme': 0.99624, 'acc_vowel': 0.998282, 'acc_consonant': 0.998481, 'acc_word': 0.995966, 'loss_grapheme': 0.018003, 'loss_vowel': 0.008212, 'loss_consonant': 0.005905, 'loss_word': 0.018469}\n",
      "    9 | 0.000273 | 104064/160678 | 6.6273 | 5.6662 | 9.48 |||"
     ]
    },
    {
     "ename": "KeyboardInterrupt",
     "evalue": "",
     "output_type": "error",
     "traceback": [
      "\u001b[0;31m---------------------------------------------------------------------------\u001b[0m",
      "\u001b[0;31mKeyboardInterrupt\u001b[0m                         Traceback (most recent call last)",
      "\u001b[0;32m<ipython-input-37-aad596905035>\u001b[0m in \u001b[0;36m<module>\u001b[0;34m\u001b[0m\n\u001b[0;32m----> 1\u001b[0;31m \u001b[0mtrain\u001b[0m\u001b[0;34m(\u001b[0m\u001b[0margs\u001b[0m\u001b[0;34m)\u001b[0m\u001b[0;34m\u001b[0m\u001b[0;34m\u001b[0m\u001b[0m\n\u001b[0m",
      "\u001b[0;32m<ipython-input-32-fb64407ce429>\u001b[0m in \u001b[0;36mtrain\u001b[0;34m(args)\u001b[0m\n\u001b[1;32m     63\u001b[0m         \u001b[0;32mfor\u001b[0m \u001b[0mepoch\u001b[0m \u001b[0;32min\u001b[0m \u001b[0mrange\u001b[0m\u001b[0;34m(\u001b[0m\u001b[0margs\u001b[0m\u001b[0;34m.\u001b[0m\u001b[0mstart_epoch\u001b[0m\u001b[0;34m,\u001b[0m \u001b[0margs\u001b[0m\u001b[0;34m.\u001b[0m\u001b[0mnum_epochs\u001b[0m\u001b[0;34m)\u001b[0m\u001b[0;34m:\u001b[0m\u001b[0;34m\u001b[0m\u001b[0;34m\u001b[0m\u001b[0m\n\u001b[1;32m     64\u001b[0m             \u001b[0mgrid\u001b[0m\u001b[0;34m.\u001b[0m\u001b[0mset_prob\u001b[0m\u001b[0;34m(\u001b[0m\u001b[0mepoch\u001b[0m\u001b[0;34m,\u001b[0m \u001b[0margs\u001b[0m\u001b[0;34m.\u001b[0m\u001b[0mst_epochs\u001b[0m\u001b[0;34m)\u001b[0m\u001b[0;34m\u001b[0m\u001b[0;34m\u001b[0m\u001b[0m\n\u001b[0;32m---> 65\u001b[0;31m             \u001b[0mtrain_epoch\u001b[0m\u001b[0;34m(\u001b[0m\u001b[0margs\u001b[0m\u001b[0;34m,\u001b[0m \u001b[0mmodel\u001b[0m\u001b[0;34m,\u001b[0m \u001b[0mtrain_loader\u001b[0m\u001b[0;34m,\u001b[0m \u001b[0mepoch\u001b[0m\u001b[0;34m,\u001b[0m \u001b[0moptimizer\u001b[0m\u001b[0;34m,\u001b[0m \u001b[0mlr_scheduler\u001b[0m\u001b[0;34m,\u001b[0m \u001b[0mgrid\u001b[0m\u001b[0;34m)\u001b[0m\u001b[0;34m\u001b[0m\u001b[0;34m\u001b[0m\u001b[0m\n\u001b[0m\u001b[1;32m     66\u001b[0m             \u001b[0mvalidate_and_save\u001b[0m\u001b[0;34m(\u001b[0m\u001b[0mmodel\u001b[0m\u001b[0;34m,\u001b[0m \u001b[0mmodel_file\u001b[0m\u001b[0;34m,\u001b[0m \u001b[0mval_loader\u001b[0m\u001b[0;34m,\u001b[0m \u001b[0msave\u001b[0m\u001b[0;34m=\u001b[0m\u001b[0;32mTrue\u001b[0m\u001b[0;34m)\u001b[0m\u001b[0;34m\u001b[0m\u001b[0;34m\u001b[0m\u001b[0m\n\u001b[1;32m     67\u001b[0m \u001b[0;34m\u001b[0m\u001b[0m\n",
      "\u001b[0;32m<ipython-input-31-16e5a4d95497>\u001b[0m in \u001b[0;36mtrain_epoch\u001b[0;34m(args, model, train_loader, epoch, optimizer, lr_scheduler, grid)\u001b[0m\n\u001b[1;32m     45\u001b[0m         \u001b[0moptimizer\u001b[0m\u001b[0;34m.\u001b[0m\u001b[0mzero_grad\u001b[0m\u001b[0;34m(\u001b[0m\u001b[0;34m)\u001b[0m\u001b[0;34m\u001b[0m\u001b[0;34m\u001b[0m\u001b[0m\n\u001b[1;32m     46\u001b[0m         \u001b[0;32mwith\u001b[0m \u001b[0mamp\u001b[0m\u001b[0;34m.\u001b[0m\u001b[0mscale_loss\u001b[0m\u001b[0;34m(\u001b[0m\u001b[0mloss\u001b[0m\u001b[0;34m,\u001b[0m \u001b[0moptimizer\u001b[0m\u001b[0;34m)\u001b[0m \u001b[0;32mas\u001b[0m \u001b[0mscaled_loss\u001b[0m\u001b[0;34m:\u001b[0m\u001b[0;34m\u001b[0m\u001b[0;34m\u001b[0m\u001b[0m\n\u001b[0;32m---> 47\u001b[0;31m             \u001b[0mscaled_loss\u001b[0m\u001b[0;34m.\u001b[0m\u001b[0mbackward\u001b[0m\u001b[0;34m(\u001b[0m\u001b[0;34m)\u001b[0m\u001b[0;34m\u001b[0m\u001b[0;34m\u001b[0m\u001b[0m\n\u001b[0m\u001b[1;32m     48\u001b[0m         \u001b[0;31m#loss.backward()\u001b[0m\u001b[0;34m\u001b[0m\u001b[0;34m\u001b[0m\u001b[0;34m\u001b[0m\u001b[0m\n\u001b[1;32m     49\u001b[0m         \u001b[0mlr_scheduler\u001b[0m\u001b[0;34m(\u001b[0m\u001b[0moptimizer\u001b[0m\u001b[0;34m,\u001b[0m \u001b[0mbatch_idx\u001b[0m\u001b[0;34m,\u001b[0m \u001b[0mepoch\u001b[0m\u001b[0;34m)\u001b[0m\u001b[0;34m\u001b[0m\u001b[0;34m\u001b[0m\u001b[0m\n",
      "\u001b[0;32m~/anaconda3/lib/python3.7/site-packages/torch/tensor.py\u001b[0m in \u001b[0;36mbackward\u001b[0;34m(self, gradient, retain_graph, create_graph)\u001b[0m\n\u001b[1;32m    116\u001b[0m                 \u001b[0mproducts\u001b[0m\u001b[0;34m.\u001b[0m \u001b[0mDefaults\u001b[0m \u001b[0mto\u001b[0m\u001b[0;31m \u001b[0m\u001b[0;31m`\u001b[0m\u001b[0;31m`\u001b[0m\u001b[0;32mFalse\u001b[0m\u001b[0;31m`\u001b[0m\u001b[0;31m`\u001b[0m\u001b[0;34m.\u001b[0m\u001b[0;34m\u001b[0m\u001b[0;34m\u001b[0m\u001b[0m\n\u001b[1;32m    117\u001b[0m         \"\"\"\n\u001b[0;32m--> 118\u001b[0;31m         \u001b[0mtorch\u001b[0m\u001b[0;34m.\u001b[0m\u001b[0mautograd\u001b[0m\u001b[0;34m.\u001b[0m\u001b[0mbackward\u001b[0m\u001b[0;34m(\u001b[0m\u001b[0mself\u001b[0m\u001b[0;34m,\u001b[0m \u001b[0mgradient\u001b[0m\u001b[0;34m,\u001b[0m \u001b[0mretain_graph\u001b[0m\u001b[0;34m,\u001b[0m \u001b[0mcreate_graph\u001b[0m\u001b[0;34m)\u001b[0m\u001b[0;34m\u001b[0m\u001b[0;34m\u001b[0m\u001b[0m\n\u001b[0m\u001b[1;32m    119\u001b[0m \u001b[0;34m\u001b[0m\u001b[0m\n\u001b[1;32m    120\u001b[0m     \u001b[0;32mdef\u001b[0m \u001b[0mregister_hook\u001b[0m\u001b[0;34m(\u001b[0m\u001b[0mself\u001b[0m\u001b[0;34m,\u001b[0m \u001b[0mhook\u001b[0m\u001b[0;34m)\u001b[0m\u001b[0;34m:\u001b[0m\u001b[0;34m\u001b[0m\u001b[0;34m\u001b[0m\u001b[0m\n",
      "\u001b[0;32m~/anaconda3/lib/python3.7/site-packages/torch/autograd/__init__.py\u001b[0m in \u001b[0;36mbackward\u001b[0;34m(tensors, grad_tensors, retain_graph, create_graph, grad_variables)\u001b[0m\n\u001b[1;32m     91\u001b[0m     Variable._execution_engine.run_backward(\n\u001b[1;32m     92\u001b[0m         \u001b[0mtensors\u001b[0m\u001b[0;34m,\u001b[0m \u001b[0mgrad_tensors\u001b[0m\u001b[0;34m,\u001b[0m \u001b[0mretain_graph\u001b[0m\u001b[0;34m,\u001b[0m \u001b[0mcreate_graph\u001b[0m\u001b[0;34m,\u001b[0m\u001b[0;34m\u001b[0m\u001b[0;34m\u001b[0m\u001b[0m\n\u001b[0;32m---> 93\u001b[0;31m         allow_unreachable=True)  # allow_unreachable flag\n\u001b[0m\u001b[1;32m     94\u001b[0m \u001b[0;34m\u001b[0m\u001b[0m\n\u001b[1;32m     95\u001b[0m \u001b[0;34m\u001b[0m\u001b[0m\n",
      "\u001b[0;31mKeyboardInterrupt\u001b[0m: "
     ]
    }
   ],
   "source": [
    "train(args)"
   ]
  },
  {
   "cell_type": "code",
   "execution_count": null,
   "metadata": {},
   "outputs": [],
   "source": []
  },
  {
   "cell_type": "code",
   "execution_count": 37,
   "metadata": {},
   "outputs": [
    {
     "name": "stdout",
     "output_type": "stream",
     "text": [
      "model file: ./model4-ckps/tf_efficientnet_b4/model4_eb4_fold2_380.pth, exist: True\n",
      "loading ./model4-ckps/tf_efficientnet_b4/model4_eb4_fold2_380.pth...\n",
      "model file: ./model4-ckps/tf_efficientnet_b4/model4_eb4_fold2_380.pth_swa, exist: False\n",
      "\n",
      "val: {'recall': 0.996864, 'recall_grapheme': 0.995341, 'recall_vowel': 0.998716, 'recall_consonant': 0.998059, 'recall_word': 0.995527, 'acc_grapheme': 0.995643, 'acc_vowel': 0.998456, 'acc_consonant': 0.998531, 'acc_word': 0.995543, 'loss_grapheme': 0.021051, 'loss_vowel': 0.009045, 'loss_consonant': 0.00687, 'loss_word': 0.019851}\n",
      "CYCLE: 1\n",
      "    0 | 0.000399 | 160640/160678 | 0.5148 | 5.8375 | 13.83 ||\n",
      "val: {'recall': 0.994827, 'recall_grapheme': 0.993436, 'recall_vowel': 0.997847, 'recall_consonant': 0.994591, 'recall_word': 0.99367, 'acc_grapheme': 0.993501, 'acc_vowel': 0.997834, 'acc_consonant': 0.997784, 'acc_word': 0.993576, 'loss_grapheme': 0.027582, 'loss_vowel': 0.012216, 'loss_consonant': 0.01028, 'loss_word': 0.026025}\n",
      "    1 | 0.000398 | 160640/160678 | 9.8195 | 6.5763 | 13.90 ||\n",
      "val: {'recall': 0.994648, 'recall_grapheme': 0.993459, 'recall_vowel': 0.997064, 'recall_consonant': 0.994611, 'recall_word': 0.993391, 'acc_grapheme': 0.993327, 'acc_vowel': 0.997311, 'acc_consonant': 0.997884, 'acc_word': 0.993476, 'loss_grapheme': 0.028689, 'loss_vowel': 0.012892, 'loss_consonant': 0.009593, 'loss_word': 0.027664}\n",
      "    2 | 0.000394 | 160640/160678 | 5.8221 | 6.4261 | 14.04 ||\n",
      "val: {'recall': 0.992946, 'recall_grapheme': 0.990502, 'recall_vowel': 0.99651, 'recall_consonant': 0.99427, 'recall_word': 0.992616, 'acc_grapheme': 0.991982, 'acc_vowel': 0.997361, 'acc_consonant': 0.99741, 'acc_word': 0.992456, 'loss_grapheme': 0.033417, 'loss_vowel': 0.013914, 'loss_consonant': 0.011905, 'loss_word': 0.031714}\n",
      "    3 | 0.000390 | 160640/160678 | 15.9063 | 6.4960 | 14.12 |\n",
      "val: {'recall': 0.994341, 'recall_grapheme': 0.99307, 'recall_vowel': 0.997371, 'recall_consonant': 0.993853, 'recall_word': 0.993823, 'acc_grapheme': 0.993651, 'acc_vowel': 0.99761, 'acc_consonant': 0.997485, 'acc_word': 0.993725, 'loss_grapheme': 0.025991, 'loss_vowel': 0.01203, 'loss_consonant': 0.009593, 'loss_word': 0.02456}\n",
      "    5 | 0.000378 | 160640/160678 | 14.5043 | 6.4603 | 14.39 |\n",
      "val: {'recall': 0.995245, 'recall_grapheme': 0.993289, 'recall_vowel': 0.997599, 'recall_consonant': 0.996804, 'recall_word': 0.993677, 'acc_grapheme': 0.9938, 'acc_vowel': 0.997759, 'acc_consonant': 0.998182, 'acc_word': 0.993601, 'loss_grapheme': 0.02567, 'loss_vowel': 0.012205, 'loss_consonant': 0.00843, 'loss_word': 0.024497}\n",
      "    6 | 0.000371 | 160640/160678 | 0.7125 | 6.2819 | 14.41 ||\n",
      "val: {'recall': 0.995123, 'recall_grapheme': 0.994232, 'recall_vowel': 0.997835, 'recall_consonant': 0.994192, 'recall_word': 0.9942, 'acc_grapheme': 0.994273, 'acc_vowel': 0.99761, 'acc_consonant': 0.997933, 'acc_word': 0.994223, 'loss_grapheme': 0.025468, 'loss_vowel': 0.012223, 'loss_consonant': 0.00979, 'loss_word': 0.024626}\n",
      "    7 | 0.000362 | 160640/160678 | 0.7927 | 6.3900 | 14.40 ||\n",
      "val: {'recall': 0.995826, 'recall_grapheme': 0.994824, 'recall_vowel': 0.997624, 'recall_consonant': 0.996031, 'recall_word': 0.994663, 'acc_grapheme': 0.994796, 'acc_vowel': 0.997958, 'acc_consonant': 0.998282, 'acc_word': 0.994696, 'loss_grapheme': 0.029498, 'loss_vowel': 0.015673, 'loss_consonant': 0.012669, 'loss_word': 0.023798}\n",
      "    8 | 0.000352 | 160640/160678 | 0.9231 | 6.0745 | 14.42 ||\n",
      "val: {'recall': 0.994589, 'recall_grapheme': 0.99314, 'recall_vowel': 0.997642, 'recall_consonant': 0.994435, 'recall_word': 0.993457, 'acc_grapheme': 0.993352, 'acc_vowel': 0.997361, 'acc_consonant': 0.997859, 'acc_word': 0.993377, 'loss_grapheme': 0.028389, 'loss_vowel': 0.011767, 'loss_consonant': 0.0098, 'loss_word': 0.026591}\n",
      "    9 | 0.000341 | 160640/160678 | 0.9914 | 6.2843 | 14.39 ||\n",
      "val: {'recall': 0.995031, 'recall_grapheme': 0.993858, 'recall_vowel': 0.997476, 'recall_consonant': 0.994932, 'recall_word': 0.994591, 'acc_grapheme': 0.994373, 'acc_vowel': 0.997659, 'acc_consonant': 0.998182, 'acc_word': 0.994572, 'loss_grapheme': 0.031364, 'loss_vowel': 0.017955, 'loss_consonant': 0.012472, 'loss_word': 0.02658}\n",
      "   10 | 0.000330 | 160640/160678 | 0.6145 | 6.3321 | 14.37 ||\n",
      "val: {'recall': 0.995972, 'recall_grapheme': 0.993931, 'recall_vowel': 0.998041, 'recall_consonant': 0.997986, 'recall_word': 0.994603, 'acc_grapheme': 0.994622, 'acc_vowel': 0.998008, 'acc_consonant': 0.997859, 'acc_word': 0.994497, 'loss_grapheme': 0.022826, 'loss_vowel': 0.009827, 'loss_consonant': 0.008932, 'loss_word': 0.02207}\n",
      "   11 | 0.000318 | 160640/160678 | 12.8183 | 6.1120 | 14.41 |\n",
      "val: {'recall': 0.995887, 'recall_grapheme': 0.993847, 'recall_vowel': 0.998054, 'recall_consonant': 0.9978, 'recall_word': 0.994604, 'acc_grapheme': 0.994273, 'acc_vowel': 0.998033, 'acc_consonant': 0.997983, 'acc_word': 0.994672, 'loss_grapheme': 0.023806, 'loss_vowel': 0.010952, 'loss_consonant': 0.008194, 'loss_word': 0.021735}\n",
      "   12 | 0.000305 | 160640/160678 | 17.1389 | 6.1480 | 14.43 |\n",
      "val: {'recall': 0.995361, 'recall_grapheme': 0.994034, 'recall_vowel': 0.997747, 'recall_consonant': 0.995628, 'recall_word': 0.994308, 'acc_grapheme': 0.994348, 'acc_vowel': 0.997834, 'acc_consonant': 0.998083, 'acc_word': 0.994223, 'loss_grapheme': 0.023817, 'loss_vowel': 0.011081, 'loss_consonant': 0.008299, 'loss_word': 0.023455}\n",
      "   13 | 0.000291 | 160640/160678 | 6.2749 | 6.1042 | 14.39 ||\n",
      "val: {'recall': 0.995178, 'recall_grapheme': 0.993905, 'recall_vowel': 0.997502, 'recall_consonant': 0.995399, 'recall_word': 0.994588, 'acc_grapheme': 0.994423, 'acc_vowel': 0.997734, 'acc_consonant': 0.998033, 'acc_word': 0.994647, 'loss_grapheme': 0.024792, 'loss_vowel': 0.011407, 'loss_consonant': 0.008579, 'loss_word': 0.023356}\n",
      "   14 | 0.000277 | 160640/160678 | 0.1113 | 5.9577 | 14.40 ||\n",
      "val: {'recall': 0.995309, 'recall_grapheme': 0.993624, 'recall_vowel': 0.998014, 'recall_consonant': 0.995973, 'recall_word': 0.994911, 'acc_grapheme': 0.994696, 'acc_vowel': 0.997983, 'acc_consonant': 0.998431, 'acc_word': 0.994896, 'loss_grapheme': 0.022381, 'loss_vowel': 0.010808, 'loss_consonant': 0.007083, 'loss_word': 0.021954}\n",
      "   15 | 0.000264 | 133376/160678 | 0.4546 | 6.0969 | 11.98 ||"
     ]
    },
    {
     "name": "stderr",
     "output_type": "stream",
     "text": [
      "IOPub message rate exceeded.\n",
      "The notebook server will temporarily stop sending output\n",
      "to the client in order to avoid crashing it.\n",
      "To change this limit, set the config variable\n",
      "`--NotebookApp.iopub_msg_rate_limit`.\n",
      "\n",
      "Current values:\n",
      "NotebookApp.iopub_msg_rate_limit=1000.0 (msgs/sec)\n",
      "NotebookApp.rate_limit_window=3.0 (secs)\n",
      "\n"
     ]
    },
    {
     "name": "stdout",
     "output_type": "stream",
     "text": [
      "   20 | 0.000184 | 160640/160678 | 3.5539 | 5.8566 | 14.42 ||\n",
      "val: {'recall': 0.996555, 'recall_grapheme': 0.994989, 'recall_vowel': 0.998411, 'recall_consonant': 0.99783, 'recall_word': 0.996139, 'acc_grapheme': 0.996439, 'acc_vowel': 0.998357, 'acc_consonant': 0.99883, 'acc_word': 0.996141, 'loss_grapheme': 0.016667, 'loss_vowel': 0.007622, 'loss_consonant': 0.005235, 'loss_word': 0.016536}\n",
      "   21 | 0.000169 | 160640/160678 | 7.9928 | 5.4756 | 14.50 ||\n",
      "val: {'recall': 0.996231, 'recall_grapheme': 0.994384, 'recall_vowel': 0.998098, 'recall_consonant': 0.998057, 'recall_word': 0.995292, 'acc_grapheme': 0.995518, 'acc_vowel': 0.998282, 'acc_consonant': 0.998631, 'acc_word': 0.995319, 'loss_grapheme': 0.019995, 'loss_vowel': 0.008366, 'loss_consonant': 0.005858, 'loss_word': 0.019362}\n",
      "   22 | 0.000153 | 160640/160678 | 0.1657 | 5.4465 | 14.47 ||\n",
      "val: {'recall': 0.996016, 'recall_grapheme': 0.994153, 'recall_vowel': 0.997745, 'recall_consonant': 0.998014, 'recall_word': 0.995117, 'acc_grapheme': 0.995344, 'acc_vowel': 0.998083, 'acc_consonant': 0.998606, 'acc_word': 0.995219, 'loss_grapheme': 0.021383, 'loss_vowel': 0.009054, 'loss_consonant': 0.006116, 'loss_word': 0.020164}\n",
      "   23 | 0.000149 | 049792/160678 | 3.2188 | 5.3304 | 4.52 ||"
     ]
    },
    {
     "name": "stderr",
     "output_type": "stream",
     "text": [
      "IOPub message rate exceeded.\n",
      "The notebook server will temporarily stop sending output\n",
      "to the client in order to avoid crashing it.\n",
      "To change this limit, set the config variable\n",
      "`--NotebookApp.iopub_msg_rate_limit`.\n",
      "\n",
      "Current values:\n",
      "NotebookApp.iopub_msg_rate_limit=1000.0 (msgs/sec)\n",
      "NotebookApp.rate_limit_window=3.0 (secs)\n",
      "\n"
     ]
    },
    {
     "name": "stdout",
     "output_type": "stream",
     "text": [
      "   28 | 0.000070 | 160640/160678 | 7.1218 | 5.6596 | 14.44 ||\n",
      "val: {'recall': 0.997226, 'recall_grapheme': 0.995506, 'recall_vowel': 0.998533, 'recall_consonant': 0.999359, 'recall_word': 0.996388, 'acc_grapheme': 0.996315, 'acc_vowel': 0.998456, 'acc_consonant': 0.999178, 'acc_word': 0.99639, 'loss_grapheme': 0.01523, 'loss_vowel': 0.007205, 'loss_consonant': 0.004184, 'loss_word': 0.015197}\n",
      "###>>>>> saved ./model4-ckps/tf_efficientnet_b4/model4_eb4_fold2_380.pth\n",
      "   29 | 0.000059 | 160640/160678 | 0.9150 | 5.2730 | 14.51 ||\n",
      "val: {'recall': 0.997157, 'recall_grapheme': 0.995557, 'recall_vowel': 0.998705, 'recall_consonant': 0.998809, 'recall_word': 0.99652, 'acc_grapheme': 0.996539, 'acc_vowel': 0.998581, 'acc_consonant': 0.999129, 'acc_word': 0.996539, 'loss_grapheme': 0.014689, 'loss_vowel': 0.007272, 'loss_consonant': 0.004466, 'loss_word': 0.014702}\n",
      "   30 | 0.000048 | 160640/160678 | 11.7399 | 5.5561 | 14.44 |\n",
      "val: {'recall': 0.996746, 'recall_grapheme': 0.995126, 'recall_vowel': 0.998338, 'recall_consonant': 0.998395, 'recall_word': 0.996037, 'acc_grapheme': 0.995917, 'acc_vowel': 0.998431, 'acc_consonant': 0.998979, 'acc_word': 0.996091, 'loss_grapheme': 0.017418, 'loss_vowel': 0.008465, 'loss_consonant': 0.004511, 'loss_word': 0.017066}\n",
      "   31 | 0.000038 | 160640/160678 | 9.0225 | 5.4054 | 14.45 ||\n",
      "val: {'recall': 0.997263, 'recall_grapheme': 0.996315, 'recall_vowel': 0.998725, 'recall_consonant': 0.997697, 'recall_word': 0.996861, 'acc_grapheme': 0.996788, 'acc_vowel': 0.99873, 'acc_consonant': 0.999153, 'acc_word': 0.996888, 'loss_grapheme': 0.014107, 'loss_vowel': 0.006982, 'loss_consonant': 0.004129, 'loss_word': 0.014394}\n",
      "###>>>>> saved ./model4-ckps/tf_efficientnet_b4/model4_eb4_fold2_380.pth\n",
      "   32 | 0.000029 | 160640/160678 | 0.3071 | 5.2957 | 14.45 ||\n",
      "val: {'recall': 0.997134, 'recall_grapheme': 0.995677, 'recall_vowel': 0.998518, 'recall_consonant': 0.998664, 'recall_word': 0.996497, 'acc_grapheme': 0.996415, 'acc_vowel': 0.998581, 'acc_consonant': 0.999129, 'acc_word': 0.996539, 'loss_grapheme': 0.015279, 'loss_vowel': 0.007036, 'loss_consonant': 0.004164, 'loss_word': 0.015307}\n",
      "   33 | 0.000022 | 160640/160678 | 3.7935 | 5.5368 | 14.50 ||\n",
      "val: {'recall': 0.997125, 'recall_grapheme': 0.995583, 'recall_vowel': 0.998564, 'recall_consonant': 0.998773, 'recall_word': 0.99655, 'acc_grapheme': 0.996315, 'acc_vowel': 0.998705, 'acc_consonant': 0.999104, 'acc_word': 0.996564, 'loss_grapheme': 0.016406, 'loss_vowel': 0.007425, 'loss_consonant': 0.004671, 'loss_word': 0.01618}\n",
      "   34 | 0.000015 | 160640/160678 | 4.6784 | 5.3415 | 14.49 ||\n",
      "val: {'recall': 0.996959, 'recall_grapheme': 0.995491, 'recall_vowel': 0.998358, 'recall_consonant': 0.998496, 'recall_word': 0.996194, 'acc_grapheme': 0.996041, 'acc_vowel': 0.998506, 'acc_consonant': 0.999004, 'acc_word': 0.99624, 'loss_grapheme': 0.016998, 'loss_vowel': 0.007708, 'loss_consonant': 0.005157, 'loss_word': 0.016389}\n",
      "   35 | 0.000010 | 160640/160678 | 0.4389 | 5.3930 | 14.48 ||\n",
      "val: {'recall': 0.99747, 'recall_grapheme': 0.996203, 'recall_vowel': 0.998734, 'recall_consonant': 0.99874, 'recall_word': 0.996802, 'acc_grapheme': 0.996788, 'acc_vowel': 0.99878, 'acc_consonant': 0.999228, 'acc_word': 0.996813, 'loss_grapheme': 0.013058, 'loss_vowel': 0.006266, 'loss_consonant': 0.003827, 'loss_word': 0.013256}\n",
      "###>>>>> saved ./model4-ckps/tf_efficientnet_b4/model4_eb4_fold2_380.pth\n",
      "   36 | 0.000006 | 160640/160678 | 2.1539 | 5.2947 | 14.51 ||\n",
      "val: {'recall': 0.997376, 'recall_grapheme': 0.995855, 'recall_vowel': 0.998534, 'recall_consonant': 0.999261, 'recall_word': 0.996643, 'acc_grapheme': 0.996763, 'acc_vowel': 0.998705, 'acc_consonant': 0.999129, 'acc_word': 0.996664, 'loss_grapheme': 0.014036, 'loss_vowel': 0.006723, 'loss_consonant': 0.003986, 'loss_word': 0.014428}\n",
      "   37 | 0.000002 | 160640/160678 | 5.6585 | 5.1120 | 14.56 ||\n",
      "val: {'recall': 0.997263, 'recall_grapheme': 0.995957, 'recall_vowel': 0.998436, 'recall_consonant': 0.9987, 'recall_word': 0.996617, 'acc_grapheme': 0.996738, 'acc_vowel': 0.998606, 'acc_consonant': 0.999203, 'acc_word': 0.996639, 'loss_grapheme': 0.013806, 'loss_vowel': 0.006645, 'loss_consonant': 0.003835, 'loss_word': 0.014233}\n",
      "   38 | 0.000001 | 160640/160678 | 0.3121 | 5.5520 | 14.42 ||\n",
      "val: {'recall': 0.997303, 'recall_grapheme': 0.996067, 'recall_vowel': 0.998472, 'recall_consonant': 0.998608, 'recall_word': 0.996668, 'acc_grapheme': 0.996738, 'acc_vowel': 0.998655, 'acc_consonant': 0.999153, 'acc_word': 0.996688, 'loss_grapheme': 0.014692, 'loss_vowel': 0.007404, 'loss_consonant': 0.004634, 'loss_word': 0.01451}\n",
      "   39 | 0.000000 | 160640/160678 | 6.3749 | 5.2954 | 14.47 ||\n",
      "val: {'recall': 0.997425, 'recall_grapheme': 0.996139, 'recall_vowel': 0.998706, 'recall_consonant': 0.998715, 'recall_word': 0.996783, 'acc_grapheme': 0.996863, 'acc_vowel': 0.99873, 'acc_consonant': 0.999253, 'acc_word': 0.996813, 'loss_grapheme': 0.013396, 'loss_vowel': 0.006534, 'loss_consonant': 0.003778, 'loss_word': 0.013921}\n",
      "CYCLE: 2\n",
      "    0 | 0.000200 | 160640/160678 | 6.9539 | 5.2088 | 14.03 ||\n",
      "val: {'recall': 0.995596, 'recall_grapheme': 0.993928, 'recall_vowel': 0.998117, 'recall_consonant': 0.996411, 'recall_word': 0.994272, 'acc_grapheme': 0.994398, 'acc_vowel': 0.998207, 'acc_consonant': 0.998108, 'acc_word': 0.994373, 'loss_grapheme': 0.025156, 'loss_vowel': 0.009795, 'loss_consonant': 0.008367, 'loss_word': 0.024994}\n",
      "    1 | 0.000199 | 160640/160678 | 6.2438 | 5.4912 | 14.07 ||\n",
      "val: {'recall': 0.996234, 'recall_grapheme': 0.994562, 'recall_vowel': 0.998059, 'recall_consonant': 0.997756, 'recall_word': 0.995258, 'acc_grapheme': 0.995518, 'acc_vowel': 0.998108, 'acc_consonant': 0.998655, 'acc_word': 0.995194, 'loss_grapheme': 0.020264, 'loss_vowel': 0.009696, 'loss_consonant': 0.006066, 'loss_word': 0.021269}\n",
      "    2 | 0.000197 | 160640/160678 | 3.9141 | 5.7145 | 14.21 ||\n",
      "val: {'recall': 0.996641, 'recall_grapheme': 0.995277, 'recall_vowel': 0.998444, 'recall_consonant': 0.997568, 'recall_word': 0.995947, 'acc_grapheme': 0.995966, 'acc_vowel': 0.998556, 'acc_consonant': 0.998631, 'acc_word': 0.995966, 'loss_grapheme': 0.017373, 'loss_vowel': 0.008496, 'loss_consonant': 0.005541, 'loss_word': 0.017459}\n",
      "    3 | 0.000195 | 160640/160678 | 6.0803 | 5.5736 | 14.32 ||\n",
      "val: {'recall': 0.996962, 'recall_grapheme': 0.995825, 'recall_vowel': 0.998569, 'recall_consonant': 0.997629, 'recall_word': 0.995894, 'acc_grapheme': 0.995966, 'acc_vowel': 0.998556, 'acc_consonant': 0.998581, 'acc_word': 0.995892, 'loss_grapheme': 0.020732, 'loss_vowel': 0.010232, 'loss_consonant': 0.007546, 'loss_word': 0.018911}\n",
      "    4 | 0.000192 | 160640/160678 | 11.8366 | 5.5904 | 14.41 |\n",
      "val: {'recall': 0.996833, 'recall_grapheme': 0.99592, 'recall_vowel': 0.99816, 'recall_consonant': 0.997335, 'recall_word': 0.995872, 'acc_grapheme': 0.995941, 'acc_vowel': 0.998108, 'acc_consonant': 0.998855, 'acc_word': 0.995867, 'loss_grapheme': 0.019467, 'loss_vowel': 0.009661, 'loss_consonant': 0.005502, 'loss_word': 0.018246}\n",
      "    5 | 0.000189 | 160640/160678 | 6.4170 | 5.8969 | 14.49 ||\n",
      "val: {'recall': 0.995721, 'recall_grapheme': 0.994637, 'recall_vowel': 0.998043, 'recall_consonant': 0.995568, 'recall_word': 0.995105, 'acc_grapheme': 0.99507, 'acc_vowel': 0.998133, 'acc_consonant': 0.998307, 'acc_word': 0.995145, 'loss_grapheme': 0.023932, 'loss_vowel': 0.009359, 'loss_consonant': 0.007154, 'loss_word': 0.022784}\n",
      "    6 | 0.000185 | 160640/160678 | 3.3140 | 5.7912 | 14.50 ||\n",
      "val: {'recall': 0.996206, 'recall_grapheme': 0.995183, 'recall_vowel': 0.998416, 'recall_consonant': 0.996044, 'recall_word': 0.99582, 'acc_grapheme': 0.995991, 'acc_vowel': 0.998456, 'acc_consonant': 0.998705, 'acc_word': 0.995842, 'loss_grapheme': 0.01999, 'loss_vowel': 0.008498, 'loss_consonant': 0.006113, 'loss_word': 0.019578}\n",
      "    7 | 0.000181 | 160640/160678 | 0.3240 | 5.8094 | 14.50 ||\n",
      "val: {'recall': 0.996435, 'recall_grapheme': 0.995468, 'recall_vowel': 0.9987, 'recall_consonant': 0.996103, 'recall_word': 0.996173, 'acc_grapheme': 0.996041, 'acc_vowel': 0.99873, 'acc_consonant': 0.99878, 'acc_word': 0.99619, 'loss_grapheme': 0.018144, 'loss_vowel': 0.006987, 'loss_consonant': 0.005395, 'loss_word': 0.017256}\n",
      "    8 | 0.000176 | 160640/160678 | 5.2936 | 5.5808 | 14.49 ||\n",
      "val: {'recall': 0.996467, 'recall_grapheme': 0.995221, 'recall_vowel': 0.998337, 'recall_consonant': 0.997088, 'recall_word': 0.996153, 'acc_grapheme': 0.995792, 'acc_vowel': 0.998581, 'acc_consonant': 0.99883, 'acc_word': 0.996066, 'loss_grapheme': 0.018429, 'loss_vowel': 0.007584, 'loss_consonant': 0.005819, 'loss_word': 0.017307}\n",
      "    9 | 0.000171 | 160640/160678 | 14.0477 | 5.6396 | 14.49 |\n",
      "val: {'recall': 0.996437, 'recall_grapheme': 0.994835, 'recall_vowel': 0.998539, 'recall_consonant': 0.99754, 'recall_word': 0.995877, 'acc_grapheme': 0.995568, 'acc_vowel': 0.998556, 'acc_consonant': 0.99868, 'acc_word': 0.995867, 'loss_grapheme': 0.01984, 'loss_vowel': 0.007887, 'loss_consonant': 0.006512, 'loss_word': 0.018733}\n",
      "   10 | 0.000165 | 160640/160678 | 6.5161 | 5.5327 | 14.52 ||\n",
      "val: {'recall': 0.996504, 'recall_grapheme': 0.995466, 'recall_vowel': 0.998455, 'recall_consonant': 0.99663, 'recall_word': 0.996164, 'acc_grapheme': 0.996016, 'acc_vowel': 0.998506, 'acc_consonant': 0.998805, 'acc_word': 0.996141, 'loss_grapheme': 0.018552, 'loss_vowel': 0.007389, 'loss_consonant': 0.006039, 'loss_word': 0.017928}\n",
      "   11 | 0.000159 | 160640/160678 | 6.8985 | 5.6869 | 14.52 ||\n",
      "val: {'recall': 0.996515, 'recall_grapheme': 0.995365, 'recall_vowel': 0.998464, 'recall_consonant': 0.996867, 'recall_word': 0.996092, 'acc_grapheme': 0.995966, 'acc_vowel': 0.998655, 'acc_consonant': 0.998979, 'acc_word': 0.996066, 'loss_grapheme': 0.017161, 'loss_vowel': 0.006904, 'loss_consonant': 0.004592, 'loss_word': 0.017148}\n",
      "   12 | 0.000152 | 160640/160678 | 5.2916 | 5.6134 | 14.51 ||\n",
      "val: {'recall': 0.996479, 'recall_grapheme': 0.995834, 'recall_vowel': 0.998508, 'recall_consonant': 0.995739, 'recall_word': 0.996231, 'acc_grapheme': 0.99629, 'acc_vowel': 0.998705, 'acc_consonant': 0.998631, 'acc_word': 0.99624, 'loss_grapheme': 0.016378, 'loss_vowel': 0.006888, 'loss_consonant': 0.00628, 'loss_word': 0.016265}\n",
      "   13 | 0.000151 | 040576/160678 | 12.0170 | 5.4768 | 3.71 |"
     ]
    },
    {
     "name": "stderr",
     "output_type": "stream",
     "text": [
      "IOPub message rate exceeded.\n",
      "The notebook server will temporarily stop sending output\n",
      "to the client in order to avoid crashing it.\n",
      "To change this limit, set the config variable\n",
      "`--NotebookApp.iopub_msg_rate_limit`.\n",
      "\n",
      "Current values:\n",
      "NotebookApp.iopub_msg_rate_limit=1000.0 (msgs/sec)\n",
      "NotebookApp.rate_limit_window=3.0 (secs)\n",
      "\n"
     ]
    },
    {
     "name": "stdout",
     "output_type": "stream",
     "text": [
      "   13 | 0.000145 | 160640/160678 | 3.6052 | 5.3858 | 14.55 ||\n",
      "val: {'recall': 0.9972, 'recall_grapheme': 0.996244, 'recall_vowel': 0.998612, 'recall_consonant': 0.9977, 'recall_word': 0.996528, 'acc_grapheme': 0.99639, 'acc_vowel': 0.998556, 'acc_consonant': 0.99868, 'acc_word': 0.996439, 'loss_grapheme': 0.01712, 'loss_vowel': 0.006885, 'loss_consonant': 0.005825, 'loss_word': 0.016743}\n",
      "   14 | 0.000138 | 160640/160678 | 2.5435 | 5.4727 | 14.51 ||\n",
      "val: {'recall': 0.997059, 'recall_grapheme': 0.995488, 'recall_vowel': 0.998863, 'recall_consonant': 0.998399, 'recall_word': 0.996368, 'acc_grapheme': 0.996464, 'acc_vowel': 0.99878, 'acc_consonant': 0.998855, 'acc_word': 0.99634, 'loss_grapheme': 0.017036, 'loss_vowel': 0.006625, 'loss_consonant': 0.005677, 'loss_word': 0.0171}\n",
      "   15 | 0.000131 | 160640/160678 | 5.5252 | 5.3911 | 14.55 ||\n",
      "val: {'recall': 0.997457, 'recall_grapheme': 0.996516, 'recall_vowel': 0.998866, 'recall_consonant': 0.997931, 'recall_word': 0.997129, 'acc_grapheme': 0.996813, 'acc_vowel': 0.998855, 'acc_consonant': 0.999054, 'acc_word': 0.997062, 'loss_grapheme': 0.013937, 'loss_vowel': 0.005958, 'loss_consonant': 0.004706, 'loss_word': 0.014113}\n",
      "   16 | 0.000123 | 160640/160678 | 0.4350 | 5.4424 | 14.53 ||\n",
      "val: {'recall': 0.997687, 'recall_grapheme': 0.996289, 'recall_vowel': 0.998834, 'recall_consonant': 0.999335, 'recall_word': 0.996599, 'acc_grapheme': 0.996788, 'acc_vowel': 0.99878, 'acc_consonant': 0.999129, 'acc_word': 0.996614, 'loss_grapheme': 0.014888, 'loss_vowel': 0.006136, 'loss_consonant': 0.004177, 'loss_word': 0.014704}\n",
      "###>>>>> saved ./model4-ckps/tf_efficientnet_b4/model4_eb4_fold2_380.pth\n",
      "   17 | 0.000116 | 160640/160678 | 0.6492 | 5.2070 | 14.58 ||\n",
      "val: {'recall': 0.997511, 'recall_grapheme': 0.996079, 'recall_vowel': 0.999013, 'recall_consonant': 0.998873, 'recall_word': 0.996478, 'acc_grapheme': 0.996664, 'acc_vowel': 0.998954, 'acc_consonant': 0.99878, 'acc_word': 0.996439, 'loss_grapheme': 0.016234, 'loss_vowel': 0.006614, 'loss_consonant': 0.005588, 'loss_word': 0.01592}\n",
      "   18 | 0.000108 | 160640/160678 | 5.8646 | 5.2888 | 14.56 ||\n",
      "val: {'recall': 0.997721, 'recall_grapheme': 0.997028, 'recall_vowel': 0.998846, 'recall_consonant': 0.997981, 'recall_word': 0.99715, 'acc_grapheme': 0.997087, 'acc_vowel': 0.998904, 'acc_consonant': 0.999054, 'acc_word': 0.997037, 'loss_grapheme': 0.013916, 'loss_vowel': 0.006257, 'loss_consonant': 0.004717, 'loss_word': 0.014238}\n",
      "###>>>>> saved ./model4-ckps/tf_efficientnet_b4/model4_eb4_fold2_380.pth\n",
      "   19 | 0.000100 | 160640/160678 | 5.1602 | 5.4229 | 14.52 ||\n",
      "val: {'recall': 0.99687, 'recall_grapheme': 0.995988, 'recall_vowel': 0.998911, 'recall_consonant': 0.996593, 'recall_word': 0.99629, 'acc_grapheme': 0.99624, 'acc_vowel': 0.998954, 'acc_consonant': 0.99878, 'acc_word': 0.996315, 'loss_grapheme': 0.017466, 'loss_vowel': 0.006496, 'loss_consonant': 0.005445, 'loss_word': 0.01672}\n",
      "   20 | 0.000092 | 160640/160678 | 12.9737 | 5.3834 | 14.54 |\n",
      "val: {'recall': 0.997319, 'recall_grapheme': 0.996014, 'recall_vowel': 0.998602, 'recall_consonant': 0.998645, 'recall_word': 0.9965, 'acc_grapheme': 0.99624, 'acc_vowel': 0.99878, 'acc_consonant': 0.998805, 'acc_word': 0.996439, 'loss_grapheme': 0.016159, 'loss_vowel': 0.006701, 'loss_consonant': 0.005522, 'loss_word': 0.015357}\n",
      "   21 | 0.000084 | 160640/160678 | 6.0808 | 5.4087 | 14.52 ||\n",
      "val: {'recall': 0.997287, 'recall_grapheme': 0.996237, 'recall_vowel': 0.998774, 'recall_consonant': 0.9979, 'recall_word': 0.996449, 'acc_grapheme': 0.996688, 'acc_vowel': 0.999004, 'acc_consonant': 0.998929, 'acc_word': 0.99639, 'loss_grapheme': 0.015191, 'loss_vowel': 0.005911, 'loss_consonant': 0.004574, 'loss_word': 0.015544}\n",
      "   22 | 0.000077 | 160640/160678 | 0.1458 | 5.4436 | 14.52 ||\n",
      "val: {'recall': 0.997086, 'recall_grapheme': 0.99668, 'recall_vowel': 0.998713, 'recall_consonant': 0.996273, 'recall_word': 0.99685, 'acc_grapheme': 0.997012, 'acc_vowel': 0.998855, 'acc_consonant': 0.999029, 'acc_word': 0.996838, 'loss_grapheme': 0.013239, 'loss_vowel': 0.006372, 'loss_consonant': 0.004761, 'loss_word': 0.013127}\n",
      "   23 | 0.000069 | 160640/160678 | 0.1895 | 5.3527 | 14.58 ||\n",
      "val: {'recall': 0.997648, 'recall_grapheme': 0.996932, 'recall_vowel': 0.998788, 'recall_consonant': 0.99794, 'recall_word': 0.99712, 'acc_grapheme': 0.997236, 'acc_vowel': 0.998904, 'acc_consonant': 0.999104, 'acc_word': 0.997087, 'loss_grapheme': 0.012765, 'loss_vowel': 0.006099, 'loss_consonant': 0.004467, 'loss_word': 0.012979}\n",
      "   24 | 0.000062 | 160640/160678 | 9.0428 | 5.2959 | 14.51 ||\n",
      "val: {'recall': 0.997729, 'recall_grapheme': 0.996648, 'recall_vowel': 0.998857, 'recall_consonant': 0.998762, 'recall_word': 0.996762, 'acc_grapheme': 0.996738, 'acc_vowel': 0.998954, 'acc_consonant': 0.998979, 'acc_word': 0.996738, 'loss_grapheme': 0.016292, 'loss_vowel': 0.006891, 'loss_consonant': 0.005242, 'loss_word': 0.015911}\n",
      "###>>>>> saved ./model4-ckps/tf_efficientnet_b4/model4_eb4_fold2_380.pth\n",
      "   25 | 0.000055 | 160640/160678 | 0.5459 | 5.4209 | 14.53 ||\n",
      "val: {'recall': 0.997716, 'recall_grapheme': 0.996795, 'recall_vowel': 0.99866, 'recall_consonant': 0.998614, 'recall_word': 0.996881, 'acc_grapheme': 0.997087, 'acc_vowel': 0.998904, 'acc_consonant': 0.999178, 'acc_word': 0.996863, 'loss_grapheme': 0.013605, 'loss_vowel': 0.006141, 'loss_consonant': 0.003965, 'loss_word': 0.014069}\n",
      "   26 | 0.000048 | 160640/160678 | 14.2445 | 5.2366 | 14.59 |\n",
      "val: {'recall': 0.997007, 'recall_grapheme': 0.996253, 'recall_vowel': 0.998466, 'recall_consonant': 0.997054, 'recall_word': 0.996664, 'acc_grapheme': 0.996614, 'acc_vowel': 0.99868, 'acc_consonant': 0.99883, 'acc_word': 0.996614, 'loss_grapheme': 0.01585, 'loss_vowel': 0.007995, 'loss_consonant': 0.005488, 'loss_word': 0.015597}\n",
      "   27 | 0.000041 | 160640/160678 | 15.0516 | 5.3083 | 14.57 |\n",
      "val: {'recall': 0.99733, 'recall_grapheme': 0.996588, 'recall_vowel': 0.998489, 'recall_consonant': 0.997655, 'recall_word': 0.99673, 'acc_grapheme': 0.996863, 'acc_vowel': 0.998655, 'acc_consonant': 0.998954, 'acc_word': 0.996688, 'loss_grapheme': 0.014529, 'loss_vowel': 0.007739, 'loss_consonant': 0.005151, 'loss_word': 0.014987}\n",
      "   28 | 0.000035 | 160640/160678 | 7.2597 | 5.3415 | 14.53 ||\n",
      "val: {'recall': 0.997391, 'recall_grapheme': 0.996838, 'recall_vowel': 0.99862, 'recall_consonant': 0.997269, 'recall_word': 0.996797, 'acc_grapheme': 0.997211, 'acc_vowel': 0.998755, 'acc_consonant': 0.999004, 'acc_word': 0.996738, 'loss_grapheme': 0.014089, 'loss_vowel': 0.006257, 'loss_consonant': 0.004314, 'loss_word': 0.014753}\n",
      "   29 | 0.000029 | 160640/160678 | 2.7238 | 5.2885 | 14.58 ||\n",
      "val: {'recall': 0.997777, 'recall_grapheme': 0.997203, 'recall_vowel': 0.9987, 'recall_consonant': 0.998002, 'recall_word': 0.997111, 'acc_grapheme': 0.997311, 'acc_vowel': 0.99888, 'acc_consonant': 0.999104, 'acc_word': 0.997037, 'loss_grapheme': 0.014067, 'loss_vowel': 0.006681, 'loss_consonant': 0.004011, 'loss_word': 0.014713}\n",
      "###>>>>> saved ./model4-ckps/tf_efficientnet_b4/model4_eb4_fold2_380.pth\n",
      "   30 | 0.000024 | 160640/160678 | 0.4135 | 5.1482 | 14.57 ||\n",
      "val: {'recall': 0.997625, 'recall_grapheme': 0.996882, 'recall_vowel': 0.998658, 'recall_consonant': 0.998078, 'recall_word': 0.997093, 'acc_grapheme': 0.997361, 'acc_vowel': 0.998904, 'acc_consonant': 0.999203, 'acc_word': 0.997037, 'loss_grapheme': 0.012089, 'loss_vowel': 0.005955, 'loss_consonant': 0.003558, 'loss_word': 0.012946}\n",
      "   31 | 0.000019 | 160640/160678 | 5.9629 | 5.1421 | 14.55 ||\n",
      "val: {'recall': 0.997335, 'recall_grapheme': 0.996434, 'recall_vowel': 0.998601, 'recall_consonant': 0.997873, 'recall_word': 0.996821, 'acc_grapheme': 0.996838, 'acc_vowel': 0.99883, 'acc_consonant': 0.999054, 'acc_word': 0.996788, 'loss_grapheme': 0.015088, 'loss_vowel': 0.006759, 'loss_consonant': 0.004305, 'loss_word': 0.014768}\n",
      "   32 | 0.000015 | 160640/160678 | 8.3845 | 5.4075 | 14.54 ||\n",
      "val: {'recall': 0.997658, 'recall_grapheme': 0.996778, 'recall_vowel': 0.9987, 'recall_consonant': 0.998375, 'recall_word': 0.997062, 'acc_grapheme': 0.997062, 'acc_vowel': 0.998929, 'acc_consonant': 0.999029, 'acc_word': 0.997012, 'loss_grapheme': 0.014847, 'loss_vowel': 0.006424, 'loss_consonant': 0.004366, 'loss_word': 0.014707}\n"
     ]
    },
    {
     "name": "stdout",
     "output_type": "stream",
     "text": [
      "   33 | 0.000011 | 160640/160678 | 6.0712 | 5.0062 | 14.53 ||\n",
      "val: {'recall': 0.997484, 'recall_grapheme': 0.996719, 'recall_vowel': 0.998857, 'recall_consonant': 0.997638, 'recall_word': 0.996982, 'acc_grapheme': 0.997037, 'acc_vowel': 0.999054, 'acc_consonant': 0.999228, 'acc_word': 0.996962, 'loss_grapheme': 0.014909, 'loss_vowel': 0.006764, 'loss_consonant': 0.004052, 'loss_word': 0.015049}\n",
      "   34 | 0.000008 | 160640/160678 | 12.4042 | 5.1806 | 14.50 |\n",
      "val: {'recall': 0.997746, 'recall_grapheme': 0.997055, 'recall_vowel': 0.99883, 'recall_consonant': 0.998047, 'recall_word': 0.997351, 'acc_grapheme': 0.99741, 'acc_vowel': 0.999004, 'acc_consonant': 0.999178, 'acc_word': 0.997311, 'loss_grapheme': 0.012888, 'loss_vowel': 0.006307, 'loss_consonant': 0.003611, 'loss_word': 0.013399}\n",
      "   35 | 0.000005 | 160640/160678 | 12.4352 | 5.1254 | 14.57 |"
     ]
    },
    {
     "ename": "KeyboardInterrupt",
     "evalue": "",
     "output_type": "error",
     "traceback": [
      "\u001b[0;31m---------------------------------------------------------------------------\u001b[0m",
      "\u001b[0;31mKeyboardInterrupt\u001b[0m                         Traceback (most recent call last)",
      "\u001b[0;32m<ipython-input-37-aad596905035>\u001b[0m in \u001b[0;36m<module>\u001b[0;34m\u001b[0m\n\u001b[0;32m----> 1\u001b[0;31m \u001b[0mtrain\u001b[0m\u001b[0;34m(\u001b[0m\u001b[0margs\u001b[0m\u001b[0;34m)\u001b[0m\u001b[0;34m\u001b[0m\u001b[0;34m\u001b[0m\u001b[0m\n\u001b[0m",
      "\u001b[0;32m<ipython-input-32-ebf6e9a7b296>\u001b[0m in \u001b[0;36mtrain\u001b[0;34m(args)\u001b[0m\n\u001b[1;32m     64\u001b[0m             \u001b[0mgrid\u001b[0m\u001b[0;34m.\u001b[0m\u001b[0mset_prob\u001b[0m\u001b[0;34m(\u001b[0m\u001b[0mepoch\u001b[0m\u001b[0;34m,\u001b[0m \u001b[0margs\u001b[0m\u001b[0;34m.\u001b[0m\u001b[0mst_epochs\u001b[0m\u001b[0;34m)\u001b[0m\u001b[0;34m\u001b[0m\u001b[0;34m\u001b[0m\u001b[0m\n\u001b[1;32m     65\u001b[0m             \u001b[0mtrain_epoch\u001b[0m\u001b[0;34m(\u001b[0m\u001b[0margs\u001b[0m\u001b[0;34m,\u001b[0m \u001b[0mmodel\u001b[0m\u001b[0;34m,\u001b[0m \u001b[0mtrain_loader\u001b[0m\u001b[0;34m,\u001b[0m \u001b[0mepoch\u001b[0m\u001b[0;34m,\u001b[0m \u001b[0moptimizer\u001b[0m\u001b[0;34m,\u001b[0m \u001b[0mlr_scheduler\u001b[0m\u001b[0;34m,\u001b[0m \u001b[0mgrid\u001b[0m\u001b[0;34m)\u001b[0m\u001b[0;34m\u001b[0m\u001b[0;34m\u001b[0m\u001b[0m\n\u001b[0;32m---> 66\u001b[0;31m             \u001b[0mvalidate_and_save\u001b[0m\u001b[0;34m(\u001b[0m\u001b[0mmodel\u001b[0m\u001b[0;34m,\u001b[0m \u001b[0mmodel_file\u001b[0m\u001b[0;34m,\u001b[0m \u001b[0mval_loader\u001b[0m\u001b[0;34m,\u001b[0m \u001b[0msave\u001b[0m\u001b[0;34m=\u001b[0m\u001b[0;32mTrue\u001b[0m\u001b[0;34m)\u001b[0m\u001b[0;34m\u001b[0m\u001b[0;34m\u001b[0m\u001b[0m\n\u001b[0m\u001b[1;32m     67\u001b[0m \u001b[0;34m\u001b[0m\u001b[0m\n\u001b[1;32m     68\u001b[0m             \u001b[0;32mif\u001b[0m \u001b[0;34m(\u001b[0m\u001b[0mepoch\u001b[0m\u001b[0;34m+\u001b[0m\u001b[0;36m1\u001b[0m\u001b[0;34m)\u001b[0m \u001b[0;34m==\u001b[0m \u001b[0margs\u001b[0m\u001b[0;34m.\u001b[0m\u001b[0mswa_start\u001b[0m \u001b[0;32mand\u001b[0m \u001b[0mcycle\u001b[0m \u001b[0;34m==\u001b[0m \u001b[0;36m1\u001b[0m\u001b[0;34m:\u001b[0m\u001b[0;34m\u001b[0m\u001b[0;34m\u001b[0m\u001b[0m\n",
      "\u001b[0;32m<ipython-input-32-ebf6e9a7b296>\u001b[0m in \u001b[0;36mvalidate_and_save\u001b[0;34m(model, model_file, val_loader, save)\u001b[0m\n\u001b[1;32m      7\u001b[0m     \u001b[0;32mglobal\u001b[0m \u001b[0mbest_metrics\u001b[0m\u001b[0;34m\u001b[0m\u001b[0;34m\u001b[0m\u001b[0m\n\u001b[1;32m      8\u001b[0m     \u001b[0mbest_key\u001b[0m \u001b[0;34m=\u001b[0m \u001b[0;34m'recall'\u001b[0m\u001b[0;34m\u001b[0m\u001b[0;34m\u001b[0m\u001b[0m\n\u001b[0;32m----> 9\u001b[0;31m     \u001b[0mval_metrics\u001b[0m \u001b[0;34m=\u001b[0m \u001b[0mvalidate\u001b[0m\u001b[0;34m(\u001b[0m\u001b[0mmodel\u001b[0m\u001b[0;34m,\u001b[0m \u001b[0mval_loader\u001b[0m\u001b[0;34m)\u001b[0m\u001b[0;34m\u001b[0m\u001b[0;34m\u001b[0m\u001b[0m\n\u001b[0m\u001b[1;32m     10\u001b[0m     \u001b[0mprint\u001b[0m\u001b[0;34m(\u001b[0m\u001b[0;34m'\\nval:'\u001b[0m\u001b[0;34m,\u001b[0m \u001b[0mval_metrics\u001b[0m\u001b[0;34m)\u001b[0m\u001b[0;34m\u001b[0m\u001b[0;34m\u001b[0m\u001b[0m\n\u001b[1;32m     11\u001b[0m \u001b[0;34m\u001b[0m\u001b[0m\n",
      "\u001b[0;32m<ipython-input-22-5ca1aeb200dd>\u001b[0m in \u001b[0;36mvalidate\u001b[0;34m(model, val_loader)\u001b[0m\n\u001b[1;32m      8\u001b[0m             \u001b[0my_true\u001b[0m\u001b[0;34m.\u001b[0m\u001b[0mappend\u001b[0m\u001b[0;34m(\u001b[0m\u001b[0my\u001b[0m\u001b[0;34m)\u001b[0m\u001b[0;34m\u001b[0m\u001b[0;34m\u001b[0m\u001b[0m\n\u001b[1;32m      9\u001b[0m             \u001b[0mx\u001b[0m\u001b[0;34m,\u001b[0m \u001b[0my\u001b[0m \u001b[0;34m=\u001b[0m \u001b[0mx\u001b[0m\u001b[0;34m.\u001b[0m\u001b[0mcuda\u001b[0m\u001b[0;34m(\u001b[0m\u001b[0;34m)\u001b[0m\u001b[0;34m,\u001b[0m \u001b[0my\u001b[0m\u001b[0;34m.\u001b[0m\u001b[0mcuda\u001b[0m\u001b[0;34m(\u001b[0m\u001b[0;34m)\u001b[0m\u001b[0;34m\u001b[0m\u001b[0;34m\u001b[0m\u001b[0m\n\u001b[0;32m---> 10\u001b[0;31m             \u001b[0moutputs\u001b[0m\u001b[0;34m,\u001b[0m \u001b[0m_\u001b[0m\u001b[0;34m,\u001b[0m \u001b[0m_\u001b[0m \u001b[0;34m=\u001b[0m \u001b[0mmodel\u001b[0m\u001b[0;34m(\u001b[0m\u001b[0mx\u001b[0m\u001b[0;34m)\u001b[0m\u001b[0;34m\u001b[0m\u001b[0;34m\u001b[0m\u001b[0m\n\u001b[0m\u001b[1;32m     11\u001b[0m             \u001b[0moutputs\u001b[0m \u001b[0;34m=\u001b[0m \u001b[0mtorch\u001b[0m\u001b[0;34m.\u001b[0m\u001b[0msplit\u001b[0m\u001b[0;34m(\u001b[0m\u001b[0moutputs\u001b[0m\u001b[0;34m,\u001b[0m \u001b[0;34m[\u001b[0m\u001b[0;36m168\u001b[0m\u001b[0;34m,\u001b[0m \u001b[0;36m11\u001b[0m\u001b[0;34m,\u001b[0m \u001b[0;36m7\u001b[0m\u001b[0;34m,\u001b[0m \u001b[0;36m1295\u001b[0m\u001b[0;34m]\u001b[0m\u001b[0;34m,\u001b[0m \u001b[0mdim\u001b[0m\u001b[0;34m=\u001b[0m\u001b[0;36m1\u001b[0m\u001b[0;34m)\u001b[0m\u001b[0;34m\u001b[0m\u001b[0;34m\u001b[0m\u001b[0m\n\u001b[1;32m     12\u001b[0m \u001b[0;34m\u001b[0m\u001b[0m\n",
      "\u001b[0;32m~/anaconda3/lib/python3.7/site-packages/torch/nn/modules/module.py\u001b[0m in \u001b[0;36m__call__\u001b[0;34m(self, *input, **kwargs)\u001b[0m\n\u001b[1;32m    545\u001b[0m             \u001b[0mresult\u001b[0m \u001b[0;34m=\u001b[0m \u001b[0mself\u001b[0m\u001b[0;34m.\u001b[0m\u001b[0m_slow_forward\u001b[0m\u001b[0;34m(\u001b[0m\u001b[0;34m*\u001b[0m\u001b[0minput\u001b[0m\u001b[0;34m,\u001b[0m \u001b[0;34m**\u001b[0m\u001b[0mkwargs\u001b[0m\u001b[0;34m)\u001b[0m\u001b[0;34m\u001b[0m\u001b[0;34m\u001b[0m\u001b[0m\n\u001b[1;32m    546\u001b[0m         \u001b[0;32melse\u001b[0m\u001b[0;34m:\u001b[0m\u001b[0;34m\u001b[0m\u001b[0;34m\u001b[0m\u001b[0m\n\u001b[0;32m--> 547\u001b[0;31m             \u001b[0mresult\u001b[0m \u001b[0;34m=\u001b[0m \u001b[0mself\u001b[0m\u001b[0;34m.\u001b[0m\u001b[0mforward\u001b[0m\u001b[0;34m(\u001b[0m\u001b[0;34m*\u001b[0m\u001b[0minput\u001b[0m\u001b[0;34m,\u001b[0m \u001b[0;34m**\u001b[0m\u001b[0mkwargs\u001b[0m\u001b[0;34m)\u001b[0m\u001b[0;34m\u001b[0m\u001b[0;34m\u001b[0m\u001b[0m\n\u001b[0m\u001b[1;32m    548\u001b[0m         \u001b[0;32mfor\u001b[0m \u001b[0mhook\u001b[0m \u001b[0;32min\u001b[0m \u001b[0mself\u001b[0m\u001b[0;34m.\u001b[0m\u001b[0m_forward_hooks\u001b[0m\u001b[0;34m.\u001b[0m\u001b[0mvalues\u001b[0m\u001b[0;34m(\u001b[0m\u001b[0;34m)\u001b[0m\u001b[0;34m:\u001b[0m\u001b[0;34m\u001b[0m\u001b[0;34m\u001b[0m\u001b[0m\n\u001b[1;32m    549\u001b[0m             \u001b[0mhook_result\u001b[0m \u001b[0;34m=\u001b[0m \u001b[0mhook\u001b[0m\u001b[0;34m(\u001b[0m\u001b[0mself\u001b[0m\u001b[0;34m,\u001b[0m \u001b[0minput\u001b[0m\u001b[0;34m,\u001b[0m \u001b[0mresult\u001b[0m\u001b[0;34m)\u001b[0m\u001b[0;34m\u001b[0m\u001b[0;34m\u001b[0m\u001b[0m\n",
      "\u001b[0;32m~/anaconda3/lib/python3.7/site-packages/torch/nn/parallel/data_parallel.py\u001b[0m in \u001b[0;36mforward\u001b[0;34m(self, *inputs, **kwargs)\u001b[0m\n\u001b[1;32m    150\u001b[0m             \u001b[0;32mreturn\u001b[0m \u001b[0mself\u001b[0m\u001b[0;34m.\u001b[0m\u001b[0mmodule\u001b[0m\u001b[0;34m(\u001b[0m\u001b[0;34m*\u001b[0m\u001b[0minputs\u001b[0m\u001b[0;34m[\u001b[0m\u001b[0;36m0\u001b[0m\u001b[0;34m]\u001b[0m\u001b[0;34m,\u001b[0m \u001b[0;34m**\u001b[0m\u001b[0mkwargs\u001b[0m\u001b[0;34m[\u001b[0m\u001b[0;36m0\u001b[0m\u001b[0;34m]\u001b[0m\u001b[0;34m)\u001b[0m\u001b[0;34m\u001b[0m\u001b[0;34m\u001b[0m\u001b[0m\n\u001b[1;32m    151\u001b[0m         \u001b[0mreplicas\u001b[0m \u001b[0;34m=\u001b[0m \u001b[0mself\u001b[0m\u001b[0;34m.\u001b[0m\u001b[0mreplicate\u001b[0m\u001b[0;34m(\u001b[0m\u001b[0mself\u001b[0m\u001b[0;34m.\u001b[0m\u001b[0mmodule\u001b[0m\u001b[0;34m,\u001b[0m \u001b[0mself\u001b[0m\u001b[0;34m.\u001b[0m\u001b[0mdevice_ids\u001b[0m\u001b[0;34m[\u001b[0m\u001b[0;34m:\u001b[0m\u001b[0mlen\u001b[0m\u001b[0;34m(\u001b[0m\u001b[0minputs\u001b[0m\u001b[0;34m)\u001b[0m\u001b[0;34m]\u001b[0m\u001b[0;34m)\u001b[0m\u001b[0;34m\u001b[0m\u001b[0;34m\u001b[0m\u001b[0m\n\u001b[0;32m--> 152\u001b[0;31m         \u001b[0moutputs\u001b[0m \u001b[0;34m=\u001b[0m \u001b[0mself\u001b[0m\u001b[0;34m.\u001b[0m\u001b[0mparallel_apply\u001b[0m\u001b[0;34m(\u001b[0m\u001b[0mreplicas\u001b[0m\u001b[0;34m,\u001b[0m \u001b[0minputs\u001b[0m\u001b[0;34m,\u001b[0m \u001b[0mkwargs\u001b[0m\u001b[0;34m)\u001b[0m\u001b[0;34m\u001b[0m\u001b[0;34m\u001b[0m\u001b[0m\n\u001b[0m\u001b[1;32m    153\u001b[0m         \u001b[0;32mreturn\u001b[0m \u001b[0mself\u001b[0m\u001b[0;34m.\u001b[0m\u001b[0mgather\u001b[0m\u001b[0;34m(\u001b[0m\u001b[0moutputs\u001b[0m\u001b[0;34m,\u001b[0m \u001b[0mself\u001b[0m\u001b[0;34m.\u001b[0m\u001b[0moutput_device\u001b[0m\u001b[0;34m)\u001b[0m\u001b[0;34m\u001b[0m\u001b[0;34m\u001b[0m\u001b[0m\n\u001b[1;32m    154\u001b[0m \u001b[0;34m\u001b[0m\u001b[0m\n",
      "\u001b[0;32m~/anaconda3/lib/python3.7/site-packages/torch/nn/parallel/data_parallel.py\u001b[0m in \u001b[0;36mparallel_apply\u001b[0;34m(self, replicas, inputs, kwargs)\u001b[0m\n\u001b[1;32m    160\u001b[0m \u001b[0;34m\u001b[0m\u001b[0m\n\u001b[1;32m    161\u001b[0m     \u001b[0;32mdef\u001b[0m \u001b[0mparallel_apply\u001b[0m\u001b[0;34m(\u001b[0m\u001b[0mself\u001b[0m\u001b[0;34m,\u001b[0m \u001b[0mreplicas\u001b[0m\u001b[0;34m,\u001b[0m \u001b[0minputs\u001b[0m\u001b[0;34m,\u001b[0m \u001b[0mkwargs\u001b[0m\u001b[0;34m)\u001b[0m\u001b[0;34m:\u001b[0m\u001b[0;34m\u001b[0m\u001b[0;34m\u001b[0m\u001b[0m\n\u001b[0;32m--> 162\u001b[0;31m         \u001b[0;32mreturn\u001b[0m \u001b[0mparallel_apply\u001b[0m\u001b[0;34m(\u001b[0m\u001b[0mreplicas\u001b[0m\u001b[0;34m,\u001b[0m \u001b[0minputs\u001b[0m\u001b[0;34m,\u001b[0m \u001b[0mkwargs\u001b[0m\u001b[0;34m,\u001b[0m \u001b[0mself\u001b[0m\u001b[0;34m.\u001b[0m\u001b[0mdevice_ids\u001b[0m\u001b[0;34m[\u001b[0m\u001b[0;34m:\u001b[0m\u001b[0mlen\u001b[0m\u001b[0;34m(\u001b[0m\u001b[0mreplicas\u001b[0m\u001b[0;34m)\u001b[0m\u001b[0;34m]\u001b[0m\u001b[0;34m)\u001b[0m\u001b[0;34m\u001b[0m\u001b[0;34m\u001b[0m\u001b[0m\n\u001b[0m\u001b[1;32m    163\u001b[0m \u001b[0;34m\u001b[0m\u001b[0m\n\u001b[1;32m    164\u001b[0m     \u001b[0;32mdef\u001b[0m \u001b[0mgather\u001b[0m\u001b[0;34m(\u001b[0m\u001b[0mself\u001b[0m\u001b[0;34m,\u001b[0m \u001b[0moutputs\u001b[0m\u001b[0;34m,\u001b[0m \u001b[0moutput_device\u001b[0m\u001b[0;34m)\u001b[0m\u001b[0;34m:\u001b[0m\u001b[0;34m\u001b[0m\u001b[0;34m\u001b[0m\u001b[0m\n",
      "\u001b[0;32m~/anaconda3/lib/python3.7/site-packages/torch/nn/parallel/parallel_apply.py\u001b[0m in \u001b[0;36mparallel_apply\u001b[0;34m(modules, inputs, kwargs_tup, devices)\u001b[0m\n\u001b[1;32m     75\u001b[0m             \u001b[0mthread\u001b[0m\u001b[0;34m.\u001b[0m\u001b[0mstart\u001b[0m\u001b[0;34m(\u001b[0m\u001b[0;34m)\u001b[0m\u001b[0;34m\u001b[0m\u001b[0;34m\u001b[0m\u001b[0m\n\u001b[1;32m     76\u001b[0m         \u001b[0;32mfor\u001b[0m \u001b[0mthread\u001b[0m \u001b[0;32min\u001b[0m \u001b[0mthreads\u001b[0m\u001b[0;34m:\u001b[0m\u001b[0;34m\u001b[0m\u001b[0;34m\u001b[0m\u001b[0m\n\u001b[0;32m---> 77\u001b[0;31m             \u001b[0mthread\u001b[0m\u001b[0;34m.\u001b[0m\u001b[0mjoin\u001b[0m\u001b[0;34m(\u001b[0m\u001b[0;34m)\u001b[0m\u001b[0;34m\u001b[0m\u001b[0;34m\u001b[0m\u001b[0m\n\u001b[0m\u001b[1;32m     78\u001b[0m     \u001b[0;32melse\u001b[0m\u001b[0;34m:\u001b[0m\u001b[0;34m\u001b[0m\u001b[0;34m\u001b[0m\u001b[0m\n\u001b[1;32m     79\u001b[0m         \u001b[0m_worker\u001b[0m\u001b[0;34m(\u001b[0m\u001b[0;36m0\u001b[0m\u001b[0;34m,\u001b[0m \u001b[0mmodules\u001b[0m\u001b[0;34m[\u001b[0m\u001b[0;36m0\u001b[0m\u001b[0;34m]\u001b[0m\u001b[0;34m,\u001b[0m \u001b[0minputs\u001b[0m\u001b[0;34m[\u001b[0m\u001b[0;36m0\u001b[0m\u001b[0;34m]\u001b[0m\u001b[0;34m,\u001b[0m \u001b[0mkwargs_tup\u001b[0m\u001b[0;34m[\u001b[0m\u001b[0;36m0\u001b[0m\u001b[0;34m]\u001b[0m\u001b[0;34m,\u001b[0m \u001b[0mdevices\u001b[0m\u001b[0;34m[\u001b[0m\u001b[0;36m0\u001b[0m\u001b[0;34m]\u001b[0m\u001b[0;34m)\u001b[0m\u001b[0;34m\u001b[0m\u001b[0;34m\u001b[0m\u001b[0m\n",
      "\u001b[0;32m~/anaconda3/lib/python3.7/threading.py\u001b[0m in \u001b[0;36mjoin\u001b[0;34m(self, timeout)\u001b[0m\n\u001b[1;32m   1030\u001b[0m \u001b[0;34m\u001b[0m\u001b[0m\n\u001b[1;32m   1031\u001b[0m         \u001b[0;32mif\u001b[0m \u001b[0mtimeout\u001b[0m \u001b[0;32mis\u001b[0m \u001b[0;32mNone\u001b[0m\u001b[0;34m:\u001b[0m\u001b[0;34m\u001b[0m\u001b[0;34m\u001b[0m\u001b[0m\n\u001b[0;32m-> 1032\u001b[0;31m             \u001b[0mself\u001b[0m\u001b[0;34m.\u001b[0m\u001b[0m_wait_for_tstate_lock\u001b[0m\u001b[0;34m(\u001b[0m\u001b[0;34m)\u001b[0m\u001b[0;34m\u001b[0m\u001b[0;34m\u001b[0m\u001b[0m\n\u001b[0m\u001b[1;32m   1033\u001b[0m         \u001b[0;32melse\u001b[0m\u001b[0;34m:\u001b[0m\u001b[0;34m\u001b[0m\u001b[0;34m\u001b[0m\u001b[0m\n\u001b[1;32m   1034\u001b[0m             \u001b[0;31m# the behavior of a negative timeout isn't documented, but\u001b[0m\u001b[0;34m\u001b[0m\u001b[0;34m\u001b[0m\u001b[0;34m\u001b[0m\u001b[0m\n",
      "\u001b[0;32m~/anaconda3/lib/python3.7/threading.py\u001b[0m in \u001b[0;36m_wait_for_tstate_lock\u001b[0;34m(self, block, timeout)\u001b[0m\n\u001b[1;32m   1046\u001b[0m         \u001b[0;32mif\u001b[0m \u001b[0mlock\u001b[0m \u001b[0;32mis\u001b[0m \u001b[0;32mNone\u001b[0m\u001b[0;34m:\u001b[0m  \u001b[0;31m# already determined that the C code is done\u001b[0m\u001b[0;34m\u001b[0m\u001b[0;34m\u001b[0m\u001b[0m\n\u001b[1;32m   1047\u001b[0m             \u001b[0;32massert\u001b[0m \u001b[0mself\u001b[0m\u001b[0;34m.\u001b[0m\u001b[0m_is_stopped\u001b[0m\u001b[0;34m\u001b[0m\u001b[0;34m\u001b[0m\u001b[0m\n\u001b[0;32m-> 1048\u001b[0;31m         \u001b[0;32melif\u001b[0m \u001b[0mlock\u001b[0m\u001b[0;34m.\u001b[0m\u001b[0macquire\u001b[0m\u001b[0;34m(\u001b[0m\u001b[0mblock\u001b[0m\u001b[0;34m,\u001b[0m \u001b[0mtimeout\u001b[0m\u001b[0;34m)\u001b[0m\u001b[0;34m:\u001b[0m\u001b[0;34m\u001b[0m\u001b[0;34m\u001b[0m\u001b[0m\n\u001b[0m\u001b[1;32m   1049\u001b[0m             \u001b[0mlock\u001b[0m\u001b[0;34m.\u001b[0m\u001b[0mrelease\u001b[0m\u001b[0;34m(\u001b[0m\u001b[0;34m)\u001b[0m\u001b[0;34m\u001b[0m\u001b[0;34m\u001b[0m\u001b[0m\n\u001b[1;32m   1050\u001b[0m             \u001b[0mself\u001b[0m\u001b[0;34m.\u001b[0m\u001b[0m_stop\u001b[0m\u001b[0;34m(\u001b[0m\u001b[0;34m)\u001b[0m\u001b[0;34m\u001b[0m\u001b[0;34m\u001b[0m\u001b[0m\n",
      "\u001b[0;31mKeyboardInterrupt\u001b[0m: "
     ]
    }
   ],
   "source": [
    "train(args)"
   ]
  },
  {
   "cell_type": "code",
   "execution_count": null,
   "metadata": {},
   "outputs": [],
   "source": []
  },
  {
   "cell_type": "code",
   "execution_count": 37,
   "metadata": {},
   "outputs": [
    {
     "name": "stdout",
     "output_type": "stream",
     "text": [
      "model file: ./model4-ckps/tf_efficientnet_b4/model4_eb4_fold2_380.pth, exist: True\n",
      "loading ./model4-ckps/tf_efficientnet_b4/model4_eb4_fold2_380.pth...\n",
      "model file: ./model4-ckps/tf_efficientnet_b4/model4_eb4_fold2_380.pth_swa, exist: False\n",
      "\n",
      "val: {'recall': 0.863007, 'recall_grapheme': 0.799473, 'recall_vowel': 0.910495, 'recall_consonant': 0.942587, 'recall_word': 0.792659, 'acc_grapheme': 0.579279, 'acc_vowel': 0.896942, 'acc_consonant': 0.816369, 'acc_word': 0.390718, 'loss_grapheme': 1.777621, 'loss_vowel': 0.442087, 'loss_consonant': 0.433245, 'loss_word': 2.889786}\n",
      "CYCLE: 1\n"
     ]
    },
    {
     "name": "stderr",
     "output_type": "stream",
     "text": [
      "/home/chec/anaconda3/lib/python3.7/site-packages/sklearn/metrics/classification.py:1439: UndefinedMetricWarning: Recall is ill-defined and being set to 0.0 in labels with no true samples.\n",
      "  'recall', 'true', average, warn_for)\n"
     ]
    },
    {
     "name": "stdout",
     "output_type": "stream",
     "text": [
      "    0 | 0.000292 | 160640/160678 | 9.0631 | 11.0421 | 13.91 ||\n",
      "val: {'recall': 0.990122, 'recall_grapheme': 0.987137, 'recall_vowel': 0.994537, 'recall_consonant': 0.991677, 'recall_word': 0.986548, 'acc_grapheme': 0.987476, 'acc_vowel': 0.994921, 'acc_consonant': 0.995892, 'acc_word': 0.986355, 'loss_grapheme': 0.081153, 'loss_vowel': 0.043929, 'loss_consonant': 0.032938, 'loss_word': 0.071857}\n",
      "###>>>>> saved ./model4-ckps/tf_efficientnet_b4/model4_eb4_fold2_380.pth\n",
      "    1 | 0.000543 | 160640/160678 | 11.2862 | 7.7721 | 14.02 |\n",
      "val: {'recall': 0.99057, 'recall_grapheme': 0.985973, 'recall_vowel': 0.994439, 'recall_consonant': 0.995896, 'recall_word': 0.987708, 'acc_grapheme': 0.98765, 'acc_vowel': 0.994921, 'acc_consonant': 0.996116, 'acc_word': 0.987227, 'loss_grapheme': 0.050568, 'loss_vowel': 0.022158, 'loss_consonant': 0.018201, 'loss_word': 0.050209}\n",
      "###>>>>> saved ./model4-ckps/tf_efficientnet_b4/model4_eb4_fold2_380.pth\n",
      "    2 | 0.000476 | 160640/160678 | 1.3762 | 7.5592 | 14.18 ||\n",
      "val: {'recall': 0.990194, 'recall_grapheme': 0.985953, 'recall_vowel': 0.994653, 'recall_consonant': 0.994215, 'recall_word': 0.98804, 'acc_grapheme': 0.988322, 'acc_vowel': 0.995419, 'acc_consonant': 0.996066, 'acc_word': 0.987899, 'loss_grapheme': 0.055032, 'loss_vowel': 0.025479, 'loss_consonant': 0.019687, 'loss_word': 0.052394}\n",
      "    3 | 0.000393 | 160640/160678 | 7.6745 | 7.4268 | 14.27 ||\n",
      "val: {'recall': 0.992202, 'recall_grapheme': 0.989024, 'recall_vowel': 0.996775, 'recall_consonant': 0.993983, 'recall_word': 0.991499, 'acc_grapheme': 0.991136, 'acc_vowel': 0.996863, 'acc_consonant': 0.997261, 'acc_word': 0.991534, 'loss_grapheme': 0.039199, 'loss_vowel': 0.017218, 'loss_consonant': 0.013465, 'loss_word': 0.034572}\n",
      "###>>>>> saved ./model4-ckps/tf_efficientnet_b4/model4_eb4_fold2_380.pth\n",
      "    4 | 0.000300 | 160640/160678 | 5.6482 | 6.9655 | 14.34 ||\n",
      "val: {'recall': 0.993916, 'recall_grapheme': 0.991596, 'recall_vowel': 0.996579, 'recall_consonant': 0.995894, 'recall_word': 0.992211, 'acc_grapheme': 0.992157, 'acc_vowel': 0.997037, 'acc_consonant': 0.997012, 'acc_word': 0.992082, 'loss_grapheme': 0.041761, 'loss_vowel': 0.02089, 'loss_consonant': 0.016283, 'loss_word': 0.036556}\n",
      "###>>>>> saved ./model4-ckps/tf_efficientnet_b4/model4_eb4_fold2_380.pth\n",
      "    5 | 0.000207 | 160640/160678 | 0.9168 | 6.7803 | 14.48 ||\n",
      "val: {'recall': 0.994361, 'recall_grapheme': 0.992047, 'recall_vowel': 0.997427, 'recall_consonant': 0.995922, 'recall_word': 0.993398, 'acc_grapheme': 0.992605, 'acc_vowel': 0.99751, 'acc_consonant': 0.997884, 'acc_word': 0.993327, 'loss_grapheme': 0.031507, 'loss_vowel': 0.013135, 'loss_consonant': 0.010009, 'loss_word': 0.029411}\n",
      "###>>>>> saved ./model4-ckps/tf_efficientnet_b4/model4_eb4_fold2_380.pth\n",
      "    6 | 0.000124 | 160640/160678 | 13.3685 | 6.3333 | 14.54 |\n",
      "val: {'recall': 0.99485, 'recall_grapheme': 0.992533, 'recall_vowel': 0.997485, 'recall_consonant': 0.99685, 'recall_word': 0.994272, 'acc_grapheme': 0.993252, 'acc_vowel': 0.99751, 'acc_consonant': 0.997983, 'acc_word': 0.994298, 'loss_grapheme': 0.02986, 'loss_vowel': 0.014089, 'loss_consonant': 0.009659, 'loss_word': 0.02558}\n",
      "###>>>>> saved ./model4-ckps/tf_efficientnet_b4/model4_eb4_fold2_380.pth\n",
      "    7 | 0.000057 | 160640/160678 | 14.2228 | 6.1689 | 14.51 |\n",
      "val: {'recall': 0.99484, 'recall_grapheme': 0.993022, 'recall_vowel': 0.997311, 'recall_consonant': 0.996004, 'recall_word': 0.993926, 'acc_grapheme': 0.994049, 'acc_vowel': 0.99751, 'acc_consonant': 0.998182, 'acc_word': 0.993974, 'loss_grapheme': 0.025888, 'loss_vowel': 0.011827, 'loss_consonant': 0.008406, 'loss_word': 0.024524}\n",
      "    8 | 0.000015 | 160640/160678 | 5.9368 | 6.0782 | 14.51 ||\n",
      "val: {'recall': 0.994921, 'recall_grapheme': 0.992792, 'recall_vowel': 0.997397, 'recall_consonant': 0.996703, 'recall_word': 0.994053, 'acc_grapheme': 0.993701, 'acc_vowel': 0.997635, 'acc_consonant': 0.998257, 'acc_word': 0.994074, 'loss_grapheme': 0.027889, 'loss_vowel': 0.012232, 'loss_consonant': 0.008177, 'loss_word': 0.025091}\n",
      "###>>>>> saved ./model4-ckps/tf_efficientnet_b4/model4_eb4_fold2_380.pth\n",
      "    9 | 0.000000 | 160640/160678 | 9.9703 | 5.9798 | 14.50 ||\n",
      "val: {'recall': 0.995327, 'recall_grapheme': 0.993341, 'recall_vowel': 0.997946, 'recall_consonant': 0.996677, 'recall_word': 0.994459, 'acc_grapheme': 0.994124, 'acc_vowel': 0.997908, 'acc_consonant': 0.998332, 'acc_word': 0.994423, 'loss_grapheme': 0.024672, 'loss_vowel': 0.010698, 'loss_consonant': 0.007619, 'loss_word': 0.023081}\n",
      "###>>>>> saved ./model4-ckps/tf_efficientnet_b4/model4_eb4_fold2_380.pth\n",
      "CYCLE: 2\n",
      "    0 | 0.000200 | 160640/160678 | 13.1078 | 6.0285 | 14.01 |\n",
      "val: {'recall': 0.994001, 'recall_grapheme': 0.992091, 'recall_vowel': 0.99744, 'recall_consonant': 0.994381, 'recall_word': 0.993518, 'acc_grapheme': 0.993103, 'acc_vowel': 0.997386, 'acc_consonant': 0.998008, 'acc_word': 0.993526, 'loss_grapheme': 0.030174, 'loss_vowel': 0.014206, 'loss_consonant': 0.010015, 'loss_word': 0.027602}\n",
      "    1 | 0.000199 | 160640/160678 | 5.1296 | 6.1058 | 14.14 ||\n",
      "val: {'recall': 0.994466, 'recall_grapheme': 0.991894, 'recall_vowel': 0.997966, 'recall_consonant': 0.99611, 'recall_word': 0.993761, 'acc_grapheme': 0.993576, 'acc_vowel': 0.997958, 'acc_consonant': 0.998133, 'acc_word': 0.99385, 'loss_grapheme': 0.026808, 'loss_vowel': 0.011008, 'loss_consonant': 0.00962, 'loss_word': 0.026182}\n",
      "    2 | 0.000197 | 160640/160678 | 7.3127 | 6.1022 | 14.22 ||\n",
      "val: {'recall': 0.993723, 'recall_grapheme': 0.992175, 'recall_vowel': 0.997476, 'recall_consonant': 0.993066, 'recall_word': 0.993169, 'acc_grapheme': 0.992929, 'acc_vowel': 0.997535, 'acc_consonant': 0.997261, 'acc_word': 0.993128, 'loss_grapheme': 0.034796, 'loss_vowel': 0.015667, 'loss_consonant': 0.013713, 'loss_word': 0.032041}\n",
      "    3 | 0.000195 | 160640/160678 | 0.7041 | 6.3150 | 14.27 ||\n",
      "val: {'recall': 0.995323, 'recall_grapheme': 0.993593, 'recall_vowel': 0.99776, 'recall_consonant': 0.996345, 'recall_word': 0.993997, 'acc_grapheme': 0.994198, 'acc_vowel': 0.997884, 'acc_consonant': 0.997884, 'acc_word': 0.99395, 'loss_grapheme': 0.024847, 'loss_vowel': 0.011413, 'loss_consonant': 0.009732, 'loss_word': 0.024127}\n",
      "    4 | 0.000192 | 160640/160678 | 6.4187 | 6.2909 | 14.39 ||\n",
      "val: {'recall': 0.994075, 'recall_grapheme': 0.992096, 'recall_vowel': 0.997658, 'recall_consonant': 0.994452, 'recall_word': 0.993225, 'acc_grapheme': 0.993402, 'acc_vowel': 0.997585, 'acc_consonant': 0.997635, 'acc_word': 0.993277, 'loss_grapheme': 0.0286, 'loss_vowel': 0.012848, 'loss_consonant': 0.010428, 'loss_word': 0.027023}\n",
      "    5 | 0.000189 | 160640/160678 | 8.9461 | 6.1536 | 14.52 ||\n",
      "val: {'recall': 0.99493, 'recall_grapheme': 0.992452, 'recall_vowel': 0.997751, 'recall_consonant': 0.997065, 'recall_word': 0.994087, 'acc_grapheme': 0.993725, 'acc_vowel': 0.997908, 'acc_consonant': 0.998332, 'acc_word': 0.994049, 'loss_grapheme': 0.028572, 'loss_vowel': 0.011454, 'loss_consonant': 0.008411, 'loss_word': 0.025477}\n",
      "    6 | 0.000185 | 160640/160678 | 3.6986 | 6.0373 | 14.52 ||\n",
      "val: {'recall': 0.995002, 'recall_grapheme': 0.993081, 'recall_vowel': 0.997886, 'recall_consonant': 0.995962, 'recall_word': 0.993772, 'acc_grapheme': 0.99375, 'acc_vowel': 0.997759, 'acc_consonant': 0.998157, 'acc_word': 0.993775, 'loss_grapheme': 0.027058, 'loss_vowel': 0.011597, 'loss_consonant': 0.008316, 'loss_word': 0.025833}\n",
      "    7 | 0.000181 | 160640/160678 | 13.8821 | 6.2762 | 14.50 |\n",
      "val: {'recall': 0.994682, 'recall_grapheme': 0.992701, 'recall_vowel': 0.997673, 'recall_consonant': 0.995654, 'recall_word': 0.993652, 'acc_grapheme': 0.993227, 'acc_vowel': 0.997859, 'acc_consonant': 0.997834, 'acc_word': 0.993701, 'loss_grapheme': 0.032046, 'loss_vowel': 0.01285, 'loss_consonant': 0.010273, 'loss_word': 0.029059}\n",
      "    8 | 0.000176 | 160640/160678 | 15.5810 | 6.2436 | 14.51 |\n",
      "val: {'recall': 0.995613, 'recall_grapheme': 0.99415, 'recall_vowel': 0.99825, 'recall_consonant': 0.995902, 'recall_word': 0.994804, 'acc_grapheme': 0.99497, 'acc_vowel': 0.998232, 'acc_consonant': 0.998307, 'acc_word': 0.994821, 'loss_grapheme': 0.022318, 'loss_vowel': 0.009554, 'loss_consonant': 0.007905, 'loss_word': 0.022014}\n",
      "###>>>>> saved ./model4-ckps/tf_efficientnet_b4/model4_eb4_fold2_380.pth\n"
     ]
    },
    {
     "name": "stdout",
     "output_type": "stream",
     "text": [
      "    9 | 0.000171 | 160640/160678 | 6.6217 | 6.1082 | 14.56 ||\n",
      "val: {'recall': 0.99469, 'recall_grapheme': 0.993247, 'recall_vowel': 0.997689, 'recall_consonant': 0.994578, 'recall_word': 0.993979, 'acc_grapheme': 0.993974, 'acc_vowel': 0.997958, 'acc_consonant': 0.997834, 'acc_word': 0.993974, 'loss_grapheme': 0.028306, 'loss_vowel': 0.012581, 'loss_consonant': 0.009692, 'loss_word': 0.026933}\n",
      "   10 | 0.000165 | 160640/160678 | 13.6986 | 5.9318 | 14.58 |\n",
      "val: {'recall': 0.994702, 'recall_grapheme': 0.992307, 'recall_vowel': 0.997553, 'recall_consonant': 0.996642, 'recall_word': 0.993668, 'acc_grapheme': 0.993576, 'acc_vowel': 0.997784, 'acc_consonant': 0.997859, 'acc_word': 0.993651, 'loss_grapheme': 0.029794, 'loss_vowel': 0.013136, 'loss_consonant': 0.01068, 'loss_word': 0.02701}\n",
      "   11 | 0.000159 | 160640/160678 | 0.8778 | 6.0795 | 14.56 ||\n",
      "val: {'recall': 0.995492, 'recall_grapheme': 0.99389, 'recall_vowel': 0.998107, 'recall_consonant': 0.996083, 'recall_word': 0.994334, 'acc_grapheme': 0.994497, 'acc_vowel': 0.998033, 'acc_consonant': 0.998083, 'acc_word': 0.994273, 'loss_grapheme': 0.026226, 'loss_vowel': 0.011517, 'loss_consonant': 0.009368, 'loss_word': 0.025096}\n",
      "   12 | 0.000152 | 160640/160678 | 7.9163 | 6.1094 | 14.55 ||\n",
      "val: {'recall': 0.995257, 'recall_grapheme': 0.994539, 'recall_vowel': 0.998184, 'recall_consonant': 0.993768, 'recall_word': 0.995155, 'acc_grapheme': 0.995095, 'acc_vowel': 0.998257, 'acc_consonant': 0.998406, 'acc_word': 0.995095, 'loss_grapheme': 0.022239, 'loss_vowel': 0.010225, 'loss_consonant': 0.007804, 'loss_word': 0.022467}\n",
      "   13 | 0.000145 | 160640/160678 | 10.5042 | 5.7655 | 14.58 |\n",
      "val: {'recall': 0.995381, 'recall_grapheme': 0.99384, 'recall_vowel': 0.998227, 'recall_consonant': 0.995615, 'recall_word': 0.994532, 'acc_grapheme': 0.994248, 'acc_vowel': 0.998157, 'acc_consonant': 0.998207, 'acc_word': 0.994622, 'loss_grapheme': 0.024945, 'loss_vowel': 0.00988, 'loss_consonant': 0.00736, 'loss_word': 0.023151}\n",
      "   14 | 0.000138 | 160640/160678 | 7.8879 | 5.9783 | 14.56 ||\n",
      "val: {'recall': 0.995498, 'recall_grapheme': 0.994183, 'recall_vowel': 0.998064, 'recall_consonant': 0.995562, 'recall_word': 0.994401, 'acc_grapheme': 0.994622, 'acc_vowel': 0.998008, 'acc_consonant': 0.998257, 'acc_word': 0.994472, 'loss_grapheme': 0.025039, 'loss_vowel': 0.011692, 'loss_consonant': 0.009033, 'loss_word': 0.024837}\n",
      "   15 | 0.000131 | 160640/160678 | 7.2542 | 5.8899 | 14.53 ||\n",
      "val: {'recall': 0.995755, 'recall_grapheme': 0.994133, 'recall_vowel': 0.998066, 'recall_consonant': 0.996688, 'recall_word': 0.994865, 'acc_grapheme': 0.994896, 'acc_vowel': 0.998157, 'acc_consonant': 0.998332, 'acc_word': 0.994821, 'loss_grapheme': 0.02314, 'loss_vowel': 0.01004, 'loss_consonant': 0.007035, 'loss_word': 0.022541}\n",
      "###>>>>> saved ./model4-ckps/tf_efficientnet_b4/model4_eb4_fold2_380.pth\n",
      "   16 | 0.000123 | 160640/160678 | 0.2984 | 5.9174 | 14.54 ||\n",
      "val: {'recall': 0.996097, 'recall_grapheme': 0.994506, 'recall_vowel': 0.998594, 'recall_consonant': 0.99678, 'recall_word': 0.995224, 'acc_grapheme': 0.995369, 'acc_vowel': 0.998307, 'acc_consonant': 0.998282, 'acc_word': 0.995244, 'loss_grapheme': 0.02125, 'loss_vowel': 0.010461, 'loss_consonant': 0.007386, 'loss_word': 0.021545}\n",
      "###>>>>> saved ./model4-ckps/tf_efficientnet_b4/model4_eb4_fold2_380.pth\n",
      "   17 | 0.000116 | 160640/160678 | 1.0962 | 6.0137 | 14.55 ||\n",
      "val: {'recall': 0.996006, 'recall_grapheme': 0.994431, 'recall_vowel': 0.998705, 'recall_consonant': 0.996457, 'recall_word': 0.994974, 'acc_grapheme': 0.995219, 'acc_vowel': 0.998531, 'acc_consonant': 0.998481, 'acc_word': 0.99497, 'loss_grapheme': 0.021622, 'loss_vowel': 0.008793, 'loss_consonant': 0.006416, 'loss_word': 0.021025}\n",
      "   18 | 0.000108 | 160640/160678 | 10.4995 | 5.8458 | 14.61 |\n",
      "val: {'recall': 0.996226, 'recall_grapheme': 0.995589, 'recall_vowel': 0.998654, 'recall_consonant': 0.995071, 'recall_word': 0.995838, 'acc_grapheme': 0.995966, 'acc_vowel': 0.998431, 'acc_consonant': 0.998606, 'acc_word': 0.995817, 'loss_grapheme': 0.021179, 'loss_vowel': 0.011431, 'loss_consonant': 0.008254, 'loss_word': 0.019089}\n",
      "###>>>>> saved ./model4-ckps/tf_efficientnet_b4/model4_eb4_fold2_380.pth\n",
      "   19 | 0.000100 | 160640/160678 | 5.3443 | 5.7773 | 14.56 ||\n",
      "val: {'recall': 0.995637, 'recall_grapheme': 0.994006, 'recall_vowel': 0.9982, 'recall_consonant': 0.996335, 'recall_word': 0.994873, 'acc_grapheme': 0.99502, 'acc_vowel': 0.998182, 'acc_consonant': 0.998456, 'acc_word': 0.994871, 'loss_grapheme': 0.021282, 'loss_vowel': 0.009484, 'loss_consonant': 0.006517, 'loss_word': 0.02093}\n",
      "   20 | 0.000092 | 160640/160678 | 4.9738 | 5.8126 | 14.55 ||\n",
      "val: {'recall': 0.996204, 'recall_grapheme': 0.994935, 'recall_vowel': 0.998391, 'recall_consonant': 0.996556, 'recall_word': 0.995678, 'acc_grapheme': 0.995443, 'acc_vowel': 0.998382, 'acc_consonant': 0.998556, 'acc_word': 0.995692, 'loss_grapheme': 0.0203, 'loss_vowel': 0.008735, 'loss_consonant': 0.00644, 'loss_word': 0.019608}\n",
      "   21 | 0.000084 | 160640/160678 | 8.4557 | 5.6417 | 14.57 ||\n",
      "val: {'recall': 0.995613, 'recall_grapheme': 0.994315, 'recall_vowel': 0.998414, 'recall_consonant': 0.995409, 'recall_word': 0.994898, 'acc_grapheme': 0.994995, 'acc_vowel': 0.998382, 'acc_consonant': 0.998382, 'acc_word': 0.99497, 'loss_grapheme': 0.02259, 'loss_vowel': 0.008738, 'loss_consonant': 0.00701, 'loss_word': 0.021948}\n",
      "   22 | 0.000077 | 160640/160678 | 0.8960 | 5.5953 | 14.62 ||\n",
      "val: {'recall': 0.996864, 'recall_grapheme': 0.995341, 'recall_vowel': 0.998716, 'recall_consonant': 0.998059, 'recall_word': 0.995527, 'acc_grapheme': 0.995643, 'acc_vowel': 0.998456, 'acc_consonant': 0.998531, 'acc_word': 0.995543, 'loss_grapheme': 0.021051, 'loss_vowel': 0.009045, 'loss_consonant': 0.00687, 'loss_word': 0.019851}\n",
      "###>>>>> saved ./model4-ckps/tf_efficientnet_b4/model4_eb4_fold2_380.pth\n",
      "   23 | 0.000069 | 160640/160678 | 13.0289 | 5.7688 | 14.60 |\n",
      "val: {'recall': 0.995879, 'recall_grapheme': 0.994317, 'recall_vowel': 0.998509, 'recall_consonant': 0.996372, 'recall_word': 0.995036, 'acc_grapheme': 0.994945, 'acc_vowel': 0.998182, 'acc_consonant': 0.998506, 'acc_word': 0.994995, 'loss_grapheme': 0.022693, 'loss_vowel': 0.009591, 'loss_consonant': 0.006772, 'loss_word': 0.021833}\n",
      "   24 | 0.000062 | 160640/160678 | 0.4707 | 5.7198 | 14.56 ||\n",
      "val: {'recall': 0.996539, 'recall_grapheme': 0.995217, 'recall_vowel': 0.998611, 'recall_consonant': 0.997109, 'recall_word': 0.995909, 'acc_grapheme': 0.995792, 'acc_vowel': 0.998431, 'acc_consonant': 0.998581, 'acc_word': 0.995917, 'loss_grapheme': 0.020573, 'loss_vowel': 0.010598, 'loss_consonant': 0.007477, 'loss_word': 0.019469}\n",
      "   25 | 0.000055 | 160640/160678 | 5.7334 | 5.7725 | 14.62 ||\n",
      "val: {'recall': 0.995746, 'recall_grapheme': 0.994081, 'recall_vowel': 0.998133, 'recall_consonant': 0.996688, 'recall_word': 0.995112, 'acc_grapheme': 0.994871, 'acc_vowel': 0.998232, 'acc_consonant': 0.998357, 'acc_word': 0.995194, 'loss_grapheme': 0.023277, 'loss_vowel': 0.01014, 'loss_consonant': 0.007531, 'loss_word': 0.021244}\n",
      "   26 | 0.000048 | 160640/160678 | 9.9945 | 5.5902 | 14.58 ||\n",
      "val: {'recall': 0.996095, 'recall_grapheme': 0.994563, 'recall_vowel': 0.998619, 'recall_consonant': 0.996633, 'recall_word': 0.995524, 'acc_grapheme': 0.995493, 'acc_vowel': 0.998506, 'acc_consonant': 0.998332, 'acc_word': 0.995543, 'loss_grapheme': 0.021117, 'loss_vowel': 0.009623, 'loss_consonant': 0.007577, 'loss_word': 0.020458}\n",
      "   27 | 0.000041 | 160640/160678 | 5.8063 | 5.7269 | 14.57 ||\n",
      "val: {'recall': 0.996072, 'recall_grapheme': 0.994879, 'recall_vowel': 0.998499, 'recall_consonant': 0.996029, 'recall_word': 0.995496, 'acc_grapheme': 0.995369, 'acc_vowel': 0.998431, 'acc_consonant': 0.998506, 'acc_word': 0.995543, 'loss_grapheme': 0.019958, 'loss_vowel': 0.009022, 'loss_consonant': 0.00636, 'loss_word': 0.01997}\n",
      "   28 | 0.000037 | 105856/160678 | 0.2673 | 5.9008 | 9.62 ||"
     ]
    },
    {
     "ename": "KeyboardInterrupt",
     "evalue": "",
     "output_type": "error",
     "traceback": [
      "\u001b[0;31m---------------------------------------------------------------------------\u001b[0m",
      "\u001b[0;31mKeyboardInterrupt\u001b[0m                         Traceback (most recent call last)",
      "\u001b[0;32m<ipython-input-37-aad596905035>\u001b[0m in \u001b[0;36m<module>\u001b[0;34m\u001b[0m\n\u001b[0;32m----> 1\u001b[0;31m \u001b[0mtrain\u001b[0m\u001b[0;34m(\u001b[0m\u001b[0margs\u001b[0m\u001b[0;34m)\u001b[0m\u001b[0;34m\u001b[0m\u001b[0;34m\u001b[0m\u001b[0m\n\u001b[0m",
      "\u001b[0;32m<ipython-input-32-ebf6e9a7b296>\u001b[0m in \u001b[0;36mtrain\u001b[0;34m(args)\u001b[0m\n\u001b[1;32m     63\u001b[0m         \u001b[0;32mfor\u001b[0m \u001b[0mepoch\u001b[0m \u001b[0;32min\u001b[0m \u001b[0mrange\u001b[0m\u001b[0;34m(\u001b[0m\u001b[0margs\u001b[0m\u001b[0;34m.\u001b[0m\u001b[0mnum_epochs\u001b[0m\u001b[0;34m)\u001b[0m\u001b[0;34m:\u001b[0m\u001b[0;34m\u001b[0m\u001b[0;34m\u001b[0m\u001b[0m\n\u001b[1;32m     64\u001b[0m             \u001b[0mgrid\u001b[0m\u001b[0;34m.\u001b[0m\u001b[0mset_prob\u001b[0m\u001b[0;34m(\u001b[0m\u001b[0mepoch\u001b[0m\u001b[0;34m,\u001b[0m \u001b[0margs\u001b[0m\u001b[0;34m.\u001b[0m\u001b[0mst_epochs\u001b[0m\u001b[0;34m)\u001b[0m\u001b[0;34m\u001b[0m\u001b[0;34m\u001b[0m\u001b[0m\n\u001b[0;32m---> 65\u001b[0;31m             \u001b[0mtrain_epoch\u001b[0m\u001b[0;34m(\u001b[0m\u001b[0margs\u001b[0m\u001b[0;34m,\u001b[0m \u001b[0mmodel\u001b[0m\u001b[0;34m,\u001b[0m \u001b[0mtrain_loader\u001b[0m\u001b[0;34m,\u001b[0m \u001b[0mepoch\u001b[0m\u001b[0;34m,\u001b[0m \u001b[0moptimizer\u001b[0m\u001b[0;34m,\u001b[0m \u001b[0mlr_scheduler\u001b[0m\u001b[0;34m,\u001b[0m \u001b[0mgrid\u001b[0m\u001b[0;34m)\u001b[0m\u001b[0;34m\u001b[0m\u001b[0;34m\u001b[0m\u001b[0m\n\u001b[0m\u001b[1;32m     66\u001b[0m             \u001b[0mvalidate_and_save\u001b[0m\u001b[0;34m(\u001b[0m\u001b[0mmodel\u001b[0m\u001b[0;34m,\u001b[0m \u001b[0mmodel_file\u001b[0m\u001b[0;34m,\u001b[0m \u001b[0mval_loader\u001b[0m\u001b[0;34m,\u001b[0m \u001b[0msave\u001b[0m\u001b[0;34m=\u001b[0m\u001b[0;32mTrue\u001b[0m\u001b[0;34m)\u001b[0m\u001b[0;34m\u001b[0m\u001b[0;34m\u001b[0m\u001b[0m\n\u001b[1;32m     67\u001b[0m \u001b[0;34m\u001b[0m\u001b[0m\n",
      "\u001b[0;32m<ipython-input-31-16e5a4d95497>\u001b[0m in \u001b[0;36mtrain_epoch\u001b[0;34m(args, model, train_loader, epoch, optimizer, lr_scheduler, grid)\u001b[0m\n\u001b[1;32m     45\u001b[0m         \u001b[0moptimizer\u001b[0m\u001b[0;34m.\u001b[0m\u001b[0mzero_grad\u001b[0m\u001b[0;34m(\u001b[0m\u001b[0;34m)\u001b[0m\u001b[0;34m\u001b[0m\u001b[0;34m\u001b[0m\u001b[0m\n\u001b[1;32m     46\u001b[0m         \u001b[0;32mwith\u001b[0m \u001b[0mamp\u001b[0m\u001b[0;34m.\u001b[0m\u001b[0mscale_loss\u001b[0m\u001b[0;34m(\u001b[0m\u001b[0mloss\u001b[0m\u001b[0;34m,\u001b[0m \u001b[0moptimizer\u001b[0m\u001b[0;34m)\u001b[0m \u001b[0;32mas\u001b[0m \u001b[0mscaled_loss\u001b[0m\u001b[0;34m:\u001b[0m\u001b[0;34m\u001b[0m\u001b[0;34m\u001b[0m\u001b[0m\n\u001b[0;32m---> 47\u001b[0;31m             \u001b[0mscaled_loss\u001b[0m\u001b[0;34m.\u001b[0m\u001b[0mbackward\u001b[0m\u001b[0;34m(\u001b[0m\u001b[0;34m)\u001b[0m\u001b[0;34m\u001b[0m\u001b[0;34m\u001b[0m\u001b[0m\n\u001b[0m\u001b[1;32m     48\u001b[0m         \u001b[0;31m#loss.backward()\u001b[0m\u001b[0;34m\u001b[0m\u001b[0;34m\u001b[0m\u001b[0;34m\u001b[0m\u001b[0m\n\u001b[1;32m     49\u001b[0m         \u001b[0mlr_scheduler\u001b[0m\u001b[0;34m(\u001b[0m\u001b[0moptimizer\u001b[0m\u001b[0;34m,\u001b[0m \u001b[0mbatch_idx\u001b[0m\u001b[0;34m,\u001b[0m \u001b[0mepoch\u001b[0m\u001b[0;34m)\u001b[0m\u001b[0;34m\u001b[0m\u001b[0;34m\u001b[0m\u001b[0m\n",
      "\u001b[0;32m~/anaconda3/lib/python3.7/contextlib.py\u001b[0m in \u001b[0;36m__exit__\u001b[0;34m(self, type, value, traceback)\u001b[0m\n\u001b[1;32m    117\u001b[0m         \u001b[0;32mif\u001b[0m \u001b[0mtype\u001b[0m \u001b[0;32mis\u001b[0m \u001b[0;32mNone\u001b[0m\u001b[0;34m:\u001b[0m\u001b[0;34m\u001b[0m\u001b[0;34m\u001b[0m\u001b[0m\n\u001b[1;32m    118\u001b[0m             \u001b[0;32mtry\u001b[0m\u001b[0;34m:\u001b[0m\u001b[0;34m\u001b[0m\u001b[0;34m\u001b[0m\u001b[0m\n\u001b[0;32m--> 119\u001b[0;31m                 \u001b[0mnext\u001b[0m\u001b[0;34m(\u001b[0m\u001b[0mself\u001b[0m\u001b[0;34m.\u001b[0m\u001b[0mgen\u001b[0m\u001b[0;34m)\u001b[0m\u001b[0;34m\u001b[0m\u001b[0;34m\u001b[0m\u001b[0m\n\u001b[0m\u001b[1;32m    120\u001b[0m             \u001b[0;32mexcept\u001b[0m \u001b[0mStopIteration\u001b[0m\u001b[0;34m:\u001b[0m\u001b[0;34m\u001b[0m\u001b[0;34m\u001b[0m\u001b[0m\n\u001b[1;32m    121\u001b[0m                 \u001b[0;32mreturn\u001b[0m \u001b[0;32mFalse\u001b[0m\u001b[0;34m\u001b[0m\u001b[0;34m\u001b[0m\u001b[0m\n",
      "\u001b[0;32m~/anaconda3/lib/python3.7/site-packages/apex/amp/handle.py\u001b[0m in \u001b[0;36mscale_loss\u001b[0;34m(loss, optimizers, loss_id, model, delay_unscale, delay_overflow_check)\u001b[0m\n\u001b[1;32m    125\u001b[0m             \u001b[0;31m# For future fused optimizers that enable sync-free dynamic loss scaling,\u001b[0m\u001b[0;34m\u001b[0m\u001b[0;34m\u001b[0m\u001b[0;34m\u001b[0m\u001b[0m\n\u001b[1;32m    126\u001b[0m             \u001b[0;31m# should_skip will always be False.\u001b[0m\u001b[0;34m\u001b[0m\u001b[0;34m\u001b[0m\u001b[0;34m\u001b[0m\u001b[0m\n\u001b[0;32m--> 127\u001b[0;31m             \u001b[0mshould_skip\u001b[0m \u001b[0;34m=\u001b[0m \u001b[0;32mFalse\u001b[0m \u001b[0;32mif\u001b[0m \u001b[0mdelay_overflow_check\u001b[0m \u001b[0;32melse\u001b[0m \u001b[0mloss_scaler\u001b[0m\u001b[0;34m.\u001b[0m\u001b[0mupdate_scale\u001b[0m\u001b[0;34m(\u001b[0m\u001b[0;34m)\u001b[0m\u001b[0;34m\u001b[0m\u001b[0;34m\u001b[0m\u001b[0m\n\u001b[0m\u001b[1;32m    128\u001b[0m             \u001b[0;32mif\u001b[0m \u001b[0mshould_skip\u001b[0m\u001b[0;34m:\u001b[0m\u001b[0;34m\u001b[0m\u001b[0;34m\u001b[0m\u001b[0m\n\u001b[1;32m    129\u001b[0m                 \u001b[0;32mfor\u001b[0m \u001b[0moptimizer\u001b[0m \u001b[0;32min\u001b[0m \u001b[0moptimizers\u001b[0m\u001b[0;34m:\u001b[0m\u001b[0;34m\u001b[0m\u001b[0;34m\u001b[0m\u001b[0m\n",
      "\u001b[0;32m~/anaconda3/lib/python3.7/site-packages/apex/amp/scaler.py\u001b[0m in \u001b[0;36mupdate_scale\u001b[0;34m(self)\u001b[0m\n\u001b[1;32m    198\u001b[0m         \u001b[0;31m# If the fused kernel is available, we only need one D2H memcopy and sync.\u001b[0m\u001b[0;34m\u001b[0m\u001b[0;34m\u001b[0m\u001b[0;34m\u001b[0m\u001b[0m\n\u001b[1;32m    199\u001b[0m         \u001b[0;32mif\u001b[0m \u001b[0mLossScaler\u001b[0m\u001b[0;34m.\u001b[0m\u001b[0mhas_fused_kernel\u001b[0m \u001b[0;32mand\u001b[0m \u001b[0mself\u001b[0m\u001b[0;34m.\u001b[0m\u001b[0mdynamic\u001b[0m \u001b[0;32mand\u001b[0m \u001b[0;32mnot\u001b[0m \u001b[0mself\u001b[0m\u001b[0;34m.\u001b[0m\u001b[0m_has_overflow\u001b[0m\u001b[0;34m:\u001b[0m\u001b[0;34m\u001b[0m\u001b[0;34m\u001b[0m\u001b[0m\n\u001b[0;32m--> 200\u001b[0;31m             \u001b[0mself\u001b[0m\u001b[0;34m.\u001b[0m\u001b[0m_has_overflow\u001b[0m \u001b[0;34m=\u001b[0m \u001b[0mself\u001b[0m\u001b[0;34m.\u001b[0m\u001b[0m_overflow_buf\u001b[0m\u001b[0;34m.\u001b[0m\u001b[0mitem\u001b[0m\u001b[0;34m(\u001b[0m\u001b[0;34m)\u001b[0m\u001b[0;34m\u001b[0m\u001b[0;34m\u001b[0m\u001b[0m\n\u001b[0m\u001b[1;32m    201\u001b[0m \u001b[0;34m\u001b[0m\u001b[0m\n\u001b[1;32m    202\u001b[0m         \u001b[0;32mif\u001b[0m \u001b[0mself\u001b[0m\u001b[0;34m.\u001b[0m\u001b[0m_has_overflow\u001b[0m \u001b[0;32mand\u001b[0m \u001b[0mself\u001b[0m\u001b[0;34m.\u001b[0m\u001b[0mdynamic\u001b[0m\u001b[0;34m:\u001b[0m\u001b[0;34m\u001b[0m\u001b[0;34m\u001b[0m\u001b[0m\n",
      "\u001b[0;31mKeyboardInterrupt\u001b[0m: "
     ]
    }
   ],
   "source": [
    "train(args)"
   ]
  },
  {
   "cell_type": "code",
   "execution_count": null,
   "metadata": {},
   "outputs": [],
   "source": []
  },
  {
   "cell_type": "code",
   "execution_count": 37,
   "metadata": {},
   "outputs": [
    {
     "name": "stdout",
     "output_type": "stream",
     "text": [
      "model file: ./model4-ckps/tf_efficientnet_b4/model4_eb4_fold3_380.pth, exist: True\n",
      "loading ./model4-ckps/tf_efficientnet_b4/model4_eb4_fold3_380.pth...\n",
      "model file: ./model4-ckps/tf_efficientnet_b4/model4_eb4_fold3_380.pth_swa, exist: False\n",
      "\n",
      "val: {'recall': 0.796988, 'recall_grapheme': 0.763845, 'recall_vowel': 0.863414, 'recall_consonant': 0.796848, 'recall_word': 0.762264, 'acc_grapheme': 0.493819, 'acc_vowel': 0.788904, 'acc_consonant': 0.767645, 'acc_word': 0.316245, 'loss_grapheme': 1.992506, 'loss_vowel': 0.626105, 'loss_consonant': 0.522644, 'loss_word': 3.290409}\n",
      "CYCLE: 1\n"
     ]
    },
    {
     "name": "stderr",
     "output_type": "stream",
     "text": [
      "/home/chec/anaconda3/lib/python3.7/site-packages/sklearn/metrics/classification.py:1439: UndefinedMetricWarning: Recall is ill-defined and being set to 0.0 in labels with no true samples.\n",
      "  'recall', 'true', average, warn_for)\n"
     ]
    },
    {
     "name": "stdout",
     "output_type": "stream",
     "text": [
      "    0 | 0.000292 | 160640/160716 | 6.7174 | 10.7151 | 13.99 ||\n",
      "val: {'recall': 0.992886, 'recall_grapheme': 0.989107, 'recall_vowel': 0.996141, 'recall_consonant': 0.997187, 'recall_word': 0.9882, 'acc_grapheme': 0.989607, 'acc_vowel': 0.996087, 'acc_consonant': 0.996087, 'acc_word': 0.988212, 'loss_grapheme': 0.129831, 'loss_vowel': 0.068911, 'loss_consonant': 0.05198, 'loss_word': 0.144907}\n",
      "###>>>>> saved ./model4-ckps/tf_efficientnet_b4/model4_eb4_fold3_380.pth\n",
      "    1 | 0.000543 | 160640/160716 | 7.1504 | 7.3232 | 14.15 ||\n",
      "val: {'recall': 0.992768, 'recall_grapheme': 0.989784, 'recall_vowel': 0.995191, 'recall_consonant': 0.996311, 'recall_word': 0.989335, 'acc_grapheme': 0.99018, 'acc_vowel': 0.995364, 'acc_consonant': 0.995464, 'acc_word': 0.988884, 'loss_grapheme': 0.069323, 'loss_vowel': 0.043396, 'loss_consonant': 0.0354, 'loss_word': 0.072684}\n",
      "    2 | 0.000476 | 160640/160716 | 16.1799 | 6.6101 | 14.24 |\n",
      "val: {'recall': 0.994403, 'recall_grapheme': 0.992025, 'recall_vowel': 0.996674, 'recall_consonant': 0.996886, 'recall_word': 0.992539, 'acc_grapheme': 0.992498, 'acc_vowel': 0.996486, 'acc_consonant': 0.99686, 'acc_word': 0.992299, 'loss_grapheme': 0.043576, 'loss_vowel': 0.027332, 'loss_consonant': 0.023003, 'loss_word': 0.041019}\n",
      "###>>>>> saved ./model4-ckps/tf_efficientnet_b4/model4_eb4_fold3_380.pth\n",
      "    3 | 0.000393 | 160640/160716 | 0.9650 | 6.9003 | 14.31 ||\n",
      "val: {'recall': 0.995804, 'recall_grapheme': 0.993698, 'recall_vowel': 0.997668, 'recall_consonant': 0.998151, 'recall_word': 0.993684, 'acc_grapheme': 0.993869, 'acc_vowel': 0.997308, 'acc_consonant': 0.997857, 'acc_word': 0.993645, 'loss_grapheme': 0.036312, 'loss_vowel': 0.018685, 'loss_consonant': 0.015354, 'loss_word': 0.03357}\n",
      "###>>>>> saved ./model4-ckps/tf_efficientnet_b4/model4_eb4_fold3_380.pth\n",
      "    4 | 0.000300 | 160640/160716 | 0.7891 | 6.5326 | 14.39 ||\n",
      "val: {'recall': 0.99667, 'recall_grapheme': 0.995389, 'recall_vowel': 0.997441, 'recall_consonant': 0.99846, 'recall_word': 0.994988, 'acc_grapheme': 0.99529, 'acc_vowel': 0.997732, 'acc_consonant': 0.99828, 'acc_word': 0.994966, 'loss_grapheme': 0.02539, 'loss_vowel': 0.014059, 'loss_consonant': 0.00927, 'loss_word': 0.024518}\n",
      "###>>>>> saved ./model4-ckps/tf_efficientnet_b4/model4_eb4_fold3_380.pth\n",
      "    5 | 0.000207 | 160640/160716 | 4.0624 | 6.0675 | 14.53 ||\n",
      "val: {'recall': 0.997223, 'recall_grapheme': 0.995809, 'recall_vowel': 0.998285, 'recall_consonant': 0.998987, 'recall_word': 0.995372, 'acc_grapheme': 0.995763, 'acc_vowel': 0.998081, 'acc_consonant': 0.998804, 'acc_word': 0.995364, 'loss_grapheme': 0.026658, 'loss_vowel': 0.016551, 'loss_consonant': 0.0111, 'loss_word': 0.024834}\n",
      "###>>>>> saved ./model4-ckps/tf_efficientnet_b4/model4_eb4_fold3_380.pth\n",
      "    6 | 0.000124 | 160640/160716 | 0.2344 | 6.0926 | 14.55 ||\n",
      "val: {'recall': 0.997462, 'recall_grapheme': 0.996485, 'recall_vowel': 0.997904, 'recall_consonant': 0.998974, 'recall_word': 0.995902, 'acc_grapheme': 0.996411, 'acc_vowel': 0.997931, 'acc_consonant': 0.998953, 'acc_word': 0.995913, 'loss_grapheme': 0.017905, 'loss_vowel': 0.010713, 'loss_consonant': 0.006275, 'loss_word': 0.018051}\n",
      "###>>>>> saved ./model4-ckps/tf_efficientnet_b4/model4_eb4_fold3_380.pth\n",
      "    7 | 0.000057 | 160640/160716 | 4.9114 | 5.7432 | 14.61 ||\n",
      "val: {'recall': 0.997225, 'recall_grapheme': 0.99577, 'recall_vowel': 0.998459, 'recall_consonant': 0.998899, 'recall_word': 0.995639, 'acc_grapheme': 0.995987, 'acc_vowel': 0.998255, 'acc_consonant': 0.998854, 'acc_word': 0.995614, 'loss_grapheme': 0.01913, 'loss_vowel': 0.010592, 'loss_consonant': 0.006204, 'loss_word': 0.020083}\n",
      "    8 | 0.000015 | 160640/160716 | 0.1540 | 5.8037 | 14.59 ||\n",
      "val: {'recall': 0.997597, 'recall_grapheme': 0.996428, 'recall_vowel': 0.998394, 'recall_consonant': 0.999137, 'recall_word': 0.996368, 'acc_grapheme': 0.996735, 'acc_vowel': 0.99843, 'acc_consonant': 0.998953, 'acc_word': 0.996361, 'loss_grapheme': 0.018075, 'loss_vowel': 0.010609, 'loss_consonant': 0.006052, 'loss_word': 0.017806}\n",
      "###>>>>> saved ./model4-ckps/tf_efficientnet_b4/model4_eb4_fold3_380.pth\n",
      "    9 | 0.000000 | 160640/160716 | 5.9176 | 5.2732 | 14.64 ||\n",
      "val: {'recall': 0.997146, 'recall_grapheme': 0.995898, 'recall_vowel': 0.998289, 'recall_consonant': 0.998501, 'recall_word': 0.995932, 'acc_grapheme': 0.996237, 'acc_vowel': 0.99823, 'acc_consonant': 0.998804, 'acc_word': 0.995938, 'loss_grapheme': 0.019165, 'loss_vowel': 0.010365, 'loss_consonant': 0.006386, 'loss_word': 0.019683}\n",
      "CYCLE: 2\n",
      "    0 | 0.000001 | 001152/160716 | 6.0654 | 4.3986 | 0.14 ||"
     ]
    },
    {
     "ename": "KeyboardInterrupt",
     "evalue": "",
     "output_type": "error",
     "traceback": [
      "\u001b[0;31m---------------------------------------------------------------------------\u001b[0m",
      "\u001b[0;31mKeyboardInterrupt\u001b[0m                         Traceback (most recent call last)",
      "\u001b[0;32m<ipython-input-37-aad596905035>\u001b[0m in \u001b[0;36m<module>\u001b[0;34m\u001b[0m\n\u001b[0;32m----> 1\u001b[0;31m \u001b[0mtrain\u001b[0m\u001b[0;34m(\u001b[0m\u001b[0margs\u001b[0m\u001b[0;34m)\u001b[0m\u001b[0;34m\u001b[0m\u001b[0;34m\u001b[0m\u001b[0m\n\u001b[0m",
      "\u001b[0;32m<ipython-input-32-f9be614ddf4d>\u001b[0m in \u001b[0;36mtrain\u001b[0;34m(args)\u001b[0m\n\u001b[1;32m     63\u001b[0m         \u001b[0;32mfor\u001b[0m \u001b[0mepoch\u001b[0m \u001b[0;32min\u001b[0m \u001b[0mrange\u001b[0m\u001b[0;34m(\u001b[0m\u001b[0margs\u001b[0m\u001b[0;34m.\u001b[0m\u001b[0mnum_epochs\u001b[0m\u001b[0;34m)\u001b[0m\u001b[0;34m:\u001b[0m\u001b[0;34m\u001b[0m\u001b[0;34m\u001b[0m\u001b[0m\n\u001b[1;32m     64\u001b[0m             \u001b[0mgrid\u001b[0m\u001b[0;34m.\u001b[0m\u001b[0mset_prob\u001b[0m\u001b[0;34m(\u001b[0m\u001b[0mepoch\u001b[0m\u001b[0;34m,\u001b[0m \u001b[0margs\u001b[0m\u001b[0;34m.\u001b[0m\u001b[0mst_epochs\u001b[0m\u001b[0;34m)\u001b[0m\u001b[0;34m\u001b[0m\u001b[0;34m\u001b[0m\u001b[0m\n\u001b[0;32m---> 65\u001b[0;31m             \u001b[0mtrain_epoch\u001b[0m\u001b[0;34m(\u001b[0m\u001b[0margs\u001b[0m\u001b[0;34m,\u001b[0m \u001b[0mmodel\u001b[0m\u001b[0;34m,\u001b[0m \u001b[0mtrain_loader\u001b[0m\u001b[0;34m,\u001b[0m \u001b[0mepoch\u001b[0m\u001b[0;34m,\u001b[0m \u001b[0moptimizer\u001b[0m\u001b[0;34m,\u001b[0m \u001b[0mlr_scheduler\u001b[0m\u001b[0;34m,\u001b[0m \u001b[0mgrid\u001b[0m\u001b[0;34m)\u001b[0m\u001b[0;34m\u001b[0m\u001b[0;34m\u001b[0m\u001b[0m\n\u001b[0m\u001b[1;32m     66\u001b[0m             \u001b[0mvalidate_and_save\u001b[0m\u001b[0;34m(\u001b[0m\u001b[0mmodel\u001b[0m\u001b[0;34m,\u001b[0m \u001b[0mmodel_file\u001b[0m\u001b[0;34m,\u001b[0m \u001b[0mval_loader\u001b[0m\u001b[0;34m,\u001b[0m \u001b[0msave\u001b[0m\u001b[0;34m=\u001b[0m\u001b[0;32mTrue\u001b[0m\u001b[0;34m)\u001b[0m\u001b[0;34m\u001b[0m\u001b[0;34m\u001b[0m\u001b[0m\n\u001b[1;32m     67\u001b[0m \u001b[0;34m\u001b[0m\u001b[0m\n",
      "\u001b[0;32m<ipython-input-31-16e5a4d95497>\u001b[0m in \u001b[0;36mtrain_epoch\u001b[0;34m(args, model, train_loader, epoch, optimizer, lr_scheduler, grid)\u001b[0m\n\u001b[1;32m     45\u001b[0m         \u001b[0moptimizer\u001b[0m\u001b[0;34m.\u001b[0m\u001b[0mzero_grad\u001b[0m\u001b[0;34m(\u001b[0m\u001b[0;34m)\u001b[0m\u001b[0;34m\u001b[0m\u001b[0;34m\u001b[0m\u001b[0m\n\u001b[1;32m     46\u001b[0m         \u001b[0;32mwith\u001b[0m \u001b[0mamp\u001b[0m\u001b[0;34m.\u001b[0m\u001b[0mscale_loss\u001b[0m\u001b[0;34m(\u001b[0m\u001b[0mloss\u001b[0m\u001b[0;34m,\u001b[0m \u001b[0moptimizer\u001b[0m\u001b[0;34m)\u001b[0m \u001b[0;32mas\u001b[0m \u001b[0mscaled_loss\u001b[0m\u001b[0;34m:\u001b[0m\u001b[0;34m\u001b[0m\u001b[0;34m\u001b[0m\u001b[0m\n\u001b[0;32m---> 47\u001b[0;31m             \u001b[0mscaled_loss\u001b[0m\u001b[0;34m.\u001b[0m\u001b[0mbackward\u001b[0m\u001b[0;34m(\u001b[0m\u001b[0;34m)\u001b[0m\u001b[0;34m\u001b[0m\u001b[0;34m\u001b[0m\u001b[0m\n\u001b[0m\u001b[1;32m     48\u001b[0m         \u001b[0;31m#loss.backward()\u001b[0m\u001b[0;34m\u001b[0m\u001b[0;34m\u001b[0m\u001b[0;34m\u001b[0m\u001b[0m\n\u001b[1;32m     49\u001b[0m         \u001b[0mlr_scheduler\u001b[0m\u001b[0;34m(\u001b[0m\u001b[0moptimizer\u001b[0m\u001b[0;34m,\u001b[0m \u001b[0mbatch_idx\u001b[0m\u001b[0;34m,\u001b[0m \u001b[0mepoch\u001b[0m\u001b[0;34m)\u001b[0m\u001b[0;34m\u001b[0m\u001b[0;34m\u001b[0m\u001b[0m\n",
      "\u001b[0;32m~/anaconda3/lib/python3.7/site-packages/torch/tensor.py\u001b[0m in \u001b[0;36mbackward\u001b[0;34m(self, gradient, retain_graph, create_graph)\u001b[0m\n\u001b[1;32m    116\u001b[0m                 \u001b[0mproducts\u001b[0m\u001b[0;34m.\u001b[0m \u001b[0mDefaults\u001b[0m \u001b[0mto\u001b[0m\u001b[0;31m \u001b[0m\u001b[0;31m`\u001b[0m\u001b[0;31m`\u001b[0m\u001b[0;32mFalse\u001b[0m\u001b[0;31m`\u001b[0m\u001b[0;31m`\u001b[0m\u001b[0;34m.\u001b[0m\u001b[0;34m\u001b[0m\u001b[0;34m\u001b[0m\u001b[0m\n\u001b[1;32m    117\u001b[0m         \"\"\"\n\u001b[0;32m--> 118\u001b[0;31m         \u001b[0mtorch\u001b[0m\u001b[0;34m.\u001b[0m\u001b[0mautograd\u001b[0m\u001b[0;34m.\u001b[0m\u001b[0mbackward\u001b[0m\u001b[0;34m(\u001b[0m\u001b[0mself\u001b[0m\u001b[0;34m,\u001b[0m \u001b[0mgradient\u001b[0m\u001b[0;34m,\u001b[0m \u001b[0mretain_graph\u001b[0m\u001b[0;34m,\u001b[0m \u001b[0mcreate_graph\u001b[0m\u001b[0;34m)\u001b[0m\u001b[0;34m\u001b[0m\u001b[0;34m\u001b[0m\u001b[0m\n\u001b[0m\u001b[1;32m    119\u001b[0m \u001b[0;34m\u001b[0m\u001b[0m\n\u001b[1;32m    120\u001b[0m     \u001b[0;32mdef\u001b[0m \u001b[0mregister_hook\u001b[0m\u001b[0;34m(\u001b[0m\u001b[0mself\u001b[0m\u001b[0;34m,\u001b[0m \u001b[0mhook\u001b[0m\u001b[0;34m)\u001b[0m\u001b[0;34m:\u001b[0m\u001b[0;34m\u001b[0m\u001b[0;34m\u001b[0m\u001b[0m\n",
      "\u001b[0;32m~/anaconda3/lib/python3.7/site-packages/torch/autograd/__init__.py\u001b[0m in \u001b[0;36mbackward\u001b[0;34m(tensors, grad_tensors, retain_graph, create_graph, grad_variables)\u001b[0m\n\u001b[1;32m     91\u001b[0m     Variable._execution_engine.run_backward(\n\u001b[1;32m     92\u001b[0m         \u001b[0mtensors\u001b[0m\u001b[0;34m,\u001b[0m \u001b[0mgrad_tensors\u001b[0m\u001b[0;34m,\u001b[0m \u001b[0mretain_graph\u001b[0m\u001b[0;34m,\u001b[0m \u001b[0mcreate_graph\u001b[0m\u001b[0;34m,\u001b[0m\u001b[0;34m\u001b[0m\u001b[0;34m\u001b[0m\u001b[0m\n\u001b[0;32m---> 93\u001b[0;31m         allow_unreachable=True)  # allow_unreachable flag\n\u001b[0m\u001b[1;32m     94\u001b[0m \u001b[0;34m\u001b[0m\u001b[0m\n\u001b[1;32m     95\u001b[0m \u001b[0;34m\u001b[0m\u001b[0m\n",
      "\u001b[0;31mKeyboardInterrupt\u001b[0m: "
     ]
    }
   ],
   "source": [
    "train(args)"
   ]
  },
  {
   "cell_type": "code",
   "execution_count": 44,
   "metadata": {},
   "outputs": [
    {
     "data": {
      "text/plain": [
       "1582104595.1300395"
      ]
     },
     "execution_count": 44,
     "metadata": {},
     "output_type": "execute_result"
    }
   ],
   "source": [
    "time.time()"
   ]
  },
  {
   "cell_type": "code",
   "execution_count": null,
   "metadata": {},
   "outputs": [],
   "source": []
  },
  {
   "cell_type": "code",
   "execution_count": null,
   "metadata": {},
   "outputs": [],
   "source": []
  },
  {
   "cell_type": "code",
   "execution_count": null,
   "metadata": {},
   "outputs": [],
   "source": []
  },
  {
   "cell_type": "code",
   "execution_count": null,
   "metadata": {},
   "outputs": [],
   "source": []
  },
  {
   "cell_type": "code",
   "execution_count": null,
   "metadata": {},
   "outputs": [],
   "source": []
  },
  {
   "cell_type": "code",
   "execution_count": null,
   "metadata": {},
   "outputs": [],
   "source": [
    "#save_model(model, model_file)"
   ]
  },
  {
   "cell_type": "code",
   "execution_count": null,
   "metadata": {},
   "outputs": [],
   "source": [
    "del model"
   ]
  },
  {
   "cell_type": "code",
   "execution_count": null,
   "metadata": {},
   "outputs": [],
   "source": []
  },
  {
   "cell_type": "code",
   "execution_count": null,
   "metadata": {},
   "outputs": [],
   "source": []
  }
 ],
 "metadata": {
  "kernelspec": {
   "display_name": "Python 3",
   "language": "python",
   "name": "python3"
  },
  "language_info": {
   "codemirror_mode": {
    "name": "ipython",
    "version": 3
   },
   "file_extension": ".py",
   "mimetype": "text/x-python",
   "name": "python",
   "nbconvert_exporter": "python",
   "pygments_lexer": "ipython3",
   "version": "3.7.3"
  }
 },
 "nbformat": 4,
 "nbformat_minor": 2
}
