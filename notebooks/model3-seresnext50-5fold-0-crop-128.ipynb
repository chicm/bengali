{
 "cells": [
  {
   "cell_type": "code",
   "execution_count": 1,
   "metadata": {},
   "outputs": [],
   "source": [
    "import os\n",
    "import pandas as pd\n",
    "import numpy as np\n",
    "import time, gc\n",
    "import cv2\n",
    "import matplotlib.pyplot as plt\n",
    "import torch\n",
    "import torch.nn as nn\n",
    "import torch.nn.functional as F\n",
    "import torch.optim as optim\n",
    "import pretrainedmodels\n",
    "from argparse import Namespace\n",
    "from sklearn.utils import shuffle\n",
    "from apex import amp\n",
    "from sklearn.model_selection import StratifiedKFold\n",
    "from efficientnet_pytorch import EfficientNet"
   ]
  },
  {
   "cell_type": "code",
   "execution_count": 2,
   "metadata": {},
   "outputs": [
    {
     "name": "stdout",
     "output_type": "stream",
     "text": [
      "class_map.csv\t\t       train.csv\r\n",
      "sample_submission.csv\t       train.csv.zip\r\n",
      "test.csv\t\t       train_image_data_0.parquet\r\n",
      "test_image_data_0.parquet      train_image_data_0.parquet.zip\r\n",
      "test_image_data_0.parquet.zip  train_image_data_1.parquet\r\n",
      "test_image_data_1.parquet      train_image_data_1.parquet.zip\r\n",
      "test_image_data_1.parquet.zip  train_image_data_2.parquet\r\n",
      "test_image_data_2.parquet      train_image_data_2.parquet.zip\r\n",
      "test_image_data_2.parquet.zip  train_image_data_3.parquet\r\n",
      "test_image_data_3.parquet      train_image_data_3.parquet.zip\r\n",
      "test_image_data_3.parquet.zip\r\n"
     ]
    }
   ],
   "source": [
    "!ls /home/chec/data/bengali"
   ]
  },
  {
   "cell_type": "code",
   "execution_count": 3,
   "metadata": {},
   "outputs": [],
   "source": [
    "#!ls /home/chec/data/bengali"
   ]
  },
  {
   "cell_type": "code",
   "execution_count": 4,
   "metadata": {},
   "outputs": [],
   "source": [
    "DATA_DIR = '/home/chec/data/bengali'"
   ]
  },
  {
   "cell_type": "code",
   "execution_count": 5,
   "metadata": {},
   "outputs": [],
   "source": [
    "train_df = pd.read_csv(f'{DATA_DIR}/train.csv')\n",
    "test_df = pd.read_csv(f'{DATA_DIR}/test.csv')\n",
    "class_map_df = pd.read_csv(f'{DATA_DIR}/class_map.csv')\n",
    "sample_sub_df = pd.read_csv(f'{DATA_DIR}/sample_submission.csv')"
   ]
  },
  {
   "cell_type": "code",
   "execution_count": 6,
   "metadata": {},
   "outputs": [
    {
     "data": {
      "text/html": [
       "<div>\n",
       "<style scoped>\n",
       "    .dataframe tbody tr th:only-of-type {\n",
       "        vertical-align: middle;\n",
       "    }\n",
       "\n",
       "    .dataframe tbody tr th {\n",
       "        vertical-align: top;\n",
       "    }\n",
       "\n",
       "    .dataframe thead th {\n",
       "        text-align: right;\n",
       "    }\n",
       "</style>\n",
       "<table border=\"1\" class=\"dataframe\">\n",
       "  <thead>\n",
       "    <tr style=\"text-align: right;\">\n",
       "      <th></th>\n",
       "      <th>image_id</th>\n",
       "      <th>grapheme_root</th>\n",
       "      <th>vowel_diacritic</th>\n",
       "      <th>consonant_diacritic</th>\n",
       "      <th>grapheme</th>\n",
       "    </tr>\n",
       "  </thead>\n",
       "  <tbody>\n",
       "    <tr>\n",
       "      <th>0</th>\n",
       "      <td>Train_0</td>\n",
       "      <td>15</td>\n",
       "      <td>9</td>\n",
       "      <td>5</td>\n",
       "      <td>ক্ট্রো</td>\n",
       "    </tr>\n",
       "    <tr>\n",
       "      <th>1</th>\n",
       "      <td>Train_1</td>\n",
       "      <td>159</td>\n",
       "      <td>0</td>\n",
       "      <td>0</td>\n",
       "      <td>হ</td>\n",
       "    </tr>\n",
       "    <tr>\n",
       "      <th>2</th>\n",
       "      <td>Train_2</td>\n",
       "      <td>22</td>\n",
       "      <td>3</td>\n",
       "      <td>5</td>\n",
       "      <td>খ্রী</td>\n",
       "    </tr>\n",
       "    <tr>\n",
       "      <th>3</th>\n",
       "      <td>Train_3</td>\n",
       "      <td>53</td>\n",
       "      <td>2</td>\n",
       "      <td>2</td>\n",
       "      <td>র্টি</td>\n",
       "    </tr>\n",
       "    <tr>\n",
       "      <th>4</th>\n",
       "      <td>Train_4</td>\n",
       "      <td>71</td>\n",
       "      <td>9</td>\n",
       "      <td>5</td>\n",
       "      <td>থ্রো</td>\n",
       "    </tr>\n",
       "  </tbody>\n",
       "</table>\n",
       "</div>"
      ],
      "text/plain": [
       "  image_id  grapheme_root  vowel_diacritic  consonant_diacritic grapheme\n",
       "0  Train_0             15                9                    5   ক্ট্রো\n",
       "1  Train_1            159                0                    0        হ\n",
       "2  Train_2             22                3                    5     খ্রী\n",
       "3  Train_3             53                2                    2     র্টি\n",
       "4  Train_4             71                9                    5     থ্রো"
      ]
     },
     "execution_count": 6,
     "metadata": {},
     "output_type": "execute_result"
    }
   ],
   "source": [
    "train_df.head()"
   ]
  },
  {
   "cell_type": "code",
   "execution_count": 7,
   "metadata": {},
   "outputs": [],
   "source": [
    "HEIGHT = 137\n",
    "WIDTH = 236\n",
    "SIZE = 128"
   ]
  },
  {
   "cell_type": "code",
   "execution_count": 8,
   "metadata": {},
   "outputs": [],
   "source": [
    "def bbox(img):\n",
    "    rows = np.any(img, axis=1)\n",
    "    cols = np.any(img, axis=0)\n",
    "    rmin, rmax = np.where(rows)[0][[0, -1]]\n",
    "    cmin, cmax = np.where(cols)[0][[0, -1]]\n",
    "    return rmin, rmax, cmin, cmax\n",
    "\n",
    "def crop_resize(img0, size=SIZE, pad=16):\n",
    "    #crop a box around pixels large than the threshold \n",
    "    #some images contain line at the sides\n",
    "    ymin,ymax,xmin,xmax = bbox(img0[5:-5,5:-5] > 80)\n",
    "    #cropping may cut too much, so we need to add it back\n",
    "    xmin = xmin - 13 if (xmin > 13) else 0\n",
    "    ymin = ymin - 10 if (ymin > 10) else 0\n",
    "    xmax = xmax + 13 if (xmax < WIDTH - 13) else WIDTH\n",
    "    ymax = ymax + 10 if (ymax < HEIGHT - 10) else HEIGHT\n",
    "    img = img0[ymin:ymax,xmin:xmax]\n",
    "    #remove lo intensity pixels as noise\n",
    "    img[img < 28] = 0\n",
    "    lx, ly = xmax-xmin,ymax-ymin\n",
    "    l = max(lx,ly) + pad\n",
    "    #make sure that the aspect ratio is kept in rescaling\n",
    "    img = np.pad(img, [((l-ly)//2,), ((l-lx)//2,)], mode='constant')\n",
    "    return img\n",
    "    #return cv2.resize(img,(size,size))"
   ]
  },
  {
   "cell_type": "code",
   "execution_count": 9,
   "metadata": {},
   "outputs": [],
   "source": [
    "import albumentations as albu\n",
    "\n",
    "def get_train_augs(p=1.):\n",
    "    return albu.Compose([\n",
    "        #albu.HorizontalFlip(.5),\n",
    "        albu.ShiftScaleRotate(shift_limit=0.05, scale_limit=0.05, rotate_limit=10, p=0.5 ),\n",
    "        albu.Blur(blur_limit=3, p=0.3),\n",
    "        albu.OpticalDistortion(p=0.3),\n",
    "        albu.GaussNoise(p=0.3)\n",
    "        #albu.GridDistortion(p=.33),\n",
    "        #albu.HueSaturationValue(p=.33) # not for grey scale\n",
    "    ], p=p)"
   ]
  },
  {
   "cell_type": "code",
   "execution_count": 10,
   "metadata": {},
   "outputs": [],
   "source": [
    "#plt.imshow(x)"
   ]
  },
  {
   "cell_type": "code",
   "execution_count": 11,
   "metadata": {},
   "outputs": [],
   "source": [
    "from torch.utils.data import DataLoader, Dataset\n",
    "from torchvision import transforms\n",
    "\n",
    "\n",
    "class BengaliDataset(Dataset):\n",
    "    def __init__(self, df, img_df, train_mode=True, test_mode=False):\n",
    "        self.df = df\n",
    "        self.img_df = img_df\n",
    "        self.train_mode = train_mode\n",
    "        self.test_mode = test_mode\n",
    "\n",
    "    def __getitem__(self, idx):\n",
    "        row = self.df.iloc[idx]\n",
    "        img = self.get_img(row.image_id)\n",
    "        img = crop_resize(img, pad=0)\n",
    "        #print(img.shape)\n",
    "        if self.train_mode:\n",
    "            augs = get_train_augs()\n",
    "            img = augs(image=img)['image']\n",
    "        img  = cv2.resize(img, (SIZE, SIZE))\n",
    "        \n",
    "        img = np.expand_dims(img, axis=-1)\n",
    "        #print('###', img.shape)\n",
    "        img = np.concatenate([img, img, img], 2)\n",
    "        #print('>>>', img.shape)\n",
    "        \n",
    "        # taken from https://www.kaggle.com/iafoss/image-preprocessing-128x128\n",
    "        MEAN = [ 0.06922848809290576,  0.06922848809290576,  0.06922848809290576]\n",
    "        STD = [ 0.20515700083327537,  0.20515700083327537,  0.20515700083327537]\n",
    "        \n",
    "        img = transforms.functional.to_tensor(img)\n",
    "        img = transforms.functional.normalize(img, mean=MEAN, std=STD)\n",
    "        \n",
    "        if self.test_mode:\n",
    "            return img\n",
    "        else:\n",
    "            return img, torch.tensor([row.grapheme_root, row.vowel_diacritic, row.consonant_diacritic])\n",
    "\n",
    "    def get_img(self, img_id):\n",
    "        return 255 - self.img_df.loc[img_id].values.reshape(HEIGHT, WIDTH).astype(np.uint8)\n",
    "\n",
    "    def __len__(self):\n",
    "        return len(self.df)\n",
    "    \n",
    "def get_train_val_loaders(batch_size=4, val_batch_size=4, ifold=0, dev_mode=False):\n",
    "    train_df = pd.read_csv(f'{DATA_DIR}/train.csv')\n",
    "    train_df = shuffle(train_df, random_state=1234)\n",
    "    print(train_df.shape)\n",
    "\n",
    "    if dev_mode:\n",
    "        img_df = pd.read_parquet(f'{DATA_DIR}/train_image_data_0.parquet').set_index('image_id')\n",
    "        train_df = train_df.iloc[:1000]\n",
    "    else:\n",
    "        img_dfs = [pd.read_parquet(f'{DATA_DIR}/train_image_data_{i}.parquet') for i in range(4)]\n",
    "        img_df = pd.concat(img_dfs, axis=0).set_index('image_id')\n",
    "    print(img_df.shape)\n",
    "    #split_index = int(len(train_df) * 0.9)\n",
    "    \n",
    "    #train = train_df.iloc[:split_index]\n",
    "    #val = train_df.iloc[split_index:]\n",
    "    \n",
    "    kf = StratifiedKFold(5, random_state=1234, shuffle=True)\n",
    "    for i, (train_idx, val_idx) in enumerate(kf.split(train_df, train_df['grapheme_root'].values)):\n",
    "        if i == ifold:\n",
    "            #print(val_idx)\n",
    "            train = train_df.iloc[train_idx]\n",
    "            val = train_df.iloc[val_idx]\n",
    "            break\n",
    "    assert i == ifold\n",
    "    print(train.shape, val.shape)\n",
    "    \n",
    "    train_ds = BengaliDataset(train, img_df, True, False)\n",
    "    val_ds = BengaliDataset(val, img_df, False, False)\n",
    "    \n",
    "    train_loader = DataLoader(train_ds, batch_size=batch_size, shuffle=True, num_workers=8, drop_last=True)\n",
    "    train_loader.num = len(train_ds)\n",
    "\n",
    "    val_loader = DataLoader(val_ds, batch_size=val_batch_size, shuffle=False, num_workers=8, drop_last=False)\n",
    "    val_loader.num = len(val_ds)\n",
    "\n",
    "    return train_loader, val_loader"
   ]
  },
  {
   "cell_type": "code",
   "execution_count": 12,
   "metadata": {},
   "outputs": [],
   "source": [
    "#train_loader, val_loader = get_train_val_loaders(dev_mode=True)"
   ]
  },
  {
   "cell_type": "code",
   "execution_count": null,
   "metadata": {},
   "outputs": [],
   "source": []
  },
  {
   "cell_type": "markdown",
   "metadata": {},
   "source": [
    "# model"
   ]
  },
  {
   "cell_type": "code",
   "execution_count": 13,
   "metadata": {},
   "outputs": [],
   "source": [
    "#import pretrainedmodels"
   ]
  },
  {
   "cell_type": "code",
   "execution_count": 14,
   "metadata": {},
   "outputs": [
    {
     "name": "stdout",
     "output_type": "stream",
     "text": [
      "['fbresnet152', 'bninception', 'resnext101_32x4d', 'resnext101_64x4d', 'inceptionv4', 'inceptionresnetv2', 'alexnet', 'densenet121', 'densenet169', 'densenet201', 'densenet161', 'resnet18', 'resnet34', 'resnet50', 'resnet101', 'resnet152', 'inceptionv3', 'squeezenet1_0', 'squeezenet1_1', 'vgg11', 'vgg11_bn', 'vgg13', 'vgg13_bn', 'vgg16', 'vgg16_bn', 'vgg19_bn', 'vgg19', 'nasnetamobile', 'nasnetalarge', 'dpn68', 'dpn68b', 'dpn92', 'dpn98', 'dpn131', 'dpn107', 'xception', 'senet154', 'se_resnet50', 'se_resnet101', 'se_resnet152', 'se_resnext50_32x4d', 'se_resnext101_32x4d', 'cafferesnet101', 'pnasnet5large', 'polynet']\n"
     ]
    }
   ],
   "source": [
    "print(pretrainedmodels.model_names)"
   ]
  },
  {
   "cell_type": "code",
   "execution_count": 15,
   "metadata": {},
   "outputs": [],
   "source": [
    "#model_name = 'resnet50' # could be fbresnet152 or inceptionresnetv2\n",
    "#model = pretrainedmodels.__dict__[model_name](num_classes=1000, pretrained='imagenet').cuda()\n",
    "#model.eval()"
   ]
  },
  {
   "cell_type": "code",
   "execution_count": 16,
   "metadata": {},
   "outputs": [],
   "source": [
    "#model = pretrainedmodels.__dict__[model_name](num_classes=1000, pretrained=False).cuda()\n"
   ]
  },
  {
   "cell_type": "code",
   "execution_count": 17,
   "metadata": {},
   "outputs": [],
   "source": [
    "#model.features(torch.randn((2, 3, 137, 236)).cuda()).size()"
   ]
  },
  {
   "cell_type": "code",
   "execution_count": 18,
   "metadata": {},
   "outputs": [],
   "source": [
    "#model.last_linear.in_features"
   ]
  },
  {
   "cell_type": "code",
   "execution_count": 19,
   "metadata": {},
   "outputs": [],
   "source": [
    "class BengaliNet_1(nn.Module):\n",
    "    def __init__(self, backbone_name):\n",
    "        super(BengaliNet, self).__init__()\n",
    "        self.n_grapheme = 168\n",
    "        self.n_vowel = 11\n",
    "        self.n_consonant = 7\n",
    "        self.backbone_name = backbone_name\n",
    "        \n",
    "        self.num_classes = self.n_grapheme + self.n_vowel + self.n_consonant\n",
    "        \n",
    "        self.conv0 = nn.Conv2d(1, 3, kernel_size=1, stride=1, padding=0)\n",
    "        \n",
    "        if self.backbone_name.startswith('efficient'):\n",
    "            self.backbone = EfficientNet.from_pretrained(self.backbone_name)\n",
    "            self.fc = nn.Linear(self.backbone._fc.in_features, self.num_classes)\n",
    "        else:\n",
    "            self.backbone = pretrainedmodels.__dict__[self.backbone_name](num_classes=1000, pretrained='imagenet')\n",
    "            self.fc = nn.Linear(self.backbone.last_linear.in_features, self.num_classes)\n",
    "\n",
    "        self.avg_pool = nn.AdaptiveAvgPool2d(1)\n",
    "        \n",
    "    def logits(self, x):\n",
    "        x = self.avg_pool(x)\n",
    "        x = F.dropout2d(x, 0.2, self.training)\n",
    "        x = x.view(x.size(0), -1)\n",
    "        return self.fc(x)\n",
    "    \n",
    "    def forward(self, x):\n",
    "        x = self.conv0(x)\n",
    "        #print(x.size())\n",
    "        if self.backbone_name.startswith('efficient'):\n",
    "            x = self.backbone.extract_features(x)\n",
    "        else:\n",
    "            x = self.backbone.features(x)\n",
    "        x = self.logits(x)\n",
    "\n",
    "        return x"
   ]
  },
  {
   "cell_type": "code",
   "execution_count": 20,
   "metadata": {},
   "outputs": [],
   "source": [
    "class BengaliNet(nn.Module):\n",
    "    def __init__(self, backbone_name):\n",
    "        super(BengaliNet, self).__init__()\n",
    "        self.n_grapheme = 168\n",
    "        self.n_vowel = 11\n",
    "        self.n_consonant = 7\n",
    "        self.backbone_name = backbone_name\n",
    "        \n",
    "        self.num_classes = self.n_grapheme + self.n_vowel + self.n_consonant\n",
    "        \n",
    "        #self.conv0 = nn.Conv2d(1, 3, kernel_size=1, stride=1, padding=0)\n",
    "        \n",
    "        if self.backbone_name.startswith('efficient'):\n",
    "            self.backbone = EfficientNet.from_pretrained(self.backbone_name)\n",
    "            self.fc = nn.Linear(self.backbone._fc.in_features, self.num_classes)\n",
    "        else:\n",
    "            self.backbone = pretrainedmodels.__dict__[self.backbone_name](num_classes=1000, pretrained='imagenet')\n",
    "            self.fc = nn.Linear(self.backbone.last_linear.in_features, self.num_classes)\n",
    "\n",
    "        self.avg_pool = nn.AdaptiveAvgPool2d(1)\n",
    "        \n",
    "        #self.fix_input_layer()\n",
    "        \n",
    "    def fix_input_layer(self):\n",
    "        if self.backbone_name in ['se_resnext50_32x4d', 'se_resnext101_32x4d', 'se_resnet50', 'senet154', 'se_resnet152', 'nasnetmobile', 'mobilenet', 'nasnetalarge']:\n",
    "            #self.backbone = eval(backbone_name)()\n",
    "            #print(self.backbone.layer0.conv1)\n",
    "            w = self.backbone.layer0.conv1.weight.data\n",
    "            self.backbone.layer0.conv1 = nn.Conv2d(1, 64, kernel_size=7, stride=2, padding=3, bias=False)\n",
    "            #self.backbone.layer0.conv1.weight = torch.nn.Parameter(torch.cat((w, w[:, 2, :, :].unsqueeze(1)), dim=1))\n",
    "            self.backbone.layer0.conv1.weight = torch.nn.Parameter(w[:, 0, :, :].unsqueeze(1))\n",
    "        \n",
    "    def logits(self, x):\n",
    "        x = self.avg_pool(x)\n",
    "        x = F.dropout2d(x, 0.2, self.training)\n",
    "        x = x.view(x.size(0), -1)\n",
    "        return self.fc(x)\n",
    "    \n",
    "    def forward(self, x):\n",
    "        #x = self.conv0(x)\n",
    "        #print(x.size())\n",
    "        if self.backbone_name.startswith('efficient'):\n",
    "            x = self.backbone.extract_features(x)\n",
    "        else:\n",
    "            x = self.backbone.features(x)\n",
    "        x = self.logits(x)\n",
    "\n",
    "        return x"
   ]
  },
  {
   "cell_type": "code",
   "execution_count": null,
   "metadata": {},
   "outputs": [],
   "source": []
  },
  {
   "cell_type": "code",
   "execution_count": 21,
   "metadata": {},
   "outputs": [],
   "source": [
    "MODEL_DIR = './models'\n",
    "def create_model(args):\n",
    "    model = BengaliNet(backbone_name=args.backbone)\n",
    "    model_file = os.path.join(MODEL_DIR, args.backbone, args.ckp_name)\n",
    "\n",
    "    parent_dir = os.path.dirname(model_file)\n",
    "    if not os.path.exists(parent_dir):\n",
    "        os.makedirs(parent_dir)\n",
    "\n",
    "    print('model file: {}, exist: {}'.format(model_file, os.path.exists(model_file)))\n",
    "\n",
    "    if args.predict and (not os.path.exists(model_file)):\n",
    "        raise AttributeError('model file does not exist: {}'.format(model_file))\n",
    "\n",
    "    if os.path.exists(model_file):\n",
    "        print('loading {}...'.format(model_file))\n",
    "        model.load_state_dict(torch.load(model_file))\n",
    "    \n",
    "    return model, model_file"
   ]
  },
  {
   "cell_type": "code",
   "execution_count": 22,
   "metadata": {},
   "outputs": [],
   "source": [
    "#bnet = BengaliNet('se_resnext50_32x4d').cuda()"
   ]
  },
  {
   "cell_type": "code",
   "execution_count": 23,
   "metadata": {},
   "outputs": [],
   "source": [
    "#bnet(torch.randn((2, 1, 137, 236)).cuda()).size()"
   ]
  },
  {
   "cell_type": "markdown",
   "metadata": {},
   "source": [
    "# train"
   ]
  },
  {
   "cell_type": "code",
   "execution_count": 24,
   "metadata": {},
   "outputs": [
    {
     "data": {
      "text/plain": [
       "0.111111"
      ]
     },
     "execution_count": 24,
     "metadata": {},
     "output_type": "execute_result"
    }
   ],
   "source": [
    "round(1/9, 6)"
   ]
  },
  {
   "cell_type": "code",
   "execution_count": 25,
   "metadata": {},
   "outputs": [],
   "source": [
    "import numpy as np\n",
    "import sklearn.metrics\n",
    "import torch\n",
    "\n",
    "\n",
    "def macro_recall(pred_y, y, n_grapheme=168, n_vowel=11, n_consonant=7):\n",
    "    pred_y = torch.split(pred_y, [n_grapheme, n_vowel, n_consonant], dim=1)\n",
    "    pred_labels = [torch.argmax(py, dim=1).cpu().numpy() for py in pred_y]\n",
    "\n",
    "    #y = y.cpu().numpy()\n",
    "    # pred_y = [p.cpu().numpy() for p in pred_y]\n",
    "\n",
    "    recall_grapheme = sklearn.metrics.recall_score(pred_labels[0], y_grapheme, average='macro')\n",
    "    recall_vowel = sklearn.metrics.recall_score(pred_labels[1], y_vowel, average='macro')\n",
    "    recall_consonant = sklearn.metrics.recall_score(pred_labels[2], y_consonant, average='macro')\n",
    "    scores = [recall_grapheme, recall_vowel, recall_consonant]\n",
    "    final_score = np.average(scores, weights=[2, 1, 1])\n",
    "    # print(f'recall: grapheme {recall_grapheme}, vowel {recall_vowel}, consonant {recall_consonant}, '\n",
    "    #       f'total {final_score}, y {y.shape}')\n",
    "    return final_score\n",
    "\n",
    "def calc_metrics(preds0, preds1, preds2, y):\n",
    "    assert len(y) == len(preds0) == len(preds1) == len(preds2)\n",
    "\n",
    "    recall_grapheme = sklearn.metrics.recall_score(preds0, y[:, 0], average='macro')\n",
    "    recall_vowel = sklearn.metrics.recall_score(preds1, y[:, 1], average='macro')\n",
    "    recall_consonant = sklearn.metrics.recall_score(preds2, y[:, 2], average='macro')\n",
    "    scores = [recall_grapheme, recall_vowel, recall_consonant]\n",
    "    final_recall_score = np.average(scores, weights=[2, 1, 1])\n",
    "    \n",
    "    metrics = {}\n",
    "    metrics['recall'] = round(final_recall_score, 6)\n",
    "    metrics['recall_grapheme'] = round(recall_grapheme, 6)\n",
    "    metrics['recall_vowel'] = round(recall_vowel, 6)\n",
    "    metrics['recall_consonant'] = round(recall_consonant, 6)\n",
    "    \n",
    "    metrics['acc_grapheme'] = round((preds0 == y[:, 0]).sum() / len(y), 6)\n",
    "    metrics['acc_vowel'] = round((preds1 == y[:, 1]).sum() / len(y), 6)\n",
    "    metrics['acc_consonant'] = round((preds2 == y[:, 2]).sum() / len(y), 6)\n",
    "    \n",
    "    \n",
    "    return metrics"
   ]
  },
  {
   "cell_type": "code",
   "execution_count": 26,
   "metadata": {},
   "outputs": [],
   "source": [
    "def criterion(outputs, y_true):\n",
    "    # outputs: (N, 182)\n",
    "    # y_true: (N, 3)\n",
    "    \n",
    "    outputs = torch.split(outputs, [168, 11, 7], dim=1)\n",
    "    loss0 = F.cross_entropy(outputs[0], y_true[:, 0], reduction='mean')\n",
    "    loss1 = F.cross_entropy(outputs[1], y_true[:, 1], reduction='mean')\n",
    "    loss2 = F.cross_entropy(outputs[2], y_true[:, 2], reduction='mean')\n",
    "    \n",
    "    return loss0 + loss1 + loss2 #, loss0.item(), loss1.item(), loss2.item()"
   ]
  },
  {
   "cell_type": "code",
   "execution_count": 27,
   "metadata": {},
   "outputs": [],
   "source": [
    "def validate(model, val_loader):\n",
    "    model.eval()\n",
    "    loss0, loss1, loss2 = 0., 0., 0.\n",
    "    preds0, preds1,preds2 = [], [], []\n",
    "    y_true = []\n",
    "    with torch.no_grad():\n",
    "        for x, y in val_loader:\n",
    "            y_true.append(y)\n",
    "            x, y = x.cuda(), y.cuda()\n",
    "            outputs = model(x)\n",
    "            outputs = torch.split(outputs, [168, 11, 7], dim=1)\n",
    "            \n",
    "            preds0.append(torch.max(outputs[0], dim=1)[1])\n",
    "            preds1.append(torch.max(outputs[1], dim=1)[1])\n",
    "            preds2.append(torch.max(outputs[2], dim=1)[1])\n",
    "            loss0 += F.cross_entropy(outputs[0], y[:, 0], reduction='sum').item()\n",
    "            loss1 += F.cross_entropy(outputs[1], y[:, 1], reduction='sum').item()\n",
    "            loss2 += F.cross_entropy(outputs[2], y[:, 2], reduction='sum').item()\n",
    "            \n",
    "            # for debug\n",
    "            #metrics = {}\n",
    "            #metrics['loss_grapheme'] =  F.cross_entropy(outputs[0], y[:, 0], reduction='mean').item()\n",
    "            #metrics['loss_vowel'] =  F.cross_entropy(outputs[1], y[:, 1], reduction='mean').item()\n",
    "            #metrics['loss_consonant'] =  F.cross_entropy(outputs[2], y[:, 2], reduction='mean').item()\n",
    "            #return metrics\n",
    "    \n",
    "    preds0 = torch.cat(preds0, 0).cpu().numpy()\n",
    "    preds1 = torch.cat(preds1, 0).cpu().numpy()\n",
    "    preds2 = torch.cat(preds2, 0).cpu().numpy()\n",
    "    y_true = torch.cat(y_true, 0).numpy()\n",
    "    \n",
    "    #print('y_true:', y_true.shape)\n",
    "    #print('preds0:', preds0.shape)\n",
    "    \n",
    "    metrics = calc_metrics(preds0, preds1, preds2, y_true)\n",
    "    metrics['loss_grapheme'] = round(loss0 / val_loader.num, 6)\n",
    "    metrics['loss_vowel'] = round(loss1 / val_loader.num, 6)\n",
    "    metrics['loss_consonant'] = round(loss2 / val_loader.num, 6)\n",
    "    \n",
    "    return metrics\n",
    "            "
   ]
  },
  {
   "cell_type": "code",
   "execution_count": null,
   "metadata": {},
   "outputs": [],
   "source": []
  },
  {
   "cell_type": "code",
   "execution_count": 28,
   "metadata": {},
   "outputs": [],
   "source": [
    "def get_lrs(optimizer):\n",
    "    lrs = []\n",
    "    for pgs in optimizer.state_dict()['param_groups']:\n",
    "        lrs.append(pgs['lr'])\n",
    "    lrs = ['{:.6f}'.format(x) for x in lrs]\n",
    "    return lrs"
   ]
  },
  {
   "cell_type": "code",
   "execution_count": 29,
   "metadata": {},
   "outputs": [],
   "source": [
    "def save_model(model, model_file):\n",
    "    parent_dir = os.path.dirname(model_file)\n",
    "    if not os.path.exists(parent_dir):\n",
    "        os.makedirs(parent_dir)\n",
    "    if isinstance(model, nn.DataParallel):\n",
    "        torch.save(model.module.state_dict(), model_file)\n",
    "    else:\n",
    "        torch.save(model.state_dict(), model_file)"
   ]
  },
  {
   "cell_type": "code",
   "execution_count": 30,
   "metadata": {},
   "outputs": [],
   "source": [
    "def mixup(data, targets, alpha=1):\n",
    "    indices = torch.randperm(data.size(0))\n",
    "    shuffled_data = data[indices]\n",
    "    shuffled_targets = targets[indices]\n",
    "\n",
    "    lam = np.random.beta(alpha, alpha)\n",
    "    data = data * lam + shuffled_data * (1 - lam)\n",
    "    targets = (targets, shuffled_targets, lam)\n",
    "\n",
    "    return data, targets\n",
    "\n",
    "\n",
    "def mixup_criterion(outputs, targets):\n",
    "    targets1, targets2, lam = targets\n",
    "    #criterion = nn.CrossEntropyLoss(reduction='mean')\n",
    "    return lam * criterion(outputs, targets1) + (1 - lam) * criterion(outputs, targets2)"
   ]
  },
  {
   "cell_type": "code",
   "execution_count": 31,
   "metadata": {},
   "outputs": [],
   "source": [
    "def rand_bbox(size, lam):\n",
    "    W = size[2]\n",
    "    H = size[3]\n",
    "    cut_rat = np.sqrt(1. - lam)\n",
    "    cut_w = np.int(W * cut_rat)\n",
    "    cut_h = np.int(H * cut_rat)\n",
    "\n",
    "    # uniform\n",
    "    cx = np.random.randint(W)\n",
    "    cy = np.random.randint(H)\n",
    "\n",
    "    bbx1 = np.clip(cx - cut_w // 2, 0, W)\n",
    "    bby1 = np.clip(cy - cut_h // 2, 0, H)\n",
    "    bbx2 = np.clip(cx + cut_w // 2, 0, W)\n",
    "    bby2 = np.clip(cy + cut_h // 2, 0, H)\n",
    "\n",
    "    return bbx1, bby1, bbx2, bby2"
   ]
  },
  {
   "cell_type": "code",
   "execution_count": 32,
   "metadata": {},
   "outputs": [
    {
     "data": {
      "text/plain": [
       "0.09239107506472277"
      ]
     },
     "execution_count": 32,
     "metadata": {},
     "output_type": "execute_result"
    }
   ],
   "source": [
    "np.random.random()"
   ]
  },
  {
   "cell_type": "code",
   "execution_count": 33,
   "metadata": {},
   "outputs": [],
   "source": [
    "from over9000.over9000 import Over9000\n",
    "from over9000.radam import RAdam"
   ]
  },
  {
   "cell_type": "code",
   "execution_count": 34,
   "metadata": {},
   "outputs": [],
   "source": [
    "def train(args):\n",
    "    global model\n",
    "\n",
    "    if args.optim == 'Adam':\n",
    "        optimizer = optim.Adam(model.parameters(), lr=args.lr, weight_decay=0.0001)\n",
    "    elif args.optim == 'RAdam':\n",
    "        optimizer = RAdam(model.parameters(), lr=args.lr)\n",
    "    elif args.optim == 'Over9000':\n",
    "        optimizer = Over9000(model.parameters(), lr=args.lr)\n",
    "    else:\n",
    "        optimizer = optim.SGD(model.parameters(), lr=args.lr, momentum=0.9, weight_decay=0.0001)\n",
    "\n",
    "    if args.lrs == 'plateau':\n",
    "        lr_scheduler = optim.lr_scheduler.ReduceLROnPlateau(optimizer, mode='max', factor=args.factor, patience=args.patience, min_lr=args.min_lr)\n",
    "    else:\n",
    "        lr_scheduler = optim.lr_scheduler.CosineAnnealingLR(optimizer, args.t_max, eta_min=args.min_lr)\n",
    "        \n",
    "    model, optimizer = amp.initialize(model, optimizer, opt_level=\"O1\",verbosity=0)\n",
    "    \n",
    "    if torch.cuda.device_count() > 1:\n",
    "        model = nn.DataParallel(model)\n",
    "\n",
    "    best_metrics = 0.\n",
    "    best_key = 'recall'\n",
    "    \n",
    "    val_metrics = validate(model, val_loader)\n",
    "    print(val_metrics)\n",
    "    best_metrics = val_metrics[best_key]\n",
    "    \n",
    "    model.train()\n",
    "    #optimizer.zero_grad()\n",
    "\n",
    "    #if args.lrs == 'plateau':\n",
    "    #    lr_scheduler.step(best_metrics)\n",
    "    #else:\n",
    "    #    lr_scheduler.step()\n",
    "    train_iter = 0\n",
    "\n",
    "    for epoch in range(args.num_epochs):\n",
    "        train_loss = 0\n",
    "\n",
    "        current_lr = get_lrs(optimizer)\n",
    "        bg = time.time()\n",
    "        for batch_idx, (img, targets) in enumerate(train_loader):\n",
    "            train_iter += 1\n",
    "            img, targets  = img.cuda(), targets.cuda()\n",
    "            #do_mixup = False #(np.random.random() < 0.4)\n",
    "            \n",
    "            #if do_mixup:\n",
    "            #    img, targets = mixup(img, targets)\n",
    "            batch_size = img.size(0)\n",
    "          \n",
    "            \n",
    "            \n",
    "            #if do_mixup:\n",
    "            #    loss = mixup_criterion(outputs, targets)\n",
    "            #else:\n",
    "            #    loss = criterion(outputs, targets)\n",
    "            r = np.random.rand()\n",
    "            #if args.beta > 0 and r < args.cutmix_prob:\n",
    "            if r < 0.5:\n",
    "                # generate mixed sample\n",
    "                lam = np.random.beta(args.beta, args.beta)\n",
    "                rand_index = torch.randperm(img.size()[0]).cuda()\n",
    "                target_a = targets\n",
    "                target_b = targets[rand_index]\n",
    "                bbx1, bby1, bbx2, bby2 = rand_bbox(img.size(), lam)\n",
    "                img[:, :, bbx1:bbx2, bby1:bby2] = img[rand_index, :, bbx1:bbx2, bby1:bby2]\n",
    "                # adjust lambda to exactly match pixel ratio\n",
    "                lam = 1 - ((bbx2 - bbx1) * (bby2 - bby1) / (img.size()[-1] * img.size()[-2]))\n",
    "                # compute output\n",
    "                outputs = model(img)\n",
    "                loss = criterion(outputs, target_a) * lam + criterion(outputs, target_b) * (1. - lam)\n",
    "            else:\n",
    "                img, targets = mixup(img, targets)\n",
    "                outputs = model(img)\n",
    "                loss = mixup_criterion(outputs, targets)\n",
    "                #loss = criterion(outputs, targets)\n",
    "            \n",
    "            with amp.scale_loss(loss, optimizer) as scaled_loss:\n",
    "                scaled_loss.backward()\n",
    "            \n",
    "            #loss.backward()\n",
    "            optimizer.step()\n",
    "            optimizer.zero_grad()\n",
    "\n",
    "            \n",
    "            #if batch_idx % 4 == 0:\n",
    "            #    optimizer.step()\n",
    "            #    optimizer.zero_grad()\n",
    "\n",
    "            train_loss += loss.item()\n",
    "            print('\\r {:4d} | {:.6f} | {:06d}/{} | {:.4f} | {:.4f} |'.format(\n",
    "                epoch, float(current_lr[0]), batch_size*(batch_idx+1), train_loader.num, \n",
    "                loss.item(), train_loss/(batch_idx+1)), end='')\n",
    "\n",
    "            if train_iter > 0 and train_iter % args.iter_val == 0:\n",
    "                #outputs = torch.split(outputs, [168, 11, 7], dim=1)\n",
    "            \n",
    "                #preds0 = (torch.max(outputs[0], dim=1)[1]).cpu().numpy()\n",
    "                #preds1 = (torch.max(outputs[1], dim=1)[1]).cpu().numpy()\n",
    "                #preds2 = (torch.max(outputs[2], dim=1)[1]).cpu().numpy()\n",
    "                #train_metrics = calc_metrics(preds0, preds1, preds2, targets.cpu().numpy())\n",
    "                #print('train:', train_metrics)\n",
    "                #save_model(model, model_file+'_latest')\n",
    "                val_metrics = validate(model, val_loader)\n",
    "                print('\\nval:', val_metrics)\n",
    "                \n",
    "                if val_metrics[best_key] > best_metrics:\n",
    "                    best_metrics = val_metrics[best_key]\n",
    "                    save_model(model, model_file)\n",
    "                    print('** saved')\n",
    "                \n",
    "                model.train()\n",
    "                \n",
    "                if args.lrs == 'plateau':\n",
    "                    lr_scheduler.step(best_metrics)\n",
    "                else:\n",
    "                    lr_scheduler.step()\n",
    "                current_lr = get_lrs(optimizer)\n",
    "        \n",
    "    "
   ]
  },
  {
   "cell_type": "code",
   "execution_count": 35,
   "metadata": {},
   "outputs": [],
   "source": [
    "args = Namespace()\n",
    "args.backbone = 'se_resnext50_32x4d'\n",
    "args.ckp_name = 'model3_se_resnext50_fold0_128.pth'\n",
    "args.predict = False\n",
    "args.optim = 'RAdam'\n",
    "args.lr = 4e-5\n",
    "args.lrs = 'cosine'\n",
    "args.t_max = 12\n",
    "args.factor = 0.2\n",
    "args.patience = 0\n",
    "args.min_lr = 2e-6\n",
    "args.iter_val = 200\n",
    "args.num_epochs = 100000\n",
    "args.batch_size = 2048\n",
    "args.val_batch_size = 2048\n",
    "\n",
    "args.beta = 1.0\n",
    "args.cutmix_prob = 0.5"
   ]
  },
  {
   "cell_type": "code",
   "execution_count": 36,
   "metadata": {},
   "outputs": [
    {
     "name": "stdout",
     "output_type": "stream",
     "text": [
      "(200840, 5)\n",
      "(200840, 32332)\n",
      "(160596, 5) (40244, 5)\n"
     ]
    }
   ],
   "source": [
    "train_loader, val_loader = get_train_val_loaders(batch_size=args.batch_size, val_batch_size=args.val_batch_size, ifold=0)"
   ]
  },
  {
   "cell_type": "code",
   "execution_count": 37,
   "metadata": {},
   "outputs": [
    {
     "name": "stdout",
     "output_type": "stream",
     "text": [
      "model file: ./models/se_resnext50_32x4d/model3_se_resnext50_fold0_128.pth, exist: True\n",
      "loading ./models/se_resnext50_32x4d/model3_se_resnext50_fold0_128.pth...\n"
     ]
    }
   ],
   "source": [
    "model, model_file = create_model(args)\n",
    "#if torch.cuda.device_count() > 1:\n",
    "#    model = nn.DataParallel(model)\n",
    "model = model.cuda()\n"
   ]
  },
  {
   "cell_type": "code",
   "execution_count": 38,
   "metadata": {},
   "outputs": [
    {
     "name": "stdout",
     "output_type": "stream",
     "text": [
      "{'recall': 0.033483, 'recall_grapheme': 0.003277, 'recall_vowel': 0.038792, 'recall_consonant': 0.088585, 'acc_grapheme': 0.014909, 'acc_vowel': 0.208677, 'acc_consonant': 0.620092, 'loss_grapheme': 20.593791, 'loss_vowel': 14.627979, 'loss_consonant': 19.378923}\n"
     ]
    },
    {
     "name": "stderr",
     "output_type": "stream",
     "text": [
      "/home/chec/anaconda3/lib/python3.7/site-packages/sklearn/metrics/classification.py:1439: UndefinedMetricWarning: Recall is ill-defined and being set to 0.0 in labels with no true samples.\n",
      "  'recall', 'true', average, warn_for)\n"
     ]
    },
    {
     "name": "stdout",
     "output_type": "stream",
     "text": [
      "    2 | 0.000040 | 090112/160596 | 3.9355 | 3.0151 |\n",
      "val: {'recall': 0.972549, 'recall_grapheme': 0.958583, 'recall_vowel': 0.985186, 'recall_consonant': 0.987842, 'acc_grapheme': 0.95977, 'acc_vowel': 0.987924, 'acc_consonant': 0.987352, 'loss_grapheme': 0.361509, 'loss_vowel': 0.207536, 'loss_consonant': 0.144966}\n",
      "** saved\n"
     ]
    },
    {
     "name": "stderr",
     "output_type": "stream",
     "text": [
      "/home/chec/anaconda3/lib/python3.7/site-packages/torch/optim/lr_scheduler.py:73: UserWarning: Seems like `optimizer.step()` has been overridden after learning rate scheduler initialization. Please, make sure to call `optimizer.step()` before `lr_scheduler.step()`. See more details at https://pytorch.org/docs/stable/optim.html#how-to-adjust-learning-rate\n",
      "  \"https://pytorch.org/docs/stable/optim.html#how-to-adjust-learning-rate\", UserWarning)\n"
     ]
    },
    {
     "name": "stdout",
     "output_type": "stream",
     "text": [
      "    5 | 0.000039 | 020480/160596 | 3.2157 | 3.0124 |\n",
      "val: {'recall': 0.972751, 'recall_grapheme': 0.957874, 'recall_vowel': 0.986088, 'recall_consonant': 0.989166, 'acc_grapheme': 0.958801, 'acc_vowel': 0.987924, 'acc_consonant': 0.98683, 'loss_grapheme': 0.401663, 'loss_vowel': 0.226607, 'loss_consonant': 0.160335}\n",
      "** saved\n",
      "    7 | 0.000037 | 110592/160596 | 1.6983 | 3.0946 |\n",
      "val: {'recall': 0.973007, 'recall_grapheme': 0.958412, 'recall_vowel': 0.987078, 'recall_consonant': 0.988127, 'acc_grapheme': 0.960615, 'acc_vowel': 0.988818, 'acc_consonant': 0.987899, 'loss_grapheme': 0.352949, 'loss_vowel': 0.196014, 'loss_consonant': 0.14192}\n",
      "** saved\n",
      "   10 | 0.000034 | 040960/160596 | 1.9907 | 3.0342 |\n",
      "val: {'recall': 0.974413, 'recall_grapheme': 0.960149, 'recall_vowel': 0.986807, 'recall_consonant': 0.990547, 'acc_grapheme': 0.960864, 'acc_vowel': 0.988744, 'acc_consonant': 0.98765, 'loss_grapheme': 0.405663, 'loss_vowel': 0.217004, 'loss_consonant': 0.156505}\n",
      "** saved\n",
      "   12 | 0.000031 | 131072/160596 | 4.2852 | 2.8082 |\n",
      "val: {'recall': 0.974095, 'recall_grapheme': 0.959475, 'recall_vowel': 0.987316, 'recall_consonant': 0.990112, 'acc_grapheme': 0.960193, 'acc_vowel': 0.988942, 'acc_consonant': 0.987576, 'loss_grapheme': 0.434912, 'loss_vowel': 0.243538, 'loss_consonant': 0.172546}\n",
      "   15 | 0.000026 | 061440/160596 | 3.7012 | 2.7955 |\n",
      "val: {'recall': 0.974305, 'recall_grapheme': 0.959169, 'recall_vowel': 0.987724, 'recall_consonant': 0.991158, 'acc_grapheme': 0.960292, 'acc_vowel': 0.989141, 'acc_consonant': 0.987402, 'loss_grapheme': 0.399691, 'loss_vowel': 0.22339, 'loss_consonant': 0.159025}\n",
      "   17 | 0.000021 | 151552/160596 | 2.5648 | 3.2511 |\n",
      "val: {'recall': 0.974073, 'recall_grapheme': 0.958849, 'recall_vowel': 0.987184, 'recall_consonant': 0.99141, 'acc_grapheme': 0.960019, 'acc_vowel': 0.989092, 'acc_consonant': 0.987178, 'loss_grapheme': 0.461631, 'loss_vowel': 0.250299, 'loss_consonant': 0.180772}\n",
      "   20 | 0.000016 | 081920/160596 | 3.4822 | 2.8684 |\n",
      "val: {'recall': 0.974095, 'recall_grapheme': 0.958806, 'recall_vowel': 0.987432, 'recall_consonant': 0.991334, 'acc_grapheme': 0.960541, 'acc_vowel': 0.98929, 'acc_consonant': 0.988048, 'loss_grapheme': 0.358252, 'loss_vowel': 0.198343, 'loss_consonant': 0.144168}\n",
      "   23 | 0.000012 | 012288/160596 | 1.8775 | 2.5835 |\n",
      "val: {'recall': 0.974176, 'recall_grapheme': 0.959476, 'recall_vowel': 0.98749, 'recall_consonant': 0.990263, 'acc_grapheme': 0.961808, 'acc_vowel': 0.989564, 'acc_consonant': 0.988445, 'loss_grapheme': 0.307881, 'loss_vowel': 0.16986, 'loss_consonant': 0.127508}\n",
      "   25 | 0.000008 | 102400/160596 | 2.5652 | 2.6232 |\n",
      "val: {'recall': 0.974434, 'recall_grapheme': 0.959781, 'recall_vowel': 0.987266, 'recall_consonant': 0.99091, 'acc_grapheme': 0.962056, 'acc_vowel': 0.989464, 'acc_consonant': 0.988445, 'loss_grapheme': 0.324188, 'loss_vowel': 0.180127, 'loss_consonant': 0.132991}\n",
      "** saved\n",
      "   28 | 0.000005 | 032768/160596 | 4.3344 | 2.6460 |\n",
      "val: {'recall': 0.974078, 'recall_grapheme': 0.958846, 'recall_vowel': 0.987521, 'recall_consonant': 0.991099, 'acc_grapheme': 0.961286, 'acc_vowel': 0.989539, 'acc_consonant': 0.988346, 'loss_grapheme': 0.382899, 'loss_vowel': 0.213289, 'loss_consonant': 0.15346}\n",
      "   30 | 0.000003 | 122880/160596 | 1.0818 | 2.4860 |\n",
      "val: {'recall': 0.974372, 'recall_grapheme': 0.959696, 'recall_vowel': 0.987718, 'recall_consonant': 0.990377, 'acc_grapheme': 0.962703, 'acc_vowel': 0.989812, 'acc_consonant': 0.98852, 'loss_grapheme': 0.269237, 'loss_vowel': 0.143891, 'loss_consonant': 0.110098}\n",
      "   33 | 0.000002 | 053248/160596 | 3.5144 | 2.8869 |\n",
      "val: {'recall': 0.973596, 'recall_grapheme': 0.958095, 'recall_vowel': 0.987418, 'recall_consonant': 0.990778, 'acc_grapheme': 0.96064, 'acc_vowel': 0.98934, 'acc_consonant': 0.987874, 'loss_grapheme': 0.397854, 'loss_vowel': 0.214669, 'loss_consonant': 0.156738}\n",
      "   35 | 0.000003 | 143360/160596 | 1.7841 | 2.8078 |\n",
      "val: {'recall': 0.974557, 'recall_grapheme': 0.959712, 'recall_vowel': 0.987827, 'recall_consonant': 0.990978, 'acc_grapheme': 0.962206, 'acc_vowel': 0.989787, 'acc_consonant': 0.988545, 'loss_grapheme': 0.33046, 'loss_vowel': 0.184798, 'loss_consonant': 0.136512}\n",
      "** saved\n",
      "   38 | 0.000005 | 073728/160596 | 3.2450 | 2.8956 |\n",
      "val: {'recall': 0.973416, 'recall_grapheme': 0.957704, 'recall_vowel': 0.987433, 'recall_consonant': 0.990823, 'acc_grapheme': 0.959671, 'acc_vowel': 0.989216, 'acc_consonant': 0.987104, 'loss_grapheme': 0.423377, 'loss_vowel': 0.226739, 'loss_consonant': 0.162861}\n",
      "   41 | 0.000008 | 004096/160596 | 3.0475 | 2.7779 |\n",
      "val: {'recall': 0.973645, 'recall_grapheme': 0.958014, 'recall_vowel': 0.987572, 'recall_consonant': 0.990981, 'acc_grapheme': 0.960789, 'acc_vowel': 0.989564, 'acc_consonant': 0.988147, 'loss_grapheme': 0.33822, 'loss_vowel': 0.184045, 'loss_consonant': 0.138422}\n",
      "   43 | 0.000011 | 094208/160596 | 3.5418 | 2.6930 |\n",
      "val: {'recall': 0.974253, 'recall_grapheme': 0.959866, 'recall_vowel': 0.987596, 'recall_consonant': 0.989685, 'acc_grapheme': 0.96228, 'acc_vowel': 0.989514, 'acc_consonant': 0.988595, 'loss_grapheme': 0.355999, 'loss_vowel': 0.201644, 'loss_consonant': 0.143526}\n",
      "   46 | 0.000016 | 024576/160596 | 3.7948 | 3.0444 |\n",
      "val: {'recall': 0.974005, 'recall_grapheme': 0.958709, 'recall_vowel': 0.987566, 'recall_consonant': 0.991035, 'acc_grapheme': 0.961535, 'acc_vowel': 0.989613, 'acc_consonant': 0.988445, 'loss_grapheme': 0.388474, 'loss_vowel': 0.22602, 'loss_consonant': 0.162396}\n",
      "   48 | 0.000021 | 114688/160596 | 3.5543 | 2.7378 |\n",
      "val: {'recall': 0.973704, 'recall_grapheme': 0.959034, 'recall_vowel': 0.987324, 'recall_consonant': 0.989424, 'acc_grapheme': 0.961584, 'acc_vowel': 0.989688, 'acc_consonant': 0.98847, 'loss_grapheme': 0.321303, 'loss_vowel': 0.177935, 'loss_consonant': 0.131395}\n",
      "   51 | 0.000026 | 045056/160596 | 2.8545 | 2.8070 |\n",
      "val: {'recall': 0.974367, 'recall_grapheme': 0.959658, 'recall_vowel': 0.987231, 'recall_consonant': 0.990918, 'acc_grapheme': 0.961684, 'acc_vowel': 0.989539, 'acc_consonant': 0.988272, 'loss_grapheme': 0.400357, 'loss_vowel': 0.227498, 'loss_consonant': 0.16165}\n",
      "   53 | 0.000031 | 135168/160596 | 3.2511 | 2.7888 |\n",
      "val: {'recall': 0.975181, 'recall_grapheme': 0.961201, 'recall_vowel': 0.987334, 'recall_consonant': 0.990987, 'acc_grapheme': 0.963199, 'acc_vowel': 0.989514, 'acc_consonant': 0.988644, 'loss_grapheme': 0.371363, 'loss_vowel': 0.213447, 'loss_consonant': 0.152503}\n",
      "** saved\n",
      "   56 | 0.000034 | 065536/160596 | 3.7792 | 2.9726 |\n",
      "val: {'recall': 0.974855, 'recall_grapheme': 0.960554, 'recall_vowel': 0.987268, 'recall_consonant': 0.991044, 'acc_grapheme': 0.962504, 'acc_vowel': 0.989564, 'acc_consonant': 0.98857, 'loss_grapheme': 0.386495, 'loss_vowel': 0.223208, 'loss_consonant': 0.157108}\n",
      "   58 | 0.000037 | 155648/160596 | 2.7186 | 2.7558 |\n",
      "val: {'recall': 0.974531, 'recall_grapheme': 0.960583, 'recall_vowel': 0.987807, 'recall_consonant': 0.98915, 'acc_grapheme': 0.962703, 'acc_vowel': 0.990036, 'acc_consonant': 0.988545, 'loss_grapheme': 0.35502, 'loss_vowel': 0.211634, 'loss_consonant': 0.148626}\n",
      "   61 | 0.000039 | 086016/160596 | 4.1233 | 2.6239 |\n",
      "val: {'recall': 0.975132, 'recall_grapheme': 0.96141, 'recall_vowel': 0.987798, 'recall_consonant': 0.98991, 'acc_grapheme': 0.963796, 'acc_vowel': 0.990359, 'acc_consonant': 0.988868, 'loss_grapheme': 0.370506, 'loss_vowel': 0.205918, 'loss_consonant': 0.149166}\n",
      "   64 | 0.000040 | 016384/160596 | 4.2852 | 2.8279 |\n",
      "val: {'recall': 0.975021, 'recall_grapheme': 0.96032, 'recall_vowel': 0.988065, 'recall_consonant': 0.991381, 'acc_grapheme': 0.962777, 'acc_vowel': 0.990061, 'acc_consonant': 0.988744, 'loss_grapheme': 0.380263, 'loss_vowel': 0.230128, 'loss_consonant': 0.161557}\n",
      "   66 | 0.000039 | 106496/160596 | 3.0493 | 2.7953 |\n",
      "val: {'recall': 0.975267, 'recall_grapheme': 0.960872, 'recall_vowel': 0.987856, 'recall_consonant': 0.991467, 'acc_grapheme': 0.96397, 'acc_vowel': 0.990284, 'acc_consonant': 0.989141, 'loss_grapheme': 0.361323, 'loss_vowel': 0.210714, 'loss_consonant': 0.153397}\n",
      "** saved\n",
      "   69 | 0.000037 | 036864/160596 | 2.2236 | 2.3471 |\n",
      "val: {'recall': 0.975376, 'recall_grapheme': 0.961143, 'recall_vowel': 0.988111, 'recall_consonant': 0.991106, 'acc_grapheme': 0.963771, 'acc_vowel': 0.989986, 'acc_consonant': 0.989216, 'loss_grapheme': 0.30535, 'loss_vowel': 0.167605, 'loss_consonant': 0.123836}\n"
     ]
    },
    {
     "name": "stdout",
     "output_type": "stream",
     "text": [
      "** saved\n",
      "   71 | 0.000034 | 126976/160596 | 0.4006 | 2.5231 |\n",
      "val: {'recall': 0.976235, 'recall_grapheme': 0.962752, 'recall_vowel': 0.988208, 'recall_consonant': 0.991226, 'acc_grapheme': 0.965237, 'acc_vowel': 0.990185, 'acc_consonant': 0.989464, 'loss_grapheme': 0.319633, 'loss_vowel': 0.19324, 'loss_consonant': 0.139375}\n",
      "** saved\n",
      "   74 | 0.000031 | 057344/160596 | 2.0705 | 2.4641 |\n",
      "val: {'recall': 0.975315, 'recall_grapheme': 0.961538, 'recall_vowel': 0.988136, 'recall_consonant': 0.990048, 'acc_grapheme': 0.963945, 'acc_vowel': 0.99016, 'acc_consonant': 0.989464, 'loss_grapheme': 0.306348, 'loss_vowel': 0.179865, 'loss_consonant': 0.126762}\n",
      "   76 | 0.000026 | 147456/160596 | 4.1476 | 2.5479 |\n",
      "val: {'recall': 0.975176, 'recall_grapheme': 0.961246, 'recall_vowel': 0.9873, 'recall_consonant': 0.990911, 'acc_grapheme': 0.963175, 'acc_vowel': 0.990011, 'acc_consonant': 0.989042, 'loss_grapheme': 0.343828, 'loss_vowel': 0.195921, 'loss_consonant': 0.145562}\n",
      "   79 | 0.000021 | 077824/160596 | 2.7211 | 2.4622 |\n",
      "val: {'recall': 0.975195, 'recall_grapheme': 0.960997, 'recall_vowel': 0.98761, 'recall_consonant': 0.991179, 'acc_grapheme': 0.963945, 'acc_vowel': 0.99016, 'acc_consonant': 0.989216, 'loss_grapheme': 0.340824, 'loss_vowel': 0.200894, 'loss_consonant': 0.145015}\n",
      "   82 | 0.000016 | 008192/160596 | 2.0774 | 2.0836 |\n",
      "val: {'recall': 0.975024, 'recall_grapheme': 0.960798, 'recall_vowel': 0.98755, 'recall_consonant': 0.99095, 'acc_grapheme': 0.963274, 'acc_vowel': 0.99011, 'acc_consonant': 0.989166, 'loss_grapheme': 0.331772, 'loss_vowel': 0.195295, 'loss_consonant': 0.14083}\n",
      "   84 | 0.000012 | 098304/160596 | 3.0642 | 2.5657 |\n",
      "val: {'recall': 0.975598, 'recall_grapheme': 0.961314, 'recall_vowel': 0.988322, 'recall_consonant': 0.991442, 'acc_grapheme': 0.963945, 'acc_vowel': 0.990284, 'acc_consonant': 0.98939, 'loss_grapheme': 0.370078, 'loss_vowel': 0.221994, 'loss_consonant': 0.15603}\n",
      "   87 | 0.000008 | 028672/160596 | 2.9390 | 2.5491 |\n",
      "val: {'recall': 0.976456, 'recall_grapheme': 0.963071, 'recall_vowel': 0.988326, 'recall_consonant': 0.991355, 'acc_grapheme': 0.965088, 'acc_vowel': 0.990235, 'acc_consonant': 0.989489, 'loss_grapheme': 0.331742, 'loss_vowel': 0.196174, 'loss_consonant': 0.144388}\n",
      "** saved\n",
      "   89 | 0.000005 | 118784/160596 | 1.4316 | 2.3612 |\n",
      "val: {'recall': 0.976075, 'recall_grapheme': 0.962271, 'recall_vowel': 0.98829, 'recall_consonant': 0.991467, 'acc_grapheme': 0.964964, 'acc_vowel': 0.990558, 'acc_consonant': 0.989738, 'loss_grapheme': 0.244737, 'loss_vowel': 0.143024, 'loss_consonant': 0.111754}\n",
      "   92 | 0.000003 | 049152/160596 | 0.5032 | 2.1298 |\n",
      "val: {'recall': 0.97587, 'recall_grapheme': 0.961977, 'recall_vowel': 0.98814, 'recall_consonant': 0.991384, 'acc_grapheme': 0.965411, 'acc_vowel': 0.990433, 'acc_consonant': 0.989812, 'loss_grapheme': 0.255828, 'loss_vowel': 0.146631, 'loss_consonant': 0.111248}\n",
      "   94 | 0.000002 | 139264/160596 | 0.3969 | 2.4607 |\n",
      "val: {'recall': 0.976217, 'recall_grapheme': 0.962751, 'recall_vowel': 0.988259, 'recall_consonant': 0.991106, 'acc_grapheme': 0.964989, 'acc_vowel': 0.990384, 'acc_consonant': 0.989365, 'loss_grapheme': 0.281516, 'loss_vowel': 0.160929, 'loss_consonant': 0.121873}\n",
      "   97 | 0.000003 | 069632/160596 | 2.0064 | 2.5876 |\n",
      "val: {'recall': 0.976, 'recall_grapheme': 0.962376, 'recall_vowel': 0.988077, 'recall_consonant': 0.99117, 'acc_grapheme': 0.965063, 'acc_vowel': 0.990632, 'acc_consonant': 0.989638, 'loss_grapheme': 0.260744, 'loss_vowel': 0.149993, 'loss_consonant': 0.116115}\n",
      "   99 | 0.000005 | 159744/160596 | 2.7010 | 2.5380 |\n",
      "val: {'recall': 0.975404, 'recall_grapheme': 0.961242, 'recall_vowel': 0.987967, 'recall_consonant': 0.991165, 'acc_grapheme': 0.964218, 'acc_vowel': 0.990359, 'acc_consonant': 0.98934, 'loss_grapheme': 0.317185, 'loss_vowel': 0.186449, 'loss_consonant': 0.139483}\n",
      "  102 | 0.000008 | 090112/160596 | 2.9919 | 2.4551 |\n",
      "val: {'recall': 0.9756, 'recall_grapheme': 0.961245, 'recall_vowel': 0.988767, 'recall_consonant': 0.991145, 'acc_grapheme': 0.963995, 'acc_vowel': 0.990558, 'acc_consonant': 0.98929, 'loss_grapheme': 0.326483, 'loss_vowel': 0.189875, 'loss_consonant': 0.137424}\n",
      "  105 | 0.000012 | 020480/160596 | 2.6820 | 2.8140 |\n",
      "val: {'recall': 0.975951, 'recall_grapheme': 0.962052, 'recall_vowel': 0.988271, 'recall_consonant': 0.991429, 'acc_grapheme': 0.96474, 'acc_vowel': 0.990458, 'acc_consonant': 0.989141, 'loss_grapheme': 0.341255, 'loss_vowel': 0.212703, 'loss_consonant': 0.151702}\n",
      "  107 | 0.000016 | 110592/160596 | 2.4329 | 2.5832 |\n",
      "val: {'recall': 0.975756, 'recall_grapheme': 0.961663, 'recall_vowel': 0.988447, 'recall_consonant': 0.991249, 'acc_grapheme': 0.964268, 'acc_vowel': 0.990433, 'acc_consonant': 0.988942, 'loss_grapheme': 0.370491, 'loss_vowel': 0.225131, 'loss_consonant': 0.15752}\n",
      "  110 | 0.000021 | 040960/160596 | 3.7884 | 2.2953 |\n",
      "val: {'recall': 0.975761, 'recall_grapheme': 0.961667, 'recall_vowel': 0.988486, 'recall_consonant': 0.991224, 'acc_grapheme': 0.964169, 'acc_vowel': 0.990483, 'acc_consonant': 0.989489, 'loss_grapheme': 0.283014, 'loss_vowel': 0.167689, 'loss_consonant': 0.124264}\n",
      "  112 | 0.000026 | 131072/160596 | 2.2437 | 2.5884 |\n",
      "val: {'recall': 0.975757, 'recall_grapheme': 0.961816, 'recall_vowel': 0.9882, 'recall_consonant': 0.991195, 'acc_grapheme': 0.964094, 'acc_vowel': 0.990185, 'acc_consonant': 0.988868, 'loss_grapheme': 0.315154, 'loss_vowel': 0.188171, 'loss_consonant': 0.139613}\n",
      "  115 | 0.000030 | 061440/160596 | 2.9574 | 2.3998 |\n",
      "val: {'recall': 0.975894, 'recall_grapheme': 0.962051, 'recall_vowel': 0.988409, 'recall_consonant': 0.991067, 'acc_grapheme': 0.965113, 'acc_vowel': 0.990582, 'acc_consonant': 0.989613, 'loss_grapheme': 0.257953, 'loss_vowel': 0.14366, 'loss_consonant': 0.114291}\n",
      "  117 | 0.000034 | 151552/160596 | 1.8620 | 2.3557 |\n",
      "val: {'recall': 0.976306, 'recall_grapheme': 0.963088, 'recall_vowel': 0.98809, 'recall_consonant': 0.990959, 'acc_grapheme': 0.964641, 'acc_vowel': 0.990458, 'acc_consonant': 0.989613, 'loss_grapheme': 0.308353, 'loss_vowel': 0.172336, 'loss_consonant': 0.126246}\n",
      "  120 | 0.000037 | 081920/160596 | 1.2485 | 2.6755 |\n",
      "val: {'recall': 0.975141, 'recall_grapheme': 0.961361, 'recall_vowel': 0.98676, 'recall_consonant': 0.991081, 'acc_grapheme': 0.96392, 'acc_vowel': 0.989961, 'acc_consonant': 0.98934, 'loss_grapheme': 0.318607, 'loss_vowel': 0.184489, 'loss_consonant': 0.137969}\n",
      "  123 | 0.000039 | 012288/160596 | 3.9784 | 3.1701 |\n",
      "val: {'recall': 0.975185, 'recall_grapheme': 0.961119, 'recall_vowel': 0.987341, 'recall_consonant': 0.99116, 'acc_grapheme': 0.964268, 'acc_vowel': 0.990061, 'acc_consonant': 0.989092, 'loss_grapheme': 0.378525, 'loss_vowel': 0.25036, 'loss_consonant': 0.174586}\n",
      "  125 | 0.000040 | 102400/160596 | 0.5726 | 2.4962 |\n",
      "val: {'recall': 0.976685, 'recall_grapheme': 0.963287, 'recall_vowel': 0.988687, 'recall_consonant': 0.99148, 'acc_grapheme': 0.965361, 'acc_vowel': 0.990632, 'acc_consonant': 0.989489, 'loss_grapheme': 0.342036, 'loss_vowel': 0.202631, 'loss_consonant': 0.144905}\n",
      "** saved\n",
      "  128 | 0.000039 | 032768/160596 | 3.5469 | 2.3392 |\n",
      "val: {'recall': 0.976184, 'recall_grapheme': 0.962849, 'recall_vowel': 0.988026, 'recall_consonant': 0.991012, 'acc_grapheme': 0.964889, 'acc_vowel': 0.990384, 'acc_consonant': 0.989241, 'loss_grapheme': 0.311719, 'loss_vowel': 0.187618, 'loss_consonant': 0.13763}\n",
      "  130 | 0.000037 | 122880/160596 | 2.6847 | 2.5083 |\n",
      "val: {'recall': 0.975936, 'recall_grapheme': 0.962021, 'recall_vowel': 0.988839, 'recall_consonant': 0.990864, 'acc_grapheme': 0.965237, 'acc_vowel': 0.990582, 'acc_consonant': 0.989315, 'loss_grapheme': 0.383308, 'loss_vowel': 0.241667, 'loss_consonant': 0.17309}\n",
      "  133 | 0.000034 | 053248/160596 | 2.7433 | 2.4970 |\n",
      "val: {'recall': 0.975232, 'recall_grapheme': 0.960504, 'recall_vowel': 0.98895, 'recall_consonant': 0.990969, 'acc_grapheme': 0.963696, 'acc_vowel': 0.990483, 'acc_consonant': 0.98939, 'loss_grapheme': 0.337907, 'loss_vowel': 0.204243, 'loss_consonant': 0.14634}\n",
      "  135 | 0.000031 | 143360/160596 | 2.9077 | 2.4878 |\n",
      "val: {'recall': 0.97558, 'recall_grapheme': 0.961469, 'recall_vowel': 0.98828, 'recall_consonant': 0.991103, 'acc_grapheme': 0.964765, 'acc_vowel': 0.990508, 'acc_consonant': 0.989315, 'loss_grapheme': 0.328456, 'loss_vowel': 0.202017, 'loss_consonant': 0.148088}\n"
     ]
    },
    {
     "name": "stdout",
     "output_type": "stream",
     "text": [
      "  138 | 0.000026 | 073728/160596 | 3.9503 | 2.5843 |\n",
      "val: {'recall': 0.975474, 'recall_grapheme': 0.961074, 'recall_vowel': 0.988482, 'recall_consonant': 0.991267, 'acc_grapheme': 0.964641, 'acc_vowel': 0.990657, 'acc_consonant': 0.989141, 'loss_grapheme': 0.370695, 'loss_vowel': 0.231021, 'loss_consonant': 0.164826}\n",
      "  141 | 0.000021 | 004096/160596 | 2.7880 | 2.6028 |\n",
      "val: {'recall': 0.975375, 'recall_grapheme': 0.960963, 'recall_vowel': 0.988673, 'recall_consonant': 0.990902, 'acc_grapheme': 0.963945, 'acc_vowel': 0.990582, 'acc_consonant': 0.989241, 'loss_grapheme': 0.334016, 'loss_vowel': 0.203607, 'loss_consonant': 0.151641}\n",
      "  143 | 0.000016 | 094208/160596 | 4.0996 | 2.6208 |\n",
      "val: {'recall': 0.975649, 'recall_grapheme': 0.96176, 'recall_vowel': 0.988424, 'recall_consonant': 0.990653, 'acc_grapheme': 0.965063, 'acc_vowel': 0.990632, 'acc_consonant': 0.98929, 'loss_grapheme': 0.328856, 'loss_vowel': 0.198059, 'loss_consonant': 0.148776}\n",
      "  145 | 0.000012 | 149504/160596 | 3.8078 | 2.4002 |"
     ]
    },
    {
     "ename": "KeyboardInterrupt",
     "evalue": "",
     "output_type": "error",
     "traceback": [
      "\u001b[0;31m---------------------------------------------------------------------------\u001b[0m",
      "\u001b[0;31mKeyboardInterrupt\u001b[0m                         Traceback (most recent call last)",
      "\u001b[0;32m<ipython-input-38-aad596905035>\u001b[0m in \u001b[0;36m<module>\u001b[0;34m\u001b[0m\n\u001b[0;32m----> 1\u001b[0;31m \u001b[0mtrain\u001b[0m\u001b[0;34m(\u001b[0m\u001b[0margs\u001b[0m\u001b[0;34m)\u001b[0m\u001b[0;34m\u001b[0m\u001b[0;34m\u001b[0m\u001b[0m\n\u001b[0m",
      "\u001b[0;32m<ipython-input-34-d7bd51ed77c0>\u001b[0m in \u001b[0;36mtrain\u001b[0;34m(args)\u001b[0m\n\u001b[1;32m     44\u001b[0m         \u001b[0;32mfor\u001b[0m \u001b[0mbatch_idx\u001b[0m\u001b[0;34m,\u001b[0m \u001b[0;34m(\u001b[0m\u001b[0mimg\u001b[0m\u001b[0;34m,\u001b[0m \u001b[0mtargets\u001b[0m\u001b[0;34m)\u001b[0m \u001b[0;32min\u001b[0m \u001b[0menumerate\u001b[0m\u001b[0;34m(\u001b[0m\u001b[0mtrain_loader\u001b[0m\u001b[0;34m)\u001b[0m\u001b[0;34m:\u001b[0m\u001b[0;34m\u001b[0m\u001b[0;34m\u001b[0m\u001b[0m\n\u001b[1;32m     45\u001b[0m             \u001b[0mtrain_iter\u001b[0m \u001b[0;34m+=\u001b[0m \u001b[0;36m1\u001b[0m\u001b[0;34m\u001b[0m\u001b[0;34m\u001b[0m\u001b[0m\n\u001b[0;32m---> 46\u001b[0;31m             \u001b[0mimg\u001b[0m\u001b[0;34m,\u001b[0m \u001b[0mtargets\u001b[0m  \u001b[0;34m=\u001b[0m \u001b[0mimg\u001b[0m\u001b[0;34m.\u001b[0m\u001b[0mcuda\u001b[0m\u001b[0;34m(\u001b[0m\u001b[0;34m)\u001b[0m\u001b[0;34m,\u001b[0m \u001b[0mtargets\u001b[0m\u001b[0;34m.\u001b[0m\u001b[0mcuda\u001b[0m\u001b[0;34m(\u001b[0m\u001b[0;34m)\u001b[0m\u001b[0;34m\u001b[0m\u001b[0;34m\u001b[0m\u001b[0m\n\u001b[0m\u001b[1;32m     47\u001b[0m             \u001b[0;31m#do_mixup = False #(np.random.random() < 0.4)\u001b[0m\u001b[0;34m\u001b[0m\u001b[0;34m\u001b[0m\u001b[0;34m\u001b[0m\u001b[0m\n\u001b[1;32m     48\u001b[0m \u001b[0;34m\u001b[0m\u001b[0m\n",
      "\u001b[0;31mKeyboardInterrupt\u001b[0m: "
     ]
    }
   ],
   "source": [
    "train(args)"
   ]
  },
  {
   "cell_type": "code",
   "execution_count": null,
   "metadata": {},
   "outputs": [],
   "source": []
  },
  {
   "cell_type": "code",
   "execution_count": null,
   "metadata": {},
   "outputs": [],
   "source": [
    "train(args)"
   ]
  },
  {
   "cell_type": "code",
   "execution_count": null,
   "metadata": {},
   "outputs": [],
   "source": [
    "#save_model(model, model_file)"
   ]
  },
  {
   "cell_type": "code",
   "execution_count": null,
   "metadata": {},
   "outputs": [],
   "source": [
    "del model"
   ]
  },
  {
   "cell_type": "code",
   "execution_count": null,
   "metadata": {},
   "outputs": [],
   "source": []
  },
  {
   "cell_type": "code",
   "execution_count": null,
   "metadata": {},
   "outputs": [],
   "source": []
  }
 ],
 "metadata": {
  "kernelspec": {
   "display_name": "Python 3",
   "language": "python",
   "name": "python3"
  },
  "language_info": {
   "codemirror_mode": {
    "name": "ipython",
    "version": 3
   },
   "file_extension": ".py",
   "mimetype": "text/x-python",
   "name": "python",
   "nbconvert_exporter": "python",
   "pygments_lexer": "ipython3",
   "version": "3.7.3"
  }
 },
 "nbformat": 4,
 "nbformat_minor": 2
}
