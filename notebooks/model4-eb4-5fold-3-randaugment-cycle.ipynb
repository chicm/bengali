{
 "cells": [
  {
   "cell_type": "code",
   "execution_count": 1,
   "metadata": {},
   "outputs": [],
   "source": [
    "import os\n",
    "import pandas as pd\n",
    "import numpy as np\n",
    "import time, gc\n",
    "import cv2\n",
    "import matplotlib.pyplot as plt\n",
    "import torch\n",
    "import torch.nn as nn\n",
    "import torch.nn.functional as F\n",
    "import torch.optim as optim\n",
    "import pretrainedmodels\n",
    "from argparse import Namespace\n",
    "from sklearn.utils import shuffle\n",
    "from apex import amp\n",
    "from sklearn.model_selection import StratifiedKFold\n",
    "from efficientnet_pytorch import EfficientNet\n",
    "from cvcore.data.auto_augment import RandAugment\n",
    "from PIL import Image\n",
    "from utils import bn_update, moving_average, copy_model\n"
   ]
  },
  {
   "cell_type": "code",
   "execution_count": 2,
   "metadata": {},
   "outputs": [
    {
     "name": "stdout",
     "output_type": "stream",
     "text": [
      "class_map.csv\t\t       train.csv\r\n",
      "sample_submission.csv\t       train.csv.zip\r\n",
      "test.csv\t\t       train_image_data_0.parquet\r\n",
      "test_image_data_0.parquet      train_image_data_0.parquet.zip\r\n",
      "test_image_data_0.parquet.zip  train_image_data_1.parquet\r\n",
      "test_image_data_1.parquet      train_image_data_1.parquet.zip\r\n",
      "test_image_data_1.parquet.zip  train_image_data_2.parquet\r\n",
      "test_image_data_2.parquet      train_image_data_2.parquet.zip\r\n",
      "test_image_data_2.parquet.zip  train_image_data_3.parquet\r\n",
      "test_image_data_3.parquet      train_image_data_3.parquet.zip\r\n",
      "test_image_data_3.parquet.zip\r\n"
     ]
    }
   ],
   "source": [
    "!ls /home/chec/data/bengali"
   ]
  },
  {
   "cell_type": "code",
   "execution_count": 3,
   "metadata": {},
   "outputs": [],
   "source": [
    "#!ls /home/chec/data/bengali"
   ]
  },
  {
   "cell_type": "code",
   "execution_count": 4,
   "metadata": {},
   "outputs": [],
   "source": [
    "DATA_DIR = '/home/chec/data/bengali'"
   ]
  },
  {
   "cell_type": "code",
   "execution_count": 5,
   "metadata": {},
   "outputs": [],
   "source": [
    "train_df = pd.read_csv(f'{DATA_DIR}/train.csv')\n",
    "test_df = pd.read_csv(f'{DATA_DIR}/test.csv')\n",
    "class_map_df = pd.read_csv(f'{DATA_DIR}/class_map.csv')\n",
    "sample_sub_df = pd.read_csv(f'{DATA_DIR}/sample_submission.csv')"
   ]
  },
  {
   "cell_type": "code",
   "execution_count": 6,
   "metadata": {},
   "outputs": [
    {
     "data": {
      "text/html": [
       "<div>\n",
       "<style scoped>\n",
       "    .dataframe tbody tr th:only-of-type {\n",
       "        vertical-align: middle;\n",
       "    }\n",
       "\n",
       "    .dataframe tbody tr th {\n",
       "        vertical-align: top;\n",
       "    }\n",
       "\n",
       "    .dataframe thead th {\n",
       "        text-align: right;\n",
       "    }\n",
       "</style>\n",
       "<table border=\"1\" class=\"dataframe\">\n",
       "  <thead>\n",
       "    <tr style=\"text-align: right;\">\n",
       "      <th></th>\n",
       "      <th>image_id</th>\n",
       "      <th>grapheme_root</th>\n",
       "      <th>vowel_diacritic</th>\n",
       "      <th>consonant_diacritic</th>\n",
       "      <th>grapheme</th>\n",
       "    </tr>\n",
       "  </thead>\n",
       "  <tbody>\n",
       "    <tr>\n",
       "      <th>0</th>\n",
       "      <td>Train_0</td>\n",
       "      <td>15</td>\n",
       "      <td>9</td>\n",
       "      <td>5</td>\n",
       "      <td>ক্ট্রো</td>\n",
       "    </tr>\n",
       "    <tr>\n",
       "      <th>1</th>\n",
       "      <td>Train_1</td>\n",
       "      <td>159</td>\n",
       "      <td>0</td>\n",
       "      <td>0</td>\n",
       "      <td>হ</td>\n",
       "    </tr>\n",
       "    <tr>\n",
       "      <th>2</th>\n",
       "      <td>Train_2</td>\n",
       "      <td>22</td>\n",
       "      <td>3</td>\n",
       "      <td>5</td>\n",
       "      <td>খ্রী</td>\n",
       "    </tr>\n",
       "    <tr>\n",
       "      <th>3</th>\n",
       "      <td>Train_3</td>\n",
       "      <td>53</td>\n",
       "      <td>2</td>\n",
       "      <td>2</td>\n",
       "      <td>র্টি</td>\n",
       "    </tr>\n",
       "    <tr>\n",
       "      <th>4</th>\n",
       "      <td>Train_4</td>\n",
       "      <td>71</td>\n",
       "      <td>9</td>\n",
       "      <td>5</td>\n",
       "      <td>থ্রো</td>\n",
       "    </tr>\n",
       "  </tbody>\n",
       "</table>\n",
       "</div>"
      ],
      "text/plain": [
       "  image_id  grapheme_root  vowel_diacritic  consonant_diacritic grapheme\n",
       "0  Train_0             15                9                    5   ক্ট্রো\n",
       "1  Train_1            159                0                    0        হ\n",
       "2  Train_2             22                3                    5     খ্রী\n",
       "3  Train_3             53                2                    2     র্টি\n",
       "4  Train_4             71                9                    5     থ্রো"
      ]
     },
     "execution_count": 6,
     "metadata": {},
     "output_type": "execute_result"
    }
   ],
   "source": [
    "train_df.head()"
   ]
  },
  {
   "cell_type": "code",
   "execution_count": 7,
   "metadata": {},
   "outputs": [],
   "source": [
    "HEIGHT = 137\n",
    "WIDTH = 236"
   ]
  },
  {
   "cell_type": "code",
   "execution_count": 8,
   "metadata": {},
   "outputs": [],
   "source": [
    "#import albumentations as albu\n",
    "def get_train_augs():\n",
    "    return RandAugment(n=2, m=27)"
   ]
  },
  {
   "cell_type": "code",
   "execution_count": 9,
   "metadata": {},
   "outputs": [],
   "source": [
    "#plt.imshow(x)"
   ]
  },
  {
   "cell_type": "code",
   "execution_count": 10,
   "metadata": {},
   "outputs": [],
   "source": [
    "from torch.utils.data import DataLoader, Dataset\n",
    "from torchvision import transforms\n",
    "\n",
    "\n",
    "class BengaliDataset(Dataset):\n",
    "    def __init__(self, df, img_df, train_mode=True, test_mode=False):\n",
    "        self.df = df\n",
    "        self.img_df = img_df\n",
    "        self.train_mode = train_mode\n",
    "        self.test_mode = test_mode\n",
    "\n",
    "    def __getitem__(self, idx):\n",
    "        row = self.df.iloc[idx]\n",
    "        img = self.get_img(row.image_id)\n",
    "        orig_img = img.copy()\n",
    "        #print(img.shape)\n",
    "        if self.train_mode:\n",
    "            augs = get_train_augs()\n",
    "            #img = augs(image=img)['image']\n",
    "            img = np.asarray(augs(Image.fromarray(img)))\n",
    "        \n",
    "        img = np.expand_dims(img, axis=-1)\n",
    "        orig_img = np.expand_dims(orig_img, axis=-1)\n",
    "        \n",
    "        #print('###', img.shape)\n",
    "        #img = np.concatenate([img, img, img], 2)\n",
    "        #print('>>>', img.shape)\n",
    "        \n",
    "        # taken from https://www.kaggle.com/iafoss/image-preprocessing-128x128\n",
    "        #MEAN = [ 0.06922848809290576,  0.06922848809290576,  0.06922848809290576]\n",
    "        #STD = [ 0.20515700083327537,  0.20515700083327537,  0.20515700083327537]\n",
    "        \n",
    "        img = transforms.functional.to_tensor(img)\n",
    "        orig_img = transforms.functional.to_tensor(orig_img)\n",
    "        \n",
    "        #img = transforms.functional.normalize(img, mean=MEAN, std=STD)\n",
    "        \n",
    "        if self.test_mode:\n",
    "            return img\n",
    "        elif self.train_mode:\n",
    "            return img, orig_img, torch.tensor([row.grapheme_root, row.vowel_diacritic, row.consonant_diacritic, row.word_label])\n",
    "        else:\n",
    "            return img, torch.tensor([row.grapheme_root, row.vowel_diacritic, row.consonant_diacritic, row.word_label])\n",
    "                    \n",
    "    def get_img(self, img_id):\n",
    "        return 255 - self.img_df.loc[img_id].values.reshape(HEIGHT, WIDTH).astype(np.uint8)\n",
    "\n",
    "    def __len__(self):\n",
    "        return len(self.df)\n",
    "    \n",
    "def get_train_val_loaders(batch_size=4, val_batch_size=4, ifold=0, dev_mode=False):\n",
    "    train_df = pd.read_csv(f'{DATA_DIR}/train.csv')\n",
    "\n",
    "    train_df = shuffle(train_df, random_state=1234)\n",
    "\n",
    "    grapheme_words = np.unique(train_df.grapheme.values)\n",
    "    grapheme_words_dict = {grapheme: i for i, grapheme in enumerate(grapheme_words)}\n",
    "    train_df['word_label'] = train_df['grapheme'].map(lambda x: grapheme_words_dict[x])\n",
    "\n",
    "    print(train_df.shape)\n",
    "\n",
    "    if dev_mode:\n",
    "        img_df = pd.read_parquet(f'{DATA_DIR}/train_image_data_0.parquet').set_index('image_id')\n",
    "        train_df = train_df.iloc[:1000]\n",
    "    else:\n",
    "        img_dfs = [pd.read_parquet(f'{DATA_DIR}/train_image_data_{i}.parquet') for i in range(4)]\n",
    "        img_df = pd.concat(img_dfs, axis=0).set_index('image_id')\n",
    "    print(img_df.shape)\n",
    "    #split_index = int(len(train_df) * 0.9)\n",
    "    \n",
    "    #train = train_df.iloc[:split_index]\n",
    "    #val = train_df.iloc[split_index:]\n",
    "    \n",
    "    kf = StratifiedKFold(5, random_state=1234, shuffle=True)\n",
    "    for i, (train_idx, val_idx) in enumerate(kf.split(train_df, train_df['grapheme_root'].values)):\n",
    "        if i == ifold:\n",
    "            #print(val_idx)\n",
    "            train = train_df.iloc[train_idx]\n",
    "            val = train_df.iloc[val_idx]\n",
    "            break\n",
    "    assert i == ifold\n",
    "    print(train.shape, val.shape)\n",
    "    \n",
    "    train_ds = BengaliDataset(train, img_df, True, False)\n",
    "    val_ds = BengaliDataset(val, img_df, False, False)\n",
    "    \n",
    "    train_loader = DataLoader(train_ds, batch_size=batch_size, shuffle=True, num_workers=8, drop_last=True)\n",
    "    train_loader.num = len(train_ds)\n",
    "\n",
    "    val_loader = DataLoader(val_ds, batch_size=val_batch_size, shuffle=False, num_workers=8, drop_last=False)\n",
    "    val_loader.num = len(val_ds)\n",
    "\n",
    "    return train_loader, val_loader"
   ]
  },
  {
   "cell_type": "code",
   "execution_count": 11,
   "metadata": {},
   "outputs": [],
   "source": [
    "#train_loader, val_loader = get_train_val_loaders()"
   ]
  },
  {
   "cell_type": "code",
   "execution_count": 12,
   "metadata": {},
   "outputs": [],
   "source": [
    "#for x in train_loader:\n",
    "#    print(x)\n",
    "#    break"
   ]
  },
  {
   "cell_type": "markdown",
   "metadata": {},
   "source": [
    "# model"
   ]
  },
  {
   "cell_type": "code",
   "execution_count": 13,
   "metadata": {},
   "outputs": [],
   "source": [
    "#import pretrainedmodels"
   ]
  },
  {
   "cell_type": "code",
   "execution_count": 14,
   "metadata": {},
   "outputs": [],
   "source": [
    "#model_name = 'resnet50' # could be fbresnet152 or inceptionresnetv2\n",
    "#model = pretrainedmodels.__dict__[model_name](num_classes=1000, pretrained='imagenet').cuda()\n",
    "#model.eval()"
   ]
  },
  {
   "cell_type": "code",
   "execution_count": null,
   "metadata": {},
   "outputs": [],
   "source": []
  },
  {
   "cell_type": "code",
   "execution_count": 15,
   "metadata": {},
   "outputs": [],
   "source": [
    "from argparse import Namespace\n",
    "import timm\n",
    "from timm.models.activations import Swish, Mish\n",
    "from timm.models.adaptive_avgmax_pool import SelectAdaptivePool2d\n",
    "\n",
    "MEAN = [ 0.06922848809290576 ]\n",
    "STD = [ 0.20515700083327537 ]\n",
    "\n",
    "class BengaliNet(nn.Module):\n",
    "    \"\"\"\n",
    "    EfficientNet B0-B8.\n",
    "    Args:\n",
    "        cfg (CfgNode): configs\n",
    "    \"\"\"\n",
    "    def __init__(self, cfg):\n",
    "        super(BengaliNet, self).__init__()\n",
    "        model_name = cfg.MODEL_NAME\n",
    "        pretrained = cfg.PRETRAINED\n",
    "        input_channels = cfg.IN_CHANNELS\n",
    "        pool_type = cfg.POOL_TYPE\n",
    "        drop_connect_rate = cfg.DROP_CONNECT\n",
    "        self.drop_rate = cfg.DROPOUT\n",
    "        cls_head = cfg.CLS_HEAD\n",
    "        num_total_classes = cfg.NUM_GRAPHEME_CLASSES + cfg.NUM_VOWEL_CLASSES + cfg.NUM_CONSONANT_CLASSES \\\n",
    "            + cfg.NUM_WORD_CLASSES\n",
    "\n",
    "        backbone = timm.create_model(\n",
    "            model_name=model_name,\n",
    "            pretrained=pretrained,\n",
    "            in_chans=input_channels,\n",
    "            drop_connect_rate=drop_connect_rate,\n",
    "        )\n",
    "        self.conv_stem = backbone.conv_stem\n",
    "        self.bn1 = backbone.bn1\n",
    "        self.act1 = backbone.act1\n",
    "        ### Original blocks ###\n",
    "        for i in range(len((backbone.blocks))):\n",
    "            setattr(self, \"block{}\".format(str(i)), backbone.blocks[i])\n",
    "        self.conv_head = backbone.conv_head\n",
    "        self.bn2 = backbone.bn2\n",
    "        self.act2 = backbone.act2\n",
    "        self.aux_block5 = backbone.blocks[5]\n",
    "        self.aux_num_features = self.block5[-1].bn3.num_features\n",
    "        self.aux_head4 = nn.Conv2d(self.aux_num_features, self.aux_num_features * 4, kernel_size=(1, 1), stride=(1, 1), bias=False)\n",
    "        self.bn4 = nn.BatchNorm2d(self.aux_num_features * 4)\n",
    "        self.act4 = Swish()\n",
    "        self.aux_head5 = nn.Conv2d(self.aux_num_features, self.aux_num_features * 4, kernel_size=(1, 1), stride=(1, 1), bias=False)\n",
    "        self.bn5 = nn.BatchNorm2d(self.aux_num_features * 4)\n",
    "        self.act5 = Swish()\n",
    "        self.global_pool = SelectAdaptivePool2d(pool_type=pool_type)\n",
    "        self.num_features = backbone.num_features * self.global_pool.feat_mult()\n",
    "        assert cls_head == 'linear'\n",
    "        if cls_head == \"linear\":\n",
    "            ### Baseline head ###\n",
    "            self.fc = nn.Linear(self.num_features, num_total_classes)            \n",
    "            self.aux_fc1 = nn.Linear(self.aux_num_features*4, num_total_classes)\n",
    "            self.aux_fc2 = nn.Linear(self.aux_num_features*4, num_total_classes)\n",
    "            \n",
    "            for fc in [self.fc, self.aux_fc1, self.aux_fc2]:\n",
    "                nn.init.zeros_(fc.bias.data)\n",
    "        elif cls_head == \"norm_softmax\":\n",
    "            ### NormSoftmax ###\n",
    "            self.grapheme_fc = NormSoftmax(self.num_features, num_grapheme_classes)\n",
    "            self.consonant_fc = NormSoftmax(self.num_features, num_consonant_classes)\n",
    "            self.vowel_fc = NormSoftmax(self.num_features, num_vowel_classes)\n",
    "        # Replace with Mish activation\n",
    "        if cfg.MODEL_ACTIVATION == \"mish\":\n",
    "            convert_swish_to_mish(self)\n",
    "        del backbone\n",
    "\n",
    "    def _features(self, x):\n",
    "        x = self.conv_stem(x)\n",
    "        x = self.bn1(x)\n",
    "        x = self.act1(x)\n",
    "        x = self.block0(x)\n",
    "        x = self.block1(x)\n",
    "        x = self.block2(x)\n",
    "        x = self.block3(x)\n",
    "        x = self.block4(x); b4 = x\n",
    "        x = self.block5(x); b4 = self.aux_block5(b4); b5 = x\n",
    "        x = self.block6(x)\n",
    "        x = self.conv_head(x); b4 = self.aux_head4(b4); b5 = self.aux_head5(b5)\n",
    "        x = self.bn2(x); b4 = self.bn4(b4); b5 = self.bn5(b5)\n",
    "        x = self.act2(x); b4 = self.act4(b4); b5 = self.act5(b5)\n",
    "        return b4, b5, x\n",
    "\n",
    "    def forward(self, x):\n",
    "        for i in range(len(x)):\n",
    "            transforms.functional.normalize(x[i], mean=MEAN, std=STD, inplace=True)\n",
    "\n",
    "        # _, _, x = self._features(x)\n",
    "        b4, b5, x = self._features(x)\n",
    "        x = self.global_pool(x); b4 = self.global_pool(b4); b5 = self.global_pool(b5)\n",
    "        x = torch.flatten(x, 1); b4 = torch.flatten(b4, 1); b5 = torch.flatten(b5, 1)\n",
    "        if self.drop_rate > 0.:\n",
    "            x = F.dropout(x, p=self.drop_rate, training=self.training)\n",
    "        logits = self.fc(x)\n",
    "        \n",
    "        aux_logits1 = self.aux_fc1(b4)\n",
    "        aux_logits2 = self.aux_fc2(b5)\n",
    "        \n",
    "        return logits, aux_logits1, aux_logits2"
   ]
  },
  {
   "cell_type": "code",
   "execution_count": null,
   "metadata": {},
   "outputs": [],
   "source": []
  },
  {
   "cell_type": "code",
   "execution_count": 16,
   "metadata": {},
   "outputs": [],
   "source": [
    "MODEL_DIR = './model4-ckps'\n",
    "def create_model(cfg):\n",
    "    model = BengaliNet(cfg)\n",
    "    model_file = os.path.join(MODEL_DIR, cfg.MODEL_NAME, cfg.CKP_NAME)\n",
    "\n",
    "    parent_dir = os.path.dirname(model_file)\n",
    "    if not os.path.exists(parent_dir):\n",
    "        os.makedirs(parent_dir)\n",
    "\n",
    "    print('model file: {}, exist: {}'.format(model_file, os.path.exists(model_file)))\n",
    "\n",
    "    if os.path.exists(model_file):\n",
    "        print('loading {}...'.format(model_file))\n",
    "        model.load_state_dict(torch.load(model_file))\n",
    "    \n",
    "    return model, model_file"
   ]
  },
  {
   "cell_type": "code",
   "execution_count": 17,
   "metadata": {},
   "outputs": [],
   "source": [
    "#bnet = BengaliNet('se_resnext50_32x4d').cuda()"
   ]
  },
  {
   "cell_type": "code",
   "execution_count": 18,
   "metadata": {},
   "outputs": [],
   "source": [
    "#bnet(torch.randn((2, 1, 137, 236)).cuda()).size()"
   ]
  },
  {
   "cell_type": "markdown",
   "metadata": {},
   "source": [
    "# train"
   ]
  },
  {
   "cell_type": "code",
   "execution_count": 19,
   "metadata": {},
   "outputs": [
    {
     "data": {
      "text/plain": [
       "0.111111"
      ]
     },
     "execution_count": 19,
     "metadata": {},
     "output_type": "execute_result"
    }
   ],
   "source": [
    "round(1/9, 6)"
   ]
  },
  {
   "cell_type": "code",
   "execution_count": 20,
   "metadata": {},
   "outputs": [],
   "source": [
    "import numpy as np\n",
    "import sklearn.metrics\n",
    "import torch\n",
    "\n",
    "\n",
    "def calc_metrics(preds0, preds1, preds2, preds3, y):\n",
    "    assert len(y) == len(preds0) == len(preds1) == len(preds2) == len(preds3)\n",
    "\n",
    "    recall_grapheme = sklearn.metrics.recall_score(preds0, y[:, 0], average='macro')\n",
    "    recall_vowel = sklearn.metrics.recall_score(preds1, y[:, 1], average='macro')\n",
    "    recall_consonant = sklearn.metrics.recall_score(preds2, y[:, 2], average='macro')\n",
    "    recall_word = sklearn.metrics.recall_score(preds3, y[:, 3], average='macro')\n",
    "    \n",
    "    scores = [recall_grapheme, recall_vowel, recall_consonant]\n",
    "    final_recall_score = np.average(scores, weights=[2, 1, 1])\n",
    "    \n",
    "    metrics = {}\n",
    "    metrics['recall'] = round(final_recall_score, 6)\n",
    "    metrics['recall_grapheme'] = round(recall_grapheme, 6)\n",
    "    metrics['recall_vowel'] = round(recall_vowel, 6)\n",
    "    metrics['recall_consonant'] = round(recall_consonant, 6)\n",
    "    metrics['recall_word'] = round(recall_word, 6)\n",
    "    \n",
    "    metrics['acc_grapheme'] = round((preds0 == y[:, 0]).sum() / len(y), 6)\n",
    "    metrics['acc_vowel'] = round((preds1 == y[:, 1]).sum() / len(y), 6)\n",
    "    metrics['acc_consonant'] = round((preds2 == y[:, 2]).sum() / len(y), 6)\n",
    "    metrics['acc_word'] = round((preds3 == y[:, 3]).sum() / len(y), 6)    \n",
    "    \n",
    "    return metrics"
   ]
  },
  {
   "cell_type": "code",
   "execution_count": 21,
   "metadata": {},
   "outputs": [],
   "source": [
    "def criterion(outputs, y_true):\n",
    "    # outputs: (N, 182)\n",
    "    # y_true: (N, 3)\n",
    "    \n",
    "    outputs = torch.split(outputs, [168, 11, 7, 1295], dim=1)\n",
    "    loss0 = F.cross_entropy(outputs[0], y_true[:, 0], reduction='mean')\n",
    "    loss1 = F.cross_entropy(outputs[1], y_true[:, 1], reduction='mean')\n",
    "    loss2 = F.cross_entropy(outputs[2], y_true[:, 2], reduction='mean')\n",
    "    loss3 = F.cross_entropy(outputs[3], y_true[:, 3], reduction='mean')\n",
    "    \n",
    "    return loss0 + loss1 + loss2 + loss3 #, loss0.item(), loss1.item(), loss2.item()"
   ]
  },
  {
   "cell_type": "code",
   "execution_count": 22,
   "metadata": {},
   "outputs": [],
   "source": [
    "def validate(model, val_loader):\n",
    "    model.eval()\n",
    "    loss0, loss1, loss2, loss3 = 0., 0., 0., 0.\n",
    "    preds0, preds1, preds2, preds3 = [], [], [], []\n",
    "    y_true = []\n",
    "    with torch.no_grad():\n",
    "        for x, y in val_loader:\n",
    "            y_true.append(y)\n",
    "            x, y = x.cuda(), y.cuda()\n",
    "            outputs, _, _ = model(x)\n",
    "            outputs = torch.split(outputs, [168, 11, 7, 1295], dim=1)\n",
    "            \n",
    "            preds0.append(torch.max(outputs[0], dim=1)[1])\n",
    "            preds1.append(torch.max(outputs[1], dim=1)[1])\n",
    "            preds2.append(torch.max(outputs[2], dim=1)[1])\n",
    "            preds3.append(torch.max(outputs[3], dim=1)[1])\n",
    "            loss0 += F.cross_entropy(outputs[0], y[:, 0], reduction='sum').item()\n",
    "            loss1 += F.cross_entropy(outputs[1], y[:, 1], reduction='sum').item()\n",
    "            loss2 += F.cross_entropy(outputs[2], y[:, 2], reduction='sum').item()\n",
    "            loss3 += F.cross_entropy(outputs[3], y[:, 3], reduction='sum').item()\n",
    "            \n",
    "            # for debug\n",
    "            #metrics = {}\n",
    "            #metrics['loss_grapheme'] =  F.cross_entropy(outputs[0], y[:, 0], reduction='mean').item()\n",
    "            #metrics['loss_vowel'] =  F.cross_entropy(outputs[1], y[:, 1], reduction='mean').item()\n",
    "            #metrics['loss_consonant'] =  F.cross_entropy(outputs[2], y[:, 2], reduction='mean').item()\n",
    "            #return metrics\n",
    "    \n",
    "    preds0 = torch.cat(preds0, 0).cpu().numpy()\n",
    "    preds1 = torch.cat(preds1, 0).cpu().numpy()\n",
    "    preds2 = torch.cat(preds2, 0).cpu().numpy()\n",
    "    preds3 = torch.cat(preds3, 0).cpu().numpy()\n",
    "    \n",
    "    y_true = torch.cat(y_true, 0).numpy()\n",
    "    \n",
    "    #print('y_true:', y_true.shape)\n",
    "    #print('preds0:', preds0.shape)\n",
    "    \n",
    "    metrics = calc_metrics(preds0, preds1, preds2, preds3, y_true)\n",
    "    metrics['loss_grapheme'] = round(loss0 / val_loader.num, 6)\n",
    "    metrics['loss_vowel'] = round(loss1 / val_loader.num, 6)\n",
    "    metrics['loss_consonant'] = round(loss2 / val_loader.num, 6)\n",
    "    metrics['loss_word'] = round(loss3 / val_loader.num, 6)\n",
    "    \n",
    "    return metrics\n",
    "            "
   ]
  },
  {
   "cell_type": "code",
   "execution_count": null,
   "metadata": {},
   "outputs": [],
   "source": []
  },
  {
   "cell_type": "code",
   "execution_count": 23,
   "metadata": {},
   "outputs": [],
   "source": [
    "def get_lrs(optimizer):\n",
    "    lrs = []\n",
    "    for pgs in optimizer.state_dict()['param_groups']:\n",
    "        lrs.append(pgs['lr'])\n",
    "    lrs = ['{:.6f}'.format(x) for x in lrs]\n",
    "    return lrs"
   ]
  },
  {
   "cell_type": "code",
   "execution_count": 24,
   "metadata": {},
   "outputs": [],
   "source": [
    "def save_model(model, model_file):\n",
    "    parent_dir = os.path.dirname(model_file)\n",
    "    if not os.path.exists(parent_dir):\n",
    "        os.makedirs(parent_dir)\n",
    "    if isinstance(model, nn.DataParallel):\n",
    "        torch.save(model.module.state_dict(), model_file)\n",
    "    else:\n",
    "        torch.save(model.state_dict(), model_file)"
   ]
  },
  {
   "cell_type": "code",
   "execution_count": 25,
   "metadata": {},
   "outputs": [],
   "source": [
    "def mixup(data, targets, alpha=1):\n",
    "    indices = torch.randperm(data.size(0))\n",
    "    shuffled_data = data[indices]\n",
    "    shuffled_targets = targets[indices]\n",
    "\n",
    "    lam = np.random.beta(alpha, alpha)\n",
    "    data = data * lam + shuffled_data * (1 - lam)\n",
    "    targets = (targets, shuffled_targets, lam)\n",
    "\n",
    "    return data, targets\n",
    "\n",
    "\n",
    "def mixup_criterion(outputs, targets):\n",
    "    targets1, targets2, lam = targets\n",
    "    #criterion = nn.CrossEntropyLoss(reduction='mean')\n",
    "    return lam * criterion(outputs, targets1) + (1 - lam) * criterion(outputs, targets2)"
   ]
  },
  {
   "cell_type": "code",
   "execution_count": 26,
   "metadata": {},
   "outputs": [],
   "source": [
    "def rand_bbox(size, lam):\n",
    "    W = size[2]\n",
    "    H = size[3]\n",
    "    cut_rat = np.sqrt(1. - lam)\n",
    "    cut_w = np.int(W * cut_rat)\n",
    "    cut_h = np.int(H * cut_rat)\n",
    "\n",
    "    # uniform\n",
    "    cx = np.random.randint(W)\n",
    "    cy = np.random.randint(H)\n",
    "\n",
    "    bbx1 = np.clip(cx - cut_w // 2, 0, W)\n",
    "    bby1 = np.clip(cy - cut_h // 2, 0, H)\n",
    "    bbx2 = np.clip(cx + cut_w // 2, 0, W)\n",
    "    bby2 = np.clip(cy + cut_h // 2, 0, H)\n",
    "\n",
    "    return bbx1, bby1, bbx2, bby2"
   ]
  },
  {
   "cell_type": "code",
   "execution_count": 27,
   "metadata": {},
   "outputs": [],
   "source": [
    "def rand_bbox_new(size, lam):\n",
    "    H = size[2]\n",
    "    W = size[3]\n",
    "\n",
    "    x_margin_rate = 0.2\n",
    "\n",
    "    cut_rat = np.sqrt(1. - lam)\n",
    "    cut_w = np.int(W * (1-x_margin_rate*2) * cut_rat)\n",
    "    cut_h = np.int(H * cut_rat)\n",
    "    \n",
    "    min_x_center = np.int(W * x_margin_rate + cut_w / 2)\n",
    "    max_x_center = np.int(W * (1-x_margin_rate) - cut_w / 2)\n",
    "    #print(min_x_center, max_x_center, lam, cut_w)\n",
    "    min_y_center = cut_h // 2\n",
    "    max_y_center = H - cut_h // 2\n",
    "    if max_y_center == min_y_center:\n",
    "        max_y_center += 1\n",
    "\n",
    "    # uniform\n",
    "    cx = np.random.randint(min_x_center, max_x_center)\n",
    "    cy = np.random.randint(min_y_center, max_y_center)\n",
    "\n",
    "    bbx1 = np.clip(cx - cut_w // 2, 0, W)\n",
    "    bby1 = np.clip(cy - cut_h // 2, 0, H)\n",
    "    bbx2 = np.clip(cx + cut_w // 2, 0, W)\n",
    "    bby2 = np.clip(cy + cut_h // 2, 0, H)\n",
    "    \n",
    "    #print(bbx1, bbx2, bby1, bby2)\n",
    "\n",
    "    return bbx1, bby1, bbx2, bby2"
   ]
  },
  {
   "cell_type": "code",
   "execution_count": 28,
   "metadata": {},
   "outputs": [
    {
     "data": {
      "text/plain": [
       "0.4769354463088247"
      ]
     },
     "execution_count": 28,
     "metadata": {},
     "output_type": "execute_result"
    }
   ],
   "source": [
    "np.random.random()"
   ]
  },
  {
   "cell_type": "code",
   "execution_count": 29,
   "metadata": {},
   "outputs": [],
   "source": [
    "from over9000.over9000 import Over9000\n",
    "from over9000.radam import RAdam\n",
    "from gridmask import GridMask"
   ]
  },
  {
   "cell_type": "code",
   "execution_count": 30,
   "metadata": {},
   "outputs": [],
   "source": [
    "from cvcore.solver import WarmupCyclicalLR\n",
    "def make_optimizer(model, base_lr=4e-4, weight_decay=0., weight_decay_bias=0., epsilon=1e-3):\n",
    "    \"\"\"\n",
    "    Create optimizer with per-layer learning rate and weight decay.\n",
    "    \"\"\"\n",
    "    params = []\n",
    "    for key, value in model.named_parameters():\n",
    "        if not value.requires_grad:\n",
    "            continue\n",
    "        lr = base_lr\n",
    "        params += [{\"params\": [value], \"lr\": lr, \"weight_decay\": weight_decay_bias if 'bias' in key else weight_decay}]\n",
    "    \n",
    "    optimizer = torch.optim.AdamW(params, lr, eps=epsilon)\n",
    "    return optimizer"
   ]
  },
  {
   "cell_type": "code",
   "execution_count": 31,
   "metadata": {},
   "outputs": [],
   "source": [
    "def train_epoch(args, model, train_loader, epoch, optimizer, lr_scheduler, grid):\n",
    "    train_loss = 0\n",
    "\n",
    "    for batch_idx, (img, orig_img, targets) in enumerate(train_loader):\n",
    "        img, orig_img, targets  = img.cuda(), orig_img.cuda(), targets.cuda()\n",
    "        batch_size = img.size(0)\n",
    "        r = np.random.rand()\n",
    "\n",
    "        #if True:\n",
    "        if r < 0.3:\n",
    "            # generate mixed sample\n",
    "            lam = np.random.beta(args.beta, args.beta)\n",
    "            rand_index = torch.randperm(img.size()[0]).cuda()\n",
    "            target_a = targets\n",
    "            target_b = targets[rand_index]\n",
    "            bbx1, bby1, bbx2, bby2 = rand_bbox(img.size(), lam)\n",
    "            #img[:, :, bby1:bby2, bbx1:bbx2] = img[rand_index, :, bby1:bby2, bbx1:bbx2] #for new cutmix\n",
    "            img[:, :, bbx1:bbx2, bby1:bby2] = img[rand_index, :, bbx1:bbx2, bby1:bby2]\n",
    "            \n",
    "            # adjust lambda to exactly match pixel ratio\n",
    "            lam = 1 - ((bbx2 - bbx1) * (bby2 - bby1) / (img.size()[-1] * img.size()[-2]))\n",
    "            # compute output\n",
    "            outputs, outputs_aux1, outputs_aux2 = model(img)\n",
    "            loss_primary = criterion(outputs, target_a) * lam + criterion(outputs, target_b) * (1. - lam)\n",
    "            loss_aux1 = criterion(outputs_aux1, target_a) * lam + criterion(outputs_aux1, target_b) * (1. - lam)\n",
    "            loss_aux2 = criterion(outputs_aux2, target_a) * lam + criterion(outputs_aux2, target_b) * (1. - lam)\n",
    "            loss = loss_primary + (loss_aux1 + loss_aux2)*0.8\n",
    "        elif r > 0.7:\n",
    "            img = grid(img)\n",
    "            outputs, outputs_aux1, outputs_aux2 = model(img)\n",
    "            loss_primary = criterion(outputs, targets)\n",
    "            loss_aux1 = criterion(outputs_aux1, targets)\n",
    "            loss_aux2 = criterion(outputs_aux2, targets)\n",
    "            loss = loss_primary + (loss_aux1 + loss_aux2)*0.8\n",
    "        else:\n",
    "            orig_img, targets = mixup(orig_img, targets)\n",
    "            outputs, outputs_aux1, outputs_aux2 = model(orig_img)\n",
    "            loss_primary = mixup_criterion(outputs, targets)\n",
    "            loss_aux1 = mixup_criterion(outputs_aux1, targets)\n",
    "            loss_aux2 = mixup_criterion(outputs_aux2, targets)\n",
    "            loss = loss_primary + (loss_aux1 + loss_aux2)*0.8\n",
    "            #loss = criterion(outputs, targets)\n",
    "\n",
    "        optimizer.zero_grad()\n",
    "        with amp.scale_loss(loss, optimizer) as scaled_loss:\n",
    "            scaled_loss.backward()\n",
    "        #loss.backward()\n",
    "        lr_scheduler(optimizer, batch_idx, epoch)\n",
    "        optimizer.step()            \n",
    "        \n",
    "        current_lr = get_lrs(optimizer)\n",
    "\n",
    "        train_loss += loss.item()\n",
    "        print('\\r {:4d} | {:.6f} | {:06d}/{} | {:.4f} | {:.4f} |'.format(\n",
    "            epoch, float(current_lr[0]), batch_size*(batch_idx+1), train_loader.num, \n",
    "            loss.item(), train_loss/(batch_idx+1)), end='')\n"
   ]
  },
  {
   "cell_type": "code",
   "execution_count": 32,
   "metadata": {},
   "outputs": [],
   "source": [
    "best_metrics = 0.\n",
    "\n",
    "def validate_and_save(model, model_file, val_loader, save=False):\n",
    "    global best_metrics\n",
    "    best_key = 'recall'\n",
    "    val_metrics = validate(model, val_loader)\n",
    "    print('\\nval:', val_metrics)\n",
    "    \n",
    "    if val_metrics[best_key] > best_metrics:\n",
    "        best_metrics = val_metrics[best_key]\n",
    "        if save:\n",
    "            save_model(model, model_file)\n",
    "            print('###>>>>> saved', model_file)\n",
    "    model.train()\n",
    "    \n",
    "\n",
    "def train(args):\n",
    "    model, model_file = create_model(cfg)\n",
    "    model = model.cuda()\n",
    "\n",
    "    swa_model, _ = create_model(cfg)\n",
    "    swa_model = swa_model.cuda()\n",
    "    swa_model_file = model_file\n",
    "\n",
    "    optimizer = make_optimizer(model)\n",
    "    lr_scheduler = WarmupCyclicalLR(\n",
    "        \"cos\", args.base_lr, args.num_epochs, iters_per_epoch=len(train_loader), warmup_epochs=args.warmup_epochs)\n",
    "    \n",
    "    [model, swa_model], optimizer = amp.initialize([model, swa_model], optimizer, opt_level=\"O1\",verbosity=0)\n",
    "    \n",
    "    if torch.cuda.device_count() > 1:\n",
    "        model = nn.DataParallel(model)\n",
    "        swa_model = nn.DataParallel(swa_model)\n",
    "    \n",
    "    validate_and_save(model, model_file, val_loader, save=False)\n",
    "    \n",
    "    for cycle in range(1, args.num_cycles+1):\n",
    "        print('CYCLE:', cycle)\n",
    "        grid = GridMask(64, 128, rotate=15, ratio=0.6, mode=1, prob=1.)\n",
    "\n",
    "        for epoch in range(args.num_epochs):\n",
    "            grid.set_prob(epoch, args.st_epochs)\n",
    "            train_epoch(args, model, train_loader, epoch, optimizer, lr_scheduler, grid)\n",
    "            validate_and_save(model, model_file, val_loader, save=True)\n",
    "            \n",
    "            if (epoch+1) == args.swa_start and cycle == 1:\n",
    "                copy_model(swa_model, model)\n",
    "                swa_n = 0\n",
    "            if (epoch+1) >= args.swa_start and (epoch+1) % args.swa_freq == 0:\n",
    "                print('SWA>>>:')\n",
    "                moving_average(swa_model, model, 1.0 / (swa_n + 1))\n",
    "                swa_n += 1\n",
    "                bn_update(train_loader, swa_model)\n",
    "                validate_and_save(swa_model, swa_model_file, val_loader, save=True)\n",
    "\n",
    "        #args.base_lr = 4e-4\n",
    "        #args.num_epochs = 80\n",
    "        #args.warmup_epochs = 100\n",
    "\n",
    "        # reset scheduler at each cycle\n",
    "        lr_scheduler = WarmupCyclicalLR(\n",
    "            \"cos\", args.base_lr, args.num_epochs, iters_per_epoch=len(train_loader), warmup_epochs=args.warmup_epochs)"
   ]
  },
  {
   "cell_type": "code",
   "execution_count": null,
   "metadata": {},
   "outputs": [],
   "source": []
  },
  {
   "cell_type": "code",
   "execution_count": 33,
   "metadata": {},
   "outputs": [],
   "source": [
    "cfg = Namespace()\n",
    "cfg.MODEL_NAME = 'tf_efficientnet_b4'\n",
    "cfg.PRETRAINED = True\n",
    "cfg.IN_CHANNELS = 1\n",
    "cfg.POOL_TYPE = 'avg'\n",
    "cfg.CLS_HEAD = 'linear'\n",
    "cfg.MODEL_ACTIVATION = 'swish'\n",
    "cfg.DROP_CONNECT = 0.2\n",
    "cfg.DROPOUT= 0.\n",
    "cfg.NUM_WORD_CLASSES = 1295\n",
    "cfg.NUM_GRAPHEME_CLASSES = 168\n",
    "cfg.NUM_VOWEL_CLASSES = 11\n",
    "cfg.NUM_CONSONANT_CLASSES = 7\n",
    "cfg.CKP_NAME = 'model4_eb4_fold3.pth'"
   ]
  },
  {
   "cell_type": "code",
   "execution_count": 34,
   "metadata": {},
   "outputs": [],
   "source": [
    "#model, model_file = create_model(cfg)\n",
    "#model(torch.randn(2,1,137,236))[0].size()"
   ]
  },
  {
   "cell_type": "code",
   "execution_count": 35,
   "metadata": {},
   "outputs": [],
   "source": [
    "args = Namespace()\n",
    "\n",
    "args.base_lr = 3e-4\n",
    "args.num_epochs = 100\n",
    "args.warmup_epochs = 5\n",
    "args.num_cycles = 100\n",
    "args.batch_size = 640\n",
    "args.val_batch_size = 1024\n",
    "args.st_epochs = 5\n",
    "\n",
    "args.swa_start = 15\n",
    "args.swa_freq = 3\n",
    "\n",
    "args.beta = 1.0\n",
    "args.cutmix_prob = 0.5"
   ]
  },
  {
   "cell_type": "code",
   "execution_count": 36,
   "metadata": {},
   "outputs": [
    {
     "name": "stdout",
     "output_type": "stream",
     "text": [
      "(200840, 6)\n",
      "(200840, 32332)\n",
      "(160716, 6) (40124, 6)\n"
     ]
    }
   ],
   "source": [
    "train_loader, val_loader = get_train_val_loaders(batch_size=args.batch_size, val_batch_size=args.val_batch_size, ifold=3)"
   ]
  },
  {
   "cell_type": "code",
   "execution_count": null,
   "metadata": {},
   "outputs": [],
   "source": []
  },
  {
   "cell_type": "code",
   "execution_count": null,
   "metadata": {},
   "outputs": [],
   "source": []
  },
  {
   "cell_type": "code",
   "execution_count": 37,
   "metadata": {},
   "outputs": [
    {
     "name": "stdout",
     "output_type": "stream",
     "text": [
      "model file: ./model4-ckps/tf_efficientnet_b4/model4_eb4_fold3.pth, exist: True\n",
      "loading ./model4-ckps/tf_efficientnet_b4/model4_eb4_fold3.pth...\n",
      "model file: ./model4-ckps/tf_efficientnet_b4/model4_eb4_fold3.pth, exist: True\n",
      "loading ./model4-ckps/tf_efficientnet_b4/model4_eb4_fold3.pth...\n",
      "\n",
      "val: {'recall': 0.997677, 'recall_grapheme': 0.996545, 'recall_vowel': 0.998518, 'recall_consonant': 0.999102, 'recall_word': 0.996328, 'acc_grapheme': 0.996212, 'acc_vowel': 0.99843, 'acc_consonant': 0.998928, 'acc_word': 0.996411, 'loss_grapheme': 0.04441, 'loss_vowel': 0.032399, 'loss_consonant': 0.022829, 'loss_word': 0.034176}\n",
      "CYCLE: 1\n",
      "    0 | 0.000060 | 160640/160716 | 12.7886 | 7.6774 |\n",
      "val: {'recall': 0.997053, 'recall_grapheme': 0.995473, 'recall_vowel': 0.998275, 'recall_consonant': 0.998993, 'recall_word': 0.994994, 'acc_grapheme': 0.994667, 'acc_vowel': 0.998181, 'acc_consonant': 0.998554, 'acc_word': 0.994916, 'loss_grapheme': 0.06381, 'loss_vowel': 0.045205, 'loss_consonant': 0.029698, 'loss_word': 0.067159}\n",
      "    1 | 0.000120 | 160640/160716 | 9.4222 | 6.5124 |||\n",
      "val: {'recall': 0.996747, 'recall_grapheme': 0.995008, 'recall_vowel': 0.998147, 'recall_consonant': 0.998826, 'recall_word': 0.993918, 'acc_grapheme': 0.994043, 'acc_vowel': 0.998006, 'acc_consonant': 0.99833, 'acc_word': 0.993869, 'loss_grapheme': 0.064236, 'loss_vowel': 0.04339, 'loss_consonant': 0.02991, 'loss_word': 0.057383}\n",
      "    2 | 0.000179 | 160640/160716 | 1.9155 | 5.8401 ||\n",
      "val: {'recall': 0.997325, 'recall_grapheme': 0.995867, 'recall_vowel': 0.998618, 'recall_consonant': 0.998948, 'recall_word': 0.995453, 'acc_grapheme': 0.995539, 'acc_vowel': 0.998505, 'acc_consonant': 0.998729, 'acc_word': 0.995489, 'loss_grapheme': 0.041447, 'loss_vowel': 0.027869, 'loss_consonant': 0.020125, 'loss_word': 0.041294}\n",
      "    3 | 0.000239 | 160640/160716 | 7.7318 | 5.8267 |||\n",
      "val: {'recall': 0.996944, 'recall_grapheme': 0.995176, 'recall_vowel': 0.998498, 'recall_consonant': 0.998925, 'recall_word': 0.99497, 'acc_grapheme': 0.994766, 'acc_vowel': 0.998106, 'acc_consonant': 0.998629, 'acc_word': 0.994916, 'loss_grapheme': 0.049908, 'loss_vowel': 0.032508, 'loss_consonant': 0.021794, 'loss_word': 0.047656}\n",
      "    4 | 0.000298 | 160640/160716 | 7.7970 | 5.6755 |||\n",
      "val: {'recall': 0.997131, 'recall_grapheme': 0.995606, 'recall_vowel': 0.998407, 'recall_consonant': 0.998906, 'recall_word': 0.994854, 'acc_grapheme': 0.995165, 'acc_vowel': 0.998131, 'acc_consonant': 0.998579, 'acc_word': 0.994816, 'loss_grapheme': 0.029762, 'loss_vowel': 0.018004, 'loss_consonant': 0.012781, 'loss_word': 0.028816}\n",
      "    5 | 0.000297 | 160640/160716 | 0.2992 | 5.5662 |||\n",
      "val: {'recall': 0.99723, 'recall_grapheme': 0.9958, 'recall_vowel': 0.998318, 'recall_consonant': 0.999002, 'recall_word': 0.995373, 'acc_grapheme': 0.995888, 'acc_vowel': 0.99823, 'acc_consonant': 0.998729, 'acc_word': 0.995414, 'loss_grapheme': 0.026629, 'loss_vowel': 0.016463, 'loss_consonant': 0.01179, 'loss_word': 0.026926}\n",
      "    6 | 0.000296 | 160640/160716 | 12.2865 | 5.3097 |\n",
      "val: {'recall': 0.997208, 'recall_grapheme': 0.995815, 'recall_vowel': 0.998483, 'recall_consonant': 0.99872, 'recall_word': 0.99549, 'acc_grapheme': 0.995763, 'acc_vowel': 0.99838, 'acc_consonant': 0.998779, 'acc_word': 0.995564, 'loss_grapheme': 0.027391, 'loss_vowel': 0.015616, 'loss_consonant': 0.011747, 'loss_word': 0.026205}\n",
      "    7 | 0.000295 | 160640/160716 | 5.6603 | 5.0935 ||\n",
      "val: {'recall': 0.997573, 'recall_grapheme': 0.996311, 'recall_vowel': 0.998474, 'recall_consonant': 0.999194, 'recall_word': 0.995693, 'acc_grapheme': 0.996237, 'acc_vowel': 0.998355, 'acc_consonant': 0.998953, 'acc_word': 0.995713, 'loss_grapheme': 0.032489, 'loss_vowel': 0.021606, 'loss_consonant': 0.014609, 'loss_word': 0.032379}\n",
      "    8 | 0.000294 | 160640/160716 | 13.5452 | 5.2822 |\n",
      "val: {'recall': 0.997366, 'recall_grapheme': 0.996122, 'recall_vowel': 0.998138, 'recall_consonant': 0.999083, 'recall_word': 0.995509, 'acc_grapheme': 0.995788, 'acc_vowel': 0.998255, 'acc_consonant': 0.998854, 'acc_word': 0.995514, 'loss_grapheme': 0.034391, 'loss_vowel': 0.02197, 'loss_consonant': 0.014822, 'loss_word': 0.034236}\n",
      "    9 | 0.000293 | 160640/160716 | 12.8984 | 6.0613 |\n",
      "val: {'recall': 0.997268, 'recall_grapheme': 0.995847, 'recall_vowel': 0.998244, 'recall_consonant': 0.999134, 'recall_word': 0.995087, 'acc_grapheme': 0.995389, 'acc_vowel': 0.998255, 'acc_consonant': 0.998804, 'acc_word': 0.99509, 'loss_grapheme': 0.031972, 'loss_vowel': 0.019111, 'loss_consonant': 0.013937, 'loss_word': 0.031845}\n",
      "   10 | 0.000291 | 160640/160716 | 0.3362 | 6.0204 |||\n",
      "val: {'recall': 0.997282, 'recall_grapheme': 0.99583, 'recall_vowel': 0.9983, 'recall_consonant': 0.999167, 'recall_word': 0.995607, 'acc_grapheme': 0.995688, 'acc_vowel': 0.99828, 'acc_consonant': 0.998804, 'acc_word': 0.995614, 'loss_grapheme': 0.022615, 'loss_vowel': 0.012222, 'loss_consonant': 0.009346, 'loss_word': 0.021767}\n",
      "   11 | 0.000289 | 160640/160716 | 3.7733 | 5.6869 ||\n",
      "val: {'recall': 0.997467, 'recall_grapheme': 0.99623, 'recall_vowel': 0.9983, 'recall_consonant': 0.999107, 'recall_word': 0.995762, 'acc_grapheme': 0.996212, 'acc_vowel': 0.99843, 'acc_consonant': 0.998804, 'acc_word': 0.995813, 'loss_grapheme': 0.018934, 'loss_vowel': 0.009754, 'loss_consonant': 0.006618, 'loss_word': 0.019203}\n",
      "   12 | 0.000288 | 160640/160716 | 3.3636 | 5.4058 ||\n",
      "val: {'recall': 0.997829, 'recall_grapheme': 0.996842, 'recall_vowel': 0.998603, 'recall_consonant': 0.999031, 'recall_word': 0.995964, 'acc_grapheme': 0.996461, 'acc_vowel': 0.99848, 'acc_consonant': 0.998953, 'acc_word': 0.996037, 'loss_grapheme': 0.021639, 'loss_vowel': 0.012899, 'loss_consonant': 0.008944, 'loss_word': 0.021105}\n",
      "###>>>>> saved ./model4-ckps/tf_efficientnet_b4/model4_eb4_fold3.pth\n",
      "   13 | 0.000286 | 160640/160716 | 3.9237 | 5.6432 ||\n",
      "val: {'recall': 0.997159, 'recall_grapheme': 0.995586, 'recall_vowel': 0.998432, 'recall_consonant': 0.999034, 'recall_word': 0.995383, 'acc_grapheme': 0.995663, 'acc_vowel': 0.998255, 'acc_consonant': 0.998729, 'acc_word': 0.995389, 'loss_grapheme': 0.030109, 'loss_vowel': 0.018179, 'loss_consonant': 0.012233, 'loss_word': 0.030583}\n",
      "   14 | 0.000284 | 160640/160716 | 0.3969 | 5.1108 ||"
     ]
    },
    {
     "name": "stderr",
     "output_type": "stream",
     "text": [
      "\r",
      "  0%|          | 0/251 [00:00<?, ?it/s]"
     ]
    },
    {
     "name": "stdout",
     "output_type": "stream",
     "text": [
      "\n",
      "val: {'recall': 0.997511, 'recall_grapheme': 0.996246, 'recall_vowel': 0.998392, 'recall_consonant': 0.999158, 'recall_word': 0.995686, 'acc_grapheme': 0.996012, 'acc_vowel': 0.998355, 'acc_consonant': 0.999003, 'acc_word': 0.995688, 'loss_grapheme': 0.031002, 'loss_vowel': 0.019486, 'loss_consonant': 0.013525, 'loss_word': 0.029986}\n",
      "SWA>>>:\n"
     ]
    },
    {
     "name": "stderr",
     "output_type": "stream",
     "text": [
      "100%|██████████| 251/251 [02:00<00:00,  2.11it/s]\n"
     ]
    },
    {
     "name": "stdout",
     "output_type": "stream",
     "text": [
      "\n",
      "val: {'recall': 0.99768, 'recall_grapheme': 0.996871, 'recall_vowel': 0.998238, 'recall_consonant': 0.998742, 'recall_word': 0.996579, 'acc_grapheme': 0.996984, 'acc_vowel': 0.998355, 'acc_consonant': 0.999128, 'acc_word': 0.996611, 'loss_grapheme': 0.013851, 'loss_vowel': 0.007201, 'loss_consonant': 0.003333, 'loss_word': 0.014487}\n",
      "   15 | 0.000281 | 160640/160716 | 5.6696 | 5.7706 ||\n",
      "val: {'recall': 0.997285, 'recall_grapheme': 0.995867, 'recall_vowel': 0.998387, 'recall_consonant': 0.999019, 'recall_word': 0.995348, 'acc_grapheme': 0.995639, 'acc_vowel': 0.99843, 'acc_consonant': 0.998754, 'acc_word': 0.995339, 'loss_grapheme': 0.024124, 'loss_vowel': 0.013489, 'loss_consonant': 0.009732, 'loss_word': 0.02389}\n",
      "   16 | 0.000279 | 160640/160716 | 2.9439 | 5.5401 ||\n",
      "val: {'recall': 0.997826, 'recall_grapheme': 0.996754, 'recall_vowel': 0.998656, 'recall_consonant': 0.999141, 'recall_word': 0.996629, 'acc_grapheme': 0.996735, 'acc_vowel': 0.99843, 'acc_consonant': 0.998978, 'acc_word': 0.99666, 'loss_grapheme': 0.016322, 'loss_vowel': 0.009161, 'loss_consonant': 0.006354, 'loss_word': 0.015809}\n",
      "   17 | 0.000277 | 160640/160716 | 0.2852 | 5.7461 ||\n",
      "val: {'recall': 0.99803, 'recall_grapheme': 0.997007, 'recall_vowel': 0.998941, 'recall_consonant': 0.999165, 'recall_word': 0.996367, 'acc_grapheme': 0.996611, 'acc_vowel': 0.998604, 'acc_consonant': 0.998953, 'acc_word': 0.996461, 'loss_grapheme': 0.024337, 'loss_vowel': 0.014489, 'loss_consonant': 0.010388, 'loss_word': 0.02365}\n"
     ]
    },
    {
     "name": "stderr",
     "output_type": "stream",
     "text": [
      "\r",
      "  0%|          | 0/251 [00:00<?, ?it/s]"
     ]
    },
    {
     "name": "stdout",
     "output_type": "stream",
     "text": [
      "###>>>>> saved ./model4-ckps/tf_efficientnet_b4/model4_eb4_fold3.pth\n",
      "SWA>>>:\n"
     ]
    },
    {
     "name": "stderr",
     "output_type": "stream",
     "text": [
      "100%|██████████| 251/251 [02:01<00:00,  2.12it/s]\n"
     ]
    },
    {
     "name": "stdout",
     "output_type": "stream",
     "text": [
      "\n",
      "val: {'recall': 0.998163, 'recall_grapheme': 0.997222, 'recall_vowel': 0.998823, 'recall_consonant': 0.999385, 'recall_word': 0.997035, 'acc_grapheme': 0.997009, 'acc_vowel': 0.998629, 'acc_consonant': 0.999302, 'acc_word': 0.997059, 'loss_grapheme': 0.012764, 'loss_vowel': 0.005983, 'loss_consonant': 0.00299, 'loss_word': 0.012913}\n",
      "###>>>>> saved ./model4-ckps/tf_efficientnet_b4/model4_eb4_fold3.pth\n",
      "   18 | 0.000274 | 160640/160716 | 14.5519 | 5.6839 ||\n",
      "val: {'recall': 0.997545, 'recall_grapheme': 0.996353, 'recall_vowel': 0.998497, 'recall_consonant': 0.998977, 'recall_word': 0.995745, 'acc_grapheme': 0.996137, 'acc_vowel': 0.99828, 'acc_consonant': 0.998729, 'acc_word': 0.995813, 'loss_grapheme': 0.024798, 'loss_vowel': 0.014918, 'loss_consonant': 0.010427, 'loss_word': 0.024491}\n",
      "   19 | 0.000271 | 160640/160716 | 12.3475 | 5.3994 ||\n",
      "val: {'recall': 0.997744, 'recall_grapheme': 0.99676, 'recall_vowel': 0.998367, 'recall_consonant': 0.999092, 'recall_word': 0.996083, 'acc_grapheme': 0.996287, 'acc_vowel': 0.99828, 'acc_consonant': 0.998928, 'acc_word': 0.996112, 'loss_grapheme': 0.0226, 'loss_vowel': 0.013746, 'loss_consonant': 0.009249, 'loss_word': 0.020342}\n",
      "   20 | 0.000269 | 160640/160716 | 4.7712 | 5.6053 ||"
     ]
    },
    {
     "name": "stderr",
     "output_type": "stream",
     "text": [
      "\r",
      "  0%|          | 0/251 [00:00<?, ?it/s]"
     ]
    },
    {
     "name": "stdout",
     "output_type": "stream",
     "text": [
      "\n",
      "val: {'recall': 0.997485, 'recall_grapheme': 0.996354, 'recall_vowel': 0.998458, 'recall_consonant': 0.998773, 'recall_word': 0.995727, 'acc_grapheme': 0.995987, 'acc_vowel': 0.99828, 'acc_consonant': 0.998729, 'acc_word': 0.995788, 'loss_grapheme': 0.024661, 'loss_vowel': 0.014659, 'loss_consonant': 0.010072, 'loss_word': 0.023706}\n",
      "SWA>>>:\n"
     ]
    },
    {
     "name": "stderr",
     "output_type": "stream",
     "text": [
      "100%|██████████| 251/251 [01:59<00:00,  2.08it/s]\n"
     ]
    },
    {
     "name": "stdout",
     "output_type": "stream",
     "text": [
      "\n",
      "val: {'recall': 0.998123, 'recall_grapheme': 0.997229, 'recall_vowel': 0.998654, 'recall_consonant': 0.999379, 'recall_word': 0.996939, 'acc_grapheme': 0.997109, 'acc_vowel': 0.998579, 'acc_consonant': 0.999277, 'acc_word': 0.996984, 'loss_grapheme': 0.012433, 'loss_vowel': 0.006008, 'loss_consonant': 0.00313, 'loss_word': 0.012606}\n",
      "   21 | 0.000266 | 160640/160716 | 0.2414 | 5.9886 ||\n",
      "val: {'recall': 0.997574, 'recall_grapheme': 0.996434, 'recall_vowel': 0.998283, 'recall_consonant': 0.999146, 'recall_word': 0.99597, 'acc_grapheme': 0.996561, 'acc_vowel': 0.998206, 'acc_consonant': 0.998978, 'acc_word': 0.996112, 'loss_grapheme': 0.021258, 'loss_vowel': 0.014132, 'loss_consonant': 0.009178, 'loss_word': 0.020049}\n",
      "   22 | 0.000263 | 160640/160716 | 6.0981 | 5.5262 ||\n",
      "val: {'recall': 0.99755, 'recall_grapheme': 0.996401, 'recall_vowel': 0.99849, 'recall_consonant': 0.998908, 'recall_word': 0.995942, 'acc_grapheme': 0.996436, 'acc_vowel': 0.99838, 'acc_consonant': 0.998779, 'acc_word': 0.995963, 'loss_grapheme': 0.022458, 'loss_vowel': 0.013507, 'loss_consonant': 0.009225, 'loss_word': 0.022789}\n",
      "   23 | 0.000259 | 160640/160716 | 9.3449 | 5.7621 ||"
     ]
    },
    {
     "name": "stderr",
     "output_type": "stream",
     "text": [
      "\r",
      "  0%|          | 0/251 [00:00<?, ?it/s]"
     ]
    },
    {
     "name": "stdout",
     "output_type": "stream",
     "text": [
      "\n",
      "val: {'recall': 0.997152, 'recall_grapheme': 0.995752, 'recall_vowel': 0.998017, 'recall_consonant': 0.999088, 'recall_word': 0.99532, 'acc_grapheme': 0.995564, 'acc_vowel': 0.99823, 'acc_consonant': 0.998754, 'acc_word': 0.995364, 'loss_grapheme': 0.03505, 'loss_vowel': 0.022703, 'loss_consonant': 0.015479, 'loss_word': 0.033102}\n",
      "SWA>>>:\n"
     ]
    },
    {
     "name": "stderr",
     "output_type": "stream",
     "text": [
      "100%|██████████| 251/251 [02:00<00:00,  2.07it/s]\n"
     ]
    },
    {
     "name": "stdout",
     "output_type": "stream",
     "text": [
      "\n",
      "val: {'recall': 0.998069, 'recall_grapheme': 0.997139, 'recall_vowel': 0.998585, 'recall_consonant': 0.999413, 'recall_word': 0.997108, 'acc_grapheme': 0.997209, 'acc_vowel': 0.998629, 'acc_consonant': 0.999302, 'acc_word': 0.997159, 'loss_grapheme': 0.012367, 'loss_vowel': 0.005915, 'loss_consonant': 0.003026, 'loss_word': 0.012512}\n",
      "   24 | 0.000256 | 160640/160716 | 8.6147 | 5.5073 ||\n",
      "val: {'recall': 0.997166, 'recall_grapheme': 0.995814, 'recall_vowel': 0.998147, 'recall_consonant': 0.998889, 'recall_word': 0.995223, 'acc_grapheme': 0.995614, 'acc_vowel': 0.998106, 'acc_consonant': 0.998579, 'acc_word': 0.99529, 'loss_grapheme': 0.033869, 'loss_vowel': 0.021843, 'loss_consonant': 0.014117, 'loss_word': 0.030516}\n",
      "   25 | 0.000253 | 160640/160716 | 6.1378 | 5.3911 ||\n",
      "val: {'recall': 0.997619, 'recall_grapheme': 0.996505, 'recall_vowel': 0.99823, 'recall_consonant': 0.999236, 'recall_word': 0.996213, 'acc_grapheme': 0.996561, 'acc_vowel': 0.99848, 'acc_consonant': 0.999028, 'acc_word': 0.996336, 'loss_grapheme': 0.025428, 'loss_vowel': 0.01594, 'loss_consonant': 0.010516, 'loss_word': 0.025983}\n",
      "   26 | 0.000249 | 160640/160716 | 4.7042 | 4.8273 |||"
     ]
    },
    {
     "name": "stderr",
     "output_type": "stream",
     "text": [
      "\r",
      "  0%|          | 0/251 [00:00<?, ?it/s]"
     ]
    },
    {
     "name": "stdout",
     "output_type": "stream",
     "text": [
      "\n",
      "val: {'recall': 0.997746, 'recall_grapheme': 0.996752, 'recall_vowel': 0.998339, 'recall_consonant': 0.999141, 'recall_word': 0.996368, 'acc_grapheme': 0.996611, 'acc_vowel': 0.998355, 'acc_consonant': 0.998928, 'acc_word': 0.996411, 'loss_grapheme': 0.016982, 'loss_vowel': 0.00864, 'loss_consonant': 0.005315, 'loss_word': 0.017079}\n",
      "SWA>>>:\n"
     ]
    },
    {
     "name": "stderr",
     "output_type": "stream",
     "text": [
      "100%|██████████| 251/251 [01:59<00:00,  2.20it/s]\n"
     ]
    },
    {
     "name": "stdout",
     "output_type": "stream",
     "text": [
      "\n",
      "val: {'recall': 0.998134, 'recall_grapheme': 0.997213, 'recall_vowel': 0.998725, 'recall_consonant': 0.999385, 'recall_word': 0.997277, 'acc_grapheme': 0.997308, 'acc_vowel': 0.998704, 'acc_consonant': 0.999302, 'acc_word': 0.997333, 'loss_grapheme': 0.012242, 'loss_vowel': 0.005854, 'loss_consonant': 0.003008, 'loss_word': 0.012338}\n",
      "   27 | 0.000246 | 160640/160716 | 14.7341 | 5.3950 |\n",
      "val: {'recall': 0.99777, 'recall_grapheme': 0.996567, 'recall_vowel': 0.998793, 'recall_consonant': 0.999154, 'recall_word': 0.996116, 'acc_grapheme': 0.996536, 'acc_vowel': 0.99843, 'acc_consonant': 0.999003, 'acc_word': 0.996112, 'loss_grapheme': 0.023459, 'loss_vowel': 0.014583, 'loss_consonant': 0.010455, 'loss_word': 0.022957}\n",
      "   28 | 0.000242 | 160640/160716 | 15.3932 | 4.7044 ||\n",
      "val: {'recall': 0.997625, 'recall_grapheme': 0.996473, 'recall_vowel': 0.998633, 'recall_consonant': 0.998922, 'recall_word': 0.996251, 'acc_grapheme': 0.996561, 'acc_vowel': 0.99843, 'acc_consonant': 0.999103, 'acc_word': 0.996287, 'loss_grapheme': 0.019818, 'loss_vowel': 0.011811, 'loss_consonant': 0.007162, 'loss_word': 0.019221}\n",
      "   29 | 0.000238 | 160640/160716 | 11.2806 | 6.1271 ||"
     ]
    },
    {
     "name": "stderr",
     "output_type": "stream",
     "text": [
      "\r",
      "  0%|          | 0/251 [00:00<?, ?it/s]"
     ]
    },
    {
     "name": "stdout",
     "output_type": "stream",
     "text": [
      "\n",
      "val: {'recall': 0.997589, 'recall_grapheme': 0.996299, 'recall_vowel': 0.998539, 'recall_consonant': 0.999218, 'recall_word': 0.996164, 'acc_grapheme': 0.996411, 'acc_vowel': 0.998305, 'acc_consonant': 0.998903, 'acc_word': 0.996237, 'loss_grapheme': 0.020187, 'loss_vowel': 0.011871, 'loss_consonant': 0.008655, 'loss_word': 0.020645}\n",
      "SWA>>>:\n"
     ]
    },
    {
     "name": "stderr",
     "output_type": "stream",
     "text": [
      "100%|██████████| 251/251 [01:59<00:00,  2.17it/s]\n"
     ]
    },
    {
     "name": "stdout",
     "output_type": "stream",
     "text": [
      "\n",
      "val: {'recall': 0.998105, 'recall_grapheme': 0.997182, 'recall_vowel': 0.998701, 'recall_consonant': 0.999354, 'recall_word': 0.997215, 'acc_grapheme': 0.997333, 'acc_vowel': 0.998654, 'acc_consonant': 0.999277, 'acc_word': 0.997283, 'loss_grapheme': 0.012113, 'loss_vowel': 0.00588, 'loss_consonant': 0.003025, 'loss_word': 0.012248}\n",
      "   30 | 0.000234 | 160640/160716 | 0.5120 | 4.7805 ||\n",
      "val: {'recall': 0.997903, 'recall_grapheme': 0.996843, 'recall_vowel': 0.998538, 'recall_consonant': 0.999385, 'recall_word': 0.996613, 'acc_grapheme': 0.99676, 'acc_vowel': 0.998505, 'acc_consonant': 0.999078, 'acc_word': 0.996635, 'loss_grapheme': 0.019757, 'loss_vowel': 0.012059, 'loss_consonant': 0.007326, 'loss_word': 0.019371}\n",
      "   31 | 0.000230 | 160640/160716 | 5.7725 | 5.5297 |||\n",
      "val: {'recall': 0.997571, 'recall_grapheme': 0.996187, 'recall_vowel': 0.998747, 'recall_consonant': 0.999163, 'recall_word': 0.995942, 'acc_grapheme': 0.996162, 'acc_vowel': 0.99838, 'acc_consonant': 0.999053, 'acc_word': 0.995963, 'loss_grapheme': 0.020486, 'loss_vowel': 0.010935, 'loss_consonant': 0.006826, 'loss_word': 0.019964}\n",
      "   32 | 0.000226 | 160640/160716 | 6.4105 | 5.2686 |||"
     ]
    },
    {
     "name": "stderr",
     "output_type": "stream",
     "text": [
      "\r",
      "  0%|          | 0/251 [00:00<?, ?it/s]"
     ]
    },
    {
     "name": "stdout",
     "output_type": "stream",
     "text": [
      "\n",
      "val: {'recall': 0.997686, 'recall_grapheme': 0.996536, 'recall_vowel': 0.998554, 'recall_consonant': 0.999119, 'recall_word': 0.9959, 'acc_grapheme': 0.996361, 'acc_vowel': 0.99823, 'acc_consonant': 0.998854, 'acc_word': 0.995938, 'loss_grapheme': 0.028339, 'loss_vowel': 0.01808, 'loss_consonant': 0.012675, 'loss_word': 0.028196}\n",
      "SWA>>>:\n"
     ]
    },
    {
     "name": "stderr",
     "output_type": "stream",
     "text": [
      "100%|██████████| 251/251 [02:00<00:00,  2.08it/s]\n"
     ]
    },
    {
     "name": "stdout",
     "output_type": "stream",
     "text": [
      "\n",
      "val: {'recall': 0.998188, 'recall_grapheme': 0.997337, 'recall_vowel': 0.998713, 'recall_consonant': 0.999366, 'recall_word': 0.997325, 'acc_grapheme': 0.997508, 'acc_vowel': 0.998654, 'acc_consonant': 0.999327, 'acc_word': 0.997383, 'loss_grapheme': 0.011897, 'loss_vowel': 0.005748, 'loss_consonant': 0.002915, 'loss_word': 0.012009}\n",
      "###>>>>> saved ./model4-ckps/tf_efficientnet_b4/model4_eb4_fold3.pth\n",
      "   33 | 0.000222 | 160640/160716 | 4.3129 | 5.9511 ||\n",
      "val: {'recall': 0.997556, 'recall_grapheme': 0.996111, 'recall_vowel': 0.998713, 'recall_consonant': 0.999288, 'recall_word': 0.995735, 'acc_grapheme': 0.996187, 'acc_vowel': 0.998405, 'acc_consonant': 0.999003, 'acc_word': 0.995813, 'loss_grapheme': 0.024737, 'loss_vowel': 0.015552, 'loss_consonant': 0.010165, 'loss_word': 0.024577}\n",
      "   34 | 0.000218 | 160640/160716 | 11.3211 | 5.4244 |\n",
      "val: {'recall': 0.99779, 'recall_grapheme': 0.996591, 'recall_vowel': 0.998794, 'recall_consonant': 0.999182, 'recall_word': 0.996143, 'acc_grapheme': 0.996536, 'acc_vowel': 0.998455, 'acc_consonant': 0.999078, 'acc_word': 0.996212, 'loss_grapheme': 0.018201, 'loss_vowel': 0.010053, 'loss_consonant': 0.006574, 'loss_word': 0.017863}\n",
      "   35 | 0.000214 | 160640/160716 | 6.4533 | 5.5340 ||"
     ]
    },
    {
     "name": "stderr",
     "output_type": "stream",
     "text": [
      "\r",
      "  0%|          | 0/251 [00:00<?, ?it/s]"
     ]
    },
    {
     "name": "stdout",
     "output_type": "stream",
     "text": [
      "\n",
      "val: {'recall': 0.997798, 'recall_grapheme': 0.996659, 'recall_vowel': 0.998695, 'recall_consonant': 0.999178, 'recall_word': 0.996656, 'acc_grapheme': 0.99681, 'acc_vowel': 0.99843, 'acc_consonant': 0.998978, 'acc_word': 0.996685, 'loss_grapheme': 0.020399, 'loss_vowel': 0.012275, 'loss_consonant': 0.007934, 'loss_word': 0.020172}\n",
      "SWA>>>:\n"
     ]
    },
    {
     "name": "stderr",
     "output_type": "stream",
     "text": [
      "100%|██████████| 251/251 [01:59<00:00,  2.15it/s]\n"
     ]
    },
    {
     "name": "stdout",
     "output_type": "stream",
     "text": [
      "\n",
      "val: {'recall': 0.998178, 'recall_grapheme': 0.997281, 'recall_vowel': 0.998785, 'recall_consonant': 0.999366, 'recall_word': 0.997416, 'acc_grapheme': 0.997458, 'acc_vowel': 0.998729, 'acc_consonant': 0.999327, 'acc_word': 0.997458, 'loss_grapheme': 0.011653, 'loss_vowel': 0.005692, 'loss_consonant': 0.00286, 'loss_word': 0.011838}\n",
      "   36 | 0.000210 | 160640/160716 | 4.8370 | 4.9047 ||\n",
      "val: {'recall': 0.997528, 'recall_grapheme': 0.996148, 'recall_vowel': 0.998758, 'recall_consonant': 0.99906, 'recall_word': 0.996007, 'acc_grapheme': 0.996361, 'acc_vowel': 0.99843, 'acc_consonant': 0.998978, 'acc_word': 0.996087, 'loss_grapheme': 0.024454, 'loss_vowel': 0.014392, 'loss_consonant': 0.00908, 'loss_word': 0.023933}\n",
      "   37 | 0.000205 | 160640/160716 | 7.0721 | 4.9564 ||\n",
      "val: {'recall': 0.997399, 'recall_grapheme': 0.996086, 'recall_vowel': 0.998324, 'recall_consonant': 0.999099, 'recall_word': 0.995559, 'acc_grapheme': 0.995938, 'acc_vowel': 0.998156, 'acc_consonant': 0.998804, 'acc_word': 0.995564, 'loss_grapheme': 0.034523, 'loss_vowel': 0.02277, 'loss_consonant': 0.015868, 'loss_word': 0.03266}\n",
      "   38 | 0.000201 | 160640/160716 | 8.1534 | 5.2979 ||"
     ]
    },
    {
     "name": "stderr",
     "output_type": "stream",
     "text": [
      "\r",
      "  0%|          | 0/251 [00:00<?, ?it/s]"
     ]
    },
    {
     "name": "stdout",
     "output_type": "stream",
     "text": [
      "\n",
      "val: {'recall': 0.997549, 'recall_grapheme': 0.996206, 'recall_vowel': 0.998748, 'recall_consonant': 0.999035, 'recall_word': 0.99555, 'acc_grapheme': 0.996087, 'acc_vowel': 0.998206, 'acc_consonant': 0.998754, 'acc_word': 0.995614, 'loss_grapheme': 0.025255, 'loss_vowel': 0.015259, 'loss_consonant': 0.010287, 'loss_word': 0.025193}\n",
      "SWA>>>:\n"
     ]
    },
    {
     "name": "stderr",
     "output_type": "stream",
     "text": [
      "100%|██████████| 251/251 [01:58<00:00,  2.15it/s]\n"
     ]
    },
    {
     "name": "stdout",
     "output_type": "stream",
     "text": [
      "\n",
      "val: {'recall': 0.998244, 'recall_grapheme': 0.997404, 'recall_vowel': 0.998839, 'recall_consonant': 0.999327, 'recall_word': 0.997356, 'acc_grapheme': 0.997433, 'acc_vowel': 0.998704, 'acc_consonant': 0.999277, 'acc_word': 0.997383, 'loss_grapheme': 0.011581, 'loss_vowel': 0.005678, 'loss_consonant': 0.002875, 'loss_word': 0.0118}\n",
      "###>>>>> saved ./model4-ckps/tf_efficientnet_b4/model4_eb4_fold3.pth\n",
      "   39 | 0.000196 | 160640/160716 | 0.3950 | 5.7003 ||\n",
      "val: {'recall': 0.997536, 'recall_grapheme': 0.996158, 'recall_vowel': 0.998652, 'recall_consonant': 0.999176, 'recall_word': 0.995796, 'acc_grapheme': 0.996162, 'acc_vowel': 0.99838, 'acc_consonant': 0.999003, 'acc_word': 0.995863, 'loss_grapheme': 0.021618, 'loss_vowel': 0.012205, 'loss_consonant': 0.007614, 'loss_word': 0.021611}\n",
      "   40 | 0.000192 | 160640/160716 | 0.3031 | 5.1291 ||\n",
      "val: {'recall': 0.998032, 'recall_grapheme': 0.997019, 'recall_vowel': 0.998656, 'recall_consonant': 0.999435, 'recall_word': 0.99677, 'acc_grapheme': 0.997009, 'acc_vowel': 0.998505, 'acc_consonant': 0.999178, 'acc_word': 0.996835, 'loss_grapheme': 0.017088, 'loss_vowel': 0.009994, 'loss_consonant': 0.00608, 'loss_word': 0.016761}\n",
      "   41 | 0.000187 | 160640/160716 | 0.3146 | 5.7078 |||"
     ]
    },
    {
     "name": "stderr",
     "output_type": "stream",
     "text": [
      "\r",
      "  0%|          | 0/251 [00:00<?, ?it/s]"
     ]
    },
    {
     "name": "stdout",
     "output_type": "stream",
     "text": [
      "\n",
      "val: {'recall': 0.997764, 'recall_grapheme': 0.996736, 'recall_vowel': 0.998392, 'recall_consonant': 0.999194, 'recall_word': 0.996057, 'acc_grapheme': 0.996411, 'acc_vowel': 0.998355, 'acc_consonant': 0.998953, 'acc_word': 0.996087, 'loss_grapheme': 0.024624, 'loss_vowel': 0.016255, 'loss_consonant': 0.010737, 'loss_word': 0.02312}\n",
      "SWA>>>:\n"
     ]
    },
    {
     "name": "stderr",
     "output_type": "stream",
     "text": [
      "100%|██████████| 251/251 [01:59<00:00,  2.15it/s]\n"
     ]
    },
    {
     "name": "stdout",
     "output_type": "stream",
     "text": [
      "\n",
      "val: {'recall': 0.998232, 'recall_grapheme': 0.997309, 'recall_vowel': 0.998991, 'recall_consonant': 0.999321, 'recall_word': 0.997366, 'acc_grapheme': 0.997433, 'acc_vowel': 0.998804, 'acc_consonant': 0.999252, 'acc_word': 0.997383, 'loss_grapheme': 0.011582, 'loss_vowel': 0.005633, 'loss_consonant': 0.00284, 'loss_word': 0.011806}\n",
      "   42 | 0.000183 | 160640/160716 | 0.3158 | 5.4941 |||\n",
      "val: {'recall': 0.9974, 'recall_grapheme': 0.996046, 'recall_vowel': 0.998395, 'recall_consonant': 0.999115, 'recall_word': 0.995743, 'acc_grapheme': 0.996187, 'acc_vowel': 0.99823, 'acc_consonant': 0.998829, 'acc_word': 0.995813, 'loss_grapheme': 0.024178, 'loss_vowel': 0.014885, 'loss_consonant': 0.009148, 'loss_word': 0.02421}\n",
      "   43 | 0.000178 | 160640/160716 | 5.0605 | 5.5179 ||\n",
      "val: {'recall': 0.997445, 'recall_grapheme': 0.99607, 'recall_vowel': 0.998568, 'recall_consonant': 0.999075, 'recall_word': 0.995478, 'acc_grapheme': 0.996112, 'acc_vowel': 0.998355, 'acc_consonant': 0.998903, 'acc_word': 0.995514, 'loss_grapheme': 0.020754, 'loss_vowel': 0.011257, 'loss_consonant': 0.007021, 'loss_word': 0.020723}\n",
      "   44 | 0.000173 | 160640/160716 | 6.8248 | 5.4026 |||"
     ]
    },
    {
     "name": "stderr",
     "output_type": "stream",
     "text": [
      "\r",
      "  0%|          | 0/251 [00:00<?, ?it/s]"
     ]
    },
    {
     "name": "stdout",
     "output_type": "stream",
     "text": [
      "\n",
      "val: {'recall': 0.997789, 'recall_grapheme': 0.996608, 'recall_vowel': 0.998783, 'recall_consonant': 0.999156, 'recall_word': 0.996255, 'acc_grapheme': 0.996611, 'acc_vowel': 0.998554, 'acc_consonant': 0.998978, 'acc_word': 0.996336, 'loss_grapheme': 0.018453, 'loss_vowel': 0.009935, 'loss_consonant': 0.006325, 'loss_word': 0.018821}\n",
      "SWA>>>:\n"
     ]
    },
    {
     "name": "stderr",
     "output_type": "stream",
     "text": [
      "100%|██████████| 251/251 [02:00<00:00,  2.09it/s]\n"
     ]
    },
    {
     "name": "stdout",
     "output_type": "stream",
     "text": [
      "\n",
      "val: {'recall': 0.998257, 'recall_grapheme': 0.997356, 'recall_vowel': 0.99899, 'recall_consonant': 0.999327, 'recall_word': 0.99743, 'acc_grapheme': 0.997508, 'acc_vowel': 0.998829, 'acc_consonant': 0.999277, 'acc_word': 0.997458, 'loss_grapheme': 0.011622, 'loss_vowel': 0.005633, 'loss_consonant': 0.002802, 'loss_word': 0.011887}\n",
      "###>>>>> saved ./model4-ckps/tf_efficientnet_b4/model4_eb4_fold3.pth\n",
      "   45 | 0.000169 | 160640/160716 | 0.4262 | 5.4364 ||\n",
      "val: {'recall': 0.997961, 'recall_grapheme': 0.996965, 'recall_vowel': 0.99875, 'recall_consonant': 0.999165, 'recall_word': 0.996608, 'acc_grapheme': 0.996935, 'acc_vowel': 0.998505, 'acc_consonant': 0.999178, 'acc_word': 0.996685, 'loss_grapheme': 0.018589, 'loss_vowel': 0.010951, 'loss_consonant': 0.007235, 'loss_word': 0.018464}\n",
      "   46 | 0.000164 | 160640/160716 | 0.3725 | 5.3104 |||\n",
      "val: {'recall': 0.997873, 'recall_grapheme': 0.996735, 'recall_vowel': 0.998635, 'recall_consonant': 0.999389, 'recall_word': 0.996555, 'acc_grapheme': 0.996935, 'acc_vowel': 0.998679, 'acc_consonant': 0.999103, 'acc_word': 0.996586, 'loss_grapheme': 0.022728, 'loss_vowel': 0.014545, 'loss_consonant': 0.010443, 'loss_word': 0.02101}\n",
      "   47 | 0.000159 | 160640/160716 | 5.5479 | 5.6494 ||"
     ]
    },
    {
     "name": "stderr",
     "output_type": "stream",
     "text": [
      "\r",
      "  0%|          | 0/251 [00:00<?, ?it/s]"
     ]
    },
    {
     "name": "stdout",
     "output_type": "stream",
     "text": [
      "\n",
      "val: {'recall': 0.997414, 'recall_grapheme': 0.996085, 'recall_vowel': 0.998403, 'recall_consonant': 0.999081, 'recall_word': 0.995995, 'acc_grapheme': 0.996162, 'acc_vowel': 0.998255, 'acc_consonant': 0.998928, 'acc_word': 0.995987, 'loss_grapheme': 0.021375, 'loss_vowel': 0.012411, 'loss_consonant': 0.00752, 'loss_word': 0.021448}\n",
      "SWA>>>:\n"
     ]
    },
    {
     "name": "stderr",
     "output_type": "stream",
     "text": [
      "100%|██████████| 251/251 [01:58<00:00,  2.17it/s]\n"
     ]
    },
    {
     "name": "stdout",
     "output_type": "stream",
     "text": [
      "\n",
      "val: {'recall': 0.998288, 'recall_grapheme': 0.997433, 'recall_vowel': 0.998962, 'recall_consonant': 0.999327, 'recall_word': 0.997429, 'acc_grapheme': 0.997607, 'acc_vowel': 0.998804, 'acc_consonant': 0.999277, 'acc_word': 0.997458, 'loss_grapheme': 0.011527, 'loss_vowel': 0.005598, 'loss_consonant': 0.002772, 'loss_word': 0.011813}\n",
      "###>>>>> saved ./model4-ckps/tf_efficientnet_b4/model4_eb4_fold3.pth\n",
      "   48 | 0.000155 | 160640/160716 | 5.4457 | 5.0729 ||\n",
      "val: {'recall': 0.997376, 'recall_grapheme': 0.996095, 'recall_vowel': 0.998187, 'recall_consonant': 0.999128, 'recall_word': 0.995751, 'acc_grapheme': 0.996187, 'acc_vowel': 0.998181, 'acc_consonant': 0.998903, 'acc_word': 0.995763, 'loss_grapheme': 0.020881, 'loss_vowel': 0.01149, 'loss_consonant': 0.006955, 'loss_word': 0.019891}\n",
      "   49 | 0.000150 | 160640/160716 | 0.2676 | 4.7512 ||\n",
      "val: {'recall': 0.997794, 'recall_grapheme': 0.996563, 'recall_vowel': 0.998709, 'recall_consonant': 0.999339, 'recall_word': 0.996563, 'acc_grapheme': 0.996735, 'acc_vowel': 0.998455, 'acc_consonant': 0.999103, 'acc_word': 0.996586, 'loss_grapheme': 0.016958, 'loss_vowel': 0.010381, 'loss_consonant': 0.005985, 'loss_word': 0.016805}\n",
      "   50 | 0.000145 | 160640/160716 | 2.9565 | 5.5253 ||"
     ]
    },
    {
     "name": "stderr",
     "output_type": "stream",
     "text": [
      "\r",
      "  0%|          | 0/251 [00:00<?, ?it/s]"
     ]
    },
    {
     "name": "stdout",
     "output_type": "stream",
     "text": [
      "\n",
      "val: {'recall': 0.99744, 'recall_grapheme': 0.996061, 'recall_vowel': 0.998661, 'recall_consonant': 0.998977, 'recall_word': 0.995812, 'acc_grapheme': 0.996212, 'acc_vowel': 0.998305, 'acc_consonant': 0.998804, 'acc_word': 0.995838, 'loss_grapheme': 0.020406, 'loss_vowel': 0.011756, 'loss_consonant': 0.007249, 'loss_word': 0.020967}\n",
      "SWA>>>:\n"
     ]
    },
    {
     "name": "stderr",
     "output_type": "stream",
     "text": [
      "100%|██████████| 251/251 [02:01<00:00,  2.12it/s]\n"
     ]
    },
    {
     "name": "stdout",
     "output_type": "stream",
     "text": [
      "\n",
      "val: {'recall': 0.998241, 'recall_grapheme': 0.997371, 'recall_vowel': 0.998892, 'recall_consonant': 0.999327, 'recall_word': 0.997416, 'acc_grapheme': 0.997582, 'acc_vowel': 0.998804, 'acc_consonant': 0.999277, 'acc_word': 0.997433, 'loss_grapheme': 0.011515, 'loss_vowel': 0.005582, 'loss_consonant': 0.002761, 'loss_word': 0.011814}\n",
      "   51 | 0.000141 | 160640/160716 | 0.3651 | 5.7874 ||\n",
      "val: {'recall': 0.997707, 'recall_grapheme': 0.996496, 'recall_vowel': 0.998686, 'recall_consonant': 0.99915, 'recall_word': 0.996291, 'acc_grapheme': 0.996611, 'acc_vowel': 0.998554, 'acc_consonant': 0.999028, 'acc_word': 0.996336, 'loss_grapheme': 0.018511, 'loss_vowel': 0.011073, 'loss_consonant': 0.006879, 'loss_word': 0.017786}\n",
      "   52 | 0.000136 | 160640/160716 | 0.3615 | 5.7832 ||\n",
      "val: {'recall': 0.997759, 'recall_grapheme': 0.996501, 'recall_vowel': 0.99868, 'recall_consonant': 0.999354, 'recall_word': 0.996534, 'acc_grapheme': 0.99671, 'acc_vowel': 0.99853, 'acc_consonant': 0.999153, 'acc_word': 0.996561, 'loss_grapheme': 0.015534, 'loss_vowel': 0.008502, 'loss_consonant': 0.004664, 'loss_word': 0.016123}\n",
      "   53 | 0.000131 | 160640/160716 | 13.1935 | 5.6436 |"
     ]
    },
    {
     "name": "stderr",
     "output_type": "stream",
     "text": [
      "\r",
      "  0%|          | 0/251 [00:00<?, ?it/s]"
     ]
    },
    {
     "name": "stdout",
     "output_type": "stream",
     "text": [
      "\n",
      "val: {'recall': 0.997657, 'recall_grapheme': 0.996419, 'recall_vowel': 0.998469, 'recall_consonant': 0.999324, 'recall_word': 0.996267, 'acc_grapheme': 0.99666, 'acc_vowel': 0.998405, 'acc_consonant': 0.999028, 'acc_word': 0.996311, 'loss_grapheme': 0.020353, 'loss_vowel': 0.01282, 'loss_consonant': 0.008233, 'loss_word': 0.020171}\n",
      "SWA>>>:\n"
     ]
    },
    {
     "name": "stderr",
     "output_type": "stream",
     "text": [
      "100%|██████████| 251/251 [02:01<00:00,  2.06it/s]\n"
     ]
    },
    {
     "name": "stdout",
     "output_type": "stream",
     "text": [
      "\n",
      "val: {'recall': 0.998285, 'recall_grapheme': 0.997414, 'recall_vowel': 0.998986, 'recall_consonant': 0.999327, 'recall_word': 0.997373, 'acc_grapheme': 0.997582, 'acc_vowel': 0.998829, 'acc_consonant': 0.999277, 'acc_word': 0.997383, 'loss_grapheme': 0.011556, 'loss_vowel': 0.005624, 'loss_consonant': 0.002772, 'loss_word': 0.011871}\n",
      "   54 | 0.000127 | 160640/160716 | 13.0455 | 5.0884 |\n",
      "val: {'recall': 0.997606, 'recall_grapheme': 0.996268, 'recall_vowel': 0.998711, 'recall_consonant': 0.999176, 'recall_word': 0.995927, 'acc_grapheme': 0.996486, 'acc_vowel': 0.99848, 'acc_consonant': 0.999053, 'acc_word': 0.996012, 'loss_grapheme': 0.017544, 'loss_vowel': 0.009171, 'loss_consonant': 0.004922, 'loss_word': 0.018254}\n",
      "   55 | 0.000122 | 160640/160716 | 13.4669 | 5.0522 ||\n",
      "val: {'recall': 0.997714, 'recall_grapheme': 0.996442, 'recall_vowel': 0.998766, 'recall_consonant': 0.999205, 'recall_word': 0.996423, 'acc_grapheme': 0.99676, 'acc_vowel': 0.998554, 'acc_consonant': 0.999128, 'acc_word': 0.996436, 'loss_grapheme': 0.019461, 'loss_vowel': 0.010664, 'loss_consonant': 0.00681, 'loss_word': 0.019125}\n",
      "   56 | 0.000117 | 160640/160716 | 10.5476 | 5.2419 |"
     ]
    },
    {
     "name": "stderr",
     "output_type": "stream",
     "text": [
      "\r",
      "  0%|          | 0/251 [00:00<?, ?it/s]"
     ]
    },
    {
     "name": "stdout",
     "output_type": "stream",
     "text": [
      "\n",
      "val: {'recall': 0.997367, 'recall_grapheme': 0.995949, 'recall_vowel': 0.998446, 'recall_consonant': 0.999121, 'recall_word': 0.995831, 'acc_grapheme': 0.996237, 'acc_vowel': 0.998255, 'acc_consonant': 0.998878, 'acc_word': 0.995838, 'loss_grapheme': 0.03828, 'loss_vowel': 0.025844, 'loss_consonant': 0.016602, 'loss_word': 0.034677}\n",
      "SWA>>>:\n"
     ]
    },
    {
     "name": "stderr",
     "output_type": "stream",
     "text": [
      "100%|██████████| 251/251 [02:01<00:00,  2.07it/s]\n"
     ]
    },
    {
     "name": "stdout",
     "output_type": "stream",
     "text": [
      "\n",
      "val: {'recall': 0.998277, 'recall_grapheme': 0.997398, 'recall_vowel': 0.998986, 'recall_consonant': 0.999327, 'recall_word': 0.997398, 'acc_grapheme': 0.997607, 'acc_vowel': 0.998829, 'acc_consonant': 0.999277, 'acc_word': 0.997408, 'loss_grapheme': 0.011494, 'loss_vowel': 0.00561, 'loss_consonant': 0.002725, 'loss_word': 0.011814}\n",
      "   57 | 0.000113 | 160640/160716 | 12.0330 | 4.9380 |\n",
      "val: {'recall': 0.997643, 'recall_grapheme': 0.996306, 'recall_vowel': 0.998708, 'recall_consonant': 0.999251, 'recall_word': 0.996248, 'acc_grapheme': 0.996511, 'acc_vowel': 0.99833, 'acc_consonant': 0.998978, 'acc_word': 0.996287, 'loss_grapheme': 0.022604, 'loss_vowel': 0.014103, 'loss_consonant': 0.00898, 'loss_word': 0.022212}\n",
      "   58 | 0.000108 | 160640/160716 | 0.2256 | 5.8471 ||\n",
      "val: {'recall': 0.997865, 'recall_grapheme': 0.996698, 'recall_vowel': 0.998811, 'recall_consonant': 0.999251, 'recall_word': 0.99654, 'acc_grapheme': 0.996835, 'acc_vowel': 0.998604, 'acc_consonant': 0.999078, 'acc_word': 0.996586, 'loss_grapheme': 0.028755, 'loss_vowel': 0.019188, 'loss_consonant': 0.013544, 'loss_word': 0.026185}\n",
      "   59 | 0.000104 | 160640/160716 | 0.3880 | 5.1138 ||"
     ]
    },
    {
     "name": "stderr",
     "output_type": "stream",
     "text": [
      "\r",
      "  0%|          | 0/251 [00:00<?, ?it/s]"
     ]
    },
    {
     "name": "stdout",
     "output_type": "stream",
     "text": [
      "\n",
      "val: {'recall': 0.997845, 'recall_grapheme': 0.996597, 'recall_vowel': 0.998906, 'recall_consonant': 0.999279, 'recall_word': 0.996658, 'acc_grapheme': 0.996885, 'acc_vowel': 0.998629, 'acc_consonant': 0.999078, 'acc_word': 0.99671, 'loss_grapheme': 0.01814, 'loss_vowel': 0.010391, 'loss_consonant': 0.006475, 'loss_word': 0.017919}\n",
      "SWA>>>:\n"
     ]
    },
    {
     "name": "stderr",
     "output_type": "stream",
     "text": [
      "100%|██████████| 251/251 [02:00<00:00,  2.08it/s]\n"
     ]
    },
    {
     "name": "stdout",
     "output_type": "stream",
     "text": [
      "\n",
      "val: {'recall': 0.998251, 'recall_grapheme': 0.997349, 'recall_vowel': 0.998981, 'recall_consonant': 0.999327, 'recall_word': 0.997448, 'acc_grapheme': 0.997582, 'acc_vowel': 0.998829, 'acc_consonant': 0.999277, 'acc_word': 0.997458, 'loss_grapheme': 0.011419, 'loss_vowel': 0.005591, 'loss_consonant': 0.002727, 'loss_word': 0.011766}\n",
      "   60 | 0.000099 | 160640/160716 | 12.9846 | 4.7692 |\n",
      "val: {'recall': 0.997825, 'recall_grapheme': 0.996677, 'recall_vowel': 0.998682, 'recall_consonant': 0.999262, 'recall_word': 0.996439, 'acc_grapheme': 0.996785, 'acc_vowel': 0.998554, 'acc_consonant': 0.999003, 'acc_word': 0.996461, 'loss_grapheme': 0.017, 'loss_vowel': 0.00989, 'loss_consonant': 0.006317, 'loss_word': 0.017396}\n",
      "   61 | 0.000095 | 160640/160716 | 0.4549 | 5.6131 |||\n",
      "val: {'recall': 0.998075, 'recall_grapheme': 0.99697, 'recall_vowel': 0.998957, 'recall_consonant': 0.999404, 'recall_word': 0.996987, 'acc_grapheme': 0.997333, 'acc_vowel': 0.998779, 'acc_consonant': 0.999153, 'acc_word': 0.997059, 'loss_grapheme': 0.015821, 'loss_vowel': 0.009264, 'loss_consonant': 0.005353, 'loss_word': 0.015557}\n",
      "   62 | 0.000090 | 160640/160716 | 5.2425 | 4.7680 |||"
     ]
    },
    {
     "name": "stderr",
     "output_type": "stream",
     "text": [
      "\r",
      "  0%|          | 0/251 [00:00<?, ?it/s]"
     ]
    },
    {
     "name": "stdout",
     "output_type": "stream",
     "text": [
      "\n",
      "val: {'recall': 0.997411, 'recall_grapheme': 0.995915, 'recall_vowel': 0.99859, 'recall_consonant': 0.999224, 'recall_word': 0.995777, 'acc_grapheme': 0.996037, 'acc_vowel': 0.998405, 'acc_consonant': 0.998953, 'acc_word': 0.995788, 'loss_grapheme': 0.019018, 'loss_vowel': 0.009704, 'loss_consonant': 0.006112, 'loss_word': 0.019359}\n",
      "SWA>>>:\n"
     ]
    },
    {
     "name": "stderr",
     "output_type": "stream",
     "text": [
      "100%|██████████| 251/251 [02:00<00:00,  2.00it/s]\n"
     ]
    },
    {
     "name": "stdout",
     "output_type": "stream",
     "text": [
      "\n",
      "val: {'recall': 0.998278, 'recall_grapheme': 0.997402, 'recall_vowel': 0.998981, 'recall_consonant': 0.999327, 'recall_word': 0.997421, 'acc_grapheme': 0.997632, 'acc_vowel': 0.998829, 'acc_consonant': 0.999277, 'acc_word': 0.997433, 'loss_grapheme': 0.011418, 'loss_vowel': 0.005596, 'loss_consonant': 0.002716, 'loss_word': 0.011763}\n",
      "   63 | 0.000086 | 160640/160716 | 5.5252 | 5.4611 |||\n",
      "val: {'recall': 0.997559, 'recall_grapheme': 0.996226, 'recall_vowel': 0.99872, 'recall_consonant': 0.999063, 'recall_word': 0.995943, 'acc_grapheme': 0.996237, 'acc_vowel': 0.99833, 'acc_consonant': 0.998953, 'acc_word': 0.995963, 'loss_grapheme': 0.019339, 'loss_vowel': 0.010225, 'loss_consonant': 0.00577, 'loss_word': 0.019998}\n",
      "   64 | 0.000082 | 160640/160716 | 13.9063 | 5.1621 |\n",
      "val: {'recall': 0.997795, 'recall_grapheme': 0.996523, 'recall_vowel': 0.998744, 'recall_consonant': 0.99939, 'recall_word': 0.996286, 'acc_grapheme': 0.99676, 'acc_vowel': 0.998604, 'acc_consonant': 0.999202, 'acc_word': 0.996336, 'loss_grapheme': 0.016494, 'loss_vowel': 0.008652, 'loss_consonant': 0.004882, 'loss_word': 0.016632}\n",
      "   65 | 0.000078 | 160640/160716 | 0.2342 | 5.1709 ||"
     ]
    },
    {
     "name": "stderr",
     "output_type": "stream",
     "text": [
      "\r",
      "  0%|          | 0/251 [00:00<?, ?it/s]"
     ]
    },
    {
     "name": "stdout",
     "output_type": "stream",
     "text": [
      "\n",
      "val: {'recall': 0.998032, 'recall_grapheme': 0.996982, 'recall_vowel': 0.998767, 'recall_consonant': 0.999397, 'recall_word': 0.996683, 'acc_grapheme': 0.996959, 'acc_vowel': 0.99853, 'acc_consonant': 0.999103, 'acc_word': 0.99671, 'loss_grapheme': 0.019586, 'loss_vowel': 0.012159, 'loss_consonant': 0.007828, 'loss_word': 0.019268}\n",
      "SWA>>>:\n"
     ]
    },
    {
     "name": "stderr",
     "output_type": "stream",
     "text": [
      "100%|██████████| 251/251 [02:00<00:00,  2.12it/s]\n"
     ]
    },
    {
     "name": "stdout",
     "output_type": "stream",
     "text": [
      "\n",
      "val: {'recall': 0.998266, 'recall_grapheme': 0.997384, 'recall_vowel': 0.99897, 'recall_consonant': 0.999327, 'recall_word': 0.9974, 'acc_grapheme': 0.997607, 'acc_vowel': 0.998804, 'acc_consonant': 0.999277, 'acc_word': 0.997408, 'loss_grapheme': 0.011412, 'loss_vowel': 0.005624, 'loss_consonant': 0.002708, 'loss_word': 0.011781}\n",
      "   66 | 0.000074 | 160640/160716 | 0.2468 | 4.9145 ||\n",
      "val: {'recall': 0.997928, 'recall_grapheme': 0.99678, 'recall_vowel': 0.998756, 'recall_consonant': 0.999395, 'recall_word': 0.99663, 'acc_grapheme': 0.996935, 'acc_vowel': 0.998554, 'acc_consonant': 0.999128, 'acc_word': 0.99671, 'loss_grapheme': 0.015165, 'loss_vowel': 0.007769, 'loss_consonant': 0.004079, 'loss_word': 0.015803}\n",
      "   67 | 0.000070 | 160640/160716 | 6.3196 | 5.4849 ||\n",
      "val: {'recall': 0.997938, 'recall_grapheme': 0.996778, 'recall_vowel': 0.99883, 'recall_consonant': 0.999366, 'recall_word': 0.996837, 'acc_grapheme': 0.99691, 'acc_vowel': 0.998629, 'acc_consonant': 0.999103, 'acc_word': 0.996885, 'loss_grapheme': 0.016116, 'loss_vowel': 0.008612, 'loss_consonant': 0.004952, 'loss_word': 0.015993}\n",
      "   68 | 0.000066 | 160640/160716 | 5.7144 | 5.3654 |||"
     ]
    },
    {
     "name": "stderr",
     "output_type": "stream",
     "text": [
      "\r",
      "  0%|          | 0/251 [00:00<?, ?it/s]"
     ]
    },
    {
     "name": "stdout",
     "output_type": "stream",
     "text": [
      "\n",
      "val: {'recall': 0.997732, 'recall_grapheme': 0.996483, 'recall_vowel': 0.998742, 'recall_consonant': 0.999219, 'recall_word': 0.99595, 'acc_grapheme': 0.996486, 'acc_vowel': 0.99853, 'acc_consonant': 0.998953, 'acc_word': 0.995987, 'loss_grapheme': 0.018724, 'loss_vowel': 0.010269, 'loss_consonant': 0.005912, 'loss_word': 0.019506}\n",
      "SWA>>>:\n"
     ]
    },
    {
     "name": "stderr",
     "output_type": "stream",
     "text": [
      "100%|██████████| 251/251 [02:00<00:00,  2.11it/s]\n"
     ]
    },
    {
     "name": "stdout",
     "output_type": "stream",
     "text": [
      "\n",
      "val: {'recall': 0.998258, 'recall_grapheme': 0.997375, 'recall_vowel': 0.998954, 'recall_consonant': 0.999327, 'recall_word': 0.997421, 'acc_grapheme': 0.997607, 'acc_vowel': 0.998779, 'acc_consonant': 0.999277, 'acc_word': 0.997433, 'loss_grapheme': 0.011428, 'loss_vowel': 0.00564, 'loss_consonant': 0.002684, 'loss_word': 0.011814}\n",
      "   69 | 0.000062 | 160640/160716 | 0.2834 | 5.2671 ||\n",
      "val: {'recall': 0.997895, 'recall_grapheme': 0.996709, 'recall_vowel': 0.998822, 'recall_consonant': 0.999343, 'recall_word': 0.996383, 'acc_grapheme': 0.99681, 'acc_vowel': 0.998554, 'acc_consonant': 0.999128, 'acc_word': 0.996461, 'loss_grapheme': 0.015245, 'loss_vowel': 0.008065, 'loss_consonant': 0.003958, 'loss_word': 0.016045}\n",
      "   70 | 0.000058 | 160640/160716 | 2.3742 | 5.0408 ||\n",
      "val: {'recall': 0.997971, 'recall_grapheme': 0.996929, 'recall_vowel': 0.998837, 'recall_consonant': 0.99919, 'recall_word': 0.996496, 'acc_grapheme': 0.996835, 'acc_vowel': 0.99853, 'acc_consonant': 0.999028, 'acc_word': 0.996536, 'loss_grapheme': 0.015838, 'loss_vowel': 0.008478, 'loss_consonant': 0.004419, 'loss_word': 0.016585}\n",
      "   71 | 0.000054 | 160640/160716 | 10.5265 | 5.1596 |"
     ]
    },
    {
     "name": "stderr",
     "output_type": "stream",
     "text": [
      "\r",
      "  0%|          | 0/251 [00:00<?, ?it/s]"
     ]
    },
    {
     "name": "stdout",
     "output_type": "stream",
     "text": [
      "\n",
      "val: {'recall': 0.997999, 'recall_grapheme': 0.996874, 'recall_vowel': 0.998984, 'recall_consonant': 0.999263, 'recall_word': 0.996705, 'acc_grapheme': 0.996885, 'acc_vowel': 0.998654, 'acc_consonant': 0.999103, 'acc_word': 0.99676, 'loss_grapheme': 0.016043, 'loss_vowel': 0.008907, 'loss_consonant': 0.005186, 'loss_word': 0.015824}\n",
      "SWA>>>:\n"
     ]
    },
    {
     "name": "stderr",
     "output_type": "stream",
     "text": [
      "100%|██████████| 251/251 [02:02<00:00,  2.15it/s]\n"
     ]
    },
    {
     "name": "stdout",
     "output_type": "stream",
     "text": [
      "\n",
      "val: {'recall': 0.998262, 'recall_grapheme': 0.997383, 'recall_vowel': 0.998954, 'recall_consonant': 0.999327, 'recall_word': 0.99744, 'acc_grapheme': 0.997607, 'acc_vowel': 0.998779, 'acc_consonant': 0.999277, 'acc_word': 0.997458, 'loss_grapheme': 0.01144, 'loss_vowel': 0.005642, 'loss_consonant': 0.002706, 'loss_word': 0.011849}\n",
      "   72 | 0.000051 | 160640/160716 | 7.0696 | 5.0644 ||\n",
      "val: {'recall': 0.99777, 'recall_grapheme': 0.996525, 'recall_vowel': 0.998735, 'recall_consonant': 0.999296, 'recall_word': 0.996131, 'acc_grapheme': 0.996461, 'acc_vowel': 0.998455, 'acc_consonant': 0.999028, 'acc_word': 0.996187, 'loss_grapheme': 0.018601, 'loss_vowel': 0.01032, 'loss_consonant': 0.006275, 'loss_word': 0.018734}\n",
      "   73 | 0.000047 | 160640/160716 | 0.3172 | 4.9806 |||\n",
      "val: {'recall': 0.997778, 'recall_grapheme': 0.996409, 'recall_vowel': 0.998913, 'recall_consonant': 0.999381, 'recall_word': 0.996239, 'acc_grapheme': 0.996536, 'acc_vowel': 0.998604, 'acc_consonant': 0.999178, 'acc_word': 0.996287, 'loss_grapheme': 0.017409, 'loss_vowel': 0.009384, 'loss_consonant': 0.005377, 'loss_word': 0.018295}\n",
      "   74 | 0.000044 | 160640/160716 | 13.3946 | 4.5912 |"
     ]
    },
    {
     "name": "stderr",
     "output_type": "stream",
     "text": [
      "\r",
      "  0%|          | 0/251 [00:00<?, ?it/s]"
     ]
    },
    {
     "name": "stdout",
     "output_type": "stream",
     "text": [
      "\n",
      "val: {'recall': 0.997849, 'recall_grapheme': 0.996617, 'recall_vowel': 0.998826, 'recall_consonant': 0.999334, 'recall_word': 0.996422, 'acc_grapheme': 0.996735, 'acc_vowel': 0.998629, 'acc_consonant': 0.999103, 'acc_word': 0.996486, 'loss_grapheme': 0.018597, 'loss_vowel': 0.010445, 'loss_consonant': 0.006412, 'loss_word': 0.01864}\n",
      "SWA>>>:\n"
     ]
    },
    {
     "name": "stderr",
     "output_type": "stream",
     "text": [
      "100%|██████████| 251/251 [02:00<00:00,  2.10it/s]\n"
     ]
    },
    {
     "name": "stdout",
     "output_type": "stream",
     "text": [
      "\n",
      "val: {'recall': 0.998269, 'recall_grapheme': 0.997383, 'recall_vowel': 0.998954, 'recall_consonant': 0.999357, 'recall_word': 0.997472, 'acc_grapheme': 0.997607, 'acc_vowel': 0.998779, 'acc_consonant': 0.999302, 'acc_word': 0.997483, 'loss_grapheme': 0.011379, 'loss_vowel': 0.00563, 'loss_consonant': 0.002658, 'loss_word': 0.011795}\n",
      "   75 | 0.000041 | 160640/160716 | 9.5373 | 5.8545 |||\n",
      "val: {'recall': 0.99769, 'recall_grapheme': 0.996391, 'recall_vowel': 0.998784, 'recall_consonant': 0.999194, 'recall_word': 0.996183, 'acc_grapheme': 0.996411, 'acc_vowel': 0.99848, 'acc_consonant': 0.999053, 'acc_word': 0.996237, 'loss_grapheme': 0.020675, 'loss_vowel': 0.011902, 'loss_consonant': 0.00749, 'loss_word': 0.020903}\n",
      "   76 | 0.000037 | 160640/160716 | 11.1647 | 5.0269 |\n",
      "val: {'recall': 0.998057, 'recall_grapheme': 0.997023, 'recall_vowel': 0.998805, 'recall_consonant': 0.999379, 'recall_word': 0.996901, 'acc_grapheme': 0.997109, 'acc_vowel': 0.998579, 'acc_consonant': 0.999178, 'acc_word': 0.996959, 'loss_grapheme': 0.014709, 'loss_vowel': 0.007904, 'loss_consonant': 0.004042, 'loss_word': 0.014914}\n",
      "   77 | 0.000034 | 160640/160716 | 0.3604 | 4.9529 ||"
     ]
    },
    {
     "name": "stderr",
     "output_type": "stream",
     "text": [
      "\r",
      "  0%|          | 0/251 [00:00<?, ?it/s]"
     ]
    },
    {
     "name": "stdout",
     "output_type": "stream",
     "text": [
      "\n",
      "val: {'recall': 0.998042, 'recall_grapheme': 0.996936, 'recall_vowel': 0.998944, 'recall_consonant': 0.999353, 'recall_word': 0.996725, 'acc_grapheme': 0.997134, 'acc_vowel': 0.998679, 'acc_consonant': 0.999153, 'acc_word': 0.996785, 'loss_grapheme': 0.01403, 'loss_vowel': 0.007418, 'loss_consonant': 0.003803, 'loss_word': 0.014285}\n",
      "SWA>>>:\n"
     ]
    },
    {
     "name": "stderr",
     "output_type": "stream",
     "text": [
      "100%|██████████| 251/251 [02:02<00:00,  2.13it/s]\n"
     ]
    },
    {
     "name": "stdout",
     "output_type": "stream",
     "text": [
      "\n",
      "val: {'recall': 0.998282, 'recall_grapheme': 0.997411, 'recall_vowel': 0.998954, 'recall_consonant': 0.999352, 'recall_word': 0.997489, 'acc_grapheme': 0.997632, 'acc_vowel': 0.998779, 'acc_consonant': 0.999277, 'acc_word': 0.997508, 'loss_grapheme': 0.011365, 'loss_vowel': 0.005627, 'loss_consonant': 0.002653, 'loss_word': 0.011787}\n",
      "   78 | 0.000031 | 160640/160716 | 3.8022 | 4.9660 |||\n",
      "val: {'recall': 0.998112, 'recall_grapheme': 0.997038, 'recall_vowel': 0.998933, 'recall_consonant': 0.99944, 'recall_word': 0.996862, 'acc_grapheme': 0.997059, 'acc_vowel': 0.998679, 'acc_consonant': 0.999178, 'acc_word': 0.99691, 'loss_grapheme': 0.015407, 'loss_vowel': 0.008352, 'loss_consonant': 0.004821, 'loss_word': 0.015458}\n",
      "   79 | 0.000029 | 160640/160716 | 3.2058 | 5.7658 ||\n",
      "val: {'recall': 0.997735, 'recall_grapheme': 0.996416, 'recall_vowel': 0.998806, 'recall_consonant': 0.9993, 'recall_word': 0.996148, 'acc_grapheme': 0.996386, 'acc_vowel': 0.998604, 'acc_consonant': 0.999053, 'acc_word': 0.996187, 'loss_grapheme': 0.020943, 'loss_vowel': 0.011553, 'loss_consonant': 0.007194, 'loss_word': 0.021433}\n",
      "   80 | 0.000026 | 160640/160716 | 6.7703 | 5.1431 |||"
     ]
    },
    {
     "name": "stderr",
     "output_type": "stream",
     "text": [
      "\r",
      "  0%|          | 0/251 [00:00<?, ?it/s]"
     ]
    },
    {
     "name": "stdout",
     "output_type": "stream",
     "text": [
      "\n",
      "val: {'recall': 0.997239, 'recall_grapheme': 0.995683, 'recall_vowel': 0.998544, 'recall_consonant': 0.999046, 'recall_word': 0.995726, 'acc_grapheme': 0.995863, 'acc_vowel': 0.998206, 'acc_consonant': 0.998804, 'acc_word': 0.995738, 'loss_grapheme': 0.034123, 'loss_vowel': 0.021967, 'loss_consonant': 0.012954, 'loss_word': 0.03254}\n",
      "SWA>>>:\n"
     ]
    },
    {
     "name": "stderr",
     "output_type": "stream",
     "text": [
      "100%|██████████| 251/251 [01:59<00:00,  2.15it/s]\n"
     ]
    },
    {
     "name": "stdout",
     "output_type": "stream",
     "text": [
      "\n",
      "val: {'recall': 0.998293, 'recall_grapheme': 0.997418, 'recall_vowel': 0.998954, 'recall_consonant': 0.999383, 'recall_word': 0.997403, 'acc_grapheme': 0.997657, 'acc_vowel': 0.998779, 'acc_consonant': 0.999302, 'acc_word': 0.997433, 'loss_grapheme': 0.011386, 'loss_vowel': 0.005632, 'loss_consonant': 0.002652, 'loss_word': 0.011816}\n",
      "###>>>>> saved ./model4-ckps/tf_efficientnet_b4/model4_eb4_fold3.pth\n",
      "   81 | 0.000023 | 160640/160716 | 12.0175 | 5.3020 |\n",
      "val: {'recall': 0.997925, 'recall_grapheme': 0.996732, 'recall_vowel': 0.99888, 'recall_consonant': 0.999353, 'recall_word': 0.996592, 'acc_grapheme': 0.996835, 'acc_vowel': 0.998604, 'acc_consonant': 0.999153, 'acc_word': 0.99666, 'loss_grapheme': 0.016677, 'loss_vowel': 0.009386, 'loss_consonant': 0.005577, 'loss_word': 0.016607}\n",
      "   82 | 0.000021 | 160640/160716 | 7.9031 | 5.0293 ||\n",
      "val: {'recall': 0.998081, 'recall_grapheme': 0.997034, 'recall_vowel': 0.998902, 'recall_consonant': 0.999353, 'recall_word': 0.996768, 'acc_grapheme': 0.997059, 'acc_vowel': 0.998654, 'acc_consonant': 0.999153, 'acc_word': 0.996835, 'loss_grapheme': 0.015486, 'loss_vowel': 0.008173, 'loss_consonant': 0.004795, 'loss_word': 0.015538}\n",
      "   83 | 0.000019 | 160640/160716 | 4.9501 | 5.2519 ||"
     ]
    },
    {
     "name": "stderr",
     "output_type": "stream",
     "text": [
      "\r",
      "  0%|          | 0/251 [00:00<?, ?it/s]"
     ]
    },
    {
     "name": "stdout",
     "output_type": "stream",
     "text": [
      "\n",
      "val: {'recall': 0.997749, 'recall_grapheme': 0.99646, 'recall_vowel': 0.998851, 'recall_consonant': 0.999226, 'recall_word': 0.996058, 'acc_grapheme': 0.996461, 'acc_vowel': 0.998579, 'acc_consonant': 0.999078, 'acc_word': 0.996137, 'loss_grapheme': 0.017945, 'loss_vowel': 0.009453, 'loss_consonant': 0.005567, 'loss_word': 0.018524}\n",
      "SWA>>>:\n"
     ]
    },
    {
     "name": "stderr",
     "output_type": "stream",
     "text": [
      "100%|██████████| 251/251 [02:00<00:00,  1.99it/s]\n"
     ]
    },
    {
     "name": "stdout",
     "output_type": "stream",
     "text": [
      "\n",
      "val: {'recall': 0.998307, 'recall_grapheme': 0.99744, 'recall_vowel': 0.998966, 'recall_consonant': 0.999383, 'recall_word': 0.997436, 'acc_grapheme': 0.997657, 'acc_vowel': 0.998804, 'acc_consonant': 0.999302, 'acc_word': 0.997458, 'loss_grapheme': 0.011354, 'loss_vowel': 0.005617, 'loss_consonant': 0.002637, 'loss_word': 0.011803}\n",
      "###>>>>> saved ./model4-ckps/tf_efficientnet_b4/model4_eb4_fold3.pth\n",
      "   84 | 0.000016 | 160640/160716 | 0.1934 | 5.0405 ||\n",
      "val: {'recall': 0.997819, 'recall_grapheme': 0.996514, 'recall_vowel': 0.998889, 'recall_consonant': 0.99936, 'recall_word': 0.99629, 'acc_grapheme': 0.99676, 'acc_vowel': 0.998629, 'acc_consonant': 0.999202, 'acc_word': 0.996336, 'loss_grapheme': 0.016022, 'loss_vowel': 0.008159, 'loss_consonant': 0.004345, 'loss_word': 0.016779}\n",
      "   85 | 0.000014 | 160640/160716 | 2.7158 | 4.8850 ||\n",
      "val: {'recall': 0.997962, 'recall_grapheme': 0.996812, 'recall_vowel': 0.998943, 'recall_consonant': 0.999281, 'recall_word': 0.996345, 'acc_grapheme': 0.996935, 'acc_vowel': 0.998679, 'acc_consonant': 0.999103, 'acc_word': 0.996411, 'loss_grapheme': 0.018794, 'loss_vowel': 0.010743, 'loss_consonant': 0.006793, 'loss_word': 0.019161}\n",
      "   86 | 0.000012 | 160640/160716 | 1.5250 | 4.7793 ||"
     ]
    },
    {
     "name": "stderr",
     "output_type": "stream",
     "text": [
      "\r",
      "  0%|          | 0/251 [00:00<?, ?it/s]"
     ]
    },
    {
     "name": "stdout",
     "output_type": "stream",
     "text": [
      "\n",
      "val: {'recall': 0.99811, 'recall_grapheme': 0.997061, 'recall_vowel': 0.998975, 'recall_consonant': 0.99934, 'recall_word': 0.996857, 'acc_grapheme': 0.997059, 'acc_vowel': 0.998754, 'acc_consonant': 0.999202, 'acc_word': 0.99691, 'loss_grapheme': 0.014172, 'loss_vowel': 0.007387, 'loss_consonant': 0.003869, 'loss_word': 0.014362}\n",
      "SWA>>>:\n"
     ]
    },
    {
     "name": "stderr",
     "output_type": "stream",
     "text": [
      "100%|██████████| 251/251 [01:59<00:00,  2.12it/s]\n"
     ]
    },
    {
     "name": "stdout",
     "output_type": "stream",
     "text": [
      "\n",
      "val: {'recall': 0.998269, 'recall_grapheme': 0.997418, 'recall_vowel': 0.998857, 'recall_consonant': 0.999383, 'recall_word': 0.997415, 'acc_grapheme': 0.997657, 'acc_vowel': 0.998754, 'acc_consonant': 0.999302, 'acc_word': 0.997433, 'loss_grapheme': 0.011329, 'loss_vowel': 0.005619, 'loss_consonant': 0.002615, 'loss_word': 0.011782}\n",
      "   87 | 0.000011 | 160640/160716 | 10.5530 | 5.1817 |\n",
      "val: {'recall': 0.997961, 'recall_grapheme': 0.996835, 'recall_vowel': 0.998901, 'recall_consonant': 0.999275, 'recall_word': 0.996452, 'acc_grapheme': 0.99686, 'acc_vowel': 0.998629, 'acc_consonant': 0.999178, 'acc_word': 0.996536, 'loss_grapheme': 0.017886, 'loss_vowel': 0.009988, 'loss_consonant': 0.006309, 'loss_word': 0.017694}\n",
      "   88 | 0.000009 | 129920/160716 | 6.6619 | 5.1544 ||"
     ]
    },
    {
     "name": "stderr",
     "output_type": "stream",
     "text": [
      "IOPub message rate exceeded.\n",
      "The notebook server will temporarily stop sending output\n",
      "to the client in order to avoid crashing it.\n",
      "To change this limit, set the config variable\n",
      "`--NotebookApp.iopub_msg_rate_limit`.\n",
      "\n",
      "Current values:\n",
      "NotebookApp.iopub_msg_rate_limit=1000.0 (msgs/sec)\n",
      "NotebookApp.rate_limit_window=3.0 (secs)\n",
      "\n"
     ]
    },
    {
     "name": "stdout",
     "output_type": "stream",
     "text": [
      "   91 | 0.000005 | 160640/160716 | 12.0904 | 5.1705 |\n",
      "val: {'recall': 0.997671, 'recall_grapheme': 0.996351, 'recall_vowel': 0.998759, 'recall_consonant': 0.999224, 'recall_word': 0.996028, 'acc_grapheme': 0.996336, 'acc_vowel': 0.99843, 'acc_consonant': 0.999078, 'acc_word': 0.996062, 'loss_grapheme': 0.019949, 'loss_vowel': 0.010989, 'loss_consonant': 0.006669, 'loss_word': 0.019989}\n",
      "   92 | 0.000004 | 160640/160716 | 11.1005 | 4.6887 ||"
     ]
    },
    {
     "name": "stderr",
     "output_type": "stream",
     "text": [
      "\r",
      "  0%|          | 0/251 [00:00<?, ?it/s]"
     ]
    },
    {
     "name": "stdout",
     "output_type": "stream",
     "text": [
      "\n",
      "val: {'recall': 0.998008, 'recall_grapheme': 0.996942, 'recall_vowel': 0.998777, 'recall_consonant': 0.999373, 'recall_word': 0.996775, 'acc_grapheme': 0.997034, 'acc_vowel': 0.998579, 'acc_consonant': 0.999252, 'acc_word': 0.996835, 'loss_grapheme': 0.01626, 'loss_vowel': 0.009174, 'loss_consonant': 0.005496, 'loss_word': 0.015819}\n",
      "SWA>>>:\n"
     ]
    },
    {
     "name": "stderr",
     "output_type": "stream",
     "text": [
      "100%|██████████| 251/251 [01:59<00:00,  2.12it/s]\n"
     ]
    },
    {
     "name": "stdout",
     "output_type": "stream",
     "text": [
      "\n",
      "val: {'recall': 0.998239, 'recall_grapheme': 0.997379, 'recall_vowel': 0.998881, 'recall_consonant': 0.999316, 'recall_word': 0.997466, 'acc_grapheme': 0.997632, 'acc_vowel': 0.998779, 'acc_consonant': 0.999252, 'acc_word': 0.997483, 'loss_grapheme': 0.01134, 'loss_vowel': 0.00561, 'loss_consonant': 0.002602, 'loss_word': 0.011791}\n",
      "   93 | 0.000003 | 160640/160716 | 11.1951 | 4.9396 ||\n",
      "val: {'recall': 0.998006, 'recall_grapheme': 0.99683, 'recall_vowel': 0.998903, 'recall_consonant': 0.999462, 'recall_word': 0.996533, 'acc_grapheme': 0.996984, 'acc_vowel': 0.998629, 'acc_consonant': 0.999178, 'acc_word': 0.996611, 'loss_grapheme': 0.018351, 'loss_vowel': 0.010637, 'loss_consonant': 0.00666, 'loss_word': 0.018892}\n",
      "   94 | 0.000002 | 160640/160716 | 7.8497 | 5.0159 ||\n",
      "val: {'recall': 0.997804, 'recall_grapheme': 0.996539, 'recall_vowel': 0.998775, 'recall_consonant': 0.999364, 'recall_word': 0.996323, 'acc_grapheme': 0.996586, 'acc_vowel': 0.998579, 'acc_consonant': 0.999103, 'acc_word': 0.996361, 'loss_grapheme': 0.018489, 'loss_vowel': 0.01071, 'loss_consonant': 0.006184, 'loss_word': 0.019037}\n",
      "   95 | 0.000001 | 160640/160716 | 5.9342 | 5.3894 ||"
     ]
    },
    {
     "name": "stderr",
     "output_type": "stream",
     "text": [
      "\r",
      "  0%|          | 0/251 [00:00<?, ?it/s]"
     ]
    },
    {
     "name": "stdout",
     "output_type": "stream",
     "text": [
      "\n",
      "val: {'recall': 0.997984, 'recall_grapheme': 0.996826, 'recall_vowel': 0.998937, 'recall_consonant': 0.999347, 'recall_word': 0.99654, 'acc_grapheme': 0.996935, 'acc_vowel': 0.998679, 'acc_consonant': 0.999153, 'acc_word': 0.996611, 'loss_grapheme': 0.018863, 'loss_vowel': 0.010845, 'loss_consonant': 0.00686, 'loss_word': 0.018851}\n",
      "SWA>>>:\n"
     ]
    },
    {
     "name": "stderr",
     "output_type": "stream",
     "text": [
      "100%|██████████| 251/251 [01:59<00:00,  2.13it/s]\n"
     ]
    },
    {
     "name": "stdout",
     "output_type": "stream",
     "text": [
      "\n",
      "val: {'recall': 0.998238, 'recall_grapheme': 0.99739, 'recall_vowel': 0.998857, 'recall_consonant': 0.999316, 'recall_word': 0.997495, 'acc_grapheme': 0.997682, 'acc_vowel': 0.998754, 'acc_consonant': 0.999252, 'acc_word': 0.997508, 'loss_grapheme': 0.011342, 'loss_vowel': 0.0056, 'loss_consonant': 0.002597, 'loss_word': 0.011817}\n",
      "   96 | 0.000001 | 160640/160716 | 2.2746 | 5.0475 ||\n",
      "val: {'recall': 0.997928, 'recall_grapheme': 0.996752, 'recall_vowel': 0.99893, 'recall_consonant': 0.999277, 'recall_word': 0.996423, 'acc_grapheme': 0.99676, 'acc_vowel': 0.998679, 'acc_consonant': 0.999078, 'acc_word': 0.996511, 'loss_grapheme': 0.018865, 'loss_vowel': 0.010969, 'loss_consonant': 0.007033, 'loss_word': 0.018665}\n",
      "   97 | 0.000000 | 160640/160716 | 5.4060 | 5.2393 |||\n",
      "val: {'recall': 0.997762, 'recall_grapheme': 0.996528, 'recall_vowel': 0.99881, 'recall_consonant': 0.999182, 'recall_word': 0.996071, 'acc_grapheme': 0.996536, 'acc_vowel': 0.99848, 'acc_consonant': 0.999003, 'acc_word': 0.996112, 'loss_grapheme': 0.022195, 'loss_vowel': 0.013115, 'loss_consonant': 0.008101, 'loss_word': 0.022529}\n",
      "   98 | 0.000000 | 160640/160716 | 0.2300 | 5.3692 ||"
     ]
    },
    {
     "name": "stderr",
     "output_type": "stream",
     "text": [
      "\r",
      "  0%|          | 0/251 [00:00<?, ?it/s]"
     ]
    },
    {
     "name": "stdout",
     "output_type": "stream",
     "text": [
      "\n",
      "val: {'recall': 0.997889, 'recall_grapheme': 0.996637, 'recall_vowel': 0.998925, 'recall_consonant': 0.999356, 'recall_word': 0.996497, 'acc_grapheme': 0.99681, 'acc_vowel': 0.998679, 'acc_consonant': 0.999178, 'acc_word': 0.996561, 'loss_grapheme': 0.01583, 'loss_vowel': 0.008031, 'loss_consonant': 0.004427, 'loss_word': 0.016419}\n",
      "SWA>>>:\n"
     ]
    },
    {
     "name": "stderr",
     "output_type": "stream",
     "text": [
      "100%|██████████| 251/251 [02:00<00:00,  2.12it/s]\n"
     ]
    },
    {
     "name": "stdout",
     "output_type": "stream",
     "text": [
      "\n",
      "val: {'recall': 0.998243, 'recall_grapheme': 0.997398, 'recall_vowel': 0.998857, 'recall_consonant': 0.999316, 'recall_word': 0.997439, 'acc_grapheme': 0.997707, 'acc_vowel': 0.998754, 'acc_consonant': 0.999252, 'acc_word': 0.997458, 'loss_grapheme': 0.011317, 'loss_vowel': 0.005618, 'loss_consonant': 0.00259, 'loss_word': 0.011805}\n",
      "   99 | 0.000000 | 160640/160716 | 11.7342 | 5.2389 |\n",
      "val: {'recall': 0.997905, 'recall_grapheme': 0.996714, 'recall_vowel': 0.998912, 'recall_consonant': 0.99928, 'recall_word': 0.996481, 'acc_grapheme': 0.996735, 'acc_vowel': 0.998654, 'acc_consonant': 0.999078, 'acc_word': 0.996561, 'loss_grapheme': 0.015861, 'loss_vowel': 0.008114, 'loss_consonant': 0.004515, 'loss_word': 0.016159}\n",
      "CYCLE: 2\n",
      "    0 | 0.000060 | 160640/160716 | 12.2756 | 4.9683 |\n",
      "val: {'recall': 0.998036, 'recall_grapheme': 0.996944, 'recall_vowel': 0.998901, 'recall_consonant': 0.999352, 'recall_word': 0.996764, 'acc_grapheme': 0.997059, 'acc_vowel': 0.998629, 'acc_consonant': 0.999178, 'acc_word': 0.99681, 'loss_grapheme': 0.027858, 'loss_vowel': 0.019454, 'loss_consonant': 0.0133, 'loss_word': 0.026372}\n",
      "    1 | 0.000120 | 160640/160716 | 0.0688 | 4.8087 ||\n",
      "val: {'recall': 0.997973, 'recall_grapheme': 0.996853, 'recall_vowel': 0.998925, 'recall_consonant': 0.999261, 'recall_word': 0.996473, 'acc_grapheme': 0.996959, 'acc_vowel': 0.998679, 'acc_consonant': 0.999128, 'acc_word': 0.996511, 'loss_grapheme': 0.018401, 'loss_vowel': 0.010357, 'loss_consonant': 0.006181, 'loss_word': 0.018941}\n",
      "    2 | 0.000179 | 160640/160716 | 0.1770 | 5.3221 ||\n",
      "val: {'recall': 0.998076, 'recall_grapheme': 0.997053, 'recall_vowel': 0.998918, 'recall_consonant': 0.999279, 'recall_word': 0.996767, 'acc_grapheme': 0.997234, 'acc_vowel': 0.998654, 'acc_consonant': 0.999053, 'acc_word': 0.99686, 'loss_grapheme': 0.016512, 'loss_vowel': 0.009292, 'loss_consonant': 0.005907, 'loss_word': 0.016542}\n",
      "    3 | 0.000239 | 160640/160716 | 12.3325 | 5.2980 |\n",
      "val: {'recall': 0.997713, 'recall_grapheme': 0.996419, 'recall_vowel': 0.998727, 'recall_consonant': 0.999288, 'recall_word': 0.996168, 'acc_grapheme': 0.996611, 'acc_vowel': 0.998505, 'acc_consonant': 0.999103, 'acc_word': 0.996212, 'loss_grapheme': 0.01928, 'loss_vowel': 0.011161, 'loss_consonant': 0.00704, 'loss_word': 0.019346}\n",
      "    4 | 0.000298 | 160640/160716 | 5.1117 | 5.5280 ||\n",
      "val: {'recall': 0.997587, 'recall_grapheme': 0.996211, 'recall_vowel': 0.99869, 'recall_consonant': 0.999236, 'recall_word': 0.995809, 'acc_grapheme': 0.996436, 'acc_vowel': 0.998305, 'acc_consonant': 0.999003, 'acc_word': 0.995888, 'loss_grapheme': 0.026334, 'loss_vowel': 0.018346, 'loss_consonant': 0.011586, 'loss_word': 0.025176}\n",
      "    5 | 0.000297 | 160640/160716 | 14.8083 | 4.7838 ||\n",
      "val: {'recall': 0.997689, 'recall_grapheme': 0.996507, 'recall_vowel': 0.99861, 'recall_consonant': 0.999134, 'recall_word': 0.996135, 'acc_grapheme': 0.996611, 'acc_vowel': 0.99838, 'acc_consonant': 0.999028, 'acc_word': 0.996187, 'loss_grapheme': 0.025691, 'loss_vowel': 0.018062, 'loss_consonant': 0.011584, 'loss_word': 0.023538}\n",
      "    6 | 0.000296 | 160640/160716 | 6.7738 | 5.3397 |||\n",
      "val: {'recall': 0.997109, 'recall_grapheme': 0.995519, 'recall_vowel': 0.99853, 'recall_consonant': 0.99887, 'recall_word': 0.995572, 'acc_grapheme': 0.995738, 'acc_vowel': 0.99828, 'acc_consonant': 0.998754, 'acc_word': 0.995589, 'loss_grapheme': 0.03083, 'loss_vowel': 0.01928, 'loss_consonant': 0.013388, 'loss_word': 0.028884}\n",
      "    7 | 0.000295 | 160640/160716 | 6.0480 | 4.8670 ||\n",
      "val: {'recall': 0.997867, 'recall_grapheme': 0.996771, 'recall_vowel': 0.99885, 'recall_consonant': 0.999077, 'recall_word': 0.99619, 'acc_grapheme': 0.996561, 'acc_vowel': 0.998604, 'acc_consonant': 0.998903, 'acc_word': 0.996262, 'loss_grapheme': 0.025223, 'loss_vowel': 0.015576, 'loss_consonant': 0.010668, 'loss_word': 0.024518}\n",
      "    8 | 0.000294 | 160640/160716 | 0.2698 | 5.0259 ||\n",
      "val: {'recall': 0.997765, 'recall_grapheme': 0.996635, 'recall_vowel': 0.998598, 'recall_consonant': 0.999192, 'recall_word': 0.996333, 'acc_grapheme': 0.996611, 'acc_vowel': 0.998604, 'acc_consonant': 0.999053, 'acc_word': 0.996436, 'loss_grapheme': 0.021719, 'loss_vowel': 0.012202, 'loss_consonant': 0.007986, 'loss_word': 0.020783}\n",
      "    9 | 0.000293 | 160640/160716 | 8.3130 | 5.0633 ||\n",
      "val: {'recall': 0.997607, 'recall_grapheme': 0.996329, 'recall_vowel': 0.998577, 'recall_consonant': 0.999195, 'recall_word': 0.995879, 'acc_grapheme': 0.996287, 'acc_vowel': 0.99848, 'acc_consonant': 0.998829, 'acc_word': 0.995963, 'loss_grapheme': 0.027581, 'loss_vowel': 0.017862, 'loss_consonant': 0.011806, 'loss_word': 0.025379}\n",
      "   10 | 0.000291 | 160640/160716 | 0.1989 | 5.7942 |||\n",
      "val: {'recall': 0.998026, 'recall_grapheme': 0.996943, 'recall_vowel': 0.998988, 'recall_consonant': 0.999229, 'recall_word': 0.996808, 'acc_grapheme': 0.996959, 'acc_vowel': 0.998629, 'acc_consonant': 0.999103, 'acc_word': 0.996835, 'loss_grapheme': 0.02628, 'loss_vowel': 0.017437, 'loss_consonant': 0.011342, 'loss_word': 0.024146}\n",
      "   11 | 0.000289 | 160640/160716 | 0.3021 | 5.5109 ||\n",
      "val: {'recall': 0.997761, 'recall_grapheme': 0.996538, 'recall_vowel': 0.998755, 'recall_consonant': 0.999214, 'recall_word': 0.996038, 'acc_grapheme': 0.996561, 'acc_vowel': 0.99823, 'acc_consonant': 0.999028, 'acc_word': 0.996137, 'loss_grapheme': 0.027541, 'loss_vowel': 0.017602, 'loss_consonant': 0.010879, 'loss_word': 0.027982}\n",
      "   12 | 0.000288 | 160640/160716 | 6.7321 | 5.1298 ||\n",
      "val: {'recall': 0.997482, 'recall_grapheme': 0.996309, 'recall_vowel': 0.998191, 'recall_consonant': 0.99912, 'recall_word': 0.995683, 'acc_grapheme': 0.996037, 'acc_vowel': 0.998255, 'acc_consonant': 0.998854, 'acc_word': 0.995688, 'loss_grapheme': 0.030357, 'loss_vowel': 0.019411, 'loss_consonant': 0.01284, 'loss_word': 0.029402}\n",
      "   13 | 0.000286 | 160640/160716 | 10.9213 | 5.5161 |\n",
      "val: {'recall': 0.997995, 'recall_grapheme': 0.997117, 'recall_vowel': 0.998476, 'recall_consonant': 0.999269, 'recall_word': 0.996319, 'acc_grapheme': 0.99691, 'acc_vowel': 0.998405, 'acc_consonant': 0.999078, 'acc_word': 0.996336, 'loss_grapheme': 0.018206, 'loss_vowel': 0.010773, 'loss_consonant': 0.006307, 'loss_word': 0.018451}\n",
      "   14 | 0.000284 | 160640/160716 | 3.6853 | 5.0775 ||"
     ]
    },
    {
     "name": "stderr",
     "output_type": "stream",
     "text": [
      "\r",
      "  0%|          | 0/251 [00:00<?, ?it/s]"
     ]
    },
    {
     "name": "stdout",
     "output_type": "stream",
     "text": [
      "\n",
      "val: {'recall': 0.997326, 'recall_grapheme': 0.995967, 'recall_vowel': 0.998311, 'recall_consonant': 0.999059, 'recall_word': 0.99563, 'acc_grapheme': 0.996012, 'acc_vowel': 0.99828, 'acc_consonant': 0.998928, 'acc_word': 0.995688, 'loss_grapheme': 0.024671, 'loss_vowel': 0.013924, 'loss_consonant': 0.008976, 'loss_word': 0.024621}\n",
      "SWA>>>:\n"
     ]
    },
    {
     "name": "stderr",
     "output_type": "stream",
     "text": [
      "100%|██████████| 251/251 [02:00<00:00,  2.06it/s]\n"
     ]
    },
    {
     "name": "stdout",
     "output_type": "stream",
     "text": [
      "\n",
      "val: {'recall': 0.998252, 'recall_grapheme': 0.997393, 'recall_vowel': 0.998873, 'recall_consonant': 0.999349, 'recall_word': 0.997466, 'acc_grapheme': 0.997682, 'acc_vowel': 0.998779, 'acc_consonant': 0.999277, 'acc_word': 0.997483, 'loss_grapheme': 0.011349, 'loss_vowel': 0.005602, 'loss_consonant': 0.002576, 'loss_word': 0.011827}\n",
      "   15 | 0.000281 | 160640/160716 | 6.4489 | 5.5079 ||\n",
      "val: {'recall': 0.997415, 'recall_grapheme': 0.996032, 'recall_vowel': 0.998356, 'recall_consonant': 0.999238, 'recall_word': 0.995484, 'acc_grapheme': 0.996087, 'acc_vowel': 0.998181, 'acc_consonant': 0.998903, 'acc_word': 0.995514, 'loss_grapheme': 0.025676, 'loss_vowel': 0.016508, 'loss_consonant': 0.010064, 'loss_word': 0.02471}\n",
      "   16 | 0.000279 | 160640/160716 | 6.6636 | 5.3138 |||\n",
      "val: {'recall': 0.997453, 'recall_grapheme': 0.996085, 'recall_vowel': 0.998418, 'recall_consonant': 0.999224, 'recall_word': 0.996082, 'acc_grapheme': 0.996037, 'acc_vowel': 0.99838, 'acc_consonant': 0.999078, 'acc_word': 0.996112, 'loss_grapheme': 0.022083, 'loss_vowel': 0.013021, 'loss_consonant': 0.008725, 'loss_word': 0.021802}\n",
      "   17 | 0.000277 | 160640/160716 | 13.7873 | 4.7648 |"
     ]
    },
    {
     "name": "stderr",
     "output_type": "stream",
     "text": [
      "\r",
      "  0%|          | 0/251 [00:00<?, ?it/s]"
     ]
    },
    {
     "name": "stdout",
     "output_type": "stream",
     "text": [
      "\n",
      "val: {'recall': 0.997366, 'recall_grapheme': 0.996267, 'recall_vowel': 0.998342, 'recall_consonant': 0.998589, 'recall_word': 0.99601, 'acc_grapheme': 0.996262, 'acc_vowel': 0.99838, 'acc_consonant': 0.999028, 'acc_word': 0.996087, 'loss_grapheme': 0.021835, 'loss_vowel': 0.012605, 'loss_consonant': 0.008426, 'loss_word': 0.021716}\n",
      "SWA>>>:\n"
     ]
    },
    {
     "name": "stderr",
     "output_type": "stream",
     "text": [
      "100%|██████████| 251/251 [02:00<00:00,  2.15it/s]\n"
     ]
    },
    {
     "name": "stdout",
     "output_type": "stream",
     "text": [
      "\n",
      "val: {'recall': 0.998299, 'recall_grapheme': 0.997461, 'recall_vowel': 0.998959, 'recall_consonant': 0.999316, 'recall_word': 0.99751, 'acc_grapheme': 0.997732, 'acc_vowel': 0.998804, 'acc_consonant': 0.999252, 'acc_word': 0.997533, 'loss_grapheme': 0.011315, 'loss_vowel': 0.005644, 'loss_consonant': 0.002582, 'loss_word': 0.011818}\n",
      "   18 | 0.000274 | 160640/160716 | 14.2724 | 5.6032 |\n",
      "val: {'recall': 0.997425, 'recall_grapheme': 0.996043, 'recall_vowel': 0.998493, 'recall_consonant': 0.999122, 'recall_word': 0.995967, 'acc_grapheme': 0.996137, 'acc_vowel': 0.99833, 'acc_consonant': 0.999003, 'acc_word': 0.996012, 'loss_grapheme': 0.019492, 'loss_vowel': 0.011072, 'loss_consonant': 0.006895, 'loss_word': 0.020268}\n",
      "   19 | 0.000271 | 160640/160716 | 14.4910 | 4.9732 |\n",
      "val: {'recall': 0.997762, 'recall_grapheme': 0.996517, 'recall_vowel': 0.998795, 'recall_consonant': 0.999219, 'recall_word': 0.996498, 'acc_grapheme': 0.996511, 'acc_vowel': 0.99848, 'acc_consonant': 0.999078, 'acc_word': 0.996586, 'loss_grapheme': 0.021693, 'loss_vowel': 0.012608, 'loss_consonant': 0.008394, 'loss_word': 0.019801}\n",
      "   20 | 0.000269 | 160640/160716 | 8.2541 | 5.4273 ||"
     ]
    },
    {
     "name": "stderr",
     "output_type": "stream",
     "text": [
      "\r",
      "  0%|          | 0/251 [00:00<?, ?it/s]"
     ]
    },
    {
     "name": "stdout",
     "output_type": "stream",
     "text": [
      "\n",
      "val: {'recall': 0.997542, 'recall_grapheme': 0.996467, 'recall_vowel': 0.998552, 'recall_consonant': 0.998681, 'recall_word': 0.99604, 'acc_grapheme': 0.996411, 'acc_vowel': 0.998305, 'acc_consonant': 0.999028, 'acc_word': 0.996062, 'loss_grapheme': 0.026976, 'loss_vowel': 0.018492, 'loss_consonant': 0.011324, 'loss_word': 0.026273}\n",
      "SWA>>>:\n"
     ]
    },
    {
     "name": "stderr",
     "output_type": "stream",
     "text": [
      "100%|██████████| 251/251 [02:01<00:00,  2.13it/s]\n"
     ]
    },
    {
     "name": "stdout",
     "output_type": "stream",
     "text": [
      "\n",
      "val: {'recall': 0.998294, 'recall_grapheme': 0.997451, 'recall_vowel': 0.998957, 'recall_consonant': 0.999316, 'recall_word': 0.997492, 'acc_grapheme': 0.997757, 'acc_vowel': 0.998804, 'acc_consonant': 0.999252, 'acc_word': 0.997508, 'loss_grapheme': 0.011304, 'loss_vowel': 0.005677, 'loss_consonant': 0.002604, 'loss_word': 0.011821}\n",
      "   21 | 0.000266 | 160640/160716 | 1.2282 | 4.9643 ||\n",
      "val: {'recall': 0.997571, 'recall_grapheme': 0.996179, 'recall_vowel': 0.998678, 'recall_consonant': 0.999248, 'recall_word': 0.995938, 'acc_grapheme': 0.996112, 'acc_vowel': 0.99838, 'acc_consonant': 0.999078, 'acc_word': 0.995963, 'loss_grapheme': 0.024582, 'loss_vowel': 0.014896, 'loss_consonant': 0.009423, 'loss_word': 0.024534}\n",
      "   22 | 0.000263 | 160640/160716 | 1.7469 | 5.0847 ||\n",
      "val: {'recall': 0.997935, 'recall_grapheme': 0.996778, 'recall_vowel': 0.998731, 'recall_consonant': 0.999454, 'recall_word': 0.996835, 'acc_grapheme': 0.99691, 'acc_vowel': 0.99853, 'acc_consonant': 0.999277, 'acc_word': 0.996835, 'loss_grapheme': 0.016207, 'loss_vowel': 0.009863, 'loss_consonant': 0.005346, 'loss_word': 0.016685}\n",
      "   23 | 0.000259 | 160640/160716 | 0.3636 | 5.4750 ||"
     ]
    },
    {
     "name": "stderr",
     "output_type": "stream",
     "text": [
      "\r",
      "  0%|          | 0/251 [00:00<?, ?it/s]"
     ]
    },
    {
     "name": "stdout",
     "output_type": "stream",
     "text": [
      "\n",
      "val: {'recall': 0.997545, 'recall_grapheme': 0.996241, 'recall_vowel': 0.99848, 'recall_consonant': 0.999218, 'recall_word': 0.996125, 'acc_grapheme': 0.996336, 'acc_vowel': 0.998181, 'acc_consonant': 0.999053, 'acc_word': 0.996212, 'loss_grapheme': 0.019666, 'loss_vowel': 0.012233, 'loss_consonant': 0.007032, 'loss_word': 0.019484}\n",
      "SWA>>>:\n"
     ]
    },
    {
     "name": "stderr",
     "output_type": "stream",
     "text": [
      "100%|██████████| 251/251 [02:01<00:00,  2.16it/s]\n"
     ]
    },
    {
     "name": "stdout",
     "output_type": "stream",
     "text": [
      "\n",
      "val: {'recall': 0.998314, 'recall_grapheme': 0.997479, 'recall_vowel': 0.998946, 'recall_consonant': 0.999349, 'recall_word': 0.997489, 'acc_grapheme': 0.997782, 'acc_vowel': 0.998779, 'acc_consonant': 0.999277, 'acc_word': 0.997508, 'loss_grapheme': 0.011308, 'loss_vowel': 0.005673, 'loss_consonant': 0.002604, 'loss_word': 0.011838}\n",
      "###>>>>> saved ./model4-ckps/tf_efficientnet_b4/model4_eb4_fold3.pth\n",
      "   24 | 0.000256 | 160640/160716 | 0.4934 | 5.3187 ||\n",
      "val: {'recall': 0.997942, 'recall_grapheme': 0.997175, 'recall_vowel': 0.998514, 'recall_consonant': 0.998904, 'recall_word': 0.996549, 'acc_grapheme': 0.996885, 'acc_vowel': 0.99823, 'acc_consonant': 0.998928, 'acc_word': 0.996561, 'loss_grapheme': 0.020755, 'loss_vowel': 0.013669, 'loss_consonant': 0.008048, 'loss_word': 0.020933}\n",
      "   25 | 0.000253 | 160640/160716 | 13.7975 | 5.4480 |\n",
      "val: {'recall': 0.997421, 'recall_grapheme': 0.996031, 'recall_vowel': 0.998489, 'recall_consonant': 0.999134, 'recall_word': 0.995428, 'acc_grapheme': 0.996062, 'acc_vowel': 0.99828, 'acc_consonant': 0.998953, 'acc_word': 0.995489, 'loss_grapheme': 0.042886, 'loss_vowel': 0.028525, 'loss_consonant': 0.019285, 'loss_word': 0.041804}\n",
      "   26 | 0.000249 | 160640/160716 | 4.3015 | 4.9827 ||"
     ]
    },
    {
     "name": "stderr",
     "output_type": "stream",
     "text": [
      "\r",
      "  0%|          | 0/251 [00:00<?, ?it/s]"
     ]
    },
    {
     "name": "stdout",
     "output_type": "stream",
     "text": [
      "\n",
      "val: {'recall': 0.997957, 'recall_grapheme': 0.996862, 'recall_vowel': 0.998763, 'recall_consonant': 0.999341, 'recall_word': 0.996459, 'acc_grapheme': 0.996984, 'acc_vowel': 0.998554, 'acc_consonant': 0.999128, 'acc_word': 0.996486, 'loss_grapheme': 0.019906, 'loss_vowel': 0.012371, 'loss_consonant': 0.007674, 'loss_word': 0.018979}\n",
      "SWA>>>:\n"
     ]
    },
    {
     "name": "stderr",
     "output_type": "stream",
     "text": [
      "100%|██████████| 251/251 [02:00<00:00,  2.09it/s]\n"
     ]
    },
    {
     "name": "stdout",
     "output_type": "stream",
     "text": [
      "\n",
      "val: {'recall': 0.998244, 'recall_grapheme': 0.997412, 'recall_vowel': 0.998833, 'recall_consonant': 0.999319, 'recall_word': 0.997498, 'acc_grapheme': 0.997732, 'acc_vowel': 0.998729, 'acc_consonant': 0.999252, 'acc_word': 0.997508, 'loss_grapheme': 0.011285, 'loss_vowel': 0.005706, 'loss_consonant': 0.00257, 'loss_word': 0.011811}\n",
      "   27 | 0.000246 | 160640/160716 | 6.5090 | 5.9657 |||\n",
      "val: {'recall': 0.997579, 'recall_grapheme': 0.99626, 'recall_vowel': 0.998652, 'recall_consonant': 0.999146, 'recall_word': 0.995709, 'acc_grapheme': 0.996187, 'acc_vowel': 0.998405, 'acc_consonant': 0.998978, 'acc_word': 0.995663, 'loss_grapheme': 0.025948, 'loss_vowel': 0.016926, 'loss_consonant': 0.01071, 'loss_word': 0.02427}\n",
      "   28 | 0.000242 | 160640/160716 | 0.3867 | 5.1361 ||\n",
      "val: {'recall': 0.997624, 'recall_grapheme': 0.996342, 'recall_vowel': 0.998679, 'recall_consonant': 0.999134, 'recall_word': 0.996084, 'acc_grapheme': 0.996386, 'acc_vowel': 0.998604, 'acc_consonant': 0.998978, 'acc_word': 0.996112, 'loss_grapheme': 0.020861, 'loss_vowel': 0.011346, 'loss_consonant': 0.00726, 'loss_word': 0.020609}\n",
      "   29 | 0.000238 | 160640/160716 | 13.2460 | 5.3538 ||"
     ]
    },
    {
     "name": "stderr",
     "output_type": "stream",
     "text": [
      "\r",
      "  0%|          | 0/251 [00:00<?, ?it/s]"
     ]
    },
    {
     "name": "stdout",
     "output_type": "stream",
     "text": [
      "\n",
      "val: {'recall': 0.99801, 'recall_grapheme': 0.996949, 'recall_vowel': 0.998939, 'recall_consonant': 0.999201, 'recall_word': 0.996922, 'acc_grapheme': 0.996984, 'acc_vowel': 0.998679, 'acc_consonant': 0.999103, 'acc_word': 0.996935, 'loss_grapheme': 0.022584, 'loss_vowel': 0.015447, 'loss_consonant': 0.010589, 'loss_word': 0.019841}\n",
      "SWA>>>:\n"
     ]
    },
    {
     "name": "stderr",
     "output_type": "stream",
     "text": [
      "100%|██████████| 251/251 [01:59<00:00,  2.11it/s]\n"
     ]
    },
    {
     "name": "stdout",
     "output_type": "stream",
     "text": [
      "\n",
      "val: {'recall': 0.998253, 'recall_grapheme': 0.997403, 'recall_vowel': 0.998856, 'recall_consonant': 0.999349, 'recall_word': 0.997468, 'acc_grapheme': 0.997707, 'acc_vowel': 0.998779, 'acc_consonant': 0.999277, 'acc_word': 0.997483, 'loss_grapheme': 0.011227, 'loss_vowel': 0.005684, 'loss_consonant': 0.002589, 'loss_word': 0.011776}\n",
      "   30 | 0.000234 | 160640/160716 | 0.2446 | 5.2375 |||\n",
      "val: {'recall': 0.997891, 'recall_grapheme': 0.996806, 'recall_vowel': 0.998717, 'recall_consonant': 0.999233, 'recall_word': 0.996198, 'acc_grapheme': 0.996586, 'acc_vowel': 0.998579, 'acc_consonant': 0.999103, 'acc_word': 0.996187, 'loss_grapheme': 0.031482, 'loss_vowel': 0.022028, 'loss_consonant': 0.014009, 'loss_word': 0.029625}\n",
      "   31 | 0.000230 | 160640/160716 | 6.2237 | 5.2384 ||\n",
      "val: {'recall': 0.997555, 'recall_grapheme': 0.99644, 'recall_vowel': 0.998259, 'recall_consonant': 0.99908, 'recall_word': 0.995711, 'acc_grapheme': 0.996087, 'acc_vowel': 0.998106, 'acc_consonant': 0.998804, 'acc_word': 0.995688, 'loss_grapheme': 0.041974, 'loss_vowel': 0.026676, 'loss_consonant': 0.017345, 'loss_word': 0.037338}\n",
      "   32 | 0.000226 | 160640/160716 | 7.8035 | 5.6215 ||"
     ]
    },
    {
     "name": "stderr",
     "output_type": "stream",
     "text": [
      "\r",
      "  0%|          | 0/251 [00:00<?, ?it/s]"
     ]
    },
    {
     "name": "stdout",
     "output_type": "stream",
     "text": [
      "\n",
      "val: {'recall': 0.99775, 'recall_grapheme': 0.996536, 'recall_vowel': 0.998658, 'recall_consonant': 0.999269, 'recall_word': 0.996283, 'acc_grapheme': 0.996461, 'acc_vowel': 0.99838, 'acc_consonant': 0.999028, 'acc_word': 0.996262, 'loss_grapheme': 0.021763, 'loss_vowel': 0.012604, 'loss_consonant': 0.008322, 'loss_word': 0.020866}\n",
      "SWA>>>:\n"
     ]
    },
    {
     "name": "stderr",
     "output_type": "stream",
     "text": [
      "100%|██████████| 251/251 [02:01<00:00,  2.03it/s]\n"
     ]
    },
    {
     "name": "stdout",
     "output_type": "stream",
     "text": [
      "\n",
      "val: {'recall': 0.998248, 'recall_grapheme': 0.99738, 'recall_vowel': 0.998856, 'recall_consonant': 0.999377, 'recall_word': 0.99752, 'acc_grapheme': 0.997682, 'acc_vowel': 0.998779, 'acc_consonant': 0.999277, 'acc_word': 0.997533, 'loss_grapheme': 0.011242, 'loss_vowel': 0.005699, 'loss_consonant': 0.002589, 'loss_word': 0.011793}\n",
      "   33 | 0.000222 | 160640/160716 | 8.1073 | 5.0787 |||\n",
      "val: {'recall': 0.997257, 'recall_grapheme': 0.995701, 'recall_vowel': 0.998634, 'recall_consonant': 0.998992, 'recall_word': 0.995802, 'acc_grapheme': 0.995888, 'acc_vowel': 0.998355, 'acc_consonant': 0.998928, 'acc_word': 0.995813, 'loss_grapheme': 0.037349, 'loss_vowel': 0.027385, 'loss_consonant': 0.0182, 'loss_word': 0.0331}\n",
      "   34 | 0.000218 | 160640/160716 | 13.1001 | 5.6089 |\n",
      "val: {'recall': 0.997649, 'recall_grapheme': 0.996509, 'recall_vowel': 0.998816, 'recall_consonant': 0.998764, 'recall_word': 0.996296, 'acc_grapheme': 0.996536, 'acc_vowel': 0.998579, 'acc_consonant': 0.998978, 'acc_word': 0.996311, 'loss_grapheme': 0.021074, 'loss_vowel': 0.012242, 'loss_consonant': 0.007558, 'loss_word': 0.020856}\n",
      "   35 | 0.000214 | 160640/160716 | 4.4487 | 5.3114 |||"
     ]
    },
    {
     "name": "stderr",
     "output_type": "stream",
     "text": [
      "\r",
      "  0%|          | 0/251 [00:00<?, ?it/s]"
     ]
    },
    {
     "name": "stdout",
     "output_type": "stream",
     "text": [
      "\n",
      "val: {'recall': 0.99769, 'recall_grapheme': 0.996401, 'recall_vowel': 0.998717, 'recall_consonant': 0.99924, 'recall_word': 0.995973, 'acc_grapheme': 0.996336, 'acc_vowel': 0.998654, 'acc_consonant': 0.999003, 'acc_word': 0.996012, 'loss_grapheme': 0.022702, 'loss_vowel': 0.013691, 'loss_consonant': 0.009438, 'loss_word': 0.022194}\n",
      "SWA>>>:\n"
     ]
    },
    {
     "name": "stderr",
     "output_type": "stream",
     "text": [
      "100%|██████████| 251/251 [02:00<00:00,  2.13it/s]\n"
     ]
    },
    {
     "name": "stdout",
     "output_type": "stream",
     "text": [
      "\n",
      "val: {'recall': 0.998245, 'recall_grapheme': 0.997381, 'recall_vowel': 0.998867, 'recall_consonant': 0.999349, 'recall_word': 0.997471, 'acc_grapheme': 0.997682, 'acc_vowel': 0.998804, 'acc_consonant': 0.999277, 'acc_word': 0.997483, 'loss_grapheme': 0.011175, 'loss_vowel': 0.005693, 'loss_consonant': 0.002575, 'loss_word': 0.01172}\n",
      "   36 | 0.000210 | 160640/160716 | 9.2299 | 5.3860 ||\n",
      "val: {'recall': 0.997872, 'recall_grapheme': 0.996534, 'recall_vowel': 0.998969, 'recall_consonant': 0.99945, 'recall_word': 0.996471, 'acc_grapheme': 0.99666, 'acc_vowel': 0.998629, 'acc_consonant': 0.999227, 'acc_word': 0.996486, 'loss_grapheme': 0.019113, 'loss_vowel': 0.011654, 'loss_consonant': 0.007123, 'loss_word': 0.019338}\n",
      "   37 | 0.000205 | 160640/160716 | 6.7657 | 5.1805 |||\n",
      "val: {'recall': 0.997141, 'recall_grapheme': 0.995527, 'recall_vowel': 0.998412, 'recall_consonant': 0.999096, 'recall_word': 0.995358, 'acc_grapheme': 0.995888, 'acc_vowel': 0.998131, 'acc_consonant': 0.998854, 'acc_word': 0.995414, 'loss_grapheme': 0.038806, 'loss_vowel': 0.025983, 'loss_consonant': 0.016414, 'loss_word': 0.03526}\n",
      "   38 | 0.000201 | 160640/160716 | 0.2863 | 5.0621 ||"
     ]
    },
    {
     "name": "stderr",
     "output_type": "stream",
     "text": [
      "\r",
      "  0%|          | 0/251 [00:00<?, ?it/s]"
     ]
    },
    {
     "name": "stdout",
     "output_type": "stream",
     "text": [
      "\n",
      "val: {'recall': 0.997658, 'recall_grapheme': 0.996361, 'recall_vowel': 0.998759, 'recall_consonant': 0.99915, 'recall_word': 0.996439, 'acc_grapheme': 0.996511, 'acc_vowel': 0.998505, 'acc_consonant': 0.999028, 'acc_word': 0.996486, 'loss_grapheme': 0.021016, 'loss_vowel': 0.013521, 'loss_consonant': 0.008997, 'loss_word': 0.019625}\n",
      "SWA>>>:\n"
     ]
    },
    {
     "name": "stderr",
     "output_type": "stream",
     "text": [
      "100%|██████████| 251/251 [02:00<00:00,  2.06it/s]\n"
     ]
    },
    {
     "name": "stdout",
     "output_type": "stream",
     "text": [
      "\n",
      "val: {'recall': 0.998276, 'recall_grapheme': 0.997429, 'recall_vowel': 0.998869, 'recall_consonant': 0.999377, 'recall_word': 0.997496, 'acc_grapheme': 0.997707, 'acc_vowel': 0.998804, 'acc_consonant': 0.999277, 'acc_word': 0.997508, 'loss_grapheme': 0.011176, 'loss_vowel': 0.005687, 'loss_consonant': 0.002586, 'loss_word': 0.011723}\n",
      "   39 | 0.000196 | 160640/160716 | 0.2209 | 5.1359 ||\n",
      "val: {'recall': 0.997921, 'recall_grapheme': 0.99687, 'recall_vowel': 0.998736, 'recall_consonant': 0.999207, 'recall_word': 0.996533, 'acc_grapheme': 0.99681, 'acc_vowel': 0.99848, 'acc_consonant': 0.999003, 'acc_word': 0.996561, 'loss_grapheme': 0.022706, 'loss_vowel': 0.015465, 'loss_consonant': 0.010417, 'loss_word': 0.021491}\n",
      "   40 | 0.000192 | 160640/160716 | 2.3077 | 5.5293 ||\n",
      "val: {'recall': 0.997553, 'recall_grapheme': 0.996133, 'recall_vowel': 0.998781, 'recall_consonant': 0.999165, 'recall_word': 0.995704, 'acc_grapheme': 0.996262, 'acc_vowel': 0.998505, 'acc_consonant': 0.998804, 'acc_word': 0.995738, 'loss_grapheme': 0.023895, 'loss_vowel': 0.014359, 'loss_consonant': 0.008939, 'loss_word': 0.024622}\n",
      "   41 | 0.000187 | 160640/160716 | 1.9930 | 5.5085 |||"
     ]
    },
    {
     "name": "stderr",
     "output_type": "stream",
     "text": [
      "\r",
      "  0%|          | 0/251 [00:00<?, ?it/s]"
     ]
    },
    {
     "name": "stdout",
     "output_type": "stream",
     "text": [
      "\n",
      "val: {'recall': 0.997897, 'recall_grapheme': 0.9969, 'recall_vowel': 0.998563, 'recall_consonant': 0.999227, 'recall_word': 0.996278, 'acc_grapheme': 0.996561, 'acc_vowel': 0.998405, 'acc_consonant': 0.999103, 'acc_word': 0.996311, 'loss_grapheme': 0.021031, 'loss_vowel': 0.013509, 'loss_consonant': 0.008279, 'loss_word': 0.020894}\n",
      "SWA>>>:\n"
     ]
    },
    {
     "name": "stderr",
     "output_type": "stream",
     "text": [
      "100%|██████████| 251/251 [02:00<00:00,  2.13it/s]\n"
     ]
    },
    {
     "name": "stdout",
     "output_type": "stream",
     "text": [
      "\n",
      "val: {'recall': 0.99827, 'recall_grapheme': 0.997422, 'recall_vowel': 0.998867, 'recall_consonant': 0.999371, 'recall_word': 0.997472, 'acc_grapheme': 0.997707, 'acc_vowel': 0.998804, 'acc_consonant': 0.999252, 'acc_word': 0.997483, 'loss_grapheme': 0.01116, 'loss_vowel': 0.005726, 'loss_consonant': 0.002578, 'loss_word': 0.011716}\n",
      "   42 | 0.000183 | 160640/160716 | 0.3382 | 4.9607 ||\n",
      "val: {'recall': 0.998098, 'recall_grapheme': 0.997076, 'recall_vowel': 0.998747, 'recall_consonant': 0.999493, 'recall_word': 0.996809, 'acc_grapheme': 0.996984, 'acc_vowel': 0.99853, 'acc_consonant': 0.999302, 'acc_word': 0.996885, 'loss_grapheme': 0.017631, 'loss_vowel': 0.011293, 'loss_consonant': 0.006557, 'loss_word': 0.017182}\n",
      "   43 | 0.000178 | 160640/160716 | 5.9834 | 5.5609 |||\n",
      "val: {'recall': 0.997632, 'recall_grapheme': 0.996326, 'recall_vowel': 0.998641, 'recall_consonant': 0.999233, 'recall_word': 0.996176, 'acc_grapheme': 0.996486, 'acc_vowel': 0.998505, 'acc_consonant': 0.999003, 'acc_word': 0.996187, 'loss_grapheme': 0.022045, 'loss_vowel': 0.014354, 'loss_consonant': 0.008236, 'loss_word': 0.021587}\n",
      "   44 | 0.000173 | 160640/160716 | 0.1774 | 5.5007 ||"
     ]
    },
    {
     "name": "stderr",
     "output_type": "stream",
     "text": [
      "\r",
      "  0%|          | 0/251 [00:00<?, ?it/s]"
     ]
    },
    {
     "name": "stdout",
     "output_type": "stream",
     "text": [
      "\n",
      "val: {'recall': 0.997731, 'recall_grapheme': 0.996417, 'recall_vowel': 0.99876, 'recall_consonant': 0.99933, 'recall_word': 0.996304, 'acc_grapheme': 0.996511, 'acc_vowel': 0.998554, 'acc_consonant': 0.999178, 'acc_word': 0.996311, 'loss_grapheme': 0.025965, 'loss_vowel': 0.018035, 'loss_consonant': 0.011424, 'loss_word': 0.023633}\n",
      "SWA>>>:\n"
     ]
    },
    {
     "name": "stderr",
     "output_type": "stream",
     "text": [
      "100%|██████████| 251/251 [02:02<00:00,  2.05it/s]\n"
     ]
    },
    {
     "name": "stdout",
     "output_type": "stream",
     "text": [
      "\n",
      "val: {'recall': 0.998281, 'recall_grapheme': 0.997401, 'recall_vowel': 0.998953, 'recall_consonant': 0.999371, 'recall_word': 0.997501, 'acc_grapheme': 0.997707, 'acc_vowel': 0.998829, 'acc_consonant': 0.999252, 'acc_word': 0.997508, 'loss_grapheme': 0.011167, 'loss_vowel': 0.005744, 'loss_consonant': 0.002591, 'loss_word': 0.011707}\n",
      "   45 | 0.000169 | 160640/160716 | 11.3765 | 4.6686 |\n",
      "val: {'recall': 0.9981, 'recall_grapheme': 0.997112, 'recall_vowel': 0.998828, 'recall_consonant': 0.999349, 'recall_word': 0.996702, 'acc_grapheme': 0.997034, 'acc_vowel': 0.998654, 'acc_consonant': 0.999153, 'acc_word': 0.996785, 'loss_grapheme': 0.018048, 'loss_vowel': 0.009991, 'loss_consonant': 0.006205, 'loss_word': 0.017294}\n",
      "   46 | 0.000164 | 160640/160716 | 11.9712 | 5.1594 |\n",
      "val: {'recall': 0.997962, 'recall_grapheme': 0.997051, 'recall_vowel': 0.998711, 'recall_consonant': 0.999035, 'recall_word': 0.996543, 'acc_grapheme': 0.996935, 'acc_vowel': 0.998554, 'acc_consonant': 0.999003, 'acc_word': 0.996561, 'loss_grapheme': 0.018012, 'loss_vowel': 0.010407, 'loss_consonant': 0.006371, 'loss_word': 0.018484}\n",
      "   47 | 0.000159 | 160640/160716 | 8.2848 | 5.1341 |||"
     ]
    },
    {
     "name": "stderr",
     "output_type": "stream",
     "text": [
      "\r",
      "  0%|          | 0/251 [00:00<?, ?it/s]"
     ]
    },
    {
     "name": "stdout",
     "output_type": "stream",
     "text": [
      "\n",
      "val: {'recall': 0.997936, 'recall_grapheme': 0.996879, 'recall_vowel': 0.998799, 'recall_consonant': 0.999188, 'recall_word': 0.996425, 'acc_grapheme': 0.996935, 'acc_vowel': 0.998554, 'acc_consonant': 0.999078, 'acc_word': 0.996436, 'loss_grapheme': 0.030201, 'loss_vowel': 0.020796, 'loss_consonant': 0.014221, 'loss_word': 0.029622}\n",
      "SWA>>>:\n"
     ]
    },
    {
     "name": "stderr",
     "output_type": "stream",
     "text": [
      "100%|██████████| 251/251 [02:00<00:00,  2.10it/s]\n"
     ]
    },
    {
     "name": "stdout",
     "output_type": "stream",
     "text": [
      "\n",
      "val: {'recall': 0.998264, 'recall_grapheme': 0.997367, 'recall_vowel': 0.998953, 'recall_consonant': 0.999371, 'recall_word': 0.997451, 'acc_grapheme': 0.997657, 'acc_vowel': 0.998829, 'acc_consonant': 0.999252, 'acc_word': 0.997458, 'loss_grapheme': 0.011166, 'loss_vowel': 0.005752, 'loss_consonant': 0.002612, 'loss_word': 0.011718}\n",
      "   48 | 0.000155 | 160640/160716 | 6.7456 | 5.0973 ||\n",
      "val: {'recall': 0.997787, 'recall_grapheme': 0.996686, 'recall_vowel': 0.99861, 'recall_consonant': 0.999168, 'recall_word': 0.996097, 'acc_grapheme': 0.996511, 'acc_vowel': 0.99843, 'acc_consonant': 0.999003, 'acc_word': 0.996137, 'loss_grapheme': 0.028645, 'loss_vowel': 0.01958, 'loss_consonant': 0.012723, 'loss_word': 0.028257}\n",
      "   49 | 0.000150 | 160640/160716 | 0.5573 | 5.1954 ||\n",
      "val: {'recall': 0.997707, 'recall_grapheme': 0.996451, 'recall_vowel': 0.998691, 'recall_consonant': 0.999236, 'recall_word': 0.996196, 'acc_grapheme': 0.996586, 'acc_vowel': 0.99843, 'acc_consonant': 0.999128, 'acc_word': 0.996212, 'loss_grapheme': 0.020949, 'loss_vowel': 0.013088, 'loss_consonant': 0.00814, 'loss_word': 0.019973}\n",
      "   50 | 0.000145 | 160640/160716 | 4.8463 | 4.6163 ||"
     ]
    },
    {
     "name": "stderr",
     "output_type": "stream",
     "text": [
      "\r",
      "  0%|          | 0/251 [00:00<?, ?it/s]"
     ]
    },
    {
     "name": "stdout",
     "output_type": "stream",
     "text": [
      "\n",
      "val: {'recall': 0.997927, 'recall_grapheme': 0.99665, 'recall_vowel': 0.999153, 'recall_consonant': 0.999254, 'recall_word': 0.99618, 'acc_grapheme': 0.996586, 'acc_vowel': 0.998779, 'acc_consonant': 0.999103, 'acc_word': 0.996237, 'loss_grapheme': 0.016905, 'loss_vowel': 0.008257, 'loss_consonant': 0.005264, 'loss_word': 0.017224}\n",
      "SWA>>>:\n"
     ]
    },
    {
     "name": "stderr",
     "output_type": "stream",
     "text": [
      "100%|██████████| 251/251 [02:00<00:00,  2.08it/s]\n"
     ]
    },
    {
     "name": "stdout",
     "output_type": "stream",
     "text": [
      "\n",
      "val: {'recall': 0.998284, 'recall_grapheme': 0.997407, 'recall_vowel': 0.998953, 'recall_consonant': 0.999371, 'recall_word': 0.997503, 'acc_grapheme': 0.997682, 'acc_vowel': 0.998829, 'acc_consonant': 0.999252, 'acc_word': 0.997508, 'loss_grapheme': 0.011148, 'loss_vowel': 0.005721, 'loss_consonant': 0.002623, 'loss_word': 0.011704}\n",
      "   51 | 0.000141 | 160640/160716 | 0.2400 | 5.5832 ||\n",
      "val: {'recall': 0.997721, 'recall_grapheme': 0.99647, 'recall_vowel': 0.998852, 'recall_consonant': 0.999092, 'recall_word': 0.996086, 'acc_grapheme': 0.996586, 'acc_vowel': 0.99848, 'acc_consonant': 0.999003, 'acc_word': 0.996137, 'loss_grapheme': 0.022665, 'loss_vowel': 0.013528, 'loss_consonant': 0.008459, 'loss_word': 0.023143}\n",
      "   52 | 0.000136 | 160640/160716 | 8.0211 | 5.7369 |||\n",
      "val: {'recall': 0.997577, 'recall_grapheme': 0.996177, 'recall_vowel': 0.998701, 'recall_consonant': 0.999254, 'recall_word': 0.995995, 'acc_grapheme': 0.996311, 'acc_vowel': 0.998405, 'acc_consonant': 0.999078, 'acc_word': 0.996012, 'loss_grapheme': 0.023457, 'loss_vowel': 0.014128, 'loss_consonant': 0.009276, 'loss_word': 0.022741}\n",
      "   53 | 0.000131 | 160640/160716 | 0.1545 | 5.5618 ||"
     ]
    },
    {
     "name": "stderr",
     "output_type": "stream",
     "text": [
      "\r",
      "  0%|          | 0/251 [00:00<?, ?it/s]"
     ]
    },
    {
     "name": "stdout",
     "output_type": "stream",
     "text": [
      "\n",
      "val: {'recall': 0.997859, 'recall_grapheme': 0.996638, 'recall_vowel': 0.998933, 'recall_consonant': 0.999226, 'recall_word': 0.996374, 'acc_grapheme': 0.996735, 'acc_vowel': 0.998654, 'acc_consonant': 0.999078, 'acc_word': 0.996461, 'loss_grapheme': 0.018106, 'loss_vowel': 0.010304, 'loss_consonant': 0.006194, 'loss_word': 0.018188}\n",
      "SWA>>>:\n"
     ]
    },
    {
     "name": "stderr",
     "output_type": "stream",
     "text": [
      "100%|██████████| 251/251 [02:01<00:00,  2.09it/s]\n"
     ]
    },
    {
     "name": "stdout",
     "output_type": "stream",
     "text": [
      "\n",
      "val: {'recall': 0.998278, 'recall_grapheme': 0.997393, 'recall_vowel': 0.998953, 'recall_consonant': 0.999371, 'recall_word': 0.997527, 'acc_grapheme': 0.997682, 'acc_vowel': 0.998829, 'acc_consonant': 0.999252, 'acc_word': 0.997533, 'loss_grapheme': 0.011161, 'loss_vowel': 0.005727, 'loss_consonant': 0.002627, 'loss_word': 0.011736}\n",
      "   54 | 0.000127 | 160640/160716 | 0.3334 | 5.4574 ||\n",
      "val: {'recall': 0.997759, 'recall_grapheme': 0.996477, 'recall_vowel': 0.998879, 'recall_consonant': 0.999204, 'recall_word': 0.99611, 'acc_grapheme': 0.996561, 'acc_vowel': 0.99853, 'acc_consonant': 0.999078, 'acc_word': 0.996187, 'loss_grapheme': 0.020485, 'loss_vowel': 0.011967, 'loss_consonant': 0.007288, 'loss_word': 0.020727}\n",
      "   55 | 0.000122 | 160640/160716 | 13.5654 | 5.1569 ||\n",
      "val: {'recall': 0.998, 'recall_grapheme': 0.996939, 'recall_vowel': 0.998846, 'recall_consonant': 0.999275, 'recall_word': 0.996427, 'acc_grapheme': 0.99686, 'acc_vowel': 0.998505, 'acc_consonant': 0.999178, 'acc_word': 0.996486, 'loss_grapheme': 0.020603, 'loss_vowel': 0.012474, 'loss_consonant': 0.007515, 'loss_word': 0.020286}\n",
      "   56 | 0.000117 | 160640/160716 | 11.6871 | 5.2560 |"
     ]
    },
    {
     "name": "stderr",
     "output_type": "stream",
     "text": [
      "\r",
      "  0%|          | 0/251 [00:00<?, ?it/s]"
     ]
    },
    {
     "name": "stdout",
     "output_type": "stream",
     "text": [
      "\n",
      "val: {'recall': 0.997819, 'recall_grapheme': 0.996753, 'recall_vowel': 0.998558, 'recall_consonant': 0.999215, 'recall_word': 0.996115, 'acc_grapheme': 0.996735, 'acc_vowel': 0.99823, 'acc_consonant': 0.999028, 'acc_word': 0.996137, 'loss_grapheme': 0.018687, 'loss_vowel': 0.010869, 'loss_consonant': 0.0063, 'loss_word': 0.019524}\n",
      "SWA>>>:\n"
     ]
    },
    {
     "name": "stderr",
     "output_type": "stream",
     "text": [
      "100%|██████████| 251/251 [02:01<00:00,  2.13it/s]\n"
     ]
    },
    {
     "name": "stdout",
     "output_type": "stream",
     "text": [
      "\n",
      "val: {'recall': 0.998275, 'recall_grapheme': 0.997388, 'recall_vowel': 0.998953, 'recall_consonant': 0.999371, 'recall_word': 0.997539, 'acc_grapheme': 0.997682, 'acc_vowel': 0.998829, 'acc_consonant': 0.999252, 'acc_word': 0.997533, 'loss_grapheme': 0.011142, 'loss_vowel': 0.005739, 'loss_consonant': 0.002631, 'loss_word': 0.011734}\n",
      "   57 | 0.000113 | 160640/160716 | 0.3369 | 4.8524 ||\n",
      "val: {'recall': 0.998038, 'recall_grapheme': 0.997102, 'recall_vowel': 0.998725, 'recall_consonant': 0.999223, 'recall_word': 0.996641, 'acc_grapheme': 0.997034, 'acc_vowel': 0.99848, 'acc_consonant': 0.999202, 'acc_word': 0.99671, 'loss_grapheme': 0.017991, 'loss_vowel': 0.011208, 'loss_consonant': 0.00696, 'loss_word': 0.017774}\n",
      "   58 | 0.000108 | 160640/160716 | 0.2185 | 5.5081 ||\n",
      "val: {'recall': 0.997964, 'recall_grapheme': 0.996911, 'recall_vowel': 0.998788, 'recall_consonant': 0.999244, 'recall_word': 0.996679, 'acc_grapheme': 0.996959, 'acc_vowel': 0.998604, 'acc_consonant': 0.999202, 'acc_word': 0.996735, 'loss_grapheme': 0.016978, 'loss_vowel': 0.009787, 'loss_consonant': 0.006037, 'loss_word': 0.016834}\n",
      "   59 | 0.000104 | 160640/160716 | 0.1781 | 5.5863 |||"
     ]
    },
    {
     "name": "stderr",
     "output_type": "stream",
     "text": [
      "\r",
      "  0%|          | 0/251 [00:00<?, ?it/s]"
     ]
    },
    {
     "name": "stdout",
     "output_type": "stream",
     "text": [
      "\n",
      "val: {'recall': 0.997767, 'recall_grapheme': 0.996521, 'recall_vowel': 0.998833, 'recall_consonant': 0.999194, 'recall_word': 0.996391, 'acc_grapheme': 0.99666, 'acc_vowel': 0.99853, 'acc_consonant': 0.998953, 'acc_word': 0.996436, 'loss_grapheme': 0.026294, 'loss_vowel': 0.017741, 'loss_consonant': 0.011739, 'loss_word': 0.02553}\n",
      "SWA>>>:\n"
     ]
    },
    {
     "name": "stderr",
     "output_type": "stream",
     "text": [
      "100%|██████████| 251/251 [02:00<00:00,  2.14it/s]\n"
     ]
    },
    {
     "name": "stdout",
     "output_type": "stream",
     "text": [
      "\n",
      "val: {'recall': 0.998268, 'recall_grapheme': 0.997375, 'recall_vowel': 0.998953, 'recall_consonant': 0.999371, 'recall_word': 0.997536, 'acc_grapheme': 0.997682, 'acc_vowel': 0.998829, 'acc_consonant': 0.999252, 'acc_word': 0.997533, 'loss_grapheme': 0.011155, 'loss_vowel': 0.005739, 'loss_consonant': 0.002621, 'loss_word': 0.011726}\n",
      "   60 | 0.000099 | 160640/160716 | 4.0042 | 5.2672 ||\n",
      "val: {'recall': 0.997614, 'recall_grapheme': 0.996235, 'recall_vowel': 0.998801, 'recall_consonant': 0.999183, 'recall_word': 0.996315, 'acc_grapheme': 0.996436, 'acc_vowel': 0.998629, 'acc_consonant': 0.999078, 'acc_word': 0.996361, 'loss_grapheme': 0.020323, 'loss_vowel': 0.011767, 'loss_consonant': 0.007488, 'loss_word': 0.020149}\n",
      "   61 | 0.000095 | 160640/160716 | 0.2439 | 5.3613 ||\n",
      "val: {'recall': 0.99768, 'recall_grapheme': 0.996551, 'recall_vowel': 0.998516, 'recall_consonant': 0.999104, 'recall_word': 0.996269, 'acc_grapheme': 0.996536, 'acc_vowel': 0.99848, 'acc_consonant': 0.998953, 'acc_word': 0.996287, 'loss_grapheme': 0.018485, 'loss_vowel': 0.010219, 'loss_consonant': 0.006411, 'loss_word': 0.018627}\n",
      "   62 | 0.000090 | 160640/160716 | 6.5369 | 4.7648 ||"
     ]
    },
    {
     "name": "stderr",
     "output_type": "stream",
     "text": [
      "\r",
      "  0%|          | 0/251 [00:00<?, ?it/s]"
     ]
    },
    {
     "name": "stdout",
     "output_type": "stream",
     "text": [
      "\n",
      "val: {'recall': 0.997941, 'recall_grapheme': 0.99694, 'recall_vowel': 0.998743, 'recall_consonant': 0.999141, 'recall_word': 0.996222, 'acc_grapheme': 0.997009, 'acc_vowel': 0.998505, 'acc_consonant': 0.999103, 'acc_word': 0.996237, 'loss_grapheme': 0.022263, 'loss_vowel': 0.014163, 'loss_consonant': 0.009053, 'loss_word': 0.021993}\n",
      "SWA>>>:\n"
     ]
    },
    {
     "name": "stderr",
     "output_type": "stream",
     "text": [
      "100%|██████████| 251/251 [02:00<00:00,  2.12it/s]\n"
     ]
    },
    {
     "name": "stdout",
     "output_type": "stream",
     "text": [
      "\n",
      "val: {'recall': 0.998258, 'recall_grapheme': 0.997355, 'recall_vowel': 0.998953, 'recall_consonant': 0.999371, 'recall_word': 0.997487, 'acc_grapheme': 0.997657, 'acc_vowel': 0.998829, 'acc_consonant': 0.999252, 'acc_word': 0.997483, 'loss_grapheme': 0.01116, 'loss_vowel': 0.005767, 'loss_consonant': 0.002632, 'loss_word': 0.011759}\n",
      "   63 | 0.000086 | 160640/160716 | 10.4025 | 4.9413 |\n",
      "val: {'recall': 0.997872, 'recall_grapheme': 0.996756, 'recall_vowel': 0.998718, 'recall_consonant': 0.99926, 'recall_word': 0.99617, 'acc_grapheme': 0.996835, 'acc_vowel': 0.998455, 'acc_consonant': 0.999003, 'acc_word': 0.996212, 'loss_grapheme': 0.021501, 'loss_vowel': 0.012746, 'loss_consonant': 0.008809, 'loss_word': 0.0211}\n",
      "   64 | 0.000082 | 160640/160716 | 5.7146 | 5.2568 ||\n",
      "val: {'recall': 0.997625, 'recall_grapheme': 0.996328, 'recall_vowel': 0.998693, 'recall_consonant': 0.999151, 'recall_word': 0.996074, 'acc_grapheme': 0.996461, 'acc_vowel': 0.998355, 'acc_consonant': 0.999053, 'acc_word': 0.996137, 'loss_grapheme': 0.022573, 'loss_vowel': 0.014, 'loss_consonant': 0.008779, 'loss_word': 0.021761}\n",
      "   65 | 0.000078 | 160640/160716 | 0.2608 | 5.0833 ||"
     ]
    },
    {
     "name": "stderr",
     "output_type": "stream",
     "text": [
      "\r",
      "  0%|          | 0/251 [00:00<?, ?it/s]"
     ]
    },
    {
     "name": "stdout",
     "output_type": "stream",
     "text": [
      "\n",
      "val: {'recall': 0.998212, 'recall_grapheme': 0.997312, 'recall_vowel': 0.998967, 'recall_consonant': 0.999257, 'recall_word': 0.996997, 'acc_grapheme': 0.997333, 'acc_vowel': 0.998679, 'acc_consonant': 0.999277, 'acc_word': 0.997009, 'loss_grapheme': 0.014099, 'loss_vowel': 0.007994, 'loss_consonant': 0.004386, 'loss_word': 0.014793}\n",
      "SWA>>>:\n"
     ]
    },
    {
     "name": "stderr",
     "output_type": "stream",
     "text": [
      "100%|██████████| 251/251 [02:01<00:00,  2.03it/s]\n"
     ]
    },
    {
     "name": "stdout",
     "output_type": "stream",
     "text": [
      "\n",
      "val: {'recall': 0.998293, 'recall_grapheme': 0.997424, 'recall_vowel': 0.998953, 'recall_consonant': 0.999371, 'recall_word': 0.997487, 'acc_grapheme': 0.997707, 'acc_vowel': 0.998829, 'acc_consonant': 0.999252, 'acc_word': 0.997483, 'loss_grapheme': 0.011156, 'loss_vowel': 0.005748, 'loss_consonant': 0.002656, 'loss_word': 0.01176}\n",
      "   66 | 0.000074 | 160640/160716 | 0.3409 | 5.0038 ||\n",
      "val: {'recall': 0.998012, 'recall_grapheme': 0.99692, 'recall_vowel': 0.998961, 'recall_consonant': 0.999247, 'recall_word': 0.996957, 'acc_grapheme': 0.996959, 'acc_vowel': 0.998629, 'acc_consonant': 0.999128, 'acc_word': 0.996984, 'loss_grapheme': 0.021004, 'loss_vowel': 0.014106, 'loss_consonant': 0.008454, 'loss_word': 0.019601}\n",
      "   67 | 0.000070 | 160640/160716 | 0.2697 | 5.4560 ||\n",
      "val: {'recall': 0.998233, 'recall_grapheme': 0.997408, 'recall_vowel': 0.998969, 'recall_consonant': 0.999147, 'recall_word': 0.997203, 'acc_grapheme': 0.997558, 'acc_vowel': 0.998729, 'acc_consonant': 0.999103, 'acc_word': 0.997209, 'loss_grapheme': 0.013084, 'loss_vowel': 0.007217, 'loss_consonant': 0.004013, 'loss_word': 0.01336}\n",
      "   68 | 0.000066 | 160640/160716 | 0.3549 | 5.0139 ||"
     ]
    },
    {
     "name": "stderr",
     "output_type": "stream",
     "text": [
      "\r",
      "  0%|          | 0/251 [00:00<?, ?it/s]"
     ]
    },
    {
     "name": "stdout",
     "output_type": "stream",
     "text": [
      "\n",
      "val: {'recall': 0.998224, 'recall_grapheme': 0.997339, 'recall_vowel': 0.998971, 'recall_consonant': 0.999248, 'recall_word': 0.99698, 'acc_grapheme': 0.997408, 'acc_vowel': 0.998704, 'acc_consonant': 0.999202, 'acc_word': 0.997009, 'loss_grapheme': 0.017348, 'loss_vowel': 0.010956, 'loss_consonant': 0.006766, 'loss_word': 0.016908}\n",
      "SWA>>>:\n"
     ]
    },
    {
     "name": "stderr",
     "output_type": "stream",
     "text": [
      "100%|██████████| 251/251 [02:01<00:00,  2.01it/s]\n"
     ]
    },
    {
     "name": "stdout",
     "output_type": "stream",
     "text": [
      "\n",
      "val: {'recall': 0.99825, 'recall_grapheme': 0.997339, 'recall_vowel': 0.998953, 'recall_consonant': 0.999371, 'recall_word': 0.997546, 'acc_grapheme': 0.997632, 'acc_vowel': 0.998829, 'acc_consonant': 0.999252, 'acc_word': 0.997533, 'loss_grapheme': 0.011157, 'loss_vowel': 0.005755, 'loss_consonant': 0.002672, 'loss_word': 0.01177}\n",
      "   69 | 0.000062 | 160640/160716 | 11.3301 | 5.3833 |\n",
      "val: {'recall': 0.997963, 'recall_grapheme': 0.996882, 'recall_vowel': 0.998806, 'recall_consonant': 0.999283, 'recall_word': 0.996592, 'acc_grapheme': 0.997009, 'acc_vowel': 0.998505, 'acc_consonant': 0.999103, 'acc_word': 0.996586, 'loss_grapheme': 0.022892, 'loss_vowel': 0.014714, 'loss_consonant': 0.009153, 'loss_word': 0.022799}\n",
      "   70 | 0.000058 | 160640/160716 | 0.1479 | 5.0486 ||\n",
      "val: {'recall': 0.99826, 'recall_grapheme': 0.997371, 'recall_vowel': 0.99898, 'recall_consonant': 0.999318, 'recall_word': 0.997139, 'acc_grapheme': 0.997458, 'acc_vowel': 0.998729, 'acc_consonant': 0.999227, 'acc_word': 0.997159, 'loss_grapheme': 0.017368, 'loss_vowel': 0.010937, 'loss_consonant': 0.006705, 'loss_word': 0.016728}\n",
      "   71 | 0.000054 | 160640/160716 | 0.2537 | 4.9538 |||"
     ]
    },
    {
     "name": "stderr",
     "output_type": "stream",
     "text": [
      "\r",
      "  0%|          | 0/251 [00:00<?, ?it/s]"
     ]
    },
    {
     "name": "stdout",
     "output_type": "stream",
     "text": [
      "\n",
      "val: {'recall': 0.998168, 'recall_grapheme': 0.997242, 'recall_vowel': 0.998872, 'recall_consonant': 0.999317, 'recall_word': 0.996868, 'acc_grapheme': 0.997184, 'acc_vowel': 0.998654, 'acc_consonant': 0.999227, 'acc_word': 0.996885, 'loss_grapheme': 0.018327, 'loss_vowel': 0.011379, 'loss_consonant': 0.007135, 'loss_word': 0.018585}\n",
      "SWA>>>:\n"
     ]
    },
    {
     "name": "stderr",
     "output_type": "stream",
     "text": [
      "100%|██████████| 251/251 [02:00<00:00,  2.10it/s]\n"
     ]
    },
    {
     "name": "stdout",
     "output_type": "stream",
     "text": [
      "\n",
      "val: {'recall': 0.998266, 'recall_grapheme': 0.997379, 'recall_vowel': 0.998937, 'recall_consonant': 0.999371, 'recall_word': 0.997517, 'acc_grapheme': 0.997657, 'acc_vowel': 0.998804, 'acc_consonant': 0.999252, 'acc_word': 0.997508, 'loss_grapheme': 0.011139, 'loss_vowel': 0.005752, 'loss_consonant': 0.002664, 'loss_word': 0.011746}\n",
      "   72 | 0.000051 | 160640/160716 | 6.3615 | 5.1181 ||\n",
      "val: {'recall': 0.997899, 'recall_grapheme': 0.996843, 'recall_vowel': 0.998731, 'recall_consonant': 0.999179, 'recall_word': 0.996305, 'acc_grapheme': 0.996735, 'acc_vowel': 0.998455, 'acc_consonant': 0.999053, 'acc_word': 0.996336, 'loss_grapheme': 0.02014, 'loss_vowel': 0.011731, 'loss_consonant': 0.007506, 'loss_word': 0.020083}\n",
      "   73 | 0.000047 | 160640/160716 | 3.0813 | 5.3875 ||\n",
      "val: {'recall': 0.997739, 'recall_grapheme': 0.996499, 'recall_vowel': 0.998851, 'recall_consonant': 0.999108, 'recall_word': 0.996006, 'acc_grapheme': 0.996436, 'acc_vowel': 0.998554, 'acc_consonant': 0.999078, 'acc_word': 0.996112, 'loss_grapheme': 0.017871, 'loss_vowel': 0.009304, 'loss_consonant': 0.005482, 'loss_word': 0.01836}\n",
      "   74 | 0.000044 | 160640/160716 | 10.4161 | 5.0772 |"
     ]
    },
    {
     "name": "stderr",
     "output_type": "stream",
     "text": [
      "\r",
      "  0%|          | 0/251 [00:00<?, ?it/s]"
     ]
    },
    {
     "name": "stdout",
     "output_type": "stream",
     "text": [
      "\n",
      "val: {'recall': 0.998085, 'recall_grapheme': 0.997015, 'recall_vowel': 0.998972, 'recall_consonant': 0.999336, 'recall_word': 0.996768, 'acc_grapheme': 0.997034, 'acc_vowel': 0.998704, 'acc_consonant': 0.999202, 'acc_word': 0.996785, 'loss_grapheme': 0.018645, 'loss_vowel': 0.010442, 'loss_consonant': 0.006956, 'loss_word': 0.018418}\n",
      "SWA>>>:\n"
     ]
    },
    {
     "name": "stderr",
     "output_type": "stream",
     "text": [
      "100%|██████████| 251/251 [01:59<00:00,  2.10it/s]\n"
     ]
    },
    {
     "name": "stdout",
     "output_type": "stream",
     "text": [
      "\n",
      "val: {'recall': 0.998274, 'recall_grapheme': 0.997386, 'recall_vowel': 0.998953, 'recall_consonant': 0.999371, 'recall_word': 0.997493, 'acc_grapheme': 0.997682, 'acc_vowel': 0.998829, 'acc_consonant': 0.999252, 'acc_word': 0.997483, 'loss_grapheme': 0.011138, 'loss_vowel': 0.005759, 'loss_consonant': 0.002656, 'loss_word': 0.011746}\n",
      "   75 | 0.000041 | 160640/160716 | 5.3405 | 5.6718 ||\n",
      "val: {'recall': 0.997992, 'recall_grapheme': 0.99691, 'recall_vowel': 0.998845, 'recall_consonant': 0.999302, 'recall_word': 0.996749, 'acc_grapheme': 0.997109, 'acc_vowel': 0.998629, 'acc_consonant': 0.999178, 'acc_word': 0.996785, 'loss_grapheme': 0.017785, 'loss_vowel': 0.01029, 'loss_consonant': 0.006615, 'loss_word': 0.017491}\n",
      "   76 | 0.000037 | 160640/160716 | 4.0419 | 5.1056 |||\n",
      "val: {'recall': 0.997968, 'recall_grapheme': 0.996911, 'recall_vowel': 0.998817, 'recall_consonant': 0.999232, 'recall_word': 0.996427, 'acc_grapheme': 0.996785, 'acc_vowel': 0.998604, 'acc_consonant': 0.999153, 'acc_word': 0.996461, 'loss_grapheme': 0.018618, 'loss_vowel': 0.010254, 'loss_consonant': 0.006728, 'loss_word': 0.018942}\n",
      "   77 | 0.000034 | 160640/160716 | 0.3792 | 5.1450 ||"
     ]
    },
    {
     "name": "stderr",
     "output_type": "stream",
     "text": [
      "\r",
      "  0%|          | 0/251 [00:00<?, ?it/s]"
     ]
    },
    {
     "name": "stdout",
     "output_type": "stream",
     "text": [
      "\n",
      "val: {'recall': 0.998096, 'recall_grapheme': 0.997142, 'recall_vowel': 0.998919, 'recall_consonant': 0.999183, 'recall_word': 0.996758, 'acc_grapheme': 0.997109, 'acc_vowel': 0.998604, 'acc_consonant': 0.999178, 'acc_word': 0.99681, 'loss_grapheme': 0.020046, 'loss_vowel': 0.012654, 'loss_consonant': 0.008381, 'loss_word': 0.020194}\n",
      "SWA>>>:\n"
     ]
    },
    {
     "name": "stderr",
     "output_type": "stream",
     "text": [
      "100%|██████████| 251/251 [02:00<00:00,  2.11it/s]\n"
     ]
    },
    {
     "name": "stdout",
     "output_type": "stream",
     "text": [
      "\n",
      "val: {'recall': 0.998277, 'recall_grapheme': 0.997385, 'recall_vowel': 0.998965, 'recall_consonant': 0.999371, 'recall_word': 0.997444, 'acc_grapheme': 0.997682, 'acc_vowel': 0.998854, 'acc_consonant': 0.999252, 'acc_word': 0.997433, 'loss_grapheme': 0.011101, 'loss_vowel': 0.005755, 'loss_consonant': 0.002651, 'loss_word': 0.011726}\n",
      "   78 | 0.000031 | 160640/160716 | 0.1747 | 5.6442 ||\n",
      "val: {'recall': 0.998099, 'recall_grapheme': 0.997182, 'recall_vowel': 0.998831, 'recall_consonant': 0.999201, 'recall_word': 0.996932, 'acc_grapheme': 0.997209, 'acc_vowel': 0.998654, 'acc_consonant': 0.999128, 'acc_word': 0.996959, 'loss_grapheme': 0.015188, 'loss_vowel': 0.00824, 'loss_consonant': 0.004753, 'loss_word': 0.015351}\n",
      "   79 | 0.000029 | 160640/160716 | 5.9944 | 4.6348 ||\n",
      "val: {'recall': 0.997445, 'recall_grapheme': 0.996025, 'recall_vowel': 0.998714, 'recall_consonant': 0.999017, 'recall_word': 0.995809, 'acc_grapheme': 0.996287, 'acc_vowel': 0.99843, 'acc_consonant': 0.998903, 'acc_word': 0.995863, 'loss_grapheme': 0.024101, 'loss_vowel': 0.014746, 'loss_consonant': 0.009393, 'loss_word': 0.023939}\n",
      "   80 | 0.000026 | 160640/160716 | 5.8926 | 5.2196 ||"
     ]
    },
    {
     "name": "stderr",
     "output_type": "stream",
     "text": [
      "\r",
      "  0%|          | 0/251 [00:00<?, ?it/s]"
     ]
    },
    {
     "name": "stdout",
     "output_type": "stream",
     "text": [
      "\n",
      "val: {'recall': 0.997543, 'recall_grapheme': 0.996262, 'recall_vowel': 0.998549, 'recall_consonant': 0.999099, 'recall_word': 0.99601, 'acc_grapheme': 0.996386, 'acc_vowel': 0.99838, 'acc_consonant': 0.999028, 'acc_word': 0.996037, 'loss_grapheme': 0.020723, 'loss_vowel': 0.011792, 'loss_consonant': 0.007319, 'loss_word': 0.020933}\n",
      "SWA>>>:\n"
     ]
    },
    {
     "name": "stderr",
     "output_type": "stream",
     "text": [
      "100%|██████████| 251/251 [02:00<00:00,  2.14it/s]\n"
     ]
    },
    {
     "name": "stdout",
     "output_type": "stream",
     "text": [
      "\n",
      "val: {'recall': 0.998262, 'recall_grapheme': 0.997359, 'recall_vowel': 0.998953, 'recall_consonant': 0.999377, 'recall_word': 0.99746, 'acc_grapheme': 0.997632, 'acc_vowel': 0.998829, 'acc_consonant': 0.999277, 'acc_word': 0.997458, 'loss_grapheme': 0.01112, 'loss_vowel': 0.005759, 'loss_consonant': 0.002673, 'loss_word': 0.01173}\n",
      "   81 | 0.000023 | 160640/160716 | 0.2922 | 5.0166 ||\n",
      "val: {'recall': 0.998131, 'recall_grapheme': 0.997151, 'recall_vowel': 0.998931, 'recall_consonant': 0.999291, 'recall_word': 0.996844, 'acc_grapheme': 0.997209, 'acc_vowel': 0.998654, 'acc_consonant': 0.999128, 'acc_word': 0.99686, 'loss_grapheme': 0.017842, 'loss_vowel': 0.010825, 'loss_consonant': 0.00686, 'loss_word': 0.017607}\n",
      "   82 | 0.000021 | 160640/160716 | 0.3517 | 5.2448 ||\n",
      "val: {'recall': 0.998194, 'recall_grapheme': 0.997361, 'recall_vowel': 0.998872, 'recall_consonant': 0.999181, 'recall_word': 0.996881, 'acc_grapheme': 0.997333, 'acc_vowel': 0.998629, 'acc_consonant': 0.999153, 'acc_word': 0.99691, 'loss_grapheme': 0.017177, 'loss_vowel': 0.01055, 'loss_consonant': 0.006445, 'loss_word': 0.017033}\n",
      "   83 | 0.000019 | 160640/160716 | 7.6145 | 5.0295 |||"
     ]
    },
    {
     "name": "stderr",
     "output_type": "stream",
     "text": [
      "\r",
      "  0%|          | 0/251 [00:00<?, ?it/s]"
     ]
    },
    {
     "name": "stdout",
     "output_type": "stream",
     "text": [
      "\n",
      "val: {'recall': 0.997598, 'recall_grapheme': 0.996336, 'recall_vowel': 0.998564, 'recall_consonant': 0.999154, 'recall_word': 0.996157, 'acc_grapheme': 0.996511, 'acc_vowel': 0.998405, 'acc_consonant': 0.999053, 'acc_word': 0.996187, 'loss_grapheme': 0.016914, 'loss_vowel': 0.009152, 'loss_consonant': 0.005358, 'loss_word': 0.017226}\n",
      "SWA>>>:\n"
     ]
    },
    {
     "name": "stderr",
     "output_type": "stream",
     "text": [
      "100%|██████████| 251/251 [02:00<00:00,  2.12it/s]\n"
     ]
    },
    {
     "name": "stdout",
     "output_type": "stream",
     "text": [
      "\n",
      "val: {'recall': 0.998312, 'recall_grapheme': 0.997452, 'recall_vowel': 0.998965, 'recall_consonant': 0.999377, 'recall_word': 0.99749, 'acc_grapheme': 0.997732, 'acc_vowel': 0.998854, 'acc_consonant': 0.999277, 'acc_word': 0.997483, 'loss_grapheme': 0.011084, 'loss_vowel': 0.005741, 'loss_consonant': 0.002663, 'loss_word': 0.011717}\n",
      "   85 | 0.000014 | 160640/160716 | 0.1170 | 5.1057 |||\n",
      "val: {'recall': 0.998133, 'recall_grapheme': 0.997115, 'recall_vowel': 0.998958, 'recall_consonant': 0.999345, 'recall_word': 0.997028, 'acc_grapheme': 0.997333, 'acc_vowel': 0.998704, 'acc_consonant': 0.999252, 'acc_word': 0.997059, 'loss_grapheme': 0.017093, 'loss_vowel': 0.010564, 'loss_consonant': 0.006663, 'loss_word': 0.016197}\n",
      "   86 | 0.000012 | 160640/160716 | 5.3394 | 5.0979 ||"
     ]
    },
    {
     "name": "stderr",
     "output_type": "stream",
     "text": [
      "\r",
      "  0%|          | 0/251 [00:00<?, ?it/s]"
     ]
    },
    {
     "name": "stdout",
     "output_type": "stream",
     "text": [
      "\n",
      "val: {'recall': 0.998131, 'recall_grapheme': 0.997183, 'recall_vowel': 0.998881, 'recall_consonant': 0.999277, 'recall_word': 0.996827, 'acc_grapheme': 0.997258, 'acc_vowel': 0.998579, 'acc_consonant': 0.999227, 'acc_word': 0.996885, 'loss_grapheme': 0.017632, 'loss_vowel': 0.010632, 'loss_consonant': 0.006682, 'loss_word': 0.018193}\n",
      "SWA>>>:\n"
     ]
    },
    {
     "name": "stderr",
     "output_type": "stream",
     "text": [
      "100%|██████████| 251/251 [02:01<00:00,  2.12it/s]\n"
     ]
    },
    {
     "name": "stdout",
     "output_type": "stream",
     "text": [
      "\n",
      "val: {'recall': 0.998303, 'recall_grapheme': 0.997435, 'recall_vowel': 0.998965, 'recall_consonant': 0.999377, 'recall_word': 0.997467, 'acc_grapheme': 0.997707, 'acc_vowel': 0.998854, 'acc_consonant': 0.999277, 'acc_word': 0.997458, 'loss_grapheme': 0.011135, 'loss_vowel': 0.005771, 'loss_consonant': 0.002684, 'loss_word': 0.011771}\n",
      "   87 | 0.000011 | 160640/160716 | 11.0140 | 5.3968 |\n",
      "val: {'recall': 0.998044, 'recall_grapheme': 0.997075, 'recall_vowel': 0.998745, 'recall_consonant': 0.999283, 'recall_word': 0.996721, 'acc_grapheme': 0.997109, 'acc_vowel': 0.998505, 'acc_consonant': 0.999252, 'acc_word': 0.99676, 'loss_grapheme': 0.017224, 'loss_vowel': 0.01006, 'loss_consonant': 0.006262, 'loss_word': 0.017703}\n",
      "   88 | 0.000009 | 160640/160716 | 0.1937 | 4.7821 ||\n",
      "val: {'recall': 0.997918, 'recall_grapheme': 0.996813, 'recall_vowel': 0.998772, 'recall_consonant': 0.999275, 'recall_word': 0.996678, 'acc_grapheme': 0.997009, 'acc_vowel': 0.99853, 'acc_consonant': 0.999227, 'acc_word': 0.99671, 'loss_grapheme': 0.014988, 'loss_vowel': 0.008398, 'loss_consonant': 0.004285, 'loss_word': 0.015996}\n",
      "   89 | 0.000007 | 160640/160716 | 8.3400 | 5.3189 |||"
     ]
    },
    {
     "name": "stderr",
     "output_type": "stream",
     "text": [
      "\r",
      "  0%|          | 0/251 [00:00<?, ?it/s]"
     ]
    },
    {
     "name": "stdout",
     "output_type": "stream",
     "text": [
      "\n",
      "val: {'recall': 0.997769, 'recall_grapheme': 0.996554, 'recall_vowel': 0.998835, 'recall_consonant': 0.999132, 'recall_word': 0.996439, 'acc_grapheme': 0.996785, 'acc_vowel': 0.998505, 'acc_consonant': 0.999078, 'acc_word': 0.996461, 'loss_grapheme': 0.020392, 'loss_vowel': 0.012708, 'loss_consonant': 0.007531, 'loss_word': 0.021089}\n",
      "SWA>>>:\n"
     ]
    },
    {
     "name": "stderr",
     "output_type": "stream",
     "text": [
      "100%|██████████| 251/251 [02:00<00:00,  2.05it/s]\n"
     ]
    },
    {
     "name": "stdout",
     "output_type": "stream",
     "text": [
      "\n",
      "val: {'recall': 0.998272, 'recall_grapheme': 0.997379, 'recall_vowel': 0.998953, 'recall_consonant': 0.999377, 'recall_word': 0.997491, 'acc_grapheme': 0.997657, 'acc_vowel': 0.998829, 'acc_consonant': 0.999277, 'acc_word': 0.997483, 'loss_grapheme': 0.011099, 'loss_vowel': 0.005756, 'loss_consonant': 0.00267, 'loss_word': 0.011725}\n",
      "   90 | 0.000006 | 160640/160716 | 0.3553 | 4.5613 ||\n",
      "val: {'recall': 0.998188, 'recall_grapheme': 0.997327, 'recall_vowel': 0.998893, 'recall_consonant': 0.999206, 'recall_word': 0.997058, 'acc_grapheme': 0.997383, 'acc_vowel': 0.998704, 'acc_consonant': 0.999153, 'acc_word': 0.997109, 'loss_grapheme': 0.015585, 'loss_vowel': 0.009216, 'loss_consonant': 0.005728, 'loss_word': 0.015566}\n",
      "   91 | 0.000005 | 160640/160716 | 0.1373 | 4.9461 |||\n",
      "val: {'recall': 0.997973, 'recall_grapheme': 0.996896, 'recall_vowel': 0.998867, 'recall_consonant': 0.999234, 'recall_word': 0.996756, 'acc_grapheme': 0.997109, 'acc_vowel': 0.998579, 'acc_consonant': 0.999178, 'acc_word': 0.996785, 'loss_grapheme': 0.015647, 'loss_vowel': 0.008868, 'loss_consonant': 0.00511, 'loss_word': 0.016043}\n",
      "   92 | 0.000004 | 160640/160716 | 13.1421 | 4.9265 |"
     ]
    },
    {
     "name": "stderr",
     "output_type": "stream",
     "text": [
      "\r",
      "  0%|          | 0/251 [00:00<?, ?it/s]"
     ]
    },
    {
     "name": "stdout",
     "output_type": "stream",
     "text": [
      "\n",
      "val: {'recall': 0.997864, 'recall_grapheme': 0.996827, 'recall_vowel': 0.99868, 'recall_consonant': 0.999124, 'recall_word': 0.996601, 'acc_grapheme': 0.997034, 'acc_vowel': 0.998579, 'acc_consonant': 0.999053, 'acc_word': 0.99666, 'loss_grapheme': 0.015466, 'loss_vowel': 0.008426, 'loss_consonant': 0.005105, 'loss_word': 0.01539}\n",
      "SWA>>>:\n"
     ]
    },
    {
     "name": "stderr",
     "output_type": "stream",
     "text": [
      " 94%|█████████▎| 235/251 [01:52<00:07,  2.14it/s]"
     ]
    },
    {
     "name": "stdout",
     "output_type": "stream",
     "text": [
      "   93 | 0.000003 | 160640/160716 | 6.4495 | 5.0845 ||\n",
      "val: {'recall': 0.997644, 'recall_grapheme': 0.996393, 'recall_vowel': 0.998618, 'recall_consonant': 0.999171, 'recall_word': 0.996449, 'acc_grapheme': 0.996635, 'acc_vowel': 0.998455, 'acc_consonant': 0.999128, 'acc_word': 0.996461, 'loss_grapheme': 0.016613, 'loss_vowel': 0.00861, 'loss_consonant': 0.004962, 'loss_word': 0.016758}\n",
      "   94 | 0.000002 | 160640/160716 | 0.3825 | 5.3559 ||\n",
      "val: {'recall': 0.998016, 'recall_grapheme': 0.996972, 'recall_vowel': 0.998851, 'recall_consonant': 0.999269, 'recall_word': 0.996834, 'acc_grapheme': 0.997059, 'acc_vowel': 0.998629, 'acc_consonant': 0.999202, 'acc_word': 0.996885, 'loss_grapheme': 0.015821, 'loss_vowel': 0.008947, 'loss_consonant': 0.005369, 'loss_word': 0.015894}\n",
      "   95 | 0.000001 | 160640/160716 | 12.6005 | 4.7809 |"
     ]
    },
    {
     "name": "stderr",
     "output_type": "stream",
     "text": [
      "\r",
      "  0%|          | 0/251 [00:00<?, ?it/s]"
     ]
    },
    {
     "name": "stdout",
     "output_type": "stream",
     "text": [
      "\n",
      "val: {'recall': 0.997805, 'recall_grapheme': 0.996648, 'recall_vowel': 0.998785, 'recall_consonant': 0.999138, 'recall_word': 0.996402, 'acc_grapheme': 0.99686, 'acc_vowel': 0.99848, 'acc_consonant': 0.999053, 'acc_word': 0.996436, 'loss_grapheme': 0.017543, 'loss_vowel': 0.010058, 'loss_consonant': 0.006281, 'loss_word': 0.017737}\n",
      "SWA>>>:\n"
     ]
    },
    {
     "name": "stderr",
     "output_type": "stream",
     "text": [
      "100%|██████████| 251/251 [02:01<00:00,  2.15it/s]\n"
     ]
    },
    {
     "name": "stdout",
     "output_type": "stream",
     "text": [
      "\n",
      "val: {'recall': 0.998295, 'recall_grapheme': 0.997434, 'recall_vowel': 0.998937, 'recall_consonant': 0.999377, 'recall_word': 0.997434, 'acc_grapheme': 0.997707, 'acc_vowel': 0.998804, 'acc_consonant': 0.999277, 'acc_word': 0.997433, 'loss_grapheme': 0.011074, 'loss_vowel': 0.005759, 'loss_consonant': 0.002682, 'loss_word': 0.011731}\n",
      "   96 | 0.000001 | 160640/160716 | 4.7481 | 5.1832 ||\n",
      "val: {'recall': 0.997731, 'recall_grapheme': 0.996493, 'recall_vowel': 0.998766, 'recall_consonant': 0.999174, 'recall_word': 0.996317, 'acc_grapheme': 0.996635, 'acc_vowel': 0.99853, 'acc_consonant': 0.999128, 'acc_word': 0.996336, 'loss_grapheme': 0.018704, 'loss_vowel': 0.010701, 'loss_consonant': 0.006335, 'loss_word': 0.019439}\n",
      "   97 | 0.000000 | 160640/160716 | 0.2410 | 5.0795 ||\n",
      "val: {'recall': 0.998068, 'recall_grapheme': 0.997112, 'recall_vowel': 0.998842, 'recall_consonant': 0.999207, 'recall_word': 0.996741, 'acc_grapheme': 0.997109, 'acc_vowel': 0.99853, 'acc_consonant': 0.999178, 'acc_word': 0.996785, 'loss_grapheme': 0.015919, 'loss_vowel': 0.008943, 'loss_consonant': 0.005529, 'loss_word': 0.016079}\n",
      "   98 | 0.000000 | 160640/160716 | 5.9358 | 4.7588 |||"
     ]
    },
    {
     "name": "stderr",
     "output_type": "stream",
     "text": [
      "\r",
      "  0%|          | 0/251 [00:00<?, ?it/s]"
     ]
    },
    {
     "name": "stdout",
     "output_type": "stream",
     "text": [
      "\n",
      "val: {'recall': 0.997594, 'recall_grapheme': 0.996274, 'recall_vowel': 0.998744, 'recall_consonant': 0.999084, 'recall_word': 0.995959, 'acc_grapheme': 0.996436, 'acc_vowel': 0.998405, 'acc_consonant': 0.998978, 'acc_word': 0.995963, 'loss_grapheme': 0.027065, 'loss_vowel': 0.017429, 'loss_consonant': 0.010665, 'loss_word': 0.026682}\n",
      "SWA>>>:\n"
     ]
    },
    {
     "name": "stderr",
     "output_type": "stream",
     "text": [
      "100%|██████████| 251/251 [02:01<00:00,  2.14it/s]\n"
     ]
    },
    {
     "name": "stdout",
     "output_type": "stream",
     "text": [
      "\n",
      "val: {'recall': 0.998268, 'recall_grapheme': 0.997422, 'recall_vowel': 0.998851, 'recall_consonant': 0.999377, 'recall_word': 0.997465, 'acc_grapheme': 0.997707, 'acc_vowel': 0.998779, 'acc_consonant': 0.999277, 'acc_word': 0.997458, 'loss_grapheme': 0.011057, 'loss_vowel': 0.005766, 'loss_consonant': 0.002674, 'loss_word': 0.011694}\n",
      "   99 | 0.000000 | 160640/160716 | 7.3623 | 4.8803 |||\n",
      "val: {'recall': 0.997636, 'recall_grapheme': 0.996396, 'recall_vowel': 0.998749, 'recall_consonant': 0.999002, 'recall_word': 0.99609, 'acc_grapheme': 0.99666, 'acc_vowel': 0.99843, 'acc_consonant': 0.998978, 'acc_word': 0.996087, 'loss_grapheme': 0.020816, 'loss_vowel': 0.012893, 'loss_consonant': 0.007503, 'loss_word': 0.020919}\n",
      "CYCLE: 3\n",
      "    0 | 0.000060 | 160640/160716 | 6.2535 | 5.2553 ||\n",
      "val: {'recall': 0.997991, 'recall_grapheme': 0.996968, 'recall_vowel': 0.998767, 'recall_consonant': 0.999263, 'recall_word': 0.996525, 'acc_grapheme': 0.996959, 'acc_vowel': 0.99853, 'acc_consonant': 0.999178, 'acc_word': 0.996586, 'loss_grapheme': 0.019063, 'loss_vowel': 0.011633, 'loss_consonant': 0.007382, 'loss_word': 0.019241}\n",
      "    1 | 0.000120 | 160640/160716 | 2.6895 | 5.2225 ||\n",
      "val: {'recall': 0.997887, 'recall_grapheme': 0.996719, 'recall_vowel': 0.998812, 'recall_consonant': 0.999299, 'recall_word': 0.996587, 'acc_grapheme': 0.996785, 'acc_vowel': 0.998579, 'acc_consonant': 0.999178, 'acc_word': 0.99666, 'loss_grapheme': 0.024471, 'loss_vowel': 0.01539, 'loss_consonant': 0.010728, 'loss_word': 0.024357}\n",
      "    2 | 0.000179 | 160640/160716 | 5.8395 | 4.9554 ||\n",
      "val: {'recall': 0.997823, 'recall_grapheme': 0.996607, 'recall_vowel': 0.998902, 'recall_consonant': 0.999176, 'recall_word': 0.996433, 'acc_grapheme': 0.996785, 'acc_vowel': 0.998554, 'acc_consonant': 0.999028, 'acc_word': 0.996486, 'loss_grapheme': 0.024184, 'loss_vowel': 0.015957, 'loss_consonant': 0.010588, 'loss_word': 0.02349}\n",
      "    3 | 0.000239 | 160640/160716 | 12.2675 | 5.3251 |\n",
      "val: {'recall': 0.997705, 'recall_grapheme': 0.996609, 'recall_vowel': 0.998644, 'recall_consonant': 0.998956, 'recall_word': 0.995931, 'acc_grapheme': 0.996436, 'acc_vowel': 0.998355, 'acc_consonant': 0.998928, 'acc_word': 0.995938, 'loss_grapheme': 0.017768, 'loss_vowel': 0.010035, 'loss_consonant': 0.005879, 'loss_word': 0.018488}\n",
      "    4 | 0.000298 | 160640/160716 | 11.7837 | 5.0203 ||\n",
      "val: {'recall': 0.99782, 'recall_grapheme': 0.996685, 'recall_vowel': 0.998772, 'recall_consonant': 0.999139, 'recall_word': 0.99625, 'acc_grapheme': 0.99671, 'acc_vowel': 0.99853, 'acc_consonant': 0.999078, 'acc_word': 0.996262, 'loss_grapheme': 0.020971, 'loss_vowel': 0.012535, 'loss_consonant': 0.008431, 'loss_word': 0.020897}\n",
      "    5 | 0.000297 | 160640/160716 | 3.6562 | 5.2187 ||\n",
      "val: {'recall': 0.997183, 'recall_grapheme': 0.995987, 'recall_vowel': 0.998174, 'recall_consonant': 0.998582, 'recall_word': 0.995315, 'acc_grapheme': 0.995614, 'acc_vowel': 0.997956, 'acc_consonant': 0.998505, 'acc_word': 0.995364, 'loss_grapheme': 0.029273, 'loss_vowel': 0.019351, 'loss_consonant': 0.011639, 'loss_word': 0.029338}\n",
      "    6 | 0.000296 | 160640/160716 | 10.6219 | 5.6124 ||\n",
      "val: {'recall': 0.997465, 'recall_grapheme': 0.996191, 'recall_vowel': 0.998355, 'recall_consonant': 0.999124, 'recall_word': 0.995954, 'acc_grapheme': 0.996212, 'acc_vowel': 0.998131, 'acc_consonant': 0.998953, 'acc_word': 0.995987, 'loss_grapheme': 0.020099, 'loss_vowel': 0.011619, 'loss_consonant': 0.007287, 'loss_word': 0.02043}\n",
      "    7 | 0.000295 | 160640/160716 | 0.3544 | 5.0833 ||\n",
      "val: {'recall': 0.997663, 'recall_grapheme': 0.99641, 'recall_vowel': 0.998706, 'recall_consonant': 0.999126, 'recall_word': 0.996091, 'acc_grapheme': 0.996311, 'acc_vowel': 0.998405, 'acc_consonant': 0.999028, 'acc_word': 0.996087, 'loss_grapheme': 0.018911, 'loss_vowel': 0.011597, 'loss_consonant': 0.006754, 'loss_word': 0.020083}\n",
      "    8 | 0.000294 | 160640/160716 | 3.6050 | 5.4529 ||\n",
      "val: {'recall': 0.997085, 'recall_grapheme': 0.995321, 'recall_vowel': 0.998563, 'recall_consonant': 0.999134, 'recall_word': 0.995246, 'acc_grapheme': 0.995713, 'acc_vowel': 0.998206, 'acc_consonant': 0.998679, 'acc_word': 0.99529, 'loss_grapheme': 0.029484, 'loss_vowel': 0.018197, 'loss_consonant': 0.012042, 'loss_word': 0.029174}\n",
      "    9 | 0.000293 | 160640/160716 | 5.8207 | 5.4279 ||\n",
      "val: {'recall': 0.997736, 'recall_grapheme': 0.996533, 'recall_vowel': 0.998632, 'recall_consonant': 0.999245, 'recall_word': 0.995858, 'acc_grapheme': 0.996237, 'acc_vowel': 0.99833, 'acc_consonant': 0.999028, 'acc_word': 0.995913, 'loss_grapheme': 0.02688, 'loss_vowel': 0.016639, 'loss_consonant': 0.010716, 'loss_word': 0.026918}\n",
      "   10 | 0.000291 | 160640/160716 | 0.2557 | 5.4011 ||\n",
      "val: {'recall': 0.998073, 'recall_grapheme': 0.997061, 'recall_vowel': 0.998774, 'recall_consonant': 0.999395, 'recall_word': 0.996567, 'acc_grapheme': 0.996935, 'acc_vowel': 0.998604, 'acc_consonant': 0.999227, 'acc_word': 0.996635, 'loss_grapheme': 0.015941, 'loss_vowel': 0.009015, 'loss_consonant': 0.005356, 'loss_word': 0.016539}\n",
      "   11 | 0.000289 | 160640/160716 | 0.3285 | 4.7828 ||\n",
      "val: {'recall': 0.997348, 'recall_grapheme': 0.9961, 'recall_vowel': 0.99823, 'recall_consonant': 0.99896, 'recall_word': 0.995531, 'acc_grapheme': 0.995938, 'acc_vowel': 0.998305, 'acc_consonant': 0.998804, 'acc_word': 0.995514, 'loss_grapheme': 0.022307, 'loss_vowel': 0.012782, 'loss_consonant': 0.008519, 'loss_word': 0.023015}\n",
      "   12 | 0.000288 | 160640/160716 | 13.5416 | 4.9643 ||\n",
      "val: {'recall': 0.997383, 'recall_grapheme': 0.996034, 'recall_vowel': 0.998264, 'recall_consonant': 0.999201, 'recall_word': 0.995205, 'acc_grapheme': 0.995589, 'acc_vowel': 0.99823, 'acc_consonant': 0.998978, 'acc_word': 0.99519, 'loss_grapheme': 0.024467, 'loss_vowel': 0.013694, 'loss_consonant': 0.010008, 'loss_word': 0.024744}\n",
      "   13 | 0.000286 | 160640/160716 | 8.3161 | 5.2836 ||\n",
      "val: {'recall': 0.997292, 'recall_grapheme': 0.995705, 'recall_vowel': 0.998569, 'recall_consonant': 0.999187, 'recall_word': 0.995638, 'acc_grapheme': 0.995913, 'acc_vowel': 0.99833, 'acc_consonant': 0.998804, 'acc_word': 0.995639, 'loss_grapheme': 0.033305, 'loss_vowel': 0.022433, 'loss_consonant': 0.014654, 'loss_word': 0.030788}\n",
      "   14 | 0.000284 | 160640/160716 | 7.0618 | 5.4667 ||"
     ]
    },
    {
     "name": "stderr",
     "output_type": "stream",
     "text": [
      "\r",
      "  0%|          | 0/251 [00:00<?, ?it/s]"
     ]
    },
    {
     "name": "stdout",
     "output_type": "stream",
     "text": [
      "\n",
      "val: {'recall': 0.997772, 'recall_grapheme': 0.996524, 'recall_vowel': 0.998852, 'recall_consonant': 0.99919, 'recall_word': 0.996274, 'acc_grapheme': 0.996735, 'acc_vowel': 0.99853, 'acc_consonant': 0.999028, 'acc_word': 0.996361, 'loss_grapheme': 0.025922, 'loss_vowel': 0.016294, 'loss_consonant': 0.011024, 'loss_word': 0.025802}\n",
      "SWA>>>:\n"
     ]
    },
    {
     "name": "stderr",
     "output_type": "stream",
     "text": [
      "100%|██████████| 251/251 [02:01<00:00,  2.15it/s]\n"
     ]
    },
    {
     "name": "stdout",
     "output_type": "stream",
     "text": [
      "\n",
      "val: {'recall': 0.99829, 'recall_grapheme': 0.997409, 'recall_vowel': 0.998965, 'recall_consonant': 0.999377, 'recall_word': 0.997509, 'acc_grapheme': 0.997707, 'acc_vowel': 0.998829, 'acc_consonant': 0.999277, 'acc_word': 0.997508, 'loss_grapheme': 0.011062, 'loss_vowel': 0.005748, 'loss_consonant': 0.002684, 'loss_word': 0.011713}\n",
      "   15 | 0.000281 | 160640/160716 | 0.2949 | 5.2798 |||\n",
      "val: {'recall': 0.99756, 'recall_grapheme': 0.996171, 'recall_vowel': 0.998653, 'recall_consonant': 0.999244, 'recall_word': 0.995698, 'acc_grapheme': 0.996062, 'acc_vowel': 0.998455, 'acc_consonant': 0.998928, 'acc_word': 0.995738, 'loss_grapheme': 0.02267, 'loss_vowel': 0.01199, 'loss_consonant': 0.008155, 'loss_word': 0.022083}\n",
      "   16 | 0.000279 | 160640/160716 | 12.1421 | 5.3196 |\n",
      "val: {'recall': 0.997575, 'recall_grapheme': 0.996339, 'recall_vowel': 0.998709, 'recall_consonant': 0.998915, 'recall_word': 0.995958, 'acc_grapheme': 0.996411, 'acc_vowel': 0.998405, 'acc_consonant': 0.998779, 'acc_word': 0.995987, 'loss_grapheme': 0.021082, 'loss_vowel': 0.011473, 'loss_consonant': 0.007794, 'loss_word': 0.021105}\n",
      "   17 | 0.000277 | 160640/160716 | 0.1865 | 5.0805 |||"
     ]
    },
    {
     "name": "stderr",
     "output_type": "stream",
     "text": [
      "\r",
      "  0%|          | 0/251 [00:00<?, ?it/s]"
     ]
    },
    {
     "name": "stdout",
     "output_type": "stream",
     "text": [
      "\n",
      "val: {'recall': 0.997884, 'recall_grapheme': 0.996674, 'recall_vowel': 0.998863, 'recall_consonant': 0.999327, 'recall_word': 0.996819, 'acc_grapheme': 0.997109, 'acc_vowel': 0.998579, 'acc_consonant': 0.999153, 'acc_word': 0.996885, 'loss_grapheme': 0.017001, 'loss_vowel': 0.009554, 'loss_consonant': 0.005931, 'loss_word': 0.016846}\n",
      "SWA>>>:\n"
     ]
    },
    {
     "name": "stderr",
     "output_type": "stream",
     "text": [
      "100%|██████████| 251/251 [02:01<00:00,  2.13it/s]\n"
     ]
    },
    {
     "name": "stdout",
     "output_type": "stream",
     "text": [
      "\n",
      "val: {'recall': 0.998276, 'recall_grapheme': 0.997409, 'recall_vowel': 0.998879, 'recall_consonant': 0.999408, 'recall_word': 0.997483, 'acc_grapheme': 0.997707, 'acc_vowel': 0.998829, 'acc_consonant': 0.999302, 'acc_word': 0.997483, 'loss_grapheme': 0.011083, 'loss_vowel': 0.005785, 'loss_consonant': 0.002676, 'loss_word': 0.01174}\n",
      "   18 | 0.000274 | 160640/160716 | 8.4887 | 5.2179 |||\n",
      "val: {'recall': 0.997752, 'recall_grapheme': 0.996668, 'recall_vowel': 0.998512, 'recall_consonant': 0.99916, 'recall_word': 0.996062, 'acc_grapheme': 0.996635, 'acc_vowel': 0.99833, 'acc_consonant': 0.999053, 'acc_word': 0.996162, 'loss_grapheme': 0.022594, 'loss_vowel': 0.014399, 'loss_consonant': 0.008973, 'loss_word': 0.023257}\n",
      "   19 | 0.000271 | 160640/160716 | 4.5426 | 5.6799 ||\n",
      "val: {'recall': 0.997605, 'recall_grapheme': 0.996276, 'recall_vowel': 0.998804, 'recall_consonant': 0.999064, 'recall_word': 0.995942, 'acc_grapheme': 0.996162, 'acc_vowel': 0.998455, 'acc_consonant': 0.998878, 'acc_word': 0.995987, 'loss_grapheme': 0.020125, 'loss_vowel': 0.011691, 'loss_consonant': 0.007832, 'loss_word': 0.020133}\n",
      "   20 | 0.000269 | 160640/160716 | 11.1677 | 4.9373 |"
     ]
    },
    {
     "name": "stderr",
     "output_type": "stream",
     "text": [
      "\r",
      "  0%|          | 0/251 [00:00<?, ?it/s]"
     ]
    },
    {
     "name": "stdout",
     "output_type": "stream",
     "text": [
      "\n",
      "val: {'recall': 0.997729, 'recall_grapheme': 0.996529, 'recall_vowel': 0.998784, 'recall_consonant': 0.999072, 'recall_word': 0.99607, 'acc_grapheme': 0.996411, 'acc_vowel': 0.998355, 'acc_consonant': 0.998903, 'acc_word': 0.996087, 'loss_grapheme': 0.019599, 'loss_vowel': 0.011538, 'loss_consonant': 0.008357, 'loss_word': 0.020531}\n",
      "SWA>>>:\n"
     ]
    },
    {
     "name": "stderr",
     "output_type": "stream",
     "text": [
      "100%|██████████| 251/251 [02:01<00:00,  2.12it/s]\n"
     ]
    },
    {
     "name": "stdout",
     "output_type": "stream",
     "text": [
      "\n",
      "val: {'recall': 0.998272, 'recall_grapheme': 0.997415, 'recall_vowel': 0.998879, 'recall_consonant': 0.999377, 'recall_word': 0.997507, 'acc_grapheme': 0.997732, 'acc_vowel': 0.998829, 'acc_consonant': 0.999277, 'acc_word': 0.997508, 'loss_grapheme': 0.011066, 'loss_vowel': 0.005773, 'loss_consonant': 0.00269, 'loss_word': 0.011724}\n",
      "   21 | 0.000266 | 160640/160716 | 0.3390 | 5.8410 ||\n",
      "val: {'recall': 0.997789, 'recall_grapheme': 0.996535, 'recall_vowel': 0.998923, 'recall_consonant': 0.999161, 'recall_word': 0.99633, 'acc_grapheme': 0.996735, 'acc_vowel': 0.998604, 'acc_consonant': 0.999003, 'acc_word': 0.996361, 'loss_grapheme': 0.024973, 'loss_vowel': 0.016803, 'loss_consonant': 0.01193, 'loss_word': 0.02367}\n",
      "   22 | 0.000263 | 160640/160716 | 7.7901 | 5.4596 ||\n",
      "val: {'recall': 0.997767, 'recall_grapheme': 0.996448, 'recall_vowel': 0.998904, 'recall_consonant': 0.999269, 'recall_word': 0.995897, 'acc_grapheme': 0.996411, 'acc_vowel': 0.998455, 'acc_consonant': 0.998804, 'acc_word': 0.995963, 'loss_grapheme': 0.030049, 'loss_vowel': 0.01941, 'loss_consonant': 0.013839, 'loss_word': 0.02976}\n",
      "   23 | 0.000259 | 160640/160716 | 4.9600 | 5.6523 |||"
     ]
    },
    {
     "name": "stderr",
     "output_type": "stream",
     "text": [
      "\r",
      "  0%|          | 0/251 [00:00<?, ?it/s]"
     ]
    },
    {
     "name": "stdout",
     "output_type": "stream",
     "text": [
      "\n",
      "val: {'recall': 0.996859, 'recall_grapheme': 0.995121, 'recall_vowel': 0.998242, 'recall_consonant': 0.998954, 'recall_word': 0.99519, 'acc_grapheme': 0.995439, 'acc_vowel': 0.998081, 'acc_consonant': 0.998604, 'acc_word': 0.995215, 'loss_grapheme': 0.108091, 'loss_vowel': 0.07055, 'loss_consonant': 0.044448, 'loss_word': 0.092259}\n",
      "SWA>>>:\n"
     ]
    },
    {
     "name": "stderr",
     "output_type": "stream",
     "text": [
      "100%|██████████| 251/251 [02:00<00:00,  2.07it/s]\n"
     ]
    },
    {
     "name": "stdout",
     "output_type": "stream",
     "text": [
      "\n",
      "val: {'recall': 0.998248, 'recall_grapheme': 0.997353, 'recall_vowel': 0.998908, 'recall_consonant': 0.999377, 'recall_word': 0.997506, 'acc_grapheme': 0.997657, 'acc_vowel': 0.998854, 'acc_consonant': 0.999277, 'acc_word': 0.997508, 'loss_grapheme': 0.011074, 'loss_vowel': 0.005805, 'loss_consonant': 0.002688, 'loss_word': 0.011747}\n",
      "   24 | 0.000256 | 160640/160716 | 14.7982 | 5.1694 |\n",
      "val: {'recall': 0.997642, 'recall_grapheme': 0.996256, 'recall_vowel': 0.99883, 'recall_consonant': 0.999226, 'recall_word': 0.99615, 'acc_grapheme': 0.996436, 'acc_vowel': 0.998579, 'acc_consonant': 0.998978, 'acc_word': 0.996212, 'loss_grapheme': 0.028578, 'loss_vowel': 0.018837, 'loss_consonant': 0.013583, 'loss_word': 0.024105}\n",
      "   25 | 0.000253 | 160640/160716 | 5.9945 | 5.3924 ||\n",
      "val: {'recall': 0.997691, 'recall_grapheme': 0.996334, 'recall_vowel': 0.99905, 'recall_consonant': 0.999046, 'recall_word': 0.996103, 'acc_grapheme': 0.996486, 'acc_vowel': 0.998679, 'acc_consonant': 0.998829, 'acc_word': 0.996212, 'loss_grapheme': 0.018195, 'loss_vowel': 0.009683, 'loss_consonant': 0.006692, 'loss_word': 0.018429}\n",
      "   26 | 0.000249 | 160640/160716 | 9.1611 | 5.6396 |||"
     ]
    },
    {
     "name": "stderr",
     "output_type": "stream",
     "text": [
      "\r",
      "  0%|          | 0/251 [00:00<?, ?it/s]"
     ]
    },
    {
     "name": "stdout",
     "output_type": "stream",
     "text": [
      "\n",
      "val: {'recall': 0.997526, 'recall_grapheme': 0.996106, 'recall_vowel': 0.998769, 'recall_consonant': 0.999123, 'recall_word': 0.99558, 'acc_grapheme': 0.996287, 'acc_vowel': 0.99843, 'acc_consonant': 0.998928, 'acc_word': 0.995663, 'loss_grapheme': 0.023785, 'loss_vowel': 0.014712, 'loss_consonant': 0.010131, 'loss_word': 0.024079}\n",
      "SWA>>>:\n"
     ]
    },
    {
     "name": "stderr",
     "output_type": "stream",
     "text": [
      "100%|██████████| 251/251 [02:00<00:00,  2.08it/s]\n"
     ]
    },
    {
     "name": "stdout",
     "output_type": "stream",
     "text": [
      "\n",
      "val: {'recall': 0.998275, 'recall_grapheme': 0.997407, 'recall_vowel': 0.998908, 'recall_consonant': 0.999377, 'recall_word': 0.997478, 'acc_grapheme': 0.997707, 'acc_vowel': 0.998854, 'acc_consonant': 0.999277, 'acc_word': 0.997483, 'loss_grapheme': 0.011094, 'loss_vowel': 0.005768, 'loss_consonant': 0.002693, 'loss_word': 0.011761}\n",
      "   27 | 0.000246 | 160640/160716 | 0.4184 | 5.5038 |||\n",
      "val: {'recall': 0.997803, 'recall_grapheme': 0.996626, 'recall_vowel': 0.998924, 'recall_consonant': 0.999035, 'recall_word': 0.996475, 'acc_grapheme': 0.99691, 'acc_vowel': 0.998679, 'acc_consonant': 0.999028, 'acc_word': 0.996561, 'loss_grapheme': 0.020809, 'loss_vowel': 0.013578, 'loss_consonant': 0.008428, 'loss_word': 0.02055}\n",
      "   29 | 0.000238 | 160640/160716 | 0.0775 | 5.3025 ||"
     ]
    },
    {
     "name": "stderr",
     "output_type": "stream",
     "text": [
      "\r",
      "  0%|          | 0/251 [00:00<?, ?it/s]"
     ]
    },
    {
     "name": "stdout",
     "output_type": "stream",
     "text": [
      "\n",
      "val: {'recall': 0.998089, 'recall_grapheme': 0.996992, 'recall_vowel': 0.99898, 'recall_consonant': 0.999392, 'recall_word': 0.996836, 'acc_grapheme': 0.997134, 'acc_vowel': 0.998804, 'acc_consonant': 0.999202, 'acc_word': 0.99691, 'loss_grapheme': 0.014703, 'loss_vowel': 0.007487, 'loss_consonant': 0.005105, 'loss_word': 0.014127}\n",
      "SWA>>>:\n"
     ]
    },
    {
     "name": "stderr",
     "output_type": "stream",
     "text": [
      "100%|██████████| 251/251 [02:01<00:00,  2.09it/s]\n"
     ]
    },
    {
     "name": "stdout",
     "output_type": "stream",
     "text": [
      "\n",
      "val: {'recall': 0.998276, 'recall_grapheme': 0.997409, 'recall_vowel': 0.998908, 'recall_consonant': 0.999377, 'recall_word': 0.997478, 'acc_grapheme': 0.997707, 'acc_vowel': 0.998854, 'acc_consonant': 0.999277, 'acc_word': 0.997483, 'loss_grapheme': 0.011078, 'loss_vowel': 0.005757, 'loss_consonant': 0.002685, 'loss_word': 0.01174}\n",
      "   30 | 0.000234 | 160640/160716 | 10.7881 | 5.8056 |\n",
      "val: {'recall': 0.997846, 'recall_grapheme': 0.996617, 'recall_vowel': 0.998977, 'recall_consonant': 0.999174, 'recall_word': 0.996351, 'acc_grapheme': 0.996511, 'acc_vowel': 0.998729, 'acc_consonant': 0.998878, 'acc_word': 0.996411, 'loss_grapheme': 0.016196, 'loss_vowel': 0.008076, 'loss_consonant': 0.005351, 'loss_word': 0.016539}\n",
      "   31 | 0.000230 | 160640/160716 | 2.6954 | 5.5286 |||\n",
      "val: {'recall': 0.99781, 'recall_grapheme': 0.996469, 'recall_vowel': 0.999031, 'recall_consonant': 0.999274, 'recall_word': 0.996353, 'acc_grapheme': 0.996561, 'acc_vowel': 0.998754, 'acc_consonant': 0.999103, 'acc_word': 0.996461, 'loss_grapheme': 0.017484, 'loss_vowel': 0.009563, 'loss_consonant': 0.006085, 'loss_word': 0.017339}\n",
      "   32 | 0.000226 | 160640/160716 | 5.8456 | 5.2360 |||"
     ]
    },
    {
     "name": "stderr",
     "output_type": "stream",
     "text": [
      "\r",
      "  0%|          | 0/251 [00:00<?, ?it/s]"
     ]
    },
    {
     "name": "stdout",
     "output_type": "stream",
     "text": [
      "\n",
      "val: {'recall': 0.997498, 'recall_grapheme': 0.996171, 'recall_vowel': 0.998585, 'recall_consonant': 0.999063, 'recall_word': 0.995993, 'acc_grapheme': 0.996162, 'acc_vowel': 0.99838, 'acc_consonant': 0.998878, 'acc_word': 0.996037, 'loss_grapheme': 0.019554, 'loss_vowel': 0.010058, 'loss_consonant': 0.007033, 'loss_word': 0.019937}\n",
      "SWA>>>:\n"
     ]
    },
    {
     "name": "stderr",
     "output_type": "stream",
     "text": [
      "100%|██████████| 251/251 [02:00<00:00,  2.12it/s]\n"
     ]
    },
    {
     "name": "stdout",
     "output_type": "stream",
     "text": [
      "\n",
      "val: {'recall': 0.998272, 'recall_grapheme': 0.997393, 'recall_vowel': 0.998892, 'recall_consonant': 0.99941, 'recall_word': 0.997478, 'acc_grapheme': 0.997657, 'acc_vowel': 0.998829, 'acc_consonant': 0.999302, 'acc_word': 0.997483, 'loss_grapheme': 0.011066, 'loss_vowel': 0.005762, 'loss_consonant': 0.002706, 'loss_word': 0.011733}\n",
      "   33 | 0.000222 | 160640/160716 | 6.3208 | 5.2077 ||\n",
      "val: {'recall': 0.996549, 'recall_grapheme': 0.995216, 'recall_vowel': 0.997845, 'recall_consonant': 0.997919, 'recall_word': 0.994179, 'acc_grapheme': 0.994667, 'acc_vowel': 0.997558, 'acc_consonant': 0.997956, 'acc_word': 0.994193, 'loss_grapheme': 0.068672, 'loss_vowel': 0.047937, 'loss_consonant': 0.030103, 'loss_word': 0.061442}\n",
      "   34 | 0.000218 | 160640/160716 | 0.2674 | 5.2074 ||\n",
      "val: {'recall': 0.997701, 'recall_grapheme': 0.996379, 'recall_vowel': 0.998815, 'recall_consonant': 0.99923, 'recall_word': 0.996022, 'acc_grapheme': 0.996287, 'acc_vowel': 0.99848, 'acc_consonant': 0.998978, 'acc_word': 0.996087, 'loss_grapheme': 0.021152, 'loss_vowel': 0.012463, 'loss_consonant': 0.007854, 'loss_word': 0.020935}\n",
      "   35 | 0.000214 | 160640/160716 | 4.0322 | 4.4720 ||"
     ]
    },
    {
     "name": "stderr",
     "output_type": "stream",
     "text": [
      "\r",
      "  0%|          | 0/251 [00:00<?, ?it/s]"
     ]
    },
    {
     "name": "stdout",
     "output_type": "stream",
     "text": [
      "\n",
      "val: {'recall': 0.997351, 'recall_grapheme': 0.995893, 'recall_vowel': 0.998482, 'recall_consonant': 0.999138, 'recall_word': 0.995685, 'acc_grapheme': 0.996062, 'acc_vowel': 0.998355, 'acc_consonant': 0.998754, 'acc_word': 0.995738, 'loss_grapheme': 0.04982, 'loss_vowel': 0.034275, 'loss_consonant': 0.021668, 'loss_word': 0.04434}\n",
      "SWA>>>:\n"
     ]
    },
    {
     "name": "stderr",
     "output_type": "stream",
     "text": [
      "100%|██████████| 251/251 [02:03<00:00,  2.11it/s]\n"
     ]
    },
    {
     "name": "stdout",
     "output_type": "stream",
     "text": [
      "\n",
      "val: {'recall': 0.998285, 'recall_grapheme': 0.997412, 'recall_vowel': 0.998908, 'recall_consonant': 0.99941, 'recall_word': 0.997476, 'acc_grapheme': 0.997707, 'acc_vowel': 0.998854, 'acc_consonant': 0.999302, 'acc_word': 0.997483, 'loss_grapheme': 0.011048, 'loss_vowel': 0.005763, 'loss_consonant': 0.002719, 'loss_word': 0.011733}\n",
      "   36 | 0.000210 | 160640/160716 | 5.0623 | 5.1127 ||\n",
      "val: {'recall': 0.99784, 'recall_grapheme': 0.996652, 'recall_vowel': 0.998972, 'recall_consonant': 0.999085, 'recall_word': 0.996457, 'acc_grapheme': 0.996611, 'acc_vowel': 0.998729, 'acc_consonant': 0.999053, 'acc_word': 0.996561, 'loss_grapheme': 0.019297, 'loss_vowel': 0.010175, 'loss_consonant': 0.007123, 'loss_word': 0.018821}\n",
      "   37 | 0.000205 | 160640/160716 | 0.2260 | 5.8320 |||\n",
      "val: {'recall': 0.997946, 'recall_grapheme': 0.996731, 'recall_vowel': 0.998982, 'recall_consonant': 0.999338, 'recall_word': 0.996347, 'acc_grapheme': 0.996785, 'acc_vowel': 0.998679, 'acc_consonant': 0.999103, 'acc_word': 0.996411, 'loss_grapheme': 0.019391, 'loss_vowel': 0.011688, 'loss_consonant': 0.007601, 'loss_word': 0.018979}\n",
      "   38 | 0.000201 | 160640/160716 | 3.7365 | 5.2737 ||"
     ]
    },
    {
     "name": "stderr",
     "output_type": "stream",
     "text": [
      "\r",
      "  0%|          | 0/251 [00:00<?, ?it/s]"
     ]
    },
    {
     "name": "stdout",
     "output_type": "stream",
     "text": [
      "\n",
      "val: {'recall': 0.997479, 'recall_grapheme': 0.996104, 'recall_vowel': 0.998606, 'recall_consonant': 0.999104, 'recall_word': 0.996002, 'acc_grapheme': 0.996386, 'acc_vowel': 0.99848, 'acc_consonant': 0.998953, 'acc_word': 0.996037, 'loss_grapheme': 0.020992, 'loss_vowel': 0.012042, 'loss_consonant': 0.007497, 'loss_word': 0.020735}\n",
      "SWA>>>:\n"
     ]
    },
    {
     "name": "stderr",
     "output_type": "stream",
     "text": [
      "100%|██████████| 251/251 [02:01<00:00,  2.15it/s]\n"
     ]
    },
    {
     "name": "stdout",
     "output_type": "stream",
     "text": [
      "\n",
      "val: {'recall': 0.998264, 'recall_grapheme': 0.997393, 'recall_vowel': 0.998892, 'recall_consonant': 0.999377, 'recall_word': 0.997478, 'acc_grapheme': 0.997657, 'acc_vowel': 0.998829, 'acc_consonant': 0.999277, 'acc_word': 0.997483, 'loss_grapheme': 0.01106, 'loss_vowel': 0.005747, 'loss_consonant': 0.002705, 'loss_word': 0.011731}\n",
      "   39 | 0.000196 | 160640/160716 | 0.2881 | 5.1186 |||\n",
      "val: {'recall': 0.997828, 'recall_grapheme': 0.996578, 'recall_vowel': 0.999041, 'recall_consonant': 0.999116, 'recall_word': 0.996436, 'acc_grapheme': 0.99671, 'acc_vowel': 0.998554, 'acc_consonant': 0.999078, 'acc_word': 0.996486, 'loss_grapheme': 0.017612, 'loss_vowel': 0.009745, 'loss_consonant': 0.006062, 'loss_word': 0.017897}\n",
      "   40 | 0.000196 | 012800/160716 | 1.6293 | 7.6365 |||"
     ]
    },
    {
     "ename": "KeyboardInterrupt",
     "evalue": "",
     "output_type": "error",
     "traceback": [
      "\u001b[0;31m---------------------------------------------------------------------------\u001b[0m",
      "\u001b[0;31mKeyboardInterrupt\u001b[0m                         Traceback (most recent call last)",
      "\u001b[0;32m<ipython-input-37-aad596905035>\u001b[0m in \u001b[0;36m<module>\u001b[0;34m\u001b[0m\n\u001b[0;32m----> 1\u001b[0;31m \u001b[0mtrain\u001b[0m\u001b[0;34m(\u001b[0m\u001b[0margs\u001b[0m\u001b[0;34m)\u001b[0m\u001b[0;34m\u001b[0m\u001b[0;34m\u001b[0m\u001b[0m\n\u001b[0m",
      "\u001b[0;32m<ipython-input-32-3afbfd1f2d33>\u001b[0m in \u001b[0;36mtrain\u001b[0;34m(args)\u001b[0m\n\u001b[1;32m     41\u001b[0m         \u001b[0;32mfor\u001b[0m \u001b[0mepoch\u001b[0m \u001b[0;32min\u001b[0m \u001b[0mrange\u001b[0m\u001b[0;34m(\u001b[0m\u001b[0margs\u001b[0m\u001b[0;34m.\u001b[0m\u001b[0mnum_epochs\u001b[0m\u001b[0;34m)\u001b[0m\u001b[0;34m:\u001b[0m\u001b[0;34m\u001b[0m\u001b[0;34m\u001b[0m\u001b[0m\n\u001b[1;32m     42\u001b[0m             \u001b[0mgrid\u001b[0m\u001b[0;34m.\u001b[0m\u001b[0mset_prob\u001b[0m\u001b[0;34m(\u001b[0m\u001b[0mepoch\u001b[0m\u001b[0;34m,\u001b[0m \u001b[0margs\u001b[0m\u001b[0;34m.\u001b[0m\u001b[0mst_epochs\u001b[0m\u001b[0;34m)\u001b[0m\u001b[0;34m\u001b[0m\u001b[0;34m\u001b[0m\u001b[0m\n\u001b[0;32m---> 43\u001b[0;31m             \u001b[0mtrain_epoch\u001b[0m\u001b[0;34m(\u001b[0m\u001b[0margs\u001b[0m\u001b[0;34m,\u001b[0m \u001b[0mmodel\u001b[0m\u001b[0;34m,\u001b[0m \u001b[0mtrain_loader\u001b[0m\u001b[0;34m,\u001b[0m \u001b[0mepoch\u001b[0m\u001b[0;34m,\u001b[0m \u001b[0moptimizer\u001b[0m\u001b[0;34m,\u001b[0m \u001b[0mlr_scheduler\u001b[0m\u001b[0;34m,\u001b[0m \u001b[0mgrid\u001b[0m\u001b[0;34m)\u001b[0m\u001b[0;34m\u001b[0m\u001b[0;34m\u001b[0m\u001b[0m\n\u001b[0m\u001b[1;32m     44\u001b[0m             \u001b[0mvalidate_and_save\u001b[0m\u001b[0;34m(\u001b[0m\u001b[0mmodel\u001b[0m\u001b[0;34m,\u001b[0m \u001b[0mmodel_file\u001b[0m\u001b[0;34m,\u001b[0m \u001b[0mval_loader\u001b[0m\u001b[0;34m,\u001b[0m \u001b[0msave\u001b[0m\u001b[0;34m=\u001b[0m\u001b[0;32mTrue\u001b[0m\u001b[0;34m)\u001b[0m\u001b[0;34m\u001b[0m\u001b[0;34m\u001b[0m\u001b[0m\n\u001b[1;32m     45\u001b[0m \u001b[0;34m\u001b[0m\u001b[0m\n",
      "\u001b[0;32m<ipython-input-31-0539449263dd>\u001b[0m in \u001b[0;36mtrain_epoch\u001b[0;34m(args, model, train_loader, epoch, optimizer, lr_scheduler, grid)\u001b[0m\n\u001b[1;32m     21\u001b[0m             \u001b[0mlam\u001b[0m \u001b[0;34m=\u001b[0m \u001b[0;36m1\u001b[0m \u001b[0;34m-\u001b[0m \u001b[0;34m(\u001b[0m\u001b[0;34m(\u001b[0m\u001b[0mbbx2\u001b[0m \u001b[0;34m-\u001b[0m \u001b[0mbbx1\u001b[0m\u001b[0;34m)\u001b[0m \u001b[0;34m*\u001b[0m \u001b[0;34m(\u001b[0m\u001b[0mbby2\u001b[0m \u001b[0;34m-\u001b[0m \u001b[0mbby1\u001b[0m\u001b[0;34m)\u001b[0m \u001b[0;34m/\u001b[0m \u001b[0;34m(\u001b[0m\u001b[0mimg\u001b[0m\u001b[0;34m.\u001b[0m\u001b[0msize\u001b[0m\u001b[0;34m(\u001b[0m\u001b[0;34m)\u001b[0m\u001b[0;34m[\u001b[0m\u001b[0;34m-\u001b[0m\u001b[0;36m1\u001b[0m\u001b[0;34m]\u001b[0m \u001b[0;34m*\u001b[0m \u001b[0mimg\u001b[0m\u001b[0;34m.\u001b[0m\u001b[0msize\u001b[0m\u001b[0;34m(\u001b[0m\u001b[0;34m)\u001b[0m\u001b[0;34m[\u001b[0m\u001b[0;34m-\u001b[0m\u001b[0;36m2\u001b[0m\u001b[0;34m]\u001b[0m\u001b[0;34m)\u001b[0m\u001b[0;34m)\u001b[0m\u001b[0;34m\u001b[0m\u001b[0;34m\u001b[0m\u001b[0m\n\u001b[1;32m     22\u001b[0m             \u001b[0;31m# compute output\u001b[0m\u001b[0;34m\u001b[0m\u001b[0;34m\u001b[0m\u001b[0;34m\u001b[0m\u001b[0m\n\u001b[0;32m---> 23\u001b[0;31m             \u001b[0moutputs\u001b[0m\u001b[0;34m,\u001b[0m \u001b[0moutputs_aux1\u001b[0m\u001b[0;34m,\u001b[0m \u001b[0moutputs_aux2\u001b[0m \u001b[0;34m=\u001b[0m \u001b[0mmodel\u001b[0m\u001b[0;34m(\u001b[0m\u001b[0mimg\u001b[0m\u001b[0;34m)\u001b[0m\u001b[0;34m\u001b[0m\u001b[0;34m\u001b[0m\u001b[0m\n\u001b[0m\u001b[1;32m     24\u001b[0m             \u001b[0mloss_primary\u001b[0m \u001b[0;34m=\u001b[0m \u001b[0mcriterion\u001b[0m\u001b[0;34m(\u001b[0m\u001b[0moutputs\u001b[0m\u001b[0;34m,\u001b[0m \u001b[0mtarget_a\u001b[0m\u001b[0;34m)\u001b[0m \u001b[0;34m*\u001b[0m \u001b[0mlam\u001b[0m \u001b[0;34m+\u001b[0m \u001b[0mcriterion\u001b[0m\u001b[0;34m(\u001b[0m\u001b[0moutputs\u001b[0m\u001b[0;34m,\u001b[0m \u001b[0mtarget_b\u001b[0m\u001b[0;34m)\u001b[0m \u001b[0;34m*\u001b[0m \u001b[0;34m(\u001b[0m\u001b[0;36m1.\u001b[0m \u001b[0;34m-\u001b[0m \u001b[0mlam\u001b[0m\u001b[0;34m)\u001b[0m\u001b[0;34m\u001b[0m\u001b[0;34m\u001b[0m\u001b[0m\n\u001b[1;32m     25\u001b[0m             \u001b[0mloss_aux1\u001b[0m \u001b[0;34m=\u001b[0m \u001b[0mcriterion\u001b[0m\u001b[0;34m(\u001b[0m\u001b[0moutputs_aux1\u001b[0m\u001b[0;34m,\u001b[0m \u001b[0mtarget_a\u001b[0m\u001b[0;34m)\u001b[0m \u001b[0;34m*\u001b[0m \u001b[0mlam\u001b[0m \u001b[0;34m+\u001b[0m \u001b[0mcriterion\u001b[0m\u001b[0;34m(\u001b[0m\u001b[0moutputs_aux1\u001b[0m\u001b[0;34m,\u001b[0m \u001b[0mtarget_b\u001b[0m\u001b[0;34m)\u001b[0m \u001b[0;34m*\u001b[0m \u001b[0;34m(\u001b[0m\u001b[0;36m1.\u001b[0m \u001b[0;34m-\u001b[0m \u001b[0mlam\u001b[0m\u001b[0;34m)\u001b[0m\u001b[0;34m\u001b[0m\u001b[0;34m\u001b[0m\u001b[0m\n",
      "\u001b[0;32m~/anaconda3/lib/python3.7/site-packages/torch/nn/modules/module.py\u001b[0m in \u001b[0;36m__call__\u001b[0;34m(self, *input, **kwargs)\u001b[0m\n\u001b[1;32m    545\u001b[0m             \u001b[0mresult\u001b[0m \u001b[0;34m=\u001b[0m \u001b[0mself\u001b[0m\u001b[0;34m.\u001b[0m\u001b[0m_slow_forward\u001b[0m\u001b[0;34m(\u001b[0m\u001b[0;34m*\u001b[0m\u001b[0minput\u001b[0m\u001b[0;34m,\u001b[0m \u001b[0;34m**\u001b[0m\u001b[0mkwargs\u001b[0m\u001b[0;34m)\u001b[0m\u001b[0;34m\u001b[0m\u001b[0;34m\u001b[0m\u001b[0m\n\u001b[1;32m    546\u001b[0m         \u001b[0;32melse\u001b[0m\u001b[0;34m:\u001b[0m\u001b[0;34m\u001b[0m\u001b[0;34m\u001b[0m\u001b[0m\n\u001b[0;32m--> 547\u001b[0;31m             \u001b[0mresult\u001b[0m \u001b[0;34m=\u001b[0m \u001b[0mself\u001b[0m\u001b[0;34m.\u001b[0m\u001b[0mforward\u001b[0m\u001b[0;34m(\u001b[0m\u001b[0;34m*\u001b[0m\u001b[0minput\u001b[0m\u001b[0;34m,\u001b[0m \u001b[0;34m**\u001b[0m\u001b[0mkwargs\u001b[0m\u001b[0;34m)\u001b[0m\u001b[0;34m\u001b[0m\u001b[0;34m\u001b[0m\u001b[0m\n\u001b[0m\u001b[1;32m    548\u001b[0m         \u001b[0;32mfor\u001b[0m \u001b[0mhook\u001b[0m \u001b[0;32min\u001b[0m \u001b[0mself\u001b[0m\u001b[0;34m.\u001b[0m\u001b[0m_forward_hooks\u001b[0m\u001b[0;34m.\u001b[0m\u001b[0mvalues\u001b[0m\u001b[0;34m(\u001b[0m\u001b[0;34m)\u001b[0m\u001b[0;34m:\u001b[0m\u001b[0;34m\u001b[0m\u001b[0;34m\u001b[0m\u001b[0m\n\u001b[1;32m    549\u001b[0m             \u001b[0mhook_result\u001b[0m \u001b[0;34m=\u001b[0m \u001b[0mhook\u001b[0m\u001b[0;34m(\u001b[0m\u001b[0mself\u001b[0m\u001b[0;34m,\u001b[0m \u001b[0minput\u001b[0m\u001b[0;34m,\u001b[0m \u001b[0mresult\u001b[0m\u001b[0;34m)\u001b[0m\u001b[0;34m\u001b[0m\u001b[0;34m\u001b[0m\u001b[0m\n",
      "\u001b[0;32m~/anaconda3/lib/python3.7/site-packages/torch/nn/parallel/data_parallel.py\u001b[0m in \u001b[0;36mforward\u001b[0;34m(self, *inputs, **kwargs)\u001b[0m\n\u001b[1;32m    150\u001b[0m             \u001b[0;32mreturn\u001b[0m \u001b[0mself\u001b[0m\u001b[0;34m.\u001b[0m\u001b[0mmodule\u001b[0m\u001b[0;34m(\u001b[0m\u001b[0;34m*\u001b[0m\u001b[0minputs\u001b[0m\u001b[0;34m[\u001b[0m\u001b[0;36m0\u001b[0m\u001b[0;34m]\u001b[0m\u001b[0;34m,\u001b[0m \u001b[0;34m**\u001b[0m\u001b[0mkwargs\u001b[0m\u001b[0;34m[\u001b[0m\u001b[0;36m0\u001b[0m\u001b[0;34m]\u001b[0m\u001b[0;34m)\u001b[0m\u001b[0;34m\u001b[0m\u001b[0;34m\u001b[0m\u001b[0m\n\u001b[1;32m    151\u001b[0m         \u001b[0mreplicas\u001b[0m \u001b[0;34m=\u001b[0m \u001b[0mself\u001b[0m\u001b[0;34m.\u001b[0m\u001b[0mreplicate\u001b[0m\u001b[0;34m(\u001b[0m\u001b[0mself\u001b[0m\u001b[0;34m.\u001b[0m\u001b[0mmodule\u001b[0m\u001b[0;34m,\u001b[0m \u001b[0mself\u001b[0m\u001b[0;34m.\u001b[0m\u001b[0mdevice_ids\u001b[0m\u001b[0;34m[\u001b[0m\u001b[0;34m:\u001b[0m\u001b[0mlen\u001b[0m\u001b[0;34m(\u001b[0m\u001b[0minputs\u001b[0m\u001b[0;34m)\u001b[0m\u001b[0;34m]\u001b[0m\u001b[0;34m)\u001b[0m\u001b[0;34m\u001b[0m\u001b[0;34m\u001b[0m\u001b[0m\n\u001b[0;32m--> 152\u001b[0;31m         \u001b[0moutputs\u001b[0m \u001b[0;34m=\u001b[0m \u001b[0mself\u001b[0m\u001b[0;34m.\u001b[0m\u001b[0mparallel_apply\u001b[0m\u001b[0;34m(\u001b[0m\u001b[0mreplicas\u001b[0m\u001b[0;34m,\u001b[0m \u001b[0minputs\u001b[0m\u001b[0;34m,\u001b[0m \u001b[0mkwargs\u001b[0m\u001b[0;34m)\u001b[0m\u001b[0;34m\u001b[0m\u001b[0;34m\u001b[0m\u001b[0m\n\u001b[0m\u001b[1;32m    153\u001b[0m         \u001b[0;32mreturn\u001b[0m \u001b[0mself\u001b[0m\u001b[0;34m.\u001b[0m\u001b[0mgather\u001b[0m\u001b[0;34m(\u001b[0m\u001b[0moutputs\u001b[0m\u001b[0;34m,\u001b[0m \u001b[0mself\u001b[0m\u001b[0;34m.\u001b[0m\u001b[0moutput_device\u001b[0m\u001b[0;34m)\u001b[0m\u001b[0;34m\u001b[0m\u001b[0;34m\u001b[0m\u001b[0m\n\u001b[1;32m    154\u001b[0m \u001b[0;34m\u001b[0m\u001b[0m\n",
      "\u001b[0;32m~/anaconda3/lib/python3.7/site-packages/torch/nn/parallel/data_parallel.py\u001b[0m in \u001b[0;36mparallel_apply\u001b[0;34m(self, replicas, inputs, kwargs)\u001b[0m\n\u001b[1;32m    160\u001b[0m \u001b[0;34m\u001b[0m\u001b[0m\n\u001b[1;32m    161\u001b[0m     \u001b[0;32mdef\u001b[0m \u001b[0mparallel_apply\u001b[0m\u001b[0;34m(\u001b[0m\u001b[0mself\u001b[0m\u001b[0;34m,\u001b[0m \u001b[0mreplicas\u001b[0m\u001b[0;34m,\u001b[0m \u001b[0minputs\u001b[0m\u001b[0;34m,\u001b[0m \u001b[0mkwargs\u001b[0m\u001b[0;34m)\u001b[0m\u001b[0;34m:\u001b[0m\u001b[0;34m\u001b[0m\u001b[0;34m\u001b[0m\u001b[0m\n\u001b[0;32m--> 162\u001b[0;31m         \u001b[0;32mreturn\u001b[0m \u001b[0mparallel_apply\u001b[0m\u001b[0;34m(\u001b[0m\u001b[0mreplicas\u001b[0m\u001b[0;34m,\u001b[0m \u001b[0minputs\u001b[0m\u001b[0;34m,\u001b[0m \u001b[0mkwargs\u001b[0m\u001b[0;34m,\u001b[0m \u001b[0mself\u001b[0m\u001b[0;34m.\u001b[0m\u001b[0mdevice_ids\u001b[0m\u001b[0;34m[\u001b[0m\u001b[0;34m:\u001b[0m\u001b[0mlen\u001b[0m\u001b[0;34m(\u001b[0m\u001b[0mreplicas\u001b[0m\u001b[0;34m)\u001b[0m\u001b[0;34m]\u001b[0m\u001b[0;34m)\u001b[0m\u001b[0;34m\u001b[0m\u001b[0;34m\u001b[0m\u001b[0m\n\u001b[0m\u001b[1;32m    163\u001b[0m \u001b[0;34m\u001b[0m\u001b[0m\n\u001b[1;32m    164\u001b[0m     \u001b[0;32mdef\u001b[0m \u001b[0mgather\u001b[0m\u001b[0;34m(\u001b[0m\u001b[0mself\u001b[0m\u001b[0;34m,\u001b[0m \u001b[0moutputs\u001b[0m\u001b[0;34m,\u001b[0m \u001b[0moutput_device\u001b[0m\u001b[0;34m)\u001b[0m\u001b[0;34m:\u001b[0m\u001b[0;34m\u001b[0m\u001b[0;34m\u001b[0m\u001b[0m\n",
      "\u001b[0;32m~/anaconda3/lib/python3.7/site-packages/torch/nn/parallel/parallel_apply.py\u001b[0m in \u001b[0;36mparallel_apply\u001b[0;34m(modules, inputs, kwargs_tup, devices)\u001b[0m\n\u001b[1;32m     75\u001b[0m             \u001b[0mthread\u001b[0m\u001b[0;34m.\u001b[0m\u001b[0mstart\u001b[0m\u001b[0;34m(\u001b[0m\u001b[0;34m)\u001b[0m\u001b[0;34m\u001b[0m\u001b[0;34m\u001b[0m\u001b[0m\n\u001b[1;32m     76\u001b[0m         \u001b[0;32mfor\u001b[0m \u001b[0mthread\u001b[0m \u001b[0;32min\u001b[0m \u001b[0mthreads\u001b[0m\u001b[0;34m:\u001b[0m\u001b[0;34m\u001b[0m\u001b[0;34m\u001b[0m\u001b[0m\n\u001b[0;32m---> 77\u001b[0;31m             \u001b[0mthread\u001b[0m\u001b[0;34m.\u001b[0m\u001b[0mjoin\u001b[0m\u001b[0;34m(\u001b[0m\u001b[0;34m)\u001b[0m\u001b[0;34m\u001b[0m\u001b[0;34m\u001b[0m\u001b[0m\n\u001b[0m\u001b[1;32m     78\u001b[0m     \u001b[0;32melse\u001b[0m\u001b[0;34m:\u001b[0m\u001b[0;34m\u001b[0m\u001b[0;34m\u001b[0m\u001b[0m\n\u001b[1;32m     79\u001b[0m         \u001b[0m_worker\u001b[0m\u001b[0;34m(\u001b[0m\u001b[0;36m0\u001b[0m\u001b[0;34m,\u001b[0m \u001b[0mmodules\u001b[0m\u001b[0;34m[\u001b[0m\u001b[0;36m0\u001b[0m\u001b[0;34m]\u001b[0m\u001b[0;34m,\u001b[0m \u001b[0minputs\u001b[0m\u001b[0;34m[\u001b[0m\u001b[0;36m0\u001b[0m\u001b[0;34m]\u001b[0m\u001b[0;34m,\u001b[0m \u001b[0mkwargs_tup\u001b[0m\u001b[0;34m[\u001b[0m\u001b[0;36m0\u001b[0m\u001b[0;34m]\u001b[0m\u001b[0;34m,\u001b[0m \u001b[0mdevices\u001b[0m\u001b[0;34m[\u001b[0m\u001b[0;36m0\u001b[0m\u001b[0;34m]\u001b[0m\u001b[0;34m)\u001b[0m\u001b[0;34m\u001b[0m\u001b[0;34m\u001b[0m\u001b[0m\n",
      "\u001b[0;32m~/anaconda3/lib/python3.7/threading.py\u001b[0m in \u001b[0;36mjoin\u001b[0;34m(self, timeout)\u001b[0m\n\u001b[1;32m   1030\u001b[0m \u001b[0;34m\u001b[0m\u001b[0m\n\u001b[1;32m   1031\u001b[0m         \u001b[0;32mif\u001b[0m \u001b[0mtimeout\u001b[0m \u001b[0;32mis\u001b[0m \u001b[0;32mNone\u001b[0m\u001b[0;34m:\u001b[0m\u001b[0;34m\u001b[0m\u001b[0;34m\u001b[0m\u001b[0m\n\u001b[0;32m-> 1032\u001b[0;31m             \u001b[0mself\u001b[0m\u001b[0;34m.\u001b[0m\u001b[0m_wait_for_tstate_lock\u001b[0m\u001b[0;34m(\u001b[0m\u001b[0;34m)\u001b[0m\u001b[0;34m\u001b[0m\u001b[0;34m\u001b[0m\u001b[0m\n\u001b[0m\u001b[1;32m   1033\u001b[0m         \u001b[0;32melse\u001b[0m\u001b[0;34m:\u001b[0m\u001b[0;34m\u001b[0m\u001b[0;34m\u001b[0m\u001b[0m\n\u001b[1;32m   1034\u001b[0m             \u001b[0;31m# the behavior of a negative timeout isn't documented, but\u001b[0m\u001b[0;34m\u001b[0m\u001b[0;34m\u001b[0m\u001b[0;34m\u001b[0m\u001b[0m\n",
      "\u001b[0;32m~/anaconda3/lib/python3.7/threading.py\u001b[0m in \u001b[0;36m_wait_for_tstate_lock\u001b[0;34m(self, block, timeout)\u001b[0m\n\u001b[1;32m   1046\u001b[0m         \u001b[0;32mif\u001b[0m \u001b[0mlock\u001b[0m \u001b[0;32mis\u001b[0m \u001b[0;32mNone\u001b[0m\u001b[0;34m:\u001b[0m  \u001b[0;31m# already determined that the C code is done\u001b[0m\u001b[0;34m\u001b[0m\u001b[0;34m\u001b[0m\u001b[0m\n\u001b[1;32m   1047\u001b[0m             \u001b[0;32massert\u001b[0m \u001b[0mself\u001b[0m\u001b[0;34m.\u001b[0m\u001b[0m_is_stopped\u001b[0m\u001b[0;34m\u001b[0m\u001b[0;34m\u001b[0m\u001b[0m\n\u001b[0;32m-> 1048\u001b[0;31m         \u001b[0;32melif\u001b[0m \u001b[0mlock\u001b[0m\u001b[0;34m.\u001b[0m\u001b[0macquire\u001b[0m\u001b[0;34m(\u001b[0m\u001b[0mblock\u001b[0m\u001b[0;34m,\u001b[0m \u001b[0mtimeout\u001b[0m\u001b[0;34m)\u001b[0m\u001b[0;34m:\u001b[0m\u001b[0;34m\u001b[0m\u001b[0;34m\u001b[0m\u001b[0m\n\u001b[0m\u001b[1;32m   1049\u001b[0m             \u001b[0mlock\u001b[0m\u001b[0;34m.\u001b[0m\u001b[0mrelease\u001b[0m\u001b[0;34m(\u001b[0m\u001b[0;34m)\u001b[0m\u001b[0;34m\u001b[0m\u001b[0;34m\u001b[0m\u001b[0m\n\u001b[1;32m   1050\u001b[0m             \u001b[0mself\u001b[0m\u001b[0;34m.\u001b[0m\u001b[0m_stop\u001b[0m\u001b[0;34m(\u001b[0m\u001b[0;34m)\u001b[0m\u001b[0;34m\u001b[0m\u001b[0;34m\u001b[0m\u001b[0m\n",
      "\u001b[0;31mKeyboardInterrupt\u001b[0m: "
     ]
    }
   ],
   "source": [
    "train(args)"
   ]
  },
  {
   "cell_type": "code",
   "execution_count": null,
   "metadata": {},
   "outputs": [],
   "source": []
  },
  {
   "cell_type": "code",
   "execution_count": 37,
   "metadata": {},
   "outputs": [
    {
     "name": "stdout",
     "output_type": "stream",
     "text": [
      "model file: ./model4-ckps/tf_efficientnet_b4/model4_eb4_fold3.pth, exist: True\n",
      "loading ./model4-ckps/tf_efficientnet_b4/model4_eb4_fold3.pth...\n",
      "model file: ./model4-ckps/tf_efficientnet_b4/model4_eb4_fold3.pth, exist: True\n",
      "loading ./model4-ckps/tf_efficientnet_b4/model4_eb4_fold3.pth...\n",
      "\n",
      "val: {'recall': 0.998314, 'recall_grapheme': 0.997479, 'recall_vowel': 0.998946, 'recall_consonant': 0.999349, 'recall_word': 0.997489, 'acc_grapheme': 0.997782, 'acc_vowel': 0.998779, 'acc_consonant': 0.999277, 'acc_word': 0.997508, 'loss_grapheme': 0.011308, 'loss_vowel': 0.005673, 'loss_consonant': 0.002604, 'loss_word': 0.011838}\n",
      "CYCLE: 1\n",
      "    0 | 0.000000 | 000640/160716 | 6.5520 | 6.5520 |"
     ]
    },
    {
     "ename": "KeyboardInterrupt",
     "evalue": "",
     "output_type": "error",
     "traceback": [
      "\u001b[0;31m---------------------------------------------------------------------------\u001b[0m",
      "\u001b[0;31mKeyboardInterrupt\u001b[0m                         Traceback (most recent call last)",
      "\u001b[0;32m<ipython-input-37-aad596905035>\u001b[0m in \u001b[0;36m<module>\u001b[0;34m\u001b[0m\n\u001b[0;32m----> 1\u001b[0;31m \u001b[0mtrain\u001b[0m\u001b[0;34m(\u001b[0m\u001b[0margs\u001b[0m\u001b[0;34m)\u001b[0m\u001b[0;34m\u001b[0m\u001b[0;34m\u001b[0m\u001b[0m\n\u001b[0m",
      "\u001b[0;32m<ipython-input-32-3afbfd1f2d33>\u001b[0m in \u001b[0;36mtrain\u001b[0;34m(args)\u001b[0m\n\u001b[1;32m     41\u001b[0m         \u001b[0;32mfor\u001b[0m \u001b[0mepoch\u001b[0m \u001b[0;32min\u001b[0m \u001b[0mrange\u001b[0m\u001b[0;34m(\u001b[0m\u001b[0margs\u001b[0m\u001b[0;34m.\u001b[0m\u001b[0mnum_epochs\u001b[0m\u001b[0;34m)\u001b[0m\u001b[0;34m:\u001b[0m\u001b[0;34m\u001b[0m\u001b[0;34m\u001b[0m\u001b[0m\n\u001b[1;32m     42\u001b[0m             \u001b[0mgrid\u001b[0m\u001b[0;34m.\u001b[0m\u001b[0mset_prob\u001b[0m\u001b[0;34m(\u001b[0m\u001b[0mepoch\u001b[0m\u001b[0;34m,\u001b[0m \u001b[0margs\u001b[0m\u001b[0;34m.\u001b[0m\u001b[0mst_epochs\u001b[0m\u001b[0;34m)\u001b[0m\u001b[0;34m\u001b[0m\u001b[0;34m\u001b[0m\u001b[0m\n\u001b[0;32m---> 43\u001b[0;31m             \u001b[0mtrain_epoch\u001b[0m\u001b[0;34m(\u001b[0m\u001b[0margs\u001b[0m\u001b[0;34m,\u001b[0m \u001b[0mmodel\u001b[0m\u001b[0;34m,\u001b[0m \u001b[0mtrain_loader\u001b[0m\u001b[0;34m,\u001b[0m \u001b[0mepoch\u001b[0m\u001b[0;34m,\u001b[0m \u001b[0moptimizer\u001b[0m\u001b[0;34m,\u001b[0m \u001b[0mlr_scheduler\u001b[0m\u001b[0;34m,\u001b[0m \u001b[0mgrid\u001b[0m\u001b[0;34m)\u001b[0m\u001b[0;34m\u001b[0m\u001b[0;34m\u001b[0m\u001b[0m\n\u001b[0m\u001b[1;32m     44\u001b[0m             \u001b[0mvalidate_and_save\u001b[0m\u001b[0;34m(\u001b[0m\u001b[0mmodel\u001b[0m\u001b[0;34m,\u001b[0m \u001b[0mmodel_file\u001b[0m\u001b[0;34m,\u001b[0m \u001b[0mval_loader\u001b[0m\u001b[0;34m,\u001b[0m \u001b[0msave\u001b[0m\u001b[0;34m=\u001b[0m\u001b[0;32mTrue\u001b[0m\u001b[0;34m)\u001b[0m\u001b[0;34m\u001b[0m\u001b[0;34m\u001b[0m\u001b[0m\n\u001b[1;32m     45\u001b[0m \u001b[0;34m\u001b[0m\u001b[0m\n",
      "\u001b[0;32m<ipython-input-31-0539449263dd>\u001b[0m in \u001b[0;36mtrain_epoch\u001b[0;34m(args, model, train_loader, epoch, optimizer, lr_scheduler, grid)\u001b[0m\n\u001b[1;32m     44\u001b[0m         \u001b[0moptimizer\u001b[0m\u001b[0;34m.\u001b[0m\u001b[0mzero_grad\u001b[0m\u001b[0;34m(\u001b[0m\u001b[0;34m)\u001b[0m\u001b[0;34m\u001b[0m\u001b[0;34m\u001b[0m\u001b[0m\n\u001b[1;32m     45\u001b[0m         \u001b[0;32mwith\u001b[0m \u001b[0mamp\u001b[0m\u001b[0;34m.\u001b[0m\u001b[0mscale_loss\u001b[0m\u001b[0;34m(\u001b[0m\u001b[0mloss\u001b[0m\u001b[0;34m,\u001b[0m \u001b[0moptimizer\u001b[0m\u001b[0;34m)\u001b[0m \u001b[0;32mas\u001b[0m \u001b[0mscaled_loss\u001b[0m\u001b[0;34m:\u001b[0m\u001b[0;34m\u001b[0m\u001b[0;34m\u001b[0m\u001b[0m\n\u001b[0;32m---> 46\u001b[0;31m             \u001b[0mscaled_loss\u001b[0m\u001b[0;34m.\u001b[0m\u001b[0mbackward\u001b[0m\u001b[0;34m(\u001b[0m\u001b[0;34m)\u001b[0m\u001b[0;34m\u001b[0m\u001b[0;34m\u001b[0m\u001b[0m\n\u001b[0m\u001b[1;32m     47\u001b[0m         \u001b[0;31m#loss.backward()\u001b[0m\u001b[0;34m\u001b[0m\u001b[0;34m\u001b[0m\u001b[0;34m\u001b[0m\u001b[0m\n\u001b[1;32m     48\u001b[0m         \u001b[0mlr_scheduler\u001b[0m\u001b[0;34m(\u001b[0m\u001b[0moptimizer\u001b[0m\u001b[0;34m,\u001b[0m \u001b[0mbatch_idx\u001b[0m\u001b[0;34m,\u001b[0m \u001b[0mepoch\u001b[0m\u001b[0;34m)\u001b[0m\u001b[0;34m\u001b[0m\u001b[0;34m\u001b[0m\u001b[0m\n",
      "\u001b[0;32m~/anaconda3/lib/python3.7/site-packages/torch/tensor.py\u001b[0m in \u001b[0;36mbackward\u001b[0;34m(self, gradient, retain_graph, create_graph)\u001b[0m\n\u001b[1;32m    116\u001b[0m                 \u001b[0mproducts\u001b[0m\u001b[0;34m.\u001b[0m \u001b[0mDefaults\u001b[0m \u001b[0mto\u001b[0m\u001b[0;31m \u001b[0m\u001b[0;31m`\u001b[0m\u001b[0;31m`\u001b[0m\u001b[0;32mFalse\u001b[0m\u001b[0;31m`\u001b[0m\u001b[0;31m`\u001b[0m\u001b[0;34m.\u001b[0m\u001b[0;34m\u001b[0m\u001b[0;34m\u001b[0m\u001b[0m\n\u001b[1;32m    117\u001b[0m         \"\"\"\n\u001b[0;32m--> 118\u001b[0;31m         \u001b[0mtorch\u001b[0m\u001b[0;34m.\u001b[0m\u001b[0mautograd\u001b[0m\u001b[0;34m.\u001b[0m\u001b[0mbackward\u001b[0m\u001b[0;34m(\u001b[0m\u001b[0mself\u001b[0m\u001b[0;34m,\u001b[0m \u001b[0mgradient\u001b[0m\u001b[0;34m,\u001b[0m \u001b[0mretain_graph\u001b[0m\u001b[0;34m,\u001b[0m \u001b[0mcreate_graph\u001b[0m\u001b[0;34m)\u001b[0m\u001b[0;34m\u001b[0m\u001b[0;34m\u001b[0m\u001b[0m\n\u001b[0m\u001b[1;32m    119\u001b[0m \u001b[0;34m\u001b[0m\u001b[0m\n\u001b[1;32m    120\u001b[0m     \u001b[0;32mdef\u001b[0m \u001b[0mregister_hook\u001b[0m\u001b[0;34m(\u001b[0m\u001b[0mself\u001b[0m\u001b[0;34m,\u001b[0m \u001b[0mhook\u001b[0m\u001b[0;34m)\u001b[0m\u001b[0;34m:\u001b[0m\u001b[0;34m\u001b[0m\u001b[0;34m\u001b[0m\u001b[0m\n",
      "\u001b[0;32m~/anaconda3/lib/python3.7/site-packages/torch/autograd/__init__.py\u001b[0m in \u001b[0;36mbackward\u001b[0;34m(tensors, grad_tensors, retain_graph, create_graph, grad_variables)\u001b[0m\n\u001b[1;32m     91\u001b[0m     Variable._execution_engine.run_backward(\n\u001b[1;32m     92\u001b[0m         \u001b[0mtensors\u001b[0m\u001b[0;34m,\u001b[0m \u001b[0mgrad_tensors\u001b[0m\u001b[0;34m,\u001b[0m \u001b[0mretain_graph\u001b[0m\u001b[0;34m,\u001b[0m \u001b[0mcreate_graph\u001b[0m\u001b[0;34m,\u001b[0m\u001b[0;34m\u001b[0m\u001b[0;34m\u001b[0m\u001b[0m\n\u001b[0;32m---> 93\u001b[0;31m         allow_unreachable=True)  # allow_unreachable flag\n\u001b[0m\u001b[1;32m     94\u001b[0m \u001b[0;34m\u001b[0m\u001b[0m\n\u001b[1;32m     95\u001b[0m \u001b[0;34m\u001b[0m\u001b[0m\n",
      "\u001b[0;31mKeyboardInterrupt\u001b[0m: "
     ]
    }
   ],
   "source": [
    "train(args)"
   ]
  },
  {
   "cell_type": "code",
   "execution_count": null,
   "metadata": {},
   "outputs": [],
   "source": []
  },
  {
   "cell_type": "code",
   "execution_count": 39,
   "metadata": {},
   "outputs": [
    {
     "name": "stdout",
     "output_type": "stream",
     "text": [
      "model file: ./model4-ckps/tf_efficientnet_b4/model4_eb4_fold3.pth, exist: True\n",
      "loading ./model4-ckps/tf_efficientnet_b4/model4_eb4_fold3.pth...\n",
      "model file: ./model4-ckps/tf_efficientnet_b4/model4_eb4_fold3.pth, exist: True\n",
      "loading ./model4-ckps/tf_efficientnet_b4/model4_eb4_fold3.pth...\n",
      "\n",
      "val: {'recall': 0.997677, 'recall_grapheme': 0.996545, 'recall_vowel': 0.998518, 'recall_consonant': 0.999102, 'recall_word': 0.996328, 'acc_grapheme': 0.996212, 'acc_vowel': 0.99843, 'acc_consonant': 0.998928, 'acc_word': 0.996411, 'loss_grapheme': 0.04441, 'loss_vowel': 0.032399, 'loss_consonant': 0.022829, 'loss_word': 0.034176}\n",
      "CYCLE: 1\n",
      "    0 | 0.000030 | 160640/160716 | 15.9834 | 7.3059 |\n",
      "val: {'recall': 0.996764, 'recall_grapheme': 0.995136, 'recall_vowel': 0.997971, 'recall_consonant': 0.998812, 'recall_word': 0.994204, 'acc_grapheme': 0.994143, 'acc_vowel': 0.997782, 'acc_consonant': 0.998255, 'acc_word': 0.994118, 'loss_grapheme': 0.114387, 'loss_vowel': 0.090832, 'loss_consonant': 0.053885, 'loss_word': 0.109813}\n",
      "    1 | 0.000060 | 160640/160716 | 0.4838 | 6.8767 ||\n",
      "val: {'recall': 0.996972, 'recall_grapheme': 0.995291, 'recall_vowel': 0.998376, 'recall_consonant': 0.998929, 'recall_word': 0.994514, 'acc_grapheme': 0.994517, 'acc_vowel': 0.998305, 'acc_consonant': 0.99843, 'acc_word': 0.994517, 'loss_grapheme': 0.072647, 'loss_vowel': 0.050975, 'loss_consonant': 0.034603, 'loss_word': 0.074279}\n",
      "    2 | 0.000089 | 160640/160716 | 9.9347 | 5.6788 |||\n",
      "val: {'recall': 0.997255, 'recall_grapheme': 0.995728, 'recall_vowel': 0.998577, 'recall_consonant': 0.998988, 'recall_word': 0.995145, 'acc_grapheme': 0.995215, 'acc_vowel': 0.998355, 'acc_consonant': 0.998779, 'acc_word': 0.99519, 'loss_grapheme': 0.040904, 'loss_vowel': 0.028559, 'loss_consonant': 0.020127, 'loss_word': 0.039666}\n",
      "    3 | 0.000119 | 160640/160716 | 0.2763 | 5.9249 ||\n",
      "val: {'recall': 0.997613, 'recall_grapheme': 0.996411, 'recall_vowel': 0.998571, 'recall_consonant': 0.999059, 'recall_word': 0.99559, 'acc_grapheme': 0.995738, 'acc_vowel': 0.998455, 'acc_consonant': 0.998854, 'acc_word': 0.995589, 'loss_grapheme': 0.037178, 'loss_vowel': 0.025317, 'loss_consonant': 0.018256, 'loss_word': 0.038254}\n",
      "    4 | 0.000147 | 160640/160716 | 7.6794 | 5.6539 ||"
     ]
    },
    {
     "name": "stderr",
     "output_type": "stream",
     "text": [
      "\r",
      "  0%|          | 0/251 [00:00<?, ?it/s]"
     ]
    },
    {
     "name": "stdout",
     "output_type": "stream",
     "text": [
      "\n",
      "val: {'recall': 0.997627, 'recall_grapheme': 0.996461, 'recall_vowel': 0.998641, 'recall_consonant': 0.998945, 'recall_word': 0.995976, 'acc_grapheme': 0.996137, 'acc_vowel': 0.998505, 'acc_consonant': 0.998829, 'acc_word': 0.995987, 'loss_grapheme': 0.024857, 'loss_vowel': 0.014233, 'loss_consonant': 0.009961, 'loss_word': 0.023093}\n",
      "SWA>>>:\n"
     ]
    },
    {
     "name": "stderr",
     "output_type": "stream",
     "text": [
      "100%|██████████| 251/251 [01:57<00:00,  2.13it/s]\n"
     ]
    },
    {
     "name": "stdout",
     "output_type": "stream",
     "text": [
      "\n",
      "val: {'recall': 0.997933, 'recall_grapheme': 0.99691, 'recall_vowel': 0.998685, 'recall_consonant': 0.999227, 'recall_word': 0.996874, 'acc_grapheme': 0.997059, 'acc_vowel': 0.998579, 'acc_consonant': 0.999227, 'acc_word': 0.996959, 'loss_grapheme': 0.013259, 'loss_vowel': 0.006767, 'loss_consonant': 0.003875, 'loss_word': 0.013435}\n",
      "###>>>>> saved ./model4-ckps/tf_efficientnet_b4/model4_eb4_fold3.pth\n",
      "    5 | 0.000146 | 160640/160716 | 2.5631 | 5.4354 ||"
     ]
    },
    {
     "name": "stderr",
     "output_type": "stream",
     "text": [
      "\r",
      "  0%|          | 0/251 [00:00<?, ?it/s]"
     ]
    },
    {
     "name": "stdout",
     "output_type": "stream",
     "text": [
      "\n",
      "val: {'recall': 0.997534, 'recall_grapheme': 0.996239, 'recall_vowel': 0.998499, 'recall_consonant': 0.999158, 'recall_word': 0.995704, 'acc_grapheme': 0.995963, 'acc_vowel': 0.998355, 'acc_consonant': 0.998903, 'acc_word': 0.995688, 'loss_grapheme': 0.025457, 'loss_vowel': 0.014174, 'loss_consonant': 0.010185, 'loss_word': 0.025348}\n",
      "SWA>>>:\n"
     ]
    },
    {
     "name": "stderr",
     "output_type": "stream",
     "text": [
      "100%|██████████| 251/251 [01:58<00:00,  2.08it/s]\n"
     ]
    },
    {
     "name": "stdout",
     "output_type": "stream",
     "text": [
      "\n",
      "val: {'recall': 0.998017, 'recall_grapheme': 0.99705, 'recall_vowel': 0.998549, 'recall_consonant': 0.999417, 'recall_word': 0.996909, 'acc_grapheme': 0.997059, 'acc_vowel': 0.99853, 'acc_consonant': 0.999327, 'acc_word': 0.996959, 'loss_grapheme': 0.013214, 'loss_vowel': 0.006634, 'loss_consonant': 0.003568, 'loss_word': 0.013473}\n",
      "###>>>>> saved ./model4-ckps/tf_efficientnet_b4/model4_eb4_fold3.pth\n",
      "    6 | 0.000145 | 160640/160716 | 4.5986 | 5.6095 |||"
     ]
    },
    {
     "name": "stderr",
     "output_type": "stream",
     "text": [
      "\r",
      "  0%|          | 0/251 [00:00<?, ?it/s]"
     ]
    },
    {
     "name": "stdout",
     "output_type": "stream",
     "text": [
      "\n",
      "val: {'recall': 0.997352, 'recall_grapheme': 0.995914, 'recall_vowel': 0.998553, 'recall_consonant': 0.999028, 'recall_word': 0.99556, 'acc_grapheme': 0.995688, 'acc_vowel': 0.99843, 'acc_consonant': 0.998804, 'acc_word': 0.995539, 'loss_grapheme': 0.03321, 'loss_vowel': 0.021247, 'loss_consonant': 0.015219, 'loss_word': 0.03143}\n",
      "SWA>>>:\n"
     ]
    },
    {
     "name": "stderr",
     "output_type": "stream",
     "text": [
      "100%|██████████| 251/251 [01:59<00:00,  2.10it/s]\n"
     ]
    },
    {
     "name": "stdout",
     "output_type": "stream",
     "text": [
      "\n",
      "val: {'recall': 0.997921, 'recall_grapheme': 0.996856, 'recall_vowel': 0.998619, 'recall_consonant': 0.999354, 'recall_word': 0.996928, 'acc_grapheme': 0.997084, 'acc_vowel': 0.998455, 'acc_consonant': 0.999277, 'acc_word': 0.996984, 'loss_grapheme': 0.012976, 'loss_vowel': 0.006489, 'loss_consonant': 0.003518, 'loss_word': 0.013275}\n",
      "    7 | 0.000144 | 160640/160716 | 6.5272 | 6.1408 ||"
     ]
    },
    {
     "name": "stderr",
     "output_type": "stream",
     "text": [
      "\r",
      "  0%|          | 0/251 [00:00<?, ?it/s]"
     ]
    },
    {
     "name": "stdout",
     "output_type": "stream",
     "text": [
      "\n",
      "val: {'recall': 0.997642, 'recall_grapheme': 0.996364, 'recall_vowel': 0.998786, 'recall_consonant': 0.999054, 'recall_word': 0.996004, 'acc_grapheme': 0.996162, 'acc_vowel': 0.99853, 'acc_consonant': 0.998928, 'acc_word': 0.996012, 'loss_grapheme': 0.029034, 'loss_vowel': 0.018857, 'loss_consonant': 0.013214, 'loss_word': 0.028971}\n",
      "SWA>>>:\n"
     ]
    },
    {
     "name": "stderr",
     "output_type": "stream",
     "text": [
      "100%|██████████| 251/251 [01:58<00:00,  2.21it/s]\n"
     ]
    },
    {
     "name": "stdout",
     "output_type": "stream",
     "text": [
      "\n",
      "val: {'recall': 0.998049, 'recall_grapheme': 0.997076, 'recall_vowel': 0.998642, 'recall_consonant': 0.999402, 'recall_word': 0.996964, 'acc_grapheme': 0.997209, 'acc_vowel': 0.998505, 'acc_consonant': 0.999377, 'acc_word': 0.997034, 'loss_grapheme': 0.01282, 'loss_vowel': 0.006428, 'loss_consonant': 0.003418, 'loss_word': 0.013162}\n",
      "###>>>>> saved ./model4-ckps/tf_efficientnet_b4/model4_eb4_fold3.pth\n",
      "    8 | 0.000142 | 160640/160716 | 7.5052 | 5.6759 ||"
     ]
    },
    {
     "name": "stderr",
     "output_type": "stream",
     "text": [
      "\r",
      "  0%|          | 0/251 [00:00<?, ?it/s]"
     ]
    },
    {
     "name": "stdout",
     "output_type": "stream",
     "text": [
      "\n",
      "val: {'recall': 0.996971, 'recall_grapheme': 0.995374, 'recall_vowel': 0.998295, 'recall_consonant': 0.998841, 'recall_word': 0.995027, 'acc_grapheme': 0.995315, 'acc_vowel': 0.998156, 'acc_consonant': 0.998604, 'acc_word': 0.994966, 'loss_grapheme': 0.042024, 'loss_vowel': 0.025849, 'loss_consonant': 0.019506, 'loss_word': 0.037295}\n",
      "SWA>>>:\n"
     ]
    },
    {
     "name": "stderr",
     "output_type": "stream",
     "text": [
      "100%|██████████| 251/251 [02:00<00:00,  2.19it/s]\n"
     ]
    },
    {
     "name": "stdout",
     "output_type": "stream",
     "text": [
      "\n",
      "val: {'recall': 0.998127, 'recall_grapheme': 0.997262, 'recall_vowel': 0.998556, 'recall_consonant': 0.999427, 'recall_word': 0.99705, 'acc_grapheme': 0.997408, 'acc_vowel': 0.998505, 'acc_consonant': 0.999377, 'acc_word': 0.997109, 'loss_grapheme': 0.012743, 'loss_vowel': 0.006335, 'loss_consonant': 0.003354, 'loss_word': 0.013098}\n",
      "###>>>>> saved ./model4-ckps/tf_efficientnet_b4/model4_eb4_fold3.pth\n",
      "    9 | 0.000140 | 160640/160716 | 1.9173 | 5.6466 |||"
     ]
    },
    {
     "name": "stderr",
     "output_type": "stream",
     "text": [
      "\r",
      "  0%|          | 0/251 [00:00<?, ?it/s]"
     ]
    },
    {
     "name": "stdout",
     "output_type": "stream",
     "text": [
      "\n",
      "val: {'recall': 0.99731, 'recall_grapheme': 0.996046, 'recall_vowel': 0.998572, 'recall_consonant': 0.998578, 'recall_word': 0.995563, 'acc_grapheme': 0.995788, 'acc_vowel': 0.998305, 'acc_consonant': 0.998903, 'acc_word': 0.995489, 'loss_grapheme': 0.030417, 'loss_vowel': 0.018291, 'loss_consonant': 0.013042, 'loss_word': 0.029912}\n",
      "SWA>>>:\n"
     ]
    },
    {
     "name": "stderr",
     "output_type": "stream",
     "text": [
      "100%|██████████| 251/251 [02:00<00:00,  2.19it/s]\n"
     ]
    },
    {
     "name": "stdout",
     "output_type": "stream",
     "text": [
      "\n",
      "val: {'recall': 0.998101, 'recall_grapheme': 0.997262, 'recall_vowel': 0.99854, 'recall_consonant': 0.99934, 'recall_word': 0.997111, 'acc_grapheme': 0.997383, 'acc_vowel': 0.99848, 'acc_consonant': 0.999327, 'acc_word': 0.997159, 'loss_grapheme': 0.01273, 'loss_vowel': 0.00634, 'loss_consonant': 0.003339, 'loss_word': 0.013099}\n",
      "   10 | 0.000138 | 160640/160716 | 0.3656 | 5.4039 ||"
     ]
    },
    {
     "name": "stderr",
     "output_type": "stream",
     "text": [
      "\r",
      "  0%|          | 0/251 [00:00<?, ?it/s]"
     ]
    },
    {
     "name": "stdout",
     "output_type": "stream",
     "text": [
      "\n",
      "val: {'recall': 0.9978, 'recall_grapheme': 0.996744, 'recall_vowel': 0.998665, 'recall_consonant': 0.999047, 'recall_word': 0.996259, 'acc_grapheme': 0.996386, 'acc_vowel': 0.998505, 'acc_consonant': 0.998928, 'acc_word': 0.996311, 'loss_grapheme': 0.020252, 'loss_vowel': 0.011449, 'loss_consonant': 0.008201, 'loss_word': 0.020273}\n",
      "SWA>>>:\n"
     ]
    },
    {
     "name": "stderr",
     "output_type": "stream",
     "text": [
      "100%|██████████| 251/251 [02:00<00:00,  2.21it/s]\n"
     ]
    },
    {
     "name": "stdout",
     "output_type": "stream",
     "text": [
      "\n",
      "val: {'recall': 0.998129, 'recall_grapheme': 0.997264, 'recall_vowel': 0.998625, 'recall_consonant': 0.999363, 'recall_word': 0.997138, 'acc_grapheme': 0.997408, 'acc_vowel': 0.998505, 'acc_consonant': 0.999327, 'acc_word': 0.997184, 'loss_grapheme': 0.012652, 'loss_vowel': 0.006233, 'loss_consonant': 0.00328, 'loss_word': 0.012994}\n",
      "###>>>>> saved ./model4-ckps/tf_efficientnet_b4/model4_eb4_fold3.pth\n",
      "   11 | 0.000136 | 160640/160716 | 11.4102 | 5.6183 |"
     ]
    },
    {
     "name": "stderr",
     "output_type": "stream",
     "text": [
      "\r",
      "  0%|          | 0/251 [00:00<?, ?it/s]"
     ]
    },
    {
     "name": "stdout",
     "output_type": "stream",
     "text": [
      "\n",
      "val: {'recall': 0.997584, 'recall_grapheme': 0.996351, 'recall_vowel': 0.998573, 'recall_consonant': 0.99906, 'recall_word': 0.995942, 'acc_grapheme': 0.996187, 'acc_vowel': 0.99843, 'acc_consonant': 0.998829, 'acc_word': 0.995963, 'loss_grapheme': 0.025246, 'loss_vowel': 0.015408, 'loss_consonant': 0.010559, 'loss_word': 0.024365}\n",
      "SWA>>>:\n"
     ]
    },
    {
     "name": "stderr",
     "output_type": "stream",
     "text": [
      "100%|██████████| 251/251 [01:59<00:00,  2.16it/s]\n"
     ]
    },
    {
     "name": "stdout",
     "output_type": "stream",
     "text": [
      "\n",
      "val: {'recall': 0.998099, 'recall_grapheme': 0.997207, 'recall_vowel': 0.998625, 'recall_consonant': 0.999357, 'recall_word': 0.997138, 'acc_grapheme': 0.997333, 'acc_vowel': 0.998505, 'acc_consonant': 0.999302, 'acc_word': 0.997184, 'loss_grapheme': 0.012684, 'loss_vowel': 0.00619, 'loss_consonant': 0.003292, 'loss_word': 0.013024}\n",
      "   12 | 0.000133 | 160640/160716 | 0.4881 | 5.5360 |||"
     ]
    },
    {
     "name": "stderr",
     "output_type": "stream",
     "text": [
      "\r",
      "  0%|          | 0/251 [00:00<?, ?it/s]"
     ]
    },
    {
     "name": "stdout",
     "output_type": "stream",
     "text": [
      "\n",
      "val: {'recall': 0.99751, 'recall_grapheme': 0.99615, 'recall_vowel': 0.998713, 'recall_consonant': 0.999025, 'recall_word': 0.995886, 'acc_grapheme': 0.996112, 'acc_vowel': 0.998455, 'acc_consonant': 0.998928, 'acc_word': 0.995888, 'loss_grapheme': 0.02102, 'loss_vowel': 0.011663, 'loss_consonant': 0.007955, 'loss_word': 0.020715}\n",
      "SWA>>>:\n"
     ]
    },
    {
     "name": "stderr",
     "output_type": "stream",
     "text": [
      "100%|██████████| 251/251 [01:59<00:00,  2.16it/s]\n"
     ]
    },
    {
     "name": "stdout",
     "output_type": "stream",
     "text": [
      "\n",
      "val: {'recall': 0.998185, 'recall_grapheme': 0.997371, 'recall_vowel': 0.998641, 'recall_consonant': 0.999357, 'recall_word': 0.997129, 'acc_grapheme': 0.997433, 'acc_vowel': 0.99853, 'acc_consonant': 0.999302, 'acc_word': 0.997184, 'loss_grapheme': 0.012577, 'loss_vowel': 0.006133, 'loss_consonant': 0.003275, 'loss_word': 0.01291}\n",
      "###>>>>> saved ./model4-ckps/tf_efficientnet_b4/model4_eb4_fold3.pth\n",
      "   13 | 0.000131 | 160640/160716 | 7.0044 | 5.6770 ||"
     ]
    },
    {
     "name": "stderr",
     "output_type": "stream",
     "text": [
      "\r",
      "  0%|          | 0/251 [00:00<?, ?it/s]"
     ]
    },
    {
     "name": "stdout",
     "output_type": "stream",
     "text": [
      "\n",
      "val: {'recall': 0.997609, 'recall_grapheme': 0.99634, 'recall_vowel': 0.998654, 'recall_consonant': 0.999101, 'recall_word': 0.995647, 'acc_grapheme': 0.996012, 'acc_vowel': 0.99833, 'acc_consonant': 0.999028, 'acc_word': 0.995688, 'loss_grapheme': 0.022776, 'loss_vowel': 0.012375, 'loss_consonant': 0.008089, 'loss_word': 0.021816}\n",
      "SWA>>>:\n"
     ]
    },
    {
     "name": "stderr",
     "output_type": "stream",
     "text": [
      "100%|██████████| 251/251 [01:59<00:00,  2.15it/s]\n"
     ]
    },
    {
     "name": "stdout",
     "output_type": "stream",
     "text": [
      "\n",
      "val: {'recall': 0.998159, 'recall_grapheme': 0.997331, 'recall_vowel': 0.998647, 'recall_consonant': 0.999327, 'recall_word': 0.997102, 'acc_grapheme': 0.997433, 'acc_vowel': 0.998554, 'acc_consonant': 0.999277, 'acc_word': 0.997159, 'loss_grapheme': 0.012527, 'loss_vowel': 0.006065, 'loss_consonant': 0.003215, 'loss_word': 0.012837}\n",
      "   14 | 0.000128 | 160640/160716 | 0.1770 | 5.2225 ||"
     ]
    },
    {
     "name": "stderr",
     "output_type": "stream",
     "text": [
      "\r",
      "  0%|          | 0/251 [00:00<?, ?it/s]"
     ]
    },
    {
     "name": "stdout",
     "output_type": "stream",
     "text": [
      "\n",
      "val: {'recall': 0.997765, 'recall_grapheme': 0.996711, 'recall_vowel': 0.998463, 'recall_consonant': 0.999176, 'recall_word': 0.99631, 'acc_grapheme': 0.996536, 'acc_vowel': 0.998455, 'acc_consonant': 0.999103, 'acc_word': 0.996361, 'loss_grapheme': 0.020138, 'loss_vowel': 0.011656, 'loss_consonant': 0.007566, 'loss_word': 0.020282}\n",
      "SWA>>>:\n"
     ]
    },
    {
     "name": "stderr",
     "output_type": "stream",
     "text": [
      "100%|██████████| 251/251 [02:00<00:00,  2.15it/s]\n"
     ]
    },
    {
     "name": "stdout",
     "output_type": "stream",
     "text": [
      "\n",
      "val: {'recall': 0.998115, 'recall_grapheme': 0.997249, 'recall_vowel': 0.998636, 'recall_consonant': 0.999327, 'recall_word': 0.997128, 'acc_grapheme': 0.997383, 'acc_vowel': 0.99853, 'acc_consonant': 0.999277, 'acc_word': 0.997184, 'loss_grapheme': 0.012524, 'loss_vowel': 0.006053, 'loss_consonant': 0.003197, 'loss_word': 0.01282}\n",
      "   15 | 0.000125 | 160640/160716 | 6.2013 | 5.5227 |||"
     ]
    },
    {
     "name": "stderr",
     "output_type": "stream",
     "text": [
      "\r",
      "  0%|          | 0/251 [00:00<?, ?it/s]"
     ]
    },
    {
     "name": "stdout",
     "output_type": "stream",
     "text": [
      "\n",
      "val: {'recall': 0.997505, 'recall_grapheme': 0.996198, 'recall_vowel': 0.998662, 'recall_consonant': 0.998961, 'recall_word': 0.995702, 'acc_grapheme': 0.995987, 'acc_vowel': 0.998405, 'acc_consonant': 0.998854, 'acc_word': 0.995713, 'loss_grapheme': 0.022206, 'loss_vowel': 0.012266, 'loss_consonant': 0.008214, 'loss_word': 0.022377}\n",
      "SWA>>>:\n"
     ]
    },
    {
     "name": "stderr",
     "output_type": "stream",
     "text": [
      "100%|██████████| 251/251 [01:59<00:00,  2.12it/s]\n"
     ]
    },
    {
     "name": "stdout",
     "output_type": "stream",
     "text": [
      "\n",
      "val: {'recall': 0.998116, 'recall_grapheme': 0.997186, 'recall_vowel': 0.998732, 'recall_consonant': 0.999361, 'recall_word': 0.997099, 'acc_grapheme': 0.997408, 'acc_vowel': 0.998554, 'acc_consonant': 0.999302, 'acc_word': 0.997159, 'loss_grapheme': 0.012512, 'loss_vowel': 0.005987, 'loss_consonant': 0.00319, 'loss_word': 0.012784}\n",
      "   16 | 0.000122 | 160640/160716 | 12.7061 | 5.2936 |"
     ]
    },
    {
     "name": "stderr",
     "output_type": "stream",
     "text": [
      "\r",
      "  0%|          | 0/251 [00:00<?, ?it/s]"
     ]
    },
    {
     "name": "stdout",
     "output_type": "stream",
     "text": [
      "\n",
      "val: {'recall': 0.99764, 'recall_grapheme': 0.996459, 'recall_vowel': 0.998586, 'recall_consonant': 0.999055, 'recall_word': 0.996205, 'acc_grapheme': 0.996287, 'acc_vowel': 0.99828, 'acc_consonant': 0.998928, 'acc_word': 0.996212, 'loss_grapheme': 0.021373, 'loss_vowel': 0.012628, 'loss_consonant': 0.008345, 'loss_word': 0.020889}\n",
      "SWA>>>:\n"
     ]
    },
    {
     "name": "stderr",
     "output_type": "stream",
     "text": [
      "100%|██████████| 251/251 [01:59<00:00,  2.05it/s]\n"
     ]
    },
    {
     "name": "stdout",
     "output_type": "stream",
     "text": [
      "\n",
      "val: {'recall': 0.998165, 'recall_grapheme': 0.997281, 'recall_vowel': 0.998732, 'recall_consonant': 0.999366, 'recall_word': 0.997129, 'acc_grapheme': 0.997458, 'acc_vowel': 0.998554, 'acc_consonant': 0.999327, 'acc_word': 0.997184, 'loss_grapheme': 0.012463, 'loss_vowel': 0.00595, 'loss_consonant': 0.003159, 'loss_word': 0.012723}\n",
      "   17 | 0.000119 | 160640/160716 | 5.1057 | 5.2648 |||"
     ]
    },
    {
     "name": "stderr",
     "output_type": "stream",
     "text": [
      "\r",
      "  0%|          | 0/251 [00:00<?, ?it/s]"
     ]
    },
    {
     "name": "stdout",
     "output_type": "stream",
     "text": [
      "\n",
      "val: {'recall': 0.9978, 'recall_grapheme': 0.996642, 'recall_vowel': 0.998788, 'recall_consonant': 0.999131, 'recall_word': 0.996186, 'acc_grapheme': 0.996536, 'acc_vowel': 0.998554, 'acc_consonant': 0.999028, 'acc_word': 0.996212, 'loss_grapheme': 0.017175, 'loss_vowel': 0.008723, 'loss_consonant': 0.005642, 'loss_word': 0.017154}\n",
      "SWA>>>:\n"
     ]
    },
    {
     "name": "stderr",
     "output_type": "stream",
     "text": [
      "100%|██████████| 251/251 [01:59<00:00,  2.17it/s]\n"
     ]
    },
    {
     "name": "stdout",
     "output_type": "stream",
     "text": [
      "\n",
      "val: {'recall': 0.998133, 'recall_grapheme': 0.997206, 'recall_vowel': 0.99876, 'recall_consonant': 0.999361, 'recall_word': 0.997144, 'acc_grapheme': 0.997433, 'acc_vowel': 0.998579, 'acc_consonant': 0.999302, 'acc_word': 0.997209, 'loss_grapheme': 0.01241, 'loss_vowel': 0.00593, 'loss_consonant': 0.003146, 'loss_word': 0.012675}\n",
      "   18 | 0.000116 | 160640/160716 | 4.2994 | 5.7548 ||"
     ]
    },
    {
     "name": "stderr",
     "output_type": "stream",
     "text": [
      "\r",
      "  0%|          | 0/251 [00:00<?, ?it/s]"
     ]
    },
    {
     "name": "stdout",
     "output_type": "stream",
     "text": [
      "\n",
      "val: {'recall': 0.997472, 'recall_grapheme': 0.996203, 'recall_vowel': 0.998589, 'recall_consonant': 0.998893, 'recall_word': 0.996043, 'acc_grapheme': 0.996237, 'acc_vowel': 0.99843, 'acc_consonant': 0.998804, 'acc_word': 0.996087, 'loss_grapheme': 0.026121, 'loss_vowel': 0.015751, 'loss_consonant': 0.011823, 'loss_word': 0.024286}\n",
      "SWA>>>:\n"
     ]
    },
    {
     "name": "stderr",
     "output_type": "stream",
     "text": [
      "100%|██████████| 251/251 [01:58<00:00,  2.15it/s]\n"
     ]
    },
    {
     "name": "stdout",
     "output_type": "stream",
     "text": [
      "\n",
      "val: {'recall': 0.998139, 'recall_grapheme': 0.997218, 'recall_vowel': 0.99876, 'recall_consonant': 0.999361, 'recall_word': 0.997155, 'acc_grapheme': 0.997458, 'acc_vowel': 0.998579, 'acc_consonant': 0.999302, 'acc_word': 0.997209, 'loss_grapheme': 0.012383, 'loss_vowel': 0.005887, 'loss_consonant': 0.003118, 'loss_word': 0.012639}\n",
      "   19 | 0.000113 | 160640/160716 | 7.2200 | 5.2851 |||"
     ]
    },
    {
     "name": "stderr",
     "output_type": "stream",
     "text": [
      "\r",
      "  0%|          | 0/251 [00:00<?, ?it/s]"
     ]
    },
    {
     "name": "stdout",
     "output_type": "stream",
     "text": [
      "\n",
      "val: {'recall': 0.997143, 'recall_grapheme': 0.99572, 'recall_vowel': 0.998243, 'recall_consonant': 0.998889, 'recall_word': 0.995521, 'acc_grapheme': 0.995539, 'acc_vowel': 0.998131, 'acc_consonant': 0.998704, 'acc_word': 0.995514, 'loss_grapheme': 0.030146, 'loss_vowel': 0.017682, 'loss_consonant': 0.012835, 'loss_word': 0.027577}\n",
      "SWA>>>:\n"
     ]
    },
    {
     "name": "stderr",
     "output_type": "stream",
     "text": [
      "100%|██████████| 251/251 [02:00<00:00,  2.16it/s]\n"
     ]
    },
    {
     "name": "stdout",
     "output_type": "stream",
     "text": [
      "\n",
      "val: {'recall': 0.998158, 'recall_grapheme': 0.997245, 'recall_vowel': 0.998776, 'recall_consonant': 0.999366, 'recall_word': 0.997196, 'acc_grapheme': 0.997483, 'acc_vowel': 0.998604, 'acc_consonant': 0.999327, 'acc_word': 0.997258, 'loss_grapheme': 0.012321, 'loss_vowel': 0.005831, 'loss_consonant': 0.003092, 'loss_word': 0.012576}\n",
      "   20 | 0.000109 | 160640/160716 | 4.5442 | 5.6515 ||"
     ]
    },
    {
     "name": "stderr",
     "output_type": "stream",
     "text": [
      "\r",
      "  0%|          | 0/251 [00:00<?, ?it/s]"
     ]
    },
    {
     "name": "stdout",
     "output_type": "stream",
     "text": [
      "\n",
      "val: {'recall': 0.997701, 'recall_grapheme': 0.996563, 'recall_vowel': 0.99865, 'recall_consonant': 0.999028, 'recall_word': 0.996319, 'acc_grapheme': 0.996561, 'acc_vowel': 0.99843, 'acc_consonant': 0.998928, 'acc_word': 0.996336, 'loss_grapheme': 0.020634, 'loss_vowel': 0.011841, 'loss_consonant': 0.008414, 'loss_word': 0.019747}\n",
      "SWA>>>:\n"
     ]
    },
    {
     "name": "stderr",
     "output_type": "stream",
     "text": [
      "100%|██████████| 251/251 [01:59<00:00,  2.13it/s]\n"
     ]
    },
    {
     "name": "stdout",
     "output_type": "stream",
     "text": [
      "\n",
      "val: {'recall': 0.998158, 'recall_grapheme': 0.997245, 'recall_vowel': 0.998776, 'recall_consonant': 0.999366, 'recall_word': 0.997207, 'acc_grapheme': 0.997483, 'acc_vowel': 0.998604, 'acc_consonant': 0.999327, 'acc_word': 0.997258, 'loss_grapheme': 0.012269, 'loss_vowel': 0.00578, 'loss_consonant': 0.003084, 'loss_word': 0.012519}\n",
      "   21 | 0.000106 | 160640/160716 | 9.2981 | 5.1904 ||"
     ]
    },
    {
     "name": "stderr",
     "output_type": "stream",
     "text": [
      "\r",
      "  0%|          | 0/251 [00:00<?, ?it/s]"
     ]
    },
    {
     "name": "stdout",
     "output_type": "stream",
     "text": [
      "\n",
      "val: {'recall': 0.99742, 'recall_grapheme': 0.996011, 'recall_vowel': 0.998679, 'recall_consonant': 0.998978, 'recall_word': 0.995573, 'acc_grapheme': 0.995938, 'acc_vowel': 0.99833, 'acc_consonant': 0.998953, 'acc_word': 0.995564, 'loss_grapheme': 0.021519, 'loss_vowel': 0.011561, 'loss_consonant': 0.007481, 'loss_word': 0.020749}\n",
      "SWA>>>:\n"
     ]
    },
    {
     "name": "stderr",
     "output_type": "stream",
     "text": [
      "100%|██████████| 251/251 [02:00<00:00,  2.17it/s]\n"
     ]
    },
    {
     "name": "stdout",
     "output_type": "stream",
     "text": [
      "\n",
      "val: {'recall': 0.998164, 'recall_grapheme': 0.997252, 'recall_vowel': 0.998792, 'recall_consonant': 0.999361, 'recall_word': 0.997152, 'acc_grapheme': 0.997508, 'acc_vowel': 0.998604, 'acc_consonant': 0.999302, 'acc_word': 0.997209, 'loss_grapheme': 0.012268, 'loss_vowel': 0.00578, 'loss_consonant': 0.003059, 'loss_word': 0.012513}\n",
      "   22 | 0.000102 | 160640/160716 | 3.5180 | 4.8656 ||"
     ]
    },
    {
     "name": "stderr",
     "output_type": "stream",
     "text": [
      "\r",
      "  0%|          | 0/251 [00:00<?, ?it/s]"
     ]
    },
    {
     "name": "stdout",
     "output_type": "stream",
     "text": [
      "\n",
      "val: {'recall': 0.997446, 'recall_grapheme': 0.996123, 'recall_vowel': 0.998434, 'recall_consonant': 0.999106, 'recall_word': 0.995564, 'acc_grapheme': 0.995913, 'acc_vowel': 0.998305, 'acc_consonant': 0.998953, 'acc_word': 0.995564, 'loss_grapheme': 0.034811, 'loss_vowel': 0.021176, 'loss_consonant': 0.013914, 'loss_word': 0.033351}\n",
      "SWA>>>:\n"
     ]
    },
    {
     "name": "stderr",
     "output_type": "stream",
     "text": [
      "100%|██████████| 251/251 [01:59<00:00,  2.18it/s]\n"
     ]
    },
    {
     "name": "stdout",
     "output_type": "stream",
     "text": [
      "\n",
      "val: {'recall': 0.998165, 'recall_grapheme': 0.997245, 'recall_vowel': 0.998805, 'recall_consonant': 0.999363, 'recall_word': 0.997242, 'acc_grapheme': 0.997483, 'acc_vowel': 0.998629, 'acc_consonant': 0.999327, 'acc_word': 0.997283, 'loss_grapheme': 0.012223, 'loss_vowel': 0.005743, 'loss_consonant': 0.003031, 'loss_word': 0.012465}\n",
      "   23 | 0.000098 | 149120/160716 | 13.2362 | 4.8029 |"
     ]
    },
    {
     "ename": "KeyboardInterrupt",
     "evalue": "",
     "output_type": "error",
     "traceback": [
      "\u001b[0;31m---------------------------------------------------------------------------\u001b[0m",
      "\u001b[0;31mKeyboardInterrupt\u001b[0m                         Traceback (most recent call last)",
      "\u001b[0;32m<ipython-input-39-aad596905035>\u001b[0m in \u001b[0;36m<module>\u001b[0;34m\u001b[0m\n\u001b[0;32m----> 1\u001b[0;31m \u001b[0mtrain\u001b[0m\u001b[0;34m(\u001b[0m\u001b[0margs\u001b[0m\u001b[0;34m)\u001b[0m\u001b[0;34m\u001b[0m\u001b[0;34m\u001b[0m\u001b[0m\n\u001b[0m",
      "\u001b[0;32m<ipython-input-32-3afbfd1f2d33>\u001b[0m in \u001b[0;36mtrain\u001b[0;34m(args)\u001b[0m\n\u001b[1;32m     41\u001b[0m         \u001b[0;32mfor\u001b[0m \u001b[0mepoch\u001b[0m \u001b[0;32min\u001b[0m \u001b[0mrange\u001b[0m\u001b[0;34m(\u001b[0m\u001b[0margs\u001b[0m\u001b[0;34m.\u001b[0m\u001b[0mnum_epochs\u001b[0m\u001b[0;34m)\u001b[0m\u001b[0;34m:\u001b[0m\u001b[0;34m\u001b[0m\u001b[0;34m\u001b[0m\u001b[0m\n\u001b[1;32m     42\u001b[0m             \u001b[0mgrid\u001b[0m\u001b[0;34m.\u001b[0m\u001b[0mset_prob\u001b[0m\u001b[0;34m(\u001b[0m\u001b[0mepoch\u001b[0m\u001b[0;34m,\u001b[0m \u001b[0margs\u001b[0m\u001b[0;34m.\u001b[0m\u001b[0mst_epochs\u001b[0m\u001b[0;34m)\u001b[0m\u001b[0;34m\u001b[0m\u001b[0;34m\u001b[0m\u001b[0m\n\u001b[0;32m---> 43\u001b[0;31m             \u001b[0mtrain_epoch\u001b[0m\u001b[0;34m(\u001b[0m\u001b[0margs\u001b[0m\u001b[0;34m,\u001b[0m \u001b[0mmodel\u001b[0m\u001b[0;34m,\u001b[0m \u001b[0mtrain_loader\u001b[0m\u001b[0;34m,\u001b[0m \u001b[0mepoch\u001b[0m\u001b[0;34m,\u001b[0m \u001b[0moptimizer\u001b[0m\u001b[0;34m,\u001b[0m \u001b[0mlr_scheduler\u001b[0m\u001b[0;34m,\u001b[0m \u001b[0mgrid\u001b[0m\u001b[0;34m)\u001b[0m\u001b[0;34m\u001b[0m\u001b[0;34m\u001b[0m\u001b[0m\n\u001b[0m\u001b[1;32m     44\u001b[0m             \u001b[0mvalidate_and_save\u001b[0m\u001b[0;34m(\u001b[0m\u001b[0mmodel\u001b[0m\u001b[0;34m,\u001b[0m \u001b[0mmodel_file\u001b[0m\u001b[0;34m,\u001b[0m \u001b[0mval_loader\u001b[0m\u001b[0;34m,\u001b[0m \u001b[0msave\u001b[0m\u001b[0;34m=\u001b[0m\u001b[0;32mTrue\u001b[0m\u001b[0;34m)\u001b[0m\u001b[0;34m\u001b[0m\u001b[0;34m\u001b[0m\u001b[0m\n\u001b[1;32m     45\u001b[0m \u001b[0;34m\u001b[0m\u001b[0m\n",
      "\u001b[0;32m<ipython-input-31-0539449263dd>\u001b[0m in \u001b[0;36mtrain_epoch\u001b[0;34m(args, model, train_loader, epoch, optimizer, lr_scheduler, grid)\u001b[0m\n\u001b[1;32m     21\u001b[0m             \u001b[0mlam\u001b[0m \u001b[0;34m=\u001b[0m \u001b[0;36m1\u001b[0m \u001b[0;34m-\u001b[0m \u001b[0;34m(\u001b[0m\u001b[0;34m(\u001b[0m\u001b[0mbbx2\u001b[0m \u001b[0;34m-\u001b[0m \u001b[0mbbx1\u001b[0m\u001b[0;34m)\u001b[0m \u001b[0;34m*\u001b[0m \u001b[0;34m(\u001b[0m\u001b[0mbby2\u001b[0m \u001b[0;34m-\u001b[0m \u001b[0mbby1\u001b[0m\u001b[0;34m)\u001b[0m \u001b[0;34m/\u001b[0m \u001b[0;34m(\u001b[0m\u001b[0mimg\u001b[0m\u001b[0;34m.\u001b[0m\u001b[0msize\u001b[0m\u001b[0;34m(\u001b[0m\u001b[0;34m)\u001b[0m\u001b[0;34m[\u001b[0m\u001b[0;34m-\u001b[0m\u001b[0;36m1\u001b[0m\u001b[0;34m]\u001b[0m \u001b[0;34m*\u001b[0m \u001b[0mimg\u001b[0m\u001b[0;34m.\u001b[0m\u001b[0msize\u001b[0m\u001b[0;34m(\u001b[0m\u001b[0;34m)\u001b[0m\u001b[0;34m[\u001b[0m\u001b[0;34m-\u001b[0m\u001b[0;36m2\u001b[0m\u001b[0;34m]\u001b[0m\u001b[0;34m)\u001b[0m\u001b[0;34m)\u001b[0m\u001b[0;34m\u001b[0m\u001b[0;34m\u001b[0m\u001b[0m\n\u001b[1;32m     22\u001b[0m             \u001b[0;31m# compute output\u001b[0m\u001b[0;34m\u001b[0m\u001b[0;34m\u001b[0m\u001b[0;34m\u001b[0m\u001b[0m\n\u001b[0;32m---> 23\u001b[0;31m             \u001b[0moutputs\u001b[0m\u001b[0;34m,\u001b[0m \u001b[0moutputs_aux1\u001b[0m\u001b[0;34m,\u001b[0m \u001b[0moutputs_aux2\u001b[0m \u001b[0;34m=\u001b[0m \u001b[0mmodel\u001b[0m\u001b[0;34m(\u001b[0m\u001b[0mimg\u001b[0m\u001b[0;34m)\u001b[0m\u001b[0;34m\u001b[0m\u001b[0;34m\u001b[0m\u001b[0m\n\u001b[0m\u001b[1;32m     24\u001b[0m             \u001b[0mloss_primary\u001b[0m \u001b[0;34m=\u001b[0m \u001b[0mcriterion\u001b[0m\u001b[0;34m(\u001b[0m\u001b[0moutputs\u001b[0m\u001b[0;34m,\u001b[0m \u001b[0mtarget_a\u001b[0m\u001b[0;34m)\u001b[0m \u001b[0;34m*\u001b[0m \u001b[0mlam\u001b[0m \u001b[0;34m+\u001b[0m \u001b[0mcriterion\u001b[0m\u001b[0;34m(\u001b[0m\u001b[0moutputs\u001b[0m\u001b[0;34m,\u001b[0m \u001b[0mtarget_b\u001b[0m\u001b[0;34m)\u001b[0m \u001b[0;34m*\u001b[0m \u001b[0;34m(\u001b[0m\u001b[0;36m1.\u001b[0m \u001b[0;34m-\u001b[0m \u001b[0mlam\u001b[0m\u001b[0;34m)\u001b[0m\u001b[0;34m\u001b[0m\u001b[0;34m\u001b[0m\u001b[0m\n\u001b[1;32m     25\u001b[0m             \u001b[0mloss_aux1\u001b[0m \u001b[0;34m=\u001b[0m \u001b[0mcriterion\u001b[0m\u001b[0;34m(\u001b[0m\u001b[0moutputs_aux1\u001b[0m\u001b[0;34m,\u001b[0m \u001b[0mtarget_a\u001b[0m\u001b[0;34m)\u001b[0m \u001b[0;34m*\u001b[0m \u001b[0mlam\u001b[0m \u001b[0;34m+\u001b[0m \u001b[0mcriterion\u001b[0m\u001b[0;34m(\u001b[0m\u001b[0moutputs_aux1\u001b[0m\u001b[0;34m,\u001b[0m \u001b[0mtarget_b\u001b[0m\u001b[0;34m)\u001b[0m \u001b[0;34m*\u001b[0m \u001b[0;34m(\u001b[0m\u001b[0;36m1.\u001b[0m \u001b[0;34m-\u001b[0m \u001b[0mlam\u001b[0m\u001b[0;34m)\u001b[0m\u001b[0;34m\u001b[0m\u001b[0;34m\u001b[0m\u001b[0m\n",
      "\u001b[0;32m~/anaconda3/lib/python3.7/site-packages/torch/nn/modules/module.py\u001b[0m in \u001b[0;36m__call__\u001b[0;34m(self, *input, **kwargs)\u001b[0m\n\u001b[1;32m    545\u001b[0m             \u001b[0mresult\u001b[0m \u001b[0;34m=\u001b[0m \u001b[0mself\u001b[0m\u001b[0;34m.\u001b[0m\u001b[0m_slow_forward\u001b[0m\u001b[0;34m(\u001b[0m\u001b[0;34m*\u001b[0m\u001b[0minput\u001b[0m\u001b[0;34m,\u001b[0m \u001b[0;34m**\u001b[0m\u001b[0mkwargs\u001b[0m\u001b[0;34m)\u001b[0m\u001b[0;34m\u001b[0m\u001b[0;34m\u001b[0m\u001b[0m\n\u001b[1;32m    546\u001b[0m         \u001b[0;32melse\u001b[0m\u001b[0;34m:\u001b[0m\u001b[0;34m\u001b[0m\u001b[0;34m\u001b[0m\u001b[0m\n\u001b[0;32m--> 547\u001b[0;31m             \u001b[0mresult\u001b[0m \u001b[0;34m=\u001b[0m \u001b[0mself\u001b[0m\u001b[0;34m.\u001b[0m\u001b[0mforward\u001b[0m\u001b[0;34m(\u001b[0m\u001b[0;34m*\u001b[0m\u001b[0minput\u001b[0m\u001b[0;34m,\u001b[0m \u001b[0;34m**\u001b[0m\u001b[0mkwargs\u001b[0m\u001b[0;34m)\u001b[0m\u001b[0;34m\u001b[0m\u001b[0;34m\u001b[0m\u001b[0m\n\u001b[0m\u001b[1;32m    548\u001b[0m         \u001b[0;32mfor\u001b[0m \u001b[0mhook\u001b[0m \u001b[0;32min\u001b[0m \u001b[0mself\u001b[0m\u001b[0;34m.\u001b[0m\u001b[0m_forward_hooks\u001b[0m\u001b[0;34m.\u001b[0m\u001b[0mvalues\u001b[0m\u001b[0;34m(\u001b[0m\u001b[0;34m)\u001b[0m\u001b[0;34m:\u001b[0m\u001b[0;34m\u001b[0m\u001b[0;34m\u001b[0m\u001b[0m\n\u001b[1;32m    549\u001b[0m             \u001b[0mhook_result\u001b[0m \u001b[0;34m=\u001b[0m \u001b[0mhook\u001b[0m\u001b[0;34m(\u001b[0m\u001b[0mself\u001b[0m\u001b[0;34m,\u001b[0m \u001b[0minput\u001b[0m\u001b[0;34m,\u001b[0m \u001b[0mresult\u001b[0m\u001b[0;34m)\u001b[0m\u001b[0;34m\u001b[0m\u001b[0;34m\u001b[0m\u001b[0m\n",
      "\u001b[0;32m~/anaconda3/lib/python3.7/site-packages/torch/nn/parallel/data_parallel.py\u001b[0m in \u001b[0;36mforward\u001b[0;34m(self, *inputs, **kwargs)\u001b[0m\n\u001b[1;32m    150\u001b[0m             \u001b[0;32mreturn\u001b[0m \u001b[0mself\u001b[0m\u001b[0;34m.\u001b[0m\u001b[0mmodule\u001b[0m\u001b[0;34m(\u001b[0m\u001b[0;34m*\u001b[0m\u001b[0minputs\u001b[0m\u001b[0;34m[\u001b[0m\u001b[0;36m0\u001b[0m\u001b[0;34m]\u001b[0m\u001b[0;34m,\u001b[0m \u001b[0;34m**\u001b[0m\u001b[0mkwargs\u001b[0m\u001b[0;34m[\u001b[0m\u001b[0;36m0\u001b[0m\u001b[0;34m]\u001b[0m\u001b[0;34m)\u001b[0m\u001b[0;34m\u001b[0m\u001b[0;34m\u001b[0m\u001b[0m\n\u001b[1;32m    151\u001b[0m         \u001b[0mreplicas\u001b[0m \u001b[0;34m=\u001b[0m \u001b[0mself\u001b[0m\u001b[0;34m.\u001b[0m\u001b[0mreplicate\u001b[0m\u001b[0;34m(\u001b[0m\u001b[0mself\u001b[0m\u001b[0;34m.\u001b[0m\u001b[0mmodule\u001b[0m\u001b[0;34m,\u001b[0m \u001b[0mself\u001b[0m\u001b[0;34m.\u001b[0m\u001b[0mdevice_ids\u001b[0m\u001b[0;34m[\u001b[0m\u001b[0;34m:\u001b[0m\u001b[0mlen\u001b[0m\u001b[0;34m(\u001b[0m\u001b[0minputs\u001b[0m\u001b[0;34m)\u001b[0m\u001b[0;34m]\u001b[0m\u001b[0;34m)\u001b[0m\u001b[0;34m\u001b[0m\u001b[0;34m\u001b[0m\u001b[0m\n\u001b[0;32m--> 152\u001b[0;31m         \u001b[0moutputs\u001b[0m \u001b[0;34m=\u001b[0m \u001b[0mself\u001b[0m\u001b[0;34m.\u001b[0m\u001b[0mparallel_apply\u001b[0m\u001b[0;34m(\u001b[0m\u001b[0mreplicas\u001b[0m\u001b[0;34m,\u001b[0m \u001b[0minputs\u001b[0m\u001b[0;34m,\u001b[0m \u001b[0mkwargs\u001b[0m\u001b[0;34m)\u001b[0m\u001b[0;34m\u001b[0m\u001b[0;34m\u001b[0m\u001b[0m\n\u001b[0m\u001b[1;32m    153\u001b[0m         \u001b[0;32mreturn\u001b[0m \u001b[0mself\u001b[0m\u001b[0;34m.\u001b[0m\u001b[0mgather\u001b[0m\u001b[0;34m(\u001b[0m\u001b[0moutputs\u001b[0m\u001b[0;34m,\u001b[0m \u001b[0mself\u001b[0m\u001b[0;34m.\u001b[0m\u001b[0moutput_device\u001b[0m\u001b[0;34m)\u001b[0m\u001b[0;34m\u001b[0m\u001b[0;34m\u001b[0m\u001b[0m\n\u001b[1;32m    154\u001b[0m \u001b[0;34m\u001b[0m\u001b[0m\n",
      "\u001b[0;32m~/anaconda3/lib/python3.7/site-packages/torch/nn/parallel/data_parallel.py\u001b[0m in \u001b[0;36mparallel_apply\u001b[0;34m(self, replicas, inputs, kwargs)\u001b[0m\n\u001b[1;32m    160\u001b[0m \u001b[0;34m\u001b[0m\u001b[0m\n\u001b[1;32m    161\u001b[0m     \u001b[0;32mdef\u001b[0m \u001b[0mparallel_apply\u001b[0m\u001b[0;34m(\u001b[0m\u001b[0mself\u001b[0m\u001b[0;34m,\u001b[0m \u001b[0mreplicas\u001b[0m\u001b[0;34m,\u001b[0m \u001b[0minputs\u001b[0m\u001b[0;34m,\u001b[0m \u001b[0mkwargs\u001b[0m\u001b[0;34m)\u001b[0m\u001b[0;34m:\u001b[0m\u001b[0;34m\u001b[0m\u001b[0;34m\u001b[0m\u001b[0m\n\u001b[0;32m--> 162\u001b[0;31m         \u001b[0;32mreturn\u001b[0m \u001b[0mparallel_apply\u001b[0m\u001b[0;34m(\u001b[0m\u001b[0mreplicas\u001b[0m\u001b[0;34m,\u001b[0m \u001b[0minputs\u001b[0m\u001b[0;34m,\u001b[0m \u001b[0mkwargs\u001b[0m\u001b[0;34m,\u001b[0m \u001b[0mself\u001b[0m\u001b[0;34m.\u001b[0m\u001b[0mdevice_ids\u001b[0m\u001b[0;34m[\u001b[0m\u001b[0;34m:\u001b[0m\u001b[0mlen\u001b[0m\u001b[0;34m(\u001b[0m\u001b[0mreplicas\u001b[0m\u001b[0;34m)\u001b[0m\u001b[0;34m]\u001b[0m\u001b[0;34m)\u001b[0m\u001b[0;34m\u001b[0m\u001b[0;34m\u001b[0m\u001b[0m\n\u001b[0m\u001b[1;32m    163\u001b[0m \u001b[0;34m\u001b[0m\u001b[0m\n\u001b[1;32m    164\u001b[0m     \u001b[0;32mdef\u001b[0m \u001b[0mgather\u001b[0m\u001b[0;34m(\u001b[0m\u001b[0mself\u001b[0m\u001b[0;34m,\u001b[0m \u001b[0moutputs\u001b[0m\u001b[0;34m,\u001b[0m \u001b[0moutput_device\u001b[0m\u001b[0;34m)\u001b[0m\u001b[0;34m:\u001b[0m\u001b[0;34m\u001b[0m\u001b[0;34m\u001b[0m\u001b[0m\n",
      "\u001b[0;32m~/anaconda3/lib/python3.7/site-packages/torch/nn/parallel/parallel_apply.py\u001b[0m in \u001b[0;36mparallel_apply\u001b[0;34m(modules, inputs, kwargs_tup, devices)\u001b[0m\n\u001b[1;32m     75\u001b[0m             \u001b[0mthread\u001b[0m\u001b[0;34m.\u001b[0m\u001b[0mstart\u001b[0m\u001b[0;34m(\u001b[0m\u001b[0;34m)\u001b[0m\u001b[0;34m\u001b[0m\u001b[0;34m\u001b[0m\u001b[0m\n\u001b[1;32m     76\u001b[0m         \u001b[0;32mfor\u001b[0m \u001b[0mthread\u001b[0m \u001b[0;32min\u001b[0m \u001b[0mthreads\u001b[0m\u001b[0;34m:\u001b[0m\u001b[0;34m\u001b[0m\u001b[0;34m\u001b[0m\u001b[0m\n\u001b[0;32m---> 77\u001b[0;31m             \u001b[0mthread\u001b[0m\u001b[0;34m.\u001b[0m\u001b[0mjoin\u001b[0m\u001b[0;34m(\u001b[0m\u001b[0;34m)\u001b[0m\u001b[0;34m\u001b[0m\u001b[0;34m\u001b[0m\u001b[0m\n\u001b[0m\u001b[1;32m     78\u001b[0m     \u001b[0;32melse\u001b[0m\u001b[0;34m:\u001b[0m\u001b[0;34m\u001b[0m\u001b[0;34m\u001b[0m\u001b[0m\n\u001b[1;32m     79\u001b[0m         \u001b[0m_worker\u001b[0m\u001b[0;34m(\u001b[0m\u001b[0;36m0\u001b[0m\u001b[0;34m,\u001b[0m \u001b[0mmodules\u001b[0m\u001b[0;34m[\u001b[0m\u001b[0;36m0\u001b[0m\u001b[0;34m]\u001b[0m\u001b[0;34m,\u001b[0m \u001b[0minputs\u001b[0m\u001b[0;34m[\u001b[0m\u001b[0;36m0\u001b[0m\u001b[0;34m]\u001b[0m\u001b[0;34m,\u001b[0m \u001b[0mkwargs_tup\u001b[0m\u001b[0;34m[\u001b[0m\u001b[0;36m0\u001b[0m\u001b[0;34m]\u001b[0m\u001b[0;34m,\u001b[0m \u001b[0mdevices\u001b[0m\u001b[0;34m[\u001b[0m\u001b[0;36m0\u001b[0m\u001b[0;34m]\u001b[0m\u001b[0;34m)\u001b[0m\u001b[0;34m\u001b[0m\u001b[0;34m\u001b[0m\u001b[0m\n",
      "\u001b[0;32m~/anaconda3/lib/python3.7/threading.py\u001b[0m in \u001b[0;36mjoin\u001b[0;34m(self, timeout)\u001b[0m\n\u001b[1;32m   1030\u001b[0m \u001b[0;34m\u001b[0m\u001b[0m\n\u001b[1;32m   1031\u001b[0m         \u001b[0;32mif\u001b[0m \u001b[0mtimeout\u001b[0m \u001b[0;32mis\u001b[0m \u001b[0;32mNone\u001b[0m\u001b[0;34m:\u001b[0m\u001b[0;34m\u001b[0m\u001b[0;34m\u001b[0m\u001b[0m\n\u001b[0;32m-> 1032\u001b[0;31m             \u001b[0mself\u001b[0m\u001b[0;34m.\u001b[0m\u001b[0m_wait_for_tstate_lock\u001b[0m\u001b[0;34m(\u001b[0m\u001b[0;34m)\u001b[0m\u001b[0;34m\u001b[0m\u001b[0;34m\u001b[0m\u001b[0m\n\u001b[0m\u001b[1;32m   1033\u001b[0m         \u001b[0;32melse\u001b[0m\u001b[0;34m:\u001b[0m\u001b[0;34m\u001b[0m\u001b[0;34m\u001b[0m\u001b[0m\n\u001b[1;32m   1034\u001b[0m             \u001b[0;31m# the behavior of a negative timeout isn't documented, but\u001b[0m\u001b[0;34m\u001b[0m\u001b[0;34m\u001b[0m\u001b[0;34m\u001b[0m\u001b[0m\n",
      "\u001b[0;32m~/anaconda3/lib/python3.7/threading.py\u001b[0m in \u001b[0;36m_wait_for_tstate_lock\u001b[0;34m(self, block, timeout)\u001b[0m\n\u001b[1;32m   1046\u001b[0m         \u001b[0;32mif\u001b[0m \u001b[0mlock\u001b[0m \u001b[0;32mis\u001b[0m \u001b[0;32mNone\u001b[0m\u001b[0;34m:\u001b[0m  \u001b[0;31m# already determined that the C code is done\u001b[0m\u001b[0;34m\u001b[0m\u001b[0;34m\u001b[0m\u001b[0m\n\u001b[1;32m   1047\u001b[0m             \u001b[0;32massert\u001b[0m \u001b[0mself\u001b[0m\u001b[0;34m.\u001b[0m\u001b[0m_is_stopped\u001b[0m\u001b[0;34m\u001b[0m\u001b[0;34m\u001b[0m\u001b[0m\n\u001b[0;32m-> 1048\u001b[0;31m         \u001b[0;32melif\u001b[0m \u001b[0mlock\u001b[0m\u001b[0;34m.\u001b[0m\u001b[0macquire\u001b[0m\u001b[0;34m(\u001b[0m\u001b[0mblock\u001b[0m\u001b[0;34m,\u001b[0m \u001b[0mtimeout\u001b[0m\u001b[0;34m)\u001b[0m\u001b[0;34m:\u001b[0m\u001b[0;34m\u001b[0m\u001b[0;34m\u001b[0m\u001b[0m\n\u001b[0m\u001b[1;32m   1049\u001b[0m             \u001b[0mlock\u001b[0m\u001b[0;34m.\u001b[0m\u001b[0mrelease\u001b[0m\u001b[0;34m(\u001b[0m\u001b[0;34m)\u001b[0m\u001b[0;34m\u001b[0m\u001b[0;34m\u001b[0m\u001b[0m\n\u001b[1;32m   1050\u001b[0m             \u001b[0mself\u001b[0m\u001b[0;34m.\u001b[0m\u001b[0m_stop\u001b[0m\u001b[0;34m(\u001b[0m\u001b[0;34m)\u001b[0m\u001b[0;34m\u001b[0m\u001b[0;34m\u001b[0m\u001b[0m\n",
      "\u001b[0;31mKeyboardInterrupt\u001b[0m: "
     ]
    }
   ],
   "source": [
    "train(args)"
   ]
  },
  {
   "cell_type": "code",
   "execution_count": null,
   "metadata": {},
   "outputs": [],
   "source": []
  },
  {
   "cell_type": "code",
   "execution_count": null,
   "metadata": {
    "scrolled": true
   },
   "outputs": [
    {
     "name": "stdout",
     "output_type": "stream",
     "text": [
      "model file: ./model4-ckps/tf_efficientnet_b4/model4_eb4_fold3.pth, exist: True\n",
      "loading ./model4-ckps/tf_efficientnet_b4/model4_eb4_fold3.pth...\n",
      "model file: ./model4-ckps/tf_efficientnet_b4/model4_eb4_fold3.pth, exist: True\n",
      "loading ./model4-ckps/tf_efficientnet_b4/model4_eb4_fold3.pth...\n",
      "\n",
      "val: {'recall': 0.996911, 'recall_grapheme': 0.995499, 'recall_vowel': 0.997956, 'recall_consonant': 0.99869, 'recall_word': 0.994599, 'acc_grapheme': 0.995414, 'acc_vowel': 0.997906, 'acc_consonant': 0.998604, 'acc_word': 0.994617, 'loss_grapheme': 0.023309, 'loss_vowel': 0.012818, 'loss_consonant': 0.008384, 'loss_word': 0.025105}\n",
      "CYCLE: 1\n",
      "    0 | 0.000040 | 160640/160716 | 2.8293 | 11.1408 ||\n",
      "val: {'recall': 0.996439, 'recall_grapheme': 0.994609, 'recall_vowel': 0.997744, 'recall_consonant': 0.998792, 'recall_word': 0.993961, 'acc_grapheme': 0.994592, 'acc_vowel': 0.997807, 'acc_consonant': 0.99833, 'acc_word': 0.993969, 'loss_grapheme': 0.088315, 'loss_vowel': 0.069688, 'loss_consonant': 0.047815, 'loss_word': 0.068215}\n",
      "    1 | 0.000080 | 160640/160716 | 10.7580 | 11.0344 |\n",
      "val: {'recall': 0.996444, 'recall_grapheme': 0.994668, 'recall_vowel': 0.997721, 'recall_consonant': 0.99872, 'recall_word': 0.993776, 'acc_grapheme': 0.994467, 'acc_vowel': 0.997757, 'acc_consonant': 0.998255, 'acc_word': 0.993794, 'loss_grapheme': 0.097977, 'loss_vowel': 0.075562, 'loss_consonant': 0.050554, 'loss_word': 0.078395}\n",
      "    2 | 0.000120 | 160640/160716 | 15.0579 | 11.7482 |\n",
      "val: {'recall': 0.996166, 'recall_grapheme': 0.994198, 'recall_vowel': 0.997664, 'recall_consonant': 0.998602, 'recall_word': 0.993399, 'acc_grapheme': 0.993919, 'acc_vowel': 0.997682, 'acc_consonant': 0.998106, 'acc_word': 0.993395, 'loss_grapheme': 0.104555, 'loss_vowel': 0.082238, 'loss_consonant': 0.058536, 'loss_word': 0.075455}\n",
      "    3 | 0.000159 | 160640/160716 | 16.2939 | 11.9273 |\n",
      "val: {'recall': 0.995797, 'recall_grapheme': 0.99377, 'recall_vowel': 0.997466, 'recall_consonant': 0.998182, 'recall_word': 0.992877, 'acc_grapheme': 0.993296, 'acc_vowel': 0.997582, 'acc_consonant': 0.998131, 'acc_word': 0.992872, 'loss_grapheme': 0.120835, 'loss_vowel': 0.09672, 'loss_consonant': 0.068299, 'loss_word': 0.086142}\n",
      "    4 | 0.000199 | 160640/160716 | 16.9412 | 11.5206 |\n",
      "val: {'recall': 0.995844, 'recall_grapheme': 0.993845, 'recall_vowel': 0.996951, 'recall_consonant': 0.998737, 'recall_word': 0.993328, 'acc_grapheme': 0.993819, 'acc_vowel': 0.997383, 'acc_consonant': 0.998206, 'acc_word': 0.993371, 'loss_grapheme': 0.093485, 'loss_vowel': 0.077694, 'loss_consonant': 0.056819, 'loss_word': 0.0705}\n",
      "    5 | 0.000238 | 160640/160716 | 12.6196 | 11.8174 |\n",
      "val: {'recall': 0.995907, 'recall_grapheme': 0.993909, 'recall_vowel': 0.997284, 'recall_consonant': 0.998524, 'recall_word': 0.993408, 'acc_grapheme': 0.993645, 'acc_vowel': 0.997483, 'acc_consonant': 0.998131, 'acc_word': 0.99342, 'loss_grapheme': 0.101375, 'loss_vowel': 0.07965, 'loss_consonant': 0.05516, 'loss_word': 0.081516}\n",
      "    6 | 0.000276 | 160640/160716 | 16.6380 | 11.9157 |\n",
      "val: {'recall': 0.995704, 'recall_grapheme': 0.993558, 'recall_vowel': 0.997724, 'recall_consonant': 0.997975, 'recall_word': 0.992867, 'acc_grapheme': 0.993296, 'acc_vowel': 0.997657, 'acc_consonant': 0.997981, 'acc_word': 0.992872, 'loss_grapheme': 0.116464, 'loss_vowel': 0.095071, 'loss_consonant': 0.063291, 'loss_word': 0.083114}\n",
      "    7 | 0.000315 | 160640/160716 | 13.8905 | 11.8365 |\n",
      "val: {'recall': 0.995427, 'recall_grapheme': 0.993012, 'recall_vowel': 0.997333, 'recall_consonant': 0.998352, 'recall_word': 0.992722, 'acc_grapheme': 0.992872, 'acc_vowel': 0.997283, 'acc_consonant': 0.997832, 'acc_word': 0.992648, 'loss_grapheme': 0.134893, 'loss_vowel': 0.106751, 'loss_consonant': 0.07128, 'loss_word': 0.097564}\n",
      "    8 | 0.000353 | 160640/160716 | 15.2121 | 11.2098 |\n",
      "val: {'recall': 0.995834, 'recall_grapheme': 0.993614, 'recall_vowel': 0.997672, 'recall_consonant': 0.998436, 'recall_word': 0.992867, 'acc_grapheme': 0.993096, 'acc_vowel': 0.997607, 'acc_consonant': 0.997757, 'acc_word': 0.992847, 'loss_grapheme': 0.109089, 'loss_vowel': 0.081908, 'loss_consonant': 0.060103, 'loss_word': 0.084969}\n",
      "    9 | 0.000390 | 160640/160716 | 6.4201 | 11.4366 ||\n",
      "val: {'recall': 0.996067, 'recall_grapheme': 0.994098, 'recall_vowel': 0.997619, 'recall_consonant': 0.998453, 'recall_word': 0.993077, 'acc_grapheme': 0.993545, 'acc_vowel': 0.997558, 'acc_consonant': 0.998156, 'acc_word': 0.993121, 'loss_grapheme': 0.075417, 'loss_vowel': 0.05496, 'loss_consonant': 0.041242, 'loss_word': 0.063976}\n",
      "   10 | 0.000388 | 160640/160716 | 15.5853 | 11.8054 |\n",
      "val: {'recall': 0.995604, 'recall_grapheme': 0.993436, 'recall_vowel': 0.997376, 'recall_consonant': 0.998168, 'recall_word': 0.992848, 'acc_grapheme': 0.992997, 'acc_vowel': 0.997483, 'acc_consonant': 0.997607, 'acc_word': 0.992847, 'loss_grapheme': 0.142735, 'loss_vowel': 0.107531, 'loss_consonant': 0.070447, 'loss_word': 0.103172}\n",
      "   11 | 0.000386 | 160640/160716 | 17.0099 | 11.8220 |\n",
      "val: {'recall': 0.995479, 'recall_grapheme': 0.99344, 'recall_vowel': 0.997132, 'recall_consonant': 0.997906, 'recall_word': 0.993132, 'acc_grapheme': 0.993495, 'acc_vowel': 0.997533, 'acc_consonant': 0.997981, 'acc_word': 0.993121, 'loss_grapheme': 0.103416, 'loss_vowel': 0.080063, 'loss_consonant': 0.055559, 'loss_word': 0.078119}\n",
      "   12 | 0.000384 | 160640/160716 | 12.4594 | 11.8262 |\n",
      "val: {'recall': 0.99578, 'recall_grapheme': 0.9938, 'recall_vowel': 0.997566, 'recall_consonant': 0.997954, 'recall_word': 0.99276, 'acc_grapheme': 0.99342, 'acc_vowel': 0.997582, 'acc_consonant': 0.997906, 'acc_word': 0.992822, 'loss_grapheme': 0.099706, 'loss_vowel': 0.073204, 'loss_consonant': 0.04848, 'loss_word': 0.076854}\n",
      "   13 | 0.000381 | 160640/160716 | 8.0049 | 12.1999 ||\n",
      "val: {'recall': 0.995402, 'recall_grapheme': 0.992925, 'recall_vowel': 0.997606, 'recall_consonant': 0.998152, 'recall_word': 0.993071, 'acc_grapheme': 0.992872, 'acc_vowel': 0.997657, 'acc_consonant': 0.99823, 'acc_word': 0.993022, 'loss_grapheme': 0.137542, 'loss_vowel': 0.104058, 'loss_consonant': 0.068024, 'loss_word': 0.105356}\n",
      "   14 | 0.000378 | 160640/160716 | 8.0967 | 11.8217 ||\n",
      "val: {'recall': 0.995705, 'recall_grapheme': 0.993545, 'recall_vowel': 0.997271, 'recall_consonant': 0.998458, 'recall_word': 0.992931, 'acc_grapheme': 0.993246, 'acc_vowel': 0.997483, 'acc_consonant': 0.998031, 'acc_word': 0.992922, 'loss_grapheme': 0.10459, 'loss_vowel': 0.078788, 'loss_consonant': 0.053327, 'loss_word': 0.079901}\n",
      "   16 | 0.000372 | 160640/160716 | 17.3399 | 11.6466 |\n",
      "val: {'recall': 0.995453, 'recall_grapheme': 0.992996, 'recall_vowel': 0.997685, 'recall_consonant': 0.998136, 'recall_word': 0.992798, 'acc_grapheme': 0.992623, 'acc_vowel': 0.997582, 'acc_consonant': 0.998056, 'acc_word': 0.992797, 'loss_grapheme': 0.086167, 'loss_vowel': 0.069119, 'loss_consonant': 0.042904, 'loss_word': 0.067954}\n",
      "   17 | 0.000369 | 160640/160716 | 11.0999 | 12.1521 |\n",
      "val: {'recall': 0.995544, 'recall_grapheme': 0.993439, 'recall_vowel': 0.997303, 'recall_consonant': 0.997994, 'recall_word': 0.993072, 'acc_grapheme': 0.992972, 'acc_vowel': 0.997607, 'acc_consonant': 0.997956, 'acc_word': 0.993047, 'loss_grapheme': 0.09322, 'loss_vowel': 0.069868, 'loss_consonant': 0.050742, 'loss_word': 0.069751}\n",
      "   18 | 0.000365 | 160640/160716 | 13.4492 | 11.9338 |\n",
      "val: {'recall': 0.996028, 'recall_grapheme': 0.993998, 'recall_vowel': 0.997876, 'recall_consonant': 0.998237, 'recall_word': 0.993698, 'acc_grapheme': 0.994118, 'acc_vowel': 0.997832, 'acc_consonant': 0.998131, 'acc_word': 0.993719, 'loss_grapheme': 0.116465, 'loss_vowel': 0.087323, 'loss_consonant': 0.062007, 'loss_word': 0.095573}\n",
      "   19 | 0.000362 | 160640/160716 | 15.8813 | 11.7930 |\n",
      "val: {'recall': 0.995357, 'recall_grapheme': 0.993351, 'recall_vowel': 0.996771, 'recall_consonant': 0.997954, 'recall_word': 0.992493, 'acc_grapheme': 0.992972, 'acc_vowel': 0.997234, 'acc_consonant': 0.997832, 'acc_word': 0.992523, 'loss_grapheme': 0.11236, 'loss_vowel': 0.091072, 'loss_consonant': 0.063916, 'loss_word': 0.07775}\n",
      "   20 | 0.000358 | 160640/160716 | 11.8431 | 11.6308 |\n",
      "val: {'recall': 0.995571, 'recall_grapheme': 0.993223, 'recall_vowel': 0.99748, 'recall_consonant': 0.998359, 'recall_word': 0.992673, 'acc_grapheme': 0.992897, 'acc_vowel': 0.997558, 'acc_consonant': 0.997857, 'acc_word': 0.992723, 'loss_grapheme': 0.089111, 'loss_vowel': 0.071819, 'loss_consonant': 0.052541, 'loss_word': 0.06859}\n"
     ]
    },
    {
     "name": "stdout",
     "output_type": "stream",
     "text": [
      "   21 | 0.000354 | 160640/160716 | 12.0534 | 11.4987 |\n",
      "val: {'recall': 0.995565, 'recall_grapheme': 0.99352, 'recall_vowel': 0.997462, 'recall_consonant': 0.997757, 'recall_word': 0.992915, 'acc_grapheme': 0.993171, 'acc_vowel': 0.997483, 'acc_consonant': 0.997707, 'acc_word': 0.992922, 'loss_grapheme': 0.105962, 'loss_vowel': 0.080502, 'loss_consonant': 0.057482, 'loss_word': 0.076235}\n",
      "   22 | 0.000350 | 160640/160716 | 16.5776 | 11.6344 |\n",
      "val: {'recall': 0.995819, 'recall_grapheme': 0.993562, 'recall_vowel': 0.997638, 'recall_consonant': 0.998515, 'recall_word': 0.992877, 'acc_grapheme': 0.993346, 'acc_vowel': 0.997508, 'acc_consonant': 0.997857, 'acc_word': 0.992872, 'loss_grapheme': 0.089941, 'loss_vowel': 0.069193, 'loss_consonant': 0.046205, 'loss_word': 0.072884}\n",
      "   23 | 0.000346 | 160640/160716 | 6.9081 | 11.4663 ||\n",
      "val: {'recall': 0.995978, 'recall_grapheme': 0.993998, 'recall_vowel': 0.997892, 'recall_consonant': 0.998024, 'recall_word': 0.993412, 'acc_grapheme': 0.99347, 'acc_vowel': 0.997582, 'acc_consonant': 0.998031, 'acc_word': 0.99342, 'loss_grapheme': 0.153719, 'loss_vowel': 0.120882, 'loss_consonant': 0.077801, 'loss_word': 0.104582}\n",
      "   24 | 0.000341 | 160640/160716 | 15.0565 | 11.8821 |\n",
      "val: {'recall': 0.995309, 'recall_grapheme': 0.993229, 'recall_vowel': 0.997281, 'recall_consonant': 0.997499, 'recall_word': 0.993079, 'acc_grapheme': 0.992872, 'acc_vowel': 0.997483, 'acc_consonant': 0.998006, 'acc_word': 0.993071, 'loss_grapheme': 0.090798, 'loss_vowel': 0.071828, 'loss_consonant': 0.050366, 'loss_word': 0.062282}\n",
      "   25 | 0.000337 | 160640/160716 | 8.7656 | 11.5654 ||\n",
      "val: {'recall': 0.995807, 'recall_grapheme': 0.993473, 'recall_vowel': 0.997863, 'recall_consonant': 0.99842, 'recall_word': 0.992873, 'acc_grapheme': 0.993071, 'acc_vowel': 0.997732, 'acc_consonant': 0.997906, 'acc_word': 0.992872, 'loss_grapheme': 0.08245, 'loss_vowel': 0.061398, 'loss_consonant': 0.046156, 'loss_word': 0.061771}\n",
      "   26 | 0.000332 | 160640/160716 | 13.8622 | 11.8678 |\n",
      "val: {'recall': 0.995339, 'recall_grapheme': 0.992723, 'recall_vowel': 0.997411, 'recall_consonant': 0.998501, 'recall_word': 0.992971, 'acc_grapheme': 0.992897, 'acc_vowel': 0.997582, 'acc_consonant': 0.998031, 'acc_word': 0.992922, 'loss_grapheme': 0.08856, 'loss_vowel': 0.07716, 'loss_consonant': 0.051836, 'loss_word': 0.067134}\n",
      "   27 | 0.000328 | 160640/160716 | 14.8697 | 11.5189 |\n",
      "val: {'recall': 0.995565, 'recall_grapheme': 0.993413, 'recall_vowel': 0.997385, 'recall_consonant': 0.998048, 'recall_word': 0.992884, 'acc_grapheme': 0.993171, 'acc_vowel': 0.997632, 'acc_consonant': 0.997807, 'acc_word': 0.992847, 'loss_grapheme': 0.089208, 'loss_vowel': 0.068956, 'loss_consonant': 0.043288, 'loss_word': 0.072732}\n",
      "   28 | 0.000323 | 160640/160716 | 17.2491 | 12.1559 |\n",
      "val: {'recall': 0.995809, 'recall_grapheme': 0.993884, 'recall_vowel': 0.997347, 'recall_consonant': 0.99812, 'recall_word': 0.993383, 'acc_grapheme': 0.993869, 'acc_vowel': 0.997682, 'acc_consonant': 0.998156, 'acc_word': 0.993395, 'loss_grapheme': 0.13605, 'loss_vowel': 0.102075, 'loss_consonant': 0.066904, 'loss_word': 0.111107}\n",
      "   29 | 0.000318 | 160640/160716 | 13.1771 | 11.9285 |\n",
      "val: {'recall': 0.995587, 'recall_grapheme': 0.993634, 'recall_vowel': 0.997054, 'recall_consonant': 0.998026, 'recall_word': 0.9931, 'acc_grapheme': 0.992972, 'acc_vowel': 0.997483, 'acc_consonant': 0.998031, 'acc_word': 0.993096, 'loss_grapheme': 0.127248, 'loss_vowel': 0.101413, 'loss_consonant': 0.068836, 'loss_word': 0.085823}\n",
      "   30 | 0.000312 | 160640/160716 | 11.7861 | 11.2173 |\n",
      "val: {'recall': 0.996165, 'recall_grapheme': 0.994269, 'recall_vowel': 0.997445, 'recall_consonant': 0.998677, 'recall_word': 0.993316, 'acc_grapheme': 0.99367, 'acc_vowel': 0.997607, 'acc_consonant': 0.99828, 'acc_word': 0.993346, 'loss_grapheme': 0.083311, 'loss_vowel': 0.063966, 'loss_consonant': 0.047255, 'loss_word': 0.063618}\n",
      "   31 | 0.000307 | 160640/160716 | 16.1299 | 12.1623 |\n",
      "val: {'recall': 0.996371, 'recall_grapheme': 0.994473, 'recall_vowel': 0.997864, 'recall_consonant': 0.998674, 'recall_word': 0.993874, 'acc_grapheme': 0.993944, 'acc_vowel': 0.997956, 'acc_consonant': 0.998355, 'acc_word': 0.993844, 'loss_grapheme': 0.085107, 'loss_vowel': 0.068307, 'loss_consonant': 0.050483, 'loss_word': 0.063118}\n",
      "   32 | 0.000302 | 160640/160716 | 7.3185 | 11.4095 ||\n",
      "val: {'recall': 0.996027, 'recall_grapheme': 0.994238, 'recall_vowel': 0.997577, 'recall_consonant': 0.998056, 'recall_word': 0.993628, 'acc_grapheme': 0.993869, 'acc_vowel': 0.997682, 'acc_consonant': 0.99828, 'acc_word': 0.99362, 'loss_grapheme': 0.085595, 'loss_vowel': 0.065212, 'loss_consonant': 0.047095, 'loss_word': 0.065092}\n",
      "   33 | 0.000296 | 160640/160716 | 13.9155 | 11.3314 |\n",
      "val: {'recall': 0.995923, 'recall_grapheme': 0.993539, 'recall_vowel': 0.997987, 'recall_consonant': 0.998626, 'recall_word': 0.993558, 'acc_grapheme': 0.99352, 'acc_vowel': 0.997981, 'acc_consonant': 0.998206, 'acc_word': 0.993545, 'loss_grapheme': 0.10235, 'loss_vowel': 0.078845, 'loss_consonant': 0.052923, 'loss_word': 0.072952}\n",
      "   34 | 0.000291 | 160640/160716 | 10.8095 | 11.1283 |\n",
      "val: {'recall': 0.99638, 'recall_grapheme': 0.994551, 'recall_vowel': 0.99785, 'recall_consonant': 0.99857, 'recall_word': 0.993848, 'acc_grapheme': 0.994093, 'acc_vowel': 0.997807, 'acc_consonant': 0.99828, 'acc_word': 0.993819, 'loss_grapheme': 0.098911, 'loss_vowel': 0.078889, 'loss_consonant': 0.051647, 'loss_word': 0.08586}\n",
      "   35 | 0.000285 | 160640/160716 | 13.3577 | 11.4935 |\n",
      "val: {'recall': 0.995787, 'recall_grapheme': 0.993645, 'recall_vowel': 0.997524, 'recall_consonant': 0.998335, 'recall_word': 0.993302, 'acc_grapheme': 0.993445, 'acc_vowel': 0.997607, 'acc_consonant': 0.998031, 'acc_word': 0.993246, 'loss_grapheme': 0.084074, 'loss_vowel': 0.062495, 'loss_consonant': 0.04533, 'loss_word': 0.061061}\n",
      "   36 | 0.000279 | 160640/160716 | 5.9706 | 11.4893 ||\n",
      "val: {'recall': 0.995358, 'recall_grapheme': 0.993191, 'recall_vowel': 0.997231, 'recall_consonant': 0.99782, 'recall_word': 0.993095, 'acc_grapheme': 0.993395, 'acc_vowel': 0.997483, 'acc_consonant': 0.997956, 'acc_word': 0.993121, 'loss_grapheme': 0.068919, 'loss_vowel': 0.050139, 'loss_consonant': 0.035028, 'loss_word': 0.053358}\n",
      "   37 | 0.000274 | 160640/160716 | 12.9968 | 12.0274 |\n",
      "val: {'recall': 0.995643, 'recall_grapheme': 0.993137, 'recall_vowel': 0.997646, 'recall_consonant': 0.998651, 'recall_word': 0.99317, 'acc_grapheme': 0.993346, 'acc_vowel': 0.997782, 'acc_consonant': 0.99823, 'acc_word': 0.993171, 'loss_grapheme': 0.07972, 'loss_vowel': 0.062153, 'loss_consonant': 0.046224, 'loss_word': 0.057883}\n",
      "   38 | 0.000268 | 160640/160716 | 5.4185 | 11.5945 ||\n",
      "val: {'recall': 0.995944, 'recall_grapheme': 0.994011, 'recall_vowel': 0.997623, 'recall_consonant': 0.99813, 'recall_word': 0.99397, 'acc_grapheme': 0.993844, 'acc_vowel': 0.997657, 'acc_consonant': 0.998156, 'acc_word': 0.994019, 'loss_grapheme': 0.090721, 'loss_vowel': 0.068979, 'loss_consonant': 0.045781, 'loss_word': 0.062662}\n",
      "   39 | 0.000262 | 160640/160716 | 1.6438 | 11.4694 ||\n",
      "val: {'recall': 0.996252, 'recall_grapheme': 0.994554, 'recall_vowel': 0.997335, 'recall_consonant': 0.998565, 'recall_word': 0.993951, 'acc_grapheme': 0.994343, 'acc_vowel': 0.997832, 'acc_consonant': 0.998056, 'acc_word': 0.993969, 'loss_grapheme': 0.071709, 'loss_vowel': 0.052799, 'loss_consonant': 0.036067, 'loss_word': 0.058456}\n",
      "   40 | 0.000256 | 160640/160716 | 14.3447 | 11.3327 |\n",
      "val: {'recall': 0.996256, 'recall_grapheme': 0.994408, 'recall_vowel': 0.997675, 'recall_consonant': 0.998533, 'recall_word': 0.993602, 'acc_grapheme': 0.993994, 'acc_vowel': 0.997882, 'acc_consonant': 0.99833, 'acc_word': 0.993695, 'loss_grapheme': 0.081748, 'loss_vowel': 0.062708, 'loss_consonant': 0.045231, 'loss_word': 0.061819}\n",
      "   41 | 0.000250 | 160640/160716 | 8.8168 | 11.2941 ||\n",
      "val: {'recall': 0.996073, 'recall_grapheme': 0.994123, 'recall_vowel': 0.997637, 'recall_consonant': 0.998409, 'recall_word': 0.993577, 'acc_grapheme': 0.993595, 'acc_vowel': 0.997757, 'acc_consonant': 0.997981, 'acc_word': 0.99362, 'loss_grapheme': 0.107331, 'loss_vowel': 0.084142, 'loss_consonant': 0.057335, 'loss_word': 0.074547}\n",
      "   42 | 0.000244 | 160640/160716 | 16.3670 | 11.5839 |\n",
      "val: {'recall': 0.996109, 'recall_grapheme': 0.994244, 'recall_vowel': 0.997552, 'recall_consonant': 0.998396, 'recall_word': 0.99369, 'acc_grapheme': 0.993819, 'acc_vowel': 0.997657, 'acc_consonant': 0.998156, 'acc_word': 0.993719, 'loss_grapheme': 0.072329, 'loss_vowel': 0.056911, 'loss_consonant': 0.040641, 'loss_word': 0.054949}\n",
      "   43 | 0.000238 | 160640/160716 | 4.2311 | 11.3185 ||\n",
      "val: {'recall': 0.996328, 'recall_grapheme': 0.994277, 'recall_vowel': 0.998122, 'recall_consonant': 0.998637, 'recall_word': 0.99389, 'acc_grapheme': 0.994392, 'acc_vowel': 0.997931, 'acc_consonant': 0.998255, 'acc_word': 0.993944, 'loss_grapheme': 0.077434, 'loss_vowel': 0.056334, 'loss_consonant': 0.040692, 'loss_word': 0.060127}\n",
      "   44 | 0.000231 | 160640/160716 | 16.6726 | 11.6163 |\n",
      "val: {'recall': 0.996368, 'recall_grapheme': 0.994284, 'recall_vowel': 0.99814, 'recall_consonant': 0.998765, 'recall_word': 0.994113, 'acc_grapheme': 0.994093, 'acc_vowel': 0.998006, 'acc_consonant': 0.99828, 'acc_word': 0.994118, 'loss_grapheme': 0.108098, 'loss_vowel': 0.080727, 'loss_consonant': 0.057002, 'loss_word': 0.079236}\n",
      "   45 | 0.000225 | 160640/160716 | 3.8423 | 11.3318 ||\n",
      "val: {'recall': 0.996195, 'recall_grapheme': 0.994065, 'recall_vowel': 0.997939, 'recall_consonant': 0.998712, 'recall_word': 0.993743, 'acc_grapheme': 0.994043, 'acc_vowel': 0.997906, 'acc_consonant': 0.998355, 'acc_word': 0.993769, 'loss_grapheme': 0.097272, 'loss_vowel': 0.070188, 'loss_consonant': 0.049207, 'loss_word': 0.080033}\n",
      "   46 | 0.000219 | 160640/160716 | 10.3464 | 10.8921 |\n",
      "val: {'recall': 0.996097, 'recall_grapheme': 0.993974, 'recall_vowel': 0.997638, 'recall_consonant': 0.9988, 'recall_word': 0.993804, 'acc_grapheme': 0.993969, 'acc_vowel': 0.997682, 'acc_consonant': 0.998305, 'acc_word': 0.993769, 'loss_grapheme': 0.091571, 'loss_vowel': 0.070126, 'loss_consonant': 0.051855, 'loss_word': 0.064853}\n",
      "   47 | 0.000213 | 160640/160716 | 11.2885 | 10.9555 |\n",
      "val: {'recall': 0.996031, 'recall_grapheme': 0.994056, 'recall_vowel': 0.9974, 'recall_consonant': 0.998611, 'recall_word': 0.993504, 'acc_grapheme': 0.994043, 'acc_vowel': 0.997782, 'acc_consonant': 0.998305, 'acc_word': 0.993595, 'loss_grapheme': 0.059025, 'loss_vowel': 0.043006, 'loss_consonant': 0.032885, 'loss_word': 0.050517}\n",
      "   48 | 0.000206 | 160640/160716 | 14.0558 | 10.8840 |\n",
      "val: {'recall': 0.996102, 'recall_grapheme': 0.994294, 'recall_vowel': 0.997684, 'recall_consonant': 0.998137, 'recall_word': 0.993681, 'acc_grapheme': 0.994043, 'acc_vowel': 0.997857, 'acc_consonant': 0.998156, 'acc_word': 0.99367, 'loss_grapheme': 0.057673, 'loss_vowel': 0.042916, 'loss_consonant': 0.034083, 'loss_word': 0.046925}\n",
      "   49 | 0.000200 | 160640/160716 | 8.3809 | 11.2712 ||\n",
      "val: {'recall': 0.996103, 'recall_grapheme': 0.993995, 'recall_vowel': 0.997856, 'recall_consonant': 0.998565, 'recall_word': 0.993505, 'acc_grapheme': 0.993819, 'acc_vowel': 0.997857, 'acc_consonant': 0.99823, 'acc_word': 0.993445, 'loss_grapheme': 0.082279, 'loss_vowel': 0.063197, 'loss_consonant': 0.044342, 'loss_word': 0.065313}\n",
      "   50 | 0.000194 | 160640/160716 | 11.8483 | 11.0656 |\n",
      "val: {'recall': 0.996277, 'recall_grapheme': 0.994407, 'recall_vowel': 0.997618, 'recall_consonant': 0.998679, 'recall_word': 0.993388, 'acc_grapheme': 0.993794, 'acc_vowel': 0.997657, 'acc_consonant': 0.998455, 'acc_word': 0.993395, 'loss_grapheme': 0.069688, 'loss_vowel': 0.05239, 'loss_consonant': 0.036538, 'loss_word': 0.054681}\n",
      "   51 | 0.000187 | 160640/160716 | 10.8981 | 11.2178 |\n",
      "val: {'recall': 0.996072, 'recall_grapheme': 0.994208, 'recall_vowel': 0.997647, 'recall_consonant': 0.998224, 'recall_word': 0.99413, 'acc_grapheme': 0.994218, 'acc_vowel': 0.997757, 'acc_consonant': 0.99838, 'acc_word': 0.994118, 'loss_grapheme': 0.069432, 'loss_vowel': 0.053693, 'loss_consonant': 0.040216, 'loss_word': 0.057013}\n",
      "   52 | 0.000181 | 160640/160716 | 13.4919 | 11.3526 |\n",
      "val: {'recall': 0.9959, 'recall_grapheme': 0.993964, 'recall_vowel': 0.997517, 'recall_consonant': 0.998157, 'recall_word': 0.993675, 'acc_grapheme': 0.993994, 'acc_vowel': 0.997707, 'acc_consonant': 0.998255, 'acc_word': 0.993719, 'loss_grapheme': 0.061565, 'loss_vowel': 0.048092, 'loss_consonant': 0.035738, 'loss_word': 0.04992}\n",
      "   53 | 0.000175 | 160640/160716 | 12.8021 | 11.4973 |\n",
      "val: {'recall': 0.99646, 'recall_grapheme': 0.994734, 'recall_vowel': 0.997758, 'recall_consonant': 0.998613, 'recall_word': 0.994263, 'acc_grapheme': 0.994592, 'acc_vowel': 0.997832, 'acc_consonant': 0.998305, 'acc_word': 0.994243, 'loss_grapheme': 0.079617, 'loss_vowel': 0.062497, 'loss_consonant': 0.043587, 'loss_word': 0.063387}\n",
      "   54 | 0.000169 | 160640/160716 | 10.3442 | 11.3175 |\n",
      "val: {'recall': 0.996304, 'recall_grapheme': 0.994374, 'recall_vowel': 0.997757, 'recall_consonant': 0.99871, 'recall_word': 0.993762, 'acc_grapheme': 0.994143, 'acc_vowel': 0.997832, 'acc_consonant': 0.998355, 'acc_word': 0.993794, 'loss_grapheme': 0.062833, 'loss_vowel': 0.048835, 'loss_consonant': 0.034784, 'loss_word': 0.05023}\n",
      "   55 | 0.000163 | 160640/160716 | 4.5874 | 11.1207 ||\n",
      "val: {'recall': 0.996398, 'recall_grapheme': 0.994555, 'recall_vowel': 0.997796, 'recall_consonant': 0.998685, 'recall_word': 0.994114, 'acc_grapheme': 0.994392, 'acc_vowel': 0.997782, 'acc_consonant': 0.998255, 'acc_word': 0.994143, 'loss_grapheme': 0.088055, 'loss_vowel': 0.069319, 'loss_consonant': 0.047716, 'loss_word': 0.06927}\n",
      "   56 | 0.000156 | 160640/160716 | 13.3430 | 11.0255 |\n",
      "val: {'recall': 0.996183, 'recall_grapheme': 0.994177, 'recall_vowel': 0.997717, 'recall_consonant': 0.998664, 'recall_word': 0.993842, 'acc_grapheme': 0.994118, 'acc_vowel': 0.997832, 'acc_consonant': 0.998156, 'acc_word': 0.993869, 'loss_grapheme': 0.087702, 'loss_vowel': 0.069679, 'loss_consonant': 0.048968, 'loss_word': 0.063515}\n",
      "   57 | 0.000150 | 160640/160716 | 14.9461 | 11.2393 |\n",
      "val: {'recall': 0.995953, 'recall_grapheme': 0.993963, 'recall_vowel': 0.997502, 'recall_consonant': 0.998386, 'recall_word': 0.993302, 'acc_grapheme': 0.993894, 'acc_vowel': 0.997607, 'acc_consonant': 0.998056, 'acc_word': 0.993296, 'loss_grapheme': 0.082386, 'loss_vowel': 0.063312, 'loss_consonant': 0.045178, 'loss_word': 0.060414}\n",
      "   58 | 0.000144 | 160640/160716 | 15.3216 | 11.4719 |\n",
      "val: {'recall': 0.996282, 'recall_grapheme': 0.994384, 'recall_vowel': 0.997714, 'recall_consonant': 0.998647, 'recall_word': 0.993863, 'acc_grapheme': 0.994218, 'acc_vowel': 0.997732, 'acc_consonant': 0.998255, 'acc_word': 0.993769, 'loss_grapheme': 0.095071, 'loss_vowel': 0.077206, 'loss_consonant': 0.055462, 'loss_word': 0.068684}\n",
      "   59 | 0.000138 | 160640/160716 | 10.5123 | 11.1173 |\n",
      "val: {'recall': 0.995996, 'recall_grapheme': 0.994443, 'recall_vowel': 0.997703, 'recall_consonant': 0.997397, 'recall_word': 0.993841, 'acc_grapheme': 0.994318, 'acc_vowel': 0.997882, 'acc_consonant': 0.99843, 'acc_word': 0.993844, 'loss_grapheme': 0.068097, 'loss_vowel': 0.051743, 'loss_consonant': 0.038532, 'loss_word': 0.05509}\n",
      "   60 | 0.000132 | 160640/160716 | 12.3979 | 11.3822 |\n",
      "val: {'recall': 0.99636, 'recall_grapheme': 0.99455, 'recall_vowel': 0.997525, 'recall_consonant': 0.998815, 'recall_word': 0.994183, 'acc_grapheme': 0.994542, 'acc_vowel': 0.997807, 'acc_consonant': 0.99833, 'acc_word': 0.994193, 'loss_grapheme': 0.074964, 'loss_vowel': 0.059236, 'loss_consonant': 0.042724, 'loss_word': 0.056244}\n",
      "   61 | 0.000126 | 160640/160716 | 13.2395 | 11.2763 |\n",
      "val: {'recall': 0.996408, 'recall_grapheme': 0.994835, 'recall_vowel': 0.997698, 'recall_consonant': 0.998263, 'recall_word': 0.993961, 'acc_grapheme': 0.994517, 'acc_vowel': 0.997931, 'acc_consonant': 0.99833, 'acc_word': 0.993944, 'loss_grapheme': 0.064747, 'loss_vowel': 0.04977, 'loss_consonant': 0.036324, 'loss_word': 0.051388}\n",
      "   62 | 0.000121 | 160640/160716 | 8.0901 | 11.0563 ||\n",
      "val: {'recall': 0.996241, 'recall_grapheme': 0.994348, 'recall_vowel': 0.997638, 'recall_consonant': 0.998631, 'recall_word': 0.994063, 'acc_grapheme': 0.994168, 'acc_vowel': 0.997707, 'acc_consonant': 0.99828, 'acc_word': 0.994068, 'loss_grapheme': 0.0831, 'loss_vowel': 0.066708, 'loss_consonant': 0.045889, 'loss_word': 0.05884}\n"
     ]
    },
    {
     "name": "stdout",
     "output_type": "stream",
     "text": [
      "   63 | 0.000115 | 160640/160716 | 13.9547 | 10.9493 |\n",
      "val: {'recall': 0.996213, 'recall_grapheme': 0.994363, 'recall_vowel': 0.997496, 'recall_consonant': 0.998628, 'recall_word': 0.993742, 'acc_grapheme': 0.994168, 'acc_vowel': 0.997707, 'acc_consonant': 0.998405, 'acc_word': 0.993769, 'loss_grapheme': 0.06019, 'loss_vowel': 0.046974, 'loss_consonant': 0.034497, 'loss_word': 0.046325}\n",
      "   64 | 0.000109 | 160640/160716 | 13.1597 | 11.4104 |\n",
      "val: {'recall': 0.996515, 'recall_grapheme': 0.994747, 'recall_vowel': 0.997752, 'recall_consonant': 0.998813, 'recall_word': 0.994123, 'acc_grapheme': 0.994392, 'acc_vowel': 0.997857, 'acc_consonant': 0.99843, 'acc_word': 0.994143, 'loss_grapheme': 0.078374, 'loss_vowel': 0.062671, 'loss_consonant': 0.043452, 'loss_word': 0.057362}\n",
      "   65 | 0.000104 | 160640/160716 | 3.4650 | 10.8686 ||\n",
      "val: {'recall': 0.996517, 'recall_grapheme': 0.994764, 'recall_vowel': 0.997649, 'recall_consonant': 0.99889, 'recall_word': 0.99408, 'acc_grapheme': 0.994492, 'acc_vowel': 0.997882, 'acc_consonant': 0.998554, 'acc_word': 0.994068, 'loss_grapheme': 0.075275, 'loss_vowel': 0.056107, 'loss_consonant': 0.039833, 'loss_word': 0.059241}\n",
      "   66 | 0.000098 | 160640/160716 | 9.0261 | 11.0833 ||\n",
      "val: {'recall': 0.996522, 'recall_grapheme': 0.994607, 'recall_vowel': 0.998046, 'recall_consonant': 0.998829, 'recall_word': 0.994175, 'acc_grapheme': 0.994467, 'acc_vowel': 0.998006, 'acc_consonant': 0.998505, 'acc_word': 0.994168, 'loss_grapheme': 0.055359, 'loss_vowel': 0.038409, 'loss_consonant': 0.029227, 'loss_word': 0.046276}\n",
      "   67 | 0.000093 | 160640/160716 | 10.4605 | 10.3803 |\n",
      "val: {'recall': 0.996558, 'recall_grapheme': 0.994767, 'recall_vowel': 0.997744, 'recall_consonant': 0.998954, 'recall_word': 0.994134, 'acc_grapheme': 0.994542, 'acc_vowel': 0.998006, 'acc_consonant': 0.998604, 'acc_word': 0.994118, 'loss_grapheme': 0.076559, 'loss_vowel': 0.058427, 'loss_consonant': 0.040178, 'loss_word': 0.063026}\n",
      "   68 | 0.000088 | 160640/160716 | 14.6237 | 11.0409 |\n",
      "val: {'recall': 0.996347, 'recall_grapheme': 0.994346, 'recall_vowel': 0.997766, 'recall_consonant': 0.998931, 'recall_word': 0.993921, 'acc_grapheme': 0.994367, 'acc_vowel': 0.997857, 'acc_consonant': 0.998505, 'acc_word': 0.993919, 'loss_grapheme': 0.049984, 'loss_vowel': 0.035727, 'loss_consonant': 0.026926, 'loss_word': 0.040873}\n",
      "   69 | 0.000082 | 160640/160716 | 12.4856 | 11.3044 |\n",
      "val: {'recall': 0.996285, 'recall_grapheme': 0.994318, 'recall_vowel': 0.997742, 'recall_consonant': 0.998764, 'recall_word': 0.993729, 'acc_grapheme': 0.994168, 'acc_vowel': 0.997782, 'acc_consonant': 0.998355, 'acc_word': 0.993794, 'loss_grapheme': 0.059331, 'loss_vowel': 0.044742, 'loss_consonant': 0.032098, 'loss_word': 0.045551}\n",
      "   70 | 0.000077 | 160640/160716 | 13.3776 | 10.7593 |\n",
      "val: {'recall': 0.996622, 'recall_grapheme': 0.994883, 'recall_vowel': 0.997887, 'recall_consonant': 0.998836, 'recall_word': 0.994053, 'acc_grapheme': 0.994941, 'acc_vowel': 0.998056, 'acc_consonant': 0.998554, 'acc_word': 0.994168, 'loss_grapheme': 0.043839, 'loss_vowel': 0.030904, 'loss_consonant': 0.023107, 'loss_word': 0.039167}\n",
      "   71 | 0.000073 | 160640/160716 | 10.1729 | 11.1186 |\n",
      "val: {'recall': 0.996217, 'recall_grapheme': 0.994181, 'recall_vowel': 0.99776, 'recall_consonant': 0.998746, 'recall_word': 0.99418, 'acc_grapheme': 0.994268, 'acc_vowel': 0.997956, 'acc_consonant': 0.99838, 'acc_word': 0.994143, 'loss_grapheme': 0.053628, 'loss_vowel': 0.041726, 'loss_consonant': 0.030294, 'loss_word': 0.042253}\n",
      "   72 | 0.000068 | 160640/160716 | 14.3010 | 10.8072 |\n",
      "val: {'recall': 0.996355, 'recall_grapheme': 0.99449, 'recall_vowel': 0.997693, 'recall_consonant': 0.998748, 'recall_word': 0.994104, 'acc_grapheme': 0.994442, 'acc_vowel': 0.997807, 'acc_consonant': 0.99853, 'acc_word': 0.994118, 'loss_grapheme': 0.05719, 'loss_vowel': 0.042844, 'loss_consonant': 0.031807, 'loss_word': 0.046078}\n",
      "   73 | 0.000063 | 160640/160716 | 11.5683 | 10.9088 |\n",
      "val: {'recall': 0.996265, 'recall_grapheme': 0.994358, 'recall_vowel': 0.997677, 'recall_consonant': 0.998669, 'recall_word': 0.994031, 'acc_grapheme': 0.994268, 'acc_vowel': 0.997857, 'acc_consonant': 0.998455, 'acc_word': 0.994043, 'loss_grapheme': 0.052531, 'loss_vowel': 0.040421, 'loss_consonant': 0.031145, 'loss_word': 0.042979}\n",
      "   74 | 0.000059 | 160640/160716 | 12.3334 | 10.9754 |\n",
      "val: {'recall': 0.996352, 'recall_grapheme': 0.99445, 'recall_vowel': 0.997735, 'recall_consonant': 0.998775, 'recall_word': 0.994169, 'acc_grapheme': 0.994467, 'acc_vowel': 0.997857, 'acc_consonant': 0.998405, 'acc_word': 0.994193, 'loss_grapheme': 0.061311, 'loss_vowel': 0.046835, 'loss_consonant': 0.034035, 'loss_word': 0.048657}\n",
      "   75 | 0.000054 | 160640/160716 | 9.9109 | 10.8275 ||\n",
      "val: {'recall': 0.996465, 'recall_grapheme': 0.994525, 'recall_vowel': 0.997836, 'recall_consonant': 0.998973, 'recall_word': 0.993955, 'acc_grapheme': 0.994691, 'acc_vowel': 0.997956, 'acc_consonant': 0.998679, 'acc_word': 0.994019, 'loss_grapheme': 0.045928, 'loss_vowel': 0.033467, 'loss_consonant': 0.025335, 'loss_word': 0.038875}\n",
      "   76 | 0.000050 | 160640/160716 | 1.3085 | 10.9101 ||\n",
      "val: {'recall': 0.996471, 'recall_grapheme': 0.994608, 'recall_vowel': 0.997761, 'recall_consonant': 0.99891, 'recall_word': 0.994339, 'acc_grapheme': 0.994766, 'acc_vowel': 0.997882, 'acc_consonant': 0.998629, 'acc_word': 0.994392, 'loss_grapheme': 0.050424, 'loss_vowel': 0.036896, 'loss_consonant': 0.027604, 'loss_word': 0.044821}\n",
      "   77 | 0.000046 | 160640/160716 | 7.3122 | 10.8788 ||\n",
      "val: {'recall': 0.996293, 'recall_grapheme': 0.994317, 'recall_vowel': 0.997635, 'recall_consonant': 0.998903, 'recall_word': 0.993945, 'acc_grapheme': 0.994467, 'acc_vowel': 0.997732, 'acc_consonant': 0.998505, 'acc_word': 0.993944, 'loss_grapheme': 0.051673, 'loss_vowel': 0.038571, 'loss_consonant': 0.027664, 'loss_word': 0.040706}\n",
      "   78 | 0.000042 | 160640/160716 | 12.0763 | 10.9310 |\n",
      "val: {'recall': 0.996272, 'recall_grapheme': 0.994315, 'recall_vowel': 0.99769, 'recall_consonant': 0.99877, 'recall_word': 0.993854, 'acc_grapheme': 0.994392, 'acc_vowel': 0.997782, 'acc_consonant': 0.99853, 'acc_word': 0.993919, 'loss_grapheme': 0.04745, 'loss_vowel': 0.034059, 'loss_consonant': 0.026071, 'loss_word': 0.039756}\n",
      "   79 | 0.000038 | 160640/160716 | 5.3667 | 11.2015 ||\n",
      "val: {'recall': 0.996683, 'recall_grapheme': 0.994883, 'recall_vowel': 0.997876, 'recall_consonant': 0.999089, 'recall_word': 0.994567, 'acc_grapheme': 0.995065, 'acc_vowel': 0.997931, 'acc_consonant': 0.998729, 'acc_word': 0.994567, 'loss_grapheme': 0.071893, 'loss_vowel': 0.052717, 'loss_consonant': 0.036454, 'loss_word': 0.05926}\n",
      "   80 | 0.000035 | 160640/160716 | 12.7110 | 10.9067 |\n",
      "val: {'recall': 0.996394, 'recall_grapheme': 0.994421, 'recall_vowel': 0.997868, 'recall_consonant': 0.998864, 'recall_word': 0.99414, 'acc_grapheme': 0.994592, 'acc_vowel': 0.998056, 'acc_consonant': 0.99843, 'acc_word': 0.994218, 'loss_grapheme': 0.056407, 'loss_vowel': 0.043154, 'loss_consonant': 0.031405, 'loss_word': 0.045159}\n",
      "   81 | 0.000031 | 160640/160716 | 12.2962 | 11.4039 |\n",
      "val: {'recall': 0.99643, 'recall_grapheme': 0.994432, 'recall_vowel': 0.997983, 'recall_consonant': 0.998873, 'recall_word': 0.994102, 'acc_grapheme': 0.994542, 'acc_vowel': 0.998056, 'acc_consonant': 0.99848, 'acc_word': 0.994118, 'loss_grapheme': 0.060913, 'loss_vowel': 0.047081, 'loss_consonant': 0.033937, 'loss_word': 0.048905}\n",
      "   82 | 0.000028 | 160640/160716 | 11.2431 | 10.8977 |\n",
      "val: {'recall': 0.996406, 'recall_grapheme': 0.9944, 'recall_vowel': 0.997891, 'recall_consonant': 0.998932, 'recall_word': 0.994071, 'acc_grapheme': 0.994592, 'acc_vowel': 0.997931, 'acc_consonant': 0.998505, 'acc_word': 0.994093, 'loss_grapheme': 0.052329, 'loss_vowel': 0.040044, 'loss_consonant': 0.029193, 'loss_word': 0.043286}\n",
      "   83 | 0.000025 | 160640/160716 | 14.2937 | 10.8024 |\n",
      "val: {'recall': 0.996198, 'recall_grapheme': 0.994077, 'recall_vowel': 0.997838, 'recall_consonant': 0.998798, 'recall_word': 0.993866, 'acc_grapheme': 0.994268, 'acc_vowel': 0.997857, 'acc_consonant': 0.99848, 'acc_word': 0.993869, 'loss_grapheme': 0.056805, 'loss_vowel': 0.044805, 'loss_consonant': 0.033024, 'loss_word': 0.045813}\n",
      "   84 | 0.000022 | 160640/160716 | 10.5551 | 11.0544 |\n",
      "val: {'recall': 0.996356, 'recall_grapheme': 0.994293, 'recall_vowel': 0.997883, 'recall_consonant': 0.998954, 'recall_word': 0.994101, 'acc_grapheme': 0.994492, 'acc_vowel': 0.997931, 'acc_consonant': 0.998604, 'acc_word': 0.994143, 'loss_grapheme': 0.050576, 'loss_vowel': 0.038948, 'loss_consonant': 0.029142, 'loss_word': 0.04156}\n",
      "   85 | 0.000019 | 160640/160716 | 13.2663 | 10.9759 |\n",
      "val: {'recall': 0.996454, 'recall_grapheme': 0.99448, 'recall_vowel': 0.997921, 'recall_consonant': 0.998935, 'recall_word': 0.993955, 'acc_grapheme': 0.994617, 'acc_vowel': 0.997981, 'acc_consonant': 0.998629, 'acc_word': 0.994019, 'loss_grapheme': 0.052138, 'loss_vowel': 0.039584, 'loss_consonant': 0.029108, 'loss_word': 0.043188}\n",
      "   86 | 0.000016 | 160640/160716 | 11.6274 | 10.4284 |\n",
      "val: {'recall': 0.996438, 'recall_grapheme': 0.994506, 'recall_vowel': 0.997808, 'recall_consonant': 0.998929, 'recall_word': 0.993999, 'acc_grapheme': 0.994542, 'acc_vowel': 0.997906, 'acc_consonant': 0.998604, 'acc_word': 0.994043, 'loss_grapheme': 0.054275, 'loss_vowel': 0.039379, 'loss_consonant': 0.028621, 'loss_word': 0.044951}\n",
      "   87 | 0.000014 | 160640/160716 | 11.6660 | 10.9167 |\n",
      "val: {'recall': 0.996421, 'recall_grapheme': 0.994557, 'recall_vowel': 0.997748, 'recall_consonant': 0.998823, 'recall_word': 0.994049, 'acc_grapheme': 0.994617, 'acc_vowel': 0.997931, 'acc_consonant': 0.99848, 'acc_word': 0.994093, 'loss_grapheme': 0.054674, 'loss_vowel': 0.043189, 'loss_consonant': 0.030434, 'loss_word': 0.04471}\n",
      "   88 | 0.000012 | 160640/160716 | 12.1601 | 10.7788 |\n",
      "val: {'recall': 0.99635, 'recall_grapheme': 0.994272, 'recall_vowel': 0.997934, 'recall_consonant': 0.99892, 'recall_word': 0.994152, 'acc_grapheme': 0.994492, 'acc_vowel': 0.998006, 'acc_consonant': 0.998679, 'acc_word': 0.994243, 'loss_grapheme': 0.043047, 'loss_vowel': 0.030558, 'loss_consonant': 0.023623, 'loss_word': 0.037257}\n",
      "   89 | 0.000010 | 160640/160716 | 7.1094 | 11.0608 ||\n",
      "val: {'recall': 0.996542, 'recall_grapheme': 0.994623, 'recall_vowel': 0.997927, 'recall_consonant': 0.998994, 'recall_word': 0.994097, 'acc_grapheme': 0.994741, 'acc_vowel': 0.997956, 'acc_consonant': 0.998654, 'acc_word': 0.994168, 'loss_grapheme': 0.054084, 'loss_vowel': 0.040928, 'loss_consonant': 0.029828, 'loss_word': 0.044694}\n",
      "   90 | 0.000008 | 160640/160716 | 13.5652 | 10.6709 |\n",
      "val: {'recall': 0.996474, 'recall_grapheme': 0.994548, 'recall_vowel': 0.997803, 'recall_consonant': 0.998999, 'recall_word': 0.994162, 'acc_grapheme': 0.994617, 'acc_vowel': 0.997906, 'acc_consonant': 0.998704, 'acc_word': 0.994218, 'loss_grapheme': 0.071918, 'loss_vowel': 0.055236, 'loss_consonant': 0.039272, 'loss_word': 0.058398}\n",
      "   91 | 0.000006 | 160640/160716 | 8.3070 | 10.3396 ||\n",
      "val: {'recall': 0.996635, 'recall_grapheme': 0.994887, 'recall_vowel': 0.997798, 'recall_consonant': 0.998969, 'recall_word': 0.9944, 'acc_grapheme': 0.994841, 'acc_vowel': 0.997882, 'acc_consonant': 0.998654, 'acc_word': 0.994442, 'loss_grapheme': 0.060598, 'loss_vowel': 0.047453, 'loss_consonant': 0.033931, 'loss_word': 0.048854}\n",
      "   92 | 0.000005 | 160640/160716 | 12.6364 | 10.5917 |\n",
      "val: {'recall': 0.996403, 'recall_grapheme': 0.994462, 'recall_vowel': 0.99773, 'recall_consonant': 0.99896, 'recall_word': 0.994108, 'acc_grapheme': 0.994517, 'acc_vowel': 0.997931, 'acc_consonant': 0.998629, 'acc_word': 0.994143, 'loss_grapheme': 0.057329, 'loss_vowel': 0.042317, 'loss_consonant': 0.030475, 'loss_word': 0.045384}\n",
      "   93 | 0.000004 | 160640/160716 | 8.7246 | 11.1095 ||\n",
      "val: {'recall': 0.996476, 'recall_grapheme': 0.994578, 'recall_vowel': 0.99782, 'recall_consonant': 0.99893, 'recall_word': 0.994075, 'acc_grapheme': 0.994592, 'acc_vowel': 0.997906, 'acc_consonant': 0.998604, 'acc_word': 0.994143, 'loss_grapheme': 0.054502, 'loss_vowel': 0.040329, 'loss_consonant': 0.030161, 'loss_word': 0.046138}\n",
      "   94 | 0.000002 | 160640/160716 | 10.1534 | 10.8038 |\n",
      "val: {'recall': 0.996454, 'recall_grapheme': 0.994435, 'recall_vowel': 0.99795, 'recall_consonant': 0.998996, 'recall_word': 0.994292, 'acc_grapheme': 0.994691, 'acc_vowel': 0.998006, 'acc_consonant': 0.998654, 'acc_word': 0.994343, 'loss_grapheme': 0.050357, 'loss_vowel': 0.038066, 'loss_consonant': 0.028756, 'loss_word': 0.043809}\n",
      "   95 | 0.000002 | 160640/160716 | 13.2260 | 11.2483 |\n",
      "val: {'recall': 0.996326, 'recall_grapheme': 0.994314, 'recall_vowel': 0.997764, 'recall_consonant': 0.998911, 'recall_word': 0.994028, 'acc_grapheme': 0.994343, 'acc_vowel': 0.997857, 'acc_consonant': 0.99853, 'acc_word': 0.994068, 'loss_grapheme': 0.067384, 'loss_vowel': 0.052026, 'loss_consonant': 0.037225, 'loss_word': 0.050347}\n",
      "   96 | 0.000001 | 160640/160716 | 11.8419 | 10.8986 |\n",
      "val: {'recall': 0.99605, 'recall_grapheme': 0.993899, 'recall_vowel': 0.997666, 'recall_consonant': 0.998737, 'recall_word': 0.993554, 'acc_grapheme': 0.993994, 'acc_vowel': 0.997807, 'acc_consonant': 0.998355, 'acc_word': 0.993595, 'loss_grapheme': 0.061002, 'loss_vowel': 0.044258, 'loss_consonant': 0.032482, 'loss_word': 0.046289}\n",
      "   97 | 0.000000 | 160640/160716 | 12.2886 | 10.8360 |\n",
      "val: {'recall': 0.996051, 'recall_grapheme': 0.993924, 'recall_vowel': 0.997531, 'recall_consonant': 0.998824, 'recall_word': 0.993579, 'acc_grapheme': 0.994043, 'acc_vowel': 0.997782, 'acc_consonant': 0.99848, 'acc_word': 0.993595, 'loss_grapheme': 0.052718, 'loss_vowel': 0.03934, 'loss_consonant': 0.029996, 'loss_word': 0.040794}\n",
      "   98 | 0.000000 | 160640/160716 | 14.1270 | 10.6464 |\n",
      "val: {'recall': 0.996351, 'recall_grapheme': 0.994454, 'recall_vowel': 0.997624, 'recall_consonant': 0.998871, 'recall_word': 0.993878, 'acc_grapheme': 0.994567, 'acc_vowel': 0.997757, 'acc_consonant': 0.998579, 'acc_word': 0.993919, 'loss_grapheme': 0.051701, 'loss_vowel': 0.038894, 'loss_consonant': 0.029598, 'loss_word': 0.040921}\n",
      "   99 | 0.000000 | 160640/160716 | 13.7778 | 11.0991 |\n",
      "val: {'recall': 0.996226, 'recall_grapheme': 0.994263, 'recall_vowel': 0.997584, 'recall_consonant': 0.998793, 'recall_word': 0.993946, 'acc_grapheme': 0.994243, 'acc_vowel': 0.997857, 'acc_consonant': 0.998455, 'acc_word': 0.993994, 'loss_grapheme': 0.060088, 'loss_vowel': 0.047304, 'loss_consonant': 0.034088, 'loss_word': 0.045539}\n",
      "CYCLE: 2\n",
      "    0 | 0.000040 | 160640/160716 | 10.2623 | 10.7866 |\n",
      "val: {'recall': 0.996204, 'recall_grapheme': 0.994144, 'recall_vowel': 0.997697, 'recall_consonant': 0.99883, 'recall_word': 0.99413, 'acc_grapheme': 0.994268, 'acc_vowel': 0.997807, 'acc_consonant': 0.998405, 'acc_word': 0.994168, 'loss_grapheme': 0.071027, 'loss_vowel': 0.055173, 'loss_consonant': 0.038509, 'loss_word': 0.053885}\n",
      "    1 | 0.000080 | 160640/160716 | 15.9056 | 11.0275 |\n",
      "val: {'recall': 0.996072, 'recall_grapheme': 0.993983, 'recall_vowel': 0.997565, 'recall_consonant': 0.998756, 'recall_word': 0.993843, 'acc_grapheme': 0.994143, 'acc_vowel': 0.997832, 'acc_consonant': 0.998405, 'acc_word': 0.993869, 'loss_grapheme': 0.057139, 'loss_vowel': 0.043923, 'loss_consonant': 0.032361, 'loss_word': 0.04382}\n",
      "    2 | 0.000120 | 160640/160716 | 13.4344 | 11.1810 |\n",
      "val: {'recall': 0.996336, 'recall_grapheme': 0.994338, 'recall_vowel': 0.9978, 'recall_consonant': 0.998867, 'recall_word': 0.994091, 'acc_grapheme': 0.994367, 'acc_vowel': 0.997857, 'acc_consonant': 0.998554, 'acc_word': 0.994118, 'loss_grapheme': 0.066423, 'loss_vowel': 0.051898, 'loss_consonant': 0.037864, 'loss_word': 0.05142}\n",
      "    3 | 0.000159 | 160640/160716 | 13.3799 | 11.0284 |\n",
      "val: {'recall': 0.996283, 'recall_grapheme': 0.994251, 'recall_vowel': 0.997804, 'recall_consonant': 0.998824, 'recall_word': 0.993832, 'acc_grapheme': 0.994193, 'acc_vowel': 0.997832, 'acc_consonant': 0.998579, 'acc_word': 0.993844, 'loss_grapheme': 0.056466, 'loss_vowel': 0.042589, 'loss_consonant': 0.031002, 'loss_word': 0.044709}\n",
      "    4 | 0.000199 | 160640/160716 | 14.3086 | 11.1131 |\n",
      "val: {'recall': 0.99617, 'recall_grapheme': 0.994134, 'recall_vowel': 0.997856, 'recall_consonant': 0.998553, 'recall_word': 0.993997, 'acc_grapheme': 0.994118, 'acc_vowel': 0.997956, 'acc_consonant': 0.99843, 'acc_word': 0.994019, 'loss_grapheme': 0.055341, 'loss_vowel': 0.041768, 'loss_consonant': 0.030715, 'loss_word': 0.0451}\n"
     ]
    },
    {
     "name": "stdout",
     "output_type": "stream",
     "text": [
      "    5 | 0.000238 | 160640/160716 | 2.7851 | 10.3432 ||\n",
      "val: {'recall': 0.996168, 'recall_grapheme': 0.994256, 'recall_vowel': 0.997589, 'recall_consonant': 0.99857, 'recall_word': 0.994029, 'acc_grapheme': 0.994268, 'acc_vowel': 0.997757, 'acc_consonant': 0.99838, 'acc_word': 0.994019, 'loss_grapheme': 0.081598, 'loss_vowel': 0.062646, 'loss_consonant': 0.042767, 'loss_word': 0.063334}\n",
      "    6 | 0.000276 | 160640/160716 | 15.0636 | 11.1700 |\n",
      "val: {'recall': 0.995897, 'recall_grapheme': 0.993542, 'recall_vowel': 0.997928, 'recall_consonant': 0.998576, 'recall_word': 0.99286, 'acc_grapheme': 0.993395, 'acc_vowel': 0.997757, 'acc_consonant': 0.998255, 'acc_word': 0.992922, 'loss_grapheme': 0.050508, 'loss_vowel': 0.035042, 'loss_consonant': 0.02805, 'loss_word': 0.041885}\n",
      "    7 | 0.000315 | 160640/160716 | 11.8219 | 10.9983 |\n",
      "val: {'recall': 0.995826, 'recall_grapheme': 0.993751, 'recall_vowel': 0.997616, 'recall_consonant': 0.998185, 'recall_word': 0.9934, 'acc_grapheme': 0.993371, 'acc_vowel': 0.997732, 'acc_consonant': 0.998255, 'acc_word': 0.993346, 'loss_grapheme': 0.059692, 'loss_vowel': 0.045541, 'loss_consonant': 0.034196, 'loss_word': 0.047054}\n",
      "    8 | 0.000353 | 160640/160716 | 14.8133 | 11.1058 |\n",
      "val: {'recall': 0.996244, 'recall_grapheme': 0.994545, 'recall_vowel': 0.997717, 'recall_consonant': 0.99817, 'recall_word': 0.99396, 'acc_grapheme': 0.994243, 'acc_vowel': 0.997832, 'acc_consonant': 0.99823, 'acc_word': 0.993944, 'loss_grapheme': 0.086381, 'loss_vowel': 0.068132, 'loss_consonant': 0.047241, 'loss_word': 0.064017}\n",
      "    9 | 0.000390 | 160640/160716 | 10.3207 | 11.1842 |\n",
      "val: {'recall': 0.995665, 'recall_grapheme': 0.993518, 'recall_vowel': 0.997824, 'recall_consonant': 0.997799, 'recall_word': 0.993742, 'acc_grapheme': 0.993844, 'acc_vowel': 0.997807, 'acc_consonant': 0.998081, 'acc_word': 0.993744, 'loss_grapheme': 0.065925, 'loss_vowel': 0.049393, 'loss_consonant': 0.03922, 'loss_word': 0.050046}\n",
      "   10 | 0.000388 | 160640/160716 | 14.9192 | 11.3739 |\n",
      "val: {'recall': 0.99577, 'recall_grapheme': 0.993656, 'recall_vowel': 0.997331, 'recall_consonant': 0.998435, 'recall_word': 0.993194, 'acc_grapheme': 0.993121, 'acc_vowel': 0.997508, 'acc_consonant': 0.998081, 'acc_word': 0.993196, 'loss_grapheme': 0.1094, 'loss_vowel': 0.083786, 'loss_consonant': 0.057842, 'loss_word': 0.068184}\n",
      "   11 | 0.000386 | 160640/160716 | 12.0891 | 11.4037 |\n",
      "val: {'recall': 0.995989, 'recall_grapheme': 0.994568, 'recall_vowel': 0.997413, 'recall_consonant': 0.997408, 'recall_word': 0.993867, 'acc_grapheme': 0.994068, 'acc_vowel': 0.997682, 'acc_consonant': 0.99853, 'acc_word': 0.993919, 'loss_grapheme': 0.059491, 'loss_vowel': 0.044369, 'loss_consonant': 0.031669, 'loss_word': 0.046895}\n",
      "   12 | 0.000384 | 160640/160716 | 10.8275 | 11.3690 |\n",
      "val: {'recall': 0.995598, 'recall_grapheme': 0.993942, 'recall_vowel': 0.997421, 'recall_consonant': 0.997087, 'recall_word': 0.993546, 'acc_grapheme': 0.993769, 'acc_vowel': 0.997458, 'acc_consonant': 0.998031, 'acc_word': 0.99357, 'loss_grapheme': 0.067875, 'loss_vowel': 0.05161, 'loss_consonant': 0.039269, 'loss_word': 0.050752}\n",
      "   13 | 0.000381 | 160640/160716 | 13.5552 | 11.4613 |\n",
      "val: {'recall': 0.995649, 'recall_grapheme': 0.993625, 'recall_vowel': 0.99757, 'recall_consonant': 0.997776, 'recall_word': 0.993254, 'acc_grapheme': 0.993221, 'acc_vowel': 0.997582, 'acc_consonant': 0.997882, 'acc_word': 0.993246, 'loss_grapheme': 0.075147, 'loss_vowel': 0.057526, 'loss_consonant': 0.045149, 'loss_word': 0.051937}\n",
      "   14 | 0.000378 | 160640/160716 | 15.4428 | 11.8384 |\n",
      "val: {'recall': 0.995891, 'recall_grapheme': 0.993779, 'recall_vowel': 0.997757, 'recall_consonant': 0.998248, 'recall_word': 0.993732, 'acc_grapheme': 0.99362, 'acc_vowel': 0.997807, 'acc_consonant': 0.998081, 'acc_word': 0.993769, 'loss_grapheme': 0.100355, 'loss_vowel': 0.077485, 'loss_consonant': 0.053824, 'loss_word': 0.066021}\n",
      "   15 | 0.000375 | 160640/160716 | 6.0243 | 11.3203 ||\n",
      "val: {'recall': 0.996064, 'recall_grapheme': 0.994277, 'recall_vowel': 0.997502, 'recall_consonant': 0.9982, 'recall_word': 0.99375, 'acc_grapheme': 0.994019, 'acc_vowel': 0.997757, 'acc_consonant': 0.998181, 'acc_word': 0.993794, 'loss_grapheme': 0.066431, 'loss_vowel': 0.050909, 'loss_consonant': 0.037913, 'loss_word': 0.055177}\n",
      "   16 | 0.000372 | 160640/160716 | 11.0636 | 11.5529 |\n",
      "val: {'recall': 0.996007, 'recall_grapheme': 0.994265, 'recall_vowel': 0.997479, 'recall_consonant': 0.998021, 'recall_word': 0.993625, 'acc_grapheme': 0.994143, 'acc_vowel': 0.997558, 'acc_consonant': 0.998305, 'acc_word': 0.99352, 'loss_grapheme': 0.05999, 'loss_vowel': 0.045168, 'loss_consonant': 0.036326, 'loss_word': 0.050332}\n",
      "   17 | 0.000369 | 160640/160716 | 15.1578 | 10.8196 |\n",
      "val: {'recall': 0.996117, 'recall_grapheme': 0.994422, 'recall_vowel': 0.997524, 'recall_consonant': 0.998103, 'recall_word': 0.993315, 'acc_grapheme': 0.994019, 'acc_vowel': 0.997607, 'acc_consonant': 0.998255, 'acc_word': 0.993296, 'loss_grapheme': 0.054617, 'loss_vowel': 0.03946, 'loss_consonant': 0.030351, 'loss_word': 0.047079}\n",
      "   18 | 0.000365 | 160640/160716 | 3.4238 | 11.1034 ||\n",
      "val: {'recall': 0.996553, 'recall_grapheme': 0.994769, 'recall_vowel': 0.997821, 'recall_consonant': 0.998853, 'recall_word': 0.994645, 'acc_grapheme': 0.994916, 'acc_vowel': 0.998056, 'acc_consonant': 0.99838, 'acc_word': 0.994567, 'loss_grapheme': 0.081484, 'loss_vowel': 0.061803, 'loss_consonant': 0.040978, 'loss_word': 0.064102}\n",
      "   19 | 0.000362 | 160640/160716 | 11.0403 | 11.3061 |\n",
      "val: {'recall': 0.995943, 'recall_grapheme': 0.993689, 'recall_vowel': 0.997698, 'recall_consonant': 0.998694, 'recall_word': 0.993836, 'acc_grapheme': 0.993869, 'acc_vowel': 0.997832, 'acc_consonant': 0.998206, 'acc_word': 0.993844, 'loss_grapheme': 0.077062, 'loss_vowel': 0.058831, 'loss_consonant': 0.040681, 'loss_word': 0.059028}\n",
      "   20 | 0.000358 | 160640/160716 | 12.7415 | 11.2166 |\n",
      "val: {'recall': 0.995841, 'recall_grapheme': 0.993777, 'recall_vowel': 0.997205, 'recall_consonant': 0.998602, 'recall_word': 0.993604, 'acc_grapheme': 0.993944, 'acc_vowel': 0.997508, 'acc_consonant': 0.998255, 'acc_word': 0.993645, 'loss_grapheme': 0.057124, 'loss_vowel': 0.042688, 'loss_consonant': 0.034831, 'loss_word': 0.044385}\n",
      "   21 | 0.000354 | 160640/160716 | 11.1247 | 11.1016 |\n",
      "val: {'recall': 0.996116, 'recall_grapheme': 0.994232, 'recall_vowel': 0.997458, 'recall_consonant': 0.998544, 'recall_word': 0.993691, 'acc_grapheme': 0.993969, 'acc_vowel': 0.997558, 'acc_consonant': 0.998255, 'acc_word': 0.99362, 'loss_grapheme': 0.058696, 'loss_vowel': 0.043084, 'loss_consonant': 0.032533, 'loss_word': 0.050264}\n",
      "   22 | 0.000350 | 160640/160716 | 9.8673 | 11.2349 ||\n",
      "val: {'recall': 0.996349, 'recall_grapheme': 0.994474, 'recall_vowel': 0.997834, 'recall_consonant': 0.998613, 'recall_word': 0.99386, 'acc_grapheme': 0.994168, 'acc_vowel': 0.997807, 'acc_consonant': 0.998255, 'acc_word': 0.993869, 'loss_grapheme': 0.058001, 'loss_vowel': 0.043204, 'loss_consonant': 0.032136, 'loss_word': 0.044512}\n",
      "   23 | 0.000346 | 160640/160716 | 10.4166 | 11.2092 |\n",
      "val: {'recall': 0.995927, 'recall_grapheme': 0.994049, 'recall_vowel': 0.997464, 'recall_consonant': 0.998146, 'recall_word': 0.993807, 'acc_grapheme': 0.994068, 'acc_vowel': 0.997732, 'acc_consonant': 0.998156, 'acc_word': 0.993844, 'loss_grapheme': 0.053763, 'loss_vowel': 0.040847, 'loss_consonant': 0.031927, 'loss_word': 0.042444}\n",
      "   24 | 0.000341 | 160640/160716 | 16.0643 | 11.2329 |\n",
      "val: {'recall': 0.996411, 'recall_grapheme': 0.994657, 'recall_vowel': 0.997911, 'recall_consonant': 0.99842, 'recall_word': 0.994345, 'acc_grapheme': 0.994392, 'acc_vowel': 0.997832, 'acc_consonant': 0.998206, 'acc_word': 0.994318, 'loss_grapheme': 0.092278, 'loss_vowel': 0.072795, 'loss_consonant': 0.053585, 'loss_word': 0.0678}\n",
      "   25 | 0.000337 | 160640/160716 | 10.9618 | 11.1952 |\n",
      "val: {'recall': 0.996119, 'recall_grapheme': 0.994376, 'recall_vowel': 0.997408, 'recall_consonant': 0.998316, 'recall_word': 0.994115, 'acc_grapheme': 0.994268, 'acc_vowel': 0.997832, 'acc_consonant': 0.998255, 'acc_word': 0.994093, 'loss_grapheme': 0.048102, 'loss_vowel': 0.037291, 'loss_consonant': 0.029794, 'loss_word': 0.038389}\n",
      "   26 | 0.000332 | 160640/160716 | 8.1658 | 11.3671 ||\n",
      "val: {'recall': 0.996382, 'recall_grapheme': 0.994552, 'recall_vowel': 0.997775, 'recall_consonant': 0.998648, 'recall_word': 0.994415, 'acc_grapheme': 0.994667, 'acc_vowel': 0.997832, 'acc_consonant': 0.99828, 'acc_word': 0.994367, 'loss_grapheme': 0.070526, 'loss_vowel': 0.054986, 'loss_consonant': 0.038361, 'loss_word': 0.052741}\n",
      "   27 | 0.000328 | 160640/160716 | 1.8884 | 11.1405 ||\n",
      "val: {'recall': 0.996299, 'recall_grapheme': 0.994455, 'recall_vowel': 0.99771, 'recall_consonant': 0.998577, 'recall_word': 0.99428, 'acc_grapheme': 0.994442, 'acc_vowel': 0.997857, 'acc_consonant': 0.998106, 'acc_word': 0.994218, 'loss_grapheme': 0.08123, 'loss_vowel': 0.061249, 'loss_consonant': 0.042475, 'loss_word': 0.05776}\n",
      "   28 | 0.000323 | 160640/160716 | 16.1145 | 11.2064 |\n",
      "val: {'recall': 0.995853, 'recall_grapheme': 0.994307, 'recall_vowel': 0.997617, 'recall_consonant': 0.997178, 'recall_word': 0.993785, 'acc_grapheme': 0.993769, 'acc_vowel': 0.997707, 'acc_consonant': 0.998006, 'acc_word': 0.993819, 'loss_grapheme': 0.064075, 'loss_vowel': 0.048398, 'loss_consonant': 0.033543, 'loss_word': 0.042636}\n",
      "   29 | 0.000318 | 160640/160716 | 11.7914 | 11.2459 |\n",
      "val: {'recall': 0.996478, 'recall_grapheme': 0.994438, 'recall_vowel': 0.998146, 'recall_consonant': 0.998891, 'recall_word': 0.994015, 'acc_grapheme': 0.994392, 'acc_vowel': 0.997981, 'acc_consonant': 0.99853, 'acc_word': 0.994019, 'loss_grapheme': 0.054705, 'loss_vowel': 0.041663, 'loss_consonant': 0.032437, 'loss_word': 0.046801}\n",
      "   30 | 0.000312 | 160640/160716 | 6.7388 | 11.2029 ||\n",
      "val: {'recall': 0.996559, 'recall_grapheme': 0.994785, 'recall_vowel': 0.997812, 'recall_consonant': 0.998854, 'recall_word': 0.993917, 'acc_grapheme': 0.994392, 'acc_vowel': 0.997857, 'acc_consonant': 0.99838, 'acc_word': 0.993819, 'loss_grapheme': 0.054452, 'loss_vowel': 0.040239, 'loss_consonant': 0.029745, 'loss_word': 0.048545}\n",
      "   31 | 0.000307 | 160640/160716 | 8.8553 | 11.0137 ||\n",
      "val: {'recall': 0.996043, 'recall_grapheme': 0.994477, 'recall_vowel': 0.99786, 'recall_consonant': 0.997355, 'recall_word': 0.994115, 'acc_grapheme': 0.994343, 'acc_vowel': 0.997757, 'acc_consonant': 0.99843, 'acc_word': 0.994068, 'loss_grapheme': 0.051045, 'loss_vowel': 0.036879, 'loss_consonant': 0.02805, 'loss_word': 0.041445}\n",
      "   32 | 0.000302 | 160640/160716 | 1.2791 | 11.0377 ||\n",
      "val: {'recall': 0.996397, 'recall_grapheme': 0.995003, 'recall_vowel': 0.998085, 'recall_consonant': 0.997499, 'recall_word': 0.994617, 'acc_grapheme': 0.994841, 'acc_vowel': 0.998081, 'acc_consonant': 0.99848, 'acc_word': 0.994642, 'loss_grapheme': 0.055996, 'loss_vowel': 0.0418, 'loss_consonant': 0.031332, 'loss_word': 0.044551}\n",
      "   33 | 0.000296 | 160640/160716 | 10.2195 | 10.7679 |\n",
      "val: {'recall': 0.996149, 'recall_grapheme': 0.993852, 'recall_vowel': 0.998106, 'recall_consonant': 0.998786, 'recall_word': 0.993828, 'acc_grapheme': 0.99357, 'acc_vowel': 0.997981, 'acc_consonant': 0.998355, 'acc_word': 0.993794, 'loss_grapheme': 0.085673, 'loss_vowel': 0.068259, 'loss_consonant': 0.047228, 'loss_word': 0.062736}\n",
      "   34 | 0.000291 | 160640/160716 | 0.4761 | 11.3830 ||\n",
      "val: {'recall': 0.996328, 'recall_grapheme': 0.994425, 'recall_vowel': 0.997774, 'recall_consonant': 0.998686, 'recall_word': 0.994028, 'acc_grapheme': 0.994268, 'acc_vowel': 0.997732, 'acc_consonant': 0.99838, 'acc_word': 0.994043, 'loss_grapheme': 0.065708, 'loss_vowel': 0.048131, 'loss_consonant': 0.034194, 'loss_word': 0.047646}\n",
      "   35 | 0.000285 | 160640/160716 | 6.9254 | 11.1485 ||\n",
      "val: {'recall': 0.996044, 'recall_grapheme': 0.994281, 'recall_vowel': 0.997937, 'recall_consonant': 0.997678, 'recall_word': 0.994385, 'acc_grapheme': 0.994592, 'acc_vowel': 0.997956, 'acc_consonant': 0.998579, 'acc_word': 0.994392, 'loss_grapheme': 0.039652, 'loss_vowel': 0.025877, 'loss_consonant': 0.019778, 'loss_word': 0.033493}\n",
      "   36 | 0.000279 | 160640/160716 | 14.7873 | 11.1040 |\n",
      "val: {'recall': 0.995735, 'recall_grapheme': 0.993379, 'recall_vowel': 0.997486, 'recall_consonant': 0.998695, 'recall_word': 0.993918, 'acc_grapheme': 0.99347, 'acc_vowel': 0.997533, 'acc_consonant': 0.998156, 'acc_word': 0.993869, 'loss_grapheme': 0.113433, 'loss_vowel': 0.088736, 'loss_consonant': 0.059077, 'loss_word': 0.073321}\n",
      "   37 | 0.000274 | 160640/160716 | 11.5261 | 10.9998 |\n",
      "val: {'recall': 0.995875, 'recall_grapheme': 0.993588, 'recall_vowel': 0.99764, 'recall_consonant': 0.998686, 'recall_word': 0.99383, 'acc_grapheme': 0.993819, 'acc_vowel': 0.997782, 'acc_consonant': 0.998355, 'acc_word': 0.993844, 'loss_grapheme': 0.063418, 'loss_vowel': 0.048532, 'loss_consonant': 0.03565, 'loss_word': 0.046686}\n",
      "   38 | 0.000268 | 160640/160716 | 13.6872 | 11.3047 |\n",
      "val: {'recall': 0.996024, 'recall_grapheme': 0.994493, 'recall_vowel': 0.997808, 'recall_consonant': 0.997303, 'recall_word': 0.994281, 'acc_grapheme': 0.994293, 'acc_vowel': 0.998056, 'acc_consonant': 0.99833, 'acc_word': 0.994243, 'loss_grapheme': 0.073949, 'loss_vowel': 0.056579, 'loss_consonant': 0.038924, 'loss_word': 0.053785}\n",
      "   39 | 0.000262 | 160640/160716 | 13.4903 | 10.9029 |\n",
      "val: {'recall': 0.99621, 'recall_grapheme': 0.994456, 'recall_vowel': 0.997499, 'recall_consonant': 0.99843, 'recall_word': 0.994455, 'acc_grapheme': 0.994667, 'acc_vowel': 0.997732, 'acc_consonant': 0.998131, 'acc_word': 0.994442, 'loss_grapheme': 0.048281, 'loss_vowel': 0.035148, 'loss_consonant': 0.027124, 'loss_word': 0.039354}\n",
      "   40 | 0.000256 | 160640/160716 | 4.0940 | 10.9308 ||\n",
      "val: {'recall': 0.996224, 'recall_grapheme': 0.994155, 'recall_vowel': 0.997718, 'recall_consonant': 0.998867, 'recall_word': 0.994282, 'acc_grapheme': 0.994293, 'acc_vowel': 0.997707, 'acc_consonant': 0.99848, 'acc_word': 0.994268, 'loss_grapheme': 0.083058, 'loss_vowel': 0.062332, 'loss_consonant': 0.044086, 'loss_word': 0.058632}\n",
      "   41 | 0.000250 | 160640/160716 | 0.6825 | 10.6353 ||\n",
      "val: {'recall': 0.996788, 'recall_grapheme': 0.995138, 'recall_vowel': 0.998005, 'recall_consonant': 0.99887, 'recall_word': 0.994428, 'acc_grapheme': 0.994916, 'acc_vowel': 0.998006, 'acc_consonant': 0.998579, 'acc_word': 0.994492, 'loss_grapheme': 0.052263, 'loss_vowel': 0.03701, 'loss_consonant': 0.027659, 'loss_word': 0.04171}\n",
      "   42 | 0.000244 | 160640/160716 | 12.3913 | 11.3510 |\n",
      "val: {'recall': 0.996236, 'recall_grapheme': 0.994258, 'recall_vowel': 0.997649, 'recall_consonant': 0.998778, 'recall_word': 0.994101, 'acc_grapheme': 0.994392, 'acc_vowel': 0.997707, 'acc_consonant': 0.998505, 'acc_word': 0.994043, 'loss_grapheme': 0.055526, 'loss_vowel': 0.039707, 'loss_consonant': 0.030557, 'loss_word': 0.041578}\n",
      "   43 | 0.000238 | 160640/160716 | 15.6952 | 10.7391 |\n",
      "val: {'recall': 0.996409, 'recall_grapheme': 0.994427, 'recall_vowel': 0.997737, 'recall_consonant': 0.999044, 'recall_word': 0.994458, 'acc_grapheme': 0.994617, 'acc_vowel': 0.997956, 'acc_consonant': 0.998654, 'acc_word': 0.994417, 'loss_grapheme': 0.071271, 'loss_vowel': 0.052054, 'loss_consonant': 0.037632, 'loss_word': 0.055546}\n",
      "   44 | 0.000231 | 160640/160716 | 8.8330 | 11.0026 ||\n",
      "val: {'recall': 0.996398, 'recall_grapheme': 0.994763, 'recall_vowel': 0.997769, 'recall_consonant': 0.998295, 'recall_word': 0.994042, 'acc_grapheme': 0.994118, 'acc_vowel': 0.997807, 'acc_consonant': 0.998131, 'acc_word': 0.994043, 'loss_grapheme': 0.059053, 'loss_vowel': 0.043283, 'loss_consonant': 0.031326, 'loss_word': 0.043444}\n",
      "   45 | 0.000225 | 160640/160716 | 5.0505 | 10.4918 ||\n",
      "val: {'recall': 0.99661, 'recall_grapheme': 0.994836, 'recall_vowel': 0.997853, 'recall_consonant': 0.998915, 'recall_word': 0.994399, 'acc_grapheme': 0.994741, 'acc_vowel': 0.998006, 'acc_consonant': 0.998554, 'acc_word': 0.994442, 'loss_grapheme': 0.049577, 'loss_vowel': 0.033718, 'loss_consonant': 0.023365, 'loss_word': 0.042124}\n",
      "   46 | 0.000219 | 160640/160716 | 14.6510 | 11.1615 |\n",
      "val: {'recall': 0.996285, 'recall_grapheme': 0.994318, 'recall_vowel': 0.997952, 'recall_consonant': 0.998553, 'recall_word': 0.993951, 'acc_grapheme': 0.993819, 'acc_vowel': 0.997981, 'acc_consonant': 0.998305, 'acc_word': 0.993894, 'loss_grapheme': 0.079063, 'loss_vowel': 0.060561, 'loss_consonant': 0.043431, 'loss_word': 0.052776}\n"
     ]
    },
    {
     "name": "stdout",
     "output_type": "stream",
     "text": [
      "   47 | 0.000213 | 160640/160716 | 10.9977 | 11.1353 |\n",
      "val: {'recall': 0.996258, 'recall_grapheme': 0.994159, 'recall_vowel': 0.99806, 'recall_consonant': 0.998655, 'recall_word': 0.99421, 'acc_grapheme': 0.993969, 'acc_vowel': 0.998106, 'acc_consonant': 0.99838, 'acc_word': 0.994243, 'loss_grapheme': 0.089665, 'loss_vowel': 0.068297, 'loss_consonant': 0.046455, 'loss_word': 0.056737}\n",
      "   48 | 0.000206 | 160640/160716 | 16.1691 | 10.9213 |\n",
      "val: {'recall': 0.996482, 'recall_grapheme': 0.994521, 'recall_vowel': 0.998065, 'recall_consonant': 0.998819, 'recall_word': 0.994565, 'acc_grapheme': 0.994467, 'acc_vowel': 0.998056, 'acc_consonant': 0.998629, 'acc_word': 0.994517, 'loss_grapheme': 0.049576, 'loss_vowel': 0.036349, 'loss_consonant': 0.0285, 'loss_word': 0.038976}\n",
      "   49 | 0.000200 | 160640/160716 | 13.5596 | 11.0215 |\n",
      "val: {'recall': 0.996105, 'recall_grapheme': 0.993989, 'recall_vowel': 0.99792, 'recall_consonant': 0.998524, 'recall_word': 0.994313, 'acc_grapheme': 0.994168, 'acc_vowel': 0.997857, 'acc_consonant': 0.998355, 'acc_word': 0.994268, 'loss_grapheme': 0.072118, 'loss_vowel': 0.057584, 'loss_consonant': 0.042268, 'loss_word': 0.049415}\n",
      "   50 | 0.000194 | 160640/160716 | 6.8236 | 10.6483 ||\n",
      "val: {'recall': 0.996835, 'recall_grapheme': 0.995155, 'recall_vowel': 0.998161, 'recall_consonant': 0.998868, 'recall_word': 0.99474, 'acc_grapheme': 0.994866, 'acc_vowel': 0.998106, 'acc_consonant': 0.998679, 'acc_word': 0.994766, 'loss_grapheme': 0.054322, 'loss_vowel': 0.03987, 'loss_consonant': 0.029012, 'loss_word': 0.045111}\n",
      "   51 | 0.000187 | 160640/160716 | 9.6239 | 10.9812 ||\n",
      "val: {'recall': 0.996642, 'recall_grapheme': 0.994809, 'recall_vowel': 0.998061, 'recall_consonant': 0.998891, 'recall_word': 0.994761, 'acc_grapheme': 0.99509, 'acc_vowel': 0.998031, 'acc_consonant': 0.998704, 'acc_word': 0.994791, 'loss_grapheme': 0.040482, 'loss_vowel': 0.027992, 'loss_consonant': 0.021484, 'loss_word': 0.035273}\n",
      "   52 | 0.000181 | 160640/160716 | 8.5549 | 10.7439 ||\n",
      "val: {'recall': 0.996258, 'recall_grapheme': 0.994255, 'recall_vowel': 0.99804, 'recall_consonant': 0.998482, 'recall_word': 0.994353, 'acc_grapheme': 0.994343, 'acc_vowel': 0.997981, 'acc_consonant': 0.998355, 'acc_word': 0.994343, 'loss_grapheme': 0.050956, 'loss_vowel': 0.034043, 'loss_consonant': 0.025919, 'loss_word': 0.039921}\n",
      "   53 | 0.000175 | 160640/160716 | 11.5158 | 10.9328 |\n",
      "val: {'recall': 0.996339, 'recall_grapheme': 0.994274, 'recall_vowel': 0.99794, 'recall_consonant': 0.998868, 'recall_word': 0.994197, 'acc_grapheme': 0.994293, 'acc_vowel': 0.998081, 'acc_consonant': 0.998654, 'acc_word': 0.994193, 'loss_grapheme': 0.043394, 'loss_vowel': 0.028238, 'loss_consonant': 0.022046, 'loss_word': 0.034868}\n",
      "   54 | 0.000169 | 160640/160716 | 12.0393 | 10.4630 |\n",
      "val: {'recall': 0.99624, 'recall_grapheme': 0.994183, 'recall_vowel': 0.997971, 'recall_consonant': 0.998622, 'recall_word': 0.994201, 'acc_grapheme': 0.994542, 'acc_vowel': 0.997956, 'acc_consonant': 0.998455, 'acc_word': 0.994268, 'loss_grapheme': 0.046496, 'loss_vowel': 0.032726, 'loss_consonant': 0.02551, 'loss_word': 0.038285}\n",
      "   55 | 0.000163 | 160640/160716 | 4.8972 | 10.9819 ||\n",
      "val: {'recall': 0.996934, 'recall_grapheme': 0.995259, 'recall_vowel': 0.998321, 'recall_consonant': 0.998898, 'recall_word': 0.994827, 'acc_grapheme': 0.99514, 'acc_vowel': 0.998206, 'acc_consonant': 0.998754, 'acc_word': 0.994841, 'loss_grapheme': 0.046017, 'loss_vowel': 0.034364, 'loss_consonant': 0.02547, 'loss_word': 0.039325}\n",
      "###>>>>> saved ./model4-ckps/tf_efficientnet_b4/model4_eb4_fold3.pth\n",
      "   56 | 0.000156 | 160640/160716 | 11.3414 | 11.0177 |\n",
      "val: {'recall': 0.996495, 'recall_grapheme': 0.994739, 'recall_vowel': 0.998019, 'recall_consonant': 0.998484, 'recall_word': 0.9945, 'acc_grapheme': 0.994741, 'acc_vowel': 0.997931, 'acc_consonant': 0.998704, 'acc_word': 0.994517, 'loss_grapheme': 0.045112, 'loss_vowel': 0.030657, 'loss_consonant': 0.024219, 'loss_word': 0.037352}\n",
      "   57 | 0.000150 | 160640/160716 | 14.8391 | 10.5396 |\n",
      "val: {'recall': 0.996677, 'recall_grapheme': 0.994863, 'recall_vowel': 0.998105, 'recall_consonant': 0.998878, 'recall_word': 0.994691, 'acc_grapheme': 0.994791, 'acc_vowel': 0.998056, 'acc_consonant': 0.998505, 'acc_word': 0.994691, 'loss_grapheme': 0.067033, 'loss_vowel': 0.049922, 'loss_consonant': 0.036782, 'loss_word': 0.052398}\n",
      "   58 | 0.000144 | 160640/160716 | 12.6361 | 10.7685 |\n",
      "val: {'recall': 0.996217, 'recall_grapheme': 0.994074, 'recall_vowel': 0.998014, 'recall_consonant': 0.998706, 'recall_word': 0.994144, 'acc_grapheme': 0.994043, 'acc_vowel': 0.998006, 'acc_consonant': 0.99848, 'acc_word': 0.994093, 'loss_grapheme': 0.054798, 'loss_vowel': 0.039174, 'loss_consonant': 0.028199, 'loss_word': 0.04127}\n",
      "   59 | 0.000138 | 160640/160716 | 11.5150 | 10.5393 |\n",
      "val: {'recall': 0.996452, 'recall_grapheme': 0.994498, 'recall_vowel': 0.998117, 'recall_consonant': 0.998695, 'recall_word': 0.99473, 'acc_grapheme': 0.994791, 'acc_vowel': 0.998131, 'acc_consonant': 0.998554, 'acc_word': 0.994716, 'loss_grapheme': 0.042755, 'loss_vowel': 0.028946, 'loss_consonant': 0.022815, 'loss_word': 0.036687}\n",
      "   60 | 0.000132 | 160640/160716 | 10.4164 | 10.5938 |\n",
      "val: {'recall': 0.996784, 'recall_grapheme': 0.994991, 'recall_vowel': 0.99824, 'recall_consonant': 0.998914, 'recall_word': 0.99468, 'acc_grapheme': 0.994592, 'acc_vowel': 0.998156, 'acc_consonant': 0.998829, 'acc_word': 0.994617, 'loss_grapheme': 0.054035, 'loss_vowel': 0.038148, 'loss_consonant': 0.029188, 'loss_word': 0.042289}\n",
      "   61 | 0.000126 | 160640/160716 | 12.9765 | 10.6686 |\n",
      "val: {'recall': 0.996644, 'recall_grapheme': 0.99485, 'recall_vowel': 0.998074, 'recall_consonant': 0.998803, 'recall_word': 0.994572, 'acc_grapheme': 0.994567, 'acc_vowel': 0.998056, 'acc_consonant': 0.998579, 'acc_word': 0.994492, 'loss_grapheme': 0.0525, 'loss_vowel': 0.037486, 'loss_consonant': 0.028697, 'loss_word': 0.038296}\n",
      "   62 | 0.000121 | 160640/160716 | 2.8698 | 10.4108 ||\n",
      "val: {'recall': 0.996899, 'recall_grapheme': 0.995435, 'recall_vowel': 0.998062, 'recall_consonant': 0.998664, 'recall_word': 0.995059, 'acc_grapheme': 0.995215, 'acc_vowel': 0.998206, 'acc_consonant': 0.998704, 'acc_word': 0.99504, 'loss_grapheme': 0.047938, 'loss_vowel': 0.034914, 'loss_consonant': 0.026279, 'loss_word': 0.037163}\n",
      "   63 | 0.000115 | 160640/160716 | 10.1942 | 10.6949 |\n",
      "val: {'recall': 0.996965, 'recall_grapheme': 0.995459, 'recall_vowel': 0.998584, 'recall_consonant': 0.998357, 'recall_word': 0.995136, 'acc_grapheme': 0.995265, 'acc_vowel': 0.998405, 'acc_consonant': 0.998629, 'acc_word': 0.99514, 'loss_grapheme': 0.050869, 'loss_vowel': 0.037673, 'loss_consonant': 0.027614, 'loss_word': 0.041093}\n",
      "###>>>>> saved ./model4-ckps/tf_efficientnet_b4/model4_eb4_fold3.pth\n",
      "   64 | 0.000109 | 160640/160716 | 13.3749 | 10.6469 |\n",
      "val: {'recall': 0.996637, 'recall_grapheme': 0.995041, 'recall_vowel': 0.998228, 'recall_consonant': 0.998238, 'recall_word': 0.994925, 'acc_grapheme': 0.994766, 'acc_vowel': 0.998106, 'acc_consonant': 0.998554, 'acc_word': 0.994891, 'loss_grapheme': 0.049073, 'loss_vowel': 0.034372, 'loss_consonant': 0.025445, 'loss_word': 0.036409}\n",
      "   65 | 0.000104 | 160640/160716 | 12.3486 | 10.5618 |\n",
      "val: {'recall': 0.996775, 'recall_grapheme': 0.99516, 'recall_vowel': 0.998386, 'recall_consonant': 0.998397, 'recall_word': 0.994905, 'acc_grapheme': 0.994891, 'acc_vowel': 0.998206, 'acc_consonant': 0.998704, 'acc_word': 0.994866, 'loss_grapheme': 0.041436, 'loss_vowel': 0.028296, 'loss_consonant': 0.022337, 'loss_word': 0.033667}\n",
      "   66 | 0.000098 | 160640/160716 | 9.6519 | 11.1274 ||\n",
      "val: {'recall': 0.996914, 'recall_grapheme': 0.995294, 'recall_vowel': 0.998246, 'recall_consonant': 0.998825, 'recall_word': 0.995037, 'acc_grapheme': 0.995339, 'acc_vowel': 0.998156, 'acc_consonant': 0.998629, 'acc_word': 0.99504, 'loss_grapheme': 0.041163, 'loss_vowel': 0.02882, 'loss_consonant': 0.021827, 'loss_word': 0.034416}\n",
      "   67 | 0.000093 | 160640/160716 | 10.9505 | 10.8124 |\n",
      "val: {'recall': 0.996693, 'recall_grapheme': 0.99489, 'recall_vowel': 0.998073, 'recall_consonant': 0.998918, 'recall_word': 0.99493, 'acc_grapheme': 0.994916, 'acc_vowel': 0.997882, 'acc_consonant': 0.998654, 'acc_word': 0.994941, 'loss_grapheme': 0.047348, 'loss_vowel': 0.033589, 'loss_consonant': 0.02492, 'loss_word': 0.037386}\n"
     ]
    },
    {
     "name": "stdout",
     "output_type": "stream",
     "text": [
      "   68 | 0.000088 | 160640/160716 | 13.4493 | 10.6172 |\n",
      "val: {'recall': 0.996919, 'recall_grapheme': 0.995114, 'recall_vowel': 0.998382, 'recall_consonant': 0.999065, 'recall_word': 0.995062, 'acc_grapheme': 0.99514, 'acc_vowel': 0.998305, 'acc_consonant': 0.998928, 'acc_word': 0.99509, 'loss_grapheme': 0.041503, 'loss_vowel': 0.028789, 'loss_consonant': 0.022239, 'loss_word': 0.036599}\n",
      "   69 | 0.000082 | 160640/160716 | 7.7863 | 10.8187 ||\n",
      "val: {'recall': 0.997012, 'recall_grapheme': 0.995462, 'recall_vowel': 0.998218, 'recall_consonant': 0.998904, 'recall_word': 0.995187, 'acc_grapheme': 0.99529, 'acc_vowel': 0.998106, 'acc_consonant': 0.998729, 'acc_word': 0.995215, 'loss_grapheme': 0.047976, 'loss_vowel': 0.034839, 'loss_consonant': 0.026269, 'loss_word': 0.037136}\n",
      "###>>>>> saved ./model4-ckps/tf_efficientnet_b4/model4_eb4_fold3.pth\n",
      "   70 | 0.000077 | 160640/160716 | 11.9787 | 10.4926 |\n",
      "val: {'recall': 0.996771, 'recall_grapheme': 0.995059, 'recall_vowel': 0.998135, 'recall_consonant': 0.998833, 'recall_word': 0.994954, 'acc_grapheme': 0.994941, 'acc_vowel': 0.998106, 'acc_consonant': 0.998505, 'acc_word': 0.994966, 'loss_grapheme': 0.073346, 'loss_vowel': 0.055583, 'loss_consonant': 0.039859, 'loss_word': 0.050893}\n",
      "   71 | 0.000073 | 160640/160716 | 13.2744 | 10.5016 |\n",
      "val: {'recall': 0.996474, 'recall_grapheme': 0.994844, 'recall_vowel': 0.997802, 'recall_consonant': 0.998407, 'recall_word': 0.994747, 'acc_grapheme': 0.994791, 'acc_vowel': 0.997807, 'acc_consonant': 0.998579, 'acc_word': 0.994691, 'loss_grapheme': 0.03849, 'loss_vowel': 0.025821, 'loss_consonant': 0.020225, 'loss_word': 0.031246}\n",
      "   72 | 0.000068 | 160640/160716 | 11.8914 | 10.7080 |\n",
      "val: {'recall': 0.996725, 'recall_grapheme': 0.995195, 'recall_vowel': 0.998046, 'recall_consonant': 0.998463, 'recall_word': 0.995026, 'acc_grapheme': 0.995065, 'acc_vowel': 0.997981, 'acc_consonant': 0.998654, 'acc_word': 0.995015, 'loss_grapheme': 0.045468, 'loss_vowel': 0.031599, 'loss_consonant': 0.023534, 'loss_word': 0.035849}\n",
      "   73 | 0.000063 | 160640/160716 | 13.8766 | 10.3514 |\n",
      "val: {'recall': 0.996731, 'recall_grapheme': 0.995005, 'recall_vowel': 0.998105, 'recall_consonant': 0.998809, 'recall_word': 0.99487, 'acc_grapheme': 0.994991, 'acc_vowel': 0.998006, 'acc_consonant': 0.998629, 'acc_word': 0.994866, 'loss_grapheme': 0.031331, 'loss_vowel': 0.018684, 'loss_consonant': 0.015717, 'loss_word': 0.028083}\n",
      "   74 | 0.000059 | 160640/160716 | 14.1989 | 10.6527 |\n",
      "val: {'recall': 0.996939, 'recall_grapheme': 0.995244, 'recall_vowel': 0.99834, 'recall_consonant': 0.998927, 'recall_word': 0.994744, 'acc_grapheme': 0.994941, 'acc_vowel': 0.998181, 'acc_consonant': 0.998679, 'acc_word': 0.994766, 'loss_grapheme': 0.042296, 'loss_vowel': 0.029363, 'loss_consonant': 0.021294, 'loss_word': 0.034718}\n",
      "   75 | 0.000054 | 160640/160716 | 13.7881 | 10.7337 |\n",
      "val: {'recall': 0.996861, 'recall_grapheme': 0.995281, 'recall_vowel': 0.997954, 'recall_consonant': 0.99893, 'recall_word': 0.994758, 'acc_grapheme': 0.99514, 'acc_vowel': 0.997981, 'acc_consonant': 0.998779, 'acc_word': 0.994791, 'loss_grapheme': 0.049301, 'loss_vowel': 0.035516, 'loss_consonant': 0.025061, 'loss_word': 0.039099}\n",
      "   76 | 0.000050 | 160640/160716 | 12.2139 | 10.4729 |\n",
      "val: {'recall': 0.996961, 'recall_grapheme': 0.995345, 'recall_vowel': 0.998144, 'recall_consonant': 0.999009, 'recall_word': 0.995004, 'acc_grapheme': 0.995265, 'acc_vowel': 0.998131, 'acc_consonant': 0.998829, 'acc_word': 0.99504, 'loss_grapheme': 0.044815, 'loss_vowel': 0.031301, 'loss_consonant': 0.023526, 'loss_word': 0.03555}\n",
      "   77 | 0.000046 | 160640/160716 | 5.1259 | 10.5602 ||\n",
      "val: {'recall': 0.996978, 'recall_grapheme': 0.995536, 'recall_vowel': 0.998208, 'recall_consonant': 0.998631, 'recall_word': 0.995268, 'acc_grapheme': 0.995514, 'acc_vowel': 0.998181, 'acc_consonant': 0.998903, 'acc_word': 0.995315, 'loss_grapheme': 0.053479, 'loss_vowel': 0.037466, 'loss_consonant': 0.026335, 'loss_word': 0.042469}\n",
      "   78 | 0.000042 | 160640/160716 | 12.9695 | 10.2928 |\n",
      "val: {'recall': 0.996737, 'recall_grapheme': 0.99516, 'recall_vowel': 0.99807, 'recall_consonant': 0.99856, 'recall_word': 0.994918, 'acc_grapheme': 0.995065, 'acc_vowel': 0.998106, 'acc_consonant': 0.998704, 'acc_word': 0.994941, 'loss_grapheme': 0.052984, 'loss_vowel': 0.039607, 'loss_consonant': 0.027801, 'loss_word': 0.040013}\n",
      "   79 | 0.000038 | 160640/160716 | 11.3036 | 10.8440 |\n",
      "val: {'recall': 0.99679, 'recall_grapheme': 0.994924, 'recall_vowel': 0.998242, 'recall_consonant': 0.99907, 'recall_word': 0.99495, 'acc_grapheme': 0.994941, 'acc_vowel': 0.998181, 'acc_consonant': 0.998878, 'acc_word': 0.994966, 'loss_grapheme': 0.048354, 'loss_vowel': 0.033567, 'loss_consonant': 0.024758, 'loss_word': 0.037503}\n",
      "   80 | 0.000035 | 160640/160716 | 11.9056 | 10.2474 |\n",
      "val: {'recall': 0.996939, 'recall_grapheme': 0.995254, 'recall_vowel': 0.998234, 'recall_consonant': 0.999013, 'recall_word': 0.994743, 'acc_grapheme': 0.994891, 'acc_vowel': 0.998006, 'acc_consonant': 0.998729, 'acc_word': 0.994766, 'loss_grapheme': 0.037502, 'loss_vowel': 0.023754, 'loss_consonant': 0.018718, 'loss_word': 0.030912}\n",
      "   81 | 0.000031 | 160640/160716 | 11.9245 | 10.4026 |\n",
      "val: {'recall': 0.996999, 'recall_grapheme': 0.9954, 'recall_vowel': 0.998232, 'recall_consonant': 0.998963, 'recall_word': 0.995115, 'acc_grapheme': 0.995065, 'acc_vowel': 0.998081, 'acc_consonant': 0.998754, 'acc_word': 0.995165, 'loss_grapheme': 0.03563, 'loss_vowel': 0.022953, 'loss_consonant': 0.017861, 'loss_word': 0.02968}\n",
      "   82 | 0.000028 | 160640/160716 | 14.4931 | 10.4469 |\n",
      "val: {'recall': 0.996759, 'recall_grapheme': 0.99495, 'recall_vowel': 0.998083, 'recall_consonant': 0.999053, 'recall_word': 0.994951, 'acc_grapheme': 0.994791, 'acc_vowel': 0.998056, 'acc_consonant': 0.998804, 'acc_word': 0.994991, 'loss_grapheme': 0.051632, 'loss_vowel': 0.037139, 'loss_consonant': 0.027887, 'loss_word': 0.03916}\n",
      "   83 | 0.000025 | 160640/160716 | 10.7086 | 10.5081 |\n",
      "val: {'recall': 0.996624, 'recall_grapheme': 0.994867, 'recall_vowel': 0.997999, 'recall_consonant': 0.998764, 'recall_word': 0.99475, 'acc_grapheme': 0.994741, 'acc_vowel': 0.998006, 'acc_consonant': 0.998505, 'acc_word': 0.994766, 'loss_grapheme': 0.059116, 'loss_vowel': 0.043369, 'loss_consonant': 0.030401, 'loss_word': 0.04156}\n",
      "   84 | 0.000022 | 160640/160716 | 2.6140 | 10.4847 ||\n",
      "val: {'recall': 0.996975, 'recall_grapheme': 0.995251, 'recall_vowel': 0.998344, 'recall_consonant': 0.999055, 'recall_word': 0.995064, 'acc_grapheme': 0.99514, 'acc_vowel': 0.998255, 'acc_consonant': 0.998804, 'acc_word': 0.995065, 'loss_grapheme': 0.047072, 'loss_vowel': 0.032973, 'loss_consonant': 0.023957, 'loss_word': 0.035815}\n",
      "   85 | 0.000019 | 160640/160716 | 12.7523 | 10.4655 |\n",
      "val: {'recall': 0.996821, 'recall_grapheme': 0.995038, 'recall_vowel': 0.998173, 'recall_consonant': 0.999034, 'recall_word': 0.994982, 'acc_grapheme': 0.994916, 'acc_vowel': 0.998106, 'acc_consonant': 0.998829, 'acc_word': 0.99504, 'loss_grapheme': 0.04335, 'loss_vowel': 0.029625, 'loss_consonant': 0.022647, 'loss_word': 0.035427}\n",
      "   86 | 0.000016 | 160640/160716 | 12.5985 | 10.6195 |\n",
      "val: {'recall': 0.996435, 'recall_grapheme': 0.994529, 'recall_vowel': 0.997859, 'recall_consonant': 0.998824, 'recall_word': 0.99458, 'acc_grapheme': 0.994343, 'acc_vowel': 0.997832, 'acc_consonant': 0.998505, 'acc_word': 0.994592, 'loss_grapheme': 0.051691, 'loss_vowel': 0.036053, 'loss_consonant': 0.026173, 'loss_word': 0.035574}\n",
      "   87 | 0.000014 | 160640/160716 | 6.4957 | 10.2700 ||\n",
      "val: {'recall': 0.996969, 'recall_grapheme': 0.995178, 'recall_vowel': 0.998339, 'recall_consonant': 0.999181, 'recall_word': 0.995268, 'acc_grapheme': 0.995165, 'acc_vowel': 0.99823, 'acc_consonant': 0.998903, 'acc_word': 0.995265, 'loss_grapheme': 0.056991, 'loss_vowel': 0.04359, 'loss_consonant': 0.03181, 'loss_word': 0.041744}\n",
      "   88 | 0.000012 | 160640/160716 | 10.0761 | 10.4642 |\n",
      "val: {'recall': 0.997205, 'recall_grapheme': 0.995662, 'recall_vowel': 0.998317, 'recall_consonant': 0.999179, 'recall_word': 0.99555, 'acc_grapheme': 0.995738, 'acc_vowel': 0.99828, 'acc_consonant': 0.998903, 'acc_word': 0.995564, 'loss_grapheme': 0.04862, 'loss_vowel': 0.035882, 'loss_consonant': 0.026187, 'loss_word': 0.039043}\n"
     ]
    },
    {
     "name": "stdout",
     "output_type": "stream",
     "text": [
      "###>>>>> saved ./model4-ckps/tf_efficientnet_b4/model4_eb4_fold3.pth\n",
      "   89 | 0.000010 | 160640/160716 | 3.2667 | 10.2499 ||\n",
      "val: {'recall': 0.997217, 'recall_grapheme': 0.99564, 'recall_vowel': 0.998441, 'recall_consonant': 0.999148, 'recall_word': 0.995321, 'acc_grapheme': 0.995564, 'acc_vowel': 0.998355, 'acc_consonant': 0.998878, 'acc_word': 0.995389, 'loss_grapheme': 0.04853, 'loss_vowel': 0.034073, 'loss_consonant': 0.024437, 'loss_word': 0.038605}\n",
      "###>>>>> saved ./model4-ckps/tf_efficientnet_b4/model4_eb4_fold3.pth\n",
      "   90 | 0.000008 | 160640/160716 | 11.0885 | 10.6549 |\n",
      "val: {'recall': 0.997075, 'recall_grapheme': 0.99542, 'recall_vowel': 0.998289, 'recall_consonant': 0.99917, 'recall_word': 0.995187, 'acc_grapheme': 0.995389, 'acc_vowel': 0.998206, 'acc_consonant': 0.998854, 'acc_word': 0.995215, 'loss_grapheme': 0.042103, 'loss_vowel': 0.029222, 'loss_consonant': 0.021474, 'loss_word': 0.033374}\n",
      "   91 | 0.000006 | 160640/160716 | 13.9228 | 10.7231 |\n",
      "val: {'recall': 0.996749, 'recall_grapheme': 0.994935, 'recall_vowel': 0.998183, 'recall_consonant': 0.998943, 'recall_word': 0.994899, 'acc_grapheme': 0.994816, 'acc_vowel': 0.998056, 'acc_consonant': 0.998679, 'acc_word': 0.994941, 'loss_grapheme': 0.040802, 'loss_vowel': 0.027139, 'loss_consonant': 0.020982, 'loss_word': 0.031137}\n",
      "   92 | 0.000005 | 160640/160716 | 12.4315 | 10.4402 |\n",
      "val: {'recall': 0.996737, 'recall_grapheme': 0.994946, 'recall_vowel': 0.998194, 'recall_consonant': 0.998861, 'recall_word': 0.994744, 'acc_grapheme': 0.994991, 'acc_vowel': 0.998131, 'acc_consonant': 0.998654, 'acc_word': 0.994816, 'loss_grapheme': 0.038261, 'loss_vowel': 0.025284, 'loss_consonant': 0.019796, 'loss_word': 0.03069}\n",
      "   93 | 0.000004 | 160640/160716 | 13.4114 | 10.7553 |\n",
      "val: {'recall': 0.996866, 'recall_grapheme': 0.995066, 'recall_vowel': 0.998283, 'recall_consonant': 0.999049, 'recall_word': 0.995027, 'acc_grapheme': 0.99504, 'acc_vowel': 0.998131, 'acc_consonant': 0.998679, 'acc_word': 0.99504, 'loss_grapheme': 0.059169, 'loss_vowel': 0.042912, 'loss_consonant': 0.031175, 'loss_word': 0.04122}\n",
      "   94 | 0.000002 | 160640/160716 | 4.1261 | 10.1873 ||\n",
      "val: {'recall': 0.99695, 'recall_grapheme': 0.995146, 'recall_vowel': 0.998407, 'recall_consonant': 0.9991, 'recall_word': 0.99523, 'acc_grapheme': 0.995265, 'acc_vowel': 0.99828, 'acc_consonant': 0.998903, 'acc_word': 0.995265, 'loss_grapheme': 0.038929, 'loss_vowel': 0.02637, 'loss_consonant': 0.019216, 'loss_word': 0.032098}\n",
      "   95 | 0.000002 | 160640/160716 | 7.6200 | 10.7386 ||\n",
      "val: {'recall': 0.996867, 'recall_grapheme': 0.995029, 'recall_vowel': 0.998277, 'recall_consonant': 0.999133, 'recall_word': 0.995113, 'acc_grapheme': 0.995015, 'acc_vowel': 0.99823, 'acc_consonant': 0.998928, 'acc_word': 0.995165, 'loss_grapheme': 0.047044, 'loss_vowel': 0.034084, 'loss_consonant': 0.025015, 'loss_word': 0.038384}\n",
      "   96 | 0.000001 | 160640/160716 | 11.9900 | 10.2779 |\n",
      "val: {'recall': 0.997195, 'recall_grapheme': 0.99561, 'recall_vowel': 0.998417, 'recall_consonant': 0.999142, 'recall_word': 0.995325, 'acc_grapheme': 0.995564, 'acc_vowel': 0.99833, 'acc_consonant': 0.998854, 'acc_word': 0.995364, 'loss_grapheme': 0.038843, 'loss_vowel': 0.026377, 'loss_consonant': 0.019316, 'loss_word': 0.032694}\n",
      "   97 | 0.000000 | 160640/160716 | 1.1218 | 10.2541 ||\n",
      "val: {'recall': 0.997103, 'recall_grapheme': 0.995407, 'recall_vowel': 0.998377, 'recall_consonant': 0.99922, 'recall_word': 0.99542, 'acc_grapheme': 0.995489, 'acc_vowel': 0.998305, 'acc_consonant': 0.998978, 'acc_word': 0.995464, 'loss_grapheme': 0.053742, 'loss_vowel': 0.038514, 'loss_consonant': 0.028256, 'loss_word': 0.042282}\n",
      "   98 | 0.000000 | 160640/160716 | 10.5873 | 10.4699 |\n",
      "val: {'recall': 0.996862, 'recall_grapheme': 0.995178, 'recall_vowel': 0.998116, 'recall_consonant': 0.998974, 'recall_word': 0.995025, 'acc_grapheme': 0.994916, 'acc_vowel': 0.998081, 'acc_consonant': 0.998679, 'acc_word': 0.99504, 'loss_grapheme': 0.041486, 'loss_vowel': 0.028316, 'loss_consonant': 0.021476, 'loss_word': 0.032472}\n",
      "   99 | 0.000000 | 160640/160716 | 11.6002 | 10.5415 |\n",
      "val: {'recall': 0.996517, 'recall_grapheme': 0.994682, 'recall_vowel': 0.997915, 'recall_consonant': 0.998789, 'recall_word': 0.994615, 'acc_grapheme': 0.994542, 'acc_vowel': 0.997956, 'acc_consonant': 0.998455, 'acc_word': 0.994617, 'loss_grapheme': 0.051728, 'loss_vowel': 0.037928, 'loss_consonant': 0.027747, 'loss_word': 0.0357}\n",
      "CYCLE: 3\n",
      "    0 | 0.000040 | 160640/160716 | 12.3894 | 10.7393 |\n",
      "val: {'recall': 0.996877, 'recall_grapheme': 0.995152, 'recall_vowel': 0.998197, 'recall_consonant': 0.999008, 'recall_word': 0.995128, 'acc_grapheme': 0.99509, 'acc_vowel': 0.998081, 'acc_consonant': 0.998829, 'acc_word': 0.99514, 'loss_grapheme': 0.038631, 'loss_vowel': 0.026273, 'loss_consonant': 0.020987, 'loss_word': 0.031557}\n",
      "    1 | 0.000080 | 160640/160716 | 12.1152 | 11.0604 |\n",
      "val: {'recall': 0.996904, 'recall_grapheme': 0.99525, 'recall_vowel': 0.998153, 'recall_consonant': 0.998963, 'recall_word': 0.995013, 'acc_grapheme': 0.995065, 'acc_vowel': 0.998006, 'acc_consonant': 0.998779, 'acc_word': 0.99504, 'loss_grapheme': 0.034136, 'loss_vowel': 0.021895, 'loss_consonant': 0.017863, 'loss_word': 0.029207}\n",
      "    2 | 0.000120 | 160640/160716 | 12.8749 | 10.8032 |\n",
      "val: {'recall': 0.996948, 'recall_grapheme': 0.995359, 'recall_vowel': 0.998149, 'recall_consonant': 0.998924, 'recall_word': 0.995126, 'acc_grapheme': 0.99524, 'acc_vowel': 0.998156, 'acc_consonant': 0.998729, 'acc_word': 0.995165, 'loss_grapheme': 0.042096, 'loss_vowel': 0.028803, 'loss_consonant': 0.02178, 'loss_word': 0.033408}\n",
      "    3 | 0.000159 | 160640/160716 | 7.1020 | 10.9182 ||\n",
      "val: {'recall': 0.996857, 'recall_grapheme': 0.995133, 'recall_vowel': 0.998237, 'recall_consonant': 0.998925, 'recall_word': 0.995077, 'acc_grapheme': 0.99509, 'acc_vowel': 0.99823, 'acc_consonant': 0.998729, 'acc_word': 0.99509, 'loss_grapheme': 0.05094, 'loss_vowel': 0.036785, 'loss_consonant': 0.027433, 'loss_word': 0.041608}\n",
      "    4 | 0.000199 | 160640/160716 | 12.7520 | 10.5259 |\n",
      "val: {'recall': 0.996703, 'recall_grapheme': 0.995055, 'recall_vowel': 0.998077, 'recall_consonant': 0.998626, 'recall_word': 0.99465, 'acc_grapheme': 0.994791, 'acc_vowel': 0.998106, 'acc_consonant': 0.998455, 'acc_word': 0.994617, 'loss_grapheme': 0.038221, 'loss_vowel': 0.023707, 'loss_consonant': 0.018739, 'loss_word': 0.03153}\n",
      "    5 | 0.000238 | 160640/160716 | 1.7557 | 10.6279 ||\n",
      "val: {'recall': 0.996753, 'recall_grapheme': 0.995203, 'recall_vowel': 0.998126, 'recall_consonant': 0.99848, 'recall_word': 0.994813, 'acc_grapheme': 0.995265, 'acc_vowel': 0.998106, 'acc_consonant': 0.998704, 'acc_word': 0.994791, 'loss_grapheme': 0.041898, 'loss_vowel': 0.027349, 'loss_consonant': 0.021529, 'loss_word': 0.036228}\n",
      "    6 | 0.000276 | 160640/160716 | 9.1887 | 11.0491 ||\n",
      "val: {'recall': 0.996076, 'recall_grapheme': 0.994338, 'recall_vowel': 0.998195, 'recall_consonant': 0.997433, 'recall_word': 0.994541, 'acc_grapheme': 0.994592, 'acc_vowel': 0.998056, 'acc_consonant': 0.998405, 'acc_word': 0.994542, 'loss_grapheme': 0.063614, 'loss_vowel': 0.046655, 'loss_consonant': 0.032205, 'loss_word': 0.048113}\n",
      "    7 | 0.000315 | 160640/160716 | 12.4498 | 10.9373 |\n",
      "val: {'recall': 0.996113, 'recall_grapheme': 0.994314, 'recall_vowel': 0.997561, 'recall_consonant': 0.998263, 'recall_word': 0.994229, 'acc_grapheme': 0.994193, 'acc_vowel': 0.997757, 'acc_consonant': 0.998206, 'acc_word': 0.994218, 'loss_grapheme': 0.047181, 'loss_vowel': 0.032937, 'loss_consonant': 0.026373, 'loss_word': 0.037238}\n",
      "    8 | 0.000353 | 160640/160716 | 14.6264 | 10.8823 |\n",
      "val: {'recall': 0.996474, 'recall_grapheme': 0.995201, 'recall_vowel': 0.997685, 'recall_consonant': 0.997809, 'recall_word': 0.994846, 'acc_grapheme': 0.994866, 'acc_vowel': 0.998006, 'acc_consonant': 0.998355, 'acc_word': 0.994891, 'loss_grapheme': 0.039955, 'loss_vowel': 0.02782, 'loss_consonant': 0.022672, 'loss_word': 0.034416}\n",
      "    9 | 0.000390 | 160640/160716 | 9.0312 | 11.2492 ||\n",
      "val: {'recall': 0.996323, 'recall_grapheme': 0.994287, 'recall_vowel': 0.997837, 'recall_consonant': 0.99888, 'recall_word': 0.994187, 'acc_grapheme': 0.994367, 'acc_vowel': 0.997832, 'acc_consonant': 0.998629, 'acc_word': 0.994218, 'loss_grapheme': 0.048276, 'loss_vowel': 0.031077, 'loss_consonant': 0.025359, 'loss_word': 0.038562}\n"
     ]
    },
    {
     "name": "stdout",
     "output_type": "stream",
     "text": [
      "   10 | 0.000388 | 160640/160716 | 0.9676 | 11.1211 ||\n",
      "val: {'recall': 0.996934, 'recall_grapheme': 0.995485, 'recall_vowel': 0.998156, 'recall_consonant': 0.998609, 'recall_word': 0.995019, 'acc_grapheme': 0.995165, 'acc_vowel': 0.997981, 'acc_consonant': 0.99848, 'acc_word': 0.995015, 'loss_grapheme': 0.054211, 'loss_vowel': 0.039601, 'loss_consonant': 0.028926, 'loss_word': 0.046019}\n",
      "   11 | 0.000386 | 160640/160716 | 14.7624 | 11.2504 |\n",
      "val: {'recall': 0.996274, 'recall_grapheme': 0.994298, 'recall_vowel': 0.99792, 'recall_consonant': 0.998579, 'recall_word': 0.994121, 'acc_grapheme': 0.994218, 'acc_vowel': 0.997732, 'acc_consonant': 0.998255, 'acc_word': 0.994193, 'loss_grapheme': 0.070826, 'loss_vowel': 0.053538, 'loss_consonant': 0.039012, 'loss_word': 0.050347}\n",
      "   12 | 0.000384 | 160640/160716 | 11.2385 | 10.8819 |\n",
      "val: {'recall': 0.996868, 'recall_grapheme': 0.995271, 'recall_vowel': 0.998247, 'recall_consonant': 0.998682, 'recall_word': 0.994827, 'acc_grapheme': 0.995265, 'acc_vowel': 0.997981, 'acc_consonant': 0.998604, 'acc_word': 0.994816, 'loss_grapheme': 0.043767, 'loss_vowel': 0.03001, 'loss_consonant': 0.022306, 'loss_word': 0.038915}\n",
      "   13 | 0.000381 | 160640/160716 | 8.7309 | 10.7530 ||\n",
      "val: {'recall': 0.996294, 'recall_grapheme': 0.99455, 'recall_vowel': 0.997907, 'recall_consonant': 0.998172, 'recall_word': 0.994494, 'acc_grapheme': 0.994916, 'acc_vowel': 0.997857, 'acc_consonant': 0.998505, 'acc_word': 0.994567, 'loss_grapheme': 0.050603, 'loss_vowel': 0.034956, 'loss_consonant': 0.026501, 'loss_word': 0.042406}\n",
      "   14 | 0.000378 | 160640/160716 | 11.1963 | 10.8402 |\n",
      "val: {'recall': 0.996435, 'recall_grapheme': 0.994603, 'recall_vowel': 0.997907, 'recall_consonant': 0.998626, 'recall_word': 0.994217, 'acc_grapheme': 0.994592, 'acc_vowel': 0.997931, 'acc_consonant': 0.99833, 'acc_word': 0.994268, 'loss_grapheme': 0.080545, 'loss_vowel': 0.058855, 'loss_consonant': 0.042375, 'loss_word': 0.060754}\n",
      "   15 | 0.000375 | 160640/160716 | 7.1814 | 10.6508 ||\n",
      "val: {'recall': 0.99689, 'recall_grapheme': 0.995215, 'recall_vowel': 0.998171, 'recall_consonant': 0.998958, 'recall_word': 0.994811, 'acc_grapheme': 0.99524, 'acc_vowel': 0.997956, 'acc_consonant': 0.998505, 'acc_word': 0.994891, 'loss_grapheme': 0.037129, 'loss_vowel': 0.024531, 'loss_consonant': 0.019401, 'loss_word': 0.033556}\n",
      "   16 | 0.000372 | 160640/160716 | 15.3793 | 11.1123 |\n",
      "val: {'recall': 0.99664, 'recall_grapheme': 0.995085, 'recall_vowel': 0.997914, 'recall_consonant': 0.998474, 'recall_word': 0.994716, 'acc_grapheme': 0.994642, 'acc_vowel': 0.997906, 'acc_consonant': 0.99823, 'acc_word': 0.994741, 'loss_grapheme': 0.041616, 'loss_vowel': 0.028828, 'loss_consonant': 0.023143, 'loss_word': 0.033951}\n",
      "   17 | 0.000369 | 160640/160716 | 8.1347 | 10.6291 ||\n",
      "val: {'recall': 0.996853, 'recall_grapheme': 0.995104, 'recall_vowel': 0.998477, 'recall_consonant': 0.998726, 'recall_word': 0.994684, 'acc_grapheme': 0.99509, 'acc_vowel': 0.998081, 'acc_consonant': 0.99853, 'acc_word': 0.994667, 'loss_grapheme': 0.057768, 'loss_vowel': 0.041147, 'loss_consonant': 0.030526, 'loss_word': 0.049512}\n",
      "   18 | 0.000365 | 160640/160716 | 14.6494 | 11.0565 |\n",
      "val: {'recall': 0.996201, 'recall_grapheme': 0.994227, 'recall_vowel': 0.99802, 'recall_consonant': 0.99833, 'recall_word': 0.994295, 'acc_grapheme': 0.994019, 'acc_vowel': 0.997757, 'acc_consonant': 0.998081, 'acc_word': 0.994243, 'loss_grapheme': 0.071061, 'loss_vowel': 0.051028, 'loss_consonant': 0.037945, 'loss_word': 0.046381}\n",
      "   19 | 0.000362 | 160640/160716 | 13.1570 | 10.6870 |\n",
      "val: {'recall': 0.99648, 'recall_grapheme': 0.994611, 'recall_vowel': 0.998091, 'recall_consonant': 0.998608, 'recall_word': 0.994529, 'acc_grapheme': 0.994667, 'acc_vowel': 0.997857, 'acc_consonant': 0.998206, 'acc_word': 0.994492, 'loss_grapheme': 0.05766, 'loss_vowel': 0.045572, 'loss_consonant': 0.03205, 'loss_word': 0.040147}\n",
      "   20 | 0.000358 | 160640/160716 | 12.9096 | 10.5370 |\n",
      "val: {'recall': 0.996783, 'recall_grapheme': 0.995229, 'recall_vowel': 0.998173, 'recall_consonant': 0.998501, 'recall_word': 0.99487, 'acc_grapheme': 0.994966, 'acc_vowel': 0.998181, 'acc_consonant': 0.998206, 'acc_word': 0.994841, 'loss_grapheme': 0.036384, 'loss_vowel': 0.02484, 'loss_consonant': 0.020939, 'loss_word': 0.032587}\n",
      "   21 | 0.000354 | 160640/160716 | 6.9500 | 11.0975 ||\n",
      "val: {'recall': 0.996693, 'recall_grapheme': 0.995082, 'recall_vowel': 0.997801, 'recall_consonant': 0.998808, 'recall_word': 0.994678, 'acc_grapheme': 0.995015, 'acc_vowel': 0.997857, 'acc_consonant': 0.998554, 'acc_word': 0.994691, 'loss_grapheme': 0.045655, 'loss_vowel': 0.034221, 'loss_consonant': 0.024025, 'loss_word': 0.03692}\n",
      "   22 | 0.000350 | 160640/160716 | 12.4242 | 11.4063 |\n",
      "val: {'recall': 0.996911, 'recall_grapheme': 0.995405, 'recall_vowel': 0.997976, 'recall_consonant': 0.998859, 'recall_word': 0.994944, 'acc_grapheme': 0.99509, 'acc_vowel': 0.997906, 'acc_consonant': 0.998654, 'acc_word': 0.994966, 'loss_grapheme': 0.038933, 'loss_vowel': 0.028392, 'loss_consonant': 0.019879, 'loss_word': 0.032425}\n",
      "   23 | 0.000346 | 160640/160716 | 14.1849 | 10.3644 |\n",
      "val: {'recall': 0.996813, 'recall_grapheme': 0.99522, 'recall_vowel': 0.997901, 'recall_consonant': 0.998913, 'recall_word': 0.994661, 'acc_grapheme': 0.99524, 'acc_vowel': 0.997956, 'acc_consonant': 0.99853, 'acc_word': 0.994741, 'loss_grapheme': 0.048428, 'loss_vowel': 0.032996, 'loss_consonant': 0.025699, 'loss_word': 0.038975}\n",
      "   24 | 0.000341 | 160640/160716 | 10.9436 | 10.8247 |\n",
      "val: {'recall': 0.996383, 'recall_grapheme': 0.995046, 'recall_vowel': 0.99838, 'recall_consonant': 0.997059, 'recall_word': 0.994856, 'acc_grapheme': 0.994791, 'acc_vowel': 0.998181, 'acc_consonant': 0.998604, 'acc_word': 0.994841, 'loss_grapheme': 0.042479, 'loss_vowel': 0.028522, 'loss_consonant': 0.022829, 'loss_word': 0.036297}\n",
      "   25 | 0.000337 | 160640/160716 | 11.0432 | 10.9983 |\n",
      "val: {'recall': 0.996724, 'recall_grapheme': 0.995, 'recall_vowel': 0.99805, 'recall_consonant': 0.998844, 'recall_word': 0.994716, 'acc_grapheme': 0.994916, 'acc_vowel': 0.997882, 'acc_consonant': 0.998455, 'acc_word': 0.994716, 'loss_grapheme': 0.060111, 'loss_vowel': 0.048494, 'loss_consonant': 0.033215, 'loss_word': 0.044116}\n",
      "   26 | 0.000332 | 160640/160716 | 11.0591 | 11.0445 |\n",
      "val: {'recall': 0.996515, 'recall_grapheme': 0.994667, 'recall_vowel': 0.998221, 'recall_consonant': 0.998505, 'recall_word': 0.994502, 'acc_grapheme': 0.994816, 'acc_vowel': 0.998006, 'acc_consonant': 0.998305, 'acc_word': 0.994517, 'loss_grapheme': 0.036968, 'loss_vowel': 0.023465, 'loss_consonant': 0.01969, 'loss_word': 0.029545}\n",
      "   27 | 0.000328 | 160640/160716 | 11.7349 | 10.8350 |\n",
      "val: {'recall': 0.996588, 'recall_grapheme': 0.994902, 'recall_vowel': 0.997901, 'recall_consonant': 0.998647, 'recall_word': 0.994816, 'acc_grapheme': 0.994966, 'acc_vowel': 0.998006, 'acc_consonant': 0.998305, 'acc_word': 0.994791, 'loss_grapheme': 0.05432, 'loss_vowel': 0.041898, 'loss_consonant': 0.029963, 'loss_word': 0.041857}\n",
      "   28 | 0.000323 | 160640/160716 | 14.1747 | 11.1657 |\n",
      "val: {'recall': 0.99669, 'recall_grapheme': 0.995011, 'recall_vowel': 0.998097, 'recall_consonant': 0.998641, 'recall_word': 0.995027, 'acc_grapheme': 0.99504, 'acc_vowel': 0.998081, 'acc_consonant': 0.998255, 'acc_word': 0.99504, 'loss_grapheme': 0.044893, 'loss_vowel': 0.03026, 'loss_consonant': 0.022417, 'loss_word': 0.034623}\n",
      "   29 | 0.000318 | 160640/160716 | 11.2739 | 11.0027 |\n",
      "val: {'recall': 0.996605, 'recall_grapheme': 0.994811, 'recall_vowel': 0.998304, 'recall_consonant': 0.998495, 'recall_word': 0.995152, 'acc_grapheme': 0.994766, 'acc_vowel': 0.998305, 'acc_consonant': 0.99833, 'acc_word': 0.99519, 'loss_grapheme': 0.049091, 'loss_vowel': 0.035914, 'loss_consonant': 0.028281, 'loss_word': 0.034897}\n",
      "   30 | 0.000315 | 080000/160716 | 9.1274 | 10.6347 ||\n",
      "val: {'recall': 0.996954, 'recall_grapheme': 0.995462, 'recall_vowel': 0.998017, 'recall_consonant': 0.998873, 'recall_word': 0.995409, 'acc_grapheme': 0.995713, 'acc_vowel': 0.998181, 'acc_consonant': 0.998604, 'acc_word': 0.995389, 'loss_grapheme': 0.047767, 'loss_vowel': 0.034481, 'loss_consonant': 0.027981, 'loss_word': 0.038879}\n",
      "   31 | 0.000307 | 160640/160716 | 10.7682 | 10.9563 |\n",
      "val: {'recall': 0.996702, 'recall_grapheme': 0.995068, 'recall_vowel': 0.997997, 'recall_consonant': 0.998672, 'recall_word': 0.994903, 'acc_grapheme': 0.994841, 'acc_vowel': 0.997981, 'acc_consonant': 0.998405, 'acc_word': 0.994891, 'loss_grapheme': 0.039742, 'loss_vowel': 0.025493, 'loss_consonant': 0.020281, 'loss_word': 0.030202}\n",
      "   32 | 0.000302 | 160640/160716 | 12.6070 | 10.5841 |\n",
      "val: {'recall': 0.996986, 'recall_grapheme': 0.995427, 'recall_vowel': 0.998095, 'recall_consonant': 0.998994, 'recall_word': 0.995345, 'acc_grapheme': 0.995439, 'acc_vowel': 0.99823, 'acc_consonant': 0.998579, 'acc_word': 0.995439, 'loss_grapheme': 0.065649, 'loss_vowel': 0.049307, 'loss_consonant': 0.034866, 'loss_word': 0.048294}\n",
      "   33 | 0.000296 | 160640/160716 | 13.9315 | 10.8451 |\n",
      "val: {'recall': 0.996458, 'recall_grapheme': 0.994512, 'recall_vowel': 0.998086, 'recall_consonant': 0.998719, 'recall_word': 0.994365, 'acc_grapheme': 0.994218, 'acc_vowel': 0.997981, 'acc_consonant': 0.998405, 'acc_word': 0.994417, 'loss_grapheme': 0.053377, 'loss_vowel': 0.038727, 'loss_consonant': 0.02892, 'loss_word': 0.035278}\n",
      "   34 | 0.000291 | 160640/160716 | 14.1531 | 11.2288 |\n",
      "val: {'recall': 0.996886, 'recall_grapheme': 0.995559, 'recall_vowel': 0.998075, 'recall_consonant': 0.998352, 'recall_word': 0.995283, 'acc_grapheme': 0.994991, 'acc_vowel': 0.998031, 'acc_consonant': 0.99833, 'acc_word': 0.99524, 'loss_grapheme': 0.056543, 'loss_vowel': 0.041704, 'loss_consonant': 0.02961, 'loss_word': 0.039695}\n",
      "   35 | 0.000285 | 160640/160716 | 8.8219 | 10.4559 ||\n",
      "val: {'recall': 0.996711, 'recall_grapheme': 0.995043, 'recall_vowel': 0.998045, 'recall_consonant': 0.998712, 'recall_word': 0.994838, 'acc_grapheme': 0.99504, 'acc_vowel': 0.997981, 'acc_consonant': 0.998455, 'acc_word': 0.994841, 'loss_grapheme': 0.04757, 'loss_vowel': 0.033542, 'loss_consonant': 0.024209, 'loss_word': 0.035283}\n",
      "   36 | 0.000279 | 160640/160716 | 15.4926 | 11.0312 |\n",
      "val: {'recall': 0.996811, 'recall_grapheme': 0.995415, 'recall_vowel': 0.997665, 'recall_consonant': 0.99875, 'recall_word': 0.995174, 'acc_grapheme': 0.995165, 'acc_vowel': 0.998081, 'acc_consonant': 0.99853, 'acc_word': 0.99514, 'loss_grapheme': 0.042321, 'loss_vowel': 0.031513, 'loss_consonant': 0.023199, 'loss_word': 0.03146}\n",
      "   37 | 0.000274 | 160640/160716 | 9.8436 | 10.7454 ||\n",
      "val: {'recall': 0.996437, 'recall_grapheme': 0.994731, 'recall_vowel': 0.997838, 'recall_consonant': 0.99845, 'recall_word': 0.994814, 'acc_grapheme': 0.994617, 'acc_vowel': 0.998056, 'acc_consonant': 0.998255, 'acc_word': 0.994791, 'loss_grapheme': 0.063697, 'loss_vowel': 0.046228, 'loss_consonant': 0.033281, 'loss_word': 0.039716}\n",
      "   38 | 0.000268 | 160640/160716 | 12.4065 | 10.9226 |\n",
      "val: {'recall': 0.997112, 'recall_grapheme': 0.995634, 'recall_vowel': 0.998218, 'recall_consonant': 0.998962, 'recall_word': 0.99558, 'acc_grapheme': 0.995738, 'acc_vowel': 0.998156, 'acc_consonant': 0.998754, 'acc_word': 0.995514, 'loss_grapheme': 0.041224, 'loss_vowel': 0.029483, 'loss_consonant': 0.021614, 'loss_word': 0.033503}\n",
      "   39 | 0.000262 | 160640/160716 | 4.4415 | 10.8140 ||\n",
      "val: {'recall': 0.997041, 'recall_grapheme': 0.995554, 'recall_vowel': 0.99825, 'recall_consonant': 0.998808, 'recall_word': 0.995362, 'acc_grapheme': 0.995489, 'acc_vowel': 0.998305, 'acc_consonant': 0.998579, 'acc_word': 0.99529, 'loss_grapheme': 0.041008, 'loss_vowel': 0.028877, 'loss_consonant': 0.020167, 'loss_word': 0.031444}\n",
      "   40 | 0.000256 | 160640/160716 | 10.2815 | 10.7181 |\n",
      "val: {'recall': 0.996981, 'recall_grapheme': 0.995553, 'recall_vowel': 0.998341, 'recall_consonant': 0.998479, 'recall_word': 0.994945, 'acc_grapheme': 0.995339, 'acc_vowel': 0.998106, 'acc_consonant': 0.99848, 'acc_word': 0.994916, 'loss_grapheme': 0.037692, 'loss_vowel': 0.025288, 'loss_consonant': 0.018926, 'loss_word': 0.028412}\n",
      "   41 | 0.000250 | 160640/160716 | 15.4750 | 10.2801 |\n",
      "val: {'recall': 0.996969, 'recall_grapheme': 0.99527, 'recall_vowel': 0.998422, 'recall_consonant': 0.998913, 'recall_word': 0.995025, 'acc_grapheme': 0.995115, 'acc_vowel': 0.998106, 'acc_consonant': 0.998554, 'acc_word': 0.994991, 'loss_grapheme': 0.041411, 'loss_vowel': 0.028176, 'loss_consonant': 0.021802, 'loss_word': 0.031589}\n",
      "   42 | 0.000244 | 160640/160716 | 15.1531 | 10.6912 |\n",
      "val: {'recall': 0.996767, 'recall_grapheme': 0.995002, 'recall_vowel': 0.998168, 'recall_consonant': 0.998896, 'recall_word': 0.995186, 'acc_grapheme': 0.995015, 'acc_vowel': 0.998131, 'acc_consonant': 0.998579, 'acc_word': 0.99509, 'loss_grapheme': 0.056899, 'loss_vowel': 0.042264, 'loss_consonant': 0.027693, 'loss_word': 0.041328}\n",
      "   43 | 0.000238 | 160640/160716 | 9.7431 | 10.6958 ||\n",
      "val: {'recall': 0.996879, 'recall_grapheme': 0.995287, 'recall_vowel': 0.998215, 'recall_consonant': 0.998727, 'recall_word': 0.994986, 'acc_grapheme': 0.99504, 'acc_vowel': 0.998056, 'acc_consonant': 0.99843, 'acc_word': 0.994991, 'loss_grapheme': 0.041912, 'loss_vowel': 0.028135, 'loss_consonant': 0.020468, 'loss_word': 0.032243}\n",
      "   44 | 0.000231 | 160640/160716 | 13.5342 | 11.0657 |\n",
      "val: {'recall': 0.996957, 'recall_grapheme': 0.995542, 'recall_vowel': 0.998212, 'recall_consonant': 0.998533, 'recall_word': 0.995395, 'acc_grapheme': 0.995688, 'acc_vowel': 0.99823, 'acc_consonant': 0.998829, 'acc_word': 0.995414, 'loss_grapheme': 0.033954, 'loss_vowel': 0.022975, 'loss_consonant': 0.017898, 'loss_word': 0.028468}\n",
      "   45 | 0.000225 | 160640/160716 | 11.4583 | 10.5234 |\n",
      "val: {'recall': 0.997126, 'recall_grapheme': 0.995669, 'recall_vowel': 0.998072, 'recall_consonant': 0.999096, 'recall_word': 0.995111, 'acc_grapheme': 0.995514, 'acc_vowel': 0.998181, 'acc_consonant': 0.998754, 'acc_word': 0.99509, 'loss_grapheme': 0.03826, 'loss_vowel': 0.02526, 'loss_consonant': 0.019696, 'loss_word': 0.031799}\n",
      "   46 | 0.000219 | 160640/160716 | 7.8481 | 10.6186 ||\n",
      "val: {'recall': 0.997175, 'recall_grapheme': 0.995654, 'recall_vowel': 0.998465, 'recall_consonant': 0.998925, 'recall_word': 0.99556, 'acc_grapheme': 0.995663, 'acc_vowel': 0.99828, 'acc_consonant': 0.998679, 'acc_word': 0.995564, 'loss_grapheme': 0.039602, 'loss_vowel': 0.026954, 'loss_consonant': 0.020533, 'loss_word': 0.030758}\n",
      "   47 | 0.000213 | 160640/160716 | 7.7279 | 10.5903 ||\n",
      "val: {'recall': 0.997027, 'recall_grapheme': 0.995618, 'recall_vowel': 0.998167, 'recall_consonant': 0.998703, 'recall_word': 0.995371, 'acc_grapheme': 0.995364, 'acc_vowel': 0.998206, 'acc_consonant': 0.998455, 'acc_word': 0.995364, 'loss_grapheme': 0.035898, 'loss_vowel': 0.023528, 'loss_consonant': 0.019247, 'loss_word': 0.028434}\n",
      "   48 | 0.000206 | 160640/160716 | 12.3633 | 10.4998 |\n",
      "val: {'recall': 0.997139, 'recall_grapheme': 0.995536, 'recall_vowel': 0.998477, 'recall_consonant': 0.999006, 'recall_word': 0.995488, 'acc_grapheme': 0.995713, 'acc_vowel': 0.998305, 'acc_consonant': 0.998704, 'acc_word': 0.995489, 'loss_grapheme': 0.032689, 'loss_vowel': 0.021705, 'loss_consonant': 0.017728, 'loss_word': 0.027008}\n",
      "   49 | 0.000200 | 160640/160716 | 11.8300 | 10.6575 |\n",
      "val: {'recall': 0.997081, 'recall_grapheme': 0.99565, 'recall_vowel': 0.998361, 'recall_consonant': 0.998664, 'recall_word': 0.995544, 'acc_grapheme': 0.995713, 'acc_vowel': 0.99823, 'acc_consonant': 0.998903, 'acc_word': 0.995564, 'loss_grapheme': 0.036028, 'loss_vowel': 0.024548, 'loss_consonant': 0.017946, 'loss_word': 0.029352}\n",
      "   50 | 0.000194 | 160640/160716 | 15.8009 | 10.9593 |\n",
      "val: {'recall': 0.997069, 'recall_grapheme': 0.995539, 'recall_vowel': 0.998266, 'recall_consonant': 0.998931, 'recall_word': 0.995471, 'acc_grapheme': 0.995713, 'acc_vowel': 0.99823, 'acc_consonant': 0.998729, 'acc_word': 0.995464, 'loss_grapheme': 0.034188, 'loss_vowel': 0.023376, 'loss_consonant': 0.01907, 'loss_word': 0.027962}\n",
      "   51 | 0.000187 | 160640/160716 | 9.4742 | 10.4682 ||\n",
      "val: {'recall': 0.997014, 'recall_grapheme': 0.995474, 'recall_vowel': 0.998292, 'recall_consonant': 0.998816, 'recall_word': 0.995194, 'acc_grapheme': 0.995339, 'acc_vowel': 0.998131, 'acc_consonant': 0.998579, 'acc_word': 0.99514, 'loss_grapheme': 0.043624, 'loss_vowel': 0.031543, 'loss_consonant': 0.02219, 'loss_word': 0.03116}\n"
     ]
    },
    {
     "name": "stdout",
     "output_type": "stream",
     "text": [
      "   52 | 0.000181 | 160640/160716 | 13.1303 | 10.5975 |\n",
      "val: {'recall': 0.99726, 'recall_grapheme': 0.995985, 'recall_vowel': 0.998387, 'recall_consonant': 0.998683, 'recall_word': 0.995658, 'acc_grapheme': 0.995788, 'acc_vowel': 0.99823, 'acc_consonant': 0.998704, 'acc_word': 0.995688, 'loss_grapheme': 0.036017, 'loss_vowel': 0.024975, 'loss_consonant': 0.019779, 'loss_word': 0.029314}\n",
      "###>>>>> saved ./model4-ckps/tf_efficientnet_b4/model4_eb4_fold3.pth\n",
      "   53 | 0.000175 | 160640/160716 | 1.7507 | 10.5695 ||\n",
      "val: {'recall': 0.997249, 'recall_grapheme': 0.995849, 'recall_vowel': 0.998636, 'recall_consonant': 0.998664, 'recall_word': 0.995473, 'acc_grapheme': 0.995614, 'acc_vowel': 0.998405, 'acc_consonant': 0.998629, 'acc_word': 0.995489, 'loss_grapheme': 0.044376, 'loss_vowel': 0.03024, 'loss_consonant': 0.022461, 'loss_word': 0.032081}\n",
      "   54 | 0.000169 | 160640/160716 | 3.6021 | 10.4090 ||\n",
      "val: {'recall': 0.997623, 'recall_grapheme': 0.996501, 'recall_vowel': 0.998383, 'recall_consonant': 0.999106, 'recall_word': 0.995959, 'acc_grapheme': 0.996212, 'acc_vowel': 0.99848, 'acc_consonant': 0.998928, 'acc_word': 0.996012, 'loss_grapheme': 0.047212, 'loss_vowel': 0.031869, 'loss_consonant': 0.02425, 'loss_word': 0.037016}\n",
      "###>>>>> saved ./model4-ckps/tf_efficientnet_b4/model4_eb4_fold3.pth\n",
      "   55 | 0.000163 | 160640/160716 | 11.9254 | 10.4425 |\n",
      "val: {'recall': 0.997008, 'recall_grapheme': 0.995614, 'recall_vowel': 0.998196, 'recall_consonant': 0.998607, 'recall_word': 0.995493, 'acc_grapheme': 0.99524, 'acc_vowel': 0.998305, 'acc_consonant': 0.99848, 'acc_word': 0.995489, 'loss_grapheme': 0.04489, 'loss_vowel': 0.031917, 'loss_consonant': 0.02389, 'loss_word': 0.032318}\n",
      "   56 | 0.000156 | 160640/160716 | 3.1884 | 10.4041 ||\n",
      "val: {'recall': 0.997207, 'recall_grapheme': 0.995769, 'recall_vowel': 0.998361, 'recall_consonant': 0.998928, 'recall_word': 0.9955, 'acc_grapheme': 0.995639, 'acc_vowel': 0.998255, 'acc_consonant': 0.998629, 'acc_word': 0.995564, 'loss_grapheme': 0.037266, 'loss_vowel': 0.025335, 'loss_consonant': 0.019589, 'loss_word': 0.027459}\n",
      "   57 | 0.000150 | 160640/160716 | 13.0123 | 10.6519 |\n",
      "val: {'recall': 0.997177, 'recall_grapheme': 0.995776, 'recall_vowel': 0.998311, 'recall_consonant': 0.998843, 'recall_word': 0.995506, 'acc_grapheme': 0.995489, 'acc_vowel': 0.99828, 'acc_consonant': 0.99848, 'acc_word': 0.995489, 'loss_grapheme': 0.042545, 'loss_vowel': 0.030508, 'loss_consonant': 0.023654, 'loss_word': 0.030966}\n",
      "   58 | 0.000144 | 160640/160716 | 7.3960 | 10.8577 ||\n",
      "val: {'recall': 0.997077, 'recall_grapheme': 0.995579, 'recall_vowel': 0.998348, 'recall_consonant': 0.998802, 'recall_word': 0.99555, 'acc_grapheme': 0.995439, 'acc_vowel': 0.998181, 'acc_consonant': 0.998629, 'acc_word': 0.995539, 'loss_grapheme': 0.032088, 'loss_vowel': 0.020009, 'loss_consonant': 0.014964, 'loss_word': 0.027171}\n",
      "   60 | 0.000132 | 160640/160716 | 9.6452 | 10.5755 ||\n",
      "val: {'recall': 0.997309, 'recall_grapheme': 0.995849, 'recall_vowel': 0.998481, 'recall_consonant': 0.999056, 'recall_word': 0.995793, 'acc_grapheme': 0.995888, 'acc_vowel': 0.998455, 'acc_consonant': 0.998829, 'acc_word': 0.995838, 'loss_grapheme': 0.03121, 'loss_vowel': 0.019855, 'loss_consonant': 0.015521, 'loss_word': 0.026593}\n",
      "   61 | 0.000126 | 160640/160716 | 13.7095 | 10.2411 |\n",
      "val: {'recall': 0.997071, 'recall_grapheme': 0.995541, 'recall_vowel': 0.998322, 'recall_consonant': 0.99888, 'recall_word': 0.995115, 'acc_grapheme': 0.99514, 'acc_vowel': 0.99823, 'acc_consonant': 0.998654, 'acc_word': 0.995165, 'loss_grapheme': 0.050341, 'loss_vowel': 0.037447, 'loss_consonant': 0.027184, 'loss_word': 0.036732}\n",
      "   62 | 0.000121 | 160640/160716 | 1.7510 | 10.1414 ||\n",
      "val: {'recall': 0.997192, 'recall_grapheme': 0.996061, 'recall_vowel': 0.998188, 'recall_consonant': 0.998456, 'recall_word': 0.995516, 'acc_grapheme': 0.995938, 'acc_vowel': 0.99838, 'acc_consonant': 0.998704, 'acc_word': 0.995514, 'loss_grapheme': 0.035192, 'loss_vowel': 0.023055, 'loss_consonant': 0.016054, 'loss_word': 0.02811}\n",
      "   63 | 0.000115 | 160640/160716 | 11.8758 | 10.1333 |\n",
      "val: {'recall': 0.997313, 'recall_grapheme': 0.996096, 'recall_vowel': 0.99809, 'recall_consonant': 0.998968, 'recall_word': 0.995767, 'acc_grapheme': 0.995987, 'acc_vowel': 0.998255, 'acc_consonant': 0.998804, 'acc_word': 0.995838, 'loss_grapheme': 0.030483, 'loss_vowel': 0.019624, 'loss_consonant': 0.014998, 'loss_word': 0.024266}\n",
      "   64 | 0.000109 | 160640/160716 | 11.2263 | 10.2140 |\n",
      "val: {'recall': 0.997351, 'recall_grapheme': 0.995943, 'recall_vowel': 0.998395, 'recall_consonant': 0.999124, 'recall_word': 0.995703, 'acc_grapheme': 0.995938, 'acc_vowel': 0.99843, 'acc_consonant': 0.998878, 'acc_word': 0.995738, 'loss_grapheme': 0.033161, 'loss_vowel': 0.021547, 'loss_consonant': 0.016913, 'loss_word': 0.028141}\n",
      "   65 | 0.000104 | 160640/160716 | 10.3451 | 10.6630 |\n",
      "val: {'recall': 0.997432, 'recall_grapheme': 0.996069, 'recall_vowel': 0.998465, 'recall_consonant': 0.999125, 'recall_word': 0.995781, 'acc_grapheme': 0.995913, 'acc_vowel': 0.998405, 'acc_consonant': 0.998903, 'acc_word': 0.995788, 'loss_grapheme': 0.033945, 'loss_vowel': 0.023003, 'loss_consonant': 0.017116, 'loss_word': 0.02797}\n",
      "   66 | 0.000098 | 160640/160716 | 6.5313 | 10.2459 ||\n",
      "val: {'recall': 0.997567, 'recall_grapheme': 0.9964, 'recall_vowel': 0.998357, 'recall_consonant': 0.999113, 'recall_word': 0.995924, 'acc_grapheme': 0.996187, 'acc_vowel': 0.99838, 'acc_consonant': 0.998953, 'acc_word': 0.995938, 'loss_grapheme': 0.057363, 'loss_vowel': 0.04155, 'loss_consonant': 0.028748, 'loss_word': 0.04765}\n",
      "   67 | 0.000093 | 160640/160716 | 11.5470 | 10.8526 |\n",
      "val: {'recall': 0.99688, 'recall_grapheme': 0.995242, 'recall_vowel': 0.998007, 'recall_consonant': 0.999028, 'recall_word': 0.995474, 'acc_grapheme': 0.995165, 'acc_vowel': 0.998131, 'acc_consonant': 0.998704, 'acc_word': 0.995489, 'loss_grapheme': 0.04459, 'loss_vowel': 0.031491, 'loss_consonant': 0.024866, 'loss_word': 0.03015}\n",
      "   68 | 0.000088 | 160640/160716 | 11.3091 | 10.5846 |\n",
      "val: {'recall': 0.997213, 'recall_grapheme': 0.995782, 'recall_vowel': 0.998226, 'recall_consonant': 0.99906, 'recall_word': 0.995481, 'acc_grapheme': 0.995639, 'acc_vowel': 0.998305, 'acc_consonant': 0.998729, 'acc_word': 0.995539, 'loss_grapheme': 0.033488, 'loss_vowel': 0.021103, 'loss_consonant': 0.014866, 'loss_word': 0.026}\n",
      "   69 | 0.000082 | 160640/160716 | 12.1878 | 10.7177 |\n",
      "val: {'recall': 0.997282, 'recall_grapheme': 0.995955, 'recall_vowel': 0.998209, 'recall_consonant': 0.99901, 'recall_word': 0.995746, 'acc_grapheme': 0.995838, 'acc_vowel': 0.998255, 'acc_consonant': 0.998729, 'acc_word': 0.995813, 'loss_grapheme': 0.033778, 'loss_vowel': 0.02292, 'loss_consonant': 0.017305, 'loss_word': 0.026465}\n",
      "   70 | 0.000077 | 160640/160716 | 14.3179 | 10.5935 |\n",
      "val: {'recall': 0.997182, 'recall_grapheme': 0.995781, 'recall_vowel': 0.998244, 'recall_consonant': 0.998922, 'recall_word': 0.995468, 'acc_grapheme': 0.995564, 'acc_vowel': 0.99823, 'acc_consonant': 0.998579, 'acc_word': 0.995439, 'loss_grapheme': 0.033591, 'loss_vowel': 0.021227, 'loss_consonant': 0.015663, 'loss_word': 0.026814}\n",
      "   71 | 0.000073 | 160640/160716 | 2.9201 | 10.1638 ||\n",
      "val: {'recall': 0.997463, 'recall_grapheme': 0.996274, 'recall_vowel': 0.998545, 'recall_consonant': 0.99876, 'recall_word': 0.996107, 'acc_grapheme': 0.996287, 'acc_vowel': 0.998505, 'acc_consonant': 0.999003, 'acc_word': 0.996162, 'loss_grapheme': 0.036533, 'loss_vowel': 0.02491, 'loss_consonant': 0.017769, 'loss_word': 0.031317}\n",
      "   72 | 0.000068 | 160640/160716 | 11.8675 | 10.2672 |\n",
      "val: {'recall': 0.99724, 'recall_grapheme': 0.995794, 'recall_vowel': 0.998274, 'recall_consonant': 0.999096, 'recall_word': 0.995832, 'acc_grapheme': 0.995663, 'acc_vowel': 0.998305, 'acc_consonant': 0.998878, 'acc_word': 0.995813, 'loss_grapheme': 0.033035, 'loss_vowel': 0.021781, 'loss_consonant': 0.017026, 'loss_word': 0.025174}\n",
      "   73 | 0.000063 | 160640/160716 | 13.8878 | 10.6601 |\n",
      "val: {'recall': 0.997339, 'recall_grapheme': 0.995952, 'recall_vowel': 0.998386, 'recall_consonant': 0.999066, 'recall_word': 0.995773, 'acc_grapheme': 0.995713, 'acc_vowel': 0.99833, 'acc_consonant': 0.998854, 'acc_word': 0.995788, 'loss_grapheme': 0.035741, 'loss_vowel': 0.023798, 'loss_consonant': 0.017378, 'loss_word': 0.027989}\n"
     ]
    },
    {
     "name": "stdout",
     "output_type": "stream",
     "text": [
      "   74 | 0.000059 | 160640/160716 | 13.0889 | 10.3437 |\n",
      "val: {'recall': 0.997026, 'recall_grapheme': 0.995506, 'recall_vowel': 0.998171, 'recall_consonant': 0.998919, 'recall_word': 0.995206, 'acc_grapheme': 0.99519, 'acc_vowel': 0.998156, 'acc_consonant': 0.998554, 'acc_word': 0.99524, 'loss_grapheme': 0.04657, 'loss_vowel': 0.032226, 'loss_consonant': 0.022714, 'loss_word': 0.030321}\n",
      "   75 | 0.000054 | 160640/160716 | 10.4996 | 10.1636 |\n",
      "val: {'recall': 0.997516, 'recall_grapheme': 0.996264, 'recall_vowel': 0.998418, 'recall_consonant': 0.999119, 'recall_word': 0.995943, 'acc_grapheme': 0.996237, 'acc_vowel': 0.99833, 'acc_consonant': 0.998878, 'acc_word': 0.995987, 'loss_grapheme': 0.028782, 'loss_vowel': 0.017658, 'loss_consonant': 0.013478, 'loss_word': 0.025172}\n",
      "   76 | 0.000050 | 160640/160716 | 13.7797 | 9.9986 ||\n",
      "val: {'recall': 0.997508, 'recall_grapheme': 0.996182, 'recall_vowel': 0.998495, 'recall_consonant': 0.999172, 'recall_word': 0.996009, 'acc_grapheme': 0.996037, 'acc_vowel': 0.99848, 'acc_consonant': 0.998878, 'acc_word': 0.996037, 'loss_grapheme': 0.032851, 'loss_vowel': 0.021693, 'loss_consonant': 0.016647, 'loss_word': 0.026918}\n",
      "   77 | 0.000046 | 160640/160716 | 13.5858 | 10.2686 |\n",
      "val: {'recall': 0.997193, 'recall_grapheme': 0.995842, 'recall_vowel': 0.998078, 'recall_consonant': 0.999009, 'recall_word': 0.995341, 'acc_grapheme': 0.995564, 'acc_vowel': 0.998056, 'acc_consonant': 0.998604, 'acc_word': 0.995339, 'loss_grapheme': 0.060365, 'loss_vowel': 0.04464, 'loss_consonant': 0.03067, 'loss_word': 0.040334}\n",
      "   78 | 0.000042 | 160640/160716 | 4.0217 | 10.3599 ||\n",
      "val: {'recall': 0.997291, 'recall_grapheme': 0.995869, 'recall_vowel': 0.998383, 'recall_consonant': 0.999043, 'recall_word': 0.995773, 'acc_grapheme': 0.995663, 'acc_vowel': 0.99833, 'acc_consonant': 0.998779, 'acc_word': 0.995788, 'loss_grapheme': 0.045135, 'loss_vowel': 0.03049, 'loss_consonant': 0.021501, 'loss_word': 0.032403}\n",
      "   79 | 0.000038 | 160640/160716 | 3.5828 | 10.2836 ||\n",
      "val: {'recall': 0.997618, 'recall_grapheme': 0.996428, 'recall_vowel': 0.998488, 'recall_consonant': 0.99913, 'recall_word': 0.996189, 'acc_grapheme': 0.996311, 'acc_vowel': 0.99843, 'acc_consonant': 0.998928, 'acc_word': 0.996262, 'loss_grapheme': 0.03013, 'loss_vowel': 0.019453, 'loss_consonant': 0.014633, 'loss_word': 0.024722}\n",
      "   80 | 0.000035 | 160640/160716 | 13.8853 | 10.2770 |\n",
      "val: {'recall': 0.997253, 'recall_grapheme': 0.995906, 'recall_vowel': 0.998191, 'recall_consonant': 0.999008, 'recall_word': 0.995795, 'acc_grapheme': 0.995788, 'acc_vowel': 0.99828, 'acc_consonant': 0.998854, 'acc_word': 0.995838, 'loss_grapheme': 0.029509, 'loss_vowel': 0.017704, 'loss_consonant': 0.013785, 'loss_word': 0.024454}\n",
      "   81 | 0.000031 | 160640/160716 | 10.2925 | 10.3918 |\n",
      "val: {'recall': 0.997549, 'recall_grapheme': 0.996297, 'recall_vowel': 0.998418, 'recall_consonant': 0.999186, 'recall_word': 0.995959, 'acc_grapheme': 0.996187, 'acc_vowel': 0.99838, 'acc_consonant': 0.998928, 'acc_word': 0.996037, 'loss_grapheme': 0.03663, 'loss_vowel': 0.026007, 'loss_consonant': 0.019925, 'loss_word': 0.029904}\n",
      "   82 | 0.000028 | 160640/160716 | 12.2431 | 10.3903 |\n",
      "val: {'recall': 0.997271, 'recall_grapheme': 0.995818, 'recall_vowel': 0.998387, 'recall_consonant': 0.999063, 'recall_word': 0.995722, 'acc_grapheme': 0.995763, 'acc_vowel': 0.998255, 'acc_consonant': 0.998854, 'acc_word': 0.995763, 'loss_grapheme': 0.032361, 'loss_vowel': 0.021024, 'loss_consonant': 0.015332, 'loss_word': 0.025899}\n",
      "   83 | 0.000025 | 160640/160716 | 11.3045 | 10.0697 |\n",
      "val: {'recall': 0.997263, 'recall_grapheme': 0.995836, 'recall_vowel': 0.998461, 'recall_consonant': 0.99892, 'recall_word': 0.995563, 'acc_grapheme': 0.995663, 'acc_vowel': 0.99833, 'acc_consonant': 0.998679, 'acc_word': 0.995589, 'loss_grapheme': 0.032214, 'loss_vowel': 0.020501, 'loss_consonant': 0.015038, 'loss_word': 0.025065}\n",
      "   84 | 0.000022 | 160640/160716 | 8.7616 | 10.5390 ||\n",
      "val: {'recall': 0.997431, 'recall_grapheme': 0.996049, 'recall_vowel': 0.998502, 'recall_consonant': 0.999125, 'recall_word': 0.995892, 'acc_grapheme': 0.995987, 'acc_vowel': 0.99843, 'acc_consonant': 0.998903, 'acc_word': 0.995938, 'loss_grapheme': 0.032767, 'loss_vowel': 0.021555, 'loss_consonant': 0.016531, 'loss_word': 0.027112}\n",
      "   85 | 0.000019 | 160640/160716 | 12.2741 | 10.5344 |\n",
      "val: {'recall': 0.997298, 'recall_grapheme': 0.995812, 'recall_vowel': 0.998476, 'recall_consonant': 0.999091, 'recall_word': 0.995772, 'acc_grapheme': 0.995738, 'acc_vowel': 0.99838, 'acc_consonant': 0.998878, 'acc_word': 0.995813, 'loss_grapheme': 0.026546, 'loss_vowel': 0.014696, 'loss_consonant': 0.011048, 'loss_word': 0.022575}\n",
      "   86 | 0.000016 | 160640/160716 | 14.7381 | 10.3421 |\n",
      "val: {'recall': 0.997114, 'recall_grapheme': 0.995537, 'recall_vowel': 0.998322, 'recall_consonant': 0.999061, 'recall_word': 0.995637, 'acc_grapheme': 0.99529, 'acc_vowel': 0.99828, 'acc_consonant': 0.998854, 'acc_word': 0.995639, 'loss_grapheme': 0.063037, 'loss_vowel': 0.046397, 'loss_consonant': 0.032951, 'loss_word': 0.041624}\n",
      "   87 | 0.000014 | 160640/160716 | 9.2718 | 9.9605 |||\n",
      "val: {'recall': 0.997458, 'recall_grapheme': 0.996051, 'recall_vowel': 0.998639, 'recall_consonant': 0.999091, 'recall_word': 0.995811, 'acc_grapheme': 0.995913, 'acc_vowel': 0.998505, 'acc_consonant': 0.998854, 'acc_word': 0.995838, 'loss_grapheme': 0.027015, 'loss_vowel': 0.015718, 'loss_consonant': 0.012046, 'loss_word': 0.022453}\n",
      "   88 | 0.000012 | 160640/160716 | 14.0683 | 10.4242 |\n",
      "val: {'recall': 0.997318, 'recall_grapheme': 0.995816, 'recall_vowel': 0.99857, 'recall_consonant': 0.999069, 'recall_word': 0.995673, 'acc_grapheme': 0.995614, 'acc_vowel': 0.998405, 'acc_consonant': 0.998878, 'acc_word': 0.995738, 'loss_grapheme': 0.028861, 'loss_vowel': 0.017453, 'loss_consonant': 0.013343, 'loss_word': 0.023711}\n",
      "   89 | 0.000010 | 160640/160716 | 13.9428 | 9.8104 ||\n",
      "val: {'recall': 0.99761, 'recall_grapheme': 0.996322, 'recall_vowel': 0.998624, 'recall_consonant': 0.999173, 'recall_word': 0.996018, 'acc_grapheme': 0.996187, 'acc_vowel': 0.99848, 'acc_consonant': 0.999003, 'acc_word': 0.996062, 'loss_grapheme': 0.033297, 'loss_vowel': 0.022047, 'loss_consonant': 0.016913, 'loss_word': 0.02681}\n",
      "   90 | 0.000008 | 160640/160716 | 10.4275 | 10.2165 |\n",
      "val: {'recall': 0.997467, 'recall_grapheme': 0.996074, 'recall_vowel': 0.998503, 'recall_consonant': 0.999216, 'recall_word': 0.99595, 'acc_grapheme': 0.995913, 'acc_vowel': 0.99843, 'acc_consonant': 0.998928, 'acc_word': 0.995987, 'loss_grapheme': 0.037038, 'loss_vowel': 0.025549, 'loss_consonant': 0.018833, 'loss_word': 0.029275}\n",
      "   91 | 0.000006 | 160640/160716 | 9.6900 | 10.2273 ||\n",
      "val: {'recall': 0.997535, 'recall_grapheme': 0.99624, 'recall_vowel': 0.998591, 'recall_consonant': 0.999069, 'recall_word': 0.996057, 'acc_grapheme': 0.996087, 'acc_vowel': 0.998455, 'acc_consonant': 0.998878, 'acc_word': 0.996087, 'loss_grapheme': 0.030872, 'loss_vowel': 0.019594, 'loss_consonant': 0.014329, 'loss_word': 0.024015}\n",
      "   92 | 0.000005 | 160640/160716 | 6.5418 | 10.0931 ||\n",
      "val: {'recall': 0.997507, 'recall_grapheme': 0.99619, 'recall_vowel': 0.998518, 'recall_consonant': 0.99913, 'recall_word': 0.995976, 'acc_grapheme': 0.996112, 'acc_vowel': 0.99843, 'acc_consonant': 0.998928, 'acc_word': 0.995987, 'loss_grapheme': 0.034393, 'loss_vowel': 0.023465, 'loss_consonant': 0.016715, 'loss_word': 0.027584}\n",
      "   93 | 0.000004 | 160640/160716 | 8.8710 | 10.1591 ||\n",
      "val: {'recall': 0.997507, 'recall_grapheme': 0.996143, 'recall_vowel': 0.998589, 'recall_consonant': 0.999152, 'recall_word': 0.995928, 'acc_grapheme': 0.996137, 'acc_vowel': 0.99848, 'acc_consonant': 0.998903, 'acc_word': 0.995987, 'loss_grapheme': 0.024918, 'loss_vowel': 0.014003, 'loss_consonant': 0.010315, 'loss_word': 0.021594}\n",
      "   94 | 0.000002 | 160640/160716 | 4.9615 | 10.0549 ||\n",
      "val: {'recall': 0.997587, 'recall_grapheme': 0.996303, 'recall_vowel': 0.998503, 'recall_consonant': 0.999239, 'recall_word': 0.996049, 'acc_grapheme': 0.996262, 'acc_vowel': 0.99848, 'acc_consonant': 0.999053, 'acc_word': 0.996112, 'loss_grapheme': 0.038808, 'loss_vowel': 0.026187, 'loss_consonant': 0.019108, 'loss_word': 0.031326}\n",
      "   95 | 0.000002 | 160640/160716 | 7.5504 | 10.1291 ||\n",
      "val: {'recall': 0.997444, 'recall_grapheme': 0.99607, 'recall_vowel': 0.998467, 'recall_consonant': 0.999168, 'recall_word': 0.995953, 'acc_grapheme': 0.996112, 'acc_vowel': 0.998455, 'acc_consonant': 0.998978, 'acc_word': 0.996012, 'loss_grapheme': 0.039266, 'loss_vowel': 0.026723, 'loss_consonant': 0.018903, 'loss_word': 0.030847}\n",
      "   96 | 0.000001 | 160640/160716 | 12.6043 | 10.1696 |\n",
      "val: {'recall': 0.997199, 'recall_grapheme': 0.995764, 'recall_vowel': 0.998326, 'recall_consonant': 0.998941, 'recall_word': 0.995685, 'acc_grapheme': 0.995738, 'acc_vowel': 0.99838, 'acc_consonant': 0.998779, 'acc_word': 0.995713, 'loss_grapheme': 0.025992, 'loss_vowel': 0.01417, 'loss_consonant': 0.011574, 'loss_word': 0.022095}\n",
      "   97 | 0.000000 | 160640/160716 | 11.5201 | 10.5248 |\n",
      "val: {'recall': 0.997347, 'recall_grapheme': 0.995922, 'recall_vowel': 0.998439, 'recall_consonant': 0.999106, 'recall_word': 0.995802, 'acc_grapheme': 0.995813, 'acc_vowel': 0.99833, 'acc_consonant': 0.998953, 'acc_word': 0.995838, 'loss_grapheme': 0.031859, 'loss_vowel': 0.020006, 'loss_consonant': 0.015096, 'loss_word': 0.026708}\n",
      "   98 | 0.000000 | 160640/160716 | 9.9099 | 10.1422 ||\n",
      "val: {'recall': 0.997517, 'recall_grapheme': 0.996147, 'recall_vowel': 0.998671, 'recall_consonant': 0.999103, 'recall_word': 0.995967, 'acc_grapheme': 0.996087, 'acc_vowel': 0.998554, 'acc_consonant': 0.998928, 'acc_word': 0.996012, 'loss_grapheme': 0.032692, 'loss_vowel': 0.0209, 'loss_consonant': 0.014976, 'loss_word': 0.026383}\n",
      "   99 | 0.000000 | 160640/160716 | 12.9992 | 10.2989 |\n",
      "val: {'recall': 0.997473, 'recall_grapheme': 0.99612, 'recall_vowel': 0.998589, 'recall_consonant': 0.999063, 'recall_word': 0.995936, 'acc_grapheme': 0.996062, 'acc_vowel': 0.998455, 'acc_consonant': 0.998854, 'acc_word': 0.995963, 'loss_grapheme': 0.034111, 'loss_vowel': 0.023429, 'loss_consonant': 0.017279, 'loss_word': 0.026614}\n",
      "CYCLE: 4\n",
      "    0 | 0.000040 | 160640/160716 | 11.1190 | 10.5566 |\n",
      "val: {'recall': 0.997403, 'recall_grapheme': 0.995981, 'recall_vowel': 0.998601, 'recall_consonant': 0.99905, 'recall_word': 0.995895, 'acc_grapheme': 0.995913, 'acc_vowel': 0.99848, 'acc_consonant': 0.998903, 'acc_word': 0.995938, 'loss_grapheme': 0.025629, 'loss_vowel': 0.014624, 'loss_consonant': 0.011186, 'loss_word': 0.021995}\n",
      "    1 | 0.000080 | 160640/160716 | 10.1900 | 10.5817 |\n",
      "val: {'recall': 0.99728, 'recall_grapheme': 0.995853, 'recall_vowel': 0.998455, 'recall_consonant': 0.99896, 'recall_word': 0.995542, 'acc_grapheme': 0.995738, 'acc_vowel': 0.99833, 'acc_consonant': 0.998754, 'acc_word': 0.995564, 'loss_grapheme': 0.035586, 'loss_vowel': 0.023392, 'loss_consonant': 0.016821, 'loss_word': 0.027582}\n",
      "    2 | 0.000120 | 160640/160716 | 11.4230 | 10.6325 |\n",
      "val: {'recall': 0.997191, 'recall_grapheme': 0.995718, 'recall_vowel': 0.998314, 'recall_consonant': 0.999017, 'recall_word': 0.995698, 'acc_grapheme': 0.995838, 'acc_vowel': 0.99828, 'acc_consonant': 0.998654, 'acc_word': 0.995738, 'loss_grapheme': 0.032073, 'loss_vowel': 0.020552, 'loss_consonant': 0.01562, 'loss_word': 0.025713}\n",
      "    3 | 0.000159 | 160640/160716 | 7.5955 | 10.1717 ||\n",
      "val: {'recall': 0.99721, 'recall_grapheme': 0.995863, 'recall_vowel': 0.998207, 'recall_consonant': 0.998906, 'recall_word': 0.99556, 'acc_grapheme': 0.995688, 'acc_vowel': 0.99828, 'acc_consonant': 0.998604, 'acc_word': 0.995589, 'loss_grapheme': 0.0528, 'loss_vowel': 0.037866, 'loss_consonant': 0.026126, 'loss_word': 0.036035}\n",
      "    4 | 0.000199 | 160640/160716 | 9.2945 | 10.3075 ||\n",
      "val: {'recall': 0.996981, 'recall_grapheme': 0.995868, 'recall_vowel': 0.998546, 'recall_consonant': 0.997641, 'recall_word': 0.995452, 'acc_grapheme': 0.995688, 'acc_vowel': 0.99833, 'acc_consonant': 0.998654, 'acc_word': 0.995539, 'loss_grapheme': 0.03399, 'loss_vowel': 0.020664, 'loss_consonant': 0.016068, 'loss_word': 0.026592}\n",
      "    5 | 0.000238 | 160640/160716 | 10.7828 | 10.4220 |\n",
      "val: {'recall': 0.997316, 'recall_grapheme': 0.996052, 'recall_vowel': 0.9986, 'recall_consonant': 0.998559, 'recall_word': 0.995632, 'acc_grapheme': 0.995863, 'acc_vowel': 0.99843, 'acc_consonant': 0.998829, 'acc_word': 0.995639, 'loss_grapheme': 0.029821, 'loss_vowel': 0.017096, 'loss_consonant': 0.014445, 'loss_word': 0.025221}\n",
      "    6 | 0.000276 | 160640/160716 | 14.4935 | 10.7586 |\n",
      "val: {'recall': 0.997375, 'recall_grapheme': 0.996, 'recall_vowel': 0.99856, 'recall_consonant': 0.998941, 'recall_word': 0.995952, 'acc_grapheme': 0.995863, 'acc_vowel': 0.998455, 'acc_consonant': 0.998779, 'acc_word': 0.995913, 'loss_grapheme': 0.046813, 'loss_vowel': 0.030855, 'loss_consonant': 0.023463, 'loss_word': 0.036716}\n",
      "    7 | 0.000315 | 160640/160716 | 13.7247 | 10.7111 |\n",
      "val: {'recall': 0.997165, 'recall_grapheme': 0.995767, 'recall_vowel': 0.998258, 'recall_consonant': 0.998869, 'recall_word': 0.995612, 'acc_grapheme': 0.995639, 'acc_vowel': 0.998181, 'acc_consonant': 0.998604, 'acc_word': 0.995564, 'loss_grapheme': 0.044241, 'loss_vowel': 0.030101, 'loss_consonant': 0.023254, 'loss_word': 0.032317}\n",
      "    8 | 0.000353 | 160640/160716 | 12.1749 | 10.9231 |\n",
      "val: {'recall': 0.996864, 'recall_grapheme': 0.995423, 'recall_vowel': 0.99815, 'recall_consonant': 0.998457, 'recall_word': 0.995821, 'acc_grapheme': 0.995514, 'acc_vowel': 0.998206, 'acc_consonant': 0.998729, 'acc_word': 0.995788, 'loss_grapheme': 0.034242, 'loss_vowel': 0.021469, 'loss_consonant': 0.016948, 'loss_word': 0.027459}\n",
      "    9 | 0.000390 | 160640/160716 | 11.2071 | 10.9850 |\n",
      "val: {'recall': 0.997233, 'recall_grapheme': 0.995988, 'recall_vowel': 0.998195, 'recall_consonant': 0.998762, 'recall_word': 0.995487, 'acc_grapheme': 0.995763, 'acc_vowel': 0.99833, 'acc_consonant': 0.998579, 'acc_word': 0.995489, 'loss_grapheme': 0.041342, 'loss_vowel': 0.029959, 'loss_consonant': 0.023034, 'loss_word': 0.031613}\n",
      "   10 | 0.000388 | 160640/160716 | 12.9688 | 10.6935 |\n",
      "val: {'recall': 0.996851, 'recall_grapheme': 0.995479, 'recall_vowel': 0.997816, 'recall_consonant': 0.998629, 'recall_word': 0.995611, 'acc_grapheme': 0.995614, 'acc_vowel': 0.997956, 'acc_consonant': 0.99833, 'acc_word': 0.995564, 'loss_grapheme': 0.034395, 'loss_vowel': 0.023703, 'loss_consonant': 0.017714, 'loss_word': 0.029938}\n",
      "   11 | 0.000386 | 160640/160716 | 15.6848 | 10.6097 |\n",
      "val: {'recall': 0.997138, 'recall_grapheme': 0.99565, 'recall_vowel': 0.998282, 'recall_consonant': 0.998971, 'recall_word': 0.9956, 'acc_grapheme': 0.995589, 'acc_vowel': 0.998056, 'acc_consonant': 0.998654, 'acc_word': 0.995539, 'loss_grapheme': 0.058195, 'loss_vowel': 0.044152, 'loss_consonant': 0.032526, 'loss_word': 0.041635}\n",
      "   12 | 0.000384 | 160640/160716 | 13.1940 | 10.7621 |\n",
      "val: {'recall': 0.996893, 'recall_grapheme': 0.995225, 'recall_vowel': 0.998604, 'recall_consonant': 0.99852, 'recall_word': 0.995427, 'acc_grapheme': 0.99524, 'acc_vowel': 0.99828, 'acc_consonant': 0.99853, 'acc_word': 0.995389, 'loss_grapheme': 0.044859, 'loss_vowel': 0.033459, 'loss_consonant': 0.02494, 'loss_word': 0.032763}\n",
      "   13 | 0.000381 | 160640/160716 | 14.6616 | 10.7979 |\n",
      "val: {'recall': 0.997096, 'recall_grapheme': 0.995543, 'recall_vowel': 0.998443, 'recall_consonant': 0.998854, 'recall_word': 0.995529, 'acc_grapheme': 0.995339, 'acc_vowel': 0.99848, 'acc_consonant': 0.998579, 'acc_word': 0.995514, 'loss_grapheme': 0.06096, 'loss_vowel': 0.044346, 'loss_consonant': 0.031956, 'loss_word': 0.039734}\n",
      "   14 | 0.000378 | 160640/160716 | 13.3222 | 10.5642 |\n",
      "val: {'recall': 0.997277, 'recall_grapheme': 0.995916, 'recall_vowel': 0.998493, 'recall_consonant': 0.998785, 'recall_word': 0.99589, 'acc_grapheme': 0.995713, 'acc_vowel': 0.998405, 'acc_consonant': 0.998704, 'acc_word': 0.995888, 'loss_grapheme': 0.035951, 'loss_vowel': 0.023685, 'loss_consonant': 0.018887, 'loss_word': 0.028521}\n",
      "   15 | 0.000375 | 160640/160716 | 10.7247 | 10.8829 |\n",
      "val: {'recall': 0.997205, 'recall_grapheme': 0.995804, 'recall_vowel': 0.998252, 'recall_consonant': 0.998962, 'recall_word': 0.995468, 'acc_grapheme': 0.995639, 'acc_vowel': 0.99843, 'acc_consonant': 0.998854, 'acc_word': 0.995514, 'loss_grapheme': 0.032828, 'loss_vowel': 0.021874, 'loss_consonant': 0.016435, 'loss_word': 0.028657}\n"
     ]
    },
    {
     "name": "stdout",
     "output_type": "stream",
     "text": [
      "   16 | 0.000372 | 160640/160716 | 9.2786 | 10.8445 ||\n",
      "val: {'recall': 0.996903, 'recall_grapheme': 0.995879, 'recall_vowel': 0.998321, 'recall_consonant': 0.997533, 'recall_word': 0.995351, 'acc_grapheme': 0.995539, 'acc_vowel': 0.998305, 'acc_consonant': 0.998554, 'acc_word': 0.995364, 'loss_grapheme': 0.037043, 'loss_vowel': 0.02585, 'loss_consonant': 0.021044, 'loss_word': 0.030192}\n",
      "   17 | 0.000369 | 160640/160716 | 15.2112 | 10.5779 |\n",
      "val: {'recall': 0.996994, 'recall_grapheme': 0.995431, 'recall_vowel': 0.998308, 'recall_consonant': 0.998805, 'recall_word': 0.99513, 'acc_grapheme': 0.99519, 'acc_vowel': 0.998405, 'acc_consonant': 0.99843, 'acc_word': 0.995065, 'loss_grapheme': 0.055552, 'loss_vowel': 0.041279, 'loss_consonant': 0.030041, 'loss_word': 0.037895}\n",
      "   18 | 0.000365 | 160640/160716 | 11.4803 | 10.6635 |\n",
      "val: {'recall': 0.997014, 'recall_grapheme': 0.995216, 'recall_vowel': 0.998602, 'recall_consonant': 0.999022, 'recall_word': 0.995238, 'acc_grapheme': 0.995215, 'acc_vowel': 0.99838, 'acc_consonant': 0.998679, 'acc_word': 0.995215, 'loss_grapheme': 0.042512, 'loss_vowel': 0.028532, 'loss_consonant': 0.021212, 'loss_word': 0.034315}\n",
      "   19 | 0.000362 | 160640/160716 | 12.2793 | 10.3879 |\n",
      "val: {'recall': 0.996979, 'recall_grapheme': 0.995557, 'recall_vowel': 0.998042, 'recall_consonant': 0.998759, 'recall_word': 0.995272, 'acc_grapheme': 0.995339, 'acc_vowel': 0.998305, 'acc_consonant': 0.998579, 'acc_word': 0.995265, 'loss_grapheme': 0.034374, 'loss_vowel': 0.022282, 'loss_consonant': 0.017553, 'loss_word': 0.028719}\n",
      "   20 | 0.000358 | 160640/160716 | 5.1023 | 10.4688 ||\n",
      "val: {'recall': 0.997185, 'recall_grapheme': 0.995773, 'recall_vowel': 0.998392, 'recall_consonant': 0.998801, 'recall_word': 0.995223, 'acc_grapheme': 0.995514, 'acc_vowel': 0.99823, 'acc_consonant': 0.998629, 'acc_word': 0.99519, 'loss_grapheme': 0.054912, 'loss_vowel': 0.040438, 'loss_consonant': 0.028342, 'loss_word': 0.040089}\n",
      "   21 | 0.000354 | 160640/160716 | 15.3637 | 10.4532 |\n",
      "val: {'recall': 0.997111, 'recall_grapheme': 0.995701, 'recall_vowel': 0.997954, 'recall_consonant': 0.999089, 'recall_word': 0.995687, 'acc_grapheme': 0.995165, 'acc_vowel': 0.998305, 'acc_consonant': 0.998878, 'acc_word': 0.995663, 'loss_grapheme': 0.057486, 'loss_vowel': 0.040081, 'loss_consonant': 0.031102, 'loss_word': 0.042207}\n",
      "   22 | 0.000350 | 160640/160716 | 10.7599 | 10.5570 |\n",
      "val: {'recall': 0.997188, 'recall_grapheme': 0.995678, 'recall_vowel': 0.99828, 'recall_consonant': 0.999117, 'recall_word': 0.995796, 'acc_grapheme': 0.995514, 'acc_vowel': 0.99828, 'acc_consonant': 0.998629, 'acc_word': 0.995738, 'loss_grapheme': 0.052634, 'loss_vowel': 0.038996, 'loss_consonant': 0.026744, 'loss_word': 0.038347}\n",
      "   23 | 0.000346 | 160640/160716 | 12.1862 | 10.6771 |\n",
      "val: {'recall': 0.99702, 'recall_grapheme': 0.995513, 'recall_vowel': 0.998321, 'recall_consonant': 0.998731, 'recall_word': 0.995734, 'acc_grapheme': 0.995639, 'acc_vowel': 0.998305, 'acc_consonant': 0.998554, 'acc_word': 0.995713, 'loss_grapheme': 0.051167, 'loss_vowel': 0.036684, 'loss_consonant': 0.027092, 'loss_word': 0.035479}\n",
      "   24 | 0.000341 | 160640/160716 | 12.0782 | 10.4456 |\n",
      "val: {'recall': 0.997079, 'recall_grapheme': 0.995693, 'recall_vowel': 0.997959, 'recall_consonant': 0.998972, 'recall_word': 0.995819, 'acc_grapheme': 0.995938, 'acc_vowel': 0.99828, 'acc_consonant': 0.998679, 'acc_word': 0.995788, 'loss_grapheme': 0.043141, 'loss_vowel': 0.030476, 'loss_consonant': 0.023361, 'loss_word': 0.0326}\n",
      "   25 | 0.000337 | 160640/160716 | 13.5076 | 10.6430 |\n",
      "val: {'recall': 0.997128, 'recall_grapheme': 0.99566, 'recall_vowel': 0.998445, 'recall_consonant': 0.998747, 'recall_word': 0.995743, 'acc_grapheme': 0.995489, 'acc_vowel': 0.99843, 'acc_consonant': 0.99838, 'acc_word': 0.995738, 'loss_grapheme': 0.04628, 'loss_vowel': 0.031712, 'loss_consonant': 0.023323, 'loss_word': 0.031928}\n",
      "   26 | 0.000332 | 160640/160716 | 12.9066 | 10.7005 |\n",
      "val: {'recall': 0.996861, 'recall_grapheme': 0.995253, 'recall_vowel': 0.998175, 'recall_consonant': 0.998765, 'recall_word': 0.995298, 'acc_grapheme': 0.99529, 'acc_vowel': 0.99823, 'acc_consonant': 0.99853, 'acc_word': 0.995315, 'loss_grapheme': 0.043349, 'loss_vowel': 0.030245, 'loss_consonant': 0.022849, 'loss_word': 0.03077}\n",
      "   27 | 0.000328 | 160640/160716 | 13.6807 | 10.2695 |\n",
      "val: {'recall': 0.997188, 'recall_grapheme': 0.996103, 'recall_vowel': 0.998079, 'recall_consonant': 0.998465, 'recall_word': 0.996037, 'acc_grapheme': 0.996037, 'acc_vowel': 0.998355, 'acc_consonant': 0.998779, 'acc_word': 0.996037, 'loss_grapheme': 0.055003, 'loss_vowel': 0.042894, 'loss_consonant': 0.030939, 'loss_word': 0.037925}\n",
      "   28 | 0.000323 | 160640/160716 | 13.8835 | 10.7862 |\n",
      "val: {'recall': 0.996946, 'recall_grapheme': 0.995398, 'recall_vowel': 0.998136, 'recall_consonant': 0.998854, 'recall_word': 0.995541, 'acc_grapheme': 0.995364, 'acc_vowel': 0.998355, 'acc_consonant': 0.998629, 'acc_word': 0.995514, 'loss_grapheme': 0.034191, 'loss_vowel': 0.021939, 'loss_consonant': 0.016457, 'loss_word': 0.026737}\n",
      "   29 | 0.000318 | 160640/160716 | 12.5256 | 11.2369 |\n",
      "val: {'recall': 0.996905, 'recall_grapheme': 0.995843, 'recall_vowel': 0.998157, 'recall_consonant': 0.997776, 'recall_word': 0.995812, 'acc_grapheme': 0.995788, 'acc_vowel': 0.998405, 'acc_consonant': 0.998679, 'acc_word': 0.995763, 'loss_grapheme': 0.060107, 'loss_vowel': 0.042654, 'loss_consonant': 0.031357, 'loss_word': 0.037897}\n",
      "   30 | 0.000312 | 160640/160716 | 5.2421 | 9.9585 |||\n",
      "val: {'recall': 0.997252, 'recall_grapheme': 0.995731, 'recall_vowel': 0.998524, 'recall_consonant': 0.999022, 'recall_word': 0.996122, 'acc_grapheme': 0.996012, 'acc_vowel': 0.99853, 'acc_consonant': 0.998804, 'acc_word': 0.996137, 'loss_grapheme': 0.043519, 'loss_vowel': 0.028383, 'loss_consonant': 0.022145, 'loss_word': 0.034898}\n",
      "   31 | 0.000307 | 160640/160716 | 15.1598 | 10.5401 |\n",
      "val: {'recall': 0.997255, 'recall_grapheme': 0.995812, 'recall_vowel': 0.998402, 'recall_consonant': 0.998996, 'recall_word': 0.995815, 'acc_grapheme': 0.995888, 'acc_vowel': 0.998305, 'acc_consonant': 0.998804, 'acc_word': 0.995888, 'loss_grapheme': 0.029806, 'loss_vowel': 0.019147, 'loss_consonant': 0.015081, 'loss_word': 0.025312}\n",
      "   32 | 0.000302 | 160640/160716 | 1.6879 | 10.7317 ||\n",
      "val: {'recall': 0.996799, 'recall_grapheme': 0.995818, 'recall_vowel': 0.998081, 'recall_consonant': 0.997478, 'recall_word': 0.995647, 'acc_grapheme': 0.995888, 'acc_vowel': 0.998255, 'acc_consonant': 0.99853, 'acc_word': 0.995688, 'loss_grapheme': 0.043346, 'loss_vowel': 0.031037, 'loss_consonant': 0.02304, 'loss_word': 0.033135}\n",
      "   33 | 0.000296 | 160640/160716 | 11.3499 | 10.4132 |\n",
      "val: {'recall': 0.997306, 'recall_grapheme': 0.995875, 'recall_vowel': 0.998528, 'recall_consonant': 0.998945, 'recall_word': 0.995775, 'acc_grapheme': 0.995863, 'acc_vowel': 0.998505, 'acc_consonant': 0.998579, 'acc_word': 0.995813, 'loss_grapheme': 0.031191, 'loss_vowel': 0.019597, 'loss_consonant': 0.016289, 'loss_word': 0.02403}\n",
      "   34 | 0.000291 | 160640/160716 | 12.7879 | 10.6434 |\n",
      "val: {'recall': 0.997406, 'recall_grapheme': 0.996199, 'recall_vowel': 0.998081, 'recall_consonant': 0.999144, 'recall_word': 0.995971, 'acc_grapheme': 0.996162, 'acc_vowel': 0.998405, 'acc_consonant': 0.998878, 'acc_word': 0.996062, 'loss_grapheme': 0.058354, 'loss_vowel': 0.04141, 'loss_consonant': 0.029719, 'loss_word': 0.043666}\n",
      "   35 | 0.000285 | 160640/160716 | 11.0154 | 10.5216 |\n",
      "val: {'recall': 0.997175, 'recall_grapheme': 0.99561, 'recall_vowel': 0.998489, 'recall_consonant': 0.99899, 'recall_word': 0.995963, 'acc_grapheme': 0.995639, 'acc_vowel': 0.998405, 'acc_consonant': 0.998729, 'acc_word': 0.995987, 'loss_grapheme': 0.043728, 'loss_vowel': 0.028673, 'loss_consonant': 0.021598, 'loss_word': 0.029877}\n",
      "   36 | 0.000279 | 160640/160716 | 11.7841 | 10.4743 |\n",
      "val: {'recall': 0.997175, 'recall_grapheme': 0.995875, 'recall_vowel': 0.99808, 'recall_consonant': 0.998871, 'recall_word': 0.995946, 'acc_grapheme': 0.995987, 'acc_vowel': 0.998255, 'acc_consonant': 0.998579, 'acc_word': 0.996012, 'loss_grapheme': 0.033748, 'loss_vowel': 0.022533, 'loss_consonant': 0.016413, 'loss_word': 0.025941}\n",
      "   37 | 0.000274 | 160640/160716 | 13.7010 | 10.2145 |\n",
      "val: {'recall': 0.996821, 'recall_grapheme': 0.995571, 'recall_vowel': 0.99825, 'recall_consonant': 0.997891, 'recall_word': 0.995707, 'acc_grapheme': 0.995439, 'acc_vowel': 0.998305, 'acc_consonant': 0.998579, 'acc_word': 0.995688, 'loss_grapheme': 0.03819, 'loss_vowel': 0.026, 'loss_consonant': 0.020107, 'loss_word': 0.027208}\n",
      "   38 | 0.000268 | 160640/160716 | 11.4462 | 10.4798 |\n",
      "val: {'recall': 0.997275, 'recall_grapheme': 0.995907, 'recall_vowel': 0.99829, 'recall_consonant': 0.998995, 'recall_word': 0.996008, 'acc_grapheme': 0.996062, 'acc_vowel': 0.99838, 'acc_consonant': 0.998804, 'acc_word': 0.996012, 'loss_grapheme': 0.038381, 'loss_vowel': 0.026444, 'loss_consonant': 0.020035, 'loss_word': 0.029563}\n",
      "   39 | 0.000262 | 160640/160716 | 6.1327 | 10.5179 ||\n",
      "val: {'recall': 0.997232, 'recall_grapheme': 0.99632, 'recall_vowel': 0.998443, 'recall_consonant': 0.997847, 'recall_word': 0.996155, 'acc_grapheme': 0.996187, 'acc_vowel': 0.99838, 'acc_consonant': 0.998978, 'acc_word': 0.996137, 'loss_grapheme': 0.03033, 'loss_vowel': 0.019608, 'loss_consonant': 0.015195, 'loss_word': 0.024365}\n",
      "   40 | 0.000256 | 160640/160716 | 12.0238 | 10.4435 |\n",
      "val: {'recall': 0.997114, 'recall_grapheme': 0.99593, 'recall_vowel': 0.998278, 'recall_consonant': 0.99832, 'recall_word': 0.995745, 'acc_grapheme': 0.995688, 'acc_vowel': 0.998305, 'acc_consonant': 0.998754, 'acc_word': 0.995763, 'loss_grapheme': 0.038533, 'loss_vowel': 0.027357, 'loss_consonant': 0.020421, 'loss_word': 0.027515}\n",
      "   41 | 0.000250 | 160640/160716 | 13.2636 | 10.4258 |\n",
      "val: {'recall': 0.99732, 'recall_grapheme': 0.995902, 'recall_vowel': 0.998558, 'recall_consonant': 0.998917, 'recall_word': 0.99599, 'acc_grapheme': 0.995763, 'acc_vowel': 0.998405, 'acc_consonant': 0.998704, 'acc_word': 0.995987, 'loss_grapheme': 0.034519, 'loss_vowel': 0.02186, 'loss_consonant': 0.016205, 'loss_word': 0.026059}\n",
      "   42 | 0.000244 | 160640/160716 | 12.5887 | 10.4453 |\n",
      "val: {'recall': 0.997677, 'recall_grapheme': 0.996545, 'recall_vowel': 0.998518, 'recall_consonant': 0.999102, 'recall_word': 0.996328, 'acc_grapheme': 0.996212, 'acc_vowel': 0.99843, 'acc_consonant': 0.998928, 'acc_word': 0.996411, 'loss_grapheme': 0.04441, 'loss_vowel': 0.032399, 'loss_consonant': 0.022829, 'loss_word': 0.034176}\n",
      "###>>>>> saved ./model4-ckps/tf_efficientnet_b4/model4_eb4_fold3.pth\n",
      "   43 | 0.000238 | 160640/160716 | 13.5741 | 10.0697 |\n",
      "val: {'recall': 0.99746, 'recall_grapheme': 0.996128, 'recall_vowel': 0.998646, 'recall_consonant': 0.998941, 'recall_word': 0.995983, 'acc_grapheme': 0.995938, 'acc_vowel': 0.99853, 'acc_consonant': 0.998779, 'acc_word': 0.995938, 'loss_grapheme': 0.042418, 'loss_vowel': 0.03056, 'loss_consonant': 0.022307, 'loss_word': 0.031156}\n",
      "   44 | 0.000231 | 160640/160716 | 5.8212 | 10.5225 ||\n",
      "val: {'recall': 0.997113, 'recall_grapheme': 0.995388, 'recall_vowel': 0.998696, 'recall_consonant': 0.998979, 'recall_word': 0.995624, 'acc_grapheme': 0.995539, 'acc_vowel': 0.998455, 'acc_consonant': 0.998704, 'acc_word': 0.995639, 'loss_grapheme': 0.04599, 'loss_vowel': 0.032644, 'loss_consonant': 0.022059, 'loss_word': 0.034253}\n",
      "   45 | 0.000225 | 160640/160716 | 14.9856 | 10.2894 |\n",
      "val: {'recall': 0.997506, 'recall_grapheme': 0.996089, 'recall_vowel': 0.998903, 'recall_consonant': 0.99894, 'recall_word': 0.995985, 'acc_grapheme': 0.995688, 'acc_vowel': 0.998629, 'acc_consonant': 0.998804, 'acc_word': 0.995938, 'loss_grapheme': 0.039082, 'loss_vowel': 0.027121, 'loss_consonant': 0.020805, 'loss_word': 0.028543}\n",
      "   46 | 0.000219 | 160640/160716 | 11.3444 | 10.3816 |\n",
      "val: {'recall': 0.99696, 'recall_grapheme': 0.995939, 'recall_vowel': 0.99854, 'recall_consonant': 0.997424, 'recall_word': 0.995879, 'acc_grapheme': 0.995813, 'acc_vowel': 0.99848, 'acc_consonant': 0.998629, 'acc_word': 0.995863, 'loss_grapheme': 0.031886, 'loss_vowel': 0.020642, 'loss_consonant': 0.014387, 'loss_word': 0.024533}\n",
      "   47 | 0.000213 | 160640/160716 | 5.3514 | 10.1919 ||\n",
      "val: {'recall': 0.997196, 'recall_grapheme': 0.995824, 'recall_vowel': 0.998221, 'recall_consonant': 0.998915, 'recall_word': 0.996008, 'acc_grapheme': 0.995713, 'acc_vowel': 0.99828, 'acc_consonant': 0.998679, 'acc_word': 0.995963, 'loss_grapheme': 0.0418, 'loss_vowel': 0.029003, 'loss_consonant': 0.01852, 'loss_word': 0.029619}\n",
      "   48 | 0.000206 | 160640/160716 | 12.9803 | 10.2815 |\n",
      "val: {'recall': 0.997399, 'recall_grapheme': 0.996494, 'recall_vowel': 0.998641, 'recall_consonant': 0.997967, 'recall_word': 0.996362, 'acc_grapheme': 0.996511, 'acc_vowel': 0.998505, 'acc_consonant': 0.999128, 'acc_word': 0.996436, 'loss_grapheme': 0.030329, 'loss_vowel': 0.019972, 'loss_consonant': 0.014155, 'loss_word': 0.026517}\n",
      "   49 | 0.000200 | 160640/160716 | 10.2587 | 10.5486 |\n",
      "val: {'recall': 0.997313, 'recall_grapheme': 0.996018, 'recall_vowel': 0.998684, 'recall_consonant': 0.99853, 'recall_word': 0.995994, 'acc_grapheme': 0.996012, 'acc_vowel': 0.99853, 'acc_consonant': 0.998829, 'acc_word': 0.995987, 'loss_grapheme': 0.029044, 'loss_vowel': 0.018101, 'loss_consonant': 0.013074, 'loss_word': 0.022473}\n",
      "   50 | 0.000194 | 160640/160716 | 7.1501 | 10.2509 ||\n",
      "val: {'recall': 0.99739, 'recall_grapheme': 0.995966, 'recall_vowel': 0.998531, 'recall_consonant': 0.999099, 'recall_word': 0.995871, 'acc_grapheme': 0.996037, 'acc_vowel': 0.99848, 'acc_consonant': 0.998928, 'acc_word': 0.995888, 'loss_grapheme': 0.033552, 'loss_vowel': 0.021802, 'loss_consonant': 0.016856, 'loss_word': 0.027674}\n",
      "   51 | 0.000187 | 160640/160716 | 13.1253 | 10.7545 |\n",
      "val: {'recall': 0.997226, 'recall_grapheme': 0.99593, 'recall_vowel': 0.998227, 'recall_consonant': 0.998816, 'recall_word': 0.995779, 'acc_grapheme': 0.995639, 'acc_vowel': 0.99833, 'acc_consonant': 0.998604, 'acc_word': 0.995763, 'loss_grapheme': 0.035411, 'loss_vowel': 0.023364, 'loss_consonant': 0.016962, 'loss_word': 0.025305}\n",
      "   52 | 0.000181 | 160640/160716 | 12.9981 | 10.0965 |\n",
      "val: {'recall': 0.997517, 'recall_grapheme': 0.996347, 'recall_vowel': 0.998348, 'recall_consonant': 0.999025, 'recall_word': 0.99642, 'acc_grapheme': 0.996187, 'acc_vowel': 0.998579, 'acc_consonant': 0.998928, 'acc_word': 0.996386, 'loss_grapheme': 0.03082, 'loss_vowel': 0.020407, 'loss_consonant': 0.015062, 'loss_word': 0.024068}\n",
      "   53 | 0.000175 | 160640/160716 | 11.4747 | 10.6062 |\n",
      "val: {'recall': 0.997476, 'recall_grapheme': 0.996111, 'recall_vowel': 0.998586, 'recall_consonant': 0.999094, 'recall_word': 0.995976, 'acc_grapheme': 0.995813, 'acc_vowel': 0.998455, 'acc_consonant': 0.998903, 'acc_word': 0.995963, 'loss_grapheme': 0.034704, 'loss_vowel': 0.023251, 'loss_consonant': 0.01774, 'loss_word': 0.024936}\n",
      "   54 | 0.000169 | 160640/160716 | 14.7257 | 10.6862 |\n",
      "val: {'recall': 0.997334, 'recall_grapheme': 0.995865, 'recall_vowel': 0.998605, 'recall_consonant': 0.999, 'recall_word': 0.996142, 'acc_grapheme': 0.995838, 'acc_vowel': 0.998505, 'acc_consonant': 0.998704, 'acc_word': 0.996087, 'loss_grapheme': 0.041797, 'loss_vowel': 0.028844, 'loss_consonant': 0.021724, 'loss_word': 0.027656}\n",
      "   55 | 0.000163 | 160640/160716 | 11.2420 | 10.4529 |\n",
      "val: {'recall': 0.997564, 'recall_grapheme': 0.996494, 'recall_vowel': 0.998254, 'recall_consonant': 0.999013, 'recall_word': 0.996248, 'acc_grapheme': 0.996087, 'acc_vowel': 0.99843, 'acc_consonant': 0.998878, 'acc_word': 0.996212, 'loss_grapheme': 0.025999, 'loss_vowel': 0.015482, 'loss_consonant': 0.01226, 'loss_word': 0.021}\n",
      "   56 | 0.000156 | 160640/160716 | 12.4116 | 10.4607 |\n",
      "val: {'recall': 0.997582, 'recall_grapheme': 0.996354, 'recall_vowel': 0.998619, 'recall_consonant': 0.999001, 'recall_word': 0.995891, 'acc_grapheme': 0.996187, 'acc_vowel': 0.998505, 'acc_consonant': 0.998804, 'acc_word': 0.995888, 'loss_grapheme': 0.035718, 'loss_vowel': 0.023434, 'loss_consonant': 0.018173, 'loss_word': 0.027225}\n",
      "   57 | 0.000150 | 160640/160716 | 13.8319 | 10.2194 |\n",
      "val: {'recall': 0.997213, 'recall_grapheme': 0.995796, 'recall_vowel': 0.998286, 'recall_consonant': 0.998975, 'recall_word': 0.995719, 'acc_grapheme': 0.995738, 'acc_vowel': 0.998355, 'acc_consonant': 0.998704, 'acc_word': 0.995763, 'loss_grapheme': 0.032849, 'loss_vowel': 0.019698, 'loss_consonant': 0.014123, 'loss_word': 0.023451}\n"
     ]
    },
    {
     "name": "stdout",
     "output_type": "stream",
     "text": [
      "   58 | 0.000144 | 160640/160716 | 10.6053 | 10.6897 |\n",
      "val: {'recall': 0.997544, 'recall_grapheme': 0.996517, 'recall_vowel': 0.998492, 'recall_consonant': 0.998649, 'recall_word': 0.996338, 'acc_grapheme': 0.996361, 'acc_vowel': 0.99853, 'acc_consonant': 0.998854, 'acc_word': 0.996361, 'loss_grapheme': 0.032809, 'loss_vowel': 0.021978, 'loss_consonant': 0.015902, 'loss_word': 0.02601}\n",
      "   59 | 0.000138 | 160640/160716 | 10.3413 | 10.4644 |\n",
      "val: {'recall': 0.997714, 'recall_grapheme': 0.996584, 'recall_vowel': 0.998596, 'recall_consonant': 0.999091, 'recall_word': 0.996396, 'acc_grapheme': 0.996386, 'acc_vowel': 0.998505, 'acc_consonant': 0.998854, 'acc_word': 0.996436, 'loss_grapheme': 0.035497, 'loss_vowel': 0.02408, 'loss_consonant': 0.018238, 'loss_word': 0.026557}\n",
      "###>>>>> saved ./model4-ckps/tf_efficientnet_b4/model4_eb4_fold3.pth\n",
      "   60 | 0.000132 | 160640/160716 | 13.2141 | 10.2445 |"
     ]
    }
   ],
   "source": [
    "train(args)"
   ]
  },
  {
   "cell_type": "code",
   "execution_count": null,
   "metadata": {},
   "outputs": [],
   "source": []
  },
  {
   "cell_type": "code",
   "execution_count": null,
   "metadata": {},
   "outputs": [],
   "source": []
  },
  {
   "cell_type": "code",
   "execution_count": null,
   "metadata": {},
   "outputs": [],
   "source": []
  },
  {
   "cell_type": "code",
   "execution_count": null,
   "metadata": {},
   "outputs": [],
   "source": [
    "#save_model(model, model_file)"
   ]
  },
  {
   "cell_type": "code",
   "execution_count": null,
   "metadata": {},
   "outputs": [],
   "source": [
    "del model"
   ]
  },
  {
   "cell_type": "code",
   "execution_count": null,
   "metadata": {},
   "outputs": [],
   "source": []
  },
  {
   "cell_type": "code",
   "execution_count": null,
   "metadata": {},
   "outputs": [],
   "source": []
  }
 ],
 "metadata": {
  "kernelspec": {
   "display_name": "Python 3",
   "language": "python",
   "name": "python3"
  },
  "language_info": {
   "codemirror_mode": {
    "name": "ipython",
    "version": 3
   },
   "file_extension": ".py",
   "mimetype": "text/x-python",
   "name": "python",
   "nbconvert_exporter": "python",
   "pygments_lexer": "ipython3",
   "version": "3.7.3"
  }
 },
 "nbformat": 4,
 "nbformat_minor": 2
}
