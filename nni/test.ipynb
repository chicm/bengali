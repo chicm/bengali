{
 "cells": [
  {
   "cell_type": "code",
   "execution_count": 2,
   "metadata": {},
   "outputs": [
    {
     "name": "stdout",
     "output_type": "stream",
     "text": [
      "alexnet.py   googlenet.py  mnasnet.py\t resnet.py\t  squeezenet.py  vgg.py\r\n",
      "densenet.py  inception.py  mobilenet.py  segmentation\t  _utils.py\t video\r\n",
      "detection    __init__.py   quantization  shufflenetv2.py  utils.py\r\n"
     ]
    }
   ],
   "source": [
    "!ls net/"
   ]
  },
  {
   "cell_type": "code",
   "execution_count": 7,
   "metadata": {},
   "outputs": [],
   "source": [
    "import torch\n",
    "import torch.nn as nn"
   ]
  },
  {
   "cell_type": "code",
   "execution_count": 1,
   "metadata": {},
   "outputs": [],
   "source": [
    "import net"
   ]
  },
  {
   "cell_type": "code",
   "execution_count": 21,
   "metadata": {},
   "outputs": [
    {
     "data": {
      "text/plain": [
       "{'__name__': 'net',\n",
       " '__doc__': None,\n",
       " '__package__': 'net',\n",
       " '__loader__': <_frozen_importlib_external.SourceFileLoader at 0x7faf0012a310>,\n",
       " '__spec__': ModuleSpec(name='net', loader=<_frozen_importlib_external.SourceFileLoader object at 0x7faf0012a310>, origin='/mnt/chicm/bengali/nni/net/__init__.py', submodule_search_locations=['/mnt/chicm/bengali/nni/net']),\n",
       " '__path__': ['/mnt/chicm/bengali/nni/net'],\n",
       " '__file__': '/mnt/chicm/bengali/nni/net/__init__.py',\n",
       " '__cached__': '/mnt/chicm/bengali/nni/net/__pycache__/__init__.cpython-37.pyc',\n",
       " '__builtins__': {'__name__': 'builtins',\n",
       "  '__doc__': \"Built-in functions, exceptions, and other objects.\\n\\nNoteworthy: None is the `nil' object; Ellipsis represents `...' in slices.\",\n",
       "  '__package__': '',\n",
       "  '__loader__': _frozen_importlib.BuiltinImporter,\n",
       "  '__spec__': ModuleSpec(name='builtins', loader=<class '_frozen_importlib.BuiltinImporter'>),\n",
       "  '__build_class__': <function __build_class__>,\n",
       "  '__import__': <function __import__>,\n",
       "  'abs': <function abs(x, /)>,\n",
       "  'all': <function all(iterable, /)>,\n",
       "  'any': <function any(iterable, /)>,\n",
       "  'ascii': <function ascii(obj, /)>,\n",
       "  'bin': <function bin(number, /)>,\n",
       "  'breakpoint': <function breakpoint>,\n",
       "  'callable': <function callable(obj, /)>,\n",
       "  'chr': <function chr(i, /)>,\n",
       "  'compile': <function compile(source, filename, mode, flags=0, dont_inherit=False, optimize=-1)>,\n",
       "  'delattr': <function delattr(obj, name, /)>,\n",
       "  'dir': <function dir>,\n",
       "  'divmod': <function divmod(x, y, /)>,\n",
       "  'eval': <function eval(source, globals=None, locals=None, /)>,\n",
       "  'exec': <function exec(source, globals=None, locals=None, /)>,\n",
       "  'format': <function format(value, format_spec='', /)>,\n",
       "  'getattr': <function getattr>,\n",
       "  'globals': <function globals()>,\n",
       "  'hasattr': <function hasattr(obj, name, /)>,\n",
       "  'hash': <function hash(obj, /)>,\n",
       "  'hex': <function hex(number, /)>,\n",
       "  'id': <function id(obj, /)>,\n",
       "  'input': <bound method Kernel.raw_input of <ipykernel.ipkernel.IPythonKernel object at 0x7faf03a5bbd0>>,\n",
       "  'isinstance': <function isinstance(obj, class_or_tuple, /)>,\n",
       "  'issubclass': <function issubclass(cls, class_or_tuple, /)>,\n",
       "  'iter': <function iter>,\n",
       "  'len': <function len(obj, /)>,\n",
       "  'locals': <function locals()>,\n",
       "  'max': <function max>,\n",
       "  'min': <function min>,\n",
       "  'next': <function next>,\n",
       "  'oct': <function oct(number, /)>,\n",
       "  'ord': <function ord(c, /)>,\n",
       "  'pow': <function pow(x, y, z=None, /)>,\n",
       "  'print': <function print>,\n",
       "  'repr': <function repr(obj, /)>,\n",
       "  'round': <function round(number, ndigits=None)>,\n",
       "  'setattr': <function setattr(obj, name, value, /)>,\n",
       "  'sorted': <function sorted(iterable, /, *, key=None, reverse=False)>,\n",
       "  'sum': <function sum(iterable, start=0, /)>,\n",
       "  'vars': <function vars>,\n",
       "  'None': None,\n",
       "  'Ellipsis': Ellipsis,\n",
       "  'NotImplemented': NotImplemented,\n",
       "  'False': False,\n",
       "  'True': True,\n",
       "  'bool': bool,\n",
       "  'memoryview': memoryview,\n",
       "  'bytearray': bytearray,\n",
       "  'bytes': bytes,\n",
       "  'classmethod': classmethod,\n",
       "  'complex': complex,\n",
       "  'dict': dict,\n",
       "  'enumerate': enumerate,\n",
       "  'filter': filter,\n",
       "  'float': float,\n",
       "  'frozenset': frozenset,\n",
       "  'property': property,\n",
       "  'int': int,\n",
       "  'list': list,\n",
       "  'map': map,\n",
       "  'object': object,\n",
       "  'range': range,\n",
       "  'reversed': reversed,\n",
       "  'set': set,\n",
       "  'slice': slice,\n",
       "  'staticmethod': staticmethod,\n",
       "  'str': str,\n",
       "  'super': super,\n",
       "  'tuple': tuple,\n",
       "  'type': type,\n",
       "  'zip': zip,\n",
       "  '__debug__': True,\n",
       "  'BaseException': BaseException,\n",
       "  'Exception': Exception,\n",
       "  'TypeError': TypeError,\n",
       "  'StopAsyncIteration': StopAsyncIteration,\n",
       "  'StopIteration': StopIteration,\n",
       "  'GeneratorExit': GeneratorExit,\n",
       "  'SystemExit': SystemExit,\n",
       "  'KeyboardInterrupt': KeyboardInterrupt,\n",
       "  'ImportError': ImportError,\n",
       "  'ModuleNotFoundError': ModuleNotFoundError,\n",
       "  'OSError': OSError,\n",
       "  'EnvironmentError': OSError,\n",
       "  'IOError': OSError,\n",
       "  'EOFError': EOFError,\n",
       "  'RuntimeError': RuntimeError,\n",
       "  'RecursionError': RecursionError,\n",
       "  'NotImplementedError': NotImplementedError,\n",
       "  'NameError': NameError,\n",
       "  'UnboundLocalError': UnboundLocalError,\n",
       "  'AttributeError': AttributeError,\n",
       "  'SyntaxError': SyntaxError,\n",
       "  'IndentationError': IndentationError,\n",
       "  'TabError': TabError,\n",
       "  'LookupError': LookupError,\n",
       "  'IndexError': IndexError,\n",
       "  'KeyError': KeyError,\n",
       "  'ValueError': ValueError,\n",
       "  'UnicodeError': UnicodeError,\n",
       "  'UnicodeEncodeError': UnicodeEncodeError,\n",
       "  'UnicodeDecodeError': UnicodeDecodeError,\n",
       "  'UnicodeTranslateError': UnicodeTranslateError,\n",
       "  'AssertionError': AssertionError,\n",
       "  'ArithmeticError': ArithmeticError,\n",
       "  'FloatingPointError': FloatingPointError,\n",
       "  'OverflowError': OverflowError,\n",
       "  'ZeroDivisionError': ZeroDivisionError,\n",
       "  'SystemError': SystemError,\n",
       "  'ReferenceError': ReferenceError,\n",
       "  'MemoryError': MemoryError,\n",
       "  'BufferError': BufferError,\n",
       "  'Warning': Warning,\n",
       "  'UserWarning': UserWarning,\n",
       "  'DeprecationWarning': DeprecationWarning,\n",
       "  'PendingDeprecationWarning': PendingDeprecationWarning,\n",
       "  'SyntaxWarning': SyntaxWarning,\n",
       "  'RuntimeWarning': RuntimeWarning,\n",
       "  'FutureWarning': FutureWarning,\n",
       "  'ImportWarning': ImportWarning,\n",
       "  'UnicodeWarning': UnicodeWarning,\n",
       "  'BytesWarning': BytesWarning,\n",
       "  'ResourceWarning': ResourceWarning,\n",
       "  'ConnectionError': ConnectionError,\n",
       "  'BlockingIOError': BlockingIOError,\n",
       "  'BrokenPipeError': BrokenPipeError,\n",
       "  'ChildProcessError': ChildProcessError,\n",
       "  'ConnectionAbortedError': ConnectionAbortedError,\n",
       "  'ConnectionRefusedError': ConnectionRefusedError,\n",
       "  'ConnectionResetError': ConnectionResetError,\n",
       "  'FileExistsError': FileExistsError,\n",
       "  'FileNotFoundError': FileNotFoundError,\n",
       "  'IsADirectoryError': IsADirectoryError,\n",
       "  'NotADirectoryError': NotADirectoryError,\n",
       "  'InterruptedError': InterruptedError,\n",
       "  'PermissionError': PermissionError,\n",
       "  'ProcessLookupError': ProcessLookupError,\n",
       "  'TimeoutError': TimeoutError,\n",
       "  'open': <function io.open(file, mode='r', buffering=-1, encoding=None, errors=None, newline=None, closefd=True, opener=None)>,\n",
       "  'copyright': Copyright (c) 2001-2019 Python Software Foundation.\n",
       "  All Rights Reserved.\n",
       "  \n",
       "  Copyright (c) 2000 BeOpen.com.\n",
       "  All Rights Reserved.\n",
       "  \n",
       "  Copyright (c) 1995-2001 Corporation for National Research Initiatives.\n",
       "  All Rights Reserved.\n",
       "  \n",
       "  Copyright (c) 1991-1995 Stichting Mathematisch Centrum, Amsterdam.\n",
       "  All Rights Reserved.,\n",
       "  'credits':     Thanks to CWI, CNRI, BeOpen.com, Zope Corporation and a cast of thousands\n",
       "      for supporting Python development.  See www.python.org for more information.,\n",
       "  'license': Type license() to see the full license text,\n",
       "  'help': Type help() for interactive help, or help(object) for help about object.,\n",
       "  '__IPYTHON__': True,\n",
       "  'display': <function IPython.core.display.display(*objs, include=None, exclude=None, metadata=None, transient=None, display_id=None, **kwargs)>,\n",
       "  '__pybind11_internals_v3__': <capsule object NULL at 0x7faeaaee5120>,\n",
       "  'get_ipython': <bound method InteractiveShell.get_ipython of <ipykernel.zmqshell.ZMQInteractiveShell object at 0x7faf03a5bd10>>},\n",
       " 'utils': <module 'net.utils' from '/mnt/chicm/bengali/nni/net/utils.py'>,\n",
       " 'alexnet': <function net.alexnet.alexnet(pretrained=False, progress=True, **kwargs)>,\n",
       " 'AlexNet': net.alexnet.AlexNet,\n",
       " 'resnet': <module 'net.resnet' from '/mnt/chicm/bengali/nni/net/resnet.py'>,\n",
       " 'ResNet': net.resnet.ResNet,\n",
       " 'resnet18': <function net.resnet.resnet18(pretrained=False, progress=True, **kwargs)>,\n",
       " 'resnet34': <function net.resnet.resnet34(pretrained=False, progress=True, **kwargs)>,\n",
       " 'resnet50': <function net.resnet.resnet50(pretrained=False, progress=True, **kwargs)>,\n",
       " 'resnet101': <function net.resnet.resnet101(pretrained=False, progress=True, **kwargs)>,\n",
       " 'resnet152': <function net.resnet.resnet152(pretrained=False, progress=True, **kwargs)>,\n",
       " 'resnext50_32x4d': <function net.resnet.resnext50_32x4d(pretrained=False, progress=True, **kwargs)>,\n",
       " 'resnext101_32x8d': <function net.resnet.resnext101_32x8d(pretrained=False, progress=True, **kwargs)>,\n",
       " 'wide_resnet50_2': <function net.resnet.wide_resnet50_2(pretrained=False, progress=True, **kwargs)>,\n",
       " 'wide_resnet101_2': <function net.resnet.wide_resnet101_2(pretrained=False, progress=True, **kwargs)>,\n",
       " 'vgg': <module 'net.vgg' from '/mnt/chicm/bengali/nni/net/vgg.py'>,\n",
       " 'VGG': net.vgg.VGG,\n",
       " 'vgg11': <function net.vgg.vgg11(pretrained=False, progress=True, **kwargs)>,\n",
       " 'vgg11_bn': <function net.vgg.vgg11_bn(pretrained=False, progress=True, **kwargs)>,\n",
       " 'vgg13': <function net.vgg.vgg13(pretrained=False, progress=True, **kwargs)>,\n",
       " 'vgg13_bn': <function net.vgg.vgg13_bn(pretrained=False, progress=True, **kwargs)>,\n",
       " 'vgg16': <function net.vgg.vgg16(pretrained=False, progress=True, **kwargs)>,\n",
       " 'vgg16_bn': <function net.vgg.vgg16_bn(pretrained=False, progress=True, **kwargs)>,\n",
       " 'vgg19_bn': <function net.vgg.vgg19_bn(pretrained=False, progress=True, **kwargs)>,\n",
       " 'vgg19': <function net.vgg.vgg19(pretrained=False, progress=True, **kwargs)>,\n",
       " 'squeezenet': <module 'net.squeezenet' from '/mnt/chicm/bengali/nni/net/squeezenet.py'>,\n",
       " 'SqueezeNet': net.squeezenet.SqueezeNet,\n",
       " 'squeezenet1_0': <function net.squeezenet.squeezenet1_0(pretrained=False, progress=True, **kwargs)>,\n",
       " 'squeezenet1_1': <function net.squeezenet.squeezenet1_1(pretrained=False, progress=True, **kwargs)>,\n",
       " 'inception': <module 'net.inception' from '/mnt/chicm/bengali/nni/net/inception.py'>,\n",
       " 'Inception3': net.inception.Inception3,\n",
       " 'inception_v3': <function net.inception.inception_v3(pretrained=False, progress=True, **kwargs)>,\n",
       " 'densenet': <module 'net.densenet' from '/mnt/chicm/bengali/nni/net/densenet.py'>,\n",
       " 'DenseNet': net.densenet.DenseNet,\n",
       " 'densenet121': <function net.densenet.densenet121(pretrained=False, progress=True, **kwargs)>,\n",
       " 'densenet169': <function net.densenet.densenet169(pretrained=False, progress=True, **kwargs)>,\n",
       " 'densenet201': <function net.densenet.densenet201(pretrained=False, progress=True, **kwargs)>,\n",
       " 'densenet161': <function net.densenet.densenet161(pretrained=False, progress=True, **kwargs)>,\n",
       " 'googlenet': <function net.googlenet.googlenet(pretrained=False, progress=True, **kwargs)>,\n",
       " 'GoogLeNet': net.googlenet.GoogLeNet,\n",
       " 'mobilenet': <module 'net.mobilenet' from '/mnt/chicm/bengali/nni/net/mobilenet.py'>,\n",
       " 'MobileNetV2': net.mobilenet.MobileNetV2,\n",
       " 'mobilenet_v2': <function net.mobilenet.mobilenet_v2(pretrained=False, progress=True, **kwargs)>,\n",
       " 'mnasnet': <module 'net.mnasnet' from '/mnt/chicm/bengali/nni/net/mnasnet.py'>,\n",
       " 'MNASNet': net.mnasnet.MNASNet,\n",
       " 'mnasnet0_5': <function net.mnasnet.mnasnet0_5(pretrained=False, progress=True, **kwargs)>,\n",
       " 'mnasnet0_75': <function net.mnasnet.mnasnet0_75(pretrained=False, progress=True, **kwargs)>,\n",
       " 'mnasnet1_0': <function net.mnasnet.mnasnet1_0(pretrained=False, progress=True, **kwargs)>,\n",
       " 'mnasnet1_3': <function net.mnasnet.mnasnet1_3(pretrained=False, progress=True, **kwargs)>,\n",
       " 'shufflenetv2': <module 'net.shufflenetv2' from '/mnt/chicm/bengali/nni/net/shufflenetv2.py'>,\n",
       " 'ShuffleNetV2': net.shufflenetv2.ShuffleNetV2,\n",
       " 'shufflenet_v2_x0_5': <function net.shufflenetv2.shufflenet_v2_x0_5(pretrained=False, progress=True, **kwargs)>,\n",
       " 'shufflenet_v2_x1_0': <function net.shufflenetv2.shufflenet_v2_x1_0(pretrained=False, progress=True, **kwargs)>,\n",
       " 'shufflenet_v2_x1_5': <function net.shufflenetv2.shufflenet_v2_x1_5(pretrained=False, progress=True, **kwargs)>,\n",
       " 'shufflenet_v2_x2_0': <function net.shufflenetv2.shufflenet_v2_x2_0(pretrained=False, progress=True, **kwargs)>,\n",
       " '_utils': <module 'net._utils' from '/mnt/chicm/bengali/nni/net/_utils.py'>,\n",
       " 'segmentation': <module 'net.segmentation' from '/mnt/chicm/bengali/nni/net/segmentation/__init__.py'>,\n",
       " 'detection': <module 'net.detection' from '/mnt/chicm/bengali/nni/net/detection/__init__.py'>,\n",
       " 'video': <module 'net.video' from '/mnt/chicm/bengali/nni/net/video/__init__.py'>}"
      ]
     },
     "execution_count": 21,
     "metadata": {},
     "output_type": "execute_result"
    }
   ],
   "source": [
    "net.__dict__"
   ]
  },
  {
   "cell_type": "code",
   "execution_count": 5,
   "metadata": {},
   "outputs": [
    {
     "name": "stdout",
     "output_type": "stream",
     "text": [
      "Name: torch\r\n",
      "Version: 1.2.0\r\n",
      "Summary: Tensors and Dynamic neural networks in Python with strong GPU acceleration\r\n",
      "Home-page: https://pytorch.org/\r\n",
      "Author: PyTorch Team\r\n",
      "Author-email: packages@pytorch.org\r\n",
      "License: BSD-3\r\n",
      "Location: /mnt/chicm/anaconda3/lib/python3.7/site-packages\r\n",
      "Requires: numpy\r\n",
      "Required-by: torchvision, pytorch-pretrained-bert, pretrainedmodels, efficientnet-pytorch\r\n"
     ]
    }
   ],
   "source": [
    "!pip show torch"
   ]
  },
  {
   "cell_type": "code",
   "execution_count": 20,
   "metadata": {},
   "outputs": [
    {
     "data": {
      "text/plain": [
       "True"
      ]
     },
     "execution_count": 20,
     "metadata": {},
     "output_type": "execute_result"
    }
   ],
   "source": [
    "'densenet201' in net.__dict__.keys()"
   ]
  },
  {
   "cell_type": "code",
   "execution_count": 22,
   "metadata": {},
   "outputs": [],
   "source": [
    "m = net.__dict__['densenet201']().cuda()"
   ]
  },
  {
   "cell_type": "code",
   "execution_count": 23,
   "metadata": {},
   "outputs": [],
   "source": [
    "m = nn.DataParallel(m)"
   ]
  },
  {
   "cell_type": "code",
   "execution_count": 24,
   "metadata": {},
   "outputs": [
    {
     "data": {
      "text/plain": [
       "torch.Size([2, 1920, 7, 7])"
      ]
     },
     "execution_count": 24,
     "metadata": {},
     "output_type": "execute_result"
    }
   ],
   "source": [
    "m.module.features(torch.randn(2,3,224,224).cuda()).size()"
   ]
  },
  {
   "cell_type": "code",
   "execution_count": null,
   "metadata": {},
   "outputs": [],
   "source": []
  }
 ],
 "metadata": {
  "kernelspec": {
   "display_name": "Python 3",
   "language": "python",
   "name": "python3"
  },
  "language_info": {
   "codemirror_mode": {
    "name": "ipython",
    "version": 3
   },
   "file_extension": ".py",
   "mimetype": "text/x-python",
   "name": "python",
   "nbconvert_exporter": "python",
   "pygments_lexer": "ipython3",
   "version": "3.7.4"
  }
 },
 "nbformat": 4,
 "nbformat_minor": 2
}
